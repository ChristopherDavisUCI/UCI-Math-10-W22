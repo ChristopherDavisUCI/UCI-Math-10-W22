{
 "cells": [
  {
   "cell_type": "markdown",
   "metadata": {
    "cell_id": "d22712ab-32d4-4a34-9ad3-5f00bfbf6f1c",
    "deepnote_cell_type": "markdown",
    "tags": []
   },
   "source": [
    "# PyTorch and Neural Networks 2\n",
    "\n",
    "[YuJa recording of lecture](https://uci.yuja.com/V/Video?v=4417722&node=14870050&a=1646074732&autoplay=1)\n",
    "\n",
    "Topics mentioned at the board (not in this notebook):\n",
    "* Importance of using activation functions to break linearity.\n",
    "* Common choices of activation functions: sigmoid and relu.\n",
    "* Concept of *one hot encoding*."
   ]
  },
  {
   "cell_type": "code",
   "execution_count": null,
   "metadata": {
    "cell_id": "964feea1-8bf9-4fa4-b092-4951967f9510",
    "deepnote_cell_type": "code",
    "deepnote_to_be_reexecuted": false,
    "execution_millis": 4828,
    "execution_start": 1645026895419,
    "source_hash": "777e8eaa",
    "tags": []
   },
   "outputs": [],
   "source": [
    "from tqdm.std import tqdm, trange\n",
    "from tqdm import notebook\n",
    "notebook.tqdm = tqdm\n",
    "notebook.trange = trange\n",
    "\n",
    "import pandas as pd\n",
    "import numpy as np\n",
    "import matplotlib.pyplot as plt\n",
    "\n",
    "import torch\n",
    "from torch import nn\n",
    "from torchvision import datasets\n",
    "from torchvision.transforms import ToTensor\n",
    "from torch.utils.data import DataLoader"
   ]
  },
  {
   "cell_type": "code",
   "execution_count": null,
   "metadata": {
    "cell_id": "b25be2e0-06dd-49e3-b182-b01fe6d6ce0d",
    "deepnote_cell_type": "code",
    "deepnote_to_be_reexecuted": false,
    "execution_millis": 131,
    "execution_start": 1645026944896,
    "source_hash": "3470a599",
    "tags": []
   },
   "outputs": [],
   "source": [
    "# Load the data\n",
    "training_data = datasets.MNIST(\n",
    "    root=\"data\",\n",
    "    train=True,\n",
    "    download=True,\n",
    "    transform=ToTensor(),\n",
    ")\n",
    "\n",
    "test_data = datasets.MNIST(\n",
    "    root=\"data\",\n",
    "    train=False,\n",
    "    download=True,\n",
    "    transform=ToTensor(),\n",
    ")"
   ]
  },
  {
   "cell_type": "markdown",
   "metadata": {
    "cell_id": "2b5fab80-0069-4818-97ca-7abd75eb9513",
    "deepnote_cell_type": "markdown",
    "tags": []
   },
   "source": [
    "Second YouTube video on *Neural Networks* from 3Blue1Brown.  This video is on *gradient descent*.  Recommended clips:\n",
    "* 0:25-1:24\n",
    "* 3:18-4:05\n",
    "* 5:15-7:50\n",
    "\n",
    "<iframe width=\"560\" height=\"315\" src=\"https://www.youtube.com/embed/IHZwWFHWa-w\" title=\"YouTube video player\" frameborder=\"0\" allow=\"accelerometer; autoplay; clipboard-write; encrypted-media; gyroscope; picture-in-picture\" allowfullscreen></iframe>"
   ]
  },
  {
   "cell_type": "markdown",
   "metadata": {
    "cell_id": "4639f990-1849-43e1-a4ba-09a004d705d5",
    "deepnote_cell_type": "markdown",
    "tags": []
   },
   "source": [
    "This is what we finished with on Monday:"
   ]
  },
  {
   "cell_type": "code",
   "execution_count": null,
   "metadata": {
    "cell_id": "f7517bcf-4088-44f0-b6b5-1f5b0d307456",
    "deepnote_cell_type": "code",
    "tags": []
   },
   "outputs": [],
   "source": [
    "class ThreeBlue(nn.Module):\n",
    "    def __init__(self):\n",
    "        super().__init__()\n",
    "        self.flatten = nn.Flatten()\n",
    "        self.layers = nn.Sequential(\n",
    "            nn.Linear(784,10)\n",
    "        )\n",
    "\n",
    "    def forward(self,x):\n",
    "        y = self.flatten(x)\n",
    "        z = self.layers(y)\n",
    "        return z"
   ]
  },
  {
   "cell_type": "markdown",
   "metadata": {},
   "source": [
    "We instantiate an object in this class as follows."
   ]
  },
  {
   "cell_type": "code",
   "execution_count": 1,
   "metadata": {},
   "outputs": [
    {
     "ename": "NameError",
     "evalue": "name 'ThreeBlue' is not defined",
     "output_type": "error",
     "traceback": [
      "\u001b[0;31m---------------------------------------------------------------------------\u001b[0m",
      "\u001b[0;31mNameError\u001b[0m                                 Traceback (most recent call last)",
      "\u001b[0;32m/var/folders/8j/gshrlmtn7dg4qtztj4d4t_w40000gn/T/ipykernel_92642/3756583844.py\u001b[0m in \u001b[0;36m<module>\u001b[0;34m\u001b[0m\n\u001b[0;32m----> 1\u001b[0;31m \u001b[0mwed\u001b[0m \u001b[0;34m=\u001b[0m \u001b[0mThreeBlue\u001b[0m\u001b[0;34m(\u001b[0m\u001b[0;34m)\u001b[0m\u001b[0;34m\u001b[0m\u001b[0;34m\u001b[0m\u001b[0m\n\u001b[0m",
      "\u001b[0;31mNameError\u001b[0m: name 'ThreeBlue' is not defined"
     ]
    }
   ],
   "source": [
    "wed = ThreeBlue()"
   ]
  },
  {
   "cell_type": "code",
   "execution_count": null,
   "metadata": {},
   "outputs": [],
   "source": []
  },
  {
   "cell_type": "code",
   "execution_count": null,
   "metadata": {
    "cell_id": "678d0308-be4d-4ea6-b6d5-66be4bb2c5b0",
    "deepnote_cell_type": "code",
    "deepnote_to_be_reexecuted": false,
    "execution_millis": 2,
    "execution_start": 1645028827880,
    "source_hash": "b42fb0e0",
    "tags": []
   },
   "outputs": [],
   "source": [
    "class ThreeBlue(nn.Module):\n",
    "    def __init__(self):\n",
    "        super().__init__()\n",
    "        self.flatten = nn.Flatten()\n",
    "        self.layers = nn.Sequential(\n",
    "            nn.Linear(784,16),\n",
    "            nn.Sigmoid(),\n",
    "            nn.Linear(16,16),\n",
    "            nn.Sigmoid(),\n",
    "            nn.Linear(16,10),\n",
    "            nn.Sigmoid()\n",
    "        )\n",
    "\n",
    "    def forward(self,x):\n",
    "        x = x/255\n",
    "        y = self.flatten(x)\n",
    "        z = self.layers(y)\n",
    "        return z"
   ]
  },
  {
   "cell_type": "code",
   "execution_count": null,
   "metadata": {
    "cell_id": "86981e7a-5bb3-49a3-b930-953f3c2cd80a",
    "deepnote_cell_type": "code",
    "deepnote_to_be_reexecuted": false,
    "execution_millis": 4,
    "execution_start": 1645028828820,
    "source_hash": "353affe8",
    "tags": []
   },
   "outputs": [],
   "source": [
    "wed = ThreeBlue()"
   ]
  },
  {
   "cell_type": "code",
   "execution_count": null,
   "metadata": {
    "cell_id": "acd5ae18-5457-44af-8ea4-4dded559f2db",
    "deepnote_cell_type": "code",
    "deepnote_to_be_reexecuted": false,
    "execution_millis": 5,
    "execution_start": 1645028862219,
    "source_hash": "800e8d26",
    "tags": []
   },
   "outputs": [
    {
     "name": "stdout",
     "output_type": "stream",
     "text": [
      "torch.Size([16, 784])\n",
      "torch.Size([16])\n",
      "torch.Size([16, 16])\n",
      "torch.Size([16])\n",
      "torch.Size([10, 16])\n",
      "torch.Size([10])\n"
     ]
    }
   ],
   "source": [
    "for p in wed.parameters():\n",
    "    print(p.shape)"
   ]
  },
  {
   "cell_type": "code",
   "execution_count": null,
   "metadata": {
    "cell_id": "73cf88fe-de77-4cfd-8a8d-97fd4147a639",
    "deepnote_cell_type": "code",
    "deepnote_to_be_reexecuted": false,
    "execution_millis": 6,
    "execution_start": 1645028896330,
    "source_hash": "ff029ba8",
    "tags": []
   },
   "outputs": [
    {
     "name": "stdout",
     "output_type": "stream",
     "text": [
      "12544\n",
      "16\n",
      "256\n",
      "16\n",
      "160\n",
      "10\n"
     ]
    }
   ],
   "source": [
    "for p in wed.parameters():\n",
    "    print(p.numel())"
   ]
  },
  {
   "cell_type": "code",
   "execution_count": null,
   "metadata": {
    "cell_id": "1ce93201-db9c-4051-bfb5-90cdaac3ca0f",
    "deepnote_cell_type": "code",
    "deepnote_output_heights": [
     21.1875
    ],
    "deepnote_to_be_reexecuted": false,
    "execution_millis": 5,
    "execution_start": 1645028977475,
    "source_hash": "91e4ea66",
    "tags": []
   },
   "outputs": [
    {
     "data": {
      "text/plain": [
       "13002"
      ]
     },
     "execution_count": 35,
     "metadata": {},
     "output_type": "execute_result"
    }
   ],
   "source": [
    "sum([p.numel() for p in wed.parameters()])"
   ]
  },
  {
   "cell_type": "code",
   "execution_count": null,
   "metadata": {
    "cell_id": "11b9e7c3-a1c0-4f0c-8232-86dc461e5c4a",
    "deepnote_cell_type": "code",
    "deepnote_output_heights": [
     21.1875
    ],
    "deepnote_to_be_reexecuted": false,
    "execution_millis": 6,
    "execution_start": 1645028989266,
    "source_hash": "90a4ed9f",
    "tags": []
   },
   "outputs": [
    {
     "data": {
      "text/plain": [
       "13002"
      ]
     },
     "execution_count": 36,
     "metadata": {},
     "output_type": "execute_result"
    }
   ],
   "source": [
    "sum(p.numel() for p in wed.parameters())"
   ]
  },
  {
   "cell_type": "code",
   "execution_count": null,
   "metadata": {
    "cell_id": "06d805f3-f56f-408f-b4d2-a399cded3f07",
    "deepnote_cell_type": "code",
    "deepnote_output_heights": [
     174.796875
    ],
    "deepnote_to_be_reexecuted": false,
    "execution_millis": 5,
    "execution_start": 1645028248017,
    "source_hash": "eea77758",
    "tags": []
   },
   "outputs": [
    {
     "data": {
      "text/plain": [
       "ThreeBlue(\n",
       "  (flatten): Flatten(start_dim=1, end_dim=-1)\n",
       "  (layers): Sequential(\n",
       "    (0): Linear(in_features=784, out_features=16, bias=True)\n",
       "    (1): Linear(in_features=16, out_features=16, bias=True)\n",
       "    (2): Linear(in_features=16, out_features=10, bias=True)\n",
       "    (3): Sigmoid()\n",
       "  )\n",
       ")"
      ]
     },
     "execution_count": 21,
     "metadata": {},
     "output_type": "execute_result"
    }
   ],
   "source": [
    "wed"
   ]
  },
  {
   "cell_type": "code",
   "execution_count": null,
   "metadata": {
    "cell_id": "89d03220-71ca-47c4-94b0-041174781561",
    "deepnote_cell_type": "code",
    "deepnote_output_heights": [
     117.1875
    ],
    "deepnote_to_be_reexecuted": false,
    "execution_millis": 159,
    "execution_start": 1645028307383,
    "source_hash": "6b75489a",
    "tags": []
   },
   "outputs": [
    {
     "data": {
      "text/plain": [
       "Sequential(\n",
       "  (0): Linear(in_features=784, out_features=16, bias=True)\n",
       "  (1): Linear(in_features=16, out_features=16, bias=True)\n",
       "  (2): Linear(in_features=16, out_features=10, bias=True)\n",
       "  (3): Sigmoid()\n",
       ")"
      ]
     },
     "execution_count": 22,
     "metadata": {},
     "output_type": "execute_result"
    }
   ],
   "source": [
    "wed.layers"
   ]
  },
  {
   "cell_type": "code",
   "execution_count": null,
   "metadata": {
    "cell_id": "84421baa-a9a5-441b-9517-58d8edbe606d",
    "deepnote_cell_type": "code",
    "deepnote_output_heights": [
     21.1875
    ],
    "deepnote_to_be_reexecuted": false,
    "execution_millis": 7,
    "execution_start": 1645028364513,
    "source_hash": "a4dc0b78",
    "tags": []
   },
   "outputs": [
    {
     "data": {
      "text/plain": [
       "torch.Size([10, 16])"
      ]
     },
     "execution_count": 25,
     "metadata": {},
     "output_type": "execute_result"
    }
   ],
   "source": [
    "wed.layers[2].weight.shape"
   ]
  },
  {
   "cell_type": "code",
   "execution_count": null,
   "metadata": {
    "cell_id": "b640a578-5d22-42b6-b5c4-435c69c6ee43",
    "deepnote_cell_type": "code",
    "deepnote_output_heights": [
     21.1875
    ],
    "deepnote_to_be_reexecuted": false,
    "execution_millis": 6,
    "execution_start": 1645028453399,
    "source_hash": "6c33b1b9",
    "tags": []
   },
   "outputs": [
    {
     "data": {
      "text/plain": [
       "torch.Size([10])"
      ]
     },
     "execution_count": 26,
     "metadata": {},
     "output_type": "execute_result"
    }
   ],
   "source": [
    "wed.layers[2].bias.shape"
   ]
  },
  {
   "cell_type": "code",
   "execution_count": null,
   "metadata": {
    "cell_id": "5666b03f-a42d-4687-b8e2-ec01d49530f2",
    "deepnote_cell_type": "code",
    "deepnote_output_heights": [
     155.59375
    ],
    "deepnote_to_be_reexecuted": false,
    "execution_millis": 352,
    "execution_start": 1645027568019,
    "source_hash": "c84fa41c",
    "tags": []
   },
   "outputs": [
    {
     "data": {
      "text/plain": [
       "tensor([[-55.2283, -56.4610,  54.5960,  ...,  -3.8436,  57.0099,  69.1157],\n",
       "        [-33.1065, -24.6902,  22.6003,  ...,  10.9671,  21.9622,  97.5362],\n",
       "        [-61.3301,  -8.5647, -27.5800,  ..., -41.4074,   2.2047,  66.7116],\n",
       "        ...,\n",
       "        [-40.8012, -53.5293, -59.4709,  ..., -31.5671, -49.3599,  82.7872],\n",
       "        [ 10.5128,  -4.7770,  14.8668,  ...,   5.6984,  58.1751,   7.1557],\n",
       "        [ -7.9452, -10.8654, -14.2437,  ...,  27.7169,  49.4617,  40.3107]],\n",
       "       grad_fn=<AddmmBackward0>)"
      ]
     },
     "execution_count": 7,
     "metadata": {},
     "output_type": "execute_result"
    }
   ],
   "source": [
    "wed(training_data.data.to(torch.float))"
   ]
  },
  {
   "cell_type": "code",
   "execution_count": null,
   "metadata": {
    "cell_id": "9f19c378-1a14-462d-ac34-8853d0dc57b0",
    "deepnote_cell_type": "code",
    "deepnote_output_heights": [
     155.59375
    ],
    "deepnote_to_be_reexecuted": false,
    "execution_millis": 397,
    "execution_start": 1645027615504,
    "source_hash": "f8ea099",
    "tags": []
   },
   "outputs": [
    {
     "data": {
      "text/plain": [
       "tensor([[-0.1932, -0.2259,  0.2297,  ..., -0.0067,  0.2211,  0.2962],\n",
       "        [-0.1065, -0.1013,  0.1042,  ...,  0.0514,  0.0836,  0.4076],\n",
       "        [-0.2171, -0.0381, -0.0926,  ..., -0.1540,  0.0061,  0.2868],\n",
       "        ...,\n",
       "        [-0.1366, -0.2144, -0.2176,  ..., -0.1154, -0.1961,  0.3498],\n",
       "        [ 0.0646, -0.0232,  0.0739,  ...,  0.0307,  0.2256,  0.0532],\n",
       "        [-0.0078, -0.0471, -0.0403,  ...,  0.1171,  0.1915,  0.1832]],\n",
       "       grad_fn=<AddmmBackward0>)"
      ]
     },
     "execution_count": 8,
     "metadata": {},
     "output_type": "execute_result"
    }
   ],
   "source": [
    "wed(training_data.data/255)"
   ]
  },
  {
   "cell_type": "code",
   "execution_count": null,
   "metadata": {
    "cell_id": "4aae3770-ec53-4ffc-a30a-20bfe223e046",
    "deepnote_cell_type": "code",
    "deepnote_output_heights": [
     21.1875
    ],
    "deepnote_to_be_reexecuted": false,
    "execution_millis": 4,
    "execution_start": 1645027641746,
    "source_hash": "ac392b54",
    "tags": []
   },
   "outputs": [
    {
     "data": {
      "text/plain": [
       "torch.Size([60000, 28, 28])"
      ]
     },
     "execution_count": 9,
     "metadata": {},
     "output_type": "execute_result"
    }
   ],
   "source": [
    "training_data.data.shape"
   ]
  },
  {
   "cell_type": "code",
   "execution_count": null,
   "metadata": {
    "cell_id": "6576c81e-5fd3-4060-a9ee-60c7a22ebcd9",
    "deepnote_cell_type": "code",
    "deepnote_output_heights": [
     21.1875
    ],
    "deepnote_to_be_reexecuted": false,
    "execution_millis": 184,
    "execution_start": 1645027673217,
    "source_hash": "637f1c8d",
    "tags": []
   },
   "outputs": [
    {
     "data": {
      "text/plain": [
       "torch.Size([60000, 28, 28])"
      ]
     },
     "execution_count": 10,
     "metadata": {},
     "output_type": "execute_result"
    }
   ],
   "source": [
    "(training_data.data/255).shape"
   ]
  },
  {
   "cell_type": "code",
   "execution_count": null,
   "metadata": {
    "cell_id": "58bbb113-ee9a-4f7d-84a6-eb6602d62f0b",
    "deepnote_cell_type": "code",
    "deepnote_output_heights": [
     21.1875
    ],
    "deepnote_to_be_reexecuted": false,
    "execution_millis": 200,
    "execution_start": 1645027683491,
    "source_hash": "dd5ea85",
    "tags": []
   },
   "outputs": [
    {
     "data": {
      "text/plain": [
       "torch.Size([60000, 10])"
      ]
     },
     "execution_count": 11,
     "metadata": {},
     "output_type": "execute_result"
    }
   ],
   "source": [
    "wed(training_data.data/255).shape"
   ]
  },
  {
   "cell_type": "code",
   "execution_count": null,
   "metadata": {
    "cell_id": "7397d13f-6f13-4913-9a66-34b8bb39cbbd",
    "deepnote_cell_type": "code",
    "deepnote_output_heights": [
     117.1875
    ],
    "deepnote_to_be_reexecuted": false,
    "execution_millis": 235,
    "execution_start": 1645027925083,
    "source_hash": "5cbda2e8",
    "tags": []
   },
   "outputs": [
    {
     "data": {
      "text/plain": [
       "tensor([[0.5288, 0.5101, 0.4396, 0.4913, 0.4751, 0.5183, 0.4840, 0.4438, 0.4579,\n",
       "         0.5159],\n",
       "        [0.5285, 0.4803, 0.4635, 0.4609, 0.3703, 0.4872, 0.4798, 0.4920, 0.4342,\n",
       "         0.5217],\n",
       "        [0.4437, 0.4366, 0.4977, 0.4573, 0.5392, 0.5174, 0.5090, 0.5097, 0.3944,\n",
       "         0.5027]], grad_fn=<SliceBackward0>)"
      ]
     },
     "execution_count": 18,
     "metadata": {},
     "output_type": "execute_result"
    }
   ],
   "source": [
    "wed(training_data.data)[:3]"
   ]
  },
  {
   "cell_type": "code",
   "execution_count": null,
   "metadata": {
    "cell_id": "f457b2b2-490b-46e6-8819-3a943ddbaf83",
    "deepnote_cell_type": "code",
    "deepnote_output_heights": [
     21.1875
    ],
    "deepnote_to_be_reexecuted": false,
    "execution_millis": 164,
    "execution_start": 1645029149996,
    "source_hash": "c38d27bb",
    "tags": []
   },
   "outputs": [],
   "source": [
    "y_pred = wed(training_data.data)"
   ]
  },
  {
   "cell_type": "code",
   "execution_count": null,
   "metadata": {
    "cell_id": "5acedcbd-af6a-43d3-95ae-b587d0952dfd",
    "deepnote_cell_type": "code",
    "deepnote_output_heights": [
     21.1875
    ],
    "deepnote_to_be_reexecuted": false,
    "execution_millis": 5,
    "execution_start": 1645029167259,
    "source_hash": "ca1e04e0",
    "tags": []
   },
   "outputs": [
    {
     "data": {
      "text/plain": [
       "tensor([5, 0, 4])"
      ]
     },
     "execution_count": 40,
     "metadata": {},
     "output_type": "execute_result"
    }
   ],
   "source": [
    "training_data.targets[:3]"
   ]
  },
  {
   "cell_type": "code",
   "execution_count": null,
   "metadata": {
    "cell_id": "30e21834-b9b3-4561-af67-e921fb851af0",
    "deepnote_cell_type": "code",
    "deepnote_to_be_reexecuted": false,
    "execution_millis": 1,
    "execution_start": 1645029265458,
    "source_hash": "e6242156",
    "tags": []
   },
   "outputs": [],
   "source": [
    "from torch.nn.functional import one_hot"
   ]
  },
  {
   "cell_type": "code",
   "execution_count": null,
   "metadata": {
    "cell_id": "8c76ecb0-767f-4e24-a4b0-d977e0cf9bae",
    "deepnote_cell_type": "code",
    "deepnote_output_heights": [
     59.59375
    ],
    "deepnote_to_be_reexecuted": false,
    "execution_millis": 9,
    "execution_start": 1645029344266,
    "source_hash": "4c1e3560",
    "tags": []
   },
   "outputs": [
    {
     "data": {
      "text/plain": [
       "tensor([[0., 0., 0., 0., 0., 1., 0., 0., 0., 0.],\n",
       "        [1., 0., 0., 0., 0., 0., 0., 0., 0., 0.],\n",
       "        [0., 0., 0., 0., 1., 0., 0., 0., 0., 0.]])"
      ]
     },
     "execution_count": 44,
     "metadata": {},
     "output_type": "execute_result"
    }
   ],
   "source": [
    "one_hot(training_data.targets[:3], num_classes=10).to(torch.float)"
   ]
  },
  {
   "cell_type": "code",
   "execution_count": null,
   "metadata": {
    "cell_id": "bcb7a5fd-a94a-4d25-84bb-5a07be31f106",
    "deepnote_cell_type": "code",
    "deepnote_to_be_reexecuted": false,
    "execution_millis": 5,
    "execution_start": 1645029381597,
    "source_hash": "3fa7e55c",
    "tags": []
   },
   "outputs": [],
   "source": [
    "y_true = one_hot(training_data.targets, num_classes=10).to(torch.float)"
   ]
  },
  {
   "cell_type": "code",
   "execution_count": null,
   "metadata": {
    "cell_id": "75d36399-5a32-4560-8671-eece891794ce",
    "deepnote_cell_type": "code",
    "deepnote_output_heights": [
     21.1875
    ],
    "deepnote_to_be_reexecuted": false,
    "execution_millis": 6,
    "execution_start": 1645029390714,
    "source_hash": "b96addef",
    "tags": []
   },
   "outputs": [
    {
     "data": {
      "text/plain": [
       "torch.Size([60000, 10])"
      ]
     },
     "execution_count": 46,
     "metadata": {},
     "output_type": "execute_result"
    }
   ],
   "source": [
    "y_true.shape"
   ]
  },
  {
   "cell_type": "code",
   "execution_count": null,
   "metadata": {
    "cell_id": "8ded52b8-edf4-4a6f-8749-3c8807984893",
    "deepnote_cell_type": "code",
    "deepnote_to_be_reexecuted": false,
    "execution_millis": 0,
    "execution_start": 1645029444008,
    "source_hash": "851002be",
    "tags": []
   },
   "outputs": [],
   "source": [
    "loss_fn = nn.MSELoss()"
   ]
  },
  {
   "cell_type": "code",
   "execution_count": null,
   "metadata": {
    "cell_id": "fe8a6f9f-2de1-41d6-9f76-811c5f674b23",
    "deepnote_cell_type": "code",
    "deepnote_output_heights": [
     21.1875
    ],
    "deepnote_to_be_reexecuted": false,
    "execution_millis": 10,
    "execution_start": 1645029463916,
    "source_hash": "1c9066c3",
    "tags": []
   },
   "outputs": [
    {
     "data": {
      "text/plain": [
       "tensor(0.3006, grad_fn=<MseLossBackward0>)"
      ]
     },
     "execution_count": 48,
     "metadata": {},
     "output_type": "execute_result"
    }
   ],
   "source": [
    "loss_fn(y_pred, y_true)"
   ]
  },
  {
   "cell_type": "code",
   "execution_count": null,
   "metadata": {
    "cell_id": "f954185a-d8a1-457b-b2f1-f70c0782edde",
    "deepnote_cell_type": "code",
    "deepnote_to_be_reexecuted": false,
    "execution_millis": 1,
    "execution_start": 1645029699412,
    "source_hash": "7b1ac3d0",
    "tags": []
   },
   "outputs": [],
   "source": [
    "optimizer = torch.optim.SGD(wed.parameters(), lr=0.1)"
   ]
  },
  {
   "cell_type": "code",
   "execution_count": null,
   "metadata": {
    "cell_id": "a192dcdc-c9c0-44a6-984e-807e07bd6509",
    "deepnote_cell_type": "code",
    "deepnote_to_be_reexecuted": false,
    "execution_millis": 5,
    "execution_start": 1645029736991,
    "source_hash": "840e062f",
    "tags": []
   },
   "outputs": [
    {
     "name": "stdout",
     "output_type": "stream",
     "text": [
      "None\n",
      "None\n",
      "None\n",
      "None\n",
      "None\n",
      "None\n"
     ]
    }
   ],
   "source": [
    "for p in wed.parameters():\n",
    "    print(p.grad)"
   ]
  },
  {
   "cell_type": "code",
   "execution_count": null,
   "metadata": {
    "cell_id": "e3a2b290-245c-4868-8a9c-ba91f6ba4ef0",
    "deepnote_cell_type": "code",
    "deepnote_to_be_reexecuted": false,
    "execution_millis": 3,
    "execution_start": 1645029757551,
    "source_hash": "2a393a20",
    "tags": []
   },
   "outputs": [],
   "source": [
    "loss = loss_fn(y_pred, y_true)"
   ]
  },
  {
   "cell_type": "code",
   "execution_count": null,
   "metadata": {
    "cell_id": "8880f57f-09a3-4a6c-9444-0488e5f88b0e",
    "deepnote_cell_type": "code",
    "deepnote_to_be_reexecuted": false,
    "execution_millis": 5,
    "execution_start": 1645029772049,
    "source_hash": "840e062f",
    "tags": []
   },
   "outputs": [
    {
     "name": "stdout",
     "output_type": "stream",
     "text": [
      "None\n",
      "None\n",
      "None\n",
      "None\n",
      "None\n",
      "None\n"
     ]
    }
   ],
   "source": [
    "for p in wed.parameters():\n",
    "    print(p.grad)"
   ]
  },
  {
   "cell_type": "code",
   "execution_count": null,
   "metadata": {
    "cell_id": "de1c5ec9-6e6d-46e1-9615-006557c7a833",
    "deepnote_cell_type": "code",
    "deepnote_to_be_reexecuted": false,
    "execution_millis": 73,
    "execution_start": 1645029802373,
    "source_hash": "f4c34168",
    "tags": []
   },
   "outputs": [],
   "source": [
    "loss.backward()"
   ]
  },
  {
   "cell_type": "code",
   "execution_count": null,
   "metadata": {
    "cell_id": "fb71589f-b590-400e-871f-6c1400561388",
    "deepnote_cell_type": "code",
    "deepnote_to_be_reexecuted": false,
    "execution_millis": 10,
    "execution_start": 1645029828879,
    "source_hash": "840e062f",
    "tags": []
   },
   "outputs": [
    {
     "name": "stdout",
     "output_type": "stream",
     "text": [
      "tensor([[0., 0., 0.,  ..., 0., 0., 0.],\n",
      "        [0., 0., 0.,  ..., 0., 0., 0.],\n",
      "        [0., 0., 0.,  ..., 0., 0., 0.],\n",
      "        ...,\n",
      "        [0., 0., 0.,  ..., 0., 0., 0.],\n",
      "        [0., 0., 0.,  ..., 0., 0., 0.],\n",
      "        [0., 0., 0.,  ..., 0., 0., 0.]])\n",
      "tensor([ 3.1897e-04, -8.1853e-04, -1.6588e-04, -1.8961e-04, -8.2379e-05,\n",
      "         8.7279e-04, -2.6662e-04,  1.0267e-04,  3.3947e-04,  5.7145e-04,\n",
      "         5.8615e-04, -6.6343e-05,  1.0942e-03,  4.5065e-04,  4.0523e-04,\n",
      "        -7.4472e-05])\n",
      "tensor([[ 0.0005,  0.0004,  0.0004,  0.0005,  0.0004,  0.0004,  0.0004,  0.0005,\n",
      "          0.0004,  0.0004,  0.0004,  0.0005,  0.0004,  0.0004,  0.0004,  0.0004],\n",
      "        [-0.0014, -0.0014, -0.0014, -0.0015, -0.0013, -0.0013, -0.0013, -0.0015,\n",
      "         -0.0014, -0.0014, -0.0014, -0.0016, -0.0013, -0.0012, -0.0015, -0.0014],\n",
      "        [ 0.0006,  0.0006,  0.0006,  0.0007,  0.0005,  0.0006,  0.0006,  0.0006,\n",
      "          0.0006,  0.0006,  0.0006,  0.0007,  0.0006,  0.0005,  0.0006,  0.0006],\n",
      "        [ 0.0038,  0.0037,  0.0037,  0.0042,  0.0035,  0.0036,  0.0036,  0.0040,\n",
      "          0.0038,  0.0039,  0.0039,  0.0042,  0.0035,  0.0034,  0.0040,  0.0039],\n",
      "        [ 0.0004,  0.0004,  0.0004,  0.0004,  0.0004,  0.0004,  0.0004,  0.0004,\n",
      "          0.0004,  0.0004,  0.0004,  0.0005,  0.0004,  0.0003,  0.0004,  0.0004],\n",
      "        [-0.0006, -0.0005, -0.0006, -0.0007, -0.0005, -0.0005, -0.0005, -0.0006,\n",
      "         -0.0006, -0.0006, -0.0006, -0.0006, -0.0005, -0.0005, -0.0006, -0.0006],\n",
      "        [ 0.0002,  0.0001,  0.0002,  0.0002,  0.0001,  0.0001,  0.0001,  0.0002,\n",
      "          0.0001,  0.0001,  0.0001,  0.0002,  0.0001,  0.0001,  0.0002,  0.0001],\n",
      "        [ 0.0024,  0.0022,  0.0023,  0.0026,  0.0021,  0.0022,  0.0022,  0.0025,\n",
      "          0.0023,  0.0024,  0.0024,  0.0026,  0.0022,  0.0021,  0.0024,  0.0024],\n",
      "        [-0.0022, -0.0021, -0.0021, -0.0024, -0.0020, -0.0021, -0.0021, -0.0023,\n",
      "         -0.0022, -0.0023, -0.0022, -0.0025, -0.0021, -0.0020, -0.0023, -0.0022],\n",
      "        [ 0.0014,  0.0014,  0.0014,  0.0016,  0.0013,  0.0013,  0.0013,  0.0015,\n",
      "          0.0014,  0.0015,  0.0014,  0.0016,  0.0013,  0.0013,  0.0015,  0.0014],\n",
      "        [ 0.0029,  0.0028,  0.0028,  0.0032,  0.0027,  0.0027,  0.0027,  0.0030,\n",
      "          0.0029,  0.0030,  0.0029,  0.0032,  0.0027,  0.0026,  0.0031,  0.0029],\n",
      "        [-0.0004, -0.0004, -0.0004, -0.0005, -0.0004, -0.0004, -0.0004, -0.0004,\n",
      "         -0.0004, -0.0004, -0.0004, -0.0005, -0.0004, -0.0004, -0.0004, -0.0004],\n",
      "        [-0.0009, -0.0009, -0.0009, -0.0010, -0.0009, -0.0009, -0.0009, -0.0010,\n",
      "         -0.0009, -0.0010, -0.0010, -0.0010, -0.0009, -0.0008, -0.0010, -0.0010],\n",
      "        [ 0.0024,  0.0023,  0.0023,  0.0026,  0.0022,  0.0023,  0.0022,  0.0025,\n",
      "          0.0024,  0.0025,  0.0024,  0.0026,  0.0022,  0.0021,  0.0025,  0.0024],\n",
      "        [-0.0007, -0.0007, -0.0007, -0.0008, -0.0007, -0.0007, -0.0007, -0.0008,\n",
      "         -0.0007, -0.0007, -0.0007, -0.0008, -0.0007, -0.0006, -0.0007, -0.0007],\n",
      "        [ 0.0009,  0.0009,  0.0009,  0.0010,  0.0008,  0.0009,  0.0008,  0.0010,\n",
      "          0.0009,  0.0009,  0.0009,  0.0010,  0.0008,  0.0008,  0.0010,  0.0009]])\n",
      "tensor([ 0.0009, -0.0028,  0.0012,  0.0076,  0.0008, -0.0011,  0.0003,  0.0046,\n",
      "        -0.0044,  0.0028,  0.0058, -0.0008, -0.0019,  0.0048, -0.0014,  0.0018])\n",
      "tensor([[0.0147, 0.0116, 0.0109, 0.0135, 0.0081, 0.0108, 0.0107, 0.0146, 0.0119,\n",
      "         0.0133, 0.0130, 0.0118, 0.0112, 0.0156, 0.0125, 0.0109],\n",
      "        [0.0131, 0.0103, 0.0097, 0.0119, 0.0071, 0.0095, 0.0095, 0.0129, 0.0106,\n",
      "         0.0118, 0.0115, 0.0105, 0.0099, 0.0139, 0.0112, 0.0096],\n",
      "        [0.0134, 0.0106, 0.0099, 0.0123, 0.0074, 0.0098, 0.0097, 0.0133, 0.0108,\n",
      "         0.0121, 0.0118, 0.0107, 0.0102, 0.0143, 0.0114, 0.0099],\n",
      "        [0.0155, 0.0122, 0.0114, 0.0141, 0.0085, 0.0113, 0.0112, 0.0153, 0.0125,\n",
      "         0.0140, 0.0136, 0.0124, 0.0118, 0.0164, 0.0131, 0.0114],\n",
      "        [0.0118, 0.0093, 0.0087, 0.0108, 0.0065, 0.0086, 0.0086, 0.0117, 0.0096,\n",
      "         0.0107, 0.0104, 0.0094, 0.0090, 0.0126, 0.0100, 0.0087],\n",
      "        [0.0104, 0.0082, 0.0077, 0.0095, 0.0057, 0.0076, 0.0075, 0.0103, 0.0084,\n",
      "         0.0094, 0.0092, 0.0083, 0.0079, 0.0111, 0.0089, 0.0077],\n",
      "        [0.0142, 0.0112, 0.0104, 0.0129, 0.0078, 0.0103, 0.0103, 0.0140, 0.0114,\n",
      "         0.0128, 0.0125, 0.0113, 0.0108, 0.0151, 0.0120, 0.0104],\n",
      "        [0.0108, 0.0085, 0.0080, 0.0098, 0.0059, 0.0078, 0.0078, 0.0106, 0.0087,\n",
      "         0.0097, 0.0095, 0.0086, 0.0082, 0.0114, 0.0091, 0.0079],\n",
      "        [0.0125, 0.0098, 0.0092, 0.0114, 0.0068, 0.0091, 0.0090, 0.0123, 0.0101,\n",
      "         0.0113, 0.0110, 0.0100, 0.0095, 0.0133, 0.0106, 0.0092],\n",
      "        [0.0156, 0.0123, 0.0115, 0.0143, 0.0085, 0.0113, 0.0113, 0.0154, 0.0126,\n",
      "         0.0141, 0.0138, 0.0124, 0.0119, 0.0166, 0.0132, 0.0115]])\n",
      "tensor([0.0239, 0.0212, 0.0217, 0.0251, 0.0192, 0.0169, 0.0229, 0.0174, 0.0202,\n",
      "        0.0253])\n"
     ]
    }
   ],
   "source": [
    "for p in wed.parameters():\n",
    "    print(p.grad)"
   ]
  },
  {
   "cell_type": "code",
   "execution_count": null,
   "metadata": {
    "cell_id": "95a66aff-99bf-4402-aa55-352b0a024662",
    "deepnote_cell_type": "code",
    "deepnote_to_be_reexecuted": false,
    "execution_millis": 3,
    "execution_start": 1645029864947,
    "source_hash": "8a03d43",
    "tags": []
   },
   "outputs": [],
   "source": [
    "optimizer.step()"
   ]
  },
  {
   "cell_type": "code",
   "execution_count": null,
   "metadata": {
    "cell_id": "0c118ca0-a98b-4c2a-bd7c-2ddf9070aace",
    "deepnote_cell_type": "code",
    "deepnote_output_heights": [
     117.171875
    ],
    "deepnote_to_be_reexecuted": false,
    "execution_millis": 290,
    "execution_start": 1645029904666,
    "source_hash": "5cbda2e8",
    "tags": []
   },
   "outputs": [
    {
     "data": {
      "text/plain": [
       "tensor([[0.5898, 0.5361, 0.5328, 0.7045, 0.4790, 0.4328, 0.5631, 0.4541, 0.4985,\n",
       "         0.6916],\n",
       "        [0.5903, 0.5355, 0.5326, 0.7043, 0.4787, 0.4321, 0.5617, 0.4532, 0.4974,\n",
       "         0.6917],\n",
       "        [0.5899, 0.5350, 0.5340, 0.7043, 0.4788, 0.4327, 0.5630, 0.4531, 0.4975,\n",
       "         0.6917]], grad_fn=<SliceBackward0>)"
      ]
     },
     "execution_count": 56,
     "metadata": {},
     "output_type": "execute_result"
    }
   ],
   "source": [
    "wed(training_data.data)[:3]"
   ]
  },
  {
   "cell_type": "code",
   "execution_count": null,
   "metadata": {
    "cell_id": "9f20bf91-15c8-4920-92f7-64d8efb869f0",
    "deepnote_cell_type": "code",
    "deepnote_to_be_reexecuted": false,
    "execution_millis": 2676,
    "execution_start": 1645030099505,
    "source_hash": "45454d0c",
    "tags": []
   },
   "outputs": [
    {
     "name": "stdout",
     "output_type": "stream",
     "text": [
      "tensor(0.2980, grad_fn=<MseLossBackward0>)\n",
      "tensor(0.2955, grad_fn=<MseLossBackward0>)\n",
      "tensor(0.2930, grad_fn=<MseLossBackward0>)\n",
      "tensor(0.2905, grad_fn=<MseLossBackward0>)\n",
      "tensor(0.2881, grad_fn=<MseLossBackward0>)\n",
      "tensor(0.2856, grad_fn=<MseLossBackward0>)\n",
      "tensor(0.2832, grad_fn=<MseLossBackward0>)\n",
      "tensor(0.2808, grad_fn=<MseLossBackward0>)\n",
      "tensor(0.2785, grad_fn=<MseLossBackward0>)\n",
      "tensor(0.2762, grad_fn=<MseLossBackward0>)\n"
     ]
    }
   ],
   "source": [
    "epochs = 10\n",
    "\n",
    "for i in range(epochs):\n",
    "    y_true = one_hot(training_data.targets, num_classes=10).to(torch.float)\n",
    "    y_pred = wed(training_data.data)\n",
    "    loss = loss_fn(y_true,y_pred)\n",
    "    optimizer.zero_grad()\n",
    "    loss.backward()\n",
    "    optimizer.step()\n",
    "    print(loss)"
   ]
  },
  {
   "cell_type": "code",
   "execution_count": null,
   "metadata": {
    "cell_id": "e0d737f6-37a8-4e6b-8d40-2aae30106986",
    "deepnote_cell_type": "code",
    "deepnote_to_be_reexecuted": false,
    "execution_millis": 25992,
    "execution_start": 1645030307420,
    "source_hash": "c2edfe7a",
    "tags": []
   },
   "outputs": [
    {
     "name": "stdout",
     "output_type": "stream",
     "text": [
      "tensor(0.1072, grad_fn=<MseLossBackward0>)\n",
      "tensor(0.1069, grad_fn=<MseLossBackward0>)\n",
      "tensor(0.1066, grad_fn=<MseLossBackward0>)\n",
      "tensor(0.1064, grad_fn=<MseLossBackward0>)\n",
      "tensor(0.1061, grad_fn=<MseLossBackward0>)\n",
      "tensor(0.1058, grad_fn=<MseLossBackward0>)\n",
      "tensor(0.1056, grad_fn=<MseLossBackward0>)\n",
      "tensor(0.1053, grad_fn=<MseLossBackward0>)\n",
      "tensor(0.1050, grad_fn=<MseLossBackward0>)\n",
      "tensor(0.1048, grad_fn=<MseLossBackward0>)\n",
      "tensor(0.1045, grad_fn=<MseLossBackward0>)\n",
      "tensor(0.1043, grad_fn=<MseLossBackward0>)\n",
      "tensor(0.1041, grad_fn=<MseLossBackward0>)\n",
      "tensor(0.1038, grad_fn=<MseLossBackward0>)\n",
      "tensor(0.1036, grad_fn=<MseLossBackward0>)\n",
      "tensor(0.1034, grad_fn=<MseLossBackward0>)\n",
      "tensor(0.1032, grad_fn=<MseLossBackward0>)\n",
      "tensor(0.1030, grad_fn=<MseLossBackward0>)\n",
      "tensor(0.1028, grad_fn=<MseLossBackward0>)\n",
      "tensor(0.1026, grad_fn=<MseLossBackward0>)\n",
      "tensor(0.1024, grad_fn=<MseLossBackward0>)\n",
      "tensor(0.1022, grad_fn=<MseLossBackward0>)\n",
      "tensor(0.1020, grad_fn=<MseLossBackward0>)\n",
      "tensor(0.1018, grad_fn=<MseLossBackward0>)\n",
      "tensor(0.1016, grad_fn=<MseLossBackward0>)\n",
      "tensor(0.1014, grad_fn=<MseLossBackward0>)\n",
      "tensor(0.1013, grad_fn=<MseLossBackward0>)\n",
      "tensor(0.1011, grad_fn=<MseLossBackward0>)\n",
      "tensor(0.1009, grad_fn=<MseLossBackward0>)\n",
      "tensor(0.1008, grad_fn=<MseLossBackward0>)\n",
      "tensor(0.1006, grad_fn=<MseLossBackward0>)\n",
      "tensor(0.1004, grad_fn=<MseLossBackward0>)\n",
      "tensor(0.1003, grad_fn=<MseLossBackward0>)\n",
      "tensor(0.1001, grad_fn=<MseLossBackward0>)\n",
      "tensor(0.1000, grad_fn=<MseLossBackward0>)\n",
      "tensor(0.0998, grad_fn=<MseLossBackward0>)\n",
      "tensor(0.0997, grad_fn=<MseLossBackward0>)\n",
      "tensor(0.0996, grad_fn=<MseLossBackward0>)\n",
      "tensor(0.0994, grad_fn=<MseLossBackward0>)\n",
      "tensor(0.0993, grad_fn=<MseLossBackward0>)\n",
      "tensor(0.0991, grad_fn=<MseLossBackward0>)\n",
      "tensor(0.0990, grad_fn=<MseLossBackward0>)\n",
      "tensor(0.0989, grad_fn=<MseLossBackward0>)\n",
      "tensor(0.0988, grad_fn=<MseLossBackward0>)\n",
      "tensor(0.0986, grad_fn=<MseLossBackward0>)\n",
      "tensor(0.0985, grad_fn=<MseLossBackward0>)\n",
      "tensor(0.0984, grad_fn=<MseLossBackward0>)\n",
      "tensor(0.0983, grad_fn=<MseLossBackward0>)\n",
      "tensor(0.0982, grad_fn=<MseLossBackward0>)\n",
      "tensor(0.0980, grad_fn=<MseLossBackward0>)\n"
     ]
    }
   ],
   "source": [
    "epochs = 100\n",
    "\n",
    "for i in range(epochs):\n",
    "    y_true = one_hot(training_data.targets, num_classes=10).to(torch.float)\n",
    "    y_pred = wed(training_data.data)\n",
    "    loss = loss_fn(y_true,y_pred)\n",
    "    optimizer.zero_grad()\n",
    "    loss.backward()\n",
    "    optimizer.step()\n",
    "    if i%2 == 0:\n",
    "        print(loss)"
   ]
  },
  {
   "cell_type": "code",
   "execution_count": null,
   "metadata": {
    "cell_id": "fd82a166-4759-4e0c-b899-dbe0cdfb0e9d",
    "deepnote_cell_type": "code",
    "deepnote_to_be_reexecuted": false,
    "execution_millis": 3,
    "execution_start": 1645030352499,
    "source_hash": "85e60caf",
    "tags": []
   },
   "outputs": [],
   "source": [
    "optimizer = torch.optim.SGD(wed.parameters(), lr=5000)"
   ]
  },
  {
   "cell_type": "code",
   "execution_count": null,
   "metadata": {
    "cell_id": "b38d8a40-f353-463e-9bb4-836e81bed260",
    "deepnote_cell_type": "code",
    "deepnote_to_be_reexecuted": false,
    "execution_millis": 0,
    "execution_start": 1645030387319,
    "source_hash": "353affe8",
    "tags": []
   },
   "outputs": [],
   "source": [
    "wed = ThreeBlue()"
   ]
  },
  {
   "cell_type": "code",
   "execution_count": null,
   "metadata": {
    "cell_id": "06157912-575a-4d05-86ea-c2c6302bb125",
    "deepnote_cell_type": "code",
    "deepnote_to_be_reexecuted": false,
    "execution_millis": 27074,
    "execution_start": 1645030389949,
    "source_hash": "c2edfe7a",
    "tags": []
   },
   "outputs": [
    {
     "name": "stdout",
     "output_type": "stream",
     "text": [
      "tensor(0.2433, grad_fn=<MseLossBackward0>)\n",
      "tensor(0.2433, grad_fn=<MseLossBackward0>)\n",
      "tensor(0.2433, grad_fn=<MseLossBackward0>)\n",
      "tensor(0.2433, grad_fn=<MseLossBackward0>)\n",
      "tensor(0.2433, grad_fn=<MseLossBackward0>)\n",
      "tensor(0.2433, grad_fn=<MseLossBackward0>)\n",
      "tensor(0.2433, grad_fn=<MseLossBackward0>)\n",
      "tensor(0.2433, grad_fn=<MseLossBackward0>)\n",
      "tensor(0.2433, grad_fn=<MseLossBackward0>)\n",
      "tensor(0.2433, grad_fn=<MseLossBackward0>)\n",
      "tensor(0.2433, grad_fn=<MseLossBackward0>)\n",
      "tensor(0.2433, grad_fn=<MseLossBackward0>)\n",
      "tensor(0.2433, grad_fn=<MseLossBackward0>)\n",
      "tensor(0.2433, grad_fn=<MseLossBackward0>)\n",
      "tensor(0.2433, grad_fn=<MseLossBackward0>)\n",
      "tensor(0.2433, grad_fn=<MseLossBackward0>)\n",
      "tensor(0.2433, grad_fn=<MseLossBackward0>)\n",
      "tensor(0.2433, grad_fn=<MseLossBackward0>)\n",
      "tensor(0.2433, grad_fn=<MseLossBackward0>)\n",
      "tensor(0.2433, grad_fn=<MseLossBackward0>)\n",
      "tensor(0.2433, grad_fn=<MseLossBackward0>)\n",
      "tensor(0.2433, grad_fn=<MseLossBackward0>)\n",
      "tensor(0.2433, grad_fn=<MseLossBackward0>)\n",
      "tensor(0.2433, grad_fn=<MseLossBackward0>)\n",
      "tensor(0.2433, grad_fn=<MseLossBackward0>)\n",
      "tensor(0.2433, grad_fn=<MseLossBackward0>)\n",
      "tensor(0.2433, grad_fn=<MseLossBackward0>)\n",
      "tensor(0.2433, grad_fn=<MseLossBackward0>)\n",
      "tensor(0.2433, grad_fn=<MseLossBackward0>)\n",
      "tensor(0.2433, grad_fn=<MseLossBackward0>)\n",
      "tensor(0.2433, grad_fn=<MseLossBackward0>)\n",
      "tensor(0.2433, grad_fn=<MseLossBackward0>)\n",
      "tensor(0.2433, grad_fn=<MseLossBackward0>)\n",
      "tensor(0.2433, grad_fn=<MseLossBackward0>)\n",
      "tensor(0.2433, grad_fn=<MseLossBackward0>)\n",
      "tensor(0.2433, grad_fn=<MseLossBackward0>)\n",
      "tensor(0.2433, grad_fn=<MseLossBackward0>)\n",
      "tensor(0.2433, grad_fn=<MseLossBackward0>)\n",
      "tensor(0.2433, grad_fn=<MseLossBackward0>)\n",
      "tensor(0.2433, grad_fn=<MseLossBackward0>)\n",
      "tensor(0.2433, grad_fn=<MseLossBackward0>)\n",
      "tensor(0.2433, grad_fn=<MseLossBackward0>)\n",
      "tensor(0.2433, grad_fn=<MseLossBackward0>)\n",
      "tensor(0.2433, grad_fn=<MseLossBackward0>)\n",
      "tensor(0.2433, grad_fn=<MseLossBackward0>)\n",
      "tensor(0.2433, grad_fn=<MseLossBackward0>)\n",
      "tensor(0.2433, grad_fn=<MseLossBackward0>)\n",
      "tensor(0.2433, grad_fn=<MseLossBackward0>)\n",
      "tensor(0.2433, grad_fn=<MseLossBackward0>)\n",
      "tensor(0.2433, grad_fn=<MseLossBackward0>)\n"
     ]
    }
   ],
   "source": [
    "epochs = 100\n",
    "\n",
    "for i in range(epochs):\n",
    "    y_true = one_hot(training_data.targets, num_classes=10).to(torch.float)\n",
    "    y_pred = wed(training_data.data)\n",
    "    loss = loss_fn(y_true,y_pred)\n",
    "    optimizer.zero_grad()\n",
    "    loss.backward()\n",
    "    optimizer.step()\n",
    "    if i%2 == 0:\n",
    "        print(loss)"
   ]
  },
  {
   "cell_type": "code",
   "execution_count": null,
   "metadata": {
    "cell_id": "574df383-2ab3-463b-9d4d-bf2a6bc902cd",
    "deepnote_cell_type": "code",
    "tags": []
   },
   "outputs": [],
   "source": []
  },
  {
   "cell_type": "markdown",
   "metadata": {
    "created_in_deepnote_cell": true,
    "deepnote_cell_type": "markdown",
    "tags": []
   },
   "source": [
    "<a style='text-decoration:none;line-height:16px;display:flex;color:#5B5B62;padding:10px;justify-content:end;' href='https://deepnote.com?utm_source=created-in-deepnote-cell&projectId=7aba66cf-2a09-47de-a62a-78713e9a79bd' target=\"_blank\">\n",
    "<img alt='Created in deepnote.com' style='display:inline;max-height:16px;margin:0px;margin-right:7.5px;' src='data:image/svg+xml;base64,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' > </img>\n",
    "Created in <span style='font-weight:600;margin-left:4px;'>Deepnote</span></a>"
   ]
  }
 ],
 "metadata": {
  "deepnote": {
   "is_reactive": false
  },
  "deepnote_execution_queue": [],
  "deepnote_notebook_id": "f0dba5ce-bbc0-4257-b9ae-422593313087",
  "kernelspec": {
   "display_name": "Python 3 (ipykernel)",
   "language": "python",
   "name": "python3"
  },
  "language_info": {
   "codemirror_mode": {
    "name": "ipython",
    "version": 3
   },
   "file_extension": ".py",
   "mimetype": "text/x-python",
   "name": "python",
   "nbconvert_exporter": "python",
   "pygments_lexer": "ipython3",
   "version": "3.9.9"
  }
 },
 "nbformat": 4,
 "nbformat_minor": 4
}
