{
 "cells": [
  {
   "cell_type": "markdown",
   "metadata": {
    "cell_id": "760cd181-8972-4547-bbd7-63d9861b5e1d",
    "deepnote_cell_type": "markdown",
    "tags": []
   },
   "source": [
    "# Homework 4\n",
    "\n",
    "**Remark**: This might not reflect updates, so check the Deepnote file for the official version.\n",
    "\n",
    "List your name and the names of any collaborators at the top of this notebook.\n",
    "\n",
    "(Reminder: It’s encouraged to work together; you can even submit the exact same homework as another student or two students, but you must list each other’s names at the top.)"
   ]
  },
  {
   "cell_type": "markdown",
   "metadata": {
    "cell_id": "4156f36c-c82d-47e8-91d1-6cfc1fa513a2",
    "deepnote_cell_type": "markdown",
    "tags": []
   },
   "source": [
    "## Overview\n",
    "\n",
    "This project includes a csv file `unemployment.csv` which includes US unemployment rates for various industries between 2000 and 2010.  Load that csv file using `pd.read_csv` and save the resulting DataFrame as `df`.\n",
    "\n",
    "The background question for this homework is,\n",
    "* How does the time of year affect unemployment in different industries?"
   ]
  },
  {
   "cell_type": "markdown",
   "metadata": {
    "cell_id": "44c40087-45af-479e-8f5f-328f6d04028a",
    "deepnote_cell_type": "markdown",
    "tags": []
   },
   "source": [
    "## Extracting the month from the date\n",
    "\n",
    "The DataFrame includes a \"date\" column, whose entries are strings.  Use each of the following methods to extract the month (represented as an integer from 1 to 12) from the date.\n",
    "\n",
    "1.  If we wanted to get the year from a string like `s = '2000-01-01 08:00:00+00:00'`, we could use `s[0:4]`.  Adapt that strategy to get a pandas Series containing the month for each row, using `map` and a `lambda` function.  Convert the entries from strings to integers using `int`.\n",
    "\n",
    "2.  Another option is to use `s.split(\"-\")`.  Use that strategy, again together with `map`, a `lambda` function, and `int`.\n",
    "\n",
    "3.  A more sophisticated option is to, as a first step, convert the `dtype` of the \"date\" column using `to_datetime`.  (In other words, replace what's in the \"date\" column so they are no longer strings; this doesn't require `map`.)  If `t` is one of the entries in the resulting column, then you can use `t.month` to get the month.  Again use `map` and a `lambda` function.\n",
    "\n",
    "4.  The best method is probably to avoid using `map` completely.  Convert the column again using `to_datetime`, and then adapt one of the methods from the [pandas documentation](https://pandas.pydata.org/docs/reference/api/pandas.Series.dt.html) to convert each entry in the series into a month number.\n",
    "\n",
    "5.  Using that last method, create a new column in the in the DataFrame containing these months.  Name that column \"month\".\n",
    "\n",
    "If everything went correctly, the `dtype` of the \"date\" column should now be `datetime64[ns, UTC]`, and the `dtype` of the \"month\" column should be `int64`."
   ]
  },
  {
   "cell_type": "markdown",
   "metadata": {
    "cell_id": "ca06b0c1-bdaa-47f4-8358-fc2681a60420",
    "deepnote_cell_type": "markdown",
    "tags": []
   },
   "source": [
    "## Plotting the data 1\n",
    "\n",
    "Use Altair and `mark_circle` to make a scatter plot of the data, placing \"date\" along the x-axis, \"rate\" along the y-axis, and coloring the points using \"industry\".  Include a tooltip showing the \"month\" and \"industry\"."
   ]
  },
  {
   "cell_type": "markdown",
   "metadata": {
    "cell_id": "d1210f08-46b1-4c50-9618-d4b77b193488",
    "deepnote_cell_type": "markdown",
    "tags": []
   },
   "source": [
    "## Plotting the data 2\n",
    "\n",
    "Adapt the [stacked bar chart](https://altair-viz.github.io/gallery/stacked_bar_chart.html) example from the Altair documentation to make a stacked bar chart of the data.  Use \"month\" for the x-axis, \"mean(rate)\" for the y-axis, and again \"industry\" for the color.  Specify an [encoding data type](https://altair-viz.github.io/user_guide/encoding.html#encoding-data-types) for the \"month\" column so that the plot looks better.  (What is the appropriate data type for the discrete set 1, 2, ..., 11, 12?)"
   ]
  },
  {
   "cell_type": "markdown",
   "metadata": {
    "cell_id": "547c1ba4-395f-4924-9010-5d7e71c7b5d1",
    "deepnote_cell_type": "markdown",
    "tags": []
   },
   "source": [
    "## Plotting the data 3\n",
    "\n",
    "Let `c1` denote the stacked bar chart you made in the previous part.\n",
    "\n",
    "Create an Altair selection object using the following code:\n",
    "```\n",
    "choice = alt.selection_multi(fields=['industry'], bind='legend')\n",
    "```\n",
    "\n",
    "Add that to `c1` using `.add_selection`.\n",
    "\n",
    "You have already specified x, y, and color.  Also specify `opacity` for `c1` by using\n",
    "```\n",
    "opacity=alt.condition(choice, alt.value(1), alt.value(0.2)),\n",
    "```\n",
    "\n",
    "Display `c1` and try clicking on one of the entries in the legend.  The selected entry should be emphasized.  You can also select multiple industries by holding down shift while you click."
   ]
  },
  {
   "cell_type": "markdown",
   "metadata": {
    "cell_id": "48b38baa-8230-4599-9b64-9def36cae1ac",
    "deepnote_cell_type": "markdown",
    "tags": []
   },
   "source": [
    "## Plotting the data 4\n",
    "\n",
    "Create a new Altair Chart `c2` using the following code.\n",
    "\n",
    "```\n",
    "c2 = alt.Chart(df).mark_bar().encode(\n",
    "    x='month:O',\n",
    "    y='mean(rate)',\n",
    "    color='industry',\n",
    ").transform_filter(choice)\n",
    "```\n",
    "\n",
    "Then display both `c1` and `c2` side-by-side using `c1|c2`.  Now if you click on the legend, `c2` should only show that industry."
   ]
  },
  {
   "cell_type": "markdown",
   "metadata": {
    "cell_id": "f93f4e83-2350-4b13-bcd3-1982e2bc5646",
    "deepnote_cell_type": "markdown",
    "tags": []
   },
   "source": [
    "## Interpreting the results\n",
    "\n",
    "What is an example of an industry that seems to have higher unemployment in the winter months?  What is an example of an industry that seems to have higher unemployment in the summer months?  (You should answer this question using the Altair charts, but if you want extra practice with pandas, you can also try to use pandas to answer it.)"
   ]
  },
  {
   "cell_type": "markdown",
   "metadata": {
    "cell_id": "cd8ab787-8da9-49e4-923f-ae33c32e7f62",
    "deepnote_cell_type": "markdown",
    "tags": []
   },
   "source": [
    "## Submission\n",
    "Download the .ipynb file for this notebook (click on the folder icon to the left, then the … next to the file name) and upload the file on Canvas."
   ]
  }
 ],
 "metadata": {
  "deepnote": {
   "is_reactive": false
  },
  "deepnote_execution_queue": [],
  "deepnote_notebook_id": "5cc5c093-6dd0-4fa4-b5da-f1319e51d551",
  "kernelspec": {
   "display_name": "Python 3 (ipykernel)",
   "language": "python",
   "name": "python3"
  },
  "language_info": {
   "codemirror_mode": {
    "name": "ipython",
    "version": 3
   },
   "file_extension": ".py",
   "mimetype": "text/x-python",
   "name": "python",
   "nbconvert_exporter": "python",
   "pygments_lexer": "ipython3",
   "version": "3.9.9"
  }
 },
 "nbformat": 4,
 "nbformat_minor": 2
}
