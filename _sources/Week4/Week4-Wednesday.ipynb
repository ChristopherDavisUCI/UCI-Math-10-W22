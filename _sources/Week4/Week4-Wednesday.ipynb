{
 "cells": [
  {
   "cell_type": "markdown",
   "metadata": {
    "cell_id": "ba6388d0-a678-44c8-8bad-8ef093c03a3e",
    "deepnote_cell_type": "markdown",
    "deepnote_to_be_reexecuted": false,
    "execution_millis": 1,
    "execution_start": 1643209942352,
    "source_hash": "f29ae999",
    "tags": []
   },
   "source": [
    "# More practice with the Spotify dataset\n",
    "\n",
    "[Recording of lecture from 1/26/2022](https://uci.zoom.us/rec/share/o1cAbrjVq2FsYYENMQ9IitH5OweHK3aL5I5doNyNl_fet0crIRrF92-Sfbua2HIQ.rR3BmcjBPf2cZ4k_?startTime=1643212665000)\n",
    "\n",
    "The best way to import this dataset is to use\n",
    "```\n",
    "pd.read_csv(\"spotify_dataset.csv\", na_values=\" \")\n",
    "```\n",
    "That is what we did last time.  But it's also good practice to try making the conversions ourselves.  This will give us a chance to try using two important pandas DataFrame methods:\n",
    "* `apply`\n",
    "* `applymap`\n",
    "\n",
    "These two methods fit into the same family as the pandas Series method\n",
    "* `map`"
   ]
  },
  {
   "cell_type": "code",
   "execution_count": 39,
   "metadata": {
    "cell_id": "3c1a23eb-bf9a-4dd3-817a-5200f83b4d64",
    "deepnote_cell_type": "code",
    "deepnote_to_be_reexecuted": false,
    "execution_millis": 0,
    "execution_start": 1643215549471,
    "source_hash": "7baafd37",
    "tags": []
   },
   "outputs": [],
   "source": [
    "import numpy as np\n",
    "import pandas as pd\n",
    "import altair as alt"
   ]
  },
  {
   "cell_type": "code",
   "execution_count": 2,
   "metadata": {
    "cell_id": "4283330a-95af-42ef-8903-d54200e1efec",
    "deepnote_cell_type": "code",
    "deepnote_to_be_reexecuted": false,
    "execution_millis": 31,
    "execution_start": 1643213265040,
    "source_hash": "1f948b0b",
    "tags": []
   },
   "outputs": [],
   "source": [
    "# Leaving out the useful na_values keyword argument.\n",
    "# We will have to do some cleaning of this dataset by hand.\n",
    "df = pd.read_csv(\"spotify_dataset.csv\")"
   ]
  },
  {
   "cell_type": "code",
   "execution_count": 3,
   "metadata": {
    "cell_id": "de73d959-a95f-448b-8b8a-70ec8ad218b9",
    "deepnote_cell_type": "code",
    "deepnote_to_be_reexecuted": false,
    "execution_millis": 110,
    "execution_start": 1643213302990,
    "source_hash": "c085b6ba",
    "tags": []
   },
   "outputs": [
    {
     "data": {
      "application/vnd.deepnote.dataframe.v3+json": {
       "column_count": 23,
       "columns": [
        {
         "dtype": "int64",
         "name": "Index",
         "stats": {
          "histogram": [
           {
            "bin_end": 1.4,
            "bin_start": 1,
            "count": 1
           },
           {
            "bin_end": 1.8,
            "bin_start": 1.4,
            "count": 0
           },
           {
            "bin_end": 2.2,
            "bin_start": 1.8,
            "count": 1
           },
           {
            "bin_end": 2.6,
            "bin_start": 2.2,
            "count": 0
           },
           {
            "bin_end": 3,
            "bin_start": 2.6,
            "count": 0
           },
           {
            "bin_end": 3.4000000000000004,
            "bin_start": 3,
            "count": 1
           },
           {
            "bin_end": 3.8000000000000003,
            "bin_start": 3.4000000000000004,
            "count": 0
           },
           {
            "bin_end": 4.2,
            "bin_start": 3.8000000000000003,
            "count": 1
           },
           {
            "bin_end": 4.6,
            "bin_start": 4.2,
            "count": 0
           },
           {
            "bin_end": 5,
            "bin_start": 4.6,
            "count": 1
           }
          ],
          "max": "5",
          "min": "1",
          "nan_count": 0,
          "unique_count": 5
         }
        },
        {
         "dtype": "int64",
         "name": "Highest Charting Position",
         "stats": {
          "histogram": [
           {
            "bin_end": 1.4,
            "bin_start": 1,
            "count": 2
           },
           {
            "bin_end": 1.8,
            "bin_start": 1.4,
            "count": 0
           },
           {
            "bin_end": 2.2,
            "bin_start": 1.8,
            "count": 1
           },
           {
            "bin_end": 2.6,
            "bin_start": 2.2,
            "count": 0
           },
           {
            "bin_end": 3,
            "bin_start": 2.6,
            "count": 0
           },
           {
            "bin_end": 3.4000000000000004,
            "bin_start": 3,
            "count": 1
           },
           {
            "bin_end": 3.8000000000000003,
            "bin_start": 3.4000000000000004,
            "count": 0
           },
           {
            "bin_end": 4.2,
            "bin_start": 3.8000000000000003,
            "count": 0
           },
           {
            "bin_end": 4.6,
            "bin_start": 4.2,
            "count": 0
           },
           {
            "bin_end": 5,
            "bin_start": 4.6,
            "count": 1
           }
          ],
          "max": "5",
          "min": "1",
          "nan_count": 0,
          "unique_count": 4
         }
        },
        {
         "dtype": "int64",
         "name": "Number of Times Charted",
         "stats": {
          "histogram": [
           {
            "bin_end": 2,
            "bin_start": 1,
            "count": 1
           },
           {
            "bin_end": 3,
            "bin_start": 2,
            "count": 0
           },
           {
            "bin_end": 4,
            "bin_start": 3,
            "count": 1
           },
           {
            "bin_end": 5,
            "bin_start": 4,
            "count": 0
           },
           {
            "bin_end": 6,
            "bin_start": 5,
            "count": 1
           },
           {
            "bin_end": 7,
            "bin_start": 6,
            "count": 0
           },
           {
            "bin_end": 8,
            "bin_start": 7,
            "count": 0
           },
           {
            "bin_end": 9,
            "bin_start": 8,
            "count": 1
           },
           {
            "bin_end": 10,
            "bin_start": 9,
            "count": 0
           },
           {
            "bin_end": 11,
            "bin_start": 10,
            "count": 1
           }
          ],
          "max": "11",
          "min": "1",
          "nan_count": 0,
          "unique_count": 5
         }
        },
        {
         "dtype": "object",
         "name": "Week of Highest Charting",
         "stats": {
          "categories": [
           {
            "count": 3,
            "name": "2021-07-23--2021-07-30"
           },
           {
            "count": 1,
            "name": "2021-06-25--2021-07-02"
           },
           {
            "count": 1,
            "name": "2021-07-02--2021-07-09"
           }
          ],
          "nan_count": 0,
          "unique_count": 3
         }
        },
        {
         "dtype": "object",
         "name": "Song Name",
         "stats": {
          "categories": [
           {
            "count": 1,
            "name": "Beggin'"
           },
           {
            "count": 1,
            "name": "STAY (with Justin Bieber)"
           },
           {
            "count": 3,
            "name": "3 others"
           }
          ],
          "nan_count": 0,
          "unique_count": 5
         }
        },
        {
         "dtype": "object",
         "name": "Streams",
         "stats": {
          "categories": [
           {
            "count": 1,
            "name": "48,633,449"
           },
           {
            "count": 1,
            "name": "47,248,719"
           },
           {
            "count": 3,
            "name": "3 others"
           }
          ],
          "nan_count": 0,
          "unique_count": 5
         }
        },
        {
         "dtype": "object",
         "name": "Artist",
         "stats": {
          "categories": [
           {
            "count": 1,
            "name": "Måneskin"
           },
           {
            "count": 1,
            "name": "The Kid LAROI"
           },
           {
            "count": 3,
            "name": "3 others"
           }
          ],
          "nan_count": 0,
          "unique_count": 5
         }
        },
        {
         "dtype": "object",
         "name": "Artist Followers",
         "stats": {
          "categories": [
           {
            "count": 1,
            "name": "3377762"
           },
           {
            "count": 1,
            "name": "2230022"
           },
           {
            "count": 3,
            "name": "3 others"
           }
          ],
          "nan_count": 0,
          "unique_count": 5
         }
        },
        {
         "dtype": "object",
         "name": "Song ID",
         "stats": {
          "categories": [
           {
            "count": 1,
            "name": "3Wrjm47oTz2sjIgck11l5e"
           },
           {
            "count": 1,
            "name": "5HCyWlXZPP0y6Gqq8TgA20"
           },
           {
            "count": 3,
            "name": "3 others"
           }
          ],
          "nan_count": 0,
          "unique_count": 5
         }
        },
        {
         "dtype": "object",
         "name": "Genre",
         "stats": {
          "categories": [
           {
            "count": 1,
            "name": "['indie rock italiano', 'italian pop']"
           },
           {
            "count": 1,
            "name": "['australian hip hop']"
           },
           {
            "count": 3,
            "name": "3 others"
           }
          ],
          "nan_count": 0,
          "unique_count": 5
         }
        },
        {
         "dtype": "object",
         "name": "Release Date",
         "stats": {
          "categories": [
           {
            "count": 1,
            "name": "2017-12-08"
           },
           {
            "count": 1,
            "name": "2021-07-09"
           },
           {
            "count": 3,
            "name": "3 others"
           }
          ],
          "nan_count": 0,
          "unique_count": 5
         }
        },
        {
         "dtype": "object",
         "name": "Weeks Charted",
         "stats": {
          "categories": [
           {
            "count": 1,
            "name": "2021-07-23--2021-07-30\n2021-07-16--2021-07-23\n2021-07-09--2021-07-16\n2021-07-02--2021-07-09\n2021-06-25--2021-07-02\n2021-06-18--2021-06-25\n2021-06-11--2021-06-18\n2021-06-04--2021-06-11"
           },
           {
            "count": 1,
            "name": "2021-07-23--2021-07-30\n2021-07-16--2021-07-23\n2021-07-09--2021-07-16"
           },
           {
            "count": 3,
            "name": "3 others"
           }
          ],
          "nan_count": 0,
          "unique_count": 5
         }
        },
        {
         "dtype": "object",
         "name": "Popularity",
         "stats": {
          "categories": [
           {
            "count": 2,
            "name": "99"
           },
           {
            "count": 1,
            "name": "100"
           },
           {
            "count": 2,
            "name": "2 others"
           }
          ],
          "nan_count": 0,
          "unique_count": 4
         }
        },
        {
         "dtype": "object",
         "name": "Danceability",
         "stats": {
          "categories": [
           {
            "count": 1,
            "name": "0.714"
           },
           {
            "count": 1,
            "name": "0.591"
           },
           {
            "count": 3,
            "name": "3 others"
           }
          ],
          "nan_count": 0,
          "unique_count": 5
         }
        },
        {
         "dtype": "object",
         "name": "Energy",
         "stats": {
          "categories": [
           {
            "count": 1,
            "name": "0.8"
           },
           {
            "count": 1,
            "name": "0.764"
           },
           {
            "count": 3,
            "name": "3 others"
           }
          ],
          "nan_count": 0,
          "unique_count": 5
         }
        },
        {
         "dtype": "object",
         "name": "Loudness",
         "stats": {
          "categories": [
           {
            "count": 1,
            "name": "-4.808"
           },
           {
            "count": 1,
            "name": "-5.484"
           },
           {
            "count": 3,
            "name": "3 others"
           }
          ],
          "nan_count": 0,
          "unique_count": 5
         }
        },
        {
         "dtype": "object",
         "name": "Speechiness",
         "stats": {
          "categories": [
           {
            "count": 1,
            "name": "0.0504"
           },
           {
            "count": 1,
            "name": "0.0483"
           },
           {
            "count": 3,
            "name": "3 others"
           }
          ],
          "nan_count": 0,
          "unique_count": 5
         }
        },
        {
         "dtype": "object",
         "name": "Acousticness",
         "stats": {
          "categories": [
           {
            "count": 1,
            "name": "0.127"
           },
           {
            "count": 1,
            "name": "0.0383"
           },
           {
            "count": 3,
            "name": "3 others"
           }
          ],
          "nan_count": 0,
          "unique_count": 5
         }
        },
        {
         "dtype": "object",
         "name": "Liveness",
         "stats": {
          "categories": [
           {
            "count": 1,
            "name": "0.359"
           },
           {
            "count": 1,
            "name": "0.103"
           },
           {
            "count": 3,
            "name": "3 others"
           }
          ],
          "nan_count": 0,
          "unique_count": 5
         }
        },
        {
         "dtype": "object",
         "name": "Tempo",
         "stats": {
          "categories": [
           {
            "count": 1,
            "name": "134.002"
           },
           {
            "count": 1,
            "name": "169.928"
           },
           {
            "count": 3,
            "name": "3 others"
           }
          ],
          "nan_count": 0,
          "unique_count": 5
         }
        },
        {
         "dtype": "object",
         "name": "Duration (ms)",
         "stats": {
          "categories": [
           {
            "count": 1,
            "name": "211560"
           },
           {
            "count": 1,
            "name": "141806"
           },
           {
            "count": 3,
            "name": "3 others"
           }
          ],
          "nan_count": 0,
          "unique_count": 5
         }
        },
        {
         "dtype": "object",
         "name": "Valence",
         "stats": {
          "categories": [
           {
            "count": 1,
            "name": "0.589"
           },
           {
            "count": 1,
            "name": "0.478"
           },
           {
            "count": 3,
            "name": "3 others"
           }
          ],
          "nan_count": 0,
          "unique_count": 5
         }
        },
        {
         "dtype": "object",
         "name": "Chord",
         "stats": {
          "categories": [
           {
            "count": 2,
            "name": "B"
           },
           {
            "count": 1,
            "name": "C#/Db"
           },
           {
            "count": 2,
            "name": "2 others"
           }
          ],
          "nan_count": 0,
          "unique_count": 4
         }
        },
        {
         "dtype": "int64",
         "name": "_deepnote_index_column"
        }
       ],
       "row_count": 5,
       "rows": [
        {
         "Acousticness": "0.127",
         "Artist": "Måneskin",
         "Artist Followers": "3377762",
         "Chord": "B",
         "Danceability": "0.714",
         "Duration (ms)": "211560",
         "Energy": "0.8",
         "Genre": "['indie rock italiano', 'italian pop']",
         "Highest Charting Position": 1,
         "Index": 1,
         "Liveness": "0.359",
         "Loudness": "-4.808",
         "Number of Times Charted": 8,
         "Popularity": "100",
         "Release Date": "2017-12-08",
         "Song ID": "3Wrjm47oTz2sjIgck11l5e",
         "Song Name": "Beggin'",
         "Speechiness": "0.0504",
         "Streams": "48,633,449",
         "Tempo": "134.002",
         "Valence": "0.589",
         "Week of Highest Charting": "2021-07-23--2021-07-30",
         "Weeks Charted": "2021-07-23--2021-07-30\n2021-07-16--2021-07-23\n2021-07-09--2021-07-16\n2021-07-02--2021-07-09\n2021-06…",
         "_deepnote_index_column": 0
        },
        {
         "Acousticness": "0.0383",
         "Artist": "The Kid LAROI",
         "Artist Followers": "2230022",
         "Chord": "C#/Db",
         "Danceability": "0.591",
         "Duration (ms)": "141806",
         "Energy": "0.764",
         "Genre": "['australian hip hop']",
         "Highest Charting Position": 2,
         "Index": 2,
         "Liveness": "0.103",
         "Loudness": "-5.484",
         "Number of Times Charted": 3,
         "Popularity": "99",
         "Release Date": "2021-07-09",
         "Song ID": "5HCyWlXZPP0y6Gqq8TgA20",
         "Song Name": "STAY (with Justin Bieber)",
         "Speechiness": "0.0483",
         "Streams": "47,248,719",
         "Tempo": "169.928",
         "Valence": "0.478",
         "Week of Highest Charting": "2021-07-23--2021-07-30",
         "Weeks Charted": "2021-07-23--2021-07-30\n2021-07-16--2021-07-23\n2021-07-09--2021-07-16",
         "_deepnote_index_column": 1
        },
        {
         "Acousticness": "0.335",
         "Artist": "Olivia Rodrigo",
         "Artist Followers": "6266514",
         "Chord": "A",
         "Danceability": "0.563",
         "Duration (ms)": "178147",
         "Energy": "0.664",
         "Genre": "['pop']",
         "Highest Charting Position": 1,
         "Index": 3,
         "Liveness": "0.0849",
         "Loudness": "-5.044",
         "Number of Times Charted": 11,
         "Popularity": "99",
         "Release Date": "2021-05-21",
         "Song ID": "4ZtFanR9U6ndgddUvNcjcG",
         "Song Name": "good 4 u",
         "Speechiness": "0.154",
         "Streams": "40,162,559",
         "Tempo": "166.928",
         "Valence": "0.688",
         "Week of Highest Charting": "2021-06-25--2021-07-02",
         "Weeks Charted": "2021-07-23--2021-07-30\n2021-07-16--2021-07-23\n2021-07-09--2021-07-16\n2021-07-02--2021-07-09\n2021-06…",
         "_deepnote_index_column": 2
        },
        {
         "Acousticness": "0.0469",
         "Artist": "Ed Sheeran",
         "Artist Followers": "83293380",
         "Chord": "B",
         "Danceability": "0.808",
         "Duration (ms)": "231041",
         "Energy": "0.897",
         "Genre": "['pop', 'uk pop']",
         "Highest Charting Position": 3,
         "Index": 4,
         "Liveness": "0.364",
         "Loudness": "-3.712",
         "Number of Times Charted": 5,
         "Popularity": "98",
         "Release Date": "2021-06-25",
         "Song ID": "6PQ88X9TkUIAUIZJHW2upE",
         "Song Name": "Bad Habits",
         "Speechiness": "0.0348",
         "Streams": "37,799,456",
         "Tempo": "126.026",
         "Valence": "0.591",
         "Week of Highest Charting": "2021-07-02--2021-07-09",
         "Weeks Charted": "2021-07-23--2021-07-30\n2021-07-16--2021-07-23\n2021-07-09--2021-07-16\n2021-07-02--2021-07-09\n2021-06…",
         "_deepnote_index_column": 3
        },
        {
         "Acousticness": "0.0203",
         "Artist": "Lil Nas X",
         "Artist Followers": "5473565",
         "Chord": "D#/Eb",
         "Danceability": "0.736",
         "Duration (ms)": "212000",
         "Energy": "0.704",
         "Genre": "['lgbtq+ hip hop', 'pop rap']",
         "Highest Charting Position": 5,
         "Index": 5,
         "Liveness": "0.0501",
         "Loudness": "-7.409",
         "Number of Times Charted": 1,
         "Popularity": "96",
         "Release Date": "2021-07-23",
         "Song ID": "27NovPIUIRrOZoCHxABJwK",
         "Song Name": "INDUSTRY BABY (feat. Jack Harlow)",
         "Speechiness": "0.0615",
         "Streams": "33,948,454",
         "Tempo": "149.995",
         "Valence": "0.894",
         "Week of Highest Charting": "2021-07-23--2021-07-30",
         "Weeks Charted": "2021-07-23--2021-07-30",
         "_deepnote_index_column": 4
        }
       ]
      },
      "text/html": [
       "<div>\n",
       "<style scoped>\n",
       "    .dataframe tbody tr th:only-of-type {\n",
       "        vertical-align: middle;\n",
       "    }\n",
       "\n",
       "    .dataframe tbody tr th {\n",
       "        vertical-align: top;\n",
       "    }\n",
       "\n",
       "    .dataframe thead th {\n",
       "        text-align: right;\n",
       "    }\n",
       "</style>\n",
       "<table border=\"1\" class=\"dataframe\">\n",
       "  <thead>\n",
       "    <tr style=\"text-align: right;\">\n",
       "      <th></th>\n",
       "      <th>Index</th>\n",
       "      <th>Highest Charting Position</th>\n",
       "      <th>Number of Times Charted</th>\n",
       "      <th>Week of Highest Charting</th>\n",
       "      <th>Song Name</th>\n",
       "      <th>Streams</th>\n",
       "      <th>Artist</th>\n",
       "      <th>Artist Followers</th>\n",
       "      <th>Song ID</th>\n",
       "      <th>Genre</th>\n",
       "      <th>...</th>\n",
       "      <th>Danceability</th>\n",
       "      <th>Energy</th>\n",
       "      <th>Loudness</th>\n",
       "      <th>Speechiness</th>\n",
       "      <th>Acousticness</th>\n",
       "      <th>Liveness</th>\n",
       "      <th>Tempo</th>\n",
       "      <th>Duration (ms)</th>\n",
       "      <th>Valence</th>\n",
       "      <th>Chord</th>\n",
       "    </tr>\n",
       "  </thead>\n",
       "  <tbody>\n",
       "    <tr>\n",
       "      <th>0</th>\n",
       "      <td>1</td>\n",
       "      <td>1</td>\n",
       "      <td>8</td>\n",
       "      <td>2021-07-23--2021-07-30</td>\n",
       "      <td>Beggin'</td>\n",
       "      <td>48,633,449</td>\n",
       "      <td>Måneskin</td>\n",
       "      <td>3377762</td>\n",
       "      <td>3Wrjm47oTz2sjIgck11l5e</td>\n",
       "      <td>['indie rock italiano', 'italian pop']</td>\n",
       "      <td>...</td>\n",
       "      <td>0.714</td>\n",
       "      <td>0.8</td>\n",
       "      <td>-4.808</td>\n",
       "      <td>0.0504</td>\n",
       "      <td>0.127</td>\n",
       "      <td>0.359</td>\n",
       "      <td>134.002</td>\n",
       "      <td>211560</td>\n",
       "      <td>0.589</td>\n",
       "      <td>B</td>\n",
       "    </tr>\n",
       "    <tr>\n",
       "      <th>1</th>\n",
       "      <td>2</td>\n",
       "      <td>2</td>\n",
       "      <td>3</td>\n",
       "      <td>2021-07-23--2021-07-30</td>\n",
       "      <td>STAY (with Justin Bieber)</td>\n",
       "      <td>47,248,719</td>\n",
       "      <td>The Kid LAROI</td>\n",
       "      <td>2230022</td>\n",
       "      <td>5HCyWlXZPP0y6Gqq8TgA20</td>\n",
       "      <td>['australian hip hop']</td>\n",
       "      <td>...</td>\n",
       "      <td>0.591</td>\n",
       "      <td>0.764</td>\n",
       "      <td>-5.484</td>\n",
       "      <td>0.0483</td>\n",
       "      <td>0.0383</td>\n",
       "      <td>0.103</td>\n",
       "      <td>169.928</td>\n",
       "      <td>141806</td>\n",
       "      <td>0.478</td>\n",
       "      <td>C#/Db</td>\n",
       "    </tr>\n",
       "    <tr>\n",
       "      <th>2</th>\n",
       "      <td>3</td>\n",
       "      <td>1</td>\n",
       "      <td>11</td>\n",
       "      <td>2021-06-25--2021-07-02</td>\n",
       "      <td>good 4 u</td>\n",
       "      <td>40,162,559</td>\n",
       "      <td>Olivia Rodrigo</td>\n",
       "      <td>6266514</td>\n",
       "      <td>4ZtFanR9U6ndgddUvNcjcG</td>\n",
       "      <td>['pop']</td>\n",
       "      <td>...</td>\n",
       "      <td>0.563</td>\n",
       "      <td>0.664</td>\n",
       "      <td>-5.044</td>\n",
       "      <td>0.154</td>\n",
       "      <td>0.335</td>\n",
       "      <td>0.0849</td>\n",
       "      <td>166.928</td>\n",
       "      <td>178147</td>\n",
       "      <td>0.688</td>\n",
       "      <td>A</td>\n",
       "    </tr>\n",
       "    <tr>\n",
       "      <th>3</th>\n",
       "      <td>4</td>\n",
       "      <td>3</td>\n",
       "      <td>5</td>\n",
       "      <td>2021-07-02--2021-07-09</td>\n",
       "      <td>Bad Habits</td>\n",
       "      <td>37,799,456</td>\n",
       "      <td>Ed Sheeran</td>\n",
       "      <td>83293380</td>\n",
       "      <td>6PQ88X9TkUIAUIZJHW2upE</td>\n",
       "      <td>['pop', 'uk pop']</td>\n",
       "      <td>...</td>\n",
       "      <td>0.808</td>\n",
       "      <td>0.897</td>\n",
       "      <td>-3.712</td>\n",
       "      <td>0.0348</td>\n",
       "      <td>0.0469</td>\n",
       "      <td>0.364</td>\n",
       "      <td>126.026</td>\n",
       "      <td>231041</td>\n",
       "      <td>0.591</td>\n",
       "      <td>B</td>\n",
       "    </tr>\n",
       "    <tr>\n",
       "      <th>4</th>\n",
       "      <td>5</td>\n",
       "      <td>5</td>\n",
       "      <td>1</td>\n",
       "      <td>2021-07-23--2021-07-30</td>\n",
       "      <td>INDUSTRY BABY (feat. Jack Harlow)</td>\n",
       "      <td>33,948,454</td>\n",
       "      <td>Lil Nas X</td>\n",
       "      <td>5473565</td>\n",
       "      <td>27NovPIUIRrOZoCHxABJwK</td>\n",
       "      <td>['lgbtq+ hip hop', 'pop rap']</td>\n",
       "      <td>...</td>\n",
       "      <td>0.736</td>\n",
       "      <td>0.704</td>\n",
       "      <td>-7.409</td>\n",
       "      <td>0.0615</td>\n",
       "      <td>0.0203</td>\n",
       "      <td>0.0501</td>\n",
       "      <td>149.995</td>\n",
       "      <td>212000</td>\n",
       "      <td>0.894</td>\n",
       "      <td>D#/Eb</td>\n",
       "    </tr>\n",
       "  </tbody>\n",
       "</table>\n",
       "<p>5 rows × 23 columns</p>\n",
       "</div>"
      ],
      "text/plain": [
       "   Index  Highest Charting Position  Number of Times Charted  \\\n",
       "0      1                          1                        8   \n",
       "1      2                          2                        3   \n",
       "2      3                          1                       11   \n",
       "3      4                          3                        5   \n",
       "4      5                          5                        1   \n",
       "\n",
       "  Week of Highest Charting                          Song Name     Streams  \\\n",
       "0   2021-07-23--2021-07-30                            Beggin'  48,633,449   \n",
       "1   2021-07-23--2021-07-30          STAY (with Justin Bieber)  47,248,719   \n",
       "2   2021-06-25--2021-07-02                           good 4 u  40,162,559   \n",
       "3   2021-07-02--2021-07-09                         Bad Habits  37,799,456   \n",
       "4   2021-07-23--2021-07-30  INDUSTRY BABY (feat. Jack Harlow)  33,948,454   \n",
       "\n",
       "           Artist Artist Followers                 Song ID  \\\n",
       "0        Måneskin          3377762  3Wrjm47oTz2sjIgck11l5e   \n",
       "1   The Kid LAROI          2230022  5HCyWlXZPP0y6Gqq8TgA20   \n",
       "2  Olivia Rodrigo          6266514  4ZtFanR9U6ndgddUvNcjcG   \n",
       "3      Ed Sheeran         83293380  6PQ88X9TkUIAUIZJHW2upE   \n",
       "4       Lil Nas X          5473565  27NovPIUIRrOZoCHxABJwK   \n",
       "\n",
       "                                    Genre  ... Danceability Energy Loudness  \\\n",
       "0  ['indie rock italiano', 'italian pop']  ...        0.714    0.8   -4.808   \n",
       "1                  ['australian hip hop']  ...        0.591  0.764   -5.484   \n",
       "2                                 ['pop']  ...        0.563  0.664   -5.044   \n",
       "3                       ['pop', 'uk pop']  ...        0.808  0.897   -3.712   \n",
       "4           ['lgbtq+ hip hop', 'pop rap']  ...        0.736  0.704   -7.409   \n",
       "\n",
       "  Speechiness Acousticness Liveness    Tempo Duration (ms) Valence  Chord  \n",
       "0      0.0504        0.127    0.359  134.002        211560   0.589      B  \n",
       "1      0.0483       0.0383    0.103  169.928        141806   0.478  C#/Db  \n",
       "2       0.154        0.335   0.0849  166.928        178147   0.688      A  \n",
       "3      0.0348       0.0469    0.364  126.026        231041   0.591      B  \n",
       "4      0.0615       0.0203   0.0501  149.995        212000   0.894  D#/Eb  \n",
       "\n",
       "[5 rows x 23 columns]"
      ]
     },
     "execution_count": 3,
     "metadata": {},
     "output_type": "execute_result"
    }
   ],
   "source": [
    "df.head()"
   ]
  },
  {
   "cell_type": "code",
   "execution_count": 4,
   "metadata": {
    "cell_id": "c063aa7b-19e0-4655-9309-9b3e71f262b3",
    "deepnote_cell_type": "code",
    "deepnote_output_heights": [
     462.890625
    ],
    "deepnote_to_be_reexecuted": false,
    "execution_millis": 5,
    "execution_start": 1643213324275,
    "source_hash": "52430027",
    "tags": []
   },
   "outputs": [
    {
     "data": {
      "text/plain": [
       "Index                         int64\n",
       "Highest Charting Position     int64\n",
       "Number of Times Charted       int64\n",
       "Week of Highest Charting     object\n",
       "Song Name                    object\n",
       "Streams                      object\n",
       "Artist                       object\n",
       "Artist Followers             object\n",
       "Song ID                      object\n",
       "Genre                        object\n",
       "Release Date                 object\n",
       "Weeks Charted                object\n",
       "Popularity                   object\n",
       "Danceability                 object\n",
       "Energy                       object\n",
       "Loudness                     object\n",
       "Speechiness                  object\n",
       "Acousticness                 object\n",
       "Liveness                     object\n",
       "Tempo                        object\n",
       "Duration (ms)                object\n",
       "Valence                      object\n",
       "Chord                        object\n",
       "dtype: object"
      ]
     },
     "execution_count": 4,
     "metadata": {},
     "output_type": "execute_result"
    }
   ],
   "source": [
    "df.dtypes"
   ]
  },
  {
   "cell_type": "code",
   "execution_count": 5,
   "metadata": {
    "cell_id": "0644b9b8-5f8c-4c0f-9d38-6f26724ea975",
    "deepnote_cell_type": "code",
    "deepnote_to_be_reexecuted": false,
    "execution_millis": 4523,
    "execution_start": 1643213361843,
    "source_hash": "7faab1ed",
    "tags": []
   },
   "outputs": [
    {
     "ename": "ValueError",
     "evalue": "Unable to parse string \" \" at position 35",
     "output_type": "error",
     "traceback": [
      "\u001b[0;31m---------------------------------------------------------------------------\u001b[0m",
      "\u001b[0;31mValueError\u001b[0m                                Traceback (most recent call last)",
      "\u001b[0;32mpandas/_libs/lib.pyx\u001b[0m in \u001b[0;36mpandas._libs.lib.maybe_convert_numeric\u001b[0;34m()\u001b[0m\n",
      "\u001b[0;31mValueError\u001b[0m: Unable to parse string \" \"",
      "\nDuring handling of the above exception, another exception occurred:\n",
      "\u001b[0;31mValueError\u001b[0m                                Traceback (most recent call last)",
      "\u001b[0;32m<ipython-input-5-e56ec88922ea>\u001b[0m in \u001b[0;36m<module>\u001b[0;34m\u001b[0m\n\u001b[0;32m----> 1\u001b[0;31m \u001b[0mpd\u001b[0m\u001b[0;34m.\u001b[0m\u001b[0mto_numeric\u001b[0m\u001b[0;34m(\u001b[0m\u001b[0mdf\u001b[0m\u001b[0;34m[\u001b[0m\u001b[0;34m\"Energy\"\u001b[0m\u001b[0;34m]\u001b[0m\u001b[0;34m)\u001b[0m\u001b[0;34m\u001b[0m\u001b[0;34m\u001b[0m\u001b[0m\n\u001b[0m",
      "\u001b[0;32m/shared-libs/python3.7/py/lib/python3.7/site-packages/pandas/core/tools/numeric.py\u001b[0m in \u001b[0;36mto_numeric\u001b[0;34m(arg, errors, downcast)\u001b[0m\n\u001b[1;32m    153\u001b[0m         \u001b[0;32mtry\u001b[0m\u001b[0;34m:\u001b[0m\u001b[0;34m\u001b[0m\u001b[0;34m\u001b[0m\u001b[0m\n\u001b[1;32m    154\u001b[0m             values = lib.maybe_convert_numeric(\n\u001b[0;32m--> 155\u001b[0;31m                 \u001b[0mvalues\u001b[0m\u001b[0;34m,\u001b[0m \u001b[0mset\u001b[0m\u001b[0;34m(\u001b[0m\u001b[0;34m)\u001b[0m\u001b[0;34m,\u001b[0m \u001b[0mcoerce_numeric\u001b[0m\u001b[0;34m=\u001b[0m\u001b[0mcoerce_numeric\u001b[0m\u001b[0;34m\u001b[0m\u001b[0;34m\u001b[0m\u001b[0m\n\u001b[0m\u001b[1;32m    156\u001b[0m             )\n\u001b[1;32m    157\u001b[0m         \u001b[0;32mexcept\u001b[0m \u001b[0;34m(\u001b[0m\u001b[0mValueError\u001b[0m\u001b[0;34m,\u001b[0m \u001b[0mTypeError\u001b[0m\u001b[0;34m)\u001b[0m\u001b[0;34m:\u001b[0m\u001b[0;34m\u001b[0m\u001b[0;34m\u001b[0m\u001b[0m\n",
      "\u001b[0;32mpandas/_libs/lib.pyx\u001b[0m in \u001b[0;36mpandas._libs.lib.maybe_convert_numeric\u001b[0;34m()\u001b[0m\n",
      "\u001b[0;31mValueError\u001b[0m: Unable to parse string \" \" at position 35"
     ]
    }
   ],
   "source": [
    "pd.to_numeric(df[\"Energy\"])"
   ]
  },
  {
   "cell_type": "code",
   "execution_count": 7,
   "metadata": {
    "cell_id": "27f872ef-d360-4151-ac2f-e8a231342262",
    "deepnote_cell_type": "code",
    "deepnote_to_be_reexecuted": false,
    "execution_millis": 222,
    "execution_start": 1643213456644,
    "source_hash": "98587d4c",
    "tags": []
   },
   "outputs": [
    {
     "data": {
      "application/vnd.deepnote.dataframe.v3+json": {
       "column_count": 23,
       "columns": [
        {
         "dtype": "int64",
         "name": "Index",
         "stats": {
          "histogram": [
           {
            "bin_end": 156.5,
            "bin_start": 1,
            "count": 156
           },
           {
            "bin_end": 312,
            "bin_start": 156.5,
            "count": 155
           },
           {
            "bin_end": 467.5,
            "bin_start": 312,
            "count": 156
           },
           {
            "bin_end": 623,
            "bin_start": 467.5,
            "count": 155
           },
           {
            "bin_end": 778.5,
            "bin_start": 623,
            "count": 156
           },
           {
            "bin_end": 934,
            "bin_start": 778.5,
            "count": 155
           },
           {
            "bin_end": 1089.5,
            "bin_start": 934,
            "count": 156
           },
           {
            "bin_end": 1245,
            "bin_start": 1089.5,
            "count": 155
           },
           {
            "bin_end": 1400.5,
            "bin_start": 1245,
            "count": 156
           },
           {
            "bin_end": 1556,
            "bin_start": 1400.5,
            "count": 156
           }
          ],
          "max": "1556",
          "min": "1",
          "nan_count": 0,
          "unique_count": 1556
         }
        },
        {
         "dtype": "int64",
         "name": "Highest Charting Position",
         "stats": {
          "histogram": [
           {
            "bin_end": 20.9,
            "bin_start": 1,
            "count": 241
           },
           {
            "bin_end": 40.8,
            "bin_start": 20.9,
            "count": 173
           },
           {
            "bin_end": 60.699999999999996,
            "bin_start": 40.8,
            "count": 181
           },
           {
            "bin_end": 80.6,
            "bin_start": 60.699999999999996,
            "count": 186
           },
           {
            "bin_end": 100.5,
            "bin_start": 80.6,
            "count": 141
           },
           {
            "bin_end": 120.39999999999999,
            "bin_start": 100.5,
            "count": 142
           },
           {
            "bin_end": 140.29999999999998,
            "bin_start": 120.39999999999999,
            "count": 140
           },
           {
            "bin_end": 160.2,
            "bin_start": 140.29999999999998,
            "count": 116
           },
           {
            "bin_end": 180.1,
            "bin_start": 160.2,
            "count": 110
           },
           {
            "bin_end": 200,
            "bin_start": 180.1,
            "count": 126
           }
          ],
          "max": "200",
          "min": "1",
          "nan_count": 0,
          "unique_count": 200
         }
        },
        {
         "dtype": "int64",
         "name": "Number of Times Charted",
         "stats": {
          "histogram": [
           {
            "bin_end": 15.1,
            "bin_start": 1,
            "count": 1228
           },
           {
            "bin_end": 29.2,
            "bin_start": 15.1,
            "count": 170
           },
           {
            "bin_end": 43.3,
            "bin_start": 29.2,
            "count": 75
           },
           {
            "bin_end": 57.4,
            "bin_start": 43.3,
            "count": 36
           },
           {
            "bin_end": 71.5,
            "bin_start": 57.4,
            "count": 14
           },
           {
            "bin_end": 85.6,
            "bin_start": 71.5,
            "count": 32
           },
           {
            "bin_end": 99.7,
            "bin_start": 85.6,
            "count": 0
           },
           {
            "bin_end": 113.8,
            "bin_start": 99.7,
            "count": 0
           },
           {
            "bin_end": 127.89999999999999,
            "bin_start": 113.8,
            "count": 0
           },
           {
            "bin_end": 142,
            "bin_start": 127.89999999999999,
            "count": 1
           }
          ],
          "max": "142",
          "min": "1",
          "nan_count": 0,
          "unique_count": 75
         }
        },
        {
         "dtype": "object",
         "name": "Week of Highest Charting",
         "stats": {
          "categories": [
           {
            "count": 89,
            "name": "2019-12-27--2020-01-03"
           },
           {
            "count": 68,
            "name": "2020-12-18--2020-12-25"
           },
           {
            "count": 1399,
            "name": "81 others"
           }
          ],
          "nan_count": 0,
          "unique_count": 83
         }
        },
        {
         "dtype": "object",
         "name": "Song Name",
         "stats": {
          "categories": [
           {
            "count": 1,
            "name": "Beggin'"
           },
           {
            "count": 1,
            "name": "STAY (with Justin Bieber)"
           },
           {
            "count": 1554,
            "name": "1554 others"
           }
          ],
          "nan_count": 0,
          "unique_count": 1556
         }
        },
        {
         "dtype": "object",
         "name": "Streams",
         "stats": {
          "categories": [
           {
            "count": 1,
            "name": "48,633,449"
           },
           {
            "count": 1,
            "name": "47,248,719"
           },
           {
            "count": 1554,
            "name": "1554 others"
           }
          ],
          "nan_count": 0,
          "unique_count": 1556
         }
        },
        {
         "dtype": "object",
         "name": "Artist",
         "stats": {
          "categories": [
           {
            "count": 52,
            "name": "Taylor Swift"
           },
           {
            "count": 32,
            "name": "Justin Bieber"
           },
           {
            "count": 1472,
            "name": "714 others"
           }
          ],
          "nan_count": 0,
          "unique_count": 716
         }
        },
        {
         "dtype": "object",
         "name": "Artist Followers",
         "stats": {
          "categories": [
           {
            "count": 52,
            "name": "42227614"
           },
           {
            "count": 1493,
            "name": "598 others"
           },
           {
            "count": 11,
            "name": "Missing"
           }
          ],
          "nan_count": 11,
          "unique_count": 599
         }
        },
        {
         "dtype": "object",
         "name": "Song ID",
         "stats": {
          "categories": [
           {
            "count": 3,
            "name": "5uEYRdEIh9Bo4fpjDd4Na9"
           },
           {
            "count": 1542,
            "name": "1515 others"
           },
           {
            "count": 11,
            "name": "Missing"
           }
          ],
          "nan_count": 11,
          "unique_count": 1516
         }
        },
        {
         "dtype": "object",
         "name": "Genre",
         "stats": {
          "categories": [
           {
            "count": 75,
            "name": "[]"
           },
           {
            "count": 1470,
            "name": "393 others"
           },
           {
            "count": 11,
            "name": "Missing"
           }
          ],
          "nan_count": 11,
          "unique_count": 394
         }
        },
        {
         "dtype": "object",
         "name": "Release Date",
         "stats": {
          "categories": [
           {
            "count": 34,
            "name": "2020-01-17"
           },
           {
            "count": 1511,
            "name": "476 others"
           },
           {
            "count": 11,
            "name": "Missing"
           }
          ],
          "nan_count": 11,
          "unique_count": 477
         }
        },
        {
         "dtype": "object",
         "name": "Weeks Charted",
         "stats": {
          "categories": [
           {
            "count": 32,
            "name": "2020-12-18--2020-12-25"
           },
           {
            "count": 24,
            "name": "2020-01-17--2020-01-24"
           },
           {
            "count": 1500,
            "name": "773 others"
           }
          ],
          "nan_count": 0,
          "unique_count": 775
         }
        },
        {
         "dtype": "object",
         "name": "Popularity",
         "stats": {
          "categories": [
           {
            "count": 67,
            "name": "75"
           },
           {
            "count": 1478,
            "name": "68 others"
           },
           {
            "count": 11,
            "name": "Missing"
           }
          ],
          "nan_count": 11,
          "unique_count": 69
         }
        },
        {
         "dtype": "object",
         "name": "Danceability",
         "stats": {
          "categories": [
           {
            "count": 10,
            "name": "0.762"
           },
           {
            "count": 1535,
            "name": "528 others"
           },
           {
            "count": 11,
            "name": "Missing"
           }
          ],
          "nan_count": 11,
          "unique_count": 529
         }
        },
        {
         "dtype": "object",
         "name": "Energy",
         "stats": {
          "categories": [
           {
            "count": 10,
            "name": "0.621"
           },
           {
            "count": 1535,
            "name": "573 others"
           },
           {
            "count": 11,
            "name": "Missing"
           }
          ],
          "nan_count": 11,
          "unique_count": 574
         }
        },
        {
         "dtype": "object",
         "name": "Loudness",
         "stats": {
          "categories": [
           {
            "count": 4,
            "name": "-5.382"
           },
           {
            "count": 1541,
            "name": "1392 others"
           },
           {
            "count": 11,
            "name": "Missing"
           }
          ],
          "nan_count": 11,
          "unique_count": 1393
         }
        },
        {
         "dtype": "object",
         "name": "Speechiness",
         "stats": {
          "categories": [
           {
            "count": 15,
            "name": "0.102"
           },
           {
            "count": 1530,
            "name": "770 others"
           },
           {
            "count": 11,
            "name": "Missing"
           }
          ],
          "nan_count": 11,
          "unique_count": 771
         }
        },
        {
         "dtype": "object",
         "name": "Acousticness",
         "stats": {
          "categories": [
           {
            "count": 10,
            "name": "0.114"
           },
           {
            "count": 1535,
            "name": "963 others"
           },
           {
            "count": 11,
            "name": "Missing"
           }
          ],
          "nan_count": 11,
          "unique_count": 964
         }
        },
        {
         "dtype": "object",
         "name": "Liveness",
         "stats": {
          "categories": [
           {
            "count": 23,
            "name": "0.103"
           },
           {
            "count": 1522,
            "name": "604 others"
           },
           {
            "count": 11,
            "name": "Missing"
           }
          ],
          "nan_count": 11,
          "unique_count": 605
         }
        },
        {
         "dtype": "object",
         "name": "Tempo",
         "stats": {
          "categories": [
           {
            "count": 3,
            "name": "93.005"
           },
           {
            "count": 1542,
            "name": "1459 others"
           },
           {
            "count": 11,
            "name": "Missing"
           }
          ],
          "nan_count": 11,
          "unique_count": 1460
         }
        },
        {
         "dtype": "object",
         "name": "Duration (ms)",
         "stats": {
          "categories": [
           {
            "count": 3,
            "name": "162803"
           },
           {
            "count": 1542,
            "name": "1484 others"
           },
           {
            "count": 11,
            "name": "Missing"
           }
          ],
          "nan_count": 11,
          "unique_count": 1485
         }
        },
        {
         "dtype": "object",
         "name": "Valence",
         "stats": {
          "categories": [
           {
            "count": 7,
            "name": "0.405"
           },
           {
            "count": 1538,
            "name": "730 others"
           },
           {
            "count": 11,
            "name": "Missing"
           }
          ],
          "nan_count": 11,
          "unique_count": 731
         }
        },
        {
         "dtype": "object",
         "name": "Chord",
         "stats": {
          "categories": [
           {
            "count": 214,
            "name": "C#/Db"
           },
           {
            "count": 1331,
            "name": "11 others"
           },
           {
            "count": 11,
            "name": "Missing"
           }
          ],
          "nan_count": 11,
          "unique_count": 12
         }
        },
        {
         "dtype": "int64",
         "name": "_deepnote_index_column"
        }
       ],
       "row_count": 1556,
       "rows": [
        {
         "Acousticness": "0.127",
         "Artist": "Måneskin",
         "Artist Followers": "3377762",
         "Chord": "B",
         "Danceability": "0.714",
         "Duration (ms)": "211560",
         "Energy": "0.8",
         "Genre": "['indie rock italiano', 'italian pop']",
         "Highest Charting Position": 1,
         "Index": 1,
         "Liveness": "0.359",
         "Loudness": "-4.808",
         "Number of Times Charted": 8,
         "Popularity": "100",
         "Release Date": "2017-12-08",
         "Song ID": "3Wrjm47oTz2sjIgck11l5e",
         "Song Name": "Beggin'",
         "Speechiness": "0.0504",
         "Streams": "48,633,449",
         "Tempo": "134.002",
         "Valence": "0.589",
         "Week of Highest Charting": "2021-07-23--2021-07-30",
         "Weeks Charted": "2021-07-23--2021-07-30\n2021-07-16--2021-07-23\n2021-07-09--2021-07-16\n2021-07-02--2021-07-09\n2021-06…",
         "_deepnote_index_column": 0
        },
        {
         "Acousticness": "0.0383",
         "Artist": "The Kid LAROI",
         "Artist Followers": "2230022",
         "Chord": "C#/Db",
         "Danceability": "0.591",
         "Duration (ms)": "141806",
         "Energy": "0.764",
         "Genre": "['australian hip hop']",
         "Highest Charting Position": 2,
         "Index": 2,
         "Liveness": "0.103",
         "Loudness": "-5.484",
         "Number of Times Charted": 3,
         "Popularity": "99",
         "Release Date": "2021-07-09",
         "Song ID": "5HCyWlXZPP0y6Gqq8TgA20",
         "Song Name": "STAY (with Justin Bieber)",
         "Speechiness": "0.0483",
         "Streams": "47,248,719",
         "Tempo": "169.928",
         "Valence": "0.478",
         "Week of Highest Charting": "2021-07-23--2021-07-30",
         "Weeks Charted": "2021-07-23--2021-07-30\n2021-07-16--2021-07-23\n2021-07-09--2021-07-16",
         "_deepnote_index_column": 1
        },
        {
         "Acousticness": "0.335",
         "Artist": "Olivia Rodrigo",
         "Artist Followers": "6266514",
         "Chord": "A",
         "Danceability": "0.563",
         "Duration (ms)": "178147",
         "Energy": "0.664",
         "Genre": "['pop']",
         "Highest Charting Position": 1,
         "Index": 3,
         "Liveness": "0.0849",
         "Loudness": "-5.044",
         "Number of Times Charted": 11,
         "Popularity": "99",
         "Release Date": "2021-05-21",
         "Song ID": "4ZtFanR9U6ndgddUvNcjcG",
         "Song Name": "good 4 u",
         "Speechiness": "0.154",
         "Streams": "40,162,559",
         "Tempo": "166.928",
         "Valence": "0.688",
         "Week of Highest Charting": "2021-06-25--2021-07-02",
         "Weeks Charted": "2021-07-23--2021-07-30\n2021-07-16--2021-07-23\n2021-07-09--2021-07-16\n2021-07-02--2021-07-09\n2021-06…",
         "_deepnote_index_column": 2
        },
        {
         "Acousticness": "0.0469",
         "Artist": "Ed Sheeran",
         "Artist Followers": "83293380",
         "Chord": "B",
         "Danceability": "0.808",
         "Duration (ms)": "231041",
         "Energy": "0.897",
         "Genre": "['pop', 'uk pop']",
         "Highest Charting Position": 3,
         "Index": 4,
         "Liveness": "0.364",
         "Loudness": "-3.712",
         "Number of Times Charted": 5,
         "Popularity": "98",
         "Release Date": "2021-06-25",
         "Song ID": "6PQ88X9TkUIAUIZJHW2upE",
         "Song Name": "Bad Habits",
         "Speechiness": "0.0348",
         "Streams": "37,799,456",
         "Tempo": "126.026",
         "Valence": "0.591",
         "Week of Highest Charting": "2021-07-02--2021-07-09",
         "Weeks Charted": "2021-07-23--2021-07-30\n2021-07-16--2021-07-23\n2021-07-09--2021-07-16\n2021-07-02--2021-07-09\n2021-06…",
         "_deepnote_index_column": 3
        },
        {
         "Acousticness": "0.0203",
         "Artist": "Lil Nas X",
         "Artist Followers": "5473565",
         "Chord": "D#/Eb",
         "Danceability": "0.736",
         "Duration (ms)": "212000",
         "Energy": "0.704",
         "Genre": "['lgbtq+ hip hop', 'pop rap']",
         "Highest Charting Position": 5,
         "Index": 5,
         "Liveness": "0.0501",
         "Loudness": "-7.409",
         "Number of Times Charted": 1,
         "Popularity": "96",
         "Release Date": "2021-07-23",
         "Song ID": "27NovPIUIRrOZoCHxABJwK",
         "Song Name": "INDUSTRY BABY (feat. Jack Harlow)",
         "Speechiness": "0.0615",
         "Streams": "33,948,454",
         "Tempo": "149.995",
         "Valence": "0.894",
         "Week of Highest Charting": "2021-07-23--2021-07-30",
         "Weeks Charted": "2021-07-23--2021-07-30",
         "_deepnote_index_column": 4
        },
        {
         "Acousticness": "0.297",
         "Artist": "Lil Nas X",
         "Artist Followers": "5473565",
         "Chord": "G#/Ab",
         "Danceability": "0.61",
         "Duration (ms)": "137876",
         "Energy": "0.508",
         "Genre": "['lgbtq+ hip hop', 'pop rap']",
         "Highest Charting Position": 1,
         "Index": 6,
         "Liveness": "0.384",
         "Loudness": "-6.682",
         "Number of Times Charted": 18,
         "Popularity": "97",
         "Release Date": "2021-03-31",
         "Song ID": "67BtfxlNbhBmCDR2L2l8qd",
         "Song Name": "MONTERO (Call Me By Your Name)",
         "Speechiness": "0.152",
         "Streams": "30,071,134",
         "Tempo": "178.818",
         "Valence": "0.758",
         "Week of Highest Charting": "2021-05-07--2021-05-14",
         "Weeks Charted": "2021-07-23--2021-07-30\n2021-07-16--2021-07-23\n2021-07-09--2021-07-16\n2021-07-02--2021-07-09\n2021-06…",
         "_deepnote_index_column": 5
        },
        {
         "Acousticness": "0.235",
         "Artist": "Doja Cat",
         "Artist Followers": "8640063",
         "Chord": "G#/Ab",
         "Danceability": "0.762",
         "Duration (ms)": "208867",
         "Energy": "0.701",
         "Genre": "['dance pop', 'pop']",
         "Highest Charting Position": 3,
         "Index": 7,
         "Liveness": "0.123",
         "Loudness": "-3.541",
         "Number of Times Charted": 16,
         "Popularity": "94",
         "Release Date": "2021-04-09",
         "Song ID": "748mdHapucXQri7IAO8yFK",
         "Song Name": "Kiss Me More (feat. SZA)",
         "Speechiness": "0.0286",
         "Streams": "29,356,736",
         "Tempo": "110.968",
         "Valence": "0.742",
         "Week of Highest Charting": "2021-05-14--2021-05-21",
         "Weeks Charted": "2021-07-23--2021-07-30\n2021-07-16--2021-07-23\n2021-07-09--2021-07-16\n2021-07-02--2021-07-09\n2021-06…",
         "_deepnote_index_column": 6
        },
        {
         "Acousticness": "0.31",
         "Artist": "Rauw Alejandro",
         "Artist Followers": "6080597",
         "Chord": "D#/Eb",
         "Danceability": "0.78",
         "Duration (ms)": "199604",
         "Energy": "0.718",
         "Genre": "['puerto rican pop', 'trap latino']",
         "Highest Charting Position": 2,
         "Index": 8,
         "Liveness": "0.0932",
         "Loudness": "-3.605",
         "Number of Times Charted": 10,
         "Popularity": "95",
         "Release Date": "2021-05-20",
         "Song ID": "4fSIb4hdOQ151TILNsSEaF",
         "Song Name": "Todo De Ti",
         "Speechiness": "0.0506",
         "Streams": "26,951,613",
         "Tempo": "127.949",
         "Valence": "0.342",
         "Week of Highest Charting": "2021-06-18--2021-06-25",
         "Weeks Charted": "2021-07-23--2021-07-30\n2021-07-16--2021-07-23\n2021-07-09--2021-07-16\n2021-07-02--2021-07-09\n2021-06…",
         "_deepnote_index_column": 7
        },
        {
         "Acousticness": "0.276",
         "Artist": "Bad Bunny",
         "Artist Followers": "36142273",
         "Chord": "C#/Db",
         "Danceability": "0.644",
         "Duration (ms)": "206710",
         "Energy": "0.648",
         "Genre": "['latin', 'reggaeton', 'trap latino']",
         "Highest Charting Position": 3,
         "Index": 9,
         "Liveness": "0.135",
         "Loudness": "-4.601",
         "Number of Times Charted": 8,
         "Popularity": "96",
         "Release Date": "2021-06-04",
         "Song ID": "2JPLbjOn0wPCngEot2STUS",
         "Song Name": "Yonaguni",
         "Speechiness": "0.118",
         "Streams": "25,030,128",
         "Tempo": "179.951",
         "Valence": "0.44",
         "Week of Highest Charting": "2021-06-18--2021-06-25",
         "Weeks Charted": "2021-07-23--2021-07-30\n2021-07-16--2021-07-23\n2021-07-09--2021-07-16\n2021-07-02--2021-07-09\n2021-06…",
         "_deepnote_index_column": 8
        },
        {
         "Acousticness": "0.00165",
         "Artist": "Måneskin",
         "Artist Followers": "3377762",
         "Chord": "C#/Db",
         "Danceability": "0.75",
         "Duration (ms)": "173347",
         "Energy": "0.608",
         "Genre": "['indie rock italiano', 'italian pop']",
         "Highest Charting Position": 8,
         "Index": 10,
         "Liveness": "0.178",
         "Loudness": "-4.008",
         "Number of Times Charted": 10,
         "Popularity": "95",
         "Release Date": "2021-03-19",
         "Song ID": "4pt5fDVTg5GhEvEtlz9dKk",
         "Song Name": "I WANNA BE YOUR SLAVE",
         "Speechiness": "0.0387",
         "Streams": "24,551,591",
         "Tempo": "132.507",
         "Valence": "0.958",
         "Week of Highest Charting": "2021-07-02--2021-07-09",
         "Weeks Charted": "2021-07-23--2021-07-30\n2021-07-16--2021-07-23\n2021-07-09--2021-07-16\n2021-07-02--2021-07-09\n2021-06…",
         "_deepnote_index_column": 9
        }
       ]
      },
      "text/html": [
       "<div>\n",
       "<style scoped>\n",
       "    .dataframe tbody tr th:only-of-type {\n",
       "        vertical-align: middle;\n",
       "    }\n",
       "\n",
       "    .dataframe tbody tr th {\n",
       "        vertical-align: top;\n",
       "    }\n",
       "\n",
       "    .dataframe thead th {\n",
       "        text-align: right;\n",
       "    }\n",
       "</style>\n",
       "<table border=\"1\" class=\"dataframe\">\n",
       "  <thead>\n",
       "    <tr style=\"text-align: right;\">\n",
       "      <th></th>\n",
       "      <th>Index</th>\n",
       "      <th>Highest Charting Position</th>\n",
       "      <th>Number of Times Charted</th>\n",
       "      <th>Week of Highest Charting</th>\n",
       "      <th>Song Name</th>\n",
       "      <th>Streams</th>\n",
       "      <th>Artist</th>\n",
       "      <th>Artist Followers</th>\n",
       "      <th>Song ID</th>\n",
       "      <th>Genre</th>\n",
       "      <th>...</th>\n",
       "      <th>Danceability</th>\n",
       "      <th>Energy</th>\n",
       "      <th>Loudness</th>\n",
       "      <th>Speechiness</th>\n",
       "      <th>Acousticness</th>\n",
       "      <th>Liveness</th>\n",
       "      <th>Tempo</th>\n",
       "      <th>Duration (ms)</th>\n",
       "      <th>Valence</th>\n",
       "      <th>Chord</th>\n",
       "    </tr>\n",
       "  </thead>\n",
       "  <tbody>\n",
       "    <tr>\n",
       "      <th>0</th>\n",
       "      <td>1</td>\n",
       "      <td>1</td>\n",
       "      <td>8</td>\n",
       "      <td>2021-07-23--2021-07-30</td>\n",
       "      <td>Beggin'</td>\n",
       "      <td>48,633,449</td>\n",
       "      <td>Måneskin</td>\n",
       "      <td>3377762</td>\n",
       "      <td>3Wrjm47oTz2sjIgck11l5e</td>\n",
       "      <td>['indie rock italiano', 'italian pop']</td>\n",
       "      <td>...</td>\n",
       "      <td>0.714</td>\n",
       "      <td>0.8</td>\n",
       "      <td>-4.808</td>\n",
       "      <td>0.0504</td>\n",
       "      <td>0.127</td>\n",
       "      <td>0.359</td>\n",
       "      <td>134.002</td>\n",
       "      <td>211560</td>\n",
       "      <td>0.589</td>\n",
       "      <td>B</td>\n",
       "    </tr>\n",
       "    <tr>\n",
       "      <th>1</th>\n",
       "      <td>2</td>\n",
       "      <td>2</td>\n",
       "      <td>3</td>\n",
       "      <td>2021-07-23--2021-07-30</td>\n",
       "      <td>STAY (with Justin Bieber)</td>\n",
       "      <td>47,248,719</td>\n",
       "      <td>The Kid LAROI</td>\n",
       "      <td>2230022</td>\n",
       "      <td>5HCyWlXZPP0y6Gqq8TgA20</td>\n",
       "      <td>['australian hip hop']</td>\n",
       "      <td>...</td>\n",
       "      <td>0.591</td>\n",
       "      <td>0.764</td>\n",
       "      <td>-5.484</td>\n",
       "      <td>0.0483</td>\n",
       "      <td>0.0383</td>\n",
       "      <td>0.103</td>\n",
       "      <td>169.928</td>\n",
       "      <td>141806</td>\n",
       "      <td>0.478</td>\n",
       "      <td>C#/Db</td>\n",
       "    </tr>\n",
       "    <tr>\n",
       "      <th>2</th>\n",
       "      <td>3</td>\n",
       "      <td>1</td>\n",
       "      <td>11</td>\n",
       "      <td>2021-06-25--2021-07-02</td>\n",
       "      <td>good 4 u</td>\n",
       "      <td>40,162,559</td>\n",
       "      <td>Olivia Rodrigo</td>\n",
       "      <td>6266514</td>\n",
       "      <td>4ZtFanR9U6ndgddUvNcjcG</td>\n",
       "      <td>['pop']</td>\n",
       "      <td>...</td>\n",
       "      <td>0.563</td>\n",
       "      <td>0.664</td>\n",
       "      <td>-5.044</td>\n",
       "      <td>0.154</td>\n",
       "      <td>0.335</td>\n",
       "      <td>0.0849</td>\n",
       "      <td>166.928</td>\n",
       "      <td>178147</td>\n",
       "      <td>0.688</td>\n",
       "      <td>A</td>\n",
       "    </tr>\n",
       "    <tr>\n",
       "      <th>3</th>\n",
       "      <td>4</td>\n",
       "      <td>3</td>\n",
       "      <td>5</td>\n",
       "      <td>2021-07-02--2021-07-09</td>\n",
       "      <td>Bad Habits</td>\n",
       "      <td>37,799,456</td>\n",
       "      <td>Ed Sheeran</td>\n",
       "      <td>83293380</td>\n",
       "      <td>6PQ88X9TkUIAUIZJHW2upE</td>\n",
       "      <td>['pop', 'uk pop']</td>\n",
       "      <td>...</td>\n",
       "      <td>0.808</td>\n",
       "      <td>0.897</td>\n",
       "      <td>-3.712</td>\n",
       "      <td>0.0348</td>\n",
       "      <td>0.0469</td>\n",
       "      <td>0.364</td>\n",
       "      <td>126.026</td>\n",
       "      <td>231041</td>\n",
       "      <td>0.591</td>\n",
       "      <td>B</td>\n",
       "    </tr>\n",
       "    <tr>\n",
       "      <th>4</th>\n",
       "      <td>5</td>\n",
       "      <td>5</td>\n",
       "      <td>1</td>\n",
       "      <td>2021-07-23--2021-07-30</td>\n",
       "      <td>INDUSTRY BABY (feat. Jack Harlow)</td>\n",
       "      <td>33,948,454</td>\n",
       "      <td>Lil Nas X</td>\n",
       "      <td>5473565</td>\n",
       "      <td>27NovPIUIRrOZoCHxABJwK</td>\n",
       "      <td>['lgbtq+ hip hop', 'pop rap']</td>\n",
       "      <td>...</td>\n",
       "      <td>0.736</td>\n",
       "      <td>0.704</td>\n",
       "      <td>-7.409</td>\n",
       "      <td>0.0615</td>\n",
       "      <td>0.0203</td>\n",
       "      <td>0.0501</td>\n",
       "      <td>149.995</td>\n",
       "      <td>212000</td>\n",
       "      <td>0.894</td>\n",
       "      <td>D#/Eb</td>\n",
       "    </tr>\n",
       "    <tr>\n",
       "      <th>...</th>\n",
       "      <td>...</td>\n",
       "      <td>...</td>\n",
       "      <td>...</td>\n",
       "      <td>...</td>\n",
       "      <td>...</td>\n",
       "      <td>...</td>\n",
       "      <td>...</td>\n",
       "      <td>...</td>\n",
       "      <td>...</td>\n",
       "      <td>...</td>\n",
       "      <td>...</td>\n",
       "      <td>...</td>\n",
       "      <td>...</td>\n",
       "      <td>...</td>\n",
       "      <td>...</td>\n",
       "      <td>...</td>\n",
       "      <td>...</td>\n",
       "      <td>...</td>\n",
       "      <td>...</td>\n",
       "      <td>...</td>\n",
       "      <td>...</td>\n",
       "    </tr>\n",
       "    <tr>\n",
       "      <th>1551</th>\n",
       "      <td>1552</td>\n",
       "      <td>195</td>\n",
       "      <td>1</td>\n",
       "      <td>2019-12-27--2020-01-03</td>\n",
       "      <td>New Rules</td>\n",
       "      <td>4,630,675</td>\n",
       "      <td>Dua Lipa</td>\n",
       "      <td>27167675</td>\n",
       "      <td>2ekn2ttSfGqwhhate0LSR0</td>\n",
       "      <td>['dance pop', 'pop', 'uk pop']</td>\n",
       "      <td>...</td>\n",
       "      <td>0.762</td>\n",
       "      <td>0.7</td>\n",
       "      <td>-6.021</td>\n",
       "      <td>0.0694</td>\n",
       "      <td>0.00261</td>\n",
       "      <td>0.153</td>\n",
       "      <td>116.073</td>\n",
       "      <td>209320</td>\n",
       "      <td>0.608</td>\n",
       "      <td>A</td>\n",
       "    </tr>\n",
       "    <tr>\n",
       "      <th>1552</th>\n",
       "      <td>1553</td>\n",
       "      <td>196</td>\n",
       "      <td>1</td>\n",
       "      <td>2019-12-27--2020-01-03</td>\n",
       "      <td>Cheirosa - Ao Vivo</td>\n",
       "      <td>4,623,030</td>\n",
       "      <td>Jorge &amp; Mateus</td>\n",
       "      <td>15019109</td>\n",
       "      <td>2PWjKmjyTZeDpmOUa3a5da</td>\n",
       "      <td>['sertanejo', 'sertanejo universitario']</td>\n",
       "      <td>...</td>\n",
       "      <td>0.528</td>\n",
       "      <td>0.87</td>\n",
       "      <td>-3.123</td>\n",
       "      <td>0.0851</td>\n",
       "      <td>0.24</td>\n",
       "      <td>0.333</td>\n",
       "      <td>152.37</td>\n",
       "      <td>181930</td>\n",
       "      <td>0.714</td>\n",
       "      <td>B</td>\n",
       "    </tr>\n",
       "    <tr>\n",
       "      <th>1553</th>\n",
       "      <td>1554</td>\n",
       "      <td>197</td>\n",
       "      <td>1</td>\n",
       "      <td>2019-12-27--2020-01-03</td>\n",
       "      <td>Havana (feat. Young Thug)</td>\n",
       "      <td>4,620,876</td>\n",
       "      <td>Camila Cabello</td>\n",
       "      <td>22698747</td>\n",
       "      <td>1rfofaqEpACxVEHIZBJe6W</td>\n",
       "      <td>['dance pop', 'electropop', 'pop', 'post-teen ...</td>\n",
       "      <td>...</td>\n",
       "      <td>0.765</td>\n",
       "      <td>0.523</td>\n",
       "      <td>-4.333</td>\n",
       "      <td>0.03</td>\n",
       "      <td>0.184</td>\n",
       "      <td>0.132</td>\n",
       "      <td>104.988</td>\n",
       "      <td>217307</td>\n",
       "      <td>0.394</td>\n",
       "      <td>D</td>\n",
       "    </tr>\n",
       "    <tr>\n",
       "      <th>1554</th>\n",
       "      <td>1555</td>\n",
       "      <td>198</td>\n",
       "      <td>1</td>\n",
       "      <td>2019-12-27--2020-01-03</td>\n",
       "      <td>Surtada - Remix Brega Funk</td>\n",
       "      <td>4,607,385</td>\n",
       "      <td>Dadá Boladão, Tati Zaqui, OIK</td>\n",
       "      <td>208630</td>\n",
       "      <td>5F8ffc8KWKNawllr5WsW0r</td>\n",
       "      <td>['brega funk', 'funk carioca']</td>\n",
       "      <td>...</td>\n",
       "      <td>0.832</td>\n",
       "      <td>0.55</td>\n",
       "      <td>-7.026</td>\n",
       "      <td>0.0587</td>\n",
       "      <td>0.249</td>\n",
       "      <td>0.182</td>\n",
       "      <td>154.064</td>\n",
       "      <td>152784</td>\n",
       "      <td>0.881</td>\n",
       "      <td>F</td>\n",
       "    </tr>\n",
       "    <tr>\n",
       "      <th>1555</th>\n",
       "      <td>1556</td>\n",
       "      <td>199</td>\n",
       "      <td>1</td>\n",
       "      <td>2019-12-27--2020-01-03</td>\n",
       "      <td>Lover (Remix) [feat. Shawn Mendes]</td>\n",
       "      <td>4,595,450</td>\n",
       "      <td>Taylor Swift</td>\n",
       "      <td>42227614</td>\n",
       "      <td>3i9UVldZOE0aD0JnyfAZZ0</td>\n",
       "      <td>['pop', 'post-teen pop']</td>\n",
       "      <td>...</td>\n",
       "      <td>0.448</td>\n",
       "      <td>0.603</td>\n",
       "      <td>-7.176</td>\n",
       "      <td>0.064</td>\n",
       "      <td>0.433</td>\n",
       "      <td>0.0862</td>\n",
       "      <td>205.272</td>\n",
       "      <td>221307</td>\n",
       "      <td>0.422</td>\n",
       "      <td>G</td>\n",
       "    </tr>\n",
       "  </tbody>\n",
       "</table>\n",
       "<p>1556 rows × 23 columns</p>\n",
       "</div>"
      ],
      "text/plain": [
       "      Index  Highest Charting Position  Number of Times Charted  \\\n",
       "0         1                          1                        8   \n",
       "1         2                          2                        3   \n",
       "2         3                          1                       11   \n",
       "3         4                          3                        5   \n",
       "4         5                          5                        1   \n",
       "...     ...                        ...                      ...   \n",
       "1551   1552                        195                        1   \n",
       "1552   1553                        196                        1   \n",
       "1553   1554                        197                        1   \n",
       "1554   1555                        198                        1   \n",
       "1555   1556                        199                        1   \n",
       "\n",
       "     Week of Highest Charting                           Song Name     Streams  \\\n",
       "0      2021-07-23--2021-07-30                             Beggin'  48,633,449   \n",
       "1      2021-07-23--2021-07-30           STAY (with Justin Bieber)  47,248,719   \n",
       "2      2021-06-25--2021-07-02                            good 4 u  40,162,559   \n",
       "3      2021-07-02--2021-07-09                          Bad Habits  37,799,456   \n",
       "4      2021-07-23--2021-07-30   INDUSTRY BABY (feat. Jack Harlow)  33,948,454   \n",
       "...                       ...                                 ...         ...   \n",
       "1551   2019-12-27--2020-01-03                           New Rules   4,630,675   \n",
       "1552   2019-12-27--2020-01-03                  Cheirosa - Ao Vivo   4,623,030   \n",
       "1553   2019-12-27--2020-01-03           Havana (feat. Young Thug)   4,620,876   \n",
       "1554   2019-12-27--2020-01-03          Surtada - Remix Brega Funk   4,607,385   \n",
       "1555   2019-12-27--2020-01-03  Lover (Remix) [feat. Shawn Mendes]   4,595,450   \n",
       "\n",
       "                             Artist Artist Followers                 Song ID  \\\n",
       "0                          Måneskin          3377762  3Wrjm47oTz2sjIgck11l5e   \n",
       "1                     The Kid LAROI          2230022  5HCyWlXZPP0y6Gqq8TgA20   \n",
       "2                    Olivia Rodrigo          6266514  4ZtFanR9U6ndgddUvNcjcG   \n",
       "3                        Ed Sheeran         83293380  6PQ88X9TkUIAUIZJHW2upE   \n",
       "4                         Lil Nas X          5473565  27NovPIUIRrOZoCHxABJwK   \n",
       "...                             ...              ...                     ...   \n",
       "1551                       Dua Lipa         27167675  2ekn2ttSfGqwhhate0LSR0   \n",
       "1552                 Jorge & Mateus         15019109  2PWjKmjyTZeDpmOUa3a5da   \n",
       "1553                 Camila Cabello         22698747  1rfofaqEpACxVEHIZBJe6W   \n",
       "1554  Dadá Boladão, Tati Zaqui, OIK           208630  5F8ffc8KWKNawllr5WsW0r   \n",
       "1555                   Taylor Swift         42227614  3i9UVldZOE0aD0JnyfAZZ0   \n",
       "\n",
       "                                                  Genre  ... Danceability  \\\n",
       "0                ['indie rock italiano', 'italian pop']  ...        0.714   \n",
       "1                                ['australian hip hop']  ...        0.591   \n",
       "2                                               ['pop']  ...        0.563   \n",
       "3                                     ['pop', 'uk pop']  ...        0.808   \n",
       "4                         ['lgbtq+ hip hop', 'pop rap']  ...        0.736   \n",
       "...                                                 ...  ...          ...   \n",
       "1551                     ['dance pop', 'pop', 'uk pop']  ...        0.762   \n",
       "1552           ['sertanejo', 'sertanejo universitario']  ...        0.528   \n",
       "1553  ['dance pop', 'electropop', 'pop', 'post-teen ...  ...        0.765   \n",
       "1554                     ['brega funk', 'funk carioca']  ...        0.832   \n",
       "1555                           ['pop', 'post-teen pop']  ...        0.448   \n",
       "\n",
       "     Energy Loudness Speechiness Acousticness Liveness    Tempo Duration (ms)  \\\n",
       "0       0.8   -4.808      0.0504        0.127    0.359  134.002        211560   \n",
       "1     0.764   -5.484      0.0483       0.0383    0.103  169.928        141806   \n",
       "2     0.664   -5.044       0.154        0.335   0.0849  166.928        178147   \n",
       "3     0.897   -3.712      0.0348       0.0469    0.364  126.026        231041   \n",
       "4     0.704   -7.409      0.0615       0.0203   0.0501  149.995        212000   \n",
       "...     ...      ...         ...          ...      ...      ...           ...   \n",
       "1551    0.7   -6.021      0.0694      0.00261    0.153  116.073        209320   \n",
       "1552   0.87   -3.123      0.0851         0.24    0.333   152.37        181930   \n",
       "1553  0.523   -4.333        0.03        0.184    0.132  104.988        217307   \n",
       "1554   0.55   -7.026      0.0587        0.249    0.182  154.064        152784   \n",
       "1555  0.603   -7.176       0.064        0.433   0.0862  205.272        221307   \n",
       "\n",
       "     Valence  Chord  \n",
       "0      0.589      B  \n",
       "1      0.478  C#/Db  \n",
       "2      0.688      A  \n",
       "3      0.591      B  \n",
       "4      0.894  D#/Eb  \n",
       "...      ...    ...  \n",
       "1551   0.608      A  \n",
       "1552   0.714      B  \n",
       "1553   0.394      D  \n",
       "1554   0.881      F  \n",
       "1555   0.422      G  \n",
       "\n",
       "[1556 rows x 23 columns]"
      ]
     },
     "execution_count": 7,
     "metadata": {},
     "output_type": "execute_result"
    }
   ],
   "source": [
    "df.replace(\" \",np.nan)"
   ]
  },
  {
   "cell_type": "code",
   "execution_count": 8,
   "metadata": {
    "cell_id": "5c74fc72-a15e-4072-a3c0-5350c089cd0a",
    "deepnote_cell_type": "code",
    "deepnote_to_be_reexecuted": false,
    "execution_millis": 96,
    "execution_start": 1643213485501,
    "source_hash": "c085b6ba",
    "tags": []
   },
   "outputs": [
    {
     "data": {
      "application/vnd.deepnote.dataframe.v3+json": {
       "column_count": 23,
       "columns": [
        {
         "dtype": "int64",
         "name": "Index",
         "stats": {
          "histogram": [
           {
            "bin_end": 1.4,
            "bin_start": 1,
            "count": 1
           },
           {
            "bin_end": 1.8,
            "bin_start": 1.4,
            "count": 0
           },
           {
            "bin_end": 2.2,
            "bin_start": 1.8,
            "count": 1
           },
           {
            "bin_end": 2.6,
            "bin_start": 2.2,
            "count": 0
           },
           {
            "bin_end": 3,
            "bin_start": 2.6,
            "count": 0
           },
           {
            "bin_end": 3.4000000000000004,
            "bin_start": 3,
            "count": 1
           },
           {
            "bin_end": 3.8000000000000003,
            "bin_start": 3.4000000000000004,
            "count": 0
           },
           {
            "bin_end": 4.2,
            "bin_start": 3.8000000000000003,
            "count": 1
           },
           {
            "bin_end": 4.6,
            "bin_start": 4.2,
            "count": 0
           },
           {
            "bin_end": 5,
            "bin_start": 4.6,
            "count": 1
           }
          ],
          "max": "5",
          "min": "1",
          "nan_count": 0,
          "unique_count": 5
         }
        },
        {
         "dtype": "int64",
         "name": "Highest Charting Position",
         "stats": {
          "histogram": [
           {
            "bin_end": 1.4,
            "bin_start": 1,
            "count": 2
           },
           {
            "bin_end": 1.8,
            "bin_start": 1.4,
            "count": 0
           },
           {
            "bin_end": 2.2,
            "bin_start": 1.8,
            "count": 1
           },
           {
            "bin_end": 2.6,
            "bin_start": 2.2,
            "count": 0
           },
           {
            "bin_end": 3,
            "bin_start": 2.6,
            "count": 0
           },
           {
            "bin_end": 3.4000000000000004,
            "bin_start": 3,
            "count": 1
           },
           {
            "bin_end": 3.8000000000000003,
            "bin_start": 3.4000000000000004,
            "count": 0
           },
           {
            "bin_end": 4.2,
            "bin_start": 3.8000000000000003,
            "count": 0
           },
           {
            "bin_end": 4.6,
            "bin_start": 4.2,
            "count": 0
           },
           {
            "bin_end": 5,
            "bin_start": 4.6,
            "count": 1
           }
          ],
          "max": "5",
          "min": "1",
          "nan_count": 0,
          "unique_count": 4
         }
        },
        {
         "dtype": "int64",
         "name": "Number of Times Charted",
         "stats": {
          "histogram": [
           {
            "bin_end": 2,
            "bin_start": 1,
            "count": 1
           },
           {
            "bin_end": 3,
            "bin_start": 2,
            "count": 0
           },
           {
            "bin_end": 4,
            "bin_start": 3,
            "count": 1
           },
           {
            "bin_end": 5,
            "bin_start": 4,
            "count": 0
           },
           {
            "bin_end": 6,
            "bin_start": 5,
            "count": 1
           },
           {
            "bin_end": 7,
            "bin_start": 6,
            "count": 0
           },
           {
            "bin_end": 8,
            "bin_start": 7,
            "count": 0
           },
           {
            "bin_end": 9,
            "bin_start": 8,
            "count": 1
           },
           {
            "bin_end": 10,
            "bin_start": 9,
            "count": 0
           },
           {
            "bin_end": 11,
            "bin_start": 10,
            "count": 1
           }
          ],
          "max": "11",
          "min": "1",
          "nan_count": 0,
          "unique_count": 5
         }
        },
        {
         "dtype": "object",
         "name": "Week of Highest Charting",
         "stats": {
          "categories": [
           {
            "count": 3,
            "name": "2021-07-23--2021-07-30"
           },
           {
            "count": 1,
            "name": "2021-06-25--2021-07-02"
           },
           {
            "count": 1,
            "name": "2021-07-02--2021-07-09"
           }
          ],
          "nan_count": 0,
          "unique_count": 3
         }
        },
        {
         "dtype": "object",
         "name": "Song Name",
         "stats": {
          "categories": [
           {
            "count": 1,
            "name": "Beggin'"
           },
           {
            "count": 1,
            "name": "STAY (with Justin Bieber)"
           },
           {
            "count": 3,
            "name": "3 others"
           }
          ],
          "nan_count": 0,
          "unique_count": 5
         }
        },
        {
         "dtype": "object",
         "name": "Streams",
         "stats": {
          "categories": [
           {
            "count": 1,
            "name": "48,633,449"
           },
           {
            "count": 1,
            "name": "47,248,719"
           },
           {
            "count": 3,
            "name": "3 others"
           }
          ],
          "nan_count": 0,
          "unique_count": 5
         }
        },
        {
         "dtype": "object",
         "name": "Artist",
         "stats": {
          "categories": [
           {
            "count": 1,
            "name": "Måneskin"
           },
           {
            "count": 1,
            "name": "The Kid LAROI"
           },
           {
            "count": 3,
            "name": "3 others"
           }
          ],
          "nan_count": 0,
          "unique_count": 5
         }
        },
        {
         "dtype": "object",
         "name": "Artist Followers",
         "stats": {
          "categories": [
           {
            "count": 1,
            "name": "3377762"
           },
           {
            "count": 1,
            "name": "2230022"
           },
           {
            "count": 3,
            "name": "3 others"
           }
          ],
          "nan_count": 0,
          "unique_count": 5
         }
        },
        {
         "dtype": "object",
         "name": "Song ID",
         "stats": {
          "categories": [
           {
            "count": 1,
            "name": "3Wrjm47oTz2sjIgck11l5e"
           },
           {
            "count": 1,
            "name": "5HCyWlXZPP0y6Gqq8TgA20"
           },
           {
            "count": 3,
            "name": "3 others"
           }
          ],
          "nan_count": 0,
          "unique_count": 5
         }
        },
        {
         "dtype": "object",
         "name": "Genre",
         "stats": {
          "categories": [
           {
            "count": 1,
            "name": "['indie rock italiano', 'italian pop']"
           },
           {
            "count": 1,
            "name": "['australian hip hop']"
           },
           {
            "count": 3,
            "name": "3 others"
           }
          ],
          "nan_count": 0,
          "unique_count": 5
         }
        },
        {
         "dtype": "object",
         "name": "Release Date",
         "stats": {
          "categories": [
           {
            "count": 1,
            "name": "2017-12-08"
           },
           {
            "count": 1,
            "name": "2021-07-09"
           },
           {
            "count": 3,
            "name": "3 others"
           }
          ],
          "nan_count": 0,
          "unique_count": 5
         }
        },
        {
         "dtype": "object",
         "name": "Weeks Charted",
         "stats": {
          "categories": [
           {
            "count": 1,
            "name": "2021-07-23--2021-07-30\n2021-07-16--2021-07-23\n2021-07-09--2021-07-16\n2021-07-02--2021-07-09\n2021-06-25--2021-07-02\n2021-06-18--2021-06-25\n2021-06-11--2021-06-18\n2021-06-04--2021-06-11"
           },
           {
            "count": 1,
            "name": "2021-07-23--2021-07-30\n2021-07-16--2021-07-23\n2021-07-09--2021-07-16"
           },
           {
            "count": 3,
            "name": "3 others"
           }
          ],
          "nan_count": 0,
          "unique_count": 5
         }
        },
        {
         "dtype": "object",
         "name": "Popularity",
         "stats": {
          "categories": [
           {
            "count": 2,
            "name": "99"
           },
           {
            "count": 1,
            "name": "100"
           },
           {
            "count": 2,
            "name": "2 others"
           }
          ],
          "nan_count": 0,
          "unique_count": 4
         }
        },
        {
         "dtype": "object",
         "name": "Danceability",
         "stats": {
          "categories": [
           {
            "count": 1,
            "name": "0.714"
           },
           {
            "count": 1,
            "name": "0.591"
           },
           {
            "count": 3,
            "name": "3 others"
           }
          ],
          "nan_count": 0,
          "unique_count": 5
         }
        },
        {
         "dtype": "object",
         "name": "Energy",
         "stats": {
          "categories": [
           {
            "count": 1,
            "name": "0.8"
           },
           {
            "count": 1,
            "name": "0.764"
           },
           {
            "count": 3,
            "name": "3 others"
           }
          ],
          "nan_count": 0,
          "unique_count": 5
         }
        },
        {
         "dtype": "object",
         "name": "Loudness",
         "stats": {
          "categories": [
           {
            "count": 1,
            "name": "-4.808"
           },
           {
            "count": 1,
            "name": "-5.484"
           },
           {
            "count": 3,
            "name": "3 others"
           }
          ],
          "nan_count": 0,
          "unique_count": 5
         }
        },
        {
         "dtype": "object",
         "name": "Speechiness",
         "stats": {
          "categories": [
           {
            "count": 1,
            "name": "0.0504"
           },
           {
            "count": 1,
            "name": "0.0483"
           },
           {
            "count": 3,
            "name": "3 others"
           }
          ],
          "nan_count": 0,
          "unique_count": 5
         }
        },
        {
         "dtype": "object",
         "name": "Acousticness",
         "stats": {
          "categories": [
           {
            "count": 1,
            "name": "0.127"
           },
           {
            "count": 1,
            "name": "0.0383"
           },
           {
            "count": 3,
            "name": "3 others"
           }
          ],
          "nan_count": 0,
          "unique_count": 5
         }
        },
        {
         "dtype": "object",
         "name": "Liveness",
         "stats": {
          "categories": [
           {
            "count": 1,
            "name": "0.359"
           },
           {
            "count": 1,
            "name": "0.103"
           },
           {
            "count": 3,
            "name": "3 others"
           }
          ],
          "nan_count": 0,
          "unique_count": 5
         }
        },
        {
         "dtype": "object",
         "name": "Tempo",
         "stats": {
          "categories": [
           {
            "count": 1,
            "name": "134.002"
           },
           {
            "count": 1,
            "name": "169.928"
           },
           {
            "count": 3,
            "name": "3 others"
           }
          ],
          "nan_count": 0,
          "unique_count": 5
         }
        },
        {
         "dtype": "object",
         "name": "Duration (ms)",
         "stats": {
          "categories": [
           {
            "count": 1,
            "name": "211560"
           },
           {
            "count": 1,
            "name": "141806"
           },
           {
            "count": 3,
            "name": "3 others"
           }
          ],
          "nan_count": 0,
          "unique_count": 5
         }
        },
        {
         "dtype": "object",
         "name": "Valence",
         "stats": {
          "categories": [
           {
            "count": 1,
            "name": "0.589"
           },
           {
            "count": 1,
            "name": "0.478"
           },
           {
            "count": 3,
            "name": "3 others"
           }
          ],
          "nan_count": 0,
          "unique_count": 5
         }
        },
        {
         "dtype": "object",
         "name": "Chord",
         "stats": {
          "categories": [
           {
            "count": 2,
            "name": "B"
           },
           {
            "count": 1,
            "name": "C#/Db"
           },
           {
            "count": 2,
            "name": "2 others"
           }
          ],
          "nan_count": 0,
          "unique_count": 4
         }
        },
        {
         "dtype": "int64",
         "name": "_deepnote_index_column"
        }
       ],
       "row_count": 5,
       "rows": [
        {
         "Acousticness": "0.127",
         "Artist": "Måneskin",
         "Artist Followers": "3377762",
         "Chord": "B",
         "Danceability": "0.714",
         "Duration (ms)": "211560",
         "Energy": "0.8",
         "Genre": "['indie rock italiano', 'italian pop']",
         "Highest Charting Position": 1,
         "Index": 1,
         "Liveness": "0.359",
         "Loudness": "-4.808",
         "Number of Times Charted": 8,
         "Popularity": "100",
         "Release Date": "2017-12-08",
         "Song ID": "3Wrjm47oTz2sjIgck11l5e",
         "Song Name": "Beggin'",
         "Speechiness": "0.0504",
         "Streams": "48,633,449",
         "Tempo": "134.002",
         "Valence": "0.589",
         "Week of Highest Charting": "2021-07-23--2021-07-30",
         "Weeks Charted": "2021-07-23--2021-07-30\n2021-07-16--2021-07-23\n2021-07-09--2021-07-16\n2021-07-02--2021-07-09\n2021-06…",
         "_deepnote_index_column": 0
        },
        {
         "Acousticness": "0.0383",
         "Artist": "The Kid LAROI",
         "Artist Followers": "2230022",
         "Chord": "C#/Db",
         "Danceability": "0.591",
         "Duration (ms)": "141806",
         "Energy": "0.764",
         "Genre": "['australian hip hop']",
         "Highest Charting Position": 2,
         "Index": 2,
         "Liveness": "0.103",
         "Loudness": "-5.484",
         "Number of Times Charted": 3,
         "Popularity": "99",
         "Release Date": "2021-07-09",
         "Song ID": "5HCyWlXZPP0y6Gqq8TgA20",
         "Song Name": "STAY (with Justin Bieber)",
         "Speechiness": "0.0483",
         "Streams": "47,248,719",
         "Tempo": "169.928",
         "Valence": "0.478",
         "Week of Highest Charting": "2021-07-23--2021-07-30",
         "Weeks Charted": "2021-07-23--2021-07-30\n2021-07-16--2021-07-23\n2021-07-09--2021-07-16",
         "_deepnote_index_column": 1
        },
        {
         "Acousticness": "0.335",
         "Artist": "Olivia Rodrigo",
         "Artist Followers": "6266514",
         "Chord": "A",
         "Danceability": "0.563",
         "Duration (ms)": "178147",
         "Energy": "0.664",
         "Genre": "['pop']",
         "Highest Charting Position": 1,
         "Index": 3,
         "Liveness": "0.0849",
         "Loudness": "-5.044",
         "Number of Times Charted": 11,
         "Popularity": "99",
         "Release Date": "2021-05-21",
         "Song ID": "4ZtFanR9U6ndgddUvNcjcG",
         "Song Name": "good 4 u",
         "Speechiness": "0.154",
         "Streams": "40,162,559",
         "Tempo": "166.928",
         "Valence": "0.688",
         "Week of Highest Charting": "2021-06-25--2021-07-02",
         "Weeks Charted": "2021-07-23--2021-07-30\n2021-07-16--2021-07-23\n2021-07-09--2021-07-16\n2021-07-02--2021-07-09\n2021-06…",
         "_deepnote_index_column": 2
        },
        {
         "Acousticness": "0.0469",
         "Artist": "Ed Sheeran",
         "Artist Followers": "83293380",
         "Chord": "B",
         "Danceability": "0.808",
         "Duration (ms)": "231041",
         "Energy": "0.897",
         "Genre": "['pop', 'uk pop']",
         "Highest Charting Position": 3,
         "Index": 4,
         "Liveness": "0.364",
         "Loudness": "-3.712",
         "Number of Times Charted": 5,
         "Popularity": "98",
         "Release Date": "2021-06-25",
         "Song ID": "6PQ88X9TkUIAUIZJHW2upE",
         "Song Name": "Bad Habits",
         "Speechiness": "0.0348",
         "Streams": "37,799,456",
         "Tempo": "126.026",
         "Valence": "0.591",
         "Week of Highest Charting": "2021-07-02--2021-07-09",
         "Weeks Charted": "2021-07-23--2021-07-30\n2021-07-16--2021-07-23\n2021-07-09--2021-07-16\n2021-07-02--2021-07-09\n2021-06…",
         "_deepnote_index_column": 3
        },
        {
         "Acousticness": "0.0203",
         "Artist": "Lil Nas X",
         "Artist Followers": "5473565",
         "Chord": "D#/Eb",
         "Danceability": "0.736",
         "Duration (ms)": "212000",
         "Energy": "0.704",
         "Genre": "['lgbtq+ hip hop', 'pop rap']",
         "Highest Charting Position": 5,
         "Index": 5,
         "Liveness": "0.0501",
         "Loudness": "-7.409",
         "Number of Times Charted": 1,
         "Popularity": "96",
         "Release Date": "2021-07-23",
         "Song ID": "27NovPIUIRrOZoCHxABJwK",
         "Song Name": "INDUSTRY BABY (feat. Jack Harlow)",
         "Speechiness": "0.0615",
         "Streams": "33,948,454",
         "Tempo": "149.995",
         "Valence": "0.894",
         "Week of Highest Charting": "2021-07-23--2021-07-30",
         "Weeks Charted": "2021-07-23--2021-07-30",
         "_deepnote_index_column": 4
        }
       ]
      },
      "text/html": [
       "<div>\n",
       "<style scoped>\n",
       "    .dataframe tbody tr th:only-of-type {\n",
       "        vertical-align: middle;\n",
       "    }\n",
       "\n",
       "    .dataframe tbody tr th {\n",
       "        vertical-align: top;\n",
       "    }\n",
       "\n",
       "    .dataframe thead th {\n",
       "        text-align: right;\n",
       "    }\n",
       "</style>\n",
       "<table border=\"1\" class=\"dataframe\">\n",
       "  <thead>\n",
       "    <tr style=\"text-align: right;\">\n",
       "      <th></th>\n",
       "      <th>Index</th>\n",
       "      <th>Highest Charting Position</th>\n",
       "      <th>Number of Times Charted</th>\n",
       "      <th>Week of Highest Charting</th>\n",
       "      <th>Song Name</th>\n",
       "      <th>Streams</th>\n",
       "      <th>Artist</th>\n",
       "      <th>Artist Followers</th>\n",
       "      <th>Song ID</th>\n",
       "      <th>Genre</th>\n",
       "      <th>...</th>\n",
       "      <th>Danceability</th>\n",
       "      <th>Energy</th>\n",
       "      <th>Loudness</th>\n",
       "      <th>Speechiness</th>\n",
       "      <th>Acousticness</th>\n",
       "      <th>Liveness</th>\n",
       "      <th>Tempo</th>\n",
       "      <th>Duration (ms)</th>\n",
       "      <th>Valence</th>\n",
       "      <th>Chord</th>\n",
       "    </tr>\n",
       "  </thead>\n",
       "  <tbody>\n",
       "    <tr>\n",
       "      <th>0</th>\n",
       "      <td>1</td>\n",
       "      <td>1</td>\n",
       "      <td>8</td>\n",
       "      <td>2021-07-23--2021-07-30</td>\n",
       "      <td>Beggin'</td>\n",
       "      <td>48,633,449</td>\n",
       "      <td>Måneskin</td>\n",
       "      <td>3377762</td>\n",
       "      <td>3Wrjm47oTz2sjIgck11l5e</td>\n",
       "      <td>['indie rock italiano', 'italian pop']</td>\n",
       "      <td>...</td>\n",
       "      <td>0.714</td>\n",
       "      <td>0.8</td>\n",
       "      <td>-4.808</td>\n",
       "      <td>0.0504</td>\n",
       "      <td>0.127</td>\n",
       "      <td>0.359</td>\n",
       "      <td>134.002</td>\n",
       "      <td>211560</td>\n",
       "      <td>0.589</td>\n",
       "      <td>B</td>\n",
       "    </tr>\n",
       "    <tr>\n",
       "      <th>1</th>\n",
       "      <td>2</td>\n",
       "      <td>2</td>\n",
       "      <td>3</td>\n",
       "      <td>2021-07-23--2021-07-30</td>\n",
       "      <td>STAY (with Justin Bieber)</td>\n",
       "      <td>47,248,719</td>\n",
       "      <td>The Kid LAROI</td>\n",
       "      <td>2230022</td>\n",
       "      <td>5HCyWlXZPP0y6Gqq8TgA20</td>\n",
       "      <td>['australian hip hop']</td>\n",
       "      <td>...</td>\n",
       "      <td>0.591</td>\n",
       "      <td>0.764</td>\n",
       "      <td>-5.484</td>\n",
       "      <td>0.0483</td>\n",
       "      <td>0.0383</td>\n",
       "      <td>0.103</td>\n",
       "      <td>169.928</td>\n",
       "      <td>141806</td>\n",
       "      <td>0.478</td>\n",
       "      <td>C#/Db</td>\n",
       "    </tr>\n",
       "    <tr>\n",
       "      <th>2</th>\n",
       "      <td>3</td>\n",
       "      <td>1</td>\n",
       "      <td>11</td>\n",
       "      <td>2021-06-25--2021-07-02</td>\n",
       "      <td>good 4 u</td>\n",
       "      <td>40,162,559</td>\n",
       "      <td>Olivia Rodrigo</td>\n",
       "      <td>6266514</td>\n",
       "      <td>4ZtFanR9U6ndgddUvNcjcG</td>\n",
       "      <td>['pop']</td>\n",
       "      <td>...</td>\n",
       "      <td>0.563</td>\n",
       "      <td>0.664</td>\n",
       "      <td>-5.044</td>\n",
       "      <td>0.154</td>\n",
       "      <td>0.335</td>\n",
       "      <td>0.0849</td>\n",
       "      <td>166.928</td>\n",
       "      <td>178147</td>\n",
       "      <td>0.688</td>\n",
       "      <td>A</td>\n",
       "    </tr>\n",
       "    <tr>\n",
       "      <th>3</th>\n",
       "      <td>4</td>\n",
       "      <td>3</td>\n",
       "      <td>5</td>\n",
       "      <td>2021-07-02--2021-07-09</td>\n",
       "      <td>Bad Habits</td>\n",
       "      <td>37,799,456</td>\n",
       "      <td>Ed Sheeran</td>\n",
       "      <td>83293380</td>\n",
       "      <td>6PQ88X9TkUIAUIZJHW2upE</td>\n",
       "      <td>['pop', 'uk pop']</td>\n",
       "      <td>...</td>\n",
       "      <td>0.808</td>\n",
       "      <td>0.897</td>\n",
       "      <td>-3.712</td>\n",
       "      <td>0.0348</td>\n",
       "      <td>0.0469</td>\n",
       "      <td>0.364</td>\n",
       "      <td>126.026</td>\n",
       "      <td>231041</td>\n",
       "      <td>0.591</td>\n",
       "      <td>B</td>\n",
       "    </tr>\n",
       "    <tr>\n",
       "      <th>4</th>\n",
       "      <td>5</td>\n",
       "      <td>5</td>\n",
       "      <td>1</td>\n",
       "      <td>2021-07-23--2021-07-30</td>\n",
       "      <td>INDUSTRY BABY (feat. Jack Harlow)</td>\n",
       "      <td>33,948,454</td>\n",
       "      <td>Lil Nas X</td>\n",
       "      <td>5473565</td>\n",
       "      <td>27NovPIUIRrOZoCHxABJwK</td>\n",
       "      <td>['lgbtq+ hip hop', 'pop rap']</td>\n",
       "      <td>...</td>\n",
       "      <td>0.736</td>\n",
       "      <td>0.704</td>\n",
       "      <td>-7.409</td>\n",
       "      <td>0.0615</td>\n",
       "      <td>0.0203</td>\n",
       "      <td>0.0501</td>\n",
       "      <td>149.995</td>\n",
       "      <td>212000</td>\n",
       "      <td>0.894</td>\n",
       "      <td>D#/Eb</td>\n",
       "    </tr>\n",
       "  </tbody>\n",
       "</table>\n",
       "<p>5 rows × 23 columns</p>\n",
       "</div>"
      ],
      "text/plain": [
       "   Index  Highest Charting Position  Number of Times Charted  \\\n",
       "0      1                          1                        8   \n",
       "1      2                          2                        3   \n",
       "2      3                          1                       11   \n",
       "3      4                          3                        5   \n",
       "4      5                          5                        1   \n",
       "\n",
       "  Week of Highest Charting                          Song Name     Streams  \\\n",
       "0   2021-07-23--2021-07-30                            Beggin'  48,633,449   \n",
       "1   2021-07-23--2021-07-30          STAY (with Justin Bieber)  47,248,719   \n",
       "2   2021-06-25--2021-07-02                           good 4 u  40,162,559   \n",
       "3   2021-07-02--2021-07-09                         Bad Habits  37,799,456   \n",
       "4   2021-07-23--2021-07-30  INDUSTRY BABY (feat. Jack Harlow)  33,948,454   \n",
       "\n",
       "           Artist Artist Followers                 Song ID  \\\n",
       "0        Måneskin          3377762  3Wrjm47oTz2sjIgck11l5e   \n",
       "1   The Kid LAROI          2230022  5HCyWlXZPP0y6Gqq8TgA20   \n",
       "2  Olivia Rodrigo          6266514  4ZtFanR9U6ndgddUvNcjcG   \n",
       "3      Ed Sheeran         83293380  6PQ88X9TkUIAUIZJHW2upE   \n",
       "4       Lil Nas X          5473565  27NovPIUIRrOZoCHxABJwK   \n",
       "\n",
       "                                    Genre  ... Danceability Energy Loudness  \\\n",
       "0  ['indie rock italiano', 'italian pop']  ...        0.714    0.8   -4.808   \n",
       "1                  ['australian hip hop']  ...        0.591  0.764   -5.484   \n",
       "2                                 ['pop']  ...        0.563  0.664   -5.044   \n",
       "3                       ['pop', 'uk pop']  ...        0.808  0.897   -3.712   \n",
       "4           ['lgbtq+ hip hop', 'pop rap']  ...        0.736  0.704   -7.409   \n",
       "\n",
       "  Speechiness Acousticness Liveness    Tempo Duration (ms) Valence  Chord  \n",
       "0      0.0504        0.127    0.359  134.002        211560   0.589      B  \n",
       "1      0.0483       0.0383    0.103  169.928        141806   0.478  C#/Db  \n",
       "2       0.154        0.335   0.0849  166.928        178147   0.688      A  \n",
       "3      0.0348       0.0469    0.364  126.026        231041   0.591      B  \n",
       "4      0.0615       0.0203   0.0501  149.995        212000   0.894  D#/Eb  \n",
       "\n",
       "[5 rows x 23 columns]"
      ]
     },
     "execution_count": 8,
     "metadata": {},
     "output_type": "execute_result"
    }
   ],
   "source": [
    "df.head()"
   ]
  },
  {
   "cell_type": "code",
   "execution_count": 9,
   "metadata": {
    "cell_id": "1620c668-cf58-48d0-949a-7030ed769acb",
    "deepnote_cell_type": "code",
    "deepnote_to_be_reexecuted": false,
    "execution_millis": 182,
    "execution_start": 1643213498229,
    "source_hash": "fdac2518",
    "tags": []
   },
   "outputs": [
    {
     "data": {
      "application/vnd.deepnote.dataframe.v3+json": {
       "column_count": 23,
       "columns": [
        {
         "dtype": "object",
         "name": "Index",
         "stats": {
          "categories": [
           {
            "count": 1,
            "name": "Hello"
           },
           {
            "count": 1,
            "name": "2"
           },
           {
            "count": 1554,
            "name": "1554 others"
           }
          ],
          "nan_count": 0,
          "unique_count": 1556
         }
        },
        {
         "dtype": "object",
         "name": "Highest Charting Position",
         "stats": {
          "categories": [
           {
            "count": 18,
            "name": "Hello"
           },
           {
            "count": 18,
            "name": "2"
           },
           {
            "count": 1520,
            "name": "198 others"
           }
          ],
          "nan_count": 0,
          "unique_count": 200
         }
        },
        {
         "dtype": "object",
         "name": "Number of Times Charted",
         "stats": {
          "categories": [
           {
            "count": 509,
            "name": "Hello"
           },
           {
            "count": 149,
            "name": "2"
           },
           {
            "count": 898,
            "name": "73 others"
           }
          ],
          "nan_count": 0,
          "unique_count": 75
         }
        },
        {
         "dtype": "object",
         "name": "Week of Highest Charting",
         "stats": {
          "categories": [
           {
            "count": 89,
            "name": "2019-12-27--2020-01-03"
           },
           {
            "count": 68,
            "name": "2020-12-18--2020-12-25"
           },
           {
            "count": 1399,
            "name": "81 others"
           }
          ],
          "nan_count": 0,
          "unique_count": 83
         }
        },
        {
         "dtype": "object",
         "name": "Song Name",
         "stats": {
          "categories": [
           {
            "count": 1,
            "name": "Beggin'"
           },
           {
            "count": 1,
            "name": "STAY (with Justin Bieber)"
           },
           {
            "count": 1554,
            "name": "1554 others"
           }
          ],
          "nan_count": 0,
          "unique_count": 1556
         }
        },
        {
         "dtype": "object",
         "name": "Streams",
         "stats": {
          "categories": [
           {
            "count": 1,
            "name": "48,633,449"
           },
           {
            "count": 1,
            "name": "47,248,719"
           },
           {
            "count": 1554,
            "name": "1554 others"
           }
          ],
          "nan_count": 0,
          "unique_count": 1556
         }
        },
        {
         "dtype": "object",
         "name": "Artist",
         "stats": {
          "categories": [
           {
            "count": 52,
            "name": "Taylor Swift"
           },
           {
            "count": 32,
            "name": "Justin Bieber"
           },
           {
            "count": 1472,
            "name": "714 others"
           }
          ],
          "nan_count": 0,
          "unique_count": 716
         }
        },
        {
         "dtype": "object",
         "name": "Artist Followers",
         "stats": {
          "categories": [
           {
            "count": 52,
            "name": "42227614"
           },
           {
            "count": 43,
            "name": "36177712"
           },
           {
            "count": 1461,
            "name": "598 others"
           }
          ],
          "nan_count": 0,
          "unique_count": 600
         }
        },
        {
         "dtype": "object",
         "name": "Song ID",
         "stats": {
          "categories": [
           {
            "count": 11,
            "name": " "
           },
           {
            "count": 3,
            "name": "5uEYRdEIh9Bo4fpjDd4Na9"
           },
           {
            "count": 1542,
            "name": "1515 others"
           }
          ],
          "nan_count": 0,
          "unique_count": 1517
         }
        },
        {
         "dtype": "object",
         "name": "Genre",
         "stats": {
          "categories": [
           {
            "count": 75,
            "name": "[]"
           },
           {
            "count": 71,
            "name": "['dance pop', 'pop', 'post-teen pop']"
           },
           {
            "count": 1410,
            "name": "393 others"
           }
          ],
          "nan_count": 0,
          "unique_count": 395
         }
        },
        {
         "dtype": "object",
         "name": "Release Date",
         "stats": {
          "categories": [
           {
            "count": 34,
            "name": "2020-01-17"
           },
           {
            "count": 28,
            "name": "2020-02-14"
           },
           {
            "count": 1494,
            "name": "476 others"
           }
          ],
          "nan_count": 0,
          "unique_count": 478
         }
        },
        {
         "dtype": "object",
         "name": "Weeks Charted",
         "stats": {
          "categories": [
           {
            "count": 32,
            "name": "2020-12-18--2020-12-25"
           },
           {
            "count": 24,
            "name": "2020-01-17--2020-01-24"
           },
           {
            "count": 1500,
            "name": "773 others"
           }
          ],
          "nan_count": 0,
          "unique_count": 775
         }
        },
        {
         "dtype": "object",
         "name": "Popularity",
         "stats": {
          "categories": [
           {
            "count": 67,
            "name": "75"
           },
           {
            "count": 66,
            "name": "76"
           },
           {
            "count": 1423,
            "name": "68 others"
           }
          ],
          "nan_count": 0,
          "unique_count": 70
         }
        },
        {
         "dtype": "object",
         "name": "Danceability",
         "stats": {
          "categories": [
           {
            "count": 11,
            "name": " "
           },
           {
            "count": 10,
            "name": "0.762"
           },
           {
            "count": 1535,
            "name": "528 others"
           }
          ],
          "nan_count": 0,
          "unique_count": 530
         }
        },
        {
         "dtype": "object",
         "name": "Energy",
         "stats": {
          "categories": [
           {
            "count": 11,
            "name": " "
           },
           {
            "count": 10,
            "name": "0.621"
           },
           {
            "count": 1535,
            "name": "573 others"
           }
          ],
          "nan_count": 0,
          "unique_count": 575
         }
        },
        {
         "dtype": "object",
         "name": "Loudness",
         "stats": {
          "categories": [
           {
            "count": 11,
            "name": " "
           },
           {
            "count": 4,
            "name": "-5.382"
           },
           {
            "count": 1541,
            "name": "1392 others"
           }
          ],
          "nan_count": 0,
          "unique_count": 1394
         }
        },
        {
         "dtype": "object",
         "name": "Speechiness",
         "stats": {
          "categories": [
           {
            "count": 15,
            "name": "0.102"
           },
           {
            "count": 11,
            "name": " "
           },
           {
            "count": 1530,
            "name": "770 others"
           }
          ],
          "nan_count": 0,
          "unique_count": 772
         }
        },
        {
         "dtype": "object",
         "name": "Acousticness",
         "stats": {
          "categories": [
           {
            "count": 11,
            "name": " "
           },
           {
            "count": 10,
            "name": "0.114"
           },
           {
            "count": 1535,
            "name": "963 others"
           }
          ],
          "nan_count": 0,
          "unique_count": 965
         }
        },
        {
         "dtype": "object",
         "name": "Liveness",
         "stats": {
          "categories": [
           {
            "count": 23,
            "name": "0.103"
           },
           {
            "count": 22,
            "name": "0.112"
           },
           {
            "count": 1511,
            "name": "604 others"
           }
          ],
          "nan_count": 0,
          "unique_count": 606
         }
        },
        {
         "dtype": "object",
         "name": "Tempo",
         "stats": {
          "categories": [
           {
            "count": 11,
            "name": " "
           },
           {
            "count": 3,
            "name": "93.005"
           },
           {
            "count": 1542,
            "name": "1459 others"
           }
          ],
          "nan_count": 0,
          "unique_count": 1461
         }
        },
        {
         "dtype": "object",
         "name": "Duration (ms)",
         "stats": {
          "categories": [
           {
            "count": 11,
            "name": " "
           },
           {
            "count": 3,
            "name": "162803"
           },
           {
            "count": 1542,
            "name": "1484 others"
           }
          ],
          "nan_count": 0,
          "unique_count": 1486
         }
        },
        {
         "dtype": "object",
         "name": "Valence",
         "stats": {
          "categories": [
           {
            "count": 11,
            "name": " "
           },
           {
            "count": 7,
            "name": "0.405"
           },
           {
            "count": 1538,
            "name": "730 others"
           }
          ],
          "nan_count": 0,
          "unique_count": 732
         }
        },
        {
         "dtype": "object",
         "name": "Chord",
         "stats": {
          "categories": [
           {
            "count": 214,
            "name": "C#/Db"
           },
           {
            "count": 155,
            "name": "C"
           },
           {
            "count": 1187,
            "name": "11 others"
           }
          ],
          "nan_count": 0,
          "unique_count": 13
         }
        },
        {
         "dtype": "int64",
         "name": "_deepnote_index_column"
        }
       ],
       "row_count": 1556,
       "rows": [
        {
         "Acousticness": "0.127",
         "Artist": "Måneskin",
         "Artist Followers": "3377762",
         "Chord": "B",
         "Danceability": "0.714",
         "Duration (ms)": "211560",
         "Energy": "0.8",
         "Genre": "['indie rock italiano', 'italian pop']",
         "Highest Charting Position": "Hello",
         "Index": "Hello",
         "Liveness": "0.359",
         "Loudness": "-4.808",
         "Number of Times Charted": "8",
         "Popularity": "100",
         "Release Date": "2017-12-08",
         "Song ID": "3Wrjm47oTz2sjIgck11l5e",
         "Song Name": "Beggin'",
         "Speechiness": "0.0504",
         "Streams": "48,633,449",
         "Tempo": "134.002",
         "Valence": "0.589",
         "Week of Highest Charting": "2021-07-23--2021-07-30",
         "Weeks Charted": "2021-07-23--2021-07-30\n2021-07-16--2021-07-23\n2021-07-09--2021-07-16\n2021-07-02--2021-07-09\n2021-06…",
         "_deepnote_index_column": 0
        },
        {
         "Acousticness": "0.0383",
         "Artist": "The Kid LAROI",
         "Artist Followers": "2230022",
         "Chord": "C#/Db",
         "Danceability": "0.591",
         "Duration (ms)": "141806",
         "Energy": "0.764",
         "Genre": "['australian hip hop']",
         "Highest Charting Position": "2",
         "Index": "2",
         "Liveness": "0.103",
         "Loudness": "-5.484",
         "Number of Times Charted": "3",
         "Popularity": "99",
         "Release Date": "2021-07-09",
         "Song ID": "5HCyWlXZPP0y6Gqq8TgA20",
         "Song Name": "STAY (with Justin Bieber)",
         "Speechiness": "0.0483",
         "Streams": "47,248,719",
         "Tempo": "169.928",
         "Valence": "0.478",
         "Week of Highest Charting": "2021-07-23--2021-07-30",
         "Weeks Charted": "2021-07-23--2021-07-30\n2021-07-16--2021-07-23\n2021-07-09--2021-07-16",
         "_deepnote_index_column": 1
        },
        {
         "Acousticness": "0.335",
         "Artist": "Olivia Rodrigo",
         "Artist Followers": "6266514",
         "Chord": "A",
         "Danceability": "0.563",
         "Duration (ms)": "178147",
         "Energy": "0.664",
         "Genre": "['pop']",
         "Highest Charting Position": "Hello",
         "Index": "3",
         "Liveness": "0.0849",
         "Loudness": "-5.044",
         "Number of Times Charted": "11",
         "Popularity": "99",
         "Release Date": "2021-05-21",
         "Song ID": "4ZtFanR9U6ndgddUvNcjcG",
         "Song Name": "good 4 u",
         "Speechiness": "0.154",
         "Streams": "40,162,559",
         "Tempo": "166.928",
         "Valence": "0.688",
         "Week of Highest Charting": "2021-06-25--2021-07-02",
         "Weeks Charted": "2021-07-23--2021-07-30\n2021-07-16--2021-07-23\n2021-07-09--2021-07-16\n2021-07-02--2021-07-09\n2021-06…",
         "_deepnote_index_column": 2
        },
        {
         "Acousticness": "0.0469",
         "Artist": "Ed Sheeran",
         "Artist Followers": "83293380",
         "Chord": "B",
         "Danceability": "0.808",
         "Duration (ms)": "231041",
         "Energy": "0.897",
         "Genre": "['pop', 'uk pop']",
         "Highest Charting Position": "3",
         "Index": "4",
         "Liveness": "0.364",
         "Loudness": "-3.712",
         "Number of Times Charted": "5",
         "Popularity": "98",
         "Release Date": "2021-06-25",
         "Song ID": "6PQ88X9TkUIAUIZJHW2upE",
         "Song Name": "Bad Habits",
         "Speechiness": "0.0348",
         "Streams": "37,799,456",
         "Tempo": "126.026",
         "Valence": "0.591",
         "Week of Highest Charting": "2021-07-02--2021-07-09",
         "Weeks Charted": "2021-07-23--2021-07-30\n2021-07-16--2021-07-23\n2021-07-09--2021-07-16\n2021-07-02--2021-07-09\n2021-06…",
         "_deepnote_index_column": 3
        },
        {
         "Acousticness": "0.0203",
         "Artist": "Lil Nas X",
         "Artist Followers": "5473565",
         "Chord": "D#/Eb",
         "Danceability": "0.736",
         "Duration (ms)": "212000",
         "Energy": "0.704",
         "Genre": "['lgbtq+ hip hop', 'pop rap']",
         "Highest Charting Position": "5",
         "Index": "5",
         "Liveness": "0.0501",
         "Loudness": "-7.409",
         "Number of Times Charted": "Hello",
         "Popularity": "96",
         "Release Date": "2021-07-23",
         "Song ID": "27NovPIUIRrOZoCHxABJwK",
         "Song Name": "INDUSTRY BABY (feat. Jack Harlow)",
         "Speechiness": "0.0615",
         "Streams": "33,948,454",
         "Tempo": "149.995",
         "Valence": "0.894",
         "Week of Highest Charting": "2021-07-23--2021-07-30",
         "Weeks Charted": "2021-07-23--2021-07-30",
         "_deepnote_index_column": 4
        },
        {
         "Acousticness": "0.297",
         "Artist": "Lil Nas X",
         "Artist Followers": "5473565",
         "Chord": "G#/Ab",
         "Danceability": "0.61",
         "Duration (ms)": "137876",
         "Energy": "0.508",
         "Genre": "['lgbtq+ hip hop', 'pop rap']",
         "Highest Charting Position": "Hello",
         "Index": "6",
         "Liveness": "0.384",
         "Loudness": "-6.682",
         "Number of Times Charted": "18",
         "Popularity": "97",
         "Release Date": "2021-03-31",
         "Song ID": "67BtfxlNbhBmCDR2L2l8qd",
         "Song Name": "MONTERO (Call Me By Your Name)",
         "Speechiness": "0.152",
         "Streams": "30,071,134",
         "Tempo": "178.818",
         "Valence": "0.758",
         "Week of Highest Charting": "2021-05-07--2021-05-14",
         "Weeks Charted": "2021-07-23--2021-07-30\n2021-07-16--2021-07-23\n2021-07-09--2021-07-16\n2021-07-02--2021-07-09\n2021-06…",
         "_deepnote_index_column": 5
        },
        {
         "Acousticness": "0.235",
         "Artist": "Doja Cat",
         "Artist Followers": "8640063",
         "Chord": "G#/Ab",
         "Danceability": "0.762",
         "Duration (ms)": "208867",
         "Energy": "0.701",
         "Genre": "['dance pop', 'pop']",
         "Highest Charting Position": "3",
         "Index": "7",
         "Liveness": "0.123",
         "Loudness": "-3.541",
         "Number of Times Charted": "16",
         "Popularity": "94",
         "Release Date": "2021-04-09",
         "Song ID": "748mdHapucXQri7IAO8yFK",
         "Song Name": "Kiss Me More (feat. SZA)",
         "Speechiness": "0.0286",
         "Streams": "29,356,736",
         "Tempo": "110.968",
         "Valence": "0.742",
         "Week of Highest Charting": "2021-05-14--2021-05-21",
         "Weeks Charted": "2021-07-23--2021-07-30\n2021-07-16--2021-07-23\n2021-07-09--2021-07-16\n2021-07-02--2021-07-09\n2021-06…",
         "_deepnote_index_column": 6
        },
        {
         "Acousticness": "0.31",
         "Artist": "Rauw Alejandro",
         "Artist Followers": "6080597",
         "Chord": "D#/Eb",
         "Danceability": "0.78",
         "Duration (ms)": "199604",
         "Energy": "0.718",
         "Genre": "['puerto rican pop', 'trap latino']",
         "Highest Charting Position": "2",
         "Index": "8",
         "Liveness": "0.0932",
         "Loudness": "-3.605",
         "Number of Times Charted": "10",
         "Popularity": "95",
         "Release Date": "2021-05-20",
         "Song ID": "4fSIb4hdOQ151TILNsSEaF",
         "Song Name": "Todo De Ti",
         "Speechiness": "0.0506",
         "Streams": "26,951,613",
         "Tempo": "127.949",
         "Valence": "0.342",
         "Week of Highest Charting": "2021-06-18--2021-06-25",
         "Weeks Charted": "2021-07-23--2021-07-30\n2021-07-16--2021-07-23\n2021-07-09--2021-07-16\n2021-07-02--2021-07-09\n2021-06…",
         "_deepnote_index_column": 7
        },
        {
         "Acousticness": "0.276",
         "Artist": "Bad Bunny",
         "Artist Followers": "36142273",
         "Chord": "C#/Db",
         "Danceability": "0.644",
         "Duration (ms)": "206710",
         "Energy": "0.648",
         "Genre": "['latin', 'reggaeton', 'trap latino']",
         "Highest Charting Position": "3",
         "Index": "9",
         "Liveness": "0.135",
         "Loudness": "-4.601",
         "Number of Times Charted": "8",
         "Popularity": "96",
         "Release Date": "2021-06-04",
         "Song ID": "2JPLbjOn0wPCngEot2STUS",
         "Song Name": "Yonaguni",
         "Speechiness": "0.118",
         "Streams": "25,030,128",
         "Tempo": "179.951",
         "Valence": "0.44",
         "Week of Highest Charting": "2021-06-18--2021-06-25",
         "Weeks Charted": "2021-07-23--2021-07-30\n2021-07-16--2021-07-23\n2021-07-09--2021-07-16\n2021-07-02--2021-07-09\n2021-06…",
         "_deepnote_index_column": 8
        },
        {
         "Acousticness": "0.00165",
         "Artist": "Måneskin",
         "Artist Followers": "3377762",
         "Chord": "C#/Db",
         "Danceability": "0.75",
         "Duration (ms)": "173347",
         "Energy": "0.608",
         "Genre": "['indie rock italiano', 'italian pop']",
         "Highest Charting Position": "8",
         "Index": "10",
         "Liveness": "0.178",
         "Loudness": "-4.008",
         "Number of Times Charted": "10",
         "Popularity": "95",
         "Release Date": "2021-03-19",
         "Song ID": "4pt5fDVTg5GhEvEtlz9dKk",
         "Song Name": "I WANNA BE YOUR SLAVE",
         "Speechiness": "0.0387",
         "Streams": "24,551,591",
         "Tempo": "132.507",
         "Valence": "0.958",
         "Week of Highest Charting": "2021-07-02--2021-07-09",
         "Weeks Charted": "2021-07-23--2021-07-30\n2021-07-16--2021-07-23\n2021-07-09--2021-07-16\n2021-07-02--2021-07-09\n2021-06…",
         "_deepnote_index_column": 9
        }
       ]
      },
      "text/html": [
       "<div>\n",
       "<style scoped>\n",
       "    .dataframe tbody tr th:only-of-type {\n",
       "        vertical-align: middle;\n",
       "    }\n",
       "\n",
       "    .dataframe tbody tr th {\n",
       "        vertical-align: top;\n",
       "    }\n",
       "\n",
       "    .dataframe thead th {\n",
       "        text-align: right;\n",
       "    }\n",
       "</style>\n",
       "<table border=\"1\" class=\"dataframe\">\n",
       "  <thead>\n",
       "    <tr style=\"text-align: right;\">\n",
       "      <th></th>\n",
       "      <th>Index</th>\n",
       "      <th>Highest Charting Position</th>\n",
       "      <th>Number of Times Charted</th>\n",
       "      <th>Week of Highest Charting</th>\n",
       "      <th>Song Name</th>\n",
       "      <th>Streams</th>\n",
       "      <th>Artist</th>\n",
       "      <th>Artist Followers</th>\n",
       "      <th>Song ID</th>\n",
       "      <th>Genre</th>\n",
       "      <th>...</th>\n",
       "      <th>Danceability</th>\n",
       "      <th>Energy</th>\n",
       "      <th>Loudness</th>\n",
       "      <th>Speechiness</th>\n",
       "      <th>Acousticness</th>\n",
       "      <th>Liveness</th>\n",
       "      <th>Tempo</th>\n",
       "      <th>Duration (ms)</th>\n",
       "      <th>Valence</th>\n",
       "      <th>Chord</th>\n",
       "    </tr>\n",
       "  </thead>\n",
       "  <tbody>\n",
       "    <tr>\n",
       "      <th>0</th>\n",
       "      <td>Hello</td>\n",
       "      <td>Hello</td>\n",
       "      <td>8</td>\n",
       "      <td>2021-07-23--2021-07-30</td>\n",
       "      <td>Beggin'</td>\n",
       "      <td>48,633,449</td>\n",
       "      <td>Måneskin</td>\n",
       "      <td>3377762</td>\n",
       "      <td>3Wrjm47oTz2sjIgck11l5e</td>\n",
       "      <td>['indie rock italiano', 'italian pop']</td>\n",
       "      <td>...</td>\n",
       "      <td>0.714</td>\n",
       "      <td>0.8</td>\n",
       "      <td>-4.808</td>\n",
       "      <td>0.0504</td>\n",
       "      <td>0.127</td>\n",
       "      <td>0.359</td>\n",
       "      <td>134.002</td>\n",
       "      <td>211560</td>\n",
       "      <td>0.589</td>\n",
       "      <td>B</td>\n",
       "    </tr>\n",
       "    <tr>\n",
       "      <th>1</th>\n",
       "      <td>2</td>\n",
       "      <td>2</td>\n",
       "      <td>3</td>\n",
       "      <td>2021-07-23--2021-07-30</td>\n",
       "      <td>STAY (with Justin Bieber)</td>\n",
       "      <td>47,248,719</td>\n",
       "      <td>The Kid LAROI</td>\n",
       "      <td>2230022</td>\n",
       "      <td>5HCyWlXZPP0y6Gqq8TgA20</td>\n",
       "      <td>['australian hip hop']</td>\n",
       "      <td>...</td>\n",
       "      <td>0.591</td>\n",
       "      <td>0.764</td>\n",
       "      <td>-5.484</td>\n",
       "      <td>0.0483</td>\n",
       "      <td>0.0383</td>\n",
       "      <td>0.103</td>\n",
       "      <td>169.928</td>\n",
       "      <td>141806</td>\n",
       "      <td>0.478</td>\n",
       "      <td>C#/Db</td>\n",
       "    </tr>\n",
       "    <tr>\n",
       "      <th>2</th>\n",
       "      <td>3</td>\n",
       "      <td>Hello</td>\n",
       "      <td>11</td>\n",
       "      <td>2021-06-25--2021-07-02</td>\n",
       "      <td>good 4 u</td>\n",
       "      <td>40,162,559</td>\n",
       "      <td>Olivia Rodrigo</td>\n",
       "      <td>6266514</td>\n",
       "      <td>4ZtFanR9U6ndgddUvNcjcG</td>\n",
       "      <td>['pop']</td>\n",
       "      <td>...</td>\n",
       "      <td>0.563</td>\n",
       "      <td>0.664</td>\n",
       "      <td>-5.044</td>\n",
       "      <td>0.154</td>\n",
       "      <td>0.335</td>\n",
       "      <td>0.0849</td>\n",
       "      <td>166.928</td>\n",
       "      <td>178147</td>\n",
       "      <td>0.688</td>\n",
       "      <td>A</td>\n",
       "    </tr>\n",
       "    <tr>\n",
       "      <th>3</th>\n",
       "      <td>4</td>\n",
       "      <td>3</td>\n",
       "      <td>5</td>\n",
       "      <td>2021-07-02--2021-07-09</td>\n",
       "      <td>Bad Habits</td>\n",
       "      <td>37,799,456</td>\n",
       "      <td>Ed Sheeran</td>\n",
       "      <td>83293380</td>\n",
       "      <td>6PQ88X9TkUIAUIZJHW2upE</td>\n",
       "      <td>['pop', 'uk pop']</td>\n",
       "      <td>...</td>\n",
       "      <td>0.808</td>\n",
       "      <td>0.897</td>\n",
       "      <td>-3.712</td>\n",
       "      <td>0.0348</td>\n",
       "      <td>0.0469</td>\n",
       "      <td>0.364</td>\n",
       "      <td>126.026</td>\n",
       "      <td>231041</td>\n",
       "      <td>0.591</td>\n",
       "      <td>B</td>\n",
       "    </tr>\n",
       "    <tr>\n",
       "      <th>4</th>\n",
       "      <td>5</td>\n",
       "      <td>5</td>\n",
       "      <td>Hello</td>\n",
       "      <td>2021-07-23--2021-07-30</td>\n",
       "      <td>INDUSTRY BABY (feat. Jack Harlow)</td>\n",
       "      <td>33,948,454</td>\n",
       "      <td>Lil Nas X</td>\n",
       "      <td>5473565</td>\n",
       "      <td>27NovPIUIRrOZoCHxABJwK</td>\n",
       "      <td>['lgbtq+ hip hop', 'pop rap']</td>\n",
       "      <td>...</td>\n",
       "      <td>0.736</td>\n",
       "      <td>0.704</td>\n",
       "      <td>-7.409</td>\n",
       "      <td>0.0615</td>\n",
       "      <td>0.0203</td>\n",
       "      <td>0.0501</td>\n",
       "      <td>149.995</td>\n",
       "      <td>212000</td>\n",
       "      <td>0.894</td>\n",
       "      <td>D#/Eb</td>\n",
       "    </tr>\n",
       "    <tr>\n",
       "      <th>...</th>\n",
       "      <td>...</td>\n",
       "      <td>...</td>\n",
       "      <td>...</td>\n",
       "      <td>...</td>\n",
       "      <td>...</td>\n",
       "      <td>...</td>\n",
       "      <td>...</td>\n",
       "      <td>...</td>\n",
       "      <td>...</td>\n",
       "      <td>...</td>\n",
       "      <td>...</td>\n",
       "      <td>...</td>\n",
       "      <td>...</td>\n",
       "      <td>...</td>\n",
       "      <td>...</td>\n",
       "      <td>...</td>\n",
       "      <td>...</td>\n",
       "      <td>...</td>\n",
       "      <td>...</td>\n",
       "      <td>...</td>\n",
       "      <td>...</td>\n",
       "    </tr>\n",
       "    <tr>\n",
       "      <th>1551</th>\n",
       "      <td>1552</td>\n",
       "      <td>195</td>\n",
       "      <td>Hello</td>\n",
       "      <td>2019-12-27--2020-01-03</td>\n",
       "      <td>New Rules</td>\n",
       "      <td>4,630,675</td>\n",
       "      <td>Dua Lipa</td>\n",
       "      <td>27167675</td>\n",
       "      <td>2ekn2ttSfGqwhhate0LSR0</td>\n",
       "      <td>['dance pop', 'pop', 'uk pop']</td>\n",
       "      <td>...</td>\n",
       "      <td>0.762</td>\n",
       "      <td>0.7</td>\n",
       "      <td>-6.021</td>\n",
       "      <td>0.0694</td>\n",
       "      <td>0.00261</td>\n",
       "      <td>0.153</td>\n",
       "      <td>116.073</td>\n",
       "      <td>209320</td>\n",
       "      <td>0.608</td>\n",
       "      <td>A</td>\n",
       "    </tr>\n",
       "    <tr>\n",
       "      <th>1552</th>\n",
       "      <td>1553</td>\n",
       "      <td>196</td>\n",
       "      <td>Hello</td>\n",
       "      <td>2019-12-27--2020-01-03</td>\n",
       "      <td>Cheirosa - Ao Vivo</td>\n",
       "      <td>4,623,030</td>\n",
       "      <td>Jorge &amp; Mateus</td>\n",
       "      <td>15019109</td>\n",
       "      <td>2PWjKmjyTZeDpmOUa3a5da</td>\n",
       "      <td>['sertanejo', 'sertanejo universitario']</td>\n",
       "      <td>...</td>\n",
       "      <td>0.528</td>\n",
       "      <td>0.87</td>\n",
       "      <td>-3.123</td>\n",
       "      <td>0.0851</td>\n",
       "      <td>0.24</td>\n",
       "      <td>0.333</td>\n",
       "      <td>152.37</td>\n",
       "      <td>181930</td>\n",
       "      <td>0.714</td>\n",
       "      <td>B</td>\n",
       "    </tr>\n",
       "    <tr>\n",
       "      <th>1553</th>\n",
       "      <td>1554</td>\n",
       "      <td>197</td>\n",
       "      <td>Hello</td>\n",
       "      <td>2019-12-27--2020-01-03</td>\n",
       "      <td>Havana (feat. Young Thug)</td>\n",
       "      <td>4,620,876</td>\n",
       "      <td>Camila Cabello</td>\n",
       "      <td>22698747</td>\n",
       "      <td>1rfofaqEpACxVEHIZBJe6W</td>\n",
       "      <td>['dance pop', 'electropop', 'pop', 'post-teen ...</td>\n",
       "      <td>...</td>\n",
       "      <td>0.765</td>\n",
       "      <td>0.523</td>\n",
       "      <td>-4.333</td>\n",
       "      <td>0.03</td>\n",
       "      <td>0.184</td>\n",
       "      <td>0.132</td>\n",
       "      <td>104.988</td>\n",
       "      <td>217307</td>\n",
       "      <td>0.394</td>\n",
       "      <td>D</td>\n",
       "    </tr>\n",
       "    <tr>\n",
       "      <th>1554</th>\n",
       "      <td>1555</td>\n",
       "      <td>198</td>\n",
       "      <td>Hello</td>\n",
       "      <td>2019-12-27--2020-01-03</td>\n",
       "      <td>Surtada - Remix Brega Funk</td>\n",
       "      <td>4,607,385</td>\n",
       "      <td>Dadá Boladão, Tati Zaqui, OIK</td>\n",
       "      <td>208630</td>\n",
       "      <td>5F8ffc8KWKNawllr5WsW0r</td>\n",
       "      <td>['brega funk', 'funk carioca']</td>\n",
       "      <td>...</td>\n",
       "      <td>0.832</td>\n",
       "      <td>0.55</td>\n",
       "      <td>-7.026</td>\n",
       "      <td>0.0587</td>\n",
       "      <td>0.249</td>\n",
       "      <td>0.182</td>\n",
       "      <td>154.064</td>\n",
       "      <td>152784</td>\n",
       "      <td>0.881</td>\n",
       "      <td>F</td>\n",
       "    </tr>\n",
       "    <tr>\n",
       "      <th>1555</th>\n",
       "      <td>1556</td>\n",
       "      <td>199</td>\n",
       "      <td>Hello</td>\n",
       "      <td>2019-12-27--2020-01-03</td>\n",
       "      <td>Lover (Remix) [feat. Shawn Mendes]</td>\n",
       "      <td>4,595,450</td>\n",
       "      <td>Taylor Swift</td>\n",
       "      <td>42227614</td>\n",
       "      <td>3i9UVldZOE0aD0JnyfAZZ0</td>\n",
       "      <td>['pop', 'post-teen pop']</td>\n",
       "      <td>...</td>\n",
       "      <td>0.448</td>\n",
       "      <td>0.603</td>\n",
       "      <td>-7.176</td>\n",
       "      <td>0.064</td>\n",
       "      <td>0.433</td>\n",
       "      <td>0.0862</td>\n",
       "      <td>205.272</td>\n",
       "      <td>221307</td>\n",
       "      <td>0.422</td>\n",
       "      <td>G</td>\n",
       "    </tr>\n",
       "  </tbody>\n",
       "</table>\n",
       "<p>1556 rows × 23 columns</p>\n",
       "</div>"
      ],
      "text/plain": [
       "      Index Highest Charting Position Number of Times Charted  \\\n",
       "0     Hello                     Hello                       8   \n",
       "1         2                         2                       3   \n",
       "2         3                     Hello                      11   \n",
       "3         4                         3                       5   \n",
       "4         5                         5                   Hello   \n",
       "...     ...                       ...                     ...   \n",
       "1551   1552                       195                   Hello   \n",
       "1552   1553                       196                   Hello   \n",
       "1553   1554                       197                   Hello   \n",
       "1554   1555                       198                   Hello   \n",
       "1555   1556                       199                   Hello   \n",
       "\n",
       "     Week of Highest Charting                           Song Name     Streams  \\\n",
       "0      2021-07-23--2021-07-30                             Beggin'  48,633,449   \n",
       "1      2021-07-23--2021-07-30           STAY (with Justin Bieber)  47,248,719   \n",
       "2      2021-06-25--2021-07-02                            good 4 u  40,162,559   \n",
       "3      2021-07-02--2021-07-09                          Bad Habits  37,799,456   \n",
       "4      2021-07-23--2021-07-30   INDUSTRY BABY (feat. Jack Harlow)  33,948,454   \n",
       "...                       ...                                 ...         ...   \n",
       "1551   2019-12-27--2020-01-03                           New Rules   4,630,675   \n",
       "1552   2019-12-27--2020-01-03                  Cheirosa - Ao Vivo   4,623,030   \n",
       "1553   2019-12-27--2020-01-03           Havana (feat. Young Thug)   4,620,876   \n",
       "1554   2019-12-27--2020-01-03          Surtada - Remix Brega Funk   4,607,385   \n",
       "1555   2019-12-27--2020-01-03  Lover (Remix) [feat. Shawn Mendes]   4,595,450   \n",
       "\n",
       "                             Artist Artist Followers                 Song ID  \\\n",
       "0                          Måneskin          3377762  3Wrjm47oTz2sjIgck11l5e   \n",
       "1                     The Kid LAROI          2230022  5HCyWlXZPP0y6Gqq8TgA20   \n",
       "2                    Olivia Rodrigo          6266514  4ZtFanR9U6ndgddUvNcjcG   \n",
       "3                        Ed Sheeran         83293380  6PQ88X9TkUIAUIZJHW2upE   \n",
       "4                         Lil Nas X          5473565  27NovPIUIRrOZoCHxABJwK   \n",
       "...                             ...              ...                     ...   \n",
       "1551                       Dua Lipa         27167675  2ekn2ttSfGqwhhate0LSR0   \n",
       "1552                 Jorge & Mateus         15019109  2PWjKmjyTZeDpmOUa3a5da   \n",
       "1553                 Camila Cabello         22698747  1rfofaqEpACxVEHIZBJe6W   \n",
       "1554  Dadá Boladão, Tati Zaqui, OIK           208630  5F8ffc8KWKNawllr5WsW0r   \n",
       "1555                   Taylor Swift         42227614  3i9UVldZOE0aD0JnyfAZZ0   \n",
       "\n",
       "                                                  Genre  ... Danceability  \\\n",
       "0                ['indie rock italiano', 'italian pop']  ...        0.714   \n",
       "1                                ['australian hip hop']  ...        0.591   \n",
       "2                                               ['pop']  ...        0.563   \n",
       "3                                     ['pop', 'uk pop']  ...        0.808   \n",
       "4                         ['lgbtq+ hip hop', 'pop rap']  ...        0.736   \n",
       "...                                                 ...  ...          ...   \n",
       "1551                     ['dance pop', 'pop', 'uk pop']  ...        0.762   \n",
       "1552           ['sertanejo', 'sertanejo universitario']  ...        0.528   \n",
       "1553  ['dance pop', 'electropop', 'pop', 'post-teen ...  ...        0.765   \n",
       "1554                     ['brega funk', 'funk carioca']  ...        0.832   \n",
       "1555                           ['pop', 'post-teen pop']  ...        0.448   \n",
       "\n",
       "     Energy Loudness Speechiness Acousticness Liveness    Tempo Duration (ms)  \\\n",
       "0       0.8   -4.808      0.0504        0.127    0.359  134.002        211560   \n",
       "1     0.764   -5.484      0.0483       0.0383    0.103  169.928        141806   \n",
       "2     0.664   -5.044       0.154        0.335   0.0849  166.928        178147   \n",
       "3     0.897   -3.712      0.0348       0.0469    0.364  126.026        231041   \n",
       "4     0.704   -7.409      0.0615       0.0203   0.0501  149.995        212000   \n",
       "...     ...      ...         ...          ...      ...      ...           ...   \n",
       "1551    0.7   -6.021      0.0694      0.00261    0.153  116.073        209320   \n",
       "1552   0.87   -3.123      0.0851         0.24    0.333   152.37        181930   \n",
       "1553  0.523   -4.333        0.03        0.184    0.132  104.988        217307   \n",
       "1554   0.55   -7.026      0.0587        0.249    0.182  154.064        152784   \n",
       "1555  0.603   -7.176       0.064        0.433   0.0862  205.272        221307   \n",
       "\n",
       "     Valence  Chord  \n",
       "0      0.589      B  \n",
       "1      0.478  C#/Db  \n",
       "2      0.688      A  \n",
       "3      0.591      B  \n",
       "4      0.894  D#/Eb  \n",
       "...      ...    ...  \n",
       "1551   0.608      A  \n",
       "1552   0.714      B  \n",
       "1553   0.394      D  \n",
       "1554   0.881      F  \n",
       "1555   0.422      G  \n",
       "\n",
       "[1556 rows x 23 columns]"
      ]
     },
     "execution_count": 9,
     "metadata": {},
     "output_type": "execute_result"
    }
   ],
   "source": [
    "df.replace(1,\"Hello\")"
   ]
  },
  {
   "cell_type": "code",
   "execution_count": 11,
   "metadata": {
    "cell_id": "a7c9bd0d-d00b-4791-9d96-f5e3ae221e2d",
    "deepnote_cell_type": "code",
    "deepnote_to_be_reexecuted": false,
    "execution_millis": 124,
    "execution_start": 1643213593402,
    "source_hash": "2546c44b",
    "tags": []
   },
   "outputs": [
    {
     "data": {
      "application/vnd.deepnote.dataframe.v3+json": {
       "column_count": 23,
       "columns": [
        {
         "dtype": "int64",
         "name": "Index",
         "stats": {
          "histogram": [
           {
            "bin_end": 156.5,
            "bin_start": 1,
            "count": 156
           },
           {
            "bin_end": 312,
            "bin_start": 156.5,
            "count": 155
           },
           {
            "bin_end": 467.5,
            "bin_start": 312,
            "count": 156
           },
           {
            "bin_end": 623,
            "bin_start": 467.5,
            "count": 155
           },
           {
            "bin_end": 778.5,
            "bin_start": 623,
            "count": 156
           },
           {
            "bin_end": 934,
            "bin_start": 778.5,
            "count": 155
           },
           {
            "bin_end": 1089.5,
            "bin_start": 934,
            "count": 156
           },
           {
            "bin_end": 1245,
            "bin_start": 1089.5,
            "count": 155
           },
           {
            "bin_end": 1400.5,
            "bin_start": 1245,
            "count": 156
           },
           {
            "bin_end": 1556,
            "bin_start": 1400.5,
            "count": 156
           }
          ],
          "max": "1556",
          "min": "1",
          "nan_count": 0,
          "unique_count": 1556
         }
        },
        {
         "dtype": "int64",
         "name": "Highest Charting Position",
         "stats": {
          "histogram": [
           {
            "bin_end": 20.9,
            "bin_start": 1,
            "count": 241
           },
           {
            "bin_end": 40.8,
            "bin_start": 20.9,
            "count": 173
           },
           {
            "bin_end": 60.699999999999996,
            "bin_start": 40.8,
            "count": 181
           },
           {
            "bin_end": 80.6,
            "bin_start": 60.699999999999996,
            "count": 186
           },
           {
            "bin_end": 100.5,
            "bin_start": 80.6,
            "count": 141
           },
           {
            "bin_end": 120.39999999999999,
            "bin_start": 100.5,
            "count": 142
           },
           {
            "bin_end": 140.29999999999998,
            "bin_start": 120.39999999999999,
            "count": 140
           },
           {
            "bin_end": 160.2,
            "bin_start": 140.29999999999998,
            "count": 116
           },
           {
            "bin_end": 180.1,
            "bin_start": 160.2,
            "count": 110
           },
           {
            "bin_end": 200,
            "bin_start": 180.1,
            "count": 126
           }
          ],
          "max": "200",
          "min": "1",
          "nan_count": 0,
          "unique_count": 200
         }
        },
        {
         "dtype": "int64",
         "name": "Number of Times Charted",
         "stats": {
          "histogram": [
           {
            "bin_end": 15.1,
            "bin_start": 1,
            "count": 1228
           },
           {
            "bin_end": 29.2,
            "bin_start": 15.1,
            "count": 170
           },
           {
            "bin_end": 43.3,
            "bin_start": 29.2,
            "count": 75
           },
           {
            "bin_end": 57.4,
            "bin_start": 43.3,
            "count": 36
           },
           {
            "bin_end": 71.5,
            "bin_start": 57.4,
            "count": 14
           },
           {
            "bin_end": 85.6,
            "bin_start": 71.5,
            "count": 32
           },
           {
            "bin_end": 99.7,
            "bin_start": 85.6,
            "count": 0
           },
           {
            "bin_end": 113.8,
            "bin_start": 99.7,
            "count": 0
           },
           {
            "bin_end": 127.89999999999999,
            "bin_start": 113.8,
            "count": 0
           },
           {
            "bin_end": 142,
            "bin_start": 127.89999999999999,
            "count": 1
           }
          ],
          "max": "142",
          "min": "1",
          "nan_count": 0,
          "unique_count": 75
         }
        },
        {
         "dtype": "object",
         "name": "Week of Highest Charting",
         "stats": {
          "categories": [
           {
            "count": 89,
            "name": "2019-12-27--2020-01-03"
           },
           {
            "count": 68,
            "name": "2020-12-18--2020-12-25"
           },
           {
            "count": 1399,
            "name": "81 others"
           }
          ],
          "nan_count": 0,
          "unique_count": 83
         }
        },
        {
         "dtype": "object",
         "name": "Song Name",
         "stats": {
          "categories": [
           {
            "count": 1,
            "name": "Beggin'"
           },
           {
            "count": 1,
            "name": "STAY (with Justin Bieber)"
           },
           {
            "count": 1554,
            "name": "1554 others"
           }
          ],
          "nan_count": 0,
          "unique_count": 1556
         }
        },
        {
         "dtype": "object",
         "name": "Streams",
         "stats": {
          "categories": [
           {
            "count": 1,
            "name": "48,633,449"
           },
           {
            "count": 1,
            "name": "47,248,719"
           },
           {
            "count": 1554,
            "name": "1554 others"
           }
          ],
          "nan_count": 0,
          "unique_count": 1556
         }
        },
        {
         "dtype": "object",
         "name": "Artist",
         "stats": {
          "categories": [
           {
            "count": 52,
            "name": "Taylor Swift"
           },
           {
            "count": 32,
            "name": "Justin Bieber"
           },
           {
            "count": 1472,
            "name": "714 others"
           }
          ],
          "nan_count": 0,
          "unique_count": 716
         }
        },
        {
         "dtype": "object",
         "name": "Artist Followers",
         "stats": {
          "categories": [
           {
            "count": 52,
            "name": "42227614"
           },
           {
            "count": 43,
            "name": "36177712"
           },
           {
            "count": 1461,
            "name": "598 others"
           }
          ],
          "nan_count": 0,
          "unique_count": 600
         }
        },
        {
         "dtype": "object",
         "name": "Song ID",
         "stats": {
          "categories": [
           {
            "count": 11,
            "name": " "
           },
           {
            "count": 3,
            "name": "5uEYRdEIh9Bo4fpjDd4Na9"
           },
           {
            "count": 1542,
            "name": "1515 others"
           }
          ],
          "nan_count": 0,
          "unique_count": 1517
         }
        },
        {
         "dtype": "object",
         "name": "Genre",
         "stats": {
          "categories": [
           {
            "count": 75,
            "name": "[]"
           },
           {
            "count": 71,
            "name": "['dance pop', 'pop', 'post-teen pop']"
           },
           {
            "count": 1410,
            "name": "393 others"
           }
          ],
          "nan_count": 0,
          "unique_count": 395
         }
        },
        {
         "dtype": "object",
         "name": "Release Date",
         "stats": {
          "categories": [
           {
            "count": 34,
            "name": "2020-01-17"
           },
           {
            "count": 28,
            "name": "2020-02-14"
           },
           {
            "count": 1494,
            "name": "476 others"
           }
          ],
          "nan_count": 0,
          "unique_count": 478
         }
        },
        {
         "dtype": "object",
         "name": "Weeks Charted",
         "stats": {
          "categories": [
           {
            "count": 32,
            "name": "2020-12-18--2020-12-25"
           },
           {
            "count": 24,
            "name": "2020-01-17--2020-01-24"
           },
           {
            "count": 1500,
            "name": "773 others"
           }
          ],
          "nan_count": 0,
          "unique_count": 775
         }
        },
        {
         "dtype": "object",
         "name": "Popularity",
         "stats": {
          "categories": [
           {
            "count": 67,
            "name": "75"
           },
           {
            "count": 66,
            "name": "76"
           },
           {
            "count": 1423,
            "name": "68 others"
           }
          ],
          "nan_count": 0,
          "unique_count": 70
         }
        },
        {
         "dtype": "object",
         "name": "Danceability",
         "stats": {
          "categories": [
           {
            "count": 11,
            "name": " "
           },
           {
            "count": 10,
            "name": "0.762"
           },
           {
            "count": 1535,
            "name": "528 others"
           }
          ],
          "nan_count": 0,
          "unique_count": 530
         }
        },
        {
         "dtype": "object",
         "name": "Energy",
         "stats": {
          "categories": [
           {
            "count": 11,
            "name": " "
           },
           {
            "count": 10,
            "name": "0.621"
           },
           {
            "count": 1535,
            "name": "573 others"
           }
          ],
          "nan_count": 0,
          "unique_count": 575
         }
        },
        {
         "dtype": "object",
         "name": "Loudness",
         "stats": {
          "categories": [
           {
            "count": 11,
            "name": " "
           },
           {
            "count": 4,
            "name": "-5.382"
           },
           {
            "count": 1541,
            "name": "1392 others"
           }
          ],
          "nan_count": 0,
          "unique_count": 1394
         }
        },
        {
         "dtype": "object",
         "name": "Speechiness",
         "stats": {
          "categories": [
           {
            "count": 15,
            "name": "0.102"
           },
           {
            "count": 11,
            "name": " "
           },
           {
            "count": 1530,
            "name": "770 others"
           }
          ],
          "nan_count": 0,
          "unique_count": 772
         }
        },
        {
         "dtype": "object",
         "name": "Acousticness",
         "stats": {
          "categories": [
           {
            "count": 11,
            "name": " "
           },
           {
            "count": 10,
            "name": "0.114"
           },
           {
            "count": 1535,
            "name": "963 others"
           }
          ],
          "nan_count": 0,
          "unique_count": 965
         }
        },
        {
         "dtype": "object",
         "name": "Liveness",
         "stats": {
          "categories": [
           {
            "count": 23,
            "name": "0.103"
           },
           {
            "count": 22,
            "name": "0.112"
           },
           {
            "count": 1511,
            "name": "604 others"
           }
          ],
          "nan_count": 0,
          "unique_count": 606
         }
        },
        {
         "dtype": "object",
         "name": "Tempo",
         "stats": {
          "categories": [
           {
            "count": 11,
            "name": " "
           },
           {
            "count": 3,
            "name": "93.005"
           },
           {
            "count": 1542,
            "name": "1459 others"
           }
          ],
          "nan_count": 0,
          "unique_count": 1461
         }
        },
        {
         "dtype": "object",
         "name": "Duration (ms)",
         "stats": {
          "categories": [
           {
            "count": 11,
            "name": " "
           },
           {
            "count": 3,
            "name": "162803"
           },
           {
            "count": 1542,
            "name": "1484 others"
           }
          ],
          "nan_count": 0,
          "unique_count": 1486
         }
        },
        {
         "dtype": "object",
         "name": "Valence",
         "stats": {
          "categories": [
           {
            "count": 11,
            "name": " "
           },
           {
            "count": 7,
            "name": "0.405"
           },
           {
            "count": 1538,
            "name": "730 others"
           }
          ],
          "nan_count": 0,
          "unique_count": 732
         }
        },
        {
         "dtype": "object",
         "name": "Chord",
         "stats": {
          "categories": [
           {
            "count": 214,
            "name": "C#/Db"
           },
           {
            "count": 155,
            "name": "C"
           },
           {
            "count": 1187,
            "name": "11 others"
           }
          ],
          "nan_count": 0,
          "unique_count": 13
         }
        },
        {
         "dtype": "int64",
         "name": "_deepnote_index_column"
        }
       ],
       "row_count": 1556,
       "rows": [
        {
         "Acousticness": "0.127",
         "Artist": "Måneskin",
         "Artist Followers": "3377762",
         "Chord": "B",
         "Danceability": "0.714",
         "Duration (ms)": "211560",
         "Energy": "0.8",
         "Genre": "['indie rock italiano', 'italian pop']",
         "Highest Charting Position": 1,
         "Index": 1,
         "Liveness": "0.359",
         "Loudness": "-4.808",
         "Number of Times Charted": 8,
         "Popularity": "Hello",
         "Release Date": "2017-12-08",
         "Song ID": "3Wrjm47oTz2sjIgck11l5e",
         "Song Name": "Beggin'",
         "Speechiness": "0.0504",
         "Streams": "48,633,449",
         "Tempo": "134.002",
         "Valence": "0.589",
         "Week of Highest Charting": "2021-07-23--2021-07-30",
         "Weeks Charted": "2021-07-23--2021-07-30\n2021-07-16--2021-07-23\n2021-07-09--2021-07-16\n2021-07-02--2021-07-09\n2021-06…",
         "_deepnote_index_column": 0
        },
        {
         "Acousticness": "0.0383",
         "Artist": "The Kid LAROI",
         "Artist Followers": "2230022",
         "Chord": "C#/Db",
         "Danceability": "0.591",
         "Duration (ms)": "141806",
         "Energy": "0.764",
         "Genre": "['australian hip hop']",
         "Highest Charting Position": 2,
         "Index": 2,
         "Liveness": "0.103",
         "Loudness": "-5.484",
         "Number of Times Charted": 3,
         "Popularity": "99",
         "Release Date": "2021-07-09",
         "Song ID": "5HCyWlXZPP0y6Gqq8TgA20",
         "Song Name": "STAY (with Justin Bieber)",
         "Speechiness": "0.0483",
         "Streams": "47,248,719",
         "Tempo": "169.928",
         "Valence": "0.478",
         "Week of Highest Charting": "2021-07-23--2021-07-30",
         "Weeks Charted": "2021-07-23--2021-07-30\n2021-07-16--2021-07-23\n2021-07-09--2021-07-16",
         "_deepnote_index_column": 1
        },
        {
         "Acousticness": "0.335",
         "Artist": "Olivia Rodrigo",
         "Artist Followers": "6266514",
         "Chord": "A",
         "Danceability": "0.563",
         "Duration (ms)": "178147",
         "Energy": "0.664",
         "Genre": "['pop']",
         "Highest Charting Position": 1,
         "Index": 3,
         "Liveness": "0.0849",
         "Loudness": "-5.044",
         "Number of Times Charted": 11,
         "Popularity": "99",
         "Release Date": "2021-05-21",
         "Song ID": "4ZtFanR9U6ndgddUvNcjcG",
         "Song Name": "good 4 u",
         "Speechiness": "0.154",
         "Streams": "40,162,559",
         "Tempo": "166.928",
         "Valence": "0.688",
         "Week of Highest Charting": "2021-06-25--2021-07-02",
         "Weeks Charted": "2021-07-23--2021-07-30\n2021-07-16--2021-07-23\n2021-07-09--2021-07-16\n2021-07-02--2021-07-09\n2021-06…",
         "_deepnote_index_column": 2
        },
        {
         "Acousticness": "0.0469",
         "Artist": "Ed Sheeran",
         "Artist Followers": "83293380",
         "Chord": "B",
         "Danceability": "0.808",
         "Duration (ms)": "231041",
         "Energy": "0.897",
         "Genre": "['pop', 'uk pop']",
         "Highest Charting Position": 3,
         "Index": 4,
         "Liveness": "0.364",
         "Loudness": "-3.712",
         "Number of Times Charted": 5,
         "Popularity": "98",
         "Release Date": "2021-06-25",
         "Song ID": "6PQ88X9TkUIAUIZJHW2upE",
         "Song Name": "Bad Habits",
         "Speechiness": "0.0348",
         "Streams": "37,799,456",
         "Tempo": "126.026",
         "Valence": "0.591",
         "Week of Highest Charting": "2021-07-02--2021-07-09",
         "Weeks Charted": "2021-07-23--2021-07-30\n2021-07-16--2021-07-23\n2021-07-09--2021-07-16\n2021-07-02--2021-07-09\n2021-06…",
         "_deepnote_index_column": 3
        },
        {
         "Acousticness": "0.0203",
         "Artist": "Lil Nas X",
         "Artist Followers": "5473565",
         "Chord": "D#/Eb",
         "Danceability": "0.736",
         "Duration (ms)": "212000",
         "Energy": "0.704",
         "Genre": "['lgbtq+ hip hop', 'pop rap']",
         "Highest Charting Position": 5,
         "Index": 5,
         "Liveness": "0.0501",
         "Loudness": "-7.409",
         "Number of Times Charted": 1,
         "Popularity": "96",
         "Release Date": "2021-07-23",
         "Song ID": "27NovPIUIRrOZoCHxABJwK",
         "Song Name": "INDUSTRY BABY (feat. Jack Harlow)",
         "Speechiness": "0.0615",
         "Streams": "33,948,454",
         "Tempo": "149.995",
         "Valence": "0.894",
         "Week of Highest Charting": "2021-07-23--2021-07-30",
         "Weeks Charted": "2021-07-23--2021-07-30",
         "_deepnote_index_column": 4
        },
        {
         "Acousticness": "0.297",
         "Artist": "Lil Nas X",
         "Artist Followers": "5473565",
         "Chord": "G#/Ab",
         "Danceability": "0.61",
         "Duration (ms)": "137876",
         "Energy": "0.508",
         "Genre": "['lgbtq+ hip hop', 'pop rap']",
         "Highest Charting Position": 1,
         "Index": 6,
         "Liveness": "0.384",
         "Loudness": "-6.682",
         "Number of Times Charted": 18,
         "Popularity": "97",
         "Release Date": "2021-03-31",
         "Song ID": "67BtfxlNbhBmCDR2L2l8qd",
         "Song Name": "MONTERO (Call Me By Your Name)",
         "Speechiness": "0.152",
         "Streams": "30,071,134",
         "Tempo": "178.818",
         "Valence": "0.758",
         "Week of Highest Charting": "2021-05-07--2021-05-14",
         "Weeks Charted": "2021-07-23--2021-07-30\n2021-07-16--2021-07-23\n2021-07-09--2021-07-16\n2021-07-02--2021-07-09\n2021-06…",
         "_deepnote_index_column": 5
        },
        {
         "Acousticness": "0.235",
         "Artist": "Doja Cat",
         "Artist Followers": "8640063",
         "Chord": "G#/Ab",
         "Danceability": "0.762",
         "Duration (ms)": "208867",
         "Energy": "0.701",
         "Genre": "['dance pop', 'pop']",
         "Highest Charting Position": 3,
         "Index": 7,
         "Liveness": "0.123",
         "Loudness": "-3.541",
         "Number of Times Charted": 16,
         "Popularity": "94",
         "Release Date": "2021-04-09",
         "Song ID": "748mdHapucXQri7IAO8yFK",
         "Song Name": "Kiss Me More (feat. SZA)",
         "Speechiness": "0.0286",
         "Streams": "29,356,736",
         "Tempo": "110.968",
         "Valence": "0.742",
         "Week of Highest Charting": "2021-05-14--2021-05-21",
         "Weeks Charted": "2021-07-23--2021-07-30\n2021-07-16--2021-07-23\n2021-07-09--2021-07-16\n2021-07-02--2021-07-09\n2021-06…",
         "_deepnote_index_column": 6
        },
        {
         "Acousticness": "0.31",
         "Artist": "Rauw Alejandro",
         "Artist Followers": "6080597",
         "Chord": "D#/Eb",
         "Danceability": "0.78",
         "Duration (ms)": "199604",
         "Energy": "0.718",
         "Genre": "['puerto rican pop', 'trap latino']",
         "Highest Charting Position": 2,
         "Index": 8,
         "Liveness": "0.0932",
         "Loudness": "-3.605",
         "Number of Times Charted": 10,
         "Popularity": "95",
         "Release Date": "2021-05-20",
         "Song ID": "4fSIb4hdOQ151TILNsSEaF",
         "Song Name": "Todo De Ti",
         "Speechiness": "0.0506",
         "Streams": "26,951,613",
         "Tempo": "127.949",
         "Valence": "0.342",
         "Week of Highest Charting": "2021-06-18--2021-06-25",
         "Weeks Charted": "2021-07-23--2021-07-30\n2021-07-16--2021-07-23\n2021-07-09--2021-07-16\n2021-07-02--2021-07-09\n2021-06…",
         "_deepnote_index_column": 7
        },
        {
         "Acousticness": "0.276",
         "Artist": "Bad Bunny",
         "Artist Followers": "36142273",
         "Chord": "C#/Db",
         "Danceability": "0.644",
         "Duration (ms)": "206710",
         "Energy": "0.648",
         "Genre": "['latin', 'reggaeton', 'trap latino']",
         "Highest Charting Position": 3,
         "Index": 9,
         "Liveness": "0.135",
         "Loudness": "-4.601",
         "Number of Times Charted": 8,
         "Popularity": "96",
         "Release Date": "2021-06-04",
         "Song ID": "2JPLbjOn0wPCngEot2STUS",
         "Song Name": "Yonaguni",
         "Speechiness": "0.118",
         "Streams": "25,030,128",
         "Tempo": "179.951",
         "Valence": "0.44",
         "Week of Highest Charting": "2021-06-18--2021-06-25",
         "Weeks Charted": "2021-07-23--2021-07-30\n2021-07-16--2021-07-23\n2021-07-09--2021-07-16\n2021-07-02--2021-07-09\n2021-06…",
         "_deepnote_index_column": 8
        },
        {
         "Acousticness": "0.00165",
         "Artist": "Måneskin",
         "Artist Followers": "3377762",
         "Chord": "C#/Db",
         "Danceability": "0.75",
         "Duration (ms)": "173347",
         "Energy": "0.608",
         "Genre": "['indie rock italiano', 'italian pop']",
         "Highest Charting Position": 8,
         "Index": 10,
         "Liveness": "0.178",
         "Loudness": "-4.008",
         "Number of Times Charted": 10,
         "Popularity": "95",
         "Release Date": "2021-03-19",
         "Song ID": "4pt5fDVTg5GhEvEtlz9dKk",
         "Song Name": "I WANNA BE YOUR SLAVE",
         "Speechiness": "0.0387",
         "Streams": "24,551,591",
         "Tempo": "132.507",
         "Valence": "0.958",
         "Week of Highest Charting": "2021-07-02--2021-07-09",
         "Weeks Charted": "2021-07-23--2021-07-30\n2021-07-16--2021-07-23\n2021-07-09--2021-07-16\n2021-07-02--2021-07-09\n2021-06…",
         "_deepnote_index_column": 9
        }
       ]
      },
      "text/html": [
       "<div>\n",
       "<style scoped>\n",
       "    .dataframe tbody tr th:only-of-type {\n",
       "        vertical-align: middle;\n",
       "    }\n",
       "\n",
       "    .dataframe tbody tr th {\n",
       "        vertical-align: top;\n",
       "    }\n",
       "\n",
       "    .dataframe thead th {\n",
       "        text-align: right;\n",
       "    }\n",
       "</style>\n",
       "<table border=\"1\" class=\"dataframe\">\n",
       "  <thead>\n",
       "    <tr style=\"text-align: right;\">\n",
       "      <th></th>\n",
       "      <th>Index</th>\n",
       "      <th>Highest Charting Position</th>\n",
       "      <th>Number of Times Charted</th>\n",
       "      <th>Week of Highest Charting</th>\n",
       "      <th>Song Name</th>\n",
       "      <th>Streams</th>\n",
       "      <th>Artist</th>\n",
       "      <th>Artist Followers</th>\n",
       "      <th>Song ID</th>\n",
       "      <th>Genre</th>\n",
       "      <th>...</th>\n",
       "      <th>Danceability</th>\n",
       "      <th>Energy</th>\n",
       "      <th>Loudness</th>\n",
       "      <th>Speechiness</th>\n",
       "      <th>Acousticness</th>\n",
       "      <th>Liveness</th>\n",
       "      <th>Tempo</th>\n",
       "      <th>Duration (ms)</th>\n",
       "      <th>Valence</th>\n",
       "      <th>Chord</th>\n",
       "    </tr>\n",
       "  </thead>\n",
       "  <tbody>\n",
       "    <tr>\n",
       "      <th>0</th>\n",
       "      <td>1</td>\n",
       "      <td>1</td>\n",
       "      <td>8</td>\n",
       "      <td>2021-07-23--2021-07-30</td>\n",
       "      <td>Beggin'</td>\n",
       "      <td>48,633,449</td>\n",
       "      <td>Måneskin</td>\n",
       "      <td>3377762</td>\n",
       "      <td>3Wrjm47oTz2sjIgck11l5e</td>\n",
       "      <td>['indie rock italiano', 'italian pop']</td>\n",
       "      <td>...</td>\n",
       "      <td>0.714</td>\n",
       "      <td>0.8</td>\n",
       "      <td>-4.808</td>\n",
       "      <td>0.0504</td>\n",
       "      <td>0.127</td>\n",
       "      <td>0.359</td>\n",
       "      <td>134.002</td>\n",
       "      <td>211560</td>\n",
       "      <td>0.589</td>\n",
       "      <td>B</td>\n",
       "    </tr>\n",
       "    <tr>\n",
       "      <th>1</th>\n",
       "      <td>2</td>\n",
       "      <td>2</td>\n",
       "      <td>3</td>\n",
       "      <td>2021-07-23--2021-07-30</td>\n",
       "      <td>STAY (with Justin Bieber)</td>\n",
       "      <td>47,248,719</td>\n",
       "      <td>The Kid LAROI</td>\n",
       "      <td>2230022</td>\n",
       "      <td>5HCyWlXZPP0y6Gqq8TgA20</td>\n",
       "      <td>['australian hip hop']</td>\n",
       "      <td>...</td>\n",
       "      <td>0.591</td>\n",
       "      <td>0.764</td>\n",
       "      <td>-5.484</td>\n",
       "      <td>0.0483</td>\n",
       "      <td>0.0383</td>\n",
       "      <td>0.103</td>\n",
       "      <td>169.928</td>\n",
       "      <td>141806</td>\n",
       "      <td>0.478</td>\n",
       "      <td>C#/Db</td>\n",
       "    </tr>\n",
       "    <tr>\n",
       "      <th>2</th>\n",
       "      <td>3</td>\n",
       "      <td>1</td>\n",
       "      <td>11</td>\n",
       "      <td>2021-06-25--2021-07-02</td>\n",
       "      <td>good 4 u</td>\n",
       "      <td>40,162,559</td>\n",
       "      <td>Olivia Rodrigo</td>\n",
       "      <td>6266514</td>\n",
       "      <td>4ZtFanR9U6ndgddUvNcjcG</td>\n",
       "      <td>['pop']</td>\n",
       "      <td>...</td>\n",
       "      <td>0.563</td>\n",
       "      <td>0.664</td>\n",
       "      <td>-5.044</td>\n",
       "      <td>0.154</td>\n",
       "      <td>0.335</td>\n",
       "      <td>0.0849</td>\n",
       "      <td>166.928</td>\n",
       "      <td>178147</td>\n",
       "      <td>0.688</td>\n",
       "      <td>A</td>\n",
       "    </tr>\n",
       "    <tr>\n",
       "      <th>3</th>\n",
       "      <td>4</td>\n",
       "      <td>3</td>\n",
       "      <td>5</td>\n",
       "      <td>2021-07-02--2021-07-09</td>\n",
       "      <td>Bad Habits</td>\n",
       "      <td>37,799,456</td>\n",
       "      <td>Ed Sheeran</td>\n",
       "      <td>83293380</td>\n",
       "      <td>6PQ88X9TkUIAUIZJHW2upE</td>\n",
       "      <td>['pop', 'uk pop']</td>\n",
       "      <td>...</td>\n",
       "      <td>0.808</td>\n",
       "      <td>0.897</td>\n",
       "      <td>-3.712</td>\n",
       "      <td>0.0348</td>\n",
       "      <td>0.0469</td>\n",
       "      <td>0.364</td>\n",
       "      <td>126.026</td>\n",
       "      <td>231041</td>\n",
       "      <td>0.591</td>\n",
       "      <td>B</td>\n",
       "    </tr>\n",
       "    <tr>\n",
       "      <th>4</th>\n",
       "      <td>5</td>\n",
       "      <td>5</td>\n",
       "      <td>1</td>\n",
       "      <td>2021-07-23--2021-07-30</td>\n",
       "      <td>INDUSTRY BABY (feat. Jack Harlow)</td>\n",
       "      <td>33,948,454</td>\n",
       "      <td>Lil Nas X</td>\n",
       "      <td>5473565</td>\n",
       "      <td>27NovPIUIRrOZoCHxABJwK</td>\n",
       "      <td>['lgbtq+ hip hop', 'pop rap']</td>\n",
       "      <td>...</td>\n",
       "      <td>0.736</td>\n",
       "      <td>0.704</td>\n",
       "      <td>-7.409</td>\n",
       "      <td>0.0615</td>\n",
       "      <td>0.0203</td>\n",
       "      <td>0.0501</td>\n",
       "      <td>149.995</td>\n",
       "      <td>212000</td>\n",
       "      <td>0.894</td>\n",
       "      <td>D#/Eb</td>\n",
       "    </tr>\n",
       "    <tr>\n",
       "      <th>...</th>\n",
       "      <td>...</td>\n",
       "      <td>...</td>\n",
       "      <td>...</td>\n",
       "      <td>...</td>\n",
       "      <td>...</td>\n",
       "      <td>...</td>\n",
       "      <td>...</td>\n",
       "      <td>...</td>\n",
       "      <td>...</td>\n",
       "      <td>...</td>\n",
       "      <td>...</td>\n",
       "      <td>...</td>\n",
       "      <td>...</td>\n",
       "      <td>...</td>\n",
       "      <td>...</td>\n",
       "      <td>...</td>\n",
       "      <td>...</td>\n",
       "      <td>...</td>\n",
       "      <td>...</td>\n",
       "      <td>...</td>\n",
       "      <td>...</td>\n",
       "    </tr>\n",
       "    <tr>\n",
       "      <th>1551</th>\n",
       "      <td>1552</td>\n",
       "      <td>195</td>\n",
       "      <td>1</td>\n",
       "      <td>2019-12-27--2020-01-03</td>\n",
       "      <td>New Rules</td>\n",
       "      <td>4,630,675</td>\n",
       "      <td>Dua Lipa</td>\n",
       "      <td>27167675</td>\n",
       "      <td>2ekn2ttSfGqwhhate0LSR0</td>\n",
       "      <td>['dance pop', 'pop', 'uk pop']</td>\n",
       "      <td>...</td>\n",
       "      <td>0.762</td>\n",
       "      <td>0.7</td>\n",
       "      <td>-6.021</td>\n",
       "      <td>0.0694</td>\n",
       "      <td>0.00261</td>\n",
       "      <td>0.153</td>\n",
       "      <td>116.073</td>\n",
       "      <td>209320</td>\n",
       "      <td>0.608</td>\n",
       "      <td>A</td>\n",
       "    </tr>\n",
       "    <tr>\n",
       "      <th>1552</th>\n",
       "      <td>1553</td>\n",
       "      <td>196</td>\n",
       "      <td>1</td>\n",
       "      <td>2019-12-27--2020-01-03</td>\n",
       "      <td>Cheirosa - Ao Vivo</td>\n",
       "      <td>4,623,030</td>\n",
       "      <td>Jorge &amp; Mateus</td>\n",
       "      <td>15019109</td>\n",
       "      <td>2PWjKmjyTZeDpmOUa3a5da</td>\n",
       "      <td>['sertanejo', 'sertanejo universitario']</td>\n",
       "      <td>...</td>\n",
       "      <td>0.528</td>\n",
       "      <td>0.87</td>\n",
       "      <td>-3.123</td>\n",
       "      <td>0.0851</td>\n",
       "      <td>0.24</td>\n",
       "      <td>0.333</td>\n",
       "      <td>152.37</td>\n",
       "      <td>181930</td>\n",
       "      <td>0.714</td>\n",
       "      <td>B</td>\n",
       "    </tr>\n",
       "    <tr>\n",
       "      <th>1553</th>\n",
       "      <td>1554</td>\n",
       "      <td>197</td>\n",
       "      <td>1</td>\n",
       "      <td>2019-12-27--2020-01-03</td>\n",
       "      <td>Havana (feat. Young Thug)</td>\n",
       "      <td>4,620,876</td>\n",
       "      <td>Camila Cabello</td>\n",
       "      <td>22698747</td>\n",
       "      <td>1rfofaqEpACxVEHIZBJe6W</td>\n",
       "      <td>['dance pop', 'electropop', 'pop', 'post-teen ...</td>\n",
       "      <td>...</td>\n",
       "      <td>0.765</td>\n",
       "      <td>0.523</td>\n",
       "      <td>-4.333</td>\n",
       "      <td>0.03</td>\n",
       "      <td>0.184</td>\n",
       "      <td>0.132</td>\n",
       "      <td>104.988</td>\n",
       "      <td>217307</td>\n",
       "      <td>0.394</td>\n",
       "      <td>D</td>\n",
       "    </tr>\n",
       "    <tr>\n",
       "      <th>1554</th>\n",
       "      <td>1555</td>\n",
       "      <td>198</td>\n",
       "      <td>1</td>\n",
       "      <td>2019-12-27--2020-01-03</td>\n",
       "      <td>Surtada - Remix Brega Funk</td>\n",
       "      <td>4,607,385</td>\n",
       "      <td>Dadá Boladão, Tati Zaqui, OIK</td>\n",
       "      <td>208630</td>\n",
       "      <td>5F8ffc8KWKNawllr5WsW0r</td>\n",
       "      <td>['brega funk', 'funk carioca']</td>\n",
       "      <td>...</td>\n",
       "      <td>0.832</td>\n",
       "      <td>0.55</td>\n",
       "      <td>-7.026</td>\n",
       "      <td>0.0587</td>\n",
       "      <td>0.249</td>\n",
       "      <td>0.182</td>\n",
       "      <td>154.064</td>\n",
       "      <td>152784</td>\n",
       "      <td>0.881</td>\n",
       "      <td>F</td>\n",
       "    </tr>\n",
       "    <tr>\n",
       "      <th>1555</th>\n",
       "      <td>1556</td>\n",
       "      <td>199</td>\n",
       "      <td>1</td>\n",
       "      <td>2019-12-27--2020-01-03</td>\n",
       "      <td>Lover (Remix) [feat. Shawn Mendes]</td>\n",
       "      <td>4,595,450</td>\n",
       "      <td>Taylor Swift</td>\n",
       "      <td>42227614</td>\n",
       "      <td>3i9UVldZOE0aD0JnyfAZZ0</td>\n",
       "      <td>['pop', 'post-teen pop']</td>\n",
       "      <td>...</td>\n",
       "      <td>0.448</td>\n",
       "      <td>0.603</td>\n",
       "      <td>-7.176</td>\n",
       "      <td>0.064</td>\n",
       "      <td>0.433</td>\n",
       "      <td>0.0862</td>\n",
       "      <td>205.272</td>\n",
       "      <td>221307</td>\n",
       "      <td>0.422</td>\n",
       "      <td>G</td>\n",
       "    </tr>\n",
       "  </tbody>\n",
       "</table>\n",
       "<p>1556 rows × 23 columns</p>\n",
       "</div>"
      ],
      "text/plain": [
       "      Index  Highest Charting Position  Number of Times Charted  \\\n",
       "0         1                          1                        8   \n",
       "1         2                          2                        3   \n",
       "2         3                          1                       11   \n",
       "3         4                          3                        5   \n",
       "4         5                          5                        1   \n",
       "...     ...                        ...                      ...   \n",
       "1551   1552                        195                        1   \n",
       "1552   1553                        196                        1   \n",
       "1553   1554                        197                        1   \n",
       "1554   1555                        198                        1   \n",
       "1555   1556                        199                        1   \n",
       "\n",
       "     Week of Highest Charting                           Song Name     Streams  \\\n",
       "0      2021-07-23--2021-07-30                             Beggin'  48,633,449   \n",
       "1      2021-07-23--2021-07-30           STAY (with Justin Bieber)  47,248,719   \n",
       "2      2021-06-25--2021-07-02                            good 4 u  40,162,559   \n",
       "3      2021-07-02--2021-07-09                          Bad Habits  37,799,456   \n",
       "4      2021-07-23--2021-07-30   INDUSTRY BABY (feat. Jack Harlow)  33,948,454   \n",
       "...                       ...                                 ...         ...   \n",
       "1551   2019-12-27--2020-01-03                           New Rules   4,630,675   \n",
       "1552   2019-12-27--2020-01-03                  Cheirosa - Ao Vivo   4,623,030   \n",
       "1553   2019-12-27--2020-01-03           Havana (feat. Young Thug)   4,620,876   \n",
       "1554   2019-12-27--2020-01-03          Surtada - Remix Brega Funk   4,607,385   \n",
       "1555   2019-12-27--2020-01-03  Lover (Remix) [feat. Shawn Mendes]   4,595,450   \n",
       "\n",
       "                             Artist Artist Followers                 Song ID  \\\n",
       "0                          Måneskin          3377762  3Wrjm47oTz2sjIgck11l5e   \n",
       "1                     The Kid LAROI          2230022  5HCyWlXZPP0y6Gqq8TgA20   \n",
       "2                    Olivia Rodrigo          6266514  4ZtFanR9U6ndgddUvNcjcG   \n",
       "3                        Ed Sheeran         83293380  6PQ88X9TkUIAUIZJHW2upE   \n",
       "4                         Lil Nas X          5473565  27NovPIUIRrOZoCHxABJwK   \n",
       "...                             ...              ...                     ...   \n",
       "1551                       Dua Lipa         27167675  2ekn2ttSfGqwhhate0LSR0   \n",
       "1552                 Jorge & Mateus         15019109  2PWjKmjyTZeDpmOUa3a5da   \n",
       "1553                 Camila Cabello         22698747  1rfofaqEpACxVEHIZBJe6W   \n",
       "1554  Dadá Boladão, Tati Zaqui, OIK           208630  5F8ffc8KWKNawllr5WsW0r   \n",
       "1555                   Taylor Swift         42227614  3i9UVldZOE0aD0JnyfAZZ0   \n",
       "\n",
       "                                                  Genre  ... Danceability  \\\n",
       "0                ['indie rock italiano', 'italian pop']  ...        0.714   \n",
       "1                                ['australian hip hop']  ...        0.591   \n",
       "2                                               ['pop']  ...        0.563   \n",
       "3                                     ['pop', 'uk pop']  ...        0.808   \n",
       "4                         ['lgbtq+ hip hop', 'pop rap']  ...        0.736   \n",
       "...                                                 ...  ...          ...   \n",
       "1551                     ['dance pop', 'pop', 'uk pop']  ...        0.762   \n",
       "1552           ['sertanejo', 'sertanejo universitario']  ...        0.528   \n",
       "1553  ['dance pop', 'electropop', 'pop', 'post-teen ...  ...        0.765   \n",
       "1554                     ['brega funk', 'funk carioca']  ...        0.832   \n",
       "1555                           ['pop', 'post-teen pop']  ...        0.448   \n",
       "\n",
       "     Energy Loudness Speechiness Acousticness Liveness    Tempo Duration (ms)  \\\n",
       "0       0.8   -4.808      0.0504        0.127    0.359  134.002        211560   \n",
       "1     0.764   -5.484      0.0483       0.0383    0.103  169.928        141806   \n",
       "2     0.664   -5.044       0.154        0.335   0.0849  166.928        178147   \n",
       "3     0.897   -3.712      0.0348       0.0469    0.364  126.026        231041   \n",
       "4     0.704   -7.409      0.0615       0.0203   0.0501  149.995        212000   \n",
       "...     ...      ...         ...          ...      ...      ...           ...   \n",
       "1551    0.7   -6.021      0.0694      0.00261    0.153  116.073        209320   \n",
       "1552   0.87   -3.123      0.0851         0.24    0.333   152.37        181930   \n",
       "1553  0.523   -4.333        0.03        0.184    0.132  104.988        217307   \n",
       "1554   0.55   -7.026      0.0587        0.249    0.182  154.064        152784   \n",
       "1555  0.603   -7.176       0.064        0.433   0.0862  205.272        221307   \n",
       "\n",
       "     Valence  Chord  \n",
       "0      0.589      B  \n",
       "1      0.478  C#/Db  \n",
       "2      0.688      A  \n",
       "3      0.591      B  \n",
       "4      0.894  D#/Eb  \n",
       "...      ...    ...  \n",
       "1551   0.608      A  \n",
       "1552   0.714      B  \n",
       "1553   0.394      D  \n",
       "1554   0.881      F  \n",
       "1555   0.422      G  \n",
       "\n",
       "[1556 rows x 23 columns]"
      ]
     },
     "execution_count": 11,
     "metadata": {},
     "output_type": "execute_result"
    }
   ],
   "source": [
    "df.replace(\"100\",\"Hello\")"
   ]
  },
  {
   "cell_type": "code",
   "execution_count": 14,
   "metadata": {
    "cell_id": "0c245d3c-47af-4c65-b354-66647163901a",
    "deepnote_cell_type": "code",
    "deepnote_to_be_reexecuted": false,
    "execution_millis": 4,
    "execution_start": 1643213725092,
    "is_output_hidden": false,
    "source_hash": "b805b897",
    "tags": []
   },
   "outputs": [],
   "source": [
    "df = df.replace(\" \",np.nan)"
   ]
  },
  {
   "cell_type": "markdown",
   "metadata": {
    "cell_id": "020aa8f5-b203-4969-9256-3afbe8b4a427",
    "deepnote_cell_type": "markdown",
    "tags": []
   },
   "source": [
    "We could just as well have used\n",
    "`df.replace(\" \",np.nan, inplace=True)`.  Not the same as `df = df.replace(\" \",np.nan, inplace=True)`."
   ]
  },
  {
   "cell_type": "code",
   "execution_count": 15,
   "metadata": {
    "cell_id": "b24cd56e-c850-45fe-a059-0a9787201889",
    "deepnote_cell_type": "code",
    "deepnote_output_heights": [
     232.4375
    ],
    "deepnote_to_be_reexecuted": false,
    "execution_millis": 5,
    "execution_start": 1643213732957,
    "source_hash": "8184f523",
    "tags": []
   },
   "outputs": [
    {
     "data": {
      "text/plain": [
       "0       0.800\n",
       "1       0.764\n",
       "2       0.664\n",
       "3       0.897\n",
       "4       0.704\n",
       "        ...  \n",
       "1551    0.700\n",
       "1552    0.870\n",
       "1553    0.523\n",
       "1554    0.550\n",
       "1555    0.603\n",
       "Name: Energy, Length: 1556, dtype: float64"
      ]
     },
     "execution_count": 15,
     "metadata": {},
     "output_type": "execute_result"
    }
   ],
   "source": [
    "pd.to_numeric(df.Energy)"
   ]
  },
  {
   "cell_type": "code",
   "execution_count": 16,
   "metadata": {
    "cell_id": "261312c5-83b5-4c77-aee7-f2c365b504ab",
    "deepnote_cell_type": "code",
    "deepnote_to_be_reexecuted": false,
    "execution_millis": 0,
    "execution_start": 1643213995979,
    "source_hash": "14302ddc",
    "tags": []
   },
   "outputs": [],
   "source": [
    "# if s is a blank space, replace it with Not a Number\n",
    "# otherwise leave s the same\n",
    "def rep_blank(s):\n",
    "    if s == \" \":\n",
    "        return np.nan\n",
    "    else:\n",
    "        return s"
   ]
  },
  {
   "cell_type": "code",
   "execution_count": 17,
   "metadata": {
    "cell_id": "6e7c4d7a-426f-4305-8604-4a391fb894cb",
    "deepnote_cell_type": "code",
    "deepnote_output_heights": [
     21.1875
    ],
    "deepnote_to_be_reexecuted": false,
    "execution_millis": 4,
    "execution_start": 1643214001653,
    "source_hash": "b6a793d1",
    "tags": []
   },
   "outputs": [
    {
     "data": {
      "text/plain": [
       "7"
      ]
     },
     "execution_count": 17,
     "metadata": {},
     "output_type": "execute_result"
    }
   ],
   "source": [
    "rep_blank(7)"
   ]
  },
  {
   "cell_type": "code",
   "execution_count": 18,
   "metadata": {
    "cell_id": "0718a8ad-3748-4526-a63b-ce8b84860a04",
    "deepnote_cell_type": "code",
    "deepnote_output_heights": [
     21.1875
    ],
    "deepnote_to_be_reexecuted": false,
    "execution_millis": 6,
    "execution_start": 1643214008670,
    "source_hash": "cccafe44",
    "tags": []
   },
   "outputs": [
    {
     "data": {
      "text/plain": [
       "nan"
      ]
     },
     "execution_count": 18,
     "metadata": {},
     "output_type": "execute_result"
    }
   ],
   "source": [
    "rep_blank(\" \")"
   ]
  },
  {
   "cell_type": "code",
   "execution_count": 20,
   "metadata": {
    "cell_id": "27f72df7-a5a5-4af3-b51d-7450afde039f",
    "deepnote_cell_type": "code",
    "deepnote_to_be_reexecuted": false,
    "execution_millis": 3,
    "execution_start": 1643214070418,
    "source_hash": "a144a107",
    "tags": []
   },
   "outputs": [
    {
     "name": "stdout",
     "output_type": "stream",
     "text": [
      "Help on method applymap in module pandas.core.frame:\n",
      "\n",
      "applymap(func, na_action: 'Optional[str]' = None) -> 'DataFrame' method of pandas.core.frame.DataFrame instance\n",
      "    Apply a function to a Dataframe elementwise.\n",
      "    \n",
      "    This method applies a function that accepts and returns a scalar\n",
      "    to every element of a DataFrame.\n",
      "    \n",
      "    Parameters\n",
      "    ----------\n",
      "    func : callable\n",
      "        Python function, returns a single value from a single value.\n",
      "    na_action : {None, 'ignore'}, default None\n",
      "        If ‘ignore’, propagate NaN values, without passing them to func.\n",
      "    \n",
      "        .. versionadded:: 1.2\n",
      "    \n",
      "    Returns\n",
      "    -------\n",
      "    DataFrame\n",
      "        Transformed DataFrame.\n",
      "    \n",
      "    See Also\n",
      "    --------\n",
      "    DataFrame.apply : Apply a function along input axis of DataFrame.\n",
      "    \n",
      "    Examples\n",
      "    --------\n",
      "    >>> df = pd.DataFrame([[1, 2.12], [3.356, 4.567]])\n",
      "    >>> df\n",
      "           0      1\n",
      "    0  1.000  2.120\n",
      "    1  3.356  4.567\n",
      "    \n",
      "    >>> df.applymap(lambda x: len(str(x)))\n",
      "       0  1\n",
      "    0  3  4\n",
      "    1  5  5\n",
      "    \n",
      "    Like Series.map, NA values can be ignored:\n",
      "    \n",
      "    >>> df_copy = df.copy()\n",
      "    >>> df_copy.iloc[0, 0] = pd.NA\n",
      "    >>> df_copy.applymap(lambda x: len(str(x)), na_action='ignore')\n",
      "          0  1\n",
      "    0  <NA>  4\n",
      "    1     5  5\n",
      "    \n",
      "    Note that a vectorized version of `func` often exists, which will\n",
      "    be much faster. You could square each number elementwise.\n",
      "    \n",
      "    >>> df.applymap(lambda x: x**2)\n",
      "               0          1\n",
      "    0   1.000000   4.494400\n",
      "    1  11.262736  20.857489\n",
      "    \n",
      "    But it's better to avoid applymap in that case.\n",
      "    \n",
      "    >>> df ** 2\n",
      "               0          1\n",
      "    0   1.000000   4.494400\n",
      "    1  11.262736  20.857489\n",
      "\n"
     ]
    }
   ],
   "source": [
    "help(df.applymap)"
   ]
  },
  {
   "cell_type": "code",
   "execution_count": 22,
   "metadata": {
    "cell_id": "cbd5471d-5cc5-4ef4-a4b2-41b45fcc8854",
    "deepnote_cell_type": "code",
    "deepnote_to_be_reexecuted": false,
    "execution_millis": 0,
    "execution_start": 1643214248934,
    "source_hash": "6326af09",
    "tags": []
   },
   "outputs": [],
   "source": [
    "# Apply this function to every entry in the DataFrame\n",
    "df = df.applymap(rep_blank)"
   ]
  },
  {
   "cell_type": "code",
   "execution_count": 23,
   "metadata": {
    "cell_id": "4f0914e3-8f62-45f6-958d-d6ac4bf9172a",
    "deepnote_cell_type": "code",
    "deepnote_output_heights": [
     232.4375
    ],
    "deepnote_to_be_reexecuted": false,
    "execution_millis": 114,
    "execution_start": 1643214266845,
    "source_hash": "7faab1ed",
    "tags": []
   },
   "outputs": [
    {
     "data": {
      "text/plain": [
       "0       0.800\n",
       "1       0.764\n",
       "2       0.664\n",
       "3       0.897\n",
       "4       0.704\n",
       "        ...  \n",
       "1551    0.700\n",
       "1552    0.870\n",
       "1553    0.523\n",
       "1554    0.550\n",
       "1555    0.603\n",
       "Name: Energy, Length: 1556, dtype: float64"
      ]
     },
     "execution_count": 23,
     "metadata": {},
     "output_type": "execute_result"
    }
   ],
   "source": [
    "pd.to_numeric(df[\"Energy\"])"
   ]
  },
  {
   "cell_type": "code",
   "execution_count": null,
   "metadata": {
    "cell_id": "1b39f873-7448-4864-8375-c54bfe09f9fa",
    "deepnote_cell_type": "code",
    "tags": []
   },
   "outputs": [],
   "source": [
    "# Our rep_blank function is not very Pythonic\n",
    "# there's a more concise way to make the same thing"
   ]
  },
  {
   "cell_type": "code",
   "execution_count": 24,
   "metadata": {
    "cell_id": "22e0457e-4902-4e4b-8cd1-0087053abece",
    "deepnote_cell_type": "code",
    "deepnote_to_be_reexecuted": false,
    "execution_millis": 21,
    "execution_start": 1643214371600,
    "source_hash": "3f39c031",
    "tags": []
   },
   "outputs": [],
   "source": [
    "df = pd.read_csv(\"spotify_dataset.csv\")"
   ]
  },
  {
   "cell_type": "code",
   "execution_count": 25,
   "metadata": {
    "cell_id": "62030161-9087-4827-85b6-88b5c6d7c793",
    "deepnote_cell_type": "code",
    "deepnote_to_be_reexecuted": false,
    "execution_millis": 31,
    "execution_start": 1643214382715,
    "source_hash": "7faab1ed",
    "tags": []
   },
   "outputs": [
    {
     "ename": "ValueError",
     "evalue": "Unable to parse string \" \" at position 35",
     "output_type": "error",
     "traceback": [
      "\u001b[0;31m---------------------------------------------------------------------------\u001b[0m",
      "\u001b[0;31mValueError\u001b[0m                                Traceback (most recent call last)",
      "\u001b[0;32mpandas/_libs/lib.pyx\u001b[0m in \u001b[0;36mpandas._libs.lib.maybe_convert_numeric\u001b[0;34m()\u001b[0m\n",
      "\u001b[0;31mValueError\u001b[0m: Unable to parse string \" \"",
      "\nDuring handling of the above exception, another exception occurred:\n",
      "\u001b[0;31mValueError\u001b[0m                                Traceback (most recent call last)",
      "\u001b[0;32m<ipython-input-25-e56ec88922ea>\u001b[0m in \u001b[0;36m<module>\u001b[0;34m\u001b[0m\n\u001b[0;32m----> 1\u001b[0;31m \u001b[0mpd\u001b[0m\u001b[0;34m.\u001b[0m\u001b[0mto_numeric\u001b[0m\u001b[0;34m(\u001b[0m\u001b[0mdf\u001b[0m\u001b[0;34m[\u001b[0m\u001b[0;34m\"Energy\"\u001b[0m\u001b[0;34m]\u001b[0m\u001b[0;34m)\u001b[0m\u001b[0;34m\u001b[0m\u001b[0;34m\u001b[0m\u001b[0m\n\u001b[0m",
      "\u001b[0;32m/shared-libs/python3.7/py/lib/python3.7/site-packages/pandas/core/tools/numeric.py\u001b[0m in \u001b[0;36mto_numeric\u001b[0;34m(arg, errors, downcast)\u001b[0m\n\u001b[1;32m    153\u001b[0m         \u001b[0;32mtry\u001b[0m\u001b[0;34m:\u001b[0m\u001b[0;34m\u001b[0m\u001b[0;34m\u001b[0m\u001b[0m\n\u001b[1;32m    154\u001b[0m             values = lib.maybe_convert_numeric(\n\u001b[0;32m--> 155\u001b[0;31m                 \u001b[0mvalues\u001b[0m\u001b[0;34m,\u001b[0m \u001b[0mset\u001b[0m\u001b[0;34m(\u001b[0m\u001b[0;34m)\u001b[0m\u001b[0;34m,\u001b[0m \u001b[0mcoerce_numeric\u001b[0m\u001b[0;34m=\u001b[0m\u001b[0mcoerce_numeric\u001b[0m\u001b[0;34m\u001b[0m\u001b[0;34m\u001b[0m\u001b[0m\n\u001b[0m\u001b[1;32m    156\u001b[0m             )\n\u001b[1;32m    157\u001b[0m         \u001b[0;32mexcept\u001b[0m \u001b[0;34m(\u001b[0m\u001b[0mValueError\u001b[0m\u001b[0;34m,\u001b[0m \u001b[0mTypeError\u001b[0m\u001b[0;34m)\u001b[0m\u001b[0;34m:\u001b[0m\u001b[0;34m\u001b[0m\u001b[0;34m\u001b[0m\u001b[0m\n",
      "\u001b[0;32mpandas/_libs/lib.pyx\u001b[0m in \u001b[0;36mpandas._libs.lib.maybe_convert_numeric\u001b[0;34m()\u001b[0m\n",
      "\u001b[0;31mValueError\u001b[0m: Unable to parse string \" \" at position 35"
     ]
    }
   ],
   "source": [
    "pd.to_numeric(df[\"Energy\"])"
   ]
  },
  {
   "cell_type": "code",
   "execution_count": null,
   "metadata": {
    "cell_id": "38bde6fb-3249-4fd2-a984-cb9d26254ff5",
    "deepnote_cell_type": "code",
    "tags": []
   },
   "outputs": [],
   "source": [
    "# if s is a blank space, replace it with Not a Number\n",
    "# otherwise leave s the same\n",
    "def rep_blank(s):\n",
    "    if s == \" \":\n",
    "        return np.nan\n",
    "    else:\n",
    "        return s"
   ]
  },
  {
   "cell_type": "code",
   "execution_count": 27,
   "metadata": {
    "cell_id": "a0cf3912-cde9-4a7c-a69f-d6262adf5d75",
    "deepnote_cell_type": "code",
    "deepnote_output_heights": [
     79
    ],
    "deepnote_to_be_reexecuted": false,
    "execution_millis": 6826,
    "execution_start": 1643214612797,
    "source_hash": "40306a2b",
    "tags": []
   },
   "outputs": [
    {
     "ename": "SyntaxError",
     "evalue": "invalid syntax (<ipython-input-27-256f42d8386f>, line 1)",
     "output_type": "error",
     "traceback": [
      "\u001b[0;36m  File \u001b[0;32m\"<ipython-input-27-256f42d8386f>\"\u001b[0;36m, line \u001b[0;32m1\u001b[0m\n\u001b[0;31m    df.applymap(lambda s: np.nan if s == \" \")\u001b[0m\n\u001b[0m                                            ^\u001b[0m\n\u001b[0;31mSyntaxError\u001b[0m\u001b[0;31m:\u001b[0m invalid syntax\n"
     ]
    }
   ],
   "source": [
    "df.applymap(lambda s: np.nan if s == \" \")"
   ]
  },
  {
   "cell_type": "markdown",
   "metadata": {
    "cell_id": "7304a809-cb77-4be3-b797-9287074b1eed",
    "deepnote_cell_type": "markdown",
    "tags": []
   },
   "source": [
    "`map` is a method for pandas Series\n",
    "\n",
    "`applymap` is a method for pandas DataFrames"
   ]
  },
  {
   "cell_type": "code",
   "execution_count": 26,
   "metadata": {
    "cell_id": "90d74a29-857c-471e-a476-deeb597cc0b5",
    "deepnote_cell_type": "code",
    "deepnote_to_be_reexecuted": false,
    "execution_millis": 176,
    "execution_start": 1643214548515,
    "source_hash": "6e73b91a",
    "tags": []
   },
   "outputs": [
    {
     "data": {
      "application/vnd.deepnote.dataframe.v3+json": {
       "column_count": 23,
       "columns": [
        {
         "dtype": "int64",
         "name": "Index",
         "stats": {
          "histogram": [
           {
            "bin_end": 156.5,
            "bin_start": 1,
            "count": 156
           },
           {
            "bin_end": 312,
            "bin_start": 156.5,
            "count": 155
           },
           {
            "bin_end": 467.5,
            "bin_start": 312,
            "count": 156
           },
           {
            "bin_end": 623,
            "bin_start": 467.5,
            "count": 155
           },
           {
            "bin_end": 778.5,
            "bin_start": 623,
            "count": 156
           },
           {
            "bin_end": 934,
            "bin_start": 778.5,
            "count": 155
           },
           {
            "bin_end": 1089.5,
            "bin_start": 934,
            "count": 156
           },
           {
            "bin_end": 1245,
            "bin_start": 1089.5,
            "count": 155
           },
           {
            "bin_end": 1400.5,
            "bin_start": 1245,
            "count": 156
           },
           {
            "bin_end": 1556,
            "bin_start": 1400.5,
            "count": 156
           }
          ],
          "max": "1556",
          "min": "1",
          "nan_count": 0,
          "unique_count": 1556
         }
        },
        {
         "dtype": "int64",
         "name": "Highest Charting Position",
         "stats": {
          "histogram": [
           {
            "bin_end": 20.9,
            "bin_start": 1,
            "count": 241
           },
           {
            "bin_end": 40.8,
            "bin_start": 20.9,
            "count": 173
           },
           {
            "bin_end": 60.699999999999996,
            "bin_start": 40.8,
            "count": 181
           },
           {
            "bin_end": 80.6,
            "bin_start": 60.699999999999996,
            "count": 186
           },
           {
            "bin_end": 100.5,
            "bin_start": 80.6,
            "count": 141
           },
           {
            "bin_end": 120.39999999999999,
            "bin_start": 100.5,
            "count": 142
           },
           {
            "bin_end": 140.29999999999998,
            "bin_start": 120.39999999999999,
            "count": 140
           },
           {
            "bin_end": 160.2,
            "bin_start": 140.29999999999998,
            "count": 116
           },
           {
            "bin_end": 180.1,
            "bin_start": 160.2,
            "count": 110
           },
           {
            "bin_end": 200,
            "bin_start": 180.1,
            "count": 126
           }
          ],
          "max": "200",
          "min": "1",
          "nan_count": 0,
          "unique_count": 200
         }
        },
        {
         "dtype": "int64",
         "name": "Number of Times Charted",
         "stats": {
          "histogram": [
           {
            "bin_end": 15.1,
            "bin_start": 1,
            "count": 1228
           },
           {
            "bin_end": 29.2,
            "bin_start": 15.1,
            "count": 170
           },
           {
            "bin_end": 43.3,
            "bin_start": 29.2,
            "count": 75
           },
           {
            "bin_end": 57.4,
            "bin_start": 43.3,
            "count": 36
           },
           {
            "bin_end": 71.5,
            "bin_start": 57.4,
            "count": 14
           },
           {
            "bin_end": 85.6,
            "bin_start": 71.5,
            "count": 32
           },
           {
            "bin_end": 99.7,
            "bin_start": 85.6,
            "count": 0
           },
           {
            "bin_end": 113.8,
            "bin_start": 99.7,
            "count": 0
           },
           {
            "bin_end": 127.89999999999999,
            "bin_start": 113.8,
            "count": 0
           },
           {
            "bin_end": 142,
            "bin_start": 127.89999999999999,
            "count": 1
           }
          ],
          "max": "142",
          "min": "1",
          "nan_count": 0,
          "unique_count": 75
         }
        },
        {
         "dtype": "object",
         "name": "Week of Highest Charting",
         "stats": {
          "categories": [
           {
            "count": 89,
            "name": "2019-12-27--2020-01-03"
           },
           {
            "count": 68,
            "name": "2020-12-18--2020-12-25"
           },
           {
            "count": 1399,
            "name": "81 others"
           }
          ],
          "nan_count": 0,
          "unique_count": 83
         }
        },
        {
         "dtype": "object",
         "name": "Song Name",
         "stats": {
          "categories": [
           {
            "count": 1,
            "name": "Beggin'"
           },
           {
            "count": 1,
            "name": "STAY (with Justin Bieber)"
           },
           {
            "count": 1554,
            "name": "1554 others"
           }
          ],
          "nan_count": 0,
          "unique_count": 1556
         }
        },
        {
         "dtype": "object",
         "name": "Streams",
         "stats": {
          "categories": [
           {
            "count": 1,
            "name": "48,633,449"
           },
           {
            "count": 1,
            "name": "47,248,719"
           },
           {
            "count": 1554,
            "name": "1554 others"
           }
          ],
          "nan_count": 0,
          "unique_count": 1556
         }
        },
        {
         "dtype": "object",
         "name": "Artist",
         "stats": {
          "categories": [
           {
            "count": 52,
            "name": "Taylor Swift"
           },
           {
            "count": 32,
            "name": "Justin Bieber"
           },
           {
            "count": 1472,
            "name": "714 others"
           }
          ],
          "nan_count": 0,
          "unique_count": 716
         }
        },
        {
         "dtype": "object",
         "name": "Artist Followers",
         "stats": {
          "categories": [
           {
            "count": 52,
            "name": "42227614"
           },
           {
            "count": 1493,
            "name": "598 others"
           },
           {
            "count": 11,
            "name": "Missing"
           }
          ],
          "nan_count": 11,
          "unique_count": 599
         }
        },
        {
         "dtype": "object",
         "name": "Song ID",
         "stats": {
          "categories": [
           {
            "count": 3,
            "name": "5uEYRdEIh9Bo4fpjDd4Na9"
           },
           {
            "count": 1542,
            "name": "1515 others"
           },
           {
            "count": 11,
            "name": "Missing"
           }
          ],
          "nan_count": 11,
          "unique_count": 1516
         }
        },
        {
         "dtype": "object",
         "name": "Genre",
         "stats": {
          "categories": [
           {
            "count": 75,
            "name": "[]"
           },
           {
            "count": 1470,
            "name": "393 others"
           },
           {
            "count": 11,
            "name": "Missing"
           }
          ],
          "nan_count": 11,
          "unique_count": 394
         }
        },
        {
         "dtype": "object",
         "name": "Release Date",
         "stats": {
          "categories": [
           {
            "count": 34,
            "name": "2020-01-17"
           },
           {
            "count": 1511,
            "name": "476 others"
           },
           {
            "count": 11,
            "name": "Missing"
           }
          ],
          "nan_count": 11,
          "unique_count": 477
         }
        },
        {
         "dtype": "object",
         "name": "Weeks Charted",
         "stats": {
          "categories": [
           {
            "count": 32,
            "name": "2020-12-18--2020-12-25"
           },
           {
            "count": 24,
            "name": "2020-01-17--2020-01-24"
           },
           {
            "count": 1500,
            "name": "773 others"
           }
          ],
          "nan_count": 0,
          "unique_count": 775
         }
        },
        {
         "dtype": "object",
         "name": "Popularity",
         "stats": {
          "categories": [
           {
            "count": 67,
            "name": "75"
           },
           {
            "count": 1478,
            "name": "68 others"
           },
           {
            "count": 11,
            "name": "Missing"
           }
          ],
          "nan_count": 11,
          "unique_count": 69
         }
        },
        {
         "dtype": "object",
         "name": "Danceability",
         "stats": {
          "categories": [
           {
            "count": 10,
            "name": "0.762"
           },
           {
            "count": 1535,
            "name": "528 others"
           },
           {
            "count": 11,
            "name": "Missing"
           }
          ],
          "nan_count": 11,
          "unique_count": 529
         }
        },
        {
         "dtype": "object",
         "name": "Energy",
         "stats": {
          "categories": [
           {
            "count": 10,
            "name": "0.621"
           },
           {
            "count": 1535,
            "name": "573 others"
           },
           {
            "count": 11,
            "name": "Missing"
           }
          ],
          "nan_count": 11,
          "unique_count": 574
         }
        },
        {
         "dtype": "object",
         "name": "Loudness",
         "stats": {
          "categories": [
           {
            "count": 4,
            "name": "-5.382"
           },
           {
            "count": 1541,
            "name": "1392 others"
           },
           {
            "count": 11,
            "name": "Missing"
           }
          ],
          "nan_count": 11,
          "unique_count": 1393
         }
        },
        {
         "dtype": "object",
         "name": "Speechiness",
         "stats": {
          "categories": [
           {
            "count": 15,
            "name": "0.102"
           },
           {
            "count": 1530,
            "name": "770 others"
           },
           {
            "count": 11,
            "name": "Missing"
           }
          ],
          "nan_count": 11,
          "unique_count": 771
         }
        },
        {
         "dtype": "object",
         "name": "Acousticness",
         "stats": {
          "categories": [
           {
            "count": 10,
            "name": "0.114"
           },
           {
            "count": 1535,
            "name": "963 others"
           },
           {
            "count": 11,
            "name": "Missing"
           }
          ],
          "nan_count": 11,
          "unique_count": 964
         }
        },
        {
         "dtype": "object",
         "name": "Liveness",
         "stats": {
          "categories": [
           {
            "count": 23,
            "name": "0.103"
           },
           {
            "count": 1522,
            "name": "604 others"
           },
           {
            "count": 11,
            "name": "Missing"
           }
          ],
          "nan_count": 11,
          "unique_count": 605
         }
        },
        {
         "dtype": "object",
         "name": "Tempo",
         "stats": {
          "categories": [
           {
            "count": 3,
            "name": "93.005"
           },
           {
            "count": 1542,
            "name": "1459 others"
           },
           {
            "count": 11,
            "name": "Missing"
           }
          ],
          "nan_count": 11,
          "unique_count": 1460
         }
        },
        {
         "dtype": "object",
         "name": "Duration (ms)",
         "stats": {
          "categories": [
           {
            "count": 3,
            "name": "162803"
           },
           {
            "count": 1542,
            "name": "1484 others"
           },
           {
            "count": 11,
            "name": "Missing"
           }
          ],
          "nan_count": 11,
          "unique_count": 1485
         }
        },
        {
         "dtype": "object",
         "name": "Valence",
         "stats": {
          "categories": [
           {
            "count": 7,
            "name": "0.405"
           },
           {
            "count": 1538,
            "name": "730 others"
           },
           {
            "count": 11,
            "name": "Missing"
           }
          ],
          "nan_count": 11,
          "unique_count": 731
         }
        },
        {
         "dtype": "object",
         "name": "Chord",
         "stats": {
          "categories": [
           {
            "count": 214,
            "name": "C#/Db"
           },
           {
            "count": 1331,
            "name": "11 others"
           },
           {
            "count": 11,
            "name": "Missing"
           }
          ],
          "nan_count": 11,
          "unique_count": 12
         }
        },
        {
         "dtype": "int64",
         "name": "_deepnote_index_column"
        }
       ],
       "row_count": 1556,
       "rows": [
        {
         "Acousticness": "0.127",
         "Artist": "Måneskin",
         "Artist Followers": "3377762",
         "Chord": "B",
         "Danceability": "0.714",
         "Duration (ms)": "211560",
         "Energy": "0.8",
         "Genre": "['indie rock italiano', 'italian pop']",
         "Highest Charting Position": 1,
         "Index": 1,
         "Liveness": "0.359",
         "Loudness": "-4.808",
         "Number of Times Charted": 8,
         "Popularity": "100",
         "Release Date": "2017-12-08",
         "Song ID": "3Wrjm47oTz2sjIgck11l5e",
         "Song Name": "Beggin'",
         "Speechiness": "0.0504",
         "Streams": "48,633,449",
         "Tempo": "134.002",
         "Valence": "0.589",
         "Week of Highest Charting": "2021-07-23--2021-07-30",
         "Weeks Charted": "2021-07-23--2021-07-30\n2021-07-16--2021-07-23\n2021-07-09--2021-07-16\n2021-07-02--2021-07-09\n2021-06…",
         "_deepnote_index_column": 0
        },
        {
         "Acousticness": "0.0383",
         "Artist": "The Kid LAROI",
         "Artist Followers": "2230022",
         "Chord": "C#/Db",
         "Danceability": "0.591",
         "Duration (ms)": "141806",
         "Energy": "0.764",
         "Genre": "['australian hip hop']",
         "Highest Charting Position": 2,
         "Index": 2,
         "Liveness": "0.103",
         "Loudness": "-5.484",
         "Number of Times Charted": 3,
         "Popularity": "99",
         "Release Date": "2021-07-09",
         "Song ID": "5HCyWlXZPP0y6Gqq8TgA20",
         "Song Name": "STAY (with Justin Bieber)",
         "Speechiness": "0.0483",
         "Streams": "47,248,719",
         "Tempo": "169.928",
         "Valence": "0.478",
         "Week of Highest Charting": "2021-07-23--2021-07-30",
         "Weeks Charted": "2021-07-23--2021-07-30\n2021-07-16--2021-07-23\n2021-07-09--2021-07-16",
         "_deepnote_index_column": 1
        },
        {
         "Acousticness": "0.335",
         "Artist": "Olivia Rodrigo",
         "Artist Followers": "6266514",
         "Chord": "A",
         "Danceability": "0.563",
         "Duration (ms)": "178147",
         "Energy": "0.664",
         "Genre": "['pop']",
         "Highest Charting Position": 1,
         "Index": 3,
         "Liveness": "0.0849",
         "Loudness": "-5.044",
         "Number of Times Charted": 11,
         "Popularity": "99",
         "Release Date": "2021-05-21",
         "Song ID": "4ZtFanR9U6ndgddUvNcjcG",
         "Song Name": "good 4 u",
         "Speechiness": "0.154",
         "Streams": "40,162,559",
         "Tempo": "166.928",
         "Valence": "0.688",
         "Week of Highest Charting": "2021-06-25--2021-07-02",
         "Weeks Charted": "2021-07-23--2021-07-30\n2021-07-16--2021-07-23\n2021-07-09--2021-07-16\n2021-07-02--2021-07-09\n2021-06…",
         "_deepnote_index_column": 2
        },
        {
         "Acousticness": "0.0469",
         "Artist": "Ed Sheeran",
         "Artist Followers": "83293380",
         "Chord": "B",
         "Danceability": "0.808",
         "Duration (ms)": "231041",
         "Energy": "0.897",
         "Genre": "['pop', 'uk pop']",
         "Highest Charting Position": 3,
         "Index": 4,
         "Liveness": "0.364",
         "Loudness": "-3.712",
         "Number of Times Charted": 5,
         "Popularity": "98",
         "Release Date": "2021-06-25",
         "Song ID": "6PQ88X9TkUIAUIZJHW2upE",
         "Song Name": "Bad Habits",
         "Speechiness": "0.0348",
         "Streams": "37,799,456",
         "Tempo": "126.026",
         "Valence": "0.591",
         "Week of Highest Charting": "2021-07-02--2021-07-09",
         "Weeks Charted": "2021-07-23--2021-07-30\n2021-07-16--2021-07-23\n2021-07-09--2021-07-16\n2021-07-02--2021-07-09\n2021-06…",
         "_deepnote_index_column": 3
        },
        {
         "Acousticness": "0.0203",
         "Artist": "Lil Nas X",
         "Artist Followers": "5473565",
         "Chord": "D#/Eb",
         "Danceability": "0.736",
         "Duration (ms)": "212000",
         "Energy": "0.704",
         "Genre": "['lgbtq+ hip hop', 'pop rap']",
         "Highest Charting Position": 5,
         "Index": 5,
         "Liveness": "0.0501",
         "Loudness": "-7.409",
         "Number of Times Charted": 1,
         "Popularity": "96",
         "Release Date": "2021-07-23",
         "Song ID": "27NovPIUIRrOZoCHxABJwK",
         "Song Name": "INDUSTRY BABY (feat. Jack Harlow)",
         "Speechiness": "0.0615",
         "Streams": "33,948,454",
         "Tempo": "149.995",
         "Valence": "0.894",
         "Week of Highest Charting": "2021-07-23--2021-07-30",
         "Weeks Charted": "2021-07-23--2021-07-30",
         "_deepnote_index_column": 4
        },
        {
         "Acousticness": "0.297",
         "Artist": "Lil Nas X",
         "Artist Followers": "5473565",
         "Chord": "G#/Ab",
         "Danceability": "0.61",
         "Duration (ms)": "137876",
         "Energy": "0.508",
         "Genre": "['lgbtq+ hip hop', 'pop rap']",
         "Highest Charting Position": 1,
         "Index": 6,
         "Liveness": "0.384",
         "Loudness": "-6.682",
         "Number of Times Charted": 18,
         "Popularity": "97",
         "Release Date": "2021-03-31",
         "Song ID": "67BtfxlNbhBmCDR2L2l8qd",
         "Song Name": "MONTERO (Call Me By Your Name)",
         "Speechiness": "0.152",
         "Streams": "30,071,134",
         "Tempo": "178.818",
         "Valence": "0.758",
         "Week of Highest Charting": "2021-05-07--2021-05-14",
         "Weeks Charted": "2021-07-23--2021-07-30\n2021-07-16--2021-07-23\n2021-07-09--2021-07-16\n2021-07-02--2021-07-09\n2021-06…",
         "_deepnote_index_column": 5
        },
        {
         "Acousticness": "0.235",
         "Artist": "Doja Cat",
         "Artist Followers": "8640063",
         "Chord": "G#/Ab",
         "Danceability": "0.762",
         "Duration (ms)": "208867",
         "Energy": "0.701",
         "Genre": "['dance pop', 'pop']",
         "Highest Charting Position": 3,
         "Index": 7,
         "Liveness": "0.123",
         "Loudness": "-3.541",
         "Number of Times Charted": 16,
         "Popularity": "94",
         "Release Date": "2021-04-09",
         "Song ID": "748mdHapucXQri7IAO8yFK",
         "Song Name": "Kiss Me More (feat. SZA)",
         "Speechiness": "0.0286",
         "Streams": "29,356,736",
         "Tempo": "110.968",
         "Valence": "0.742",
         "Week of Highest Charting": "2021-05-14--2021-05-21",
         "Weeks Charted": "2021-07-23--2021-07-30\n2021-07-16--2021-07-23\n2021-07-09--2021-07-16\n2021-07-02--2021-07-09\n2021-06…",
         "_deepnote_index_column": 6
        },
        {
         "Acousticness": "0.31",
         "Artist": "Rauw Alejandro",
         "Artist Followers": "6080597",
         "Chord": "D#/Eb",
         "Danceability": "0.78",
         "Duration (ms)": "199604",
         "Energy": "0.718",
         "Genre": "['puerto rican pop', 'trap latino']",
         "Highest Charting Position": 2,
         "Index": 8,
         "Liveness": "0.0932",
         "Loudness": "-3.605",
         "Number of Times Charted": 10,
         "Popularity": "95",
         "Release Date": "2021-05-20",
         "Song ID": "4fSIb4hdOQ151TILNsSEaF",
         "Song Name": "Todo De Ti",
         "Speechiness": "0.0506",
         "Streams": "26,951,613",
         "Tempo": "127.949",
         "Valence": "0.342",
         "Week of Highest Charting": "2021-06-18--2021-06-25",
         "Weeks Charted": "2021-07-23--2021-07-30\n2021-07-16--2021-07-23\n2021-07-09--2021-07-16\n2021-07-02--2021-07-09\n2021-06…",
         "_deepnote_index_column": 7
        },
        {
         "Acousticness": "0.276",
         "Artist": "Bad Bunny",
         "Artist Followers": "36142273",
         "Chord": "C#/Db",
         "Danceability": "0.644",
         "Duration (ms)": "206710",
         "Energy": "0.648",
         "Genre": "['latin', 'reggaeton', 'trap latino']",
         "Highest Charting Position": 3,
         "Index": 9,
         "Liveness": "0.135",
         "Loudness": "-4.601",
         "Number of Times Charted": 8,
         "Popularity": "96",
         "Release Date": "2021-06-04",
         "Song ID": "2JPLbjOn0wPCngEot2STUS",
         "Song Name": "Yonaguni",
         "Speechiness": "0.118",
         "Streams": "25,030,128",
         "Tempo": "179.951",
         "Valence": "0.44",
         "Week of Highest Charting": "2021-06-18--2021-06-25",
         "Weeks Charted": "2021-07-23--2021-07-30\n2021-07-16--2021-07-23\n2021-07-09--2021-07-16\n2021-07-02--2021-07-09\n2021-06…",
         "_deepnote_index_column": 8
        },
        {
         "Acousticness": "0.00165",
         "Artist": "Måneskin",
         "Artist Followers": "3377762",
         "Chord": "C#/Db",
         "Danceability": "0.75",
         "Duration (ms)": "173347",
         "Energy": "0.608",
         "Genre": "['indie rock italiano', 'italian pop']",
         "Highest Charting Position": 8,
         "Index": 10,
         "Liveness": "0.178",
         "Loudness": "-4.008",
         "Number of Times Charted": 10,
         "Popularity": "95",
         "Release Date": "2021-03-19",
         "Song ID": "4pt5fDVTg5GhEvEtlz9dKk",
         "Song Name": "I WANNA BE YOUR SLAVE",
         "Speechiness": "0.0387",
         "Streams": "24,551,591",
         "Tempo": "132.507",
         "Valence": "0.958",
         "Week of Highest Charting": "2021-07-02--2021-07-09",
         "Weeks Charted": "2021-07-23--2021-07-30\n2021-07-16--2021-07-23\n2021-07-09--2021-07-16\n2021-07-02--2021-07-09\n2021-06…",
         "_deepnote_index_column": 9
        }
       ]
      },
      "text/html": [
       "<div>\n",
       "<style scoped>\n",
       "    .dataframe tbody tr th:only-of-type {\n",
       "        vertical-align: middle;\n",
       "    }\n",
       "\n",
       "    .dataframe tbody tr th {\n",
       "        vertical-align: top;\n",
       "    }\n",
       "\n",
       "    .dataframe thead th {\n",
       "        text-align: right;\n",
       "    }\n",
       "</style>\n",
       "<table border=\"1\" class=\"dataframe\">\n",
       "  <thead>\n",
       "    <tr style=\"text-align: right;\">\n",
       "      <th></th>\n",
       "      <th>Index</th>\n",
       "      <th>Highest Charting Position</th>\n",
       "      <th>Number of Times Charted</th>\n",
       "      <th>Week of Highest Charting</th>\n",
       "      <th>Song Name</th>\n",
       "      <th>Streams</th>\n",
       "      <th>Artist</th>\n",
       "      <th>Artist Followers</th>\n",
       "      <th>Song ID</th>\n",
       "      <th>Genre</th>\n",
       "      <th>...</th>\n",
       "      <th>Danceability</th>\n",
       "      <th>Energy</th>\n",
       "      <th>Loudness</th>\n",
       "      <th>Speechiness</th>\n",
       "      <th>Acousticness</th>\n",
       "      <th>Liveness</th>\n",
       "      <th>Tempo</th>\n",
       "      <th>Duration (ms)</th>\n",
       "      <th>Valence</th>\n",
       "      <th>Chord</th>\n",
       "    </tr>\n",
       "  </thead>\n",
       "  <tbody>\n",
       "    <tr>\n",
       "      <th>0</th>\n",
       "      <td>1</td>\n",
       "      <td>1</td>\n",
       "      <td>8</td>\n",
       "      <td>2021-07-23--2021-07-30</td>\n",
       "      <td>Beggin'</td>\n",
       "      <td>48,633,449</td>\n",
       "      <td>Måneskin</td>\n",
       "      <td>3377762</td>\n",
       "      <td>3Wrjm47oTz2sjIgck11l5e</td>\n",
       "      <td>['indie rock italiano', 'italian pop']</td>\n",
       "      <td>...</td>\n",
       "      <td>0.714</td>\n",
       "      <td>0.8</td>\n",
       "      <td>-4.808</td>\n",
       "      <td>0.0504</td>\n",
       "      <td>0.127</td>\n",
       "      <td>0.359</td>\n",
       "      <td>134.002</td>\n",
       "      <td>211560</td>\n",
       "      <td>0.589</td>\n",
       "      <td>B</td>\n",
       "    </tr>\n",
       "    <tr>\n",
       "      <th>1</th>\n",
       "      <td>2</td>\n",
       "      <td>2</td>\n",
       "      <td>3</td>\n",
       "      <td>2021-07-23--2021-07-30</td>\n",
       "      <td>STAY (with Justin Bieber)</td>\n",
       "      <td>47,248,719</td>\n",
       "      <td>The Kid LAROI</td>\n",
       "      <td>2230022</td>\n",
       "      <td>5HCyWlXZPP0y6Gqq8TgA20</td>\n",
       "      <td>['australian hip hop']</td>\n",
       "      <td>...</td>\n",
       "      <td>0.591</td>\n",
       "      <td>0.764</td>\n",
       "      <td>-5.484</td>\n",
       "      <td>0.0483</td>\n",
       "      <td>0.0383</td>\n",
       "      <td>0.103</td>\n",
       "      <td>169.928</td>\n",
       "      <td>141806</td>\n",
       "      <td>0.478</td>\n",
       "      <td>C#/Db</td>\n",
       "    </tr>\n",
       "    <tr>\n",
       "      <th>2</th>\n",
       "      <td>3</td>\n",
       "      <td>1</td>\n",
       "      <td>11</td>\n",
       "      <td>2021-06-25--2021-07-02</td>\n",
       "      <td>good 4 u</td>\n",
       "      <td>40,162,559</td>\n",
       "      <td>Olivia Rodrigo</td>\n",
       "      <td>6266514</td>\n",
       "      <td>4ZtFanR9U6ndgddUvNcjcG</td>\n",
       "      <td>['pop']</td>\n",
       "      <td>...</td>\n",
       "      <td>0.563</td>\n",
       "      <td>0.664</td>\n",
       "      <td>-5.044</td>\n",
       "      <td>0.154</td>\n",
       "      <td>0.335</td>\n",
       "      <td>0.0849</td>\n",
       "      <td>166.928</td>\n",
       "      <td>178147</td>\n",
       "      <td>0.688</td>\n",
       "      <td>A</td>\n",
       "    </tr>\n",
       "    <tr>\n",
       "      <th>3</th>\n",
       "      <td>4</td>\n",
       "      <td>3</td>\n",
       "      <td>5</td>\n",
       "      <td>2021-07-02--2021-07-09</td>\n",
       "      <td>Bad Habits</td>\n",
       "      <td>37,799,456</td>\n",
       "      <td>Ed Sheeran</td>\n",
       "      <td>83293380</td>\n",
       "      <td>6PQ88X9TkUIAUIZJHW2upE</td>\n",
       "      <td>['pop', 'uk pop']</td>\n",
       "      <td>...</td>\n",
       "      <td>0.808</td>\n",
       "      <td>0.897</td>\n",
       "      <td>-3.712</td>\n",
       "      <td>0.0348</td>\n",
       "      <td>0.0469</td>\n",
       "      <td>0.364</td>\n",
       "      <td>126.026</td>\n",
       "      <td>231041</td>\n",
       "      <td>0.591</td>\n",
       "      <td>B</td>\n",
       "    </tr>\n",
       "    <tr>\n",
       "      <th>4</th>\n",
       "      <td>5</td>\n",
       "      <td>5</td>\n",
       "      <td>1</td>\n",
       "      <td>2021-07-23--2021-07-30</td>\n",
       "      <td>INDUSTRY BABY (feat. Jack Harlow)</td>\n",
       "      <td>33,948,454</td>\n",
       "      <td>Lil Nas X</td>\n",
       "      <td>5473565</td>\n",
       "      <td>27NovPIUIRrOZoCHxABJwK</td>\n",
       "      <td>['lgbtq+ hip hop', 'pop rap']</td>\n",
       "      <td>...</td>\n",
       "      <td>0.736</td>\n",
       "      <td>0.704</td>\n",
       "      <td>-7.409</td>\n",
       "      <td>0.0615</td>\n",
       "      <td>0.0203</td>\n",
       "      <td>0.0501</td>\n",
       "      <td>149.995</td>\n",
       "      <td>212000</td>\n",
       "      <td>0.894</td>\n",
       "      <td>D#/Eb</td>\n",
       "    </tr>\n",
       "    <tr>\n",
       "      <th>...</th>\n",
       "      <td>...</td>\n",
       "      <td>...</td>\n",
       "      <td>...</td>\n",
       "      <td>...</td>\n",
       "      <td>...</td>\n",
       "      <td>...</td>\n",
       "      <td>...</td>\n",
       "      <td>...</td>\n",
       "      <td>...</td>\n",
       "      <td>...</td>\n",
       "      <td>...</td>\n",
       "      <td>...</td>\n",
       "      <td>...</td>\n",
       "      <td>...</td>\n",
       "      <td>...</td>\n",
       "      <td>...</td>\n",
       "      <td>...</td>\n",
       "      <td>...</td>\n",
       "      <td>...</td>\n",
       "      <td>...</td>\n",
       "      <td>...</td>\n",
       "    </tr>\n",
       "    <tr>\n",
       "      <th>1551</th>\n",
       "      <td>1552</td>\n",
       "      <td>195</td>\n",
       "      <td>1</td>\n",
       "      <td>2019-12-27--2020-01-03</td>\n",
       "      <td>New Rules</td>\n",
       "      <td>4,630,675</td>\n",
       "      <td>Dua Lipa</td>\n",
       "      <td>27167675</td>\n",
       "      <td>2ekn2ttSfGqwhhate0LSR0</td>\n",
       "      <td>['dance pop', 'pop', 'uk pop']</td>\n",
       "      <td>...</td>\n",
       "      <td>0.762</td>\n",
       "      <td>0.7</td>\n",
       "      <td>-6.021</td>\n",
       "      <td>0.0694</td>\n",
       "      <td>0.00261</td>\n",
       "      <td>0.153</td>\n",
       "      <td>116.073</td>\n",
       "      <td>209320</td>\n",
       "      <td>0.608</td>\n",
       "      <td>A</td>\n",
       "    </tr>\n",
       "    <tr>\n",
       "      <th>1552</th>\n",
       "      <td>1553</td>\n",
       "      <td>196</td>\n",
       "      <td>1</td>\n",
       "      <td>2019-12-27--2020-01-03</td>\n",
       "      <td>Cheirosa - Ao Vivo</td>\n",
       "      <td>4,623,030</td>\n",
       "      <td>Jorge &amp; Mateus</td>\n",
       "      <td>15019109</td>\n",
       "      <td>2PWjKmjyTZeDpmOUa3a5da</td>\n",
       "      <td>['sertanejo', 'sertanejo universitario']</td>\n",
       "      <td>...</td>\n",
       "      <td>0.528</td>\n",
       "      <td>0.87</td>\n",
       "      <td>-3.123</td>\n",
       "      <td>0.0851</td>\n",
       "      <td>0.24</td>\n",
       "      <td>0.333</td>\n",
       "      <td>152.37</td>\n",
       "      <td>181930</td>\n",
       "      <td>0.714</td>\n",
       "      <td>B</td>\n",
       "    </tr>\n",
       "    <tr>\n",
       "      <th>1553</th>\n",
       "      <td>1554</td>\n",
       "      <td>197</td>\n",
       "      <td>1</td>\n",
       "      <td>2019-12-27--2020-01-03</td>\n",
       "      <td>Havana (feat. Young Thug)</td>\n",
       "      <td>4,620,876</td>\n",
       "      <td>Camila Cabello</td>\n",
       "      <td>22698747</td>\n",
       "      <td>1rfofaqEpACxVEHIZBJe6W</td>\n",
       "      <td>['dance pop', 'electropop', 'pop', 'post-teen ...</td>\n",
       "      <td>...</td>\n",
       "      <td>0.765</td>\n",
       "      <td>0.523</td>\n",
       "      <td>-4.333</td>\n",
       "      <td>0.03</td>\n",
       "      <td>0.184</td>\n",
       "      <td>0.132</td>\n",
       "      <td>104.988</td>\n",
       "      <td>217307</td>\n",
       "      <td>0.394</td>\n",
       "      <td>D</td>\n",
       "    </tr>\n",
       "    <tr>\n",
       "      <th>1554</th>\n",
       "      <td>1555</td>\n",
       "      <td>198</td>\n",
       "      <td>1</td>\n",
       "      <td>2019-12-27--2020-01-03</td>\n",
       "      <td>Surtada - Remix Brega Funk</td>\n",
       "      <td>4,607,385</td>\n",
       "      <td>Dadá Boladão, Tati Zaqui, OIK</td>\n",
       "      <td>208630</td>\n",
       "      <td>5F8ffc8KWKNawllr5WsW0r</td>\n",
       "      <td>['brega funk', 'funk carioca']</td>\n",
       "      <td>...</td>\n",
       "      <td>0.832</td>\n",
       "      <td>0.55</td>\n",
       "      <td>-7.026</td>\n",
       "      <td>0.0587</td>\n",
       "      <td>0.249</td>\n",
       "      <td>0.182</td>\n",
       "      <td>154.064</td>\n",
       "      <td>152784</td>\n",
       "      <td>0.881</td>\n",
       "      <td>F</td>\n",
       "    </tr>\n",
       "    <tr>\n",
       "      <th>1555</th>\n",
       "      <td>1556</td>\n",
       "      <td>199</td>\n",
       "      <td>1</td>\n",
       "      <td>2019-12-27--2020-01-03</td>\n",
       "      <td>Lover (Remix) [feat. Shawn Mendes]</td>\n",
       "      <td>4,595,450</td>\n",
       "      <td>Taylor Swift</td>\n",
       "      <td>42227614</td>\n",
       "      <td>3i9UVldZOE0aD0JnyfAZZ0</td>\n",
       "      <td>['pop', 'post-teen pop']</td>\n",
       "      <td>...</td>\n",
       "      <td>0.448</td>\n",
       "      <td>0.603</td>\n",
       "      <td>-7.176</td>\n",
       "      <td>0.064</td>\n",
       "      <td>0.433</td>\n",
       "      <td>0.0862</td>\n",
       "      <td>205.272</td>\n",
       "      <td>221307</td>\n",
       "      <td>0.422</td>\n",
       "      <td>G</td>\n",
       "    </tr>\n",
       "  </tbody>\n",
       "</table>\n",
       "<p>1556 rows × 23 columns</p>\n",
       "</div>"
      ],
      "text/plain": [
       "      Index  Highest Charting Position  Number of Times Charted  \\\n",
       "0         1                          1                        8   \n",
       "1         2                          2                        3   \n",
       "2         3                          1                       11   \n",
       "3         4                          3                        5   \n",
       "4         5                          5                        1   \n",
       "...     ...                        ...                      ...   \n",
       "1551   1552                        195                        1   \n",
       "1552   1553                        196                        1   \n",
       "1553   1554                        197                        1   \n",
       "1554   1555                        198                        1   \n",
       "1555   1556                        199                        1   \n",
       "\n",
       "     Week of Highest Charting                           Song Name     Streams  \\\n",
       "0      2021-07-23--2021-07-30                             Beggin'  48,633,449   \n",
       "1      2021-07-23--2021-07-30           STAY (with Justin Bieber)  47,248,719   \n",
       "2      2021-06-25--2021-07-02                            good 4 u  40,162,559   \n",
       "3      2021-07-02--2021-07-09                          Bad Habits  37,799,456   \n",
       "4      2021-07-23--2021-07-30   INDUSTRY BABY (feat. Jack Harlow)  33,948,454   \n",
       "...                       ...                                 ...         ...   \n",
       "1551   2019-12-27--2020-01-03                           New Rules   4,630,675   \n",
       "1552   2019-12-27--2020-01-03                  Cheirosa - Ao Vivo   4,623,030   \n",
       "1553   2019-12-27--2020-01-03           Havana (feat. Young Thug)   4,620,876   \n",
       "1554   2019-12-27--2020-01-03          Surtada - Remix Brega Funk   4,607,385   \n",
       "1555   2019-12-27--2020-01-03  Lover (Remix) [feat. Shawn Mendes]   4,595,450   \n",
       "\n",
       "                             Artist Artist Followers                 Song ID  \\\n",
       "0                          Måneskin          3377762  3Wrjm47oTz2sjIgck11l5e   \n",
       "1                     The Kid LAROI          2230022  5HCyWlXZPP0y6Gqq8TgA20   \n",
       "2                    Olivia Rodrigo          6266514  4ZtFanR9U6ndgddUvNcjcG   \n",
       "3                        Ed Sheeran         83293380  6PQ88X9TkUIAUIZJHW2upE   \n",
       "4                         Lil Nas X          5473565  27NovPIUIRrOZoCHxABJwK   \n",
       "...                             ...              ...                     ...   \n",
       "1551                       Dua Lipa         27167675  2ekn2ttSfGqwhhate0LSR0   \n",
       "1552                 Jorge & Mateus         15019109  2PWjKmjyTZeDpmOUa3a5da   \n",
       "1553                 Camila Cabello         22698747  1rfofaqEpACxVEHIZBJe6W   \n",
       "1554  Dadá Boladão, Tati Zaqui, OIK           208630  5F8ffc8KWKNawllr5WsW0r   \n",
       "1555                   Taylor Swift         42227614  3i9UVldZOE0aD0JnyfAZZ0   \n",
       "\n",
       "                                                  Genre  ... Danceability  \\\n",
       "0                ['indie rock italiano', 'italian pop']  ...        0.714   \n",
       "1                                ['australian hip hop']  ...        0.591   \n",
       "2                                               ['pop']  ...        0.563   \n",
       "3                                     ['pop', 'uk pop']  ...        0.808   \n",
       "4                         ['lgbtq+ hip hop', 'pop rap']  ...        0.736   \n",
       "...                                                 ...  ...          ...   \n",
       "1551                     ['dance pop', 'pop', 'uk pop']  ...        0.762   \n",
       "1552           ['sertanejo', 'sertanejo universitario']  ...        0.528   \n",
       "1553  ['dance pop', 'electropop', 'pop', 'post-teen ...  ...        0.765   \n",
       "1554                     ['brega funk', 'funk carioca']  ...        0.832   \n",
       "1555                           ['pop', 'post-teen pop']  ...        0.448   \n",
       "\n",
       "     Energy Loudness Speechiness Acousticness Liveness    Tempo Duration (ms)  \\\n",
       "0       0.8   -4.808      0.0504        0.127    0.359  134.002        211560   \n",
       "1     0.764   -5.484      0.0483       0.0383    0.103  169.928        141806   \n",
       "2     0.664   -5.044       0.154        0.335   0.0849  166.928        178147   \n",
       "3     0.897   -3.712      0.0348       0.0469    0.364  126.026        231041   \n",
       "4     0.704   -7.409      0.0615       0.0203   0.0501  149.995        212000   \n",
       "...     ...      ...         ...          ...      ...      ...           ...   \n",
       "1551    0.7   -6.021      0.0694      0.00261    0.153  116.073        209320   \n",
       "1552   0.87   -3.123      0.0851         0.24    0.333   152.37        181930   \n",
       "1553  0.523   -4.333        0.03        0.184    0.132  104.988        217307   \n",
       "1554   0.55   -7.026      0.0587        0.249    0.182  154.064        152784   \n",
       "1555  0.603   -7.176       0.064        0.433   0.0862  205.272        221307   \n",
       "\n",
       "     Valence  Chord  \n",
       "0      0.589      B  \n",
       "1      0.478  C#/Db  \n",
       "2      0.688      A  \n",
       "3      0.591      B  \n",
       "4      0.894  D#/Eb  \n",
       "...      ...    ...  \n",
       "1551   0.608      A  \n",
       "1552   0.714      B  \n",
       "1553   0.394      D  \n",
       "1554   0.881      F  \n",
       "1555   0.422      G  \n",
       "\n",
       "[1556 rows x 23 columns]"
      ]
     },
     "execution_count": 26,
     "metadata": {},
     "output_type": "execute_result"
    }
   ],
   "source": [
    "# more Pythonic\n",
    "df.applymap(lambda s: np.nan if s == \" \" else s)"
   ]
  },
  {
   "cell_type": "code",
   "execution_count": 28,
   "metadata": {
    "cell_id": "5b5779f6-585e-43d8-9b27-f1cb493e9f96",
    "deepnote_cell_type": "code",
    "deepnote_to_be_reexecuted": false,
    "execution_millis": 166,
    "execution_start": 1643214762984,
    "source_hash": "8d3a2204",
    "tags": []
   },
   "outputs": [
    {
     "data": {
      "application/vnd.deepnote.dataframe.v3+json": {
       "column_count": 23,
       "columns": [
        {
         "dtype": "int64",
         "name": "Index",
         "stats": {
          "histogram": [
           {
            "bin_end": 156.5,
            "bin_start": 1,
            "count": 156
           },
           {
            "bin_end": 312,
            "bin_start": 156.5,
            "count": 155
           },
           {
            "bin_end": 467.5,
            "bin_start": 312,
            "count": 156
           },
           {
            "bin_end": 623,
            "bin_start": 467.5,
            "count": 155
           },
           {
            "bin_end": 778.5,
            "bin_start": 623,
            "count": 156
           },
           {
            "bin_end": 934,
            "bin_start": 778.5,
            "count": 155
           },
           {
            "bin_end": 1089.5,
            "bin_start": 934,
            "count": 156
           },
           {
            "bin_end": 1245,
            "bin_start": 1089.5,
            "count": 155
           },
           {
            "bin_end": 1400.5,
            "bin_start": 1245,
            "count": 156
           },
           {
            "bin_end": 1556,
            "bin_start": 1400.5,
            "count": 156
           }
          ],
          "max": "1556",
          "min": "1",
          "nan_count": 0,
          "unique_count": 1556
         }
        },
        {
         "dtype": "int64",
         "name": "Highest Charting Position",
         "stats": {
          "histogram": [
           {
            "bin_end": 20.9,
            "bin_start": 1,
            "count": 241
           },
           {
            "bin_end": 40.8,
            "bin_start": 20.9,
            "count": 173
           },
           {
            "bin_end": 60.699999999999996,
            "bin_start": 40.8,
            "count": 181
           },
           {
            "bin_end": 80.6,
            "bin_start": 60.699999999999996,
            "count": 186
           },
           {
            "bin_end": 100.5,
            "bin_start": 80.6,
            "count": 141
           },
           {
            "bin_end": 120.39999999999999,
            "bin_start": 100.5,
            "count": 142
           },
           {
            "bin_end": 140.29999999999998,
            "bin_start": 120.39999999999999,
            "count": 140
           },
           {
            "bin_end": 160.2,
            "bin_start": 140.29999999999998,
            "count": 116
           },
           {
            "bin_end": 180.1,
            "bin_start": 160.2,
            "count": 110
           },
           {
            "bin_end": 200,
            "bin_start": 180.1,
            "count": 126
           }
          ],
          "max": "200",
          "min": "1",
          "nan_count": 0,
          "unique_count": 200
         }
        },
        {
         "dtype": "int64",
         "name": "Number of Times Charted",
         "stats": {
          "histogram": [
           {
            "bin_end": 15.1,
            "bin_start": 1,
            "count": 1228
           },
           {
            "bin_end": 29.2,
            "bin_start": 15.1,
            "count": 170
           },
           {
            "bin_end": 43.3,
            "bin_start": 29.2,
            "count": 75
           },
           {
            "bin_end": 57.4,
            "bin_start": 43.3,
            "count": 36
           },
           {
            "bin_end": 71.5,
            "bin_start": 57.4,
            "count": 14
           },
           {
            "bin_end": 85.6,
            "bin_start": 71.5,
            "count": 32
           },
           {
            "bin_end": 99.7,
            "bin_start": 85.6,
            "count": 0
           },
           {
            "bin_end": 113.8,
            "bin_start": 99.7,
            "count": 0
           },
           {
            "bin_end": 127.89999999999999,
            "bin_start": 113.8,
            "count": 0
           },
           {
            "bin_end": 142,
            "bin_start": 127.89999999999999,
            "count": 1
           }
          ],
          "max": "142",
          "min": "1",
          "nan_count": 0,
          "unique_count": 75
         }
        },
        {
         "dtype": "object",
         "name": "Week of Highest Charting",
         "stats": {
          "categories": [
           {
            "count": 89,
            "name": "2019-12-27--2020-01-03"
           },
           {
            "count": 68,
            "name": "2020-12-18--2020-12-25"
           },
           {
            "count": 1399,
            "name": "81 others"
           }
          ],
          "nan_count": 0,
          "unique_count": 83
         }
        },
        {
         "dtype": "object",
         "name": "Song Name",
         "stats": {
          "categories": [
           {
            "count": 1,
            "name": "Beggin'"
           },
           {
            "count": 1,
            "name": "STAY (with Justin Bieber)"
           },
           {
            "count": 1554,
            "name": "1554 others"
           }
          ],
          "nan_count": 0,
          "unique_count": 1556
         }
        },
        {
         "dtype": "object",
         "name": "Streams",
         "stats": {
          "categories": [
           {
            "count": 1,
            "name": "48,633,449"
           },
           {
            "count": 1,
            "name": "47,248,719"
           },
           {
            "count": 1554,
            "name": "1554 others"
           }
          ],
          "nan_count": 0,
          "unique_count": 1556
         }
        },
        {
         "dtype": "object",
         "name": "Artist",
         "stats": {
          "categories": [
           {
            "count": 52,
            "name": "Taylor Swift"
           },
           {
            "count": 32,
            "name": "Justin Bieber"
           },
           {
            "count": 1472,
            "name": "714 others"
           }
          ],
          "nan_count": 0,
          "unique_count": 716
         }
        },
        {
         "dtype": "object",
         "name": "Artist Followers",
         "stats": {
          "categories": [
           {
            "count": 52,
            "name": "42227614"
           },
           {
            "count": 1493,
            "name": "598 others"
           },
           {
            "count": 11,
            "name": "Missing"
           }
          ],
          "nan_count": 11,
          "unique_count": 599
         }
        },
        {
         "dtype": "object",
         "name": "Song ID",
         "stats": {
          "categories": [
           {
            "count": 3,
            "name": "5uEYRdEIh9Bo4fpjDd4Na9"
           },
           {
            "count": 1542,
            "name": "1515 others"
           },
           {
            "count": 11,
            "name": "Missing"
           }
          ],
          "nan_count": 11,
          "unique_count": 1516
         }
        },
        {
         "dtype": "object",
         "name": "Genre",
         "stats": {
          "categories": [
           {
            "count": 75,
            "name": "[]"
           },
           {
            "count": 1470,
            "name": "393 others"
           },
           {
            "count": 11,
            "name": "Missing"
           }
          ],
          "nan_count": 11,
          "unique_count": 394
         }
        },
        {
         "dtype": "object",
         "name": "Release Date",
         "stats": {
          "categories": [
           {
            "count": 34,
            "name": "2020-01-17"
           },
           {
            "count": 1511,
            "name": "476 others"
           },
           {
            "count": 11,
            "name": "Missing"
           }
          ],
          "nan_count": 11,
          "unique_count": 477
         }
        },
        {
         "dtype": "object",
         "name": "Weeks Charted",
         "stats": {
          "categories": [
           {
            "count": 32,
            "name": "2020-12-18--2020-12-25"
           },
           {
            "count": 24,
            "name": "2020-01-17--2020-01-24"
           },
           {
            "count": 1500,
            "name": "773 others"
           }
          ],
          "nan_count": 0,
          "unique_count": 775
         }
        },
        {
         "dtype": "object",
         "name": "Popularity",
         "stats": {
          "categories": [
           {
            "count": 67,
            "name": "75"
           },
           {
            "count": 1478,
            "name": "68 others"
           },
           {
            "count": 11,
            "name": "Missing"
           }
          ],
          "nan_count": 11,
          "unique_count": 69
         }
        },
        {
         "dtype": "object",
         "name": "Danceability",
         "stats": {
          "categories": [
           {
            "count": 10,
            "name": "0.762"
           },
           {
            "count": 1535,
            "name": "528 others"
           },
           {
            "count": 11,
            "name": "Missing"
           }
          ],
          "nan_count": 11,
          "unique_count": 529
         }
        },
        {
         "dtype": "object",
         "name": "Energy",
         "stats": {
          "categories": [
           {
            "count": 10,
            "name": "0.621"
           },
           {
            "count": 1535,
            "name": "573 others"
           },
           {
            "count": 11,
            "name": "Missing"
           }
          ],
          "nan_count": 11,
          "unique_count": 574
         }
        },
        {
         "dtype": "object",
         "name": "Loudness",
         "stats": {
          "categories": [
           {
            "count": 4,
            "name": "-5.382"
           },
           {
            "count": 1541,
            "name": "1392 others"
           },
           {
            "count": 11,
            "name": "Missing"
           }
          ],
          "nan_count": 11,
          "unique_count": 1393
         }
        },
        {
         "dtype": "object",
         "name": "Speechiness",
         "stats": {
          "categories": [
           {
            "count": 15,
            "name": "0.102"
           },
           {
            "count": 1530,
            "name": "770 others"
           },
           {
            "count": 11,
            "name": "Missing"
           }
          ],
          "nan_count": 11,
          "unique_count": 771
         }
        },
        {
         "dtype": "object",
         "name": "Acousticness",
         "stats": {
          "categories": [
           {
            "count": 10,
            "name": "0.114"
           },
           {
            "count": 1535,
            "name": "963 others"
           },
           {
            "count": 11,
            "name": "Missing"
           }
          ],
          "nan_count": 11,
          "unique_count": 964
         }
        },
        {
         "dtype": "object",
         "name": "Liveness",
         "stats": {
          "categories": [
           {
            "count": 23,
            "name": "0.103"
           },
           {
            "count": 1522,
            "name": "604 others"
           },
           {
            "count": 11,
            "name": "Missing"
           }
          ],
          "nan_count": 11,
          "unique_count": 605
         }
        },
        {
         "dtype": "object",
         "name": "Tempo",
         "stats": {
          "categories": [
           {
            "count": 3,
            "name": "93.005"
           },
           {
            "count": 1542,
            "name": "1459 others"
           },
           {
            "count": 11,
            "name": "Missing"
           }
          ],
          "nan_count": 11,
          "unique_count": 1460
         }
        },
        {
         "dtype": "object",
         "name": "Duration (ms)",
         "stats": {
          "categories": [
           {
            "count": 3,
            "name": "162803"
           },
           {
            "count": 1542,
            "name": "1484 others"
           },
           {
            "count": 11,
            "name": "Missing"
           }
          ],
          "nan_count": 11,
          "unique_count": 1485
         }
        },
        {
         "dtype": "object",
         "name": "Valence",
         "stats": {
          "categories": [
           {
            "count": 7,
            "name": "0.405"
           },
           {
            "count": 1538,
            "name": "730 others"
           },
           {
            "count": 11,
            "name": "Missing"
           }
          ],
          "nan_count": 11,
          "unique_count": 731
         }
        },
        {
         "dtype": "object",
         "name": "Chord",
         "stats": {
          "categories": [
           {
            "count": 214,
            "name": "C#/Db"
           },
           {
            "count": 1331,
            "name": "11 others"
           },
           {
            "count": 11,
            "name": "Missing"
           }
          ],
          "nan_count": 11,
          "unique_count": 12
         }
        },
        {
         "dtype": "int64",
         "name": "_deepnote_index_column"
        }
       ],
       "row_count": 1556,
       "rows": [
        {
         "Acousticness": "0.127",
         "Artist": "Måneskin",
         "Artist Followers": "3377762",
         "Chord": "B",
         "Danceability": "0.714",
         "Duration (ms)": "211560",
         "Energy": "0.8",
         "Genre": "['indie rock italiano', 'italian pop']",
         "Highest Charting Position": 1,
         "Index": 1,
         "Liveness": "0.359",
         "Loudness": "-4.808",
         "Number of Times Charted": 8,
         "Popularity": "100",
         "Release Date": "2017-12-08",
         "Song ID": "3Wrjm47oTz2sjIgck11l5e",
         "Song Name": "Beggin'",
         "Speechiness": "0.0504",
         "Streams": "48,633,449",
         "Tempo": "134.002",
         "Valence": "0.589",
         "Week of Highest Charting": "2021-07-23--2021-07-30",
         "Weeks Charted": "2021-07-23--2021-07-30\n2021-07-16--2021-07-23\n2021-07-09--2021-07-16\n2021-07-02--2021-07-09\n2021-06…",
         "_deepnote_index_column": 0
        },
        {
         "Acousticness": "0.0383",
         "Artist": "The Kid LAROI",
         "Artist Followers": "2230022",
         "Chord": "C#/Db",
         "Danceability": "0.591",
         "Duration (ms)": "141806",
         "Energy": "0.764",
         "Genre": "['australian hip hop']",
         "Highest Charting Position": 2,
         "Index": 2,
         "Liveness": "0.103",
         "Loudness": "-5.484",
         "Number of Times Charted": 3,
         "Popularity": "99",
         "Release Date": "2021-07-09",
         "Song ID": "5HCyWlXZPP0y6Gqq8TgA20",
         "Song Name": "STAY (with Justin Bieber)",
         "Speechiness": "0.0483",
         "Streams": "47,248,719",
         "Tempo": "169.928",
         "Valence": "0.478",
         "Week of Highest Charting": "2021-07-23--2021-07-30",
         "Weeks Charted": "2021-07-23--2021-07-30\n2021-07-16--2021-07-23\n2021-07-09--2021-07-16",
         "_deepnote_index_column": 1
        },
        {
         "Acousticness": "0.335",
         "Artist": "Olivia Rodrigo",
         "Artist Followers": "6266514",
         "Chord": "A",
         "Danceability": "0.563",
         "Duration (ms)": "178147",
         "Energy": "0.664",
         "Genre": "['pop']",
         "Highest Charting Position": 1,
         "Index": 3,
         "Liveness": "0.0849",
         "Loudness": "-5.044",
         "Number of Times Charted": 11,
         "Popularity": "99",
         "Release Date": "2021-05-21",
         "Song ID": "4ZtFanR9U6ndgddUvNcjcG",
         "Song Name": "good 4 u",
         "Speechiness": "0.154",
         "Streams": "40,162,559",
         "Tempo": "166.928",
         "Valence": "0.688",
         "Week of Highest Charting": "2021-06-25--2021-07-02",
         "Weeks Charted": "2021-07-23--2021-07-30\n2021-07-16--2021-07-23\n2021-07-09--2021-07-16\n2021-07-02--2021-07-09\n2021-06…",
         "_deepnote_index_column": 2
        },
        {
         "Acousticness": "0.0469",
         "Artist": "Ed Sheeran",
         "Artist Followers": "83293380",
         "Chord": "B",
         "Danceability": "0.808",
         "Duration (ms)": "231041",
         "Energy": "0.897",
         "Genre": "['pop', 'uk pop']",
         "Highest Charting Position": 3,
         "Index": 4,
         "Liveness": "0.364",
         "Loudness": "-3.712",
         "Number of Times Charted": 5,
         "Popularity": "98",
         "Release Date": "2021-06-25",
         "Song ID": "6PQ88X9TkUIAUIZJHW2upE",
         "Song Name": "Bad Habits",
         "Speechiness": "0.0348",
         "Streams": "37,799,456",
         "Tempo": "126.026",
         "Valence": "0.591",
         "Week of Highest Charting": "2021-07-02--2021-07-09",
         "Weeks Charted": "2021-07-23--2021-07-30\n2021-07-16--2021-07-23\n2021-07-09--2021-07-16\n2021-07-02--2021-07-09\n2021-06…",
         "_deepnote_index_column": 3
        },
        {
         "Acousticness": "0.0203",
         "Artist": "Lil Nas X",
         "Artist Followers": "5473565",
         "Chord": "D#/Eb",
         "Danceability": "0.736",
         "Duration (ms)": "212000",
         "Energy": "0.704",
         "Genre": "['lgbtq+ hip hop', 'pop rap']",
         "Highest Charting Position": 5,
         "Index": 5,
         "Liveness": "0.0501",
         "Loudness": "-7.409",
         "Number of Times Charted": 1,
         "Popularity": "96",
         "Release Date": "2021-07-23",
         "Song ID": "27NovPIUIRrOZoCHxABJwK",
         "Song Name": "INDUSTRY BABY (feat. Jack Harlow)",
         "Speechiness": "0.0615",
         "Streams": "33,948,454",
         "Tempo": "149.995",
         "Valence": "0.894",
         "Week of Highest Charting": "2021-07-23--2021-07-30",
         "Weeks Charted": "2021-07-23--2021-07-30",
         "_deepnote_index_column": 4
        },
        {
         "Acousticness": "0.297",
         "Artist": "Lil Nas X",
         "Artist Followers": "5473565",
         "Chord": "G#/Ab",
         "Danceability": "0.61",
         "Duration (ms)": "137876",
         "Energy": "0.508",
         "Genre": "['lgbtq+ hip hop', 'pop rap']",
         "Highest Charting Position": 1,
         "Index": 6,
         "Liveness": "0.384",
         "Loudness": "-6.682",
         "Number of Times Charted": 18,
         "Popularity": "97",
         "Release Date": "2021-03-31",
         "Song ID": "67BtfxlNbhBmCDR2L2l8qd",
         "Song Name": "MONTERO (Call Me By Your Name)",
         "Speechiness": "0.152",
         "Streams": "30,071,134",
         "Tempo": "178.818",
         "Valence": "0.758",
         "Week of Highest Charting": "2021-05-07--2021-05-14",
         "Weeks Charted": "2021-07-23--2021-07-30\n2021-07-16--2021-07-23\n2021-07-09--2021-07-16\n2021-07-02--2021-07-09\n2021-06…",
         "_deepnote_index_column": 5
        },
        {
         "Acousticness": "0.235",
         "Artist": "Doja Cat",
         "Artist Followers": "8640063",
         "Chord": "G#/Ab",
         "Danceability": "0.762",
         "Duration (ms)": "208867",
         "Energy": "0.701",
         "Genre": "['dance pop', 'pop']",
         "Highest Charting Position": 3,
         "Index": 7,
         "Liveness": "0.123",
         "Loudness": "-3.541",
         "Number of Times Charted": 16,
         "Popularity": "94",
         "Release Date": "2021-04-09",
         "Song ID": "748mdHapucXQri7IAO8yFK",
         "Song Name": "Kiss Me More (feat. SZA)",
         "Speechiness": "0.0286",
         "Streams": "29,356,736",
         "Tempo": "110.968",
         "Valence": "0.742",
         "Week of Highest Charting": "2021-05-14--2021-05-21",
         "Weeks Charted": "2021-07-23--2021-07-30\n2021-07-16--2021-07-23\n2021-07-09--2021-07-16\n2021-07-02--2021-07-09\n2021-06…",
         "_deepnote_index_column": 6
        },
        {
         "Acousticness": "0.31",
         "Artist": "Rauw Alejandro",
         "Artist Followers": "6080597",
         "Chord": "D#/Eb",
         "Danceability": "0.78",
         "Duration (ms)": "199604",
         "Energy": "0.718",
         "Genre": "['puerto rican pop', 'trap latino']",
         "Highest Charting Position": 2,
         "Index": 8,
         "Liveness": "0.0932",
         "Loudness": "-3.605",
         "Number of Times Charted": 10,
         "Popularity": "95",
         "Release Date": "2021-05-20",
         "Song ID": "4fSIb4hdOQ151TILNsSEaF",
         "Song Name": "Todo De Ti",
         "Speechiness": "0.0506",
         "Streams": "26,951,613",
         "Tempo": "127.949",
         "Valence": "0.342",
         "Week of Highest Charting": "2021-06-18--2021-06-25",
         "Weeks Charted": "2021-07-23--2021-07-30\n2021-07-16--2021-07-23\n2021-07-09--2021-07-16\n2021-07-02--2021-07-09\n2021-06…",
         "_deepnote_index_column": 7
        },
        {
         "Acousticness": "0.276",
         "Artist": "Bad Bunny",
         "Artist Followers": "36142273",
         "Chord": "C#/Db",
         "Danceability": "0.644",
         "Duration (ms)": "206710",
         "Energy": "0.648",
         "Genre": "['latin', 'reggaeton', 'trap latino']",
         "Highest Charting Position": 3,
         "Index": 9,
         "Liveness": "0.135",
         "Loudness": "-4.601",
         "Number of Times Charted": 8,
         "Popularity": "96",
         "Release Date": "2021-06-04",
         "Song ID": "2JPLbjOn0wPCngEot2STUS",
         "Song Name": "Yonaguni",
         "Speechiness": "0.118",
         "Streams": "25,030,128",
         "Tempo": "179.951",
         "Valence": "0.44",
         "Week of Highest Charting": "2021-06-18--2021-06-25",
         "Weeks Charted": "2021-07-23--2021-07-30\n2021-07-16--2021-07-23\n2021-07-09--2021-07-16\n2021-07-02--2021-07-09\n2021-06…",
         "_deepnote_index_column": 8
        },
        {
         "Acousticness": "0.00165",
         "Artist": "Måneskin",
         "Artist Followers": "3377762",
         "Chord": "C#/Db",
         "Danceability": "0.75",
         "Duration (ms)": "173347",
         "Energy": "0.608",
         "Genre": "['indie rock italiano', 'italian pop']",
         "Highest Charting Position": 8,
         "Index": 10,
         "Liveness": "0.178",
         "Loudness": "-4.008",
         "Number of Times Charted": 10,
         "Popularity": "95",
         "Release Date": "2021-03-19",
         "Song ID": "4pt5fDVTg5GhEvEtlz9dKk",
         "Song Name": "I WANNA BE YOUR SLAVE",
         "Speechiness": "0.0387",
         "Streams": "24,551,591",
         "Tempo": "132.507",
         "Valence": "0.958",
         "Week of Highest Charting": "2021-07-02--2021-07-09",
         "Weeks Charted": "2021-07-23--2021-07-30\n2021-07-16--2021-07-23\n2021-07-09--2021-07-16\n2021-07-02--2021-07-09\n2021-06…",
         "_deepnote_index_column": 9
        }
       ]
      },
      "text/html": [
       "<div>\n",
       "<style scoped>\n",
       "    .dataframe tbody tr th:only-of-type {\n",
       "        vertical-align: middle;\n",
       "    }\n",
       "\n",
       "    .dataframe tbody tr th {\n",
       "        vertical-align: top;\n",
       "    }\n",
       "\n",
       "    .dataframe thead th {\n",
       "        text-align: right;\n",
       "    }\n",
       "</style>\n",
       "<table border=\"1\" class=\"dataframe\">\n",
       "  <thead>\n",
       "    <tr style=\"text-align: right;\">\n",
       "      <th></th>\n",
       "      <th>Index</th>\n",
       "      <th>Highest Charting Position</th>\n",
       "      <th>Number of Times Charted</th>\n",
       "      <th>Week of Highest Charting</th>\n",
       "      <th>Song Name</th>\n",
       "      <th>Streams</th>\n",
       "      <th>Artist</th>\n",
       "      <th>Artist Followers</th>\n",
       "      <th>Song ID</th>\n",
       "      <th>Genre</th>\n",
       "      <th>...</th>\n",
       "      <th>Danceability</th>\n",
       "      <th>Energy</th>\n",
       "      <th>Loudness</th>\n",
       "      <th>Speechiness</th>\n",
       "      <th>Acousticness</th>\n",
       "      <th>Liveness</th>\n",
       "      <th>Tempo</th>\n",
       "      <th>Duration (ms)</th>\n",
       "      <th>Valence</th>\n",
       "      <th>Chord</th>\n",
       "    </tr>\n",
       "  </thead>\n",
       "  <tbody>\n",
       "    <tr>\n",
       "      <th>0</th>\n",
       "      <td>1</td>\n",
       "      <td>1</td>\n",
       "      <td>8</td>\n",
       "      <td>2021-07-23--2021-07-30</td>\n",
       "      <td>Beggin'</td>\n",
       "      <td>48,633,449</td>\n",
       "      <td>Måneskin</td>\n",
       "      <td>3377762</td>\n",
       "      <td>3Wrjm47oTz2sjIgck11l5e</td>\n",
       "      <td>['indie rock italiano', 'italian pop']</td>\n",
       "      <td>...</td>\n",
       "      <td>0.714</td>\n",
       "      <td>0.8</td>\n",
       "      <td>-4.808</td>\n",
       "      <td>0.0504</td>\n",
       "      <td>0.127</td>\n",
       "      <td>0.359</td>\n",
       "      <td>134.002</td>\n",
       "      <td>211560</td>\n",
       "      <td>0.589</td>\n",
       "      <td>B</td>\n",
       "    </tr>\n",
       "    <tr>\n",
       "      <th>1</th>\n",
       "      <td>2</td>\n",
       "      <td>2</td>\n",
       "      <td>3</td>\n",
       "      <td>2021-07-23--2021-07-30</td>\n",
       "      <td>STAY (with Justin Bieber)</td>\n",
       "      <td>47,248,719</td>\n",
       "      <td>The Kid LAROI</td>\n",
       "      <td>2230022</td>\n",
       "      <td>5HCyWlXZPP0y6Gqq8TgA20</td>\n",
       "      <td>['australian hip hop']</td>\n",
       "      <td>...</td>\n",
       "      <td>0.591</td>\n",
       "      <td>0.764</td>\n",
       "      <td>-5.484</td>\n",
       "      <td>0.0483</td>\n",
       "      <td>0.0383</td>\n",
       "      <td>0.103</td>\n",
       "      <td>169.928</td>\n",
       "      <td>141806</td>\n",
       "      <td>0.478</td>\n",
       "      <td>C#/Db</td>\n",
       "    </tr>\n",
       "    <tr>\n",
       "      <th>2</th>\n",
       "      <td>3</td>\n",
       "      <td>1</td>\n",
       "      <td>11</td>\n",
       "      <td>2021-06-25--2021-07-02</td>\n",
       "      <td>good 4 u</td>\n",
       "      <td>40,162,559</td>\n",
       "      <td>Olivia Rodrigo</td>\n",
       "      <td>6266514</td>\n",
       "      <td>4ZtFanR9U6ndgddUvNcjcG</td>\n",
       "      <td>['pop']</td>\n",
       "      <td>...</td>\n",
       "      <td>0.563</td>\n",
       "      <td>0.664</td>\n",
       "      <td>-5.044</td>\n",
       "      <td>0.154</td>\n",
       "      <td>0.335</td>\n",
       "      <td>0.0849</td>\n",
       "      <td>166.928</td>\n",
       "      <td>178147</td>\n",
       "      <td>0.688</td>\n",
       "      <td>A</td>\n",
       "    </tr>\n",
       "    <tr>\n",
       "      <th>3</th>\n",
       "      <td>4</td>\n",
       "      <td>3</td>\n",
       "      <td>5</td>\n",
       "      <td>2021-07-02--2021-07-09</td>\n",
       "      <td>Bad Habits</td>\n",
       "      <td>37,799,456</td>\n",
       "      <td>Ed Sheeran</td>\n",
       "      <td>83293380</td>\n",
       "      <td>6PQ88X9TkUIAUIZJHW2upE</td>\n",
       "      <td>['pop', 'uk pop']</td>\n",
       "      <td>...</td>\n",
       "      <td>0.808</td>\n",
       "      <td>0.897</td>\n",
       "      <td>-3.712</td>\n",
       "      <td>0.0348</td>\n",
       "      <td>0.0469</td>\n",
       "      <td>0.364</td>\n",
       "      <td>126.026</td>\n",
       "      <td>231041</td>\n",
       "      <td>0.591</td>\n",
       "      <td>B</td>\n",
       "    </tr>\n",
       "    <tr>\n",
       "      <th>4</th>\n",
       "      <td>5</td>\n",
       "      <td>5</td>\n",
       "      <td>1</td>\n",
       "      <td>2021-07-23--2021-07-30</td>\n",
       "      <td>INDUSTRY BABY (feat. Jack Harlow)</td>\n",
       "      <td>33,948,454</td>\n",
       "      <td>Lil Nas X</td>\n",
       "      <td>5473565</td>\n",
       "      <td>27NovPIUIRrOZoCHxABJwK</td>\n",
       "      <td>['lgbtq+ hip hop', 'pop rap']</td>\n",
       "      <td>...</td>\n",
       "      <td>0.736</td>\n",
       "      <td>0.704</td>\n",
       "      <td>-7.409</td>\n",
       "      <td>0.0615</td>\n",
       "      <td>0.0203</td>\n",
       "      <td>0.0501</td>\n",
       "      <td>149.995</td>\n",
       "      <td>212000</td>\n",
       "      <td>0.894</td>\n",
       "      <td>D#/Eb</td>\n",
       "    </tr>\n",
       "    <tr>\n",
       "      <th>...</th>\n",
       "      <td>...</td>\n",
       "      <td>...</td>\n",
       "      <td>...</td>\n",
       "      <td>...</td>\n",
       "      <td>...</td>\n",
       "      <td>...</td>\n",
       "      <td>...</td>\n",
       "      <td>...</td>\n",
       "      <td>...</td>\n",
       "      <td>...</td>\n",
       "      <td>...</td>\n",
       "      <td>...</td>\n",
       "      <td>...</td>\n",
       "      <td>...</td>\n",
       "      <td>...</td>\n",
       "      <td>...</td>\n",
       "      <td>...</td>\n",
       "      <td>...</td>\n",
       "      <td>...</td>\n",
       "      <td>...</td>\n",
       "      <td>...</td>\n",
       "    </tr>\n",
       "    <tr>\n",
       "      <th>1551</th>\n",
       "      <td>1552</td>\n",
       "      <td>195</td>\n",
       "      <td>1</td>\n",
       "      <td>2019-12-27--2020-01-03</td>\n",
       "      <td>New Rules</td>\n",
       "      <td>4,630,675</td>\n",
       "      <td>Dua Lipa</td>\n",
       "      <td>27167675</td>\n",
       "      <td>2ekn2ttSfGqwhhate0LSR0</td>\n",
       "      <td>['dance pop', 'pop', 'uk pop']</td>\n",
       "      <td>...</td>\n",
       "      <td>0.762</td>\n",
       "      <td>0.7</td>\n",
       "      <td>-6.021</td>\n",
       "      <td>0.0694</td>\n",
       "      <td>0.00261</td>\n",
       "      <td>0.153</td>\n",
       "      <td>116.073</td>\n",
       "      <td>209320</td>\n",
       "      <td>0.608</td>\n",
       "      <td>A</td>\n",
       "    </tr>\n",
       "    <tr>\n",
       "      <th>1552</th>\n",
       "      <td>1553</td>\n",
       "      <td>196</td>\n",
       "      <td>1</td>\n",
       "      <td>2019-12-27--2020-01-03</td>\n",
       "      <td>Cheirosa - Ao Vivo</td>\n",
       "      <td>4,623,030</td>\n",
       "      <td>Jorge &amp; Mateus</td>\n",
       "      <td>15019109</td>\n",
       "      <td>2PWjKmjyTZeDpmOUa3a5da</td>\n",
       "      <td>['sertanejo', 'sertanejo universitario']</td>\n",
       "      <td>...</td>\n",
       "      <td>0.528</td>\n",
       "      <td>0.87</td>\n",
       "      <td>-3.123</td>\n",
       "      <td>0.0851</td>\n",
       "      <td>0.24</td>\n",
       "      <td>0.333</td>\n",
       "      <td>152.37</td>\n",
       "      <td>181930</td>\n",
       "      <td>0.714</td>\n",
       "      <td>B</td>\n",
       "    </tr>\n",
       "    <tr>\n",
       "      <th>1553</th>\n",
       "      <td>1554</td>\n",
       "      <td>197</td>\n",
       "      <td>1</td>\n",
       "      <td>2019-12-27--2020-01-03</td>\n",
       "      <td>Havana (feat. Young Thug)</td>\n",
       "      <td>4,620,876</td>\n",
       "      <td>Camila Cabello</td>\n",
       "      <td>22698747</td>\n",
       "      <td>1rfofaqEpACxVEHIZBJe6W</td>\n",
       "      <td>['dance pop', 'electropop', 'pop', 'post-teen ...</td>\n",
       "      <td>...</td>\n",
       "      <td>0.765</td>\n",
       "      <td>0.523</td>\n",
       "      <td>-4.333</td>\n",
       "      <td>0.03</td>\n",
       "      <td>0.184</td>\n",
       "      <td>0.132</td>\n",
       "      <td>104.988</td>\n",
       "      <td>217307</td>\n",
       "      <td>0.394</td>\n",
       "      <td>D</td>\n",
       "    </tr>\n",
       "    <tr>\n",
       "      <th>1554</th>\n",
       "      <td>1555</td>\n",
       "      <td>198</td>\n",
       "      <td>1</td>\n",
       "      <td>2019-12-27--2020-01-03</td>\n",
       "      <td>Surtada - Remix Brega Funk</td>\n",
       "      <td>4,607,385</td>\n",
       "      <td>Dadá Boladão, Tati Zaqui, OIK</td>\n",
       "      <td>208630</td>\n",
       "      <td>5F8ffc8KWKNawllr5WsW0r</td>\n",
       "      <td>['brega funk', 'funk carioca']</td>\n",
       "      <td>...</td>\n",
       "      <td>0.832</td>\n",
       "      <td>0.55</td>\n",
       "      <td>-7.026</td>\n",
       "      <td>0.0587</td>\n",
       "      <td>0.249</td>\n",
       "      <td>0.182</td>\n",
       "      <td>154.064</td>\n",
       "      <td>152784</td>\n",
       "      <td>0.881</td>\n",
       "      <td>F</td>\n",
       "    </tr>\n",
       "    <tr>\n",
       "      <th>1555</th>\n",
       "      <td>1556</td>\n",
       "      <td>199</td>\n",
       "      <td>1</td>\n",
       "      <td>2019-12-27--2020-01-03</td>\n",
       "      <td>Lover (Remix) [feat. Shawn Mendes]</td>\n",
       "      <td>4,595,450</td>\n",
       "      <td>Taylor Swift</td>\n",
       "      <td>42227614</td>\n",
       "      <td>3i9UVldZOE0aD0JnyfAZZ0</td>\n",
       "      <td>['pop', 'post-teen pop']</td>\n",
       "      <td>...</td>\n",
       "      <td>0.448</td>\n",
       "      <td>0.603</td>\n",
       "      <td>-7.176</td>\n",
       "      <td>0.064</td>\n",
       "      <td>0.433</td>\n",
       "      <td>0.0862</td>\n",
       "      <td>205.272</td>\n",
       "      <td>221307</td>\n",
       "      <td>0.422</td>\n",
       "      <td>G</td>\n",
       "    </tr>\n",
       "  </tbody>\n",
       "</table>\n",
       "<p>1556 rows × 23 columns</p>\n",
       "</div>"
      ],
      "text/plain": [
       "      Index  Highest Charting Position  Number of Times Charted  \\\n",
       "0         1                          1                        8   \n",
       "1         2                          2                        3   \n",
       "2         3                          1                       11   \n",
       "3         4                          3                        5   \n",
       "4         5                          5                        1   \n",
       "...     ...                        ...                      ...   \n",
       "1551   1552                        195                        1   \n",
       "1552   1553                        196                        1   \n",
       "1553   1554                        197                        1   \n",
       "1554   1555                        198                        1   \n",
       "1555   1556                        199                        1   \n",
       "\n",
       "     Week of Highest Charting                           Song Name     Streams  \\\n",
       "0      2021-07-23--2021-07-30                             Beggin'  48,633,449   \n",
       "1      2021-07-23--2021-07-30           STAY (with Justin Bieber)  47,248,719   \n",
       "2      2021-06-25--2021-07-02                            good 4 u  40,162,559   \n",
       "3      2021-07-02--2021-07-09                          Bad Habits  37,799,456   \n",
       "4      2021-07-23--2021-07-30   INDUSTRY BABY (feat. Jack Harlow)  33,948,454   \n",
       "...                       ...                                 ...         ...   \n",
       "1551   2019-12-27--2020-01-03                           New Rules   4,630,675   \n",
       "1552   2019-12-27--2020-01-03                  Cheirosa - Ao Vivo   4,623,030   \n",
       "1553   2019-12-27--2020-01-03           Havana (feat. Young Thug)   4,620,876   \n",
       "1554   2019-12-27--2020-01-03          Surtada - Remix Brega Funk   4,607,385   \n",
       "1555   2019-12-27--2020-01-03  Lover (Remix) [feat. Shawn Mendes]   4,595,450   \n",
       "\n",
       "                             Artist Artist Followers                 Song ID  \\\n",
       "0                          Måneskin          3377762  3Wrjm47oTz2sjIgck11l5e   \n",
       "1                     The Kid LAROI          2230022  5HCyWlXZPP0y6Gqq8TgA20   \n",
       "2                    Olivia Rodrigo          6266514  4ZtFanR9U6ndgddUvNcjcG   \n",
       "3                        Ed Sheeran         83293380  6PQ88X9TkUIAUIZJHW2upE   \n",
       "4                         Lil Nas X          5473565  27NovPIUIRrOZoCHxABJwK   \n",
       "...                             ...              ...                     ...   \n",
       "1551                       Dua Lipa         27167675  2ekn2ttSfGqwhhate0LSR0   \n",
       "1552                 Jorge & Mateus         15019109  2PWjKmjyTZeDpmOUa3a5da   \n",
       "1553                 Camila Cabello         22698747  1rfofaqEpACxVEHIZBJe6W   \n",
       "1554  Dadá Boladão, Tati Zaqui, OIK           208630  5F8ffc8KWKNawllr5WsW0r   \n",
       "1555                   Taylor Swift         42227614  3i9UVldZOE0aD0JnyfAZZ0   \n",
       "\n",
       "                                                  Genre  ... Danceability  \\\n",
       "0                ['indie rock italiano', 'italian pop']  ...        0.714   \n",
       "1                                ['australian hip hop']  ...        0.591   \n",
       "2                                               ['pop']  ...        0.563   \n",
       "3                                     ['pop', 'uk pop']  ...        0.808   \n",
       "4                         ['lgbtq+ hip hop', 'pop rap']  ...        0.736   \n",
       "...                                                 ...  ...          ...   \n",
       "1551                     ['dance pop', 'pop', 'uk pop']  ...        0.762   \n",
       "1552           ['sertanejo', 'sertanejo universitario']  ...        0.528   \n",
       "1553  ['dance pop', 'electropop', 'pop', 'post-teen ...  ...        0.765   \n",
       "1554                     ['brega funk', 'funk carioca']  ...        0.832   \n",
       "1555                           ['pop', 'post-teen pop']  ...        0.448   \n",
       "\n",
       "     Energy Loudness Speechiness Acousticness Liveness    Tempo Duration (ms)  \\\n",
       "0       0.8   -4.808      0.0504        0.127    0.359  134.002        211560   \n",
       "1     0.764   -5.484      0.0483       0.0383    0.103  169.928        141806   \n",
       "2     0.664   -5.044       0.154        0.335   0.0849  166.928        178147   \n",
       "3     0.897   -3.712      0.0348       0.0469    0.364  126.026        231041   \n",
       "4     0.704   -7.409      0.0615       0.0203   0.0501  149.995        212000   \n",
       "...     ...      ...         ...          ...      ...      ...           ...   \n",
       "1551    0.7   -6.021      0.0694      0.00261    0.153  116.073        209320   \n",
       "1552   0.87   -3.123      0.0851         0.24    0.333   152.37        181930   \n",
       "1553  0.523   -4.333        0.03        0.184    0.132  104.988        217307   \n",
       "1554   0.55   -7.026      0.0587        0.249    0.182  154.064        152784   \n",
       "1555  0.603   -7.176       0.064        0.433   0.0862  205.272        221307   \n",
       "\n",
       "     Valence  Chord  \n",
       "0      0.589      B  \n",
       "1      0.478  C#/Db  \n",
       "2      0.688      A  \n",
       "3      0.591      B  \n",
       "4      0.894  D#/Eb  \n",
       "...      ...    ...  \n",
       "1551   0.608      A  \n",
       "1552   0.714      B  \n",
       "1553   0.394      D  \n",
       "1554   0.881      F  \n",
       "1555   0.422      G  \n",
       "\n",
       "[1556 rows x 23 columns]"
      ]
     },
     "execution_count": 28,
     "metadata": {},
     "output_type": "execute_result"
    }
   ],
   "source": [
    "df.applymap(lambda s: s if s != \" \" else np.nan)"
   ]
  },
  {
   "cell_type": "code",
   "execution_count": 31,
   "metadata": {
    "cell_id": "7ca5bc4f-9d5a-43cd-bd40-60c44ef7dd89",
    "deepnote_cell_type": "code",
    "deepnote_to_be_reexecuted": false,
    "execution_millis": 18,
    "execution_start": 1643214814582,
    "source_hash": "6d6b238a",
    "tags": []
   },
   "outputs": [],
   "source": [
    "# more Pythonic\n",
    "df = df.applymap(lambda s: np.nan if s == \" \" else s)"
   ]
  },
  {
   "cell_type": "code",
   "execution_count": 32,
   "metadata": {
    "cell_id": "1cab86a1-dfe9-4999-96a8-7ff4c35665a4",
    "deepnote_cell_type": "code",
    "deepnote_output_heights": [
     232.4375
    ],
    "deepnote_to_be_reexecuted": false,
    "execution_millis": 5,
    "execution_start": 1643214816857,
    "source_hash": "8184f523",
    "tags": []
   },
   "outputs": [
    {
     "data": {
      "text/plain": [
       "0       0.800\n",
       "1       0.764\n",
       "2       0.664\n",
       "3       0.897\n",
       "4       0.704\n",
       "        ...  \n",
       "1551    0.700\n",
       "1552    0.870\n",
       "1553    0.523\n",
       "1554    0.550\n",
       "1555    0.603\n",
       "Name: Energy, Length: 1556, dtype: float64"
      ]
     },
     "execution_count": 32,
     "metadata": {},
     "output_type": "execute_result"
    }
   ],
   "source": [
    "pd.to_numeric(df.Energy)"
   ]
  },
  {
   "cell_type": "code",
   "execution_count": 33,
   "metadata": {
    "cell_id": "efb41c41-8e87-40bc-925b-6abf365953dc",
    "deepnote_cell_type": "code",
    "deepnote_output_heights": [
     462.890625
    ],
    "deepnote_to_be_reexecuted": false,
    "execution_millis": 5,
    "execution_start": 1643214995743,
    "source_hash": "52430027",
    "tags": []
   },
   "outputs": [
    {
     "data": {
      "text/plain": [
       "Index                         int64\n",
       "Highest Charting Position     int64\n",
       "Number of Times Charted       int64\n",
       "Week of Highest Charting     object\n",
       "Song Name                    object\n",
       "Streams                      object\n",
       "Artist                       object\n",
       "Artist Followers             object\n",
       "Song ID                      object\n",
       "Genre                        object\n",
       "Release Date                 object\n",
       "Weeks Charted                object\n",
       "Popularity                   object\n",
       "Danceability                 object\n",
       "Energy                       object\n",
       "Loudness                     object\n",
       "Speechiness                  object\n",
       "Acousticness                 object\n",
       "Liveness                     object\n",
       "Tempo                        object\n",
       "Duration (ms)                object\n",
       "Valence                      object\n",
       "Chord                        object\n",
       "dtype: object"
      ]
     },
     "execution_count": 33,
     "metadata": {},
     "output_type": "execute_result"
    }
   ],
   "source": [
    "df.dtypes"
   ]
  },
  {
   "cell_type": "code",
   "execution_count": 37,
   "metadata": {
    "cell_id": "c9a11cc0-7ac9-4a8d-be06-03f8c7ef4a46",
    "deepnote_cell_type": "code",
    "deepnote_to_be_reexecuted": false,
    "execution_millis": 2,
    "execution_start": 1643215290880,
    "source_hash": "53db0c2f",
    "tags": []
   },
   "outputs": [],
   "source": [
    "# How can we get the columns from Popularity to Valence (inclusive)?\n",
    "df_sub = df.loc[:,\"Popularity\":\"Valence\"]"
   ]
  },
  {
   "cell_type": "code",
   "execution_count": 42,
   "metadata": {
    "cell_id": "b495f766-7415-488d-b1e0-e71b2ad362e7",
    "deepnote_cell_type": "code",
    "deepnote_to_be_reexecuted": false,
    "execution_millis": 2,
    "execution_start": 1643215610634,
    "source_hash": "8e1f2910",
    "tags": []
   },
   "outputs": [],
   "source": [
    "# applymap: its input is a single entry\n",
    "# apply: its input is an entire row or an entire column\n",
    "df_sub = df_sub.apply(pd.to_numeric,axis=0)"
   ]
  },
  {
   "cell_type": "code",
   "execution_count": 44,
   "metadata": {
    "cell_id": "82480ac7-67a5-48d6-bf67-91434dd1e678",
    "deepnote_cell_type": "code",
    "deepnote_output_heights": [
     213.234375
    ],
    "deepnote_to_be_reexecuted": false,
    "execution_millis": 16,
    "execution_start": 1643215620559,
    "source_hash": "90e4dffc",
    "tags": []
   },
   "outputs": [
    {
     "data": {
      "text/plain": [
       "Popularity       float64\n",
       "Danceability     float64\n",
       "Energy           float64\n",
       "Loudness         float64\n",
       "Speechiness      float64\n",
       "Acousticness     float64\n",
       "Liveness         float64\n",
       "Tempo            float64\n",
       "Duration (ms)    float64\n",
       "Valence          float64\n",
       "dtype: object"
      ]
     },
     "execution_count": 44,
     "metadata": {},
     "output_type": "execute_result"
    }
   ],
   "source": [
    "df_sub.dtypes"
   ]
  },
  {
   "cell_type": "code",
   "execution_count": 46,
   "metadata": {
    "cell_id": "e83a3354-fe05-4ccc-8e11-f62eff2b320b",
    "deepnote_cell_type": "code",
    "deepnote_to_be_reexecuted": false,
    "execution_millis": 10,
    "execution_start": 1643215680712,
    "source_hash": "1d17f394",
    "tags": []
   },
   "outputs": [],
   "source": [
    "df.loc[:,\"Popularity\":\"Valence\"] = df_sub"
   ]
  },
  {
   "cell_type": "code",
   "execution_count": 47,
   "metadata": {
    "cell_id": "4c5c52c4-ad0f-4775-970a-4f32036900a1",
    "deepnote_cell_type": "code",
    "deepnote_output_heights": [
     462.890625
    ],
    "deepnote_to_be_reexecuted": false,
    "execution_millis": 14,
    "execution_start": 1643215685164,
    "source_hash": "52430027",
    "tags": []
   },
   "outputs": [
    {
     "data": {
      "text/plain": [
       "Index                          int64\n",
       "Highest Charting Position      int64\n",
       "Number of Times Charted        int64\n",
       "Week of Highest Charting      object\n",
       "Song Name                     object\n",
       "Streams                       object\n",
       "Artist                        object\n",
       "Artist Followers              object\n",
       "Song ID                       object\n",
       "Genre                         object\n",
       "Release Date                  object\n",
       "Weeks Charted                 object\n",
       "Popularity                   float64\n",
       "Danceability                 float64\n",
       "Energy                       float64\n",
       "Loudness                     float64\n",
       "Speechiness                  float64\n",
       "Acousticness                 float64\n",
       "Liveness                     float64\n",
       "Tempo                        float64\n",
       "Duration (ms)                float64\n",
       "Valence                      float64\n",
       "Chord                         object\n",
       "dtype: object"
      ]
     },
     "execution_count": 47,
     "metadata": {},
     "output_type": "execute_result"
    }
   ],
   "source": [
    "df.dtypes"
   ]
  },
  {
   "cell_type": "code",
   "execution_count": 49,
   "metadata": {
    "cell_id": "7251d982-0bc4-4703-9a47-f943e0359310",
    "deepnote_cell_type": "code",
    "deepnote_output_heights": [
     232.4375
    ],
    "deepnote_to_be_reexecuted": false,
    "execution_millis": 80,
    "execution_start": 1643215740266,
    "source_hash": "799f1fc8",
    "tags": []
   },
   "outputs": [
    {
     "ename": "ValueError",
     "evalue": "Unable to parse string \"48,633,449\" at position 0",
     "output_type": "error",
     "traceback": [
      "\u001b[0;31m---------------------------------------------------------------------------\u001b[0m",
      "\u001b[0;31mValueError\u001b[0m                                Traceback (most recent call last)",
      "\u001b[0;32mpandas/_libs/lib.pyx\u001b[0m in \u001b[0;36mpandas._libs.lib.maybe_convert_numeric\u001b[0;34m()\u001b[0m\n",
      "\u001b[0;31mValueError\u001b[0m: Unable to parse string \"48,633,449\"",
      "\nDuring handling of the above exception, another exception occurred:\n",
      "\u001b[0;31mValueError\u001b[0m                                Traceback (most recent call last)",
      "\u001b[0;32m<ipython-input-49-bb2f2c10b895>\u001b[0m in \u001b[0;36m<module>\u001b[0;34m\u001b[0m\n\u001b[0;32m----> 1\u001b[0;31m \u001b[0mpd\u001b[0m\u001b[0;34m.\u001b[0m\u001b[0mto_numeric\u001b[0m\u001b[0;34m(\u001b[0m\u001b[0mdf\u001b[0m\u001b[0;34m.\u001b[0m\u001b[0mStreams\u001b[0m\u001b[0;34m)\u001b[0m\u001b[0;34m\u001b[0m\u001b[0;34m\u001b[0m\u001b[0m\n\u001b[0m",
      "\u001b[0;32m/shared-libs/python3.7/py/lib/python3.7/site-packages/pandas/core/tools/numeric.py\u001b[0m in \u001b[0;36mto_numeric\u001b[0;34m(arg, errors, downcast)\u001b[0m\n\u001b[1;32m    153\u001b[0m         \u001b[0;32mtry\u001b[0m\u001b[0;34m:\u001b[0m\u001b[0;34m\u001b[0m\u001b[0;34m\u001b[0m\u001b[0m\n\u001b[1;32m    154\u001b[0m             values = lib.maybe_convert_numeric(\n\u001b[0;32m--> 155\u001b[0;31m                 \u001b[0mvalues\u001b[0m\u001b[0;34m,\u001b[0m \u001b[0mset\u001b[0m\u001b[0;34m(\u001b[0m\u001b[0;34m)\u001b[0m\u001b[0;34m,\u001b[0m \u001b[0mcoerce_numeric\u001b[0m\u001b[0;34m=\u001b[0m\u001b[0mcoerce_numeric\u001b[0m\u001b[0;34m\u001b[0m\u001b[0;34m\u001b[0m\u001b[0m\n\u001b[0m\u001b[1;32m    156\u001b[0m             )\n\u001b[1;32m    157\u001b[0m         \u001b[0;32mexcept\u001b[0m \u001b[0;34m(\u001b[0m\u001b[0mValueError\u001b[0m\u001b[0;34m,\u001b[0m \u001b[0mTypeError\u001b[0m\u001b[0;34m)\u001b[0m\u001b[0;34m:\u001b[0m\u001b[0;34m\u001b[0m\u001b[0;34m\u001b[0m\u001b[0m\n",
      "\u001b[0;32mpandas/_libs/lib.pyx\u001b[0m in \u001b[0;36mpandas._libs.lib.maybe_convert_numeric\u001b[0;34m()\u001b[0m\n",
      "\u001b[0;31mValueError\u001b[0m: Unable to parse string \"48,633,449\" at position 0"
     ]
    }
   ],
   "source": [
    "pd.to_numeric(df.Streams)"
   ]
  },
  {
   "cell_type": "code",
   "execution_count": 51,
   "metadata": {
    "cell_id": "0d8338d6-76ee-4f43-8743-d01f125d3ef9",
    "deepnote_cell_type": "code",
    "deepnote_output_heights": [
     232.4375
    ],
    "deepnote_to_be_reexecuted": false,
    "execution_millis": 10,
    "execution_start": 1643215794549,
    "source_hash": "63155eec",
    "tags": []
   },
   "outputs": [
    {
     "data": {
      "text/plain": [
       "0       48633449\n",
       "1       47248719\n",
       "2       40162559\n",
       "3       37799456\n",
       "4       33948454\n",
       "          ...   \n",
       "1551     4630675\n",
       "1552     4623030\n",
       "1553     4620876\n",
       "1554     4607385\n",
       "1555     4595450\n",
       "Name: Streams, Length: 1556, dtype: int64"
      ]
     },
     "execution_count": 51,
     "metadata": {},
     "output_type": "execute_result"
    }
   ],
   "source": [
    "pd.to_numeric(df.Streams.map(lambda s: s.replace(\",\",\"\")))"
   ]
  },
  {
   "cell_type": "code",
   "execution_count": 52,
   "metadata": {
    "cell_id": "1da5d3c5-a472-4360-ab5e-cba5ed88c191",
    "deepnote_cell_type": "code",
    "deepnote_to_be_reexecuted": false,
    "execution_millis": 70,
    "execution_start": 1643215826779,
    "source_hash": "c085b6ba",
    "tags": []
   },
   "outputs": [
    {
     "data": {
      "application/vnd.deepnote.dataframe.v3+json": {
       "column_count": 23,
       "columns": [
        {
         "dtype": "int64",
         "name": "Index",
         "stats": {
          "histogram": [
           {
            "bin_end": 1.4,
            "bin_start": 1,
            "count": 1
           },
           {
            "bin_end": 1.8,
            "bin_start": 1.4,
            "count": 0
           },
           {
            "bin_end": 2.2,
            "bin_start": 1.8,
            "count": 1
           },
           {
            "bin_end": 2.6,
            "bin_start": 2.2,
            "count": 0
           },
           {
            "bin_end": 3,
            "bin_start": 2.6,
            "count": 0
           },
           {
            "bin_end": 3.4000000000000004,
            "bin_start": 3,
            "count": 1
           },
           {
            "bin_end": 3.8000000000000003,
            "bin_start": 3.4000000000000004,
            "count": 0
           },
           {
            "bin_end": 4.2,
            "bin_start": 3.8000000000000003,
            "count": 1
           },
           {
            "bin_end": 4.6,
            "bin_start": 4.2,
            "count": 0
           },
           {
            "bin_end": 5,
            "bin_start": 4.6,
            "count": 1
           }
          ],
          "max": "5",
          "min": "1",
          "nan_count": 0,
          "unique_count": 5
         }
        },
        {
         "dtype": "int64",
         "name": "Highest Charting Position",
         "stats": {
          "histogram": [
           {
            "bin_end": 1.4,
            "bin_start": 1,
            "count": 2
           },
           {
            "bin_end": 1.8,
            "bin_start": 1.4,
            "count": 0
           },
           {
            "bin_end": 2.2,
            "bin_start": 1.8,
            "count": 1
           },
           {
            "bin_end": 2.6,
            "bin_start": 2.2,
            "count": 0
           },
           {
            "bin_end": 3,
            "bin_start": 2.6,
            "count": 0
           },
           {
            "bin_end": 3.4000000000000004,
            "bin_start": 3,
            "count": 1
           },
           {
            "bin_end": 3.8000000000000003,
            "bin_start": 3.4000000000000004,
            "count": 0
           },
           {
            "bin_end": 4.2,
            "bin_start": 3.8000000000000003,
            "count": 0
           },
           {
            "bin_end": 4.6,
            "bin_start": 4.2,
            "count": 0
           },
           {
            "bin_end": 5,
            "bin_start": 4.6,
            "count": 1
           }
          ],
          "max": "5",
          "min": "1",
          "nan_count": 0,
          "unique_count": 4
         }
        },
        {
         "dtype": "int64",
         "name": "Number of Times Charted",
         "stats": {
          "histogram": [
           {
            "bin_end": 2,
            "bin_start": 1,
            "count": 1
           },
           {
            "bin_end": 3,
            "bin_start": 2,
            "count": 0
           },
           {
            "bin_end": 4,
            "bin_start": 3,
            "count": 1
           },
           {
            "bin_end": 5,
            "bin_start": 4,
            "count": 0
           },
           {
            "bin_end": 6,
            "bin_start": 5,
            "count": 1
           },
           {
            "bin_end": 7,
            "bin_start": 6,
            "count": 0
           },
           {
            "bin_end": 8,
            "bin_start": 7,
            "count": 0
           },
           {
            "bin_end": 9,
            "bin_start": 8,
            "count": 1
           },
           {
            "bin_end": 10,
            "bin_start": 9,
            "count": 0
           },
           {
            "bin_end": 11,
            "bin_start": 10,
            "count": 1
           }
          ],
          "max": "11",
          "min": "1",
          "nan_count": 0,
          "unique_count": 5
         }
        },
        {
         "dtype": "object",
         "name": "Week of Highest Charting",
         "stats": {
          "categories": [
           {
            "count": 3,
            "name": "2021-07-23--2021-07-30"
           },
           {
            "count": 1,
            "name": "2021-06-25--2021-07-02"
           },
           {
            "count": 1,
            "name": "2021-07-02--2021-07-09"
           }
          ],
          "nan_count": 0,
          "unique_count": 3
         }
        },
        {
         "dtype": "object",
         "name": "Song Name",
         "stats": {
          "categories": [
           {
            "count": 1,
            "name": "Beggin'"
           },
           {
            "count": 1,
            "name": "STAY (with Justin Bieber)"
           },
           {
            "count": 3,
            "name": "3 others"
           }
          ],
          "nan_count": 0,
          "unique_count": 5
         }
        },
        {
         "dtype": "object",
         "name": "Streams",
         "stats": {
          "categories": [
           {
            "count": 1,
            "name": "48,633,449"
           },
           {
            "count": 1,
            "name": "47,248,719"
           },
           {
            "count": 3,
            "name": "3 others"
           }
          ],
          "nan_count": 0,
          "unique_count": 5
         }
        },
        {
         "dtype": "object",
         "name": "Artist",
         "stats": {
          "categories": [
           {
            "count": 1,
            "name": "Måneskin"
           },
           {
            "count": 1,
            "name": "The Kid LAROI"
           },
           {
            "count": 3,
            "name": "3 others"
           }
          ],
          "nan_count": 0,
          "unique_count": 5
         }
        },
        {
         "dtype": "object",
         "name": "Artist Followers",
         "stats": {
          "categories": [
           {
            "count": 1,
            "name": "3377762"
           },
           {
            "count": 1,
            "name": "2230022"
           },
           {
            "count": 3,
            "name": "3 others"
           }
          ],
          "nan_count": 0,
          "unique_count": 5
         }
        },
        {
         "dtype": "object",
         "name": "Song ID",
         "stats": {
          "categories": [
           {
            "count": 1,
            "name": "3Wrjm47oTz2sjIgck11l5e"
           },
           {
            "count": 1,
            "name": "5HCyWlXZPP0y6Gqq8TgA20"
           },
           {
            "count": 3,
            "name": "3 others"
           }
          ],
          "nan_count": 0,
          "unique_count": 5
         }
        },
        {
         "dtype": "object",
         "name": "Genre",
         "stats": {
          "categories": [
           {
            "count": 1,
            "name": "['indie rock italiano', 'italian pop']"
           },
           {
            "count": 1,
            "name": "['australian hip hop']"
           },
           {
            "count": 3,
            "name": "3 others"
           }
          ],
          "nan_count": 0,
          "unique_count": 5
         }
        },
        {
         "dtype": "object",
         "name": "Release Date",
         "stats": {
          "categories": [
           {
            "count": 1,
            "name": "2017-12-08"
           },
           {
            "count": 1,
            "name": "2021-07-09"
           },
           {
            "count": 3,
            "name": "3 others"
           }
          ],
          "nan_count": 0,
          "unique_count": 5
         }
        },
        {
         "dtype": "object",
         "name": "Weeks Charted",
         "stats": {
          "categories": [
           {
            "count": 1,
            "name": "2021-07-23--2021-07-30\n2021-07-16--2021-07-23\n2021-07-09--2021-07-16\n2021-07-02--2021-07-09\n2021-06-25--2021-07-02\n2021-06-18--2021-06-25\n2021-06-11--2021-06-18\n2021-06-04--2021-06-11"
           },
           {
            "count": 1,
            "name": "2021-07-23--2021-07-30\n2021-07-16--2021-07-23\n2021-07-09--2021-07-16"
           },
           {
            "count": 3,
            "name": "3 others"
           }
          ],
          "nan_count": 0,
          "unique_count": 5
         }
        },
        {
         "dtype": "float64",
         "name": "Popularity",
         "stats": {
          "histogram": [
           {
            "bin_end": 96.4,
            "bin_start": 96,
            "count": 1
           },
           {
            "bin_end": 96.8,
            "bin_start": 96.4,
            "count": 0
           },
           {
            "bin_end": 97.2,
            "bin_start": 96.8,
            "count": 0
           },
           {
            "bin_end": 97.6,
            "bin_start": 97.2,
            "count": 0
           },
           {
            "bin_end": 98,
            "bin_start": 97.6,
            "count": 0
           },
           {
            "bin_end": 98.4,
            "bin_start": 98,
            "count": 1
           },
           {
            "bin_end": 98.8,
            "bin_start": 98.4,
            "count": 0
           },
           {
            "bin_end": 99.2,
            "bin_start": 98.8,
            "count": 2
           },
           {
            "bin_end": 99.6,
            "bin_start": 99.2,
            "count": 0
           },
           {
            "bin_end": 100,
            "bin_start": 99.6,
            "count": 1
           }
          ],
          "max": "100.0",
          "min": "96.0",
          "nan_count": 0,
          "unique_count": 4
         }
        },
        {
         "dtype": "float64",
         "name": "Danceability",
         "stats": {
          "histogram": [
           {
            "bin_end": 0.5874999999999999,
            "bin_start": 0.563,
            "count": 1
           },
           {
            "bin_end": 0.612,
            "bin_start": 0.5874999999999999,
            "count": 1
           },
           {
            "bin_end": 0.6365,
            "bin_start": 0.612,
            "count": 0
           },
           {
            "bin_end": 0.661,
            "bin_start": 0.6365,
            "count": 0
           },
           {
            "bin_end": 0.6855,
            "bin_start": 0.661,
            "count": 0
           },
           {
            "bin_end": 0.71,
            "bin_start": 0.6855,
            "count": 0
           },
           {
            "bin_end": 0.7345,
            "bin_start": 0.71,
            "count": 1
           },
           {
            "bin_end": 0.759,
            "bin_start": 0.7345,
            "count": 1
           },
           {
            "bin_end": 0.7835000000000001,
            "bin_start": 0.759,
            "count": 0
           },
           {
            "bin_end": 0.808,
            "bin_start": 0.7835000000000001,
            "count": 1
           }
          ],
          "max": "0.808",
          "min": "0.563",
          "nan_count": 0,
          "unique_count": 5
         }
        },
        {
         "dtype": "float64",
         "name": "Energy",
         "stats": {
          "histogram": [
           {
            "bin_end": 0.6873,
            "bin_start": 0.664,
            "count": 1
           },
           {
            "bin_end": 0.7106,
            "bin_start": 0.6873,
            "count": 1
           },
           {
            "bin_end": 0.7339,
            "bin_start": 0.7106,
            "count": 0
           },
           {
            "bin_end": 0.7572,
            "bin_start": 0.7339,
            "count": 0
           },
           {
            "bin_end": 0.7805,
            "bin_start": 0.7572,
            "count": 1
           },
           {
            "bin_end": 0.8038000000000001,
            "bin_start": 0.7805,
            "count": 1
           },
           {
            "bin_end": 0.8271000000000001,
            "bin_start": 0.8038000000000001,
            "count": 0
           },
           {
            "bin_end": 0.8504,
            "bin_start": 0.8271000000000001,
            "count": 0
           },
           {
            "bin_end": 0.8737,
            "bin_start": 0.8504,
            "count": 0
           },
           {
            "bin_end": 0.897,
            "bin_start": 0.8737,
            "count": 1
           }
          ],
          "max": "0.897",
          "min": "0.664",
          "nan_count": 0,
          "unique_count": 5
         }
        },
        {
         "dtype": "float64",
         "name": "Loudness",
         "stats": {
          "histogram": [
           {
            "bin_end": -7.0393,
            "bin_start": -7.409,
            "count": 1
           },
           {
            "bin_end": -6.6696,
            "bin_start": -7.0393,
            "count": 0
           },
           {
            "bin_end": -6.2999,
            "bin_start": -6.6696,
            "count": 0
           },
           {
            "bin_end": -5.9302,
            "bin_start": -6.2999,
            "count": 0
           },
           {
            "bin_end": -5.5605,
            "bin_start": -5.9302,
            "count": 0
           },
           {
            "bin_end": -5.190799999999999,
            "bin_start": -5.5605,
            "count": 1
           },
           {
            "bin_end": -4.8210999999999995,
            "bin_start": -5.190799999999999,
            "count": 1
           },
           {
            "bin_end": -4.4514,
            "bin_start": -4.8210999999999995,
            "count": 1
           },
           {
            "bin_end": -4.0817,
            "bin_start": -4.4514,
            "count": 0
           },
           {
            "bin_end": -3.712,
            "bin_start": -4.0817,
            "count": 1
           }
          ],
          "max": "-3.712",
          "min": "-7.409",
          "nan_count": 0,
          "unique_count": 5
         }
        },
        {
         "dtype": "float64",
         "name": "Speechiness",
         "stats": {
          "histogram": [
           {
            "bin_end": 0.04672,
            "bin_start": 0.0348,
            "count": 1
           },
           {
            "bin_end": 0.05864,
            "bin_start": 0.04672,
            "count": 2
           },
           {
            "bin_end": 0.07056,
            "bin_start": 0.05864,
            "count": 1
           },
           {
            "bin_end": 0.08248,
            "bin_start": 0.07056,
            "count": 0
           },
           {
            "bin_end": 0.0944,
            "bin_start": 0.08248,
            "count": 0
           },
           {
            "bin_end": 0.10632,
            "bin_start": 0.0944,
            "count": 0
           },
           {
            "bin_end": 0.11824,
            "bin_start": 0.10632,
            "count": 0
           },
           {
            "bin_end": 0.13016,
            "bin_start": 0.11824,
            "count": 0
           },
           {
            "bin_end": 0.14207999999999998,
            "bin_start": 0.13016,
            "count": 0
           },
           {
            "bin_end": 0.154,
            "bin_start": 0.14207999999999998,
            "count": 1
           }
          ],
          "max": "0.154",
          "min": "0.0348",
          "nan_count": 0,
          "unique_count": 5
         }
        },
        {
         "dtype": "float64",
         "name": "Acousticness",
         "stats": {
          "histogram": [
           {
            "bin_end": 0.051770000000000004,
            "bin_start": 0.0203,
            "count": 3
           },
           {
            "bin_end": 0.08324000000000001,
            "bin_start": 0.051770000000000004,
            "count": 0
           },
           {
            "bin_end": 0.11471000000000002,
            "bin_start": 0.08324000000000001,
            "count": 0
           },
           {
            "bin_end": 0.14618000000000003,
            "bin_start": 0.11471000000000002,
            "count": 1
           },
           {
            "bin_end": 0.17765000000000003,
            "bin_start": 0.14618000000000003,
            "count": 0
           },
           {
            "bin_end": 0.20912000000000003,
            "bin_start": 0.17765000000000003,
            "count": 0
           },
           {
            "bin_end": 0.24059000000000003,
            "bin_start": 0.20912000000000003,
            "count": 0
           },
           {
            "bin_end": 0.27206,
            "bin_start": 0.24059000000000003,
            "count": 0
           },
           {
            "bin_end": 0.30353,
            "bin_start": 0.27206,
            "count": 0
           },
           {
            "bin_end": 0.335,
            "bin_start": 0.30353,
            "count": 1
           }
          ],
          "max": "0.335",
          "min": "0.0203",
          "nan_count": 0,
          "unique_count": 5
         }
        },
        {
         "dtype": "float64",
         "name": "Liveness",
         "stats": {
          "histogram": [
           {
            "bin_end": 0.08149,
            "bin_start": 0.0501,
            "count": 1
           },
           {
            "bin_end": 0.11288000000000001,
            "bin_start": 0.08149,
            "count": 2
           },
           {
            "bin_end": 0.14427,
            "bin_start": 0.11288000000000001,
            "count": 0
           },
           {
            "bin_end": 0.17566,
            "bin_start": 0.14427,
            "count": 0
           },
           {
            "bin_end": 0.20705,
            "bin_start": 0.17566,
            "count": 0
           },
           {
            "bin_end": 0.23844,
            "bin_start": 0.20705,
            "count": 0
           },
           {
            "bin_end": 0.26983,
            "bin_start": 0.23844,
            "count": 0
           },
           {
            "bin_end": 0.30122,
            "bin_start": 0.26983,
            "count": 0
           },
           {
            "bin_end": 0.33261,
            "bin_start": 0.30122,
            "count": 0
           },
           {
            "bin_end": 0.364,
            "bin_start": 0.33261,
            "count": 2
           }
          ],
          "max": "0.364",
          "min": "0.0501",
          "nan_count": 0,
          "unique_count": 5
         }
        },
        {
         "dtype": "float64",
         "name": "Tempo",
         "stats": {
          "histogram": [
           {
            "bin_end": 130.4162,
            "bin_start": 126.026,
            "count": 1
           },
           {
            "bin_end": 134.8064,
            "bin_start": 130.4162,
            "count": 1
           },
           {
            "bin_end": 139.1966,
            "bin_start": 134.8064,
            "count": 0
           },
           {
            "bin_end": 143.58679999999998,
            "bin_start": 139.1966,
            "count": 0
           },
           {
            "bin_end": 147.977,
            "bin_start": 143.58679999999998,
            "count": 0
           },
           {
            "bin_end": 152.3672,
            "bin_start": 147.977,
            "count": 1
           },
           {
            "bin_end": 156.7574,
            "bin_start": 152.3672,
            "count": 0
           },
           {
            "bin_end": 161.1476,
            "bin_start": 156.7574,
            "count": 0
           },
           {
            "bin_end": 165.5378,
            "bin_start": 161.1476,
            "count": 0
           },
           {
            "bin_end": 169.928,
            "bin_start": 165.5378,
            "count": 2
           }
          ],
          "max": "169.928",
          "min": "126.026",
          "nan_count": 0,
          "unique_count": 5
         }
        },
        {
         "dtype": "float64",
         "name": "Duration (ms)",
         "stats": {
          "histogram": [
           {
            "bin_end": 150729.5,
            "bin_start": 141806,
            "count": 1
           },
           {
            "bin_end": 159653,
            "bin_start": 150729.5,
            "count": 0
           },
           {
            "bin_end": 168576.5,
            "bin_start": 159653,
            "count": 0
           },
           {
            "bin_end": 177500,
            "bin_start": 168576.5,
            "count": 0
           },
           {
            "bin_end": 186423.5,
            "bin_start": 177500,
            "count": 1
           },
           {
            "bin_end": 195347,
            "bin_start": 186423.5,
            "count": 0
           },
           {
            "bin_end": 204270.5,
            "bin_start": 195347,
            "count": 0
           },
           {
            "bin_end": 213194,
            "bin_start": 204270.5,
            "count": 2
           },
           {
            "bin_end": 222117.5,
            "bin_start": 213194,
            "count": 0
           },
           {
            "bin_end": 231041,
            "bin_start": 222117.5,
            "count": 1
           }
          ],
          "max": "231041.0",
          "min": "141806.0",
          "nan_count": 0,
          "unique_count": 5
         }
        },
        {
         "dtype": "float64",
         "name": "Valence",
         "stats": {
          "histogram": [
           {
            "bin_end": 0.5196,
            "bin_start": 0.478,
            "count": 1
           },
           {
            "bin_end": 0.5612,
            "bin_start": 0.5196,
            "count": 0
           },
           {
            "bin_end": 0.6028,
            "bin_start": 0.5612,
            "count": 2
           },
           {
            "bin_end": 0.6444,
            "bin_start": 0.6028,
            "count": 0
           },
           {
            "bin_end": 0.6859999999999999,
            "bin_start": 0.6444,
            "count": 0
           },
           {
            "bin_end": 0.7276,
            "bin_start": 0.6859999999999999,
            "count": 1
           },
           {
            "bin_end": 0.7692,
            "bin_start": 0.7276,
            "count": 0
           },
           {
            "bin_end": 0.8108,
            "bin_start": 0.7692,
            "count": 0
           },
           {
            "bin_end": 0.8524,
            "bin_start": 0.8108,
            "count": 0
           },
           {
            "bin_end": 0.894,
            "bin_start": 0.8524,
            "count": 1
           }
          ],
          "max": "0.894",
          "min": "0.478",
          "nan_count": 0,
          "unique_count": 5
         }
        },
        {
         "dtype": "object",
         "name": "Chord",
         "stats": {
          "categories": [
           {
            "count": 2,
            "name": "B"
           },
           {
            "count": 1,
            "name": "C#/Db"
           },
           {
            "count": 2,
            "name": "2 others"
           }
          ],
          "nan_count": 0,
          "unique_count": 4
         }
        },
        {
         "dtype": "int64",
         "name": "_deepnote_index_column"
        }
       ],
       "row_count": 5,
       "rows": [
        {
         "Acousticness": 0.127,
         "Artist": "Måneskin",
         "Artist Followers": "3377762",
         "Chord": "B",
         "Danceability": 0.714,
         "Duration (ms)": 211560,
         "Energy": 0.8,
         "Genre": "['indie rock italiano', 'italian pop']",
         "Highest Charting Position": 1,
         "Index": 1,
         "Liveness": 0.359,
         "Loudness": -4.808,
         "Number of Times Charted": 8,
         "Popularity": 100,
         "Release Date": "2017-12-08",
         "Song ID": "3Wrjm47oTz2sjIgck11l5e",
         "Song Name": "Beggin'",
         "Speechiness": 0.0504,
         "Streams": "48,633,449",
         "Tempo": 134.002,
         "Valence": 0.589,
         "Week of Highest Charting": "2021-07-23--2021-07-30",
         "Weeks Charted": "2021-07-23--2021-07-30\n2021-07-16--2021-07-23\n2021-07-09--2021-07-16\n2021-07-02--2021-07-09\n2021-06…",
         "_deepnote_index_column": 0
        },
        {
         "Acousticness": 0.0383,
         "Artist": "The Kid LAROI",
         "Artist Followers": "2230022",
         "Chord": "C#/Db",
         "Danceability": 0.591,
         "Duration (ms)": 141806,
         "Energy": 0.764,
         "Genre": "['australian hip hop']",
         "Highest Charting Position": 2,
         "Index": 2,
         "Liveness": 0.103,
         "Loudness": -5.484,
         "Number of Times Charted": 3,
         "Popularity": 99,
         "Release Date": "2021-07-09",
         "Song ID": "5HCyWlXZPP0y6Gqq8TgA20",
         "Song Name": "STAY (with Justin Bieber)",
         "Speechiness": 0.0483,
         "Streams": "47,248,719",
         "Tempo": 169.928,
         "Valence": 0.478,
         "Week of Highest Charting": "2021-07-23--2021-07-30",
         "Weeks Charted": "2021-07-23--2021-07-30\n2021-07-16--2021-07-23\n2021-07-09--2021-07-16",
         "_deepnote_index_column": 1
        },
        {
         "Acousticness": 0.335,
         "Artist": "Olivia Rodrigo",
         "Artist Followers": "6266514",
         "Chord": "A",
         "Danceability": 0.563,
         "Duration (ms)": 178147,
         "Energy": 0.664,
         "Genre": "['pop']",
         "Highest Charting Position": 1,
         "Index": 3,
         "Liveness": 0.0849,
         "Loudness": -5.044,
         "Number of Times Charted": 11,
         "Popularity": 99,
         "Release Date": "2021-05-21",
         "Song ID": "4ZtFanR9U6ndgddUvNcjcG",
         "Song Name": "good 4 u",
         "Speechiness": 0.154,
         "Streams": "40,162,559",
         "Tempo": 166.928,
         "Valence": 0.688,
         "Week of Highest Charting": "2021-06-25--2021-07-02",
         "Weeks Charted": "2021-07-23--2021-07-30\n2021-07-16--2021-07-23\n2021-07-09--2021-07-16\n2021-07-02--2021-07-09\n2021-06…",
         "_deepnote_index_column": 2
        },
        {
         "Acousticness": 0.0469,
         "Artist": "Ed Sheeran",
         "Artist Followers": "83293380",
         "Chord": "B",
         "Danceability": 0.808,
         "Duration (ms)": 231041,
         "Energy": 0.897,
         "Genre": "['pop', 'uk pop']",
         "Highest Charting Position": 3,
         "Index": 4,
         "Liveness": 0.364,
         "Loudness": -3.712,
         "Number of Times Charted": 5,
         "Popularity": 98,
         "Release Date": "2021-06-25",
         "Song ID": "6PQ88X9TkUIAUIZJHW2upE",
         "Song Name": "Bad Habits",
         "Speechiness": 0.0348,
         "Streams": "37,799,456",
         "Tempo": 126.026,
         "Valence": 0.591,
         "Week of Highest Charting": "2021-07-02--2021-07-09",
         "Weeks Charted": "2021-07-23--2021-07-30\n2021-07-16--2021-07-23\n2021-07-09--2021-07-16\n2021-07-02--2021-07-09\n2021-06…",
         "_deepnote_index_column": 3
        },
        {
         "Acousticness": 0.0203,
         "Artist": "Lil Nas X",
         "Artist Followers": "5473565",
         "Chord": "D#/Eb",
         "Danceability": 0.736,
         "Duration (ms)": 212000,
         "Energy": 0.704,
         "Genre": "['lgbtq+ hip hop', 'pop rap']",
         "Highest Charting Position": 5,
         "Index": 5,
         "Liveness": 0.0501,
         "Loudness": -7.409,
         "Number of Times Charted": 1,
         "Popularity": 96,
         "Release Date": "2021-07-23",
         "Song ID": "27NovPIUIRrOZoCHxABJwK",
         "Song Name": "INDUSTRY BABY (feat. Jack Harlow)",
         "Speechiness": 0.0615,
         "Streams": "33,948,454",
         "Tempo": 149.995,
         "Valence": 0.894,
         "Week of Highest Charting": "2021-07-23--2021-07-30",
         "Weeks Charted": "2021-07-23--2021-07-30",
         "_deepnote_index_column": 4
        }
       ]
      },
      "text/html": [
       "<div>\n",
       "<style scoped>\n",
       "    .dataframe tbody tr th:only-of-type {\n",
       "        vertical-align: middle;\n",
       "    }\n",
       "\n",
       "    .dataframe tbody tr th {\n",
       "        vertical-align: top;\n",
       "    }\n",
       "\n",
       "    .dataframe thead th {\n",
       "        text-align: right;\n",
       "    }\n",
       "</style>\n",
       "<table border=\"1\" class=\"dataframe\">\n",
       "  <thead>\n",
       "    <tr style=\"text-align: right;\">\n",
       "      <th></th>\n",
       "      <th>Index</th>\n",
       "      <th>Highest Charting Position</th>\n",
       "      <th>Number of Times Charted</th>\n",
       "      <th>Week of Highest Charting</th>\n",
       "      <th>Song Name</th>\n",
       "      <th>Streams</th>\n",
       "      <th>Artist</th>\n",
       "      <th>Artist Followers</th>\n",
       "      <th>Song ID</th>\n",
       "      <th>Genre</th>\n",
       "      <th>...</th>\n",
       "      <th>Danceability</th>\n",
       "      <th>Energy</th>\n",
       "      <th>Loudness</th>\n",
       "      <th>Speechiness</th>\n",
       "      <th>Acousticness</th>\n",
       "      <th>Liveness</th>\n",
       "      <th>Tempo</th>\n",
       "      <th>Duration (ms)</th>\n",
       "      <th>Valence</th>\n",
       "      <th>Chord</th>\n",
       "    </tr>\n",
       "  </thead>\n",
       "  <tbody>\n",
       "    <tr>\n",
       "      <th>0</th>\n",
       "      <td>1</td>\n",
       "      <td>1</td>\n",
       "      <td>8</td>\n",
       "      <td>2021-07-23--2021-07-30</td>\n",
       "      <td>Beggin'</td>\n",
       "      <td>48,633,449</td>\n",
       "      <td>Måneskin</td>\n",
       "      <td>3377762</td>\n",
       "      <td>3Wrjm47oTz2sjIgck11l5e</td>\n",
       "      <td>['indie rock italiano', 'italian pop']</td>\n",
       "      <td>...</td>\n",
       "      <td>0.714</td>\n",
       "      <td>0.800</td>\n",
       "      <td>-4.808</td>\n",
       "      <td>0.0504</td>\n",
       "      <td>0.1270</td>\n",
       "      <td>0.3590</td>\n",
       "      <td>134.002</td>\n",
       "      <td>211560.0</td>\n",
       "      <td>0.589</td>\n",
       "      <td>B</td>\n",
       "    </tr>\n",
       "    <tr>\n",
       "      <th>1</th>\n",
       "      <td>2</td>\n",
       "      <td>2</td>\n",
       "      <td>3</td>\n",
       "      <td>2021-07-23--2021-07-30</td>\n",
       "      <td>STAY (with Justin Bieber)</td>\n",
       "      <td>47,248,719</td>\n",
       "      <td>The Kid LAROI</td>\n",
       "      <td>2230022</td>\n",
       "      <td>5HCyWlXZPP0y6Gqq8TgA20</td>\n",
       "      <td>['australian hip hop']</td>\n",
       "      <td>...</td>\n",
       "      <td>0.591</td>\n",
       "      <td>0.764</td>\n",
       "      <td>-5.484</td>\n",
       "      <td>0.0483</td>\n",
       "      <td>0.0383</td>\n",
       "      <td>0.1030</td>\n",
       "      <td>169.928</td>\n",
       "      <td>141806.0</td>\n",
       "      <td>0.478</td>\n",
       "      <td>C#/Db</td>\n",
       "    </tr>\n",
       "    <tr>\n",
       "      <th>2</th>\n",
       "      <td>3</td>\n",
       "      <td>1</td>\n",
       "      <td>11</td>\n",
       "      <td>2021-06-25--2021-07-02</td>\n",
       "      <td>good 4 u</td>\n",
       "      <td>40,162,559</td>\n",
       "      <td>Olivia Rodrigo</td>\n",
       "      <td>6266514</td>\n",
       "      <td>4ZtFanR9U6ndgddUvNcjcG</td>\n",
       "      <td>['pop']</td>\n",
       "      <td>...</td>\n",
       "      <td>0.563</td>\n",
       "      <td>0.664</td>\n",
       "      <td>-5.044</td>\n",
       "      <td>0.1540</td>\n",
       "      <td>0.3350</td>\n",
       "      <td>0.0849</td>\n",
       "      <td>166.928</td>\n",
       "      <td>178147.0</td>\n",
       "      <td>0.688</td>\n",
       "      <td>A</td>\n",
       "    </tr>\n",
       "    <tr>\n",
       "      <th>3</th>\n",
       "      <td>4</td>\n",
       "      <td>3</td>\n",
       "      <td>5</td>\n",
       "      <td>2021-07-02--2021-07-09</td>\n",
       "      <td>Bad Habits</td>\n",
       "      <td>37,799,456</td>\n",
       "      <td>Ed Sheeran</td>\n",
       "      <td>83293380</td>\n",
       "      <td>6PQ88X9TkUIAUIZJHW2upE</td>\n",
       "      <td>['pop', 'uk pop']</td>\n",
       "      <td>...</td>\n",
       "      <td>0.808</td>\n",
       "      <td>0.897</td>\n",
       "      <td>-3.712</td>\n",
       "      <td>0.0348</td>\n",
       "      <td>0.0469</td>\n",
       "      <td>0.3640</td>\n",
       "      <td>126.026</td>\n",
       "      <td>231041.0</td>\n",
       "      <td>0.591</td>\n",
       "      <td>B</td>\n",
       "    </tr>\n",
       "    <tr>\n",
       "      <th>4</th>\n",
       "      <td>5</td>\n",
       "      <td>5</td>\n",
       "      <td>1</td>\n",
       "      <td>2021-07-23--2021-07-30</td>\n",
       "      <td>INDUSTRY BABY (feat. Jack Harlow)</td>\n",
       "      <td>33,948,454</td>\n",
       "      <td>Lil Nas X</td>\n",
       "      <td>5473565</td>\n",
       "      <td>27NovPIUIRrOZoCHxABJwK</td>\n",
       "      <td>['lgbtq+ hip hop', 'pop rap']</td>\n",
       "      <td>...</td>\n",
       "      <td>0.736</td>\n",
       "      <td>0.704</td>\n",
       "      <td>-7.409</td>\n",
       "      <td>0.0615</td>\n",
       "      <td>0.0203</td>\n",
       "      <td>0.0501</td>\n",
       "      <td>149.995</td>\n",
       "      <td>212000.0</td>\n",
       "      <td>0.894</td>\n",
       "      <td>D#/Eb</td>\n",
       "    </tr>\n",
       "  </tbody>\n",
       "</table>\n",
       "<p>5 rows × 23 columns</p>\n",
       "</div>"
      ],
      "text/plain": [
       "   Index  Highest Charting Position  Number of Times Charted  \\\n",
       "0      1                          1                        8   \n",
       "1      2                          2                        3   \n",
       "2      3                          1                       11   \n",
       "3      4                          3                        5   \n",
       "4      5                          5                        1   \n",
       "\n",
       "  Week of Highest Charting                          Song Name     Streams  \\\n",
       "0   2021-07-23--2021-07-30                            Beggin'  48,633,449   \n",
       "1   2021-07-23--2021-07-30          STAY (with Justin Bieber)  47,248,719   \n",
       "2   2021-06-25--2021-07-02                           good 4 u  40,162,559   \n",
       "3   2021-07-02--2021-07-09                         Bad Habits  37,799,456   \n",
       "4   2021-07-23--2021-07-30  INDUSTRY BABY (feat. Jack Harlow)  33,948,454   \n",
       "\n",
       "           Artist Artist Followers                 Song ID  \\\n",
       "0        Måneskin          3377762  3Wrjm47oTz2sjIgck11l5e   \n",
       "1   The Kid LAROI          2230022  5HCyWlXZPP0y6Gqq8TgA20   \n",
       "2  Olivia Rodrigo          6266514  4ZtFanR9U6ndgddUvNcjcG   \n",
       "3      Ed Sheeran         83293380  6PQ88X9TkUIAUIZJHW2upE   \n",
       "4       Lil Nas X          5473565  27NovPIUIRrOZoCHxABJwK   \n",
       "\n",
       "                                    Genre  ... Danceability Energy  Loudness  \\\n",
       "0  ['indie rock italiano', 'italian pop']  ...        0.714  0.800    -4.808   \n",
       "1                  ['australian hip hop']  ...        0.591  0.764    -5.484   \n",
       "2                                 ['pop']  ...        0.563  0.664    -5.044   \n",
       "3                       ['pop', 'uk pop']  ...        0.808  0.897    -3.712   \n",
       "4           ['lgbtq+ hip hop', 'pop rap']  ...        0.736  0.704    -7.409   \n",
       "\n",
       "   Speechiness  Acousticness  Liveness    Tempo  Duration (ms)  Valence  Chord  \n",
       "0       0.0504        0.1270    0.3590  134.002       211560.0    0.589      B  \n",
       "1       0.0483        0.0383    0.1030  169.928       141806.0    0.478  C#/Db  \n",
       "2       0.1540        0.3350    0.0849  166.928       178147.0    0.688      A  \n",
       "3       0.0348        0.0469    0.3640  126.026       231041.0    0.591      B  \n",
       "4       0.0615        0.0203    0.0501  149.995       212000.0    0.894  D#/Eb  \n",
       "\n",
       "[5 rows x 23 columns]"
      ]
     },
     "execution_count": 52,
     "metadata": {},
     "output_type": "execute_result"
    }
   ],
   "source": [
    "df.head()"
   ]
  },
  {
   "cell_type": "code",
   "execution_count": 53,
   "metadata": {
    "cell_id": "6d8ae734-d028-40c1-b70d-b0eaf1098bf8",
    "deepnote_cell_type": "code",
    "deepnote_to_be_reexecuted": false,
    "execution_millis": 3,
    "execution_start": 1643215862943,
    "source_hash": "a324bf0c",
    "tags": []
   },
   "outputs": [],
   "source": [
    "# Try to swap 3rd row with 1st row\n",
    "temp = df.iloc[1]"
   ]
  },
  {
   "cell_type": "code",
   "execution_count": 55,
   "metadata": {
    "cell_id": "35519b81-233c-4c08-8739-ce0148d72cac",
    "deepnote_cell_type": "code",
    "deepnote_output_heights": [
     21.1875
    ],
    "deepnote_to_be_reexecuted": false,
    "execution_millis": 7,
    "execution_start": 1643215881067,
    "source_hash": "621a838a",
    "tags": []
   },
   "outputs": [
    {
     "data": {
      "text/plain": [
       "pandas.core.series.Series"
      ]
     },
     "execution_count": 55,
     "metadata": {},
     "output_type": "execute_result"
    }
   ],
   "source": [
    "type(temp)"
   ]
  },
  {
   "cell_type": "code",
   "execution_count": 56,
   "metadata": {
    "cell_id": "65740d0e-27b2-4b6d-a0e3-e6e89581fbce",
    "deepnote_cell_type": "code",
    "deepnote_to_be_reexecuted": false,
    "execution_millis": 12,
    "execution_start": 1643215899910,
    "source_hash": "d8dfdb05",
    "tags": []
   },
   "outputs": [],
   "source": [
    "df.iloc[1] = df.iloc[3]"
   ]
  },
  {
   "cell_type": "code",
   "execution_count": 57,
   "metadata": {
    "cell_id": "71fa9933-098a-4261-aa93-08059ac1dce5",
    "deepnote_cell_type": "code",
    "deepnote_to_be_reexecuted": false,
    "execution_millis": 72,
    "execution_start": 1643215917767,
    "source_hash": "c085b6ba",
    "tags": []
   },
   "outputs": [
    {
     "data": {
      "application/vnd.deepnote.dataframe.v3+json": {
       "column_count": 23,
       "columns": [
        {
         "dtype": "int64",
         "name": "Index",
         "stats": {
          "histogram": [
           {
            "bin_end": 1.4,
            "bin_start": 1,
            "count": 1
           },
           {
            "bin_end": 1.8,
            "bin_start": 1.4,
            "count": 0
           },
           {
            "bin_end": 2.2,
            "bin_start": 1.8,
            "count": 0
           },
           {
            "bin_end": 2.6,
            "bin_start": 2.2,
            "count": 0
           },
           {
            "bin_end": 3,
            "bin_start": 2.6,
            "count": 0
           },
           {
            "bin_end": 3.4000000000000004,
            "bin_start": 3,
            "count": 1
           },
           {
            "bin_end": 3.8000000000000003,
            "bin_start": 3.4000000000000004,
            "count": 0
           },
           {
            "bin_end": 4.2,
            "bin_start": 3.8000000000000003,
            "count": 2
           },
           {
            "bin_end": 4.6,
            "bin_start": 4.2,
            "count": 0
           },
           {
            "bin_end": 5,
            "bin_start": 4.6,
            "count": 1
           }
          ],
          "max": "5",
          "min": "1",
          "nan_count": 0,
          "unique_count": 4
         }
        },
        {
         "dtype": "int64",
         "name": "Highest Charting Position",
         "stats": {
          "histogram": [
           {
            "bin_end": 1.4,
            "bin_start": 1,
            "count": 2
           },
           {
            "bin_end": 1.8,
            "bin_start": 1.4,
            "count": 0
           },
           {
            "bin_end": 2.2,
            "bin_start": 1.8,
            "count": 0
           },
           {
            "bin_end": 2.6,
            "bin_start": 2.2,
            "count": 0
           },
           {
            "bin_end": 3,
            "bin_start": 2.6,
            "count": 0
           },
           {
            "bin_end": 3.4000000000000004,
            "bin_start": 3,
            "count": 2
           },
           {
            "bin_end": 3.8000000000000003,
            "bin_start": 3.4000000000000004,
            "count": 0
           },
           {
            "bin_end": 4.2,
            "bin_start": 3.8000000000000003,
            "count": 0
           },
           {
            "bin_end": 4.6,
            "bin_start": 4.2,
            "count": 0
           },
           {
            "bin_end": 5,
            "bin_start": 4.6,
            "count": 1
           }
          ],
          "max": "5",
          "min": "1",
          "nan_count": 0,
          "unique_count": 3
         }
        },
        {
         "dtype": "int64",
         "name": "Number of Times Charted",
         "stats": {
          "histogram": [
           {
            "bin_end": 2,
            "bin_start": 1,
            "count": 1
           },
           {
            "bin_end": 3,
            "bin_start": 2,
            "count": 0
           },
           {
            "bin_end": 4,
            "bin_start": 3,
            "count": 0
           },
           {
            "bin_end": 5,
            "bin_start": 4,
            "count": 0
           },
           {
            "bin_end": 6,
            "bin_start": 5,
            "count": 2
           },
           {
            "bin_end": 7,
            "bin_start": 6,
            "count": 0
           },
           {
            "bin_end": 8,
            "bin_start": 7,
            "count": 0
           },
           {
            "bin_end": 9,
            "bin_start": 8,
            "count": 1
           },
           {
            "bin_end": 10,
            "bin_start": 9,
            "count": 0
           },
           {
            "bin_end": 11,
            "bin_start": 10,
            "count": 1
           }
          ],
          "max": "11",
          "min": "1",
          "nan_count": 0,
          "unique_count": 4
         }
        },
        {
         "dtype": "object",
         "name": "Week of Highest Charting",
         "stats": {
          "categories": [
           {
            "count": 2,
            "name": "2021-07-23--2021-07-30"
           },
           {
            "count": 2,
            "name": "2021-07-02--2021-07-09"
           },
           {
            "count": 1,
            "name": "2021-06-25--2021-07-02"
           }
          ],
          "nan_count": 0,
          "unique_count": 3
         }
        },
        {
         "dtype": "object",
         "name": "Song Name",
         "stats": {
          "categories": [
           {
            "count": 2,
            "name": "Bad Habits"
           },
           {
            "count": 1,
            "name": "Beggin'"
           },
           {
            "count": 2,
            "name": "2 others"
           }
          ],
          "nan_count": 0,
          "unique_count": 4
         }
        },
        {
         "dtype": "object",
         "name": "Streams",
         "stats": {
          "categories": [
           {
            "count": 2,
            "name": "37,799,456"
           },
           {
            "count": 1,
            "name": "48,633,449"
           },
           {
            "count": 2,
            "name": "2 others"
           }
          ],
          "nan_count": 0,
          "unique_count": 4
         }
        },
        {
         "dtype": "object",
         "name": "Artist",
         "stats": {
          "categories": [
           {
            "count": 2,
            "name": "Ed Sheeran"
           },
           {
            "count": 1,
            "name": "Måneskin"
           },
           {
            "count": 2,
            "name": "2 others"
           }
          ],
          "nan_count": 0,
          "unique_count": 4
         }
        },
        {
         "dtype": "object",
         "name": "Artist Followers",
         "stats": {
          "categories": [
           {
            "count": 2,
            "name": "83293380"
           },
           {
            "count": 1,
            "name": "3377762"
           },
           {
            "count": 2,
            "name": "2 others"
           }
          ],
          "nan_count": 0,
          "unique_count": 4
         }
        },
        {
         "dtype": "object",
         "name": "Song ID",
         "stats": {
          "categories": [
           {
            "count": 2,
            "name": "6PQ88X9TkUIAUIZJHW2upE"
           },
           {
            "count": 1,
            "name": "3Wrjm47oTz2sjIgck11l5e"
           },
           {
            "count": 2,
            "name": "2 others"
           }
          ],
          "nan_count": 0,
          "unique_count": 4
         }
        },
        {
         "dtype": "object",
         "name": "Genre",
         "stats": {
          "categories": [
           {
            "count": 2,
            "name": "['pop', 'uk pop']"
           },
           {
            "count": 1,
            "name": "['indie rock italiano', 'italian pop']"
           },
           {
            "count": 2,
            "name": "2 others"
           }
          ],
          "nan_count": 0,
          "unique_count": 4
         }
        },
        {
         "dtype": "object",
         "name": "Release Date",
         "stats": {
          "categories": [
           {
            "count": 2,
            "name": "2021-06-25"
           },
           {
            "count": 1,
            "name": "2017-12-08"
           },
           {
            "count": 2,
            "name": "2 others"
           }
          ],
          "nan_count": 0,
          "unique_count": 4
         }
        },
        {
         "dtype": "object",
         "name": "Weeks Charted",
         "stats": {
          "categories": [
           {
            "count": 2,
            "name": "2021-07-23--2021-07-30\n2021-07-16--2021-07-23\n2021-07-09--2021-07-16\n2021-07-02--2021-07-09\n2021-06-25--2021-07-02"
           },
           {
            "count": 1,
            "name": "2021-07-23--2021-07-30\n2021-07-16--2021-07-23\n2021-07-09--2021-07-16\n2021-07-02--2021-07-09\n2021-06-25--2021-07-02\n2021-06-18--2021-06-25\n2021-06-11--2021-06-18\n2021-06-04--2021-06-11"
           },
           {
            "count": 2,
            "name": "2 others"
           }
          ],
          "nan_count": 0,
          "unique_count": 4
         }
        },
        {
         "dtype": "float64",
         "name": "Popularity",
         "stats": {
          "histogram": [
           {
            "bin_end": 96.4,
            "bin_start": 96,
            "count": 1
           },
           {
            "bin_end": 96.8,
            "bin_start": 96.4,
            "count": 0
           },
           {
            "bin_end": 97.2,
            "bin_start": 96.8,
            "count": 0
           },
           {
            "bin_end": 97.6,
            "bin_start": 97.2,
            "count": 0
           },
           {
            "bin_end": 98,
            "bin_start": 97.6,
            "count": 0
           },
           {
            "bin_end": 98.4,
            "bin_start": 98,
            "count": 2
           },
           {
            "bin_end": 98.8,
            "bin_start": 98.4,
            "count": 0
           },
           {
            "bin_end": 99.2,
            "bin_start": 98.8,
            "count": 1
           },
           {
            "bin_end": 99.6,
            "bin_start": 99.2,
            "count": 0
           },
           {
            "bin_end": 100,
            "bin_start": 99.6,
            "count": 1
           }
          ],
          "max": "100.0",
          "min": "96.0",
          "nan_count": 0,
          "unique_count": 4
         }
        },
        {
         "dtype": "float64",
         "name": "Danceability",
         "stats": {
          "histogram": [
           {
            "bin_end": 0.5874999999999999,
            "bin_start": 0.563,
            "count": 1
           },
           {
            "bin_end": 0.612,
            "bin_start": 0.5874999999999999,
            "count": 0
           },
           {
            "bin_end": 0.6365,
            "bin_start": 0.612,
            "count": 0
           },
           {
            "bin_end": 0.661,
            "bin_start": 0.6365,
            "count": 0
           },
           {
            "bin_end": 0.6855,
            "bin_start": 0.661,
            "count": 0
           },
           {
            "bin_end": 0.71,
            "bin_start": 0.6855,
            "count": 0
           },
           {
            "bin_end": 0.7345,
            "bin_start": 0.71,
            "count": 1
           },
           {
            "bin_end": 0.759,
            "bin_start": 0.7345,
            "count": 1
           },
           {
            "bin_end": 0.7835000000000001,
            "bin_start": 0.759,
            "count": 0
           },
           {
            "bin_end": 0.808,
            "bin_start": 0.7835000000000001,
            "count": 2
           }
          ],
          "max": "0.808",
          "min": "0.563",
          "nan_count": 0,
          "unique_count": 4
         }
        },
        {
         "dtype": "float64",
         "name": "Energy",
         "stats": {
          "histogram": [
           {
            "bin_end": 0.6873,
            "bin_start": 0.664,
            "count": 1
           },
           {
            "bin_end": 0.7106,
            "bin_start": 0.6873,
            "count": 1
           },
           {
            "bin_end": 0.7339,
            "bin_start": 0.7106,
            "count": 0
           },
           {
            "bin_end": 0.7572,
            "bin_start": 0.7339,
            "count": 0
           },
           {
            "bin_end": 0.7805,
            "bin_start": 0.7572,
            "count": 0
           },
           {
            "bin_end": 0.8038000000000001,
            "bin_start": 0.7805,
            "count": 1
           },
           {
            "bin_end": 0.8271000000000001,
            "bin_start": 0.8038000000000001,
            "count": 0
           },
           {
            "bin_end": 0.8504,
            "bin_start": 0.8271000000000001,
            "count": 0
           },
           {
            "bin_end": 0.8737,
            "bin_start": 0.8504,
            "count": 0
           },
           {
            "bin_end": 0.897,
            "bin_start": 0.8737,
            "count": 2
           }
          ],
          "max": "0.897",
          "min": "0.664",
          "nan_count": 0,
          "unique_count": 4
         }
        },
        {
         "dtype": "float64",
         "name": "Loudness",
         "stats": {
          "histogram": [
           {
            "bin_end": -7.0393,
            "bin_start": -7.409,
            "count": 1
           },
           {
            "bin_end": -6.6696,
            "bin_start": -7.0393,
            "count": 0
           },
           {
            "bin_end": -6.2999,
            "bin_start": -6.6696,
            "count": 0
           },
           {
            "bin_end": -5.9302,
            "bin_start": -6.2999,
            "count": 0
           },
           {
            "bin_end": -5.5605,
            "bin_start": -5.9302,
            "count": 0
           },
           {
            "bin_end": -5.190799999999999,
            "bin_start": -5.5605,
            "count": 0
           },
           {
            "bin_end": -4.8210999999999995,
            "bin_start": -5.190799999999999,
            "count": 1
           },
           {
            "bin_end": -4.4514,
            "bin_start": -4.8210999999999995,
            "count": 1
           },
           {
            "bin_end": -4.0817,
            "bin_start": -4.4514,
            "count": 0
           },
           {
            "bin_end": -3.712,
            "bin_start": -4.0817,
            "count": 2
           }
          ],
          "max": "-3.712",
          "min": "-7.409",
          "nan_count": 0,
          "unique_count": 4
         }
        },
        {
         "dtype": "float64",
         "name": "Speechiness",
         "stats": {
          "histogram": [
           {
            "bin_end": 0.04672,
            "bin_start": 0.0348,
            "count": 2
           },
           {
            "bin_end": 0.05864,
            "bin_start": 0.04672,
            "count": 1
           },
           {
            "bin_end": 0.07056,
            "bin_start": 0.05864,
            "count": 1
           },
           {
            "bin_end": 0.08248,
            "bin_start": 0.07056,
            "count": 0
           },
           {
            "bin_end": 0.0944,
            "bin_start": 0.08248,
            "count": 0
           },
           {
            "bin_end": 0.10632,
            "bin_start": 0.0944,
            "count": 0
           },
           {
            "bin_end": 0.11824,
            "bin_start": 0.10632,
            "count": 0
           },
           {
            "bin_end": 0.13016,
            "bin_start": 0.11824,
            "count": 0
           },
           {
            "bin_end": 0.14207999999999998,
            "bin_start": 0.13016,
            "count": 0
           },
           {
            "bin_end": 0.154,
            "bin_start": 0.14207999999999998,
            "count": 1
           }
          ],
          "max": "0.154",
          "min": "0.0348",
          "nan_count": 0,
          "unique_count": 4
         }
        },
        {
         "dtype": "float64",
         "name": "Acousticness",
         "stats": {
          "histogram": [
           {
            "bin_end": 0.051770000000000004,
            "bin_start": 0.0203,
            "count": 3
           },
           {
            "bin_end": 0.08324000000000001,
            "bin_start": 0.051770000000000004,
            "count": 0
           },
           {
            "bin_end": 0.11471000000000002,
            "bin_start": 0.08324000000000001,
            "count": 0
           },
           {
            "bin_end": 0.14618000000000003,
            "bin_start": 0.11471000000000002,
            "count": 1
           },
           {
            "bin_end": 0.17765000000000003,
            "bin_start": 0.14618000000000003,
            "count": 0
           },
           {
            "bin_end": 0.20912000000000003,
            "bin_start": 0.17765000000000003,
            "count": 0
           },
           {
            "bin_end": 0.24059000000000003,
            "bin_start": 0.20912000000000003,
            "count": 0
           },
           {
            "bin_end": 0.27206,
            "bin_start": 0.24059000000000003,
            "count": 0
           },
           {
            "bin_end": 0.30353,
            "bin_start": 0.27206,
            "count": 0
           },
           {
            "bin_end": 0.335,
            "bin_start": 0.30353,
            "count": 1
           }
          ],
          "max": "0.335",
          "min": "0.0203",
          "nan_count": 0,
          "unique_count": 4
         }
        },
        {
         "dtype": "float64",
         "name": "Liveness",
         "stats": {
          "histogram": [
           {
            "bin_end": 0.08149,
            "bin_start": 0.0501,
            "count": 1
           },
           {
            "bin_end": 0.11288000000000001,
            "bin_start": 0.08149,
            "count": 1
           },
           {
            "bin_end": 0.14427,
            "bin_start": 0.11288000000000001,
            "count": 0
           },
           {
            "bin_end": 0.17566,
            "bin_start": 0.14427,
            "count": 0
           },
           {
            "bin_end": 0.20705,
            "bin_start": 0.17566,
            "count": 0
           },
           {
            "bin_end": 0.23844,
            "bin_start": 0.20705,
            "count": 0
           },
           {
            "bin_end": 0.26983,
            "bin_start": 0.23844,
            "count": 0
           },
           {
            "bin_end": 0.30122,
            "bin_start": 0.26983,
            "count": 0
           },
           {
            "bin_end": 0.33261,
            "bin_start": 0.30122,
            "count": 0
           },
           {
            "bin_end": 0.364,
            "bin_start": 0.33261,
            "count": 3
           }
          ],
          "max": "0.364",
          "min": "0.0501",
          "nan_count": 0,
          "unique_count": 4
         }
        },
        {
         "dtype": "float64",
         "name": "Tempo",
         "stats": {
          "histogram": [
           {
            "bin_end": 130.1162,
            "bin_start": 126.026,
            "count": 2
           },
           {
            "bin_end": 134.2064,
            "bin_start": 130.1162,
            "count": 1
           },
           {
            "bin_end": 138.2966,
            "bin_start": 134.2064,
            "count": 0
           },
           {
            "bin_end": 142.3868,
            "bin_start": 138.2966,
            "count": 0
           },
           {
            "bin_end": 146.477,
            "bin_start": 142.3868,
            "count": 0
           },
           {
            "bin_end": 150.5672,
            "bin_start": 146.477,
            "count": 1
           },
           {
            "bin_end": 154.6574,
            "bin_start": 150.5672,
            "count": 0
           },
           {
            "bin_end": 158.7476,
            "bin_start": 154.6574,
            "count": 0
           },
           {
            "bin_end": 162.83780000000002,
            "bin_start": 158.7476,
            "count": 0
           },
           {
            "bin_end": 166.928,
            "bin_start": 162.83780000000002,
            "count": 1
           }
          ],
          "max": "166.928",
          "min": "126.026",
          "nan_count": 0,
          "unique_count": 4
         }
        },
        {
         "dtype": "float64",
         "name": "Duration (ms)",
         "stats": {
          "histogram": [
           {
            "bin_end": 183436.4,
            "bin_start": 178147,
            "count": 1
           },
           {
            "bin_end": 188725.8,
            "bin_start": 183436.4,
            "count": 0
           },
           {
            "bin_end": 194015.2,
            "bin_start": 188725.8,
            "count": 0
           },
           {
            "bin_end": 199304.6,
            "bin_start": 194015.2,
            "count": 0
           },
           {
            "bin_end": 204594,
            "bin_start": 199304.6,
            "count": 0
           },
           {
            "bin_end": 209883.4,
            "bin_start": 204594,
            "count": 0
           },
           {
            "bin_end": 215172.8,
            "bin_start": 209883.4,
            "count": 2
           },
           {
            "bin_end": 220462.2,
            "bin_start": 215172.8,
            "count": 0
           },
           {
            "bin_end": 225751.6,
            "bin_start": 220462.2,
            "count": 0
           },
           {
            "bin_end": 231041,
            "bin_start": 225751.6,
            "count": 2
           }
          ],
          "max": "231041.0",
          "min": "178147.0",
          "nan_count": 0,
          "unique_count": 4
         }
        },
        {
         "dtype": "float64",
         "name": "Valence",
         "stats": {
          "histogram": [
           {
            "bin_end": 0.6194999999999999,
            "bin_start": 0.589,
            "count": 3
           },
           {
            "bin_end": 0.65,
            "bin_start": 0.6194999999999999,
            "count": 0
           },
           {
            "bin_end": 0.6805,
            "bin_start": 0.65,
            "count": 0
           },
           {
            "bin_end": 0.711,
            "bin_start": 0.6805,
            "count": 1
           },
           {
            "bin_end": 0.7415,
            "bin_start": 0.711,
            "count": 0
           },
           {
            "bin_end": 0.772,
            "bin_start": 0.7415,
            "count": 0
           },
           {
            "bin_end": 0.8025,
            "bin_start": 0.772,
            "count": 0
           },
           {
            "bin_end": 0.833,
            "bin_start": 0.8025,
            "count": 0
           },
           {
            "bin_end": 0.8635,
            "bin_start": 0.833,
            "count": 0
           },
           {
            "bin_end": 0.894,
            "bin_start": 0.8635,
            "count": 1
           }
          ],
          "max": "0.894",
          "min": "0.589",
          "nan_count": 0,
          "unique_count": 4
         }
        },
        {
         "dtype": "object",
         "name": "Chord",
         "stats": {
          "categories": [
           {
            "count": 3,
            "name": "B"
           },
           {
            "count": 1,
            "name": "A"
           },
           {
            "count": 1,
            "name": "D#/Eb"
           }
          ],
          "nan_count": 0,
          "unique_count": 3
         }
        },
        {
         "dtype": "int64",
         "name": "_deepnote_index_column"
        }
       ],
       "row_count": 5,
       "rows": [
        {
         "Acousticness": 0.127,
         "Artist": "Måneskin",
         "Artist Followers": "3377762",
         "Chord": "B",
         "Danceability": 0.714,
         "Duration (ms)": 211560,
         "Energy": 0.8,
         "Genre": "['indie rock italiano', 'italian pop']",
         "Highest Charting Position": 1,
         "Index": 1,
         "Liveness": 0.359,
         "Loudness": -4.808,
         "Number of Times Charted": 8,
         "Popularity": 100,
         "Release Date": "2017-12-08",
         "Song ID": "3Wrjm47oTz2sjIgck11l5e",
         "Song Name": "Beggin'",
         "Speechiness": 0.0504,
         "Streams": "48,633,449",
         "Tempo": 134.002,
         "Valence": 0.589,
         "Week of Highest Charting": "2021-07-23--2021-07-30",
         "Weeks Charted": "2021-07-23--2021-07-30\n2021-07-16--2021-07-23\n2021-07-09--2021-07-16\n2021-07-02--2021-07-09\n2021-06…",
         "_deepnote_index_column": 0
        },
        {
         "Acousticness": 0.0469,
         "Artist": "Ed Sheeran",
         "Artist Followers": "83293380",
         "Chord": "B",
         "Danceability": 0.808,
         "Duration (ms)": 231041,
         "Energy": 0.897,
         "Genre": "['pop', 'uk pop']",
         "Highest Charting Position": 3,
         "Index": 4,
         "Liveness": 0.364,
         "Loudness": -3.712,
         "Number of Times Charted": 5,
         "Popularity": 98,
         "Release Date": "2021-06-25",
         "Song ID": "6PQ88X9TkUIAUIZJHW2upE",
         "Song Name": "Bad Habits",
         "Speechiness": 0.0348,
         "Streams": "37,799,456",
         "Tempo": 126.026,
         "Valence": 0.591,
         "Week of Highest Charting": "2021-07-02--2021-07-09",
         "Weeks Charted": "2021-07-23--2021-07-30\n2021-07-16--2021-07-23\n2021-07-09--2021-07-16\n2021-07-02--2021-07-09\n2021-06…",
         "_deepnote_index_column": 1
        },
        {
         "Acousticness": 0.335,
         "Artist": "Olivia Rodrigo",
         "Artist Followers": "6266514",
         "Chord": "A",
         "Danceability": 0.563,
         "Duration (ms)": 178147,
         "Energy": 0.664,
         "Genre": "['pop']",
         "Highest Charting Position": 1,
         "Index": 3,
         "Liveness": 0.0849,
         "Loudness": -5.044,
         "Number of Times Charted": 11,
         "Popularity": 99,
         "Release Date": "2021-05-21",
         "Song ID": "4ZtFanR9U6ndgddUvNcjcG",
         "Song Name": "good 4 u",
         "Speechiness": 0.154,
         "Streams": "40,162,559",
         "Tempo": 166.928,
         "Valence": 0.688,
         "Week of Highest Charting": "2021-06-25--2021-07-02",
         "Weeks Charted": "2021-07-23--2021-07-30\n2021-07-16--2021-07-23\n2021-07-09--2021-07-16\n2021-07-02--2021-07-09\n2021-06…",
         "_deepnote_index_column": 2
        },
        {
         "Acousticness": 0.0469,
         "Artist": "Ed Sheeran",
         "Artist Followers": "83293380",
         "Chord": "B",
         "Danceability": 0.808,
         "Duration (ms)": 231041,
         "Energy": 0.897,
         "Genre": "['pop', 'uk pop']",
         "Highest Charting Position": 3,
         "Index": 4,
         "Liveness": 0.364,
         "Loudness": -3.712,
         "Number of Times Charted": 5,
         "Popularity": 98,
         "Release Date": "2021-06-25",
         "Song ID": "6PQ88X9TkUIAUIZJHW2upE",
         "Song Name": "Bad Habits",
         "Speechiness": 0.0348,
         "Streams": "37,799,456",
         "Tempo": 126.026,
         "Valence": 0.591,
         "Week of Highest Charting": "2021-07-02--2021-07-09",
         "Weeks Charted": "2021-07-23--2021-07-30\n2021-07-16--2021-07-23\n2021-07-09--2021-07-16\n2021-07-02--2021-07-09\n2021-06…",
         "_deepnote_index_column": 3
        },
        {
         "Acousticness": 0.0203,
         "Artist": "Lil Nas X",
         "Artist Followers": "5473565",
         "Chord": "D#/Eb",
         "Danceability": 0.736,
         "Duration (ms)": 212000,
         "Energy": 0.704,
         "Genre": "['lgbtq+ hip hop', 'pop rap']",
         "Highest Charting Position": 5,
         "Index": 5,
         "Liveness": 0.0501,
         "Loudness": -7.409,
         "Number of Times Charted": 1,
         "Popularity": 96,
         "Release Date": "2021-07-23",
         "Song ID": "27NovPIUIRrOZoCHxABJwK",
         "Song Name": "INDUSTRY BABY (feat. Jack Harlow)",
         "Speechiness": 0.0615,
         "Streams": "33,948,454",
         "Tempo": 149.995,
         "Valence": 0.894,
         "Week of Highest Charting": "2021-07-23--2021-07-30",
         "Weeks Charted": "2021-07-23--2021-07-30",
         "_deepnote_index_column": 4
        }
       ]
      },
      "text/html": [
       "<div>\n",
       "<style scoped>\n",
       "    .dataframe tbody tr th:only-of-type {\n",
       "        vertical-align: middle;\n",
       "    }\n",
       "\n",
       "    .dataframe tbody tr th {\n",
       "        vertical-align: top;\n",
       "    }\n",
       "\n",
       "    .dataframe thead th {\n",
       "        text-align: right;\n",
       "    }\n",
       "</style>\n",
       "<table border=\"1\" class=\"dataframe\">\n",
       "  <thead>\n",
       "    <tr style=\"text-align: right;\">\n",
       "      <th></th>\n",
       "      <th>Index</th>\n",
       "      <th>Highest Charting Position</th>\n",
       "      <th>Number of Times Charted</th>\n",
       "      <th>Week of Highest Charting</th>\n",
       "      <th>Song Name</th>\n",
       "      <th>Streams</th>\n",
       "      <th>Artist</th>\n",
       "      <th>Artist Followers</th>\n",
       "      <th>Song ID</th>\n",
       "      <th>Genre</th>\n",
       "      <th>...</th>\n",
       "      <th>Danceability</th>\n",
       "      <th>Energy</th>\n",
       "      <th>Loudness</th>\n",
       "      <th>Speechiness</th>\n",
       "      <th>Acousticness</th>\n",
       "      <th>Liveness</th>\n",
       "      <th>Tempo</th>\n",
       "      <th>Duration (ms)</th>\n",
       "      <th>Valence</th>\n",
       "      <th>Chord</th>\n",
       "    </tr>\n",
       "  </thead>\n",
       "  <tbody>\n",
       "    <tr>\n",
       "      <th>0</th>\n",
       "      <td>1</td>\n",
       "      <td>1</td>\n",
       "      <td>8</td>\n",
       "      <td>2021-07-23--2021-07-30</td>\n",
       "      <td>Beggin'</td>\n",
       "      <td>48,633,449</td>\n",
       "      <td>Måneskin</td>\n",
       "      <td>3377762</td>\n",
       "      <td>3Wrjm47oTz2sjIgck11l5e</td>\n",
       "      <td>['indie rock italiano', 'italian pop']</td>\n",
       "      <td>...</td>\n",
       "      <td>0.714</td>\n",
       "      <td>0.800</td>\n",
       "      <td>-4.808</td>\n",
       "      <td>0.0504</td>\n",
       "      <td>0.1270</td>\n",
       "      <td>0.3590</td>\n",
       "      <td>134.002</td>\n",
       "      <td>211560.0</td>\n",
       "      <td>0.589</td>\n",
       "      <td>B</td>\n",
       "    </tr>\n",
       "    <tr>\n",
       "      <th>1</th>\n",
       "      <td>4</td>\n",
       "      <td>3</td>\n",
       "      <td>5</td>\n",
       "      <td>2021-07-02--2021-07-09</td>\n",
       "      <td>Bad Habits</td>\n",
       "      <td>37,799,456</td>\n",
       "      <td>Ed Sheeran</td>\n",
       "      <td>83293380</td>\n",
       "      <td>6PQ88X9TkUIAUIZJHW2upE</td>\n",
       "      <td>['pop', 'uk pop']</td>\n",
       "      <td>...</td>\n",
       "      <td>0.808</td>\n",
       "      <td>0.897</td>\n",
       "      <td>-3.712</td>\n",
       "      <td>0.0348</td>\n",
       "      <td>0.0469</td>\n",
       "      <td>0.3640</td>\n",
       "      <td>126.026</td>\n",
       "      <td>231041.0</td>\n",
       "      <td>0.591</td>\n",
       "      <td>B</td>\n",
       "    </tr>\n",
       "    <tr>\n",
       "      <th>2</th>\n",
       "      <td>3</td>\n",
       "      <td>1</td>\n",
       "      <td>11</td>\n",
       "      <td>2021-06-25--2021-07-02</td>\n",
       "      <td>good 4 u</td>\n",
       "      <td>40,162,559</td>\n",
       "      <td>Olivia Rodrigo</td>\n",
       "      <td>6266514</td>\n",
       "      <td>4ZtFanR9U6ndgddUvNcjcG</td>\n",
       "      <td>['pop']</td>\n",
       "      <td>...</td>\n",
       "      <td>0.563</td>\n",
       "      <td>0.664</td>\n",
       "      <td>-5.044</td>\n",
       "      <td>0.1540</td>\n",
       "      <td>0.3350</td>\n",
       "      <td>0.0849</td>\n",
       "      <td>166.928</td>\n",
       "      <td>178147.0</td>\n",
       "      <td>0.688</td>\n",
       "      <td>A</td>\n",
       "    </tr>\n",
       "    <tr>\n",
       "      <th>3</th>\n",
       "      <td>4</td>\n",
       "      <td>3</td>\n",
       "      <td>5</td>\n",
       "      <td>2021-07-02--2021-07-09</td>\n",
       "      <td>Bad Habits</td>\n",
       "      <td>37,799,456</td>\n",
       "      <td>Ed Sheeran</td>\n",
       "      <td>83293380</td>\n",
       "      <td>6PQ88X9TkUIAUIZJHW2upE</td>\n",
       "      <td>['pop', 'uk pop']</td>\n",
       "      <td>...</td>\n",
       "      <td>0.808</td>\n",
       "      <td>0.897</td>\n",
       "      <td>-3.712</td>\n",
       "      <td>0.0348</td>\n",
       "      <td>0.0469</td>\n",
       "      <td>0.3640</td>\n",
       "      <td>126.026</td>\n",
       "      <td>231041.0</td>\n",
       "      <td>0.591</td>\n",
       "      <td>B</td>\n",
       "    </tr>\n",
       "    <tr>\n",
       "      <th>4</th>\n",
       "      <td>5</td>\n",
       "      <td>5</td>\n",
       "      <td>1</td>\n",
       "      <td>2021-07-23--2021-07-30</td>\n",
       "      <td>INDUSTRY BABY (feat. Jack Harlow)</td>\n",
       "      <td>33,948,454</td>\n",
       "      <td>Lil Nas X</td>\n",
       "      <td>5473565</td>\n",
       "      <td>27NovPIUIRrOZoCHxABJwK</td>\n",
       "      <td>['lgbtq+ hip hop', 'pop rap']</td>\n",
       "      <td>...</td>\n",
       "      <td>0.736</td>\n",
       "      <td>0.704</td>\n",
       "      <td>-7.409</td>\n",
       "      <td>0.0615</td>\n",
       "      <td>0.0203</td>\n",
       "      <td>0.0501</td>\n",
       "      <td>149.995</td>\n",
       "      <td>212000.0</td>\n",
       "      <td>0.894</td>\n",
       "      <td>D#/Eb</td>\n",
       "    </tr>\n",
       "  </tbody>\n",
       "</table>\n",
       "<p>5 rows × 23 columns</p>\n",
       "</div>"
      ],
      "text/plain": [
       "   Index  Highest Charting Position  Number of Times Charted  \\\n",
       "0      1                          1                        8   \n",
       "1      4                          3                        5   \n",
       "2      3                          1                       11   \n",
       "3      4                          3                        5   \n",
       "4      5                          5                        1   \n",
       "\n",
       "  Week of Highest Charting                          Song Name     Streams  \\\n",
       "0   2021-07-23--2021-07-30                            Beggin'  48,633,449   \n",
       "1   2021-07-02--2021-07-09                         Bad Habits  37,799,456   \n",
       "2   2021-06-25--2021-07-02                           good 4 u  40,162,559   \n",
       "3   2021-07-02--2021-07-09                         Bad Habits  37,799,456   \n",
       "4   2021-07-23--2021-07-30  INDUSTRY BABY (feat. Jack Harlow)  33,948,454   \n",
       "\n",
       "           Artist Artist Followers                 Song ID  \\\n",
       "0        Måneskin          3377762  3Wrjm47oTz2sjIgck11l5e   \n",
       "1      Ed Sheeran         83293380  6PQ88X9TkUIAUIZJHW2upE   \n",
       "2  Olivia Rodrigo          6266514  4ZtFanR9U6ndgddUvNcjcG   \n",
       "3      Ed Sheeran         83293380  6PQ88X9TkUIAUIZJHW2upE   \n",
       "4       Lil Nas X          5473565  27NovPIUIRrOZoCHxABJwK   \n",
       "\n",
       "                                    Genre  ... Danceability Energy  Loudness  \\\n",
       "0  ['indie rock italiano', 'italian pop']  ...        0.714  0.800    -4.808   \n",
       "1                       ['pop', 'uk pop']  ...        0.808  0.897    -3.712   \n",
       "2                                 ['pop']  ...        0.563  0.664    -5.044   \n",
       "3                       ['pop', 'uk pop']  ...        0.808  0.897    -3.712   \n",
       "4           ['lgbtq+ hip hop', 'pop rap']  ...        0.736  0.704    -7.409   \n",
       "\n",
       "   Speechiness  Acousticness  Liveness    Tempo  Duration (ms)  Valence  Chord  \n",
       "0       0.0504        0.1270    0.3590  134.002       211560.0    0.589      B  \n",
       "1       0.0348        0.0469    0.3640  126.026       231041.0    0.591      B  \n",
       "2       0.1540        0.3350    0.0849  166.928       178147.0    0.688      A  \n",
       "3       0.0348        0.0469    0.3640  126.026       231041.0    0.591      B  \n",
       "4       0.0615        0.0203    0.0501  149.995       212000.0    0.894  D#/Eb  \n",
       "\n",
       "[5 rows x 23 columns]"
      ]
     },
     "execution_count": 57,
     "metadata": {},
     "output_type": "execute_result"
    }
   ],
   "source": [
    "df.head()"
   ]
  },
  {
   "cell_type": "code",
   "execution_count": 58,
   "metadata": {
    "cell_id": "906b47d3-ae21-4e06-9754-ec3382c48cfb",
    "deepnote_cell_type": "code",
    "deepnote_to_be_reexecuted": false,
    "execution_millis": 12,
    "execution_start": 1643215944800,
    "source_hash": "cdc568f7",
    "tags": []
   },
   "outputs": [],
   "source": [
    "df.iloc[3] = temp"
   ]
  },
  {
   "cell_type": "code",
   "execution_count": 59,
   "metadata": {
    "cell_id": "0d0de742-bbe2-48e2-880a-3798483bb0e1",
    "deepnote_cell_type": "code",
    "deepnote_to_be_reexecuted": false,
    "execution_millis": 106,
    "execution_start": 1643215961925,
    "source_hash": "c085b6ba",
    "tags": []
   },
   "outputs": [
    {
     "data": {
      "application/vnd.deepnote.dataframe.v3+json": {
       "column_count": 23,
       "columns": [
        {
         "dtype": "int64",
         "name": "Index",
         "stats": {
          "histogram": [
           {
            "bin_end": 1.4,
            "bin_start": 1,
            "count": 1
           },
           {
            "bin_end": 1.8,
            "bin_start": 1.4,
            "count": 0
           },
           {
            "bin_end": 2.2,
            "bin_start": 1.8,
            "count": 1
           },
           {
            "bin_end": 2.6,
            "bin_start": 2.2,
            "count": 0
           },
           {
            "bin_end": 3,
            "bin_start": 2.6,
            "count": 0
           },
           {
            "bin_end": 3.4000000000000004,
            "bin_start": 3,
            "count": 1
           },
           {
            "bin_end": 3.8000000000000003,
            "bin_start": 3.4000000000000004,
            "count": 0
           },
           {
            "bin_end": 4.2,
            "bin_start": 3.8000000000000003,
            "count": 1
           },
           {
            "bin_end": 4.6,
            "bin_start": 4.2,
            "count": 0
           },
           {
            "bin_end": 5,
            "bin_start": 4.6,
            "count": 1
           }
          ],
          "max": "5",
          "min": "1",
          "nan_count": 0,
          "unique_count": 5
         }
        },
        {
         "dtype": "int64",
         "name": "Highest Charting Position",
         "stats": {
          "histogram": [
           {
            "bin_end": 1.4,
            "bin_start": 1,
            "count": 2
           },
           {
            "bin_end": 1.8,
            "bin_start": 1.4,
            "count": 0
           },
           {
            "bin_end": 2.2,
            "bin_start": 1.8,
            "count": 1
           },
           {
            "bin_end": 2.6,
            "bin_start": 2.2,
            "count": 0
           },
           {
            "bin_end": 3,
            "bin_start": 2.6,
            "count": 0
           },
           {
            "bin_end": 3.4000000000000004,
            "bin_start": 3,
            "count": 1
           },
           {
            "bin_end": 3.8000000000000003,
            "bin_start": 3.4000000000000004,
            "count": 0
           },
           {
            "bin_end": 4.2,
            "bin_start": 3.8000000000000003,
            "count": 0
           },
           {
            "bin_end": 4.6,
            "bin_start": 4.2,
            "count": 0
           },
           {
            "bin_end": 5,
            "bin_start": 4.6,
            "count": 1
           }
          ],
          "max": "5",
          "min": "1",
          "nan_count": 0,
          "unique_count": 4
         }
        },
        {
         "dtype": "int64",
         "name": "Number of Times Charted",
         "stats": {
          "histogram": [
           {
            "bin_end": 2,
            "bin_start": 1,
            "count": 1
           },
           {
            "bin_end": 3,
            "bin_start": 2,
            "count": 0
           },
           {
            "bin_end": 4,
            "bin_start": 3,
            "count": 1
           },
           {
            "bin_end": 5,
            "bin_start": 4,
            "count": 0
           },
           {
            "bin_end": 6,
            "bin_start": 5,
            "count": 1
           },
           {
            "bin_end": 7,
            "bin_start": 6,
            "count": 0
           },
           {
            "bin_end": 8,
            "bin_start": 7,
            "count": 0
           },
           {
            "bin_end": 9,
            "bin_start": 8,
            "count": 1
           },
           {
            "bin_end": 10,
            "bin_start": 9,
            "count": 0
           },
           {
            "bin_end": 11,
            "bin_start": 10,
            "count": 1
           }
          ],
          "max": "11",
          "min": "1",
          "nan_count": 0,
          "unique_count": 5
         }
        },
        {
         "dtype": "object",
         "name": "Week of Highest Charting",
         "stats": {
          "categories": [
           {
            "count": 3,
            "name": "2021-07-23--2021-07-30"
           },
           {
            "count": 1,
            "name": "2021-07-02--2021-07-09"
           },
           {
            "count": 1,
            "name": "2021-06-25--2021-07-02"
           }
          ],
          "nan_count": 0,
          "unique_count": 3
         }
        },
        {
         "dtype": "object",
         "name": "Song Name",
         "stats": {
          "categories": [
           {
            "count": 1,
            "name": "Beggin'"
           },
           {
            "count": 1,
            "name": "Bad Habits"
           },
           {
            "count": 3,
            "name": "3 others"
           }
          ],
          "nan_count": 0,
          "unique_count": 5
         }
        },
        {
         "dtype": "object",
         "name": "Streams",
         "stats": {
          "categories": [
           {
            "count": 1,
            "name": "48,633,449"
           },
           {
            "count": 1,
            "name": "37,799,456"
           },
           {
            "count": 3,
            "name": "3 others"
           }
          ],
          "nan_count": 0,
          "unique_count": 5
         }
        },
        {
         "dtype": "object",
         "name": "Artist",
         "stats": {
          "categories": [
           {
            "count": 1,
            "name": "Måneskin"
           },
           {
            "count": 1,
            "name": "Ed Sheeran"
           },
           {
            "count": 3,
            "name": "3 others"
           }
          ],
          "nan_count": 0,
          "unique_count": 5
         }
        },
        {
         "dtype": "object",
         "name": "Artist Followers",
         "stats": {
          "categories": [
           {
            "count": 1,
            "name": "3377762"
           },
           {
            "count": 1,
            "name": "83293380"
           },
           {
            "count": 3,
            "name": "3 others"
           }
          ],
          "nan_count": 0,
          "unique_count": 5
         }
        },
        {
         "dtype": "object",
         "name": "Song ID",
         "stats": {
          "categories": [
           {
            "count": 1,
            "name": "3Wrjm47oTz2sjIgck11l5e"
           },
           {
            "count": 1,
            "name": "6PQ88X9TkUIAUIZJHW2upE"
           },
           {
            "count": 3,
            "name": "3 others"
           }
          ],
          "nan_count": 0,
          "unique_count": 5
         }
        },
        {
         "dtype": "object",
         "name": "Genre",
         "stats": {
          "categories": [
           {
            "count": 1,
            "name": "['indie rock italiano', 'italian pop']"
           },
           {
            "count": 1,
            "name": "['pop', 'uk pop']"
           },
           {
            "count": 3,
            "name": "3 others"
           }
          ],
          "nan_count": 0,
          "unique_count": 5
         }
        },
        {
         "dtype": "object",
         "name": "Release Date",
         "stats": {
          "categories": [
           {
            "count": 1,
            "name": "2017-12-08"
           },
           {
            "count": 1,
            "name": "2021-06-25"
           },
           {
            "count": 3,
            "name": "3 others"
           }
          ],
          "nan_count": 0,
          "unique_count": 5
         }
        },
        {
         "dtype": "object",
         "name": "Weeks Charted",
         "stats": {
          "categories": [
           {
            "count": 1,
            "name": "2021-07-23--2021-07-30\n2021-07-16--2021-07-23\n2021-07-09--2021-07-16\n2021-07-02--2021-07-09\n2021-06-25--2021-07-02\n2021-06-18--2021-06-25\n2021-06-11--2021-06-18\n2021-06-04--2021-06-11"
           },
           {
            "count": 1,
            "name": "2021-07-23--2021-07-30\n2021-07-16--2021-07-23\n2021-07-09--2021-07-16\n2021-07-02--2021-07-09\n2021-06-25--2021-07-02"
           },
           {
            "count": 3,
            "name": "3 others"
           }
          ],
          "nan_count": 0,
          "unique_count": 5
         }
        },
        {
         "dtype": "float64",
         "name": "Popularity",
         "stats": {
          "histogram": [
           {
            "bin_end": 96.4,
            "bin_start": 96,
            "count": 1
           },
           {
            "bin_end": 96.8,
            "bin_start": 96.4,
            "count": 0
           },
           {
            "bin_end": 97.2,
            "bin_start": 96.8,
            "count": 0
           },
           {
            "bin_end": 97.6,
            "bin_start": 97.2,
            "count": 0
           },
           {
            "bin_end": 98,
            "bin_start": 97.6,
            "count": 0
           },
           {
            "bin_end": 98.4,
            "bin_start": 98,
            "count": 1
           },
           {
            "bin_end": 98.8,
            "bin_start": 98.4,
            "count": 0
           },
           {
            "bin_end": 99.2,
            "bin_start": 98.8,
            "count": 2
           },
           {
            "bin_end": 99.6,
            "bin_start": 99.2,
            "count": 0
           },
           {
            "bin_end": 100,
            "bin_start": 99.6,
            "count": 1
           }
          ],
          "max": "100.0",
          "min": "96.0",
          "nan_count": 0,
          "unique_count": 4
         }
        },
        {
         "dtype": "float64",
         "name": "Danceability",
         "stats": {
          "histogram": [
           {
            "bin_end": 0.5874999999999999,
            "bin_start": 0.563,
            "count": 1
           },
           {
            "bin_end": 0.612,
            "bin_start": 0.5874999999999999,
            "count": 1
           },
           {
            "bin_end": 0.6365,
            "bin_start": 0.612,
            "count": 0
           },
           {
            "bin_end": 0.661,
            "bin_start": 0.6365,
            "count": 0
           },
           {
            "bin_end": 0.6855,
            "bin_start": 0.661,
            "count": 0
           },
           {
            "bin_end": 0.71,
            "bin_start": 0.6855,
            "count": 0
           },
           {
            "bin_end": 0.7345,
            "bin_start": 0.71,
            "count": 1
           },
           {
            "bin_end": 0.759,
            "bin_start": 0.7345,
            "count": 1
           },
           {
            "bin_end": 0.7835000000000001,
            "bin_start": 0.759,
            "count": 0
           },
           {
            "bin_end": 0.808,
            "bin_start": 0.7835000000000001,
            "count": 1
           }
          ],
          "max": "0.808",
          "min": "0.563",
          "nan_count": 0,
          "unique_count": 5
         }
        },
        {
         "dtype": "float64",
         "name": "Energy",
         "stats": {
          "histogram": [
           {
            "bin_end": 0.6873,
            "bin_start": 0.664,
            "count": 1
           },
           {
            "bin_end": 0.7106,
            "bin_start": 0.6873,
            "count": 1
           },
           {
            "bin_end": 0.7339,
            "bin_start": 0.7106,
            "count": 0
           },
           {
            "bin_end": 0.7572,
            "bin_start": 0.7339,
            "count": 0
           },
           {
            "bin_end": 0.7805,
            "bin_start": 0.7572,
            "count": 1
           },
           {
            "bin_end": 0.8038000000000001,
            "bin_start": 0.7805,
            "count": 1
           },
           {
            "bin_end": 0.8271000000000001,
            "bin_start": 0.8038000000000001,
            "count": 0
           },
           {
            "bin_end": 0.8504,
            "bin_start": 0.8271000000000001,
            "count": 0
           },
           {
            "bin_end": 0.8737,
            "bin_start": 0.8504,
            "count": 0
           },
           {
            "bin_end": 0.897,
            "bin_start": 0.8737,
            "count": 1
           }
          ],
          "max": "0.897",
          "min": "0.664",
          "nan_count": 0,
          "unique_count": 5
         }
        },
        {
         "dtype": "float64",
         "name": "Loudness",
         "stats": {
          "histogram": [
           {
            "bin_end": -7.0393,
            "bin_start": -7.409,
            "count": 1
           },
           {
            "bin_end": -6.6696,
            "bin_start": -7.0393,
            "count": 0
           },
           {
            "bin_end": -6.2999,
            "bin_start": -6.6696,
            "count": 0
           },
           {
            "bin_end": -5.9302,
            "bin_start": -6.2999,
            "count": 0
           },
           {
            "bin_end": -5.5605,
            "bin_start": -5.9302,
            "count": 0
           },
           {
            "bin_end": -5.190799999999999,
            "bin_start": -5.5605,
            "count": 1
           },
           {
            "bin_end": -4.8210999999999995,
            "bin_start": -5.190799999999999,
            "count": 1
           },
           {
            "bin_end": -4.4514,
            "bin_start": -4.8210999999999995,
            "count": 1
           },
           {
            "bin_end": -4.0817,
            "bin_start": -4.4514,
            "count": 0
           },
           {
            "bin_end": -3.712,
            "bin_start": -4.0817,
            "count": 1
           }
          ],
          "max": "-3.712",
          "min": "-7.409",
          "nan_count": 0,
          "unique_count": 5
         }
        },
        {
         "dtype": "float64",
         "name": "Speechiness",
         "stats": {
          "histogram": [
           {
            "bin_end": 0.04672,
            "bin_start": 0.0348,
            "count": 1
           },
           {
            "bin_end": 0.05864,
            "bin_start": 0.04672,
            "count": 2
           },
           {
            "bin_end": 0.07056,
            "bin_start": 0.05864,
            "count": 1
           },
           {
            "bin_end": 0.08248,
            "bin_start": 0.07056,
            "count": 0
           },
           {
            "bin_end": 0.0944,
            "bin_start": 0.08248,
            "count": 0
           },
           {
            "bin_end": 0.10632,
            "bin_start": 0.0944,
            "count": 0
           },
           {
            "bin_end": 0.11824,
            "bin_start": 0.10632,
            "count": 0
           },
           {
            "bin_end": 0.13016,
            "bin_start": 0.11824,
            "count": 0
           },
           {
            "bin_end": 0.14207999999999998,
            "bin_start": 0.13016,
            "count": 0
           },
           {
            "bin_end": 0.154,
            "bin_start": 0.14207999999999998,
            "count": 1
           }
          ],
          "max": "0.154",
          "min": "0.0348",
          "nan_count": 0,
          "unique_count": 5
         }
        },
        {
         "dtype": "float64",
         "name": "Acousticness",
         "stats": {
          "histogram": [
           {
            "bin_end": 0.051770000000000004,
            "bin_start": 0.0203,
            "count": 3
           },
           {
            "bin_end": 0.08324000000000001,
            "bin_start": 0.051770000000000004,
            "count": 0
           },
           {
            "bin_end": 0.11471000000000002,
            "bin_start": 0.08324000000000001,
            "count": 0
           },
           {
            "bin_end": 0.14618000000000003,
            "bin_start": 0.11471000000000002,
            "count": 1
           },
           {
            "bin_end": 0.17765000000000003,
            "bin_start": 0.14618000000000003,
            "count": 0
           },
           {
            "bin_end": 0.20912000000000003,
            "bin_start": 0.17765000000000003,
            "count": 0
           },
           {
            "bin_end": 0.24059000000000003,
            "bin_start": 0.20912000000000003,
            "count": 0
           },
           {
            "bin_end": 0.27206,
            "bin_start": 0.24059000000000003,
            "count": 0
           },
           {
            "bin_end": 0.30353,
            "bin_start": 0.27206,
            "count": 0
           },
           {
            "bin_end": 0.335,
            "bin_start": 0.30353,
            "count": 1
           }
          ],
          "max": "0.335",
          "min": "0.0203",
          "nan_count": 0,
          "unique_count": 5
         }
        },
        {
         "dtype": "float64",
         "name": "Liveness",
         "stats": {
          "histogram": [
           {
            "bin_end": 0.08149,
            "bin_start": 0.0501,
            "count": 1
           },
           {
            "bin_end": 0.11288000000000001,
            "bin_start": 0.08149,
            "count": 2
           },
           {
            "bin_end": 0.14427,
            "bin_start": 0.11288000000000001,
            "count": 0
           },
           {
            "bin_end": 0.17566,
            "bin_start": 0.14427,
            "count": 0
           },
           {
            "bin_end": 0.20705,
            "bin_start": 0.17566,
            "count": 0
           },
           {
            "bin_end": 0.23844,
            "bin_start": 0.20705,
            "count": 0
           },
           {
            "bin_end": 0.26983,
            "bin_start": 0.23844,
            "count": 0
           },
           {
            "bin_end": 0.30122,
            "bin_start": 0.26983,
            "count": 0
           },
           {
            "bin_end": 0.33261,
            "bin_start": 0.30122,
            "count": 0
           },
           {
            "bin_end": 0.364,
            "bin_start": 0.33261,
            "count": 2
           }
          ],
          "max": "0.364",
          "min": "0.0501",
          "nan_count": 0,
          "unique_count": 5
         }
        },
        {
         "dtype": "float64",
         "name": "Tempo",
         "stats": {
          "histogram": [
           {
            "bin_end": 130.4162,
            "bin_start": 126.026,
            "count": 1
           },
           {
            "bin_end": 134.8064,
            "bin_start": 130.4162,
            "count": 1
           },
           {
            "bin_end": 139.1966,
            "bin_start": 134.8064,
            "count": 0
           },
           {
            "bin_end": 143.58679999999998,
            "bin_start": 139.1966,
            "count": 0
           },
           {
            "bin_end": 147.977,
            "bin_start": 143.58679999999998,
            "count": 0
           },
           {
            "bin_end": 152.3672,
            "bin_start": 147.977,
            "count": 1
           },
           {
            "bin_end": 156.7574,
            "bin_start": 152.3672,
            "count": 0
           },
           {
            "bin_end": 161.1476,
            "bin_start": 156.7574,
            "count": 0
           },
           {
            "bin_end": 165.5378,
            "bin_start": 161.1476,
            "count": 0
           },
           {
            "bin_end": 169.928,
            "bin_start": 165.5378,
            "count": 2
           }
          ],
          "max": "169.928",
          "min": "126.026",
          "nan_count": 0,
          "unique_count": 5
         }
        },
        {
         "dtype": "float64",
         "name": "Duration (ms)",
         "stats": {
          "histogram": [
           {
            "bin_end": 150729.5,
            "bin_start": 141806,
            "count": 1
           },
           {
            "bin_end": 159653,
            "bin_start": 150729.5,
            "count": 0
           },
           {
            "bin_end": 168576.5,
            "bin_start": 159653,
            "count": 0
           },
           {
            "bin_end": 177500,
            "bin_start": 168576.5,
            "count": 0
           },
           {
            "bin_end": 186423.5,
            "bin_start": 177500,
            "count": 1
           },
           {
            "bin_end": 195347,
            "bin_start": 186423.5,
            "count": 0
           },
           {
            "bin_end": 204270.5,
            "bin_start": 195347,
            "count": 0
           },
           {
            "bin_end": 213194,
            "bin_start": 204270.5,
            "count": 2
           },
           {
            "bin_end": 222117.5,
            "bin_start": 213194,
            "count": 0
           },
           {
            "bin_end": 231041,
            "bin_start": 222117.5,
            "count": 1
           }
          ],
          "max": "231041.0",
          "min": "141806.0",
          "nan_count": 0,
          "unique_count": 5
         }
        },
        {
         "dtype": "float64",
         "name": "Valence",
         "stats": {
          "histogram": [
           {
            "bin_end": 0.5196,
            "bin_start": 0.478,
            "count": 1
           },
           {
            "bin_end": 0.5612,
            "bin_start": 0.5196,
            "count": 0
           },
           {
            "bin_end": 0.6028,
            "bin_start": 0.5612,
            "count": 2
           },
           {
            "bin_end": 0.6444,
            "bin_start": 0.6028,
            "count": 0
           },
           {
            "bin_end": 0.6859999999999999,
            "bin_start": 0.6444,
            "count": 0
           },
           {
            "bin_end": 0.7276,
            "bin_start": 0.6859999999999999,
            "count": 1
           },
           {
            "bin_end": 0.7692,
            "bin_start": 0.7276,
            "count": 0
           },
           {
            "bin_end": 0.8108,
            "bin_start": 0.7692,
            "count": 0
           },
           {
            "bin_end": 0.8524,
            "bin_start": 0.8108,
            "count": 0
           },
           {
            "bin_end": 0.894,
            "bin_start": 0.8524,
            "count": 1
           }
          ],
          "max": "0.894",
          "min": "0.478",
          "nan_count": 0,
          "unique_count": 5
         }
        },
        {
         "dtype": "object",
         "name": "Chord",
         "stats": {
          "categories": [
           {
            "count": 2,
            "name": "B"
           },
           {
            "count": 1,
            "name": "A"
           },
           {
            "count": 2,
            "name": "2 others"
           }
          ],
          "nan_count": 0,
          "unique_count": 4
         }
        },
        {
         "dtype": "int64",
         "name": "_deepnote_index_column"
        }
       ],
       "row_count": 5,
       "rows": [
        {
         "Acousticness": 0.127,
         "Artist": "Måneskin",
         "Artist Followers": "3377762",
         "Chord": "B",
         "Danceability": 0.714,
         "Duration (ms)": 211560,
         "Energy": 0.8,
         "Genre": "['indie rock italiano', 'italian pop']",
         "Highest Charting Position": 1,
         "Index": 1,
         "Liveness": 0.359,
         "Loudness": -4.808,
         "Number of Times Charted": 8,
         "Popularity": 100,
         "Release Date": "2017-12-08",
         "Song ID": "3Wrjm47oTz2sjIgck11l5e",
         "Song Name": "Beggin'",
         "Speechiness": 0.0504,
         "Streams": "48,633,449",
         "Tempo": 134.002,
         "Valence": 0.589,
         "Week of Highest Charting": "2021-07-23--2021-07-30",
         "Weeks Charted": "2021-07-23--2021-07-30\n2021-07-16--2021-07-23\n2021-07-09--2021-07-16\n2021-07-02--2021-07-09\n2021-06…",
         "_deepnote_index_column": 0
        },
        {
         "Acousticness": 0.0469,
         "Artist": "Ed Sheeran",
         "Artist Followers": "83293380",
         "Chord": "B",
         "Danceability": 0.808,
         "Duration (ms)": 231041,
         "Energy": 0.897,
         "Genre": "['pop', 'uk pop']",
         "Highest Charting Position": 3,
         "Index": 4,
         "Liveness": 0.364,
         "Loudness": -3.712,
         "Number of Times Charted": 5,
         "Popularity": 98,
         "Release Date": "2021-06-25",
         "Song ID": "6PQ88X9TkUIAUIZJHW2upE",
         "Song Name": "Bad Habits",
         "Speechiness": 0.0348,
         "Streams": "37,799,456",
         "Tempo": 126.026,
         "Valence": 0.591,
         "Week of Highest Charting": "2021-07-02--2021-07-09",
         "Weeks Charted": "2021-07-23--2021-07-30\n2021-07-16--2021-07-23\n2021-07-09--2021-07-16\n2021-07-02--2021-07-09\n2021-06…",
         "_deepnote_index_column": 1
        },
        {
         "Acousticness": 0.335,
         "Artist": "Olivia Rodrigo",
         "Artist Followers": "6266514",
         "Chord": "A",
         "Danceability": 0.563,
         "Duration (ms)": 178147,
         "Energy": 0.664,
         "Genre": "['pop']",
         "Highest Charting Position": 1,
         "Index": 3,
         "Liveness": 0.0849,
         "Loudness": -5.044,
         "Number of Times Charted": 11,
         "Popularity": 99,
         "Release Date": "2021-05-21",
         "Song ID": "4ZtFanR9U6ndgddUvNcjcG",
         "Song Name": "good 4 u",
         "Speechiness": 0.154,
         "Streams": "40,162,559",
         "Tempo": 166.928,
         "Valence": 0.688,
         "Week of Highest Charting": "2021-06-25--2021-07-02",
         "Weeks Charted": "2021-07-23--2021-07-30\n2021-07-16--2021-07-23\n2021-07-09--2021-07-16\n2021-07-02--2021-07-09\n2021-06…",
         "_deepnote_index_column": 2
        },
        {
         "Acousticness": 0.0383,
         "Artist": "The Kid LAROI",
         "Artist Followers": "2230022",
         "Chord": "C#/Db",
         "Danceability": 0.591,
         "Duration (ms)": 141806,
         "Energy": 0.764,
         "Genre": "['australian hip hop']",
         "Highest Charting Position": 2,
         "Index": 2,
         "Liveness": 0.103,
         "Loudness": -5.484,
         "Number of Times Charted": 3,
         "Popularity": 99,
         "Release Date": "2021-07-09",
         "Song ID": "5HCyWlXZPP0y6Gqq8TgA20",
         "Song Name": "STAY (with Justin Bieber)",
         "Speechiness": 0.0483,
         "Streams": "47,248,719",
         "Tempo": 169.928,
         "Valence": 0.478,
         "Week of Highest Charting": "2021-07-23--2021-07-30",
         "Weeks Charted": "2021-07-23--2021-07-30\n2021-07-16--2021-07-23\n2021-07-09--2021-07-16",
         "_deepnote_index_column": 3
        },
        {
         "Acousticness": 0.0203,
         "Artist": "Lil Nas X",
         "Artist Followers": "5473565",
         "Chord": "D#/Eb",
         "Danceability": 0.736,
         "Duration (ms)": 212000,
         "Energy": 0.704,
         "Genre": "['lgbtq+ hip hop', 'pop rap']",
         "Highest Charting Position": 5,
         "Index": 5,
         "Liveness": 0.0501,
         "Loudness": -7.409,
         "Number of Times Charted": 1,
         "Popularity": 96,
         "Release Date": "2021-07-23",
         "Song ID": "27NovPIUIRrOZoCHxABJwK",
         "Song Name": "INDUSTRY BABY (feat. Jack Harlow)",
         "Speechiness": 0.0615,
         "Streams": "33,948,454",
         "Tempo": 149.995,
         "Valence": 0.894,
         "Week of Highest Charting": "2021-07-23--2021-07-30",
         "Weeks Charted": "2021-07-23--2021-07-30",
         "_deepnote_index_column": 4
        }
       ]
      },
      "text/html": [
       "<div>\n",
       "<style scoped>\n",
       "    .dataframe tbody tr th:only-of-type {\n",
       "        vertical-align: middle;\n",
       "    }\n",
       "\n",
       "    .dataframe tbody tr th {\n",
       "        vertical-align: top;\n",
       "    }\n",
       "\n",
       "    .dataframe thead th {\n",
       "        text-align: right;\n",
       "    }\n",
       "</style>\n",
       "<table border=\"1\" class=\"dataframe\">\n",
       "  <thead>\n",
       "    <tr style=\"text-align: right;\">\n",
       "      <th></th>\n",
       "      <th>Index</th>\n",
       "      <th>Highest Charting Position</th>\n",
       "      <th>Number of Times Charted</th>\n",
       "      <th>Week of Highest Charting</th>\n",
       "      <th>Song Name</th>\n",
       "      <th>Streams</th>\n",
       "      <th>Artist</th>\n",
       "      <th>Artist Followers</th>\n",
       "      <th>Song ID</th>\n",
       "      <th>Genre</th>\n",
       "      <th>...</th>\n",
       "      <th>Danceability</th>\n",
       "      <th>Energy</th>\n",
       "      <th>Loudness</th>\n",
       "      <th>Speechiness</th>\n",
       "      <th>Acousticness</th>\n",
       "      <th>Liveness</th>\n",
       "      <th>Tempo</th>\n",
       "      <th>Duration (ms)</th>\n",
       "      <th>Valence</th>\n",
       "      <th>Chord</th>\n",
       "    </tr>\n",
       "  </thead>\n",
       "  <tbody>\n",
       "    <tr>\n",
       "      <th>0</th>\n",
       "      <td>1</td>\n",
       "      <td>1</td>\n",
       "      <td>8</td>\n",
       "      <td>2021-07-23--2021-07-30</td>\n",
       "      <td>Beggin'</td>\n",
       "      <td>48,633,449</td>\n",
       "      <td>Måneskin</td>\n",
       "      <td>3377762</td>\n",
       "      <td>3Wrjm47oTz2sjIgck11l5e</td>\n",
       "      <td>['indie rock italiano', 'italian pop']</td>\n",
       "      <td>...</td>\n",
       "      <td>0.714</td>\n",
       "      <td>0.800</td>\n",
       "      <td>-4.808</td>\n",
       "      <td>0.0504</td>\n",
       "      <td>0.1270</td>\n",
       "      <td>0.3590</td>\n",
       "      <td>134.002</td>\n",
       "      <td>211560.0</td>\n",
       "      <td>0.589</td>\n",
       "      <td>B</td>\n",
       "    </tr>\n",
       "    <tr>\n",
       "      <th>1</th>\n",
       "      <td>4</td>\n",
       "      <td>3</td>\n",
       "      <td>5</td>\n",
       "      <td>2021-07-02--2021-07-09</td>\n",
       "      <td>Bad Habits</td>\n",
       "      <td>37,799,456</td>\n",
       "      <td>Ed Sheeran</td>\n",
       "      <td>83293380</td>\n",
       "      <td>6PQ88X9TkUIAUIZJHW2upE</td>\n",
       "      <td>['pop', 'uk pop']</td>\n",
       "      <td>...</td>\n",
       "      <td>0.808</td>\n",
       "      <td>0.897</td>\n",
       "      <td>-3.712</td>\n",
       "      <td>0.0348</td>\n",
       "      <td>0.0469</td>\n",
       "      <td>0.3640</td>\n",
       "      <td>126.026</td>\n",
       "      <td>231041.0</td>\n",
       "      <td>0.591</td>\n",
       "      <td>B</td>\n",
       "    </tr>\n",
       "    <tr>\n",
       "      <th>2</th>\n",
       "      <td>3</td>\n",
       "      <td>1</td>\n",
       "      <td>11</td>\n",
       "      <td>2021-06-25--2021-07-02</td>\n",
       "      <td>good 4 u</td>\n",
       "      <td>40,162,559</td>\n",
       "      <td>Olivia Rodrigo</td>\n",
       "      <td>6266514</td>\n",
       "      <td>4ZtFanR9U6ndgddUvNcjcG</td>\n",
       "      <td>['pop']</td>\n",
       "      <td>...</td>\n",
       "      <td>0.563</td>\n",
       "      <td>0.664</td>\n",
       "      <td>-5.044</td>\n",
       "      <td>0.1540</td>\n",
       "      <td>0.3350</td>\n",
       "      <td>0.0849</td>\n",
       "      <td>166.928</td>\n",
       "      <td>178147.0</td>\n",
       "      <td>0.688</td>\n",
       "      <td>A</td>\n",
       "    </tr>\n",
       "    <tr>\n",
       "      <th>3</th>\n",
       "      <td>2</td>\n",
       "      <td>2</td>\n",
       "      <td>3</td>\n",
       "      <td>2021-07-23--2021-07-30</td>\n",
       "      <td>STAY (with Justin Bieber)</td>\n",
       "      <td>47,248,719</td>\n",
       "      <td>The Kid LAROI</td>\n",
       "      <td>2230022</td>\n",
       "      <td>5HCyWlXZPP0y6Gqq8TgA20</td>\n",
       "      <td>['australian hip hop']</td>\n",
       "      <td>...</td>\n",
       "      <td>0.591</td>\n",
       "      <td>0.764</td>\n",
       "      <td>-5.484</td>\n",
       "      <td>0.0483</td>\n",
       "      <td>0.0383</td>\n",
       "      <td>0.1030</td>\n",
       "      <td>169.928</td>\n",
       "      <td>141806.0</td>\n",
       "      <td>0.478</td>\n",
       "      <td>C#/Db</td>\n",
       "    </tr>\n",
       "    <tr>\n",
       "      <th>4</th>\n",
       "      <td>5</td>\n",
       "      <td>5</td>\n",
       "      <td>1</td>\n",
       "      <td>2021-07-23--2021-07-30</td>\n",
       "      <td>INDUSTRY BABY (feat. Jack Harlow)</td>\n",
       "      <td>33,948,454</td>\n",
       "      <td>Lil Nas X</td>\n",
       "      <td>5473565</td>\n",
       "      <td>27NovPIUIRrOZoCHxABJwK</td>\n",
       "      <td>['lgbtq+ hip hop', 'pop rap']</td>\n",
       "      <td>...</td>\n",
       "      <td>0.736</td>\n",
       "      <td>0.704</td>\n",
       "      <td>-7.409</td>\n",
       "      <td>0.0615</td>\n",
       "      <td>0.0203</td>\n",
       "      <td>0.0501</td>\n",
       "      <td>149.995</td>\n",
       "      <td>212000.0</td>\n",
       "      <td>0.894</td>\n",
       "      <td>D#/Eb</td>\n",
       "    </tr>\n",
       "  </tbody>\n",
       "</table>\n",
       "<p>5 rows × 23 columns</p>\n",
       "</div>"
      ],
      "text/plain": [
       "   Index  Highest Charting Position  Number of Times Charted  \\\n",
       "0      1                          1                        8   \n",
       "1      4                          3                        5   \n",
       "2      3                          1                       11   \n",
       "3      2                          2                        3   \n",
       "4      5                          5                        1   \n",
       "\n",
       "  Week of Highest Charting                          Song Name     Streams  \\\n",
       "0   2021-07-23--2021-07-30                            Beggin'  48,633,449   \n",
       "1   2021-07-02--2021-07-09                         Bad Habits  37,799,456   \n",
       "2   2021-06-25--2021-07-02                           good 4 u  40,162,559   \n",
       "3   2021-07-23--2021-07-30          STAY (with Justin Bieber)  47,248,719   \n",
       "4   2021-07-23--2021-07-30  INDUSTRY BABY (feat. Jack Harlow)  33,948,454   \n",
       "\n",
       "           Artist Artist Followers                 Song ID  \\\n",
       "0        Måneskin          3377762  3Wrjm47oTz2sjIgck11l5e   \n",
       "1      Ed Sheeran         83293380  6PQ88X9TkUIAUIZJHW2upE   \n",
       "2  Olivia Rodrigo          6266514  4ZtFanR9U6ndgddUvNcjcG   \n",
       "3   The Kid LAROI          2230022  5HCyWlXZPP0y6Gqq8TgA20   \n",
       "4       Lil Nas X          5473565  27NovPIUIRrOZoCHxABJwK   \n",
       "\n",
       "                                    Genre  ... Danceability Energy  Loudness  \\\n",
       "0  ['indie rock italiano', 'italian pop']  ...        0.714  0.800    -4.808   \n",
       "1                       ['pop', 'uk pop']  ...        0.808  0.897    -3.712   \n",
       "2                                 ['pop']  ...        0.563  0.664    -5.044   \n",
       "3                  ['australian hip hop']  ...        0.591  0.764    -5.484   \n",
       "4           ['lgbtq+ hip hop', 'pop rap']  ...        0.736  0.704    -7.409   \n",
       "\n",
       "   Speechiness  Acousticness  Liveness    Tempo  Duration (ms)  Valence  Chord  \n",
       "0       0.0504        0.1270    0.3590  134.002       211560.0    0.589      B  \n",
       "1       0.0348        0.0469    0.3640  126.026       231041.0    0.591      B  \n",
       "2       0.1540        0.3350    0.0849  166.928       178147.0    0.688      A  \n",
       "3       0.0483        0.0383    0.1030  169.928       141806.0    0.478  C#/Db  \n",
       "4       0.0615        0.0203    0.0501  149.995       212000.0    0.894  D#/Eb  \n",
       "\n",
       "[5 rows x 23 columns]"
      ]
     },
     "execution_count": 59,
     "metadata": {},
     "output_type": "execute_result"
    }
   ],
   "source": [
    "df.head()"
   ]
  },
  {
   "cell_type": "code",
   "execution_count": 60,
   "metadata": {
    "cell_id": "68166834-f381-49df-b979-86535a62606c",
    "deepnote_cell_type": "code",
    "deepnote_to_be_reexecuted": false,
    "execution_millis": 3,
    "execution_start": 1643215980901,
    "source_hash": "9d607c67",
    "tags": []
   },
   "outputs": [],
   "source": [
    "my_list = [1,10,3,5]"
   ]
  },
  {
   "cell_type": "code",
   "execution_count": 61,
   "metadata": {
    "cell_id": "14e4074b-52f2-4871-a6d5-629993846bd9",
    "deepnote_cell_type": "code",
    "deepnote_to_be_reexecuted": false,
    "execution_millis": 3,
    "execution_start": 1643216011690,
    "source_hash": "c5befdce",
    "tags": []
   },
   "outputs": [],
   "source": [
    "temp = my_list[2]\n",
    "my_list[2] = my_list[1]\n",
    "my_list[1] = temp"
   ]
  },
  {
   "cell_type": "code",
   "execution_count": 62,
   "metadata": {
    "cell_id": "bf1aac74-3e77-4900-bd73-950392de6e98",
    "deepnote_cell_type": "code",
    "deepnote_output_heights": [
     21.1875
    ],
    "deepnote_to_be_reexecuted": false,
    "execution_millis": 7,
    "execution_start": 1643216015074,
    "source_hash": "d76b7c80",
    "tags": []
   },
   "outputs": [
    {
     "data": {
      "text/plain": [
       "[1, 3, 10, 5]"
      ]
     },
     "execution_count": 62,
     "metadata": {},
     "output_type": "execute_result"
    }
   ],
   "source": [
    "my_list"
   ]
  },
  {
   "cell_type": "code",
   "execution_count": null,
   "metadata": {
    "cell_id": "8243a4c7-ad1a-45d7-80f0-bf272630475a",
    "deepnote_cell_type": "code",
    "tags": []
   },
   "outputs": [],
   "source": []
  },
  {
   "cell_type": "markdown",
   "metadata": {
    "created_in_deepnote_cell": true,
    "deepnote_cell_type": "markdown",
    "tags": []
   },
   "source": [
    "<a style='text-decoration:none;line-height:16px;display:flex;color:#5B5B62;padding:10px;justify-content:end;' href='https://deepnote.com?utm_source=created-in-deepnote-cell&projectId=d2dc5a23-8dc3-440f-9052-badb90ea4d5f' target=\"_blank\">\n",
    "<img alt='Created in deepnote.com' style='display:inline;max-height:16px;margin:0px;margin-right:7.5px;' src='data:image/svg+xml;base64,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' > </img>\n",
    "Created in <span style='font-weight:600;margin-left:4px;'>Deepnote</span></a>"
   ]
  }
 ],
 "metadata": {
  "deepnote": {
   "is_reactive": false
  },
  "deepnote_execution_queue": [],
  "deepnote_notebook_id": "a321d673-3541-4a8a-894e-d5802d4a958f",
  "kernelspec": {
   "display_name": "Python 3 (ipykernel)",
   "language": "python",
   "name": "python3"
  },
  "language_info": {
   "codemirror_mode": {
    "name": "ipython",
    "version": 3
   },
   "file_extension": ".py",
   "mimetype": "text/x-python",
   "name": "python",
   "nbconvert_exporter": "python",
   "pygments_lexer": "ipython3",
   "version": "3.9.9"
  }
 },
 "nbformat": 4,
 "nbformat_minor": 4
}
