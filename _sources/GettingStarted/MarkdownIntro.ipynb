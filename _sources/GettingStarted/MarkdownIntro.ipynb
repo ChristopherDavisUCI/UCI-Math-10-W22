{
 "cells": [
  {
   "cell_type": "markdown",
   "metadata": {
    "cell_id": "00000-b524ed2e-1f39-4d11-a2ca-75f439a22425",
    "deepnote_cell_type": "markdown",
    "deepnote_to_be_reexecuted": false,
    "execution_millis": 3,
    "execution_start": 1640298506686,
    "source_hash": "5c154dc0",
    "tags": []
   },
   "source": [
    "# Markdown Introduction\n",
    "\n",
    "This notebook is meant to introduce some basic functionality of markdown in Deepnote.\n",
    "\n",
    "If you want to make edits in this notebook, click the *Duplicate* button at the top-right.\n",
    "\n",
    "There are two basic types of cells, *code cells* and *markdown cells*.  This content is being written in a markdown cell, whereas the next part, starting with `a = 5`, is an example of a code cell."
   ]
  },
  {
   "cell_type": "code",
   "execution_count": null,
   "metadata": {
    "cell_id": "00001-868da11a-5490-4808-93c4-197def4dc0b5",
    "deepnote_cell_type": "code",
    "deepnote_to_be_reexecuted": false,
    "execution_millis": 5,
    "execution_start": 1641173343758,
    "source_hash": "6cebe7c0",
    "tags": []
   },
   "outputs": [
    {
     "name": "stdout",
     "output_type": "stream",
     "text": [
      "7\n"
     ]
    }
   ],
   "source": [
    "a = 5\n",
    "print(a+2)"
   ]
  },
  {
   "cell_type": "markdown",
   "metadata": {
    "cell_id": "00002-416a0982-fb81-492a-a7d9-8f394b433d21",
    "deepnote_cell_type": "markdown",
    "tags": []
   },
   "source": [
    "To execute a code cell, put your cursor in it (the cursor doesn't have to be at the end of the cell) and hit `shift+return`.  It might take about 30 seconds to start the hardware.  For this reason, I often run a short cell like `2+2` right when I open a notebook, even before I've decided what to do."
   ]
  },
  {
   "cell_type": "markdown",
   "metadata": {
    "cell_id": "00002-12f87fad-64eb-4983-ae1e-5bfcbff212b9",
    "deepnote_cell_type": "markdown",
    "tags": []
   },
   "source": [
    "Here is a basic [guide to markdown](https://www.markdownguide.org/basic-syntax).  (**Warning**: there are many different flavors of markdown, and while the basic functionality is the same, things that work on GitHub, for example, might not work on Deepnote.)\n",
    "\n",
    "As an example, to make the above text, I used the following:\n",
    "```\n",
    "Here is a basic [guide to markdown](https://www.markdownguide.org/basic-syntax).  (**Warning**: there are many ...\n",
    "```\n",
    "<br>\n",
    "\n",
    "To make a short code example, like `pd.read_csv(\"penguins.csv\")`, surround it in backticks `. On my keyboard, the backtick symbol is above the tab key.  (Backtick is not the same as apostrophe.)  To make a longer code block, surround it by triple backticks.  \n",
    "\n",
    "```\n",
    "for i in range(6):\n",
    "    print(i)\n",
    "```\n",
    "\n",
    "Even though the for loop looks like a code cell, it was written in markdown, so you can't execute it.  If you want to see how it was made, double-click anywhere in this markdown cell."
   ]
  }
 ],
 "metadata": {
  "deepnote": {
   "is_reactive": false
  },
  "deepnote_execution_queue": [],
  "deepnote_notebook_id": "b1dd4a20-2f26-4ae7-89a2-762bda707189",
  "kernelspec": {
   "display_name": "Python 3 (ipykernel)",
   "language": "python",
   "name": "python3"
  },
  "language_info": {
   "codemirror_mode": {
    "name": "ipython",
    "version": 3
   },
   "file_extension": ".py",
   "mimetype": "text/x-python",
   "name": "python",
   "nbconvert_exporter": "python",
   "pygments_lexer": "ipython3",
   "version": "3.9.9"
  }
 },
 "nbformat": 4,
 "nbformat_minor": 4
}
