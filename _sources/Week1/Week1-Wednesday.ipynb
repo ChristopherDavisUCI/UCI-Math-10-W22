{
 "cells": [
  {
   "cell_type": "markdown",
   "metadata": {},
   "source": [
    "# Wednesday Lecture"
   ]
  },
  {
   "cell_type": "markdown",
   "metadata": {
    "cell_id": "00000-7f81a0a3-1c53-4d28-ad5f-536c70fc55bb",
    "deepnote_cell_type": "markdown",
    "tags": []
   },
   "source": [
    "## Practice Exercises\n",
    "\n",
    "Try to solve the following:\n",
    "\n",
    "1.  Print the word *hello* 5 times.  Use a for loop.\n",
    "2.  Make a list containing the word *hello* 5 times.  Use list comprehension.\n",
    "3.  Make a list containing the even numbers from 0 to 20 (inclusive).  Save it with the name `even_list`.\n",
    "4.  Make a list containing the squares of the numbers in `even list`.\n",
    "5.  (This is probably too hard.  Try to find the answer by Google searching.)  Write code that turns an integer like `8245313` into a list of integers, like `[8,2,4,5,3,1,3]`.\n",
    "\n",
    "[Zoom recording from lecture on 1/5/2022](https://uci.zoom.us/rec/play/iYHrTAH6uuXDXghcxkT0-11CiVtobYMjXwTdz7Yg5Cs-DTTI9Fp-Fc93541ehy_R1BYe7PsKctpp_2sQ.P7YkKZ5pxC5j1S9f)"
   ]
  },
  {
   "cell_type": "markdown",
   "metadata": {},
   "source": [
    "## Answer 1"
   ]
  },
  {
   "cell_type": "code",
   "execution_count": 1,
   "metadata": {
    "cell_id": "00002-d0b7dd57-ec9e-407d-9a6f-5db0e4c32f2b",
    "deepnote_cell_type": "code",
    "deepnote_to_be_reexecuted": false,
    "execution_millis": 133,
    "execution_start": 1641401674958,
    "source_hash": "8bf813a7",
    "tags": []
   },
   "outputs": [
    {
     "name": "stdout",
     "output_type": "stream",
     "text": [
      "hello\n",
      "hello\n",
      "hello\n",
      "hello\n",
      "hello\n"
     ]
    }
   ],
   "source": [
    "for i in range(5):\n",
    "    print('hello')"
   ]
  },
  {
   "cell_type": "markdown",
   "metadata": {},
   "source": [
    "Since the variable name `i` is never used in the above code, some people would replace it with an underscore `_`.  I don't necessarily recommend doing this, but it is good to recognize it if you see it in somebody else's code."
   ]
  },
  {
   "cell_type": "code",
   "execution_count": null,
   "metadata": {
    "cell_id": "00003-edf2fc67-19db-4edb-b707-b937d3a94f83",
    "deepnote_cell_type": "code",
    "deepnote_to_be_reexecuted": false,
    "execution_millis": 108,
    "execution_start": 1641401674985,
    "source_hash": "dda7289c",
    "tags": []
   },
   "outputs": [
    {
     "name": "stdout",
     "output_type": "stream",
     "text": [
      "hello\n",
      "hello\n",
      "hello\n",
      "hello\n",
      "hello\n"
     ]
    }
   ],
   "source": [
    "for _ in range(5):\n",
    "    print('hello')"
   ]
  },
  {
   "cell_type": "markdown",
   "metadata": {},
   "source": [
    "## Answer 2\n",
    "\n",
    "I don't have a precise definition for what makes the following list comprehension, but the most important aspects are:\n",
    "* Square brackets (that makes it a list)\n",
    "* The thing you want to go into the list (in this case, the string `\"hello\"`)\n",
    "* How many repetitions/iterations there should be."
   ]
  },
  {
   "cell_type": "code",
   "execution_count": null,
   "metadata": {
    "cell_id": "00005-095bd028-6847-4df6-8944-2cdaa96cda3f",
    "deepnote_cell_type": "code",
    "deepnote_output_heights": [
     21.1875
    ],
    "deepnote_to_be_reexecuted": false,
    "execution_millis": 99,
    "execution_start": 1641401674998,
    "source_hash": "a52c792",
    "tags": []
   },
   "outputs": [
    {
     "data": {
      "text/plain": [
       "['hello', 'hello', 'hello', 'hello', 'hello']"
      ]
     },
     "execution_count": 6,
     "metadata": {},
     "output_type": "execute_result"
    }
   ],
   "source": [
    "[\"hello\" for x in range(5)]"
   ]
  },
  {
   "cell_type": "markdown",
   "metadata": {},
   "source": [
    "Some other approaches which are not list comprehension.\n",
    "\n",
    "You can combine two lists using `+`:"
   ]
  },
  {
   "cell_type": "code",
   "execution_count": 4,
   "metadata": {},
   "outputs": [
    {
     "data": {
      "text/plain": [
       "[1, 3, 5, 'hello', 'hello']"
      ]
     },
     "execution_count": 4,
     "metadata": {},
     "output_type": "execute_result"
    }
   ],
   "source": [
    "[1,3,5]+[\"hello\" for i in range(2)]"
   ]
  },
  {
   "cell_type": "markdown",
   "metadata": {},
   "source": [
    "So it makes sense that if you use `*`, that combines multiple copies of the same list:"
   ]
  },
  {
   "cell_type": "code",
   "execution_count": 5,
   "metadata": {
    "cell_id": "00004-e40de3f5-e068-4a22-8bc6-dd0bf8004f97",
    "deepnote_cell_type": "code",
    "deepnote_output_heights": [
     21.1875
    ],
    "deepnote_to_be_reexecuted": false,
    "execution_millis": 102,
    "execution_start": 1641401674993,
    "source_hash": "159b55a9",
    "tags": []
   },
   "outputs": [
    {
     "data": {
      "text/plain": [
       "['hello', 'hello', 'hello', 'hello', 'hello']"
      ]
     },
     "execution_count": 5,
     "metadata": {},
     "output_type": "execute_result"
    }
   ],
   "source": [
    "[\"hello\"]*5"
   ]
  },
  {
   "cell_type": "markdown",
   "metadata": {},
   "source": [
    "## Answer 3\n",
    "\n",
    "Here is one approach, using list comprehension:"
   ]
  },
  {
   "cell_type": "code",
   "execution_count": 6,
   "metadata": {
    "cell_id": "00008-af0d5155-fc61-4e9c-8d3e-73d0976686ec",
    "deepnote_cell_type": "code",
    "deepnote_output_heights": [
     21.1875
    ],
    "deepnote_to_be_reexecuted": false,
    "execution_millis": 96,
    "execution_start": 1641401675002,
    "source_hash": "51aceec0",
    "tags": []
   },
   "outputs": [
    {
     "data": {
      "text/plain": [
       "[0, 2, 4, 6, 8, 10, 12, 14, 16, 18, 20]"
      ]
     },
     "execution_count": 6,
     "metadata": {},
     "output_type": "execute_result"
    }
   ],
   "source": [
    "even_list = [x for x in range(0,22,2)]\n",
    "even_list"
   ]
  },
  {
   "cell_type": "markdown",
   "metadata": {},
   "source": [
    "Here is another approach, which converts the `range` object to a `list` object directly:"
   ]
  },
  {
   "cell_type": "code",
   "execution_count": null,
   "metadata": {
    "cell_id": "00009-3faf8242-3b52-41a0-b6bb-8c82eec1668c",
    "deepnote_cell_type": "code",
    "deepnote_output_heights": [
     21.1875
    ],
    "deepnote_to_be_reexecuted": false,
    "execution_millis": 85,
    "execution_start": 1641401675015,
    "source_hash": "a9e45515",
    "tags": []
   },
   "outputs": [
    {
     "data": {
      "text/plain": [
       "[0, 2, 4, 6, 8, 10, 12, 14, 16, 18, 20]"
      ]
     },
     "execution_count": 9,
     "metadata": {},
     "output_type": "execute_result"
    }
   ],
   "source": [
    "even_list = list(range(0,22,2))\n",
    "even_list"
   ]
  },
  {
   "cell_type": "markdown",
   "metadata": {},
   "source": [
    "## Timing in Deepnote notebooks\n",
    "\n",
    "The two approaches seem comparable in terms of speed."
   ]
  },
  {
   "cell_type": "code",
   "execution_count": 7,
   "metadata": {
    "cell_id": "00011-2fa1441c-1e79-4aac-af83-47577627b87f",
    "deepnote_cell_type": "code",
    "deepnote_to_be_reexecuted": false,
    "execution_millis": 4402,
    "execution_start": 1641401675039,
    "source_hash": "c8efe65e",
    "tags": []
   },
   "outputs": [
    {
     "name": "stdout",
     "output_type": "stream",
     "text": [
      "42.5 ms ± 488 µs per loop (mean ± std. dev. of 7 runs, 10 loops each)\n"
     ]
    }
   ],
   "source": [
    "%%timeit\n",
    "[x for x in range(0,2000000,2)]"
   ]
  },
  {
   "cell_type": "code",
   "execution_count": 8,
   "metadata": {
    "cell_id": "00012-7557264b-d6dd-45c1-b3a3-b39cc0f47b30",
    "deepnote_cell_type": "code",
    "deepnote_to_be_reexecuted": false,
    "execution_millis": 3051,
    "execution_start": 1641401679602,
    "source_hash": "5962f5e",
    "tags": []
   },
   "outputs": [
    {
     "name": "stdout",
     "output_type": "stream",
     "text": [
      "23.1 ms ± 377 µs per loop (mean ± std. dev. of 7 runs, 10 loops each)\n"
     ]
    }
   ],
   "source": [
    "%%timeit\n",
    "list(range(0,2000000,2))"
   ]
  },
  {
   "cell_type": "markdown",
   "metadata": {},
   "source": [
    "## Answer 4\n",
    "\n",
    "Again using list comprehension:"
   ]
  },
  {
   "cell_type": "code",
   "execution_count": null,
   "metadata": {
    "cell_id": "00011-b3affbe2-4e08-4053-87d2-df92a0b12f9a",
    "deepnote_cell_type": "code",
    "deepnote_output_heights": [
     21.1875
    ],
    "deepnote_to_be_reexecuted": false,
    "execution_millis": 9,
    "execution_start": 1641401682652,
    "source_hash": "d664f4e",
    "tags": []
   },
   "outputs": [
    {
     "data": {
      "text/plain": [
       "[0, 4, 16, 36, 64, 100, 144, 196, 256, 324, 400]"
      ]
     },
     "execution_count": 12,
     "metadata": {},
     "output_type": "execute_result"
    }
   ],
   "source": [
    "[i**2 for i in even_list]"
   ]
  },
  {
   "cell_type": "markdown",
   "metadata": {},
   "source": [
    "## Answer 5\n",
    "\n",
    "This question was difficult, but I hope each step in the answer makes sense."
   ]
  },
  {
   "cell_type": "code",
   "execution_count": 9,
   "metadata": {
    "cell_id": "00014-0cd33761-9962-4875-9eef-646cffc27c9a",
    "deepnote_cell_type": "code",
    "deepnote_output_heights": [
     21.1875
    ],
    "deepnote_to_be_reexecuted": false,
    "execution_millis": 22,
    "execution_start": 1641401682662,
    "source_hash": "1eafe870",
    "tags": []
   },
   "outputs": [
    {
     "data": {
      "text/plain": [
       "[8, 2, 4, 5, 3, 1, 3]"
      ]
     },
     "execution_count": 9,
     "metadata": {},
     "output_type": "execute_result"
    }
   ],
   "source": [
    "n = 8245313\n",
    "n_str = str(n)\n",
    "n_list = list(n_str)\n",
    "n_final = [int(x) for x in n_list]\n",
    "n_final"
   ]
  },
  {
   "cell_type": "markdown",
   "metadata": {},
   "source": [
    "If you want, you can do the whole thing at once:"
   ]
  },
  {
   "cell_type": "code",
   "execution_count": 11,
   "metadata": {
    "cell_id": "00015-b90a9642-d2a4-4f0e-aa09-55c691adb69a",
    "deepnote_cell_type": "code",
    "deepnote_output_heights": [
     21.1875
    ],
    "deepnote_to_be_reexecuted": false,
    "execution_millis": 14,
    "execution_start": 1641401682687,
    "source_hash": "6dd1ff42",
    "tags": []
   },
   "outputs": [
    {
     "data": {
      "text/plain": [
       "[8, 2, 4, 5, 3, 1, 3]"
      ]
     },
     "execution_count": 11,
     "metadata": {},
     "output_type": "execute_result"
    }
   ],
   "source": [
    "n = 8245313\n",
    "n_final = [int(x) for x in list(str(n))]\n",
    "n_final"
   ]
  },
  {
   "cell_type": "markdown",
   "metadata": {
    "cell_id": "00001-539ca58f-efa0-45f4-bc36-48688bec694d",
    "deepnote_cell_type": "markdown",
    "tags": []
   },
   "source": [
    "## Defining a function in Python\n",
    "\n",
    "Here is the basic syntax."
   ]
  },
  {
   "cell_type": "code",
   "execution_count": 12,
   "metadata": {
    "cell_id": "00002-b9ba752c-02a4-44b1-8c8c-5784d60454d6",
    "deepnote_cell_type": "code",
    "deepnote_to_be_reexecuted": false,
    "execution_millis": 1,
    "execution_start": 1641401682688,
    "source_hash": "62c78bea",
    "tags": []
   },
   "outputs": [],
   "source": [
    "def f(x):\n",
    "    return x**2"
   ]
  },
  {
   "cell_type": "code",
   "execution_count": null,
   "metadata": {
    "cell_id": "00018-bddafe72-13ed-4434-ac1d-d41c89a2904c",
    "deepnote_cell_type": "code",
    "deepnote_output_heights": [
     21.1875
    ],
    "deepnote_to_be_reexecuted": false,
    "execution_millis": 12,
    "execution_start": 1641401682689,
    "source_hash": "8ad7afe6",
    "tags": []
   },
   "outputs": [
    {
     "data": {
      "text/plain": [
       "100"
      ]
     },
     "execution_count": 16,
     "metadata": {},
     "output_type": "execute_result"
    }
   ],
   "source": [
    "f(10)"
   ]
  },
  {
   "cell_type": "markdown",
   "metadata": {},
   "source": [
    "It works equally well with multiple variables and multiple lines of code (just make sure they're all indented)."
   ]
  },
  {
   "cell_type": "code",
   "execution_count": null,
   "metadata": {
    "cell_id": "00019-52c31443-8a6f-4e9d-bf84-a02aecba9624",
    "deepnote_cell_type": "code",
    "deepnote_to_be_reexecuted": false,
    "execution_millis": 3,
    "execution_start": 1641401682690,
    "source_hash": "4cbf6822",
    "tags": []
   },
   "outputs": [],
   "source": [
    "def g(x,y):\n",
    "    z = x+y\n",
    "    return [\"hello\" for i in range(z)]"
   ]
  },
  {
   "cell_type": "code",
   "execution_count": null,
   "metadata": {
    "cell_id": "00020-cb81620a-9ea5-42ec-bee9-a3833ec567b1",
    "deepnote_cell_type": "code",
    "deepnote_output_heights": [
     21.1875
    ],
    "deepnote_to_be_reexecuted": false,
    "execution_millis": 45,
    "execution_start": 1641401682694,
    "source_hash": "abcbdb4b",
    "tags": []
   },
   "outputs": [
    {
     "data": {
      "text/plain": [
       "['hello', 'hello', 'hello']"
      ]
     },
     "execution_count": 18,
     "metadata": {},
     "output_type": "execute_result"
    }
   ],
   "source": [
    "g(2,1)"
   ]
  },
  {
   "cell_type": "code",
   "execution_count": null,
   "metadata": {
    "cell_id": "00021-5e3f7fe8-17d7-4793-9bd8-224d9aaab452",
    "deepnote_cell_type": "code",
    "deepnote_to_be_reexecuted": false,
    "execution_millis": 0,
    "execution_start": 1641401682705,
    "source_hash": "8384ffd5",
    "tags": []
   },
   "outputs": [],
   "source": [
    "def h(n):\n",
    "    i = n+2\n",
    "    return i**2"
   ]
  },
  {
   "cell_type": "code",
   "execution_count": null,
   "metadata": {
    "cell_id": "00022-8e800f68-3c79-408f-bb1a-312bab460f3b",
    "deepnote_cell_type": "code",
    "deepnote_output_heights": [
     21.1875
    ],
    "deepnote_to_be_reexecuted": false,
    "execution_millis": 36,
    "execution_start": 1641401682706,
    "source_hash": "8b30f2fb",
    "tags": []
   },
   "outputs": [
    {
     "data": {
      "text/plain": [
       "144"
      ]
     },
     "execution_count": 20,
     "metadata": {},
     "output_type": "execute_result"
    }
   ],
   "source": [
    "h(10)"
   ]
  },
  {
   "cell_type": "code",
   "execution_count": null,
   "metadata": {
    "cell_id": "00023-4fbacc03-a0a6-48b8-9982-78c982b59f20",
    "deepnote_cell_type": "code",
    "deepnote_output_heights": [
     21.1875
    ],
    "deepnote_to_be_reexecuted": false,
    "execution_millis": 27,
    "execution_start": 1641401682727,
    "source_hash": "f56f1c25",
    "tags": []
   },
   "outputs": [
    {
     "data": {
      "text/plain": [
       "18"
      ]
     },
     "execution_count": 21,
     "metadata": {},
     "output_type": "execute_result"
    }
   ],
   "source": [
    "h(2)+2"
   ]
  },
  {
   "cell_type": "markdown",
   "metadata": {},
   "source": [
    "It is okay to have the function not return anything, but then there is no output to use."
   ]
  },
  {
   "cell_type": "code",
   "execution_count": null,
   "metadata": {
    "cell_id": "00024-13e89248-5af7-45c9-952a-0ba5ab0c9da7",
    "deepnote_cell_type": "code",
    "deepnote_to_be_reexecuted": false,
    "execution_millis": 4,
    "execution_start": 1641401682729,
    "source_hash": "4ca8f264",
    "tags": []
   },
   "outputs": [],
   "source": [
    "def j(n):\n",
    "    for i in range(n):\n",
    "        print(\"hi\")"
   ]
  },
  {
   "cell_type": "markdown",
   "metadata": {},
   "source": [
    "Maybe it looks like there is an output:"
   ]
  },
  {
   "cell_type": "code",
   "execution_count": null,
   "metadata": {
    "cell_id": "00025-1668893d-746e-48f7-a8bf-ce1d22fe2858",
    "deepnote_cell_type": "code",
    "deepnote_to_be_reexecuted": false,
    "execution_millis": 21,
    "execution_start": 1641401682733,
    "source_hash": "a91427a7",
    "tags": []
   },
   "outputs": [
    {
     "name": "stdout",
     "output_type": "stream",
     "text": [
      "hi\n",
      "hi\n",
      "hi\n",
      "hi\n",
      "hi\n"
     ]
    }
   ],
   "source": [
    "z = j(5)"
   ]
  },
  {
   "cell_type": "markdown",
   "metadata": {},
   "source": [
    "But we can see that the \"output\" is a `NoneType`:"
   ]
  },
  {
   "cell_type": "code",
   "execution_count": null,
   "metadata": {
    "cell_id": "00026-8fe43203-71ad-4c5c-9895-298fae74e4d3",
    "deepnote_cell_type": "code",
    "deepnote_output_heights": [
     21.1875
    ],
    "deepnote_to_be_reexecuted": false,
    "execution_millis": 21,
    "execution_start": 1641401682734,
    "source_hash": "e38715a6",
    "tags": []
   },
   "outputs": [
    {
     "data": {
      "text/plain": [
       "NoneType"
      ]
     },
     "execution_count": 24,
     "metadata": {},
     "output_type": "execute_result"
    }
   ],
   "source": [
    "type(z)"
   ]
  },
  {
   "cell_type": "markdown",
   "metadata": {},
   "source": [
    "This can be a common source of mistakes.  For example, maybe the author of the next code wants `v` to be equal to `[3,3,2,5]`, but it isn't."
   ]
  },
  {
   "cell_type": "code",
   "execution_count": 13,
   "metadata": {
    "cell_id": "00029-c235f61e-f4da-46c7-a755-3eb982373f71",
    "deepnote_cell_type": "code",
    "deepnote_to_be_reexecuted": false,
    "execution_millis": 1,
    "execution_start": 1641401682750,
    "source_hash": "f6eaff59",
    "tags": []
   },
   "outputs": [],
   "source": [
    "w = [3,3,2]\n",
    "v = w.append(5)"
   ]
  },
  {
   "cell_type": "code",
   "execution_count": 14,
   "metadata": {
    "cell_id": "00030-99cec6f9-e5f6-4a0e-8042-19e59fd50a19",
    "deepnote_cell_type": "code",
    "deepnote_to_be_reexecuted": false,
    "execution_millis": 9,
    "execution_start": 1641401682757,
    "source_hash": "64b48b8",
    "tags": []
   },
   "outputs": [],
   "source": [
    "v"
   ]
  },
  {
   "cell_type": "code",
   "execution_count": 15,
   "metadata": {
    "cell_id": "00031-3b256a56-1281-439c-b14a-1b341e4296e7",
    "deepnote_cell_type": "code",
    "deepnote_output_heights": [
     21.1875
    ],
    "deepnote_to_be_reexecuted": false,
    "execution_millis": 5,
    "execution_start": 1641401682766,
    "source_hash": "4a2b6ebc",
    "tags": []
   },
   "outputs": [
    {
     "data": {
      "text/plain": [
       "NoneType"
      ]
     },
     "execution_count": 15,
     "metadata": {},
     "output_type": "execute_result"
    }
   ],
   "source": [
    "type(v)"
   ]
  },
  {
   "cell_type": "markdown",
   "metadata": {
    "cell_id": "00034-4ed30735-36e1-4ad4-9992-e256b97f7b28",
    "deepnote_cell_type": "code",
    "deepnote_to_be_reexecuted": true,
    "source_hash": "b623e53d",
    "tags": []
   },
   "source": [
    "The expression `w.append(5)` did not generate an output; instead, it changed the value of `w`."
   ]
  },
  {
   "cell_type": "code",
   "execution_count": 16,
   "metadata": {},
   "outputs": [
    {
     "data": {
      "text/plain": [
       "[3, 3, 2, 5]"
      ]
     },
     "execution_count": 16,
     "metadata": {},
     "output_type": "execute_result"
    }
   ],
   "source": [
    "w"
   ]
  }
 ],
 "metadata": {
  "deepnote": {
   "is_reactive": false
  },
  "deepnote_execution_queue": [],
  "deepnote_notebook_id": "fe793050-6fca-4d5b-b1d9-3bfb8c487477",
  "kernelspec": {
   "display_name": "Python 3 (ipykernel)",
   "language": "python",
   "name": "python3"
  },
  "language_info": {
   "codemirror_mode": {
    "name": "ipython",
    "version": 3
   },
   "file_extension": ".py",
   "mimetype": "text/x-python",
   "name": "python",
   "nbconvert_exporter": "python",
   "pygments_lexer": "ipython3",
   "version": "3.9.9"
  }
 },
 "nbformat": 4,
 "nbformat_minor": 4
}
