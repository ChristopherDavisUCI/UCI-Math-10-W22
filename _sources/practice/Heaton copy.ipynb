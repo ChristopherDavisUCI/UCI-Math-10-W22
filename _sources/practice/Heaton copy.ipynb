{
 "cells": [
  {
   "cell_type": "markdown",
   "id": "65ba64f1",
   "metadata": {},
   "source": [
    "Copied initially from Jeff Heaton"
   ]
  },
  {
   "cell_type": "code",
   "execution_count": 1,
   "id": "51bf8695",
   "metadata": {},
   "outputs": [
    {
     "name": "stdout",
     "output_type": "stream",
     "text": [
      "Epoch 0, loss: 1.1518142223358154\n",
      "Epoch 100, loss: 0.5731745958328247\n",
      "Epoch 200, loss: 0.5707002878189087\n",
      "Epoch 300, loss: 0.5699346661567688\n",
      "Epoch 400, loss: 0.5696430206298828\n",
      "Epoch 500, loss: 0.5695052146911621\n",
      "Epoch 600, loss: 0.5694369673728943\n",
      "Epoch 700, loss: 0.5693982243537903\n",
      "Epoch 800, loss: 0.5693722367286682\n",
      "Epoch 900, loss: 0.5693554878234863\n"
     ]
    }
   ],
   "source": [
    "import pandas as pd\n",
    "from sklearn.model_selection import train_test_split\n",
    "from sklearn.metrics import accuracy_score\n",
    "\n",
    "import torch\n",
    "import torch.nn as nn\n",
    "import torch.nn.functional as F\n",
    "import numpy as np\n",
    "from torch.autograd import Variable\n",
    "from sklearn import preprocessing\n",
    "\n",
    "\n",
    "class Net(nn.Module):\n",
    "    def __init__(self, in_count, out_count):\n",
    "        super(Net, self).__init__()\n",
    "        self.fc1 = nn.Linear(in_count, 50)\n",
    "        self.fc2 = nn.Linear(50, 25)\n",
    "        self.fc3 = nn.Linear(25, out_count)\n",
    "        self.softmax = nn.Softmax(dim=1)\n",
    "\n",
    "    def forward(self, x):\n",
    "        x = F.relu(self.fc1(x))\n",
    "        x = self.fc2(x)\n",
    "        x = self.fc3(x)\n",
    "        return self.softmax(x)\n",
    "\n",
    "    \n",
    "df = pd.read_csv(\n",
    "    \"https://data.heatonresearch.com/data/t81-558/iris.csv\", \n",
    "    na_values=['NA', '?'])\n",
    "\n",
    "le = preprocessing.LabelEncoder()\n",
    "\n",
    "x = df[['sepal_l', 'sepal_w', 'petal_l', 'petal_w']].values\n",
    "y = le.fit_transform(df['species'])\n",
    "classes = le.classes_\n",
    "\n",
    "x_train, x_test, y_train, y_test = train_test_split(    \n",
    "    x, y, test_size=0.25, random_state=42)\n",
    "\n",
    "x_train = Variable(torch.Tensor(x_train).float())\n",
    "x_test = Variable(torch.Tensor(x_test).float())\n",
    "y_train = Variable(torch.Tensor(y_train).long())\n",
    "y_test = Variable(torch.Tensor(y_test).long())\n",
    "\n",
    "net = Net(x.shape[1],len(classes))\n",
    "\n",
    "criterion = nn.CrossEntropyLoss()# cross entropy loss\n",
    "\n",
    "#optimizer = torch.optim.SGD(net.parameters(), lr=0.01)\n",
    "optimizer = torch.optim.Adam(net.parameters(), lr=0.01)\n",
    "\n",
    "for epoch in range(1000):\n",
    "    optimizer.zero_grad()\n",
    "    out = net(x_train)\n",
    "    loss = criterion(out, y_train)\n",
    "    loss.backward()\n",
    "    optimizer.step()\n",
    "    \n",
    "    if epoch % 100 == 0:\n",
    "        print(f\"Epoch {epoch}, loss: {loss.item()}\")\n",
    "\n",
    "pred_prob = net(x_test)\n",
    "_, pred = torch.max(pred_prob, 1)"
   ]
  },
  {
   "cell_type": "code",
   "execution_count": null,
   "id": "fe020422",
   "metadata": {},
   "outputs": [],
   "source": []
  }
 ],
 "metadata": {
  "kernelspec": {
   "display_name": "Python 3 (ipykernel)",
   "language": "python",
   "name": "python3"
  },
  "language_info": {
   "codemirror_mode": {
    "name": "ipython",
    "version": 3
   },
   "file_extension": ".py",
   "mimetype": "text/x-python",
   "name": "python",
   "nbconvert_exporter": "python",
   "pygments_lexer": "ipython3",
   "version": "3.9.7"
  }
 },
 "nbformat": 4,
 "nbformat_minor": 5
}
