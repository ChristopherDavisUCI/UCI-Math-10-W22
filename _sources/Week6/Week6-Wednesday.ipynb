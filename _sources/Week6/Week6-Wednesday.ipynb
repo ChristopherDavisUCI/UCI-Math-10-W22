{
 "cells": [
  {
   "cell_type": "markdown",
   "metadata": {
    "cell_id": "bd95d068-8e9e-43f6-a533-5bd926ce2ead",
    "deepnote_cell_type": "markdown",
    "tags": []
   },
   "source": [
    "# K nearest neighbors regressor\n",
    "\n",
    "[YuJa recording](https://uci.yuja.com/V/Video?v=4348961&node=14654381&a=1301700135&autoplay=1)\n",
    "\n",
    "Before the recording, we introduced the K-Nearest Neighbors Classifier and the K-Nearest Neighbors Regressor.  We mentioned that larger K corresponds to smaller variance (so over-fitting is more likely to occur with smaller values of K).  We also discussed the training error curve and test error curve, like from the figures in Chapter 2 of *Introduction to Statistical Learning*."
   ]
  },
  {
   "cell_type": "code",
   "execution_count": 1,
   "metadata": {
    "cell_id": "54dd3d8a-8ded-4b22-a611-e0511993607e",
    "deepnote_cell_type": "code",
    "deepnote_to_be_reexecuted": false,
    "execution_millis": 25547,
    "execution_start": 1644423889409,
    "source_hash": "970b70e1",
    "tags": []
   },
   "outputs": [],
   "source": [
    "import numpy as np\n",
    "import pandas as pd\n",
    "import seaborn as sns\n",
    "import altair as alt\n",
    "from sklearn.neighbors import KNeighborsRegressor, KNeighborsClassifier\n",
    "from sklearn.model_selection import train_test_split\n",
    "from sklearn.metrics import mean_squared_error, mean_absolute_error"
   ]
  },
  {
   "cell_type": "code",
   "execution_count": 2,
   "metadata": {
    "cell_id": "ec6f2c94-53bd-4d2f-a0e4-a9fac9dce1ee",
    "deepnote_cell_type": "code",
    "deepnote_to_be_reexecuted": false,
    "execution_millis": 10,
    "execution_start": 1644424021388,
    "source_hash": "fd5e24a9",
    "tags": []
   },
   "outputs": [],
   "source": [
    "df = sns.load_dataset(\"penguins\")\n",
    "#df = df.dropna()\n",
    "df.dropna(inplace=True)"
   ]
  },
  {
   "cell_type": "code",
   "execution_count": 3,
   "metadata": {
    "cell_id": "e729e857-e300-4a1d-bd23-5289e46f27f1",
    "deepnote_cell_type": "code",
    "deepnote_to_be_reexecuted": false,
    "execution_millis": 19,
    "execution_start": 1644424063026,
    "source_hash": "de1e323c",
    "tags": []
   },
   "outputs": [
    {
     "name": "stdout",
     "output_type": "stream",
     "text": [
      "<class 'pandas.core.frame.DataFrame'>\n",
      "Int64Index: 333 entries, 0 to 343\n",
      "Data columns (total 7 columns):\n",
      " #   Column             Non-Null Count  Dtype  \n",
      "---  ------             --------------  -----  \n",
      " 0   species            333 non-null    object \n",
      " 1   island             333 non-null    object \n",
      " 2   bill_length_mm     333 non-null    float64\n",
      " 3   bill_depth_mm      333 non-null    float64\n",
      " 4   flipper_length_mm  333 non-null    float64\n",
      " 5   body_mass_g        333 non-null    float64\n",
      " 6   sex                333 non-null    object \n",
      "dtypes: float64(4), object(3)\n",
      "memory usage: 20.8+ KB\n"
     ]
    }
   ],
   "source": [
    "df.info()"
   ]
  },
  {
   "cell_type": "markdown",
   "metadata": {},
   "source": [
    "It would be better to rescale the data first (i.e., to normalize the data).  We'll talk about that soon but we're skipping it for now."
   ]
  },
  {
   "cell_type": "code",
   "execution_count": 4,
   "metadata": {
    "cell_id": "611d6deb-9246-4d29-857a-7ff9a36dfd9f",
    "deepnote_cell_type": "code",
    "deepnote_to_be_reexecuted": false,
    "execution_millis": 662,
    "execution_start": 1644424368678,
    "source_hash": "5e951575",
    "tags": []
   },
   "outputs": [],
   "source": [
    "X_train, X_test, y_train, y_test = train_test_split(\n",
    "    df[[\"bill_length_mm\",\"bill_depth_mm\",\"flipper_length_mm\"]], df[\"body_mass_g\"], test_size = 0.5)"
   ]
  },
  {
   "cell_type": "code",
   "execution_count": 5,
   "metadata": {
    "cell_id": "073a7115-f335-4c18-99b9-79b5f6566ccd",
    "deepnote_cell_type": "code",
    "deepnote_output_heights": [
     21
    ],
    "deepnote_to_be_reexecuted": false,
    "execution_millis": 24,
    "execution_start": 1644424383662,
    "source_hash": "38f368cd",
    "tags": []
   },
   "outputs": [
    {
     "data": {
      "text/plain": [
       "(166, 3)"
      ]
     },
     "execution_count": 5,
     "metadata": {},
     "output_type": "execute_result"
    }
   ],
   "source": [
    "X_train.shape"
   ]
  },
  {
   "cell_type": "markdown",
   "metadata": {},
   "source": [
    "The syntax for performing K-Nearest Neighbors regression using scikit-learn is essentially the same as the syntax for performing linear regression."
   ]
  },
  {
   "cell_type": "code",
   "execution_count": 6,
   "metadata": {
    "cell_id": "b9c258a2-8b0b-4916-87cb-0e3a4f7e2eb3",
    "deepnote_cell_type": "code",
    "deepnote_to_be_reexecuted": false,
    "execution_millis": 1,
    "execution_start": 1644424128499,
    "source_hash": "ba1bc8eb",
    "tags": []
   },
   "outputs": [],
   "source": [
    "reg = KNeighborsRegressor(n_neighbors=10)"
   ]
  },
  {
   "cell_type": "code",
   "execution_count": 7,
   "metadata": {
    "cell_id": "082659a7-df06-44da-a424-5f92eb865076",
    "deepnote_cell_type": "code",
    "deepnote_output_heights": [
     21
    ],
    "deepnote_to_be_reexecuted": false,
    "execution_millis": 16,
    "execution_start": 1644424523994,
    "source_hash": "d18187b5",
    "tags": []
   },
   "outputs": [
    {
     "data": {
      "text/plain": [
       "KNeighborsRegressor(n_neighbors=10)"
      ]
     },
     "execution_count": 7,
     "metadata": {},
     "output_type": "execute_result"
    }
   ],
   "source": [
    "reg.fit(X_train, y_train)"
   ]
  },
  {
   "cell_type": "code",
   "execution_count": 8,
   "metadata": {
    "cell_id": "1b7292c2-7421-42ce-b97c-de9dbf38da86",
    "deepnote_cell_type": "code",
    "deepnote_output_heights": [
     405
    ],
    "deepnote_to_be_reexecuted": false,
    "execution_millis": 2,
    "execution_start": 1644424524017,
    "source_hash": "6a021837",
    "tags": []
   },
   "outputs": [
    {
     "data": {
      "text/plain": [
       "array([4652.5, 5000. , 3460. , 3835. , 3347.5, 4785. , 4757.5, 5505. ,\n",
       "       4072.5, 3572.5, 4582.5, 4490. , 3690. , 3295. , 5530. , 3560. ,\n",
       "       3605. , 3600. , 4525. , 3395. , 5490. , 3600. , 3475. , 3540. ,\n",
       "       4460. , 5580. , 5322.5, 3520. , 3927.5, 4987.5, 4862.5, 5257.5,\n",
       "       3632.5, 4200. , 3987.5, 5580. , 3915. , 3660. , 3335. , 3720. ,\n",
       "       4812.5, 3912.5, 4862.5, 3342.5, 5580. , 3517.5, 4040. , 5450. ,\n",
       "       3605. , 3347.5, 3927.5, 4020. , 4982.5, 3865. , 4060. , 4067.5,\n",
       "       3295. , 3865. , 5440. , 3435. , 3607.5, 3712.5, 3522.5, 3517.5,\n",
       "       3830. , 3720. , 4835. , 3477.5, 4795. , 3960. , 3637.5, 4995. ,\n",
       "       4640. , 5460. , 4010. , 3777.5, 3582.5, 3565. , 4465. , 3705. ,\n",
       "       3622.5, 3767.5, 3517.5, 3742.5, 3347.5, 5530. , 4550. , 3875. ,\n",
       "       4952.5, 3837.5, 3530. , 5630. , 4907.5, 3670. , 5595. , 5580. ,\n",
       "       3892.5, 4360. , 4507.5, 5132.5, 3830. , 4622.5, 3912.5, 3295. ,\n",
       "       3840. , 3555. , 3745. , 4987.5, 3690. , 5147.5, 3547.5, 3595. ,\n",
       "       5297.5, 3595. , 4360. , 4895. , 4620. , 3742.5, 4020. , 3777.5,\n",
       "       4425. , 5135. , 3495. , 3430. , 3397.5, 5180. , 3747.5, 3370. ,\n",
       "       4775. , 5232.5, 3377.5, 3865. , 5460. , 4890. , 3917.5, 4022.5,\n",
       "       5580. , 3692.5, 5595. , 4047.5, 5277.5, 3927.5, 5460. , 3705. ,\n",
       "       3865. , 5630. , 4890. , 3335. , 5070. , 3865. , 3520. , 3600. ,\n",
       "       4360. , 4010. , 3462.5, 3762.5, 4680. , 3537.5, 3602.5, 3507.5,\n",
       "       3900. , 4972.5, 3835. , 3540. , 5070. , 3835. , 5387.5])"
      ]
     },
     "execution_count": 8,
     "metadata": {},
     "output_type": "execute_result"
    }
   ],
   "source": [
    "reg.predict(X_test)"
   ]
  },
  {
   "cell_type": "code",
   "execution_count": 9,
   "metadata": {
    "cell_id": "2af0b63d-fe4f-45fb-8104-38cd0d961721",
    "deepnote_cell_type": "code",
    "deepnote_output_heights": [
     21
    ],
    "deepnote_to_be_reexecuted": false,
    "execution_millis": 16,
    "execution_start": 1644424648802,
    "source_hash": "251bcee5",
    "tags": []
   },
   "outputs": [
    {
     "data": {
      "text/plain": [
       "(167, 3)"
      ]
     },
     "execution_count": 9,
     "metadata": {},
     "output_type": "execute_result"
    }
   ],
   "source": [
    "X_test.shape"
   ]
  },
  {
   "cell_type": "code",
   "execution_count": 10,
   "metadata": {
    "cell_id": "7a5c2c55-846e-423a-a473-16c57106ddb1",
    "deepnote_cell_type": "code",
    "deepnote_output_heights": [
     21
    ],
    "deepnote_to_be_reexecuted": false,
    "execution_millis": 30,
    "execution_start": 1644424658097,
    "source_hash": "f3019309",
    "tags": []
   },
   "outputs": [
    {
     "data": {
      "text/plain": [
       "272.45508982035926"
      ]
     },
     "execution_count": 10,
     "metadata": {},
     "output_type": "execute_result"
    }
   ],
   "source": [
    "mean_absolute_error(reg.predict(X_test), y_test)"
   ]
  },
  {
   "cell_type": "code",
   "execution_count": 11,
   "metadata": {
    "cell_id": "c3451935-f192-4e4e-ba38-0b6edac8e390",
    "deepnote_cell_type": "code",
    "deepnote_output_heights": [
     21
    ],
    "deepnote_to_be_reexecuted": false,
    "execution_millis": 271,
    "execution_start": 1644424707335,
    "source_hash": "abbbb7ce",
    "tags": []
   },
   "outputs": [
    {
     "data": {
      "text/plain": [
       "261.0843373493976"
      ]
     },
     "execution_count": 11,
     "metadata": {},
     "output_type": "execute_result"
    }
   ],
   "source": [
    "mean_absolute_error(reg.predict(X_train), y_train)"
   ]
  },
  {
   "cell_type": "markdown",
   "metadata": {},
   "source": [
    "The above numbers are similar, with `reg` performing just slightly better on the training data.  That suggests that for this training set, we are not overfitting the data when using K=10."
   ]
  },
  {
   "cell_type": "code",
   "execution_count": 12,
   "metadata": {
    "cell_id": "bb229005-cc38-471d-9bc0-97623b44cd40",
    "deepnote_cell_type": "code",
    "deepnote_to_be_reexecuted": false,
    "execution_millis": 1,
    "execution_start": 1644424905451,
    "source_hash": "1cf46215",
    "tags": []
   },
   "outputs": [],
   "source": [
    "def get_scores(k):\n",
    "    reg = KNeighborsRegressor(n_neighbors=k)\n",
    "    reg.fit(X_train, y_train)\n",
    "    train_error = mean_absolute_error(reg.predict(X_train), y_train)\n",
    "    test_error = mean_absolute_error(reg.predict(X_test), y_test)\n",
    "    return (train_error, test_error)"
   ]
  },
  {
   "cell_type": "code",
   "execution_count": 13,
   "metadata": {
    "cell_id": "1c52e947-f88f-4047-bf88-31774e92b34d",
    "deepnote_cell_type": "code",
    "deepnote_output_heights": [
     21
    ],
    "deepnote_to_be_reexecuted": false,
    "execution_millis": 26,
    "execution_start": 1644424906679,
    "source_hash": "99708d02",
    "tags": []
   },
   "outputs": [
    {
     "data": {
      "text/plain": [
       "(261.0843373493976, 272.45508982035926)"
      ]
     },
     "execution_count": 13,
     "metadata": {},
     "output_type": "execute_result"
    }
   ],
   "source": [
    "get_scores(10)"
   ]
  },
  {
   "cell_type": "code",
   "execution_count": 14,
   "metadata": {
    "cell_id": "859f4f49-bd56-4926-905b-b6967961f514",
    "deepnote_cell_type": "code",
    "deepnote_output_heights": [
     21
    ],
    "deepnote_to_be_reexecuted": false,
    "execution_millis": 21,
    "execution_start": 1644424907592,
    "source_hash": "698e82f2",
    "tags": []
   },
   "outputs": [
    {
     "data": {
      "text/plain": [
       "(0.0, 372.90419161676647)"
      ]
     },
     "execution_count": 14,
     "metadata": {},
     "output_type": "execute_result"
    }
   ],
   "source": [
    "get_scores(1)"
   ]
  },
  {
   "cell_type": "code",
   "execution_count": 15,
   "metadata": {
    "cell_id": "587af0d7-b8cd-4382-9705-bf6dc91d3ab0",
    "deepnote_cell_type": "code",
    "deepnote_to_be_reexecuted": false,
    "execution_millis": 5,
    "execution_start": 1644425035093,
    "source_hash": "95d406bb",
    "tags": []
   },
   "outputs": [],
   "source": [
    "df_scores = pd.DataFrame({\"k\":range(1,150),\"train_error\":np.nan,\"test_error\":np.nan})"
   ]
  },
  {
   "cell_type": "code",
   "execution_count": 16,
   "metadata": {
    "cell_id": "1e5056f2-bc69-4b56-9ebd-6b929d0c6914",
    "deepnote_cell_type": "code",
    "deepnote_to_be_reexecuted": false,
    "execution_millis": 43,
    "execution_start": 1644425036512,
    "source_hash": "7ddb3e1e",
    "tags": []
   },
   "outputs": [
    {
     "data": {
      "text/html": [
       "<div>\n",
       "<style scoped>\n",
       "    .dataframe tbody tr th:only-of-type {\n",
       "        vertical-align: middle;\n",
       "    }\n",
       "\n",
       "    .dataframe tbody tr th {\n",
       "        vertical-align: top;\n",
       "    }\n",
       "\n",
       "    .dataframe thead th {\n",
       "        text-align: right;\n",
       "    }\n",
       "</style>\n",
       "<table border=\"1\" class=\"dataframe\">\n",
       "  <thead>\n",
       "    <tr style=\"text-align: right;\">\n",
       "      <th></th>\n",
       "      <th>k</th>\n",
       "      <th>train_error</th>\n",
       "      <th>test_error</th>\n",
       "    </tr>\n",
       "  </thead>\n",
       "  <tbody>\n",
       "    <tr>\n",
       "      <th>0</th>\n",
       "      <td>1</td>\n",
       "      <td>NaN</td>\n",
       "      <td>NaN</td>\n",
       "    </tr>\n",
       "    <tr>\n",
       "      <th>1</th>\n",
       "      <td>2</td>\n",
       "      <td>NaN</td>\n",
       "      <td>NaN</td>\n",
       "    </tr>\n",
       "    <tr>\n",
       "      <th>2</th>\n",
       "      <td>3</td>\n",
       "      <td>NaN</td>\n",
       "      <td>NaN</td>\n",
       "    </tr>\n",
       "    <tr>\n",
       "      <th>3</th>\n",
       "      <td>4</td>\n",
       "      <td>NaN</td>\n",
       "      <td>NaN</td>\n",
       "    </tr>\n",
       "    <tr>\n",
       "      <th>4</th>\n",
       "      <td>5</td>\n",
       "      <td>NaN</td>\n",
       "      <td>NaN</td>\n",
       "    </tr>\n",
       "    <tr>\n",
       "      <th>...</th>\n",
       "      <td>...</td>\n",
       "      <td>...</td>\n",
       "      <td>...</td>\n",
       "    </tr>\n",
       "    <tr>\n",
       "      <th>144</th>\n",
       "      <td>145</td>\n",
       "      <td>NaN</td>\n",
       "      <td>NaN</td>\n",
       "    </tr>\n",
       "    <tr>\n",
       "      <th>145</th>\n",
       "      <td>146</td>\n",
       "      <td>NaN</td>\n",
       "      <td>NaN</td>\n",
       "    </tr>\n",
       "    <tr>\n",
       "      <th>146</th>\n",
       "      <td>147</td>\n",
       "      <td>NaN</td>\n",
       "      <td>NaN</td>\n",
       "    </tr>\n",
       "    <tr>\n",
       "      <th>147</th>\n",
       "      <td>148</td>\n",
       "      <td>NaN</td>\n",
       "      <td>NaN</td>\n",
       "    </tr>\n",
       "    <tr>\n",
       "      <th>148</th>\n",
       "      <td>149</td>\n",
       "      <td>NaN</td>\n",
       "      <td>NaN</td>\n",
       "    </tr>\n",
       "  </tbody>\n",
       "</table>\n",
       "<p>149 rows × 3 columns</p>\n",
       "</div>"
      ],
      "text/plain": [
       "       k  train_error  test_error\n",
       "0      1          NaN         NaN\n",
       "1      2          NaN         NaN\n",
       "2      3          NaN         NaN\n",
       "3      4          NaN         NaN\n",
       "4      5          NaN         NaN\n",
       "..   ...          ...         ...\n",
       "144  145          NaN         NaN\n",
       "145  146          NaN         NaN\n",
       "146  147          NaN         NaN\n",
       "147  148          NaN         NaN\n",
       "148  149          NaN         NaN\n",
       "\n",
       "[149 rows x 3 columns]"
      ]
     },
     "execution_count": 16,
     "metadata": {},
     "output_type": "execute_result"
    }
   ],
   "source": [
    "df_scores"
   ]
  },
  {
   "cell_type": "code",
   "execution_count": 17,
   "metadata": {
    "cell_id": "09f31539-efb7-46f2-bc13-c00c6bfd8c6b",
    "deepnote_cell_type": "code",
    "deepnote_output_heights": [
     59.59375
    ],
    "deepnote_to_be_reexecuted": false,
    "execution_millis": 1,
    "execution_start": 1644425131876,
    "source_hash": "9bc8bb19",
    "tags": []
   },
   "outputs": [],
   "source": [
    "df_scores.loc[0,[\"train_error\",\"test_error\"]] = get_scores(1)"
   ]
  },
  {
   "cell_type": "code",
   "execution_count": 18,
   "metadata": {
    "cell_id": "3edfa3a2-f925-4703-b9f9-3a5cb6afaf95",
    "deepnote_cell_type": "code",
    "deepnote_to_be_reexecuted": false,
    "execution_millis": 11,
    "execution_start": 1644425139276,
    "source_hash": "f9244eee",
    "tags": []
   },
   "outputs": [
    {
     "data": {
      "text/html": [
       "<div>\n",
       "<style scoped>\n",
       "    .dataframe tbody tr th:only-of-type {\n",
       "        vertical-align: middle;\n",
       "    }\n",
       "\n",
       "    .dataframe tbody tr th {\n",
       "        vertical-align: top;\n",
       "    }\n",
       "\n",
       "    .dataframe thead th {\n",
       "        text-align: right;\n",
       "    }\n",
       "</style>\n",
       "<table border=\"1\" class=\"dataframe\">\n",
       "  <thead>\n",
       "    <tr style=\"text-align: right;\">\n",
       "      <th></th>\n",
       "      <th>k</th>\n",
       "      <th>train_error</th>\n",
       "      <th>test_error</th>\n",
       "    </tr>\n",
       "  </thead>\n",
       "  <tbody>\n",
       "    <tr>\n",
       "      <th>0</th>\n",
       "      <td>1</td>\n",
       "      <td>0.0</td>\n",
       "      <td>372.904192</td>\n",
       "    </tr>\n",
       "    <tr>\n",
       "      <th>1</th>\n",
       "      <td>2</td>\n",
       "      <td>NaN</td>\n",
       "      <td>NaN</td>\n",
       "    </tr>\n",
       "    <tr>\n",
       "      <th>2</th>\n",
       "      <td>3</td>\n",
       "      <td>NaN</td>\n",
       "      <td>NaN</td>\n",
       "    </tr>\n",
       "    <tr>\n",
       "      <th>3</th>\n",
       "      <td>4</td>\n",
       "      <td>NaN</td>\n",
       "      <td>NaN</td>\n",
       "    </tr>\n",
       "    <tr>\n",
       "      <th>4</th>\n",
       "      <td>5</td>\n",
       "      <td>NaN</td>\n",
       "      <td>NaN</td>\n",
       "    </tr>\n",
       "  </tbody>\n",
       "</table>\n",
       "</div>"
      ],
      "text/plain": [
       "   k  train_error  test_error\n",
       "0  1          0.0  372.904192\n",
       "1  2          NaN         NaN\n",
       "2  3          NaN         NaN\n",
       "3  4          NaN         NaN\n",
       "4  5          NaN         NaN"
      ]
     },
     "execution_count": 18,
     "metadata": {},
     "output_type": "execute_result"
    }
   ],
   "source": [
    "df_scores.head()"
   ]
  },
  {
   "cell_type": "markdown",
   "metadata": {},
   "source": [
    "We often avoid using `for` loops in Math 10, but I couldn't find a better way to fill in this data.  Let me know if you see a more Pythonic approach!"
   ]
  },
  {
   "cell_type": "code",
   "execution_count": 24,
   "metadata": {
    "cell_id": "37e4efbb-e3e5-45b1-991d-2e7895513e30",
    "deepnote_cell_type": "code",
    "deepnote_to_be_reexecuted": false,
    "execution_millis": 25986,
    "execution_start": 1644425221029,
    "source_hash": "1ea9f290",
    "tags": []
   },
   "outputs": [],
   "source": [
    "for i in df_scores.index:\n",
    "    df_scores.loc[i,[\"train_error\",\"test_error\"]] = get_scores(df_scores.loc[i,\"k\"])"
   ]
  },
  {
   "cell_type": "code",
   "execution_count": 25,
   "metadata": {
    "cell_id": "de0c7969-550b-45f3-b20a-2c8300920046",
    "deepnote_cell_type": "code",
    "deepnote_to_be_reexecuted": false,
    "execution_millis": 51,
    "execution_start": 1644425256254,
    "source_hash": "7ddb3e1e",
    "tags": []
   },
   "outputs": [
    {
     "data": {
      "text/html": [
       "<div>\n",
       "<style scoped>\n",
       "    .dataframe tbody tr th:only-of-type {\n",
       "        vertical-align: middle;\n",
       "    }\n",
       "\n",
       "    .dataframe tbody tr th {\n",
       "        vertical-align: top;\n",
       "    }\n",
       "\n",
       "    .dataframe thead th {\n",
       "        text-align: right;\n",
       "    }\n",
       "</style>\n",
       "<table border=\"1\" class=\"dataframe\">\n",
       "  <thead>\n",
       "    <tr style=\"text-align: right;\">\n",
       "      <th></th>\n",
       "      <th>k</th>\n",
       "      <th>train_error</th>\n",
       "      <th>test_error</th>\n",
       "      <th>kinv</th>\n",
       "    </tr>\n",
       "  </thead>\n",
       "  <tbody>\n",
       "    <tr>\n",
       "      <th>0</th>\n",
       "      <td>1</td>\n",
       "      <td>0.000000</td>\n",
       "      <td>372.904192</td>\n",
       "      <td>1.000000</td>\n",
       "    </tr>\n",
       "    <tr>\n",
       "      <th>1</th>\n",
       "      <td>2</td>\n",
       "      <td>177.484940</td>\n",
       "      <td>306.961078</td>\n",
       "      <td>0.500000</td>\n",
       "    </tr>\n",
       "    <tr>\n",
       "      <th>2</th>\n",
       "      <td>3</td>\n",
       "      <td>208.935743</td>\n",
       "      <td>293.562874</td>\n",
       "      <td>0.333333</td>\n",
       "    </tr>\n",
       "    <tr>\n",
       "      <th>3</th>\n",
       "      <td>4</td>\n",
       "      <td>228.765060</td>\n",
       "      <td>286.190120</td>\n",
       "      <td>0.250000</td>\n",
       "    </tr>\n",
       "    <tr>\n",
       "      <th>4</th>\n",
       "      <td>5</td>\n",
       "      <td>231.987952</td>\n",
       "      <td>279.550898</td>\n",
       "      <td>0.200000</td>\n",
       "    </tr>\n",
       "    <tr>\n",
       "      <th>...</th>\n",
       "      <td>...</td>\n",
       "      <td>...</td>\n",
       "      <td>...</td>\n",
       "      <td>...</td>\n",
       "    </tr>\n",
       "    <tr>\n",
       "      <th>144</th>\n",
       "      <td>145</td>\n",
       "      <td>527.361861</td>\n",
       "      <td>615.610159</td>\n",
       "      <td>0.006897</td>\n",
       "    </tr>\n",
       "    <tr>\n",
       "      <th>145</th>\n",
       "      <td>146</td>\n",
       "      <td>531.186046</td>\n",
       "      <td>620.454639</td>\n",
       "      <td>0.006849</td>\n",
       "    </tr>\n",
       "    <tr>\n",
       "      <th>146</th>\n",
       "      <td>147</td>\n",
       "      <td>535.337267</td>\n",
       "      <td>624.538678</td>\n",
       "      <td>0.006803</td>\n",
       "    </tr>\n",
       "    <tr>\n",
       "      <th>147</th>\n",
       "      <td>148</td>\n",
       "      <td>540.600578</td>\n",
       "      <td>629.153180</td>\n",
       "      <td>0.006757</td>\n",
       "    </tr>\n",
       "    <tr>\n",
       "      <th>148</th>\n",
       "      <td>149</td>\n",
       "      <td>544.140657</td>\n",
       "      <td>632.115300</td>\n",
       "      <td>0.006711</td>\n",
       "    </tr>\n",
       "  </tbody>\n",
       "</table>\n",
       "<p>149 rows × 4 columns</p>\n",
       "</div>"
      ],
      "text/plain": [
       "       k  train_error  test_error      kinv\n",
       "0      1     0.000000  372.904192  1.000000\n",
       "1      2   177.484940  306.961078  0.500000\n",
       "2      3   208.935743  293.562874  0.333333\n",
       "3      4   228.765060  286.190120  0.250000\n",
       "4      5   231.987952  279.550898  0.200000\n",
       "..   ...          ...         ...       ...\n",
       "144  145   527.361861  615.610159  0.006897\n",
       "145  146   531.186046  620.454639  0.006849\n",
       "146  147   535.337267  624.538678  0.006803\n",
       "147  148   540.600578  629.153180  0.006757\n",
       "148  149   544.140657  632.115300  0.006711\n",
       "\n",
       "[149 rows x 4 columns]"
      ]
     },
     "execution_count": 25,
     "metadata": {},
     "output_type": "execute_result"
    }
   ],
   "source": [
    "df_scores"
   ]
  },
  {
   "cell_type": "markdown",
   "metadata": {},
   "source": [
    "Usually when we plot a test error curve, we want higher flexibility (= higher variance) on the right.  Since higher values of K correspond to lower flexibility, we are going to add a column to the DataFrame containing the reciprocals of the K values."
   ]
  },
  {
   "cell_type": "code",
   "execution_count": 26,
   "metadata": {
    "cell_id": "9e01f214-81fd-47a9-a4ed-fd737b7ad566",
    "deepnote_cell_type": "code",
    "deepnote_to_be_reexecuted": false,
    "execution_millis": 10,
    "execution_start": 1644425294964,
    "source_hash": "6d7b0128",
    "tags": []
   },
   "outputs": [],
   "source": [
    "df_scores[\"kinv\"] = 1/df_scores.k"
   ]
  },
  {
   "cell_type": "code",
   "execution_count": 27,
   "metadata": {
    "cell_id": "4afe0ca2-5dbf-4b87-a99e-0fa1730884b6",
    "deepnote_cell_type": "code",
    "deepnote_output_heights": [
     356
    ],
    "deepnote_to_be_reexecuted": false,
    "execution_millis": 13,
    "execution_start": 1644425338598,
    "source_hash": "f9178bd6",
    "tags": []
   },
   "outputs": [],
   "source": [
    "ctrain = alt.Chart(df_scores).mark_line().encode(\n",
    "    x = \"kinv\",\n",
    "    y = \"train_error\"\n",
    ")"
   ]
  },
  {
   "cell_type": "code",
   "execution_count": 28,
   "metadata": {
    "cell_id": "214ee1b2-2bcc-40c7-8e53-0c66bdcb3ba8",
    "deepnote_cell_type": "code",
    "deepnote_to_be_reexecuted": false,
    "execution_millis": 6,
    "execution_start": 1644425359637,
    "source_hash": "ceab4c59",
    "tags": []
   },
   "outputs": [],
   "source": [
    "ctest = alt.Chart(df_scores).mark_line(color=\"orange\").encode(\n",
    "    x = \"kinv\",\n",
    "    y = \"test_error\"\n",
    ")"
   ]
  },
  {
   "cell_type": "markdown",
   "metadata": {},
   "source": [
    "The blue curve is the training error, while the orange curve is the test error.  Notice how underfitting occurs for very high values of K and notice how overfitting occurs for smaller values of K."
   ]
  },
  {
   "cell_type": "code",
   "execution_count": 30,
   "metadata": {
    "cell_id": "e35ccb04-769f-412e-aa37-324b4cfa5ecb",
    "deepnote_cell_type": "code",
    "deepnote_output_heights": [
     356
    ],
    "deepnote_to_be_reexecuted": false,
    "execution_millis": 63,
    "execution_start": 1644425372305,
    "source_hash": "1e9aad1a",
    "tags": []
   },
   "outputs": [
    {
     "data": {
      "text/html": [
       "\n",
       "<div id=\"altair-viz-cb6a80a20c654903a71f1d755c962042\"></div>\n",
       "<script type=\"text/javascript\">\n",
       "  var VEGA_DEBUG = (typeof VEGA_DEBUG == \"undefined\") ? {} : VEGA_DEBUG;\n",
       "  (function(spec, embedOpt){\n",
       "    let outputDiv = document.currentScript.previousElementSibling;\n",
       "    if (outputDiv.id !== \"altair-viz-cb6a80a20c654903a71f1d755c962042\") {\n",
       "      outputDiv = document.getElementById(\"altair-viz-cb6a80a20c654903a71f1d755c962042\");\n",
       "    }\n",
       "    const paths = {\n",
       "      \"vega\": \"https://cdn.jsdelivr.net/npm//vega@5?noext\",\n",
       "      \"vega-lib\": \"https://cdn.jsdelivr.net/npm//vega-lib?noext\",\n",
       "      \"vega-lite\": \"https://cdn.jsdelivr.net/npm//vega-lite@4.17.0?noext\",\n",
       "      \"vega-embed\": \"https://cdn.jsdelivr.net/npm//vega-embed@6?noext\",\n",
       "    };\n",
       "\n",
       "    function maybeLoadScript(lib, version) {\n",
       "      var key = `${lib.replace(\"-\", \"\")}_version`;\n",
       "      return (VEGA_DEBUG[key] == version) ?\n",
       "        Promise.resolve(paths[lib]) :\n",
       "        new Promise(function(resolve, reject) {\n",
       "          var s = document.createElement('script');\n",
       "          document.getElementsByTagName(\"head\")[0].appendChild(s);\n",
       "          s.async = true;\n",
       "          s.onload = () => {\n",
       "            VEGA_DEBUG[key] = version;\n",
       "            return resolve(paths[lib]);\n",
       "          };\n",
       "          s.onerror = () => reject(`Error loading script: ${paths[lib]}`);\n",
       "          s.src = paths[lib];\n",
       "        });\n",
       "    }\n",
       "\n",
       "    function showError(err) {\n",
       "      outputDiv.innerHTML = `<div class=\"error\" style=\"color:red;\">${err}</div>`;\n",
       "      throw err;\n",
       "    }\n",
       "\n",
       "    function displayChart(vegaEmbed) {\n",
       "      vegaEmbed(outputDiv, spec, embedOpt)\n",
       "        .catch(err => showError(`Javascript Error: ${err.message}<br>This usually means there's a typo in your chart specification. See the javascript console for the full traceback.`));\n",
       "    }\n",
       "\n",
       "    if(typeof define === \"function\" && define.amd) {\n",
       "      requirejs.config({paths});\n",
       "      require([\"vega-embed\"], displayChart, err => showError(`Error loading script: ${err.message}`));\n",
       "    } else {\n",
       "      maybeLoadScript(\"vega\", \"5\")\n",
       "        .then(() => maybeLoadScript(\"vega-lite\", \"4.17.0\"))\n",
       "        .then(() => maybeLoadScript(\"vega-embed\", \"6\"))\n",
       "        .catch(showError)\n",
       "        .then(() => displayChart(vegaEmbed));\n",
       "    }\n",
       "  })({\"config\": {\"view\": {\"continuousWidth\": 400, \"continuousHeight\": 300}}, \"layer\": [{\"mark\": \"line\", \"encoding\": {\"x\": {\"field\": \"kinv\", \"type\": \"quantitative\"}, \"y\": {\"field\": \"train_error\", \"type\": \"quantitative\"}}}, {\"mark\": {\"type\": \"line\", \"color\": \"orange\"}, \"encoding\": {\"x\": {\"field\": \"kinv\", \"type\": \"quantitative\"}, \"y\": {\"field\": \"test_error\", \"type\": \"quantitative\"}}}], \"data\": {\"name\": \"data-f4da114e1bc4b03984d1ecfb6d5cbf93\"}, \"$schema\": \"https://vega.github.io/schema/vega-lite/v4.17.0.json\", \"datasets\": {\"data-f4da114e1bc4b03984d1ecfb6d5cbf93\": [{\"k\": 1, \"train_error\": 0.0, \"test_error\": 372.90419161676647, \"kinv\": 1.0}, {\"k\": 2, \"train_error\": 177.48493975903614, \"test_error\": 306.9610778443114, \"kinv\": 0.5}, {\"k\": 3, \"train_error\": 208.93574297188752, \"test_error\": 293.562874251497, \"kinv\": 0.3333333333333333}, {\"k\": 4, \"train_error\": 228.76506024096386, \"test_error\": 286.19011976047904, \"kinv\": 0.25}, {\"k\": 5, \"train_error\": 231.9879518072289, \"test_error\": 279.5508982035928, \"kinv\": 0.2}, {\"k\": 6, \"train_error\": 239.031124497992, \"test_error\": 276.122754491018, \"kinv\": 0.16666666666666666}, {\"k\": 7, \"train_error\": 253.2487091222031, \"test_error\": 274.7219846022241, \"kinv\": 0.14285714285714285}, {\"k\": 8, \"train_error\": 256.0240963855422, \"test_error\": 275.6362275449102, \"kinv\": 0.125}, {\"k\": 9, \"train_error\": 261.144578313253, \"test_error\": 271.35728542914177, \"kinv\": 0.1111111111111111}, {\"k\": 10, \"train_error\": 261.0843373493976, \"test_error\": 272.45508982035926, \"kinv\": 0.1}, {\"k\": 11, \"train_error\": 266.4293537787513, \"test_error\": 277.29994556341865, \"kinv\": 0.09090909090909091}, {\"k\": 12, \"train_error\": 267.74598393574297, \"test_error\": 278.63023952095807, \"kinv\": 0.08333333333333333}, {\"k\": 13, \"train_error\": 271.28127896200186, \"test_error\": 275.7715338553662, \"kinv\": 0.07692307692307693}, {\"k\": 14, \"train_error\": 274.2792598967298, \"test_error\": 276.44354148845173, \"kinv\": 0.07142857142857142}, {\"k\": 15, \"train_error\": 274.6686746987952, \"test_error\": 280.3992015968064, \"kinv\": 0.06666666666666667}, {\"k\": 16, \"train_error\": 275.7718373493976, \"test_error\": 281.0909431137725, \"kinv\": 0.0625}, {\"k\": 17, \"train_error\": 278.11835577604535, \"test_error\": 281.52518492426907, \"kinv\": 0.058823529411764705}, {\"k\": 18, \"train_error\": 277.7610441767068, \"test_error\": 281.29574184963406, \"kinv\": 0.05555555555555555}, {\"k\": 19, \"train_error\": 277.79803424223206, \"test_error\": 285.0535770564135, \"kinv\": 0.05263157894736842}, {\"k\": 20, \"train_error\": 279.67620481927713, \"test_error\": 284.0419161676647, \"kinv\": 0.05}, {\"k\": 21, \"train_error\": 283.0536431440046, \"test_error\": 284.6948959224408, \"kinv\": 0.047619047619047616}, {\"k\": 22, \"train_error\": 283.7144030668126, \"test_error\": 287.95590636908, \"kinv\": 0.045454545454545456}, {\"k\": 23, \"train_error\": 285.66003143006805, \"test_error\": 291.04399895860445, \"kinv\": 0.043478260869565216}, {\"k\": 24, \"train_error\": 289.8029618473896, \"test_error\": 294.89770459081836, \"kinv\": 0.041666666666666664}, {\"k\": 25, \"train_error\": 290.5301204819277, \"test_error\": 297.08383233532936, \"kinv\": 0.04}, {\"k\": 26, \"train_error\": 291.5836422613531, \"test_error\": 298.47996315062187, \"kinv\": 0.038461538461538464}, {\"k\": 27, \"train_error\": 292.0850066934404, \"test_error\": 300.3881126635618, \"kinv\": 0.037037037037037035}, {\"k\": 28, \"train_error\": 293.96514629948365, \"test_error\": 303.57142857142856, \"kinv\": 0.03571428571428571}, {\"k\": 29, \"train_error\": 294.8795180722891, \"test_error\": 303.72186661160436, \"kinv\": 0.034482758620689655}, {\"k\": 30, \"train_error\": 297.32931726907634, \"test_error\": 306.3023952095808, \"kinv\": 0.03333333333333333}, {\"k\": 31, \"train_error\": 299.52390205985233, \"test_error\": 307.1083639173266, \"kinv\": 0.03225806451612903}, {\"k\": 32, \"train_error\": 300.734186746988, \"test_error\": 311.06380988023955, \"kinv\": 0.03125}, {\"k\": 33, \"train_error\": 303.016611902154, \"test_error\": 313.71348212665583, \"kinv\": 0.030303030303030304}, {\"k\": 34, \"train_error\": 304.78827072997876, \"test_error\": 313.7768580486087, \"kinv\": 0.029411764705882353}, {\"k\": 35, \"train_error\": 306.15318416523235, \"test_error\": 315.02994011976045, \"kinv\": 0.02857142857142857}, {\"k\": 36, \"train_error\": 307.69327309236945, \"test_error\": 315.6187624750499, \"kinv\": 0.027777777777777776}, {\"k\": 37, \"train_error\": 310.27352653858674, \"test_error\": 317.4623725521929, \"kinv\": 0.02702702702702703}, {\"k\": 38, \"train_error\": 312.6030437539632, \"test_error\": 320.0244248345415, \"kinv\": 0.02631578947368421}, {\"k\": 39, \"train_error\": 313.04834723509424, \"test_error\": 323.46077076616, \"kinv\": 0.02564102564102564}, {\"k\": 40, \"train_error\": 312.7899096385542, \"test_error\": 324.5696107784431, \"kinv\": 0.025}, {\"k\": 41, \"train_error\": 314.95739053776083, \"test_error\": 326.1464875127793, \"kinv\": 0.024390243902439025}, {\"k\": 42, \"train_error\": 314.85226620768793, \"test_error\": 328.0047048759623, \"kinv\": 0.023809523809523808}, {\"k\": 43, \"train_error\": 316.482207901373, \"test_error\": 329.18465394791815, \"kinv\": 0.023255813953488372}, {\"k\": 44, \"train_error\": 317.16182913472073, \"test_error\": 328.7255035383778, \"kinv\": 0.022727272727272728}, {\"k\": 45, \"train_error\": 318.0321285140562, \"test_error\": 329.5808383233533, \"kinv\": 0.022222222222222223}, {\"k\": 46, \"train_error\": 319.3327658459927, \"test_error\": 331.7267638635772, \"kinv\": 0.021739130434782608}, {\"k\": 47, \"train_error\": 319.10087157139196, \"test_error\": 331.8607465919225, \"kinv\": 0.02127659574468085}, {\"k\": 48, \"train_error\": 319.3994728915663, \"test_error\": 334.03817365269464, \"kinv\": 0.020833333333333332}, {\"k\": 49, \"train_error\": 320.8476764199656, \"test_error\": 335.21019186117553, \"kinv\": 0.02040816326530612}, {\"k\": 50, \"train_error\": 321.10843373493975, \"test_error\": 336.63473053892216, \"kinv\": 0.02}, {\"k\": 51, \"train_error\": 321.8521143397118, \"test_error\": 338.2529059528003, \"kinv\": 0.0196078431372549}, {\"k\": 52, \"train_error\": 322.37893883225206, \"test_error\": 338.248502994012, \"kinv\": 0.019230769230769232}, {\"k\": 53, \"train_error\": 324.5595589906797, \"test_error\": 340.8823861710541, \"kinv\": 0.018867924528301886}, {\"k\": 54, \"train_error\": 325.1561802766622, \"test_error\": 342.9141716566866, \"kinv\": 0.018518518518518517}, {\"k\": 55, \"train_error\": 327.2617743702081, \"test_error\": 344.4148067501361, \"kinv\": 0.01818181818181818}, {\"k\": 56, \"train_error\": 328.5337779690189, \"test_error\": 346.3162959794696, \"kinv\": 0.017857142857142856}, {\"k\": 57, \"train_error\": 328.144155569647, \"test_error\": 347.8542914171657, \"kinv\": 0.017543859649122806}, {\"k\": 58, \"train_error\": 331.369443290403, \"test_error\": 349.77028701218256, \"kinv\": 0.017241379310344827}, {\"k\": 59, \"train_error\": 332.3514396569328, \"test_error\": 352.37237389627523, \"kinv\": 0.01694915254237288}, {\"k\": 60, \"train_error\": 333.40361445783134, \"test_error\": 353.76746506986024, \"kinv\": 0.016666666666666666}, {\"k\": 61, \"train_error\": 335.55945091842784, \"test_error\": 354.7953273780309, \"kinv\": 0.01639344262295082}, {\"k\": 62, \"train_error\": 337.40283715507195, \"test_error\": 356.68099285300366, \"kinv\": 0.016129032258064516}, {\"k\": 63, \"train_error\": 338.76936316695355, \"test_error\": 358.2596711339226, \"kinv\": 0.015873015873015872}, {\"k\": 64, \"train_error\": 340.3285015060241, \"test_error\": 359.85684880239523, \"kinv\": 0.015625}, {\"k\": 65, \"train_error\": 342.16635773864687, \"test_error\": 362.5633348687241, \"kinv\": 0.015384615384615385}, {\"k\": 66, \"train_error\": 344.16986126323474, \"test_error\": 365.46679368535666, \"kinv\": 0.015151515151515152}, {\"k\": 67, \"train_error\": 344.4097284661032, \"test_error\": 367.3339887389401, \"kinv\": 0.014925373134328358}, {\"k\": 68, \"train_error\": 346.3501063075832, \"test_error\": 370.3614829165199, \"kinv\": 0.014705882352941176}, {\"k\": 69, \"train_error\": 347.0992666317444, \"test_error\": 373.42922849952265, \"kinv\": 0.014492753623188406}, {\"k\": 70, \"train_error\": 348.3003442340792, \"test_error\": 375.84046193327634, \"kinv\": 0.014285714285714285}, {\"k\": 71, \"train_error\": 349.8515187510605, \"test_error\": 378.6054651260858, \"kinv\": 0.014084507042253521}, {\"k\": 72, \"train_error\": 351.9410977242303, \"test_error\": 382.9133399866933, \"kinv\": 0.013888888888888888}, {\"k\": 73, \"train_error\": 354.4128569070804, \"test_error\": 386.9760479041916, \"kinv\": 0.0136986301369863}, {\"k\": 74, \"train_error\": 355.56211331813745, \"test_error\": 390.5668392943842, \"kinv\": 0.013513513513513514}, {\"k\": 75, \"train_error\": 357.293172690763, \"test_error\": 393.5389221556886, \"kinv\": 0.013333333333333334}, {\"k\": 76, \"train_error\": 359.6147748890298, \"test_error\": 397.12811219665934, \"kinv\": 0.013157894736842105}, {\"k\": 77, \"train_error\": 361.66092943201386, \"test_error\": 401.22287891748977, \"kinv\": 0.012987012987012988}, {\"k\": 78, \"train_error\": 362.76451961692925, \"test_error\": 404.23959772762163, \"kinv\": 0.01282051282051282}, {\"k\": 79, \"train_error\": 365.13840170809823, \"test_error\": 407.6138861517472, \"kinv\": 0.012658227848101266}, {\"k\": 80, \"train_error\": 366.300828313253, \"test_error\": 409.5808383233533, \"kinv\": 0.0125}, {\"k\": 81, \"train_error\": 367.44013089394616, \"test_error\": 411.64153175131224, \"kinv\": 0.012345679012345678}, {\"k\": 82, \"train_error\": 368.9759036144579, \"test_error\": 414.32196582444874, \"kinv\": 0.012195121951219513}, {\"k\": 83, \"train_error\": 370.42386413122364, \"test_error\": 415.5309862203305, \"kinv\": 0.012048192771084338}, {\"k\": 84, \"train_error\": 370.54826448651755, \"test_error\": 418.89257199885947, \"kinv\": 0.011904761904761904}, {\"k\": 85, \"train_error\": 371.64422395464203, \"test_error\": 421.73476576259236, \"kinv\": 0.011764705882352941}, {\"k\": 86, \"train_error\": 373.5132390025217, \"test_error\": 424.3106809636541, \"kinv\": 0.011627906976744186}, {\"k\": 87, \"train_error\": 373.9613626921479, \"test_error\": 425.97047284740864, \"kinv\": 0.011494252873563218}, {\"k\": 88, \"train_error\": 375.68626779846664, \"test_error\": 428.63023952095807, \"kinv\": 0.011363636363636364}, {\"k\": 89, \"train_error\": 377.42656017327744, \"test_error\": 431.6406512817064, \"kinv\": 0.011235955056179775}, {\"k\": 90, \"train_error\": 378.6127844712181, \"test_error\": 434.0518962075848, \"kinv\": 0.011111111111111112}, {\"k\": 91, \"train_error\": 380.6401429895405, \"test_error\": 436.4167269855892, \"kinv\": 0.01098901098901099}, {\"k\": 92, \"train_error\": 382.38606600314296, \"test_error\": 439.418445717261, \"kinv\": 0.010869565217391304}, {\"k\": 93, \"train_error\": 383.7899987044954, \"test_error\": 442.04655205717586, \"kinv\": 0.010752688172043012}, {\"k\": 94, \"train_error\": 385.12560881825164, \"test_error\": 444.02471652439806, \"kinv\": 0.010638297872340425}, {\"k\": 95, \"train_error\": 387.31769181991126, \"test_error\": 446.2338480932872, \"kinv\": 0.010526315789473684}, {\"k\": 96, \"train_error\": 388.640499497992, \"test_error\": 448.11002994011983, \"kinv\": 0.010416666666666666}, {\"k\": 97, \"train_error\": 391.26971804744755, \"test_error\": 451.2577936909686, \"kinv\": 0.010309278350515464}, {\"k\": 98, \"train_error\": 393.21520776985494, \"test_error\": 455.28840278626416, \"kinv\": 0.01020408163265306}, {\"k\": 99, \"train_error\": 396.26232201533406, \"test_error\": 459.954333756729, \"kinv\": 0.010101010101010102}, {\"k\": 100, \"train_error\": 399.57680722891564, \"test_error\": 464.36976047904193, \"kinv\": 0.01}, {\"k\": 101, \"train_error\": 402.36639627818204, \"test_error\": 467.99223335507213, \"kinv\": 0.009900990099009901}, {\"k\": 102, \"train_error\": 404.6450507914009, \"test_error\": 471.7065868263473, \"kinv\": 0.00980392156862745}, {\"k\": 103, \"train_error\": 406.62065738682895, \"test_error\": 475.6293238765188, \"kinv\": 0.009708737864077669}, {\"k\": 104, \"train_error\": 408.4105653382762, \"test_error\": 477.277176416398, \"kinv\": 0.009615384615384616}, {\"k\": 105, \"train_error\": 410.1649454962708, \"test_error\": 479.1217564870259, \"kinv\": 0.009523809523809525}, {\"k\": 106, \"train_error\": 413.04699931802674, \"test_error\": 481.7873686589085, \"kinv\": 0.009433962264150943}, {\"k\": 107, \"train_error\": 415.3727057763765, \"test_error\": 485.6875034976776, \"kinv\": 0.009345794392523364}, {\"k\": 108, \"train_error\": 417.5800423917893, \"test_error\": 489.505710800621, \"kinv\": 0.009259259259259259}, {\"k\": 109, \"train_error\": 419.32823035260293, \"test_error\": 492.5712794594297, \"kinv\": 0.009174311926605505}, {\"k\": 110, \"train_error\": 421.4498904709748, \"test_error\": 495.3402286336418, \"kinv\": 0.00909090909090909}, {\"k\": 111, \"train_error\": 422.95533485292526, \"test_error\": 499.29060797324274, \"kinv\": 0.009009009009009009}, {\"k\": 112, \"train_error\": 426.12951807228916, \"test_error\": 502.5703058169375, \"kinv\": 0.008928571428571428}, {\"k\": 113, \"train_error\": 429.167555176458, \"test_error\": 506.09003232473106, \"kinv\": 0.008849557522123894}, {\"k\": 114, \"train_error\": 430.85367786937223, \"test_error\": 509.7764996323143, \"kinv\": 0.008771929824561403}, {\"k\": 115, \"train_error\": 433.6485070717653, \"test_error\": 512.6763863577194, \"kinv\": 0.008695652173913044}, {\"k\": 116, \"train_error\": 436.2159846281678, \"test_error\": 515.2913999587033, \"kinv\": 0.008620689655172414}, {\"k\": 117, \"train_error\": 438.7859128822985, \"test_error\": 518.2212498080762, \"kinv\": 0.008547008547008548}, {\"k\": 118, \"train_error\": 441.9465999591586, \"test_error\": 521.9869582868162, \"kinv\": 0.00847457627118644}, {\"k\": 119, \"train_error\": 445.06049407714903, \"test_error\": 526.0365822975897, \"kinv\": 0.008403361344537815}, {\"k\": 120, \"train_error\": 447.14859437751005, \"test_error\": 528.5840818363273, \"kinv\": 0.008333333333333333}, {\"k\": 121, \"train_error\": 449.3029971124165, \"test_error\": 531.3480477062403, \"kinv\": 0.008264462809917356}, {\"k\": 122, \"train_error\": 451.7788366581079, \"test_error\": 533.6286443506431, \"kinv\": 0.00819672131147541}, {\"k\": 123, \"train_error\": 453.02796552061915, \"test_error\": 534.3934083053406, \"kinv\": 0.008130081300813009}, {\"k\": 124, \"train_error\": 455.78969102215314, \"test_error\": 537.3104597257098, \"kinv\": 0.008064516129032258}, {\"k\": 125, \"train_error\": 458.65180722891563, \"test_error\": 540.5868263473054, \"kinv\": 0.008}, {\"k\": 126, \"train_error\": 461.4768598202333, \"test_error\": 543.6317840509457, \"kinv\": 0.007936507936507936}, {\"k\": 127, \"train_error\": 464.6404515700597, \"test_error\": 547.6071479089067, \"kinv\": 0.007874015748031496}, {\"k\": 128, \"train_error\": 467.1074924698795, \"test_error\": 550.7625374251497, \"kinv\": 0.0078125}, {\"k\": 129, \"train_error\": 470.5356308956757, \"test_error\": 555.2383604883256, \"kinv\": 0.007751937984496124}, {\"k\": 130, \"train_error\": 474.0732159406858, \"test_error\": 559.2088899124827, \"kinv\": 0.007692307692307693}, {\"k\": 131, \"train_error\": 477.00266715717834, \"test_error\": 562.4011518946841, \"kinv\": 0.007633587786259542}, {\"k\": 132, \"train_error\": 479.6367287331144, \"test_error\": 565.6130919978225, \"kinv\": 0.007575757575757576}, {\"k\": 133, \"train_error\": 483.36579400308, \"test_error\": 569.1042726576921, \"kinv\": 0.007518796992481203}, {\"k\": 134, \"train_error\": 486.70090811005224, \"test_error\": 572.5232371078737, \"kinv\": 0.007462686567164179}, {\"k\": 135, \"train_error\": 490.7385095939312, \"test_error\": 576.6866267465069, \"kinv\": 0.007407407407407408}, {\"k\": 136, \"train_error\": 495.1065290574061, \"test_error\": 581.0969971821064, \"kinv\": 0.007352941176470588}, {\"k\": 137, \"train_error\": 499.3690088822444, \"test_error\": 585.9412561737839, \"kinv\": 0.0072992700729927005}, {\"k\": 138, \"train_error\": 502.8712676794134, \"test_error\": 589.9440249934913, \"kinv\": 0.007246376811594203}, {\"k\": 139, \"train_error\": 506.9017075496231, \"test_error\": 594.5235428423729, \"kinv\": 0.007194244604316547}, {\"k\": 140, \"train_error\": 511.8567125645439, \"test_error\": 599.5904619332763, \"kinv\": 0.007142857142857143}, {\"k\": 141, \"train_error\": 515.2364778261984, \"test_error\": 603.0715165413854, \"kinv\": 0.0070921985815602835}, {\"k\": 142, \"train_error\": 518.2144069234685, \"test_error\": 606.2231171459897, \"kinv\": 0.007042253521126761}, {\"k\": 143, \"train_error\": 521.4424130086779, \"test_error\": 609.283530840417, \"kinv\": 0.006993006993006993}, {\"k\": 144, \"train_error\": 524.282546854083, \"test_error\": 612.3055971390551, \"kinv\": 0.006944444444444444}, {\"k\": 145, \"train_error\": 527.3618612380557, \"test_error\": 615.6101589923602, \"kinv\": 0.006896551724137931}, {\"k\": 146, \"train_error\": 531.1860455520713, \"test_error\": 620.4546386678697, \"kinv\": 0.00684931506849315}, {\"k\": 147, \"train_error\": 535.3372674370954, \"test_error\": 624.5386777465478, \"kinv\": 0.006802721088435374}, {\"k\": 148, \"train_error\": 540.600577987626, \"test_error\": 629.1531801262338, \"kinv\": 0.006756756756756757}, {\"k\": 149, \"train_error\": 544.1406565860757, \"test_error\": 632.1152996021378, \"kinv\": 0.006711409395973154}]}}, {\"mode\": \"vega-lite\"});\n",
       "</script>"
      ],
      "text/plain": [
       "alt.LayerChart(...)"
      ]
     },
     "execution_count": 30,
     "metadata": {},
     "output_type": "execute_result"
    }
   ],
   "source": [
    "ctrain+ctest"
   ]
  }
 ],
 "metadata": {
  "deepnote": {
   "is_reactive": false
  },
  "deepnote_execution_queue": [],
  "deepnote_notebook_id": "15bd562b-cce7-415c-aeb7-d990d0bec701",
  "kernelspec": {
   "display_name": "Python 3 (ipykernel)",
   "language": "python",
   "name": "python3"
  },
  "language_info": {
   "codemirror_mode": {
    "name": "ipython",
    "version": 3
   },
   "file_extension": ".py",
   "mimetype": "text/x-python",
   "name": "python",
   "nbconvert_exporter": "python",
   "pygments_lexer": "ipython3",
   "version": "3.9.9"
  }
 },
 "nbformat": 4,
 "nbformat_minor": 4
}
