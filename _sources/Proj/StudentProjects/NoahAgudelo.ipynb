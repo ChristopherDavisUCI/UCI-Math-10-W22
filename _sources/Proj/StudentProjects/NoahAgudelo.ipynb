{
 "cells": [
  {
   "cell_type": "markdown",
   "metadata": {
    "cell_id": "098969f5-ac0d-4245-bbc2-f824edd4e15f",
    "deepnote_cell_height": 156.90625,
    "deepnote_cell_type": "markdown",
    "tags": []
   },
   "source": [
    "# Frame Prediction\n",
    "\n",
    "Author: Noah Agudelo\n",
    "\n",
    "Course Project, UC Irvine, Math 10, W22"
   ]
  },
  {
   "cell_type": "markdown",
   "metadata": {
    "cell_id": "1232c27a-f5e2-426a-91e0-f6cfebd8a611",
    "deepnote_cell_height": 108.53125,
    "deepnote_cell_type": "markdown",
    "tags": []
   },
   "source": [
    "## Introduction\n",
    "\n",
    "Introduce your project here.  About 3 sentences."
   ]
  },
  {
   "cell_type": "markdown",
   "metadata": {
    "cell_id": "bb2a442a-c903-467b-b71e-dcccad5d81c5",
    "deepnote_cell_height": 74.921875,
    "deepnote_cell_type": "markdown",
    "tags": []
   },
   "source": [
    "This project explores the idea of frame prediction with pytorch.  The dataset is 200 sequences of 10 frames, each frame is 64x64 pixels and each pixel is greyscale.  Each sequence is made up of 2 moving numbers from the MNIST dataset.  The idea here is to train a neural network using this dataset and try to predict the 10th frame of various sequences in the dataset."
   ]
  },
  {
   "cell_type": "markdown",
   "metadata": {
    "cell_id": "5100f2c6-6407-41f2-9bb2-1a62540d8662",
    "deepnote_cell_height": 108.53125,
    "deepnote_cell_type": "markdown",
    "tags": []
   },
   "source": [
    "## Main portion of the project\n",
    "\n",
    "(You can either have all one section or divide into multiple sections)"
   ]
  },
  {
   "cell_type": "markdown",
   "metadata": {
    "cell_id": "c4ba8c74-df9a-4f81-87de-be5080f7257f",
    "deepnote_cell_height": 54.15625,
    "deepnote_cell_type": "markdown",
    "tags": []
   },
   "source": [
    "### Imports"
   ]
  },
  {
   "cell_type": "code",
   "execution_count": null,
   "metadata": {
    "cell_id": "8e2dc133-51ff-42f7-9697-5da31162f2ef",
    "deepnote_cell_height": 261.15625,
    "deepnote_cell_type": "code",
    "deepnote_to_be_reexecuted": false,
    "execution_millis": 2349,
    "execution_start": 1647320939525,
    "source_hash": "d4506cda",
    "tags": []
   },
   "outputs": [],
   "source": [
    "# Imports used for most of the project.\n",
    "import numpy as np\n",
    "import pandas as pd\n",
    "import altair as alt\n",
    "\n",
    "import torch\n",
    "from torch import nn\n",
    "from torch.utils.data import Dataset\n",
    "from torchvision import datasets\n",
    "from torchvision.transforms import ToTensor\n",
    "from torch.utils.data import DataLoader"
   ]
  },
  {
   "cell_type": "code",
   "execution_count": null,
   "metadata": {
    "cell_id": "ccefc3cb-5368-4965-ba7f-90bf821bd6e2",
    "deepnote_cell_height": 746.46875,
    "deepnote_cell_type": "code",
    "deepnote_to_be_reexecuted": false,
    "execution_millis": 4985,
    "execution_start": 1647320941896,
    "source_hash": "64522d33",
    "tags": [
     "output_scroll"
    ]
   },
   "outputs": [
    {
     "name": "stdout",
     "output_type": "stream",
     "text": [
      "Requirement already satisfied: ipywidgets==7.6.5 in /root/venv/lib/python3.7/site-packages (7.6.5)\n",
      "Requirement already satisfied: jupyterlab-widgets>=1.0.0; python_version >= \"3.6\" in /root/venv/lib/python3.7/site-packages (from ipywidgets==7.6.5) (1.0.2)\n",
      "Requirement already satisfied: ipython-genutils~=0.2.0 in /shared-libs/python3.7/py-core/lib/python3.7/site-packages (from ipywidgets==7.6.5) (0.2.0)\n",
      "Requirement already satisfied: widgetsnbextension~=3.5.0 in /root/venv/lib/python3.7/site-packages (from ipywidgets==7.6.5) (3.5.2)\n",
      "Requirement already satisfied: nbformat>=4.2.0 in /shared-libs/python3.7/py-core/lib/python3.7/site-packages (from ipywidgets==7.6.5) (5.1.3)\n",
      "Requirement already satisfied: traitlets>=4.3.1 in /shared-libs/python3.7/py-core/lib/python3.7/site-packages (from ipywidgets==7.6.5) (4.3.3)\n",
      "Requirement already satisfied: ipython>=4.0.0; python_version >= \"3.3\" in /shared-libs/python3.7/py-core/lib/python3.7/site-packages (from ipywidgets==7.6.5) (7.32.0)\n",
      "Requirement already satisfied: ipykernel>=4.5.1 in /shared-libs/python3.7/py-core/lib/python3.7/site-packages (from ipywidgets==7.6.5) (5.5.5)\n",
      "Requirement already satisfied: notebook>=4.4.1 in /shared-libs/python3.7/py-core/lib/python3.7/site-packages (from widgetsnbextension~=3.5.0->ipywidgets==7.6.5) (6.3.0)\n",
      "Requirement already satisfied: jupyter-core in /shared-libs/python3.7/py-core/lib/python3.7/site-packages (from nbformat>=4.2.0->ipywidgets==7.6.5) (4.7.1)\n",
      "Requirement already satisfied: jsonschema!=2.5.0,>=2.4 in /shared-libs/python3.7/py-core/lib/python3.7/site-packages (from nbformat>=4.2.0->ipywidgets==7.6.5) (3.2.0)\n",
      "Requirement already satisfied: six in /shared-libs/python3.7/py-core/lib/python3.7/site-packages (from traitlets>=4.3.1->ipywidgets==7.6.5) (1.16.0)\n",
      "Requirement already satisfied: decorator in /shared-libs/python3.7/py-core/lib/python3.7/site-packages (from traitlets>=4.3.1->ipywidgets==7.6.5) (5.1.1)\n",
      "Requirement already satisfied: prompt-toolkit!=3.0.0,!=3.0.1,<3.1.0,>=2.0.0 in /shared-libs/python3.7/py-core/lib/python3.7/site-packages (from ipython>=4.0.0; python_version >= \"3.3\"->ipywidgets==7.6.5) (3.0.28)\n",
      "Requirement already satisfied: backcall in /shared-libs/python3.7/py-core/lib/python3.7/site-packages (from ipython>=4.0.0; python_version >= \"3.3\"->ipywidgets==7.6.5) (0.2.0)\n",
      "Requirement already satisfied: pexpect>4.3; sys_platform != \"win32\" in /shared-libs/python3.7/py-core/lib/python3.7/site-packages (from ipython>=4.0.0; python_version >= \"3.3\"->ipywidgets==7.6.5) (4.8.0)\n",
      "Requirement already satisfied: matplotlib-inline in /shared-libs/python3.7/py-core/lib/python3.7/site-packages (from ipython>=4.0.0; python_version >= \"3.3\"->ipywidgets==7.6.5) (0.1.3)\n",
      "Requirement already satisfied: pickleshare in /shared-libs/python3.7/py-core/lib/python3.7/site-packages (from ipython>=4.0.0; python_version >= \"3.3\"->ipywidgets==7.6.5) (0.7.5)\n",
      "Requirement already satisfied: jedi>=0.16 in /shared-libs/python3.7/py-core/lib/python3.7/site-packages (from ipython>=4.0.0; python_version >= \"3.3\"->ipywidgets==7.6.5) (0.17.2)\n",
      "Requirement already satisfied: pygments in /shared-libs/python3.7/py-core/lib/python3.7/site-packages (from ipython>=4.0.0; python_version >= \"3.3\"->ipywidgets==7.6.5) (2.11.2)\n",
      "Requirement already satisfied: setuptools>=18.5 in /root/venv/lib/python3.7/site-packages (from ipython>=4.0.0; python_version >= \"3.3\"->ipywidgets==7.6.5) (47.1.0)\n",
      "Requirement already satisfied: jupyter-client in /shared-libs/python3.7/py-core/lib/python3.7/site-packages (from ipykernel>=4.5.1->ipywidgets==7.6.5) (6.1.12)\n",
      "Requirement already satisfied: tornado>=4.2 in /shared-libs/python3.7/py-core/lib/python3.7/site-packages (from ipykernel>=4.5.1->ipywidgets==7.6.5) (6.1)\n",
      "Requirement already satisfied: argon2-cffi in /shared-libs/python3.7/py-core/lib/python3.7/site-packages (from notebook>=4.4.1->widgetsnbextension~=3.5.0->ipywidgets==7.6.5) (21.3.0)\n",
      "Requirement already satisfied: pyzmq>=17 in /shared-libs/python3.7/py-core/lib/python3.7/site-packages (from notebook>=4.4.1->widgetsnbextension~=3.5.0->ipywidgets==7.6.5) (22.3.0)\n",
      "Requirement already satisfied: Send2Trash>=1.5.0 in /shared-libs/python3.7/py-core/lib/python3.7/site-packages (from notebook>=4.4.1->widgetsnbextension~=3.5.0->ipywidgets==7.6.5) (1.8.0)\n",
      "Requirement already satisfied: nbconvert==6.0.7 in /shared-libs/python3.7/py-core/lib/python3.7/site-packages (from notebook>=4.4.1->widgetsnbextension~=3.5.0->ipywidgets==7.6.5) (6.0.7)\n",
      "Requirement already satisfied: jinja2 in /shared-libs/python3.7/py-core/lib/python3.7/site-packages (from notebook>=4.4.1->widgetsnbextension~=3.5.0->ipywidgets==7.6.5) (3.0.3)\n",
      "Requirement already satisfied: terminado>=0.8.3 in /shared-libs/python3.7/py-core/lib/python3.7/site-packages (from notebook>=4.4.1->widgetsnbextension~=3.5.0->ipywidgets==7.6.5) (0.13.3)\n",
      "Requirement already satisfied: prometheus-client in /shared-libs/python3.7/py-core/lib/python3.7/site-packages (from notebook>=4.4.1->widgetsnbextension~=3.5.0->ipywidgets==7.6.5) (0.13.1)\n",
      "Requirement already satisfied: attrs>=17.4.0 in /shared-libs/python3.7/py-core/lib/python3.7/site-packages (from jsonschema!=2.5.0,>=2.4->nbformat>=4.2.0->ipywidgets==7.6.5) (21.4.0)\n",
      "Requirement already satisfied: pyrsistent>=0.14.0 in /shared-libs/python3.7/py-core/lib/python3.7/site-packages (from jsonschema!=2.5.0,>=2.4->nbformat>=4.2.0->ipywidgets==7.6.5) (0.18.1)\n",
      "Requirement already satisfied: importlib-metadata; python_version < \"3.8\" in /shared-libs/python3.7/py-core/lib/python3.7/site-packages (from jsonschema!=2.5.0,>=2.4->nbformat>=4.2.0->ipywidgets==7.6.5) (4.11.2)\n",
      "Requirement already satisfied: wcwidth in /shared-libs/python3.7/py-core/lib/python3.7/site-packages (from prompt-toolkit!=3.0.0,!=3.0.1,<3.1.0,>=2.0.0->ipython>=4.0.0; python_version >= \"3.3\"->ipywidgets==7.6.5) (0.2.5)\n",
      "Requirement already satisfied: ptyprocess>=0.5 in /shared-libs/python3.7/py-core/lib/python3.7/site-packages (from pexpect>4.3; sys_platform != \"win32\"->ipython>=4.0.0; python_version >= \"3.3\"->ipywidgets==7.6.5) (0.7.0)\n",
      "Requirement already satisfied: parso<0.8.0,>=0.7.0 in /shared-libs/python3.7/py-core/lib/python3.7/site-packages (from jedi>=0.16->ipython>=4.0.0; python_version >= \"3.3\"->ipywidgets==7.6.5) (0.7.1)\n",
      "Requirement already satisfied: python-dateutil>=2.1 in /shared-libs/python3.7/py-core/lib/python3.7/site-packages (from jupyter-client->ipykernel>=4.5.1->ipywidgets==7.6.5) (2.8.2)\n",
      "Requirement already satisfied: typing-extensions; python_version < \"3.8\" in /shared-libs/python3.7/py-core/lib/python3.7/site-packages (from argon2-cffi->notebook>=4.4.1->widgetsnbextension~=3.5.0->ipywidgets==7.6.5) (4.1.1)\n",
      "Requirement already satisfied: argon2-cffi-bindings in /shared-libs/python3.7/py-core/lib/python3.7/site-packages (from argon2-cffi->notebook>=4.4.1->widgetsnbextension~=3.5.0->ipywidgets==7.6.5) (21.2.0)\n",
      "Requirement already satisfied: entrypoints>=0.2.2 in /shared-libs/python3.7/py-core/lib/python3.7/site-packages (from nbconvert==6.0.7->notebook>=4.4.1->widgetsnbextension~=3.5.0->ipywidgets==7.6.5) (0.4)\n",
      "Requirement already satisfied: bleach in /shared-libs/python3.7/py-core/lib/python3.7/site-packages (from nbconvert==6.0.7->notebook>=4.4.1->widgetsnbextension~=3.5.0->ipywidgets==7.6.5) (4.1.0)\n",
      "Requirement already satisfied: pandocfilters>=1.4.1 in /shared-libs/python3.7/py-core/lib/python3.7/site-packages (from nbconvert==6.0.7->notebook>=4.4.1->widgetsnbextension~=3.5.0->ipywidgets==7.6.5) (1.5.0)\n",
      "Requirement already satisfied: testpath in /shared-libs/python3.7/py-core/lib/python3.7/site-packages (from nbconvert==6.0.7->notebook>=4.4.1->widgetsnbextension~=3.5.0->ipywidgets==7.6.5) (0.6.0)\n",
      "Requirement already satisfied: jupyterlab-pygments in /shared-libs/python3.7/py-core/lib/python3.7/site-packages (from nbconvert==6.0.7->notebook>=4.4.1->widgetsnbextension~=3.5.0->ipywidgets==7.6.5) (0.1.2)\n",
      "Requirement already satisfied: nbclient<0.6.0,>=0.5.0 in /shared-libs/python3.7/py-core/lib/python3.7/site-packages (from nbconvert==6.0.7->notebook>=4.4.1->widgetsnbextension~=3.5.0->ipywidgets==7.6.5) (0.5.9)\n",
      "Requirement already satisfied: defusedxml in /shared-libs/python3.7/py-core/lib/python3.7/site-packages (from nbconvert==6.0.7->notebook>=4.4.1->widgetsnbextension~=3.5.0->ipywidgets==7.6.5) (0.7.1)\n",
      "Requirement already satisfied: mistune<2,>=0.8.1 in /shared-libs/python3.7/py-core/lib/python3.7/site-packages (from nbconvert==6.0.7->notebook>=4.4.1->widgetsnbextension~=3.5.0->ipywidgets==7.6.5) (0.8.4)\n",
      "Requirement already satisfied: MarkupSafe>=2.0 in /shared-libs/python3.7/py-core/lib/python3.7/site-packages (from jinja2->notebook>=4.4.1->widgetsnbextension~=3.5.0->ipywidgets==7.6.5) (2.1.0)\n",
      "Requirement already satisfied: zipp>=0.5 in /shared-libs/python3.7/py-core/lib/python3.7/site-packages (from importlib-metadata; python_version < \"3.8\"->jsonschema!=2.5.0,>=2.4->nbformat>=4.2.0->ipywidgets==7.6.5) (3.7.0)\n",
      "Requirement already satisfied: cffi>=1.0.1 in /shared-libs/python3.7/py-core/lib/python3.7/site-packages (from argon2-cffi-bindings->argon2-cffi->notebook>=4.4.1->widgetsnbextension~=3.5.0->ipywidgets==7.6.5) (1.15.0)\n",
      "Requirement already satisfied: packaging in /shared-libs/python3.7/py-core/lib/python3.7/site-packages (from bleach->nbconvert==6.0.7->notebook>=4.4.1->widgetsnbextension~=3.5.0->ipywidgets==7.6.5) (21.3)\n",
      "Requirement already satisfied: webencodings in /shared-libs/python3.7/py-core/lib/python3.7/site-packages (from bleach->nbconvert==6.0.7->notebook>=4.4.1->widgetsnbextension~=3.5.0->ipywidgets==7.6.5) (0.5.1)\n",
      "Requirement already satisfied: nest-asyncio in /shared-libs/python3.7/py-core/lib/python3.7/site-packages (from nbclient<0.6.0,>=0.5.0->nbconvert==6.0.7->notebook>=4.4.1->widgetsnbextension~=3.5.0->ipywidgets==7.6.5) (1.5.4)\n",
      "Requirement already satisfied: pycparser in /shared-libs/python3.7/py-core/lib/python3.7/site-packages (from cffi>=1.0.1->argon2-cffi-bindings->argon2-cffi->notebook>=4.4.1->widgetsnbextension~=3.5.0->ipywidgets==7.6.5) (2.21)\n",
      "Requirement already satisfied: pyparsing!=3.0.5,>=2.0.2 in /shared-libs/python3.7/py-core/lib/python3.7/site-packages (from packaging->bleach->nbconvert==6.0.7->notebook>=4.4.1->widgetsnbextension~=3.5.0->ipywidgets==7.6.5) (3.0.7)\n",
      "\u001b[33mWARNING: You are using pip version 20.1.1; however, version 22.0.4 is available.\n",
      "You should consider upgrading via the '/root/venv/bin/python -m pip install --upgrade pip' command.\u001b[0m\n"
     ]
    }
   ],
   "source": [
    "!pip install ipywidgets==7.6.5"
   ]
  },
  {
   "cell_type": "code",
   "execution_count": null,
   "metadata": {
    "cell_id": "b5485618-48dd-4fb5-b8e1-edc1cf3c5431",
    "deepnote_cell_height": 171.15625,
    "deepnote_cell_type": "code",
    "deepnote_to_be_reexecuted": false,
    "execution_millis": 1025,
    "execution_start": 1647320946890,
    "source_hash": "32d6ff9d",
    "tags": []
   },
   "outputs": [],
   "source": [
    "# Imports used for displaying a sequence of the dataset.\n",
    "import matplotlib.pyplot as plt\n",
    "\n",
    "import io\n",
    "from IPython.display import Image, display\n",
    "from ipywidgets import widgets, Layout, HBox"
   ]
  },
  {
   "cell_type": "code",
   "execution_count": null,
   "metadata": {
    "cell_id": "fffb87d2-2a8a-419d-b5e8-177801d9f82c",
    "deepnote_cell_height": 117.15625,
    "deepnote_cell_type": "code",
    "deepnote_to_be_reexecuted": false,
    "execution_millis": 5585,
    "execution_start": 1647320947916,
    "source_hash": "95e89368",
    "tags": []
   },
   "outputs": [],
   "source": [
    "# Imports used for the initial download of the data.\n",
    "import tensorflow as tf\n",
    "from tensorflow import keras"
   ]
  },
  {
   "cell_type": "markdown",
   "metadata": {
    "cell_id": "1a74d3e7-20d2-4129-9abe-b0e592e16813",
    "deepnote_cell_height": 88.53125,
    "deepnote_cell_type": "markdown",
    "tags": []
   },
   "source": [
    "### The initial download of the data.  \n",
    "Download the dataset and save it as to not download it again when working with it later on."
   ]
  },
  {
   "cell_type": "code",
   "execution_count": null,
   "metadata": {
    "cell_id": "90121794-11bb-494b-826c-e8ce4fc2a191",
    "deepnote_cell_height": 402.8125,
    "deepnote_cell_type": "code",
    "deepnote_to_be_reexecuted": false,
    "execution_millis": 17837,
    "execution_start": 1647320953505,
    "source_hash": "f6aeac7e",
    "tags": []
   },
   "outputs": [
    {
     "name": "stdout",
     "output_type": "stream",
     "text": [
      "Downloading data from http://www.cs.toronto.edu/~nitish/unsupervised_video/mnist_test_seq.npy\n",
      "819208192/819200096 [==============================] - 14s 0us/step\n",
      "819216384/819200096 [==============================] - 14s 0us/step\n"
     ]
    }
   ],
   "source": [
    "# Download and load the dataset.\n",
    "fpath = keras.utils.get_file(\n",
    "    \"moving_mnist.npy\",\n",
    "    \"http://www.cs.toronto.edu/~nitish/unsupervised_video/mnist_test_seq.npy\",\n",
    ")\n",
    "dataset = np.load(fpath)\n",
    "\n",
    "# Swap the axes representing the number of frames and number of data samples.\n",
    "dataset = np.swapaxes(dataset, 0, 1)\n",
    "# We'll pick out 1000 of the 10000 total examples and use those.\n",
    "dataset = dataset[:1000, ...]\n",
    "# Add a channel dimension since the images are grayscale.\n",
    "dataset = np.expand_dims(dataset, axis=-1)\n",
    "\n",
    "np.save(\"dataset.npy\", dataset)"
   ]
  },
  {
   "cell_type": "code",
   "execution_count": null,
   "metadata": {
    "cell_id": "d5bab54b-c313-4940-b6a1-b4d4ab493266",
    "deepnote_cell_height": 81.15625,
    "deepnote_cell_type": "code",
    "deepnote_to_be_reexecuted": false,
    "execution_millis": 462,
    "execution_start": 1647320971353,
    "source_hash": "1447aaf6",
    "tags": []
   },
   "outputs": [],
   "source": [
    "dataset = np.load(\"dataset.npy\")[:100].astype(float)"
   ]
  },
  {
   "cell_type": "code",
   "execution_count": null,
   "metadata": {
    "cell_id": "d6d4534f-c0ae-4db4-997c-cdab5a4fe2a6",
    "deepnote_cell_height": 477.15625,
    "deepnote_cell_type": "code",
    "deepnote_to_be_reexecuted": false,
    "execution_millis": 103,
    "execution_start": 1647320971835,
    "source_hash": "249717b2",
    "tags": []
   },
   "outputs": [],
   "source": [
    "# Split into train and validation sets using indexing to optimize memory.\n",
    "indexes = np.arange(dataset.shape[0])\n",
    "np.random.shuffle(indexes)\n",
    "train_index = indexes[: int(0.9 * dataset.shape[0])]\n",
    "val_index = indexes[int(0.9 * dataset.shape[0]) :]\n",
    "train_dataset = dataset[train_index]\n",
    "val_dataset = dataset[val_index]\n",
    "\n",
    "# Normalize the data to the 0-1 range.\n",
    "train_dataset = train_dataset / 255\n",
    "val_dataset = val_dataset / 255\n",
    "\n",
    "# Split the data into half and append the half to the dataset\n",
    "# Remove the last frame and make that the y.\n",
    "def create_X_y(data):\n",
    "    mid = int(data.shape[1]/2 - 1)\n",
    "    X = np.append(data[:, 0 : mid, :, :],data[:,mid+1:-1,:,:],axis=0)\n",
    "    y = np.append(data[:, mid, :, :],data[:,-1,:,:],axis=0)\n",
    "    return X, y\n",
    "\n",
    "# Apply the processing function to the datasets.\n",
    "X_train, y_train = create_X_y(train_dataset)\n",
    "X_val, y_val = create_X_y(val_dataset)"
   ]
  },
  {
   "cell_type": "markdown",
   "metadata": {
    "cell_id": "5de08ecf-db84-4d4c-88b6-b8d566290558",
    "deepnote_cell_height": 52.546875,
    "deepnote_cell_type": "markdown",
    "tags": []
   },
   "source": [
    "We save and load the training and validation sets here to save time when working with the project later."
   ]
  },
  {
   "cell_type": "code",
   "execution_count": null,
   "metadata": {
    "cell_id": "74fcb916-704d-4032-b071-783130d6a7f4",
    "deepnote_cell_height": 154.15625,
    "deepnote_cell_type": "code",
    "deepnote_to_be_reexecuted": false,
    "execution_millis": 198,
    "execution_start": 1647320971957,
    "source_hash": "932e1607",
    "tags": []
   },
   "outputs": [],
   "source": [
    "# Save the dataset.\n",
    "np.save(\"X_train.npy\",X_train)\n",
    "np.save(\"y_train.npy\",y_train)\n",
    "np.save(\"X_val.npy\",X_val)\n",
    "np.save(\"y_val.npy\",y_val)"
   ]
  },
  {
   "cell_type": "code",
   "execution_count": null,
   "metadata": {
    "cell_id": "ea2740e4-bd4d-4333-acda-d577c49d04a0",
    "deepnote_cell_height": 154.15625,
    "deepnote_cell_type": "code",
    "deepnote_to_be_reexecuted": false,
    "execution_millis": 180,
    "execution_start": 1647320972161,
    "source_hash": "74f4c82b",
    "tags": []
   },
   "outputs": [],
   "source": [
    "# Load the dataset.\n",
    "X_train = np.load(\"X_train.npy\").astype(float)\n",
    "y_train = np.load(\"y_train.npy\").astype(float)\n",
    "X_val = np.load(\"X_val.npy\").astype(float)\n",
    "y_val = np.load(\"y_val.npy\").astype(float)"
   ]
  },
  {
   "cell_type": "markdown",
   "metadata": {
    "cell_id": "ebc04eef-30cd-475c-bd17-f5e01d37e6e3",
    "deepnote_cell_height": 74.921875,
    "deepnote_cell_type": "markdown",
    "tags": []
   },
   "source": [
    "The original dataset has 100 samples of sequences, with 20 frames each.  We split each sequence into two, effectively making the dataset 200 samples of 10 frame sequences.  This was done to save memory."
   ]
  },
  {
   "cell_type": "code",
   "execution_count": null,
   "metadata": {
    "cell_id": "1f87a00c-c2b4-409b-b74e-a9b8edfe663a",
    "deepnote_cell_height": 203.8125,
    "deepnote_cell_type": "code",
    "deepnote_to_be_reexecuted": false,
    "execution_millis": 1,
    "execution_start": 1647320972355,
    "source_hash": "7c13b778",
    "tags": []
   },
   "outputs": [
    {
     "name": "stdout",
     "output_type": "stream",
     "text": [
      "Original Dataset Shape: (100, 20, 64, 64, 1)\n",
      "Original Training Dataset Shape: (90, 20, 64, 64, 1)\n",
      "Original Validation Dataset Shape: (10, 20, 64, 64, 1)\n"
     ]
    }
   ],
   "source": [
    "# Inspect the dataset.\n",
    "print(f\"Original Dataset Shape: {dataset.shape}\")\n",
    "print(f\"Original Training Dataset Shape: {train_dataset.shape}\")\n",
    "print(f\"Original Validation Dataset Shape: {val_dataset.shape}\")"
   ]
  },
  {
   "cell_type": "code",
   "execution_count": null,
   "metadata": {
    "cell_id": "988fe0b5-c8d6-4520-a0e2-d9b23e147911",
    "deepnote_cell_height": 148.625,
    "deepnote_cell_type": "code",
    "deepnote_to_be_reexecuted": false,
    "execution_millis": 277913144,
    "execution_start": 1647320972417,
    "source_hash": "46d9d7e5",
    "tags": []
   },
   "outputs": [
    {
     "name": "stdout",
     "output_type": "stream",
     "text": [
      "Modified Training Dataset Shapes: (180, 9, 64, 64, 1), (180, 64, 64, 1)\n",
      "Modified Validation Dataset Shapes: (20, 9, 64, 64, 1), (20, 64, 64, 1)\n"
     ]
    }
   ],
   "source": [
    "print(f\"Modified Training Dataset Shapes: {X_train.shape}, {y_train.shape}\")\n",
    "print(f\"Modified Validation Dataset Shapes: {X_val.shape}, {y_val.shape}\")"
   ]
  },
  {
   "cell_type": "markdown",
   "metadata": {
    "cell_id": "d73dce64-67d7-4438-8dba-f9024d6187b4",
    "deepnote_cell_height": 52.546875,
    "deepnote_cell_type": "markdown",
    "tags": []
   },
   "source": [
    "We create a custom iterable class in order to create batches of the dataset."
   ]
  },
  {
   "cell_type": "code",
   "execution_count": null,
   "metadata": {
    "cell_id": "ac726467-a54b-4347-bea0-f809990aab9e",
    "deepnote_cell_height": 387.15625,
    "deepnote_cell_type": "code",
    "deepnote_to_be_reexecuted": false,
    "execution_millis": 285348020,
    "execution_start": 1647320972417,
    "source_hash": "1f923cab",
    "tags": []
   },
   "outputs": [],
   "source": [
    "class CustomDataset(Dataset):\n",
    "    def __init__(self, dataset_X, dataset_y, transform=None, target_transform=None):\n",
    "        self.data_X = dataset_X\n",
    "        self.data_y = dataset_y\n",
    "        self.transform = transform\n",
    "        self.target_transform = target_transform\n",
    "\n",
    "    def __len__(self):\n",
    "        return len(self.data_X)\n",
    "\n",
    "    def __getitem__(self, idx):\n",
    "        X = self.data_X[idx]\n",
    "        y = self.data_y[idx]\n",
    "        if self.transform:\n",
    "            X = self.transform(X)\n",
    "        if self.target_transform:\n",
    "            y = self.target_transform(y)\n",
    "        return X, y"
   ]
  },
  {
   "cell_type": "code",
   "execution_count": null,
   "metadata": {
    "cell_id": "90efc163-8136-4304-b476-42b327c6a485",
    "deepnote_cell_height": 368.171875,
    "deepnote_cell_type": "code",
    "deepnote_to_be_reexecuted": false,
    "execution_millis": 3,
    "execution_start": 1647320972465,
    "source_hash": "769865e8",
    "tags": []
   },
   "outputs": [
    {
     "name": "stdout",
     "output_type": "stream",
     "text": [
      "Shape of X:\n",
      "torch.Size([5, 9, 64, 64, 1])\n",
      "\n",
      "Shape of y:\n",
      "torch.Size([5, 64, 64, 1])\n"
     ]
    }
   ],
   "source": [
    "batch_size = 5\n",
    "\n",
    "train_dataloader = DataLoader(CustomDataset(X_train,y_train), batch_size=batch_size)\n",
    "test_dataloader = DataLoader(CustomDataset(X_val,y_val), batch_size=batch_size)\n",
    "\n",
    "X, y = next(iter(train_dataloader))\n",
    "print(f\"Shape of X:\\n{X.shape}\")\n",
    "\n",
    "print(\"\")\n",
    "\n",
    "print(f\"Shape of y:\\n{y.shape}\")"
   ]
  },
  {
   "cell_type": "markdown",
   "metadata": {
    "cell_id": "295c2985-5be1-480a-95fa-ef7b84b9834e",
    "deepnote_cell_height": 97.296875,
    "deepnote_cell_type": "markdown",
    "tags": []
   },
   "source": [
    "PyTorch has LSTM layers, which probably would have helped making the neural network more accurate in predicting the last frame.  However, we instead use two linear layers to keep things more simple.  \n",
    "I also ran out of memory when using more than 2 linear layers, and so I reduced it to only two layers."
   ]
  },
  {
   "cell_type": "code",
   "execution_count": null,
   "metadata": {
    "cell_id": "1fa7c021-fb3d-43c8-a6e0-e40f576fa5f3",
    "deepnote_cell_height": 297.15625,
    "deepnote_cell_type": "code",
    "deepnote_to_be_reexecuted": false,
    "execution_millis": 285347965,
    "execution_start": 1647320972466,
    "source_hash": "30652b0b",
    "tags": []
   },
   "outputs": [],
   "source": [
    "class Frames(nn.Module) :\n",
    "    def __init__(self) :\n",
    "        super().__init__()\n",
    "        self.flatten = nn.Flatten()\n",
    "        self.layers = nn.Sequential(\n",
    "            nn.Linear(9*64*64, 2*64*64),\n",
    "            nn.ReLU(),\n",
    "            nn.Linear(2*64*64, 64*64),\n",
    "            nn.Sigmoid()\n",
    "        )\n",
    "\n",
    "    def forward(self, x) :\n",
    "        return self.layers(self.flatten(x))"
   ]
  },
  {
   "cell_type": "code",
   "execution_count": null,
   "metadata": {
    "cell_id": "edc29305-680b-463d-bb26-5fa92d7ceb2c",
    "deepnote_cell_height": 81.15625,
    "deepnote_cell_type": "code",
    "deepnote_to_be_reexecuted": false,
    "execution_millis": 5114,
    "execution_start": 1647320972512,
    "source_hash": "8a09c585",
    "tags": []
   },
   "outputs": [],
   "source": [
    "my_nn = Frames()"
   ]
  },
  {
   "cell_type": "code",
   "execution_count": null,
   "metadata": {
    "cell_id": "0fb22371-1065-49a4-a227-b4d7e2c9ba22",
    "deepnote_cell_height": 81.15625,
    "deepnote_cell_type": "code",
    "deepnote_to_be_reexecuted": false,
    "execution_millis": 7,
    "execution_start": 1647320977632,
    "source_hash": "851002be",
    "tags": []
   },
   "outputs": [],
   "source": [
    "loss_fn = nn.MSELoss()"
   ]
  },
  {
   "cell_type": "code",
   "execution_count": null,
   "metadata": {
    "cell_id": "0566384f-184e-49f2-b97e-f9a5d94f5299",
    "deepnote_cell_height": 81.15625,
    "deepnote_cell_type": "code",
    "deepnote_to_be_reexecuted": false,
    "execution_millis": 8,
    "execution_start": 1647320977646,
    "source_hash": "2c2f99c4",
    "tags": []
   },
   "outputs": [],
   "source": [
    "optimizer = torch.optim.SGD(my_nn.parameters(), lr=0.25)"
   ]
  },
  {
   "cell_type": "markdown",
   "metadata": {
    "cell_id": "50bbc04b-65a4-49da-99b2-1d2a95c97a3b",
    "deepnote_cell_height": 52.546875,
    "deepnote_cell_type": "markdown",
    "tags": []
   },
   "source": [
    "We train the neural network on the dataset while keeping track of the loss along the way."
   ]
  },
  {
   "cell_type": "code",
   "execution_count": null,
   "metadata": {
    "cell_id": "ee487a0e-b4c8-4b60-85c8-2d7449ac785d",
    "deepnote_cell_height": 135.171875,
    "deepnote_cell_type": "code",
    "deepnote_to_be_reexecuted": false,
    "execution_millis": 14,
    "execution_start": 1647320977660,
    "source_hash": "6e45939f",
    "tags": []
   },
   "outputs": [],
   "source": [
    "epochs = 20\n",
    "\n",
    "training_loss = np.zeros(epochs)\n",
    "test_loss = np.zeros(epochs)"
   ]
  },
  {
   "cell_type": "code",
   "execution_count": null,
   "metadata": {
    "cell_id": "0cda5aa9-4f2e-4b46-9fa4-0b12c16f8954",
    "deepnote_cell_height": 1045.15625,
    "deepnote_cell_type": "code",
    "deepnote_to_be_reexecuted": false,
    "execution_millis": 1629469,
    "execution_start": 1647320977675,
    "source_hash": "5f9fbb30",
    "tags": [
     "output_scroll"
    ]
   },
   "outputs": [
    {
     "name": "stdout",
     "output_type": "stream",
     "text": [
      "Training loss:\n",
      "0.23940129578113556\n",
      "Test loss:\n",
      "0.23851247131824493\n",
      "\n",
      "Training loss:\n",
      "0.23201878368854523\n",
      "Test loss:\n",
      "0.23074856400489807\n",
      "\n",
      "Training loss:\n",
      "0.21782059967517853\n",
      "Test loss:\n",
      "0.2155887633562088\n",
      "\n",
      "Training loss:\n",
      "0.1911080926656723\n",
      "Test loss:\n",
      "0.18724694848060608\n",
      "\n",
      "Training loss:\n",
      "0.15148711204528809\n",
      "Test loss:\n",
      "0.14617511630058289\n",
      "\n",
      "Training loss:\n",
      "0.1117292195558548\n",
      "Test loss:\n",
      "0.10660617053508759\n",
      "\n",
      "Training loss:\n",
      "0.08406315743923187\n",
      "Test loss:\n",
      "0.08047157526016235\n",
      "\n",
      "Training loss:\n",
      "0.06786681711673737\n",
      "Test loss:\n",
      "0.06595981121063232\n",
      "\n",
      "Training loss:\n",
      "0.0584770068526268\n",
      "Test loss:\n",
      "0.057928383350372314\n",
      "\n",
      "Training loss:\n",
      "0.05274160951375961\n",
      "Test loss:\n",
      "0.05320139601826668\n",
      "\n",
      "Training loss:\n",
      "0.04901493713259697\n",
      "Test loss:\n",
      "0.05021515488624573\n",
      "\n",
      "Training loss:\n",
      "0.046455468982458115\n",
      "Test loss:\n",
      "0.0482061505317688\n",
      "\n",
      "Training loss:\n",
      "0.04461423307657242\n",
      "Test loss:\n",
      "0.04678148403763771\n",
      "\n",
      "Training loss:\n",
      "0.04323801398277283\n",
      "Test loss:\n",
      "0.045726608484983444\n",
      "\n",
      "Training loss:\n",
      "0.04217633605003357\n",
      "Test loss:\n",
      "0.04491732269525528\n",
      "\n",
      "Training loss:\n",
      "0.04133544862270355\n",
      "Test loss:\n",
      "0.0442778654396534\n",
      "\n",
      "Training loss:\n",
      "0.04065444692969322\n",
      "Test loss:\n",
      "0.04376004636287689\n",
      "\n",
      "Training loss:\n",
      "0.040092431008815765\n",
      "Test loss:\n",
      "0.043331943452358246\n",
      "\n",
      "Training loss:\n",
      "0.0396210141479969\n",
      "Test loss:\n",
      "0.04297170788049698\n",
      "\n",
      "Training loss:\n",
      "0.03921999782323837\n",
      "Test loss:\n",
      "0.042663998901844025\n",
      "\n"
     ]
    }
   ],
   "source": [
    "for i in range(epochs):\n",
    "    for X,y in train_dataloader:\n",
    "        X = X.float()\n",
    "        y = y.float()\n",
    "        loss = loss_fn(my_nn(X),y.flatten(1,3))\n",
    "        optimizer.zero_grad()\n",
    "        loss.backward()\n",
    "        optimizer.step()\n",
    "    print(f\"Training loss:\\n{loss}\") # We only print one loss per epoch\n",
    "    training_loss[i] = loss.item()\n",
    "\n",
    "    for X,y in test_dataloader:\n",
    "        X = X.float()\n",
    "        y = y.float()\n",
    "        loss = loss_fn(my_nn(X),y.flatten(1,3))\n",
    "        print(f\"Test loss:\\n{loss}\")\n",
    "        test_loss[i] = loss.item()\n",
    "        break # We only compute and print one test loss per epoch\n",
    "\n",
    "    print(\"\")"
   ]
  },
  {
   "cell_type": "code",
   "execution_count": null,
   "metadata": {
    "cell_id": "5d2d767f-79eb-4c69-8b5c-7b0093a029dc",
    "deepnote_cell_height": 118.15625,
    "deepnote_cell_type": "code",
    "deepnote_to_be_reexecuted": false,
    "execution_millis": 20,
    "execution_start": 1647322606948,
    "source_hash": "f35a1013",
    "tags": []
   },
   "outputs": [],
   "source": [
    "# Save the loss to file.\n",
    "np.save(\"training_loss.npy\", training_loss)\n",
    "np.save(\"test_loss.npy\", test_loss)"
   ]
  },
  {
   "cell_type": "code",
   "execution_count": null,
   "metadata": {
    "cell_id": "37bfd6d0-2c1e-43ac-bce6-e60e0a43df79",
    "deepnote_cell_height": 118.15625,
    "deepnote_cell_type": "code",
    "deepnote_to_be_reexecuted": false,
    "execution_millis": 50403634,
    "execution_start": 1647322606977,
    "source_hash": "214652d0",
    "tags": []
   },
   "outputs": [],
   "source": [
    "# Load the loss from file.\n",
    "training_loss = np.load(\"training_loss.npy\")\n",
    "test_loss = np.load(\"test_loss.npy\")"
   ]
  },
  {
   "cell_type": "code",
   "execution_count": null,
   "metadata": {
    "cell_id": "5df4a16c-7c14-4613-a2da-e7de42946cc1",
    "deepnote_cell_height": 411.296875,
    "deepnote_cell_type": "code",
    "deepnote_table_loading": false,
    "deepnote_table_state": {
     "filters": [],
     "pageIndex": 0,
     "pageSize": 10,
     "sortBy": []
    },
    "deepnote_to_be_reexecuted": false,
    "execution_millis": 167,
    "execution_start": 1647322606985,
    "source_hash": "2d270103",
    "tags": []
   },
   "outputs": [
    {
     "data": {
      "application/vnd.deepnote.dataframe.v3+json": {
       "column_count": 3,
       "columns": [
        {
         "dtype": "int64",
         "name": "Epoch",
         "stats": {
          "histogram": [
           {
            "bin_end": 1.4,
            "bin_start": 1,
            "count": 1
           },
           {
            "bin_end": 1.8,
            "bin_start": 1.4,
            "count": 0
           },
           {
            "bin_end": 2.2,
            "bin_start": 1.8,
            "count": 1
           },
           {
            "bin_end": 2.6,
            "bin_start": 2.2,
            "count": 0
           },
           {
            "bin_end": 3,
            "bin_start": 2.6,
            "count": 0
           },
           {
            "bin_end": 3.4000000000000004,
            "bin_start": 3,
            "count": 1
           },
           {
            "bin_end": 3.8000000000000003,
            "bin_start": 3.4000000000000004,
            "count": 0
           },
           {
            "bin_end": 4.2,
            "bin_start": 3.8000000000000003,
            "count": 1
           },
           {
            "bin_end": 4.6,
            "bin_start": 4.2,
            "count": 0
           },
           {
            "bin_end": 5,
            "bin_start": 4.6,
            "count": 1
           }
          ],
          "max": "5",
          "min": "1",
          "nan_count": 0,
          "unique_count": 5
         }
        },
        {
         "dtype": "float64",
         "name": "train_loss",
         "stats": {
          "histogram": [
           {
            "bin_end": 0.16027853041887283,
            "bin_start": 0.15148711204528809,
            "count": 1
           },
           {
            "bin_end": 0.16906994879245757,
            "bin_start": 0.16027853041887283,
            "count": 0
           },
           {
            "bin_end": 0.17786136716604234,
            "bin_start": 0.16906994879245757,
            "count": 0
           },
           {
            "bin_end": 0.18665278553962708,
            "bin_start": 0.17786136716604234,
            "count": 0
           },
           {
            "bin_end": 0.19544420391321182,
            "bin_start": 0.18665278553962708,
            "count": 1
           },
           {
            "bin_end": 0.20423562228679656,
            "bin_start": 0.19544420391321182,
            "count": 0
           },
           {
            "bin_end": 0.2130270406603813,
            "bin_start": 0.20423562228679656,
            "count": 0
           },
           {
            "bin_end": 0.22181845903396608,
            "bin_start": 0.2130270406603813,
            "count": 1
           },
           {
            "bin_end": 0.2306098774075508,
            "bin_start": 0.22181845903396608,
            "count": 0
           },
           {
            "bin_end": 0.23940129578113556,
            "bin_start": 0.2306098774075508,
            "count": 2
           }
          ],
          "max": "0.23940129578113556",
          "min": "0.15148711204528809",
          "nan_count": 0,
          "unique_count": 5
         }
        },
        {
         "dtype": "float64",
         "name": "test_loss",
         "stats": {
          "histogram": [
           {
            "bin_end": 0.1554088518023491,
            "bin_start": 0.14617511630058289,
            "count": 1
           },
           {
            "bin_end": 0.1646425873041153,
            "bin_start": 0.1554088518023491,
            "count": 0
           },
           {
            "bin_end": 0.1738763228058815,
            "bin_start": 0.1646425873041153,
            "count": 0
           },
           {
            "bin_end": 0.1831100583076477,
            "bin_start": 0.1738763228058815,
            "count": 0
           },
           {
            "bin_end": 0.1923437938094139,
            "bin_start": 0.1831100583076477,
            "count": 1
           },
           {
            "bin_end": 0.20157752931118011,
            "bin_start": 0.1923437938094139,
            "count": 0
           },
           {
            "bin_end": 0.21081126481294632,
            "bin_start": 0.20157752931118011,
            "count": 0
           },
           {
            "bin_end": 0.22004500031471252,
            "bin_start": 0.21081126481294632,
            "count": 1
           },
           {
            "bin_end": 0.22927873581647873,
            "bin_start": 0.22004500031471252,
            "count": 0
           },
           {
            "bin_end": 0.23851247131824493,
            "bin_start": 0.22927873581647873,
            "count": 2
           }
          ],
          "max": "0.23851247131824493",
          "min": "0.14617511630058289",
          "nan_count": 0,
          "unique_count": 5
         }
        },
        {
         "dtype": "int64",
         "name": "_deepnote_index_column"
        }
       ],
       "row_count": 5,
       "rows": [
        {
         "Epoch": 1,
         "_deepnote_index_column": 0,
         "test_loss": 0.23851247131824493,
         "train_loss": 0.23940129578113556
        },
        {
         "Epoch": 2,
         "_deepnote_index_column": 1,
         "test_loss": 0.23074856400489807,
         "train_loss": 0.23201878368854523
        },
        {
         "Epoch": 3,
         "_deepnote_index_column": 2,
         "test_loss": 0.2155887633562088,
         "train_loss": 0.21782059967517853
        },
        {
         "Epoch": 4,
         "_deepnote_index_column": 3,
         "test_loss": 0.18724694848060608,
         "train_loss": 0.1911080926656723
        },
        {
         "Epoch": 5,
         "_deepnote_index_column": 4,
         "test_loss": 0.14617511630058289,
         "train_loss": 0.15148711204528809
        }
       ]
      },
      "text/html": [
       "<div>\n",
       "<style scoped>\n",
       "    .dataframe tbody tr th:only-of-type {\n",
       "        vertical-align: middle;\n",
       "    }\n",
       "\n",
       "    .dataframe tbody tr th {\n",
       "        vertical-align: top;\n",
       "    }\n",
       "\n",
       "    .dataframe thead th {\n",
       "        text-align: right;\n",
       "    }\n",
       "</style>\n",
       "<table border=\"1\" class=\"dataframe\">\n",
       "  <thead>\n",
       "    <tr style=\"text-align: right;\">\n",
       "      <th></th>\n",
       "      <th>Epoch</th>\n",
       "      <th>train_loss</th>\n",
       "      <th>test_loss</th>\n",
       "    </tr>\n",
       "  </thead>\n",
       "  <tbody>\n",
       "    <tr>\n",
       "      <th>0</th>\n",
       "      <td>1</td>\n",
       "      <td>0.239401</td>\n",
       "      <td>0.238512</td>\n",
       "    </tr>\n",
       "    <tr>\n",
       "      <th>1</th>\n",
       "      <td>2</td>\n",
       "      <td>0.232019</td>\n",
       "      <td>0.230749</td>\n",
       "    </tr>\n",
       "    <tr>\n",
       "      <th>2</th>\n",
       "      <td>3</td>\n",
       "      <td>0.217821</td>\n",
       "      <td>0.215589</td>\n",
       "    </tr>\n",
       "    <tr>\n",
       "      <th>3</th>\n",
       "      <td>4</td>\n",
       "      <td>0.191108</td>\n",
       "      <td>0.187247</td>\n",
       "    </tr>\n",
       "    <tr>\n",
       "      <th>4</th>\n",
       "      <td>5</td>\n",
       "      <td>0.151487</td>\n",
       "      <td>0.146175</td>\n",
       "    </tr>\n",
       "  </tbody>\n",
       "</table>\n",
       "</div>"
      ],
      "text/plain": [
       "   Epoch  train_loss  test_loss\n",
       "0      1    0.239401   0.238512\n",
       "1      2    0.232019   0.230749\n",
       "2      3    0.217821   0.215589\n",
       "3      4    0.191108   0.187247\n",
       "4      5    0.151487   0.146175"
      ]
     },
     "execution_count": 22,
     "metadata": {},
     "output_type": "execute_result"
    }
   ],
   "source": [
    "scores = pd.DataFrame({\"Epoch\":range(1,epochs+1), \"train_loss\":training_loss, \"test_loss\":test_loss})\n",
    "scores.head()"
   ]
  },
  {
   "cell_type": "markdown",
   "metadata": {
    "cell_id": "8cc2f6ea-9b9a-4bb7-9f45-174603cd3d7b",
    "deepnote_cell_height": 52.546875,
    "deepnote_cell_type": "markdown",
    "tags": []
   },
   "source": [
    "Here, we plot loss over each epoch for both the test loss and training loss."
   ]
  },
  {
   "cell_type": "code",
   "execution_count": null,
   "metadata": {
    "cell_id": "4580640e-8e4a-4d4e-b36a-f140d52369fb",
    "deepnote_cell_height": 855.234375,
    "deepnote_cell_type": "code",
    "deepnote_output_heights": [
     577.96875
    ],
    "deepnote_to_be_reexecuted": false,
    "execution_millis": 108,
    "execution_start": 1647322607044,
    "source_hash": "908aff08",
    "tags": []
   },
   "outputs": [
    {
     "data": {
      "text/html": [
       "\n",
       "<div id=\"altair-viz-876023bf07b84159b570d860161a243a\"></div>\n",
       "<script type=\"text/javascript\">\n",
       "  (function(spec, embedOpt){\n",
       "    let outputDiv = document.currentScript.previousElementSibling;\n",
       "    if (outputDiv.id !== \"altair-viz-876023bf07b84159b570d860161a243a\") {\n",
       "      outputDiv = document.getElementById(\"altair-viz-876023bf07b84159b570d860161a243a\");\n",
       "    }\n",
       "    const paths = {\n",
       "      \"vega\": \"https://cdn.jsdelivr.net/npm//vega@5?noext\",\n",
       "      \"vega-lib\": \"https://cdn.jsdelivr.net/npm//vega-lib?noext\",\n",
       "      \"vega-lite\": \"https://cdn.jsdelivr.net/npm//vega-lite@4.8.1?noext\",\n",
       "      \"vega-embed\": \"https://cdn.jsdelivr.net/npm//vega-embed@6?noext\",\n",
       "    };\n",
       "\n",
       "    function loadScript(lib) {\n",
       "      return new Promise(function(resolve, reject) {\n",
       "        var s = document.createElement('script');\n",
       "        s.src = paths[lib];\n",
       "        s.async = true;\n",
       "        s.onload = () => resolve(paths[lib]);\n",
       "        s.onerror = () => reject(`Error loading script: ${paths[lib]}`);\n",
       "        document.getElementsByTagName(\"head\")[0].appendChild(s);\n",
       "      });\n",
       "    }\n",
       "\n",
       "    function showError(err) {\n",
       "      outputDiv.innerHTML = `<div class=\"error\" style=\"color:red;\">${err}</div>`;\n",
       "      throw err;\n",
       "    }\n",
       "\n",
       "    function displayChart(vegaEmbed) {\n",
       "      vegaEmbed(outputDiv, spec, embedOpt)\n",
       "        .catch(err => showError(`Javascript Error: ${err.message}<br>This usually means there's a typo in your chart specification. See the javascript console for the full traceback.`));\n",
       "    }\n",
       "\n",
       "    if(typeof define === \"function\" && define.amd) {\n",
       "      requirejs.config({paths});\n",
       "      require([\"vega-embed\"], displayChart, err => showError(`Error loading script: ${err.message}`));\n",
       "    } else if (typeof vegaEmbed === \"function\") {\n",
       "      displayChart(vegaEmbed);\n",
       "    } else {\n",
       "      loadScript(\"vega\")\n",
       "        .then(() => loadScript(\"vega-lite\"))\n",
       "        .then(() => loadScript(\"vega-embed\"))\n",
       "        .catch(showError)\n",
       "        .then(() => displayChart(vegaEmbed));\n",
       "    }\n",
       "  })({\"config\": {\"view\": {\"continuousWidth\": 400, \"continuousHeight\": 300}}, \"data\": {\"name\": \"data-c2238d5d0b5a11c476a15491db6153e9\"}, \"mark\": \"line\", \"encoding\": {\"color\": {\"type\": \"nominal\", \"field\": \"key\", \"title\": \"Legend\"}, \"x\": {\"type\": \"quantitative\", \"field\": \"Epoch\", \"scale\": {\"domain\": [1, 20], \"nice\": false}}, \"y\": {\"type\": \"quantitative\", \"field\": \"value\", \"scale\": {\"zero\": false}, \"title\": \"Loss\"}}, \"height\": 500, \"title\": \"Test Loss vs Train Loss\", \"transform\": [{\"fold\": [\"train_loss\", \"test_loss\"]}], \"width\": 1000, \"$schema\": \"https://vega.github.io/schema/vega-lite/v4.8.1.json\", \"datasets\": {\"data-c2238d5d0b5a11c476a15491db6153e9\": [{\"Epoch\": 1, \"train_loss\": 0.23940129578113556, \"test_loss\": 0.23851247131824493}, {\"Epoch\": 2, \"train_loss\": 0.23201878368854523, \"test_loss\": 0.23074856400489807}, {\"Epoch\": 3, \"train_loss\": 0.21782059967517853, \"test_loss\": 0.2155887633562088}, {\"Epoch\": 4, \"train_loss\": 0.1911080926656723, \"test_loss\": 0.18724694848060608}, {\"Epoch\": 5, \"train_loss\": 0.15148711204528809, \"test_loss\": 0.14617511630058289}, {\"Epoch\": 6, \"train_loss\": 0.1117292195558548, \"test_loss\": 0.10660617053508759}, {\"Epoch\": 7, \"train_loss\": 0.08406315743923187, \"test_loss\": 0.08047157526016235}, {\"Epoch\": 8, \"train_loss\": 0.06786681711673737, \"test_loss\": 0.06595981121063232}, {\"Epoch\": 9, \"train_loss\": 0.0584770068526268, \"test_loss\": 0.057928383350372314}, {\"Epoch\": 10, \"train_loss\": 0.05274160951375961, \"test_loss\": 0.05320139601826668}, {\"Epoch\": 11, \"train_loss\": 0.04901493713259697, \"test_loss\": 0.05021515488624573}, {\"Epoch\": 12, \"train_loss\": 0.046455468982458115, \"test_loss\": 0.0482061505317688}, {\"Epoch\": 13, \"train_loss\": 0.04461423307657242, \"test_loss\": 0.04678148403763771}, {\"Epoch\": 14, \"train_loss\": 0.04323801398277283, \"test_loss\": 0.045726608484983444}, {\"Epoch\": 15, \"train_loss\": 0.04217633605003357, \"test_loss\": 0.04491732269525528}, {\"Epoch\": 16, \"train_loss\": 0.04133544862270355, \"test_loss\": 0.0442778654396534}, {\"Epoch\": 17, \"train_loss\": 0.04065444692969322, \"test_loss\": 0.04376004636287689}, {\"Epoch\": 18, \"train_loss\": 0.040092431008815765, \"test_loss\": 0.043331943452358246}, {\"Epoch\": 19, \"train_loss\": 0.0396210141479969, \"test_loss\": 0.04297170788049698}, {\"Epoch\": 20, \"train_loss\": 0.03921999782323837, \"test_loss\": 0.042663998901844025}]}}, {\"mode\": \"vega-lite\"});\n",
       "</script>"
      ],
      "text/plain": [
       "alt.Chart(...)"
      ]
     },
     "execution_count": 23,
     "metadata": {},
     "output_type": "execute_result"
    }
   ],
   "source": [
    "alt.Chart(scores).mark_line().encode(\n",
    "    x= alt.X(\"Epoch\", scale = alt.Scale(nice=False, domain = (1,20))),\n",
    "    y=alt.Y('value:Q', title=\"Loss\", scale = alt.Scale(zero=False)),\n",
    "    color=alt.Color(\"key:N\",title=\"Legend\")\n",
    ").transform_fold(\n",
    "    fold=[\"train_loss\", \"test_loss\"]\n",
    ").properties(\n",
    "    title=\"Test Loss vs Train Loss\",\n",
    "    width = 1000,\n",
    "    height = 500\n",
    ")"
   ]
  },
  {
   "cell_type": "markdown",
   "metadata": {
    "cell_id": "5168530d-da35-4e38-9fd5-23ada5cfea27",
    "deepnote_cell_height": 52.546875,
    "deepnote_cell_type": "markdown",
    "tags": []
   },
   "source": [
    "Now, we take a look at a predicted output and see what it looks like."
   ]
  },
  {
   "cell_type": "code",
   "execution_count": null,
   "metadata": {
    "cell_id": "3ce78d2f-36e0-41e3-8418-edc5519c2263",
    "deepnote_cell_height": 82.140625,
    "deepnote_cell_type": "code",
    "deepnote_to_be_reexecuted": false,
    "execution_millis": 243,
    "execution_start": 1647322607129,
    "source_hash": "684f1c03",
    "tags": []
   },
   "outputs": [],
   "source": [
    "pred = my_nn(X)"
   ]
  },
  {
   "cell_type": "code",
   "execution_count": null,
   "metadata": {
    "cell_id": "f91c84f6-1568-432a-9893-8b251a65c8ca",
    "deepnote_cell_height": 203.8125,
    "deepnote_cell_type": "code",
    "deepnote_to_be_reexecuted": false,
    "execution_millis": 18,
    "execution_start": 1647322607390,
    "source_hash": "b8f0e293",
    "tags": []
   },
   "outputs": [
    {
     "name": "stdout",
     "output_type": "stream",
     "text": [
      "torch.Size([5, 9, 64, 64, 1])\n",
      "torch.Size([5, 64, 64, 1])\n",
      "torch.Size([5, 64, 64, 1])\n"
     ]
    }
   ],
   "source": [
    "pred = pred.reshape([5, 64, 64, 1])\n",
    "print(X.shape)\n",
    "print(y.shape)\n",
    "print(pred.shape)"
   ]
  },
  {
   "cell_type": "code",
   "execution_count": null,
   "metadata": {
    "cell_id": "a02b6a34-9d54-4f9c-8a57-dc1274f5a7aa",
    "deepnote_cell_height": 578.25,
    "deepnote_cell_type": "code",
    "deepnote_output_heights": [
     246.984375
    ],
    "deepnote_to_be_reexecuted": false,
    "execution_millis": 522,
    "execution_start": 1647322607458,
    "source_hash": "a3b810b0",
    "tags": []
   },
   "outputs": [
    {
     "data": {
      "image/png": "[encoded data removed]",
      "text/plain": [
       "<Figure size 720x288 with 10 Axes>"
      ]
     },
     "metadata": {
      "image/png": {
       "height": 245,
       "width": 572
      },
      "needs_background": "light"
     },
     "output_type": "display_data"
    }
   ],
   "source": [
    "# Construct a figure on which we will visualize the images.\n",
    "fig, axes = plt.subplots(2, 5, figsize=(10, 4))\n",
    "\n",
    "# Plot each of the sequential images for one random data example.\n",
    "for idx, ax in enumerate(axes.flat):\n",
    "    if idx != 9:\n",
    "        ax.imshow(np.squeeze(X[0][idx]), cmap=\"gray\")\n",
    "    else:\n",
    "        ax.imshow(np.squeeze(y[0]), cmap=\"gray\")\n",
    "    ax.set_title(f\"Frame {idx + 1}\")\n",
    "    ax.axis(\"off\")\n",
    "\n",
    "# Display the figure.\n",
    "plt.show()"
   ]
  },
  {
   "cell_type": "code",
   "execution_count": null,
   "metadata": {
    "cell_id": "99a200f2-70b1-49f3-8960-e4d5e3297a14",
    "deepnote_cell_height": 509.25,
    "deepnote_cell_type": "code",
    "deepnote_output_heights": [
     158.984375
    ],
    "deepnote_to_be_reexecuted": false,
    "execution_millis": 199,
    "execution_start": 1647322607985,
    "source_hash": "6618b7ae",
    "tags": []
   },
   "outputs": [
    {
     "data": {
      "image/png": "[encoded data removed]",
      "text/plain": [
       "<Figure size 360x216 with 2 Axes>"
      ]
     },
     "metadata": {
      "image/png": {
       "height": 157,
       "width": 293
      },
      "needs_background": "light"
     },
     "output_type": "display_data"
    }
   ],
   "source": [
    "# Construct a figure on which we will visualize the images.\n",
    "fig, axes = plt.subplots(1, 2, figsize=(5, 3))\n",
    "\n",
    "# Plot each of the sequential images for one random data example.\n",
    "\n",
    "axes[0].imshow(np.squeeze(y[0].detach().numpy()), cmap=\"gray\")\n",
    "axes[0].set_title(\"Actual last frame\")\n",
    "axes[0].axis(\"off\")\n",
    "\n",
    "axes[1].imshow(np.squeeze(pred[0].detach().numpy()), cmap=\"gray\")\n",
    "axes[1].set_title(\"Predicted last frame\")\n",
    "axes[1].axis(\"off\")\n",
    "\n",
    "# Print information and display the figure.\n",
    "plt.show()"
   ]
  },
  {
   "cell_type": "markdown",
   "metadata": {
    "cell_id": "75922aa8-c6e1-46d5-9c85-550df5b37982",
    "deepnote_cell_height": 175.671875,
    "deepnote_cell_type": "markdown",
    "tags": []
   },
   "source": [
    "## Summary\n",
    "\n",
    "The test loss is smaller than the training loss, which seems odd to the neural network is training to reduce training loss, not test loss.  \n",
    "I also assumed the predicted last frame would look more recognizable when comparing it to the actual last frame.  \n",
    "To improve the neural network, perhaps it should include some layer that more strictly returns greyscale pixels closer to black or full white, since each actual frame has very distinct bright numbers with black background.  It could also include an LSTM layer, which takes previous guesses and previous correct answers into account when predicting a frame in the sequence."
   ]
  },
  {
   "cell_type": "markdown",
   "metadata": {
    "cell_id": "fc42153e-0b6d-4c37-9e06-ee471cfb0534",
    "deepnote_cell_height": 108.53125,
    "deepnote_cell_type": "markdown",
    "tags": []
   },
   "source": [
    "## References\n",
    "\n",
    "Include references that you found helpful.  Also say where you found the dataset you used."
   ]
  },
  {
   "cell_type": "markdown",
   "metadata": {
    "cell_id": "ac89b5b9-02ed-46fd-8642-3c3679c5bf21",
    "deepnote_cell_height": 74.921875,
    "deepnote_cell_type": "markdown",
    "tags": []
   },
   "source": [
    "Download and cleaning of the dataset, matplotlib examples, etc. from Keras tutorial on frame prediction:  \n",
    "https://keras.io/examples/vision/conv_lstm/"
   ]
  },
  {
   "cell_type": "markdown",
   "metadata": {
    "created_in_deepnote_cell": true,
    "deepnote_cell_type": "markdown",
    "tags": []
   },
   "source": [
    "<a style='text-decoration:none;line-height:16px;display:flex;color:#5B5B62;padding:10px;justify-content:end;' href='https://deepnote.com?utm_source=created-in-deepnote-cell&projectId=e7d25786-d0b6-46ff-ae9c-55a1da4c0726' target=\"_blank\">\n",
    "<img alt='Created in deepnote.com' style='display:inline;max-height:16px;margin:0px;margin-right:7.5px;' src='data:image/svg+xml;base64,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' > </img>\n",
    "Created in <span style='font-weight:600;margin-left:4px;'>Deepnote</span></a>"
   ]
  }
 ],
 "metadata": {
  "deepnote": {
   "is_reactive": false
  },
  "deepnote_execution_queue": [],
  "deepnote_notebook_id": "97afb67d-06ce-4a63-bb3d-208672377dae",
  "kernelspec": {
   "display_name": "Python 3 (ipykernel)",
   "language": "python",
   "name": "python3"
  },
  "language_info": {
   "codemirror_mode": {
    "name": "ipython",
    "version": 3
   },
   "file_extension": ".py",
   "mimetype": "text/x-python",
   "name": "python",
   "nbconvert_exporter": "python",
   "pygments_lexer": "ipython3",
   "version": "3.8.12"
  }
 },
 "nbformat": 4,
 "nbformat_minor": 4
}
