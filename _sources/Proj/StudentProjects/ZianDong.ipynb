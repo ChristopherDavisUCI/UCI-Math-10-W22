{
 "cells": [
  {
   "cell_type": "markdown",
   "metadata": {
    "cell_id": "098969f5-ac0d-4245-bbc2-f824edd4e15f",
    "deepnote_cell_height": 156.796875,
    "deepnote_cell_type": "markdown",
    "tags": []
   },
   "source": [
    "# Predict Pumpkin Seeds\n",
    "\n",
    "Author: Zian Dong\n",
    "\n",
    "Course Project, UC Irvine, Math 10, W22"
   ]
  },
  {
   "cell_type": "markdown",
   "metadata": {
    "cell_id": "00002-36b73842-1c8a-4cb8-985e-38592e7a47c2",
    "deepnote_cell_height": 52.390625,
    "deepnote_cell_type": "markdown",
    "tags": []
   },
   "source": [
    "Student ID: 90294322\n"
   ]
  },
  {
   "cell_type": "markdown",
   "metadata": {
    "cell_id": "1232c27a-f5e2-426a-91e0-f6cfebd8a611",
    "deepnote_cell_height": 189.59375,
    "deepnote_cell_type": "markdown",
    "tags": []
   },
   "source": [
    "## Introduction\n",
    "\n",
    "Introduce your project here.  About 3 sentences.\n",
    "\n",
    "The goal of my project is to predict the category of the pumpkin seeds given by a series of input data, like its perimeter, compactness, area and so on. The dataset I use only contain two category of the pumpkin seeds, so I use the Logistic Regression as my training model. Besides, I also try to find the relationship between each variable and the final output, and choose two most significant variables to plot a relationship chart. "
   ]
  },
  {
   "cell_type": "markdown",
   "metadata": {
    "cell_id": "5100f2c6-6407-41f2-9bb2-1a62540d8662",
    "deepnote_cell_height": 108.390625,
    "deepnote_cell_type": "markdown",
    "tags": []
   },
   "source": [
    "## Main portion of the project\n",
    "\n",
    "(You can either have all one section or divide into multiple sections)"
   ]
  },
  {
   "cell_type": "code",
   "execution_count": 1,
   "metadata": {
    "cell_id": "ce12b1d0-be23-4fa4-bf5d-35b9f8006dda",
    "deepnote_cell_height": 333.953125,
    "deepnote_cell_type": "code",
    "deepnote_to_be_reexecuted": false,
    "execution_millis": 8326,
    "execution_start": 1647546972993,
    "source_hash": "fde78723",
    "tags": []
   },
   "outputs": [
    {
     "name": "stdout",
     "output_type": "stream",
     "text": [
      "Collecting openpyxl\n",
      "  Downloading openpyxl-3.0.9-py2.py3-none-any.whl (242 kB)\n",
      "\u001b[K     |████████████████████████████████| 242 kB 16.7 MB/s \n",
      "\u001b[?25hCollecting et-xmlfile\n",
      "  Downloading et_xmlfile-1.1.0-py3-none-any.whl (4.7 kB)\n",
      "Installing collected packages: et-xmlfile, openpyxl\n",
      "Successfully installed et-xmlfile-1.1.0 openpyxl-3.0.9\n",
      "\u001b[33mWARNING: You are using pip version 20.1.1; however, version 22.0.4 is available.\n",
      "You should consider upgrading via the '/usr/local/bin/python -m pip install --upgrade pip' command.\u001b[0m\n",
      "Note: you may need to restart the kernel to use updated packages.\n"
     ]
    }
   ],
   "source": [
    "pip install openpyxl "
   ]
  },
  {
   "cell_type": "code",
   "execution_count": 2,
   "metadata": {
    "cell_id": "ea2a04ae-dfa0-49a7-9c41-24892008cbb9",
    "deepnote_cell_height": 261.890625,
    "deepnote_cell_type": "code",
    "deepnote_to_be_reexecuted": false,
    "execution_millis": 4848,
    "execution_start": 1647546987834,
    "source_hash": "f022b819",
    "tags": []
   },
   "outputs": [
    {
     "name": "stderr",
     "output_type": "stream",
     "text": [
      "/shared-libs/python3.7/py/lib/python3.7/site-packages/tqdm/auto.py:22: TqdmWarning: IProgress not found. Please update jupyter and ipywidgets. See https://ipywidgets.readthedocs.io/en/stable/user_install.html\n",
      "  from .autonotebook import tqdm as notebook_tqdm\n"
     ]
    }
   ],
   "source": [
    "import pandas as pd\n",
    "import altair as alt\n",
    "from sklearn.model_selection import train_test_split\n",
    "from sklearn.linear_model import LogisticRegression\n",
    "from sklearn.preprocessing import StandardScaler\n",
    "from sklearn.metrics import log_loss\n",
    "import torch.nn as nn\n",
    "import numpy as np"
   ]
  },
  {
   "cell_type": "markdown",
   "metadata": {
    "cell_id": "00004-ba3cca4b-4dea-4270-8d3b-76517025002c",
    "deepnote_cell_height": 70,
    "deepnote_cell_type": "markdown",
    "tags": []
   },
   "source": [
    "## Import data"
   ]
  },
  {
   "cell_type": "code",
   "execution_count": 3,
   "metadata": {
    "cell_id": "766a4d79-d49d-4940-84dd-297abc662fed",
    "deepnote_cell_height": 81,
    "deepnote_cell_type": "code",
    "deepnote_to_be_reexecuted": false,
    "execution_millis": 1149,
    "execution_start": 1647546995565,
    "source_hash": "953ef259",
    "tags": []
   },
   "outputs": [],
   "source": [
    "df = pd.read_excel(\"Pumpkin_Seeds_Dataset.xlsx\")"
   ]
  },
  {
   "cell_type": "code",
   "execution_count": 4,
   "metadata": {
    "cell_id": "35835fda-f251-4777-b26a-a76144d855b9",
    "deepnote_cell_height": 175.78125,
    "deepnote_cell_type": "code",
    "deepnote_output_heights": [
     78.78125
    ],
    "deepnote_to_be_reexecuted": false,
    "execution_millis": 1,
    "execution_start": 1647546997885,
    "source_hash": "25d43fa0",
    "tags": []
   },
   "outputs": [
    {
     "data": {
      "text/plain": [
       "Index(['Area', 'Perimeter', 'Major_Axis_Length', 'Minor_Axis_Length',\n",
       "       'Convex_Area', 'Equiv_Diameter', 'Eccentricity', 'Solidity', 'Extent',\n",
       "       'Roundness', 'Aspect_Ration', 'Compactness', 'Class'],\n",
       "      dtype='object')"
      ]
     },
     "execution_count": 4,
     "metadata": {},
     "output_type": "execute_result"
    }
   ],
   "source": [
    "df.columns"
   ]
  },
  {
   "cell_type": "markdown",
   "metadata": {
    "cell_id": "00008-2a0cdd13-adb9-4464-848d-9077717ae90f",
    "deepnote_cell_height": 108.390625,
    "deepnote_cell_type": "markdown",
    "tags": []
   },
   "source": [
    "## Feature selection\n",
    "Select important features. Eliminate highly related x variables. In such a way we can prevent the model from overfitting to some extent."
   ]
  },
  {
   "cell_type": "code",
   "execution_count": 5,
   "metadata": {
    "cell_id": "2313b5a3-8aa7-430d-a579-4ae342dd46b7",
    "deepnote_cell_height": 117,
    "deepnote_cell_type": "code",
    "deepnote_to_be_reexecuted": false,
    "execution_millis": 7,
    "execution_start": 1647547009355,
    "source_hash": "b3274c55",
    "tags": []
   },
   "outputs": [],
   "source": [
    "X_unsel = df[['Area', 'Perimeter', 'Major_Axis_Length', 'Minor_Axis_Length',\n",
    "       'Convex_Area', 'Equiv_Diameter', 'Eccentricity', 'Solidity', 'Extent',\n",
    "       'Roundness', 'Aspect_Ration', 'Compactness' ]]"
   ]
  },
  {
   "cell_type": "code",
   "execution_count": 6,
   "metadata": {
    "cell_id": "7d1834a1-ddd4-45c2-9f5c-8ab1207ba050",
    "deepnote_cell_height": 513,
    "deepnote_cell_type": "code",
    "deepnote_output_heights": [
     380
    ],
    "deepnote_table_invalid": false,
    "deepnote_table_loading": false,
    "deepnote_table_state": {
     "filters": [],
     "pageIndex": 0,
     "pageSize": 10,
     "sortBy": []
    },
    "deepnote_to_be_reexecuted": false,
    "execution_millis": 2583,
    "execution_start": 1647547012954,
    "source_hash": "eabf1281",
    "tags": []
   },
   "outputs": [
    {
     "data": {
      "text/html": [
       "<style type=\"text/css\">\n",
       "#T_9f5a7_row0_col0, #T_9f5a7_row0_col4, #T_9f5a7_row0_col5, #T_9f5a7_row1_col1, #T_9f5a7_row2_col2, #T_9f5a7_row3_col3, #T_9f5a7_row4_col0, #T_9f5a7_row4_col4, #T_9f5a7_row4_col5, #T_9f5a7_row5_col0, #T_9f5a7_row5_col4, #T_9f5a7_row5_col5, #T_9f5a7_row6_col6, #T_9f5a7_row7_col7, #T_9f5a7_row8_col8, #T_9f5a7_row9_col9, #T_9f5a7_row10_col10, #T_9f5a7_row11_col11 {\n",
       "  background-color: #b40426;\n",
       "  color: #f1f1f1;\n",
       "}\n",
       "#T_9f5a7_row0_col1, #T_9f5a7_row5_col1 {\n",
       "  background-color: #c53334;\n",
       "  color: #f1f1f1;\n",
       "}\n",
       "#T_9f5a7_row0_col2, #T_9f5a7_row4_col2, #T_9f5a7_row5_col2 {\n",
       "  background-color: #dd5f4b;\n",
       "  color: #f1f1f1;\n",
       "}\n",
       "#T_9f5a7_row0_col3, #T_9f5a7_row3_col11, #T_9f5a7_row4_col3 {\n",
       "  background-color: #ed8366;\n",
       "  color: #f1f1f1;\n",
       "}\n",
       "#T_9f5a7_row0_col6, #T_9f5a7_row0_col10, #T_9f5a7_row4_col6, #T_9f5a7_row4_col10, #T_9f5a7_row5_col6, #T_9f5a7_row5_col10 {\n",
       "  background-color: #eed0c0;\n",
       "  color: #000000;\n",
       "}\n",
       "#T_9f5a7_row0_col7 {\n",
       "  background-color: #7295f4;\n",
       "  color: #f1f1f1;\n",
       "}\n",
       "#T_9f5a7_row0_col8, #T_9f5a7_row4_col8 {\n",
       "  background-color: #88abfd;\n",
       "  color: #000000;\n",
       "}\n",
       "#T_9f5a7_row0_col9, #T_9f5a7_row4_col9 {\n",
       "  background-color: #c1d4f4;\n",
       "  color: #000000;\n",
       "}\n",
       "#T_9f5a7_row0_col11, #T_9f5a7_row4_col11 {\n",
       "  background-color: #c5d6f2;\n",
       "  color: #000000;\n",
       "}\n",
       "#T_9f5a7_row1_col0, #T_9f5a7_row1_col4, #T_9f5a7_row1_col5 {\n",
       "  background-color: #ca3b37;\n",
       "  color: #f1f1f1;\n",
       "}\n",
       "#T_9f5a7_row1_col2 {\n",
       "  background-color: #be242e;\n",
       "  color: #f1f1f1;\n",
       "}\n",
       "#T_9f5a7_row1_col3 {\n",
       "  background-color: #f4c6af;\n",
       "  color: #000000;\n",
       "}\n",
       "#T_9f5a7_row1_col6, #T_9f5a7_row3_col0, #T_9f5a7_row3_col4 {\n",
       "  background-color: #f6a283;\n",
       "  color: #000000;\n",
       "}\n",
       "#T_9f5a7_row1_col7, #T_9f5a7_row8_col7 {\n",
       "  background-color: #5470de;\n",
       "  color: #f1f1f1;\n",
       "}\n",
       "#T_9f5a7_row1_col8 {\n",
       "  background-color: #6788ee;\n",
       "  color: #f1f1f1;\n",
       "}\n",
       "#T_9f5a7_row1_col9 {\n",
       "  background-color: #84a7fc;\n",
       "  color: #f1f1f1;\n",
       "}\n",
       "#T_9f5a7_row1_col10 {\n",
       "  background-color: #f59c7d;\n",
       "  color: #000000;\n",
       "}\n",
       "#T_9f5a7_row1_col11 {\n",
       "  background-color: #8fb1fe;\n",
       "  color: #000000;\n",
       "}\n",
       "#T_9f5a7_row2_col0, #T_9f5a7_row2_col4 {\n",
       "  background-color: #ea7b60;\n",
       "  color: #f1f1f1;\n",
       "}\n",
       "#T_9f5a7_row2_col1 {\n",
       "  background-color: #c12b30;\n",
       "  color: #f1f1f1;\n",
       "}\n",
       "#T_9f5a7_row2_col3 {\n",
       "  background-color: #cbd8ee;\n",
       "  color: #000000;\n",
       "}\n",
       "#T_9f5a7_row2_col5 {\n",
       "  background-color: #eb7d62;\n",
       "  color: #f1f1f1;\n",
       "}\n",
       "#T_9f5a7_row2_col6 {\n",
       "  background-color: #e36c55;\n",
       "  color: #f1f1f1;\n",
       "}\n",
       "#T_9f5a7_row2_col7 {\n",
       "  background-color: #6485ec;\n",
       "  color: #f1f1f1;\n",
       "}\n",
       "#T_9f5a7_row2_col8 {\n",
       "  background-color: #5572df;\n",
       "  color: #f1f1f1;\n",
       "}\n",
       "#T_9f5a7_row2_col9, #T_9f5a7_row2_col11 {\n",
       "  background-color: #6384eb;\n",
       "  color: #f1f1f1;\n",
       "}\n",
       "#T_9f5a7_row2_col10 {\n",
       "  background-color: #e0654f;\n",
       "  color: #f1f1f1;\n",
       "}\n",
       "#T_9f5a7_row3_col1 {\n",
       "  background-color: #f1ccb8;\n",
       "  color: #000000;\n",
       "}\n",
       "#T_9f5a7_row3_col2 {\n",
       "  background-color: #d7dce3;\n",
       "  color: #000000;\n",
       "}\n",
       "#T_9f5a7_row3_col5 {\n",
       "  background-color: #f5a081;\n",
       "  color: #000000;\n",
       "}\n",
       "#T_9f5a7_row3_col6, #T_9f5a7_row3_col10 {\n",
       "  background-color: #7a9df8;\n",
       "  color: #f1f1f1;\n",
       "}\n",
       "#T_9f5a7_row3_col7 {\n",
       "  background-color: #5b7ae5;\n",
       "  color: #f1f1f1;\n",
       "}\n",
       "#T_9f5a7_row3_col8 {\n",
       "  background-color: #c7d7f0;\n",
       "  color: #000000;\n",
       "}\n",
       "#T_9f5a7_row3_col9 {\n",
       "  background-color: #f29072;\n",
       "  color: #f1f1f1;\n",
       "}\n",
       "#T_9f5a7_row4_col1 {\n",
       "  background-color: #c43032;\n",
       "  color: #f1f1f1;\n",
       "}\n",
       "#T_9f5a7_row4_col7 {\n",
       "  background-color: #6b8df0;\n",
       "  color: #f1f1f1;\n",
       "}\n",
       "#T_9f5a7_row5_col3 {\n",
       "  background-color: #ec8165;\n",
       "  color: #f1f1f1;\n",
       "}\n",
       "#T_9f5a7_row5_col7 {\n",
       "  background-color: #7396f5;\n",
       "  color: #f1f1f1;\n",
       "}\n",
       "#T_9f5a7_row5_col8, #T_9f5a7_row8_col1 {\n",
       "  background-color: #89acfd;\n",
       "  color: #000000;\n",
       "}\n",
       "#T_9f5a7_row5_col9 {\n",
       "  background-color: #c3d5f4;\n",
       "  color: #000000;\n",
       "}\n",
       "#T_9f5a7_row5_col11 {\n",
       "  background-color: #c6d6f1;\n",
       "  color: #000000;\n",
       "}\n",
       "#T_9f5a7_row6_col0, #T_9f5a7_row6_col4, #T_9f5a7_row7_col0, #T_9f5a7_row10_col0, #T_9f5a7_row10_col4 {\n",
       "  background-color: #96b7ff;\n",
       "  color: #000000;\n",
       "}\n",
       "#T_9f5a7_row6_col1 {\n",
       "  background-color: #f6bfa6;\n",
       "  color: #000000;\n",
       "}\n",
       "#T_9f5a7_row6_col2 {\n",
       "  background-color: #e8765c;\n",
       "  color: #f1f1f1;\n",
       "}\n",
       "#T_9f5a7_row6_col3, #T_9f5a7_row6_col11, #T_9f5a7_row9_col4 {\n",
       "  background-color: #3c4ec2;\n",
       "  color: #f1f1f1;\n",
       "}\n",
       "#T_9f5a7_row6_col5, #T_9f5a7_row7_col5, #T_9f5a7_row10_col5 {\n",
       "  background-color: #94b6ff;\n",
       "  color: #000000;\n",
       "}\n",
       "#T_9f5a7_row6_col7 {\n",
       "  background-color: #4e68d8;\n",
       "  color: #f1f1f1;\n",
       "}\n",
       "#T_9f5a7_row6_col8, #T_9f5a7_row9_col1, #T_9f5a7_row10_col3, #T_9f5a7_row10_col8, #T_9f5a7_row10_col9, #T_9f5a7_row10_col11, #T_9f5a7_row11_col0, #T_9f5a7_row11_col2, #T_9f5a7_row11_col4, #T_9f5a7_row11_col5, #T_9f5a7_row11_col6, #T_9f5a7_row11_col7, #T_9f5a7_row11_col10 {\n",
       "  background-color: #3b4cc0;\n",
       "  color: #f1f1f1;\n",
       "}\n",
       "#T_9f5a7_row6_col9 {\n",
       "  background-color: #4055c8;\n",
       "  color: #f1f1f1;\n",
       "}\n",
       "#T_9f5a7_row6_col10, #T_9f5a7_row10_col6 {\n",
       "  background-color: #bd1f2d;\n",
       "  color: #f1f1f1;\n",
       "}\n",
       "#T_9f5a7_row7_col1 {\n",
       "  background-color: #b9d0f9;\n",
       "  color: #000000;\n",
       "}\n",
       "#T_9f5a7_row7_col2 {\n",
       "  background-color: #dadce0;\n",
       "  color: #000000;\n",
       "}\n",
       "#T_9f5a7_row7_col3 {\n",
       "  background-color: #cad8ef;\n",
       "  color: #000000;\n",
       "}\n",
       "#T_9f5a7_row7_col4 {\n",
       "  background-color: #90b2fe;\n",
       "  color: #000000;\n",
       "}\n",
       "#T_9f5a7_row7_col6 {\n",
       "  background-color: #e1dad6;\n",
       "  color: #000000;\n",
       "}\n",
       "#T_9f5a7_row7_col8 {\n",
       "  background-color: #9ebeff;\n",
       "  color: #000000;\n",
       "}\n",
       "#T_9f5a7_row7_col9 {\n",
       "  background-color: #f0cdbb;\n",
       "  color: #000000;\n",
       "}\n",
       "#T_9f5a7_row7_col10 {\n",
       "  background-color: #dfdbd9;\n",
       "  color: #000000;\n",
       "}\n",
       "#T_9f5a7_row7_col11 {\n",
       "  background-color: #d9dce1;\n",
       "  color: #000000;\n",
       "}\n",
       "#T_9f5a7_row8_col0, #T_9f5a7_row8_col5 {\n",
       "  background-color: #6282ea;\n",
       "  color: #f1f1f1;\n",
       "}\n",
       "#T_9f5a7_row8_col2 {\n",
       "  background-color: #9dbdff;\n",
       "  color: #000000;\n",
       "}\n",
       "#T_9f5a7_row8_col3 {\n",
       "  background-color: #e2dad5;\n",
       "  color: #000000;\n",
       "}\n",
       "#T_9f5a7_row8_col4 {\n",
       "  background-color: #6180e9;\n",
       "  color: #f1f1f1;\n",
       "}\n",
       "#T_9f5a7_row8_col6, #T_9f5a7_row8_col10 {\n",
       "  background-color: #a9c6fd;\n",
       "  color: #000000;\n",
       "}\n",
       "#T_9f5a7_row8_col9, #T_9f5a7_row8_col11 {\n",
       "  background-color: #f7b89c;\n",
       "  color: #000000;\n",
       "}\n",
       "#T_9f5a7_row9_col0, #T_9f5a7_row9_col5, #T_9f5a7_row11_col1 {\n",
       "  background-color: #3d50c3;\n",
       "  color: #f1f1f1;\n",
       "}\n",
       "#T_9f5a7_row9_col2 {\n",
       "  background-color: #4257c9;\n",
       "  color: #f1f1f1;\n",
       "}\n",
       "#T_9f5a7_row9_col3 {\n",
       "  background-color: #f6a385;\n",
       "  color: #000000;\n",
       "}\n",
       "#T_9f5a7_row9_col6, #T_9f5a7_row10_col7 {\n",
       "  background-color: #485fd1;\n",
       "  color: #f1f1f1;\n",
       "}\n",
       "#T_9f5a7_row9_col7 {\n",
       "  background-color: #81a4fb;\n",
       "  color: #f1f1f1;\n",
       "}\n",
       "#T_9f5a7_row9_col8 {\n",
       "  background-color: #e0dbd8;\n",
       "  color: #000000;\n",
       "}\n",
       "#T_9f5a7_row9_col10 {\n",
       "  background-color: #4358cb;\n",
       "  color: #f1f1f1;\n",
       "}\n",
       "#T_9f5a7_row9_col11, #T_9f5a7_row11_col9 {\n",
       "  background-color: #c0282f;\n",
       "  color: #f1f1f1;\n",
       "}\n",
       "#T_9f5a7_row10_col1 {\n",
       "  background-color: #f7ba9f;\n",
       "  color: #000000;\n",
       "}\n",
       "#T_9f5a7_row10_col2 {\n",
       "  background-color: #e57058;\n",
       "  color: #f1f1f1;\n",
       "}\n",
       "#T_9f5a7_row11_col3 {\n",
       "  background-color: #f4987a;\n",
       "  color: #000000;\n",
       "}\n",
       "#T_9f5a7_row11_col8 {\n",
       "  background-color: #dddcdc;\n",
       "  color: #000000;\n",
       "}\n",
       "</style>\n",
       "<table id=\"T_9f5a7_\">\n",
       "  <thead>\n",
       "    <tr>\n",
       "      <th class=\"blank level0\" >&nbsp;</th>\n",
       "      <th class=\"col_heading level0 col0\" >Area</th>\n",
       "      <th class=\"col_heading level0 col1\" >Perimeter</th>\n",
       "      <th class=\"col_heading level0 col2\" >Major_Axis_Length</th>\n",
       "      <th class=\"col_heading level0 col3\" >Minor_Axis_Length</th>\n",
       "      <th class=\"col_heading level0 col4\" >Convex_Area</th>\n",
       "      <th class=\"col_heading level0 col5\" >Equiv_Diameter</th>\n",
       "      <th class=\"col_heading level0 col6\" >Eccentricity</th>\n",
       "      <th class=\"col_heading level0 col7\" >Solidity</th>\n",
       "      <th class=\"col_heading level0 col8\" >Extent</th>\n",
       "      <th class=\"col_heading level0 col9\" >Roundness</th>\n",
       "      <th class=\"col_heading level0 col10\" >Aspect_Ration</th>\n",
       "      <th class=\"col_heading level0 col11\" >Compactness</th>\n",
       "    </tr>\n",
       "  </thead>\n",
       "  <tbody>\n",
       "    <tr>\n",
       "      <th id=\"T_9f5a7_level0_row0\" class=\"row_heading level0 row0\" >Area</th>\n",
       "      <td id=\"T_9f5a7_row0_col0\" class=\"data row0 col0\" >1.000000</td>\n",
       "      <td id=\"T_9f5a7_row0_col1\" class=\"data row0 col1\" >0.928548</td>\n",
       "      <td id=\"T_9f5a7_row0_col2\" class=\"data row0 col2\" >0.789133</td>\n",
       "      <td id=\"T_9f5a7_row0_col3\" class=\"data row0 col3\" >0.685304</td>\n",
       "      <td id=\"T_9f5a7_row0_col4\" class=\"data row0 col4\" >0.999806</td>\n",
       "      <td id=\"T_9f5a7_row0_col5\" class=\"data row0 col5\" >0.998464</td>\n",
       "      <td id=\"T_9f5a7_row0_col6\" class=\"data row0 col6\" >0.159624</td>\n",
       "      <td id=\"T_9f5a7_row0_col7\" class=\"data row0 col7\" >0.158388</td>\n",
       "      <td id=\"T_9f5a7_row0_col8\" class=\"data row0 col8\" >-0.014018</td>\n",
       "      <td id=\"T_9f5a7_row0_col9\" class=\"data row0 col9\" >-0.149378</td>\n",
       "      <td id=\"T_9f5a7_row0_col10\" class=\"data row0 col10\" >0.159960</td>\n",
       "      <td id=\"T_9f5a7_row0_col11\" class=\"data row0 col11\" >-0.160438</td>\n",
       "    </tr>\n",
       "    <tr>\n",
       "      <th id=\"T_9f5a7_level0_row1\" class=\"row_heading level0 row1\" >Perimeter</th>\n",
       "      <td id=\"T_9f5a7_row1_col0\" class=\"data row1 col0\" >0.928548</td>\n",
       "      <td id=\"T_9f5a7_row1_col1\" class=\"data row1 col1\" >1.000000</td>\n",
       "      <td id=\"T_9f5a7_row1_col2\" class=\"data row1 col2\" >0.946181</td>\n",
       "      <td id=\"T_9f5a7_row1_col3\" class=\"data row1 col3\" >0.392913</td>\n",
       "      <td id=\"T_9f5a7_row1_col4\" class=\"data row1 col4\" >0.929971</td>\n",
       "      <td id=\"T_9f5a7_row1_col5\" class=\"data row1 col5\" >0.928055</td>\n",
       "      <td id=\"T_9f5a7_row1_col6\" class=\"data row1 col6\" >0.464601</td>\n",
       "      <td id=\"T_9f5a7_row1_col7\" class=\"data row1 col7\" >0.065340</td>\n",
       "      <td id=\"T_9f5a7_row1_col8\" class=\"data row1 col8\" >-0.140600</td>\n",
       "      <td id=\"T_9f5a7_row1_col9\" class=\"data row1 col9\" >-0.500968</td>\n",
       "      <td id=\"T_9f5a7_row1_col10\" class=\"data row1 col10\" >0.487880</td>\n",
       "      <td id=\"T_9f5a7_row1_col11\" class=\"data row1 col11\" >-0.484440</td>\n",
       "    </tr>\n",
       "    <tr>\n",
       "      <th id=\"T_9f5a7_level0_row2\" class=\"row_heading level0 row2\" >Major_Axis_Length</th>\n",
       "      <td id=\"T_9f5a7_row2_col0\" class=\"data row2 col0\" >0.789133</td>\n",
       "      <td id=\"T_9f5a7_row2_col1\" class=\"data row2 col1\" >0.946181</td>\n",
       "      <td id=\"T_9f5a7_row2_col2\" class=\"data row2 col2\" >1.000000</td>\n",
       "      <td id=\"T_9f5a7_row2_col3\" class=\"data row2 col3\" >0.099376</td>\n",
       "      <td id=\"T_9f5a7_row2_col4\" class=\"data row2 col4\" >0.789061</td>\n",
       "      <td id=\"T_9f5a7_row2_col5\" class=\"data row2 col5\" >0.787078</td>\n",
       "      <td id=\"T_9f5a7_row2_col6\" class=\"data row2 col6\" >0.704287</td>\n",
       "      <td id=\"T_9f5a7_row2_col7\" class=\"data row2 col7\" >0.119291</td>\n",
       "      <td id=\"T_9f5a7_row2_col8\" class=\"data row2 col8\" >-0.214990</td>\n",
       "      <td id=\"T_9f5a7_row2_col9\" class=\"data row2 col9\" >-0.684972</td>\n",
       "      <td id=\"T_9f5a7_row2_col10\" class=\"data row2 col10\" >0.729156</td>\n",
       "      <td id=\"T_9f5a7_row2_col11\" class=\"data row2 col11\" >-0.726958</td>\n",
       "    </tr>\n",
       "    <tr>\n",
       "      <th id=\"T_9f5a7_level0_row3\" class=\"row_heading level0 row3\" >Minor_Axis_Length</th>\n",
       "      <td id=\"T_9f5a7_row3_col0\" class=\"data row3 col0\" >0.685304</td>\n",
       "      <td id=\"T_9f5a7_row3_col1\" class=\"data row3 col1\" >0.392913</td>\n",
       "      <td id=\"T_9f5a7_row3_col2\" class=\"data row3 col2\" >0.099376</td>\n",
       "      <td id=\"T_9f5a7_row3_col3\" class=\"data row3 col3\" >1.000000</td>\n",
       "      <td id=\"T_9f5a7_row3_col4\" class=\"data row3 col4\" >0.685634</td>\n",
       "      <td id=\"T_9f5a7_row3_col5\" class=\"data row3 col5\" >0.690020</td>\n",
       "      <td id=\"T_9f5a7_row3_col6\" class=\"data row3 col6\" >-0.590877</td>\n",
       "      <td id=\"T_9f5a7_row3_col7\" class=\"data row3 col7\" >0.090915</td>\n",
       "      <td id=\"T_9f5a7_row3_col8\" class=\"data row3 col8\" >0.233576</td>\n",
       "      <td id=\"T_9f5a7_row3_col9\" class=\"data row3 col9\" >0.558566</td>\n",
       "      <td id=\"T_9f5a7_row3_col10\" class=\"data row3 col10\" >-0.598475</td>\n",
       "      <td id=\"T_9f5a7_row3_col11\" class=\"data row3 col11\" >0.603441</td>\n",
       "    </tr>\n",
       "    <tr>\n",
       "      <th id=\"T_9f5a7_level0_row4\" class=\"row_heading level0 row4\" >Convex_Area</th>\n",
       "      <td id=\"T_9f5a7_row4_col0\" class=\"data row4 col0\" >0.999806</td>\n",
       "      <td id=\"T_9f5a7_row4_col1\" class=\"data row4 col1\" >0.929971</td>\n",
       "      <td id=\"T_9f5a7_row4_col2\" class=\"data row4 col2\" >0.789061</td>\n",
       "      <td id=\"T_9f5a7_row4_col3\" class=\"data row4 col3\" >0.685634</td>\n",
       "      <td id=\"T_9f5a7_row4_col4\" class=\"data row4 col4\" >1.000000</td>\n",
       "      <td id=\"T_9f5a7_row4_col5\" class=\"data row4 col5\" >0.998289</td>\n",
       "      <td id=\"T_9f5a7_row4_col6\" class=\"data row4 col6\" >0.159156</td>\n",
       "      <td id=\"T_9f5a7_row4_col7\" class=\"data row4 col7\" >0.139178</td>\n",
       "      <td id=\"T_9f5a7_row4_col8\" class=\"data row4 col8\" >-0.015449</td>\n",
       "      <td id=\"T_9f5a7_row4_col9\" class=\"data row4 col9\" >-0.153615</td>\n",
       "      <td id=\"T_9f5a7_row4_col10\" class=\"data row4 col10\" >0.159822</td>\n",
       "      <td id=\"T_9f5a7_row4_col11\" class=\"data row4 col11\" >-0.160432</td>\n",
       "    </tr>\n",
       "    <tr>\n",
       "      <th id=\"T_9f5a7_level0_row5\" class=\"row_heading level0 row5\" >Equiv_Diameter</th>\n",
       "      <td id=\"T_9f5a7_row5_col0\" class=\"data row5 col0\" >0.998464</td>\n",
       "      <td id=\"T_9f5a7_row5_col1\" class=\"data row5 col1\" >0.928055</td>\n",
       "      <td id=\"T_9f5a7_row5_col2\" class=\"data row5 col2\" >0.787078</td>\n",
       "      <td id=\"T_9f5a7_row5_col3\" class=\"data row5 col3\" >0.690020</td>\n",
       "      <td id=\"T_9f5a7_row5_col4\" class=\"data row5 col4\" >0.998289</td>\n",
       "      <td id=\"T_9f5a7_row5_col5\" class=\"data row5 col5\" >1.000000</td>\n",
       "      <td id=\"T_9f5a7_row5_col6\" class=\"data row5 col6\" >0.156246</td>\n",
       "      <td id=\"T_9f5a7_row5_col7\" class=\"data row5 col7\" >0.159454</td>\n",
       "      <td id=\"T_9f5a7_row5_col8\" class=\"data row5 col8\" >-0.010970</td>\n",
       "      <td id=\"T_9f5a7_row5_col9\" class=\"data row5 col9\" >-0.145313</td>\n",
       "      <td id=\"T_9f5a7_row5_col10\" class=\"data row5 col10\" >0.155762</td>\n",
       "      <td id=\"T_9f5a7_row5_col11\" class=\"data row5 col11\" >-0.156411</td>\n",
       "    </tr>\n",
       "    <tr>\n",
       "      <th id=\"T_9f5a7_level0_row6\" class=\"row_heading level0 row6\" >Eccentricity</th>\n",
       "      <td id=\"T_9f5a7_row6_col0\" class=\"data row6 col0\" >0.159624</td>\n",
       "      <td id=\"T_9f5a7_row6_col1\" class=\"data row6 col1\" >0.464601</td>\n",
       "      <td id=\"T_9f5a7_row6_col2\" class=\"data row6 col2\" >0.704287</td>\n",
       "      <td id=\"T_9f5a7_row6_col3\" class=\"data row6 col3\" >-0.590877</td>\n",
       "      <td id=\"T_9f5a7_row6_col4\" class=\"data row6 col4\" >0.159156</td>\n",
       "      <td id=\"T_9f5a7_row6_col5\" class=\"data row6 col5\" >0.156246</td>\n",
       "      <td id=\"T_9f5a7_row6_col6\" class=\"data row6 col6\" >1.000000</td>\n",
       "      <td id=\"T_9f5a7_row6_col7\" class=\"data row6 col7\" >0.043991</td>\n",
       "      <td id=\"T_9f5a7_row6_col8\" class=\"data row6 col8\" >-0.327316</td>\n",
       "      <td id=\"T_9f5a7_row6_col9\" class=\"data row6 col9\" >-0.890651</td>\n",
       "      <td id=\"T_9f5a7_row6_col10\" class=\"data row6 col10\" >0.950225</td>\n",
       "      <td id=\"T_9f5a7_row6_col11\" class=\"data row6 col11\" >-0.981689</td>\n",
       "    </tr>\n",
       "    <tr>\n",
       "      <th id=\"T_9f5a7_level0_row7\" class=\"row_heading level0 row7\" >Solidity</th>\n",
       "      <td id=\"T_9f5a7_row7_col0\" class=\"data row7 col0\" >0.158388</td>\n",
       "      <td id=\"T_9f5a7_row7_col1\" class=\"data row7 col1\" >0.065340</td>\n",
       "      <td id=\"T_9f5a7_row7_col2\" class=\"data row7 col2\" >0.119291</td>\n",
       "      <td id=\"T_9f5a7_row7_col3\" class=\"data row7 col3\" >0.090915</td>\n",
       "      <td id=\"T_9f5a7_row7_col4\" class=\"data row7 col4\" >0.139178</td>\n",
       "      <td id=\"T_9f5a7_row7_col5\" class=\"data row7 col5\" >0.159454</td>\n",
       "      <td id=\"T_9f5a7_row7_col6\" class=\"data row7 col6\" >0.043991</td>\n",
       "      <td id=\"T_9f5a7_row7_col7\" class=\"data row7 col7\" >1.000000</td>\n",
       "      <td id=\"T_9f5a7_row7_col8\" class=\"data row7 col8\" >0.067537</td>\n",
       "      <td id=\"T_9f5a7_row7_col9\" class=\"data row7 col9\" >0.200836</td>\n",
       "      <td id=\"T_9f5a7_row7_col10\" class=\"data row7 col10\" >0.026410</td>\n",
       "      <td id=\"T_9f5a7_row7_col11\" class=\"data row7 col11\" >-0.019967</td>\n",
       "    </tr>\n",
       "    <tr>\n",
       "      <th id=\"T_9f5a7_level0_row8\" class=\"row_heading level0 row8\" >Extent</th>\n",
       "      <td id=\"T_9f5a7_row8_col0\" class=\"data row8 col0\" >-0.014018</td>\n",
       "      <td id=\"T_9f5a7_row8_col1\" class=\"data row8 col1\" >-0.140600</td>\n",
       "      <td id=\"T_9f5a7_row8_col2\" class=\"data row8 col2\" >-0.214990</td>\n",
       "      <td id=\"T_9f5a7_row8_col3\" class=\"data row8 col3\" >0.233576</td>\n",
       "      <td id=\"T_9f5a7_row8_col4\" class=\"data row8 col4\" >-0.015449</td>\n",
       "      <td id=\"T_9f5a7_row8_col5\" class=\"data row8 col5\" >-0.010970</td>\n",
       "      <td id=\"T_9f5a7_row8_col6\" class=\"data row8 col6\" >-0.327316</td>\n",
       "      <td id=\"T_9f5a7_row8_col7\" class=\"data row8 col7\" >0.067537</td>\n",
       "      <td id=\"T_9f5a7_row8_col8\" class=\"data row8 col8\" >1.000000</td>\n",
       "      <td id=\"T_9f5a7_row8_col9\" class=\"data row8 col9\" >0.352338</td>\n",
       "      <td id=\"T_9f5a7_row8_col10\" class=\"data row8 col10\" >-0.329933</td>\n",
       "      <td id=\"T_9f5a7_row8_col11\" class=\"data row8 col11\" >0.336984</td>\n",
       "    </tr>\n",
       "    <tr>\n",
       "      <th id=\"T_9f5a7_level0_row9\" class=\"row_heading level0 row9\" >Roundness</th>\n",
       "      <td id=\"T_9f5a7_row9_col0\" class=\"data row9 col0\" >-0.149378</td>\n",
       "      <td id=\"T_9f5a7_row9_col1\" class=\"data row9 col1\" >-0.500968</td>\n",
       "      <td id=\"T_9f5a7_row9_col2\" class=\"data row9 col2\" >-0.684972</td>\n",
       "      <td id=\"T_9f5a7_row9_col3\" class=\"data row9 col3\" >0.558566</td>\n",
       "      <td id=\"T_9f5a7_row9_col4\" class=\"data row9 col4\" >-0.153615</td>\n",
       "      <td id=\"T_9f5a7_row9_col5\" class=\"data row9 col5\" >-0.145313</td>\n",
       "      <td id=\"T_9f5a7_row9_col6\" class=\"data row9 col6\" >-0.890651</td>\n",
       "      <td id=\"T_9f5a7_row9_col7\" class=\"data row9 col7\" >0.200836</td>\n",
       "      <td id=\"T_9f5a7_row9_col8\" class=\"data row9 col8\" >0.352338</td>\n",
       "      <td id=\"T_9f5a7_row9_col9\" class=\"data row9 col9\" >1.000000</td>\n",
       "      <td id=\"T_9f5a7_row9_col10\" class=\"data row9 col10\" >-0.935233</td>\n",
       "      <td id=\"T_9f5a7_row9_col11\" class=\"data row9 col11\" >0.933308</td>\n",
       "    </tr>\n",
       "    <tr>\n",
       "      <th id=\"T_9f5a7_level0_row10\" class=\"row_heading level0 row10\" >Aspect_Ration</th>\n",
       "      <td id=\"T_9f5a7_row10_col0\" class=\"data row10 col0\" >0.159960</td>\n",
       "      <td id=\"T_9f5a7_row10_col1\" class=\"data row10 col1\" >0.487880</td>\n",
       "      <td id=\"T_9f5a7_row10_col2\" class=\"data row10 col2\" >0.729156</td>\n",
       "      <td id=\"T_9f5a7_row10_col3\" class=\"data row10 col3\" >-0.598475</td>\n",
       "      <td id=\"T_9f5a7_row10_col4\" class=\"data row10 col4\" >0.159822</td>\n",
       "      <td id=\"T_9f5a7_row10_col5\" class=\"data row10 col5\" >0.155762</td>\n",
       "      <td id=\"T_9f5a7_row10_col6\" class=\"data row10 col6\" >0.950225</td>\n",
       "      <td id=\"T_9f5a7_row10_col7\" class=\"data row10 col7\" >0.026410</td>\n",
       "      <td id=\"T_9f5a7_row10_col8\" class=\"data row10 col8\" >-0.329933</td>\n",
       "      <td id=\"T_9f5a7_row10_col9\" class=\"data row10 col9\" >-0.935233</td>\n",
       "      <td id=\"T_9f5a7_row10_col10\" class=\"data row10 col10\" >1.000000</td>\n",
       "      <td id=\"T_9f5a7_row10_col11\" class=\"data row10 col11\" >-0.990778</td>\n",
       "    </tr>\n",
       "    <tr>\n",
       "      <th id=\"T_9f5a7_level0_row11\" class=\"row_heading level0 row11\" >Compactness</th>\n",
       "      <td id=\"T_9f5a7_row11_col0\" class=\"data row11 col0\" >-0.160438</td>\n",
       "      <td id=\"T_9f5a7_row11_col1\" class=\"data row11 col1\" >-0.484440</td>\n",
       "      <td id=\"T_9f5a7_row11_col2\" class=\"data row11 col2\" >-0.726958</td>\n",
       "      <td id=\"T_9f5a7_row11_col3\" class=\"data row11 col3\" >0.603441</td>\n",
       "      <td id=\"T_9f5a7_row11_col4\" class=\"data row11 col4\" >-0.160432</td>\n",
       "      <td id=\"T_9f5a7_row11_col5\" class=\"data row11 col5\" >-0.156411</td>\n",
       "      <td id=\"T_9f5a7_row11_col6\" class=\"data row11 col6\" >-0.981689</td>\n",
       "      <td id=\"T_9f5a7_row11_col7\" class=\"data row11 col7\" >-0.019967</td>\n",
       "      <td id=\"T_9f5a7_row11_col8\" class=\"data row11 col8\" >0.336984</td>\n",
       "      <td id=\"T_9f5a7_row11_col9\" class=\"data row11 col9\" >0.933308</td>\n",
       "      <td id=\"T_9f5a7_row11_col10\" class=\"data row11 col10\" >-0.990778</td>\n",
       "      <td id=\"T_9f5a7_row11_col11\" class=\"data row11 col11\" >1.000000</td>\n",
       "    </tr>\n",
       "  </tbody>\n",
       "</table>\n"
      ],
      "text/plain": [
       "<pandas.io.formats.style.Styler at 0x7fe2e66e4f90>"
      ]
     },
     "execution_count": 6,
     "metadata": {},
     "output_type": "execute_result"
    }
   ],
   "source": [
    "corr = X_unsel.corr()\n",
    "\n",
    "corr.style.background_gradient(cmap='coolwarm')"
   ]
  },
  {
   "cell_type": "markdown",
   "metadata": {
    "cell_id": "a0c6eab1-af7d-466a-acb7-4fd03fe44631",
    "deepnote_cell_height": 97.1875,
    "deepnote_cell_type": "markdown",
    "tags": []
   },
   "source": [
    "We saw Area, Equv_Diameter and Convex Area, Perimeter, and Major Axis Length are closely related. Compactness, Aspect_Ration, Roundness, and Eccentrity are closely related. (abs of corr > 0.9).Thus, We can just pick Perimeter and Compactness as two representative features from these six features. All other features do not have such close relationship. We can leave them unchanged."
   ]
  },
  {
   "cell_type": "code",
   "execution_count": 7,
   "metadata": {
    "cell_id": "62729afc-3e33-4dd4-aa8e-9bd477fa730a",
    "deepnote_cell_height": 99,
    "deepnote_cell_type": "code",
    "deepnote_to_be_reexecuted": false,
    "execution_millis": 0,
    "execution_start": 1647547024530,
    "source_hash": "bdb21bb9",
    "tags": []
   },
   "outputs": [],
   "source": [
    "X = df[['Perimeter', 'Minor_Axis_Length', 'Solidity', 'Extent', 'Compactness' ]]\n",
    "Y = df['Class']"
   ]
  },
  {
   "cell_type": "markdown",
   "metadata": {
    "cell_id": "52439931-13d8-4c78-9bdd-e2d4cc179783",
    "deepnote_cell_height": 130.796875,
    "deepnote_cell_type": "markdown",
    "tags": []
   },
   "source": [
    "## Check imbalanced data\n",
    "Next, we check whether it's balanced data set. If it's inbalanced, we cannot simply use the (correct_num_of_pred / total_num) to judge whether the model has a good performance.The result shows it's approximately balanced."
   ]
  },
  {
   "cell_type": "code",
   "execution_count": 8,
   "metadata": {
    "cell_id": "c0ccfcba-2eea-434b-8af5-c9d9c1e8a60c",
    "deepnote_cell_height": 156.578125,
    "deepnote_cell_type": "code",
    "deepnote_output_heights": [
     59.578125
    ],
    "deepnote_to_be_reexecuted": false,
    "execution_millis": 8,
    "execution_start": 1647547026794,
    "source_hash": "af8ac83a",
    "tags": []
   },
   "outputs": [
    {
     "data": {
      "text/plain": [
       "Çerçevelik       1300\n",
       "Ürgüp Sivrisi    1200\n",
       "Name: Class, dtype: int64"
      ]
     },
     "execution_count": 8,
     "metadata": {},
     "output_type": "execute_result"
    }
   ],
   "source": [
    "Y.value_counts()"
   ]
  },
  {
   "cell_type": "markdown",
   "metadata": {
    "cell_id": "89f171d4-b4b2-4822-bb70-0bed5e68e24e",
    "deepnote_cell_height": 70,
    "deepnote_cell_type": "markdown",
    "tags": []
   },
   "source": [
    "## Standardize the data"
   ]
  },
  {
   "cell_type": "code",
   "execution_count": 9,
   "metadata": {
    "cell_id": "0839b87d-747f-411d-9946-c9f037ccc662",
    "deepnote_cell_height": 117,
    "deepnote_cell_type": "code",
    "deepnote_to_be_reexecuted": false,
    "execution_millis": 1,
    "execution_start": 1647547029416,
    "source_hash": "3f7881ff",
    "tags": []
   },
   "outputs": [],
   "source": [
    "scaler = StandardScaler()\n",
    "scaler.fit(X)\n",
    "X_scaled = scaler.transform(X)"
   ]
  },
  {
   "cell_type": "code",
   "execution_count": 10,
   "metadata": {
    "cell_id": "380a9d7b-77be-4f3d-ac4e-e9c2dd1c2067",
    "deepnote_cell_height": 233.359375,
    "deepnote_cell_type": "code",
    "deepnote_output_heights": [
     136.359375
    ],
    "deepnote_to_be_reexecuted": false,
    "execution_millis": 12,
    "execution_start": 1647547030281,
    "source_hash": "3d6b6e8",
    "tags": []
   },
   "outputs": [
    {
     "data": {
      "text/plain": [
       "array([[-2.21575484, -0.23853605,  0.20281179,  0.85540604,  2.19727996],\n",
       "       [-0.56880361,  0.36208858,  0.60362561,  0.35952305,  0.84023019],\n",
       "       [-0.43294002, -0.63321531, -1.08551833,  0.76838021, -0.21148339],\n",
       "       ...,\n",
       "       [ 0.7326892 , -0.15488711,  0.71814384,  1.1673854 , -0.83346454],\n",
       "       [ 0.48215494, -0.90336996, -0.14074291,  0.7256883 , -1.28581446],\n",
       "       [ 0.27147071,  0.37629052,  0.17418223,  0.70270035,  0.1183551 ]])"
      ]
     },
     "execution_count": 10,
     "metadata": {},
     "output_type": "execute_result"
    }
   ],
   "source": [
    "X_scaled"
   ]
  },
  {
   "cell_type": "markdown",
   "metadata": {
    "cell_id": "e9b40d55-a02f-4352-a839-f5e6bed12751",
    "deepnote_cell_height": 70,
    "deepnote_cell_type": "markdown",
    "tags": []
   },
   "source": [
    "## Build training and test set"
   ]
  },
  {
   "cell_type": "code",
   "execution_count": 11,
   "metadata": {
    "cell_id": "1b87d5b1-532d-4f2e-bc0b-5531a5409773",
    "deepnote_cell_height": 81,
    "deepnote_cell_type": "code",
    "deepnote_to_be_reexecuted": false,
    "execution_millis": 6,
    "execution_start": 1647547032946,
    "source_hash": "1db32f80",
    "tags": []
   },
   "outputs": [],
   "source": [
    "X_train, X_test, y_train, y_test = train_test_split(X_scaled, Y, test_size=0.2)"
   ]
  },
  {
   "cell_type": "markdown",
   "metadata": {
    "cell_id": "623c58e9-65b0-4132-b5fb-6d39ebb8c713",
    "deepnote_cell_height": 70,
    "deepnote_cell_type": "markdown",
    "tags": []
   },
   "source": [
    "## Train the model"
   ]
  },
  {
   "cell_type": "code",
   "execution_count": 12,
   "metadata": {
    "cell_id": "9d887682-117b-4312-8f5b-2ce6790fd55c",
    "deepnote_cell_height": 81,
    "deepnote_cell_type": "code",
    "deepnote_to_be_reexecuted": false,
    "execution_millis": 0,
    "execution_start": 1647547034109,
    "source_hash": "aef42042",
    "tags": []
   },
   "outputs": [],
   "source": [
    "clf = LogisticRegression()"
   ]
  },
  {
   "cell_type": "code",
   "execution_count": 13,
   "metadata": {
    "cell_id": "c4250de6-3a41-4880-95bd-8d252a9af65d",
    "deepnote_cell_height": 118.1875,
    "deepnote_cell_type": "code",
    "deepnote_output_heights": [
     21.1875
    ],
    "deepnote_to_be_reexecuted": false,
    "execution_millis": 67,
    "execution_start": 1647547035168,
    "source_hash": "e7844c31",
    "tags": []
   },
   "outputs": [
    {
     "data": {
      "text/plain": [
       "LogisticRegression()"
      ]
     },
     "execution_count": 13,
     "metadata": {},
     "output_type": "execute_result"
    }
   ],
   "source": [
    "clf.fit(X_train, y_train)"
   ]
  },
  {
   "cell_type": "code",
   "execution_count": 14,
   "metadata": {
    "cell_id": "0a1f763b-3479-43eb-9c2d-f926dd3f7cfc",
    "deepnote_cell_height": 233.359375,
    "deepnote_cell_type": "code",
    "deepnote_output_heights": [
     136.359375
    ],
    "deepnote_to_be_reexecuted": false,
    "execution_millis": 4,
    "execution_start": 1647547035232,
    "source_hash": "87e8bd7f",
    "tags": []
   },
   "outputs": [
    {
     "data": {
      "text/plain": [
       "array([[0.82371344, 0.17628656],\n",
       "       [0.87303334, 0.12696666],\n",
       "       [0.25054071, 0.74945929],\n",
       "       ...,\n",
       "       [0.84269527, 0.15730473],\n",
       "       [0.69738565, 0.30261435],\n",
       "       [0.74106931, 0.25893069]])"
      ]
     },
     "execution_count": 14,
     "metadata": {},
     "output_type": "execute_result"
    }
   ],
   "source": [
    "clf.predict_proba(X_train)"
   ]
  },
  {
   "cell_type": "code",
   "execution_count": 15,
   "metadata": {
    "cell_id": "41b89145-b29f-490a-a14f-6a93f0eecb80",
    "deepnote_cell_height": 137.390625,
    "deepnote_cell_type": "code",
    "deepnote_output_heights": [
     40.390625
    ],
    "deepnote_to_be_reexecuted": false,
    "execution_millis": 2,
    "execution_start": 1647547036316,
    "source_hash": "d6e43eb7",
    "tags": []
   },
   "outputs": [
    {
     "data": {
      "text/plain": [
       "array(['Çerçevelik', 'Çerçevelik', 'Ürgüp Sivrisi', ..., 'Çerçevelik',\n",
       "       'Çerçevelik', 'Çerçevelik'], dtype=object)"
      ]
     },
     "execution_count": 15,
     "metadata": {},
     "output_type": "execute_result"
    }
   ],
   "source": [
    "clf.predict(X_train)"
   ]
  },
  {
   "cell_type": "markdown",
   "metadata": {
    "cell_id": "b2eb7806-ae40-4a95-bc0e-82ccd2f5bea8",
    "deepnote_cell_height": 70,
    "deepnote_cell_type": "markdown",
    "tags": []
   },
   "source": [
    "## Check whether overfits"
   ]
  },
  {
   "cell_type": "code",
   "execution_count": 16,
   "metadata": {
    "cell_id": "15d36e52-32af-4b88-aec2-43b5ba54d7dc",
    "deepnote_cell_height": 99,
    "deepnote_cell_type": "code",
    "deepnote_to_be_reexecuted": false,
    "execution_millis": 43,
    "execution_start": 1647547037994,
    "source_hash": "469cc8a1",
    "tags": []
   },
   "outputs": [],
   "source": [
    "train_error = log_loss(y_train, clf.predict_proba(X_train))\n",
    "test_error = log_loss(y_test, clf.predict_proba(X_test))"
   ]
  },
  {
   "cell_type": "code",
   "execution_count": 17,
   "metadata": {
    "cell_id": "fac0d2dd-953b-4c54-8ba3-abecee9459d2",
    "deepnote_cell_height": 118.1875,
    "deepnote_cell_type": "code",
    "deepnote_output_heights": [
     21.1875
    ],
    "deepnote_to_be_reexecuted": false,
    "execution_millis": 5,
    "execution_start": 1647547039119,
    "source_hash": "3473a4f",
    "tags": []
   },
   "outputs": [
    {
     "data": {
      "text/plain": [
       "0.3226528735934736"
      ]
     },
     "execution_count": 17,
     "metadata": {},
     "output_type": "execute_result"
    }
   ],
   "source": [
    "train_error"
   ]
  },
  {
   "cell_type": "code",
   "execution_count": 18,
   "metadata": {
    "cell_id": "e200b7a6-234d-4eeb-8b72-20edcd6497d3",
    "deepnote_cell_height": 118.1875,
    "deepnote_cell_type": "code",
    "deepnote_output_heights": [
     21.1875
    ],
    "deepnote_to_be_reexecuted": false,
    "execution_millis": 9,
    "execution_start": 1647547044657,
    "source_hash": "d537e254",
    "tags": []
   },
   "outputs": [
    {
     "data": {
      "text/plain": [
       "0.30269970620960607"
      ]
     },
     "execution_count": 18,
     "metadata": {},
     "output_type": "execute_result"
    }
   ],
   "source": [
    "test_error"
   ]
  },
  {
   "cell_type": "code",
   "execution_count": 19,
   "metadata": {
    "cell_id": "fa28fffa-14c9-4e4d-9c57-f26771ac69bf",
    "deepnote_cell_height": 99,
    "deepnote_cell_type": "code",
    "deepnote_to_be_reexecuted": false,
    "execution_millis": 8,
    "execution_start": 1647547048805,
    "source_hash": "a334078c",
    "tags": []
   },
   "outputs": [],
   "source": [
    "test_accuracy =np.count_nonzero(clf.predict(X_test) == y_test)/len(X_test)\n",
    "train_accuracy =np.count_nonzero(clf.predict(X_train) == y_train)/len(X_train)"
   ]
  },
  {
   "cell_type": "code",
   "execution_count": 20,
   "metadata": {
    "cell_id": "2cecc7e8-667d-4902-a3b6-918d2ba5044a",
    "deepnote_cell_height": 118.1875,
    "deepnote_cell_type": "code",
    "deepnote_output_heights": [
     21.1875
    ],
    "deepnote_to_be_reexecuted": false,
    "execution_millis": 2,
    "execution_start": 1647547050162,
    "source_hash": "27bcb91f",
    "tags": []
   },
   "outputs": [
    {
     "data": {
      "text/plain": [
       "0.874"
      ]
     },
     "execution_count": 20,
     "metadata": {},
     "output_type": "execute_result"
    }
   ],
   "source": [
    "test_accuracy"
   ]
  },
  {
   "cell_type": "code",
   "execution_count": 21,
   "metadata": {
    "cell_id": "78cc17bb-5305-4f65-803f-a98c3b0eae7c",
    "deepnote_cell_height": 118.1875,
    "deepnote_cell_type": "code",
    "deepnote_output_heights": [
     21.1875
    ],
    "deepnote_to_be_reexecuted": false,
    "execution_millis": 5,
    "execution_start": 1647547051648,
    "source_hash": "bd76fd5a",
    "tags": []
   },
   "outputs": [
    {
     "data": {
      "text/plain": [
       "0.875"
      ]
     },
     "execution_count": 21,
     "metadata": {},
     "output_type": "execute_result"
    }
   ],
   "source": [
    "train_accuracy"
   ]
  },
  {
   "cell_type": "code",
   "execution_count": 22,
   "metadata": {
    "cell_id": "ce36e2ec-4210-4572-88cd-157110cafd46",
    "deepnote_cell_height": 149.390625,
    "deepnote_cell_type": "code",
    "deepnote_to_be_reexecuted": false,
    "execution_millis": 9,
    "execution_start": 1647547053543,
    "source_hash": "abb130ba",
    "tags": []
   },
   "outputs": [
    {
     "name": "stdout",
     "output_type": "stream",
     "text": [
      "The log error for the training set is 0.3226528735934736, and the log error for the test set is 0.30269970620960607\n",
      "The accuracy for the training set is 0.875, and the accuracy for the test set is 0.874\n"
     ]
    }
   ],
   "source": [
    "print(f\"The log error for the training set is {train_error}, and the log error for the test set is {test_error}\")\n",
    "print(f\"The accuracy for the training set is {train_accuracy}, and the accuracy for the test set is {test_accuracy}\")"
   ]
  },
  {
   "cell_type": "markdown",
   "metadata": {
    "cell_id": "229c272a-217a-4175-b488-5c7de0684ffd",
    "deepnote_cell_height": 70,
    "deepnote_cell_type": "markdown",
    "tags": []
   },
   "source": [
    "## Visualize the feature importance"
   ]
  },
  {
   "cell_type": "code",
   "execution_count": 23,
   "metadata": {
    "cell_id": "6c88ca7b-7267-4694-854b-7fe991bc64c8",
    "deepnote_cell_height": 194.96875,
    "deepnote_cell_type": "code",
    "deepnote_output_heights": [
     97.96875
    ],
    "deepnote_to_be_reexecuted": false,
    "execution_millis": 6,
    "execution_start": 1647547056848,
    "source_hash": "d882491a",
    "tags": []
   },
   "outputs": [
    {
     "data": {
      "text/plain": [
       "[0.7739633214464561,\n",
       " -0.7281673848227552,\n",
       " 0.4759291759853715,\n",
       " 0.04615270158937232,\n",
       " -2.2511074799364117]"
      ]
     },
     "execution_count": 23,
     "metadata": {},
     "output_type": "execute_result"
    }
   ],
   "source": [
    "list(clf.coef_[0])"
   ]
  },
  {
   "cell_type": "code",
   "execution_count": 24,
   "metadata": {
    "cell_id": "58e2c20a-7131-4de6-80a2-f6234771cf1b",
    "deepnote_cell_height": 135,
    "deepnote_cell_type": "code",
    "deepnote_to_be_reexecuted": false,
    "execution_millis": 1,
    "execution_start": 1647547057949,
    "source_hash": "937c64a2",
    "tags": []
   },
   "outputs": [],
   "source": [
    "df_coef = pd.DataFrame()\n",
    "df_coef['feature'] = ['Perimeter', 'Minor_Axis_Length', 'Solidity', 'Extent', 'Compactness']\n",
    "df_coef['value'] = list(abs(clf.coef_[0]))\n",
    "df_coef['type'] = ['negative' if n < 0 else 'positive'for n in clf.coef_[0]]"
   ]
  },
  {
   "cell_type": "code",
   "execution_count": 25,
   "metadata": {
    "cell_id": "5fbe7f3d-f2bb-445a-9df4-8c7aed44e0d8",
    "deepnote_cell_height": 393,
    "deepnote_cell_type": "code",
    "deepnote_table_loading": false,
    "deepnote_table_state": {
     "filters": [],
     "pageIndex": 0,
     "pageSize": 10,
     "sortBy": []
    },
    "deepnote_to_be_reexecuted": false,
    "execution_millis": 77,
    "execution_start": 1647547059076,
    "source_hash": "8c6bbd72",
    "tags": []
   },
   "outputs": [
    {
     "data": {
      "application/vnd.deepnote.dataframe.v3+json": {
       "column_count": 3,
       "columns": [
        {
         "dtype": "object",
         "name": "feature",
         "stats": {
          "categories": [
           {
            "count": 1,
            "name": "Perimeter"
           },
           {
            "count": 1,
            "name": "Minor_Axis_Length"
           },
           {
            "count": 3,
            "name": "3 others"
           }
          ],
          "nan_count": 0,
          "unique_count": 5
         }
        },
        {
         "dtype": "float64",
         "name": "value",
         "stats": {
          "histogram": [
           {
            "bin_end": 0.26664817942407626,
            "bin_start": 0.04615270158937232,
            "count": 1
           },
           {
            "bin_end": 0.4871436572587803,
            "bin_start": 0.26664817942407626,
            "count": 1
           },
           {
            "bin_end": 0.7076391350934843,
            "bin_start": 0.4871436572587803,
            "count": 0
           },
           {
            "bin_end": 0.9281346129281882,
            "bin_start": 0.7076391350934843,
            "count": 2
           },
           {
            "bin_end": 1.1486300907628921,
            "bin_start": 0.9281346129281882,
            "count": 0
           },
           {
            "bin_end": 1.3691255685975963,
            "bin_start": 1.1486300907628921,
            "count": 0
           },
           {
            "bin_end": 1.5896210464323002,
            "bin_start": 1.3691255685975963,
            "count": 0
           },
           {
            "bin_end": 1.810116524267004,
            "bin_start": 1.5896210464323002,
            "count": 0
           },
           {
            "bin_end": 2.030612002101708,
            "bin_start": 1.810116524267004,
            "count": 0
           },
           {
            "bin_end": 2.2511074799364117,
            "bin_start": 2.030612002101708,
            "count": 1
           }
          ],
          "max": "2.2511074799364117",
          "min": "0.04615270158937232",
          "nan_count": 0,
          "unique_count": 5
         }
        },
        {
         "dtype": "object",
         "name": "type",
         "stats": {
          "categories": [
           {
            "count": 3,
            "name": "positive"
           },
           {
            "count": 2,
            "name": "negative"
           }
          ],
          "nan_count": 0,
          "unique_count": 2
         }
        },
        {
         "dtype": "int64",
         "name": "_deepnote_index_column"
        }
       ],
       "row_count": 5,
       "rows": [
        {
         "_deepnote_index_column": 0,
         "feature": "Perimeter",
         "type": "positive",
         "value": 0.7739633214464561
        },
        {
         "_deepnote_index_column": 1,
         "feature": "Minor_Axis_Length",
         "type": "negative",
         "value": 0.7281673848227552
        },
        {
         "_deepnote_index_column": 2,
         "feature": "Solidity",
         "type": "positive",
         "value": 0.4759291759853715
        },
        {
         "_deepnote_index_column": 3,
         "feature": "Extent",
         "type": "positive",
         "value": 0.04615270158937232
        },
        {
         "_deepnote_index_column": 4,
         "feature": "Compactness",
         "type": "negative",
         "value": 2.2511074799364117
        }
       ]
      },
      "text/html": [
       "<div>\n",
       "<style scoped>\n",
       "    .dataframe tbody tr th:only-of-type {\n",
       "        vertical-align: middle;\n",
       "    }\n",
       "\n",
       "    .dataframe tbody tr th {\n",
       "        vertical-align: top;\n",
       "    }\n",
       "\n",
       "    .dataframe thead th {\n",
       "        text-align: right;\n",
       "    }\n",
       "</style>\n",
       "<table border=\"1\" class=\"dataframe\">\n",
       "  <thead>\n",
       "    <tr style=\"text-align: right;\">\n",
       "      <th></th>\n",
       "      <th>feature</th>\n",
       "      <th>value</th>\n",
       "      <th>type</th>\n",
       "    </tr>\n",
       "  </thead>\n",
       "  <tbody>\n",
       "    <tr>\n",
       "      <th>0</th>\n",
       "      <td>Perimeter</td>\n",
       "      <td>0.773963</td>\n",
       "      <td>positive</td>\n",
       "    </tr>\n",
       "    <tr>\n",
       "      <th>1</th>\n",
       "      <td>Minor_Axis_Length</td>\n",
       "      <td>0.728167</td>\n",
       "      <td>negative</td>\n",
       "    </tr>\n",
       "    <tr>\n",
       "      <th>2</th>\n",
       "      <td>Solidity</td>\n",
       "      <td>0.475929</td>\n",
       "      <td>positive</td>\n",
       "    </tr>\n",
       "    <tr>\n",
       "      <th>3</th>\n",
       "      <td>Extent</td>\n",
       "      <td>0.046153</td>\n",
       "      <td>positive</td>\n",
       "    </tr>\n",
       "    <tr>\n",
       "      <th>4</th>\n",
       "      <td>Compactness</td>\n",
       "      <td>2.251107</td>\n",
       "      <td>negative</td>\n",
       "    </tr>\n",
       "  </tbody>\n",
       "</table>\n",
       "</div>"
      ],
      "text/plain": [
       "             feature     value      type\n",
       "0          Perimeter  0.773963  positive\n",
       "1  Minor_Axis_Length  0.728167  negative\n",
       "2           Solidity  0.475929  positive\n",
       "3             Extent  0.046153  positive\n",
       "4        Compactness  2.251107  negative"
      ]
     },
     "execution_count": 25,
     "metadata": {},
     "output_type": "execute_result"
    }
   ],
   "source": [
    "df_coef"
   ]
  },
  {
   "cell_type": "code",
   "execution_count": 26,
   "metadata": {
    "cell_id": "cbdda89f-4702-4db3-af2f-ead42635e777",
    "deepnote_cell_height": 677,
    "deepnote_cell_type": "code",
    "deepnote_output_heights": [
     454
    ],
    "deepnote_to_be_reexecuted": false,
    "execution_millis": 60,
    "execution_start": 1647547061995,
    "source_hash": "36fa7de2",
    "tags": []
   },
   "outputs": [
    {
     "data": {
      "text/html": [
       "\n",
       "<div id=\"altair-viz-d26643d5d38f4127a5f3ab375806579f\"></div>\n",
       "<script type=\"text/javascript\">\n",
       "  (function(spec, embedOpt){\n",
       "    let outputDiv = document.currentScript.previousElementSibling;\n",
       "    if (outputDiv.id !== \"altair-viz-d26643d5d38f4127a5f3ab375806579f\") {\n",
       "      outputDiv = document.getElementById(\"altair-viz-d26643d5d38f4127a5f3ab375806579f\");\n",
       "    }\n",
       "    const paths = {\n",
       "      \"vega\": \"https://cdn.jsdelivr.net/npm//vega@5?noext\",\n",
       "      \"vega-lib\": \"https://cdn.jsdelivr.net/npm//vega-lib?noext\",\n",
       "      \"vega-lite\": \"https://cdn.jsdelivr.net/npm//vega-lite@4.8.1?noext\",\n",
       "      \"vega-embed\": \"https://cdn.jsdelivr.net/npm//vega-embed@6?noext\",\n",
       "    };\n",
       "\n",
       "    function loadScript(lib) {\n",
       "      return new Promise(function(resolve, reject) {\n",
       "        var s = document.createElement('script');\n",
       "        s.src = paths[lib];\n",
       "        s.async = true;\n",
       "        s.onload = () => resolve(paths[lib]);\n",
       "        s.onerror = () => reject(`Error loading script: ${paths[lib]}`);\n",
       "        document.getElementsByTagName(\"head\")[0].appendChild(s);\n",
       "      });\n",
       "    }\n",
       "\n",
       "    function showError(err) {\n",
       "      outputDiv.innerHTML = `<div class=\"error\" style=\"color:red;\">${err}</div>`;\n",
       "      throw err;\n",
       "    }\n",
       "\n",
       "    function displayChart(vegaEmbed) {\n",
       "      vegaEmbed(outputDiv, spec, embedOpt)\n",
       "        .catch(err => showError(`Javascript Error: ${err.message}<br>This usually means there's a typo in your chart specification. See the javascript console for the full traceback.`));\n",
       "    }\n",
       "\n",
       "    if(typeof define === \"function\" && define.amd) {\n",
       "      requirejs.config({paths});\n",
       "      require([\"vega-embed\"], displayChart, err => showError(`Error loading script: ${err.message}`));\n",
       "    } else if (typeof vegaEmbed === \"function\") {\n",
       "      displayChart(vegaEmbed);\n",
       "    } else {\n",
       "      loadScript(\"vega\")\n",
       "        .then(() => loadScript(\"vega-lite\"))\n",
       "        .then(() => loadScript(\"vega-embed\"))\n",
       "        .catch(showError)\n",
       "        .then(() => displayChart(vegaEmbed));\n",
       "    }\n",
       "  })({\"config\": {\"view\": {\"continuousWidth\": 400, \"continuousHeight\": 300}}, \"data\": {\"name\": \"data-0b983738d0a408de40feedadbc0fa4b4\"}, \"mark\": \"bar\", \"encoding\": {\"color\": {\"type\": \"nominal\", \"field\": \"type\"}, \"opacity\": {\"value\": 0.5}, \"x\": {\"type\": \"nominal\", \"field\": \"feature\"}, \"y\": {\"type\": \"quantitative\", \"field\": \"value\"}}, \"title\": \"Feature Importance\", \"$schema\": \"https://vega.github.io/schema/vega-lite/v4.8.1.json\", \"datasets\": {\"data-0b983738d0a408de40feedadbc0fa4b4\": [{\"feature\": \"Perimeter\", \"value\": 0.7739633214464561, \"type\": \"positive\"}, {\"feature\": \"Minor_Axis_Length\", \"value\": 0.7281673848227552, \"type\": \"negative\"}, {\"feature\": \"Solidity\", \"value\": 0.4759291759853715, \"type\": \"positive\"}, {\"feature\": \"Extent\", \"value\": 0.04615270158937232, \"type\": \"positive\"}, {\"feature\": \"Compactness\", \"value\": 2.2511074799364117, \"type\": \"negative\"}]}}, {\"mode\": \"vega-lite\"});\n",
       "</script>"
      ],
      "text/plain": [
       "alt.Chart(...)"
      ]
     },
     "execution_count": 26,
     "metadata": {},
     "output_type": "execute_result"
    }
   ],
   "source": [
    "alt.Chart(df_coef).mark_bar().encode(\n",
    "    x = 'feature',\n",
    "    y = 'value',\n",
    "    color = 'type',\n",
    "    opacity=alt.value(0.5),\n",
    ").properties(\n",
    "    title = 'Feature Importance'\n",
    ")"
   ]
  },
  {
   "cell_type": "markdown",
   "metadata": {
    "cell_id": "88f6874a-03ab-45ce-a2e2-8b9a109ae7de",
    "deepnote_cell_height": 74.796875,
    "deepnote_cell_type": "markdown",
    "tags": []
   },
   "source": [
    "Finally, we can plot the relationship chart using the two most important features, which are compactness and Perimeter, and find the relationship between these two x variables and y variables."
   ]
  },
  {
   "cell_type": "code",
   "execution_count": 27,
   "metadata": {
    "cell_id": "e96af667-9055-4031-a43a-9b7bdf953db6",
    "deepnote_cell_height": 207,
    "deepnote_cell_type": "code",
    "deepnote_to_be_reexecuted": false,
    "execution_millis": 11,
    "execution_start": 1647547065909,
    "source_hash": "e223ff64",
    "tags": []
   },
   "outputs": [],
   "source": [
    "tmp = []\n",
    "for i in y_test.index:\n",
    "    tmp.append(df['Compactness'][i])\n",
    "\n",
    "tmp2 = []\n",
    "for i in y_test.index:\n",
    "    tmp2.append(df['Perimeter'][i])\n"
   ]
  },
  {
   "cell_type": "code",
   "execution_count": 28,
   "metadata": {
    "cell_id": "872cc67e-b3f7-447a-83de-dcfb941cf6fc",
    "deepnote_cell_height": 118.1875,
    "deepnote_cell_type": "code",
    "deepnote_output_heights": [
     21.1875
    ],
    "deepnote_to_be_reexecuted": false,
    "execution_millis": 13,
    "execution_start": 1647547067377,
    "source_hash": "d101bc30",
    "tags": []
   },
   "outputs": [
    {
     "data": {
      "text/plain": [
       "500"
      ]
     },
     "execution_count": 28,
     "metadata": {},
     "output_type": "execute_result"
    }
   ],
   "source": [
    "len(tmp2)"
   ]
  },
  {
   "cell_type": "code",
   "execution_count": 29,
   "metadata": {
    "cell_id": "245ee8b1-8251-4f12-9ee9-3feb74e26116",
    "deepnote_cell_height": 135,
    "deepnote_cell_type": "code",
    "deepnote_to_be_reexecuted": false,
    "execution_millis": 6,
    "execution_start": 1647547070795,
    "source_hash": "779ca0a1",
    "tags": []
   },
   "outputs": [],
   "source": [
    "df_pred = pd.DataFrame()\n",
    "df_pred['Compactness'] = tmp\n",
    "df_pred['Perimeter'] = tmp2\n",
    "df_pred['type'] = clf.predict(X_test)"
   ]
  },
  {
   "cell_type": "code",
   "execution_count": 30,
   "metadata": {
    "cell_id": "96b97c1c-c3de-4011-96ae-e6784fbabb89",
    "deepnote_cell_height": 598,
    "deepnote_cell_type": "code",
    "deepnote_to_be_reexecuted": false,
    "execution_millis": 216,
    "execution_start": 1647547071798,
    "source_hash": "ec3ea5fe",
    "tags": []
   },
   "outputs": [
    {
     "data": {
      "application/vnd.deepnote.dataframe.v3+json": {
       "column_count": 3,
       "columns": [
        {
         "dtype": "float64",
         "name": "Compactness",
         "stats": {
          "histogram": [
           {
            "bin_end": 0.59221,
            "bin_start": 0.5673,
            "count": 9
           },
           {
            "bin_end": 0.61712,
            "bin_start": 0.59221,
            "count": 25
           },
           {
            "bin_end": 0.64203,
            "bin_start": 0.61712,
            "count": 43
           },
           {
            "bin_end": 0.66694,
            "bin_start": 0.64203,
            "count": 71
           },
           {
            "bin_end": 0.6918500000000001,
            "bin_start": 0.66694,
            "count": 68
           },
           {
            "bin_end": 0.7167600000000001,
            "bin_start": 0.6918500000000001,
            "count": 74
           },
           {
            "bin_end": 0.74167,
            "bin_start": 0.7167600000000001,
            "count": 87
           },
           {
            "bin_end": 0.76658,
            "bin_start": 0.74167,
            "count": 71
           },
           {
            "bin_end": 0.79149,
            "bin_start": 0.76658,
            "count": 41
           },
           {
            "bin_end": 0.8164,
            "bin_start": 0.79149,
            "count": 11
           }
          ],
          "max": "0.8164",
          "min": "0.5673",
          "nan_count": 0,
          "unique_count": 452
         }
        },
        {
         "dtype": "float64",
         "name": "Perimeter",
         "stats": {
          "histogram": [
           {
            "bin_end": 954.7475,
            "bin_start": 895.169,
            "count": 18
           },
           {
            "bin_end": 1014.326,
            "bin_start": 954.7475,
            "count": 52
           },
           {
            "bin_end": 1073.9045,
            "bin_start": 1014.326,
            "count": 93
           },
           {
            "bin_end": 1133.483,
            "bin_start": 1073.9045,
            "count": 101
           },
           {
            "bin_end": 1193.0615,
            "bin_start": 1133.483,
            "count": 92
           },
           {
            "bin_end": 1252.6399999999999,
            "bin_start": 1193.0615,
            "count": 71
           },
           {
            "bin_end": 1312.2185,
            "bin_start": 1252.6399999999999,
            "count": 40
           },
           {
            "bin_end": 1371.797,
            "bin_start": 1312.2185,
            "count": 20
           },
           {
            "bin_end": 1431.3755,
            "bin_start": 1371.797,
            "count": 10
           },
           {
            "bin_end": 1490.954,
            "bin_start": 1431.3755,
            "count": 3
           }
          ],
          "max": "1490.954",
          "min": "895.169",
          "nan_count": 0,
          "unique_count": 500
         }
        },
        {
         "dtype": "object",
         "name": "type",
         "stats": {
          "categories": [
           {
            "count": 262,
            "name": "Çerçevelik"
           },
           {
            "count": 238,
            "name": "Ürgüp Sivrisi"
           }
          ],
          "nan_count": 0,
          "unique_count": 2
         }
        },
        {
         "dtype": "int64",
         "name": "_deepnote_index_column"
        }
       ],
       "row_count": 500,
       "rows": [
        {
         "Compactness": 0.6693,
         "Perimeter": 991.063,
         "_deepnote_index_column": 0,
         "type": "Ürgüp Sivrisi"
        },
        {
         "Compactness": 0.6264,
         "Perimeter": 1366.056,
         "_deepnote_index_column": 1,
         "type": "Ürgüp Sivrisi"
        },
        {
         "Compactness": 0.7348,
         "Perimeter": 1043.688,
         "_deepnote_index_column": 2,
         "type": "Çerçevelik"
        },
        {
         "Compactness": 0.6834,
         "Perimeter": 975.628,
         "_deepnote_index_column": 3,
         "type": "Ürgüp Sivrisi"
        },
        {
         "Compactness": 0.6916,
         "Perimeter": 1200.894,
         "_deepnote_index_column": 4,
         "type": "Ürgüp Sivrisi"
        },
        {
         "Compactness": 0.7199,
         "Perimeter": 1206.002,
         "_deepnote_index_column": 5,
         "type": "Çerçevelik"
        },
        {
         "Compactness": 0.6532,
         "Perimeter": 1359.81,
         "_deepnote_index_column": 6,
         "type": "Ürgüp Sivrisi"
        },
        {
         "Compactness": 0.7475,
         "Perimeter": 1126.533,
         "_deepnote_index_column": 7,
         "type": "Çerçevelik"
        },
        {
         "Compactness": 0.763,
         "Perimeter": 1021.445,
         "_deepnote_index_column": 8,
         "type": "Çerçevelik"
        },
        {
         "Compactness": 0.6233,
         "Perimeter": 1331.364,
         "_deepnote_index_column": 9,
         "type": "Ürgüp Sivrisi"
        }
       ]
      },
      "text/html": [
       "<div>\n",
       "<style scoped>\n",
       "    .dataframe tbody tr th:only-of-type {\n",
       "        vertical-align: middle;\n",
       "    }\n",
       "\n",
       "    .dataframe tbody tr th {\n",
       "        vertical-align: top;\n",
       "    }\n",
       "\n",
       "    .dataframe thead th {\n",
       "        text-align: right;\n",
       "    }\n",
       "</style>\n",
       "<table border=\"1\" class=\"dataframe\">\n",
       "  <thead>\n",
       "    <tr style=\"text-align: right;\">\n",
       "      <th></th>\n",
       "      <th>Compactness</th>\n",
       "      <th>Perimeter</th>\n",
       "      <th>type</th>\n",
       "    </tr>\n",
       "  </thead>\n",
       "  <tbody>\n",
       "    <tr>\n",
       "      <th>0</th>\n",
       "      <td>0.6693</td>\n",
       "      <td>991.063</td>\n",
       "      <td>Ürgüp Sivrisi</td>\n",
       "    </tr>\n",
       "    <tr>\n",
       "      <th>1</th>\n",
       "      <td>0.6264</td>\n",
       "      <td>1366.056</td>\n",
       "      <td>Ürgüp Sivrisi</td>\n",
       "    </tr>\n",
       "    <tr>\n",
       "      <th>2</th>\n",
       "      <td>0.7348</td>\n",
       "      <td>1043.688</td>\n",
       "      <td>Çerçevelik</td>\n",
       "    </tr>\n",
       "    <tr>\n",
       "      <th>3</th>\n",
       "      <td>0.6834</td>\n",
       "      <td>975.628</td>\n",
       "      <td>Ürgüp Sivrisi</td>\n",
       "    </tr>\n",
       "    <tr>\n",
       "      <th>4</th>\n",
       "      <td>0.6916</td>\n",
       "      <td>1200.894</td>\n",
       "      <td>Ürgüp Sivrisi</td>\n",
       "    </tr>\n",
       "    <tr>\n",
       "      <th>...</th>\n",
       "      <td>...</td>\n",
       "      <td>...</td>\n",
       "      <td>...</td>\n",
       "    </tr>\n",
       "    <tr>\n",
       "      <th>495</th>\n",
       "      <td>0.6273</td>\n",
       "      <td>1263.079</td>\n",
       "      <td>Ürgüp Sivrisi</td>\n",
       "    </tr>\n",
       "    <tr>\n",
       "      <th>496</th>\n",
       "      <td>0.7076</td>\n",
       "      <td>1078.565</td>\n",
       "      <td>Çerçevelik</td>\n",
       "    </tr>\n",
       "    <tr>\n",
       "      <th>497</th>\n",
       "      <td>0.6919</td>\n",
       "      <td>1063.550</td>\n",
       "      <td>Ürgüp Sivrisi</td>\n",
       "    </tr>\n",
       "    <tr>\n",
       "      <th>498</th>\n",
       "      <td>0.7827</td>\n",
       "      <td>996.385</td>\n",
       "      <td>Çerçevelik</td>\n",
       "    </tr>\n",
       "    <tr>\n",
       "      <th>499</th>\n",
       "      <td>0.7116</td>\n",
       "      <td>1240.471</td>\n",
       "      <td>Çerçevelik</td>\n",
       "    </tr>\n",
       "  </tbody>\n",
       "</table>\n",
       "<p>500 rows × 3 columns</p>\n",
       "</div>"
      ],
      "text/plain": [
       "     Compactness  Perimeter           type\n",
       "0         0.6693    991.063  Ürgüp Sivrisi\n",
       "1         0.6264   1366.056  Ürgüp Sivrisi\n",
       "2         0.7348   1043.688     Çerçevelik\n",
       "3         0.6834    975.628  Ürgüp Sivrisi\n",
       "4         0.6916   1200.894  Ürgüp Sivrisi\n",
       "..           ...        ...            ...\n",
       "495       0.6273   1263.079  Ürgüp Sivrisi\n",
       "496       0.7076   1078.565     Çerçevelik\n",
       "497       0.6919   1063.550  Ürgüp Sivrisi\n",
       "498       0.7827    996.385     Çerçevelik\n",
       "499       0.7116   1240.471     Çerçevelik\n",
       "\n",
       "[500 rows x 3 columns]"
      ]
     },
     "execution_count": 30,
     "metadata": {},
     "output_type": "execute_result"
    }
   ],
   "source": [
    "df_pred"
   ]
  },
  {
   "cell_type": "code",
   "execution_count": 31,
   "metadata": {
    "cell_id": "5fc45543-b448-465e-91d4-0cf60b1358a1",
    "deepnote_cell_height": 207,
    "deepnote_cell_type": "code",
    "deepnote_to_be_reexecuted": false,
    "execution_millis": 22,
    "execution_start": 1647547073229,
    "source_hash": "3ce72a6e",
    "tags": []
   },
   "outputs": [],
   "source": [
    "c1 = alt.Chart(df_pred).mark_circle().encode(\n",
    "    x = 'Compactness',\n",
    "    y = 'Perimeter',\n",
    "    color = 'type'   \n",
    ").properties(\n",
    "    title = 'pred'\n",
    ")\n"
   ]
  },
  {
   "cell_type": "code",
   "execution_count": 32,
   "metadata": {
    "cell_id": "636edb06-cb11-459a-ad0c-cb9d19025631",
    "deepnote_cell_height": 135,
    "deepnote_cell_type": "code",
    "deepnote_to_be_reexecuted": false,
    "execution_millis": 1,
    "execution_start": 1647547074396,
    "source_hash": "1e7b6ace",
    "tags": []
   },
   "outputs": [],
   "source": [
    "df_true = pd.DataFrame()\n",
    "df_true['Compactness'] = tmp\n",
    "df_true['Perimeter'] = tmp2\n",
    "df_true['type'] = list(y_test)"
   ]
  },
  {
   "cell_type": "code",
   "execution_count": 33,
   "metadata": {
    "cell_id": "a62a1279-46ff-497d-8571-03830c4b8a29",
    "deepnote_cell_height": 189,
    "deepnote_cell_type": "code",
    "deepnote_table_loading": false,
    "deepnote_table_state": {
     "filters": [],
     "pageIndex": 0,
     "pageSize": 10,
     "sortBy": []
    },
    "deepnote_to_be_reexecuted": false,
    "execution_millis": 42,
    "execution_start": 1647547075448,
    "source_hash": "235e749d",
    "tags": []
   },
   "outputs": [],
   "source": [
    "c2 = alt.Chart(df_true).mark_circle().encode(\n",
    "    x = 'Compactness',\n",
    "    y = 'Perimeter',\n",
    "    color = 'type'   \n",
    ").properties(\n",
    "    title = 'true'\n",
    ")"
   ]
  },
  {
   "cell_type": "code",
   "execution_count": 34,
   "metadata": {
    "cell_id": "d5da2f99-89bc-462f-96a5-f037eb1968c3",
    "deepnote_cell_height": 477.25,
    "deepnote_cell_type": "code",
    "deepnote_to_be_reexecuted": false,
    "execution_millis": 48,
    "execution_start": 1647547076556,
    "source_hash": "264bd2a2",
    "tags": []
   },
   "outputs": [
    {
     "data": {
      "text/html": [
       "\n",
       "<div id=\"altair-viz-b0055dd523274720a33b380a6acd4d3a\"></div>\n",
       "<script type=\"text/javascript\">\n",
       "  (function(spec, embedOpt){\n",
       "    let outputDiv = document.currentScript.previousElementSibling;\n",
       "    if (outputDiv.id !== \"altair-viz-b0055dd523274720a33b380a6acd4d3a\") {\n",
       "      outputDiv = document.getElementById(\"altair-viz-b0055dd523274720a33b380a6acd4d3a\");\n",
       "    }\n",
       "    const paths = {\n",
       "      \"vega\": \"https://cdn.jsdelivr.net/npm//vega@5?noext\",\n",
       "      \"vega-lib\": \"https://cdn.jsdelivr.net/npm//vega-lib?noext\",\n",
       "      \"vega-lite\": \"https://cdn.jsdelivr.net/npm//vega-lite@4.8.1?noext\",\n",
       "      \"vega-embed\": \"https://cdn.jsdelivr.net/npm//vega-embed@6?noext\",\n",
       "    };\n",
       "\n",
       "    function loadScript(lib) {\n",
       "      return new Promise(function(resolve, reject) {\n",
       "        var s = document.createElement('script');\n",
       "        s.src = paths[lib];\n",
       "        s.async = true;\n",
       "        s.onload = () => resolve(paths[lib]);\n",
       "        s.onerror = () => reject(`Error loading script: ${paths[lib]}`);\n",
       "        document.getElementsByTagName(\"head\")[0].appendChild(s);\n",
       "      });\n",
       "    }\n",
       "\n",
       "    function showError(err) {\n",
       "      outputDiv.innerHTML = `<div class=\"error\" style=\"color:red;\">${err}</div>`;\n",
       "      throw err;\n",
       "    }\n",
       "\n",
       "    function displayChart(vegaEmbed) {\n",
       "      vegaEmbed(outputDiv, spec, embedOpt)\n",
       "        .catch(err => showError(`Javascript Error: ${err.message}<br>This usually means there's a typo in your chart specification. See the javascript console for the full traceback.`));\n",
       "    }\n",
       "\n",
       "    if(typeof define === \"function\" && define.amd) {\n",
       "      requirejs.config({paths});\n",
       "      require([\"vega-embed\"], displayChart, err => showError(`Error loading script: ${err.message}`));\n",
       "    } else if (typeof vegaEmbed === \"function\") {\n",
       "      displayChart(vegaEmbed);\n",
       "    } else {\n",
       "      loadScript(\"vega\")\n",
       "        .then(() => loadScript(\"vega-lite\"))\n",
       "        .then(() => loadScript(\"vega-embed\"))\n",
       "        .catch(showError)\n",
       "        .then(() => displayChart(vegaEmbed));\n",
       "    }\n",
       "  })({\"config\": {\"view\": {\"continuousWidth\": 400, \"continuousHeight\": 300}}, \"hconcat\": [{\"data\": {\"name\": \"data-6bdc682f1099098262bb63444088d690\"}, \"mark\": \"circle\", \"encoding\": {\"color\": {\"type\": \"nominal\", \"field\": \"type\"}, \"x\": {\"type\": \"quantitative\", \"field\": \"Compactness\"}, \"y\": {\"type\": \"quantitative\", \"field\": \"Perimeter\"}}, \"title\": \"pred\"}, {\"data\": {\"name\": \"data-d9ba41912a0a08518bd346583a53f377\"}, \"mark\": \"circle\", \"encoding\": {\"color\": {\"type\": \"nominal\", \"field\": \"type\"}, \"x\": {\"type\": \"quantitative\", \"field\": \"Compactness\"}, \"y\": {\"type\": \"quantitative\", \"field\": \"Perimeter\"}}, \"title\": \"true\"}], \"$schema\": \"https://vega.github.io/schema/vega-lite/v4.8.1.json\", \"datasets\": {\"data-6bdc682f1099098262bb63444088d690\": [{\"Compactness\": 0.6693, \"Perimeter\": 991.063, \"type\": \"\\u00dcrg\\u00fcp Sivrisi\"}, {\"Compactness\": 0.6264, \"Perimeter\": 1366.056, \"type\": \"\\u00dcrg\\u00fcp Sivrisi\"}, {\"Compactness\": 0.7348, \"Perimeter\": 1043.688, \"type\": \"\\u00c7er\\u00e7evelik\"}, {\"Compactness\": 0.6834, \"Perimeter\": 975.628, \"type\": \"\\u00dcrg\\u00fcp Sivrisi\"}, {\"Compactness\": 0.6916, \"Perimeter\": 1200.894, \"type\": \"\\u00dcrg\\u00fcp Sivrisi\"}, {\"Compactness\": 0.7199, \"Perimeter\": 1206.002, \"type\": \"\\u00c7er\\u00e7evelik\"}, {\"Compactness\": 0.6532, \"Perimeter\": 1359.81, \"type\": \"\\u00dcrg\\u00fcp Sivrisi\"}, {\"Compactness\": 0.7475, \"Perimeter\": 1126.533, \"type\": \"\\u00c7er\\u00e7evelik\"}, {\"Compactness\": 0.763, \"Perimeter\": 1021.445, \"type\": \"\\u00c7er\\u00e7evelik\"}, {\"Compactness\": 0.6233, \"Perimeter\": 1331.364, \"type\": \"\\u00dcrg\\u00fcp Sivrisi\"}, {\"Compactness\": 0.7264, \"Perimeter\": 1063.29, \"type\": \"\\u00c7er\\u00e7evelik\"}, {\"Compactness\": 0.7234, \"Perimeter\": 975.93, \"type\": \"\\u00c7er\\u00e7evelik\"}, {\"Compactness\": 0.6683, \"Perimeter\": 1039.316, \"type\": \"\\u00dcrg\\u00fcp Sivrisi\"}, {\"Compactness\": 0.7567, \"Perimeter\": 924.23, \"type\": \"\\u00c7er\\u00e7evelik\"}, {\"Compactness\": 0.7314, \"Perimeter\": 1018.101, \"type\": \"\\u00c7er\\u00e7evelik\"}, {\"Compactness\": 0.6314, \"Perimeter\": 1163.696, \"type\": \"\\u00dcrg\\u00fcp Sivrisi\"}, {\"Compactness\": 0.7446, \"Perimeter\": 1004.552, \"type\": \"\\u00c7er\\u00e7evelik\"}, {\"Compactness\": 0.68, \"Perimeter\": 1158.947, \"type\": \"\\u00dcrg\\u00fcp Sivrisi\"}, {\"Compactness\": 0.7198, \"Perimeter\": 1124.691, \"type\": \"\\u00c7er\\u00e7evelik\"}, {\"Compactness\": 0.7005, \"Perimeter\": 1090.457, \"type\": \"\\u00c7er\\u00e7evelik\"}, {\"Compactness\": 0.6127, \"Perimeter\": 1234.857, \"type\": \"\\u00dcrg\\u00fcp Sivrisi\"}, {\"Compactness\": 0.7504, \"Perimeter\": 1276.689, \"type\": \"\\u00c7er\\u00e7evelik\"}, {\"Compactness\": 0.8164, \"Perimeter\": 1104.499, \"type\": \"\\u00c7er\\u00e7evelik\"}, {\"Compactness\": 0.6313, \"Perimeter\": 1408.755, \"type\": \"\\u00dcrg\\u00fcp Sivrisi\"}, {\"Compactness\": 0.6085, \"Perimeter\": 1148.908, \"type\": \"\\u00dcrg\\u00fcp Sivrisi\"}, {\"Compactness\": 0.7749, \"Perimeter\": 1016.392, \"type\": \"\\u00c7er\\u00e7evelik\"}, {\"Compactness\": 0.7178, \"Perimeter\": 1049.346, \"type\": \"\\u00c7er\\u00e7evelik\"}, {\"Compactness\": 0.6675, \"Perimeter\": 1128.564, \"type\": \"\\u00dcrg\\u00fcp Sivrisi\"}, {\"Compactness\": 0.6398, \"Perimeter\": 1087.833, \"type\": \"\\u00dcrg\\u00fcp Sivrisi\"}, {\"Compactness\": 0.6611, \"Perimeter\": 1364.851, \"type\": \"\\u00dcrg\\u00fcp Sivrisi\"}, {\"Compactness\": 0.6851, \"Perimeter\": 1219.412, \"type\": \"\\u00dcrg\\u00fcp Sivrisi\"}, {\"Compactness\": 0.6004, \"Perimeter\": 1125.2, \"type\": \"\\u00dcrg\\u00fcp Sivrisi\"}, {\"Compactness\": 0.6833, \"Perimeter\": 1250.211, \"type\": \"\\u00dcrg\\u00fcp Sivrisi\"}, {\"Compactness\": 0.7522, \"Perimeter\": 1041.46, \"type\": \"\\u00c7er\\u00e7evelik\"}, {\"Compactness\": 0.6815, \"Perimeter\": 1047.017, \"type\": \"\\u00dcrg\\u00fcp Sivrisi\"}, {\"Compactness\": 0.6291, \"Perimeter\": 1237.487, \"type\": \"\\u00dcrg\\u00fcp Sivrisi\"}, {\"Compactness\": 0.6904, \"Perimeter\": 1081.761, \"type\": \"\\u00dcrg\\u00fcp Sivrisi\"}, {\"Compactness\": 0.7132, \"Perimeter\": 1062.967, \"type\": \"\\u00c7er\\u00e7evelik\"}, {\"Compactness\": 0.7093, \"Perimeter\": 1053.775, \"type\": \"\\u00c7er\\u00e7evelik\"}, {\"Compactness\": 0.6539, \"Perimeter\": 1201.495, \"type\": \"\\u00dcrg\\u00fcp Sivrisi\"}, {\"Compactness\": 0.7138, \"Perimeter\": 1033.8, \"type\": \"\\u00c7er\\u00e7evelik\"}, {\"Compactness\": 0.7098, \"Perimeter\": 1059.358, \"type\": \"\\u00c7er\\u00e7evelik\"}, {\"Compactness\": 0.644, \"Perimeter\": 1130.995, \"type\": \"\\u00dcrg\\u00fcp Sivrisi\"}, {\"Compactness\": 0.7294, \"Perimeter\": 1254.371, \"type\": \"\\u00c7er\\u00e7evelik\"}, {\"Compactness\": 0.7552, \"Perimeter\": 918.363, \"type\": \"\\u00c7er\\u00e7evelik\"}, {\"Compactness\": 0.602, \"Perimeter\": 1294.424, \"type\": \"\\u00dcrg\\u00fcp Sivrisi\"}, {\"Compactness\": 0.6568, \"Perimeter\": 1360.61, \"type\": \"\\u00dcrg\\u00fcp Sivrisi\"}, {\"Compactness\": 0.7727, \"Perimeter\": 956.977, \"type\": \"\\u00c7er\\u00e7evelik\"}, {\"Compactness\": 0.614, \"Perimeter\": 1237.638, \"type\": \"\\u00dcrg\\u00fcp Sivrisi\"}, {\"Compactness\": 0.6647, \"Perimeter\": 1244.552, \"type\": \"\\u00dcrg\\u00fcp Sivrisi\"}, {\"Compactness\": 0.7076, \"Perimeter\": 1066.963, \"type\": \"\\u00c7er\\u00e7evelik\"}, {\"Compactness\": 0.7336, \"Perimeter\": 1055.4, \"type\": \"\\u00c7er\\u00e7evelik\"}, {\"Compactness\": 0.816, \"Perimeter\": 910.126, \"type\": \"\\u00c7er\\u00e7evelik\"}, {\"Compactness\": 0.6989, \"Perimeter\": 1102.123, \"type\": \"\\u00c7er\\u00e7evelik\"}, {\"Compactness\": 0.7241, \"Perimeter\": 1059.476, \"type\": \"\\u00c7er\\u00e7evelik\"}, {\"Compactness\": 0.674, \"Perimeter\": 1164.216, \"type\": \"\\u00dcrg\\u00fcp Sivrisi\"}, {\"Compactness\": 0.7412, \"Perimeter\": 1063.246, \"type\": \"\\u00c7er\\u00e7evelik\"}, {\"Compactness\": 0.7364, \"Perimeter\": 1129.057, \"type\": \"\\u00c7er\\u00e7evelik\"}, {\"Compactness\": 0.6734, \"Perimeter\": 1193.77, \"type\": \"\\u00dcrg\\u00fcp Sivrisi\"}, {\"Compactness\": 0.615, \"Perimeter\": 1195.566, \"type\": \"\\u00dcrg\\u00fcp Sivrisi\"}, {\"Compactness\": 0.6351, \"Perimeter\": 1192.305, \"type\": \"\\u00dcrg\\u00fcp Sivrisi\"}, {\"Compactness\": 0.6295, \"Perimeter\": 1070.158, \"type\": \"\\u00dcrg\\u00fcp Sivrisi\"}, {\"Compactness\": 0.7133, \"Perimeter\": 1144.61, \"type\": \"\\u00c7er\\u00e7evelik\"}, {\"Compactness\": 0.5871, \"Perimeter\": 1178.246, \"type\": \"\\u00dcrg\\u00fcp Sivrisi\"}, {\"Compactness\": 0.6615, \"Perimeter\": 1119.805, \"type\": \"\\u00dcrg\\u00fcp Sivrisi\"}, {\"Compactness\": 0.6379, \"Perimeter\": 1022.513, \"type\": \"\\u00dcrg\\u00fcp Sivrisi\"}, {\"Compactness\": 0.7748, \"Perimeter\": 990.116, \"type\": \"\\u00c7er\\u00e7evelik\"}, {\"Compactness\": 0.6787, \"Perimeter\": 1141.487, \"type\": \"\\u00dcrg\\u00fcp Sivrisi\"}, {\"Compactness\": 0.6429, \"Perimeter\": 1196.735, \"type\": \"\\u00dcrg\\u00fcp Sivrisi\"}, {\"Compactness\": 0.674, \"Perimeter\": 1185.141, \"type\": \"\\u00dcrg\\u00fcp Sivrisi\"}, {\"Compactness\": 0.7317, \"Perimeter\": 1193.471, \"type\": \"\\u00c7er\\u00e7evelik\"}, {\"Compactness\": 0.6596, \"Perimeter\": 1211.072, \"type\": \"\\u00dcrg\\u00fcp Sivrisi\"}, {\"Compactness\": 0.6997, \"Perimeter\": 1094.608, \"type\": \"\\u00dcrg\\u00fcp Sivrisi\"}, {\"Compactness\": 0.6695, \"Perimeter\": 895.169, \"type\": \"\\u00dcrg\\u00fcp Sivrisi\"}, {\"Compactness\": 0.762, \"Perimeter\": 1023.404, \"type\": \"\\u00c7er\\u00e7evelik\"}, {\"Compactness\": 0.6301, \"Perimeter\": 1065.426, \"type\": \"\\u00dcrg\\u00fcp Sivrisi\"}, {\"Compactness\": 0.6891, \"Perimeter\": 1229.953, \"type\": \"\\u00dcrg\\u00fcp Sivrisi\"}, {\"Compactness\": 0.7182, \"Perimeter\": 1058.418, \"type\": \"\\u00c7er\\u00e7evelik\"}, {\"Compactness\": 0.7179, \"Perimeter\": 1144.801, \"type\": \"\\u00c7er\\u00e7evelik\"}, {\"Compactness\": 0.6464, \"Perimeter\": 1092.926, \"type\": \"\\u00dcrg\\u00fcp Sivrisi\"}, {\"Compactness\": 0.6788, \"Perimeter\": 1391.888, \"type\": \"\\u00dcrg\\u00fcp Sivrisi\"}, {\"Compactness\": 0.6649, \"Perimeter\": 1279.76, \"type\": \"\\u00dcrg\\u00fcp Sivrisi\"}, {\"Compactness\": 0.7407, \"Perimeter\": 1106.957, \"type\": \"\\u00c7er\\u00e7evelik\"}, {\"Compactness\": 0.7548, \"Perimeter\": 1198.163, \"type\": \"\\u00c7er\\u00e7evelik\"}, {\"Compactness\": 0.7288, \"Perimeter\": 1112.297, \"type\": \"\\u00c7er\\u00e7evelik\"}, {\"Compactness\": 0.7853, \"Perimeter\": 1173.87, \"type\": \"\\u00c7er\\u00e7evelik\"}, {\"Compactness\": 0.7637, \"Perimeter\": 1009.958, \"type\": \"\\u00c7er\\u00e7evelik\"}, {\"Compactness\": 0.7193, \"Perimeter\": 1024.088, \"type\": \"\\u00c7er\\u00e7evelik\"}, {\"Compactness\": 0.6091, \"Perimeter\": 1331.159, \"type\": \"\\u00dcrg\\u00fcp Sivrisi\"}, {\"Compactness\": 0.7025, \"Perimeter\": 1190.488, \"type\": \"\\u00c7er\\u00e7evelik\"}, {\"Compactness\": 0.7241, \"Perimeter\": 973.254, \"type\": \"\\u00c7er\\u00e7evelik\"}, {\"Compactness\": 0.7054, \"Perimeter\": 1053.506, \"type\": \"\\u00c7er\\u00e7evelik\"}, {\"Compactness\": 0.6879, \"Perimeter\": 1242.438, \"type\": \"\\u00dcrg\\u00fcp Sivrisi\"}, {\"Compactness\": 0.6126, \"Perimeter\": 1313.812, \"type\": \"\\u00dcrg\\u00fcp Sivrisi\"}, {\"Compactness\": 0.7507, \"Perimeter\": 1142.386, \"type\": \"\\u00c7er\\u00e7evelik\"}, {\"Compactness\": 0.7532, \"Perimeter\": 1083.207, \"type\": \"\\u00c7er\\u00e7evelik\"}, {\"Compactness\": 0.6329, \"Perimeter\": 1308.444, \"type\": \"\\u00dcrg\\u00fcp Sivrisi\"}, {\"Compactness\": 0.6361, \"Perimeter\": 1333.288, \"type\": \"\\u00dcrg\\u00fcp Sivrisi\"}, {\"Compactness\": 0.6956, \"Perimeter\": 1185.732, \"type\": \"\\u00dcrg\\u00fcp Sivrisi\"}, {\"Compactness\": 0.6363, \"Perimeter\": 1289.908, \"type\": \"\\u00dcrg\\u00fcp Sivrisi\"}, {\"Compactness\": 0.6738, \"Perimeter\": 1133.999, \"type\": \"\\u00dcrg\\u00fcp Sivrisi\"}, {\"Compactness\": 0.7572, \"Perimeter\": 1039.375, \"type\": \"\\u00c7er\\u00e7evelik\"}, {\"Compactness\": 0.6503, \"Perimeter\": 1120.983, \"type\": \"\\u00dcrg\\u00fcp Sivrisi\"}, {\"Compactness\": 0.7432, \"Perimeter\": 1189.412, \"type\": \"\\u00c7er\\u00e7evelik\"}, {\"Compactness\": 0.6501, \"Perimeter\": 1408.886, \"type\": \"\\u00dcrg\\u00fcp Sivrisi\"}, {\"Compactness\": 0.5828, \"Perimeter\": 1139.029, \"type\": \"\\u00dcrg\\u00fcp Sivrisi\"}, {\"Compactness\": 0.7073, \"Perimeter\": 1021.125, \"type\": \"\\u00c7er\\u00e7evelik\"}, {\"Compactness\": 0.6959, \"Perimeter\": 1066.107, \"type\": \"\\u00dcrg\\u00fcp Sivrisi\"}, {\"Compactness\": 0.6767, \"Perimeter\": 1211.951, \"type\": \"\\u00dcrg\\u00fcp Sivrisi\"}, {\"Compactness\": 0.7737, \"Perimeter\": 998.679, \"type\": \"\\u00c7er\\u00e7evelik\"}, {\"Compactness\": 0.7536, \"Perimeter\": 1171.369, \"type\": \"\\u00c7er\\u00e7evelik\"}, {\"Compactness\": 0.607, \"Perimeter\": 1173.574, \"type\": \"\\u00dcrg\\u00fcp Sivrisi\"}, {\"Compactness\": 0.7433, \"Perimeter\": 1180.493, \"type\": \"\\u00c7er\\u00e7evelik\"}, {\"Compactness\": 0.6104, \"Perimeter\": 1145.231, \"type\": \"\\u00dcrg\\u00fcp Sivrisi\"}, {\"Compactness\": 0.7185, \"Perimeter\": 1102.542, \"type\": \"\\u00c7er\\u00e7evelik\"}, {\"Compactness\": 0.7086, \"Perimeter\": 1077.389, \"type\": \"\\u00c7er\\u00e7evelik\"}, {\"Compactness\": 0.7429, \"Perimeter\": 1007.37, \"type\": \"\\u00c7er\\u00e7evelik\"}, {\"Compactness\": 0.7499, \"Perimeter\": 1063.152, \"type\": \"\\u00c7er\\u00e7evelik\"}, {\"Compactness\": 0.6965, \"Perimeter\": 1118.599, \"type\": \"\\u00dcrg\\u00fcp Sivrisi\"}, {\"Compactness\": 0.703, \"Perimeter\": 1086.548, \"type\": \"\\u00c7er\\u00e7evelik\"}, {\"Compactness\": 0.7331, \"Perimeter\": 1290.417, \"type\": \"\\u00c7er\\u00e7evelik\"}, {\"Compactness\": 0.7547, \"Perimeter\": 1192.116, \"type\": \"\\u00c7er\\u00e7evelik\"}, {\"Compactness\": 0.653, \"Perimeter\": 1273.191, \"type\": \"\\u00dcrg\\u00fcp Sivrisi\"}, {\"Compactness\": 0.6782, \"Perimeter\": 1197.405, \"type\": \"\\u00dcrg\\u00fcp Sivrisi\"}, {\"Compactness\": 0.6507, \"Perimeter\": 1145.276, \"type\": \"\\u00dcrg\\u00fcp Sivrisi\"}, {\"Compactness\": 0.7002, \"Perimeter\": 1288.831, \"type\": \"\\u00c7er\\u00e7evelik\"}, {\"Compactness\": 0.6724, \"Perimeter\": 1425.955, \"type\": \"\\u00dcrg\\u00fcp Sivrisi\"}, {\"Compactness\": 0.7628, \"Perimeter\": 1099.384, \"type\": \"\\u00c7er\\u00e7evelik\"}, {\"Compactness\": 0.7096, \"Perimeter\": 1120.096, \"type\": \"\\u00c7er\\u00e7evelik\"}, {\"Compactness\": 0.6929, \"Perimeter\": 1082.987, \"type\": \"\\u00dcrg\\u00fcp Sivrisi\"}, {\"Compactness\": 0.7277, \"Perimeter\": 1054.808, \"type\": \"\\u00c7er\\u00e7evelik\"}, {\"Compactness\": 0.6921, \"Perimeter\": 962.79, \"type\": \"\\u00dcrg\\u00fcp Sivrisi\"}, {\"Compactness\": 0.7028, \"Perimeter\": 1134.31, \"type\": \"\\u00c7er\\u00e7evelik\"}, {\"Compactness\": 0.6141, \"Perimeter\": 1264.041, \"type\": \"\\u00dcrg\\u00fcp Sivrisi\"}, {\"Compactness\": 0.7227, \"Perimeter\": 1021.671, \"type\": \"\\u00c7er\\u00e7evelik\"}, {\"Compactness\": 0.6778, \"Perimeter\": 1102.102, \"type\": \"\\u00dcrg\\u00fcp Sivrisi\"}, {\"Compactness\": 0.7231, \"Perimeter\": 1097.455, \"type\": \"\\u00c7er\\u00e7evelik\"}, {\"Compactness\": 0.7437, \"Perimeter\": 1141.66, \"type\": \"\\u00c7er\\u00e7evelik\"}, {\"Compactness\": 0.7032, \"Perimeter\": 1092.214, \"type\": \"\\u00c7er\\u00e7evelik\"}, {\"Compactness\": 0.74, \"Perimeter\": 1185.85, \"type\": \"\\u00c7er\\u00e7evelik\"}, {\"Compactness\": 0.694, \"Perimeter\": 1060.623, \"type\": \"\\u00dcrg\\u00fcp Sivrisi\"}, {\"Compactness\": 0.7167, \"Perimeter\": 1078.573, \"type\": \"\\u00c7er\\u00e7evelik\"}, {\"Compactness\": 0.6796, \"Perimeter\": 1239.105, \"type\": \"\\u00dcrg\\u00fcp Sivrisi\"}, {\"Compactness\": 0.6175, \"Perimeter\": 1327.267, \"type\": \"\\u00dcrg\\u00fcp Sivrisi\"}, {\"Compactness\": 0.6818, \"Perimeter\": 1101.958, \"type\": \"\\u00dcrg\\u00fcp Sivrisi\"}, {\"Compactness\": 0.6405, \"Perimeter\": 1116.611, \"type\": \"\\u00dcrg\\u00fcp Sivrisi\"}, {\"Compactness\": 0.6468, \"Perimeter\": 1041.587, \"type\": \"\\u00dcrg\\u00fcp Sivrisi\"}, {\"Compactness\": 0.6802, \"Perimeter\": 1082.42, \"type\": \"\\u00dcrg\\u00fcp Sivrisi\"}, {\"Compactness\": 0.6608, \"Perimeter\": 1274.518, \"type\": \"\\u00dcrg\\u00fcp Sivrisi\"}, {\"Compactness\": 0.663, \"Perimeter\": 928.434, \"type\": \"\\u00dcrg\\u00fcp Sivrisi\"}, {\"Compactness\": 0.7018, \"Perimeter\": 1310.269, \"type\": \"\\u00dcrg\\u00fcp Sivrisi\"}, {\"Compactness\": 0.7217, \"Perimeter\": 976.712, \"type\": \"\\u00c7er\\u00e7evelik\"}, {\"Compactness\": 0.7128, \"Perimeter\": 1200.817, \"type\": \"\\u00c7er\\u00e7evelik\"}, {\"Compactness\": 0.7379, \"Perimeter\": 1080.957, \"type\": \"\\u00c7er\\u00e7evelik\"}, {\"Compactness\": 0.7751, \"Perimeter\": 1020.916, \"type\": \"\\u00c7er\\u00e7evelik\"}, {\"Compactness\": 0.7092, \"Perimeter\": 1090.25, \"type\": \"\\u00c7er\\u00e7evelik\"}, {\"Compactness\": 0.6197, \"Perimeter\": 1158.385, \"type\": \"\\u00dcrg\\u00fcp Sivrisi\"}, {\"Compactness\": 0.7803, \"Perimeter\": 1052.557, \"type\": \"\\u00c7er\\u00e7evelik\"}, {\"Compactness\": 0.7021, \"Perimeter\": 1115.483, \"type\": \"\\u00dcrg\\u00fcp Sivrisi\"}, {\"Compactness\": 0.7168, \"Perimeter\": 1144.557, \"type\": \"\\u00c7er\\u00e7evelik\"}, {\"Compactness\": 0.7405, \"Perimeter\": 1253.276, \"type\": \"\\u00c7er\\u00e7evelik\"}, {\"Compactness\": 0.7419, \"Perimeter\": 945.822, \"type\": \"\\u00c7er\\u00e7evelik\"}, {\"Compactness\": 0.7322, \"Perimeter\": 1118.878, \"type\": \"\\u00c7er\\u00e7evelik\"}, {\"Compactness\": 0.7134, \"Perimeter\": 1116.952, \"type\": \"\\u00c7er\\u00e7evelik\"}, {\"Compactness\": 0.7944, \"Perimeter\": 1040.006, \"type\": \"\\u00c7er\\u00e7evelik\"}, {\"Compactness\": 0.7122, \"Perimeter\": 967.372, \"type\": \"\\u00c7er\\u00e7evelik\"}, {\"Compactness\": 0.7357, \"Perimeter\": 1005.691, \"type\": \"\\u00c7er\\u00e7evelik\"}, {\"Compactness\": 0.7533, \"Perimeter\": 1010.427, \"type\": \"\\u00c7er\\u00e7evelik\"}, {\"Compactness\": 0.7579, \"Perimeter\": 1244.68, \"type\": \"\\u00c7er\\u00e7evelik\"}, {\"Compactness\": 0.7475, \"Perimeter\": 1172.735, \"type\": \"\\u00c7er\\u00e7evelik\"}, {\"Compactness\": 0.7392, \"Perimeter\": 1052.625, \"type\": \"\\u00c7er\\u00e7evelik\"}, {\"Compactness\": 0.6154, \"Perimeter\": 1260.711, \"type\": \"\\u00dcrg\\u00fcp Sivrisi\"}, {\"Compactness\": 0.6551, \"Perimeter\": 1051.349, \"type\": \"\\u00dcrg\\u00fcp Sivrisi\"}, {\"Compactness\": 0.7465, \"Perimeter\": 1164.478, \"type\": \"\\u00c7er\\u00e7evelik\"}, {\"Compactness\": 0.6455, \"Perimeter\": 1123.571, \"type\": \"\\u00dcrg\\u00fcp Sivrisi\"}, {\"Compactness\": 0.646, \"Perimeter\": 1417.789, \"type\": \"\\u00dcrg\\u00fcp Sivrisi\"}, {\"Compactness\": 0.7596, \"Perimeter\": 1030.932, \"type\": \"\\u00c7er\\u00e7evelik\"}, {\"Compactness\": 0.6012, \"Perimeter\": 1388.145, \"type\": \"\\u00dcrg\\u00fcp Sivrisi\"}, {\"Compactness\": 0.6535, \"Perimeter\": 1345.16, \"type\": \"\\u00dcrg\\u00fcp Sivrisi\"}, {\"Compactness\": 0.786, \"Perimeter\": 1033.419, \"type\": \"\\u00c7er\\u00e7evelik\"}, {\"Compactness\": 0.7619, \"Perimeter\": 970.276, \"type\": \"\\u00c7er\\u00e7evelik\"}, {\"Compactness\": 0.6794, \"Perimeter\": 1051.861, \"type\": \"\\u00dcrg\\u00fcp Sivrisi\"}, {\"Compactness\": 0.5972, \"Perimeter\": 1189.76, \"type\": \"\\u00dcrg\\u00fcp Sivrisi\"}, {\"Compactness\": 0.7658, \"Perimeter\": 1047.356, \"type\": \"\\u00c7er\\u00e7evelik\"}, {\"Compactness\": 0.7308, \"Perimeter\": 1182.401, \"type\": \"\\u00c7er\\u00e7evelik\"}, {\"Compactness\": 0.7558, \"Perimeter\": 963.479, \"type\": \"\\u00c7er\\u00e7evelik\"}, {\"Compactness\": 0.7492, \"Perimeter\": 1156.064, \"type\": \"\\u00c7er\\u00e7evelik\"}, {\"Compactness\": 0.6892, \"Perimeter\": 1115.537, \"type\": \"\\u00dcrg\\u00fcp Sivrisi\"}, {\"Compactness\": 0.6901, \"Perimeter\": 1033.865, \"type\": \"\\u00dcrg\\u00fcp Sivrisi\"}, {\"Compactness\": 0.679, \"Perimeter\": 1129.177, \"type\": \"\\u00dcrg\\u00fcp Sivrisi\"}, {\"Compactness\": 0.6433, \"Perimeter\": 1084.318, \"type\": \"\\u00dcrg\\u00fcp Sivrisi\"}, {\"Compactness\": 0.666, \"Perimeter\": 1261.524, \"type\": \"\\u00dcrg\\u00fcp Sivrisi\"}, {\"Compactness\": 0.7066, \"Perimeter\": 1283.419, \"type\": \"\\u00dcrg\\u00fcp Sivrisi\"}, {\"Compactness\": 0.7427, \"Perimeter\": 1118.411, \"type\": \"\\u00c7er\\u00e7evelik\"}, {\"Compactness\": 0.5673, \"Perimeter\": 1071.249, \"type\": \"\\u00dcrg\\u00fcp Sivrisi\"}, {\"Compactness\": 0.6961, \"Perimeter\": 1047.339, \"type\": \"\\u00dcrg\\u00fcp Sivrisi\"}, {\"Compactness\": 0.5948, \"Perimeter\": 1400.499, \"type\": \"\\u00dcrg\\u00fcp Sivrisi\"}, {\"Compactness\": 0.7667, \"Perimeter\": 1060.714, \"type\": \"\\u00c7er\\u00e7evelik\"}, {\"Compactness\": 0.6818, \"Perimeter\": 1106.91, \"type\": \"\\u00dcrg\\u00fcp Sivrisi\"}, {\"Compactness\": 0.7208, \"Perimeter\": 1216.593, \"type\": \"\\u00c7er\\u00e7evelik\"}, {\"Compactness\": 0.6593, \"Perimeter\": 1310.48, \"type\": \"\\u00dcrg\\u00fcp Sivrisi\"}, {\"Compactness\": 0.6216, \"Perimeter\": 1279.029, \"type\": \"\\u00dcrg\\u00fcp Sivrisi\"}, {\"Compactness\": 0.7233, \"Perimeter\": 1115.305, \"type\": \"\\u00c7er\\u00e7evelik\"}, {\"Compactness\": 0.6534, \"Perimeter\": 1123.372, \"type\": \"\\u00dcrg\\u00fcp Sivrisi\"}, {\"Compactness\": 0.7692, \"Perimeter\": 1162.973, \"type\": \"\\u00c7er\\u00e7evelik\"}, {\"Compactness\": 0.7755, \"Perimeter\": 988.42, \"type\": \"\\u00c7er\\u00e7evelik\"}, {\"Compactness\": 0.6499, \"Perimeter\": 1138.641, \"type\": \"\\u00dcrg\\u00fcp Sivrisi\"}, {\"Compactness\": 0.7053, \"Perimeter\": 926.686, \"type\": \"\\u00c7er\\u00e7evelik\"}, {\"Compactness\": 0.7172, \"Perimeter\": 1245.963, \"type\": \"\\u00c7er\\u00e7evelik\"}, {\"Compactness\": 0.7449, \"Perimeter\": 967.393, \"type\": \"\\u00c7er\\u00e7evelik\"}, {\"Compactness\": 0.7394, \"Perimeter\": 1140.954, \"type\": \"\\u00c7er\\u00e7evelik\"}, {\"Compactness\": 0.7408, \"Perimeter\": 957.318, \"type\": \"\\u00c7er\\u00e7evelik\"}, {\"Compactness\": 0.7895, \"Perimeter\": 1058.412, \"type\": \"\\u00c7er\\u00e7evelik\"}, {\"Compactness\": 0.7122, \"Perimeter\": 1088.571, \"type\": \"\\u00c7er\\u00e7evelik\"}, {\"Compactness\": 0.7782, \"Perimeter\": 1030.211, \"type\": \"\\u00c7er\\u00e7evelik\"}, {\"Compactness\": 0.715, \"Perimeter\": 1084.755, \"type\": \"\\u00c7er\\u00e7evelik\"}, {\"Compactness\": 0.6945, \"Perimeter\": 936.426, \"type\": \"\\u00dcrg\\u00fcp Sivrisi\"}, {\"Compactness\": 0.7919, \"Perimeter\": 1246.342, \"type\": \"\\u00c7er\\u00e7evelik\"}, {\"Compactness\": 0.6851, \"Perimeter\": 1025.784, \"type\": \"\\u00dcrg\\u00fcp Sivrisi\"}, {\"Compactness\": 0.6586, \"Perimeter\": 1067.744, \"type\": \"\\u00dcrg\\u00fcp Sivrisi\"}, {\"Compactness\": 0.6914, \"Perimeter\": 1118.245, \"type\": \"\\u00dcrg\\u00fcp Sivrisi\"}, {\"Compactness\": 0.6689, \"Perimeter\": 1195.397, \"type\": \"\\u00dcrg\\u00fcp Sivrisi\"}, {\"Compactness\": 0.7196, \"Perimeter\": 1292.529, \"type\": \"\\u00c7er\\u00e7evelik\"}, {\"Compactness\": 0.7533, \"Perimeter\": 928.795, \"type\": \"\\u00c7er\\u00e7evelik\"}, {\"Compactness\": 0.7363, \"Perimeter\": 944.089, \"type\": \"\\u00c7er\\u00e7evelik\"}, {\"Compactness\": 0.8027, \"Perimeter\": 1171.144, \"type\": \"\\u00c7er\\u00e7evelik\"}, {\"Compactness\": 0.6904, \"Perimeter\": 1288.657, \"type\": \"\\u00dcrg\\u00fcp Sivrisi\"}, {\"Compactness\": 0.706, \"Perimeter\": 1295.678, \"type\": \"\\u00c7er\\u00e7evelik\"}, {\"Compactness\": 0.5797, \"Perimeter\": 1256.515, \"type\": \"\\u00dcrg\\u00fcp Sivrisi\"}, {\"Compactness\": 0.7652, \"Perimeter\": 1069.321, \"type\": \"\\u00c7er\\u00e7evelik\"}, {\"Compactness\": 0.7382, \"Perimeter\": 1112.359, \"type\": \"\\u00c7er\\u00e7evelik\"}, {\"Compactness\": 0.7826, \"Perimeter\": 1092.364, \"type\": \"\\u00c7er\\u00e7evelik\"}, {\"Compactness\": 0.6718, \"Perimeter\": 1127.083, \"type\": \"\\u00dcrg\\u00fcp Sivrisi\"}, {\"Compactness\": 0.7719, \"Perimeter\": 1147.192, \"type\": \"\\u00c7er\\u00e7evelik\"}, {\"Compactness\": 0.7232, \"Perimeter\": 1232.224, \"type\": \"\\u00c7er\\u00e7evelik\"}, {\"Compactness\": 0.6514, \"Perimeter\": 914.547, \"type\": \"\\u00dcrg\\u00fcp Sivrisi\"}, {\"Compactness\": 0.6465, \"Perimeter\": 1056.788, \"type\": \"\\u00dcrg\\u00fcp Sivrisi\"}, {\"Compactness\": 0.5921, \"Perimeter\": 1264.182, \"type\": \"\\u00dcrg\\u00fcp Sivrisi\"}, {\"Compactness\": 0.7356, \"Perimeter\": 1149.763, \"type\": \"\\u00c7er\\u00e7evelik\"}, {\"Compactness\": 0.7583, \"Perimeter\": 997.056, \"type\": \"\\u00c7er\\u00e7evelik\"}, {\"Compactness\": 0.7566, \"Perimeter\": 1030.822, \"type\": \"\\u00c7er\\u00e7evelik\"}, {\"Compactness\": 0.714, \"Perimeter\": 1136.564, \"type\": \"\\u00c7er\\u00e7evelik\"}, {\"Compactness\": 0.6386, \"Perimeter\": 1033.415, \"type\": \"\\u00dcrg\\u00fcp Sivrisi\"}, {\"Compactness\": 0.6697, \"Perimeter\": 1275.454, \"type\": \"\\u00dcrg\\u00fcp Sivrisi\"}, {\"Compactness\": 0.7366, \"Perimeter\": 1196.28, \"type\": \"\\u00c7er\\u00e7evelik\"}, {\"Compactness\": 0.785, \"Perimeter\": 1043.526, \"type\": \"\\u00c7er\\u00e7evelik\"}, {\"Compactness\": 0.7439, \"Perimeter\": 1100.4, \"type\": \"\\u00c7er\\u00e7evelik\"}, {\"Compactness\": 0.6856, \"Perimeter\": 1110.857, \"type\": \"\\u00dcrg\\u00fcp Sivrisi\"}, {\"Compactness\": 0.7479, \"Perimeter\": 1094.307, \"type\": \"\\u00c7er\\u00e7evelik\"}, {\"Compactness\": 0.6257, \"Perimeter\": 1263.489, \"type\": \"\\u00dcrg\\u00fcp Sivrisi\"}, {\"Compactness\": 0.7087, \"Perimeter\": 1001.259, \"type\": \"\\u00c7er\\u00e7evelik\"}, {\"Compactness\": 0.6752, \"Perimeter\": 1101.126, \"type\": \"\\u00dcrg\\u00fcp Sivrisi\"}, {\"Compactness\": 0.7473, \"Perimeter\": 1087.62, \"type\": \"\\u00c7er\\u00e7evelik\"}, {\"Compactness\": 0.717, \"Perimeter\": 1199.129, \"type\": \"\\u00c7er\\u00e7evelik\"}, {\"Compactness\": 0.759, \"Perimeter\": 1088.349, \"type\": \"\\u00c7er\\u00e7evelik\"}, {\"Compactness\": 0.6786, \"Perimeter\": 1140.197, \"type\": \"\\u00dcrg\\u00fcp Sivrisi\"}, {\"Compactness\": 0.6859, \"Perimeter\": 1189.632, \"type\": \"\\u00dcrg\\u00fcp Sivrisi\"}, {\"Compactness\": 0.6338, \"Perimeter\": 1175.369, \"type\": \"\\u00dcrg\\u00fcp Sivrisi\"}, {\"Compactness\": 0.6477, \"Perimeter\": 986.473, \"type\": \"\\u00dcrg\\u00fcp Sivrisi\"}, {\"Compactness\": 0.7142, \"Perimeter\": 1151.611, \"type\": \"\\u00c7er\\u00e7evelik\"}, {\"Compactness\": 0.644, \"Perimeter\": 1220.39, \"type\": \"\\u00dcrg\\u00fcp Sivrisi\"}, {\"Compactness\": 0.7804, \"Perimeter\": 1160.847, \"type\": \"\\u00c7er\\u00e7evelik\"}, {\"Compactness\": 0.6852, \"Perimeter\": 1210.715, \"type\": \"\\u00dcrg\\u00fcp Sivrisi\"}, {\"Compactness\": 0.7564, \"Perimeter\": 974.831, \"type\": \"\\u00c7er\\u00e7evelik\"}, {\"Compactness\": 0.7967, \"Perimeter\": 983.199, \"type\": \"\\u00c7er\\u00e7evelik\"}, {\"Compactness\": 0.7675, \"Perimeter\": 931.363, \"type\": \"\\u00c7er\\u00e7evelik\"}, {\"Compactness\": 0.7761, \"Perimeter\": 1139.607, \"type\": \"\\u00c7er\\u00e7evelik\"}, {\"Compactness\": 0.7121, \"Perimeter\": 1191.564, \"type\": \"\\u00c7er\\u00e7evelik\"}, {\"Compactness\": 0.7011, \"Perimeter\": 1164.476, \"type\": \"\\u00dcrg\\u00fcp Sivrisi\"}, {\"Compactness\": 0.8077, \"Perimeter\": 912.152, \"type\": \"\\u00c7er\\u00e7evelik\"}, {\"Compactness\": 0.6443, \"Perimeter\": 1193.41, \"type\": \"\\u00dcrg\\u00fcp Sivrisi\"}, {\"Compactness\": 0.6165, \"Perimeter\": 1388.12, \"type\": \"\\u00dcrg\\u00fcp Sivrisi\"}, {\"Compactness\": 0.7894, \"Perimeter\": 1103.068, \"type\": \"\\u00c7er\\u00e7evelik\"}, {\"Compactness\": 0.7457, \"Perimeter\": 1000.166, \"type\": \"\\u00c7er\\u00e7evelik\"}, {\"Compactness\": 0.6841, \"Perimeter\": 1271.363, \"type\": \"\\u00dcrg\\u00fcp Sivrisi\"}, {\"Compactness\": 0.7813, \"Perimeter\": 1156.974, \"type\": \"\\u00c7er\\u00e7evelik\"}, {\"Compactness\": 0.7321, \"Perimeter\": 1034.569, \"type\": \"\\u00c7er\\u00e7evelik\"}, {\"Compactness\": 0.5785, \"Perimeter\": 1209.036, \"type\": \"\\u00dcrg\\u00fcp Sivrisi\"}, {\"Compactness\": 0.6942, \"Perimeter\": 1103.371, \"type\": \"\\u00dcrg\\u00fcp Sivrisi\"}, {\"Compactness\": 0.65, \"Perimeter\": 1120.092, \"type\": \"\\u00dcrg\\u00fcp Sivrisi\"}, {\"Compactness\": 0.6175, \"Perimeter\": 1175.506, \"type\": \"\\u00dcrg\\u00fcp Sivrisi\"}, {\"Compactness\": 0.6559, \"Perimeter\": 1196.584, \"type\": \"\\u00dcrg\\u00fcp Sivrisi\"}, {\"Compactness\": 0.7614, \"Perimeter\": 1000.448, \"type\": \"\\u00c7er\\u00e7evelik\"}, {\"Compactness\": 0.7006, \"Perimeter\": 964.351, \"type\": \"\\u00c7er\\u00e7evelik\"}, {\"Compactness\": 0.6296, \"Perimeter\": 1170.052, \"type\": \"\\u00dcrg\\u00fcp Sivrisi\"}, {\"Compactness\": 0.7442, \"Perimeter\": 975.1, \"type\": \"\\u00c7er\\u00e7evelik\"}, {\"Compactness\": 0.7776, \"Perimeter\": 999.949, \"type\": \"\\u00c7er\\u00e7evelik\"}, {\"Compactness\": 0.6192, \"Perimeter\": 1439.456, \"type\": \"\\u00dcrg\\u00fcp Sivrisi\"}, {\"Compactness\": 0.6737, \"Perimeter\": 1204.98, \"type\": \"\\u00dcrg\\u00fcp Sivrisi\"}, {\"Compactness\": 0.6768, \"Perimeter\": 1238.452, \"type\": \"\\u00dcrg\\u00fcp Sivrisi\"}, {\"Compactness\": 0.652, \"Perimeter\": 1206.107, \"type\": \"\\u00dcrg\\u00fcp Sivrisi\"}, {\"Compactness\": 0.6591, \"Perimeter\": 1370.865, \"type\": \"\\u00dcrg\\u00fcp Sivrisi\"}, {\"Compactness\": 0.7676, \"Perimeter\": 1172.49, \"type\": \"\\u00c7er\\u00e7evelik\"}, {\"Compactness\": 0.7493, \"Perimeter\": 1167.775, \"type\": \"\\u00c7er\\u00e7evelik\"}, {\"Compactness\": 0.6457, \"Perimeter\": 1490.954, \"type\": \"\\u00dcrg\\u00fcp Sivrisi\"}, {\"Compactness\": 0.7299, \"Perimeter\": 1008.42, \"type\": \"\\u00c7er\\u00e7evelik\"}, {\"Compactness\": 0.6404, \"Perimeter\": 1293.859, \"type\": \"\\u00dcrg\\u00fcp Sivrisi\"}, {\"Compactness\": 0.7361, \"Perimeter\": 1237.338, \"type\": \"\\u00c7er\\u00e7evelik\"}, {\"Compactness\": 0.62, \"Perimeter\": 1156.906, \"type\": \"\\u00dcrg\\u00fcp Sivrisi\"}, {\"Compactness\": 0.6774, \"Perimeter\": 1146.431, \"type\": \"\\u00dcrg\\u00fcp Sivrisi\"}, {\"Compactness\": 0.6763, \"Perimeter\": 1091.719, \"type\": \"\\u00dcrg\\u00fcp Sivrisi\"}, {\"Compactness\": 0.721, \"Perimeter\": 1146.835, \"type\": \"\\u00c7er\\u00e7evelik\"}, {\"Compactness\": 0.6601, \"Perimeter\": 1037.464, \"type\": \"\\u00dcrg\\u00fcp Sivrisi\"}, {\"Compactness\": 0.7102, \"Perimeter\": 1206.725, \"type\": \"\\u00c7er\\u00e7evelik\"}, {\"Compactness\": 0.7501, \"Perimeter\": 1206.819, \"type\": \"\\u00c7er\\u00e7evelik\"}, {\"Compactness\": 0.6162, \"Perimeter\": 1251.501, \"type\": \"\\u00dcrg\\u00fcp Sivrisi\"}, {\"Compactness\": 0.7388, \"Perimeter\": 1179.934, \"type\": \"\\u00c7er\\u00e7evelik\"}, {\"Compactness\": 0.7369, \"Perimeter\": 1081.043, \"type\": \"\\u00c7er\\u00e7evelik\"}, {\"Compactness\": 0.7222, \"Perimeter\": 1076.322, \"type\": \"\\u00c7er\\u00e7evelik\"}, {\"Compactness\": 0.6642, \"Perimeter\": 1237.479, \"type\": \"\\u00dcrg\\u00fcp Sivrisi\"}, {\"Compactness\": 0.6289, \"Perimeter\": 1209.651, \"type\": \"\\u00dcrg\\u00fcp Sivrisi\"}, {\"Compactness\": 0.7188, \"Perimeter\": 1053.34, \"type\": \"\\u00c7er\\u00e7evelik\"}, {\"Compactness\": 0.6512, \"Perimeter\": 1284.1, \"type\": \"\\u00dcrg\\u00fcp Sivrisi\"}, {\"Compactness\": 0.6652, \"Perimeter\": 1293.379, \"type\": \"\\u00dcrg\\u00fcp Sivrisi\"}, {\"Compactness\": 0.6792, \"Perimeter\": 1134.445, \"type\": \"\\u00dcrg\\u00fcp Sivrisi\"}, {\"Compactness\": 0.7107, \"Perimeter\": 969.488, \"type\": \"\\u00c7er\\u00e7evelik\"}, {\"Compactness\": 0.7039, \"Perimeter\": 1046.42, \"type\": \"\\u00dcrg\\u00fcp Sivrisi\"}, {\"Compactness\": 0.7134, \"Perimeter\": 984.099, \"type\": \"\\u00c7er\\u00e7evelik\"}, {\"Compactness\": 0.7289, \"Perimeter\": 989.755, \"type\": \"\\u00c7er\\u00e7evelik\"}, {\"Compactness\": 0.6803, \"Perimeter\": 1267.886, \"type\": \"\\u00dcrg\\u00fcp Sivrisi\"}, {\"Compactness\": 0.7353, \"Perimeter\": 1041.227, \"type\": \"\\u00c7er\\u00e7evelik\"}, {\"Compactness\": 0.7737, \"Perimeter\": 1076.597, \"type\": \"\\u00c7er\\u00e7evelik\"}, {\"Compactness\": 0.755, \"Perimeter\": 971.85, \"type\": \"\\u00c7er\\u00e7evelik\"}, {\"Compactness\": 0.6425, \"Perimeter\": 1190.232, \"type\": \"\\u00dcrg\\u00fcp Sivrisi\"}, {\"Compactness\": 0.726, \"Perimeter\": 1222.611, \"type\": \"\\u00c7er\\u00e7evelik\"}, {\"Compactness\": 0.6182, \"Perimeter\": 1183.688, \"type\": \"\\u00dcrg\\u00fcp Sivrisi\"}, {\"Compactness\": 0.7644, \"Perimeter\": 1067.604, \"type\": \"\\u00c7er\\u00e7evelik\"}, {\"Compactness\": 0.6068, \"Perimeter\": 1337.635, \"type\": \"\\u00dcrg\\u00fcp Sivrisi\"}, {\"Compactness\": 0.7386, \"Perimeter\": 1160.802, \"type\": \"\\u00c7er\\u00e7evelik\"}, {\"Compactness\": 0.7958, \"Perimeter\": 1223.292, \"type\": \"\\u00c7er\\u00e7evelik\"}, {\"Compactness\": 0.7975, \"Perimeter\": 1016.491, \"type\": \"\\u00c7er\\u00e7evelik\"}, {\"Compactness\": 0.703, \"Perimeter\": 1258.45, \"type\": \"\\u00dcrg\\u00fcp Sivrisi\"}, {\"Compactness\": 0.6205, \"Perimeter\": 1244.185, \"type\": \"\\u00dcrg\\u00fcp Sivrisi\"}, {\"Compactness\": 0.6458, \"Perimeter\": 1211.528, \"type\": \"\\u00dcrg\\u00fcp Sivrisi\"}, {\"Compactness\": 0.7778, \"Perimeter\": 1010.247, \"type\": \"\\u00c7er\\u00e7evelik\"}, {\"Compactness\": 0.7073, \"Perimeter\": 1070.401, \"type\": \"\\u00c7er\\u00e7evelik\"}, {\"Compactness\": 0.7199, \"Perimeter\": 1115.246, \"type\": \"\\u00c7er\\u00e7evelik\"}, {\"Compactness\": 0.7654, \"Perimeter\": 1013.243, \"type\": \"\\u00c7er\\u00e7evelik\"}, {\"Compactness\": 0.7536, \"Perimeter\": 1062.283, \"type\": \"\\u00c7er\\u00e7evelik\"}, {\"Compactness\": 0.6878, \"Perimeter\": 1129.585, \"type\": \"\\u00dcrg\\u00fcp Sivrisi\"}, {\"Compactness\": 0.6845, \"Perimeter\": 1318.775, \"type\": \"\\u00dcrg\\u00fcp Sivrisi\"}, {\"Compactness\": 0.6994, \"Perimeter\": 1064.746, \"type\": \"\\u00c7er\\u00e7evelik\"}, {\"Compactness\": 0.5704, \"Perimeter\": 1037.748, \"type\": \"\\u00dcrg\\u00fcp Sivrisi\"}, {\"Compactness\": 0.6653, \"Perimeter\": 1066.605, \"type\": \"\\u00dcrg\\u00fcp Sivrisi\"}, {\"Compactness\": 0.7047, \"Perimeter\": 1115.686, \"type\": \"\\u00c7er\\u00e7evelik\"}, {\"Compactness\": 0.7572, \"Perimeter\": 1020.99, \"type\": \"\\u00c7er\\u00e7evelik\"}, {\"Compactness\": 0.5794, \"Perimeter\": 1267.162, \"type\": \"\\u00dcrg\\u00fcp Sivrisi\"}, {\"Compactness\": 0.5918, \"Perimeter\": 1443.428, \"type\": \"\\u00dcrg\\u00fcp Sivrisi\"}, {\"Compactness\": 0.6434, \"Perimeter\": 1022.811, \"type\": \"\\u00dcrg\\u00fcp Sivrisi\"}, {\"Compactness\": 0.8009, \"Perimeter\": 959.319, \"type\": \"\\u00c7er\\u00e7evelik\"}, {\"Compactness\": 0.6404, \"Perimeter\": 1022.444, \"type\": \"\\u00dcrg\\u00fcp Sivrisi\"}, {\"Compactness\": 0.7477, \"Perimeter\": 984.962, \"type\": \"\\u00c7er\\u00e7evelik\"}, {\"Compactness\": 0.7291, \"Perimeter\": 1242.015, \"type\": \"\\u00c7er\\u00e7evelik\"}, {\"Compactness\": 0.6465, \"Perimeter\": 1141.584, \"type\": \"\\u00dcrg\\u00fcp Sivrisi\"}, {\"Compactness\": 0.7028, \"Perimeter\": 1145.799, \"type\": \"\\u00c7er\\u00e7evelik\"}, {\"Compactness\": 0.7212, \"Perimeter\": 1000.483, \"type\": \"\\u00c7er\\u00e7evelik\"}, {\"Compactness\": 0.6269, \"Perimeter\": 1430.169, \"type\": \"\\u00dcrg\\u00fcp Sivrisi\"}, {\"Compactness\": 0.6536, \"Perimeter\": 1165.571, \"type\": \"\\u00dcrg\\u00fcp Sivrisi\"}, {\"Compactness\": 0.7347, \"Perimeter\": 989.324, \"type\": \"\\u00c7er\\u00e7evelik\"}, {\"Compactness\": 0.6545, \"Perimeter\": 1105.963, \"type\": \"\\u00dcrg\\u00fcp Sivrisi\"}, {\"Compactness\": 0.7414, \"Perimeter\": 1172.477, \"type\": \"\\u00c7er\\u00e7evelik\"}, {\"Compactness\": 0.6441, \"Perimeter\": 1175.208, \"type\": \"\\u00dcrg\\u00fcp Sivrisi\"}, {\"Compactness\": 0.6845, \"Perimeter\": 1326.818, \"type\": \"\\u00dcrg\\u00fcp Sivrisi\"}, {\"Compactness\": 0.7979, \"Perimeter\": 946.484, \"type\": \"\\u00c7er\\u00e7evelik\"}, {\"Compactness\": 0.6171, \"Perimeter\": 1143.769, \"type\": \"\\u00dcrg\\u00fcp Sivrisi\"}, {\"Compactness\": 0.6877, \"Perimeter\": 1232.353, \"type\": \"\\u00dcrg\\u00fcp Sivrisi\"}, {\"Compactness\": 0.7103, \"Perimeter\": 1158.544, \"type\": \"\\u00c7er\\u00e7evelik\"}, {\"Compactness\": 0.7165, \"Perimeter\": 1037.539, \"type\": \"\\u00c7er\\u00e7evelik\"}, {\"Compactness\": 0.6573, \"Perimeter\": 1265.122, \"type\": \"\\u00dcrg\\u00fcp Sivrisi\"}, {\"Compactness\": 0.7139, \"Perimeter\": 1003.578, \"type\": \"\\u00c7er\\u00e7evelik\"}, {\"Compactness\": 0.6641, \"Perimeter\": 1314.138, \"type\": \"\\u00dcrg\\u00fcp Sivrisi\"}, {\"Compactness\": 0.7712, \"Perimeter\": 1115.847, \"type\": \"\\u00c7er\\u00e7evelik\"}, {\"Compactness\": 0.7205, \"Perimeter\": 1076.017, \"type\": \"\\u00c7er\\u00e7evelik\"}, {\"Compactness\": 0.7307, \"Perimeter\": 1192.994, \"type\": \"\\u00c7er\\u00e7evelik\"}, {\"Compactness\": 0.7653, \"Perimeter\": 952.263, \"type\": \"\\u00c7er\\u00e7evelik\"}, {\"Compactness\": 0.6495, \"Perimeter\": 1137.139, \"type\": \"\\u00dcrg\\u00fcp Sivrisi\"}, {\"Compactness\": 0.6968, \"Perimeter\": 997.479, \"type\": \"\\u00dcrg\\u00fcp Sivrisi\"}, {\"Compactness\": 0.7346, \"Perimeter\": 1079.812, \"type\": \"\\u00c7er\\u00e7evelik\"}, {\"Compactness\": 0.7659, \"Perimeter\": 1109.604, \"type\": \"\\u00c7er\\u00e7evelik\"}, {\"Compactness\": 0.7257, \"Perimeter\": 1146.008, \"type\": \"\\u00c7er\\u00e7evelik\"}, {\"Compactness\": 0.7337, \"Perimeter\": 1078.229, \"type\": \"\\u00c7er\\u00e7evelik\"}, {\"Compactness\": 0.7079, \"Perimeter\": 1089.115, \"type\": \"\\u00c7er\\u00e7evelik\"}, {\"Compactness\": 0.6475, \"Perimeter\": 1059.862, \"type\": \"\\u00dcrg\\u00fcp Sivrisi\"}, {\"Compactness\": 0.7612, \"Perimeter\": 1159.584, \"type\": \"\\u00c7er\\u00e7evelik\"}, {\"Compactness\": 0.7253, \"Perimeter\": 1098.835, \"type\": \"\\u00c7er\\u00e7evelik\"}, {\"Compactness\": 0.6521, \"Perimeter\": 1331.597, \"type\": \"\\u00dcrg\\u00fcp Sivrisi\"}, {\"Compactness\": 0.7853, \"Perimeter\": 1125.883, \"type\": \"\\u00c7er\\u00e7evelik\"}, {\"Compactness\": 0.7465, \"Perimeter\": 1069.733, \"type\": \"\\u00c7er\\u00e7evelik\"}, {\"Compactness\": 0.705, \"Perimeter\": 1033.25, \"type\": \"\\u00c7er\\u00e7evelik\"}, {\"Compactness\": 0.6462, \"Perimeter\": 1361.128, \"type\": \"\\u00dcrg\\u00fcp Sivrisi\"}, {\"Compactness\": 0.7722, \"Perimeter\": 1148.025, \"type\": \"\\u00c7er\\u00e7evelik\"}, {\"Compactness\": 0.7169, \"Perimeter\": 1130.494, \"type\": \"\\u00c7er\\u00e7evelik\"}, {\"Compactness\": 0.7044, \"Perimeter\": 985.763, \"type\": \"\\u00c7er\\u00e7evelik\"}, {\"Compactness\": 0.6352, \"Perimeter\": 1241.548, \"type\": \"\\u00dcrg\\u00fcp Sivrisi\"}, {\"Compactness\": 0.6939, \"Perimeter\": 1101.123, \"type\": \"\\u00dcrg\\u00fcp Sivrisi\"}, {\"Compactness\": 0.6284, \"Perimeter\": 1022.36, \"type\": \"\\u00dcrg\\u00fcp Sivrisi\"}, {\"Compactness\": 0.668, \"Perimeter\": 1240.607, \"type\": \"\\u00dcrg\\u00fcp Sivrisi\"}, {\"Compactness\": 0.7293, \"Perimeter\": 1156.115, \"type\": \"\\u00c7er\\u00e7evelik\"}, {\"Compactness\": 0.6495, \"Perimeter\": 1285.977, \"type\": \"\\u00dcrg\\u00fcp Sivrisi\"}, {\"Compactness\": 0.6843, \"Perimeter\": 1192.182, \"type\": \"\\u00dcrg\\u00fcp Sivrisi\"}, {\"Compactness\": 0.7454, \"Perimeter\": 1124.358, \"type\": \"\\u00c7er\\u00e7evelik\"}, {\"Compactness\": 0.7681, \"Perimeter\": 1006.757, \"type\": \"\\u00c7er\\u00e7evelik\"}, {\"Compactness\": 0.7087, \"Perimeter\": 973.474, \"type\": \"\\u00c7er\\u00e7evelik\"}, {\"Compactness\": 0.6161, \"Perimeter\": 1110.824, \"type\": \"\\u00dcrg\\u00fcp Sivrisi\"}, {\"Compactness\": 0.6351, \"Perimeter\": 1305.855, \"type\": \"\\u00dcrg\\u00fcp Sivrisi\"}, {\"Compactness\": 0.6513, \"Perimeter\": 1329.655, \"type\": \"\\u00dcrg\\u00fcp Sivrisi\"}, {\"Compactness\": 0.6928, \"Perimeter\": 1048.514, \"type\": \"\\u00dcrg\\u00fcp Sivrisi\"}, {\"Compactness\": 0.7734, \"Perimeter\": 1088.565, \"type\": \"\\u00c7er\\u00e7evelik\"}, {\"Compactness\": 0.6616, \"Perimeter\": 1091.814, \"type\": \"\\u00dcrg\\u00fcp Sivrisi\"}, {\"Compactness\": 0.7272, \"Perimeter\": 1006.806, \"type\": \"\\u00c7er\\u00e7evelik\"}, {\"Compactness\": 0.6643, \"Perimeter\": 926.826, \"type\": \"\\u00dcrg\\u00fcp Sivrisi\"}, {\"Compactness\": 0.7346, \"Perimeter\": 984.774, \"type\": \"\\u00c7er\\u00e7evelik\"}, {\"Compactness\": 0.7207, \"Perimeter\": 1168.739, \"type\": \"\\u00c7er\\u00e7evelik\"}, {\"Compactness\": 0.7134, \"Perimeter\": 1092.939, \"type\": \"\\u00c7er\\u00e7evelik\"}, {\"Compactness\": 0.6853, \"Perimeter\": 1192.175, \"type\": \"\\u00c7er\\u00e7evelik\"}, {\"Compactness\": 0.6834, \"Perimeter\": 1086.947, \"type\": \"\\u00dcrg\\u00fcp Sivrisi\"}, {\"Compactness\": 0.7743, \"Perimeter\": 1212.461, \"type\": \"\\u00c7er\\u00e7evelik\"}, {\"Compactness\": 0.631, \"Perimeter\": 1222.544, \"type\": \"\\u00dcrg\\u00fcp Sivrisi\"}, {\"Compactness\": 0.7515, \"Perimeter\": 1054.015, \"type\": \"\\u00c7er\\u00e7evelik\"}, {\"Compactness\": 0.6804, \"Perimeter\": 1136.143, \"type\": \"\\u00dcrg\\u00fcp Sivrisi\"}, {\"Compactness\": 0.6406, \"Perimeter\": 1195.616, \"type\": \"\\u00dcrg\\u00fcp Sivrisi\"}, {\"Compactness\": 0.7508, \"Perimeter\": 1153.009, \"type\": \"\\u00c7er\\u00e7evelik\"}, {\"Compactness\": 0.7497, \"Perimeter\": 1079.334, \"type\": \"\\u00c7er\\u00e7evelik\"}, {\"Compactness\": 0.6739, \"Perimeter\": 1337.154, \"type\": \"\\u00dcrg\\u00fcp Sivrisi\"}, {\"Compactness\": 0.6375, \"Perimeter\": 1195.483, \"type\": \"\\u00dcrg\\u00fcp Sivrisi\"}, {\"Compactness\": 0.7221, \"Perimeter\": 1129.16, \"type\": \"\\u00c7er\\u00e7evelik\"}, {\"Compactness\": 0.7049, \"Perimeter\": 1092.085, \"type\": \"\\u00dcrg\\u00fcp Sivrisi\"}, {\"Compactness\": 0.6477, \"Perimeter\": 1020.686, \"type\": \"\\u00dcrg\\u00fcp Sivrisi\"}, {\"Compactness\": 0.7253, \"Perimeter\": 1065.98, \"type\": \"\\u00c7er\\u00e7evelik\"}, {\"Compactness\": 0.7793, \"Perimeter\": 1062.431, \"type\": \"\\u00c7er\\u00e7evelik\"}, {\"Compactness\": 0.6385, \"Perimeter\": 1275.788, \"type\": \"\\u00dcrg\\u00fcp Sivrisi\"}, {\"Compactness\": 0.652, \"Perimeter\": 1302.85, \"type\": \"\\u00dcrg\\u00fcp Sivrisi\"}, {\"Compactness\": 0.7349, \"Perimeter\": 1215.135, \"type\": \"\\u00c7er\\u00e7evelik\"}, {\"Compactness\": 0.6677, \"Perimeter\": 1028.115, \"type\": \"\\u00dcrg\\u00fcp Sivrisi\"}, {\"Compactness\": 0.7537, \"Perimeter\": 1117.917, \"type\": \"\\u00c7er\\u00e7evelik\"}, {\"Compactness\": 0.7202, \"Perimeter\": 986.37, \"type\": \"\\u00c7er\\u00e7evelik\"}, {\"Compactness\": 0.7216, \"Perimeter\": 1021.57, \"type\": \"\\u00c7er\\u00e7evelik\"}, {\"Compactness\": 0.6665, \"Perimeter\": 1071.325, \"type\": \"\\u00dcrg\\u00fcp Sivrisi\"}, {\"Compactness\": 0.6828, \"Perimeter\": 1203.872, \"type\": \"\\u00dcrg\\u00fcp Sivrisi\"}, {\"Compactness\": 0.6161, \"Perimeter\": 1136.241, \"type\": \"\\u00dcrg\\u00fcp Sivrisi\"}, {\"Compactness\": 0.7451, \"Perimeter\": 1272.418, \"type\": \"\\u00c7er\\u00e7evelik\"}, {\"Compactness\": 0.767, \"Perimeter\": 1022.204, \"type\": \"\\u00c7er\\u00e7evelik\"}, {\"Compactness\": 0.6514, \"Perimeter\": 1107.544, \"type\": \"\\u00dcrg\\u00fcp Sivrisi\"}, {\"Compactness\": 0.6301, \"Perimeter\": 1192.884, \"type\": \"\\u00dcrg\\u00fcp Sivrisi\"}, {\"Compactness\": 0.7825, \"Perimeter\": 1167.109, \"type\": \"\\u00c7er\\u00e7evelik\"}, {\"Compactness\": 0.6621, \"Perimeter\": 1220.467, \"type\": \"\\u00dcrg\\u00fcp Sivrisi\"}, {\"Compactness\": 0.773, \"Perimeter\": 1038.754, \"type\": \"\\u00c7er\\u00e7evelik\"}, {\"Compactness\": 0.7001, \"Perimeter\": 1163.361, \"type\": \"\\u00dcrg\\u00fcp Sivrisi\"}, {\"Compactness\": 0.7292, \"Perimeter\": 1238.979, \"type\": \"\\u00c7er\\u00e7evelik\"}, {\"Compactness\": 0.7783, \"Perimeter\": 1239.755, \"type\": \"\\u00c7er\\u00e7evelik\"}, {\"Compactness\": 0.7419, \"Perimeter\": 1125.228, \"type\": \"\\u00c7er\\u00e7evelik\"}, {\"Compactness\": 0.7219, \"Perimeter\": 1198.67, \"type\": \"\\u00c7er\\u00e7evelik\"}, {\"Compactness\": 0.6409, \"Perimeter\": 1143.323, \"type\": \"\\u00dcrg\\u00fcp Sivrisi\"}, {\"Compactness\": 0.6218, \"Perimeter\": 1208.614, \"type\": \"\\u00dcrg\\u00fcp Sivrisi\"}, {\"Compactness\": 0.6588, \"Perimeter\": 1191.6, \"type\": \"\\u00dcrg\\u00fcp Sivrisi\"}, {\"Compactness\": 0.7435, \"Perimeter\": 1025.531, \"type\": \"\\u00c7er\\u00e7evelik\"}, {\"Compactness\": 0.7216, \"Perimeter\": 1142.898, \"type\": \"\\u00c7er\\u00e7evelik\"}, {\"Compactness\": 0.6874, \"Perimeter\": 1136.496, \"type\": \"\\u00dcrg\\u00fcp Sivrisi\"}, {\"Compactness\": 0.7242, \"Perimeter\": 1172.8, \"type\": \"\\u00c7er\\u00e7evelik\"}, {\"Compactness\": 0.7884, \"Perimeter\": 936.716, \"type\": \"\\u00c7er\\u00e7evelik\"}, {\"Compactness\": 0.766, \"Perimeter\": 1120.902, \"type\": \"\\u00c7er\\u00e7evelik\"}, {\"Compactness\": 0.6449, \"Perimeter\": 1168.422, \"type\": \"\\u00dcrg\\u00fcp Sivrisi\"}, {\"Compactness\": 0.7233, \"Perimeter\": 1093.844, \"type\": \"\\u00c7er\\u00e7evelik\"}, {\"Compactness\": 0.7857, \"Perimeter\": 1018.708, \"type\": \"\\u00c7er\\u00e7evelik\"}, {\"Compactness\": 0.6433, \"Perimeter\": 1169.906, \"type\": \"\\u00dcrg\\u00fcp Sivrisi\"}, {\"Compactness\": 0.722, \"Perimeter\": 1248.727, \"type\": \"\\u00c7er\\u00e7evelik\"}, {\"Compactness\": 0.7359, \"Perimeter\": 1241.001, \"type\": \"\\u00c7er\\u00e7evelik\"}, {\"Compactness\": 0.7414, \"Perimeter\": 1020.072, \"type\": \"\\u00c7er\\u00e7evelik\"}, {\"Compactness\": 0.7702, \"Perimeter\": 1015.746, \"type\": \"\\u00c7er\\u00e7evelik\"}, {\"Compactness\": 0.6996, \"Perimeter\": 1086.452, \"type\": \"\\u00c7er\\u00e7evelik\"}, {\"Compactness\": 0.7816, \"Perimeter\": 963.377, \"type\": \"\\u00c7er\\u00e7evelik\"}, {\"Compactness\": 0.687, \"Perimeter\": 1086.392, \"type\": \"\\u00dcrg\\u00fcp Sivrisi\"}, {\"Compactness\": 0.6909, \"Perimeter\": 1218.849, \"type\": \"\\u00dcrg\\u00fcp Sivrisi\"}, {\"Compactness\": 0.6955, \"Perimeter\": 1114.002, \"type\": \"\\u00dcrg\\u00fcp Sivrisi\"}, {\"Compactness\": 0.6006, \"Perimeter\": 1419.753, \"type\": \"\\u00dcrg\\u00fcp Sivrisi\"}, {\"Compactness\": 0.6836, \"Perimeter\": 1129.938, \"type\": \"\\u00dcrg\\u00fcp Sivrisi\"}, {\"Compactness\": 0.6815, \"Perimeter\": 1247.961, \"type\": \"\\u00dcrg\\u00fcp Sivrisi\"}, {\"Compactness\": 0.6302, \"Perimeter\": 1125.731, \"type\": \"\\u00dcrg\\u00fcp Sivrisi\"}, {\"Compactness\": 0.7541, \"Perimeter\": 1124.789, \"type\": \"\\u00c7er\\u00e7evelik\"}, {\"Compactness\": 0.6309, \"Perimeter\": 1244.967, \"type\": \"\\u00dcrg\\u00fcp Sivrisi\"}, {\"Compactness\": 0.7435, \"Perimeter\": 1039.588, \"type\": \"\\u00c7er\\u00e7evelik\"}, {\"Compactness\": 0.6078, \"Perimeter\": 1364.963, \"type\": \"\\u00dcrg\\u00fcp Sivrisi\"}, {\"Compactness\": 0.6606, \"Perimeter\": 1032.564, \"type\": \"\\u00dcrg\\u00fcp Sivrisi\"}, {\"Compactness\": 0.7157, \"Perimeter\": 1156.593, \"type\": \"\\u00c7er\\u00e7evelik\"}, {\"Compactness\": 0.7435, \"Perimeter\": 1074.629, \"type\": \"\\u00c7er\\u00e7evelik\"}, {\"Compactness\": 0.6815, \"Perimeter\": 1079.889, \"type\": \"\\u00dcrg\\u00fcp Sivrisi\"}, {\"Compactness\": 0.5976, \"Perimeter\": 1201.859, \"type\": \"\\u00dcrg\\u00fcp Sivrisi\"}, {\"Compactness\": 0.6463, \"Perimeter\": 1281.503, \"type\": \"\\u00dcrg\\u00fcp Sivrisi\"}, {\"Compactness\": 0.7182, \"Perimeter\": 1139.639, \"type\": \"\\u00c7er\\u00e7evelik\"}, {\"Compactness\": 0.6799, \"Perimeter\": 1021.86, \"type\": \"\\u00dcrg\\u00fcp Sivrisi\"}, {\"Compactness\": 0.6591, \"Perimeter\": 938.006, \"type\": \"\\u00dcrg\\u00fcp Sivrisi\"}, {\"Compactness\": 0.6158, \"Perimeter\": 1223.373, \"type\": \"\\u00dcrg\\u00fcp Sivrisi\"}, {\"Compactness\": 0.7458, \"Perimeter\": 992.103, \"type\": \"\\u00c7er\\u00e7evelik\"}, {\"Compactness\": 0.7488, \"Perimeter\": 1235.253, \"type\": \"\\u00c7er\\u00e7evelik\"}, {\"Compactness\": 0.7107, \"Perimeter\": 1060.149, \"type\": \"\\u00c7er\\u00e7evelik\"}, {\"Compactness\": 0.6273, \"Perimeter\": 1263.079, \"type\": \"\\u00dcrg\\u00fcp Sivrisi\"}, {\"Compactness\": 0.7076, \"Perimeter\": 1078.565, \"type\": \"\\u00c7er\\u00e7evelik\"}, {\"Compactness\": 0.6919, \"Perimeter\": 1063.55, \"type\": \"\\u00dcrg\\u00fcp Sivrisi\"}, {\"Compactness\": 0.7827, \"Perimeter\": 996.385, \"type\": \"\\u00c7er\\u00e7evelik\"}, {\"Compactness\": 0.7116, \"Perimeter\": 1240.471, \"type\": \"\\u00c7er\\u00e7evelik\"}], \"data-d9ba41912a0a08518bd346583a53f377\": [{\"Compactness\": 0.6693, \"Perimeter\": 991.063, \"type\": \"\\u00dcrg\\u00fcp Sivrisi\"}, {\"Compactness\": 0.6264, \"Perimeter\": 1366.056, \"type\": \"\\u00dcrg\\u00fcp Sivrisi\"}, {\"Compactness\": 0.7348, \"Perimeter\": 1043.688, \"type\": \"\\u00c7er\\u00e7evelik\"}, {\"Compactness\": 0.6834, \"Perimeter\": 975.628, \"type\": \"\\u00dcrg\\u00fcp Sivrisi\"}, {\"Compactness\": 0.6916, \"Perimeter\": 1200.894, \"type\": \"\\u00dcrg\\u00fcp Sivrisi\"}, {\"Compactness\": 0.7199, \"Perimeter\": 1206.002, \"type\": \"\\u00c7er\\u00e7evelik\"}, {\"Compactness\": 0.6532, \"Perimeter\": 1359.81, \"type\": \"\\u00dcrg\\u00fcp Sivrisi\"}, {\"Compactness\": 0.7475, \"Perimeter\": 1126.533, \"type\": \"\\u00c7er\\u00e7evelik\"}, {\"Compactness\": 0.763, \"Perimeter\": 1021.445, \"type\": \"\\u00c7er\\u00e7evelik\"}, {\"Compactness\": 0.6233, \"Perimeter\": 1331.364, \"type\": \"\\u00dcrg\\u00fcp Sivrisi\"}, {\"Compactness\": 0.7264, \"Perimeter\": 1063.29, \"type\": \"\\u00c7er\\u00e7evelik\"}, {\"Compactness\": 0.7234, \"Perimeter\": 975.93, \"type\": \"\\u00c7er\\u00e7evelik\"}, {\"Compactness\": 0.6683, \"Perimeter\": 1039.316, \"type\": \"\\u00c7er\\u00e7evelik\"}, {\"Compactness\": 0.7567, \"Perimeter\": 924.23, \"type\": \"\\u00c7er\\u00e7evelik\"}, {\"Compactness\": 0.7314, \"Perimeter\": 1018.101, \"type\": \"\\u00c7er\\u00e7evelik\"}, {\"Compactness\": 0.6314, \"Perimeter\": 1163.696, \"type\": \"\\u00dcrg\\u00fcp Sivrisi\"}, {\"Compactness\": 0.7446, \"Perimeter\": 1004.552, \"type\": \"\\u00c7er\\u00e7evelik\"}, {\"Compactness\": 0.68, \"Perimeter\": 1158.947, \"type\": \"\\u00c7er\\u00e7evelik\"}, {\"Compactness\": 0.7198, \"Perimeter\": 1124.691, \"type\": \"\\u00dcrg\\u00fcp Sivrisi\"}, {\"Compactness\": 0.7005, \"Perimeter\": 1090.457, \"type\": \"\\u00c7er\\u00e7evelik\"}, {\"Compactness\": 0.6127, \"Perimeter\": 1234.857, \"type\": \"\\u00dcrg\\u00fcp Sivrisi\"}, {\"Compactness\": 0.7504, \"Perimeter\": 1276.689, \"type\": \"\\u00dcrg\\u00fcp Sivrisi\"}, {\"Compactness\": 0.8164, \"Perimeter\": 1104.499, \"type\": \"\\u00c7er\\u00e7evelik\"}, {\"Compactness\": 0.6313, \"Perimeter\": 1408.755, \"type\": \"\\u00dcrg\\u00fcp Sivrisi\"}, {\"Compactness\": 0.6085, \"Perimeter\": 1148.908, \"type\": \"\\u00dcrg\\u00fcp Sivrisi\"}, {\"Compactness\": 0.7749, \"Perimeter\": 1016.392, \"type\": \"\\u00c7er\\u00e7evelik\"}, {\"Compactness\": 0.7178, \"Perimeter\": 1049.346, \"type\": \"\\u00c7er\\u00e7evelik\"}, {\"Compactness\": 0.6675, \"Perimeter\": 1128.564, \"type\": \"\\u00dcrg\\u00fcp Sivrisi\"}, {\"Compactness\": 0.6398, \"Perimeter\": 1087.833, \"type\": \"\\u00dcrg\\u00fcp Sivrisi\"}, {\"Compactness\": 0.6611, \"Perimeter\": 1364.851, \"type\": \"\\u00dcrg\\u00fcp Sivrisi\"}, {\"Compactness\": 0.6851, \"Perimeter\": 1219.412, \"type\": \"\\u00dcrg\\u00fcp Sivrisi\"}, {\"Compactness\": 0.6004, \"Perimeter\": 1125.2, \"type\": \"\\u00dcrg\\u00fcp Sivrisi\"}, {\"Compactness\": 0.6833, \"Perimeter\": 1250.211, \"type\": \"\\u00dcrg\\u00fcp Sivrisi\"}, {\"Compactness\": 0.7522, \"Perimeter\": 1041.46, \"type\": \"\\u00c7er\\u00e7evelik\"}, {\"Compactness\": 0.6815, \"Perimeter\": 1047.017, \"type\": \"\\u00dcrg\\u00fcp Sivrisi\"}, {\"Compactness\": 0.6291, \"Perimeter\": 1237.487, \"type\": \"\\u00dcrg\\u00fcp Sivrisi\"}, {\"Compactness\": 0.6904, \"Perimeter\": 1081.761, \"type\": \"\\u00dcrg\\u00fcp Sivrisi\"}, {\"Compactness\": 0.7132, \"Perimeter\": 1062.967, \"type\": \"\\u00c7er\\u00e7evelik\"}, {\"Compactness\": 0.7093, \"Perimeter\": 1053.775, \"type\": \"\\u00c7er\\u00e7evelik\"}, {\"Compactness\": 0.6539, \"Perimeter\": 1201.495, \"type\": \"\\u00dcrg\\u00fcp Sivrisi\"}, {\"Compactness\": 0.7138, \"Perimeter\": 1033.8, \"type\": \"\\u00c7er\\u00e7evelik\"}, {\"Compactness\": 0.7098, \"Perimeter\": 1059.358, \"type\": \"\\u00c7er\\u00e7evelik\"}, {\"Compactness\": 0.644, \"Perimeter\": 1130.995, \"type\": \"\\u00dcrg\\u00fcp Sivrisi\"}, {\"Compactness\": 0.7294, \"Perimeter\": 1254.371, \"type\": \"\\u00dcrg\\u00fcp Sivrisi\"}, {\"Compactness\": 0.7552, \"Perimeter\": 918.363, \"type\": \"\\u00c7er\\u00e7evelik\"}, {\"Compactness\": 0.602, \"Perimeter\": 1294.424, \"type\": \"\\u00dcrg\\u00fcp Sivrisi\"}, {\"Compactness\": 0.6568, \"Perimeter\": 1360.61, \"type\": \"\\u00dcrg\\u00fcp Sivrisi\"}, {\"Compactness\": 0.7727, \"Perimeter\": 956.977, \"type\": \"\\u00c7er\\u00e7evelik\"}, {\"Compactness\": 0.614, \"Perimeter\": 1237.638, \"type\": \"\\u00dcrg\\u00fcp Sivrisi\"}, {\"Compactness\": 0.6647, \"Perimeter\": 1244.552, \"type\": \"\\u00dcrg\\u00fcp Sivrisi\"}, {\"Compactness\": 0.7076, \"Perimeter\": 1066.963, \"type\": \"\\u00c7er\\u00e7evelik\"}, {\"Compactness\": 0.7336, \"Perimeter\": 1055.4, \"type\": \"\\u00dcrg\\u00fcp Sivrisi\"}, {\"Compactness\": 0.816, \"Perimeter\": 910.126, \"type\": \"\\u00c7er\\u00e7evelik\"}, {\"Compactness\": 0.6989, \"Perimeter\": 1102.123, \"type\": \"\\u00c7er\\u00e7evelik\"}, {\"Compactness\": 0.7241, \"Perimeter\": 1059.476, \"type\": \"\\u00c7er\\u00e7evelik\"}, {\"Compactness\": 0.674, \"Perimeter\": 1164.216, \"type\": \"\\u00dcrg\\u00fcp Sivrisi\"}, {\"Compactness\": 0.7412, \"Perimeter\": 1063.246, \"type\": \"\\u00dcrg\\u00fcp Sivrisi\"}, {\"Compactness\": 0.7364, \"Perimeter\": 1129.057, \"type\": \"\\u00c7er\\u00e7evelik\"}, {\"Compactness\": 0.6734, \"Perimeter\": 1193.77, \"type\": \"\\u00dcrg\\u00fcp Sivrisi\"}, {\"Compactness\": 0.615, \"Perimeter\": 1195.566, \"type\": \"\\u00dcrg\\u00fcp Sivrisi\"}, {\"Compactness\": 0.6351, \"Perimeter\": 1192.305, \"type\": \"\\u00dcrg\\u00fcp Sivrisi\"}, {\"Compactness\": 0.6295, \"Perimeter\": 1070.158, \"type\": \"\\u00dcrg\\u00fcp Sivrisi\"}, {\"Compactness\": 0.7133, \"Perimeter\": 1144.61, \"type\": \"\\u00dcrg\\u00fcp Sivrisi\"}, {\"Compactness\": 0.5871, \"Perimeter\": 1178.246, \"type\": \"\\u00dcrg\\u00fcp Sivrisi\"}, {\"Compactness\": 0.6615, \"Perimeter\": 1119.805, \"type\": \"\\u00dcrg\\u00fcp Sivrisi\"}, {\"Compactness\": 0.6379, \"Perimeter\": 1022.513, \"type\": \"\\u00dcrg\\u00fcp Sivrisi\"}, {\"Compactness\": 0.7748, \"Perimeter\": 990.116, \"type\": \"\\u00c7er\\u00e7evelik\"}, {\"Compactness\": 0.6787, \"Perimeter\": 1141.487, \"type\": \"\\u00dcrg\\u00fcp Sivrisi\"}, {\"Compactness\": 0.6429, \"Perimeter\": 1196.735, \"type\": \"\\u00dcrg\\u00fcp Sivrisi\"}, {\"Compactness\": 0.674, \"Perimeter\": 1185.141, \"type\": \"\\u00dcrg\\u00fcp Sivrisi\"}, {\"Compactness\": 0.7317, \"Perimeter\": 1193.471, \"type\": \"\\u00c7er\\u00e7evelik\"}, {\"Compactness\": 0.6596, \"Perimeter\": 1211.072, \"type\": \"\\u00dcrg\\u00fcp Sivrisi\"}, {\"Compactness\": 0.6997, \"Perimeter\": 1094.608, \"type\": \"\\u00c7er\\u00e7evelik\"}, {\"Compactness\": 0.6695, \"Perimeter\": 895.169, \"type\": \"\\u00dcrg\\u00fcp Sivrisi\"}, {\"Compactness\": 0.762, \"Perimeter\": 1023.404, \"type\": \"\\u00c7er\\u00e7evelik\"}, {\"Compactness\": 0.6301, \"Perimeter\": 1065.426, \"type\": \"\\u00dcrg\\u00fcp Sivrisi\"}, {\"Compactness\": 0.6891, \"Perimeter\": 1229.953, \"type\": \"\\u00c7er\\u00e7evelik\"}, {\"Compactness\": 0.7182, \"Perimeter\": 1058.418, \"type\": \"\\u00c7er\\u00e7evelik\"}, {\"Compactness\": 0.7179, \"Perimeter\": 1144.801, \"type\": \"\\u00c7er\\u00e7evelik\"}, {\"Compactness\": 0.6464, \"Perimeter\": 1092.926, \"type\": \"\\u00dcrg\\u00fcp Sivrisi\"}, {\"Compactness\": 0.6788, \"Perimeter\": 1391.888, \"type\": \"\\u00dcrg\\u00fcp Sivrisi\"}, {\"Compactness\": 0.6649, \"Perimeter\": 1279.76, \"type\": \"\\u00dcrg\\u00fcp Sivrisi\"}, {\"Compactness\": 0.7407, \"Perimeter\": 1106.957, \"type\": \"\\u00c7er\\u00e7evelik\"}, {\"Compactness\": 0.7548, \"Perimeter\": 1198.163, \"type\": \"\\u00c7er\\u00e7evelik\"}, {\"Compactness\": 0.7288, \"Perimeter\": 1112.297, \"type\": \"\\u00dcrg\\u00fcp Sivrisi\"}, {\"Compactness\": 0.7853, \"Perimeter\": 1173.87, \"type\": \"\\u00c7er\\u00e7evelik\"}, {\"Compactness\": 0.7637, \"Perimeter\": 1009.958, \"type\": \"\\u00c7er\\u00e7evelik\"}, {\"Compactness\": 0.7193, \"Perimeter\": 1024.088, \"type\": \"\\u00dcrg\\u00fcp Sivrisi\"}, {\"Compactness\": 0.6091, \"Perimeter\": 1331.159, \"type\": \"\\u00dcrg\\u00fcp Sivrisi\"}, {\"Compactness\": 0.7025, \"Perimeter\": 1190.488, \"type\": \"\\u00c7er\\u00e7evelik\"}, {\"Compactness\": 0.7241, \"Perimeter\": 973.254, \"type\": \"\\u00c7er\\u00e7evelik\"}, {\"Compactness\": 0.7054, \"Perimeter\": 1053.506, \"type\": \"\\u00c7er\\u00e7evelik\"}, {\"Compactness\": 0.6879, \"Perimeter\": 1242.438, \"type\": \"\\u00dcrg\\u00fcp Sivrisi\"}, {\"Compactness\": 0.6126, \"Perimeter\": 1313.812, \"type\": \"\\u00dcrg\\u00fcp Sivrisi\"}, {\"Compactness\": 0.7507, \"Perimeter\": 1142.386, \"type\": \"\\u00c7er\\u00e7evelik\"}, {\"Compactness\": 0.7532, \"Perimeter\": 1083.207, \"type\": \"\\u00c7er\\u00e7evelik\"}, {\"Compactness\": 0.6329, \"Perimeter\": 1308.444, \"type\": \"\\u00dcrg\\u00fcp Sivrisi\"}, {\"Compactness\": 0.6361, \"Perimeter\": 1333.288, \"type\": \"\\u00dcrg\\u00fcp Sivrisi\"}, {\"Compactness\": 0.6956, \"Perimeter\": 1185.732, \"type\": \"\\u00dcrg\\u00fcp Sivrisi\"}, {\"Compactness\": 0.6363, \"Perimeter\": 1289.908, \"type\": \"\\u00dcrg\\u00fcp Sivrisi\"}, {\"Compactness\": 0.6738, \"Perimeter\": 1133.999, \"type\": \"\\u00dcrg\\u00fcp Sivrisi\"}, {\"Compactness\": 0.7572, \"Perimeter\": 1039.375, \"type\": \"\\u00c7er\\u00e7evelik\"}, {\"Compactness\": 0.6503, \"Perimeter\": 1120.983, \"type\": \"\\u00dcrg\\u00fcp Sivrisi\"}, {\"Compactness\": 0.7432, \"Perimeter\": 1189.412, \"type\": \"\\u00c7er\\u00e7evelik\"}, {\"Compactness\": 0.6501, \"Perimeter\": 1408.886, \"type\": \"\\u00dcrg\\u00fcp Sivrisi\"}, {\"Compactness\": 0.5828, \"Perimeter\": 1139.029, \"type\": \"\\u00dcrg\\u00fcp Sivrisi\"}, {\"Compactness\": 0.7073, \"Perimeter\": 1021.125, \"type\": \"\\u00c7er\\u00e7evelik\"}, {\"Compactness\": 0.6959, \"Perimeter\": 1066.107, \"type\": \"\\u00c7er\\u00e7evelik\"}, {\"Compactness\": 0.6767, \"Perimeter\": 1211.951, \"type\": \"\\u00dcrg\\u00fcp Sivrisi\"}, {\"Compactness\": 0.7737, \"Perimeter\": 998.679, \"type\": \"\\u00c7er\\u00e7evelik\"}, {\"Compactness\": 0.7536, \"Perimeter\": 1171.369, \"type\": \"\\u00c7er\\u00e7evelik\"}, {\"Compactness\": 0.607, \"Perimeter\": 1173.574, \"type\": \"\\u00dcrg\\u00fcp Sivrisi\"}, {\"Compactness\": 0.7433, \"Perimeter\": 1180.493, \"type\": \"\\u00c7er\\u00e7evelik\"}, {\"Compactness\": 0.6104, \"Perimeter\": 1145.231, \"type\": \"\\u00dcrg\\u00fcp Sivrisi\"}, {\"Compactness\": 0.7185, \"Perimeter\": 1102.542, \"type\": \"\\u00c7er\\u00e7evelik\"}, {\"Compactness\": 0.7086, \"Perimeter\": 1077.389, \"type\": \"\\u00c7er\\u00e7evelik\"}, {\"Compactness\": 0.7429, \"Perimeter\": 1007.37, \"type\": \"\\u00c7er\\u00e7evelik\"}, {\"Compactness\": 0.7499, \"Perimeter\": 1063.152, \"type\": \"\\u00c7er\\u00e7evelik\"}, {\"Compactness\": 0.6965, \"Perimeter\": 1118.599, \"type\": \"\\u00c7er\\u00e7evelik\"}, {\"Compactness\": 0.703, \"Perimeter\": 1086.548, \"type\": \"\\u00c7er\\u00e7evelik\"}, {\"Compactness\": 0.7331, \"Perimeter\": 1290.417, \"type\": \"\\u00c7er\\u00e7evelik\"}, {\"Compactness\": 0.7547, \"Perimeter\": 1192.116, \"type\": \"\\u00dcrg\\u00fcp Sivrisi\"}, {\"Compactness\": 0.653, \"Perimeter\": 1273.191, \"type\": \"\\u00dcrg\\u00fcp Sivrisi\"}, {\"Compactness\": 0.6782, \"Perimeter\": 1197.405, \"type\": \"\\u00dcrg\\u00fcp Sivrisi\"}, {\"Compactness\": 0.6507, \"Perimeter\": 1145.276, \"type\": \"\\u00dcrg\\u00fcp Sivrisi\"}, {\"Compactness\": 0.7002, \"Perimeter\": 1288.831, \"type\": \"\\u00c7er\\u00e7evelik\"}, {\"Compactness\": 0.6724, \"Perimeter\": 1425.955, \"type\": \"\\u00dcrg\\u00fcp Sivrisi\"}, {\"Compactness\": 0.7628, \"Perimeter\": 1099.384, \"type\": \"\\u00c7er\\u00e7evelik\"}, {\"Compactness\": 0.7096, \"Perimeter\": 1120.096, \"type\": \"\\u00c7er\\u00e7evelik\"}, {\"Compactness\": 0.6929, \"Perimeter\": 1082.987, \"type\": \"\\u00c7er\\u00e7evelik\"}, {\"Compactness\": 0.7277, \"Perimeter\": 1054.808, \"type\": \"\\u00c7er\\u00e7evelik\"}, {\"Compactness\": 0.6921, \"Perimeter\": 962.79, \"type\": \"\\u00dcrg\\u00fcp Sivrisi\"}, {\"Compactness\": 0.7028, \"Perimeter\": 1134.31, \"type\": \"\\u00c7er\\u00e7evelik\"}, {\"Compactness\": 0.6141, \"Perimeter\": 1264.041, \"type\": \"\\u00dcrg\\u00fcp Sivrisi\"}, {\"Compactness\": 0.7227, \"Perimeter\": 1021.671, \"type\": \"\\u00c7er\\u00e7evelik\"}, {\"Compactness\": 0.6778, \"Perimeter\": 1102.102, \"type\": \"\\u00c7er\\u00e7evelik\"}, {\"Compactness\": 0.7231, \"Perimeter\": 1097.455, \"type\": \"\\u00c7er\\u00e7evelik\"}, {\"Compactness\": 0.7437, \"Perimeter\": 1141.66, \"type\": \"\\u00c7er\\u00e7evelik\"}, {\"Compactness\": 0.7032, \"Perimeter\": 1092.214, \"type\": \"\\u00c7er\\u00e7evelik\"}, {\"Compactness\": 0.74, \"Perimeter\": 1185.85, \"type\": \"\\u00c7er\\u00e7evelik\"}, {\"Compactness\": 0.694, \"Perimeter\": 1060.623, \"type\": \"\\u00c7er\\u00e7evelik\"}, {\"Compactness\": 0.7167, \"Perimeter\": 1078.573, \"type\": \"\\u00c7er\\u00e7evelik\"}, {\"Compactness\": 0.6796, \"Perimeter\": 1239.105, \"type\": \"\\u00dcrg\\u00fcp Sivrisi\"}, {\"Compactness\": 0.6175, \"Perimeter\": 1327.267, \"type\": \"\\u00dcrg\\u00fcp Sivrisi\"}, {\"Compactness\": 0.6818, \"Perimeter\": 1101.958, \"type\": \"\\u00dcrg\\u00fcp Sivrisi\"}, {\"Compactness\": 0.6405, \"Perimeter\": 1116.611, \"type\": \"\\u00dcrg\\u00fcp Sivrisi\"}, {\"Compactness\": 0.6468, \"Perimeter\": 1041.587, \"type\": \"\\u00dcrg\\u00fcp Sivrisi\"}, {\"Compactness\": 0.6802, \"Perimeter\": 1082.42, \"type\": \"\\u00dcrg\\u00fcp Sivrisi\"}, {\"Compactness\": 0.6608, \"Perimeter\": 1274.518, \"type\": \"\\u00dcrg\\u00fcp Sivrisi\"}, {\"Compactness\": 0.663, \"Perimeter\": 928.434, \"type\": \"\\u00dcrg\\u00fcp Sivrisi\"}, {\"Compactness\": 0.7018, \"Perimeter\": 1310.269, \"type\": \"\\u00dcrg\\u00fcp Sivrisi\"}, {\"Compactness\": 0.7217, \"Perimeter\": 976.712, \"type\": \"\\u00c7er\\u00e7evelik\"}, {\"Compactness\": 0.7128, \"Perimeter\": 1200.817, \"type\": \"\\u00c7er\\u00e7evelik\"}, {\"Compactness\": 0.7379, \"Perimeter\": 1080.957, \"type\": \"\\u00c7er\\u00e7evelik\"}, {\"Compactness\": 0.7751, \"Perimeter\": 1020.916, \"type\": \"\\u00c7er\\u00e7evelik\"}, {\"Compactness\": 0.7092, \"Perimeter\": 1090.25, \"type\": \"\\u00c7er\\u00e7evelik\"}, {\"Compactness\": 0.6197, \"Perimeter\": 1158.385, \"type\": \"\\u00dcrg\\u00fcp Sivrisi\"}, {\"Compactness\": 0.7803, \"Perimeter\": 1052.557, \"type\": \"\\u00c7er\\u00e7evelik\"}, {\"Compactness\": 0.7021, \"Perimeter\": 1115.483, \"type\": \"\\u00c7er\\u00e7evelik\"}, {\"Compactness\": 0.7168, \"Perimeter\": 1144.557, \"type\": \"\\u00dcrg\\u00fcp Sivrisi\"}, {\"Compactness\": 0.7405, \"Perimeter\": 1253.276, \"type\": \"\\u00c7er\\u00e7evelik\"}, {\"Compactness\": 0.7419, \"Perimeter\": 945.822, \"type\": \"\\u00c7er\\u00e7evelik\"}, {\"Compactness\": 0.7322, \"Perimeter\": 1118.878, \"type\": \"\\u00c7er\\u00e7evelik\"}, {\"Compactness\": 0.7134, \"Perimeter\": 1116.952, \"type\": \"\\u00c7er\\u00e7evelik\"}, {\"Compactness\": 0.7944, \"Perimeter\": 1040.006, \"type\": \"\\u00c7er\\u00e7evelik\"}, {\"Compactness\": 0.7122, \"Perimeter\": 967.372, \"type\": \"\\u00dcrg\\u00fcp Sivrisi\"}, {\"Compactness\": 0.7357, \"Perimeter\": 1005.691, \"type\": \"\\u00dcrg\\u00fcp Sivrisi\"}, {\"Compactness\": 0.7533, \"Perimeter\": 1010.427, \"type\": \"\\u00c7er\\u00e7evelik\"}, {\"Compactness\": 0.7579, \"Perimeter\": 1244.68, \"type\": \"\\u00c7er\\u00e7evelik\"}, {\"Compactness\": 0.7475, \"Perimeter\": 1172.735, \"type\": \"\\u00c7er\\u00e7evelik\"}, {\"Compactness\": 0.7392, \"Perimeter\": 1052.625, \"type\": \"\\u00c7er\\u00e7evelik\"}, {\"Compactness\": 0.6154, \"Perimeter\": 1260.711, \"type\": \"\\u00dcrg\\u00fcp Sivrisi\"}, {\"Compactness\": 0.6551, \"Perimeter\": 1051.349, \"type\": \"\\u00dcrg\\u00fcp Sivrisi\"}, {\"Compactness\": 0.7465, \"Perimeter\": 1164.478, \"type\": \"\\u00c7er\\u00e7evelik\"}, {\"Compactness\": 0.6455, \"Perimeter\": 1123.571, \"type\": \"\\u00dcrg\\u00fcp Sivrisi\"}, {\"Compactness\": 0.646, \"Perimeter\": 1417.789, \"type\": \"\\u00dcrg\\u00fcp Sivrisi\"}, {\"Compactness\": 0.7596, \"Perimeter\": 1030.932, \"type\": \"\\u00dcrg\\u00fcp Sivrisi\"}, {\"Compactness\": 0.6012, \"Perimeter\": 1388.145, \"type\": \"\\u00dcrg\\u00fcp Sivrisi\"}, {\"Compactness\": 0.6535, \"Perimeter\": 1345.16, \"type\": \"\\u00dcrg\\u00fcp Sivrisi\"}, {\"Compactness\": 0.786, \"Perimeter\": 1033.419, \"type\": \"\\u00c7er\\u00e7evelik\"}, {\"Compactness\": 0.7619, \"Perimeter\": 970.276, \"type\": \"\\u00c7er\\u00e7evelik\"}, {\"Compactness\": 0.6794, \"Perimeter\": 1051.861, \"type\": \"\\u00dcrg\\u00fcp Sivrisi\"}, {\"Compactness\": 0.5972, \"Perimeter\": 1189.76, \"type\": \"\\u00dcrg\\u00fcp Sivrisi\"}, {\"Compactness\": 0.7658, \"Perimeter\": 1047.356, \"type\": \"\\u00c7er\\u00e7evelik\"}, {\"Compactness\": 0.7308, \"Perimeter\": 1182.401, \"type\": \"\\u00c7er\\u00e7evelik\"}, {\"Compactness\": 0.7558, \"Perimeter\": 963.479, \"type\": \"\\u00c7er\\u00e7evelik\"}, {\"Compactness\": 0.7492, \"Perimeter\": 1156.064, \"type\": \"\\u00c7er\\u00e7evelik\"}, {\"Compactness\": 0.6892, \"Perimeter\": 1115.537, \"type\": \"\\u00dcrg\\u00fcp Sivrisi\"}, {\"Compactness\": 0.6901, \"Perimeter\": 1033.865, \"type\": \"\\u00c7er\\u00e7evelik\"}, {\"Compactness\": 0.679, \"Perimeter\": 1129.177, \"type\": \"\\u00dcrg\\u00fcp Sivrisi\"}, {\"Compactness\": 0.6433, \"Perimeter\": 1084.318, \"type\": \"\\u00dcrg\\u00fcp Sivrisi\"}, {\"Compactness\": 0.666, \"Perimeter\": 1261.524, \"type\": \"\\u00dcrg\\u00fcp Sivrisi\"}, {\"Compactness\": 0.7066, \"Perimeter\": 1283.419, \"type\": \"\\u00dcrg\\u00fcp Sivrisi\"}, {\"Compactness\": 0.7427, \"Perimeter\": 1118.411, \"type\": \"\\u00c7er\\u00e7evelik\"}, {\"Compactness\": 0.5673, \"Perimeter\": 1071.249, \"type\": \"\\u00dcrg\\u00fcp Sivrisi\"}, {\"Compactness\": 0.6961, \"Perimeter\": 1047.339, \"type\": \"\\u00dcrg\\u00fcp Sivrisi\"}, {\"Compactness\": 0.5948, \"Perimeter\": 1400.499, \"type\": \"\\u00dcrg\\u00fcp Sivrisi\"}, {\"Compactness\": 0.7667, \"Perimeter\": 1060.714, \"type\": \"\\u00c7er\\u00e7evelik\"}, {\"Compactness\": 0.6818, \"Perimeter\": 1106.91, \"type\": \"\\u00c7er\\u00e7evelik\"}, {\"Compactness\": 0.7208, \"Perimeter\": 1216.593, \"type\": \"\\u00c7er\\u00e7evelik\"}, {\"Compactness\": 0.6593, \"Perimeter\": 1310.48, \"type\": \"\\u00dcrg\\u00fcp Sivrisi\"}, {\"Compactness\": 0.6216, \"Perimeter\": 1279.029, \"type\": \"\\u00dcrg\\u00fcp Sivrisi\"}, {\"Compactness\": 0.7233, \"Perimeter\": 1115.305, \"type\": \"\\u00c7er\\u00e7evelik\"}, {\"Compactness\": 0.6534, \"Perimeter\": 1123.372, \"type\": \"\\u00dcrg\\u00fcp Sivrisi\"}, {\"Compactness\": 0.7692, \"Perimeter\": 1162.973, \"type\": \"\\u00c7er\\u00e7evelik\"}, {\"Compactness\": 0.7755, \"Perimeter\": 988.42, \"type\": \"\\u00c7er\\u00e7evelik\"}, {\"Compactness\": 0.6499, \"Perimeter\": 1138.641, \"type\": \"\\u00dcrg\\u00fcp Sivrisi\"}, {\"Compactness\": 0.7053, \"Perimeter\": 926.686, \"type\": \"\\u00dcrg\\u00fcp Sivrisi\"}, {\"Compactness\": 0.7172, \"Perimeter\": 1245.963, \"type\": \"\\u00dcrg\\u00fcp Sivrisi\"}, {\"Compactness\": 0.7449, \"Perimeter\": 967.393, \"type\": \"\\u00c7er\\u00e7evelik\"}, {\"Compactness\": 0.7394, \"Perimeter\": 1140.954, \"type\": \"\\u00c7er\\u00e7evelik\"}, {\"Compactness\": 0.7408, \"Perimeter\": 957.318, \"type\": \"\\u00c7er\\u00e7evelik\"}, {\"Compactness\": 0.7895, \"Perimeter\": 1058.412, \"type\": \"\\u00c7er\\u00e7evelik\"}, {\"Compactness\": 0.7122, \"Perimeter\": 1088.571, \"type\": \"\\u00c7er\\u00e7evelik\"}, {\"Compactness\": 0.7782, \"Perimeter\": 1030.211, \"type\": \"\\u00c7er\\u00e7evelik\"}, {\"Compactness\": 0.715, \"Perimeter\": 1084.755, \"type\": \"\\u00dcrg\\u00fcp Sivrisi\"}, {\"Compactness\": 0.6945, \"Perimeter\": 936.426, \"type\": \"\\u00dcrg\\u00fcp Sivrisi\"}, {\"Compactness\": 0.7919, \"Perimeter\": 1246.342, \"type\": \"\\u00c7er\\u00e7evelik\"}, {\"Compactness\": 0.6851, \"Perimeter\": 1025.784, \"type\": \"\\u00dcrg\\u00fcp Sivrisi\"}, {\"Compactness\": 0.6586, \"Perimeter\": 1067.744, \"type\": \"\\u00dcrg\\u00fcp Sivrisi\"}, {\"Compactness\": 0.6914, \"Perimeter\": 1118.245, \"type\": \"\\u00c7er\\u00e7evelik\"}, {\"Compactness\": 0.6689, \"Perimeter\": 1195.397, \"type\": \"\\u00dcrg\\u00fcp Sivrisi\"}, {\"Compactness\": 0.7196, \"Perimeter\": 1292.529, \"type\": \"\\u00dcrg\\u00fcp Sivrisi\"}, {\"Compactness\": 0.7533, \"Perimeter\": 928.795, \"type\": \"\\u00c7er\\u00e7evelik\"}, {\"Compactness\": 0.7363, \"Perimeter\": 944.089, \"type\": \"\\u00dcrg\\u00fcp Sivrisi\"}, {\"Compactness\": 0.8027, \"Perimeter\": 1171.144, \"type\": \"\\u00c7er\\u00e7evelik\"}, {\"Compactness\": 0.6904, \"Perimeter\": 1288.657, \"type\": \"\\u00dcrg\\u00fcp Sivrisi\"}, {\"Compactness\": 0.706, \"Perimeter\": 1295.678, \"type\": \"\\u00dcrg\\u00fcp Sivrisi\"}, {\"Compactness\": 0.5797, \"Perimeter\": 1256.515, \"type\": \"\\u00dcrg\\u00fcp Sivrisi\"}, {\"Compactness\": 0.7652, \"Perimeter\": 1069.321, \"type\": \"\\u00c7er\\u00e7evelik\"}, {\"Compactness\": 0.7382, \"Perimeter\": 1112.359, \"type\": \"\\u00c7er\\u00e7evelik\"}, {\"Compactness\": 0.7826, \"Perimeter\": 1092.364, \"type\": \"\\u00c7er\\u00e7evelik\"}, {\"Compactness\": 0.6718, \"Perimeter\": 1127.083, \"type\": \"\\u00dcrg\\u00fcp Sivrisi\"}, {\"Compactness\": 0.7719, \"Perimeter\": 1147.192, \"type\": \"\\u00c7er\\u00e7evelik\"}, {\"Compactness\": 0.7232, \"Perimeter\": 1232.224, \"type\": \"\\u00c7er\\u00e7evelik\"}, {\"Compactness\": 0.6514, \"Perimeter\": 914.547, \"type\": \"\\u00dcrg\\u00fcp Sivrisi\"}, {\"Compactness\": 0.6465, \"Perimeter\": 1056.788, \"type\": \"\\u00dcrg\\u00fcp Sivrisi\"}, {\"Compactness\": 0.5921, \"Perimeter\": 1264.182, \"type\": \"\\u00dcrg\\u00fcp Sivrisi\"}, {\"Compactness\": 0.7356, \"Perimeter\": 1149.763, \"type\": \"\\u00c7er\\u00e7evelik\"}, {\"Compactness\": 0.7583, \"Perimeter\": 997.056, \"type\": \"\\u00c7er\\u00e7evelik\"}, {\"Compactness\": 0.7566, \"Perimeter\": 1030.822, \"type\": \"\\u00c7er\\u00e7evelik\"}, {\"Compactness\": 0.714, \"Perimeter\": 1136.564, \"type\": \"\\u00c7er\\u00e7evelik\"}, {\"Compactness\": 0.6386, \"Perimeter\": 1033.415, \"type\": \"\\u00dcrg\\u00fcp Sivrisi\"}, {\"Compactness\": 0.6697, \"Perimeter\": 1275.454, \"type\": \"\\u00dcrg\\u00fcp Sivrisi\"}, {\"Compactness\": 0.7366, \"Perimeter\": 1196.28, \"type\": \"\\u00dcrg\\u00fcp Sivrisi\"}, {\"Compactness\": 0.785, \"Perimeter\": 1043.526, \"type\": \"\\u00c7er\\u00e7evelik\"}, {\"Compactness\": 0.7439, \"Perimeter\": 1100.4, \"type\": \"\\u00c7er\\u00e7evelik\"}, {\"Compactness\": 0.6856, \"Perimeter\": 1110.857, \"type\": \"\\u00dcrg\\u00fcp Sivrisi\"}, {\"Compactness\": 0.7479, \"Perimeter\": 1094.307, \"type\": \"\\u00c7er\\u00e7evelik\"}, {\"Compactness\": 0.6257, \"Perimeter\": 1263.489, \"type\": \"\\u00dcrg\\u00fcp Sivrisi\"}, {\"Compactness\": 0.7087, \"Perimeter\": 1001.259, \"type\": \"\\u00dcrg\\u00fcp Sivrisi\"}, {\"Compactness\": 0.6752, \"Perimeter\": 1101.126, \"type\": \"\\u00dcrg\\u00fcp Sivrisi\"}, {\"Compactness\": 0.7473, \"Perimeter\": 1087.62, \"type\": \"\\u00c7er\\u00e7evelik\"}, {\"Compactness\": 0.717, \"Perimeter\": 1199.129, \"type\": \"\\u00c7er\\u00e7evelik\"}, {\"Compactness\": 0.759, \"Perimeter\": 1088.349, \"type\": \"\\u00c7er\\u00e7evelik\"}, {\"Compactness\": 0.6786, \"Perimeter\": 1140.197, \"type\": \"\\u00dcrg\\u00fcp Sivrisi\"}, {\"Compactness\": 0.6859, \"Perimeter\": 1189.632, \"type\": \"\\u00dcrg\\u00fcp Sivrisi\"}, {\"Compactness\": 0.6338, \"Perimeter\": 1175.369, \"type\": \"\\u00dcrg\\u00fcp Sivrisi\"}, {\"Compactness\": 0.6477, \"Perimeter\": 986.473, \"type\": \"\\u00dcrg\\u00fcp Sivrisi\"}, {\"Compactness\": 0.7142, \"Perimeter\": 1151.611, \"type\": \"\\u00c7er\\u00e7evelik\"}, {\"Compactness\": 0.644, \"Perimeter\": 1220.39, \"type\": \"\\u00dcrg\\u00fcp Sivrisi\"}, {\"Compactness\": 0.7804, \"Perimeter\": 1160.847, \"type\": \"\\u00c7er\\u00e7evelik\"}, {\"Compactness\": 0.6852, \"Perimeter\": 1210.715, \"type\": \"\\u00dcrg\\u00fcp Sivrisi\"}, {\"Compactness\": 0.7564, \"Perimeter\": 974.831, \"type\": \"\\u00c7er\\u00e7evelik\"}, {\"Compactness\": 0.7967, \"Perimeter\": 983.199, \"type\": \"\\u00c7er\\u00e7evelik\"}, {\"Compactness\": 0.7675, \"Perimeter\": 931.363, \"type\": \"\\u00c7er\\u00e7evelik\"}, {\"Compactness\": 0.7761, \"Perimeter\": 1139.607, \"type\": \"\\u00c7er\\u00e7evelik\"}, {\"Compactness\": 0.7121, \"Perimeter\": 1191.564, \"type\": \"\\u00c7er\\u00e7evelik\"}, {\"Compactness\": 0.7011, \"Perimeter\": 1164.476, \"type\": \"\\u00c7er\\u00e7evelik\"}, {\"Compactness\": 0.8077, \"Perimeter\": 912.152, \"type\": \"\\u00c7er\\u00e7evelik\"}, {\"Compactness\": 0.6443, \"Perimeter\": 1193.41, \"type\": \"\\u00c7er\\u00e7evelik\"}, {\"Compactness\": 0.6165, \"Perimeter\": 1388.12, \"type\": \"\\u00dcrg\\u00fcp Sivrisi\"}, {\"Compactness\": 0.7894, \"Perimeter\": 1103.068, \"type\": \"\\u00c7er\\u00e7evelik\"}, {\"Compactness\": 0.7457, \"Perimeter\": 1000.166, \"type\": \"\\u00dcrg\\u00fcp Sivrisi\"}, {\"Compactness\": 0.6841, \"Perimeter\": 1271.363, \"type\": \"\\u00dcrg\\u00fcp Sivrisi\"}, {\"Compactness\": 0.7813, \"Perimeter\": 1156.974, \"type\": \"\\u00c7er\\u00e7evelik\"}, {\"Compactness\": 0.7321, \"Perimeter\": 1034.569, \"type\": \"\\u00c7er\\u00e7evelik\"}, {\"Compactness\": 0.5785, \"Perimeter\": 1209.036, \"type\": \"\\u00dcrg\\u00fcp Sivrisi\"}, {\"Compactness\": 0.6942, \"Perimeter\": 1103.371, \"type\": \"\\u00dcrg\\u00fcp Sivrisi\"}, {\"Compactness\": 0.65, \"Perimeter\": 1120.092, \"type\": \"\\u00dcrg\\u00fcp Sivrisi\"}, {\"Compactness\": 0.6175, \"Perimeter\": 1175.506, \"type\": \"\\u00dcrg\\u00fcp Sivrisi\"}, {\"Compactness\": 0.6559, \"Perimeter\": 1196.584, \"type\": \"\\u00dcrg\\u00fcp Sivrisi\"}, {\"Compactness\": 0.7614, \"Perimeter\": 1000.448, \"type\": \"\\u00c7er\\u00e7evelik\"}, {\"Compactness\": 0.7006, \"Perimeter\": 964.351, \"type\": \"\\u00dcrg\\u00fcp Sivrisi\"}, {\"Compactness\": 0.6296, \"Perimeter\": 1170.052, \"type\": \"\\u00dcrg\\u00fcp Sivrisi\"}, {\"Compactness\": 0.7442, \"Perimeter\": 975.1, \"type\": \"\\u00c7er\\u00e7evelik\"}, {\"Compactness\": 0.7776, \"Perimeter\": 999.949, \"type\": \"\\u00c7er\\u00e7evelik\"}, {\"Compactness\": 0.6192, \"Perimeter\": 1439.456, \"type\": \"\\u00dcrg\\u00fcp Sivrisi\"}, {\"Compactness\": 0.6737, \"Perimeter\": 1204.98, \"type\": \"\\u00dcrg\\u00fcp Sivrisi\"}, {\"Compactness\": 0.6768, \"Perimeter\": 1238.452, \"type\": \"\\u00dcrg\\u00fcp Sivrisi\"}, {\"Compactness\": 0.652, \"Perimeter\": 1206.107, \"type\": \"\\u00dcrg\\u00fcp Sivrisi\"}, {\"Compactness\": 0.6591, \"Perimeter\": 1370.865, \"type\": \"\\u00dcrg\\u00fcp Sivrisi\"}, {\"Compactness\": 0.7676, \"Perimeter\": 1172.49, \"type\": \"\\u00c7er\\u00e7evelik\"}, {\"Compactness\": 0.7493, \"Perimeter\": 1167.775, \"type\": \"\\u00c7er\\u00e7evelik\"}, {\"Compactness\": 0.6457, \"Perimeter\": 1490.954, \"type\": \"\\u00dcrg\\u00fcp Sivrisi\"}, {\"Compactness\": 0.7299, \"Perimeter\": 1008.42, \"type\": \"\\u00c7er\\u00e7evelik\"}, {\"Compactness\": 0.6404, \"Perimeter\": 1293.859, \"type\": \"\\u00dcrg\\u00fcp Sivrisi\"}, {\"Compactness\": 0.7361, \"Perimeter\": 1237.338, \"type\": \"\\u00dcrg\\u00fcp Sivrisi\"}, {\"Compactness\": 0.62, \"Perimeter\": 1156.906, \"type\": \"\\u00dcrg\\u00fcp Sivrisi\"}, {\"Compactness\": 0.6774, \"Perimeter\": 1146.431, \"type\": \"\\u00dcrg\\u00fcp Sivrisi\"}, {\"Compactness\": 0.6763, \"Perimeter\": 1091.719, \"type\": \"\\u00dcrg\\u00fcp Sivrisi\"}, {\"Compactness\": 0.721, \"Perimeter\": 1146.835, \"type\": \"\\u00c7er\\u00e7evelik\"}, {\"Compactness\": 0.6601, \"Perimeter\": 1037.464, \"type\": \"\\u00dcrg\\u00fcp Sivrisi\"}, {\"Compactness\": 0.7102, \"Perimeter\": 1206.725, \"type\": \"\\u00dcrg\\u00fcp Sivrisi\"}, {\"Compactness\": 0.7501, \"Perimeter\": 1206.819, \"type\": \"\\u00c7er\\u00e7evelik\"}, {\"Compactness\": 0.6162, \"Perimeter\": 1251.501, \"type\": \"\\u00dcrg\\u00fcp Sivrisi\"}, {\"Compactness\": 0.7388, \"Perimeter\": 1179.934, \"type\": \"\\u00c7er\\u00e7evelik\"}, {\"Compactness\": 0.7369, \"Perimeter\": 1081.043, \"type\": \"\\u00c7er\\u00e7evelik\"}, {\"Compactness\": 0.7222, \"Perimeter\": 1076.322, \"type\": \"\\u00c7er\\u00e7evelik\"}, {\"Compactness\": 0.6642, \"Perimeter\": 1237.479, \"type\": \"\\u00dcrg\\u00fcp Sivrisi\"}, {\"Compactness\": 0.6289, \"Perimeter\": 1209.651, \"type\": \"\\u00dcrg\\u00fcp Sivrisi\"}, {\"Compactness\": 0.7188, \"Perimeter\": 1053.34, \"type\": \"\\u00c7er\\u00e7evelik\"}, {\"Compactness\": 0.6512, \"Perimeter\": 1284.1, \"type\": \"\\u00c7er\\u00e7evelik\"}, {\"Compactness\": 0.6652, \"Perimeter\": 1293.379, \"type\": \"\\u00dcrg\\u00fcp Sivrisi\"}, {\"Compactness\": 0.6792, \"Perimeter\": 1134.445, \"type\": \"\\u00c7er\\u00e7evelik\"}, {\"Compactness\": 0.7107, \"Perimeter\": 969.488, \"type\": \"\\u00dcrg\\u00fcp Sivrisi\"}, {\"Compactness\": 0.7039, \"Perimeter\": 1046.42, \"type\": \"\\u00dcrg\\u00fcp Sivrisi\"}, {\"Compactness\": 0.7134, \"Perimeter\": 984.099, \"type\": \"\\u00c7er\\u00e7evelik\"}, {\"Compactness\": 0.7289, \"Perimeter\": 989.755, \"type\": \"\\u00c7er\\u00e7evelik\"}, {\"Compactness\": 0.6803, \"Perimeter\": 1267.886, \"type\": \"\\u00dcrg\\u00fcp Sivrisi\"}, {\"Compactness\": 0.7353, \"Perimeter\": 1041.227, \"type\": \"\\u00c7er\\u00e7evelik\"}, {\"Compactness\": 0.7737, \"Perimeter\": 1076.597, \"type\": \"\\u00c7er\\u00e7evelik\"}, {\"Compactness\": 0.755, \"Perimeter\": 971.85, \"type\": \"\\u00c7er\\u00e7evelik\"}, {\"Compactness\": 0.6425, \"Perimeter\": 1190.232, \"type\": \"\\u00dcrg\\u00fcp Sivrisi\"}, {\"Compactness\": 0.726, \"Perimeter\": 1222.611, \"type\": \"\\u00c7er\\u00e7evelik\"}, {\"Compactness\": 0.6182, \"Perimeter\": 1183.688, \"type\": \"\\u00dcrg\\u00fcp Sivrisi\"}, {\"Compactness\": 0.7644, \"Perimeter\": 1067.604, \"type\": \"\\u00c7er\\u00e7evelik\"}, {\"Compactness\": 0.6068, \"Perimeter\": 1337.635, \"type\": \"\\u00dcrg\\u00fcp Sivrisi\"}, {\"Compactness\": 0.7386, \"Perimeter\": 1160.802, \"type\": \"\\u00dcrg\\u00fcp Sivrisi\"}, {\"Compactness\": 0.7958, \"Perimeter\": 1223.292, \"type\": \"\\u00c7er\\u00e7evelik\"}, {\"Compactness\": 0.7975, \"Perimeter\": 1016.491, \"type\": \"\\u00c7er\\u00e7evelik\"}, {\"Compactness\": 0.703, \"Perimeter\": 1258.45, \"type\": \"\\u00c7er\\u00e7evelik\"}, {\"Compactness\": 0.6205, \"Perimeter\": 1244.185, \"type\": \"\\u00dcrg\\u00fcp Sivrisi\"}, {\"Compactness\": 0.6458, \"Perimeter\": 1211.528, \"type\": \"\\u00dcrg\\u00fcp Sivrisi\"}, {\"Compactness\": 0.7778, \"Perimeter\": 1010.247, \"type\": \"\\u00c7er\\u00e7evelik\"}, {\"Compactness\": 0.7073, \"Perimeter\": 1070.401, \"type\": \"\\u00c7er\\u00e7evelik\"}, {\"Compactness\": 0.7199, \"Perimeter\": 1115.246, \"type\": \"\\u00dcrg\\u00fcp Sivrisi\"}, {\"Compactness\": 0.7654, \"Perimeter\": 1013.243, \"type\": \"\\u00c7er\\u00e7evelik\"}, {\"Compactness\": 0.7536, \"Perimeter\": 1062.283, \"type\": \"\\u00c7er\\u00e7evelik\"}, {\"Compactness\": 0.6878, \"Perimeter\": 1129.585, \"type\": \"\\u00c7er\\u00e7evelik\"}, {\"Compactness\": 0.6845, \"Perimeter\": 1318.775, \"type\": \"\\u00dcrg\\u00fcp Sivrisi\"}, {\"Compactness\": 0.6994, \"Perimeter\": 1064.746, \"type\": \"\\u00dcrg\\u00fcp Sivrisi\"}, {\"Compactness\": 0.5704, \"Perimeter\": 1037.748, \"type\": \"\\u00dcrg\\u00fcp Sivrisi\"}, {\"Compactness\": 0.6653, \"Perimeter\": 1066.605, \"type\": \"\\u00dcrg\\u00fcp Sivrisi\"}, {\"Compactness\": 0.7047, \"Perimeter\": 1115.686, \"type\": \"\\u00c7er\\u00e7evelik\"}, {\"Compactness\": 0.7572, \"Perimeter\": 1020.99, \"type\": \"\\u00c7er\\u00e7evelik\"}, {\"Compactness\": 0.5794, \"Perimeter\": 1267.162, \"type\": \"\\u00dcrg\\u00fcp Sivrisi\"}, {\"Compactness\": 0.5918, \"Perimeter\": 1443.428, \"type\": \"\\u00dcrg\\u00fcp Sivrisi\"}, {\"Compactness\": 0.6434, \"Perimeter\": 1022.811, \"type\": \"\\u00dcrg\\u00fcp Sivrisi\"}, {\"Compactness\": 0.8009, \"Perimeter\": 959.319, \"type\": \"\\u00c7er\\u00e7evelik\"}, {\"Compactness\": 0.6404, \"Perimeter\": 1022.444, \"type\": \"\\u00dcrg\\u00fcp Sivrisi\"}, {\"Compactness\": 0.7477, \"Perimeter\": 984.962, \"type\": \"\\u00c7er\\u00e7evelik\"}, {\"Compactness\": 0.7291, \"Perimeter\": 1242.015, \"type\": \"\\u00dcrg\\u00fcp Sivrisi\"}, {\"Compactness\": 0.6465, \"Perimeter\": 1141.584, \"type\": \"\\u00dcrg\\u00fcp Sivrisi\"}, {\"Compactness\": 0.7028, \"Perimeter\": 1145.799, \"type\": \"\\u00c7er\\u00e7evelik\"}, {\"Compactness\": 0.7212, \"Perimeter\": 1000.483, \"type\": \"\\u00dcrg\\u00fcp Sivrisi\"}, {\"Compactness\": 0.6269, \"Perimeter\": 1430.169, \"type\": \"\\u00dcrg\\u00fcp Sivrisi\"}, {\"Compactness\": 0.6536, \"Perimeter\": 1165.571, \"type\": \"\\u00dcrg\\u00fcp Sivrisi\"}, {\"Compactness\": 0.7347, \"Perimeter\": 989.324, \"type\": \"\\u00c7er\\u00e7evelik\"}, {\"Compactness\": 0.6545, \"Perimeter\": 1105.963, \"type\": \"\\u00dcrg\\u00fcp Sivrisi\"}, {\"Compactness\": 0.7414, \"Perimeter\": 1172.477, \"type\": \"\\u00c7er\\u00e7evelik\"}, {\"Compactness\": 0.6441, \"Perimeter\": 1175.208, \"type\": \"\\u00dcrg\\u00fcp Sivrisi\"}, {\"Compactness\": 0.6845, \"Perimeter\": 1326.818, \"type\": \"\\u00dcrg\\u00fcp Sivrisi\"}, {\"Compactness\": 0.7979, \"Perimeter\": 946.484, \"type\": \"\\u00c7er\\u00e7evelik\"}, {\"Compactness\": 0.6171, \"Perimeter\": 1143.769, \"type\": \"\\u00dcrg\\u00fcp Sivrisi\"}, {\"Compactness\": 0.6877, \"Perimeter\": 1232.353, \"type\": \"\\u00dcrg\\u00fcp Sivrisi\"}, {\"Compactness\": 0.7103, \"Perimeter\": 1158.544, \"type\": \"\\u00c7er\\u00e7evelik\"}, {\"Compactness\": 0.7165, \"Perimeter\": 1037.539, \"type\": \"\\u00c7er\\u00e7evelik\"}, {\"Compactness\": 0.6573, \"Perimeter\": 1265.122, \"type\": \"\\u00dcrg\\u00fcp Sivrisi\"}, {\"Compactness\": 0.7139, \"Perimeter\": 1003.578, \"type\": \"\\u00c7er\\u00e7evelik\"}, {\"Compactness\": 0.6641, \"Perimeter\": 1314.138, \"type\": \"\\u00dcrg\\u00fcp Sivrisi\"}, {\"Compactness\": 0.7712, \"Perimeter\": 1115.847, \"type\": \"\\u00c7er\\u00e7evelik\"}, {\"Compactness\": 0.7205, \"Perimeter\": 1076.017, \"type\": \"\\u00c7er\\u00e7evelik\"}, {\"Compactness\": 0.7307, \"Perimeter\": 1192.994, \"type\": \"\\u00dcrg\\u00fcp Sivrisi\"}, {\"Compactness\": 0.7653, \"Perimeter\": 952.263, \"type\": \"\\u00c7er\\u00e7evelik\"}, {\"Compactness\": 0.6495, \"Perimeter\": 1137.139, \"type\": \"\\u00dcrg\\u00fcp Sivrisi\"}, {\"Compactness\": 0.6968, \"Perimeter\": 997.479, \"type\": \"\\u00dcrg\\u00fcp Sivrisi\"}, {\"Compactness\": 0.7346, \"Perimeter\": 1079.812, \"type\": \"\\u00c7er\\u00e7evelik\"}, {\"Compactness\": 0.7659, \"Perimeter\": 1109.604, \"type\": \"\\u00c7er\\u00e7evelik\"}, {\"Compactness\": 0.7257, \"Perimeter\": 1146.008, \"type\": \"\\u00c7er\\u00e7evelik\"}, {\"Compactness\": 0.7337, \"Perimeter\": 1078.229, \"type\": \"\\u00c7er\\u00e7evelik\"}, {\"Compactness\": 0.7079, \"Perimeter\": 1089.115, \"type\": \"\\u00c7er\\u00e7evelik\"}, {\"Compactness\": 0.6475, \"Perimeter\": 1059.862, \"type\": \"\\u00dcrg\\u00fcp Sivrisi\"}, {\"Compactness\": 0.7612, \"Perimeter\": 1159.584, \"type\": \"\\u00c7er\\u00e7evelik\"}, {\"Compactness\": 0.7253, \"Perimeter\": 1098.835, \"type\": \"\\u00c7er\\u00e7evelik\"}, {\"Compactness\": 0.6521, \"Perimeter\": 1331.597, \"type\": \"\\u00dcrg\\u00fcp Sivrisi\"}, {\"Compactness\": 0.7853, \"Perimeter\": 1125.883, \"type\": \"\\u00c7er\\u00e7evelik\"}, {\"Compactness\": 0.7465, \"Perimeter\": 1069.733, \"type\": \"\\u00c7er\\u00e7evelik\"}, {\"Compactness\": 0.705, \"Perimeter\": 1033.25, \"type\": \"\\u00c7er\\u00e7evelik\"}, {\"Compactness\": 0.6462, \"Perimeter\": 1361.128, \"type\": \"\\u00dcrg\\u00fcp Sivrisi\"}, {\"Compactness\": 0.7722, \"Perimeter\": 1148.025, \"type\": \"\\u00c7er\\u00e7evelik\"}, {\"Compactness\": 0.7169, \"Perimeter\": 1130.494, \"type\": \"\\u00dcrg\\u00fcp Sivrisi\"}, {\"Compactness\": 0.7044, \"Perimeter\": 985.763, \"type\": \"\\u00c7er\\u00e7evelik\"}, {\"Compactness\": 0.6352, \"Perimeter\": 1241.548, \"type\": \"\\u00dcrg\\u00fcp Sivrisi\"}, {\"Compactness\": 0.6939, \"Perimeter\": 1101.123, \"type\": \"\\u00dcrg\\u00fcp Sivrisi\"}, {\"Compactness\": 0.6284, \"Perimeter\": 1022.36, \"type\": \"\\u00dcrg\\u00fcp Sivrisi\"}, {\"Compactness\": 0.668, \"Perimeter\": 1240.607, \"type\": \"\\u00dcrg\\u00fcp Sivrisi\"}, {\"Compactness\": 0.7293, \"Perimeter\": 1156.115, \"type\": \"\\u00c7er\\u00e7evelik\"}, {\"Compactness\": 0.6495, \"Perimeter\": 1285.977, \"type\": \"\\u00dcrg\\u00fcp Sivrisi\"}, {\"Compactness\": 0.6843, \"Perimeter\": 1192.182, \"type\": \"\\u00c7er\\u00e7evelik\"}, {\"Compactness\": 0.7454, \"Perimeter\": 1124.358, \"type\": \"\\u00c7er\\u00e7evelik\"}, {\"Compactness\": 0.7681, \"Perimeter\": 1006.757, \"type\": \"\\u00c7er\\u00e7evelik\"}, {\"Compactness\": 0.7087, \"Perimeter\": 973.474, \"type\": \"\\u00dcrg\\u00fcp Sivrisi\"}, {\"Compactness\": 0.6161, \"Perimeter\": 1110.824, \"type\": \"\\u00dcrg\\u00fcp Sivrisi\"}, {\"Compactness\": 0.6351, \"Perimeter\": 1305.855, \"type\": \"\\u00dcrg\\u00fcp Sivrisi\"}, {\"Compactness\": 0.6513, \"Perimeter\": 1329.655, \"type\": \"\\u00dcrg\\u00fcp Sivrisi\"}, {\"Compactness\": 0.6928, \"Perimeter\": 1048.514, \"type\": \"\\u00c7er\\u00e7evelik\"}, {\"Compactness\": 0.7734, \"Perimeter\": 1088.565, \"type\": \"\\u00c7er\\u00e7evelik\"}, {\"Compactness\": 0.6616, \"Perimeter\": 1091.814, \"type\": \"\\u00dcrg\\u00fcp Sivrisi\"}, {\"Compactness\": 0.7272, \"Perimeter\": 1006.806, \"type\": \"\\u00c7er\\u00e7evelik\"}, {\"Compactness\": 0.6643, \"Perimeter\": 926.826, \"type\": \"\\u00dcrg\\u00fcp Sivrisi\"}, {\"Compactness\": 0.7346, \"Perimeter\": 984.774, \"type\": \"\\u00c7er\\u00e7evelik\"}, {\"Compactness\": 0.7207, \"Perimeter\": 1168.739, \"type\": \"\\u00dcrg\\u00fcp Sivrisi\"}, {\"Compactness\": 0.7134, \"Perimeter\": 1092.939, \"type\": \"\\u00c7er\\u00e7evelik\"}, {\"Compactness\": 0.6853, \"Perimeter\": 1192.175, \"type\": \"\\u00dcrg\\u00fcp Sivrisi\"}, {\"Compactness\": 0.6834, \"Perimeter\": 1086.947, \"type\": \"\\u00dcrg\\u00fcp Sivrisi\"}, {\"Compactness\": 0.7743, \"Perimeter\": 1212.461, \"type\": \"\\u00c7er\\u00e7evelik\"}, {\"Compactness\": 0.631, \"Perimeter\": 1222.544, \"type\": \"\\u00dcrg\\u00fcp Sivrisi\"}, {\"Compactness\": 0.7515, \"Perimeter\": 1054.015, \"type\": \"\\u00c7er\\u00e7evelik\"}, {\"Compactness\": 0.6804, \"Perimeter\": 1136.143, \"type\": \"\\u00dcrg\\u00fcp Sivrisi\"}, {\"Compactness\": 0.6406, \"Perimeter\": 1195.616, \"type\": \"\\u00dcrg\\u00fcp Sivrisi\"}, {\"Compactness\": 0.7508, \"Perimeter\": 1153.009, \"type\": \"\\u00c7er\\u00e7evelik\"}, {\"Compactness\": 0.7497, \"Perimeter\": 1079.334, \"type\": \"\\u00c7er\\u00e7evelik\"}, {\"Compactness\": 0.6739, \"Perimeter\": 1337.154, \"type\": \"\\u00dcrg\\u00fcp Sivrisi\"}, {\"Compactness\": 0.6375, \"Perimeter\": 1195.483, \"type\": \"\\u00dcrg\\u00fcp Sivrisi\"}, {\"Compactness\": 0.7221, \"Perimeter\": 1129.16, \"type\": \"\\u00c7er\\u00e7evelik\"}, {\"Compactness\": 0.7049, \"Perimeter\": 1092.085, \"type\": \"\\u00dcrg\\u00fcp Sivrisi\"}, {\"Compactness\": 0.6477, \"Perimeter\": 1020.686, \"type\": \"\\u00dcrg\\u00fcp Sivrisi\"}, {\"Compactness\": 0.7253, \"Perimeter\": 1065.98, \"type\": \"\\u00c7er\\u00e7evelik\"}, {\"Compactness\": 0.7793, \"Perimeter\": 1062.431, \"type\": \"\\u00c7er\\u00e7evelik\"}, {\"Compactness\": 0.6385, \"Perimeter\": 1275.788, \"type\": \"\\u00dcrg\\u00fcp Sivrisi\"}, {\"Compactness\": 0.652, \"Perimeter\": 1302.85, \"type\": \"\\u00dcrg\\u00fcp Sivrisi\"}, {\"Compactness\": 0.7349, \"Perimeter\": 1215.135, \"type\": \"\\u00c7er\\u00e7evelik\"}, {\"Compactness\": 0.6677, \"Perimeter\": 1028.115, \"type\": \"\\u00dcrg\\u00fcp Sivrisi\"}, {\"Compactness\": 0.7537, \"Perimeter\": 1117.917, \"type\": \"\\u00c7er\\u00e7evelik\"}, {\"Compactness\": 0.7202, \"Perimeter\": 986.37, \"type\": \"\\u00c7er\\u00e7evelik\"}, {\"Compactness\": 0.7216, \"Perimeter\": 1021.57, \"type\": \"\\u00c7er\\u00e7evelik\"}, {\"Compactness\": 0.6665, \"Perimeter\": 1071.325, \"type\": \"\\u00dcrg\\u00fcp Sivrisi\"}, {\"Compactness\": 0.6828, \"Perimeter\": 1203.872, \"type\": \"\\u00dcrg\\u00fcp Sivrisi\"}, {\"Compactness\": 0.6161, \"Perimeter\": 1136.241, \"type\": \"\\u00dcrg\\u00fcp Sivrisi\"}, {\"Compactness\": 0.7451, \"Perimeter\": 1272.418, \"type\": \"\\u00c7er\\u00e7evelik\"}, {\"Compactness\": 0.767, \"Perimeter\": 1022.204, \"type\": \"\\u00c7er\\u00e7evelik\"}, {\"Compactness\": 0.6514, \"Perimeter\": 1107.544, \"type\": \"\\u00dcrg\\u00fcp Sivrisi\"}, {\"Compactness\": 0.6301, \"Perimeter\": 1192.884, \"type\": \"\\u00dcrg\\u00fcp Sivrisi\"}, {\"Compactness\": 0.7825, \"Perimeter\": 1167.109, \"type\": \"\\u00c7er\\u00e7evelik\"}, {\"Compactness\": 0.6621, \"Perimeter\": 1220.467, \"type\": \"\\u00dcrg\\u00fcp Sivrisi\"}, {\"Compactness\": 0.773, \"Perimeter\": 1038.754, \"type\": \"\\u00dcrg\\u00fcp Sivrisi\"}, {\"Compactness\": 0.7001, \"Perimeter\": 1163.361, \"type\": \"\\u00dcrg\\u00fcp Sivrisi\"}, {\"Compactness\": 0.7292, \"Perimeter\": 1238.979, \"type\": \"\\u00c7er\\u00e7evelik\"}, {\"Compactness\": 0.7783, \"Perimeter\": 1239.755, \"type\": \"\\u00c7er\\u00e7evelik\"}, {\"Compactness\": 0.7419, \"Perimeter\": 1125.228, \"type\": \"\\u00c7er\\u00e7evelik\"}, {\"Compactness\": 0.7219, \"Perimeter\": 1198.67, \"type\": \"\\u00dcrg\\u00fcp Sivrisi\"}, {\"Compactness\": 0.6409, \"Perimeter\": 1143.323, \"type\": \"\\u00dcrg\\u00fcp Sivrisi\"}, {\"Compactness\": 0.6218, \"Perimeter\": 1208.614, \"type\": \"\\u00dcrg\\u00fcp Sivrisi\"}, {\"Compactness\": 0.6588, \"Perimeter\": 1191.6, \"type\": \"\\u00dcrg\\u00fcp Sivrisi\"}, {\"Compactness\": 0.7435, \"Perimeter\": 1025.531, \"type\": \"\\u00c7er\\u00e7evelik\"}, {\"Compactness\": 0.7216, \"Perimeter\": 1142.898, \"type\": \"\\u00c7er\\u00e7evelik\"}, {\"Compactness\": 0.6874, \"Perimeter\": 1136.496, \"type\": \"\\u00dcrg\\u00fcp Sivrisi\"}, {\"Compactness\": 0.7242, \"Perimeter\": 1172.8, \"type\": \"\\u00c7er\\u00e7evelik\"}, {\"Compactness\": 0.7884, \"Perimeter\": 936.716, \"type\": \"\\u00c7er\\u00e7evelik\"}, {\"Compactness\": 0.766, \"Perimeter\": 1120.902, \"type\": \"\\u00c7er\\u00e7evelik\"}, {\"Compactness\": 0.6449, \"Perimeter\": 1168.422, \"type\": \"\\u00dcrg\\u00fcp Sivrisi\"}, {\"Compactness\": 0.7233, \"Perimeter\": 1093.844, \"type\": \"\\u00dcrg\\u00fcp Sivrisi\"}, {\"Compactness\": 0.7857, \"Perimeter\": 1018.708, \"type\": \"\\u00c7er\\u00e7evelik\"}, {\"Compactness\": 0.6433, \"Perimeter\": 1169.906, \"type\": \"\\u00dcrg\\u00fcp Sivrisi\"}, {\"Compactness\": 0.722, \"Perimeter\": 1248.727, \"type\": \"\\u00c7er\\u00e7evelik\"}, {\"Compactness\": 0.7359, \"Perimeter\": 1241.001, \"type\": \"\\u00c7er\\u00e7evelik\"}, {\"Compactness\": 0.7414, \"Perimeter\": 1020.072, \"type\": \"\\u00c7er\\u00e7evelik\"}, {\"Compactness\": 0.7702, \"Perimeter\": 1015.746, \"type\": \"\\u00c7er\\u00e7evelik\"}, {\"Compactness\": 0.6996, \"Perimeter\": 1086.452, \"type\": \"\\u00c7er\\u00e7evelik\"}, {\"Compactness\": 0.7816, \"Perimeter\": 963.377, \"type\": \"\\u00c7er\\u00e7evelik\"}, {\"Compactness\": 0.687, \"Perimeter\": 1086.392, \"type\": \"\\u00dcrg\\u00fcp Sivrisi\"}, {\"Compactness\": 0.6909, \"Perimeter\": 1218.849, \"type\": \"\\u00dcrg\\u00fcp Sivrisi\"}, {\"Compactness\": 0.6955, \"Perimeter\": 1114.002, \"type\": \"\\u00c7er\\u00e7evelik\"}, {\"Compactness\": 0.6006, \"Perimeter\": 1419.753, \"type\": \"\\u00dcrg\\u00fcp Sivrisi\"}, {\"Compactness\": 0.6836, \"Perimeter\": 1129.938, \"type\": \"\\u00c7er\\u00e7evelik\"}, {\"Compactness\": 0.6815, \"Perimeter\": 1247.961, \"type\": \"\\u00dcrg\\u00fcp Sivrisi\"}, {\"Compactness\": 0.6302, \"Perimeter\": 1125.731, \"type\": \"\\u00dcrg\\u00fcp Sivrisi\"}, {\"Compactness\": 0.7541, \"Perimeter\": 1124.789, \"type\": \"\\u00c7er\\u00e7evelik\"}, {\"Compactness\": 0.6309, \"Perimeter\": 1244.967, \"type\": \"\\u00dcrg\\u00fcp Sivrisi\"}, {\"Compactness\": 0.7435, \"Perimeter\": 1039.588, \"type\": \"\\u00c7er\\u00e7evelik\"}, {\"Compactness\": 0.6078, \"Perimeter\": 1364.963, \"type\": \"\\u00dcrg\\u00fcp Sivrisi\"}, {\"Compactness\": 0.6606, \"Perimeter\": 1032.564, \"type\": \"\\u00dcrg\\u00fcp Sivrisi\"}, {\"Compactness\": 0.7157, \"Perimeter\": 1156.593, \"type\": \"\\u00c7er\\u00e7evelik\"}, {\"Compactness\": 0.7435, \"Perimeter\": 1074.629, \"type\": \"\\u00c7er\\u00e7evelik\"}, {\"Compactness\": 0.6815, \"Perimeter\": 1079.889, \"type\": \"\\u00dcrg\\u00fcp Sivrisi\"}, {\"Compactness\": 0.5976, \"Perimeter\": 1201.859, \"type\": \"\\u00dcrg\\u00fcp Sivrisi\"}, {\"Compactness\": 0.6463, \"Perimeter\": 1281.503, \"type\": \"\\u00dcrg\\u00fcp Sivrisi\"}, {\"Compactness\": 0.7182, \"Perimeter\": 1139.639, \"type\": \"\\u00c7er\\u00e7evelik\"}, {\"Compactness\": 0.6799, \"Perimeter\": 1021.86, \"type\": \"\\u00dcrg\\u00fcp Sivrisi\"}, {\"Compactness\": 0.6591, \"Perimeter\": 938.006, \"type\": \"\\u00dcrg\\u00fcp Sivrisi\"}, {\"Compactness\": 0.6158, \"Perimeter\": 1223.373, \"type\": \"\\u00dcrg\\u00fcp Sivrisi\"}, {\"Compactness\": 0.7458, \"Perimeter\": 992.103, \"type\": \"\\u00c7er\\u00e7evelik\"}, {\"Compactness\": 0.7488, \"Perimeter\": 1235.253, \"type\": \"\\u00c7er\\u00e7evelik\"}, {\"Compactness\": 0.7107, \"Perimeter\": 1060.149, \"type\": \"\\u00c7er\\u00e7evelik\"}, {\"Compactness\": 0.6273, \"Perimeter\": 1263.079, \"type\": \"\\u00dcrg\\u00fcp Sivrisi\"}, {\"Compactness\": 0.7076, \"Perimeter\": 1078.565, \"type\": \"\\u00c7er\\u00e7evelik\"}, {\"Compactness\": 0.6919, \"Perimeter\": 1063.55, \"type\": \"\\u00dcrg\\u00fcp Sivrisi\"}, {\"Compactness\": 0.7827, \"Perimeter\": 996.385, \"type\": \"\\u00c7er\\u00e7evelik\"}, {\"Compactness\": 0.7116, \"Perimeter\": 1240.471, \"type\": \"\\u00dcrg\\u00fcp Sivrisi\"}]}}, {\"mode\": \"vega-lite\"});\n",
       "</script>"
      ],
      "text/plain": [
       "alt.HConcatChart(...)"
      ]
     },
     "execution_count": 34,
     "metadata": {},
     "output_type": "execute_result"
    }
   ],
   "source": [
    "c1|c2"
   ]
  },
  {
   "cell_type": "markdown",
   "metadata": {
    "cell_id": "75922aa8-c6e1-46d5-9c85-550df5b37982",
    "deepnote_cell_height": 279.1875,
    "deepnote_cell_type": "markdown",
    "tags": []
   },
   "source": [
    "## Summary\n",
    "\n",
    "Either summarize what you did, or summarize the results.  About 3 sentences.\n",
    "\n",
    "I trained a  Logistic Regression model to predict the category of pumpkin seeds. And the result showed the model approximately had 87.7% accuracy on the training dataset, and 88% on the test dataset. We also compared the importance of each variable on the final output, and find Compactness and Perimeter are the most two important ones. More specifically, compactness has much more impartance than the perimeter in determining the category of the pumpkin seeds. And we can verify that with the compactness-perimeter relation chart: when compactness is bigger then 0.7, the seeds are very likely to be Cercevelik, and when it's smaller than 0.7, the seeds are likely to be Urgup Sivrisi, but perimeter doesn't have such a clear boundary. And besides, we can also verify from the chart that compactness and perimeter are negatively correlated which is consistent with their feature importance.\n"
   ]
  },
  {
   "cell_type": "markdown",
   "metadata": {
    "cell_id": "fc42153e-0b6d-4c37-9e06-ee471cfb0534",
    "deepnote_cell_height": 144.796875,
    "deepnote_cell_type": "markdown",
    "tags": []
   },
   "source": [
    "## References\n",
    "\n",
    "Include references that you found helpful.  Also say where you found the dataset you used.\n",
    "\n",
    "https://www.kaggle.com/mkoklu42/pumpkin-seeds-dataset"
   ]
  },
  {
   "cell_type": "markdown",
   "metadata": {
    "cell_id": "946b09c2-6030-44fb-be4d-02d574ffda45",
    "deepnote_cell_height": 46,
    "deepnote_cell_type": "markdown",
    "tags": []
   },
   "source": []
  },
  {
   "cell_type": "markdown",
   "metadata": {
    "created_in_deepnote_cell": true,
    "deepnote_cell_type": "markdown",
    "tags": []
   },
   "source": [
    "<a style='text-decoration:none;line-height:16px;display:flex;color:#5B5B62;padding:10px;justify-content:end;' href='https://deepnote.com?utm_source=created-in-deepnote-cell&projectId=384e5b91-32d3-4393-9938-a43d5229d6d7' target=\"_blank\">\n",
    "<img alt='Created in deepnote.com' style='display:inline;max-height:16px;margin:0px;margin-right:7.5px;' src='data:image/svg+xml;base64,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' > </img>\n",
    "Created in <span style='font-weight:600;margin-left:4px;'>Deepnote</span></a>"
   ]
  }
 ],
 "metadata": {
  "deepnote": {
   "is_reactive": false
  },
  "deepnote_execution_queue": [],
  "deepnote_notebook_id": "97afb67d-06ce-4a63-bb3d-208672377dae",
  "kernelspec": {
   "display_name": "Python 3 (ipykernel)",
   "language": "python",
   "name": "python3"
  },
  "language_info": {
   "codemirror_mode": {
    "name": "ipython",
    "version": 3
   },
   "file_extension": ".py",
   "mimetype": "text/x-python",
   "name": "python",
   "nbconvert_exporter": "python",
   "pygments_lexer": "ipython3",
   "version": "3.8.12"
  }
 },
 "nbformat": 4,
 "nbformat_minor": 4
}
