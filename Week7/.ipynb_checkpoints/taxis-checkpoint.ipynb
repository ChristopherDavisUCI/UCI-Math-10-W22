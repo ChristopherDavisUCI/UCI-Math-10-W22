{
 "cells": [
  {
   "cell_type": "code",
   "execution_count": 381,
   "id": "ef2611d9",
   "metadata": {},
   "outputs": [],
   "source": [
    "import seaborn as sns\n",
    "import numpy as np\n",
    "import pandas as pd\n",
    "import altair as alt\n",
    "from sklearn.preprocessing import StandardScaler\n",
    "from sklearn.model_selection import train_test_split\n",
    "from sklearn.neighbors import KNeighborsClassifier\n",
    "from sklearn.metrics import mean_squared_error, mean_absolute_error, log_loss"
   ]
  },
  {
   "cell_type": "code",
   "execution_count": 382,
   "id": "099ffb70",
   "metadata": {},
   "outputs": [],
   "source": [
    "df = sns.load_dataset(\"taxis\")\n",
    "df.dropna(inplace=True)"
   ]
  },
  {
   "cell_type": "code",
   "execution_count": 383,
   "id": "d51febd9",
   "metadata": {},
   "outputs": [
    {
     "data": {
      "text/plain": [
       "Index(['pickup', 'dropoff', 'passengers', 'distance', 'fare', 'tip', 'tolls',\n",
       "       'total', 'color', 'payment', 'pickup_zone', 'dropoff_zone',\n",
       "       'pickup_borough', 'dropoff_borough'],\n",
       "      dtype='object')"
      ]
     },
     "execution_count": 383,
     "metadata": {},
     "output_type": "execute_result"
    }
   ],
   "source": [
    "df.columns"
   ]
  },
  {
   "cell_type": "code",
   "execution_count": 384,
   "id": "7d35ac94",
   "metadata": {},
   "outputs": [],
   "source": [
    "df[\"hour\"] = pd.to_datetime(df.pickup).dt.hour"
   ]
  },
  {
   "cell_type": "code",
   "execution_count": 385,
   "id": "856c8dd4",
   "metadata": {},
   "outputs": [],
   "source": [
    "df[\"minute\"] = pd.to_datetime(df.pickup).dt.minute"
   ]
  },
  {
   "cell_type": "code",
   "execution_count": 386,
   "id": "d4c3eee0",
   "metadata": {},
   "outputs": [],
   "source": [
    "df[\"day\"] = pd.to_datetime(df.pickup).dt.day_name()"
   ]
  },
  {
   "cell_type": "code",
   "execution_count": 387,
   "id": "2aede943",
   "metadata": {},
   "outputs": [],
   "source": [
    "df[\"weekend\"] = pd.to_datetime(df.pickup).dt.day_name().isin([\"Sunday\",\"Saturday\"])"
   ]
  },
  {
   "cell_type": "code",
   "execution_count": 388,
   "id": "6b4b4808",
   "metadata": {},
   "outputs": [],
   "source": [
    "scaler = StandardScaler()"
   ]
  },
  {
   "cell_type": "code",
   "execution_count": 389,
   "id": "de457d36",
   "metadata": {},
   "outputs": [],
   "source": [
    "cols = [\"fare\",\"distance\",\"tip\",\"hour\",\"minute\",\"weekend\"]"
   ]
  },
  {
   "cell_type": "code",
   "execution_count": 404,
   "id": "86974ac9",
   "metadata": {},
   "outputs": [],
   "source": [
    "df[cols] = scaler.fit_transform(df[cols])"
   ]
  },
  {
   "cell_type": "code",
   "execution_count": 405,
   "id": "ab353c81",
   "metadata": {},
   "outputs": [],
   "source": [
    "X_train, X_test, y_train, y_test = train_test_split(\n",
    "    df[cols], df[\"payment\"], test_size = 0.2)"
   ]
  },
  {
   "cell_type": "code",
   "execution_count": 406,
   "id": "f642a316",
   "metadata": {},
   "outputs": [],
   "source": [
    "def get_scores(k):\n",
    "    clf = KNeighborsClassifier(n_neighbors=k)\n",
    "    clf.fit(X_train, y_train)\n",
    "    train_error = log_loss(y_train, clf.predict_proba(X_train),labels=sorted(y_train.unique()))\n",
    "    test_error = log_loss(y_test, clf.predict_proba(X_test),labels=sorted(y_train.unique()))\n",
    "    return (train_error, test_error)"
   ]
  },
  {
   "cell_type": "code",
   "execution_count": 407,
   "id": "aa5db034",
   "metadata": {},
   "outputs": [
    {
     "data": {
      "text/plain": [
       "(9.992007221626413e-16, 3.102774238786303)"
      ]
     },
     "execution_count": 407,
     "metadata": {},
     "output_type": "execute_result"
    }
   ],
   "source": [
    "get_scores(1)"
   ]
  },
  {
   "cell_type": "code",
   "execution_count": 408,
   "id": "9b78ff88",
   "metadata": {},
   "outputs": [
    {
     "data": {
      "text/plain": [
       "(0.0684674166917463, 1.6245799658825395)"
      ]
     },
     "execution_count": 408,
     "metadata": {},
     "output_type": "execute_result"
    }
   ],
   "source": [
    "get_scores(2)"
   ]
  },
  {
   "cell_type": "code",
   "execution_count": 409,
   "id": "547e5a8a",
   "metadata": {},
   "outputs": [
    {
     "data": {
      "text/plain": [
       "(0.595512045669738, 0.5971386847053295)"
      ]
     },
     "execution_count": 409,
     "metadata": {},
     "output_type": "execute_result"
    }
   ],
   "source": [
    "get_scores(len(X_train))"
   ]
  },
  {
   "cell_type": "code",
   "execution_count": 410,
   "id": "34816889",
   "metadata": {},
   "outputs": [
    {
     "data": {
      "text/plain": [
       "(0.24189282568196083, 0.23265047885023055)"
      ]
     },
     "execution_count": 410,
     "metadata": {},
     "output_type": "execute_result"
    }
   ],
   "source": [
    "get_scores(90)"
   ]
  },
  {
   "cell_type": "code",
   "execution_count": 411,
   "id": "cb75b366",
   "metadata": {},
   "outputs": [],
   "source": [
    "df_scores = pd.DataFrame({\"k\":list(range(6,100,5)),\"train_error\":np.nan,\"test_error\":np.nan})"
   ]
  },
  {
   "cell_type": "code",
   "execution_count": 412,
   "id": "decad12c",
   "metadata": {},
   "outputs": [],
   "source": [
    "df_scores[\"kinv\"] = 1/df_scores.k"
   ]
  },
  {
   "cell_type": "code",
   "execution_count": 413,
   "id": "e0b47c56",
   "metadata": {},
   "outputs": [],
   "source": [
    "for i in df_scores.index:\n",
    "    df_scores.loc[i,[\"train_error\",\"test_error\"]] = get_scores(df_scores.loc[i,\"k\"])"
   ]
  },
  {
   "cell_type": "code",
   "execution_count": 414,
   "id": "0d848286",
   "metadata": {},
   "outputs": [],
   "source": [
    "ctrain = alt.Chart(df_scores).mark_line().encode(\n",
    "    x = \"kinv\",\n",
    "    y = \"train_error\"\n",
    ")"
   ]
  },
  {
   "cell_type": "code",
   "execution_count": 415,
   "id": "7d10e508",
   "metadata": {},
   "outputs": [],
   "source": [
    "ctest = alt.Chart(df_scores).mark_line(color=\"orange\").encode(\n",
    "    x = \"kinv\",\n",
    "    y = \"test_error\"\n",
    ")"
   ]
  },
  {
   "cell_type": "code",
   "execution_count": 416,
   "id": "5c60c3c2",
   "metadata": {},
   "outputs": [
    {
     "data": {
      "text/html": [
       "\n",
       "<div id=\"altair-viz-f817517880aa455c84c9f2c046616f06\"></div>\n",
       "<script type=\"text/javascript\">\n",
       "  var VEGA_DEBUG = (typeof VEGA_DEBUG == \"undefined\") ? {} : VEGA_DEBUG;\n",
       "  (function(spec, embedOpt){\n",
       "    let outputDiv = document.currentScript.previousElementSibling;\n",
       "    if (outputDiv.id !== \"altair-viz-f817517880aa455c84c9f2c046616f06\") {\n",
       "      outputDiv = document.getElementById(\"altair-viz-f817517880aa455c84c9f2c046616f06\");\n",
       "    }\n",
       "    const paths = {\n",
       "      \"vega\": \"https://cdn.jsdelivr.net/npm//vega@5?noext\",\n",
       "      \"vega-lib\": \"https://cdn.jsdelivr.net/npm//vega-lib?noext\",\n",
       "      \"vega-lite\": \"https://cdn.jsdelivr.net/npm//vega-lite@4.17.0?noext\",\n",
       "      \"vega-embed\": \"https://cdn.jsdelivr.net/npm//vega-embed@6?noext\",\n",
       "    };\n",
       "\n",
       "    function maybeLoadScript(lib, version) {\n",
       "      var key = `${lib.replace(\"-\", \"\")}_version`;\n",
       "      return (VEGA_DEBUG[key] == version) ?\n",
       "        Promise.resolve(paths[lib]) :\n",
       "        new Promise(function(resolve, reject) {\n",
       "          var s = document.createElement('script');\n",
       "          document.getElementsByTagName(\"head\")[0].appendChild(s);\n",
       "          s.async = true;\n",
       "          s.onload = () => {\n",
       "            VEGA_DEBUG[key] = version;\n",
       "            return resolve(paths[lib]);\n",
       "          };\n",
       "          s.onerror = () => reject(`Error loading script: ${paths[lib]}`);\n",
       "          s.src = paths[lib];\n",
       "        });\n",
       "    }\n",
       "\n",
       "    function showError(err) {\n",
       "      outputDiv.innerHTML = `<div class=\"error\" style=\"color:red;\">${err}</div>`;\n",
       "      throw err;\n",
       "    }\n",
       "\n",
       "    function displayChart(vegaEmbed) {\n",
       "      vegaEmbed(outputDiv, spec, embedOpt)\n",
       "        .catch(err => showError(`Javascript Error: ${err.message}<br>This usually means there's a typo in your chart specification. See the javascript console for the full traceback.`));\n",
       "    }\n",
       "\n",
       "    if(typeof define === \"function\" && define.amd) {\n",
       "      requirejs.config({paths});\n",
       "      require([\"vega-embed\"], displayChart, err => showError(`Error loading script: ${err.message}`));\n",
       "    } else {\n",
       "      maybeLoadScript(\"vega\", \"5\")\n",
       "        .then(() => maybeLoadScript(\"vega-lite\", \"4.17.0\"))\n",
       "        .then(() => maybeLoadScript(\"vega-embed\", \"6\"))\n",
       "        .catch(showError)\n",
       "        .then(() => displayChart(vegaEmbed));\n",
       "    }\n",
       "  })({\"config\": {\"view\": {\"continuousWidth\": 400, \"continuousHeight\": 300}}, \"layer\": [{\"mark\": \"line\", \"encoding\": {\"x\": {\"field\": \"kinv\", \"type\": \"quantitative\"}, \"y\": {\"field\": \"train_error\", \"type\": \"quantitative\"}}}, {\"mark\": {\"type\": \"line\", \"color\": \"orange\"}, \"encoding\": {\"x\": {\"field\": \"kinv\", \"type\": \"quantitative\"}, \"y\": {\"field\": \"test_error\", \"type\": \"quantitative\"}}}], \"data\": {\"name\": \"data-3044994c47e44cc1ef5199be0a9aad2b\"}, \"$schema\": \"https://vega.github.io/schema/vega-lite/v4.17.0.json\", \"datasets\": {\"data-3044994c47e44cc1ef5199be0a9aad2b\": [{\"k\": 6, \"train_error\": 0.13315351024084732, \"test_error\": 0.6454568566615024, \"kinv\": 0.16666666666666666}, {\"k\": 11, \"train_error\": 0.15855123433888105, \"test_error\": 0.30119819088674554, \"kinv\": 0.09090909090909091}, {\"k\": 16, \"train_error\": 0.17295442708395306, \"test_error\": 0.2283504967635464, \"kinv\": 0.0625}, {\"k\": 21, \"train_error\": 0.18142468293022496, \"test_error\": 0.2340463079989411, \"kinv\": 0.047619047619047616}, {\"k\": 26, \"train_error\": 0.18723156106299435, \"test_error\": 0.18454047213544372, \"kinv\": 0.038461538461538464}, {\"k\": 31, \"train_error\": 0.19392518345156698, \"test_error\": 0.1884693299914852, \"kinv\": 0.03225806451612903}, {\"k\": 36, \"train_error\": 0.20040833158693755, \"test_error\": 0.19399488955719696, \"kinv\": 0.027777777777777776}, {\"k\": 41, \"train_error\": 0.20496851343473732, \"test_error\": 0.19884121498811827, \"kinv\": 0.024390243902439025}, {\"k\": 46, \"train_error\": 0.2089282321504629, \"test_error\": 0.2028650112378465, \"kinv\": 0.021739130434782608}, {\"k\": 51, \"train_error\": 0.21348091185865772, \"test_error\": 0.2059135339219943, \"kinv\": 0.0196078431372549}, {\"k\": 56, \"train_error\": 0.2177941470717869, \"test_error\": 0.20894376298164105, \"kinv\": 0.017857142857142856}, {\"k\": 61, \"train_error\": 0.2218338564609692, \"test_error\": 0.21350580857015336, \"kinv\": 0.01639344262295082}, {\"k\": 66, \"train_error\": 0.2259237075521705, \"test_error\": 0.21683623373180524, \"kinv\": 0.015151515151515152}, {\"k\": 71, \"train_error\": 0.2293564602342367, \"test_error\": 0.22086918343055492, \"kinv\": 0.014084507042253521}, {\"k\": 76, \"train_error\": 0.23296601868769795, \"test_error\": 0.2241302601420189, \"kinv\": 0.013157894736842105}, {\"k\": 81, \"train_error\": 0.23591377313866954, \"test_error\": 0.2265466242405616, \"kinv\": 0.012345679012345678}, {\"k\": 86, \"train_error\": 0.2394028141855082, \"test_error\": 0.2299856276603646, \"kinv\": 0.011627906976744186}, {\"k\": 91, \"train_error\": 0.24245215152160202, \"test_error\": 0.23291730476088138, \"kinv\": 0.01098901098901099}, {\"k\": 96, \"train_error\": 0.24565173425507372, \"test_error\": 0.23588654648254664, \"kinv\": 0.010416666666666666}]}}, {\"mode\": \"vega-lite\"});\n",
       "</script>"
      ],
      "text/plain": [
       "alt.LayerChart(...)"
      ]
     },
     "execution_count": 416,
     "metadata": {},
     "output_type": "execute_result"
    }
   ],
   "source": [
    "ctrain+ctest"
   ]
  },
  {
   "cell_type": "code",
   "execution_count": 417,
   "id": "e773e058",
   "metadata": {},
   "outputs": [
    {
     "data": {
      "text/plain": [
       "0.18454047213544372"
      ]
     },
     "execution_count": 417,
     "metadata": {},
     "output_type": "execute_result"
    }
   ],
   "source": [
    "df_scores.test_error.min()"
   ]
  },
  {
   "cell_type": "code",
   "execution_count": null,
   "id": "83966fb8",
   "metadata": {},
   "outputs": [],
   "source": []
  }
 ],
 "metadata": {
  "kernelspec": {
   "display_name": "Python 3 (ipykernel)",
   "language": "python",
   "name": "python3"
  },
  "language_info": {
   "codemirror_mode": {
    "name": "ipython",
    "version": 3
   },
   "file_extension": ".py",
   "mimetype": "text/x-python",
   "name": "python",
   "nbconvert_exporter": "python",
   "pygments_lexer": "ipython3",
   "version": "3.9.9"
  }
 },
 "nbformat": 4,
 "nbformat_minor": 5
}
