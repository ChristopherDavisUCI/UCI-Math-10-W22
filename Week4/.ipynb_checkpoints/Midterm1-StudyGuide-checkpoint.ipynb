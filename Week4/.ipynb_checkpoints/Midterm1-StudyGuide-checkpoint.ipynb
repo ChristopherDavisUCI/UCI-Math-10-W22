{
 "cells": [
  {
   "cell_type": "markdown",
   "id": "2a26fd03",
   "metadata": {},
   "source": [
    "# Midterm 1 Study Guide"
   ]
  },
  {
   "cell_type": "markdown",
   "id": "835d8c0b",
   "metadata": {},
   "source": [
    "## Pythonic Code"
   ]
  },
  {
   "cell_type": "markdown",
   "id": "d5ea49b3",
   "metadata": {},
   "source": [
    "## Working with NumPy"
   ]
  },
  {
   "cell_type": "markdown",
   "id": "04bc6ca6",
   "metadata": {},
   "source": [
    "## Working with pandas"
   ]
  },
  {
   "cell_type": "markdown",
   "id": "ca14c38c",
   "metadata": {},
   "source": [
    "## Charts in Altair"
   ]
  },
  {
   "cell_type": "code",
   "execution_count": null,
   "id": "447df4e8",
   "metadata": {},
   "outputs": [],
   "source": []
  }
 ],
 "metadata": {
  "kernelspec": {
   "display_name": "Python 3 (ipykernel)",
   "language": "python",
   "name": "python3"
  },
  "language_info": {
   "codemirror_mode": {
    "name": "ipython",
    "version": 3
   },
   "file_extension": ".py",
   "mimetype": "text/x-python",
   "name": "python",
   "nbconvert_exporter": "python",
   "pygments_lexer": "ipython3",
   "version": "3.9.9"
  }
 },
 "nbformat": 4,
 "nbformat_minor": 5
}
