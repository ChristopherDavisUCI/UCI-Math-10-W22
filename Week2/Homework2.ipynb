{
 "cells": [
  {
   "cell_type": "markdown",
   "metadata": {
    "cell_id": "00000-65d397b6-62c5-4e7b-8f8e-a5676cddba9d",
    "deepnote_cell_type": "markdown",
    "tags": []
   },
   "source": [
    "# Homework 2\n",
    "\n",
    "List your name and the names of any collaborators at the top of this notebook.\n",
    "\n",
    "(Reminder: It's encouraged to work together; you can even submit the exact same homework as another student or two students, but you must list each other's names at the top.)"
   ]
  },
  {
   "cell_type": "markdown",
   "metadata": {
    "cell_id": "00023-25a4c333-9180-47fe-8bd9-11c1a27fbaad",
    "deepnote_cell_type": "markdown",
    "tags": []
   },
   "source": [
    "## Exercise 1\n",
    "\n",
    "Using the Python function `getsizeof` (hint: you need to import a library to get access to it), find out how much space in memory the following take:\n",
    "\n",
    "1.  The integer 0.\n",
    "1.  An empty list.\n",
    "1.  A list containing the integers 1,2,3.\n",
    "1.  A list containing the strings 1,2,3.\n",
    "1.  A NumPy array containg the integers (or floats) 1,2,3.  (We haven't talked about the data type of elements inside NumPy arrays, so don't worry about that.)\n",
    "1.  The `range` object `range(0,10**100,3)`.\n"
   ]
  },
  {
   "cell_type": "markdown",
   "metadata": {
    "cell_id": "00002-667b605d-0f9d-4644-81c9-954737848b60",
    "deepnote_cell_type": "markdown",
    "tags": []
   },
   "source": [
    "## Exercise 2\n",
    "\n",
    "Write a function `make_arr` that takes as input a positive integer `n`, and as output returns a length `n` NumPy array containing random integers between 1 and 100 (inclusive).  Use the `integers` method of an object produced by NumPy's `default_rng()`."
   ]
  },
  {
   "cell_type": "markdown",
   "metadata": {
    "cell_id": "00001-bdd74195-31e4-40e3-b069-9bd18312834d",
    "deepnote_cell_type": "markdown",
    "tags": []
   },
   "source": [
    "## Exercise 3\n",
    "\n",
    "Using your function `make_arr`, create a length one million array of random integers between 1 and 100 (inclusive).  Save this array with the variable name `arr`."
   ]
  },
  {
   "cell_type": "markdown",
   "metadata": {
    "cell_id": "00005-ef8450da-56d4-4e5a-954e-9f0265635395",
    "deepnote_cell_type": "markdown",
    "tags": []
   },
   "source": [
    "## Exercise 4\n",
    "\n",
    "Compute the reciprocals of each element in `arr` by evaluating `1/arr`.  How long does it take?  (Use `%%timeit`.)"
   ]
  },
  {
   "cell_type": "markdown",
   "metadata": {
    "cell_id": "00007-96ed3942-96b4-45be-8b97-bebd8d08333c",
    "deepnote_cell_type": "markdown",
    "tags": []
   },
   "source": [
    "## Exercise 5\n",
    "\n",
    "Convert `arr` into a list called `my_list`, and then use list comprehension to compute the reciprocals of each element in `my_list`.  Time how long this takes using `%%timeit`.  (Don't include the conversion to a list in the `%%timeit` cell; do the conversion before.)"
   ]
  },
  {
   "cell_type": "markdown",
   "metadata": {
    "cell_id": "00010-6fde3207-d343-4e61-9d9f-68584d034017",
    "deepnote_cell_type": "markdown",
    "tags": []
   },
   "source": [
    "## Exercise 6\n",
    "\n",
    "In a markdown cell, indicate how the times compare for these two methods."
   ]
  },
  {
   "cell_type": "markdown",
   "metadata": {
    "cell_id": "00005-b00eff0b-3c98-4d60-ba0f-36dc5d31a665",
    "deepnote_cell_type": "markdown",
    "tags": []
   },
   "source": [
    "## Exercise 7\n",
    "\n",
    "What proportion of the elements in `arr` are equal to 100?  Answer this question a few different ways; all these answers should be equal and should be very close to `0.01`).\n",
    "\n",
    "1.  Use `my_list` that you created above and the `count` method of a list to determine how often 100 occurs.  Then divide by the total length.  (To get the total length, use `len`, don't type out the length explicitly.)\n",
    "\n",
    "1. Using list comprehension, make a list containing all the elements of `arr` which are equal to 100 (you don't need to use `my_list`; just pretend `arr` is a list and everything will work fine).  Then compute the length of this new list divided by the length of `arr`.  (This isn't a great strategy; it is mostly an excuse to practice with list comprehension.)\n",
    "\n",
    "2.  Make a Boolean array which is `True` whereever `arr` is 100 and which is `False` everywhere else.  Then use the NumPy function `np.count_nonzero`, and then divide by the length of `arr`.\n",
    "\n",
    "3.  Convert the array into a pandas Series, and then apply the method `.value_counts()`, then compute `s[100]`, where `s` represents the output of `.value_counts()`, then divide by the length of `arr`."
   ]
  },
  {
   "cell_type": "markdown",
   "metadata": {
    "cell_id": "00006-f1ec5c0a-8ead-4440-97d7-fd78402c9a67",
    "deepnote_cell_type": "markdown",
    "tags": []
   },
   "source": [
    "## Exercise 8\n",
    "\n",
    "Repeat each of the previous computations, this time using `%%timeit` to see how long they take.  In a markdown cell, report what answers you get.  (For the pandas Series part, convert to the pandas Series outside of the `%%timeit` cell... It gives NumPy an unfair advantage if that conversion is included in the timing portion.)"
   ]
  },
  {
   "cell_type": "markdown",
   "metadata": {
    "cell_id": "00021-793b0d86-1388-4deb-bf3f-57a64fae514e",
    "deepnote_cell_type": "markdown",
    "tags": []
   },
   "source": [
    "## Exercise 9\n",
    "\n",
    "In a markdown cell, answer the following question:  Was one of the four methods significantly faster than the rest?  Was one of the four methods significantly slower than the rest?"
   ]
  },
  {
   "cell_type": "markdown",
   "metadata": {
    "cell_id": "00021-766fa7be-de3a-4d02-878f-9a3828b72ed4",
    "deepnote_cell_type": "markdown",
    "tags": []
   },
   "source": [
    "## Exercise 10\n",
    "\n",
    "Many of these exercises are about how to make various operations run faster by choosing appropriate data types.  What do you think is one of the main reasons that this is relevant to data science?"
   ]
  },
  {
   "cell_type": "markdown",
   "metadata": {
    "cell_id": "00011-c71018e9-d115-4662-9314-fcdd124cf266",
    "deepnote_cell_type": "markdown",
    "tags": []
   },
   "source": [
    "## Submission\n",
    "\n",
    "Download the .ipynb file for this notebook (click on the folder icon to the left, then the ... next to the file name) and upload the file on Canvas."
   ]
  }
 ],
 "metadata": {
  "deepnote": {
   "is_reactive": false
  },
  "deepnote_execution_queue": [],
  "deepnote_notebook_id": "981c5ff1-1b13-4544-996f-232d72955a50",
  "kernelspec": {
   "display_name": "Python 3 (ipykernel)",
   "language": "python",
   "name": "python3"
  },
  "language_info": {
   "codemirror_mode": {
    "name": "ipython",
    "version": 3
   },
   "file_extension": ".py",
   "mimetype": "text/x-python",
   "name": "python",
   "nbconvert_exporter": "python",
   "pygments_lexer": "ipython3",
   "version": "3.9.9"
  }
 },
 "nbformat": 4,
 "nbformat_minor": 4
}
