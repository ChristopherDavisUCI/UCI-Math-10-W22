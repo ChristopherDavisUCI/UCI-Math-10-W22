{
 "cells": [
  {
   "cell_type": "markdown",
   "metadata": {
    "cell_id": "171be845-7a4a-45db-9d8b-e00b7f9ed49f",
    "deepnote_cell_height": 157.10000610351562,
    "deepnote_cell_type": "markdown",
    "tags": []
   },
   "source": [
    "# Final Project NBA Players\n",
    "\n",
    "Author: Rex Kim \n",
    "\n",
    "Course Project Preparation, UC Irvine, Math 10, W22"
   ]
  },
  {
   "cell_type": "markdown",
   "metadata": {
    "cell_id": "00002-8ebe9aa5-e1e3-4d0b-9513-731a3f17aa22",
    "deepnote_cell_height": 153.5,
    "deepnote_cell_type": "markdown",
    "tags": []
   },
   "source": [
    "## Introduction\n",
    "\n",
    "This project dives into advanced statistics of current NBA players in the 2021-2022 NBA season. Different statistical categories include win shares (WS), value over replacement player (VORP), and box plus/minus. I'm going to discover how the NBA ranks its top 10 current NBA players based on the categories just listed as well as other main stats such as points, rebounds, and assists. "
   ]
  },
  {
   "cell_type": "markdown",
   "metadata": {
    "cell_id": "00003-56f3aa6b-077c-42d3-b3f8-415b0af28197",
    "deepnote_cell_height": 108.69999694824219,
    "deepnote_cell_type": "markdown",
    "tags": []
   },
   "source": [
    "## Main portion of the project\n",
    "\n",
    "(You can either have all one section or divide into multiple sections)"
   ]
  },
  {
   "cell_type": "code",
   "execution_count": null,
   "metadata": {
    "cell_id": "00004-6ec752fb-d866-474d-8bd3-ddd49b90cd11",
    "deepnote_cell_height": 928.75,
    "deepnote_cell_type": "code",
    "deepnote_table_invalid": false,
    "deepnote_table_loading": false,
    "deepnote_table_state": {
     "filters": [],
     "pageIndex": 16,
     "pageSize": 10,
     "sortBy": []
    },
    "deepnote_to_be_reexecuted": false,
    "execution_millis": 6319,
    "execution_start": 1647314435900,
    "source_hash": "9e8f7f57",
    "tags": []
   },
   "outputs": [
    {
     "data": {
      "application/vnd.deepnote.dataframe.v3+json": {
       "column_count": 26,
       "columns": [
        {
         "dtype": "object",
         "name": "Player",
         "stats": {
          "categories": [
           {
            "count": 4,
            "name": "Jordan McRae"
           },
           {
            "count": 4,
            "name": "Anthony Tolliver"
           },
           {
            "count": 643,
            "name": "527 others"
           }
          ],
          "nan_count": 0,
          "unique_count": 529
         }
        },
        {
         "dtype": "object",
         "name": "Pos",
         "stats": {
          "categories": [
           {
            "count": 169,
            "name": "SG"
           },
           {
            "count": 136,
            "name": "PF"
           },
           {
            "count": 346,
            "name": "7 others"
           }
          ],
          "nan_count": 0,
          "unique_count": 9
         }
        },
        {
         "dtype": "int64",
         "name": "Age",
         "stats": {
          "histogram": [
           {
            "bin_end": 21.4,
            "bin_start": 19,
            "count": 81
           },
           {
            "bin_end": 23.8,
            "bin_start": 21.4,
            "count": 133
           },
           {
            "bin_end": 26.2,
            "bin_start": 23.8,
            "count": 191
           },
           {
            "bin_end": 28.6,
            "bin_start": 26.2,
            "count": 90
           },
           {
            "bin_end": 31,
            "bin_start": 28.6,
            "count": 67
           },
           {
            "bin_end": 33.4,
            "bin_start": 31,
            "count": 60
           },
           {
            "bin_end": 35.8,
            "bin_start": 33.4,
            "count": 23
           },
           {
            "bin_end": 38.2,
            "bin_start": 35.8,
            "count": 3
           },
           {
            "bin_end": 40.599999999999994,
            "bin_start": 38.2,
            "count": 2
           },
           {
            "bin_end": 43,
            "bin_start": 40.599999999999994,
            "count": 1
           }
          ],
          "max": "43",
          "min": "19",
          "nan_count": 0,
          "unique_count": 22
         }
        },
        {
         "dtype": "object",
         "name": "Tm",
         "stats": {
          "categories": [
           {
            "count": 60,
            "name": "TOT"
           },
           {
            "count": 24,
            "name": "BRK"
           },
           {
            "count": 567,
            "name": "29 others"
           }
          ],
          "nan_count": 0,
          "unique_count": 31
         }
        },
        {
         "dtype": "int64",
         "name": "G",
         "stats": {
          "histogram": [
           {
            "bin_end": 8.3,
            "bin_start": 1,
            "count": 90
           },
           {
            "bin_end": 15.6,
            "bin_start": 8.3,
            "count": 73
           },
           {
            "bin_end": 22.9,
            "bin_start": 15.6,
            "count": 52
           },
           {
            "bin_end": 30.2,
            "bin_start": 22.9,
            "count": 48
           },
           {
            "bin_end": 37.5,
            "bin_start": 30.2,
            "count": 42
           },
           {
            "bin_end": 44.8,
            "bin_start": 37.5,
            "count": 47
           },
           {
            "bin_end": 52.1,
            "bin_start": 44.8,
            "count": 55
           },
           {
            "bin_end": 59.4,
            "bin_start": 52.1,
            "count": 83
           },
           {
            "bin_end": 66.7,
            "bin_start": 59.4,
            "count": 92
           },
           {
            "bin_end": 74,
            "bin_start": 66.7,
            "count": 69
           }
          ],
          "max": "74",
          "min": "1",
          "nan_count": 0,
          "unique_count": 74
         }
        },
        {
         "dtype": "int64",
         "name": "MP",
         "stats": {
          "histogram": [
           {
            "bin_end": 256.5,
            "bin_start": 1,
            "count": 182
           },
           {
            "bin_end": 512,
            "bin_start": 256.5,
            "count": 95
           },
           {
            "bin_end": 767.5,
            "bin_start": 512,
            "count": 55
           },
           {
            "bin_end": 1023,
            "bin_start": 767.5,
            "count": 67
           },
           {
            "bin_end": 1278.5,
            "bin_start": 1023,
            "count": 57
           },
           {
            "bin_end": 1534,
            "bin_start": 1278.5,
            "count": 51
           },
           {
            "bin_end": 1789.5,
            "bin_start": 1534,
            "count": 53
           },
           {
            "bin_end": 2045,
            "bin_start": 1789.5,
            "count": 46
           },
           {
            "bin_end": 2300.5,
            "bin_start": 2045,
            "count": 31
           },
           {
            "bin_end": 2556,
            "bin_start": 2300.5,
            "count": 14
           }
          ],
          "max": "2556",
          "min": "1",
          "nan_count": 0,
          "unique_count": 528
         }
        },
        {
         "dtype": "float64",
         "name": "PER",
         "stats": {
          "histogram": [
           {
            "bin_end": -9.009999999999998,
            "bin_start": -13.7,
            "count": 4
           },
           {
            "bin_end": -4.3199999999999985,
            "bin_start": -9.009999999999998,
            "count": 5
           },
           {
            "bin_end": 0.370000000000001,
            "bin_start": -4.3199999999999985,
            "count": 11
           },
           {
            "bin_end": 5.060000000000002,
            "bin_start": 0.370000000000001,
            "count": 29
           },
           {
            "bin_end": 9.750000000000004,
            "bin_start": 5.060000000000002,
            "count": 134
           },
           {
            "bin_end": 14.440000000000001,
            "bin_start": 9.750000000000004,
            "count": 233
           },
           {
            "bin_end": 19.130000000000006,
            "bin_start": 14.440000000000001,
            "count": 155
           },
           {
            "bin_end": 23.820000000000004,
            "bin_start": 19.130000000000006,
            "count": 57
           },
           {
            "bin_end": 28.51,
            "bin_start": 23.820000000000004,
            "count": 17
           },
           {
            "bin_end": 33.2,
            "bin_start": 28.51,
            "count": 6
           }
          ],
          "max": "33.2",
          "min": "-13.7",
          "nan_count": 0,
          "unique_count": 222
         }
        },
        {
         "dtype": "float64",
         "name": "TS%",
         "stats": {
          "histogram": [
           {
            "bin_end": 0.0902,
            "bin_start": 0,
            "count": 6
           },
           {
            "bin_end": 0.1804,
            "bin_start": 0.0902,
            "count": 2
           },
           {
            "bin_end": 0.2706,
            "bin_start": 0.1804,
            "count": 5
           },
           {
            "bin_end": 0.3608,
            "bin_start": 0.2706,
            "count": 15
           },
           {
            "bin_end": 0.451,
            "bin_start": 0.3608,
            "count": 55
           },
           {
            "bin_end": 0.5412,
            "bin_start": 0.451,
            "count": 207
           },
           {
            "bin_end": 0.6314,
            "bin_start": 0.5412,
            "count": 295
           },
           {
            "bin_end": 0.7216,
            "bin_start": 0.6314,
            "count": 52
           },
           {
            "bin_end": 0.8118000000000001,
            "bin_start": 0.7216,
            "count": 10
           },
           {
            "bin_end": 0.902,
            "bin_start": 0.8118000000000001,
            "count": 2
           }
          ],
          "max": "0.902",
          "min": "0.0",
          "nan_count": 2,
          "unique_count": 273
         }
        },
        {
         "dtype": "float64",
         "name": "3PAr",
         "stats": {
          "histogram": [
           {
            "bin_end": 0.1,
            "bin_start": 0,
            "count": 85
           },
           {
            "bin_end": 0.2,
            "bin_start": 0.1,
            "count": 35
           },
           {
            "bin_end": 0.30000000000000004,
            "bin_start": 0.2,
            "count": 68
           },
           {
            "bin_end": 0.4,
            "bin_start": 0.30000000000000004,
            "count": 125
           },
           {
            "bin_end": 0.5,
            "bin_start": 0.4,
            "count": 142
           },
           {
            "bin_end": 0.6000000000000001,
            "bin_start": 0.5,
            "count": 98
           },
           {
            "bin_end": 0.7000000000000001,
            "bin_start": 0.6000000000000001,
            "count": 49
           },
           {
            "bin_end": 0.8,
            "bin_start": 0.7000000000000001,
            "count": 30
           },
           {
            "bin_end": 0.9,
            "bin_start": 0.8,
            "count": 13
           },
           {
            "bin_end": 1,
            "bin_start": 0.9,
            "count": 4
           }
          ],
          "max": "1.0",
          "min": "0.0",
          "nan_count": 2,
          "unique_count": 411
         }
        },
        {
         "dtype": "float64",
         "name": "FTr",
         "stats": {
          "histogram": [
           {
            "bin_end": 0.2,
            "bin_start": 0,
            "count": 258
           },
           {
            "bin_end": 0.4,
            "bin_start": 0.2,
            "count": 301
           },
           {
            "bin_end": 0.6000000000000001,
            "bin_start": 0.4,
            "count": 63
           },
           {
            "bin_end": 0.8,
            "bin_start": 0.6000000000000001,
            "count": 18
           },
           {
            "bin_end": 1,
            "bin_start": 0.8,
            "count": 2
           },
           {
            "bin_end": 1.2000000000000002,
            "bin_start": 1,
            "count": 4
           },
           {
            "bin_end": 1.4000000000000001,
            "bin_start": 1.2000000000000002,
            "count": 0
           },
           {
            "bin_end": 1.6,
            "bin_start": 1.4000000000000001,
            "count": 2
           },
           {
            "bin_end": 1.8,
            "bin_start": 1.6,
            "count": 0
           },
           {
            "bin_end": 2,
            "bin_start": 1.8,
            "count": 1
           }
          ],
          "max": "2.0",
          "min": "0.0",
          "nan_count": 2,
          "unique_count": 315
         }
        },
        {
         "dtype": "float64",
         "name": "ORB%",
         "stats": {
          "histogram": [
           {
            "bin_end": 8.09,
            "bin_start": 0,
            "count": 519
           },
           {
            "bin_end": 16.18,
            "bin_start": 8.09,
            "count": 123
           },
           {
            "bin_end": 24.27,
            "bin_start": 16.18,
            "count": 7
           },
           {
            "bin_end": 32.36,
            "bin_start": 24.27,
            "count": 1
           },
           {
            "bin_end": 40.45,
            "bin_start": 32.36,
            "count": 0
           },
           {
            "bin_end": 48.54,
            "bin_start": 40.45,
            "count": 0
           },
           {
            "bin_end": 56.629999999999995,
            "bin_start": 48.54,
            "count": 0
           },
           {
            "bin_end": 64.72,
            "bin_start": 56.629999999999995,
            "count": 0
           },
           {
            "bin_end": 72.81,
            "bin_start": 64.72,
            "count": 0
           },
           {
            "bin_end": 80.9,
            "bin_start": 72.81,
            "count": 1
           }
          ],
          "max": "80.9",
          "min": "0.0",
          "nan_count": 0,
          "unique_count": 143
         }
        },
        {
         "dtype": "float64",
         "name": "DRB%",
         "stats": {
          "histogram": [
           {
            "bin_end": 7.470000000000001,
            "bin_start": 0,
            "count": 49
           },
           {
            "bin_end": 14.940000000000001,
            "bin_start": 7.470000000000001,
            "count": 305
           },
           {
            "bin_end": 22.410000000000004,
            "bin_start": 14.940000000000001,
            "count": 202
           },
           {
            "bin_end": 29.880000000000003,
            "bin_start": 22.410000000000004,
            "count": 72
           },
           {
            "bin_end": 37.35,
            "bin_start": 29.880000000000003,
            "count": 18
           },
           {
            "bin_end": 44.82000000000001,
            "bin_start": 37.35,
            "count": 2
           },
           {
            "bin_end": 52.290000000000006,
            "bin_start": 44.82000000000001,
            "count": 1
           },
           {
            "bin_end": 59.760000000000005,
            "bin_start": 52.290000000000006,
            "count": 1
           },
           {
            "bin_end": 67.23,
            "bin_start": 59.760000000000005,
            "count": 0
           },
           {
            "bin_end": 74.7,
            "bin_start": 67.23,
            "count": 1
           }
          ],
          "max": "74.7",
          "min": "0.0",
          "nan_count": 0,
          "unique_count": 233
         }
        },
        {
         "dtype": "float64",
         "name": "TRB%",
         "stats": {
          "histogram": [
           {
            "bin_end": 5.39,
            "bin_start": 0,
            "count": 86
           },
           {
            "bin_end": 10.78,
            "bin_start": 5.39,
            "count": 332
           },
           {
            "bin_end": 16.169999999999998,
            "bin_start": 10.78,
            "count": 145
           },
           {
            "bin_end": 21.56,
            "bin_start": 16.169999999999998,
            "count": 66
           },
           {
            "bin_end": 26.95,
            "bin_start": 21.56,
            "count": 19
           },
           {
            "bin_end": 32.339999999999996,
            "bin_start": 26.95,
            "count": 1
           },
           {
            "bin_end": 37.73,
            "bin_start": 32.339999999999996,
            "count": 1
           },
           {
            "bin_end": 43.12,
            "bin_start": 37.73,
            "count": 0
           },
           {
            "bin_end": 48.51,
            "bin_start": 43.12,
            "count": 0
           },
           {
            "bin_end": 53.9,
            "bin_start": 48.51,
            "count": 1
           }
          ],
          "max": "53.9",
          "min": "0.0",
          "nan_count": 0,
          "unique_count": 187
         }
        },
        {
         "dtype": "float64",
         "name": "AST%",
         "stats": {
          "histogram": [
           {
            "bin_end": 10,
            "bin_start": 0,
            "count": 306
           },
           {
            "bin_end": 20,
            "bin_start": 10,
            "count": 230
           },
           {
            "bin_end": 30,
            "bin_start": 20,
            "count": 72
           },
           {
            "bin_end": 40,
            "bin_start": 30,
            "count": 37
           },
           {
            "bin_end": 50,
            "bin_start": 40,
            "count": 5
           },
           {
            "bin_end": 60,
            "bin_start": 50,
            "count": 0
           },
           {
            "bin_end": 70,
            "bin_start": 60,
            "count": 0
           },
           {
            "bin_end": 80,
            "bin_start": 70,
            "count": 0
           },
           {
            "bin_end": 90,
            "bin_start": 80,
            "count": 0
           },
           {
            "bin_end": 100,
            "bin_start": 90,
            "count": 1
           }
          ],
          "max": "100.0",
          "min": "0.0",
          "nan_count": 0,
          "unique_count": 241
         }
        },
        {
         "dtype": "float64",
         "name": "STL%",
         "stats": {
          "histogram": [
           {
            "bin_end": 1.6199999999999999,
            "bin_start": 0,
            "count": 416
           },
           {
            "bin_end": 3.2399999999999998,
            "bin_start": 1.6199999999999999,
            "count": 209
           },
           {
            "bin_end": 4.859999999999999,
            "bin_start": 3.2399999999999998,
            "count": 20
           },
           {
            "bin_end": 6.4799999999999995,
            "bin_start": 4.859999999999999,
            "count": 5
           },
           {
            "bin_end": 8.1,
            "bin_start": 6.4799999999999995,
            "count": 0
           },
           {
            "bin_end": 9.719999999999999,
            "bin_start": 8.1,
            "count": 0
           },
           {
            "bin_end": 11.34,
            "bin_start": 9.719999999999999,
            "count": 0
           },
           {
            "bin_end": 12.959999999999999,
            "bin_start": 11.34,
            "count": 0
           },
           {
            "bin_end": 14.579999999999998,
            "bin_start": 12.959999999999999,
            "count": 0
           },
           {
            "bin_end": 16.2,
            "bin_start": 14.579999999999998,
            "count": 1
           }
          ],
          "max": "16.2",
          "min": "0.0",
          "nan_count": 0,
          "unique_count": 47
         }
        },
        {
         "dtype": "float64",
         "name": "BLK%",
         "stats": {
          "histogram": [
           {
            "bin_end": 1.1400000000000001,
            "bin_start": 0,
            "count": 280
           },
           {
            "bin_end": 2.2800000000000002,
            "bin_start": 1.1400000000000001,
            "count": 192
           },
           {
            "bin_end": 3.4200000000000004,
            "bin_start": 2.2800000000000002,
            "count": 70
           },
           {
            "bin_end": 4.5600000000000005,
            "bin_start": 3.4200000000000004,
            "count": 50
           },
           {
            "bin_end": 5.700000000000001,
            "bin_start": 4.5600000000000005,
            "count": 31
           },
           {
            "bin_end": 6.840000000000001,
            "bin_start": 5.700000000000001,
            "count": 11
           },
           {
            "bin_end": 7.98,
            "bin_start": 6.840000000000001,
            "count": 7
           },
           {
            "bin_end": 9.120000000000001,
            "bin_start": 7.98,
            "count": 8
           },
           {
            "bin_end": 10.260000000000002,
            "bin_start": 9.120000000000001,
            "count": 0
           },
           {
            "bin_end": 11.4,
            "bin_start": 10.260000000000002,
            "count": 2
           }
          ],
          "max": "11.4",
          "min": "0.0",
          "nan_count": 0,
          "unique_count": 75
         }
        },
        {
         "dtype": "float64",
         "name": "TOV%",
         "stats": {
          "histogram": [
           {
            "bin_end": 7.140000000000001,
            "bin_start": 0,
            "count": 56
           },
           {
            "bin_end": 14.280000000000001,
            "bin_start": 7.140000000000001,
            "count": 372
           },
           {
            "bin_end": 21.42,
            "bin_start": 14.280000000000001,
            "count": 184
           },
           {
            "bin_end": 28.560000000000002,
            "bin_start": 21.42,
            "count": 21
           },
           {
            "bin_end": 35.7,
            "bin_start": 28.560000000000002,
            "count": 5
           },
           {
            "bin_end": 42.84,
            "bin_start": 35.7,
            "count": 6
           },
           {
            "bin_end": 49.980000000000004,
            "bin_start": 42.84,
            "count": 1
           },
           {
            "bin_end": 57.120000000000005,
            "bin_start": 49.980000000000004,
            "count": 3
           },
           {
            "bin_end": 64.26,
            "bin_start": 57.120000000000005,
            "count": 0
           },
           {
            "bin_end": 71.4,
            "bin_start": 64.26,
            "count": 1
           }
          ],
          "max": "71.4",
          "min": "0.0",
          "nan_count": 2,
          "unique_count": 184
         }
        },
        {
         "dtype": "float64",
         "name": "USG%",
         "stats": {
          "histogram": [
           {
            "bin_end": 4.32,
            "bin_start": 0,
            "count": 2
           },
           {
            "bin_end": 8.64,
            "bin_start": 4.32,
            "count": 10
           },
           {
            "bin_end": 12.96,
            "bin_start": 8.64,
            "count": 81
           },
           {
            "bin_end": 17.28,
            "bin_start": 12.96,
            "count": 219
           },
           {
            "bin_end": 21.6,
            "bin_start": 17.28,
            "count": 179
           },
           {
            "bin_end": 25.92,
            "bin_start": 21.6,
            "count": 104
           },
           {
            "bin_end": 30.240000000000002,
            "bin_start": 25.92,
            "count": 34
           },
           {
            "bin_end": 34.56,
            "bin_start": 30.240000000000002,
            "count": 16
           },
           {
            "bin_end": 38.88,
            "bin_start": 34.56,
            "count": 4
           },
           {
            "bin_end": 43.2,
            "bin_start": 38.88,
            "count": 2
           }
          ],
          "max": "43.2",
          "min": "0.0",
          "nan_count": 0,
          "unique_count": 208
         }
        },
        {
         "dtype": "float64",
         "name": "OWS",
         "stats": {
          "histogram": [
           {
            "bin_end": -0.43999999999999995,
            "bin_start": -1.7,
            "count": 30
           },
           {
            "bin_end": 0.8200000000000001,
            "bin_start": -0.43999999999999995,
            "count": 390
           },
           {
            "bin_end": 2.08,
            "bin_start": 0.8200000000000001,
            "count": 115
           },
           {
            "bin_end": 3.34,
            "bin_start": 2.08,
            "count": 69
           },
           {
            "bin_end": 4.6,
            "bin_start": 3.34,
            "count": 28
           },
           {
            "bin_end": 5.86,
            "bin_start": 4.6,
            "count": 7
           },
           {
            "bin_end": 7.12,
            "bin_start": 5.86,
            "count": 10
           },
           {
            "bin_end": 8.38,
            "bin_start": 7.12,
            "count": 0
           },
           {
            "bin_end": 9.64,
            "bin_start": 8.38,
            "count": 0
           },
           {
            "bin_end": 10.9,
            "bin_start": 9.64,
            "count": 2
           }
          ],
          "max": "10.9",
          "min": "-1.7",
          "nan_count": 0,
          "unique_count": 75
         }
        },
        {
         "dtype": "float64",
         "name": "DWS",
         "stats": {
          "histogram": [
           {
            "bin_end": 0.41000000000000003,
            "bin_start": -0.1,
            "count": 291
           },
           {
            "bin_end": 0.92,
            "bin_start": 0.41000000000000003,
            "count": 138
           },
           {
            "bin_end": 1.43,
            "bin_start": 0.92,
            "count": 73
           },
           {
            "bin_end": 1.94,
            "bin_start": 1.43,
            "count": 67
           },
           {
            "bin_end": 2.4499999999999997,
            "bin_start": 1.94,
            "count": 36
           },
           {
            "bin_end": 2.96,
            "bin_start": 2.4499999999999997,
            "count": 20
           },
           {
            "bin_end": 3.47,
            "bin_start": 2.96,
            "count": 16
           },
           {
            "bin_end": 3.98,
            "bin_start": 3.47,
            "count": 6
           },
           {
            "bin_end": 4.49,
            "bin_start": 3.98,
            "count": 3
           },
           {
            "bin_end": 5,
            "bin_start": 4.49,
            "count": 1
           }
          ],
          "max": "5.0",
          "min": "-0.1",
          "nan_count": 0,
          "unique_count": 43
         }
        },
        {
         "dtype": "float64",
         "name": "WS",
         "stats": {
          "histogram": [
           {
            "bin_end": 0.1399999999999999,
            "bin_start": -1.3,
            "count": 162
           },
           {
            "bin_end": 1.5799999999999998,
            "bin_start": 0.1399999999999999,
            "count": 228
           },
           {
            "bin_end": 3.0200000000000005,
            "bin_start": 1.5799999999999998,
            "count": 112
           },
           {
            "bin_end": 4.46,
            "bin_start": 3.0200000000000005,
            "count": 77
           },
           {
            "bin_end": 5.8999999999999995,
            "bin_start": 4.46,
            "count": 37
           },
           {
            "bin_end": 7.340000000000001,
            "bin_start": 5.8999999999999995,
            "count": 17
           },
           {
            "bin_end": 8.78,
            "bin_start": 7.340000000000001,
            "count": 8
           },
           {
            "bin_end": 10.219999999999999,
            "bin_start": 8.78,
            "count": 5
           },
           {
            "bin_end": 11.659999999999998,
            "bin_start": 10.219999999999999,
            "count": 4
           },
           {
            "bin_end": 13.1,
            "bin_start": 11.659999999999998,
            "count": 1
           }
          ],
          "max": "13.1",
          "min": "-1.3",
          "nan_count": 0,
          "unique_count": 93
         }
        },
        {
         "dtype": "float64",
         "name": "WS/48",
         "stats": {
          "histogram": [
           {
            "bin_end": -0.4026,
            "bin_start": -0.502,
            "count": 1
           },
           {
            "bin_end": -0.3032,
            "bin_start": -0.4026,
            "count": 3
           },
           {
            "bin_end": -0.20379999999999998,
            "bin_start": -0.3032,
            "count": 3
           },
           {
            "bin_end": -0.10439999999999999,
            "bin_start": -0.20379999999999998,
            "count": 16
           },
           {
            "bin_end": -0.0050000000000000044,
            "bin_start": -0.10439999999999999,
            "count": 63
           },
           {
            "bin_end": 0.09440000000000004,
            "bin_start": -0.0050000000000000044,
            "count": 298
           },
           {
            "bin_end": 0.19379999999999997,
            "bin_start": 0.09440000000000004,
            "count": 226
           },
           {
            "bin_end": 0.2932,
            "bin_start": 0.19379999999999997,
            "count": 37
           },
           {
            "bin_end": 0.39260000000000006,
            "bin_start": 0.2932,
            "count": 2
           },
           {
            "bin_end": 0.492,
            "bin_start": 0.39260000000000006,
            "count": 2
           }
          ],
          "max": "0.492",
          "min": "-0.502",
          "nan_count": 0,
          "unique_count": 270
         }
        },
        {
         "dtype": "float64",
         "name": "OBPM",
         "stats": {
          "histogram": [
           {
            "bin_end": -12.889999999999999,
            "bin_start": -15.7,
            "count": 6
           },
           {
            "bin_end": -10.079999999999998,
            "bin_start": -12.889999999999999,
            "count": 8
           },
           {
            "bin_end": -7.27,
            "bin_start": -10.079999999999998,
            "count": 17
           },
           {
            "bin_end": -4.459999999999999,
            "bin_start": -7.27,
            "count": 68
           },
           {
            "bin_end": -1.6499999999999986,
            "bin_start": -4.459999999999999,
            "count": 190
           },
           {
            "bin_end": 1.1600000000000001,
            "bin_start": -1.6499999999999986,
            "count": 245
           },
           {
            "bin_end": 3.9700000000000024,
            "bin_start": 1.1600000000000001,
            "count": 93
           },
           {
            "bin_end": 6.780000000000001,
            "bin_start": 3.9700000000000024,
            "count": 17
           },
           {
            "bin_end": 9.59,
            "bin_start": 6.780000000000001,
            "count": 6
           },
           {
            "bin_end": 12.4,
            "bin_start": 9.59,
            "count": 1
           }
          ],
          "max": "12.4",
          "min": "-15.7",
          "nan_count": 0,
          "unique_count": 154
         }
        },
        {
         "dtype": "float64",
         "name": "DBPM",
         "stats": {
          "histogram": [
           {
            "bin_end": -18.76,
            "bin_start": -22.1,
            "count": 1
           },
           {
            "bin_end": -15.42,
            "bin_start": -18.76,
            "count": 0
           },
           {
            "bin_end": -12.079999999999998,
            "bin_start": -15.42,
            "count": 0
           },
           {
            "bin_end": -8.739999999999998,
            "bin_start": -12.079999999999998,
            "count": 1
           },
           {
            "bin_end": -5.399999999999999,
            "bin_start": -8.739999999999998,
            "count": 3
           },
           {
            "bin_end": -2.059999999999995,
            "bin_start": -5.399999999999999,
            "count": 51
           },
           {
            "bin_end": 1.2800000000000047,
            "bin_start": -2.059999999999995,
            "count": 489
           },
           {
            "bin_end": 4.6200000000000045,
            "bin_start": 1.2800000000000047,
            "count": 101
           },
           {
            "bin_end": 7.960000000000004,
            "bin_start": 4.6200000000000045,
            "count": 4
           },
           {
            "bin_end": 11.3,
            "bin_start": 7.960000000000004,
            "count": 1
           }
          ],
          "max": "11.3",
          "min": "-22.1",
          "nan_count": 0,
          "unique_count": 91
         }
        },
        {
         "dtype": "float64",
         "name": "BPM",
         "stats": {
          "histogram": [
           {
            "bin_end": -21.63,
            "bin_start": -25.7,
            "count": 2
           },
           {
            "bin_end": -17.56,
            "bin_start": -21.63,
            "count": 1
           },
           {
            "bin_end": -13.489999999999998,
            "bin_start": -17.56,
            "count": 8
           },
           {
            "bin_end": -9.419999999999998,
            "bin_start": -13.489999999999998,
            "count": 23
           },
           {
            "bin_end": -5.349999999999998,
            "bin_start": -9.419999999999998,
            "count": 64
           },
           {
            "bin_end": -1.2799999999999976,
            "bin_start": -5.349999999999998,
            "count": 241
           },
           {
            "bin_end": 2.7900000000000027,
            "bin_start": -1.2799999999999976,
            "count": 260
           },
           {
            "bin_end": 6.860000000000003,
            "bin_start": 2.7900000000000027,
            "count": 39
           },
           {
            "bin_end": 10.930000000000003,
            "bin_start": 6.860000000000003,
            "count": 10
           },
           {
            "bin_end": 15,
            "bin_start": 10.930000000000003,
            "count": 3
           }
          ],
          "max": "15.0",
          "min": "-25.7",
          "nan_count": 0,
          "unique_count": 168
         }
        },
        {
         "dtype": "float64",
         "name": "VORP",
         "stats": {
          "histogram": [
           {
            "bin_end": -0.7999999999999999,
            "bin_start": -1.7,
            "count": 13
           },
           {
            "bin_end": 0.10000000000000009,
            "bin_start": -0.7999999999999999,
            "count": 366
           },
           {
            "bin_end": 1.0000000000000002,
            "bin_start": 0.10000000000000009,
            "count": 164
           },
           {
            "bin_end": 1.9000000000000001,
            "bin_start": 1.0000000000000002,
            "count": 67
           },
           {
            "bin_end": 2.8,
            "bin_start": 1.9000000000000001,
            "count": 20
           },
           {
            "bin_end": 3.7,
            "bin_start": 2.8,
            "count": 12
           },
           {
            "bin_end": 4.6,
            "bin_start": 3.7,
            "count": 1
           },
           {
            "bin_end": 5.5,
            "bin_start": 4.6,
            "count": 3
           },
           {
            "bin_end": 6.3999999999999995,
            "bin_start": 5.5,
            "count": 3
           },
           {
            "bin_end": 7.3,
            "bin_start": 6.3999999999999995,
            "count": 2
           }
          ],
          "max": "7.3",
          "min": "-1.7",
          "nan_count": 0,
          "unique_count": 55
         }
        },
        {
         "dtype": "int64",
         "name": "_deepnote_index_column"
        }
       ],
       "row_count": 651,
       "rows": [
        {
         "3PAr": 0.709,
         "AST%": 4.1,
         "Age": 28,
         "BLK%": 0.6,
         "BPM": -2.2,
         "DBPM": -1.1,
         "DRB%": 8.1,
         "DWS": 0.4,
         "FTr": 0.101,
         "G": 41,
         "MP": 456,
         "OBPM": -1.2,
         "ORB%": 2.9,
         "OWS": 0.2,
         "PER": 9,
         "Player": "Troy Daniels",
         "Pos": "SG",
         "STL%": 0.8,
         "TOV%": 5.2,
         "TRB%": 5.5,
         "TS%": 0.527,
         "Tm": "LAL",
         "USG%": 16.1,
         "VORP": 0,
         "WS": 0.7,
         "WS/48": 0.069,
         "_deepnote_index_column": 160
        },
        {
         "3PAr": 0.714,
         "AST%": 5.4,
         "Age": 28,
         "BLK%": 0,
         "BPM": -7.2,
         "DBPM": -2.4,
         "DRB%": 8.8,
         "DWS": 0.1,
         "FTr": 0,
         "G": 6,
         "MP": 76,
         "OBPM": -4.8,
         "ORB%": 0,
         "OWS": -0.1,
         "PER": 5.3,
         "Player": "Troy Daniels",
         "Pos": "SG",
         "STL%": 2,
         "TOV%": 9.7,
         "TRB%": 4.4,
         "TS%": 0.464,
         "Tm": "DEN",
         "USG%": 17.7,
         "VORP": -0.1,
         "WS": 0,
         "WS/48": -0.025,
         "_deepnote_index_column": 161
        },
        {
         "3PAr": 0.199,
         "AST%": 15.1,
         "Age": 26,
         "BLK%": 6,
         "BPM": 8,
         "DBPM": 2.6,
         "DRB%": 22.1,
         "DWS": 4.4,
         "FTr": 0.479,
         "G": 62,
         "MP": 2131,
         "OBPM": 5.4,
         "ORB%": 7.4,
         "OWS": 6.7,
         "PER": 27.4,
         "Player": "Anthony Davis",
         "Pos": "PF",
         "STL%": 2,
         "TOV%": 10.4,
         "TRB%": 14.8,
         "TS%": 0.61,
         "Tm": "LAL",
         "USG%": 29.3,
         "VORP": 5.4,
         "WS": 11.1,
         "WS/48": 0.25,
         "_deepnote_index_column": 162
        },
        {
         "3PAr": 0,
         "AST%": 5.2,
         "Age": 30,
         "BLK%": 2.5,
         "BPM": -3.2,
         "DBPM": 1.5,
         "DRB%": 24.6,
         "DWS": 0.5,
         "FTr": 0.304,
         "G": 28,
         "MP": 303,
         "OBPM": -4.6,
         "ORB%": 13.2,
         "OWS": 0.2,
         "PER": 9.5,
         "Player": "Ed Davis",
         "Pos": "C",
         "STL%": 1.8,
         "TOV%": 20,
         "TRB%": 19.1,
         "TS%": 0.489,
         "Tm": "UTA",
         "USG%": 9.4,
         "VORP": -0.1,
         "WS": 0.6,
         "WS/48": 0.102,
         "_deepnote_index_column": 163
        },
        {
         "3PAr": 0.555,
         "AST%": 14.2,
         "Age": 22,
         "BLK%": 1.1,
         "BPM": 0.8,
         "DBPM": 0.7,
         "DRB%": 16,
         "DWS": 1.9,
         "FTr": 0.135,
         "G": 72,
         "MP": 1209,
         "OBPM": 0.1,
         "ORB%": 4.5,
         "OWS": 1.2,
         "PER": 13.8,
         "Player": "Terence Davis",
         "Pos": "SG",
         "STL%": 1.5,
         "TOV%": 14.1,
         "TRB%": 10.3,
         "TS%": 0.588,
         "Tm": "TOR",
         "USG%": 19,
         "VORP": 0.8,
         "WS": 3.1,
         "WS/48": 0.122,
         "_deepnote_index_column": 164
        },
        {
         "3PAr": 0.42,
         "AST%": 4,
         "Age": 30,
         "BLK%": 4.8,
         "BPM": -5.8,
         "DBPM": 0,
         "DRB%": 27.6,
         "DWS": 1,
         "FTr": 0.141,
         "G": 44,
         "MP": 774,
         "OBPM": -5.8,
         "ORB%": 8.5,
         "OWS": -1,
         "PER": 9.4,
         "Player": "Dewayne Dedmon",
         "Pos": "C",
         "STL%": 1.5,
         "TOV%": 17.4,
         "TRB%": 17.8,
         "TS%": 0.473,
         "Tm": "TOT",
         "USG%": 18.1,
         "VORP": -0.7,
         "WS": 0.1,
         "WS/48": 0.005,
         "_deepnote_index_column": 165
        },
        {
         "3PAr": 0.415,
         "AST%": 3.9,
         "Age": 30,
         "BLK%": 4.6,
         "BPM": -6.4,
         "DBPM": -0.1,
         "DRB%": 25.8,
         "DWS": 0.7,
         "FTr": 0.164,
         "G": 34,
         "MP": 541,
         "OBPM": -6.3,
         "ORB%": 9.3,
         "OWS": -0.8,
         "PER": 8.5,
         "Player": "Dewayne Dedmon",
         "Pos": "C",
         "STL%": 1.3,
         "TOV%": 20.4,
         "TRB%": 17.4,
         "TS%": 0.477,
         "Tm": "SAC",
         "USG%": 18.5,
         "VORP": -0.6,
         "WS": -0.1,
         "WS/48": -0.007,
         "_deepnote_index_column": 166
        },
        {
         "3PAr": 0.429,
         "AST%": 4.3,
         "Age": 30,
         "BLK%": 5.4,
         "BPM": -4.5,
         "DBPM": 0.1,
         "DRB%": 31.8,
         "DWS": 0.3,
         "FTr": 0.095,
         "G": 10,
         "MP": 233,
         "OBPM": -4.6,
         "ORB%": 6.4,
         "OWS": -0.2,
         "PER": 11.4,
         "Player": "Dewayne Dedmon",
         "Pos": "C",
         "STL%": 2,
         "TOV%": 10.3,
         "TRB%": 18.9,
         "TS%": 0.463,
         "Tm": "ATL",
         "USG%": 17.4,
         "VORP": -0.1,
         "WS": 0.2,
         "WS/48": 0.032,
         "_deepnote_index_column": 167
        },
        {
         "3PAr": 0.52,
         "AST%": 29,
         "Age": 29,
         "BLK%": 0.2,
         "BPM": -5.2,
         "DBPM": -1.6,
         "DRB%": 7.8,
         "DWS": 0.1,
         "FTr": 0.211,
         "G": 57,
         "MP": 821,
         "OBPM": -3.6,
         "ORB%": 2.4,
         "OWS": 0.1,
         "PER": 8.1,
         "Player": "Matthew Dellavedova",
         "Pos": "PG",
         "STL%": 1.2,
         "TOV%": 23.6,
         "TRB%": 5.1,
         "TS%": 0.463,
         "Tm": "CLE",
         "USG%": 13,
         "VORP": -0.7,
         "WS": 0.2,
         "WS/48": 0.011,
         "_deepnote_index_column": 168
        },
        {
         "3PAr": 0.033,
         "AST%": 26.1,
         "Age": 30,
         "BLK%": 0.8,
         "BPM": 1.9,
         "DBPM": -0.4,
         "DRB%": 15.4,
         "DWS": 1.3,
         "FTr": 0.43,
         "G": 68,
         "MP": 2316,
         "OBPM": 2.3,
         "ORB%": 2,
         "OWS": 5.9,
         "PER": 21.6,
         "Player": "DeMar DeRozan",
         "Pos": "SF",
         "STL%": 1.4,
         "TOV%": 11.6,
         "TRB%": 8.7,
         "TS%": 0.603,
         "Tm": "SAS",
         "USG%": 26.3,
         "VORP": 2.3,
         "WS": 7.3,
         "WS/48": 0.151,
         "_deepnote_index_column": 169
        }
       ]
      },
      "text/html": [
       "<div>\n",
       "<style scoped>\n",
       "    .dataframe tbody tr th:only-of-type {\n",
       "        vertical-align: middle;\n",
       "    }\n",
       "\n",
       "    .dataframe tbody tr th {\n",
       "        vertical-align: top;\n",
       "    }\n",
       "\n",
       "    .dataframe thead th {\n",
       "        text-align: right;\n",
       "    }\n",
       "</style>\n",
       "<table border=\"1\" class=\"dataframe\">\n",
       "  <thead>\n",
       "    <tr style=\"text-align: right;\">\n",
       "      <th></th>\n",
       "      <th>Player</th>\n",
       "      <th>Pos</th>\n",
       "      <th>Age</th>\n",
       "      <th>Tm</th>\n",
       "      <th>G</th>\n",
       "      <th>MP</th>\n",
       "      <th>PER</th>\n",
       "      <th>TS%</th>\n",
       "      <th>3PAr</th>\n",
       "      <th>FTr</th>\n",
       "      <th>...</th>\n",
       "      <th>TOV%</th>\n",
       "      <th>USG%</th>\n",
       "      <th>OWS</th>\n",
       "      <th>DWS</th>\n",
       "      <th>WS</th>\n",
       "      <th>WS/48</th>\n",
       "      <th>OBPM</th>\n",
       "      <th>DBPM</th>\n",
       "      <th>BPM</th>\n",
       "      <th>VORP</th>\n",
       "    </tr>\n",
       "  </thead>\n",
       "  <tbody>\n",
       "    <tr>\n",
       "      <th>0</th>\n",
       "      <td>Steven Adams</td>\n",
       "      <td>C</td>\n",
       "      <td>26</td>\n",
       "      <td>OKC</td>\n",
       "      <td>63</td>\n",
       "      <td>1680</td>\n",
       "      <td>20.5</td>\n",
       "      <td>0.604</td>\n",
       "      <td>0.006</td>\n",
       "      <td>0.421</td>\n",
       "      <td>...</td>\n",
       "      <td>14.2</td>\n",
       "      <td>17.3</td>\n",
       "      <td>3.8</td>\n",
       "      <td>2.7</td>\n",
       "      <td>6.5</td>\n",
       "      <td>0.185</td>\n",
       "      <td>1.9</td>\n",
       "      <td>1.1</td>\n",
       "      <td>2.9</td>\n",
       "      <td>2.1</td>\n",
       "    </tr>\n",
       "    <tr>\n",
       "      <th>1</th>\n",
       "      <td>Bam Adebayo</td>\n",
       "      <td>PF</td>\n",
       "      <td>22</td>\n",
       "      <td>MIA</td>\n",
       "      <td>72</td>\n",
       "      <td>2417</td>\n",
       "      <td>20.3</td>\n",
       "      <td>0.598</td>\n",
       "      <td>0.018</td>\n",
       "      <td>0.484</td>\n",
       "      <td>...</td>\n",
       "      <td>17.6</td>\n",
       "      <td>21.2</td>\n",
       "      <td>4.6</td>\n",
       "      <td>3.9</td>\n",
       "      <td>8.5</td>\n",
       "      <td>0.168</td>\n",
       "      <td>1.4</td>\n",
       "      <td>2.0</td>\n",
       "      <td>3.4</td>\n",
       "      <td>3.3</td>\n",
       "    </tr>\n",
       "    <tr>\n",
       "      <th>2</th>\n",
       "      <td>LaMarcus Aldridge</td>\n",
       "      <td>C</td>\n",
       "      <td>34</td>\n",
       "      <td>SAS</td>\n",
       "      <td>53</td>\n",
       "      <td>1754</td>\n",
       "      <td>19.7</td>\n",
       "      <td>0.571</td>\n",
       "      <td>0.198</td>\n",
       "      <td>0.241</td>\n",
       "      <td>...</td>\n",
       "      <td>7.8</td>\n",
       "      <td>23.4</td>\n",
       "      <td>3.0</td>\n",
       "      <td>1.4</td>\n",
       "      <td>4.5</td>\n",
       "      <td>0.122</td>\n",
       "      <td>1.8</td>\n",
       "      <td>-0.5</td>\n",
       "      <td>1.4</td>\n",
       "      <td>1.5</td>\n",
       "    </tr>\n",
       "    <tr>\n",
       "      <th>3</th>\n",
       "      <td>Kyle Alexander</td>\n",
       "      <td>PF</td>\n",
       "      <td>23</td>\n",
       "      <td>MIA</td>\n",
       "      <td>2</td>\n",
       "      <td>13</td>\n",
       "      <td>4.7</td>\n",
       "      <td>0.500</td>\n",
       "      <td>0.000</td>\n",
       "      <td>0.000</td>\n",
       "      <td>...</td>\n",
       "      <td>33.3</td>\n",
       "      <td>10.2</td>\n",
       "      <td>0.0</td>\n",
       "      <td>0.0</td>\n",
       "      <td>0.0</td>\n",
       "      <td>-0.003</td>\n",
       "      <td>-6.1</td>\n",
       "      <td>-3.5</td>\n",
       "      <td>-9.6</td>\n",
       "      <td>0.0</td>\n",
       "    </tr>\n",
       "    <tr>\n",
       "      <th>4</th>\n",
       "      <td>Nickeil Alexander-Walker</td>\n",
       "      <td>SG</td>\n",
       "      <td>21</td>\n",
       "      <td>NOP</td>\n",
       "      <td>47</td>\n",
       "      <td>591</td>\n",
       "      <td>8.9</td>\n",
       "      <td>0.473</td>\n",
       "      <td>0.500</td>\n",
       "      <td>0.139</td>\n",
       "      <td>...</td>\n",
       "      <td>16.1</td>\n",
       "      <td>23.3</td>\n",
       "      <td>-0.7</td>\n",
       "      <td>0.4</td>\n",
       "      <td>-0.2</td>\n",
       "      <td>-0.020</td>\n",
       "      <td>-3.2</td>\n",
       "      <td>-1.4</td>\n",
       "      <td>-4.6</td>\n",
       "      <td>-0.4</td>\n",
       "    </tr>\n",
       "    <tr>\n",
       "      <th>...</th>\n",
       "      <td>...</td>\n",
       "      <td>...</td>\n",
       "      <td>...</td>\n",
       "      <td>...</td>\n",
       "      <td>...</td>\n",
       "      <td>...</td>\n",
       "      <td>...</td>\n",
       "      <td>...</td>\n",
       "      <td>...</td>\n",
       "      <td>...</td>\n",
       "      <td>...</td>\n",
       "      <td>...</td>\n",
       "      <td>...</td>\n",
       "      <td>...</td>\n",
       "      <td>...</td>\n",
       "      <td>...</td>\n",
       "      <td>...</td>\n",
       "      <td>...</td>\n",
       "      <td>...</td>\n",
       "      <td>...</td>\n",
       "      <td>...</td>\n",
       "    </tr>\n",
       "    <tr>\n",
       "      <th>646</th>\n",
       "      <td>Trae Young</td>\n",
       "      <td>PG</td>\n",
       "      <td>21</td>\n",
       "      <td>ATL</td>\n",
       "      <td>60</td>\n",
       "      <td>2120</td>\n",
       "      <td>23.9</td>\n",
       "      <td>0.595</td>\n",
       "      <td>0.455</td>\n",
       "      <td>0.448</td>\n",
       "      <td>...</td>\n",
       "      <td>16.2</td>\n",
       "      <td>34.9</td>\n",
       "      <td>5.3</td>\n",
       "      <td>0.6</td>\n",
       "      <td>5.9</td>\n",
       "      <td>0.133</td>\n",
       "      <td>6.2</td>\n",
       "      <td>-2.3</td>\n",
       "      <td>3.9</td>\n",
       "      <td>3.1</td>\n",
       "    </tr>\n",
       "    <tr>\n",
       "      <th>647</th>\n",
       "      <td>Cody Zeller</td>\n",
       "      <td>C</td>\n",
       "      <td>27</td>\n",
       "      <td>CHO</td>\n",
       "      <td>58</td>\n",
       "      <td>1341</td>\n",
       "      <td>18.8</td>\n",
       "      <td>0.576</td>\n",
       "      <td>0.157</td>\n",
       "      <td>0.374</td>\n",
       "      <td>...</td>\n",
       "      <td>11.9</td>\n",
       "      <td>20.8</td>\n",
       "      <td>2.3</td>\n",
       "      <td>1.3</td>\n",
       "      <td>3.6</td>\n",
       "      <td>0.129</td>\n",
       "      <td>0.2</td>\n",
       "      <td>-0.8</td>\n",
       "      <td>-0.6</td>\n",
       "      <td>0.5</td>\n",
       "    </tr>\n",
       "    <tr>\n",
       "      <th>648</th>\n",
       "      <td>Tyler Zeller</td>\n",
       "      <td>C</td>\n",
       "      <td>30</td>\n",
       "      <td>SAS</td>\n",
       "      <td>2</td>\n",
       "      <td>4</td>\n",
       "      <td>22.4</td>\n",
       "      <td>0.250</td>\n",
       "      <td>0.000</td>\n",
       "      <td>0.000</td>\n",
       "      <td>...</td>\n",
       "      <td>0.0</td>\n",
       "      <td>43.2</td>\n",
       "      <td>0.0</td>\n",
       "      <td>0.0</td>\n",
       "      <td>0.0</td>\n",
       "      <td>-0.075</td>\n",
       "      <td>-0.3</td>\n",
       "      <td>-22.1</td>\n",
       "      <td>-22.4</td>\n",
       "      <td>0.0</td>\n",
       "    </tr>\n",
       "    <tr>\n",
       "      <th>649</th>\n",
       "      <td>Ante Žižić</td>\n",
       "      <td>C</td>\n",
       "      <td>23</td>\n",
       "      <td>CLE</td>\n",
       "      <td>22</td>\n",
       "      <td>221</td>\n",
       "      <td>16.4</td>\n",
       "      <td>0.597</td>\n",
       "      <td>0.000</td>\n",
       "      <td>0.264</td>\n",
       "      <td>...</td>\n",
       "      <td>11.1</td>\n",
       "      <td>17.5</td>\n",
       "      <td>0.3</td>\n",
       "      <td>0.2</td>\n",
       "      <td>0.5</td>\n",
       "      <td>0.106</td>\n",
       "      <td>-1.7</td>\n",
       "      <td>-1.5</td>\n",
       "      <td>-3.2</td>\n",
       "      <td>-0.1</td>\n",
       "    </tr>\n",
       "    <tr>\n",
       "      <th>650</th>\n",
       "      <td>Ivica Zubac</td>\n",
       "      <td>C</td>\n",
       "      <td>22</td>\n",
       "      <td>LAC</td>\n",
       "      <td>72</td>\n",
       "      <td>1326</td>\n",
       "      <td>21.7</td>\n",
       "      <td>0.651</td>\n",
       "      <td>0.005</td>\n",
       "      <td>0.431</td>\n",
       "      <td>...</td>\n",
       "      <td>11.8</td>\n",
       "      <td>16.4</td>\n",
       "      <td>4.4</td>\n",
       "      <td>2.3</td>\n",
       "      <td>6.6</td>\n",
       "      <td>0.241</td>\n",
       "      <td>1.9</td>\n",
       "      <td>0.8</td>\n",
       "      <td>2.8</td>\n",
       "      <td>1.6</td>\n",
       "    </tr>\n",
       "  </tbody>\n",
       "</table>\n",
       "<p>651 rows × 26 columns</p>\n",
       "</div>"
      ],
      "text/plain": [
       "                       Player Pos  Age   Tm   G    MP   PER    TS%   3PAr  \\\n",
       "0                Steven Adams   C   26  OKC  63  1680  20.5  0.604  0.006   \n",
       "1                 Bam Adebayo  PF   22  MIA  72  2417  20.3  0.598  0.018   \n",
       "2           LaMarcus Aldridge   C   34  SAS  53  1754  19.7  0.571  0.198   \n",
       "3              Kyle Alexander  PF   23  MIA   2    13   4.7  0.500  0.000   \n",
       "4    Nickeil Alexander-Walker  SG   21  NOP  47   591   8.9  0.473  0.500   \n",
       "..                        ...  ..  ...  ...  ..   ...   ...    ...    ...   \n",
       "646                Trae Young  PG   21  ATL  60  2120  23.9  0.595  0.455   \n",
       "647               Cody Zeller   C   27  CHO  58  1341  18.8  0.576  0.157   \n",
       "648              Tyler Zeller   C   30  SAS   2     4  22.4  0.250  0.000   \n",
       "649                Ante Žižić   C   23  CLE  22   221  16.4  0.597  0.000   \n",
       "650               Ivica Zubac   C   22  LAC  72  1326  21.7  0.651  0.005   \n",
       "\n",
       "       FTr  ...  TOV%  USG%  OWS  DWS   WS  WS/48  OBPM  DBPM   BPM  VORP  \n",
       "0    0.421  ...  14.2  17.3  3.8  2.7  6.5  0.185   1.9   1.1   2.9   2.1  \n",
       "1    0.484  ...  17.6  21.2  4.6  3.9  8.5  0.168   1.4   2.0   3.4   3.3  \n",
       "2    0.241  ...   7.8  23.4  3.0  1.4  4.5  0.122   1.8  -0.5   1.4   1.5  \n",
       "3    0.000  ...  33.3  10.2  0.0  0.0  0.0 -0.003  -6.1  -3.5  -9.6   0.0  \n",
       "4    0.139  ...  16.1  23.3 -0.7  0.4 -0.2 -0.020  -3.2  -1.4  -4.6  -0.4  \n",
       "..     ...  ...   ...   ...  ...  ...  ...    ...   ...   ...   ...   ...  \n",
       "646  0.448  ...  16.2  34.9  5.3  0.6  5.9  0.133   6.2  -2.3   3.9   3.1  \n",
       "647  0.374  ...  11.9  20.8  2.3  1.3  3.6  0.129   0.2  -0.8  -0.6   0.5  \n",
       "648  0.000  ...   0.0  43.2  0.0  0.0  0.0 -0.075  -0.3 -22.1 -22.4   0.0  \n",
       "649  0.264  ...  11.1  17.5  0.3  0.2  0.5  0.106  -1.7  -1.5  -3.2  -0.1  \n",
       "650  0.431  ...  11.8  16.4  4.4  2.3  6.6  0.241   1.9   0.8   2.8   1.6  \n",
       "\n",
       "[651 rows x 26 columns]"
      ]
     },
     "execution_count": 1,
     "metadata": {},
     "output_type": "execute_result"
    }
   ],
   "source": [
    "import seaborn as sns\n",
    "import numpy as np\n",
    "import pandas as pd\n",
    "import altair as alt\n",
    "import matplotlib as mpl\n",
    "import matplotlib.pyplot as plt\n",
    "\n",
    "from sklearn.linear_model import LogisticRegression\n",
    "from sklearn.preprocessing import StandardScaler\n",
    "from sklearn.model_selection import train_test_split\n",
    "from sklearn.neighbors import KNeighborsClassifier\n",
    "from sklearn.metrics import log_loss\n",
    "\n",
    "\n",
    "df = pd.read_csv('nba_2020_adv.csv')\n",
    "df\n",
    "\n"
   ]
  },
  {
   "cell_type": "markdown",
   "metadata": {
    "cell_id": "00005-8596ea04-3613-4ea2-b74b-013bdfcb9732",
    "deepnote_cell_height": 52.69999694824219,
    "deepnote_cell_type": "markdown",
    "tags": []
   },
   "source": [
    "I will locate all players in the NBA and the position they play. "
   ]
  },
  {
   "cell_type": "code",
   "execution_count": null,
   "metadata": {
    "cell_id": "00006-bd989ee7-604d-4e04-bed3-c3ba1091c83c",
    "deepnote_cell_height": 598.5999755859375,
    "deepnote_cell_type": "code",
    "deepnote_to_be_reexecuted": false,
    "execution_millis": 148,
    "execution_start": 1647314442284,
    "source_hash": "26841e51",
    "tags": []
   },
   "outputs": [
    {
     "data": {
      "application/vnd.deepnote.dataframe.v3+json": {
       "column_count": 2,
       "columns": [
        {
         "dtype": "object",
         "name": "Player",
         "stats": {
          "categories": [
           {
            "count": 4,
            "name": "Jordan McRae"
           },
           {
            "count": 4,
            "name": "Anthony Tolliver"
           },
           {
            "count": 643,
            "name": "527 others"
           }
          ],
          "nan_count": 0,
          "unique_count": 529
         }
        },
        {
         "dtype": "object",
         "name": "Pos",
         "stats": {
          "categories": [
           {
            "count": 169,
            "name": "SG"
           },
           {
            "count": 136,
            "name": "PF"
           },
           {
            "count": 346,
            "name": "7 others"
           }
          ],
          "nan_count": 0,
          "unique_count": 9
         }
        },
        {
         "dtype": "int64",
         "name": "_deepnote_index_column"
        }
       ],
       "row_count": 651,
       "rows": [
        {
         "Player": "Steven Adams",
         "Pos": "C",
         "_deepnote_index_column": 0
        },
        {
         "Player": "Bam Adebayo",
         "Pos": "PF",
         "_deepnote_index_column": 1
        },
        {
         "Player": "LaMarcus Aldridge",
         "Pos": "C",
         "_deepnote_index_column": 2
        },
        {
         "Player": "Kyle Alexander",
         "Pos": "PF",
         "_deepnote_index_column": 3
        },
        {
         "Player": "Nickeil Alexander-Walker",
         "Pos": "SG",
         "_deepnote_index_column": 4
        },
        {
         "Player": "Grayson Allen",
         "Pos": "SG",
         "_deepnote_index_column": 5
        },
        {
         "Player": "Jarrett Allen",
         "Pos": "C",
         "_deepnote_index_column": 6
        },
        {
         "Player": "Kadeem Allen",
         "Pos": "SG",
         "_deepnote_index_column": 7
        },
        {
         "Player": "Al-Farouq Aminu",
         "Pos": "PF",
         "_deepnote_index_column": 8
        },
        {
         "Player": "Justin Anderson",
         "Pos": "SF",
         "_deepnote_index_column": 9
        }
       ]
      },
      "text/html": [
       "<div>\n",
       "<style scoped>\n",
       "    .dataframe tbody tr th:only-of-type {\n",
       "        vertical-align: middle;\n",
       "    }\n",
       "\n",
       "    .dataframe tbody tr th {\n",
       "        vertical-align: top;\n",
       "    }\n",
       "\n",
       "    .dataframe thead th {\n",
       "        text-align: right;\n",
       "    }\n",
       "</style>\n",
       "<table border=\"1\" class=\"dataframe\">\n",
       "  <thead>\n",
       "    <tr style=\"text-align: right;\">\n",
       "      <th></th>\n",
       "      <th>Player</th>\n",
       "      <th>Pos</th>\n",
       "    </tr>\n",
       "  </thead>\n",
       "  <tbody>\n",
       "    <tr>\n",
       "      <th>0</th>\n",
       "      <td>Steven Adams</td>\n",
       "      <td>C</td>\n",
       "    </tr>\n",
       "    <tr>\n",
       "      <th>1</th>\n",
       "      <td>Bam Adebayo</td>\n",
       "      <td>PF</td>\n",
       "    </tr>\n",
       "    <tr>\n",
       "      <th>2</th>\n",
       "      <td>LaMarcus Aldridge</td>\n",
       "      <td>C</td>\n",
       "    </tr>\n",
       "    <tr>\n",
       "      <th>3</th>\n",
       "      <td>Kyle Alexander</td>\n",
       "      <td>PF</td>\n",
       "    </tr>\n",
       "    <tr>\n",
       "      <th>4</th>\n",
       "      <td>Nickeil Alexander-Walker</td>\n",
       "      <td>SG</td>\n",
       "    </tr>\n",
       "    <tr>\n",
       "      <th>...</th>\n",
       "      <td>...</td>\n",
       "      <td>...</td>\n",
       "    </tr>\n",
       "    <tr>\n",
       "      <th>646</th>\n",
       "      <td>Trae Young</td>\n",
       "      <td>PG</td>\n",
       "    </tr>\n",
       "    <tr>\n",
       "      <th>647</th>\n",
       "      <td>Cody Zeller</td>\n",
       "      <td>C</td>\n",
       "    </tr>\n",
       "    <tr>\n",
       "      <th>648</th>\n",
       "      <td>Tyler Zeller</td>\n",
       "      <td>C</td>\n",
       "    </tr>\n",
       "    <tr>\n",
       "      <th>649</th>\n",
       "      <td>Ante Žižić</td>\n",
       "      <td>C</td>\n",
       "    </tr>\n",
       "    <tr>\n",
       "      <th>650</th>\n",
       "      <td>Ivica Zubac</td>\n",
       "      <td>C</td>\n",
       "    </tr>\n",
       "  </tbody>\n",
       "</table>\n",
       "<p>651 rows × 2 columns</p>\n",
       "</div>"
      ],
      "text/plain": [
       "                       Player Pos\n",
       "0                Steven Adams   C\n",
       "1                 Bam Adebayo  PF\n",
       "2           LaMarcus Aldridge   C\n",
       "3              Kyle Alexander  PF\n",
       "4    Nickeil Alexander-Walker  SG\n",
       "..                        ...  ..\n",
       "646                Trae Young  PG\n",
       "647               Cody Zeller   C\n",
       "648              Tyler Zeller   C\n",
       "649                Ante Žižić   C\n",
       "650               Ivica Zubac   C\n",
       "\n",
       "[651 rows x 2 columns]"
      ]
     },
     "execution_count": 2,
     "metadata": {},
     "output_type": "execute_result"
    }
   ],
   "source": [
    "df.loc[:,[\"Player\",\"Pos\"]]"
   ]
  },
  {
   "cell_type": "markdown",
   "metadata": {
    "cell_id": "00007-e9d4aaef-cafd-4ece-a4aa-ef209600329f",
    "deepnote_cell_height": 52.69999694824219,
    "deepnote_cell_type": "markdown",
    "tags": []
   },
   "source": [
    "Because how much popularized the point guard position is, I decided to check all point guards and their statistics. "
   ]
  },
  {
   "cell_type": "code",
   "execution_count": null,
   "metadata": {
    "cell_id": "00008-1968f885-1901-4b9b-b0e0-30c60581f35b",
    "deepnote_cell_height": 622.75,
    "deepnote_cell_type": "code",
    "deepnote_to_be_reexecuted": false,
    "execution_millis": 393,
    "execution_start": 1647314442329,
    "source_hash": "decfed97",
    "tags": []
   },
   "outputs": [
    {
     "data": {
      "application/vnd.deepnote.dataframe.v3+json": {
       "column_count": 26,
       "columns": [
        {
         "dtype": "object",
         "name": "Player",
         "stats": {
          "categories": [
           {
            "count": 3,
            "name": "Trey Burke"
           },
           {
            "count": 3,
            "name": "Chris Chiozza"
           },
           {
            "count": 105,
            "name": "93 others"
           }
          ],
          "nan_count": 0,
          "unique_count": 95
         }
        },
        {
         "dtype": "object",
         "name": "Pos",
         "stats": {
          "categories": [
           {
            "count": 111,
            "name": "PG"
           }
          ],
          "nan_count": 0,
          "unique_count": 1
         }
        },
        {
         "dtype": "int64",
         "name": "Age",
         "stats": {
          "histogram": [
           {
            "bin_end": 20.6,
            "bin_start": 19,
            "count": 4
           },
           {
            "bin_end": 22.2,
            "bin_start": 20.6,
            "count": 18
           },
           {
            "bin_end": 23.8,
            "bin_start": 22.2,
            "count": 13
           },
           {
            "bin_end": 25.4,
            "bin_start": 23.8,
            "count": 22
           },
           {
            "bin_end": 27,
            "bin_start": 25.4,
            "count": 5
           },
           {
            "bin_end": 28.6,
            "bin_start": 27,
            "count": 17
           },
           {
            "bin_end": 30.200000000000003,
            "bin_start": 28.6,
            "count": 12
           },
           {
            "bin_end": 31.8,
            "bin_start": 30.200000000000003,
            "count": 10
           },
           {
            "bin_end": 33.4,
            "bin_start": 31.8,
            "count": 7
           },
           {
            "bin_end": 35,
            "bin_start": 33.4,
            "count": 3
           }
          ],
          "max": "35",
          "min": "19",
          "nan_count": 0,
          "unique_count": 17
         }
        },
        {
         "dtype": "object",
         "name": "Tm",
         "stats": {
          "categories": [
           {
            "count": 8,
            "name": "TOT"
           },
           {
            "count": 7,
            "name": "PHO"
           },
           {
            "count": 96,
            "name": "29 others"
           }
          ],
          "nan_count": 0,
          "unique_count": 31
         }
        },
        {
         "dtype": "int64",
         "name": "G",
         "stats": {
          "histogram": [
           {
            "bin_end": 9.1,
            "bin_start": 2,
            "count": 19
           },
           {
            "bin_end": 16.2,
            "bin_start": 9.1,
            "count": 7
           },
           {
            "bin_end": 23.299999999999997,
            "bin_start": 16.2,
            "count": 6
           },
           {
            "bin_end": 30.4,
            "bin_start": 23.299999999999997,
            "count": 11
           },
           {
            "bin_end": 37.5,
            "bin_start": 30.4,
            "count": 9
           },
           {
            "bin_end": 44.599999999999994,
            "bin_start": 37.5,
            "count": 2
           },
           {
            "bin_end": 51.699999999999996,
            "bin_start": 44.599999999999994,
            "count": 10
           },
           {
            "bin_end": 58.8,
            "bin_start": 51.699999999999996,
            "count": 16
           },
           {
            "bin_end": 65.9,
            "bin_start": 58.8,
            "count": 18
           },
           {
            "bin_end": 73,
            "bin_start": 65.9,
            "count": 13
           }
          ],
          "max": "73",
          "min": "2",
          "nan_count": 0,
          "unique_count": 53
         }
        },
        {
         "dtype": "int64",
         "name": "MP",
         "stats": {
          "histogram": [
           {
            "bin_end": 254.6,
            "bin_start": 8,
            "count": 27
           },
           {
            "bin_end": 501.2,
            "bin_start": 254.6,
            "count": 16
           },
           {
            "bin_end": 747.8,
            "bin_start": 501.2,
            "count": 10
           },
           {
            "bin_end": 994.4,
            "bin_start": 747.8,
            "count": 9
           },
           {
            "bin_end": 1241,
            "bin_start": 994.4,
            "count": 7
           },
           {
            "bin_end": 1487.6,
            "bin_start": 1241,
            "count": 13
           },
           {
            "bin_end": 1734.2,
            "bin_start": 1487.6,
            "count": 7
           },
           {
            "bin_end": 1980.8,
            "bin_start": 1734.2,
            "count": 7
           },
           {
            "bin_end": 2227.4,
            "bin_start": 1980.8,
            "count": 13
           },
           {
            "bin_end": 2474,
            "bin_start": 2227.4,
            "count": 2
           }
          ],
          "max": "2474",
          "min": "8",
          "nan_count": 0,
          "unique_count": 110
         }
        },
        {
         "dtype": "float64",
         "name": "PER",
         "stats": {
          "histogram": [
           {
            "bin_end": -1.46,
            "bin_start": -5.3,
            "count": 3
           },
           {
            "bin_end": 2.38,
            "bin_start": -1.46,
            "count": 2
           },
           {
            "bin_end": 6.22,
            "bin_start": 2.38,
            "count": 4
           },
           {
            "bin_end": 10.059999999999999,
            "bin_start": 6.22,
            "count": 20
           },
           {
            "bin_end": 13.899999999999999,
            "bin_start": 10.059999999999999,
            "count": 30
           },
           {
            "bin_end": 17.74,
            "bin_start": 13.899999999999999,
            "count": 36
           },
           {
            "bin_end": 21.58,
            "bin_start": 17.74,
            "count": 7
           },
           {
            "bin_end": 25.419999999999998,
            "bin_start": 21.58,
            "count": 4
           },
           {
            "bin_end": 29.26,
            "bin_start": 25.419999999999998,
            "count": 4
           },
           {
            "bin_end": 33.1,
            "bin_start": 29.26,
            "count": 1
           }
          ],
          "max": "33.1",
          "min": "-5.3",
          "nan_count": 0,
          "unique_count": 83
         }
        },
        {
         "dtype": "float64",
         "name": "TS%",
         "stats": {
          "histogram": [
           {
            "bin_end": 0.1908,
            "bin_start": 0.127,
            "count": 1
           },
           {
            "bin_end": 0.2546,
            "bin_start": 0.1908,
            "count": 1
           },
           {
            "bin_end": 0.3184,
            "bin_start": 0.2546,
            "count": 2
           },
           {
            "bin_end": 0.3822,
            "bin_start": 0.3184,
            "count": 3
           },
           {
            "bin_end": 0.44599999999999995,
            "bin_start": 0.3822,
            "count": 7
           },
           {
            "bin_end": 0.5098,
            "bin_start": 0.44599999999999995,
            "count": 21
           },
           {
            "bin_end": 0.5736,
            "bin_start": 0.5098,
            "count": 54
           },
           {
            "bin_end": 0.6374,
            "bin_start": 0.5736,
            "count": 20
           },
           {
            "bin_end": 0.7011999999999999,
            "bin_start": 0.6374,
            "count": 1
           },
           {
            "bin_end": 0.765,
            "bin_start": 0.7011999999999999,
            "count": 1
           }
          ],
          "max": "0.765",
          "min": "0.127",
          "nan_count": 0,
          "unique_count": 87
         }
        },
        {
         "dtype": "float64",
         "name": "3PAr",
         "stats": {
          "histogram": [
           {
            "bin_end": 0.1,
            "bin_start": 0,
            "count": 4
           },
           {
            "bin_end": 0.2,
            "bin_start": 0.1,
            "count": 7
           },
           {
            "bin_end": 0.30000000000000004,
            "bin_start": 0.2,
            "count": 11
           },
           {
            "bin_end": 0.4,
            "bin_start": 0.30000000000000004,
            "count": 27
           },
           {
            "bin_end": 0.5,
            "bin_start": 0.4,
            "count": 31
           },
           {
            "bin_end": 0.6000000000000001,
            "bin_start": 0.5,
            "count": 20
           },
           {
            "bin_end": 0.7000000000000001,
            "bin_start": 0.6000000000000001,
            "count": 6
           },
           {
            "bin_end": 0.8,
            "bin_start": 0.7000000000000001,
            "count": 3
           },
           {
            "bin_end": 0.9,
            "bin_start": 0.8,
            "count": 1
           },
           {
            "bin_end": 1,
            "bin_start": 0.9,
            "count": 1
           }
          ],
          "max": "1.0",
          "min": "0.0",
          "nan_count": 0,
          "unique_count": 98
         }
        },
        {
         "dtype": "float64",
         "name": "FTr",
         "stats": {
          "histogram": [
           {
            "bin_end": 0.15,
            "bin_start": 0,
            "count": 29
           },
           {
            "bin_end": 0.3,
            "bin_start": 0.15,
            "count": 55
           },
           {
            "bin_end": 0.44999999999999996,
            "bin_start": 0.3,
            "count": 25
           },
           {
            "bin_end": 0.6,
            "bin_start": 0.44999999999999996,
            "count": 1
           },
           {
            "bin_end": 0.75,
            "bin_start": 0.6,
            "count": 0
           },
           {
            "bin_end": 0.8999999999999999,
            "bin_start": 0.75,
            "count": 0
           },
           {
            "bin_end": 1.05,
            "bin_start": 0.8999999999999999,
            "count": 0
           },
           {
            "bin_end": 1.2,
            "bin_start": 1.05,
            "count": 0
           },
           {
            "bin_end": 1.3499999999999999,
            "bin_start": 1.2,
            "count": 0
           },
           {
            "bin_end": 1.5,
            "bin_start": 1.3499999999999999,
            "count": 1
           }
          ],
          "max": "1.5",
          "min": "0.0",
          "nan_count": 0,
          "unique_count": 89
         }
        },
        {
         "dtype": "float64",
         "name": "ORB%",
         "stats": {
          "histogram": [
           {
            "bin_end": 0.63,
            "bin_start": 0,
            "count": 13
           },
           {
            "bin_end": 1.26,
            "bin_start": 0.63,
            "count": 12
           },
           {
            "bin_end": 1.8900000000000001,
            "bin_start": 1.26,
            "count": 17
           },
           {
            "bin_end": 2.52,
            "bin_start": 1.8900000000000001,
            "count": 30
           },
           {
            "bin_end": 3.15,
            "bin_start": 2.52,
            "count": 15
           },
           {
            "bin_end": 3.7800000000000002,
            "bin_start": 3.15,
            "count": 9
           },
           {
            "bin_end": 4.41,
            "bin_start": 3.7800000000000002,
            "count": 7
           },
           {
            "bin_end": 5.04,
            "bin_start": 4.41,
            "count": 5
           },
           {
            "bin_end": 5.67,
            "bin_start": 5.04,
            "count": 1
           },
           {
            "bin_end": 6.3,
            "bin_start": 5.67,
            "count": 2
           }
          ],
          "max": "6.3",
          "min": "0.0",
          "nan_count": 0,
          "unique_count": 41
         }
        },
        {
         "dtype": "float64",
         "name": "DRB%",
         "stats": {
          "histogram": [
           {
            "bin_end": 2.5,
            "bin_start": 0,
            "count": 2
           },
           {
            "bin_end": 5,
            "bin_start": 2.5,
            "count": 2
           },
           {
            "bin_end": 7.5,
            "bin_start": 5,
            "count": 12
           },
           {
            "bin_end": 10,
            "bin_start": 7.5,
            "count": 36
           },
           {
            "bin_end": 12.5,
            "bin_start": 10,
            "count": 31
           },
           {
            "bin_end": 15,
            "bin_start": 12.5,
            "count": 16
           },
           {
            "bin_end": 17.5,
            "bin_start": 15,
            "count": 6
           },
           {
            "bin_end": 20,
            "bin_start": 17.5,
            "count": 3
           },
           {
            "bin_end": 22.5,
            "bin_start": 20,
            "count": 2
           },
           {
            "bin_end": 25,
            "bin_start": 22.5,
            "count": 1
           }
          ],
          "max": "25.0",
          "min": "0.0",
          "nan_count": 0,
          "unique_count": 76
         }
        },
        {
         "dtype": "float64",
         "name": "TRB%",
         "stats": {
          "histogram": [
           {
            "bin_end": 1.47,
            "bin_start": 0,
            "count": 2
           },
           {
            "bin_end": 2.94,
            "bin_start": 1.47,
            "count": 2
           },
           {
            "bin_end": 4.41,
            "bin_start": 2.94,
            "count": 13
           },
           {
            "bin_end": 5.88,
            "bin_start": 4.41,
            "count": 30
           },
           {
            "bin_end": 7.35,
            "bin_start": 5.88,
            "count": 34
           },
           {
            "bin_end": 8.82,
            "bin_start": 7.35,
            "count": 17
           },
           {
            "bin_end": 10.29,
            "bin_start": 8.82,
            "count": 7
           },
           {
            "bin_end": 11.76,
            "bin_start": 10.29,
            "count": 2
           },
           {
            "bin_end": 13.23,
            "bin_start": 11.76,
            "count": 3
           },
           {
            "bin_end": 14.7,
            "bin_start": 13.23,
            "count": 1
           }
          ],
          "max": "14.7",
          "min": "0.0",
          "nan_count": 0,
          "unique_count": 60
         }
        },
        {
         "dtype": "float64",
         "name": "AST%",
         "stats": {
          "histogram": [
           {
            "bin_end": 4.91,
            "bin_start": 0,
            "count": 2
           },
           {
            "bin_end": 9.82,
            "bin_start": 4.91,
            "count": 1
           },
           {
            "bin_end": 14.73,
            "bin_start": 9.82,
            "count": 10
           },
           {
            "bin_end": 19.64,
            "bin_start": 14.73,
            "count": 22
           },
           {
            "bin_end": 24.55,
            "bin_start": 19.64,
            "count": 23
           },
           {
            "bin_end": 29.46,
            "bin_start": 24.55,
            "count": 18
           },
           {
            "bin_end": 34.370000000000005,
            "bin_start": 29.46,
            "count": 16
           },
           {
            "bin_end": 39.28,
            "bin_start": 34.370000000000005,
            "count": 13
           },
           {
            "bin_end": 44.19,
            "bin_start": 39.28,
            "count": 3
           },
           {
            "bin_end": 49.1,
            "bin_start": 44.19,
            "count": 3
           }
          ],
          "max": "49.1",
          "min": "0.0",
          "nan_count": 0,
          "unique_count": 96
         }
        },
        {
         "dtype": "float64",
         "name": "STL%",
         "stats": {
          "histogram": [
           {
            "bin_end": 0.61,
            "bin_start": 0,
            "count": 8
           },
           {
            "bin_end": 1.22,
            "bin_start": 0.61,
            "count": 21
           },
           {
            "bin_end": 1.83,
            "bin_start": 1.22,
            "count": 34
           },
           {
            "bin_end": 2.44,
            "bin_start": 1.83,
            "count": 28
           },
           {
            "bin_end": 3.05,
            "bin_start": 2.44,
            "count": 10
           },
           {
            "bin_end": 3.66,
            "bin_start": 3.05,
            "count": 4
           },
           {
            "bin_end": 4.27,
            "bin_start": 3.66,
            "count": 4
           },
           {
            "bin_end": 4.88,
            "bin_start": 4.27,
            "count": 0
           },
           {
            "bin_end": 5.49,
            "bin_start": 4.88,
            "count": 0
           },
           {
            "bin_end": 6.1,
            "bin_start": 5.49,
            "count": 2
           }
          ],
          "max": "6.1",
          "min": "0.0",
          "nan_count": 0,
          "unique_count": 31
         }
        },
        {
         "dtype": "float64",
         "name": "BLK%",
         "stats": {
          "histogram": [
           {
            "bin_end": 0.89,
            "bin_start": 0,
            "count": 64
           },
           {
            "bin_end": 1.78,
            "bin_start": 0.89,
            "count": 42
           },
           {
            "bin_end": 2.67,
            "bin_start": 1.78,
            "count": 3
           },
           {
            "bin_end": 3.56,
            "bin_start": 2.67,
            "count": 1
           },
           {
            "bin_end": 4.45,
            "bin_start": 3.56,
            "count": 0
           },
           {
            "bin_end": 5.34,
            "bin_start": 4.45,
            "count": 0
           },
           {
            "bin_end": 6.23,
            "bin_start": 5.34,
            "count": 0
           },
           {
            "bin_end": 7.12,
            "bin_start": 6.23,
            "count": 0
           },
           {
            "bin_end": 8.01,
            "bin_start": 7.12,
            "count": 0
           },
           {
            "bin_end": 8.9,
            "bin_start": 8.01,
            "count": 1
           }
          ],
          "max": "8.9",
          "min": "0.0",
          "nan_count": 0,
          "unique_count": 22
         }
        },
        {
         "dtype": "float64",
         "name": "TOV%",
         "stats": {
          "histogram": [
           {
            "bin_end": 7.140000000000001,
            "bin_start": 0,
            "count": 5
           },
           {
            "bin_end": 14.280000000000001,
            "bin_start": 7.140000000000001,
            "count": 44
           },
           {
            "bin_end": 21.42,
            "bin_start": 14.280000000000001,
            "count": 55
           },
           {
            "bin_end": 28.560000000000002,
            "bin_start": 21.42,
            "count": 6
           },
           {
            "bin_end": 35.7,
            "bin_start": 28.560000000000002,
            "count": 0
           },
           {
            "bin_end": 42.84,
            "bin_start": 35.7,
            "count": 0
           },
           {
            "bin_end": 49.980000000000004,
            "bin_start": 42.84,
            "count": 0
           },
           {
            "bin_end": 57.120000000000005,
            "bin_start": 49.980000000000004,
            "count": 0
           },
           {
            "bin_end": 64.26,
            "bin_start": 57.120000000000005,
            "count": 0
           },
           {
            "bin_end": 71.4,
            "bin_start": 64.26,
            "count": 1
           }
          ],
          "max": "71.4",
          "min": "0.0",
          "nan_count": 0,
          "unique_count": 80
         }
        },
        {
         "dtype": "float64",
         "name": "USG%",
         "stats": {
          "histogram": [
           {
            "bin_end": 9.71,
            "bin_start": 6.7,
            "count": 4
           },
           {
            "bin_end": 12.719999999999999,
            "bin_start": 9.71,
            "count": 3
           },
           {
            "bin_end": 15.73,
            "bin_start": 12.719999999999999,
            "count": 13
           },
           {
            "bin_end": 18.74,
            "bin_start": 15.73,
            "count": 20
           },
           {
            "bin_end": 21.75,
            "bin_start": 18.74,
            "count": 32
           },
           {
            "bin_end": 24.759999999999998,
            "bin_start": 21.75,
            "count": 17
           },
           {
            "bin_end": 27.77,
            "bin_start": 24.759999999999998,
            "count": 10
           },
           {
            "bin_end": 30.779999999999998,
            "bin_start": 27.77,
            "count": 3
           },
           {
            "bin_end": 33.79,
            "bin_start": 30.779999999999998,
            "count": 6
           },
           {
            "bin_end": 36.8,
            "bin_start": 33.79,
            "count": 3
           }
          ],
          "max": "36.8",
          "min": "6.7",
          "nan_count": 0,
          "unique_count": 75
         }
        },
        {
         "dtype": "float64",
         "name": "OWS",
         "stats": {
          "histogram": [
           {
            "bin_end": -0.16999999999999993,
            "bin_start": -1.4,
            "count": 13
           },
           {
            "bin_end": 1.06,
            "bin_start": -0.16999999999999993,
            "count": 59
           },
           {
            "bin_end": 2.29,
            "bin_start": 1.06,
            "count": 20
           },
           {
            "bin_end": 3.52,
            "bin_start": 2.29,
            "count": 11
           },
           {
            "bin_end": 4.75,
            "bin_start": 3.52,
            "count": 3
           },
           {
            "bin_end": 5.98,
            "bin_start": 4.75,
            "count": 2
           },
           {
            "bin_end": 7.209999999999999,
            "bin_start": 5.98,
            "count": 2
           },
           {
            "bin_end": 8.44,
            "bin_start": 7.209999999999999,
            "count": 0
           },
           {
            "bin_end": 9.67,
            "bin_start": 8.44,
            "count": 0
           },
           {
            "bin_end": 10.9,
            "bin_start": 9.67,
            "count": 1
           }
          ],
          "max": "10.9",
          "min": "-1.4",
          "nan_count": 0,
          "unique_count": 44
         }
        },
        {
         "dtype": "float64",
         "name": "DWS",
         "stats": {
          "histogram": [
           {
            "bin_end": 0.27,
            "bin_start": -0.1,
            "count": 38
           },
           {
            "bin_end": 0.64,
            "bin_start": 0.27,
            "count": 27
           },
           {
            "bin_end": 1.0099999999999998,
            "bin_start": 0.64,
            "count": 11
           },
           {
            "bin_end": 1.38,
            "bin_start": 1.0099999999999998,
            "count": 8
           },
           {
            "bin_end": 1.75,
            "bin_start": 1.38,
            "count": 8
           },
           {
            "bin_end": 2.1199999999999997,
            "bin_start": 1.75,
            "count": 11
           },
           {
            "bin_end": 2.4899999999999998,
            "bin_start": 2.1199999999999997,
            "count": 1
           },
           {
            "bin_end": 2.86,
            "bin_start": 2.4899999999999998,
            "count": 1
           },
           {
            "bin_end": 3.23,
            "bin_start": 2.86,
            "count": 4
           },
           {
            "bin_end": 3.6,
            "bin_start": 3.23,
            "count": 2
           }
          ],
          "max": "3.6",
          "min": "-0.1",
          "nan_count": 0,
          "unique_count": 27
         }
        },
        {
         "dtype": "float64",
         "name": "WS",
         "stats": {
          "histogram": [
           {
            "bin_end": -0.010000000000000009,
            "bin_start": -1.3,
            "count": 12
           },
           {
            "bin_end": 1.28,
            "bin_start": -0.010000000000000009,
            "count": 45
           },
           {
            "bin_end": 2.5700000000000003,
            "bin_start": 1.28,
            "count": 22
           },
           {
            "bin_end": 3.8600000000000003,
            "bin_start": 2.5700000000000003,
            "count": 16
           },
           {
            "bin_end": 5.15,
            "bin_start": 3.8600000000000003,
            "count": 5
           },
           {
            "bin_end": 6.44,
            "bin_start": 5.15,
            "count": 5
           },
           {
            "bin_end": 7.730000000000001,
            "bin_start": 6.44,
            "count": 2
           },
           {
            "bin_end": 9.02,
            "bin_start": 7.730000000000001,
            "count": 2
           },
           {
            "bin_end": 10.309999999999999,
            "bin_start": 9.02,
            "count": 1
           },
           {
            "bin_end": 11.6,
            "bin_start": 10.309999999999999,
            "count": 1
           }
          ],
          "max": "11.6",
          "min": "-1.3",
          "nan_count": 0,
          "unique_count": 52
         }
        },
        {
         "dtype": "float64",
         "name": "WS/48",
         "stats": {
          "histogram": [
           {
            "bin_end": -0.17909999999999998,
            "bin_start": -0.249,
            "count": 3
           },
           {
            "bin_end": -0.10919999999999999,
            "bin_start": -0.17909999999999998,
            "count": 3
           },
           {
            "bin_end": -0.0393,
            "bin_start": -0.10919999999999999,
            "count": 5
           },
           {
            "bin_end": 0.030600000000000016,
            "bin_start": -0.0393,
            "count": 16
           },
           {
            "bin_end": 0.10050000000000003,
            "bin_start": 0.030600000000000016,
            "count": 48
           },
           {
            "bin_end": 0.1704,
            "bin_start": 0.10050000000000003,
            "count": 27
           },
           {
            "bin_end": 0.2403,
            "bin_start": 0.1704,
            "count": 8
           },
           {
            "bin_end": 0.31020000000000003,
            "bin_start": 0.2403,
            "count": 0
           },
           {
            "bin_end": 0.3801,
            "bin_start": 0.31020000000000003,
            "count": 0
           },
           {
            "bin_end": 0.45,
            "bin_start": 0.3801,
            "count": 1
           }
          ],
          "max": "0.45",
          "min": "-0.249",
          "nan_count": 0,
          "unique_count": 94
         }
        },
        {
         "dtype": "float64",
         "name": "OBPM",
         "stats": {
          "histogram": [
           {
            "bin_end": -12.030000000000001,
            "bin_start": -14.3,
            "count": 1
           },
           {
            "bin_end": -9.76,
            "bin_start": -12.030000000000001,
            "count": 2
           },
           {
            "bin_end": -7.489999999999999,
            "bin_start": -9.76,
            "count": 4
           },
           {
            "bin_end": -5.219999999999999,
            "bin_start": -7.489999999999999,
            "count": 3
           },
           {
            "bin_end": -2.9499999999999993,
            "bin_start": -5.219999999999999,
            "count": 15
           },
           {
            "bin_end": -0.6799999999999979,
            "bin_start": -2.9499999999999993,
            "count": 30
           },
           {
            "bin_end": 1.5900000000000034,
            "bin_start": -0.6799999999999979,
            "count": 34
           },
           {
            "bin_end": 3.860000000000003,
            "bin_start": 1.5900000000000034,
            "count": 12
           },
           {
            "bin_end": 6.130000000000003,
            "bin_start": 3.860000000000003,
            "count": 4
           },
           {
            "bin_end": 8.4,
            "bin_start": 6.130000000000003,
            "count": 6
           }
          ],
          "max": "8.4",
          "min": "-14.3",
          "nan_count": 0,
          "unique_count": 73
         }
        },
        {
         "dtype": "float64",
         "name": "DBPM",
         "stats": {
          "histogram": [
           {
            "bin_end": -4.51,
            "bin_start": -5.6,
            "count": 2
           },
           {
            "bin_end": -3.42,
            "bin_start": -4.51,
            "count": 1
           },
           {
            "bin_end": -2.33,
            "bin_start": -3.42,
            "count": 9
           },
           {
            "bin_end": -1.2400000000000002,
            "bin_start": -2.33,
            "count": 21
           },
           {
            "bin_end": -0.15000000000000036,
            "bin_start": -1.2400000000000002,
            "count": 30
           },
           {
            "bin_end": 0.9399999999999995,
            "bin_start": -0.15000000000000036,
            "count": 22
           },
           {
            "bin_end": 2.0299999999999994,
            "bin_start": 0.9399999999999995,
            "count": 19
           },
           {
            "bin_end": 3.119999999999999,
            "bin_start": 2.0299999999999994,
            "count": 5
           },
           {
            "bin_end": 4.209999999999999,
            "bin_start": 3.119999999999999,
            "count": 0
           },
           {
            "bin_end": 5.3,
            "bin_start": 4.209999999999999,
            "count": 2
           }
          ],
          "max": "5.3",
          "min": "-5.6",
          "nan_count": 0,
          "unique_count": 54
         }
        },
        {
         "dtype": "float64",
         "name": "BPM",
         "stats": {
          "histogram": [
           {
            "bin_end": -13.030000000000001,
            "bin_start": -16,
            "count": 2
           },
           {
            "bin_end": -10.06,
            "bin_start": -13.030000000000001,
            "count": 3
           },
           {
            "bin_end": -7.09,
            "bin_start": -10.06,
            "count": 3
           },
           {
            "bin_end": -4.120000000000001,
            "bin_start": -7.09,
            "count": 15
           },
           {
            "bin_end": -1.1500000000000021,
            "bin_start": -4.120000000000001,
            "count": 28
           },
           {
            "bin_end": 1.8200000000000003,
            "bin_start": -1.1500000000000021,
            "count": 42
           },
           {
            "bin_end": 4.789999999999999,
            "bin_start": 1.8200000000000003,
            "count": 13
           },
           {
            "bin_end": 7.759999999999998,
            "bin_start": 4.789999999999999,
            "count": 2
           },
           {
            "bin_end": 10.729999999999997,
            "bin_start": 7.759999999999998,
            "count": 2
           },
           {
            "bin_end": 13.7,
            "bin_start": 10.729999999999997,
            "count": 1
           }
          ],
          "max": "13.7",
          "min": "-16.0",
          "nan_count": 0,
          "unique_count": 71
         }
        },
        {
         "dtype": "float64",
         "name": "VORP",
         "stats": {
          "histogram": [
           {
            "bin_end": -0.9199999999999999,
            "bin_start": -1.7,
            "count": 1
           },
           {
            "bin_end": -0.1399999999999999,
            "bin_start": -0.9199999999999999,
            "count": 17
           },
           {
            "bin_end": 0.6399999999999999,
            "bin_start": -0.1399999999999999,
            "count": 60
           },
           {
            "bin_end": 1.4200000000000002,
            "bin_start": 0.6399999999999999,
            "count": 16
           },
           {
            "bin_end": 2.2,
            "bin_start": 1.4200000000000002,
            "count": 8
           },
           {
            "bin_end": 2.9799999999999995,
            "bin_start": 2.2,
            "count": 4
           },
           {
            "bin_end": 3.76,
            "bin_start": 2.9799999999999995,
            "count": 2
           },
           {
            "bin_end": 4.54,
            "bin_start": 3.76,
            "count": 0
           },
           {
            "bin_end": 5.32,
            "bin_start": 4.54,
            "count": 0
           },
           {
            "bin_end": 6.1,
            "bin_start": 5.32,
            "count": 3
           }
          ],
          "max": "6.1",
          "min": "-1.7",
          "nan_count": 0,
          "unique_count": 31
         }
        },
        {
         "dtype": "int64",
         "name": "_deepnote_index_column"
        }
       ],
       "row_count": 111,
       "rows": [
        {
         "3PAr": 0.627,
         "AST%": 14.3,
         "Age": 25,
         "BLK%": 0.3,
         "BPM": -2.8,
         "DBPM": -0.1,
         "DRB%": 11.2,
         "DWS": 0.7,
         "FTr": 0.173,
         "G": 58,
         "MP": 930,
         "OBPM": -2.7,
         "ORB%": 2.3,
         "OWS": 0.7,
         "PER": 9,
         "Player": "Ryan Arcidiacono",
         "Pos": "PG",
         "STL%": 1.4,
         "TOV%": 13.5,
         "TRB%": 6.5,
         "TS%": 0.551,
         "Tm": "CHI",
         "USG%": 12.5,
         "VORP": -0.2,
         "WS": 1.4,
         "WS/48": 0.071,
         "_deepnote_index_column": 17
        },
        {
         "3PAr": 0.436,
         "AST%": 26.8,
         "Age": 32,
         "BLK%": 0.1,
         "BPM": -1.6,
         "DBPM": -1.3,
         "DRB%": 7.8,
         "DWS": 0.9,
         "FTr": 0.393,
         "G": 57,
         "MP": 1420,
         "OBPM": -0.3,
         "ORB%": 1.6,
         "OWS": 2,
         "PER": 14,
         "Player": "D.J. Augustin",
         "Pos": "PG",
         "STL%": 1.2,
         "TOV%": 13.7,
         "TRB%": 4.6,
         "TS%": 0.554,
         "Tm": "ORL",
         "USG%": 19.1,
         "VORP": 0.2,
         "WS": 2.9,
         "WS/48": 0.098,
         "_deepnote_index_column": 21
        },
        {
         "3PAr": 0.575,
         "AST%": 29.1,
         "Age": 22,
         "BLK%": 1.6,
         "BPM": 0.6,
         "DBPM": 0.6,
         "DRB%": 16.4,
         "DWS": 2,
         "FTr": 0.111,
         "G": 63,
         "MP": 2025,
         "OBPM": 0.1,
         "ORB%": 3.7,
         "OWS": 0.4,
         "PER": 13.1,
         "Player": "Lonzo Ball",
         "Pos": "PG",
         "STL%": 2,
         "TOV%": 21.1,
         "TRB%": 10,
         "TS%": 0.517,
         "Tm": "NOP",
         "USG%": 18.5,
         "VORP": 1.3,
         "WS": 2.4,
         "WS/48": 0.058,
         "_deepnote_index_column": 25
        },
        {
         "3PAr": 0.411,
         "AST%": 37.1,
         "Age": 35,
         "BLK%": 0.4,
         "BPM": -1.4,
         "DBPM": -3,
         "DRB%": 9.9,
         "DWS": 0.2,
         "FTr": 0.106,
         "G": 29,
         "MP": 450,
         "OBPM": 1.6,
         "ORB%": 2.4,
         "OWS": 0.5,
         "PER": 14.6,
         "Player": "J.J. Barea",
         "Pos": "PG",
         "STL%": 0.5,
         "TOV%": 14.9,
         "TRB%": 6.2,
         "TS%": 0.512,
         "Tm": "DAL",
         "USG%": 24.2,
         "VORP": 0.1,
         "WS": 0.7,
         "WS/48": 0.072,
         "_deepnote_index_column": 27
        },
        {
         "3PAr": 0.604,
         "AST%": 18.2,
         "Age": 31,
         "BLK%": 1.6,
         "BPM": 2.2,
         "DBPM": 2.5,
         "DRB%": 15.8,
         "DWS": 2,
         "FTr": 0.138,
         "G": 51,
         "MP": 1342,
         "OBPM": -0.3,
         "ORB%": 4.5,
         "OWS": 1.6,
         "PER": 12.5,
         "Player": "Patrick Beverley",
         "Pos": "PG",
         "STL%": 1.9,
         "TOV%": 15.4,
         "TRB%": 10.3,
         "TS%": 0.56,
         "Tm": "LAC",
         "USG%": 13.3,
         "VORP": 1.4,
         "WS": 3.6,
         "WS/48": 0.128,
         "_deepnote_index_column": 53
        },
        {
         "3PAr": 0.306,
         "AST%": 28.7,
         "Age": 30,
         "BLK%": 1.4,
         "BPM": 1.8,
         "DBPM": 1.1,
         "DRB%": 13.5,
         "DWS": 3,
         "FTr": 0.304,
         "G": 61,
         "MP": 1646,
         "OBPM": 0.8,
         "ORB%": 2.8,
         "OWS": 2.4,
         "PER": 17.6,
         "Player": "Eric Bledsoe",
         "Pos": "PG",
         "STL%": 1.6,
         "TOV%": 15.7,
         "TRB%": 8.5,
         "TS%": 0.571,
         "Tm": "MIL",
         "USG%": 23.7,
         "VORP": 1.6,
         "WS": 5.4,
         "WS/48": 0.157,
         "_deepnote_index_column": 58
        },
        {
         "3PAr": 0.5,
         "AST%": 21,
         "Age": 22,
         "BLK%": 0,
         "BPM": -11.9,
         "DBPM": -2.8,
         "DRB%": 8.7,
         "DWS": 0,
         "FTr": 0,
         "G": 10,
         "MP": 53,
         "OBPM": -9.1,
         "ORB%": 0,
         "OWS": -0.1,
         "PER": 0.8,
         "Player": "Jordan Bone",
         "Pos": "PG",
         "STL%": 0.9,
         "TOV%": 9.1,
         "TRB%": 4.3,
         "TS%": 0.3,
         "Tm": "DET",
         "USG%": 18.1,
         "VORP": -0.1,
         "WS": -0.1,
         "WS/48": -0.117,
         "_deepnote_index_column": 66
        },
        {
         "3PAr": 0.333,
         "AST%": 19.4,
         "Age": 22,
         "BLK%": 0.9,
         "BPM": -4.3,
         "DBPM": -0.3,
         "DRB%": 10.7,
         "DWS": 0.6,
         "FTr": 0.128,
         "G": 45,
         "MP": 1015,
         "OBPM": -4,
         "ORB%": 2.5,
         "OWS": -0.6,
         "PER": 9.1,
         "Player": "Ky Bowman",
         "Pos": "PG",
         "STL%": 2.1,
         "TOV%": 17.1,
         "TRB%": 6.5,
         "TS%": 0.494,
         "Tm": "GSW",
         "USG%": 17.2,
         "VORP": -0.6,
         "WS": -0.1,
         "WS/48": -0.003,
         "_deepnote_index_column": 71
        },
        {
         "3PAr": 0.309,
         "AST%": 33.8,
         "Age": 27,
         "BLK%": 0.5,
         "BPM": 1.8,
         "DBPM": -0.5,
         "DRB%": 14.1,
         "DWS": 1.7,
         "FTr": 0.25,
         "G": 54,
         "MP": 1666,
         "OBPM": 2.3,
         "ORB%": 3.1,
         "OWS": 2.3,
         "PER": 17.7,
         "Player": "Malcolm Brogdon",
         "Pos": "PG",
         "STL%": 1,
         "TOV%": 13.7,
         "TRB%": 8.6,
         "TS%": 0.541,
         "Tm": "IND",
         "USG%": 25.2,
         "VORP": 1.6,
         "WS": 4,
         "WS/48": 0.114,
         "_deepnote_index_column": 81
        },
        {
         "3PAr": 0.309,
         "AST%": 27,
         "Age": 23,
         "BLK%": 0.3,
         "BPM": -0.9,
         "DBPM": -1,
         "DRB%": 11.3,
         "DWS": 0.6,
         "FTr": 0.193,
         "G": 57,
         "MP": 1022,
         "OBPM": 0.1,
         "ORB%": 2.3,
         "OWS": 1.6,
         "PER": 14.9,
         "Player": "Jalen Brunson",
         "Pos": "PG",
         "STL%": 1,
         "TOV%": 13.6,
         "TRB%": 6.9,
         "TS%": 0.553,
         "Tm": "DAL",
         "USG%": 20.4,
         "VORP": 0.3,
         "WS": 2.1,
         "WS/48": 0.101,
         "_deepnote_index_column": 89
        }
       ]
      },
      "text/html": [
       "<div>\n",
       "<style scoped>\n",
       "    .dataframe tbody tr th:only-of-type {\n",
       "        vertical-align: middle;\n",
       "    }\n",
       "\n",
       "    .dataframe tbody tr th {\n",
       "        vertical-align: top;\n",
       "    }\n",
       "\n",
       "    .dataframe thead th {\n",
       "        text-align: right;\n",
       "    }\n",
       "</style>\n",
       "<table border=\"1\" class=\"dataframe\">\n",
       "  <thead>\n",
       "    <tr style=\"text-align: right;\">\n",
       "      <th></th>\n",
       "      <th>Player</th>\n",
       "      <th>Pos</th>\n",
       "      <th>Age</th>\n",
       "      <th>Tm</th>\n",
       "      <th>G</th>\n",
       "      <th>MP</th>\n",
       "      <th>PER</th>\n",
       "      <th>TS%</th>\n",
       "      <th>3PAr</th>\n",
       "      <th>FTr</th>\n",
       "      <th>...</th>\n",
       "      <th>TOV%</th>\n",
       "      <th>USG%</th>\n",
       "      <th>OWS</th>\n",
       "      <th>DWS</th>\n",
       "      <th>WS</th>\n",
       "      <th>WS/48</th>\n",
       "      <th>OBPM</th>\n",
       "      <th>DBPM</th>\n",
       "      <th>BPM</th>\n",
       "      <th>VORP</th>\n",
       "    </tr>\n",
       "  </thead>\n",
       "  <tbody>\n",
       "    <tr>\n",
       "      <th>17</th>\n",
       "      <td>Ryan Arcidiacono</td>\n",
       "      <td>PG</td>\n",
       "      <td>25</td>\n",
       "      <td>CHI</td>\n",
       "      <td>58</td>\n",
       "      <td>930</td>\n",
       "      <td>9.0</td>\n",
       "      <td>0.551</td>\n",
       "      <td>0.627</td>\n",
       "      <td>0.173</td>\n",
       "      <td>...</td>\n",
       "      <td>13.5</td>\n",
       "      <td>12.5</td>\n",
       "      <td>0.7</td>\n",
       "      <td>0.7</td>\n",
       "      <td>1.4</td>\n",
       "      <td>0.071</td>\n",
       "      <td>-2.7</td>\n",
       "      <td>-0.1</td>\n",
       "      <td>-2.8</td>\n",
       "      <td>-0.2</td>\n",
       "    </tr>\n",
       "    <tr>\n",
       "      <th>21</th>\n",
       "      <td>D.J. Augustin</td>\n",
       "      <td>PG</td>\n",
       "      <td>32</td>\n",
       "      <td>ORL</td>\n",
       "      <td>57</td>\n",
       "      <td>1420</td>\n",
       "      <td>14.0</td>\n",
       "      <td>0.554</td>\n",
       "      <td>0.436</td>\n",
       "      <td>0.393</td>\n",
       "      <td>...</td>\n",
       "      <td>13.7</td>\n",
       "      <td>19.1</td>\n",
       "      <td>2.0</td>\n",
       "      <td>0.9</td>\n",
       "      <td>2.9</td>\n",
       "      <td>0.098</td>\n",
       "      <td>-0.3</td>\n",
       "      <td>-1.3</td>\n",
       "      <td>-1.6</td>\n",
       "      <td>0.2</td>\n",
       "    </tr>\n",
       "    <tr>\n",
       "      <th>25</th>\n",
       "      <td>Lonzo Ball</td>\n",
       "      <td>PG</td>\n",
       "      <td>22</td>\n",
       "      <td>NOP</td>\n",
       "      <td>63</td>\n",
       "      <td>2025</td>\n",
       "      <td>13.1</td>\n",
       "      <td>0.517</td>\n",
       "      <td>0.575</td>\n",
       "      <td>0.111</td>\n",
       "      <td>...</td>\n",
       "      <td>21.1</td>\n",
       "      <td>18.5</td>\n",
       "      <td>0.4</td>\n",
       "      <td>2.0</td>\n",
       "      <td>2.4</td>\n",
       "      <td>0.058</td>\n",
       "      <td>0.1</td>\n",
       "      <td>0.6</td>\n",
       "      <td>0.6</td>\n",
       "      <td>1.3</td>\n",
       "    </tr>\n",
       "    <tr>\n",
       "      <th>27</th>\n",
       "      <td>J.J. Barea</td>\n",
       "      <td>PG</td>\n",
       "      <td>35</td>\n",
       "      <td>DAL</td>\n",
       "      <td>29</td>\n",
       "      <td>450</td>\n",
       "      <td>14.6</td>\n",
       "      <td>0.512</td>\n",
       "      <td>0.411</td>\n",
       "      <td>0.106</td>\n",
       "      <td>...</td>\n",
       "      <td>14.9</td>\n",
       "      <td>24.2</td>\n",
       "      <td>0.5</td>\n",
       "      <td>0.2</td>\n",
       "      <td>0.7</td>\n",
       "      <td>0.072</td>\n",
       "      <td>1.6</td>\n",
       "      <td>-3.0</td>\n",
       "      <td>-1.4</td>\n",
       "      <td>0.1</td>\n",
       "    </tr>\n",
       "    <tr>\n",
       "      <th>53</th>\n",
       "      <td>Patrick Beverley</td>\n",
       "      <td>PG</td>\n",
       "      <td>31</td>\n",
       "      <td>LAC</td>\n",
       "      <td>51</td>\n",
       "      <td>1342</td>\n",
       "      <td>12.5</td>\n",
       "      <td>0.560</td>\n",
       "      <td>0.604</td>\n",
       "      <td>0.138</td>\n",
       "      <td>...</td>\n",
       "      <td>15.4</td>\n",
       "      <td>13.3</td>\n",
       "      <td>1.6</td>\n",
       "      <td>2.0</td>\n",
       "      <td>3.6</td>\n",
       "      <td>0.128</td>\n",
       "      <td>-0.3</td>\n",
       "      <td>2.5</td>\n",
       "      <td>2.2</td>\n",
       "      <td>1.4</td>\n",
       "    </tr>\n",
       "    <tr>\n",
       "      <th>...</th>\n",
       "      <td>...</td>\n",
       "      <td>...</td>\n",
       "      <td>...</td>\n",
       "      <td>...</td>\n",
       "      <td>...</td>\n",
       "      <td>...</td>\n",
       "      <td>...</td>\n",
       "      <td>...</td>\n",
       "      <td>...</td>\n",
       "      <td>...</td>\n",
       "      <td>...</td>\n",
       "      <td>...</td>\n",
       "      <td>...</td>\n",
       "      <td>...</td>\n",
       "      <td>...</td>\n",
       "      <td>...</td>\n",
       "      <td>...</td>\n",
       "      <td>...</td>\n",
       "      <td>...</td>\n",
       "      <td>...</td>\n",
       "      <td>...</td>\n",
       "    </tr>\n",
       "    <tr>\n",
       "      <th>618</th>\n",
       "      <td>Tremont Waters</td>\n",
       "      <td>PG</td>\n",
       "      <td>22</td>\n",
       "      <td>BOS</td>\n",
       "      <td>11</td>\n",
       "      <td>119</td>\n",
       "      <td>4.3</td>\n",
       "      <td>0.381</td>\n",
       "      <td>0.490</td>\n",
       "      <td>0.163</td>\n",
       "      <td>...</td>\n",
       "      <td>22.2</td>\n",
       "      <td>24.2</td>\n",
       "      <td>-0.5</td>\n",
       "      <td>0.2</td>\n",
       "      <td>-0.3</td>\n",
       "      <td>-0.103</td>\n",
       "      <td>-8.5</td>\n",
       "      <td>1.0</td>\n",
       "      <td>-7.5</td>\n",
       "      <td>-0.2</td>\n",
       "    </tr>\n",
       "    <tr>\n",
       "      <th>623</th>\n",
       "      <td>Russell Westbrook</td>\n",
       "      <td>PG</td>\n",
       "      <td>31</td>\n",
       "      <td>HOU</td>\n",
       "      <td>57</td>\n",
       "      <td>2049</td>\n",
       "      <td>21.0</td>\n",
       "      <td>0.536</td>\n",
       "      <td>0.166</td>\n",
       "      <td>0.297</td>\n",
       "      <td>...</td>\n",
       "      <td>15.0</td>\n",
       "      <td>34.4</td>\n",
       "      <td>1.7</td>\n",
       "      <td>2.5</td>\n",
       "      <td>4.2</td>\n",
       "      <td>0.098</td>\n",
       "      <td>1.6</td>\n",
       "      <td>-0.1</td>\n",
       "      <td>1.5</td>\n",
       "      <td>1.8</td>\n",
       "    </tr>\n",
       "    <tr>\n",
       "      <th>638</th>\n",
       "      <td>Nigel Williams-Goss</td>\n",
       "      <td>PG</td>\n",
       "      <td>25</td>\n",
       "      <td>UTA</td>\n",
       "      <td>10</td>\n",
       "      <td>50</td>\n",
       "      <td>8.1</td>\n",
       "      <td>0.415</td>\n",
       "      <td>0.438</td>\n",
       "      <td>0.125</td>\n",
       "      <td>...</td>\n",
       "      <td>15.1</td>\n",
       "      <td>17.4</td>\n",
       "      <td>-0.1</td>\n",
       "      <td>0.1</td>\n",
       "      <td>0.0</td>\n",
       "      <td>0.017</td>\n",
       "      <td>-5.2</td>\n",
       "      <td>1.3</td>\n",
       "      <td>-3.9</td>\n",
       "      <td>0.0</td>\n",
       "    </tr>\n",
       "    <tr>\n",
       "      <th>644</th>\n",
       "      <td>Justin Wright-Foreman</td>\n",
       "      <td>PG</td>\n",
       "      <td>22</td>\n",
       "      <td>UTA</td>\n",
       "      <td>4</td>\n",
       "      <td>45</td>\n",
       "      <td>8.8</td>\n",
       "      <td>0.437</td>\n",
       "      <td>0.500</td>\n",
       "      <td>0.200</td>\n",
       "      <td>...</td>\n",
       "      <td>12.1</td>\n",
       "      <td>24.1</td>\n",
       "      <td>-0.1</td>\n",
       "      <td>0.1</td>\n",
       "      <td>0.0</td>\n",
       "      <td>-0.008</td>\n",
       "      <td>-7.0</td>\n",
       "      <td>-2.0</td>\n",
       "      <td>-9.0</td>\n",
       "      <td>-0.1</td>\n",
       "    </tr>\n",
       "    <tr>\n",
       "      <th>646</th>\n",
       "      <td>Trae Young</td>\n",
       "      <td>PG</td>\n",
       "      <td>21</td>\n",
       "      <td>ATL</td>\n",
       "      <td>60</td>\n",
       "      <td>2120</td>\n",
       "      <td>23.9</td>\n",
       "      <td>0.595</td>\n",
       "      <td>0.455</td>\n",
       "      <td>0.448</td>\n",
       "      <td>...</td>\n",
       "      <td>16.2</td>\n",
       "      <td>34.9</td>\n",
       "      <td>5.3</td>\n",
       "      <td>0.6</td>\n",
       "      <td>5.9</td>\n",
       "      <td>0.133</td>\n",
       "      <td>6.2</td>\n",
       "      <td>-2.3</td>\n",
       "      <td>3.9</td>\n",
       "      <td>3.1</td>\n",
       "    </tr>\n",
       "  </tbody>\n",
       "</table>\n",
       "<p>111 rows × 26 columns</p>\n",
       "</div>"
      ],
      "text/plain": [
       "                    Player Pos  Age   Tm   G    MP   PER    TS%   3PAr    FTr  \\\n",
       "17        Ryan Arcidiacono  PG   25  CHI  58   930   9.0  0.551  0.627  0.173   \n",
       "21           D.J. Augustin  PG   32  ORL  57  1420  14.0  0.554  0.436  0.393   \n",
       "25              Lonzo Ball  PG   22  NOP  63  2025  13.1  0.517  0.575  0.111   \n",
       "27              J.J. Barea  PG   35  DAL  29   450  14.6  0.512  0.411  0.106   \n",
       "53        Patrick Beverley  PG   31  LAC  51  1342  12.5  0.560  0.604  0.138   \n",
       "..                     ...  ..  ...  ...  ..   ...   ...    ...    ...    ...   \n",
       "618         Tremont Waters  PG   22  BOS  11   119   4.3  0.381  0.490  0.163   \n",
       "623      Russell Westbrook  PG   31  HOU  57  2049  21.0  0.536  0.166  0.297   \n",
       "638    Nigel Williams-Goss  PG   25  UTA  10    50   8.1  0.415  0.438  0.125   \n",
       "644  Justin Wright-Foreman  PG   22  UTA   4    45   8.8  0.437  0.500  0.200   \n",
       "646             Trae Young  PG   21  ATL  60  2120  23.9  0.595  0.455  0.448   \n",
       "\n",
       "     ...  TOV%  USG%  OWS  DWS   WS  WS/48  OBPM  DBPM  BPM  VORP  \n",
       "17   ...  13.5  12.5  0.7  0.7  1.4  0.071  -2.7  -0.1 -2.8  -0.2  \n",
       "21   ...  13.7  19.1  2.0  0.9  2.9  0.098  -0.3  -1.3 -1.6   0.2  \n",
       "25   ...  21.1  18.5  0.4  2.0  2.4  0.058   0.1   0.6  0.6   1.3  \n",
       "27   ...  14.9  24.2  0.5  0.2  0.7  0.072   1.6  -3.0 -1.4   0.1  \n",
       "53   ...  15.4  13.3  1.6  2.0  3.6  0.128  -0.3   2.5  2.2   1.4  \n",
       "..   ...   ...   ...  ...  ...  ...    ...   ...   ...  ...   ...  \n",
       "618  ...  22.2  24.2 -0.5  0.2 -0.3 -0.103  -8.5   1.0 -7.5  -0.2  \n",
       "623  ...  15.0  34.4  1.7  2.5  4.2  0.098   1.6  -0.1  1.5   1.8  \n",
       "638  ...  15.1  17.4 -0.1  0.1  0.0  0.017  -5.2   1.3 -3.9   0.0  \n",
       "644  ...  12.1  24.1 -0.1  0.1  0.0 -0.008  -7.0  -2.0 -9.0  -0.1  \n",
       "646  ...  16.2  34.9  5.3  0.6  5.9  0.133   6.2  -2.3  3.9   3.1  \n",
       "\n",
       "[111 rows x 26 columns]"
      ]
     },
     "execution_count": 3,
     "metadata": {},
     "output_type": "execute_result"
    }
   ],
   "source": [
    "df.loc[df['Pos'] == 'PG']"
   ]
  },
  {
   "cell_type": "code",
   "execution_count": null,
   "metadata": {
    "cell_id": "00009-99811209-7ffe-47b8-a9ad-fb652a59098c",
    "deepnote_cell_height": 622.75,
    "deepnote_cell_type": "code",
    "deepnote_to_be_reexecuted": false,
    "execution_millis": 192,
    "execution_start": 1647314442591,
    "source_hash": "decfed97",
    "tags": []
   },
   "outputs": [
    {
     "data": {
      "application/vnd.deepnote.dataframe.v3+json": {
       "column_count": 26,
       "columns": [
        {
         "dtype": "object",
         "name": "Player",
         "stats": {
          "categories": [
           {
            "count": 3,
            "name": "Trey Burke"
           },
           {
            "count": 3,
            "name": "Chris Chiozza"
           },
           {
            "count": 105,
            "name": "93 others"
           }
          ],
          "nan_count": 0,
          "unique_count": 95
         }
        },
        {
         "dtype": "object",
         "name": "Pos",
         "stats": {
          "categories": [
           {
            "count": 111,
            "name": "PG"
           }
          ],
          "nan_count": 0,
          "unique_count": 1
         }
        },
        {
         "dtype": "int64",
         "name": "Age",
         "stats": {
          "histogram": [
           {
            "bin_end": 20.6,
            "bin_start": 19,
            "count": 4
           },
           {
            "bin_end": 22.2,
            "bin_start": 20.6,
            "count": 18
           },
           {
            "bin_end": 23.8,
            "bin_start": 22.2,
            "count": 13
           },
           {
            "bin_end": 25.4,
            "bin_start": 23.8,
            "count": 22
           },
           {
            "bin_end": 27,
            "bin_start": 25.4,
            "count": 5
           },
           {
            "bin_end": 28.6,
            "bin_start": 27,
            "count": 17
           },
           {
            "bin_end": 30.200000000000003,
            "bin_start": 28.6,
            "count": 12
           },
           {
            "bin_end": 31.8,
            "bin_start": 30.200000000000003,
            "count": 10
           },
           {
            "bin_end": 33.4,
            "bin_start": 31.8,
            "count": 7
           },
           {
            "bin_end": 35,
            "bin_start": 33.4,
            "count": 3
           }
          ],
          "max": "35",
          "min": "19",
          "nan_count": 0,
          "unique_count": 17
         }
        },
        {
         "dtype": "object",
         "name": "Tm",
         "stats": {
          "categories": [
           {
            "count": 8,
            "name": "TOT"
           },
           {
            "count": 7,
            "name": "PHO"
           },
           {
            "count": 96,
            "name": "29 others"
           }
          ],
          "nan_count": 0,
          "unique_count": 31
         }
        },
        {
         "dtype": "int64",
         "name": "G",
         "stats": {
          "histogram": [
           {
            "bin_end": 9.1,
            "bin_start": 2,
            "count": 19
           },
           {
            "bin_end": 16.2,
            "bin_start": 9.1,
            "count": 7
           },
           {
            "bin_end": 23.299999999999997,
            "bin_start": 16.2,
            "count": 6
           },
           {
            "bin_end": 30.4,
            "bin_start": 23.299999999999997,
            "count": 11
           },
           {
            "bin_end": 37.5,
            "bin_start": 30.4,
            "count": 9
           },
           {
            "bin_end": 44.599999999999994,
            "bin_start": 37.5,
            "count": 2
           },
           {
            "bin_end": 51.699999999999996,
            "bin_start": 44.599999999999994,
            "count": 10
           },
           {
            "bin_end": 58.8,
            "bin_start": 51.699999999999996,
            "count": 16
           },
           {
            "bin_end": 65.9,
            "bin_start": 58.8,
            "count": 18
           },
           {
            "bin_end": 73,
            "bin_start": 65.9,
            "count": 13
           }
          ],
          "max": "73",
          "min": "2",
          "nan_count": 0,
          "unique_count": 53
         }
        },
        {
         "dtype": "int64",
         "name": "MP",
         "stats": {
          "histogram": [
           {
            "bin_end": 254.6,
            "bin_start": 8,
            "count": 27
           },
           {
            "bin_end": 501.2,
            "bin_start": 254.6,
            "count": 16
           },
           {
            "bin_end": 747.8,
            "bin_start": 501.2,
            "count": 10
           },
           {
            "bin_end": 994.4,
            "bin_start": 747.8,
            "count": 9
           },
           {
            "bin_end": 1241,
            "bin_start": 994.4,
            "count": 7
           },
           {
            "bin_end": 1487.6,
            "bin_start": 1241,
            "count": 13
           },
           {
            "bin_end": 1734.2,
            "bin_start": 1487.6,
            "count": 7
           },
           {
            "bin_end": 1980.8,
            "bin_start": 1734.2,
            "count": 7
           },
           {
            "bin_end": 2227.4,
            "bin_start": 1980.8,
            "count": 13
           },
           {
            "bin_end": 2474,
            "bin_start": 2227.4,
            "count": 2
           }
          ],
          "max": "2474",
          "min": "8",
          "nan_count": 0,
          "unique_count": 110
         }
        },
        {
         "dtype": "float64",
         "name": "PER",
         "stats": {
          "histogram": [
           {
            "bin_end": -1.46,
            "bin_start": -5.3,
            "count": 3
           },
           {
            "bin_end": 2.38,
            "bin_start": -1.46,
            "count": 2
           },
           {
            "bin_end": 6.22,
            "bin_start": 2.38,
            "count": 4
           },
           {
            "bin_end": 10.059999999999999,
            "bin_start": 6.22,
            "count": 20
           },
           {
            "bin_end": 13.899999999999999,
            "bin_start": 10.059999999999999,
            "count": 30
           },
           {
            "bin_end": 17.74,
            "bin_start": 13.899999999999999,
            "count": 36
           },
           {
            "bin_end": 21.58,
            "bin_start": 17.74,
            "count": 7
           },
           {
            "bin_end": 25.419999999999998,
            "bin_start": 21.58,
            "count": 4
           },
           {
            "bin_end": 29.26,
            "bin_start": 25.419999999999998,
            "count": 4
           },
           {
            "bin_end": 33.1,
            "bin_start": 29.26,
            "count": 1
           }
          ],
          "max": "33.1",
          "min": "-5.3",
          "nan_count": 0,
          "unique_count": 83
         }
        },
        {
         "dtype": "float64",
         "name": "TS%",
         "stats": {
          "histogram": [
           {
            "bin_end": 0.1908,
            "bin_start": 0.127,
            "count": 1
           },
           {
            "bin_end": 0.2546,
            "bin_start": 0.1908,
            "count": 1
           },
           {
            "bin_end": 0.3184,
            "bin_start": 0.2546,
            "count": 2
           },
           {
            "bin_end": 0.3822,
            "bin_start": 0.3184,
            "count": 3
           },
           {
            "bin_end": 0.44599999999999995,
            "bin_start": 0.3822,
            "count": 7
           },
           {
            "bin_end": 0.5098,
            "bin_start": 0.44599999999999995,
            "count": 21
           },
           {
            "bin_end": 0.5736,
            "bin_start": 0.5098,
            "count": 54
           },
           {
            "bin_end": 0.6374,
            "bin_start": 0.5736,
            "count": 20
           },
           {
            "bin_end": 0.7011999999999999,
            "bin_start": 0.6374,
            "count": 1
           },
           {
            "bin_end": 0.765,
            "bin_start": 0.7011999999999999,
            "count": 1
           }
          ],
          "max": "0.765",
          "min": "0.127",
          "nan_count": 0,
          "unique_count": 87
         }
        },
        {
         "dtype": "float64",
         "name": "3PAr",
         "stats": {
          "histogram": [
           {
            "bin_end": 0.1,
            "bin_start": 0,
            "count": 4
           },
           {
            "bin_end": 0.2,
            "bin_start": 0.1,
            "count": 7
           },
           {
            "bin_end": 0.30000000000000004,
            "bin_start": 0.2,
            "count": 11
           },
           {
            "bin_end": 0.4,
            "bin_start": 0.30000000000000004,
            "count": 27
           },
           {
            "bin_end": 0.5,
            "bin_start": 0.4,
            "count": 31
           },
           {
            "bin_end": 0.6000000000000001,
            "bin_start": 0.5,
            "count": 20
           },
           {
            "bin_end": 0.7000000000000001,
            "bin_start": 0.6000000000000001,
            "count": 6
           },
           {
            "bin_end": 0.8,
            "bin_start": 0.7000000000000001,
            "count": 3
           },
           {
            "bin_end": 0.9,
            "bin_start": 0.8,
            "count": 1
           },
           {
            "bin_end": 1,
            "bin_start": 0.9,
            "count": 1
           }
          ],
          "max": "1.0",
          "min": "0.0",
          "nan_count": 0,
          "unique_count": 98
         }
        },
        {
         "dtype": "float64",
         "name": "FTr",
         "stats": {
          "histogram": [
           {
            "bin_end": 0.15,
            "bin_start": 0,
            "count": 29
           },
           {
            "bin_end": 0.3,
            "bin_start": 0.15,
            "count": 55
           },
           {
            "bin_end": 0.44999999999999996,
            "bin_start": 0.3,
            "count": 25
           },
           {
            "bin_end": 0.6,
            "bin_start": 0.44999999999999996,
            "count": 1
           },
           {
            "bin_end": 0.75,
            "bin_start": 0.6,
            "count": 0
           },
           {
            "bin_end": 0.8999999999999999,
            "bin_start": 0.75,
            "count": 0
           },
           {
            "bin_end": 1.05,
            "bin_start": 0.8999999999999999,
            "count": 0
           },
           {
            "bin_end": 1.2,
            "bin_start": 1.05,
            "count": 0
           },
           {
            "bin_end": 1.3499999999999999,
            "bin_start": 1.2,
            "count": 0
           },
           {
            "bin_end": 1.5,
            "bin_start": 1.3499999999999999,
            "count": 1
           }
          ],
          "max": "1.5",
          "min": "0.0",
          "nan_count": 0,
          "unique_count": 89
         }
        },
        {
         "dtype": "float64",
         "name": "ORB%",
         "stats": {
          "histogram": [
           {
            "bin_end": 0.63,
            "bin_start": 0,
            "count": 13
           },
           {
            "bin_end": 1.26,
            "bin_start": 0.63,
            "count": 12
           },
           {
            "bin_end": 1.8900000000000001,
            "bin_start": 1.26,
            "count": 17
           },
           {
            "bin_end": 2.52,
            "bin_start": 1.8900000000000001,
            "count": 30
           },
           {
            "bin_end": 3.15,
            "bin_start": 2.52,
            "count": 15
           },
           {
            "bin_end": 3.7800000000000002,
            "bin_start": 3.15,
            "count": 9
           },
           {
            "bin_end": 4.41,
            "bin_start": 3.7800000000000002,
            "count": 7
           },
           {
            "bin_end": 5.04,
            "bin_start": 4.41,
            "count": 5
           },
           {
            "bin_end": 5.67,
            "bin_start": 5.04,
            "count": 1
           },
           {
            "bin_end": 6.3,
            "bin_start": 5.67,
            "count": 2
           }
          ],
          "max": "6.3",
          "min": "0.0",
          "nan_count": 0,
          "unique_count": 41
         }
        },
        {
         "dtype": "float64",
         "name": "DRB%",
         "stats": {
          "histogram": [
           {
            "bin_end": 2.5,
            "bin_start": 0,
            "count": 2
           },
           {
            "bin_end": 5,
            "bin_start": 2.5,
            "count": 2
           },
           {
            "bin_end": 7.5,
            "bin_start": 5,
            "count": 12
           },
           {
            "bin_end": 10,
            "bin_start": 7.5,
            "count": 36
           },
           {
            "bin_end": 12.5,
            "bin_start": 10,
            "count": 31
           },
           {
            "bin_end": 15,
            "bin_start": 12.5,
            "count": 16
           },
           {
            "bin_end": 17.5,
            "bin_start": 15,
            "count": 6
           },
           {
            "bin_end": 20,
            "bin_start": 17.5,
            "count": 3
           },
           {
            "bin_end": 22.5,
            "bin_start": 20,
            "count": 2
           },
           {
            "bin_end": 25,
            "bin_start": 22.5,
            "count": 1
           }
          ],
          "max": "25.0",
          "min": "0.0",
          "nan_count": 0,
          "unique_count": 76
         }
        },
        {
         "dtype": "float64",
         "name": "TRB%",
         "stats": {
          "histogram": [
           {
            "bin_end": 1.47,
            "bin_start": 0,
            "count": 2
           },
           {
            "bin_end": 2.94,
            "bin_start": 1.47,
            "count": 2
           },
           {
            "bin_end": 4.41,
            "bin_start": 2.94,
            "count": 13
           },
           {
            "bin_end": 5.88,
            "bin_start": 4.41,
            "count": 30
           },
           {
            "bin_end": 7.35,
            "bin_start": 5.88,
            "count": 34
           },
           {
            "bin_end": 8.82,
            "bin_start": 7.35,
            "count": 17
           },
           {
            "bin_end": 10.29,
            "bin_start": 8.82,
            "count": 7
           },
           {
            "bin_end": 11.76,
            "bin_start": 10.29,
            "count": 2
           },
           {
            "bin_end": 13.23,
            "bin_start": 11.76,
            "count": 3
           },
           {
            "bin_end": 14.7,
            "bin_start": 13.23,
            "count": 1
           }
          ],
          "max": "14.7",
          "min": "0.0",
          "nan_count": 0,
          "unique_count": 60
         }
        },
        {
         "dtype": "float64",
         "name": "AST%",
         "stats": {
          "histogram": [
           {
            "bin_end": 4.91,
            "bin_start": 0,
            "count": 2
           },
           {
            "bin_end": 9.82,
            "bin_start": 4.91,
            "count": 1
           },
           {
            "bin_end": 14.73,
            "bin_start": 9.82,
            "count": 10
           },
           {
            "bin_end": 19.64,
            "bin_start": 14.73,
            "count": 22
           },
           {
            "bin_end": 24.55,
            "bin_start": 19.64,
            "count": 23
           },
           {
            "bin_end": 29.46,
            "bin_start": 24.55,
            "count": 18
           },
           {
            "bin_end": 34.370000000000005,
            "bin_start": 29.46,
            "count": 16
           },
           {
            "bin_end": 39.28,
            "bin_start": 34.370000000000005,
            "count": 13
           },
           {
            "bin_end": 44.19,
            "bin_start": 39.28,
            "count": 3
           },
           {
            "bin_end": 49.1,
            "bin_start": 44.19,
            "count": 3
           }
          ],
          "max": "49.1",
          "min": "0.0",
          "nan_count": 0,
          "unique_count": 96
         }
        },
        {
         "dtype": "float64",
         "name": "STL%",
         "stats": {
          "histogram": [
           {
            "bin_end": 0.61,
            "bin_start": 0,
            "count": 8
           },
           {
            "bin_end": 1.22,
            "bin_start": 0.61,
            "count": 21
           },
           {
            "bin_end": 1.83,
            "bin_start": 1.22,
            "count": 34
           },
           {
            "bin_end": 2.44,
            "bin_start": 1.83,
            "count": 28
           },
           {
            "bin_end": 3.05,
            "bin_start": 2.44,
            "count": 10
           },
           {
            "bin_end": 3.66,
            "bin_start": 3.05,
            "count": 4
           },
           {
            "bin_end": 4.27,
            "bin_start": 3.66,
            "count": 4
           },
           {
            "bin_end": 4.88,
            "bin_start": 4.27,
            "count": 0
           },
           {
            "bin_end": 5.49,
            "bin_start": 4.88,
            "count": 0
           },
           {
            "bin_end": 6.1,
            "bin_start": 5.49,
            "count": 2
           }
          ],
          "max": "6.1",
          "min": "0.0",
          "nan_count": 0,
          "unique_count": 31
         }
        },
        {
         "dtype": "float64",
         "name": "BLK%",
         "stats": {
          "histogram": [
           {
            "bin_end": 0.89,
            "bin_start": 0,
            "count": 64
           },
           {
            "bin_end": 1.78,
            "bin_start": 0.89,
            "count": 42
           },
           {
            "bin_end": 2.67,
            "bin_start": 1.78,
            "count": 3
           },
           {
            "bin_end": 3.56,
            "bin_start": 2.67,
            "count": 1
           },
           {
            "bin_end": 4.45,
            "bin_start": 3.56,
            "count": 0
           },
           {
            "bin_end": 5.34,
            "bin_start": 4.45,
            "count": 0
           },
           {
            "bin_end": 6.23,
            "bin_start": 5.34,
            "count": 0
           },
           {
            "bin_end": 7.12,
            "bin_start": 6.23,
            "count": 0
           },
           {
            "bin_end": 8.01,
            "bin_start": 7.12,
            "count": 0
           },
           {
            "bin_end": 8.9,
            "bin_start": 8.01,
            "count": 1
           }
          ],
          "max": "8.9",
          "min": "0.0",
          "nan_count": 0,
          "unique_count": 22
         }
        },
        {
         "dtype": "float64",
         "name": "TOV%",
         "stats": {
          "histogram": [
           {
            "bin_end": 7.140000000000001,
            "bin_start": 0,
            "count": 5
           },
           {
            "bin_end": 14.280000000000001,
            "bin_start": 7.140000000000001,
            "count": 44
           },
           {
            "bin_end": 21.42,
            "bin_start": 14.280000000000001,
            "count": 55
           },
           {
            "bin_end": 28.560000000000002,
            "bin_start": 21.42,
            "count": 6
           },
           {
            "bin_end": 35.7,
            "bin_start": 28.560000000000002,
            "count": 0
           },
           {
            "bin_end": 42.84,
            "bin_start": 35.7,
            "count": 0
           },
           {
            "bin_end": 49.980000000000004,
            "bin_start": 42.84,
            "count": 0
           },
           {
            "bin_end": 57.120000000000005,
            "bin_start": 49.980000000000004,
            "count": 0
           },
           {
            "bin_end": 64.26,
            "bin_start": 57.120000000000005,
            "count": 0
           },
           {
            "bin_end": 71.4,
            "bin_start": 64.26,
            "count": 1
           }
          ],
          "max": "71.4",
          "min": "0.0",
          "nan_count": 0,
          "unique_count": 80
         }
        },
        {
         "dtype": "float64",
         "name": "USG%",
         "stats": {
          "histogram": [
           {
            "bin_end": 9.71,
            "bin_start": 6.7,
            "count": 4
           },
           {
            "bin_end": 12.719999999999999,
            "bin_start": 9.71,
            "count": 3
           },
           {
            "bin_end": 15.73,
            "bin_start": 12.719999999999999,
            "count": 13
           },
           {
            "bin_end": 18.74,
            "bin_start": 15.73,
            "count": 20
           },
           {
            "bin_end": 21.75,
            "bin_start": 18.74,
            "count": 32
           },
           {
            "bin_end": 24.759999999999998,
            "bin_start": 21.75,
            "count": 17
           },
           {
            "bin_end": 27.77,
            "bin_start": 24.759999999999998,
            "count": 10
           },
           {
            "bin_end": 30.779999999999998,
            "bin_start": 27.77,
            "count": 3
           },
           {
            "bin_end": 33.79,
            "bin_start": 30.779999999999998,
            "count": 6
           },
           {
            "bin_end": 36.8,
            "bin_start": 33.79,
            "count": 3
           }
          ],
          "max": "36.8",
          "min": "6.7",
          "nan_count": 0,
          "unique_count": 75
         }
        },
        {
         "dtype": "float64",
         "name": "OWS",
         "stats": {
          "histogram": [
           {
            "bin_end": -0.16999999999999993,
            "bin_start": -1.4,
            "count": 13
           },
           {
            "bin_end": 1.06,
            "bin_start": -0.16999999999999993,
            "count": 59
           },
           {
            "bin_end": 2.29,
            "bin_start": 1.06,
            "count": 20
           },
           {
            "bin_end": 3.52,
            "bin_start": 2.29,
            "count": 11
           },
           {
            "bin_end": 4.75,
            "bin_start": 3.52,
            "count": 3
           },
           {
            "bin_end": 5.98,
            "bin_start": 4.75,
            "count": 2
           },
           {
            "bin_end": 7.209999999999999,
            "bin_start": 5.98,
            "count": 2
           },
           {
            "bin_end": 8.44,
            "bin_start": 7.209999999999999,
            "count": 0
           },
           {
            "bin_end": 9.67,
            "bin_start": 8.44,
            "count": 0
           },
           {
            "bin_end": 10.9,
            "bin_start": 9.67,
            "count": 1
           }
          ],
          "max": "10.9",
          "min": "-1.4",
          "nan_count": 0,
          "unique_count": 44
         }
        },
        {
         "dtype": "float64",
         "name": "DWS",
         "stats": {
          "histogram": [
           {
            "bin_end": 0.27,
            "bin_start": -0.1,
            "count": 38
           },
           {
            "bin_end": 0.64,
            "bin_start": 0.27,
            "count": 27
           },
           {
            "bin_end": 1.0099999999999998,
            "bin_start": 0.64,
            "count": 11
           },
           {
            "bin_end": 1.38,
            "bin_start": 1.0099999999999998,
            "count": 8
           },
           {
            "bin_end": 1.75,
            "bin_start": 1.38,
            "count": 8
           },
           {
            "bin_end": 2.1199999999999997,
            "bin_start": 1.75,
            "count": 11
           },
           {
            "bin_end": 2.4899999999999998,
            "bin_start": 2.1199999999999997,
            "count": 1
           },
           {
            "bin_end": 2.86,
            "bin_start": 2.4899999999999998,
            "count": 1
           },
           {
            "bin_end": 3.23,
            "bin_start": 2.86,
            "count": 4
           },
           {
            "bin_end": 3.6,
            "bin_start": 3.23,
            "count": 2
           }
          ],
          "max": "3.6",
          "min": "-0.1",
          "nan_count": 0,
          "unique_count": 27
         }
        },
        {
         "dtype": "float64",
         "name": "WS",
         "stats": {
          "histogram": [
           {
            "bin_end": -0.010000000000000009,
            "bin_start": -1.3,
            "count": 12
           },
           {
            "bin_end": 1.28,
            "bin_start": -0.010000000000000009,
            "count": 45
           },
           {
            "bin_end": 2.5700000000000003,
            "bin_start": 1.28,
            "count": 22
           },
           {
            "bin_end": 3.8600000000000003,
            "bin_start": 2.5700000000000003,
            "count": 16
           },
           {
            "bin_end": 5.15,
            "bin_start": 3.8600000000000003,
            "count": 5
           },
           {
            "bin_end": 6.44,
            "bin_start": 5.15,
            "count": 5
           },
           {
            "bin_end": 7.730000000000001,
            "bin_start": 6.44,
            "count": 2
           },
           {
            "bin_end": 9.02,
            "bin_start": 7.730000000000001,
            "count": 2
           },
           {
            "bin_end": 10.309999999999999,
            "bin_start": 9.02,
            "count": 1
           },
           {
            "bin_end": 11.6,
            "bin_start": 10.309999999999999,
            "count": 1
           }
          ],
          "max": "11.6",
          "min": "-1.3",
          "nan_count": 0,
          "unique_count": 52
         }
        },
        {
         "dtype": "float64",
         "name": "WS/48",
         "stats": {
          "histogram": [
           {
            "bin_end": -0.17909999999999998,
            "bin_start": -0.249,
            "count": 3
           },
           {
            "bin_end": -0.10919999999999999,
            "bin_start": -0.17909999999999998,
            "count": 3
           },
           {
            "bin_end": -0.0393,
            "bin_start": -0.10919999999999999,
            "count": 5
           },
           {
            "bin_end": 0.030600000000000016,
            "bin_start": -0.0393,
            "count": 16
           },
           {
            "bin_end": 0.10050000000000003,
            "bin_start": 0.030600000000000016,
            "count": 48
           },
           {
            "bin_end": 0.1704,
            "bin_start": 0.10050000000000003,
            "count": 27
           },
           {
            "bin_end": 0.2403,
            "bin_start": 0.1704,
            "count": 8
           },
           {
            "bin_end": 0.31020000000000003,
            "bin_start": 0.2403,
            "count": 0
           },
           {
            "bin_end": 0.3801,
            "bin_start": 0.31020000000000003,
            "count": 0
           },
           {
            "bin_end": 0.45,
            "bin_start": 0.3801,
            "count": 1
           }
          ],
          "max": "0.45",
          "min": "-0.249",
          "nan_count": 0,
          "unique_count": 94
         }
        },
        {
         "dtype": "float64",
         "name": "OBPM",
         "stats": {
          "histogram": [
           {
            "bin_end": -12.030000000000001,
            "bin_start": -14.3,
            "count": 1
           },
           {
            "bin_end": -9.76,
            "bin_start": -12.030000000000001,
            "count": 2
           },
           {
            "bin_end": -7.489999999999999,
            "bin_start": -9.76,
            "count": 4
           },
           {
            "bin_end": -5.219999999999999,
            "bin_start": -7.489999999999999,
            "count": 3
           },
           {
            "bin_end": -2.9499999999999993,
            "bin_start": -5.219999999999999,
            "count": 15
           },
           {
            "bin_end": -0.6799999999999979,
            "bin_start": -2.9499999999999993,
            "count": 30
           },
           {
            "bin_end": 1.5900000000000034,
            "bin_start": -0.6799999999999979,
            "count": 34
           },
           {
            "bin_end": 3.860000000000003,
            "bin_start": 1.5900000000000034,
            "count": 12
           },
           {
            "bin_end": 6.130000000000003,
            "bin_start": 3.860000000000003,
            "count": 4
           },
           {
            "bin_end": 8.4,
            "bin_start": 6.130000000000003,
            "count": 6
           }
          ],
          "max": "8.4",
          "min": "-14.3",
          "nan_count": 0,
          "unique_count": 73
         }
        },
        {
         "dtype": "float64",
         "name": "DBPM",
         "stats": {
          "histogram": [
           {
            "bin_end": -4.51,
            "bin_start": -5.6,
            "count": 2
           },
           {
            "bin_end": -3.42,
            "bin_start": -4.51,
            "count": 1
           },
           {
            "bin_end": -2.33,
            "bin_start": -3.42,
            "count": 9
           },
           {
            "bin_end": -1.2400000000000002,
            "bin_start": -2.33,
            "count": 21
           },
           {
            "bin_end": -0.15000000000000036,
            "bin_start": -1.2400000000000002,
            "count": 30
           },
           {
            "bin_end": 0.9399999999999995,
            "bin_start": -0.15000000000000036,
            "count": 22
           },
           {
            "bin_end": 2.0299999999999994,
            "bin_start": 0.9399999999999995,
            "count": 19
           },
           {
            "bin_end": 3.119999999999999,
            "bin_start": 2.0299999999999994,
            "count": 5
           },
           {
            "bin_end": 4.209999999999999,
            "bin_start": 3.119999999999999,
            "count": 0
           },
           {
            "bin_end": 5.3,
            "bin_start": 4.209999999999999,
            "count": 2
           }
          ],
          "max": "5.3",
          "min": "-5.6",
          "nan_count": 0,
          "unique_count": 54
         }
        },
        {
         "dtype": "float64",
         "name": "BPM",
         "stats": {
          "histogram": [
           {
            "bin_end": -13.030000000000001,
            "bin_start": -16,
            "count": 2
           },
           {
            "bin_end": -10.06,
            "bin_start": -13.030000000000001,
            "count": 3
           },
           {
            "bin_end": -7.09,
            "bin_start": -10.06,
            "count": 3
           },
           {
            "bin_end": -4.120000000000001,
            "bin_start": -7.09,
            "count": 15
           },
           {
            "bin_end": -1.1500000000000021,
            "bin_start": -4.120000000000001,
            "count": 28
           },
           {
            "bin_end": 1.8200000000000003,
            "bin_start": -1.1500000000000021,
            "count": 42
           },
           {
            "bin_end": 4.789999999999999,
            "bin_start": 1.8200000000000003,
            "count": 13
           },
           {
            "bin_end": 7.759999999999998,
            "bin_start": 4.789999999999999,
            "count": 2
           },
           {
            "bin_end": 10.729999999999997,
            "bin_start": 7.759999999999998,
            "count": 2
           },
           {
            "bin_end": 13.7,
            "bin_start": 10.729999999999997,
            "count": 1
           }
          ],
          "max": "13.7",
          "min": "-16.0",
          "nan_count": 0,
          "unique_count": 71
         }
        },
        {
         "dtype": "float64",
         "name": "VORP",
         "stats": {
          "histogram": [
           {
            "bin_end": -0.9199999999999999,
            "bin_start": -1.7,
            "count": 1
           },
           {
            "bin_end": -0.1399999999999999,
            "bin_start": -0.9199999999999999,
            "count": 17
           },
           {
            "bin_end": 0.6399999999999999,
            "bin_start": -0.1399999999999999,
            "count": 60
           },
           {
            "bin_end": 1.4200000000000002,
            "bin_start": 0.6399999999999999,
            "count": 16
           },
           {
            "bin_end": 2.2,
            "bin_start": 1.4200000000000002,
            "count": 8
           },
           {
            "bin_end": 2.9799999999999995,
            "bin_start": 2.2,
            "count": 4
           },
           {
            "bin_end": 3.76,
            "bin_start": 2.9799999999999995,
            "count": 2
           },
           {
            "bin_end": 4.54,
            "bin_start": 3.76,
            "count": 0
           },
           {
            "bin_end": 5.32,
            "bin_start": 4.54,
            "count": 0
           },
           {
            "bin_end": 6.1,
            "bin_start": 5.32,
            "count": 3
           }
          ],
          "max": "6.1",
          "min": "-1.7",
          "nan_count": 0,
          "unique_count": 31
         }
        },
        {
         "dtype": "int64",
         "name": "_deepnote_index_column"
        }
       ],
       "row_count": 111,
       "rows": [
        {
         "3PAr": 0.627,
         "AST%": 14.3,
         "Age": 25,
         "BLK%": 0.3,
         "BPM": -2.8,
         "DBPM": -0.1,
         "DRB%": 11.2,
         "DWS": 0.7,
         "FTr": 0.173,
         "G": 58,
         "MP": 930,
         "OBPM": -2.7,
         "ORB%": 2.3,
         "OWS": 0.7,
         "PER": 9,
         "Player": "Ryan Arcidiacono",
         "Pos": "PG",
         "STL%": 1.4,
         "TOV%": 13.5,
         "TRB%": 6.5,
         "TS%": 0.551,
         "Tm": "CHI",
         "USG%": 12.5,
         "VORP": -0.2,
         "WS": 1.4,
         "WS/48": 0.071,
         "_deepnote_index_column": 17
        },
        {
         "3PAr": 0.436,
         "AST%": 26.8,
         "Age": 32,
         "BLK%": 0.1,
         "BPM": -1.6,
         "DBPM": -1.3,
         "DRB%": 7.8,
         "DWS": 0.9,
         "FTr": 0.393,
         "G": 57,
         "MP": 1420,
         "OBPM": -0.3,
         "ORB%": 1.6,
         "OWS": 2,
         "PER": 14,
         "Player": "D.J. Augustin",
         "Pos": "PG",
         "STL%": 1.2,
         "TOV%": 13.7,
         "TRB%": 4.6,
         "TS%": 0.554,
         "Tm": "ORL",
         "USG%": 19.1,
         "VORP": 0.2,
         "WS": 2.9,
         "WS/48": 0.098,
         "_deepnote_index_column": 21
        },
        {
         "3PAr": 0.575,
         "AST%": 29.1,
         "Age": 22,
         "BLK%": 1.6,
         "BPM": 0.6,
         "DBPM": 0.6,
         "DRB%": 16.4,
         "DWS": 2,
         "FTr": 0.111,
         "G": 63,
         "MP": 2025,
         "OBPM": 0.1,
         "ORB%": 3.7,
         "OWS": 0.4,
         "PER": 13.1,
         "Player": "Lonzo Ball",
         "Pos": "PG",
         "STL%": 2,
         "TOV%": 21.1,
         "TRB%": 10,
         "TS%": 0.517,
         "Tm": "NOP",
         "USG%": 18.5,
         "VORP": 1.3,
         "WS": 2.4,
         "WS/48": 0.058,
         "_deepnote_index_column": 25
        },
        {
         "3PAr": 0.411,
         "AST%": 37.1,
         "Age": 35,
         "BLK%": 0.4,
         "BPM": -1.4,
         "DBPM": -3,
         "DRB%": 9.9,
         "DWS": 0.2,
         "FTr": 0.106,
         "G": 29,
         "MP": 450,
         "OBPM": 1.6,
         "ORB%": 2.4,
         "OWS": 0.5,
         "PER": 14.6,
         "Player": "J.J. Barea",
         "Pos": "PG",
         "STL%": 0.5,
         "TOV%": 14.9,
         "TRB%": 6.2,
         "TS%": 0.512,
         "Tm": "DAL",
         "USG%": 24.2,
         "VORP": 0.1,
         "WS": 0.7,
         "WS/48": 0.072,
         "_deepnote_index_column": 27
        },
        {
         "3PAr": 0.604,
         "AST%": 18.2,
         "Age": 31,
         "BLK%": 1.6,
         "BPM": 2.2,
         "DBPM": 2.5,
         "DRB%": 15.8,
         "DWS": 2,
         "FTr": 0.138,
         "G": 51,
         "MP": 1342,
         "OBPM": -0.3,
         "ORB%": 4.5,
         "OWS": 1.6,
         "PER": 12.5,
         "Player": "Patrick Beverley",
         "Pos": "PG",
         "STL%": 1.9,
         "TOV%": 15.4,
         "TRB%": 10.3,
         "TS%": 0.56,
         "Tm": "LAC",
         "USG%": 13.3,
         "VORP": 1.4,
         "WS": 3.6,
         "WS/48": 0.128,
         "_deepnote_index_column": 53
        },
        {
         "3PAr": 0.306,
         "AST%": 28.7,
         "Age": 30,
         "BLK%": 1.4,
         "BPM": 1.8,
         "DBPM": 1.1,
         "DRB%": 13.5,
         "DWS": 3,
         "FTr": 0.304,
         "G": 61,
         "MP": 1646,
         "OBPM": 0.8,
         "ORB%": 2.8,
         "OWS": 2.4,
         "PER": 17.6,
         "Player": "Eric Bledsoe",
         "Pos": "PG",
         "STL%": 1.6,
         "TOV%": 15.7,
         "TRB%": 8.5,
         "TS%": 0.571,
         "Tm": "MIL",
         "USG%": 23.7,
         "VORP": 1.6,
         "WS": 5.4,
         "WS/48": 0.157,
         "_deepnote_index_column": 58
        },
        {
         "3PAr": 0.5,
         "AST%": 21,
         "Age": 22,
         "BLK%": 0,
         "BPM": -11.9,
         "DBPM": -2.8,
         "DRB%": 8.7,
         "DWS": 0,
         "FTr": 0,
         "G": 10,
         "MP": 53,
         "OBPM": -9.1,
         "ORB%": 0,
         "OWS": -0.1,
         "PER": 0.8,
         "Player": "Jordan Bone",
         "Pos": "PG",
         "STL%": 0.9,
         "TOV%": 9.1,
         "TRB%": 4.3,
         "TS%": 0.3,
         "Tm": "DET",
         "USG%": 18.1,
         "VORP": -0.1,
         "WS": -0.1,
         "WS/48": -0.117,
         "_deepnote_index_column": 66
        },
        {
         "3PAr": 0.333,
         "AST%": 19.4,
         "Age": 22,
         "BLK%": 0.9,
         "BPM": -4.3,
         "DBPM": -0.3,
         "DRB%": 10.7,
         "DWS": 0.6,
         "FTr": 0.128,
         "G": 45,
         "MP": 1015,
         "OBPM": -4,
         "ORB%": 2.5,
         "OWS": -0.6,
         "PER": 9.1,
         "Player": "Ky Bowman",
         "Pos": "PG",
         "STL%": 2.1,
         "TOV%": 17.1,
         "TRB%": 6.5,
         "TS%": 0.494,
         "Tm": "GSW",
         "USG%": 17.2,
         "VORP": -0.6,
         "WS": -0.1,
         "WS/48": -0.003,
         "_deepnote_index_column": 71
        },
        {
         "3PAr": 0.309,
         "AST%": 33.8,
         "Age": 27,
         "BLK%": 0.5,
         "BPM": 1.8,
         "DBPM": -0.5,
         "DRB%": 14.1,
         "DWS": 1.7,
         "FTr": 0.25,
         "G": 54,
         "MP": 1666,
         "OBPM": 2.3,
         "ORB%": 3.1,
         "OWS": 2.3,
         "PER": 17.7,
         "Player": "Malcolm Brogdon",
         "Pos": "PG",
         "STL%": 1,
         "TOV%": 13.7,
         "TRB%": 8.6,
         "TS%": 0.541,
         "Tm": "IND",
         "USG%": 25.2,
         "VORP": 1.6,
         "WS": 4,
         "WS/48": 0.114,
         "_deepnote_index_column": 81
        },
        {
         "3PAr": 0.309,
         "AST%": 27,
         "Age": 23,
         "BLK%": 0.3,
         "BPM": -0.9,
         "DBPM": -1,
         "DRB%": 11.3,
         "DWS": 0.6,
         "FTr": 0.193,
         "G": 57,
         "MP": 1022,
         "OBPM": 0.1,
         "ORB%": 2.3,
         "OWS": 1.6,
         "PER": 14.9,
         "Player": "Jalen Brunson",
         "Pos": "PG",
         "STL%": 1,
         "TOV%": 13.6,
         "TRB%": 6.9,
         "TS%": 0.553,
         "Tm": "DAL",
         "USG%": 20.4,
         "VORP": 0.3,
         "WS": 2.1,
         "WS/48": 0.101,
         "_deepnote_index_column": 89
        }
       ]
      },
      "text/html": [
       "<div>\n",
       "<style scoped>\n",
       "    .dataframe tbody tr th:only-of-type {\n",
       "        vertical-align: middle;\n",
       "    }\n",
       "\n",
       "    .dataframe tbody tr th {\n",
       "        vertical-align: top;\n",
       "    }\n",
       "\n",
       "    .dataframe thead th {\n",
       "        text-align: right;\n",
       "    }\n",
       "</style>\n",
       "<table border=\"1\" class=\"dataframe\">\n",
       "  <thead>\n",
       "    <tr style=\"text-align: right;\">\n",
       "      <th></th>\n",
       "      <th>Player</th>\n",
       "      <th>Pos</th>\n",
       "      <th>Age</th>\n",
       "      <th>Tm</th>\n",
       "      <th>G</th>\n",
       "      <th>MP</th>\n",
       "      <th>PER</th>\n",
       "      <th>TS%</th>\n",
       "      <th>3PAr</th>\n",
       "      <th>FTr</th>\n",
       "      <th>...</th>\n",
       "      <th>TOV%</th>\n",
       "      <th>USG%</th>\n",
       "      <th>OWS</th>\n",
       "      <th>DWS</th>\n",
       "      <th>WS</th>\n",
       "      <th>WS/48</th>\n",
       "      <th>OBPM</th>\n",
       "      <th>DBPM</th>\n",
       "      <th>BPM</th>\n",
       "      <th>VORP</th>\n",
       "    </tr>\n",
       "  </thead>\n",
       "  <tbody>\n",
       "    <tr>\n",
       "      <th>17</th>\n",
       "      <td>Ryan Arcidiacono</td>\n",
       "      <td>PG</td>\n",
       "      <td>25</td>\n",
       "      <td>CHI</td>\n",
       "      <td>58</td>\n",
       "      <td>930</td>\n",
       "      <td>9.0</td>\n",
       "      <td>0.551</td>\n",
       "      <td>0.627</td>\n",
       "      <td>0.173</td>\n",
       "      <td>...</td>\n",
       "      <td>13.5</td>\n",
       "      <td>12.5</td>\n",
       "      <td>0.7</td>\n",
       "      <td>0.7</td>\n",
       "      <td>1.4</td>\n",
       "      <td>0.071</td>\n",
       "      <td>-2.7</td>\n",
       "      <td>-0.1</td>\n",
       "      <td>-2.8</td>\n",
       "      <td>-0.2</td>\n",
       "    </tr>\n",
       "    <tr>\n",
       "      <th>21</th>\n",
       "      <td>D.J. Augustin</td>\n",
       "      <td>PG</td>\n",
       "      <td>32</td>\n",
       "      <td>ORL</td>\n",
       "      <td>57</td>\n",
       "      <td>1420</td>\n",
       "      <td>14.0</td>\n",
       "      <td>0.554</td>\n",
       "      <td>0.436</td>\n",
       "      <td>0.393</td>\n",
       "      <td>...</td>\n",
       "      <td>13.7</td>\n",
       "      <td>19.1</td>\n",
       "      <td>2.0</td>\n",
       "      <td>0.9</td>\n",
       "      <td>2.9</td>\n",
       "      <td>0.098</td>\n",
       "      <td>-0.3</td>\n",
       "      <td>-1.3</td>\n",
       "      <td>-1.6</td>\n",
       "      <td>0.2</td>\n",
       "    </tr>\n",
       "    <tr>\n",
       "      <th>25</th>\n",
       "      <td>Lonzo Ball</td>\n",
       "      <td>PG</td>\n",
       "      <td>22</td>\n",
       "      <td>NOP</td>\n",
       "      <td>63</td>\n",
       "      <td>2025</td>\n",
       "      <td>13.1</td>\n",
       "      <td>0.517</td>\n",
       "      <td>0.575</td>\n",
       "      <td>0.111</td>\n",
       "      <td>...</td>\n",
       "      <td>21.1</td>\n",
       "      <td>18.5</td>\n",
       "      <td>0.4</td>\n",
       "      <td>2.0</td>\n",
       "      <td>2.4</td>\n",
       "      <td>0.058</td>\n",
       "      <td>0.1</td>\n",
       "      <td>0.6</td>\n",
       "      <td>0.6</td>\n",
       "      <td>1.3</td>\n",
       "    </tr>\n",
       "    <tr>\n",
       "      <th>27</th>\n",
       "      <td>J.J. Barea</td>\n",
       "      <td>PG</td>\n",
       "      <td>35</td>\n",
       "      <td>DAL</td>\n",
       "      <td>29</td>\n",
       "      <td>450</td>\n",
       "      <td>14.6</td>\n",
       "      <td>0.512</td>\n",
       "      <td>0.411</td>\n",
       "      <td>0.106</td>\n",
       "      <td>...</td>\n",
       "      <td>14.9</td>\n",
       "      <td>24.2</td>\n",
       "      <td>0.5</td>\n",
       "      <td>0.2</td>\n",
       "      <td>0.7</td>\n",
       "      <td>0.072</td>\n",
       "      <td>1.6</td>\n",
       "      <td>-3.0</td>\n",
       "      <td>-1.4</td>\n",
       "      <td>0.1</td>\n",
       "    </tr>\n",
       "    <tr>\n",
       "      <th>53</th>\n",
       "      <td>Patrick Beverley</td>\n",
       "      <td>PG</td>\n",
       "      <td>31</td>\n",
       "      <td>LAC</td>\n",
       "      <td>51</td>\n",
       "      <td>1342</td>\n",
       "      <td>12.5</td>\n",
       "      <td>0.560</td>\n",
       "      <td>0.604</td>\n",
       "      <td>0.138</td>\n",
       "      <td>...</td>\n",
       "      <td>15.4</td>\n",
       "      <td>13.3</td>\n",
       "      <td>1.6</td>\n",
       "      <td>2.0</td>\n",
       "      <td>3.6</td>\n",
       "      <td>0.128</td>\n",
       "      <td>-0.3</td>\n",
       "      <td>2.5</td>\n",
       "      <td>2.2</td>\n",
       "      <td>1.4</td>\n",
       "    </tr>\n",
       "    <tr>\n",
       "      <th>...</th>\n",
       "      <td>...</td>\n",
       "      <td>...</td>\n",
       "      <td>...</td>\n",
       "      <td>...</td>\n",
       "      <td>...</td>\n",
       "      <td>...</td>\n",
       "      <td>...</td>\n",
       "      <td>...</td>\n",
       "      <td>...</td>\n",
       "      <td>...</td>\n",
       "      <td>...</td>\n",
       "      <td>...</td>\n",
       "      <td>...</td>\n",
       "      <td>...</td>\n",
       "      <td>...</td>\n",
       "      <td>...</td>\n",
       "      <td>...</td>\n",
       "      <td>...</td>\n",
       "      <td>...</td>\n",
       "      <td>...</td>\n",
       "      <td>...</td>\n",
       "    </tr>\n",
       "    <tr>\n",
       "      <th>618</th>\n",
       "      <td>Tremont Waters</td>\n",
       "      <td>PG</td>\n",
       "      <td>22</td>\n",
       "      <td>BOS</td>\n",
       "      <td>11</td>\n",
       "      <td>119</td>\n",
       "      <td>4.3</td>\n",
       "      <td>0.381</td>\n",
       "      <td>0.490</td>\n",
       "      <td>0.163</td>\n",
       "      <td>...</td>\n",
       "      <td>22.2</td>\n",
       "      <td>24.2</td>\n",
       "      <td>-0.5</td>\n",
       "      <td>0.2</td>\n",
       "      <td>-0.3</td>\n",
       "      <td>-0.103</td>\n",
       "      <td>-8.5</td>\n",
       "      <td>1.0</td>\n",
       "      <td>-7.5</td>\n",
       "      <td>-0.2</td>\n",
       "    </tr>\n",
       "    <tr>\n",
       "      <th>623</th>\n",
       "      <td>Russell Westbrook</td>\n",
       "      <td>PG</td>\n",
       "      <td>31</td>\n",
       "      <td>HOU</td>\n",
       "      <td>57</td>\n",
       "      <td>2049</td>\n",
       "      <td>21.0</td>\n",
       "      <td>0.536</td>\n",
       "      <td>0.166</td>\n",
       "      <td>0.297</td>\n",
       "      <td>...</td>\n",
       "      <td>15.0</td>\n",
       "      <td>34.4</td>\n",
       "      <td>1.7</td>\n",
       "      <td>2.5</td>\n",
       "      <td>4.2</td>\n",
       "      <td>0.098</td>\n",
       "      <td>1.6</td>\n",
       "      <td>-0.1</td>\n",
       "      <td>1.5</td>\n",
       "      <td>1.8</td>\n",
       "    </tr>\n",
       "    <tr>\n",
       "      <th>638</th>\n",
       "      <td>Nigel Williams-Goss</td>\n",
       "      <td>PG</td>\n",
       "      <td>25</td>\n",
       "      <td>UTA</td>\n",
       "      <td>10</td>\n",
       "      <td>50</td>\n",
       "      <td>8.1</td>\n",
       "      <td>0.415</td>\n",
       "      <td>0.438</td>\n",
       "      <td>0.125</td>\n",
       "      <td>...</td>\n",
       "      <td>15.1</td>\n",
       "      <td>17.4</td>\n",
       "      <td>-0.1</td>\n",
       "      <td>0.1</td>\n",
       "      <td>0.0</td>\n",
       "      <td>0.017</td>\n",
       "      <td>-5.2</td>\n",
       "      <td>1.3</td>\n",
       "      <td>-3.9</td>\n",
       "      <td>0.0</td>\n",
       "    </tr>\n",
       "    <tr>\n",
       "      <th>644</th>\n",
       "      <td>Justin Wright-Foreman</td>\n",
       "      <td>PG</td>\n",
       "      <td>22</td>\n",
       "      <td>UTA</td>\n",
       "      <td>4</td>\n",
       "      <td>45</td>\n",
       "      <td>8.8</td>\n",
       "      <td>0.437</td>\n",
       "      <td>0.500</td>\n",
       "      <td>0.200</td>\n",
       "      <td>...</td>\n",
       "      <td>12.1</td>\n",
       "      <td>24.1</td>\n",
       "      <td>-0.1</td>\n",
       "      <td>0.1</td>\n",
       "      <td>0.0</td>\n",
       "      <td>-0.008</td>\n",
       "      <td>-7.0</td>\n",
       "      <td>-2.0</td>\n",
       "      <td>-9.0</td>\n",
       "      <td>-0.1</td>\n",
       "    </tr>\n",
       "    <tr>\n",
       "      <th>646</th>\n",
       "      <td>Trae Young</td>\n",
       "      <td>PG</td>\n",
       "      <td>21</td>\n",
       "      <td>ATL</td>\n",
       "      <td>60</td>\n",
       "      <td>2120</td>\n",
       "      <td>23.9</td>\n",
       "      <td>0.595</td>\n",
       "      <td>0.455</td>\n",
       "      <td>0.448</td>\n",
       "      <td>...</td>\n",
       "      <td>16.2</td>\n",
       "      <td>34.9</td>\n",
       "      <td>5.3</td>\n",
       "      <td>0.6</td>\n",
       "      <td>5.9</td>\n",
       "      <td>0.133</td>\n",
       "      <td>6.2</td>\n",
       "      <td>-2.3</td>\n",
       "      <td>3.9</td>\n",
       "      <td>3.1</td>\n",
       "    </tr>\n",
       "  </tbody>\n",
       "</table>\n",
       "<p>111 rows × 26 columns</p>\n",
       "</div>"
      ],
      "text/plain": [
       "                    Player Pos  Age   Tm   G    MP   PER    TS%   3PAr    FTr  \\\n",
       "17        Ryan Arcidiacono  PG   25  CHI  58   930   9.0  0.551  0.627  0.173   \n",
       "21           D.J. Augustin  PG   32  ORL  57  1420  14.0  0.554  0.436  0.393   \n",
       "25              Lonzo Ball  PG   22  NOP  63  2025  13.1  0.517  0.575  0.111   \n",
       "27              J.J. Barea  PG   35  DAL  29   450  14.6  0.512  0.411  0.106   \n",
       "53        Patrick Beverley  PG   31  LAC  51  1342  12.5  0.560  0.604  0.138   \n",
       "..                     ...  ..  ...  ...  ..   ...   ...    ...    ...    ...   \n",
       "618         Tremont Waters  PG   22  BOS  11   119   4.3  0.381  0.490  0.163   \n",
       "623      Russell Westbrook  PG   31  HOU  57  2049  21.0  0.536  0.166  0.297   \n",
       "638    Nigel Williams-Goss  PG   25  UTA  10    50   8.1  0.415  0.438  0.125   \n",
       "644  Justin Wright-Foreman  PG   22  UTA   4    45   8.8  0.437  0.500  0.200   \n",
       "646             Trae Young  PG   21  ATL  60  2120  23.9  0.595  0.455  0.448   \n",
       "\n",
       "     ...  TOV%  USG%  OWS  DWS   WS  WS/48  OBPM  DBPM  BPM  VORP  \n",
       "17   ...  13.5  12.5  0.7  0.7  1.4  0.071  -2.7  -0.1 -2.8  -0.2  \n",
       "21   ...  13.7  19.1  2.0  0.9  2.9  0.098  -0.3  -1.3 -1.6   0.2  \n",
       "25   ...  21.1  18.5  0.4  2.0  2.4  0.058   0.1   0.6  0.6   1.3  \n",
       "27   ...  14.9  24.2  0.5  0.2  0.7  0.072   1.6  -3.0 -1.4   0.1  \n",
       "53   ...  15.4  13.3  1.6  2.0  3.6  0.128  -0.3   2.5  2.2   1.4  \n",
       "..   ...   ...   ...  ...  ...  ...    ...   ...   ...  ...   ...  \n",
       "618  ...  22.2  24.2 -0.5  0.2 -0.3 -0.103  -8.5   1.0 -7.5  -0.2  \n",
       "623  ...  15.0  34.4  1.7  2.5  4.2  0.098   1.6  -0.1  1.5   1.8  \n",
       "638  ...  15.1  17.4 -0.1  0.1  0.0  0.017  -5.2   1.3 -3.9   0.0  \n",
       "644  ...  12.1  24.1 -0.1  0.1  0.0 -0.008  -7.0  -2.0 -9.0  -0.1  \n",
       "646  ...  16.2  34.9  5.3  0.6  5.9  0.133   6.2  -2.3  3.9   3.1  \n",
       "\n",
       "[111 rows x 26 columns]"
      ]
     },
     "execution_count": 4,
     "metadata": {},
     "output_type": "execute_result"
    }
   ],
   "source": [
    "df.loc[df['Pos'] == 'PG']"
   ]
  },
  {
   "cell_type": "markdown",
   "metadata": {
    "cell_id": "00010-d41be12d-505a-4499-bf5a-ca3a6167bf6d",
    "deepnote_cell_height": 52.69999694824219,
    "deepnote_cell_type": "markdown",
    "tags": []
   },
   "source": [
    "The following assigns a standard scaler to scaler and also initializes our training and testing data. "
   ]
  },
  {
   "cell_type": "code",
   "execution_count": null,
   "metadata": {
    "cell_id": "00011-731cfa90-d12c-4561-9d09-ce15da804f6b",
    "deepnote_cell_height": 153.3000030517578,
    "deepnote_cell_type": "code",
    "deepnote_to_be_reexecuted": false,
    "execution_millis": 26,
    "execution_start": 1647314442829,
    "source_hash": "ec980159",
    "tags": []
   },
   "outputs": [],
   "source": [
    "\n",
    "scaler = StandardScaler()\n",
    "df[[\"BPM\",\"USG%\"]] = scaler.fit_transform(df[[\"BPM\",\"USG%\"]])\n",
    "\n",
    "X_train, X_test, y_train, y_test = train_test_split(df[[\"BPM\",\"USG%\"]], df[\"Age\"], test_size=0.2)"
   ]
  },
  {
   "cell_type": "code",
   "execution_count": null,
   "metadata": {
    "cell_id": "00012-ede883bb-8382-4b0f-82f2-fb385cb90f43",
    "deepnote_cell_height": 616.5999755859375,
    "deepnote_cell_type": "code",
    "deepnote_to_be_reexecuted": false,
    "execution_millis": 90,
    "execution_start": 1647314442858,
    "source_hash": "6d7d2623",
    "tags": []
   },
   "outputs": [
    {
     "data": {
      "application/vnd.deepnote.dataframe.v3+json": {
       "column_count": 2,
       "columns": [
        {
         "dtype": "float64",
         "name": "USG%",
         "stats": {
          "histogram": [
           {
            "bin_end": -2.48425235144563,
            "bin_start": -3.2512946326215992,
            "count": 2
           },
           {
            "bin_end": -1.7172100702696609,
            "bin_start": -2.48425235144563,
            "count": 10
           },
           {
            "bin_end": -0.9501677890936917,
            "bin_start": -1.7172100702696609,
            "count": 81
           },
           {
            "bin_end": -0.18312550791772253,
            "bin_start": -0.9501677890936917,
            "count": 219
           },
           {
            "bin_end": 0.5839167732582466,
            "bin_start": -0.18312550791772253,
            "count": 182
           },
           {
            "bin_end": 1.3509590544342158,
            "bin_start": 0.5839167732582466,
            "count": 101
           },
           {
            "bin_end": 2.1180013356101846,
            "bin_start": 1.3509590544342158,
            "count": 34
           },
           {
            "bin_end": 2.885043616786154,
            "bin_start": 2.1180013356101846,
            "count": 16
           },
           {
            "bin_end": 3.652085897962124,
            "bin_start": 2.885043616786154,
            "count": 4
           },
           {
            "bin_end": 4.4191281791380925,
            "bin_start": 3.652085897962124,
            "count": 2
           }
          ],
          "max": "4.4191281791380925",
          "min": "-3.2512946326215992",
          "nan_count": 0,
          "unique_count": 208
         }
        },
        {
         "dtype": "float64",
         "name": "BPM",
         "stats": {
          "histogram": [
           {
            "bin_end": -4.7758828071347095,
            "bin_start": -5.754870741130957,
            "count": 2
           },
           {
            "bin_end": -3.7968948731384624,
            "bin_start": -4.7758828071347095,
            "count": 1
           },
           {
            "bin_end": -2.8179069391422154,
            "bin_start": -3.7968948731384624,
            "count": 8
           },
           {
            "bin_end": -1.8389190051459678,
            "bin_start": -2.8179069391422154,
            "count": 23
           },
           {
            "bin_end": -0.8599310711497203,
            "bin_start": -1.8389190051459678,
            "count": 64
           },
           {
            "bin_end": 0.11905686284652628,
            "bin_start": -0.8599310711497203,
            "count": 241
           },
           {
            "bin_end": 1.0980447968427738,
            "bin_start": 0.11905686284652628,
            "count": 260
           },
           {
            "bin_end": 2.0770327308390213,
            "bin_start": 1.0980447968427738,
            "count": 39
           },
           {
            "bin_end": 3.056020664835269,
            "bin_start": 2.0770327308390213,
            "count": 10
           },
           {
            "bin_end": 4.035008598831516,
            "bin_start": 3.056020664835269,
            "count": 3
           }
          ],
          "max": "4.035008598831516",
          "min": "-5.754870741130957",
          "nan_count": 0,
          "unique_count": 168
         }
        },
        {
         "dtype": "int64",
         "name": "_deepnote_index_column"
        }
       ],
       "row_count": 651,
       "rows": [
        {
         "BPM": 1.1245039301940236,
         "USG%": -0.17957438624561173,
         "_deepnote_index_column": 0
        },
        {
         "BPM": 1.2447727181542505,
         "USG%": 0.5128943398160268,
         "_deepnote_index_column": 1
        },
        {
         "BPM": 0.7636975663133428,
         "USG%": 0.9035177237482332,
         "_deepnote_index_column": 2
        },
        {
         "BPM": -1.8822157688116499,
         "USG%": -1.4402225798450057,
         "_deepnote_index_column": 3
        },
        {
         "BPM": -0.6795278892093805,
         "USG%": 0.8857621153876788,
         "_deepnote_index_column": 4
        },
        {
         "BPM": 0.11424611132811728,
         "USG%": -0.12630756116394706,
         "_deepnote_index_column": 5
        },
        {
         "BPM": 0.9801813846417512,
         "USG%": -0.6057089868989279,
         "_deepnote_index_column": 6
        },
        {
         "BPM": 0.25856865688038966,
         "USG%": 0.40636068965269817,
         "_deepnote_index_column": 7
        },
        {
         "BPM": -0.2946677677366543,
         "USG%": -0.9075543290283604,
         "_deepnote_index_column": 8
        },
        {
         "BPM": -1.4251943745627877,
         "USG%": -0.21508560296672127,
         "_deepnote_index_column": 9
        }
       ]
      },
      "text/html": [
       "<div>\n",
       "<style scoped>\n",
       "    .dataframe tbody tr th:only-of-type {\n",
       "        vertical-align: middle;\n",
       "    }\n",
       "\n",
       "    .dataframe tbody tr th {\n",
       "        vertical-align: top;\n",
       "    }\n",
       "\n",
       "    .dataframe thead th {\n",
       "        text-align: right;\n",
       "    }\n",
       "</style>\n",
       "<table border=\"1\" class=\"dataframe\">\n",
       "  <thead>\n",
       "    <tr style=\"text-align: right;\">\n",
       "      <th></th>\n",
       "      <th>USG%</th>\n",
       "      <th>BPM</th>\n",
       "    </tr>\n",
       "  </thead>\n",
       "  <tbody>\n",
       "    <tr>\n",
       "      <th>0</th>\n",
       "      <td>-0.179574</td>\n",
       "      <td>1.124504</td>\n",
       "    </tr>\n",
       "    <tr>\n",
       "      <th>1</th>\n",
       "      <td>0.512894</td>\n",
       "      <td>1.244773</td>\n",
       "    </tr>\n",
       "    <tr>\n",
       "      <th>2</th>\n",
       "      <td>0.903518</td>\n",
       "      <td>0.763698</td>\n",
       "    </tr>\n",
       "    <tr>\n",
       "      <th>3</th>\n",
       "      <td>-1.440223</td>\n",
       "      <td>-1.882216</td>\n",
       "    </tr>\n",
       "    <tr>\n",
       "      <th>4</th>\n",
       "      <td>0.885762</td>\n",
       "      <td>-0.679528</td>\n",
       "    </tr>\n",
       "    <tr>\n",
       "      <th>...</th>\n",
       "      <td>...</td>\n",
       "      <td>...</td>\n",
       "    </tr>\n",
       "    <tr>\n",
       "      <th>646</th>\n",
       "      <td>2.945413</td>\n",
       "      <td>1.365042</td>\n",
       "    </tr>\n",
       "    <tr>\n",
       "      <th>647</th>\n",
       "      <td>0.441872</td>\n",
       "      <td>0.282622</td>\n",
       "    </tr>\n",
       "    <tr>\n",
       "      <th>648</th>\n",
       "      <td>4.419128</td>\n",
       "      <td>-4.961097</td>\n",
       "    </tr>\n",
       "    <tr>\n",
       "      <th>649</th>\n",
       "      <td>-0.144063</td>\n",
       "      <td>-0.342775</td>\n",
       "    </tr>\n",
       "    <tr>\n",
       "      <th>650</th>\n",
       "      <td>-0.339375</td>\n",
       "      <td>1.100450</td>\n",
       "    </tr>\n",
       "  </tbody>\n",
       "</table>\n",
       "<p>651 rows × 2 columns</p>\n",
       "</div>"
      ],
      "text/plain": [
       "         USG%       BPM\n",
       "0   -0.179574  1.124504\n",
       "1    0.512894  1.244773\n",
       "2    0.903518  0.763698\n",
       "3   -1.440223 -1.882216\n",
       "4    0.885762 -0.679528\n",
       "..        ...       ...\n",
       "646  2.945413  1.365042\n",
       "647  0.441872  0.282622\n",
       "648  4.419128 -4.961097\n",
       "649 -0.144063 -0.342775\n",
       "650 -0.339375  1.100450\n",
       "\n",
       "[651 rows x 2 columns]"
      ]
     },
     "execution_count": 6,
     "metadata": {},
     "output_type": "execute_result"
    }
   ],
   "source": [
    "X = df[['USG%', 'BPM']]\n",
    "X"
   ]
  },
  {
   "cell_type": "markdown",
   "metadata": {
    "cell_id": "00013-ef6869dc-2336-45c3-88bc-28b96fe384d0",
    "deepnote_cell_height": 52.69999694824219,
    "deepnote_cell_type": "markdown",
    "tags": []
   },
   "source": [
    "Below, I'm ensuring that the dataframe X which holds usage rate and box plus/minus are resized for distribution."
   ]
  },
  {
   "cell_type": "code",
   "execution_count": null,
   "metadata": {
    "cell_id": "00014-7fb1bcd7-98e0-4ae7-a44f-95aac1525b59",
    "deepnote_cell_height": 117.30000305175781,
    "deepnote_cell_type": "code",
    "deepnote_to_be_reexecuted": false,
    "execution_millis": 17,
    "execution_start": 1647314442978,
    "source_hash": "3f7881ff",
    "tags": []
   },
   "outputs": [],
   "source": [
    "scaler = StandardScaler()\n",
    "scaler.fit(X)\n",
    "X_scaled = scaler.transform(X)"
   ]
  },
  {
   "cell_type": "code",
   "execution_count": null,
   "metadata": {
    "cell_id": "00015-fba8b5d1-23af-4c85-97ac-3a81ece46e93",
    "deepnote_cell_height": 347.45001220703125,
    "deepnote_cell_type": "code",
    "deepnote_output_heights": [
     232
    ],
    "deepnote_to_be_reexecuted": false,
    "execution_millis": 29,
    "execution_start": 1647314443002,
    "source_hash": "a564092",
    "tags": []
   },
   "outputs": [
    {
     "data": {
      "text/plain": [
       "0      26\n",
       "1      22\n",
       "2      34\n",
       "3      23\n",
       "4      21\n",
       "       ..\n",
       "646    21\n",
       "647    27\n",
       "648    30\n",
       "649    23\n",
       "650    22\n",
       "Name: Age, Length: 651, dtype: int64"
      ]
     },
     "execution_count": 8,
     "metadata": {},
     "output_type": "execute_result"
    }
   ],
   "source": [
    "y = df['Age']\n",
    "y"
   ]
  },
  {
   "cell_type": "code",
   "execution_count": null,
   "metadata": {
    "cell_id": "00016-c3404432-8371-46d5-b270-b6fbd3f1cd00",
    "deepnote_cell_height": 329.45001220703125,
    "deepnote_cell_type": "code",
    "deepnote_output_heights": [
     232
    ],
    "deepnote_to_be_reexecuted": false,
    "execution_millis": 28,
    "execution_start": 1647314443040,
    "source_hash": "d696aa0b",
    "tags": []
   },
   "outputs": [
    {
     "data": {
      "text/plain": [
       "69     27\n",
       "243    26\n",
       "281    23\n",
       "245    33\n",
       "388    33\n",
       "       ..\n",
       "228    21\n",
       "450    28\n",
       "638    25\n",
       "221    28\n",
       "327    32\n",
       "Name: Age, Length: 131, dtype: int64"
      ]
     },
     "execution_count": 9,
     "metadata": {},
     "output_type": "execute_result"
    }
   ],
   "source": [
    "y_test"
   ]
  },
  {
   "cell_type": "markdown",
   "metadata": {
    "cell_id": "00017-3f4ff3fa-4fda-4e2d-9d1f-3ea6c80e0388",
    "deepnote_cell_height": 75.10000610351562,
    "deepnote_cell_type": "markdown",
    "tags": []
   },
   "source": [
    "The K-neighbors classifier is assigned to clf and this is where we create an Altair scatter plot with box plus/minus being on the x-axis and usage rate being on the y axis. I am also configuring the orientiation of the legend. "
   ]
  },
  {
   "cell_type": "markdown",
   "metadata": {
    "cell_id": "00018-e24ce321-dc03-4348-b0d5-11a2e51e53eb",
    "deepnote_cell_height": 97.5,
    "deepnote_cell_type": "markdown",
    "tags": []
   },
   "source": [
    "The Altair chart below shows when nearest neighbors has a k value of 1 meaning that the bias is 0. If k = 1, then the object is simply assigned to the class of that single nearest neighbor. By hovering over the rightmost players, we can see that the more notable players like James Harden and Lebron James lead the lead in box plus/minus but there are also players who played minimal minutes but had productive games."
   ]
  },
  {
   "cell_type": "code",
   "execution_count": null,
   "metadata": {
    "cell_id": "00019-92b87ec3-089f-4352-9b94-460d9ab6fdcf",
    "deepnote_cell_height": 1035.38330078125,
    "deepnote_cell_type": "code",
    "deepnote_output_heights": [
     null,
     478
    ],
    "deepnote_to_be_reexecuted": false,
    "execution_millis": 428,
    "execution_start": 1647314443080,
    "source_hash": "9bdf8ed8",
    "tags": []
   },
   "outputs": [
    {
     "name": "stdout",
     "output_type": "stream",
     "text": [
      "The number of rows in this dataset is 651\n"
     ]
    },
    {
     "data": {
      "text/html": [
       "\n",
       "<div id=\"altair-viz-4a971e09a0824d2e9ca73946242aab6e\"></div>\n",
       "<script type=\"text/javascript\">\n",
       "  (function(spec, embedOpt){\n",
       "    let outputDiv = document.currentScript.previousElementSibling;\n",
       "    if (outputDiv.id !== \"altair-viz-4a971e09a0824d2e9ca73946242aab6e\") {\n",
       "      outputDiv = document.getElementById(\"altair-viz-4a971e09a0824d2e9ca73946242aab6e\");\n",
       "    }\n",
       "    const paths = {\n",
       "      \"vega\": \"https://cdn.jsdelivr.net/npm//vega@5?noext\",\n",
       "      \"vega-lib\": \"https://cdn.jsdelivr.net/npm//vega-lib?noext\",\n",
       "      \"vega-lite\": \"https://cdn.jsdelivr.net/npm//vega-lite@4.8.1?noext\",\n",
       "      \"vega-embed\": \"https://cdn.jsdelivr.net/npm//vega-embed@6?noext\",\n",
       "    };\n",
       "\n",
       "    function loadScript(lib) {\n",
       "      return new Promise(function(resolve, reject) {\n",
       "        var s = document.createElement('script');\n",
       "        s.src = paths[lib];\n",
       "        s.async = true;\n",
       "        s.onload = () => resolve(paths[lib]);\n",
       "        s.onerror = () => reject(`Error loading script: ${paths[lib]}`);\n",
       "        document.getElementsByTagName(\"head\")[0].appendChild(s);\n",
       "      });\n",
       "    }\n",
       "\n",
       "    function showError(err) {\n",
       "      outputDiv.innerHTML = `<div class=\"error\" style=\"color:red;\">${err}</div>`;\n",
       "      throw err;\n",
       "    }\n",
       "\n",
       "    function displayChart(vegaEmbed) {\n",
       "      vegaEmbed(outputDiv, spec, embedOpt)\n",
       "        .catch(err => showError(`Javascript Error: ${err.message}<br>This usually means there's a typo in your chart specification. See the javascript console for the full traceback.`));\n",
       "    }\n",
       "\n",
       "    if(typeof define === \"function\" && define.amd) {\n",
       "      requirejs.config({paths});\n",
       "      require([\"vega-embed\"], displayChart, err => showError(`Error loading script: ${err.message}`));\n",
       "    } else if (typeof vegaEmbed === \"function\") {\n",
       "      displayChart(vegaEmbed);\n",
       "    } else {\n",
       "      loadScript(\"vega\")\n",
       "        .then(() => loadScript(\"vega-lite\"))\n",
       "        .then(() => loadScript(\"vega-embed\"))\n",
       "        .catch(showError)\n",
       "        .then(() => displayChart(vegaEmbed));\n",
       "    }\n",
       "  })({\"config\": {\"view\": {\"continuousWidth\": 400, \"continuousHeight\": 300}}, \"data\": {\"name\": \"data-10f24a19120f821e978e87bf3166e46a\"}, \"mark\": \"circle\", \"encoding\": {\"color\": {\"type\": \"quantitative\", \"field\": \"pred\", \"title\": \"Age\"}, \"tooltip\": [{\"type\": \"nominal\", \"field\": \"Player\"}, {\"type\": \"quantitative\", \"field\": \"Age\"}, {\"type\": \"quantitative\", \"field\": \"BPM\"}, {\"type\": \"quantitative\", \"field\": \"USG%\"}, {\"type\": \"quantitative\", \"field\": \"MP\"}], \"x\": {\"type\": \"quantitative\", \"field\": \"BPM\"}, \"y\": {\"type\": \"quantitative\", \"field\": \"USG%\"}}, \"height\": 400, \"title\": \"Box Plus/Minus vs. Usage\", \"width\": 1000, \"$schema\": \"https://vega.github.io/schema/vega-lite/v4.8.1.json\", \"datasets\": {\"data-10f24a19120f821e978e87bf3166e46a\": [{\"Player\": \"Steven Adams\", \"Pos\": \"C\", \"Age\": 26, \"Tm\": \"OKC\", \"G\": 63, \"MP\": 1680, \"PER\": 20.5, \"TS%\": 0.604, \"3PAr\": 0.006, \"FTr\": 0.421, \"ORB%\": 14.0, \"DRB%\": 24.0, \"TRB%\": 19.2, \"AST%\": 13.2, \"STL%\": 1.5, \"BLK%\": 3.4, \"TOV%\": 14.2, \"USG%\": -0.17957438624561173, \"OWS\": 3.8, \"DWS\": 2.7, \"WS\": 6.5, \"WS/48\": 0.185, \"OBPM\": 1.9, \"DBPM\": 1.1, \"BPM\": 1.1245039301940236, \"VORP\": 2.1, \"pred\": 26}, {\"Player\": \"Bam Adebayo\", \"Pos\": \"PF\", \"Age\": 22, \"Tm\": \"MIA\", \"G\": 72, \"MP\": 2417, \"PER\": 20.3, \"TS%\": 0.598, \"3PAr\": 0.018, \"FTr\": 0.484, \"ORB%\": 8.5, \"DRB%\": 24.9, \"TRB%\": 17.0, \"AST%\": 24.2, \"STL%\": 1.7, \"BLK%\": 3.8, \"TOV%\": 17.6, \"USG%\": 0.5128943398160268, \"OWS\": 4.6, \"DWS\": 3.9, \"WS\": 8.5, \"WS/48\": 0.168, \"OBPM\": 1.4, \"DBPM\": 2.0, \"BPM\": 1.2447727181542505, \"VORP\": 3.3, \"pred\": 22}, {\"Player\": \"LaMarcus Aldridge\", \"Pos\": \"C\", \"Age\": 34, \"Tm\": \"SAS\", \"G\": 53, \"MP\": 1754, \"PER\": 19.7, \"TS%\": 0.571, \"3PAr\": 0.198, \"FTr\": 0.241, \"ORB%\": 6.3, \"DRB%\": 17.8, \"TRB%\": 12.0, \"AST%\": 11.4, \"STL%\": 1.0, \"BLK%\": 4.4, \"TOV%\": 7.8, \"USG%\": 0.9035177237482332, \"OWS\": 3.0, \"DWS\": 1.4, \"WS\": 4.5, \"WS/48\": 0.122, \"OBPM\": 1.8, \"DBPM\": -0.5, \"BPM\": 0.7636975663133428, \"VORP\": 1.5, \"pred\": 26}, {\"Player\": \"Kyle Alexander\", \"Pos\": \"PF\", \"Age\": 23, \"Tm\": \"MIA\", \"G\": 2, \"MP\": 13, \"PER\": 4.7, \"TS%\": 0.5, \"3PAr\": 0.0, \"FTr\": 0.0, \"ORB%\": 17.9, \"DRB%\": 8.3, \"TRB%\": 12.9, \"AST%\": 0.0, \"STL%\": 0.0, \"BLK%\": 0.0, \"TOV%\": 33.3, \"USG%\": -1.4402225798450057, \"OWS\": 0.0, \"DWS\": 0.0, \"WS\": 0.0, \"WS/48\": -0.003, \"OBPM\": -6.1, \"DBPM\": -3.5, \"BPM\": -1.8822157688116499, \"VORP\": 0.0, \"pred\": 34}, {\"Player\": \"Nickeil Alexander-Walker\", \"Pos\": \"SG\", \"Age\": 21, \"Tm\": \"NOP\", \"G\": 47, \"MP\": 591, \"PER\": 8.9, \"TS%\": 0.473, \"3PAr\": 0.5, \"FTr\": 0.139, \"ORB%\": 1.6, \"DRB%\": 13.5, \"TRB%\": 7.5, \"AST%\": 21.1, \"STL%\": 1.3, \"BLK%\": 1.1, \"TOV%\": 16.1, \"USG%\": 0.8857621153876788, \"OWS\": -0.7, \"DWS\": 0.4, \"WS\": -0.2, \"WS/48\": -0.02, \"OBPM\": -3.2, \"DBPM\": -1.4, \"BPM\": -0.6795278892093805, \"VORP\": -0.4, \"pred\": 21}, {\"Player\": \"Grayson Allen\", \"Pos\": \"SG\", \"Age\": 24, \"Tm\": \"MEM\", \"G\": 38, \"MP\": 718, \"PER\": 12.0, \"TS%\": 0.609, \"3PAr\": 0.562, \"FTr\": 0.179, \"ORB%\": 1.2, \"DRB%\": 11.1, \"TRB%\": 6.2, \"AST%\": 10.0, \"STL%\": 0.7, \"BLK%\": 0.2, \"TOV%\": 10.9, \"USG%\": -0.12630756116394706, \"OWS\": 0.8, \"DWS\": 0.4, \"WS\": 1.2, \"WS/48\": 0.082, \"OBPM\": -0.1, \"DBPM\": -1.2, \"BPM\": 0.11424611132811728, \"VORP\": 0.1, \"pred\": 24}, {\"Player\": \"Jarrett Allen\", \"Pos\": \"C\", \"Age\": 21, \"Tm\": \"BRK\", \"G\": 70, \"MP\": 1852, \"PER\": 20.7, \"TS%\": 0.664, \"3PAr\": 0.013, \"FTr\": 0.581, \"ORB%\": 12.3, \"DRB%\": 24.9, \"TRB%\": 18.7, \"AST%\": 8.9, \"STL%\": 1.0, \"BLK%\": 4.2, \"TOV%\": 11.7, \"USG%\": -0.6057089868989279, \"OWS\": 5.2, \"DWS\": 2.9, \"WS\": 8.2, \"WS/48\": 0.212, \"OBPM\": 1.4, \"DBPM\": 1.0, \"BPM\": 0.9801813846417512, \"VORP\": 2.0, \"pred\": 21}, {\"Player\": \"Kadeem Allen\", \"Pos\": \"SG\", \"Age\": 27, \"Tm\": \"NYK\", \"G\": 10, \"MP\": 117, \"PER\": 14.0, \"TS%\": 0.512, \"3PAr\": 0.364, \"FTr\": 0.25, \"ORB%\": 1.8, \"DRB%\": 6.6, \"TRB%\": 4.1, \"AST%\": 27.0, \"STL%\": 2.1, \"BLK%\": 1.6, \"TOV%\": 14.1, \"USG%\": 0.40636068965269817, \"OWS\": 0.1, \"DWS\": 0.1, \"WS\": 0.1, \"WS/48\": 0.053, \"OBPM\": -0.1, \"DBPM\": -0.6, \"BPM\": 0.25856865688038966, \"VORP\": 0.0, \"pred\": 27}, {\"Player\": \"Al-Farouq Aminu\", \"Pos\": \"PF\", \"Age\": 29, \"Tm\": \"ORL\", \"G\": 18, \"MP\": 380, \"PER\": 7.6, \"TS%\": 0.395, \"3PAr\": 0.419, \"FTr\": 0.337, \"ORB%\": 6.6, \"DRB%\": 18.4, \"TRB%\": 12.3, \"AST%\": 7.4, \"STL%\": 2.3, \"BLK%\": 1.9, \"TOV%\": 14.7, \"USG%\": -0.9075543290283604, \"OWS\": -0.4, \"DWS\": 0.5, \"WS\": 0.1, \"WS/48\": 0.014, \"OBPM\": -4.4, \"DBPM\": 1.4, \"BPM\": -0.2946677677366543, \"VORP\": -0.1, \"pred\": 29}, {\"Player\": \"Justin Anderson\", \"Pos\": \"SF\", \"Age\": 26, \"Tm\": \"BRK\", \"G\": 10, \"MP\": 107, \"PER\": 3.2, \"TS%\": 0.352, \"3PAr\": 0.763, \"FTr\": 0.105, \"ORB%\": 1.0, \"DRB%\": 18.9, \"TRB%\": 10.2, \"AST%\": 10.1, \"STL%\": 0.0, \"BLK%\": 4.7, \"TOV%\": 9.1, \"USG%\": -0.21508560296672127, \"OWS\": -0.2, \"DWS\": 0.1, \"WS\": -0.1, \"WS/48\": -0.054, \"OBPM\": -6.8, \"DBPM\": -0.9, \"BPM\": -1.4251943745627877, \"VORP\": -0.2, \"pred\": 26}, {\"Player\": \"Kyle Anderson\", \"Pos\": \"PF\", \"Age\": 26, \"Tm\": \"MEM\", \"G\": 67, \"MP\": 1330, \"PER\": 12.5, \"TS%\": 0.534, \"3PAr\": 0.257, \"FTr\": 0.236, \"ORB%\": 4.7, \"DRB%\": 17.6, \"TRB%\": 11.3, \"AST%\": 15.9, \"STL%\": 1.9, \"BLK%\": 2.4, \"TOV%\": 15.3, \"USG%\": -0.8542875039466958, \"OWS\": 0.9, \"DWS\": 1.7, \"WS\": 2.5, \"WS/48\": 0.091, \"OBPM\": -1.5, \"DBPM\": 2.0, \"BPM\": 0.5472137479849343, \"VORP\": 0.9, \"pred\": 26}, {\"Player\": \"Ryan Anderson\", \"Pos\": \"C\", \"Age\": 31, \"Tm\": \"HOU\", \"G\": 2, \"MP\": 14, \"PER\": 9.4, \"TS%\": 0.357, \"3PAr\": 0.714, \"FTr\": 0.0, \"ORB%\": 0.0, \"DRB%\": 52.9, \"TRB%\": 26.2, \"AST%\": 20.4, \"STL%\": 3.3, \"BLK%\": 0.0, \"TOV%\": 12.5, \"USG%\": 0.9567845488298978, \"OWS\": 0.0, \"DWS\": 0.0, \"WS\": 0.0, \"WS/48\": -0.037, \"OBPM\": -3.3, \"DBPM\": 0.5, \"BPM\": -0.2465602525525635, \"VORP\": 0.0, \"pred\": 31}, {\"Player\": \"Giannis Antetokounmpo\", \"Pos\": \"PF\", \"Age\": 25, \"Tm\": \"MIL\", \"G\": 63, \"MP\": 1917, \"PER\": 31.9, \"TS%\": 0.613, \"3PAr\": 0.237, \"FTr\": 0.508, \"ORB%\": 7.7, \"DRB%\": 34.8, \"TRB%\": 22.1, \"AST%\": 34.2, \"STL%\": 1.5, \"BLK%\": 3.0, \"TOV%\": 13.2, \"USG%\": 3.407058502586466, \"OWS\": 6.1, \"DWS\": 5.0, \"WS\": 11.1, \"WS/48\": 0.279, \"OBPM\": 7.4, \"DBPM\": 4.1, \"BPM\": 3.193127083109927, \"VORP\": 6.6, \"pred\": 25}, {\"Player\": \"Kostas Antetokounmpo\", \"Pos\": \"PF\", \"Age\": 22, \"Tm\": \"LAL\", \"G\": 5, \"MP\": 20, \"PER\": 16.3, \"TS%\": 0.902, \"3PAr\": 0.0, \"FTr\": 0.667, \"ORB%\": 11.1, \"DRB%\": 5.4, \"TRB%\": 8.2, \"AST%\": 13.7, \"STL%\": 0.0, \"BLK%\": 0.0, \"TOV%\": 20.5, \"USG%\": -1.4224669714844507, \"OWS\": 0.1, \"DWS\": 0.0, \"WS\": 0.1, \"WS/48\": 0.193, \"OBPM\": 0.2, \"DBPM\": -0.9, \"BPM\": 0.25856865688038966, \"VORP\": 0.0, \"pred\": 22}, {\"Player\": \"Thanasis Antetokounmpo\", \"Pos\": \"SF\", \"Age\": 27, \"Tm\": \"MIL\", \"G\": 20, \"MP\": 129, \"PER\": 12.2, \"TS%\": 0.496, \"3PAr\": 0.208, \"FTr\": 0.354, \"ORB%\": 9.8, \"DRB%\": 8.7, \"TRB%\": 9.2, \"AST%\": 16.3, \"STL%\": 2.5, \"BLK%\": 1.4, \"TOV%\": 17.8, \"USG%\": 0.5839167732582465, \"OWS\": -0.1, \"DWS\": 0.2, \"WS\": 0.2, \"WS/48\": 0.07, \"OBPM\": -4.6, \"DBPM\": 1.4, \"BPM\": -0.3427752829207451, \"VORP\": 0.0, \"pred\": 27}, {\"Player\": \"Carmelo Anthony\", \"Pos\": \"PF\", \"Age\": 35, \"Tm\": \"POR\", \"G\": 58, \"MP\": 1902, \"PER\": 12.4, \"TS%\": 0.525, \"3PAr\": 0.289, \"FTr\": 0.206, \"ORB%\": 4.0, \"DRB%\": 16.1, \"TRB%\": 10.1, \"AST%\": 6.4, \"STL%\": 1.2, \"BLK%\": 1.2, \"TOV%\": 10.5, \"USG%\": 0.5128943398160268, \"OWS\": 0.4, \"DWS\": 0.9, \"WS\": 1.3, \"WS/48\": 0.033, \"OBPM\": -1.8, \"DBPM\": -1.8, \"BPM\": -0.4389903132889267, \"VORP\": -0.8, \"pred\": 35}, {\"Player\": \"OG Anunoby\", \"Pos\": \"SF\", \"Age\": 22, \"Tm\": \"TOR\", \"G\": 69, \"MP\": 2066, \"PER\": 13.2, \"TS%\": 0.6, \"3PAr\": 0.403, \"FTr\": 0.18, \"ORB%\": 4.2, \"DRB%\": 14.2, \"TRB%\": 9.3, \"AST%\": 7.5, \"STL%\": 2.2, \"BLK%\": 2.1, \"TOV%\": 11.5, \"USG%\": -0.712242637062257, \"OWS\": 2.1, \"DWS\": 3.7, \"WS\": 5.7, \"WS/48\": 0.134, \"OBPM\": -0.8, \"DBPM\": 1.9, \"BPM\": 0.715590051129252, \"VORP\": 1.7, \"pred\": 22}, {\"Player\": \"Ryan Arcidiacono\", \"Pos\": \"PG\", \"Age\": 25, \"Tm\": \"CHI\", \"G\": 58, \"MP\": 930, \"PER\": 9.0, \"TS%\": 0.551, \"3PAr\": 0.627, \"FTr\": 0.173, \"ORB%\": 2.3, \"DRB%\": 11.2, \"TRB%\": 6.5, \"AST%\": 14.3, \"STL%\": 1.4, \"BLK%\": 0.3, \"TOV%\": 13.5, \"USG%\": -1.0318435875522443, \"OWS\": 0.7, \"DWS\": 0.7, \"WS\": 1.4, \"WS/48\": 0.071, \"OBPM\": -2.7, \"DBPM\": -0.1, \"BPM\": -0.2465602525525635, \"VORP\": -0.2, \"pred\": 25}, {\"Player\": \"Trevor Ariza\", \"Pos\": \"SF\", \"Age\": 34, \"Tm\": \"TOT\", \"G\": 53, \"MP\": 1493, \"PER\": 11.0, \"TS%\": 0.593, \"3PAr\": 0.639, \"FTr\": 0.228, \"ORB%\": 2.5, \"DRB%\": 15.7, \"TRB%\": 9.0, \"AST%\": 8.0, \"STL%\": 2.2, \"BLK%\": 0.9, \"TOV%\": 13.6, \"USG%\": -1.156132846076128, \"OWS\": 1.3, \"DWS\": 1.2, \"WS\": 2.5, \"WS/48\": 0.081, \"OBPM\": -1.4, \"DBPM\": 0.9, \"BPM\": 0.3066761720644804, \"VORP\": 0.5, \"pred\": 34}, {\"Player\": \"Trevor Ariza\", \"Pos\": \"SF\", \"Age\": 34, \"Tm\": \"SAC\", \"G\": 32, \"MP\": 791, \"PER\": 9.4, \"TS%\": 0.543, \"3PAr\": 0.739, \"FTr\": 0.164, \"ORB%\": 2.9, \"DRB%\": 18.2, \"TRB%\": 10.4, \"AST%\": 8.3, \"STL%\": 2.1, \"BLK%\": 0.8, \"TOV%\": 13.7, \"USG%\": -1.2626664962394574, \"OWS\": 0.3, \"DWS\": 0.8, \"WS\": 1.1, \"WS/48\": 0.066, \"OBPM\": -1.9, \"DBPM\": 1.3, \"BPM\": 0.25856865688038966, \"VORP\": 0.3, \"pred\": 34}, {\"Player\": \"Trevor Ariza\", \"Pos\": \"SF\", \"Age\": 34, \"Tm\": \"POR\", \"G\": 21, \"MP\": 702, \"PER\": 12.8, \"TS%\": 0.643, \"3PAr\": 0.535, \"FTr\": 0.296, \"ORB%\": 2.0, \"DRB%\": 12.8, \"TRB%\": 7.4, \"AST%\": 7.6, \"STL%\": 2.3, \"BLK%\": 1.0, \"TOV%\": 13.5, \"USG%\": -1.0318435875522443, \"OWS\": 1.0, \"DWS\": 0.4, \"WS\": 1.4, \"WS/48\": 0.098, \"OBPM\": -0.9, \"DBPM\": 0.4, \"BPM\": 0.33072992965652576, \"VORP\": 0.3, \"pred\": 34}, {\"Player\": \"D.J. Augustin\", \"Pos\": \"PG\", \"Age\": 32, \"Tm\": \"ORL\", \"G\": 57, \"MP\": 1420, \"PER\": 14.0, \"TS%\": 0.554, \"3PAr\": 0.436, \"FTr\": 0.393, \"ORB%\": 1.6, \"DRB%\": 7.8, \"TRB%\": 4.6, \"AST%\": 26.8, \"STL%\": 1.2, \"BLK%\": 0.1, \"TOV%\": 13.7, \"USG%\": 0.14002656424437554, \"OWS\": 2.0, \"DWS\": 0.9, \"WS\": 2.9, \"WS/48\": 0.098, \"OBPM\": -0.3, \"DBPM\": -1.3, \"BPM\": 0.042084838551981106, \"VORP\": 0.2, \"pred\": 32}, {\"Player\": \"Deandre Ayton\", \"Pos\": \"C\", \"Age\": 21, \"Tm\": \"PHO\", \"G\": 38, \"MP\": 1236, \"PER\": 20.0, \"TS%\": 0.568, \"3PAr\": 0.023, \"FTr\": 0.157, \"ORB%\": 13.0, \"DRB%\": 26.3, \"TRB%\": 19.6, \"AST%\": 9.7, \"STL%\": 1.0, \"BLK%\": 4.1, \"TOV%\": 11.6, \"USG%\": 0.9567845488298978, \"OWS\": 1.5, \"DWS\": 1.6, \"WS\": 3.1, \"WS/48\": 0.121, \"OBPM\": 0.8, \"DBPM\": -0.4, \"BPM\": 0.523159990392889, \"VORP\": 0.7, \"pred\": 21}, {\"Player\": \"Dwayne Bacon\", \"Pos\": \"SG\", \"Age\": 24, \"Tm\": \"CHO\", \"G\": 39, \"MP\": 687, \"PER\": 6.1, \"TS%\": 0.419, \"3PAr\": 0.275, \"FTr\": 0.217, \"ORB%\": 2.3, \"DRB%\": 14.0, \"TRB%\": 7.9, \"AST%\": 11.7, \"STL%\": 1.7, \"BLK%\": 0.3, \"TOV%\": 12.2, \"USG%\": 0.21104899768659466, \"OWS\": -1.2, \"DWS\": 0.4, \"WS\": -0.8, \"WS/48\": -0.053, \"OBPM\": -5.9, \"DBPM\": -0.9, \"BPM\": -1.2087105562343792, \"VORP\": -0.8, \"pred\": 26}, {\"Player\": \"Marvin Bagley III\", \"Pos\": \"PF\", \"Age\": 20, \"Tm\": \"SAC\", \"G\": 13, \"MP\": 334, \"PER\": 15.6, \"TS%\": 0.512, \"3PAr\": 0.132, \"FTr\": 0.186, \"ORB%\": 9.5, \"DRB%\": 23.5, \"TRB%\": 16.3, \"AST%\": 4.9, \"STL%\": 0.9, \"BLK%\": 3.4, \"TOV%\": 9.1, \"USG%\": 1.3296523244015497, \"OWS\": 0.0, \"DWS\": 0.3, \"WS\": 0.4, \"WS/48\": 0.051, \"OBPM\": -2.2, \"DBPM\": -1.3, \"BPM\": -0.41493655569688126, \"VORP\": -0.1, \"pred\": 20}, {\"Player\": \"Lonzo Ball\", \"Pos\": \"PG\", \"Age\": 22, \"Tm\": \"NOP\", \"G\": 63, \"MP\": 2025, \"PER\": 13.1, \"TS%\": 0.517, \"3PAr\": 0.575, \"FTr\": 0.111, \"ORB%\": 3.7, \"DRB%\": 16.4, \"TRB%\": 10.0, \"AST%\": 29.1, \"STL%\": 2.0, \"BLK%\": 1.6, \"TOV%\": 21.1, \"USG%\": 0.03349291408104625, \"OWS\": 0.4, \"DWS\": 2.0, \"WS\": 2.4, \"WS/48\": 0.058, \"OBPM\": 0.1, \"DBPM\": 0.6, \"BPM\": 0.5712675055769797, \"VORP\": 1.3, \"pred\": 22}, {\"Player\": \"Mo Bamba\", \"Pos\": \"C\", \"Age\": 21, \"Tm\": \"ORL\", \"G\": 62, \"MP\": 878, \"PER\": 17.5, \"TS%\": 0.542, \"3PAr\": 0.374, \"FTr\": 0.161, \"ORB%\": 11.9, \"DRB%\": 25.6, \"TRB%\": 18.5, \"AST%\": 7.2, \"STL%\": 1.3, \"BLK%\": 8.8, \"TOV%\": 12.1, \"USG%\": -0.21508560296672127, \"OWS\": 0.8, \"DWS\": 1.7, \"WS\": 2.5, \"WS/48\": 0.135, \"OBPM\": -1.2, \"DBPM\": 1.6, \"BPM\": 0.523159990392889, \"VORP\": 0.5, \"pred\": 21}, {\"Player\": \"J.J. Barea\", \"Pos\": \"PG\", \"Age\": 35, \"Tm\": \"DAL\", \"G\": 29, \"MP\": 450, \"PER\": 14.6, \"TS%\": 0.512, \"3PAr\": 0.411, \"FTr\": 0.106, \"ORB%\": 2.4, \"DRB%\": 9.9, \"TRB%\": 6.2, \"AST%\": 37.1, \"STL%\": 0.5, \"BLK%\": 0.4, \"TOV%\": 14.9, \"USG%\": 1.045562590632672, \"OWS\": 0.5, \"DWS\": 0.2, \"WS\": 0.7, \"WS/48\": 0.072, \"OBPM\": 1.6, \"DBPM\": -3.0, \"BPM\": 0.09019235373607193, \"VORP\": 0.1, \"pred\": 28}, {\"Player\": \"Harrison Barnes\", \"Pos\": \"PF\", \"Age\": 27, \"Tm\": \"SAC\", \"G\": 72, \"MP\": 2482, \"PER\": 13.3, \"TS%\": 0.574, \"3PAr\": 0.338, \"FTr\": 0.337, \"ORB%\": 3.4, \"DRB%\": 12.9, \"TRB%\": 8.1, \"AST%\": 9.2, \"STL%\": 0.8, \"BLK%\": 0.5, \"TOV%\": 8.8, \"USG%\": -0.16181877788505725, \"OWS\": 3.4, \"DWS\": 1.1, \"WS\": 4.6, \"WS/48\": 0.088, \"OBPM\": 0.0, \"DBPM\": -1.3, \"BPM\": 0.11424611132811728, \"VORP\": 0.5, \"pred\": 27}, {\"Player\": \"RJ Barrett\", \"Pos\": \"SG\", \"Age\": 19, \"Tm\": \"NYK\", \"G\": 56, \"MP\": 1704, \"PER\": 10.7, \"TS%\": 0.479, \"3PAr\": 0.271, \"FTr\": 0.349, \"ORB%\": 3.0, \"DRB%\": 14.8, \"TRB%\": 8.7, \"AST%\": 12.8, \"STL%\": 1.6, \"BLK%\": 0.9, \"TOV%\": 12.9, \"USG%\": 1.0100513739115624, \"OWS\": -1.6, \"DWS\": 1.1, \"WS\": -0.5, \"WS/48\": -0.015, \"OBPM\": -2.9, \"DBPM\": -1.5, \"BPM\": -0.6073666164332444, \"VORP\": -1.0, \"pred\": 19}, {\"Player\": \"Will Barton\", \"Pos\": \"SF\", \"Age\": 29, \"Tm\": \"DEN\", \"G\": 58, \"MP\": 1916, \"PER\": 15.6, \"TS%\": 0.549, \"3PAr\": 0.39, \"FTr\": 0.18, \"ORB%\": 4.5, \"DRB%\": 16.9, \"TRB%\": 10.7, \"AST%\": 16.0, \"STL%\": 1.6, \"BLK%\": 1.4, \"TOV%\": 9.9, \"USG%\": 0.31758264784992396, \"OWS\": 2.4, \"DWS\": 1.8, \"WS\": 4.2, \"WS/48\": 0.106, \"OBPM\": 1.2, \"DBPM\": -0.2, \"BPM\": 0.6915362935372067, \"VORP\": 1.5, \"pred\": 29}, {\"Player\": \"Keita Bates-Diop\", \"Pos\": \"SF\", \"Age\": 24, \"Tm\": \"TOT\", \"G\": 44, \"MP\": 744, \"PER\": 12.4, \"TS%\": 0.539, \"3PAr\": 0.44, \"FTr\": 0.321, \"ORB%\": 3.5, \"DRB%\": 15.1, \"TRB%\": 9.1, \"AST%\": 5.8, \"STL%\": 1.2, \"BLK%\": 2.7, \"TOV%\": 6.0, \"USG%\": -0.44590851165393436, \"OWS\": 0.6, \"DWS\": 0.6, \"WS\": 1.2, \"WS/48\": 0.078, \"OBPM\": -1.0, \"DBPM\": -0.4, \"BPM\": 0.09019235373607193, \"VORP\": 0.1, \"pred\": 29}, {\"Player\": \"Keita Bates-Diop\", \"Pos\": \"SF\", \"Age\": 24, \"Tm\": \"MIN\", \"G\": 37, \"MP\": 646, \"PER\": 12.5, \"TS%\": 0.535, \"3PAr\": 0.456, \"FTr\": 0.316, \"ORB%\": 3.3, \"DRB%\": 15.1, \"TRB%\": 9.0, \"AST%\": 6.7, \"STL%\": 1.2, \"BLK%\": 2.6, \"TOV%\": 5.6, \"USG%\": -0.44590851165393436, \"OWS\": 0.6, \"DWS\": 0.5, \"WS\": 1.0, \"WS/48\": 0.077, \"OBPM\": -0.8, \"DBPM\": -0.1, \"BPM\": 0.21046114169629884, \"VORP\": 0.2, \"pred\": 24}, {\"Player\": \"Keita Bates-Diop\", \"Pos\": \"SF\", \"Age\": 24, \"Tm\": \"DEN\", \"G\": 7, \"MP\": 98, \"PER\": 12.1, \"TS%\": 0.571, \"3PAr\": 0.321, \"FTr\": 0.357, \"ORB%\": 4.6, \"DRB%\": 14.8, \"TRB%\": 9.7, \"AST%\": 0.0, \"STL%\": 1.0, \"BLK%\": 3.8, \"TOV%\": 8.5, \"USG%\": -0.4636641200144894, \"OWS\": 0.1, \"DWS\": 0.1, \"WS\": 0.2, \"WS/48\": 0.084, \"OBPM\": -2.2, \"DBPM\": -2.7, \"BPM\": -0.7516891619855168, \"VORP\": -0.1, \"pred\": 24}, {\"Player\": \"Nicolas Batum\", \"Pos\": \"SF\", \"Age\": 31, \"Tm\": \"CHO\", \"G\": 22, \"MP\": 505, \"PER\": 9.2, \"TS%\": 0.463, \"3PAr\": 0.605, \"FTr\": 0.123, \"ORB%\": 5.2, \"DRB%\": 16.8, \"TRB%\": 10.8, \"AST%\": 18.3, \"STL%\": 1.7, \"BLK%\": 1.5, \"TOV%\": 20.5, \"USG%\": -1.5822674467294442, \"OWS\": 0.2, \"DWS\": 0.4, \"WS\": 0.6, \"WS/48\": 0.055, \"OBPM\": -2.8, \"DBPM\": 0.9, \"BPM\": -0.030076434224155017, \"VORP\": 0.0, \"pred\": 31}, {\"Player\": \"Aron Baynes\", \"Pos\": \"C\", \"Age\": 33, \"Tm\": \"PHO\", \"G\": 42, \"MP\": 934, \"PER\": 15.2, \"TS%\": 0.581, \"3PAr\": 0.441, \"FTr\": 0.197, \"ORB%\": 8.3, \"DRB%\": 20.0, \"TRB%\": 14.1, \"AST%\": 10.9, \"STL%\": 0.5, \"BLK%\": 2.1, \"TOV%\": 10.8, \"USG%\": 0.4951387314554724, \"OWS\": 1.3, \"DWS\": 0.8, \"WS\": 2.1, \"WS/48\": 0.107, \"OBPM\": -0.2, \"DBPM\": -0.8, \"BPM\": 0.18640738410425345, \"VORP\": 0.2, \"pred\": 33}, {\"Player\": \"Kent Bazemore\", \"Pos\": \"SF-SG\", \"Age\": 30, \"Tm\": \"TOT\", \"G\": 68, \"MP\": 1688, \"PER\": 9.3, \"TS%\": 0.499, \"3PAr\": 0.457, \"FTr\": 0.275, \"ORB%\": 1.7, \"DRB%\": 17.1, \"TRB%\": 9.4, \"AST%\": 7.4, \"STL%\": 2.1, \"BLK%\": 2.1, \"TOV%\": 13.2, \"USG%\": -0.14406316952450215, \"OWS\": -0.9, \"DWS\": 1.5, \"WS\": 0.6, \"WS/48\": 0.017, \"OBPM\": -3.4, \"DBPM\": 0.3, \"BPM\": -0.31872152532869974, \"VORP\": -0.5, \"pred\": 30}, {\"Player\": \"Kent Bazemore\", \"Pos\": \"SF\", \"Age\": 30, \"Tm\": \"POR\", \"G\": 43, \"MP\": 1111, \"PER\": 7.5, \"TS%\": 0.475, \"3PAr\": 0.525, \"FTr\": 0.221, \"ORB%\": 1.2, \"DRB%\": 14.8, \"TRB%\": 8.1, \"AST%\": 7.1, \"STL%\": 1.9, \"BLK%\": 2.4, \"TOV%\": 14.4, \"USG%\": -0.42815290329337957, \"OWS\": -1.0, \"DWS\": 0.8, \"WS\": -0.2, \"WS/48\": -0.008, \"OBPM\": -3.6, \"DBPM\": 0.4, \"BPM\": -0.3427752829207451, \"VORP\": -0.3, \"pred\": 30}, {\"Player\": \"Kent Bazemore\", \"Pos\": \"SG\", \"Age\": 30, \"Tm\": \"SAC\", \"G\": 25, \"MP\": 577, \"PER\": 12.6, \"TS%\": 0.533, \"3PAr\": 0.351, \"FTr\": 0.361, \"ORB%\": 2.7, \"DRB%\": 21.6, \"TRB%\": 11.9, \"AST%\": 8.0, \"STL%\": 2.4, \"BLK%\": 1.5, \"TOV%\": 11.4, \"USG%\": 0.370849472931588, \"OWS\": 0.1, \"DWS\": 0.7, \"WS\": 0.8, \"WS/48\": 0.065, \"OBPM\": -3.0, \"DBPM\": 0.3, \"BPM\": -0.2465602525525635, \"VORP\": -0.1, \"pred\": 30}, {\"Player\": \"Darius Bazley\", \"Pos\": \"PF\", \"Age\": 19, \"Tm\": \"OKC\", \"G\": 61, \"MP\": 1130, \"PER\": 9.6, \"TS%\": 0.497, \"3PAr\": 0.445, \"FTr\": 0.196, \"ORB%\": 3.0, \"DRB%\": 20.5, \"TRB%\": 12.0, \"AST%\": 5.1, \"STL%\": 1.0, \"BLK%\": 3.1, \"TOV%\": 11.6, \"USG%\": -0.5701977701778184, \"OWS\": -0.5, \"DWS\": 1.5, \"WS\": 1.0, \"WS/48\": 0.041, \"OBPM\": -2.1, \"DBPM\": 0.5, \"BPM\": 0.042084838551981106, \"VORP\": 0.1, \"pred\": 19}, {\"Player\": \"Bradley Beal\", \"Pos\": \"SG\", \"Age\": 26, \"Tm\": \"WAS\", \"G\": 57, \"MP\": 2053, \"PER\": 23.2, \"TS%\": 0.579, \"3PAr\": 0.369, \"FTr\": 0.351, \"ORB%\": 2.7, \"DRB%\": 10.5, \"TRB%\": 6.4, \"AST%\": 29.5, \"STL%\": 1.6, \"BLK%\": 1.0, \"TOV%\": 11.4, \"USG%\": 2.8566346434092655, \"OWS\": 4.5, \"DWS\": 0.6, \"WS\": 5.1, \"WS/48\": 0.118, \"OBPM\": 5.3, \"DBPM\": -2.4, \"BPM\": 1.1245039301940236, \"VORP\": 2.5, \"pred\": 26}, {\"Player\": \"Malik Beasley\", \"Pos\": \"SG\", \"Age\": 23, \"Tm\": \"TOT\", \"G\": 55, \"MP\": 1209, \"PER\": 12.7, \"TS%\": 0.546, \"3PAr\": 0.517, \"FTr\": 0.124, \"ORB%\": 1.6, \"DRB%\": 11.9, \"TRB%\": 6.7, \"AST%\": 9.4, \"STL%\": 1.6, \"BLK%\": 0.6, \"TOV%\": 9.2, \"USG%\": 0.6194279899793561, \"OWS\": 0.4, \"DWS\": 0.8, \"WS\": 1.2, \"WS/48\": 0.049, \"OBPM\": -0.7, \"DBPM\": -1.4, \"BPM\": -0.07818394940824584, \"VORP\": 0.0, \"pred\": 23}, {\"Player\": \"Malik Beasley\", \"Pos\": \"SG\", \"Age\": 23, \"Tm\": \"DEN\", \"G\": 41, \"MP\": 746, \"PER\": 10.5, \"TS%\": 0.511, \"3PAr\": 0.535, \"FTr\": 0.126, \"ORB%\": 1.4, \"DRB%\": 10.2, \"TRB%\": 5.8, \"AST%\": 9.1, \"STL%\": 2.1, \"BLK%\": 0.7, \"TOV%\": 10.2, \"USG%\": 0.40636068965269817, \"OWS\": -0.2, \"DWS\": 0.6, \"WS\": 0.5, \"WS/48\": 0.03, \"OBPM\": -2.2, \"DBPM\": -0.7, \"BPM\": -0.2706140101446089, \"VORP\": -0.2, \"pred\": 23}, {\"Player\": \"Malik Beasley\", \"Pos\": \"SG\", \"Age\": 23, \"Tm\": \"MIN\", \"G\": 14, \"MP\": 463, \"PER\": 16.2, \"TS%\": 0.591, \"3PAr\": 0.494, \"FTr\": 0.12, \"ORB%\": 2.0, \"DRB%\": 14.7, \"TRB%\": 8.1, \"AST%\": 9.8, \"STL%\": 0.9, \"BLK%\": 0.4, \"TOV%\": 7.9, \"USG%\": 0.9567845488298978, \"OWS\": 0.5, \"DWS\": 0.2, \"WS\": 0.8, \"WS/48\": 0.079, \"OBPM\": 1.7, \"DBPM\": -2.4, \"BPM\": 0.25856865688038966, \"VORP\": 0.2, \"pred\": 23}, {\"Player\": \"Marco Belinelli\", \"Pos\": \"SG\", \"Age\": 33, \"Tm\": \"SAS\", \"G\": 57, \"MP\": 883, \"PER\": 10.8, \"TS%\": 0.532, \"3PAr\": 0.567, \"FTr\": 0.185, \"ORB%\": 0.9, \"DRB%\": 11.2, \"TRB%\": 6.0, \"AST%\": 10.7, \"STL%\": 0.6, \"BLK%\": 0.1, \"TOV%\": 5.3, \"USG%\": -0.14406316952450215, \"OWS\": 0.7, \"DWS\": 0.2, \"WS\": 0.8, \"WS/48\": 0.046, \"OBPM\": -0.7, \"DBPM\": -2.0, \"BPM\": -0.2225064949605182, \"VORP\": -0.2, \"pred\": 33}, {\"Player\": \"Jordan Bell\", \"Pos\": \"C-PF\", \"Age\": 25, \"Tm\": \"TOT\", \"G\": 29, \"MP\": 256, \"PER\": 13.9, \"TS%\": 0.577, \"3PAr\": 0.179, \"FTr\": 0.463, \"ORB%\": 12.0, \"DRB%\": 21.8, \"TRB%\": 16.7, \"AST%\": 8.9, \"STL%\": 0.5, \"BLK%\": 3.2, \"TOV%\": 20.7, \"USG%\": -0.3393748614906057, \"OWS\": 0.2, \"DWS\": 0.2, \"WS\": 0.4, \"WS/48\": 0.07, \"OBPM\": -1.4, \"DBPM\": -1.1, \"BPM\": -0.17439897977642738, \"VORP\": 0.0, \"pred\": 25}, {\"Player\": \"Jordan Bell\", \"Pos\": \"C\", \"Age\": 25, \"Tm\": \"MIN\", \"G\": 27, \"MP\": 235, \"PER\": 14.1, \"TS%\": 0.57, \"3PAr\": 0.15, \"FTr\": 0.483, \"ORB%\": 12.1, \"DRB%\": 23.3, \"TRB%\": 17.5, \"AST%\": 8.6, \"STL%\": 0.4, \"BLK%\": 3.5, \"TOV%\": 19.8, \"USG%\": -0.42815290329337957, \"OWS\": 0.2, \"DWS\": 0.2, \"WS\": 0.4, \"WS/48\": 0.072, \"OBPM\": -1.5, \"DBPM\": -1.1, \"BPM\": -0.19845273736847277, \"VORP\": 0.0, \"pred\": 27}, {\"Player\": \"Jordan Bell\", \"Pos\": \"PF\", \"Age\": 25, \"Tm\": \"MEM\", \"G\": 2, \"MP\": 21, \"PER\": 12.6, \"TS%\": 0.635, \"3PAr\": 0.429, \"FTr\": 0.286, \"ORB%\": 10.2, \"DRB%\": 4.9, \"TRB%\": 7.5, \"AST%\": 12.9, \"STL%\": 2.2, \"BLK%\": 0.0, \"TOV%\": 27.6, \"USG%\": 0.5839167732582465, \"OWS\": 0.0, \"DWS\": 0.0, \"WS\": 0.0, \"WS/48\": 0.047, \"OBPM\": -0.5, \"DBPM\": -1.0, \"BPM\": 0.06613859614402652, \"VORP\": 0.0, \"pred\": 28}, {\"Player\": \"DeAndre' Bembry\", \"Pos\": \"SG\", \"Age\": 25, \"Tm\": \"ATL\", \"G\": 43, \"MP\": 915, \"PER\": 9.6, \"TS%\": 0.5, \"3PAr\": 0.285, \"FTr\": 0.211, \"ORB%\": 4.0, \"DRB%\": 14.1, \"TRB%\": 8.9, \"AST%\": 12.3, \"STL%\": 2.8, \"BLK%\": 1.7, \"TOV%\": 19.4, \"USG%\": -0.7655094621439216, \"OWS\": -0.5, \"DWS\": 0.8, \"WS\": 0.2, \"WS/48\": 0.012, \"OBPM\": -3.5, \"DBPM\": 1.1, \"BPM\": -0.17439897977642738, \"VORP\": -0.1, \"pred\": 25}, {\"Player\": \"Dragan Bender\", \"Pos\": \"SF\", \"Age\": 22, \"Tm\": \"TOT\", \"G\": 16, \"MP\": 286, \"PER\": 10.9, \"TS%\": 0.545, \"3PAr\": 0.467, \"FTr\": 0.152, \"ORB%\": 5.9, \"DRB%\": 21.1, \"TRB%\": 13.5, \"AST%\": 14.4, \"STL%\": 0.7, \"BLK%\": 2.8, \"TOV%\": 17.6, \"USG%\": -0.10855195280339261, \"OWS\": 0.0, \"DWS\": 0.3, \"WS\": 0.3, \"WS/48\": 0.052, \"OBPM\": -3.0, \"DBPM\": 0.1, \"BPM\": -0.2946677677366543, \"VORP\": -0.1, \"pred\": 22}, {\"Player\": \"Dragan Bender\", \"Pos\": \"SF\", \"Age\": 22, \"Tm\": \"MIL\", \"G\": 7, \"MP\": 91, \"PER\": 8.4, \"TS%\": 0.582, \"3PAr\": 0.429, \"FTr\": 0.143, \"ORB%\": 0.0, \"DRB%\": 20.5, \"TRB%\": 10.9, \"AST%\": 12.5, \"STL%\": 0.0, \"BLK%\": 4.8, \"TOV%\": 18.3, \"USG%\": -1.049599195912799, \"OWS\": 0.0, \"DWS\": 0.2, \"WS\": 0.2, \"WS/48\": 0.105, \"OBPM\": -4.4, \"DBPM\": 3.0, \"BPM\": 0.09019235373607193, \"VORP\": 0.0, \"pred\": 22}, {\"Player\": \"Dragan Bender\", \"Pos\": \"SF\", \"Age\": 22, \"Tm\": \"GSW\", \"G\": 9, \"MP\": 195, \"PER\": 12.1, \"TS%\": 0.534, \"3PAr\": 0.479, \"FTr\": 0.155, \"ORB%\": 8.6, \"DRB%\": 21.3, \"TRB%\": 14.7, \"AST%\": 15.2, \"STL%\": 1.0, \"BLK%\": 1.8, \"TOV%\": 17.4, \"USG%\": 0.31758264784992396, \"OWS\": 0.0, \"DWS\": 0.1, \"WS\": 0.1, \"WS/48\": 0.027, \"OBPM\": -2.4, \"DBPM\": -1.2, \"BPM\": -0.46304407088097205, \"VORP\": -0.1, \"pred\": 22}, {\"Player\": \"D\\u0101vis Bert\\u0101ns\", \"Pos\": \"PF\", \"Age\": 27, \"Tm\": \"WAS\", \"G\": 54, \"MP\": 1583, \"PER\": 15.5, \"TS%\": 0.628, \"3PAr\": 0.774, \"FTr\": 0.2, \"ORB%\": 2.3, \"DRB%\": 15.1, \"TRB%\": 8.5, \"AST%\": 8.4, \"STL%\": 1.1, \"BLK%\": 1.8, \"TOV%\": 8.2, \"USG%\": 0.12227095588382046, \"OWS\": 3.0, \"DWS\": 0.5, \"WS\": 3.5, \"WS/48\": 0.107, \"OBPM\": 2.7, \"DBPM\": -1.8, \"BPM\": 0.6434287783531158, \"VORP\": 1.1, \"pred\": 27}, {\"Player\": \"Patrick Beverley\", \"Pos\": \"PG\", \"Age\": 31, \"Tm\": \"LAC\", \"G\": 51, \"MP\": 1342, \"PER\": 12.5, \"TS%\": 0.56, \"3PAr\": 0.604, \"FTr\": 0.138, \"ORB%\": 4.5, \"DRB%\": 15.8, \"TRB%\": 10.3, \"AST%\": 18.2, \"STL%\": 1.9, \"BLK%\": 1.6, \"TOV%\": 15.4, \"USG%\": -0.8897987206678054, \"OWS\": 1.6, \"DWS\": 2.0, \"WS\": 3.6, \"WS/48\": 0.128, \"OBPM\": -0.3, \"DBPM\": 2.5, \"BPM\": 0.9561276270497059, \"VORP\": 1.4, \"pred\": 31}, {\"Player\": \"Khem Birch\", \"Pos\": \"C\", \"Age\": 27, \"Tm\": \"ORL\", \"G\": 48, \"MP\": 922, \"PER\": 11.7, \"TS%\": 0.566, \"3PAr\": 0.007, \"FTr\": 0.706, \"ORB%\": 10.3, \"DRB%\": 15.6, \"TRB%\": 12.9, \"AST%\": 7.3, \"STL%\": 1.1, \"BLK%\": 2.3, \"TOV%\": 14.2, \"USG%\": -1.4402225798450057, \"OWS\": 1.2, \"DWS\": 0.9, \"WS\": 2.2, \"WS/48\": 0.112, \"OBPM\": -2.5, \"DBPM\": 0.2, \"BPM\": -0.15034522218438195, \"VORP\": -0.1, \"pred\": 27}, {\"Player\": \"Goga Bitadze\", \"Pos\": \"C\", \"Age\": 20, \"Tm\": \"IND\", \"G\": 54, \"MP\": 471, \"PER\": 12.1, \"TS%\": 0.523, \"3PAr\": 0.28, \"FTr\": 0.22, \"ORB%\": 5.9, \"DRB%\": 18.7, \"TRB%\": 12.3, \"AST%\": 6.7, \"STL%\": 1.0, \"BLK%\": 6.9, \"TOV%\": 14.5, \"USG%\": -0.07304073608228305, \"OWS\": -0.1, \"DWS\": 0.8, \"WS\": 0.7, \"WS/48\": 0.067, \"OBPM\": -4.1, \"DBPM\": 1.8, \"BPM\": -0.12629146459233656, \"VORP\": 0.0, \"pred\": 20}, {\"Player\": \"Bismack Biyombo\", \"Pos\": \"C\", \"Age\": 27, \"Tm\": \"CHO\", \"G\": 53, \"MP\": 1029, \"PER\": 16.1, \"TS%\": 0.57, \"3PAr\": 0.0, \"FTr\": 0.543, \"ORB%\": 12.3, \"DRB%\": 20.7, \"TRB%\": 16.3, \"AST%\": 7.8, \"STL%\": 0.5, \"BLK%\": 4.4, \"TOV%\": 12.2, \"USG%\": -0.26835242804838594, \"OWS\": 1.5, \"DWS\": 0.9, \"WS\": 2.4, \"WS/48\": 0.113, \"OBPM\": -1.8, \"DBPM\": -0.7, \"BPM\": -0.17439897977642738, \"VORP\": -0.1, \"pred\": 24}, {\"Player\": \"Nemanja Bjelica\", \"Pos\": \"PF\", \"Age\": 31, \"Tm\": \"SAC\", \"G\": 72, \"MP\": 2011, \"PER\": 15.7, \"TS%\": 0.602, \"3PAr\": 0.49, \"FTr\": 0.129, \"ORB%\": 6.1, \"DRB%\": 19.9, \"TRB%\": 12.8, \"AST%\": 14.7, \"STL%\": 1.5, \"BLK%\": 1.9, \"TOV%\": 12.5, \"USG%\": -0.23284121132727637, \"OWS\": 3.4, \"DWS\": 1.9, \"WS\": 5.3, \"WS/48\": 0.127, \"OBPM\": 1.2, \"DBPM\": 0.5, \"BPM\": 0.8358588390894789, \"VORP\": 1.9, \"pred\": 31}, {\"Player\": \"Eric Bledsoe\", \"Pos\": \"PG\", \"Age\": 30, \"Tm\": \"MIL\", \"G\": 61, \"MP\": 1646, \"PER\": 17.6, \"TS%\": 0.571, \"3PAr\": 0.306, \"FTr\": 0.304, \"ORB%\": 2.8, \"DRB%\": 13.5, \"TRB%\": 8.5, \"AST%\": 28.7, \"STL%\": 1.6, \"BLK%\": 1.4, \"TOV%\": 15.7, \"USG%\": 0.9567845488298978, \"OWS\": 2.4, \"DWS\": 3.0, \"WS\": 5.4, \"WS/48\": 0.157, \"OBPM\": 0.8, \"DBPM\": 1.1, \"BPM\": 0.8599125966815243, \"VORP\": 1.6, \"pred\": 22}, {\"Player\": \"Bogdan Bogdanovi\\u0107\", \"Pos\": \"SG\", \"Age\": 27, \"Tm\": \"SAC\", \"G\": 61, \"MP\": 1766, \"PER\": 15.1, \"TS%\": 0.565, \"3PAr\": 0.576, \"FTr\": 0.151, \"ORB%\": 1.6, \"DRB%\": 11.8, \"TRB%\": 6.6, \"AST%\": 18.0, \"STL%\": 1.8, \"BLK%\": 0.8, \"TOV%\": 11.1, \"USG%\": 0.761472856863795, \"OWS\": 1.8, \"DWS\": 1.3, \"WS\": 3.1, \"WS/48\": 0.084, \"OBPM\": 1.2, \"DBPM\": -0.5, \"BPM\": 0.5712675055769797, \"VORP\": 1.2, \"pred\": 27}, {\"Player\": \"Bojan Bogdanovi\\u0107\", \"Pos\": \"SF\", \"Age\": 30, \"Tm\": \"UTA\", \"G\": 63, \"MP\": 2083, \"PER\": 15.6, \"TS%\": 0.603, \"3PAr\": 0.489, \"FTr\": 0.296, \"ORB%\": 2.1, \"DRB%\": 11.2, \"TRB%\": 6.8, \"AST%\": 10.0, \"STL%\": 0.8, \"BLK%\": 0.3, \"TOV%\": 13.1, \"USG%\": 1.276385499319885, \"OWS\": 2.6, \"DWS\": 1.6, \"WS\": 4.2, \"WS/48\": 0.096, \"OBPM\": 1.6, \"DBPM\": -1.5, \"BPM\": 0.45099871761675275, \"VORP\": 1.1, \"pred\": 30}, {\"Player\": \"Bol Bol\", \"Pos\": \"SF\", \"Age\": 20, \"Tm\": \"DEN\", \"G\": 7, \"MP\": 87, \"PER\": 14.4, \"TS%\": 0.617, \"3PAr\": 0.321, \"FTr\": 0.357, \"ORB%\": 6.4, \"DRB%\": 18.0, \"TRB%\": 12.2, \"AST%\": 9.8, \"STL%\": 1.1, \"BLK%\": 6.4, \"TOV%\": 23.6, \"USG%\": 0.5128943398160268, \"OWS\": 0.0, \"DWS\": 0.1, \"WS\": 0.1, \"WS/48\": 0.063, \"OBPM\": -2.1, \"DBPM\": -0.7, \"BPM\": -0.2706140101446089, \"VORP\": 0.0, \"pred\": 20}, {\"Player\": \"Jonah Bolden\", \"Pos\": \"PF\", \"Age\": 24, \"Tm\": \"TOT\", \"G\": 7, \"MP\": 47, \"PER\": 4.9, \"TS%\": 0.392, \"3PAr\": 0.364, \"FTr\": 0.364, \"ORB%\": 7.0, \"DRB%\": 14.3, \"TRB%\": 10.6, \"AST%\": 0.0, \"STL%\": 3.0, \"BLK%\": 3.7, \"TOV%\": 13.6, \"USG%\": -0.8720431123072506, \"OWS\": -0.1, \"DWS\": 0.1, \"WS\": 0.0, \"WS/48\": -0.006, \"OBPM\": -8.7, \"DBPM\": -0.1, \"BPM\": -1.6897857080752872, \"VORP\": -0.1, \"pred\": 31}, {\"Player\": \"Jonah Bolden\", \"Pos\": \"PF\", \"Age\": 24, \"Tm\": \"PHI\", \"G\": 4, \"MP\": 14, \"PER\": -2.0, \"TS%\": 0.515, \"3PAr\": 0.333, \"FTr\": 0.667, \"ORB%\": 0.0, \"DRB%\": 7.9, \"TRB%\": 3.9, \"AST%\": 0.0, \"STL%\": 3.5, \"BLK%\": 0.0, \"TOV%\": 34.0, \"USG%\": -0.03752951936117286, \"OWS\": -0.1, \"DWS\": 0.0, \"WS\": 0.0, \"WS/48\": -0.15, \"OBPM\": -13.9, \"DBPM\": -0.7, \"BPM\": -3.060849890821874, \"VORP\": 0.0, \"pred\": 22}, {\"Player\": \"Jonah Bolden\", \"Pos\": \"PF\", \"Age\": 24, \"Tm\": \"PHO\", \"G\": 3, \"MP\": 33, \"PER\": 7.9, \"TS%\": 0.338, \"3PAr\": 0.375, \"FTr\": 0.25, \"ORB%\": 10.0, \"DRB%\": 17.0, \"TRB%\": 13.5, \"AST%\": 0.0, \"STL%\": 2.9, \"BLK%\": 5.3, \"TOV%\": 0.0, \"USG%\": -1.2271552795183474, \"OWS\": 0.0, \"DWS\": 0.1, \"WS\": 0.0, \"WS/48\": 0.054, \"OBPM\": -6.5, \"DBPM\": 0.2, \"BPM\": -1.088441768274152, \"VORP\": 0.0, \"pred\": 22}, {\"Player\": \"Marques Bolden\", \"Pos\": \"C\", \"Age\": 21, \"Tm\": \"CLE\", \"G\": 1, \"MP\": 3, \"PER\": 19.8, \"TS%\": null, \"3PAr\": null, \"FTr\": null, \"ORB%\": 0.0, \"DRB%\": 74.7, \"TRB%\": 37.0, \"AST%\": 0.0, \"STL%\": 16.2, \"BLK%\": 0.0, \"TOV%\": null, \"USG%\": -3.2512946326215992, \"OWS\": 0.0, \"DWS\": 0.0, \"WS\": 0.0, \"WS/48\": 0.282, \"OBPM\": -5.9, \"DBPM\": 11.3, \"BPM\": 1.7258478699951583, \"VORP\": 0.0, \"pred\": 21}, {\"Player\": \"Jordan Bone\", \"Pos\": \"PG\", \"Age\": 22, \"Tm\": \"DET\", \"G\": 10, \"MP\": 53, \"PER\": 0.8, \"TS%\": 0.3, \"3PAr\": 0.5, \"FTr\": 0.0, \"ORB%\": 0.0, \"DRB%\": 8.7, \"TRB%\": 4.3, \"AST%\": 21.0, \"STL%\": 0.9, \"BLK%\": 0.0, \"TOV%\": 9.1, \"USG%\": -0.03752951936117286, \"OWS\": -0.1, \"DWS\": 0.0, \"WS\": -0.1, \"WS/48\": -0.117, \"OBPM\": -9.1, \"DBPM\": -2.8, \"BPM\": -2.435452193428694, \"VORP\": -0.1, \"pred\": 22}, {\"Player\": \"Isaac Bonga\", \"Pos\": \"SF\", \"Age\": 20, \"Tm\": \"WAS\", \"G\": 66, \"MP\": 1250, \"PER\": 10.2, \"TS%\": 0.608, \"3PAr\": 0.303, \"FTr\": 0.363, \"ORB%\": 6.0, \"DRB%\": 13.8, \"TRB%\": 9.7, \"AST%\": 7.9, \"STL%\": 1.7, \"BLK%\": 1.5, \"TOV%\": 17.6, \"USG%\": -1.298177712960567, \"OWS\": 1.2, \"DWS\": 0.6, \"WS\": 1.8, \"WS/48\": 0.068, \"OBPM\": -2.7, \"DBPM\": -0.1, \"BPM\": -0.2465602525525635, \"VORP\": -0.3, \"pred\": 20}, {\"Player\": \"Devin Booker\", \"Pos\": \"SG\", \"Age\": 23, \"Tm\": \"PHO\", \"G\": 70, \"MP\": 2512, \"PER\": 20.6, \"TS%\": 0.618, \"3PAr\": 0.31, \"FTr\": 0.397, \"ORB%\": 1.3, \"DRB%\": 12.0, \"TRB%\": 6.6, \"AST%\": 30.0, \"STL%\": 0.9, \"BLK%\": 0.6, \"TOV%\": 14.9, \"USG%\": 2.075387875544853, \"OWS\": 6.0, \"DWS\": 1.5, \"WS\": 7.5, \"WS/48\": 0.143, \"OBPM\": 3.4, \"DBPM\": -1.3, \"BPM\": 0.9561276270497059, \"VORP\": 2.6, \"pred\": 19}, {\"Player\": \"Chris Boucher\", \"Pos\": \"PF\", \"Age\": 27, \"Tm\": \"TOR\", \"G\": 62, \"MP\": 819, \"PER\": 20.7, \"TS%\": 0.587, \"3PAr\": 0.395, \"FTr\": 0.388, \"ORB%\": 14.1, \"DRB%\": 21.4, \"TRB%\": 17.9, \"AST%\": 4.8, \"STL%\": 1.3, \"BLK%\": 7.3, \"TOV%\": 7.4, \"USG%\": 0.24656021440770423, \"OWS\": 2.1, \"DWS\": 1.8, \"WS\": 3.8, \"WS/48\": 0.224, \"OBPM\": 1.0, \"DBPM\": 1.0, \"BPM\": 0.908020111865615, \"VORP\": 0.8, \"pred\": 27}, {\"Player\": \"Brian Bowen\", \"Pos\": \"SG\", \"Age\": 21, \"Tm\": \"IND\", \"G\": 6, \"MP\": 31, \"PER\": 0.1, \"TS%\": 0.3, \"3PAr\": 0.2, \"FTr\": 0.0, \"ORB%\": 3.6, \"DRB%\": 21.0, \"TRB%\": 12.4, \"AST%\": 0.0, \"STL%\": 0.0, \"BLK%\": 2.8, \"TOV%\": 9.1, \"USG%\": -0.4814197283750442, \"OWS\": -0.1, \"DWS\": 0.0, \"WS\": -0.1, \"WS/48\": -0.107, \"OBPM\": -9.1, \"DBPM\": -1.6, \"BPM\": -2.146807102324149, \"VORP\": -0.1, \"pred\": 21}, {\"Player\": \"Ky Bowman\", \"Pos\": \"PG\", \"Age\": 22, \"Tm\": \"GSW\", \"G\": 45, \"MP\": 1015, \"PER\": 9.1, \"TS%\": 0.494, \"3PAr\": 0.333, \"FTr\": 0.128, \"ORB%\": 2.5, \"DRB%\": 10.7, \"TRB%\": 6.5, \"AST%\": 19.4, \"STL%\": 2.1, \"BLK%\": 0.9, \"TOV%\": 17.1, \"USG%\": -0.19732999460616682, \"OWS\": -0.6, \"DWS\": 0.6, \"WS\": -0.1, \"WS/48\": -0.003, \"OBPM\": -4.0, \"DBPM\": -0.3, \"BPM\": -0.6073666164332444, \"VORP\": -0.6, \"pred\": 30}, {\"Player\": \"Avery Bradley\", \"Pos\": \"SG\", \"Age\": 29, \"Tm\": \"LAL\", \"G\": 49, \"MP\": 1186, \"PER\": 8.9, \"TS%\": 0.537, \"3PAr\": 0.452, \"FTr\": 0.063, \"ORB%\": 1.7, \"DRB%\": 8.9, \"TRB%\": 5.3, \"AST%\": 7.2, \"STL%\": 1.7, \"BLK%\": 0.4, \"TOV%\": 10.7, \"USG%\": -0.4636641200144894, \"OWS\": 0.2, \"DWS\": 1.4, \"WS\": 1.5, \"WS/48\": 0.062, \"OBPM\": -3.0, \"DBPM\": 0.5, \"BPM\": -0.17439897977642738, \"VORP\": -0.2, \"pred\": 27}, {\"Player\": \"Tony Bradley\", \"Pos\": \"C\", \"Age\": 22, \"Tm\": \"UTA\", \"G\": 58, \"MP\": 663, \"PER\": 21.7, \"TS%\": 0.681, \"3PAr\": 0.016, \"FTr\": 0.243, \"ORB%\": 19.1, \"DRB%\": 25.0, \"TRB%\": 22.2, \"AST%\": 5.4, \"STL%\": 1.0, \"BLK%\": 4.1, \"TOV%\": 12.5, \"USG%\": -0.44590851165393436, \"OWS\": 2.2, \"DWS\": 1.1, \"WS\": 3.3, \"WS/48\": 0.236, \"OBPM\": 1.0, \"DBPM\": 0.3, \"BPM\": 0.7396438087212974, \"VORP\": 0.6, \"pred\": 22}, {\"Player\": \"Jarrell Brantley\", \"Pos\": \"PF\", \"Age\": 23, \"Tm\": \"UTA\", \"G\": 9, \"MP\": 96, \"PER\": 8.0, \"TS%\": 0.416, \"3PAr\": 0.464, \"FTr\": 0.071, \"ORB%\": 2.4, \"DRB%\": 19.9, \"TRB%\": 11.5, \"AST%\": 15.8, \"STL%\": 1.5, \"BLK%\": 4.3, \"TOV%\": 19.5, \"USG%\": -0.35713046985116015, \"OWS\": -0.2, \"DWS\": 0.1, \"WS\": 0.0, \"WS/48\": -0.006, \"OBPM\": -5.3, \"DBPM\": 0.7, \"BPM\": -0.6795278892093805, \"VORP\": -0.1, \"pred\": 24}, {\"Player\": \"Ignas Brazdeikis\", \"Pos\": \"SF\", \"Age\": 21, \"Tm\": \"NYK\", \"G\": 9, \"MP\": 53, \"PER\": 3.2, \"TS%\": 0.351, \"3PAr\": 0.409, \"FTr\": 0.227, \"ORB%\": 3.9, \"DRB%\": 6.2, \"TRB%\": 5.0, \"AST%\": 10.6, \"STL%\": 0.0, \"BLK%\": 1.8, \"TOV%\": 7.6, \"USG%\": 0.47738312309491726, \"OWS\": -0.1, \"DWS\": 0.0, \"WS\": -0.1, \"WS/48\": -0.108, \"OBPM\": -5.1, \"DBPM\": -3.9, \"BPM\": -1.7378932232593778, \"VORP\": -0.1, \"pred\": 21}, {\"Player\": \"Corey Brewer\", \"Pos\": \"SG\", \"Age\": 33, \"Tm\": \"SAC\", \"G\": 5, \"MP\": 33, \"PER\": 8.7, \"TS%\": 0.47, \"3PAr\": 0.25, \"FTr\": 0.75, \"ORB%\": 6.7, \"DRB%\": 21.0, \"TRB%\": 13.6, \"AST%\": 7.7, \"STL%\": 5.9, \"BLK%\": 0.0, \"TOV%\": 27.3, \"USG%\": -1.5467562300083346, \"OWS\": 0.0, \"DWS\": 0.1, \"WS\": 0.0, \"WS/48\": 0.064, \"OBPM\": -6.9, \"DBPM\": 3.8, \"BPM\": -0.31872152532869974, \"VORP\": 0.0, \"pred\": 30}, {\"Player\": \"Mikal Bridges\", \"Pos\": \"SF\", \"Age\": 23, \"Tm\": \"PHO\", \"G\": 73, \"MP\": 2042, \"PER\": 12.9, \"TS%\": 0.62, \"3PAr\": 0.401, \"FTr\": 0.252, \"ORB%\": 3.5, \"DRB%\": 12.4, \"TRB%\": 7.9, \"AST%\": 8.6, \"STL%\": 2.4, \"BLK%\": 2.0, \"TOV%\": 12.0, \"USG%\": -0.9963323708311347, \"OWS\": 2.5, \"DWS\": 2.3, \"WS\": 4.8, \"WS/48\": 0.113, \"OBPM\": -0.6, \"DBPM\": 1.5, \"BPM\": 0.6193750207610704, \"VORP\": 1.5, \"pred\": 23}, {\"Player\": \"Miles Bridges\", \"Pos\": \"SF\", \"Age\": 21, \"Tm\": \"CHO\", \"G\": 65, \"MP\": 1995, \"PER\": 12.1, \"TS%\": 0.52, \"3PAr\": 0.398, \"FTr\": 0.174, \"ORB%\": 4.6, \"DRB%\": 15.6, \"TRB%\": 9.9, \"AST%\": 9.4, \"STL%\": 1.0, \"BLK%\": 2.2, \"TOV%\": 10.5, \"USG%\": 0.29982703948936884, \"OWS\": 0.3, \"DWS\": 1.3, \"WS\": 1.6, \"WS/48\": 0.039, \"OBPM\": -1.5, \"DBPM\": -1.0, \"BPM\": -0.17439897977642738, \"VORP\": -0.3, \"pred\": 21}, {\"Player\": \"Oshae Brissett\", \"Pos\": \"SF\", \"Age\": 21, \"Tm\": \"TOR\", \"G\": 19, \"MP\": 135, \"PER\": 6.7, \"TS%\": 0.458, \"3PAr\": 0.417, \"FTr\": 0.278, \"ORB%\": 7.2, \"DRB%\": 13.0, \"TRB%\": 10.2, \"AST%\": 7.0, \"STL%\": 1.4, \"BLK%\": 0.7, \"TOV%\": 14.8, \"USG%\": -0.5879533785383732, \"OWS\": -0.1, \"DWS\": 0.2, \"WS\": 0.1, \"WS/48\": 0.043, \"OBPM\": -5.8, \"DBPM\": 0.4, \"BPM\": -0.8719579499457438, \"VORP\": -0.1, \"pred\": 21}, {\"Player\": \"Ryan Broekhoff\", \"Pos\": \"SG\", \"Age\": 29, \"Tm\": \"DAL\", \"G\": 17, \"MP\": 180, \"PER\": 13.1, \"TS%\": 0.568, \"3PAr\": 0.864, \"FTr\": 0.136, \"ORB%\": 3.0, \"DRB%\": 21.9, \"TRB%\": 12.5, \"AST%\": 8.3, \"STL%\": 1.3, \"BLK%\": 1.9, \"TOV%\": 8.8, \"USG%\": -0.35713046985116015, \"OWS\": 0.2, \"DWS\": 0.2, \"WS\": 0.4, \"WS/48\": 0.109, \"OBPM\": 0.4, \"DBPM\": 0.3, \"BPM\": 0.595321263169025, \"VORP\": 0.1, \"pred\": 25}, {\"Player\": \"Malcolm Brogdon\", \"Pos\": \"PG\", \"Age\": 27, \"Tm\": \"IND\", \"G\": 54, \"MP\": 1666, \"PER\": 17.7, \"TS%\": 0.541, \"3PAr\": 0.309, \"FTr\": 0.25, \"ORB%\": 3.1, \"DRB%\": 14.1, \"TRB%\": 8.6, \"AST%\": 33.8, \"STL%\": 1.0, \"BLK%\": 0.5, \"TOV%\": 13.7, \"USG%\": 1.2231186742382205, \"OWS\": 2.3, \"DWS\": 1.7, \"WS\": 4.0, \"WS/48\": 0.114, \"OBPM\": 2.3, \"DBPM\": -0.5, \"BPM\": 0.8599125966815243, \"VORP\": 1.6, \"pred\": 27}, {\"Player\": \"Dillon Brooks\", \"Pos\": \"SG\", \"Age\": 24, \"Tm\": \"MEM\", \"G\": 73, \"MP\": 2112, \"PER\": 11.3, \"TS%\": 0.51, \"3PAr\": 0.385, \"FTr\": 0.19, \"ORB%\": 3.5, \"DRB%\": 8.6, \"TRB%\": 6.1, \"AST%\": 10.5, \"STL%\": 1.4, \"BLK%\": 1.1, \"TOV%\": 9.7, \"USG%\": 1.2231186742382205, \"OWS\": -0.4, \"DWS\": 1.6, \"WS\": 1.2, \"WS/48\": 0.027, \"OBPM\": -2.6, \"DBPM\": -1.4, \"BPM\": -0.5592591012491536, \"VORP\": -1.1, \"pred\": 20}, {\"Player\": \"Bruce Brown\", \"Pos\": \"SG\", \"Age\": 23, \"Tm\": \"DET\", \"G\": 58, \"MP\": 1634, \"PER\": 11.9, \"TS%\": 0.518, \"3PAr\": 0.215, \"FTr\": 0.266, \"ORB%\": 4.2, \"DRB%\": 15.0, \"TRB%\": 9.5, \"AST%\": 20.4, \"STL%\": 1.9, \"BLK%\": 1.5, \"TOV%\": 16.7, \"USG%\": -0.4103972949328248, \"OWS\": 0.7, \"DWS\": 1.4, \"WS\": 2.1, \"WS/48\": 0.062, \"OBPM\": -2.0, \"DBPM\": 0.8, \"BPM\": 0.1382998689201627, \"VORP\": 0.3, \"pred\": 23}, {\"Player\": \"Charlie Brown\", \"Pos\": \"SG\", \"Age\": 22, \"Tm\": \"ATL\", \"G\": 10, \"MP\": 40, \"PER\": 11.0, \"TS%\": 0.472, \"3PAr\": 0.474, \"FTr\": 0.263, \"ORB%\": 5.3, \"DRB%\": 5.5, \"TRB%\": 5.4, \"AST%\": 7.3, \"STL%\": 2.3, \"BLK%\": 4.2, \"TOV%\": 12.4, \"USG%\": 1.205363065877666, \"OWS\": 0.0, \"DWS\": 0.0, \"WS\": 0.0, \"WS/48\": -0.028, \"OBPM\": -1.1, \"DBPM\": -1.4, \"BPM\": -0.17439897977642738, \"VORP\": 0.0, \"pred\": 24}, {\"Player\": \"Jaylen Brown\", \"Pos\": \"SF\", \"Age\": 23, \"Tm\": \"BOS\", \"G\": 57, \"MP\": 1934, \"PER\": 16.9, \"TS%\": 0.583, \"3PAr\": 0.381, \"FTr\": 0.274, \"ORB%\": 3.5, \"DRB%\": 16.5, \"TRB%\": 10.1, \"AST%\": 9.7, \"STL%\": 1.6, \"BLK%\": 1.0, \"TOV%\": 11.2, \"USG%\": 1.1343406324354464, \"OWS\": 2.3, \"DWS\": 2.6, \"WS\": 4.9, \"WS/48\": 0.123, \"OBPM\": 1.0, \"DBPM\": -0.2, \"BPM\": 0.6193750207610704, \"VORP\": 1.4, \"pred\": 23}, {\"Player\": \"Moses Brown\", \"Pos\": \"C\", \"Age\": 20, \"Tm\": \"POR\", \"G\": 9, \"MP\": 33, \"PER\": 6.7, \"TS%\": 0.407, \"3PAr\": 0.0, \"FTr\": 0.8, \"ORB%\": 9.6, \"DRB%\": 34.5, \"TRB%\": 22.2, \"AST%\": 4.0, \"STL%\": 1.4, \"BLK%\": 2.6, \"TOV%\": 18.2, \"USG%\": 0.5128943398160268, \"OWS\": -0.1, \"DWS\": 0.0, \"WS\": 0.0, \"WS/48\": -0.065, \"OBPM\": -8.2, \"DBPM\": -1.8, \"BPM\": -1.9784307991798316, \"VORP\": -0.1, \"pred\": 22}, {\"Player\": \"Sterling Brown\", \"Pos\": \"SF\", \"Age\": 24, \"Tm\": \"MIL\", \"G\": 52, \"MP\": 767, \"PER\": 9.5, \"TS%\": 0.486, \"3PAr\": 0.531, \"FTr\": 0.156, \"ORB%\": 4.3, \"DRB%\": 18.5, \"TRB%\": 11.8, \"AST%\": 8.6, \"STL%\": 1.7, \"BLK%\": 0.8, \"TOV%\": 13.3, \"USG%\": -0.23284121132727637, \"OWS\": -0.4, \"DWS\": 1.5, \"WS\": 1.1, \"WS/48\": 0.07, \"OBPM\": -3.0, \"DBPM\": 1.0, \"BPM\": -0.05413019181620043, \"VORP\": 0.0, \"pred\": 24}, {\"Player\": \"Troy Brown Jr.\", \"Pos\": \"SG\", \"Age\": 20, \"Tm\": \"WAS\", \"G\": 69, \"MP\": 1782, \"PER\": 13.7, \"TS%\": 0.524, \"3PAr\": 0.288, \"FTr\": 0.223, \"ORB%\": 4.5, \"DRB%\": 19.6, \"TRB%\": 11.7, \"AST%\": 14.1, \"STL%\": 2.2, \"BLK%\": 0.3, \"TOV%\": 10.4, \"USG%\": -0.09079634444283752, \"OWS\": 1.3, \"DWS\": 1.2, \"WS\": 2.4, \"WS/48\": 0.065, \"OBPM\": -0.8, \"DBPM\": -0.4, \"BPM\": 0.11424611132811728, \"VORP\": 0.3, \"pred\": 20}, {\"Player\": \"Jalen Brunson\", \"Pos\": \"PG\", \"Age\": 23, \"Tm\": \"DAL\", \"G\": 57, \"MP\": 1022, \"PER\": 14.9, \"TS%\": 0.553, \"3PAr\": 0.309, \"FTr\": 0.193, \"ORB%\": 2.3, \"DRB%\": 11.3, \"TRB%\": 6.9, \"AST%\": 27.0, \"STL%\": 1.0, \"BLK%\": 0.3, \"TOV%\": 13.6, \"USG%\": 0.370849472931588, \"OWS\": 1.6, \"DWS\": 0.6, \"WS\": 2.1, \"WS/48\": 0.101, \"OBPM\": 0.1, \"DBPM\": -1.0, \"BPM\": 0.21046114169629884, \"VORP\": 0.3, \"pred\": 23}, {\"Player\": \"Thomas Bryant\", \"Pos\": \"C\", \"Age\": 22, \"Tm\": \"WAS\", \"G\": 46, \"MP\": 1147, \"PER\": 21.1, \"TS%\": 0.649, \"3PAr\": 0.218, \"FTr\": 0.278, \"ORB%\": 9.0, \"DRB%\": 23.1, \"TRB%\": 15.8, \"AST%\": 11.1, \"STL%\": 1.0, \"BLK%\": 3.7, \"TOV%\": 10.2, \"USG%\": 0.10451534752326536, \"OWS\": 3.1, \"DWS\": 0.8, \"WS\": 3.9, \"WS/48\": 0.164, \"OBPM\": 2.9, \"DBPM\": -0.7, \"BPM\": 0.9561276270497059, \"VORP\": 1.2, \"pred\": 22}, {\"Player\": \"Reggie Bullock\", \"Pos\": \"SG\", \"Age\": 28, \"Tm\": \"NYK\", \"G\": 29, \"MP\": 684, \"PER\": 9.3, \"TS%\": 0.502, \"3PAr\": 0.496, \"FTr\": 0.094, \"ORB%\": 2.0, \"DRB%\": 8.8, \"TRB%\": 5.3, \"AST%\": 8.8, \"STL%\": 1.8, \"BLK%\": 0.4, \"TOV%\": 7.5, \"USG%\": -0.4814197283750442, \"OWS\": 0.2, \"DWS\": 0.3, \"WS\": 0.5, \"WS/48\": 0.036, \"OBPM\": -2.8, \"DBPM\": -0.3, \"BPM\": -0.2946677677366543, \"VORP\": -0.2, \"pred\": 28}, {\"Player\": \"Trey Burke\", \"Pos\": \"PG\", \"Age\": 27, \"Tm\": \"TOT\", \"G\": 33, \"MP\": 520, \"PER\": 15.6, \"TS%\": 0.548, \"3PAr\": 0.359, \"FTr\": 0.139, \"ORB%\": 3.4, \"DRB%\": 7.0, \"TRB%\": 5.2, \"AST%\": 23.7, \"STL%\": 1.5, \"BLK%\": 0.3, \"TOV%\": 8.7, \"USG%\": 0.29982703948936884, \"OWS\": 1.0, \"DWS\": 0.4, \"WS\": 1.3, \"WS/48\": 0.123, \"OBPM\": 0.8, \"DBPM\": -1.0, \"BPM\": 0.3788374448406166, \"VORP\": 0.2, \"pred\": 27}, {\"Player\": \"Trey Burke\", \"Pos\": \"PG\", \"Age\": 27, \"Tm\": \"PHI\", \"G\": 25, \"MP\": 329, \"PER\": 15.4, \"TS%\": 0.545, \"3PAr\": 0.299, \"FTr\": 0.142, \"ORB%\": 5.0, \"DRB%\": 6.7, \"TRB%\": 5.9, \"AST%\": 23.9, \"STL%\": 1.0, \"BLK%\": 0.3, \"TOV%\": 8.2, \"USG%\": 0.15778217260493002, \"OWS\": 0.6, \"DWS\": 0.2, \"WS\": 0.9, \"WS/48\": 0.127, \"OBPM\": 0.7, \"DBPM\": -1.2, \"BPM\": 0.3066761720644804, \"VORP\": 0.1, \"pred\": 27}, {\"Player\": \"Trey Burke\", \"Pos\": \"PG\", \"Age\": 27, \"Tm\": \"DAL\", \"G\": 8, \"MP\": 191, \"PER\": 16.0, \"TS%\": 0.553, \"3PAr\": 0.451, \"FTr\": 0.134, \"ORB%\": 0.6, \"DRB%\": 7.6, \"TRB%\": 4.1, \"AST%\": 23.2, \"STL%\": 2.3, \"BLK%\": 0.4, \"TOV%\": 9.4, \"USG%\": 0.5484055565371364, \"OWS\": 0.3, \"DWS\": 0.2, \"WS\": 0.5, \"WS/48\": 0.117, \"OBPM\": 1.0, \"DBPM\": -0.8, \"BPM\": 0.4750524752087981, \"VORP\": 0.1, \"pred\": 27}, {\"Player\": \"Alec Burks\", \"Pos\": \"SG\", \"Age\": 28, \"Tm\": \"TOT\", \"G\": 66, \"MP\": 1754, \"PER\": 16.7, \"TS%\": 0.561, \"3PAr\": 0.392, \"FTr\": 0.345, \"ORB%\": 2.9, \"DRB%\": 14.9, \"TRB%\": 8.7, \"AST%\": 17.2, \"STL%\": 1.7, \"BLK%\": 0.9, \"TOV%\": 9.3, \"USG%\": 0.974540157190453, \"OWS\": 2.5, \"DWS\": 1.2, \"WS\": 3.7, \"WS/48\": 0.101, \"OBPM\": 1.2, \"DBPM\": -0.7, \"BPM\": 0.5472137479849343, \"VORP\": 1.1, \"pred\": 21}, {\"Player\": \"Alec Burks\", \"Pos\": \"SG\", \"Age\": 28, \"Tm\": \"GSW\", \"G\": 48, \"MP\": 1390, \"PER\": 16.1, \"TS%\": 0.552, \"3PAr\": 0.373, \"FTr\": 0.373, \"ORB%\": 2.8, \"DRB%\": 15.3, \"TRB%\": 8.8, \"AST%\": 17.4, \"STL%\": 1.7, \"BLK%\": 1.1, \"TOV%\": 9.8, \"USG%\": 0.974540157190453, \"OWS\": 1.6, \"DWS\": 0.9, \"WS\": 2.5, \"WS/48\": 0.085, \"OBPM\": 0.7, \"DBPM\": -0.6, \"BPM\": 0.45099871761675275, \"VORP\": 0.7, \"pred\": 28}, {\"Player\": \"Alec Burks\", \"Pos\": \"SG\", \"Age\": 28, \"Tm\": \"PHI\", \"G\": 18, \"MP\": 364, \"PER\": 19.0, \"TS%\": 0.594, \"3PAr\": 0.461, \"FTr\": 0.246, \"ORB%\": 3.3, \"DRB%\": 13.7, \"TRB%\": 8.5, \"AST%\": 16.3, \"STL%\": 1.6, \"BLK%\": 0.0, \"TOV%\": 7.5, \"USG%\": 0.9567845488298978, \"OWS\": 0.9, \"DWS\": 0.4, \"WS\": 1.2, \"WS/48\": 0.161, \"OBPM\": 3.1, \"DBPM\": -1.1, \"BPM\": 0.908020111865615, \"VORP\": 0.4, \"pred\": 22}, {\"Player\": \"Deonte Burton\", \"Pos\": \"SG\", \"Age\": 26, \"Tm\": \"OKC\", \"G\": 39, \"MP\": 356, \"PER\": 4.3, \"TS%\": 0.396, \"3PAr\": 0.424, \"FTr\": 0.112, \"ORB%\": 2.2, \"DRB%\": 15.1, \"TRB%\": 8.8, \"AST%\": 6.8, \"STL%\": 1.0, \"BLK%\": 2.4, \"TOV%\": 12.7, \"USG%\": 0.03349291408104625, \"OWS\": -0.9, \"DWS\": 0.4, \"WS\": -0.5, \"WS/48\": -0.067, \"OBPM\": -6.3, \"DBPM\": -0.5, \"BPM\": -1.2087105562343792, \"VORP\": -0.4, \"pred\": 26}, {\"Player\": \"Jimmy Butler\", \"Pos\": \"SF\", \"Age\": 30, \"Tm\": \"MIA\", \"G\": 58, \"MP\": 1959, \"PER\": 23.6, \"TS%\": 0.585, \"3PAr\": 0.157, \"FTr\": 0.693, \"ORB%\": 6.3, \"DRB%\": 15.4, \"TRB%\": 11.0, \"AST%\": 28.1, \"STL%\": 2.6, \"BLK%\": 1.6, \"TOV%\": 11.4, \"USG%\": 1.205363065877666, \"OWS\": 6.3, \"DWS\": 2.7, \"WS\": 9.0, \"WS/48\": 0.221, \"OBPM\": 4.0, \"DBPM\": 1.5, \"BPM\": 1.7258478699951583, \"VORP\": 3.7, \"pred\": 23}, {\"Player\": \"Bruno Caboclo\", \"Pos\": \"C\", \"Age\": 24, \"Tm\": \"TOT\", \"G\": 30, \"MP\": 244, \"PER\": 14.1, \"TS%\": 0.484, \"3PAr\": 0.371, \"FTr\": 0.101, \"ORB%\": 10.0, \"DRB%\": 15.8, \"TRB%\": 12.9, \"AST%\": 6.8, \"STL%\": 2.9, \"BLK%\": 6.1, \"TOV%\": 12.3, \"USG%\": -0.05528512772172796, \"OWS\": 0.0, \"DWS\": 0.4, \"WS\": 0.4, \"WS/48\": 0.076, \"OBPM\": -3.0, \"DBPM\": 0.9, \"BPM\": -0.07818394940824584, \"VORP\": 0.0, \"pred\": 24}, {\"Player\": \"Bruno Caboclo\", \"Pos\": \"C\", \"Age\": 24, \"Tm\": \"MEM\", \"G\": 22, \"MP\": 192, \"PER\": 11.9, \"TS%\": 0.441, \"3PAr\": 0.362, \"FTr\": 0.043, \"ORB%\": 9.5, \"DRB%\": 14.5, \"TRB%\": 12.1, \"AST%\": 7.1, \"STL%\": 2.4, \"BLK%\": 5.5, \"TOV%\": 9.1, \"USG%\": -0.26835242804838594, \"OWS\": -0.1, \"DWS\": 0.3, \"WS\": 0.2, \"WS/48\": 0.053, \"OBPM\": -3.4, \"DBPM\": 0.7, \"BPM\": -0.2225064949605182, \"VORP\": 0.0, \"pred\": 24}, {\"Player\": \"Bruno Caboclo\", \"Pos\": \"C\", \"Age\": 24, \"Tm\": \"HOU\", \"G\": 8, \"MP\": 52, \"PER\": 22.1, \"TS%\": 0.618, \"3PAr\": 0.4, \"FTr\": 0.3, \"ORB%\": 12.0, \"DRB%\": 20.3, \"TRB%\": 16.1, \"AST%\": 5.9, \"STL%\": 4.4, \"BLK%\": 8.2, \"TOV%\": 20.9, \"USG%\": 0.7969840735849045, \"OWS\": 0.0, \"DWS\": 0.1, \"WS\": 0.2, \"WS/48\": 0.162, \"OBPM\": -1.4, \"DBPM\": 1.6, \"BPM\": 0.4750524752087981, \"VORP\": 0.0, \"pred\": 24}, {\"Player\": \"Devontae Cacok\", \"Pos\": \"C\", \"Age\": 23, \"Tm\": \"LAL\", \"G\": 1, \"MP\": 9, \"PER\": 28.6, \"TS%\": 0.5, \"3PAr\": 0.0, \"FTr\": 0.0, \"ORB%\": 24.6, \"DRB%\": 36.1, \"TRB%\": 30.4, \"AST%\": 20.3, \"STL%\": 0.0, \"BLK%\": 0.0, \"TOV%\": 0.0, \"USG%\": 1.7380313166943113, \"OWS\": 0.0, \"DWS\": 0.0, \"WS\": 0.0, \"WS/48\": 0.226, \"OBPM\": 4.8, \"DBPM\": -4.6, \"BPM\": 0.4750524752087981, \"VORP\": 0.0, \"pred\": 23}, {\"Player\": \"Kentavious Caldwell-Pope\", \"Pos\": \"SG\", \"Age\": 26, \"Tm\": \"LAL\", \"G\": 69, \"MP\": 1762, \"PER\": 11.0, \"TS%\": 0.584, \"3PAr\": 0.471, \"FTr\": 0.201, \"ORB%\": 2.4, \"DRB%\": 6.4, \"TRB%\": 4.4, \"AST%\": 8.5, \"STL%\": 1.5, \"BLK%\": 0.7, \"TOV%\": 10.1, \"USG%\": -0.6412202036200378, \"OWS\": 1.9, \"DWS\": 1.9, \"WS\": 3.7, \"WS/48\": 0.102, \"OBPM\": -1.2, \"DBPM\": 0.4, \"BPM\": 0.23451489928834424, \"VORP\": 0.5, \"pred\": 26}, {\"Player\": \"Vlatko \\u010can\\u010dar\", \"Pos\": \"SF\", \"Age\": 22, \"Tm\": \"DEN\", \"G\": 14, \"MP\": 45, \"PER\": 11.4, \"TS%\": 0.507, \"3PAr\": 0.4, \"FTr\": 0.267, \"ORB%\": 12.5, \"DRB%\": 12.4, \"TRB%\": 12.4, \"AST%\": 9.1, \"STL%\": 1.1, \"BLK%\": 2.1, \"TOV%\": 15.2, \"USG%\": 0.14002656424437554, \"OWS\": 0.0, \"DWS\": 0.0, \"WS\": 0.1, \"WS/48\": 0.062, \"OBPM\": -3.4, \"DBPM\": -1.2, \"BPM\": -0.6795278892093805, \"VORP\": 0.0, \"pred\": 22}, {\"Player\": \"Clint Capela\", \"Pos\": \"C\", \"Age\": 25, \"Tm\": \"HOU\", \"G\": 39, \"MP\": 1279, \"PER\": 20.6, \"TS%\": 0.626, \"3PAr\": 0.0, \"FTr\": 0.268, \"ORB%\": 13.6, \"DRB%\": 30.5, \"TRB%\": 22.0, \"AST%\": 5.7, \"STL%\": 1.2, \"BLK%\": 4.8, \"TOV%\": 12.7, \"USG%\": -0.39264168657226967, \"OWS\": 2.8, \"DWS\": 2.1, \"WS\": 4.9, \"WS/48\": 0.184, \"OBPM\": 1.0, \"DBPM\": 0.4, \"BPM\": 0.7636975663133428, \"VORP\": 1.1, \"pred\": 25}, {\"Player\": \"DeMarre Carroll\", \"Pos\": \"SF-PF\", \"Age\": 33, \"Tm\": \"TOT\", \"G\": 24, \"MP\": 290, \"PER\": 9.1, \"TS%\": 0.515, \"3PAr\": 0.5, \"FTr\": 0.636, \"ORB%\": 4.4, \"DRB%\": 15.8, \"TRB%\": 10.1, \"AST%\": 11.2, \"STL%\": 1.3, \"BLK%\": 1.5, \"TOV%\": 16.8, \"USG%\": -0.6234645952594827, \"OWS\": 0.0, \"DWS\": 0.2, \"WS\": 0.3, \"WS/48\": 0.045, \"OBPM\": -3.1, \"DBPM\": -0.7, \"BPM\": -0.5111515860650627, \"VORP\": -0.1, \"pred\": 33}, {\"Player\": \"DeMarre Carroll\", \"Pos\": \"SF\", \"Age\": 33, \"Tm\": \"SAS\", \"G\": 15, \"MP\": 135, \"PER\": 4.9, \"TS%\": 0.437, \"3PAr\": 0.448, \"FTr\": 0.69, \"ORB%\": 5.6, \"DRB%\": 19.2, \"TRB%\": 12.4, \"AST%\": 10.1, \"STL%\": 0.7, \"BLK%\": 1.3, \"TOV%\": 20.9, \"USG%\": -0.5346865534567086, \"OWS\": -0.2, \"DWS\": 0.1, \"WS\": -0.1, \"WS/48\": -0.036, \"OBPM\": -5.9, \"DBPM\": -1.1, \"BPM\": -1.2568180714184698, \"VORP\": -0.2, \"pred\": 33}, {\"Player\": \"DeMarre Carroll\", \"Pos\": \"PF\", \"Age\": 33, \"Tm\": \"HOU\", \"G\": 9, \"MP\": 155, \"PER\": 12.8, \"TS%\": 0.578, \"3PAr\": 0.541, \"FTr\": 0.595, \"ORB%\": 3.3, \"DRB%\": 13.0, \"TRB%\": 8.1, \"AST%\": 12.2, \"STL%\": 1.8, \"BLK%\": 1.7, \"TOV%\": 13.0, \"USG%\": -0.712242637062257, \"OWS\": 0.2, \"DWS\": 0.2, \"WS\": 0.4, \"WS/48\": 0.114, \"OBPM\": -0.7, \"DBPM\": -0.4, \"BPM\": 0.16235362651220805, \"VORP\": 0.0, \"pred\": 33}, {\"Player\": \"Jevon Carter\", \"Pos\": \"PG\", \"Age\": 24, \"Tm\": \"PHO\", \"G\": 58, \"MP\": 945, \"PER\": 11.3, \"TS%\": 0.563, \"3PAr\": 0.601, \"FTr\": 0.111, \"ORB%\": 3.5, \"DRB%\": 10.5, \"TRB%\": 6.9, \"AST%\": 11.9, \"STL%\": 2.4, \"BLK%\": 1.6, \"TOV%\": 11.2, \"USG%\": -0.9608211541100248, \"OWS\": 0.8, \"DWS\": 1.0, \"WS\": 1.8, \"WS/48\": 0.093, \"OBPM\": -0.7, \"DBPM\": 1.3, \"BPM\": 0.5712675055769797, \"VORP\": 0.6, \"pred\": 24}, {\"Player\": \"Vince Carter\", \"Pos\": \"SF\", \"Age\": 43, \"Tm\": \"ATL\", \"G\": 60, \"MP\": 876, \"PER\": 7.5, \"TS%\": 0.47, \"3PAr\": 0.664, \"FTr\": 0.095, \"ORB%\": 2.2, \"DRB%\": 13.2, \"TRB%\": 7.6, \"AST%\": 7.7, \"STL%\": 1.2, \"BLK%\": 2.4, \"TOV%\": 9.4, \"USG%\": -0.30386364476949546, \"OWS\": -0.6, \"DWS\": 0.4, \"WS\": -0.2, \"WS/48\": -0.011, \"OBPM\": -3.1, \"DBPM\": -1.2, \"BPM\": -0.6073666164332444, \"VORP\": -0.5, \"pred\": 22}, {\"Player\": \"Wendell Carter Jr.\", \"Pos\": \"C\", \"Age\": 20, \"Tm\": \"CHI\", \"G\": 43, \"MP\": 1256, \"PER\": 15.5, \"TS%\": 0.59, \"3PAr\": 0.085, \"FTr\": 0.443, \"ORB%\": 11.6, \"DRB%\": 24.6, \"TRB%\": 17.8, \"AST%\": 6.0, \"STL%\": 1.3, \"BLK%\": 2.7, \"TOV%\": 14.9, \"USG%\": -0.3393748614906057, \"OWS\": 1.7, \"DWS\": 1.6, \"WS\": 3.3, \"WS/48\": 0.127, \"OBPM\": -2.1, \"DBPM\": -0.3, \"BPM\": -0.15034522218438195, \"VORP\": -0.1, \"pred\": 20}, {\"Player\": \"Michael Carter-Williams\", \"Pos\": \"SG\", \"Age\": 28, \"Tm\": \"ORL\", \"G\": 45, \"MP\": 833, \"PER\": 15.3, \"TS%\": 0.535, \"3PAr\": 0.288, \"FTr\": 0.365, \"ORB%\": 5.8, \"DRB%\": 13.5, \"TRB%\": 9.5, \"AST%\": 19.1, \"STL%\": 2.9, \"BLK%\": 2.4, \"TOV%\": 14.7, \"USG%\": -0.0020183026400633066, \"OWS\": 0.7, \"DWS\": 1.2, \"WS\": 1.9, \"WS/48\": 0.111, \"OBPM\": -1.5, \"DBPM\": 1.6, \"BPM\": 0.45099871761675275, \"VORP\": 0.5, \"pred\": 28}, {\"Player\": \"Alex Caruso\", \"Pos\": \"PG\", \"Age\": 25, \"Tm\": \"LAL\", \"G\": 64, \"MP\": 1175, \"PER\": 10.8, \"TS%\": 0.525, \"3PAr\": 0.412, \"FTr\": 0.323, \"ORB%\": 1.6, \"DRB%\": 9.8, \"TRB%\": 5.7, \"AST%\": 13.6, \"STL%\": 2.8, \"BLK%\": 1.4, \"TOV%\": 13.8, \"USG%\": -0.8010206788650311, \"OWS\": 0.5, \"DWS\": 1.8, \"WS\": 2.3, \"WS/48\": 0.095, \"OBPM\": -2.6, \"DBPM\": 2.4, \"BPM\": 0.3788374448406166, \"VORP\": 0.5, \"pred\": 25}, {\"Player\": \"Willie Cauley-Stein\", \"Pos\": \"C\", \"Age\": 26, \"Tm\": \"TOT\", \"G\": 54, \"MP\": 1097, \"PER\": 17.0, \"TS%\": 0.589, \"3PAr\": 0.003, \"FTr\": 0.219, \"ORB%\": 8.0, \"DRB%\": 23.3, \"TRB%\": 15.5, \"AST%\": 9.9, \"STL%\": 2.1, \"BLK%\": 5.0, \"TOV%\": 10.8, \"USG%\": -0.6944870287017022, \"OWS\": 1.5, \"DWS\": 1.5, \"WS\": 2.9, \"WS/48\": 0.128, \"OBPM\": -1.2, \"DBPM\": 1.7, \"BPM\": 0.5472137479849343, \"VORP\": 0.7, \"pred\": 26}, {\"Player\": \"Willie Cauley-Stein\", \"Pos\": \"C\", \"Age\": 26, \"Tm\": \"GSW\", \"G\": 41, \"MP\": 940, \"PER\": 16.2, \"TS%\": 0.573, \"3PAr\": 0.0, \"FTr\": 0.222, \"ORB%\": 7.9, \"DRB%\": 22.0, \"TRB%\": 14.7, \"AST%\": 9.9, \"STL%\": 2.3, \"BLK%\": 4.8, \"TOV%\": 11.0, \"USG%\": -0.6944870287017022, \"OWS\": 1.0, \"DWS\": 1.2, \"WS\": 2.2, \"WS/48\": 0.113, \"OBPM\": -1.6, \"DBPM\": 1.6, \"BPM\": 0.42694496002470733, \"VORP\": 0.5, \"pred\": 34}, {\"Player\": \"Willie Cauley-Stein\", \"Pos\": \"C\", \"Age\": 26, \"Tm\": \"DAL\", \"G\": 13, \"MP\": 157, \"PER\": 22.2, \"TS%\": 0.684, \"3PAr\": 0.022, \"FTr\": 0.2, \"ORB%\": 8.8, \"DRB%\": 31.0, \"TRB%\": 20.1, \"AST%\": 9.6, \"STL%\": 1.2, \"BLK%\": 6.0, \"TOV%\": 9.3, \"USG%\": -0.6412202036200378, \"OWS\": 0.5, \"DWS\": 0.3, \"WS\": 0.7, \"WS/48\": 0.222, \"OBPM\": 0.9, \"DBPM\": 2.2, \"BPM\": 1.1726114453781145, \"VORP\": 0.2, \"pred\": 25}, {\"Player\": \"Tyson Chandler\", \"Pos\": \"C\", \"Age\": 37, \"Tm\": \"HOU\", \"G\": 26, \"MP\": 219, \"PER\": 10.8, \"TS%\": 0.717, \"3PAr\": 0.0, \"FTr\": 0.722, \"ORB%\": 11.8, \"DRB%\": 19.8, \"TRB%\": 15.8, \"AST%\": 3.5, \"STL%\": 1.3, \"BLK%\": 3.1, \"TOV%\": 25.2, \"USG%\": -2.185958130988309, \"OWS\": 0.3, \"DWS\": 0.3, \"WS\": 0.6, \"WS/48\": 0.131, \"OBPM\": -2.6, \"DBPM\": 1.1, \"BPM\": 0.06613859614402652, \"VORP\": 0.0, \"pred\": 24}, {\"Player\": \"Wilson Chandler\", \"Pos\": \"SF\", \"Age\": 32, \"Tm\": \"BRK\", \"G\": 35, \"MP\": 734, \"PER\": 7.4, \"TS%\": 0.531, \"3PAr\": 0.661, \"FTr\": 0.126, \"ORB%\": 1.6, \"DRB%\": 18.5, \"TRB%\": 10.2, \"AST%\": 7.3, \"STL%\": 1.0, \"BLK%\": 1.4, \"TOV%\": 15.0, \"USG%\": -0.9608211541100248, \"OWS\": -0.1, \"DWS\": 0.9, \"WS\": 0.7, \"WS/48\": 0.046, \"OBPM\": -3.8, \"DBPM\": 1.0, \"BPM\": -0.2225064949605182, \"VORP\": -0.1, \"pred\": 32}, {\"Player\": \"Joe Chealey\", \"Pos\": \"PG\", \"Age\": 24, \"Tm\": \"CHO\", \"G\": 4, \"MP\": 33, \"PER\": -2.9, \"TS%\": 0.127, \"3PAr\": 0.571, \"FTr\": 0.286, \"ORB%\": 0.0, \"DRB%\": 0.0, \"TRB%\": 0.0, \"AST%\": 3.9, \"STL%\": 6.1, \"BLK%\": 0.0, \"TOV%\": 20.2, \"USG%\": -0.9075543290283604, \"OWS\": -0.2, \"DWS\": 0.0, \"WS\": -0.1, \"WS/48\": -0.188, \"OBPM\": -14.3, \"DBPM\": 1.7, \"BPM\": -2.579774738980966, \"VORP\": -0.1, \"pred\": 24}, {\"Player\": \"Zylan Cheatham\", \"Pos\": \"SF\", \"Age\": 24, \"Tm\": \"NOP\", \"G\": 4, \"MP\": 51, \"PER\": 6.7, \"TS%\": 0.667, \"3PAr\": 0.111, \"FTr\": 0.0, \"ORB%\": 6.2, \"DRB%\": 12.5, \"TRB%\": 9.4, \"AST%\": 7.7, \"STL%\": 0.9, \"BLK%\": 1.6, \"TOV%\": 30.8, \"USG%\": -1.4047113631238959, \"OWS\": 0.0, \"DWS\": 0.0, \"WS\": 0.0, \"WS/48\": 0.034, \"OBPM\": -6.5, \"DBPM\": -0.6, \"BPM\": -1.2808718290105152, \"VORP\": -0.1, \"pred\": 33}, {\"Player\": \"Chris Chiozza\", \"Pos\": \"PG\", \"Age\": 24, \"Tm\": \"TOT\", \"G\": 28, \"MP\": 401, \"PER\": 12.0, \"TS%\": 0.499, \"3PAr\": 0.514, \"FTr\": 0.036, \"ORB%\": 2.4, \"DRB%\": 11.6, \"TRB%\": 6.9, \"AST%\": 29.4, \"STL%\": 2.5, \"BLK%\": 0.9, \"TOV%\": 18.4, \"USG%\": -0.03752951936117286, \"OWS\": 0.0, \"DWS\": 0.4, \"WS\": 0.5, \"WS/48\": 0.055, \"OBPM\": -1.6, \"DBPM\": 0.5, \"BPM\": 0.1382998689201627, \"VORP\": 0.1, \"pred\": 24}, {\"Player\": \"Chris Chiozza\", \"Pos\": \"PG\", \"Age\": 24, \"Tm\": \"WAS\", \"G\": 10, \"MP\": 123, \"PER\": 9.2, \"TS%\": 0.397, \"3PAr\": 0.471, \"FTr\": 0.0, \"ORB%\": 0.0, \"DRB%\": 13.9, \"TRB%\": 6.7, \"AST%\": 29.2, \"STL%\": 3.8, \"BLK%\": 1.4, \"TOV%\": 20.9, \"USG%\": -0.6767314203411474, \"OWS\": -0.1, \"DWS\": 0.1, \"WS\": 0.0, \"WS/48\": -0.001, \"OBPM\": -3.6, \"DBPM\": 2.2, \"BPM\": 0.06613859614402652, \"VORP\": 0.0, \"pred\": 24}, {\"Player\": \"Chris Chiozza\", \"Pos\": \"PG\", \"Age\": 24, \"Tm\": \"BRK\", \"G\": 18, \"MP\": 278, \"PER\": 13.2, \"TS%\": 0.531, \"3PAr\": 0.528, \"FTr\": 0.047, \"ORB%\": 3.4, \"DRB%\": 10.6, \"TRB%\": 7.1, \"AST%\": 29.5, \"STL%\": 1.9, \"BLK%\": 0.6, \"TOV%\": 17.5, \"USG%\": 0.24656021440770423, \"OWS\": 0.2, \"DWS\": 0.3, \"WS\": 0.5, \"WS/48\": 0.08, \"OBPM\": -0.8, \"DBPM\": -0.3, \"BPM\": 0.16235362651220805, \"VORP\": 0.1, \"pred\": 24}, {\"Player\": \"Marquese Chriss\", \"Pos\": \"PF\", \"Age\": 22, \"Tm\": \"GSW\", \"G\": 59, \"MP\": 1196, \"PER\": 19.5, \"TS%\": 0.604, \"3PAr\": 0.101, \"FTr\": 0.405, \"ORB%\": 10.0, \"DRB%\": 23.6, \"TRB%\": 16.5, \"AST%\": 15.3, \"STL%\": 1.6, \"BLK%\": 4.7, \"TOV%\": 14.7, \"USG%\": 0.12227095588382046, \"OWS\": 2.1, \"DWS\": 1.3, \"WS\": 3.4, \"WS/48\": 0.136, \"OBPM\": 0.0, \"DBPM\": 0.6, \"BPM\": 0.5712675055769797, \"VORP\": 0.8, \"pred\": 22}, {\"Player\": \"Gary Clark\", \"Pos\": \"PF\", \"Age\": 25, \"Tm\": \"TOT\", \"G\": 42, \"MP\": 567, \"PER\": 10.7, \"TS%\": 0.568, \"3PAr\": 0.835, \"FTr\": 0.075, \"ORB%\": 6.8, \"DRB%\": 14.0, \"TRB%\": 10.3, \"AST%\": 4.1, \"STL%\": 0.5, \"BLK%\": 3.4, \"TOV%\": 6.8, \"USG%\": -1.298177712960567, \"OWS\": 0.7, \"DWS\": 0.5, \"WS\": 1.2, \"WS/48\": 0.1, \"OBPM\": -0.9, \"DBPM\": -1.0, \"BPM\": -0.030076434224155017, \"VORP\": 0.0, \"pred\": 25}, {\"Player\": \"Gary Clark\", \"Pos\": \"PF\", \"Age\": 25, \"Tm\": \"HOU\", \"G\": 18, \"MP\": 212, \"PER\": 11.8, \"TS%\": 0.564, \"3PAr\": 0.864, \"FTr\": 0.119, \"ORB%\": 5.4, \"DRB%\": 14.5, \"TRB%\": 9.9, \"AST%\": 7.7, \"STL%\": 0.4, \"BLK%\": 2.8, \"TOV%\": 3.1, \"USG%\": -1.0318435875522443, \"OWS\": 0.4, \"DWS\": 0.2, \"WS\": 0.5, \"WS/48\": 0.123, \"OBPM\": 0.3, \"DBPM\": -0.9, \"BPM\": 0.282622414472435, \"VORP\": 0.1, \"pred\": 25}, {\"Player\": \"Gary Clark\", \"Pos\": \"PF\", \"Age\": 25, \"Tm\": \"ORL\", \"G\": 24, \"MP\": 355, \"PER\": 10.1, \"TS%\": 0.571, \"3PAr\": 0.811, \"FTr\": 0.041, \"ORB%\": 7.6, \"DRB%\": 13.8, \"TRB%\": 10.6, \"AST%\": 1.9, \"STL%\": 0.5, \"BLK%\": 3.8, \"TOV%\": 9.6, \"USG%\": -1.4579781882055605, \"OWS\": 0.3, \"DWS\": 0.3, \"WS\": 0.6, \"WS/48\": 0.087, \"OBPM\": -1.7, \"DBPM\": -1.0, \"BPM\": -0.2225064949605182, \"VORP\": -0.1, \"pred\": 25}, {\"Player\": \"Brandon Clarke\", \"Pos\": \"PF\", \"Age\": 23, \"Tm\": \"MEM\", \"G\": 58, \"MP\": 1300, \"PER\": 20.9, \"TS%\": 0.663, \"3PAr\": 0.134, \"FTr\": 0.234, \"ORB%\": 7.6, \"DRB%\": 20.1, \"TRB%\": 14.0, \"AST%\": 9.5, \"STL%\": 1.1, \"BLK%\": 3.2, \"TOV%\": 9.4, \"USG%\": 0.06900413080215581, \"OWS\": 3.4, \"DWS\": 1.6, \"WS\": 5.0, \"WS/48\": 0.183, \"OBPM\": 2.4, \"DBPM\": 0.7, \"BPM\": 1.1726114453781145, \"VORP\": 1.7, \"pred\": 23}, {\"Player\": \"Jordan Clarkson\", \"Pos\": \"SG\", \"Age\": 27, \"Tm\": \"TOT\", \"G\": 71, \"MP\": 1705, \"PER\": 17.3, \"TS%\": 0.574, \"3PAr\": 0.476, \"FTr\": 0.19, \"ORB%\": 3.3, \"DRB%\": 8.7, \"TRB%\": 6.1, \"AST%\": 13.2, \"STL%\": 1.3, \"BLK%\": 0.8, \"TOV%\": 9.4, \"USG%\": 1.418430366204324, \"OWS\": 2.4, \"DWS\": 1.0, \"WS\": 3.4, \"WS/48\": 0.096, \"OBPM\": 2.4, \"DBPM\": -1.3, \"BPM\": 0.6915362935372067, \"VORP\": 1.3, \"pred\": 27}, {\"Player\": \"Jordan Clarkson\", \"Pos\": \"SG\", \"Age\": 27, \"Tm\": \"CLE\", \"G\": 29, \"MP\": 666, \"PER\": 18.6, \"TS%\": 0.581, \"3PAr\": 0.488, \"FTr\": 0.264, \"ORB%\": 3.5, \"DRB%\": 8.1, \"TRB%\": 5.8, \"AST%\": 17.0, \"STL%\": 1.2, \"BLK%\": 1.0, \"TOV%\": 9.7, \"USG%\": 1.3474079327621042, \"OWS\": 1.4, \"DWS\": 0.1, \"WS\": 1.5, \"WS/48\": 0.107, \"OBPM\": 4.1, \"DBPM\": -1.4, \"BPM\": 1.0763964150099328, \"VORP\": 0.8, \"pred\": 27}, {\"Player\": \"Jordan Clarkson\", \"Pos\": \"SG\", \"Age\": 27, \"Tm\": \"UTA\", \"G\": 42, \"MP\": 1039, \"PER\": 16.5, \"TS%\": 0.569, \"3PAr\": 0.47, \"FTr\": 0.146, \"ORB%\": 3.2, \"DRB%\": 9.1, \"TRB%\": 6.3, \"AST%\": 10.8, \"STL%\": 1.4, \"BLK%\": 0.6, \"TOV%\": 9.2, \"USG%\": 1.4894527996465432, \"OWS\": 1.0, \"DWS\": 0.9, \"WS\": 1.9, \"WS/48\": 0.089, \"OBPM\": 1.3, \"DBPM\": -1.2, \"BPM\": 0.45099871761675275, \"VORP\": 0.5, \"pred\": 27}, {\"Player\": \"Nicolas Claxton\", \"Pos\": \"PF\", \"Age\": 20, \"Tm\": \"BRK\", \"G\": 15, \"MP\": 187, \"PER\": 14.8, \"TS%\": 0.577, \"3PAr\": 0.146, \"FTr\": 0.438, \"ORB%\": 10.7, \"DRB%\": 13.6, \"TRB%\": 12.2, \"AST%\": 12.4, \"STL%\": 0.3, \"BLK%\": 3.6, \"TOV%\": 13.6, \"USG%\": -0.6234645952594827, \"OWS\": 0.3, \"DWS\": 0.2, \"WS\": 0.5, \"WS/48\": 0.121, \"OBPM\": -0.7, \"DBPM\": 0.0, \"BPM\": 0.282622414472435, \"VORP\": 0.1, \"pred\": 20}, {\"Player\": \"Chris Clemons\", \"Pos\": \"SG\", \"Age\": 22, \"Tm\": \"HOU\", \"G\": 33, \"MP\": 291, \"PER\": 13.1, \"TS%\": 0.548, \"3PAr\": 0.754, \"FTr\": 0.077, \"ORB%\": 1.4, \"DRB%\": 9.4, \"TRB%\": 5.4, \"AST%\": 14.3, \"STL%\": 1.4, \"BLK%\": 1.8, \"TOV%\": 11.5, \"USG%\": 0.9390289404693434, \"OWS\": 0.1, \"DWS\": 0.2, \"WS\": 0.4, \"WS/48\": 0.058, \"OBPM\": 0.3, \"DBPM\": -1.3, \"BPM\": 0.18640738410425345, \"VORP\": 0.1, \"pred\": 22}, {\"Player\": \"Antonius Cleveland\", \"Pos\": \"SG\", \"Age\": 25, \"Tm\": \"DAL\", \"G\": 11, \"MP\": 46, \"PER\": 2.5, \"TS%\": 0.34, \"3PAr\": 0.214, \"FTr\": 0.357, \"ORB%\": 4.6, \"DRB%\": 11.3, \"TRB%\": 8.0, \"AST%\": 2.8, \"STL%\": 1.1, \"BLK%\": 5.6, \"TOV%\": 11.0, \"USG%\": -0.2505968196878315, \"OWS\": -0.1, \"DWS\": 0.0, \"WS\": -0.1, \"WS/48\": -0.076, \"OBPM\": -9.0, \"DBPM\": -1.0, \"BPM\": -2.002484556771877, \"VORP\": -0.1, \"pred\": 25}, {\"Player\": \"Amir Coffey\", \"Pos\": \"SG\", \"Age\": 22, \"Tm\": \"LAC\", \"G\": 18, \"MP\": 159, \"PER\": 8.5, \"TS%\": 0.493, \"3PAr\": 0.352, \"FTr\": 0.204, \"ORB%\": 2.7, \"DRB%\": 7.6, \"TRB%\": 5.2, \"AST%\": 12.3, \"STL%\": 1.5, \"BLK%\": 1.1, \"TOV%\": 12.0, \"USG%\": -0.12630756116394706, \"OWS\": 0.0, \"DWS\": 0.2, \"WS\": 0.1, \"WS/48\": 0.041, \"OBPM\": -4.2, \"DBPM\": 0.1, \"BPM\": -0.5592591012491536, \"VORP\": -0.1, \"pred\": 22}, {\"Player\": \"John Collins\", \"Pos\": \"PF\", \"Age\": 22, \"Tm\": \"ATL\", \"G\": 41, \"MP\": 1363, \"PER\": 23.5, \"TS%\": 0.659, \"3PAr\": 0.243, \"FTr\": 0.248, \"ORB%\": 9.0, \"DRB%\": 24.0, \"TRB%\": 16.4, \"AST%\": 7.6, \"STL%\": 1.1, \"BLK%\": 4.1, \"TOV%\": 10.1, \"USG%\": 0.7792284652243494, \"OWS\": 3.8, \"DWS\": 1.2, \"WS\": 4.9, \"WS/48\": 0.174, \"OBPM\": 3.7, \"DBPM\": -0.6, \"BPM\": 1.1726114453781145, \"VORP\": 1.7, \"pred\": 22}, {\"Player\": \"Zach Collins\", \"Pos\": \"PF\", \"Age\": 22, \"Tm\": \"POR\", \"G\": 11, \"MP\": 290, \"PER\": 9.9, \"TS%\": 0.538, \"3PAr\": 0.279, \"FTr\": 0.118, \"ORB%\": 9.1, \"DRB%\": 15.7, \"TRB%\": 12.4, \"AST%\": 7.2, \"STL%\": 0.8, \"BLK%\": 1.5, \"TOV%\": 16.4, \"USG%\": -1.0318435875522443, \"OWS\": 0.2, \"DWS\": 0.1, \"WS\": 0.3, \"WS/48\": 0.052, \"OBPM\": -1.7, \"DBPM\": -1.4, \"BPM\": -0.31872152532869974, \"VORP\": -0.1, \"pred\": 22}, {\"Player\": \"Mike Conley\", \"Pos\": \"PG\", \"Age\": 32, \"Tm\": \"UTA\", \"G\": 47, \"MP\": 1363, \"PER\": 14.1, \"TS%\": 0.537, \"3PAr\": 0.451, \"FTr\": 0.245, \"ORB%\": 2.8, \"DRB%\": 9.2, \"TRB%\": 6.1, \"AST%\": 23.1, \"STL%\": 1.3, \"BLK%\": 0.3, \"TOV%\": 12.8, \"USG%\": 0.8502508986665692, \"OWS\": 1.4, \"DWS\": 1.1, \"WS\": 2.5, \"WS/48\": 0.089, \"OBPM\": 0.7, \"DBPM\": -0.4, \"BPM\": 0.49910623280084354, \"VORP\": 0.8, \"pred\": 32}, {\"Player\": \"Pat Connaughton\", \"Pos\": \"SG\", \"Age\": 27, \"Tm\": \"MIL\", \"G\": 67, \"MP\": 1243, \"PER\": 11.5, \"TS%\": 0.565, \"3PAr\": 0.551, \"FTr\": 0.133, \"ORB%\": 5.1, \"DRB%\": 16.8, \"TRB%\": 11.3, \"AST%\": 10.9, \"STL%\": 0.9, \"BLK%\": 2.2, \"TOV%\": 14.0, \"USG%\": -1.0673548042733538, \"OWS\": 1.1, \"DWS\": 2.3, \"WS\": 3.4, \"WS/48\": 0.13, \"OBPM\": -0.9, \"DBPM\": 1.5, \"BPM\": 0.5712675055769797, \"VORP\": 0.8, \"pred\": 27}, {\"Player\": \"Quinn Cook\", \"Pos\": \"PG\", \"Age\": 26, \"Tm\": \"LAL\", \"G\": 44, \"MP\": 508, \"PER\": 10.0, \"TS%\": 0.509, \"3PAr\": 0.397, \"FTr\": 0.065, \"ORB%\": 2.4, \"DRB%\": 8.5, \"TRB%\": 5.5, \"AST%\": 13.8, \"STL%\": 1.1, \"BLK%\": 0.4, \"TOV%\": 13.0, \"USG%\": 0.47738312309491726, \"OWS\": -0.2, \"DWS\": 0.5, \"WS\": 0.3, \"WS/48\": 0.03, \"OBPM\": -2.3, \"DBPM\": -1.4, \"BPM\": -0.4870978284730174, \"VORP\": -0.2, \"pred\": 26}, {\"Player\": \"Tyler Cook\", \"Pos\": \"PF\", \"Age\": 22, \"Tm\": \"TOT\", \"G\": 13, \"MP\": 54, \"PER\": 19.4, \"TS%\": 0.741, \"3PAr\": 0.0, \"FTr\": 0.667, \"ORB%\": 12.3, \"DRB%\": 16.6, \"TRB%\": 14.4, \"AST%\": 2.9, \"STL%\": 2.7, \"BLK%\": 0.0, \"TOV%\": 16.2, \"USG%\": -0.6412202036200378, \"OWS\": 0.2, \"DWS\": 0.0, \"WS\": 0.2, \"WS/48\": 0.182, \"OBPM\": 0.3, \"DBPM\": -0.7, \"BPM\": 0.33072992965652576, \"VORP\": 0.0, \"pred\": 25}, {\"Player\": \"Tyler Cook\", \"Pos\": \"PF\", \"Age\": 22, \"Tm\": \"CLE\", \"G\": 11, \"MP\": 35, \"PER\": 23.9, \"TS%\": 0.752, \"3PAr\": 0.0, \"FTr\": 0.6, \"ORB%\": 12.6, \"DRB%\": 19.2, \"TRB%\": 15.9, \"AST%\": 4.5, \"STL%\": 1.4, \"BLK%\": 0.0, \"TOV%\": 7.3, \"USG%\": -0.286108036408941, \"OWS\": 0.2, \"DWS\": 0.0, \"WS\": 0.2, \"WS/48\": 0.244, \"OBPM\": 2.9, \"DBPM\": -0.6, \"BPM\": 0.9801813846417512, \"VORP\": 0.0, \"pred\": 22}, {\"Player\": \"Tyler Cook\", \"Pos\": \"PF\", \"Age\": 22, \"Tm\": \"DEN\", \"G\": 2, \"MP\": 19, \"PER\": 11.3, \"TS%\": 0.694, \"3PAr\": 0.0, \"FTr\": 1.0, \"ORB%\": 11.8, \"DRB%\": 11.8, \"TRB%\": 11.8, \"AST%\": 0.0, \"STL%\": 5.2, \"BLK%\": 0.0, \"TOV%\": 41.0, \"USG%\": -1.2626664962394574, \"OWS\": 0.0, \"DWS\": 0.0, \"WS\": 0.0, \"WS/48\": 0.069, \"OBPM\": -4.5, \"DBPM\": -0.9, \"BPM\": -0.8719579499457438, \"VORP\": 0.0, \"pred\": 22}, {\"Player\": \"Robert Covington\", \"Pos\": \"PF-C\", \"Age\": 29, \"Tm\": \"TOT\", \"G\": 70, \"MP\": 2137, \"PER\": 13.3, \"TS%\": 0.559, \"3PAr\": 0.664, \"FTr\": 0.172, \"ORB%\": 3.0, \"DRB%\": 20.2, \"TRB%\": 11.4, \"AST%\": 5.9, \"STL%\": 2.5, \"BLK%\": 3.7, \"TOV%\": 11.7, \"USG%\": -0.23284121132727637, \"OWS\": 0.7, \"DWS\": 3.0, \"WS\": 3.7, \"WS/48\": 0.083, \"OBPM\": -1.2, \"DBPM\": 1.3, \"BPM\": 0.42694496002470733, \"VORP\": 1.1, \"pred\": 29}, {\"Player\": \"Robert Covington\", \"Pos\": \"PF\", \"Age\": 29, \"Tm\": \"MIN\", \"G\": 48, \"MP\": 1411, \"PER\": 13.5, \"TS%\": 0.572, \"3PAr\": 0.629, \"FTr\": 0.19, \"ORB%\": 2.6, \"DRB%\": 19.5, \"TRB%\": 10.7, \"AST%\": 5.9, \"STL%\": 2.6, \"BLK%\": 2.6, \"TOV%\": 12.0, \"USG%\": -0.09079634444283752, \"OWS\": 0.5, \"DWS\": 1.8, \"WS\": 2.3, \"WS/48\": 0.078, \"OBPM\": -1.2, \"DBPM\": 1.2, \"BPM\": 0.42694496002470733, \"VORP\": 0.7, \"pred\": 23}, {\"Player\": \"Robert Covington\", \"Pos\": \"C\", \"Age\": 29, \"Tm\": \"HOU\", \"G\": 22, \"MP\": 726, \"PER\": 13.1, \"TS%\": 0.531, \"3PAr\": 0.74, \"FTr\": 0.132, \"ORB%\": 3.9, \"DRB%\": 21.7, \"TRB%\": 12.7, \"AST%\": 6.1, \"STL%\": 2.2, \"BLK%\": 5.7, \"TOV%\": 11.1, \"USG%\": -0.5169309450961538, \"OWS\": 0.2, \"DWS\": 1.2, \"WS\": 1.4, \"WS/48\": 0.094, \"OBPM\": -1.2, \"DBPM\": 1.3, \"BPM\": 0.45099871761675275, \"VORP\": 0.4, \"pred\": 38}, {\"Player\": \"Allen Crabbe\", \"Pos\": \"SG\", \"Age\": 27, \"Tm\": \"TOT\", \"G\": 37, \"MP\": 653, \"PER\": 6.0, \"TS%\": 0.47, \"3PAr\": 0.672, \"FTr\": 0.079, \"ORB%\": 1.8, \"DRB%\": 11.0, \"TRB%\": 6.3, \"AST%\": 6.8, \"STL%\": 1.1, \"BLK%\": 0.5, \"TOV%\": 8.5, \"USG%\": -0.9963323708311347, \"OWS\": -0.2, \"DWS\": 0.2, \"WS\": -0.1, \"WS/48\": -0.007, \"OBPM\": -3.8, \"DBPM\": -1.5, \"BPM\": -0.8479041923536983, \"VORP\": -0.5, \"pred\": 27}, {\"Player\": \"Allen Crabbe\", \"Pos\": \"SG\", \"Age\": 27, \"Tm\": \"ATL\", \"G\": 28, \"MP\": 522, \"PER\": 7.2, \"TS%\": 0.482, \"3PAr\": 0.65, \"FTr\": 0.084, \"ORB%\": 2.0, \"DRB%\": 11.5, \"TRB%\": 6.7, \"AST%\": 7.3, \"STL%\": 1.3, \"BLK%\": 0.6, \"TOV%\": 7.5, \"USG%\": -0.9963323708311347, \"OWS\": -0.1, \"DWS\": 0.1, \"WS\": 0.1, \"WS/48\": 0.009, \"OBPM\": -3.1, \"DBPM\": -1.1, \"BPM\": -0.5592591012491536, \"VORP\": -0.3, \"pred\": 27}, {\"Player\": \"Allen Crabbe\", \"Pos\": \"SG\", \"Age\": 27, \"Tm\": \"MIN\", \"G\": 9, \"MP\": 131, \"PER\": 1.1, \"TS%\": 0.416, \"3PAr\": 0.765, \"FTr\": 0.059, \"ORB%\": 0.8, \"DRB%\": 9.2, \"TRB%\": 4.8, \"AST%\": 5.1, \"STL%\": 0.0, \"BLK%\": 0.0, \"TOV%\": 12.5, \"USG%\": -1.0318435875522443, \"OWS\": -0.2, \"DWS\": 0.0, \"WS\": -0.2, \"WS/48\": -0.068, \"OBPM\": -6.7, \"DBPM\": -3.2, \"BPM\": -1.9543770415877864, \"VORP\": -0.3, \"pred\": 27}, {\"Player\": \"Torrey Craig\", \"Pos\": \"SF\", \"Age\": 29, \"Tm\": \"DEN\", \"G\": 58, \"MP\": 1072, \"PER\": 10.8, \"TS%\": 0.553, \"3PAr\": 0.513, \"FTr\": 0.134, \"ORB%\": 6.6, \"DRB%\": 13.2, \"TRB%\": 9.9, \"AST%\": 5.9, \"STL%\": 1.1, \"BLK%\": 3.1, \"TOV%\": 8.1, \"USG%\": -1.0140879791916895, \"OWS\": 1.1, \"DWS\": 0.9, \"WS\": 2.0, \"WS/48\": 0.091, \"OBPM\": -2.0, \"DBPM\": -0.3, \"BPM\": -0.12629146459233656, \"VORP\": -0.1, \"pred\": 29}, {\"Player\": \"Jamal Crawford\", \"Pos\": \"SG\", \"Age\": 39, \"Tm\": \"BRK\", \"G\": 1, \"MP\": 6, \"PER\": 33.2, \"TS%\": 0.625, \"3PAr\": 0.5, \"FTr\": 0.0, \"ORB%\": 0.0, \"DRB%\": 0.0, \"TRB%\": 0.0, \"AST%\": 100.0, \"STL%\": 0.0, \"BLK%\": 0.0, \"TOV%\": 0.0, \"USG%\": 1.702520099973201, \"OWS\": 0.1, \"DWS\": 0.0, \"WS\": 0.1, \"WS/48\": 0.492, \"OBPM\": 12.4, \"DBPM\": 2.6, \"BPM\": 4.035008598831516, \"VORP\": 0.0, \"pred\": 39}, {\"Player\": \"Jae Crowder\", \"Pos\": \"SF\", \"Age\": 29, \"Tm\": \"TOT\", \"G\": 65, \"MP\": 1875, \"PER\": 12.5, \"TS%\": 0.553, \"3PAr\": 0.7, \"FTr\": 0.222, \"ORB%\": 3.0, \"DRB%\": 18.5, \"TRB%\": 11.0, \"AST%\": 11.5, \"STL%\": 1.8, \"BLK%\": 1.2, \"TOV%\": 10.0, \"USG%\": -0.499175336735599, \"OWS\": 1.6, \"DWS\": 2.2, \"WS\": 3.8, \"WS/48\": 0.098, \"OBPM\": -0.5, \"DBPM\": 0.4, \"BPM\": 0.4028912024326619, \"VORP\": 0.9, \"pred\": 29}, {\"Player\": \"Jae Crowder\", \"Pos\": \"SF\", \"Age\": 29, \"Tm\": \"MEM\", \"G\": 45, \"MP\": 1322, \"PER\": 11.0, \"TS%\": 0.507, \"3PAr\": 0.667, \"FTr\": 0.238, \"ORB%\": 3.2, \"DRB%\": 18.5, \"TRB%\": 11.0, \"AST%\": 12.2, \"STL%\": 1.7, \"BLK%\": 0.9, \"TOV%\": 10.9, \"USG%\": -0.4814197283750442, \"OWS\": 0.5, \"DWS\": 1.4, \"WS\": 1.9, \"WS/48\": 0.069, \"OBPM\": -1.4, \"DBPM\": 0.2, \"BPM\": 0.1382998689201627, \"VORP\": 0.3, \"pred\": 29}, {\"Player\": \"Jae Crowder\", \"Pos\": \"SF\", \"Age\": 29, \"Tm\": \"MIA\", \"G\": 20, \"MP\": 553, \"PER\": 16.3, \"TS%\": 0.669, \"3PAr\": 0.78, \"FTr\": 0.183, \"ORB%\": 2.5, \"DRB%\": 18.5, \"TRB%\": 10.8, \"AST%\": 9.7, \"STL%\": 2.2, \"BLK%\": 1.8, \"TOV%\": 7.8, \"USG%\": -0.5346865534567086, \"OWS\": 1.2, \"DWS\": 0.8, \"WS\": 1.9, \"WS/48\": 0.169, \"OBPM\": 1.7, \"DBPM\": 0.8, \"BPM\": 1.028288899825842, \"VORP\": 0.6, \"pred\": 21}, {\"Player\": \"Jarrett Culver\", \"Pos\": \"SG\", \"Age\": 20, \"Tm\": \"MIN\", \"G\": 63, \"MP\": 1506, \"PER\": 9.6, \"TS%\": 0.467, \"3PAr\": 0.388, \"FTr\": 0.206, \"ORB%\": 4.7, \"DRB%\": 10.3, \"TRB%\": 7.4, \"AST%\": 10.8, \"STL%\": 1.8, \"BLK%\": 2.1, \"TOV%\": 11.5, \"USG%\": 0.15778217260493002, \"OWS\": -1.2, \"DWS\": 1.1, \"WS\": -0.1, \"WS/48\": -0.004, \"OBPM\": -3.3, \"DBPM\": -0.7, \"BPM\": -0.5352053436571083, \"VORP\": -0.8, \"pred\": 20}, {\"Player\": \"Seth Curry\", \"Pos\": \"SG\", \"Age\": 29, \"Tm\": \"DAL\", \"G\": 64, \"MP\": 1576, \"PER\": 15.5, \"TS%\": 0.643, \"3PAr\": 0.559, \"FTr\": 0.169, \"ORB%\": 1.8, \"DRB%\": 7.8, \"TRB%\": 4.8, \"AST%\": 11.6, \"STL%\": 1.2, \"BLK%\": 0.5, \"TOV%\": 9.1, \"USG%\": 0.015737305720491156, \"OWS\": 3.5, \"DWS\": 0.8, \"WS\": 4.3, \"WS/48\": 0.13, \"OBPM\": 1.7, \"DBPM\": -0.9, \"BPM\": 0.6193750207610704, \"VORP\": 1.2, \"pred\": 29}, {\"Player\": \"Stephen Curry\", \"Pos\": \"PG\", \"Age\": 31, \"Tm\": \"GSW\", \"G\": 5, \"MP\": 139, \"PER\": 21.7, \"TS%\": 0.557, \"3PAr\": 0.598, \"FTr\": 0.317, \"ORB%\": 3.0, \"DRB%\": 17.8, \"TRB%\": 10.1, \"AST%\": 42.3, \"STL%\": 1.7, \"BLK%\": 1.3, \"TOV%\": 14.6, \"USG%\": 2.7145897765248277, \"OWS\": 0.2, \"DWS\": 0.1, \"WS\": 0.3, \"WS/48\": 0.103, \"OBPM\": 4.5, \"DBPM\": -0.6, \"BPM\": 1.3650415061144776, \"VORP\": 0.2, \"pred\": 31}, {\"Player\": \"Troy Daniels\", \"Pos\": \"SG\", \"Age\": 28, \"Tm\": \"TOT\", \"G\": 47, \"MP\": 532, \"PER\": 8.4, \"TS%\": 0.518, \"3PAr\": 0.71, \"FTr\": 0.086, \"ORB%\": 2.5, \"DRB%\": 8.2, \"TRB%\": 5.4, \"AST%\": 4.3, \"STL%\": 1.0, \"BLK%\": 0.5, \"TOV%\": 5.9, \"USG%\": -0.35713046985116015, \"OWS\": 0.1, \"DWS\": 0.5, \"WS\": 0.6, \"WS/48\": 0.056, \"OBPM\": -1.7, \"DBPM\": -1.2, \"BPM\": -0.2706140101446089, \"VORP\": -0.1, \"pred\": 24}, {\"Player\": \"Troy Daniels\", \"Pos\": \"SG\", \"Age\": 28, \"Tm\": \"LAL\", \"G\": 41, \"MP\": 456, \"PER\": 9.0, \"TS%\": 0.527, \"3PAr\": 0.709, \"FTr\": 0.101, \"ORB%\": 2.9, \"DRB%\": 8.1, \"TRB%\": 5.5, \"AST%\": 4.1, \"STL%\": 0.8, \"BLK%\": 0.6, \"TOV%\": 5.2, \"USG%\": -0.39264168657226967, \"OWS\": 0.2, \"DWS\": 0.4, \"WS\": 0.7, \"WS/48\": 0.069, \"OBPM\": -1.2, \"DBPM\": -1.1, \"BPM\": -0.10223770700029125, \"VORP\": 0.0, \"pred\": 28}, {\"Player\": \"Troy Daniels\", \"Pos\": \"SG\", \"Age\": 28, \"Tm\": \"DEN\", \"G\": 6, \"MP\": 76, \"PER\": 5.3, \"TS%\": 0.464, \"3PAr\": 0.714, \"FTr\": 0.0, \"ORB%\": 0.0, \"DRB%\": 8.8, \"TRB%\": 4.4, \"AST%\": 5.4, \"STL%\": 2.0, \"BLK%\": 0.0, \"TOV%\": 9.7, \"USG%\": -0.10855195280339261, \"OWS\": -0.1, \"DWS\": 0.1, \"WS\": 0.0, \"WS/48\": -0.025, \"OBPM\": -4.8, \"DBPM\": -2.4, \"BPM\": -1.3049255866025606, \"VORP\": -0.1, \"pred\": 22}, {\"Player\": \"Anthony Davis\", \"Pos\": \"PF\", \"Age\": 26, \"Tm\": \"LAL\", \"G\": 62, \"MP\": 2131, \"PER\": 27.4, \"TS%\": 0.61, \"3PAr\": 0.199, \"FTr\": 0.479, \"ORB%\": 7.4, \"DRB%\": 22.1, \"TRB%\": 14.8, \"AST%\": 15.1, \"STL%\": 2.0, \"BLK%\": 6.0, \"TOV%\": 10.4, \"USG%\": 1.9510986170209692, \"OWS\": 6.7, \"DWS\": 4.4, \"WS\": 11.1, \"WS/48\": 0.25, \"OBPM\": 5.4, \"DBPM\": 2.6, \"BPM\": 2.3512455673883386, \"VORP\": 5.4, \"pred\": 26}, {\"Player\": \"Ed Davis\", \"Pos\": \"C\", \"Age\": 30, \"Tm\": \"UTA\", \"G\": 28, \"MP\": 303, \"PER\": 9.5, \"TS%\": 0.489, \"3PAr\": 0.0, \"FTr\": 0.304, \"ORB%\": 13.2, \"DRB%\": 24.6, \"TRB%\": 19.1, \"AST%\": 5.2, \"STL%\": 1.8, \"BLK%\": 2.5, \"TOV%\": 20.0, \"USG%\": -1.5822674467294442, \"OWS\": 0.2, \"DWS\": 0.5, \"WS\": 0.6, \"WS/48\": 0.102, \"OBPM\": -4.6, \"DBPM\": 1.5, \"BPM\": -0.3427752829207451, \"VORP\": -0.1, \"pred\": 30}, {\"Player\": \"Terence Davis\", \"Pos\": \"SG\", \"Age\": 22, \"Tm\": \"TOR\", \"G\": 72, \"MP\": 1209, \"PER\": 13.8, \"TS%\": 0.588, \"3PAr\": 0.555, \"FTr\": 0.135, \"ORB%\": 4.5, \"DRB%\": 16.0, \"TRB%\": 10.3, \"AST%\": 14.2, \"STL%\": 1.5, \"BLK%\": 1.1, \"TOV%\": 14.1, \"USG%\": 0.12227095588382046, \"OWS\": 1.2, \"DWS\": 1.9, \"WS\": 3.1, \"WS/48\": 0.122, \"OBPM\": 0.1, \"DBPM\": 0.7, \"BPM\": 0.6193750207610704, \"VORP\": 0.8, \"pred\": 22}, {\"Player\": \"Dewayne Dedmon\", \"Pos\": \"C\", \"Age\": 30, \"Tm\": \"TOT\", \"G\": 44, \"MP\": 774, \"PER\": 9.4, \"TS%\": 0.473, \"3PAr\": 0.42, \"FTr\": 0.141, \"ORB%\": 8.5, \"DRB%\": 27.6, \"TRB%\": 17.8, \"AST%\": 4.0, \"STL%\": 1.5, \"BLK%\": 4.8, \"TOV%\": 17.4, \"USG%\": -0.03752951936117286, \"OWS\": -1.0, \"DWS\": 1.0, \"WS\": 0.1, \"WS/48\": 0.005, \"OBPM\": -5.8, \"DBPM\": 0.0, \"BPM\": -0.9681729803139252, \"VORP\": -0.7, \"pred\": 30}, {\"Player\": \"Dewayne Dedmon\", \"Pos\": \"C\", \"Age\": 30, \"Tm\": \"SAC\", \"G\": 34, \"MP\": 541, \"PER\": 8.5, \"TS%\": 0.477, \"3PAr\": 0.415, \"FTr\": 0.164, \"ORB%\": 9.3, \"DRB%\": 25.8, \"TRB%\": 17.4, \"AST%\": 3.9, \"STL%\": 1.3, \"BLK%\": 4.6, \"TOV%\": 20.4, \"USG%\": 0.03349291408104625, \"OWS\": -0.8, \"DWS\": 0.7, \"WS\": -0.1, \"WS/48\": -0.007, \"OBPM\": -6.3, \"DBPM\": -0.1, \"BPM\": -1.1124955258661977, \"VORP\": -0.6, \"pred\": 30}, {\"Player\": \"Dewayne Dedmon\", \"Pos\": \"C\", \"Age\": 30, \"Tm\": \"ATL\", \"G\": 10, \"MP\": 233, \"PER\": 11.4, \"TS%\": 0.463, \"3PAr\": 0.429, \"FTr\": 0.095, \"ORB%\": 6.4, \"DRB%\": 31.8, \"TRB%\": 18.9, \"AST%\": 4.3, \"STL%\": 2.0, \"BLK%\": 5.4, \"TOV%\": 10.3, \"USG%\": -0.16181877788505725, \"OWS\": -0.2, \"DWS\": 0.3, \"WS\": 0.2, \"WS/48\": 0.032, \"OBPM\": -4.6, \"DBPM\": 0.1, \"BPM\": -0.6554741316173351, \"VORP\": -0.1, \"pred\": 30}, {\"Player\": \"Matthew Dellavedova\", \"Pos\": \"PG\", \"Age\": 29, \"Tm\": \"CLE\", \"G\": 57, \"MP\": 821, \"PER\": 8.1, \"TS%\": 0.463, \"3PAr\": 0.52, \"FTr\": 0.211, \"ORB%\": 2.4, \"DRB%\": 7.8, \"TRB%\": 5.1, \"AST%\": 29.0, \"STL%\": 1.2, \"BLK%\": 0.2, \"TOV%\": 23.6, \"USG%\": -0.94306554574947, \"OWS\": 0.1, \"DWS\": 0.1, \"WS\": 0.2, \"WS/48\": 0.011, \"OBPM\": -3.6, \"DBPM\": -1.6, \"BPM\": -0.823850434761653, \"VORP\": -0.7, \"pred\": 29}, {\"Player\": \"DeMar DeRozan\", \"Pos\": \"SF\", \"Age\": 30, \"Tm\": \"SAS\", \"G\": 68, \"MP\": 2316, \"PER\": 21.6, \"TS%\": 0.603, \"3PAr\": 0.033, \"FTr\": 0.43, \"ORB%\": 2.0, \"DRB%\": 15.4, \"TRB%\": 8.7, \"AST%\": 26.1, \"STL%\": 1.4, \"BLK%\": 0.8, \"TOV%\": 11.6, \"USG%\": 1.418430366204324, \"OWS\": 5.9, \"DWS\": 1.3, \"WS\": 7.3, \"WS/48\": 0.151, \"OBPM\": 2.3, \"DBPM\": -0.4, \"BPM\": 0.8839663542735697, \"VORP\": 2.3, \"pred\": 30}, {\"Player\": \"Cheick Diallo\", \"Pos\": \"C\", \"Age\": 23, \"Tm\": \"PHO\", \"G\": 47, \"MP\": 479, \"PER\": 16.5, \"TS%\": 0.688, \"3PAr\": 0.021, \"FTr\": 0.275, \"ORB%\": 6.9, \"DRB%\": 23.7, \"TRB%\": 15.2, \"AST%\": 6.9, \"STL%\": 1.1, \"BLK%\": 2.2, \"TOV%\": 16.7, \"USG%\": -0.23284121132727637, \"OWS\": 0.8, \"DWS\": 0.5, \"WS\": 1.3, \"WS/48\": 0.132, \"OBPM\": -1.1, \"DBPM\": -0.2, \"BPM\": 0.11424611132811728, \"VORP\": 0.1, \"pred\": 23}, {\"Player\": \"Hamidou Diallo\", \"Pos\": \"SF\", \"Age\": 21, \"Tm\": \"OKC\", \"G\": 46, \"MP\": 896, \"PER\": 9.3, \"TS%\": 0.491, \"3PAr\": 0.193, \"FTr\": 0.213, \"ORB%\": 5.6, \"DRB%\": 14.7, \"TRB%\": 10.3, \"AST%\": 5.9, \"STL%\": 2.0, \"BLK%\": 0.9, \"TOV%\": 13.6, \"USG%\": 0.015737305720491156, \"OWS\": -0.7, \"DWS\": 1.1, \"WS\": 0.4, \"WS/48\": 0.022, \"OBPM\": -4.2, \"DBPM\": 0.3, \"BPM\": -0.5111515860650627, \"VORP\": -0.4, \"pred\": 21}, {\"Player\": \"Gorgui Dieng\", \"Pos\": \"C\", \"Age\": 30, \"Tm\": \"TOT\", \"G\": 63, \"MP\": 1096, \"PER\": 17.1, \"TS%\": 0.568, \"3PAr\": 0.418, \"FTr\": 0.277, \"ORB%\": 8.5, \"DRB%\": 25.8, \"TRB%\": 17.0, \"AST%\": 9.7, \"STL%\": 2.2, \"BLK%\": 4.5, \"TOV%\": 12.8, \"USG%\": -0.12630756116394706, \"OWS\": 1.3, \"DWS\": 1.7, \"WS\": 2.9, \"WS/48\": 0.129, \"OBPM\": -0.2, \"DBPM\": 1.8, \"BPM\": 0.7877513239053882, \"VORP\": 1.0, \"pred\": 30}, {\"Player\": \"Gorgui Dieng\", \"Pos\": \"C\", \"Age\": 30, \"Tm\": \"MIN\", \"G\": 46, \"MP\": 778, \"PER\": 17.8, \"TS%\": 0.563, \"3PAr\": 0.433, \"FTr\": 0.213, \"ORB%\": 9.5, \"DRB%\": 25.8, \"TRB%\": 17.4, \"AST%\": 11.1, \"STL%\": 2.2, \"BLK%\": 4.5, \"TOV%\": 12.7, \"USG%\": 0.015737305720491156, \"OWS\": 0.9, \"DWS\": 1.1, \"WS\": 2.1, \"WS/48\": 0.129, \"OBPM\": 0.3, \"DBPM\": 1.5, \"BPM\": 0.8599125966815243, \"VORP\": 0.7, \"pred\": 29}, {\"Player\": \"Gorgui Dieng\", \"Pos\": \"C\", \"Age\": 30, \"Tm\": \"MEM\", \"G\": 17, \"MP\": 318, \"PER\": 15.5, \"TS%\": 0.583, \"3PAr\": 0.368, \"FTr\": 0.483, \"ORB%\": 6.1, \"DRB%\": 26.0, \"TRB%\": 16.2, \"AST%\": 6.3, \"STL%\": 2.1, \"BLK%\": 4.7, \"TOV%\": 13.2, \"USG%\": -0.42815290329337957, \"OWS\": 0.3, \"DWS\": 0.6, \"WS\": 0.9, \"WS/48\": 0.13, \"OBPM\": -1.5, \"DBPM\": 2.5, \"BPM\": 0.6674825359451612, \"VORP\": 0.2, \"pred\": 30}, {\"Player\": \"Spencer Dinwiddie\", \"Pos\": \"SG\", \"Age\": 26, \"Tm\": \"BRK\", \"G\": 64, \"MP\": 1994, \"PER\": 17.8, \"TS%\": 0.541, \"3PAr\": 0.392, \"FTr\": 0.437, \"ORB%\": 1.7, \"DRB%\": 9.6, \"TRB%\": 5.7, \"AST%\": 35.0, \"STL%\": 0.9, \"BLK%\": 0.9, \"TOV%\": 12.5, \"USG%\": 1.9333430086604142, \"OWS\": 3.2, \"DWS\": 1.6, \"WS\": 4.8, \"WS/48\": 0.116, \"OBPM\": 2.7, \"DBPM\": -0.8, \"BPM\": 0.8599125966815243, \"VORP\": 1.9, \"pred\": 26}, {\"Player\": \"Donte DiVincenzo\", \"Pos\": \"SG\", \"Age\": 23, \"Tm\": \"MIL\", \"G\": 66, \"MP\": 1520, \"PER\": 14.1, \"TS%\": 0.557, \"3PAr\": 0.484, \"FTr\": 0.169, \"ORB%\": 4.6, \"DRB%\": 15.5, \"TRB%\": 10.3, \"AST%\": 13.6, \"STL%\": 2.6, \"BLK%\": 1.2, \"TOV%\": 14.1, \"USG%\": -0.17957438624561173, \"OWS\": 1.0, \"DWS\": 3.2, \"WS\": 4.3, \"WS/48\": 0.135, \"OBPM\": -1.1, \"DBPM\": 2.4, \"BPM\": 0.7396438087212974, \"VORP\": 1.3, \"pred\": 23}, {\"Player\": \"Luka Don\\u010di\\u0107\", \"Pos\": \"PG\", \"Age\": 20, \"Tm\": \"DAL\", \"G\": 61, \"MP\": 2047, \"PER\": 27.6, \"TS%\": 0.585, \"3PAr\": 0.431, \"FTr\": 0.448, \"ORB%\": 4.1, \"DRB%\": 25.0, \"TRB%\": 14.7, \"AST%\": 45.7, \"STL%\": 1.5, \"BLK%\": 0.6, \"TOV%\": 14.8, \"USG%\": 3.2827692440625817, \"OWS\": 6.5, \"DWS\": 2.3, \"WS\": 8.8, \"WS/48\": 0.207, \"OBPM\": 7.4, \"DBPM\": 1.0, \"BPM\": 2.44746059775652, \"VORP\": 5.4, \"pred\": 30}, {\"Player\": \"Luguentz Dort\", \"Pos\": \"SG\", \"Age\": 20, \"Tm\": \"OKC\", \"G\": 36, \"MP\": 820, \"PER\": 7.6, \"TS%\": 0.506, \"3PAr\": 0.463, \"FTr\": 0.243, \"ORB%\": 3.3, \"DRB%\": 7.5, \"TRB%\": 5.5, \"AST%\": 4.6, \"STL%\": 1.8, \"BLK%\": 0.4, \"TOV%\": 8.4, \"USG%\": -0.7477538537833668, \"OWS\": 0.1, \"DWS\": 0.8, \"WS\": 0.8, \"WS/48\": 0.049, \"OBPM\": -4.1, \"DBPM\": 0.4, \"BPM\": -0.46304407088097205, \"VORP\": -0.4, \"pred\": 20}, {\"Player\": \"Damyean Dotson\", \"Pos\": \"SG\", \"Age\": 25, \"Tm\": \"NYK\", \"G\": 48, \"MP\": 836, \"PER\": 10.9, \"TS%\": 0.527, \"3PAr\": 0.562, \"FTr\": 0.114, \"ORB%\": 1.2, \"DRB%\": 10.6, \"TRB%\": 5.8, \"AST%\": 10.0, \"STL%\": 1.3, \"BLK%\": 0.5, \"TOV%\": 6.5, \"USG%\": -0.3216192531300506, \"OWS\": 0.6, \"DWS\": 0.4, \"WS\": 0.9, \"WS/48\": 0.053, \"OBPM\": -0.9, \"DBPM\": -0.5, \"BPM\": 0.06613859614402652, \"VORP\": 0.1, \"pred\": 30}, {\"Player\": \"Sekou Doumbouya\", \"Pos\": \"SF\", \"Age\": 19, \"Tm\": \"DET\", \"G\": 38, \"MP\": 754, \"PER\": 6.2, \"TS%\": 0.474, \"3PAr\": 0.415, \"FTr\": 0.195, \"ORB%\": 3.0, \"DRB%\": 14.9, \"TRB%\": 8.9, \"AST%\": 3.6, \"STL%\": 1.3, \"BLK%\": 0.9, \"TOV%\": 12.0, \"USG%\": -0.2505968196878315, \"OWS\": -0.8, \"DWS\": 0.5, \"WS\": -0.3, \"WS/48\": -0.02, \"OBPM\": -5.3, \"DBPM\": -1.4, \"BPM\": -1.1846567986423338, \"VORP\": -0.9, \"pred\": 20}, {\"Player\": \"PJ Dozier\", \"Pos\": \"PG\", \"Age\": 23, \"Tm\": \"DEN\", \"G\": 29, \"MP\": 412, \"PER\": 11.6, \"TS%\": 0.495, \"3PAr\": 0.312, \"FTr\": 0.185, \"ORB%\": 2.7, \"DRB%\": 12.2, \"TRB%\": 7.5, \"AST%\": 21.6, \"STL%\": 1.7, \"BLK%\": 1.3, \"TOV%\": 13.7, \"USG%\": 0.44187190637380774, \"OWS\": 0.0, \"DWS\": 0.4, \"WS\": 0.4, \"WS/48\": 0.044, \"OBPM\": -2.6, \"DBPM\": -1.3, \"BPM\": -0.5111515860650627, \"VORP\": -0.2, \"pred\": 23}, {\"Player\": \"Goran Dragi\\u0107\", \"Pos\": \"PG\", \"Age\": 33, \"Tm\": \"MIA\", \"G\": 59, \"MP\": 1663, \"PER\": 16.3, \"TS%\": 0.573, \"3PAr\": 0.467, \"FTr\": 0.34, \"ORB%\": 2.0, \"DRB%\": 10.2, \"TRB%\": 6.3, \"AST%\": 29.2, \"STL%\": 1.2, \"BLK%\": 0.6, \"TOV%\": 14.8, \"USG%\": 1.3474079327621042, \"OWS\": 2.2, \"DWS\": 1.3, \"WS\": 3.5, \"WS/48\": 0.102, \"OBPM\": 1.4, \"DBPM\": -1.6, \"BPM\": 0.4028912024326619, \"VORP\": 0.8, \"pred\": 33}, {\"Player\": \"Andre Drummond\", \"Pos\": \"C\", \"Age\": 26, \"Tm\": \"TOT\", \"G\": 57, \"MP\": 1879, \"PER\": 22.0, \"TS%\": 0.553, \"3PAr\": 0.045, \"FTr\": 0.375, \"ORB%\": 14.9, \"DRB%\": 37.5, \"TRB%\": 26.0, \"AST%\": 13.6, \"STL%\": 2.8, \"BLK%\": 4.2, \"TOV%\": 18.2, \"USG%\": 1.3474079327621042, \"OWS\": 0.6, \"DWS\": 3.6, \"WS\": 4.2, \"WS/48\": 0.108, \"OBPM\": -0.1, \"DBPM\": 1.1, \"BPM\": 0.6434287783531158, \"VORP\": 1.4, \"pred\": 26}, {\"Player\": \"Andre Drummond\", \"Pos\": \"C\", \"Age\": 26, \"Tm\": \"DET\", \"G\": 49, \"MP\": 1654, \"PER\": 22.1, \"TS%\": 0.55, \"3PAr\": 0.031, \"FTr\": 0.376, \"ORB%\": 15.3, \"DRB%\": 38.2, \"TRB%\": 26.6, \"AST%\": 14.0, \"STL%\": 2.9, \"BLK%\": 4.2, \"TOV%\": 18.0, \"USG%\": 1.276385499319885, \"OWS\": 0.7, \"DWS\": 3.3, \"WS\": 4.0, \"WS/48\": 0.116, \"OBPM\": 0.0, \"DBPM\": 1.2, \"BPM\": 0.6915362935372067, \"VORP\": 1.3, \"pred\": 26}, {\"Player\": \"Andre Drummond\", \"Pos\": \"C\", \"Age\": 26, \"Tm\": \"CLE\", \"G\": 8, \"MP\": 225, \"PER\": 21.1, \"TS%\": 0.573, \"3PAr\": 0.133, \"FTr\": 0.371, \"ORB%\": 11.7, \"DRB%\": 32.4, \"TRB%\": 22.0, \"AST%\": 10.8, \"STL%\": 2.6, \"BLK%\": 4.2, \"TOV%\": 19.2, \"USG%\": 1.8445649668576398, \"OWS\": -0.1, \"DWS\": 0.3, \"WS\": 0.3, \"WS/48\": 0.053, \"OBPM\": -0.9, \"DBPM\": 0.4, \"BPM\": 0.33072992965652576, \"VORP\": 0.1, \"pred\": 26}, {\"Player\": \"Jared Dudley\", \"Pos\": \"SF\", \"Age\": 34, \"Tm\": \"LAL\", \"G\": 45, \"MP\": 364, \"PER\": 7.8, \"TS%\": 0.558, \"3PAr\": 0.7, \"FTr\": 0.033, \"ORB%\": 1.8, \"DRB%\": 13.7, \"TRB%\": 7.8, \"AST%\": 9.5, \"STL%\": 2.0, \"BLK%\": 0.7, \"TOV%\": 11.6, \"USG%\": -1.830845963777212, \"OWS\": 0.3, \"DWS\": 0.5, \"WS\": 0.8, \"WS/48\": 0.102, \"OBPM\": -2.8, \"DBPM\": 2.0, \"BPM\": 0.23451489928834424, \"VORP\": 0.1, \"pred\": 34}, {\"Player\": \"Kris Dunn\", \"Pos\": \"PG\", \"Age\": 25, \"Tm\": \"CHI\", \"G\": 51, \"MP\": 1269, \"PER\": 12.1, \"TS%\": 0.51, \"3PAr\": 0.327, \"FTr\": 0.158, \"ORB%\": 1.9, \"DRB%\": 14.9, \"TRB%\": 8.1, \"AST%\": 19.4, \"STL%\": 3.8, \"BLK%\": 1.3, \"TOV%\": 15.7, \"USG%\": -0.6589758119805926, \"OWS\": 0.3, \"DWS\": 2.0, \"WS\": 2.3, \"WS/48\": 0.085, \"OBPM\": -3.7, \"DBPM\": 3.1, \"BPM\": 0.282622414472435, \"VORP\": 0.4, \"pred\": 25}, {\"Player\": \"Carsen Edwards\", \"Pos\": \"SG\", \"Age\": 21, \"Tm\": \"BOS\", \"G\": 37, \"MP\": 351, \"PER\": 6.9, \"TS%\": 0.444, \"3PAr\": 0.594, \"FTr\": 0.148, \"ORB%\": 1.9, \"DRB%\": 12.4, \"TRB%\": 7.2, \"AST%\": 9.3, \"STL%\": 1.7, \"BLK%\": 1.1, \"TOV%\": 9.9, \"USG%\": 0.015737305720491156, \"OWS\": -0.3, \"DWS\": 0.4, \"WS\": 0.1, \"WS/48\": 0.014, \"OBPM\": -4.4, \"DBPM\": -0.2, \"BPM\": -0.6795278892093805, \"VORP\": -0.2, \"pred\": 21}, {\"Player\": \"Henry Ellenson\", \"Pos\": \"PF\", \"Age\": 23, \"Tm\": \"BRK\", \"G\": 5, \"MP\": 15, \"PER\": -1.3, \"TS%\": 0.143, \"3PAr\": 0.571, \"FTr\": 0.0, \"ORB%\": 14.1, \"DRB%\": 27.0, \"TRB%\": 20.7, \"AST%\": 8.7, \"STL%\": 0.0, \"BLK%\": 0.0, \"TOV%\": 0.0, \"USG%\": 0.21104899768659466, \"OWS\": -0.1, \"DWS\": 0.0, \"WS\": -0.1, \"WS/48\": -0.183, \"OBPM\": -7.8, \"DBPM\": -3.1, \"BPM\": -2.1949146175082404, \"VORP\": 0.0, \"pred\": 23}, {\"Player\": \"Wayne Ellington\", \"Pos\": \"SG\", \"Age\": 32, \"Tm\": \"NYK\", \"G\": 36, \"MP\": 558, \"PER\": 8.5, \"TS%\": 0.509, \"3PAr\": 0.822, \"FTr\": 0.075, \"ORB%\": 0.7, \"DRB%\": 12.0, \"TRB%\": 6.2, \"AST%\": 11.0, \"STL%\": 1.1, \"BLK%\": 0.7, \"TOV%\": 9.1, \"USG%\": -0.5879533785383732, \"OWS\": 0.2, \"DWS\": 0.2, \"WS\": 0.4, \"WS/48\": 0.035, \"OBPM\": -1.9, \"DBPM\": -0.9, \"BPM\": -0.2706140101446089, \"VORP\": -0.1, \"pred\": 32}, {\"Player\": \"Joel Embiid\", \"Pos\": \"C\", \"Age\": 25, \"Tm\": \"PHI\", \"G\": 51, \"MP\": 1506, \"PER\": 25.8, \"TS%\": 0.59, \"3PAr\": 0.215, \"FTr\": 0.543, \"ORB%\": 10.3, \"DRB%\": 33.2, \"TRB%\": 21.7, \"AST%\": 16.9, \"STL%\": 1.4, \"BLK%\": 3.7, \"TOV%\": 13.8, \"USG%\": 2.590300518000943, \"OWS\": 3.3, \"DWS\": 2.7, \"WS\": 6.0, \"WS/48\": 0.192, \"OBPM\": 3.7, \"DBPM\": 1.0, \"BPM\": 1.5574715668508405, \"VORP\": 2.5, \"pred\": 25}, {\"Player\": \"James Ennis\", \"Pos\": \"SF\", \"Age\": 29, \"Tm\": \"TOT\", \"G\": 69, \"MP\": 1265, \"PER\": 11.5, \"TS%\": 0.565, \"3PAr\": 0.471, \"FTr\": 0.273, \"ORB%\": 6.1, \"DRB%\": 15.3, \"TRB%\": 10.6, \"AST%\": 7.0, \"STL%\": 1.3, \"BLK%\": 1.5, \"TOV%\": 12.6, \"USG%\": -0.4636641200144894, \"OWS\": 1.0, \"DWS\": 1.4, \"WS\": 2.4, \"WS/48\": 0.09, \"OBPM\": -2.2, \"DBPM\": -0.4, \"BPM\": -0.19845273736847277, \"VORP\": -0.2, \"pred\": 27}, {\"Player\": \"James Ennis\", \"Pos\": \"SF\", \"Age\": 29, \"Tm\": \"PHI\", \"G\": 49, \"MP\": 776, \"PER\": 12.3, \"TS%\": 0.564, \"3PAr\": 0.469, \"FTr\": 0.27, \"ORB%\": 6.8, \"DRB%\": 14.5, \"TRB%\": 10.7, \"AST%\": 7.3, \"STL%\": 1.4, \"BLK%\": 1.5, \"TOV%\": 10.9, \"USG%\": -0.4636641200144894, \"OWS\": 0.9, \"DWS\": 0.9, \"WS\": 1.7, \"WS/48\": 0.106, \"OBPM\": -1.5, \"DBPM\": 0.0, \"BPM\": 0.06613859614402652, \"VORP\": 0.1, \"pred\": 29}, {\"Player\": \"James Ennis\", \"Pos\": \"SF\", \"Age\": 29, \"Tm\": \"ORL\", \"G\": 20, \"MP\": 489, \"PER\": 10.3, \"TS%\": 0.566, \"3PAr\": 0.474, \"FTr\": 0.278, \"ORB%\": 4.9, \"DRB%\": 16.4, \"TRB%\": 10.5, \"AST%\": 6.5, \"STL%\": 1.2, \"BLK%\": 1.5, \"TOV%\": 15.3, \"USG%\": -0.4814197283750442, \"OWS\": 0.2, \"DWS\": 0.5, \"WS\": 0.7, \"WS/48\": 0.064, \"OBPM\": -3.3, \"DBPM\": -1.1, \"BPM\": -0.6314203740252899, \"VORP\": -0.3, \"pred\": 29}, {\"Player\": \"Drew Eubanks\", \"Pos\": \"PF\", \"Age\": 22, \"Tm\": \"SAS\", \"G\": 22, \"MP\": 272, \"PER\": 17.3, \"TS%\": 0.682, \"3PAr\": 0.015, \"FTr\": 0.388, \"ORB%\": 11.1, \"DRB%\": 22.6, \"TRB%\": 16.8, \"AST%\": 7.7, \"STL%\": 0.9, \"BLK%\": 5.5, \"TOV%\": 21.1, \"USG%\": -0.44590851165393436, \"OWS\": 0.5, \"DWS\": 0.3, \"WS\": 0.8, \"WS/48\": 0.134, \"OBPM\": -1.4, \"DBPM\": -0.3, \"BPM\": 0.01803108095993575, \"VORP\": 0.0, \"pred\": 22}, {\"Player\": \"Jacob Evans\", \"Pos\": \"SG\", \"Age\": 22, \"Tm\": \"TOT\", \"G\": 29, \"MP\": 418, \"PER\": 5.5, \"TS%\": 0.436, \"3PAr\": 0.291, \"FTr\": 0.216, \"ORB%\": 2.3, \"DRB%\": 8.6, \"TRB%\": 5.3, \"AST%\": 10.8, \"STL%\": 1.3, \"BLK%\": 2.6, \"TOV%\": 14.6, \"USG%\": -0.14406316952450215, \"OWS\": -0.7, \"DWS\": 0.2, \"WS\": -0.5, \"WS/48\": -0.056, \"OBPM\": -5.8, \"DBPM\": -1.3, \"BPM\": -1.2808718290105152, \"VORP\": -0.5, \"pred\": 22}, {\"Player\": \"Jacob Evans\", \"Pos\": \"SG\", \"Age\": 22, \"Tm\": \"GSW\", \"G\": 27, \"MP\": 414, \"PER\": 5.6, \"TS%\": 0.439, \"3PAr\": 0.286, \"FTr\": 0.218, \"ORB%\": 2.3, \"DRB%\": 8.7, \"TRB%\": 5.4, \"AST%\": 10.9, \"STL%\": 1.3, \"BLK%\": 2.6, \"TOV%\": 14.6, \"USG%\": -0.12630756116394706, \"OWS\": -0.6, \"DWS\": 0.2, \"WS\": -0.5, \"WS/48\": -0.054, \"OBPM\": -5.7, \"DBPM\": -1.2, \"BPM\": -1.2568180714184698, \"VORP\": -0.5, \"pred\": 22}, {\"Player\": \"Jacob Evans\", \"Pos\": \"SG\", \"Age\": 22, \"Tm\": \"MIN\", \"G\": 2, \"MP\": 4, \"PER\": -9.6, \"TS%\": 0.0, \"3PAr\": 1.0, \"FTr\": 0.0, \"ORB%\": 0.0, \"DRB%\": 0.0, \"TRB%\": 0.0, \"AST%\": 0.0, \"STL%\": 0.0, \"BLK%\": 0.0, \"TOV%\": 0.0, \"USG%\": -1.4224669714844507, \"OWS\": 0.0, \"DWS\": 0.0, \"WS\": 0.0, \"WS/48\": -0.263, \"OBPM\": -10.5, \"DBPM\": -5.5, \"BPM\": -3.4457100122946005, \"VORP\": 0.0, \"pred\": 22}, {\"Player\": \"Dante Exum\", \"Pos\": \"SG\", \"Age\": 24, \"Tm\": \"TOT\", \"G\": 35, \"MP\": 485, \"PER\": 10.3, \"TS%\": 0.576, \"3PAr\": 0.361, \"FTr\": 0.361, \"ORB%\": 2.7, \"DRB%\": 12.6, \"TRB%\": 7.7, \"AST%\": 11.5, \"STL%\": 1.3, \"BLK%\": 1.4, \"TOV%\": 18.4, \"USG%\": -0.5879533785383732, \"OWS\": 0.2, \"DWS\": 0.2, \"WS\": 0.4, \"WS/48\": 0.043, \"OBPM\": -2.5, \"DBPM\": -0.4, \"BPM\": -0.2706140101446089, \"VORP\": -0.1, \"pred\": 32}, {\"Player\": \"Dante Exum\", \"Pos\": \"SG\", \"Age\": 24, \"Tm\": \"UTA\", \"G\": 11, \"MP\": 83, \"PER\": 4.8, \"TS%\": 0.503, \"3PAr\": 0.261, \"FTr\": 0.087, \"ORB%\": 4.1, \"DRB%\": 11.5, \"TRB%\": 8.0, \"AST%\": 11.9, \"STL%\": 0.6, \"BLK%\": 2.0, \"TOV%\": 29.5, \"USG%\": -0.09079634444283752, \"OWS\": -0.2, \"DWS\": 0.1, \"WS\": -0.1, \"WS/48\": -0.056, \"OBPM\": -5.2, \"DBPM\": -0.5, \"BPM\": -0.9441192227218799, \"VORP\": -0.1, \"pred\": 24}, {\"Player\": \"Dante Exum\", \"Pos\": \"SG\", \"Age\": 24, \"Tm\": \"CLE\", \"G\": 24, \"MP\": 402, \"PER\": 11.5, \"TS%\": 0.592, \"3PAr\": 0.385, \"FTr\": 0.427, \"ORB%\": 2.5, \"DRB%\": 12.8, \"TRB%\": 7.6, \"AST%\": 11.4, \"STL%\": 1.5, \"BLK%\": 1.3, \"TOV%\": 15.6, \"USG%\": -0.6944870287017022, \"OWS\": 0.4, \"DWS\": 0.2, \"WS\": 0.5, \"WS/48\": 0.063, \"OBPM\": -2.0, \"DBPM\": -0.4, \"BPM\": -0.15034522218438195, \"VORP\": 0.0, \"pred\": 24}, {\"Player\": \"Tacko Fall\", \"Pos\": \"C\", \"Age\": 24, \"Tm\": \"BOS\", \"G\": 7, \"MP\": 33, \"PER\": 28.4, \"TS%\": 0.751, \"3PAr\": 0.0, \"FTr\": 0.214, \"ORB%\": 3.3, \"DRB%\": 44.9, \"TRB%\": 24.3, \"AST%\": 5.8, \"STL%\": 1.5, \"BLK%\": 11.2, \"TOV%\": 16.4, \"USG%\": 0.9567845488298978, \"OWS\": 0.1, \"DWS\": 0.1, \"WS\": 0.2, \"WS/48\": 0.223, \"OBPM\": 0.4, \"DBPM\": 6.0, \"BPM\": 1.9904392035076575, \"VORP\": 0.1, \"pred\": 24}, {\"Player\": \"Derrick Favors\", \"Pos\": \"C\", \"Age\": 28, \"Tm\": \"NOP\", \"G\": 51, \"MP\": 1243, \"PER\": 18.5, \"TS%\": 0.62, \"3PAr\": 0.021, \"FTr\": 0.209, \"ORB%\": 13.9, \"DRB%\": 28.9, \"TRB%\": 21.4, \"AST%\": 9.2, \"STL%\": 1.1, \"BLK%\": 3.1, \"TOV%\": 12.9, \"USG%\": -0.7655094621439216, \"OWS\": 2.6, \"DWS\": 1.6, \"WS\": 4.2, \"WS/48\": 0.162, \"OBPM\": 0.7, \"DBPM\": 0.3, \"BPM\": 0.6674825359451612, \"VORP\": 0.9, \"pred\": 28}, {\"Player\": \"Cristiano Fel\\u00edcio\", \"Pos\": \"PF\", \"Age\": 27, \"Tm\": \"CHI\", \"G\": 22, \"MP\": 386, \"PER\": 12.8, \"TS%\": 0.671, \"3PAr\": 0.037, \"FTr\": 0.426, \"ORB%\": 15.0, \"DRB%\": 14.1, \"TRB%\": 14.6, \"AST%\": 5.7, \"STL%\": 1.2, \"BLK%\": 0.5, \"TOV%\": 21.9, \"USG%\": -1.635534271811109, \"OWS\": 0.7, \"DWS\": 0.3, \"WS\": 1.0, \"WS/48\": 0.126, \"OBPM\": -1.4, \"DBPM\": -1.6, \"BPM\": -0.2946677677366543, \"VORP\": -0.1, \"pred\": 27}, {\"Player\": \"Terrance Ferguson\", \"Pos\": \"SF\", \"Age\": 21, \"Tm\": \"OKC\", \"G\": 56, \"MP\": 1257, \"PER\": 3.7, \"TS%\": 0.481, \"3PAr\": 0.764, \"FTr\": 0.091, \"ORB%\": 2.1, \"DRB%\": 4.4, \"TRB%\": 3.3, \"AST%\": 5.3, \"STL%\": 1.0, \"BLK%\": 1.2, \"TOV%\": 11.9, \"USG%\": -1.635534271811109, \"OWS\": -0.3, \"DWS\": 0.9, \"WS\": 0.6, \"WS/48\": 0.021, \"OBPM\": -4.8, \"DBPM\": 0.3, \"BPM\": -0.6554741316173351, \"VORP\": -0.8, \"pred\": 21}, {\"Player\": \"Bruno Fernando\", \"Pos\": \"C\", \"Age\": 21, \"Tm\": \"ATL\", \"G\": 56, \"MP\": 713, \"PER\": 11.9, \"TS%\": 0.542, \"3PAr\": 0.186, \"FTr\": 0.256, \"ORB%\": 10.0, \"DRB%\": 20.0, \"TRB%\": 15.0, \"AST%\": 9.9, \"STL%\": 1.2, \"BLK%\": 2.0, \"TOV%\": 15.9, \"USG%\": -0.5346865534567086, \"OWS\": 0.4, \"DWS\": 0.4, \"WS\": 0.8, \"WS/48\": 0.055, \"OBPM\": -3.2, \"DBPM\": -0.9, \"BPM\": -0.5592591012491536, \"VORP\": -0.4, \"pred\": 21}, {\"Player\": \"Yogi Ferrell\", \"Pos\": \"PG\", \"Age\": 26, \"Tm\": \"SAC\", \"G\": 50, \"MP\": 530, \"PER\": 12.2, \"TS%\": 0.528, \"3PAr\": 0.42, \"FTr\": 0.223, \"ORB%\": 1.2, \"DRB%\": 9.4, \"TRB%\": 5.2, \"AST%\": 18.8, \"STL%\": 1.6, \"BLK%\": 0.7, \"TOV%\": 11.9, \"USG%\": 0.15778217260493002, \"OWS\": 0.3, \"DWS\": 0.3, \"WS\": 0.7, \"WS/48\": 0.06, \"OBPM\": -1.5, \"DBPM\": -0.3, \"BPM\": -0.00602267663210966, \"VORP\": 0.0, \"pred\": 32}, {\"Player\": \"Dorian Finney-Smith\", \"Pos\": \"PF\", \"Age\": 26, \"Tm\": \"DAL\", \"G\": 71, \"MP\": 2120, \"PER\": 12.3, \"TS%\": 0.595, \"3PAr\": 0.58, \"FTr\": 0.207, \"ORB%\": 7.3, \"DRB%\": 12.7, \"TRB%\": 10.0, \"AST%\": 7.2, \"STL%\": 1.0, \"BLK%\": 1.6, \"TOV%\": 10.8, \"USG%\": -0.9608211541100248, \"OWS\": 3.3, \"DWS\": 1.5, \"WS\": 4.9, \"WS/48\": 0.11, \"OBPM\": 0.1, \"DBPM\": -0.3, \"BPM\": 0.3788374448406166, \"VORP\": 0.9, \"pred\": 26}, {\"Player\": \"Bryn Forbes\", \"Pos\": \"SG\", \"Age\": 26, \"Tm\": \"SAS\", \"G\": 63, \"MP\": 1579, \"PER\": 11.1, \"TS%\": 0.57, \"3PAr\": 0.656, \"FTr\": 0.155, \"ORB%\": 0.8, \"DRB%\": 7.8, \"TRB%\": 4.3, \"AST%\": 9.5, \"STL%\": 1.0, \"BLK%\": 0.0, \"TOV%\": 8.4, \"USG%\": 0.03349291408104625, \"OWS\": 1.3, \"DWS\": 0.3, \"WS\": 1.5, \"WS/48\": 0.047, \"OBPM\": -0.6, \"DBPM\": -2.1, \"BPM\": -0.2225064949605182, \"VORP\": -0.3, \"pred\": 26}, {\"Player\": \"Evan Fournier\", \"Pos\": \"SG\", \"Age\": 27, \"Tm\": \"ORL\", \"G\": 66, \"MP\": 2076, \"PER\": 16.4, \"TS%\": 0.595, \"3PAr\": 0.467, \"FTr\": 0.237, \"ORB%\": 0.9, \"DRB%\": 8.2, \"TRB%\": 4.4, \"AST%\": 16.6, \"STL%\": 1.7, \"BLK%\": 0.7, \"TOV%\": 10.9, \"USG%\": 0.9922957655510074, \"OWS\": 2.9, \"DWS\": 1.7, \"WS\": 4.6, \"WS/48\": 0.106, \"OBPM\": 1.4, \"DBPM\": -0.4, \"BPM\": 0.6674825359451612, \"VORP\": 1.6, \"pred\": 27}, {\"Player\": \"De'Aaron Fox\", \"Pos\": \"PG\", \"Age\": 22, \"Tm\": \"SAC\", \"G\": 51, \"MP\": 1634, \"PER\": 20.6, \"TS%\": 0.558, \"3PAr\": 0.227, \"FTr\": 0.42, \"ORB%\": 2.4, \"DRB%\": 11.4, \"TRB%\": 6.8, \"AST%\": 35.3, \"STL%\": 2.2, \"BLK%\": 1.5, \"TOV%\": 14.1, \"USG%\": 2.0398766588237436, \"OWS\": 2.6, \"DWS\": 1.4, \"WS\": 4.0, \"WS/48\": 0.118, \"OBPM\": 2.3, \"DBPM\": -0.5, \"BPM\": 0.8599125966815243, \"VORP\": 1.6, \"pred\": 22}, {\"Player\": \"Melvin Frazier\", \"Pos\": \"SG\", \"Age\": 23, \"Tm\": \"ORL\", \"G\": 19, \"MP\": 126, \"PER\": 9.8, \"TS%\": 0.559, \"3PAr\": 0.471, \"FTr\": 0.118, \"ORB%\": 1.7, \"DRB%\": 7.1, \"TRB%\": 4.3, \"AST%\": 3.4, \"STL%\": 3.5, \"BLK%\": 1.4, \"TOV%\": 12.3, \"USG%\": -0.7655094621439216, \"OWS\": 0.0, \"DWS\": 0.2, \"WS\": 0.2, \"WS/48\": 0.057, \"OBPM\": -3.5, \"DBPM\": 1.2, \"BPM\": -0.12629146459233656, \"VORP\": 0.0, \"pred\": 23}, {\"Player\": \"Michael Frazier\", \"Pos\": \"SG\", \"Age\": 25, \"Tm\": \"HOU\", \"G\": 13, \"MP\": 145, \"PER\": -0.9, \"TS%\": 0.384, \"3PAr\": 0.793, \"FTr\": 0.483, \"ORB%\": 0.7, \"DRB%\": 6.6, \"TRB%\": 3.6, \"AST%\": 1.7, \"STL%\": 0.6, \"BLK%\": 0.0, \"TOV%\": 12.5, \"USG%\": -1.2093996711577926, \"OWS\": -0.2, \"DWS\": 0.1, \"WS\": -0.2, \"WS/48\": -0.06, \"OBPM\": -8.9, \"DBPM\": -2.1, \"BPM\": -2.2189683751002853, \"VORP\": -0.3, \"pred\": 27}, {\"Player\": \"Tim Frazier\", \"Pos\": \"PG\", \"Age\": 29, \"Tm\": \"DET\", \"G\": 27, \"MP\": 355, \"PER\": 9.8, \"TS%\": 0.464, \"3PAr\": 0.319, \"FTr\": 0.255, \"ORB%\": 2.8, \"DRB%\": 7.8, \"TRB%\": 5.3, \"AST%\": 36.5, \"STL%\": 1.9, \"BLK%\": 0.9, \"TOV%\": 25.6, \"USG%\": -0.17957438624561173, \"OWS\": -0.1, \"DWS\": 0.2, \"WS\": 0.1, \"WS/48\": 0.016, \"OBPM\": -3.0, \"DBPM\": -1.6, \"BPM\": -0.6795278892093805, \"VORP\": -0.2, \"pred\": 29}, {\"Player\": \"Markelle Fultz\", \"Pos\": \"PG\", \"Age\": 21, \"Tm\": \"ORL\", \"G\": 72, \"MP\": 1996, \"PER\": 14.3, \"TS%\": 0.517, \"3PAr\": 0.175, \"FTr\": 0.206, \"ORB%\": 2.1, \"DRB%\": 11.0, \"TRB%\": 6.4, \"AST%\": 29.0, \"STL%\": 2.2, \"BLK%\": 0.5, \"TOV%\": 14.9, \"USG%\": 0.5484055565371364, \"OWS\": 0.6, \"DWS\": 2.0, \"WS\": 2.7, \"WS/48\": 0.065, \"OBPM\": -1.8, \"DBPM\": 0.0, \"BPM\": -0.00602267663210966, \"VORP\": 0.1, \"pred\": 28}, {\"Player\": \"Wenyen Gabriel\", \"Pos\": \"PF\", \"Age\": 22, \"Tm\": \"TOT\", \"G\": 30, \"MP\": 235, \"PER\": 9.6, \"TS%\": 0.546, \"3PAr\": 0.417, \"FTr\": 0.458, \"ORB%\": 9.5, \"DRB%\": 13.9, \"TRB%\": 11.7, \"AST%\": 4.4, \"STL%\": 2.2, \"BLK%\": 2.6, \"TOV%\": 21.7, \"USG%\": -0.8720431123072506, \"OWS\": 0.0, \"DWS\": 0.2, \"WS\": 0.2, \"WS/48\": 0.048, \"OBPM\": -3.7, \"DBPM\": -0.1, \"BPM\": -0.4870978284730174, \"VORP\": -0.1, \"pred\": 22}, {\"Player\": \"Wenyen Gabriel\", \"Pos\": \"PF\", \"Age\": 22, \"Tm\": \"SAC\", \"G\": 11, \"MP\": 61, \"PER\": 7.4, \"TS%\": 0.444, \"3PAr\": 0.471, \"FTr\": 0.588, \"ORB%\": 7.2, \"DRB%\": 11.3, \"TRB%\": 9.2, \"AST%\": 6.6, \"STL%\": 2.4, \"BLK%\": 3.1, \"TOV%\": 18.9, \"USG%\": 0.0867597391627109, \"OWS\": -0.1, \"DWS\": 0.1, \"WS\": 0.0, \"WS/48\": -0.029, \"OBPM\": -4.4, \"DBPM\": 0.5, \"BPM\": -0.5352053436571083, \"VORP\": 0.0, \"pred\": 22}, {\"Player\": \"Wenyen Gabriel\", \"Pos\": \"PF\", \"Age\": 22, \"Tm\": \"POR\", \"G\": 19, \"MP\": 174, \"PER\": 10.3, \"TS%\": 0.606, \"3PAr\": 0.387, \"FTr\": 0.387, \"ORB%\": 10.3, \"DRB%\": 14.9, \"TRB%\": 12.6, \"AST%\": 3.6, \"STL%\": 2.2, \"BLK%\": 2.5, \"TOV%\": 23.3, \"USG%\": -1.2093996711577926, \"OWS\": 0.1, \"DWS\": 0.1, \"WS\": 0.3, \"WS/48\": 0.075, \"OBPM\": -3.5, \"DBPM\": -0.3, \"BPM\": -0.4870978284730174, \"VORP\": -0.1, \"pred\": 22}, {\"Player\": \"Daniel Gafford\", \"Pos\": \"C\", \"Age\": 21, \"Tm\": \"CHI\", \"G\": 43, \"MP\": 609, \"PER\": 16.2, \"TS%\": 0.686, \"3PAr\": 0.0, \"FTr\": 0.448, \"ORB%\": 9.0, \"DRB%\": 10.3, \"TRB%\": 9.6, \"AST%\": 5.2, \"STL%\": 1.0, \"BLK%\": 8.7, \"TOV%\": 15.3, \"USG%\": -0.8897987206678054, \"OWS\": 1.1, \"DWS\": 0.8, \"WS\": 1.9, \"WS/48\": 0.146, \"OBPM\": -2.8, \"DBPM\": 1.5, \"BPM\": 0.11424611132811728, \"VORP\": 0.1, \"pred\": 21}, {\"Player\": \"Danilo Gallinari\", \"Pos\": \"PF\", \"Age\": 31, \"Tm\": \"OKC\", \"G\": 62, \"MP\": 1834, \"PER\": 19.5, \"TS%\": 0.612, \"3PAr\": 0.537, \"FTr\": 0.365, \"ORB%\": 2.1, \"DRB%\": 16.8, \"TRB%\": 9.7, \"AST%\": 10.3, \"STL%\": 1.1, \"BLK%\": 0.2, \"TOV%\": 7.4, \"USG%\": 1.1165850240748918, \"OWS\": 4.5, \"DWS\": 1.9, \"WS\": 6.3, \"WS/48\": 0.166, \"OBPM\": 4.1, \"DBPM\": -0.9, \"BPM\": 1.220718960562205, \"VORP\": 2.4, \"pred\": 31}, {\"Player\": \"Langston Galloway\", \"Pos\": \"SG\", \"Age\": 28, \"Tm\": \"DET\", \"G\": 66, \"MP\": 1702, \"PER\": 12.3, \"TS%\": 0.584, \"3PAr\": 0.611, \"FTr\": 0.157, \"ORB%\": 2.2, \"DRB%\": 7.8, \"TRB%\": 5.0, \"AST%\": 8.8, \"STL%\": 1.4, \"BLK%\": 0.5, \"TOV%\": 6.5, \"USG%\": -0.42815290329337957, \"OWS\": 2.4, \"DWS\": 0.7, \"WS\": 3.1, \"WS/48\": 0.087, \"OBPM\": 0.0, \"DBPM\": -0.9, \"BPM\": 0.23451489928834424, \"VORP\": 0.5, \"pred\": 24}, {\"Player\": \"Darius Garland\", \"Pos\": \"PG\", \"Age\": 20, \"Tm\": \"CLE\", \"G\": 59, \"MP\": 1824, \"PER\": 8.5, \"TS%\": 0.498, \"3PAr\": 0.423, \"FTr\": 0.103, \"ORB%\": 1.6, \"DRB%\": 5.2, \"TRB%\": 3.4, \"AST%\": 18.5, \"STL%\": 1.1, \"BLK%\": 0.2, \"TOV%\": 17.1, \"USG%\": 0.4241162980132526, \"OWS\": -1.3, \"DWS\": 0.0, \"WS\": -1.3, \"WS/48\": -0.034, \"OBPM\": -2.7, \"DBPM\": -2.8, \"BPM\": -0.9200654651298343, \"VORP\": -1.7, \"pred\": 20}, {\"Player\": \"Marc Gasol\", \"Pos\": \"C\", \"Age\": 35, \"Tm\": \"TOR\", \"G\": 44, \"MP\": 1161, \"PER\": 11.8, \"TS%\": 0.551, \"3PAr\": 0.53, \"FTr\": 0.176, \"ORB%\": 2.9, \"DRB%\": 21.7, \"TRB%\": 12.5, \"AST%\": 17.3, \"STL%\": 1.4, \"BLK%\": 3.2, \"TOV%\": 16.4, \"USG%\": -0.9075543290283604, \"OWS\": 0.8, \"DWS\": 2.2, \"WS\": 3.0, \"WS/48\": 0.124, \"OBPM\": -1.2, \"DBPM\": 2.8, \"BPM\": 0.8118050814974337, \"VORP\": 1.1, \"pred\": 35}, {\"Player\": \"Rudy Gay\", \"Pos\": \"PF\", \"Age\": 33, \"Tm\": \"SAS\", \"G\": 67, \"MP\": 1461, \"PER\": 15.4, \"TS%\": 0.553, \"3PAr\": 0.369, \"FTr\": 0.228, \"ORB%\": 4.5, \"DRB%\": 22.2, \"TRB%\": 13.4, \"AST%\": 11.3, \"STL%\": 1.1, \"BLK%\": 2.0, \"TOV%\": 11.8, \"USG%\": 0.6549392067004657, \"OWS\": 0.9, \"DWS\": 1.1, \"WS\": 2.1, \"WS/48\": 0.068, \"OBPM\": 0.0, \"DBPM\": -0.9, \"BPM\": 0.23451489928834424, \"VORP\": 0.4, \"pred\": 33}, {\"Player\": \"Paul George\", \"Pos\": \"SF\", \"Age\": 29, \"Tm\": \"LAC\", \"G\": 48, \"MP\": 1419, \"PER\": 21.1, \"TS%\": 0.589, \"3PAr\": 0.487, \"FTr\": 0.277, \"ORB%\": 1.8, \"DRB%\": 17.7, \"TRB%\": 10.0, \"AST%\": 21.1, \"STL%\": 2.3, \"BLK%\": 1.2, \"TOV%\": 12.5, \"USG%\": 2.004365442102634, \"OWS\": 2.5, \"DWS\": 2.3, \"WS\": 4.8, \"WS/48\": 0.161, \"OBPM\": 3.8, \"DBPM\": 1.1, \"BPM\": 1.6055790820349314, \"VORP\": 2.5, \"pred\": 29}, {\"Player\": \"Taj Gibson\", \"Pos\": \"C\", \"Age\": 34, \"Tm\": \"NYK\", \"G\": 62, \"MP\": 1025, \"PER\": 16.1, \"TS%\": 0.61, \"3PAr\": 0.049, \"FTr\": 0.196, \"ORB%\": 11.2, \"DRB%\": 16.7, \"TRB%\": 13.9, \"AST%\": 7.6, \"STL%\": 1.3, \"BLK%\": 2.8, \"TOV%\": 13.1, \"USG%\": -0.6234645952594827, \"OWS\": 1.8, \"DWS\": 0.8, \"WS\": 2.6, \"WS/48\": 0.12, \"OBPM\": -0.8, \"DBPM\": -0.3, \"BPM\": 0.16235362651220805, \"VORP\": 0.2, \"pred\": 34}, {\"Player\": \"Harry Giles\", \"Pos\": \"PF\", \"Age\": 21, \"Tm\": \"SAC\", \"G\": 46, \"MP\": 667, \"PER\": 16.4, \"TS%\": 0.58, \"3PAr\": 0.008, \"FTr\": 0.195, \"ORB%\": 7.1, \"DRB%\": 25.1, \"TRB%\": 15.9, \"AST%\": 14.2, \"STL%\": 1.6, \"BLK%\": 2.6, \"TOV%\": 13.9, \"USG%\": 0.40636068965269817, \"OWS\": 0.8, \"DWS\": 0.8, \"WS\": 1.6, \"WS/48\": 0.112, \"OBPM\": -2.2, \"DBPM\": 0.9, \"BPM\": 0.11424611132811728, \"VORP\": 0.1, \"pred\": 21}, {\"Player\": \"Shai Gilgeous-Alexander\", \"Pos\": \"SG\", \"Age\": 21, \"Tm\": \"OKC\", \"G\": 70, \"MP\": 2428, \"PER\": 17.7, \"TS%\": 0.568, \"3PAr\": 0.247, \"FTr\": 0.352, \"ORB%\": 2.2, \"DRB%\": 16.1, \"TRB%\": 9.4, \"AST%\": 15.2, \"STL%\": 1.6, \"BLK%\": 1.7, \"TOV%\": 10.3, \"USG%\": 0.9567845488298978, \"OWS\": 3.1, \"DWS\": 3.0, \"WS\": 6.1, \"WS/48\": 0.121, \"OBPM\": 1.3, \"DBPM\": 0.4, \"BPM\": 0.8358588390894789, \"VORP\": 2.2, \"pred\": 22}, {\"Player\": \"Rudy Gobert\", \"Pos\": \"C\", \"Age\": 27, \"Tm\": \"UTA\", \"G\": 68, \"MP\": 2333, \"PER\": 21.7, \"TS%\": 0.699, \"3PAr\": 0.0, \"FTr\": 0.724, \"ORB%\": 11.2, \"DRB%\": 31.3, \"TRB%\": 21.6, \"AST%\": 6.5, \"STL%\": 1.1, \"BLK%\": 4.8, \"TOV%\": 15.0, \"USG%\": -0.3748860782117152, \"OWS\": 6.5, \"DWS\": 4.2, \"WS\": 10.7, \"WS/48\": 0.221, \"OBPM\": 1.7, \"DBPM\": 1.9, \"BPM\": 1.2928802333383413, \"VORP\": 3.3, \"pred\": 27}, {\"Player\": \"Brandon Goodwin\", \"Pos\": \"PG\", \"Age\": 24, \"Tm\": \"ATL\", \"G\": 34, \"MP\": 430, \"PER\": 11.6, \"TS%\": 0.507, \"3PAr\": 0.458, \"FTr\": 0.158, \"ORB%\": 2.7, \"DRB%\": 15.5, \"TRB%\": 9.0, \"AST%\": 18.0, \"STL%\": 1.3, \"BLK%\": 0.8, \"TOV%\": 12.5, \"USG%\": 0.7259616401426848, \"OWS\": -0.1, \"DWS\": 0.2, \"WS\": 0.1, \"WS/48\": 0.013, \"OBPM\": -1.6, \"DBPM\": -1.3, \"BPM\": -0.2706140101446089, \"VORP\": -0.1, \"pred\": 24}, {\"Player\": \"Aaron Gordon\", \"Pos\": \"PF\", \"Age\": 24, \"Tm\": \"ORL\", \"G\": 62, \"MP\": 2017, \"PER\": 15.1, \"TS%\": 0.516, \"3PAr\": 0.309, \"FTr\": 0.292, \"ORB%\": 5.5, \"DRB%\": 20.3, \"TRB%\": 12.7, \"AST%\": 17.4, \"STL%\": 1.2, \"BLK%\": 1.7, \"TOV%\": 10.4, \"USG%\": 0.4241162980132526, \"OWS\": 1.4, \"DWS\": 2.3, \"WS\": 3.7, \"WS/48\": 0.087, \"OBPM\": -0.1, \"DBPM\": 0.1, \"BPM\": 0.42694496002470733, \"VORP\": 1.0, \"pred\": 24}, {\"Player\": \"Eric Gordon\", \"Pos\": \"SF\", \"Age\": 31, \"Tm\": \"HOU\", \"G\": 36, \"MP\": 1016, \"PER\": 10.3, \"TS%\": 0.51, \"3PAr\": 0.654, \"FTr\": 0.231, \"ORB%\": 0.9, \"DRB%\": 6.5, \"TRB%\": 3.7, \"AST%\": 7.9, \"STL%\": 1.0, \"BLK%\": 1.1, \"TOV%\": 7.8, \"USG%\": 0.74371724850324, \"OWS\": -0.1, \"DWS\": 0.6, \"WS\": 0.5, \"WS/48\": 0.024, \"OBPM\": -1.8, \"DBPM\": -2.1, \"BPM\": -0.5111515860650627, \"VORP\": -0.5, \"pred\": 21}, {\"Player\": \"Devonte' Graham\", \"Pos\": \"PG\", \"Age\": 24, \"Tm\": \"CHO\", \"G\": 63, \"MP\": 2211, \"PER\": 15.8, \"TS%\": 0.537, \"3PAr\": 0.607, \"FTr\": 0.242, \"ORB%\": 2.0, \"DRB%\": 8.7, \"TRB%\": 5.2, \"AST%\": 35.3, \"STL%\": 1.4, \"BLK%\": 0.6, \"TOV%\": 14.5, \"USG%\": 1.1520962407960014, \"OWS\": 2.4, \"DWS\": 0.9, \"WS\": 3.4, \"WS/48\": 0.073, \"OBPM\": 2.5, \"DBPM\": -2.1, \"BPM\": 0.5472137479849343, \"VORP\": 1.4, \"pred\": 24}, {\"Player\": \"Treveon Graham\", \"Pos\": \"SG\", \"Age\": 26, \"Tm\": \"TOT\", \"G\": 55, \"MP\": 929, \"PER\": 6.6, \"TS%\": 0.456, \"3PAr\": 0.496, \"FTr\": 0.231, \"ORB%\": 5.7, \"DRB%\": 11.7, \"TRB%\": 8.6, \"AST%\": 6.6, \"STL%\": 1.2, \"BLK%\": 0.5, \"TOV%\": 9.8, \"USG%\": -0.9253099373889152, \"OWS\": -0.2, \"DWS\": 0.4, \"WS\": 0.2, \"WS/48\": 0.009, \"OBPM\": -4.5, \"DBPM\": -1.0, \"BPM\": -0.9200654651298343, \"VORP\": -0.8, \"pred\": 26}, {\"Player\": \"Treveon Graham\", \"Pos\": \"SG\", \"Age\": 26, \"Tm\": \"MIN\", \"G\": 33, \"MP\": 663, \"PER\": 6.0, \"TS%\": 0.447, \"3PAr\": 0.474, \"FTr\": 0.211, \"ORB%\": 4.5, \"DRB%\": 11.7, \"TRB%\": 8.0, \"AST%\": 6.1, \"STL%\": 1.2, \"BLK%\": 0.3, \"TOV%\": 9.0, \"USG%\": -0.9253099373889152, \"OWS\": -0.3, \"DWS\": 0.3, \"WS\": 0.1, \"WS/48\": 0.004, \"OBPM\": -5.0, \"DBPM\": -0.8, \"BPM\": -0.9681729803139252, \"VORP\": -0.6, \"pred\": 26}, {\"Player\": \"Treveon Graham\", \"Pos\": \"SG\", \"Age\": 26, \"Tm\": \"ATL\", \"G\": 22, \"MP\": 266, \"PER\": 8.0, \"TS%\": 0.478, \"3PAr\": 0.552, \"FTr\": 0.284, \"ORB%\": 8.8, \"DRB%\": 11.5, \"TRB%\": 10.1, \"AST%\": 7.6, \"STL%\": 1.2, \"BLK%\": 1.3, \"TOV%\": 11.7, \"USG%\": -0.8897987206678054, \"OWS\": 0.0, \"DWS\": 0.1, \"WS\": 0.1, \"WS/48\": 0.022, \"OBPM\": -3.3, \"DBPM\": -1.7, \"BPM\": -0.7516891619855168, \"VORP\": -0.2, \"pred\": 26}, {\"Player\": \"Jerami Grant\", \"Pos\": \"PF\", \"Age\": 25, \"Tm\": \"DEN\", \"G\": 71, \"MP\": 1892, \"PER\": 14.4, \"TS%\": 0.591, \"3PAr\": 0.397, \"FTr\": 0.309, \"ORB%\": 3.4, \"DRB%\": 11.2, \"TRB%\": 7.3, \"AST%\": 6.6, \"STL%\": 1.3, \"BLK%\": 2.8, \"TOV%\": 8.0, \"USG%\": -0.05528512772172796, \"OWS\": 2.8, \"DWS\": 1.6, \"WS\": 4.4, \"WS/48\": 0.111, \"OBPM\": 0.1, \"DBPM\": -0.6, \"BPM\": 0.3066761720644804, \"VORP\": 0.7, \"pred\": 25}, {\"Player\": \"Jerian Grant\", \"Pos\": \"PG\", \"Age\": 27, \"Tm\": \"WAS\", \"G\": 6, \"MP\": 80, \"PER\": 6.6, \"TS%\": 0.449, \"3PAr\": 0.296, \"FTr\": 0.259, \"ORB%\": 2.6, \"DRB%\": 5.7, \"TRB%\": 4.1, \"AST%\": 15.3, \"STL%\": 0.6, \"BLK%\": 1.1, \"TOV%\": 9.1, \"USG%\": -0.19732999460616682, \"OWS\": 0.0, \"DWS\": 0.0, \"WS\": 0.0, \"WS/48\": -0.018, \"OBPM\": -4.8, \"DBPM\": -2.0, \"BPM\": -1.2087105562343792, \"VORP\": -0.1, \"pred\": 22}, {\"Player\": \"Josh Gray\", \"Pos\": \"PG\", \"Age\": 26, \"Tm\": \"NOP\", \"G\": 2, \"MP\": 23, \"PER\": -5.0, \"TS%\": 0.5, \"3PAr\": 0.0, \"FTr\": 0.0, \"ORB%\": 4.6, \"DRB%\": 4.6, \"TRB%\": 4.6, \"AST%\": 10.4, \"STL%\": 0.0, \"BLK%\": 0.0, \"TOV%\": 71.4, \"USG%\": -1.0318435875522443, \"OWS\": -0.1, \"DWS\": 0.0, \"WS\": -0.1, \"WS/48\": -0.226, \"OBPM\": -11.3, \"DBPM\": -4.7, \"BPM\": -3.421656254702555, \"VORP\": -0.1, \"pred\": 26}, {\"Player\": \"Danny Green\", \"Pos\": \"SG\", \"Age\": 32, \"Tm\": \"LAL\", \"G\": 68, \"MP\": 1687, \"PER\": 10.8, \"TS%\": 0.552, \"3PAr\": 0.69, \"FTr\": 0.101, \"ORB%\": 3.3, \"DRB%\": 11.2, \"TRB%\": 7.3, \"AST%\": 7.1, \"STL%\": 2.4, \"BLK%\": 1.7, \"TOV%\": 11.3, \"USG%\": -0.7832650705044764, \"OWS\": 0.8, \"DWS\": 2.5, \"WS\": 3.4, \"WS/48\": 0.096, \"OBPM\": -1.1, \"DBPM\": 1.5, \"BPM\": 0.5472137479849343, \"VORP\": 1.1, \"pred\": 32}, {\"Player\": \"Draymond Green\", \"Pos\": \"PF\", \"Age\": 29, \"Tm\": \"GSW\", \"G\": 43, \"MP\": 1222, \"PER\": 12.5, \"TS%\": 0.489, \"3PAr\": 0.408, \"FTr\": 0.263, \"ORB%\": 2.0, \"DRB%\": 22.3, \"TRB%\": 11.8, \"AST%\": 31.2, \"STL%\": 2.3, \"BLK%\": 2.4, \"TOV%\": 21.8, \"USG%\": -0.4636641200144894, \"OWS\": -0.2, \"DWS\": 1.3, \"WS\": 1.1, \"WS/48\": 0.044, \"OBPM\": -2.1, \"DBPM\": 1.9, \"BPM\": 0.3788374448406166, \"VORP\": 0.6, \"pred\": 29}, {\"Player\": \"JaMychal Green\", \"Pos\": \"PF\", \"Age\": 29, \"Tm\": \"LAC\", \"G\": 63, \"MP\": 1307, \"PER\": 11.1, \"TS%\": 0.576, \"3PAr\": 0.676, \"FTr\": 0.136, \"ORB%\": 6.3, \"DRB%\": 24.1, \"TRB%\": 15.4, \"AST%\": 5.0, \"STL%\": 1.0, \"BLK%\": 1.6, \"TOV%\": 12.6, \"USG%\": -0.8187762872255863, \"OWS\": 1.1, \"DWS\": 2.0, \"WS\": 3.1, \"WS/48\": 0.115, \"OBPM\": -1.2, \"DBPM\": 0.7, \"BPM\": 0.3066761720644804, \"VORP\": 0.5, \"pred\": 29}, {\"Player\": \"Javonte Green\", \"Pos\": \"SF\", \"Age\": 26, \"Tm\": \"BOS\", \"G\": 48, \"MP\": 468, \"PER\": 13.1, \"TS%\": 0.564, \"3PAr\": 0.262, \"FTr\": 0.333, \"ORB%\": 5.6, \"DRB%\": 15.6, \"TRB%\": 10.6, \"AST%\": 7.7, \"STL%\": 2.5, \"BLK%\": 1.6, \"TOV%\": 13.7, \"USG%\": -0.5346865534567086, \"OWS\": 0.4, \"DWS\": 0.8, \"WS\": 1.1, \"WS/48\": 0.113, \"OBPM\": -2.1, \"DBPM\": 1.4, \"BPM\": 0.25856865688038966, \"VORP\": 0.2, \"pred\": 30}, {\"Player\": \"Jeff Green\", \"Pos\": \"PF-C\", \"Age\": 33, \"Tm\": \"TOT\", \"G\": 48, \"MP\": 960, \"PER\": 13.7, \"TS%\": 0.59, \"3PAr\": 0.532, \"FTr\": 0.265, \"ORB%\": 2.7, \"DRB%\": 12.0, \"TRB%\": 7.5, \"AST%\": 7.9, \"STL%\": 1.3, \"BLK%\": 1.7, \"TOV%\": 9.9, \"USG%\": 0.12227095588382046, \"OWS\": 1.2, \"DWS\": 0.9, \"WS\": 2.1, \"WS/48\": 0.104, \"OBPM\": 0.0, \"DBPM\": -0.1, \"BPM\": 0.4028912024326619, \"VORP\": 0.5, \"pred\": 33}, {\"Player\": \"Jeff Green\", \"Pos\": \"PF\", \"Age\": 33, \"Tm\": \"UTA\", \"G\": 30, \"MP\": 553, \"PER\": 10.0, \"TS%\": 0.523, \"3PAr\": 0.533, \"FTr\": 0.323, \"ORB%\": 2.9, \"DRB%\": 12.9, \"TRB%\": 8.1, \"AST%\": 5.2, \"STL%\": 1.1, \"BLK%\": 1.5, \"TOV%\": 10.8, \"USG%\": 0.24656021440770423, \"OWS\": 0.0, \"DWS\": 0.5, \"WS\": 0.5, \"WS/48\": 0.046, \"OBPM\": -1.9, \"DBPM\": -0.2, \"BPM\": -0.07818394940824584, \"VORP\": 0.0, \"pred\": 19}, {\"Player\": \"Jeff Green\", \"Pos\": \"C\", \"Age\": 33, \"Tm\": \"HOU\", \"G\": 18, \"MP\": 407, \"PER\": 18.6, \"TS%\": 0.682, \"3PAr\": 0.53, \"FTr\": 0.188, \"ORB%\": 2.6, \"DRB%\": 10.9, \"TRB%\": 6.7, \"AST%\": 11.5, \"STL%\": 1.6, \"BLK%\": 1.9, \"TOV%\": 8.5, \"USG%\": -0.07304073608228305, \"OWS\": 1.2, \"DWS\": 0.4, \"WS\": 1.5, \"WS/48\": 0.183, \"OBPM\": 2.5, \"DBPM\": 0.1, \"BPM\": 1.0523426574178876, \"VORP\": 0.5, \"pred\": 33}, {\"Player\": \"Blake Griffin\", \"Pos\": \"PF\", \"Age\": 30, \"Tm\": \"DET\", \"G\": 18, \"MP\": 512, \"PER\": 11.9, \"TS%\": 0.476, \"3PAr\": 0.444, \"FTr\": 0.392, \"ORB%\": 3.7, \"DRB%\": 15.0, \"TRB%\": 9.3, \"AST%\": 18.0, \"STL%\": 0.7, \"BLK%\": 1.1, \"TOV%\": 12.0, \"USG%\": 1.7912981417759752, \"OWS\": -0.4, \"DWS\": 0.3, \"WS\": -0.1, \"WS/48\": -0.012, \"OBPM\": -1.7, \"DBPM\": -2.6, \"BPM\": -0.6073666164332444, \"VORP\": -0.3, \"pred\": 30}, {\"Player\": \"Marko Guduric\", \"Pos\": \"SG\", \"Age\": 24, \"Tm\": \"MEM\", \"G\": 44, \"MP\": 484, \"PER\": 8.8, \"TS%\": 0.514, \"3PAr\": 0.529, \"FTr\": 0.166, \"ORB%\": 3.1, \"DRB%\": 12.6, \"TRB%\": 7.9, \"AST%\": 12.3, \"STL%\": 1.2, \"BLK%\": 1.4, \"TOV%\": 17.6, \"USG%\": -0.12630756116394706, \"OWS\": -0.3, \"DWS\": 0.4, \"WS\": 0.1, \"WS/48\": 0.014, \"OBPM\": -2.7, \"DBPM\": -0.7, \"BPM\": -0.39088279810483584, \"VORP\": -0.2, \"pred\": 23}, {\"Player\": \"Kyle Guy\", \"Pos\": \"SG\", \"Age\": 22, \"Tm\": \"SAC\", \"G\": 3, \"MP\": 10, \"PER\": 6.6, \"TS%\": 0.4, \"3PAr\": 0.6, \"FTr\": 0.0, \"ORB%\": 0.0, \"DRB%\": 11.5, \"TRB%\": 5.6, \"AST%\": 15.6, \"STL%\": 0.0, \"BLK%\": 0.0, \"TOV%\": 0.0, \"USG%\": 0.601672381618801, \"OWS\": 0.0, \"DWS\": 0.0, \"WS\": 0.0, \"WS/48\": -0.045, \"OBPM\": -7.5, \"DBPM\": -4.8, \"BPM\": -2.531667223796876, \"VORP\": 0.0, \"pred\": 22}, {\"Player\": \"Rui Hachimura\", \"Pos\": \"PF\", \"Age\": 21, \"Tm\": \"WAS\", \"G\": 48, \"MP\": 1444, \"PER\": 13.5, \"TS%\": 0.535, \"3PAr\": 0.16, \"FTr\": 0.257, \"ORB%\": 5.7, \"DRB%\": 17.0, \"TRB%\": 11.1, \"AST%\": 8.8, \"STL%\": 1.2, \"BLK%\": 0.5, \"TOV%\": 8.0, \"USG%\": 0.12227095588382046, \"OWS\": 1.3, \"DWS\": 0.5, \"WS\": 1.8, \"WS/48\": 0.06, \"OBPM\": -1.2, \"DBPM\": -2.0, \"BPM\": -0.3427752829207451, \"VORP\": -0.4, \"pred\": 21}, {\"Player\": \"Devon Hall\", \"Pos\": \"SG\", \"Age\": 24, \"Tm\": \"OKC\", \"G\": 11, \"MP\": 81, \"PER\": 3.1, \"TS%\": 0.298, \"3PAr\": 0.567, \"FTr\": 0.267, \"ORB%\": 2.8, \"DRB%\": 6.6, \"TRB%\": 4.8, \"AST%\": 21.3, \"STL%\": 2.4, \"BLK%\": 1.1, \"TOV%\": 13.0, \"USG%\": 0.4596275147343622, \"OWS\": -0.3, \"DWS\": 0.1, \"WS\": -0.2, \"WS/48\": -0.116, \"OBPM\": -5.8, \"DBPM\": -0.6, \"BPM\": -1.1124955258661977, \"VORP\": -0.1, \"pred\": 24}, {\"Player\": \"Donta Hall\", \"Pos\": \"PF\", \"Age\": 22, \"Tm\": \"TOT\", \"G\": 9, \"MP\": 133, \"PER\": 13.6, \"TS%\": 0.652, \"3PAr\": 0.0, \"FTr\": 0.818, \"ORB%\": 11.4, \"DRB%\": 19.2, \"TRB%\": 15.4, \"AST%\": 4.2, \"STL%\": 1.1, \"BLK%\": 3.8, \"TOV%\": 14.3, \"USG%\": -1.2804221046000122, \"OWS\": 0.2, \"DWS\": 0.2, \"WS\": 0.4, \"WS/48\": 0.137, \"OBPM\": -3.4, \"DBPM\": -0.3, \"BPM\": -0.46304407088097205, \"VORP\": -0.1, \"pred\": 22}, {\"Player\": \"Donta Hall\", \"Pos\": \"PF\", \"Age\": 22, \"Tm\": \"DET\", \"G\": 4, \"MP\": 48, \"PER\": 7.3, \"TS%\": 0.452, \"3PAr\": 0.0, \"FTr\": 1.5, \"ORB%\": 14.0, \"DRB%\": 21.6, \"TRB%\": 17.7, \"AST%\": 5.3, \"STL%\": 1.0, \"BLK%\": 1.7, \"TOV%\": 23.1, \"USG%\": -1.8486015721377669, \"OWS\": 0.0, \"DWS\": 0.0, \"WS\": 0.1, \"WS/48\": 0.067, \"OBPM\": -5.7, \"DBPM\": -1.3, \"BPM\": -1.2568180714184698, \"VORP\": -0.1, \"pred\": 22}, {\"Player\": \"Donta Hall\", \"Pos\": \"PF\", \"Age\": 22, \"Tm\": \"BRK\", \"G\": 5, \"MP\": 85, \"PER\": 17.2, \"TS%\": 0.709, \"3PAr\": 0.0, \"FTr\": 0.667, \"ORB%\": 9.9, \"DRB%\": 17.9, \"TRB%\": 14.0, \"AST%\": 3.5, \"STL%\": 1.1, \"BLK%\": 4.9, \"TOV%\": 11.4, \"USG%\": -0.9608211541100248, \"OWS\": 0.2, \"DWS\": 0.1, \"WS\": 0.3, \"WS/48\": 0.177, \"OBPM\": -2.1, \"DBPM\": 0.3, \"BPM\": -0.00602267663210966, \"VORP\": 0.0, \"pred\": 22}, {\"Player\": \"Dusty Hannahs\", \"Pos\": \"SG\", \"Age\": 26, \"Tm\": \"MEM\", \"G\": 2, \"MP\": 13, \"PER\": 21.3, \"TS%\": 0.607, \"3PAr\": 0.333, \"FTr\": 0.222, \"ORB%\": 0.0, \"DRB%\": 8.0, \"TRB%\": 4.1, \"AST%\": 0.0, \"STL%\": 0.0, \"BLK%\": 0.0, \"TOV%\": 0.0, \"USG%\": 2.3594776093137306, \"OWS\": 0.0, \"DWS\": 0.0, \"WS\": 0.0, \"WS/48\": 0.146, \"OBPM\": 5.1, \"DBPM\": -2.1, \"BPM\": 1.1726114453781145, \"VORP\": 0.0, \"pred\": 26}, {\"Player\": \"Tim Hardaway Jr.\", \"Pos\": \"SG\", \"Age\": 27, \"Tm\": \"DAL\", \"G\": 71, \"MP\": 2091, \"PER\": 14.5, \"TS%\": 0.581, \"3PAr\": 0.58, \"FTr\": 0.206, \"ORB%\": 1.3, \"DRB%\": 10.2, \"TRB%\": 5.8, \"AST%\": 9.7, \"STL%\": 0.9, \"BLK%\": 0.2, \"TOV%\": 6.7, \"USG%\": 0.4951387314554724, \"OWS\": 3.4, \"DWS\": 1.1, \"WS\": 4.4, \"WS/48\": 0.102, \"OBPM\": 1.2, \"DBPM\": -1.4, \"BPM\": 0.4028912024326619, \"VORP\": 1.0, \"pred\": 27}, {\"Player\": \"James Harden\", \"Pos\": \"SG\", \"Age\": 30, \"Tm\": \"HOU\", \"G\": 68, \"MP\": 2483, \"PER\": 29.1, \"TS%\": 0.626, \"3PAr\": 0.557, \"FTr\": 0.528, \"ORB%\": 2.9, \"DRB%\": 16.0, \"TRB%\": 9.4, \"AST%\": 35.9, \"STL%\": 2.3, \"BLK%\": 2.1, \"TOV%\": 14.2, \"USG%\": 3.1939912022598076, \"OWS\": 9.9, \"DWS\": 3.2, \"WS\": 13.1, \"WS/48\": 0.254, \"OBPM\": 8.1, \"DBPM\": 1.6, \"BPM\": 2.7361056888610644, \"VORP\": 7.3, \"pred\": 30}, {\"Player\": \"Maurice Harkless\", \"Pos\": \"SF\", \"Age\": 26, \"Tm\": \"TOT\", \"G\": 62, \"MP\": 1427, \"PER\": 9.8, \"TS%\": 0.572, \"3PAr\": 0.346, \"FTr\": 0.233, \"ORB%\": 4.1, \"DRB%\": 13.3, \"TRB%\": 8.8, \"AST%\": 6.4, \"STL%\": 1.9, \"BLK%\": 2.1, \"TOV%\": 14.5, \"USG%\": -1.3514445380422315, \"OWS\": 0.8, \"DWS\": 1.9, \"WS\": 2.7, \"WS/48\": 0.09, \"OBPM\": -2.6, \"DBPM\": 1.9, \"BPM\": 0.25856865688038966, \"VORP\": 0.5, \"pred\": 26}, {\"Player\": \"Maurice Harkless\", \"Pos\": \"SF\", \"Age\": 26, \"Tm\": \"LAC\", \"G\": 50, \"MP\": 1141, \"PER\": 9.7, \"TS%\": 0.584, \"3PAr\": 0.336, \"FTr\": 0.194, \"ORB%\": 4.4, \"DRB%\": 13.6, \"TRB%\": 9.1, \"AST%\": 5.5, \"STL%\": 2.0, \"BLK%\": 2.3, \"TOV%\": 16.3, \"USG%\": -1.4224669714844507, \"OWS\": 0.5, \"DWS\": 1.7, \"WS\": 2.3, \"WS/48\": 0.095, \"OBPM\": -2.5, \"DBPM\": 2.4, \"BPM\": 0.42694496002470733, \"VORP\": 0.6, \"pred\": 22}, {\"Player\": \"Maurice Harkless\", \"Pos\": \"SF\", \"Age\": 26, \"Tm\": \"NYK\", \"G\": 12, \"MP\": 286, \"PER\": 10.1, \"TS%\": 0.536, \"3PAr\": 0.379, \"FTr\": 0.364, \"ORB%\": 2.9, \"DRB%\": 12.3, \"TRB%\": 7.5, \"AST%\": 9.7, \"STL%\": 1.5, \"BLK%\": 1.0, \"TOV%\": 8.4, \"USG%\": -1.049599195912799, \"OWS\": 0.2, \"DWS\": 0.2, \"WS\": 0.4, \"WS/48\": 0.069, \"OBPM\": -3.2, \"DBPM\": -0.3, \"BPM\": -0.41493655569688126, \"VORP\": -0.1, \"pred\": 26}, {\"Player\": \"Jared Harper\", \"Pos\": \"PG\", \"Age\": 22, \"Tm\": \"PHO\", \"G\": 3, \"MP\": 8, \"PER\": -5.3, \"TS%\": 0.25, \"3PAr\": 0.5, \"FTr\": 0.0, \"ORB%\": 0.0, \"DRB%\": 0.0, \"TRB%\": 0.0, \"AST%\": 0.0, \"STL%\": 0.0, \"BLK%\": 0.0, \"TOV%\": 0.0, \"USG%\": 0.530649948176582, \"OWS\": 0.0, \"DWS\": 0.0, \"WS\": 0.0, \"WS/48\": -0.249, \"OBPM\": -10.1, \"DBPM\": -5.6, \"BPM\": -3.3494949819264184, \"VORP\": 0.0, \"pred\": 26}, {\"Player\": \"Montrezl Harrell\", \"Pos\": \"C\", \"Age\": 26, \"Tm\": \"LAC\", \"G\": 63, \"MP\": 1749, \"PER\": 23.2, \"TS%\": 0.607, \"3PAr\": 0.022, \"FTr\": 0.432, \"ORB%\": 9.9, \"DRB%\": 16.3, \"TRB%\": 13.2, \"AST%\": 10.3, \"STL%\": 1.1, \"BLK%\": 3.6, \"TOV%\": 10.1, \"USG%\": 1.3118967160409947, \"OWS\": 4.4, \"DWS\": 2.5, \"WS\": 7.0, \"WS/48\": 0.191, \"OBPM\": 2.5, \"DBPM\": 0.5, \"BPM\": 1.1245039301940236, \"VORP\": 2.2, \"pred\": 27}, {\"Player\": \"Gary Harris\", \"Pos\": \"SG\", \"Age\": 25, \"Tm\": \"DEN\", \"G\": 56, \"MP\": 1780, \"PER\": 9.7, \"TS%\": 0.519, \"3PAr\": 0.405, \"FTr\": 0.177, \"ORB%\": 1.6, \"DRB%\": 8.6, \"TRB%\": 5.1, \"AST%\": 8.9, \"STL%\": 2.1, \"BLK%\": 0.7, \"TOV%\": 9.7, \"USG%\": -0.5701977701778184, \"OWS\": 0.5, \"DWS\": 1.4, \"WS\": 1.9, \"WS/48\": 0.052, \"OBPM\": -2.8, \"DBPM\": 0.3, \"BPM\": -0.17439897977642738, \"VORP\": -0.2, \"pred\": 25}, {\"Player\": \"Joe Harris\", \"Pos\": \"SF\", \"Age\": 28, \"Tm\": \"BRK\", \"G\": 69, \"MP\": 2123, \"PER\": 13.3, \"TS%\": 0.606, \"3PAr\": 0.518, \"FTr\": 0.114, \"ORB%\": 3.2, \"DRB%\": 11.2, \"TRB%\": 7.3, \"AST%\": 10.4, \"STL%\": 0.9, \"BLK%\": 0.7, \"TOV%\": 11.2, \"USG%\": -0.0020183026400633066, \"OWS\": 2.5, \"DWS\": 1.8, \"WS\": 4.3, \"WS/48\": 0.097, \"OBPM\": 0.4, \"DBPM\": -0.6, \"BPM\": 0.3788374448406166, \"VORP\": 1.0, \"pred\": 28}, {\"Player\": \"Tobias Harris\", \"Pos\": \"PF\", \"Age\": 27, \"Tm\": \"PHI\", \"G\": 72, \"MP\": 2469, \"PER\": 17.2, \"TS%\": 0.556, \"3PAr\": 0.304, \"FTr\": 0.184, \"ORB%\": 3.1, \"DRB%\": 19.1, \"TRB%\": 11.1, \"AST%\": 14.6, \"STL%\": 1.0, \"BLK%\": 1.4, \"TOV%\": 7.6, \"USG%\": 0.9922957655510074, \"OWS\": 3.5, \"DWS\": 2.7, \"WS\": 6.2, \"WS/48\": 0.121, \"OBPM\": 1.3, \"DBPM\": -0.5, \"BPM\": 0.6193750207610704, \"VORP\": 1.8, \"pred\": 27}, {\"Player\": \"Shaquille Harrison\", \"Pos\": \"SF\", \"Age\": 26, \"Tm\": \"CHI\", \"G\": 43, \"MP\": 484, \"PER\": 17.8, \"TS%\": 0.559, \"3PAr\": 0.255, \"FTr\": 0.303, \"ORB%\": 4.8, \"DRB%\": 15.3, \"TRB%\": 9.8, \"AST%\": 15.3, \"STL%\": 3.4, \"BLK%\": 3.7, \"TOV%\": 9.2, \"USG%\": -0.03752951936117286, \"OWS\": 0.7, \"DWS\": 0.8, \"WS\": 1.5, \"WS/48\": 0.153, \"OBPM\": 0.4, \"DBPM\": 2.4, \"BPM\": 1.1004501726019782, \"VORP\": 0.6, \"pred\": 26}, {\"Player\": \"Josh Hart\", \"Pos\": \"SF\", \"Age\": 24, \"Tm\": \"NOP\", \"G\": 65, \"MP\": 1755, \"PER\": 11.9, \"TS%\": 0.563, \"3PAr\": 0.665, \"FTr\": 0.216, \"ORB%\": 3.7, \"DRB%\": 22.1, \"TRB%\": 12.8, \"AST%\": 8.2, \"STL%\": 1.7, \"BLK%\": 1.1, \"TOV%\": 11.4, \"USG%\": -0.5346865534567086, \"OWS\": 1.3, \"DWS\": 1.8, \"WS\": 3.1, \"WS/48\": 0.085, \"OBPM\": -1.1, \"DBPM\": 0.4, \"BPM\": 0.25856865688038966, \"VORP\": 0.6, \"pred\": 30}, {\"Player\": \"Isaiah Hartenstein\", \"Pos\": \"C\", \"Age\": 21, \"Tm\": \"HOU\", \"G\": 23, \"MP\": 266, \"PER\": 18.6, \"TS%\": 0.674, \"3PAr\": 0.075, \"FTr\": 0.418, \"ORB%\": 11.3, \"DRB%\": 24.3, \"TRB%\": 17.7, \"AST%\": 10.0, \"STL%\": 1.6, \"BLK%\": 3.9, \"TOV%\": 16.8, \"USG%\": -0.6234645952594827, \"OWS\": 0.7, \"DWS\": 0.4, \"WS\": 1.1, \"WS/48\": 0.19, \"OBPM\": -1.0, \"DBPM\": 1.3, \"BPM\": 0.49910623280084354, \"VORP\": 0.2, \"pred\": 21}, {\"Player\": \"Udonis Haslem\", \"Pos\": \"PF\", \"Age\": 39, \"Tm\": \"MIA\", \"G\": 4, \"MP\": 44, \"PER\": 6.5, \"TS%\": 0.47, \"3PAr\": 0.273, \"FTr\": 0.364, \"ORB%\": 2.6, \"DRB%\": 36.7, \"TRB%\": 20.3, \"AST%\": 3.2, \"STL%\": 0.0, \"BLK%\": 0.0, \"TOV%\": 7.3, \"USG%\": -0.8010206788650311, \"OWS\": 0.0, \"DWS\": 0.1, \"WS\": 0.0, \"WS/48\": 0.041, \"OBPM\": -6.1, \"DBPM\": -1.4, \"BPM\": -1.401140616970742, \"VORP\": -0.1, \"pred\": 39}, {\"Player\": \"Jaxson Hayes\", \"Pos\": \"C\", \"Age\": 19, \"Tm\": \"NOP\", \"G\": 64, \"MP\": 1080, \"PER\": 17.6, \"TS%\": 0.689, \"3PAr\": 0.015, \"FTr\": 0.734, \"ORB%\": 9.5, \"DRB%\": 16.0, \"TRB%\": 12.7, \"AST%\": 7.2, \"STL%\": 1.1, \"BLK%\": 4.3, \"TOV%\": 13.4, \"USG%\": -0.5879533785383732, \"OWS\": 2.8, \"DWS\": 1.1, \"WS\": 3.9, \"WS/48\": 0.171, \"OBPM\": -0.9, \"DBPM\": 0.6, \"BPM\": 0.3547836872485712, \"VORP\": 0.5, \"pred\": 19}, {\"Player\": \"Gordon Hayward\", \"Pos\": \"SF\", \"Age\": 29, \"Tm\": \"BOS\", \"G\": 52, \"MP\": 1740, \"PER\": 18.1, \"TS%\": 0.595, \"3PAr\": 0.317, \"FTr\": 0.207, \"ORB%\": 3.4, \"DRB%\": 17.8, \"TRB%\": 10.7, \"AST%\": 18.7, \"STL%\": 1.1, \"BLK%\": 1.2, \"TOV%\": 11.2, \"USG%\": 0.4951387314554724, \"OWS\": 3.5, \"DWS\": 2.2, \"WS\": 5.7, \"WS/48\": 0.158, \"OBPM\": 2.6, \"DBPM\": 0.1, \"BPM\": 1.0763964150099328, \"VORP\": 2.0, \"pred\": 27}, {\"Player\": \"John Henson\", \"Pos\": \"PF\", \"Age\": 29, \"Tm\": \"TOT\", \"G\": 40, \"MP\": 600, \"PER\": 17.0, \"TS%\": 0.578, \"3PAr\": 0.211, \"FTr\": 0.269, \"ORB%\": 8.5, \"DRB%\": 21.8, \"TRB%\": 15.1, \"AST%\": 13.4, \"STL%\": 2.0, \"BLK%\": 6.0, \"TOV%\": 15.8, \"USG%\": -0.35713046985116015, \"OWS\": 0.6, \"DWS\": 0.8, \"WS\": 1.4, \"WS/48\": 0.109, \"OBPM\": -1.2, \"DBPM\": 2.1, \"BPM\": 0.6434287783531158, \"VORP\": 0.4, \"pred\": 29}, {\"Player\": \"John Henson\", \"Pos\": \"PF\", \"Age\": 29, \"Tm\": \"CLE\", \"G\": 29, \"MP\": 412, \"PER\": 16.9, \"TS%\": 0.539, \"3PAr\": 0.258, \"FTr\": 0.275, \"ORB%\": 8.5, \"DRB%\": 22.3, \"TRB%\": 15.4, \"AST%\": 15.2, \"STL%\": 1.9, \"BLK%\": 6.7, \"TOV%\": 13.5, \"USG%\": -0.39264168657226967, \"OWS\": 0.4, \"DWS\": 0.5, \"WS\": 0.9, \"WS/48\": 0.109, \"OBPM\": -1.1, \"DBPM\": 2.3, \"BPM\": 0.6915362935372067, \"VORP\": 0.3, \"pred\": 29}, {\"Player\": \"John Henson\", \"Pos\": \"PF\", \"Age\": 29, \"Tm\": \"DET\", \"G\": 11, \"MP\": 188, \"PER\": 17.1, \"TS%\": 0.67, \"3PAr\": 0.098, \"FTr\": 0.255, \"ORB%\": 8.3, \"DRB%\": 20.8, \"TRB%\": 14.5, \"AST%\": 9.3, \"STL%\": 2.1, \"BLK%\": 4.5, \"TOV%\": 20.9, \"USG%\": -0.286108036408941, \"OWS\": 0.2, \"DWS\": 0.2, \"WS\": 0.4, \"WS/48\": 0.11, \"OBPM\": -1.2, \"DBPM\": 1.8, \"BPM\": 0.5712675055769797, \"VORP\": 0.1, \"pred\": 29}, {\"Player\": \"Dewan Hernandez\", \"Pos\": \"C\", \"Age\": 23, \"Tm\": \"TOR\", \"G\": 6, \"MP\": 28, \"PER\": 12.9, \"TS%\": 0.432, \"3PAr\": 0.143, \"FTr\": 0.357, \"ORB%\": 19.3, \"DRB%\": 33.2, \"TRB%\": 26.4, \"AST%\": 16.4, \"STL%\": 1.7, \"BLK%\": 0.0, \"TOV%\": 15.6, \"USG%\": 1.9510986170209692, \"OWS\": 0.0, \"DWS\": 0.1, \"WS\": 0.0, \"WS/48\": 0.043, \"OBPM\": -6.6, \"DBPM\": -3.0, \"BPM\": -1.8822157688116499, \"VORP\": -0.1, \"pred\": 23}, {\"Player\": \"Juan Hernang\\u00f3mez\", \"Pos\": \"PF\", \"Age\": 24, \"Tm\": \"TOT\", \"G\": 48, \"MP\": 833, \"PER\": 10.4, \"TS%\": 0.518, \"3PAr\": 0.522, \"FTr\": 0.287, \"ORB%\": 5.6, \"DRB%\": 20.5, \"TRB%\": 12.8, \"AST%\": 6.6, \"STL%\": 1.1, \"BLK%\": 1.0, \"TOV%\": 10.3, \"USG%\": -0.4636641200144894, \"OWS\": 0.2, \"DWS\": 0.7, \"WS\": 0.9, \"WS/48\": 0.052, \"OBPM\": -2.2, \"DBPM\": -1.1, \"BPM\": -0.39088279810483584, \"VORP\": -0.3, \"pred\": 24}, {\"Player\": \"Juan Hernang\\u00f3mez\", \"Pos\": \"PF\", \"Age\": 24, \"Tm\": \"DEN\", \"G\": 34, \"MP\": 422, \"PER\": 6.9, \"TS%\": 0.442, \"3PAr\": 0.545, \"FTr\": 0.227, \"ORB%\": 6.4, \"DRB%\": 18.8, \"TRB%\": 12.6, \"AST%\": 6.7, \"STL%\": 0.6, \"BLK%\": 1.1, \"TOV%\": 12.9, \"USG%\": -0.712242637062257, \"OWS\": -0.2, \"DWS\": 0.3, \"WS\": 0.1, \"WS/48\": 0.007, \"OBPM\": -4.0, \"DBPM\": -1.2, \"BPM\": -0.823850434761653, \"VORP\": -0.3, \"pred\": 24}, {\"Player\": \"Juan Hernang\\u00f3mez\", \"Pos\": \"PF\", \"Age\": 24, \"Tm\": \"MIN\", \"G\": 14, \"MP\": 411, \"PER\": 14.1, \"TS%\": 0.576, \"3PAr\": 0.504, \"FTr\": 0.336, \"ORB%\": 4.7, \"DRB%\": 22.1, \"TRB%\": 13.1, \"AST%\": 6.4, \"STL%\": 1.6, \"BLK%\": 0.8, \"TOV%\": 8.2, \"USG%\": -0.21508560296672127, \"OWS\": 0.5, \"DWS\": 0.4, \"WS\": 0.8, \"WS/48\": 0.098, \"OBPM\": -0.4, \"DBPM\": -1.0, \"BPM\": 0.06613859614402652, \"VORP\": 0.1, \"pred\": 24}, {\"Player\": \"Willy Hernang\\u00f3mez\", \"Pos\": \"C\", \"Age\": 25, \"Tm\": \"CHO\", \"G\": 31, \"MP\": 375, \"PER\": 19.2, \"TS%\": 0.576, \"3PAr\": 0.158, \"FTr\": 0.424, \"ORB%\": 12.1, \"DRB%\": 27.5, \"TRB%\": 19.5, \"AST%\": 13.5, \"STL%\": 1.3, \"BLK%\": 1.7, \"TOV%\": 15.4, \"USG%\": 0.814739681945459, \"OWS\": 0.4, \"DWS\": 0.4, \"WS\": 0.8, \"WS/48\": 0.107, \"OBPM\": 0.6, \"DBPM\": -0.5, \"BPM\": 0.45099871761675275, \"VORP\": 0.2, \"pred\": 25}, {\"Player\": \"Tyler Herro\", \"Pos\": \"SG\", \"Age\": 20, \"Tm\": \"MIA\", \"G\": 55, \"MP\": 1508, \"PER\": 12.5, \"TS%\": 0.55, \"3PAr\": 0.472, \"FTr\": 0.158, \"ORB%\": 1.2, \"DRB%\": 14.9, \"TRB%\": 8.3, \"AST%\": 12.7, \"STL%\": 1.1, \"BLK%\": 0.6, \"TOV%\": 11.4, \"USG%\": 0.7082060317821304, \"OWS\": 0.2, \"DWS\": 1.3, \"WS\": 1.6, \"WS/48\": 0.05, \"OBPM\": -0.4, \"DBPM\": -1.2, \"BPM\": 0.042084838551981106, \"VORP\": 0.1, \"pred\": 20}, {\"Player\": \"Kevin Hervey\", \"Pos\": \"PF\", \"Age\": 23, \"Tm\": \"OKC\", \"G\": 10, \"MP\": 52, \"PER\": 5.0, \"TS%\": 0.315, \"3PAr\": 0.741, \"FTr\": 0.0, \"ORB%\": 2.2, \"DRB%\": 22.7, \"TRB%\": 12.7, \"AST%\": 13.9, \"STL%\": 0.9, \"BLK%\": 1.7, \"TOV%\": 0.0, \"USG%\": 0.7969840735849045, \"OWS\": -0.2, \"DWS\": 0.1, \"WS\": -0.1, \"WS/48\": -0.085, \"OBPM\": -4.0, \"DBPM\": -1.1, \"BPM\": -0.7997966771696075, \"VORP\": 0.0, \"pred\": 21}, {\"Player\": \"Mario Hezonja\", \"Pos\": \"PF\", \"Age\": 24, \"Tm\": \"POR\", \"G\": 53, \"MP\": 871, \"PER\": 9.5, \"TS%\": 0.525, \"3PAr\": 0.358, \"FTr\": 0.271, \"ORB%\": 3.6, \"DRB%\": 18.3, \"TRB%\": 11.0, \"AST%\": 7.5, \"STL%\": 2.0, \"BLK%\": 0.9, \"TOV%\": 14.7, \"USG%\": -0.7832650705044764, \"OWS\": 0.1, \"DWS\": 0.6, \"WS\": 0.8, \"WS/48\": 0.043, \"OBPM\": -3.1, \"DBPM\": 0.2, \"BPM\": -0.2706140101446089, \"VORP\": -0.2, \"pred\": 24}, {\"Player\": \"Buddy Hield\", \"Pos\": \"SG\", \"Age\": 27, \"Tm\": \"SAC\", \"G\": 72, \"MP\": 2216, \"PER\": 16.0, \"TS%\": 0.566, \"3PAr\": 0.592, \"FTr\": 0.117, \"ORB%\": 2.8, \"DRB%\": 14.1, \"TRB%\": 8.3, \"AST%\": 15.5, \"STL%\": 1.4, \"BLK%\": 0.7, \"TOV%\": 12.1, \"USG%\": 1.5782308414493174, \"OWS\": 1.4, \"DWS\": 1.5, \"WS\": 3.0, \"WS/48\": 0.064, \"OBPM\": 2.5, \"DBPM\": -1.4, \"BPM\": 0.6915362935372067, \"VORP\": 1.7, \"pred\": 31}, {\"Player\": \"George Hill\", \"Pos\": \"PG\", \"Age\": 33, \"Tm\": \"MIL\", \"G\": 59, \"MP\": 1271, \"PER\": 16.9, \"TS%\": 0.659, \"3PAr\": 0.468, \"FTr\": 0.269, \"ORB%\": 4.1, \"DRB%\": 9.3, \"TRB%\": 6.9, \"AST%\": 19.0, \"STL%\": 1.7, \"BLK%\": 0.3, \"TOV%\": 11.9, \"USG%\": -0.499175336735599, \"OWS\": 3.5, \"DWS\": 2.1, \"WS\": 5.5, \"WS/48\": 0.21, \"OBPM\": 1.6, \"DBPM\": 1.3, \"BPM\": 1.1245039301940236, \"VORP\": 1.6, \"pred\": 33}, {\"Player\": \"Solomon Hill\", \"Pos\": \"SF\", \"Age\": 28, \"Tm\": \"TOT\", \"G\": 59, \"MP\": 1088, \"PER\": 9.8, \"TS%\": 0.535, \"3PAr\": 0.615, \"FTr\": 0.194, \"ORB%\": 2.9, \"DRB%\": 13.0, \"TRB%\": 8.1, \"AST%\": 12.4, \"STL%\": 1.9, \"BLK%\": 1.0, \"TOV%\": 14.5, \"USG%\": -0.836531895586141, \"OWS\": 0.4, \"DWS\": 1.1, \"WS\": 1.4, \"WS/48\": 0.064, \"OBPM\": -2.0, \"DBPM\": 0.3, \"BPM\": 0.01803108095993575, \"VORP\": 0.1, \"pred\": 28}, {\"Player\": \"Solomon Hill\", \"Pos\": \"SF\", \"Age\": 28, \"Tm\": \"MEM\", \"G\": 48, \"MP\": 901, \"PER\": 10.2, \"TS%\": 0.549, \"3PAr\": 0.631, \"FTr\": 0.163, \"ORB%\": 2.9, \"DRB%\": 13.8, \"TRB%\": 8.4, \"AST%\": 13.4, \"STL%\": 1.6, \"BLK%\": 0.7, \"TOV%\": 13.8, \"USG%\": -0.8720431123072506, \"OWS\": 0.5, \"DWS\": 0.8, \"WS\": 1.4, \"WS/48\": 0.072, \"OBPM\": -1.7, \"DBPM\": 0.2, \"BPM\": 0.09019235373607193, \"VORP\": 0.1, \"pred\": 28}, {\"Player\": \"Solomon Hill\", \"Pos\": \"SF\", \"Age\": 28, \"Tm\": \"MIA\", \"G\": 11, \"MP\": 187, \"PER\": 8.1, \"TS%\": 0.471, \"3PAr\": 0.533, \"FTr\": 0.356, \"ORB%\": 3.1, \"DRB%\": 9.2, \"TRB%\": 6.3, \"AST%\": 7.3, \"STL%\": 3.1, \"BLK%\": 2.7, \"TOV%\": 17.4, \"USG%\": -0.6234645952594827, \"OWS\": -0.2, \"DWS\": 0.3, \"WS\": 0.1, \"WS/48\": 0.023, \"OBPM\": -3.8, \"DBPM\": 0.9, \"BPM\": -0.2706140101446089, \"VORP\": 0.0, \"pred\": 28}, {\"Player\": \"Jaylen Hoard\", \"Pos\": \"SF\", \"Age\": 20, \"Tm\": \"POR\", \"G\": 13, \"MP\": 103, \"PER\": 14.9, \"TS%\": 0.504, \"3PAr\": 0.094, \"FTr\": 0.406, \"ORB%\": 14.4, \"DRB%\": 18.1, \"TRB%\": 16.2, \"AST%\": 5.3, \"STL%\": 2.3, \"BLK%\": 0.0, \"TOV%\": 9.6, \"USG%\": -0.19732999460616682, \"OWS\": 0.1, \"DWS\": 0.1, \"WS\": 0.2, \"WS/48\": 0.093, \"OBPM\": -0.8, \"DBPM\": -1.1, \"BPM\": -0.030076434224155017, \"VORP\": 0.0, \"pred\": 20}, {\"Player\": \"Aaron Holiday\", \"Pos\": \"PG\", \"Age\": 23, \"Tm\": \"IND\", \"G\": 66, \"MP\": 1617, \"PER\": 11.6, \"TS%\": 0.521, \"3PAr\": 0.393, \"FTr\": 0.155, \"ORB%\": 1.5, \"DRB%\": 9.0, \"TRB%\": 5.3, \"AST%\": 19.1, \"STL%\": 1.7, \"BLK%\": 0.9, \"TOV%\": 12.8, \"USG%\": 0.06900413080215581, \"OWS\": 0.4, \"DWS\": 1.7, \"WS\": 2.1, \"WS/48\": 0.063, \"OBPM\": -1.6, \"DBPM\": 0.0, \"BPM\": 0.042084838551981106, \"VORP\": 0.2, \"pred\": 21}, {\"Player\": \"Jrue Holiday\", \"Pos\": \"SG\", \"Age\": 29, \"Tm\": \"NOP\", \"G\": 61, \"MP\": 2117, \"PER\": 17.0, \"TS%\": 0.537, \"3PAr\": 0.344, \"FTr\": 0.181, \"ORB%\": 3.8, \"DRB%\": 10.9, \"TRB%\": 7.3, \"AST%\": 29.1, \"STL%\": 2.2, \"BLK%\": 1.9, \"TOV%\": 14.5, \"USG%\": 1.0988294157143368, \"OWS\": 2.0, \"DWS\": 1.9, \"WS\": 3.9, \"WS/48\": 0.088, \"OBPM\": 1.6, \"DBPM\": 0.2, \"BPM\": 0.8599125966815243, \"VORP\": 2.0, \"pred\": 29}, {\"Player\": \"Justin Holiday\", \"Pos\": \"SG\", \"Age\": 30, \"Tm\": \"IND\", \"G\": 73, \"MP\": 1826, \"PER\": 12.1, \"TS%\": 0.585, \"3PAr\": 0.681, \"FTr\": 0.138, \"ORB%\": 1.9, \"DRB%\": 12.2, \"TRB%\": 7.1, \"AST%\": 6.7, \"STL%\": 2.3, \"BLK%\": 2.2, \"TOV%\": 7.9, \"USG%\": -0.8720431123072506, \"OWS\": 1.6, \"DWS\": 2.6, \"WS\": 4.2, \"WS/48\": 0.112, \"OBPM\": -0.5, \"DBPM\": 1.8, \"BPM\": 0.7396438087212974, \"VORP\": 1.5, \"pred\": 30}, {\"Player\": \"Rondae Hollis-Jefferson\", \"Pos\": \"SF\", \"Age\": 25, \"Tm\": \"TOR\", \"G\": 60, \"MP\": 1122, \"PER\": 15.1, \"TS%\": 0.533, \"3PAr\": 0.07, \"FTr\": 0.435, \"ORB%\": 10.6, \"DRB%\": 15.9, \"TRB%\": 13.3, \"AST%\": 13.6, \"STL%\": 2.0, \"BLK%\": 2.0, \"TOV%\": 13.1, \"USG%\": -0.19732999460616682, \"OWS\": 1.4, \"DWS\": 2.0, \"WS\": 3.4, \"WS/48\": 0.146, \"OBPM\": -1.2, \"DBPM\": 1.5, \"BPM\": 0.49910623280084354, \"VORP\": 0.6, \"pred\": 21}, {\"Player\": \"Richaun Holmes\", \"Pos\": \"C\", \"Age\": 26, \"Tm\": \"SAC\", \"G\": 44, \"MP\": 1242, \"PER\": 19.7, \"TS%\": 0.681, \"3PAr\": 0.0, \"FTr\": 0.343, \"ORB%\": 11.2, \"DRB%\": 21.5, \"TRB%\": 16.2, \"AST%\": 5.1, \"STL%\": 1.6, \"BLK%\": 4.3, \"TOV%\": 11.6, \"USG%\": -0.4814197283750442, \"OWS\": 3.4, \"DWS\": 1.5, \"WS\": 4.9, \"WS/48\": 0.19, \"OBPM\": 0.3, \"DBPM\": 0.6, \"BPM\": 0.6674825359451612, \"VORP\": 0.9, \"pred\": 26}, {\"Player\": \"Rodney Hood\", \"Pos\": \"SF\", \"Age\": 27, \"Tm\": \"POR\", \"G\": 21, \"MP\": 619, \"PER\": 12.2, \"TS%\": 0.625, \"3PAr\": 0.413, \"FTr\": 0.157, \"ORB%\": 1.7, \"DRB%\": 10.4, \"TRB%\": 6.1, \"AST%\": 7.0, \"STL%\": 1.3, \"BLK%\": 0.6, \"TOV%\": 9.4, \"USG%\": -0.7832650705044764, \"OWS\": 0.9, \"DWS\": 0.2, \"WS\": 1.1, \"WS/48\": 0.084, \"OBPM\": -0.4, \"DBPM\": -0.5, \"BPM\": 0.21046114169629884, \"VORP\": 0.2, \"pred\": 24}, {\"Player\": \"Al Horford\", \"Pos\": \"C\", \"Age\": 33, \"Tm\": \"PHI\", \"G\": 67, \"MP\": 2025, \"PER\": 15.7, \"TS%\": 0.536, \"3PAr\": 0.399, \"FTr\": 0.113, \"ORB%\": 5.6, \"DRB%\": 19.3, \"TRB%\": 12.4, \"AST%\": 19.2, \"STL%\": 1.2, \"BLK%\": 2.6, \"TOV%\": 9.7, \"USG%\": -0.14406316952450215, \"OWS\": 2.8, \"DWS\": 2.6, \"WS\": 5.4, \"WS/48\": 0.128, \"OBPM\": 1.3, \"DBPM\": 1.0, \"BPM\": 0.9561276270497059, \"VORP\": 2.2, \"pred\": 33}, {\"Player\": \"Talen Horton-Tucker\", \"Pos\": \"SG\", \"Age\": 19, \"Tm\": \"LAL\", \"G\": 6, \"MP\": 81, \"PER\": 12.3, \"TS%\": 0.535, \"3PAr\": 0.433, \"FTr\": 0.133, \"ORB%\": 2.7, \"DRB%\": 6.7, \"TRB%\": 4.7, \"AST%\": 10.5, \"STL%\": 4.7, \"BLK%\": 1.1, \"TOV%\": 15.9, \"USG%\": 0.24656021440770423, \"OWS\": 0.0, \"DWS\": 0.2, \"WS\": 0.1, \"WS/48\": 0.07, \"OBPM\": -4.0, \"DBPM\": 2.0, \"BPM\": -0.07818394940824584, \"VORP\": 0.0, \"pred\": 19}, {\"Player\": \"Danuel House\", \"Pos\": \"SF\", \"Age\": 26, \"Tm\": \"HOU\", \"G\": 63, \"MP\": 1913, \"PER\": 11.3, \"TS%\": 0.572, \"3PAr\": 0.659, \"FTr\": 0.167, \"ORB%\": 3.1, \"DRB%\": 11.6, \"TRB%\": 7.3, \"AST%\": 6.1, \"STL%\": 1.6, \"BLK%\": 1.5, \"TOV%\": 8.5, \"USG%\": -0.8187762872255863, \"OWS\": 1.9, \"DWS\": 1.8, \"WS\": 3.6, \"WS/48\": 0.091, \"OBPM\": -0.8, \"DBPM\": 0.0, \"BPM\": 0.25856865688038966, \"VORP\": 0.6, \"pred\": 26}, {\"Player\": \"Dwight Howard\", \"Pos\": \"C\", \"Age\": 34, \"Tm\": \"LAL\", \"G\": 69, \"MP\": 1306, \"PER\": 18.7, \"TS%\": 0.696, \"3PAr\": 0.018, \"FTr\": 0.773, \"ORB%\": 14.6, \"DRB%\": 27.8, \"TRB%\": 21.2, \"AST%\": 4.8, \"STL%\": 1.1, \"BLK%\": 5.4, \"TOV%\": 18.5, \"USG%\": -0.6412202036200378, \"OWS\": 2.8, \"DWS\": 2.6, \"WS\": 5.4, \"WS/48\": 0.197, \"OBPM\": -1.0, \"DBPM\": 1.2, \"BPM\": 0.4750524752087981, \"VORP\": 0.7, \"pred\": 34}, {\"Player\": \"William Howard\", \"Pos\": \"PF\", \"Age\": 26, \"Tm\": \"HOU\", \"G\": 2, \"MP\": 13, \"PER\": -12.7, \"TS%\": 0.0, \"3PAr\": 1.0, \"FTr\": 0.0, \"ORB%\": 0.0, \"DRB%\": 16.3, \"TRB%\": 8.1, \"AST%\": 9.1, \"STL%\": 0.0, \"BLK%\": 0.0, \"TOV%\": 20.0, \"USG%\": -0.42815290329337957, \"OWS\": -0.1, \"DWS\": 0.0, \"WS\": -0.1, \"WS/48\": -0.357, \"OBPM\": -14.2, \"DBPM\": -5.4, \"BPM\": -4.287591528016189, \"VORP\": -0.1, \"pred\": 26}, {\"Player\": \"Kevin Huerter\", \"Pos\": \"SG\", \"Age\": 21, \"Tm\": \"ATL\", \"G\": 56, \"MP\": 1760, \"PER\": 11.5, \"TS%\": 0.536, \"3PAr\": 0.548, \"FTr\": 0.105, \"ORB%\": 2.1, \"DRB%\": 12.0, \"TRB%\": 7.0, \"AST%\": 17.5, \"STL%\": 1.4, \"BLK%\": 1.3, \"TOV%\": 12.0, \"USG%\": -0.21508560296672127, \"OWS\": 1.0, \"DWS\": 0.6, \"WS\": 1.6, \"WS/48\": 0.043, \"OBPM\": -0.7, \"DBPM\": -0.9, \"BPM\": 0.042084838551981106, \"VORP\": 0.2, \"pred\": 21}, {\"Player\": \"De'Andre Hunter\", \"Pos\": \"SF\", \"Age\": 22, \"Tm\": \"ATL\", \"G\": 63, \"MP\": 2018, \"PER\": 8.6, \"TS%\": 0.521, \"3PAr\": 0.445, \"FTr\": 0.211, \"ORB%\": 2.3, \"DRB%\": 13.1, \"TRB%\": 7.6, \"AST%\": 8.0, \"STL%\": 1.0, \"BLK%\": 0.7, \"TOV%\": 12.1, \"USG%\": -0.14406316952450215, \"OWS\": -0.4, \"DWS\": 0.5, \"WS\": 0.1, \"WS/48\": 0.002, \"OBPM\": -2.9, \"DBPM\": -1.8, \"BPM\": -0.703581646801426, \"VORP\": -1.4, \"pred\": 22}, {\"Player\": \"Chandler Hutchison\", \"Pos\": \"SF\", \"Age\": 23, \"Tm\": \"CHI\", \"G\": 28, \"MP\": 527, \"PER\": 12.4, \"TS%\": 0.521, \"3PAr\": 0.217, \"FTr\": 0.446, \"ORB%\": 3.6, \"DRB%\": 19.8, \"TRB%\": 11.3, \"AST%\": 7.4, \"STL%\": 2.5, \"BLK%\": 1.3, \"TOV%\": 11.4, \"USG%\": 0.14002656424437554, \"OWS\": 0.0, \"DWS\": 0.7, \"WS\": 0.7, \"WS/48\": 0.06, \"OBPM\": -2.7, \"DBPM\": 0.1, \"BPM\": -0.19845273736847277, \"VORP\": -0.1, \"pred\": 23}, {\"Player\": \"Serge Ibaka\", \"Pos\": \"C\", \"Age\": 30, \"Tm\": \"TOR\", \"G\": 55, \"MP\": 1485, \"PER\": 17.3, \"TS%\": 0.583, \"3PAr\": 0.272, \"FTr\": 0.185, \"ORB%\": 8.3, \"DRB%\": 23.5, \"TRB%\": 16.1, \"AST%\": 8.6, \"STL%\": 0.9, \"BLK%\": 3.0, \"TOV%\": 13.1, \"USG%\": 1.0100513739115624, \"OWS\": 1.2, \"DWS\": 2.7, \"WS\": 3.9, \"WS/48\": 0.126, \"OBPM\": 0.1, \"DBPM\": 0.0, \"BPM\": 0.45099871761675275, \"VORP\": 0.8, \"pred\": 30}, {\"Player\": \"Andre Iguodala\", \"Pos\": \"SG\", \"Age\": 36, \"Tm\": \"MIA\", \"G\": 21, \"MP\": 418, \"PER\": 10.5, \"TS%\": 0.507, \"3PAr\": 0.534, \"FTr\": 0.17, \"ORB%\": 4.7, \"DRB%\": 15.7, \"TRB%\": 10.4, \"AST%\": 16.9, \"STL%\": 1.6, \"BLK%\": 5.0, \"TOV%\": 21.6, \"USG%\": -0.9963323708311347, \"OWS\": 0.0, \"DWS\": 0.6, \"WS\": 0.6, \"WS/48\": 0.065, \"OBPM\": -1.9, \"DBPM\": 1.4, \"BPM\": 0.3066761720644804, \"VORP\": 0.2, \"pred\": 36}, {\"Player\": \"Ersan \\u0130lyasova\", \"Pos\": \"PF\", \"Age\": 32, \"Tm\": \"MIL\", \"G\": 63, \"MP\": 986, \"PER\": 14.9, \"TS%\": 0.589, \"3PAr\": 0.438, \"FTr\": 0.278, \"ORB%\": 6.6, \"DRB%\": 22.7, \"TRB%\": 15.1, \"AST%\": 6.6, \"STL%\": 1.1, \"BLK%\": 1.5, \"TOV%\": 8.8, \"USG%\": -0.39264168657226967, \"OWS\": 1.6, \"DWS\": 2.0, \"WS\": 3.6, \"WS/48\": 0.174, \"OBPM\": -0.3, \"DBPM\": 0.8, \"BPM\": 0.523159990392889, \"VORP\": 0.6, \"pred\": 32}, {\"Player\": \"Joe Ingles\", \"Pos\": \"SF\", \"Age\": 32, \"Tm\": \"UTA\", \"G\": 72, \"MP\": 2137, \"PER\": 12.6, \"TS%\": 0.595, \"3PAr\": 0.638, \"FTr\": 0.17, \"ORB%\": 1.4, \"DRB%\": 12.5, \"TRB%\": 7.2, \"AST%\": 24.4, \"STL%\": 1.5, \"BLK%\": 0.4, \"TOV%\": 19.3, \"USG%\": -0.5701977701778184, \"OWS\": 2.7, \"DWS\": 2.1, \"WS\": 4.8, \"WS/48\": 0.108, \"OBPM\": 0.0, \"DBPM\": 0.7, \"BPM\": 0.595321263169025, \"VORP\": 1.5, \"pred\": 32}, {\"Player\": \"Brandon Ingram\", \"Pos\": \"PF\", \"Age\": 22, \"Tm\": \"NOP\", \"G\": 62, \"MP\": 2104, \"PER\": 18.8, \"TS%\": 0.587, \"3PAr\": 0.35, \"FTr\": 0.336, \"ORB%\": 2.6, \"DRB%\": 16.6, \"TRB%\": 9.6, \"AST%\": 19.3, \"STL%\": 1.3, \"BLK%\": 1.5, \"TOV%\": 13.1, \"USG%\": 1.7380313166943113, \"OWS\": 3.3, \"DWS\": 1.8, \"WS\": 5.1, \"WS/48\": 0.115, \"OBPM\": 2.5, \"DBPM\": -0.4, \"BPM\": 0.9320738694576606, \"VORP\": 2.2, \"pred\": 22}, {\"Player\": \"Kyrie Irving\", \"Pos\": \"PG\", \"Age\": 27, \"Tm\": \"BRK\", \"G\": 20, \"MP\": 658, \"PER\": 26.2, \"TS%\": 0.595, \"3PAr\": 0.341, \"FTr\": 0.245, \"ORB%\": 3.5, \"DRB%\": 12.5, \"TRB%\": 8.1, \"AST%\": 36.7, \"STL%\": 1.9, \"BLK%\": 1.3, \"TOV%\": 10.1, \"USG%\": 2.537033692919279, \"OWS\": 2.1, \"DWS\": 0.8, \"WS\": 2.9, \"WS/48\": 0.21, \"OBPM\": 6.7, \"DBPM\": 0.9, \"BPM\": 2.2790842946122023, \"VORP\": 1.6, \"pred\": 27}, {\"Player\": \"Jonathan Isaac\", \"Pos\": \"SF\", \"Age\": 22, \"Tm\": \"ORL\", \"G\": 34, \"MP\": 980, \"PER\": 17.3, \"TS%\": 0.552, \"3PAr\": 0.283, \"FTr\": 0.232, \"ORB%\": 6.2, \"DRB%\": 19.6, \"TRB%\": 12.7, \"AST%\": 7.4, \"STL%\": 2.6, \"BLK%\": 7.2, \"TOV%\": 11.8, \"USG%\": -0.0020183026400633066, \"OWS\": 0.6, \"DWS\": 1.9, \"WS\": 2.5, \"WS/48\": 0.12, \"OBPM\": -0.5, \"DBPM\": 2.9, \"BPM\": 0.9801813846417512, \"VORP\": 1.1, \"pred\": 22}, {\"Player\": \"Wesley Iwundu\", \"Pos\": \"SF\", \"Age\": 25, \"Tm\": \"ORL\", \"G\": 52, \"MP\": 953, \"PER\": 10.3, \"TS%\": 0.544, \"3PAr\": 0.352, \"FTr\": 0.416, \"ORB%\": 2.6, \"DRB%\": 12.5, \"TRB%\": 7.4, \"AST%\": 8.8, \"STL%\": 1.3, \"BLK%\": 1.2, \"TOV%\": 8.6, \"USG%\": -0.8187762872255863, \"OWS\": 0.8, \"DWS\": 0.8, \"WS\": 1.7, \"WS/48\": 0.084, \"OBPM\": -2.7, \"DBPM\": 0.0, \"BPM\": -0.19845273736847277, \"VORP\": -0.2, \"pred\": 25}, {\"Player\": \"Frank Jackson\", \"Pos\": \"PG\", \"Age\": 21, \"Tm\": \"NOP\", \"G\": 59, \"MP\": 797, \"PER\": 9.1, \"TS%\": 0.51, \"3PAr\": 0.435, \"FTr\": 0.227, \"ORB%\": 2.9, \"DRB%\": 8.1, \"TRB%\": 5.5, \"AST%\": 10.8, \"STL%\": 1.0, \"BLK%\": 0.4, \"TOV%\": 11.9, \"USG%\": 0.5128943398160268, \"OWS\": -0.2, \"DWS\": 0.3, \"WS\": 0.2, \"WS/48\": 0.01, \"OBPM\": -3.3, \"DBPM\": -2.2, \"BPM\": -0.896011707537789, \"VORP\": -0.7, \"pred\": 21}, {\"Player\": \"Jaren Jackson Jr.\", \"Pos\": \"C\", \"Age\": 20, \"Tm\": \"MEM\", \"G\": 57, \"MP\": 1622, \"PER\": 16.3, \"TS%\": 0.593, \"3PAr\": 0.489, \"FTr\": 0.247, \"ORB%\": 3.6, \"DRB%\": 13.2, \"TRB%\": 8.5, \"AST%\": 7.2, \"STL%\": 1.2, \"BLK%\": 5.0, \"TOV%\": 10.6, \"USG%\": 1.0100513739115624, \"OWS\": 1.6, \"DWS\": 1.8, \"WS\": 3.5, \"WS/48\": 0.103, \"OBPM\": 0.3, \"DBPM\": 0.1, \"BPM\": 0.523159990392889, \"VORP\": 1.0, \"pred\": 20}, {\"Player\": \"Josh Jackson\", \"Pos\": \"SG\", \"Age\": 22, \"Tm\": \"MEM\", \"G\": 22, \"MP\": 381, \"PER\": 14.1, \"TS%\": 0.547, \"3PAr\": 0.453, \"FTr\": 0.314, \"ORB%\": 3.1, \"DRB%\": 14.9, \"TRB%\": 9.1, \"AST%\": 13.1, \"STL%\": 2.2, \"BLK%\": 2.1, \"TOV%\": 13.4, \"USG%\": 0.7969840735849045, \"OWS\": 0.1, \"DWS\": 0.5, \"WS\": 0.5, \"WS/48\": 0.069, \"OBPM\": -1.1, \"DBPM\": 1.1, \"BPM\": 0.42694496002470733, \"VORP\": 0.2, \"pred\": 22}, {\"Player\": \"Justin Jackson\", \"Pos\": \"PF\", \"Age\": 24, \"Tm\": \"DAL\", \"G\": 65, \"MP\": 1045, \"PER\": 9.5, \"TS%\": 0.496, \"3PAr\": 0.478, \"FTr\": 0.147, \"ORB%\": 2.7, \"DRB%\": 12.6, \"TRB%\": 7.7, \"AST%\": 6.8, \"STL%\": 0.7, \"BLK%\": 0.8, \"TOV%\": 3.7, \"USG%\": -0.5169309450961538, \"OWS\": 0.6, \"DWS\": 0.6, \"WS\": 1.2, \"WS/48\": 0.054, \"OBPM\": -2.1, \"DBPM\": -1.3, \"BPM\": -0.39088279810483584, \"VORP\": -0.4, \"pred\": 24}, {\"Player\": \"Reggie Jackson\", \"Pos\": \"PG\", \"Age\": 29, \"Tm\": \"TOT\", \"G\": 31, \"MP\": 743, \"PER\": 13.7, \"TS%\": 0.529, \"3PAr\": 0.445, \"FTr\": 0.166, \"ORB%\": 2.5, \"DRB%\": 10.8, \"TRB%\": 6.7, \"AST%\": 26.2, \"STL%\": 0.8, \"BLK%\": 0.6, \"TOV%\": 12.7, \"USG%\": 0.8502508986665692, \"OWS\": 0.6, \"DWS\": 0.5, \"WS\": 1.1, \"WS/48\": 0.073, \"OBPM\": 0.8, \"DBPM\": -1.2, \"BPM\": 0.33072992965652576, \"VORP\": 0.3, \"pred\": 28}, {\"Player\": \"Reggie Jackson\", \"Pos\": \"PG\", \"Age\": 29, \"Tm\": \"DET\", \"G\": 14, \"MP\": 381, \"PER\": 14.7, \"TS%\": 0.492, \"3PAr\": 0.414, \"FTr\": 0.167, \"ORB%\": 3.2, \"DRB%\": 9.1, \"TRB%\": 6.1, \"AST%\": 30.8, \"STL%\": 1.0, \"BLK%\": 0.2, \"TOV%\": 9.8, \"USG%\": 1.5427196247282078, \"OWS\": 0.2, \"DWS\": 0.1, \"WS\": 0.4, \"WS/48\": 0.047, \"OBPM\": 1.7, \"DBPM\": -2.2, \"BPM\": 0.3066761720644804, \"VORP\": 0.1, \"pred\": 24}, {\"Player\": \"Reggie Jackson\", \"Pos\": \"PG\", \"Age\": 29, \"Tm\": \"LAC\", \"G\": 17, \"MP\": 362, \"PER\": 12.6, \"TS%\": 0.587, \"3PAr\": 0.492, \"FTr\": 0.164, \"ORB%\": 1.8, \"DRB%\": 12.6, \"TRB%\": 7.3, \"AST%\": 21.3, \"STL%\": 0.7, \"BLK%\": 1.0, \"TOV%\": 16.9, \"USG%\": 0.14002656424437554, \"OWS\": 0.4, \"DWS\": 0.4, \"WS\": 0.8, \"WS/48\": 0.1, \"OBPM\": -0.1, \"DBPM\": -0.2, \"BPM\": 0.3547836872485712, \"VORP\": 0.2, \"pred\": 29}, {\"Player\": \"Justin James\", \"Pos\": \"SG\", \"Age\": 23, \"Tm\": \"SAC\", \"G\": 36, \"MP\": 232, \"PER\": 11.0, \"TS%\": 0.477, \"3PAr\": 0.345, \"FTr\": 0.25, \"ORB%\": 2.8, \"DRB%\": 12.9, \"TRB%\": 7.8, \"AST%\": 11.2, \"STL%\": 1.3, \"BLK%\": 3.7, \"TOV%\": 7.9, \"USG%\": 0.10451534752326536, \"OWS\": -0.1, \"DWS\": 0.2, \"WS\": 0.1, \"WS/48\": 0.028, \"OBPM\": -1.4, \"DBPM\": -0.1, \"BPM\": 0.09019235373607193, \"VORP\": 0.0, \"pred\": 23}, {\"Player\": \"LeBron James\", \"Pos\": \"PG\", \"Age\": 35, \"Tm\": \"LAL\", \"G\": 67, \"MP\": 2316, \"PER\": 25.5, \"TS%\": 0.577, \"3PAr\": 0.326, \"FTr\": 0.292, \"ORB%\": 3.2, \"DRB%\": 21.5, \"TRB%\": 12.4, \"AST%\": 49.1, \"STL%\": 1.6, \"BLK%\": 1.4, \"TOV%\": 15.1, \"USG%\": 2.3417220009531756, \"OWS\": 6.2, \"DWS\": 3.6, \"WS\": 9.8, \"WS/48\": 0.204, \"OBPM\": 6.6, \"DBPM\": 1.8, \"BPM\": 2.44746059775652, \"VORP\": 6.1, \"pred\": 35}, {\"Player\": \"Amile Jefferson\", \"Pos\": \"PF\", \"Age\": 26, \"Tm\": \"ORL\", \"G\": 18, \"MP\": 74, \"PER\": 8.9, \"TS%\": 0.372, \"3PAr\": 0.0, \"FTr\": 1.0, \"ORB%\": 14.1, \"DRB%\": 19.5, \"TRB%\": 16.7, \"AST%\": 7.2, \"STL%\": 0.7, \"BLK%\": 3.7, \"TOV%\": 13.0, \"USG%\": -0.8542875039466958, \"OWS\": 0.0, \"DWS\": 0.1, \"WS\": 0.0, \"WS/48\": 0.023, \"OBPM\": -4.8, \"DBPM\": -1.0, \"BPM\": -0.9681729803139252, \"VORP\": -0.1, \"pred\": 26}, {\"Player\": \"DaQuan Jeffries\", \"Pos\": \"SG\", \"Age\": 22, \"Tm\": \"SAC\", \"G\": 13, \"MP\": 141, \"PER\": 11.2, \"TS%\": 0.586, \"3PAr\": 0.45, \"FTr\": 0.15, \"ORB%\": 2.3, \"DRB%\": 12.3, \"TRB%\": 7.2, \"AST%\": 7.1, \"STL%\": 1.4, \"BLK%\": 0.7, \"TOV%\": 4.5, \"USG%\": -0.8187762872255863, \"OWS\": 0.2, \"DWS\": 0.1, \"WS\": 0.3, \"WS/48\": 0.1, \"OBPM\": -2.7, \"DBPM\": -1.1, \"BPM\": -0.4870978284730174, \"VORP\": -0.1, \"pred\": 22}, {\"Player\": \"Ty Jerome\", \"Pos\": \"PG\", \"Age\": 22, \"Tm\": \"PHO\", \"G\": 31, \"MP\": 328, \"PER\": 7.9, \"TS%\": 0.425, \"3PAr\": 0.442, \"FTr\": 0.142, \"ORB%\": 2.3, \"DRB%\": 13.4, \"TRB%\": 7.8, \"AST%\": 18.2, \"STL%\": 2.2, \"BLK%\": 0.8, \"TOV%\": 13.0, \"USG%\": -0.07304073608228305, \"OWS\": -0.3, \"DWS\": 0.3, \"WS\": 0.0, \"WS/48\": -0.003, \"OBPM\": -4.0, \"DBPM\": 0.1, \"BPM\": -0.4870978284730174, \"VORP\": -0.2, \"pred\": 22}, {\"Player\": \"Alize Johnson\", \"Pos\": \"SF\", \"Age\": 23, \"Tm\": \"IND\", \"G\": 17, \"MP\": 118, \"PER\": 13.3, \"TS%\": 0.509, \"3PAr\": 0.276, \"FTr\": 0.345, \"ORB%\": 15.0, \"DRB%\": 29.4, \"TRB%\": 22.3, \"AST%\": 7.7, \"STL%\": 1.2, \"BLK%\": 1.5, \"TOV%\": 17.3, \"USG%\": -0.5879533785383732, \"OWS\": 0.1, \"DWS\": 0.2, \"WS\": 0.3, \"WS/48\": 0.111, \"OBPM\": -1.8, \"DBPM\": 0.3, \"BPM\": 0.06613859614402652, \"VORP\": 0.0, \"pred\": 23}, {\"Player\": \"B.J. Johnson\", \"Pos\": \"SF\", \"Age\": 24, \"Tm\": \"ORL\", \"G\": 10, \"MP\": 83, \"PER\": 5.4, \"TS%\": 0.412, \"3PAr\": 0.281, \"FTr\": 0.313, \"ORB%\": 3.8, \"DRB%\": 16.1, \"TRB%\": 9.7, \"AST%\": 5.1, \"STL%\": 1.8, \"BLK%\": 0.0, \"TOV%\": 14.2, \"USG%\": 0.6726948150610208, \"OWS\": -0.2, \"DWS\": 0.1, \"WS\": -0.1, \"WS/48\": -0.074, \"OBPM\": -5.8, \"DBPM\": -3.2, \"BPM\": -1.7378932232593778, \"VORP\": -0.1, \"pred\": 24}, {\"Player\": \"Cameron Johnson\", \"Pos\": \"PF\", \"Age\": 23, \"Tm\": \"PHO\", \"G\": 57, \"MP\": 1255, \"PER\": 12.9, \"TS%\": 0.586, \"3PAr\": 0.672, \"FTr\": 0.141, \"ORB%\": 4.3, \"DRB%\": 12.4, \"TRB%\": 8.3, \"AST%\": 7.7, \"STL%\": 1.4, \"BLK%\": 1.4, \"TOV%\": 6.9, \"USG%\": -0.4636641200144894, \"OWS\": 1.7, \"DWS\": 1.0, \"WS\": 2.7, \"WS/48\": 0.102, \"OBPM\": 0.8, \"DBPM\": -0.4, \"BPM\": 0.49910623280084354, \"VORP\": 0.7, \"pred\": 23}, {\"Player\": \"James Johnson\", \"Pos\": \"PF\", \"Age\": 32, \"Tm\": \"TOT\", \"G\": 32, \"MP\": 619, \"PER\": 14.8, \"TS%\": 0.572, \"3PAr\": 0.423, \"FTr\": 0.223, \"ORB%\": 4.3, \"DRB%\": 16.3, \"TRB%\": 10.3, \"AST%\": 18.4, \"STL%\": 1.9, \"BLK%\": 4.6, \"TOV%\": 16.9, \"USG%\": 0.19329338932603957, \"OWS\": 0.3, \"DWS\": 0.8, \"WS\": 1.1, \"WS/48\": 0.089, \"OBPM\": -1.1, \"DBPM\": 1.1, \"BPM\": 0.42694496002470733, \"VORP\": 0.3, \"pred\": 32}, {\"Player\": \"James Johnson\", \"Pos\": \"PF\", \"Age\": 32, \"Tm\": \"MIA\", \"G\": 18, \"MP\": 281, \"PER\": 11.1, \"TS%\": 0.547, \"3PAr\": 0.517, \"FTr\": 0.161, \"ORB%\": 3.3, \"DRB%\": 16.9, \"TRB%\": 10.4, \"AST%\": 11.1, \"STL%\": 1.0, \"BLK%\": 4.6, \"TOV%\": 13.9, \"USG%\": -0.23284121132727637, \"OWS\": 0.0, \"DWS\": 0.4, \"WS\": 0.4, \"WS/48\": 0.065, \"OBPM\": -2.6, \"DBPM\": 0.8, \"BPM\": -0.00602267663210966, \"VORP\": 0.0, \"pred\": 22}, {\"Player\": \"James Johnson\", \"Pos\": \"PF\", \"Age\": 32, \"Tm\": \"MIN\", \"G\": 14, \"MP\": 338, \"PER\": 17.9, \"TS%\": 0.588, \"3PAr\": 0.359, \"FTr\": 0.266, \"ORB%\": 5.1, \"DRB%\": 15.9, \"TRB%\": 10.3, \"AST%\": 24.4, \"STL%\": 2.6, \"BLK%\": 4.7, \"TOV%\": 18.8, \"USG%\": 0.5484055565371364, \"OWS\": 0.3, \"DWS\": 0.4, \"WS\": 0.8, \"WS/48\": 0.109, \"OBPM\": 0.1, \"DBPM\": 1.5, \"BPM\": 0.8118050814974337, \"VORP\": 0.3, \"pred\": 32}, {\"Player\": \"Keldon Johnson\", \"Pos\": \"SF\", \"Age\": 20, \"Tm\": \"SAS\", \"G\": 17, \"MP\": 301, \"PER\": 19.1, \"TS%\": 0.711, \"3PAr\": 0.247, \"FTr\": 0.494, \"ORB%\": 3.6, \"DRB%\": 16.8, \"TRB%\": 10.2, \"AST%\": 7.2, \"STL%\": 2.2, \"BLK%\": 0.6, \"TOV%\": 10.7, \"USG%\": -0.16181877788505725, \"OWS\": 0.8, \"DWS\": 0.2, \"WS\": 1.1, \"WS/48\": 0.174, \"OBPM\": 1.5, \"DBPM\": 0.0, \"BPM\": 0.7877513239053882, \"VORP\": 0.3, \"pred\": 20}, {\"Player\": \"Stanley Johnson\", \"Pos\": \"PF\", \"Age\": 23, \"Tm\": \"TOR\", \"G\": 25, \"MP\": 150, \"PER\": 9.9, \"TS%\": 0.454, \"3PAr\": 0.407, \"FTr\": 0.271, \"ORB%\": 5.0, \"DRB%\": 20.6, \"TRB%\": 13.0, \"AST%\": 19.4, \"STL%\": 1.9, \"BLK%\": 2.6, \"TOV%\": 18.5, \"USG%\": 0.8502508986665692, \"OWS\": -0.3, \"DWS\": 0.3, \"WS\": 0.0, \"WS/48\": 0.014, \"OBPM\": -3.9, \"DBPM\": 1.4, \"BPM\": -0.19845273736847277, \"VORP\": 0.0, \"pred\": 23}, {\"Player\": \"Tyler Johnson\", \"Pos\": \"SG\", \"Age\": 27, \"Tm\": \"TOT\", \"G\": 39, \"MP\": 709, \"PER\": 10.1, \"TS%\": 0.504, \"3PAr\": 0.476, \"FTr\": 0.2, \"ORB%\": 2.7, \"DRB%\": 8.9, \"TRB%\": 5.8, \"AST%\": 14.8, \"STL%\": 1.1, \"BLK%\": 1.1, \"TOV%\": 9.6, \"USG%\": -0.05528512772172796, \"OWS\": 0.3, \"DWS\": 0.5, \"WS\": 0.7, \"WS/48\": 0.05, \"OBPM\": -2.0, \"DBPM\": -0.9, \"BPM\": -0.2706140101446089, \"VORP\": -0.2, \"pred\": 27}, {\"Player\": \"Tyler Johnson\", \"Pos\": \"SG\", \"Age\": 27, \"Tm\": \"PHO\", \"G\": 31, \"MP\": 515, \"PER\": 8.1, \"TS%\": 0.481, \"3PAr\": 0.485, \"FTr\": 0.187, \"ORB%\": 2.1, \"DRB%\": 9.2, \"TRB%\": 5.6, \"AST%\": 13.3, \"STL%\": 1.1, \"BLK%\": 1.4, \"TOV%\": 11.5, \"USG%\": -0.17957438624561173, \"OWS\": -0.2, \"DWS\": 0.3, \"WS\": 0.2, \"WS/48\": 0.014, \"OBPM\": -3.0, \"DBPM\": -0.6, \"BPM\": -0.4389903132889267, \"VORP\": -0.2, \"pred\": 27}, {\"Player\": \"Tyler Johnson\", \"Pos\": \"SG\", \"Age\": 27, \"Tm\": \"BRK\", \"G\": 8, \"MP\": 194, \"PER\": 15.6, \"TS%\": 0.552, \"3PAr\": 0.456, \"FTr\": 0.228, \"ORB%\": 4.4, \"DRB%\": 8.4, \"TRB%\": 6.4, \"AST%\": 18.6, \"STL%\": 1.0, \"BLK%\": 0.4, \"TOV%\": 5.4, \"USG%\": 0.2643158227682593, \"OWS\": 0.4, \"DWS\": 0.1, \"WS\": 0.6, \"WS/48\": 0.144, \"OBPM\": 0.6, \"DBPM\": -1.7, \"BPM\": 0.16235362651220805, \"VORP\": 0.0, \"pred\": 27}, {\"Player\": \"Nikola Joki\\u0107\", \"Pos\": \"C\", \"Age\": 24, \"Tm\": \"DEN\", \"G\": 73, \"MP\": 2336, \"PER\": 24.9, \"TS%\": 0.605, \"3PAr\": 0.238, \"FTr\": 0.281, \"ORB%\": 8.0, \"DRB%\": 26.1, \"TRB%\": 17.1, \"AST%\": 35.2, \"STL%\": 1.8, \"BLK%\": 1.7, \"TOV%\": 15.8, \"USG%\": 1.4716971912859886, \"OWS\": 6.7, \"DWS\": 3.1, \"WS\": 9.8, \"WS/48\": 0.202, \"OBPM\": 5.5, \"DBPM\": 2.0, \"BPM\": 2.206923021836066, \"VORP\": 5.5, \"pred\": 26}, {\"Player\": \"Damian Jones\", \"Pos\": \"C\", \"Age\": 24, \"Tm\": \"ATL\", \"G\": 55, \"MP\": 887, \"PER\": 15.6, \"TS%\": 0.712, \"3PAr\": 0.051, \"FTr\": 0.472, \"ORB%\": 8.9, \"DRB%\": 16.2, \"TRB%\": 12.5, \"AST%\": 5.6, \"STL%\": 1.4, \"BLK%\": 3.8, \"TOV%\": 11.5, \"USG%\": -1.2271552795183474, \"OWS\": 2.2, \"DWS\": 0.6, \"WS\": 2.8, \"WS/48\": 0.152, \"OBPM\": -1.6, \"DBPM\": 0.1, \"BPM\": 0.06613859614402652, \"VORP\": 0.1, \"pred\": 24}, {\"Player\": \"Derrick Jones Jr.\", \"Pos\": \"SF\", \"Age\": 22, \"Tm\": \"MIA\", \"G\": 59, \"MP\": 1375, \"PER\": 14.9, \"TS%\": 0.62, \"3PAr\": 0.378, \"FTr\": 0.352, \"ORB%\": 5.6, \"DRB%\": 13.1, \"TRB%\": 9.5, \"AST%\": 6.7, \"STL%\": 2.1, \"BLK%\": 2.7, \"TOV%\": 6.9, \"USG%\": -0.7832650705044764, \"OWS\": 2.6, \"DWS\": 1.8, \"WS\": 4.4, \"WS/48\": 0.153, \"OBPM\": -0.3, \"DBPM\": 1.1, \"BPM\": 0.595321263169025, \"VORP\": 1.0, \"pred\": 32}, {\"Player\": \"Tyus Jones\", \"Pos\": \"PG\", \"Age\": 23, \"Tm\": \"MEM\", \"G\": 65, \"MP\": 1232, \"PER\": 15.7, \"TS%\": 0.532, \"3PAr\": 0.289, \"FTr\": 0.135, \"ORB%\": 0.8, \"DRB%\": 7.9, \"TRB%\": 4.4, \"AST%\": 32.0, \"STL%\": 2.2, \"BLK%\": 0.4, \"TOV%\": 10.8, \"USG%\": -0.19732999460616682, \"OWS\": 1.9, \"DWS\": 1.1, \"WS\": 3.0, \"WS/48\": 0.117, \"OBPM\": 0.4, \"DBPM\": 0.2, \"BPM\": 0.5712675055769797, \"VORP\": 0.8, \"pred\": 23}, {\"Player\": \"DeAndre Jordan\", \"Pos\": \"C\", \"Age\": 31, \"Tm\": \"BRK\", \"G\": 56, \"MP\": 1234, \"PER\": 19.9, \"TS%\": 0.682, \"3PAr\": 0.0, \"FTr\": 0.425, \"ORB%\": 12.1, \"DRB%\": 34.5, \"TRB%\": 23.5, \"AST%\": 12.6, \"STL%\": 0.7, \"BLK%\": 3.5, \"TOV%\": 17.8, \"USG%\": -0.7477538537833668, \"OWS\": 3.0, \"DWS\": 2.2, \"WS\": 5.2, \"WS/48\": 0.2, \"OBPM\": 1.2, \"DBPM\": 1.8, \"BPM\": 1.148557687786069, \"VORP\": 1.5, \"pred\": 31}, {\"Player\": \"Cory Joseph\", \"Pos\": \"PG\", \"Age\": 28, \"Tm\": \"SAC\", \"G\": 72, \"MP\": 1759, \"PER\": 10.1, \"TS%\": 0.517, \"3PAr\": 0.386, \"FTr\": 0.17, \"ORB%\": 2.7, \"DRB%\": 9.4, \"TRB%\": 6.0, \"AST%\": 19.1, \"STL%\": 1.5, \"BLK%\": 1.1, \"TOV%\": 15.3, \"USG%\": -0.9608211541100248, \"OWS\": 1.2, \"DWS\": 1.1, \"WS\": 2.3, \"WS/48\": 0.062, \"OBPM\": -2.1, \"DBPM\": 0.1, \"BPM\": -0.05413019181620043, \"VORP\": 0.0, \"pred\": 28}, {\"Player\": \"Mfiondu Kabengele\", \"Pos\": \"C\", \"Age\": 22, \"Tm\": \"LAC\", \"G\": 12, \"MP\": 64, \"PER\": 18.2, \"TS%\": 0.614, \"3PAr\": 0.625, \"FTr\": 0.156, \"ORB%\": 1.7, \"DRB%\": 15.8, \"TRB%\": 8.9, \"AST%\": 4.9, \"STL%\": 1.5, \"BLK%\": 2.8, \"TOV%\": 5.5, \"USG%\": 0.9567845488298978, \"OWS\": 0.1, \"DWS\": 0.1, \"WS\": 0.2, \"WS/48\": 0.173, \"OBPM\": 2.3, \"DBPM\": -0.1, \"BPM\": 0.9561276270497059, \"VORP\": 0.1, \"pred\": 22}, {\"Player\": \"Frank Kaminsky\", \"Pos\": \"C\", \"Age\": 26, \"Tm\": \"PHO\", \"G\": 39, \"MP\": 777, \"PER\": 14.2, \"TS%\": 0.545, \"3PAr\": 0.404, \"FTr\": 0.293, \"ORB%\": 4.9, \"DRB%\": 20.4, \"TRB%\": 12.6, \"AST%\": 14.3, \"STL%\": 0.9, \"BLK%\": 1.1, \"TOV%\": 9.6, \"USG%\": 0.47738312309491726, \"OWS\": 0.7, \"DWS\": 0.7, \"WS\": 1.4, \"WS/48\": 0.087, \"OBPM\": -0.1, \"DBPM\": -0.4, \"BPM\": 0.3066761720644804, \"VORP\": 0.3, \"pred\": 26}, {\"Player\": \"Enes Kanter\", \"Pos\": \"C\", \"Age\": 27, \"Tm\": \"BOS\", \"G\": 58, \"MP\": 983, \"PER\": 22.4, \"TS%\": 0.599, \"3PAr\": 0.02, \"FTr\": 0.284, \"ORB%\": 18.0, \"DRB%\": 28.9, \"TRB%\": 23.5, \"AST%\": 8.8, \"STL%\": 1.1, \"BLK%\": 3.9, \"TOV%\": 12.5, \"USG%\": 0.19329338932603957, \"OWS\": 2.6, \"DWS\": 1.8, \"WS\": 4.4, \"WS/48\": 0.214, \"OBPM\": 1.8, \"DBPM\": -0.3, \"BPM\": 0.7877513239053882, \"VORP\": 0.9, \"pred\": 27}, {\"Player\": \"Luke Kennard\", \"Pos\": \"SG\", \"Age\": 23, \"Tm\": \"DET\", \"G\": 28, \"MP\": 922, \"PER\": 14.4, \"TS%\": 0.589, \"3PAr\": 0.535, \"FTr\": 0.219, \"ORB%\": 1.1, \"DRB%\": 11.1, \"TRB%\": 6.0, \"AST%\": 19.2, \"STL%\": 0.6, \"BLK%\": 0.5, \"TOV%\": 10.3, \"USG%\": 0.2643158227682593, \"OWS\": 1.6, \"DWS\": 0.3, \"WS\": 1.9, \"WS/48\": 0.1, \"OBPM\": 1.1, \"DBPM\": -1.4, \"BPM\": 0.3547836872485712, \"VORP\": 0.4, \"pred\": 23}, {\"Player\": \"Stanton Kidd\", \"Pos\": \"SF\", \"Age\": 27, \"Tm\": \"UTA\", \"G\": 4, \"MP\": 15, \"PER\": -13.7, \"TS%\": 0.0, \"3PAr\": 0.333, \"FTr\": 0.0, \"ORB%\": 0.0, \"DRB%\": 21.3, \"TRB%\": 11.0, \"AST%\": 8.0, \"STL%\": 0.0, \"BLK%\": 0.0, \"TOV%\": 40.0, \"USG%\": -0.6589758119805926, \"OWS\": -0.1, \"DWS\": 0.0, \"WS\": -0.1, \"WS/48\": -0.327, \"OBPM\": -15.7, \"DBPM\": -1.3, \"BPM\": -3.662193830623009, \"VORP\": -0.1, \"pred\": 27}, {\"Player\": \"Michael Kidd-Gilchrist\", \"Pos\": \"SF-PF\", \"Age\": 26, \"Tm\": \"TOT\", \"G\": 25, \"MP\": 281, \"PER\": 4.2, \"TS%\": 0.416, \"3PAr\": 0.303, \"FTr\": 0.212, \"ORB%\": 5.3, \"DRB%\": 20.4, \"TRB%\": 12.8, \"AST%\": 7.1, \"STL%\": 0.3, \"BLK%\": 1.9, \"TOV%\": 18.1, \"USG%\": -0.8187762872255863, \"OWS\": -0.4, \"DWS\": 0.2, \"WS\": -0.2, \"WS/48\": -0.03, \"OBPM\": -6.3, \"DBPM\": -1.1, \"BPM\": -1.3530331017866515, \"VORP\": -0.4, \"pred\": 26}, {\"Player\": \"Michael Kidd-Gilchrist\", \"Pos\": \"PF\", \"Age\": 26, \"Tm\": \"CHO\", \"G\": 12, \"MP\": 160, \"PER\": 6.1, \"TS%\": 0.421, \"3PAr\": 0.321, \"FTr\": 0.17, \"ORB%\": 5.9, \"DRB%\": 18.4, \"TRB%\": 11.9, \"AST%\": 9.5, \"STL%\": 0.0, \"BLK%\": 1.7, \"TOV%\": 10.9, \"USG%\": -0.12630756116394706, \"OWS\": -0.2, \"DWS\": 0.1, \"WS\": -0.1, \"WS/48\": -0.028, \"OBPM\": -5.3, \"DBPM\": -1.6, \"BPM\": -1.2327643138264246, \"VORP\": -0.2, \"pred\": 22}, {\"Player\": \"Michael Kidd-Gilchrist\", \"Pos\": \"SF\", \"Age\": 26, \"Tm\": \"DAL\", \"G\": 13, \"MP\": 121, \"PER\": 1.7, \"TS%\": 0.395, \"3PAr\": 0.231, \"FTr\": 0.385, \"ORB%\": 4.4, \"DRB%\": 23.1, \"TRB%\": 13.9, \"AST%\": 4.0, \"STL%\": 0.8, \"BLK%\": 2.1, \"TOV%\": 37.2, \"USG%\": -1.742067921974438, \"OWS\": -0.2, \"DWS\": 0.1, \"WS\": -0.1, \"WS/48\": -0.032, \"OBPM\": -7.6, \"DBPM\": -0.4, \"BPM\": -1.4973556473389238, \"VORP\": -0.2, \"pred\": 26}, {\"Player\": \"Louis King\", \"Pos\": \"SF\", \"Age\": 20, \"Tm\": \"DET\", \"G\": 10, \"MP\": 62, \"PER\": 6.2, \"TS%\": 0.448, \"3PAr\": 0.524, \"FTr\": 0.143, \"ORB%\": 1.8, \"DRB%\": 16.7, \"TRB%\": 9.2, \"AST%\": 11.8, \"STL%\": 1.6, \"BLK%\": 0.0, \"TOV%\": 8.2, \"USG%\": -0.21508560296672127, \"OWS\": -0.1, \"DWS\": 0.0, \"WS\": 0.0, \"WS/48\": -0.007, \"OBPM\": -5.1, \"DBPM\": -1.1, \"BPM\": -1.0643880106821069, \"VORP\": -0.1, \"pred\": 20}, {\"Player\": \"Maxi Kleber\", \"Pos\": \"C\", \"Age\": 28, \"Tm\": \"DAL\", \"G\": 74, \"MP\": 1890, \"PER\": 13.6, \"TS%\": 0.605, \"3PAr\": 0.621, \"FTr\": 0.181, \"ORB%\": 6.3, \"DRB%\": 15.1, \"TRB%\": 10.8, \"AST%\": 6.3, \"STL%\": 0.6, \"BLK%\": 3.8, \"TOV%\": 9.5, \"USG%\": -0.7832650705044764, \"OWS\": 3.2, \"DWS\": 1.7, \"WS\": 4.8, \"WS/48\": 0.123, \"OBPM\": 0.4, \"DBPM\": 0.0, \"BPM\": 0.523159990392889, \"VORP\": 1.1, \"pred\": 28}, {\"Player\": \"Brandon Knight\", \"Pos\": \"PG\", \"Age\": 28, \"Tm\": \"TOT\", \"G\": 25, \"MP\": 462, \"PER\": 8.5, \"TS%\": 0.503, \"3PAr\": 0.784, \"FTr\": 0.204, \"ORB%\": 1.0, \"DRB%\": 9.1, \"TRB%\": 5.0, \"AST%\": 21.6, \"STL%\": 1.1, \"BLK%\": 0.6, \"TOV%\": 17.3, \"USG%\": 0.40636068965269817, \"OWS\": -0.2, \"DWS\": 0.1, \"WS\": -0.1, \"WS/48\": -0.01, \"OBPM\": -1.8, \"DBPM\": -2.6, \"BPM\": -0.6314203740252899, \"VORP\": -0.3, \"pred\": 28}, {\"Player\": \"Brandon Knight\", \"Pos\": \"PG\", \"Age\": 28, \"Tm\": \"CLE\", \"G\": 16, \"MP\": 241, \"PER\": 5.4, \"TS%\": 0.431, \"3PAr\": 0.744, \"FTr\": 0.151, \"ORB%\": 1.4, \"DRB%\": 7.9, \"TRB%\": 4.6, \"AST%\": 18.0, \"STL%\": 1.0, \"BLK%\": 0.7, \"TOV%\": 14.9, \"USG%\": 0.14002656424437554, \"OWS\": -0.3, \"DWS\": 0.0, \"WS\": -0.3, \"WS/48\": -0.062, \"OBPM\": -3.9, \"DBPM\": -2.7, \"BPM\": -1.1846567986423338, \"VORP\": -0.3, \"pred\": 26}, {\"Player\": \"Brandon Knight\", \"Pos\": \"PG\", \"Age\": 28, \"Tm\": \"DET\", \"G\": 9, \"MP\": 221, \"PER\": 11.9, \"TS%\": 0.576, \"3PAr\": 0.827, \"FTr\": 0.259, \"ORB%\": 0.5, \"DRB%\": 10.4, \"TRB%\": 5.4, \"AST%\": 25.6, \"STL%\": 1.1, \"BLK%\": 0.4, \"TOV%\": 19.6, \"USG%\": 0.6904504234215753, \"OWS\": 0.1, \"DWS\": 0.1, \"WS\": 0.2, \"WS/48\": 0.046, \"OBPM\": 0.5, \"DBPM\": -2.5, \"BPM\": -0.05413019181620043, \"VORP\": 0.0, \"pred\": 28}, {\"Player\": \"Kevin Knox\", \"Pos\": \"SF\", \"Age\": 20, \"Tm\": \"NYK\", \"G\": 65, \"MP\": 1166, \"PER\": 8.3, \"TS%\": 0.47, \"3PAr\": 0.496, \"FTr\": 0.252, \"ORB%\": 2.5, \"DRB%\": 14.7, \"TRB%\": 8.4, \"AST%\": 7.4, \"STL%\": 1.0, \"BLK%\": 2.3, \"TOV%\": 9.2, \"USG%\": -0.09079634444283752, \"OWS\": -0.5, \"DWS\": 0.7, \"WS\": 0.2, \"WS/48\": 0.007, \"OBPM\": -3.1, \"DBPM\": -1.1, \"BPM\": -0.5833128588411991, \"VORP\": -0.7, \"pred\": 20}, {\"Player\": \"John Konchar\", \"Pos\": \"SG\", \"Age\": 23, \"Tm\": \"MEM\", \"G\": 19, \"MP\": 181, \"PER\": 18.0, \"TS%\": 0.713, \"3PAr\": 0.27, \"FTr\": 0.054, \"ORB%\": 10.7, \"DRB%\": 16.6, \"TRB%\": 13.7, \"AST%\": 16.2, \"STL%\": 1.8, \"BLK%\": 1.5, \"TOV%\": 15.6, \"USG%\": -1.4224669714844507, \"OWS\": 0.5, \"DWS\": 0.2, \"WS\": 0.7, \"WS/48\": 0.182, \"OBPM\": 2.5, \"DBPM\": 2.0, \"BPM\": 1.5093640516667497, \"VORP\": 0.3, \"pred\": 23}, {\"Player\": \"Furkan Korkmaz\", \"Pos\": \"SG\", \"Age\": 22, \"Tm\": \"PHI\", \"G\": 72, \"MP\": 1559, \"PER\": 12.0, \"TS%\": 0.579, \"3PAr\": 0.632, \"FTr\": 0.181, \"ORB%\": 1.3, \"DRB%\": 10.6, \"TRB%\": 6.0, \"AST%\": 7.3, \"STL%\": 1.3, \"BLK%\": 0.9, \"TOV%\": 8.8, \"USG%\": 0.015737305720491156, \"OWS\": 1.4, \"DWS\": 1.4, \"WS\": 2.8, \"WS/48\": 0.085, \"OBPM\": -0.3, \"DBPM\": -1.0, \"BPM\": 0.11424611132811728, \"VORP\": 0.3, \"pred\": 22}, {\"Player\": \"Luke Kornet\", \"Pos\": \"C\", \"Age\": 24, \"Tm\": \"CHI\", \"G\": 36, \"MP\": 559, \"PER\": 12.7, \"TS%\": 0.539, \"3PAr\": 0.578, \"FTr\": 0.15, \"ORB%\": 4.1, \"DRB%\": 12.9, \"TRB%\": 8.3, \"AST%\": 8.5, \"STL%\": 0.9, \"BLK%\": 4.4, \"TOV%\": 6.6, \"USG%\": -0.35713046985116015, \"OWS\": 0.5, \"DWS\": 0.6, \"WS\": 1.1, \"WS/48\": 0.091, \"OBPM\": -0.9, \"DBPM\": -0.2, \"BPM\": 0.1382998689201627, \"VORP\": 0.1, \"pred\": 24}, {\"Player\": \"Kyle Korver\", \"Pos\": \"SF\", \"Age\": 38, \"Tm\": \"MIL\", \"G\": 58, \"MP\": 960, \"PER\": 11.3, \"TS%\": 0.62, \"3PAr\": 0.809, \"FTr\": 0.14, \"ORB%\": 1.6, \"DRB%\": 10.4, \"TRB%\": 6.3, \"AST%\": 9.2, \"STL%\": 1.2, \"BLK%\": 1.1, \"TOV%\": 13.4, \"USG%\": -0.5169309450961538, \"OWS\": 0.9, \"DWS\": 1.5, \"WS\": 2.5, \"WS/48\": 0.124, \"OBPM\": -0.6, \"DBPM\": 0.7, \"BPM\": 0.45099871761675275, \"VORP\": 0.5, \"pred\": 38}, {\"Player\": \"Rodions Kurucs\", \"Pos\": \"PF\", \"Age\": 21, \"Tm\": \"BRK\", \"G\": 47, \"MP\": 684, \"PER\": 8.9, \"TS%\": 0.555, \"3PAr\": 0.508, \"FTr\": 0.215, \"ORB%\": 3.9, \"DRB%\": 16.6, \"TRB%\": 10.4, \"AST%\": 10.4, \"STL%\": 1.7, \"BLK%\": 0.6, \"TOV%\": 19.2, \"USG%\": -0.6412202036200378, \"OWS\": -0.1, \"DWS\": 0.8, \"WS\": 0.8, \"WS/48\": 0.055, \"OBPM\": -3.6, \"DBPM\": 0.8, \"BPM\": -0.2465602525525635, \"VORP\": -0.1, \"pred\": 21}, {\"Player\": \"Kyle Kuzma\", \"Pos\": \"PF\", \"Age\": 24, \"Tm\": \"LAL\", \"G\": 61, \"MP\": 1526, \"PER\": 12.2, \"TS%\": 0.531, \"3PAr\": 0.407, \"FTr\": 0.232, \"ORB%\": 3.8, \"DRB%\": 15.7, \"TRB%\": 9.8, \"AST%\": 7.6, \"STL%\": 0.9, \"BLK%\": 1.5, \"TOV%\": 11.0, \"USG%\": 0.814739681945459, \"OWS\": 0.1, \"DWS\": 1.9, \"WS\": 2.0, \"WS/48\": 0.063, \"OBPM\": -1.6, \"DBPM\": -1.0, \"BPM\": -0.19845273736847277, \"VORP\": -0.2, \"pred\": 23}, {\"Player\": \"Skal Labissi\\u00e8re\", \"Pos\": \"C\", \"Age\": 23, \"Tm\": \"POR\", \"G\": 33, \"MP\": 567, \"PER\": 15.4, \"TS%\": 0.588, \"3PAr\": 0.088, \"FTr\": 0.224, \"ORB%\": 12.1, \"DRB%\": 19.0, \"TRB%\": 15.6, \"AST%\": 10.1, \"STL%\": 0.6, \"BLK%\": 4.7, \"TOV%\": 15.7, \"USG%\": -0.712242637062257, \"OWS\": 1.0, \"DWS\": 0.4, \"WS\": 1.4, \"WS/48\": 0.119, \"OBPM\": -1.5, \"DBPM\": 0.2, \"BPM\": 0.11424611132811728, \"VORP\": 0.1, \"pred\": 23}, {\"Player\": \"Jeremy Lamb\", \"Pos\": \"SG\", \"Age\": 27, \"Tm\": \"IND\", \"G\": 46, \"MP\": 1291, \"PER\": 14.0, \"TS%\": 0.547, \"3PAr\": 0.33, \"FTr\": 0.23, \"ORB%\": 2.1, \"DRB%\": 14.8, \"TRB%\": 8.5, \"AST%\": 10.5, \"STL%\": 2.1, \"BLK%\": 1.5, \"TOV%\": 8.7, \"USG%\": 0.22880460604714975, \"OWS\": 0.9, \"DWS\": 1.8, \"WS\": 2.7, \"WS/48\": 0.099, \"OBPM\": -1.1, \"DBPM\": 0.8, \"BPM\": 0.33072992965652576, \"VORP\": 0.5, \"pred\": 27}, {\"Player\": \"Romeo Langford\", \"Pos\": \"SG\", \"Age\": 20, \"Tm\": \"BOS\", \"G\": 32, \"MP\": 370, \"PER\": 5.4, \"TS%\": 0.434, \"3PAr\": 0.338, \"FTr\": 0.313, \"ORB%\": 4.4, \"DRB%\": 7.4, \"TRB%\": 5.9, \"AST%\": 4.5, \"STL%\": 1.0, \"BLK%\": 2.0, \"TOV%\": 10.8, \"USG%\": -1.156132846076128, \"OWS\": -0.2, \"DWS\": 0.4, \"WS\": 0.2, \"WS/48\": 0.025, \"OBPM\": -4.7, \"DBPM\": -0.3, \"BPM\": -0.7516891619855168, \"VORP\": -0.3, \"pred\": 20}, {\"Player\": \"Zach LaVine\", \"Pos\": \"SG\", \"Age\": 24, \"Tm\": \"CHI\", \"G\": 60, \"MP\": 2085, \"PER\": 19.4, \"TS%\": 0.568, \"3PAr\": 0.404, \"FTr\": 0.279, \"ORB%\": 2.1, \"DRB%\": 13.8, \"TRB%\": 7.7, \"AST%\": 21.7, \"STL%\": 2.0, \"BLK%\": 1.3, \"TOV%\": 13.3, \"USG%\": 2.377233217674285, \"OWS\": 1.8, \"DWS\": 2.2, \"WS\": 4.0, \"WS/48\": 0.091, \"OBPM\": 3.2, \"DBPM\": -0.8, \"BPM\": 1.0042351422337967, \"VORP\": 2.4, \"pred\": 31}, {\"Player\": \"Vic Law\", \"Pos\": \"SF\", \"Age\": 24, \"Tm\": \"ORL\", \"G\": 8, \"MP\": 62, \"PER\": 3.7, \"TS%\": 0.363, \"3PAr\": 0.389, \"FTr\": 0.333, \"ORB%\": 3.4, \"DRB%\": 16.2, \"TRB%\": 9.6, \"AST%\": 6.7, \"STL%\": 1.6, \"BLK%\": 0.0, \"TOV%\": 8.8, \"USG%\": -0.44590851165393436, \"OWS\": -0.1, \"DWS\": 0.1, \"WS\": -0.1, \"WS/48\": -0.052, \"OBPM\": -7.1, \"DBPM\": -2.5, \"BPM\": -1.8822157688116499, \"VORP\": -0.1, \"pred\": 24}, {\"Player\": \"Jake Layman\", \"Pos\": \"PF\", \"Age\": 25, \"Tm\": \"MIN\", \"G\": 23, \"MP\": 505, \"PER\": 10.3, \"TS%\": 0.544, \"3PAr\": 0.402, \"FTr\": 0.179, \"ORB%\": 3.4, \"DRB%\": 8.7, \"TRB%\": 6.0, \"AST%\": 4.4, \"STL%\": 1.6, \"BLK%\": 1.6, \"TOV%\": 11.1, \"USG%\": -0.10855195280339261, \"OWS\": 0.0, \"DWS\": 0.3, \"WS\": 0.3, \"WS/48\": 0.03, \"OBPM\": -2.7, \"DBPM\": -1.0, \"BPM\": -0.46304407088097205, \"VORP\": -0.2, \"pred\": 25}, {\"Player\": \"T.J. Leaf\", \"Pos\": \"PF\", \"Age\": 22, \"Tm\": \"IND\", \"G\": 28, \"MP\": 222, \"PER\": 12.9, \"TS%\": 0.451, \"3PAr\": 0.209, \"FTr\": 0.186, \"ORB%\": 11.5, \"DRB%\": 23.5, \"TRB%\": 17.5, \"AST%\": 5.7, \"STL%\": 2.2, \"BLK%\": 1.6, \"TOV%\": 7.9, \"USG%\": 0.29982703948936884, \"OWS\": -0.1, \"DWS\": 0.4, \"WS\": 0.3, \"WS/48\": 0.061, \"OBPM\": -2.5, \"DBPM\": 0.1, \"BPM\": -0.15034522218438195, \"VORP\": 0.0, \"pred\": 21}, {\"Player\": \"Jalen Lecque\", \"Pos\": \"PG\", \"Age\": 19, \"Tm\": \"PHO\", \"G\": 5, \"MP\": 32, \"PER\": 2.7, \"TS%\": 0.46, \"3PAr\": 0.4, \"FTr\": 0.2, \"ORB%\": 0.0, \"DRB%\": 7.0, \"TRB%\": 3.5, \"AST%\": 8.6, \"STL%\": 0.0, \"BLK%\": 0.0, \"TOV%\": 15.5, \"USG%\": -0.21508560296672127, \"OWS\": 0.0, \"DWS\": 0.0, \"WS\": 0.0, \"WS/48\": -0.065, \"OBPM\": -7.1, \"DBPM\": -2.9, \"BPM\": -1.9784307991798316, \"VORP\": -0.1, \"pred\": 19}, {\"Player\": \"Courtney Lee\", \"Pos\": \"SG\", \"Age\": 34, \"Tm\": \"DAL\", \"G\": 24, \"MP\": 345, \"PER\": 10.8, \"TS%\": 0.629, \"3PAr\": 0.573, \"FTr\": 0.085, \"ORB%\": 2.2, \"DRB%\": 7.5, \"TRB%\": 4.9, \"AST%\": 4.7, \"STL%\": 2.5, \"BLK%\": 1.5, \"TOV%\": 11.4, \"USG%\": -1.1383772377155732, \"OWS\": 0.3, \"DWS\": 0.3, \"WS\": 0.7, \"WS/48\": 0.092, \"OBPM\": -2.1, \"DBPM\": 1.5, \"BPM\": 0.282622414472435, \"VORP\": 0.1, \"pred\": 34}, {\"Player\": \"Damion Lee\", \"Pos\": \"SG\", \"Age\": 27, \"Tm\": \"GSW\", \"G\": 49, \"MP\": 1423, \"PER\": 12.7, \"TS%\": 0.548, \"3PAr\": 0.468, \"FTr\": 0.247, \"ORB%\": 2.4, \"DRB%\": 16.3, \"TRB%\": 9.1, \"AST%\": 14.4, \"STL%\": 1.7, \"BLK%\": 0.4, \"TOV%\": 10.6, \"USG%\": 0.12227095588382046, \"OWS\": 0.9, \"DWS\": 0.8, \"WS\": 1.7, \"WS/48\": 0.058, \"OBPM\": -1.5, \"DBPM\": -0.8, \"BPM\": -0.12629146459233656, \"VORP\": -0.1, \"pred\": 27}, {\"Player\": \"Alex Len\", \"Pos\": \"C\", \"Age\": 26, \"Tm\": \"TOT\", \"G\": 55, \"MP\": 970, \"PER\": 17.7, \"TS%\": 0.6, \"3PAr\": 0.185, \"FTr\": 0.329, \"ORB%\": 11.1, \"DRB%\": 25.2, \"TRB%\": 18.0, \"AST%\": 7.9, \"STL%\": 1.1, \"BLK%\": 4.3, \"TOV%\": 13.1, \"USG%\": -0.03752951936117286, \"OWS\": 1.5, \"DWS\": 1.0, \"WS\": 2.5, \"WS/48\": 0.122, \"OBPM\": -0.5, \"DBPM\": -0.3, \"BPM\": 0.25856865688038966, \"VORP\": 0.3, \"pred\": 26}, {\"Player\": \"Alex Len\", \"Pos\": \"C\", \"Age\": 26, \"Tm\": \"ATL\", \"G\": 40, \"MP\": 745, \"PER\": 17.5, \"TS%\": 0.59, \"3PAr\": 0.215, \"FTr\": 0.312, \"ORB%\": 9.8, \"DRB%\": 23.6, \"TRB%\": 16.6, \"AST%\": 8.7, \"STL%\": 1.3, \"BLK%\": 3.7, \"TOV%\": 11.7, \"USG%\": 0.051248522441601344, \"OWS\": 1.1, \"DWS\": 0.6, \"WS\": 1.8, \"WS/48\": 0.113, \"OBPM\": -0.2, \"DBPM\": -0.2, \"BPM\": 0.33072992965652576, \"VORP\": 0.3, \"pred\": 26}, {\"Player\": \"Alex Len\", \"Pos\": \"C\", \"Age\": 26, \"Tm\": \"SAC\", \"G\": 15, \"MP\": 225, \"PER\": 18.2, \"TS%\": 0.64, \"3PAr\": 0.051, \"FTr\": 0.407, \"ORB%\": 15.1, \"DRB%\": 30.8, \"TRB%\": 22.8, \"AST%\": 5.2, \"STL%\": 0.6, \"BLK%\": 6.4, \"TOV%\": 18.7, \"USG%\": -0.3216192531300506, \"OWS\": 0.4, \"DWS\": 0.3, \"WS\": 0.7, \"WS/48\": 0.15, \"OBPM\": -1.3, \"DBPM\": -0.3, \"BPM\": 0.042084838551981106, \"VORP\": 0.0, \"pred\": 26}, {\"Player\": \"Kawhi Leonard\", \"Pos\": \"SF\", \"Age\": 28, \"Tm\": \"LAC\", \"G\": 57, \"MP\": 1848, \"PER\": 26.9, \"TS%\": 0.589, \"3PAr\": 0.287, \"FTr\": 0.355, \"ORB%\": 3.1, \"DRB%\": 19.1, \"TRB%\": 11.3, \"AST%\": 26.4, \"STL%\": 2.6, \"BLK%\": 1.6, \"TOV%\": 10.2, \"USG%\": 2.608056126361498, \"OWS\": 5.4, \"DWS\": 3.3, \"WS\": 8.7, \"WS/48\": 0.226, \"OBPM\": 6.5, \"DBPM\": 2.4, \"BPM\": 2.567729385716747, \"VORP\": 5.1, \"pred\": 28}, {\"Player\": \"Meyers Leonard\", \"Pos\": \"C\", \"Age\": 27, \"Tm\": \"MIA\", \"G\": 51, \"MP\": 1034, \"PER\": 10.6, \"TS%\": 0.627, \"3PAr\": 0.547, \"FTr\": 0.12, \"ORB%\": 3.4, \"DRB%\": 24.0, \"TRB%\": 14.1, \"AST%\": 7.6, \"STL%\": 0.7, \"BLK%\": 1.4, \"TOV%\": 13.7, \"USG%\": -1.0851104126339088, \"OWS\": 0.9, \"DWS\": 1.2, \"WS\": 2.1, \"WS/48\": 0.096, \"OBPM\": -1.3, \"DBPM\": 0.4, \"BPM\": 0.21046114169629884, \"VORP\": 0.3, \"pred\": 27}, {\"Player\": \"Caris LeVert\", \"Pos\": \"SG\", \"Age\": 25, \"Tm\": \"BRK\", \"G\": 45, \"MP\": 1330, \"PER\": 16.1, \"TS%\": 0.514, \"3PAr\": 0.301, \"FTr\": 0.269, \"ORB%\": 3.9, \"DRB%\": 10.7, \"TRB%\": 7.4, \"AST%\": 25.0, \"STL%\": 1.9, \"BLK%\": 0.6, \"TOV%\": 12.6, \"USG%\": 1.9866098337420788, \"OWS\": 0.1, \"DWS\": 1.4, \"WS\": 1.5, \"WS/48\": 0.055, \"OBPM\": 0.6, \"DBPM\": -0.9, \"BPM\": 0.3547836872485712, \"VORP\": 0.5, \"pred\": 25}, {\"Player\": \"Damian Lillard\", \"Pos\": \"PG\", \"Age\": 29, \"Tm\": \"POR\", \"G\": 66, \"MP\": 2474, \"PER\": 26.9, \"TS%\": 0.627, \"3PAr\": 0.5, \"FTr\": 0.384, \"ORB%\": 1.4, \"DRB%\": 10.5, \"TRB%\": 6.0, \"AST%\": 34.4, \"STL%\": 1.3, \"BLK%\": 0.8, \"TOV%\": 11.0, \"USG%\": 2.1286547006265177, \"OWS\": 10.9, \"DWS\": 0.7, \"WS\": 11.6, \"WS/48\": 0.225, \"OBPM\": 8.3, \"DBPM\": -0.9, \"BPM\": 2.2309767794281115, \"VORP\": 5.9, \"pred\": 29}, {\"Player\": \"Nassir Little\", \"Pos\": \"PF\", \"Age\": 19, \"Tm\": \"POR\", \"G\": 48, \"MP\": 573, \"PER\": 9.6, \"TS%\": 0.505, \"3PAr\": 0.391, \"FTr\": 0.291, \"ORB%\": 5.7, \"DRB%\": 13.9, \"TRB%\": 9.9, \"AST%\": 5.0, \"STL%\": 1.1, \"BLK%\": 2.1, \"TOV%\": 8.1, \"USG%\": -0.8187762872255863, \"OWS\": 0.3, \"DWS\": 0.3, \"WS\": 0.6, \"WS/48\": 0.047, \"OBPM\": -2.9, \"DBPM\": -0.6, \"BPM\": -0.41493655569688126, \"VORP\": -0.2, \"pred\": 22}, {\"Player\": \"Kevon Looney\", \"Pos\": \"C\", \"Age\": 23, \"Tm\": \"GSW\", \"G\": 20, \"MP\": 262, \"PER\": 9.4, \"TS%\": 0.403, \"3PAr\": 0.177, \"FTr\": 0.152, \"ORB%\": 11.2, \"DRB%\": 16.3, \"TRB%\": 13.6, \"AST%\": 11.1, \"STL%\": 2.2, \"BLK%\": 2.1, \"TOV%\": 12.5, \"USG%\": -0.4636641200144894, \"OWS\": -0.2, \"DWS\": 0.2, \"WS\": 0.0, \"WS/48\": 0.006, \"OBPM\": -4.8, \"DBPM\": -0.8, \"BPM\": -0.9200654651298343, \"VORP\": -0.2, \"pred\": 23}, {\"Player\": \"Brook Lopez\", \"Pos\": \"C\", \"Age\": 31, \"Tm\": \"MIL\", \"G\": 68, \"MP\": 1817, \"PER\": 15.0, \"TS%\": 0.551, \"3PAr\": 0.484, \"FTr\": 0.227, \"ORB%\": 3.4, \"DRB%\": 13.0, \"TRB%\": 8.5, \"AST%\": 7.4, \"STL%\": 1.2, \"BLK%\": 7.9, \"TOV%\": 8.7, \"USG%\": -0.0020183026400633066, \"OWS\": 1.4, \"DWS\": 4.1, \"WS\": 5.5, \"WS/48\": 0.145, \"OBPM\": -0.4, \"DBPM\": 2.5, \"BPM\": 0.908020111865615, \"VORP\": 1.9, \"pred\": 29}, {\"Player\": \"Robin Lopez\", \"Pos\": \"C\", \"Age\": 31, \"Tm\": \"MIL\", \"G\": 66, \"MP\": 958, \"PER\": 10.2, \"TS%\": 0.554, \"3PAr\": 0.351, \"FTr\": 0.177, \"ORB%\": 6.2, \"DRB%\": 10.2, \"TRB%\": 8.3, \"AST%\": 6.3, \"STL%\": 0.5, \"BLK%\": 4.1, \"TOV%\": 16.4, \"USG%\": -0.30386364476949546, \"OWS\": -0.1, \"DWS\": 1.6, \"WS\": 1.5, \"WS/48\": 0.077, \"OBPM\": -3.0, \"DBPM\": 0.4, \"BPM\": -0.19845273736847277, \"VORP\": -0.2, \"pred\": 24}, {\"Player\": \"Kevin Love\", \"Pos\": \"PF\", \"Age\": 31, \"Tm\": \"CLE\", \"G\": 56, \"MP\": 1780, \"PER\": 17.9, \"TS%\": 0.599, \"3PAr\": 0.536, \"FTr\": 0.301, \"ORB%\": 3.3, \"DRB%\": 31.1, \"TRB%\": 17.1, \"AST%\": 15.4, \"STL%\": 0.9, \"BLK%\": 0.9, \"TOV%\": 14.5, \"USG%\": 0.8502508986665692, \"OWS\": 2.5, \"DWS\": 1.3, \"WS\": 3.8, \"WS/48\": 0.101, \"OBPM\": 2.6, \"DBPM\": -0.5, \"BPM\": 0.908020111865615, \"VORP\": 1.8, \"pred\": 31}, {\"Player\": \"Kyle Lowry\", \"Pos\": \"PG\", \"Age\": 33, \"Tm\": \"TOR\", \"G\": 58, \"MP\": 2098, \"PER\": 17.7, \"TS%\": 0.59, \"3PAr\": 0.58, \"FTr\": 0.427, \"ORB%\": 1.6, \"DRB%\": 12.8, \"TRB%\": 7.3, \"AST%\": 30.6, \"STL%\": 1.9, \"BLK%\": 1.2, \"TOV%\": 15.7, \"USG%\": 0.8502508986665692, \"OWS\": 4.2, \"DWS\": 3.3, \"WS\": 7.5, \"WS/48\": 0.171, \"OBPM\": 2.2, \"DBPM\": 1.0, \"BPM\": 1.1966652029701597, \"VORP\": 2.8, \"pred\": 33}, {\"Player\": \"Timoth\\u00e9 Luwawu-Cabarrot\", \"Pos\": \"SG\", \"Age\": 24, \"Tm\": \"BRK\", \"G\": 47, \"MP\": 853, \"PER\": 11.0, \"TS%\": 0.599, \"3PAr\": 0.595, \"FTr\": 0.301, \"ORB%\": 3.6, \"DRB%\": 11.6, \"TRB%\": 7.7, \"AST%\": 4.9, \"STL%\": 1.0, \"BLK%\": 0.7, \"TOV%\": 10.8, \"USG%\": -0.26835242804838594, \"OWS\": 0.9, \"DWS\": 0.7, \"WS\": 1.7, \"WS/48\": 0.095, \"OBPM\": -1.8, \"DBPM\": -0.5, \"BPM\": -0.10223770700029125, \"VORP\": -0.1, \"pred\": 24}, {\"Player\": \"Trey Lyles\", \"Pos\": \"PF\", \"Age\": 24, \"Tm\": \"SAS\", \"G\": 63, \"MP\": 1271, \"PER\": 12.6, \"TS%\": 0.557, \"3PAr\": 0.49, \"FTr\": 0.131, \"ORB%\": 6.0, \"DRB%\": 24.6, \"TRB%\": 15.3, \"AST%\": 7.2, \"STL%\": 1.1, \"BLK%\": 1.9, \"TOV%\": 9.7, \"USG%\": -0.836531895586141, \"OWS\": 1.2, \"DWS\": 1.0, \"WS\": 2.2, \"WS/48\": 0.083, \"OBPM\": -0.5, \"DBPM\": -0.7, \"BPM\": 0.1382998689201627, \"VORP\": 0.3, \"pred\": 24}, {\"Player\": \"Daryl Macon\", \"Pos\": \"SG\", \"Age\": 24, \"Tm\": \"MIA\", \"G\": 4, \"MP\": 14, \"PER\": -3.1, \"TS%\": 0.5, \"3PAr\": 0.667, \"FTr\": 0.0, \"ORB%\": 0.0, \"DRB%\": 0.0, \"TRB%\": 0.0, \"AST%\": 9.7, \"STL%\": 0.0, \"BLK%\": 0.0, \"TOV%\": 40.0, \"USG%\": -0.4636641200144894, \"OWS\": 0.0, \"DWS\": 0.0, \"WS\": 0.0, \"WS/48\": -0.161, \"OBPM\": -7.0, \"DBPM\": -4.4, \"BPM\": -2.315183405468467, \"VORP\": 0.0, \"pred\": 24}, {\"Player\": \"J.P. Macura\", \"Pos\": \"SG\", \"Age\": 24, \"Tm\": \"CLE\", \"G\": 1, \"MP\": 1, \"PER\": 0.0, \"TS%\": null, \"3PAr\": null, \"FTr\": null, \"ORB%\": 0.0, \"DRB%\": 0.0, \"TRB%\": 0.0, \"AST%\": 0.0, \"STL%\": 0.0, \"BLK%\": 0.0, \"TOV%\": null, \"USG%\": -3.2512946326215992, \"OWS\": 0.0, \"DWS\": 0.0, \"WS\": 0.0, \"WS/48\": -0.022, \"OBPM\": -5.2, \"DBPM\": -1.2, \"BPM\": -1.1124955258661977, \"VORP\": 0.0, \"pred\": 26}, {\"Player\": \"Josh Magette\", \"Pos\": \"PG\", \"Age\": 30, \"Tm\": \"ORL\", \"G\": 8, \"MP\": 38, \"PER\": 5.1, \"TS%\": 0.378, \"3PAr\": 0.267, \"FTr\": 0.133, \"ORB%\": 2.7, \"DRB%\": 14.6, \"TRB%\": 8.5, \"AST%\": 19.2, \"STL%\": 3.8, \"BLK%\": 2.4, \"TOV%\": 23.9, \"USG%\": 0.9567845488298978, \"OWS\": -0.2, \"DWS\": 0.1, \"WS\": -0.1, \"WS/48\": -0.127, \"OBPM\": -7.9, \"DBPM\": 1.6, \"BPM\": -1.0643880106821069, \"VORP\": 0.0, \"pred\": 30}, {\"Player\": \"Ian Mahinmi\", \"Pos\": \"C\", \"Age\": 33, \"Tm\": \"WAS\", \"G\": 38, \"MP\": 808, \"PER\": 14.2, \"TS%\": 0.545, \"3PAr\": 0.124, \"FTr\": 0.538, \"ORB%\": 10.1, \"DRB%\": 19.7, \"TRB%\": 14.7, \"AST%\": 8.3, \"STL%\": 1.8, \"BLK%\": 4.8, \"TOV%\": 14.8, \"USG%\": -0.4636641200144894, \"OWS\": 0.7, \"DWS\": 0.7, \"WS\": 1.4, \"WS/48\": 0.083, \"OBPM\": -2.8, \"DBPM\": 0.0, \"BPM\": -0.2225064949605182, \"VORP\": -0.2, \"pred\": 27}, {\"Player\": \"Thon Maker\", \"Pos\": \"C\", \"Age\": 22, \"Tm\": \"DET\", \"G\": 60, \"MP\": 776, \"PER\": 13.7, \"TS%\": 0.582, \"3PAr\": 0.332, \"FTr\": 0.57, \"ORB%\": 7.8, \"DRB%\": 16.7, \"TRB%\": 12.2, \"AST%\": 8.0, \"STL%\": 1.6, \"BLK%\": 4.2, \"TOV%\": 15.7, \"USG%\": -0.39264168657226967, \"OWS\": 0.7, \"DWS\": 0.8, \"WS\": 1.5, \"WS/48\": 0.096, \"OBPM\": -2.1, \"DBPM\": 0.7, \"BPM\": 0.09019235373607193, \"VORP\": 0.1, \"pred\": 22}, {\"Player\": \"Terance Mann\", \"Pos\": \"SG\", \"Age\": 23, \"Tm\": \"LAC\", \"G\": 41, \"MP\": 362, \"PER\": 10.6, \"TS%\": 0.545, \"3PAr\": 0.253, \"FTr\": 0.342, \"ORB%\": 2.9, \"DRB%\": 12.6, \"TRB%\": 7.9, \"AST%\": 19.3, \"STL%\": 1.4, \"BLK%\": 1.2, \"TOV%\": 16.5, \"USG%\": -1.0140879791916895, \"OWS\": 0.4, \"DWS\": 0.4, \"WS\": 0.8, \"WS/48\": 0.106, \"OBPM\": -2.8, \"DBPM\": 1.2, \"BPM\": 0.042084838551981106, \"VORP\": 0.0, \"pred\": 23}, {\"Player\": \"Boban Marjanovi\\u0107\", \"Pos\": \"C\", \"Age\": 31, \"Tm\": \"DAL\", \"G\": 44, \"MP\": 422, \"PER\": 25.7, \"TS%\": 0.612, \"3PAr\": 0.081, \"FTr\": 0.27, \"ORB%\": 16.6, \"DRB%\": 32.1, \"TRB%\": 24.5, \"AST%\": 8.3, \"STL%\": 0.9, \"BLK%\": 2.0, \"TOV%\": 11.3, \"USG%\": 1.5249640163676526, \"OWS\": 1.2, \"DWS\": 0.6, \"WS\": 1.8, \"WS/48\": 0.2, \"OBPM\": 2.8, \"DBPM\": -1.6, \"BPM\": 0.715590051129252, \"VORP\": 0.3, \"pred\": 31}, {\"Player\": \"Lauri Markkanen\", \"Pos\": \"PF\", \"Age\": 22, \"Tm\": \"CHI\", \"G\": 50, \"MP\": 1492, \"PER\": 14.3, \"TS%\": 0.56, \"3PAr\": 0.536, \"FTr\": 0.259, \"ORB%\": 4.2, \"DRB%\": 19.7, \"TRB%\": 11.6, \"AST%\": 7.6, \"STL%\": 1.4, \"BLK%\": 1.5, \"TOV%\": 11.0, \"USG%\": 0.4951387314554724, \"OWS\": 1.0, \"DWS\": 1.6, \"WS\": 2.6, \"WS/48\": 0.084, \"OBPM\": 0.2, \"DBPM\": -0.8, \"BPM\": 0.282622414472435, \"VORP\": 0.5, \"pred\": 22}, {\"Player\": \"Caleb Martin\", \"Pos\": \"SF\", \"Age\": 24, \"Tm\": \"CHO\", \"G\": 18, \"MP\": 317, \"PER\": 12.0, \"TS%\": 0.595, \"3PAr\": 0.44, \"FTr\": 0.25, \"ORB%\": 3.3, \"DRB%\": 10.0, \"TRB%\": 6.5, \"AST%\": 11.1, \"STL%\": 1.9, \"BLK%\": 2.0, \"TOV%\": 13.9, \"USG%\": -0.5879533785383732, \"OWS\": 0.3, \"DWS\": 0.2, \"WS\": 0.5, \"WS/48\": 0.081, \"OBPM\": -1.6, \"DBPM\": 0.6, \"BPM\": 0.18640738410425345, \"VORP\": 0.1, \"pred\": 34}, {\"Player\": \"Cody Martin\", \"Pos\": \"SF\", \"Age\": 24, \"Tm\": \"CHO\", \"G\": 48, \"MP\": 903, \"PER\": 10.5, \"TS%\": 0.505, \"3PAr\": 0.372, \"FTr\": 0.314, \"ORB%\": 4.4, \"DRB%\": 15.1, \"TRB%\": 9.6, \"AST%\": 15.7, \"STL%\": 2.2, \"BLK%\": 0.9, \"TOV%\": 15.7, \"USG%\": -0.836531895586141, \"OWS\": 0.2, \"DWS\": 0.8, \"WS\": 1.0, \"WS/48\": 0.052, \"OBPM\": -3.1, \"DBPM\": 1.0, \"BPM\": -0.10223770700029125, \"VORP\": 0.0, \"pred\": 24}, {\"Player\": \"Jeremiah Martin\", \"Pos\": \"PG\", \"Age\": 23, \"Tm\": \"BRK\", \"G\": 9, \"MP\": 99, \"PER\": 21.8, \"TS%\": 0.541, \"3PAr\": 0.34, \"FTr\": 0.264, \"ORB%\": 1.1, \"DRB%\": 9.2, \"TRB%\": 5.2, \"AST%\": 30.8, \"STL%\": 3.3, \"BLK%\": 1.7, \"TOV%\": 6.3, \"USG%\": 1.4894527996465432, \"OWS\": 0.2, \"DWS\": 0.1, \"WS\": 0.4, \"WS/48\": 0.176, \"OBPM\": 1.5, \"DBPM\": 1.7, \"BPM\": 1.1966652029701597, \"VORP\": 0.1, \"pred\": 27}, {\"Player\": \"Kelan Martin\", \"Pos\": \"SF\", \"Age\": 24, \"Tm\": \"MIN\", \"G\": 31, \"MP\": 495, \"PER\": 9.2, \"TS%\": 0.506, \"3PAr\": 0.53, \"FTr\": 0.171, \"ORB%\": 2.5, \"DRB%\": 18.6, \"TRB%\": 10.2, \"AST%\": 6.8, \"STL%\": 0.7, \"BLK%\": 1.5, \"TOV%\": 9.3, \"USG%\": -0.09079634444283752, \"OWS\": -0.1, \"DWS\": 0.3, \"WS\": 0.2, \"WS/48\": 0.023, \"OBPM\": -3.3, \"DBPM\": -1.0, \"BPM\": -0.6073666164332444, \"VORP\": -0.3, \"pred\": 24}, {\"Player\": \"Frank Mason III\", \"Pos\": \"PG\", \"Age\": 25, \"Tm\": \"MIL\", \"G\": 9, \"MP\": 118, \"PER\": 16.9, \"TS%\": 0.53, \"3PAr\": 0.412, \"FTr\": 0.333, \"ORB%\": 4.5, \"DRB%\": 11.1, \"TRB%\": 8.0, \"AST%\": 35.0, \"STL%\": 1.9, \"BLK%\": 0.7, \"TOV%\": 15.8, \"USG%\": 1.0633181989932272, \"OWS\": 0.1, \"DWS\": 0.2, \"WS\": 0.4, \"WS/48\": 0.143, \"OBPM\": -0.6, \"DBPM\": 0.6, \"BPM\": 0.42694496002470733, \"VORP\": 0.1, \"pred\": 25}, {\"Player\": \"Garrison Mathews\", \"Pos\": \"SG\", \"Age\": 23, \"Tm\": \"WAS\", \"G\": 18, \"MP\": 227, \"PER\": 13.1, \"TS%\": 0.691, \"3PAr\": 0.821, \"FTr\": 0.607, \"ORB%\": 2.8, \"DRB%\": 9.0, \"TRB%\": 5.8, \"AST%\": 5.8, \"STL%\": 1.6, \"BLK%\": 0.4, \"TOV%\": 10.1, \"USG%\": -0.6767314203411474, \"OWS\": 0.6, \"DWS\": 0.1, \"WS\": 0.6, \"WS/48\": 0.131, \"OBPM\": -0.6, \"DBPM\": -0.5, \"BPM\": 0.16235362651220805, \"VORP\": 0.1, \"pred\": 23}, {\"Player\": \"Wesley Matthews\", \"Pos\": \"SG\", \"Age\": 33, \"Tm\": \"MIL\", \"G\": 67, \"MP\": 1635, \"PER\": 8.1, \"TS%\": 0.547, \"3PAr\": 0.704, \"FTr\": 0.161, \"ORB%\": 1.4, \"DRB%\": 8.2, \"TRB%\": 5.0, \"AST%\": 7.1, \"STL%\": 1.1, \"BLK%\": 0.5, \"TOV%\": 8.7, \"USG%\": -1.0318435875522443, \"OWS\": 0.8, \"DWS\": 2.4, \"WS\": 3.2, \"WS/48\": 0.093, \"OBPM\": -2.6, \"DBPM\": 0.7, \"BPM\": -0.00602267663210966, \"VORP\": 0.1, \"pred\": 23}, {\"Player\": \"Luc Mbah a Moute\", \"Pos\": \"PF\", \"Age\": 33, \"Tm\": \"HOU\", \"G\": 3, \"MP\": 25, \"PER\": 6.4, \"TS%\": 0.425, \"3PAr\": 0.4, \"FTr\": 0.4, \"ORB%\": 4.2, \"DRB%\": 4.2, \"TRB%\": 4.2, \"AST%\": 0.0, \"STL%\": 3.7, \"BLK%\": 0.0, \"TOV%\": 14.5, \"USG%\": -1.2271552795183474, \"OWS\": 0.0, \"DWS\": 0.0, \"WS\": 0.0, \"WS/48\": -0.008, \"OBPM\": -5.2, \"DBPM\": -2.2, \"BPM\": -1.3530331017866515, \"VORP\": 0.0, \"pred\": 33}, {\"Player\": \"Patrick McCaw\", \"Pos\": \"SF\", \"Age\": 24, \"Tm\": \"TOR\", \"G\": 37, \"MP\": 908, \"PER\": 7.3, \"TS%\": 0.5, \"3PAr\": 0.438, \"FTr\": 0.111, \"ORB%\": 2.3, \"DRB%\": 7.6, \"TRB%\": 5.0, \"AST%\": 11.5, \"STL%\": 2.0, \"BLK%\": 0.4, \"TOV%\": 14.6, \"USG%\": -1.5822674467294442, \"OWS\": 0.2, \"DWS\": 1.2, \"WS\": 1.4, \"WS/48\": 0.075, \"OBPM\": -3.6, \"DBPM\": 1.8, \"BPM\": -0.00602267663210966, \"VORP\": 0.0, \"pred\": 31}, {\"Player\": \"CJ McCollum\", \"Pos\": \"SG\", \"Age\": 28, \"Tm\": \"POR\", \"G\": 70, \"MP\": 2556, \"PER\": 17.0, \"TS%\": 0.541, \"3PAr\": 0.378, \"FTr\": 0.136, \"ORB%\": 1.9, \"DRB%\": 10.2, \"TRB%\": 6.1, \"AST%\": 19.1, \"STL%\": 1.0, \"BLK%\": 1.4, \"TOV%\": 8.1, \"USG%\": 1.3474079327621042, \"OWS\": 3.5, \"DWS\": 0.6, \"WS\": 4.1, \"WS/48\": 0.077, \"OBPM\": 2.3, \"DBPM\": -1.8, \"BPM\": 0.5472137479849343, \"VORP\": 1.6, \"pred\": 28}, {\"Player\": \"T.J. McConnell\", \"Pos\": \"PG\", \"Age\": 27, \"Tm\": \"IND\", \"G\": 71, \"MP\": 1326, \"PER\": 16.5, \"TS%\": 0.54, \"3PAr\": 0.041, \"FTr\": 0.102, \"ORB%\": 3.2, \"DRB%\": 12.4, \"TRB%\": 7.8, \"AST%\": 37.6, \"STL%\": 2.0, \"BLK%\": 0.7, \"TOV%\": 18.9, \"USG%\": -0.14406316952450215, \"OWS\": 1.7, \"DWS\": 1.7, \"WS\": 3.3, \"WS/48\": 0.121, \"OBPM\": 0.1, \"DBPM\": 0.4, \"BPM\": 0.5472137479849343, \"VORP\": 0.8, \"pred\": 23}, {\"Player\": \"Jalen McDaniels\", \"Pos\": \"PF\", \"Age\": 22, \"Tm\": \"CHO\", \"G\": 16, \"MP\": 293, \"PER\": 10.7, \"TS%\": 0.574, \"3PAr\": 0.343, \"FTr\": 0.243, \"ORB%\": 5.4, \"DRB%\": 19.4, \"TRB%\": 12.1, \"AST%\": 6.8, \"STL%\": 1.4, \"BLK%\": 0.9, \"TOV%\": 12.4, \"USG%\": -0.8897987206678054, \"OWS\": 0.2, \"DWS\": 0.2, \"WS\": 0.5, \"WS/48\": 0.078, \"OBPM\": -3.4, \"DBPM\": 0.1, \"BPM\": -0.3668290405127904, \"VORP\": -0.1, \"pred\": 22}, {\"Player\": \"Doug McDermott\", \"Pos\": \"PF\", \"Age\": 28, \"Tm\": \"IND\", \"G\": 69, \"MP\": 1372, \"PER\": 14.4, \"TS%\": 0.62, \"3PAr\": 0.537, \"FTr\": 0.106, \"ORB%\": 2.1, \"DRB%\": 11.7, \"TRB%\": 7.0, \"AST%\": 8.4, \"STL%\": 0.4, \"BLK%\": 0.3, \"TOV%\": 6.8, \"USG%\": 0.22880460604714975, \"OWS\": 2.3, \"DWS\": 1.1, \"WS\": 3.3, \"WS/48\": 0.117, \"OBPM\": 1.4, \"DBPM\": -1.3, \"BPM\": 0.42694496002470733, \"VORP\": 0.7, \"pred\": 28}, {\"Player\": \"JaVale McGee\", \"Pos\": \"C\", \"Age\": 32, \"Tm\": \"LAL\", \"G\": 68, \"MP\": 1130, \"PER\": 19.4, \"TS%\": 0.652, \"3PAr\": 0.02, \"FTr\": 0.268, \"ORB%\": 12.2, \"DRB%\": 25.4, \"TRB%\": 18.9, \"AST%\": 4.6, \"STL%\": 1.5, \"BLK%\": 7.5, \"TOV%\": 13.9, \"USG%\": -0.6234645952594827, \"OWS\": 2.2, \"DWS\": 2.4, \"WS\": 4.7, \"WS/48\": 0.198, \"OBPM\": -0.6, \"DBPM\": 2.1, \"BPM\": 0.7877513239053882, \"VORP\": 1.0, \"pred\": 27}, {\"Player\": \"Rodney McGruder\", \"Pos\": \"SG\", \"Age\": 28, \"Tm\": \"LAC\", \"G\": 56, \"MP\": 871, \"PER\": 6.7, \"TS%\": 0.477, \"3PAr\": 0.492, \"FTr\": 0.188, \"ORB%\": 3.6, \"DRB%\": 14.2, \"TRB%\": 9.0, \"AST%\": 5.3, \"STL%\": 1.4, \"BLK%\": 0.8, \"TOV%\": 10.9, \"USG%\": -1.3692001464027863, \"OWS\": -0.1, \"DWS\": 1.1, \"WS\": 1.0, \"WS/48\": 0.055, \"OBPM\": -3.7, \"DBPM\": 0.8, \"BPM\": -0.2946677677366543, \"VORP\": -0.2, \"pred\": 28}, {\"Player\": \"Alfonzo McKinnie\", \"Pos\": \"SF\", \"Age\": 27, \"Tm\": \"CLE\", \"G\": 40, \"MP\": 593, \"PER\": 8.7, \"TS%\": 0.493, \"3PAr\": 0.38, \"FTr\": 0.181, \"ORB%\": 6.9, \"DRB%\": 14.4, \"TRB%\": 10.6, \"AST%\": 3.3, \"STL%\": 1.9, \"BLK%\": 1.2, \"TOV%\": 12.3, \"USG%\": -0.5524421618172637, \"OWS\": -0.2, \"DWS\": 0.3, \"WS\": 0.2, \"WS/48\": 0.014, \"OBPM\": -4.4, \"DBPM\": -0.9, \"BPM\": -0.8479041923536983, \"VORP\": -0.5, \"pred\": 27}, {\"Player\": \"Jordan McLaughlin\", \"Pos\": \"PG\", \"Age\": 23, \"Tm\": \"MIN\", \"G\": 30, \"MP\": 590, \"PER\": 16.3, \"TS%\": 0.587, \"3PAr\": 0.427, \"FTr\": 0.219, \"ORB%\": 1.2, \"DRB%\": 7.8, \"TRB%\": 4.4, \"AST%\": 31.0, \"STL%\": 2.7, \"BLK%\": 0.6, \"TOV%\": 13.7, \"USG%\": -0.44590851165393436, \"OWS\": 1.1, \"DWS\": 0.4, \"WS\": 1.6, \"WS/48\": 0.13, \"OBPM\": 0.3, \"DBPM\": 0.0, \"BPM\": 0.49910623280084354, \"VORP\": 0.3, \"pred\": 23}, {\"Player\": \"Ben McLemore\", \"Pos\": \"SG\", \"Age\": 26, \"Tm\": \"HOU\", \"G\": 71, \"MP\": 1619, \"PER\": 11.8, \"TS%\": 0.622, \"3PAr\": 0.829, \"FTr\": 0.123, \"ORB%\": 1.3, \"DRB%\": 8.9, \"TRB%\": 5.1, \"AST%\": 5.2, \"STL%\": 1.3, \"BLK%\": 0.8, \"TOV%\": 8.0, \"USG%\": -0.4103972949328248, \"OWS\": 2.2, \"DWS\": 1.1, \"WS\": 3.3, \"WS/48\": 0.099, \"OBPM\": 0.0, \"DBPM\": -0.6, \"BPM\": 0.3066761720644804, \"VORP\": 0.6, \"pred\": 26}, {\"Player\": \"Jordan McRae\", \"Pos\": \"SG\", \"Age\": 28, \"Tm\": \"TOT\", \"G\": 37, \"MP\": 784, \"PER\": 14.2, \"TS%\": 0.515, \"3PAr\": 0.344, \"FTr\": 0.298, \"ORB%\": 2.4, \"DRB%\": 15.4, \"TRB%\": 8.7, \"AST%\": 17.9, \"STL%\": 1.3, \"BLK%\": 1.8, \"TOV%\": 9.4, \"USG%\": 1.0810738073537816, \"OWS\": 0.4, \"DWS\": 0.4, \"WS\": 0.7, \"WS/48\": 0.044, \"OBPM\": 0.0, \"DBPM\": -1.5, \"BPM\": 0.06613859614402652, \"VORP\": 0.1, \"pred\": 28}, {\"Player\": \"Jordan McRae\", \"Pos\": \"SG\", \"Age\": 28, \"Tm\": \"WAS\", \"G\": 29, \"MP\": 654, \"PER\": 15.2, \"TS%\": 0.523, \"3PAr\": 0.334, \"FTr\": 0.262, \"ORB%\": 2.7, \"DRB%\": 15.1, \"TRB%\": 8.7, \"AST%\": 19.1, \"STL%\": 1.4, \"BLK%\": 2.0, \"TOV%\": 9.7, \"USG%\": 1.169851849156556, \"OWS\": 0.4, \"DWS\": 0.3, \"WS\": 0.7, \"WS/48\": 0.051, \"OBPM\": 0.8, \"DBPM\": -1.2, \"BPM\": 0.33072992965652576, \"VORP\": 0.3, \"pred\": 28}, {\"Player\": \"Jordan McRae\", \"Pos\": \"SG\", \"Age\": 28, \"Tm\": \"DEN\", \"G\": 4, \"MP\": 32, \"PER\": 16.7, \"TS%\": 0.58, \"3PAr\": 0.667, \"FTr\": 0.667, \"ORB%\": 3.5, \"DRB%\": 14.0, \"TRB%\": 8.8, \"AST%\": 15.6, \"STL%\": 3.1, \"BLK%\": 2.9, \"TOV%\": 0.0, \"USG%\": -1.386955754763341, \"OWS\": 0.1, \"DWS\": 0.0, \"WS\": 0.1, \"WS/48\": 0.201, \"OBPM\": 1.1, \"DBPM\": 1.4, \"BPM\": 1.028288899825842, \"VORP\": 0.0, \"pred\": 28}, {\"Player\": \"Jordan McRae\", \"Pos\": \"SG\", \"Age\": 28, \"Tm\": \"DET\", \"G\": 4, \"MP\": 98, \"PER\": 6.5, \"TS%\": 0.446, \"3PAr\": 0.372, \"FTr\": 0.512, \"ORB%\": 0.0, \"DRB%\": 17.6, \"TRB%\": 8.7, \"AST%\": 10.7, \"STL%\": 0.0, \"BLK%\": 0.0, \"TOV%\": 8.7, \"USG%\": 1.3118967160409947, \"OWS\": -0.1, \"DWS\": 0.0, \"WS\": -0.1, \"WS/48\": -0.053, \"OBPM\": -5.6, \"DBPM\": -4.2, \"BPM\": -1.930323283995741, \"VORP\": -0.2, \"pred\": 28}, {\"Player\": \"Nicol\\u00f2 Melli\", \"Pos\": \"C\", \"Age\": 29, \"Tm\": \"NOP\", \"G\": 60, \"MP\": 1042, \"PER\": 11.4, \"TS%\": 0.556, \"3PAr\": 0.638, \"FTr\": 0.226, \"ORB%\": 3.9, \"DRB%\": 14.5, \"TRB%\": 9.2, \"AST%\": 10.5, \"STL%\": 1.5, \"BLK%\": 1.8, \"TOV%\": 11.5, \"USG%\": -0.4636641200144894, \"OWS\": 0.9, \"DWS\": 0.9, \"WS\": 1.8, \"WS/48\": 0.082, \"OBPM\": -1.5, \"DBPM\": 0.2, \"BPM\": 0.11424611132811728, \"VORP\": 0.2, \"pred\": 29}, {\"Player\": \"De'Anthony Melton\", \"Pos\": \"PG\", \"Age\": 21, \"Tm\": \"MEM\", \"G\": 60, \"MP\": 1167, \"PER\": 13.5, \"TS%\": 0.501, \"3PAr\": 0.349, \"FTr\": 0.302, \"ORB%\": 4.0, \"DRB%\": 15.7, \"TRB%\": 9.9, \"AST%\": 20.1, \"STL%\": 3.1, \"BLK%\": 1.5, \"TOV%\": 15.6, \"USG%\": 0.15778217260493002, \"OWS\": 0.1, \"DWS\": 1.7, \"WS\": 1.7, \"WS/48\": 0.072, \"OBPM\": -2.2, \"DBPM\": 2.0, \"BPM\": 0.3788374448406166, \"VORP\": 0.5, \"pred\": 29}, {\"Player\": \"Chimezie Metu\", \"Pos\": \"PF\", \"Age\": 22, \"Tm\": \"SAS\", \"G\": 18, \"MP\": 105, \"PER\": 22.2, \"TS%\": 0.608, \"3PAr\": 0.048, \"FTr\": 0.31, \"ORB%\": 12.3, \"DRB%\": 21.6, \"TRB%\": 16.9, \"AST%\": 14.9, \"STL%\": 1.4, \"BLK%\": 5.0, \"TOV%\": 17.3, \"USG%\": 0.9567845488298978, \"OWS\": 0.2, \"DWS\": 0.1, \"WS\": 0.3, \"WS/48\": 0.13, \"OBPM\": 1.9, \"DBPM\": -0.1, \"BPM\": 0.8599125966815243, \"VORP\": 0.1, \"pred\": 22}, {\"Player\": \"Khris Middleton\", \"Pos\": \"SF\", \"Age\": 28, \"Tm\": \"MIL\", \"G\": 62, \"MP\": 1853, \"PER\": 21.1, \"TS%\": 0.619, \"3PAr\": 0.374, \"FTr\": 0.24, \"ORB%\": 2.5, \"DRB%\": 17.0, \"TRB%\": 10.2, \"AST%\": 22.2, \"STL%\": 1.3, \"BLK%\": 0.3, \"TOV%\": 11.6, \"USG%\": 1.4361859745648784, \"OWS\": 4.6, \"DWS\": 3.3, \"WS\": 7.9, \"WS/48\": 0.205, \"OBPM\": 3.4, \"DBPM\": 0.7, \"BPM\": 1.4131490212985682, \"VORP\": 2.9, \"pred\": 28}, {\"Player\": \"Eric Mika\", \"Pos\": \"PF\", \"Age\": 25, \"Tm\": \"SAC\", \"G\": 1, \"MP\": 19, \"PER\": 13.9, \"TS%\": 0.773, \"3PAr\": 0.0, \"FTr\": 0.667, \"ORB%\": 11.6, \"DRB%\": 30.4, \"TRB%\": 20.7, \"AST%\": 0.0, \"STL%\": 0.0, \"BLK%\": 0.0, \"TOV%\": 0.0, \"USG%\": -1.6710454885322183, \"OWS\": 0.1, \"DWS\": 0.0, \"WS\": 0.1, \"WS/48\": 0.218, \"OBPM\": -2.2, \"DBPM\": -1.0, \"BPM\": -0.3427752829207451, \"VORP\": 0.0, \"pred\": 25}, {\"Player\": \"C.J. Miles\", \"Pos\": \"SG\", \"Age\": 32, \"Tm\": \"WAS\", \"G\": 10, \"MP\": 161, \"PER\": 11.1, \"TS%\": 0.472, \"3PAr\": 0.593, \"FTr\": 0.339, \"ORB%\": 2.6, \"DRB%\": 5.7, \"TRB%\": 4.1, \"AST%\": 10.0, \"STL%\": 2.9, \"BLK%\": 2.2, \"TOV%\": 5.6, \"USG%\": 0.051248522441601344, \"OWS\": 0.0, \"DWS\": 0.1, \"WS\": 0.1, \"WS/48\": 0.035, \"OBPM\": -1.8, \"DBPM\": 0.1, \"BPM\": -0.00602267663210966, \"VORP\": 0.0, \"pred\": 32}, {\"Player\": \"Malcolm Miller\", \"Pos\": \"SF\", \"Age\": 26, \"Tm\": \"TOR\", \"G\": 28, \"MP\": 162, \"PER\": 6.7, \"TS%\": 0.538, \"3PAr\": 0.759, \"FTr\": 0.276, \"ORB%\": 1.3, \"DRB%\": 8.9, \"TRB%\": 5.2, \"AST%\": 8.9, \"STL%\": 1.5, \"BLK%\": 1.2, \"TOV%\": 11.0, \"USG%\": -1.5467562300083346, \"OWS\": 0.1, \"DWS\": 0.2, \"WS\": 0.3, \"WS/48\": 0.082, \"OBPM\": -3.5, \"DBPM\": 1.2, \"BPM\": -0.12629146459233656, \"VORP\": 0.0, \"pred\": 31}, {\"Player\": \"Patty Mills\", \"Pos\": \"PG\", \"Age\": 31, \"Tm\": \"SAS\", \"G\": 66, \"MP\": 1485, \"PER\": 14.8, \"TS%\": 0.592, \"3PAr\": 0.674, \"FTr\": 0.187, \"ORB%\": 1.6, \"DRB%\": 6.2, \"TRB%\": 3.9, \"AST%\": 11.4, \"STL%\": 1.7, \"BLK%\": 0.4, \"TOV%\": 7.7, \"USG%\": 0.370849472931588, \"OWS\": 2.3, \"DWS\": 0.5, \"WS\": 2.8, \"WS/48\": 0.091, \"OBPM\": 1.2, \"DBPM\": -1.2, \"BPM\": 0.42694496002470733, \"VORP\": 0.8, \"pred\": 31}, {\"Player\": \"Paul Millsap\", \"Pos\": \"PF\", \"Age\": 34, \"Tm\": \"DEN\", \"G\": 51, \"MP\": 1240, \"PER\": 16.9, \"TS%\": 0.591, \"3PAr\": 0.283, \"FTr\": 0.322, \"ORB%\": 8.9, \"DRB%\": 17.6, \"TRB%\": 13.2, \"AST%\": 9.6, \"STL%\": 1.8, \"BLK%\": 2.2, \"TOV%\": 12.3, \"USG%\": 0.29982703948936884, \"OWS\": 2.1, \"DWS\": 1.4, \"WS\": 3.5, \"WS/48\": 0.136, \"OBPM\": 0.3, \"DBPM\": -0.2, \"BPM\": 0.45099871761675275, \"VORP\": 0.7, \"pred\": 34}, {\"Player\": \"Shake Milton\", \"Pos\": \"SG\", \"Age\": 23, \"Tm\": \"PHI\", \"G\": 40, \"MP\": 805, \"PER\": 14.4, \"TS%\": 0.617, \"3PAr\": 0.487, \"FTr\": 0.235, \"ORB%\": 2.1, \"DRB%\": 10.0, \"TRB%\": 6.0, \"AST%\": 18.8, \"STL%\": 1.2, \"BLK%\": 0.7, \"TOV%\": 13.3, \"USG%\": 0.10451534752326536, \"OWS\": 1.4, \"DWS\": 0.7, \"WS\": 2.1, \"WS/48\": 0.126, \"OBPM\": 0.0, \"DBPM\": -1.0, \"BPM\": 0.18640738410425345, \"VORP\": 0.2, \"pred\": 23}, {\"Player\": \"Donovan Mitchell\", \"Pos\": \"SG\", \"Age\": 23, \"Tm\": \"UTA\", \"G\": 69, \"MP\": 2364, \"PER\": 18.8, \"TS%\": 0.558, \"3PAr\": 0.352, \"FTr\": 0.24, \"ORB%\": 2.6, \"DRB%\": 11.3, \"TRB%\": 7.1, \"AST%\": 21.6, \"STL%\": 1.4, \"BLK%\": 0.5, \"TOV%\": 11.0, \"USG%\": 2.217432742429292, \"OWS\": 3.2, \"DWS\": 2.2, \"WS\": 5.4, \"WS/48\": 0.11, \"OBPM\": 2.4, \"DBPM\": -0.6, \"BPM\": 0.8839663542735697, \"VORP\": 2.3, \"pred\": 23}, {\"Player\": \"Naz Mitrou-Long\", \"Pos\": \"SG\", \"Age\": 26, \"Tm\": \"IND\", \"G\": 5, \"MP\": 47, \"PER\": 7.8, \"TS%\": 0.412, \"3PAr\": 0.706, \"FTr\": 0.0, \"ORB%\": 0.0, \"DRB%\": 16.2, \"TRB%\": 8.2, \"AST%\": 22.8, \"STL%\": 1.0, \"BLK%\": 1.9, \"TOV%\": 15.0, \"USG%\": 0.06900413080215581, \"OWS\": -0.1, \"DWS\": 0.1, \"WS\": 0.0, \"WS/48\": -0.022, \"OBPM\": -3.5, \"DBPM\": 2.1, \"BPM\": 0.09019235373607193, \"VORP\": 0.0, \"pred\": 26}, {\"Player\": \"Adam Mokoka\", \"Pos\": \"SG\", \"Age\": 21, \"Tm\": \"CHI\", \"G\": 11, \"MP\": 112, \"PER\": 8.2, \"TS%\": 0.538, \"3PAr\": 0.536, \"FTr\": 0.143, \"ORB%\": 6.6, \"DRB%\": 3.1, \"TRB%\": 4.9, \"AST%\": 5.0, \"STL%\": 1.7, \"BLK%\": 0.0, \"TOV%\": 6.3, \"USG%\": -1.1028660209944636, \"OWS\": 0.1, \"DWS\": 0.1, \"WS\": 0.2, \"WS/48\": 0.073, \"OBPM\": -3.1, \"DBPM\": -1.0, \"BPM\": -0.5592591012491536, \"VORP\": -0.1, \"pred\": 21}, {\"Player\": \"Malik Monk\", \"Pos\": \"SG\", \"Age\": 21, \"Tm\": \"CHO\", \"G\": 55, \"MP\": 1169, \"PER\": 12.6, \"TS%\": 0.53, \"3PAr\": 0.418, \"FTr\": 0.205, \"ORB%\": 2.4, \"DRB%\": 12.6, \"TRB%\": 7.3, \"AST%\": 16.6, \"STL%\": 1.1, \"BLK%\": 1.3, \"TOV%\": 12.6, \"USG%\": 0.814739681945459, \"OWS\": 0.1, \"DWS\": 0.6, \"WS\": 0.7, \"WS/48\": 0.028, \"OBPM\": -1.1, \"DBPM\": -1.3, \"BPM\": -0.12629146459233656, \"VORP\": -0.1, \"pred\": 21}, {\"Player\": \"Matt Mooney\", \"Pos\": \"SG\", \"Age\": 22, \"Tm\": \"CLE\", \"G\": 4, \"MP\": 19, \"PER\": 8.1, \"TS%\": 0.25, \"3PAr\": 0.5, \"FTr\": 0.0, \"ORB%\": 0.0, \"DRB%\": 17.7, \"TRB%\": 8.8, \"AST%\": 6.7, \"STL%\": 5.1, \"BLK%\": 4.5, \"TOV%\": 0.0, \"USG%\": -1.6532898801716636, \"OWS\": 0.0, \"DWS\": 0.0, \"WS\": 0.0, \"WS/48\": 0.007, \"OBPM\": -5.4, \"DBPM\": 5.0, \"BPM\": 0.33072992965652576, \"VORP\": 0.0, \"pred\": 22}, {\"Player\": \"E'Twaun Moore\", \"Pos\": \"SG\", \"Age\": 30, \"Tm\": \"NOP\", \"G\": 56, \"MP\": 1020, \"PER\": 11.3, \"TS%\": 0.51, \"3PAr\": 0.382, \"FTr\": 0.103, \"ORB%\": 3.2, \"DRB%\": 10.4, \"TRB%\": 6.8, \"AST%\": 11.0, \"STL%\": 1.5, \"BLK%\": 0.9, \"TOV%\": 8.1, \"USG%\": 0.2820714311288138, \"OWS\": 0.3, \"DWS\": 0.7, \"WS\": 0.9, \"WS/48\": 0.043, \"OBPM\": -1.9, \"DBPM\": -0.8, \"BPM\": -0.2225064949605182, \"VORP\": -0.2, \"pred\": 30}, {\"Player\": \"Ja Morant\", \"Pos\": \"PG\", \"Age\": 20, \"Tm\": \"MEM\", \"G\": 67, \"MP\": 2074, \"PER\": 17.4, \"TS%\": 0.556, \"3PAr\": 0.191, \"FTr\": 0.329, \"ORB%\": 2.6, \"DRB%\": 10.4, \"TRB%\": 6.6, \"AST%\": 35.2, \"STL%\": 1.3, \"BLK%\": 0.8, \"TOV%\": 17.0, \"USG%\": 1.3474079327621042, \"OWS\": 2.3, \"DWS\": 1.5, \"WS\": 3.8, \"WS/48\": 0.088, \"OBPM\": 1.5, \"DBPM\": -1.2, \"BPM\": 0.49910623280084354, \"VORP\": 1.2, \"pred\": 28}, {\"Player\": \"Juwan Morgan\", \"Pos\": \"PF\", \"Age\": 22, \"Tm\": \"UTA\", \"G\": 21, \"MP\": 134, \"PER\": 10.1, \"TS%\": 0.648, \"3PAr\": 0.308, \"FTr\": 0.154, \"ORB%\": 8.5, \"DRB%\": 15.1, \"TRB%\": 11.9, \"AST%\": 6.2, \"STL%\": 0.4, \"BLK%\": 1.2, \"TOV%\": 17.8, \"USG%\": -1.298177712960567, \"OWS\": 0.2, \"DWS\": 0.1, \"WS\": 0.3, \"WS/48\": 0.106, \"OBPM\": -2.9, \"DBPM\": -0.3, \"BPM\": -0.3427752829207451, \"VORP\": 0.0, \"pred\": 22}, {\"Player\": \"Marcus Morris\", \"Pos\": \"SF-PF\", \"Age\": 30, \"Tm\": \"TOT\", \"G\": 62, \"MP\": 1936, \"PER\": 14.3, \"TS%\": 0.57, \"3PAr\": 0.43, \"FTr\": 0.272, \"ORB%\": 3.2, \"DRB%\": 14.0, \"TRB%\": 8.5, \"AST%\": 6.8, \"STL%\": 1.2, \"BLK%\": 1.4, \"TOV%\": 9.7, \"USG%\": 0.6371835983399106, \"OWS\": 2.1, \"DWS\": 1.5, \"WS\": 3.6, \"WS/48\": 0.088, \"OBPM\": 0.6, \"DBPM\": -0.7, \"BPM\": 0.4028912024326619, \"VORP\": 0.9, \"pred\": 30}, {\"Player\": \"Marcus Morris\", \"Pos\": \"SF\", \"Age\": 30, \"Tm\": \"NYK\", \"G\": 43, \"MP\": 1387, \"PER\": 16.5, \"TS%\": 0.582, \"3PAr\": 0.415, \"FTr\": 0.311, \"ORB%\": 3.6, \"DRB%\": 14.7, \"TRB%\": 9.0, \"AST%\": 6.8, \"STL%\": 1.2, \"BLK%\": 1.2, \"TOV%\": 9.2, \"USG%\": 1.0810738073537816, \"OWS\": 2.1, \"DWS\": 0.8, \"WS\": 2.9, \"WS/48\": 0.101, \"OBPM\": 1.8, \"DBPM\": -1.1, \"BPM\": 0.595321263169025, \"VORP\": 0.9, \"pred\": 30}, {\"Player\": \"Marcus Morris\", \"Pos\": \"PF\", \"Age\": 30, \"Tm\": \"LAC\", \"G\": 19, \"MP\": 549, \"PER\": 8.9, \"TS%\": 0.523, \"3PAr\": 0.483, \"FTr\": 0.126, \"ORB%\": 2.1, \"DRB%\": 12.3, \"TRB%\": 7.4, \"AST%\": 6.8, \"STL%\": 1.1, \"BLK%\": 2.1, \"TOV%\": 11.6, \"USG%\": -0.44590851165393436, \"OWS\": 0.0, \"DWS\": 0.7, \"WS\": 0.6, \"WS/48\": 0.055, \"OBPM\": -2.5, \"DBPM\": 0.3, \"BPM\": -0.10223770700029125, \"VORP\": 0.0, \"pred\": 28}, {\"Player\": \"Markieff Morris\", \"Pos\": \"PF\", \"Age\": 30, \"Tm\": \"TOT\", \"G\": 58, \"MP\": 1187, \"PER\": 12.5, \"TS%\": 0.565, \"3PAr\": 0.498, \"FTr\": 0.186, \"ORB%\": 3.8, \"DRB%\": 17.1, \"TRB%\": 10.3, \"AST%\": 10.1, \"STL%\": 1.3, \"BLK%\": 1.2, \"TOV%\": 13.3, \"USG%\": 0.4596275147343622, \"OWS\": 0.5, \"DWS\": 1.0, \"WS\": 1.4, \"WS/48\": 0.058, \"OBPM\": -1.1, \"DBPM\": -0.9, \"BPM\": -0.05413019181620043, \"VORP\": 0.0, \"pred\": 26}, {\"Player\": \"Markieff Morris\", \"Pos\": \"PF\", \"Age\": 30, \"Tm\": \"DET\", \"G\": 44, \"MP\": 988, \"PER\": 12.7, \"TS%\": 0.573, \"3PAr\": 0.486, \"FTr\": 0.203, \"ORB%\": 2.7, \"DRB%\": 17.3, \"TRB%\": 9.9, \"AST%\": 11.0, \"STL%\": 1.3, \"BLK%\": 0.9, \"TOV%\": 14.2, \"USG%\": 0.6194279899793561, \"OWS\": 0.3, \"DWS\": 0.7, \"WS\": 1.0, \"WS/48\": 0.049, \"OBPM\": -1.1, \"DBPM\": -1.0, \"BPM\": -0.07818394940824584, \"VORP\": 0.0, \"pred\": 23}, {\"Player\": \"Markieff Morris\", \"Pos\": \"PF\", \"Age\": 30, \"Tm\": \"LAL\", \"G\": 14, \"MP\": 199, \"PER\": 11.5, \"TS%\": 0.516, \"3PAr\": 0.565, \"FTr\": 0.087, \"ORB%\": 8.9, \"DRB%\": 15.8, \"TRB%\": 12.4, \"AST%\": 5.4, \"STL%\": 1.2, \"BLK%\": 2.7, \"TOV%\": 7.7, \"USG%\": -0.3216192531300506, \"OWS\": 0.2, \"DWS\": 0.3, \"WS\": 0.4, \"WS/48\": 0.106, \"OBPM\": -1.3, \"DBPM\": -0.1, \"BPM\": 0.09019235373607193, \"VORP\": 0.0, \"pred\": 30}, {\"Player\": \"Monte Morris\", \"Pos\": \"PG\", \"Age\": 24, \"Tm\": \"DEN\", \"G\": 73, \"MP\": 1636, \"PER\": 14.9, \"TS%\": 0.545, \"3PAr\": 0.304, \"FTr\": 0.157, \"ORB%\": 1.6, \"DRB%\": 7.7, \"TRB%\": 4.7, \"AST%\": 22.1, \"STL%\": 1.7, \"BLK%\": 1.0, \"TOV%\": 8.1, \"USG%\": -0.14406316952450215, \"OWS\": 2.7, \"DWS\": 1.1, \"WS\": 3.8, \"WS/48\": 0.112, \"OBPM\": 0.4, \"DBPM\": -0.5, \"BPM\": 0.3788374448406166, \"VORP\": 0.8, \"pred\": 24}, {\"Player\": \"Johnathan Motley\", \"Pos\": \"PF\", \"Age\": 24, \"Tm\": \"LAC\", \"G\": 13, \"MP\": 41, \"PER\": 28.5, \"TS%\": 0.774, \"3PAr\": 0.067, \"FTr\": 0.467, \"ORB%\": 7.8, \"DRB%\": 17.3, \"TRB%\": 12.7, \"AST%\": 32.9, \"STL%\": 3.5, \"BLK%\": 0.0, \"TOV%\": 21.7, \"USG%\": 0.9212733321087883, \"OWS\": 0.2, \"DWS\": 0.1, \"WS\": 0.3, \"WS/48\": 0.299, \"OBPM\": 4.8, \"DBPM\": 3.3, \"BPM\": 2.3752993249803835, \"VORP\": 0.1, \"pred\": 24}, {\"Player\": \"Emmanuel Mudiay\", \"Pos\": \"PG\", \"Age\": 23, \"Tm\": \"UTA\", \"G\": 54, \"MP\": 850, \"PER\": 13.0, \"TS%\": 0.543, \"3PAr\": 0.266, \"FTr\": 0.254, \"ORB%\": 2.4, \"DRB%\": 13.5, \"TRB%\": 8.2, \"AST%\": 20.9, \"STL%\": 1.4, \"BLK%\": 1.0, \"TOV%\": 17.3, \"USG%\": 0.761472856863795, \"OWS\": 0.1, \"DWS\": 0.9, \"WS\": 1.0, \"WS/48\": 0.057, \"OBPM\": -1.8, \"DBPM\": -0.1, \"BPM\": -0.030076434224155017, \"VORP\": 0.0, \"pred\": 23}, {\"Player\": \"Mychal Mulder\", \"Pos\": \"SG\", \"Age\": 25, \"Tm\": \"GSW\", \"G\": 7, \"MP\": 204, \"PER\": 7.8, \"TS%\": 0.533, \"3PAr\": 0.776, \"FTr\": 0.179, \"ORB%\": 1.5, \"DRB%\": 11.0, \"TRB%\": 6.1, \"AST%\": 5.8, \"STL%\": 0.5, \"BLK%\": 0.4, \"TOV%\": 6.5, \"USG%\": -0.3748860782117152, \"OWS\": 0.0, \"DWS\": 0.0, \"WS\": 0.1, \"WS/48\": 0.017, \"OBPM\": -3.3, \"DBPM\": -2.8, \"BPM\": -1.0403342530900612, \"VORP\": -0.2, \"pred\": 31}, {\"Player\": \"Dejounte Murray\", \"Pos\": \"PG\", \"Age\": 23, \"Tm\": \"SAS\", \"G\": 66, \"MP\": 1687, \"PER\": 16.2, \"TS%\": 0.524, \"3PAr\": 0.174, \"FTr\": 0.179, \"ORB%\": 4.4, \"DRB%\": 20.1, \"TRB%\": 12.2, \"AST%\": 23.1, \"STL%\": 3.1, \"BLK%\": 0.9, \"TOV%\": 15.4, \"USG%\": 0.44187190637380774, \"OWS\": 0.7, \"DWS\": 2.0, \"WS\": 2.6, \"WS/48\": 0.074, \"OBPM\": -0.9, \"DBPM\": 1.3, \"BPM\": 0.523159990392889, \"VORP\": 1.0, \"pred\": 23}, {\"Player\": \"Jamal Murray\", \"Pos\": \"PG\", \"Age\": 22, \"Tm\": \"DEN\", \"G\": 59, \"MP\": 1904, \"PER\": 17.7, \"TS%\": 0.559, \"3PAr\": 0.362, \"FTr\": 0.207, \"ORB%\": 2.7, \"DRB%\": 11.2, \"TRB%\": 6.9, \"AST%\": 22.9, \"STL%\": 1.7, \"BLK%\": 0.8, \"TOV%\": 11.5, \"USG%\": 1.2231186742382205, \"OWS\": 2.8, \"DWS\": 1.5, \"WS\": 4.3, \"WS/48\": 0.107, \"OBPM\": 2.0, \"DBPM\": -0.8, \"BPM\": 0.715590051129252, \"VORP\": 1.5, \"pred\": 22}, {\"Player\": \"D\\u017eanan Musa\", \"Pos\": \"SF\", \"Age\": 20, \"Tm\": \"BRK\", \"G\": 40, \"MP\": 487, \"PER\": 9.4, \"TS%\": 0.484, \"3PAr\": 0.453, \"FTr\": 0.349, \"ORB%\": 4.6, \"DRB%\": 13.5, \"TRB%\": 9.1, \"AST%\": 12.6, \"STL%\": 1.5, \"BLK%\": 0.2, \"TOV%\": 15.4, \"USG%\": 0.31758264784992396, \"OWS\": -0.3, \"DWS\": 0.5, \"WS\": 0.2, \"WS/48\": 0.016, \"OBPM\": -3.5, \"DBPM\": -0.9, \"BPM\": -0.6314203740252899, \"VORP\": -0.3, \"pred\": 20}, {\"Player\": \"Mike Muscala\", \"Pos\": \"C\", \"Age\": 28, \"Tm\": \"OKC\", \"G\": 47, \"MP\": 572, \"PER\": 12.5, \"TS%\": 0.569, \"3PAr\": 0.757, \"FTr\": 0.116, \"ORB%\": 3.2, \"DRB%\": 17.3, \"TRB%\": 10.4, \"AST%\": 10.1, \"STL%\": 0.8, \"BLK%\": 1.8, \"TOV%\": 7.9, \"USG%\": -0.30386364476949546, \"OWS\": 0.7, \"DWS\": 0.6, \"WS\": 1.3, \"WS/48\": 0.107, \"OBPM\": 0.1, \"DBPM\": -0.2, \"BPM\": 0.4028912024326619, \"VORP\": 0.3, \"pred\": 28}, {\"Player\": \"Sviatoslav Mykhailiuk\", \"Pos\": \"SF\", \"Age\": 22, \"Tm\": \"DET\", \"G\": 56, \"MP\": 1265, \"PER\": 11.2, \"TS%\": 0.578, \"3PAr\": 0.704, \"FTr\": 0.173, \"ORB%\": 1.5, \"DRB%\": 7.9, \"TRB%\": 4.7, \"AST%\": 12.3, \"STL%\": 1.6, \"BLK%\": 0.3, \"TOV%\": 12.3, \"USG%\": -0.21508560296672127, \"OWS\": 1.0, \"DWS\": 0.6, \"WS\": 1.6, \"WS/48\": 0.06, \"OBPM\": -0.7, \"DBPM\": -1.2, \"BPM\": -0.030076434224155017, \"VORP\": 0.0, \"pred\": 22}, {\"Player\": \"Abdel Nader\", \"Pos\": \"SF\", \"Age\": 26, \"Tm\": \"OKC\", \"G\": 55, \"MP\": 867, \"PER\": 11.3, \"TS%\": 0.591, \"3PAr\": 0.487, \"FTr\": 0.251, \"ORB%\": 1.8, \"DRB%\": 10.6, \"TRB%\": 6.4, \"AST%\": 6.4, \"STL%\": 1.3, \"BLK%\": 2.0, \"TOV%\": 12.8, \"USG%\": -0.23284121132727637, \"OWS\": 0.5, \"DWS\": 0.9, \"WS\": 1.3, \"WS/48\": 0.074, \"OBPM\": -1.1, \"DBPM\": 0.2, \"BPM\": 0.18640738410425345, \"VORP\": 0.2, \"pred\": 26}, {\"Player\": \"Larry Nance Jr.\", \"Pos\": \"C\", \"Age\": 27, \"Tm\": \"CLE\", \"G\": 56, \"MP\": 1472, \"PER\": 17.3, \"TS%\": 0.608, \"3PAr\": 0.369, \"FTr\": 0.172, \"ORB%\": 7.9, \"DRB%\": 23.1, \"TRB%\": 15.4, \"AST%\": 12.3, \"STL%\": 1.9, \"BLK%\": 1.3, \"TOV%\": 11.5, \"USG%\": -0.5524421618172637, \"OWS\": 2.8, \"DWS\": 1.1, \"WS\": 3.9, \"WS/48\": 0.128, \"OBPM\": 1.4, \"DBPM\": 0.4, \"BPM\": 0.8358588390894789, \"VORP\": 1.4, \"pred\": 27}, {\"Player\": \"Shabazz Napier\", \"Pos\": \"PG\", \"Age\": 28, \"Tm\": \"TOT\", \"G\": 56, \"MP\": 1344, \"PER\": 13.8, \"TS%\": 0.552, \"3PAr\": 0.526, \"FTr\": 0.336, \"ORB%\": 2.0, \"DRB%\": 10.9, \"TRB%\": 6.3, \"AST%\": 27.8, \"STL%\": 2.4, \"BLK%\": 0.7, \"TOV%\": 19.7, \"USG%\": 0.29982703948936884, \"OWS\": 0.8, \"DWS\": 0.9, \"WS\": 1.7, \"WS/48\": 0.059, \"OBPM\": -0.7, \"DBPM\": -0.4, \"BPM\": 0.16235362651220805, \"VORP\": 0.3, \"pred\": 27}, {\"Player\": \"Shabazz Napier\", \"Pos\": \"PG\", \"Age\": 28, \"Tm\": \"MIN\", \"G\": 36, \"MP\": 856, \"PER\": 13.9, \"TS%\": 0.539, \"3PAr\": 0.562, \"FTr\": 0.311, \"ORB%\": 2.0, \"DRB%\": 11.9, \"TRB%\": 6.8, \"AST%\": 31.3, \"STL%\": 2.2, \"BLK%\": 0.7, \"TOV%\": 19.1, \"USG%\": 0.14002656424437554, \"OWS\": 0.6, \"DWS\": 0.6, \"WS\": 1.3, \"WS/48\": 0.071, \"OBPM\": -0.6, \"DBPM\": -0.2, \"BPM\": 0.23451489928834424, \"VORP\": 0.3, \"pred\": 28}, {\"Player\": \"Shabazz Napier\", \"Pos\": \"PG\", \"Age\": 28, \"Tm\": \"WAS\", \"G\": 20, \"MP\": 488, \"PER\": 13.6, \"TS%\": 0.573, \"3PAr\": 0.468, \"FTr\": 0.376, \"ORB%\": 1.9, \"DRB%\": 9.1, \"TRB%\": 5.4, \"AST%\": 21.7, \"STL%\": 2.8, \"BLK%\": 0.7, \"TOV%\": 20.5, \"USG%\": 0.5839167732582465, \"OWS\": 0.1, \"DWS\": 0.3, \"WS\": 0.4, \"WS/48\": 0.039, \"OBPM\": -0.9, \"DBPM\": -0.7, \"BPM\": 0.06613859614402652, \"VORP\": 0.0, \"pred\": 28}, {\"Player\": \"Raul Neto\", \"Pos\": \"PG\", \"Age\": 27, \"Tm\": \"PHI\", \"G\": 54, \"MP\": 668, \"PER\": 12.7, \"TS%\": 0.567, \"3PAr\": 0.396, \"FTr\": 0.212, \"ORB%\": 1.8, \"DRB%\": 8.3, \"TRB%\": 5.0, \"AST%\": 20.3, \"STL%\": 1.7, \"BLK%\": 0.8, \"TOV%\": 16.2, \"USG%\": 0.06900413080215581, \"OWS\": 0.5, \"DWS\": 0.6, \"WS\": 1.2, \"WS/48\": 0.083, \"OBPM\": -1.2, \"DBPM\": -0.6, \"BPM\": -0.00602267663210966, \"VORP\": 0.0, \"pred\": 27}, {\"Player\": \"Malik Newman\", \"Pos\": \"SG\", \"Age\": 22, \"Tm\": \"CLE\", \"G\": 1, \"MP\": 4, \"PER\": -11.4, \"TS%\": 0.347, \"3PAr\": 0.5, \"FTr\": 1.0, \"ORB%\": 0.0, \"DRB%\": 0.0, \"TRB%\": 0.0, \"AST%\": 0.0, \"STL%\": 0.0, \"BLK%\": 0.0, \"TOV%\": 25.8, \"USG%\": 4.11728283700866, \"OWS\": 0.0, \"DWS\": 0.0, \"WS\": 0.0, \"WS/48\": -0.502, \"OBPM\": -14.5, \"DBPM\": -11.2, \"BPM\": -5.754870741130957, \"VORP\": 0.0, \"pred\": 22}, {\"Player\": \"Georges Niang\", \"Pos\": \"PF\", \"Age\": 26, \"Tm\": \"UTA\", \"G\": 66, \"MP\": 923, \"PER\": 11.7, \"TS%\": 0.589, \"3PAr\": 0.699, \"FTr\": 0.075, \"ORB%\": 1.9, \"DRB%\": 12.9, \"TRB%\": 7.6, \"AST%\": 7.0, \"STL%\": 0.9, \"BLK%\": 0.4, \"TOV%\": 8.3, \"USG%\": -0.19732999460616682, \"OWS\": 1.0, \"DWS\": 0.8, \"WS\": 1.8, \"WS/48\": 0.092, \"OBPM\": 0.4, \"DBPM\": -0.5, \"BPM\": 0.4028912024326619, \"VORP\": 0.4, \"pred\": 26}, {\"Player\": \"Joakim Noah\", \"Pos\": \"C\", \"Age\": 34, \"Tm\": \"LAC\", \"G\": 5, \"MP\": 50, \"PER\": 11.1, \"TS%\": 0.608, \"3PAr\": 0.0, \"FTr\": 1.0, \"ORB%\": 10.7, \"DRB%\": 22.3, \"TRB%\": 16.6, \"AST%\": 17.9, \"STL%\": 0.9, \"BLK%\": 1.8, \"TOV%\": 34.2, \"USG%\": -0.6412202036200378, \"OWS\": 0.0, \"DWS\": 0.1, \"WS\": 0.1, \"WS/48\": 0.096, \"OBPM\": -4.1, \"DBPM\": 2.5, \"BPM\": 0.042084838551981106, \"VORP\": 0.0, \"pred\": 24}, {\"Player\": \"Nerlens Noel\", \"Pos\": \"C\", \"Age\": 25, \"Tm\": \"OKC\", \"G\": 61, \"MP\": 1127, \"PER\": 20.4, \"TS%\": 0.711, \"3PAr\": 0.011, \"FTr\": 0.394, \"ORB%\": 9.2, \"DRB%\": 19.9, \"TRB%\": 14.7, \"AST%\": 7.6, \"STL%\": 2.5, \"BLK%\": 6.9, \"TOV%\": 17.3, \"USG%\": -0.6057089868989279, \"OWS\": 2.6, \"DWS\": 2.3, \"WS\": 4.9, \"WS/48\": 0.209, \"OBPM\": -0.3, \"DBPM\": 3.4, \"BPM\": 1.1726114453781145, \"VORP\": 1.5, \"pred\": 25}, {\"Player\": \"Zach Norvell\", \"Pos\": \"SG\", \"Age\": 22, \"Tm\": \"TOT\", \"G\": 5, \"MP\": 41, \"PER\": 2.6, \"TS%\": 0.402, \"3PAr\": 0.667, \"FTr\": 0.083, \"ORB%\": 0.0, \"DRB%\": 16.3, \"TRB%\": 7.9, \"AST%\": 10.2, \"STL%\": 2.3, \"BLK%\": 0.0, \"TOV%\": 19.4, \"USG%\": -0.39264168657226967, \"OWS\": -0.1, \"DWS\": 0.0, \"WS\": -0.1, \"WS/48\": -0.084, \"OBPM\": -7.1, \"DBPM\": -1.2, \"BPM\": -1.5935706777071055, \"VORP\": -0.1, \"pred\": 22}, {\"Player\": \"Zach Norvell\", \"Pos\": \"SG\", \"Age\": 22, \"Tm\": \"LAL\", \"G\": 2, \"MP\": 5, \"PER\": -5.6, \"TS%\": 0.0, \"3PAr\": 0.0, \"FTr\": 0.0, \"ORB%\": 0.0, \"DRB%\": 21.6, \"TRB%\": 10.9, \"AST%\": 0.0, \"STL%\": 0.0, \"BLK%\": 0.0, \"TOV%\": 0.0, \"USG%\": -1.7598235303349927, \"OWS\": 0.0, \"DWS\": 0.0, \"WS\": 0.0, \"WS/48\": -0.152, \"OBPM\": -10.3, \"DBPM\": -2.5, \"BPM\": -2.6519360117571025, \"VORP\": 0.0, \"pred\": 24}, {\"Player\": \"Zach Norvell\", \"Pos\": \"SG\", \"Age\": 22, \"Tm\": \"GSW\", \"G\": 3, \"MP\": 36, \"PER\": 3.7, \"TS%\": 0.437, \"3PAr\": 0.727, \"FTr\": 0.091, \"ORB%\": 0.0, \"DRB%\": 15.6, \"TRB%\": 7.5, \"AST%\": 11.7, \"STL%\": 2.7, \"BLK%\": 0.0, \"TOV%\": 20.8, \"USG%\": -0.21508560296672127, \"OWS\": -0.1, \"DWS\": 0.0, \"WS\": -0.1, \"WS/48\": -0.075, \"OBPM\": -6.7, \"DBPM\": -1.0, \"BPM\": -1.449248132154833, \"VORP\": -0.1, \"pred\": 26}, {\"Player\": \"Jaylen Nowell\", \"Pos\": \"SG\", \"Age\": 20, \"Tm\": \"MIN\", \"G\": 15, \"MP\": 151, \"PER\": 10.5, \"TS%\": 0.471, \"3PAr\": 0.491, \"FTr\": 0.321, \"ORB%\": 2.0, \"DRB%\": 7.3, \"TRB%\": 4.5, \"AST%\": 17.8, \"STL%\": 0.9, \"BLK%\": 0.6, \"TOV%\": 4.7, \"USG%\": -0.17957438624561173, \"OWS\": 0.1, \"DWS\": 0.0, \"WS\": 0.2, \"WS/48\": 0.051, \"OBPM\": -2.9, \"DBPM\": -0.8, \"BPM\": -0.4870978284730174, \"VORP\": -0.1, \"pred\": 20}, {\"Player\": \"Frank Ntilikina\", \"Pos\": \"PG\", \"Age\": 21, \"Tm\": \"NYK\", \"G\": 57, \"MP\": 1187, \"PER\": 9.8, \"TS%\": 0.497, \"3PAr\": 0.411, \"FTr\": 0.177, \"ORB%\": 2.0, \"DRB%\": 9.1, \"TRB%\": 5.4, \"AST%\": 20.2, \"STL%\": 2.2, \"BLK%\": 1.3, \"TOV%\": 16.5, \"USG%\": -0.5169309450961538, \"OWS\": 0.1, \"DWS\": 0.8, \"WS\": 0.9, \"WS/48\": 0.037, \"OBPM\": -3.6, \"DBPM\": 0.4, \"BPM\": -0.3427752829207451, \"VORP\": -0.4, \"pred\": 21}, {\"Player\": \"Kendrick Nunn\", \"Pos\": \"SG\", \"Age\": 24, \"Tm\": \"MIA\", \"G\": 67, \"MP\": 1962, \"PER\": 12.9, \"TS%\": 0.534, \"3PAr\": 0.428, \"FTr\": 0.109, \"ORB%\": 1.2, \"DRB%\": 8.7, \"TRB%\": 5.1, \"AST%\": 18.5, \"STL%\": 1.4, \"BLK%\": 0.8, \"TOV%\": 10.6, \"USG%\": 1.0278069822721176, \"OWS\": 0.4, \"DWS\": 1.6, \"WS\": 2.0, \"WS/48\": 0.049, \"OBPM\": -1.0, \"DBPM\": -1.3, \"BPM\": -0.12629146459233656, \"VORP\": -0.1, \"pred\": 24}, {\"Player\": \"Jusuf Nurki\\u0107\", \"Pos\": \"C\", \"Age\": 25, \"Tm\": \"POR\", \"G\": 8, \"MP\": 253, \"PER\": 22.6, \"TS%\": 0.567, \"3PAr\": 0.092, \"FTr\": 0.321, \"ORB%\": 9.6, \"DRB%\": 24.1, \"TRB%\": 16.9, \"AST%\": 19.1, \"STL%\": 2.1, \"BLK%\": 5.4, \"TOV%\": 13.2, \"USG%\": 1.0100513739115624, \"OWS\": 0.5, \"DWS\": 0.3, \"WS\": 0.9, \"WS/48\": 0.164, \"OBPM\": 1.0, \"DBPM\": 0.9, \"BPM\": 0.908020111865615, \"VORP\": 0.2, \"pred\": 25}, {\"Player\": \"David Nwaba\", \"Pos\": \"SF\", \"Age\": 27, \"Tm\": \"BRK\", \"G\": 20, \"MP\": 268, \"PER\": 14.0, \"TS%\": 0.627, \"3PAr\": 0.394, \"FTr\": 0.38, \"ORB%\": 3.2, \"DRB%\": 14.0, \"TRB%\": 8.7, \"AST%\": 4.3, \"STL%\": 1.9, \"BLK%\": 3.7, \"TOV%\": 8.8, \"USG%\": -0.729998245422812, \"OWS\": 0.4, \"DWS\": 0.4, \"WS\": 0.8, \"WS/48\": 0.138, \"OBPM\": -1.0, \"DBPM\": 2.0, \"BPM\": 0.6674825359451612, \"VORP\": 0.2, \"pred\": 27}, {\"Player\": \"Royce O'Neale\", \"Pos\": \"PF\", \"Age\": 26, \"Tm\": \"UTA\", \"G\": 71, \"MP\": 2049, \"PER\": 9.5, \"TS%\": 0.578, \"3PAr\": 0.668, \"FTr\": 0.151, \"ORB%\": 1.5, \"DRB%\": 18.8, \"TRB%\": 10.4, \"AST%\": 11.6, \"STL%\": 1.4, \"BLK%\": 1.3, \"TOV%\": 13.5, \"USG%\": -1.5467562300083346, \"OWS\": 1.8, \"DWS\": 2.5, \"WS\": 4.3, \"WS/48\": 0.101, \"OBPM\": -1.3, \"DBPM\": 2.2, \"BPM\": 0.6434287783531158, \"VORP\": 1.5, \"pred\": 22}, {\"Player\": \"Kyle O'Quinn\", \"Pos\": \"C\", \"Age\": 29, \"Tm\": \"PHI\", \"G\": 29, \"MP\": 313, \"PER\": 18.6, \"TS%\": 0.544, \"3PAr\": 0.318, \"FTr\": 0.235, \"ORB%\": 12.0, \"DRB%\": 29.0, \"TRB%\": 20.5, \"AST%\": 22.7, \"STL%\": 1.1, \"BLK%\": 6.5, \"TOV%\": 17.6, \"USG%\": -0.4636641200144894, \"OWS\": 0.5, \"DWS\": 0.6, \"WS\": 1.1, \"WS/48\": 0.165, \"OBPM\": 0.3, \"DBPM\": 2.7, \"BPM\": 1.148557687786069, \"VORP\": 0.4, \"pred\": 29}, {\"Player\": \"Semi Ojeleye\", \"Pos\": \"PF\", \"Age\": 25, \"Tm\": \"BOS\", \"G\": 69, \"MP\": 1011, \"PER\": 7.7, \"TS%\": 0.562, \"3PAr\": 0.648, \"FTr\": 0.163, \"ORB%\": 2.8, \"DRB%\": 12.5, \"TRB%\": 7.7, \"AST%\": 4.7, \"STL%\": 1.0, \"BLK%\": 0.5, \"TOV%\": 8.3, \"USG%\": -1.5290006216477798, \"OWS\": 0.8, \"DWS\": 1.0, \"WS\": 1.9, \"WS/48\": 0.088, \"OBPM\": -2.1, \"DBPM\": 0.4, \"BPM\": 0.01803108095993575, \"VORP\": 0.1, \"pred\": 25}, {\"Player\": \"Jahlil Okafor\", \"Pos\": \"C\", \"Age\": 24, \"Tm\": \"NOP\", \"G\": 30, \"MP\": 467, \"PER\": 18.3, \"TS%\": 0.642, \"3PAr\": 0.019, \"FTr\": 0.383, \"ORB%\": 10.9, \"DRB%\": 18.0, \"TRB%\": 14.4, \"AST%\": 12.0, \"STL%\": 0.7, \"BLK%\": 3.9, \"TOV%\": 16.7, \"USG%\": 0.2820714311288138, \"OWS\": 0.9, \"DWS\": 0.4, \"WS\": 1.3, \"WS/48\": 0.133, \"OBPM\": -0.5, \"DBPM\": 0.3, \"BPM\": 0.3788374448406166, \"VORP\": 0.2, \"pred\": 24}, {\"Player\": \"Elie Okobo\", \"Pos\": \"PG\", \"Age\": 22, \"Tm\": \"PHO\", \"G\": 55, \"MP\": 719, \"PER\": 10.6, \"TS%\": 0.516, \"3PAr\": 0.392, \"FTr\": 0.392, \"ORB%\": 2.4, \"DRB%\": 11.6, \"TRB%\": 6.9, \"AST%\": 21.2, \"STL%\": 1.6, \"BLK%\": 0.5, \"TOV%\": 15.2, \"USG%\": -0.6234645952594827, \"OWS\": 0.5, \"DWS\": 0.5, \"WS\": 1.0, \"WS/48\": 0.067, \"OBPM\": -1.9, \"DBPM\": 0.0, \"BPM\": -0.030076434224155017, \"VORP\": 0.0, \"pred\": 19}, {\"Player\": \"Josh Okogie\", \"Pos\": \"SG\", \"Age\": 21, \"Tm\": \"MIN\", \"G\": 62, \"MP\": 1547, \"PER\": 11.5, \"TS%\": 0.553, \"3PAr\": 0.387, \"FTr\": 0.48, \"ORB%\": 5.7, \"DRB%\": 12.8, \"TRB%\": 9.1, \"AST%\": 8.9, \"STL%\": 2.0, \"BLK%\": 1.4, \"TOV%\": 15.3, \"USG%\": -0.5701977701778184, \"OWS\": 0.9, \"DWS\": 1.2, \"WS\": 2.2, \"WS/48\": 0.068, \"OBPM\": -2.4, \"DBPM\": 0.0, \"BPM\": -0.15034522218438195, \"VORP\": -0.2, \"pred\": 21}, {\"Player\": \"KZ Okpala\", \"Pos\": \"SF\", \"Age\": 20, \"Tm\": \"MIA\", \"G\": 5, \"MP\": 26, \"PER\": 13.7, \"TS%\": 0.595, \"3PAr\": 0.2, \"FTr\": 0.4, \"ORB%\": 4.5, \"DRB%\": 16.6, \"TRB%\": 10.8, \"AST%\": 5.5, \"STL%\": 3.8, \"BLK%\": 3.8, \"TOV%\": 14.5, \"USG%\": -1.173888454436683, \"OWS\": 0.0, \"DWS\": 0.0, \"WS\": 0.1, \"WS/48\": 0.118, \"OBPM\": -1.3, \"DBPM\": 4.0, \"BPM\": 1.0763964150099328, \"VORP\": 0.0, \"pred\": 20}, {\"Player\": \"Victor Oladipo\", \"Pos\": \"SG\", \"Age\": 27, \"Tm\": \"IND\", \"G\": 19, \"MP\": 528, \"PER\": 11.3, \"TS%\": 0.506, \"3PAr\": 0.423, \"FTr\": 0.24, \"ORB%\": 1.9, \"DRB%\": 13.6, \"TRB%\": 7.8, \"AST%\": 15.4, \"STL%\": 1.6, \"BLK%\": 0.7, \"TOV%\": 14.7, \"USG%\": 1.4539415829254336, \"OWS\": -0.6, \"DWS\": 0.6, \"WS\": 0.0, \"WS/48\": 0.002, \"OBPM\": -2.2, \"DBPM\": -1.1, \"BPM\": -0.3668290405127904, \"VORP\": -0.2, \"pred\": 27}, {\"Player\": \"Kelly Olynyk\", \"Pos\": \"C\", \"Age\": 28, \"Tm\": \"MIA\", \"G\": 67, \"MP\": 1300, \"PER\": 14.6, \"TS%\": 0.621, \"3PAr\": 0.588, \"FTr\": 0.251, \"ORB%\": 3.9, \"DRB%\": 21.6, \"TRB%\": 13.1, \"AST%\": 13.3, \"STL%\": 1.7, \"BLK%\": 1.8, \"TOV%\": 13.8, \"USG%\": -0.16181877788505725, \"OWS\": 1.9, \"DWS\": 1.8, \"WS\": 3.7, \"WS/48\": 0.135, \"OBPM\": 0.0, \"DBPM\": 1.0, \"BPM\": 0.6674825359451612, \"VORP\": 1.0, \"pred\": 23}, {\"Player\": \"Miye Oni\", \"Pos\": \"SG\", \"Age\": 22, \"Tm\": \"UTA\", \"G\": 10, \"MP\": 109, \"PER\": 9.7, \"TS%\": 0.512, \"3PAr\": 0.594, \"FTr\": 0.156, \"ORB%\": 5.2, \"DRB%\": 11.7, \"TRB%\": 8.6, \"AST%\": 5.1, \"STL%\": 1.8, \"BLK%\": 1.5, \"TOV%\": 10.5, \"USG%\": -0.5346865534567086, \"OWS\": 0.0, \"DWS\": 0.1, \"WS\": 0.1, \"WS/48\": 0.063, \"OBPM\": -3.2, \"DBPM\": -1.0, \"BPM\": -0.6073666164332444, \"VORP\": -0.1, \"pred\": 22}, {\"Player\": \"Cedi Osman\", \"Pos\": \"SF\", \"Age\": 24, \"Tm\": \"CLE\", \"G\": 65, \"MP\": 1910, \"PER\": 10.7, \"TS%\": 0.552, \"3PAr\": 0.527, \"FTr\": 0.154, \"ORB%\": 2.2, \"DRB%\": 11.3, \"TRB%\": 6.7, \"AST%\": 11.6, \"STL%\": 1.4, \"BLK%\": 0.7, \"TOV%\": 12.3, \"USG%\": -0.30386364476949546, \"OWS\": 1.0, \"DWS\": 0.6, \"WS\": 1.6, \"WS/48\": 0.04, \"OBPM\": -1.7, \"DBPM\": -0.9, \"BPM\": -0.19845273736847277, \"VORP\": -0.3, \"pred\": 24}, {\"Player\": \"Kelly Oubre Jr.\", \"Pos\": \"SF\", \"Age\": 24, \"Tm\": \"PHO\", \"G\": 56, \"MP\": 1933, \"PER\": 14.9, \"TS%\": 0.56, \"3PAr\": 0.372, \"FTr\": 0.298, \"ORB%\": 3.8, \"DRB%\": 17.1, \"TRB%\": 10.4, \"AST%\": 6.6, \"STL%\": 1.7, \"BLK%\": 1.8, \"TOV%\": 8.2, \"USG%\": 0.7259616401426848, \"OWS\": 1.7, \"DWS\": 2.1, \"WS\": 3.8, \"WS/48\": 0.093, \"OBPM\": -0.3, \"DBPM\": -0.3, \"BPM\": 0.3066761720644804, \"VORP\": 0.7, \"pred\": 24}, {\"Player\": \"Tariq Owens\", \"Pos\": \"PF\", \"Age\": 24, \"Tm\": \"PHO\", \"G\": 3, \"MP\": 15, \"PER\": 8.4, \"TS%\": 0.34, \"3PAr\": 0.4, \"FTr\": 0.4, \"ORB%\": 14.6, \"DRB%\": 7.5, \"TRB%\": 11.1, \"AST%\": 0.0, \"STL%\": 3.2, \"BLK%\": 0.0, \"TOV%\": 0.0, \"USG%\": -0.286108036408941, \"OWS\": 0.0, \"DWS\": 0.0, \"WS\": 0.0, \"WS/48\": 0.021, \"OBPM\": -3.1, \"DBPM\": -2.7, \"BPM\": -0.9681729803139252, \"VORP\": 0.0, \"pred\": 24}, {\"Player\": \"Jeremy Pargo\", \"Pos\": \"PG\", \"Age\": 33, \"Tm\": \"GSW\", \"G\": 3, \"MP\": 44, \"PER\": 12.6, \"TS%\": 0.557, \"3PAr\": 0.318, \"FTr\": 0.045, \"ORB%\": 2.4, \"DRB%\": 5.1, \"TRB%\": 3.7, \"AST%\": 33.2, \"STL%\": 1.1, \"BLK%\": 0.0, \"TOV%\": 15.1, \"USG%\": 1.3118967160409947, \"OWS\": 0.0, \"DWS\": 0.0, \"WS\": 0.0, \"WS/48\": 0.011, \"OBPM\": -2.8, \"DBPM\": -3.0, \"BPM\": -0.9922267379059707, \"VORP\": 0.0, \"pred\": 33}, {\"Player\": \"Jabari Parker\", \"Pos\": \"PF\", \"Age\": 24, \"Tm\": \"TOT\", \"G\": 38, \"MP\": 917, \"PER\": 18.0, \"TS%\": 0.571, \"3PAr\": 0.277, \"FTr\": 0.189, \"ORB%\": 7.1, \"DRB%\": 18.3, \"TRB%\": 12.6, \"AST%\": 12.4, \"STL%\": 2.3, \"BLK%\": 1.5, \"TOV%\": 12.1, \"USG%\": 1.0100513739115624, \"OWS\": 0.8, \"DWS\": 0.8, \"WS\": 1.6, \"WS/48\": 0.083, \"OBPM\": 0.6, \"DBPM\": -0.3, \"BPM\": 0.49910623280084354, \"VORP\": 0.5, \"pred\": 20}, {\"Player\": \"Jabari Parker\", \"Pos\": \"PF\", \"Age\": 24, \"Tm\": \"ATL\", \"G\": 32, \"MP\": 837, \"PER\": 17.2, \"TS%\": 0.565, \"3PAr\": 0.293, \"FTr\": 0.183, \"ORB%\": 6.9, \"DRB%\": 17.9, \"TRB%\": 12.3, \"AST%\": 11.6, \"STL%\": 2.3, \"BLK%\": 1.5, \"TOV%\": 12.4, \"USG%\": 1.0100513739115624, \"OWS\": 0.5, \"DWS\": 0.7, \"WS\": 1.2, \"WS/48\": 0.068, \"OBPM\": 0.3, \"DBPM\": -0.3, \"BPM\": 0.42694496002470733, \"VORP\": 0.4, \"pred\": 24}, {\"Player\": \"Jabari Parker\", \"Pos\": \"PF\", \"Age\": 24, \"Tm\": \"SAC\", \"G\": 6, \"MP\": 80, \"PER\": 26.5, \"TS%\": 0.638, \"3PAr\": 0.111, \"FTr\": 0.25, \"ORB%\": 9.6, \"DRB%\": 23.1, \"TRB%\": 16.2, \"AST%\": 21.5, \"STL%\": 1.8, \"BLK%\": 1.2, \"TOV%\": 9.1, \"USG%\": 0.974540157190453, \"OWS\": 0.3, \"DWS\": 0.1, \"WS\": 0.4, \"WS/48\": 0.234, \"OBPM\": 3.5, \"DBPM\": -0.9, \"BPM\": 1.0523426574178876, \"VORP\": 0.1, \"pred\": 24}, {\"Player\": \"Chandler Parsons\", \"Pos\": \"SF\", \"Age\": 31, \"Tm\": \"ATL\", \"G\": 5, \"MP\": 54, \"PER\": 5.6, \"TS%\": 0.389, \"3PAr\": 0.778, \"FTr\": 0.0, \"ORB%\": 2.0, \"DRB%\": 12.1, \"TRB%\": 7.0, \"AST%\": 7.5, \"STL%\": 3.5, \"BLK%\": 1.6, \"TOV%\": 14.3, \"USG%\": -0.39264168657226967, \"OWS\": -0.1, \"DWS\": 0.0, \"WS\": -0.1, \"WS/48\": -0.065, \"OBPM\": -4.7, \"DBPM\": -1.4, \"BPM\": -1.0403342530900612, \"VORP\": -0.1, \"pred\": 31}, {\"Player\": \"Eric Paschall\", \"Pos\": \"PF\", \"Age\": 23, \"Tm\": \"GSW\", \"G\": 60, \"MP\": 1654, \"PER\": 14.5, \"TS%\": 0.571, \"3PAr\": 0.202, \"FTr\": 0.331, \"ORB%\": 5.2, \"DRB%\": 13.1, \"TRB%\": 9.0, \"AST%\": 12.7, \"STL%\": 0.9, \"BLK%\": 0.7, \"TOV%\": 11.4, \"USG%\": 0.5484055565371364, \"OWS\": 1.6, \"DWS\": 0.5, \"WS\": 2.1, \"WS/48\": 0.062, \"OBPM\": -0.7, \"DBPM\": -2.0, \"BPM\": -0.2225064949605182, \"VORP\": -0.3, \"pred\": 23}, {\"Player\": \"An\\u017eejs Pase\\u010d\\u0146iks\", \"Pos\": \"C\", \"Age\": 24, \"Tm\": \"WAS\", \"G\": 27, \"MP\": 437, \"PER\": 11.3, \"TS%\": 0.551, \"3PAr\": 0.026, \"FTr\": 0.5, \"ORB%\": 10.1, \"DRB%\": 16.9, \"TRB%\": 13.4, \"AST%\": 5.7, \"STL%\": 1.0, \"BLK%\": 2.4, \"TOV%\": 14.5, \"USG%\": -0.44590851165393436, \"OWS\": 0.3, \"DWS\": 0.2, \"WS\": 0.5, \"WS/48\": 0.054, \"OBPM\": -4.1, \"DBPM\": -1.5, \"BPM\": -0.9200654651298343, \"VORP\": -0.4, \"pred\": 24}, {\"Player\": \"Patrick Patterson\", \"Pos\": \"PF\", \"Age\": 30, \"Tm\": \"LAC\", \"G\": 59, \"MP\": 776, \"PER\": 11.5, \"TS%\": 0.58, \"3PAr\": 0.738, \"FTr\": 0.185, \"ORB%\": 4.8, \"DRB%\": 15.1, \"TRB%\": 10.1, \"AST%\": 7.2, \"STL%\": 0.4, \"BLK%\": 0.3, \"TOV%\": 7.7, \"USG%\": -0.6412202036200378, \"OWS\": 1.1, \"DWS\": 0.8, \"WS\": 1.9, \"WS/48\": 0.118, \"OBPM\": 0.8, \"DBPM\": -0.5, \"BPM\": 0.49910623280084354, \"VORP\": 0.5, \"pred\": 30}, {\"Player\": \"Justin Patton\", \"Pos\": \"C\", \"Age\": 22, \"Tm\": \"OKC\", \"G\": 5, \"MP\": 24, \"PER\": 4.7, \"TS%\": 0.45, \"3PAr\": 0.4, \"FTr\": 0.0, \"ORB%\": 4.7, \"DRB%\": 17.9, \"TRB%\": 11.5, \"AST%\": 12.6, \"STL%\": 0.0, \"BLK%\": 0.0, \"TOV%\": 16.7, \"USG%\": 0.6549392067004657, \"OWS\": -0.1, \"DWS\": 0.0, \"WS\": 0.0, \"WS/48\": -0.063, \"OBPM\": -6.8, \"DBPM\": -3.3, \"BPM\": -2.002484556771877, \"VORP\": 0.0, \"pred\": 22}, {\"Player\": \"Chris Paul\", \"Pos\": \"PG\", \"Age\": 34, \"Tm\": \"OKC\", \"G\": 70, \"MP\": 2208, \"PER\": 21.7, \"TS%\": 0.61, \"3PAr\": 0.343, \"FTr\": 0.315, \"ORB%\": 1.3, \"DRB%\": 15.7, \"TRB%\": 8.7, \"AST%\": 34.0, \"STL%\": 2.4, \"BLK%\": 0.4, \"TOV%\": 13.8, \"USG%\": 0.8857621153876788, \"OWS\": 5.9, \"DWS\": 3.0, \"WS\": 8.9, \"WS/48\": 0.193, \"OBPM\": 3.0, \"DBPM\": 1.4, \"BPM\": 1.4853102940747045, \"VORP\": 3.5, \"pred\": 34}, {\"Player\": \"Cameron Payne\", \"Pos\": \"PG\", \"Age\": 25, \"Tm\": \"PHO\", \"G\": 8, \"MP\": 183, \"PER\": 15.7, \"TS%\": 0.612, \"3PAr\": 0.426, \"FTr\": 0.103, \"ORB%\": 2.4, \"DRB%\": 16.6, \"TRB%\": 9.4, \"AST%\": 19.5, \"STL%\": 2.1, \"BLK%\": 1.0, \"TOV%\": 13.4, \"USG%\": 0.14002656424437554, \"OWS\": 0.3, \"DWS\": 0.2, \"WS\": 0.5, \"WS/48\": 0.12, \"OBPM\": 0.5, \"DBPM\": 1.0, \"BPM\": 0.7877513239053882, \"VORP\": 0.2, \"pred\": 25}, {\"Player\": \"Elfrid Payton\", \"Pos\": \"PG\", \"Age\": 25, \"Tm\": \"NYK\", \"G\": 45, \"MP\": 1246, \"PER\": 16.0, \"TS%\": 0.47, \"3PAr\": 0.157, \"FTr\": 0.195, \"ORB%\": 4.3, \"DRB%\": 14.1, \"TRB%\": 9.1, \"AST%\": 38.6, \"STL%\": 2.7, \"BLK%\": 1.3, \"TOV%\": 16.7, \"USG%\": 0.21104899768659466, \"OWS\": 0.5, \"DWS\": 1.2, \"WS\": 1.7, \"WS/48\": 0.065, \"OBPM\": -0.4, \"DBPM\": 0.4, \"BPM\": 0.42694496002470733, \"VORP\": 0.6, \"pred\": 32}, {\"Player\": \"Gary Payton II\", \"Pos\": \"PG\", \"Age\": 27, \"Tm\": \"WAS\", \"G\": 29, \"MP\": 432, \"PER\": 11.3, \"TS%\": 0.473, \"3PAr\": 0.397, \"FTr\": 0.069, \"ORB%\": 6.3, \"DRB%\": 14.2, \"TRB%\": 10.1, \"AST%\": 14.8, \"STL%\": 3.6, \"BLK%\": 1.4, \"TOV%\": 14.3, \"USG%\": -0.8720431123072506, \"OWS\": 0.0, \"DWS\": 0.4, \"WS\": 0.5, \"WS/48\": 0.051, \"OBPM\": -3.2, \"DBPM\": 1.6, \"BPM\": 0.042084838551981106, \"VORP\": 0.0, \"pred\": 27}, {\"Player\": \"Norvel Pelle\", \"Pos\": \"C\", \"Age\": 26, \"Tm\": \"PHI\", \"G\": 24, \"MP\": 232, \"PER\": 10.5, \"TS%\": 0.526, \"3PAr\": 0.021, \"FTr\": 0.292, \"ORB%\": 9.5, \"DRB%\": 24.8, \"TRB%\": 17.1, \"AST%\": 4.6, \"STL%\": 0.6, \"BLK%\": 11.4, \"TOV%\": 24.9, \"USG%\": -0.8720431123072506, \"OWS\": -0.2, \"DWS\": 0.5, \"WS\": 0.3, \"WS/48\": 0.069, \"OBPM\": -7.8, \"DBPM\": 2.6, \"BPM\": -0.823850434761653, \"VORP\": -0.2, \"pred\": 26}, {\"Player\": \"Theo Pinson\", \"Pos\": \"SG\", \"Age\": 24, \"Tm\": \"BRK\", \"G\": 33, \"MP\": 365, \"PER\": 5.2, \"TS%\": 0.37, \"3PAr\": 0.516, \"FTr\": 0.103, \"ORB%\": 2.9, \"DRB%\": 12.2, \"TRB%\": 7.7, \"AST%\": 21.7, \"STL%\": 2.2, \"BLK%\": 0.9, \"TOV%\": 16.9, \"USG%\": 0.7082060317821304, \"OWS\": -1.0, \"DWS\": 0.4, \"WS\": -0.6, \"WS/48\": -0.078, \"OBPM\": -6.8, \"DBPM\": -0.2, \"BPM\": -1.2568180714184698, \"VORP\": -0.5, \"pred\": 24}, {\"Player\": \"Mason Plumlee\", \"Pos\": \"C\", \"Age\": 29, \"Tm\": \"DEN\", \"G\": 61, \"MP\": 1057, \"PER\": 18.8, \"TS%\": 0.613, \"3PAr\": 0.017, \"FTr\": 0.538, \"ORB%\": 10.4, \"DRB%\": 23.2, \"TRB%\": 16.8, \"AST%\": 20.9, \"STL%\": 1.5, \"BLK%\": 3.3, \"TOV%\": 18.7, \"USG%\": -0.05528512772172796, \"OWS\": 2.0, \"DWS\": 1.4, \"WS\": 3.4, \"WS/48\": 0.153, \"OBPM\": 0.3, \"DBPM\": 1.7, \"BPM\": 0.908020111865615, \"VORP\": 1.1, \"pred\": 29}, {\"Player\": \"Jakob Poeltl\", \"Pos\": \"C\", \"Age\": 24, \"Tm\": \"SAS\", \"G\": 66, \"MP\": 1171, \"PER\": 19.1, \"TS%\": 0.612, \"3PAr\": 0.0, \"FTr\": 0.323, \"ORB%\": 12.1, \"DRB%\": 22.5, \"TRB%\": 17.3, \"AST%\": 13.6, \"STL%\": 1.5, \"BLK%\": 7.1, \"TOV%\": 15.1, \"USG%\": -0.9075543290283604, \"OWS\": 2.4, \"DWS\": 1.6, \"WS\": 4.0, \"WS/48\": 0.163, \"OBPM\": 0.5, \"DBPM\": 2.0, \"BPM\": 1.028288899825842, \"VORP\": 1.3, \"pred\": 31}, {\"Player\": \"Vincent Poirier\", \"Pos\": \"C\", \"Age\": 26, \"Tm\": \"BOS\", \"G\": 22, \"MP\": 130, \"PER\": 12.7, \"TS%\": 0.525, \"3PAr\": 0.056, \"FTr\": 0.194, \"ORB%\": 10.8, \"DRB%\": 24.4, \"TRB%\": 17.7, \"AST%\": 8.5, \"STL%\": 0.7, \"BLK%\": 6.4, \"TOV%\": 17.0, \"USG%\": -0.5169309450961538, \"OWS\": 0.1, \"DWS\": 0.2, \"WS\": 0.3, \"WS/48\": 0.113, \"OBPM\": -4.8, \"DBPM\": 1.0, \"BPM\": -0.4870978284730174, \"VORP\": -0.1, \"pred\": 26}, {\"Player\": \"Shamorie Ponds\", \"Pos\": \"PG\", \"Age\": 21, \"Tm\": \"TOR\", \"G\": 4, \"MP\": 11, \"PER\": 33.1, \"TS%\": 0.765, \"3PAr\": 0.4, \"FTr\": 0.4, \"ORB%\": 0.0, \"DRB%\": 9.4, \"TRB%\": 4.8, \"AST%\": 32.4, \"STL%\": 0.0, \"BLK%\": 8.9, \"TOV%\": 0.0, \"USG%\": 0.7969840735849045, \"OWS\": 0.1, \"DWS\": 0.0, \"WS\": 0.1, \"WS/48\": 0.45, \"OBPM\": 8.4, \"DBPM\": 5.3, \"BPM\": 3.7223097501349254, \"VORP\": 0.0, \"pred\": 21}, {\"Player\": \"Jordan Poole\", \"Pos\": \"SG\", \"Age\": 20, \"Tm\": \"GSW\", \"G\": 57, \"MP\": 1274, \"PER\": 7.2, \"TS%\": 0.454, \"3PAr\": 0.528, \"FTr\": 0.237, \"ORB%\": 0.7, \"DRB%\": 9.6, \"TRB%\": 5.0, \"AST%\": 15.8, \"STL%\": 1.3, \"BLK%\": 0.7, \"TOV%\": 11.8, \"USG%\": 0.4951387314554724, \"OWS\": -1.6, \"DWS\": 0.4, \"WS\": -1.2, \"WS/48\": -0.047, \"OBPM\": -4.4, \"DBPM\": -2.2, \"BPM\": -1.1606030410502883, \"VORP\": -1.5, \"pred\": 20}, {\"Player\": \"Kevin Porter Jr.\", \"Pos\": \"SF\", \"Age\": 19, \"Tm\": \"CLE\", \"G\": 50, \"MP\": 1162, \"PER\": 10.8, \"TS%\": 0.535, \"3PAr\": 0.375, \"FTr\": 0.24, \"ORB%\": 2.1, \"DRB%\": 13.5, \"TRB%\": 7.7, \"AST%\": 13.9, \"STL%\": 1.9, \"BLK%\": 1.0, \"TOV%\": 16.7, \"USG%\": 0.38860508129214305, \"OWS\": -0.3, \"DWS\": 0.6, \"WS\": 0.3, \"WS/48\": 0.012, \"OBPM\": -3.2, \"DBPM\": -0.6, \"BPM\": -0.4870978284730174, \"VORP\": -0.5, \"pred\": 19}, {\"Player\": \"Michael Porter Jr.\", \"Pos\": \"PF\", \"Age\": 21, \"Tm\": \"DEN\", \"G\": 55, \"MP\": 903, \"PER\": 19.8, \"TS%\": 0.617, \"3PAr\": 0.384, \"FTr\": 0.188, \"ORB%\": 8.2, \"DRB%\": 23.9, \"TRB%\": 16.1, \"AST%\": 7.9, \"STL%\": 1.5, \"BLK%\": 2.6, \"TOV%\": 10.6, \"USG%\": 0.7082060317821304, \"OWS\": 1.8, \"DWS\": 1.1, \"WS\": 2.9, \"WS/48\": 0.154, \"OBPM\": 2.4, \"DBPM\": -0.8, \"BPM\": 0.7877513239053882, \"VORP\": 0.8, \"pred\": 21}, {\"Player\": \"Otto Porter\", \"Pos\": \"SF\", \"Age\": 26, \"Tm\": \"CHI\", \"G\": 14, \"MP\": 331, \"PER\": 15.8, \"TS%\": 0.55, \"3PAr\": 0.443, \"FTr\": 0.193, \"ORB%\": 4.1, \"DRB%\": 12.3, \"TRB%\": 8.0, \"AST%\": 11.9, \"STL%\": 2.2, \"BLK%\": 1.7, \"TOV%\": 6.8, \"USG%\": 0.47738312309491726, \"OWS\": 0.4, \"DWS\": 0.4, \"WS\": 0.8, \"WS/48\": 0.112, \"OBPM\": 0.8, \"DBPM\": 0.2, \"BPM\": 0.6674825359451612, \"VORP\": 0.3, \"pred\": 26}, {\"Player\": \"Bobby Portis\", \"Pos\": \"C\", \"Age\": 24, \"Tm\": \"NYK\", \"G\": 66, \"MP\": 1393, \"PER\": 14.6, \"TS%\": 0.53, \"3PAr\": 0.317, \"FTr\": 0.158, \"ORB%\": 6.0, \"DRB%\": 20.4, \"TRB%\": 12.9, \"AST%\": 11.1, \"STL%\": 1.1, \"BLK%\": 1.2, \"TOV%\": 10.4, \"USG%\": 0.5484055565371364, \"OWS\": 0.9, \"DWS\": 1.0, \"WS\": 1.9, \"WS/48\": 0.064, \"OBPM\": 0.0, \"DBPM\": -1.1, \"BPM\": 0.16235362651220805, \"VORP\": 0.3, \"pred\": 24}, {\"Player\": \"Kristaps Porzi\\u0146\\u0123is\", \"Pos\": \"PF\", \"Age\": 24, \"Tm\": \"DAL\", \"G\": 57, \"MP\": 1814, \"PER\": 20.2, \"TS%\": 0.551, \"3PAr\": 0.432, \"FTr\": 0.304, \"ORB%\": 5.9, \"DRB%\": 25.1, \"TRB%\": 15.6, \"AST%\": 8.8, \"STL%\": 1.1, \"BLK%\": 5.4, \"TOV%\": 8.0, \"USG%\": 1.5427196247282078, \"OWS\": 2.6, \"DWS\": 2.6, \"WS\": 5.2, \"WS/48\": 0.138, \"OBPM\": 1.8, \"DBPM\": 0.1, \"BPM\": 0.8839663542735697, \"VORP\": 1.8, \"pred\": 24}, {\"Player\": \"Dwight Powell\", \"Pos\": \"C\", \"Age\": 28, \"Tm\": \"DAL\", \"G\": 40, \"MP\": 1061, \"PER\": 15.9, \"TS%\": 0.677, \"3PAr\": 0.17, \"FTr\": 0.485, \"ORB%\": 7.5, \"DRB%\": 14.8, \"TRB%\": 11.2, \"AST%\": 7.7, \"STL%\": 1.5, \"BLK%\": 1.8, \"TOV%\": 11.5, \"USG%\": -1.0140879791916895, \"OWS\": 2.6, \"DWS\": 1.0, \"WS\": 3.6, \"WS/48\": 0.162, \"OBPM\": 0.4, \"DBPM\": 0.9, \"BPM\": 0.7396438087212974, \"VORP\": 0.9, \"pred\": 28}, {\"Player\": \"Norman Powell\", \"Pos\": \"SG\", \"Age\": 26, \"Tm\": \"TOR\", \"G\": 52, \"MP\": 1479, \"PER\": 16.8, \"TS%\": 0.624, \"3PAr\": 0.457, \"FTr\": 0.256, \"ORB%\": 1.9, \"DRB%\": 11.4, \"TRB%\": 6.8, \"AST%\": 9.7, \"STL%\": 1.9, \"BLK%\": 1.4, \"TOV%\": 10.4, \"USG%\": 0.5661611648976915, \"OWS\": 2.3, \"DWS\": 2.3, \"WS\": 4.6, \"WS/48\": 0.15, \"OBPM\": 1.2, \"DBPM\": 0.8, \"BPM\": 0.908020111865615, \"VORP\": 1.5, \"pred\": 26}, {\"Player\": \"Chasson Randle\", \"Pos\": \"PG\", \"Age\": 26, \"Tm\": \"GSW\", \"G\": 3, \"MP\": 40, \"PER\": 6.7, \"TS%\": 0.377, \"3PAr\": 0.5, \"FTr\": 1.5, \"ORB%\": 0.0, \"DRB%\": 5.6, \"TRB%\": 2.7, \"AST%\": 15.7, \"STL%\": 2.4, \"BLK%\": 0.0, \"TOV%\": 0.0, \"USG%\": -1.9906464390222056, \"OWS\": 0.0, \"DWS\": 0.0, \"WS\": 0.0, \"WS/48\": 0.045, \"OBPM\": -6.0, \"DBPM\": 0.2, \"BPM\": -0.9681729803139252, \"VORP\": 0.0, \"pred\": 26}, {\"Player\": \"Julius Randle\", \"Pos\": \"PF\", \"Age\": 25, \"Tm\": \"NYK\", \"G\": 64, \"MP\": 2080, \"PER\": 17.5, \"TS%\": 0.538, \"3PAr\": 0.23, \"FTr\": 0.35, \"ORB%\": 7.5, \"DRB%\": 24.9, \"TRB%\": 16.0, \"AST%\": 15.8, \"STL%\": 1.2, \"BLK%\": 1.0, \"TOV%\": 14.3, \"USG%\": 1.649253274891537, \"OWS\": 0.9, \"DWS\": 1.8, \"WS\": 2.7, \"WS/48\": 0.062, \"OBPM\": 0.7, \"DBPM\": -1.0, \"BPM\": 0.3547836872485712, \"VORP\": 0.9, \"pred\": 25}, {\"Player\": \"Josh Reaves\", \"Pos\": \"SG\", \"Age\": 22, \"Tm\": \"DAL\", \"G\": 4, \"MP\": 28, \"PER\": 5.8, \"TS%\": 0.405, \"3PAr\": 0.222, \"FTr\": 0.222, \"ORB%\": 3.8, \"DRB%\": 7.4, \"TRB%\": 5.6, \"AST%\": 14.2, \"STL%\": 0.0, \"BLK%\": 0.0, \"TOV%\": 0.0, \"USG%\": -0.5701977701778184, \"OWS\": 0.0, \"DWS\": 0.0, \"WS\": 0.0, \"WS/48\": 0.031, \"OBPM\": -5.9, \"DBPM\": -4.0, \"BPM\": -1.9543770415877864, \"VORP\": -0.1, \"pred\": 24}, {\"Player\": \"Cam Reddish\", \"Pos\": \"SF\", \"Age\": 20, \"Tm\": \"ATL\", \"G\": 58, \"MP\": 1551, \"PER\": 9.0, \"TS%\": 0.5, \"3PAr\": 0.451, \"FTr\": 0.227, \"ORB%\": 2.4, \"DRB%\": 12.7, \"TRB%\": 7.5, \"AST%\": 8.0, \"STL%\": 1.9, \"BLK%\": 1.5, \"TOV%\": 13.6, \"USG%\": 0.10451534752326536, \"OWS\": -1.2, \"DWS\": 0.8, \"WS\": -0.4, \"WS/48\": -0.011, \"OBPM\": -3.3, \"DBPM\": -1.0, \"BPM\": -0.5833128588411991, \"VORP\": -0.9, \"pred\": 20}, {\"Player\": \"J.J. Redick\", \"Pos\": \"SG\", \"Age\": 35, \"Tm\": \"NOP\", \"G\": 60, \"MP\": 1581, \"PER\": 15.4, \"TS%\": 0.644, \"3PAr\": 0.629, \"FTr\": 0.293, \"ORB%\": 0.7, \"DRB%\": 9.5, \"TRB%\": 5.1, \"AST%\": 10.8, \"STL%\": 0.6, \"BLK%\": 0.5, \"TOV%\": 9.5, \"USG%\": 0.370849472931588, \"OWS\": 3.6, \"DWS\": 0.6, \"WS\": 4.1, \"WS/48\": 0.125, \"OBPM\": 2.3, \"DBPM\": -1.7, \"BPM\": 0.595321263169025, \"VORP\": 1.1, \"pred\": 35}, {\"Player\": \"Naz Reid\", \"Pos\": \"C\", \"Age\": 20, \"Tm\": \"MIN\", \"G\": 30, \"MP\": 495, \"PER\": 15.3, \"TS%\": 0.505, \"3PAr\": 0.399, \"FTr\": 0.218, \"ORB%\": 7.0, \"DRB%\": 19.9, \"TRB%\": 13.2, \"AST%\": 11.2, \"STL%\": 1.8, \"BLK%\": 3.7, \"TOV%\": 7.6, \"USG%\": 1.0100513739115624, \"OWS\": 0.2, \"DWS\": 0.6, \"WS\": 0.8, \"WS/48\": 0.074, \"OBPM\": -1.6, \"DBPM\": -0.3, \"BPM\": -0.030076434224155017, \"VORP\": 0.0, \"pred\": 20}, {\"Player\": \"Josh Richardson\", \"Pos\": \"SG\", \"Age\": 26, \"Tm\": \"PHI\", \"G\": 55, \"MP\": 1693, \"PER\": 12.0, \"TS%\": 0.533, \"3PAr\": 0.385, \"FTr\": 0.218, \"ORB%\": 2.7, \"DRB%\": 8.7, \"TRB%\": 5.7, \"AST%\": 13.9, \"STL%\": 1.5, \"BLK%\": 1.8, \"TOV%\": 12.8, \"USG%\": 0.40636068965269817, \"OWS\": 0.5, \"DWS\": 1.7, \"WS\": 2.1, \"WS/48\": 0.061, \"OBPM\": -1.4, \"DBPM\": -0.4, \"BPM\": -0.00602267663210966, \"VORP\": 0.1, \"pred\": 26}, {\"Player\": \"Austin Rivers\", \"Pos\": \"SG\", \"Age\": 27, \"Tm\": \"HOU\", \"G\": 68, \"MP\": 1594, \"PER\": 10.4, \"TS%\": 0.542, \"3PAr\": 0.539, \"FTr\": 0.222, \"ORB%\": 1.8, \"DRB%\": 9.8, \"TRB%\": 5.8, \"AST%\": 10.0, \"STL%\": 1.4, \"BLK%\": 0.5, \"TOV%\": 8.3, \"USG%\": -0.4814197283750442, \"OWS\": 1.2, \"DWS\": 1.2, \"WS\": 2.4, \"WS/48\": 0.072, \"OBPM\": -2.1, \"DBPM\": -0.4, \"BPM\": -0.17439897977642738, \"VORP\": -0.2, \"pred\": 27}, {\"Player\": \"Andre Roberson\", \"Pos\": \"SG\", \"Age\": 28, \"Tm\": \"OKC\", \"G\": 7, \"MP\": 87, \"PER\": 5.4, \"TS%\": 0.335, \"3PAr\": 0.483, \"FTr\": 0.069, \"ORB%\": 9.2, \"DRB%\": 24.7, \"TRB%\": 17.1, \"AST%\": 6.3, \"STL%\": 0.6, \"BLK%\": 3.0, \"TOV%\": 6.3, \"USG%\": -0.39264168657226967, \"OWS\": -0.1, \"DWS\": 0.1, \"WS\": 0.0, \"WS/48\": -0.017, \"OBPM\": -5.2, \"DBPM\": -0.1, \"BPM\": -0.8479041923536983, \"VORP\": -0.1, \"pred\": 28}, {\"Player\": \"Duncan Robinson\", \"Pos\": \"SF\", \"Age\": 25, \"Tm\": \"MIA\", \"G\": 73, \"MP\": 2166, \"PER\": 13.1, \"TS%\": 0.684, \"3PAr\": 0.882, \"FTr\": 0.105, \"ORB%\": 0.5, \"DRB%\": 11.0, \"TRB%\": 6.0, \"AST%\": 7.1, \"STL%\": 0.8, \"BLK%\": 0.9, \"TOV%\": 8.9, \"USG%\": -0.4103972949328248, \"OWS\": 3.7, \"DWS\": 1.6, \"WS\": 5.3, \"WS/48\": 0.118, \"OBPM\": 1.5, \"DBPM\": -1.0, \"BPM\": 0.5472137479849343, \"VORP\": 1.3, \"pred\": 25}, {\"Player\": \"Glenn Robinson III\", \"Pos\": \"SF\", \"Age\": 26, \"Tm\": \"TOT\", \"G\": 62, \"MP\": 1786, \"PER\": 13.3, \"TS%\": 0.577, \"3PAr\": 0.333, \"FTr\": 0.145, \"ORB%\": 4.8, \"DRB%\": 11.9, \"TRB%\": 8.2, \"AST%\": 8.4, \"STL%\": 1.5, \"BLK%\": 0.8, \"TOV%\": 8.0, \"USG%\": -0.3393748614906057, \"OWS\": 2.0, \"DWS\": 0.9, \"WS\": 2.9, \"WS/48\": 0.078, \"OBPM\": -0.5, \"DBPM\": -1.2, \"BPM\": 0.01803108095993575, \"VORP\": 0.1, \"pred\": 26}, {\"Player\": \"Glenn Robinson III\", \"Pos\": \"SF\", \"Age\": 26, \"Tm\": \"GSW\", \"G\": 48, \"MP\": 1516, \"PER\": 13.1, \"TS%\": 0.574, \"3PAr\": 0.335, \"FTr\": 0.146, \"ORB%\": 4.6, \"DRB%\": 11.9, \"TRB%\": 8.1, \"AST%\": 8.8, \"STL%\": 1.4, \"BLK%\": 0.8, \"TOV%\": 8.5, \"USG%\": -0.30386364476949546, \"OWS\": 1.5, \"DWS\": 0.6, \"WS\": 2.1, \"WS/48\": 0.067, \"OBPM\": -0.6, \"DBPM\": -1.2, \"BPM\": 0.01803108095993575, \"VORP\": 0.1, \"pred\": 26}, {\"Player\": \"Glenn Robinson III\", \"Pos\": \"SF\", \"Age\": 26, \"Tm\": \"PHI\", \"G\": 14, \"MP\": 270, \"PER\": 14.7, \"TS%\": 0.598, \"3PAr\": 0.318, \"FTr\": 0.141, \"ORB%\": 6.1, \"DRB%\": 11.9, \"TRB%\": 9.0, \"AST%\": 5.9, \"STL%\": 1.6, \"BLK%\": 0.6, \"TOV%\": 5.2, \"USG%\": -0.5524421618172637, \"OWS\": 0.5, \"DWS\": 0.3, \"WS\": 0.8, \"WS/48\": 0.137, \"OBPM\": 0.0, \"DBPM\": -1.3, \"BPM\": 0.09019235373607193, \"VORP\": 0.0, \"pred\": 26}, {\"Player\": \"Jerome Robinson\", \"Pos\": \"SG\", \"Age\": 22, \"Tm\": \"TOT\", \"G\": 63, \"MP\": 979, \"PER\": 7.4, \"TS%\": 0.476, \"3PAr\": 0.494, \"FTr\": 0.184, \"ORB%\": 1.4, \"DRB%\": 12.8, \"TRB%\": 7.0, \"AST%\": 11.9, \"STL%\": 1.3, \"BLK%\": 1.5, \"TOV%\": 12.8, \"USG%\": -0.3393748614906057, \"OWS\": -0.6, \"DWS\": 0.8, \"WS\": 0.2, \"WS/48\": 0.009, \"OBPM\": -3.8, \"DBPM\": -0.2, \"BPM\": -0.5111515860650627, \"VORP\": -0.5, \"pred\": 22}, {\"Player\": \"Jerome Robinson\", \"Pos\": \"SG\", \"Age\": 22, \"Tm\": \"LAC\", \"G\": 42, \"MP\": 476, \"PER\": 4.8, \"TS%\": 0.423, \"3PAr\": 0.493, \"FTr\": 0.14, \"ORB%\": 1.1, \"DRB%\": 11.7, \"TRB%\": 6.5, \"AST%\": 12.6, \"STL%\": 1.3, \"BLK%\": 1.5, \"TOV%\": 15.3, \"USG%\": -0.5879533785383732, \"OWS\": -0.6, \"DWS\": 0.6, \"WS\": 0.0, \"WS/48\": -0.004, \"OBPM\": -5.3, \"DBPM\": 0.6, \"BPM\": -0.703581646801426, \"VORP\": -0.3, \"pred\": 26}, {\"Player\": \"Jerome Robinson\", \"Pos\": \"SG\", \"Age\": 22, \"Tm\": \"WAS\", \"G\": 21, \"MP\": 503, \"PER\": 9.8, \"TS%\": 0.516, \"3PAr\": 0.494, \"FTr\": 0.218, \"ORB%\": 1.7, \"DRB%\": 13.8, \"TRB%\": 7.5, \"AST%\": 11.3, \"STL%\": 1.4, \"BLK%\": 1.6, \"TOV%\": 10.8, \"USG%\": -0.10855195280339261, \"OWS\": 0.0, \"DWS\": 0.2, \"WS\": 0.2, \"WS/48\": 0.022, \"OBPM\": -2.2, \"DBPM\": -0.9, \"BPM\": -0.3427752829207451, \"VORP\": -0.1, \"pred\": 23}, {\"Player\": \"Justin Robinson\", \"Pos\": \"PG\", \"Age\": 22, \"Tm\": \"WAS\", \"G\": 9, \"MP\": 49, \"PER\": 8.2, \"TS%\": 0.542, \"3PAr\": 0.417, \"FTr\": 0.0, \"ORB%\": 2.1, \"DRB%\": 9.3, \"TRB%\": 5.6, \"AST%\": 18.8, \"STL%\": 0.0, \"BLK%\": 1.8, \"TOV%\": 20.0, \"USG%\": -0.9963323708311347, \"OWS\": 0.0, \"DWS\": 0.0, \"WS\": 0.0, \"WS/48\": 0.007, \"OBPM\": -2.6, \"DBPM\": -3.1, \"BPM\": -0.9441192227218799, \"VORP\": 0.0, \"pred\": 22}, {\"Player\": \"Mitchell Robinson\", \"Pos\": \"C\", \"Age\": 21, \"Tm\": \"NYK\", \"G\": 61, \"MP\": 1412, \"PER\": 23.5, \"TS%\": 0.726, \"3PAr\": 0.0, \"FTr\": 0.434, \"ORB%\": 13.7, \"DRB%\": 18.8, \"TRB%\": 16.2, \"AST%\": 3.9, \"STL%\": 1.8, \"BLK%\": 8.0, \"TOV%\": 8.3, \"USG%\": -0.8897987206678054, \"OWS\": 4.8, \"DWS\": 2.0, \"WS\": 6.8, \"WS/48\": 0.23, \"OBPM\": 1.6, \"DBPM\": 1.4, \"BPM\": 1.1245039301940236, \"VORP\": 1.8, \"pred\": 21}, {\"Player\": \"Isaiah Roby\", \"Pos\": \"SF\", \"Age\": 21, \"Tm\": \"OKC\", \"G\": 3, \"MP\": 11, \"PER\": -7.7, \"TS%\": 0.0, \"3PAr\": 0.0, \"FTr\": 0.0, \"ORB%\": 0.0, \"DRB%\": 19.5, \"TRB%\": 10.0, \"AST%\": 0.0, \"STL%\": 0.0, \"BLK%\": 0.0, \"TOV%\": 50.0, \"USG%\": -1.830845963777212, \"OWS\": -0.1, \"DWS\": 0.0, \"WS\": 0.0, \"WS/48\": -0.188, \"OBPM\": -12.1, \"DBPM\": -3.4, \"BPM\": -3.301387466742328, \"VORP\": 0.0, \"pred\": 22}, {\"Player\": \"Rajon Rondo\", \"Pos\": \"PG\", \"Age\": 33, \"Tm\": \"LAL\", \"G\": 48, \"MP\": 984, \"PER\": 12.4, \"TS%\": 0.494, \"3PAr\": 0.381, \"FTr\": 0.125, \"ORB%\": 2.6, \"DRB%\": 13.1, \"TRB%\": 7.9, \"AST%\": 32.9, \"STL%\": 1.9, \"BLK%\": 0.2, \"TOV%\": 20.8, \"USG%\": 0.06900413080215581, \"OWS\": 0.1, \"DWS\": 1.3, \"WS\": 1.4, \"WS/48\": 0.068, \"OBPM\": -1.2, \"DBPM\": -0.1, \"BPM\": 0.11424611132811728, \"VORP\": 0.2, \"pred\": 33}, {\"Player\": \"Derrick Rose\", \"Pos\": \"PG\", \"Age\": 31, \"Tm\": \"DET\", \"G\": 50, \"MP\": 1298, \"PER\": 21.0, \"TS%\": 0.555, \"3PAr\": 0.195, \"FTr\": 0.185, \"ORB%\": 2.3, \"DRB%\": 8.3, \"TRB%\": 5.3, \"AST%\": 40.5, \"STL%\": 1.5, \"BLK%\": 1.0, \"TOV%\": 13.4, \"USG%\": 2.3594776093137306, \"OWS\": 1.8, \"DWS\": 0.7, \"WS\": 2.5, \"WS/48\": 0.092, \"OBPM\": 3.9, \"DBPM\": -1.7, \"BPM\": 0.9561276270497059, \"VORP\": 1.4, \"pred\": 31}, {\"Player\": \"Terrence Ross\", \"Pos\": \"SG\", \"Age\": 28, \"Tm\": \"ORL\", \"G\": 69, \"MP\": 1889, \"PER\": 14.0, \"TS%\": 0.548, \"3PAr\": 0.596, \"FTr\": 0.217, \"ORB%\": 0.7, \"DRB%\": 12.3, \"TRB%\": 6.3, \"AST%\": 6.8, \"STL%\": 2.0, \"BLK%\": 1.1, \"TOV%\": 7.0, \"USG%\": 0.7969840735849045, \"OWS\": 1.1, \"DWS\": 2.0, \"WS\": 3.0, \"WS/48\": 0.077, \"OBPM\": -0.1, \"DBPM\": -0.3, \"BPM\": 0.33072992965652576, \"VORP\": 0.8, \"pred\": 28}, {\"Player\": \"Terry Rozier\", \"Pos\": \"PG\", \"Age\": 25, \"Tm\": \"CHO\", \"G\": 63, \"MP\": 2164, \"PER\": 14.8, \"TS%\": 0.553, \"3PAr\": 0.45, \"FTr\": 0.202, \"ORB%\": 2.4, \"DRB%\": 11.8, \"TRB%\": 7.0, \"AST%\": 20.4, \"STL%\": 1.4, \"BLK%\": 0.4, \"TOV%\": 12.1, \"USG%\": 0.9567845488298978, \"OWS\": 1.9, \"DWS\": 1.1, \"WS\": 3.0, \"WS/48\": 0.066, \"OBPM\": 0.8, \"DBPM\": -1.2, \"BPM\": 0.33072992965652576, \"VORP\": 0.8, \"pred\": 25}, {\"Player\": \"Ricky Rubio\", \"Pos\": \"PG\", \"Age\": 29, \"Tm\": \"PHO\", \"G\": 65, \"MP\": 2016, \"PER\": 16.5, \"TS%\": 0.535, \"3PAr\": 0.312, \"FTr\": 0.327, \"ORB%\": 2.5, \"DRB%\": 14.4, \"TRB%\": 8.4, \"AST%\": 39.7, \"STL%\": 2.2, \"BLK%\": 0.5, \"TOV%\": 17.9, \"USG%\": 0.370849472931588, \"OWS\": 2.9, \"DWS\": 2.0, \"WS\": 4.9, \"WS/48\": 0.117, \"OBPM\": 0.7, \"DBPM\": 0.2, \"BPM\": 0.6674825359451612, \"VORP\": 1.5, \"pred\": 29}, {\"Player\": \"D'Angelo Russell\", \"Pos\": \"PG\", \"Age\": 23, \"Tm\": \"TOT\", \"G\": 45, \"MP\": 1452, \"PER\": 18.7, \"TS%\": 0.556, \"3PAr\": 0.509, \"FTr\": 0.235, \"ORB%\": 1.2, \"DRB%\": 12.3, \"TRB%\": 6.6, \"AST%\": 35.2, \"STL%\": 1.6, \"BLK%\": 0.8, \"TOV%\": 13.6, \"USG%\": 2.3417220009531756, \"OWS\": 1.1, \"DWS\": 0.7, \"WS\": 1.8, \"WS/48\": 0.06, \"OBPM\": 3.8, \"DBPM\": -1.9, \"BPM\": 0.8839663542735697, \"VORP\": 1.4, \"pred\": 31}, {\"Player\": \"D'Angelo Russell\", \"Pos\": \"PG\", \"Age\": 23, \"Tm\": \"GSW\", \"G\": 33, \"MP\": 1060, \"PER\": 19.1, \"TS%\": 0.558, \"3PAr\": 0.506, \"FTr\": 0.227, \"ORB%\": 1.4, \"DRB%\": 11.4, \"TRB%\": 6.2, \"AST%\": 36.0, \"STL%\": 1.4, \"BLK%\": 0.8, \"TOV%\": 12.6, \"USG%\": 2.46601125947706, \"OWS\": 0.9, \"DWS\": 0.4, \"WS\": 1.3, \"WS/48\": 0.058, \"OBPM\": 4.5, \"DBPM\": -1.9, \"BPM\": 1.0523426574178876, \"VORP\": 1.2, \"pred\": 31}, {\"Player\": \"D'Angelo Russell\", \"Pos\": \"PG\", \"Age\": 23, \"Tm\": \"MIN\", \"G\": 12, \"MP\": 392, \"PER\": 17.6, \"TS%\": 0.553, \"3PAr\": 0.521, \"FTr\": 0.261, \"ORB%\": 0.8, \"DRB%\": 14.5, \"TRB%\": 7.4, \"AST%\": 33.1, \"STL%\": 2.0, \"BLK%\": 0.8, \"TOV%\": 16.4, \"USG%\": 1.9866098337420788, \"OWS\": 0.2, \"DWS\": 0.3, \"WS\": 0.5, \"WS/48\": 0.064, \"OBPM\": 1.8, \"DBPM\": -1.7, \"BPM\": 0.45099871761675275, \"VORP\": 0.2, \"pred\": 23}, {\"Player\": \"Domantas Sabonis\", \"Pos\": \"PF\", \"Age\": 23, \"Tm\": \"IND\", \"G\": 62, \"MP\": 2159, \"PER\": 20.7, \"TS%\": 0.586, \"3PAr\": 0.079, \"FTr\": 0.349, \"ORB%\": 9.7, \"DRB%\": 29.3, \"TRB%\": 19.6, \"AST%\": 21.7, \"STL%\": 1.1, \"BLK%\": 1.2, \"TOV%\": 14.8, \"USG%\": 0.8857621153876788, \"OWS\": 4.1, \"DWS\": 3.4, \"WS\": 7.5, \"WS/48\": 0.168, \"OBPM\": 2.0, \"DBPM\": 1.2, \"BPM\": 1.1966652029701597, \"VORP\": 2.9, \"pred\": 23}, {\"Player\": \"Luka \\u0160amani\\u0107\", \"Pos\": \"PF\", \"Age\": 20, \"Tm\": \"SAS\", \"G\": 3, \"MP\": 48, \"PER\": 8.8, \"TS%\": 0.45, \"3PAr\": 0.5, \"FTr\": 0.25, \"ORB%\": 2.2, \"DRB%\": 20.2, \"TRB%\": 11.2, \"AST%\": 16.3, \"STL%\": 0.0, \"BLK%\": 3.7, \"TOV%\": 10.1, \"USG%\": -0.09079634444283752, \"OWS\": 0.0, \"DWS\": 0.0, \"WS\": 0.0, \"WS/48\": 0.011, \"OBPM\": -2.4, \"DBPM\": -1.7, \"BPM\": -0.5592591012491536, \"VORP\": 0.0, \"pred\": 20}, {\"Player\": \"JaKarr Sampson\", \"Pos\": \"SF\", \"Age\": 26, \"Tm\": \"IND\", \"G\": 34, \"MP\": 471, \"PER\": 12.6, \"TS%\": 0.615, \"3PAr\": 0.113, \"FTr\": 0.235, \"ORB%\": 4.7, \"DRB%\": 15.7, \"TRB%\": 10.2, \"AST%\": 6.1, \"STL%\": 1.6, \"BLK%\": 2.2, \"TOV%\": 10.6, \"USG%\": -0.9075543290283604, \"OWS\": 0.6, \"DWS\": 0.7, \"WS\": 1.2, \"WS/48\": 0.124, \"OBPM\": -2.8, \"DBPM\": 1.4, \"BPM\": 0.09019235373607193, \"VORP\": 0.1, \"pred\": 26}, {\"Player\": \"Dario \\u0160ari\\u0107\", \"Pos\": \"PF\", \"Age\": 25, \"Tm\": \"PHO\", \"G\": 66, \"MP\": 1632, \"PER\": 14.2, \"TS%\": 0.592, \"3PAr\": 0.437, \"FTr\": 0.238, \"ORB%\": 6.7, \"DRB%\": 21.1, \"TRB%\": 13.8, \"AST%\": 10.8, \"STL%\": 1.1, \"BLK%\": 0.9, \"TOV%\": 12.9, \"USG%\": -0.09079634444283752, \"OWS\": 2.1, \"DWS\": 1.5, \"WS\": 3.6, \"WS/48\": 0.105, \"OBPM\": -0.1, \"DBPM\": -0.3, \"BPM\": 0.33072992965652576, \"VORP\": 0.7, \"pred\": 25}, {\"Player\": \"Tom\\u00e1\\u0161 Satoransk\\u00fd\", \"Pos\": \"PG\", \"Age\": 28, \"Tm\": \"CHI\", \"G\": 65, \"MP\": 1878, \"PER\": 13.5, \"TS%\": 0.533, \"3PAr\": 0.361, \"FTr\": 0.22, \"ORB%\": 4.3, \"DRB%\": 11.0, \"TRB%\": 7.5, \"AST%\": 27.1, \"STL%\": 2.1, \"BLK%\": 0.4, \"TOV%\": 17.7, \"USG%\": -0.286108036408941, \"OWS\": 1.8, \"DWS\": 1.7, \"WS\": 3.5, \"WS/48\": 0.09, \"OBPM\": -1.1, \"DBPM\": -0.2, \"BPM\": 0.11424611132811728, \"VORP\": 0.3, \"pred\": 28}, {\"Player\": \"Admiral Schofield\", \"Pos\": \"SF\", \"Age\": 22, \"Tm\": \"WAS\", \"G\": 33, \"MP\": 368, \"PER\": 6.1, \"TS%\": 0.502, \"3PAr\": 0.663, \"FTr\": 0.163, \"ORB%\": 2.0, \"DRB%\": 12.4, \"TRB%\": 7.0, \"AST%\": 5.3, \"STL%\": 1.0, \"BLK%\": 0.9, \"TOV%\": 6.6, \"USG%\": -1.1383772377155732, \"OWS\": 0.1, \"DWS\": 0.1, \"WS\": 0.1, \"WS/48\": 0.017, \"OBPM\": -4.3, \"DBPM\": -1.2, \"BPM\": -0.896011707537789, \"VORP\": -0.3, \"pred\": 22}, {\"Player\": \"Dennis Schr\\u00f6der\", \"Pos\": \"PG\", \"Age\": 26, \"Tm\": \"OKC\", \"G\": 65, \"MP\": 1999, \"PER\": 16.7, \"TS%\": 0.575, \"3PAr\": 0.337, \"FTr\": 0.245, \"ORB%\": 1.1, \"DRB%\": 11.6, \"TRB%\": 6.5, \"AST%\": 21.9, \"STL%\": 1.1, \"BLK%\": 0.6, \"TOV%\": 13.4, \"USG%\": 1.5782308414493174, \"OWS\": 1.9, \"DWS\": 1.8, \"WS\": 3.6, \"WS/48\": 0.087, \"OBPM\": 1.1, \"DBPM\": -1.1, \"BPM\": 0.42694496002470733, \"VORP\": 1.0, \"pred\": 26}, {\"Player\": \"Mike Scott\", \"Pos\": \"PF\", \"Age\": 31, \"Tm\": \"PHI\", \"G\": 68, \"MP\": 1207, \"PER\": 11.2, \"TS%\": 0.557, \"3PAr\": 0.62, \"FTr\": 0.106, \"ORB%\": 5.9, \"DRB%\": 16.8, \"TRB%\": 11.3, \"AST%\": 6.4, \"STL%\": 0.8, \"BLK%\": 0.4, \"TOV%\": 6.6, \"USG%\": -0.7655094621439216, \"OWS\": 1.4, \"DWS\": 1.1, \"WS\": 2.5, \"WS/48\": 0.1, \"OBPM\": -0.7, \"DBPM\": -1.1, \"BPM\": -0.00602267663210966, \"VORP\": 0.1, \"pred\": 31}, {\"Player\": \"Thabo Sefolosha\", \"Pos\": \"PF\", \"Age\": 35, \"Tm\": \"HOU\", \"G\": 41, \"MP\": 436, \"PER\": 9.4, \"TS%\": 0.487, \"3PAr\": 0.593, \"FTr\": 0.088, \"ORB%\": 5.0, \"DRB%\": 17.5, \"TRB%\": 11.2, \"AST%\": 7.5, \"STL%\": 2.5, \"BLK%\": 2.4, \"TOV%\": 13.7, \"USG%\": -1.4047113631238959, \"OWS\": 0.0, \"DWS\": 0.6, \"WS\": 0.7, \"WS/48\": 0.072, \"OBPM\": -2.9, \"DBPM\": 1.6, \"BPM\": 0.1382998689201627, \"VORP\": 0.1, \"pred\": 35}, {\"Player\": \"Collin Sexton\", \"Pos\": \"SG\", \"Age\": 21, \"Tm\": \"CLE\", \"G\": 65, \"MP\": 2143, \"PER\": 16.3, \"TS%\": 0.56, \"3PAr\": 0.235, \"FTr\": 0.246, \"ORB%\": 3.1, \"DRB%\": 7.5, \"TRB%\": 5.3, \"AST%\": 15.1, \"STL%\": 1.5, \"BLK%\": 0.3, \"TOV%\": 11.6, \"USG%\": 1.5782308414493174, \"OWS\": 2.1, \"DWS\": 0.4, \"WS\": 2.5, \"WS/48\": 0.057, \"OBPM\": 0.3, \"DBPM\": -2.1, \"BPM\": -0.00602267663210966, \"VORP\": 0.1, \"pred\": 21}, {\"Player\": \"Landry Shamet\", \"Pos\": \"SG\", \"Age\": 22, \"Tm\": \"LAC\", \"G\": 53, \"MP\": 1452, \"PER\": 8.5, \"TS%\": 0.58, \"3PAr\": 0.757, \"FTr\": 0.194, \"ORB%\": 0.4, \"DRB%\": 6.6, \"TRB%\": 3.6, \"AST%\": 9.1, \"STL%\": 0.7, \"BLK%\": 0.6, \"TOV%\": 9.0, \"USG%\": -0.8720431123072506, \"OWS\": 1.5, \"DWS\": 1.1, \"WS\": 2.6, \"WS/48\": 0.086, \"OBPM\": -1.8, \"DBPM\": -0.3, \"BPM\": -0.07818394940824584, \"VORP\": 0.0, \"pred\": 22}, {\"Player\": \"Marial Shayok\", \"Pos\": \"SG\", \"Age\": 24, \"Tm\": \"PHI\", \"G\": 4, \"MP\": 28, \"PER\": 1.4, \"TS%\": 0.4, \"3PAr\": 0.5, \"FTr\": 0.333, \"ORB%\": 3.9, \"DRB%\": 23.7, \"TRB%\": 13.8, \"AST%\": 4.8, \"STL%\": 0.0, \"BLK%\": 3.0, \"TOV%\": 17.9, \"USG%\": 1.3296523244015497, \"OWS\": -0.1, \"DWS\": 0.0, \"WS\": -0.1, \"WS/48\": -0.13, \"OBPM\": -9.3, \"DBPM\": -3.7, \"BPM\": -2.7000435269411933, \"VORP\": -0.1, \"pred\": 24}, {\"Player\": \"Iman Shumpert\", \"Pos\": \"SG\", \"Age\": 29, \"Tm\": \"BRK\", \"G\": 13, \"MP\": 241, \"PER\": 5.3, \"TS%\": 0.403, \"3PAr\": 0.516, \"FTr\": 0.109, \"ORB%\": 3.9, \"DRB%\": 10.5, \"TRB%\": 7.3, \"AST%\": 6.7, \"STL%\": 2.4, \"BLK%\": 0.7, \"TOV%\": 13.0, \"USG%\": -0.8720431123072506, \"OWS\": -0.3, \"DWS\": 0.3, \"WS\": 0.0, \"WS/48\": -0.005, \"OBPM\": -6.3, \"DBPM\": 0.8, \"BPM\": -0.896011707537789, \"VORP\": -0.2, \"pred\": 26}, {\"Player\": \"Pascal Siakam\", \"Pos\": \"PF\", \"Age\": 25, \"Tm\": \"TOR\", \"G\": 60, \"MP\": 2110, \"PER\": 17.9, \"TS%\": 0.554, \"3PAr\": 0.331, \"FTr\": 0.274, \"ORB%\": 3.3, \"DRB%\": 18.3, \"TRB%\": 11.0, \"AST%\": 16.4, \"STL%\": 1.4, \"BLK%\": 2.5, \"TOV%\": 10.7, \"USG%\": 1.7380313166943113, \"OWS\": 1.8, \"DWS\": 3.6, \"WS\": 5.4, \"WS/48\": 0.123, \"OBPM\": 1.3, \"DBPM\": 0.5, \"BPM\": 0.8599125966815243, \"VORP\": 2.0, \"pred\": 25}, {\"Player\": \"Chris Silva\", \"Pos\": \"PF\", \"Age\": 23, \"Tm\": \"MIA\", \"G\": 44, \"MP\": 346, \"PER\": 17.3, \"TS%\": 0.651, \"3PAr\": 0.038, \"FTr\": 0.705, \"ORB%\": 20.2, \"DRB%\": 20.6, \"TRB%\": 20.4, \"AST%\": 9.9, \"STL%\": 1.3, \"BLK%\": 6.0, \"TOV%\": 23.8, \"USG%\": -0.21508560296672127, \"OWS\": 0.7, \"DWS\": 0.5, \"WS\": 1.3, \"WS/48\": 0.178, \"OBPM\": -3.1, \"DBPM\": 0.8, \"BPM\": -0.12629146459233656, \"VORP\": 0.0, \"pred\": 24}, {\"Player\": \"Ben Simmons\", \"Pos\": \"PG\", \"Age\": 23, \"Tm\": \"PHI\", \"G\": 57, \"MP\": 2017, \"PER\": 20.4, \"TS%\": 0.602, \"3PAr\": 0.011, \"FTr\": 0.461, \"ORB%\": 6.2, \"DRB%\": 18.2, \"TRB%\": 12.2, \"AST%\": 33.8, \"STL%\": 2.9, \"BLK%\": 1.4, \"TOV%\": 20.4, \"USG%\": 0.4596275147343622, \"OWS\": 3.8, \"DWS\": 3.1, \"WS\": 6.9, \"WS/48\": 0.165, \"OBPM\": 1.3, \"DBPM\": 2.3, \"BPM\": 1.2928802333383413, \"VORP\": 2.8, \"pred\": 23}, {\"Player\": \"Anfernee Simons\", \"Pos\": \"SG\", \"Age\": 20, \"Tm\": \"POR\", \"G\": 70, \"MP\": 1449, \"PER\": 9.0, \"TS%\": 0.502, \"3PAr\": 0.422, \"FTr\": 0.172, \"ORB%\": 1.8, \"DRB%\": 9.1, \"TRB%\": 5.5, \"AST%\": 9.2, \"STL%\": 0.9, \"BLK%\": 0.6, \"TOV%\": 9.6, \"USG%\": 0.06900413080215581, \"OWS\": 0.0, \"DWS\": 0.1, \"WS\": 0.2, \"WS/48\": 0.005, \"OBPM\": -2.6, \"DBPM\": -1.9, \"BPM\": -0.6554741316173351, \"VORP\": -0.9, \"pred\": 20}, {\"Player\": \"Alen Smailagi\\u0107\", \"Pos\": \"PF\", \"Age\": 19, \"Tm\": \"GSW\", \"G\": 14, \"MP\": 139, \"PER\": 14.5, \"TS%\": 0.61, \"3PAr\": 0.325, \"FTr\": 0.475, \"ORB%\": 7.5, \"DRB%\": 13.7, \"TRB%\": 10.5, \"AST%\": 14.3, \"STL%\": 1.0, \"BLK%\": 2.6, \"TOV%\": 18.5, \"USG%\": -0.0197739110006184, \"OWS\": 0.2, \"DWS\": 0.1, \"WS\": 0.2, \"WS/48\": 0.081, \"OBPM\": -1.4, \"DBPM\": -0.8, \"BPM\": -0.10223770700029125, \"VORP\": 0.0, \"pred\": 19}, {\"Player\": \"Marcus Smart\", \"Pos\": \"SG\", \"Age\": 25, \"Tm\": \"BOS\", \"G\": 60, \"MP\": 1919, \"PER\": 13.8, \"TS%\": 0.518, \"3PAr\": 0.579, \"FTr\": 0.223, \"ORB%\": 2.4, \"DRB%\": 10.1, \"TRB%\": 6.3, \"AST%\": 21.1, \"STL%\": 2.5, \"BLK%\": 1.4, \"TOV%\": 12.1, \"USG%\": 0.10451534752326536, \"OWS\": 1.7, \"DWS\": 2.8, \"WS\": 4.5, \"WS/48\": 0.112, \"OBPM\": 0.0, \"DBPM\": 1.4, \"BPM\": 0.7636975663133428, \"VORP\": 1.6, \"pred\": 25}, {\"Player\": \"Dennis Smith Jr.\", \"Pos\": \"PG\", \"Age\": 22, \"Tm\": \"NYK\", \"G\": 34, \"MP\": 537, \"PER\": 7.4, \"TS%\": 0.399, \"3PAr\": 0.256, \"FTr\": 0.251, \"ORB%\": 4.1, \"DRB%\": 11.7, \"TRB%\": 7.7, \"AST%\": 26.4, \"STL%\": 2.5, \"BLK%\": 1.4, \"TOV%\": 19.8, \"USG%\": 0.8502508986665692, \"OWS\": -1.4, \"DWS\": 0.5, \"WS\": -0.9, \"WS/48\": -0.079, \"OBPM\": -5.2, \"DBPM\": -0.9, \"BPM\": -1.0403342530900612, \"VORP\": -0.6, \"pred\": 30}, {\"Player\": \"Ish Smith\", \"Pos\": \"PG\", \"Age\": 31, \"Tm\": \"WAS\", \"G\": 68, \"MP\": 1787, \"PER\": 13.9, \"TS%\": 0.509, \"3PAr\": 0.245, \"FTr\": 0.125, \"ORB%\": 1.8, \"DRB%\": 12.0, \"TRB%\": 6.7, \"AST%\": 27.1, \"STL%\": 1.5, \"BLK%\": 1.5, \"TOV%\": 11.6, \"USG%\": 0.14002656424437554, \"OWS\": 1.3, \"DWS\": 0.6, \"WS\": 1.9, \"WS/48\": 0.051, \"OBPM\": -0.3, \"DBPM\": -1.0, \"BPM\": 0.11424611132811728, \"VORP\": 0.3, \"pred\": 31}, {\"Player\": \"J.R. Smith\", \"Pos\": \"SG\", \"Age\": 34, \"Tm\": \"LAL\", \"G\": 6, \"MP\": 79, \"PER\": 0.0, \"TS%\": 0.372, \"3PAr\": 0.5, \"FTr\": 0.091, \"ORB%\": 0.0, \"DRB%\": 6.9, \"TRB%\": 3.5, \"AST%\": 4.8, \"STL%\": 0.6, \"BLK%\": 0.0, \"TOV%\": 14.9, \"USG%\": -0.712242637062257, \"OWS\": -0.2, \"DWS\": 0.1, \"WS\": -0.1, \"WS/48\": -0.077, \"OBPM\": -7.8, \"DBPM\": -2.0, \"BPM\": -1.930323283995741, \"VORP\": -0.2, \"pred\": 34}, {\"Player\": \"Zhaire Smith\", \"Pos\": \"SG\", \"Age\": 20, \"Tm\": \"PHI\", \"G\": 7, \"MP\": 32, \"PER\": 1.1, \"TS%\": 0.313, \"3PAr\": 0.273, \"FTr\": 0.364, \"ORB%\": 0.0, \"DRB%\": 6.9, \"TRB%\": 3.5, \"AST%\": 8.2, \"STL%\": 4.5, \"BLK%\": 0.0, \"TOV%\": 13.6, \"USG%\": 0.2820714311288138, \"OWS\": -0.1, \"DWS\": 0.1, \"WS\": -0.1, \"WS/48\": -0.12, \"OBPM\": -10.8, \"DBPM\": 0.8, \"BPM\": -1.9784307991798316, \"VORP\": -0.1, \"pred\": 20}, {\"Player\": \"Tony Snell\", \"Pos\": \"SF\", \"Age\": 28, \"Tm\": \"DET\", \"G\": 59, \"MP\": 1641, \"PER\": 9.7, \"TS%\": 0.598, \"3PAr\": 0.665, \"FTr\": 0.084, \"ORB%\": 0.6, \"DRB%\": 7.1, \"TRB%\": 3.8, \"AST%\": 10.9, \"STL%\": 1.0, \"BLK%\": 0.8, \"TOV%\": 7.3, \"USG%\": -1.2271552795183474, \"OWS\": 2.1, \"DWS\": 0.5, \"WS\": 2.6, \"WS/48\": 0.076, \"OBPM\": -1.2, \"DBPM\": -0.6, \"BPM\": -0.00602267663210966, \"VORP\": 0.1, \"pred\": 28}, {\"Player\": \"Omari Spellman\", \"Pos\": \"PF\", \"Age\": 22, \"Tm\": \"GSW\", \"G\": 49, \"MP\": 886, \"PER\": 14.4, \"TS%\": 0.551, \"3PAr\": 0.373, \"FTr\": 0.312, \"ORB%\": 9.1, \"DRB%\": 18.0, \"TRB%\": 13.4, \"AST%\": 8.1, \"STL%\": 1.8, \"BLK%\": 2.4, \"TOV%\": 13.9, \"USG%\": 0.0867597391627109, \"OWS\": 0.5, \"DWS\": 0.7, \"WS\": 1.2, \"WS/48\": 0.066, \"OBPM\": -0.8, \"DBPM\": -1.0, \"BPM\": 0.01803108095993575, \"VORP\": 0.1, \"pred\": 22}, {\"Player\": \"Max Strus\", \"Pos\": \"SG\", \"Age\": 23, \"Tm\": \"CHI\", \"G\": 2, \"MP\": 6, \"PER\": 30.7, \"TS%\": 0.727, \"3PAr\": 0.333, \"FTr\": 0.333, \"ORB%\": 17.5, \"DRB%\": 0.0, \"TRB%\": 9.2, \"AST%\": 0.0, \"STL%\": 0.0, \"BLK%\": 0.0, \"TOV%\": 0.0, \"USG%\": 1.0810738073537816, \"OWS\": 0.0, \"DWS\": 0.0, \"WS\": 0.0, \"WS/48\": 0.316, \"OBPM\": 5.3, \"DBPM\": -1.0, \"BPM\": 1.4853102940747045, \"VORP\": 0.0, \"pred\": 23}, {\"Player\": \"Edmond Sumner\", \"Pos\": \"PG\", \"Age\": 24, \"Tm\": \"IND\", \"G\": 31, \"MP\": 447, \"PER\": 10.1, \"TS%\": 0.491, \"3PAr\": 0.373, \"FTr\": 0.204, \"ORB%\": 2.7, \"DRB%\": 8.5, \"TRB%\": 5.6, \"AST%\": 16.7, \"STL%\": 1.6, \"BLK%\": 1.8, \"TOV%\": 12.4, \"USG%\": -0.17957438624561173, \"OWS\": -0.1, \"DWS\": 0.5, \"WS\": 0.4, \"WS/48\": 0.047, \"OBPM\": -3.2, \"DBPM\": 0.2, \"BPM\": -0.2946677677366543, \"VORP\": -0.1, \"pred\": 24}, {\"Player\": \"Caleb Swanigan\", \"Pos\": \"PF\", \"Age\": 22, \"Tm\": \"TOT\", \"G\": 27, \"MP\": 288, \"PER\": 7.6, \"TS%\": 0.597, \"3PAr\": 0.043, \"FTr\": 0.362, \"ORB%\": 9.9, \"DRB%\": 26.4, \"TRB%\": 18.3, \"AST%\": 13.9, \"STL%\": 0.5, \"BLK%\": 2.2, \"TOV%\": 40.4, \"USG%\": -0.8542875039466958, \"OWS\": -0.2, \"DWS\": 0.2, \"WS\": 0.0, \"WS/48\": 0.004, \"OBPM\": -6.2, \"DBPM\": 0.2, \"BPM\": -1.016280495498016, \"VORP\": -0.3, \"pred\": 22}, {\"Player\": \"Caleb Swanigan\", \"Pos\": \"PF\", \"Age\": 22, \"Tm\": \"SAC\", \"G\": 7, \"MP\": 23, \"PER\": -0.1, \"TS%\": 0.512, \"3PAr\": 0.0, \"FTr\": 0.5, \"ORB%\": 9.6, \"DRB%\": 25.1, \"TRB%\": 17.1, \"AST%\": 11.5, \"STL%\": 2.1, \"BLK%\": 8.3, \"TOV%\": 55.1, \"USG%\": 0.38860508129214305, \"OWS\": -0.1, \"DWS\": 0.0, \"WS\": -0.1, \"WS/48\": -0.177, \"OBPM\": -14.6, \"DBPM\": 3.3, \"BPM\": -2.2911296478764216, \"VORP\": -0.1, \"pred\": 22}, {\"Player\": \"Caleb Swanigan\", \"Pos\": \"PF\", \"Age\": 22, \"Tm\": \"POR\", \"G\": 20, \"MP\": 265, \"PER\": 8.2, \"TS%\": 0.605, \"3PAr\": 0.047, \"FTr\": 0.349, \"ORB%\": 10.0, \"DRB%\": 26.5, \"TRB%\": 18.3, \"AST%\": 14.1, \"STL%\": 0.4, \"BLK%\": 1.6, \"TOV%\": 38.5, \"USG%\": -0.9608211541100248, \"OWS\": -0.1, \"DWS\": 0.2, \"WS\": 0.1, \"WS/48\": 0.02, \"OBPM\": -5.5, \"DBPM\": -0.1, \"BPM\": -0.9200654651298343, \"VORP\": -0.2, \"pred\": 22}, {\"Player\": \"Jayson Tatum\", \"Pos\": \"PF\", \"Age\": 21, \"Tm\": \"BOS\", \"G\": 66, \"MP\": 2265, \"PER\": 20.4, \"TS%\": 0.567, \"3PAr\": 0.383, \"FTr\": 0.255, \"ORB%\": 3.1, \"DRB%\": 18.5, \"TRB%\": 10.9, \"AST%\": 14.5, \"STL%\": 2.0, \"BLK%\": 2.3, \"TOV%\": 10.2, \"USG%\": 1.8268093584970855, \"OWS\": 3.2, \"DWS\": 3.7, \"WS\": 6.9, \"WS/48\": 0.146, \"OBPM\": 3.5, \"DBPM\": 0.6, \"BPM\": 1.3890952637065228, \"VORP\": 3.4, \"pred\": 29}, {\"Player\": \"Jeff Teague\", \"Pos\": \"PG\", \"Age\": 31, \"Tm\": \"TOT\", \"G\": 59, \"MP\": 1464, \"PER\": 14.6, \"TS%\": 0.557, \"3PAr\": 0.239, \"FTr\": 0.403, \"ORB%\": 1.9, \"DRB%\": 8.6, \"TRB%\": 5.2, \"AST%\": 30.7, \"STL%\": 1.4, \"BLK%\": 1.1, \"TOV%\": 16.8, \"USG%\": 0.21104899768659466, \"OWS\": 1.9, \"DWS\": 0.6, \"WS\": 2.5, \"WS/48\": 0.082, \"OBPM\": -0.2, \"DBPM\": -1.3, \"BPM\": 0.06613859614402652, \"VORP\": 0.2, \"pred\": 31}, {\"Player\": \"Jeff Teague\", \"Pos\": \"PG\", \"Age\": 31, \"Tm\": \"MIN\", \"G\": 34, \"MP\": 945, \"PER\": 15.9, \"TS%\": 0.578, \"3PAr\": 0.269, \"FTr\": 0.444, \"ORB%\": 1.6, \"DRB%\": 8.5, \"TRB%\": 4.9, \"AST%\": 32.5, \"STL%\": 1.2, \"BLK%\": 1.1, \"TOV%\": 16.4, \"USG%\": 0.3353382562104784, \"OWS\": 1.7, \"DWS\": 0.4, \"WS\": 2.1, \"WS/48\": 0.108, \"OBPM\": 0.6, \"DBPM\": -1.2, \"BPM\": 0.282622414472435, \"VORP\": 0.3, \"pred\": 31}, {\"Player\": \"Jeff Teague\", \"Pos\": \"PG\", \"Age\": 31, \"Tm\": \"ATL\", \"G\": 25, \"MP\": 519, \"PER\": 12.2, \"TS%\": 0.512, \"3PAr\": 0.182, \"FTr\": 0.321, \"ORB%\": 2.5, \"DRB%\": 8.8, \"TRB%\": 5.6, \"AST%\": 27.3, \"STL%\": 1.7, \"BLK%\": 1.0, \"TOV%\": 17.5, \"USG%\": -0.0020183026400633066, \"OWS\": 0.2, \"DWS\": 0.2, \"WS\": 0.4, \"WS/48\": 0.035, \"OBPM\": -1.6, \"DBPM\": -1.5, \"BPM\": -0.31872152532869974, \"VORP\": -0.2, \"pred\": 31}, {\"Player\": \"Garrett Temple\", \"Pos\": \"SG\", \"Age\": 33, \"Tm\": \"BRK\", \"G\": 62, \"MP\": 1730, \"PER\": 10.5, \"TS%\": 0.513, \"3PAr\": 0.658, \"FTr\": 0.148, \"ORB%\": 1.8, \"DRB%\": 11.1, \"TRB%\": 6.5, \"AST%\": 12.8, \"STL%\": 1.3, \"BLK%\": 1.4, \"TOV%\": 9.0, \"USG%\": -0.30386364476949546, \"OWS\": 0.7, \"DWS\": 1.7, \"WS\": 2.4, \"WS/48\": 0.066, \"OBPM\": -1.4, \"DBPM\": 0.3, \"BPM\": 0.16235362651220805, \"VORP\": 0.4, \"pred\": 28}, {\"Player\": \"Daniel Theis\", \"Pos\": \"C\", \"Age\": 27, \"Tm\": \"BOS\", \"G\": 65, \"MP\": 1566, \"PER\": 17.9, \"TS%\": 0.631, \"3PAr\": 0.225, \"FTr\": 0.268, \"ORB%\": 9.7, \"DRB%\": 19.3, \"TRB%\": 14.6, \"AST%\": 10.1, \"STL%\": 1.1, \"BLK%\": 5.0, \"TOV%\": 10.2, \"USG%\": -0.6944870287017022, \"OWS\": 4.0, \"DWS\": 2.6, \"WS\": 6.5, \"WS/48\": 0.201, \"OBPM\": 0.6, \"DBPM\": 1.8, \"BPM\": 1.0042351422337967, \"VORP\": 1.7, \"pred\": 27}, {\"Player\": \"Isaiah Thomas\", \"Pos\": \"PG\", \"Age\": 30, \"Tm\": \"WAS\", \"G\": 40, \"MP\": 925, \"PER\": 11.6, \"TS%\": 0.531, \"3PAr\": 0.444, \"FTr\": 0.178, \"ORB%\": 1.2, \"DRB%\": 7.0, \"TRB%\": 4.0, \"AST%\": 23.4, \"STL%\": 0.7, \"BLK%\": 0.6, \"TOV%\": 14.4, \"USG%\": 1.0278069822721176, \"OWS\": 0.1, \"DWS\": -0.1, \"WS\": 0.0, \"WS/48\": 0.002, \"OBPM\": -0.5, \"DBPM\": -3.9, \"BPM\": -0.6073666164332444, \"VORP\": -0.5, \"pred\": 30}, {\"Player\": \"Khyri Thomas\", \"Pos\": \"SG\", \"Age\": 23, \"Tm\": \"DET\", \"G\": 8, \"MP\": 61, \"PER\": 3.1, \"TS%\": 0.453, \"3PAr\": 0.824, \"FTr\": 0.235, \"ORB%\": 1.8, \"DRB%\": 0.0, \"TRB%\": 0.9, \"AST%\": 6.7, \"STL%\": 2.4, \"BLK%\": 0.0, \"TOV%\": 13.8, \"USG%\": -0.4814197283750442, \"OWS\": -0.1, \"DWS\": 0.0, \"WS\": 0.0, \"WS/48\": -0.038, \"OBPM\": -6.2, \"DBPM\": -1.7, \"BPM\": -1.4733018897468786, \"VORP\": -0.1, \"pred\": 23}, {\"Player\": \"Lance Thomas\", \"Pos\": \"SF\", \"Age\": 31, \"Tm\": \"BRK\", \"G\": 7, \"MP\": 98, \"PER\": 3.0, \"TS%\": 0.485, \"3PAr\": 0.565, \"FTr\": 0.174, \"ORB%\": 2.2, \"DRB%\": 11.4, \"TRB%\": 6.9, \"AST%\": 8.2, \"STL%\": 0.0, \"BLK%\": 0.0, \"TOV%\": 19.5, \"USG%\": -0.9253099373889152, \"OWS\": -0.1, \"DWS\": 0.1, \"WS\": 0.0, \"WS/48\": -0.015, \"OBPM\": -5.7, \"DBPM\": -2.6, \"BPM\": -1.56951692011506, \"VORP\": -0.2, \"pred\": 31}, {\"Player\": \"Matt Thomas\", \"Pos\": \"SG\", \"Age\": 25, \"Tm\": \"TOR\", \"G\": 41, \"MP\": 440, \"PER\": 13.3, \"TS%\": 0.65, \"3PAr\": 0.66, \"FTr\": 0.08, \"ORB%\": 2.2, \"DRB%\": 12.2, \"TRB%\": 7.3, \"AST%\": 7.5, \"STL%\": 1.1, \"BLK%\": 0.2, \"TOV%\": 9.3, \"USG%\": -0.30386364476949546, \"OWS\": 0.7, \"DWS\": 0.6, \"WS\": 1.2, \"WS/48\": 0.133, \"OBPM\": 1.0, \"DBPM\": 0.1, \"BPM\": 0.6915362935372067, \"VORP\": 0.3, \"pred\": 25}, {\"Player\": \"Tristan Thompson\", \"Pos\": \"C\", \"Age\": 28, \"Tm\": \"CLE\", \"G\": 57, \"MP\": 1721, \"PER\": 16.8, \"TS%\": 0.54, \"3PAr\": 0.041, \"FTr\": 0.286, \"ORB%\": 14.5, \"DRB%\": 22.9, \"TRB%\": 18.6, \"AST%\": 10.5, \"STL%\": 0.9, \"BLK%\": 2.5, \"TOV%\": 14.0, \"USG%\": -0.0020183026400633066, \"OWS\": 2.0, \"DWS\": 1.1, \"WS\": 3.1, \"WS/48\": 0.085, \"OBPM\": -0.3, \"DBPM\": -1.3, \"BPM\": 0.06613859614402652, \"VORP\": 0.2, \"pred\": 28}, {\"Player\": \"Sindarius Thornwell\", \"Pos\": \"SG\", \"Age\": 25, \"Tm\": \"NOP\", \"G\": 2, \"MP\": 35, \"PER\": 14.7, \"TS%\": 0.627, \"3PAr\": 0.364, \"FTr\": 0.364, \"ORB%\": 0.0, \"DRB%\": 12.2, \"TRB%\": 6.1, \"AST%\": 16.1, \"STL%\": 1.3, \"BLK%\": 2.4, \"TOV%\": 13.6, \"USG%\": -0.17957438624561173, \"OWS\": 0.0, \"DWS\": 0.0, \"WS\": 0.1, \"WS/48\": 0.101, \"OBPM\": -0.1, \"DBPM\": -1.2, \"BPM\": 0.11424611132811728, \"VORP\": 0.0, \"pred\": 25}, {\"Player\": \"Matisse Thybulle\", \"Pos\": \"SG\", \"Age\": 22, \"Tm\": \"PHI\", \"G\": 65, \"MP\": 1287, \"PER\": 10.0, \"TS%\": 0.539, \"3PAr\": 0.592, \"FTr\": 0.155, \"ORB%\": 3.8, \"DRB%\": 5.4, \"TRB%\": 4.6, \"AST%\": 8.0, \"STL%\": 3.5, \"BLK%\": 3.1, \"TOV%\": 15.3, \"USG%\": -1.2626664962394574, \"OWS\": 0.3, \"DWS\": 2.0, \"WS\": 2.3, \"WS/48\": 0.086, \"OBPM\": -2.8, \"DBPM\": 3.1, \"BPM\": 0.49910623280084354, \"VORP\": 0.8, \"pred\": 22}, {\"Player\": \"Anthony Tolliver\", \"Pos\": \"PF\", \"Age\": 34, \"Tm\": \"TOT\", \"G\": 55, \"MP\": 872, \"PER\": 7.0, \"TS%\": 0.513, \"3PAr\": 0.797, \"FTr\": 0.159, \"ORB%\": 4.1, \"DRB%\": 14.3, \"TRB%\": 9.3, \"AST%\": 6.0, \"STL%\": 1.0, \"BLK%\": 1.1, \"TOV%\": 14.9, \"USG%\": -1.2804221046000122, \"OWS\": 0.0, \"DWS\": 0.4, \"WS\": 0.5, \"WS/48\": 0.026, \"OBPM\": -2.7, \"DBPM\": -0.5, \"BPM\": -0.3427752829207451, \"VORP\": -0.3, \"pred\": 34}, {\"Player\": \"Anthony Tolliver\", \"Pos\": \"PF\", \"Age\": 34, \"Tm\": \"POR\", \"G\": 33, \"MP\": 554, \"PER\": 7.5, \"TS%\": 0.515, \"3PAr\": 0.761, \"FTr\": 0.162, \"ORB%\": 5.2, \"DRB%\": 15.5, \"TRB%\": 10.4, \"AST%\": 6.6, \"STL%\": 0.7, \"BLK%\": 1.4, \"TOV%\": 14.3, \"USG%\": -1.2626664962394574, \"OWS\": 0.2, \"DWS\": 0.2, \"WS\": 0.4, \"WS/48\": 0.031, \"OBPM\": -2.3, \"DBPM\": -0.9, \"BPM\": -0.3668290405127904, \"VORP\": -0.2, \"pred\": 34}, {\"Player\": \"Anthony Tolliver\", \"Pos\": \"PF\", \"Age\": 34, \"Tm\": \"SAC\", \"G\": 9, \"MP\": 82, \"PER\": 0.2, \"TS%\": 0.252, \"3PAr\": 0.882, \"FTr\": 0.118, \"ORB%\": 2.7, \"DRB%\": 12.7, \"TRB%\": 7.6, \"AST%\": 4.5, \"STL%\": 2.4, \"BLK%\": 1.2, \"TOV%\": 18.3, \"USG%\": -1.1916440627972378, \"OWS\": -0.2, \"DWS\": 0.1, \"WS\": -0.2, \"WS/48\": -0.1, \"OBPM\": -7.8, \"DBPM\": -1.0, \"BPM\": -1.6897857080752872, \"VORP\": -0.1, \"pred\": 34}, {\"Player\": \"Anthony Tolliver\", \"Pos\": \"PF\", \"Age\": 34, \"Tm\": \"MEM\", \"G\": 13, \"MP\": 236, \"PER\": 8.0, \"TS%\": 0.602, \"3PAr\": 0.854, \"FTr\": 0.167, \"ORB%\": 2.3, \"DRB%\": 12.3, \"TRB%\": 7.4, \"AST%\": 5.3, \"STL%\": 1.4, \"BLK%\": 0.4, \"TOV%\": 14.9, \"USG%\": -1.3514445380422315, \"OWS\": 0.1, \"DWS\": 0.2, \"WS\": 0.3, \"WS/48\": 0.061, \"OBPM\": -1.7, \"DBPM\": 0.6, \"BPM\": 0.1382998689201627, \"VORP\": 0.0, \"pred\": 34}, {\"Player\": \"Juan Toscano-Anderson\", \"Pos\": \"SF\", \"Age\": 26, \"Tm\": \"GSW\", \"G\": 13, \"MP\": 272, \"PER\": 9.4, \"TS%\": 0.529, \"3PAr\": 0.365, \"FTr\": 0.079, \"ORB%\": 3.5, \"DRB%\": 17.8, \"TRB%\": 10.4, \"AST%\": 13.8, \"STL%\": 2.3, \"BLK%\": 1.7, \"TOV%\": 19.7, \"USG%\": -0.9963323708311347, \"OWS\": -0.1, \"DWS\": 0.2, \"WS\": 0.2, \"WS/48\": 0.03, \"OBPM\": -4.0, \"DBPM\": 0.5, \"BPM\": -0.41493655569688126, \"VORP\": -0.1, \"pred\": 26}, {\"Player\": \"Karl-Anthony Towns\", \"Pos\": \"C\", \"Age\": 24, \"Tm\": \"MIN\", \"G\": 35, \"MP\": 1187, \"PER\": 26.5, \"TS%\": 0.642, \"3PAr\": 0.445, \"FTr\": 0.363, \"ORB%\": 8.1, \"DRB%\": 26.1, \"TRB%\": 16.8, \"AST%\": 22.8, \"STL%\": 1.3, \"BLK%\": 2.9, \"TOV%\": 13.2, \"USG%\": 1.862320575218195, \"OWS\": 3.7, \"DWS\": 1.3, \"WS\": 5.1, \"WS/48\": 0.204, \"OBPM\": 7.0, \"DBPM\": 0.8, \"BPM\": 2.3031380522042477, \"VORP\": 2.9, \"pred\": 26}, {\"Player\": \"Gary Trent Jr.\", \"Pos\": \"SG\", \"Age\": 21, \"Tm\": \"POR\", \"G\": 61, \"MP\": 1332, \"PER\": 12.9, \"TS%\": 0.587, \"3PAr\": 0.608, \"FTr\": 0.102, \"ORB%\": 2.0, \"DRB%\": 5.8, \"TRB%\": 3.9, \"AST%\": 6.3, \"STL%\": 1.7, \"BLK%\": 1.0, \"TOV%\": 4.4, \"USG%\": -0.5346865534567086, \"OWS\": 2.2, \"DWS\": 0.3, \"WS\": 2.5, \"WS/48\": 0.089, \"OBPM\": 0.5, \"DBPM\": -0.8, \"BPM\": 0.3547836872485712, \"VORP\": 0.6, \"pred\": 21}, {\"Player\": \"Allonzo Trier\", \"Pos\": \"PG\", \"Age\": 24, \"Tm\": \"NYK\", \"G\": 24, \"MP\": 291, \"PER\": 14.5, \"TS%\": 0.62, \"3PAr\": 0.5, \"FTr\": 0.406, \"ORB%\": 2.1, \"DRB%\": 8.7, \"TRB%\": 5.3, \"AST%\": 14.8, \"STL%\": 0.5, \"BLK%\": 1.3, \"TOV%\": 15.0, \"USG%\": 0.5484055565371364, \"OWS\": 0.5, \"DWS\": 0.1, \"WS\": 0.5, \"WS/48\": 0.087, \"OBPM\": 0.9, \"DBPM\": -1.4, \"BPM\": 0.3066761720644804, \"VORP\": 0.1, \"pred\": 24}, {\"Player\": \"P.J. Tucker\", \"Pos\": \"PF\", \"Age\": 34, \"Tm\": \"HOU\", \"G\": 72, \"MP\": 2467, \"PER\": 8.3, \"TS%\": 0.559, \"3PAr\": 0.702, \"FTr\": 0.113, \"ORB%\": 4.7, \"DRB%\": 15.6, \"TRB%\": 10.1, \"AST%\": 6.0, \"STL%\": 1.4, \"BLK%\": 1.2, \"TOV%\": 13.9, \"USG%\": -1.7065567052533284, \"OWS\": 1.6, \"DWS\": 2.4, \"WS\": 4.0, \"WS/48\": 0.078, \"OBPM\": -2.4, \"DBPM\": 0.6, \"BPM\": -0.030076434224155017, \"VORP\": 0.1, \"pred\": 31}, {\"Player\": \"Rayjon Tucker\", \"Pos\": \"SG\", \"Age\": 22, \"Tm\": \"UTA\", \"G\": 20, \"MP\": 161, \"PER\": 9.7, \"TS%\": 0.584, \"3PAr\": 0.395, \"FTr\": 0.535, \"ORB%\": 2.1, \"DRB%\": 11.2, \"TRB%\": 6.8, \"AST%\": 4.4, \"STL%\": 0.3, \"BLK%\": 0.5, \"TOV%\": 13.1, \"USG%\": -0.30386364476949546, \"OWS\": 0.1, \"DWS\": 0.1, \"WS\": 0.2, \"WS/48\": 0.063, \"OBPM\": -3.8, \"DBPM\": -2.2, \"BPM\": -1.016280495498016, \"VORP\": -0.2, \"pred\": 22}, {\"Player\": \"Evan Turner\", \"Pos\": \"PG\", \"Age\": 31, \"Tm\": \"ATL\", \"G\": 19, \"MP\": 251, \"PER\": 6.8, \"TS%\": 0.424, \"3PAr\": 0.075, \"FTr\": 0.209, \"ORB%\": 3.4, \"DRB%\": 13.0, \"TRB%\": 8.2, \"AST%\": 20.6, \"STL%\": 1.7, \"BLK%\": 2.7, \"TOV%\": 26.2, \"USG%\": -0.3393748614906057, \"OWS\": -0.5, \"DWS\": 0.1, \"WS\": -0.3, \"WS/48\": -0.064, \"OBPM\": -4.9, \"DBPM\": -0.7, \"BPM\": -0.9200654651298343, \"VORP\": -0.2, \"pred\": 31}, {\"Player\": \"Myles Turner\", \"Pos\": \"C\", \"Age\": 23, \"Tm\": \"IND\", \"G\": 62, \"MP\": 1826, \"PER\": 14.8, \"TS%\": 0.566, \"3PAr\": 0.426, \"FTr\": 0.288, \"ORB%\": 5.2, \"DRB%\": 19.1, \"TRB%\": 12.2, \"AST%\": 5.4, \"STL%\": 1.2, \"BLK%\": 6.4, \"TOV%\": 11.4, \"USG%\": -0.07304073608228305, \"OWS\": 1.1, \"DWS\": 3.1, \"WS\": 4.2, \"WS/48\": 0.111, \"OBPM\": -1.0, \"DBPM\": 1.1, \"BPM\": 0.45099871761675275, \"VORP\": 1.0, \"pred\": 23}, {\"Player\": \"Jarrod Uthoff\", \"Pos\": \"SF\", \"Age\": 26, \"Tm\": \"TOT\", \"G\": 7, \"MP\": 53, \"PER\": 8.8, \"TS%\": 0.503, \"3PAr\": 0.5, \"FTr\": 0.111, \"ORB%\": 4.0, \"DRB%\": 8.6, \"TRB%\": 6.1, \"AST%\": 0.0, \"STL%\": 0.9, \"BLK%\": 0.0, \"TOV%\": 0.0, \"USG%\": -0.6234645952594827, \"OWS\": 0.0, \"DWS\": 0.0, \"WS\": 0.0, \"WS/48\": 0.018, \"OBPM\": -2.3, \"DBPM\": -2.2, \"BPM\": -0.6554741316173351, \"VORP\": 0.0, \"pred\": 26}, {\"Player\": \"Jarrod Uthoff\", \"Pos\": \"SF\", \"Age\": 26, \"Tm\": \"MEM\", \"G\": 4, \"MP\": 14, \"PER\": -0.1, \"TS%\": 0.254, \"3PAr\": 0.571, \"FTr\": 0.286, \"ORB%\": 7.7, \"DRB%\": 0.0, \"TRB%\": 3.8, \"AST%\": 0.0, \"STL%\": 3.3, \"BLK%\": 0.0, \"TOV%\": 0.0, \"USG%\": 0.9035177237482332, \"OWS\": -0.1, \"DWS\": 0.0, \"WS\": 0.0, \"WS/48\": -0.166, \"OBPM\": -11.1, \"DBPM\": -2.4, \"BPM\": -2.82031231490142, \"VORP\": 0.0, \"pred\": 26}, {\"Player\": \"Jarrod Uthoff\", \"Pos\": \"SF\", \"Age\": 26, \"Tm\": \"WAS\", \"G\": 3, \"MP\": 39, \"PER\": 12.0, \"TS%\": 0.682, \"3PAr\": 0.455, \"FTr\": 0.0, \"ORB%\": 2.7, \"DRB%\": 11.7, \"TRB%\": 7.0, \"AST%\": 0.0, \"STL%\": 0.0, \"BLK%\": 0.0, \"TOV%\": 0.0, \"USG%\": -1.173888454436683, \"OWS\": 0.1, \"DWS\": 0.0, \"WS\": 0.1, \"WS/48\": 0.083, \"OBPM\": 0.8, \"DBPM\": -2.1, \"BPM\": 0.1382998689201627, \"VORP\": 0.0, \"pred\": 26}, {\"Player\": \"Jonas Valan\\u010di\\u016bnas\", \"Pos\": \"C\", \"Age\": 27, \"Tm\": \"MEM\", \"G\": 70, \"MP\": 1845, \"PER\": 22.2, \"TS%\": 0.631, \"3PAr\": 0.123, \"FTr\": 0.271, \"ORB%\": 12.4, \"DRB%\": 32.2, \"TRB%\": 22.5, \"AST%\": 10.9, \"STL%\": 0.8, \"BLK%\": 3.6, \"TOV%\": 13.3, \"USG%\": 0.5661611648976915, \"OWS\": 4.2, \"DWS\": 2.8, \"WS\": 7.0, \"WS/48\": 0.182, \"OBPM\": 2.1, \"DBPM\": 0.2, \"BPM\": 1.0042351422337967, \"VORP\": 2.0, \"pred\": 27}, {\"Player\": \"Denzel Valentine\", \"Pos\": \"SF\", \"Age\": 26, \"Tm\": \"CHI\", \"G\": 36, \"MP\": 488, \"PER\": 13.0, \"TS%\": 0.511, \"3PAr\": 0.578, \"FTr\": 0.034, \"ORB%\": 1.9, \"DRB%\": 15.5, \"TRB%\": 8.4, \"AST%\": 14.2, \"STL%\": 2.6, \"BLK%\": 1.2, \"TOV%\": 9.8, \"USG%\": 0.8857621153876788, \"OWS\": -0.1, \"DWS\": 0.6, \"WS\": 0.5, \"WS/48\": 0.048, \"OBPM\": -0.8, \"DBPM\": 0.2, \"BPM\": 0.282622414472435, \"VORP\": 0.2, \"pred\": 26}, {\"Player\": \"Jarred Vanderbilt\", \"Pos\": \"SF-PF\", \"Age\": 20, \"Tm\": \"TOT\", \"G\": 11, \"MP\": 46, \"PER\": 7.6, \"TS%\": 0.676, \"3PAr\": 0.125, \"FTr\": 0.25, \"ORB%\": 7.3, \"DRB%\": 14.5, \"TRB%\": 10.9, \"AST%\": 5.9, \"STL%\": 3.2, \"BLK%\": 2.0, \"TOV%\": 44.1, \"USG%\": -0.6057089868989279, \"OWS\": -0.1, \"DWS\": 0.1, \"WS\": 0.0, \"WS/48\": -0.026, \"OBPM\": -6.6, \"DBPM\": 0.5, \"BPM\": -1.016280495498016, \"VORP\": -0.1, \"pred\": 20}, {\"Player\": \"Jarred Vanderbilt\", \"Pos\": \"SF\", \"Age\": 20, \"Tm\": \"DEN\", \"G\": 9, \"MP\": 41, \"PER\": 7.2, \"TS%\": 0.714, \"3PAr\": 0.0, \"FTr\": 0.0, \"ORB%\": 8.2, \"DRB%\": 13.6, \"TRB%\": 10.9, \"AST%\": 6.6, \"STL%\": 3.6, \"BLK%\": 2.3, \"TOV%\": 50.0, \"USG%\": -0.6234645952594827, \"OWS\": -0.1, \"DWS\": 0.1, \"WS\": 0.0, \"WS/48\": -0.042, \"OBPM\": -7.0, \"DBPM\": 0.9, \"BPM\": -1.0403342530900612, \"VORP\": 0.0, \"pred\": 20}, {\"Player\": \"Jarred Vanderbilt\", \"Pos\": \"PF\", \"Age\": 20, \"Tm\": \"MIN\", \"G\": 2, \"MP\": 5, \"PER\": 11.1, \"TS%\": 0.532, \"3PAr\": 1.0, \"FTr\": 2.0, \"ORB%\": 0.0, \"DRB%\": 21.9, \"TRB%\": 10.6, \"AST%\": 0.0, \"STL%\": 0.0, \"BLK%\": 0.0, \"TOV%\": 0.0, \"USG%\": -0.499175336735599, \"OWS\": 0.0, \"DWS\": 0.0, \"WS\": 0.0, \"WS/48\": 0.104, \"OBPM\": -2.8, \"DBPM\": -2.8, \"BPM\": -0.9200654651298343, \"VORP\": 0.0, \"pred\": 20}, {\"Player\": \"Fred VanVleet\", \"Pos\": \"PG\", \"Age\": 25, \"Tm\": \"TOR\", \"G\": 54, \"MP\": 1928, \"PER\": 16.3, \"TS%\": 0.553, \"3PAr\": 0.484, \"FTr\": 0.256, \"ORB%\": 1.0, \"DRB%\": 9.9, \"TRB%\": 5.6, \"AST%\": 27.7, \"STL%\": 2.5, \"BLK%\": 0.9, \"TOV%\": 12.3, \"USG%\": 0.601672381618801, \"OWS\": 2.8, \"DWS\": 3.1, \"WS\": 5.8, \"WS/48\": 0.145, \"OBPM\": 1.2, \"DBPM\": 1.4, \"BPM\": 1.0763964150099328, \"VORP\": 2.3, \"pred\": 25}, {\"Player\": \"Gabe Vincent\", \"Pos\": \"PG\", \"Age\": 23, \"Tm\": \"MIA\", \"G\": 9, \"MP\": 83, \"PER\": 1.2, \"TS%\": 0.297, \"3PAr\": 0.73, \"FTr\": 0.0, \"ORB%\": 0.0, \"DRB%\": 6.5, \"TRB%\": 3.4, \"AST%\": 10.1, \"STL%\": 2.9, \"BLK%\": 0.0, \"TOV%\": 2.6, \"USG%\": 0.3353382562104784, \"OWS\": -0.3, \"DWS\": 0.1, \"WS\": -0.2, \"WS/48\": -0.117, \"OBPM\": -8.5, \"DBPM\": -1.9, \"BPM\": -2.0746458295480132, \"VORP\": -0.2, \"pred\": 23}, {\"Player\": \"Noah Vonleh\", \"Pos\": \"C-PF\", \"Age\": 24, \"Tm\": \"TOT\", \"G\": 36, \"MP\": 377, \"PER\": 15.5, \"TS%\": 0.622, \"3PAr\": 0.163, \"FTr\": 0.348, \"ORB%\": 10.1, \"DRB%\": 25.3, \"TRB%\": 17.4, \"AST%\": 10.7, \"STL%\": 1.4, \"BLK%\": 1.3, \"TOV%\": 16.5, \"USG%\": -0.7832650705044764, \"OWS\": 0.6, \"DWS\": 0.4, \"WS\": 1.0, \"WS/48\": 0.127, \"OBPM\": -1.2, \"DBPM\": 0.3, \"BPM\": 0.18640738410425345, \"VORP\": 0.1, \"pred\": 24}, {\"Player\": \"Noah Vonleh\", \"Pos\": \"C\", \"Age\": 24, \"Tm\": \"MIN\", \"G\": 29, \"MP\": 347, \"PER\": 15.3, \"TS%\": 0.605, \"3PAr\": 0.163, \"FTr\": 0.326, \"ORB%\": 10.0, \"DRB%\": 25.9, \"TRB%\": 17.6, \"AST%\": 10.8, \"STL%\": 1.5, \"BLK%\": 1.4, \"TOV%\": 16.2, \"USG%\": -0.7832650705044764, \"OWS\": 0.5, \"DWS\": 0.4, \"WS\": 0.9, \"WS/48\": 0.124, \"OBPM\": -1.5, \"DBPM\": 0.4, \"BPM\": 0.18640738410425345, \"VORP\": 0.1, \"pred\": 24}, {\"Player\": \"Noah Vonleh\", \"Pos\": \"PF\", \"Age\": 24, \"Tm\": \"DEN\", \"G\": 7, \"MP\": 30, \"PER\": 17.6, \"TS%\": 0.838, \"3PAr\": 0.167, \"FTr\": 0.667, \"ORB%\": 11.2, \"DRB%\": 18.6, \"TRB%\": 14.9, \"AST%\": 9.5, \"STL%\": 0.0, \"BLK%\": 0.0, \"TOV%\": 20.5, \"USG%\": -0.7477538537833668, \"OWS\": 0.1, \"DWS\": 0.0, \"WS\": 0.1, \"WS/48\": 0.166, \"OBPM\": 1.3, \"DBPM\": -1.9, \"BPM\": 0.282622414472435, \"VORP\": 0.0, \"pred\": 26}, {\"Player\": \"Nikola Vu\\u010devi\\u0107\", \"Pos\": \"C\", \"Age\": 29, \"Tm\": \"ORL\", \"G\": 62, \"MP\": 1998, \"PER\": 21.9, \"TS%\": 0.549, \"3PAr\": 0.28, \"FTr\": 0.162, \"ORB%\": 7.3, \"DRB%\": 29.7, \"TRB%\": 18.1, \"AST%\": 19.5, \"STL%\": 1.3, \"BLK%\": 2.1, \"TOV%\": 7.4, \"USG%\": 1.3296523244015497, \"OWS\": 3.5, \"DWS\": 2.9, \"WS\": 6.4, \"WS/48\": 0.153, \"OBPM\": 3.7, \"DBPM\": 0.5, \"BPM\": 1.4372027788906137, \"VORP\": 3.1, \"pred\": 28}, {\"Player\": \"Dean Wade\", \"Pos\": \"PF\", \"Age\": 23, \"Tm\": \"CLE\", \"G\": 12, \"MP\": 71, \"PER\": 13.9, \"TS%\": 0.744, \"3PAr\": 0.308, \"FTr\": 0.077, \"ORB%\": 4.6, \"DRB%\": 25.3, \"TRB%\": 14.9, \"AST%\": 4.0, \"STL%\": 1.4, \"BLK%\": 4.8, \"TOV%\": 18.2, \"USG%\": -1.49348940492667, \"OWS\": 0.1, \"DWS\": 0.1, \"WS\": 0.2, \"WS/48\": 0.105, \"OBPM\": -1.7, \"DBPM\": 0.5, \"BPM\": 0.1382998689201627, \"VORP\": 0.0, \"pred\": 23}, {\"Player\": \"Moritz Wagner\", \"Pos\": \"C\", \"Age\": 22, \"Tm\": \"WAS\", \"G\": 45, \"MP\": 835, \"PER\": 15.1, \"TS%\": 0.638, \"3PAr\": 0.301, \"FTr\": 0.357, \"ORB%\": 7.0, \"DRB%\": 22.2, \"TRB%\": 14.3, \"AST%\": 9.8, \"STL%\": 1.6, \"BLK%\": 2.0, \"TOV%\": 17.7, \"USG%\": 0.051248522441601344, \"OWS\": 1.1, \"DWS\": 0.6, \"WS\": 1.7, \"WS/48\": 0.099, \"OBPM\": -2.0, \"DBPM\": -0.3, \"BPM\": -0.12629146459233656, \"VORP\": -0.1, \"pred\": 27}, {\"Player\": \"Dion Waiters\", \"Pos\": \"SG\", \"Age\": 28, \"Tm\": \"TOT\", \"G\": 10, \"MP\": 207, \"PER\": 11.5, \"TS%\": 0.521, \"3PAr\": 0.475, \"FTr\": 0.172, \"ORB%\": 1.1, \"DRB%\": 11.5, \"TRB%\": 6.4, \"AST%\": 14.4, \"STL%\": 0.9, \"BLK%\": 2.7, \"TOV%\": 13.1, \"USG%\": 1.2231186742382205, \"OWS\": -0.1, \"DWS\": 0.2, \"WS\": 0.1, \"WS/48\": 0.03, \"OBPM\": -0.7, \"DBPM\": -0.6, \"BPM\": 0.1382998689201627, \"VORP\": 0.0, \"pred\": 28}, {\"Player\": \"Dion Waiters\", \"Pos\": \"SG\", \"Age\": 28, \"Tm\": \"MIA\", \"G\": 3, \"MP\": 42, \"PER\": 13.4, \"TS%\": 0.53, \"3PAr\": 0.654, \"FTr\": 0.038, \"ORB%\": 0.0, \"DRB%\": 28.2, \"TRB%\": 14.7, \"AST%\": 12.5, \"STL%\": 0.0, \"BLK%\": 4.7, \"TOV%\": 10.2, \"USG%\": 2.2351883507898465, \"OWS\": -0.1, \"DWS\": 0.1, \"WS\": 0.0, \"WS/48\": -0.003, \"OBPM\": 2.4, \"DBPM\": -0.5, \"BPM\": 0.8599125966815243, \"VORP\": 0.0, \"pred\": 28}, {\"Player\": \"Dion Waiters\", \"Pos\": \"SG\", \"Age\": 28, \"Tm\": \"LAL\", \"G\": 7, \"MP\": 165, \"PER\": 11.0, \"TS%\": 0.518, \"3PAr\": 0.411, \"FTr\": 0.219, \"ORB%\": 1.3, \"DRB%\": 7.2, \"TRB%\": 4.3, \"AST%\": 14.9, \"STL%\": 1.2, \"BLK%\": 2.2, \"TOV%\": 14.0, \"USG%\": 0.974540157190453, \"OWS\": -0.1, \"DWS\": 0.2, \"WS\": 0.1, \"WS/48\": 0.038, \"OBPM\": -1.4, \"DBPM\": -0.6, \"BPM\": -0.05413019181620043, \"VORP\": 0.0, \"pred\": 28}, {\"Player\": \"Kemba Walker\", \"Pos\": \"PG\", \"Age\": 29, \"Tm\": \"BOS\", \"G\": 56, \"MP\": 1742, \"PER\": 20.0, \"TS%\": 0.575, \"3PAr\": 0.532, \"FTr\": 0.272, \"ORB%\": 2.2, \"DRB%\": 11.0, \"TRB%\": 6.7, \"AST%\": 24.2, \"STL%\": 1.3, \"BLK%\": 1.5, \"TOV%\": 10.5, \"USG%\": 1.5782308414493174, \"OWS\": 3.9, \"DWS\": 2.0, \"WS\": 5.9, \"WS/48\": 0.162, \"OBPM\": 4.9, \"DBPM\": -0.3, \"BPM\": 1.5334178092587951, \"VORP\": 2.9, \"pred\": 29}, {\"Player\": \"Lonnie Walker\", \"Pos\": \"SG\", \"Age\": 21, \"Tm\": \"SAS\", \"G\": 61, \"MP\": 988, \"PER\": 10.5, \"TS%\": 0.507, \"3PAr\": 0.283, \"FTr\": 0.171, \"ORB%\": 2.5, \"DRB%\": 12.7, \"TRB%\": 7.6, \"AST%\": 9.6, \"STL%\": 1.5, \"BLK%\": 1.2, \"TOV%\": 10.3, \"USG%\": 0.06900413080215581, \"OWS\": -0.2, \"DWS\": 0.6, \"WS\": 0.3, \"WS/48\": 0.016, \"OBPM\": -2.5, \"DBPM\": -1.0, \"BPM\": -0.41493655569688126, \"VORP\": -0.4, \"pred\": 21}, {\"Player\": \"Tyrone Wallace\", \"Pos\": \"SG\", \"Age\": 25, \"Tm\": \"ATL\", \"G\": 14, \"MP\": 160, \"PER\": 3.9, \"TS%\": 0.389, \"3PAr\": 0.341, \"FTr\": 0.386, \"ORB%\": 2.0, \"DRB%\": 13.0, \"TRB%\": 7.4, \"AST%\": 10.9, \"STL%\": 2.0, \"BLK%\": 0.5, \"TOV%\": 16.3, \"USG%\": -0.4103972949328248, \"OWS\": -0.3, \"DWS\": 0.1, \"WS\": -0.2, \"WS/48\": -0.075, \"OBPM\": -7.7, \"DBPM\": -1.0, \"BPM\": -1.6657319504832413, \"VORP\": -0.3, \"pred\": 25}, {\"Player\": \"Taurean Prince\", \"Pos\": \"SF\", \"Age\": 25, \"Tm\": \"BRK\", \"G\": 64, \"MP\": 1857, \"PER\": 9.1, \"TS%\": 0.497, \"3PAr\": 0.583, \"FTr\": 0.12, \"ORB%\": 2.8, \"DRB%\": 18.1, \"TRB%\": 10.6, \"AST%\": 9.2, \"STL%\": 1.5, \"BLK%\": 1.1, \"TOV%\": 14.0, \"USG%\": 0.370849472931588, \"OWS\": -1.7, \"DWS\": 2.3, \"WS\": 0.6, \"WS/48\": 0.014, \"OBPM\": -2.8, \"DBPM\": -0.1, \"BPM\": -0.2706140101446089, \"VORP\": -0.4, \"pred\": 25}, {\"Player\": \"Derrick Walton\", \"Pos\": \"PG\", \"Age\": 24, \"Tm\": \"TOT\", \"G\": 26, \"MP\": 248, \"PER\": 8.7, \"TS%\": 0.617, \"3PAr\": 0.615, \"FTr\": 0.231, \"ORB%\": 0.9, \"DRB%\": 5.8, \"TRB%\": 3.4, \"AST%\": 13.9, \"STL%\": 1.4, \"BLK%\": 0.0, \"TOV%\": 10.4, \"USG%\": -1.8130903554166573, \"OWS\": 0.4, \"DWS\": 0.2, \"WS\": 0.6, \"WS/48\": 0.111, \"OBPM\": -2.2, \"DBPM\": 1.3, \"BPM\": 0.18640738410425345, \"VORP\": 0.1, \"pred\": 24}, {\"Player\": \"Derrick Walton\", \"Pos\": \"PG\", \"Age\": 24, \"Tm\": \"LAC\", \"G\": 23, \"MP\": 222, \"PER\": 8.4, \"TS%\": 0.626, \"3PAr\": 0.583, \"FTr\": 0.25, \"ORB%\": 1.0, \"DRB%\": 5.9, \"TRB%\": 3.5, \"AST%\": 12.6, \"STL%\": 0.9, \"BLK%\": 0.0, \"TOV%\": 9.1, \"USG%\": -1.7775791386955475, \"OWS\": 0.4, \"DWS\": 0.2, \"WS\": 0.5, \"WS/48\": 0.112, \"OBPM\": -2.2, \"DBPM\": 0.9, \"BPM\": 0.11424611132811728, \"VORP\": 0.0, \"pred\": 24}, {\"Player\": \"Derrick Walton\", \"Pos\": \"PG\", \"Age\": 24, \"Tm\": \"DET\", \"G\": 3, \"MP\": 26, \"PER\": 11.3, \"TS%\": 0.5, \"3PAr\": 1.0, \"FTr\": 0.0, \"ORB%\": 0.0, \"DRB%\": 4.4, \"TRB%\": 2.2, \"AST%\": 24.8, \"STL%\": 5.7, \"BLK%\": 0.0, \"TOV%\": 25.0, \"USG%\": -2.061668872464425, \"OWS\": 0.0, \"DWS\": 0.0, \"WS\": 0.1, \"WS/48\": 0.105, \"OBPM\": -2.9, \"DBPM\": 4.7, \"BPM\": 0.8599125966815243, \"VORP\": 0.0, \"pred\": 24}, {\"Player\": \"Brad Wanamaker\", \"Pos\": \"PG\", \"Age\": 30, \"Tm\": \"BOS\", \"G\": 71, \"MP\": 1369, \"PER\": 12.8, \"TS%\": 0.577, \"3PAr\": 0.282, \"FTr\": 0.376, \"ORB%\": 1.7, \"DRB%\": 9.4, \"TRB%\": 5.6, \"AST%\": 17.8, \"STL%\": 2.2, \"BLK%\": 0.9, \"TOV%\": 15.3, \"USG%\": -0.499175336735599, \"OWS\": 1.8, \"DWS\": 1.8, \"WS\": 3.5, \"WS/48\": 0.124, \"OBPM\": -1.9, \"DBPM\": 1.3, \"BPM\": 0.282622414472435, \"VORP\": 0.5, \"pred\": 30}, {\"Player\": \"T.J. Warren\", \"Pos\": \"SF\", \"Age\": 26, \"Tm\": \"IND\", \"G\": 67, \"MP\": 2202, \"PER\": 18.4, \"TS%\": 0.61, \"3PAr\": 0.227, \"FTr\": 0.205, \"ORB%\": 3.4, \"DRB%\": 10.5, \"TRB%\": 7.0, \"AST%\": 7.1, \"STL%\": 1.7, \"BLK%\": 1.4, \"TOV%\": 7.2, \"USG%\": 0.8857621153876788, \"OWS\": 4.0, \"DWS\": 2.6, \"WS\": 6.5, \"WS/48\": 0.143, \"OBPM\": 1.2, \"DBPM\": 0.0, \"BPM\": 0.6915362935372067, \"VORP\": 1.7, \"pred\": 26}, {\"Player\": \"P.J. Washington\", \"Pos\": \"PF\", \"Age\": 21, \"Tm\": \"CHO\", \"G\": 58, \"MP\": 1759, \"PER\": 12.4, \"TS%\": 0.547, \"3PAr\": 0.39, \"FTr\": 0.231, \"ORB%\": 3.5, \"DRB%\": 16.6, \"TRB%\": 9.8, \"AST%\": 11.3, \"STL%\": 1.5, \"BLK%\": 2.3, \"TOV%\": 12.5, \"USG%\": 0.051248522441601344, \"OWS\": 0.5, \"DWS\": 1.5, \"WS\": 2.0, \"WS/48\": 0.054, \"OBPM\": -1.7, \"DBPM\": 0.1, \"BPM\": 0.042084838551981106, \"VORP\": 0.2, \"pred\": 21}, {\"Player\": \"Yuta Watanabe\", \"Pos\": \"SG\", \"Age\": 25, \"Tm\": \"MEM\", \"G\": 18, \"MP\": 105, \"PER\": 11.2, \"TS%\": 0.48, \"3PAr\": 0.235, \"FTr\": 0.235, \"ORB%\": 7.2, \"DRB%\": 12.8, \"TRB%\": 10.0, \"AST%\": 6.4, \"STL%\": 2.2, \"BLK%\": 0.8, \"TOV%\": 5.1, \"USG%\": -0.4636641200144894, \"OWS\": 0.0, \"DWS\": 0.1, \"WS\": 0.1, \"WS/48\": 0.065, \"OBPM\": -2.6, \"DBPM\": 0.9, \"BPM\": -0.00602267663210966, \"VORP\": 0.0, \"pred\": 22}, {\"Player\": \"Tremont Waters\", \"Pos\": \"PG\", \"Age\": 22, \"Tm\": \"BOS\", \"G\": 11, \"MP\": 119, \"PER\": 4.3, \"TS%\": 0.381, \"3PAr\": 0.49, \"FTr\": 0.163, \"ORB%\": 0.0, \"DRB%\": 10.7, \"TRB%\": 5.4, \"AST%\": 18.3, \"STL%\": 4.1, \"BLK%\": 1.6, \"TOV%\": 22.2, \"USG%\": 1.045562590632672, \"OWS\": -0.5, \"DWS\": 0.2, \"WS\": -0.3, \"WS/48\": -0.103, \"OBPM\": -8.5, \"DBPM\": 1.0, \"BPM\": -1.377086859378697, \"VORP\": -0.2, \"pred\": 22}, {\"Player\": \"Paul Watson\", \"Pos\": \"SF-SG\", \"Age\": 25, \"Tm\": \"TOT\", \"G\": 10, \"MP\": 87, \"PER\": 12.6, \"TS%\": 0.517, \"3PAr\": 0.462, \"FTr\": 0.346, \"ORB%\": 2.5, \"DRB%\": 17.9, \"TRB%\": 10.3, \"AST%\": 12.4, \"STL%\": 2.2, \"BLK%\": 1.1, \"TOV%\": 9.1, \"USG%\": -0.39264168657226967, \"OWS\": 0.0, \"DWS\": 0.1, \"WS\": 0.2, \"WS/48\": 0.097, \"OBPM\": -1.2, \"DBPM\": 0.9, \"BPM\": 0.33072992965652576, \"VORP\": 0.0, \"pred\": 25}, {\"Player\": \"Paul Watson\", \"Pos\": \"SG\", \"Age\": 25, \"Tm\": \"ATL\", \"G\": 2, \"MP\": 17, \"PER\": -7.1, \"TS%\": 0.0, \"3PAr\": 0.429, \"FTr\": 0.0, \"ORB%\": 0.0, \"DRB%\": 12.8, \"TRB%\": 6.3, \"AST%\": 21.1, \"STL%\": 2.7, \"BLK%\": 0.0, \"TOV%\": 0.0, \"USG%\": -0.21508560296672127, \"OWS\": -0.1, \"DWS\": 0.0, \"WS\": -0.1, \"WS/48\": -0.32, \"OBPM\": -12.3, \"DBPM\": -1.5, \"BPM\": -2.9165273452696017, \"VORP\": -0.1, \"pred\": 22}, {\"Player\": \"Paul Watson\", \"Pos\": \"SF\", \"Age\": 25, \"Tm\": \"TOR\", \"G\": 8, \"MP\": 70, \"PER\": 17.3, \"TS%\": 0.675, \"3PAr\": 0.474, \"FTr\": 0.474, \"ORB%\": 3.1, \"DRB%\": 19.2, \"TRB%\": 11.3, \"AST%\": 10.3, \"STL%\": 2.0, \"BLK%\": 1.4, \"TOV%\": 11.6, \"USG%\": -0.42815290329337957, \"OWS\": 0.2, \"DWS\": 0.1, \"WS\": 0.3, \"WS/48\": 0.198, \"OBPM\": 1.4, \"DBPM\": 1.4, \"BPM\": 1.1245039301940236, \"VORP\": 0.1, \"pred\": 25}, {\"Player\": \"Quinndary Weatherspoon\", \"Pos\": \"SG\", \"Age\": 23, \"Tm\": \"SAS\", \"G\": 11, \"MP\": 78, \"PER\": 3.2, \"TS%\": 0.336, \"3PAr\": 0.294, \"FTr\": 0.118, \"ORB%\": 1.4, \"DRB%\": 8.3, \"TRB%\": 4.8, \"AST%\": 17.5, \"STL%\": 1.8, \"BLK%\": 1.1, \"TOV%\": 21.9, \"USG%\": -0.9963323708311347, \"OWS\": -0.2, \"DWS\": 0.0, \"WS\": -0.1, \"WS/48\": -0.071, \"OBPM\": -6.4, \"DBPM\": -1.0, \"BPM\": -1.3530331017866515, \"VORP\": -0.1, \"pred\": 23}, {\"Player\": \"Russell Westbrook\", \"Pos\": \"PG\", \"Age\": 31, \"Tm\": \"HOU\", \"G\": 57, \"MP\": 2049, \"PER\": 21.0, \"TS%\": 0.536, \"3PAr\": 0.166, \"FTr\": 0.297, \"ORB%\": 5.1, \"DRB%\": 18.1, \"TRB%\": 11.5, \"AST%\": 35.6, \"STL%\": 2.1, \"BLK%\": 0.8, \"TOV%\": 15.0, \"USG%\": 2.8566346434092655, \"OWS\": 1.7, \"DWS\": 2.5, \"WS\": 4.2, \"WS/48\": 0.098, \"OBPM\": 1.6, \"DBPM\": -0.1, \"BPM\": 0.7877513239053882, \"VORP\": 1.8, \"pred\": 31}, {\"Player\": \"Coby White\", \"Pos\": \"SG\", \"Age\": 19, \"Tm\": \"CHI\", \"G\": 65, \"MP\": 1674, \"PER\": 11.9, \"TS%\": 0.506, \"3PAr\": 0.475, \"FTr\": 0.163, \"ORB%\": 1.8, \"DRB%\": 14.0, \"TRB%\": 7.6, \"AST%\": 16.5, \"STL%\": 1.4, \"BLK%\": 0.3, \"TOV%\": 11.4, \"USG%\": 1.0810738073537816, \"OWS\": -0.5, \"DWS\": 1.4, \"WS\": 0.9, \"WS/48\": 0.026, \"OBPM\": -1.2, \"DBPM\": -1.6, \"BPM\": -0.2465602525525635, \"VORP\": -0.4, \"pred\": 31}, {\"Player\": \"Derrick White\", \"Pos\": \"SG\", \"Age\": 25, \"Tm\": \"SAS\", \"G\": 68, \"MP\": 1677, \"PER\": 16.4, \"TS%\": 0.593, \"3PAr\": 0.391, \"FTr\": 0.382, \"ORB%\": 2.3, \"DRB%\": 12.1, \"TRB%\": 7.2, \"AST%\": 20.0, \"STL%\": 1.3, \"BLK%\": 3.1, \"TOV%\": 12.1, \"USG%\": 0.10451534752326536, \"OWS\": 3.1, \"DWS\": 1.1, \"WS\": 4.2, \"WS/48\": 0.119, \"OBPM\": 1.2, \"DBPM\": 0.1, \"BPM\": 0.7396438087212974, \"VORP\": 1.4, \"pred\": 25}, {\"Player\": \"Hassan Whiteside\", \"Pos\": \"C\", \"Age\": 30, \"Tm\": \"POR\", \"G\": 67, \"MP\": 2008, \"PER\": 25.0, \"TS%\": 0.644, \"3PAr\": 0.01, \"FTr\": 0.34, \"ORB%\": 13.6, \"DRB%\": 33.3, \"TRB%\": 23.6, \"AST%\": 5.9, \"STL%\": 0.6, \"BLK%\": 8.4, \"TOV%\": 12.9, \"USG%\": 0.22880460604714975, \"OWS\": 5.6, \"DWS\": 3.0, \"WS\": 8.5, \"WS/48\": 0.204, \"OBPM\": 2.5, \"DBPM\": 0.7, \"BPM\": 1.1966652029701597, \"VORP\": 2.6, \"pred\": 30}, {\"Player\": \"Andrew Wiggins\", \"Pos\": \"SF-SG\", \"Age\": 24, \"Tm\": \"TOT\", \"G\": 54, \"MP\": 1858, \"PER\": 16.4, \"TS%\": 0.536, \"3PAr\": 0.342, \"FTr\": 0.274, \"ORB%\": 3.6, \"DRB%\": 12.3, \"TRB%\": 7.8, \"AST%\": 18.1, \"STL%\": 1.1, \"BLK%\": 2.4, \"TOV%\": 10.7, \"USG%\": 1.613742058170427, \"OWS\": 0.8, \"DWS\": 1.1, \"WS\": 1.9, \"WS/48\": 0.05, \"OBPM\": 1.1, \"DBPM\": -1.4, \"BPM\": 0.3547836872485712, \"VORP\": 0.8, \"pred\": 24}, {\"Player\": \"Andrew Wiggins\", \"Pos\": \"SF\", \"Age\": 24, \"Tm\": \"MIN\", \"G\": 42, \"MP\": 1455, \"PER\": 16.1, \"TS%\": 0.535, \"3PAr\": 0.348, \"FTr\": 0.262, \"ORB%\": 3.4, \"DRB%\": 12.9, \"TRB%\": 7.9, \"AST%\": 18.1, \"STL%\": 0.9, \"BLK%\": 2.1, \"TOV%\": 10.8, \"USG%\": 1.720275708333756, \"OWS\": 0.6, \"DWS\": 0.8, \"WS\": 1.4, \"WS/48\": 0.046, \"OBPM\": 1.1, \"DBPM\": -1.5, \"BPM\": 0.33072992965652576, \"VORP\": 0.6, \"pred\": 24}, {\"Player\": \"Andrew Wiggins\", \"Pos\": \"SG\", \"Age\": 24, \"Tm\": \"GSW\", \"G\": 12, \"MP\": 403, \"PER\": 17.5, \"TS%\": 0.542, \"3PAr\": 0.314, \"FTr\": 0.324, \"ORB%\": 4.7, \"DRB%\": 10.3, \"TRB%\": 7.4, \"AST%\": 18.2, \"STL%\": 1.9, \"BLK%\": 3.8, \"TOV%\": 10.4, \"USG%\": 1.25862989095933, \"OWS\": 0.2, \"DWS\": 0.3, \"WS\": 0.5, \"WS/48\": 0.064, \"OBPM\": 0.9, \"DBPM\": -1.1, \"BPM\": 0.3788374448406166, \"VORP\": 0.2, \"pred\": 24}, {\"Player\": \"Grant Williams\", \"Pos\": \"PF\", \"Age\": 21, \"Tm\": \"BOS\", \"G\": 69, \"MP\": 1043, \"PER\": 7.9, \"TS%\": 0.505, \"3PAr\": 0.455, \"FTr\": 0.256, \"ORB%\": 6.1, \"DRB%\": 12.1, \"TRB%\": 9.1, \"AST%\": 8.5, \"STL%\": 1.4, \"BLK%\": 3.2, \"TOV%\": 17.6, \"USG%\": -1.1916440627972378, \"OWS\": 0.1, \"DWS\": 1.4, \"WS\": 1.6, \"WS/48\": 0.071, \"OBPM\": -4.1, \"DBPM\": 1.4, \"BPM\": -0.2225064949605182, \"VORP\": -0.2, \"pred\": 21}, {\"Player\": \"Johnathan Williams\", \"Pos\": \"C\", \"Age\": 24, \"Tm\": \"WAS\", \"G\": 15, \"MP\": 180, \"PER\": 14.0, \"TS%\": 0.566, \"3PAr\": 0.059, \"FTr\": 0.382, \"ORB%\": 14.0, \"DRB%\": 25.3, \"TRB%\": 19.4, \"AST%\": 5.9, \"STL%\": 0.3, \"BLK%\": 3.9, \"TOV%\": 11.2, \"USG%\": -1.4224669714844507, \"OWS\": 0.3, \"DWS\": 0.1, \"WS\": 0.4, \"WS/48\": 0.109, \"OBPM\": -0.8, \"DBPM\": -1.4, \"BPM\": -0.10223770700029125, \"VORP\": 0.0, \"pred\": 27}, {\"Player\": \"Kenrich Williams\", \"Pos\": \"PF\", \"Age\": 25, \"Tm\": \"NOP\", \"G\": 39, \"MP\": 832, \"PER\": 7.5, \"TS%\": 0.429, \"3PAr\": 0.66, \"FTr\": 0.177, \"ORB%\": 6.5, \"DRB%\": 17.3, \"TRB%\": 11.9, \"AST%\": 8.4, \"STL%\": 1.5, \"BLK%\": 2.1, \"TOV%\": 12.2, \"USG%\": -1.6710454885322183, \"OWS\": 0.1, \"DWS\": 0.8, \"WS\": 0.9, \"WS/48\": 0.05, \"OBPM\": -3.4, \"DBPM\": 0.9, \"BPM\": -0.15034522218438195, \"VORP\": -0.1, \"pred\": 27}, {\"Player\": \"Lou Williams\", \"Pos\": \"SG\", \"Age\": 33, \"Tm\": \"LAC\", \"G\": 65, \"MP\": 1864, \"PER\": 17.3, \"TS%\": 0.546, \"3PAr\": 0.337, \"FTr\": 0.362, \"ORB%\": 1.8, \"DRB%\": 9.2, \"TRB%\": 5.6, \"AST%\": 30.1, \"STL%\": 1.1, \"BLK%\": 0.6, \"TOV%\": 14.4, \"USG%\": 1.7912981417759752, \"OWS\": 2.3, \"DWS\": 1.8, \"WS\": 4.1, \"WS/48\": 0.105, \"OBPM\": 2.2, \"DBPM\": -1.4, \"BPM\": 0.6193750207610704, \"VORP\": 1.3, \"pred\": 33}, {\"Player\": \"Marvin Williams\", \"Pos\": \"PF\", \"Age\": 33, \"Tm\": \"TOT\", \"G\": 58, \"MP\": 1129, \"PER\": 11.2, \"TS%\": 0.587, \"3PAr\": 0.584, \"FTr\": 0.213, \"ORB%\": 2.8, \"DRB%\": 14.3, \"TRB%\": 8.5, \"AST%\": 7.6, \"STL%\": 1.6, \"BLK%\": 2.4, \"TOV%\": 10.2, \"USG%\": -1.0318435875522443, \"OWS\": 1.1, \"DWS\": 1.3, \"WS\": 2.4, \"WS/48\": 0.102, \"OBPM\": -1.6, \"DBPM\": 1.0, \"BPM\": 0.282622414472435, \"VORP\": 0.4, \"pred\": 25}, {\"Player\": \"Marvin Williams\", \"Pos\": \"PF\", \"Age\": 33, \"Tm\": \"CHO\", \"G\": 41, \"MP\": 808, \"PER\": 11.8, \"TS%\": 0.593, \"3PAr\": 0.557, \"FTr\": 0.238, \"ORB%\": 2.0, \"DRB%\": 13.2, \"TRB%\": 7.4, \"AST%\": 7.8, \"STL%\": 1.6, \"BLK%\": 2.5, \"TOV%\": 9.7, \"USG%\": -0.7655094621439216, \"OWS\": 0.8, \"DWS\": 0.6, \"WS\": 1.5, \"WS/48\": 0.087, \"OBPM\": -1.6, \"DBPM\": 0.4, \"BPM\": 0.11424611132811728, \"VORP\": 0.1, \"pred\": 33}, {\"Player\": \"Marvin Williams\", \"Pos\": \"PF\", \"Age\": 33, \"Tm\": \"MIL\", \"G\": 17, \"MP\": 321, \"PER\": 9.8, \"TS%\": 0.566, \"3PAr\": 0.684, \"FTr\": 0.123, \"ORB%\": 4.9, \"DRB%\": 17.1, \"TRB%\": 11.4, \"AST%\": 7.2, \"STL%\": 1.4, \"BLK%\": 2.2, \"TOV%\": 11.8, \"USG%\": -1.7065567052533284, \"OWS\": 0.3, \"DWS\": 0.6, \"WS\": 0.9, \"WS/48\": 0.139, \"OBPM\": -1.6, \"DBPM\": 2.5, \"BPM\": 0.6434287783531158, \"VORP\": 0.2, \"pred\": 22}, {\"Player\": \"Robert Williams\", \"Pos\": \"C\", \"Age\": 22, \"Tm\": \"BOS\", \"G\": 29, \"MP\": 388, \"PER\": 23.1, \"TS%\": 0.728, \"3PAr\": 0.0, \"FTr\": 0.386, \"ORB%\": 11.2, \"DRB%\": 24.0, \"TRB%\": 17.7, \"AST%\": 10.1, \"STL%\": 2.7, \"BLK%\": 8.4, \"TOV%\": 16.9, \"USG%\": -0.836531895586141, \"OWS\": 1.1, \"DWS\": 1.0, \"WS\": 2.0, \"WS/48\": 0.253, \"OBPM\": 0.8, \"DBPM\": 4.3, \"BPM\": 1.653686597219022, \"VORP\": 0.7, \"pred\": 31}, {\"Player\": \"Nigel Williams-Goss\", \"Pos\": \"PG\", \"Age\": 25, \"Tm\": \"UTA\", \"G\": 10, \"MP\": 50, \"PER\": 8.1, \"TS%\": 0.415, \"3PAr\": 0.438, \"FTr\": 0.125, \"ORB%\": 4.6, \"DRB%\": 8.5, \"TRB%\": 6.6, \"AST%\": 16.4, \"STL%\": 2.9, \"BLK%\": 1.7, \"TOV%\": 15.1, \"USG%\": -0.16181877788505725, \"OWS\": -0.1, \"DWS\": 0.1, \"WS\": 0.0, \"WS/48\": 0.017, \"OBPM\": -5.2, \"DBPM\": 1.3, \"BPM\": -0.5111515860650627, \"VORP\": 0.0, \"pred\": 20}, {\"Player\": \"Zion Williamson\", \"Pos\": \"PF\", \"Age\": 19, \"Tm\": \"NOP\", \"G\": 24, \"MP\": 668, \"PER\": 24.1, \"TS%\": 0.616, \"3PAr\": 0.039, \"FTr\": 0.494, \"ORB%\": 10.1, \"DRB%\": 13.7, \"TRB%\": 11.9, \"AST%\": 13.3, \"STL%\": 1.1, \"BLK%\": 1.1, \"TOV%\": 11.9, \"USG%\": 2.1641659173476273, \"OWS\": 1.5, \"DWS\": 0.4, \"WS\": 2.0, \"WS/48\": 0.141, \"OBPM\": 3.5, \"DBPM\": -1.4, \"BPM\": 0.9320738694576606, \"VORP\": 0.7, \"pred\": 19}, {\"Player\": \"D.J. Wilson\", \"Pos\": \"PF\", \"Age\": 23, \"Tm\": \"MIL\", \"G\": 37, \"MP\": 363, \"PER\": 8.2, \"TS%\": 0.475, \"3PAr\": 0.553, \"FTr\": 0.136, \"ORB%\": 3.5, \"DRB%\": 20.5, \"TRB%\": 12.5, \"AST%\": 9.1, \"STL%\": 0.4, \"BLK%\": 1.2, \"TOV%\": 12.0, \"USG%\": -0.03752951936117286, \"OWS\": -0.3, \"DWS\": 0.6, \"WS\": 0.3, \"WS/48\": 0.046, \"OBPM\": -4.1, \"DBPM\": 0.1, \"BPM\": -0.5352053436571083, \"VORP\": -0.2, \"pred\": 23}, {\"Player\": \"Justise Winslow\", \"Pos\": \"SF\", \"Age\": 23, \"Tm\": \"MIA\", \"G\": 11, \"MP\": 352, \"PER\": 8.5, \"TS%\": 0.44, \"3PAr\": 0.209, \"FTr\": 0.209, \"ORB%\": 5.3, \"DRB%\": 17.5, \"TRB%\": 11.6, \"AST%\": 18.7, \"STL%\": 1.0, \"BLK%\": 1.4, \"TOV%\": 14.6, \"USG%\": 0.40636068965269817, \"OWS\": -0.4, \"DWS\": 0.4, \"WS\": 0.0, \"WS/48\": -0.004, \"OBPM\": -3.5, \"DBPM\": 0.0, \"BPM\": -0.41493655569688126, \"VORP\": -0.1, \"pred\": 23}, {\"Player\": \"Christian Wood\", \"Pos\": \"PF\", \"Age\": 24, \"Tm\": \"DET\", \"G\": 62, \"MP\": 1325, \"PER\": 23.2, \"TS%\": 0.659, \"3PAr\": 0.276, \"FTr\": 0.476, \"ORB%\": 8.8, \"DRB%\": 24.8, \"TRB%\": 16.7, \"AST%\": 7.6, \"STL%\": 1.3, \"BLK%\": 3.4, \"TOV%\": 12.0, \"USG%\": 0.8324952903060141, \"OWS\": 3.6, \"DWS\": 1.5, \"WS\": 5.1, \"WS/48\": 0.183, \"OBPM\": 3.5, \"DBPM\": -0.3, \"BPM\": 1.1726114453781145, \"VORP\": 1.7, \"pred\": 24}, {\"Player\": \"Delon Wright\", \"Pos\": \"SG\", \"Age\": 27, \"Tm\": \"DAL\", \"G\": 73, \"MP\": 1570, \"PER\": 15.4, \"TS%\": 0.554, \"3PAr\": 0.309, \"FTr\": 0.243, \"ORB%\": 4.7, \"DRB%\": 13.8, \"TRB%\": 9.4, \"AST%\": 21.0, \"STL%\": 2.6, \"BLK%\": 1.2, \"TOV%\": 13.8, \"USG%\": -0.6944870287017022, \"OWS\": 2.6, \"DWS\": 1.8, \"WS\": 4.4, \"WS/48\": 0.134, \"OBPM\": 0.0, \"DBPM\": 1.8, \"BPM\": 0.8839663542735697, \"VORP\": 1.5, \"pred\": 27}, {\"Player\": \"Justin Wright-Foreman\", \"Pos\": \"PG\", \"Age\": 22, \"Tm\": \"UTA\", \"G\": 4, \"MP\": 45, \"PER\": 8.8, \"TS%\": 0.437, \"3PAr\": 0.5, \"FTr\": 0.2, \"ORB%\": 0.0, \"DRB%\": 11.8, \"TRB%\": 6.1, \"AST%\": 23.0, \"STL%\": 2.2, \"BLK%\": 0.0, \"TOV%\": 12.1, \"USG%\": 1.0278069822721176, \"OWS\": -0.1, \"DWS\": 0.1, \"WS\": 0.0, \"WS/48\": -0.008, \"OBPM\": -7.0, \"DBPM\": -2.0, \"BPM\": -1.7378932232593778, \"VORP\": -0.1, \"pred\": 22}, {\"Player\": \"Thaddeus Young\", \"Pos\": \"PF\", \"Age\": 31, \"Tm\": \"CHI\", \"G\": 64, \"MP\": 1591, \"PER\": 13.3, \"TS%\": 0.521, \"3PAr\": 0.369, \"FTr\": 0.12, \"ORB%\": 6.2, \"DRB%\": 16.1, \"TRB%\": 10.9, \"AST%\": 11.3, \"STL%\": 2.8, \"BLK%\": 1.4, \"TOV%\": 13.9, \"USG%\": 0.24656021440770423, \"OWS\": -0.2, \"DWS\": 2.1, \"WS\": 1.9, \"WS/48\": 0.058, \"OBPM\": -1.4, \"DBPM\": 0.2, \"BPM\": 0.1382998689201627, \"VORP\": 0.3, \"pred\": 31}, {\"Player\": \"Trae Young\", \"Pos\": \"PG\", \"Age\": 21, \"Tm\": \"ATL\", \"G\": 60, \"MP\": 2120, \"PER\": 23.9, \"TS%\": 0.595, \"3PAr\": 0.455, \"FTr\": 0.448, \"ORB%\": 1.6, \"DRB%\": 11.5, \"TRB%\": 6.5, \"AST%\": 45.6, \"STL%\": 1.4, \"BLK%\": 0.3, \"TOV%\": 16.2, \"USG%\": 2.94541268521204, \"OWS\": 5.3, \"DWS\": 0.6, \"WS\": 5.9, \"WS/48\": 0.133, \"OBPM\": 6.2, \"DBPM\": -2.3, \"BPM\": 1.3650415061144776, \"VORP\": 3.1, \"pred\": 31}, {\"Player\": \"Cody Zeller\", \"Pos\": \"C\", \"Age\": 27, \"Tm\": \"CHO\", \"G\": 58, \"MP\": 1341, \"PER\": 18.8, \"TS%\": 0.576, \"3PAr\": 0.157, \"FTr\": 0.374, \"ORB%\": 12.6, \"DRB%\": 21.2, \"TRB%\": 16.7, \"AST%\": 11.3, \"STL%\": 1.5, \"BLK%\": 1.7, \"TOV%\": 11.9, \"USG%\": 0.44187190637380774, \"OWS\": 2.3, \"DWS\": 1.3, \"WS\": 3.6, \"WS/48\": 0.129, \"OBPM\": 0.2, \"DBPM\": -0.8, \"BPM\": 0.282622414472435, \"VORP\": 0.5, \"pred\": 27}, {\"Player\": \"Tyler Zeller\", \"Pos\": \"C\", \"Age\": 30, \"Tm\": \"SAS\", \"G\": 2, \"MP\": 4, \"PER\": 22.4, \"TS%\": 0.25, \"3PAr\": 0.0, \"FTr\": 0.0, \"ORB%\": 80.9, \"DRB%\": 26.9, \"TRB%\": 53.9, \"AST%\": 0.0, \"STL%\": 0.0, \"BLK%\": 0.0, \"TOV%\": 0.0, \"USG%\": 4.4191281791380925, \"OWS\": 0.0, \"DWS\": 0.0, \"WS\": 0.0, \"WS/48\": -0.075, \"OBPM\": -0.3, \"DBPM\": -22.1, \"BPM\": -4.961096740593459, \"VORP\": 0.0, \"pred\": 30}, {\"Player\": \"Ante \\u017di\\u017ei\\u0107\", \"Pos\": \"C\", \"Age\": 23, \"Tm\": \"CLE\", \"G\": 22, \"MP\": 221, \"PER\": 16.4, \"TS%\": 0.597, \"3PAr\": 0.0, \"FTr\": 0.264, \"ORB%\": 9.0, \"DRB%\": 24.4, \"TRB%\": 16.6, \"AST%\": 4.2, \"STL%\": 1.5, \"BLK%\": 1.9, \"TOV%\": 11.1, \"USG%\": -0.14406316952450215, \"OWS\": 0.3, \"DWS\": 0.2, \"WS\": 0.5, \"WS/48\": 0.106, \"OBPM\": -1.7, \"DBPM\": -1.5, \"BPM\": -0.3427752829207451, \"VORP\": -0.1, \"pred\": 23}, {\"Player\": \"Ivica Zubac\", \"Pos\": \"C\", \"Age\": 22, \"Tm\": \"LAC\", \"G\": 72, \"MP\": 1326, \"PER\": 21.7, \"TS%\": 0.651, \"3PAr\": 0.005, \"FTr\": 0.431, \"ORB%\": 15.9, \"DRB%\": 26.4, \"TRB%\": 21.3, \"AST%\": 9.1, \"STL%\": 0.6, \"BLK%\": 4.4, \"TOV%\": 11.8, \"USG%\": -0.3393748614906057, \"OWS\": 4.4, \"DWS\": 2.3, \"WS\": 6.6, \"WS/48\": 0.241, \"OBPM\": 1.9, \"DBPM\": 0.8, \"BPM\": 1.1004501726019782, \"VORP\": 1.6, \"pred\": 22}]}}, {\"mode\": \"vega-lite\"});\n",
       "</script>"
      ],
      "text/plain": [
       "alt.Chart(...)"
      ]
     },
     "execution_count": 10,
     "metadata": {},
     "output_type": "execute_result"
    }
   ],
   "source": [
    "clf = KNeighborsClassifier(n_neighbors=1)\n",
    "clf.fit(X_train, y_train)\n",
    "df[\"pred\"] = clf.predict(df[[\"BPM\",\"USG%\"]])\n",
    "c = alt.Chart(df).mark_circle().encode(\n",
    "    x=\"BPM\",\n",
    "    y=\"USG%\",\n",
    "    color=alt.Color(\"pred\", title=\"Age\"),\n",
    "    tooltip = ('Player:N','Age:Q','BPM:Q','USG%:Q','MP:Q')\n",
    ").properties(\n",
    "    title=\"Box Plus/Minus vs. Usage\",\n",
    "    width=1000,\n",
    "    height=400,\n",
    ")\n",
    "\n",
    "c.configure_legend(\n",
    "    strokeColor='gray',\n",
    "    fillColor='#EEEEEE',\n",
    "    padding=10,\n",
    "    cornerRadius=10,\n",
    "    orient='top-right'\n",
    ")\n",
    "alt.data_transformers.disable_max_rows()\n",
    "print(f\"The number of rows in this dataset is {df.shape[0]}\")\n",
    "c"
   ]
  },
  {
   "cell_type": "markdown",
   "metadata": {
    "cell_id": "00020-deaf5ec7-339c-4374-9d3d-b73328931a3e",
    "deepnote_cell_height": 52.69999694824219,
    "deepnote_cell_type": "markdown",
    "tags": []
   },
   "source": [
    "Below I am checking to see whether there is overfitting or underfitting. "
   ]
  },
  {
   "cell_type": "code",
   "execution_count": null,
   "metadata": {
    "cell_id": "00021-60e38c18-bc1b-41c0-ab15-a971e88b032a",
    "deepnote_cell_height": 118.44999694824219,
    "deepnote_cell_type": "code",
    "deepnote_output_heights": [
     21
    ],
    "deepnote_to_be_reexecuted": false,
    "execution_millis": 3650838,
    "execution_start": 1647314443509,
    "source_hash": "1342fbfc",
    "tags": []
   },
   "outputs": [
    {
     "data": {
      "text/plain": [
       "0.9903846153846154"
      ]
     },
     "execution_count": 11,
     "metadata": {},
     "output_type": "execute_result"
    }
   ],
   "source": [
    "clf.score(X_train,y_train)"
   ]
  },
  {
   "cell_type": "code",
   "execution_count": null,
   "metadata": {
    "cell_id": "00022-f5b3e270-8e6e-48c2-93d6-250a0ebae402",
    "deepnote_cell_height": 118.44999694824219,
    "deepnote_cell_type": "code",
    "deepnote_output_heights": [
     21
    ],
    "deepnote_to_be_reexecuted": false,
    "execution_millis": 3650843,
    "execution_start": 1647314443531,
    "source_hash": "adb29532",
    "tags": []
   },
   "outputs": [
    {
     "data": {
      "text/plain": [
       "0.08396946564885496"
      ]
     },
     "execution_count": 12,
     "metadata": {},
     "output_type": "execute_result"
    }
   ],
   "source": [
    "clf.score(X_test,y_test)"
   ]
  },
  {
   "cell_type": "markdown",
   "metadata": {
    "cell_id": "00023-edac6993-c620-401d-8879-10a1399590e9",
    "deepnote_cell_height": 52.69999694824219,
    "deepnote_cell_type": "markdown",
    "tags": []
   },
   "source": [
    "The data looks to be underfitting since the training set is lower than the testing set."
   ]
  },
  {
   "cell_type": "markdown",
   "metadata": {
    "cell_id": "00024-fd0d73ab-abbf-4f2f-9997-aa8546b8f42f",
    "deepnote_cell_height": 75.10000610351562,
    "deepnote_cell_type": "markdown",
    "tags": []
   },
   "source": [
    "Here, I am creating another ten Altair scatter plots but when k neighbors increments from 1 to 9. Larger values of k will have smoother decision boundaries which mean lower variance but increased bias. In turn, this can significantly influence our result. "
   ]
  },
  {
   "cell_type": "code",
   "execution_count": null,
   "metadata": {
    "cell_id": "00025-f7957f88-af87-44e0-9055-a1c6115f16b2",
    "deepnote_cell_height": 549.2999877929688,
    "deepnote_cell_type": "code",
    "deepnote_to_be_reexecuted": false,
    "execution_millis": 3650851,
    "execution_start": 1647314443573,
    "source_hash": "4a9c6646",
    "tags": []
   },
   "outputs": [],
   "source": [
    "\n",
    "def make_chart(k):\n",
    "    clf = KNeighborsClassifier(n_neighbors=k)\n",
    "    clf.fit(X_train, y_train)\n",
    "    df[f\"pred{k}\"] = clf.predict(df[[\"BPM\",\"USG%\"]])\n",
    "    test_score = clf.score(X_test,y_test) \n",
    "    train_score = clf.score(X_train,y_train)\n",
    "    c = alt.Chart(df).mark_circle().encode(\n",
    "        x=\"BPM\",\n",
    "        y=\"USG%\",\n",
    "        color=alt.Color(f\"pred{k}\", title=\"Predicted Age\"),\n",
    "        tooltip = ('Player:N','Age:Q','BPM:Q','USG%:Q','MP:Q')\n",
    "    ).properties(\n",
    "        title=f\"n_neighbors = {k}\",\n",
    "        width=1000,\n",
    "        height=200,\n",
    "    )\n",
    "    c.configure_legend(\n",
    "    strokeColor='gray',\n",
    "    fillColor='#EEEEEE',\n",
    "    padding=10,\n",
    "    cornerRadius=10,\n",
    "    orient='top-right'\n",
    ")\n",
    "    \n",
    "    return c \n"
   ]
  },
  {
   "cell_type": "code",
   "execution_count": null,
   "metadata": {
    "cell_id": "00026-7dda5e05-5662-45e5-8d2d-d119d1672deb",
    "deepnote_cell_height": 726.4500122070312,
    "deepnote_cell_type": "code",
    "deepnote_output_heights": [
     611
    ],
    "deepnote_to_be_reexecuted": false,
    "execution_millis": 1801,
    "execution_start": 1647314443573,
    "source_hash": "112a5a67",
    "tags": []
   },
   "outputs": [
    {
     "data": {
      "text/html": [
       "\n",
       "<div id=\"altair-viz-ae80fb5ea7a44eeab52386d5c337b51d\"></div>\n",
       "<script type=\"text/javascript\">\n",
       "  (function(spec, embedOpt){\n",
       "    let outputDiv = document.currentScript.previousElementSibling;\n",
       "    if (outputDiv.id !== \"altair-viz-ae80fb5ea7a44eeab52386d5c337b51d\") {\n",
       "      outputDiv = document.getElementById(\"altair-viz-ae80fb5ea7a44eeab52386d5c337b51d\");\n",
       "    }\n",
       "    const paths = {\n",
       "      \"vega\": \"https://cdn.jsdelivr.net/npm//vega@5?noext\",\n",
       "      \"vega-lib\": \"https://cdn.jsdelivr.net/npm//vega-lib?noext\",\n",
       "      \"vega-lite\": \"https://cdn.jsdelivr.net/npm//vega-lite@4.8.1?noext\",\n",
       "      \"vega-embed\": \"https://cdn.jsdelivr.net/npm//vega-embed@6?noext\",\n",
       "    };\n",
       "\n",
       "    function loadScript(lib) {\n",
       "      return new Promise(function(resolve, reject) {\n",
       "        var s = document.createElement('script');\n",
       "        s.src = paths[lib];\n",
       "        s.async = true;\n",
       "        s.onload = () => resolve(paths[lib]);\n",
       "        s.onerror = () => reject(`Error loading script: ${paths[lib]}`);\n",
       "        document.getElementsByTagName(\"head\")[0].appendChild(s);\n",
       "      });\n",
       "    }\n",
       "\n",
       "    function showError(err) {\n",
       "      outputDiv.innerHTML = `<div class=\"error\" style=\"color:red;\">${err}</div>`;\n",
       "      throw err;\n",
       "    }\n",
       "\n",
       "    function displayChart(vegaEmbed) {\n",
       "      vegaEmbed(outputDiv, spec, embedOpt)\n",
       "        .catch(err => showError(`Javascript Error: ${err.message}<br>This usually means there's a typo in your chart specification. See the javascript console for the full traceback.`));\n",
       "    }\n",
       "\n",
       "    if(typeof define === \"function\" && define.amd) {\n",
       "      requirejs.config({paths});\n",
       "      require([\"vega-embed\"], displayChart, err => showError(`Error loading script: ${err.message}`));\n",
       "    } else if (typeof vegaEmbed === \"function\") {\n",
       "      displayChart(vegaEmbed);\n",
       "    } else {\n",
       "      loadScript(\"vega\")\n",
       "        .then(() => loadScript(\"vega-lite\"))\n",
       "        .then(() => loadScript(\"vega-embed\"))\n",
       "        .catch(showError)\n",
       "        .then(() => displayChart(vegaEmbed));\n",
       "    }\n",
       "  })({\"config\": {\"view\": {\"continuousWidth\": 400, \"continuousHeight\": 300}}, \"vconcat\": [{\"mark\": \"circle\", \"encoding\": {\"color\": {\"type\": \"quantitative\", \"field\": \"pred1\", \"title\": \"Predicted Age\"}, \"tooltip\": [{\"type\": \"nominal\", \"field\": \"Player\"}, {\"type\": \"quantitative\", \"field\": \"Age\"}, {\"type\": \"quantitative\", \"field\": \"BPM\"}, {\"type\": \"quantitative\", \"field\": \"USG%\"}, {\"type\": \"quantitative\", \"field\": \"MP\"}], \"x\": {\"type\": \"quantitative\", \"field\": \"BPM\"}, \"y\": {\"type\": \"quantitative\", \"field\": \"USG%\"}}, \"height\": 200, \"title\": \"n_neighbors = 1\", \"width\": 1000}, {\"mark\": \"circle\", \"encoding\": {\"color\": {\"type\": \"quantitative\", \"field\": \"pred2\", \"title\": \"Predicted Age\"}, \"tooltip\": [{\"type\": \"nominal\", \"field\": \"Player\"}, {\"type\": \"quantitative\", \"field\": \"Age\"}, {\"type\": \"quantitative\", \"field\": \"BPM\"}, {\"type\": \"quantitative\", \"field\": \"USG%\"}, {\"type\": \"quantitative\", \"field\": \"MP\"}], \"x\": {\"type\": \"quantitative\", \"field\": \"BPM\"}, \"y\": {\"type\": \"quantitative\", \"field\": \"USG%\"}}, \"height\": 200, \"title\": \"n_neighbors = 2\", \"width\": 1000}, {\"mark\": \"circle\", \"encoding\": {\"color\": {\"type\": \"quantitative\", \"field\": \"pred3\", \"title\": \"Predicted Age\"}, \"tooltip\": [{\"type\": \"nominal\", \"field\": \"Player\"}, {\"type\": \"quantitative\", \"field\": \"Age\"}, {\"type\": \"quantitative\", \"field\": \"BPM\"}, {\"type\": \"quantitative\", \"field\": \"USG%\"}, {\"type\": \"quantitative\", \"field\": \"MP\"}], \"x\": {\"type\": \"quantitative\", \"field\": \"BPM\"}, \"y\": {\"type\": \"quantitative\", \"field\": \"USG%\"}}, \"height\": 200, \"title\": \"n_neighbors = 3\", \"width\": 1000}, {\"mark\": \"circle\", \"encoding\": {\"color\": {\"type\": \"quantitative\", \"field\": \"pred4\", \"title\": \"Predicted Age\"}, \"tooltip\": [{\"type\": \"nominal\", \"field\": \"Player\"}, {\"type\": \"quantitative\", \"field\": \"Age\"}, {\"type\": \"quantitative\", \"field\": \"BPM\"}, {\"type\": \"quantitative\", \"field\": \"USG%\"}, {\"type\": \"quantitative\", \"field\": \"MP\"}], \"x\": {\"type\": \"quantitative\", \"field\": \"BPM\"}, \"y\": {\"type\": \"quantitative\", \"field\": \"USG%\"}}, \"height\": 200, \"title\": \"n_neighbors = 4\", \"width\": 1000}, {\"mark\": \"circle\", \"encoding\": {\"color\": {\"type\": \"quantitative\", \"field\": \"pred5\", \"title\": \"Predicted Age\"}, \"tooltip\": [{\"type\": \"nominal\", \"field\": \"Player\"}, {\"type\": \"quantitative\", \"field\": \"Age\"}, {\"type\": \"quantitative\", \"field\": \"BPM\"}, {\"type\": \"quantitative\", \"field\": \"USG%\"}, {\"type\": \"quantitative\", \"field\": \"MP\"}], \"x\": {\"type\": \"quantitative\", \"field\": \"BPM\"}, \"y\": {\"type\": \"quantitative\", \"field\": \"USG%\"}}, \"height\": 200, \"title\": \"n_neighbors = 5\", \"width\": 1000}, {\"mark\": \"circle\", \"encoding\": {\"color\": {\"type\": \"quantitative\", \"field\": \"pred6\", \"title\": \"Predicted Age\"}, \"tooltip\": [{\"type\": \"nominal\", \"field\": \"Player\"}, {\"type\": \"quantitative\", \"field\": \"Age\"}, {\"type\": \"quantitative\", \"field\": \"BPM\"}, {\"type\": \"quantitative\", \"field\": \"USG%\"}, {\"type\": \"quantitative\", \"field\": \"MP\"}], \"x\": {\"type\": \"quantitative\", \"field\": \"BPM\"}, \"y\": {\"type\": \"quantitative\", \"field\": \"USG%\"}}, \"height\": 200, \"title\": \"n_neighbors = 6\", \"width\": 1000}, {\"mark\": \"circle\", \"encoding\": {\"color\": {\"type\": \"quantitative\", \"field\": \"pred7\", \"title\": \"Predicted Age\"}, \"tooltip\": [{\"type\": \"nominal\", \"field\": \"Player\"}, {\"type\": \"quantitative\", \"field\": \"Age\"}, {\"type\": \"quantitative\", \"field\": \"BPM\"}, {\"type\": \"quantitative\", \"field\": \"USG%\"}, {\"type\": \"quantitative\", \"field\": \"MP\"}], \"x\": {\"type\": \"quantitative\", \"field\": \"BPM\"}, \"y\": {\"type\": \"quantitative\", \"field\": \"USG%\"}}, \"height\": 200, \"title\": \"n_neighbors = 7\", \"width\": 1000}, {\"mark\": \"circle\", \"encoding\": {\"color\": {\"type\": \"quantitative\", \"field\": \"pred8\", \"title\": \"Predicted Age\"}, \"tooltip\": [{\"type\": \"nominal\", \"field\": \"Player\"}, {\"type\": \"quantitative\", \"field\": \"Age\"}, {\"type\": \"quantitative\", \"field\": \"BPM\"}, {\"type\": \"quantitative\", \"field\": \"USG%\"}, {\"type\": \"quantitative\", \"field\": \"MP\"}], \"x\": {\"type\": \"quantitative\", \"field\": \"BPM\"}, \"y\": {\"type\": \"quantitative\", \"field\": \"USG%\"}}, \"height\": 200, \"title\": \"n_neighbors = 8\", \"width\": 1000}, {\"mark\": \"circle\", \"encoding\": {\"color\": {\"type\": \"quantitative\", \"field\": \"pred9\", \"title\": \"Predicted Age\"}, \"tooltip\": [{\"type\": \"nominal\", \"field\": \"Player\"}, {\"type\": \"quantitative\", \"field\": \"Age\"}, {\"type\": \"quantitative\", \"field\": \"BPM\"}, {\"type\": \"quantitative\", \"field\": \"USG%\"}, {\"type\": \"quantitative\", \"field\": \"MP\"}], \"x\": {\"type\": \"quantitative\", \"field\": \"BPM\"}, \"y\": {\"type\": \"quantitative\", \"field\": \"USG%\"}}, \"height\": 200, \"title\": \"n_neighbors = 9\", \"width\": 1000}], \"data\": {\"name\": \"data-1d23347c6cb71b997b04374ab9084483\"}, \"$schema\": \"https://vega.github.io/schema/vega-lite/v4.8.1.json\", \"datasets\": {\"data-1d23347c6cb71b997b04374ab9084483\": [{\"Player\": \"Steven Adams\", \"Pos\": \"C\", \"Age\": 26, \"Tm\": \"OKC\", \"G\": 63, \"MP\": 1680, \"PER\": 20.5, \"TS%\": 0.604, \"3PAr\": 0.006, \"FTr\": 0.421, \"ORB%\": 14.0, \"DRB%\": 24.0, \"TRB%\": 19.2, \"AST%\": 13.2, \"STL%\": 1.5, \"BLK%\": 3.4, \"TOV%\": 14.2, \"USG%\": -0.17957438624561173, \"OWS\": 3.8, \"DWS\": 2.7, \"WS\": 6.5, \"WS/48\": 0.185, \"OBPM\": 1.9, \"DBPM\": 1.1, \"BPM\": 1.1245039301940236, \"VORP\": 2.1, \"pred\": 26, \"pred1\": 26, \"pred2\": 26, \"pred3\": 26, \"pred4\": 26, \"pred5\": 26, \"pred6\": 22, \"pred7\": 22, \"pred8\": 22, \"pred9\": 22}, {\"Player\": \"Bam Adebayo\", \"Pos\": \"PF\", \"Age\": 22, \"Tm\": \"MIA\", \"G\": 72, \"MP\": 2417, \"PER\": 20.3, \"TS%\": 0.598, \"3PAr\": 0.018, \"FTr\": 0.484, \"ORB%\": 8.5, \"DRB%\": 24.9, \"TRB%\": 17.0, \"AST%\": 24.2, \"STL%\": 1.7, \"BLK%\": 3.8, \"TOV%\": 17.6, \"USG%\": 0.5128943398160268, \"OWS\": 4.6, \"DWS\": 3.9, \"WS\": 8.5, \"WS/48\": 0.168, \"OBPM\": 1.4, \"DBPM\": 2.0, \"BPM\": 1.2447727181542505, \"VORP\": 3.3, \"pred\": 22, \"pred1\": 22, \"pred2\": 22, \"pred3\": 22, \"pred4\": 22, \"pred5\": 22, \"pred6\": 22, \"pred7\": 22, \"pred8\": 22, \"pred9\": 22}, {\"Player\": \"LaMarcus Aldridge\", \"Pos\": \"C\", \"Age\": 34, \"Tm\": \"SAS\", \"G\": 53, \"MP\": 1754, \"PER\": 19.7, \"TS%\": 0.571, \"3PAr\": 0.198, \"FTr\": 0.241, \"ORB%\": 6.3, \"DRB%\": 17.8, \"TRB%\": 12.0, \"AST%\": 11.4, \"STL%\": 1.0, \"BLK%\": 4.4, \"TOV%\": 7.8, \"USG%\": 0.9035177237482332, \"OWS\": 3.0, \"DWS\": 1.4, \"WS\": 4.5, \"WS/48\": 0.122, \"OBPM\": 1.8, \"DBPM\": -0.5, \"BPM\": 0.7636975663133428, \"VORP\": 1.5, \"pred\": 26, \"pred1\": 26, \"pred2\": 22, \"pred3\": 22, \"pred4\": 22, \"pred5\": 22, \"pred6\": 22, \"pred7\": 21, \"pred8\": 22, \"pred9\": 22}, {\"Player\": \"Kyle Alexander\", \"Pos\": \"PF\", \"Age\": 23, \"Tm\": \"MIA\", \"G\": 2, \"MP\": 13, \"PER\": 4.7, \"TS%\": 0.5, \"3PAr\": 0.0, \"FTr\": 0.0, \"ORB%\": 17.9, \"DRB%\": 8.3, \"TRB%\": 12.9, \"AST%\": 0.0, \"STL%\": 0.0, \"BLK%\": 0.0, \"TOV%\": 33.3, \"USG%\": -1.4402225798450057, \"OWS\": 0.0, \"DWS\": 0.0, \"WS\": 0.0, \"WS/48\": -0.003, \"OBPM\": -6.1, \"DBPM\": -3.5, \"BPM\": -1.8822157688116499, \"VORP\": 0.0, \"pred\": 34, \"pred1\": 34, \"pred2\": 27, \"pred3\": 26, \"pred4\": 26, \"pred5\": 26, \"pred6\": 23, \"pred7\": 34, \"pred8\": 34, \"pred9\": 34}, {\"Player\": \"Nickeil Alexander-Walker\", \"Pos\": \"SG\", \"Age\": 21, \"Tm\": \"NOP\", \"G\": 47, \"MP\": 591, \"PER\": 8.9, \"TS%\": 0.473, \"3PAr\": 0.5, \"FTr\": 0.139, \"ORB%\": 1.6, \"DRB%\": 13.5, \"TRB%\": 7.5, \"AST%\": 21.1, \"STL%\": 1.3, \"BLK%\": 1.1, \"TOV%\": 16.1, \"USG%\": 0.8857621153876788, \"OWS\": -0.7, \"DWS\": 0.4, \"WS\": -0.2, \"WS/48\": -0.02, \"OBPM\": -3.2, \"DBPM\": -1.4, \"BPM\": -0.6795278892093805, \"VORP\": -0.4, \"pred\": 21, \"pred1\": 21, \"pred2\": 19, \"pred3\": 19, \"pred4\": 30, \"pred5\": 21, \"pred6\": 21, \"pred7\": 21, \"pred8\": 21, \"pred9\": 21}, {\"Player\": \"Grayson Allen\", \"Pos\": \"SG\", \"Age\": 24, \"Tm\": \"MEM\", \"G\": 38, \"MP\": 718, \"PER\": 12.0, \"TS%\": 0.609, \"3PAr\": 0.562, \"FTr\": 0.179, \"ORB%\": 1.2, \"DRB%\": 11.1, \"TRB%\": 6.2, \"AST%\": 10.0, \"STL%\": 0.7, \"BLK%\": 0.2, \"TOV%\": 10.9, \"USG%\": -0.12630756116394706, \"OWS\": 0.8, \"DWS\": 0.4, \"WS\": 1.2, \"WS/48\": 0.082, \"OBPM\": -0.1, \"DBPM\": -1.2, \"BPM\": 0.11424611132811728, \"VORP\": 0.1, \"pred\": 24, \"pred1\": 24, \"pred2\": 20, \"pred3\": 20, \"pred4\": 20, \"pred5\": 24, \"pred6\": 24, \"pred7\": 24, \"pred8\": 24, \"pred9\": 24}, {\"Player\": \"Jarrett Allen\", \"Pos\": \"C\", \"Age\": 21, \"Tm\": \"BRK\", \"G\": 70, \"MP\": 1852, \"PER\": 20.7, \"TS%\": 0.664, \"3PAr\": 0.013, \"FTr\": 0.581, \"ORB%\": 12.3, \"DRB%\": 24.9, \"TRB%\": 18.7, \"AST%\": 8.9, \"STL%\": 1.0, \"BLK%\": 4.2, \"TOV%\": 11.7, \"USG%\": -0.6057089868989279, \"OWS\": 5.2, \"DWS\": 2.9, \"WS\": 8.2, \"WS/48\": 0.212, \"OBPM\": 1.4, \"DBPM\": 1.0, \"BPM\": 0.9801813846417512, \"VORP\": 2.0, \"pred\": 21, \"pred1\": 21, \"pred2\": 21, \"pred3\": 27, \"pred4\": 27, \"pred5\": 27, \"pred6\": 27, \"pred7\": 27, \"pred8\": 27, \"pred9\": 27}, {\"Player\": \"Kadeem Allen\", \"Pos\": \"SG\", \"Age\": 27, \"Tm\": \"NYK\", \"G\": 10, \"MP\": 117, \"PER\": 14.0, \"TS%\": 0.512, \"3PAr\": 0.364, \"FTr\": 0.25, \"ORB%\": 1.8, \"DRB%\": 6.6, \"TRB%\": 4.1, \"AST%\": 27.0, \"STL%\": 2.1, \"BLK%\": 1.6, \"TOV%\": 14.1, \"USG%\": 0.40636068965269817, \"OWS\": 0.1, \"DWS\": 0.1, \"WS\": 0.1, \"WS/48\": 0.053, \"OBPM\": -0.1, \"DBPM\": -0.6, \"BPM\": 0.25856865688038966, \"VORP\": 0.0, \"pred\": 27, \"pred1\": 27, \"pred2\": 27, \"pred3\": 27, \"pred4\": 27, \"pred5\": 27, \"pred6\": 27, \"pred7\": 27, \"pred8\": 27, \"pred9\": 27}, {\"Player\": \"Al-Farouq Aminu\", \"Pos\": \"PF\", \"Age\": 29, \"Tm\": \"ORL\", \"G\": 18, \"MP\": 380, \"PER\": 7.6, \"TS%\": 0.395, \"3PAr\": 0.419, \"FTr\": 0.337, \"ORB%\": 6.6, \"DRB%\": 18.4, \"TRB%\": 12.3, \"AST%\": 7.4, \"STL%\": 2.3, \"BLK%\": 1.9, \"TOV%\": 14.7, \"USG%\": -0.9075543290283604, \"OWS\": -0.4, \"DWS\": 0.5, \"WS\": 0.1, \"WS/48\": 0.014, \"OBPM\": -4.4, \"DBPM\": 1.4, \"BPM\": -0.2946677677366543, \"VORP\": -0.1, \"pred\": 29, \"pred1\": 29, \"pred2\": 22, \"pred3\": 22, \"pred4\": 22, \"pred5\": 22, \"pred6\": 22, \"pred7\": 22, \"pred8\": 22, \"pred9\": 22}, {\"Player\": \"Justin Anderson\", \"Pos\": \"SF\", \"Age\": 26, \"Tm\": \"BRK\", \"G\": 10, \"MP\": 107, \"PER\": 3.2, \"TS%\": 0.352, \"3PAr\": 0.763, \"FTr\": 0.105, \"ORB%\": 1.0, \"DRB%\": 18.9, \"TRB%\": 10.2, \"AST%\": 10.1, \"STL%\": 0.0, \"BLK%\": 4.7, \"TOV%\": 9.1, \"USG%\": -0.21508560296672127, \"OWS\": -0.2, \"DWS\": 0.1, \"WS\": -0.1, \"WS/48\": -0.054, \"OBPM\": -6.8, \"DBPM\": -0.9, \"BPM\": -1.4251943745627877, \"VORP\": -0.2, \"pred\": 26, \"pred1\": 26, \"pred2\": 22, \"pred3\": 22, \"pred4\": 22, \"pred5\": 22, \"pred6\": 22, \"pred7\": 22, \"pred8\": 22, \"pred9\": 22}, {\"Player\": \"Kyle Anderson\", \"Pos\": \"PF\", \"Age\": 26, \"Tm\": \"MEM\", \"G\": 67, \"MP\": 1330, \"PER\": 12.5, \"TS%\": 0.534, \"3PAr\": 0.257, \"FTr\": 0.236, \"ORB%\": 4.7, \"DRB%\": 17.6, \"TRB%\": 11.3, \"AST%\": 15.9, \"STL%\": 1.9, \"BLK%\": 2.4, \"TOV%\": 15.3, \"USG%\": -0.8542875039466958, \"OWS\": 0.9, \"DWS\": 1.7, \"WS\": 2.5, \"WS/48\": 0.091, \"OBPM\": -1.5, \"DBPM\": 2.0, \"BPM\": 0.5472137479849343, \"VORP\": 0.9, \"pred\": 26, \"pred1\": 26, \"pred2\": 26, \"pred3\": 26, \"pred4\": 24, \"pred5\": 28, \"pred6\": 28, \"pred7\": 26, \"pred8\": 26, \"pred9\": 26}, {\"Player\": \"Ryan Anderson\", \"Pos\": \"C\", \"Age\": 31, \"Tm\": \"HOU\", \"G\": 2, \"MP\": 14, \"PER\": 9.4, \"TS%\": 0.357, \"3PAr\": 0.714, \"FTr\": 0.0, \"ORB%\": 0.0, \"DRB%\": 52.9, \"TRB%\": 26.2, \"AST%\": 20.4, \"STL%\": 3.3, \"BLK%\": 0.0, \"TOV%\": 12.5, \"USG%\": 0.9567845488298978, \"OWS\": 0.0, \"DWS\": 0.0, \"WS\": 0.0, \"WS/48\": -0.037, \"OBPM\": -3.3, \"DBPM\": 0.5, \"BPM\": -0.2465602525525635, \"VORP\": 0.0, \"pred\": 31, \"pred1\": 31, \"pred2\": 23, \"pred3\": 23, \"pred4\": 21, \"pred5\": 21, \"pred6\": 20, \"pred7\": 24, \"pred8\": 23, \"pred9\": 23}, {\"Player\": \"Giannis Antetokounmpo\", \"Pos\": \"PF\", \"Age\": 25, \"Tm\": \"MIL\", \"G\": 63, \"MP\": 1917, \"PER\": 31.9, \"TS%\": 0.613, \"3PAr\": 0.237, \"FTr\": 0.508, \"ORB%\": 7.7, \"DRB%\": 34.8, \"TRB%\": 22.1, \"AST%\": 34.2, \"STL%\": 1.5, \"BLK%\": 3.0, \"TOV%\": 13.2, \"USG%\": 3.407058502586466, \"OWS\": 6.1, \"DWS\": 5.0, \"WS\": 11.1, \"WS/48\": 0.279, \"OBPM\": 7.4, \"DBPM\": 4.1, \"BPM\": 3.193127083109927, \"VORP\": 6.6, \"pred\": 25, \"pred1\": 25, \"pred2\": 25, \"pred3\": 25, \"pred4\": 25, \"pred5\": 25, \"pred6\": 25, \"pred7\": 25, \"pred8\": 25, \"pred9\": 25}, {\"Player\": \"Kostas Antetokounmpo\", \"Pos\": \"PF\", \"Age\": 22, \"Tm\": \"LAL\", \"G\": 5, \"MP\": 20, \"PER\": 16.3, \"TS%\": 0.902, \"3PAr\": 0.0, \"FTr\": 0.667, \"ORB%\": 11.1, \"DRB%\": 5.4, \"TRB%\": 8.2, \"AST%\": 13.7, \"STL%\": 0.0, \"BLK%\": 0.0, \"TOV%\": 20.5, \"USG%\": -1.4224669714844507, \"OWS\": 0.1, \"DWS\": 0.0, \"WS\": 0.1, \"WS/48\": 0.193, \"OBPM\": 0.2, \"DBPM\": -0.9, \"BPM\": 0.25856865688038966, \"VORP\": 0.0, \"pred\": 22, \"pred1\": 22, \"pred2\": 22, \"pred3\": 22, \"pred4\": 22, \"pred5\": 22, \"pred6\": 34, \"pred7\": 22, \"pred8\": 22, \"pred9\": 34}, {\"Player\": \"Thanasis Antetokounmpo\", \"Pos\": \"SF\", \"Age\": 27, \"Tm\": \"MIL\", \"G\": 20, \"MP\": 129, \"PER\": 12.2, \"TS%\": 0.496, \"3PAr\": 0.208, \"FTr\": 0.354, \"ORB%\": 9.8, \"DRB%\": 8.7, \"TRB%\": 9.2, \"AST%\": 16.3, \"STL%\": 2.5, \"BLK%\": 1.4, \"TOV%\": 17.8, \"USG%\": 0.5839167732582465, \"OWS\": -0.1, \"DWS\": 0.2, \"WS\": 0.2, \"WS/48\": 0.07, \"OBPM\": -4.6, \"DBPM\": 1.4, \"BPM\": -0.3427752829207451, \"VORP\": 0.0, \"pred\": 27, \"pred1\": 27, \"pred2\": 20, \"pred3\": 20, \"pred4\": 20, \"pred5\": 20, \"pred6\": 20, \"pred7\": 23, \"pred8\": 23, \"pred9\": 23}, {\"Player\": \"Carmelo Anthony\", \"Pos\": \"PF\", \"Age\": 35, \"Tm\": \"POR\", \"G\": 58, \"MP\": 1902, \"PER\": 12.4, \"TS%\": 0.525, \"3PAr\": 0.289, \"FTr\": 0.206, \"ORB%\": 4.0, \"DRB%\": 16.1, \"TRB%\": 10.1, \"AST%\": 6.4, \"STL%\": 1.2, \"BLK%\": 1.2, \"TOV%\": 10.5, \"USG%\": 0.5128943398160268, \"OWS\": 0.4, \"DWS\": 0.9, \"WS\": 1.3, \"WS/48\": 0.033, \"OBPM\": -1.8, \"DBPM\": -1.8, \"BPM\": -0.4389903132889267, \"VORP\": -0.8, \"pred\": 35, \"pred1\": 35, \"pred2\": 26, \"pred3\": 23, \"pred4\": 23, \"pred5\": 23, \"pred6\": 23, \"pred7\": 23, \"pred8\": 23, \"pred9\": 23}, {\"Player\": \"OG Anunoby\", \"Pos\": \"SF\", \"Age\": 22, \"Tm\": \"TOR\", \"G\": 69, \"MP\": 2066, \"PER\": 13.2, \"TS%\": 0.6, \"3PAr\": 0.403, \"FTr\": 0.18, \"ORB%\": 4.2, \"DRB%\": 14.2, \"TRB%\": 9.3, \"AST%\": 7.5, \"STL%\": 2.2, \"BLK%\": 2.1, \"TOV%\": 11.5, \"USG%\": -0.712242637062257, \"OWS\": 2.1, \"DWS\": 3.7, \"WS\": 5.7, \"WS/48\": 0.134, \"OBPM\": -0.8, \"DBPM\": 1.9, \"BPM\": 0.715590051129252, \"VORP\": 1.7, \"pred\": 22, \"pred1\": 22, \"pred2\": 22, \"pred3\": 22, \"pred4\": 22, \"pred5\": 27, \"pred6\": 27, \"pred7\": 27, \"pred8\": 27, \"pred9\": 27}, {\"Player\": \"Ryan Arcidiacono\", \"Pos\": \"PG\", \"Age\": 25, \"Tm\": \"CHI\", \"G\": 58, \"MP\": 930, \"PER\": 9.0, \"TS%\": 0.551, \"3PAr\": 0.627, \"FTr\": 0.173, \"ORB%\": 2.3, \"DRB%\": 11.2, \"TRB%\": 6.5, \"AST%\": 14.3, \"STL%\": 1.4, \"BLK%\": 0.3, \"TOV%\": 13.5, \"USG%\": -1.0318435875522443, \"OWS\": 0.7, \"DWS\": 0.7, \"WS\": 1.4, \"WS/48\": 0.071, \"OBPM\": -2.7, \"DBPM\": -0.1, \"BPM\": -0.2465602525525635, \"VORP\": -0.2, \"pred\": 25, \"pred1\": 25, \"pred2\": 22, \"pred3\": 22, \"pred4\": 22, \"pred5\": 29, \"pred6\": 29, \"pred7\": 29, \"pred8\": 26, \"pred9\": 22}, {\"Player\": \"Trevor Ariza\", \"Pos\": \"SF\", \"Age\": 34, \"Tm\": \"TOT\", \"G\": 53, \"MP\": 1493, \"PER\": 11.0, \"TS%\": 0.593, \"3PAr\": 0.639, \"FTr\": 0.228, \"ORB%\": 2.5, \"DRB%\": 15.7, \"TRB%\": 9.0, \"AST%\": 8.0, \"STL%\": 2.2, \"BLK%\": 0.9, \"TOV%\": 13.6, \"USG%\": -1.156132846076128, \"OWS\": 1.3, \"DWS\": 1.2, \"WS\": 2.5, \"WS/48\": 0.081, \"OBPM\": -1.4, \"DBPM\": 0.9, \"BPM\": 0.3066761720644804, \"VORP\": 0.5, \"pred\": 34, \"pred1\": 34, \"pred2\": 34, \"pred3\": 34, \"pred4\": 34, \"pred5\": 34, \"pred6\": 34, \"pred7\": 34, \"pred8\": 34, \"pred9\": 34}, {\"Player\": \"Trevor Ariza\", \"Pos\": \"SF\", \"Age\": 34, \"Tm\": \"SAC\", \"G\": 32, \"MP\": 791, \"PER\": 9.4, \"TS%\": 0.543, \"3PAr\": 0.739, \"FTr\": 0.164, \"ORB%\": 2.9, \"DRB%\": 18.2, \"TRB%\": 10.4, \"AST%\": 8.3, \"STL%\": 2.1, \"BLK%\": 0.8, \"TOV%\": 13.7, \"USG%\": -1.2626664962394574, \"OWS\": 0.3, \"DWS\": 0.8, \"WS\": 1.1, \"WS/48\": 0.066, \"OBPM\": -1.9, \"DBPM\": 1.3, \"BPM\": 0.25856865688038966, \"VORP\": 0.3, \"pred\": 34, \"pred1\": 34, \"pred2\": 26, \"pred3\": 34, \"pred4\": 34, \"pred5\": 34, \"pred6\": 34, \"pred7\": 34, \"pred8\": 34, \"pred9\": 34}, {\"Player\": \"Trevor Ariza\", \"Pos\": \"SF\", \"Age\": 34, \"Tm\": \"POR\", \"G\": 21, \"MP\": 702, \"PER\": 12.8, \"TS%\": 0.643, \"3PAr\": 0.535, \"FTr\": 0.296, \"ORB%\": 2.0, \"DRB%\": 12.8, \"TRB%\": 7.4, \"AST%\": 7.6, \"STL%\": 2.3, \"BLK%\": 1.0, \"TOV%\": 13.5, \"USG%\": -1.0318435875522443, \"OWS\": 1.0, \"DWS\": 0.4, \"WS\": 1.4, \"WS/48\": 0.098, \"OBPM\": -0.9, \"DBPM\": 0.4, \"BPM\": 0.33072992965652576, \"VORP\": 0.3, \"pred\": 34, \"pred1\": 34, \"pred2\": 34, \"pred3\": 25, \"pred4\": 25, \"pred5\": 25, \"pred6\": 34, \"pred7\": 34, \"pred8\": 34, \"pred9\": 34}, {\"Player\": \"D.J. Augustin\", \"Pos\": \"PG\", \"Age\": 32, \"Tm\": \"ORL\", \"G\": 57, \"MP\": 1420, \"PER\": 14.0, \"TS%\": 0.554, \"3PAr\": 0.436, \"FTr\": 0.393, \"ORB%\": 1.6, \"DRB%\": 7.8, \"TRB%\": 4.6, \"AST%\": 26.8, \"STL%\": 1.2, \"BLK%\": 0.1, \"TOV%\": 13.7, \"USG%\": 0.14002656424437554, \"OWS\": 2.0, \"DWS\": 0.9, \"WS\": 2.9, \"WS/48\": 0.098, \"OBPM\": -0.3, \"DBPM\": -1.3, \"BPM\": 0.042084838551981106, \"VORP\": 0.2, \"pred\": 32, \"pred1\": 32, \"pred2\": 22, \"pred3\": 22, \"pred4\": 22, \"pred5\": 31, \"pred6\": 31, \"pred7\": 31, \"pred8\": 31, \"pred9\": 31}, {\"Player\": \"Deandre Ayton\", \"Pos\": \"C\", \"Age\": 21, \"Tm\": \"PHO\", \"G\": 38, \"MP\": 1236, \"PER\": 20.0, \"TS%\": 0.568, \"3PAr\": 0.023, \"FTr\": 0.157, \"ORB%\": 13.0, \"DRB%\": 26.3, \"TRB%\": 19.6, \"AST%\": 9.7, \"STL%\": 1.0, \"BLK%\": 4.1, \"TOV%\": 11.6, \"USG%\": 0.9567845488298978, \"OWS\": 1.5, \"DWS\": 1.6, \"WS\": 3.1, \"WS/48\": 0.121, \"OBPM\": 0.8, \"DBPM\": -0.4, \"BPM\": 0.523159990392889, \"VORP\": 0.7, \"pred\": 21, \"pred1\": 21, \"pred2\": 20, \"pred3\": 20, \"pred4\": 20, \"pred5\": 20, \"pred6\": 20, \"pred7\": 20, \"pred8\": 30, \"pred9\": 30}, {\"Player\": \"Dwayne Bacon\", \"Pos\": \"SG\", \"Age\": 24, \"Tm\": \"CHO\", \"G\": 39, \"MP\": 687, \"PER\": 6.1, \"TS%\": 0.419, \"3PAr\": 0.275, \"FTr\": 0.217, \"ORB%\": 2.3, \"DRB%\": 14.0, \"TRB%\": 7.9, \"AST%\": 11.7, \"STL%\": 1.7, \"BLK%\": 0.3, \"TOV%\": 12.2, \"USG%\": 0.21104899768659466, \"OWS\": -1.2, \"DWS\": 0.4, \"WS\": -0.8, \"WS/48\": -0.053, \"OBPM\": -5.9, \"DBPM\": -0.9, \"BPM\": -1.2087105562343792, \"VORP\": -0.8, \"pred\": 26, \"pred1\": 26, \"pred2\": 26, \"pred3\": 24, \"pred4\": 20, \"pred5\": 20, \"pred6\": 30, \"pred7\": 20, \"pred8\": 20, \"pred9\": 20}, {\"Player\": \"Marvin Bagley III\", \"Pos\": \"PF\", \"Age\": 20, \"Tm\": \"SAC\", \"G\": 13, \"MP\": 334, \"PER\": 15.6, \"TS%\": 0.512, \"3PAr\": 0.132, \"FTr\": 0.186, \"ORB%\": 9.5, \"DRB%\": 23.5, \"TRB%\": 16.3, \"AST%\": 4.9, \"STL%\": 0.9, \"BLK%\": 3.4, \"TOV%\": 9.1, \"USG%\": 1.3296523244015497, \"OWS\": 0.0, \"DWS\": 0.3, \"WS\": 0.4, \"WS/48\": 0.051, \"OBPM\": -2.2, \"DBPM\": -1.3, \"BPM\": -0.41493655569688126, \"VORP\": -0.1, \"pred\": 20, \"pred1\": 20, \"pred2\": 20, \"pred3\": 20, \"pred4\": 19, \"pred5\": 19, \"pred6\": 19, \"pred7\": 19, \"pred8\": 30, \"pred9\": 20}, {\"Player\": \"Lonzo Ball\", \"Pos\": \"PG\", \"Age\": 22, \"Tm\": \"NOP\", \"G\": 63, \"MP\": 2025, \"PER\": 13.1, \"TS%\": 0.517, \"3PAr\": 0.575, \"FTr\": 0.111, \"ORB%\": 3.7, \"DRB%\": 16.4, \"TRB%\": 10.0, \"AST%\": 29.1, \"STL%\": 2.0, \"BLK%\": 1.6, \"TOV%\": 21.1, \"USG%\": 0.03349291408104625, \"OWS\": 0.4, \"DWS\": 2.0, \"WS\": 2.4, \"WS/48\": 0.058, \"OBPM\": 0.1, \"DBPM\": 0.6, \"BPM\": 0.5712675055769797, \"VORP\": 1.3, \"pred\": 22, \"pred1\": 22, \"pred2\": 22, \"pred3\": 22, \"pred4\": 22, \"pred5\": 22, \"pred6\": 22, \"pred7\": 22, \"pred8\": 22, \"pred9\": 22}, {\"Player\": \"Mo Bamba\", \"Pos\": \"C\", \"Age\": 21, \"Tm\": \"ORL\", \"G\": 62, \"MP\": 878, \"PER\": 17.5, \"TS%\": 0.542, \"3PAr\": 0.374, \"FTr\": 0.161, \"ORB%\": 11.9, \"DRB%\": 25.6, \"TRB%\": 18.5, \"AST%\": 7.2, \"STL%\": 1.3, \"BLK%\": 8.8, \"TOV%\": 12.1, \"USG%\": -0.21508560296672127, \"OWS\": 0.8, \"DWS\": 1.7, \"WS\": 2.5, \"WS/48\": 0.135, \"OBPM\": -1.2, \"DBPM\": 1.6, \"BPM\": 0.523159990392889, \"VORP\": 0.5, \"pred\": 21, \"pred1\": 21, \"pred2\": 21, \"pred3\": 21, \"pred4\": 29, \"pred5\": 29, \"pred6\": 29, \"pred7\": 23, \"pred8\": 23, \"pred9\": 23}, {\"Player\": \"J.J. Barea\", \"Pos\": \"PG\", \"Age\": 35, \"Tm\": \"DAL\", \"G\": 29, \"MP\": 450, \"PER\": 14.6, \"TS%\": 0.512, \"3PAr\": 0.411, \"FTr\": 0.106, \"ORB%\": 2.4, \"DRB%\": 9.9, \"TRB%\": 6.2, \"AST%\": 37.1, \"STL%\": 0.5, \"BLK%\": 0.4, \"TOV%\": 14.9, \"USG%\": 1.045562590632672, \"OWS\": 0.5, \"DWS\": 0.2, \"WS\": 0.7, \"WS/48\": 0.072, \"OBPM\": 1.6, \"DBPM\": -3.0, \"BPM\": 0.09019235373607193, \"VORP\": 0.1, \"pred\": 28, \"pred1\": 28, \"pred2\": 20, \"pred3\": 20, \"pred4\": 28, \"pred5\": 28, \"pred6\": 28, \"pred7\": 28, \"pred8\": 28, \"pred9\": 28}, {\"Player\": \"Harrison Barnes\", \"Pos\": \"PF\", \"Age\": 27, \"Tm\": \"SAC\", \"G\": 72, \"MP\": 2482, \"PER\": 13.3, \"TS%\": 0.574, \"3PAr\": 0.338, \"FTr\": 0.337, \"ORB%\": 3.4, \"DRB%\": 12.9, \"TRB%\": 8.1, \"AST%\": 9.2, \"STL%\": 0.8, \"BLK%\": 0.5, \"TOV%\": 8.8, \"USG%\": -0.16181877788505725, \"OWS\": 3.4, \"DWS\": 1.1, \"WS\": 4.6, \"WS/48\": 0.088, \"OBPM\": 0.0, \"DBPM\": -1.3, \"BPM\": 0.11424611132811728, \"VORP\": 0.5, \"pred\": 27, \"pred1\": 27, \"pred2\": 25, \"pred3\": 24, \"pred4\": 23, \"pred5\": 20, \"pred6\": 24, \"pred7\": 24, \"pred8\": 24, \"pred9\": 24}, {\"Player\": \"RJ Barrett\", \"Pos\": \"SG\", \"Age\": 19, \"Tm\": \"NYK\", \"G\": 56, \"MP\": 1704, \"PER\": 10.7, \"TS%\": 0.479, \"3PAr\": 0.271, \"FTr\": 0.349, \"ORB%\": 3.0, \"DRB%\": 14.8, \"TRB%\": 8.7, \"AST%\": 12.8, \"STL%\": 1.6, \"BLK%\": 0.9, \"TOV%\": 12.9, \"USG%\": 1.0100513739115624, \"OWS\": -1.6, \"DWS\": 1.1, \"WS\": -0.5, \"WS/48\": -0.015, \"OBPM\": -2.9, \"DBPM\": -1.5, \"BPM\": -0.6073666164332444, \"VORP\": -1.0, \"pred\": 19, \"pred1\": 19, \"pred2\": 19, \"pred3\": 19, \"pred4\": 19, \"pred5\": 19, \"pred6\": 19, \"pred7\": 19, \"pred8\": 30, \"pred9\": 24}, {\"Player\": \"Will Barton\", \"Pos\": \"SF\", \"Age\": 29, \"Tm\": \"DEN\", \"G\": 58, \"MP\": 1916, \"PER\": 15.6, \"TS%\": 0.549, \"3PAr\": 0.39, \"FTr\": 0.18, \"ORB%\": 4.5, \"DRB%\": 16.9, \"TRB%\": 10.7, \"AST%\": 16.0, \"STL%\": 1.6, \"BLK%\": 1.4, \"TOV%\": 9.9, \"USG%\": 0.31758264784992396, \"OWS\": 2.4, \"DWS\": 1.8, \"WS\": 4.2, \"WS/48\": 0.106, \"OBPM\": 1.2, \"DBPM\": -0.2, \"BPM\": 0.6915362935372067, \"VORP\": 1.5, \"pred\": 29, \"pred1\": 29, \"pred2\": 29, \"pred3\": 27, \"pred4\": 26, \"pred5\": 27, \"pred6\": 27, \"pred7\": 27, \"pred8\": 27, \"pred9\": 25}, {\"Player\": \"Keita Bates-Diop\", \"Pos\": \"SF\", \"Age\": 24, \"Tm\": \"TOT\", \"G\": 44, \"MP\": 744, \"PER\": 12.4, \"TS%\": 0.539, \"3PAr\": 0.44, \"FTr\": 0.321, \"ORB%\": 3.5, \"DRB%\": 15.1, \"TRB%\": 9.1, \"AST%\": 5.8, \"STL%\": 1.2, \"BLK%\": 2.7, \"TOV%\": 6.0, \"USG%\": -0.44590851165393436, \"OWS\": 0.6, \"DWS\": 0.6, \"WS\": 1.2, \"WS/48\": 0.078, \"OBPM\": -1.0, \"DBPM\": -0.4, \"BPM\": 0.09019235373607193, \"VORP\": 0.1, \"pred\": 29, \"pred1\": 29, \"pred2\": 29, \"pred3\": 29, \"pred4\": 29, \"pred5\": 29, \"pred6\": 29, \"pred7\": 29, \"pred8\": 29, \"pred9\": 29}, {\"Player\": \"Keita Bates-Diop\", \"Pos\": \"SF\", \"Age\": 24, \"Tm\": \"MIN\", \"G\": 37, \"MP\": 646, \"PER\": 12.5, \"TS%\": 0.535, \"3PAr\": 0.456, \"FTr\": 0.316, \"ORB%\": 3.3, \"DRB%\": 15.1, \"TRB%\": 9.0, \"AST%\": 6.7, \"STL%\": 1.2, \"BLK%\": 2.6, \"TOV%\": 5.6, \"USG%\": -0.44590851165393436, \"OWS\": 0.6, \"DWS\": 0.5, \"WS\": 1.0, \"WS/48\": 0.077, \"OBPM\": -0.8, \"DBPM\": -0.1, \"BPM\": 0.21046114169629884, \"VORP\": 0.2, \"pred\": 24, \"pred1\": 24, \"pred2\": 23, \"pred3\": 23, \"pred4\": 23, \"pred5\": 29, \"pred6\": 29, \"pred7\": 24, \"pred8\": 24, \"pred9\": 24}, {\"Player\": \"Keita Bates-Diop\", \"Pos\": \"SF\", \"Age\": 24, \"Tm\": \"DEN\", \"G\": 7, \"MP\": 98, \"PER\": 12.1, \"TS%\": 0.571, \"3PAr\": 0.321, \"FTr\": 0.357, \"ORB%\": 4.6, \"DRB%\": 14.8, \"TRB%\": 9.7, \"AST%\": 0.0, \"STL%\": 1.0, \"BLK%\": 3.8, \"TOV%\": 8.5, \"USG%\": -0.4636641200144894, \"OWS\": 0.1, \"DWS\": 0.1, \"WS\": 0.2, \"WS/48\": 0.084, \"OBPM\": -2.2, \"DBPM\": -2.7, \"BPM\": -0.7516891619855168, \"VORP\": -0.1, \"pred\": 24, \"pred1\": 24, \"pred2\": 24, \"pred3\": 24, \"pred4\": 24, \"pred5\": 22, \"pred6\": 22, \"pred7\": 24, \"pred8\": 24, \"pred9\": 24}, {\"Player\": \"Nicolas Batum\", \"Pos\": \"SF\", \"Age\": 31, \"Tm\": \"CHO\", \"G\": 22, \"MP\": 505, \"PER\": 9.2, \"TS%\": 0.463, \"3PAr\": 0.605, \"FTr\": 0.123, \"ORB%\": 5.2, \"DRB%\": 16.8, \"TRB%\": 10.8, \"AST%\": 18.3, \"STL%\": 1.7, \"BLK%\": 1.5, \"TOV%\": 20.5, \"USG%\": -1.5822674467294442, \"OWS\": 0.2, \"DWS\": 0.4, \"WS\": 0.6, \"WS/48\": 0.055, \"OBPM\": -2.8, \"DBPM\": 0.9, \"BPM\": -0.030076434224155017, \"VORP\": 0.0, \"pred\": 31, \"pred1\": 31, \"pred2\": 25, \"pred3\": 25, \"pred4\": 23, \"pred5\": 25, \"pred6\": 25, \"pred7\": 25, \"pred8\": 25, \"pred9\": 25}, {\"Player\": \"Aron Baynes\", \"Pos\": \"C\", \"Age\": 33, \"Tm\": \"PHO\", \"G\": 42, \"MP\": 934, \"PER\": 15.2, \"TS%\": 0.581, \"3PAr\": 0.441, \"FTr\": 0.197, \"ORB%\": 8.3, \"DRB%\": 20.0, \"TRB%\": 14.1, \"AST%\": 10.9, \"STL%\": 0.5, \"BLK%\": 2.1, \"TOV%\": 10.8, \"USG%\": 0.4951387314554724, \"OWS\": 1.3, \"DWS\": 0.8, \"WS\": 2.1, \"WS/48\": 0.107, \"OBPM\": -0.2, \"DBPM\": -0.8, \"BPM\": 0.18640738410425345, \"VORP\": 0.2, \"pred\": 33, \"pred1\": 33, \"pred2\": 24, \"pred3\": 22, \"pred4\": 22, \"pred5\": 21, \"pred6\": 27, \"pred7\": 27, \"pred8\": 27, \"pred9\": 24}, {\"Player\": \"Kent Bazemore\", \"Pos\": \"SF-SG\", \"Age\": 30, \"Tm\": \"TOT\", \"G\": 68, \"MP\": 1688, \"PER\": 9.3, \"TS%\": 0.499, \"3PAr\": 0.457, \"FTr\": 0.275, \"ORB%\": 1.7, \"DRB%\": 17.1, \"TRB%\": 9.4, \"AST%\": 7.4, \"STL%\": 2.1, \"BLK%\": 2.1, \"TOV%\": 13.2, \"USG%\": -0.14406316952450215, \"OWS\": -0.9, \"DWS\": 1.5, \"WS\": 0.6, \"WS/48\": 0.017, \"OBPM\": -3.4, \"DBPM\": 0.3, \"BPM\": -0.31872152532869974, \"VORP\": -0.5, \"pred\": 30, \"pred1\": 30, \"pred2\": 23, \"pred3\": 22, \"pred4\": 22, \"pred5\": 22, \"pred6\": 22, \"pred7\": 27, \"pred8\": 27, \"pred9\": 27}, {\"Player\": \"Kent Bazemore\", \"Pos\": \"SF\", \"Age\": 30, \"Tm\": \"POR\", \"G\": 43, \"MP\": 1111, \"PER\": 7.5, \"TS%\": 0.475, \"3PAr\": 0.525, \"FTr\": 0.221, \"ORB%\": 1.2, \"DRB%\": 14.8, \"TRB%\": 8.1, \"AST%\": 7.1, \"STL%\": 1.9, \"BLK%\": 2.4, \"TOV%\": 14.4, \"USG%\": -0.42815290329337957, \"OWS\": -1.0, \"DWS\": 0.8, \"WS\": -0.2, \"WS/48\": -0.008, \"OBPM\": -3.6, \"DBPM\": 0.4, \"BPM\": -0.3427752829207451, \"VORP\": -0.3, \"pred\": 30, \"pred1\": 30, \"pred2\": 28, \"pred3\": 21, \"pred4\": 21, \"pred5\": 21, \"pred6\": 21, \"pred7\": 24, \"pred8\": 24, \"pred9\": 24}, {\"Player\": \"Kent Bazemore\", \"Pos\": \"SG\", \"Age\": 30, \"Tm\": \"SAC\", \"G\": 25, \"MP\": 577, \"PER\": 12.6, \"TS%\": 0.533, \"3PAr\": 0.351, \"FTr\": 0.361, \"ORB%\": 2.7, \"DRB%\": 21.6, \"TRB%\": 11.9, \"AST%\": 8.0, \"STL%\": 2.4, \"BLK%\": 1.5, \"TOV%\": 11.4, \"USG%\": 0.370849472931588, \"OWS\": 0.1, \"DWS\": 0.7, \"WS\": 0.8, \"WS/48\": 0.065, \"OBPM\": -3.0, \"DBPM\": 0.3, \"BPM\": -0.2465602525525635, \"VORP\": -0.1, \"pred\": 30, \"pred1\": 30, \"pred2\": 25, \"pred3\": 23, \"pred4\": 30, \"pred5\": 30, \"pred6\": 30, \"pred7\": 23, \"pred8\": 23, \"pred9\": 23}, {\"Player\": \"Darius Bazley\", \"Pos\": \"PF\", \"Age\": 19, \"Tm\": \"OKC\", \"G\": 61, \"MP\": 1130, \"PER\": 9.6, \"TS%\": 0.497, \"3PAr\": 0.445, \"FTr\": 0.196, \"ORB%\": 3.0, \"DRB%\": 20.5, \"TRB%\": 12.0, \"AST%\": 5.1, \"STL%\": 1.0, \"BLK%\": 3.1, \"TOV%\": 11.6, \"USG%\": -0.5701977701778184, \"OWS\": -0.5, \"DWS\": 1.5, \"WS\": 1.0, \"WS/48\": 0.041, \"OBPM\": -2.1, \"DBPM\": 0.5, \"BPM\": 0.042084838551981106, \"VORP\": 0.1, \"pred\": 19, \"pred1\": 19, \"pred2\": 19, \"pred3\": 19, \"pred4\": 19, \"pred5\": 19, \"pred6\": 19, \"pred7\": 29, \"pred8\": 29, \"pred9\": 29}, {\"Player\": \"Bradley Beal\", \"Pos\": \"SG\", \"Age\": 26, \"Tm\": \"WAS\", \"G\": 57, \"MP\": 2053, \"PER\": 23.2, \"TS%\": 0.579, \"3PAr\": 0.369, \"FTr\": 0.351, \"ORB%\": 2.7, \"DRB%\": 10.5, \"TRB%\": 6.4, \"AST%\": 29.5, \"STL%\": 1.6, \"BLK%\": 1.0, \"TOV%\": 11.4, \"USG%\": 2.8566346434092655, \"OWS\": 4.5, \"DWS\": 0.6, \"WS\": 5.1, \"WS/48\": 0.118, \"OBPM\": 5.3, \"DBPM\": -2.4, \"BPM\": 1.1245039301940236, \"VORP\": 2.5, \"pred\": 26, \"pred1\": 26, \"pred2\": 26, \"pred3\": 31, \"pred4\": 26, \"pred5\": 26, \"pred6\": 31, \"pred7\": 31, \"pred8\": 31, \"pred9\": 31}, {\"Player\": \"Malik Beasley\", \"Pos\": \"SG\", \"Age\": 23, \"Tm\": \"TOT\", \"G\": 55, \"MP\": 1209, \"PER\": 12.7, \"TS%\": 0.546, \"3PAr\": 0.517, \"FTr\": 0.124, \"ORB%\": 1.6, \"DRB%\": 11.9, \"TRB%\": 6.7, \"AST%\": 9.4, \"STL%\": 1.6, \"BLK%\": 0.6, \"TOV%\": 9.2, \"USG%\": 0.6194279899793561, \"OWS\": 0.4, \"DWS\": 0.8, \"WS\": 1.2, \"WS/48\": 0.049, \"OBPM\": -0.7, \"DBPM\": -1.4, \"BPM\": -0.07818394940824584, \"VORP\": 0.0, \"pred\": 23, \"pred1\": 23, \"pred2\": 23, \"pred3\": 28, \"pred4\": 28, \"pred5\": 28, \"pred6\": 23, \"pred7\": 23, \"pred8\": 23, \"pred9\": 23}, {\"Player\": \"Malik Beasley\", \"Pos\": \"SG\", \"Age\": 23, \"Tm\": \"DEN\", \"G\": 41, \"MP\": 746, \"PER\": 10.5, \"TS%\": 0.511, \"3PAr\": 0.535, \"FTr\": 0.126, \"ORB%\": 1.4, \"DRB%\": 10.2, \"TRB%\": 5.8, \"AST%\": 9.1, \"STL%\": 2.1, \"BLK%\": 0.7, \"TOV%\": 10.2, \"USG%\": 0.40636068965269817, \"OWS\": -0.2, \"DWS\": 0.6, \"WS\": 0.5, \"WS/48\": 0.03, \"OBPM\": -2.2, \"DBPM\": -0.7, \"BPM\": -0.2706140101446089, \"VORP\": -0.2, \"pred\": 23, \"pred1\": 23, \"pred2\": 23, \"pred3\": 23, \"pred4\": 20, \"pred5\": 30, \"pred6\": 30, \"pred7\": 23, \"pred8\": 23, \"pred9\": 23}, {\"Player\": \"Malik Beasley\", \"Pos\": \"SG\", \"Age\": 23, \"Tm\": \"MIN\", \"G\": 14, \"MP\": 463, \"PER\": 16.2, \"TS%\": 0.591, \"3PAr\": 0.494, \"FTr\": 0.12, \"ORB%\": 2.0, \"DRB%\": 14.7, \"TRB%\": 8.1, \"AST%\": 9.8, \"STL%\": 0.9, \"BLK%\": 0.4, \"TOV%\": 7.9, \"USG%\": 0.9567845488298978, \"OWS\": 0.5, \"DWS\": 0.2, \"WS\": 0.8, \"WS/48\": 0.079, \"OBPM\": 1.7, \"DBPM\": -2.4, \"BPM\": 0.25856865688038966, \"VORP\": 0.2, \"pred\": 23, \"pred1\": 23, \"pred2\": 23, \"pred3\": 22, \"pred4\": 22, \"pred5\": 22, \"pred6\": 22, \"pred7\": 28, \"pred8\": 25, \"pred9\": 25}, {\"Player\": \"Marco Belinelli\", \"Pos\": \"SG\", \"Age\": 33, \"Tm\": \"SAS\", \"G\": 57, \"MP\": 883, \"PER\": 10.8, \"TS%\": 0.532, \"3PAr\": 0.567, \"FTr\": 0.185, \"ORB%\": 0.9, \"DRB%\": 11.2, \"TRB%\": 6.0, \"AST%\": 10.7, \"STL%\": 0.6, \"BLK%\": 0.1, \"TOV%\": 5.3, \"USG%\": -0.14406316952450215, \"OWS\": 0.7, \"DWS\": 0.2, \"WS\": 0.8, \"WS/48\": 0.046, \"OBPM\": -0.7, \"DBPM\": -2.0, \"BPM\": -0.2225064949605182, \"VORP\": -0.2, \"pred\": 33, \"pred1\": 33, \"pred2\": 22, \"pred3\": 22, \"pred4\": 22, \"pred5\": 22, \"pred6\": 20, \"pred7\": 20, \"pred8\": 24, \"pred9\": 24}, {\"Player\": \"Jordan Bell\", \"Pos\": \"C-PF\", \"Age\": 25, \"Tm\": \"TOT\", \"G\": 29, \"MP\": 256, \"PER\": 13.9, \"TS%\": 0.577, \"3PAr\": 0.179, \"FTr\": 0.463, \"ORB%\": 12.0, \"DRB%\": 21.8, \"TRB%\": 16.7, \"AST%\": 8.9, \"STL%\": 0.5, \"BLK%\": 3.2, \"TOV%\": 20.7, \"USG%\": -0.3393748614906057, \"OWS\": 0.2, \"DWS\": 0.2, \"WS\": 0.4, \"WS/48\": 0.07, \"OBPM\": -1.4, \"DBPM\": -1.1, \"BPM\": -0.17439897977642738, \"VORP\": 0.0, \"pred\": 25, \"pred1\": 25, \"pred2\": 20, \"pred3\": 20, \"pred4\": 20, \"pred5\": 24, \"pred6\": 24, \"pred7\": 24, \"pred8\": 24, \"pred9\": 24}, {\"Player\": \"Jordan Bell\", \"Pos\": \"C\", \"Age\": 25, \"Tm\": \"MIN\", \"G\": 27, \"MP\": 235, \"PER\": 14.1, \"TS%\": 0.57, \"3PAr\": 0.15, \"FTr\": 0.483, \"ORB%\": 12.1, \"DRB%\": 23.3, \"TRB%\": 17.5, \"AST%\": 8.6, \"STL%\": 0.4, \"BLK%\": 3.5, \"TOV%\": 19.8, \"USG%\": -0.42815290329337957, \"OWS\": 0.2, \"DWS\": 0.2, \"WS\": 0.4, \"WS/48\": 0.072, \"OBPM\": -1.5, \"DBPM\": -1.1, \"BPM\": -0.19845273736847277, \"VORP\": 0.0, \"pred\": 27, \"pred1\": 27, \"pred2\": 25, \"pred3\": 20, \"pred4\": 20, \"pred5\": 28, \"pred6\": 28, \"pred7\": 28, \"pred8\": 25, \"pred9\": 25}, {\"Player\": \"Jordan Bell\", \"Pos\": \"PF\", \"Age\": 25, \"Tm\": \"MEM\", \"G\": 2, \"MP\": 21, \"PER\": 12.6, \"TS%\": 0.635, \"3PAr\": 0.429, \"FTr\": 0.286, \"ORB%\": 10.2, \"DRB%\": 4.9, \"TRB%\": 7.5, \"AST%\": 12.9, \"STL%\": 2.2, \"BLK%\": 0.0, \"TOV%\": 27.6, \"USG%\": 0.5839167732582465, \"OWS\": 0.0, \"DWS\": 0.0, \"WS\": 0.0, \"WS/48\": 0.047, \"OBPM\": -0.5, \"DBPM\": -1.0, \"BPM\": 0.06613859614402652, \"VORP\": 0.0, \"pred\": 28, \"pred1\": 28, \"pred2\": 25, \"pred3\": 24, \"pred4\": 20, \"pred5\": 20, \"pred6\": 20, \"pred7\": 28, \"pred8\": 28, \"pred9\": 28}, {\"Player\": \"DeAndre' Bembry\", \"Pos\": \"SG\", \"Age\": 25, \"Tm\": \"ATL\", \"G\": 43, \"MP\": 915, \"PER\": 9.6, \"TS%\": 0.5, \"3PAr\": 0.285, \"FTr\": 0.211, \"ORB%\": 4.0, \"DRB%\": 14.1, \"TRB%\": 8.9, \"AST%\": 12.3, \"STL%\": 2.8, \"BLK%\": 1.7, \"TOV%\": 19.4, \"USG%\": -0.7655094621439216, \"OWS\": -0.5, \"DWS\": 0.8, \"WS\": 0.2, \"WS/48\": 0.012, \"OBPM\": -3.5, \"DBPM\": 1.1, \"BPM\": -0.17439897977642738, \"VORP\": -0.1, \"pred\": 25, \"pred1\": 25, \"pred2\": 23, \"pred3\": 25, \"pred4\": 25, \"pred5\": 24, \"pred6\": 24, \"pred7\": 24, \"pred8\": 24, \"pred9\": 24}, {\"Player\": \"Dragan Bender\", \"Pos\": \"SF\", \"Age\": 22, \"Tm\": \"TOT\", \"G\": 16, \"MP\": 286, \"PER\": 10.9, \"TS%\": 0.545, \"3PAr\": 0.467, \"FTr\": 0.152, \"ORB%\": 5.9, \"DRB%\": 21.1, \"TRB%\": 13.5, \"AST%\": 14.4, \"STL%\": 0.7, \"BLK%\": 2.8, \"TOV%\": 17.6, \"USG%\": -0.10855195280339261, \"OWS\": 0.0, \"DWS\": 0.3, \"WS\": 0.3, \"WS/48\": 0.052, \"OBPM\": -3.0, \"DBPM\": 0.1, \"BPM\": -0.2946677677366543, \"VORP\": -0.1, \"pred\": 22, \"pred1\": 22, \"pred2\": 22, \"pred3\": 22, \"pred4\": 22, \"pred5\": 22, \"pred6\": 22, \"pred7\": 22, \"pred8\": 22, \"pred9\": 27}, {\"Player\": \"Dragan Bender\", \"Pos\": \"SF\", \"Age\": 22, \"Tm\": \"MIL\", \"G\": 7, \"MP\": 91, \"PER\": 8.4, \"TS%\": 0.582, \"3PAr\": 0.429, \"FTr\": 0.143, \"ORB%\": 0.0, \"DRB%\": 20.5, \"TRB%\": 10.9, \"AST%\": 12.5, \"STL%\": 0.0, \"BLK%\": 4.8, \"TOV%\": 18.3, \"USG%\": -1.049599195912799, \"OWS\": 0.0, \"DWS\": 0.2, \"WS\": 0.2, \"WS/48\": 0.105, \"OBPM\": -4.4, \"DBPM\": 3.0, \"BPM\": 0.09019235373607193, \"VORP\": 0.0, \"pred\": 22, \"pred1\": 22, \"pred2\": 22, \"pred3\": 22, \"pred4\": 22, \"pred5\": 22, \"pred6\": 22, \"pred7\": 22, \"pred8\": 22, \"pred9\": 22}, {\"Player\": \"Dragan Bender\", \"Pos\": \"SF\", \"Age\": 22, \"Tm\": \"GSW\", \"G\": 9, \"MP\": 195, \"PER\": 12.1, \"TS%\": 0.534, \"3PAr\": 0.479, \"FTr\": 0.155, \"ORB%\": 8.6, \"DRB%\": 21.3, \"TRB%\": 14.7, \"AST%\": 15.2, \"STL%\": 1.0, \"BLK%\": 1.8, \"TOV%\": 17.4, \"USG%\": 0.31758264784992396, \"OWS\": 0.0, \"DWS\": 0.1, \"WS\": 0.1, \"WS/48\": 0.027, \"OBPM\": -2.4, \"DBPM\": -1.2, \"BPM\": -0.46304407088097205, \"VORP\": -0.1, \"pred\": 22, \"pred1\": 22, \"pred2\": 19, \"pred3\": 19, \"pred4\": 23, \"pred5\": 23, \"pred6\": 23, \"pred7\": 20, \"pred8\": 20, \"pred9\": 20}, {\"Player\": \"D\\u0101vis Bert\\u0101ns\", \"Pos\": \"PF\", \"Age\": 27, \"Tm\": \"WAS\", \"G\": 54, \"MP\": 1583, \"PER\": 15.5, \"TS%\": 0.628, \"3PAr\": 0.774, \"FTr\": 0.2, \"ORB%\": 2.3, \"DRB%\": 15.1, \"TRB%\": 8.5, \"AST%\": 8.4, \"STL%\": 1.1, \"BLK%\": 1.8, \"TOV%\": 8.2, \"USG%\": 0.12227095588382046, \"OWS\": 3.0, \"DWS\": 0.5, \"WS\": 3.5, \"WS/48\": 0.107, \"OBPM\": 2.7, \"DBPM\": -1.8, \"BPM\": 0.6434287783531158, \"VORP\": 1.1, \"pred\": 27, \"pred1\": 27, \"pred2\": 22, \"pred3\": 22, \"pred4\": 22, \"pred5\": 22, \"pred6\": 22, \"pred7\": 22, \"pred8\": 22, \"pred9\": 22}, {\"Player\": \"Patrick Beverley\", \"Pos\": \"PG\", \"Age\": 31, \"Tm\": \"LAC\", \"G\": 51, \"MP\": 1342, \"PER\": 12.5, \"TS%\": 0.56, \"3PAr\": 0.604, \"FTr\": 0.138, \"ORB%\": 4.5, \"DRB%\": 15.8, \"TRB%\": 10.3, \"AST%\": 18.2, \"STL%\": 1.9, \"BLK%\": 1.6, \"TOV%\": 15.4, \"USG%\": -0.8897987206678054, \"OWS\": 1.6, \"DWS\": 2.0, \"WS\": 3.6, \"WS/48\": 0.128, \"OBPM\": -0.3, \"DBPM\": 2.5, \"BPM\": 0.9561276270497059, \"VORP\": 1.4, \"pred\": 31, \"pred1\": 31, \"pred2\": 31, \"pred3\": 21, \"pred4\": 21, \"pred5\": 27, \"pred6\": 27, \"pred7\": 27, \"pred8\": 27, \"pred9\": 21}, {\"Player\": \"Khem Birch\", \"Pos\": \"C\", \"Age\": 27, \"Tm\": \"ORL\", \"G\": 48, \"MP\": 922, \"PER\": 11.7, \"TS%\": 0.566, \"3PAr\": 0.007, \"FTr\": 0.706, \"ORB%\": 10.3, \"DRB%\": 15.6, \"TRB%\": 12.9, \"AST%\": 7.3, \"STL%\": 1.1, \"BLK%\": 2.3, \"TOV%\": 14.2, \"USG%\": -1.4402225798450057, \"OWS\": 1.2, \"DWS\": 0.9, \"WS\": 2.2, \"WS/48\": 0.112, \"OBPM\": -2.5, \"DBPM\": 0.2, \"BPM\": -0.15034522218438195, \"VORP\": -0.1, \"pred\": 27, \"pred1\": 27, \"pred2\": 25, \"pred3\": 25, \"pred4\": 20, \"pred5\": 20, \"pred6\": 25, \"pred7\": 25, \"pred8\": 25, \"pred9\": 25}, {\"Player\": \"Goga Bitadze\", \"Pos\": \"C\", \"Age\": 20, \"Tm\": \"IND\", \"G\": 54, \"MP\": 471, \"PER\": 12.1, \"TS%\": 0.523, \"3PAr\": 0.28, \"FTr\": 0.22, \"ORB%\": 5.9, \"DRB%\": 18.7, \"TRB%\": 12.3, \"AST%\": 6.7, \"STL%\": 1.0, \"BLK%\": 6.9, \"TOV%\": 14.5, \"USG%\": -0.07304073608228305, \"OWS\": -0.1, \"DWS\": 0.8, \"WS\": 0.7, \"WS/48\": 0.067, \"OBPM\": -4.1, \"DBPM\": 1.8, \"BPM\": -0.12629146459233656, \"VORP\": 0.0, \"pred\": 20, \"pred1\": 20, \"pred2\": 20, \"pred3\": 19, \"pred4\": 19, \"pred5\": 19, \"pred6\": 19, \"pred7\": 20, \"pred8\": 20, \"pred9\": 20}, {\"Player\": \"Bismack Biyombo\", \"Pos\": \"C\", \"Age\": 27, \"Tm\": \"CHO\", \"G\": 53, \"MP\": 1029, \"PER\": 16.1, \"TS%\": 0.57, \"3PAr\": 0.0, \"FTr\": 0.543, \"ORB%\": 12.3, \"DRB%\": 20.7, \"TRB%\": 16.3, \"AST%\": 7.8, \"STL%\": 0.5, \"BLK%\": 4.4, \"TOV%\": 12.2, \"USG%\": -0.26835242804838594, \"OWS\": 1.5, \"DWS\": 0.9, \"WS\": 2.4, \"WS/48\": 0.113, \"OBPM\": -1.8, \"DBPM\": -0.7, \"BPM\": -0.17439897977642738, \"VORP\": -0.1, \"pred\": 24, \"pred1\": 24, \"pred2\": 24, \"pred3\": 24, \"pred4\": 24, \"pred5\": 24, \"pred6\": 24, \"pred7\": 24, \"pred8\": 24, \"pred9\": 24}, {\"Player\": \"Nemanja Bjelica\", \"Pos\": \"PF\", \"Age\": 31, \"Tm\": \"SAC\", \"G\": 72, \"MP\": 2011, \"PER\": 15.7, \"TS%\": 0.602, \"3PAr\": 0.49, \"FTr\": 0.129, \"ORB%\": 6.1, \"DRB%\": 19.9, \"TRB%\": 12.8, \"AST%\": 14.7, \"STL%\": 1.5, \"BLK%\": 1.9, \"TOV%\": 12.5, \"USG%\": -0.23284121132727637, \"OWS\": 3.4, \"DWS\": 1.9, \"WS\": 5.3, \"WS/48\": 0.127, \"OBPM\": 1.2, \"DBPM\": 0.5, \"BPM\": 0.8358588390894789, \"VORP\": 1.9, \"pred\": 31, \"pred1\": 31, \"pred2\": 20, \"pred3\": 20, \"pred4\": 20, \"pred5\": 20, \"pred6\": 20, \"pred7\": 25, \"pred8\": 25, \"pred9\": 25}, {\"Player\": \"Eric Bledsoe\", \"Pos\": \"PG\", \"Age\": 30, \"Tm\": \"MIL\", \"G\": 61, \"MP\": 1646, \"PER\": 17.6, \"TS%\": 0.571, \"3PAr\": 0.306, \"FTr\": 0.304, \"ORB%\": 2.8, \"DRB%\": 13.5, \"TRB%\": 8.5, \"AST%\": 28.7, \"STL%\": 1.6, \"BLK%\": 1.4, \"TOV%\": 15.7, \"USG%\": 0.9567845488298978, \"OWS\": 2.4, \"DWS\": 3.0, \"WS\": 5.4, \"WS/48\": 0.157, \"OBPM\": 0.8, \"DBPM\": 1.1, \"BPM\": 0.8599125966815243, \"VORP\": 1.6, \"pred\": 22, \"pred1\": 22, \"pred2\": 22, \"pred3\": 22, \"pred4\": 22, \"pred5\": 22, \"pred6\": 22, \"pred7\": 22, \"pred8\": 22, \"pred9\": 22}, {\"Player\": \"Bogdan Bogdanovi\\u0107\", \"Pos\": \"SG\", \"Age\": 27, \"Tm\": \"SAC\", \"G\": 61, \"MP\": 1766, \"PER\": 15.1, \"TS%\": 0.565, \"3PAr\": 0.576, \"FTr\": 0.151, \"ORB%\": 1.6, \"DRB%\": 11.8, \"TRB%\": 6.6, \"AST%\": 18.0, \"STL%\": 1.8, \"BLK%\": 0.8, \"TOV%\": 11.1, \"USG%\": 0.761472856863795, \"OWS\": 1.8, \"DWS\": 1.3, \"WS\": 3.1, \"WS/48\": 0.084, \"OBPM\": 1.2, \"DBPM\": -0.5, \"BPM\": 0.5712675055769797, \"VORP\": 1.2, \"pred\": 27, \"pred1\": 27, \"pred2\": 24, \"pred3\": 24, \"pred4\": 24, \"pred5\": 22, \"pred6\": 22, \"pred7\": 21, \"pred8\": 21, \"pred9\": 21}, {\"Player\": \"Bojan Bogdanovi\\u0107\", \"Pos\": \"SF\", \"Age\": 30, \"Tm\": \"UTA\", \"G\": 63, \"MP\": 2083, \"PER\": 15.6, \"TS%\": 0.603, \"3PAr\": 0.489, \"FTr\": 0.296, \"ORB%\": 2.1, \"DRB%\": 11.2, \"TRB%\": 6.8, \"AST%\": 10.0, \"STL%\": 0.8, \"BLK%\": 0.3, \"TOV%\": 13.1, \"USG%\": 1.276385499319885, \"OWS\": 2.6, \"DWS\": 1.6, \"WS\": 4.2, \"WS/48\": 0.096, \"OBPM\": 1.6, \"DBPM\": -1.5, \"BPM\": 0.45099871761675275, \"VORP\": 1.1, \"pred\": 30, \"pred1\": 30, \"pred2\": 24, \"pred3\": 24, \"pred4\": 24, \"pred5\": 24, \"pred6\": 24, \"pred7\": 24, \"pred8\": 24, \"pred9\": 24}, {\"Player\": \"Bol Bol\", \"Pos\": \"SF\", \"Age\": 20, \"Tm\": \"DEN\", \"G\": 7, \"MP\": 87, \"PER\": 14.4, \"TS%\": 0.617, \"3PAr\": 0.321, \"FTr\": 0.357, \"ORB%\": 6.4, \"DRB%\": 18.0, \"TRB%\": 12.2, \"AST%\": 9.8, \"STL%\": 1.1, \"BLK%\": 6.4, \"TOV%\": 23.6, \"USG%\": 0.5128943398160268, \"OWS\": 0.0, \"DWS\": 0.1, \"WS\": 0.1, \"WS/48\": 0.063, \"OBPM\": -2.1, \"DBPM\": -0.7, \"BPM\": -0.2706140101446089, \"VORP\": 0.0, \"pred\": 20, \"pred1\": 20, \"pred2\": 20, \"pred3\": 20, \"pred4\": 23, \"pred5\": 23, \"pred6\": 23, \"pred7\": 23, \"pred8\": 23, \"pred9\": 23}, {\"Player\": \"Jonah Bolden\", \"Pos\": \"PF\", \"Age\": 24, \"Tm\": \"TOT\", \"G\": 7, \"MP\": 47, \"PER\": 4.9, \"TS%\": 0.392, \"3PAr\": 0.364, \"FTr\": 0.364, \"ORB%\": 7.0, \"DRB%\": 14.3, \"TRB%\": 10.6, \"AST%\": 0.0, \"STL%\": 3.0, \"BLK%\": 3.7, \"TOV%\": 13.6, \"USG%\": -0.8720431123072506, \"OWS\": -0.1, \"DWS\": 0.1, \"WS\": 0.0, \"WS/48\": -0.006, \"OBPM\": -8.7, \"DBPM\": -0.1, \"BPM\": -1.6897857080752872, \"VORP\": -0.1, \"pred\": 31, \"pred1\": 31, \"pred2\": 31, \"pred3\": 31, \"pred4\": 27, \"pred5\": 34, \"pred6\": 34, \"pred7\": 34, \"pred8\": 23, \"pred9\": 23}, {\"Player\": \"Jonah Bolden\", \"Pos\": \"PF\", \"Age\": 24, \"Tm\": \"PHI\", \"G\": 4, \"MP\": 14, \"PER\": -2.0, \"TS%\": 0.515, \"3PAr\": 0.333, \"FTr\": 0.667, \"ORB%\": 0.0, \"DRB%\": 7.9, \"TRB%\": 3.9, \"AST%\": 0.0, \"STL%\": 3.5, \"BLK%\": 0.0, \"TOV%\": 34.0, \"USG%\": -0.03752951936117286, \"OWS\": -0.1, \"DWS\": 0.0, \"WS\": 0.0, \"WS/48\": -0.15, \"OBPM\": -13.9, \"DBPM\": -0.7, \"BPM\": -3.060849890821874, \"VORP\": 0.0, \"pred\": 22, \"pred1\": 22, \"pred2\": 22, \"pred3\": 22, \"pred4\": 22, \"pred5\": 22, \"pred6\": 22, \"pred7\": 22, \"pred8\": 22, \"pred9\": 22}, {\"Player\": \"Jonah Bolden\", \"Pos\": \"PF\", \"Age\": 24, \"Tm\": \"PHO\", \"G\": 3, \"MP\": 33, \"PER\": 7.9, \"TS%\": 0.338, \"3PAr\": 0.375, \"FTr\": 0.25, \"ORB%\": 10.0, \"DRB%\": 17.0, \"TRB%\": 13.5, \"AST%\": 0.0, \"STL%\": 2.9, \"BLK%\": 5.3, \"TOV%\": 0.0, \"USG%\": -1.2271552795183474, \"OWS\": 0.0, \"DWS\": 0.1, \"WS\": 0.0, \"WS/48\": 0.054, \"OBPM\": -6.5, \"DBPM\": 0.2, \"BPM\": -1.088441768274152, \"VORP\": 0.0, \"pred\": 22, \"pred1\": 22, \"pred2\": 22, \"pred3\": 22, \"pred4\": 22, \"pred5\": 22, \"pred6\": 22, \"pred7\": 22, \"pred8\": 22, \"pred9\": 22}, {\"Player\": \"Marques Bolden\", \"Pos\": \"C\", \"Age\": 21, \"Tm\": \"CLE\", \"G\": 1, \"MP\": 3, \"PER\": 19.8, \"TS%\": null, \"3PAr\": null, \"FTr\": null, \"ORB%\": 0.0, \"DRB%\": 74.7, \"TRB%\": 37.0, \"AST%\": 0.0, \"STL%\": 16.2, \"BLK%\": 0.0, \"TOV%\": null, \"USG%\": -3.2512946326215992, \"OWS\": 0.0, \"DWS\": 0.0, \"WS\": 0.0, \"WS/48\": 0.282, \"OBPM\": -5.9, \"DBPM\": 11.3, \"BPM\": 1.7258478699951583, \"VORP\": 0.0, \"pred\": 21, \"pred1\": 21, \"pred2\": 21, \"pred3\": 21, \"pred4\": 21, \"pred5\": 21, \"pred6\": 24, \"pred7\": 24, \"pred8\": 24, \"pred9\": 24}, {\"Player\": \"Jordan Bone\", \"Pos\": \"PG\", \"Age\": 22, \"Tm\": \"DET\", \"G\": 10, \"MP\": 53, \"PER\": 0.8, \"TS%\": 0.3, \"3PAr\": 0.5, \"FTr\": 0.0, \"ORB%\": 0.0, \"DRB%\": 8.7, \"TRB%\": 4.3, \"AST%\": 21.0, \"STL%\": 0.9, \"BLK%\": 0.0, \"TOV%\": 9.1, \"USG%\": -0.03752951936117286, \"OWS\": -0.1, \"DWS\": 0.0, \"WS\": -0.1, \"WS/48\": -0.117, \"OBPM\": -9.1, \"DBPM\": -2.8, \"BPM\": -2.435452193428694, \"VORP\": -0.1, \"pred\": 22, \"pred1\": 22, \"pred2\": 22, \"pred3\": 22, \"pred4\": 22, \"pred5\": 22, \"pred6\": 22, \"pred7\": 22, \"pred8\": 22, \"pred9\": 22}, {\"Player\": \"Isaac Bonga\", \"Pos\": \"SF\", \"Age\": 20, \"Tm\": \"WAS\", \"G\": 66, \"MP\": 1250, \"PER\": 10.2, \"TS%\": 0.608, \"3PAr\": 0.303, \"FTr\": 0.363, \"ORB%\": 6.0, \"DRB%\": 13.8, \"TRB%\": 9.7, \"AST%\": 7.9, \"STL%\": 1.7, \"BLK%\": 1.5, \"TOV%\": 17.6, \"USG%\": -1.298177712960567, \"OWS\": 1.2, \"DWS\": 0.6, \"WS\": 1.8, \"WS/48\": 0.068, \"OBPM\": -2.7, \"DBPM\": -0.1, \"BPM\": -0.2465602525525635, \"VORP\": -0.3, \"pred\": 20, \"pred1\": 20, \"pred2\": 20, \"pred3\": 20, \"pred4\": 20, \"pred5\": 20, \"pred6\": 34, \"pred7\": 34, \"pred8\": 34, \"pred9\": 25}, {\"Player\": \"Devin Booker\", \"Pos\": \"SG\", \"Age\": 23, \"Tm\": \"PHO\", \"G\": 70, \"MP\": 2512, \"PER\": 20.6, \"TS%\": 0.618, \"3PAr\": 0.31, \"FTr\": 0.397, \"ORB%\": 1.3, \"DRB%\": 12.0, \"TRB%\": 6.6, \"AST%\": 30.0, \"STL%\": 0.9, \"BLK%\": 0.6, \"TOV%\": 14.9, \"USG%\": 2.075387875544853, \"OWS\": 6.0, \"DWS\": 1.5, \"WS\": 7.5, \"WS/48\": 0.143, \"OBPM\": 3.4, \"DBPM\": -1.3, \"BPM\": 0.9561276270497059, \"VORP\": 2.6, \"pred\": 19, \"pred1\": 19, \"pred2\": 19, \"pred3\": 19, \"pred4\": 19, \"pred5\": 19, \"pred6\": 19, \"pred7\": 22, \"pred8\": 22, \"pred9\": 22}, {\"Player\": \"Chris Boucher\", \"Pos\": \"PF\", \"Age\": 27, \"Tm\": \"TOR\", \"G\": 62, \"MP\": 819, \"PER\": 20.7, \"TS%\": 0.587, \"3PAr\": 0.395, \"FTr\": 0.388, \"ORB%\": 14.1, \"DRB%\": 21.4, \"TRB%\": 17.9, \"AST%\": 4.8, \"STL%\": 1.3, \"BLK%\": 7.3, \"TOV%\": 7.4, \"USG%\": 0.24656021440770423, \"OWS\": 2.1, \"DWS\": 1.8, \"WS\": 3.8, \"WS/48\": 0.224, \"OBPM\": 1.0, \"DBPM\": 1.0, \"BPM\": 0.908020111865615, \"VORP\": 0.8, \"pred\": 27, \"pred1\": 27, \"pred2\": 22, \"pred3\": 22, \"pred4\": 25, \"pred5\": 22, \"pred6\": 22, \"pred7\": 22, \"pred8\": 22, \"pred9\": 22}, {\"Player\": \"Brian Bowen\", \"Pos\": \"SG\", \"Age\": 21, \"Tm\": \"IND\", \"G\": 6, \"MP\": 31, \"PER\": 0.1, \"TS%\": 0.3, \"3PAr\": 0.2, \"FTr\": 0.0, \"ORB%\": 3.6, \"DRB%\": 21.0, \"TRB%\": 12.4, \"AST%\": 0.0, \"STL%\": 0.0, \"BLK%\": 2.8, \"TOV%\": 9.1, \"USG%\": -0.4814197283750442, \"OWS\": -0.1, \"DWS\": 0.0, \"WS\": -0.1, \"WS/48\": -0.107, \"OBPM\": -9.1, \"DBPM\": -1.6, \"BPM\": -2.146807102324149, \"VORP\": -0.1, \"pred\": 21, \"pred1\": 21, \"pred2\": 21, \"pred3\": 24, \"pred4\": 24, \"pred5\": 24, \"pred6\": 24, \"pred7\": 24, \"pred8\": 24, \"pred9\": 22}, {\"Player\": \"Ky Bowman\", \"Pos\": \"PG\", \"Age\": 22, \"Tm\": \"GSW\", \"G\": 45, \"MP\": 1015, \"PER\": 9.1, \"TS%\": 0.494, \"3PAr\": 0.333, \"FTr\": 0.128, \"ORB%\": 2.5, \"DRB%\": 10.7, \"TRB%\": 6.5, \"AST%\": 19.4, \"STL%\": 2.1, \"BLK%\": 0.9, \"TOV%\": 17.1, \"USG%\": -0.19732999460616682, \"OWS\": -0.6, \"DWS\": 0.6, \"WS\": -0.1, \"WS/48\": -0.003, \"OBPM\": -4.0, \"DBPM\": -0.3, \"BPM\": -0.6073666164332444, \"VORP\": -0.6, \"pred\": 30, \"pred1\": 30, \"pred2\": 29, \"pred3\": 22, \"pred4\": 22, \"pred5\": 20, \"pred6\": 22, \"pred7\": 20, \"pred8\": 20, \"pred9\": 20}, {\"Player\": \"Avery Bradley\", \"Pos\": \"SG\", \"Age\": 29, \"Tm\": \"LAL\", \"G\": 49, \"MP\": 1186, \"PER\": 8.9, \"TS%\": 0.537, \"3PAr\": 0.452, \"FTr\": 0.063, \"ORB%\": 1.7, \"DRB%\": 8.9, \"TRB%\": 5.3, \"AST%\": 7.2, \"STL%\": 1.7, \"BLK%\": 0.4, \"TOV%\": 10.7, \"USG%\": -0.4636641200144894, \"OWS\": 0.2, \"DWS\": 1.4, \"WS\": 1.5, \"WS/48\": 0.062, \"OBPM\": -3.0, \"DBPM\": 0.5, \"BPM\": -0.17439897977642738, \"VORP\": -0.2, \"pred\": 27, \"pred1\": 27, \"pred2\": 27, \"pred3\": 25, \"pred4\": 21, \"pred5\": 28, \"pred6\": 25, \"pred7\": 25, \"pred8\": 25, \"pred9\": 25}, {\"Player\": \"Tony Bradley\", \"Pos\": \"C\", \"Age\": 22, \"Tm\": \"UTA\", \"G\": 58, \"MP\": 663, \"PER\": 21.7, \"TS%\": 0.681, \"3PAr\": 0.016, \"FTr\": 0.243, \"ORB%\": 19.1, \"DRB%\": 25.0, \"TRB%\": 22.2, \"AST%\": 5.4, \"STL%\": 1.0, \"BLK%\": 4.1, \"TOV%\": 12.5, \"USG%\": -0.44590851165393436, \"OWS\": 2.2, \"DWS\": 1.1, \"WS\": 3.3, \"WS/48\": 0.236, \"OBPM\": 1.0, \"DBPM\": 0.3, \"BPM\": 0.7396438087212974, \"VORP\": 0.6, \"pred\": 22, \"pred1\": 22, \"pred2\": 22, \"pred3\": 22, \"pred4\": 22, \"pred5\": 22, \"pred6\": 22, \"pred7\": 25, \"pred8\": 25, \"pred9\": 25}, {\"Player\": \"Jarrell Brantley\", \"Pos\": \"PF\", \"Age\": 23, \"Tm\": \"UTA\", \"G\": 9, \"MP\": 96, \"PER\": 8.0, \"TS%\": 0.416, \"3PAr\": 0.464, \"FTr\": 0.071, \"ORB%\": 2.4, \"DRB%\": 19.9, \"TRB%\": 11.5, \"AST%\": 15.8, \"STL%\": 1.5, \"BLK%\": 4.3, \"TOV%\": 19.5, \"USG%\": -0.35713046985116015, \"OWS\": -0.2, \"DWS\": 0.1, \"WS\": 0.0, \"WS/48\": -0.006, \"OBPM\": -5.3, \"DBPM\": 0.7, \"BPM\": -0.6795278892093805, \"VORP\": -0.1, \"pred\": 24, \"pred1\": 24, \"pred2\": 24, \"pred3\": 22, \"pred4\": 22, \"pred5\": 29, \"pred6\": 22, \"pred7\": 22, \"pred8\": 22, \"pred9\": 22}, {\"Player\": \"Ignas Brazdeikis\", \"Pos\": \"SF\", \"Age\": 21, \"Tm\": \"NYK\", \"G\": 9, \"MP\": 53, \"PER\": 3.2, \"TS%\": 0.351, \"3PAr\": 0.409, \"FTr\": 0.227, \"ORB%\": 3.9, \"DRB%\": 6.2, \"TRB%\": 5.0, \"AST%\": 10.6, \"STL%\": 0.0, \"BLK%\": 1.8, \"TOV%\": 7.6, \"USG%\": 0.47738312309491726, \"OWS\": -0.1, \"DWS\": 0.0, \"WS\": -0.1, \"WS/48\": -0.108, \"OBPM\": -5.1, \"DBPM\": -3.9, \"BPM\": -1.7378932232593778, \"VORP\": -0.1, \"pred\": 21, \"pred1\": 21, \"pred2\": 21, \"pred3\": 20, \"pred4\": 20, \"pred5\": 20, \"pred6\": 23, \"pred7\": 23, \"pred8\": 22, \"pred9\": 22}, {\"Player\": \"Corey Brewer\", \"Pos\": \"SG\", \"Age\": 33, \"Tm\": \"SAC\", \"G\": 5, \"MP\": 33, \"PER\": 8.7, \"TS%\": 0.47, \"3PAr\": 0.25, \"FTr\": 0.75, \"ORB%\": 6.7, \"DRB%\": 21.0, \"TRB%\": 13.6, \"AST%\": 7.7, \"STL%\": 5.9, \"BLK%\": 0.0, \"TOV%\": 27.3, \"USG%\": -1.5467562300083346, \"OWS\": 0.0, \"DWS\": 0.1, \"WS\": 0.0, \"WS/48\": 0.064, \"OBPM\": -6.9, \"DBPM\": 3.8, \"BPM\": -0.31872152532869974, \"VORP\": 0.0, \"pred\": 30, \"pred1\": 30, \"pred2\": 27, \"pred3\": 25, \"pred4\": 25, \"pred5\": 25, \"pred6\": 25, \"pred7\": 25, \"pred8\": 25, \"pred9\": 25}, {\"Player\": \"Mikal Bridges\", \"Pos\": \"SF\", \"Age\": 23, \"Tm\": \"PHO\", \"G\": 73, \"MP\": 2042, \"PER\": 12.9, \"TS%\": 0.62, \"3PAr\": 0.401, \"FTr\": 0.252, \"ORB%\": 3.5, \"DRB%\": 12.4, \"TRB%\": 7.9, \"AST%\": 8.6, \"STL%\": 2.4, \"BLK%\": 2.0, \"TOV%\": 12.0, \"USG%\": -0.9963323708311347, \"OWS\": 2.5, \"DWS\": 2.3, \"WS\": 4.8, \"WS/48\": 0.113, \"OBPM\": -0.6, \"DBPM\": 1.5, \"BPM\": 0.6193750207610704, \"VORP\": 1.5, \"pred\": 23, \"pred1\": 23, \"pred2\": 23, \"pred3\": 23, \"pred4\": 23, \"pred5\": 23, \"pred6\": 23, \"pred7\": 23, \"pred8\": 23, \"pred9\": 28}, {\"Player\": \"Miles Bridges\", \"Pos\": \"SF\", \"Age\": 21, \"Tm\": \"CHO\", \"G\": 65, \"MP\": 1995, \"PER\": 12.1, \"TS%\": 0.52, \"3PAr\": 0.398, \"FTr\": 0.174, \"ORB%\": 4.6, \"DRB%\": 15.6, \"TRB%\": 9.9, \"AST%\": 9.4, \"STL%\": 1.0, \"BLK%\": 2.2, \"TOV%\": 10.5, \"USG%\": 0.29982703948936884, \"OWS\": 0.3, \"DWS\": 1.3, \"WS\": 1.6, \"WS/48\": 0.039, \"OBPM\": -1.5, \"DBPM\": -1.0, \"BPM\": -0.17439897977642738, \"VORP\": -0.3, \"pred\": 21, \"pred1\": 21, \"pred2\": 21, \"pred3\": 30, \"pred4\": 30, \"pred5\": 30, \"pred6\": 30, \"pred7\": 23, \"pred8\": 23, \"pred9\": 23}, {\"Player\": \"Oshae Brissett\", \"Pos\": \"SF\", \"Age\": 21, \"Tm\": \"TOR\", \"G\": 19, \"MP\": 135, \"PER\": 6.7, \"TS%\": 0.458, \"3PAr\": 0.417, \"FTr\": 0.278, \"ORB%\": 7.2, \"DRB%\": 13.0, \"TRB%\": 10.2, \"AST%\": 7.0, \"STL%\": 1.4, \"BLK%\": 0.7, \"TOV%\": 14.8, \"USG%\": -0.5879533785383732, \"OWS\": -0.1, \"DWS\": 0.2, \"WS\": 0.1, \"WS/48\": 0.043, \"OBPM\": -5.8, \"DBPM\": 0.4, \"BPM\": -0.8719579499457438, \"VORP\": -0.1, \"pred\": 21, \"pred1\": 21, \"pred2\": 21, \"pred3\": 20, \"pred4\": 20, \"pred5\": 20, \"pred6\": 20, \"pred7\": 20, \"pred8\": 20, \"pred9\": 20}, {\"Player\": \"Ryan Broekhoff\", \"Pos\": \"SG\", \"Age\": 29, \"Tm\": \"DAL\", \"G\": 17, \"MP\": 180, \"PER\": 13.1, \"TS%\": 0.568, \"3PAr\": 0.864, \"FTr\": 0.136, \"ORB%\": 3.0, \"DRB%\": 21.9, \"TRB%\": 12.5, \"AST%\": 8.3, \"STL%\": 1.3, \"BLK%\": 1.9, \"TOV%\": 8.8, \"USG%\": -0.35713046985116015, \"OWS\": 0.2, \"DWS\": 0.2, \"WS\": 0.4, \"WS/48\": 0.109, \"OBPM\": 0.4, \"DBPM\": 0.3, \"BPM\": 0.595321263169025, \"VORP\": 0.1, \"pred\": 25, \"pred1\": 25, \"pred2\": 25, \"pred3\": 25, \"pred4\": 25, \"pred5\": 29, \"pred6\": 25, \"pred7\": 25, \"pred8\": 23, \"pred9\": 23}, {\"Player\": \"Malcolm Brogdon\", \"Pos\": \"PG\", \"Age\": 27, \"Tm\": \"IND\", \"G\": 54, \"MP\": 1666, \"PER\": 17.7, \"TS%\": 0.541, \"3PAr\": 0.309, \"FTr\": 0.25, \"ORB%\": 3.1, \"DRB%\": 14.1, \"TRB%\": 8.6, \"AST%\": 33.8, \"STL%\": 1.0, \"BLK%\": 0.5, \"TOV%\": 13.7, \"USG%\": 1.2231186742382205, \"OWS\": 2.3, \"DWS\": 1.7, \"WS\": 4.0, \"WS/48\": 0.114, \"OBPM\": 2.3, \"DBPM\": -0.5, \"BPM\": 0.8599125966815243, \"VORP\": 1.6, \"pred\": 27, \"pred1\": 27, \"pred2\": 27, \"pred3\": 22, \"pred4\": 22, \"pred5\": 22, \"pred6\": 22, \"pred7\": 26, \"pred8\": 26, \"pred9\": 26}, {\"Player\": \"Dillon Brooks\", \"Pos\": \"SG\", \"Age\": 24, \"Tm\": \"MEM\", \"G\": 73, \"MP\": 2112, \"PER\": 11.3, \"TS%\": 0.51, \"3PAr\": 0.385, \"FTr\": 0.19, \"ORB%\": 3.5, \"DRB%\": 8.6, \"TRB%\": 6.1, \"AST%\": 10.5, \"STL%\": 1.4, \"BLK%\": 1.1, \"TOV%\": 9.7, \"USG%\": 1.2231186742382205, \"OWS\": -0.4, \"DWS\": 1.6, \"WS\": 1.2, \"WS/48\": 0.027, \"OBPM\": -2.6, \"DBPM\": -1.4, \"BPM\": -0.5592591012491536, \"VORP\": -1.1, \"pred\": 20, \"pred1\": 20, \"pred2\": 20, \"pred3\": 19, \"pred4\": 19, \"pred5\": 19, \"pred6\": 19, \"pred7\": 19, \"pred8\": 19, \"pred9\": 19}, {\"Player\": \"Bruce Brown\", \"Pos\": \"SG\", \"Age\": 23, \"Tm\": \"DET\", \"G\": 58, \"MP\": 1634, \"PER\": 11.9, \"TS%\": 0.518, \"3PAr\": 0.215, \"FTr\": 0.266, \"ORB%\": 4.2, \"DRB%\": 15.0, \"TRB%\": 9.5, \"AST%\": 20.4, \"STL%\": 1.9, \"BLK%\": 1.5, \"TOV%\": 16.7, \"USG%\": -0.4103972949328248, \"OWS\": 0.7, \"DWS\": 1.4, \"WS\": 2.1, \"WS/48\": 0.062, \"OBPM\": -2.0, \"DBPM\": 0.8, \"BPM\": 0.1382998689201627, \"VORP\": 0.3, \"pred\": 23, \"pred1\": 23, \"pred2\": 22, \"pred3\": 22, \"pred4\": 22, \"pred5\": 29, \"pred6\": 24, \"pred7\": 29, \"pred8\": 29, \"pred9\": 29}, {\"Player\": \"Charlie Brown\", \"Pos\": \"SG\", \"Age\": 22, \"Tm\": \"ATL\", \"G\": 10, \"MP\": 40, \"PER\": 11.0, \"TS%\": 0.472, \"3PAr\": 0.474, \"FTr\": 0.263, \"ORB%\": 5.3, \"DRB%\": 5.5, \"TRB%\": 5.4, \"AST%\": 7.3, \"STL%\": 2.3, \"BLK%\": 4.2, \"TOV%\": 12.4, \"USG%\": 1.205363065877666, \"OWS\": 0.0, \"DWS\": 0.0, \"WS\": 0.0, \"WS/48\": -0.028, \"OBPM\": -1.1, \"DBPM\": -1.4, \"BPM\": -0.17439897977642738, \"VORP\": 0.0, \"pred\": 24, \"pred1\": 24, \"pred2\": 20, \"pred3\": 20, \"pred4\": 20, \"pred5\": 20, \"pred6\": 20, \"pred7\": 28, \"pred8\": 28, \"pred9\": 28}, {\"Player\": \"Jaylen Brown\", \"Pos\": \"SF\", \"Age\": 23, \"Tm\": \"BOS\", \"G\": 57, \"MP\": 1934, \"PER\": 16.9, \"TS%\": 0.583, \"3PAr\": 0.381, \"FTr\": 0.274, \"ORB%\": 3.5, \"DRB%\": 16.5, \"TRB%\": 10.1, \"AST%\": 9.7, \"STL%\": 1.6, \"BLK%\": 1.0, \"TOV%\": 11.2, \"USG%\": 1.1343406324354464, \"OWS\": 2.3, \"DWS\": 2.6, \"WS\": 4.9, \"WS/48\": 0.123, \"OBPM\": 1.0, \"DBPM\": -0.2, \"BPM\": 0.6193750207610704, \"VORP\": 1.4, \"pred\": 23, \"pred1\": 23, \"pred2\": 23, \"pred3\": 23, \"pred4\": 22, \"pred5\": 22, \"pred6\": 20, \"pred7\": 20, \"pred8\": 20, \"pred9\": 20}, {\"Player\": \"Moses Brown\", \"Pos\": \"C\", \"Age\": 20, \"Tm\": \"POR\", \"G\": 9, \"MP\": 33, \"PER\": 6.7, \"TS%\": 0.407, \"3PAr\": 0.0, \"FTr\": 0.8, \"ORB%\": 9.6, \"DRB%\": 34.5, \"TRB%\": 22.2, \"AST%\": 4.0, \"STL%\": 1.4, \"BLK%\": 2.6, \"TOV%\": 18.2, \"USG%\": 0.5128943398160268, \"OWS\": -0.1, \"DWS\": 0.0, \"WS\": 0.0, \"WS/48\": -0.065, \"OBPM\": -8.2, \"DBPM\": -1.8, \"BPM\": -1.9784307991798316, \"VORP\": -0.1, \"pred\": 22, \"pred1\": 22, \"pred2\": 22, \"pred3\": 20, \"pred4\": 20, \"pred5\": 20, \"pred6\": 22, \"pred7\": 22, \"pred8\": 22, \"pred9\": 22}, {\"Player\": \"Sterling Brown\", \"Pos\": \"SF\", \"Age\": 24, \"Tm\": \"MIL\", \"G\": 52, \"MP\": 767, \"PER\": 9.5, \"TS%\": 0.486, \"3PAr\": 0.531, \"FTr\": 0.156, \"ORB%\": 4.3, \"DRB%\": 18.5, \"TRB%\": 11.8, \"AST%\": 8.6, \"STL%\": 1.7, \"BLK%\": 0.8, \"TOV%\": 13.3, \"USG%\": -0.23284121132727637, \"OWS\": -0.4, \"DWS\": 1.5, \"WS\": 1.1, \"WS/48\": 0.07, \"OBPM\": -3.0, \"DBPM\": 1.0, \"BPM\": -0.05413019181620043, \"VORP\": 0.0, \"pred\": 24, \"pred1\": 24, \"pred2\": 22, \"pred3\": 20, \"pred4\": 24, \"pred5\": 24, \"pred6\": 24, \"pred7\": 24, \"pred8\": 24, \"pred9\": 24}, {\"Player\": \"Troy Brown Jr.\", \"Pos\": \"SG\", \"Age\": 20, \"Tm\": \"WAS\", \"G\": 69, \"MP\": 1782, \"PER\": 13.7, \"TS%\": 0.524, \"3PAr\": 0.288, \"FTr\": 0.223, \"ORB%\": 4.5, \"DRB%\": 19.6, \"TRB%\": 11.7, \"AST%\": 14.1, \"STL%\": 2.2, \"BLK%\": 0.3, \"TOV%\": 10.4, \"USG%\": -0.09079634444283752, \"OWS\": 1.3, \"DWS\": 1.2, \"WS\": 2.4, \"WS/48\": 0.065, \"OBPM\": -0.8, \"DBPM\": -0.4, \"BPM\": 0.11424611132811728, \"VORP\": 0.3, \"pred\": 20, \"pred1\": 20, \"pred2\": 20, \"pred3\": 24, \"pred4\": 24, \"pred5\": 24, \"pred6\": 24, \"pred7\": 24, \"pred8\": 24, \"pred9\": 24}, {\"Player\": \"Jalen Brunson\", \"Pos\": \"PG\", \"Age\": 23, \"Tm\": \"DAL\", \"G\": 57, \"MP\": 1022, \"PER\": 14.9, \"TS%\": 0.553, \"3PAr\": 0.309, \"FTr\": 0.193, \"ORB%\": 2.3, \"DRB%\": 11.3, \"TRB%\": 6.9, \"AST%\": 27.0, \"STL%\": 1.0, \"BLK%\": 0.3, \"TOV%\": 13.6, \"USG%\": 0.370849472931588, \"OWS\": 1.6, \"DWS\": 0.6, \"WS\": 2.1, \"WS/48\": 0.101, \"OBPM\": 0.1, \"DBPM\": -1.0, \"BPM\": 0.21046114169629884, \"VORP\": 0.3, \"pred\": 23, \"pred1\": 23, \"pred2\": 23, \"pred3\": 23, \"pred4\": 27, \"pred5\": 27, \"pred6\": 27, \"pred7\": 27, \"pred8\": 27, \"pred9\": 27}, {\"Player\": \"Thomas Bryant\", \"Pos\": \"C\", \"Age\": 22, \"Tm\": \"WAS\", \"G\": 46, \"MP\": 1147, \"PER\": 21.1, \"TS%\": 0.649, \"3PAr\": 0.218, \"FTr\": 0.278, \"ORB%\": 9.0, \"DRB%\": 23.1, \"TRB%\": 15.8, \"AST%\": 11.1, \"STL%\": 1.0, \"BLK%\": 3.7, \"TOV%\": 10.2, \"USG%\": 0.10451534752326536, \"OWS\": 3.1, \"DWS\": 0.8, \"WS\": 3.9, \"WS/48\": 0.164, \"OBPM\": 2.9, \"DBPM\": -0.7, \"BPM\": 0.9561276270497059, \"VORP\": 1.2, \"pred\": 22, \"pred1\": 22, \"pred2\": 22, \"pred3\": 22, \"pred4\": 22, \"pred5\": 22, \"pred6\": 22, \"pred7\": 22, \"pred8\": 22, \"pred9\": 22}, {\"Player\": \"Reggie Bullock\", \"Pos\": \"SG\", \"Age\": 28, \"Tm\": \"NYK\", \"G\": 29, \"MP\": 684, \"PER\": 9.3, \"TS%\": 0.502, \"3PAr\": 0.496, \"FTr\": 0.094, \"ORB%\": 2.0, \"DRB%\": 8.8, \"TRB%\": 5.3, \"AST%\": 8.8, \"STL%\": 1.8, \"BLK%\": 0.4, \"TOV%\": 7.5, \"USG%\": -0.4814197283750442, \"OWS\": 0.2, \"DWS\": 0.3, \"WS\": 0.5, \"WS/48\": 0.036, \"OBPM\": -2.8, \"DBPM\": -0.3, \"BPM\": -0.2946677677366543, \"VORP\": -0.2, \"pred\": 28, \"pred1\": 28, \"pred2\": 21, \"pred3\": 21, \"pred4\": 21, \"pred5\": 21, \"pred6\": 24, \"pred7\": 24, \"pred8\": 24, \"pred9\": 24}, {\"Player\": \"Trey Burke\", \"Pos\": \"PG\", \"Age\": 27, \"Tm\": \"TOT\", \"G\": 33, \"MP\": 520, \"PER\": 15.6, \"TS%\": 0.548, \"3PAr\": 0.359, \"FTr\": 0.139, \"ORB%\": 3.4, \"DRB%\": 7.0, \"TRB%\": 5.2, \"AST%\": 23.7, \"STL%\": 1.5, \"BLK%\": 0.3, \"TOV%\": 8.7, \"USG%\": 0.29982703948936884, \"OWS\": 1.0, \"DWS\": 0.4, \"WS\": 1.3, \"WS/48\": 0.123, \"OBPM\": 0.8, \"DBPM\": -1.0, \"BPM\": 0.3788374448406166, \"VORP\": 0.2, \"pred\": 27, \"pred1\": 27, \"pred2\": 24, \"pred3\": 23, \"pred4\": 23, \"pred5\": 23, \"pred6\": 23, \"pred7\": 27, \"pred8\": 27, \"pred9\": 27}, {\"Player\": \"Trey Burke\", \"Pos\": \"PG\", \"Age\": 27, \"Tm\": \"PHI\", \"G\": 25, \"MP\": 329, \"PER\": 15.4, \"TS%\": 0.545, \"3PAr\": 0.299, \"FTr\": 0.142, \"ORB%\": 5.0, \"DRB%\": 6.7, \"TRB%\": 5.9, \"AST%\": 23.9, \"STL%\": 1.0, \"BLK%\": 0.3, \"TOV%\": 8.2, \"USG%\": 0.15778217260493002, \"OWS\": 0.6, \"DWS\": 0.2, \"WS\": 0.9, \"WS/48\": 0.127, \"OBPM\": 0.7, \"DBPM\": -1.2, \"BPM\": 0.3066761720644804, \"VORP\": 0.1, \"pred\": 27, \"pred1\": 27, \"pred2\": 27, \"pred3\": 27, \"pred4\": 27, \"pred5\": 27, \"pred6\": 27, \"pred7\": 27, \"pred8\": 27, \"pred9\": 23}, {\"Player\": \"Trey Burke\", \"Pos\": \"PG\", \"Age\": 27, \"Tm\": \"DAL\", \"G\": 8, \"MP\": 191, \"PER\": 16.0, \"TS%\": 0.553, \"3PAr\": 0.451, \"FTr\": 0.134, \"ORB%\": 0.6, \"DRB%\": 7.6, \"TRB%\": 4.1, \"AST%\": 23.2, \"STL%\": 2.3, \"BLK%\": 0.4, \"TOV%\": 9.4, \"USG%\": 0.5484055565371364, \"OWS\": 0.3, \"DWS\": 0.2, \"WS\": 0.5, \"WS/48\": 0.117, \"OBPM\": 1.0, \"DBPM\": -0.8, \"BPM\": 0.4750524752087981, \"VORP\": 0.1, \"pred\": 27, \"pred1\": 27, \"pred2\": 27, \"pred3\": 27, \"pred4\": 27, \"pred5\": 27, \"pred6\": 24, \"pred7\": 24, \"pred8\": 24, \"pred9\": 24}, {\"Player\": \"Alec Burks\", \"Pos\": \"SG\", \"Age\": 28, \"Tm\": \"TOT\", \"G\": 66, \"MP\": 1754, \"PER\": 16.7, \"TS%\": 0.561, \"3PAr\": 0.392, \"FTr\": 0.345, \"ORB%\": 2.9, \"DRB%\": 14.9, \"TRB%\": 8.7, \"AST%\": 17.2, \"STL%\": 1.7, \"BLK%\": 0.9, \"TOV%\": 9.3, \"USG%\": 0.974540157190453, \"OWS\": 2.5, \"DWS\": 1.2, \"WS\": 3.7, \"WS/48\": 0.101, \"OBPM\": 1.2, \"DBPM\": -0.7, \"BPM\": 0.5472137479849343, \"VORP\": 1.1, \"pred\": 21, \"pred1\": 21, \"pred2\": 20, \"pred3\": 20, \"pred4\": 20, \"pred5\": 30, \"pred6\": 30, \"pred7\": 30, \"pred8\": 30, \"pred9\": 30}, {\"Player\": \"Alec Burks\", \"Pos\": \"SG\", \"Age\": 28, \"Tm\": \"GSW\", \"G\": 48, \"MP\": 1390, \"PER\": 16.1, \"TS%\": 0.552, \"3PAr\": 0.373, \"FTr\": 0.373, \"ORB%\": 2.8, \"DRB%\": 15.3, \"TRB%\": 8.8, \"AST%\": 17.4, \"STL%\": 1.7, \"BLK%\": 1.1, \"TOV%\": 9.8, \"USG%\": 0.974540157190453, \"OWS\": 1.6, \"DWS\": 0.9, \"WS\": 2.5, \"WS/48\": 0.085, \"OBPM\": 0.7, \"DBPM\": -0.6, \"BPM\": 0.45099871761675275, \"VORP\": 0.7, \"pred\": 28, \"pred1\": 28, \"pred2\": 28, \"pred3\": 24, \"pred4\": 21, \"pred5\": 20, \"pred6\": 20, \"pred7\": 25, \"pred8\": 25, \"pred9\": 25}, {\"Player\": \"Alec Burks\", \"Pos\": \"SG\", \"Age\": 28, \"Tm\": \"PHI\", \"G\": 18, \"MP\": 364, \"PER\": 19.0, \"TS%\": 0.594, \"3PAr\": 0.461, \"FTr\": 0.246, \"ORB%\": 3.3, \"DRB%\": 13.7, \"TRB%\": 8.5, \"AST%\": 16.3, \"STL%\": 1.6, \"BLK%\": 0.0, \"TOV%\": 7.5, \"USG%\": 0.9567845488298978, \"OWS\": 0.9, \"DWS\": 0.4, \"WS\": 1.2, \"WS/48\": 0.161, \"OBPM\": 3.1, \"DBPM\": -1.1, \"BPM\": 0.908020111865615, \"VORP\": 0.4, \"pred\": 22, \"pred1\": 22, \"pred2\": 22, \"pred3\": 22, \"pred4\": 22, \"pred5\": 22, \"pred6\": 22, \"pred7\": 22, \"pred8\": 22, \"pred9\": 22}, {\"Player\": \"Deonte Burton\", \"Pos\": \"SG\", \"Age\": 26, \"Tm\": \"OKC\", \"G\": 39, \"MP\": 356, \"PER\": 4.3, \"TS%\": 0.396, \"3PAr\": 0.424, \"FTr\": 0.112, \"ORB%\": 2.2, \"DRB%\": 15.1, \"TRB%\": 8.8, \"AST%\": 6.8, \"STL%\": 1.0, \"BLK%\": 2.4, \"TOV%\": 12.7, \"USG%\": 0.03349291408104625, \"OWS\": -0.9, \"DWS\": 0.4, \"WS\": -0.5, \"WS/48\": -0.067, \"OBPM\": -6.3, \"DBPM\": -0.5, \"BPM\": -1.2087105562343792, \"VORP\": -0.4, \"pred\": 26, \"pred1\": 26, \"pred2\": 26, \"pred3\": 22, \"pred4\": 22, \"pred5\": 22, \"pred6\": 22, \"pred7\": 22, \"pred8\": 22, \"pred9\": 22}, {\"Player\": \"Jimmy Butler\", \"Pos\": \"SF\", \"Age\": 30, \"Tm\": \"MIA\", \"G\": 58, \"MP\": 1959, \"PER\": 23.6, \"TS%\": 0.585, \"3PAr\": 0.157, \"FTr\": 0.693, \"ORB%\": 6.3, \"DRB%\": 15.4, \"TRB%\": 11.0, \"AST%\": 28.1, \"STL%\": 2.6, \"BLK%\": 1.6, \"TOV%\": 11.4, \"USG%\": 1.205363065877666, \"OWS\": 6.3, \"DWS\": 2.7, \"WS\": 9.0, \"WS/48\": 0.221, \"OBPM\": 4.0, \"DBPM\": 1.5, \"BPM\": 1.7258478699951583, \"VORP\": 3.7, \"pred\": 23, \"pred1\": 23, \"pred2\": 23, \"pred3\": 23, \"pred4\": 23, \"pred5\": 23, \"pred6\": 23, \"pred7\": 23, \"pred8\": 23, \"pred9\": 23}, {\"Player\": \"Bruno Caboclo\", \"Pos\": \"C\", \"Age\": 24, \"Tm\": \"TOT\", \"G\": 30, \"MP\": 244, \"PER\": 14.1, \"TS%\": 0.484, \"3PAr\": 0.371, \"FTr\": 0.101, \"ORB%\": 10.0, \"DRB%\": 15.8, \"TRB%\": 12.9, \"AST%\": 6.8, \"STL%\": 2.9, \"BLK%\": 6.1, \"TOV%\": 12.3, \"USG%\": -0.05528512772172796, \"OWS\": 0.0, \"DWS\": 0.4, \"WS\": 0.4, \"WS/48\": 0.076, \"OBPM\": -3.0, \"DBPM\": 0.9, \"BPM\": -0.07818394940824584, \"VORP\": 0.0, \"pred\": 24, \"pred1\": 24, \"pred2\": 19, \"pred3\": 19, \"pred4\": 19, \"pred5\": 19, \"pred6\": 20, \"pred7\": 20, \"pred8\": 20, \"pred9\": 20}, {\"Player\": \"Bruno Caboclo\", \"Pos\": \"C\", \"Age\": 24, \"Tm\": \"MEM\", \"G\": 22, \"MP\": 192, \"PER\": 11.9, \"TS%\": 0.441, \"3PAr\": 0.362, \"FTr\": 0.043, \"ORB%\": 9.5, \"DRB%\": 14.5, \"TRB%\": 12.1, \"AST%\": 7.1, \"STL%\": 2.4, \"BLK%\": 5.5, \"TOV%\": 9.1, \"USG%\": -0.26835242804838594, \"OWS\": -0.1, \"DWS\": 0.3, \"WS\": 0.2, \"WS/48\": 0.053, \"OBPM\": -3.4, \"DBPM\": 0.7, \"BPM\": -0.2225064949605182, \"VORP\": 0.0, \"pred\": 24, \"pred1\": 24, \"pred2\": 24, \"pred3\": 24, \"pred4\": 24, \"pred5\": 24, \"pred6\": 24, \"pred7\": 24, \"pred8\": 24, \"pred9\": 24}, {\"Player\": \"Bruno Caboclo\", \"Pos\": \"C\", \"Age\": 24, \"Tm\": \"HOU\", \"G\": 8, \"MP\": 52, \"PER\": 22.1, \"TS%\": 0.618, \"3PAr\": 0.4, \"FTr\": 0.3, \"ORB%\": 12.0, \"DRB%\": 20.3, \"TRB%\": 16.1, \"AST%\": 5.9, \"STL%\": 4.4, \"BLK%\": 8.2, \"TOV%\": 20.9, \"USG%\": 0.7969840735849045, \"OWS\": 0.0, \"DWS\": 0.1, \"WS\": 0.2, \"WS/48\": 0.162, \"OBPM\": -1.4, \"DBPM\": 1.6, \"BPM\": 0.4750524752087981, \"VORP\": 0.0, \"pred\": 24, \"pred1\": 24, \"pred2\": 24, \"pred3\": 22, \"pred4\": 22, \"pred5\": 22, \"pred6\": 22, \"pred7\": 21, \"pred8\": 21, \"pred9\": 28}, {\"Player\": \"Devontae Cacok\", \"Pos\": \"C\", \"Age\": 23, \"Tm\": \"LAL\", \"G\": 1, \"MP\": 9, \"PER\": 28.6, \"TS%\": 0.5, \"3PAr\": 0.0, \"FTr\": 0.0, \"ORB%\": 24.6, \"DRB%\": 36.1, \"TRB%\": 30.4, \"AST%\": 20.3, \"STL%\": 0.0, \"BLK%\": 0.0, \"TOV%\": 0.0, \"USG%\": 1.7380313166943113, \"OWS\": 0.0, \"DWS\": 0.0, \"WS\": 0.0, \"WS/48\": 0.226, \"OBPM\": 4.8, \"DBPM\": -4.6, \"BPM\": 0.4750524752087981, \"VORP\": 0.0, \"pred\": 23, \"pred1\": 23, \"pred2\": 23, \"pred3\": 23, \"pred4\": 23, \"pred5\": 23, \"pred6\": 24, \"pred7\": 24, \"pred8\": 23, \"pred9\": 23}, {\"Player\": \"Kentavious Caldwell-Pope\", \"Pos\": \"SG\", \"Age\": 26, \"Tm\": \"LAL\", \"G\": 69, \"MP\": 1762, \"PER\": 11.0, \"TS%\": 0.584, \"3PAr\": 0.471, \"FTr\": 0.201, \"ORB%\": 2.4, \"DRB%\": 6.4, \"TRB%\": 4.4, \"AST%\": 8.5, \"STL%\": 1.5, \"BLK%\": 0.7, \"TOV%\": 10.1, \"USG%\": -0.6412202036200378, \"OWS\": 1.9, \"DWS\": 1.9, \"WS\": 3.7, \"WS/48\": 0.102, \"OBPM\": -1.2, \"DBPM\": 0.4, \"BPM\": 0.23451489928834424, \"VORP\": 0.5, \"pred\": 26, \"pred1\": 26, \"pred2\": 25, \"pred3\": 20, \"pred4\": 20, \"pred5\": 20, \"pred6\": 20, \"pred7\": 19, \"pred8\": 23, \"pred9\": 23}, {\"Player\": \"Vlatko \\u010can\\u010dar\", \"Pos\": \"SF\", \"Age\": 22, \"Tm\": \"DEN\", \"G\": 14, \"MP\": 45, \"PER\": 11.4, \"TS%\": 0.507, \"3PAr\": 0.4, \"FTr\": 0.267, \"ORB%\": 12.5, \"DRB%\": 12.4, \"TRB%\": 12.4, \"AST%\": 9.1, \"STL%\": 1.1, \"BLK%\": 2.1, \"TOV%\": 15.2, \"USG%\": 0.14002656424437554, \"OWS\": 0.0, \"DWS\": 0.0, \"WS\": 0.1, \"WS/48\": 0.062, \"OBPM\": -3.4, \"DBPM\": -1.2, \"BPM\": -0.6795278892093805, \"VORP\": 0.0, \"pred\": 22, \"pred1\": 22, \"pred2\": 20, \"pred3\": 20, \"pred4\": 20, \"pred5\": 20, \"pred6\": 20, \"pred7\": 20, \"pred8\": 20, \"pred9\": 20}, {\"Player\": \"Clint Capela\", \"Pos\": \"C\", \"Age\": 25, \"Tm\": \"HOU\", \"G\": 39, \"MP\": 1279, \"PER\": 20.6, \"TS%\": 0.626, \"3PAr\": 0.0, \"FTr\": 0.268, \"ORB%\": 13.6, \"DRB%\": 30.5, \"TRB%\": 22.0, \"AST%\": 5.7, \"STL%\": 1.2, \"BLK%\": 4.8, \"TOV%\": 12.7, \"USG%\": -0.39264168657226967, \"OWS\": 2.8, \"DWS\": 2.1, \"WS\": 4.9, \"WS/48\": 0.184, \"OBPM\": 1.0, \"DBPM\": 0.4, \"BPM\": 0.7636975663133428, \"VORP\": 1.1, \"pred\": 25, \"pred1\": 25, \"pred2\": 22, \"pred3\": 22, \"pred4\": 22, \"pred5\": 25, \"pred6\": 25, \"pred7\": 25, \"pred8\": 25, \"pred9\": 25}, {\"Player\": \"DeMarre Carroll\", \"Pos\": \"SF-PF\", \"Age\": 33, \"Tm\": \"TOT\", \"G\": 24, \"MP\": 290, \"PER\": 9.1, \"TS%\": 0.515, \"3PAr\": 0.5, \"FTr\": 0.636, \"ORB%\": 4.4, \"DRB%\": 15.8, \"TRB%\": 10.1, \"AST%\": 11.2, \"STL%\": 1.3, \"BLK%\": 1.5, \"TOV%\": 16.8, \"USG%\": -0.6234645952594827, \"OWS\": 0.0, \"DWS\": 0.2, \"WS\": 0.3, \"WS/48\": 0.045, \"OBPM\": -3.1, \"DBPM\": -0.7, \"BPM\": -0.5111515860650627, \"VORP\": -0.1, \"pred\": 33, \"pred1\": 33, \"pred2\": 21, \"pred3\": 21, \"pred4\": 21, \"pred5\": 20, \"pred6\": 26, \"pred7\": 26, \"pred8\": 26, \"pred9\": 22}, {\"Player\": \"DeMarre Carroll\", \"Pos\": \"SF\", \"Age\": 33, \"Tm\": \"SAS\", \"G\": 15, \"MP\": 135, \"PER\": 4.9, \"TS%\": 0.437, \"3PAr\": 0.448, \"FTr\": 0.69, \"ORB%\": 5.6, \"DRB%\": 19.2, \"TRB%\": 12.4, \"AST%\": 10.1, \"STL%\": 0.7, \"BLK%\": 1.3, \"TOV%\": 20.9, \"USG%\": -0.5346865534567086, \"OWS\": -0.2, \"DWS\": 0.1, \"WS\": -0.1, \"WS/48\": -0.036, \"OBPM\": -5.9, \"DBPM\": -1.1, \"BPM\": -1.2568180714184698, \"VORP\": -0.2, \"pred\": 33, \"pred1\": 33, \"pred2\": 23, \"pred3\": 20, \"pred4\": 20, \"pred5\": 20, \"pred6\": 20, \"pred7\": 20, \"pred8\": 20, \"pred9\": 20}, {\"Player\": \"DeMarre Carroll\", \"Pos\": \"PF\", \"Age\": 33, \"Tm\": \"HOU\", \"G\": 9, \"MP\": 155, \"PER\": 12.8, \"TS%\": 0.578, \"3PAr\": 0.541, \"FTr\": 0.595, \"ORB%\": 3.3, \"DRB%\": 13.0, \"TRB%\": 8.1, \"AST%\": 12.2, \"STL%\": 1.8, \"BLK%\": 1.7, \"TOV%\": 13.0, \"USG%\": -0.712242637062257, \"OWS\": 0.2, \"DWS\": 0.2, \"WS\": 0.4, \"WS/48\": 0.114, \"OBPM\": -0.7, \"DBPM\": -0.4, \"BPM\": 0.16235362651220805, \"VORP\": 0.0, \"pred\": 33, \"pred1\": 33, \"pred2\": 23, \"pred3\": 23, \"pred4\": 23, \"pred5\": 23, \"pred6\": 23, \"pred7\": 23, \"pred8\": 23, \"pred9\": 24}, {\"Player\": \"Jevon Carter\", \"Pos\": \"PG\", \"Age\": 24, \"Tm\": \"PHO\", \"G\": 58, \"MP\": 945, \"PER\": 11.3, \"TS%\": 0.563, \"3PAr\": 0.601, \"FTr\": 0.111, \"ORB%\": 3.5, \"DRB%\": 10.5, \"TRB%\": 6.9, \"AST%\": 11.9, \"STL%\": 2.4, \"BLK%\": 1.6, \"TOV%\": 11.2, \"USG%\": -0.9608211541100248, \"OWS\": 0.8, \"DWS\": 1.0, \"WS\": 1.8, \"WS/48\": 0.093, \"OBPM\": -0.7, \"DBPM\": 1.3, \"BPM\": 0.5712675055769797, \"VORP\": 0.6, \"pred\": 24, \"pred1\": 24, \"pred2\": 23, \"pred3\": 23, \"pred4\": 23, \"pred5\": 23, \"pred6\": 23, \"pred7\": 28, \"pred8\": 28, \"pred9\": 26}, {\"Player\": \"Vince Carter\", \"Pos\": \"SF\", \"Age\": 43, \"Tm\": \"ATL\", \"G\": 60, \"MP\": 876, \"PER\": 7.5, \"TS%\": 0.47, \"3PAr\": 0.664, \"FTr\": 0.095, \"ORB%\": 2.2, \"DRB%\": 13.2, \"TRB%\": 7.6, \"AST%\": 7.7, \"STL%\": 1.2, \"BLK%\": 2.4, \"TOV%\": 9.4, \"USG%\": -0.30386364476949546, \"OWS\": -0.6, \"DWS\": 0.4, \"WS\": -0.2, \"WS/48\": -0.011, \"OBPM\": -3.1, \"DBPM\": -1.2, \"BPM\": -0.6073666164332444, \"VORP\": -0.5, \"pred\": 22, \"pred1\": 22, \"pred2\": 22, \"pred3\": 22, \"pred4\": 20, \"pred5\": 29, \"pred6\": 22, \"pred7\": 22, \"pred8\": 22, \"pred9\": 22}, {\"Player\": \"Wendell Carter Jr.\", \"Pos\": \"C\", \"Age\": 20, \"Tm\": \"CHI\", \"G\": 43, \"MP\": 1256, \"PER\": 15.5, \"TS%\": 0.59, \"3PAr\": 0.085, \"FTr\": 0.443, \"ORB%\": 11.6, \"DRB%\": 24.6, \"TRB%\": 17.8, \"AST%\": 6.0, \"STL%\": 1.3, \"BLK%\": 2.7, \"TOV%\": 14.9, \"USG%\": -0.3393748614906057, \"OWS\": 1.7, \"DWS\": 1.6, \"WS\": 3.3, \"WS/48\": 0.127, \"OBPM\": -2.1, \"DBPM\": -0.3, \"BPM\": -0.15034522218438195, \"VORP\": -0.1, \"pred\": 20, \"pred1\": 20, \"pred2\": 20, \"pred3\": 20, \"pred4\": 20, \"pred5\": 20, \"pred6\": 24, \"pred7\": 24, \"pred8\": 24, \"pred9\": 24}, {\"Player\": \"Michael Carter-Williams\", \"Pos\": \"SG\", \"Age\": 28, \"Tm\": \"ORL\", \"G\": 45, \"MP\": 833, \"PER\": 15.3, \"TS%\": 0.535, \"3PAr\": 0.288, \"FTr\": 0.365, \"ORB%\": 5.8, \"DRB%\": 13.5, \"TRB%\": 9.5, \"AST%\": 19.1, \"STL%\": 2.9, \"BLK%\": 2.4, \"TOV%\": 14.7, \"USG%\": -0.0020183026400633066, \"OWS\": 0.7, \"DWS\": 1.2, \"WS\": 1.9, \"WS/48\": 0.111, \"OBPM\": -1.5, \"DBPM\": 1.6, \"BPM\": 0.45099871761675275, \"VORP\": 0.5, \"pred\": 28, \"pred1\": 28, \"pred2\": 23, \"pred3\": 28, \"pred4\": 28, \"pred5\": 28, \"pred6\": 28, \"pred7\": 28, \"pred8\": 25, \"pred9\": 25}, {\"Player\": \"Alex Caruso\", \"Pos\": \"PG\", \"Age\": 25, \"Tm\": \"LAL\", \"G\": 64, \"MP\": 1175, \"PER\": 10.8, \"TS%\": 0.525, \"3PAr\": 0.412, \"FTr\": 0.323, \"ORB%\": 1.6, \"DRB%\": 9.8, \"TRB%\": 5.7, \"AST%\": 13.6, \"STL%\": 2.8, \"BLK%\": 1.4, \"TOV%\": 13.8, \"USG%\": -0.8010206788650311, \"OWS\": 0.5, \"DWS\": 1.8, \"WS\": 2.3, \"WS/48\": 0.095, \"OBPM\": -2.6, \"DBPM\": 2.4, \"BPM\": 0.3788374448406166, \"VORP\": 0.5, \"pred\": 25, \"pred1\": 25, \"pred2\": 25, \"pred3\": 25, \"pred4\": 25, \"pred5\": 26, \"pred6\": 26, \"pred7\": 25, \"pred8\": 26, \"pred9\": 26}, {\"Player\": \"Willie Cauley-Stein\", \"Pos\": \"C\", \"Age\": 26, \"Tm\": \"TOT\", \"G\": 54, \"MP\": 1097, \"PER\": 17.0, \"TS%\": 0.589, \"3PAr\": 0.003, \"FTr\": 0.219, \"ORB%\": 8.0, \"DRB%\": 23.3, \"TRB%\": 15.5, \"AST%\": 9.9, \"STL%\": 2.1, \"BLK%\": 5.0, \"TOV%\": 10.8, \"USG%\": -0.6944870287017022, \"OWS\": 1.5, \"DWS\": 1.5, \"WS\": 2.9, \"WS/48\": 0.128, \"OBPM\": -1.2, \"DBPM\": 1.7, \"BPM\": 0.5472137479849343, \"VORP\": 0.7, \"pred\": 26, \"pred1\": 26, \"pred2\": 26, \"pred3\": 21, \"pred4\": 21, \"pred5\": 21, \"pred6\": 21, \"pred7\": 21, \"pred8\": 32, \"pred9\": 28}, {\"Player\": \"Willie Cauley-Stein\", \"Pos\": \"C\", \"Age\": 26, \"Tm\": \"GSW\", \"G\": 41, \"MP\": 940, \"PER\": 16.2, \"TS%\": 0.573, \"3PAr\": 0.0, \"FTr\": 0.222, \"ORB%\": 7.9, \"DRB%\": 22.0, \"TRB%\": 14.7, \"AST%\": 9.9, \"STL%\": 2.3, \"BLK%\": 4.8, \"TOV%\": 11.0, \"USG%\": -0.6944870287017022, \"OWS\": 1.0, \"DWS\": 1.2, \"WS\": 2.2, \"WS/48\": 0.113, \"OBPM\": -1.6, \"DBPM\": 1.6, \"BPM\": 0.42694496002470733, \"VORP\": 0.5, \"pred\": 34, \"pred1\": 34, \"pred2\": 30, \"pred3\": 21, \"pred4\": 21, \"pred5\": 21, \"pred6\": 19, \"pred7\": 19, \"pred8\": 25, \"pred9\": 25}, {\"Player\": \"Willie Cauley-Stein\", \"Pos\": \"C\", \"Age\": 26, \"Tm\": \"DAL\", \"G\": 13, \"MP\": 157, \"PER\": 22.2, \"TS%\": 0.684, \"3PAr\": 0.022, \"FTr\": 0.2, \"ORB%\": 8.8, \"DRB%\": 31.0, \"TRB%\": 20.1, \"AST%\": 9.6, \"STL%\": 1.2, \"BLK%\": 6.0, \"TOV%\": 9.3, \"USG%\": -0.6412202036200378, \"OWS\": 0.5, \"DWS\": 0.3, \"WS\": 0.7, \"WS/48\": 0.222, \"OBPM\": 0.9, \"DBPM\": 2.2, \"BPM\": 1.1726114453781145, \"VORP\": 0.2, \"pred\": 25, \"pred1\": 25, \"pred2\": 25, \"pred3\": 25, \"pred4\": 25, \"pred5\": 25, \"pred6\": 21, \"pred7\": 25, \"pred8\": 21, \"pred9\": 21}, {\"Player\": \"Tyson Chandler\", \"Pos\": \"C\", \"Age\": 37, \"Tm\": \"HOU\", \"G\": 26, \"MP\": 219, \"PER\": 10.8, \"TS%\": 0.717, \"3PAr\": 0.0, \"FTr\": 0.722, \"ORB%\": 11.8, \"DRB%\": 19.8, \"TRB%\": 15.8, \"AST%\": 3.5, \"STL%\": 1.3, \"BLK%\": 3.1, \"TOV%\": 25.2, \"USG%\": -2.185958130988309, \"OWS\": 0.3, \"DWS\": 0.3, \"WS\": 0.6, \"WS/48\": 0.131, \"OBPM\": -2.6, \"DBPM\": 1.1, \"BPM\": 0.06613859614402652, \"VORP\": 0.0, \"pred\": 24, \"pred1\": 24, \"pred2\": 24, \"pred3\": 24, \"pred4\": 24, \"pred5\": 24, \"pred6\": 24, \"pred7\": 24, \"pred8\": 24, \"pred9\": 24}, {\"Player\": \"Wilson Chandler\", \"Pos\": \"SF\", \"Age\": 32, \"Tm\": \"BRK\", \"G\": 35, \"MP\": 734, \"PER\": 7.4, \"TS%\": 0.531, \"3PAr\": 0.661, \"FTr\": 0.126, \"ORB%\": 1.6, \"DRB%\": 18.5, \"TRB%\": 10.2, \"AST%\": 7.3, \"STL%\": 1.0, \"BLK%\": 1.4, \"TOV%\": 15.0, \"USG%\": -0.9608211541100248, \"OWS\": -0.1, \"DWS\": 0.9, \"WS\": 0.7, \"WS/48\": 0.046, \"OBPM\": -3.8, \"DBPM\": 1.0, \"BPM\": -0.2225064949605182, \"VORP\": -0.1, \"pred\": 32, \"pred1\": 32, \"pred2\": 25, \"pred3\": 25, \"pred4\": 29, \"pred5\": 29, \"pred6\": 25, \"pred7\": 22, \"pred8\": 22, \"pred9\": 22}, {\"Player\": \"Joe Chealey\", \"Pos\": \"PG\", \"Age\": 24, \"Tm\": \"CHO\", \"G\": 4, \"MP\": 33, \"PER\": -2.9, \"TS%\": 0.127, \"3PAr\": 0.571, \"FTr\": 0.286, \"ORB%\": 0.0, \"DRB%\": 0.0, \"TRB%\": 0.0, \"AST%\": 3.9, \"STL%\": 6.1, \"BLK%\": 0.0, \"TOV%\": 20.2, \"USG%\": -0.9075543290283604, \"OWS\": -0.2, \"DWS\": 0.0, \"WS\": -0.1, \"WS/48\": -0.188, \"OBPM\": -14.3, \"DBPM\": 1.7, \"BPM\": -2.579774738980966, \"VORP\": -0.1, \"pred\": 24, \"pred1\": 24, \"pred2\": 24, \"pred3\": 24, \"pred4\": 24, \"pred5\": 24, \"pred6\": 24, \"pred7\": 24, \"pred8\": 24, \"pred9\": 24}, {\"Player\": \"Zylan Cheatham\", \"Pos\": \"SF\", \"Age\": 24, \"Tm\": \"NOP\", \"G\": 4, \"MP\": 51, \"PER\": 6.7, \"TS%\": 0.667, \"3PAr\": 0.111, \"FTr\": 0.0, \"ORB%\": 6.2, \"DRB%\": 12.5, \"TRB%\": 9.4, \"AST%\": 7.7, \"STL%\": 0.9, \"BLK%\": 1.6, \"TOV%\": 30.8, \"USG%\": -1.4047113631238959, \"OWS\": 0.0, \"DWS\": 0.0, \"WS\": 0.0, \"WS/48\": 0.034, \"OBPM\": -6.5, \"DBPM\": -0.6, \"BPM\": -1.2808718290105152, \"VORP\": -0.1, \"pred\": 33, \"pred1\": 33, \"pred2\": 26, \"pred3\": 23, \"pred4\": 22, \"pred5\": 22, \"pred6\": 22, \"pred7\": 22, \"pred8\": 22, \"pred9\": 22}, {\"Player\": \"Chris Chiozza\", \"Pos\": \"PG\", \"Age\": 24, \"Tm\": \"TOT\", \"G\": 28, \"MP\": 401, \"PER\": 12.0, \"TS%\": 0.499, \"3PAr\": 0.514, \"FTr\": 0.036, \"ORB%\": 2.4, \"DRB%\": 11.6, \"TRB%\": 6.9, \"AST%\": 29.4, \"STL%\": 2.5, \"BLK%\": 0.9, \"TOV%\": 18.4, \"USG%\": -0.03752951936117286, \"OWS\": 0.0, \"DWS\": 0.4, \"WS\": 0.5, \"WS/48\": 0.055, \"OBPM\": -1.6, \"DBPM\": 0.5, \"BPM\": 0.1382998689201627, \"VORP\": 0.1, \"pred\": 24, \"pred1\": 24, \"pred2\": 22, \"pred3\": 20, \"pred4\": 20, \"pred5\": 24, \"pred6\": 24, \"pred7\": 24, \"pred8\": 24, \"pred9\": 24}, {\"Player\": \"Chris Chiozza\", \"Pos\": \"PG\", \"Age\": 24, \"Tm\": \"WAS\", \"G\": 10, \"MP\": 123, \"PER\": 9.2, \"TS%\": 0.397, \"3PAr\": 0.471, \"FTr\": 0.0, \"ORB%\": 0.0, \"DRB%\": 13.9, \"TRB%\": 6.7, \"AST%\": 29.2, \"STL%\": 3.8, \"BLK%\": 1.4, \"TOV%\": 20.9, \"USG%\": -0.6767314203411474, \"OWS\": -0.1, \"DWS\": 0.1, \"WS\": 0.0, \"WS/48\": -0.001, \"OBPM\": -3.6, \"DBPM\": 2.2, \"BPM\": 0.06613859614402652, \"VORP\": 0.0, \"pred\": 24, \"pred1\": 24, \"pred2\": 23, \"pred3\": 23, \"pred4\": 23, \"pred5\": 23, \"pred6\": 23, \"pred7\": 23, \"pred8\": 23, \"pred9\": 23}, {\"Player\": \"Chris Chiozza\", \"Pos\": \"PG\", \"Age\": 24, \"Tm\": \"BRK\", \"G\": 18, \"MP\": 278, \"PER\": 13.2, \"TS%\": 0.531, \"3PAr\": 0.528, \"FTr\": 0.047, \"ORB%\": 3.4, \"DRB%\": 10.6, \"TRB%\": 7.1, \"AST%\": 29.5, \"STL%\": 1.9, \"BLK%\": 0.6, \"TOV%\": 17.5, \"USG%\": 0.24656021440770423, \"OWS\": 0.2, \"DWS\": 0.3, \"WS\": 0.5, \"WS/48\": 0.08, \"OBPM\": -0.8, \"DBPM\": -0.3, \"BPM\": 0.16235362651220805, \"VORP\": 0.1, \"pred\": 24, \"pred1\": 24, \"pred2\": 24, \"pred3\": 24, \"pred4\": 31, \"pred5\": 31, \"pred6\": 31, \"pred7\": 31, \"pred8\": 31, \"pred9\": 31}, {\"Player\": \"Marquese Chriss\", \"Pos\": \"PF\", \"Age\": 22, \"Tm\": \"GSW\", \"G\": 59, \"MP\": 1196, \"PER\": 19.5, \"TS%\": 0.604, \"3PAr\": 0.101, \"FTr\": 0.405, \"ORB%\": 10.0, \"DRB%\": 23.6, \"TRB%\": 16.5, \"AST%\": 15.3, \"STL%\": 1.6, \"BLK%\": 4.7, \"TOV%\": 14.7, \"USG%\": 0.12227095588382046, \"OWS\": 2.1, \"DWS\": 1.3, \"WS\": 3.4, \"WS/48\": 0.136, \"OBPM\": 0.0, \"DBPM\": 0.6, \"BPM\": 0.5712675055769797, \"VORP\": 0.8, \"pred\": 22, \"pred1\": 22, \"pred2\": 22, \"pred3\": 22, \"pred4\": 22, \"pred5\": 22, \"pred6\": 22, \"pred7\": 22, \"pred8\": 22, \"pred9\": 22}, {\"Player\": \"Gary Clark\", \"Pos\": \"PF\", \"Age\": 25, \"Tm\": \"TOT\", \"G\": 42, \"MP\": 567, \"PER\": 10.7, \"TS%\": 0.568, \"3PAr\": 0.835, \"FTr\": 0.075, \"ORB%\": 6.8, \"DRB%\": 14.0, \"TRB%\": 10.3, \"AST%\": 4.1, \"STL%\": 0.5, \"BLK%\": 3.4, \"TOV%\": 6.8, \"USG%\": -1.298177712960567, \"OWS\": 0.7, \"DWS\": 0.5, \"WS\": 1.2, \"WS/48\": 0.1, \"OBPM\": -0.9, \"DBPM\": -1.0, \"BPM\": -0.030076434224155017, \"VORP\": 0.0, \"pred\": 25, \"pred1\": 25, \"pred2\": 25, \"pred3\": 24, \"pred4\": 24, \"pred5\": 24, \"pred6\": 24, \"pred7\": 24, \"pred8\": 20, \"pred9\": 20}, {\"Player\": \"Gary Clark\", \"Pos\": \"PF\", \"Age\": 25, \"Tm\": \"HOU\", \"G\": 18, \"MP\": 212, \"PER\": 11.8, \"TS%\": 0.564, \"3PAr\": 0.864, \"FTr\": 0.119, \"ORB%\": 5.4, \"DRB%\": 14.5, \"TRB%\": 9.9, \"AST%\": 7.7, \"STL%\": 0.4, \"BLK%\": 2.8, \"TOV%\": 3.1, \"USG%\": -1.0318435875522443, \"OWS\": 0.4, \"DWS\": 0.2, \"WS\": 0.5, \"WS/48\": 0.123, \"OBPM\": 0.3, \"DBPM\": -0.9, \"BPM\": 0.282622414472435, \"VORP\": 0.1, \"pred\": 25, \"pred1\": 25, \"pred2\": 25, \"pred3\": 25, \"pred4\": 25, \"pred5\": 25, \"pred6\": 34, \"pred7\": 34, \"pred8\": 34, \"pred9\": 34}, {\"Player\": \"Gary Clark\", \"Pos\": \"PF\", \"Age\": 25, \"Tm\": \"ORL\", \"G\": 24, \"MP\": 355, \"PER\": 10.1, \"TS%\": 0.571, \"3PAr\": 0.811, \"FTr\": 0.041, \"ORB%\": 7.6, \"DRB%\": 13.8, \"TRB%\": 10.6, \"AST%\": 1.9, \"STL%\": 0.5, \"BLK%\": 3.8, \"TOV%\": 9.6, \"USG%\": -1.4579781882055605, \"OWS\": 0.3, \"DWS\": 0.3, \"WS\": 0.6, \"WS/48\": 0.087, \"OBPM\": -1.7, \"DBPM\": -1.0, \"BPM\": -0.2225064949605182, \"VORP\": -0.1, \"pred\": 25, \"pred1\": 25, \"pred2\": 25, \"pred3\": 25, \"pred4\": 20, \"pred5\": 20, \"pred6\": 27, \"pred7\": 27, \"pred8\": 27, \"pred9\": 27}, {\"Player\": \"Brandon Clarke\", \"Pos\": \"PF\", \"Age\": 23, \"Tm\": \"MEM\", \"G\": 58, \"MP\": 1300, \"PER\": 20.9, \"TS%\": 0.663, \"3PAr\": 0.134, \"FTr\": 0.234, \"ORB%\": 7.6, \"DRB%\": 20.1, \"TRB%\": 14.0, \"AST%\": 9.5, \"STL%\": 1.1, \"BLK%\": 3.2, \"TOV%\": 9.4, \"USG%\": 0.06900413080215581, \"OWS\": 3.4, \"DWS\": 1.6, \"WS\": 5.0, \"WS/48\": 0.183, \"OBPM\": 2.4, \"DBPM\": 0.7, \"BPM\": 1.1726114453781145, \"VORP\": 1.7, \"pred\": 23, \"pred1\": 23, \"pred2\": 23, \"pred3\": 23, \"pred4\": 23, \"pred5\": 22, \"pred6\": 22, \"pred7\": 22, \"pred8\": 22, \"pred9\": 22}, {\"Player\": \"Jordan Clarkson\", \"Pos\": \"SG\", \"Age\": 27, \"Tm\": \"TOT\", \"G\": 71, \"MP\": 1705, \"PER\": 17.3, \"TS%\": 0.574, \"3PAr\": 0.476, \"FTr\": 0.19, \"ORB%\": 3.3, \"DRB%\": 8.7, \"TRB%\": 6.1, \"AST%\": 13.2, \"STL%\": 1.3, \"BLK%\": 0.8, \"TOV%\": 9.4, \"USG%\": 1.418430366204324, \"OWS\": 2.4, \"DWS\": 1.0, \"WS\": 3.4, \"WS/48\": 0.096, \"OBPM\": 2.4, \"DBPM\": -1.3, \"BPM\": 0.6915362935372067, \"VORP\": 1.3, \"pred\": 27, \"pred1\": 27, \"pred2\": 26, \"pred3\": 26, \"pred4\": 26, \"pred5\": 26, \"pred6\": 26, \"pred7\": 26, \"pred8\": 26, \"pred9\": 26}, {\"Player\": \"Jordan Clarkson\", \"Pos\": \"SG\", \"Age\": 27, \"Tm\": \"CLE\", \"G\": 29, \"MP\": 666, \"PER\": 18.6, \"TS%\": 0.581, \"3PAr\": 0.488, \"FTr\": 0.264, \"ORB%\": 3.5, \"DRB%\": 8.1, \"TRB%\": 5.8, \"AST%\": 17.0, \"STL%\": 1.2, \"BLK%\": 1.0, \"TOV%\": 9.7, \"USG%\": 1.3474079327621042, \"OWS\": 1.4, \"DWS\": 0.1, \"WS\": 1.5, \"WS/48\": 0.107, \"OBPM\": 4.1, \"DBPM\": -1.4, \"BPM\": 1.0763964150099328, \"VORP\": 0.8, \"pred\": 27, \"pred1\": 27, \"pred2\": 27, \"pred3\": 27, \"pred4\": 27, \"pred5\": 27, \"pred6\": 27, \"pred7\": 27, \"pred8\": 24, \"pred9\": 24}, {\"Player\": \"Jordan Clarkson\", \"Pos\": \"SG\", \"Age\": 27, \"Tm\": \"UTA\", \"G\": 42, \"MP\": 1039, \"PER\": 16.5, \"TS%\": 0.569, \"3PAr\": 0.47, \"FTr\": 0.146, \"ORB%\": 3.2, \"DRB%\": 9.1, \"TRB%\": 6.3, \"AST%\": 10.8, \"STL%\": 1.4, \"BLK%\": 0.6, \"TOV%\": 9.2, \"USG%\": 1.4894527996465432, \"OWS\": 1.0, \"DWS\": 0.9, \"WS\": 1.9, \"WS/48\": 0.089, \"OBPM\": 1.3, \"DBPM\": -1.2, \"BPM\": 0.45099871761675275, \"VORP\": 0.5, \"pred\": 27, \"pred1\": 27, \"pred2\": 26, \"pred3\": 26, \"pred4\": 24, \"pred5\": 24, \"pred6\": 24, \"pred7\": 24, \"pred8\": 26, \"pred9\": 24}, {\"Player\": \"Nicolas Claxton\", \"Pos\": \"PF\", \"Age\": 20, \"Tm\": \"BRK\", \"G\": 15, \"MP\": 187, \"PER\": 14.8, \"TS%\": 0.577, \"3PAr\": 0.146, \"FTr\": 0.438, \"ORB%\": 10.7, \"DRB%\": 13.6, \"TRB%\": 12.2, \"AST%\": 12.4, \"STL%\": 0.3, \"BLK%\": 3.6, \"TOV%\": 13.6, \"USG%\": -0.6234645952594827, \"OWS\": 0.3, \"DWS\": 0.2, \"WS\": 0.5, \"WS/48\": 0.121, \"OBPM\": -0.7, \"DBPM\": 0.0, \"BPM\": 0.282622414472435, \"VORP\": 0.1, \"pred\": 20, \"pred1\": 20, \"pred2\": 20, \"pred3\": 20, \"pred4\": 19, \"pred5\": 19, \"pred6\": 19, \"pred7\": 19, \"pred8\": 19, \"pred9\": 19}, {\"Player\": \"Chris Clemons\", \"Pos\": \"SG\", \"Age\": 22, \"Tm\": \"HOU\", \"G\": 33, \"MP\": 291, \"PER\": 13.1, \"TS%\": 0.548, \"3PAr\": 0.754, \"FTr\": 0.077, \"ORB%\": 1.4, \"DRB%\": 9.4, \"TRB%\": 5.4, \"AST%\": 14.3, \"STL%\": 1.4, \"BLK%\": 1.8, \"TOV%\": 11.5, \"USG%\": 0.9390289404693434, \"OWS\": 0.1, \"DWS\": 0.2, \"WS\": 0.4, \"WS/48\": 0.058, \"OBPM\": 0.3, \"DBPM\": -1.3, \"BPM\": 0.18640738410425345, \"VORP\": 0.1, \"pred\": 22, \"pred1\": 22, \"pred2\": 22, \"pred3\": 22, \"pred4\": 22, \"pred5\": 22, \"pred6\": 28, \"pred7\": 28, \"pred8\": 28, \"pred9\": 28}, {\"Player\": \"Antonius Cleveland\", \"Pos\": \"SG\", \"Age\": 25, \"Tm\": \"DAL\", \"G\": 11, \"MP\": 46, \"PER\": 2.5, \"TS%\": 0.34, \"3PAr\": 0.214, \"FTr\": 0.357, \"ORB%\": 4.6, \"DRB%\": 11.3, \"TRB%\": 8.0, \"AST%\": 2.8, \"STL%\": 1.1, \"BLK%\": 5.6, \"TOV%\": 11.0, \"USG%\": -0.2505968196878315, \"OWS\": -0.1, \"DWS\": 0.0, \"WS\": -0.1, \"WS/48\": -0.076, \"OBPM\": -9.0, \"DBPM\": -1.0, \"BPM\": -2.002484556771877, \"VORP\": -0.1, \"pred\": 25, \"pred1\": 25, \"pred2\": 19, \"pred3\": 19, \"pred4\": 19, \"pred5\": 25, \"pred6\": 24, \"pred7\": 24, \"pred8\": 24, \"pred9\": 22}, {\"Player\": \"Amir Coffey\", \"Pos\": \"SG\", \"Age\": 22, \"Tm\": \"LAC\", \"G\": 18, \"MP\": 159, \"PER\": 8.5, \"TS%\": 0.493, \"3PAr\": 0.352, \"FTr\": 0.204, \"ORB%\": 2.7, \"DRB%\": 7.6, \"TRB%\": 5.2, \"AST%\": 12.3, \"STL%\": 1.5, \"BLK%\": 1.1, \"TOV%\": 12.0, \"USG%\": -0.12630756116394706, \"OWS\": 0.0, \"DWS\": 0.2, \"WS\": 0.1, \"WS/48\": 0.041, \"OBPM\": -4.2, \"DBPM\": 0.1, \"BPM\": -0.5592591012491536, \"VORP\": -0.1, \"pred\": 22, \"pred1\": 22, \"pred2\": 20, \"pred3\": 20, \"pred4\": 20, \"pred5\": 20, \"pred6\": 20, \"pred7\": 20, \"pred8\": 20, \"pred9\": 20}, {\"Player\": \"John Collins\", \"Pos\": \"PF\", \"Age\": 22, \"Tm\": \"ATL\", \"G\": 41, \"MP\": 1363, \"PER\": 23.5, \"TS%\": 0.659, \"3PAr\": 0.243, \"FTr\": 0.248, \"ORB%\": 9.0, \"DRB%\": 24.0, \"TRB%\": 16.4, \"AST%\": 7.6, \"STL%\": 1.1, \"BLK%\": 4.1, \"TOV%\": 10.1, \"USG%\": 0.7792284652243494, \"OWS\": 3.8, \"DWS\": 1.2, \"WS\": 4.9, \"WS/48\": 0.174, \"OBPM\": 3.7, \"DBPM\": -0.6, \"BPM\": 1.1726114453781145, \"VORP\": 1.7, \"pred\": 22, \"pred1\": 22, \"pred2\": 22, \"pred3\": 22, \"pred4\": 22, \"pred5\": 22, \"pred6\": 24, \"pred7\": 24, \"pred8\": 24, \"pred9\": 22}, {\"Player\": \"Zach Collins\", \"Pos\": \"PF\", \"Age\": 22, \"Tm\": \"POR\", \"G\": 11, \"MP\": 290, \"PER\": 9.9, \"TS%\": 0.538, \"3PAr\": 0.279, \"FTr\": 0.118, \"ORB%\": 9.1, \"DRB%\": 15.7, \"TRB%\": 12.4, \"AST%\": 7.2, \"STL%\": 0.8, \"BLK%\": 1.5, \"TOV%\": 16.4, \"USG%\": -1.0318435875522443, \"OWS\": 0.2, \"DWS\": 0.1, \"WS\": 0.3, \"WS/48\": 0.052, \"OBPM\": -1.7, \"DBPM\": -1.4, \"BPM\": -0.31872152532869974, \"VORP\": -0.1, \"pred\": 22, \"pred1\": 22, \"pred2\": 22, \"pred3\": 22, \"pred4\": 26, \"pred5\": 26, \"pred6\": 26, \"pred7\": 22, \"pred8\": 22, \"pred9\": 22}, {\"Player\": \"Mike Conley\", \"Pos\": \"PG\", \"Age\": 32, \"Tm\": \"UTA\", \"G\": 47, \"MP\": 1363, \"PER\": 14.1, \"TS%\": 0.537, \"3PAr\": 0.451, \"FTr\": 0.245, \"ORB%\": 2.8, \"DRB%\": 9.2, \"TRB%\": 6.1, \"AST%\": 23.1, \"STL%\": 1.3, \"BLK%\": 0.3, \"TOV%\": 12.8, \"USG%\": 0.8502508986665692, \"OWS\": 1.4, \"DWS\": 1.1, \"WS\": 2.5, \"WS/48\": 0.089, \"OBPM\": 0.7, \"DBPM\": -0.4, \"BPM\": 0.49910623280084354, \"VORP\": 0.8, \"pred\": 32, \"pred1\": 32, \"pred2\": 24, \"pred3\": 24, \"pred4\": 22, \"pred5\": 21, \"pred6\": 21, \"pred7\": 21, \"pred8\": 20, \"pred9\": 20}, {\"Player\": \"Pat Connaughton\", \"Pos\": \"SG\", \"Age\": 27, \"Tm\": \"MIL\", \"G\": 67, \"MP\": 1243, \"PER\": 11.5, \"TS%\": 0.565, \"3PAr\": 0.551, \"FTr\": 0.133, \"ORB%\": 5.1, \"DRB%\": 16.8, \"TRB%\": 11.3, \"AST%\": 10.9, \"STL%\": 0.9, \"BLK%\": 2.2, \"TOV%\": 14.0, \"USG%\": -1.0673548042733538, \"OWS\": 1.1, \"DWS\": 2.3, \"WS\": 3.4, \"WS/48\": 0.13, \"OBPM\": -0.9, \"DBPM\": 1.5, \"BPM\": 0.5712675055769797, \"VORP\": 0.8, \"pred\": 27, \"pred1\": 27, \"pred2\": 23, \"pred3\": 23, \"pred4\": 23, \"pred5\": 22, \"pred6\": 22, \"pred7\": 26, \"pred8\": 26, \"pred9\": 26}, {\"Player\": \"Quinn Cook\", \"Pos\": \"PG\", \"Age\": 26, \"Tm\": \"LAL\", \"G\": 44, \"MP\": 508, \"PER\": 10.0, \"TS%\": 0.509, \"3PAr\": 0.397, \"FTr\": 0.065, \"ORB%\": 2.4, \"DRB%\": 8.5, \"TRB%\": 5.5, \"AST%\": 13.8, \"STL%\": 1.1, \"BLK%\": 0.4, \"TOV%\": 13.0, \"USG%\": 0.47738312309491726, \"OWS\": -0.2, \"DWS\": 0.5, \"WS\": 0.3, \"WS/48\": 0.03, \"OBPM\": -2.3, \"DBPM\": -1.4, \"BPM\": -0.4870978284730174, \"VORP\": -0.2, \"pred\": 26, \"pred1\": 26, \"pred2\": 23, \"pred3\": 23, \"pred4\": 19, \"pred5\": 23, \"pred6\": 23, \"pred7\": 23, \"pred8\": 23, \"pred9\": 23}, {\"Player\": \"Tyler Cook\", \"Pos\": \"PF\", \"Age\": 22, \"Tm\": \"TOT\", \"G\": 13, \"MP\": 54, \"PER\": 19.4, \"TS%\": 0.741, \"3PAr\": 0.0, \"FTr\": 0.667, \"ORB%\": 12.3, \"DRB%\": 16.6, \"TRB%\": 14.4, \"AST%\": 2.9, \"STL%\": 2.7, \"BLK%\": 0.0, \"TOV%\": 16.2, \"USG%\": -0.6412202036200378, \"OWS\": 0.2, \"DWS\": 0.0, \"WS\": 0.2, \"WS/48\": 0.182, \"OBPM\": 0.3, \"DBPM\": -0.7, \"BPM\": 0.33072992965652576, \"VORP\": 0.0, \"pred\": 25, \"pred1\": 25, \"pred2\": 20, \"pred3\": 19, \"pred4\": 19, \"pred5\": 19, \"pred6\": 19, \"pred7\": 19, \"pred8\": 19, \"pred9\": 25}, {\"Player\": \"Tyler Cook\", \"Pos\": \"PF\", \"Age\": 22, \"Tm\": \"CLE\", \"G\": 11, \"MP\": 35, \"PER\": 23.9, \"TS%\": 0.752, \"3PAr\": 0.0, \"FTr\": 0.6, \"ORB%\": 12.6, \"DRB%\": 19.2, \"TRB%\": 15.9, \"AST%\": 4.5, \"STL%\": 1.4, \"BLK%\": 0.0, \"TOV%\": 7.3, \"USG%\": -0.286108036408941, \"OWS\": 0.2, \"DWS\": 0.0, \"WS\": 0.2, \"WS/48\": 0.244, \"OBPM\": 2.9, \"DBPM\": -0.6, \"BPM\": 0.9801813846417512, \"VORP\": 0.0, \"pred\": 22, \"pred1\": 22, \"pred2\": 22, \"pred3\": 22, \"pred4\": 22, \"pred5\": 22, \"pred6\": 33, \"pred7\": 33, \"pred8\": 25, \"pred9\": 25}, {\"Player\": \"Tyler Cook\", \"Pos\": \"PF\", \"Age\": 22, \"Tm\": \"DEN\", \"G\": 2, \"MP\": 19, \"PER\": 11.3, \"TS%\": 0.694, \"3PAr\": 0.0, \"FTr\": 1.0, \"ORB%\": 11.8, \"DRB%\": 11.8, \"TRB%\": 11.8, \"AST%\": 0.0, \"STL%\": 5.2, \"BLK%\": 0.0, \"TOV%\": 41.0, \"USG%\": -1.2626664962394574, \"OWS\": 0.0, \"DWS\": 0.0, \"WS\": 0.0, \"WS/48\": 0.069, \"OBPM\": -4.5, \"DBPM\": -0.9, \"BPM\": -0.8719579499457438, \"VORP\": 0.0, \"pred\": 22, \"pred1\": 22, \"pred2\": 20, \"pred3\": 20, \"pred4\": 22, \"pred5\": 22, \"pred6\": 22, \"pred7\": 22, \"pred8\": 22, \"pred9\": 22}, {\"Player\": \"Robert Covington\", \"Pos\": \"PF-C\", \"Age\": 29, \"Tm\": \"TOT\", \"G\": 70, \"MP\": 2137, \"PER\": 13.3, \"TS%\": 0.559, \"3PAr\": 0.664, \"FTr\": 0.172, \"ORB%\": 3.0, \"DRB%\": 20.2, \"TRB%\": 11.4, \"AST%\": 5.9, \"STL%\": 2.5, \"BLK%\": 3.7, \"TOV%\": 11.7, \"USG%\": -0.23284121132727637, \"OWS\": 0.7, \"DWS\": 3.0, \"WS\": 3.7, \"WS/48\": 0.083, \"OBPM\": -1.2, \"DBPM\": 1.3, \"BPM\": 0.42694496002470733, \"VORP\": 1.1, \"pred\": 29, \"pred1\": 29, \"pred2\": 26, \"pred3\": 26, \"pred4\": 21, \"pred5\": 21, \"pred6\": 21, \"pred7\": 29, \"pred8\": 23, \"pred9\": 23}, {\"Player\": \"Robert Covington\", \"Pos\": \"PF\", \"Age\": 29, \"Tm\": \"MIN\", \"G\": 48, \"MP\": 1411, \"PER\": 13.5, \"TS%\": 0.572, \"3PAr\": 0.629, \"FTr\": 0.19, \"ORB%\": 2.6, \"DRB%\": 19.5, \"TRB%\": 10.7, \"AST%\": 5.9, \"STL%\": 2.6, \"BLK%\": 2.6, \"TOV%\": 12.0, \"USG%\": -0.09079634444283752, \"OWS\": 0.5, \"DWS\": 1.8, \"WS\": 2.3, \"WS/48\": 0.078, \"OBPM\": -1.2, \"DBPM\": 1.2, \"BPM\": 0.42694496002470733, \"VORP\": 0.7, \"pred\": 23, \"pred1\": 23, \"pred2\": 23, \"pred3\": 23, \"pred4\": 23, \"pred5\": 28, \"pred6\": 28, \"pred7\": 25, \"pred8\": 25, \"pred9\": 25}, {\"Player\": \"Robert Covington\", \"Pos\": \"C\", \"Age\": 29, \"Tm\": \"HOU\", \"G\": 22, \"MP\": 726, \"PER\": 13.1, \"TS%\": 0.531, \"3PAr\": 0.74, \"FTr\": 0.132, \"ORB%\": 3.9, \"DRB%\": 21.7, \"TRB%\": 12.7, \"AST%\": 6.1, \"STL%\": 2.2, \"BLK%\": 5.7, \"TOV%\": 11.1, \"USG%\": -0.5169309450961538, \"OWS\": 0.2, \"DWS\": 1.2, \"WS\": 1.4, \"WS/48\": 0.094, \"OBPM\": -1.2, \"DBPM\": 1.3, \"BPM\": 0.45099871761675275, \"VORP\": 0.4, \"pred\": 38, \"pred1\": 38, \"pred2\": 29, \"pred3\": 23, \"pred4\": 23, \"pred5\": 23, \"pred6\": 23, \"pred7\": 21, \"pred8\": 21, \"pred9\": 21}, {\"Player\": \"Allen Crabbe\", \"Pos\": \"SG\", \"Age\": 27, \"Tm\": \"TOT\", \"G\": 37, \"MP\": 653, \"PER\": 6.0, \"TS%\": 0.47, \"3PAr\": 0.672, \"FTr\": 0.079, \"ORB%\": 1.8, \"DRB%\": 11.0, \"TRB%\": 6.3, \"AST%\": 6.8, \"STL%\": 1.1, \"BLK%\": 0.5, \"TOV%\": 8.5, \"USG%\": -0.9963323708311347, \"OWS\": -0.2, \"DWS\": 0.2, \"WS\": -0.1, \"WS/48\": -0.007, \"OBPM\": -3.8, \"DBPM\": -1.5, \"BPM\": -0.8479041923536983, \"VORP\": -0.5, \"pred\": 27, \"pred1\": 27, \"pred2\": 27, \"pred3\": 22, \"pred4\": 22, \"pred5\": 22, \"pred6\": 22, \"pred7\": 26, \"pred8\": 26, \"pred9\": 26}, {\"Player\": \"Allen Crabbe\", \"Pos\": \"SG\", \"Age\": 27, \"Tm\": \"ATL\", \"G\": 28, \"MP\": 522, \"PER\": 7.2, \"TS%\": 0.482, \"3PAr\": 0.65, \"FTr\": 0.084, \"ORB%\": 2.0, \"DRB%\": 11.5, \"TRB%\": 6.7, \"AST%\": 7.3, \"STL%\": 1.3, \"BLK%\": 0.6, \"TOV%\": 7.5, \"USG%\": -0.9963323708311347, \"OWS\": -0.1, \"DWS\": 0.1, \"WS\": 0.1, \"WS/48\": 0.009, \"OBPM\": -3.1, \"DBPM\": -1.1, \"BPM\": -0.5592591012491536, \"VORP\": -0.3, \"pred\": 27, \"pred1\": 27, \"pred2\": 21, \"pred3\": 21, \"pred4\": 21, \"pred5\": 26, \"pred6\": 22, \"pred7\": 22, \"pred8\": 22, \"pred9\": 22}, {\"Player\": \"Allen Crabbe\", \"Pos\": \"SG\", \"Age\": 27, \"Tm\": \"MIN\", \"G\": 9, \"MP\": 131, \"PER\": 1.1, \"TS%\": 0.416, \"3PAr\": 0.765, \"FTr\": 0.059, \"ORB%\": 0.8, \"DRB%\": 9.2, \"TRB%\": 4.8, \"AST%\": 5.1, \"STL%\": 0.0, \"BLK%\": 0.0, \"TOV%\": 12.5, \"USG%\": -1.0318435875522443, \"OWS\": -0.2, \"DWS\": 0.0, \"WS\": -0.2, \"WS/48\": -0.068, \"OBPM\": -6.7, \"DBPM\": -3.2, \"BPM\": -1.9543770415877864, \"VORP\": -0.3, \"pred\": 27, \"pred1\": 27, \"pred2\": 27, \"pred3\": 34, \"pred4\": 34, \"pred5\": 34, \"pred6\": 34, \"pred7\": 34, \"pred8\": 34, \"pred9\": 34}, {\"Player\": \"Torrey Craig\", \"Pos\": \"SF\", \"Age\": 29, \"Tm\": \"DEN\", \"G\": 58, \"MP\": 1072, \"PER\": 10.8, \"TS%\": 0.553, \"3PAr\": 0.513, \"FTr\": 0.134, \"ORB%\": 6.6, \"DRB%\": 13.2, \"TRB%\": 9.9, \"AST%\": 5.9, \"STL%\": 1.1, \"BLK%\": 3.1, \"TOV%\": 8.1, \"USG%\": -1.0140879791916895, \"OWS\": 1.1, \"DWS\": 0.9, \"WS\": 2.0, \"WS/48\": 0.091, \"OBPM\": -2.0, \"DBPM\": -0.3, \"BPM\": -0.12629146459233656, \"VORP\": -0.1, \"pred\": 29, \"pred1\": 29, \"pred2\": 28, \"pred3\": 28, \"pred4\": 25, \"pred5\": 22, \"pred6\": 22, \"pred7\": 22, \"pred8\": 22, \"pred9\": 22}, {\"Player\": \"Jamal Crawford\", \"Pos\": \"SG\", \"Age\": 39, \"Tm\": \"BRK\", \"G\": 1, \"MP\": 6, \"PER\": 33.2, \"TS%\": 0.625, \"3PAr\": 0.5, \"FTr\": 0.0, \"ORB%\": 0.0, \"DRB%\": 0.0, \"TRB%\": 0.0, \"AST%\": 100.0, \"STL%\": 0.0, \"BLK%\": 0.0, \"TOV%\": 0.0, \"USG%\": 1.702520099973201, \"OWS\": 0.1, \"DWS\": 0.0, \"WS\": 0.1, \"WS/48\": 0.492, \"OBPM\": 12.4, \"DBPM\": 2.6, \"BPM\": 4.035008598831516, \"VORP\": 0.0, \"pred\": 39, \"pred1\": 39, \"pred2\": 21, \"pred3\": 21, \"pred4\": 21, \"pred5\": 21, \"pred6\": 21, \"pred7\": 21, \"pred8\": 21, \"pred9\": 21}, {\"Player\": \"Jae Crowder\", \"Pos\": \"SF\", \"Age\": 29, \"Tm\": \"TOT\", \"G\": 65, \"MP\": 1875, \"PER\": 12.5, \"TS%\": 0.553, \"3PAr\": 0.7, \"FTr\": 0.222, \"ORB%\": 3.0, \"DRB%\": 18.5, \"TRB%\": 11.0, \"AST%\": 11.5, \"STL%\": 1.8, \"BLK%\": 1.2, \"TOV%\": 10.0, \"USG%\": -0.499175336735599, \"OWS\": 1.6, \"DWS\": 2.2, \"WS\": 3.8, \"WS/48\": 0.098, \"OBPM\": -0.5, \"DBPM\": 0.4, \"BPM\": 0.4028912024326619, \"VORP\": 0.9, \"pred\": 29, \"pred1\": 29, \"pred2\": 29, \"pred3\": 29, \"pred4\": 29, \"pred5\": 29, \"pred6\": 29, \"pred7\": 23, \"pred8\": 23, \"pred9\": 23}, {\"Player\": \"Jae Crowder\", \"Pos\": \"SF\", \"Age\": 29, \"Tm\": \"MEM\", \"G\": 45, \"MP\": 1322, \"PER\": 11.0, \"TS%\": 0.507, \"3PAr\": 0.667, \"FTr\": 0.238, \"ORB%\": 3.2, \"DRB%\": 18.5, \"TRB%\": 11.0, \"AST%\": 12.2, \"STL%\": 1.7, \"BLK%\": 0.9, \"TOV%\": 10.9, \"USG%\": -0.4814197283750442, \"OWS\": 0.5, \"DWS\": 1.4, \"WS\": 1.9, \"WS/48\": 0.069, \"OBPM\": -1.4, \"DBPM\": 0.2, \"BPM\": 0.1382998689201627, \"VORP\": 0.3, \"pred\": 29, \"pred1\": 29, \"pred2\": 29, \"pred3\": 29, \"pred4\": 29, \"pred5\": 29, \"pred6\": 29, \"pred7\": 29, \"pred8\": 29, \"pred9\": 29}, {\"Player\": \"Jae Crowder\", \"Pos\": \"SF\", \"Age\": 29, \"Tm\": \"MIA\", \"G\": 20, \"MP\": 553, \"PER\": 16.3, \"TS%\": 0.669, \"3PAr\": 0.78, \"FTr\": 0.183, \"ORB%\": 2.5, \"DRB%\": 18.5, \"TRB%\": 10.8, \"AST%\": 9.7, \"STL%\": 2.2, \"BLK%\": 1.8, \"TOV%\": 7.8, \"USG%\": -0.5346865534567086, \"OWS\": 1.2, \"DWS\": 0.8, \"WS\": 1.9, \"WS/48\": 0.169, \"OBPM\": 1.7, \"DBPM\": 0.8, \"BPM\": 1.028288899825842, \"VORP\": 0.6, \"pred\": 21, \"pred1\": 21, \"pred2\": 21, \"pred3\": 21, \"pred4\": 21, \"pred5\": 25, \"pred6\": 25, \"pred7\": 25, \"pred8\": 25, \"pred9\": 27}, {\"Player\": \"Jarrett Culver\", \"Pos\": \"SG\", \"Age\": 20, \"Tm\": \"MIN\", \"G\": 63, \"MP\": 1506, \"PER\": 9.6, \"TS%\": 0.467, \"3PAr\": 0.388, \"FTr\": 0.206, \"ORB%\": 4.7, \"DRB%\": 10.3, \"TRB%\": 7.4, \"AST%\": 10.8, \"STL%\": 1.8, \"BLK%\": 2.1, \"TOV%\": 11.5, \"USG%\": 0.15778217260493002, \"OWS\": -1.2, \"DWS\": 1.1, \"WS\": -0.1, \"WS/48\": -0.004, \"OBPM\": -3.3, \"DBPM\": -0.7, \"BPM\": -0.5352053436571083, \"VORP\": -0.8, \"pred\": 20, \"pred1\": 20, \"pred2\": 20, \"pred3\": 20, \"pred4\": 20, \"pred5\": 20, \"pred6\": 20, \"pred7\": 20, \"pred8\": 20, \"pred9\": 20}, {\"Player\": \"Seth Curry\", \"Pos\": \"SG\", \"Age\": 29, \"Tm\": \"DAL\", \"G\": 64, \"MP\": 1576, \"PER\": 15.5, \"TS%\": 0.643, \"3PAr\": 0.559, \"FTr\": 0.169, \"ORB%\": 1.8, \"DRB%\": 7.8, \"TRB%\": 4.8, \"AST%\": 11.6, \"STL%\": 1.2, \"BLK%\": 0.5, \"TOV%\": 9.1, \"USG%\": 0.015737305720491156, \"OWS\": 3.5, \"DWS\": 0.8, \"WS\": 4.3, \"WS/48\": 0.13, \"OBPM\": 1.7, \"DBPM\": -0.9, \"BPM\": 0.6193750207610704, \"VORP\": 1.2, \"pred\": 29, \"pred1\": 29, \"pred2\": 22, \"pred3\": 22, \"pred4\": 22, \"pred5\": 22, \"pred6\": 22, \"pred7\": 22, \"pred8\": 22, \"pred9\": 22}, {\"Player\": \"Stephen Curry\", \"Pos\": \"PG\", \"Age\": 31, \"Tm\": \"GSW\", \"G\": 5, \"MP\": 139, \"PER\": 21.7, \"TS%\": 0.557, \"3PAr\": 0.598, \"FTr\": 0.317, \"ORB%\": 3.0, \"DRB%\": 17.8, \"TRB%\": 10.1, \"AST%\": 42.3, \"STL%\": 1.7, \"BLK%\": 1.3, \"TOV%\": 14.6, \"USG%\": 2.7145897765248277, \"OWS\": 0.2, \"DWS\": 0.1, \"WS\": 0.3, \"WS/48\": 0.103, \"OBPM\": 4.5, \"DBPM\": -0.6, \"BPM\": 1.3650415061144776, \"VORP\": 0.2, \"pred\": 31, \"pred1\": 31, \"pred2\": 25, \"pred3\": 25, \"pred4\": 26, \"pred5\": 26, \"pred6\": 31, \"pred7\": 31, \"pred8\": 31, \"pred9\": 31}, {\"Player\": \"Troy Daniels\", \"Pos\": \"SG\", \"Age\": 28, \"Tm\": \"TOT\", \"G\": 47, \"MP\": 532, \"PER\": 8.4, \"TS%\": 0.518, \"3PAr\": 0.71, \"FTr\": 0.086, \"ORB%\": 2.5, \"DRB%\": 8.2, \"TRB%\": 5.4, \"AST%\": 4.3, \"STL%\": 1.0, \"BLK%\": 0.5, \"TOV%\": 5.9, \"USG%\": -0.35713046985116015, \"OWS\": 0.1, \"DWS\": 0.5, \"WS\": 0.6, \"WS/48\": 0.056, \"OBPM\": -1.7, \"DBPM\": -1.2, \"BPM\": -0.2706140101446089, \"VORP\": -0.1, \"pred\": 24, \"pred1\": 24, \"pred2\": 24, \"pred3\": 24, \"pred4\": 24, \"pred5\": 24, \"pred6\": 24, \"pred7\": 24, \"pred8\": 24, \"pred9\": 24}, {\"Player\": \"Troy Daniels\", \"Pos\": \"SG\", \"Age\": 28, \"Tm\": \"LAL\", \"G\": 41, \"MP\": 456, \"PER\": 9.0, \"TS%\": 0.527, \"3PAr\": 0.709, \"FTr\": 0.101, \"ORB%\": 2.9, \"DRB%\": 8.1, \"TRB%\": 5.5, \"AST%\": 4.1, \"STL%\": 0.8, \"BLK%\": 0.6, \"TOV%\": 5.2, \"USG%\": -0.39264168657226967, \"OWS\": 0.2, \"DWS\": 0.4, \"WS\": 0.7, \"WS/48\": 0.069, \"OBPM\": -1.2, \"DBPM\": -1.1, \"BPM\": -0.10223770700029125, \"VORP\": 0.0, \"pred\": 28, \"pred1\": 28, \"pred2\": 20, \"pred3\": 20, \"pred4\": 20, \"pred5\": 20, \"pred6\": 24, \"pred7\": 24, \"pred8\": 24, \"pred9\": 24}, {\"Player\": \"Troy Daniels\", \"Pos\": \"SG\", \"Age\": 28, \"Tm\": \"DEN\", \"G\": 6, \"MP\": 76, \"PER\": 5.3, \"TS%\": 0.464, \"3PAr\": 0.714, \"FTr\": 0.0, \"ORB%\": 0.0, \"DRB%\": 8.8, \"TRB%\": 4.4, \"AST%\": 5.4, \"STL%\": 2.0, \"BLK%\": 0.0, \"TOV%\": 9.7, \"USG%\": -0.10855195280339261, \"OWS\": -0.1, \"DWS\": 0.1, \"WS\": 0.0, \"WS/48\": -0.025, \"OBPM\": -4.8, \"DBPM\": -2.4, \"BPM\": -1.3049255866025606, \"VORP\": -0.1, \"pred\": 22, \"pred1\": 22, \"pred2\": 22, \"pred3\": 22, \"pred4\": 22, \"pred5\": 22, \"pred6\": 22, \"pred7\": 22, \"pred8\": 22, \"pred9\": 22}, {\"Player\": \"Anthony Davis\", \"Pos\": \"PF\", \"Age\": 26, \"Tm\": \"LAL\", \"G\": 62, \"MP\": 2131, \"PER\": 27.4, \"TS%\": 0.61, \"3PAr\": 0.199, \"FTr\": 0.479, \"ORB%\": 7.4, \"DRB%\": 22.1, \"TRB%\": 14.8, \"AST%\": 15.1, \"STL%\": 2.0, \"BLK%\": 6.0, \"TOV%\": 10.4, \"USG%\": 1.9510986170209692, \"OWS\": 6.7, \"DWS\": 4.4, \"WS\": 11.1, \"WS/48\": 0.25, \"OBPM\": 5.4, \"DBPM\": 2.6, \"BPM\": 2.3512455673883386, \"VORP\": 5.4, \"pred\": 26, \"pred1\": 26, \"pred2\": 26, \"pred3\": 26, \"pred4\": 26, \"pred5\": 26, \"pred6\": 29, \"pred7\": 29, \"pred8\": 29, \"pred9\": 29}, {\"Player\": \"Ed Davis\", \"Pos\": \"C\", \"Age\": 30, \"Tm\": \"UTA\", \"G\": 28, \"MP\": 303, \"PER\": 9.5, \"TS%\": 0.489, \"3PAr\": 0.0, \"FTr\": 0.304, \"ORB%\": 13.2, \"DRB%\": 24.6, \"TRB%\": 19.1, \"AST%\": 5.2, \"STL%\": 1.8, \"BLK%\": 2.5, \"TOV%\": 20.0, \"USG%\": -1.5822674467294442, \"OWS\": 0.2, \"DWS\": 0.5, \"WS\": 0.6, \"WS/48\": 0.102, \"OBPM\": -4.6, \"DBPM\": 1.5, \"BPM\": -0.3427752829207451, \"VORP\": -0.1, \"pred\": 30, \"pred1\": 30, \"pred2\": 27, \"pred3\": 25, \"pred4\": 25, \"pred5\": 25, \"pred6\": 25, \"pred7\": 25, \"pred8\": 25, \"pred9\": 25}, {\"Player\": \"Terence Davis\", \"Pos\": \"SG\", \"Age\": 22, \"Tm\": \"TOR\", \"G\": 72, \"MP\": 1209, \"PER\": 13.8, \"TS%\": 0.588, \"3PAr\": 0.555, \"FTr\": 0.135, \"ORB%\": 4.5, \"DRB%\": 16.0, \"TRB%\": 10.3, \"AST%\": 14.2, \"STL%\": 1.5, \"BLK%\": 1.1, \"TOV%\": 14.1, \"USG%\": 0.12227095588382046, \"OWS\": 1.2, \"DWS\": 1.9, \"WS\": 3.1, \"WS/48\": 0.122, \"OBPM\": 0.1, \"DBPM\": 0.7, \"BPM\": 0.6193750207610704, \"VORP\": 0.8, \"pred\": 22, \"pred1\": 22, \"pred2\": 22, \"pred3\": 22, \"pred4\": 22, \"pred5\": 22, \"pred6\": 22, \"pred7\": 22, \"pred8\": 22, \"pred9\": 22}, {\"Player\": \"Dewayne Dedmon\", \"Pos\": \"C\", \"Age\": 30, \"Tm\": \"TOT\", \"G\": 44, \"MP\": 774, \"PER\": 9.4, \"TS%\": 0.473, \"3PAr\": 0.42, \"FTr\": 0.141, \"ORB%\": 8.5, \"DRB%\": 27.6, \"TRB%\": 17.8, \"AST%\": 4.0, \"STL%\": 1.5, \"BLK%\": 4.8, \"TOV%\": 17.4, \"USG%\": -0.03752951936117286, \"OWS\": -1.0, \"DWS\": 1.0, \"WS\": 0.1, \"WS/48\": 0.005, \"OBPM\": -5.8, \"DBPM\": 0.0, \"BPM\": -0.9681729803139252, \"VORP\": -0.7, \"pred\": 30, \"pred1\": 30, \"pred2\": 24, \"pred3\": 30, \"pred4\": 30, \"pred5\": 24, \"pred6\": 24, \"pred7\": 24, \"pred8\": 22, \"pred9\": 22}, {\"Player\": \"Dewayne Dedmon\", \"Pos\": \"C\", \"Age\": 30, \"Tm\": \"SAC\", \"G\": 34, \"MP\": 541, \"PER\": 8.5, \"TS%\": 0.477, \"3PAr\": 0.415, \"FTr\": 0.164, \"ORB%\": 9.3, \"DRB%\": 25.8, \"TRB%\": 17.4, \"AST%\": 3.9, \"STL%\": 1.3, \"BLK%\": 4.6, \"TOV%\": 20.4, \"USG%\": 0.03349291408104625, \"OWS\": -0.8, \"DWS\": 0.7, \"WS\": -0.1, \"WS/48\": -0.007, \"OBPM\": -6.3, \"DBPM\": -0.1, \"BPM\": -1.1124955258661977, \"VORP\": -0.6, \"pred\": 30, \"pred1\": 30, \"pred2\": 26, \"pred3\": 30, \"pred4\": 30, \"pred5\": 30, \"pred6\": 22, \"pred7\": 22, \"pred8\": 22, \"pred9\": 22}, {\"Player\": \"Dewayne Dedmon\", \"Pos\": \"C\", \"Age\": 30, \"Tm\": \"ATL\", \"G\": 10, \"MP\": 233, \"PER\": 11.4, \"TS%\": 0.463, \"3PAr\": 0.429, \"FTr\": 0.095, \"ORB%\": 6.4, \"DRB%\": 31.8, \"TRB%\": 18.9, \"AST%\": 4.3, \"STL%\": 2.0, \"BLK%\": 5.4, \"TOV%\": 10.3, \"USG%\": -0.16181877788505725, \"OWS\": -0.2, \"DWS\": 0.3, \"WS\": 0.2, \"WS/48\": 0.032, \"OBPM\": -4.6, \"DBPM\": 0.1, \"BPM\": -0.6554741316173351, \"VORP\": -0.1, \"pred\": 30, \"pred1\": 30, \"pred2\": 29, \"pred3\": 22, \"pred4\": 22, \"pred5\": 20, \"pred6\": 22, \"pred7\": 20, \"pred8\": 20, \"pred9\": 20}, {\"Player\": \"Matthew Dellavedova\", \"Pos\": \"PG\", \"Age\": 29, \"Tm\": \"CLE\", \"G\": 57, \"MP\": 821, \"PER\": 8.1, \"TS%\": 0.463, \"3PAr\": 0.52, \"FTr\": 0.211, \"ORB%\": 2.4, \"DRB%\": 7.8, \"TRB%\": 5.1, \"AST%\": 29.0, \"STL%\": 1.2, \"BLK%\": 0.2, \"TOV%\": 23.6, \"USG%\": -0.94306554574947, \"OWS\": 0.1, \"DWS\": 0.1, \"WS\": 0.2, \"WS/48\": 0.011, \"OBPM\": -3.6, \"DBPM\": -1.6, \"BPM\": -0.823850434761653, \"VORP\": -0.7, \"pred\": 29, \"pred1\": 29, \"pred2\": 27, \"pred3\": 26, \"pred4\": 26, \"pred5\": 26, \"pred6\": 26, \"pred7\": 26, \"pred8\": 26, \"pred9\": 26}, {\"Player\": \"DeMar DeRozan\", \"Pos\": \"SF\", \"Age\": 30, \"Tm\": \"SAS\", \"G\": 68, \"MP\": 2316, \"PER\": 21.6, \"TS%\": 0.603, \"3PAr\": 0.033, \"FTr\": 0.43, \"ORB%\": 2.0, \"DRB%\": 15.4, \"TRB%\": 8.7, \"AST%\": 26.1, \"STL%\": 1.4, \"BLK%\": 0.8, \"TOV%\": 11.6, \"USG%\": 1.418430366204324, \"OWS\": 5.9, \"DWS\": 1.3, \"WS\": 7.3, \"WS/48\": 0.151, \"OBPM\": 2.3, \"DBPM\": -0.4, \"BPM\": 0.8839663542735697, \"VORP\": 2.3, \"pred\": 30, \"pred1\": 30, \"pred2\": 24, \"pred3\": 24, \"pred4\": 27, \"pred5\": 27, \"pred6\": 27, \"pred7\": 27, \"pred8\": 27, \"pred9\": 27}, {\"Player\": \"Cheick Diallo\", \"Pos\": \"C\", \"Age\": 23, \"Tm\": \"PHO\", \"G\": 47, \"MP\": 479, \"PER\": 16.5, \"TS%\": 0.688, \"3PAr\": 0.021, \"FTr\": 0.275, \"ORB%\": 6.9, \"DRB%\": 23.7, \"TRB%\": 15.2, \"AST%\": 6.9, \"STL%\": 1.1, \"BLK%\": 2.2, \"TOV%\": 16.7, \"USG%\": -0.23284121132727637, \"OWS\": 0.8, \"DWS\": 0.5, \"WS\": 1.3, \"WS/48\": 0.132, \"OBPM\": -1.1, \"DBPM\": -0.2, \"BPM\": 0.11424611132811728, \"VORP\": 0.1, \"pred\": 23, \"pred1\": 23, \"pred2\": 23, \"pred3\": 23, \"pred4\": 23, \"pred5\": 23, \"pred6\": 23, \"pred7\": 21, \"pred8\": 21, \"pred9\": 24}, {\"Player\": \"Hamidou Diallo\", \"Pos\": \"SF\", \"Age\": 21, \"Tm\": \"OKC\", \"G\": 46, \"MP\": 896, \"PER\": 9.3, \"TS%\": 0.491, \"3PAr\": 0.193, \"FTr\": 0.213, \"ORB%\": 5.6, \"DRB%\": 14.7, \"TRB%\": 10.3, \"AST%\": 5.9, \"STL%\": 2.0, \"BLK%\": 0.9, \"TOV%\": 13.6, \"USG%\": 0.015737305720491156, \"OWS\": -0.7, \"DWS\": 1.1, \"WS\": 0.4, \"WS/48\": 0.022, \"OBPM\": -4.2, \"DBPM\": 0.3, \"BPM\": -0.5111515860650627, \"VORP\": -0.4, \"pred\": 21, \"pred1\": 21, \"pred2\": 21, \"pred3\": 21, \"pred4\": 22, \"pred5\": 21, \"pred6\": 21, \"pred7\": 20, \"pred8\": 20, \"pred9\": 20}, {\"Player\": \"Gorgui Dieng\", \"Pos\": \"C\", \"Age\": 30, \"Tm\": \"TOT\", \"G\": 63, \"MP\": 1096, \"PER\": 17.1, \"TS%\": 0.568, \"3PAr\": 0.418, \"FTr\": 0.277, \"ORB%\": 8.5, \"DRB%\": 25.8, \"TRB%\": 17.0, \"AST%\": 9.7, \"STL%\": 2.2, \"BLK%\": 4.5, \"TOV%\": 12.8, \"USG%\": -0.12630756116394706, \"OWS\": 1.3, \"DWS\": 1.7, \"WS\": 2.9, \"WS/48\": 0.129, \"OBPM\": -0.2, \"DBPM\": 1.8, \"BPM\": 0.7877513239053882, \"VORP\": 1.0, \"pred\": 30, \"pred1\": 30, \"pred2\": 20, \"pred3\": 20, \"pred4\": 20, \"pred5\": 20, \"pred6\": 20, \"pred7\": 20, \"pred8\": 29, \"pred9\": 23}, {\"Player\": \"Gorgui Dieng\", \"Pos\": \"C\", \"Age\": 30, \"Tm\": \"MIN\", \"G\": 46, \"MP\": 778, \"PER\": 17.8, \"TS%\": 0.563, \"3PAr\": 0.433, \"FTr\": 0.213, \"ORB%\": 9.5, \"DRB%\": 25.8, \"TRB%\": 17.4, \"AST%\": 11.1, \"STL%\": 2.2, \"BLK%\": 4.5, \"TOV%\": 12.7, \"USG%\": 0.015737305720491156, \"OWS\": 0.9, \"DWS\": 1.1, \"WS\": 2.1, \"WS/48\": 0.129, \"OBPM\": 0.3, \"DBPM\": 1.5, \"BPM\": 0.8599125966815243, \"VORP\": 0.7, \"pred\": 29, \"pred1\": 29, \"pred2\": 22, \"pred3\": 22, \"pred4\": 22, \"pred5\": 22, \"pred6\": 22, \"pred7\": 22, \"pred8\": 22, \"pred9\": 22}, {\"Player\": \"Gorgui Dieng\", \"Pos\": \"C\", \"Age\": 30, \"Tm\": \"MEM\", \"G\": 17, \"MP\": 318, \"PER\": 15.5, \"TS%\": 0.583, \"3PAr\": 0.368, \"FTr\": 0.483, \"ORB%\": 6.1, \"DRB%\": 26.0, \"TRB%\": 16.2, \"AST%\": 6.3, \"STL%\": 2.1, \"BLK%\": 4.7, \"TOV%\": 13.2, \"USG%\": -0.42815290329337957, \"OWS\": 0.3, \"DWS\": 0.6, \"WS\": 0.9, \"WS/48\": 0.13, \"OBPM\": -1.5, \"DBPM\": 2.5, \"BPM\": 0.6674825359451612, \"VORP\": 0.2, \"pred\": 30, \"pred1\": 30, \"pred2\": 29, \"pred3\": 26, \"pred4\": 22, \"pred5\": 22, \"pred6\": 25, \"pred7\": 25, \"pred8\": 25, \"pred9\": 25}, {\"Player\": \"Spencer Dinwiddie\", \"Pos\": \"SG\", \"Age\": 26, \"Tm\": \"BRK\", \"G\": 64, \"MP\": 1994, \"PER\": 17.8, \"TS%\": 0.541, \"3PAr\": 0.392, \"FTr\": 0.437, \"ORB%\": 1.7, \"DRB%\": 9.6, \"TRB%\": 5.7, \"AST%\": 35.0, \"STL%\": 0.9, \"BLK%\": 0.9, \"TOV%\": 12.5, \"USG%\": 1.9333430086604142, \"OWS\": 3.2, \"DWS\": 1.6, \"WS\": 4.8, \"WS/48\": 0.116, \"OBPM\": 2.7, \"DBPM\": -0.8, \"BPM\": 0.8599125966815243, \"VORP\": 1.9, \"pred\": 26, \"pred1\": 26, \"pred2\": 22, \"pred3\": 22, \"pred4\": 22, \"pred5\": 22, \"pred6\": 22, \"pred7\": 22, \"pred8\": 22, \"pred9\": 22}, {\"Player\": \"Donte DiVincenzo\", \"Pos\": \"SG\", \"Age\": 23, \"Tm\": \"MIL\", \"G\": 66, \"MP\": 1520, \"PER\": 14.1, \"TS%\": 0.557, \"3PAr\": 0.484, \"FTr\": 0.169, \"ORB%\": 4.6, \"DRB%\": 15.5, \"TRB%\": 10.3, \"AST%\": 13.6, \"STL%\": 2.6, \"BLK%\": 1.2, \"TOV%\": 14.1, \"USG%\": -0.17957438624561173, \"OWS\": 1.0, \"DWS\": 3.2, \"WS\": 4.3, \"WS/48\": 0.135, \"OBPM\": -1.1, \"DBPM\": 2.4, \"BPM\": 0.7396438087212974, \"VORP\": 1.3, \"pred\": 23, \"pred1\": 23, \"pred2\": 20, \"pred3\": 20, \"pred4\": 20, \"pred5\": 20, \"pred6\": 23, \"pred7\": 23, \"pred8\": 23, \"pred9\": 23}, {\"Player\": \"Luka Don\\u010di\\u0107\", \"Pos\": \"PG\", \"Age\": 20, \"Tm\": \"DAL\", \"G\": 61, \"MP\": 2047, \"PER\": 27.6, \"TS%\": 0.585, \"3PAr\": 0.431, \"FTr\": 0.448, \"ORB%\": 4.1, \"DRB%\": 25.0, \"TRB%\": 14.7, \"AST%\": 45.7, \"STL%\": 1.5, \"BLK%\": 0.6, \"TOV%\": 14.8, \"USG%\": 3.2827692440625817, \"OWS\": 6.5, \"DWS\": 2.3, \"WS\": 8.8, \"WS/48\": 0.207, \"OBPM\": 7.4, \"DBPM\": 1.0, \"BPM\": 2.44746059775652, \"VORP\": 5.4, \"pred\": 30, \"pred1\": 30, \"pred2\": 28, \"pred3\": 25, \"pred4\": 25, \"pred5\": 25, \"pred6\": 25, \"pred7\": 25, \"pred8\": 25, \"pred9\": 25}, {\"Player\": \"Luguentz Dort\", \"Pos\": \"SG\", \"Age\": 20, \"Tm\": \"OKC\", \"G\": 36, \"MP\": 820, \"PER\": 7.6, \"TS%\": 0.506, \"3PAr\": 0.463, \"FTr\": 0.243, \"ORB%\": 3.3, \"DRB%\": 7.5, \"TRB%\": 5.5, \"AST%\": 4.6, \"STL%\": 1.8, \"BLK%\": 0.4, \"TOV%\": 8.4, \"USG%\": -0.7477538537833668, \"OWS\": 0.1, \"DWS\": 0.8, \"WS\": 0.8, \"WS/48\": 0.049, \"OBPM\": -4.1, \"DBPM\": 0.4, \"BPM\": -0.46304407088097205, \"VORP\": -0.4, \"pred\": 20, \"pred1\": 20, \"pred2\": 20, \"pred3\": 22, \"pred4\": 22, \"pred5\": 22, \"pred6\": 22, \"pred7\": 22, \"pred8\": 22, \"pred9\": 22}, {\"Player\": \"Damyean Dotson\", \"Pos\": \"SG\", \"Age\": 25, \"Tm\": \"NYK\", \"G\": 48, \"MP\": 836, \"PER\": 10.9, \"TS%\": 0.527, \"3PAr\": 0.562, \"FTr\": 0.114, \"ORB%\": 1.2, \"DRB%\": 10.6, \"TRB%\": 5.8, \"AST%\": 10.0, \"STL%\": 1.3, \"BLK%\": 0.5, \"TOV%\": 6.5, \"USG%\": -0.3216192531300506, \"OWS\": 0.6, \"DWS\": 0.4, \"WS\": 0.9, \"WS/48\": 0.053, \"OBPM\": -0.9, \"DBPM\": -0.5, \"BPM\": 0.06613859614402652, \"VORP\": 0.1, \"pred\": 30, \"pred1\": 30, \"pred2\": 26, \"pred3\": 26, \"pred4\": 22, \"pred5\": 22, \"pred6\": 22, \"pred7\": 24, \"pred8\": 24, \"pred9\": 23}, {\"Player\": \"Sekou Doumbouya\", \"Pos\": \"SF\", \"Age\": 19, \"Tm\": \"DET\", \"G\": 38, \"MP\": 754, \"PER\": 6.2, \"TS%\": 0.474, \"3PAr\": 0.415, \"FTr\": 0.195, \"ORB%\": 3.0, \"DRB%\": 14.9, \"TRB%\": 8.9, \"AST%\": 3.6, \"STL%\": 1.3, \"BLK%\": 0.9, \"TOV%\": 12.0, \"USG%\": -0.2505968196878315, \"OWS\": -0.8, \"DWS\": 0.5, \"WS\": -0.3, \"WS/48\": -0.02, \"OBPM\": -5.3, \"DBPM\": -1.4, \"BPM\": -1.1846567986423338, \"VORP\": -0.9, \"pred\": 20, \"pred1\": 20, \"pred2\": 20, \"pred3\": 22, \"pred4\": 22, \"pred5\": 22, \"pred6\": 22, \"pred7\": 22, \"pred8\": 22, \"pred9\": 22}, {\"Player\": \"PJ Dozier\", \"Pos\": \"PG\", \"Age\": 23, \"Tm\": \"DEN\", \"G\": 29, \"MP\": 412, \"PER\": 11.6, \"TS%\": 0.495, \"3PAr\": 0.312, \"FTr\": 0.185, \"ORB%\": 2.7, \"DRB%\": 12.2, \"TRB%\": 7.5, \"AST%\": 21.6, \"STL%\": 1.7, \"BLK%\": 1.3, \"TOV%\": 13.7, \"USG%\": 0.44187190637380774, \"OWS\": 0.0, \"DWS\": 0.4, \"WS\": 0.4, \"WS/48\": 0.044, \"OBPM\": -2.6, \"DBPM\": -1.3, \"BPM\": -0.5111515860650627, \"VORP\": -0.2, \"pred\": 23, \"pred1\": 23, \"pred2\": 23, \"pred3\": 19, \"pred4\": 19, \"pred5\": 23, \"pred6\": 23, \"pred7\": 23, \"pred8\": 23, \"pred9\": 23}, {\"Player\": \"Goran Dragi\\u0107\", \"Pos\": \"PG\", \"Age\": 33, \"Tm\": \"MIA\", \"G\": 59, \"MP\": 1663, \"PER\": 16.3, \"TS%\": 0.573, \"3PAr\": 0.467, \"FTr\": 0.34, \"ORB%\": 2.0, \"DRB%\": 10.2, \"TRB%\": 6.3, \"AST%\": 29.2, \"STL%\": 1.2, \"BLK%\": 0.6, \"TOV%\": 14.8, \"USG%\": 1.3474079327621042, \"OWS\": 2.2, \"DWS\": 1.3, \"WS\": 3.5, \"WS/48\": 0.102, \"OBPM\": 1.4, \"DBPM\": -1.6, \"BPM\": 0.4028912024326619, \"VORP\": 0.8, \"pred\": 33, \"pred1\": 33, \"pred2\": 30, \"pred3\": 24, \"pred4\": 24, \"pred5\": 24, \"pred6\": 28, \"pred7\": 28, \"pred8\": 26, \"pred9\": 24}, {\"Player\": \"Andre Drummond\", \"Pos\": \"C\", \"Age\": 26, \"Tm\": \"TOT\", \"G\": 57, \"MP\": 1879, \"PER\": 22.0, \"TS%\": 0.553, \"3PAr\": 0.045, \"FTr\": 0.375, \"ORB%\": 14.9, \"DRB%\": 37.5, \"TRB%\": 26.0, \"AST%\": 13.6, \"STL%\": 2.8, \"BLK%\": 4.2, \"TOV%\": 18.2, \"USG%\": 1.3474079327621042, \"OWS\": 0.6, \"DWS\": 3.6, \"WS\": 4.2, \"WS/48\": 0.108, \"OBPM\": -0.1, \"DBPM\": 1.1, \"BPM\": 0.6434287783531158, \"VORP\": 1.4, \"pred\": 26, \"pred1\": 26, \"pred2\": 26, \"pred3\": 26, \"pred4\": 26, \"pred5\": 26, \"pred6\": 26, \"pred7\": 26, \"pred8\": 26, \"pred9\": 26}, {\"Player\": \"Andre Drummond\", \"Pos\": \"C\", \"Age\": 26, \"Tm\": \"DET\", \"G\": 49, \"MP\": 1654, \"PER\": 22.1, \"TS%\": 0.55, \"3PAr\": 0.031, \"FTr\": 0.376, \"ORB%\": 15.3, \"DRB%\": 38.2, \"TRB%\": 26.6, \"AST%\": 14.0, \"STL%\": 2.9, \"BLK%\": 4.2, \"TOV%\": 18.0, \"USG%\": 1.276385499319885, \"OWS\": 0.7, \"DWS\": 3.3, \"WS\": 4.0, \"WS/48\": 0.116, \"OBPM\": 0.0, \"DBPM\": 1.2, \"BPM\": 0.6915362935372067, \"VORP\": 1.3, \"pred\": 26, \"pred1\": 26, \"pred2\": 22, \"pred3\": 26, \"pred4\": 26, \"pred5\": 26, \"pred6\": 26, \"pred7\": 26, \"pred8\": 26, \"pred9\": 26}, {\"Player\": \"Andre Drummond\", \"Pos\": \"C\", \"Age\": 26, \"Tm\": \"CLE\", \"G\": 8, \"MP\": 225, \"PER\": 21.1, \"TS%\": 0.573, \"3PAr\": 0.133, \"FTr\": 0.371, \"ORB%\": 11.7, \"DRB%\": 32.4, \"TRB%\": 22.0, \"AST%\": 10.8, \"STL%\": 2.6, \"BLK%\": 4.2, \"TOV%\": 19.2, \"USG%\": 1.8445649668576398, \"OWS\": -0.1, \"DWS\": 0.3, \"WS\": 0.3, \"WS/48\": 0.053, \"OBPM\": -0.9, \"DBPM\": 0.4, \"BPM\": 0.33072992965652576, \"VORP\": 0.1, \"pred\": 26, \"pred1\": 26, \"pred2\": 24, \"pred3\": 24, \"pred4\": 23, \"pred5\": 23, \"pred6\": 23, \"pred7\": 23, \"pred8\": 23, \"pred9\": 23}, {\"Player\": \"Jared Dudley\", \"Pos\": \"SF\", \"Age\": 34, \"Tm\": \"LAL\", \"G\": 45, \"MP\": 364, \"PER\": 7.8, \"TS%\": 0.558, \"3PAr\": 0.7, \"FTr\": 0.033, \"ORB%\": 1.8, \"DRB%\": 13.7, \"TRB%\": 7.8, \"AST%\": 9.5, \"STL%\": 2.0, \"BLK%\": 0.7, \"TOV%\": 11.6, \"USG%\": -1.830845963777212, \"OWS\": 0.3, \"DWS\": 0.5, \"WS\": 0.8, \"WS/48\": 0.102, \"OBPM\": -2.8, \"DBPM\": 2.0, \"BPM\": 0.23451489928834424, \"VORP\": 0.1, \"pred\": 34, \"pred1\": 34, \"pred2\": 24, \"pred3\": 24, \"pred4\": 24, \"pred5\": 24, \"pred6\": 24, \"pred7\": 24, \"pred8\": 22, \"pred9\": 22}, {\"Player\": \"Kris Dunn\", \"Pos\": \"PG\", \"Age\": 25, \"Tm\": \"CHI\", \"G\": 51, \"MP\": 1269, \"PER\": 12.1, \"TS%\": 0.51, \"3PAr\": 0.327, \"FTr\": 0.158, \"ORB%\": 1.9, \"DRB%\": 14.9, \"TRB%\": 8.1, \"AST%\": 19.4, \"STL%\": 3.8, \"BLK%\": 1.3, \"TOV%\": 15.7, \"USG%\": -0.6589758119805926, \"OWS\": 0.3, \"DWS\": 2.0, \"WS\": 2.3, \"WS/48\": 0.085, \"OBPM\": -3.7, \"DBPM\": 3.1, \"BPM\": 0.282622414472435, \"VORP\": 0.4, \"pred\": 25, \"pred1\": 25, \"pred2\": 20, \"pred3\": 20, \"pred4\": 19, \"pred5\": 19, \"pred6\": 19, \"pred7\": 19, \"pred8\": 19, \"pred9\": 19}, {\"Player\": \"Carsen Edwards\", \"Pos\": \"SG\", \"Age\": 21, \"Tm\": \"BOS\", \"G\": 37, \"MP\": 351, \"PER\": 6.9, \"TS%\": 0.444, \"3PAr\": 0.594, \"FTr\": 0.148, \"ORB%\": 1.9, \"DRB%\": 12.4, \"TRB%\": 7.2, \"AST%\": 9.3, \"STL%\": 1.7, \"BLK%\": 1.1, \"TOV%\": 9.9, \"USG%\": 0.015737305720491156, \"OWS\": -0.3, \"DWS\": 0.4, \"WS\": 0.1, \"WS/48\": 0.014, \"OBPM\": -4.4, \"DBPM\": -0.2, \"BPM\": -0.6795278892093805, \"VORP\": -0.2, \"pred\": 21, \"pred1\": 21, \"pred2\": 20, \"pred3\": 20, \"pred4\": 20, \"pred5\": 20, \"pred6\": 20, \"pred7\": 20, \"pred8\": 20, \"pred9\": 20}, {\"Player\": \"Henry Ellenson\", \"Pos\": \"PF\", \"Age\": 23, \"Tm\": \"BRK\", \"G\": 5, \"MP\": 15, \"PER\": -1.3, \"TS%\": 0.143, \"3PAr\": 0.571, \"FTr\": 0.0, \"ORB%\": 14.1, \"DRB%\": 27.0, \"TRB%\": 20.7, \"AST%\": 8.7, \"STL%\": 0.0, \"BLK%\": 0.0, \"TOV%\": 0.0, \"USG%\": 0.21104899768659466, \"OWS\": -0.1, \"DWS\": 0.0, \"WS\": -0.1, \"WS/48\": -0.183, \"OBPM\": -7.8, \"DBPM\": -3.1, \"BPM\": -2.1949146175082404, \"VORP\": 0.0, \"pred\": 23, \"pred1\": 23, \"pred2\": 23, \"pred3\": 23, \"pred4\": 23, \"pred5\": 22, \"pred6\": 22, \"pred7\": 22, \"pred8\": 22, \"pred9\": 22}, {\"Player\": \"Wayne Ellington\", \"Pos\": \"SG\", \"Age\": 32, \"Tm\": \"NYK\", \"G\": 36, \"MP\": 558, \"PER\": 8.5, \"TS%\": 0.509, \"3PAr\": 0.822, \"FTr\": 0.075, \"ORB%\": 0.7, \"DRB%\": 12.0, \"TRB%\": 6.2, \"AST%\": 11.0, \"STL%\": 1.1, \"BLK%\": 0.7, \"TOV%\": 9.1, \"USG%\": -0.5879533785383732, \"OWS\": 0.2, \"DWS\": 0.2, \"WS\": 0.4, \"WS/48\": 0.035, \"OBPM\": -1.9, \"DBPM\": -0.9, \"BPM\": -0.2706140101446089, \"VORP\": -0.1, \"pred\": 32, \"pred1\": 32, \"pred2\": 24, \"pred3\": 24, \"pred4\": 21, \"pred5\": 21, \"pred6\": 21, \"pred7\": 21, \"pred8\": 21, \"pred9\": 21}, {\"Player\": \"Joel Embiid\", \"Pos\": \"C\", \"Age\": 25, \"Tm\": \"PHI\", \"G\": 51, \"MP\": 1506, \"PER\": 25.8, \"TS%\": 0.59, \"3PAr\": 0.215, \"FTr\": 0.543, \"ORB%\": 10.3, \"DRB%\": 33.2, \"TRB%\": 21.7, \"AST%\": 16.9, \"STL%\": 1.4, \"BLK%\": 3.7, \"TOV%\": 13.8, \"USG%\": 2.590300518000943, \"OWS\": 3.3, \"DWS\": 2.7, \"WS\": 6.0, \"WS/48\": 0.192, \"OBPM\": 3.7, \"DBPM\": 1.0, \"BPM\": 1.5574715668508405, \"VORP\": 2.5, \"pred\": 25, \"pred1\": 25, \"pred2\": 25, \"pred3\": 25, \"pred4\": 26, \"pred5\": 26, \"pred6\": 26, \"pred7\": 26, \"pred8\": 26, \"pred9\": 26}, {\"Player\": \"James Ennis\", \"Pos\": \"SF\", \"Age\": 29, \"Tm\": \"TOT\", \"G\": 69, \"MP\": 1265, \"PER\": 11.5, \"TS%\": 0.565, \"3PAr\": 0.471, \"FTr\": 0.273, \"ORB%\": 6.1, \"DRB%\": 15.3, \"TRB%\": 10.6, \"AST%\": 7.0, \"STL%\": 1.3, \"BLK%\": 1.5, \"TOV%\": 12.6, \"USG%\": -0.4636641200144894, \"OWS\": 1.0, \"DWS\": 1.4, \"WS\": 2.4, \"WS/48\": 0.09, \"OBPM\": -2.2, \"DBPM\": -0.4, \"BPM\": -0.19845273736847277, \"VORP\": -0.2, \"pred\": 27, \"pred1\": 27, \"pred2\": 27, \"pred3\": 25, \"pred4\": 21, \"pred5\": 28, \"pred6\": 25, \"pred7\": 25, \"pred8\": 25, \"pred9\": 25}, {\"Player\": \"James Ennis\", \"Pos\": \"SF\", \"Age\": 29, \"Tm\": \"PHI\", \"G\": 49, \"MP\": 776, \"PER\": 12.3, \"TS%\": 0.564, \"3PAr\": 0.469, \"FTr\": 0.27, \"ORB%\": 6.8, \"DRB%\": 14.5, \"TRB%\": 10.7, \"AST%\": 7.3, \"STL%\": 1.4, \"BLK%\": 1.5, \"TOV%\": 10.9, \"USG%\": -0.4636641200144894, \"OWS\": 0.9, \"DWS\": 0.9, \"WS\": 1.7, \"WS/48\": 0.106, \"OBPM\": -1.5, \"DBPM\": 0.0, \"BPM\": 0.06613859614402652, \"VORP\": 0.1, \"pred\": 29, \"pred1\": 29, \"pred2\": 29, \"pred3\": 29, \"pred4\": 29, \"pred5\": 29, \"pred6\": 29, \"pred7\": 29, \"pred8\": 29, \"pred9\": 29}, {\"Player\": \"James Ennis\", \"Pos\": \"SF\", \"Age\": 29, \"Tm\": \"ORL\", \"G\": 20, \"MP\": 489, \"PER\": 10.3, \"TS%\": 0.566, \"3PAr\": 0.474, \"FTr\": 0.278, \"ORB%\": 4.9, \"DRB%\": 16.4, \"TRB%\": 10.5, \"AST%\": 6.5, \"STL%\": 1.2, \"BLK%\": 1.5, \"TOV%\": 15.3, \"USG%\": -0.4814197283750442, \"OWS\": 0.2, \"DWS\": 0.5, \"WS\": 0.7, \"WS/48\": 0.064, \"OBPM\": -3.3, \"DBPM\": -1.1, \"BPM\": -0.6314203740252899, \"VORP\": -0.3, \"pred\": 29, \"pred1\": 29, \"pred2\": 22, \"pred3\": 21, \"pred4\": 21, \"pred5\": 21, \"pred6\": 26, \"pred7\": 22, \"pred8\": 22, \"pred9\": 22}, {\"Player\": \"Drew Eubanks\", \"Pos\": \"PF\", \"Age\": 22, \"Tm\": \"SAS\", \"G\": 22, \"MP\": 272, \"PER\": 17.3, \"TS%\": 0.682, \"3PAr\": 0.015, \"FTr\": 0.388, \"ORB%\": 11.1, \"DRB%\": 22.6, \"TRB%\": 16.8, \"AST%\": 7.7, \"STL%\": 0.9, \"BLK%\": 5.5, \"TOV%\": 21.1, \"USG%\": -0.44590851165393436, \"OWS\": 0.5, \"DWS\": 0.3, \"WS\": 0.8, \"WS/48\": 0.134, \"OBPM\": -1.4, \"DBPM\": -0.3, \"BPM\": 0.01803108095993575, \"VORP\": 0.0, \"pred\": 22, \"pred1\": 22, \"pred2\": 22, \"pred3\": 22, \"pred4\": 22, \"pred5\": 22, \"pred6\": 29, \"pred7\": 29, \"pred8\": 29, \"pred9\": 29}, {\"Player\": \"Jacob Evans\", \"Pos\": \"SG\", \"Age\": 22, \"Tm\": \"TOT\", \"G\": 29, \"MP\": 418, \"PER\": 5.5, \"TS%\": 0.436, \"3PAr\": 0.291, \"FTr\": 0.216, \"ORB%\": 2.3, \"DRB%\": 8.6, \"TRB%\": 5.3, \"AST%\": 10.8, \"STL%\": 1.3, \"BLK%\": 2.6, \"TOV%\": 14.6, \"USG%\": -0.14406316952450215, \"OWS\": -0.7, \"DWS\": 0.2, \"WS\": -0.5, \"WS/48\": -0.056, \"OBPM\": -5.8, \"DBPM\": -1.3, \"BPM\": -1.2808718290105152, \"VORP\": -0.5, \"pred\": 22, \"pred1\": 22, \"pred2\": 22, \"pred3\": 22, \"pred4\": 22, \"pred5\": 22, \"pred6\": 22, \"pred7\": 22, \"pred8\": 22, \"pred9\": 22}, {\"Player\": \"Jacob Evans\", \"Pos\": \"SG\", \"Age\": 22, \"Tm\": \"GSW\", \"G\": 27, \"MP\": 414, \"PER\": 5.6, \"TS%\": 0.439, \"3PAr\": 0.286, \"FTr\": 0.218, \"ORB%\": 2.3, \"DRB%\": 8.7, \"TRB%\": 5.4, \"AST%\": 10.9, \"STL%\": 1.3, \"BLK%\": 2.6, \"TOV%\": 14.6, \"USG%\": -0.12630756116394706, \"OWS\": -0.6, \"DWS\": 0.2, \"WS\": -0.5, \"WS/48\": -0.054, \"OBPM\": -5.7, \"DBPM\": -1.2, \"BPM\": -1.2568180714184698, \"VORP\": -0.5, \"pred\": 22, \"pred1\": 22, \"pred2\": 22, \"pred3\": 22, \"pred4\": 22, \"pred5\": 22, \"pred6\": 22, \"pred7\": 22, \"pred8\": 22, \"pred9\": 22}, {\"Player\": \"Jacob Evans\", \"Pos\": \"SG\", \"Age\": 22, \"Tm\": \"MIN\", \"G\": 2, \"MP\": 4, \"PER\": -9.6, \"TS%\": 0.0, \"3PAr\": 1.0, \"FTr\": 0.0, \"ORB%\": 0.0, \"DRB%\": 0.0, \"TRB%\": 0.0, \"AST%\": 0.0, \"STL%\": 0.0, \"BLK%\": 0.0, \"TOV%\": 0.0, \"USG%\": -1.4224669714844507, \"OWS\": 0.0, \"DWS\": 0.0, \"WS\": 0.0, \"WS/48\": -0.263, \"OBPM\": -10.5, \"DBPM\": -5.5, \"BPM\": -3.4457100122946005, \"VORP\": 0.0, \"pred\": 22, \"pred1\": 22, \"pred2\": 22, \"pred3\": 22, \"pred4\": 22, \"pred5\": 26, \"pred6\": 24, \"pred7\": 24, \"pred8\": 24, \"pred9\": 24}, {\"Player\": \"Dante Exum\", \"Pos\": \"SG\", \"Age\": 24, \"Tm\": \"TOT\", \"G\": 35, \"MP\": 485, \"PER\": 10.3, \"TS%\": 0.576, \"3PAr\": 0.361, \"FTr\": 0.361, \"ORB%\": 2.7, \"DRB%\": 12.6, \"TRB%\": 7.7, \"AST%\": 11.5, \"STL%\": 1.3, \"BLK%\": 1.4, \"TOV%\": 18.4, \"USG%\": -0.5879533785383732, \"OWS\": 0.2, \"DWS\": 0.2, \"WS\": 0.4, \"WS/48\": 0.043, \"OBPM\": -2.5, \"DBPM\": -0.4, \"BPM\": -0.2706140101446089, \"VORP\": -0.1, \"pred\": 32, \"pred1\": 32, \"pred2\": 24, \"pred3\": 24, \"pred4\": 21, \"pred5\": 21, \"pred6\": 21, \"pred7\": 21, \"pred8\": 21, \"pred9\": 21}, {\"Player\": \"Dante Exum\", \"Pos\": \"SG\", \"Age\": 24, \"Tm\": \"UTA\", \"G\": 11, \"MP\": 83, \"PER\": 4.8, \"TS%\": 0.503, \"3PAr\": 0.261, \"FTr\": 0.087, \"ORB%\": 4.1, \"DRB%\": 11.5, \"TRB%\": 8.0, \"AST%\": 11.9, \"STL%\": 0.6, \"BLK%\": 2.0, \"TOV%\": 29.5, \"USG%\": -0.09079634444283752, \"OWS\": -0.2, \"DWS\": 0.1, \"WS\": -0.1, \"WS/48\": -0.056, \"OBPM\": -5.2, \"DBPM\": -0.5, \"BPM\": -0.9441192227218799, \"VORP\": -0.1, \"pred\": 24, \"pred1\": 24, \"pred2\": 24, \"pred3\": 20, \"pred4\": 24, \"pred5\": 24, \"pred6\": 24, \"pred7\": 22, \"pred8\": 22, \"pred9\": 22}, {\"Player\": \"Dante Exum\", \"Pos\": \"SG\", \"Age\": 24, \"Tm\": \"CLE\", \"G\": 24, \"MP\": 402, \"PER\": 11.5, \"TS%\": 0.592, \"3PAr\": 0.385, \"FTr\": 0.427, \"ORB%\": 2.5, \"DRB%\": 12.8, \"TRB%\": 7.6, \"AST%\": 11.4, \"STL%\": 1.5, \"BLK%\": 1.3, \"TOV%\": 15.6, \"USG%\": -0.6944870287017022, \"OWS\": 0.4, \"DWS\": 0.2, \"WS\": 0.5, \"WS/48\": 0.063, \"OBPM\": -2.0, \"DBPM\": -0.4, \"BPM\": -0.15034522218438195, \"VORP\": 0.0, \"pred\": 24, \"pred1\": 24, \"pred2\": 23, \"pred3\": 23, \"pred4\": 21, \"pred5\": 21, \"pred6\": 21, \"pred7\": 25, \"pred8\": 25, \"pred9\": 25}, {\"Player\": \"Tacko Fall\", \"Pos\": \"C\", \"Age\": 24, \"Tm\": \"BOS\", \"G\": 7, \"MP\": 33, \"PER\": 28.4, \"TS%\": 0.751, \"3PAr\": 0.0, \"FTr\": 0.214, \"ORB%\": 3.3, \"DRB%\": 44.9, \"TRB%\": 24.3, \"AST%\": 5.8, \"STL%\": 1.5, \"BLK%\": 11.2, \"TOV%\": 16.4, \"USG%\": 0.9567845488298978, \"OWS\": 0.1, \"DWS\": 0.1, \"WS\": 0.2, \"WS/48\": 0.223, \"OBPM\": 0.4, \"DBPM\": 6.0, \"BPM\": 1.9904392035076575, \"VORP\": 0.1, \"pred\": 24, \"pred1\": 24, \"pred2\": 24, \"pred3\": 24, \"pred4\": 24, \"pred5\": 24, \"pred6\": 24, \"pred7\": 24, \"pred8\": 23, \"pred9\": 23}, {\"Player\": \"Derrick Favors\", \"Pos\": \"C\", \"Age\": 28, \"Tm\": \"NOP\", \"G\": 51, \"MP\": 1243, \"PER\": 18.5, \"TS%\": 0.62, \"3PAr\": 0.021, \"FTr\": 0.209, \"ORB%\": 13.9, \"DRB%\": 28.9, \"TRB%\": 21.4, \"AST%\": 9.2, \"STL%\": 1.1, \"BLK%\": 3.1, \"TOV%\": 12.9, \"USG%\": -0.7655094621439216, \"OWS\": 2.6, \"DWS\": 1.6, \"WS\": 4.2, \"WS/48\": 0.162, \"OBPM\": 0.7, \"DBPM\": 0.3, \"BPM\": 0.6674825359451612, \"VORP\": 0.9, \"pred\": 28, \"pred1\": 28, \"pred2\": 27, \"pred3\": 22, \"pred4\": 22, \"pred5\": 22, \"pred6\": 22, \"pred7\": 28, \"pred8\": 26, \"pred9\": 26}, {\"Player\": \"Cristiano Fel\\u00edcio\", \"Pos\": \"PF\", \"Age\": 27, \"Tm\": \"CHI\", \"G\": 22, \"MP\": 386, \"PER\": 12.8, \"TS%\": 0.671, \"3PAr\": 0.037, \"FTr\": 0.426, \"ORB%\": 15.0, \"DRB%\": 14.1, \"TRB%\": 14.6, \"AST%\": 5.7, \"STL%\": 1.2, \"BLK%\": 0.5, \"TOV%\": 21.9, \"USG%\": -1.635534271811109, \"OWS\": 0.7, \"DWS\": 0.3, \"WS\": 1.0, \"WS/48\": 0.126, \"OBPM\": -1.4, \"DBPM\": -1.6, \"BPM\": -0.2946677677366543, \"VORP\": -0.1, \"pred\": 27, \"pred1\": 27, \"pred2\": 25, \"pred3\": 25, \"pred4\": 25, \"pred5\": 25, \"pred6\": 25, \"pred7\": 25, \"pred8\": 25, \"pred9\": 25}, {\"Player\": \"Terrance Ferguson\", \"Pos\": \"SF\", \"Age\": 21, \"Tm\": \"OKC\", \"G\": 56, \"MP\": 1257, \"PER\": 3.7, \"TS%\": 0.481, \"3PAr\": 0.764, \"FTr\": 0.091, \"ORB%\": 2.1, \"DRB%\": 4.4, \"TRB%\": 3.3, \"AST%\": 5.3, \"STL%\": 1.0, \"BLK%\": 1.2, \"TOV%\": 11.9, \"USG%\": -1.635534271811109, \"OWS\": -0.3, \"DWS\": 0.9, \"WS\": 0.6, \"WS/48\": 0.021, \"OBPM\": -4.8, \"DBPM\": 0.3, \"BPM\": -0.6554741316173351, \"VORP\": -0.8, \"pred\": 21, \"pred1\": 21, \"pred2\": 21, \"pred3\": 21, \"pred4\": 21, \"pred5\": 21, \"pred6\": 21, \"pred7\": 22, \"pred8\": 22, \"pred9\": 22}, {\"Player\": \"Bruno Fernando\", \"Pos\": \"C\", \"Age\": 21, \"Tm\": \"ATL\", \"G\": 56, \"MP\": 713, \"PER\": 11.9, \"TS%\": 0.542, \"3PAr\": 0.186, \"FTr\": 0.256, \"ORB%\": 10.0, \"DRB%\": 20.0, \"TRB%\": 15.0, \"AST%\": 9.9, \"STL%\": 1.2, \"BLK%\": 2.0, \"TOV%\": 15.9, \"USG%\": -0.5346865534567086, \"OWS\": 0.4, \"DWS\": 0.4, \"WS\": 0.8, \"WS/48\": 0.055, \"OBPM\": -3.2, \"DBPM\": -0.9, \"BPM\": -0.5592591012491536, \"VORP\": -0.4, \"pred\": 21, \"pred1\": 21, \"pred2\": 21, \"pred3\": 21, \"pred4\": 21, \"pred5\": 21, \"pred6\": 26, \"pred7\": 26, \"pred8\": 22, \"pred9\": 22}, {\"Player\": \"Yogi Ferrell\", \"Pos\": \"PG\", \"Age\": 26, \"Tm\": \"SAC\", \"G\": 50, \"MP\": 530, \"PER\": 12.2, \"TS%\": 0.528, \"3PAr\": 0.42, \"FTr\": 0.223, \"ORB%\": 1.2, \"DRB%\": 9.4, \"TRB%\": 5.2, \"AST%\": 18.8, \"STL%\": 1.6, \"BLK%\": 0.7, \"TOV%\": 11.9, \"USG%\": 0.15778217260493002, \"OWS\": 0.3, \"DWS\": 0.3, \"WS\": 0.7, \"WS/48\": 0.06, \"OBPM\": -1.5, \"DBPM\": -0.3, \"BPM\": -0.00602267663210966, \"VORP\": 0.0, \"pred\": 32, \"pred1\": 32, \"pred2\": 22, \"pred3\": 22, \"pred4\": 22, \"pred5\": 32, \"pred6\": 32, \"pred7\": 32, \"pred8\": 32, \"pred9\": 31}, {\"Player\": \"Dorian Finney-Smith\", \"Pos\": \"PF\", \"Age\": 26, \"Tm\": \"DAL\", \"G\": 71, \"MP\": 2120, \"PER\": 12.3, \"TS%\": 0.595, \"3PAr\": 0.58, \"FTr\": 0.207, \"ORB%\": 7.3, \"DRB%\": 12.7, \"TRB%\": 10.0, \"AST%\": 7.2, \"STL%\": 1.0, \"BLK%\": 1.6, \"TOV%\": 10.8, \"USG%\": -0.9608211541100248, \"OWS\": 3.3, \"DWS\": 1.5, \"WS\": 4.9, \"WS/48\": 0.11, \"OBPM\": 0.1, \"DBPM\": -0.3, \"BPM\": 0.3788374448406166, \"VORP\": 0.9, \"pred\": 26, \"pred1\": 26, \"pred2\": 26, \"pred3\": 26, \"pred4\": 25, \"pred5\": 25, \"pred6\": 25, \"pred7\": 25, \"pred8\": 25, \"pred9\": 25}, {\"Player\": \"Bryn Forbes\", \"Pos\": \"SG\", \"Age\": 26, \"Tm\": \"SAS\", \"G\": 63, \"MP\": 1579, \"PER\": 11.1, \"TS%\": 0.57, \"3PAr\": 0.656, \"FTr\": 0.155, \"ORB%\": 0.8, \"DRB%\": 7.8, \"TRB%\": 4.3, \"AST%\": 9.5, \"STL%\": 1.0, \"BLK%\": 0.0, \"TOV%\": 8.4, \"USG%\": 0.03349291408104625, \"OWS\": 1.3, \"DWS\": 0.3, \"WS\": 1.5, \"WS/48\": 0.047, \"OBPM\": -0.6, \"DBPM\": -2.1, \"BPM\": -0.2225064949605182, \"VORP\": -0.3, \"pred\": 26, \"pred1\": 26, \"pred2\": 26, \"pred3\": 26, \"pred4\": 23, \"pred5\": 27, \"pred6\": 27, \"pred7\": 27, \"pred8\": 27, \"pred9\": 27}, {\"Player\": \"Evan Fournier\", \"Pos\": \"SG\", \"Age\": 27, \"Tm\": \"ORL\", \"G\": 66, \"MP\": 2076, \"PER\": 16.4, \"TS%\": 0.595, \"3PAr\": 0.467, \"FTr\": 0.237, \"ORB%\": 0.9, \"DRB%\": 8.2, \"TRB%\": 4.4, \"AST%\": 16.6, \"STL%\": 1.7, \"BLK%\": 0.7, \"TOV%\": 10.9, \"USG%\": 0.9922957655510074, \"OWS\": 2.9, \"DWS\": 1.7, \"WS\": 4.6, \"WS/48\": 0.106, \"OBPM\": 1.4, \"DBPM\": -0.4, \"BPM\": 0.6674825359451612, \"VORP\": 1.6, \"pred\": 27, \"pred1\": 27, \"pred2\": 26, \"pred3\": 26, \"pred4\": 20, \"pred5\": 20, \"pred6\": 20, \"pred7\": 20, \"pred8\": 30, \"pred9\": 30}, {\"Player\": \"De'Aaron Fox\", \"Pos\": \"PG\", \"Age\": 22, \"Tm\": \"SAC\", \"G\": 51, \"MP\": 1634, \"PER\": 20.6, \"TS%\": 0.558, \"3PAr\": 0.227, \"FTr\": 0.42, \"ORB%\": 2.4, \"DRB%\": 11.4, \"TRB%\": 6.8, \"AST%\": 35.3, \"STL%\": 2.2, \"BLK%\": 1.5, \"TOV%\": 14.1, \"USG%\": 2.0398766588237436, \"OWS\": 2.6, \"DWS\": 1.4, \"WS\": 4.0, \"WS/48\": 0.118, \"OBPM\": 2.3, \"DBPM\": -0.5, \"BPM\": 0.8599125966815243, \"VORP\": 1.6, \"pred\": 22, \"pred1\": 22, \"pred2\": 22, \"pred3\": 19, \"pred4\": 19, \"pred5\": 19, \"pred6\": 19, \"pred7\": 22, \"pred8\": 22, \"pred9\": 22}, {\"Player\": \"Melvin Frazier\", \"Pos\": \"SG\", \"Age\": 23, \"Tm\": \"ORL\", \"G\": 19, \"MP\": 126, \"PER\": 9.8, \"TS%\": 0.559, \"3PAr\": 0.471, \"FTr\": 0.118, \"ORB%\": 1.7, \"DRB%\": 7.1, \"TRB%\": 4.3, \"AST%\": 3.4, \"STL%\": 3.5, \"BLK%\": 1.4, \"TOV%\": 12.3, \"USG%\": -0.7655094621439216, \"OWS\": 0.0, \"DWS\": 0.2, \"WS\": 0.2, \"WS/48\": 0.057, \"OBPM\": -3.5, \"DBPM\": 1.2, \"BPM\": -0.12629146459233656, \"VORP\": 0.0, \"pred\": 23, \"pred1\": 23, \"pred2\": 23, \"pred3\": 23, \"pred4\": 24, \"pred5\": 24, \"pred6\": 24, \"pred7\": 24, \"pred8\": 24, \"pred9\": 24}, {\"Player\": \"Michael Frazier\", \"Pos\": \"SG\", \"Age\": 25, \"Tm\": \"HOU\", \"G\": 13, \"MP\": 145, \"PER\": -0.9, \"TS%\": 0.384, \"3PAr\": 0.793, \"FTr\": 0.483, \"ORB%\": 0.7, \"DRB%\": 6.6, \"TRB%\": 3.6, \"AST%\": 1.7, \"STL%\": 0.6, \"BLK%\": 0.0, \"TOV%\": 12.5, \"USG%\": -1.2093996711577926, \"OWS\": -0.2, \"DWS\": 0.1, \"WS\": -0.2, \"WS/48\": -0.06, \"OBPM\": -8.9, \"DBPM\": -2.1, \"BPM\": -2.2189683751002853, \"VORP\": -0.3, \"pred\": 27, \"pred1\": 27, \"pred2\": 24, \"pred3\": 24, \"pred4\": 34, \"pred5\": 34, \"pred6\": 34, \"pred7\": 24, \"pred8\": 24, \"pred9\": 24}, {\"Player\": \"Tim Frazier\", \"Pos\": \"PG\", \"Age\": 29, \"Tm\": \"DET\", \"G\": 27, \"MP\": 355, \"PER\": 9.8, \"TS%\": 0.464, \"3PAr\": 0.319, \"FTr\": 0.255, \"ORB%\": 2.8, \"DRB%\": 7.8, \"TRB%\": 5.3, \"AST%\": 36.5, \"STL%\": 1.9, \"BLK%\": 0.9, \"TOV%\": 25.6, \"USG%\": -0.17957438624561173, \"OWS\": -0.1, \"DWS\": 0.2, \"WS\": 0.1, \"WS/48\": 0.016, \"OBPM\": -3.0, \"DBPM\": -1.6, \"BPM\": -0.6795278892093805, \"VORP\": -0.2, \"pred\": 29, \"pred1\": 29, \"pred2\": 29, \"pred3\": 22, \"pred4\": 22, \"pred5\": 20, \"pred6\": 22, \"pred7\": 20, \"pred8\": 20, \"pred9\": 20}, {\"Player\": \"Markelle Fultz\", \"Pos\": \"PG\", \"Age\": 21, \"Tm\": \"ORL\", \"G\": 72, \"MP\": 1996, \"PER\": 14.3, \"TS%\": 0.517, \"3PAr\": 0.175, \"FTr\": 0.206, \"ORB%\": 2.1, \"DRB%\": 11.0, \"TRB%\": 6.4, \"AST%\": 29.0, \"STL%\": 2.2, \"BLK%\": 0.5, \"TOV%\": 14.9, \"USG%\": 0.5484055565371364, \"OWS\": 0.6, \"DWS\": 2.0, \"WS\": 2.7, \"WS/48\": 0.065, \"OBPM\": -1.8, \"DBPM\": 0.0, \"BPM\": -0.00602267663210966, \"VORP\": 0.1, \"pred\": 28, \"pred1\": 28, \"pred2\": 25, \"pred3\": 23, \"pred4\": 23, \"pred5\": 28, \"pred6\": 28, \"pred7\": 28, \"pred8\": 28, \"pred9\": 28}, {\"Player\": \"Wenyen Gabriel\", \"Pos\": \"PF\", \"Age\": 22, \"Tm\": \"TOT\", \"G\": 30, \"MP\": 235, \"PER\": 9.6, \"TS%\": 0.546, \"3PAr\": 0.417, \"FTr\": 0.458, \"ORB%\": 9.5, \"DRB%\": 13.9, \"TRB%\": 11.7, \"AST%\": 4.4, \"STL%\": 2.2, \"BLK%\": 2.6, \"TOV%\": 21.7, \"USG%\": -0.8720431123072506, \"OWS\": 0.0, \"DWS\": 0.2, \"WS\": 0.2, \"WS/48\": 0.048, \"OBPM\": -3.7, \"DBPM\": -0.1, \"BPM\": -0.4870978284730174, \"VORP\": -0.1, \"pred\": 22, \"pred1\": 22, \"pred2\": 22, \"pred3\": 22, \"pred4\": 22, \"pred5\": 22, \"pred6\": 22, \"pred7\": 22, \"pred8\": 22, \"pred9\": 22}, {\"Player\": \"Wenyen Gabriel\", \"Pos\": \"PF\", \"Age\": 22, \"Tm\": \"SAC\", \"G\": 11, \"MP\": 61, \"PER\": 7.4, \"TS%\": 0.444, \"3PAr\": 0.471, \"FTr\": 0.588, \"ORB%\": 7.2, \"DRB%\": 11.3, \"TRB%\": 9.2, \"AST%\": 6.6, \"STL%\": 2.4, \"BLK%\": 3.1, \"TOV%\": 18.9, \"USG%\": 0.0867597391627109, \"OWS\": -0.1, \"DWS\": 0.1, \"WS\": 0.0, \"WS/48\": -0.029, \"OBPM\": -4.4, \"DBPM\": 0.5, \"BPM\": -0.5352053436571083, \"VORP\": 0.0, \"pred\": 22, \"pred1\": 22, \"pred2\": 20, \"pred3\": 20, \"pred4\": 20, \"pred5\": 20, \"pred6\": 20, \"pred7\": 20, \"pred8\": 20, \"pred9\": 20}, {\"Player\": \"Wenyen Gabriel\", \"Pos\": \"PF\", \"Age\": 22, \"Tm\": \"POR\", \"G\": 19, \"MP\": 174, \"PER\": 10.3, \"TS%\": 0.606, \"3PAr\": 0.387, \"FTr\": 0.387, \"ORB%\": 10.3, \"DRB%\": 14.9, \"TRB%\": 12.6, \"AST%\": 3.6, \"STL%\": 2.2, \"BLK%\": 2.5, \"TOV%\": 23.3, \"USG%\": -1.2093996711577926, \"OWS\": 0.1, \"DWS\": 0.1, \"WS\": 0.3, \"WS/48\": 0.075, \"OBPM\": -3.5, \"DBPM\": -0.3, \"BPM\": -0.4870978284730174, \"VORP\": -0.1, \"pred\": 22, \"pred1\": 22, \"pred2\": 22, \"pred3\": 22, \"pred4\": 22, \"pred5\": 22, \"pred6\": 22, \"pred7\": 22, \"pred8\": 22, \"pred9\": 22}, {\"Player\": \"Daniel Gafford\", \"Pos\": \"C\", \"Age\": 21, \"Tm\": \"CHI\", \"G\": 43, \"MP\": 609, \"PER\": 16.2, \"TS%\": 0.686, \"3PAr\": 0.0, \"FTr\": 0.448, \"ORB%\": 9.0, \"DRB%\": 10.3, \"TRB%\": 9.6, \"AST%\": 5.2, \"STL%\": 1.0, \"BLK%\": 8.7, \"TOV%\": 15.3, \"USG%\": -0.8897987206678054, \"OWS\": 1.1, \"DWS\": 0.8, \"WS\": 1.9, \"WS/48\": 0.146, \"OBPM\": -2.8, \"DBPM\": 1.5, \"BPM\": 0.11424611132811728, \"VORP\": 0.1, \"pred\": 21, \"pred1\": 21, \"pred2\": 21, \"pred3\": 21, \"pred4\": 21, \"pred5\": 21, \"pred6\": 28, \"pred7\": 28, \"pred8\": 24, \"pred9\": 24}, {\"Player\": \"Danilo Gallinari\", \"Pos\": \"PF\", \"Age\": 31, \"Tm\": \"OKC\", \"G\": 62, \"MP\": 1834, \"PER\": 19.5, \"TS%\": 0.612, \"3PAr\": 0.537, \"FTr\": 0.365, \"ORB%\": 2.1, \"DRB%\": 16.8, \"TRB%\": 9.7, \"AST%\": 10.3, \"STL%\": 1.1, \"BLK%\": 0.2, \"TOV%\": 7.4, \"USG%\": 1.1165850240748918, \"OWS\": 4.5, \"DWS\": 1.9, \"WS\": 6.3, \"WS/48\": 0.166, \"OBPM\": 4.1, \"DBPM\": -0.9, \"BPM\": 1.220718960562205, \"VORP\": 2.4, \"pred\": 31, \"pred1\": 31, \"pred2\": 24, \"pred3\": 23, \"pred4\": 23, \"pred5\": 23, \"pred6\": 23, \"pred7\": 23, \"pred8\": 23, \"pred9\": 23}, {\"Player\": \"Langston Galloway\", \"Pos\": \"SG\", \"Age\": 28, \"Tm\": \"DET\", \"G\": 66, \"MP\": 1702, \"PER\": 12.3, \"TS%\": 0.584, \"3PAr\": 0.611, \"FTr\": 0.157, \"ORB%\": 2.2, \"DRB%\": 7.8, \"TRB%\": 5.0, \"AST%\": 8.8, \"STL%\": 1.4, \"BLK%\": 0.5, \"TOV%\": 6.5, \"USG%\": -0.42815290329337957, \"OWS\": 2.4, \"DWS\": 0.7, \"WS\": 3.1, \"WS/48\": 0.087, \"OBPM\": 0.0, \"DBPM\": -0.9, \"BPM\": 0.23451489928834424, \"VORP\": 0.5, \"pred\": 24, \"pred1\": 24, \"pred2\": 24, \"pred3\": 24, \"pred4\": 23, \"pred5\": 23, \"pred6\": 23, \"pred7\": 24, \"pred8\": 24, \"pred9\": 24}, {\"Player\": \"Darius Garland\", \"Pos\": \"PG\", \"Age\": 20, \"Tm\": \"CLE\", \"G\": 59, \"MP\": 1824, \"PER\": 8.5, \"TS%\": 0.498, \"3PAr\": 0.423, \"FTr\": 0.103, \"ORB%\": 1.6, \"DRB%\": 5.2, \"TRB%\": 3.4, \"AST%\": 18.5, \"STL%\": 1.1, \"BLK%\": 0.2, \"TOV%\": 17.1, \"USG%\": 0.4241162980132526, \"OWS\": -1.3, \"DWS\": 0.0, \"WS\": -1.3, \"WS/48\": -0.034, \"OBPM\": -2.7, \"DBPM\": -2.8, \"BPM\": -0.9200654651298343, \"VORP\": -1.7, \"pred\": 20, \"pred1\": 20, \"pred2\": 20, \"pred3\": 20, \"pred4\": 20, \"pred5\": 20, \"pred6\": 20, \"pred7\": 20, \"pred8\": 20, \"pred9\": 20}, {\"Player\": \"Marc Gasol\", \"Pos\": \"C\", \"Age\": 35, \"Tm\": \"TOR\", \"G\": 44, \"MP\": 1161, \"PER\": 11.8, \"TS%\": 0.551, \"3PAr\": 0.53, \"FTr\": 0.176, \"ORB%\": 2.9, \"DRB%\": 21.7, \"TRB%\": 12.5, \"AST%\": 17.3, \"STL%\": 1.4, \"BLK%\": 3.2, \"TOV%\": 16.4, \"USG%\": -0.9075543290283604, \"OWS\": 0.8, \"DWS\": 2.2, \"WS\": 3.0, \"WS/48\": 0.124, \"OBPM\": -1.2, \"DBPM\": 2.8, \"BPM\": 0.8118050814974337, \"VORP\": 1.1, \"pred\": 35, \"pred1\": 35, \"pred2\": 30, \"pred3\": 28, \"pred4\": 28, \"pred5\": 28, \"pred6\": 28, \"pred7\": 28, \"pred8\": 28, \"pred9\": 27}, {\"Player\": \"Rudy Gay\", \"Pos\": \"PF\", \"Age\": 33, \"Tm\": \"SAS\", \"G\": 67, \"MP\": 1461, \"PER\": 15.4, \"TS%\": 0.553, \"3PAr\": 0.369, \"FTr\": 0.228, \"ORB%\": 4.5, \"DRB%\": 22.2, \"TRB%\": 13.4, \"AST%\": 11.3, \"STL%\": 1.1, \"BLK%\": 2.0, \"TOV%\": 11.8, \"USG%\": 0.6549392067004657, \"OWS\": 0.9, \"DWS\": 1.1, \"WS\": 2.1, \"WS/48\": 0.068, \"OBPM\": 0.0, \"DBPM\": -0.9, \"BPM\": 0.23451489928834424, \"VORP\": 0.4, \"pred\": 33, \"pred1\": 33, \"pred2\": 24, \"pred3\": 24, \"pred4\": 24, \"pred5\": 24, \"pred6\": 24, \"pred7\": 24, \"pred8\": 24, \"pred9\": 24}, {\"Player\": \"Paul George\", \"Pos\": \"SF\", \"Age\": 29, \"Tm\": \"LAC\", \"G\": 48, \"MP\": 1419, \"PER\": 21.1, \"TS%\": 0.589, \"3PAr\": 0.487, \"FTr\": 0.277, \"ORB%\": 1.8, \"DRB%\": 17.7, \"TRB%\": 10.0, \"AST%\": 21.1, \"STL%\": 2.3, \"BLK%\": 1.2, \"TOV%\": 12.5, \"USG%\": 2.004365442102634, \"OWS\": 2.5, \"DWS\": 2.3, \"WS\": 4.8, \"WS/48\": 0.161, \"OBPM\": 3.8, \"DBPM\": 1.1, \"BPM\": 1.6055790820349314, \"VORP\": 2.5, \"pred\": 29, \"pred1\": 29, \"pred2\": 29, \"pred3\": 29, \"pred4\": 29, \"pred5\": 29, \"pred6\": 29, \"pred7\": 29, \"pred8\": 29, \"pred9\": 29}, {\"Player\": \"Taj Gibson\", \"Pos\": \"C\", \"Age\": 34, \"Tm\": \"NYK\", \"G\": 62, \"MP\": 1025, \"PER\": 16.1, \"TS%\": 0.61, \"3PAr\": 0.049, \"FTr\": 0.196, \"ORB%\": 11.2, \"DRB%\": 16.7, \"TRB%\": 13.9, \"AST%\": 7.6, \"STL%\": 1.3, \"BLK%\": 2.8, \"TOV%\": 13.1, \"USG%\": -0.6234645952594827, \"OWS\": 1.8, \"DWS\": 0.8, \"WS\": 2.6, \"WS/48\": 0.12, \"OBPM\": -0.8, \"DBPM\": -0.3, \"BPM\": 0.16235362651220805, \"VORP\": 0.2, \"pred\": 34, \"pred1\": 34, \"pred2\": 23, \"pred3\": 23, \"pred4\": 23, \"pred5\": 23, \"pred6\": 23, \"pred7\": 23, \"pred8\": 23, \"pred9\": 23}, {\"Player\": \"Harry Giles\", \"Pos\": \"PF\", \"Age\": 21, \"Tm\": \"SAC\", \"G\": 46, \"MP\": 667, \"PER\": 16.4, \"TS%\": 0.58, \"3PAr\": 0.008, \"FTr\": 0.195, \"ORB%\": 7.1, \"DRB%\": 25.1, \"TRB%\": 15.9, \"AST%\": 14.2, \"STL%\": 1.6, \"BLK%\": 2.6, \"TOV%\": 13.9, \"USG%\": 0.40636068965269817, \"OWS\": 0.8, \"DWS\": 0.8, \"WS\": 1.6, \"WS/48\": 0.112, \"OBPM\": -2.2, \"DBPM\": 0.9, \"BPM\": 0.11424611132811728, \"VORP\": 0.1, \"pred\": 21, \"pred1\": 21, \"pred2\": 21, \"pred3\": 21, \"pred4\": 21, \"pred5\": 21, \"pred6\": 21, \"pred7\": 27, \"pred8\": 27, \"pred9\": 24}, {\"Player\": \"Shai Gilgeous-Alexander\", \"Pos\": \"SG\", \"Age\": 21, \"Tm\": \"OKC\", \"G\": 70, \"MP\": 2428, \"PER\": 17.7, \"TS%\": 0.568, \"3PAr\": 0.247, \"FTr\": 0.352, \"ORB%\": 2.2, \"DRB%\": 16.1, \"TRB%\": 9.4, \"AST%\": 15.2, \"STL%\": 1.6, \"BLK%\": 1.7, \"TOV%\": 10.3, \"USG%\": 0.9567845488298978, \"OWS\": 3.1, \"DWS\": 3.0, \"WS\": 6.1, \"WS/48\": 0.121, \"OBPM\": 1.3, \"DBPM\": 0.4, \"BPM\": 0.8358588390894789, \"VORP\": 2.2, \"pred\": 22, \"pred1\": 22, \"pred2\": 22, \"pred3\": 22, \"pred4\": 22, \"pred5\": 22, \"pred6\": 22, \"pred7\": 22, \"pred8\": 22, \"pred9\": 22}, {\"Player\": \"Rudy Gobert\", \"Pos\": \"C\", \"Age\": 27, \"Tm\": \"UTA\", \"G\": 68, \"MP\": 2333, \"PER\": 21.7, \"TS%\": 0.699, \"3PAr\": 0.0, \"FTr\": 0.724, \"ORB%\": 11.2, \"DRB%\": 31.3, \"TRB%\": 21.6, \"AST%\": 6.5, \"STL%\": 1.1, \"BLK%\": 4.8, \"TOV%\": 15.0, \"USG%\": -0.3748860782117152, \"OWS\": 6.5, \"DWS\": 4.2, \"WS\": 10.7, \"WS/48\": 0.221, \"OBPM\": 1.7, \"DBPM\": 1.9, \"BPM\": 1.2928802333383413, \"VORP\": 3.3, \"pred\": 27, \"pred1\": 27, \"pred2\": 27, \"pred3\": 25, \"pred4\": 22, \"pred5\": 22, \"pred6\": 22, \"pred7\": 25, \"pred8\": 25, \"pred9\": 25}, {\"Player\": \"Brandon Goodwin\", \"Pos\": \"PG\", \"Age\": 24, \"Tm\": \"ATL\", \"G\": 34, \"MP\": 430, \"PER\": 11.6, \"TS%\": 0.507, \"3PAr\": 0.458, \"FTr\": 0.158, \"ORB%\": 2.7, \"DRB%\": 15.5, \"TRB%\": 9.0, \"AST%\": 18.0, \"STL%\": 1.3, \"BLK%\": 0.8, \"TOV%\": 12.5, \"USG%\": 0.7259616401426848, \"OWS\": -0.1, \"DWS\": 0.2, \"WS\": 0.1, \"WS/48\": 0.013, \"OBPM\": -1.6, \"DBPM\": -1.3, \"BPM\": -0.2706140101446089, \"VORP\": -0.1, \"pred\": 24, \"pred1\": 24, \"pred2\": 23, \"pred3\": 23, \"pred4\": 21, \"pred5\": 23, \"pred6\": 23, \"pred7\": 23, \"pred8\": 23, \"pred9\": 23}, {\"Player\": \"Aaron Gordon\", \"Pos\": \"PF\", \"Age\": 24, \"Tm\": \"ORL\", \"G\": 62, \"MP\": 2017, \"PER\": 15.1, \"TS%\": 0.516, \"3PAr\": 0.309, \"FTr\": 0.292, \"ORB%\": 5.5, \"DRB%\": 20.3, \"TRB%\": 12.7, \"AST%\": 17.4, \"STL%\": 1.2, \"BLK%\": 1.7, \"TOV%\": 10.4, \"USG%\": 0.4241162980132526, \"OWS\": 1.4, \"DWS\": 2.3, \"WS\": 3.7, \"WS/48\": 0.087, \"OBPM\": -0.1, \"DBPM\": 0.1, \"BPM\": 0.42694496002470733, \"VORP\": 1.0, \"pred\": 24, \"pred1\": 24, \"pred2\": 24, \"pred3\": 24, \"pred4\": 23, \"pred5\": 23, \"pred6\": 23, \"pred7\": 27, \"pred8\": 27, \"pred9\": 27}, {\"Player\": \"Eric Gordon\", \"Pos\": \"SF\", \"Age\": 31, \"Tm\": \"HOU\", \"G\": 36, \"MP\": 1016, \"PER\": 10.3, \"TS%\": 0.51, \"3PAr\": 0.654, \"FTr\": 0.231, \"ORB%\": 0.9, \"DRB%\": 6.5, \"TRB%\": 3.7, \"AST%\": 7.9, \"STL%\": 1.0, \"BLK%\": 1.1, \"TOV%\": 7.8, \"USG%\": 0.74371724850324, \"OWS\": -0.1, \"DWS\": 0.6, \"WS\": 0.5, \"WS/48\": 0.024, \"OBPM\": -1.8, \"DBPM\": -2.1, \"BPM\": -0.5111515860650627, \"VORP\": -0.5, \"pred\": 21, \"pred1\": 21, \"pred2\": 21, \"pred3\": 21, \"pred4\": 21, \"pred5\": 21, \"pred6\": 19, \"pred7\": 19, \"pred8\": 19, \"pred9\": 23}, {\"Player\": \"Devonte' Graham\", \"Pos\": \"PG\", \"Age\": 24, \"Tm\": \"CHO\", \"G\": 63, \"MP\": 2211, \"PER\": 15.8, \"TS%\": 0.537, \"3PAr\": 0.607, \"FTr\": 0.242, \"ORB%\": 2.0, \"DRB%\": 8.7, \"TRB%\": 5.2, \"AST%\": 35.3, \"STL%\": 1.4, \"BLK%\": 0.6, \"TOV%\": 14.5, \"USG%\": 1.1520962407960014, \"OWS\": 2.4, \"DWS\": 0.9, \"WS\": 3.4, \"WS/48\": 0.073, \"OBPM\": 2.5, \"DBPM\": -2.1, \"BPM\": 0.5472137479849343, \"VORP\": 1.4, \"pred\": 24, \"pred1\": 24, \"pred2\": 23, \"pred3\": 23, \"pred4\": 20, \"pred5\": 20, \"pred6\": 30, \"pred7\": 30, \"pred8\": 30, \"pred9\": 30}, {\"Player\": \"Treveon Graham\", \"Pos\": \"SG\", \"Age\": 26, \"Tm\": \"TOT\", \"G\": 55, \"MP\": 929, \"PER\": 6.6, \"TS%\": 0.456, \"3PAr\": 0.496, \"FTr\": 0.231, \"ORB%\": 5.7, \"DRB%\": 11.7, \"TRB%\": 8.6, \"AST%\": 6.6, \"STL%\": 1.2, \"BLK%\": 0.5, \"TOV%\": 9.8, \"USG%\": -0.9253099373889152, \"OWS\": -0.2, \"DWS\": 0.4, \"WS\": 0.2, \"WS/48\": 0.009, \"OBPM\": -4.5, \"DBPM\": -1.0, \"BPM\": -0.9200654651298343, \"VORP\": -0.8, \"pred\": 26, \"pred1\": 26, \"pred2\": 22, \"pred3\": 26, \"pred4\": 22, \"pred5\": 26, \"pred6\": 26, \"pred7\": 26, \"pred8\": 26, \"pred9\": 26}, {\"Player\": \"Treveon Graham\", \"Pos\": \"SG\", \"Age\": 26, \"Tm\": \"MIN\", \"G\": 33, \"MP\": 663, \"PER\": 6.0, \"TS%\": 0.447, \"3PAr\": 0.474, \"FTr\": 0.211, \"ORB%\": 4.5, \"DRB%\": 11.7, \"TRB%\": 8.0, \"AST%\": 6.1, \"STL%\": 1.2, \"BLK%\": 0.3, \"TOV%\": 9.0, \"USG%\": -0.9253099373889152, \"OWS\": -0.3, \"DWS\": 0.3, \"WS\": 0.1, \"WS/48\": 0.004, \"OBPM\": -5.0, \"DBPM\": -0.8, \"BPM\": -0.9681729803139252, \"VORP\": -0.6, \"pred\": 26, \"pred1\": 26, \"pred2\": 26, \"pred3\": 26, \"pred4\": 26, \"pred5\": 26, \"pred6\": 22, \"pred7\": 22, \"pred8\": 22, \"pred9\": 26}, {\"Player\": \"Treveon Graham\", \"Pos\": \"SG\", \"Age\": 26, \"Tm\": \"ATL\", \"G\": 22, \"MP\": 266, \"PER\": 8.0, \"TS%\": 0.478, \"3PAr\": 0.552, \"FTr\": 0.284, \"ORB%\": 8.8, \"DRB%\": 11.5, \"TRB%\": 10.1, \"AST%\": 7.6, \"STL%\": 1.2, \"BLK%\": 1.3, \"TOV%\": 11.7, \"USG%\": -0.8897987206678054, \"OWS\": 0.0, \"DWS\": 0.1, \"WS\": 0.1, \"WS/48\": 0.022, \"OBPM\": -3.3, \"DBPM\": -1.7, \"BPM\": -0.7516891619855168, \"VORP\": -0.2, \"pred\": 26, \"pred1\": 26, \"pred2\": 26, \"pred3\": 26, \"pred4\": 26, \"pred5\": 26, \"pred6\": 26, \"pred7\": 26, \"pred8\": 26, \"pred9\": 26}, {\"Player\": \"Jerami Grant\", \"Pos\": \"PF\", \"Age\": 25, \"Tm\": \"DEN\", \"G\": 71, \"MP\": 1892, \"PER\": 14.4, \"TS%\": 0.591, \"3PAr\": 0.397, \"FTr\": 0.309, \"ORB%\": 3.4, \"DRB%\": 11.2, \"TRB%\": 7.3, \"AST%\": 6.6, \"STL%\": 1.3, \"BLK%\": 2.8, \"TOV%\": 8.0, \"USG%\": -0.05528512772172796, \"OWS\": 2.8, \"DWS\": 1.6, \"WS\": 4.4, \"WS/48\": 0.111, \"OBPM\": 0.1, \"DBPM\": -0.6, \"BPM\": 0.3066761720644804, \"VORP\": 0.7, \"pred\": 25, \"pred1\": 25, \"pred2\": 25, \"pred3\": 25, \"pred4\": 25, \"pred5\": 25, \"pred6\": 25, \"pred7\": 25, \"pred8\": 25, \"pred9\": 24}, {\"Player\": \"Jerian Grant\", \"Pos\": \"PG\", \"Age\": 27, \"Tm\": \"WAS\", \"G\": 6, \"MP\": 80, \"PER\": 6.6, \"TS%\": 0.449, \"3PAr\": 0.296, \"FTr\": 0.259, \"ORB%\": 2.6, \"DRB%\": 5.7, \"TRB%\": 4.1, \"AST%\": 15.3, \"STL%\": 0.6, \"BLK%\": 1.1, \"TOV%\": 9.1, \"USG%\": -0.19732999460616682, \"OWS\": 0.0, \"DWS\": 0.0, \"WS\": 0.0, \"WS/48\": -0.018, \"OBPM\": -4.8, \"DBPM\": -2.0, \"BPM\": -1.2087105562343792, \"VORP\": -0.1, \"pred\": 22, \"pred1\": 22, \"pred2\": 22, \"pred3\": 22, \"pred4\": 22, \"pred5\": 22, \"pred6\": 22, \"pred7\": 22, \"pred8\": 22, \"pred9\": 22}, {\"Player\": \"Josh Gray\", \"Pos\": \"PG\", \"Age\": 26, \"Tm\": \"NOP\", \"G\": 2, \"MP\": 23, \"PER\": -5.0, \"TS%\": 0.5, \"3PAr\": 0.0, \"FTr\": 0.0, \"ORB%\": 4.6, \"DRB%\": 4.6, \"TRB%\": 4.6, \"AST%\": 10.4, \"STL%\": 0.0, \"BLK%\": 0.0, \"TOV%\": 71.4, \"USG%\": -1.0318435875522443, \"OWS\": -0.1, \"DWS\": 0.0, \"WS\": -0.1, \"WS/48\": -0.226, \"OBPM\": -11.3, \"DBPM\": -4.7, \"BPM\": -3.421656254702555, \"VORP\": -0.1, \"pred\": 26, \"pred1\": 26, \"pred2\": 22, \"pred3\": 22, \"pred4\": 22, \"pred5\": 26, \"pred6\": 24, \"pred7\": 24, \"pred8\": 22, \"pred9\": 22}, {\"Player\": \"Danny Green\", \"Pos\": \"SG\", \"Age\": 32, \"Tm\": \"LAL\", \"G\": 68, \"MP\": 1687, \"PER\": 10.8, \"TS%\": 0.552, \"3PAr\": 0.69, \"FTr\": 0.101, \"ORB%\": 3.3, \"DRB%\": 11.2, \"TRB%\": 7.3, \"AST%\": 7.1, \"STL%\": 2.4, \"BLK%\": 1.7, \"TOV%\": 11.3, \"USG%\": -0.7832650705044764, \"OWS\": 0.8, \"DWS\": 2.5, \"WS\": 3.4, \"WS/48\": 0.096, \"OBPM\": -1.1, \"DBPM\": 1.5, \"BPM\": 0.5472137479849343, \"VORP\": 1.1, \"pred\": 32, \"pred1\": 32, \"pred2\": 28, \"pred3\": 26, \"pred4\": 26, \"pred5\": 26, \"pred6\": 26, \"pred7\": 26, \"pred8\": 26, \"pred9\": 26}, {\"Player\": \"Draymond Green\", \"Pos\": \"PF\", \"Age\": 29, \"Tm\": \"GSW\", \"G\": 43, \"MP\": 1222, \"PER\": 12.5, \"TS%\": 0.489, \"3PAr\": 0.408, \"FTr\": 0.263, \"ORB%\": 2.0, \"DRB%\": 22.3, \"TRB%\": 11.8, \"AST%\": 31.2, \"STL%\": 2.3, \"BLK%\": 2.4, \"TOV%\": 21.8, \"USG%\": -0.4636641200144894, \"OWS\": -0.2, \"DWS\": 1.3, \"WS\": 1.1, \"WS/48\": 0.044, \"OBPM\": -2.1, \"DBPM\": 1.9, \"BPM\": 0.3788374448406166, \"VORP\": 0.6, \"pred\": 29, \"pred1\": 29, \"pred2\": 29, \"pred3\": 29, \"pred4\": 29, \"pred5\": 29, \"pred6\": 29, \"pred7\": 29, \"pred8\": 29, \"pred9\": 23}, {\"Player\": \"JaMychal Green\", \"Pos\": \"PF\", \"Age\": 29, \"Tm\": \"LAC\", \"G\": 63, \"MP\": 1307, \"PER\": 11.1, \"TS%\": 0.576, \"3PAr\": 0.676, \"FTr\": 0.136, \"ORB%\": 6.3, \"DRB%\": 24.1, \"TRB%\": 15.4, \"AST%\": 5.0, \"STL%\": 1.0, \"BLK%\": 1.6, \"TOV%\": 12.6, \"USG%\": -0.8187762872255863, \"OWS\": 1.1, \"DWS\": 2.0, \"WS\": 3.1, \"WS/48\": 0.115, \"OBPM\": -1.2, \"DBPM\": 0.7, \"BPM\": 0.3066761720644804, \"VORP\": 0.5, \"pred\": 29, \"pred1\": 29, \"pred2\": 26, \"pred3\": 25, \"pred4\": 24, \"pred5\": 24, \"pred6\": 24, \"pred7\": 24, \"pred8\": 24, \"pred9\": 24}, {\"Player\": \"Javonte Green\", \"Pos\": \"SF\", \"Age\": 26, \"Tm\": \"BOS\", \"G\": 48, \"MP\": 468, \"PER\": 13.1, \"TS%\": 0.564, \"3PAr\": 0.262, \"FTr\": 0.333, \"ORB%\": 5.6, \"DRB%\": 15.6, \"TRB%\": 10.6, \"AST%\": 7.7, \"STL%\": 2.5, \"BLK%\": 1.6, \"TOV%\": 13.7, \"USG%\": -0.5346865534567086, \"OWS\": 0.4, \"DWS\": 0.8, \"WS\": 1.1, \"WS/48\": 0.113, \"OBPM\": -2.1, \"DBPM\": 1.4, \"BPM\": 0.25856865688038966, \"VORP\": 0.2, \"pred\": 30, \"pred1\": 30, \"pred2\": 20, \"pred3\": 20, \"pred4\": 20, \"pred5\": 20, \"pred6\": 19, \"pred7\": 19, \"pred8\": 19, \"pred9\": 19}, {\"Player\": \"Jeff Green\", \"Pos\": \"PF-C\", \"Age\": 33, \"Tm\": \"TOT\", \"G\": 48, \"MP\": 960, \"PER\": 13.7, \"TS%\": 0.59, \"3PAr\": 0.532, \"FTr\": 0.265, \"ORB%\": 2.7, \"DRB%\": 12.0, \"TRB%\": 7.5, \"AST%\": 7.9, \"STL%\": 1.3, \"BLK%\": 1.7, \"TOV%\": 9.9, \"USG%\": 0.12227095588382046, \"OWS\": 1.2, \"DWS\": 0.9, \"WS\": 2.1, \"WS/48\": 0.104, \"OBPM\": 0.0, \"DBPM\": -0.1, \"BPM\": 0.4028912024326619, \"VORP\": 0.5, \"pred\": 33, \"pred1\": 33, \"pred2\": 29, \"pred3\": 29, \"pred4\": 26, \"pred5\": 26, \"pred6\": 26, \"pred7\": 28, \"pred8\": 27, \"pred9\": 28}, {\"Player\": \"Jeff Green\", \"Pos\": \"PF\", \"Age\": 33, \"Tm\": \"UTA\", \"G\": 30, \"MP\": 553, \"PER\": 10.0, \"TS%\": 0.523, \"3PAr\": 0.533, \"FTr\": 0.323, \"ORB%\": 2.9, \"DRB%\": 12.9, \"TRB%\": 8.1, \"AST%\": 5.2, \"STL%\": 1.1, \"BLK%\": 1.5, \"TOV%\": 10.8, \"USG%\": 0.24656021440770423, \"OWS\": 0.0, \"DWS\": 0.5, \"WS\": 0.5, \"WS/48\": 0.046, \"OBPM\": -1.9, \"DBPM\": -0.2, \"BPM\": -0.07818394940824584, \"VORP\": 0.0, \"pred\": 19, \"pred1\": 19, \"pred2\": 19, \"pred3\": 19, \"pred4\": 19, \"pred5\": 19, \"pred6\": 19, \"pred7\": 19, \"pred8\": 19, \"pred9\": 19}, {\"Player\": \"Jeff Green\", \"Pos\": \"C\", \"Age\": 33, \"Tm\": \"HOU\", \"G\": 18, \"MP\": 407, \"PER\": 18.6, \"TS%\": 0.682, \"3PAr\": 0.53, \"FTr\": 0.188, \"ORB%\": 2.6, \"DRB%\": 10.9, \"TRB%\": 6.7, \"AST%\": 11.5, \"STL%\": 1.6, \"BLK%\": 1.9, \"TOV%\": 8.5, \"USG%\": -0.07304073608228305, \"OWS\": 1.2, \"DWS\": 0.4, \"WS\": 1.5, \"WS/48\": 0.183, \"OBPM\": 2.5, \"DBPM\": 0.1, \"BPM\": 1.0523426574178876, \"VORP\": 0.5, \"pred\": 33, \"pred1\": 33, \"pred2\": 26, \"pred3\": 22, \"pred4\": 33, \"pred5\": 26, \"pred6\": 26, \"pred7\": 26, \"pred8\": 22, \"pred9\": 22}, {\"Player\": \"Blake Griffin\", \"Pos\": \"PF\", \"Age\": 30, \"Tm\": \"DET\", \"G\": 18, \"MP\": 512, \"PER\": 11.9, \"TS%\": 0.476, \"3PAr\": 0.444, \"FTr\": 0.392, \"ORB%\": 3.7, \"DRB%\": 15.0, \"TRB%\": 9.3, \"AST%\": 18.0, \"STL%\": 0.7, \"BLK%\": 1.1, \"TOV%\": 12.0, \"USG%\": 1.7912981417759752, \"OWS\": -0.4, \"DWS\": 0.3, \"WS\": -0.1, \"WS/48\": -0.012, \"OBPM\": -1.7, \"DBPM\": -2.6, \"BPM\": -0.6073666164332444, \"VORP\": -0.3, \"pred\": 30, \"pred1\": 30, \"pred2\": 27, \"pred3\": 20, \"pred4\": 20, \"pred5\": 20, \"pred6\": 30, \"pred7\": 30, \"pred8\": 30, \"pred9\": 21}, {\"Player\": \"Marko Guduric\", \"Pos\": \"SG\", \"Age\": 24, \"Tm\": \"MEM\", \"G\": 44, \"MP\": 484, \"PER\": 8.8, \"TS%\": 0.514, \"3PAr\": 0.529, \"FTr\": 0.166, \"ORB%\": 3.1, \"DRB%\": 12.6, \"TRB%\": 7.9, \"AST%\": 12.3, \"STL%\": 1.2, \"BLK%\": 1.4, \"TOV%\": 17.6, \"USG%\": -0.12630756116394706, \"OWS\": -0.3, \"DWS\": 0.4, \"WS\": 0.1, \"WS/48\": 0.014, \"OBPM\": -2.7, \"DBPM\": -0.7, \"BPM\": -0.39088279810483584, \"VORP\": -0.2, \"pred\": 23, \"pred1\": 23, \"pred2\": 23, \"pred3\": 23, \"pred4\": 23, \"pred5\": 22, \"pred6\": 22, \"pred7\": 22, \"pred8\": 22, \"pred9\": 22}, {\"Player\": \"Kyle Guy\", \"Pos\": \"SG\", \"Age\": 22, \"Tm\": \"SAC\", \"G\": 3, \"MP\": 10, \"PER\": 6.6, \"TS%\": 0.4, \"3PAr\": 0.6, \"FTr\": 0.0, \"ORB%\": 0.0, \"DRB%\": 11.5, \"TRB%\": 5.6, \"AST%\": 15.6, \"STL%\": 0.0, \"BLK%\": 0.0, \"TOV%\": 0.0, \"USG%\": 0.601672381618801, \"OWS\": 0.0, \"DWS\": 0.0, \"WS\": 0.0, \"WS/48\": -0.045, \"OBPM\": -7.5, \"DBPM\": -4.8, \"BPM\": -2.531667223796876, \"VORP\": 0.0, \"pred\": 22, \"pred1\": 22, \"pred2\": 22, \"pred3\": 22, \"pred4\": 22, \"pred5\": 22, \"pred6\": 22, \"pred7\": 22, \"pred8\": 22, \"pred9\": 22}, {\"Player\": \"Rui Hachimura\", \"Pos\": \"PF\", \"Age\": 21, \"Tm\": \"WAS\", \"G\": 48, \"MP\": 1444, \"PER\": 13.5, \"TS%\": 0.535, \"3PAr\": 0.16, \"FTr\": 0.257, \"ORB%\": 5.7, \"DRB%\": 17.0, \"TRB%\": 11.1, \"AST%\": 8.8, \"STL%\": 1.2, \"BLK%\": 0.5, \"TOV%\": 8.0, \"USG%\": 0.12227095588382046, \"OWS\": 1.3, \"DWS\": 0.5, \"WS\": 1.8, \"WS/48\": 0.06, \"OBPM\": -1.2, \"DBPM\": -2.0, \"BPM\": -0.3427752829207451, \"VORP\": -0.4, \"pred\": 21, \"pred1\": 21, \"pred2\": 21, \"pred3\": 21, \"pred4\": 21, \"pred5\": 21, \"pred6\": 21, \"pred7\": 21, \"pred8\": 21, \"pred9\": 21}, {\"Player\": \"Devon Hall\", \"Pos\": \"SG\", \"Age\": 24, \"Tm\": \"OKC\", \"G\": 11, \"MP\": 81, \"PER\": 3.1, \"TS%\": 0.298, \"3PAr\": 0.567, \"FTr\": 0.267, \"ORB%\": 2.8, \"DRB%\": 6.6, \"TRB%\": 4.8, \"AST%\": 21.3, \"STL%\": 2.4, \"BLK%\": 1.1, \"TOV%\": 13.0, \"USG%\": 0.4596275147343622, \"OWS\": -0.3, \"DWS\": 0.1, \"WS\": -0.2, \"WS/48\": -0.116, \"OBPM\": -5.8, \"DBPM\": -0.6, \"BPM\": -1.1124955258661977, \"VORP\": -0.1, \"pred\": 24, \"pred1\": 24, \"pred2\": 20, \"pred3\": 20, \"pred4\": 20, \"pred5\": 20, \"pred6\": 20, \"pred7\": 20, \"pred8\": 20, \"pred9\": 20}, {\"Player\": \"Donta Hall\", \"Pos\": \"PF\", \"Age\": 22, \"Tm\": \"TOT\", \"G\": 9, \"MP\": 133, \"PER\": 13.6, \"TS%\": 0.652, \"3PAr\": 0.0, \"FTr\": 0.818, \"ORB%\": 11.4, \"DRB%\": 19.2, \"TRB%\": 15.4, \"AST%\": 4.2, \"STL%\": 1.1, \"BLK%\": 3.8, \"TOV%\": 14.3, \"USG%\": -1.2804221046000122, \"OWS\": 0.2, \"DWS\": 0.2, \"WS\": 0.4, \"WS/48\": 0.137, \"OBPM\": -3.4, \"DBPM\": -0.3, \"BPM\": -0.46304407088097205, \"VORP\": -0.1, \"pred\": 22, \"pred1\": 22, \"pred2\": 22, \"pred3\": 22, \"pred4\": 22, \"pred5\": 22, \"pred6\": 22, \"pred7\": 22, \"pred8\": 22, \"pred9\": 22}, {\"Player\": \"Donta Hall\", \"Pos\": \"PF\", \"Age\": 22, \"Tm\": \"DET\", \"G\": 4, \"MP\": 48, \"PER\": 7.3, \"TS%\": 0.452, \"3PAr\": 0.0, \"FTr\": 1.5, \"ORB%\": 14.0, \"DRB%\": 21.6, \"TRB%\": 17.7, \"AST%\": 5.3, \"STL%\": 1.0, \"BLK%\": 1.7, \"TOV%\": 23.1, \"USG%\": -1.8486015721377669, \"OWS\": 0.0, \"DWS\": 0.0, \"WS\": 0.1, \"WS/48\": 0.067, \"OBPM\": -5.7, \"DBPM\": -1.3, \"BPM\": -1.2568180714184698, \"VORP\": -0.1, \"pred\": 22, \"pred1\": 22, \"pred2\": 22, \"pred3\": 26, \"pred4\": 26, \"pred5\": 26, \"pred6\": 26, \"pred7\": 22, \"pred8\": 22, \"pred9\": 22}, {\"Player\": \"Donta Hall\", \"Pos\": \"PF\", \"Age\": 22, \"Tm\": \"BRK\", \"G\": 5, \"MP\": 85, \"PER\": 17.2, \"TS%\": 0.709, \"3PAr\": 0.0, \"FTr\": 0.667, \"ORB%\": 9.9, \"DRB%\": 17.9, \"TRB%\": 14.0, \"AST%\": 3.5, \"STL%\": 1.1, \"BLK%\": 4.9, \"TOV%\": 11.4, \"USG%\": -0.9608211541100248, \"OWS\": 0.2, \"DWS\": 0.1, \"WS\": 0.3, \"WS/48\": 0.177, \"OBPM\": -2.1, \"DBPM\": 0.3, \"BPM\": -0.00602267663210966, \"VORP\": 0.0, \"pred\": 22, \"pred1\": 22, \"pred2\": 22, \"pred3\": 22, \"pred4\": 22, \"pred5\": 22, \"pred6\": 22, \"pred7\": 22, \"pred8\": 28, \"pred9\": 22}, {\"Player\": \"Dusty Hannahs\", \"Pos\": \"SG\", \"Age\": 26, \"Tm\": \"MEM\", \"G\": 2, \"MP\": 13, \"PER\": 21.3, \"TS%\": 0.607, \"3PAr\": 0.333, \"FTr\": 0.222, \"ORB%\": 0.0, \"DRB%\": 8.0, \"TRB%\": 4.1, \"AST%\": 0.0, \"STL%\": 0.0, \"BLK%\": 0.0, \"TOV%\": 0.0, \"USG%\": 2.3594776093137306, \"OWS\": 0.0, \"DWS\": 0.0, \"WS\": 0.0, \"WS/48\": 0.146, \"OBPM\": 5.1, \"DBPM\": -2.1, \"BPM\": 1.1726114453781145, \"VORP\": 0.0, \"pred\": 26, \"pred1\": 26, \"pred2\": 26, \"pred3\": 19, \"pred4\": 19, \"pred5\": 19, \"pred6\": 31, \"pred7\": 31, \"pred8\": 31, \"pred9\": 26}, {\"Player\": \"Tim Hardaway Jr.\", \"Pos\": \"SG\", \"Age\": 27, \"Tm\": \"DAL\", \"G\": 71, \"MP\": 2091, \"PER\": 14.5, \"TS%\": 0.581, \"3PAr\": 0.58, \"FTr\": 0.206, \"ORB%\": 1.3, \"DRB%\": 10.2, \"TRB%\": 5.8, \"AST%\": 9.7, \"STL%\": 0.9, \"BLK%\": 0.2, \"TOV%\": 6.7, \"USG%\": 0.4951387314554724, \"OWS\": 3.4, \"DWS\": 1.1, \"WS\": 4.4, \"WS/48\": 0.102, \"OBPM\": 1.2, \"DBPM\": -1.4, \"BPM\": 0.4028912024326619, \"VORP\": 1.0, \"pred\": 27, \"pred1\": 27, \"pred2\": 24, \"pred3\": 27, \"pred4\": 27, \"pred5\": 24, \"pred6\": 24, \"pred7\": 24, \"pred8\": 27, \"pred9\": 27}, {\"Player\": \"James Harden\", \"Pos\": \"SG\", \"Age\": 30, \"Tm\": \"HOU\", \"G\": 68, \"MP\": 2483, \"PER\": 29.1, \"TS%\": 0.626, \"3PAr\": 0.557, \"FTr\": 0.528, \"ORB%\": 2.9, \"DRB%\": 16.0, \"TRB%\": 9.4, \"AST%\": 35.9, \"STL%\": 2.3, \"BLK%\": 2.1, \"TOV%\": 14.2, \"USG%\": 3.1939912022598076, \"OWS\": 9.9, \"DWS\": 3.2, \"WS\": 13.1, \"WS/48\": 0.254, \"OBPM\": 8.1, \"DBPM\": 1.6, \"BPM\": 2.7361056888610644, \"VORP\": 7.3, \"pred\": 30, \"pred1\": 30, \"pred2\": 25, \"pred3\": 25, \"pred4\": 25, \"pred5\": 25, \"pred6\": 25, \"pred7\": 25, \"pred8\": 25, \"pred9\": 25}, {\"Player\": \"Maurice Harkless\", \"Pos\": \"SF\", \"Age\": 26, \"Tm\": \"TOT\", \"G\": 62, \"MP\": 1427, \"PER\": 9.8, \"TS%\": 0.572, \"3PAr\": 0.346, \"FTr\": 0.233, \"ORB%\": 4.1, \"DRB%\": 13.3, \"TRB%\": 8.8, \"AST%\": 6.4, \"STL%\": 1.9, \"BLK%\": 2.1, \"TOV%\": 14.5, \"USG%\": -1.3514445380422315, \"OWS\": 0.8, \"DWS\": 1.9, \"WS\": 2.7, \"WS/48\": 0.09, \"OBPM\": -2.6, \"DBPM\": 1.9, \"BPM\": 0.25856865688038966, \"VORP\": 0.5, \"pred\": 26, \"pred1\": 26, \"pred2\": 22, \"pred3\": 22, \"pred4\": 34, \"pred5\": 34, \"pred6\": 34, \"pred7\": 34, \"pred8\": 34, \"pred9\": 34}, {\"Player\": \"Maurice Harkless\", \"Pos\": \"SF\", \"Age\": 26, \"Tm\": \"LAC\", \"G\": 50, \"MP\": 1141, \"PER\": 9.7, \"TS%\": 0.584, \"3PAr\": 0.336, \"FTr\": 0.194, \"ORB%\": 4.4, \"DRB%\": 13.6, \"TRB%\": 9.1, \"AST%\": 5.5, \"STL%\": 2.0, \"BLK%\": 2.3, \"TOV%\": 16.3, \"USG%\": -1.4224669714844507, \"OWS\": 0.5, \"DWS\": 1.7, \"WS\": 2.3, \"WS/48\": 0.095, \"OBPM\": -2.5, \"DBPM\": 2.4, \"BPM\": 0.42694496002470733, \"VORP\": 0.6, \"pred\": 22, \"pred1\": 22, \"pred2\": 22, \"pred3\": 22, \"pred4\": 22, \"pred5\": 22, \"pred6\": 22, \"pred7\": 22, \"pred8\": 22, \"pred9\": 22}, {\"Player\": \"Maurice Harkless\", \"Pos\": \"SF\", \"Age\": 26, \"Tm\": \"NYK\", \"G\": 12, \"MP\": 286, \"PER\": 10.1, \"TS%\": 0.536, \"3PAr\": 0.379, \"FTr\": 0.364, \"ORB%\": 2.9, \"DRB%\": 12.3, \"TRB%\": 7.5, \"AST%\": 9.7, \"STL%\": 1.5, \"BLK%\": 1.0, \"TOV%\": 8.4, \"USG%\": -1.049599195912799, \"OWS\": 0.2, \"DWS\": 0.2, \"WS\": 0.4, \"WS/48\": 0.069, \"OBPM\": -3.2, \"DBPM\": -0.3, \"BPM\": -0.41493655569688126, \"VORP\": -0.1, \"pred\": 26, \"pred1\": 26, \"pred2\": 26, \"pred3\": 26, \"pred4\": 26, \"pred5\": 26, \"pred6\": 22, \"pred7\": 22, \"pred8\": 22, \"pred9\": 22}, {\"Player\": \"Jared Harper\", \"Pos\": \"PG\", \"Age\": 22, \"Tm\": \"PHO\", \"G\": 3, \"MP\": 8, \"PER\": -5.3, \"TS%\": 0.25, \"3PAr\": 0.5, \"FTr\": 0.0, \"ORB%\": 0.0, \"DRB%\": 0.0, \"TRB%\": 0.0, \"AST%\": 0.0, \"STL%\": 0.0, \"BLK%\": 0.0, \"TOV%\": 0.0, \"USG%\": 0.530649948176582, \"OWS\": 0.0, \"DWS\": 0.0, \"WS\": 0.0, \"WS/48\": -0.249, \"OBPM\": -10.1, \"DBPM\": -5.6, \"BPM\": -3.3494949819264184, \"VORP\": 0.0, \"pred\": 26, \"pred1\": 26, \"pred2\": 22, \"pred3\": 22, \"pred4\": 22, \"pred5\": 22, \"pred6\": 22, \"pred7\": 22, \"pred8\": 22, \"pred9\": 22}, {\"Player\": \"Montrezl Harrell\", \"Pos\": \"C\", \"Age\": 26, \"Tm\": \"LAC\", \"G\": 63, \"MP\": 1749, \"PER\": 23.2, \"TS%\": 0.607, \"3PAr\": 0.022, \"FTr\": 0.432, \"ORB%\": 9.9, \"DRB%\": 16.3, \"TRB%\": 13.2, \"AST%\": 10.3, \"STL%\": 1.1, \"BLK%\": 3.6, \"TOV%\": 10.1, \"USG%\": 1.3118967160409947, \"OWS\": 4.4, \"DWS\": 2.5, \"WS\": 7.0, \"WS/48\": 0.191, \"OBPM\": 2.5, \"DBPM\": 0.5, \"BPM\": 1.1245039301940236, \"VORP\": 2.2, \"pred\": 27, \"pred1\": 27, \"pred2\": 27, \"pred3\": 27, \"pred4\": 27, \"pred5\": 27, \"pred6\": 27, \"pred7\": 27, \"pred8\": 24, \"pred9\": 24}, {\"Player\": \"Gary Harris\", \"Pos\": \"SG\", \"Age\": 25, \"Tm\": \"DEN\", \"G\": 56, \"MP\": 1780, \"PER\": 9.7, \"TS%\": 0.519, \"3PAr\": 0.405, \"FTr\": 0.177, \"ORB%\": 1.6, \"DRB%\": 8.6, \"TRB%\": 5.1, \"AST%\": 8.9, \"STL%\": 2.1, \"BLK%\": 0.7, \"TOV%\": 9.7, \"USG%\": -0.5701977701778184, \"OWS\": 0.5, \"DWS\": 1.4, \"WS\": 1.9, \"WS/48\": 0.052, \"OBPM\": -2.8, \"DBPM\": 0.3, \"BPM\": -0.17439897977642738, \"VORP\": -0.2, \"pred\": 25, \"pred1\": 25, \"pred2\": 21, \"pred3\": 21, \"pred4\": 21, \"pred5\": 21, \"pred6\": 21, \"pred7\": 21, \"pred8\": 21, \"pred9\": 21}, {\"Player\": \"Joe Harris\", \"Pos\": \"SF\", \"Age\": 28, \"Tm\": \"BRK\", \"G\": 69, \"MP\": 2123, \"PER\": 13.3, \"TS%\": 0.606, \"3PAr\": 0.518, \"FTr\": 0.114, \"ORB%\": 3.2, \"DRB%\": 11.2, \"TRB%\": 7.3, \"AST%\": 10.4, \"STL%\": 0.9, \"BLK%\": 0.7, \"TOV%\": 11.2, \"USG%\": -0.0020183026400633066, \"OWS\": 2.5, \"DWS\": 1.8, \"WS\": 4.3, \"WS/48\": 0.097, \"OBPM\": 0.4, \"DBPM\": -0.6, \"BPM\": 0.3788374448406166, \"VORP\": 1.0, \"pred\": 28, \"pred1\": 28, \"pred2\": 26, \"pred3\": 28, \"pred4\": 28, \"pred5\": 25, \"pred6\": 25, \"pred7\": 25, \"pred8\": 25, \"pred9\": 25}, {\"Player\": \"Tobias Harris\", \"Pos\": \"PF\", \"Age\": 27, \"Tm\": \"PHI\", \"G\": 72, \"MP\": 2469, \"PER\": 17.2, \"TS%\": 0.556, \"3PAr\": 0.304, \"FTr\": 0.184, \"ORB%\": 3.1, \"DRB%\": 19.1, \"TRB%\": 11.1, \"AST%\": 14.6, \"STL%\": 1.0, \"BLK%\": 1.4, \"TOV%\": 7.6, \"USG%\": 0.9922957655510074, \"OWS\": 3.5, \"DWS\": 2.7, \"WS\": 6.2, \"WS/48\": 0.121, \"OBPM\": 1.3, \"DBPM\": -0.5, \"BPM\": 0.6193750207610704, \"VORP\": 1.8, \"pred\": 27, \"pred1\": 27, \"pred2\": 27, \"pred3\": 20, \"pred4\": 20, \"pred5\": 20, \"pred6\": 20, \"pred7\": 20, \"pred8\": 30, \"pred9\": 30}, {\"Player\": \"Shaquille Harrison\", \"Pos\": \"SF\", \"Age\": 26, \"Tm\": \"CHI\", \"G\": 43, \"MP\": 484, \"PER\": 17.8, \"TS%\": 0.559, \"3PAr\": 0.255, \"FTr\": 0.303, \"ORB%\": 4.8, \"DRB%\": 15.3, \"TRB%\": 9.8, \"AST%\": 15.3, \"STL%\": 3.4, \"BLK%\": 3.7, \"TOV%\": 9.2, \"USG%\": -0.03752951936117286, \"OWS\": 0.7, \"DWS\": 0.8, \"WS\": 1.5, \"WS/48\": 0.153, \"OBPM\": 0.4, \"DBPM\": 2.4, \"BPM\": 1.1004501726019782, \"VORP\": 0.6, \"pred\": 26, \"pred1\": 26, \"pred2\": 26, \"pred3\": 22, \"pred4\": 22, \"pred5\": 26, \"pred6\": 26, \"pred7\": 26, \"pred8\": 22, \"pred9\": 22}, {\"Player\": \"Josh Hart\", \"Pos\": \"SF\", \"Age\": 24, \"Tm\": \"NOP\", \"G\": 65, \"MP\": 1755, \"PER\": 11.9, \"TS%\": 0.563, \"3PAr\": 0.665, \"FTr\": 0.216, \"ORB%\": 3.7, \"DRB%\": 22.1, \"TRB%\": 12.8, \"AST%\": 8.2, \"STL%\": 1.7, \"BLK%\": 1.1, \"TOV%\": 11.4, \"USG%\": -0.5346865534567086, \"OWS\": 1.3, \"DWS\": 1.8, \"WS\": 3.1, \"WS/48\": 0.085, \"OBPM\": -1.1, \"DBPM\": 0.4, \"BPM\": 0.25856865688038966, \"VORP\": 0.6, \"pred\": 30, \"pred1\": 30, \"pred2\": 20, \"pred3\": 20, \"pred4\": 20, \"pred5\": 20, \"pred6\": 19, \"pred7\": 19, \"pred8\": 19, \"pred9\": 19}, {\"Player\": \"Isaiah Hartenstein\", \"Pos\": \"C\", \"Age\": 21, \"Tm\": \"HOU\", \"G\": 23, \"MP\": 266, \"PER\": 18.6, \"TS%\": 0.674, \"3PAr\": 0.075, \"FTr\": 0.418, \"ORB%\": 11.3, \"DRB%\": 24.3, \"TRB%\": 17.7, \"AST%\": 10.0, \"STL%\": 1.6, \"BLK%\": 3.9, \"TOV%\": 16.8, \"USG%\": -0.6234645952594827, \"OWS\": 0.7, \"DWS\": 0.4, \"WS\": 1.1, \"WS/48\": 0.19, \"OBPM\": -1.0, \"DBPM\": 1.3, \"BPM\": 0.49910623280084354, \"VORP\": 0.2, \"pred\": 21, \"pred1\": 21, \"pred2\": 21, \"pred3\": 21, \"pred4\": 21, \"pred5\": 21, \"pred6\": 21, \"pred7\": 19, \"pred8\": 19, \"pred9\": 19}, {\"Player\": \"Udonis Haslem\", \"Pos\": \"PF\", \"Age\": 39, \"Tm\": \"MIA\", \"G\": 4, \"MP\": 44, \"PER\": 6.5, \"TS%\": 0.47, \"3PAr\": 0.273, \"FTr\": 0.364, \"ORB%\": 2.6, \"DRB%\": 36.7, \"TRB%\": 20.3, \"AST%\": 3.2, \"STL%\": 0.0, \"BLK%\": 0.0, \"TOV%\": 7.3, \"USG%\": -0.8010206788650311, \"OWS\": 0.0, \"DWS\": 0.1, \"WS\": 0.0, \"WS/48\": 0.041, \"OBPM\": -6.1, \"DBPM\": -1.4, \"BPM\": -1.401140616970742, \"VORP\": -0.1, \"pred\": 39, \"pred1\": 39, \"pred2\": 26, \"pred3\": 23, \"pred4\": 23, \"pred5\": 23, \"pred6\": 23, \"pred7\": 23, \"pred8\": 23, \"pred9\": 23}, {\"Player\": \"Jaxson Hayes\", \"Pos\": \"C\", \"Age\": 19, \"Tm\": \"NOP\", \"G\": 64, \"MP\": 1080, \"PER\": 17.6, \"TS%\": 0.689, \"3PAr\": 0.015, \"FTr\": 0.734, \"ORB%\": 9.5, \"DRB%\": 16.0, \"TRB%\": 12.7, \"AST%\": 7.2, \"STL%\": 1.1, \"BLK%\": 4.3, \"TOV%\": 13.4, \"USG%\": -0.5879533785383732, \"OWS\": 2.8, \"DWS\": 1.1, \"WS\": 3.9, \"WS/48\": 0.171, \"OBPM\": -0.9, \"DBPM\": 0.6, \"BPM\": 0.3547836872485712, \"VORP\": 0.5, \"pred\": 19, \"pred1\": 19, \"pred2\": 19, \"pred3\": 19, \"pred4\": 19, \"pred5\": 19, \"pred6\": 19, \"pred7\": 19, \"pred8\": 29, \"pred9\": 29}, {\"Player\": \"Gordon Hayward\", \"Pos\": \"SF\", \"Age\": 29, \"Tm\": \"BOS\", \"G\": 52, \"MP\": 1740, \"PER\": 18.1, \"TS%\": 0.595, \"3PAr\": 0.317, \"FTr\": 0.207, \"ORB%\": 3.4, \"DRB%\": 17.8, \"TRB%\": 10.7, \"AST%\": 18.7, \"STL%\": 1.1, \"BLK%\": 1.2, \"TOV%\": 11.2, \"USG%\": 0.4951387314554724, \"OWS\": 3.5, \"DWS\": 2.2, \"WS\": 5.7, \"WS/48\": 0.158, \"OBPM\": 2.6, \"DBPM\": 0.1, \"BPM\": 1.0763964150099328, \"VORP\": 2.0, \"pred\": 27, \"pred1\": 27, \"pred2\": 25, \"pred3\": 22, \"pred4\": 22, \"pred5\": 22, \"pred6\": 22, \"pred7\": 22, \"pred8\": 22, \"pred9\": 22}, {\"Player\": \"John Henson\", \"Pos\": \"PF\", \"Age\": 29, \"Tm\": \"TOT\", \"G\": 40, \"MP\": 600, \"PER\": 17.0, \"TS%\": 0.578, \"3PAr\": 0.211, \"FTr\": 0.269, \"ORB%\": 8.5, \"DRB%\": 21.8, \"TRB%\": 15.1, \"AST%\": 13.4, \"STL%\": 2.0, \"BLK%\": 6.0, \"TOV%\": 15.8, \"USG%\": -0.35713046985116015, \"OWS\": 0.6, \"DWS\": 0.8, \"WS\": 1.4, \"WS/48\": 0.109, \"OBPM\": -1.2, \"DBPM\": 2.1, \"BPM\": 0.6434287783531158, \"VORP\": 0.4, \"pred\": 29, \"pred1\": 29, \"pred2\": 25, \"pred3\": 25, \"pred4\": 29, \"pred5\": 25, \"pred6\": 25, \"pred7\": 25, \"pred8\": 25, \"pred9\": 25}, {\"Player\": \"John Henson\", \"Pos\": \"PF\", \"Age\": 29, \"Tm\": \"CLE\", \"G\": 29, \"MP\": 412, \"PER\": 16.9, \"TS%\": 0.539, \"3PAr\": 0.258, \"FTr\": 0.275, \"ORB%\": 8.5, \"DRB%\": 22.3, \"TRB%\": 15.4, \"AST%\": 15.2, \"STL%\": 1.9, \"BLK%\": 6.7, \"TOV%\": 13.5, \"USG%\": -0.39264168657226967, \"OWS\": 0.4, \"DWS\": 0.5, \"WS\": 0.9, \"WS/48\": 0.109, \"OBPM\": -1.1, \"DBPM\": 2.3, \"BPM\": 0.6915362935372067, \"VORP\": 0.3, \"pred\": 29, \"pred1\": 29, \"pred2\": 29, \"pred3\": 22, \"pred4\": 22, \"pred5\": 25, \"pred6\": 25, \"pred7\": 25, \"pred8\": 25, \"pred9\": 25}, {\"Player\": \"John Henson\", \"Pos\": \"PF\", \"Age\": 29, \"Tm\": \"DET\", \"G\": 11, \"MP\": 188, \"PER\": 17.1, \"TS%\": 0.67, \"3PAr\": 0.098, \"FTr\": 0.255, \"ORB%\": 8.3, \"DRB%\": 20.8, \"TRB%\": 14.5, \"AST%\": 9.3, \"STL%\": 2.1, \"BLK%\": 4.5, \"TOV%\": 20.9, \"USG%\": -0.286108036408941, \"OWS\": 0.2, \"DWS\": 0.2, \"WS\": 0.4, \"WS/48\": 0.11, \"OBPM\": -1.2, \"DBPM\": 1.8, \"BPM\": 0.5712675055769797, \"VORP\": 0.1, \"pred\": 29, \"pred1\": 29, \"pred2\": 21, \"pred3\": 21, \"pred4\": 21, \"pred5\": 21, \"pred6\": 25, \"pred7\": 25, \"pred8\": 29, \"pred9\": 29}, {\"Player\": \"Dewan Hernandez\", \"Pos\": \"C\", \"Age\": 23, \"Tm\": \"TOR\", \"G\": 6, \"MP\": 28, \"PER\": 12.9, \"TS%\": 0.432, \"3PAr\": 0.143, \"FTr\": 0.357, \"ORB%\": 19.3, \"DRB%\": 33.2, \"TRB%\": 26.4, \"AST%\": 16.4, \"STL%\": 1.7, \"BLK%\": 0.0, \"TOV%\": 15.6, \"USG%\": 1.9510986170209692, \"OWS\": 0.0, \"DWS\": 0.1, \"WS\": 0.0, \"WS/48\": 0.043, \"OBPM\": -6.6, \"DBPM\": -3.0, \"BPM\": -1.8822157688116499, \"VORP\": -0.1, \"pred\": 23, \"pred1\": 23, \"pred2\": 23, \"pred3\": 22, \"pred4\": 22, \"pred5\": 22, \"pred6\": 22, \"pred7\": 22, \"pred8\": 22, \"pred9\": 22}, {\"Player\": \"Juan Hernang\\u00f3mez\", \"Pos\": \"PF\", \"Age\": 24, \"Tm\": \"TOT\", \"G\": 48, \"MP\": 833, \"PER\": 10.4, \"TS%\": 0.518, \"3PAr\": 0.522, \"FTr\": 0.287, \"ORB%\": 5.6, \"DRB%\": 20.5, \"TRB%\": 12.8, \"AST%\": 6.6, \"STL%\": 1.1, \"BLK%\": 1.0, \"TOV%\": 10.3, \"USG%\": -0.4636641200144894, \"OWS\": 0.2, \"DWS\": 0.7, \"WS\": 0.9, \"WS/48\": 0.052, \"OBPM\": -2.2, \"DBPM\": -1.1, \"BPM\": -0.39088279810483584, \"VORP\": -0.3, \"pred\": 24, \"pred1\": 24, \"pred2\": 24, \"pred3\": 21, \"pred4\": 21, \"pred5\": 21, \"pred6\": 21, \"pred7\": 21, \"pred8\": 24, \"pred9\": 21}, {\"Player\": \"Juan Hernang\\u00f3mez\", \"Pos\": \"PF\", \"Age\": 24, \"Tm\": \"DEN\", \"G\": 34, \"MP\": 422, \"PER\": 6.9, \"TS%\": 0.442, \"3PAr\": 0.545, \"FTr\": 0.227, \"ORB%\": 6.4, \"DRB%\": 18.8, \"TRB%\": 12.6, \"AST%\": 6.7, \"STL%\": 0.6, \"BLK%\": 1.1, \"TOV%\": 12.9, \"USG%\": -0.712242637062257, \"OWS\": -0.2, \"DWS\": 0.3, \"WS\": 0.1, \"WS/48\": 0.007, \"OBPM\": -4.0, \"DBPM\": -1.2, \"BPM\": -0.823850434761653, \"VORP\": -0.3, \"pred\": 24, \"pred1\": 24, \"pred2\": 21, \"pred3\": 21, \"pred4\": 21, \"pred5\": 26, \"pred6\": 26, \"pred7\": 26, \"pred8\": 26, \"pred9\": 26}, {\"Player\": \"Juan Hernang\\u00f3mez\", \"Pos\": \"PF\", \"Age\": 24, \"Tm\": \"MIN\", \"G\": 14, \"MP\": 411, \"PER\": 14.1, \"TS%\": 0.576, \"3PAr\": 0.504, \"FTr\": 0.336, \"ORB%\": 4.7, \"DRB%\": 22.1, \"TRB%\": 13.1, \"AST%\": 6.4, \"STL%\": 1.6, \"BLK%\": 0.8, \"TOV%\": 8.2, \"USG%\": -0.21508560296672127, \"OWS\": 0.5, \"DWS\": 0.4, \"WS\": 0.8, \"WS/48\": 0.098, \"OBPM\": -0.4, \"DBPM\": -1.0, \"BPM\": 0.06613859614402652, \"VORP\": 0.1, \"pred\": 24, \"pred1\": 24, \"pred2\": 21, \"pred3\": 21, \"pred4\": 21, \"pred5\": 21, \"pred6\": 21, \"pred7\": 21, \"pred8\": 20, \"pred9\": 20}, {\"Player\": \"Willy Hernang\\u00f3mez\", \"Pos\": \"C\", \"Age\": 25, \"Tm\": \"CHO\", \"G\": 31, \"MP\": 375, \"PER\": 19.2, \"TS%\": 0.576, \"3PAr\": 0.158, \"FTr\": 0.424, \"ORB%\": 12.1, \"DRB%\": 27.5, \"TRB%\": 19.5, \"AST%\": 13.5, \"STL%\": 1.3, \"BLK%\": 1.7, \"TOV%\": 15.4, \"USG%\": 0.814739681945459, \"OWS\": 0.4, \"DWS\": 0.4, \"WS\": 0.8, \"WS/48\": 0.107, \"OBPM\": 0.6, \"DBPM\": -0.5, \"BPM\": 0.45099871761675275, \"VORP\": 0.2, \"pred\": 25, \"pred1\": 25, \"pred2\": 24, \"pred3\": 22, \"pred4\": 22, \"pred5\": 22, \"pred6\": 22, \"pred7\": 21, \"pred8\": 28, \"pred9\": 24}, {\"Player\": \"Tyler Herro\", \"Pos\": \"SG\", \"Age\": 20, \"Tm\": \"MIA\", \"G\": 55, \"MP\": 1508, \"PER\": 12.5, \"TS%\": 0.55, \"3PAr\": 0.472, \"FTr\": 0.158, \"ORB%\": 1.2, \"DRB%\": 14.9, \"TRB%\": 8.3, \"AST%\": 12.7, \"STL%\": 1.1, \"BLK%\": 0.6, \"TOV%\": 11.4, \"USG%\": 0.7082060317821304, \"OWS\": 0.2, \"DWS\": 1.3, \"WS\": 1.6, \"WS/48\": 0.05, \"OBPM\": -0.4, \"DBPM\": -1.2, \"BPM\": 0.042084838551981106, \"VORP\": 0.1, \"pred\": 20, \"pred1\": 20, \"pred2\": 20, \"pred3\": 20, \"pred4\": 20, \"pred5\": 28, \"pred6\": 23, \"pred7\": 23, \"pred8\": 23, \"pred9\": 23}, {\"Player\": \"Kevin Hervey\", \"Pos\": \"PF\", \"Age\": 23, \"Tm\": \"OKC\", \"G\": 10, \"MP\": 52, \"PER\": 5.0, \"TS%\": 0.315, \"3PAr\": 0.741, \"FTr\": 0.0, \"ORB%\": 2.2, \"DRB%\": 22.7, \"TRB%\": 12.7, \"AST%\": 13.9, \"STL%\": 0.9, \"BLK%\": 1.7, \"TOV%\": 0.0, \"USG%\": 0.7969840735849045, \"OWS\": -0.2, \"DWS\": 0.1, \"WS\": -0.1, \"WS/48\": -0.085, \"OBPM\": -4.0, \"DBPM\": -1.1, \"BPM\": -0.7997966771696075, \"VORP\": 0.0, \"pred\": 21, \"pred1\": 21, \"pred2\": 19, \"pred3\": 21, \"pred4\": 21, \"pred5\": 21, \"pred6\": 21, \"pred7\": 21, \"pred8\": 21, \"pred9\": 21}, {\"Player\": \"Mario Hezonja\", \"Pos\": \"PF\", \"Age\": 24, \"Tm\": \"POR\", \"G\": 53, \"MP\": 871, \"PER\": 9.5, \"TS%\": 0.525, \"3PAr\": 0.358, \"FTr\": 0.271, \"ORB%\": 3.6, \"DRB%\": 18.3, \"TRB%\": 11.0, \"AST%\": 7.5, \"STL%\": 2.0, \"BLK%\": 0.9, \"TOV%\": 14.7, \"USG%\": -0.7832650705044764, \"OWS\": 0.1, \"DWS\": 0.6, \"WS\": 0.8, \"WS/48\": 0.043, \"OBPM\": -3.1, \"DBPM\": 0.2, \"BPM\": -0.2706140101446089, \"VORP\": -0.2, \"pred\": 24, \"pred1\": 24, \"pred2\": 24, \"pred3\": 25, \"pred4\": 25, \"pred5\": 25, \"pred6\": 25, \"pred7\": 25, \"pred8\": 24, \"pred9\": 24}, {\"Player\": \"Buddy Hield\", \"Pos\": \"SG\", \"Age\": 27, \"Tm\": \"SAC\", \"G\": 72, \"MP\": 2216, \"PER\": 16.0, \"TS%\": 0.566, \"3PAr\": 0.592, \"FTr\": 0.117, \"ORB%\": 2.8, \"DRB%\": 14.1, \"TRB%\": 8.3, \"AST%\": 15.5, \"STL%\": 1.4, \"BLK%\": 0.7, \"TOV%\": 12.1, \"USG%\": 1.5782308414493174, \"OWS\": 1.4, \"DWS\": 1.5, \"WS\": 3.0, \"WS/48\": 0.064, \"OBPM\": 2.5, \"DBPM\": -1.4, \"BPM\": 0.6915362935372067, \"VORP\": 1.7, \"pred\": 31, \"pred1\": 31, \"pred2\": 27, \"pred3\": 24, \"pred4\": 24, \"pred5\": 24, \"pred6\": 24, \"pred7\": 24, \"pred8\": 27, \"pred9\": 26}, {\"Player\": \"George Hill\", \"Pos\": \"PG\", \"Age\": 33, \"Tm\": \"MIL\", \"G\": 59, \"MP\": 1271, \"PER\": 16.9, \"TS%\": 0.659, \"3PAr\": 0.468, \"FTr\": 0.269, \"ORB%\": 4.1, \"DRB%\": 9.3, \"TRB%\": 6.9, \"AST%\": 19.0, \"STL%\": 1.7, \"BLK%\": 0.3, \"TOV%\": 11.9, \"USG%\": -0.499175336735599, \"OWS\": 3.5, \"DWS\": 2.1, \"WS\": 5.5, \"WS/48\": 0.21, \"OBPM\": 1.6, \"DBPM\": 1.3, \"BPM\": 1.1245039301940236, \"VORP\": 1.6, \"pred\": 33, \"pred1\": 33, \"pred2\": 29, \"pred3\": 25, \"pred4\": 25, \"pred5\": 25, \"pred6\": 25, \"pred7\": 25, \"pred8\": 25, \"pred9\": 25}, {\"Player\": \"Solomon Hill\", \"Pos\": \"SF\", \"Age\": 28, \"Tm\": \"TOT\", \"G\": 59, \"MP\": 1088, \"PER\": 9.8, \"TS%\": 0.535, \"3PAr\": 0.615, \"FTr\": 0.194, \"ORB%\": 2.9, \"DRB%\": 13.0, \"TRB%\": 8.1, \"AST%\": 12.4, \"STL%\": 1.9, \"BLK%\": 1.0, \"TOV%\": 14.5, \"USG%\": -0.836531895586141, \"OWS\": 0.4, \"DWS\": 1.1, \"WS\": 1.4, \"WS/48\": 0.064, \"OBPM\": -2.0, \"DBPM\": 0.3, \"BPM\": 0.01803108095993575, \"VORP\": 0.1, \"pred\": 28, \"pred1\": 28, \"pred2\": 27, \"pred3\": 27, \"pred4\": 28, \"pred5\": 28, \"pred6\": 28, \"pred7\": 28, \"pred8\": 28, \"pred9\": 28}, {\"Player\": \"Solomon Hill\", \"Pos\": \"SF\", \"Age\": 28, \"Tm\": \"MEM\", \"G\": 48, \"MP\": 901, \"PER\": 10.2, \"TS%\": 0.549, \"3PAr\": 0.631, \"FTr\": 0.163, \"ORB%\": 2.9, \"DRB%\": 13.8, \"TRB%\": 8.4, \"AST%\": 13.4, \"STL%\": 1.6, \"BLK%\": 0.7, \"TOV%\": 13.8, \"USG%\": -0.8720431123072506, \"OWS\": 0.5, \"DWS\": 0.8, \"WS\": 1.4, \"WS/48\": 0.072, \"OBPM\": -1.7, \"DBPM\": 0.2, \"BPM\": 0.09019235373607193, \"VORP\": 0.1, \"pred\": 28, \"pred1\": 28, \"pred2\": 21, \"pred3\": 21, \"pred4\": 21, \"pred5\": 21, \"pred6\": 28, \"pred7\": 28, \"pred8\": 28, \"pred9\": 24}, {\"Player\": \"Solomon Hill\", \"Pos\": \"SF\", \"Age\": 28, \"Tm\": \"MIA\", \"G\": 11, \"MP\": 187, \"PER\": 8.1, \"TS%\": 0.471, \"3PAr\": 0.533, \"FTr\": 0.356, \"ORB%\": 3.1, \"DRB%\": 9.2, \"TRB%\": 6.3, \"AST%\": 7.3, \"STL%\": 3.1, \"BLK%\": 2.7, \"TOV%\": 17.4, \"USG%\": -0.6234645952594827, \"OWS\": -0.2, \"DWS\": 0.3, \"WS\": 0.1, \"WS/48\": 0.023, \"OBPM\": -3.8, \"DBPM\": 0.9, \"BPM\": -0.2706140101446089, \"VORP\": 0.0, \"pred\": 28, \"pred1\": 28, \"pred2\": 21, \"pred3\": 21, \"pred4\": 21, \"pred5\": 21, \"pred6\": 21, \"pred7\": 21, \"pred8\": 21, \"pred9\": 21}, {\"Player\": \"Jaylen Hoard\", \"Pos\": \"SF\", \"Age\": 20, \"Tm\": \"POR\", \"G\": 13, \"MP\": 103, \"PER\": 14.9, \"TS%\": 0.504, \"3PAr\": 0.094, \"FTr\": 0.406, \"ORB%\": 14.4, \"DRB%\": 18.1, \"TRB%\": 16.2, \"AST%\": 5.3, \"STL%\": 2.3, \"BLK%\": 0.0, \"TOV%\": 9.6, \"USG%\": -0.19732999460616682, \"OWS\": 0.1, \"DWS\": 0.1, \"WS\": 0.2, \"WS/48\": 0.093, \"OBPM\": -0.8, \"DBPM\": -1.1, \"BPM\": -0.030076434224155017, \"VORP\": 0.0, \"pred\": 20, \"pred1\": 20, \"pred2\": 20, \"pred3\": 20, \"pred4\": 20, \"pred5\": 24, \"pred6\": 24, \"pred7\": 24, \"pred8\": 24, \"pred9\": 24}, {\"Player\": \"Aaron Holiday\", \"Pos\": \"PG\", \"Age\": 23, \"Tm\": \"IND\", \"G\": 66, \"MP\": 1617, \"PER\": 11.6, \"TS%\": 0.521, \"3PAr\": 0.393, \"FTr\": 0.155, \"ORB%\": 1.5, \"DRB%\": 9.0, \"TRB%\": 5.3, \"AST%\": 19.1, \"STL%\": 1.7, \"BLK%\": 0.9, \"TOV%\": 12.8, \"USG%\": 0.06900413080215581, \"OWS\": 0.4, \"DWS\": 1.7, \"WS\": 2.1, \"WS/48\": 0.063, \"OBPM\": -1.6, \"DBPM\": 0.0, \"BPM\": 0.042084838551981106, \"VORP\": 0.2, \"pred\": 21, \"pred1\": 21, \"pred2\": 21, \"pred3\": 21, \"pred4\": 21, \"pred5\": 21, \"pred6\": 21, \"pred7\": 32, \"pred8\": 32, \"pred9\": 32}, {\"Player\": \"Jrue Holiday\", \"Pos\": \"SG\", \"Age\": 29, \"Tm\": \"NOP\", \"G\": 61, \"MP\": 2117, \"PER\": 17.0, \"TS%\": 0.537, \"3PAr\": 0.344, \"FTr\": 0.181, \"ORB%\": 3.8, \"DRB%\": 10.9, \"TRB%\": 7.3, \"AST%\": 29.1, \"STL%\": 2.2, \"BLK%\": 1.9, \"TOV%\": 14.5, \"USG%\": 1.0988294157143368, \"OWS\": 2.0, \"DWS\": 1.9, \"WS\": 3.9, \"WS/48\": 0.088, \"OBPM\": 1.6, \"DBPM\": 0.2, \"BPM\": 0.8599125966815243, \"VORP\": 2.0, \"pred\": 29, \"pred1\": 29, \"pred2\": 25, \"pred3\": 25, \"pred4\": 25, \"pred5\": 22, \"pred6\": 22, \"pred7\": 22, \"pred8\": 22, \"pred9\": 22}, {\"Player\": \"Justin Holiday\", \"Pos\": \"SG\", \"Age\": 30, \"Tm\": \"IND\", \"G\": 73, \"MP\": 1826, \"PER\": 12.1, \"TS%\": 0.585, \"3PAr\": 0.681, \"FTr\": 0.138, \"ORB%\": 1.9, \"DRB%\": 12.2, \"TRB%\": 7.1, \"AST%\": 6.7, \"STL%\": 2.3, \"BLK%\": 2.2, \"TOV%\": 7.9, \"USG%\": -0.8720431123072506, \"OWS\": 1.6, \"DWS\": 2.6, \"WS\": 4.2, \"WS/48\": 0.112, \"OBPM\": -0.5, \"DBPM\": 1.8, \"BPM\": 0.7396438087212974, \"VORP\": 1.5, \"pred\": 30, \"pred1\": 30, \"pred2\": 30, \"pred3\": 28, \"pred4\": 28, \"pred5\": 28, \"pred6\": 28, \"pred7\": 28, \"pred8\": 28, \"pred9\": 28}, {\"Player\": \"Rondae Hollis-Jefferson\", \"Pos\": \"SF\", \"Age\": 25, \"Tm\": \"TOR\", \"G\": 60, \"MP\": 1122, \"PER\": 15.1, \"TS%\": 0.533, \"3PAr\": 0.07, \"FTr\": 0.435, \"ORB%\": 10.6, \"DRB%\": 15.9, \"TRB%\": 13.3, \"AST%\": 13.6, \"STL%\": 2.0, \"BLK%\": 2.0, \"TOV%\": 13.1, \"USG%\": -0.19732999460616682, \"OWS\": 1.4, \"DWS\": 2.0, \"WS\": 3.4, \"WS/48\": 0.146, \"OBPM\": -1.2, \"DBPM\": 1.5, \"BPM\": 0.49910623280084354, \"VORP\": 0.6, \"pred\": 21, \"pred1\": 21, \"pred2\": 21, \"pred3\": 21, \"pred4\": 21, \"pred5\": 29, \"pred6\": 29, \"pred7\": 23, \"pred8\": 23, \"pred9\": 23}, {\"Player\": \"Richaun Holmes\", \"Pos\": \"C\", \"Age\": 26, \"Tm\": \"SAC\", \"G\": 44, \"MP\": 1242, \"PER\": 19.7, \"TS%\": 0.681, \"3PAr\": 0.0, \"FTr\": 0.343, \"ORB%\": 11.2, \"DRB%\": 21.5, \"TRB%\": 16.2, \"AST%\": 5.1, \"STL%\": 1.6, \"BLK%\": 4.3, \"TOV%\": 11.6, \"USG%\": -0.4814197283750442, \"OWS\": 3.4, \"DWS\": 1.5, \"WS\": 4.9, \"WS/48\": 0.19, \"OBPM\": 0.3, \"DBPM\": 0.6, \"BPM\": 0.6674825359451612, \"VORP\": 0.9, \"pred\": 26, \"pred1\": 26, \"pred2\": 26, \"pred3\": 22, \"pred4\": 22, \"pred5\": 22, \"pred6\": 22, \"pred7\": 25, \"pred8\": 25, \"pred9\": 25}, {\"Player\": \"Rodney Hood\", \"Pos\": \"SF\", \"Age\": 27, \"Tm\": \"POR\", \"G\": 21, \"MP\": 619, \"PER\": 12.2, \"TS%\": 0.625, \"3PAr\": 0.413, \"FTr\": 0.157, \"ORB%\": 1.7, \"DRB%\": 10.4, \"TRB%\": 6.1, \"AST%\": 7.0, \"STL%\": 1.3, \"BLK%\": 0.6, \"TOV%\": 9.4, \"USG%\": -0.7832650705044764, \"OWS\": 0.9, \"DWS\": 0.2, \"WS\": 1.1, \"WS/48\": 0.084, \"OBPM\": -0.4, \"DBPM\": -0.5, \"BPM\": 0.21046114169629884, \"VORP\": 0.2, \"pred\": 24, \"pred1\": 24, \"pred2\": 24, \"pred3\": 24, \"pred4\": 24, \"pred5\": 24, \"pred6\": 24, \"pred7\": 24, \"pred8\": 24, \"pred9\": 24}, {\"Player\": \"Al Horford\", \"Pos\": \"C\", \"Age\": 33, \"Tm\": \"PHI\", \"G\": 67, \"MP\": 2025, \"PER\": 15.7, \"TS%\": 0.536, \"3PAr\": 0.399, \"FTr\": 0.113, \"ORB%\": 5.6, \"DRB%\": 19.3, \"TRB%\": 12.4, \"AST%\": 19.2, \"STL%\": 1.2, \"BLK%\": 2.6, \"TOV%\": 9.7, \"USG%\": -0.14406316952450215, \"OWS\": 2.8, \"DWS\": 2.6, \"WS\": 5.4, \"WS/48\": 0.128, \"OBPM\": 1.3, \"DBPM\": 1.0, \"BPM\": 0.9561276270497059, \"VORP\": 2.2, \"pred\": 33, \"pred1\": 33, \"pred2\": 29, \"pred3\": 33, \"pred4\": 33, \"pred5\": 33, \"pred6\": 33, \"pred7\": 33, \"pred8\": 33, \"pred9\": 26}, {\"Player\": \"Talen Horton-Tucker\", \"Pos\": \"SG\", \"Age\": 19, \"Tm\": \"LAL\", \"G\": 6, \"MP\": 81, \"PER\": 12.3, \"TS%\": 0.535, \"3PAr\": 0.433, \"FTr\": 0.133, \"ORB%\": 2.7, \"DRB%\": 6.7, \"TRB%\": 4.7, \"AST%\": 10.5, \"STL%\": 4.7, \"BLK%\": 1.1, \"TOV%\": 15.9, \"USG%\": 0.24656021440770423, \"OWS\": 0.0, \"DWS\": 0.2, \"WS\": 0.1, \"WS/48\": 0.07, \"OBPM\": -4.0, \"DBPM\": 2.0, \"BPM\": -0.07818394940824584, \"VORP\": 0.0, \"pred\": 19, \"pred1\": 19, \"pred2\": 19, \"pred3\": 19, \"pred4\": 19, \"pred5\": 19, \"pred6\": 19, \"pred7\": 19, \"pred8\": 19, \"pred9\": 19}, {\"Player\": \"Danuel House\", \"Pos\": \"SF\", \"Age\": 26, \"Tm\": \"HOU\", \"G\": 63, \"MP\": 1913, \"PER\": 11.3, \"TS%\": 0.572, \"3PAr\": 0.659, \"FTr\": 0.167, \"ORB%\": 3.1, \"DRB%\": 11.6, \"TRB%\": 7.3, \"AST%\": 6.1, \"STL%\": 1.6, \"BLK%\": 1.5, \"TOV%\": 8.5, \"USG%\": -0.8187762872255863, \"OWS\": 1.9, \"DWS\": 1.8, \"WS\": 3.6, \"WS/48\": 0.091, \"OBPM\": -0.8, \"DBPM\": 0.0, \"BPM\": 0.25856865688038966, \"VORP\": 0.6, \"pred\": 26, \"pred1\": 26, \"pred2\": 26, \"pred3\": 24, \"pred4\": 24, \"pred5\": 24, \"pred6\": 24, \"pred7\": 24, \"pred8\": 24, \"pred9\": 24}, {\"Player\": \"Dwight Howard\", \"Pos\": \"C\", \"Age\": 34, \"Tm\": \"LAL\", \"G\": 69, \"MP\": 1306, \"PER\": 18.7, \"TS%\": 0.696, \"3PAr\": 0.018, \"FTr\": 0.773, \"ORB%\": 14.6, \"DRB%\": 27.8, \"TRB%\": 21.2, \"AST%\": 4.8, \"STL%\": 1.1, \"BLK%\": 5.4, \"TOV%\": 18.5, \"USG%\": -0.6412202036200378, \"OWS\": 2.8, \"DWS\": 2.6, \"WS\": 5.4, \"WS/48\": 0.197, \"OBPM\": -1.0, \"DBPM\": 1.2, \"BPM\": 0.4750524752087981, \"VORP\": 0.7, \"pred\": 34, \"pred1\": 34, \"pred2\": 30, \"pred3\": 21, \"pred4\": 21, \"pred5\": 21, \"pred6\": 19, \"pred7\": 19, \"pred8\": 19, \"pred9\": 32}, {\"Player\": \"William Howard\", \"Pos\": \"PF\", \"Age\": 26, \"Tm\": \"HOU\", \"G\": 2, \"MP\": 13, \"PER\": -12.7, \"TS%\": 0.0, \"3PAr\": 1.0, \"FTr\": 0.0, \"ORB%\": 0.0, \"DRB%\": 16.3, \"TRB%\": 8.1, \"AST%\": 9.1, \"STL%\": 0.0, \"BLK%\": 0.0, \"TOV%\": 20.0, \"USG%\": -0.42815290329337957, \"OWS\": -0.1, \"DWS\": 0.0, \"WS\": -0.1, \"WS/48\": -0.357, \"OBPM\": -14.2, \"DBPM\": -5.4, \"BPM\": -4.287591528016189, \"VORP\": -0.1, \"pred\": 26, \"pred1\": 26, \"pred2\": 26, \"pred3\": 26, \"pred4\": 26, \"pred5\": 26, \"pred6\": 22, \"pred7\": 22, \"pred8\": 26, \"pred9\": 22}, {\"Player\": \"Kevin Huerter\", \"Pos\": \"SG\", \"Age\": 21, \"Tm\": \"ATL\", \"G\": 56, \"MP\": 1760, \"PER\": 11.5, \"TS%\": 0.536, \"3PAr\": 0.548, \"FTr\": 0.105, \"ORB%\": 2.1, \"DRB%\": 12.0, \"TRB%\": 7.0, \"AST%\": 17.5, \"STL%\": 1.4, \"BLK%\": 1.3, \"TOV%\": 12.0, \"USG%\": -0.21508560296672127, \"OWS\": 1.0, \"DWS\": 0.6, \"WS\": 1.6, \"WS/48\": 0.043, \"OBPM\": -0.7, \"DBPM\": -0.9, \"BPM\": 0.042084838551981106, \"VORP\": 0.2, \"pred\": 21, \"pred1\": 21, \"pred2\": 21, \"pred3\": 21, \"pred4\": 20, \"pred5\": 20, \"pred6\": 20, \"pred7\": 20, \"pred8\": 20, \"pred9\": 24}, {\"Player\": \"De'Andre Hunter\", \"Pos\": \"SF\", \"Age\": 22, \"Tm\": \"ATL\", \"G\": 63, \"MP\": 2018, \"PER\": 8.6, \"TS%\": 0.521, \"3PAr\": 0.445, \"FTr\": 0.211, \"ORB%\": 2.3, \"DRB%\": 13.1, \"TRB%\": 7.6, \"AST%\": 8.0, \"STL%\": 1.0, \"BLK%\": 0.7, \"TOV%\": 12.1, \"USG%\": -0.14406316952450215, \"OWS\": -0.4, \"DWS\": 0.5, \"WS\": 0.1, \"WS/48\": 0.002, \"OBPM\": -2.9, \"DBPM\": -1.8, \"BPM\": -0.703581646801426, \"VORP\": -1.4, \"pred\": 22, \"pred1\": 22, \"pred2\": 22, \"pred3\": 22, \"pred4\": 22, \"pred5\": 20, \"pred6\": 22, \"pred7\": 20, \"pred8\": 20, \"pred9\": 20}, {\"Player\": \"Chandler Hutchison\", \"Pos\": \"SF\", \"Age\": 23, \"Tm\": \"CHI\", \"G\": 28, \"MP\": 527, \"PER\": 12.4, \"TS%\": 0.521, \"3PAr\": 0.217, \"FTr\": 0.446, \"ORB%\": 3.6, \"DRB%\": 19.8, \"TRB%\": 11.3, \"AST%\": 7.4, \"STL%\": 2.5, \"BLK%\": 1.3, \"TOV%\": 11.4, \"USG%\": 0.14002656424437554, \"OWS\": 0.0, \"DWS\": 0.7, \"WS\": 0.7, \"WS/48\": 0.06, \"OBPM\": -2.7, \"DBPM\": 0.1, \"BPM\": -0.19845273736847277, \"VORP\": -0.1, \"pred\": 23, \"pred1\": 23, \"pred2\": 23, \"pred3\": 23, \"pred4\": 23, \"pred5\": 21, \"pred6\": 19, \"pred7\": 21, \"pred8\": 21, \"pred9\": 19}, {\"Player\": \"Serge Ibaka\", \"Pos\": \"C\", \"Age\": 30, \"Tm\": \"TOR\", \"G\": 55, \"MP\": 1485, \"PER\": 17.3, \"TS%\": 0.583, \"3PAr\": 0.272, \"FTr\": 0.185, \"ORB%\": 8.3, \"DRB%\": 23.5, \"TRB%\": 16.1, \"AST%\": 8.6, \"STL%\": 0.9, \"BLK%\": 3.0, \"TOV%\": 13.1, \"USG%\": 1.0100513739115624, \"OWS\": 1.2, \"DWS\": 2.7, \"WS\": 3.9, \"WS/48\": 0.126, \"OBPM\": 0.1, \"DBPM\": 0.0, \"BPM\": 0.45099871761675275, \"VORP\": 0.8, \"pred\": 30, \"pred1\": 30, \"pred2\": 24, \"pred3\": 24, \"pred4\": 24, \"pred5\": 20, \"pred6\": 20, \"pred7\": 25, \"pred8\": 25, \"pred9\": 25}, {\"Player\": \"Andre Iguodala\", \"Pos\": \"SG\", \"Age\": 36, \"Tm\": \"MIA\", \"G\": 21, \"MP\": 418, \"PER\": 10.5, \"TS%\": 0.507, \"3PAr\": 0.534, \"FTr\": 0.17, \"ORB%\": 4.7, \"DRB%\": 15.7, \"TRB%\": 10.4, \"AST%\": 16.9, \"STL%\": 1.6, \"BLK%\": 5.0, \"TOV%\": 21.6, \"USG%\": -0.9963323708311347, \"OWS\": 0.0, \"DWS\": 0.6, \"WS\": 0.6, \"WS/48\": 0.065, \"OBPM\": -1.9, \"DBPM\": 1.4, \"BPM\": 0.3066761720644804, \"VORP\": 0.2, \"pred\": 36, \"pred1\": 36, \"pred2\": 34, \"pred3\": 25, \"pred4\": 25, \"pred5\": 25, \"pred6\": 25, \"pred7\": 34, \"pred8\": 34, \"pred9\": 34}, {\"Player\": \"Ersan \\u0130lyasova\", \"Pos\": \"PF\", \"Age\": 32, \"Tm\": \"MIL\", \"G\": 63, \"MP\": 986, \"PER\": 14.9, \"TS%\": 0.589, \"3PAr\": 0.438, \"FTr\": 0.278, \"ORB%\": 6.6, \"DRB%\": 22.7, \"TRB%\": 15.1, \"AST%\": 6.6, \"STL%\": 1.1, \"BLK%\": 1.5, \"TOV%\": 8.8, \"USG%\": -0.39264168657226967, \"OWS\": 1.6, \"DWS\": 2.0, \"WS\": 3.6, \"WS/48\": 0.174, \"OBPM\": -0.3, \"DBPM\": 0.8, \"BPM\": 0.523159990392889, \"VORP\": 0.6, \"pred\": 32, \"pred1\": 32, \"pred2\": 25, \"pred3\": 23, \"pred4\": 23, \"pred5\": 23, \"pred6\": 23, \"pred7\": 23, \"pred8\": 23, \"pred9\": 23}, {\"Player\": \"Joe Ingles\", \"Pos\": \"SF\", \"Age\": 32, \"Tm\": \"UTA\", \"G\": 72, \"MP\": 2137, \"PER\": 12.6, \"TS%\": 0.595, \"3PAr\": 0.638, \"FTr\": 0.17, \"ORB%\": 1.4, \"DRB%\": 12.5, \"TRB%\": 7.2, \"AST%\": 24.4, \"STL%\": 1.5, \"BLK%\": 0.4, \"TOV%\": 19.3, \"USG%\": -0.5701977701778184, \"OWS\": 2.7, \"DWS\": 2.1, \"WS\": 4.8, \"WS/48\": 0.108, \"OBPM\": 0.0, \"DBPM\": 0.7, \"BPM\": 0.595321263169025, \"VORP\": 1.5, \"pred\": 32, \"pred1\": 32, \"pred2\": 21, \"pred3\": 21, \"pred4\": 21, \"pred5\": 26, \"pred6\": 26, \"pred7\": 26, \"pred8\": 26, \"pred9\": 23}, {\"Player\": \"Brandon Ingram\", \"Pos\": \"PF\", \"Age\": 22, \"Tm\": \"NOP\", \"G\": 62, \"MP\": 2104, \"PER\": 18.8, \"TS%\": 0.587, \"3PAr\": 0.35, \"FTr\": 0.336, \"ORB%\": 2.6, \"DRB%\": 16.6, \"TRB%\": 9.6, \"AST%\": 19.3, \"STL%\": 1.3, \"BLK%\": 1.5, \"TOV%\": 13.1, \"USG%\": 1.7380313166943113, \"OWS\": 3.3, \"DWS\": 1.8, \"WS\": 5.1, \"WS/48\": 0.115, \"OBPM\": 2.5, \"DBPM\": -0.4, \"BPM\": 0.9320738694576606, \"VORP\": 2.2, \"pred\": 22, \"pred1\": 22, \"pred2\": 22, \"pred3\": 22, \"pred4\": 22, \"pred5\": 22, \"pred6\": 22, \"pred7\": 22, \"pred8\": 22, \"pred9\": 22}, {\"Player\": \"Kyrie Irving\", \"Pos\": \"PG\", \"Age\": 27, \"Tm\": \"BRK\", \"G\": 20, \"MP\": 658, \"PER\": 26.2, \"TS%\": 0.595, \"3PAr\": 0.341, \"FTr\": 0.245, \"ORB%\": 3.5, \"DRB%\": 12.5, \"TRB%\": 8.1, \"AST%\": 36.7, \"STL%\": 1.9, \"BLK%\": 1.3, \"TOV%\": 10.1, \"USG%\": 2.537033692919279, \"OWS\": 2.1, \"DWS\": 0.8, \"WS\": 2.9, \"WS/48\": 0.21, \"OBPM\": 6.7, \"DBPM\": 0.9, \"BPM\": 2.2790842946122023, \"VORP\": 1.6, \"pred\": 27, \"pred1\": 27, \"pred2\": 27, \"pred3\": 27, \"pred4\": 27, \"pred5\": 26, \"pred6\": 25, \"pred7\": 25, \"pred8\": 29, \"pred9\": 29}, {\"Player\": \"Jonathan Isaac\", \"Pos\": \"SF\", \"Age\": 22, \"Tm\": \"ORL\", \"G\": 34, \"MP\": 980, \"PER\": 17.3, \"TS%\": 0.552, \"3PAr\": 0.283, \"FTr\": 0.232, \"ORB%\": 6.2, \"DRB%\": 19.6, \"TRB%\": 12.7, \"AST%\": 7.4, \"STL%\": 2.6, \"BLK%\": 7.2, \"TOV%\": 11.8, \"USG%\": -0.0020183026400633066, \"OWS\": 0.6, \"DWS\": 1.9, \"WS\": 2.5, \"WS/48\": 0.12, \"OBPM\": -0.5, \"DBPM\": 2.9, \"BPM\": 0.9801813846417512, \"VORP\": 1.1, \"pred\": 22, \"pred1\": 22, \"pred2\": 22, \"pred3\": 22, \"pred4\": 22, \"pred5\": 22, \"pred6\": 22, \"pred7\": 22, \"pred8\": 22, \"pred9\": 22}, {\"Player\": \"Wesley Iwundu\", \"Pos\": \"SF\", \"Age\": 25, \"Tm\": \"ORL\", \"G\": 52, \"MP\": 953, \"PER\": 10.3, \"TS%\": 0.544, \"3PAr\": 0.352, \"FTr\": 0.416, \"ORB%\": 2.6, \"DRB%\": 12.5, \"TRB%\": 7.4, \"AST%\": 8.8, \"STL%\": 1.3, \"BLK%\": 1.2, \"TOV%\": 8.6, \"USG%\": -0.8187762872255863, \"OWS\": 0.8, \"DWS\": 0.8, \"WS\": 1.7, \"WS/48\": 0.084, \"OBPM\": -2.7, \"DBPM\": 0.0, \"BPM\": -0.19845273736847277, \"VORP\": -0.2, \"pred\": 25, \"pred1\": 25, \"pred2\": 25, \"pred3\": 25, \"pred4\": 25, \"pred5\": 24, \"pred6\": 24, \"pred7\": 24, \"pred8\": 24, \"pred9\": 24}, {\"Player\": \"Frank Jackson\", \"Pos\": \"PG\", \"Age\": 21, \"Tm\": \"NOP\", \"G\": 59, \"MP\": 797, \"PER\": 9.1, \"TS%\": 0.51, \"3PAr\": 0.435, \"FTr\": 0.227, \"ORB%\": 2.9, \"DRB%\": 8.1, \"TRB%\": 5.5, \"AST%\": 10.8, \"STL%\": 1.0, \"BLK%\": 0.4, \"TOV%\": 11.9, \"USG%\": 0.5128943398160268, \"OWS\": -0.2, \"DWS\": 0.3, \"WS\": 0.2, \"WS/48\": 0.01, \"OBPM\": -3.3, \"DBPM\": -2.2, \"BPM\": -0.896011707537789, \"VORP\": -0.7, \"pred\": 21, \"pred1\": 21, \"pred2\": 20, \"pred3\": 20, \"pred4\": 20, \"pred5\": 20, \"pred6\": 20, \"pred7\": 20, \"pred8\": 20, \"pred9\": 20}, {\"Player\": \"Jaren Jackson Jr.\", \"Pos\": \"C\", \"Age\": 20, \"Tm\": \"MEM\", \"G\": 57, \"MP\": 1622, \"PER\": 16.3, \"TS%\": 0.593, \"3PAr\": 0.489, \"FTr\": 0.247, \"ORB%\": 3.6, \"DRB%\": 13.2, \"TRB%\": 8.5, \"AST%\": 7.2, \"STL%\": 1.2, \"BLK%\": 5.0, \"TOV%\": 10.6, \"USG%\": 1.0100513739115624, \"OWS\": 1.6, \"DWS\": 1.8, \"WS\": 3.5, \"WS/48\": 0.103, \"OBPM\": 0.3, \"DBPM\": 0.1, \"BPM\": 0.523159990392889, \"VORP\": 1.0, \"pred\": 20, \"pred1\": 20, \"pred2\": 20, \"pred3\": 20, \"pred4\": 20, \"pred5\": 20, \"pred6\": 30, \"pred7\": 30, \"pred8\": 24, \"pred9\": 24}, {\"Player\": \"Josh Jackson\", \"Pos\": \"SG\", \"Age\": 22, \"Tm\": \"MEM\", \"G\": 22, \"MP\": 381, \"PER\": 14.1, \"TS%\": 0.547, \"3PAr\": 0.453, \"FTr\": 0.314, \"ORB%\": 3.1, \"DRB%\": 14.9, \"TRB%\": 9.1, \"AST%\": 13.1, \"STL%\": 2.2, \"BLK%\": 2.1, \"TOV%\": 13.4, \"USG%\": 0.7969840735849045, \"OWS\": 0.1, \"DWS\": 0.5, \"WS\": 0.5, \"WS/48\": 0.069, \"OBPM\": -1.1, \"DBPM\": 1.1, \"BPM\": 0.42694496002470733, \"VORP\": 0.2, \"pred\": 22, \"pred1\": 22, \"pred2\": 22, \"pred3\": 22, \"pred4\": 22, \"pred5\": 22, \"pred6\": 24, \"pred7\": 24, \"pred8\": 24, \"pred9\": 24}, {\"Player\": \"Justin Jackson\", \"Pos\": \"PF\", \"Age\": 24, \"Tm\": \"DAL\", \"G\": 65, \"MP\": 1045, \"PER\": 9.5, \"TS%\": 0.496, \"3PAr\": 0.478, \"FTr\": 0.147, \"ORB%\": 2.7, \"DRB%\": 12.6, \"TRB%\": 7.7, \"AST%\": 6.8, \"STL%\": 0.7, \"BLK%\": 0.8, \"TOV%\": 3.7, \"USG%\": -0.5169309450961538, \"OWS\": 0.6, \"DWS\": 0.6, \"WS\": 1.2, \"WS/48\": 0.054, \"OBPM\": -2.1, \"DBPM\": -1.3, \"BPM\": -0.39088279810483584, \"VORP\": -0.4, \"pred\": 24, \"pred1\": 24, \"pred2\": 21, \"pred3\": 21, \"pred4\": 21, \"pred5\": 21, \"pred6\": 21, \"pred7\": 24, \"pred8\": 24, \"pred9\": 24}, {\"Player\": \"Reggie Jackson\", \"Pos\": \"PG\", \"Age\": 29, \"Tm\": \"TOT\", \"G\": 31, \"MP\": 743, \"PER\": 13.7, \"TS%\": 0.529, \"3PAr\": 0.445, \"FTr\": 0.166, \"ORB%\": 2.5, \"DRB%\": 10.8, \"TRB%\": 6.7, \"AST%\": 26.2, \"STL%\": 0.8, \"BLK%\": 0.6, \"TOV%\": 12.7, \"USG%\": 0.8502508986665692, \"OWS\": 0.6, \"DWS\": 0.5, \"WS\": 1.1, \"WS/48\": 0.073, \"OBPM\": 0.8, \"DBPM\": -1.2, \"BPM\": 0.33072992965652576, \"VORP\": 0.3, \"pred\": 28, \"pred1\": 28, \"pred2\": 26, \"pred3\": 25, \"pred4\": 22, \"pred5\": 25, \"pred6\": 25, \"pred7\": 25, \"pred8\": 24, \"pred9\": 24}, {\"Player\": \"Reggie Jackson\", \"Pos\": \"PG\", \"Age\": 29, \"Tm\": \"DET\", \"G\": 14, \"MP\": 381, \"PER\": 14.7, \"TS%\": 0.492, \"3PAr\": 0.414, \"FTr\": 0.167, \"ORB%\": 3.2, \"DRB%\": 9.1, \"TRB%\": 6.1, \"AST%\": 30.8, \"STL%\": 1.0, \"BLK%\": 0.2, \"TOV%\": 9.8, \"USG%\": 1.5427196247282078, \"OWS\": 0.2, \"DWS\": 0.1, \"WS\": 0.4, \"WS/48\": 0.047, \"OBPM\": 1.7, \"DBPM\": -2.2, \"BPM\": 0.3066761720644804, \"VORP\": 0.1, \"pred\": 24, \"pred1\": 24, \"pred2\": 24, \"pred3\": 24, \"pred4\": 24, \"pred5\": 24, \"pred6\": 24, \"pred7\": 24, \"pred8\": 24, \"pred9\": 24}, {\"Player\": \"Reggie Jackson\", \"Pos\": \"PG\", \"Age\": 29, \"Tm\": \"LAC\", \"G\": 17, \"MP\": 362, \"PER\": 12.6, \"TS%\": 0.587, \"3PAr\": 0.492, \"FTr\": 0.164, \"ORB%\": 1.8, \"DRB%\": 12.6, \"TRB%\": 7.3, \"AST%\": 21.3, \"STL%\": 0.7, \"BLK%\": 1.0, \"TOV%\": 16.9, \"USG%\": 0.14002656424437554, \"OWS\": 0.4, \"DWS\": 0.4, \"WS\": 0.8, \"WS/48\": 0.1, \"OBPM\": -0.1, \"DBPM\": -0.2, \"BPM\": 0.3547836872485712, \"VORP\": 0.2, \"pred\": 29, \"pred1\": 29, \"pred2\": 27, \"pred3\": 27, \"pred4\": 27, \"pred5\": 26, \"pred6\": 27, \"pred7\": 27, \"pred8\": 27, \"pred9\": 27}, {\"Player\": \"Justin James\", \"Pos\": \"SG\", \"Age\": 23, \"Tm\": \"SAC\", \"G\": 36, \"MP\": 232, \"PER\": 11.0, \"TS%\": 0.477, \"3PAr\": 0.345, \"FTr\": 0.25, \"ORB%\": 2.8, \"DRB%\": 12.9, \"TRB%\": 7.8, \"AST%\": 11.2, \"STL%\": 1.3, \"BLK%\": 3.7, \"TOV%\": 7.9, \"USG%\": 0.10451534752326536, \"OWS\": -0.1, \"DWS\": 0.2, \"WS\": 0.1, \"WS/48\": 0.028, \"OBPM\": -1.4, \"DBPM\": -0.1, \"BPM\": 0.09019235373607193, \"VORP\": 0.0, \"pred\": 23, \"pred1\": 23, \"pred2\": 23, \"pred3\": 23, \"pred4\": 23, \"pred5\": 23, \"pred6\": 21, \"pred7\": 21, \"pred8\": 22, \"pred9\": 22}, {\"Player\": \"LeBron James\", \"Pos\": \"PG\", \"Age\": 35, \"Tm\": \"LAL\", \"G\": 67, \"MP\": 2316, \"PER\": 25.5, \"TS%\": 0.577, \"3PAr\": 0.326, \"FTr\": 0.292, \"ORB%\": 3.2, \"DRB%\": 21.5, \"TRB%\": 12.4, \"AST%\": 49.1, \"STL%\": 1.6, \"BLK%\": 1.4, \"TOV%\": 15.1, \"USG%\": 2.3417220009531756, \"OWS\": 6.2, \"DWS\": 3.6, \"WS\": 9.8, \"WS/48\": 0.204, \"OBPM\": 6.6, \"DBPM\": 1.8, \"BPM\": 2.44746059775652, \"VORP\": 6.1, \"pred\": 35, \"pred1\": 35, \"pred2\": 27, \"pred3\": 27, \"pred4\": 27, \"pred5\": 26, \"pred6\": 26, \"pred7\": 29, \"pred8\": 29, \"pred9\": 29}, {\"Player\": \"Amile Jefferson\", \"Pos\": \"PF\", \"Age\": 26, \"Tm\": \"ORL\", \"G\": 18, \"MP\": 74, \"PER\": 8.9, \"TS%\": 0.372, \"3PAr\": 0.0, \"FTr\": 1.0, \"ORB%\": 14.1, \"DRB%\": 19.5, \"TRB%\": 16.7, \"AST%\": 7.2, \"STL%\": 0.7, \"BLK%\": 3.7, \"TOV%\": 13.0, \"USG%\": -0.8542875039466958, \"OWS\": 0.0, \"DWS\": 0.1, \"WS\": 0.0, \"WS/48\": 0.023, \"OBPM\": -4.8, \"DBPM\": -1.0, \"BPM\": -0.9681729803139252, \"VORP\": -0.1, \"pred\": 26, \"pred1\": 26, \"pred2\": 22, \"pred3\": 26, \"pred4\": 26, \"pred5\": 26, \"pred6\": 22, \"pred7\": 26, \"pred8\": 26, \"pred9\": 26}, {\"Player\": \"DaQuan Jeffries\", \"Pos\": \"SG\", \"Age\": 22, \"Tm\": \"SAC\", \"G\": 13, \"MP\": 141, \"PER\": 11.2, \"TS%\": 0.586, \"3PAr\": 0.45, \"FTr\": 0.15, \"ORB%\": 2.3, \"DRB%\": 12.3, \"TRB%\": 7.2, \"AST%\": 7.1, \"STL%\": 1.4, \"BLK%\": 0.7, \"TOV%\": 4.5, \"USG%\": -0.8187762872255863, \"OWS\": 0.2, \"DWS\": 0.1, \"WS\": 0.3, \"WS/48\": 0.1, \"OBPM\": -2.7, \"DBPM\": -1.1, \"BPM\": -0.4870978284730174, \"VORP\": -0.1, \"pred\": 22, \"pred1\": 22, \"pred2\": 22, \"pred3\": 22, \"pred4\": 22, \"pred5\": 22, \"pred6\": 22, \"pred7\": 22, \"pred8\": 22, \"pred9\": 22}, {\"Player\": \"Ty Jerome\", \"Pos\": \"PG\", \"Age\": 22, \"Tm\": \"PHO\", \"G\": 31, \"MP\": 328, \"PER\": 7.9, \"TS%\": 0.425, \"3PAr\": 0.442, \"FTr\": 0.142, \"ORB%\": 2.3, \"DRB%\": 13.4, \"TRB%\": 7.8, \"AST%\": 18.2, \"STL%\": 2.2, \"BLK%\": 0.8, \"TOV%\": 13.0, \"USG%\": -0.07304073608228305, \"OWS\": -0.3, \"DWS\": 0.3, \"WS\": 0.0, \"WS/48\": -0.003, \"OBPM\": -4.0, \"DBPM\": 0.1, \"BPM\": -0.4870978284730174, \"VORP\": -0.2, \"pred\": 22, \"pred1\": 22, \"pred2\": 22, \"pred3\": 22, \"pred4\": 20, \"pred5\": 22, \"pred6\": 22, \"pred7\": 20, \"pred8\": 20, \"pred9\": 20}, {\"Player\": \"Alize Johnson\", \"Pos\": \"SF\", \"Age\": 23, \"Tm\": \"IND\", \"G\": 17, \"MP\": 118, \"PER\": 13.3, \"TS%\": 0.509, \"3PAr\": 0.276, \"FTr\": 0.345, \"ORB%\": 15.0, \"DRB%\": 29.4, \"TRB%\": 22.3, \"AST%\": 7.7, \"STL%\": 1.2, \"BLK%\": 1.5, \"TOV%\": 17.3, \"USG%\": -0.5879533785383732, \"OWS\": 0.1, \"DWS\": 0.2, \"WS\": 0.3, \"WS/48\": 0.111, \"OBPM\": -1.8, \"DBPM\": 0.3, \"BPM\": 0.06613859614402652, \"VORP\": 0.0, \"pred\": 23, \"pred1\": 23, \"pred2\": 19, \"pred3\": 19, \"pred4\": 19, \"pred5\": 19, \"pred6\": 19, \"pred7\": 29, \"pred8\": 23, \"pred9\": 29}, {\"Player\": \"B.J. Johnson\", \"Pos\": \"SF\", \"Age\": 24, \"Tm\": \"ORL\", \"G\": 10, \"MP\": 83, \"PER\": 5.4, \"TS%\": 0.412, \"3PAr\": 0.281, \"FTr\": 0.313, \"ORB%\": 3.8, \"DRB%\": 16.1, \"TRB%\": 9.7, \"AST%\": 5.1, \"STL%\": 1.8, \"BLK%\": 0.0, \"TOV%\": 14.2, \"USG%\": 0.6726948150610208, \"OWS\": -0.2, \"DWS\": 0.1, \"WS\": -0.1, \"WS/48\": -0.074, \"OBPM\": -5.8, \"DBPM\": -3.2, \"BPM\": -1.7378932232593778, \"VORP\": -0.1, \"pred\": 24, \"pred1\": 24, \"pred2\": 21, \"pred3\": 21, \"pred4\": 22, \"pred5\": 22, \"pred6\": 22, \"pred7\": 22, \"pred8\": 22, \"pred9\": 22}, {\"Player\": \"Cameron Johnson\", \"Pos\": \"PF\", \"Age\": 23, \"Tm\": \"PHO\", \"G\": 57, \"MP\": 1255, \"PER\": 12.9, \"TS%\": 0.586, \"3PAr\": 0.672, \"FTr\": 0.141, \"ORB%\": 4.3, \"DRB%\": 12.4, \"TRB%\": 8.3, \"AST%\": 7.7, \"STL%\": 1.4, \"BLK%\": 1.4, \"TOV%\": 6.9, \"USG%\": -0.4636641200144894, \"OWS\": 1.7, \"DWS\": 1.0, \"WS\": 2.7, \"WS/48\": 0.102, \"OBPM\": 0.8, \"DBPM\": -0.4, \"BPM\": 0.49910623280084354, \"VORP\": 0.7, \"pred\": 23, \"pred1\": 23, \"pred2\": 23, \"pred3\": 23, \"pred4\": 23, \"pred5\": 23, \"pred6\": 23, \"pred7\": 23, \"pred8\": 23, \"pred9\": 23}, {\"Player\": \"James Johnson\", \"Pos\": \"PF\", \"Age\": 32, \"Tm\": \"TOT\", \"G\": 32, \"MP\": 619, \"PER\": 14.8, \"TS%\": 0.572, \"3PAr\": 0.423, \"FTr\": 0.223, \"ORB%\": 4.3, \"DRB%\": 16.3, \"TRB%\": 10.3, \"AST%\": 18.4, \"STL%\": 1.9, \"BLK%\": 4.6, \"TOV%\": 16.9, \"USG%\": 0.19329338932603957, \"OWS\": 0.3, \"DWS\": 0.8, \"WS\": 1.1, \"WS/48\": 0.089, \"OBPM\": -1.1, \"DBPM\": 1.1, \"BPM\": 0.42694496002470733, \"VORP\": 0.3, \"pred\": 32, \"pred1\": 32, \"pred2\": 28, \"pred3\": 28, \"pred4\": 28, \"pred5\": 24, \"pred6\": 23, \"pred7\": 23, \"pred8\": 23, \"pred9\": 27}, {\"Player\": \"James Johnson\", \"Pos\": \"PF\", \"Age\": 32, \"Tm\": \"MIA\", \"G\": 18, \"MP\": 281, \"PER\": 11.1, \"TS%\": 0.547, \"3PAr\": 0.517, \"FTr\": 0.161, \"ORB%\": 3.3, \"DRB%\": 16.9, \"TRB%\": 10.4, \"AST%\": 11.1, \"STL%\": 1.0, \"BLK%\": 4.6, \"TOV%\": 13.9, \"USG%\": -0.23284121132727637, \"OWS\": 0.0, \"DWS\": 0.4, \"WS\": 0.4, \"WS/48\": 0.065, \"OBPM\": -2.6, \"DBPM\": 0.8, \"BPM\": -0.00602267663210966, \"VORP\": 0.0, \"pred\": 22, \"pred1\": 22, \"pred2\": 20, \"pred3\": 20, \"pred4\": 20, \"pred5\": 24, \"pred6\": 24, \"pred7\": 24, \"pred8\": 24, \"pred9\": 24}, {\"Player\": \"James Johnson\", \"Pos\": \"PF\", \"Age\": 32, \"Tm\": \"MIN\", \"G\": 14, \"MP\": 338, \"PER\": 17.9, \"TS%\": 0.588, \"3PAr\": 0.359, \"FTr\": 0.266, \"ORB%\": 5.1, \"DRB%\": 15.9, \"TRB%\": 10.3, \"AST%\": 24.4, \"STL%\": 2.6, \"BLK%\": 4.7, \"TOV%\": 18.8, \"USG%\": 0.5484055565371364, \"OWS\": 0.3, \"DWS\": 0.4, \"WS\": 0.8, \"WS/48\": 0.109, \"OBPM\": 0.1, \"DBPM\": 1.5, \"BPM\": 0.8118050814974337, \"VORP\": 0.3, \"pred\": 32, \"pred1\": 32, \"pred2\": 26, \"pred3\": 26, \"pred4\": 26, \"pred5\": 26, \"pred6\": 26, \"pred7\": 26, \"pred8\": 26, \"pred9\": 26}, {\"Player\": \"Keldon Johnson\", \"Pos\": \"SF\", \"Age\": 20, \"Tm\": \"SAS\", \"G\": 17, \"MP\": 301, \"PER\": 19.1, \"TS%\": 0.711, \"3PAr\": 0.247, \"FTr\": 0.494, \"ORB%\": 3.6, \"DRB%\": 16.8, \"TRB%\": 10.2, \"AST%\": 7.2, \"STL%\": 2.2, \"BLK%\": 0.6, \"TOV%\": 10.7, \"USG%\": -0.16181877788505725, \"OWS\": 0.8, \"DWS\": 0.2, \"WS\": 1.1, \"WS/48\": 0.174, \"OBPM\": 1.5, \"DBPM\": 0.0, \"BPM\": 0.7877513239053882, \"VORP\": 0.3, \"pred\": 20, \"pred1\": 20, \"pred2\": 20, \"pred3\": 20, \"pred4\": 20, \"pred5\": 20, \"pred6\": 20, \"pred7\": 20, \"pred8\": 23, \"pred9\": 23}, {\"Player\": \"Stanley Johnson\", \"Pos\": \"PF\", \"Age\": 23, \"Tm\": \"TOR\", \"G\": 25, \"MP\": 150, \"PER\": 9.9, \"TS%\": 0.454, \"3PAr\": 0.407, \"FTr\": 0.271, \"ORB%\": 5.0, \"DRB%\": 20.6, \"TRB%\": 13.0, \"AST%\": 19.4, \"STL%\": 1.9, \"BLK%\": 2.6, \"TOV%\": 18.5, \"USG%\": 0.8502508986665692, \"OWS\": -0.3, \"DWS\": 0.3, \"WS\": 0.0, \"WS/48\": 0.014, \"OBPM\": -3.9, \"DBPM\": 1.4, \"BPM\": -0.19845273736847277, \"VORP\": 0.0, \"pred\": 23, \"pred1\": 23, \"pred2\": 21, \"pred3\": 21, \"pred4\": 21, \"pred5\": 23, \"pred6\": 23, \"pred7\": 23, \"pred8\": 23, \"pred9\": 23}, {\"Player\": \"Tyler Johnson\", \"Pos\": \"SG\", \"Age\": 27, \"Tm\": \"TOT\", \"G\": 39, \"MP\": 709, \"PER\": 10.1, \"TS%\": 0.504, \"3PAr\": 0.476, \"FTr\": 0.2, \"ORB%\": 2.7, \"DRB%\": 8.9, \"TRB%\": 5.8, \"AST%\": 14.8, \"STL%\": 1.1, \"BLK%\": 1.1, \"TOV%\": 9.6, \"USG%\": -0.05528512772172796, \"OWS\": 0.3, \"DWS\": 0.5, \"WS\": 0.7, \"WS/48\": 0.05, \"OBPM\": -2.0, \"DBPM\": -0.9, \"BPM\": -0.2706140101446089, \"VORP\": -0.2, \"pred\": 27, \"pred1\": 27, \"pred2\": 22, \"pred3\": 22, \"pred4\": 22, \"pred5\": 22, \"pred6\": 22, \"pred7\": 22, \"pred8\": 22, \"pred9\": 20}, {\"Player\": \"Tyler Johnson\", \"Pos\": \"SG\", \"Age\": 27, \"Tm\": \"PHO\", \"G\": 31, \"MP\": 515, \"PER\": 8.1, \"TS%\": 0.481, \"3PAr\": 0.485, \"FTr\": 0.187, \"ORB%\": 2.1, \"DRB%\": 9.2, \"TRB%\": 5.6, \"AST%\": 13.3, \"STL%\": 1.1, \"BLK%\": 1.4, \"TOV%\": 11.5, \"USG%\": -0.17957438624561173, \"OWS\": -0.2, \"DWS\": 0.3, \"WS\": 0.2, \"WS/48\": 0.014, \"OBPM\": -3.0, \"DBPM\": -0.6, \"BPM\": -0.4389903132889267, \"VORP\": -0.2, \"pred\": 27, \"pred1\": 27, \"pred2\": 20, \"pred3\": 20, \"pred4\": 20, \"pred5\": 20, \"pred6\": 20, \"pred7\": 22, \"pred8\": 22, \"pred9\": 20}, {\"Player\": \"Tyler Johnson\", \"Pos\": \"SG\", \"Age\": 27, \"Tm\": \"BRK\", \"G\": 8, \"MP\": 194, \"PER\": 15.6, \"TS%\": 0.552, \"3PAr\": 0.456, \"FTr\": 0.228, \"ORB%\": 4.4, \"DRB%\": 8.4, \"TRB%\": 6.4, \"AST%\": 18.6, \"STL%\": 1.0, \"BLK%\": 0.4, \"TOV%\": 5.4, \"USG%\": 0.2643158227682593, \"OWS\": 0.4, \"DWS\": 0.1, \"WS\": 0.6, \"WS/48\": 0.144, \"OBPM\": 0.6, \"DBPM\": -1.7, \"BPM\": 0.16235362651220805, \"VORP\": 0.0, \"pred\": 27, \"pred1\": 27, \"pred2\": 24, \"pred3\": 24, \"pred4\": 31, \"pred5\": 31, \"pred6\": 31, \"pred7\": 31, \"pred8\": 31, \"pred9\": 31}, {\"Player\": \"Nikola Joki\\u0107\", \"Pos\": \"C\", \"Age\": 24, \"Tm\": \"DEN\", \"G\": 73, \"MP\": 2336, \"PER\": 24.9, \"TS%\": 0.605, \"3PAr\": 0.238, \"FTr\": 0.281, \"ORB%\": 8.0, \"DRB%\": 26.1, \"TRB%\": 17.1, \"AST%\": 35.2, \"STL%\": 1.8, \"BLK%\": 1.7, \"TOV%\": 15.8, \"USG%\": 1.4716971912859886, \"OWS\": 6.7, \"DWS\": 3.1, \"WS\": 9.8, \"WS/48\": 0.202, \"OBPM\": 5.5, \"DBPM\": 2.0, \"BPM\": 2.206923021836066, \"VORP\": 5.5, \"pred\": 26, \"pred1\": 26, \"pred2\": 24, \"pred3\": 24, \"pred4\": 24, \"pred5\": 24, \"pred6\": 24, \"pred7\": 29, \"pred8\": 29, \"pred9\": 29}, {\"Player\": \"Damian Jones\", \"Pos\": \"C\", \"Age\": 24, \"Tm\": \"ATL\", \"G\": 55, \"MP\": 887, \"PER\": 15.6, \"TS%\": 0.712, \"3PAr\": 0.051, \"FTr\": 0.472, \"ORB%\": 8.9, \"DRB%\": 16.2, \"TRB%\": 12.5, \"AST%\": 5.6, \"STL%\": 1.4, \"BLK%\": 3.8, \"TOV%\": 11.5, \"USG%\": -1.2271552795183474, \"OWS\": 2.2, \"DWS\": 0.6, \"WS\": 2.8, \"WS/48\": 0.152, \"OBPM\": -1.6, \"DBPM\": 0.1, \"BPM\": 0.06613859614402652, \"VORP\": 0.1, \"pred\": 24, \"pred1\": 24, \"pred2\": 24, \"pred3\": 24, \"pred4\": 24, \"pred5\": 24, \"pred6\": 22, \"pred7\": 22, \"pred8\": 34, \"pred9\": 34}, {\"Player\": \"Derrick Jones Jr.\", \"Pos\": \"SF\", \"Age\": 22, \"Tm\": \"MIA\", \"G\": 59, \"MP\": 1375, \"PER\": 14.9, \"TS%\": 0.62, \"3PAr\": 0.378, \"FTr\": 0.352, \"ORB%\": 5.6, \"DRB%\": 13.1, \"TRB%\": 9.5, \"AST%\": 6.7, \"STL%\": 2.1, \"BLK%\": 2.7, \"TOV%\": 6.9, \"USG%\": -0.7832650705044764, \"OWS\": 2.6, \"DWS\": 1.8, \"WS\": 4.4, \"WS/48\": 0.153, \"OBPM\": -0.3, \"DBPM\": 1.1, \"BPM\": 0.595321263169025, \"VORP\": 1.0, \"pred\": 32, \"pred1\": 32, \"pred2\": 28, \"pred3\": 28, \"pred4\": 28, \"pred5\": 28, \"pred6\": 26, \"pred7\": 26, \"pred8\": 26, \"pred9\": 26}, {\"Player\": \"Tyus Jones\", \"Pos\": \"PG\", \"Age\": 23, \"Tm\": \"MEM\", \"G\": 65, \"MP\": 1232, \"PER\": 15.7, \"TS%\": 0.532, \"3PAr\": 0.289, \"FTr\": 0.135, \"ORB%\": 0.8, \"DRB%\": 7.9, \"TRB%\": 4.4, \"AST%\": 32.0, \"STL%\": 2.2, \"BLK%\": 0.4, \"TOV%\": 10.8, \"USG%\": -0.19732999460616682, \"OWS\": 1.9, \"DWS\": 1.1, \"WS\": 3.0, \"WS/48\": 0.117, \"OBPM\": 0.4, \"DBPM\": 0.2, \"BPM\": 0.5712675055769797, \"VORP\": 0.8, \"pred\": 23, \"pred1\": 23, \"pred2\": 21, \"pred3\": 21, \"pred4\": 29, \"pred5\": 29, \"pred6\": 29, \"pred7\": 23, \"pred8\": 23, \"pred9\": 23}, {\"Player\": \"DeAndre Jordan\", \"Pos\": \"C\", \"Age\": 31, \"Tm\": \"BRK\", \"G\": 56, \"MP\": 1234, \"PER\": 19.9, \"TS%\": 0.682, \"3PAr\": 0.0, \"FTr\": 0.425, \"ORB%\": 12.1, \"DRB%\": 34.5, \"TRB%\": 23.5, \"AST%\": 12.6, \"STL%\": 0.7, \"BLK%\": 3.5, \"TOV%\": 17.8, \"USG%\": -0.7477538537833668, \"OWS\": 3.0, \"DWS\": 2.2, \"WS\": 5.2, \"WS/48\": 0.2, \"OBPM\": 1.2, \"DBPM\": 1.8, \"BPM\": 1.148557687786069, \"VORP\": 1.5, \"pred\": 31, \"pred1\": 31, \"pred2\": 21, \"pred3\": 21, \"pred4\": 21, \"pred5\": 21, \"pred6\": 21, \"pred7\": 21, \"pred8\": 21, \"pred9\": 21}, {\"Player\": \"Cory Joseph\", \"Pos\": \"PG\", \"Age\": 28, \"Tm\": \"SAC\", \"G\": 72, \"MP\": 1759, \"PER\": 10.1, \"TS%\": 0.517, \"3PAr\": 0.386, \"FTr\": 0.17, \"ORB%\": 2.7, \"DRB%\": 9.4, \"TRB%\": 6.0, \"AST%\": 19.1, \"STL%\": 1.5, \"BLK%\": 1.1, \"TOV%\": 15.3, \"USG%\": -0.9608211541100248, \"OWS\": 1.2, \"DWS\": 1.1, \"WS\": 2.3, \"WS/48\": 0.062, \"OBPM\": -2.1, \"DBPM\": 0.1, \"BPM\": -0.05413019181620043, \"VORP\": 0.0, \"pred\": 28, \"pred1\": 28, \"pred2\": 22, \"pred3\": 22, \"pred4\": 22, \"pred5\": 22, \"pred6\": 22, \"pred7\": 22, \"pred8\": 22, \"pred9\": 22}, {\"Player\": \"Mfiondu Kabengele\", \"Pos\": \"C\", \"Age\": 22, \"Tm\": \"LAC\", \"G\": 12, \"MP\": 64, \"PER\": 18.2, \"TS%\": 0.614, \"3PAr\": 0.625, \"FTr\": 0.156, \"ORB%\": 1.7, \"DRB%\": 15.8, \"TRB%\": 8.9, \"AST%\": 4.9, \"STL%\": 1.5, \"BLK%\": 2.8, \"TOV%\": 5.5, \"USG%\": 0.9567845488298978, \"OWS\": 0.1, \"DWS\": 0.1, \"WS\": 0.2, \"WS/48\": 0.173, \"OBPM\": 2.3, \"DBPM\": -0.1, \"BPM\": 0.9561276270497059, \"VORP\": 0.1, \"pred\": 22, \"pred1\": 22, \"pred2\": 22, \"pred3\": 22, \"pred4\": 22, \"pred5\": 22, \"pred6\": 22, \"pred7\": 22, \"pred8\": 22, \"pred9\": 22}, {\"Player\": \"Frank Kaminsky\", \"Pos\": \"C\", \"Age\": 26, \"Tm\": \"PHO\", \"G\": 39, \"MP\": 777, \"PER\": 14.2, \"TS%\": 0.545, \"3PAr\": 0.404, \"FTr\": 0.293, \"ORB%\": 4.9, \"DRB%\": 20.4, \"TRB%\": 12.6, \"AST%\": 14.3, \"STL%\": 0.9, \"BLK%\": 1.1, \"TOV%\": 9.6, \"USG%\": 0.47738312309491726, \"OWS\": 0.7, \"DWS\": 0.7, \"WS\": 1.4, \"WS/48\": 0.087, \"OBPM\": -0.1, \"DBPM\": -0.4, \"BPM\": 0.3066761720644804, \"VORP\": 0.3, \"pred\": 26, \"pred1\": 26, \"pred2\": 22, \"pred3\": 22, \"pred4\": 22, \"pred5\": 27, \"pred6\": 27, \"pred7\": 27, \"pred8\": 27, \"pred9\": 27}, {\"Player\": \"Enes Kanter\", \"Pos\": \"C\", \"Age\": 27, \"Tm\": \"BOS\", \"G\": 58, \"MP\": 983, \"PER\": 22.4, \"TS%\": 0.599, \"3PAr\": 0.02, \"FTr\": 0.284, \"ORB%\": 18.0, \"DRB%\": 28.9, \"TRB%\": 23.5, \"AST%\": 8.8, \"STL%\": 1.1, \"BLK%\": 3.9, \"TOV%\": 12.5, \"USG%\": 0.19329338932603957, \"OWS\": 2.6, \"DWS\": 1.8, \"WS\": 4.4, \"WS/48\": 0.214, \"OBPM\": 1.8, \"DBPM\": -0.3, \"BPM\": 0.7877513239053882, \"VORP\": 0.9, \"pred\": 27, \"pred1\": 27, \"pred2\": 25, \"pred3\": 25, \"pred4\": 25, \"pred5\": 25, \"pred6\": 22, \"pred7\": 22, \"pred8\": 22, \"pred9\": 22}, {\"Player\": \"Luke Kennard\", \"Pos\": \"SG\", \"Age\": 23, \"Tm\": \"DET\", \"G\": 28, \"MP\": 922, \"PER\": 14.4, \"TS%\": 0.589, \"3PAr\": 0.535, \"FTr\": 0.219, \"ORB%\": 1.1, \"DRB%\": 11.1, \"TRB%\": 6.0, \"AST%\": 19.2, \"STL%\": 0.6, \"BLK%\": 0.5, \"TOV%\": 10.3, \"USG%\": 0.2643158227682593, \"OWS\": 1.6, \"DWS\": 0.3, \"WS\": 1.9, \"WS/48\": 0.1, \"OBPM\": 1.1, \"DBPM\": -1.4, \"BPM\": 0.3547836872485712, \"VORP\": 0.4, \"pred\": 23, \"pred1\": 23, \"pred2\": 23, \"pred3\": 23, \"pred4\": 27, \"pred5\": 27, \"pred6\": 27, \"pred7\": 27, \"pred8\": 27, \"pred9\": 27}, {\"Player\": \"Stanton Kidd\", \"Pos\": \"SF\", \"Age\": 27, \"Tm\": \"UTA\", \"G\": 4, \"MP\": 15, \"PER\": -13.7, \"TS%\": 0.0, \"3PAr\": 0.333, \"FTr\": 0.0, \"ORB%\": 0.0, \"DRB%\": 21.3, \"TRB%\": 11.0, \"AST%\": 8.0, \"STL%\": 0.0, \"BLK%\": 0.0, \"TOV%\": 40.0, \"USG%\": -0.6589758119805926, \"OWS\": -0.1, \"DWS\": 0.0, \"WS\": -0.1, \"WS/48\": -0.327, \"OBPM\": -15.7, \"DBPM\": -1.3, \"BPM\": -3.662193830623009, \"VORP\": -0.1, \"pred\": 27, \"pred1\": 27, \"pred2\": 26, \"pred3\": 26, \"pred4\": 26, \"pred5\": 26, \"pred6\": 24, \"pred7\": 22, \"pred8\": 22, \"pred9\": 22}, {\"Player\": \"Michael Kidd-Gilchrist\", \"Pos\": \"SF-PF\", \"Age\": 26, \"Tm\": \"TOT\", \"G\": 25, \"MP\": 281, \"PER\": 4.2, \"TS%\": 0.416, \"3PAr\": 0.303, \"FTr\": 0.212, \"ORB%\": 5.3, \"DRB%\": 20.4, \"TRB%\": 12.8, \"AST%\": 7.1, \"STL%\": 0.3, \"BLK%\": 1.9, \"TOV%\": 18.1, \"USG%\": -0.8187762872255863, \"OWS\": -0.4, \"DWS\": 0.2, \"WS\": -0.2, \"WS/48\": -0.03, \"OBPM\": -6.3, \"DBPM\": -1.1, \"BPM\": -1.3530331017866515, \"VORP\": -0.4, \"pred\": 26, \"pred1\": 26, \"pred2\": 26, \"pred3\": 23, \"pred4\": 23, \"pred5\": 23, \"pred6\": 22, \"pred7\": 23, \"pred8\": 23, \"pred9\": 23}, {\"Player\": \"Michael Kidd-Gilchrist\", \"Pos\": \"PF\", \"Age\": 26, \"Tm\": \"CHO\", \"G\": 12, \"MP\": 160, \"PER\": 6.1, \"TS%\": 0.421, \"3PAr\": 0.321, \"FTr\": 0.17, \"ORB%\": 5.9, \"DRB%\": 18.4, \"TRB%\": 11.9, \"AST%\": 9.5, \"STL%\": 0.0, \"BLK%\": 1.7, \"TOV%\": 10.9, \"USG%\": -0.12630756116394706, \"OWS\": -0.2, \"DWS\": 0.1, \"WS\": -0.1, \"WS/48\": -0.028, \"OBPM\": -5.3, \"DBPM\": -1.6, \"BPM\": -1.2327643138264246, \"VORP\": -0.2, \"pred\": 22, \"pred1\": 22, \"pred2\": 22, \"pred3\": 22, \"pred4\": 22, \"pred5\": 22, \"pred6\": 22, \"pred7\": 22, \"pred8\": 22, \"pred9\": 22}, {\"Player\": \"Michael Kidd-Gilchrist\", \"Pos\": \"SF\", \"Age\": 26, \"Tm\": \"DAL\", \"G\": 13, \"MP\": 121, \"PER\": 1.7, \"TS%\": 0.395, \"3PAr\": 0.231, \"FTr\": 0.385, \"ORB%\": 4.4, \"DRB%\": 23.1, \"TRB%\": 13.9, \"AST%\": 4.0, \"STL%\": 0.8, \"BLK%\": 2.1, \"TOV%\": 37.2, \"USG%\": -1.742067921974438, \"OWS\": -0.2, \"DWS\": 0.1, \"WS\": -0.1, \"WS/48\": -0.032, \"OBPM\": -7.6, \"DBPM\": -0.4, \"BPM\": -1.4973556473389238, \"VORP\": -0.2, \"pred\": 26, \"pred1\": 26, \"pred2\": 22, \"pred3\": 22, \"pred4\": 22, \"pred5\": 26, \"pred6\": 26, \"pred7\": 26, \"pred8\": 26, \"pred9\": 26}, {\"Player\": \"Louis King\", \"Pos\": \"SF\", \"Age\": 20, \"Tm\": \"DET\", \"G\": 10, \"MP\": 62, \"PER\": 6.2, \"TS%\": 0.448, \"3PAr\": 0.524, \"FTr\": 0.143, \"ORB%\": 1.8, \"DRB%\": 16.7, \"TRB%\": 9.2, \"AST%\": 11.8, \"STL%\": 1.6, \"BLK%\": 0.0, \"TOV%\": 8.2, \"USG%\": -0.21508560296672127, \"OWS\": -0.1, \"DWS\": 0.0, \"WS\": 0.0, \"WS/48\": -0.007, \"OBPM\": -5.1, \"DBPM\": -1.1, \"BPM\": -1.0643880106821069, \"VORP\": -0.1, \"pred\": 20, \"pred1\": 20, \"pred2\": 20, \"pred3\": 20, \"pred4\": 24, \"pred5\": 24, \"pred6\": 24, \"pred7\": 24, \"pred8\": 22, \"pred9\": 22}, {\"Player\": \"Maxi Kleber\", \"Pos\": \"C\", \"Age\": 28, \"Tm\": \"DAL\", \"G\": 74, \"MP\": 1890, \"PER\": 13.6, \"TS%\": 0.605, \"3PAr\": 0.621, \"FTr\": 0.181, \"ORB%\": 6.3, \"DRB%\": 15.1, \"TRB%\": 10.8, \"AST%\": 6.3, \"STL%\": 0.6, \"BLK%\": 3.8, \"TOV%\": 9.5, \"USG%\": -0.7832650705044764, \"OWS\": 3.2, \"DWS\": 1.7, \"WS\": 4.8, \"WS/48\": 0.123, \"OBPM\": 0.4, \"DBPM\": 0.0, \"BPM\": 0.523159990392889, \"VORP\": 1.1, \"pred\": 28, \"pred1\": 28, \"pred2\": 28, \"pred3\": 26, \"pred4\": 26, \"pred5\": 26, \"pred6\": 26, \"pred7\": 26, \"pred8\": 26, \"pred9\": 26}, {\"Player\": \"Brandon Knight\", \"Pos\": \"PG\", \"Age\": 28, \"Tm\": \"TOT\", \"G\": 25, \"MP\": 462, \"PER\": 8.5, \"TS%\": 0.503, \"3PAr\": 0.784, \"FTr\": 0.204, \"ORB%\": 1.0, \"DRB%\": 9.1, \"TRB%\": 5.0, \"AST%\": 21.6, \"STL%\": 1.1, \"BLK%\": 0.6, \"TOV%\": 17.3, \"USG%\": 0.40636068965269817, \"OWS\": -0.2, \"DWS\": 0.1, \"WS\": -0.1, \"WS/48\": -0.01, \"OBPM\": -1.8, \"DBPM\": -2.6, \"BPM\": -0.6314203740252899, \"VORP\": -0.3, \"pred\": 28, \"pred1\": 28, \"pred2\": 20, \"pred3\": 20, \"pred4\": 19, \"pred5\": 19, \"pred6\": 19, \"pred7\": 23, \"pred8\": 23, \"pred9\": 20}, {\"Player\": \"Brandon Knight\", \"Pos\": \"PG\", \"Age\": 28, \"Tm\": \"CLE\", \"G\": 16, \"MP\": 241, \"PER\": 5.4, \"TS%\": 0.431, \"3PAr\": 0.744, \"FTr\": 0.151, \"ORB%\": 1.4, \"DRB%\": 7.9, \"TRB%\": 4.6, \"AST%\": 18.0, \"STL%\": 1.0, \"BLK%\": 0.7, \"TOV%\": 14.9, \"USG%\": 0.14002656424437554, \"OWS\": -0.3, \"DWS\": 0.0, \"WS\": -0.3, \"WS/48\": -0.062, \"OBPM\": -3.9, \"DBPM\": -2.7, \"BPM\": -1.1846567986423338, \"VORP\": -0.3, \"pred\": 26, \"pred1\": 26, \"pred2\": 26, \"pred3\": 22, \"pred4\": 30, \"pred5\": 22, \"pred6\": 22, \"pred7\": 22, \"pred8\": 22, \"pred9\": 20}, {\"Player\": \"Brandon Knight\", \"Pos\": \"PG\", \"Age\": 28, \"Tm\": \"DET\", \"G\": 9, \"MP\": 221, \"PER\": 11.9, \"TS%\": 0.576, \"3PAr\": 0.827, \"FTr\": 0.259, \"ORB%\": 0.5, \"DRB%\": 10.4, \"TRB%\": 5.4, \"AST%\": 25.6, \"STL%\": 1.1, \"BLK%\": 0.4, \"TOV%\": 19.6, \"USG%\": 0.6904504234215753, \"OWS\": 0.1, \"DWS\": 0.1, \"WS\": 0.2, \"WS/48\": 0.046, \"OBPM\": 0.5, \"DBPM\": -2.5, \"BPM\": -0.05413019181620043, \"VORP\": 0.0, \"pred\": 28, \"pred1\": 28, \"pred2\": 23, \"pred3\": 23, \"pred4\": 23, \"pred5\": 23, \"pred6\": 23, \"pred7\": 23, \"pred8\": 23, \"pred9\": 23}, {\"Player\": \"Kevin Knox\", \"Pos\": \"SF\", \"Age\": 20, \"Tm\": \"NYK\", \"G\": 65, \"MP\": 1166, \"PER\": 8.3, \"TS%\": 0.47, \"3PAr\": 0.496, \"FTr\": 0.252, \"ORB%\": 2.5, \"DRB%\": 14.7, \"TRB%\": 8.4, \"AST%\": 7.4, \"STL%\": 1.0, \"BLK%\": 2.3, \"TOV%\": 9.2, \"USG%\": -0.09079634444283752, \"OWS\": -0.5, \"DWS\": 0.7, \"WS\": 0.2, \"WS/48\": 0.007, \"OBPM\": -3.1, \"DBPM\": -1.1, \"BPM\": -0.5833128588411991, \"VORP\": -0.7, \"pred\": 20, \"pred1\": 20, \"pred2\": 20, \"pred3\": 20, \"pred4\": 20, \"pred5\": 20, \"pred6\": 20, \"pred7\": 20, \"pred8\": 20, \"pred9\": 20}, {\"Player\": \"John Konchar\", \"Pos\": \"SG\", \"Age\": 23, \"Tm\": \"MEM\", \"G\": 19, \"MP\": 181, \"PER\": 18.0, \"TS%\": 0.713, \"3PAr\": 0.27, \"FTr\": 0.054, \"ORB%\": 10.7, \"DRB%\": 16.6, \"TRB%\": 13.7, \"AST%\": 16.2, \"STL%\": 1.8, \"BLK%\": 1.5, \"TOV%\": 15.6, \"USG%\": -1.4224669714844507, \"OWS\": 0.5, \"DWS\": 0.2, \"WS\": 0.7, \"WS/48\": 0.182, \"OBPM\": 2.5, \"DBPM\": 2.0, \"BPM\": 1.5093640516667497, \"VORP\": 0.3, \"pred\": 23, \"pred1\": 23, \"pred2\": 23, \"pred3\": 20, \"pred4\": 20, \"pred5\": 20, \"pred6\": 31, \"pred7\": 31, \"pred8\": 28, \"pred9\": 28}, {\"Player\": \"Furkan Korkmaz\", \"Pos\": \"SG\", \"Age\": 22, \"Tm\": \"PHI\", \"G\": 72, \"MP\": 1559, \"PER\": 12.0, \"TS%\": 0.579, \"3PAr\": 0.632, \"FTr\": 0.181, \"ORB%\": 1.3, \"DRB%\": 10.6, \"TRB%\": 6.0, \"AST%\": 7.3, \"STL%\": 1.3, \"BLK%\": 0.9, \"TOV%\": 8.8, \"USG%\": 0.015737305720491156, \"OWS\": 1.4, \"DWS\": 1.4, \"WS\": 2.8, \"WS/48\": 0.085, \"OBPM\": -0.3, \"DBPM\": -1.0, \"BPM\": 0.11424611132811728, \"VORP\": 0.3, \"pred\": 22, \"pred1\": 22, \"pred2\": 22, \"pred3\": 22, \"pred4\": 22, \"pred5\": 22, \"pred6\": 21, \"pred7\": 21, \"pred8\": 20, \"pred9\": 23}, {\"Player\": \"Luke Kornet\", \"Pos\": \"C\", \"Age\": 24, \"Tm\": \"CHI\", \"G\": 36, \"MP\": 559, \"PER\": 12.7, \"TS%\": 0.539, \"3PAr\": 0.578, \"FTr\": 0.15, \"ORB%\": 4.1, \"DRB%\": 12.9, \"TRB%\": 8.3, \"AST%\": 8.5, \"STL%\": 0.9, \"BLK%\": 4.4, \"TOV%\": 6.6, \"USG%\": -0.35713046985116015, \"OWS\": 0.5, \"DWS\": 0.6, \"WS\": 1.1, \"WS/48\": 0.091, \"OBPM\": -0.9, \"DBPM\": -0.2, \"BPM\": 0.1382998689201627, \"VORP\": 0.1, \"pred\": 24, \"pred1\": 24, \"pred2\": 23, \"pred3\": 22, \"pred4\": 22, \"pred5\": 22, \"pred6\": 22, \"pred7\": 24, \"pred8\": 24, \"pred9\": 23}, {\"Player\": \"Kyle Korver\", \"Pos\": \"SF\", \"Age\": 38, \"Tm\": \"MIL\", \"G\": 58, \"MP\": 960, \"PER\": 11.3, \"TS%\": 0.62, \"3PAr\": 0.809, \"FTr\": 0.14, \"ORB%\": 1.6, \"DRB%\": 10.4, \"TRB%\": 6.3, \"AST%\": 9.2, \"STL%\": 1.2, \"BLK%\": 1.1, \"TOV%\": 13.4, \"USG%\": -0.5169309450961538, \"OWS\": 0.9, \"DWS\": 1.5, \"WS\": 2.5, \"WS/48\": 0.124, \"OBPM\": -0.6, \"DBPM\": 0.7, \"BPM\": 0.45099871761675275, \"VORP\": 0.5, \"pred\": 38, \"pred1\": 38, \"pred2\": 29, \"pred3\": 23, \"pred4\": 23, \"pred5\": 23, \"pred6\": 23, \"pred7\": 21, \"pred8\": 21, \"pred9\": 21}, {\"Player\": \"Rodions Kurucs\", \"Pos\": \"PF\", \"Age\": 21, \"Tm\": \"BRK\", \"G\": 47, \"MP\": 684, \"PER\": 8.9, \"TS%\": 0.555, \"3PAr\": 0.508, \"FTr\": 0.215, \"ORB%\": 3.9, \"DRB%\": 16.6, \"TRB%\": 10.4, \"AST%\": 10.4, \"STL%\": 1.7, \"BLK%\": 0.6, \"TOV%\": 19.2, \"USG%\": -0.6412202036200378, \"OWS\": -0.1, \"DWS\": 0.8, \"WS\": 0.8, \"WS/48\": 0.055, \"OBPM\": -3.6, \"DBPM\": 0.8, \"BPM\": -0.2465602525525635, \"VORP\": -0.1, \"pred\": 21, \"pred1\": 21, \"pred2\": 21, \"pred3\": 21, \"pred4\": 21, \"pred5\": 21, \"pred6\": 24, \"pred7\": 21, \"pred8\": 21, \"pred9\": 24}, {\"Player\": \"Kyle Kuzma\", \"Pos\": \"PF\", \"Age\": 24, \"Tm\": \"LAL\", \"G\": 61, \"MP\": 1526, \"PER\": 12.2, \"TS%\": 0.531, \"3PAr\": 0.407, \"FTr\": 0.232, \"ORB%\": 3.8, \"DRB%\": 15.7, \"TRB%\": 9.8, \"AST%\": 7.6, \"STL%\": 0.9, \"BLK%\": 1.5, \"TOV%\": 11.0, \"USG%\": 0.814739681945459, \"OWS\": 0.1, \"DWS\": 1.9, \"WS\": 2.0, \"WS/48\": 0.063, \"OBPM\": -1.6, \"DBPM\": -1.0, \"BPM\": -0.19845273736847277, \"VORP\": -0.2, \"pred\": 23, \"pred1\": 23, \"pred2\": 21, \"pred3\": 21, \"pred4\": 21, \"pred5\": 23, \"pred6\": 23, \"pred7\": 23, \"pred8\": 23, \"pred9\": 23}, {\"Player\": \"Skal Labissi\\u00e8re\", \"Pos\": \"C\", \"Age\": 23, \"Tm\": \"POR\", \"G\": 33, \"MP\": 567, \"PER\": 15.4, \"TS%\": 0.588, \"3PAr\": 0.088, \"FTr\": 0.224, \"ORB%\": 12.1, \"DRB%\": 19.0, \"TRB%\": 15.6, \"AST%\": 10.1, \"STL%\": 0.6, \"BLK%\": 4.7, \"TOV%\": 15.7, \"USG%\": -0.712242637062257, \"OWS\": 1.0, \"DWS\": 0.4, \"WS\": 1.4, \"WS/48\": 0.119, \"OBPM\": -1.5, \"DBPM\": 0.2, \"BPM\": 0.11424611132811728, \"VORP\": 0.1, \"pred\": 23, \"pred1\": 23, \"pred2\": 23, \"pred3\": 33, \"pred4\": 33, \"pred5\": 23, \"pred6\": 23, \"pred7\": 23, \"pred8\": 24, \"pred9\": 24}, {\"Player\": \"Jeremy Lamb\", \"Pos\": \"SG\", \"Age\": 27, \"Tm\": \"IND\", \"G\": 46, \"MP\": 1291, \"PER\": 14.0, \"TS%\": 0.547, \"3PAr\": 0.33, \"FTr\": 0.23, \"ORB%\": 2.1, \"DRB%\": 14.8, \"TRB%\": 8.5, \"AST%\": 10.5, \"STL%\": 2.1, \"BLK%\": 1.5, \"TOV%\": 8.7, \"USG%\": 0.22880460604714975, \"OWS\": 0.9, \"DWS\": 1.8, \"WS\": 2.7, \"WS/48\": 0.099, \"OBPM\": -1.1, \"DBPM\": 0.8, \"BPM\": 0.33072992965652576, \"VORP\": 0.5, \"pred\": 27, \"pred1\": 27, \"pred2\": 23, \"pred3\": 23, \"pred4\": 27, \"pred5\": 27, \"pred6\": 27, \"pred7\": 27, \"pred8\": 27, \"pred9\": 27}, {\"Player\": \"Romeo Langford\", \"Pos\": \"SG\", \"Age\": 20, \"Tm\": \"BOS\", \"G\": 32, \"MP\": 370, \"PER\": 5.4, \"TS%\": 0.434, \"3PAr\": 0.338, \"FTr\": 0.313, \"ORB%\": 4.4, \"DRB%\": 7.4, \"TRB%\": 5.9, \"AST%\": 4.5, \"STL%\": 1.0, \"BLK%\": 2.0, \"TOV%\": 10.8, \"USG%\": -1.156132846076128, \"OWS\": -0.2, \"DWS\": 0.4, \"WS\": 0.2, \"WS/48\": 0.025, \"OBPM\": -4.7, \"DBPM\": -0.3, \"BPM\": -0.7516891619855168, \"VORP\": -0.3, \"pred\": 20, \"pred1\": 20, \"pred2\": 20, \"pred3\": 20, \"pred4\": 20, \"pred5\": 20, \"pred6\": 22, \"pred7\": 22, \"pred8\": 22, \"pred9\": 22}, {\"Player\": \"Zach LaVine\", \"Pos\": \"SG\", \"Age\": 24, \"Tm\": \"CHI\", \"G\": 60, \"MP\": 2085, \"PER\": 19.4, \"TS%\": 0.568, \"3PAr\": 0.404, \"FTr\": 0.279, \"ORB%\": 2.1, \"DRB%\": 13.8, \"TRB%\": 7.7, \"AST%\": 21.7, \"STL%\": 2.0, \"BLK%\": 1.3, \"TOV%\": 13.3, \"USG%\": 2.377233217674285, \"OWS\": 1.8, \"DWS\": 2.2, \"WS\": 4.0, \"WS/48\": 0.091, \"OBPM\": 3.2, \"DBPM\": -0.8, \"BPM\": 1.0042351422337967, \"VORP\": 2.4, \"pred\": 31, \"pred1\": 31, \"pred2\": 26, \"pred3\": 23, \"pred4\": 23, \"pred5\": 19, \"pred6\": 19, \"pred7\": 26, \"pred8\": 26, \"pred9\": 26}, {\"Player\": \"Vic Law\", \"Pos\": \"SF\", \"Age\": 24, \"Tm\": \"ORL\", \"G\": 8, \"MP\": 62, \"PER\": 3.7, \"TS%\": 0.363, \"3PAr\": 0.389, \"FTr\": 0.333, \"ORB%\": 3.4, \"DRB%\": 16.2, \"TRB%\": 9.6, \"AST%\": 6.7, \"STL%\": 1.6, \"BLK%\": 0.0, \"TOV%\": 8.8, \"USG%\": -0.44590851165393436, \"OWS\": -0.1, \"DWS\": 0.1, \"WS\": -0.1, \"WS/48\": -0.052, \"OBPM\": -7.1, \"DBPM\": -2.5, \"BPM\": -1.8822157688116499, \"VORP\": -0.1, \"pred\": 24, \"pred1\": 24, \"pred2\": 24, \"pred3\": 25, \"pred4\": 25, \"pred5\": 25, \"pred6\": 25, \"pred7\": 25, \"pred8\": 25, \"pred9\": 24}, {\"Player\": \"Jake Layman\", \"Pos\": \"PF\", \"Age\": 25, \"Tm\": \"MIN\", \"G\": 23, \"MP\": 505, \"PER\": 10.3, \"TS%\": 0.544, \"3PAr\": 0.402, \"FTr\": 0.179, \"ORB%\": 3.4, \"DRB%\": 8.7, \"TRB%\": 6.0, \"AST%\": 4.4, \"STL%\": 1.6, \"BLK%\": 1.6, \"TOV%\": 11.1, \"USG%\": -0.10855195280339261, \"OWS\": 0.0, \"DWS\": 0.3, \"WS\": 0.3, \"WS/48\": 0.03, \"OBPM\": -2.7, \"DBPM\": -1.0, \"BPM\": -0.46304407088097205, \"VORP\": -0.2, \"pred\": 25, \"pred1\": 25, \"pred2\": 22, \"pred3\": 20, \"pred4\": 20, \"pred5\": 22, \"pred6\": 20, \"pred7\": 20, \"pred8\": 20, \"pred9\": 20}, {\"Player\": \"T.J. Leaf\", \"Pos\": \"PF\", \"Age\": 22, \"Tm\": \"IND\", \"G\": 28, \"MP\": 222, \"PER\": 12.9, \"TS%\": 0.451, \"3PAr\": 0.209, \"FTr\": 0.186, \"ORB%\": 11.5, \"DRB%\": 23.5, \"TRB%\": 17.5, \"AST%\": 5.7, \"STL%\": 2.2, \"BLK%\": 1.6, \"TOV%\": 7.9, \"USG%\": 0.29982703948936884, \"OWS\": -0.1, \"DWS\": 0.4, \"WS\": 0.3, \"WS/48\": 0.061, \"OBPM\": -2.5, \"DBPM\": 0.1, \"BPM\": -0.15034522218438195, \"VORP\": 0.0, \"pred\": 21, \"pred1\": 21, \"pred2\": 21, \"pred3\": 19, \"pred4\": 30, \"pred5\": 30, \"pred6\": 30, \"pred7\": 23, \"pred8\": 23, \"pred9\": 23}, {\"Player\": \"Jalen Lecque\", \"Pos\": \"PG\", \"Age\": 19, \"Tm\": \"PHO\", \"G\": 5, \"MP\": 32, \"PER\": 2.7, \"TS%\": 0.46, \"3PAr\": 0.4, \"FTr\": 0.2, \"ORB%\": 0.0, \"DRB%\": 7.0, \"TRB%\": 3.5, \"AST%\": 8.6, \"STL%\": 0.0, \"BLK%\": 0.0, \"TOV%\": 15.5, \"USG%\": -0.21508560296672127, \"OWS\": 0.0, \"DWS\": 0.0, \"WS\": 0.0, \"WS/48\": -0.065, \"OBPM\": -7.1, \"DBPM\": -2.9, \"BPM\": -1.9784307991798316, \"VORP\": -0.1, \"pred\": 19, \"pred1\": 19, \"pred2\": 19, \"pred3\": 19, \"pred4\": 19, \"pred5\": 25, \"pred6\": 24, \"pred7\": 24, \"pred8\": 24, \"pred9\": 22}, {\"Player\": \"Courtney Lee\", \"Pos\": \"SG\", \"Age\": 34, \"Tm\": \"DAL\", \"G\": 24, \"MP\": 345, \"PER\": 10.8, \"TS%\": 0.629, \"3PAr\": 0.573, \"FTr\": 0.085, \"ORB%\": 2.2, \"DRB%\": 7.5, \"TRB%\": 4.9, \"AST%\": 4.7, \"STL%\": 2.5, \"BLK%\": 1.5, \"TOV%\": 11.4, \"USG%\": -1.1383772377155732, \"OWS\": 0.3, \"DWS\": 0.3, \"WS\": 0.7, \"WS/48\": 0.092, \"OBPM\": -2.1, \"DBPM\": 1.5, \"BPM\": 0.282622414472435, \"VORP\": 0.1, \"pred\": 34, \"pred1\": 34, \"pred2\": 34, \"pred3\": 34, \"pred4\": 34, \"pred5\": 34, \"pred6\": 34, \"pred7\": 34, \"pred8\": 34, \"pred9\": 34}, {\"Player\": \"Damion Lee\", \"Pos\": \"SG\", \"Age\": 27, \"Tm\": \"GSW\", \"G\": 49, \"MP\": 1423, \"PER\": 12.7, \"TS%\": 0.548, \"3PAr\": 0.468, \"FTr\": 0.247, \"ORB%\": 2.4, \"DRB%\": 16.3, \"TRB%\": 9.1, \"AST%\": 14.4, \"STL%\": 1.7, \"BLK%\": 0.4, \"TOV%\": 10.6, \"USG%\": 0.12227095588382046, \"OWS\": 0.9, \"DWS\": 0.8, \"WS\": 1.7, \"WS/48\": 0.058, \"OBPM\": -1.5, \"DBPM\": -0.8, \"BPM\": -0.12629146459233656, \"VORP\": -0.1, \"pred\": 27, \"pred1\": 27, \"pred2\": 23, \"pred3\": 23, \"pred4\": 27, \"pred5\": 27, \"pred6\": 27, \"pred7\": 19, \"pred8\": 19, \"pred9\": 19}, {\"Player\": \"Alex Len\", \"Pos\": \"C\", \"Age\": 26, \"Tm\": \"TOT\", \"G\": 55, \"MP\": 970, \"PER\": 17.7, \"TS%\": 0.6, \"3PAr\": 0.185, \"FTr\": 0.329, \"ORB%\": 11.1, \"DRB%\": 25.2, \"TRB%\": 18.0, \"AST%\": 7.9, \"STL%\": 1.1, \"BLK%\": 4.3, \"TOV%\": 13.1, \"USG%\": -0.03752951936117286, \"OWS\": 1.5, \"DWS\": 1.0, \"WS\": 2.5, \"WS/48\": 0.122, \"OBPM\": -0.5, \"DBPM\": -0.3, \"BPM\": 0.25856865688038966, \"VORP\": 0.3, \"pred\": 26, \"pred1\": 26, \"pred2\": 25, \"pred3\": 25, \"pred4\": 25, \"pred5\": 25, \"pred6\": 25, \"pred7\": 25, \"pred8\": 25, \"pred9\": 25}, {\"Player\": \"Alex Len\", \"Pos\": \"C\", \"Age\": 26, \"Tm\": \"ATL\", \"G\": 40, \"MP\": 745, \"PER\": 17.5, \"TS%\": 0.59, \"3PAr\": 0.215, \"FTr\": 0.312, \"ORB%\": 9.8, \"DRB%\": 23.6, \"TRB%\": 16.6, \"AST%\": 8.7, \"STL%\": 1.3, \"BLK%\": 3.7, \"TOV%\": 11.7, \"USG%\": 0.051248522441601344, \"OWS\": 1.1, \"DWS\": 0.6, \"WS\": 1.8, \"WS/48\": 0.113, \"OBPM\": -0.2, \"DBPM\": -0.2, \"BPM\": 0.33072992965652576, \"VORP\": 0.3, \"pred\": 26, \"pred1\": 26, \"pred2\": 26, \"pred3\": 26, \"pred4\": 26, \"pred5\": 26, \"pred6\": 25, \"pred7\": 26, \"pred8\": 26, \"pred9\": 28}, {\"Player\": \"Alex Len\", \"Pos\": \"C\", \"Age\": 26, \"Tm\": \"SAC\", \"G\": 15, \"MP\": 225, \"PER\": 18.2, \"TS%\": 0.64, \"3PAr\": 0.051, \"FTr\": 0.407, \"ORB%\": 15.1, \"DRB%\": 30.8, \"TRB%\": 22.8, \"AST%\": 5.2, \"STL%\": 0.6, \"BLK%\": 6.4, \"TOV%\": 18.7, \"USG%\": -0.3216192531300506, \"OWS\": 0.4, \"DWS\": 0.3, \"WS\": 0.7, \"WS/48\": 0.15, \"OBPM\": -1.3, \"DBPM\": -0.3, \"BPM\": 0.042084838551981106, \"VORP\": 0.0, \"pred\": 26, \"pred1\": 26, \"pred2\": 26, \"pred3\": 26, \"pred4\": 22, \"pred5\": 22, \"pred6\": 21, \"pred7\": 24, \"pred8\": 24, \"pred9\": 22}, {\"Player\": \"Kawhi Leonard\", \"Pos\": \"SF\", \"Age\": 28, \"Tm\": \"LAC\", \"G\": 57, \"MP\": 1848, \"PER\": 26.9, \"TS%\": 0.589, \"3PAr\": 0.287, \"FTr\": 0.355, \"ORB%\": 3.1, \"DRB%\": 19.1, \"TRB%\": 11.3, \"AST%\": 26.4, \"STL%\": 2.6, \"BLK%\": 1.6, \"TOV%\": 10.2, \"USG%\": 2.608056126361498, \"OWS\": 5.4, \"DWS\": 3.3, \"WS\": 8.7, \"WS/48\": 0.226, \"OBPM\": 6.5, \"DBPM\": 2.4, \"BPM\": 2.567729385716747, \"VORP\": 5.1, \"pred\": 28, \"pred1\": 28, \"pred2\": 28, \"pred3\": 27, \"pred4\": 27, \"pred5\": 27, \"pred6\": 26, \"pred7\": 25, \"pred8\": 25, \"pred9\": 25}, {\"Player\": \"Meyers Leonard\", \"Pos\": \"C\", \"Age\": 27, \"Tm\": \"MIA\", \"G\": 51, \"MP\": 1034, \"PER\": 10.6, \"TS%\": 0.627, \"3PAr\": 0.547, \"FTr\": 0.12, \"ORB%\": 3.4, \"DRB%\": 24.0, \"TRB%\": 14.1, \"AST%\": 7.6, \"STL%\": 0.7, \"BLK%\": 1.4, \"TOV%\": 13.7, \"USG%\": -1.0851104126339088, \"OWS\": 0.9, \"DWS\": 1.2, \"WS\": 2.1, \"WS/48\": 0.096, \"OBPM\": -1.3, \"DBPM\": 0.4, \"BPM\": 0.21046114169629884, \"VORP\": 0.3, \"pred\": 27, \"pred1\": 27, \"pred2\": 27, \"pred3\": 25, \"pred4\": 25, \"pred5\": 25, \"pred6\": 34, \"pred7\": 34, \"pred8\": 34, \"pred9\": 34}, {\"Player\": \"Caris LeVert\", \"Pos\": \"SG\", \"Age\": 25, \"Tm\": \"BRK\", \"G\": 45, \"MP\": 1330, \"PER\": 16.1, \"TS%\": 0.514, \"3PAr\": 0.301, \"FTr\": 0.269, \"ORB%\": 3.9, \"DRB%\": 10.7, \"TRB%\": 7.4, \"AST%\": 25.0, \"STL%\": 1.9, \"BLK%\": 0.6, \"TOV%\": 12.6, \"USG%\": 1.9866098337420788, \"OWS\": 0.1, \"DWS\": 1.4, \"WS\": 1.5, \"WS/48\": 0.055, \"OBPM\": 0.6, \"DBPM\": -0.9, \"BPM\": 0.3547836872485712, \"VORP\": 0.5, \"pred\": 25, \"pred1\": 25, \"pred2\": 23, \"pred3\": 23, \"pred4\": 23, \"pred5\": 23, \"pred6\": 23, \"pred7\": 23, \"pred8\": 23, \"pred9\": 23}, {\"Player\": \"Damian Lillard\", \"Pos\": \"PG\", \"Age\": 29, \"Tm\": \"POR\", \"G\": 66, \"MP\": 2474, \"PER\": 26.9, \"TS%\": 0.627, \"3PAr\": 0.5, \"FTr\": 0.384, \"ORB%\": 1.4, \"DRB%\": 10.5, \"TRB%\": 6.0, \"AST%\": 34.4, \"STL%\": 1.3, \"BLK%\": 0.8, \"TOV%\": 11.0, \"USG%\": 2.1286547006265177, \"OWS\": 10.9, \"DWS\": 0.7, \"WS\": 11.6, \"WS/48\": 0.225, \"OBPM\": 8.3, \"DBPM\": -0.9, \"BPM\": 2.2309767794281115, \"VORP\": 5.9, \"pred\": 29, \"pred1\": 29, \"pred2\": 26, \"pred3\": 26, \"pred4\": 26, \"pred5\": 26, \"pred6\": 29, \"pred7\": 29, \"pred8\": 29, \"pred9\": 29}, {\"Player\": \"Nassir Little\", \"Pos\": \"PF\", \"Age\": 19, \"Tm\": \"POR\", \"G\": 48, \"MP\": 573, \"PER\": 9.6, \"TS%\": 0.505, \"3PAr\": 0.391, \"FTr\": 0.291, \"ORB%\": 5.7, \"DRB%\": 13.9, \"TRB%\": 9.9, \"AST%\": 5.0, \"STL%\": 1.1, \"BLK%\": 2.1, \"TOV%\": 8.1, \"USG%\": -0.8187762872255863, \"OWS\": 0.3, \"DWS\": 0.3, \"WS\": 0.6, \"WS/48\": 0.047, \"OBPM\": -2.9, \"DBPM\": -0.6, \"BPM\": -0.41493655569688126, \"VORP\": -0.2, \"pred\": 22, \"pred1\": 22, \"pred2\": 22, \"pred3\": 22, \"pred4\": 22, \"pred5\": 22, \"pred6\": 22, \"pred7\": 22, \"pred8\": 22, \"pred9\": 22}, {\"Player\": \"Kevon Looney\", \"Pos\": \"C\", \"Age\": 23, \"Tm\": \"GSW\", \"G\": 20, \"MP\": 262, \"PER\": 9.4, \"TS%\": 0.403, \"3PAr\": 0.177, \"FTr\": 0.152, \"ORB%\": 11.2, \"DRB%\": 16.3, \"TRB%\": 13.6, \"AST%\": 11.1, \"STL%\": 2.2, \"BLK%\": 2.1, \"TOV%\": 12.5, \"USG%\": -0.4636641200144894, \"OWS\": -0.2, \"DWS\": 0.2, \"WS\": 0.0, \"WS/48\": 0.006, \"OBPM\": -4.8, \"DBPM\": -0.8, \"BPM\": -0.9200654651298343, \"VORP\": -0.2, \"pred\": 23, \"pred1\": 23, \"pred2\": 23, \"pred3\": 20, \"pred4\": 20, \"pred5\": 20, \"pred6\": 20, \"pred7\": 20, \"pred8\": 31, \"pred9\": 24}, {\"Player\": \"Brook Lopez\", \"Pos\": \"C\", \"Age\": 31, \"Tm\": \"MIL\", \"G\": 68, \"MP\": 1817, \"PER\": 15.0, \"TS%\": 0.551, \"3PAr\": 0.484, \"FTr\": 0.227, \"ORB%\": 3.4, \"DRB%\": 13.0, \"TRB%\": 8.5, \"AST%\": 7.4, \"STL%\": 1.2, \"BLK%\": 7.9, \"TOV%\": 8.7, \"USG%\": -0.0020183026400633066, \"OWS\": 1.4, \"DWS\": 4.1, \"WS\": 5.5, \"WS/48\": 0.145, \"OBPM\": -0.4, \"DBPM\": 2.5, \"BPM\": 0.908020111865615, \"VORP\": 1.9, \"pred\": 29, \"pred1\": 29, \"pred2\": 22, \"pred3\": 22, \"pred4\": 22, \"pred5\": 22, \"pred6\": 22, \"pred7\": 22, \"pred8\": 22, \"pred9\": 22}, {\"Player\": \"Robin Lopez\", \"Pos\": \"C\", \"Age\": 31, \"Tm\": \"MIL\", \"G\": 66, \"MP\": 958, \"PER\": 10.2, \"TS%\": 0.554, \"3PAr\": 0.351, \"FTr\": 0.177, \"ORB%\": 6.2, \"DRB%\": 10.2, \"TRB%\": 8.3, \"AST%\": 6.3, \"STL%\": 0.5, \"BLK%\": 4.1, \"TOV%\": 16.4, \"USG%\": -0.30386364476949546, \"OWS\": -0.1, \"DWS\": 1.6, \"WS\": 1.5, \"WS/48\": 0.077, \"OBPM\": -3.0, \"DBPM\": 0.4, \"BPM\": -0.19845273736847277, \"VORP\": -0.2, \"pred\": 24, \"pred1\": 24, \"pred2\": 24, \"pred3\": 24, \"pred4\": 24, \"pred5\": 24, \"pred6\": 24, \"pred7\": 24, \"pred8\": 24, \"pred9\": 24}, {\"Player\": \"Kevin Love\", \"Pos\": \"PF\", \"Age\": 31, \"Tm\": \"CLE\", \"G\": 56, \"MP\": 1780, \"PER\": 17.9, \"TS%\": 0.599, \"3PAr\": 0.536, \"FTr\": 0.301, \"ORB%\": 3.3, \"DRB%\": 31.1, \"TRB%\": 17.1, \"AST%\": 15.4, \"STL%\": 0.9, \"BLK%\": 0.9, \"TOV%\": 14.5, \"USG%\": 0.8502508986665692, \"OWS\": 2.5, \"DWS\": 1.3, \"WS\": 3.8, \"WS/48\": 0.101, \"OBPM\": 2.6, \"DBPM\": -0.5, \"BPM\": 0.908020111865615, \"VORP\": 1.8, \"pred\": 31, \"pred1\": 31, \"pred2\": 22, \"pred3\": 22, \"pred4\": 22, \"pred5\": 22, \"pred6\": 22, \"pred7\": 22, \"pred8\": 22, \"pred9\": 22}, {\"Player\": \"Kyle Lowry\", \"Pos\": \"PG\", \"Age\": 33, \"Tm\": \"TOR\", \"G\": 58, \"MP\": 2098, \"PER\": 17.7, \"TS%\": 0.59, \"3PAr\": 0.58, \"FTr\": 0.427, \"ORB%\": 1.6, \"DRB%\": 12.8, \"TRB%\": 7.3, \"AST%\": 30.6, \"STL%\": 1.9, \"BLK%\": 1.2, \"TOV%\": 15.7, \"USG%\": 0.8502508986665692, \"OWS\": 4.2, \"DWS\": 3.3, \"WS\": 7.5, \"WS/48\": 0.171, \"OBPM\": 2.2, \"DBPM\": 1.0, \"BPM\": 1.1966652029701597, \"VORP\": 2.8, \"pred\": 33, \"pred1\": 33, \"pred2\": 24, \"pred3\": 23, \"pred4\": 22, \"pred5\": 24, \"pred6\": 22, \"pred7\": 22, \"pred8\": 22, \"pred9\": 22}, {\"Player\": \"Timoth\\u00e9 Luwawu-Cabarrot\", \"Pos\": \"SG\", \"Age\": 24, \"Tm\": \"BRK\", \"G\": 47, \"MP\": 853, \"PER\": 11.0, \"TS%\": 0.599, \"3PAr\": 0.595, \"FTr\": 0.301, \"ORB%\": 3.6, \"DRB%\": 11.6, \"TRB%\": 7.7, \"AST%\": 4.9, \"STL%\": 1.0, \"BLK%\": 0.7, \"TOV%\": 10.8, \"USG%\": -0.26835242804838594, \"OWS\": 0.9, \"DWS\": 0.7, \"WS\": 1.7, \"WS/48\": 0.095, \"OBPM\": -1.8, \"DBPM\": -0.5, \"BPM\": -0.10223770700029125, \"VORP\": -0.1, \"pred\": 24, \"pred1\": 24, \"pred2\": 24, \"pred3\": 24, \"pred4\": 24, \"pred5\": 20, \"pred6\": 20, \"pred7\": 24, \"pred8\": 24, \"pred9\": 24}, {\"Player\": \"Trey Lyles\", \"Pos\": \"PF\", \"Age\": 24, \"Tm\": \"SAS\", \"G\": 63, \"MP\": 1271, \"PER\": 12.6, \"TS%\": 0.557, \"3PAr\": 0.49, \"FTr\": 0.131, \"ORB%\": 6.0, \"DRB%\": 24.6, \"TRB%\": 15.3, \"AST%\": 7.2, \"STL%\": 1.1, \"BLK%\": 1.9, \"TOV%\": 9.7, \"USG%\": -0.836531895586141, \"OWS\": 1.2, \"DWS\": 1.0, \"WS\": 2.2, \"WS/48\": 0.083, \"OBPM\": -0.5, \"DBPM\": -0.7, \"BPM\": 0.1382998689201627, \"VORP\": 0.3, \"pred\": 24, \"pred1\": 24, \"pred2\": 21, \"pred3\": 21, \"pred4\": 24, \"pred5\": 24, \"pred6\": 24, \"pred7\": 24, \"pred8\": 24, \"pred9\": 24}, {\"Player\": \"Daryl Macon\", \"Pos\": \"SG\", \"Age\": 24, \"Tm\": \"MIA\", \"G\": 4, \"MP\": 14, \"PER\": -3.1, \"TS%\": 0.5, \"3PAr\": 0.667, \"FTr\": 0.0, \"ORB%\": 0.0, \"DRB%\": 0.0, \"TRB%\": 0.0, \"AST%\": 9.7, \"STL%\": 0.0, \"BLK%\": 0.0, \"TOV%\": 40.0, \"USG%\": -0.4636641200144894, \"OWS\": 0.0, \"DWS\": 0.0, \"WS\": 0.0, \"WS/48\": -0.161, \"OBPM\": -7.0, \"DBPM\": -4.4, \"BPM\": -2.315183405468467, \"VORP\": 0.0, \"pred\": 24, \"pred1\": 24, \"pred2\": 21, \"pred3\": 21, \"pred4\": 19, \"pred5\": 24, \"pred6\": 24, \"pred7\": 24, \"pred8\": 24, \"pred9\": 24}, {\"Player\": \"J.P. Macura\", \"Pos\": \"SG\", \"Age\": 24, \"Tm\": \"CLE\", \"G\": 1, \"MP\": 1, \"PER\": 0.0, \"TS%\": null, \"3PAr\": null, \"FTr\": null, \"ORB%\": 0.0, \"DRB%\": 0.0, \"TRB%\": 0.0, \"AST%\": 0.0, \"STL%\": 0.0, \"BLK%\": 0.0, \"TOV%\": null, \"USG%\": -3.2512946326215992, \"OWS\": 0.0, \"DWS\": 0.0, \"WS\": 0.0, \"WS/48\": -0.022, \"OBPM\": -5.2, \"DBPM\": -1.2, \"BPM\": -1.1124955258661977, \"VORP\": 0.0, \"pred\": 26, \"pred1\": 26, \"pred2\": 22, \"pred3\": 26, \"pred4\": 26, \"pred5\": 26, \"pred6\": 26, \"pred7\": 26, \"pred8\": 26, \"pred9\": 24}, {\"Player\": \"Josh Magette\", \"Pos\": \"PG\", \"Age\": 30, \"Tm\": \"ORL\", \"G\": 8, \"MP\": 38, \"PER\": 5.1, \"TS%\": 0.378, \"3PAr\": 0.267, \"FTr\": 0.133, \"ORB%\": 2.7, \"DRB%\": 14.6, \"TRB%\": 8.5, \"AST%\": 19.2, \"STL%\": 3.8, \"BLK%\": 2.4, \"TOV%\": 23.9, \"USG%\": 0.9567845488298978, \"OWS\": -0.2, \"DWS\": 0.1, \"WS\": -0.1, \"WS/48\": -0.127, \"OBPM\": -7.9, \"DBPM\": 1.6, \"BPM\": -1.0643880106821069, \"VORP\": 0.0, \"pred\": 30, \"pred1\": 30, \"pred2\": 24, \"pred3\": 22, \"pred4\": 22, \"pred5\": 21, \"pred6\": 19, \"pred7\": 30, \"pred8\": 30, \"pred9\": 21}, {\"Player\": \"Ian Mahinmi\", \"Pos\": \"C\", \"Age\": 33, \"Tm\": \"WAS\", \"G\": 38, \"MP\": 808, \"PER\": 14.2, \"TS%\": 0.545, \"3PAr\": 0.124, \"FTr\": 0.538, \"ORB%\": 10.1, \"DRB%\": 19.7, \"TRB%\": 14.7, \"AST%\": 8.3, \"STL%\": 1.8, \"BLK%\": 4.8, \"TOV%\": 14.8, \"USG%\": -0.4636641200144894, \"OWS\": 0.7, \"DWS\": 0.7, \"WS\": 1.4, \"WS/48\": 0.083, \"OBPM\": -2.8, \"DBPM\": 0.0, \"BPM\": -0.2225064949605182, \"VORP\": -0.2, \"pred\": 27, \"pred1\": 27, \"pred2\": 27, \"pred3\": 25, \"pred4\": 25, \"pred5\": 21, \"pred6\": 21, \"pred7\": 21, \"pred8\": 21, \"pred9\": 21}, {\"Player\": \"Thon Maker\", \"Pos\": \"C\", \"Age\": 22, \"Tm\": \"DET\", \"G\": 60, \"MP\": 776, \"PER\": 13.7, \"TS%\": 0.582, \"3PAr\": 0.332, \"FTr\": 0.57, \"ORB%\": 7.8, \"DRB%\": 16.7, \"TRB%\": 12.2, \"AST%\": 8.0, \"STL%\": 1.6, \"BLK%\": 4.2, \"TOV%\": 15.7, \"USG%\": -0.39264168657226967, \"OWS\": 0.7, \"DWS\": 0.8, \"WS\": 1.5, \"WS/48\": 0.096, \"OBPM\": -2.1, \"DBPM\": 0.7, \"BPM\": 0.09019235373607193, \"VORP\": 0.1, \"pred\": 22, \"pred1\": 22, \"pred2\": 22, \"pred3\": 22, \"pred4\": 22, \"pred5\": 22, \"pred6\": 29, \"pred7\": 22, \"pred8\": 29, \"pred9\": 29}, {\"Player\": \"Terance Mann\", \"Pos\": \"SG\", \"Age\": 23, \"Tm\": \"LAC\", \"G\": 41, \"MP\": 362, \"PER\": 10.6, \"TS%\": 0.545, \"3PAr\": 0.253, \"FTr\": 0.342, \"ORB%\": 2.9, \"DRB%\": 12.6, \"TRB%\": 7.9, \"AST%\": 19.3, \"STL%\": 1.4, \"BLK%\": 1.2, \"TOV%\": 16.5, \"USG%\": -1.0140879791916895, \"OWS\": 0.4, \"DWS\": 0.4, \"WS\": 0.8, \"WS/48\": 0.106, \"OBPM\": -2.8, \"DBPM\": 1.2, \"BPM\": 0.042084838551981106, \"VORP\": 0.0, \"pred\": 23, \"pred1\": 23, \"pred2\": 22, \"pred3\": 22, \"pred4\": 22, \"pred5\": 22, \"pred6\": 22, \"pred7\": 22, \"pred8\": 22, \"pred9\": 22}, {\"Player\": \"Boban Marjanovi\\u0107\", \"Pos\": \"C\", \"Age\": 31, \"Tm\": \"DAL\", \"G\": 44, \"MP\": 422, \"PER\": 25.7, \"TS%\": 0.612, \"3PAr\": 0.081, \"FTr\": 0.27, \"ORB%\": 16.6, \"DRB%\": 32.1, \"TRB%\": 24.5, \"AST%\": 8.3, \"STL%\": 0.9, \"BLK%\": 2.0, \"TOV%\": 11.3, \"USG%\": 1.5249640163676526, \"OWS\": 1.2, \"DWS\": 0.6, \"WS\": 1.8, \"WS/48\": 0.2, \"OBPM\": 2.8, \"DBPM\": -1.6, \"BPM\": 0.715590051129252, \"VORP\": 0.3, \"pred\": 31, \"pred1\": 31, \"pred2\": 27, \"pred3\": 24, \"pred4\": 24, \"pred5\": 24, \"pred6\": 24, \"pred7\": 26, \"pred8\": 26, \"pred9\": 26}, {\"Player\": \"Lauri Markkanen\", \"Pos\": \"PF\", \"Age\": 22, \"Tm\": \"CHI\", \"G\": 50, \"MP\": 1492, \"PER\": 14.3, \"TS%\": 0.56, \"3PAr\": 0.536, \"FTr\": 0.259, \"ORB%\": 4.2, \"DRB%\": 19.7, \"TRB%\": 11.6, \"AST%\": 7.6, \"STL%\": 1.4, \"BLK%\": 1.5, \"TOV%\": 11.0, \"USG%\": 0.4951387314554724, \"OWS\": 1.0, \"DWS\": 1.6, \"WS\": 2.6, \"WS/48\": 0.084, \"OBPM\": 0.2, \"DBPM\": -0.8, \"BPM\": 0.282622414472435, \"VORP\": 0.5, \"pred\": 22, \"pred1\": 22, \"pred2\": 22, \"pred3\": 22, \"pred4\": 22, \"pred5\": 27, \"pred6\": 27, \"pred7\": 27, \"pred8\": 27, \"pred9\": 27}, {\"Player\": \"Caleb Martin\", \"Pos\": \"SF\", \"Age\": 24, \"Tm\": \"CHO\", \"G\": 18, \"MP\": 317, \"PER\": 12.0, \"TS%\": 0.595, \"3PAr\": 0.44, \"FTr\": 0.25, \"ORB%\": 3.3, \"DRB%\": 10.0, \"TRB%\": 6.5, \"AST%\": 11.1, \"STL%\": 1.9, \"BLK%\": 2.0, \"TOV%\": 13.9, \"USG%\": -0.5879533785383732, \"OWS\": 0.3, \"DWS\": 0.2, \"WS\": 0.5, \"WS/48\": 0.081, \"OBPM\": -1.6, \"DBPM\": 0.6, \"BPM\": 0.18640738410425345, \"VORP\": 0.1, \"pred\": 34, \"pred1\": 34, \"pred2\": 26, \"pred3\": 23, \"pred4\": 26, \"pred5\": 26, \"pred6\": 26, \"pred7\": 26, \"pred8\": 23, \"pred9\": 23}, {\"Player\": \"Cody Martin\", \"Pos\": \"SF\", \"Age\": 24, \"Tm\": \"CHO\", \"G\": 48, \"MP\": 903, \"PER\": 10.5, \"TS%\": 0.505, \"3PAr\": 0.372, \"FTr\": 0.314, \"ORB%\": 4.4, \"DRB%\": 15.1, \"TRB%\": 9.6, \"AST%\": 15.7, \"STL%\": 2.2, \"BLK%\": 0.9, \"TOV%\": 15.7, \"USG%\": -0.836531895586141, \"OWS\": 0.2, \"DWS\": 0.8, \"WS\": 1.0, \"WS/48\": 0.052, \"OBPM\": -3.1, \"DBPM\": 1.0, \"BPM\": -0.10223770700029125, \"VORP\": 0.0, \"pred\": 24, \"pred1\": 24, \"pred2\": 22, \"pred3\": 22, \"pred4\": 22, \"pred5\": 25, \"pred6\": 25, \"pred7\": 25, \"pred8\": 25, \"pred9\": 25}, {\"Player\": \"Jeremiah Martin\", \"Pos\": \"PG\", \"Age\": 23, \"Tm\": \"BRK\", \"G\": 9, \"MP\": 99, \"PER\": 21.8, \"TS%\": 0.541, \"3PAr\": 0.34, \"FTr\": 0.264, \"ORB%\": 1.1, \"DRB%\": 9.2, \"TRB%\": 5.2, \"AST%\": 30.8, \"STL%\": 3.3, \"BLK%\": 1.7, \"TOV%\": 6.3, \"USG%\": 1.4894527996465432, \"OWS\": 0.2, \"DWS\": 0.1, \"WS\": 0.4, \"WS/48\": 0.176, \"OBPM\": 1.5, \"DBPM\": 1.7, \"BPM\": 1.1966652029701597, \"VORP\": 0.1, \"pred\": 27, \"pred1\": 27, \"pred2\": 27, \"pred3\": 24, \"pred4\": 24, \"pred5\": 24, \"pred6\": 22, \"pred7\": 22, \"pred8\": 22, \"pred9\": 27}, {\"Player\": \"Kelan Martin\", \"Pos\": \"SF\", \"Age\": 24, \"Tm\": \"MIN\", \"G\": 31, \"MP\": 495, \"PER\": 9.2, \"TS%\": 0.506, \"3PAr\": 0.53, \"FTr\": 0.171, \"ORB%\": 2.5, \"DRB%\": 18.6, \"TRB%\": 10.2, \"AST%\": 6.8, \"STL%\": 0.7, \"BLK%\": 1.5, \"TOV%\": 9.3, \"USG%\": -0.09079634444283752, \"OWS\": -0.1, \"DWS\": 0.3, \"WS\": 0.2, \"WS/48\": 0.023, \"OBPM\": -3.3, \"DBPM\": -1.0, \"BPM\": -0.6073666164332444, \"VORP\": -0.3, \"pred\": 24, \"pred1\": 24, \"pred2\": 20, \"pred3\": 20, \"pred4\": 20, \"pred5\": 20, \"pred6\": 20, \"pred7\": 20, \"pred8\": 20, \"pred9\": 22}, {\"Player\": \"Frank Mason III\", \"Pos\": \"PG\", \"Age\": 25, \"Tm\": \"MIL\", \"G\": 9, \"MP\": 118, \"PER\": 16.9, \"TS%\": 0.53, \"3PAr\": 0.412, \"FTr\": 0.333, \"ORB%\": 4.5, \"DRB%\": 11.1, \"TRB%\": 8.0, \"AST%\": 35.0, \"STL%\": 1.9, \"BLK%\": 0.7, \"TOV%\": 15.8, \"USG%\": 1.0633181989932272, \"OWS\": 0.1, \"DWS\": 0.2, \"WS\": 0.4, \"WS/48\": 0.143, \"OBPM\": -0.6, \"DBPM\": 0.6, \"BPM\": 0.42694496002470733, \"VORP\": 0.1, \"pred\": 25, \"pred1\": 25, \"pred2\": 24, \"pred3\": 24, \"pred4\": 24, \"pred5\": 20, \"pred6\": 28, \"pred7\": 25, \"pred8\": 25, \"pred9\": 24}, {\"Player\": \"Garrison Mathews\", \"Pos\": \"SG\", \"Age\": 23, \"Tm\": \"WAS\", \"G\": 18, \"MP\": 227, \"PER\": 13.1, \"TS%\": 0.691, \"3PAr\": 0.821, \"FTr\": 0.607, \"ORB%\": 2.8, \"DRB%\": 9.0, \"TRB%\": 5.8, \"AST%\": 5.8, \"STL%\": 1.6, \"BLK%\": 0.4, \"TOV%\": 10.1, \"USG%\": -0.6767314203411474, \"OWS\": 0.6, \"DWS\": 0.1, \"WS\": 0.6, \"WS/48\": 0.131, \"OBPM\": -0.6, \"DBPM\": -0.5, \"BPM\": 0.16235362651220805, \"VORP\": 0.1, \"pred\": 23, \"pred1\": 23, \"pred2\": 23, \"pred3\": 23, \"pred4\": 23, \"pred5\": 23, \"pred6\": 23, \"pred7\": 23, \"pred8\": 23, \"pred9\": 24}, {\"Player\": \"Wesley Matthews\", \"Pos\": \"SG\", \"Age\": 33, \"Tm\": \"MIL\", \"G\": 67, \"MP\": 1635, \"PER\": 8.1, \"TS%\": 0.547, \"3PAr\": 0.704, \"FTr\": 0.161, \"ORB%\": 1.4, \"DRB%\": 8.2, \"TRB%\": 5.0, \"AST%\": 7.1, \"STL%\": 1.1, \"BLK%\": 0.5, \"TOV%\": 8.7, \"USG%\": -1.0318435875522443, \"OWS\": 0.8, \"DWS\": 2.4, \"WS\": 3.2, \"WS/48\": 0.093, \"OBPM\": -2.6, \"DBPM\": 0.7, \"BPM\": -0.00602267663210966, \"VORP\": 0.1, \"pred\": 23, \"pred1\": 23, \"pred2\": 22, \"pred3\": 22, \"pred4\": 22, \"pred5\": 22, \"pred6\": 22, \"pred7\": 22, \"pred8\": 22, \"pred9\": 22}, {\"Player\": \"Luc Mbah a Moute\", \"Pos\": \"PF\", \"Age\": 33, \"Tm\": \"HOU\", \"G\": 3, \"MP\": 25, \"PER\": 6.4, \"TS%\": 0.425, \"3PAr\": 0.4, \"FTr\": 0.4, \"ORB%\": 4.2, \"DRB%\": 4.2, \"TRB%\": 4.2, \"AST%\": 0.0, \"STL%\": 3.7, \"BLK%\": 0.0, \"TOV%\": 14.5, \"USG%\": -1.2271552795183474, \"OWS\": 0.0, \"DWS\": 0.0, \"WS\": 0.0, \"WS/48\": -0.008, \"OBPM\": -5.2, \"DBPM\": -2.2, \"BPM\": -1.3530331017866515, \"VORP\": 0.0, \"pred\": 33, \"pred1\": 33, \"pred2\": 23, \"pred3\": 23, \"pred4\": 23, \"pred5\": 23, \"pred6\": 23, \"pred7\": 22, \"pred8\": 22, \"pred9\": 22}, {\"Player\": \"Patrick McCaw\", \"Pos\": \"SF\", \"Age\": 24, \"Tm\": \"TOR\", \"G\": 37, \"MP\": 908, \"PER\": 7.3, \"TS%\": 0.5, \"3PAr\": 0.438, \"FTr\": 0.111, \"ORB%\": 2.3, \"DRB%\": 7.6, \"TRB%\": 5.0, \"AST%\": 11.5, \"STL%\": 2.0, \"BLK%\": 0.4, \"TOV%\": 14.6, \"USG%\": -1.5822674467294442, \"OWS\": 0.2, \"DWS\": 1.2, \"WS\": 1.4, \"WS/48\": 0.075, \"OBPM\": -3.6, \"DBPM\": 1.8, \"BPM\": -0.00602267663210966, \"VORP\": 0.0, \"pred\": 31, \"pred1\": 31, \"pred2\": 25, \"pred3\": 23, \"pred4\": 23, \"pred5\": 23, \"pred6\": 23, \"pred7\": 25, \"pred8\": 25, \"pred9\": 25}, {\"Player\": \"CJ McCollum\", \"Pos\": \"SG\", \"Age\": 28, \"Tm\": \"POR\", \"G\": 70, \"MP\": 2556, \"PER\": 17.0, \"TS%\": 0.541, \"3PAr\": 0.378, \"FTr\": 0.136, \"ORB%\": 1.9, \"DRB%\": 10.2, \"TRB%\": 6.1, \"AST%\": 19.1, \"STL%\": 1.0, \"BLK%\": 1.4, \"TOV%\": 8.1, \"USG%\": 1.3474079327621042, \"OWS\": 3.5, \"DWS\": 0.6, \"WS\": 4.1, \"WS/48\": 0.077, \"OBPM\": 2.3, \"DBPM\": -1.8, \"BPM\": 0.5472137479849343, \"VORP\": 1.6, \"pred\": 28, \"pred1\": 28, \"pred2\": 26, \"pred3\": 26, \"pred4\": 26, \"pred5\": 26, \"pred6\": 26, \"pred7\": 26, \"pred8\": 26, \"pred9\": 24}, {\"Player\": \"T.J. McConnell\", \"Pos\": \"PG\", \"Age\": 27, \"Tm\": \"IND\", \"G\": 71, \"MP\": 1326, \"PER\": 16.5, \"TS%\": 0.54, \"3PAr\": 0.041, \"FTr\": 0.102, \"ORB%\": 3.2, \"DRB%\": 12.4, \"TRB%\": 7.8, \"AST%\": 37.6, \"STL%\": 2.0, \"BLK%\": 0.7, \"TOV%\": 18.9, \"USG%\": -0.14406316952450215, \"OWS\": 1.7, \"DWS\": 1.7, \"WS\": 3.3, \"WS/48\": 0.121, \"OBPM\": 0.1, \"DBPM\": 0.4, \"BPM\": 0.5472137479849343, \"VORP\": 0.8, \"pred\": 23, \"pred1\": 23, \"pred2\": 21, \"pred3\": 23, \"pred4\": 23, \"pred5\": 23, \"pred6\": 23, \"pred7\": 23, \"pred8\": 23, \"pred9\": 29}, {\"Player\": \"Jalen McDaniels\", \"Pos\": \"PF\", \"Age\": 22, \"Tm\": \"CHO\", \"G\": 16, \"MP\": 293, \"PER\": 10.7, \"TS%\": 0.574, \"3PAr\": 0.343, \"FTr\": 0.243, \"ORB%\": 5.4, \"DRB%\": 19.4, \"TRB%\": 12.1, \"AST%\": 6.8, \"STL%\": 1.4, \"BLK%\": 0.9, \"TOV%\": 12.4, \"USG%\": -0.8897987206678054, \"OWS\": 0.2, \"DWS\": 0.2, \"WS\": 0.5, \"WS/48\": 0.078, \"OBPM\": -3.4, \"DBPM\": 0.1, \"BPM\": -0.3668290405127904, \"VORP\": -0.1, \"pred\": 22, \"pred1\": 22, \"pred2\": 22, \"pred3\": 22, \"pred4\": 22, \"pred5\": 22, \"pred6\": 22, \"pred7\": 22, \"pred8\": 22, \"pred9\": 22}, {\"Player\": \"Doug McDermott\", \"Pos\": \"PF\", \"Age\": 28, \"Tm\": \"IND\", \"G\": 69, \"MP\": 1372, \"PER\": 14.4, \"TS%\": 0.62, \"3PAr\": 0.537, \"FTr\": 0.106, \"ORB%\": 2.1, \"DRB%\": 11.7, \"TRB%\": 7.0, \"AST%\": 8.4, \"STL%\": 0.4, \"BLK%\": 0.3, \"TOV%\": 6.8, \"USG%\": 0.22880460604714975, \"OWS\": 2.3, \"DWS\": 1.1, \"WS\": 3.3, \"WS/48\": 0.117, \"OBPM\": 1.4, \"DBPM\": -1.3, \"BPM\": 0.42694496002470733, \"VORP\": 0.7, \"pred\": 28, \"pred1\": 28, \"pred2\": 28, \"pred3\": 24, \"pred4\": 24, \"pred5\": 23, \"pred6\": 23, \"pred7\": 27, \"pred8\": 27, \"pred9\": 27}, {\"Player\": \"JaVale McGee\", \"Pos\": \"C\", \"Age\": 32, \"Tm\": \"LAL\", \"G\": 68, \"MP\": 1130, \"PER\": 19.4, \"TS%\": 0.652, \"3PAr\": 0.02, \"FTr\": 0.268, \"ORB%\": 12.2, \"DRB%\": 25.4, \"TRB%\": 18.9, \"AST%\": 4.6, \"STL%\": 1.5, \"BLK%\": 7.5, \"TOV%\": 13.9, \"USG%\": -0.6234645952594827, \"OWS\": 2.2, \"DWS\": 2.4, \"WS\": 4.7, \"WS/48\": 0.198, \"OBPM\": -0.6, \"DBPM\": 2.1, \"BPM\": 0.7877513239053882, \"VORP\": 1.0, \"pred\": 27, \"pred1\": 27, \"pred2\": 22, \"pred3\": 27, \"pred4\": 27, \"pred5\": 27, \"pred6\": 27, \"pred7\": 27, \"pred8\": 27, \"pred9\": 27}, {\"Player\": \"Rodney McGruder\", \"Pos\": \"SG\", \"Age\": 28, \"Tm\": \"LAC\", \"G\": 56, \"MP\": 871, \"PER\": 6.7, \"TS%\": 0.477, \"3PAr\": 0.492, \"FTr\": 0.188, \"ORB%\": 3.6, \"DRB%\": 14.2, \"TRB%\": 9.0, \"AST%\": 5.3, \"STL%\": 1.4, \"BLK%\": 0.8, \"TOV%\": 10.9, \"USG%\": -1.3692001464027863, \"OWS\": -0.1, \"DWS\": 1.1, \"WS\": 1.0, \"WS/48\": 0.055, \"OBPM\": -3.7, \"DBPM\": 0.8, \"BPM\": -0.2946677677366543, \"VORP\": -0.2, \"pred\": 28, \"pred1\": 28, \"pred2\": 22, \"pred3\": 20, \"pred4\": 20, \"pred5\": 20, \"pred6\": 34, \"pred7\": 34, \"pred8\": 22, \"pred9\": 22}, {\"Player\": \"Alfonzo McKinnie\", \"Pos\": \"SF\", \"Age\": 27, \"Tm\": \"CLE\", \"G\": 40, \"MP\": 593, \"PER\": 8.7, \"TS%\": 0.493, \"3PAr\": 0.38, \"FTr\": 0.181, \"ORB%\": 6.9, \"DRB%\": 14.4, \"TRB%\": 10.6, \"AST%\": 3.3, \"STL%\": 1.9, \"BLK%\": 1.2, \"TOV%\": 12.3, \"USG%\": -0.5524421618172637, \"OWS\": -0.2, \"DWS\": 0.3, \"WS\": 0.2, \"WS/48\": 0.014, \"OBPM\": -4.4, \"DBPM\": -0.9, \"BPM\": -0.8479041923536983, \"VORP\": -0.5, \"pred\": 27, \"pred1\": 27, \"pred2\": 21, \"pred3\": 20, \"pred4\": 20, \"pred5\": 20, \"pred6\": 24, \"pred7\": 24, \"pred8\": 24, \"pred9\": 24}, {\"Player\": \"Jordan McLaughlin\", \"Pos\": \"PG\", \"Age\": 23, \"Tm\": \"MIN\", \"G\": 30, \"MP\": 590, \"PER\": 16.3, \"TS%\": 0.587, \"3PAr\": 0.427, \"FTr\": 0.219, \"ORB%\": 1.2, \"DRB%\": 7.8, \"TRB%\": 4.4, \"AST%\": 31.0, \"STL%\": 2.7, \"BLK%\": 0.6, \"TOV%\": 13.7, \"USG%\": -0.44590851165393436, \"OWS\": 1.1, \"DWS\": 0.4, \"WS\": 1.6, \"WS/48\": 0.13, \"OBPM\": 0.3, \"DBPM\": 0.0, \"BPM\": 0.49910623280084354, \"VORP\": 0.3, \"pred\": 23, \"pred1\": 23, \"pred2\": 23, \"pred3\": 23, \"pred4\": 23, \"pred5\": 23, \"pred6\": 23, \"pred7\": 23, \"pred8\": 23, \"pred9\": 23}, {\"Player\": \"Ben McLemore\", \"Pos\": \"SG\", \"Age\": 26, \"Tm\": \"HOU\", \"G\": 71, \"MP\": 1619, \"PER\": 11.8, \"TS%\": 0.622, \"3PAr\": 0.829, \"FTr\": 0.123, \"ORB%\": 1.3, \"DRB%\": 8.9, \"TRB%\": 5.1, \"AST%\": 5.2, \"STL%\": 1.3, \"BLK%\": 0.8, \"TOV%\": 8.0, \"USG%\": -0.4103972949328248, \"OWS\": 2.2, \"DWS\": 1.1, \"WS\": 3.3, \"WS/48\": 0.099, \"OBPM\": 0.0, \"DBPM\": -0.6, \"BPM\": 0.3066761720644804, \"VORP\": 0.6, \"pred\": 26, \"pred1\": 26, \"pred2\": 25, \"pred3\": 25, \"pred4\": 25, \"pred5\": 24, \"pred6\": 29, \"pred7\": 29, \"pred8\": 29, \"pred9\": 29}, {\"Player\": \"Jordan McRae\", \"Pos\": \"SG\", \"Age\": 28, \"Tm\": \"TOT\", \"G\": 37, \"MP\": 784, \"PER\": 14.2, \"TS%\": 0.515, \"3PAr\": 0.344, \"FTr\": 0.298, \"ORB%\": 2.4, \"DRB%\": 15.4, \"TRB%\": 8.7, \"AST%\": 17.9, \"STL%\": 1.3, \"BLK%\": 1.8, \"TOV%\": 9.4, \"USG%\": 1.0810738073537816, \"OWS\": 0.4, \"DWS\": 0.4, \"WS\": 0.7, \"WS/48\": 0.044, \"OBPM\": 0.0, \"DBPM\": -1.5, \"BPM\": 0.06613859614402652, \"VORP\": 0.1, \"pred\": 28, \"pred1\": 28, \"pred2\": 20, \"pred3\": 28, \"pred4\": 28, \"pred5\": 28, \"pred6\": 28, \"pred7\": 28, \"pred8\": 28, \"pred9\": 28}, {\"Player\": \"Jordan McRae\", \"Pos\": \"SG\", \"Age\": 28, \"Tm\": \"WAS\", \"G\": 29, \"MP\": 654, \"PER\": 15.2, \"TS%\": 0.523, \"3PAr\": 0.334, \"FTr\": 0.262, \"ORB%\": 2.7, \"DRB%\": 15.1, \"TRB%\": 8.7, \"AST%\": 19.1, \"STL%\": 1.4, \"BLK%\": 2.0, \"TOV%\": 9.7, \"USG%\": 1.169851849156556, \"OWS\": 0.4, \"DWS\": 0.3, \"WS\": 0.7, \"WS/48\": 0.051, \"OBPM\": 0.8, \"DBPM\": -1.2, \"BPM\": 0.33072992965652576, \"VORP\": 0.3, \"pred\": 28, \"pred1\": 28, \"pred2\": 24, \"pred3\": 24, \"pred4\": 24, \"pred5\": 24, \"pred6\": 24, \"pred7\": 24, \"pred8\": 24, \"pred9\": 24}, {\"Player\": \"Jordan McRae\", \"Pos\": \"SG\", \"Age\": 28, \"Tm\": \"DEN\", \"G\": 4, \"MP\": 32, \"PER\": 16.7, \"TS%\": 0.58, \"3PAr\": 0.667, \"FTr\": 0.667, \"ORB%\": 3.5, \"DRB%\": 14.0, \"TRB%\": 8.8, \"AST%\": 15.6, \"STL%\": 3.1, \"BLK%\": 2.9, \"TOV%\": 0.0, \"USG%\": -1.386955754763341, \"OWS\": 0.1, \"DWS\": 0.0, \"WS\": 0.1, \"WS/48\": 0.201, \"OBPM\": 1.1, \"DBPM\": 1.4, \"BPM\": 1.028288899825842, \"VORP\": 0.0, \"pred\": 28, \"pred1\": 28, \"pred2\": 20, \"pred3\": 28, \"pred4\": 28, \"pred5\": 28, \"pred6\": 28, \"pred7\": 28, \"pred8\": 28, \"pred9\": 28}, {\"Player\": \"Jordan McRae\", \"Pos\": \"SG\", \"Age\": 28, \"Tm\": \"DET\", \"G\": 4, \"MP\": 98, \"PER\": 6.5, \"TS%\": 0.446, \"3PAr\": 0.372, \"FTr\": 0.512, \"ORB%\": 0.0, \"DRB%\": 17.6, \"TRB%\": 8.7, \"AST%\": 10.7, \"STL%\": 0.0, \"BLK%\": 0.0, \"TOV%\": 8.7, \"USG%\": 1.3118967160409947, \"OWS\": -0.1, \"DWS\": 0.0, \"WS\": -0.1, \"WS/48\": -0.053, \"OBPM\": -5.6, \"DBPM\": -4.2, \"BPM\": -1.930323283995741, \"VORP\": -0.2, \"pred\": 28, \"pred1\": 28, \"pred2\": 22, \"pred3\": 22, \"pred4\": 22, \"pred5\": 22, \"pred6\": 22, \"pred7\": 22, \"pred8\": 22, \"pred9\": 22}, {\"Player\": \"Nicol\\u00f2 Melli\", \"Pos\": \"C\", \"Age\": 29, \"Tm\": \"NOP\", \"G\": 60, \"MP\": 1042, \"PER\": 11.4, \"TS%\": 0.556, \"3PAr\": 0.638, \"FTr\": 0.226, \"ORB%\": 3.9, \"DRB%\": 14.5, \"TRB%\": 9.2, \"AST%\": 10.5, \"STL%\": 1.5, \"BLK%\": 1.8, \"TOV%\": 11.5, \"USG%\": -0.4636641200144894, \"OWS\": 0.9, \"DWS\": 0.9, \"WS\": 1.8, \"WS/48\": 0.082, \"OBPM\": -1.5, \"DBPM\": 0.2, \"BPM\": 0.11424611132811728, \"VORP\": 0.2, \"pred\": 29, \"pred1\": 29, \"pred2\": 29, \"pred3\": 29, \"pred4\": 29, \"pred5\": 29, \"pred6\": 29, \"pred7\": 29, \"pred8\": 29, \"pred9\": 29}, {\"Player\": \"De'Anthony Melton\", \"Pos\": \"PG\", \"Age\": 21, \"Tm\": \"MEM\", \"G\": 60, \"MP\": 1167, \"PER\": 13.5, \"TS%\": 0.501, \"3PAr\": 0.349, \"FTr\": 0.302, \"ORB%\": 4.0, \"DRB%\": 15.7, \"TRB%\": 9.9, \"AST%\": 20.1, \"STL%\": 3.1, \"BLK%\": 1.5, \"TOV%\": 15.6, \"USG%\": 0.15778217260493002, \"OWS\": 0.1, \"DWS\": 1.7, \"WS\": 1.7, \"WS/48\": 0.072, \"OBPM\": -2.2, \"DBPM\": 2.0, \"BPM\": 0.3788374448406166, \"VORP\": 0.5, \"pred\": 29, \"pred1\": 29, \"pred2\": 29, \"pred3\": 29, \"pred4\": 27, \"pred5\": 27, \"pred6\": 27, \"pred7\": 27, \"pred8\": 27, \"pred9\": 27}, {\"Player\": \"Chimezie Metu\", \"Pos\": \"PF\", \"Age\": 22, \"Tm\": \"SAS\", \"G\": 18, \"MP\": 105, \"PER\": 22.2, \"TS%\": 0.608, \"3PAr\": 0.048, \"FTr\": 0.31, \"ORB%\": 12.3, \"DRB%\": 21.6, \"TRB%\": 16.9, \"AST%\": 14.9, \"STL%\": 1.4, \"BLK%\": 5.0, \"TOV%\": 17.3, \"USG%\": 0.9567845488298978, \"OWS\": 0.2, \"DWS\": 0.1, \"WS\": 0.3, \"WS/48\": 0.13, \"OBPM\": 1.9, \"DBPM\": -0.1, \"BPM\": 0.8599125966815243, \"VORP\": 0.1, \"pred\": 22, \"pred1\": 22, \"pred2\": 22, \"pred3\": 22, \"pred4\": 22, \"pred5\": 22, \"pred6\": 22, \"pred7\": 22, \"pred8\": 22, \"pred9\": 22}, {\"Player\": \"Khris Middleton\", \"Pos\": \"SF\", \"Age\": 28, \"Tm\": \"MIL\", \"G\": 62, \"MP\": 1853, \"PER\": 21.1, \"TS%\": 0.619, \"3PAr\": 0.374, \"FTr\": 0.24, \"ORB%\": 2.5, \"DRB%\": 17.0, \"TRB%\": 10.2, \"AST%\": 22.2, \"STL%\": 1.3, \"BLK%\": 0.3, \"TOV%\": 11.6, \"USG%\": 1.4361859745648784, \"OWS\": 4.6, \"DWS\": 3.3, \"WS\": 7.9, \"WS/48\": 0.205, \"OBPM\": 3.4, \"DBPM\": 0.7, \"BPM\": 1.4131490212985682, \"VORP\": 2.9, \"pred\": 28, \"pred1\": 28, \"pred2\": 28, \"pred3\": 27, \"pred4\": 23, \"pred5\": 23, \"pred6\": 23, \"pred7\": 23, \"pred8\": 23, \"pred9\": 22}, {\"Player\": \"Eric Mika\", \"Pos\": \"PF\", \"Age\": 25, \"Tm\": \"SAC\", \"G\": 1, \"MP\": 19, \"PER\": 13.9, \"TS%\": 0.773, \"3PAr\": 0.0, \"FTr\": 0.667, \"ORB%\": 11.6, \"DRB%\": 30.4, \"TRB%\": 20.7, \"AST%\": 0.0, \"STL%\": 0.0, \"BLK%\": 0.0, \"TOV%\": 0.0, \"USG%\": -1.6710454885322183, \"OWS\": 0.1, \"DWS\": 0.0, \"WS\": 0.1, \"WS/48\": 0.218, \"OBPM\": -2.2, \"DBPM\": -1.0, \"BPM\": -0.3427752829207451, \"VORP\": 0.0, \"pred\": 25, \"pred1\": 25, \"pred2\": 25, \"pred3\": 25, \"pred4\": 25, \"pred5\": 25, \"pred6\": 25, \"pred7\": 25, \"pred8\": 25, \"pred9\": 25}, {\"Player\": \"C.J. Miles\", \"Pos\": \"SG\", \"Age\": 32, \"Tm\": \"WAS\", \"G\": 10, \"MP\": 161, \"PER\": 11.1, \"TS%\": 0.472, \"3PAr\": 0.593, \"FTr\": 0.339, \"ORB%\": 2.6, \"DRB%\": 5.7, \"TRB%\": 4.1, \"AST%\": 10.0, \"STL%\": 2.9, \"BLK%\": 2.2, \"TOV%\": 5.6, \"USG%\": 0.051248522441601344, \"OWS\": 0.0, \"DWS\": 0.1, \"WS\": 0.1, \"WS/48\": 0.035, \"OBPM\": -1.8, \"DBPM\": 0.1, \"BPM\": -0.00602267663210966, \"VORP\": 0.0, \"pred\": 32, \"pred1\": 32, \"pred2\": 27, \"pred3\": 22, \"pred4\": 21, \"pred5\": 21, \"pred6\": 21, \"pred7\": 32, \"pred8\": 32, \"pred9\": 32}, {\"Player\": \"Malcolm Miller\", \"Pos\": \"SF\", \"Age\": 26, \"Tm\": \"TOR\", \"G\": 28, \"MP\": 162, \"PER\": 6.7, \"TS%\": 0.538, \"3PAr\": 0.759, \"FTr\": 0.276, \"ORB%\": 1.3, \"DRB%\": 8.9, \"TRB%\": 5.2, \"AST%\": 8.9, \"STL%\": 1.5, \"BLK%\": 1.2, \"TOV%\": 11.0, \"USG%\": -1.5467562300083346, \"OWS\": 0.1, \"DWS\": 0.2, \"WS\": 0.3, \"WS/48\": 0.082, \"OBPM\": -3.5, \"DBPM\": 1.2, \"BPM\": -0.12629146459233656, \"VORP\": 0.0, \"pred\": 31, \"pred1\": 31, \"pred2\": 27, \"pred3\": 25, \"pred4\": 25, \"pred5\": 25, \"pred6\": 25, \"pred7\": 25, \"pred8\": 25, \"pred9\": 25}, {\"Player\": \"Patty Mills\", \"Pos\": \"PG\", \"Age\": 31, \"Tm\": \"SAS\", \"G\": 66, \"MP\": 1485, \"PER\": 14.8, \"TS%\": 0.592, \"3PAr\": 0.674, \"FTr\": 0.187, \"ORB%\": 1.6, \"DRB%\": 6.2, \"TRB%\": 3.9, \"AST%\": 11.4, \"STL%\": 1.7, \"BLK%\": 0.4, \"TOV%\": 7.7, \"USG%\": 0.370849472931588, \"OWS\": 2.3, \"DWS\": 0.5, \"WS\": 2.8, \"WS/48\": 0.091, \"OBPM\": 1.2, \"DBPM\": -1.2, \"BPM\": 0.42694496002470733, \"VORP\": 0.8, \"pred\": 31, \"pred1\": 31, \"pred2\": 24, \"pred3\": 24, \"pred4\": 24, \"pred5\": 24, \"pred6\": 24, \"pred7\": 24, \"pred8\": 23, \"pred9\": 23}, {\"Player\": \"Paul Millsap\", \"Pos\": \"PF\", \"Age\": 34, \"Tm\": \"DEN\", \"G\": 51, \"MP\": 1240, \"PER\": 16.9, \"TS%\": 0.591, \"3PAr\": 0.283, \"FTr\": 0.322, \"ORB%\": 8.9, \"DRB%\": 17.6, \"TRB%\": 13.2, \"AST%\": 9.6, \"STL%\": 1.8, \"BLK%\": 2.2, \"TOV%\": 12.3, \"USG%\": 0.29982703948936884, \"OWS\": 2.1, \"DWS\": 1.4, \"WS\": 3.5, \"WS/48\": 0.136, \"OBPM\": 0.3, \"DBPM\": -0.2, \"BPM\": 0.45099871761675275, \"VORP\": 0.7, \"pred\": 34, \"pred1\": 34, \"pred2\": 27, \"pred3\": 24, \"pred4\": 24, \"pred5\": 24, \"pred6\": 23, \"pred7\": 23, \"pred8\": 24, \"pred9\": 24}, {\"Player\": \"Shake Milton\", \"Pos\": \"SG\", \"Age\": 23, \"Tm\": \"PHI\", \"G\": 40, \"MP\": 805, \"PER\": 14.4, \"TS%\": 0.617, \"3PAr\": 0.487, \"FTr\": 0.235, \"ORB%\": 2.1, \"DRB%\": 10.0, \"TRB%\": 6.0, \"AST%\": 18.8, \"STL%\": 1.2, \"BLK%\": 0.7, \"TOV%\": 13.3, \"USG%\": 0.10451534752326536, \"OWS\": 1.4, \"DWS\": 0.7, \"WS\": 2.1, \"WS/48\": 0.126, \"OBPM\": 0.0, \"DBPM\": -1.0, \"BPM\": 0.18640738410425345, \"VORP\": 0.2, \"pred\": 23, \"pred1\": 23, \"pred2\": 23, \"pred3\": 23, \"pred4\": 23, \"pred5\": 23, \"pred6\": 23, \"pred7\": 23, \"pred8\": 23, \"pred9\": 23}, {\"Player\": \"Donovan Mitchell\", \"Pos\": \"SG\", \"Age\": 23, \"Tm\": \"UTA\", \"G\": 69, \"MP\": 2364, \"PER\": 18.8, \"TS%\": 0.558, \"3PAr\": 0.352, \"FTr\": 0.24, \"ORB%\": 2.6, \"DRB%\": 11.3, \"TRB%\": 7.1, \"AST%\": 21.6, \"STL%\": 1.4, \"BLK%\": 0.5, \"TOV%\": 11.0, \"USG%\": 2.217432742429292, \"OWS\": 3.2, \"DWS\": 2.2, \"WS\": 5.4, \"WS/48\": 0.11, \"OBPM\": 2.4, \"DBPM\": -0.6, \"BPM\": 0.8839663542735697, \"VORP\": 2.3, \"pred\": 23, \"pred1\": 23, \"pred2\": 23, \"pred3\": 19, \"pred4\": 19, \"pred5\": 19, \"pred6\": 19, \"pred7\": 26, \"pred8\": 26, \"pred9\": 22}, {\"Player\": \"Naz Mitrou-Long\", \"Pos\": \"SG\", \"Age\": 26, \"Tm\": \"IND\", \"G\": 5, \"MP\": 47, \"PER\": 7.8, \"TS%\": 0.412, \"3PAr\": 0.706, \"FTr\": 0.0, \"ORB%\": 0.0, \"DRB%\": 16.2, \"TRB%\": 8.2, \"AST%\": 22.8, \"STL%\": 1.0, \"BLK%\": 1.9, \"TOV%\": 15.0, \"USG%\": 0.06900413080215581, \"OWS\": -0.1, \"DWS\": 0.1, \"WS\": 0.0, \"WS/48\": -0.022, \"OBPM\": -3.5, \"DBPM\": 2.1, \"BPM\": 0.09019235373607193, \"VORP\": 0.0, \"pred\": 26, \"pred1\": 26, \"pred2\": 26, \"pred3\": 23, \"pred4\": 21, \"pred5\": 21, \"pred6\": 22, \"pred7\": 22, \"pred8\": 22, \"pred9\": 22}, {\"Player\": \"Adam Mokoka\", \"Pos\": \"SG\", \"Age\": 21, \"Tm\": \"CHI\", \"G\": 11, \"MP\": 112, \"PER\": 8.2, \"TS%\": 0.538, \"3PAr\": 0.536, \"FTr\": 0.143, \"ORB%\": 6.6, \"DRB%\": 3.1, \"TRB%\": 4.9, \"AST%\": 5.0, \"STL%\": 1.7, \"BLK%\": 0.0, \"TOV%\": 6.3, \"USG%\": -1.1028660209944636, \"OWS\": 0.1, \"DWS\": 0.1, \"WS\": 0.2, \"WS/48\": 0.073, \"OBPM\": -3.1, \"DBPM\": -1.0, \"BPM\": -0.5592591012491536, \"VORP\": -0.1, \"pred\": 21, \"pred1\": 21, \"pred2\": 21, \"pred3\": 21, \"pred4\": 21, \"pred5\": 26, \"pred6\": 26, \"pred7\": 22, \"pred8\": 22, \"pred9\": 22}, {\"Player\": \"Malik Monk\", \"Pos\": \"SG\", \"Age\": 21, \"Tm\": \"CHO\", \"G\": 55, \"MP\": 1169, \"PER\": 12.6, \"TS%\": 0.53, \"3PAr\": 0.418, \"FTr\": 0.205, \"ORB%\": 2.4, \"DRB%\": 12.6, \"TRB%\": 7.3, \"AST%\": 16.6, \"STL%\": 1.1, \"BLK%\": 1.3, \"TOV%\": 12.6, \"USG%\": 0.814739681945459, \"OWS\": 0.1, \"DWS\": 0.6, \"WS\": 0.7, \"WS/48\": 0.028, \"OBPM\": -1.1, \"DBPM\": -1.3, \"BPM\": -0.12629146459233656, \"VORP\": -0.1, \"pred\": 21, \"pred1\": 21, \"pred2\": 21, \"pred3\": 23, \"pred4\": 23, \"pred5\": 23, \"pred6\": 23, \"pred7\": 23, \"pred8\": 23, \"pred9\": 23}, {\"Player\": \"Matt Mooney\", \"Pos\": \"SG\", \"Age\": 22, \"Tm\": \"CLE\", \"G\": 4, \"MP\": 19, \"PER\": 8.1, \"TS%\": 0.25, \"3PAr\": 0.5, \"FTr\": 0.0, \"ORB%\": 0.0, \"DRB%\": 17.7, \"TRB%\": 8.8, \"AST%\": 6.7, \"STL%\": 5.1, \"BLK%\": 4.5, \"TOV%\": 0.0, \"USG%\": -1.6532898801716636, \"OWS\": 0.0, \"DWS\": 0.0, \"WS\": 0.0, \"WS/48\": 0.007, \"OBPM\": -5.4, \"DBPM\": 5.0, \"BPM\": 0.33072992965652576, \"VORP\": 0.0, \"pred\": 22, \"pred1\": 22, \"pred2\": 22, \"pred3\": 22, \"pred4\": 22, \"pred5\": 22, \"pred6\": 22, \"pred7\": 22, \"pred8\": 22, \"pred9\": 22}, {\"Player\": \"E'Twaun Moore\", \"Pos\": \"SG\", \"Age\": 30, \"Tm\": \"NOP\", \"G\": 56, \"MP\": 1020, \"PER\": 11.3, \"TS%\": 0.51, \"3PAr\": 0.382, \"FTr\": 0.103, \"ORB%\": 3.2, \"DRB%\": 10.4, \"TRB%\": 6.8, \"AST%\": 11.0, \"STL%\": 1.5, \"BLK%\": 0.9, \"TOV%\": 8.1, \"USG%\": 0.2820714311288138, \"OWS\": 0.3, \"DWS\": 0.7, \"WS\": 0.9, \"WS/48\": 0.043, \"OBPM\": -1.9, \"DBPM\": -0.8, \"BPM\": -0.2225064949605182, \"VORP\": -0.2, \"pred\": 30, \"pred1\": 30, \"pred2\": 21, \"pred3\": 30, \"pred4\": 30, \"pred5\": 30, \"pred6\": 23, \"pred7\": 23, \"pred8\": 23, \"pred9\": 21}, {\"Player\": \"Ja Morant\", \"Pos\": \"PG\", \"Age\": 20, \"Tm\": \"MEM\", \"G\": 67, \"MP\": 2074, \"PER\": 17.4, \"TS%\": 0.556, \"3PAr\": 0.191, \"FTr\": 0.329, \"ORB%\": 2.6, \"DRB%\": 10.4, \"TRB%\": 6.6, \"AST%\": 35.2, \"STL%\": 1.3, \"BLK%\": 0.8, \"TOV%\": 17.0, \"USG%\": 1.3474079327621042, \"OWS\": 2.3, \"DWS\": 1.5, \"WS\": 3.8, \"WS/48\": 0.088, \"OBPM\": 1.5, \"DBPM\": -1.2, \"BPM\": 0.49910623280084354, \"VORP\": 1.2, \"pred\": 28, \"pred1\": 28, \"pred2\": 28, \"pred3\": 28, \"pred4\": 26, \"pred5\": 24, \"pred6\": 24, \"pred7\": 24, \"pred8\": 24, \"pred9\": 24}, {\"Player\": \"Juwan Morgan\", \"Pos\": \"PF\", \"Age\": 22, \"Tm\": \"UTA\", \"G\": 21, \"MP\": 134, \"PER\": 10.1, \"TS%\": 0.648, \"3PAr\": 0.308, \"FTr\": 0.154, \"ORB%\": 8.5, \"DRB%\": 15.1, \"TRB%\": 11.9, \"AST%\": 6.2, \"STL%\": 0.4, \"BLK%\": 1.2, \"TOV%\": 17.8, \"USG%\": -1.298177712960567, \"OWS\": 0.2, \"DWS\": 0.1, \"WS\": 0.3, \"WS/48\": 0.106, \"OBPM\": -2.9, \"DBPM\": -0.3, \"BPM\": -0.3427752829207451, \"VORP\": 0.0, \"pred\": 22, \"pred1\": 22, \"pred2\": 22, \"pred3\": 34, \"pred4\": 34, \"pred5\": 34, \"pred6\": 22, \"pred7\": 22, \"pred8\": 22, \"pred9\": 22}, {\"Player\": \"Marcus Morris\", \"Pos\": \"SF-PF\", \"Age\": 30, \"Tm\": \"TOT\", \"G\": 62, \"MP\": 1936, \"PER\": 14.3, \"TS%\": 0.57, \"3PAr\": 0.43, \"FTr\": 0.272, \"ORB%\": 3.2, \"DRB%\": 14.0, \"TRB%\": 8.5, \"AST%\": 6.8, \"STL%\": 1.2, \"BLK%\": 1.4, \"TOV%\": 9.7, \"USG%\": 0.6371835983399106, \"OWS\": 2.1, \"DWS\": 1.5, \"WS\": 3.6, \"WS/48\": 0.088, \"OBPM\": 0.6, \"DBPM\": -0.7, \"BPM\": 0.4028912024326619, \"VORP\": 0.9, \"pred\": 30, \"pred1\": 30, \"pred2\": 27, \"pred3\": 24, \"pred4\": 24, \"pred5\": 24, \"pred6\": 24, \"pred7\": 24, \"pred8\": 24, \"pred9\": 24}, {\"Player\": \"Marcus Morris\", \"Pos\": \"SF\", \"Age\": 30, \"Tm\": \"NYK\", \"G\": 43, \"MP\": 1387, \"PER\": 16.5, \"TS%\": 0.582, \"3PAr\": 0.415, \"FTr\": 0.311, \"ORB%\": 3.6, \"DRB%\": 14.7, \"TRB%\": 9.0, \"AST%\": 6.8, \"STL%\": 1.2, \"BLK%\": 1.2, \"TOV%\": 9.2, \"USG%\": 1.0810738073537816, \"OWS\": 2.1, \"DWS\": 0.8, \"WS\": 2.9, \"WS/48\": 0.101, \"OBPM\": 1.8, \"DBPM\": -1.1, \"BPM\": 0.595321263169025, \"VORP\": 0.9, \"pred\": 30, \"pred1\": 30, \"pred2\": 23, \"pred3\": 23, \"pred4\": 20, \"pred5\": 20, \"pred6\": 20, \"pred7\": 30, \"pred8\": 30, \"pred9\": 30}, {\"Player\": \"Marcus Morris\", \"Pos\": \"PF\", \"Age\": 30, \"Tm\": \"LAC\", \"G\": 19, \"MP\": 549, \"PER\": 8.9, \"TS%\": 0.523, \"3PAr\": 0.483, \"FTr\": 0.126, \"ORB%\": 2.1, \"DRB%\": 12.3, \"TRB%\": 7.4, \"AST%\": 6.8, \"STL%\": 1.1, \"BLK%\": 2.1, \"TOV%\": 11.6, \"USG%\": -0.44590851165393436, \"OWS\": 0.0, \"DWS\": 0.7, \"WS\": 0.6, \"WS/48\": 0.055, \"OBPM\": -2.5, \"DBPM\": 0.3, \"BPM\": -0.10223770700029125, \"VORP\": 0.0, \"pred\": 28, \"pred1\": 28, \"pred2\": 27, \"pred3\": 20, \"pred4\": 20, \"pred5\": 20, \"pred6\": 20, \"pred7\": 25, \"pred8\": 25, \"pred9\": 25}, {\"Player\": \"Markieff Morris\", \"Pos\": \"PF\", \"Age\": 30, \"Tm\": \"TOT\", \"G\": 58, \"MP\": 1187, \"PER\": 12.5, \"TS%\": 0.565, \"3PAr\": 0.498, \"FTr\": 0.186, \"ORB%\": 3.8, \"DRB%\": 17.1, \"TRB%\": 10.3, \"AST%\": 10.1, \"STL%\": 1.3, \"BLK%\": 1.2, \"TOV%\": 13.3, \"USG%\": 0.4596275147343622, \"OWS\": 0.5, \"DWS\": 1.0, \"WS\": 1.4, \"WS/48\": 0.058, \"OBPM\": -1.1, \"DBPM\": -0.9, \"BPM\": -0.05413019181620043, \"VORP\": 0.0, \"pred\": 26, \"pred1\": 26, \"pred2\": 23, \"pred3\": 23, \"pred4\": 23, \"pred5\": 21, \"pred6\": 23, \"pred7\": 21, \"pred8\": 21, \"pred9\": 21}, {\"Player\": \"Markieff Morris\", \"Pos\": \"PF\", \"Age\": 30, \"Tm\": \"DET\", \"G\": 44, \"MP\": 988, \"PER\": 12.7, \"TS%\": 0.573, \"3PAr\": 0.486, \"FTr\": 0.203, \"ORB%\": 2.7, \"DRB%\": 17.3, \"TRB%\": 9.9, \"AST%\": 11.0, \"STL%\": 1.3, \"BLK%\": 0.9, \"TOV%\": 14.2, \"USG%\": 0.6194279899793561, \"OWS\": 0.3, \"DWS\": 0.7, \"WS\": 1.0, \"WS/48\": 0.049, \"OBPM\": -1.1, \"DBPM\": -1.0, \"BPM\": -0.07818394940824584, \"VORP\": 0.0, \"pred\": 23, \"pred1\": 23, \"pred2\": 23, \"pred3\": 28, \"pred4\": 28, \"pred5\": 28, \"pred6\": 23, \"pred7\": 23, \"pred8\": 23, \"pred9\": 23}, {\"Player\": \"Markieff Morris\", \"Pos\": \"PF\", \"Age\": 30, \"Tm\": \"LAL\", \"G\": 14, \"MP\": 199, \"PER\": 11.5, \"TS%\": 0.516, \"3PAr\": 0.565, \"FTr\": 0.087, \"ORB%\": 8.9, \"DRB%\": 15.8, \"TRB%\": 12.4, \"AST%\": 5.4, \"STL%\": 1.2, \"BLK%\": 2.7, \"TOV%\": 7.7, \"USG%\": -0.3216192531300506, \"OWS\": 0.2, \"DWS\": 0.3, \"WS\": 0.4, \"WS/48\": 0.106, \"OBPM\": -1.3, \"DBPM\": -0.1, \"BPM\": 0.09019235373607193, \"VORP\": 0.0, \"pred\": 30, \"pred1\": 30, \"pred2\": 28, \"pred3\": 24, \"pred4\": 22, \"pred5\": 22, \"pred6\": 22, \"pred7\": 23, \"pred8\": 23, \"pred9\": 23}, {\"Player\": \"Monte Morris\", \"Pos\": \"PG\", \"Age\": 24, \"Tm\": \"DEN\", \"G\": 73, \"MP\": 1636, \"PER\": 14.9, \"TS%\": 0.545, \"3PAr\": 0.304, \"FTr\": 0.157, \"ORB%\": 1.6, \"DRB%\": 7.7, \"TRB%\": 4.7, \"AST%\": 22.1, \"STL%\": 1.7, \"BLK%\": 1.0, \"TOV%\": 8.1, \"USG%\": -0.14406316952450215, \"OWS\": 2.7, \"DWS\": 1.1, \"WS\": 3.8, \"WS/48\": 0.112, \"OBPM\": 0.4, \"DBPM\": -0.5, \"BPM\": 0.3788374448406166, \"VORP\": 0.8, \"pred\": 24, \"pred1\": 24, \"pred2\": 24, \"pred3\": 24, \"pred4\": 24, \"pred5\": 23, \"pred6\": 25, \"pred7\": 25, \"pred8\": 25, \"pred9\": 25}, {\"Player\": \"Johnathan Motley\", \"Pos\": \"PF\", \"Age\": 24, \"Tm\": \"LAC\", \"G\": 13, \"MP\": 41, \"PER\": 28.5, \"TS%\": 0.774, \"3PAr\": 0.067, \"FTr\": 0.467, \"ORB%\": 7.8, \"DRB%\": 17.3, \"TRB%\": 12.7, \"AST%\": 32.9, \"STL%\": 3.5, \"BLK%\": 0.0, \"TOV%\": 21.7, \"USG%\": 0.9212733321087883, \"OWS\": 0.2, \"DWS\": 0.1, \"WS\": 0.3, \"WS/48\": 0.299, \"OBPM\": 4.8, \"DBPM\": 3.3, \"BPM\": 2.3752993249803835, \"VORP\": 0.1, \"pred\": 24, \"pred1\": 24, \"pred2\": 24, \"pred3\": 24, \"pred4\": 24, \"pred5\": 24, \"pred6\": 24, \"pred7\": 24, \"pred8\": 24, \"pred9\": 23}, {\"Player\": \"Emmanuel Mudiay\", \"Pos\": \"PG\", \"Age\": 23, \"Tm\": \"UTA\", \"G\": 54, \"MP\": 850, \"PER\": 13.0, \"TS%\": 0.543, \"3PAr\": 0.266, \"FTr\": 0.254, \"ORB%\": 2.4, \"DRB%\": 13.5, \"TRB%\": 8.2, \"AST%\": 20.9, \"STL%\": 1.4, \"BLK%\": 1.0, \"TOV%\": 17.3, \"USG%\": 0.761472856863795, \"OWS\": 0.1, \"DWS\": 0.9, \"WS\": 1.0, \"WS/48\": 0.057, \"OBPM\": -1.8, \"DBPM\": -0.1, \"BPM\": -0.030076434224155017, \"VORP\": 0.0, \"pred\": 23, \"pred1\": 23, \"pred2\": 23, \"pred3\": 20, \"pred4\": 20, \"pred5\": 23, \"pred6\": 23, \"pred7\": 23, \"pred8\": 23, \"pred9\": 23}, {\"Player\": \"Mychal Mulder\", \"Pos\": \"SG\", \"Age\": 25, \"Tm\": \"GSW\", \"G\": 7, \"MP\": 204, \"PER\": 7.8, \"TS%\": 0.533, \"3PAr\": 0.776, \"FTr\": 0.179, \"ORB%\": 1.5, \"DRB%\": 11.0, \"TRB%\": 6.1, \"AST%\": 5.8, \"STL%\": 0.5, \"BLK%\": 0.4, \"TOV%\": 6.5, \"USG%\": -0.3748860782117152, \"OWS\": 0.0, \"DWS\": 0.0, \"WS\": 0.1, \"WS/48\": 0.017, \"OBPM\": -3.3, \"DBPM\": -2.8, \"BPM\": -1.0403342530900612, \"VORP\": -0.2, \"pred\": 31, \"pred1\": 31, \"pred2\": 22, \"pred3\": 22, \"pred4\": 31, \"pred5\": 24, \"pred6\": 24, \"pred7\": 24, \"pred8\": 20, \"pred9\": 20}, {\"Player\": \"Dejounte Murray\", \"Pos\": \"PG\", \"Age\": 23, \"Tm\": \"SAS\", \"G\": 66, \"MP\": 1687, \"PER\": 16.2, \"TS%\": 0.524, \"3PAr\": 0.174, \"FTr\": 0.179, \"ORB%\": 4.4, \"DRB%\": 20.1, \"TRB%\": 12.2, \"AST%\": 23.1, \"STL%\": 3.1, \"BLK%\": 0.9, \"TOV%\": 15.4, \"USG%\": 0.44187190637380774, \"OWS\": 0.7, \"DWS\": 2.0, \"WS\": 2.6, \"WS/48\": 0.074, \"OBPM\": -0.9, \"DBPM\": 1.3, \"BPM\": 0.523159990392889, \"VORP\": 1.0, \"pred\": 23, \"pred1\": 23, \"pred2\": 23, \"pred3\": 23, \"pred4\": 23, \"pred5\": 23, \"pred6\": 27, \"pred7\": 27, \"pred8\": 27, \"pred9\": 27}, {\"Player\": \"Jamal Murray\", \"Pos\": \"PG\", \"Age\": 22, \"Tm\": \"DEN\", \"G\": 59, \"MP\": 1904, \"PER\": 17.7, \"TS%\": 0.559, \"3PAr\": 0.362, \"FTr\": 0.207, \"ORB%\": 2.7, \"DRB%\": 11.2, \"TRB%\": 6.9, \"AST%\": 22.9, \"STL%\": 1.7, \"BLK%\": 0.8, \"TOV%\": 11.5, \"USG%\": 1.2231186742382205, \"OWS\": 2.8, \"DWS\": 1.5, \"WS\": 4.3, \"WS/48\": 0.107, \"OBPM\": 2.0, \"DBPM\": -0.8, \"BPM\": 0.715590051129252, \"VORP\": 1.5, \"pred\": 22, \"pred1\": 22, \"pred2\": 22, \"pred3\": 22, \"pred4\": 26, \"pred5\": 26, \"pred6\": 26, \"pred7\": 26, \"pred8\": 26, \"pred9\": 26}, {\"Player\": \"D\\u017eanan Musa\", \"Pos\": \"SF\", \"Age\": 20, \"Tm\": \"BRK\", \"G\": 40, \"MP\": 487, \"PER\": 9.4, \"TS%\": 0.484, \"3PAr\": 0.453, \"FTr\": 0.349, \"ORB%\": 4.6, \"DRB%\": 13.5, \"TRB%\": 9.1, \"AST%\": 12.6, \"STL%\": 1.5, \"BLK%\": 0.2, \"TOV%\": 15.4, \"USG%\": 0.31758264784992396, \"OWS\": -0.3, \"DWS\": 0.5, \"WS\": 0.2, \"WS/48\": 0.016, \"OBPM\": -3.5, \"DBPM\": -0.9, \"BPM\": -0.6314203740252899, \"VORP\": -0.3, \"pred\": 20, \"pred1\": 20, \"pred2\": 20, \"pred3\": 19, \"pred4\": 19, \"pred5\": 19, \"pred6\": 22, \"pred7\": 20, \"pred8\": 20, \"pred9\": 20}, {\"Player\": \"Mike Muscala\", \"Pos\": \"C\", \"Age\": 28, \"Tm\": \"OKC\", \"G\": 47, \"MP\": 572, \"PER\": 12.5, \"TS%\": 0.569, \"3PAr\": 0.757, \"FTr\": 0.116, \"ORB%\": 3.2, \"DRB%\": 17.3, \"TRB%\": 10.4, \"AST%\": 10.1, \"STL%\": 0.8, \"BLK%\": 1.8, \"TOV%\": 7.9, \"USG%\": -0.30386364476949546, \"OWS\": 0.7, \"DWS\": 0.6, \"WS\": 1.3, \"WS/48\": 0.107, \"OBPM\": 0.1, \"DBPM\": -0.2, \"BPM\": 0.4028912024326619, \"VORP\": 0.3, \"pred\": 28, \"pred1\": 28, \"pred2\": 28, \"pred3\": 26, \"pred4\": 25, \"pred5\": 26, \"pred6\": 26, \"pred7\": 26, \"pred8\": 26, \"pred9\": 26}, {\"Player\": \"Sviatoslav Mykhailiuk\", \"Pos\": \"SF\", \"Age\": 22, \"Tm\": \"DET\", \"G\": 56, \"MP\": 1265, \"PER\": 11.2, \"TS%\": 0.578, \"3PAr\": 0.704, \"FTr\": 0.173, \"ORB%\": 1.5, \"DRB%\": 7.9, \"TRB%\": 4.7, \"AST%\": 12.3, \"STL%\": 1.6, \"BLK%\": 0.3, \"TOV%\": 12.3, \"USG%\": -0.21508560296672127, \"OWS\": 1.0, \"DWS\": 0.6, \"WS\": 1.6, \"WS/48\": 0.06, \"OBPM\": -0.7, \"DBPM\": -1.2, \"BPM\": -0.030076434224155017, \"VORP\": 0.0, \"pred\": 22, \"pred1\": 22, \"pred2\": 20, \"pred3\": 20, \"pred4\": 20, \"pred5\": 24, \"pred6\": 24, \"pred7\": 24, \"pred8\": 24, \"pred9\": 24}, {\"Player\": \"Abdel Nader\", \"Pos\": \"SF\", \"Age\": 26, \"Tm\": \"OKC\", \"G\": 55, \"MP\": 867, \"PER\": 11.3, \"TS%\": 0.591, \"3PAr\": 0.487, \"FTr\": 0.251, \"ORB%\": 1.8, \"DRB%\": 10.6, \"TRB%\": 6.4, \"AST%\": 6.4, \"STL%\": 1.3, \"BLK%\": 2.0, \"TOV%\": 12.8, \"USG%\": -0.23284121132727637, \"OWS\": 0.5, \"DWS\": 0.9, \"WS\": 1.3, \"WS/48\": 0.074, \"OBPM\": -1.1, \"DBPM\": 0.2, \"BPM\": 0.18640738410425345, \"VORP\": 0.2, \"pred\": 26, \"pred1\": 26, \"pred2\": 23, \"pred3\": 23, \"pred4\": 23, \"pred5\": 23, \"pred6\": 23, \"pred7\": 24, \"pred8\": 24, \"pred9\": 24}, {\"Player\": \"Larry Nance Jr.\", \"Pos\": \"C\", \"Age\": 27, \"Tm\": \"CLE\", \"G\": 56, \"MP\": 1472, \"PER\": 17.3, \"TS%\": 0.608, \"3PAr\": 0.369, \"FTr\": 0.172, \"ORB%\": 7.9, \"DRB%\": 23.1, \"TRB%\": 15.4, \"AST%\": 12.3, \"STL%\": 1.9, \"BLK%\": 1.3, \"TOV%\": 11.5, \"USG%\": -0.5524421618172637, \"OWS\": 2.8, \"DWS\": 1.1, \"WS\": 3.9, \"WS/48\": 0.128, \"OBPM\": 1.4, \"DBPM\": 0.4, \"BPM\": 0.8358588390894789, \"VORP\": 1.4, \"pred\": 27, \"pred1\": 27, \"pred2\": 22, \"pred3\": 27, \"pred4\": 27, \"pred5\": 27, \"pred6\": 27, \"pred7\": 22, \"pred8\": 22, \"pred9\": 22}, {\"Player\": \"Shabazz Napier\", \"Pos\": \"PG\", \"Age\": 28, \"Tm\": \"TOT\", \"G\": 56, \"MP\": 1344, \"PER\": 13.8, \"TS%\": 0.552, \"3PAr\": 0.526, \"FTr\": 0.336, \"ORB%\": 2.0, \"DRB%\": 10.9, \"TRB%\": 6.3, \"AST%\": 27.8, \"STL%\": 2.4, \"BLK%\": 0.7, \"TOV%\": 19.7, \"USG%\": 0.29982703948936884, \"OWS\": 0.8, \"DWS\": 0.9, \"WS\": 1.7, \"WS/48\": 0.059, \"OBPM\": -0.7, \"DBPM\": -0.4, \"BPM\": 0.16235362651220805, \"VORP\": 0.3, \"pred\": 27, \"pred1\": 27, \"pred2\": 24, \"pred3\": 24, \"pred4\": 23, \"pred5\": 21, \"pred6\": 31, \"pred7\": 31, \"pred8\": 31, \"pred9\": 31}, {\"Player\": \"Shabazz Napier\", \"Pos\": \"PG\", \"Age\": 28, \"Tm\": \"MIN\", \"G\": 36, \"MP\": 856, \"PER\": 13.9, \"TS%\": 0.539, \"3PAr\": 0.562, \"FTr\": 0.311, \"ORB%\": 2.0, \"DRB%\": 11.9, \"TRB%\": 6.8, \"AST%\": 31.3, \"STL%\": 2.2, \"BLK%\": 0.7, \"TOV%\": 19.1, \"USG%\": 0.14002656424437554, \"OWS\": 0.6, \"DWS\": 0.6, \"WS\": 1.3, \"WS/48\": 0.071, \"OBPM\": -0.6, \"DBPM\": -0.2, \"BPM\": 0.23451489928834424, \"VORP\": 0.3, \"pred\": 28, \"pred1\": 28, \"pred2\": 23, \"pred3\": 23, \"pred4\": 23, \"pred5\": 23, \"pred6\": 23, \"pred7\": 27, \"pred8\": 27, \"pred9\": 27}, {\"Player\": \"Shabazz Napier\", \"Pos\": \"PG\", \"Age\": 28, \"Tm\": \"WAS\", \"G\": 20, \"MP\": 488, \"PER\": 13.6, \"TS%\": 0.573, \"3PAr\": 0.468, \"FTr\": 0.376, \"ORB%\": 1.9, \"DRB%\": 9.1, \"TRB%\": 5.4, \"AST%\": 21.7, \"STL%\": 2.8, \"BLK%\": 0.7, \"TOV%\": 20.5, \"USG%\": 0.5839167732582465, \"OWS\": 0.1, \"DWS\": 0.3, \"WS\": 0.4, \"WS/48\": 0.039, \"OBPM\": -0.9, \"DBPM\": -0.7, \"BPM\": 0.06613859614402652, \"VORP\": 0.0, \"pred\": 28, \"pred1\": 28, \"pred2\": 25, \"pred3\": 24, \"pred4\": 20, \"pred5\": 20, \"pred6\": 20, \"pred7\": 28, \"pred8\": 28, \"pred9\": 28}, {\"Player\": \"Raul Neto\", \"Pos\": \"PG\", \"Age\": 27, \"Tm\": \"PHI\", \"G\": 54, \"MP\": 668, \"PER\": 12.7, \"TS%\": 0.567, \"3PAr\": 0.396, \"FTr\": 0.212, \"ORB%\": 1.8, \"DRB%\": 8.3, \"TRB%\": 5.0, \"AST%\": 20.3, \"STL%\": 1.7, \"BLK%\": 0.8, \"TOV%\": 16.2, \"USG%\": 0.06900413080215581, \"OWS\": 0.5, \"DWS\": 0.6, \"WS\": 1.2, \"WS/48\": 0.083, \"OBPM\": -1.2, \"DBPM\": -0.6, \"BPM\": -0.00602267663210966, \"VORP\": 0.0, \"pred\": 27, \"pred1\": 27, \"pred2\": 27, \"pred3\": 22, \"pred4\": 21, \"pred5\": 32, \"pred6\": 32, \"pred7\": 32, \"pred8\": 32, \"pred9\": 32}, {\"Player\": \"Malik Newman\", \"Pos\": \"SG\", \"Age\": 22, \"Tm\": \"CLE\", \"G\": 1, \"MP\": 4, \"PER\": -11.4, \"TS%\": 0.347, \"3PAr\": 0.5, \"FTr\": 1.0, \"ORB%\": 0.0, \"DRB%\": 0.0, \"TRB%\": 0.0, \"AST%\": 0.0, \"STL%\": 0.0, \"BLK%\": 0.0, \"TOV%\": 25.8, \"USG%\": 4.11728283700866, \"OWS\": 0.0, \"DWS\": 0.0, \"WS\": 0.0, \"WS/48\": -0.502, \"OBPM\": -14.5, \"DBPM\": -11.2, \"BPM\": -5.754870741130957, \"VORP\": 0.0, \"pred\": 22, \"pred1\": 22, \"pred2\": 22, \"pred3\": 22, \"pred4\": 22, \"pred5\": 22, \"pred6\": 22, \"pred7\": 22, \"pred8\": 22, \"pred9\": 22}, {\"Player\": \"Georges Niang\", \"Pos\": \"PF\", \"Age\": 26, \"Tm\": \"UTA\", \"G\": 66, \"MP\": 923, \"PER\": 11.7, \"TS%\": 0.589, \"3PAr\": 0.699, \"FTr\": 0.075, \"ORB%\": 1.9, \"DRB%\": 12.9, \"TRB%\": 7.6, \"AST%\": 7.0, \"STL%\": 0.9, \"BLK%\": 0.4, \"TOV%\": 8.3, \"USG%\": -0.19732999460616682, \"OWS\": 1.0, \"DWS\": 0.8, \"WS\": 1.8, \"WS/48\": 0.092, \"OBPM\": 0.4, \"DBPM\": -0.5, \"BPM\": 0.4028912024326619, \"VORP\": 0.4, \"pred\": 26, \"pred1\": 26, \"pred2\": 26, \"pred3\": 24, \"pred4\": 24, \"pred5\": 21, \"pred6\": 21, \"pred7\": 21, \"pred8\": 23, \"pred9\": 23}, {\"Player\": \"Joakim Noah\", \"Pos\": \"C\", \"Age\": 34, \"Tm\": \"LAC\", \"G\": 5, \"MP\": 50, \"PER\": 11.1, \"TS%\": 0.608, \"3PAr\": 0.0, \"FTr\": 1.0, \"ORB%\": 10.7, \"DRB%\": 22.3, \"TRB%\": 16.6, \"AST%\": 17.9, \"STL%\": 0.9, \"BLK%\": 1.8, \"TOV%\": 34.2, \"USG%\": -0.6412202036200378, \"OWS\": 0.0, \"DWS\": 0.1, \"WS\": 0.1, \"WS/48\": 0.096, \"OBPM\": -4.1, \"DBPM\": 2.5, \"BPM\": 0.042084838551981106, \"VORP\": 0.0, \"pred\": 24, \"pred1\": 24, \"pred2\": 23, \"pred3\": 19, \"pred4\": 19, \"pred5\": 23, \"pred6\": 23, \"pred7\": 23, \"pred8\": 23, \"pred9\": 23}, {\"Player\": \"Nerlens Noel\", \"Pos\": \"C\", \"Age\": 25, \"Tm\": \"OKC\", \"G\": 61, \"MP\": 1127, \"PER\": 20.4, \"TS%\": 0.711, \"3PAr\": 0.011, \"FTr\": 0.394, \"ORB%\": 9.2, \"DRB%\": 19.9, \"TRB%\": 14.7, \"AST%\": 7.6, \"STL%\": 2.5, \"BLK%\": 6.9, \"TOV%\": 17.3, \"USG%\": -0.6057089868989279, \"OWS\": 2.6, \"DWS\": 2.3, \"WS\": 4.9, \"WS/48\": 0.209, \"OBPM\": -0.3, \"DBPM\": 3.4, \"BPM\": 1.1726114453781145, \"VORP\": 1.5, \"pred\": 25, \"pred1\": 25, \"pred2\": 25, \"pred3\": 25, \"pred4\": 25, \"pred5\": 25, \"pred6\": 25, \"pred7\": 25, \"pred8\": 25, \"pred9\": 25}, {\"Player\": \"Zach Norvell\", \"Pos\": \"SG\", \"Age\": 22, \"Tm\": \"TOT\", \"G\": 5, \"MP\": 41, \"PER\": 2.6, \"TS%\": 0.402, \"3PAr\": 0.667, \"FTr\": 0.083, \"ORB%\": 0.0, \"DRB%\": 16.3, \"TRB%\": 7.9, \"AST%\": 10.2, \"STL%\": 2.3, \"BLK%\": 0.0, \"TOV%\": 19.4, \"USG%\": -0.39264168657226967, \"OWS\": -0.1, \"DWS\": 0.0, \"WS\": -0.1, \"WS/48\": -0.084, \"OBPM\": -7.1, \"DBPM\": -1.2, \"BPM\": -1.5935706777071055, \"VORP\": -0.1, \"pred\": 22, \"pred1\": 22, \"pred2\": 22, \"pred3\": 22, \"pred4\": 22, \"pred5\": 22, \"pred6\": 22, \"pred7\": 22, \"pred8\": 22, \"pred9\": 22}, {\"Player\": \"Zach Norvell\", \"Pos\": \"SG\", \"Age\": 22, \"Tm\": \"LAL\", \"G\": 2, \"MP\": 5, \"PER\": -5.6, \"TS%\": 0.0, \"3PAr\": 0.0, \"FTr\": 0.0, \"ORB%\": 0.0, \"DRB%\": 21.6, \"TRB%\": 10.9, \"AST%\": 0.0, \"STL%\": 0.0, \"BLK%\": 0.0, \"TOV%\": 0.0, \"USG%\": -1.7598235303349927, \"OWS\": 0.0, \"DWS\": 0.0, \"WS\": 0.0, \"WS/48\": -0.152, \"OBPM\": -10.3, \"DBPM\": -2.5, \"BPM\": -2.6519360117571025, \"VORP\": 0.0, \"pred\": 24, \"pred1\": 24, \"pred2\": 22, \"pred3\": 22, \"pred4\": 22, \"pred5\": 22, \"pred6\": 26, \"pred7\": 26, \"pred8\": 24, \"pred9\": 24}, {\"Player\": \"Zach Norvell\", \"Pos\": \"SG\", \"Age\": 22, \"Tm\": \"GSW\", \"G\": 3, \"MP\": 36, \"PER\": 3.7, \"TS%\": 0.437, \"3PAr\": 0.727, \"FTr\": 0.091, \"ORB%\": 0.0, \"DRB%\": 15.6, \"TRB%\": 7.5, \"AST%\": 11.7, \"STL%\": 2.7, \"BLK%\": 0.0, \"TOV%\": 20.8, \"USG%\": -0.21508560296672127, \"OWS\": -0.1, \"DWS\": 0.0, \"WS\": -0.1, \"WS/48\": -0.075, \"OBPM\": -6.7, \"DBPM\": -1.0, \"BPM\": -1.449248132154833, \"VORP\": -0.1, \"pred\": 26, \"pred1\": 26, \"pred2\": 22, \"pred3\": 22, \"pred4\": 22, \"pred5\": 22, \"pred6\": 22, \"pred7\": 22, \"pred8\": 22, \"pred9\": 22}, {\"Player\": \"Jaylen Nowell\", \"Pos\": \"SG\", \"Age\": 20, \"Tm\": \"MIN\", \"G\": 15, \"MP\": 151, \"PER\": 10.5, \"TS%\": 0.471, \"3PAr\": 0.491, \"FTr\": 0.321, \"ORB%\": 2.0, \"DRB%\": 7.3, \"TRB%\": 4.5, \"AST%\": 17.8, \"STL%\": 0.9, \"BLK%\": 0.6, \"TOV%\": 4.7, \"USG%\": -0.17957438624561173, \"OWS\": 0.1, \"DWS\": 0.0, \"WS\": 0.2, \"WS/48\": 0.051, \"OBPM\": -2.9, \"DBPM\": -0.8, \"BPM\": -0.4870978284730174, \"VORP\": -0.1, \"pred\": 20, \"pred1\": 20, \"pred2\": 20, \"pred3\": 20, \"pred4\": 20, \"pred5\": 22, \"pred6\": 20, \"pred7\": 20, \"pred8\": 20, \"pred9\": 20}, {\"Player\": \"Frank Ntilikina\", \"Pos\": \"PG\", \"Age\": 21, \"Tm\": \"NYK\", \"G\": 57, \"MP\": 1187, \"PER\": 9.8, \"TS%\": 0.497, \"3PAr\": 0.411, \"FTr\": 0.177, \"ORB%\": 2.0, \"DRB%\": 9.1, \"TRB%\": 5.4, \"AST%\": 20.2, \"STL%\": 2.2, \"BLK%\": 1.3, \"TOV%\": 16.5, \"USG%\": -0.5169309450961538, \"OWS\": 0.1, \"DWS\": 0.8, \"WS\": 0.9, \"WS/48\": 0.037, \"OBPM\": -3.6, \"DBPM\": 0.4, \"BPM\": -0.3427752829207451, \"VORP\": -0.4, \"pred\": 21, \"pred1\": 21, \"pred2\": 21, \"pred3\": 21, \"pred4\": 21, \"pred5\": 24, \"pred6\": 24, \"pred7\": 24, \"pred8\": 24, \"pred9\": 21}, {\"Player\": \"Kendrick Nunn\", \"Pos\": \"SG\", \"Age\": 24, \"Tm\": \"MIA\", \"G\": 67, \"MP\": 1962, \"PER\": 12.9, \"TS%\": 0.534, \"3PAr\": 0.428, \"FTr\": 0.109, \"ORB%\": 1.2, \"DRB%\": 8.7, \"TRB%\": 5.1, \"AST%\": 18.5, \"STL%\": 1.4, \"BLK%\": 0.8, \"TOV%\": 10.6, \"USG%\": 1.0278069822721176, \"OWS\": 0.4, \"DWS\": 1.6, \"WS\": 2.0, \"WS/48\": 0.049, \"OBPM\": -1.0, \"DBPM\": -1.3, \"BPM\": -0.12629146459233656, \"VORP\": -0.1, \"pred\": 24, \"pred1\": 24, \"pred2\": 24, \"pred3\": 20, \"pred4\": 20, \"pred5\": 20, \"pred6\": 28, \"pred7\": 28, \"pred8\": 23, \"pred9\": 23}, {\"Player\": \"Jusuf Nurki\\u0107\", \"Pos\": \"C\", \"Age\": 25, \"Tm\": \"POR\", \"G\": 8, \"MP\": 253, \"PER\": 22.6, \"TS%\": 0.567, \"3PAr\": 0.092, \"FTr\": 0.321, \"ORB%\": 9.6, \"DRB%\": 24.1, \"TRB%\": 16.9, \"AST%\": 19.1, \"STL%\": 2.1, \"BLK%\": 5.4, \"TOV%\": 13.2, \"USG%\": 1.0100513739115624, \"OWS\": 0.5, \"DWS\": 0.3, \"WS\": 0.9, \"WS/48\": 0.164, \"OBPM\": 1.0, \"DBPM\": 0.9, \"BPM\": 0.908020111865615, \"VORP\": 0.2, \"pred\": 25, \"pred1\": 25, \"pred2\": 22, \"pred3\": 22, \"pred4\": 22, \"pred5\": 22, \"pred6\": 22, \"pred7\": 22, \"pred8\": 22, \"pred9\": 22}, {\"Player\": \"David Nwaba\", \"Pos\": \"SF\", \"Age\": 27, \"Tm\": \"BRK\", \"G\": 20, \"MP\": 268, \"PER\": 14.0, \"TS%\": 0.627, \"3PAr\": 0.394, \"FTr\": 0.38, \"ORB%\": 3.2, \"DRB%\": 14.0, \"TRB%\": 8.7, \"AST%\": 4.3, \"STL%\": 1.9, \"BLK%\": 3.7, \"TOV%\": 8.8, \"USG%\": -0.729998245422812, \"OWS\": 0.4, \"DWS\": 0.4, \"WS\": 0.8, \"WS/48\": 0.138, \"OBPM\": -1.0, \"DBPM\": 2.0, \"BPM\": 0.6674825359451612, \"VORP\": 0.2, \"pred\": 27, \"pred1\": 27, \"pred2\": 27, \"pred3\": 22, \"pred4\": 22, \"pred5\": 22, \"pred6\": 28, \"pred7\": 28, \"pred8\": 26, \"pred9\": 26}, {\"Player\": \"Royce O'Neale\", \"Pos\": \"PF\", \"Age\": 26, \"Tm\": \"UTA\", \"G\": 71, \"MP\": 2049, \"PER\": 9.5, \"TS%\": 0.578, \"3PAr\": 0.668, \"FTr\": 0.151, \"ORB%\": 1.5, \"DRB%\": 18.8, \"TRB%\": 10.4, \"AST%\": 11.6, \"STL%\": 1.4, \"BLK%\": 1.3, \"TOV%\": 13.5, \"USG%\": -1.5467562300083346, \"OWS\": 1.8, \"DWS\": 2.5, \"WS\": 4.3, \"WS/48\": 0.101, \"OBPM\": -1.3, \"DBPM\": 2.2, \"BPM\": 0.6434287783531158, \"VORP\": 1.5, \"pred\": 22, \"pred1\": 22, \"pred2\": 22, \"pred3\": 22, \"pred4\": 22, \"pred5\": 22, \"pred6\": 22, \"pred7\": 22, \"pred8\": 22, \"pred9\": 22}, {\"Player\": \"Kyle O'Quinn\", \"Pos\": \"C\", \"Age\": 29, \"Tm\": \"PHI\", \"G\": 29, \"MP\": 313, \"PER\": 18.6, \"TS%\": 0.544, \"3PAr\": 0.318, \"FTr\": 0.235, \"ORB%\": 12.0, \"DRB%\": 29.0, \"TRB%\": 20.5, \"AST%\": 22.7, \"STL%\": 1.1, \"BLK%\": 6.5, \"TOV%\": 17.6, \"USG%\": -0.4636641200144894, \"OWS\": 0.5, \"DWS\": 0.6, \"WS\": 1.1, \"WS/48\": 0.165, \"OBPM\": 0.3, \"DBPM\": 2.7, \"BPM\": 1.148557687786069, \"VORP\": 0.4, \"pred\": 29, \"pred1\": 29, \"pred2\": 29, \"pred3\": 25, \"pred4\": 22, \"pred5\": 25, \"pred6\": 25, \"pred7\": 25, \"pred8\": 25, \"pred9\": 25}, {\"Player\": \"Semi Ojeleye\", \"Pos\": \"PF\", \"Age\": 25, \"Tm\": \"BOS\", \"G\": 69, \"MP\": 1011, \"PER\": 7.7, \"TS%\": 0.562, \"3PAr\": 0.648, \"FTr\": 0.163, \"ORB%\": 2.8, \"DRB%\": 12.5, \"TRB%\": 7.7, \"AST%\": 4.7, \"STL%\": 1.0, \"BLK%\": 0.5, \"TOV%\": 8.3, \"USG%\": -1.5290006216477798, \"OWS\": 0.8, \"DWS\": 1.0, \"WS\": 1.9, \"WS/48\": 0.088, \"OBPM\": -2.1, \"DBPM\": 0.4, \"BPM\": 0.01803108095993575, \"VORP\": 0.1, \"pred\": 25, \"pred1\": 25, \"pred2\": 25, \"pred3\": 23, \"pred4\": 23, \"pred5\": 23, \"pred6\": 23, \"pred7\": 25, \"pred8\": 25, \"pred9\": 25}, {\"Player\": \"Jahlil Okafor\", \"Pos\": \"C\", \"Age\": 24, \"Tm\": \"NOP\", \"G\": 30, \"MP\": 467, \"PER\": 18.3, \"TS%\": 0.642, \"3PAr\": 0.019, \"FTr\": 0.383, \"ORB%\": 10.9, \"DRB%\": 18.0, \"TRB%\": 14.4, \"AST%\": 12.0, \"STL%\": 0.7, \"BLK%\": 3.9, \"TOV%\": 16.7, \"USG%\": 0.2820714311288138, \"OWS\": 0.9, \"DWS\": 0.4, \"WS\": 1.3, \"WS/48\": 0.133, \"OBPM\": -0.5, \"DBPM\": 0.3, \"BPM\": 0.3788374448406166, \"VORP\": 0.2, \"pred\": 24, \"pred1\": 24, \"pred2\": 24, \"pred3\": 23, \"pred4\": 23, \"pred5\": 27, \"pred6\": 27, \"pred7\": 27, \"pred8\": 27, \"pred9\": 27}, {\"Player\": \"Elie Okobo\", \"Pos\": \"PG\", \"Age\": 22, \"Tm\": \"PHO\", \"G\": 55, \"MP\": 719, \"PER\": 10.6, \"TS%\": 0.516, \"3PAr\": 0.392, \"FTr\": 0.392, \"ORB%\": 2.4, \"DRB%\": 11.6, \"TRB%\": 6.9, \"AST%\": 21.2, \"STL%\": 1.6, \"BLK%\": 0.5, \"TOV%\": 15.2, \"USG%\": -0.6234645952594827, \"OWS\": 0.5, \"DWS\": 0.5, \"WS\": 1.0, \"WS/48\": 0.067, \"OBPM\": -1.9, \"DBPM\": 0.0, \"BPM\": -0.030076434224155017, \"VORP\": 0.0, \"pred\": 19, \"pred1\": 19, \"pred2\": 19, \"pred3\": 19, \"pred4\": 19, \"pred5\": 19, \"pred6\": 24, \"pred7\": 24, \"pred8\": 24, \"pred9\": 23}, {\"Player\": \"Josh Okogie\", \"Pos\": \"SG\", \"Age\": 21, \"Tm\": \"MIN\", \"G\": 62, \"MP\": 1547, \"PER\": 11.5, \"TS%\": 0.553, \"3PAr\": 0.387, \"FTr\": 0.48, \"ORB%\": 5.7, \"DRB%\": 12.8, \"TRB%\": 9.1, \"AST%\": 8.9, \"STL%\": 2.0, \"BLK%\": 1.4, \"TOV%\": 15.3, \"USG%\": -0.5701977701778184, \"OWS\": 0.9, \"DWS\": 1.2, \"WS\": 2.2, \"WS/48\": 0.068, \"OBPM\": -2.4, \"DBPM\": 0.0, \"BPM\": -0.15034522218438195, \"VORP\": -0.2, \"pred\": 21, \"pred1\": 21, \"pred2\": 21, \"pred3\": 21, \"pred4\": 21, \"pred5\": 21, \"pred6\": 21, \"pred7\": 21, \"pred8\": 21, \"pred9\": 21}, {\"Player\": \"KZ Okpala\", \"Pos\": \"SF\", \"Age\": 20, \"Tm\": \"MIA\", \"G\": 5, \"MP\": 26, \"PER\": 13.7, \"TS%\": 0.595, \"3PAr\": 0.2, \"FTr\": 0.4, \"ORB%\": 4.5, \"DRB%\": 16.6, \"TRB%\": 10.8, \"AST%\": 5.5, \"STL%\": 3.8, \"BLK%\": 3.8, \"TOV%\": 14.5, \"USG%\": -1.173888454436683, \"OWS\": 0.0, \"DWS\": 0.0, \"WS\": 0.1, \"WS/48\": 0.118, \"OBPM\": -1.3, \"DBPM\": 4.0, \"BPM\": 1.0763964150099328, \"VORP\": 0.0, \"pred\": 20, \"pred1\": 20, \"pred2\": 20, \"pred3\": 20, \"pred4\": 20, \"pred5\": 28, \"pred6\": 28, \"pred7\": 28, \"pred8\": 28, \"pred9\": 28}, {\"Player\": \"Victor Oladipo\", \"Pos\": \"SG\", \"Age\": 27, \"Tm\": \"IND\", \"G\": 19, \"MP\": 528, \"PER\": 11.3, \"TS%\": 0.506, \"3PAr\": 0.423, \"FTr\": 0.24, \"ORB%\": 1.9, \"DRB%\": 13.6, \"TRB%\": 7.8, \"AST%\": 15.4, \"STL%\": 1.6, \"BLK%\": 0.7, \"TOV%\": 14.7, \"USG%\": 1.4539415829254336, \"OWS\": -0.6, \"DWS\": 0.6, \"WS\": 0.0, \"WS/48\": 0.002, \"OBPM\": -2.2, \"DBPM\": -1.1, \"BPM\": -0.3668290405127904, \"VORP\": -0.2, \"pred\": 27, \"pred1\": 27, \"pred2\": 20, \"pred3\": 20, \"pred4\": 20, \"pred5\": 20, \"pred6\": 30, \"pred7\": 30, \"pred8\": 30, \"pred9\": 30}, {\"Player\": \"Kelly Olynyk\", \"Pos\": \"C\", \"Age\": 28, \"Tm\": \"MIA\", \"G\": 67, \"MP\": 1300, \"PER\": 14.6, \"TS%\": 0.621, \"3PAr\": 0.588, \"FTr\": 0.251, \"ORB%\": 3.9, \"DRB%\": 21.6, \"TRB%\": 13.1, \"AST%\": 13.3, \"STL%\": 1.7, \"BLK%\": 1.8, \"TOV%\": 13.8, \"USG%\": -0.16181877788505725, \"OWS\": 1.9, \"DWS\": 1.8, \"WS\": 3.7, \"WS/48\": 0.135, \"OBPM\": 0.0, \"DBPM\": 1.0, \"BPM\": 0.6674825359451612, \"VORP\": 1.0, \"pred\": 23, \"pred1\": 23, \"pred2\": 23, \"pred3\": 23, \"pred4\": 23, \"pred5\": 23, \"pred6\": 23, \"pred7\": 23, \"pred8\": 23, \"pred9\": 23}, {\"Player\": \"Miye Oni\", \"Pos\": \"SG\", \"Age\": 22, \"Tm\": \"UTA\", \"G\": 10, \"MP\": 109, \"PER\": 9.7, \"TS%\": 0.512, \"3PAr\": 0.594, \"FTr\": 0.156, \"ORB%\": 5.2, \"DRB%\": 11.7, \"TRB%\": 8.6, \"AST%\": 5.1, \"STL%\": 1.8, \"BLK%\": 1.5, \"TOV%\": 10.5, \"USG%\": -0.5346865534567086, \"OWS\": 0.0, \"DWS\": 0.1, \"WS\": 0.1, \"WS/48\": 0.063, \"OBPM\": -3.2, \"DBPM\": -1.0, \"BPM\": -0.6073666164332444, \"VORP\": -0.1, \"pred\": 22, \"pred1\": 22, \"pred2\": 21, \"pred3\": 21, \"pred4\": 21, \"pred5\": 26, \"pred6\": 26, \"pred7\": 26, \"pred8\": 24, \"pred9\": 22}, {\"Player\": \"Cedi Osman\", \"Pos\": \"SF\", \"Age\": 24, \"Tm\": \"CLE\", \"G\": 65, \"MP\": 1910, \"PER\": 10.7, \"TS%\": 0.552, \"3PAr\": 0.527, \"FTr\": 0.154, \"ORB%\": 2.2, \"DRB%\": 11.3, \"TRB%\": 6.7, \"AST%\": 11.6, \"STL%\": 1.4, \"BLK%\": 0.7, \"TOV%\": 12.3, \"USG%\": -0.30386364476949546, \"OWS\": 1.0, \"DWS\": 0.6, \"WS\": 1.6, \"WS/48\": 0.04, \"OBPM\": -1.7, \"DBPM\": -0.9, \"BPM\": -0.19845273736847277, \"VORP\": -0.3, \"pred\": 24, \"pred1\": 24, \"pred2\": 24, \"pred3\": 24, \"pred4\": 24, \"pred5\": 24, \"pred6\": 24, \"pred7\": 24, \"pred8\": 24, \"pred9\": 24}, {\"Player\": \"Kelly Oubre Jr.\", \"Pos\": \"SF\", \"Age\": 24, \"Tm\": \"PHO\", \"G\": 56, \"MP\": 1933, \"PER\": 14.9, \"TS%\": 0.56, \"3PAr\": 0.372, \"FTr\": 0.298, \"ORB%\": 3.8, \"DRB%\": 17.1, \"TRB%\": 10.4, \"AST%\": 6.6, \"STL%\": 1.7, \"BLK%\": 1.8, \"TOV%\": 8.2, \"USG%\": 0.7259616401426848, \"OWS\": 1.7, \"DWS\": 2.1, \"WS\": 3.8, \"WS/48\": 0.093, \"OBPM\": -0.3, \"DBPM\": -0.3, \"BPM\": 0.3066761720644804, \"VORP\": 0.7, \"pred\": 24, \"pred1\": 24, \"pred2\": 24, \"pred3\": 24, \"pred4\": 24, \"pred5\": 22, \"pred6\": 22, \"pred7\": 22, \"pred8\": 24, \"pred9\": 24}, {\"Player\": \"Tariq Owens\", \"Pos\": \"PF\", \"Age\": 24, \"Tm\": \"PHO\", \"G\": 3, \"MP\": 15, \"PER\": 8.4, \"TS%\": 0.34, \"3PAr\": 0.4, \"FTr\": 0.4, \"ORB%\": 14.6, \"DRB%\": 7.5, \"TRB%\": 11.1, \"AST%\": 0.0, \"STL%\": 3.2, \"BLK%\": 0.0, \"TOV%\": 0.0, \"USG%\": -0.286108036408941, \"OWS\": 0.0, \"DWS\": 0.0, \"WS\": 0.0, \"WS/48\": 0.021, \"OBPM\": -3.1, \"DBPM\": -2.7, \"BPM\": -0.9681729803139252, \"VORP\": 0.0, \"pred\": 24, \"pred1\": 24, \"pred2\": 22, \"pred3\": 22, \"pred4\": 20, \"pred5\": 31, \"pred6\": 31, \"pred7\": 24, \"pred8\": 24, \"pred9\": 24}, {\"Player\": \"Jeremy Pargo\", \"Pos\": \"PG\", \"Age\": 33, \"Tm\": \"GSW\", \"G\": 3, \"MP\": 44, \"PER\": 12.6, \"TS%\": 0.557, \"3PAr\": 0.318, \"FTr\": 0.045, \"ORB%\": 2.4, \"DRB%\": 5.1, \"TRB%\": 3.7, \"AST%\": 33.2, \"STL%\": 1.1, \"BLK%\": 0.0, \"TOV%\": 15.1, \"USG%\": 1.3118967160409947, \"OWS\": 0.0, \"DWS\": 0.0, \"WS\": 0.0, \"WS/48\": 0.011, \"OBPM\": -2.8, \"DBPM\": -3.0, \"BPM\": -0.9922267379059707, \"VORP\": 0.0, \"pred\": 33, \"pred1\": 33, \"pred2\": 30, \"pred3\": 22, \"pred4\": 30, \"pred5\": 30, \"pred6\": 30, \"pred7\": 30, \"pred8\": 30, \"pred9\": 30}, {\"Player\": \"Jabari Parker\", \"Pos\": \"PF\", \"Age\": 24, \"Tm\": \"TOT\", \"G\": 38, \"MP\": 917, \"PER\": 18.0, \"TS%\": 0.571, \"3PAr\": 0.277, \"FTr\": 0.189, \"ORB%\": 7.1, \"DRB%\": 18.3, \"TRB%\": 12.6, \"AST%\": 12.4, \"STL%\": 2.3, \"BLK%\": 1.5, \"TOV%\": 12.1, \"USG%\": 1.0100513739115624, \"OWS\": 0.8, \"DWS\": 0.8, \"WS\": 1.6, \"WS/48\": 0.083, \"OBPM\": 0.6, \"DBPM\": -0.3, \"BPM\": 0.49910623280084354, \"VORP\": 0.5, \"pred\": 20, \"pred1\": 20, \"pred2\": 20, \"pred3\": 20, \"pred4\": 20, \"pred5\": 20, \"pred6\": 20, \"pred7\": 30, \"pred8\": 24, \"pred9\": 24}, {\"Player\": \"Jabari Parker\", \"Pos\": \"PF\", \"Age\": 24, \"Tm\": \"ATL\", \"G\": 32, \"MP\": 837, \"PER\": 17.2, \"TS%\": 0.565, \"3PAr\": 0.293, \"FTr\": 0.183, \"ORB%\": 6.9, \"DRB%\": 17.9, \"TRB%\": 12.3, \"AST%\": 11.6, \"STL%\": 2.3, \"BLK%\": 1.5, \"TOV%\": 12.4, \"USG%\": 1.0100513739115624, \"OWS\": 0.5, \"DWS\": 0.7, \"WS\": 1.2, \"WS/48\": 0.068, \"OBPM\": 0.3, \"DBPM\": -0.3, \"BPM\": 0.42694496002470733, \"VORP\": 0.4, \"pred\": 24, \"pred1\": 24, \"pred2\": 24, \"pred3\": 24, \"pred4\": 24, \"pred5\": 20, \"pred6\": 25, \"pred7\": 25, \"pred8\": 25, \"pred9\": 25}, {\"Player\": \"Jabari Parker\", \"Pos\": \"PF\", \"Age\": 24, \"Tm\": \"SAC\", \"G\": 6, \"MP\": 80, \"PER\": 26.5, \"TS%\": 0.638, \"3PAr\": 0.111, \"FTr\": 0.25, \"ORB%\": 9.6, \"DRB%\": 23.1, \"TRB%\": 16.2, \"AST%\": 21.5, \"STL%\": 1.8, \"BLK%\": 1.2, \"TOV%\": 9.1, \"USG%\": 0.974540157190453, \"OWS\": 0.3, \"DWS\": 0.1, \"WS\": 0.4, \"WS/48\": 0.234, \"OBPM\": 3.5, \"DBPM\": -0.9, \"BPM\": 1.0523426574178876, \"VORP\": 0.1, \"pred\": 24, \"pred1\": 24, \"pred2\": 22, \"pred3\": 22, \"pred4\": 22, \"pred5\": 24, \"pred6\": 24, \"pred7\": 24, \"pred8\": 24, \"pred9\": 22}, {\"Player\": \"Chandler Parsons\", \"Pos\": \"SF\", \"Age\": 31, \"Tm\": \"ATL\", \"G\": 5, \"MP\": 54, \"PER\": 5.6, \"TS%\": 0.389, \"3PAr\": 0.778, \"FTr\": 0.0, \"ORB%\": 2.0, \"DRB%\": 12.1, \"TRB%\": 7.0, \"AST%\": 7.5, \"STL%\": 3.5, \"BLK%\": 1.6, \"TOV%\": 14.3, \"USG%\": -0.39264168657226967, \"OWS\": -0.1, \"DWS\": 0.0, \"WS\": -0.1, \"WS/48\": -0.065, \"OBPM\": -4.7, \"DBPM\": -1.4, \"BPM\": -1.0403342530900612, \"VORP\": -0.1, \"pred\": 31, \"pred1\": 31, \"pred2\": 22, \"pred3\": 22, \"pred4\": 31, \"pred5\": 24, \"pred6\": 24, \"pred7\": 24, \"pred8\": 20, \"pred9\": 20}, {\"Player\": \"Eric Paschall\", \"Pos\": \"PF\", \"Age\": 23, \"Tm\": \"GSW\", \"G\": 60, \"MP\": 1654, \"PER\": 14.5, \"TS%\": 0.571, \"3PAr\": 0.202, \"FTr\": 0.331, \"ORB%\": 5.2, \"DRB%\": 13.1, \"TRB%\": 9.0, \"AST%\": 12.7, \"STL%\": 0.9, \"BLK%\": 0.7, \"TOV%\": 11.4, \"USG%\": 0.5484055565371364, \"OWS\": 1.6, \"DWS\": 0.5, \"WS\": 2.1, \"WS/48\": 0.062, \"OBPM\": -0.7, \"DBPM\": -2.0, \"BPM\": -0.2225064949605182, \"VORP\": -0.3, \"pred\": 23, \"pred1\": 23, \"pred2\": 20, \"pred3\": 20, \"pred4\": 23, \"pred5\": 23, \"pred6\": 23, \"pred7\": 23, \"pred8\": 23, \"pred9\": 23}, {\"Player\": \"An\\u017eejs Pase\\u010d\\u0146iks\", \"Pos\": \"C\", \"Age\": 24, \"Tm\": \"WAS\", \"G\": 27, \"MP\": 437, \"PER\": 11.3, \"TS%\": 0.551, \"3PAr\": 0.026, \"FTr\": 0.5, \"ORB%\": 10.1, \"DRB%\": 16.9, \"TRB%\": 13.4, \"AST%\": 5.7, \"STL%\": 1.0, \"BLK%\": 2.4, \"TOV%\": 14.5, \"USG%\": -0.44590851165393436, \"OWS\": 0.3, \"DWS\": 0.2, \"WS\": 0.5, \"WS/48\": 0.054, \"OBPM\": -4.1, \"DBPM\": -1.5, \"BPM\": -0.9200654651298343, \"VORP\": -0.4, \"pred\": 24, \"pred1\": 24, \"pred2\": 23, \"pred3\": 20, \"pred4\": 20, \"pred5\": 20, \"pred6\": 20, \"pred7\": 31, \"pred8\": 31, \"pred9\": 24}, {\"Player\": \"Patrick Patterson\", \"Pos\": \"PF\", \"Age\": 30, \"Tm\": \"LAC\", \"G\": 59, \"MP\": 776, \"PER\": 11.5, \"TS%\": 0.58, \"3PAr\": 0.738, \"FTr\": 0.185, \"ORB%\": 4.8, \"DRB%\": 15.1, \"TRB%\": 10.1, \"AST%\": 7.2, \"STL%\": 0.4, \"BLK%\": 0.3, \"TOV%\": 7.7, \"USG%\": -0.6412202036200378, \"OWS\": 1.1, \"DWS\": 0.8, \"WS\": 1.9, \"WS/48\": 0.118, \"OBPM\": 0.8, \"DBPM\": -0.5, \"BPM\": 0.49910623280084354, \"VORP\": 0.5, \"pred\": 30, \"pred1\": 30, \"pred2\": 21, \"pred3\": 21, \"pred4\": 21, \"pred5\": 21, \"pred6\": 21, \"pred7\": 21, \"pred8\": 32, \"pred9\": 32}, {\"Player\": \"Justin Patton\", \"Pos\": \"C\", \"Age\": 22, \"Tm\": \"OKC\", \"G\": 5, \"MP\": 24, \"PER\": 4.7, \"TS%\": 0.45, \"3PAr\": 0.4, \"FTr\": 0.0, \"ORB%\": 4.7, \"DRB%\": 17.9, \"TRB%\": 11.5, \"AST%\": 12.6, \"STL%\": 0.0, \"BLK%\": 0.0, \"TOV%\": 16.7, \"USG%\": 0.6549392067004657, \"OWS\": -0.1, \"DWS\": 0.0, \"WS\": 0.0, \"WS/48\": -0.063, \"OBPM\": -6.8, \"DBPM\": -3.3, \"BPM\": -2.002484556771877, \"VORP\": 0.0, \"pred\": 22, \"pred1\": 22, \"pred2\": 22, \"pred3\": 21, \"pred4\": 21, \"pred5\": 20, \"pred6\": 22, \"pred7\": 22, \"pred8\": 22, \"pred9\": 22}, {\"Player\": \"Chris Paul\", \"Pos\": \"PG\", \"Age\": 34, \"Tm\": \"OKC\", \"G\": 70, \"MP\": 2208, \"PER\": 21.7, \"TS%\": 0.61, \"3PAr\": 0.343, \"FTr\": 0.315, \"ORB%\": 1.3, \"DRB%\": 15.7, \"TRB%\": 8.7, \"AST%\": 34.0, \"STL%\": 2.4, \"BLK%\": 0.4, \"TOV%\": 13.8, \"USG%\": 0.8857621153876788, \"OWS\": 5.9, \"DWS\": 3.0, \"WS\": 8.9, \"WS/48\": 0.193, \"OBPM\": 3.0, \"DBPM\": 1.4, \"BPM\": 1.4853102940747045, \"VORP\": 3.5, \"pred\": 34, \"pred1\": 34, \"pred2\": 23, \"pred3\": 23, \"pred4\": 23, \"pred5\": 23, \"pred6\": 23, \"pred7\": 23, \"pred8\": 23, \"pred9\": 22}, {\"Player\": \"Cameron Payne\", \"Pos\": \"PG\", \"Age\": 25, \"Tm\": \"PHO\", \"G\": 8, \"MP\": 183, \"PER\": 15.7, \"TS%\": 0.612, \"3PAr\": 0.426, \"FTr\": 0.103, \"ORB%\": 2.4, \"DRB%\": 16.6, \"TRB%\": 9.4, \"AST%\": 19.5, \"STL%\": 2.1, \"BLK%\": 1.0, \"TOV%\": 13.4, \"USG%\": 0.14002656424437554, \"OWS\": 0.3, \"DWS\": 0.2, \"WS\": 0.5, \"WS/48\": 0.12, \"OBPM\": 0.5, \"DBPM\": 1.0, \"BPM\": 0.7877513239053882, \"VORP\": 0.2, \"pred\": 25, \"pred1\": 25, \"pred2\": 25, \"pred3\": 25, \"pred4\": 25, \"pred5\": 25, \"pred6\": 22, \"pred7\": 22, \"pred8\": 22, \"pred9\": 22}, {\"Player\": \"Elfrid Payton\", \"Pos\": \"PG\", \"Age\": 25, \"Tm\": \"NYK\", \"G\": 45, \"MP\": 1246, \"PER\": 16.0, \"TS%\": 0.47, \"3PAr\": 0.157, \"FTr\": 0.195, \"ORB%\": 4.3, \"DRB%\": 14.1, \"TRB%\": 9.1, \"AST%\": 38.6, \"STL%\": 2.7, \"BLK%\": 1.3, \"TOV%\": 16.7, \"USG%\": 0.21104899768659466, \"OWS\": 0.5, \"DWS\": 1.2, \"WS\": 1.7, \"WS/48\": 0.065, \"OBPM\": -0.4, \"DBPM\": 0.4, \"BPM\": 0.42694496002470733, \"VORP\": 0.6, \"pred\": 32, \"pred1\": 32, \"pred2\": 28, \"pred3\": 24, \"pred4\": 23, \"pred5\": 23, \"pred6\": 23, \"pred7\": 23, \"pred8\": 27, \"pred9\": 27}, {\"Player\": \"Gary Payton II\", \"Pos\": \"PG\", \"Age\": 27, \"Tm\": \"WAS\", \"G\": 29, \"MP\": 432, \"PER\": 11.3, \"TS%\": 0.473, \"3PAr\": 0.397, \"FTr\": 0.069, \"ORB%\": 6.3, \"DRB%\": 14.2, \"TRB%\": 10.1, \"AST%\": 14.8, \"STL%\": 3.6, \"BLK%\": 1.4, \"TOV%\": 14.3, \"USG%\": -0.8720431123072506, \"OWS\": 0.0, \"DWS\": 0.4, \"WS\": 0.5, \"WS/48\": 0.051, \"OBPM\": -3.2, \"DBPM\": 1.6, \"BPM\": 0.042084838551981106, \"VORP\": 0.0, \"pred\": 27, \"pred1\": 27, \"pred2\": 27, \"pred3\": 28, \"pred4\": 28, \"pred5\": 28, \"pred6\": 28, \"pred7\": 28, \"pred8\": 28, \"pred9\": 22}, {\"Player\": \"Norvel Pelle\", \"Pos\": \"C\", \"Age\": 26, \"Tm\": \"PHI\", \"G\": 24, \"MP\": 232, \"PER\": 10.5, \"TS%\": 0.526, \"3PAr\": 0.021, \"FTr\": 0.292, \"ORB%\": 9.5, \"DRB%\": 24.8, \"TRB%\": 17.1, \"AST%\": 4.6, \"STL%\": 0.6, \"BLK%\": 11.4, \"TOV%\": 24.9, \"USG%\": -0.8720431123072506, \"OWS\": -0.2, \"DWS\": 0.5, \"WS\": 0.3, \"WS/48\": 0.069, \"OBPM\": -7.8, \"DBPM\": 2.6, \"BPM\": -0.823850434761653, \"VORP\": -0.2, \"pred\": 26, \"pred1\": 26, \"pred2\": 26, \"pred3\": 26, \"pred4\": 26, \"pred5\": 26, \"pred6\": 26, \"pred7\": 26, \"pred8\": 26, \"pred9\": 26}, {\"Player\": \"Theo Pinson\", \"Pos\": \"SG\", \"Age\": 24, \"Tm\": \"BRK\", \"G\": 33, \"MP\": 365, \"PER\": 5.2, \"TS%\": 0.37, \"3PAr\": 0.516, \"FTr\": 0.103, \"ORB%\": 2.9, \"DRB%\": 12.2, \"TRB%\": 7.7, \"AST%\": 21.7, \"STL%\": 2.2, \"BLK%\": 0.9, \"TOV%\": 16.9, \"USG%\": 0.7082060317821304, \"OWS\": -1.0, \"DWS\": 0.4, \"WS\": -0.6, \"WS/48\": -0.078, \"OBPM\": -6.8, \"DBPM\": -0.2, \"BPM\": -1.2568180714184698, \"VORP\": -0.5, \"pred\": 24, \"pred1\": 24, \"pred2\": 20, \"pred3\": 24, \"pred4\": 24, \"pred5\": 24, \"pred6\": 24, \"pred7\": 20, \"pred8\": 24, \"pred9\": 24}, {\"Player\": \"Mason Plumlee\", \"Pos\": \"C\", \"Age\": 29, \"Tm\": \"DEN\", \"G\": 61, \"MP\": 1057, \"PER\": 18.8, \"TS%\": 0.613, \"3PAr\": 0.017, \"FTr\": 0.538, \"ORB%\": 10.4, \"DRB%\": 23.2, \"TRB%\": 16.8, \"AST%\": 20.9, \"STL%\": 1.5, \"BLK%\": 3.3, \"TOV%\": 18.7, \"USG%\": -0.05528512772172796, \"OWS\": 2.0, \"DWS\": 1.4, \"WS\": 3.4, \"WS/48\": 0.153, \"OBPM\": 0.3, \"DBPM\": 1.7, \"BPM\": 0.908020111865615, \"VORP\": 1.1, \"pred\": 29, \"pred1\": 29, \"pred2\": 22, \"pred3\": 22, \"pred4\": 22, \"pred5\": 33, \"pred6\": 33, \"pred7\": 22, \"pred8\": 22, \"pred9\": 22}, {\"Player\": \"Jakob Poeltl\", \"Pos\": \"C\", \"Age\": 24, \"Tm\": \"SAS\", \"G\": 66, \"MP\": 1171, \"PER\": 19.1, \"TS%\": 0.612, \"3PAr\": 0.0, \"FTr\": 0.323, \"ORB%\": 12.1, \"DRB%\": 22.5, \"TRB%\": 17.3, \"AST%\": 13.6, \"STL%\": 1.5, \"BLK%\": 7.1, \"TOV%\": 15.1, \"USG%\": -0.9075543290283604, \"OWS\": 2.4, \"DWS\": 1.6, \"WS\": 4.0, \"WS/48\": 0.163, \"OBPM\": 0.5, \"DBPM\": 2.0, \"BPM\": 1.028288899825842, \"VORP\": 1.3, \"pred\": 31, \"pred1\": 31, \"pred2\": 21, \"pred3\": 31, \"pred4\": 31, \"pred5\": 31, \"pred6\": 27, \"pred7\": 27, \"pred8\": 27, \"pred9\": 21}, {\"Player\": \"Vincent Poirier\", \"Pos\": \"C\", \"Age\": 26, \"Tm\": \"BOS\", \"G\": 22, \"MP\": 130, \"PER\": 12.7, \"TS%\": 0.525, \"3PAr\": 0.056, \"FTr\": 0.194, \"ORB%\": 10.8, \"DRB%\": 24.4, \"TRB%\": 17.7, \"AST%\": 8.5, \"STL%\": 0.7, \"BLK%\": 6.4, \"TOV%\": 17.0, \"USG%\": -0.5169309450961538, \"OWS\": 0.1, \"DWS\": 0.2, \"WS\": 0.3, \"WS/48\": 0.113, \"OBPM\": -4.8, \"DBPM\": 1.0, \"BPM\": -0.4870978284730174, \"VORP\": -0.1, \"pred\": 26, \"pred1\": 26, \"pred2\": 21, \"pred3\": 21, \"pred4\": 21, \"pred5\": 21, \"pred6\": 21, \"pred7\": 21, \"pred8\": 21, \"pred9\": 21}, {\"Player\": \"Shamorie Ponds\", \"Pos\": \"PG\", \"Age\": 21, \"Tm\": \"TOR\", \"G\": 4, \"MP\": 11, \"PER\": 33.1, \"TS%\": 0.765, \"3PAr\": 0.4, \"FTr\": 0.4, \"ORB%\": 0.0, \"DRB%\": 9.4, \"TRB%\": 4.8, \"AST%\": 32.4, \"STL%\": 0.0, \"BLK%\": 8.9, \"TOV%\": 0.0, \"USG%\": 0.7969840735849045, \"OWS\": 0.1, \"DWS\": 0.0, \"WS\": 0.1, \"WS/48\": 0.45, \"OBPM\": 8.4, \"DBPM\": 5.3, \"BPM\": 3.7223097501349254, \"VORP\": 0.0, \"pred\": 21, \"pred1\": 21, \"pred2\": 21, \"pred3\": 21, \"pred4\": 24, \"pred5\": 24, \"pred6\": 24, \"pred7\": 24, \"pred8\": 24, \"pred9\": 24}, {\"Player\": \"Jordan Poole\", \"Pos\": \"SG\", \"Age\": 20, \"Tm\": \"GSW\", \"G\": 57, \"MP\": 1274, \"PER\": 7.2, \"TS%\": 0.454, \"3PAr\": 0.528, \"FTr\": 0.237, \"ORB%\": 0.7, \"DRB%\": 9.6, \"TRB%\": 5.0, \"AST%\": 15.8, \"STL%\": 1.3, \"BLK%\": 0.7, \"TOV%\": 11.8, \"USG%\": 0.4951387314554724, \"OWS\": -1.6, \"DWS\": 0.4, \"WS\": -1.2, \"WS/48\": -0.047, \"OBPM\": -4.4, \"DBPM\": -2.2, \"BPM\": -1.1606030410502883, \"VORP\": -1.5, \"pred\": 20, \"pred1\": 20, \"pred2\": 20, \"pred3\": 24, \"pred4\": 20, \"pred5\": 20, \"pred6\": 20, \"pred7\": 20, \"pred8\": 20, \"pred9\": 20}, {\"Player\": \"Kevin Porter Jr.\", \"Pos\": \"SF\", \"Age\": 19, \"Tm\": \"CLE\", \"G\": 50, \"MP\": 1162, \"PER\": 10.8, \"TS%\": 0.535, \"3PAr\": 0.375, \"FTr\": 0.24, \"ORB%\": 2.1, \"DRB%\": 13.5, \"TRB%\": 7.7, \"AST%\": 13.9, \"STL%\": 1.9, \"BLK%\": 1.0, \"TOV%\": 16.7, \"USG%\": 0.38860508129214305, \"OWS\": -0.3, \"DWS\": 0.6, \"WS\": 0.3, \"WS/48\": 0.012, \"OBPM\": -3.2, \"DBPM\": -0.6, \"BPM\": -0.4870978284730174, \"VORP\": -0.5, \"pred\": 19, \"pred1\": 19, \"pred2\": 19, \"pred3\": 23, \"pred4\": 23, \"pred5\": 23, \"pred6\": 23, \"pred7\": 23, \"pred8\": 23, \"pred9\": 23}, {\"Player\": \"Michael Porter Jr.\", \"Pos\": \"PF\", \"Age\": 21, \"Tm\": \"DEN\", \"G\": 55, \"MP\": 903, \"PER\": 19.8, \"TS%\": 0.617, \"3PAr\": 0.384, \"FTr\": 0.188, \"ORB%\": 8.2, \"DRB%\": 23.9, \"TRB%\": 16.1, \"AST%\": 7.9, \"STL%\": 1.5, \"BLK%\": 2.6, \"TOV%\": 10.6, \"USG%\": 0.7082060317821304, \"OWS\": 1.8, \"DWS\": 1.1, \"WS\": 2.9, \"WS/48\": 0.154, \"OBPM\": 2.4, \"DBPM\": -0.8, \"BPM\": 0.7877513239053882, \"VORP\": 0.8, \"pred\": 21, \"pred1\": 21, \"pred2\": 21, \"pred3\": 21, \"pred4\": 21, \"pred5\": 26, \"pred6\": 26, \"pred7\": 26, \"pred8\": 26, \"pred9\": 26}, {\"Player\": \"Otto Porter\", \"Pos\": \"SF\", \"Age\": 26, \"Tm\": \"CHI\", \"G\": 14, \"MP\": 331, \"PER\": 15.8, \"TS%\": 0.55, \"3PAr\": 0.443, \"FTr\": 0.193, \"ORB%\": 4.1, \"DRB%\": 12.3, \"TRB%\": 8.0, \"AST%\": 11.9, \"STL%\": 2.2, \"BLK%\": 1.7, \"TOV%\": 6.8, \"USG%\": 0.47738312309491726, \"OWS\": 0.4, \"DWS\": 0.4, \"WS\": 0.8, \"WS/48\": 0.112, \"OBPM\": 0.8, \"DBPM\": 0.2, \"BPM\": 0.6674825359451612, \"VORP\": 0.3, \"pred\": 26, \"pred1\": 26, \"pred2\": 26, \"pred3\": 26, \"pred4\": 23, \"pred5\": 23, \"pred6\": 23, \"pred7\": 23, \"pred8\": 26, \"pred9\": 26}, {\"Player\": \"Bobby Portis\", \"Pos\": \"C\", \"Age\": 24, \"Tm\": \"NYK\", \"G\": 66, \"MP\": 1393, \"PER\": 14.6, \"TS%\": 0.53, \"3PAr\": 0.317, \"FTr\": 0.158, \"ORB%\": 6.0, \"DRB%\": 20.4, \"TRB%\": 12.9, \"AST%\": 11.1, \"STL%\": 1.1, \"BLK%\": 1.2, \"TOV%\": 10.4, \"USG%\": 0.5484055565371364, \"OWS\": 0.9, \"DWS\": 1.0, \"WS\": 1.9, \"WS/48\": 0.064, \"OBPM\": 0.0, \"DBPM\": -1.1, \"BPM\": 0.16235362651220805, \"VORP\": 0.3, \"pred\": 24, \"pred1\": 24, \"pred2\": 24, \"pred3\": 24, \"pred4\": 24, \"pred5\": 33, \"pred6\": 33, \"pred7\": 24, \"pred8\": 24, \"pred9\": 24}, {\"Player\": \"Kristaps Porzi\\u0146\\u0123is\", \"Pos\": \"PF\", \"Age\": 24, \"Tm\": \"DAL\", \"G\": 57, \"MP\": 1814, \"PER\": 20.2, \"TS%\": 0.551, \"3PAr\": 0.432, \"FTr\": 0.304, \"ORB%\": 5.9, \"DRB%\": 25.1, \"TRB%\": 15.6, \"AST%\": 8.8, \"STL%\": 1.1, \"BLK%\": 5.4, \"TOV%\": 8.0, \"USG%\": 1.5427196247282078, \"OWS\": 2.6, \"DWS\": 2.6, \"WS\": 5.2, \"WS/48\": 0.138, \"OBPM\": 1.8, \"DBPM\": 0.1, \"BPM\": 0.8839663542735697, \"VORP\": 1.8, \"pred\": 24, \"pred1\": 24, \"pred2\": 24, \"pred3\": 24, \"pred4\": 24, \"pred5\": 22, \"pred6\": 22, \"pred7\": 27, \"pred8\": 27, \"pred9\": 27}, {\"Player\": \"Dwight Powell\", \"Pos\": \"C\", \"Age\": 28, \"Tm\": \"DAL\", \"G\": 40, \"MP\": 1061, \"PER\": 15.9, \"TS%\": 0.677, \"3PAr\": 0.17, \"FTr\": 0.485, \"ORB%\": 7.5, \"DRB%\": 14.8, \"TRB%\": 11.2, \"AST%\": 7.7, \"STL%\": 1.5, \"BLK%\": 1.8, \"TOV%\": 11.5, \"USG%\": -1.0140879791916895, \"OWS\": 2.6, \"DWS\": 1.0, \"WS\": 3.6, \"WS/48\": 0.162, \"OBPM\": 0.4, \"DBPM\": 0.9, \"BPM\": 0.7396438087212974, \"VORP\": 0.9, \"pred\": 28, \"pred1\": 28, \"pred2\": 23, \"pred3\": 23, \"pred4\": 23, \"pred5\": 23, \"pred6\": 23, \"pred7\": 23, \"pred8\": 23, \"pred9\": 28}, {\"Player\": \"Norman Powell\", \"Pos\": \"SG\", \"Age\": 26, \"Tm\": \"TOR\", \"G\": 52, \"MP\": 1479, \"PER\": 16.8, \"TS%\": 0.624, \"3PAr\": 0.457, \"FTr\": 0.256, \"ORB%\": 1.9, \"DRB%\": 11.4, \"TRB%\": 6.8, \"AST%\": 9.7, \"STL%\": 1.9, \"BLK%\": 1.4, \"TOV%\": 10.4, \"USG%\": 0.5661611648976915, \"OWS\": 2.3, \"DWS\": 2.3, \"WS\": 4.6, \"WS/48\": 0.15, \"OBPM\": 1.2, \"DBPM\": 0.8, \"BPM\": 0.908020111865615, \"VORP\": 1.5, \"pred\": 26, \"pred1\": 26, \"pred2\": 26, \"pred3\": 26, \"pred4\": 25, \"pred5\": 21, \"pred6\": 26, \"pred7\": 26, \"pred8\": 26, \"pred9\": 26}, {\"Player\": \"Chasson Randle\", \"Pos\": \"PG\", \"Age\": 26, \"Tm\": \"GSW\", \"G\": 3, \"MP\": 40, \"PER\": 6.7, \"TS%\": 0.377, \"3PAr\": 0.5, \"FTr\": 1.5, \"ORB%\": 0.0, \"DRB%\": 5.6, \"TRB%\": 2.7, \"AST%\": 15.7, \"STL%\": 2.4, \"BLK%\": 0.0, \"TOV%\": 0.0, \"USG%\": -1.9906464390222056, \"OWS\": 0.0, \"DWS\": 0.0, \"WS\": 0.0, \"WS/48\": 0.045, \"OBPM\": -6.0, \"DBPM\": 0.2, \"BPM\": -0.9681729803139252, \"VORP\": 0.0, \"pred\": 26, \"pred1\": 26, \"pred2\": 22, \"pred3\": 21, \"pred4\": 26, \"pred5\": 26, \"pred6\": 26, \"pred7\": 26, \"pred8\": 26, \"pred9\": 22}, {\"Player\": \"Julius Randle\", \"Pos\": \"PF\", \"Age\": 25, \"Tm\": \"NYK\", \"G\": 64, \"MP\": 2080, \"PER\": 17.5, \"TS%\": 0.538, \"3PAr\": 0.23, \"FTr\": 0.35, \"ORB%\": 7.5, \"DRB%\": 24.9, \"TRB%\": 16.0, \"AST%\": 15.8, \"STL%\": 1.2, \"BLK%\": 1.0, \"TOV%\": 14.3, \"USG%\": 1.649253274891537, \"OWS\": 0.9, \"DWS\": 1.8, \"WS\": 2.7, \"WS/48\": 0.062, \"OBPM\": 0.7, \"DBPM\": -1.0, \"BPM\": 0.3547836872485712, \"VORP\": 0.9, \"pred\": 25, \"pred1\": 25, \"pred2\": 24, \"pred3\": 24, \"pred4\": 24, \"pred5\": 24, \"pred6\": 24, \"pred7\": 24, \"pred8\": 24, \"pred9\": 24}, {\"Player\": \"Josh Reaves\", \"Pos\": \"SG\", \"Age\": 22, \"Tm\": \"DAL\", \"G\": 4, \"MP\": 28, \"PER\": 5.8, \"TS%\": 0.405, \"3PAr\": 0.222, \"FTr\": 0.222, \"ORB%\": 3.8, \"DRB%\": 7.4, \"TRB%\": 5.6, \"AST%\": 14.2, \"STL%\": 0.0, \"BLK%\": 0.0, \"TOV%\": 0.0, \"USG%\": -0.5701977701778184, \"OWS\": 0.0, \"DWS\": 0.0, \"WS\": 0.0, \"WS/48\": 0.031, \"OBPM\": -5.9, \"DBPM\": -4.0, \"BPM\": -1.9543770415877864, \"VORP\": -0.1, \"pred\": 24, \"pred1\": 24, \"pred2\": 24, \"pred3\": 21, \"pred4\": 21, \"pred5\": 25, \"pred6\": 25, \"pred7\": 24, \"pred8\": 24, \"pred9\": 24}, {\"Player\": \"Cam Reddish\", \"Pos\": \"SF\", \"Age\": 20, \"Tm\": \"ATL\", \"G\": 58, \"MP\": 1551, \"PER\": 9.0, \"TS%\": 0.5, \"3PAr\": 0.451, \"FTr\": 0.227, \"ORB%\": 2.4, \"DRB%\": 12.7, \"TRB%\": 7.5, \"AST%\": 8.0, \"STL%\": 1.9, \"BLK%\": 1.5, \"TOV%\": 13.6, \"USG%\": 0.10451534752326536, \"OWS\": -1.2, \"DWS\": 0.8, \"WS\": -0.4, \"WS/48\": -0.011, \"OBPM\": -3.3, \"DBPM\": -1.0, \"BPM\": -0.5833128588411991, \"VORP\": -0.9, \"pred\": 20, \"pred1\": 20, \"pred2\": 20, \"pred3\": 20, \"pred4\": 20, \"pred5\": 20, \"pred6\": 20, \"pred7\": 20, \"pred8\": 20, \"pred9\": 20}, {\"Player\": \"J.J. Redick\", \"Pos\": \"SG\", \"Age\": 35, \"Tm\": \"NOP\", \"G\": 60, \"MP\": 1581, \"PER\": 15.4, \"TS%\": 0.644, \"3PAr\": 0.629, \"FTr\": 0.293, \"ORB%\": 0.7, \"DRB%\": 9.5, \"TRB%\": 5.1, \"AST%\": 10.8, \"STL%\": 0.6, \"BLK%\": 0.5, \"TOV%\": 9.5, \"USG%\": 0.370849472931588, \"OWS\": 3.6, \"DWS\": 0.6, \"WS\": 4.1, \"WS/48\": 0.125, \"OBPM\": 2.3, \"DBPM\": -1.7, \"BPM\": 0.595321263169025, \"VORP\": 1.1, \"pred\": 35, \"pred1\": 35, \"pred2\": 29, \"pred3\": 23, \"pred4\": 23, \"pred5\": 23, \"pred6\": 23, \"pred7\": 23, \"pred8\": 23, \"pred9\": 23}, {\"Player\": \"Naz Reid\", \"Pos\": \"C\", \"Age\": 20, \"Tm\": \"MIN\", \"G\": 30, \"MP\": 495, \"PER\": 15.3, \"TS%\": 0.505, \"3PAr\": 0.399, \"FTr\": 0.218, \"ORB%\": 7.0, \"DRB%\": 19.9, \"TRB%\": 13.2, \"AST%\": 11.2, \"STL%\": 1.8, \"BLK%\": 3.7, \"TOV%\": 7.6, \"USG%\": 1.0100513739115624, \"OWS\": 0.2, \"DWS\": 0.6, \"WS\": 0.8, \"WS/48\": 0.074, \"OBPM\": -1.6, \"DBPM\": -0.3, \"BPM\": -0.030076434224155017, \"VORP\": 0.0, \"pred\": 20, \"pred1\": 20, \"pred2\": 20, \"pred3\": 20, \"pred4\": 28, \"pred5\": 28, \"pred6\": 28, \"pred7\": 28, \"pred8\": 28, \"pred9\": 23}, {\"Player\": \"Josh Richardson\", \"Pos\": \"SG\", \"Age\": 26, \"Tm\": \"PHI\", \"G\": 55, \"MP\": 1693, \"PER\": 12.0, \"TS%\": 0.533, \"3PAr\": 0.385, \"FTr\": 0.218, \"ORB%\": 2.7, \"DRB%\": 8.7, \"TRB%\": 5.7, \"AST%\": 13.9, \"STL%\": 1.5, \"BLK%\": 1.8, \"TOV%\": 12.8, \"USG%\": 0.40636068965269817, \"OWS\": 0.5, \"DWS\": 1.7, \"WS\": 2.1, \"WS/48\": 0.061, \"OBPM\": -1.4, \"DBPM\": -0.4, \"BPM\": -0.00602267663210966, \"VORP\": 0.1, \"pred\": 26, \"pred1\": 26, \"pred2\": 21, \"pred3\": 19, \"pred4\": 19, \"pred5\": 19, \"pred6\": 21, \"pred7\": 21, \"pred8\": 21, \"pred9\": 21}, {\"Player\": \"Austin Rivers\", \"Pos\": \"SG\", \"Age\": 27, \"Tm\": \"HOU\", \"G\": 68, \"MP\": 1594, \"PER\": 10.4, \"TS%\": 0.542, \"3PAr\": 0.539, \"FTr\": 0.222, \"ORB%\": 1.8, \"DRB%\": 9.8, \"TRB%\": 5.8, \"AST%\": 10.0, \"STL%\": 1.4, \"BLK%\": 0.5, \"TOV%\": 8.3, \"USG%\": -0.4814197283750442, \"OWS\": 1.2, \"DWS\": 1.2, \"WS\": 2.4, \"WS/48\": 0.072, \"OBPM\": -2.1, \"DBPM\": -0.4, \"BPM\": -0.17439897977642738, \"VORP\": -0.2, \"pred\": 27, \"pred1\": 27, \"pred2\": 25, \"pred3\": 21, \"pred4\": 21, \"pred5\": 28, \"pred6\": 25, \"pred7\": 25, \"pred8\": 25, \"pred9\": 25}, {\"Player\": \"Andre Roberson\", \"Pos\": \"SG\", \"Age\": 28, \"Tm\": \"OKC\", \"G\": 7, \"MP\": 87, \"PER\": 5.4, \"TS%\": 0.335, \"3PAr\": 0.483, \"FTr\": 0.069, \"ORB%\": 9.2, \"DRB%\": 24.7, \"TRB%\": 17.1, \"AST%\": 6.3, \"STL%\": 0.6, \"BLK%\": 3.0, \"TOV%\": 6.3, \"USG%\": -0.39264168657226967, \"OWS\": -0.1, \"DWS\": 0.1, \"WS\": 0.0, \"WS/48\": -0.017, \"OBPM\": -5.2, \"DBPM\": -0.1, \"BPM\": -0.8479041923536983, \"VORP\": -0.1, \"pred\": 28, \"pred1\": 28, \"pred2\": 28, \"pred3\": 24, \"pred4\": 23, \"pred5\": 24, \"pred6\": 24, \"pred7\": 24, \"pred8\": 24, \"pred9\": 24}, {\"Player\": \"Duncan Robinson\", \"Pos\": \"SF\", \"Age\": 25, \"Tm\": \"MIA\", \"G\": 73, \"MP\": 2166, \"PER\": 13.1, \"TS%\": 0.684, \"3PAr\": 0.882, \"FTr\": 0.105, \"ORB%\": 0.5, \"DRB%\": 11.0, \"TRB%\": 6.0, \"AST%\": 7.1, \"STL%\": 0.8, \"BLK%\": 0.9, \"TOV%\": 8.9, \"USG%\": -0.4103972949328248, \"OWS\": 3.7, \"DWS\": 1.6, \"WS\": 5.3, \"WS/48\": 0.118, \"OBPM\": 1.5, \"DBPM\": -1.0, \"BPM\": 0.5472137479849343, \"VORP\": 1.3, \"pred\": 25, \"pred1\": 25, \"pred2\": 25, \"pred3\": 23, \"pred4\": 23, \"pred5\": 23, \"pred6\": 23, \"pred7\": 23, \"pred8\": 23, \"pred9\": 23}, {\"Player\": \"Glenn Robinson III\", \"Pos\": \"SF\", \"Age\": 26, \"Tm\": \"TOT\", \"G\": 62, \"MP\": 1786, \"PER\": 13.3, \"TS%\": 0.577, \"3PAr\": 0.333, \"FTr\": 0.145, \"ORB%\": 4.8, \"DRB%\": 11.9, \"TRB%\": 8.2, \"AST%\": 8.4, \"STL%\": 1.5, \"BLK%\": 0.8, \"TOV%\": 8.0, \"USG%\": -0.3393748614906057, \"OWS\": 2.0, \"DWS\": 0.9, \"WS\": 2.9, \"WS/48\": 0.078, \"OBPM\": -0.5, \"DBPM\": -1.2, \"BPM\": 0.01803108095993575, \"VORP\": 0.1, \"pred\": 26, \"pred1\": 26, \"pred2\": 26, \"pred3\": 22, \"pred4\": 22, \"pred5\": 22, \"pred6\": 22, \"pred7\": 22, \"pred8\": 22, \"pred9\": 22}, {\"Player\": \"Glenn Robinson III\", \"Pos\": \"SF\", \"Age\": 26, \"Tm\": \"GSW\", \"G\": 48, \"MP\": 1516, \"PER\": 13.1, \"TS%\": 0.574, \"3PAr\": 0.335, \"FTr\": 0.146, \"ORB%\": 4.6, \"DRB%\": 11.9, \"TRB%\": 8.1, \"AST%\": 8.8, \"STL%\": 1.4, \"BLK%\": 0.8, \"TOV%\": 8.5, \"USG%\": -0.30386364476949546, \"OWS\": 1.5, \"DWS\": 0.6, \"WS\": 2.1, \"WS/48\": 0.067, \"OBPM\": -0.6, \"DBPM\": -1.2, \"BPM\": 0.01803108095993575, \"VORP\": 0.1, \"pred\": 26, \"pred1\": 26, \"pred2\": 26, \"pred3\": 21, \"pred4\": 21, \"pred5\": 21, \"pred6\": 21, \"pred7\": 24, \"pred8\": 22, \"pred9\": 22}, {\"Player\": \"Glenn Robinson III\", \"Pos\": \"SF\", \"Age\": 26, \"Tm\": \"PHI\", \"G\": 14, \"MP\": 270, \"PER\": 14.7, \"TS%\": 0.598, \"3PAr\": 0.318, \"FTr\": 0.141, \"ORB%\": 6.1, \"DRB%\": 11.9, \"TRB%\": 9.0, \"AST%\": 5.9, \"STL%\": 1.6, \"BLK%\": 0.6, \"TOV%\": 5.2, \"USG%\": -0.5524421618172637, \"OWS\": 0.5, \"DWS\": 0.3, \"WS\": 0.8, \"WS/48\": 0.137, \"OBPM\": 0.0, \"DBPM\": -1.3, \"BPM\": 0.09019235373607193, \"VORP\": 0.0, \"pred\": 26, \"pred1\": 26, \"pred2\": 23, \"pred3\": 19, \"pred4\": 19, \"pred5\": 29, \"pred6\": 29, \"pred7\": 29, \"pred8\": 29, \"pred9\": 29}, {\"Player\": \"Jerome Robinson\", \"Pos\": \"SG\", \"Age\": 22, \"Tm\": \"TOT\", \"G\": 63, \"MP\": 979, \"PER\": 7.4, \"TS%\": 0.476, \"3PAr\": 0.494, \"FTr\": 0.184, \"ORB%\": 1.4, \"DRB%\": 12.8, \"TRB%\": 7.0, \"AST%\": 11.9, \"STL%\": 1.3, \"BLK%\": 1.5, \"TOV%\": 12.8, \"USG%\": -0.3393748614906057, \"OWS\": -0.6, \"DWS\": 0.8, \"WS\": 0.2, \"WS/48\": 0.009, \"OBPM\": -3.8, \"DBPM\": -0.2, \"BPM\": -0.5111515860650627, \"VORP\": -0.5, \"pred\": 22, \"pred1\": 22, \"pred2\": 20, \"pred3\": 20, \"pred4\": 20, \"pred5\": 20, \"pred6\": 20, \"pred7\": 20, \"pred8\": 20, \"pred9\": 22}, {\"Player\": \"Jerome Robinson\", \"Pos\": \"SG\", \"Age\": 22, \"Tm\": \"LAC\", \"G\": 42, \"MP\": 476, \"PER\": 4.8, \"TS%\": 0.423, \"3PAr\": 0.493, \"FTr\": 0.14, \"ORB%\": 1.1, \"DRB%\": 11.7, \"TRB%\": 6.5, \"AST%\": 12.6, \"STL%\": 1.3, \"BLK%\": 1.5, \"TOV%\": 15.3, \"USG%\": -0.5879533785383732, \"OWS\": -0.6, \"DWS\": 0.6, \"WS\": 0.0, \"WS/48\": -0.004, \"OBPM\": -5.3, \"DBPM\": 0.6, \"BPM\": -0.703581646801426, \"VORP\": -0.3, \"pred\": 26, \"pred1\": 26, \"pred2\": 22, \"pred3\": 22, \"pred4\": 22, \"pred5\": 22, \"pred6\": 21, \"pred7\": 21, \"pred8\": 21, \"pred9\": 21}, {\"Player\": \"Jerome Robinson\", \"Pos\": \"SG\", \"Age\": 22, \"Tm\": \"WAS\", \"G\": 21, \"MP\": 503, \"PER\": 9.8, \"TS%\": 0.516, \"3PAr\": 0.494, \"FTr\": 0.218, \"ORB%\": 1.7, \"DRB%\": 13.8, \"TRB%\": 7.5, \"AST%\": 11.3, \"STL%\": 1.4, \"BLK%\": 1.6, \"TOV%\": 10.8, \"USG%\": -0.10855195280339261, \"OWS\": 0.0, \"DWS\": 0.2, \"WS\": 0.2, \"WS/48\": 0.022, \"OBPM\": -2.2, \"DBPM\": -0.9, \"BPM\": -0.3427752829207451, \"VORP\": -0.1, \"pred\": 23, \"pred1\": 23, \"pred2\": 23, \"pred3\": 22, \"pred4\": 22, \"pred5\": 22, \"pred6\": 22, \"pred7\": 27, \"pred8\": 27, \"pred9\": 27}, {\"Player\": \"Justin Robinson\", \"Pos\": \"PG\", \"Age\": 22, \"Tm\": \"WAS\", \"G\": 9, \"MP\": 49, \"PER\": 8.2, \"TS%\": 0.542, \"3PAr\": 0.417, \"FTr\": 0.0, \"ORB%\": 2.1, \"DRB%\": 9.3, \"TRB%\": 5.6, \"AST%\": 18.8, \"STL%\": 0.0, \"BLK%\": 1.8, \"TOV%\": 20.0, \"USG%\": -0.9963323708311347, \"OWS\": 0.0, \"DWS\": 0.0, \"WS\": 0.0, \"WS/48\": 0.007, \"OBPM\": -2.6, \"DBPM\": -3.1, \"BPM\": -0.9441192227218799, \"VORP\": 0.0, \"pred\": 22, \"pred1\": 22, \"pred2\": 22, \"pred3\": 22, \"pred4\": 22, \"pred5\": 22, \"pred6\": 22, \"pred7\": 26, \"pred8\": 22, \"pred9\": 22}, {\"Player\": \"Mitchell Robinson\", \"Pos\": \"C\", \"Age\": 21, \"Tm\": \"NYK\", \"G\": 61, \"MP\": 1412, \"PER\": 23.5, \"TS%\": 0.726, \"3PAr\": 0.0, \"FTr\": 0.434, \"ORB%\": 13.7, \"DRB%\": 18.8, \"TRB%\": 16.2, \"AST%\": 3.9, \"STL%\": 1.8, \"BLK%\": 8.0, \"TOV%\": 8.3, \"USG%\": -0.8897987206678054, \"OWS\": 4.8, \"DWS\": 2.0, \"WS\": 6.8, \"WS/48\": 0.23, \"OBPM\": 1.6, \"DBPM\": 1.4, \"BPM\": 1.1245039301940236, \"VORP\": 1.8, \"pred\": 21, \"pred1\": 21, \"pred2\": 21, \"pred3\": 31, \"pred4\": 31, \"pred5\": 31, \"pred6\": 31, \"pred7\": 27, \"pred8\": 27, \"pred9\": 21}, {\"Player\": \"Isaiah Roby\", \"Pos\": \"SF\", \"Age\": 21, \"Tm\": \"OKC\", \"G\": 3, \"MP\": 11, \"PER\": -7.7, \"TS%\": 0.0, \"3PAr\": 0.0, \"FTr\": 0.0, \"ORB%\": 0.0, \"DRB%\": 19.5, \"TRB%\": 10.0, \"AST%\": 0.0, \"STL%\": 0.0, \"BLK%\": 0.0, \"TOV%\": 50.0, \"USG%\": -1.830845963777212, \"OWS\": -0.1, \"DWS\": 0.0, \"WS\": 0.0, \"WS/48\": -0.188, \"OBPM\": -12.1, \"DBPM\": -3.4, \"BPM\": -3.301387466742328, \"VORP\": 0.0, \"pred\": 22, \"pred1\": 22, \"pred2\": 22, \"pred3\": 22, \"pred4\": 22, \"pred5\": 27, \"pred6\": 24, \"pred7\": 24, \"pred8\": 24, \"pred9\": 24}, {\"Player\": \"Rajon Rondo\", \"Pos\": \"PG\", \"Age\": 33, \"Tm\": \"LAL\", \"G\": 48, \"MP\": 984, \"PER\": 12.4, \"TS%\": 0.494, \"3PAr\": 0.381, \"FTr\": 0.125, \"ORB%\": 2.6, \"DRB%\": 13.1, \"TRB%\": 7.9, \"AST%\": 32.9, \"STL%\": 1.9, \"BLK%\": 0.2, \"TOV%\": 20.8, \"USG%\": 0.06900413080215581, \"OWS\": 0.1, \"DWS\": 1.3, \"WS\": 1.4, \"WS/48\": 0.068, \"OBPM\": -1.2, \"DBPM\": -0.1, \"BPM\": 0.11424611132811728, \"VORP\": 0.2, \"pred\": 33, \"pred1\": 33, \"pred2\": 26, \"pred3\": 23, \"pred4\": 22, \"pred5\": 22, \"pred6\": 21, \"pred7\": 23, \"pred8\": 23, \"pred9\": 22}, {\"Player\": \"Derrick Rose\", \"Pos\": \"PG\", \"Age\": 31, \"Tm\": \"DET\", \"G\": 50, \"MP\": 1298, \"PER\": 21.0, \"TS%\": 0.555, \"3PAr\": 0.195, \"FTr\": 0.185, \"ORB%\": 2.3, \"DRB%\": 8.3, \"TRB%\": 5.3, \"AST%\": 40.5, \"STL%\": 1.5, \"BLK%\": 1.0, \"TOV%\": 13.4, \"USG%\": 2.3594776093137306, \"OWS\": 1.8, \"DWS\": 0.7, \"WS\": 2.5, \"WS/48\": 0.092, \"OBPM\": 3.9, \"DBPM\": -1.7, \"BPM\": 0.9561276270497059, \"VORP\": 1.4, \"pred\": 31, \"pred1\": 31, \"pred2\": 28, \"pred3\": 23, \"pred4\": 19, \"pred5\": 19, \"pred6\": 19, \"pred7\": 26, \"pred8\": 26, \"pred9\": 26}, {\"Player\": \"Terrence Ross\", \"Pos\": \"SG\", \"Age\": 28, \"Tm\": \"ORL\", \"G\": 69, \"MP\": 1889, \"PER\": 14.0, \"TS%\": 0.548, \"3PAr\": 0.596, \"FTr\": 0.217, \"ORB%\": 0.7, \"DRB%\": 12.3, \"TRB%\": 6.3, \"AST%\": 6.8, \"STL%\": 2.0, \"BLK%\": 1.1, \"TOV%\": 7.0, \"USG%\": 0.7969840735849045, \"OWS\": 1.1, \"DWS\": 2.0, \"WS\": 3.0, \"WS/48\": 0.077, \"OBPM\": -0.1, \"DBPM\": -0.3, \"BPM\": 0.33072992965652576, \"VORP\": 0.8, \"pred\": 28, \"pred1\": 28, \"pred2\": 24, \"pred3\": 22, \"pred4\": 22, \"pred5\": 22, \"pred6\": 24, \"pred7\": 24, \"pred8\": 24, \"pred9\": 24}, {\"Player\": \"Terry Rozier\", \"Pos\": \"PG\", \"Age\": 25, \"Tm\": \"CHO\", \"G\": 63, \"MP\": 2164, \"PER\": 14.8, \"TS%\": 0.553, \"3PAr\": 0.45, \"FTr\": 0.202, \"ORB%\": 2.4, \"DRB%\": 11.8, \"TRB%\": 7.0, \"AST%\": 20.4, \"STL%\": 1.4, \"BLK%\": 0.4, \"TOV%\": 12.1, \"USG%\": 0.9567845488298978, \"OWS\": 1.9, \"DWS\": 1.1, \"WS\": 3.0, \"WS/48\": 0.066, \"OBPM\": 0.8, \"DBPM\": -1.2, \"BPM\": 0.33072992965652576, \"VORP\": 0.8, \"pred\": 25, \"pred1\": 25, \"pred2\": 23, \"pred3\": 23, \"pred4\": 23, \"pred5\": 23, \"pred6\": 23, \"pred7\": 25, \"pred8\": 25, \"pred9\": 25}, {\"Player\": \"Ricky Rubio\", \"Pos\": \"PG\", \"Age\": 29, \"Tm\": \"PHO\", \"G\": 65, \"MP\": 2016, \"PER\": 16.5, \"TS%\": 0.535, \"3PAr\": 0.312, \"FTr\": 0.327, \"ORB%\": 2.5, \"DRB%\": 14.4, \"TRB%\": 8.4, \"AST%\": 39.7, \"STL%\": 2.2, \"BLK%\": 0.5, \"TOV%\": 17.9, \"USG%\": 0.370849472931588, \"OWS\": 2.9, \"DWS\": 2.0, \"WS\": 4.9, \"WS/48\": 0.117, \"OBPM\": 0.7, \"DBPM\": 0.2, \"BPM\": 0.6674825359451612, \"VORP\": 1.5, \"pred\": 29, \"pred1\": 29, \"pred2\": 29, \"pred3\": 26, \"pred4\": 23, \"pred5\": 23, \"pred6\": 23, \"pred7\": 23, \"pred8\": 23, \"pred9\": 23}, {\"Player\": \"D'Angelo Russell\", \"Pos\": \"PG\", \"Age\": 23, \"Tm\": \"TOT\", \"G\": 45, \"MP\": 1452, \"PER\": 18.7, \"TS%\": 0.556, \"3PAr\": 0.509, \"FTr\": 0.235, \"ORB%\": 1.2, \"DRB%\": 12.3, \"TRB%\": 6.6, \"AST%\": 35.2, \"STL%\": 1.6, \"BLK%\": 0.8, \"TOV%\": 13.6, \"USG%\": 2.3417220009531756, \"OWS\": 1.1, \"DWS\": 0.7, \"WS\": 1.8, \"WS/48\": 0.06, \"OBPM\": 3.8, \"DBPM\": -1.9, \"BPM\": 0.8839663542735697, \"VORP\": 1.4, \"pred\": 31, \"pred1\": 31, \"pred2\": 28, \"pred3\": 23, \"pred4\": 19, \"pred5\": 19, \"pred6\": 19, \"pred7\": 26, \"pred8\": 26, \"pred9\": 23}, {\"Player\": \"D'Angelo Russell\", \"Pos\": \"PG\", \"Age\": 23, \"Tm\": \"GSW\", \"G\": 33, \"MP\": 1060, \"PER\": 19.1, \"TS%\": 0.558, \"3PAr\": 0.506, \"FTr\": 0.227, \"ORB%\": 1.4, \"DRB%\": 11.4, \"TRB%\": 6.2, \"AST%\": 36.0, \"STL%\": 1.4, \"BLK%\": 0.8, \"TOV%\": 12.6, \"USG%\": 2.46601125947706, \"OWS\": 0.9, \"DWS\": 0.4, \"WS\": 1.3, \"WS/48\": 0.058, \"OBPM\": 4.5, \"DBPM\": -1.9, \"BPM\": 1.0523426574178876, \"VORP\": 1.2, \"pred\": 31, \"pred1\": 31, \"pred2\": 26, \"pred3\": 23, \"pred4\": 23, \"pred5\": 19, \"pred6\": 26, \"pred7\": 26, \"pred8\": 26, \"pred9\": 31}, {\"Player\": \"D'Angelo Russell\", \"Pos\": \"PG\", \"Age\": 23, \"Tm\": \"MIN\", \"G\": 12, \"MP\": 392, \"PER\": 17.6, \"TS%\": 0.553, \"3PAr\": 0.521, \"FTr\": 0.261, \"ORB%\": 0.8, \"DRB%\": 14.5, \"TRB%\": 7.4, \"AST%\": 33.1, \"STL%\": 2.0, \"BLK%\": 0.8, \"TOV%\": 16.4, \"USG%\": 1.9866098337420788, \"OWS\": 0.2, \"DWS\": 0.3, \"WS\": 0.5, \"WS/48\": 0.064, \"OBPM\": 1.8, \"DBPM\": -1.7, \"BPM\": 0.45099871761675275, \"VORP\": 0.2, \"pred\": 23, \"pred1\": 23, \"pred2\": 23, \"pred3\": 23, \"pred4\": 23, \"pred5\": 23, \"pred6\": 23, \"pred7\": 23, \"pred8\": 23, \"pred9\": 23}, {\"Player\": \"Domantas Sabonis\", \"Pos\": \"PF\", \"Age\": 23, \"Tm\": \"IND\", \"G\": 62, \"MP\": 2159, \"PER\": 20.7, \"TS%\": 0.586, \"3PAr\": 0.079, \"FTr\": 0.349, \"ORB%\": 9.7, \"DRB%\": 29.3, \"TRB%\": 19.6, \"AST%\": 21.7, \"STL%\": 1.1, \"BLK%\": 1.2, \"TOV%\": 14.8, \"USG%\": 0.8857621153876788, \"OWS\": 4.1, \"DWS\": 3.4, \"WS\": 7.5, \"WS/48\": 0.168, \"OBPM\": 2.0, \"DBPM\": 1.2, \"BPM\": 1.1966652029701597, \"VORP\": 2.9, \"pred\": 23, \"pred1\": 23, \"pred2\": 23, \"pred3\": 23, \"pred4\": 22, \"pred5\": 24, \"pred6\": 24, \"pred7\": 22, \"pred8\": 22, \"pred9\": 22}, {\"Player\": \"Luka \\u0160amani\\u0107\", \"Pos\": \"PF\", \"Age\": 20, \"Tm\": \"SAS\", \"G\": 3, \"MP\": 48, \"PER\": 8.8, \"TS%\": 0.45, \"3PAr\": 0.5, \"FTr\": 0.25, \"ORB%\": 2.2, \"DRB%\": 20.2, \"TRB%\": 11.2, \"AST%\": 16.3, \"STL%\": 0.0, \"BLK%\": 3.7, \"TOV%\": 10.1, \"USG%\": -0.09079634444283752, \"OWS\": 0.0, \"DWS\": 0.0, \"WS\": 0.0, \"WS/48\": 0.011, \"OBPM\": -2.4, \"DBPM\": -1.7, \"BPM\": -0.5592591012491536, \"VORP\": 0.0, \"pred\": 20, \"pred1\": 20, \"pred2\": 20, \"pred3\": 20, \"pred4\": 20, \"pred5\": 20, \"pred6\": 20, \"pred7\": 20, \"pred8\": 20, \"pred9\": 20}, {\"Player\": \"JaKarr Sampson\", \"Pos\": \"SF\", \"Age\": 26, \"Tm\": \"IND\", \"G\": 34, \"MP\": 471, \"PER\": 12.6, \"TS%\": 0.615, \"3PAr\": 0.113, \"FTr\": 0.235, \"ORB%\": 4.7, \"DRB%\": 15.7, \"TRB%\": 10.2, \"AST%\": 6.1, \"STL%\": 1.6, \"BLK%\": 2.2, \"TOV%\": 10.6, \"USG%\": -0.9075543290283604, \"OWS\": 0.6, \"DWS\": 0.7, \"WS\": 1.2, \"WS/48\": 0.124, \"OBPM\": -2.8, \"DBPM\": 1.4, \"BPM\": 0.09019235373607193, \"VORP\": 0.1, \"pred\": 26, \"pred1\": 26, \"pred2\": 21, \"pred3\": 21, \"pred4\": 21, \"pred5\": 21, \"pred6\": 28, \"pred7\": 28, \"pred8\": 28, \"pred9\": 22}, {\"Player\": \"Dario \\u0160ari\\u0107\", \"Pos\": \"PF\", \"Age\": 25, \"Tm\": \"PHO\", \"G\": 66, \"MP\": 1632, \"PER\": 14.2, \"TS%\": 0.592, \"3PAr\": 0.437, \"FTr\": 0.238, \"ORB%\": 6.7, \"DRB%\": 21.1, \"TRB%\": 13.8, \"AST%\": 10.8, \"STL%\": 1.1, \"BLK%\": 0.9, \"TOV%\": 12.9, \"USG%\": -0.09079634444283752, \"OWS\": 2.1, \"DWS\": 1.5, \"WS\": 3.6, \"WS/48\": 0.105, \"OBPM\": -0.1, \"DBPM\": -0.3, \"BPM\": 0.33072992965652576, \"VORP\": 0.7, \"pred\": 25, \"pred1\": 25, \"pred2\": 25, \"pred3\": 25, \"pred4\": 25, \"pred5\": 25, \"pred6\": 25, \"pred7\": 25, \"pred8\": 26, \"pred9\": 26}, {\"Player\": \"Tom\\u00e1\\u0161 Satoransk\\u00fd\", \"Pos\": \"PG\", \"Age\": 28, \"Tm\": \"CHI\", \"G\": 65, \"MP\": 1878, \"PER\": 13.5, \"TS%\": 0.533, \"3PAr\": 0.361, \"FTr\": 0.22, \"ORB%\": 4.3, \"DRB%\": 11.0, \"TRB%\": 7.5, \"AST%\": 27.1, \"STL%\": 2.1, \"BLK%\": 0.4, \"TOV%\": 17.7, \"USG%\": -0.286108036408941, \"OWS\": 1.8, \"DWS\": 1.7, \"WS\": 3.5, \"WS/48\": 0.09, \"OBPM\": -1.1, \"DBPM\": -0.2, \"BPM\": 0.11424611132811728, \"VORP\": 0.3, \"pred\": 28, \"pred1\": 28, \"pred2\": 28, \"pred3\": 23, \"pred4\": 23, \"pred5\": 24, \"pred6\": 24, \"pred7\": 24, \"pred8\": 24, \"pred9\": 24}, {\"Player\": \"Admiral Schofield\", \"Pos\": \"SF\", \"Age\": 22, \"Tm\": \"WAS\", \"G\": 33, \"MP\": 368, \"PER\": 6.1, \"TS%\": 0.502, \"3PAr\": 0.663, \"FTr\": 0.163, \"ORB%\": 2.0, \"DRB%\": 12.4, \"TRB%\": 7.0, \"AST%\": 5.3, \"STL%\": 1.0, \"BLK%\": 0.9, \"TOV%\": 6.6, \"USG%\": -1.1383772377155732, \"OWS\": 0.1, \"DWS\": 0.1, \"WS\": 0.1, \"WS/48\": 0.017, \"OBPM\": -4.3, \"DBPM\": -1.2, \"BPM\": -0.896011707537789, \"VORP\": -0.3, \"pred\": 22, \"pred1\": 22, \"pred2\": 20, \"pred3\": 20, \"pred4\": 22, \"pred5\": 22, \"pred6\": 22, \"pred7\": 22, \"pred8\": 22, \"pred9\": 22}, {\"Player\": \"Dennis Schr\\u00f6der\", \"Pos\": \"PG\", \"Age\": 26, \"Tm\": \"OKC\", \"G\": 65, \"MP\": 1999, \"PER\": 16.7, \"TS%\": 0.575, \"3PAr\": 0.337, \"FTr\": 0.245, \"ORB%\": 1.1, \"DRB%\": 11.6, \"TRB%\": 6.5, \"AST%\": 21.9, \"STL%\": 1.1, \"BLK%\": 0.6, \"TOV%\": 13.4, \"USG%\": 1.5782308414493174, \"OWS\": 1.9, \"DWS\": 1.8, \"WS\": 3.6, \"WS/48\": 0.087, \"OBPM\": 1.1, \"DBPM\": -1.1, \"BPM\": 0.42694496002470733, \"VORP\": 1.0, \"pred\": 26, \"pred1\": 26, \"pred2\": 24, \"pred3\": 24, \"pred4\": 24, \"pred5\": 23, \"pred6\": 24, \"pred7\": 24, \"pred8\": 24, \"pred9\": 24}, {\"Player\": \"Mike Scott\", \"Pos\": \"PF\", \"Age\": 31, \"Tm\": \"PHI\", \"G\": 68, \"MP\": 1207, \"PER\": 11.2, \"TS%\": 0.557, \"3PAr\": 0.62, \"FTr\": 0.106, \"ORB%\": 5.9, \"DRB%\": 16.8, \"TRB%\": 11.3, \"AST%\": 6.4, \"STL%\": 0.8, \"BLK%\": 0.4, \"TOV%\": 6.6, \"USG%\": -0.7655094621439216, \"OWS\": 1.4, \"DWS\": 1.1, \"WS\": 2.5, \"WS/48\": 0.1, \"OBPM\": -0.7, \"DBPM\": -1.1, \"BPM\": -0.00602267663210966, \"VORP\": 0.1, \"pred\": 31, \"pred1\": 31, \"pred2\": 28, \"pred3\": 24, \"pred4\": 24, \"pred5\": 24, \"pred6\": 24, \"pred7\": 24, \"pred8\": 24, \"pred9\": 23}, {\"Player\": \"Thabo Sefolosha\", \"Pos\": \"PF\", \"Age\": 35, \"Tm\": \"HOU\", \"G\": 41, \"MP\": 436, \"PER\": 9.4, \"TS%\": 0.487, \"3PAr\": 0.593, \"FTr\": 0.088, \"ORB%\": 5.0, \"DRB%\": 17.5, \"TRB%\": 11.2, \"AST%\": 7.5, \"STL%\": 2.5, \"BLK%\": 2.4, \"TOV%\": 13.7, \"USG%\": -1.4047113631238959, \"OWS\": 0.0, \"DWS\": 0.6, \"WS\": 0.7, \"WS/48\": 0.072, \"OBPM\": -2.9, \"DBPM\": 1.6, \"BPM\": 0.1382998689201627, \"VORP\": 0.1, \"pred\": 35, \"pred1\": 35, \"pred2\": 34, \"pred3\": 23, \"pred4\": 22, \"pred5\": 22, \"pred6\": 22, \"pred7\": 34, \"pred8\": 34, \"pred9\": 25}, {\"Player\": \"Collin Sexton\", \"Pos\": \"SG\", \"Age\": 21, \"Tm\": \"CLE\", \"G\": 65, \"MP\": 2143, \"PER\": 16.3, \"TS%\": 0.56, \"3PAr\": 0.235, \"FTr\": 0.246, \"ORB%\": 3.1, \"DRB%\": 7.5, \"TRB%\": 5.3, \"AST%\": 15.1, \"STL%\": 1.5, \"BLK%\": 0.3, \"TOV%\": 11.6, \"USG%\": 1.5782308414493174, \"OWS\": 2.1, \"DWS\": 0.4, \"WS\": 2.5, \"WS/48\": 0.057, \"OBPM\": 0.3, \"DBPM\": -2.1, \"BPM\": -0.00602267663210966, \"VORP\": 0.1, \"pred\": 21, \"pred1\": 21, \"pred2\": 21, \"pred3\": 24, \"pred4\": 24, \"pred5\": 24, \"pred6\": 24, \"pred7\": 24, \"pred8\": 24, \"pred9\": 24}, {\"Player\": \"Landry Shamet\", \"Pos\": \"SG\", \"Age\": 22, \"Tm\": \"LAC\", \"G\": 53, \"MP\": 1452, \"PER\": 8.5, \"TS%\": 0.58, \"3PAr\": 0.757, \"FTr\": 0.194, \"ORB%\": 0.4, \"DRB%\": 6.6, \"TRB%\": 3.6, \"AST%\": 9.1, \"STL%\": 0.7, \"BLK%\": 0.6, \"TOV%\": 9.0, \"USG%\": -0.8720431123072506, \"OWS\": 1.5, \"DWS\": 1.1, \"WS\": 2.6, \"WS/48\": 0.086, \"OBPM\": -1.8, \"DBPM\": -0.3, \"BPM\": -0.07818394940824584, \"VORP\": 0.0, \"pred\": 22, \"pred1\": 22, \"pred2\": 22, \"pred3\": 22, \"pred4\": 28, \"pred5\": 22, \"pred6\": 22, \"pred7\": 22, \"pred8\": 22, \"pred9\": 22}, {\"Player\": \"Marial Shayok\", \"Pos\": \"SG\", \"Age\": 24, \"Tm\": \"PHI\", \"G\": 4, \"MP\": 28, \"PER\": 1.4, \"TS%\": 0.4, \"3PAr\": 0.5, \"FTr\": 0.333, \"ORB%\": 3.9, \"DRB%\": 23.7, \"TRB%\": 13.8, \"AST%\": 4.8, \"STL%\": 0.0, \"BLK%\": 3.0, \"TOV%\": 17.9, \"USG%\": 1.3296523244015497, \"OWS\": -0.1, \"DWS\": 0.0, \"WS\": -0.1, \"WS/48\": -0.13, \"OBPM\": -9.3, \"DBPM\": -3.7, \"BPM\": -2.7000435269411933, \"VORP\": -0.1, \"pred\": 24, \"pred1\": 24, \"pred2\": 24, \"pred3\": 22, \"pred4\": 22, \"pred5\": 22, \"pred6\": 22, \"pred7\": 22, \"pred8\": 22, \"pred9\": 22}, {\"Player\": \"Iman Shumpert\", \"Pos\": \"SG\", \"Age\": 29, \"Tm\": \"BRK\", \"G\": 13, \"MP\": 241, \"PER\": 5.3, \"TS%\": 0.403, \"3PAr\": 0.516, \"FTr\": 0.109, \"ORB%\": 3.9, \"DRB%\": 10.5, \"TRB%\": 7.3, \"AST%\": 6.7, \"STL%\": 2.4, \"BLK%\": 0.7, \"TOV%\": 13.0, \"USG%\": -0.8720431123072506, \"OWS\": -0.3, \"DWS\": 0.3, \"WS\": 0.0, \"WS/48\": -0.005, \"OBPM\": -6.3, \"DBPM\": 0.8, \"BPM\": -0.896011707537789, \"VORP\": -0.2, \"pred\": 26, \"pred1\": 26, \"pred2\": 26, \"pred3\": 26, \"pred4\": 26, \"pred5\": 26, \"pred6\": 26, \"pred7\": 26, \"pred8\": 26, \"pred9\": 26}, {\"Player\": \"Pascal Siakam\", \"Pos\": \"PF\", \"Age\": 25, \"Tm\": \"TOR\", \"G\": 60, \"MP\": 2110, \"PER\": 17.9, \"TS%\": 0.554, \"3PAr\": 0.331, \"FTr\": 0.274, \"ORB%\": 3.3, \"DRB%\": 18.3, \"TRB%\": 11.0, \"AST%\": 16.4, \"STL%\": 1.4, \"BLK%\": 2.5, \"TOV%\": 10.7, \"USG%\": 1.7380313166943113, \"OWS\": 1.8, \"DWS\": 3.6, \"WS\": 5.4, \"WS/48\": 0.123, \"OBPM\": 1.3, \"DBPM\": 0.5, \"BPM\": 0.8599125966815243, \"VORP\": 2.0, \"pred\": 25, \"pred1\": 25, \"pred2\": 22, \"pred3\": 22, \"pred4\": 22, \"pred5\": 22, \"pred6\": 22, \"pred7\": 22, \"pred8\": 22, \"pred9\": 22}, {\"Player\": \"Chris Silva\", \"Pos\": \"PF\", \"Age\": 23, \"Tm\": \"MIA\", \"G\": 44, \"MP\": 346, \"PER\": 17.3, \"TS%\": 0.651, \"3PAr\": 0.038, \"FTr\": 0.705, \"ORB%\": 20.2, \"DRB%\": 20.6, \"TRB%\": 20.4, \"AST%\": 9.9, \"STL%\": 1.3, \"BLK%\": 6.0, \"TOV%\": 23.8, \"USG%\": -0.21508560296672127, \"OWS\": 0.7, \"DWS\": 0.5, \"WS\": 1.3, \"WS/48\": 0.178, \"OBPM\": -3.1, \"DBPM\": 0.8, \"BPM\": -0.12629146459233656, \"VORP\": 0.0, \"pred\": 24, \"pred1\": 24, \"pred2\": 24, \"pred3\": 24, \"pred4\": 24, \"pred5\": 24, \"pred6\": 24, \"pred7\": 24, \"pred8\": 24, \"pred9\": 24}, {\"Player\": \"Ben Simmons\", \"Pos\": \"PG\", \"Age\": 23, \"Tm\": \"PHI\", \"G\": 57, \"MP\": 2017, \"PER\": 20.4, \"TS%\": 0.602, \"3PAr\": 0.011, \"FTr\": 0.461, \"ORB%\": 6.2, \"DRB%\": 18.2, \"TRB%\": 12.2, \"AST%\": 33.8, \"STL%\": 2.9, \"BLK%\": 1.4, \"TOV%\": 20.4, \"USG%\": 0.4596275147343622, \"OWS\": 3.8, \"DWS\": 3.1, \"WS\": 6.9, \"WS/48\": 0.165, \"OBPM\": 1.3, \"DBPM\": 2.3, \"BPM\": 1.2928802333383413, \"VORP\": 2.8, \"pred\": 23, \"pred1\": 23, \"pred2\": 22, \"pred3\": 22, \"pred4\": 22, \"pred5\": 22, \"pred6\": 22, \"pred7\": 22, \"pred8\": 22, \"pred9\": 22}, {\"Player\": \"Anfernee Simons\", \"Pos\": \"SG\", \"Age\": 20, \"Tm\": \"POR\", \"G\": 70, \"MP\": 1449, \"PER\": 9.0, \"TS%\": 0.502, \"3PAr\": 0.422, \"FTr\": 0.172, \"ORB%\": 1.8, \"DRB%\": 9.1, \"TRB%\": 5.5, \"AST%\": 9.2, \"STL%\": 0.9, \"BLK%\": 0.6, \"TOV%\": 9.6, \"USG%\": 0.06900413080215581, \"OWS\": 0.0, \"DWS\": 0.1, \"WS\": 0.2, \"WS/48\": 0.005, \"OBPM\": -2.6, \"DBPM\": -1.9, \"BPM\": -0.6554741316173351, \"VORP\": -0.9, \"pred\": 20, \"pred1\": 20, \"pred2\": 20, \"pred3\": 20, \"pred4\": 20, \"pred5\": 20, \"pred6\": 20, \"pred7\": 20, \"pred8\": 20, \"pred9\": 20}, {\"Player\": \"Alen Smailagi\\u0107\", \"Pos\": \"PF\", \"Age\": 19, \"Tm\": \"GSW\", \"G\": 14, \"MP\": 139, \"PER\": 14.5, \"TS%\": 0.61, \"3PAr\": 0.325, \"FTr\": 0.475, \"ORB%\": 7.5, \"DRB%\": 13.7, \"TRB%\": 10.5, \"AST%\": 14.3, \"STL%\": 1.0, \"BLK%\": 2.6, \"TOV%\": 18.5, \"USG%\": -0.0197739110006184, \"OWS\": 0.2, \"DWS\": 0.1, \"WS\": 0.2, \"WS/48\": 0.081, \"OBPM\": -1.4, \"DBPM\": -0.8, \"BPM\": -0.10223770700029125, \"VORP\": 0.0, \"pred\": 19, \"pred1\": 19, \"pred2\": 19, \"pred3\": 19, \"pred4\": 19, \"pred5\": 19, \"pred6\": 19, \"pred7\": 27, \"pred8\": 27, \"pred9\": 27}, {\"Player\": \"Marcus Smart\", \"Pos\": \"SG\", \"Age\": 25, \"Tm\": \"BOS\", \"G\": 60, \"MP\": 1919, \"PER\": 13.8, \"TS%\": 0.518, \"3PAr\": 0.579, \"FTr\": 0.223, \"ORB%\": 2.4, \"DRB%\": 10.1, \"TRB%\": 6.3, \"AST%\": 21.1, \"STL%\": 2.5, \"BLK%\": 1.4, \"TOV%\": 12.1, \"USG%\": 0.10451534752326536, \"OWS\": 1.7, \"DWS\": 2.8, \"WS\": 4.5, \"WS/48\": 0.112, \"OBPM\": 0.0, \"DBPM\": 1.4, \"BPM\": 0.7636975663133428, \"VORP\": 1.6, \"pred\": 25, \"pred1\": 25, \"pred2\": 25, \"pred3\": 25, \"pred4\": 25, \"pred5\": 25, \"pred6\": 25, \"pred7\": 22, \"pred8\": 22, \"pred9\": 22}, {\"Player\": \"Dennis Smith Jr.\", \"Pos\": \"PG\", \"Age\": 22, \"Tm\": \"NYK\", \"G\": 34, \"MP\": 537, \"PER\": 7.4, \"TS%\": 0.399, \"3PAr\": 0.256, \"FTr\": 0.251, \"ORB%\": 4.1, \"DRB%\": 11.7, \"TRB%\": 7.7, \"AST%\": 26.4, \"STL%\": 2.5, \"BLK%\": 1.4, \"TOV%\": 19.8, \"USG%\": 0.8502508986665692, \"OWS\": -1.4, \"DWS\": 0.5, \"WS\": -0.9, \"WS/48\": -0.079, \"OBPM\": -5.2, \"DBPM\": -0.9, \"BPM\": -1.0403342530900612, \"VORP\": -0.6, \"pred\": 30, \"pred1\": 30, \"pred2\": 24, \"pred3\": 21, \"pred4\": 21, \"pred5\": 21, \"pred6\": 21, \"pred7\": 21, \"pred8\": 20, \"pred9\": 20}, {\"Player\": \"Ish Smith\", \"Pos\": \"PG\", \"Age\": 31, \"Tm\": \"WAS\", \"G\": 68, \"MP\": 1787, \"PER\": 13.9, \"TS%\": 0.509, \"3PAr\": 0.245, \"FTr\": 0.125, \"ORB%\": 1.8, \"DRB%\": 12.0, \"TRB%\": 6.7, \"AST%\": 27.1, \"STL%\": 1.5, \"BLK%\": 1.5, \"TOV%\": 11.6, \"USG%\": 0.14002656424437554, \"OWS\": 1.3, \"DWS\": 0.6, \"WS\": 1.9, \"WS/48\": 0.051, \"OBPM\": -0.3, \"DBPM\": -1.0, \"BPM\": 0.11424611132811728, \"VORP\": 0.3, \"pred\": 31, \"pred1\": 31, \"pred2\": 23, \"pred3\": 23, \"pred4\": 23, \"pred5\": 23, \"pred6\": 23, \"pred7\": 23, \"pred8\": 31, \"pred9\": 31}, {\"Player\": \"J.R. Smith\", \"Pos\": \"SG\", \"Age\": 34, \"Tm\": \"LAL\", \"G\": 6, \"MP\": 79, \"PER\": 0.0, \"TS%\": 0.372, \"3PAr\": 0.5, \"FTr\": 0.091, \"ORB%\": 0.0, \"DRB%\": 6.9, \"TRB%\": 3.5, \"AST%\": 4.8, \"STL%\": 0.6, \"BLK%\": 0.0, \"TOV%\": 14.9, \"USG%\": -0.712242637062257, \"OWS\": -0.2, \"DWS\": 0.1, \"WS\": -0.1, \"WS/48\": -0.077, \"OBPM\": -7.8, \"DBPM\": -2.0, \"BPM\": -1.930323283995741, \"VORP\": -0.2, \"pred\": 34, \"pred1\": 34, \"pred2\": 24, \"pred3\": 21, \"pred4\": 21, \"pred5\": 21, \"pred6\": 21, \"pred7\": 24, \"pred8\": 24, \"pred9\": 24}, {\"Player\": \"Zhaire Smith\", \"Pos\": \"SG\", \"Age\": 20, \"Tm\": \"PHI\", \"G\": 7, \"MP\": 32, \"PER\": 1.1, \"TS%\": 0.313, \"3PAr\": 0.273, \"FTr\": 0.364, \"ORB%\": 0.0, \"DRB%\": 6.9, \"TRB%\": 3.5, \"AST%\": 8.2, \"STL%\": 4.5, \"BLK%\": 0.0, \"TOV%\": 13.6, \"USG%\": 0.2820714311288138, \"OWS\": -0.1, \"DWS\": 0.1, \"WS\": -0.1, \"WS/48\": -0.12, \"OBPM\": -10.8, \"DBPM\": 0.8, \"BPM\": -1.9784307991798316, \"VORP\": -0.1, \"pred\": 20, \"pred1\": 20, \"pred2\": 20, \"pred3\": 23, \"pred4\": 23, \"pred5\": 23, \"pred6\": 22, \"pred7\": 22, \"pred8\": 22, \"pred9\": 22}, {\"Player\": \"Tony Snell\", \"Pos\": \"SF\", \"Age\": 28, \"Tm\": \"DET\", \"G\": 59, \"MP\": 1641, \"PER\": 9.7, \"TS%\": 0.598, \"3PAr\": 0.665, \"FTr\": 0.084, \"ORB%\": 0.6, \"DRB%\": 7.1, \"TRB%\": 3.8, \"AST%\": 10.9, \"STL%\": 1.0, \"BLK%\": 0.8, \"TOV%\": 7.3, \"USG%\": -1.2271552795183474, \"OWS\": 2.1, \"DWS\": 0.5, \"WS\": 2.6, \"WS/48\": 0.076, \"OBPM\": -1.2, \"DBPM\": -0.6, \"BPM\": -0.00602267663210966, \"VORP\": 0.1, \"pred\": 28, \"pred1\": 28, \"pred2\": 24, \"pred3\": 24, \"pred4\": 24, \"pred5\": 24, \"pred6\": 22, \"pred7\": 22, \"pred8\": 21, \"pred9\": 21}, {\"Player\": \"Omari Spellman\", \"Pos\": \"PF\", \"Age\": 22, \"Tm\": \"GSW\", \"G\": 49, \"MP\": 886, \"PER\": 14.4, \"TS%\": 0.551, \"3PAr\": 0.373, \"FTr\": 0.312, \"ORB%\": 9.1, \"DRB%\": 18.0, \"TRB%\": 13.4, \"AST%\": 8.1, \"STL%\": 1.8, \"BLK%\": 2.4, \"TOV%\": 13.9, \"USG%\": 0.0867597391627109, \"OWS\": 0.5, \"DWS\": 0.7, \"WS\": 1.2, \"WS/48\": 0.066, \"OBPM\": -0.8, \"DBPM\": -1.0, \"BPM\": 0.01803108095993575, \"VORP\": 0.1, \"pred\": 22, \"pred1\": 22, \"pred2\": 22, \"pred3\": 21, \"pred4\": 21, \"pred5\": 32, \"pred6\": 32, \"pred7\": 32, \"pred8\": 32, \"pred9\": 32}, {\"Player\": \"Max Strus\", \"Pos\": \"SG\", \"Age\": 23, \"Tm\": \"CHI\", \"G\": 2, \"MP\": 6, \"PER\": 30.7, \"TS%\": 0.727, \"3PAr\": 0.333, \"FTr\": 0.333, \"ORB%\": 17.5, \"DRB%\": 0.0, \"TRB%\": 9.2, \"AST%\": 0.0, \"STL%\": 0.0, \"BLK%\": 0.0, \"TOV%\": 0.0, \"USG%\": 1.0810738073537816, \"OWS\": 0.0, \"DWS\": 0.0, \"WS\": 0.0, \"WS/48\": 0.316, \"OBPM\": 5.3, \"DBPM\": -1.0, \"BPM\": 1.4853102940747045, \"VORP\": 0.0, \"pred\": 23, \"pred1\": 23, \"pred2\": 23, \"pred3\": 23, \"pred4\": 23, \"pred5\": 23, \"pred6\": 23, \"pred7\": 23, \"pred8\": 23, \"pred9\": 23}, {\"Player\": \"Edmond Sumner\", \"Pos\": \"PG\", \"Age\": 24, \"Tm\": \"IND\", \"G\": 31, \"MP\": 447, \"PER\": 10.1, \"TS%\": 0.491, \"3PAr\": 0.373, \"FTr\": 0.204, \"ORB%\": 2.7, \"DRB%\": 8.5, \"TRB%\": 5.6, \"AST%\": 16.7, \"STL%\": 1.6, \"BLK%\": 1.8, \"TOV%\": 12.4, \"USG%\": -0.17957438624561173, \"OWS\": -0.1, \"DWS\": 0.5, \"WS\": 0.4, \"WS/48\": 0.047, \"OBPM\": -3.2, \"DBPM\": 0.2, \"BPM\": -0.2946677677366543, \"VORP\": -0.1, \"pred\": 24, \"pred1\": 24, \"pred2\": 24, \"pred3\": 23, \"pred4\": 22, \"pred5\": 22, \"pred6\": 24, \"pred7\": 24, \"pred8\": 24, \"pred9\": 24}, {\"Player\": \"Caleb Swanigan\", \"Pos\": \"PF\", \"Age\": 22, \"Tm\": \"TOT\", \"G\": 27, \"MP\": 288, \"PER\": 7.6, \"TS%\": 0.597, \"3PAr\": 0.043, \"FTr\": 0.362, \"ORB%\": 9.9, \"DRB%\": 26.4, \"TRB%\": 18.3, \"AST%\": 13.9, \"STL%\": 0.5, \"BLK%\": 2.2, \"TOV%\": 40.4, \"USG%\": -0.8542875039466958, \"OWS\": -0.2, \"DWS\": 0.2, \"WS\": 0.0, \"WS/48\": 0.004, \"OBPM\": -6.2, \"DBPM\": 0.2, \"BPM\": -1.016280495498016, \"VORP\": -0.3, \"pred\": 22, \"pred1\": 22, \"pred2\": 22, \"pred3\": 26, \"pred4\": 26, \"pred5\": 26, \"pred6\": 22, \"pred7\": 26, \"pred8\": 26, \"pred9\": 26}, {\"Player\": \"Caleb Swanigan\", \"Pos\": \"PF\", \"Age\": 22, \"Tm\": \"SAC\", \"G\": 7, \"MP\": 23, \"PER\": -0.1, \"TS%\": 0.512, \"3PAr\": 0.0, \"FTr\": 0.5, \"ORB%\": 9.6, \"DRB%\": 25.1, \"TRB%\": 17.1, \"AST%\": 11.5, \"STL%\": 2.1, \"BLK%\": 8.3, \"TOV%\": 55.1, \"USG%\": 0.38860508129214305, \"OWS\": -0.1, \"DWS\": 0.0, \"WS\": -0.1, \"WS/48\": -0.177, \"OBPM\": -14.6, \"DBPM\": 3.3, \"BPM\": -2.2911296478764216, \"VORP\": -0.1, \"pred\": 22, \"pred1\": 22, \"pred2\": 22, \"pred3\": 23, \"pred4\": 22, \"pred5\": 22, \"pred6\": 22, \"pred7\": 22, \"pred8\": 22, \"pred9\": 22}, {\"Player\": \"Caleb Swanigan\", \"Pos\": \"PF\", \"Age\": 22, \"Tm\": \"POR\", \"G\": 20, \"MP\": 265, \"PER\": 8.2, \"TS%\": 0.605, \"3PAr\": 0.047, \"FTr\": 0.349, \"ORB%\": 10.0, \"DRB%\": 26.5, \"TRB%\": 18.3, \"AST%\": 14.1, \"STL%\": 0.4, \"BLK%\": 1.6, \"TOV%\": 38.5, \"USG%\": -0.9608211541100248, \"OWS\": -0.1, \"DWS\": 0.2, \"WS\": 0.1, \"WS/48\": 0.02, \"OBPM\": -5.5, \"DBPM\": -0.1, \"BPM\": -0.9200654651298343, \"VORP\": -0.2, \"pred\": 22, \"pred1\": 22, \"pred2\": 22, \"pred3\": 22, \"pred4\": 22, \"pred5\": 22, \"pred6\": 22, \"pred7\": 26, \"pred8\": 26, \"pred9\": 26}, {\"Player\": \"Jayson Tatum\", \"Pos\": \"PF\", \"Age\": 21, \"Tm\": \"BOS\", \"G\": 66, \"MP\": 2265, \"PER\": 20.4, \"TS%\": 0.567, \"3PAr\": 0.383, \"FTr\": 0.255, \"ORB%\": 3.1, \"DRB%\": 18.5, \"TRB%\": 10.9, \"AST%\": 14.5, \"STL%\": 2.0, \"BLK%\": 2.3, \"TOV%\": 10.2, \"USG%\": 1.8268093584970855, \"OWS\": 3.2, \"DWS\": 3.7, \"WS\": 6.9, \"WS/48\": 0.146, \"OBPM\": 3.5, \"DBPM\": 0.6, \"BPM\": 1.3890952637065228, \"VORP\": 3.4, \"pred\": 29, \"pred1\": 29, \"pred2\": 29, \"pred3\": 29, \"pred4\": 29, \"pred5\": 29, \"pred6\": 29, \"pred7\": 29, \"pred8\": 22, \"pred9\": 22}, {\"Player\": \"Jeff Teague\", \"Pos\": \"PG\", \"Age\": 31, \"Tm\": \"TOT\", \"G\": 59, \"MP\": 1464, \"PER\": 14.6, \"TS%\": 0.557, \"3PAr\": 0.239, \"FTr\": 0.403, \"ORB%\": 1.9, \"DRB%\": 8.6, \"TRB%\": 5.2, \"AST%\": 30.7, \"STL%\": 1.4, \"BLK%\": 1.1, \"TOV%\": 16.8, \"USG%\": 0.21104899768659466, \"OWS\": 1.9, \"DWS\": 0.6, \"WS\": 2.5, \"WS/48\": 0.082, \"OBPM\": -0.2, \"DBPM\": -1.3, \"BPM\": 0.06613859614402652, \"VORP\": 0.2, \"pred\": 31, \"pred1\": 31, \"pred2\": 31, \"pred3\": 31, \"pred4\": 31, \"pred5\": 31, \"pred6\": 31, \"pred7\": 31, \"pred8\": 31, \"pred9\": 31}, {\"Player\": \"Jeff Teague\", \"Pos\": \"PG\", \"Age\": 31, \"Tm\": \"MIN\", \"G\": 34, \"MP\": 945, \"PER\": 15.9, \"TS%\": 0.578, \"3PAr\": 0.269, \"FTr\": 0.444, \"ORB%\": 1.6, \"DRB%\": 8.5, \"TRB%\": 4.9, \"AST%\": 32.5, \"STL%\": 1.2, \"BLK%\": 1.1, \"TOV%\": 16.4, \"USG%\": 0.3353382562104784, \"OWS\": 1.7, \"DWS\": 0.4, \"WS\": 2.1, \"WS/48\": 0.108, \"OBPM\": 0.6, \"DBPM\": -1.2, \"BPM\": 0.282622414472435, \"VORP\": 0.3, \"pred\": 31, \"pred1\": 31, \"pred2\": 27, \"pred3\": 23, \"pred4\": 23, \"pred5\": 23, \"pred6\": 27, \"pred7\": 27, \"pred8\": 27, \"pred9\": 27}, {\"Player\": \"Jeff Teague\", \"Pos\": \"PG\", \"Age\": 31, \"Tm\": \"ATL\", \"G\": 25, \"MP\": 519, \"PER\": 12.2, \"TS%\": 0.512, \"3PAr\": 0.182, \"FTr\": 0.321, \"ORB%\": 2.5, \"DRB%\": 8.8, \"TRB%\": 5.6, \"AST%\": 27.3, \"STL%\": 1.7, \"BLK%\": 1.0, \"TOV%\": 17.5, \"USG%\": -0.0020183026400633066, \"OWS\": 0.2, \"DWS\": 0.2, \"WS\": 0.4, \"WS/48\": 0.035, \"OBPM\": -1.6, \"DBPM\": -1.5, \"BPM\": -0.31872152532869974, \"VORP\": -0.2, \"pred\": 31, \"pred1\": 31, \"pred2\": 27, \"pred3\": 26, \"pred4\": 22, \"pred5\": 21, \"pred6\": 21, \"pred7\": 21, \"pred8\": 21, \"pred9\": 21}, {\"Player\": \"Garrett Temple\", \"Pos\": \"SG\", \"Age\": 33, \"Tm\": \"BRK\", \"G\": 62, \"MP\": 1730, \"PER\": 10.5, \"TS%\": 0.513, \"3PAr\": 0.658, \"FTr\": 0.148, \"ORB%\": 1.8, \"DRB%\": 11.1, \"TRB%\": 6.5, \"AST%\": 12.8, \"STL%\": 1.3, \"BLK%\": 1.4, \"TOV%\": 9.0, \"USG%\": -0.30386364476949546, \"OWS\": 0.7, \"DWS\": 1.7, \"WS\": 2.4, \"WS/48\": 0.066, \"OBPM\": -1.4, \"DBPM\": 0.3, \"BPM\": 0.16235362651220805, \"VORP\": 0.4, \"pred\": 28, \"pred1\": 28, \"pred2\": 24, \"pred3\": 24, \"pred4\": 24, \"pred5\": 23, \"pred6\": 23, \"pred7\": 23, \"pred8\": 23, \"pred9\": 23}, {\"Player\": \"Daniel Theis\", \"Pos\": \"C\", \"Age\": 27, \"Tm\": \"BOS\", \"G\": 65, \"MP\": 1566, \"PER\": 17.9, \"TS%\": 0.631, \"3PAr\": 0.225, \"FTr\": 0.268, \"ORB%\": 9.7, \"DRB%\": 19.3, \"TRB%\": 14.6, \"AST%\": 10.1, \"STL%\": 1.1, \"BLK%\": 5.0, \"TOV%\": 10.2, \"USG%\": -0.6944870287017022, \"OWS\": 4.0, \"DWS\": 2.6, \"WS\": 6.5, \"WS/48\": 0.201, \"OBPM\": 0.6, \"DBPM\": 1.8, \"BPM\": 1.0042351422337967, \"VORP\": 1.7, \"pred\": 27, \"pred1\": 27, \"pred2\": 21, \"pred3\": 27, \"pred4\": 27, \"pred5\": 27, \"pred6\": 27, \"pred7\": 27, \"pred8\": 27, \"pred9\": 27}, {\"Player\": \"Isaiah Thomas\", \"Pos\": \"PG\", \"Age\": 30, \"Tm\": \"WAS\", \"G\": 40, \"MP\": 925, \"PER\": 11.6, \"TS%\": 0.531, \"3PAr\": 0.444, \"FTr\": 0.178, \"ORB%\": 1.2, \"DRB%\": 7.0, \"TRB%\": 4.0, \"AST%\": 23.4, \"STL%\": 0.7, \"BLK%\": 0.6, \"TOV%\": 14.4, \"USG%\": 1.0278069822721176, \"OWS\": 0.1, \"DWS\": -0.1, \"WS\": 0.0, \"WS/48\": 0.002, \"OBPM\": -0.5, \"DBPM\": -3.9, \"BPM\": -0.6073666164332444, \"VORP\": -0.5, \"pred\": 30, \"pred1\": 30, \"pred2\": 19, \"pred3\": 19, \"pred4\": 19, \"pred5\": 19, \"pred6\": 19, \"pred7\": 19, \"pred8\": 30, \"pred9\": 30}, {\"Player\": \"Khyri Thomas\", \"Pos\": \"SG\", \"Age\": 23, \"Tm\": \"DET\", \"G\": 8, \"MP\": 61, \"PER\": 3.1, \"TS%\": 0.453, \"3PAr\": 0.824, \"FTr\": 0.235, \"ORB%\": 1.8, \"DRB%\": 0.0, \"TRB%\": 0.9, \"AST%\": 6.7, \"STL%\": 2.4, \"BLK%\": 0.0, \"TOV%\": 13.8, \"USG%\": -0.4814197283750442, \"OWS\": -0.1, \"DWS\": 0.0, \"WS\": 0.0, \"WS/48\": -0.038, \"OBPM\": -6.2, \"DBPM\": -1.7, \"BPM\": -1.4733018897468786, \"VORP\": -0.1, \"pred\": 23, \"pred1\": 23, \"pred2\": 22, \"pred3\": 22, \"pred4\": 22, \"pred5\": 22, \"pred6\": 22, \"pred7\": 26, \"pred8\": 22, \"pred9\": 22}, {\"Player\": \"Lance Thomas\", \"Pos\": \"SF\", \"Age\": 31, \"Tm\": \"BRK\", \"G\": 7, \"MP\": 98, \"PER\": 3.0, \"TS%\": 0.485, \"3PAr\": 0.565, \"FTr\": 0.174, \"ORB%\": 2.2, \"DRB%\": 11.4, \"TRB%\": 6.9, \"AST%\": 8.2, \"STL%\": 0.0, \"BLK%\": 0.0, \"TOV%\": 19.5, \"USG%\": -0.9253099373889152, \"OWS\": -0.1, \"DWS\": 0.1, \"WS\": 0.0, \"WS/48\": -0.015, \"OBPM\": -5.7, \"DBPM\": -2.6, \"BPM\": -1.56951692011506, \"VORP\": -0.2, \"pred\": 31, \"pred1\": 31, \"pred2\": 31, \"pred3\": 23, \"pred4\": 23, \"pred5\": 23, \"pred6\": 23, \"pred7\": 23, \"pred8\": 34, \"pred9\": 23}, {\"Player\": \"Matt Thomas\", \"Pos\": \"SG\", \"Age\": 25, \"Tm\": \"TOR\", \"G\": 41, \"MP\": 440, \"PER\": 13.3, \"TS%\": 0.65, \"3PAr\": 0.66, \"FTr\": 0.08, \"ORB%\": 2.2, \"DRB%\": 12.2, \"TRB%\": 7.3, \"AST%\": 7.5, \"STL%\": 1.1, \"BLK%\": 0.2, \"TOV%\": 9.3, \"USG%\": -0.30386364476949546, \"OWS\": 0.7, \"DWS\": 0.6, \"WS\": 1.2, \"WS/48\": 0.133, \"OBPM\": 1.0, \"DBPM\": 0.1, \"BPM\": 0.6915362935372067, \"VORP\": 0.3, \"pred\": 25, \"pred1\": 25, \"pred2\": 25, \"pred3\": 25, \"pred4\": 25, \"pred5\": 25, \"pred6\": 25, \"pred7\": 25, \"pred8\": 23, \"pred9\": 23}, {\"Player\": \"Tristan Thompson\", \"Pos\": \"C\", \"Age\": 28, \"Tm\": \"CLE\", \"G\": 57, \"MP\": 1721, \"PER\": 16.8, \"TS%\": 0.54, \"3PAr\": 0.041, \"FTr\": 0.286, \"ORB%\": 14.5, \"DRB%\": 22.9, \"TRB%\": 18.6, \"AST%\": 10.5, \"STL%\": 0.9, \"BLK%\": 2.5, \"TOV%\": 14.0, \"USG%\": -0.0020183026400633066, \"OWS\": 2.0, \"DWS\": 1.1, \"WS\": 3.1, \"WS/48\": 0.085, \"OBPM\": -0.3, \"DBPM\": -1.3, \"BPM\": 0.06613859614402652, \"VORP\": 0.2, \"pred\": 28, \"pred1\": 28, \"pred2\": 22, \"pred3\": 21, \"pred4\": 21, \"pred5\": 21, \"pred6\": 21, \"pred7\": 21, \"pred8\": 22, \"pred9\": 22}, {\"Player\": \"Sindarius Thornwell\", \"Pos\": \"SG\", \"Age\": 25, \"Tm\": \"NOP\", \"G\": 2, \"MP\": 35, \"PER\": 14.7, \"TS%\": 0.627, \"3PAr\": 0.364, \"FTr\": 0.364, \"ORB%\": 0.0, \"DRB%\": 12.2, \"TRB%\": 6.1, \"AST%\": 16.1, \"STL%\": 1.3, \"BLK%\": 2.4, \"TOV%\": 13.6, \"USG%\": -0.17957438624561173, \"OWS\": 0.0, \"DWS\": 0.0, \"WS\": 0.1, \"WS/48\": 0.101, \"OBPM\": -0.1, \"DBPM\": -1.2, \"BPM\": 0.11424611132811728, \"VORP\": 0.0, \"pred\": 25, \"pred1\": 25, \"pred2\": 25, \"pred3\": 23, \"pred4\": 23, \"pred5\": 24, \"pred6\": 24, \"pred7\": 24, \"pred8\": 24, \"pred9\": 24}, {\"Player\": \"Matisse Thybulle\", \"Pos\": \"SG\", \"Age\": 22, \"Tm\": \"PHI\", \"G\": 65, \"MP\": 1287, \"PER\": 10.0, \"TS%\": 0.539, \"3PAr\": 0.592, \"FTr\": 0.155, \"ORB%\": 3.8, \"DRB%\": 5.4, \"TRB%\": 4.6, \"AST%\": 8.0, \"STL%\": 3.5, \"BLK%\": 3.1, \"TOV%\": 15.3, \"USG%\": -1.2626664962394574, \"OWS\": 0.3, \"DWS\": 2.0, \"WS\": 2.3, \"WS/48\": 0.086, \"OBPM\": -2.8, \"DBPM\": 3.1, \"BPM\": 0.49910623280084354, \"VORP\": 0.8, \"pred\": 22, \"pred1\": 22, \"pred2\": 22, \"pred3\": 22, \"pred4\": 34, \"pred5\": 34, \"pred6\": 34, \"pred7\": 34, \"pred8\": 34, \"pred9\": 34}, {\"Player\": \"Anthony Tolliver\", \"Pos\": \"PF\", \"Age\": 34, \"Tm\": \"TOT\", \"G\": 55, \"MP\": 872, \"PER\": 7.0, \"TS%\": 0.513, \"3PAr\": 0.797, \"FTr\": 0.159, \"ORB%\": 4.1, \"DRB%\": 14.3, \"TRB%\": 9.3, \"AST%\": 6.0, \"STL%\": 1.0, \"BLK%\": 1.1, \"TOV%\": 14.9, \"USG%\": -1.2804221046000122, \"OWS\": 0.0, \"DWS\": 0.4, \"WS\": 0.5, \"WS/48\": 0.026, \"OBPM\": -2.7, \"DBPM\": -0.5, \"BPM\": -0.3427752829207451, \"VORP\": -0.3, \"pred\": 34, \"pred1\": 34, \"pred2\": 22, \"pred3\": 34, \"pred4\": 34, \"pred5\": 34, \"pred6\": 22, \"pred7\": 22, \"pred8\": 22, \"pred9\": 22}, {\"Player\": \"Anthony Tolliver\", \"Pos\": \"PF\", \"Age\": 34, \"Tm\": \"POR\", \"G\": 33, \"MP\": 554, \"PER\": 7.5, \"TS%\": 0.515, \"3PAr\": 0.761, \"FTr\": 0.162, \"ORB%\": 5.2, \"DRB%\": 15.5, \"TRB%\": 10.4, \"AST%\": 6.6, \"STL%\": 0.7, \"BLK%\": 1.4, \"TOV%\": 14.3, \"USG%\": -1.2626664962394574, \"OWS\": 0.2, \"DWS\": 0.2, \"WS\": 0.4, \"WS/48\": 0.031, \"OBPM\": -2.3, \"DBPM\": -0.9, \"BPM\": -0.3668290405127904, \"VORP\": -0.2, \"pred\": 34, \"pred1\": 34, \"pred2\": 34, \"pred3\": 34, \"pred4\": 22, \"pred5\": 22, \"pred6\": 22, \"pred7\": 22, \"pred8\": 22, \"pred9\": 22}, {\"Player\": \"Anthony Tolliver\", \"Pos\": \"PF\", \"Age\": 34, \"Tm\": \"SAC\", \"G\": 9, \"MP\": 82, \"PER\": 0.2, \"TS%\": 0.252, \"3PAr\": 0.882, \"FTr\": 0.118, \"ORB%\": 2.7, \"DRB%\": 12.7, \"TRB%\": 7.6, \"AST%\": 4.5, \"STL%\": 2.4, \"BLK%\": 1.2, \"TOV%\": 18.3, \"USG%\": -1.1916440627972378, \"OWS\": -0.2, \"DWS\": 0.1, \"WS\": -0.2, \"WS/48\": -0.1, \"OBPM\": -7.8, \"DBPM\": -1.0, \"BPM\": -1.6897857080752872, \"VORP\": -0.1, \"pred\": 34, \"pred1\": 34, \"pred2\": 31, \"pred3\": 27, \"pred4\": 27, \"pred5\": 23, \"pred6\": 23, \"pred7\": 23, \"pred8\": 34, \"pred9\": 26}, {\"Player\": \"Anthony Tolliver\", \"Pos\": \"PF\", \"Age\": 34, \"Tm\": \"MEM\", \"G\": 13, \"MP\": 236, \"PER\": 8.0, \"TS%\": 0.602, \"3PAr\": 0.854, \"FTr\": 0.167, \"ORB%\": 2.3, \"DRB%\": 12.3, \"TRB%\": 7.4, \"AST%\": 5.3, \"STL%\": 1.4, \"BLK%\": 0.4, \"TOV%\": 14.9, \"USG%\": -1.3514445380422315, \"OWS\": 0.1, \"DWS\": 0.2, \"WS\": 0.3, \"WS/48\": 0.061, \"OBPM\": -1.7, \"DBPM\": 0.6, \"BPM\": 0.1382998689201627, \"VORP\": 0.0, \"pred\": 34, \"pred1\": 34, \"pred2\": 34, \"pred3\": 26, \"pred4\": 22, \"pred5\": 22, \"pred6\": 22, \"pred7\": 34, \"pred8\": 34, \"pred9\": 26}, {\"Player\": \"Juan Toscano-Anderson\", \"Pos\": \"SF\", \"Age\": 26, \"Tm\": \"GSW\", \"G\": 13, \"MP\": 272, \"PER\": 9.4, \"TS%\": 0.529, \"3PAr\": 0.365, \"FTr\": 0.079, \"ORB%\": 3.5, \"DRB%\": 17.8, \"TRB%\": 10.4, \"AST%\": 13.8, \"STL%\": 2.3, \"BLK%\": 1.7, \"TOV%\": 19.7, \"USG%\": -0.9963323708311347, \"OWS\": -0.1, \"DWS\": 0.2, \"WS\": 0.2, \"WS/48\": 0.03, \"OBPM\": -4.0, \"DBPM\": 0.5, \"BPM\": -0.41493655569688126, \"VORP\": -0.1, \"pred\": 26, \"pred1\": 26, \"pred2\": 26, \"pred3\": 26, \"pred4\": 22, \"pred5\": 22, \"pred6\": 22, \"pred7\": 22, \"pred8\": 22, \"pred9\": 22}, {\"Player\": \"Karl-Anthony Towns\", \"Pos\": \"C\", \"Age\": 24, \"Tm\": \"MIN\", \"G\": 35, \"MP\": 1187, \"PER\": 26.5, \"TS%\": 0.642, \"3PAr\": 0.445, \"FTr\": 0.363, \"ORB%\": 8.1, \"DRB%\": 26.1, \"TRB%\": 16.8, \"AST%\": 22.8, \"STL%\": 1.3, \"BLK%\": 2.9, \"TOV%\": 13.2, \"USG%\": 1.862320575218195, \"OWS\": 3.7, \"DWS\": 1.3, \"WS\": 5.1, \"WS/48\": 0.204, \"OBPM\": 7.0, \"DBPM\": 0.8, \"BPM\": 2.3031380522042477, \"VORP\": 2.9, \"pred\": 26, \"pred1\": 26, \"pred2\": 26, \"pred3\": 26, \"pred4\": 26, \"pred5\": 29, \"pred6\": 29, \"pred7\": 29, \"pred8\": 29, \"pred9\": 29}, {\"Player\": \"Gary Trent Jr.\", \"Pos\": \"SG\", \"Age\": 21, \"Tm\": \"POR\", \"G\": 61, \"MP\": 1332, \"PER\": 12.9, \"TS%\": 0.587, \"3PAr\": 0.608, \"FTr\": 0.102, \"ORB%\": 2.0, \"DRB%\": 5.8, \"TRB%\": 3.9, \"AST%\": 6.3, \"STL%\": 1.7, \"BLK%\": 1.0, \"TOV%\": 4.4, \"USG%\": -0.5346865534567086, \"OWS\": 2.2, \"DWS\": 0.3, \"WS\": 2.5, \"WS/48\": 0.089, \"OBPM\": 0.5, \"DBPM\": -0.8, \"BPM\": 0.3547836872485712, \"VORP\": 0.6, \"pred\": 21, \"pred1\": 21, \"pred2\": 19, \"pred3\": 19, \"pred4\": 29, \"pred5\": 29, \"pred6\": 29, \"pred7\": 29, \"pred8\": 29, \"pred9\": 29}, {\"Player\": \"Allonzo Trier\", \"Pos\": \"PG\", \"Age\": 24, \"Tm\": \"NYK\", \"G\": 24, \"MP\": 291, \"PER\": 14.5, \"TS%\": 0.62, \"3PAr\": 0.5, \"FTr\": 0.406, \"ORB%\": 2.1, \"DRB%\": 8.7, \"TRB%\": 5.3, \"AST%\": 14.8, \"STL%\": 0.5, \"BLK%\": 1.3, \"TOV%\": 15.0, \"USG%\": 0.5484055565371364, \"OWS\": 0.5, \"DWS\": 0.1, \"WS\": 0.5, \"WS/48\": 0.087, \"OBPM\": 0.9, \"DBPM\": -1.4, \"BPM\": 0.3066761720644804, \"VORP\": 0.1, \"pred\": 24, \"pred1\": 24, \"pred2\": 22, \"pred3\": 22, \"pred4\": 22, \"pred5\": 27, \"pred6\": 27, \"pred7\": 27, \"pred8\": 27, \"pred9\": 24}, {\"Player\": \"P.J. Tucker\", \"Pos\": \"PF\", \"Age\": 34, \"Tm\": \"HOU\", \"G\": 72, \"MP\": 2467, \"PER\": 8.3, \"TS%\": 0.559, \"3PAr\": 0.702, \"FTr\": 0.113, \"ORB%\": 4.7, \"DRB%\": 15.6, \"TRB%\": 10.1, \"AST%\": 6.0, \"STL%\": 1.4, \"BLK%\": 1.2, \"TOV%\": 13.9, \"USG%\": -1.7065567052533284, \"OWS\": 1.6, \"DWS\": 2.4, \"WS\": 4.0, \"WS/48\": 0.078, \"OBPM\": -2.4, \"DBPM\": 0.6, \"BPM\": -0.030076434224155017, \"VORP\": 0.1, \"pred\": 31, \"pred1\": 31, \"pred2\": 24, \"pred3\": 24, \"pred4\": 24, \"pred5\": 24, \"pred6\": 24, \"pred7\": 24, \"pred8\": 24, \"pred9\": 24}, {\"Player\": \"Rayjon Tucker\", \"Pos\": \"SG\", \"Age\": 22, \"Tm\": \"UTA\", \"G\": 20, \"MP\": 161, \"PER\": 9.7, \"TS%\": 0.584, \"3PAr\": 0.395, \"FTr\": 0.535, \"ORB%\": 2.1, \"DRB%\": 11.2, \"TRB%\": 6.8, \"AST%\": 4.4, \"STL%\": 0.3, \"BLK%\": 0.5, \"TOV%\": 13.1, \"USG%\": -0.30386364476949546, \"OWS\": 0.1, \"DWS\": 0.1, \"WS\": 0.2, \"WS/48\": 0.063, \"OBPM\": -3.8, \"DBPM\": -2.2, \"BPM\": -1.016280495498016, \"VORP\": -0.2, \"pred\": 22, \"pred1\": 22, \"pred2\": 22, \"pred3\": 22, \"pred4\": 20, \"pred5\": 31, \"pred6\": 24, \"pred7\": 24, \"pred8\": 24, \"pred9\": 20}, {\"Player\": \"Evan Turner\", \"Pos\": \"PG\", \"Age\": 31, \"Tm\": \"ATL\", \"G\": 19, \"MP\": 251, \"PER\": 6.8, \"TS%\": 0.424, \"3PAr\": 0.075, \"FTr\": 0.209, \"ORB%\": 3.4, \"DRB%\": 13.0, \"TRB%\": 8.2, \"AST%\": 20.6, \"STL%\": 1.7, \"BLK%\": 2.7, \"TOV%\": 26.2, \"USG%\": -0.3393748614906057, \"OWS\": -0.5, \"DWS\": 0.1, \"WS\": -0.3, \"WS/48\": -0.064, \"OBPM\": -4.9, \"DBPM\": -0.7, \"BPM\": -0.9200654651298343, \"VORP\": -0.2, \"pred\": 31, \"pred1\": 31, \"pred2\": 24, \"pred3\": 24, \"pred4\": 22, \"pred5\": 24, \"pred6\": 24, \"pred7\": 24, \"pred8\": 24, \"pred9\": 20}, {\"Player\": \"Myles Turner\", \"Pos\": \"C\", \"Age\": 23, \"Tm\": \"IND\", \"G\": 62, \"MP\": 1826, \"PER\": 14.8, \"TS%\": 0.566, \"3PAr\": 0.426, \"FTr\": 0.288, \"ORB%\": 5.2, \"DRB%\": 19.1, \"TRB%\": 12.2, \"AST%\": 5.4, \"STL%\": 1.2, \"BLK%\": 6.4, \"TOV%\": 11.4, \"USG%\": -0.07304073608228305, \"OWS\": 1.1, \"DWS\": 3.1, \"WS\": 4.2, \"WS/48\": 0.111, \"OBPM\": -1.0, \"DBPM\": 1.1, \"BPM\": 0.45099871761675275, \"VORP\": 1.0, \"pred\": 23, \"pred1\": 23, \"pred2\": 23, \"pred3\": 23, \"pred4\": 28, \"pred5\": 28, \"pred6\": 28, \"pred7\": 25, \"pred8\": 25, \"pred9\": 25}, {\"Player\": \"Jarrod Uthoff\", \"Pos\": \"SF\", \"Age\": 26, \"Tm\": \"TOT\", \"G\": 7, \"MP\": 53, \"PER\": 8.8, \"TS%\": 0.503, \"3PAr\": 0.5, \"FTr\": 0.111, \"ORB%\": 4.0, \"DRB%\": 8.6, \"TRB%\": 6.1, \"AST%\": 0.0, \"STL%\": 0.9, \"BLK%\": 0.0, \"TOV%\": 0.0, \"USG%\": -0.6234645952594827, \"OWS\": 0.0, \"DWS\": 0.0, \"WS\": 0.0, \"WS/48\": 0.018, \"OBPM\": -2.3, \"DBPM\": -2.2, \"BPM\": -0.6554741316173351, \"VORP\": 0.0, \"pred\": 26, \"pred1\": 26, \"pred2\": 22, \"pred3\": 21, \"pred4\": 21, \"pred5\": 21, \"pred6\": 21, \"pred7\": 24, \"pred8\": 24, \"pred9\": 24}, {\"Player\": \"Jarrod Uthoff\", \"Pos\": \"SF\", \"Age\": 26, \"Tm\": \"MEM\", \"G\": 4, \"MP\": 14, \"PER\": -0.1, \"TS%\": 0.254, \"3PAr\": 0.571, \"FTr\": 0.286, \"ORB%\": 7.7, \"DRB%\": 0.0, \"TRB%\": 3.8, \"AST%\": 0.0, \"STL%\": 3.3, \"BLK%\": 0.0, \"TOV%\": 0.0, \"USG%\": 0.9035177237482332, \"OWS\": -0.1, \"DWS\": 0.0, \"WS\": 0.0, \"WS/48\": -0.166, \"OBPM\": -11.1, \"DBPM\": -2.4, \"BPM\": -2.82031231490142, \"VORP\": 0.0, \"pred\": 26, \"pred1\": 26, \"pred2\": 22, \"pred3\": 22, \"pred4\": 22, \"pred5\": 22, \"pred6\": 22, \"pred7\": 22, \"pred8\": 22, \"pred9\": 22}, {\"Player\": \"Jarrod Uthoff\", \"Pos\": \"SF\", \"Age\": 26, \"Tm\": \"WAS\", \"G\": 3, \"MP\": 39, \"PER\": 12.0, \"TS%\": 0.682, \"3PAr\": 0.455, \"FTr\": 0.0, \"ORB%\": 2.7, \"DRB%\": 11.7, \"TRB%\": 7.0, \"AST%\": 0.0, \"STL%\": 0.0, \"BLK%\": 0.0, \"TOV%\": 0.0, \"USG%\": -1.173888454436683, \"OWS\": 0.1, \"DWS\": 0.0, \"WS\": 0.1, \"WS/48\": 0.083, \"OBPM\": 0.8, \"DBPM\": -2.1, \"BPM\": 0.1382998689201627, \"VORP\": 0.0, \"pred\": 26, \"pred1\": 26, \"pred2\": 24, \"pred3\": 24, \"pred4\": 22, \"pred5\": 22, \"pred6\": 34, \"pred7\": 34, \"pred8\": 34, \"pred9\": 34}, {\"Player\": \"Jonas Valan\\u010di\\u016bnas\", \"Pos\": \"C\", \"Age\": 27, \"Tm\": \"MEM\", \"G\": 70, \"MP\": 1845, \"PER\": 22.2, \"TS%\": 0.631, \"3PAr\": 0.123, \"FTr\": 0.271, \"ORB%\": 12.4, \"DRB%\": 32.2, \"TRB%\": 22.5, \"AST%\": 10.9, \"STL%\": 0.8, \"BLK%\": 3.6, \"TOV%\": 13.3, \"USG%\": 0.5661611648976915, \"OWS\": 4.2, \"DWS\": 2.8, \"WS\": 7.0, \"WS/48\": 0.182, \"OBPM\": 2.1, \"DBPM\": 0.2, \"BPM\": 1.0042351422337967, \"VORP\": 2.0, \"pred\": 27, \"pred1\": 27, \"pred2\": 25, \"pred3\": 25, \"pred4\": 25, \"pred5\": 22, \"pred6\": 21, \"pred7\": 22, \"pred8\": 22, \"pred9\": 22}, {\"Player\": \"Denzel Valentine\", \"Pos\": \"SF\", \"Age\": 26, \"Tm\": \"CHI\", \"G\": 36, \"MP\": 488, \"PER\": 13.0, \"TS%\": 0.511, \"3PAr\": 0.578, \"FTr\": 0.034, \"ORB%\": 1.9, \"DRB%\": 15.5, \"TRB%\": 8.4, \"AST%\": 14.2, \"STL%\": 2.6, \"BLK%\": 1.2, \"TOV%\": 9.8, \"USG%\": 0.8857621153876788, \"OWS\": -0.1, \"DWS\": 0.6, \"WS\": 0.5, \"WS/48\": 0.048, \"OBPM\": -0.8, \"DBPM\": 0.2, \"BPM\": 0.282622414472435, \"VORP\": 0.2, \"pred\": 26, \"pred1\": 26, \"pred2\": 23, \"pred3\": 23, \"pred4\": 23, \"pred5\": 22, \"pred6\": 22, \"pred7\": 22, \"pred8\": 22, \"pred9\": 22}, {\"Player\": \"Jarred Vanderbilt\", \"Pos\": \"SF-PF\", \"Age\": 20, \"Tm\": \"TOT\", \"G\": 11, \"MP\": 46, \"PER\": 7.6, \"TS%\": 0.676, \"3PAr\": 0.125, \"FTr\": 0.25, \"ORB%\": 7.3, \"DRB%\": 14.5, \"TRB%\": 10.9, \"AST%\": 5.9, \"STL%\": 3.2, \"BLK%\": 2.0, \"TOV%\": 44.1, \"USG%\": -0.6057089868989279, \"OWS\": -0.1, \"DWS\": 0.1, \"WS\": 0.0, \"WS/48\": -0.026, \"OBPM\": -6.6, \"DBPM\": 0.5, \"BPM\": -1.016280495498016, \"VORP\": -0.1, \"pred\": 20, \"pred1\": 20, \"pred2\": 20, \"pred3\": 20, \"pred4\": 20, \"pred5\": 20, \"pred6\": 20, \"pred7\": 20, \"pred8\": 20, \"pred9\": 20}, {\"Player\": \"Jarred Vanderbilt\", \"Pos\": \"SF\", \"Age\": 20, \"Tm\": \"DEN\", \"G\": 9, \"MP\": 41, \"PER\": 7.2, \"TS%\": 0.714, \"3PAr\": 0.0, \"FTr\": 0.0, \"ORB%\": 8.2, \"DRB%\": 13.6, \"TRB%\": 10.9, \"AST%\": 6.6, \"STL%\": 3.6, \"BLK%\": 2.3, \"TOV%\": 50.0, \"USG%\": -0.6234645952594827, \"OWS\": -0.1, \"DWS\": 0.1, \"WS\": 0.0, \"WS/48\": -0.042, \"OBPM\": -7.0, \"DBPM\": 0.9, \"BPM\": -1.0403342530900612, \"VORP\": 0.0, \"pred\": 20, \"pred1\": 20, \"pred2\": 20, \"pred3\": 20, \"pred4\": 20, \"pred5\": 20, \"pred6\": 20, \"pred7\": 20, \"pred8\": 20, \"pred9\": 20}, {\"Player\": \"Jarred Vanderbilt\", \"Pos\": \"PF\", \"Age\": 20, \"Tm\": \"MIN\", \"G\": 2, \"MP\": 5, \"PER\": 11.1, \"TS%\": 0.532, \"3PAr\": 1.0, \"FTr\": 2.0, \"ORB%\": 0.0, \"DRB%\": 21.9, \"TRB%\": 10.6, \"AST%\": 0.0, \"STL%\": 0.0, \"BLK%\": 0.0, \"TOV%\": 0.0, \"USG%\": -0.499175336735599, \"OWS\": 0.0, \"DWS\": 0.0, \"WS\": 0.0, \"WS/48\": 0.104, \"OBPM\": -2.8, \"DBPM\": -2.8, \"BPM\": -0.9200654651298343, \"VORP\": 0.0, \"pred\": 20, \"pred1\": 20, \"pred2\": 20, \"pred3\": 20, \"pred4\": 20, \"pred5\": 20, \"pred6\": 20, \"pred7\": 20, \"pred8\": 20, \"pred9\": 20}, {\"Player\": \"Fred VanVleet\", \"Pos\": \"PG\", \"Age\": 25, \"Tm\": \"TOR\", \"G\": 54, \"MP\": 1928, \"PER\": 16.3, \"TS%\": 0.553, \"3PAr\": 0.484, \"FTr\": 0.256, \"ORB%\": 1.0, \"DRB%\": 9.9, \"TRB%\": 5.6, \"AST%\": 27.7, \"STL%\": 2.5, \"BLK%\": 0.9, \"TOV%\": 12.3, \"USG%\": 0.601672381618801, \"OWS\": 2.8, \"DWS\": 3.1, \"WS\": 5.8, \"WS/48\": 0.145, \"OBPM\": 1.2, \"DBPM\": 1.4, \"BPM\": 1.0763964150099328, \"VORP\": 2.3, \"pred\": 25, \"pred1\": 25, \"pred2\": 25, \"pred3\": 25, \"pred4\": 22, \"pred5\": 22, \"pred6\": 22, \"pred7\": 22, \"pred8\": 22, \"pred9\": 22}, {\"Player\": \"Gabe Vincent\", \"Pos\": \"PG\", \"Age\": 23, \"Tm\": \"MIA\", \"G\": 9, \"MP\": 83, \"PER\": 1.2, \"TS%\": 0.297, \"3PAr\": 0.73, \"FTr\": 0.0, \"ORB%\": 0.0, \"DRB%\": 6.5, \"TRB%\": 3.4, \"AST%\": 10.1, \"STL%\": 2.9, \"BLK%\": 0.0, \"TOV%\": 2.6, \"USG%\": 0.3353382562104784, \"OWS\": -0.3, \"DWS\": 0.1, \"WS\": -0.2, \"WS/48\": -0.117, \"OBPM\": -8.5, \"DBPM\": -1.9, \"BPM\": -2.0746458295480132, \"VORP\": -0.2, \"pred\": 23, \"pred1\": 23, \"pred2\": 20, \"pred3\": 23, \"pred4\": 23, \"pred5\": 22, \"pred6\": 22, \"pred7\": 22, \"pred8\": 22, \"pred9\": 22}, {\"Player\": \"Noah Vonleh\", \"Pos\": \"C-PF\", \"Age\": 24, \"Tm\": \"TOT\", \"G\": 36, \"MP\": 377, \"PER\": 15.5, \"TS%\": 0.622, \"3PAr\": 0.163, \"FTr\": 0.348, \"ORB%\": 10.1, \"DRB%\": 25.3, \"TRB%\": 17.4, \"AST%\": 10.7, \"STL%\": 1.4, \"BLK%\": 1.3, \"TOV%\": 16.5, \"USG%\": -0.7832650705044764, \"OWS\": 0.6, \"DWS\": 0.4, \"WS\": 1.0, \"WS/48\": 0.127, \"OBPM\": -1.2, \"DBPM\": 0.3, \"BPM\": 0.18640738410425345, \"VORP\": 0.1, \"pred\": 24, \"pred1\": 24, \"pred2\": 24, \"pred3\": 24, \"pred4\": 24, \"pred5\": 24, \"pred6\": 24, \"pred7\": 24, \"pred8\": 24, \"pred9\": 24}, {\"Player\": \"Noah Vonleh\", \"Pos\": \"C\", \"Age\": 24, \"Tm\": \"MIN\", \"G\": 29, \"MP\": 347, \"PER\": 15.3, \"TS%\": 0.605, \"3PAr\": 0.163, \"FTr\": 0.326, \"ORB%\": 10.0, \"DRB%\": 25.9, \"TRB%\": 17.6, \"AST%\": 10.8, \"STL%\": 1.5, \"BLK%\": 1.4, \"TOV%\": 16.2, \"USG%\": -0.7832650705044764, \"OWS\": 0.5, \"DWS\": 0.4, \"WS\": 0.9, \"WS/48\": 0.124, \"OBPM\": -1.5, \"DBPM\": 0.4, \"BPM\": 0.18640738410425345, \"VORP\": 0.1, \"pred\": 24, \"pred1\": 24, \"pred2\": 24, \"pred3\": 24, \"pred4\": 24, \"pred5\": 24, \"pred6\": 24, \"pred7\": 24, \"pred8\": 24, \"pred9\": 24}, {\"Player\": \"Noah Vonleh\", \"Pos\": \"PF\", \"Age\": 24, \"Tm\": \"DEN\", \"G\": 7, \"MP\": 30, \"PER\": 17.6, \"TS%\": 0.838, \"3PAr\": 0.167, \"FTr\": 0.667, \"ORB%\": 11.2, \"DRB%\": 18.6, \"TRB%\": 14.9, \"AST%\": 9.5, \"STL%\": 0.0, \"BLK%\": 0.0, \"TOV%\": 20.5, \"USG%\": -0.7477538537833668, \"OWS\": 0.1, \"DWS\": 0.0, \"WS\": 0.1, \"WS/48\": 0.166, \"OBPM\": 1.3, \"DBPM\": -1.9, \"BPM\": 0.282622414472435, \"VORP\": 0.0, \"pred\": 26, \"pred1\": 26, \"pred2\": 26, \"pred3\": 25, \"pred4\": 24, \"pred5\": 24, \"pred6\": 24, \"pred7\": 24, \"pred8\": 24, \"pred9\": 24}, {\"Player\": \"Nikola Vu\\u010devi\\u0107\", \"Pos\": \"C\", \"Age\": 29, \"Tm\": \"ORL\", \"G\": 62, \"MP\": 1998, \"PER\": 21.9, \"TS%\": 0.549, \"3PAr\": 0.28, \"FTr\": 0.162, \"ORB%\": 7.3, \"DRB%\": 29.7, \"TRB%\": 18.1, \"AST%\": 19.5, \"STL%\": 1.3, \"BLK%\": 2.1, \"TOV%\": 7.4, \"USG%\": 1.3296523244015497, \"OWS\": 3.5, \"DWS\": 2.9, \"WS\": 6.4, \"WS/48\": 0.153, \"OBPM\": 3.7, \"DBPM\": 0.5, \"BPM\": 1.4372027788906137, \"VORP\": 3.1, \"pred\": 28, \"pred1\": 28, \"pred2\": 23, \"pred3\": 23, \"pred4\": 23, \"pred5\": 23, \"pred6\": 23, \"pred7\": 23, \"pred8\": 23, \"pred9\": 23}, {\"Player\": \"Dean Wade\", \"Pos\": \"PF\", \"Age\": 23, \"Tm\": \"CLE\", \"G\": 12, \"MP\": 71, \"PER\": 13.9, \"TS%\": 0.744, \"3PAr\": 0.308, \"FTr\": 0.077, \"ORB%\": 4.6, \"DRB%\": 25.3, \"TRB%\": 14.9, \"AST%\": 4.0, \"STL%\": 1.4, \"BLK%\": 4.8, \"TOV%\": 18.2, \"USG%\": -1.49348940492667, \"OWS\": 0.1, \"DWS\": 0.1, \"WS\": 0.2, \"WS/48\": 0.105, \"OBPM\": -1.7, \"DBPM\": 0.5, \"BPM\": 0.1382998689201627, \"VORP\": 0.0, \"pred\": 23, \"pred1\": 23, \"pred2\": 23, \"pred3\": 23, \"pred4\": 22, \"pred5\": 22, \"pred6\": 22, \"pred7\": 22, \"pred8\": 22, \"pred9\": 22}, {\"Player\": \"Moritz Wagner\", \"Pos\": \"C\", \"Age\": 22, \"Tm\": \"WAS\", \"G\": 45, \"MP\": 835, \"PER\": 15.1, \"TS%\": 0.638, \"3PAr\": 0.301, \"FTr\": 0.357, \"ORB%\": 7.0, \"DRB%\": 22.2, \"TRB%\": 14.3, \"AST%\": 9.8, \"STL%\": 1.6, \"BLK%\": 2.0, \"TOV%\": 17.7, \"USG%\": 0.051248522441601344, \"OWS\": 1.1, \"DWS\": 0.6, \"WS\": 1.7, \"WS/48\": 0.099, \"OBPM\": -2.0, \"DBPM\": -0.3, \"BPM\": -0.12629146459233656, \"VORP\": -0.1, \"pred\": 27, \"pred1\": 27, \"pred2\": 19, \"pred3\": 19, \"pred4\": 19, \"pred5\": 19, \"pred6\": 19, \"pred7\": 27, \"pred8\": 27, \"pred9\": 27}, {\"Player\": \"Dion Waiters\", \"Pos\": \"SG\", \"Age\": 28, \"Tm\": \"TOT\", \"G\": 10, \"MP\": 207, \"PER\": 11.5, \"TS%\": 0.521, \"3PAr\": 0.475, \"FTr\": 0.172, \"ORB%\": 1.1, \"DRB%\": 11.5, \"TRB%\": 6.4, \"AST%\": 14.4, \"STL%\": 0.9, \"BLK%\": 2.7, \"TOV%\": 13.1, \"USG%\": 1.2231186742382205, \"OWS\": -0.1, \"DWS\": 0.2, \"WS\": 0.1, \"WS/48\": 0.03, \"OBPM\": -0.7, \"DBPM\": -0.6, \"BPM\": 0.1382998689201627, \"VORP\": 0.0, \"pred\": 28, \"pred1\": 28, \"pred2\": 28, \"pred3\": 28, \"pred4\": 28, \"pred5\": 28, \"pred6\": 28, \"pred7\": 28, \"pred8\": 28, \"pred9\": 28}, {\"Player\": \"Dion Waiters\", \"Pos\": \"SG\", \"Age\": 28, \"Tm\": \"MIA\", \"G\": 3, \"MP\": 42, \"PER\": 13.4, \"TS%\": 0.53, \"3PAr\": 0.654, \"FTr\": 0.038, \"ORB%\": 0.0, \"DRB%\": 28.2, \"TRB%\": 14.7, \"AST%\": 12.5, \"STL%\": 0.0, \"BLK%\": 4.7, \"TOV%\": 10.2, \"USG%\": 2.2351883507898465, \"OWS\": -0.1, \"DWS\": 0.1, \"WS\": 0.0, \"WS/48\": -0.003, \"OBPM\": 2.4, \"DBPM\": -0.5, \"BPM\": 0.8599125966815243, \"VORP\": 0.0, \"pred\": 28, \"pred1\": 28, \"pred2\": 23, \"pred3\": 19, \"pred4\": 19, \"pred5\": 19, \"pred6\": 19, \"pred7\": 26, \"pred8\": 23, \"pred9\": 23}, {\"Player\": \"Dion Waiters\", \"Pos\": \"SG\", \"Age\": 28, \"Tm\": \"LAL\", \"G\": 7, \"MP\": 165, \"PER\": 11.0, \"TS%\": 0.518, \"3PAr\": 0.411, \"FTr\": 0.219, \"ORB%\": 1.3, \"DRB%\": 7.2, \"TRB%\": 4.3, \"AST%\": 14.9, \"STL%\": 1.2, \"BLK%\": 2.2, \"TOV%\": 14.0, \"USG%\": 0.974540157190453, \"OWS\": -0.1, \"DWS\": 0.2, \"WS\": 0.1, \"WS/48\": 0.038, \"OBPM\": -1.4, \"DBPM\": -0.6, \"BPM\": -0.05413019181620043, \"VORP\": 0.0, \"pred\": 28, \"pred1\": 28, \"pred2\": 20, \"pred3\": 20, \"pred4\": 28, \"pred5\": 28, \"pred6\": 28, \"pred7\": 28, \"pred8\": 23, \"pred9\": 23}, {\"Player\": \"Kemba Walker\", \"Pos\": \"PG\", \"Age\": 29, \"Tm\": \"BOS\", \"G\": 56, \"MP\": 1742, \"PER\": 20.0, \"TS%\": 0.575, \"3PAr\": 0.532, \"FTr\": 0.272, \"ORB%\": 2.2, \"DRB%\": 11.0, \"TRB%\": 6.7, \"AST%\": 24.2, \"STL%\": 1.3, \"BLK%\": 1.5, \"TOV%\": 10.5, \"USG%\": 1.5782308414493174, \"OWS\": 3.9, \"DWS\": 2.0, \"WS\": 5.9, \"WS/48\": 0.162, \"OBPM\": 4.9, \"DBPM\": -0.3, \"BPM\": 1.5334178092587951, \"VORP\": 2.9, \"pred\": 29, \"pred1\": 29, \"pred2\": 28, \"pred3\": 29, \"pred4\": 29, \"pred5\": 29, \"pred6\": 29, \"pred7\": 29, \"pred8\": 29, \"pred9\": 29}, {\"Player\": \"Lonnie Walker\", \"Pos\": \"SG\", \"Age\": 21, \"Tm\": \"SAS\", \"G\": 61, \"MP\": 988, \"PER\": 10.5, \"TS%\": 0.507, \"3PAr\": 0.283, \"FTr\": 0.171, \"ORB%\": 2.5, \"DRB%\": 12.7, \"TRB%\": 7.6, \"AST%\": 9.6, \"STL%\": 1.5, \"BLK%\": 1.2, \"TOV%\": 10.3, \"USG%\": 0.06900413080215581, \"OWS\": -0.2, \"DWS\": 0.6, \"WS\": 0.3, \"WS/48\": 0.016, \"OBPM\": -2.5, \"DBPM\": -1.0, \"BPM\": -0.41493655569688126, \"VORP\": -0.4, \"pred\": 21, \"pred1\": 21, \"pred2\": 21, \"pred3\": 21, \"pred4\": 21, \"pred5\": 21, \"pred6\": 21, \"pred7\": 21, \"pred8\": 21, \"pred9\": 21}, {\"Player\": \"Tyrone Wallace\", \"Pos\": \"SG\", \"Age\": 25, \"Tm\": \"ATL\", \"G\": 14, \"MP\": 160, \"PER\": 3.9, \"TS%\": 0.389, \"3PAr\": 0.341, \"FTr\": 0.386, \"ORB%\": 2.0, \"DRB%\": 13.0, \"TRB%\": 7.4, \"AST%\": 10.9, \"STL%\": 2.0, \"BLK%\": 0.5, \"TOV%\": 16.3, \"USG%\": -0.4103972949328248, \"OWS\": -0.3, \"DWS\": 0.1, \"WS\": -0.2, \"WS/48\": -0.075, \"OBPM\": -7.7, \"DBPM\": -1.0, \"BPM\": -1.6657319504832413, \"VORP\": -0.3, \"pred\": 25, \"pred1\": 25, \"pred2\": 22, \"pred3\": 22, \"pred4\": 22, \"pred5\": 22, \"pred6\": 19, \"pred7\": 25, \"pred8\": 25, \"pred9\": 25}, {\"Player\": \"Taurean Prince\", \"Pos\": \"SF\", \"Age\": 25, \"Tm\": \"BRK\", \"G\": 64, \"MP\": 1857, \"PER\": 9.1, \"TS%\": 0.497, \"3PAr\": 0.583, \"FTr\": 0.12, \"ORB%\": 2.8, \"DRB%\": 18.1, \"TRB%\": 10.6, \"AST%\": 9.2, \"STL%\": 1.5, \"BLK%\": 1.1, \"TOV%\": 14.0, \"USG%\": 0.370849472931588, \"OWS\": -1.7, \"DWS\": 2.3, \"WS\": 0.6, \"WS/48\": 0.014, \"OBPM\": -2.8, \"DBPM\": -0.1, \"BPM\": -0.2706140101446089, \"VORP\": -0.4, \"pred\": 25, \"pred1\": 25, \"pred2\": 25, \"pred3\": 23, \"pred4\": 30, \"pred5\": 30, \"pred6\": 30, \"pred7\": 23, \"pred8\": 23, \"pred9\": 23}, {\"Player\": \"Derrick Walton\", \"Pos\": \"PG\", \"Age\": 24, \"Tm\": \"TOT\", \"G\": 26, \"MP\": 248, \"PER\": 8.7, \"TS%\": 0.617, \"3PAr\": 0.615, \"FTr\": 0.231, \"ORB%\": 0.9, \"DRB%\": 5.8, \"TRB%\": 3.4, \"AST%\": 13.9, \"STL%\": 1.4, \"BLK%\": 0.0, \"TOV%\": 10.4, \"USG%\": -1.8130903554166573, \"OWS\": 0.4, \"DWS\": 0.2, \"WS\": 0.6, \"WS/48\": 0.111, \"OBPM\": -2.2, \"DBPM\": 1.3, \"BPM\": 0.18640738410425345, \"VORP\": 0.1, \"pred\": 24, \"pred1\": 24, \"pred2\": 24, \"pred3\": 24, \"pred4\": 24, \"pred5\": 24, \"pred6\": 24, \"pred7\": 24, \"pred8\": 22, \"pred9\": 22}, {\"Player\": \"Derrick Walton\", \"Pos\": \"PG\", \"Age\": 24, \"Tm\": \"LAC\", \"G\": 23, \"MP\": 222, \"PER\": 8.4, \"TS%\": 0.626, \"3PAr\": 0.583, \"FTr\": 0.25, \"ORB%\": 1.0, \"DRB%\": 5.9, \"TRB%\": 3.5, \"AST%\": 12.6, \"STL%\": 0.9, \"BLK%\": 0.0, \"TOV%\": 9.1, \"USG%\": -1.7775791386955475, \"OWS\": 0.4, \"DWS\": 0.2, \"WS\": 0.5, \"WS/48\": 0.112, \"OBPM\": -2.2, \"DBPM\": 0.9, \"BPM\": 0.11424611132811728, \"VORP\": 0.0, \"pred\": 24, \"pred1\": 24, \"pred2\": 24, \"pred3\": 24, \"pred4\": 24, \"pred5\": 24, \"pred6\": 24, \"pred7\": 24, \"pred8\": 24, \"pred9\": 22}, {\"Player\": \"Derrick Walton\", \"Pos\": \"PG\", \"Age\": 24, \"Tm\": \"DET\", \"G\": 3, \"MP\": 26, \"PER\": 11.3, \"TS%\": 0.5, \"3PAr\": 1.0, \"FTr\": 0.0, \"ORB%\": 0.0, \"DRB%\": 4.4, \"TRB%\": 2.2, \"AST%\": 24.8, \"STL%\": 5.7, \"BLK%\": 0.0, \"TOV%\": 25.0, \"USG%\": -2.061668872464425, \"OWS\": 0.0, \"DWS\": 0.0, \"WS\": 0.1, \"WS/48\": 0.105, \"OBPM\": -2.9, \"DBPM\": 4.7, \"BPM\": 0.8599125966815243, \"VORP\": 0.0, \"pred\": 24, \"pred1\": 24, \"pred2\": 24, \"pred3\": 22, \"pred4\": 22, \"pred5\": 24, \"pred6\": 24, \"pred7\": 24, \"pred8\": 22, \"pred9\": 22}, {\"Player\": \"Brad Wanamaker\", \"Pos\": \"PG\", \"Age\": 30, \"Tm\": \"BOS\", \"G\": 71, \"MP\": 1369, \"PER\": 12.8, \"TS%\": 0.577, \"3PAr\": 0.282, \"FTr\": 0.376, \"ORB%\": 1.7, \"DRB%\": 9.4, \"TRB%\": 5.6, \"AST%\": 17.8, \"STL%\": 2.2, \"BLK%\": 0.9, \"TOV%\": 15.3, \"USG%\": -0.499175336735599, \"OWS\": 1.8, \"DWS\": 1.8, \"WS\": 3.5, \"WS/48\": 0.124, \"OBPM\": -1.9, \"DBPM\": 1.3, \"BPM\": 0.282622414472435, \"VORP\": 0.5, \"pred\": 30, \"pred1\": 30, \"pred2\": 21, \"pred3\": 21, \"pred4\": 21, \"pred5\": 21, \"pred6\": 19, \"pred7\": 19, \"pred8\": 29, \"pred9\": 29}, {\"Player\": \"T.J. Warren\", \"Pos\": \"SF\", \"Age\": 26, \"Tm\": \"IND\", \"G\": 67, \"MP\": 2202, \"PER\": 18.4, \"TS%\": 0.61, \"3PAr\": 0.227, \"FTr\": 0.205, \"ORB%\": 3.4, \"DRB%\": 10.5, \"TRB%\": 7.0, \"AST%\": 7.1, \"STL%\": 1.7, \"BLK%\": 1.4, \"TOV%\": 7.2, \"USG%\": 0.8857621153876788, \"OWS\": 4.0, \"DWS\": 2.6, \"WS\": 6.5, \"WS/48\": 0.143, \"OBPM\": 1.2, \"DBPM\": 0.0, \"BPM\": 0.6915362935372067, \"VORP\": 1.7, \"pred\": 26, \"pred1\": 26, \"pred2\": 26, \"pred3\": 27, \"pred4\": 27, \"pred5\": 27, \"pred6\": 27, \"pred7\": 27, \"pred8\": 21, \"pred9\": 21}, {\"Player\": \"P.J. Washington\", \"Pos\": \"PF\", \"Age\": 21, \"Tm\": \"CHO\", \"G\": 58, \"MP\": 1759, \"PER\": 12.4, \"TS%\": 0.547, \"3PAr\": 0.39, \"FTr\": 0.231, \"ORB%\": 3.5, \"DRB%\": 16.6, \"TRB%\": 9.8, \"AST%\": 11.3, \"STL%\": 1.5, \"BLK%\": 2.3, \"TOV%\": 12.5, \"USG%\": 0.051248522441601344, \"OWS\": 0.5, \"DWS\": 1.5, \"WS\": 2.0, \"WS/48\": 0.054, \"OBPM\": -1.7, \"DBPM\": 0.1, \"BPM\": 0.042084838551981106, \"VORP\": 0.2, \"pred\": 21, \"pred1\": 21, \"pred2\": 21, \"pred3\": 21, \"pred4\": 21, \"pred5\": 21, \"pred6\": 21, \"pred7\": 21, \"pred8\": 21, \"pred9\": 22}, {\"Player\": \"Yuta Watanabe\", \"Pos\": \"SG\", \"Age\": 25, \"Tm\": \"MEM\", \"G\": 18, \"MP\": 105, \"PER\": 11.2, \"TS%\": 0.48, \"3PAr\": 0.235, \"FTr\": 0.235, \"ORB%\": 7.2, \"DRB%\": 12.8, \"TRB%\": 10.0, \"AST%\": 6.4, \"STL%\": 2.2, \"BLK%\": 0.8, \"TOV%\": 5.1, \"USG%\": -0.4636641200144894, \"OWS\": 0.0, \"DWS\": 0.1, \"WS\": 0.1, \"WS/48\": 0.065, \"OBPM\": -2.6, \"DBPM\": 0.9, \"BPM\": -0.00602267663210966, \"VORP\": 0.0, \"pred\": 22, \"pred1\": 22, \"pred2\": 22, \"pred3\": 19, \"pred4\": 19, \"pred5\": 22, \"pred6\": 22, \"pred7\": 22, \"pred8\": 22, \"pred9\": 29}, {\"Player\": \"Tremont Waters\", \"Pos\": \"PG\", \"Age\": 22, \"Tm\": \"BOS\", \"G\": 11, \"MP\": 119, \"PER\": 4.3, \"TS%\": 0.381, \"3PAr\": 0.49, \"FTr\": 0.163, \"ORB%\": 0.0, \"DRB%\": 10.7, \"TRB%\": 5.4, \"AST%\": 18.3, \"STL%\": 4.1, \"BLK%\": 1.6, \"TOV%\": 22.2, \"USG%\": 1.045562590632672, \"OWS\": -0.5, \"DWS\": 0.2, \"WS\": -0.3, \"WS/48\": -0.103, \"OBPM\": -8.5, \"DBPM\": 1.0, \"BPM\": -1.377086859378697, \"VORP\": -0.2, \"pred\": 22, \"pred1\": 22, \"pred2\": 22, \"pred3\": 22, \"pred4\": 22, \"pred5\": 22, \"pred6\": 22, \"pred7\": 22, \"pred8\": 22, \"pred9\": 24}, {\"Player\": \"Paul Watson\", \"Pos\": \"SF-SG\", \"Age\": 25, \"Tm\": \"TOT\", \"G\": 10, \"MP\": 87, \"PER\": 12.6, \"TS%\": 0.517, \"3PAr\": 0.462, \"FTr\": 0.346, \"ORB%\": 2.5, \"DRB%\": 17.9, \"TRB%\": 10.3, \"AST%\": 12.4, \"STL%\": 2.2, \"BLK%\": 1.1, \"TOV%\": 9.1, \"USG%\": -0.39264168657226967, \"OWS\": 0.0, \"DWS\": 0.1, \"WS\": 0.2, \"WS/48\": 0.097, \"OBPM\": -1.2, \"DBPM\": 0.9, \"BPM\": 0.33072992965652576, \"VORP\": 0.0, \"pred\": 25, \"pred1\": 25, \"pred2\": 25, \"pred3\": 25, \"pred4\": 25, \"pred5\": 25, \"pred6\": 29, \"pred7\": 29, \"pred8\": 29, \"pred9\": 29}, {\"Player\": \"Paul Watson\", \"Pos\": \"SG\", \"Age\": 25, \"Tm\": \"ATL\", \"G\": 2, \"MP\": 17, \"PER\": -7.1, \"TS%\": 0.0, \"3PAr\": 0.429, \"FTr\": 0.0, \"ORB%\": 0.0, \"DRB%\": 12.8, \"TRB%\": 6.3, \"AST%\": 21.1, \"STL%\": 2.7, \"BLK%\": 0.0, \"TOV%\": 0.0, \"USG%\": -0.21508560296672127, \"OWS\": -0.1, \"DWS\": 0.0, \"WS\": -0.1, \"WS/48\": -0.32, \"OBPM\": -12.3, \"DBPM\": -1.5, \"BPM\": -2.9165273452696017, \"VORP\": -0.1, \"pred\": 22, \"pred1\": 22, \"pred2\": 22, \"pred3\": 24, \"pred4\": 24, \"pred5\": 24, \"pred6\": 24, \"pred7\": 22, \"pred8\": 22, \"pred9\": 22}, {\"Player\": \"Paul Watson\", \"Pos\": \"SF\", \"Age\": 25, \"Tm\": \"TOR\", \"G\": 8, \"MP\": 70, \"PER\": 17.3, \"TS%\": 0.675, \"3PAr\": 0.474, \"FTr\": 0.474, \"ORB%\": 3.1, \"DRB%\": 19.2, \"TRB%\": 11.3, \"AST%\": 10.3, \"STL%\": 2.0, \"BLK%\": 1.4, \"TOV%\": 11.6, \"USG%\": -0.42815290329337957, \"OWS\": 0.2, \"DWS\": 0.1, \"WS\": 0.3, \"WS/48\": 0.198, \"OBPM\": 1.4, \"DBPM\": 1.4, \"BPM\": 1.1245039301940236, \"VORP\": 0.1, \"pred\": 25, \"pred1\": 25, \"pred2\": 25, \"pred3\": 25, \"pred4\": 22, \"pred5\": 22, \"pred6\": 25, \"pred7\": 25, \"pred8\": 25, \"pred9\": 25}, {\"Player\": \"Quinndary Weatherspoon\", \"Pos\": \"SG\", \"Age\": 23, \"Tm\": \"SAS\", \"G\": 11, \"MP\": 78, \"PER\": 3.2, \"TS%\": 0.336, \"3PAr\": 0.294, \"FTr\": 0.118, \"ORB%\": 1.4, \"DRB%\": 8.3, \"TRB%\": 4.8, \"AST%\": 17.5, \"STL%\": 1.8, \"BLK%\": 1.1, \"TOV%\": 21.9, \"USG%\": -0.9963323708311347, \"OWS\": -0.2, \"DWS\": 0.0, \"WS\": -0.1, \"WS/48\": -0.071, \"OBPM\": -6.4, \"DBPM\": -1.0, \"BPM\": -1.3530331017866515, \"VORP\": -0.1, \"pred\": 23, \"pred1\": 23, \"pred2\": 23, \"pred3\": 23, \"pred4\": 23, \"pred5\": 23, \"pred6\": 22, \"pred7\": 22, \"pred8\": 26, \"pred9\": 22}, {\"Player\": \"Russell Westbrook\", \"Pos\": \"PG\", \"Age\": 31, \"Tm\": \"HOU\", \"G\": 57, \"MP\": 2049, \"PER\": 21.0, \"TS%\": 0.536, \"3PAr\": 0.166, \"FTr\": 0.297, \"ORB%\": 5.1, \"DRB%\": 18.1, \"TRB%\": 11.5, \"AST%\": 35.6, \"STL%\": 2.1, \"BLK%\": 0.8, \"TOV%\": 15.0, \"USG%\": 2.8566346434092655, \"OWS\": 1.7, \"DWS\": 2.5, \"WS\": 4.2, \"WS/48\": 0.098, \"OBPM\": 1.6, \"DBPM\": -0.1, \"BPM\": 0.7877513239053882, \"VORP\": 1.8, \"pred\": 31, \"pred1\": 31, \"pred2\": 26, \"pred3\": 31, \"pred4\": 31, \"pred5\": 31, \"pred6\": 31, \"pred7\": 31, \"pred8\": 31, \"pred9\": 31}, {\"Player\": \"Coby White\", \"Pos\": \"SG\", \"Age\": 19, \"Tm\": \"CHI\", \"G\": 65, \"MP\": 1674, \"PER\": 11.9, \"TS%\": 0.506, \"3PAr\": 0.475, \"FTr\": 0.163, \"ORB%\": 1.8, \"DRB%\": 14.0, \"TRB%\": 7.6, \"AST%\": 16.5, \"STL%\": 1.4, \"BLK%\": 0.3, \"TOV%\": 11.4, \"USG%\": 1.0810738073537816, \"OWS\": -0.5, \"DWS\": 1.4, \"WS\": 0.9, \"WS/48\": 0.026, \"OBPM\": -1.2, \"DBPM\": -1.6, \"BPM\": -0.2465602525525635, \"VORP\": -0.4, \"pred\": 31, \"pred1\": 31, \"pred2\": 24, \"pred3\": 24, \"pred4\": 20, \"pred5\": 20, \"pred6\": 20, \"pred7\": 20, \"pred8\": 20, \"pred9\": 20}, {\"Player\": \"Derrick White\", \"Pos\": \"SG\", \"Age\": 25, \"Tm\": \"SAS\", \"G\": 68, \"MP\": 1677, \"PER\": 16.4, \"TS%\": 0.593, \"3PAr\": 0.391, \"FTr\": 0.382, \"ORB%\": 2.3, \"DRB%\": 12.1, \"TRB%\": 7.2, \"AST%\": 20.0, \"STL%\": 1.3, \"BLK%\": 3.1, \"TOV%\": 12.1, \"USG%\": 0.10451534752326536, \"OWS\": 3.1, \"DWS\": 1.1, \"WS\": 4.2, \"WS/48\": 0.119, \"OBPM\": 1.2, \"DBPM\": 0.1, \"BPM\": 0.7396438087212974, \"VORP\": 1.4, \"pred\": 25, \"pred1\": 25, \"pred2\": 25, \"pred3\": 25, \"pred4\": 25, \"pred5\": 25, \"pred6\": 25, \"pred7\": 22, \"pred8\": 22, \"pred9\": 22}, {\"Player\": \"Hassan Whiteside\", \"Pos\": \"C\", \"Age\": 30, \"Tm\": \"POR\", \"G\": 67, \"MP\": 2008, \"PER\": 25.0, \"TS%\": 0.644, \"3PAr\": 0.01, \"FTr\": 0.34, \"ORB%\": 13.6, \"DRB%\": 33.3, \"TRB%\": 23.6, \"AST%\": 5.9, \"STL%\": 0.6, \"BLK%\": 8.4, \"TOV%\": 12.9, \"USG%\": 0.22880460604714975, \"OWS\": 5.6, \"DWS\": 3.0, \"WS\": 8.5, \"WS/48\": 0.204, \"OBPM\": 2.5, \"DBPM\": 0.7, \"BPM\": 1.1966652029701597, \"VORP\": 2.6, \"pred\": 30, \"pred1\": 30, \"pred2\": 23, \"pred3\": 23, \"pred4\": 23, \"pred5\": 23, \"pred6\": 22, \"pred7\": 22, \"pred8\": 22, \"pred9\": 22}, {\"Player\": \"Andrew Wiggins\", \"Pos\": \"SF-SG\", \"Age\": 24, \"Tm\": \"TOT\", \"G\": 54, \"MP\": 1858, \"PER\": 16.4, \"TS%\": 0.536, \"3PAr\": 0.342, \"FTr\": 0.274, \"ORB%\": 3.6, \"DRB%\": 12.3, \"TRB%\": 7.8, \"AST%\": 18.1, \"STL%\": 1.1, \"BLK%\": 2.4, \"TOV%\": 10.7, \"USG%\": 1.613742058170427, \"OWS\": 0.8, \"DWS\": 1.1, \"WS\": 1.9, \"WS/48\": 0.05, \"OBPM\": 1.1, \"DBPM\": -1.4, \"BPM\": 0.3547836872485712, \"VORP\": 0.8, \"pred\": 24, \"pred1\": 24, \"pred2\": 24, \"pred3\": 24, \"pred4\": 24, \"pred5\": 24, \"pred6\": 24, \"pred7\": 24, \"pred8\": 24, \"pred9\": 24}, {\"Player\": \"Andrew Wiggins\", \"Pos\": \"SF\", \"Age\": 24, \"Tm\": \"MIN\", \"G\": 42, \"MP\": 1455, \"PER\": 16.1, \"TS%\": 0.535, \"3PAr\": 0.348, \"FTr\": 0.262, \"ORB%\": 3.4, \"DRB%\": 12.9, \"TRB%\": 7.9, \"AST%\": 18.1, \"STL%\": 0.9, \"BLK%\": 2.1, \"TOV%\": 10.8, \"USG%\": 1.720275708333756, \"OWS\": 0.6, \"DWS\": 0.8, \"WS\": 1.4, \"WS/48\": 0.046, \"OBPM\": 1.1, \"DBPM\": -1.5, \"BPM\": 0.33072992965652576, \"VORP\": 0.6, \"pred\": 24, \"pred1\": 24, \"pred2\": 24, \"pred3\": 24, \"pred4\": 24, \"pred5\": 24, \"pred6\": 24, \"pred7\": 24, \"pred8\": 24, \"pred9\": 23}, {\"Player\": \"Andrew Wiggins\", \"Pos\": \"SG\", \"Age\": 24, \"Tm\": \"GSW\", \"G\": 12, \"MP\": 403, \"PER\": 17.5, \"TS%\": 0.542, \"3PAr\": 0.314, \"FTr\": 0.324, \"ORB%\": 4.7, \"DRB%\": 10.3, \"TRB%\": 7.4, \"AST%\": 18.2, \"STL%\": 1.9, \"BLK%\": 3.8, \"TOV%\": 10.4, \"USG%\": 1.25862989095933, \"OWS\": 0.2, \"DWS\": 0.3, \"WS\": 0.5, \"WS/48\": 0.064, \"OBPM\": 0.9, \"DBPM\": -1.1, \"BPM\": 0.3788374448406166, \"VORP\": 0.2, \"pred\": 24, \"pred1\": 24, \"pred2\": 24, \"pred3\": 24, \"pred4\": 24, \"pred5\": 28, \"pred6\": 24, \"pred7\": 24, \"pred8\": 24, \"pred9\": 28}, {\"Player\": \"Grant Williams\", \"Pos\": \"PF\", \"Age\": 21, \"Tm\": \"BOS\", \"G\": 69, \"MP\": 1043, \"PER\": 7.9, \"TS%\": 0.505, \"3PAr\": 0.455, \"FTr\": 0.256, \"ORB%\": 6.1, \"DRB%\": 12.1, \"TRB%\": 9.1, \"AST%\": 8.5, \"STL%\": 1.4, \"BLK%\": 3.2, \"TOV%\": 17.6, \"USG%\": -1.1916440627972378, \"OWS\": 0.1, \"DWS\": 1.4, \"WS\": 1.6, \"WS/48\": 0.071, \"OBPM\": -4.1, \"DBPM\": 1.4, \"BPM\": -0.2225064949605182, \"VORP\": -0.2, \"pred\": 21, \"pred1\": 21, \"pred2\": 20, \"pred3\": 20, \"pred4\": 20, \"pred5\": 34, \"pred6\": 34, \"pred7\": 22, \"pred8\": 22, \"pred9\": 22}, {\"Player\": \"Johnathan Williams\", \"Pos\": \"C\", \"Age\": 24, \"Tm\": \"WAS\", \"G\": 15, \"MP\": 180, \"PER\": 14.0, \"TS%\": 0.566, \"3PAr\": 0.059, \"FTr\": 0.382, \"ORB%\": 14.0, \"DRB%\": 25.3, \"TRB%\": 19.4, \"AST%\": 5.9, \"STL%\": 0.3, \"BLK%\": 3.9, \"TOV%\": 11.2, \"USG%\": -1.4224669714844507, \"OWS\": 0.3, \"DWS\": 0.1, \"WS\": 0.4, \"WS/48\": 0.109, \"OBPM\": -0.8, \"DBPM\": -1.4, \"BPM\": -0.10223770700029125, \"VORP\": 0.0, \"pred\": 27, \"pred1\": 27, \"pred2\": 25, \"pred3\": 25, \"pred4\": 25, \"pred5\": 25, \"pred6\": 25, \"pred7\": 25, \"pred8\": 25, \"pred9\": 25}, {\"Player\": \"Kenrich Williams\", \"Pos\": \"PF\", \"Age\": 25, \"Tm\": \"NOP\", \"G\": 39, \"MP\": 832, \"PER\": 7.5, \"TS%\": 0.429, \"3PAr\": 0.66, \"FTr\": 0.177, \"ORB%\": 6.5, \"DRB%\": 17.3, \"TRB%\": 11.9, \"AST%\": 8.4, \"STL%\": 1.5, \"BLK%\": 2.1, \"TOV%\": 12.2, \"USG%\": -1.6710454885322183, \"OWS\": 0.1, \"DWS\": 0.8, \"WS\": 0.9, \"WS/48\": 0.05, \"OBPM\": -3.4, \"DBPM\": 0.9, \"BPM\": -0.15034522218438195, \"VORP\": -0.1, \"pred\": 27, \"pred1\": 27, \"pred2\": 27, \"pred3\": 25, \"pred4\": 25, \"pred5\": 25, \"pred6\": 25, \"pred7\": 25, \"pred8\": 25, \"pred9\": 25}, {\"Player\": \"Lou Williams\", \"Pos\": \"SG\", \"Age\": 33, \"Tm\": \"LAC\", \"G\": 65, \"MP\": 1864, \"PER\": 17.3, \"TS%\": 0.546, \"3PAr\": 0.337, \"FTr\": 0.362, \"ORB%\": 1.8, \"DRB%\": 9.2, \"TRB%\": 5.6, \"AST%\": 30.1, \"STL%\": 1.1, \"BLK%\": 0.6, \"TOV%\": 14.4, \"USG%\": 1.7912981417759752, \"OWS\": 2.3, \"DWS\": 1.8, \"WS\": 4.1, \"WS/48\": 0.105, \"OBPM\": 2.2, \"DBPM\": -1.4, \"BPM\": 0.6193750207610704, \"VORP\": 1.3, \"pred\": 33, \"pred1\": 33, \"pred2\": 23, \"pred3\": 23, \"pred4\": 23, \"pred5\": 23, \"pred6\": 23, \"pred7\": 23, \"pred8\": 26, \"pred9\": 26}, {\"Player\": \"Marvin Williams\", \"Pos\": \"PF\", \"Age\": 33, \"Tm\": \"TOT\", \"G\": 58, \"MP\": 1129, \"PER\": 11.2, \"TS%\": 0.587, \"3PAr\": 0.584, \"FTr\": 0.213, \"ORB%\": 2.8, \"DRB%\": 14.3, \"TRB%\": 8.5, \"AST%\": 7.6, \"STL%\": 1.6, \"BLK%\": 2.4, \"TOV%\": 10.2, \"USG%\": -1.0318435875522443, \"OWS\": 1.1, \"DWS\": 1.3, \"WS\": 2.4, \"WS/48\": 0.102, \"OBPM\": -1.6, \"DBPM\": 1.0, \"BPM\": 0.282622414472435, \"VORP\": 0.4, \"pred\": 25, \"pred1\": 25, \"pred2\": 25, \"pred3\": 25, \"pred4\": 25, \"pred5\": 25, \"pred6\": 34, \"pred7\": 34, \"pred8\": 34, \"pred9\": 34}, {\"Player\": \"Marvin Williams\", \"Pos\": \"PF\", \"Age\": 33, \"Tm\": \"CHO\", \"G\": 41, \"MP\": 808, \"PER\": 11.8, \"TS%\": 0.593, \"3PAr\": 0.557, \"FTr\": 0.238, \"ORB%\": 2.0, \"DRB%\": 13.2, \"TRB%\": 7.4, \"AST%\": 7.8, \"STL%\": 1.6, \"BLK%\": 2.5, \"TOV%\": 9.7, \"USG%\": -0.7655094621439216, \"OWS\": 0.8, \"DWS\": 0.6, \"WS\": 1.5, \"WS/48\": 0.087, \"OBPM\": -1.6, \"DBPM\": 0.4, \"BPM\": 0.11424611132811728, \"VORP\": 0.1, \"pred\": 33, \"pred1\": 33, \"pred2\": 23, \"pred3\": 33, \"pred4\": 33, \"pred5\": 24, \"pred6\": 24, \"pred7\": 24, \"pred8\": 24, \"pred9\": 24}, {\"Player\": \"Marvin Williams\", \"Pos\": \"PF\", \"Age\": 33, \"Tm\": \"MIL\", \"G\": 17, \"MP\": 321, \"PER\": 9.8, \"TS%\": 0.566, \"3PAr\": 0.684, \"FTr\": 0.123, \"ORB%\": 4.9, \"DRB%\": 17.1, \"TRB%\": 11.4, \"AST%\": 7.2, \"STL%\": 1.4, \"BLK%\": 2.2, \"TOV%\": 11.8, \"USG%\": -1.7065567052533284, \"OWS\": 0.3, \"DWS\": 0.6, \"WS\": 0.9, \"WS/48\": 0.139, \"OBPM\": -1.6, \"DBPM\": 2.5, \"BPM\": 0.6434287783531158, \"VORP\": 0.2, \"pred\": 22, \"pred1\": 22, \"pred2\": 22, \"pred3\": 22, \"pred4\": 22, \"pred5\": 22, \"pred6\": 22, \"pred7\": 22, \"pred8\": 22, \"pred9\": 22}, {\"Player\": \"Robert Williams\", \"Pos\": \"C\", \"Age\": 22, \"Tm\": \"BOS\", \"G\": 29, \"MP\": 388, \"PER\": 23.1, \"TS%\": 0.728, \"3PAr\": 0.0, \"FTr\": 0.386, \"ORB%\": 11.2, \"DRB%\": 24.0, \"TRB%\": 17.7, \"AST%\": 10.1, \"STL%\": 2.7, \"BLK%\": 8.4, \"TOV%\": 16.9, \"USG%\": -0.836531895586141, \"OWS\": 1.1, \"DWS\": 1.0, \"WS\": 2.0, \"WS/48\": 0.253, \"OBPM\": 0.8, \"DBPM\": 4.3, \"BPM\": 1.653686597219022, \"VORP\": 0.7, \"pred\": 31, \"pred1\": 31, \"pred2\": 21, \"pred3\": 21, \"pred4\": 21, \"pred5\": 21, \"pred6\": 21, \"pred7\": 21, \"pred8\": 27, \"pred9\": 25}, {\"Player\": \"Nigel Williams-Goss\", \"Pos\": \"PG\", \"Age\": 25, \"Tm\": \"UTA\", \"G\": 10, \"MP\": 50, \"PER\": 8.1, \"TS%\": 0.415, \"3PAr\": 0.438, \"FTr\": 0.125, \"ORB%\": 4.6, \"DRB%\": 8.5, \"TRB%\": 6.6, \"AST%\": 16.4, \"STL%\": 2.9, \"BLK%\": 1.7, \"TOV%\": 15.1, \"USG%\": -0.16181877788505725, \"OWS\": -0.1, \"DWS\": 0.1, \"WS\": 0.0, \"WS/48\": 0.017, \"OBPM\": -5.2, \"DBPM\": 1.3, \"BPM\": -0.5111515860650627, \"VORP\": 0.0, \"pred\": 20, \"pred1\": 20, \"pred2\": 20, \"pred3\": 20, \"pred4\": 20, \"pred5\": 20, \"pred6\": 20, \"pred7\": 20, \"pred8\": 20, \"pred9\": 20}, {\"Player\": \"Zion Williamson\", \"Pos\": \"PF\", \"Age\": 19, \"Tm\": \"NOP\", \"G\": 24, \"MP\": 668, \"PER\": 24.1, \"TS%\": 0.616, \"3PAr\": 0.039, \"FTr\": 0.494, \"ORB%\": 10.1, \"DRB%\": 13.7, \"TRB%\": 11.9, \"AST%\": 13.3, \"STL%\": 1.1, \"BLK%\": 1.1, \"TOV%\": 11.9, \"USG%\": 2.1641659173476273, \"OWS\": 1.5, \"DWS\": 0.4, \"WS\": 2.0, \"WS/48\": 0.141, \"OBPM\": 3.5, \"DBPM\": -1.4, \"BPM\": 0.9320738694576606, \"VORP\": 0.7, \"pred\": 19, \"pred1\": 19, \"pred2\": 19, \"pred3\": 19, \"pred4\": 19, \"pred5\": 19, \"pred6\": 19, \"pred7\": 26, \"pred8\": 22, \"pred9\": 22}, {\"Player\": \"D.J. Wilson\", \"Pos\": \"PF\", \"Age\": 23, \"Tm\": \"MIL\", \"G\": 37, \"MP\": 363, \"PER\": 8.2, \"TS%\": 0.475, \"3PAr\": 0.553, \"FTr\": 0.136, \"ORB%\": 3.5, \"DRB%\": 20.5, \"TRB%\": 12.5, \"AST%\": 9.1, \"STL%\": 0.4, \"BLK%\": 1.2, \"TOV%\": 12.0, \"USG%\": -0.03752951936117286, \"OWS\": -0.3, \"DWS\": 0.6, \"WS\": 0.3, \"WS/48\": 0.046, \"OBPM\": -4.1, \"DBPM\": 0.1, \"BPM\": -0.5352053436571083, \"VORP\": -0.2, \"pred\": 23, \"pred1\": 23, \"pred2\": 21, \"pred3\": 20, \"pred4\": 20, \"pred5\": 20, \"pred6\": 20, \"pred7\": 20, \"pred8\": 20, \"pred9\": 22}, {\"Player\": \"Justise Winslow\", \"Pos\": \"SF\", \"Age\": 23, \"Tm\": \"MIA\", \"G\": 11, \"MP\": 352, \"PER\": 8.5, \"TS%\": 0.44, \"3PAr\": 0.209, \"FTr\": 0.209, \"ORB%\": 5.3, \"DRB%\": 17.5, \"TRB%\": 11.6, \"AST%\": 18.7, \"STL%\": 1.0, \"BLK%\": 1.4, \"TOV%\": 14.6, \"USG%\": 0.40636068965269817, \"OWS\": -0.4, \"DWS\": 0.4, \"WS\": 0.0, \"WS/48\": -0.004, \"OBPM\": -3.5, \"DBPM\": 0.0, \"BPM\": -0.41493655569688126, \"VORP\": -0.1, \"pred\": 23, \"pred1\": 23, \"pred2\": 19, \"pred3\": 19, \"pred4\": 19, \"pred5\": 23, \"pred6\": 23, \"pred7\": 23, \"pred8\": 23, \"pred9\": 23}, {\"Player\": \"Christian Wood\", \"Pos\": \"PF\", \"Age\": 24, \"Tm\": \"DET\", \"G\": 62, \"MP\": 1325, \"PER\": 23.2, \"TS%\": 0.659, \"3PAr\": 0.276, \"FTr\": 0.476, \"ORB%\": 8.8, \"DRB%\": 24.8, \"TRB%\": 16.7, \"AST%\": 7.6, \"STL%\": 1.3, \"BLK%\": 3.4, \"TOV%\": 12.0, \"USG%\": 0.8324952903060141, \"OWS\": 3.6, \"DWS\": 1.5, \"WS\": 5.1, \"WS/48\": 0.183, \"OBPM\": 3.5, \"DBPM\": -0.3, \"BPM\": 1.1726114453781145, \"VORP\": 1.7, \"pred\": 24, \"pred1\": 24, \"pred2\": 24, \"pred3\": 22, \"pred4\": 22, \"pred5\": 24, \"pred6\": 22, \"pred7\": 22, \"pred8\": 22, \"pred9\": 22}, {\"Player\": \"Delon Wright\", \"Pos\": \"SG\", \"Age\": 27, \"Tm\": \"DAL\", \"G\": 73, \"MP\": 1570, \"PER\": 15.4, \"TS%\": 0.554, \"3PAr\": 0.309, \"FTr\": 0.243, \"ORB%\": 4.7, \"DRB%\": 13.8, \"TRB%\": 9.4, \"AST%\": 21.0, \"STL%\": 2.6, \"BLK%\": 1.2, \"TOV%\": 13.8, \"USG%\": -0.6944870287017022, \"OWS\": 2.6, \"DWS\": 1.8, \"WS\": 4.4, \"WS/48\": 0.134, \"OBPM\": 0.0, \"DBPM\": 1.8, \"BPM\": 0.8839663542735697, \"VORP\": 1.5, \"pred\": 27, \"pred1\": 27, \"pred2\": 27, \"pred3\": 27, \"pred4\": 27, \"pred5\": 27, \"pred6\": 27, \"pred7\": 27, \"pred8\": 27, \"pred9\": 27}, {\"Player\": \"Justin Wright-Foreman\", \"Pos\": \"PG\", \"Age\": 22, \"Tm\": \"UTA\", \"G\": 4, \"MP\": 45, \"PER\": 8.8, \"TS%\": 0.437, \"3PAr\": 0.5, \"FTr\": 0.2, \"ORB%\": 0.0, \"DRB%\": 11.8, \"TRB%\": 6.1, \"AST%\": 23.0, \"STL%\": 2.2, \"BLK%\": 0.0, \"TOV%\": 12.1, \"USG%\": 1.0278069822721176, \"OWS\": -0.1, \"DWS\": 0.1, \"WS\": 0.0, \"WS/48\": -0.008, \"OBPM\": -7.0, \"DBPM\": -2.0, \"BPM\": -1.7378932232593778, \"VORP\": -0.1, \"pred\": 22, \"pred1\": 22, \"pred2\": 22, \"pred3\": 22, \"pred4\": 22, \"pred5\": 22, \"pred6\": 22, \"pred7\": 22, \"pred8\": 22, \"pred9\": 22}, {\"Player\": \"Thaddeus Young\", \"Pos\": \"PF\", \"Age\": 31, \"Tm\": \"CHI\", \"G\": 64, \"MP\": 1591, \"PER\": 13.3, \"TS%\": 0.521, \"3PAr\": 0.369, \"FTr\": 0.12, \"ORB%\": 6.2, \"DRB%\": 16.1, \"TRB%\": 10.9, \"AST%\": 11.3, \"STL%\": 2.8, \"BLK%\": 1.4, \"TOV%\": 13.9, \"USG%\": 0.24656021440770423, \"OWS\": -0.2, \"DWS\": 2.1, \"WS\": 1.9, \"WS/48\": 0.058, \"OBPM\": -1.4, \"DBPM\": 0.2, \"BPM\": 0.1382998689201627, \"VORP\": 0.3, \"pred\": 31, \"pred1\": 31, \"pred2\": 24, \"pred3\": 24, \"pred4\": 31, \"pred5\": 31, \"pred6\": 31, \"pred7\": 31, \"pred8\": 31, \"pred9\": 31}, {\"Player\": \"Trae Young\", \"Pos\": \"PG\", \"Age\": 21, \"Tm\": \"ATL\", \"G\": 60, \"MP\": 2120, \"PER\": 23.9, \"TS%\": 0.595, \"3PAr\": 0.455, \"FTr\": 0.448, \"ORB%\": 1.6, \"DRB%\": 11.5, \"TRB%\": 6.5, \"AST%\": 45.6, \"STL%\": 1.4, \"BLK%\": 0.3, \"TOV%\": 16.2, \"USG%\": 2.94541268521204, \"OWS\": 5.3, \"DWS\": 0.6, \"WS\": 5.9, \"WS/48\": 0.133, \"OBPM\": 6.2, \"DBPM\": -2.3, \"BPM\": 1.3650415061144776, \"VORP\": 3.1, \"pred\": 31, \"pred1\": 31, \"pred2\": 26, \"pred3\": 25, \"pred4\": 31, \"pred5\": 26, \"pred6\": 31, \"pred7\": 31, \"pred8\": 31, \"pred9\": 31}, {\"Player\": \"Cody Zeller\", \"Pos\": \"C\", \"Age\": 27, \"Tm\": \"CHO\", \"G\": 58, \"MP\": 1341, \"PER\": 18.8, \"TS%\": 0.576, \"3PAr\": 0.157, \"FTr\": 0.374, \"ORB%\": 12.6, \"DRB%\": 21.2, \"TRB%\": 16.7, \"AST%\": 11.3, \"STL%\": 1.5, \"BLK%\": 1.7, \"TOV%\": 11.9, \"USG%\": 0.44187190637380774, \"OWS\": 2.3, \"DWS\": 1.3, \"WS\": 3.6, \"WS/48\": 0.129, \"OBPM\": 0.2, \"DBPM\": -0.8, \"BPM\": 0.282622414472435, \"VORP\": 0.5, \"pred\": 27, \"pred1\": 27, \"pred2\": 26, \"pred3\": 27, \"pred4\": 27, \"pred5\": 27, \"pred6\": 27, \"pred7\": 27, \"pred8\": 27, \"pred9\": 27}, {\"Player\": \"Tyler Zeller\", \"Pos\": \"C\", \"Age\": 30, \"Tm\": \"SAS\", \"G\": 2, \"MP\": 4, \"PER\": 22.4, \"TS%\": 0.25, \"3PAr\": 0.0, \"FTr\": 0.0, \"ORB%\": 80.9, \"DRB%\": 26.9, \"TRB%\": 53.9, \"AST%\": 0.0, \"STL%\": 0.0, \"BLK%\": 0.0, \"TOV%\": 0.0, \"USG%\": 4.4191281791380925, \"OWS\": 0.0, \"DWS\": 0.0, \"WS\": 0.0, \"WS/48\": -0.075, \"OBPM\": -0.3, \"DBPM\": -22.1, \"BPM\": -4.961096740593459, \"VORP\": 0.0, \"pred\": 30, \"pred1\": 30, \"pred2\": 22, \"pred3\": 22, \"pred4\": 22, \"pred5\": 22, \"pred6\": 22, \"pred7\": 22, \"pred8\": 22, \"pred9\": 22}, {\"Player\": \"Ante \\u017di\\u017ei\\u0107\", \"Pos\": \"C\", \"Age\": 23, \"Tm\": \"CLE\", \"G\": 22, \"MP\": 221, \"PER\": 16.4, \"TS%\": 0.597, \"3PAr\": 0.0, \"FTr\": 0.264, \"ORB%\": 9.0, \"DRB%\": 24.4, \"TRB%\": 16.6, \"AST%\": 4.2, \"STL%\": 1.5, \"BLK%\": 1.9, \"TOV%\": 11.1, \"USG%\": -0.14406316952450215, \"OWS\": 0.3, \"DWS\": 0.2, \"WS\": 0.5, \"WS/48\": 0.106, \"OBPM\": -1.7, \"DBPM\": -1.5, \"BPM\": -0.3427752829207451, \"VORP\": -0.1, \"pred\": 23, \"pred1\": 23, \"pred2\": 23, \"pred3\": 22, \"pred4\": 22, \"pred5\": 22, \"pred6\": 27, \"pred7\": 27, \"pred8\": 27, \"pred9\": 27}, {\"Player\": \"Ivica Zubac\", \"Pos\": \"C\", \"Age\": 22, \"Tm\": \"LAC\", \"G\": 72, \"MP\": 1326, \"PER\": 21.7, \"TS%\": 0.651, \"3PAr\": 0.005, \"FTr\": 0.431, \"ORB%\": 15.9, \"DRB%\": 26.4, \"TRB%\": 21.3, \"AST%\": 9.1, \"STL%\": 0.6, \"BLK%\": 4.4, \"TOV%\": 11.8, \"USG%\": -0.3393748614906057, \"OWS\": 4.4, \"DWS\": 2.3, \"WS\": 6.6, \"WS/48\": 0.241, \"OBPM\": 1.9, \"DBPM\": 0.8, \"BPM\": 1.1004501726019782, \"VORP\": 1.6, \"pred\": 22, \"pred1\": 22, \"pred2\": 22, \"pred3\": 22, \"pred4\": 22, \"pred5\": 22, \"pred6\": 22, \"pred7\": 33, \"pred8\": 33, \"pred9\": 33}]}}, {\"mode\": \"vega-lite\"});\n",
       "</script>"
      ],
      "text/plain": [
       "alt.VConcatChart(...)"
      ]
     },
     "execution_count": 14,
     "metadata": {},
     "output_type": "execute_result"
    }
   ],
   "source": [
    "alt.vconcat(*[make_chart(k) for k in range(1,10)])\n"
   ]
  },
  {
   "cell_type": "markdown",
   "metadata": {
    "cell_id": "00027-3d18d49a-f6be-45fa-9fc5-e5a21be6e08d",
    "deepnote_cell_height": 111.5,
    "deepnote_cell_type": "markdown",
    "tags": []
   },
   "source": [
    "Below I will now attempt to create a boxplot for all players' age, box plus/minus, and usage rate. I will include how to read a boxplot\n",
    "\n",
    "Minimum: Smallest number in the dataset.\n",
    "First quartile: Middle number between the minimum and the median.\n",
    "Second quartile (Median): Middle number of the (sorted) dataset.\n",
    "Third quartile: Middle number between median and maximum.\n",
    "Maximum: Highest number in the dataset."
   ]
  },
  {
   "cell_type": "markdown",
   "metadata": {
    "cell_id": "40b8e5d3-1da8-4388-88bb-160638a50513",
    "deepnote_cell_height": 52.69999694824219,
    "deepnote_cell_type": "markdown",
    "tags": []
   },
   "source": [
    "The boxplot below shows that the average age of NBA players is roughly 25 years. With outliers like Jamal Crawford being age 43."
   ]
  },
  {
   "cell_type": "code",
   "execution_count": null,
   "metadata": {
    "cell_id": "00028-f5db5f9f-b8a3-4218-aab6-325a6ab52b42",
    "deepnote_cell_height": 347.45001220703125,
    "deepnote_cell_type": "code",
    "deepnote_output_heights": [
     250
    ],
    "deepnote_to_be_reexecuted": false,
    "execution_millis": 1380,
    "execution_start": 1647314445171,
    "source_hash": "bdd1b92f",
    "tags": []
   },
   "outputs": [
    {
     "data": {
      "image/png": "[encoded data removed]",
      "text/plain": [
       "<Figure size 432x288 with 1 Axes>"
      ]
     },
     "metadata": {
      "filenames": {
       "image/png": "/Users/christopherdavis/Documents/GitHub/UCI-Math-10-W22/_build/jupyter_execute/Proj/StudentProjects/RexKim_28_0.png"
      },
      "image/png": {
       "height": 248,
       "width": 368
      },
      "needs_background": "light"
     },
     "output_type": "display_data"
    }
   ],
   "source": [
    "ageBoxPlot = df.boxplot(column=['Age'])  "
   ]
  },
  {
   "cell_type": "markdown",
   "metadata": {
    "cell_id": "79f26772-33a7-4a46-bdb5-b32328965f1f",
    "deepnote_cell_height": 75.10000610351562,
    "deepnote_cell_type": "markdown",
    "tags": []
   },
   "source": [
    "The boxplot below measures all NBA players box plus/minus. The lower the box plus/minus the lesser the player actually performs in game and contributes to winning. This isn't exactly the best representation of NBA players as Jamal Crawford only played 6 total minutes this recorded season. "
   ]
  },
  {
   "cell_type": "code",
   "execution_count": null,
   "metadata": {
    "cell_id": "00029-f238ebf2-55ea-421b-a7bf-66afa66a2565",
    "deepnote_cell_height": 347.45001220703125,
    "deepnote_cell_type": "code",
    "deepnote_output_heights": [
     250
    ],
    "deepnote_to_be_reexecuted": false,
    "execution_millis": 377,
    "execution_start": 1647314446553,
    "source_hash": "2c62c384",
    "tags": []
   },
   "outputs": [
    {
     "data": {
      "image/png": "[encoded data removed]",
      "text/plain": [
       "<Figure size 432x288 with 1 Axes>"
      ]
     },
     "metadata": {
      "filenames": {
       "image/png": "/Users/christopherdavis/Documents/GitHub/UCI-Math-10-W22/_build/jupyter_execute/Proj/StudentProjects/RexKim_30_0.png"
      },
      "image/png": {
       "height": 248,
       "width": 370
      },
      "needs_background": "light"
     },
     "output_type": "display_data"
    }
   ],
   "source": [
    "bpmBoxPlot = df.boxplot(column=['BPM'])  "
   ]
  },
  {
   "cell_type": "markdown",
   "metadata": {
    "cell_id": "8a3c4261-1010-4afb-86bb-b2b147a06bc0",
    "deepnote_cell_height": 122.69999694824219,
    "deepnote_cell_type": "markdown",
    "tags": []
   },
   "source": [
    "As k gets larger, there is lower variance and greater bias. This is how players like Tyler Zeller have such high usage rates despite playing such little minutes. "
   ]
  },
  {
   "cell_type": "code",
   "execution_count": null,
   "metadata": {
    "cell_id": "00030-aa89f504-2297-4c91-82b4-9d74f1994d3f",
    "deepnote_cell_height": 347.45001220703125,
    "deepnote_cell_type": "code",
    "deepnote_output_heights": [
     250
    ],
    "deepnote_to_be_reexecuted": false,
    "execution_millis": 258,
    "execution_start": 1647314446939,
    "source_hash": "2f83ab21",
    "tags": []
   },
   "outputs": [
    {
     "data": {
      "image/png": "[encoded data removed]",
      "text/plain": [
       "<Figure size 432x288 with 1 Axes>"
      ]
     },
     "metadata": {
      "filenames": {
       "image/png": "/Users/christopherdavis/Documents/GitHub/UCI-Math-10-W22/_build/jupyter_execute/Proj/StudentProjects/RexKim_32_0.png"
      },
      "image/png": {
       "height": 248,
       "width": 370
      },
      "needs_background": "light"
     },
     "output_type": "display_data"
    }
   ],
   "source": [
    "usgBoxPlot = df.boxplot(column=[\"USG%\"]) "
   ]
  },
  {
   "cell_type": "code",
   "execution_count": null,
   "metadata": {
    "cell_id": "00031-29dd194f-5639-4209-82a0-c51bf211117a",
    "deepnote_cell_height": 347.45001220703125,
    "deepnote_cell_type": "code",
    "deepnote_output_heights": [
     250
    ],
    "deepnote_to_be_reexecuted": false,
    "execution_millis": 227,
    "execution_start": 1647314447198,
    "source_hash": "f8fc6e50",
    "tags": []
   },
   "outputs": [
    {
     "data": {
      "image/png": "[encoded data removed]",
      "text/plain": [
       "<Figure size 432x288 with 1 Axes>"
      ]
     },
     "metadata": {
      "filenames": {
       "image/png": "/Users/christopherdavis/Documents/GitHub/UCI-Math-10-W22/_build/jupyter_execute/Proj/StudentProjects/RexKim_33_0.png"
      },
      "image/png": {
       "height": 248,
       "width": 368
      },
      "needs_background": "light"
     },
     "output_type": "display_data"
    }
   ],
   "source": [
    "boxplot = df.boxplot(column=[\"Age\",\"BPM\",\"USG%\"]) "
   ]
  },
  {
   "cell_type": "markdown",
   "metadata": {
    "cell_id": "00032-6aa50cdb-c955-43e9-bcf0-ad1a0196cdea",
    "deepnote_cell_height": 75.10000610351562,
    "deepnote_cell_type": "markdown",
    "tags": []
   },
   "source": [
    "I found that specifying age, BPM, and USG% by position and top 10 players in the NBA was somewhat difficult. The plots and altair charts above represent the idea that there are only a select few players whose advanced statistics still remain high despite aging. Players like Stephen Curry, Kevin Durant, and Lebron James are namely a few. "
   ]
  },
  {
   "cell_type": "markdown",
   "metadata": {
    "cell_id": "00033-b299d08f-a40c-44a9-abda-86c85091571c",
    "deepnote_cell_height": 131.10000610351562,
    "deepnote_cell_type": "markdown",
    "tags": []
   },
   "source": [
    "## Summary\n",
    "In the NBA, win shares are calculated using main stats. In this project, I tried to determine if a player's age of could be predicted by a player's usage rate(USG%) and box plus/minus. The models above show that with increased age, majority of players' USG% and BPM decrease significantly. "
   ]
  },
  {
   "cell_type": "markdown",
   "metadata": {
    "cell_id": "00034-04861079-c38d-4889-969c-8e419908bf53",
    "deepnote_cell_height": 108.69999694824219,
    "deepnote_cell_type": "markdown",
    "tags": []
   },
   "source": [
    "## References\n",
    "\n",
    "Include references that you found helpful.  Also say where you found the dataset you used."
   ]
  },
  {
   "cell_type": "markdown",
   "metadata": {
    "cell_id": "00035-73b72368-a328-44b4-942d-9c7cb651c773",
    "deepnote_cell_height": 89.10000610351562,
    "deepnote_cell_type": "markdown",
    "tags": []
   },
   "source": [
    "Information on pie charts and box plots\n",
    "https://deepnote.com/@a11s/Data-Visualisation-with-Python-EgfTyjpfS129FYXEnB2U7Q \n",
    "\n",
    "\n",
    "URL to dataset\n",
    "https://www.kaggle.com/nicklauskim/nba-per-game-stats-201920 "
   ]
  },
  {
   "cell_type": "markdown",
   "metadata": {
    "cell_id": "00036-cafc1546-39f1-43da-a600-7d15a4f44d59",
    "deepnote_cell_height": 46.30000305175781,
    "deepnote_cell_type": "markdown",
    "tags": []
   },
   "source": []
  },
  {
   "cell_type": "markdown",
   "metadata": {
    "created_in_deepnote_cell": true,
    "deepnote_cell_type": "markdown",
    "tags": []
   },
   "source": [
    "<a style='text-decoration:none;line-height:16px;display:flex;color:#5B5B62;padding:10px;justify-content:end;' href='https://deepnote.com?utm_source=created-in-deepnote-cell&projectId=abeeb5a2-9a64-4252-a853-c7a1924df0f6' target=\"_blank\">\n",
    "<img alt='Created in deepnote.com' style='display:inline;max-height:16px;margin:0px;margin-right:7.5px;' src='data:image/svg+xml;base64,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' > </img>\n",
    "Created in <span style='font-weight:600;margin-left:4px;'>Deepnote</span></a>"
   ]
  }
 ],
 "metadata": {
  "deepnote": {
   "is_reactive": false
  },
  "deepnote_execution_queue": [],
  "deepnote_notebook_id": "0c5d8abb-8281-4998-964e-555c1a0a1653",
  "kernelspec": {
   "display_name": "Python 3 (ipykernel)",
   "language": "python",
   "name": "python3"
  },
  "language_info": {
   "codemirror_mode": {
    "name": "ipython",
    "version": 3
   },
   "file_extension": ".py",
   "mimetype": "text/x-python",
   "name": "python",
   "nbconvert_exporter": "python",
   "pygments_lexer": "ipython3",
   "version": "3.8.12"
  }
 },
 "nbformat": 4,
 "nbformat_minor": 4
}