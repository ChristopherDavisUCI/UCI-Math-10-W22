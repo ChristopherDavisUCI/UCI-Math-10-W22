{
 "cells": [
  {
   "cell_type": "markdown",
   "metadata": {
    "cell_id": "098969f5-ac0d-4245-bbc2-f824edd4e15f",
    "deepnote_cell_height": 156,
    "deepnote_cell_type": "markdown",
    "tags": []
   },
   "source": [
    "# Project Title\n",
    "\n",
    "Author: Siyu Sun\n",
    "\n",
    "Course Project, UC Irvine, Math 10, W22"
   ]
  },
  {
   "cell_type": "markdown",
   "metadata": {
    "cell_id": "1232c27a-f5e2-426a-91e0-f6cfebd8a611",
    "deepnote_cell_height": 108,
    "deepnote_cell_type": "markdown",
    "tags": []
   },
   "source": [
    "## Introduction\n",
    "\n",
    "Introduce your project here.  About 3 sentences."
   ]
  },
  {
   "cell_type": "markdown",
   "metadata": {
    "cell_id": "0d43cdc9-6934-4b00-9028-db089bc4656a",
    "deepnote_cell_height": 96,
    "deepnote_cell_type": "markdown",
    "tags": []
   },
   "source": [
    "I import a dataset about sales of PS4 games around the world. I want to investigate basic information about the dataset for example, what is the most welcoming publisher and what is the genre with the highest sales.\n",
    "And is it possible for us to know genre type after we know its sales around the world?"
   ]
  },
  {
   "cell_type": "markdown",
   "metadata": {
    "cell_id": "5100f2c6-6407-41f2-9bb2-1a62540d8662",
    "deepnote_cell_height": 108,
    "deepnote_cell_type": "markdown",
    "tags": []
   },
   "source": [
    "## Main portion of the project\n",
    "\n",
    "(You can either have all one section or divide into multiple sections)"
   ]
  },
  {
   "cell_type": "code",
   "execution_count": null,
   "metadata": {
    "cell_id": "f5abdb20-9559-406f-8198-b14284b7b17f",
    "deepnote_cell_height": 117,
    "deepnote_cell_type": "code",
    "deepnote_to_be_reexecuted": false,
    "execution_millis": 144,
    "execution_start": 1647254997893,
    "source_hash": "7baafd37",
    "tags": []
   },
   "outputs": [],
   "source": [
    "import numpy as np\n",
    "import pandas as pd\n",
    "import altair as alt"
   ]
  },
  {
   "cell_type": "markdown",
   "metadata": {
    "cell_id": "5364cb92-846d-4dc1-948e-44a1c56a9efa",
    "deepnote_cell_height": 52,
    "deepnote_cell_type": "markdown",
    "tags": []
   },
   "source": [
    "This is the dataset that I am investigating"
   ]
  },
  {
   "cell_type": "code",
   "execution_count": null,
   "metadata": {
    "cell_id": "ac73e7dd-2608-4711-974f-53e774dc92d8",
    "deepnote_cell_height": 429,
    "deepnote_cell_type": "code",
    "deepnote_to_be_reexecuted": false,
    "execution_millis": 54,
    "execution_start": 1647254998039,
    "source_hash": "389122a1",
    "tags": []
   },
   "outputs": [
    {
     "data": {
      "application/vnd.deepnote.dataframe.v3+json": {
       "column_count": 9,
       "columns": [
        {
         "dtype": "object",
         "name": "Game",
         "stats": {
          "categories": [
           {
            "count": 1,
            "name": "Grand Theft Auto V"
           },
           {
            "count": 1,
            "name": "Call of Duty: Black Ops 3"
           },
           {
            "count": 3,
            "name": "3 others"
           }
          ],
          "nan_count": 0,
          "unique_count": 5
         }
        },
        {
         "dtype": "float64",
         "name": "Year",
         "stats": {
          "histogram": [
           {
            "bin_end": 2014.4,
            "bin_start": 2014,
            "count": 1
           },
           {
            "bin_end": 2014.8,
            "bin_start": 2014.4,
            "count": 0
           },
           {
            "bin_end": 2015.2,
            "bin_start": 2014.8,
            "count": 1
           },
           {
            "bin_end": 2015.6,
            "bin_start": 2015.2,
            "count": 0
           },
           {
            "bin_end": 2016,
            "bin_start": 2015.6,
            "count": 0
           },
           {
            "bin_end": 2016.4,
            "bin_start": 2016,
            "count": 0
           },
           {
            "bin_end": 2016.8,
            "bin_start": 2016.4,
            "count": 0
           },
           {
            "bin_end": 2017.2,
            "bin_start": 2016.8,
            "count": 2
           },
           {
            "bin_end": 2017.6,
            "bin_start": 2017.2,
            "count": 0
           },
           {
            "bin_end": 2018,
            "bin_start": 2017.6,
            "count": 1
           }
          ],
          "max": "2018.0",
          "min": "2014.0",
          "nan_count": 0,
          "unique_count": 4
         }
        },
        {
         "dtype": "object",
         "name": "Genre",
         "stats": {
          "categories": [
           {
            "count": 2,
            "name": "Shooter"
           },
           {
            "count": 1,
            "name": "Action"
           },
           {
            "count": 2,
            "name": "2 others"
           }
          ],
          "nan_count": 0,
          "unique_count": 4
         }
        },
        {
         "dtype": "object",
         "name": "Publisher",
         "stats": {
          "categories": [
           {
            "count": 2,
            "name": "Rockstar Games"
           },
           {
            "count": 2,
            "name": "Activision"
           },
           {
            "count": 1,
            "name": "EA Sports"
           }
          ],
          "nan_count": 0,
          "unique_count": 3
         }
        },
        {
         "dtype": "float64",
         "name": "North America",
         "stats": {
          "histogram": [
           {
            "bin_end": 1.7610000000000001,
            "bin_start": 1.27,
            "count": 1
           },
           {
            "bin_end": 2.252,
            "bin_start": 1.7610000000000001,
            "count": 0
           },
           {
            "bin_end": 2.743,
            "bin_start": 2.252,
            "count": 0
           },
           {
            "bin_end": 3.234,
            "bin_start": 2.743,
            "count": 0
           },
           {
            "bin_end": 3.725,
            "bin_start": 3.234,
            "count": 0
           },
           {
            "bin_end": 4.215999999999999,
            "bin_start": 3.725,
            "count": 0
           },
           {
            "bin_end": 4.707,
            "bin_start": 4.215999999999999,
            "count": 1
           },
           {
            "bin_end": 5.198,
            "bin_start": 4.707,
            "count": 0
           },
           {
            "bin_end": 5.689,
            "bin_start": 5.198,
            "count": 1
           },
           {
            "bin_end": 6.18,
            "bin_start": 5.689,
            "count": 2
           }
          ],
          "max": "6.18",
          "min": "1.27",
          "nan_count": 0,
          "unique_count": 5
         }
        },
        {
         "dtype": "float64",
         "name": "Europe",
         "stats": {
          "histogram": [
           {
            "bin_end": 6.416,
            "bin_start": 6.05,
            "count": 3
           },
           {
            "bin_end": 6.782,
            "bin_start": 6.416,
            "count": 0
           },
           {
            "bin_end": 7.148,
            "bin_start": 6.782,
            "count": 0
           },
           {
            "bin_end": 7.514,
            "bin_start": 7.148,
            "count": 0
           },
           {
            "bin_end": 7.880000000000001,
            "bin_start": 7.514,
            "count": 0
           },
           {
            "bin_end": 8.246,
            "bin_start": 7.880000000000001,
            "count": 0
           },
           {
            "bin_end": 8.612,
            "bin_start": 8.246,
            "count": 0
           },
           {
            "bin_end": 8.978000000000002,
            "bin_start": 8.612,
            "count": 1
           },
           {
            "bin_end": 9.344000000000001,
            "bin_start": 8.978000000000002,
            "count": 0
           },
           {
            "bin_end": 9.71,
            "bin_start": 9.344000000000001,
            "count": 1
           }
          ],
          "max": "9.71",
          "min": "6.05",
          "nan_count": 0,
          "unique_count": 4
         }
        },
        {
         "dtype": "float64",
         "name": "Japan",
         "stats": {
          "histogram": [
           {
            "bin_end": 0.195,
            "bin_start": 0.15,
            "count": 1
           },
           {
            "bin_end": 0.24,
            "bin_start": 0.195,
            "count": 1
           },
           {
            "bin_end": 0.28500000000000003,
            "bin_start": 0.24,
            "count": 0
           },
           {
            "bin_end": 0.32999999999999996,
            "bin_start": 0.28500000000000003,
            "count": 0
           },
           {
            "bin_end": 0.375,
            "bin_start": 0.32999999999999996,
            "count": 0
           },
           {
            "bin_end": 0.42000000000000004,
            "bin_start": 0.375,
            "count": 2
           },
           {
            "bin_end": 0.46499999999999997,
            "bin_start": 0.42000000000000004,
            "count": 0
           },
           {
            "bin_end": 0.51,
            "bin_start": 0.46499999999999997,
            "count": 0
           },
           {
            "bin_end": 0.5549999999999999,
            "bin_start": 0.51,
            "count": 0
           },
           {
            "bin_end": 0.6,
            "bin_start": 0.5549999999999999,
            "count": 1
           }
          ],
          "max": "0.6",
          "min": "0.15",
          "nan_count": 0,
          "unique_count": 5
         }
        },
        {
         "dtype": "float64",
         "name": "Rest of World",
         "stats": {
          "histogram": [
           {
            "bin_end": 1.859,
            "bin_start": 1.73,
            "count": 1
           },
           {
            "bin_end": 1.988,
            "bin_start": 1.859,
            "count": 0
           },
           {
            "bin_end": 2.117,
            "bin_start": 1.988,
            "count": 0
           },
           {
            "bin_end": 2.246,
            "bin_start": 2.117,
            "count": 1
           },
           {
            "bin_end": 2.375,
            "bin_start": 2.246,
            "count": 1
           },
           {
            "bin_end": 2.504,
            "bin_start": 2.375,
            "count": 1
           },
           {
            "bin_end": 2.633,
            "bin_start": 2.504,
            "count": 0
           },
           {
            "bin_end": 2.762,
            "bin_start": 2.633,
            "count": 0
           },
           {
            "bin_end": 2.891,
            "bin_start": 2.762,
            "count": 0
           },
           {
            "bin_end": 3.02,
            "bin_start": 2.891,
            "count": 1
           }
          ],
          "max": "3.02",
          "min": "1.73",
          "nan_count": 0,
          "unique_count": 5
         }
        },
        {
         "dtype": "float64",
         "name": "Global",
         "stats": {
          "histogram": [
           {
            "bin_end": 12.559000000000001,
            "bin_start": 11.8,
            "count": 1
           },
           {
            "bin_end": 13.318000000000001,
            "bin_start": 12.559000000000001,
            "count": 0
           },
           {
            "bin_end": 14.077000000000002,
            "bin_start": 13.318000000000001,
            "count": 2
           },
           {
            "bin_end": 14.836,
            "bin_start": 14.077000000000002,
            "count": 0
           },
           {
            "bin_end": 15.595,
            "bin_start": 14.836,
            "count": 1
           },
           {
            "bin_end": 16.354,
            "bin_start": 15.595,
            "count": 0
           },
           {
            "bin_end": 17.113,
            "bin_start": 16.354,
            "count": 0
           },
           {
            "bin_end": 17.872,
            "bin_start": 17.113,
            "count": 0
           },
           {
            "bin_end": 18.631,
            "bin_start": 17.872,
            "count": 0
           },
           {
            "bin_end": 19.39,
            "bin_start": 18.631,
            "count": 1
           }
          ],
          "max": "19.39",
          "min": "11.8",
          "nan_count": 0,
          "unique_count": 5
         }
        },
        {
         "dtype": "int64",
         "name": "_deepnote_index_column"
        }
       ],
       "row_count": 5,
       "rows": [
        {
         "Europe": 9.71,
         "Game": "Grand Theft Auto V",
         "Genre": "Action",
         "Global": 19.39,
         "Japan": 0.6,
         "North America": 6.06,
         "Publisher": "Rockstar Games",
         "Rest of World": 3.02,
         "Year": 2014,
         "_deepnote_index_column": 0
        },
        {
         "Europe": 6.05,
         "Game": "Call of Duty: Black Ops 3",
         "Genre": "Shooter",
         "Global": 15.09,
         "Japan": 0.41,
         "North America": 6.18,
         "Publisher": "Activision",
         "Rest of World": 2.44,
         "Year": 2015,
         "_deepnote_index_column": 1
        },
        {
         "Europe": 6.21,
         "Game": "Red Dead Redemption 2",
         "Genre": "Action-Adventure",
         "Global": 13.94,
         "Japan": 0.21,
         "North America": 5.26,
         "Publisher": "Rockstar Games",
         "Rest of World": 2.26,
         "Year": 2018,
         "_deepnote_index_column": 2
        },
        {
         "Europe": 6.21,
         "Game": "Call of Duty: WWII",
         "Genre": "Shooter",
         "Global": 13.4,
         "Japan": 0.4,
         "North America": 4.67,
         "Publisher": "Activision",
         "Rest of World": 2.12,
         "Year": 2017,
         "_deepnote_index_column": 3
        },
        {
         "Europe": 8.64,
         "Game": "FIFA 18",
         "Genre": "Sports",
         "Global": 11.8,
         "Japan": 0.15,
         "North America": 1.27,
         "Publisher": "EA Sports",
         "Rest of World": 1.73,
         "Year": 2017,
         "_deepnote_index_column": 4
        }
       ]
      },
      "text/html": [
       "<div>\n",
       "<style scoped>\n",
       "    .dataframe tbody tr th:only-of-type {\n",
       "        vertical-align: middle;\n",
       "    }\n",
       "\n",
       "    .dataframe tbody tr th {\n",
       "        vertical-align: top;\n",
       "    }\n",
       "\n",
       "    .dataframe thead th {\n",
       "        text-align: right;\n",
       "    }\n",
       "</style>\n",
       "<table border=\"1\" class=\"dataframe\">\n",
       "  <thead>\n",
       "    <tr style=\"text-align: right;\">\n",
       "      <th></th>\n",
       "      <th>Game</th>\n",
       "      <th>Year</th>\n",
       "      <th>Genre</th>\n",
       "      <th>Publisher</th>\n",
       "      <th>North America</th>\n",
       "      <th>Europe</th>\n",
       "      <th>Japan</th>\n",
       "      <th>Rest of World</th>\n",
       "      <th>Global</th>\n",
       "    </tr>\n",
       "  </thead>\n",
       "  <tbody>\n",
       "    <tr>\n",
       "      <th>0</th>\n",
       "      <td>Grand Theft Auto V</td>\n",
       "      <td>2014.0</td>\n",
       "      <td>Action</td>\n",
       "      <td>Rockstar Games</td>\n",
       "      <td>6.06</td>\n",
       "      <td>9.71</td>\n",
       "      <td>0.60</td>\n",
       "      <td>3.02</td>\n",
       "      <td>19.39</td>\n",
       "    </tr>\n",
       "    <tr>\n",
       "      <th>1</th>\n",
       "      <td>Call of Duty: Black Ops 3</td>\n",
       "      <td>2015.0</td>\n",
       "      <td>Shooter</td>\n",
       "      <td>Activision</td>\n",
       "      <td>6.18</td>\n",
       "      <td>6.05</td>\n",
       "      <td>0.41</td>\n",
       "      <td>2.44</td>\n",
       "      <td>15.09</td>\n",
       "    </tr>\n",
       "    <tr>\n",
       "      <th>2</th>\n",
       "      <td>Red Dead Redemption 2</td>\n",
       "      <td>2018.0</td>\n",
       "      <td>Action-Adventure</td>\n",
       "      <td>Rockstar Games</td>\n",
       "      <td>5.26</td>\n",
       "      <td>6.21</td>\n",
       "      <td>0.21</td>\n",
       "      <td>2.26</td>\n",
       "      <td>13.94</td>\n",
       "    </tr>\n",
       "    <tr>\n",
       "      <th>3</th>\n",
       "      <td>Call of Duty: WWII</td>\n",
       "      <td>2017.0</td>\n",
       "      <td>Shooter</td>\n",
       "      <td>Activision</td>\n",
       "      <td>4.67</td>\n",
       "      <td>6.21</td>\n",
       "      <td>0.40</td>\n",
       "      <td>2.12</td>\n",
       "      <td>13.40</td>\n",
       "    </tr>\n",
       "    <tr>\n",
       "      <th>4</th>\n",
       "      <td>FIFA 18</td>\n",
       "      <td>2017.0</td>\n",
       "      <td>Sports</td>\n",
       "      <td>EA Sports</td>\n",
       "      <td>1.27</td>\n",
       "      <td>8.64</td>\n",
       "      <td>0.15</td>\n",
       "      <td>1.73</td>\n",
       "      <td>11.80</td>\n",
       "    </tr>\n",
       "  </tbody>\n",
       "</table>\n",
       "</div>"
      ],
      "text/plain": [
       "                        Game    Year             Genre       Publisher  \\\n",
       "0         Grand Theft Auto V  2014.0            Action  Rockstar Games   \n",
       "1  Call of Duty: Black Ops 3  2015.0           Shooter      Activision   \n",
       "2      Red Dead Redemption 2  2018.0  Action-Adventure  Rockstar Games   \n",
       "3         Call of Duty: WWII  2017.0           Shooter      Activision   \n",
       "4                    FIFA 18  2017.0            Sports       EA Sports   \n",
       "\n",
       "   North America  Europe  Japan  Rest of World  Global  \n",
       "0           6.06    9.71   0.60           3.02   19.39  \n",
       "1           6.18    6.05   0.41           2.44   15.09  \n",
       "2           5.26    6.21   0.21           2.26   13.94  \n",
       "3           4.67    6.21   0.40           2.12   13.40  \n",
       "4           1.27    8.64   0.15           1.73   11.80  "
      ]
     },
     "execution_count": 2,
     "metadata": {},
     "output_type": "execute_result"
    }
   ],
   "source": [
    "df = pd.read_csv('PS4_GamesSales.csv',encoding='unicode_escape')\n",
    "df.dropna(inplace=True)\n",
    "df.head()"
   ]
  },
  {
   "cell_type": "markdown",
   "metadata": {
    "cell_id": "29ac87af-8700-433e-ba32-8060444b3f0f",
    "deepnote_cell_height": 70,
    "deepnote_cell_type": "markdown",
    "tags": []
   },
   "source": [
    "\n",
    "\n",
    "## Some basic information about the dataset\n",
    "\n"
   ]
  },
  {
   "cell_type": "code",
   "execution_count": null,
   "metadata": {
    "cell_id": "a860781d-0dd4-4920-a4f7-be36e306b875",
    "deepnote_cell_height": 118,
    "deepnote_cell_type": "code",
    "deepnote_output_heights": [
     21
    ],
    "deepnote_to_be_reexecuted": false,
    "execution_millis": 13,
    "execution_start": 1647254998091,
    "source_hash": "14f60b8f",
    "tags": []
   },
   "outputs": [
    {
     "data": {
      "text/plain": [
       "(825, 9)"
      ]
     },
     "execution_count": 3,
     "metadata": {},
     "output_type": "execute_result"
    }
   ],
   "source": [
    "df.shape"
   ]
  },
  {
   "cell_type": "code",
   "execution_count": null,
   "metadata": {
    "cell_id": "8944ff1c-dddc-4295-adb8-ff4d41fe2a4c",
    "deepnote_cell_height": 112,
    "deepnote_cell_type": "code",
    "deepnote_to_be_reexecuted": false,
    "execution_millis": 7,
    "execution_start": 1647254998103,
    "source_hash": "e55e72fe",
    "tags": []
   },
   "outputs": [
    {
     "name": "stdout",
     "output_type": "stream",
     "text": [
      "The number of rows in this dataset is 825\n"
     ]
    }
   ],
   "source": [
    "print(f\"The number of rows in this dataset is {df.shape[0]}\")"
   ]
  },
  {
   "cell_type": "code",
   "execution_count": null,
   "metadata": {
    "cell_id": "5e4e708d-4664-46ec-acd3-1019f45bdfd7",
    "deepnote_cell_height": 289,
    "deepnote_cell_type": "code",
    "deepnote_output_heights": [
     192
    ],
    "deepnote_to_be_reexecuted": false,
    "execution_millis": 11,
    "execution_start": 1647254998109,
    "source_hash": "52430027",
    "tags": []
   },
   "outputs": [
    {
     "data": {
      "text/plain": [
       "Game              object\n",
       "Year             float64\n",
       "Genre             object\n",
       "Publisher         object\n",
       "North America    float64\n",
       "Europe           float64\n",
       "Japan            float64\n",
       "Rest of World    float64\n",
       "Global           float64\n",
       "dtype: object"
      ]
     },
     "execution_count": 5,
     "metadata": {},
     "output_type": "execute_result"
    }
   ],
   "source": [
    "df.dtypes"
   ]
  },
  {
   "cell_type": "markdown",
   "metadata": {
    "cell_id": "a1c5f445-78f5-4bd8-bdf3-13ab692c3beb",
    "deepnote_cell_height": 52,
    "deepnote_cell_type": "markdown",
    "tags": []
   },
   "source": [
    "The chart shows global sales of each genre.(From the chart, we can tell Action and Shooter have the most global  sales)"
   ]
  },
  {
   "cell_type": "code",
   "execution_count": null,
   "metadata": {
    "cell_id": "54732f5f-2e66-4ab6-b57c-b9bf5a136da5",
    "deepnote_cell_height": 604,
    "deepnote_cell_type": "code",
    "deepnote_output_heights": [
     345
    ],
    "deepnote_to_be_reexecuted": false,
    "execution_millis": 93,
    "execution_start": 1647254998126,
    "source_hash": "72317263",
    "tags": []
   },
   "outputs": [
    {
     "data": {
      "text/html": [
       "\n",
       "<div id=\"altair-viz-ddd8bce3167846f5b6fca818b41d9bec\"></div>\n",
       "<script type=\"text/javascript\">\n",
       "  (function(spec, embedOpt){\n",
       "    let outputDiv = document.currentScript.previousElementSibling;\n",
       "    if (outputDiv.id !== \"altair-viz-ddd8bce3167846f5b6fca818b41d9bec\") {\n",
       "      outputDiv = document.getElementById(\"altair-viz-ddd8bce3167846f5b6fca818b41d9bec\");\n",
       "    }\n",
       "    const paths = {\n",
       "      \"vega\": \"https://cdn.jsdelivr.net/npm//vega@5?noext\",\n",
       "      \"vega-lib\": \"https://cdn.jsdelivr.net/npm//vega-lib?noext\",\n",
       "      \"vega-lite\": \"https://cdn.jsdelivr.net/npm//vega-lite@4.8.1?noext\",\n",
       "      \"vega-embed\": \"https://cdn.jsdelivr.net/npm//vega-embed@6?noext\",\n",
       "    };\n",
       "\n",
       "    function loadScript(lib) {\n",
       "      return new Promise(function(resolve, reject) {\n",
       "        var s = document.createElement('script');\n",
       "        s.src = paths[lib];\n",
       "        s.async = true;\n",
       "        s.onload = () => resolve(paths[lib]);\n",
       "        s.onerror = () => reject(`Error loading script: ${paths[lib]}`);\n",
       "        document.getElementsByTagName(\"head\")[0].appendChild(s);\n",
       "      });\n",
       "    }\n",
       "\n",
       "    function showError(err) {\n",
       "      outputDiv.innerHTML = `<div class=\"error\" style=\"color:red;\">${err}</div>`;\n",
       "      throw err;\n",
       "    }\n",
       "\n",
       "    function displayChart(vegaEmbed) {\n",
       "      vegaEmbed(outputDiv, spec, embedOpt)\n",
       "        .catch(err => showError(`Javascript Error: ${err.message}<br>This usually means there's a typo in your chart specification. See the javascript console for the full traceback.`));\n",
       "    }\n",
       "\n",
       "    if(typeof define === \"function\" && define.amd) {\n",
       "      requirejs.config({paths});\n",
       "      require([\"vega-embed\"], displayChart, err => showError(`Error loading script: ${err.message}`));\n",
       "    } else if (typeof vegaEmbed === \"function\") {\n",
       "      displayChart(vegaEmbed);\n",
       "    } else {\n",
       "      loadScript(\"vega\")\n",
       "        .then(() => loadScript(\"vega-lite\"))\n",
       "        .then(() => loadScript(\"vega-embed\"))\n",
       "        .catch(showError)\n",
       "        .then(() => displayChart(vegaEmbed));\n",
       "    }\n",
       "  })({\"config\": {\"view\": {\"continuousWidth\": 400, \"continuousHeight\": 300}}, \"data\": {\"name\": \"data-c742bc75b62ccca14fdbc3730e93d7eb\"}, \"mark\": \"bar\", \"encoding\": {\"color\": {\"type\": \"nominal\", \"field\": \"Genre\", \"title\": \"Genre type\"}, \"x\": {\"type\": \"nominal\", \"field\": \"Genre\"}, \"y\": {\"type\": \"quantitative\", \"field\": \"Global\"}}, \"height\": 200, \"title\": \"Global sales of each genre\", \"width\": 1000, \"$schema\": \"https://vega.github.io/schema/vega-lite/v4.8.1.json\", \"datasets\": {\"data-c742bc75b62ccca14fdbc3730e93d7eb\": [{\"Game\": \"Grand Theft Auto V\", \"Year\": 2014.0, \"Genre\": \"Action\", \"Publisher\": \"Rockstar Games\", \"North America\": 6.06, \"Europe\": 9.71, \"Japan\": 0.6, \"Rest of World\": 3.02, \"Global\": 19.39}, {\"Game\": \"Call of Duty: Black Ops 3\", \"Year\": 2015.0, \"Genre\": \"Shooter\", \"Publisher\": \"Activision\", \"North America\": 6.18, \"Europe\": 6.05, \"Japan\": 0.41, \"Rest of World\": 2.44, \"Global\": 15.09}, {\"Game\": \"Red Dead Redemption 2\", \"Year\": 2018.0, \"Genre\": \"Action-Adventure\", \"Publisher\": \"Rockstar Games\", \"North America\": 5.26, \"Europe\": 6.21, \"Japan\": 0.21, \"Rest of World\": 2.26, \"Global\": 13.94}, {\"Game\": \"Call of Duty: WWII\", \"Year\": 2017.0, \"Genre\": \"Shooter\", \"Publisher\": \"Activision\", \"North America\": 4.67, \"Europe\": 6.21, \"Japan\": 0.4, \"Rest of World\": 2.12, \"Global\": 13.4}, {\"Game\": \"FIFA 18\", \"Year\": 2017.0, \"Genre\": \"Sports\", \"Publisher\": \"EA Sports\", \"North America\": 1.27, \"Europe\": 8.64, \"Japan\": 0.15, \"Rest of World\": 1.73, \"Global\": 11.8}, {\"Game\": \"FIFA 17\", \"Year\": 2016.0, \"Genre\": \"Sports\", \"Publisher\": \"Electronic Arts\", \"North America\": 1.26, \"Europe\": 7.95, \"Japan\": 0.12, \"Rest of World\": 1.61, \"Global\": 10.94}, {\"Game\": \"Uncharted (PS4)\", \"Year\": 2016.0, \"Genre\": \"Action\", \"Publisher\": \"Sony Interactive Entertainment\", \"North America\": 4.49, \"Europe\": 3.93, \"Japan\": 0.21, \"Rest of World\": 1.7, \"Global\": 10.33}, {\"Game\": \"Spider-Man (PS4)\", \"Year\": 2018.0, \"Genre\": \"Action-Adventure\", \"Publisher\": \"Sony Interactive Entertainment\", \"North America\": 3.64, \"Europe\": 3.39, \"Japan\": 0.32, \"Rest of World\": 1.41, \"Global\": 8.76}, {\"Game\": \"Call of Duty: Infinite Warfare\", \"Year\": 2016.0, \"Genre\": \"Shooter\", \"Publisher\": \"Activision\", \"North America\": 3.11, \"Europe\": 3.83, \"Japan\": 0.19, \"Rest of World\": 1.36, \"Global\": 8.48}, {\"Game\": \"Fallout 4\", \"Year\": 2015.0, \"Genre\": \"Role-Playing\", \"Publisher\": \"Bethesda Softworks\", \"North America\": 2.91, \"Europe\": 3.97, \"Japan\": 0.27, \"Rest of World\": 1.34, \"Global\": 8.48}, {\"Game\": \"FIFA 16\", \"Year\": 2015.0, \"Genre\": \"Sports\", \"Publisher\": \"EA Sports\", \"North America\": 1.15, \"Europe\": 5.77, \"Japan\": 0.07, \"Rest of World\": 1.23, \"Global\": 8.22}, {\"Game\": \"Star Wars Battlefront 2015\", \"Year\": 2015.0, \"Genre\": \"Shooter\", \"Publisher\": \"Electronic Arts\", \"North America\": 3.31, \"Europe\": 3.19, \"Japan\": 0.23, \"Rest of World\": 1.3, \"Global\": 8.03}, {\"Game\": \"Call of Duty: Advanced Warfare\", \"Year\": 2014.0, \"Genre\": \"Shooter\", \"Publisher\": \"Activision\", \"North America\": 2.84, \"Europe\": 3.34, \"Japan\": 0.14, \"Rest of World\": 1.22, \"Global\": 7.53}, {\"Game\": \"Battlefield 1\", \"Year\": 2016.0, \"Genre\": \"Shooter\", \"Publisher\": \"Electronic Arts\", \"North America\": 2.2, \"Europe\": 3.65, \"Japan\": 0.29, \"Rest of World\": 1.12, \"Global\": 7.26}, {\"Game\": \"The Last of Us\", \"Year\": 2014.0, \"Genre\": \"Action-Adventure\", \"Publisher\": \"Sony Computer Entertainment\", \"North America\": 2.7, \"Europe\": 2.86, \"Japan\": 0.11, \"Rest of World\": 1.1, \"Global\": 6.77}, {\"Game\": \"MineCraft\", \"Year\": 2014.0, \"Genre\": \"Misc\", \"Publisher\": \"Sony Computer Entertainment\", \"North America\": 1.89, \"Europe\": 3.13, \"Japan\": 0.35, \"Rest of World\": 0.96, \"Global\": 6.33}, {\"Game\": \"FIFA 15\", \"Year\": 2014.0, \"Genre\": \"Sports\", \"Publisher\": \"EA Sports\", \"North America\": 0.83, \"Europe\": 4.49, \"Japan\": 0.05, \"Rest of World\": 0.94, \"Global\": 6.32}, {\"Game\": \"God of War (PS4)\", \"Year\": 2018.0, \"Genre\": \"Action\", \"Publisher\": \"Sony Interactive Entertainment\", \"North America\": 2.83, \"Europe\": 2.17, \"Japan\": 0.13, \"Rest of World\": 1.02, \"Global\": 6.15}, {\"Game\": \"Horizon: Zero Dawn\", \"Year\": 2017.0, \"Genre\": \"Action\", \"Publisher\": \"Sony Interactive Entertainment\", \"North America\": 2.2, \"Europe\": 2.43, \"Japan\": 0.28, \"Rest of World\": 0.92, \"Global\": 5.82}, {\"Game\": \"Destiny\", \"Year\": 2014.0, \"Genre\": \"Shooter\", \"Publisher\": \"Activision\", \"North America\": 2.53, \"Europe\": 2.13, \"Japan\": 0.16, \"Rest of World\": 0.94, \"Global\": 5.76}, {\"Game\": \"Uncharted: The Nathan Drake Collection\", \"Year\": 2015.0, \"Genre\": \"Action\", \"Publisher\": \"Sony Computer Entertainment\", \"North America\": 2.55, \"Europe\": 2.11, \"Japan\": 0.1, \"Rest of World\": 0.94, \"Global\": 5.7}, {\"Game\": \"The Witcher 3: Wild Hunt\", \"Year\": 2015.0, \"Genre\": \"Role-Playing\", \"Publisher\": \"Namco Bandai Games\", \"North America\": 1.48, \"Europe\": 2.82, \"Japan\": 0.28, \"Rest of World\": 0.81, \"Global\": 5.39}, {\"Game\": \"Final Fantasy XV\", \"Year\": 2016.0, \"Genre\": \"Role-Playing\", \"Publisher\": \"Square Enix\", \"North America\": 1.81, \"Europe\": 1.53, \"Japan\": 1.05, \"Rest of World\": 0.68, \"Global\": 5.07}, {\"Game\": \"Crash Bandicoot N. Sane Trilogy\", \"Year\": 2017.0, \"Genre\": \"Platform\", \"Publisher\": \"Activision\", \"North America\": 1.09, \"Europe\": 2.92, \"Japan\": 0.07, \"Rest of World\": 0.74, \"Global\": 4.83}, {\"Game\": \"Monster Hunter: World\", \"Year\": 2018.0, \"Genre\": \"Action\", \"Publisher\": \"Capcom\", \"North America\": 1.03, \"Europe\": 1.06, \"Japan\": 2.17, \"Rest of World\": 0.42, \"Global\": 4.67}, {\"Game\": \"Overwatch\", \"Year\": 2016.0, \"Genre\": \"Shooter\", \"Publisher\": \"Blizzard Entertainment\", \"North America\": 1.84, \"Europe\": 1.8, \"Japan\": 0.17, \"Rest of World\": 0.73, \"Global\": 4.54}, {\"Game\": \"Star Wars Battlefront II (2017)\", \"Year\": 2017.0, \"Genre\": \"Shooter\", \"Publisher\": \"Electronic Arts\", \"North America\": 1.7, \"Europe\": 1.99, \"Japan\": 0.12, \"Rest of World\": 0.73, \"Global\": 4.53}, {\"Game\": \"Tom Clancy's The Division\", \"Year\": 2016.0, \"Genre\": \"Shooter\", \"Publisher\": \"Ubisoft\", \"North America\": 1.49, \"Europe\": 2.04, \"Japan\": 0.16, \"Rest of World\": 0.69, \"Global\": 4.37}, {\"Game\": \"Tom Clancy's Rainbow Six: Siege\", \"Year\": 2015.0, \"Genre\": \"Shooter\", \"Publisher\": \"Ubisoft\", \"North America\": 1.29, \"Europe\": 2.06, \"Japan\": 0.36, \"Rest of World\": 0.64, \"Global\": 4.36}, {\"Game\": \"Watch Dogs\", \"Year\": 2014.0, \"Genre\": \"Action-Adventure\", \"Publisher\": \"Ubisoft\", \"North America\": 1.4, \"Europe\": 2.13, \"Japan\": 0.11, \"Rest of World\": 0.68, \"Global\": 4.32}, {\"Game\": \"Call of Duty: Ghosts\", \"Year\": 2013.0, \"Genre\": \"Shooter\", \"Publisher\": \"Activision\", \"North America\": 1.79, \"Europe\": 1.64, \"Japan\": 0.05, \"Rest of World\": 0.69, \"Global\": 4.17}, {\"Game\": \"Assassin's Creed: Unity\", \"Year\": 2014.0, \"Genre\": \"Action\", \"Publisher\": \"Ubisoft\", \"North America\": 1.25, \"Europe\": 2.16, \"Japan\": 0.09, \"Rest of World\": 0.65, \"Global\": 4.14}, {\"Game\": \"Destiny 2\", \"Year\": 2017.0, \"Genre\": \"Shooter\", \"Publisher\": \"Activision\", \"North America\": 1.92, \"Europe\": 1.44, \"Japan\": 0.1, \"Rest of World\": 0.69, \"Global\": 4.14}, {\"Game\": \"Batman: Arkham Knight\", \"Year\": 2015.0, \"Genre\": \"Action\", \"Publisher\": \"Warner Bros. Interactive\", \"North America\": 1.65, \"Europe\": 1.68, \"Japan\": 0.11, \"Rest of World\": 0.66, \"Global\": 4.11}, {\"Game\": \"Assassin's Creed Origins\", \"Year\": 2017.0, \"Genre\": \"Action\", \"Publisher\": \"Ubisoft\", \"North America\": 1.22, \"Europe\": 2.11, \"Japan\": 0.11, \"Rest of World\": 0.63, \"Global\": 4.06}, {\"Game\": \"Far Cry 4\", \"Year\": 2014.0, \"Genre\": \"Shooter\", \"Publisher\": \"Ubisoft\", \"North America\": 1.18, \"Europe\": 2.14, \"Japan\": 0.11, \"Rest of World\": 0.63, \"Global\": 4.06}, {\"Game\": \"NBA 2K16\", \"Year\": 2015.0, \"Genre\": \"Sports\", \"Publisher\": \"2K Sports\", \"North America\": 2.56, \"Europe\": 0.66, \"Japan\": 0.05, \"Rest of World\": 0.71, \"Global\": 3.98}, {\"Game\": \"Far Cry 5\", \"Year\": 2018.0, \"Genre\": \"Action\", \"Publisher\": \"Ubisoft\", \"North America\": 1.44, \"Europe\": 1.73, \"Japan\": 0.15, \"Rest of World\": 0.62, \"Global\": 3.95}, {\"Game\": \"Battlefield 4\", \"Year\": 2013.0, \"Genre\": \"Shooter\", \"Publisher\": \"Electronic Arts\", \"North America\": 1.4, \"Europe\": 1.74, \"Japan\": 0.19, \"Rest of World\": 0.62, \"Global\": 3.94}, {\"Game\": \"Gran Turismo Sport\", \"Year\": 2017.0, \"Genre\": \"Racing\", \"Publisher\": \"Sony Interactive Entertainment\", \"North America\": 0.63, \"Europe\": 2.35, \"Japan\": 0.24, \"Rest of World\": 0.54, \"Global\": 3.77}, {\"Game\": \"Assassin's Creed Syndicate\", \"Year\": 2015.0, \"Genre\": \"Action\", \"Publisher\": \"Ubisoft\", \"North America\": 0.9, \"Europe\": 2.06, \"Japan\": 0.08, \"Rest of World\": 0.55, \"Global\": 3.6}, {\"Game\": \"NBA 2K17\", \"Year\": 2016.0, \"Genre\": \"Sports\", \"Publisher\": \"2K Sports\", \"North America\": 2.28, \"Europe\": 0.59, \"Japan\": 0.03, \"Rest of World\": 0.63, \"Global\": 3.52}, {\"Game\": \"Mortal Kombat X\", \"Year\": 2015.0, \"Genre\": \"Fighting\", \"Publisher\": \"Warner Bros. Interactive Entertainment\", \"North America\": 1.94, \"Europe\": 0.94, \"Japan\": 0.0, \"Rest of World\": 0.61, \"Global\": 3.49}, {\"Game\": \"FIFA Soccer 14\", \"Year\": 2013.0, \"Genre\": \"Sports\", \"Publisher\": \"EA Sports\", \"North America\": 0.62, \"Europe\": 2.18, \"Japan\": 0.12, \"Rest of World\": 0.51, \"Global\": 3.43}, {\"Game\": \"The Elder Scrolls V: Skyrim\", \"Year\": 2016.0, \"Genre\": \"Role-Playing\", \"Publisher\": \"Bethesda Softworks\", \"North America\": 1.24, \"Europe\": 1.5, \"Japan\": 0.08, \"Rest of World\": 0.54, \"Global\": 3.36}, {\"Game\": \"Watch Dogs 2\", \"Year\": 2016.0, \"Genre\": \"Action\", \"Publisher\": \"Ubisoft\", \"North America\": 0.98, \"Europe\": 1.74, \"Japan\": 0.12, \"Rest of World\": 0.52, \"Global\": 3.36}, {\"Game\": \"NBA 2K18\", \"Year\": 2017.0, \"Genre\": \"Sports\", \"Publisher\": \"2K Sports\", \"North America\": 2.13, \"Europe\": 0.57, \"Japan\": 0.04, \"Rest of World\": 0.59, \"Global\": 3.34}, {\"Game\": \"Resident Evil VII: Biohazard\", \"Year\": 2017.0, \"Genre\": \"Action\", \"Publisher\": \"Capcom\", \"North America\": 0.88, \"Europe\": 1.56, \"Japan\": 0.41, \"Rest of World\": 0.46, \"Global\": 3.31}, {\"Game\": \"Madden NFL 16\", \"Year\": 2015.0, \"Genre\": \"Sports\", \"Publisher\": \"EA Sports\", \"North America\": 2.39, \"Europe\": 0.31, \"Japan\": 0.0, \"Rest of World\": 0.61, \"Global\": 3.3}, {\"Game\": \"Madden NFL 17\", \"Year\": 2016.0, \"Genre\": \"Sports\", \"Publisher\": \"EA Sports\", \"North America\": 2.3, \"Europe\": 0.37, \"Japan\": 0.0, \"Rest of World\": 0.6, \"Global\": 3.28}, {\"Game\": \"Middle-Earth: Shadow of Mordor\", \"Year\": 2014.0, \"Genre\": \"Action\", \"Publisher\": \"Warner Bros. Interactive Entertainment\", \"North America\": 1.03, \"Europe\": 1.6, \"Japan\": 0.05, \"Rest of World\": 0.51, \"Global\": 3.19}, {\"Game\": \"Assassin's Creed IV: Black Flag\", \"Year\": 2013.0, \"Genre\": \"Action-Adventure\", \"Publisher\": \"Ubisoft\", \"North America\": 1.07, \"Europe\": 1.55, \"Japan\": 0.06, \"Rest of World\": 0.51, \"Global\": 3.19}, {\"Game\": \"Tom Clancy's Ghost Recon Wildlands\", \"Year\": 2017.0, \"Genre\": \"Shooter\", \"Publisher\": \"Ubisoft\", \"North America\": 1.07, \"Europe\": 1.35, \"Japan\": 0.22, \"Rest of World\": 0.47, \"Global\": 3.12}, {\"Game\": \"Bloodborne\", \"Year\": 2015.0, \"Genre\": \"Role-Playing\", \"Publisher\": \"Sony Computer Entertainment\", \"North America\": 1.3, \"Europe\": 1.05, \"Japan\": 0.28, \"Rest of World\": 0.48, \"Global\": 3.11}, {\"Game\": \"Metal Gear Solid V: The Phantom Pain\", \"Year\": 2015.0, \"Genre\": \"Action\", \"Publisher\": \"Konami Digital Entertainment\", \"North America\": 0.97, \"Europe\": 1.15, \"Japan\": 0.5, \"Rest of World\": 0.42, \"Global\": 3.04}, {\"Game\": \"Killzone: Shadow Fall\", \"Year\": 2013.0, \"Genre\": \"Shooter\", \"Publisher\": \"Sony Computer Entertainment\", \"North America\": 0.89, \"Europe\": 1.58, \"Japan\": 0.08, \"Rest of World\": 0.47, \"Global\": 3.02}, {\"Game\": \"inFAMOUS: Second Son\", \"Year\": 2014.0, \"Genre\": \"Action-Adventure\", \"Publisher\": \"Sony Computer Entertainment\", \"North America\": 1.35, \"Europe\": 1.09, \"Japan\": 0.07, \"Rest of World\": 0.5, \"Global\": 3.01}, {\"Game\": \"Doom (2016)\", \"Year\": 2016.0, \"Genre\": \"Shooter\", \"Publisher\": \"Bethesda Softworks\", \"North America\": 0.93, \"Europe\": 1.48, \"Japan\": 0.04, \"Rest of World\": 0.46, \"Global\": 2.92}, {\"Game\": \"Mafia III\", \"Year\": 2016.0, \"Genre\": \"Action-Adventure\", \"Publisher\": \"2K Games\", \"North America\": 0.72, \"Europe\": 1.67, \"Japan\": 0.04, \"Rest of World\": 0.44, \"Global\": 2.87}, {\"Game\": \"Diablo III\", \"Year\": 2014.0, \"Genre\": \"Role-Playing\", \"Publisher\": \"Blizzard Entertainment\", \"North America\": 0.83, \"Europe\": 1.48, \"Japan\": 0.08, \"Rest of World\": 0.44, \"Global\": 2.82}, {\"Game\": \"Far Cry: Primal\", \"Year\": 2016.0, \"Genre\": \"Action-Adventure\", \"Publisher\": \"Ubisoft\", \"North America\": 0.63, \"Europe\": 1.61, \"Japan\": 0.07, \"Rest of World\": 0.41, \"Global\": 2.73}, {\"Game\": \"Need for Speed (2015)\", \"Year\": 2015.0, \"Genre\": \"Racing\", \"Publisher\": \"Electronic Arts\", \"North America\": 0.59, \"Europe\": 1.66, \"Japan\": 0.06, \"Rest of World\": 0.41, \"Global\": 2.72}, {\"Game\": \"Madden NFL 18\", \"Year\": 2017.0, \"Genre\": \"Sports\", \"Publisher\": \"EA Sports\", \"North America\": 1.73, \"Europe\": 0.42, \"Japan\": 0.0, \"Rest of World\": 0.47, \"Global\": 2.62}, {\"Game\": \"NBA 2K15\", \"Year\": 2014.0, \"Genre\": \"Sports\", \"Publisher\": \"2K Sports\", \"North America\": 1.49, \"Europe\": 0.55, \"Japan\": 0.01, \"Rest of World\": 0.44, \"Global\": 2.49}, {\"Game\": \"Dying Light\", \"Year\": 2015.0, \"Genre\": \"Action\", \"Publisher\": \"Warner Bros. Interactive\", \"North America\": 1.18, \"Europe\": 0.74, \"Japan\": 0.13, \"Rest of World\": 0.4, \"Global\": 2.45}, {\"Game\": \"Dark Souls III\", \"Year\": 2016.0, \"Genre\": \"Role-Playing\", \"Publisher\": \"Namco Bandai Games\", \"North America\": 1.0, \"Europe\": 0.63, \"Japan\": 0.44, \"Rest of World\": 0.34, \"Global\": 2.42}, {\"Game\": \"Ratchet & Clank (2016)\", \"Year\": 2016.0, \"Genre\": \"Platform\", \"Publisher\": \"Sony Interactive Entertainment\", \"North America\": 0.97, \"Europe\": 0.97, \"Japan\": 0.06, \"Rest of World\": 0.39, \"Global\": 2.38}, {\"Game\": \"DriveClub\", \"Year\": 2014.0, \"Genre\": \"Racing\", \"Publisher\": \"Sony Computer Entertainment\", \"North America\": 0.37, \"Europe\": 1.63, \"Japan\": 0.02, \"Rest of World\": 0.36, \"Global\": 2.37}, {\"Game\": \"Uncharted: The Lost Legacy\", \"Year\": 2017.0, \"Genre\": \"Action\", \"Publisher\": \"Sony Interactive Entertainment\", \"North America\": 0.58, \"Europe\": 1.38, \"Japan\": 0.04, \"Rest of World\": 0.36, \"Global\": 2.37}, {\"Game\": \"Dragon Age III: Inquisition\", \"Year\": 2014.0, \"Genre\": \"Role-Playing\", \"Publisher\": \"Electronic Arts\", \"North America\": 1.07, \"Europe\": 0.8, \"Japan\": 0.08, \"Rest of World\": 0.38, \"Global\": 2.34}, {\"Game\": \"No Man's Sky\", \"Year\": 2016.0, \"Genre\": \"Action-Adventure\", \"Publisher\": \"Hello Games\", \"North America\": 0.89, \"Europe\": 0.97, \"Japan\": 0.04, \"Rest of World\": 0.37, \"Global\": 2.26}, {\"Game\": \"Madden NFL 15\", \"Year\": 2014.0, \"Genre\": \"Sports\", \"Publisher\": \"EA Sports\", \"North America\": 1.58, \"Europe\": 0.25, \"Japan\": 0.0, \"Rest of World\": 0.41, \"Global\": 2.25}, {\"Game\": \"Need for Speed: Payback\", \"Year\": 2017.0, \"Genre\": \"Racing\", \"Publisher\": \"Electronic Arts\", \"North America\": 0.62, \"Europe\": 1.18, \"Japan\": 0.04, \"Rest of World\": 0.34, \"Global\": 2.18}, {\"Game\": \"Destiny: The Taken King\", \"Year\": 2015.0, \"Genre\": \"Shooter\", \"Publisher\": \"Activision\", \"North America\": 0.97, \"Europe\": 0.8, \"Japan\": 0.05, \"Rest of World\": 0.36, \"Global\": 2.18}, {\"Game\": \"Need for Speed Rivals\", \"Year\": 2013.0, \"Genre\": \"Racing\", \"Publisher\": \"Electronic Arts\", \"North America\": 0.75, \"Europe\": 1.04, \"Japan\": 0.03, \"Rest of World\": 0.35, \"Global\": 2.17}, {\"Game\": \"PlayStation VR Worlds\", \"Year\": 2016.0, \"Genre\": \"Misc\", \"Publisher\": \"Sony Interactive Entertainment\", \"North America\": 0.36, \"Europe\": 1.4, \"Japan\": 0.09, \"Rest of World\": 0.32, \"Global\": 2.16}, {\"Game\": \"Battlefield: Hardline\", \"Year\": 2015.0, \"Genre\": \"Shooter\", \"Publisher\": \"Electronic Arts\", \"North America\": 0.72, \"Europe\": 0.97, \"Japan\": 0.14, \"Rest of World\": 0.33, \"Global\": 2.15}, {\"Game\": \"Rise of the Tomb Raider\", \"Year\": 2016.0, \"Genre\": \"Adventure\", \"Publisher\": \"Square Enix\", \"North America\": 0.61, \"Europe\": 1.08, \"Japan\": 0.05, \"Rest of World\": 0.32, \"Global\": 2.07}, {\"Game\": \"LittleBigPlanet 3\", \"Year\": 2014.0, \"Genre\": \"Platform\", \"Publisher\": \"Sony Computer Entertainment\", \"North America\": 0.78, \"Europe\": 0.93, \"Japan\": 0.01, \"Rest of World\": 0.34, \"Global\": 2.06}, {\"Game\": \"The Elder Scrolls Online\", \"Year\": 2015.0, \"Genre\": \"MMO\", \"Publisher\": \"Bethesda Softworks\", \"North America\": 0.74, \"Europe\": 0.98, \"Japan\": 0.0, \"Rest of World\": 0.33, \"Global\": 2.05}, {\"Game\": \"Middle-Earth: Shadow of War\", \"Year\": 2017.0, \"Genre\": \"Action\", \"Publisher\": \"Warner Bros. Interactive Entertainment\", \"North America\": 0.82, \"Europe\": 0.84, \"Japan\": 0.06, \"Rest of World\": 0.33, \"Global\": 2.04}, {\"Game\": \"Dragon Quest XI\", \"Year\": 2017.0, \"Genre\": \"Role-Playing\", \"Publisher\": \"Square Enix\", \"North America\": 0.29, \"Europe\": 0.22, \"Japan\": 1.43, \"Rest of World\": 0.1, \"Global\": 2.04}, {\"Game\": \"Rocket League\", \"Year\": 2016.0, \"Genre\": \"Sports\", \"Publisher\": \"505 Games\", \"North America\": 0.37, \"Europe\": 1.34, \"Japan\": 0.0, \"Rest of World\": 0.31, \"Global\": 2.02}, {\"Game\": \"Just Cause 3\", \"Year\": 2015.0, \"Genre\": \"Action-Adventure\", \"Publisher\": \"Square Enix\", \"North America\": 0.53, \"Europe\": 1.07, \"Japan\": 0.09, \"Rest of World\": 0.3, \"Global\": 1.98}, {\"Game\": \"Dishonored 2\", \"Year\": 2016.0, \"Genre\": \"Action\", \"Publisher\": \"Bethesda Softworks\", \"North America\": 0.62, \"Europe\": 1.02, \"Japan\": 0.01, \"Rest of World\": 0.31, \"Global\": 1.97}, {\"Game\": \"Lego Marvel Super Heroes\", \"Year\": 2013.0, \"Genre\": \"Action\", \"Publisher\": \"Warner Bros. Interactive Entertainment\", \"North America\": 0.59, \"Europe\": 1.0, \"Japan\": 0.01, \"Rest of World\": 0.3, \"Global\": 1.91}, {\"Game\": \"Until Dawn\", \"Year\": 2015.0, \"Genre\": \"Adventure\", \"Publisher\": \"Sony Computer Entertainment\", \"North America\": 0.62, \"Europe\": 0.92, \"Japan\": 0.06, \"Rest of World\": 0.3, \"Global\": 1.9}, {\"Game\": \"Knack\", \"Year\": 2013.0, \"Genre\": \"Platform\", \"Publisher\": \"Sony Computer Entertainment\", \"North America\": 0.45, \"Europe\": 0.77, \"Japan\": 0.42, \"Rest of World\": 0.23, \"Global\": 1.88}, {\"Game\": \"The Evil Within\", \"Year\": 2014.0, \"Genre\": \"Action\", \"Publisher\": \"Bethesda Softworks\", \"North America\": 0.56, \"Europe\": 0.9, \"Japan\": 0.11, \"Rest of World\": 0.28, \"Global\": 1.86}, {\"Game\": \"The Crew\", \"Year\": 2014.0, \"Genre\": \"Racing\", \"Publisher\": \"Ubisoft\", \"North America\": 0.44, \"Europe\": 1.04, \"Japan\": 0.03, \"Rest of World\": 0.27, \"Global\": 1.79}, {\"Game\": \"Kingdom Hearts 1.5 + 2.5 Remix\", \"Year\": 2017.0, \"Genre\": \"Role-Playing\", \"Publisher\": \"Square Enix\", \"North America\": 0.75, \"Europe\": 0.51, \"Japan\": 0.23, \"Rest of World\": 0.26, \"Global\": 1.75}, {\"Game\": \"For Honor\", \"Year\": 2017.0, \"Genre\": \"Action\", \"Publisher\": \"Ubisoft\", \"North America\": 0.73, \"Europe\": 0.66, \"Japan\": 0.07, \"Rest of World\": 0.28, \"Global\": 1.75}, {\"Game\": \"Titanfall 2\", \"Year\": 2016.0, \"Genre\": \"Shooter\", \"Publisher\": \"Electronic Arts\", \"North America\": 0.75, \"Europe\": 0.62, \"Japan\": 0.06, \"Rest of World\": 0.28, \"Global\": 1.72}, {\"Game\": \"Injustice 2\", \"Year\": 2017.0, \"Genre\": \"Fighting\", \"Publisher\": \"Warner Bros. Interactive Entertainment\", \"North America\": 0.88, \"Europe\": 0.54, \"Japan\": 0.0, \"Rest of World\": 0.29, \"Global\": 1.72}, {\"Game\": \"NieR Automata\", \"Year\": 2017.0, \"Genre\": \"Role-Playing\", \"Publisher\": \"Square Enix\", \"North America\": 0.56, \"Europe\": 0.51, \"Japan\": 0.42, \"Rest of World\": 0.22, \"Global\": 1.71}, {\"Game\": \"Tekken 7\", \"Year\": 2017.0, \"Genre\": \"Fighting\", \"Publisher\": \"Namco Bandai Games\", \"North America\": 0.6, \"Europe\": 0.72, \"Japan\": 0.12, \"Rest of World\": 0.26, \"Global\": 1.7}, {\"Game\": \"Persona 5\", \"Year\": 2016.0, \"Genre\": \"Role-Playing\", \"Publisher\": \"Deep Silver\", \"North America\": 0.62, \"Europe\": 0.34, \"Japan\": 0.48, \"Rest of World\": 0.2, \"Global\": 1.64}, {\"Game\": \"The Order: 1886\", \"Year\": 2015.0, \"Genre\": \"Shooter\", \"Publisher\": \"Sony Computer Entertainment\", \"North America\": 0.44, \"Europe\": 0.86, \"Japan\": 0.07, \"Rest of World\": 0.25, \"Global\": 1.62}, {\"Game\": \"Wolfenstein: The New Order\", \"Year\": 2014.0, \"Genre\": \"Shooter\", \"Publisher\": \"Bethesda Softworks\", \"North America\": 0.48, \"Europe\": 0.84, \"Japan\": 0.03, \"Rest of World\": 0.25, \"Global\": 1.61}, {\"Game\": \"Detroit: Become Human\", \"Year\": 2018.0, \"Genre\": \"Adventure\", \"Publisher\": \"Sony Interactive Entertainment\", \"North America\": 0.55, \"Europe\": 0.67, \"Japan\": 0.12, \"Rest of World\": 0.24, \"Global\": 1.57}, {\"Game\": \"Naruto Shippuden: Ultimate Ninja Storm 4\", \"Year\": 2016.0, \"Genre\": \"Fighting\", \"Publisher\": \"Namco Bandai Games\", \"North America\": 0.71, \"Europe\": 0.47, \"Japan\": 0.12, \"Rest of World\": 0.24, \"Global\": 1.54}, {\"Game\": \"NBA 2K14\", \"Year\": 2013.0, \"Genre\": \"Sports\", \"Publisher\": \"2K Sports\", \"North America\": 0.91, \"Europe\": 0.35, \"Japan\": 0.01, \"Rest of World\": 0.27, \"Global\": 1.54}, {\"Game\": \"Tomb Raider (2013)\", \"Year\": 2014.0, \"Genre\": \"Action-Adventure\", \"Publisher\": \"Square Enix\", \"North America\": 0.47, \"Europe\": 0.74, \"Japan\": 0.06, \"Rest of World\": 0.23, \"Global\": 1.51}, {\"Game\": \"Dragon Ball: Xenoverse 2\", \"Year\": 2016.0, \"Genre\": \"Action\", \"Publisher\": \"Namco Bandai Games\", \"North America\": 0.54, \"Europe\": 0.59, \"Japan\": 0.14, \"Rest of World\": 0.23, \"Global\": 1.5}, {\"Game\": \"Rayman Legends\", \"Year\": 2014.0, \"Genre\": \"Platform\", \"Publisher\": \"Ubisoft\", \"North America\": 0.22, \"Europe\": 1.05, \"Japan\": 0.0, \"Rest of World\": 0.23, \"Global\": 1.5}, {\"Game\": \"Mass Effect: Andromeda\", \"Year\": 2017.0, \"Genre\": \"Role-Playing\", \"Publisher\": \"Electronic Arts\", \"North America\": 0.58, \"Europe\": 0.67, \"Japan\": 0.0, \"Rest of World\": 0.25, \"Global\": 1.49}, {\"Game\": \"Dragon Ball Fighter Z\", \"Year\": 2018.0, \"Genre\": \"Fighting\", \"Publisher\": \"Namco Bandai Games\", \"North America\": 0.61, \"Europe\": 0.51, \"Japan\": 0.12, \"Rest of World\": 0.23, \"Global\": 1.46}, {\"Game\": \"South Park: The Fractured But Whole\", \"Year\": 2017.0, \"Genre\": \"Role-Playing\", \"Publisher\": \"Ubisoft\", \"North America\": 0.62, \"Europe\": 0.57, \"Japan\": 0.0, \"Rest of World\": 0.24, \"Global\": 1.43}, {\"Game\": \"The Sims 4\", \"Year\": 2017.0, \"Genre\": \"Simulation\", \"Publisher\": \"Electronic Arts\", \"North America\": 0.44, \"Europe\": 0.72, \"Japan\": 0.01, \"Rest of World\": 0.22, \"Global\": 1.39}, {\"Game\": \"Street Fighter V\", \"Year\": 2016.0, \"Genre\": \"Fighting\", \"Publisher\": \"Capcom\", \"North America\": 0.64, \"Europe\": 0.42, \"Japan\": 0.12, \"Rest of World\": 0.22, \"Global\": 1.39}, {\"Game\": \"Wolfenstein II: The New Colossus\", \"Year\": 2017.0, \"Genre\": \"Shooter\", \"Publisher\": \"Bethesda Softworks\", \"North America\": 0.55, \"Europe\": 0.58, \"Japan\": 0.01, \"Rest of World\": 0.22, \"Global\": 1.36}, {\"Game\": \"WWE 2K18\", \"Year\": 2017.0, \"Genre\": \"Sports\", \"Publisher\": \"2K Sports\", \"North America\": 0.45, \"Europe\": 0.67, \"Japan\": 0.0, \"Rest of World\": 0.22, \"Global\": 1.33}, {\"Game\": \"Lego Star Wars: The Force Awakens\", \"Year\": 2016.0, \"Genre\": \"Action-Adventure\", \"Publisher\": \"Warner Bros. Interactive Entertainment\", \"North America\": 0.3, \"Europe\": 0.78, \"Japan\": 0.02, \"Rest of World\": 0.2, \"Global\": 1.31}, {\"Game\": \"EA Sports UFC 2\", \"Year\": 2016.0, \"Genre\": \"Sports\", \"Publisher\": \"EA Sports\", \"North America\": 0.44, \"Europe\": 0.65, \"Japan\": 0.0, \"Rest of World\": 0.21, \"Global\": 1.31}, {\"Game\": \"The Last Guardian\", \"Year\": 2016.0, \"Genre\": \"Action-Adventure\", \"Publisher\": \"Sony Interactive Entertainment\", \"North America\": 0.4, \"Europe\": 0.58, \"Japan\": 0.13, \"Rest of World\": 0.19, \"Global\": 1.29}, {\"Game\": \"WWE 2K16\", \"Year\": 2015.0, \"Genre\": \"Sports\", \"Publisher\": \"Take-Two Interactive\", \"North America\": 0.43, \"Europe\": 0.65, \"Japan\": 0.0, \"Rest of World\": 0.21, \"Global\": 1.29}, {\"Game\": \"Borderlands: The Handsome Collection\", \"Year\": 2015.0, \"Genre\": \"Shooter\", \"Publisher\": \"2K Games\", \"North America\": 0.69, \"Europe\": 0.34, \"Japan\": 0.03, \"Rest of World\": 0.22, \"Global\": 1.28}, {\"Game\": \"Project CARS\", \"Year\": 2015.0, \"Genre\": \"Racing\", \"Publisher\": \"Bandai Namco Games\", \"North America\": 0.29, \"Europe\": 0.76, \"Japan\": 0.04, \"Rest of World\": 0.19, \"Global\": 1.28}, {\"Game\": \"WWE 2K17\", \"Year\": 2016.0, \"Genre\": \"Sports\", \"Publisher\": \"2K Games\", \"North America\": 0.32, \"Europe\": 0.7, \"Japan\": 0.0, \"Rest of World\": 0.19, \"Global\": 1.22}, {\"Game\": \"Guitar Hero Live\", \"Year\": 2015.0, \"Genre\": \"Music\", \"Publisher\": \"Activision\", \"North America\": 0.52, \"Europe\": 0.49, \"Japan\": 0.0, \"Rest of World\": 0.2, \"Global\": 1.21}, {\"Game\": \"Metal Gear Solid: Ground Zeroes\", \"Year\": 2014.0, \"Genre\": \"Action-Adventure\", \"Publisher\": \"Konami Digital Entertainment\", \"North America\": 0.36, \"Europe\": 0.5, \"Japan\": 0.17, \"Rest of World\": 0.17, \"Global\": 1.2}, {\"Game\": \"Mad Max (2013)\", \"Year\": 2015.0, \"Genre\": \"Action\", \"Publisher\": \"Warner Bros. Interactive Entertainment\", \"North America\": 0.38, \"Europe\": 0.59, \"Japan\": 0.05, \"Rest of World\": 0.19, \"Global\": 1.2}, {\"Game\": \"Shadow of the Colossus\", \"Year\": 2018.0, \"Genre\": \"Action-Adventure\", \"Publisher\": \"Sony Interactive Entertainment\", \"North America\": 0.44, \"Europe\": 0.52, \"Japan\": 0.05, \"Rest of World\": 0.19, \"Global\": 1.2}, {\"Game\": \"Kingdom Hearts HD 2.8 Final Chapter Prologue\", \"Year\": 2017.0, \"Genre\": \"Role-Playing\", \"Publisher\": \"Square Enix\", \"North America\": 0.57, \"Europe\": 0.25, \"Japan\": 0.2, \"Rest of World\": 0.17, \"Global\": 1.2}, {\"Game\": \"Dragon Ball: XenoVerse\", \"Year\": 2015.0, \"Genre\": \"Fighting\", \"Publisher\": \"Namco Bandai Games\", \"North America\": 0.33, \"Europe\": 0.55, \"Japan\": 0.14, \"Rest of World\": 0.17, \"Global\": 1.19}, {\"Game\": \"LEGO Dimensions\", \"Year\": 2015.0, \"Genre\": \"Action\", \"Publisher\": \"Warner Bros. Interactive Entertainment\", \"North America\": 0.48, \"Europe\": 0.5, \"Japan\": 0.0, \"Rest of World\": 0.2, \"Global\": 1.18}, {\"Game\": \"LEGO Jurassic World\", \"Year\": 2015.0, \"Genre\": \"Action\", \"Publisher\": \"Warner Bros. Interactive Entertainment\", \"North America\": 0.41, \"Europe\": 0.56, \"Japan\": 0.02, \"Rest of World\": 0.19, \"Global\": 1.18}, {\"Game\": \"WWE 2K15\", \"Year\": 2014.0, \"Genre\": \"Sports\", \"Publisher\": \"2K Sports\", \"North America\": 0.4, \"Europe\": 0.57, \"Japan\": 0.0, \"Rest of World\": 0.19, \"Global\": 1.16}, {\"Game\": \"MLB The Show 17\", \"Year\": 2017.0, \"Genre\": \"Sports\", \"Publisher\": \"Sony Interactive Entertainment\", \"North America\": 0.94, \"Europe\": 0.0, \"Japan\": 0.0, \"Rest of World\": 0.22, \"Global\": 1.16}, {\"Game\": \"LEGO Worlds\", \"Year\": 2017.0, \"Genre\": \"Misc\", \"Publisher\": \"Warner Bros. Interactive Entertainment\", \"North America\": 0.21, \"Europe\": 0.72, \"Japan\": 0.04, \"Rest of World\": 0.17, \"Global\": 1.14}, {\"Game\": \"The Elder Scrolls V: Skyrim PSVR\", \"Year\": 2017.0, \"Genre\": \"Role-Playing\", \"Publisher\": \"Bethesda Softworks\", \"North America\": 0.47, \"Europe\": 0.47, \"Japan\": 0.01, \"Rest of World\": 0.19, \"Global\": 1.13}, {\"Game\": \"LEGO Marvel Super Heroes 2\", \"Year\": 2017.0, \"Genre\": \"Action\", \"Publisher\": \"Warner Bros. Interactive Entertainment\", \"North America\": 0.33, \"Europe\": 0.6, \"Japan\": 0.0, \"Rest of World\": 0.18, \"Global\": 1.11}, {\"Game\": \"EA Sports UFC\", \"Year\": 2014.0, \"Genre\": \"Fighting\", \"Publisher\": \"Electronic Arts\", \"North America\": 0.49, \"Europe\": 0.43, \"Japan\": 0.01, \"Rest of World\": 0.18, \"Global\": 1.11}, {\"Game\": \"Final Fantasy XII: The Zodiac Age\", \"Year\": 2017.0, \"Genre\": \"Role-Playing\", \"Publisher\": \"Square Enix\", \"North America\": 0.37, \"Europe\": 0.41, \"Japan\": 0.16, \"Rest of World\": 0.15, \"Global\": 1.1}, {\"Game\": \"Alien: Isolation\", \"Year\": 2014.0, \"Genre\": \"Adventure\", \"Publisher\": \"Sega\", \"North America\": 0.29, \"Europe\": 0.59, \"Japan\": 0.05, \"Rest of World\": 0.16, \"Global\": 1.09}, {\"Game\": \"MLB The Show 18\", \"Year\": 2018.0, \"Genre\": \"Sports\", \"Publisher\": \"Sony Interactive Entertainment\", \"North America\": 0.86, \"Europe\": 0.0, \"Japan\": 0.0, \"Rest of World\": 0.2, \"Global\": 1.06}, {\"Game\": \"The Evil Within II\", \"Year\": 2017.0, \"Genre\": \"Action\", \"Publisher\": \"Bethesda Softworks\", \"North America\": 0.31, \"Europe\": 0.49, \"Japan\": 0.09, \"Rest of World\": 0.15, \"Global\": 1.05}, {\"Game\": \"Prey (2017)\", \"Year\": 2017.0, \"Genre\": \"Shooter\", \"Publisher\": \"Bethesda Softworks\", \"North America\": 0.25, \"Europe\": 0.62, \"Japan\": 0.02, \"Rest of World\": 0.16, \"Global\": 1.04}, {\"Game\": \"Final Fantasy Type-0\", \"Year\": 2015.0, \"Genre\": \"Role-Playing\", \"Publisher\": \"Square Enix\", \"North America\": 0.4, \"Europe\": 0.33, \"Japan\": 0.16, \"Rest of World\": 0.15, \"Global\": 1.04}, {\"Game\": \"Ni-Oh\", \"Year\": 2017.0, \"Genre\": \"Action\", \"Publisher\": \"Tecmo Koei\", \"North America\": 0.34, \"Europe\": 0.36, \"Japan\": 0.2, \"Rest of World\": 0.14, \"Global\": 1.03}, {\"Game\": \"MLB 15: The Show\", \"Year\": 2015.0, \"Genre\": \"Sports\", \"Publisher\": \"Sony Computer Entertainment\", \"North America\": 0.75, \"Europe\": 0.08, \"Japan\": 0.0, \"Rest of World\": 0.19, \"Global\": 1.01}, {\"Game\": \"Steep\", \"Year\": 2016.0, \"Genre\": \"Sports\", \"Publisher\": \"Ubisoft\", \"North America\": 0.23, \"Europe\": 0.6, \"Japan\": 0.02, \"Rest of World\": 0.15, \"Global\": 1.01}, {\"Game\": \"LEGO Marvel's Avengers\", \"Year\": 2016.0, \"Genre\": \"Action\", \"Publisher\": \"Warner Bros. Interactive Entertainment\", \"North America\": 0.31, \"Europe\": 0.53, \"Japan\": 0.01, \"Rest of World\": 0.16, \"Global\": 1.01}, {\"Game\": \"Evolve\", \"Year\": 2015.0, \"Genre\": \"Shooter\", \"Publisher\": \"2K Games\", \"North America\": 0.38, \"Europe\": 0.41, \"Japan\": 0.05, \"Rest of World\": 0.16, \"Global\": 1.01}, {\"Game\": \"Injustice: Gods Among Us\", \"Year\": 2013.0, \"Genre\": \"Fighting\", \"Publisher\": \"Warner Bros. Interactive Entertainment\", \"North America\": 0.46, \"Europe\": 0.35, \"Japan\": 0.0, \"Rest of World\": 0.17, \"Global\": 0.98}, {\"Game\": \"EA Sports UFC 3\", \"Year\": 2018.0, \"Genre\": \"Sports\", \"Publisher\": \"EA Sports\", \"North America\": 0.4, \"Europe\": 0.41, \"Japan\": 0.01, \"Rest of World\": 0.16, \"Global\": 0.97}, {\"Game\": \"Madden NFL 25\", \"Year\": 2013.0, \"Genre\": \"Sports\", \"Publisher\": \"EA Sports\", \"North America\": 0.64, \"Europe\": 0.15, \"Japan\": 0.0, \"Rest of World\": 0.17, \"Global\": 0.96}, {\"Game\": \"MLB 16: The Show\", \"Year\": 2016.0, \"Genre\": \"Sports\", \"Publisher\": \"Sony Computer Entertainment\", \"North America\": 0.78, \"Europe\": 0.0, \"Japan\": 0.0, \"Rest of World\": 0.18, \"Global\": 0.96}, {\"Game\": \"Lego Batman 3: Beyond Gotham\", \"Year\": 2014.0, \"Genre\": \"Action\", \"Publisher\": \"Warner Bros. Interactive Entertainment\", \"North America\": 0.37, \"Europe\": 0.42, \"Japan\": 0.0, \"Rest of World\": 0.16, \"Global\": 0.94}, {\"Game\": \"Final Fantasy X/X-2 HD Remaster\", \"Year\": 2015.0, \"Genre\": \"Role-Playing\", \"Publisher\": \"Square Enix\", \"North America\": 0.34, \"Europe\": 0.36, \"Japan\": 0.07, \"Rest of World\": 0.14, \"Global\": 0.9}, {\"Game\": \"Ni no Kuni II: Revenant Kingdom\", \"Year\": 2018.0, \"Genre\": \"Role-Playing\", \"Publisher\": \"Namco Bandai Games\", \"North America\": 0.33, \"Europe\": 0.31, \"Japan\": 0.12, \"Rest of World\": 0.13, \"Global\": 0.89}, {\"Game\": \"God of War III\", \"Year\": 2015.0, \"Genre\": \"Action\", \"Publisher\": \"Sony Computer Entertainment\", \"North America\": 0.4, \"Europe\": 0.33, \"Japan\": 0.02, \"Rest of World\": 0.15, \"Global\": 0.89}, {\"Game\": \"Fortnite\", \"Year\": 2017.0, \"Genre\": \"Action\", \"Publisher\": \"Gearbox Software\", \"North America\": 0.42, \"Europe\": 0.32, \"Japan\": 0.0, \"Rest of World\": 0.15, \"Global\": 0.89}, {\"Game\": \"LEGO Harry Potter Collection\", \"Year\": 2016.0, \"Genre\": \"Action\", \"Publisher\": \"Warner Bros. Interactive Entertainment\", \"North America\": 0.07, \"Europe\": 0.68, \"Japan\": 0.0, \"Rest of World\": 0.13, \"Global\": 0.88}, {\"Game\": \"Minecraft: Story Mode\", \"Year\": 2015.0, \"Genre\": \"Adventure\", \"Publisher\": \"Mojang\", \"North America\": 0.31, \"Europe\": 0.42, \"Japan\": 0.0, \"Rest of World\": 0.14, \"Global\": 0.87}, {\"Game\": \"BioShock The Collection\", \"Year\": 2016.0, \"Genre\": \"Shooter\", \"Publisher\": \"2K Games\", \"North America\": 0.41, \"Europe\": 0.28, \"Japan\": 0.03, \"Rest of World\": 0.14, \"Global\": 0.86}, {\"Game\": \"Thief 4\", \"Year\": 2014.0, \"Genre\": \"Action\", \"Publisher\": \"Square Enix\", \"North America\": 0.28, \"Europe\": 0.41, \"Japan\": 0.03, \"Rest of World\": 0.13, \"Global\": 0.85}, {\"Game\": \"Until Dawn: Rush of Blood\", \"Year\": 2016.0, \"Genre\": \"Shooter\", \"Publisher\": \"Sony Interactive Entertainment\", \"North America\": 0.5, \"Europe\": 0.21, \"Japan\": 0.0, \"Rest of World\": 0.15, \"Global\": 0.85}, {\"Game\": \"Disney Infinity 3.0\", \"Year\": 2015.0, \"Genre\": \"Action\", \"Publisher\": \"Disney Interactive Studios\", \"North America\": 0.31, \"Europe\": 0.4, \"Japan\": 0.0, \"Rest of World\": 0.14, \"Global\": 0.85}, {\"Game\": \"Farming Simulator 17\", \"Year\": 2016.0, \"Genre\": \"Simulation\", \"Publisher\": \"Focus Home Interactive\", \"North America\": 0.19, \"Europe\": 0.52, \"Japan\": 0.01, \"Rest of World\": 0.13, \"Global\": 0.85}, {\"Game\": \"The Crew 2\", \"Year\": 2018.0, \"Genre\": \"Racing\", \"Publisher\": \"Ubisoft\", \"North America\": 0.22, \"Europe\": 0.42, \"Japan\": 0.05, \"Rest of World\": 0.12, \"Global\": 0.82}, {\"Game\": \"Pro Evolution Soccer 2016\", \"Year\": 2015.0, \"Genre\": \"Sports\", \"Publisher\": \"Konami Digital Entertainment\", \"North America\": 0.14, \"Europe\": 0.43, \"Japan\": 0.14, \"Rest of World\": 0.1, \"Global\": 0.82}, {\"Game\": \"ARK: Survival Evolved\", \"Year\": 2017.0, \"Genre\": \"Action\", \"Publisher\": \"Studio Wildcard\", \"North America\": 0.28, \"Europe\": 0.29, \"Japan\": 0.14, \"Rest of World\": 0.11, \"Global\": 0.81}, {\"Game\": \"Dragon Quest Heroes: The World's Tree Woe and the Blight Below\", \"Year\": 2015.0, \"Genre\": \"Action\", \"Publisher\": \"Square Enix\", \"North America\": 0.21, \"Europe\": 0.14, \"Japan\": 0.39, \"Rest of World\": 0.07, \"Global\": 0.81}, {\"Game\": \"Assassin's Creed The Ezio Collection\", \"Year\": 2016.0, \"Genre\": \"Action\", \"Publisher\": \"Ubisoft\", \"North America\": 0.14, \"Europe\": 0.52, \"Japan\": 0.02, \"Rest of World\": 0.12, \"Global\": 0.79}, {\"Game\": \"Final Fantasy XIV: A Realm Reborn\", \"Year\": 2014.0, \"Genre\": \"MMO\", \"Publisher\": \"Square Enix\", \"North America\": 0.35, \"Europe\": 0.23, \"Japan\": 0.08, \"Rest of World\": 0.12, \"Global\": 0.79}, {\"Game\": \"Destiny: The Collection\", \"Year\": 2016.0, \"Genre\": \"Shooter\", \"Publisher\": \"Activision\", \"North America\": 0.24, \"Europe\": 0.4, \"Japan\": 0.02, \"Rest of World\": 0.12, \"Global\": 0.78}, {\"Game\": \"F1 2016 (Codemasters)\", \"Year\": 2016.0, \"Genre\": \"Racing\", \"Publisher\": \"Codemasters\", \"North America\": 0.07, \"Europe\": 0.56, \"Japan\": 0.03, \"Rest of World\": 0.11, \"Global\": 0.78}, {\"Game\": \"Hitman (2016)\", \"Year\": 2017.0, \"Genre\": \"Action\", \"Publisher\": \"Square Enix\", \"North America\": 0.24, \"Europe\": 0.36, \"Japan\": 0.06, \"Rest of World\": 0.11, \"Global\": 0.78}, {\"Game\": \"Pro Evolution Soccer 2015\", \"Year\": 2014.0, \"Genre\": \"Sports\", \"Publisher\": \"Konami Digital Entertainment\", \"North America\": 0.09, \"Europe\": 0.45, \"Japan\": 0.12, \"Rest of World\": 0.1, \"Global\": 0.76}, {\"Game\": \"LEGO City Undercover\", \"Year\": 2017.0, \"Genre\": \"Platform\", \"Publisher\": \"Warner Bros. Interactive Entertainment\", \"North America\": 0.17, \"Europe\": 0.46, \"Japan\": 0.01, \"Rest of World\": 0.12, \"Global\": 0.75}, {\"Game\": \"Pro Evolution Soccer 2018\", \"Year\": 2017.0, \"Genre\": \"Sports\", \"Publisher\": \"Konami Digital Entertainment\", \"North America\": 0.12, \"Europe\": 0.36, \"Japan\": 0.19, \"Rest of World\": 0.09, \"Global\": 0.75}, {\"Game\": \"Disney Infinity 2.0: Marvel Super Heroes\", \"Year\": 2014.0, \"Genre\": \"Action-Adventure\", \"Publisher\": \"Disney Interactive Studios\", \"North America\": 0.37, \"Europe\": 0.25, \"Japan\": 0.0, \"Rest of World\": 0.13, \"Global\": 0.75}, {\"Game\": \"Pro Evolution Soccer 2017\", \"Year\": 2016.0, \"Genre\": \"Sports\", \"Publisher\": \"Konami Digital Entertainment\", \"North America\": 0.08, \"Europe\": 0.41, \"Japan\": 0.18, \"Rest of World\": 0.09, \"Global\": 0.75}, {\"Game\": \"Sniper Elite 3\", \"Year\": 2014.0, \"Genre\": \"Shooter\", \"Publisher\": \"505 Games\", \"North America\": 0.25, \"Europe\": 0.37, \"Japan\": 0.0, \"Rest of World\": 0.12, \"Global\": 0.74}, {\"Game\": \"MLB 14 The Show\", \"Year\": 2014.0, \"Genre\": \"Sports\", \"Publisher\": \"Sony Computer Entertainment\", \"North America\": 0.59, \"Europe\": 0.0, \"Japan\": 0.0, \"Rest of World\": 0.14, \"Global\": 0.73}, {\"Game\": \"WipEout Omega Collection\", \"Year\": 2017.0, \"Genre\": \"Racing\", \"Publisher\": \"Sony Interactive Entertainment\", \"North America\": 0.12, \"Europe\": 0.49, \"Japan\": 0.0, \"Rest of World\": 0.11, \"Global\": 0.72}, {\"Game\": \"Deus Ex: Mankind Divided\", \"Year\": 2016.0, \"Genre\": \"Role-Playing\", \"Publisher\": \"Square Enix\", \"North America\": 0.25, \"Europe\": 0.34, \"Japan\": 0.01, \"Rest of World\": 0.12, \"Global\": 0.72}, {\"Game\": \"The LEGO Movie Videogame\", \"Year\": 2014.0, \"Genre\": \"Action-Adventure\", \"Publisher\": \"Warner Bros. Interactive Entertainment\", \"North America\": 0.26, \"Europe\": 0.32, \"Japan\": 0.01, \"Rest of World\": 0.11, \"Global\": 0.71}, {\"Game\": \"Marvel vs. Capcom: Infinite\", \"Year\": 2017.0, \"Genre\": \"Fighting\", \"Publisher\": \"Capcom\", \"North America\": 0.36, \"Europe\": 0.19, \"Japan\": 0.04, \"Rest of World\": 0.11, \"Global\": 0.7}, {\"Game\": \"Dark Souls II\", \"Year\": 2015.0, \"Genre\": \"Role-Playing\", \"Publisher\": \"Namco Bandai Games\", \"North America\": 0.27, \"Europe\": 0.23, \"Japan\": 0.09, \"Rest of World\": 0.1, \"Global\": 0.69}, {\"Game\": \"Yakuza 6\", \"Year\": 2016.0, \"Genre\": \"Adventure\", \"Publisher\": \"Sega\", \"North America\": 0.16, \"Europe\": 0.1, \"Japan\": 0.38, \"Rest of World\": 0.05, \"Global\": 0.69}, {\"Game\": \"F1 2015\", \"Year\": 2015.0, \"Genre\": \"Racing\", \"Publisher\": \"Codemasters\", \"North America\": 0.1, \"Europe\": 0.45, \"Japan\": 0.04, \"Rest of World\": 0.1, \"Global\": 0.68}, {\"Game\": \"METRO 2033\", \"Year\": 2014.0, \"Genre\": \"Shooter\", \"Publisher\": \"Deep Silver\", \"North America\": 0.22, \"Europe\": 0.31, \"Japan\": 0.05, \"Rest of World\": 0.1, \"Global\": 0.68}, {\"Game\": \"Rocksmith 2014\", \"Year\": 2014.0, \"Genre\": \"Music\", \"Publisher\": \"Ubisoft\", \"North America\": 0.38, \"Europe\": 0.17, \"Japan\": 0.0, \"Rest of World\": 0.12, \"Global\": 0.67}, {\"Game\": \"NHL 16\", \"Year\": 2015.0, \"Genre\": \"Sports\", \"Publisher\": \"EA Sports\", \"North America\": 0.38, \"Europe\": 0.16, \"Japan\": 0.0, \"Rest of World\": 0.12, \"Global\": 0.66}, {\"Game\": \"Plants vs Zombies: Garden Warfare\", \"Year\": 2014.0, \"Genre\": \"Shooter\", \"Publisher\": \"Electronic Arts\", \"North America\": 0.24, \"Europe\": 0.3, \"Japan\": 0.01, \"Rest of World\": 0.11, \"Global\": 0.66}, {\"Game\": \"Tales of Berseria\", \"Year\": 2016.0, \"Genre\": \"Role-Playing\", \"Publisher\": \"Namco Bandai Games\", \"North America\": 0.22, \"Europe\": 0.1, \"Japan\": 0.26, \"Rest of World\": 0.07, \"Global\": 0.65}, {\"Game\": \"Yakuza Zero: The Place of Oath\", \"Year\": 2015.0, \"Genre\": \"Adventure\", \"Publisher\": \"Sega\", \"North America\": 0.22, \"Europe\": 0.16, \"Japan\": 0.19, \"Rest of World\": 0.08, \"Global\": 0.65}, {\"Game\": \"One Piece: Burning Blood\", \"Year\": 2016.0, \"Genre\": \"Fighting\", \"Publisher\": \"Namco Bandai Games\", \"North America\": 0.21, \"Europe\": 0.26, \"Japan\": 0.09, \"Rest of World\": 0.09, \"Global\": 0.65}, {\"Game\": \"Batman: Return to Arkham\", \"Year\": 2016.0, \"Genre\": \"Action\", \"Publisher\": \"Warner Bros. Interactive Entertainment\", \"North America\": 0.15, \"Europe\": 0.39, \"Japan\": 0.01, \"Rest of World\": 0.1, \"Global\": 0.64}, {\"Game\": \"Plants vs. Zombies: Garden Warfare 2\", \"Year\": 2016.0, \"Genre\": \"Shooter\", \"Publisher\": \"Electronic Arts\", \"North America\": 0.22, \"Europe\": 0.31, \"Japan\": 0.0, \"Rest of World\": 0.1, \"Global\": 0.63}, {\"Game\": \"LEGO The Hobbit\", \"Year\": 2014.0, \"Genre\": \"Action-Adventure\", \"Publisher\": \"Warner Bros. Interactive Entertainment\", \"North America\": 0.14, \"Europe\": 0.39, \"Japan\": 0.0, \"Rest of World\": 0.1, \"Global\": 0.62}, {\"Game\": \"World of Final Fantasy\", \"Year\": 2016.0, \"Genre\": \"Role-Playing\", \"Publisher\": \"Square Enix\", \"North America\": 0.24, \"Europe\": 0.21, \"Japan\": 0.09, \"Rest of World\": 0.09, \"Global\": 0.62}, {\"Game\": \"F1 2017\", \"Year\": 2017.0, \"Genre\": \"Racing\", \"Publisher\": \"Koch Media\", \"North America\": 0.04, \"Europe\": 0.47, \"Japan\": 0.02, \"Rest of World\": 0.09, \"Global\": 0.62}, {\"Game\": \"NHL 15\", \"Year\": 2014.0, \"Genre\": \"Sports\", \"Publisher\": \"EA Sports\", \"North America\": 0.32, \"Europe\": 0.19, \"Japan\": 0.0, \"Rest of World\": 0.11, \"Global\": 0.62}, {\"Game\": \"Knowledge is Power\", \"Year\": 2017.0, \"Genre\": \"Party\", \"Publisher\": \"Sony Interactive Entertainment\", \"North America\": 0.05, \"Europe\": 0.47, \"Japan\": 0.0, \"Rest of World\": 0.09, \"Global\": 0.61}, {\"Game\": \"L.A. Noire\", \"Year\": 2017.0, \"Genre\": \"Adventure\", \"Publisher\": \"Rockstar Games\", \"North America\": 0.18, \"Europe\": 0.32, \"Japan\": 0.0, \"Rest of World\": 0.1, \"Global\": 0.6}, {\"Game\": \"Hidden Agenda\", \"Year\": 2017.0, \"Genre\": \"Adventure\", \"Publisher\": \"Sony Interactive Entertainment\", \"North America\": 0.08, \"Europe\": 0.42, \"Japan\": 0.0, \"Rest of World\": 0.09, \"Global\": 0.59}, {\"Game\": \"Call of Duty: Modern Warfare Remastered\", \"Year\": 2017.0, \"Genre\": \"Shooter\", \"Publisher\": \"Activision\", \"North America\": 0.17, \"Europe\": 0.3, \"Japan\": 0.03, \"Rest of World\": 0.09, \"Global\": 0.58}, {\"Game\": \"Dragon Quest Builders: Revive Alefgard\", \"Year\": 2016.0, \"Genre\": \"Role-Playing\", \"Publisher\": \"Square Enix\", \"North America\": 0.12, \"Europe\": 0.17, \"Japan\": 0.24, \"Rest of World\": 0.06, \"Global\": 0.58}, {\"Game\": \"The Lego Ninjago Movie Videogame\", \"Year\": 2017.0, \"Genre\": \"Action\", \"Publisher\": \"Warner Bros. Interactive Entertainment\", \"North America\": 0.16, \"Europe\": 0.32, \"Japan\": 0.0, \"Rest of World\": 0.09, \"Global\": 0.57}, {\"Game\": \"Resident Evil: Revelations 2\", \"Year\": 2015.0, \"Genre\": \"Action\", \"Publisher\": \"Capcom\", \"North America\": 0.14, \"Europe\": 0.25, \"Japan\": 0.11, \"Rest of World\": 0.07, \"Global\": 0.57}, {\"Game\": \"Rock Band 4\", \"Year\": 2015.0, \"Genre\": \"Music\", \"Publisher\": \"Harmonix Music Systems\", \"North America\": 0.41, \"Europe\": 0.06, \"Japan\": 0.0, \"Rest of World\": 0.1, \"Global\": 0.57}, {\"Game\": \"NHL 18\", \"Year\": 2017.0, \"Genre\": \"Sports\", \"Publisher\": \"EA Sports\", \"North America\": 0.31, \"Europe\": 0.16, \"Japan\": 0.0, \"Rest of World\": 0.1, \"Global\": 0.57}, {\"Game\": \"Everybody's Golf\", \"Year\": 2017.0, \"Genre\": \"Sports\", \"Publisher\": \"Sony Interactive Entertainment\", \"North America\": 0.12, \"Europe\": 0.22, \"Japan\": 0.17, \"Rest of World\": 0.06, \"Global\": 0.56}, {\"Game\": \"The Amazing Spider-Man 2 (2014)\", \"Year\": 2014.0, \"Genre\": \"Action-Adventure\", \"Publisher\": \"Activision\", \"North America\": 0.2, \"Europe\": 0.26, \"Japan\": 0.02, \"Rest of World\": 0.09, \"Global\": 0.56}, {\"Game\": \"DOOM VFR\", \"Year\": 2017.0, \"Genre\": \"Shooter\", \"Publisher\": \"Bethesda Softworks\", \"North America\": 0.22, \"Europe\": 0.25, \"Japan\": 0.0, \"Rest of World\": 0.09, \"Global\": 0.56}, {\"Game\": \"Sonic Forces\", \"Year\": 2017.0, \"Genre\": \"Platform\", \"Publisher\": \"Sega\", \"North America\": 0.15, \"Europe\": 0.31, \"Japan\": 0.01, \"Rest of World\": 0.09, \"Global\": 0.56}, {\"Game\": \"Kingdom Come: Deliverance\", \"Year\": 2018.0, \"Genre\": \"Role-Playing\", \"Publisher\": \"Deep Silver\", \"North America\": 0.18, \"Europe\": 0.28, \"Japan\": 0.0, \"Rest of World\": 0.09, \"Global\": 0.56}, {\"Game\": \"Lords of the Fallen\", \"Year\": 2014.0, \"Genre\": \"Role-Playing\", \"Publisher\": \"Square Enix\", \"North America\": 0.2, \"Europe\": 0.24, \"Japan\": 0.02, \"Rest of World\": 0.09, \"Global\": 0.55}, {\"Game\": \"Sniper Elite 4\", \"Year\": 2017.0, \"Genre\": \"Shooter\", \"Publisher\": \"Rebellion Developments\", \"North America\": 0.21, \"Europe\": 0.25, \"Japan\": 0.0, \"Rest of World\": 0.09, \"Global\": 0.55}, {\"Game\": \"Rory McIlroy PGA Tour\", \"Year\": 2015.0, \"Genre\": \"Sports\", \"Publisher\": \"Electronic Arts\", \"North America\": 0.19, \"Europe\": 0.27, \"Japan\": 0.0, \"Rest of World\": 0.09, \"Global\": 0.55}, {\"Game\": \"Project CARS 2\", \"Year\": 2017.0, \"Genre\": \"Racing\", \"Publisher\": \"Namco Bandai Games\", \"North America\": 0.1, \"Europe\": 0.35, \"Japan\": 0.02, \"Rest of World\": 0.08, \"Global\": 0.55}, {\"Game\": \"Skylanders: Trap Team\", \"Year\": 2014.0, \"Genre\": \"Platform\", \"Publisher\": \"Activision\", \"North America\": 0.25, \"Europe\": 0.18, \"Japan\": 0.0, \"Rest of World\": 0.09, \"Global\": 0.52}, {\"Game\": \"NHL 17\", \"Year\": 2016.0, \"Genre\": \"Sports\", \"Publisher\": \"EA Sports\", \"North America\": 0.32, \"Europe\": 0.11, \"Japan\": 0.0, \"Rest of World\": 0.09, \"Global\": 0.52}, {\"Game\": \"One Piece: Pirate Warriors 3\", \"Year\": 2015.0, \"Genre\": \"Action\", \"Publisher\": \"Namco Bandai Games\", \"North America\": 0.11, \"Europe\": 0.22, \"Japan\": 0.11, \"Rest of World\": 0.06, \"Global\": 0.52}, {\"Game\": \"DiRT Rally\", \"Year\": 2016.0, \"Genre\": \"Racing\", \"Publisher\": \"Codemasters\", \"North America\": 0.13, \"Europe\": 0.3, \"Japan\": 0.0, \"Rest of World\": 0.08, \"Global\": 0.51}, {\"Game\": \"Homefront: The Revolution\", \"Year\": 2016.0, \"Genre\": \"Shooter\", \"Publisher\": \"Deep Silver\", \"North America\": 0.11, \"Europe\": 0.29, \"Japan\": 0.04, \"Rest of World\": 0.07, \"Global\": 0.5}, {\"Game\": \"Attack on Titan (KOEI)\", \"Year\": 2016.0, \"Genre\": \"Action\", \"Publisher\": \"Tecmo Koei\", \"North America\": 0.08, \"Europe\": 0.24, \"Japan\": 0.12, \"Rest of World\": 0.06, \"Global\": 0.5}, {\"Game\": \"DiRT 4\", \"Year\": 2017.0, \"Genre\": \"Racing\", \"Publisher\": \"Codemasters\", \"North America\": 0.1, \"Europe\": 0.3, \"Japan\": 0.02, \"Rest of World\": 0.07, \"Global\": 0.49}, {\"Game\": \"Farpoint\", \"Year\": 2017.0, \"Genre\": \"Shooter\", \"Publisher\": \"Sony Interactive Entertainment\", \"North America\": 0.0, \"Europe\": 0.38, \"Japan\": 0.04, \"Rest of World\": 0.06, \"Global\": 0.48}, {\"Game\": \"Battleborn\", \"Year\": 2016.0, \"Genre\": \"Shooter\", \"Publisher\": \"2K Games\", \"North America\": 0.25, \"Europe\": 0.12, \"Japan\": 0.03, \"Rest of World\": 0.08, \"Global\": 0.48}, {\"Game\": \"A Way Out\", \"Year\": 2018.0, \"Genre\": \"Action\", \"Publisher\": \"Electronic Arts\", \"North America\": 0.23, \"Europe\": 0.16, \"Japan\": 0.0, \"Rest of World\": 0.08, \"Global\": 0.48}, {\"Game\": \"Friday the 13th: The Game\", \"Year\": 2017.0, \"Genre\": \"Action\", \"Publisher\": \"Gun Media\", \"North America\": 0.29, \"Europe\": 0.09, \"Japan\": 0.03, \"Rest of World\": 0.08, \"Global\": 0.48}, {\"Game\": \"The Walking Dead: A Telltale Games Series\", \"Year\": 2014.0, \"Genre\": \"Adventure\", \"Publisher\": \"Telltale Games\", \"North America\": 0.12, \"Europe\": 0.26, \"Japan\": 0.03, \"Rest of World\": 0.07, \"Global\": 0.48}, {\"Game\": \"Wolfenstein: The Old Blood\", \"Year\": 2015.0, \"Genre\": \"Shooter\", \"Publisher\": \"Bethesda Softworks\", \"North America\": 0.13, \"Europe\": 0.25, \"Japan\": 0.02, \"Rest of World\": 0.07, \"Global\": 0.48}, {\"Game\": \"Deadpool\", \"Year\": 2015.0, \"Genre\": \"Action\", \"Publisher\": \"Activision\", \"North America\": 0.26, \"Europe\": 0.13, \"Japan\": 0.0, \"Rest of World\": 0.08, \"Global\": 0.47}, {\"Game\": \"Dragon Quest Heroes II: Twin Kings and the Prophecy's End\", \"Year\": 2016.0, \"Genre\": \"Action\", \"Publisher\": \"Square Enix\", \"North America\": 0.05, \"Europe\": 0.09, \"Japan\": 0.3, \"Rest of World\": 0.03, \"Global\": 0.47}, {\"Game\": \"TrackMania Turbo\", \"Year\": 2016.0, \"Genre\": \"Racing\", \"Publisher\": \"Ubisoft\", \"North America\": 0.04, \"Europe\": 0.35, \"Japan\": 0.0, \"Rest of World\": 0.07, \"Global\": 0.47}, {\"Game\": \"Knack 2\", \"Year\": 2017.0, \"Genre\": \"Platform\", \"Publisher\": \"Sony Interactive Entertainment\", \"North America\": 0.14, \"Europe\": 0.25, \"Japan\": 0.01, \"Rest of World\": 0.07, \"Global\": 0.47}, {\"Game\": \"Just Dance 2014\", \"Year\": 2013.0, \"Genre\": \"Music\", \"Publisher\": \"Ubisoft\", \"North America\": 0.21, \"Europe\": 0.18, \"Japan\": 0.0, \"Rest of World\": 0.08, \"Global\": 0.47}, {\"Game\": \"Dissidia Final Fantasy NT\", \"Year\": 2018.0, \"Genre\": \"Fighting\", \"Publisher\": \"Square Enix\", \"North America\": 0.19, \"Europe\": 0.06, \"Japan\": 0.16, \"Rest of World\": 0.05, \"Global\": 0.46}, {\"Game\": \"Skylanders: SuperChargers\", \"Year\": 2015.0, \"Genre\": \"Action-Adventure\", \"Publisher\": \"Activision\", \"North America\": 0.29, \"Europe\": 0.09, \"Japan\": 0.0, \"Rest of World\": 0.08, \"Global\": 0.45}, {\"Game\": \"Yakuza Kiwami\", \"Year\": 2016.0, \"Genre\": \"Adventure\", \"Publisher\": \"Sega\", \"North America\": 0.13, \"Europe\": 0.07, \"Japan\": 0.21, \"Rest of World\": 0.04, \"Global\": 0.45}, {\"Game\": \"Tales of Zestiria\", \"Year\": 2015.0, \"Genre\": \"Role-Playing\", \"Publisher\": \"Namco Bandai Games\", \"North America\": 0.18, \"Europe\": 0.16, \"Japan\": 0.04, \"Rest of World\": 0.07, \"Global\": 0.45}, {\"Game\": \"Star Ocean 5: Integrity and Faithlessness\", \"Year\": 2016.0, \"Genre\": \"Role-Playing\", \"Publisher\": \"Square Enix\", \"North America\": 0.1, \"Europe\": 0.13, \"Japan\": 0.16, \"Rest of World\": 0.05, \"Global\": 0.45}, {\"Game\": \"Sleeping Dogs\", \"Year\": 2014.0, \"Genre\": \"Action\", \"Publisher\": \"Square Enix\", \"North America\": 0.16, \"Europe\": 0.21, \"Japan\": 0.0, \"Rest of World\": 0.07, \"Global\": 0.44}, {\"Game\": \"Skylanders SWAP Force\", \"Year\": 2013.0, \"Genre\": \"Misc\", \"Publisher\": \"Activision\", \"North America\": 0.23, \"Europe\": 0.14, \"Japan\": 0.0, \"Rest of World\": 0.08, \"Global\": 0.44}, {\"Game\": \"Skylanders Imaginators\", \"Year\": 2016.0, \"Genre\": \"Platform\", \"Publisher\": \"Activision\", \"North America\": 0.18, \"Europe\": 0.18, \"Japan\": 0.0, \"Rest of World\": 0.07, \"Global\": 0.43}, {\"Game\": \"Trials Fusion\", \"Year\": 2014.0, \"Genre\": \"Misc\", \"Publisher\": \"Ubisoft\", \"North America\": 0.13, \"Europe\": 0.23, \"Japan\": 0.01, \"Rest of World\": 0.07, \"Global\": 0.43}, {\"Game\": \"Saints Row IV\", \"Year\": 2015.0, \"Genre\": \"Action\", \"Publisher\": \"Deep Silver\", \"North America\": 0.15, \"Europe\": 0.18, \"Japan\": 0.03, \"Rest of World\": 0.06, \"Global\": 0.42}, {\"Game\": \"Dishonored\", \"Year\": 2015.0, \"Genre\": \"Action\", \"Publisher\": \"Bethesda Softworks\", \"North America\": 0.12, \"Europe\": 0.21, \"Japan\": 0.02, \"Rest of World\": 0.06, \"Global\": 0.42}, {\"Game\": \"Mirror's Edge 2\", \"Year\": 2016.0, \"Genre\": \"Platform\", \"Publisher\": \"Electronic Arts\", \"North America\": 0.13, \"Europe\": 0.19, \"Japan\": 0.03, \"Rest of World\": 0.06, \"Global\": 0.42}, {\"Game\": \"Farming Simulator 2015\", \"Year\": 2015.0, \"Genre\": \"Simulation\", \"Publisher\": \"Koch Media\", \"North America\": 0.13, \"Europe\": 0.22, \"Japan\": 0.0, \"Rest of World\": 0.07, \"Global\": 0.41}, {\"Game\": \"Just Dance 2015\", \"Year\": 2014.0, \"Genre\": \"Music\", \"Publisher\": \"Ubisoft\", \"North America\": 0.21, \"Europe\": 0.13, \"Japan\": 0.0, \"Rest of World\": 0.07, \"Global\": 0.41}, {\"Game\": \"Sword Art Online: Hollow Realization\", \"Year\": 2016.0, \"Genre\": \"Role-Playing\", \"Publisher\": \"Namco Bandai Games\", \"North America\": 0.18, \"Europe\": 0.06, \"Japan\": 0.12, \"Rest of World\": 0.05, \"Global\": 0.41}, {\"Game\": \"Just Dance 2016\", \"Year\": 2015.0, \"Genre\": \"Music\", \"Publisher\": \"Ubisoft\", \"North America\": 0.19, \"Europe\": 0.13, \"Japan\": 0.0, \"Rest of World\": 0.07, \"Global\": 0.39}, {\"Game\": \"Batman: Arkham VR\", \"Year\": 2016.0, \"Genre\": \"Action\", \"Publisher\": \"Warner Bros. Interactive Entertainment\", \"North America\": 0.32, \"Europe\": 0.0, \"Japan\": 0.0, \"Rest of World\": 0.07, \"Global\": 0.39}, {\"Game\": \"Little Nightmares\", \"Year\": 2017.0, \"Genre\": \"Platform\", \"Publisher\": \"Namco Bandai Games\", \"North America\": 0.18, \"Europe\": 0.12, \"Japan\": 0.02, \"Rest of World\": 0.06, \"Global\": 0.39}, {\"Game\": \"Tropico 5\", \"Year\": 2015.0, \"Genre\": \"Simulation\", \"Publisher\": \"Kalypso Media\", \"North America\": 0.07, \"Europe\": 0.18, \"Japan\": 0.08, \"Rest of World\": 0.05, \"Global\": 0.38}, {\"Game\": \"Life is Strange\", \"Year\": 2016.0, \"Genre\": \"Adventure\", \"Publisher\": \"Square Enix\", \"North America\": 0.11, \"Europe\": 0.16, \"Japan\": 0.05, \"Rest of World\": 0.05, \"Global\": 0.37}, {\"Game\": \"Resident Evil Zero\", \"Year\": 2016.0, \"Genre\": \"Action-Adventure\", \"Publisher\": \"Capcom\", \"North America\": 0.07, \"Europe\": 0.18, \"Japan\": 0.07, \"Rest of World\": 0.05, \"Global\": 0.37}, {\"Game\": \"Yakuza Kiwami 2\", \"Year\": 2017.0, \"Genre\": \"Action\", \"Publisher\": \"Sega\", \"North America\": 0.08, \"Europe\": 0.06, \"Japan\": 0.19, \"Rest of World\": 0.03, \"Global\": 0.37}, {\"Game\": \"Vampyr\", \"Year\": 2018.0, \"Genre\": \"Role-Playing\", \"Publisher\": \"Focus Home Interactive\", \"North America\": 0.12, \"Europe\": 0.19, \"Japan\": 0.0, \"Rest of World\": 0.06, \"Global\": 0.37}, {\"Game\": \"Okami\", \"Year\": 2017.0, \"Genre\": \"Action\", \"Publisher\": \"Capcom\", \"North America\": 0.16, \"Europe\": 0.12, \"Japan\": 0.03, \"Rest of World\": 0.06, \"Global\": 0.36}, {\"Game\": \"Sniper: Ghost Warrior 3\", \"Year\": 2017.0, \"Genre\": \"Shooter\", \"Publisher\": \"City Interactive\", \"North America\": 0.14, \"Europe\": 0.15, \"Japan\": 0.03, \"Rest of World\": 0.06, \"Global\": 0.36}, {\"Game\": \"Hokuto ga Gotoku\", \"Year\": 2018.0, \"Genre\": \"Action\", \"Publisher\": \"Sega\", \"North America\": 0.09, \"Europe\": 0.05, \"Japan\": 0.18, \"Rest of World\": 0.03, \"Global\": 0.36}, {\"Game\": \"Sword Art Online: Lost Song\", \"Year\": 2015.0, \"Genre\": \"Role-Playing\", \"Publisher\": \"Namco Bandai Games\", \"North America\": 0.19, \"Europe\": 0.11, \"Japan\": 0.0, \"Rest of World\": 0.06, \"Global\": 0.36}, {\"Game\": \"Disgaea 5: Alliance of Vengeance\", \"Year\": 2015.0, \"Genre\": \"Role-Playing\", \"Publisher\": \"NIS America\", \"North America\": 0.15, \"Europe\": 0.08, \"Japan\": 0.07, \"Rest of World\": 0.05, \"Global\": 0.35}, {\"Game\": \"Dead or Alive 5\", \"Year\": 2015.0, \"Genre\": \"Fighting\", \"Publisher\": \"Tecmo Koei\", \"North America\": 0.09, \"Europe\": 0.13, \"Japan\": 0.09, \"Rest of World\": 0.04, \"Global\": 0.35}, {\"Game\": \"Gravity Rush 2\", \"Year\": 2017.0, \"Genre\": \"Action-Adventure\", \"Publisher\": \"Sony Interactive Entertainment\", \"North America\": 0.13, \"Europe\": 0.05, \"Japan\": 0.13, \"Rest of World\": 0.04, \"Global\": 0.35}, {\"Game\": \"Odin Sphere: Leifthrasir\", \"Year\": 2016.0, \"Genre\": \"Role-Playing\", \"Publisher\": \"NIS America\", \"North America\": 0.14, \"Europe\": 0.07, \"Japan\": 0.09, \"Rest of World\": 0.04, \"Global\": 0.34}, {\"Game\": \"Divinity: Original Sin\", \"Year\": 2015.0, \"Genre\": \"Role-Playing\", \"Publisher\": \"Focus Home Interactive\", \"North America\": 0.13, \"Europe\": 0.13, \"Japan\": 0.04, \"Rest of World\": 0.05, \"Global\": 0.34}, {\"Game\": \"The King of Fighters XIV\", \"Year\": 2016.0, \"Genre\": \"Fighting\", \"Publisher\": \"Deep Silver\", \"North America\": 0.21, \"Europe\": 0.02, \"Japan\": 0.06, \"Rest of World\": 0.05, \"Global\": 0.34}, {\"Game\": \"Dishonored: Death of the Outsider\", \"Year\": 2017.0, \"Genre\": \"Action\", \"Publisher\": \"Bethesda Softworks\", \"North America\": 0.1, \"Europe\": 0.18, \"Japan\": 0.0, \"Rest of World\": 0.05, \"Global\": 0.33}, {\"Game\": \"Valkyria Chronicles\", \"Year\": 2016.0, \"Genre\": \"Role-Playing\", \"Publisher\": \"Sega\", \"North America\": 0.14, \"Europe\": 0.08, \"Japan\": 0.08, \"Rest of World\": 0.04, \"Global\": 0.33}, {\"Game\": \"Murdered: Soul Suspect\", \"Year\": 2014.0, \"Genre\": \"Action-Adventure\", \"Publisher\": \"Square Enix\", \"North America\": 0.09, \"Europe\": 0.17, \"Japan\": 0.02, \"Rest of World\": 0.05, \"Global\": 0.33}, {\"Game\": \"Payday 2\", \"Year\": 2015.0, \"Genre\": \"Shooter\", \"Publisher\": \"505 Games\", \"North America\": 0.12, \"Europe\": 0.14, \"Japan\": 0.0, \"Rest of World\": 0.05, \"Global\": 0.32}, {\"Game\": \"UEFA Euro 2016\", \"Year\": 2016.0, \"Genre\": \"Sports\", \"Publisher\": \"Konami Digital Entertainment\", \"North America\": 0.0, \"Europe\": 0.22, \"Japan\": 0.05, \"Rest of World\": 0.04, \"Global\": 0.31}, {\"Game\": \"DmC: Devil May Cry\", \"Year\": 2015.0, \"Genre\": \"Action\", \"Publisher\": \"Capcom\", \"North America\": 0.12, \"Europe\": 0.13, \"Japan\": 0.0, \"Rest of World\": 0.05, \"Global\": 0.31}, {\"Game\": \"Sonic Mania\", \"Year\": 2017.0, \"Genre\": \"Platform\", \"Publisher\": \"Sega\", \"North America\": 0.1, \"Europe\": 0.15, \"Japan\": 0.01, \"Rest of World\": 0.05, \"Global\": 0.31}, {\"Game\": \"J Stars Victory Vs.\", \"Year\": 2015.0, \"Genre\": \"Fighting\", \"Publisher\": \"Namco Bandai Games\", \"North America\": 0.11, \"Europe\": 0.14, \"Japan\": 0.0, \"Rest of World\": 0.05, \"Global\": 0.31}, {\"Game\": \"XCOM 2\", \"Year\": 2016.0, \"Genre\": \"Strategy\", \"Publisher\": \"2K Games\", \"North America\": 0.16, \"Europe\": 0.1, \"Japan\": 0.0, \"Rest of World\": 0.05, \"Global\": 0.31}, {\"Game\": \"Dynasty Warriors 8: Xtreme Legends\", \"Year\": 2014.0, \"Genre\": \"Misc\", \"Publisher\": \"Tecmo Koei\", \"North America\": 0.09, \"Europe\": 0.12, \"Japan\": 0.06, \"Rest of World\": 0.04, \"Global\": 0.31}, {\"Game\": \"Cities: Skylines\", \"Year\": 2017.0, \"Genre\": \"Simulation\", \"Publisher\": \"Koch Media\", \"North America\": 0.15, \"Europe\": 0.07, \"Japan\": 0.04, \"Rest of World\": 0.05, \"Global\": 0.3}, {\"Game\": \"Saint Seiya: Soldiers' Soul\", \"Year\": 2015.0, \"Genre\": \"Fighting\", \"Publisher\": \"Namco Bandai Games\", \"North America\": 0.0, \"Europe\": 0.21, \"Japan\": 0.05, \"Rest of World\": 0.04, \"Global\": 0.3}, {\"Game\": \"Just Dance 2018\", \"Year\": 2017.0, \"Genre\": \"Music\", \"Publisher\": \"Ubisoft\", \"North America\": 0.1, \"Europe\": 0.15, \"Japan\": 0.0, \"Rest of World\": 0.05, \"Global\": 0.3}, {\"Game\": \"The Walking Dead: Season Two\", \"Year\": 2014.0, \"Genre\": \"Misc\", \"Publisher\": \"Square Enix\", \"North America\": 0.13, \"Europe\": 0.09, \"Japan\": 0.03, \"Rest of World\": 0.05, \"Global\": 0.3}, {\"Game\": \"Sword Art Online: Fatal Bullet\", \"Year\": 2018.0, \"Genre\": \"Role-Playing\", \"Publisher\": \"Namco Bandai Games\", \"North America\": 0.11, \"Europe\": 0.03, \"Japan\": 0.13, \"Rest of World\": 0.03, \"Global\": 0.29}, {\"Game\": \"Naruto to Boruto: Shinobi Striker\", \"Year\": 2018.0, \"Genre\": \"Action\", \"Publisher\": \"Bandai Namco Games\", \"North America\": 0.19, \"Europe\": 0.03, \"Japan\": 0.02, \"Rest of World\": 0.05, \"Global\": 0.29}, {\"Game\": \"Yooka-Laylee\", \"Year\": 2017.0, \"Genre\": \"Platform\", \"Publisher\": \"Sold Out\", \"North America\": 0.09, \"Europe\": 0.16, \"Japan\": 0.0, \"Rest of World\": 0.05, \"Global\": 0.29}, {\"Game\": \"Cars 3: Driven to Win\", \"Year\": 2017.0, \"Genre\": \"Racing\", \"Publisher\": \"Warner Bros. Interactive Entertainment\", \"North America\": 0.06, \"Europe\": 0.18, \"Japan\": 0.01, \"Rest of World\": 0.04, \"Global\": 0.29}, {\"Game\": \"Metal Gear Solid V: The Definitive Experience\", \"Year\": 2016.0, \"Genre\": \"Action\", \"Publisher\": \"Konami Digital Entertainment\", \"North America\": 0.13, \"Europe\": 0.08, \"Japan\": 0.03, \"Rest of World\": 0.04, \"Global\": 0.29}, {\"Game\": \"Sherlock Holmes: Crimes & Punishments\", \"Year\": 2014.0, \"Genre\": \"Adventure\", \"Publisher\": \"Focus Home Interactive\", \"North America\": 0.1, \"Europe\": 0.14, \"Japan\": 0.0, \"Rest of World\": 0.05, \"Global\": 0.29}, {\"Game\": \"Star Trek Bridge Crew VR\", \"Year\": 2017.0, \"Genre\": \"Action\", \"Publisher\": \"Ubisoft\", \"North America\": 0.11, \"Europe\": 0.12, \"Japan\": 0.0, \"Rest of World\": 0.05, \"Global\": 0.28}, {\"Game\": \"The Heavy Rain and Beyond: Two Souls Collection\", \"Year\": 2016.0, \"Genre\": \"Action\", \"Publisher\": \"Sony Computer Entertainment\", \"North America\": 0.0, \"Europe\": 0.24, \"Japan\": 0.0, \"Rest of World\": 0.04, \"Global\": 0.28}, {\"Game\": \"Spintires: MudRunner\", \"Year\": 2017.0, \"Genre\": \"Simulation\", \"Publisher\": \"Focus Home Interactive\", \"North America\": 0.11, \"Europe\": 0.12, \"Japan\": 0.0, \"Rest of World\": 0.05, \"Global\": 0.28}, {\"Game\": \"Onechanbara Z2: Chaos\", \"Year\": 2014.0, \"Genre\": \"Action\", \"Publisher\": \"NIS America\", \"North America\": 0.16, \"Europe\": 0.03, \"Japan\": 0.05, \"Rest of World\": 0.04, \"Global\": 0.28}, {\"Game\": \"Secret of Mana\", \"Year\": 2018.0, \"Genre\": \"Role-Playing\", \"Publisher\": \"Square Enix\", \"North America\": 0.06, \"Europe\": 0.12, \"Japan\": 0.05, \"Rest of World\": 0.04, \"Global\": 0.28}, {\"Game\": \"Gundam Versus\", \"Year\": 2017.0, \"Genre\": \"Action\", \"Publisher\": \"Namco Bandai Games\", \"North America\": 0.08, \"Europe\": 0.0, \"Japan\": 0.18, \"Rest of World\": 0.02, \"Global\": 0.28}, {\"Game\": \"NBA Live 14\", \"Year\": 2013.0, \"Genre\": \"Sports\", \"Publisher\": \"EA Sports\", \"North America\": 0.17, \"Europe\": 0.05, \"Japan\": 0.0, \"Rest of World\": 0.05, \"Global\": 0.27}, {\"Game\": \"Bravo Team VR\", \"Year\": 2018.0, \"Genre\": \"Shooter\", \"Publisher\": \"Sony Interactive Entertainment\", \"North America\": 0.12, \"Europe\": 0.09, \"Japan\": 0.02, \"Rest of World\": 0.04, \"Global\": 0.27}, {\"Game\": \"Killing Floor 2\\u00ca\", \"Year\": 2016.0, \"Genre\": \"Shooter\", \"Publisher\": \"Tripwire Interactive\", \"North America\": 0.19, \"Europe\": 0.03, \"Japan\": 0.0, \"Rest of World\": 0.05, \"Global\": 0.27}, {\"Game\": \"Robinson: The Journey\", \"Year\": 2016.0, \"Genre\": \"Action-Adventure\", \"Publisher\": \"Sony Interactive Entertainment\", \"North America\": 0.14, \"Europe\": 0.09, \"Japan\": 0.0, \"Rest of World\": 0.05, \"Global\": 0.27}, {\"Game\": \"DriveClub VR\", \"Year\": 2016.0, \"Genre\": \"Racing\", \"Publisher\": \"Sony Interactive Entertainment\", \"North America\": 0.12, \"Europe\": 0.09, \"Japan\": 0.01, \"Rest of World\": 0.04, \"Global\": 0.27}, {\"Game\": \"Fate/Extella: The Umbral Star\", \"Year\": 2016.0, \"Genre\": \"Action\", \"Publisher\": \"PQube\", \"North America\": 0.12, \"Europe\": 0.0, \"Japan\": 0.12, \"Rest of World\": 0.03, \"Global\": 0.27}, {\"Game\": \"Ultimate Marvel vs. Capcom 3\", \"Year\": 2017.0, \"Genre\": \"Fighting\", \"Publisher\": \"Capcom\", \"North America\": 0.19, \"Europe\": 0.0, \"Japan\": 0.02, \"Rest of World\": 0.04, \"Global\": 0.26}, {\"Game\": \"New Danganronpa V3: Minna no Koroshiai Shin Gakki\", \"Year\": 2017.0, \"Genre\": \"Adventure\", \"Publisher\": \"NIS America\", \"North America\": 0.09, \"Europe\": 0.05, \"Japan\": 0.07, \"Rest of World\": 0.03, \"Global\": 0.25}, {\"Game\": \"Samurai Warriors 4\", \"Year\": 2014.0, \"Genre\": \"Fighting\", \"Publisher\": \"Tecmo Koei\", \"North America\": 0.08, \"Europe\": 0.07, \"Japan\": 0.06, \"Rest of World\": 0.03, \"Global\": 0.25}, {\"Game\": \"Darksiders III\", \"Year\": 2018.0, \"Genre\": \"Action\", \"Publisher\": \"THQ Nordic\", \"North America\": 0.13, \"Europe\": 0.07, \"Japan\": 0.0, \"Rest of World\": 0.04, \"Global\": 0.25}, {\"Game\": \"NBA Live 15\", \"Year\": 2014.0, \"Genre\": \"Sports\", \"Publisher\": \"Electronic Arts\", \"North America\": 0.16, \"Europe\": 0.04, \"Japan\": 0.0, \"Rest of World\": 0.04, \"Global\": 0.25}, {\"Game\": \"NBA Live 18\", \"Year\": 2017.0, \"Genre\": \"Sports\", \"Publisher\": \"EA Sports\", \"North America\": 0.2, \"Europe\": 0.0, \"Japan\": 0.0, \"Rest of World\": 0.05, \"Global\": 0.24}, {\"Game\": \"Tearaway Unfolded\", \"Year\": 2015.0, \"Genre\": \"Platform\", \"Publisher\": \"Sony Computer Entertainment\", \"North America\": 0.07, \"Europe\": 0.13, \"Japan\": 0.0, \"Rest of World\": 0.04, \"Global\": 0.24}, {\"Game\": \".hack//G.U. Last Recode\", \"Year\": 2017.0, \"Genre\": \"Role-Playing\", \"Publisher\": \"Namco Bandai Games\", \"North America\": 0.1, \"Europe\": 0.04, \"Japan\": 0.08, \"Rest of World\": 0.03, \"Global\": 0.24}, {\"Game\": \"Ride\", \"Year\": 2015.0, \"Genre\": \"Racing\", \"Publisher\": \"Milestone S.r.l.\", \"North America\": 0.04, \"Europe\": 0.13, \"Japan\": 0.03, \"Rest of World\": 0.03, \"Global\": 0.24}, {\"Game\": \"Just Dance 2017\", \"Year\": 2016.0, \"Genre\": \"Misc\", \"Publisher\": \"Ubisoft\", \"North America\": 0.08, \"Europe\": 0.12, \"Japan\": 0.0, \"Rest of World\": 0.04, \"Global\": 0.24}, {\"Game\": \"The Escapists 2\", \"Year\": 2017.0, \"Genre\": \"Action\", \"Publisher\": \"Sold Out\", \"North America\": 0.04, \"Europe\": 0.16, \"Japan\": 0.0, \"Rest of World\": 0.04, \"Global\": 0.24}, {\"Game\": \"Transformers: Devastation\", \"Year\": 2015.0, \"Genre\": \"Action\", \"Publisher\": \"Activision\", \"North America\": 0.11, \"Europe\": 0.09, \"Japan\": 0.0, \"Rest of World\": 0.04, \"Global\": 0.24}, {\"Game\": \"Darksiders II\", \"Year\": 2015.0, \"Genre\": \"Action-Adventure\", \"Publisher\": \"Nordic Games\", \"North America\": 0.1, \"Europe\": 0.1, \"Japan\": 0.0, \"Rest of World\": 0.04, \"Global\": 0.24}, {\"Game\": \"Jikkyou Powerful Pro Baseball 2016\", \"Year\": 2016.0, \"Genre\": \"Sports\", \"Publisher\": \"Konami Digital Entertainment\", \"North America\": 0.0, \"Europe\": 0.0, \"Japan\": 0.24, \"Rest of World\": 0.0, \"Global\": 0.24}, {\"Game\": \"The Elder Scrolls Online: Morrowind\", \"Year\": 2017.0, \"Genre\": \"MMO\", \"Publisher\": \"Bethesda Softworks\", \"North America\": 0.11, \"Europe\": 0.09, \"Japan\": 0.0, \"Rest of World\": 0.04, \"Global\": 0.24}, {\"Game\": \"Digimon World: Next Order\", \"Year\": 2017.0, \"Genre\": \"Role-Playing\", \"Publisher\": \"Namco Bandai Games\", \"North America\": 0.13, \"Europe\": 0.05, \"Japan\": 0.02, \"Rest of World\": 0.04, \"Global\": 0.24}, {\"Game\": \"theHunter: Call of the Wild\", \"Year\": 2017.0, \"Genre\": \"Shooter\", \"Publisher\": \"Astragon\", \"North America\": 0.19, \"Europe\": 0.0, \"Japan\": 0.0, \"Rest of World\": 0.04, \"Global\": 0.24}, {\"Game\": \"Tony Hawk's Pro Skater 5\", \"Year\": 2015.0, \"Genre\": \"Sports\", \"Publisher\": \"Activision\", \"North America\": 0.11, \"Europe\": 0.08, \"Japan\": 0.0, \"Rest of World\": 0.04, \"Global\": 0.23}, {\"Game\": \"Angry Birds: Star Wars\", \"Year\": 2013.0, \"Genre\": \"Puzzle\", \"Publisher\": \"Activision\", \"North America\": 0.11, \"Europe\": 0.09, \"Japan\": 0.0, \"Rest of World\": 0.04, \"Global\": 0.23}, {\"Game\": \"Elex\", \"Year\": 2017.0, \"Genre\": \"Role-Playing\", \"Publisher\": \"THQ Nordic\", \"North America\": 0.03, \"Europe\": 0.16, \"Japan\": 0.0, \"Rest of World\": 0.04, \"Global\": 0.23}, {\"Game\": \"RIGS: Mechanized Combat League\", \"Year\": 2016.0, \"Genre\": \"Action\", \"Publisher\": \"Sony Interactive Entertainment\", \"North America\": 0.11, \"Europe\": 0.06, \"Japan\": 0.02, \"Rest of World\": 0.04, \"Global\": 0.23}, {\"Game\": \"Transformer: Rise of the Dark Spark\", \"Year\": 2014.0, \"Genre\": \"Shooter\", \"Publisher\": \"Activision\", \"North America\": 0.08, \"Europe\": 0.11, \"Japan\": 0.01, \"Rest of World\": 0.04, \"Global\": 0.23}, {\"Game\": \"Dead Island Definitive Collection\", \"Year\": 2016.0, \"Genre\": \"Action\", \"Publisher\": \"Deep Silver\", \"North America\": 0.09, \"Europe\": 0.08, \"Japan\": 0.03, \"Rest of World\": 0.03, \"Global\": 0.23}, {\"Game\": \"Metal Gear Survive\", \"Year\": 2018.0, \"Genre\": \"Action\", \"Publisher\": \"Konami Digital Entertainment\", \"North America\": 0.08, \"Europe\": 0.06, \"Japan\": 0.05, \"Rest of World\": 0.03, \"Global\": 0.23}, {\"Game\": \"Singstar Celebration\", \"Year\": 2017.0, \"Genre\": \"Music\", \"Publisher\": \"Sony Interactive Entertainment\", \"North America\": 0.04, \"Europe\": 0.15, \"Japan\": 0.0, \"Rest of World\": 0.03, \"Global\": 0.23}, {\"Game\": \"Dead by Daylight\", \"Year\": 2017.0, \"Genre\": \"Action\", \"Publisher\": \"505 Games\", \"North America\": 0.11, \"Europe\": 0.06, \"Japan\": 0.02, \"Rest of World\": 0.04, \"Global\": 0.22}, {\"Game\": \"Attack on Titan 2\", \"Year\": 2018.0, \"Genre\": \"Action\", \"Publisher\": \"Koei Tecmo\", \"North America\": 0.09, \"Europe\": 0.04, \"Japan\": 0.06, \"Rest of World\": 0.03, \"Global\": 0.22}, {\"Game\": \"The Wolf Among Us\", \"Year\": 2014.0, \"Genre\": \"Adventure\", \"Publisher\": \"Telltale Games\", \"North America\": 0.11, \"Europe\": 0.07, \"Japan\": 0.0, \"Rest of World\": 0.04, \"Global\": 0.22}, {\"Game\": \"Micro Machines: World Series\", \"Year\": 2017.0, \"Genre\": \"Racing\", \"Publisher\": \"Codemasters\", \"North America\": 0.03, \"Europe\": 0.16, \"Japan\": 0.0, \"Rest of World\": 0.03, \"Global\": 0.22}, {\"Game\": \"Bladestorm: Nightmare\", \"Year\": 2015.0, \"Genre\": \"Action\", \"Publisher\": \"Tecmo Koei\", \"North America\": 0.11, \"Europe\": 0.04, \"Japan\": 0.03, \"Rest of World\": 0.03, \"Global\": 0.22}, {\"Game\": \"Zombie Army Trilogy\", \"Year\": 2015.0, \"Genre\": \"Shooter\", \"Publisher\": \"Rebellion Developments\", \"North America\": 0.06, \"Europe\": 0.13, \"Japan\": 0.0, \"Rest of World\": 0.03, \"Global\": 0.22}, {\"Game\": \"Outlast Trinity\", \"Year\": 2017.0, \"Genre\": \"Action\", \"Publisher\": \"Warner Bros. Interactive Entertainment\", \"North America\": 0.09, \"Europe\": 0.09, \"Japan\": 0.0, \"Rest of World\": 0.04, \"Global\": 0.22}, {\"Game\": \"EVE: Valkyrie\", \"Year\": 2016.0, \"Genre\": \"Shooter\", \"Publisher\": \"Sony Interactive Entertainment\", \"North America\": 0.11, \"Europe\": 0.06, \"Japan\": 0.0, \"Rest of World\": 0.04, \"Global\": 0.21}, {\"Game\": \"Senran Kagura: Peach Beach Splash\", \"Year\": 2017.0, \"Genre\": \"Action\", \"Publisher\": \"PQube\", \"North America\": 0.09, \"Europe\": 0.02, \"Japan\": 0.08, \"Rest of World\": 0.02, \"Global\": 0.21}, {\"Game\": \"Ys VIII: Lacrimosa of Dana\", \"Year\": 2017.0, \"Genre\": \"Role-Playing\", \"Publisher\": \"NIS America\", \"North America\": 0.08, \"Europe\": 0.04, \"Japan\": 0.08, \"Rest of World\": 0.02, \"Global\": 0.21}, {\"Game\": \"Bound By Flame\", \"Year\": 2014.0, \"Genre\": \"Action\", \"Publisher\": \"Focus Home Interactive\", \"North America\": 0.08, \"Europe\": 0.09, \"Japan\": 0.0, \"Rest of World\": 0.04, \"Global\": 0.21}, {\"Game\": \"NBA Live 16\", \"Year\": 2015.0, \"Genre\": \"Sports\", \"Publisher\": \"EA Sports\", \"North America\": 0.13, \"Europe\": 0.05, \"Japan\": 0.0, \"Rest of World\": 0.04, \"Global\": 0.21}, {\"Game\": \"7 Days to Die\", \"Year\": 2016.0, \"Genre\": \"Action\", \"Publisher\": \"Telltale Games\", \"North America\": 0.09, \"Europe\": 0.08, \"Japan\": 0.0, \"Rest of World\": 0.03, \"Global\": 0.21}, {\"Game\": \"Dynasty Warriors 8: Empires\", \"Year\": 2014.0, \"Genre\": \"Misc\", \"Publisher\": \"Tecmo Koei\", \"North America\": 0.07, \"Europe\": 0.07, \"Japan\": 0.04, \"Rest of World\": 0.03, \"Global\": 0.21}, {\"Game\": \"Dragon's Dogma\", \"Year\": 2017.0, \"Genre\": \"Role-Playing\", \"Publisher\": \"Capcom\", \"North America\": 0.07, \"Europe\": 0.07, \"Japan\": 0.03, \"Rest of World\": 0.03, \"Global\": 0.21}, {\"Game\": \"Godzilla (2015)\", \"Year\": 2014.0, \"Genre\": \"Action\", \"Publisher\": \"Namco Bandai Games\", \"North America\": 0.11, \"Europe\": 0.03, \"Japan\": 0.03, \"Rest of World\": 0.03, \"Global\": 0.2}, {\"Game\": \"Eagle Flight\", \"Year\": 2016.0, \"Genre\": \"Adventure\", \"Publisher\": \"Ubisoft\", \"North America\": 0.09, \"Europe\": 0.08, \"Japan\": 0.0, \"Rest of World\": 0.03, \"Global\": 0.2}, {\"Game\": \"Agents of Mayhem\", \"Year\": 2017.0, \"Genre\": \"Action\", \"Publisher\": \"Deep Silver\", \"North America\": 0.08, \"Europe\": 0.08, \"Japan\": 0.0, \"Rest of World\": 0.03, \"Global\": 0.2}, {\"Game\": \"MotoGP 14\\u00ca\", \"Year\": 2014.0, \"Genre\": \"Racing\", \"Publisher\": \"Milestone S.r.l.\", \"North America\": 0.05, \"Europe\": 0.11, \"Japan\": 0.0, \"Rest of World\": 0.03, \"Global\": 0.2}, {\"Game\": \"Elite: Dangerous\", \"Year\": 2017.0, \"Genre\": \"Simulation\", \"Publisher\": \"Frontier Developments\", \"North America\": 0.06, \"Europe\": 0.1, \"Japan\": 0.0, \"Rest of World\": 0.03, \"Global\": 0.19}, {\"Game\": \"Singstar: Ultimate Party\", \"Year\": 2014.0, \"Genre\": \"Music\", \"Publisher\": \"Sony Computer Entertainment\", \"North America\": 0.0, \"Europe\": 0.16, \"Japan\": 0.0, \"Rest of World\": 0.03, \"Global\": 0.19}, {\"Game\": \"Toukiden Kiwami\", \"Year\": 2015.0, \"Genre\": \"Action\", \"Publisher\": \"Tecmo Koei\", \"North America\": 0.06, \"Europe\": 0.07, \"Japan\": 0.03, \"Rest of World\": 0.03, \"Global\": 0.19}, {\"Game\": \"Batman: A Telltale Game Series\", \"Year\": 2016.0, \"Genre\": \"Adventure\", \"Publisher\": \"Telltale Games\", \"North America\": 0.09, \"Europe\": 0.07, \"Japan\": 0.0, \"Rest of World\": 0.03, \"Global\": 0.19}, {\"Game\": \"The Surge\", \"Year\": 2017.0, \"Genre\": \"Action\", \"Publisher\": \"Koch Media\", \"North America\": 0.07, \"Europe\": 0.08, \"Japan\": 0.01, \"Rest of World\": 0.03, \"Global\": 0.19}, {\"Game\": \"MotoGP 15\", \"Year\": 2015.0, \"Genre\": \"Racing\", \"Publisher\": \"Milestone S.r.l.\", \"North America\": 0.0, \"Europe\": 0.13, \"Japan\": 0.04, \"Rest of World\": 0.02, \"Global\": 0.18}, {\"Game\": \"Resident Evil: Revelations\", \"Year\": 2017.0, \"Genre\": \"Action\", \"Publisher\": \"Capcom\", \"North America\": 0.06, \"Europe\": 0.06, \"Japan\": 0.04, \"Rest of World\": 0.02, \"Global\": 0.18}, {\"Game\": \"Senran Kagura: Estival Versus\", \"Year\": 2015.0, \"Genre\": \"Action\", \"Publisher\": \"Marvelous Interactive\", \"North America\": 0.08, \"Europe\": 0.0, \"Japan\": 0.09, \"Rest of World\": 0.02, \"Global\": 0.18}, {\"Game\": \"Back to the Future: The Game\", \"Year\": 2015.0, \"Genre\": \"Adventure\", \"Publisher\": \"Telltale Games\", \"North America\": 0.1, \"Europe\": 0.05, \"Japan\": 0.0, \"Rest of World\": 0.03, \"Global\": 0.18}, {\"Game\": \"The Walking Dead - The Telltale Series: A New Frontier\", \"Year\": 2017.0, \"Genre\": \"Adventure\", \"Publisher\": \"Warner Bros. Interactive Entertainment\", \"North America\": 0.11, \"Europe\": 0.04, \"Japan\": 0.0, \"Rest of World\": 0.03, \"Global\": 0.17}, {\"Game\": \"Resident Evil 6\", \"Year\": 2016.0, \"Genre\": \"Shooter\", \"Publisher\": \"Capcom\", \"North America\": 0.1, \"Europe\": 0.0, \"Japan\": 0.05, \"Rest of World\": 0.02, \"Global\": 0.17}, {\"Game\": \"Final Fantasy XIV: Heavensward\", \"Year\": 2015.0, \"Genre\": \"MMO\", \"Publisher\": \"Square Enix\", \"North America\": 0.0, \"Europe\": 0.09, \"Japan\": 0.06, \"Rest of World\": 0.02, \"Global\": 0.17}, {\"Game\": \"Final Fantasy XIV: Stormblood\", \"Year\": 2017.0, \"Genre\": \"MMO\", \"Publisher\": \"Square Enix\", \"North America\": 0.05, \"Europe\": 0.06, \"Japan\": 0.04, \"Rest of World\": 0.02, \"Global\": 0.17}, {\"Game\": \"Guilty Gear Xrd: Sign\", \"Year\": 2014.0, \"Genre\": \"Fighting\", \"Publisher\": \"Arc System Works\", \"North America\": 0.11, \"Europe\": 0.0, \"Japan\": 0.04, \"Rest of World\": 0.02, \"Global\": 0.17}, {\"Game\": \"Prototype: Biohazard Bundle\", \"Year\": 2016.0, \"Genre\": \"Action\", \"Publisher\": \"Activision\", \"North America\": 0.14, \"Europe\": 0.0, \"Japan\": 0.0, \"Rest of World\": 0.03, \"Global\": 0.17}, {\"Game\": \"BlazBlue Central Fiction\", \"Year\": 2016.0, \"Genre\": \"Fighting\", \"Publisher\": \"PQube\", \"North America\": 0.1, \"Europe\": 0.0, \"Japan\": 0.05, \"Rest of World\": 0.02, \"Global\": 0.17}, {\"Game\": \"MXGP 3: The Official Motocross Videogame\", \"Year\": 2017.0, \"Genre\": \"Racing\", \"Publisher\": \"Milestone\", \"North America\": 0.06, \"Europe\": 0.08, \"Japan\": 0.0, \"Rest of World\": 0.03, \"Global\": 0.17}, {\"Game\": \"Ride 2\", \"Year\": 2016.0, \"Genre\": \"Racing\", \"Publisher\": \"Milestone S.r.l\", \"North America\": 0.07, \"Europe\": 0.06, \"Japan\": 0.01, \"Rest of World\": 0.03, \"Global\": 0.16}, {\"Game\": \"Dead Rising 4\", \"Year\": 2017.0, \"Genre\": \"Action-Adventure\", \"Publisher\": \"Capcom\", \"North America\": 0.08, \"Europe\": 0.05, \"Japan\": 0.0, \"Rest of World\": 0.03, \"Global\": 0.16}, {\"Game\": \"Putty Squad\", \"Year\": 2013.0, \"Genre\": \"Platform\", \"Publisher\": \"System 3\", \"North America\": 0.06, \"Europe\": 0.07, \"Japan\": 0.0, \"Rest of World\": 0.03, \"Global\": 0.16}, {\"Game\": \"Digimon Story: Cyber Sleuth - Hacker's Memory\", \"Year\": 2017.0, \"Genre\": \"Role-Playing\", \"Publisher\": \"Namco Bandai Games\", \"North America\": 0.05, \"Europe\": 0.05, \"Japan\": 0.04, \"Rest of World\": 0.02, \"Global\": 0.16}, {\"Game\": \"Battlezone\", \"Year\": 2016.0, \"Genre\": \"Action\", \"Publisher\": \"Sony Interactive Entertainment\", \"North America\": 0.09, \"Europe\": 0.04, \"Japan\": 0.0, \"Rest of World\": 0.03, \"Global\": 0.16}, {\"Game\": \"Naruto Shippuden: Ultimate Ninja Storm Legacy\", \"Year\": 2017.0, \"Genre\": \"Fighting\", \"Publisher\": \"Namco Bandai Games\", \"North America\": 0.07, \"Europe\": 0.04, \"Japan\": 0.03, \"Rest of World\": 0.02, \"Global\": 0.16}, {\"Game\": \"Berserk and the Band of the Hawk\", \"Year\": 2016.0, \"Genre\": \"Action\", \"Publisher\": \"Tecmo Koei\", \"North America\": 0.07, \"Europe\": 0.02, \"Japan\": 0.05, \"Rest of World\": 0.02, \"Global\": 0.16}, {\"Game\": \"BlazBlue: Chrono Phantasma Extend\", \"Year\": 2015.0, \"Genre\": \"Fighting\", \"Publisher\": \"PQube\", \"North America\": 0.08, \"Europe\": 0.04, \"Japan\": 0.02, \"Rest of World\": 0.02, \"Global\": 0.16}, {\"Game\": \"Pillars of Eternity\", \"Year\": 2017.0, \"Genre\": \"Role-Playing\", \"Publisher\": \"Paradox Interactive\\u00ca\", \"North America\": 0.11, \"Europe\": 0.02, \"Japan\": 0.0, \"Rest of World\": 0.03, \"Global\": 0.16}, {\"Game\": \"Valkyria: Azure Revolution\", \"Year\": 2017.0, \"Genre\": \"Role-Playing\", \"Publisher\": \"Deep Silver\", \"North America\": 0.04, \"Europe\": 0.03, \"Japan\": 0.07, \"Rest of World\": 0.02, \"Global\": 0.16}, {\"Game\": \"Gravity Rush Remastered\", \"Year\": 2015.0, \"Genre\": \"Action-Adventure\", \"Publisher\": \"Sony Computer Entertainment\", \"North America\": 0.02, \"Europe\": 0.06, \"Japan\": 0.05, \"Rest of World\": 0.02, \"Global\": 0.16}, {\"Game\": \"Psycho-Pass: Mandatory Happiness\", \"Year\": 2016.0, \"Genre\": \"Visual Novel\", \"Publisher\": \"NIS America\", \"North America\": 0.1, \"Europe\": 0.02, \"Japan\": 0.0, \"Rest of World\": 0.03, \"Global\": 0.15}, {\"Game\": \"Brothers: A Tale of Two Sons\", \"Year\": 2015.0, \"Genre\": \"Adventure\", \"Publisher\": \"505 Games\", \"North America\": 0.04, \"Europe\": 0.09, \"Japan\": 0.0, \"Rest of World\": 0.02, \"Global\": 0.15}, {\"Game\": \"Warriors Orochi 3\", \"Year\": 2014.0, \"Genre\": \"Action\", \"Publisher\": \"Tecmo Koei\", \"North America\": 0.04, \"Europe\": 0.05, \"Japan\": 0.04, \"Rest of World\": 0.02, \"Global\": 0.15}, {\"Game\": \"Wasteland 2\", \"Year\": 2015.0, \"Genre\": \"Role-Playing\", \"Publisher\": \"Deep Silver\", \"North America\": 0.1, \"Europe\": 0.0, \"Japan\": 0.03, \"Rest of World\": 0.02, \"Global\": 0.15}, {\"Game\": \"Atelier Sophie: The Alchemist of the Mysterious Book\", \"Year\": 2015.0, \"Genre\": \"Role-Playing\", \"Publisher\": \"Tecmo Koei\", \"North America\": 0.04, \"Europe\": 0.03, \"Japan\": 0.07, \"Rest of World\": 0.01, \"Global\": 0.15}, {\"Game\": \"NASCAR Heat Evolution\", \"Year\": 2016.0, \"Genre\": \"Racing\", \"Publisher\": \"Dusenberry Martin Racing\", \"North America\": 0.12, \"Europe\": 0.0, \"Japan\": 0.0, \"Rest of World\": 0.03, \"Global\": 0.15}, {\"Game\": \"Yakuza: Ishin\", \"Year\": 2014.0, \"Genre\": \"Adventure\", \"Publisher\": \"Sega\", \"North America\": 0.0, \"Europe\": 0.0, \"Japan\": 0.15, \"Rest of World\": 0.0, \"Global\": 0.15}, {\"Game\": \"Toukiden 2\", \"Year\": 2016.0, \"Genre\": \"Action\", \"Publisher\": \"Tecmo Koei\", \"North America\": 0.04, \"Europe\": 0.0, \"Japan\": 0.1, \"Rest of World\": 0.01, \"Global\": 0.15}, {\"Game\": \"Song of the Deep\", \"Year\": 2016.0, \"Genre\": \"Action\", \"Publisher\": \"Insomniac Games\", \"North America\": 0.12, \"Europe\": 0.0, \"Japan\": 0.0, \"Rest of World\": 0.03, \"Global\": 0.15}, {\"Game\": \"Super Robot Wars V\", \"Year\": 2017.0, \"Genre\": \"Role-Playing\", \"Publisher\": \"Namco Bandai Games\", \"North America\": 0.0, \"Europe\": 0.0, \"Japan\": 0.15, \"Rest of World\": 0.0, \"Global\": 0.15}, {\"Game\": \"Blue Reflection: Maboroshi ni Mau - Shoujo no Ken\", \"Year\": 2017.0, \"Genre\": \"Role-Playing\", \"Publisher\": \"Tecmo Koei\", \"North America\": 0.07, \"Europe\": 0.0, \"Japan\": 0.06, \"Rest of World\": 0.02, \"Global\": 0.14}, {\"Game\": \"Yonmegami Online: Cyber Dimension Neptune\", \"Year\": 2017.0, \"Genre\": \"Role-Playing\", \"Publisher\": \"Idea Factory International\", \"North America\": 0.06, \"Europe\": 0.0, \"Japan\": 0.07, \"Rest of World\": 0.01, \"Global\": 0.14}, {\"Game\": \"Grand Kingdom\", \"Year\": 2015.0, \"Genre\": \"Role-Playing\", \"Publisher\": \"NIS America\", \"North America\": 0.08, \"Europe\": 0.0, \"Japan\": 0.04, \"Rest of World\": 0.02, \"Global\": 0.14}, {\"Game\": \"Arslan: The Warriors of Legend\", \"Year\": 2016.0, \"Genre\": \"Action\", \"Publisher\": \"Tecmo Koei\", \"North America\": 0.03, \"Europe\": 0.04, \"Japan\": 0.06, \"Rest of World\": 0.01, \"Global\": 0.14}, {\"Game\": \"Pro Cycling Manager 2016\", \"Year\": 2016.0, \"Genre\": \"Sports\", \"Publisher\": \"Focus Home Interactive\", \"North America\": 0.0, \"Europe\": 0.12, \"Japan\": 0.0, \"Rest of World\": 0.02, \"Global\": 0.14}, {\"Game\": \"Shovel Knight\", \"Year\": 2015.0, \"Genre\": \"Platform\", \"Publisher\": \"Yacht Club Games\", \"North America\": 0.08, \"Europe\": 0.04, \"Japan\": 0.0, \"Rest of World\": 0.02, \"Global\": 0.14}, {\"Game\": \"Adventure Time: Finn & Jake Investigations\", \"Year\": 2015.0, \"Genre\": \"Action\", \"Publisher\": \"Little Orbit\", \"North America\": 0.07, \"Europe\": 0.05, \"Japan\": 0.0, \"Rest of World\": 0.02, \"Global\": 0.14}, {\"Game\": \"Guilty Gear Xrd -Revelator-\", \"Year\": 2016.0, \"Genre\": \"Fighting\", \"Publisher\": \"PQube\", \"North America\": 0.06, \"Europe\": 0.0, \"Japan\": 0.07, \"Rest of World\": 0.01, \"Global\": 0.14}, {\"Game\": \"We Happy Few\", \"Year\": 2018.0, \"Genre\": \"Action-Adventure\", \"Publisher\": \"Gearbox Software\", \"North America\": 0.08, \"Europe\": 0.04, \"Japan\": 0.0, \"Rest of World\": 0.02, \"Global\": 0.14}, {\"Game\": \"Rocksmith 2014 Edition Remastered\", \"Year\": 2016.0, \"Genre\": \"Music\", \"Publisher\": \"Ubisoft\", \"North America\": 0.11, \"Europe\": 0.0, \"Japan\": 0.0, \"Rest of World\": 0.03, \"Global\": 0.14}, {\"Game\": \"The Crew: Wild Run\", \"Year\": 2015.0, \"Genre\": \"Racing\", \"Publisher\": \"Ubisoft\", \"North America\": 0.0, \"Europe\": 0.12, \"Japan\": 0.0, \"Rest of World\": 0.02, \"Global\": 0.14}, {\"Game\": \"MXGP 2\", \"Year\": 2016.0, \"Genre\": \"Racing\", \"Publisher\": \"Milestone S.r.l.\", \"North America\": 0.05, \"Europe\": 0.06, \"Japan\": 0.0, \"Rest of World\": 0.02, \"Global\": 0.14}, {\"Game\": \"MotoGP 17\", \"Year\": 2017.0, \"Genre\": \"Racing\", \"Publisher\": \"Koch Media\", \"North America\": 0.04, \"Europe\": 0.07, \"Japan\": 0.0, \"Rest of World\": 0.02, \"Global\": 0.14}, {\"Game\": \"Fairy Fencer F: Advent Dark Force\", \"Year\": 2015.0, \"Genre\": \"Role-Playing\", \"Publisher\": \"Idea Factory International\", \"North America\": 0.06, \"Europe\": 0.0, \"Japan\": 0.06, \"Rest of World\": 0.01, \"Global\": 0.14}, {\"Game\": \"Samurai Warriors 4-II\", \"Year\": 2015.0, \"Genre\": \"Action\", \"Publisher\": \"Tecmo Koei\", \"North America\": 0.04, \"Europe\": 0.02, \"Japan\": 0.07, \"Rest of World\": 0.01, \"Global\": 0.13}, {\"Game\": \"The Golf Club\", \"Year\": 2014.0, \"Genre\": \"Sports\", \"Publisher\": \"Ravenscourt\", \"North America\": 0.09, \"Europe\": 0.02, \"Japan\": 0.0, \"Rest of World\": 0.02, \"Global\": 0.13}, {\"Game\": \"Hatsune Miku: Project Diva X\", \"Year\": 2016.0, \"Genre\": \"Music\", \"Publisher\": \"Sega\", \"North America\": 0.08, \"Europe\": 0.0, \"Japan\": 0.04, \"Rest of World\": 0.02, \"Global\": 0.13}, {\"Game\": \"NASCAR Heat 2\", \"Year\": 2017.0, \"Genre\": \"Racing\", \"Publisher\": \"505 Games\", \"North America\": 0.11, \"Europe\": 0.0, \"Japan\": 0.0, \"Rest of World\": 0.02, \"Global\": 0.13}, {\"Game\": \"Bulletstorm: Full Clip Edition\", \"Year\": 2017.0, \"Genre\": \"Shooter\", \"Publisher\": \"Gearbox Software\", \"North America\": 0.05, \"Europe\": 0.06, \"Japan\": 0.0, \"Rest of World\": 0.02, \"Global\": 0.13}, {\"Game\": \"Valentino Rossi: The Game\", \"Year\": 2016.0, \"Genre\": \"Racing\", \"Publisher\": \"Namco Bandai Games\", \"North America\": 0.05, \"Europe\": 0.05, \"Japan\": 0.0, \"Rest of World\": 0.02, \"Global\": 0.13}, {\"Game\": \"Golf Club 2\", \"Year\": 2017.0, \"Genre\": \"Sports\", \"Publisher\": \"Maximum Games\", \"North America\": 0.05, \"Europe\": 0.06, \"Japan\": 0.0, \"Rest of World\": 0.02, \"Global\": 0.13}, {\"Game\": \"Akiba's Trip 2\", \"Year\": 2014.0, \"Genre\": \"Action\", \"Publisher\": \"Acquire\", \"North America\": 0.09, \"Europe\": 0.0, \"Japan\": 0.02, \"Rest of World\": 0.02, \"Global\": 0.13}, {\"Game\": \"Rugby 15\", \"Year\": 2015.0, \"Genre\": \"Sports\", \"Publisher\": \"Bigben Interactive\", \"North America\": 0.05, \"Europe\": 0.06, \"Japan\": 0.0, \"Rest of World\": 0.02, \"Global\": 0.13}, {\"Game\": \"Utawarerumono: Futari no Hakuoro\", \"Year\": 2016.0, \"Genre\": \"Visual Novel\", \"Publisher\": \"Atlus\", \"North America\": 0.05, \"Europe\": 0.0, \"Japan\": 0.07, \"Rest of World\": 0.01, \"Global\": 0.13}, {\"Game\": \"The Legend of Heroes: Trails of Cold Steel III\", \"Year\": 2017.0, \"Genre\": \"Role-Playing\", \"Publisher\": \"Nihon Falcom Corporation\", \"North America\": 0.0, \"Europe\": 0.0, \"Japan\": 0.13, \"Rest of World\": 0.0, \"Global\": 0.13}, {\"Game\": \"Utawarerumono: Itsuwari no Kamen\", \"Year\": 2015.0, \"Genre\": \"Adventure\", \"Publisher\": \"Deep Silver\", \"North America\": 0.05, \"Europe\": 0.0, \"Japan\": 0.07, \"Rest of World\": 0.01, \"Global\": 0.13}, {\"Game\": \"The Inpatient\", \"Year\": 2018.0, \"Genre\": \"Action\", \"Publisher\": \"Sony Interactive Entertainment\", \"North America\": 0.06, \"Europe\": 0.05, \"Japan\": 0.0, \"Rest of World\": 0.02, \"Global\": 0.13}, {\"Game\": \"Don Bradman Cricket 14\", \"Year\": 2015.0, \"Genre\": \"Sports\", \"Publisher\": \"Tru Blu Entertainment\", \"North America\": 0.01, \"Europe\": 0.09, \"Japan\": 0.0, \"Rest of World\": 0.02, \"Global\": 0.13}, {\"Game\": \"Sword Art Online: Hollow Fragment\", \"Year\": 2015.0, \"Genre\": \"Role-Playing\", \"Publisher\": \"Namco Bandai Games\", \"North America\": 0.0, \"Europe\": 0.11, \"Japan\": 0.0, \"Rest of World\": 0.02, \"Global\": 0.12}, {\"Game\": \"Teenage Mutant Ninja Turtles: Mutants in Manhattan\", \"Year\": 2016.0, \"Genre\": \"Action\", \"Publisher\": \"Activision\", \"North America\": 0.07, \"Europe\": 0.03, \"Japan\": 0.0, \"Rest of World\": 0.02, \"Global\": 0.12}, {\"Game\": \"Job Simulator\", \"Year\": 2017.0, \"Genre\": \"Simulation\", \"Publisher\": \"Sony Interactive Entertainment\", \"North America\": 0.1, \"Europe\": 0.0, \"Japan\": 0.0, \"Rest of World\": 0.02, \"Global\": 0.12}, {\"Game\": \"Portal Knights\", \"Year\": 2017.0, \"Genre\": \"Role-Playing\", \"Publisher\": \"505 Games\", \"North America\": 0.02, \"Europe\": 0.05, \"Japan\": 0.03, \"Rest of World\": 0.01, \"Global\": 0.12}, {\"Game\": \"Samurai Warriors 4: Empires\", \"Year\": 2015.0, \"Genre\": \"Action\", \"Publisher\": \"Tecmo Koei\", \"North America\": 0.03, \"Europe\": 0.01, \"Japan\": 0.07, \"Rest of World\": 0.01, \"Global\": 0.12}, {\"Game\": \"Danganronpa 1o2 Reload\", \"Year\": 2017.0, \"Genre\": \"Adventure\", \"Publisher\": \"NIS America\", \"North America\": 0.08, \"Europe\": 0.0, \"Japan\": 0.02, \"Rest of World\": 0.02, \"Global\": 0.12}, {\"Game\": \"God Eater 2: Rage Burst\", \"Year\": 2015.0, \"Genre\": \"Role-Playing\", \"Publisher\": \"Namco Bandai Games\", \"North America\": 0.0, \"Europe\": 0.01, \"Japan\": 0.11, \"Rest of World\": 0.0, \"Global\": 0.12}, {\"Game\": \"America's Greatest Game Shows: Wheel of Fortune & Jeopardy!\", \"Year\": 2017.0, \"Genre\": \"Misc\", \"Publisher\": \"Ubisoft\", \"North America\": 0.1, \"Europe\": 0.0, \"Japan\": 0.0, \"Rest of World\": 0.02, \"Global\": 0.12}, {\"Game\": \"Marvel's Guardians of the Galaxy: The Telltale Series\", \"Year\": 2017.0, \"Genre\": \"Adventure\", \"Publisher\": \"Warner Bros. Interactive Entertainment\", \"North America\": 0.06, \"Europe\": 0.04, \"Japan\": 0.0, \"Rest of World\": 0.02, \"Global\": 0.12}, {\"Game\": \"Digimon Story: Cyber Sleuth\", \"Year\": 2016.0, \"Genre\": \"Role-Playing\", \"Publisher\": \"Namco Bandai Games\", \"North America\": 0.0, \"Europe\": 0.1, \"Japan\": 0.0, \"Rest of World\": 0.02, \"Global\": 0.11}, {\"Game\": \"Constructor HD\", \"Year\": 2017.0, \"Genre\": \"Strategy\", \"Publisher\": \"System 3\", \"North America\": 0.09, \"Europe\": 0.0, \"Japan\": 0.0, \"Rest of World\": 0.02, \"Global\": 0.11}, {\"Game\": \"Minecraft: Story Mode - Season Two\", \"Year\": 2017.0, \"Genre\": \"Adventure\", \"Publisher\": \"Telltale Games\", \"North America\": 0.09, \"Europe\": 0.0, \"Japan\": 0.0, \"Rest of World\": 0.02, \"Global\": 0.11}, {\"Game\": \"Darksiders: Warmastered Edition\", \"Year\": 2016.0, \"Genre\": \"Action-Adventure\", \"Publisher\": \"THQ Nordic\", \"North America\": 0.07, \"Europe\": 0.02, \"Japan\": 0.0, \"Rest of World\": 0.02, \"Global\": 0.11}, {\"Game\": \"Mighty No. 9\", \"Year\": 2016.0, \"Genre\": \"Platform\", \"Publisher\": \"Deep Silver\", \"North America\": 0.09, \"Europe\": 0.0, \"Japan\": 0.0, \"Rest of World\": 0.02, \"Global\": 0.11}, {\"Game\": \"The Invisible Hours\", \"Year\": 2017.0, \"Genre\": \"Adventure\", \"Publisher\": \"GameTrust\", \"North America\": 0.09, \"Europe\": 0.0, \"Japan\": 0.0, \"Rest of World\": 0.02, \"Global\": 0.11}, {\"Game\": \"Monster Energy Supercross - The Official Videogame\", \"Year\": 2018.0, \"Genre\": \"Racing\", \"Publisher\": \"Milestone S.r.l.\", \"North America\": 0.08, \"Europe\": 0.01, \"Japan\": 0.0, \"Rest of World\": 0.02, \"Global\": 0.11}, {\"Game\": \"The Idolmaster: Platinum Stars\", \"Year\": 2016.0, \"Genre\": \"Simulation\", \"Publisher\": \"Namco Bandai Games\", \"North America\": 0.0, \"Europe\": 0.0, \"Japan\": 0.11, \"Rest of World\": 0.0, \"Global\": 0.11}, {\"Game\": \"The Witch and the Hundred Knight\", \"Year\": 2015.0, \"Genre\": \"Role-Playing\", \"Publisher\": \"NIS America\", \"North America\": 0.03, \"Europe\": 0.01, \"Japan\": 0.06, \"Rest of World\": 0.01, \"Global\": 0.11}, {\"Game\": \"SD Gundam G Generation Genesis\", \"Year\": 2016.0, \"Genre\": \"Strategy\", \"Publisher\": \"Namco Bandai Games\", \"North America\": 0.0, \"Europe\": 0.0, \"Japan\": 0.11, \"Rest of World\": 0.0, \"Global\": 0.11}, {\"Game\": \"Rime\", \"Year\": 2017.0, \"Genre\": \"Adventure\", \"Publisher\": \"Grey Box\", \"North America\": 0.02, \"Europe\": 0.07, \"Japan\": 0.0, \"Rest of World\": 0.02, \"Global\": 0.11}, {\"Game\": \"Super Robot Wars OG: The Moon Dwellers\", \"Year\": 2016.0, \"Genre\": \"Misc\", \"Publisher\": \"Namco Bandai Games\", \"North America\": 0.0, \"Europe\": 0.0, \"Japan\": 0.11, \"Rest of World\": 0.0, \"Global\": 0.11}, {\"Game\": \"Gundam Breaker 3\", \"Year\": 2016.0, \"Genre\": \"Action\", \"Publisher\": \"Namco Bandai Games\", \"North America\": 0.0, \"Europe\": 0.0, \"Japan\": 0.11, \"Rest of World\": 0.0, \"Global\": 0.11}, {\"Game\": \"Earth Defense Force 2025.1: The Shadow of New Despair\", \"Year\": 2015.0, \"Genre\": \"Shooter\", \"Publisher\": \"D3Publisher\", \"North America\": 0.0, \"Europe\": 0.0, \"Japan\": 0.11, \"Rest of World\": 0.0, \"Global\": 0.11}, {\"Game\": \"Shadow Warrior (2013)\", \"Year\": 2014.0, \"Genre\": \"Shooter\", \"Publisher\": \"Devolver Digital\", \"North America\": 0.0, \"Europe\": 0.09, \"Japan\": 0.0, \"Rest of World\": 0.02, \"Global\": 0.11}, {\"Game\": \"Assassin's Creed Chronicles\", \"Year\": 2016.0, \"Genre\": \"Action\", \"Publisher\": \"Ubisoft\", \"North America\": 0.02, \"Europe\": 0.05, \"Japan\": 0.02, \"Rest of World\": 0.01, \"Global\": 0.11}, {\"Game\": \"Mega Man Legacy Collection\", \"Year\": 2016.0, \"Genre\": \"Platform\", \"Publisher\": \"Capcom\", \"North America\": 0.09, \"Europe\": 0.0, \"Japan\": 0.0, \"Rest of World\": 0.02, \"Global\": 0.11}, {\"Game\": \"Pac-Man Championship Edition 2 + Arcade Game Series\", \"Year\": 2017.0, \"Genre\": \"Action\", \"Publisher\": \"Namco Bandai Games\", \"North America\": 0.08, \"Europe\": 0.0, \"Japan\": 0.0, \"Rest of World\": 0.02, \"Global\": 0.1}, {\"Game\": \"Tokyo Xanadu eX+\", \"Year\": 2016.0, \"Genre\": \"Role-Playing\", \"Publisher\": \"Nihon Falcom Corporation\", \"North America\": 0.05, \"Europe\": 0.0, \"Japan\": 0.05, \"Rest of World\": 0.01, \"Global\": 0.1}, {\"Game\": \"Stardew Valley\", \"Year\": 2017.0, \"Genre\": \"Simulation\", \"Publisher\": \"505 Games\", \"North America\": 0.04, \"Europe\": 0.04, \"Japan\": 0.0, \"Rest of World\": 0.02, \"Global\": 0.1}, {\"Game\": \"Romance of the Three Kingdoms 13\", \"Year\": 2015.0, \"Genre\": \"Action\", \"Publisher\": \"Tecmo Koei\", \"North America\": 0.03, \"Europe\": 0.0, \"Japan\": 0.06, \"Rest of World\": 0.01, \"Global\": 0.1}, {\"Game\": \"Musou Stars\", \"Year\": 2017.0, \"Genre\": \"Action\", \"Publisher\": \"Tecmo Koei\", \"North America\": 0.03, \"Europe\": 0.0, \"Japan\": 0.06, \"Rest of World\": 0.01, \"Global\": 0.1}, {\"Game\": \"Mega Man Legacy Collection 2\", \"Year\": 2017.0, \"Genre\": \"Action\", \"Publisher\": \"Capcom\", \"North America\": 0.06, \"Europe\": 0.0, \"Japan\": 0.02, \"Rest of World\": 0.01, \"Global\": 0.1}, {\"Game\": \"Final Fantasy XIV Online Complete Edition\", \"Year\": 2017.0, \"Genre\": \"MMO\", \"Publisher\": \"Square Enix\", \"North America\": 0.07, \"Europe\": 0.0, \"Japan\": 0.02, \"Rest of World\": 0.02, \"Global\": 0.1}, {\"Game\": \"Devil May Cry 4\", \"Year\": 2015.0, \"Genre\": \"Action\", \"Publisher\": \"Capcom\", \"North America\": 0.01, \"Europe\": 0.0, \"Japan\": 0.09, \"Rest of World\": 0.0, \"Global\": 0.1}, {\"Game\": \"Puyo Puyo Tetris\", \"Year\": 2014.0, \"Genre\": \"Puzzle\", \"Publisher\": \"Sega\", \"North America\": 0.05, \"Europe\": 0.03, \"Japan\": 0.0, \"Rest of World\": 0.02, \"Global\": 0.1}, {\"Game\": \"Natural Doctrine\", \"Year\": 2014.0, \"Genre\": \"Role-Playing\", \"Publisher\": \"NIS America\", \"North America\": 0.05, \"Europe\": 0.02, \"Japan\": 0.02, \"Rest of World\": 0.01, \"Global\": 0.1}, {\"Game\": \"Sudden Strike 4\", \"Year\": 2017.0, \"Genre\": \"Strategy\", \"Publisher\": \"Kalypso Media\", \"North America\": 0.05, \"Europe\": 0.03, \"Japan\": 0.01, \"Rest of World\": 0.02, \"Global\": 0.1}, {\"Game\": \"Accel World vs. Sword Art Online: Millennium Twilight\", \"Year\": 2017.0, \"Genre\": \"Action\", \"Publisher\": \"Namco Bandai Games\", \"North America\": 0.0, \"Europe\": 0.03, \"Japan\": 0.06, \"Rest of World\": 0.01, \"Global\": 0.1}, {\"Game\": \"Wolfenstein The Two Pack\", \"Year\": 2017.0, \"Genre\": \"Shooter\", \"Publisher\": \"Bethesda Softworks\", \"North America\": 0.08, \"Europe\": 0.0, \"Japan\": 0.0, \"Rest of World\": 0.02, \"Global\": 0.1}, {\"Game\": \"Guilty Gear Xrd REV 2\", \"Year\": 2017.0, \"Genre\": \"Fighting\", \"Publisher\": \"PQube\", \"North America\": 0.04, \"Europe\": 0.01, \"Japan\": 0.03, \"Rest of World\": 0.01, \"Global\": 0.1}, {\"Game\": \"Let's Sing 2016\", \"Year\": 2015.0, \"Genre\": \"Music\", \"Publisher\": \"Ravenscourt\", \"North America\": 0.08, \"Europe\": 0.0, \"Japan\": 0.0, \"Rest of World\": 0.02, \"Global\": 0.1}, {\"Game\": \"Resident Evil 4 HD\", \"Year\": 2016.0, \"Genre\": \"Action-Adventure\", \"Publisher\": \"Capcom\", \"North America\": 0.07, \"Europe\": 0.0, \"Japan\": 0.01, \"Rest of World\": 0.02, \"Global\": 0.1}, {\"Game\": \"Nights of Azure 2\", \"Year\": 2017.0, \"Genre\": \"Action\", \"Publisher\": \"Tecmo Koei\", \"North America\": 0.04, \"Europe\": 0.0, \"Japan\": 0.04, \"Rest of World\": 0.01, \"Global\": 0.09}, {\"Game\": \"The Technomancer\", \"Year\": 2016.0, \"Genre\": \"Role-Playing\", \"Publisher\": \"Focus Home Interactive\", \"North America\": 0.04, \"Europe\": 0.04, \"Japan\": 0.0, \"Rest of World\": 0.02, \"Global\": 0.09}, {\"Game\": \"Nights of Azure\", \"Year\": 2015.0, \"Genre\": \"Action\", \"Publisher\": \"Tecmo Koei\", \"North America\": 0.04, \"Europe\": 0.04, \"Japan\": 0.0, \"Rest of World\": 0.02, \"Global\": 0.09}, {\"Game\": \"Taiko no Tatsujin: Drum Session!\", \"Year\": 2017.0, \"Genre\": \"Music\", \"Publisher\": \"Namco Bandai Games\", \"North America\": 0.0, \"Europe\": 0.0, \"Japan\": 0.09, \"Rest of World\": 0.0, \"Global\": 0.09}, {\"Game\": \"Nobunaga's Ambition: Sphere of Influence - Sengoku Risshiden\", \"Year\": 2016.0, \"Genre\": \"Strategy\", \"Publisher\": \"Tecmo Koei\", \"North America\": 0.03, \"Europe\": 0.0, \"Japan\": 0.06, \"Rest of World\": 0.01, \"Global\": 0.09}, {\"Game\": \"Grand Ages: Medieval\", \"Year\": 2015.0, \"Genre\": \"Strategy\", \"Publisher\": \"Kalypso Media\", \"North America\": 0.0, \"Europe\": 0.05, \"Japan\": 0.03, \"Rest of World\": 0.01, \"Global\": 0.09}, {\"Game\": \"Rugby League Live 4\", \"Year\": 2017.0, \"Genre\": \"Sports\", \"Publisher\": \"Tru Blu Entertainment\", \"North America\": 0.0, \"Europe\": 0.08, \"Japan\": 0.0, \"Rest of World\": 0.01, \"Global\": 0.09}, {\"Game\": \"Toy Soldiers: War Chest\", \"Year\": 2015.0, \"Genre\": \"Action\", \"Publisher\": \"Ubisoft\", \"North America\": 0.07, \"Europe\": 0.0, \"Japan\": 0.0, \"Rest of World\": 0.02, \"Global\": 0.09}, {\"Game\": \"God Eater Resurrection\", \"Year\": 2015.0, \"Genre\": \"Action\", \"Publisher\": \"Namco Bandai Games\", \"North America\": 0.0, \"Europe\": 0.0, \"Japan\": 0.09, \"Rest of World\": 0.0, \"Global\": 0.09}, {\"Game\": \"Paragon\", \"Year\": 2016.0, \"Genre\": \"Action\", \"Publisher\": \"Sony Interactive Entertainment\", \"North America\": 0.07, \"Europe\": 0.0, \"Japan\": 0.0, \"Rest of World\": 0.02, \"Global\": 0.09}, {\"Game\": \"Summon Night 6: Lost Borders\", \"Year\": 2016.0, \"Genre\": \"Role-Playing\", \"Publisher\": \"Gaijinworks\", \"North America\": 0.03, \"Europe\": 0.0, \"Japan\": 0.05, \"Rest of World\": 0.01, \"Global\": 0.09}, {\"Game\": \"Black Rose Valkyrie\", \"Year\": 2016.0, \"Genre\": \"Role-Playing\", \"Publisher\": \"Idea Factory International\", \"North America\": 0.04, \"Europe\": 0.0, \"Japan\": 0.04, \"Rest of World\": 0.01, \"Global\": 0.09}, {\"Game\": \"Duke Nukem 3D: 20th Anniversary World Tour\", \"Year\": 2016.0, \"Genre\": \"Shooter\", \"Publisher\": \"Gearbox Software\", \"North America\": 0.07, \"Europe\": 0.0, \"Japan\": 0.0, \"Rest of World\": 0.02, \"Global\": 0.09}, {\"Game\": \"ATV Drift & Tricks\", \"Year\": 2017.0, \"Genre\": \"Racing\", \"Publisher\": \"Funbox Media\", \"North America\": 0.07, \"Europe\": 0.0, \"Japan\": 0.0, \"Rest of World\": 0.02, \"Global\": 0.09}, {\"Game\": \"Yoru no Nai Kuni\", \"Year\": 2015.0, \"Genre\": \"Role-Playing\", \"Publisher\": \"Tecmo Koei\", \"North America\": 0.0, \"Europe\": 0.0, \"Japan\": 0.09, \"Rest of World\": 0.0, \"Global\": 0.09}, {\"Game\": \"Lara Croft and the Temple of Osiris\", \"Year\": 2014.0, \"Genre\": \"Action\", \"Publisher\": \"Square Enix\", \"North America\": 0.0, \"Europe\": 0.07, \"Japan\": 0.0, \"Rest of World\": 0.01, \"Global\": 0.09}, {\"Game\": \"Ghostbusters (2016)\", \"Year\": 2016.0, \"Genre\": \"Action\", \"Publisher\": \"Activision\", \"North America\": 0.07, \"Europe\": 0.0, \"Japan\": 0.0, \"Rest of World\": 0.02, \"Global\": 0.08}, {\"Game\": \"Agatha Christie's The ABC Murders\", \"Year\": 2016.0, \"Genre\": \"Adventure\", \"Publisher\": \"Microids\", \"North America\": 0.05, \"Europe\": 0.02, \"Japan\": 0.0, \"Rest of World\": 0.02, \"Global\": 0.08}, {\"Game\": \"Shantae: Half-Genie Hero\", \"Year\": 2016.0, \"Genre\": \"Platform\", \"Publisher\": \"Xseed Games\", \"North America\": 0.06, \"Europe\": 0.0, \"Japan\": 0.01, \"Rest of World\": 0.01, \"Global\": 0.08}, {\"Game\": \"Earth Defense Force 4.1: The Shadow of New Despair\", \"Year\": 2015.0, \"Genre\": \"Shooter\", \"Publisher\": \"PQube\", \"North America\": 0.05, \"Europe\": 0.02, \"Japan\": 0.0, \"Rest of World\": 0.01, \"Global\": 0.08}, {\"Game\": \"The Sexy Brutale\", \"Year\": 2017.0, \"Genre\": \"Adventure\", \"Publisher\": \"Badland Studio\", \"North America\": 0.05, \"Europe\": 0.02, \"Japan\": 0.0, \"Rest of World\": 0.01, \"Global\": 0.08}, {\"Game\": \"Legend of Kay\", \"Year\": 2015.0, \"Genre\": \"Action\", \"Publisher\": \"Nordic Games\", \"North America\": 0.03, \"Europe\": 0.03, \"Japan\": 0.0, \"Rest of World\": 0.01, \"Global\": 0.08}, {\"Game\": \"Hasbro Family Fun Pack Conquest Edition\", \"Year\": 2016.0, \"Genre\": \"Misc\", \"Publisher\": \"Ubisoft\", \"North America\": 0.07, \"Europe\": 0.0, \"Japan\": 0.0, \"Rest of World\": 0.02, \"Global\": 0.08}, {\"Game\": \"Loading Human\", \"Year\": 2016.0, \"Genre\": \"Adventure\", \"Publisher\": \"Maximum Games\", \"North America\": 0.05, \"Europe\": 0.02, \"Japan\": 0.0, \"Rest of World\": 0.01, \"Global\": 0.08}, {\"Game\": \"Rapala Fishing Pro Series\", \"Year\": 2017.0, \"Genre\": \"Simulation\", \"Publisher\": \"GameMill\", \"North America\": 0.06, \"Europe\": 0.0, \"Japan\": 0.0, \"Rest of World\": 0.02, \"Global\": 0.08}, {\"Game\": \"Atelier Firis: The Alchemist of the Mysterious Journey\", \"Year\": 2016.0, \"Genre\": \"Role-Playing\", \"Publisher\": \"Tecmo Koei\", \"North America\": 0.02, \"Europe\": 0.0, \"Japan\": 0.05, \"Rest of World\": 0.01, \"Global\": 0.08}, {\"Game\": \"Dead Rising\", \"Year\": 2016.0, \"Genre\": \"Action\", \"Publisher\": \"Capcom\", \"North America\": 0.04, \"Europe\": 0.0, \"Japan\": 0.02, \"Rest of World\": 0.01, \"Global\": 0.08}, {\"Game\": \"Assetto Corsa\", \"Year\": 2016.0, \"Genre\": \"Racing\", \"Publisher\": \"505 Games\", \"North America\": 0.0, \"Europe\": 0.06, \"Japan\": 0.01, \"Rest of World\": 0.01, \"Global\": 0.08}, {\"Game\": \"Akiba's Beat\", \"Year\": 2016.0, \"Genre\": \"Action\", \"Publisher\": \"PQube\", \"North America\": 0.05, \"Europe\": 0.0, \"Japan\": 0.01, \"Rest of World\": 0.01, \"Global\": 0.08}, {\"Game\": \"WRC 6\", \"Year\": 2016.0, \"Genre\": \"Racing\", \"Publisher\": \"PQube\", \"North America\": 0.03, \"Europe\": 0.02, \"Japan\": 0.01, \"Rest of World\": 0.01, \"Global\": 0.08}, {\"Game\": \"God Wars: Future Past\", \"Year\": 2017.0, \"Genre\": \"Role-Playing\", \"Publisher\": \"NIS America\", \"North America\": 0.03, \"Europe\": 0.01, \"Japan\": 0.02, \"Rest of World\": 0.01, \"Global\": 0.07}, {\"Game\": \"Resident Evil 5 HD\", \"Year\": 2016.0, \"Genre\": \"Action\", \"Publisher\": \"Capcom\", \"North America\": 0.05, \"Europe\": 0.0, \"Japan\": 0.01, \"Rest of World\": 0.01, \"Global\": 0.07}, {\"Game\": \"The Witch and the Hundred Knights 2\", \"Year\": 2017.0, \"Genre\": \"Role-Playing\", \"Publisher\": \"Nippon Ichi Software\", \"North America\": 0.03, \"Europe\": 0.0, \"Japan\": 0.03, \"Rest of World\": 0.01, \"Global\": 0.07}, {\"Game\": \"Samurai Warriors: Sanada Maru\", \"Year\": 2016.0, \"Genre\": \"Action\", \"Publisher\": \"Tecmo Koei\", \"North America\": 0.02, \"Europe\": 0.0, \"Japan\": 0.05, \"Rest of World\": 0.01, \"Global\": 0.07}, {\"Game\": \"Project Setsuna\", \"Year\": 2016.0, \"Genre\": \"Role-Playing\", \"Publisher\": \"Square Enix\", \"North America\": 0.0, \"Europe\": 0.0, \"Japan\": 0.07, \"Rest of World\": 0.0, \"Global\": 0.07}, {\"Game\": \"Has-Been Heroes\", \"Year\": 2017.0, \"Genre\": \"Action\", \"Publisher\": \"GameTrust\", \"North America\": 0.06, \"Europe\": 0.0, \"Japan\": 0.0, \"Rest of World\": 0.01, \"Global\": 0.07}, {\"Game\": \"Fortune Street: Dragon Quest & Final Fantasy 30th Anniversary\", \"Year\": 2017.0, \"Genre\": \"Misc\", \"Publisher\": \"Square Enix\", \"North America\": 0.0, \"Europe\": 0.0, \"Japan\": 0.07, \"Rest of World\": 0.0, \"Global\": 0.07}, {\"Game\": \"Styx: Shards of Darknes\", \"Year\": 2017.0, \"Genre\": \"Action\", \"Publisher\": \"Focus Home Interactive\", \"North America\": 0.06, \"Europe\": 0.0, \"Japan\": 0.0, \"Rest of World\": 0.01, \"Global\": 0.07}, {\"Game\": \"Dead Rising 2\", \"Year\": 2016.0, \"Genre\": \"Action\", \"Publisher\": \"Capcom\", \"North America\": 0.04, \"Europe\": 0.0, \"Japan\": 0.02, \"Rest of World\": 0.01, \"Global\": 0.07}, {\"Game\": \"The Book of Unwritten Tales 2\", \"Year\": 2015.0, \"Genre\": \"Adventure\", \"Publisher\": \"Nordic Games\", \"North America\": 0.0, \"Europe\": 0.06, \"Japan\": 0.0, \"Rest of World\": 0.01, \"Global\": 0.07}, {\"Game\": \"Touhou Genso Rondo: Bullet Ballet\", \"Year\": 2016.0, \"Genre\": \"Shooter\", \"Publisher\": \"NIS America\", \"North America\": 0.06, \"Europe\": 0.0, \"Japan\": 0.0, \"Rest of World\": 0.01, \"Global\": 0.07}, {\"Game\": \"The Walking Dead: A Telltale Series Collection\", \"Year\": 2017.0, \"Genre\": \"Adventure\", \"Publisher\": \"Warner Bros. Interactive Entertainment\", \"North America\": 0.06, \"Europe\": 0.0, \"Japan\": 0.0, \"Rest of World\": 0.01, \"Global\": 0.07}, {\"Game\": \"The Silver Case\", \"Year\": 2017.0, \"Genre\": \"Visual Novel\", \"Publisher\": \"NIS America\", \"North America\": 0.05, \"Europe\": 0.0, \"Japan\": 0.01, \"Rest of World\": 0.01, \"Global\": 0.07}, {\"Game\": \"Hunting Simulator\", \"Year\": 2017.0, \"Genre\": \"Shooter\", \"Publisher\": \"Bigben Interactive\", \"North America\": 0.06, \"Europe\": 0.0, \"Japan\": 0.0, \"Rest of World\": 0.01, \"Global\": 0.07}, {\"Game\": \"WRC 7\", \"Year\": 2017.0, \"Genre\": \"Racing\", \"Publisher\": \"Bigben Interactive\", \"North America\": 0.06, \"Europe\": 0.0, \"Japan\": 0.0, \"Rest of World\": 0.01, \"Global\": 0.07}, {\"Game\": \"Kamen Rider: Battride War Genesis\", \"Year\": 2016.0, \"Genre\": \"Action\", \"Publisher\": \"Namco Bandai Games\", \"North America\": 0.0, \"Europe\": 0.0, \"Japan\": 0.07, \"Rest of World\": 0.0, \"Global\": 0.07}, {\"Game\": \"Le Tour de France 2017\", \"Year\": 2017.0, \"Genre\": \"Simulation\", \"Publisher\": \"Focus Home Interactive\", \"North America\": 0.0, \"Europe\": 0.06, \"Japan\": 0.0, \"Rest of World\": 0.01, \"Global\": 0.07}, {\"Game\": \"City Shrouded in Shadow\", \"Year\": 2017.0, \"Genre\": \"Action-Adventure\", \"Publisher\": \"Namco Bandai Games\", \"North America\": 0.0, \"Europe\": 0.0, \"Japan\": 0.07, \"Rest of World\": 0.0, \"Global\": 0.07}, {\"Game\": \"SG/ZH: School Girl/Zombie Hunter\", \"Year\": 2017.0, \"Genre\": \"Action\", \"Publisher\": \"Aksys Games\", \"North America\": 0.04, \"Europe\": 0.0, \"Japan\": 0.02, \"Rest of World\": 0.01, \"Global\": 0.07}, {\"Game\": \"Broken Sword 5: The Serpent's Curse\", \"Year\": 2015.0, \"Genre\": \"Adventure\", \"Publisher\": \"Revolution Software\", \"North America\": 0.0, \"Europe\": 0.06, \"Japan\": 0.0, \"Rest of World\": 0.01, \"Global\": 0.07}, {\"Game\": \"Terraria\", \"Year\": 2014.0, \"Genre\": \"Action\", \"Publisher\": \"505 Games\", \"North America\": 0.0, \"Europe\": 0.05, \"Japan\": 0.01, \"Rest of World\": 0.01, \"Global\": 0.07}, {\"Game\": \"Warhammer: The End Times - Vermintide\", \"Year\": 2016.0, \"Genre\": \"Action\", \"Publisher\": \"Games Workshop\", \"North America\": 0.03, \"Europe\": 0.03, \"Japan\": 0.0, \"Rest of World\": 0.01, \"Global\": 0.07}, {\"Game\": \"Batman: The Enemy Within\", \"Year\": 2017.0, \"Genre\": \"Adventure\", \"Publisher\": \"Telltale Games\", \"North America\": 0.05, \"Europe\": 0.0, \"Japan\": 0.0, \"Rest of World\": 0.01, \"Global\": 0.07}, {\"Game\": \"Atari Flashback Classics: Volume 1\", \"Year\": 2016.0, \"Genre\": \"Misc\", \"Publisher\": \"Atari\", \"North America\": 0.05, \"Europe\": 0.0, \"Japan\": 0.0, \"Rest of World\": 0.01, \"Global\": 0.07}, {\"Game\": \"Legend of Kay Anniversary\", \"Year\": 2015.0, \"Genre\": \"Action\", \"Publisher\": \"Nordic Games\", \"North America\": 0.0, \"Europe\": 0.06, \"Japan\": 0.0, \"Rest of World\": 0.01, \"Global\": 0.07}, {\"Game\": \"Steins;Gate 0\", \"Year\": 2015.0, \"Genre\": \"Adventure\", \"Publisher\": \"PQube\", \"North America\": 0.0, \"Europe\": 0.0, \"Japan\": 0.07, \"Rest of World\": 0.0, \"Global\": 0.07}, {\"Game\": \"ZombiU\", \"Year\": 2016.0, \"Genre\": \"Action\", \"Publisher\": \"Ubisoft\", \"North America\": 0.0, \"Europe\": 0.04, \"Japan\": 0.01, \"Rest of World\": 0.01, \"Global\": 0.07}, {\"Game\": \"Risen 3: Titan Lords\", \"Year\": 2015.0, \"Genre\": \"Role-Playing\", \"Publisher\": \"Deep Silver\", \"North America\": 0.0, \"Europe\": 0.06, \"Japan\": 0.0, \"Rest of World\": 0.01, \"Global\": 0.07}, {\"Game\": \"Mark McMorris Infinite Air\", \"Year\": 2016.0, \"Genre\": \"Sports\", \"Publisher\": \"Maximum Games\", \"North America\": 0.05, \"Europe\": 0.0, \"Japan\": 0.0, \"Rest of World\": 0.01, \"Global\": 0.06}, {\"Game\": \"Dead or Alive Xtreme 3: Fortune\", \"Year\": 2016.0, \"Genre\": \"Sports\", \"Publisher\": \"Tecmo Koei\", \"North America\": 0.0, \"Europe\": 0.0, \"Japan\": 0.06, \"Rest of World\": 0.0, \"Global\": 0.06}, {\"Game\": \"Birthdays the Beginning\", \"Year\": 2017.0, \"Genre\": \"Misc\", \"Publisher\": \"NIS America\", \"North America\": 0.05, \"Europe\": 0.0, \"Japan\": 0.0, \"Rest of World\": 0.01, \"Global\": 0.06}, {\"Game\": \"Rugby 18\", \"Year\": 2017.0, \"Genre\": \"Sports\", \"Publisher\": \"Koch Media\", \"North America\": 0.05, \"Europe\": 0.0, \"Japan\": 0.0, \"Rest of World\": 0.01, \"Global\": 0.06}, {\"Game\": \"The Binding of Isaac\", \"Year\": 2017.0, \"Genre\": \"Misc\", \"Publisher\": \"Nicalis\", \"North America\": 0.05, \"Europe\": 0.0, \"Japan\": 0.0, \"Rest of World\": 0.01, \"Global\": 0.06}, {\"Game\": \"Sherlock Holmes: The Devil's Daughter\", \"Year\": 2016.0, \"Genre\": \"Adventure\", \"Publisher\": \"Bigben Interactive\", \"North America\": 0.05, \"Europe\": 0.0, \"Japan\": 0.0, \"Rest of World\": 0.01, \"Global\": 0.06}, {\"Game\": \"Atelier Liddy and Soeur: Alchemists of the Mysterious Painting\", \"Year\": 2017.0, \"Genre\": \"Role-Playing\", \"Publisher\": \"Tecmo Koei\", \"North America\": 0.03, \"Europe\": 0.0, \"Japan\": 0.03, \"Rest of World\": 0.01, \"Global\": 0.06}, {\"Game\": \"MX vs. ATV Supercross Encore\", \"Year\": 2015.0, \"Genre\": \"Sports\", \"Publisher\": \"Nordic Games\", \"North America\": 0.0, \"Europe\": 0.05, \"Japan\": 0.0, \"Rest of World\": 0.01, \"Global\": 0.06}, {\"Game\": \"MX vs ATV Supercross Encore 2017 Track Edition\", \"Year\": 2017.0, \"Genre\": \"Racing\", \"Publisher\": \"THQ Nordic\", \"North America\": 0.05, \"Europe\": 0.0, \"Japan\": 0.0, \"Rest of World\": 0.01, \"Global\": 0.06}, {\"Game\": \"Sword Art Online: Game Director's Edition\", \"Year\": 2015.0, \"Genre\": \"Role-Playing\", \"Publisher\": \"Namco Bandai Games\", \"North America\": 0.0, \"Europe\": 0.0, \"Japan\": 0.06, \"Rest of World\": 0.0, \"Global\": 0.06}, {\"Game\": \"Deformers\", \"Year\": 2017.0, \"Genre\": \"Action\", \"Publisher\": \"Ready at Dawn\", \"North America\": 0.05, \"Europe\": 0.0, \"Japan\": 0.0, \"Rest of World\": 0.01, \"Global\": 0.06}, {\"Game\": \"Nobunaga no Yabou: Souzou\", \"Year\": 2014.0, \"Genre\": \"Strategy\", \"Publisher\": \"Tecmo Koei\", \"North America\": 0.0, \"Europe\": 0.0, \"Japan\": 0.06, \"Rest of World\": 0.0, \"Global\": 0.06}, {\"Game\": \"Dragon Quest X: All in One Package\", \"Year\": 2017.0, \"Genre\": \"Role-Playing\", \"Publisher\": \"Square Enix\", \"North America\": 0.0, \"Europe\": 0.0, \"Japan\": 0.06, \"Rest of World\": 0.0, \"Global\": 0.06}, {\"Game\": \"Yomawari: Midnight Shadows\", \"Year\": 2017.0, \"Genre\": \"Action\", \"Publisher\": \"NIS America\", \"North America\": 0.02, \"Europe\": 0.0, \"Japan\": 0.04, \"Rest of World\": 0.0, \"Global\": 0.06}, {\"Game\": \"Game of Thrones (Telltale)\", \"Year\": 2015.0, \"Genre\": \"Adventure\", \"Publisher\": \"Telltale Games\", \"North America\": 0.05, \"Europe\": 0.0, \"Japan\": 0.0, \"Rest of World\": 0.01, \"Global\": 0.06}, {\"Game\": \"Atari Flashback Classics: Volume 2\", \"Year\": 2016.0, \"Genre\": \"Misc\", \"Publisher\": \"Atari\", \"North America\": 0.05, \"Europe\": 0.0, \"Japan\": 0.0, \"Rest of World\": 0.01, \"Global\": 0.06}, {\"Game\": \"Outcast: Second Contact\", \"Year\": 2017.0, \"Genre\": \"Adventure\", \"Publisher\": \"Maximum Games\", \"North America\": 0.05, \"Europe\": 0.0, \"Japan\": 0.0, \"Rest of World\": 0.01, \"Global\": 0.06}, {\"Game\": \"Cartoon Network Battle Crashers\", \"Year\": 2016.0, \"Genre\": \"Action\", \"Publisher\": \"Maximum Games\", \"North America\": 0.05, \"Europe\": 0.0, \"Japan\": 0.0, \"Rest of World\": 0.01, \"Global\": 0.06}, {\"Game\": \"Handball 16\", \"Year\": 2015.0, \"Genre\": \"Sports\", \"Publisher\": \"Bigben Interactive\", \"North America\": 0.0, \"Europe\": 0.05, \"Japan\": 0.0, \"Rest of World\": 0.01, \"Global\": 0.06}, {\"Game\": \"Extinction\", \"Year\": 2018.0, \"Genre\": \"Action\", \"Publisher\": \"Maximum Games\", \"North America\": 0.05, \"Europe\": 0.0, \"Japan\": 0.0, \"Rest of World\": 0.01, \"Global\": 0.06}, {\"Game\": \"Rugby World Cup 2015\", \"Year\": 2015.0, \"Genre\": \"Sports\", \"Publisher\": \"Big Ben Interactive\", \"North America\": 0.0, \"Europe\": 0.05, \"Japan\": 0.0, \"Rest of World\": 0.01, \"Global\": 0.06}, {\"Game\": \"Exist Archive: The Other Side of the Sky\", \"Year\": 2015.0, \"Genre\": \"Role-Playing\", \"Publisher\": \"Aksys Games\", \"North America\": 0.02, \"Europe\": 0.0, \"Japan\": 0.03, \"Rest of World\": 0.0, \"Global\": 0.06}, {\"Game\": \"King's Quest: The Complete Collection\", \"Year\": 2016.0, \"Genre\": \"Adventure\", \"Publisher\": \"Activision\", \"North America\": 0.05, \"Europe\": 0.0, \"Japan\": 0.0, \"Rest of World\": 0.01, \"Global\": 0.06}, {\"Game\": \"Sine Mora\", \"Year\": 2017.0, \"Genre\": \"Action\", \"Publisher\": \"THQ Nordic\", \"North America\": 0.03, \"Europe\": 0.01, \"Japan\": 0.0, \"Rest of World\": 0.01, \"Global\": 0.06}, {\"Game\": \"Aven Colony\", \"Year\": 2017.0, \"Genre\": \"Strategy\", \"Publisher\": \"Sold Out\", \"North America\": 0.04, \"Europe\": 0.01, \"Japan\": 0.0, \"Rest of World\": 0.01, \"Global\": 0.06}, {\"Game\": \"Battle Chasers: Nightwar\", \"Year\": 2017.0, \"Genre\": \"Role-Playing\", \"Publisher\": \"THQ Nordic\", \"North America\": 0.03, \"Europe\": 0.02, \"Japan\": 0.0, \"Rest of World\": 0.01, \"Global\": 0.06}, {\"Game\": \"WRC 5: FIA World Rally Championship\", \"Year\": 2015.0, \"Genre\": \"Racing\", \"Publisher\": \"Bigben Interactive\", \"North America\": 0.0, \"Europe\": 0.05, \"Japan\": 0.0, \"Rest of World\": 0.01, \"Global\": 0.06}, {\"Game\": \"Black Mirror\", \"Year\": 2017.0, \"Genre\": \"Adventure\", \"Publisher\": \"THQ Nordic\", \"North America\": 0.04, \"Europe\": 0.0, \"Japan\": 0.0, \"Rest of World\": 0.01, \"Global\": 0.05}, {\"Game\": \"Touhou Genso Wanderer\", \"Year\": 2017.0, \"Genre\": \"Action\", \"Publisher\": \"NIS America\", \"North America\": 0.04, \"Europe\": 0.0, \"Japan\": 0.0, \"Rest of World\": 0.01, \"Global\": 0.05}, {\"Game\": \"Arcania: Gothic 4\", \"Year\": 2015.0, \"Genre\": \"Role-Playing\", \"Publisher\": \"Nordic Games\", \"North America\": 0.04, \"Europe\": 0.0, \"Japan\": 0.0, \"Rest of World\": 0.01, \"Global\": 0.05}, {\"Game\": \"Starblood Arena VR\", \"Year\": 2017.0, \"Genre\": \"Shooter\", \"Publisher\": \"Sony Interactive Entertainment\", \"North America\": 0.04, \"Europe\": 0.0, \"Japan\": 0.0, \"Rest of World\": 0.01, \"Global\": 0.05}, {\"Game\": \"Hellblade\", \"Year\": 2018.0, \"Genre\": \"Action-Adventure\", \"Publisher\": \"505 Games\", \"North America\": 0.03, \"Europe\": 0.01, \"Japan\": 0.0, \"Rest of World\": 0.01, \"Global\": 0.05}, {\"Game\": \"Bubsy: The Woolies Strike Back\", \"Year\": 2017.0, \"Genre\": \"Platform\", \"Publisher\": \"Accolade\", \"North America\": 0.04, \"Europe\": 0.0, \"Japan\": 0.0, \"Rest of World\": 0.01, \"Global\": 0.05}, {\"Game\": \"Nitroplus Blasterz: Heroines Infinite Duel\", \"Year\": 2015.0, \"Genre\": \"Fighting\", \"Publisher\": \"Marvelous Interactive\", \"North America\": 0.01, \"Europe\": 0.01, \"Japan\": 0.03, \"Rest of World\": 0.0, \"Global\": 0.05}, {\"Game\": \"Nobunaga's Ambition: Creation\", \"Year\": 2014.0, \"Genre\": \"Strategy\", \"Publisher\": \"Tecmo Koei\", \"North America\": 0.04, \"Europe\": 0.0, \"Japan\": 0.0, \"Rest of World\": 0.01, \"Global\": 0.05}, {\"Game\": \"Child of Light\", \"Year\": 2014.0, \"Genre\": \"Role-Playing\", \"Publisher\": \"Ubisoft\", \"North America\": 0.0, \"Europe\": 0.01, \"Japan\": 0.04, \"Rest of World\": 0.0, \"Global\": 0.05}, {\"Game\": \"Phantasy Star Online 2 Episode 4: Deluxe Package\", \"Year\": 2017.0, \"Genre\": \"Role-Playing\", \"Publisher\": \"Sega\", \"North America\": 0.0, \"Europe\": 0.0, \"Japan\": 0.05, \"Rest of World\": 0.0, \"Global\": 0.05}, {\"Game\": \"Saints Row: Gat out of Hell\", \"Year\": 2015.0, \"Genre\": \"Action\", \"Publisher\": \"Deep Silver\", \"North America\": 0.0, \"Europe\": 0.04, \"Japan\": 0.0, \"Rest of World\": 0.01, \"Global\": 0.05}, {\"Game\": \"Werewolves Within\", \"Year\": 2016.0, \"Genre\": \"Misc\", \"Publisher\": \"Ubisoft\", \"North America\": 0.04, \"Europe\": 0.0, \"Japan\": 0.0, \"Rest of World\": 0.01, \"Global\": 0.05}, {\"Game\": \"Demon Gaze 2\", \"Year\": 2017.0, \"Genre\": \"Role-Playing\", \"Publisher\": \"NIS America\", \"North America\": 0.04, \"Europe\": 0.0, \"Japan\": 0.0, \"Rest of World\": 0.01, \"Global\": 0.05}, {\"Game\": \"Real Farm\", \"Year\": 2017.0, \"Genre\": \"Simulation\", \"Publisher\": \"Soedesco\", \"North America\": 0.04, \"Europe\": 0.0, \"Japan\": 0.0, \"Rest of World\": 0.01, \"Global\": 0.05}, {\"Game\": \"Worms: WMD\", \"Year\": 2016.0, \"Genre\": \"Strategy\", \"Publisher\": \"Team17 Digital Ltd\", \"North America\": 0.02, \"Europe\": 0.02, \"Japan\": 0.0, \"Rest of World\": 0.01, \"Global\": 0.05}, {\"Game\": \"Syberia III\", \"Year\": 2017.0, \"Genre\": \"Adventure\", \"Publisher\": \"Microids\", \"North America\": 0.04, \"Europe\": 0.0, \"Japan\": 0.0, \"Rest of World\": 0.01, \"Global\": 0.05}, {\"Game\": \"Sengoku Basara: Sanada Yukimura-Den\", \"Year\": 2016.0, \"Genre\": \"Action\", \"Publisher\": \"Capcom\", \"North America\": 0.0, \"Europe\": 0.0, \"Japan\": 0.05, \"Rest of World\": 0.0, \"Global\": 0.05}, {\"Game\": \"Sengoku Basara 4: Sumeragi\", \"Year\": 2015.0, \"Genre\": \"Action\", \"Publisher\": \"Capcom\", \"North America\": 0.0, \"Europe\": 0.0, \"Japan\": 0.05, \"Rest of World\": 0.0, \"Global\": 0.05}, {\"Game\": \"S\\u008ebastien Loeb Rally Evo\", \"Year\": 2016.0, \"Genre\": \"Racing\", \"Publisher\": \"Milestone S.r.l\", \"North America\": 0.0, \"Europe\": 0.04, \"Japan\": 0.0, \"Rest of World\": 0.01, \"Global\": 0.05}, {\"Game\": \"Don't Starve\", \"Year\": 2018.0, \"Genre\": \"Adventure\", \"Publisher\": \"505 Games\", \"North America\": 0.04, \"Europe\": 0.0, \"Japan\": 0.0, \"Rest of World\": 0.01, \"Global\": 0.05}, {\"Game\": \"Monster Jam: Crush It\", \"Year\": 2016.0, \"Genre\": \"Racing\", \"Publisher\": \"GameMill\", \"North America\": 0.04, \"Europe\": 0.0, \"Japan\": 0.0, \"Rest of World\": 0.01, \"Global\": 0.05}, {\"Game\": \"Prison Architect\", \"Year\": 2016.0, \"Genre\": \"Simulation\", \"Publisher\": \"Introversion Software\", \"North America\": 0.02, \"Europe\": 0.02, \"Japan\": 0.0, \"Rest of World\": 0.01, \"Global\": 0.05}, {\"Game\": \"Assault Suit Leynos\", \"Year\": 2016.0, \"Genre\": \"Shooter\", \"Publisher\": \"Rising Star Games\", \"North America\": 0.04, \"Europe\": 0.0, \"Japan\": 0.0, \"Rest of World\": 0.01, \"Global\": 0.05}, {\"Game\": \"Tokyo Twilight Ghost Hunters Daybreak: Special Gigs\", \"Year\": 2016.0, \"Genre\": \"Adventure\", \"Publisher\": \"NIS America\", \"North America\": 0.04, \"Europe\": 0.0, \"Japan\": 0.0, \"Rest of World\": 0.01, \"Global\": 0.05}, {\"Game\": \"Overcooked\", \"Year\": 2016.0, \"Genre\": \"Action\", \"Publisher\": \"Sold Out\", \"North America\": 0.04, \"Europe\": 0.0, \"Japan\": 0.0, \"Rest of World\": 0.01, \"Global\": 0.05}, {\"Game\": \"Ben 10 (2017)\", \"Year\": 2017.0, \"Genre\": \"Action\", \"Publisher\": \"Outright Games\", \"North America\": 0.04, \"Europe\": 0.0, \"Japan\": 0.0, \"Rest of World\": 0.01, \"Global\": 0.05}, {\"Game\": \"Dead Alliance\", \"Year\": 2017.0, \"Genre\": \"Shooter\", \"Publisher\": \"Maximum Games\", \"North America\": 0.04, \"Europe\": 0.0, \"Japan\": 0.0, \"Rest of World\": 0.01, \"Global\": 0.04}, {\"Game\": \"Deer Hunter Reloaded\", \"Year\": 2017.0, \"Genre\": \"Shooter\", \"Publisher\": \"Maximum Games\", \"North America\": 0.04, \"Europe\": 0.0, \"Japan\": 0.0, \"Rest of World\": 0.01, \"Global\": 0.04}, {\"Game\": \"That's You\", \"Year\": 2017.0, \"Genre\": \"Party\", \"Publisher\": \"Sony Interactive Entertainment\", \"North America\": 0.04, \"Europe\": 0.0, \"Japan\": 0.0, \"Rest of World\": 0.01, \"Global\": 0.04}, {\"Game\": \"Raid: World War II\", \"Year\": 2017.0, \"Genre\": \"Shooter\", \"Publisher\": \"505 Games\", \"North America\": 0.04, \"Europe\": 0.0, \"Japan\": 0.0, \"Rest of World\": 0.01, \"Global\": 0.04}, {\"Game\": \"Hyperdimension Neptunia Victory II\", \"Year\": 2015.0, \"Genre\": \"Role-Playing\", \"Publisher\": \"Idea Factory International\", \"North America\": 0.0, \"Europe\": 0.0, \"Japan\": 0.04, \"Rest of World\": 0.0, \"Global\": 0.04}, {\"Game\": \"Zero Escape The Nonary Games\", \"Year\": 2017.0, \"Genre\": \"Adventure\", \"Publisher\": \"Aksys Games\", \"North America\": 0.03, \"Europe\": 0.0, \"Japan\": 0.01, \"Rest of World\": 0.01, \"Global\": 0.04}, {\"Game\": \"Rugby Challenge 3\", \"Year\": 2016.0, \"Genre\": \"Sports\", \"Publisher\": \"Alternative Software\", \"North America\": 0.0, \"Europe\": 0.04, \"Japan\": 0.0, \"Rest of World\": 0.01, \"Global\": 0.04}, {\"Game\": \"Vikings: Wolves of Midgard\", \"Year\": 2017.0, \"Genre\": \"Action\", \"Publisher\": \"Kalypso Media\", \"North America\": 0.03, \"Europe\": 0.01, \"Japan\": 0.0, \"Rest of World\": 0.01, \"Global\": 0.04}, {\"Game\": \"INSIDE / LIMBO Double Pack\", \"Year\": 2017.0, \"Genre\": \"Platform\", \"Publisher\": \"505 Games\", \"North America\": 0.04, \"Europe\": 0.0, \"Japan\": 0.0, \"Rest of World\": 0.01, \"Global\": 0.04}, {\"Game\": \"The Talos Principle\", \"Year\": 2015.0, \"Genre\": \"Puzzle\", \"Publisher\": \"Nighthawk Interactive\", \"North America\": 0.0, \"Europe\": 0.04, \"Japan\": 0.0, \"Rest of World\": 0.01, \"Global\": 0.04}, {\"Game\": \"Megadimension Neptunia VIIR\", \"Year\": 2017.0, \"Genre\": \"Role-Playing\", \"Publisher\": \"Compile Heart\", \"North America\": 0.01, \"Europe\": 0.0, \"Japan\": 0.03, \"Rest of World\": 0.0, \"Global\": 0.04}, {\"Game\": \"R.B.I. Baseball 2016\", \"Year\": 2016.0, \"Genre\": \"Sports\", \"Publisher\": \"MLB.com\", \"North America\": 0.04, \"Europe\": 0.0, \"Japan\": 0.0, \"Rest of World\": 0.01, \"Global\": 0.04}, {\"Game\": \"Pure Farming 2018\", \"Year\": 2018.0, \"Genre\": \"Simulation\", \"Publisher\": \"Techland\", \"North America\": 0.02, \"Europe\": 0.01, \"Japan\": 0.0, \"Rest of World\": 0.01, \"Global\": 0.04}, {\"Game\": \"Air Conflicts: Secret Wars\", \"Year\": 2016.0, \"Genre\": \"Simulation\", \"Publisher\": \"Nighthawk Interactive\", \"North America\": 0.03, \"Europe\": 0.0, \"Japan\": 0.0, \"Rest of World\": 0.01, \"Global\": 0.04}, {\"Game\": \"Anima - Gate of Memories\", \"Year\": 2016.0, \"Genre\": \"Action\", \"Publisher\": \"Avanquest\", \"North America\": 0.01, \"Europe\": 0.02, \"Japan\": 0.0, \"Rest of World\": 0.01, \"Global\": 0.04}, {\"Game\": \"Axiom Verge\", \"Year\": 2017.0, \"Genre\": \"Action\", \"Publisher\": \"Badland Studio\", \"North America\": 0.03, \"Europe\": 0.0, \"Japan\": 0.0, \"Rest of World\": 0.01, \"Global\": 0.04}, {\"Game\": \"Unbox: Newbie's Adventure\", \"Year\": 2017.0, \"Genre\": \"Action\", \"Publisher\": \"Merge Games\", \"North America\": 0.03, \"Europe\": 0.0, \"Japan\": 0.0, \"Rest of World\": 0.01, \"Global\": 0.04}, {\"Game\": \"Here They Lie\", \"Year\": 2016.0, \"Genre\": \"Adventure\", \"Publisher\": \"Sony Interactive Entertainment\", \"North America\": 0.0, \"Europe\": 0.03, \"Japan\": 0.0, \"Rest of World\": 0.01, \"Global\": 0.04}, {\"Game\": \"Under Night In-Birth Exe:Latest\", \"Year\": 2017.0, \"Genre\": \"Fighting\", \"Publisher\": \"Arc System Works\", \"North America\": 0.01, \"Europe\": 0.0, \"Japan\": 0.03, \"Rest of World\": 0.0, \"Global\": 0.04}, {\"Game\": \"Aragami\", \"Year\": 2016.0, \"Genre\": \"Action\", \"Publisher\": \"Maximum Games\", \"North America\": 0.03, \"Europe\": 0.0, \"Japan\": 0.0, \"Rest of World\": 0.01, \"Global\": 0.04}, {\"Game\": \"Yonder: The Cloud Catcher Chronicles\", \"Year\": 2017.0, \"Genre\": \"Action\", \"Publisher\": \"CokeM Interactive\", \"North America\": 0.03, \"Europe\": 0.0, \"Japan\": 0.0, \"Rest of World\": 0.01, \"Global\": 0.04}, {\"Game\": \"Assassin's Creed Chronicles: China\", \"Year\": 2015.0, \"Genre\": \"Action-Adventure\", \"Publisher\": \"Ubisoft\", \"North America\": 0.0, \"Europe\": 0.03, \"Japan\": 0.0, \"Rest of World\": 0.01, \"Global\": 0.04}, {\"Game\": \"JoJo's Bizarre Adventure: Eyes of Heaven\", \"Year\": 2015.0, \"Genre\": \"Fighting\", \"Publisher\": \"Namco Bandai Games\", \"North America\": 0.0, \"Europe\": 0.0, \"Japan\": 0.04, \"Rest of World\": 0.0, \"Global\": 0.04}, {\"Game\": \"Dungeons 3\", \"Year\": 2017.0, \"Genre\": \"Strategy\", \"Publisher\": \"Kalypso Media\", \"North America\": 0.03, \"Europe\": 0.0, \"Japan\": 0.0, \"Rest of World\": 0.01, \"Global\": 0.04}, {\"Game\": \"Tour de France 2014\", \"Year\": 2014.0, \"Genre\": \"Sports\", \"Publisher\": \"Focus Home Interactive\", \"North America\": 0.0, \"Europe\": 0.03, \"Japan\": 0.0, \"Rest of World\": 0.01, \"Global\": 0.04}, {\"Game\": \"Danganronpa Another Episode: Ultra Despair Girls\", \"Year\": 2017.0, \"Genre\": \"Shooter\", \"Publisher\": \"NIS America\", \"North America\": 0.03, \"Europe\": 0.0, \"Japan\": 0.01, \"Rest of World\": 0.01, \"Global\": 0.04}, {\"Game\": \"Aegis of Earth: Protonovus Assault\", \"Year\": 2016.0, \"Genre\": \"Action\", \"Publisher\": \"PQube\", \"North America\": 0.03, \"Europe\": 0.01, \"Japan\": 0.0, \"Rest of World\": 0.01, \"Global\": 0.04}, {\"Game\": \"Just Sing\", \"Year\": 2016.0, \"Genre\": \"Music\", \"Publisher\": \"Ubisoft\", \"North America\": 0.03, \"Europe\": 0.0, \"Japan\": 0.0, \"Rest of World\": 0.01, \"Global\": 0.04}, {\"Game\": \"Wonder Boy: The Dragon's Trap (Remake)\", \"Year\": 2018.0, \"Genre\": \"Platform\", \"Publisher\": \"Nicalis\", \"North America\": 0.03, \"Europe\": 0.0, \"Japan\": 0.0, \"Rest of World\": 0.01, \"Global\": 0.04}, {\"Game\": \"Lumo\", \"Year\": 2016.0, \"Genre\": \"Puzzle\", \"Publisher\": \"Rising Star Games\", \"North America\": 0.03, \"Europe\": 0.0, \"Japan\": 0.0, \"Rest of World\": 0.01, \"Global\": 0.04}, {\"Game\": \"ABZU\", \"Year\": 2017.0, \"Genre\": \"Adventure\", \"Publisher\": \"505 Games\", \"North America\": 0.03, \"Europe\": 0.0, \"Japan\": 0.0, \"Rest of World\": 0.01, \"Global\": 0.04}, {\"Game\": \"Shadow Tactics: Blades of the Shogun\", \"Year\": 2017.0, \"Genre\": \"Strategy\", \"Publisher\": \"Kalypso Media\", \"North America\": 0.02, \"Europe\": 0.01, \"Japan\": 0.0, \"Rest of World\": 0.01, \"Global\": 0.04}, {\"Game\": \"Darkest Dungeon\", \"Year\": 2018.0, \"Genre\": \"Role-Playing\", \"Publisher\": \"Merge Games\", \"North America\": 0.02, \"Europe\": 0.0, \"Japan\": 0.01, \"Rest of World\": 0.01, \"Global\": 0.04}, {\"Game\": \"R.B.I. Baseball 2017\", \"Year\": 2017.0, \"Genre\": \"Sports\", \"Publisher\": \"MLB.com\", \"North America\": 0.03, \"Europe\": 0.0, \"Japan\": 0.0, \"Rest of World\": 0.01, \"Global\": 0.04}, {\"Game\": \"Punch Line\", \"Year\": 2015.0, \"Genre\": \"Adventure\", \"Publisher\": \"5pb\", \"North America\": 0.03, \"Europe\": 0.0, \"Japan\": 0.0, \"Rest of World\": 0.01, \"Global\": 0.04}, {\"Game\": \"VR Karts\", \"Year\": 2017.0, \"Genre\": \"Racing\", \"Publisher\": \"Perp Games\", \"North America\": 0.03, \"Europe\": 0.0, \"Japan\": 0.0, \"Rest of World\": 0.01, \"Global\": 0.04}, {\"Game\": \"Resident Evil: Umbrella Corps\", \"Year\": 2016.0, \"Genre\": \"Shooter\", \"Publisher\": \"Capcom\", \"North America\": 0.0, \"Europe\": 0.0, \"Japan\": 0.04, \"Rest of World\": 0.0, \"Global\": 0.04}, {\"Game\": \"Marvel Pinball: Epic Collection Volume 1\", \"Year\": 2016.0, \"Genre\": \"Puzzle\", \"Publisher\": \"Nighthawk Interactive\", \"North America\": 0.03, \"Europe\": 0.0, \"Japan\": 0.0, \"Rest of World\": 0.01, \"Global\": 0.04}, {\"Game\": \"God Eater Off Shot: Lindow-hen Twin Pack & Animation Vol. 2\", \"Year\": 2015.0, \"Genre\": \"Misc\", \"Publisher\": \"Namco Bandai Games\", \"North America\": 0.0, \"Europe\": 0.0, \"Japan\": 0.04, \"Rest of World\": 0.0, \"Global\": 0.04}, {\"Game\": \"Infamous: First Light\", \"Year\": 2014.0, \"Genre\": \"Action\", \"Publisher\": \"Sony Computer Entertainment\", \"North America\": 0.0, \"Europe\": 0.03, \"Japan\": 0.0, \"Rest of World\": 0.0, \"Global\": 0.03}, {\"Game\": \"Raiden V\", \"Year\": 2017.0, \"Genre\": \"Action\", \"Publisher\": \"UFO Interactive\", \"North America\": 0.02, \"Europe\": 0.0, \"Japan\": 0.0, \"Rest of World\": 0.01, \"Global\": 0.03}, {\"Game\": \"The Peanuts Movie: Snoopy's Grand Adventure\", \"Year\": 2015.0, \"Genre\": \"Platform\", \"Publisher\": \"Activision\", \"North America\": 0.0, \"Europe\": 0.03, \"Japan\": 0.0, \"Rest of World\": 0.0, \"Global\": 0.03}, {\"Game\": \"The Dwarves\", \"Year\": 2016.0, \"Genre\": \"Role-Playing\", \"Publisher\": \"THQ Nordic\", \"North America\": 0.03, \"Europe\": 0.0, \"Japan\": 0.0, \"Rest of World\": 0.01, \"Global\": 0.03}, {\"Game\": \"Dynasty Warriors: Eiketsuden\", \"Year\": 2016.0, \"Genre\": \"Strategy\", \"Publisher\": \"Tecmo Koei\", \"North America\": 0.0, \"Europe\": 0.0, \"Japan\": 0.03, \"Rest of World\": 0.0, \"Global\": 0.03}, {\"Game\": \"Winning Post 8 2016\", \"Year\": 2016.0, \"Genre\": \"Simulation\", \"Publisher\": \"Tecmo Koei\", \"North America\": 0.0, \"Europe\": 0.0, \"Japan\": 0.03, \"Rest of World\": 0.0, \"Global\": 0.03}, {\"Game\": \"Dragon's Dogma Online: Season 2\", \"Year\": 2016.0, \"Genre\": \"Action\", \"Publisher\": \"Capcom\", \"North America\": 0.0, \"Europe\": 0.0, \"Japan\": 0.03, \"Rest of World\": 0.0, \"Global\": 0.03}, {\"Game\": \"Coven and Labyrinth of Refrain\", \"Year\": 2017.0, \"Genre\": \"Action\", \"Publisher\": \"Nippon Ichi Software\", \"North America\": 0.01, \"Europe\": 0.0, \"Japan\": 0.01, \"Rest of World\": 0.0, \"Global\": 0.03}, {\"Game\": \"Super Dungeon Bros\", \"Year\": 2016.0, \"Genre\": \"Action\", \"Publisher\": \"Wired Productions\", \"North America\": 0.02, \"Europe\": 0.0, \"Japan\": 0.0, \"Rest of World\": 0.01, \"Global\": 0.03}, {\"Game\": \"Blade Arcus from Shining EX\", \"Year\": 2015.0, \"Genre\": \"Fighting\", \"Publisher\": \"Sega\", \"North America\": 0.0, \"Europe\": 0.0, \"Japan\": 0.03, \"Rest of World\": 0.0, \"Global\": 0.03}, {\"Game\": \"Troll and I\", \"Year\": 2017.0, \"Genre\": \"Action\", \"Publisher\": \"Maximum Games\", \"North America\": 0.02, \"Europe\": 0.0, \"Japan\": 0.0, \"Rest of World\": 0.01, \"Global\": 0.03}, {\"Game\": \"The Pillars of the Earth\", \"Year\": 2017.0, \"Genre\": \"Adventure\", \"Publisher\": \"Kalypso Media\", \"North America\": 0.02, \"Europe\": 0.0, \"Japan\": 0.0, \"Rest of World\": 0.01, \"Global\": 0.03}, {\"Game\": \"The Lost Child\", \"Year\": 2017.0, \"Genre\": \"Action\", \"Publisher\": \"Kadokawa Games\", \"North America\": 0.01, \"Europe\": 0.0, \"Japan\": 0.01, \"Rest of World\": 0.0, \"Global\": 0.03}, {\"Game\": \"Romance of the Three Kingdoms 13 with Power-Up Kit\", \"Year\": 2017.0, \"Genre\": \"Misc\", \"Publisher\": \"Tecmo Koei\", \"North America\": 0.0, \"Europe\": 0.0, \"Japan\": 0.03, \"Rest of World\": 0.0, \"Global\": 0.03}, {\"Game\": \"Koihime Enbu\", \"Year\": 2016.0, \"Genre\": \"Fighting\", \"Publisher\": \"Yeti\", \"North America\": 0.0, \"Europe\": 0.0, \"Japan\": 0.03, \"Rest of World\": 0.0, \"Global\": 0.03}, {\"Game\": \"Road Rage\", \"Year\": 2017.0, \"Genre\": \"Racing\", \"Publisher\": \"Maximum Games\", \"North America\": 0.02, \"Europe\": 0.0, \"Japan\": 0.0, \"Rest of World\": 0.01, \"Global\": 0.03}, {\"Game\": \"Winning Post 8 2017\", \"Year\": 2017.0, \"Genre\": \"Misc\", \"Publisher\": \"Tecmo Koei\", \"North America\": 0.0, \"Europe\": 0.0, \"Japan\": 0.03, \"Rest of World\": 0.0, \"Global\": 0.03}, {\"Game\": \"Dino Dini's Kick Off Revival\", \"Year\": 2016.0, \"Genre\": \"Sports\", \"Publisher\": \"Avanquest\", \"North America\": 0.0, \"Europe\": 0.02, \"Japan\": 0.0, \"Rest of World\": 0.0, \"Global\": 0.03}, {\"Game\": \"God Eater Off Shot:Shiou-hen Twin Pack & Animation Vol.5\", \"Year\": 2016.0, \"Genre\": \"Misc\", \"Publisher\": \"Namco Bandai Games\", \"North America\": 0.0, \"Europe\": 0.0, \"Japan\": 0.03, \"Rest of World\": 0.0, \"Global\": 0.03}, {\"Game\": \"Tumblestone\", \"Year\": 2016.0, \"Genre\": \"Puzzle\", \"Publisher\": \"Nighthawk Interactive\", \"North America\": 0.02, \"Europe\": 0.0, \"Japan\": 0.0, \"Rest of World\": 0.01, \"Global\": 0.03}, {\"Game\": \"Blackguards 2\", \"Year\": 2017.0, \"Genre\": \"Strategy\", \"Publisher\": \"Kalypso Media\", \"North America\": 0.02, \"Europe\": 0.0, \"Japan\": 0.0, \"Rest of World\": 0.01, \"Global\": 0.03}, {\"Game\": \"Baja: Edge of Control HD\", \"Year\": 2017.0, \"Genre\": \"Racing\", \"Publisher\": \"THQ Nordic\", \"North America\": 0.02, \"Europe\": 0.0, \"Japan\": 0.0, \"Rest of World\": 0.01, \"Global\": 0.03}, {\"Game\": \"Crows: Burning Edge\", \"Year\": 2016.0, \"Genre\": \"Action\", \"Publisher\": \"Namco Bandai Games\", \"North America\": 0.0, \"Europe\": 0.0, \"Japan\": 0.03, \"Rest of World\": 0.0, \"Global\": 0.03}, {\"Game\": \"Geometry Wars 3: Dimensions Evolved\", \"Year\": 2016.0, \"Genre\": \"Action\", \"Publisher\": \"Activision\", \"North America\": 0.02, \"Europe\": 0.0, \"Japan\": 0.0, \"Rest of World\": 0.01, \"Global\": 0.03}, {\"Game\": \"We Sing (2016)\", \"Year\": 2016.0, \"Genre\": \"Music\", \"Publisher\": \"THQ Nordic\", \"North America\": 0.02, \"Europe\": 0.0, \"Japan\": 0.0, \"Rest of World\": 0.01, \"Global\": 0.03}, {\"Game\": \"Shin Hayarigami 2\", \"Year\": 2016.0, \"Genre\": \"Adventure\", \"Publisher\": \"Nippon Ichi Software\", \"North America\": 0.0, \"Europe\": 0.0, \"Japan\": 0.03, \"Rest of World\": 0.0, \"Global\": 0.03}, {\"Game\": \"The Town of Light\", \"Year\": 2017.0, \"Genre\": \"Adventure\", \"Publisher\": \"Wired Productions\", \"North America\": 0.02, \"Europe\": 0.0, \"Japan\": 0.0, \"Rest of World\": 0.01, \"Global\": 0.03}, {\"Game\": \"OlliOlli: Epic Combo Edition\", \"Year\": 2016.0, \"Genre\": \"Platform\", \"Publisher\": \"Badland Studio\", \"North America\": 0.02, \"Europe\": 0.0, \"Japan\": 0.0, \"Rest of World\": 0.01, \"Global\": 0.03}, {\"Game\": \"Naruto Shippuden Ultimate Ninja Storm 4: Road to Boruto\", \"Year\": 2017.0, \"Genre\": \"Fighting\", \"Publisher\": \"Namco Bandai Games\", \"North America\": 0.0, \"Europe\": 0.0, \"Japan\": 0.03, \"Rest of World\": 0.0, \"Global\": 0.03}, {\"Game\": \"Ao no Kanata no Four Rhythm\", \"Year\": 2017.0, \"Genre\": \"Visual Novel\", \"Publisher\": \"Sprite\", \"North America\": 0.0, \"Europe\": 0.0, \"Japan\": 0.03, \"Rest of World\": 0.0, \"Global\": 0.03}, {\"Game\": \"Zero Escape: Zero Time Dilemma\", \"Year\": 2017.0, \"Genre\": \"Adventure\", \"Publisher\": \"Aksys Games\", \"North America\": 0.02, \"Europe\": 0.0, \"Japan\": 0.0, \"Rest of World\": 0.0, \"Global\": 0.03}, {\"Game\": \"AereA\", \"Year\": 2017.0, \"Genre\": \"Role-Playing\", \"Publisher\": \"Soedesco\", \"North America\": 0.02, \"Europe\": 0.0, \"Japan\": 0.0, \"Rest of World\": 0.0, \"Global\": 0.03}, {\"Game\": \"Root Letter\", \"Year\": 2016.0, \"Genre\": \"Visual Novel\", \"Publisher\": \"PQube\", \"North America\": 0.0, \"Europe\": 0.0, \"Japan\": 0.03, \"Rest of World\": 0.0, \"Global\": 0.03}, {\"Game\": \"ClaDun Sengoku\", \"Year\": 2017.0, \"Genre\": \"Action\", \"Publisher\": \"NIS America\", \"North America\": 0.02, \"Europe\": 0.0, \"Japan\": 0.0, \"Rest of World\": 0.0, \"Global\": 0.03}, {\"Game\": \"The Girl and the Robot\", \"Year\": 2017.0, \"Genre\": \"Misc\", \"Publisher\": \"Soedesco\", \"North America\": 0.02, \"Europe\": 0.0, \"Japan\": 0.0, \"Rest of World\": 0.0, \"Global\": 0.03}, {\"Game\": \"Omega Quintet\", \"Year\": 2014.0, \"Genre\": \"Role-Playing\", \"Publisher\": \"Compile Heart\", \"North America\": 0.0, \"Europe\": 0.0, \"Japan\": 0.02, \"Rest of World\": 0.0, \"Global\": 0.03}, {\"Game\": \"Touhou Kobuto V: Burst Battle\", \"Year\": 2017.0, \"Genre\": \"Shooter\", \"Publisher\": \"NIS America\", \"North America\": 0.02, \"Europe\": 0.0, \"Japan\": 0.0, \"Rest of World\": 0.0, \"Global\": 0.03}, {\"Game\": \"God Eater Off Shot: Soma Shikkuzaru-hen Twin Pack & Animation Vol.4\", \"Year\": 2016.0, \"Genre\": \"Action\", \"Publisher\": \"Namco Bandai Games\", \"North America\": 0.0, \"Europe\": 0.0, \"Japan\": 0.02, \"Rest of World\": 0.0, \"Global\": 0.02}, {\"Game\": \"Rugby League Live 3\", \"Year\": 2015.0, \"Genre\": \"Sports\", \"Publisher\": \"Tru Blu Entertainment\", \"North America\": 0.0, \"Europe\": 0.02, \"Japan\": 0.0, \"Rest of World\": 0.0, \"Global\": 0.02}, {\"Game\": \"Omega Labyrinth Z\", \"Year\": 2017.0, \"Genre\": \"Role-Playing\", \"Publisher\": \"D3Publisher\", \"North America\": 0.0, \"Europe\": 0.0, \"Japan\": 0.02, \"Rest of World\": 0.0, \"Global\": 0.02}, {\"Game\": \"Lost Sphear\", \"Year\": 2017.0, \"Genre\": \"Role-Playing\", \"Publisher\": \"Square Enix\", \"North America\": 0.0, \"Europe\": 0.0, \"Japan\": 0.02, \"Rest of World\": 0.0, \"Global\": 0.02}, {\"Game\": \"Superbeat: Xonic\", \"Year\": 2017.0, \"Genre\": \"Music\", \"Publisher\": \"PM Studios\", \"North America\": 0.02, \"Europe\": 0.0, \"Japan\": 0.0, \"Rest of World\": 0.0, \"Global\": 0.02}, {\"Game\": \"Republique\", \"Year\": 2016.0, \"Genre\": \"Action-Adventure\", \"Publisher\": \"Gunho Online Entertainment\", \"North America\": 0.0, \"Europe\": 0.01, \"Japan\": 0.01, \"Rest of World\": 0.0, \"Global\": 0.02}, {\"Game\": \"Super Stardust Ultra VR\", \"Year\": 2016.0, \"Genre\": \"Shooter\", \"Publisher\": \"Sony Interactive Entertainment\", \"North America\": 0.0, \"Europe\": 0.02, \"Japan\": 0.0, \"Rest of World\": 0.0, \"Global\": 0.02}, {\"Game\": \"Redout\", \"Year\": 2017.0, \"Genre\": \"Racing\", \"Publisher\": \"505 Games\", \"North America\": 0.02, \"Europe\": 0.0, \"Japan\": 0.0, \"Rest of World\": 0.0, \"Global\": 0.02}, {\"Game\": \"Resident Evil: Value Pack\", \"Year\": 2016.0, \"Genre\": \"Action-Adventure\", \"Publisher\": \"Capcom\", \"North America\": 0.0, \"Europe\": 0.0, \"Japan\": 0.02, \"Rest of World\": 0.0, \"Global\": 0.02}, {\"Game\": \"God Eater Off Shot: Tachibana Sakuya-hen Twin Pack & Animation Vol.7\", \"Year\": 2016.0, \"Genre\": \"Action\", \"Publisher\": \"Namco Bandai Games\", \"North America\": 0.0, \"Europe\": 0.0, \"Japan\": 0.02, \"Rest of World\": 0.0, \"Global\": 0.02}, {\"Game\": \"PaRappa the Rapper Remastered\", \"Year\": 2017.0, \"Genre\": \"Music\", \"Publisher\": \"Sony Interactive Entertainment\", \"North America\": 0.0, \"Europe\": 0.0, \"Japan\": 0.02, \"Rest of World\": 0.0, \"Global\": 0.02}, {\"Game\": \"Earth's Dawn\", \"Year\": 2016.0, \"Genre\": \"Action\", \"Publisher\": \"Rising Star Games\", \"North America\": 0.02, \"Europe\": 0.0, \"Japan\": 0.0, \"Rest of World\": 0.0, \"Global\": 0.02}, {\"Game\": \"Big Buck Hunter Arcade\", \"Year\": 2016.0, \"Genre\": \"Shooter\", \"Publisher\": \"GameMill Entertainment\", \"North America\": 0.02, \"Europe\": 0.0, \"Japan\": 0.0, \"Rest of World\": 0.0, \"Global\": 0.02}, {\"Game\": \"Dungeons 2\", \"Year\": 2016.0, \"Genre\": \"Role-Playing\", \"Publisher\": \"Kalypso Media\", \"North America\": 0.02, \"Europe\": 0.0, \"Japan\": 0.0, \"Rest of World\": 0.0, \"Global\": 0.02}, {\"Game\": \"Tricky Towers\", \"Year\": 2017.0, \"Genre\": \"Puzzle\", \"Publisher\": \"Soedesco\", \"North America\": 0.02, \"Europe\": 0.0, \"Japan\": 0.0, \"Rest of World\": 0.0, \"Global\": 0.02}, {\"Game\": \"No Heroes Allowed! VR\", \"Year\": 2017.0, \"Genre\": \"Strategy\", \"Publisher\": \"Sony Interactive Entertainment\", \"North America\": 0.0, \"Europe\": 0.0, \"Japan\": 0.02, \"Rest of World\": 0.0, \"Global\": 0.02}, {\"Game\": \"ArmaGallant: Decks of Destiny\", \"Year\": 2017.0, \"Genre\": \"Strategy\", \"Publisher\": \"Maximum Games\", \"North America\": 0.02, \"Europe\": 0.0, \"Japan\": 0.0, \"Rest of World\": 0.0, \"Global\": 0.02}, {\"Game\": \"Carmageddon: Max Damage\", \"Year\": 2016.0, \"Genre\": \"Action\", \"Publisher\": \"Stainless Games\", \"North America\": 0.02, \"Europe\": 0.0, \"Japan\": 0.0, \"Rest of World\": 0.0, \"Global\": 0.02}, {\"Game\": \"Armello\", \"Year\": 2018.0, \"Genre\": \"Strategy\", \"Publisher\": \"League of Geeks\", \"North America\": 0.02, \"Europe\": 0.0, \"Japan\": 0.0, \"Rest of World\": 0.0, \"Global\": 0.02}, {\"Game\": \"Shaq-Fu: A Legend Reborn\", \"Year\": 2018.0, \"Genre\": \"Action\", \"Publisher\": \"Wired Productions\", \"North America\": 0.02, \"Europe\": 0.0, \"Japan\": 0.0, \"Rest of World\": 0.0, \"Global\": 0.02}, {\"Game\": \"Patapon Remastered\", \"Year\": 2017.0, \"Genre\": \"Music\", \"Publisher\": \"Sony Interactive Entertainment\", \"North America\": 0.0, \"Europe\": 0.0, \"Japan\": 0.02, \"Rest of World\": 0.0, \"Global\": 0.02}, {\"Game\": \"Monster Hunter Frontier Z: Beginner's Package\", \"Year\": 2016.0, \"Genre\": \"Action\", \"Publisher\": \"Capcom\", \"North America\": 0.0, \"Europe\": 0.0, \"Japan\": 0.02, \"Rest of World\": 0.0, \"Global\": 0.02}, {\"Game\": \"Professional Farmer 2016\", \"Year\": 2015.0, \"Genre\": \"Action\", \"Publisher\": \"Namco Bandai Games\", \"North America\": 0.0, \"Europe\": 0.02, \"Japan\": 0.0, \"Rest of World\": 0.0, \"Global\": 0.02}, {\"Game\": \"Natsuiro High School: Seishun Hakusho\", \"Year\": 2015.0, \"Genre\": \"Action\", \"Publisher\": \"D3Publisher\", \"North America\": 0.0, \"Europe\": 0.0, \"Japan\": 0.02, \"Rest of World\": 0.0, \"Global\": 0.02}, {\"Game\": \"The Inner World: The Last Wind Monk\", \"Year\": 2017.0, \"Genre\": \"Puzzle\", \"Publisher\": \"Kalypso Media\", \"North America\": 0.02, \"Europe\": 0.0, \"Japan\": 0.0, \"Rest of World\": 0.0, \"Global\": 0.02}, {\"Game\": \"SteamWorld Collection\", \"Year\": 2016.0, \"Genre\": \"Misc\", \"Publisher\": \"Rising Star Games\", \"North America\": 0.02, \"Europe\": 0.0, \"Japan\": 0.0, \"Rest of World\": 0.0, \"Global\": 0.02}, {\"Game\": \"Konoyo no Hate de Koi o Utau Shoujo: Yu-No\", \"Year\": 2017.0, \"Genre\": \"Visual Novel\", \"Publisher\": \"5pb\", \"North America\": 0.0, \"Europe\": 0.0, \"Japan\": 0.02, \"Rest of World\": 0.0, \"Global\": 0.02}, {\"Game\": \"God Eater Off Shot: Fujiki Kota-hen Twin Pack & Animation Vol.6\", \"Year\": 2016.0, \"Genre\": \"Misc\", \"Publisher\": \"Namco Bandai Games\", \"North America\": 0.0, \"Europe\": 0.0, \"Japan\": 0.02, \"Rest of World\": 0.0, \"Global\": 0.02}, {\"Game\": \"Genkai Tokki: Castle Panzers\", \"Year\": 2017.0, \"Genre\": \"Role-Playing\", \"Publisher\": \"Compile Heart\", \"North America\": 0.0, \"Europe\": 0.0, \"Japan\": 0.02, \"Rest of World\": 0.0, \"Global\": 0.02}, {\"Game\": \"Skullgirls: 2nd Encore\", \"Year\": 2016.0, \"Genre\": \"Fighting\", \"Publisher\": \"Arc System Works\", \"North America\": 0.0, \"Europe\": 0.0, \"Japan\": 0.02, \"Rest of World\": 0.0, \"Global\": 0.02}, {\"Game\": \"This Is The Police\", \"Year\": 2017.0, \"Genre\": \"Simulation\", \"Publisher\": \"THQ Nordic\", \"North America\": 0.01, \"Europe\": 0.0, \"Japan\": 0.0, \"Rest of World\": 0.0, \"Global\": 0.02}, {\"Game\": \"Rabbids Invasion: The Interactive TV Show\", \"Year\": 2014.0, \"Genre\": \"Misc\", \"Publisher\": \"Ubisoft\", \"North America\": 0.0, \"Europe\": 0.01, \"Japan\": 0.0, \"Rest of World\": 0.0, \"Global\": 0.02}, {\"Game\": \"FlatOut 4: Total Insanity\", \"Year\": 2017.0, \"Genre\": \"Racing\", \"Publisher\": \"Bigben Interactive\", \"North America\": 0.01, \"Europe\": 0.0, \"Japan\": 0.0, \"Rest of World\": 0.0, \"Global\": 0.02}, {\"Game\": \"Chaos;Child\", \"Year\": 2015.0, \"Genre\": \"Visual Novel\", \"Publisher\": \"PQube\", \"North America\": 0.0, \"Europe\": 0.0, \"Japan\": 0.02, \"Rest of World\": 0.0, \"Global\": 0.02}, {\"Game\": \"Touhou Shinhiroku: Urban Legend in Limbo\", \"Year\": 2016.0, \"Genre\": \"Fighting\", \"Publisher\": \"Mediascape\", \"North America\": 0.0, \"Europe\": 0.0, \"Japan\": 0.02, \"Rest of World\": 0.0, \"Global\": 0.02}, {\"Game\": \"Rogue Trooper: Redux\", \"Year\": 2017.0, \"Genre\": \"Shooter\", \"Publisher\": \"Rebellion\", \"North America\": 0.01, \"Europe\": 0.0, \"Japan\": 0.0, \"Rest of World\": 0.0, \"Global\": 0.02}, {\"Game\": \"Space Hulk: Deathwing\", \"Year\": 2015.0, \"Genre\": \"Shooter\", \"Publisher\": \"Focus Home Interactive\", \"North America\": 0.0, \"Europe\": 0.01, \"Japan\": 0.0, \"Rest of World\": 0.0, \"Global\": 0.02}, {\"Game\": \"Pharaonic\", \"Year\": 2017.0, \"Genre\": \"Action\", \"Publisher\": \"Soedesco\", \"North America\": 0.01, \"Europe\": 0.0, \"Japan\": 0.0, \"Rest of World\": 0.0, \"Global\": 0.02}, {\"Game\": \"White Day\", \"Year\": 2017.0, \"Genre\": \"Action\", \"Publisher\": \"PQube\", \"North America\": 0.0, \"Europe\": 0.01, \"Japan\": 0.01, \"Rest of World\": 0.0, \"Global\": 0.02}, {\"Game\": \"Torment: Tides of Numenera\", \"Year\": 2017.0, \"Genre\": \"Role-Playing\", \"Publisher\": \"Techland\", \"North America\": 0.01, \"Europe\": 0.0, \"Japan\": 0.0, \"Rest of World\": 0.0, \"Global\": 0.01}, {\"Game\": \"Let It Die\", \"Year\": 2017.0, \"Genre\": \"Action\", \"Publisher\": \"GungHo\", \"North America\": 0.0, \"Europe\": 0.01, \"Japan\": 0.01, \"Rest of World\": 0.0, \"Global\": 0.01}, {\"Game\": \"Summer Lesson: Miyamoto Hikari Collection\", \"Year\": 2017.0, \"Genre\": \"Adventure\", \"Publisher\": \"Namco Bandai Games\", \"North America\": 0.0, \"Europe\": 0.0, \"Japan\": 0.01, \"Rest of World\": 0.0, \"Global\": 0.01}, {\"Game\": \"Raven's Cry\", \"Year\": 2015.0, \"Genre\": \"Role-Playing\", \"Publisher\": \"TopWare Interactive\", \"North America\": 0.0, \"Europe\": 0.01, \"Japan\": 0.0, \"Rest of World\": 0.0, \"Global\": 0.01}, {\"Game\": \"New Game! The Challenge Stage!\", \"Year\": 2017.0, \"Genre\": \"Adventure\", \"Publisher\": \"5pb\", \"North America\": 0.0, \"Europe\": 0.0, \"Japan\": 0.01, \"Rest of World\": 0.0, \"Global\": 0.01}, {\"Game\": \"Hakoniwa Company Works\", \"Year\": 2017.0, \"Genre\": \"Strategy\", \"Publisher\": \"Nippon Ichi Software\", \"North America\": 0.0, \"Europe\": 0.0, \"Japan\": 0.01, \"Rest of World\": 0.0, \"Global\": 0.01}, {\"Game\": \"DJ Max Respect\", \"Year\": 2017.0, \"Genre\": \"Misc\", \"Publisher\": \"Arc System Works\", \"North America\": 0.0, \"Europe\": 0.0, \"Japan\": 0.01, \"Rest of World\": 0.0, \"Global\": 0.01}, {\"Game\": \"Battle Worlds: Kronos\", \"Year\": 2016.0, \"Genre\": \"Strategy\", \"Publisher\": \"Nordic Games\", \"North America\": 0.01, \"Europe\": 0.0, \"Japan\": 0.0, \"Rest of World\": 0.0, \"Global\": 0.01}, {\"Game\": \"Dragon's Dogma Online: Season 3\", \"Year\": 2017.0, \"Genre\": \"Role-Playing\", \"Publisher\": \"Capcom\", \"North America\": 0.0, \"Europe\": 0.0, \"Japan\": 0.01, \"Rest of World\": 0.0, \"Global\": 0.01}, {\"Game\": \"Occultic;Nine\", \"Year\": 2017.0, \"Genre\": \"Adventure\", \"Publisher\": \"5pb\", \"North America\": 0.0, \"Europe\": 0.0, \"Japan\": 0.01, \"Rest of World\": 0.0, \"Global\": 0.01}, {\"Game\": \"Kono Subarashii Sekai ni Shukufuku o! Kono Yokubukai Game ni Shinpan o!\", \"Year\": 2017.0, \"Genre\": \"Adventure\", \"Publisher\": \"5pb\", \"North America\": 0.0, \"Europe\": 0.0, \"Japan\": 0.01, \"Rest of World\": 0.0, \"Global\": 0.01}, {\"Game\": \"Battle Garegga Rev.2016\", \"Year\": 2016.0, \"Genre\": \"Strategy\", \"Publisher\": \"M2\", \"North America\": 0.0, \"Europe\": 0.0, \"Japan\": 0.01, \"Rest of World\": 0.0, \"Global\": 0.01}, {\"Game\": \"Yahari Game Demo Ore no Seishun Love-Kome wa Machigatteiru. & Zoku: Oatome Set\", \"Year\": 2017.0, \"Genre\": \"Adventure\", \"Publisher\": \"5pb\", \"North America\": 0.0, \"Europe\": 0.0, \"Japan\": 0.01, \"Rest of World\": 0.0, \"Global\": 0.01}, {\"Game\": \"Farming 2017 - The Simulation\", \"Year\": 2016.0, \"Genre\": \"Simulation\", \"Publisher\": \"UIG Entertainment\", \"North America\": 0.0, \"Europe\": 0.01, \"Japan\": 0.0, \"Rest of World\": 0.0, \"Global\": 0.01}, {\"Game\": \"Re:Zero - Kara Hajimeru Isekai Seikatsu - Death or Kiss\", \"Year\": 2017.0, \"Genre\": \"Adventure\", \"Publisher\": \"5pb\", \"North America\": 0.0, \"Europe\": 0.0, \"Japan\": 0.01, \"Rest of World\": 0.0, \"Global\": 0.01}, {\"Game\": \"Zombie Vikings\", \"Year\": 2016.0, \"Genre\": \"Action\", \"Publisher\": \"Rising Star Games\", \"North America\": 0.0, \"Europe\": 0.01, \"Japan\": 0.0, \"Rest of World\": 0.0, \"Global\": 0.01}, {\"Game\": \"ATV Renegades\", \"Year\": 2017.0, \"Genre\": \"Racing\", \"Publisher\": \"Nighthawk Interactive\", \"North America\": 0.01, \"Europe\": 0.0, \"Japan\": 0.0, \"Rest of World\": 0.0, \"Global\": 0.01}, {\"Game\": \"Ziggurat\", \"Year\": 2016.0, \"Genre\": \"Shooter\", \"Publisher\": \"Soedesco\", \"North America\": 0.0, \"Europe\": 0.01, \"Japan\": 0.0, \"Rest of World\": 0.0, \"Global\": 0.01}, {\"Game\": \"Chaos;Child: Love Chu Chu!!\", \"Year\": 2017.0, \"Genre\": \"Visual Novel\", \"Publisher\": \"5pb\", \"North America\": 0.0, \"Europe\": 0.0, \"Japan\": 0.01, \"Rest of World\": 0.0, \"Global\": 0.01}, {\"Game\": \"Moto Racer 4\", \"Year\": 2016.0, \"Genre\": \"Racing\", \"Publisher\": \"PQube\", \"North America\": 0.01, \"Europe\": 0.0, \"Japan\": 0.0, \"Rest of World\": 0.0, \"Global\": 0.01}, {\"Game\": \"LocoRoco Remastered\", \"Year\": 2017.0, \"Genre\": \"Platform\", \"Publisher\": \"Sony Interactive Entertainment\", \"North America\": 0.0, \"Europe\": 0.0, \"Japan\": 0.01, \"Rest of World\": 0.0, \"Global\": 0.01}, {\"Game\": \"Lock's Quest\", \"Year\": 2017.0, \"Genre\": \"Strategy\", \"Publisher\": \"THQ Nordic\", \"North America\": 0.01, \"Europe\": 0.0, \"Japan\": 0.0, \"Rest of World\": 0.0, \"Global\": 0.01}, {\"Game\": \"Gal Gun: Double Peace\", \"Year\": 2015.0, \"Genre\": \"Action\", \"Publisher\": \"PQube\", \"North America\": 0.0, \"Europe\": 0.0, \"Japan\": 0.01, \"Rest of World\": 0.0, \"Global\": 0.01}, {\"Game\": \"Woodcutter Simulator 2016\", \"Year\": 2015.0, \"Genre\": \"Action\", \"Publisher\": \"Namco Bandai Games\", \"North America\": 0.0, \"Europe\": 0.01, \"Japan\": 0.0, \"Rest of World\": 0.0, \"Global\": 0.01}, {\"Game\": \"Akiba's Trip 2+A\", \"Year\": 2017.0, \"Genre\": \"Adventure\", \"Publisher\": \"Acquire\", \"North America\": 0.0, \"Europe\": 0.0, \"Japan\": 0.01, \"Rest of World\": 0.0, \"Global\": 0.01}, {\"Game\": \"Date-A-Live Twin Edition: Rio Reincarnation\", \"Year\": 2017.0, \"Genre\": \"Adventure\", \"Publisher\": \"Compile Heart\", \"North America\": 0.0, \"Europe\": 0.0, \"Japan\": 0.01, \"Rest of World\": 0.0, \"Global\": 0.01}, {\"Game\": \"Valhalla Hills\", \"Year\": 2017.0, \"Genre\": \"Strategy\", \"Publisher\": \"Kalypso Media\", \"North America\": 0.01, \"Europe\": 0.0, \"Japan\": 0.0, \"Rest of World\": 0.0, \"Global\": 0.01}, {\"Game\": \"Deception IV: Blood Ties\", \"Year\": 2015.0, \"Genre\": \"Action\", \"Publisher\": \"Tecmo Koei\", \"North America\": 0.0, \"Europe\": 0.0, \"Japan\": 0.01, \"Rest of World\": 0.0, \"Global\": 0.01}, {\"Game\": \"One Piece: Unlimited World Red\", \"Year\": 2017.0, \"Genre\": \"Action\", \"Publisher\": \"Namco Bandai Games\", \"North America\": 0.0, \"Europe\": 0.0, \"Japan\": 0.01, \"Rest of World\": 0.0, \"Global\": 0.01}, {\"Game\": \"Hyper Light Drifter\", \"Year\": 2017.0, \"Genre\": \"Role-Playing\", \"Publisher\": \"Active Gaming Media\", \"North America\": 0.0, \"Europe\": 0.0, \"Japan\": 0.01, \"Rest of World\": 0.0, \"Global\": 0.01}, {\"Game\": \"Teslagrad\", \"Year\": 2014.0, \"Genre\": \"Platform\", \"Publisher\": \"Rain Games\", \"North America\": 0.0, \"Europe\": 0.01, \"Japan\": 0.0, \"Rest of World\": 0.0, \"Global\": 0.01}, {\"Game\": \"Darius Burst: Chronicle Saviours\", \"Year\": 2017.0, \"Genre\": \"Action\", \"Publisher\": \"Kadokawa Games\", \"North America\": 0.0, \"Europe\": 0.0, \"Japan\": 0.01, \"Rest of World\": 0.0, \"Global\": 0.01}, {\"Game\": \"The Escapists: The Walking Dead\", \"Year\": 2016.0, \"Genre\": \"Action\", \"Publisher\": \"Team17 Software\", \"North America\": 0.0, \"Europe\": 0.0, \"Japan\": 0.0, \"Rest of World\": 0.0, \"Global\": 0.01}, {\"Game\": \"Super Meat Boy\", \"Year\": 2016.0, \"Genre\": \"Platform\", \"Publisher\": \"Team Meat\", \"North America\": 0.0, \"Europe\": 0.0, \"Japan\": 0.0, \"Rest of World\": 0.0, \"Global\": 0.01}, {\"Game\": \"Blood Bowl 2\", \"Year\": 2015.0, \"Genre\": \"Sports\", \"Publisher\": \"Focus Home Interactive\", \"North America\": 0.0, \"Europe\": 0.0, \"Japan\": 0.0, \"Rest of World\": 0.0, \"Global\": 0.0}, {\"Game\": \"The Witness\", \"Year\": 2016.0, \"Genre\": \"Misc\", \"Publisher\": \"Thekla, Inc.\", \"North America\": 0.0, \"Europe\": 0.0, \"Japan\": 0.0, \"Rest of World\": 0.0, \"Global\": 0.0}, {\"Game\": \"Quantic Dream Collection\", \"Year\": 2015.0, \"Genre\": \"Action\", \"Publisher\": \"Sony Computer Entertainment\", \"North America\": 0.0, \"Europe\": 0.0, \"Japan\": 0.0, \"Rest of World\": 0.0, \"Global\": 0.0}, {\"Game\": \"Iwaihime: Matsuri\", \"Year\": 2017.0, \"Genre\": \"Adventure\", \"Publisher\": \"Nippon Ichi Software\", \"North America\": 0.0, \"Europe\": 0.0, \"Japan\": 0.0, \"Rest of World\": 0.0, \"Global\": 0.0}, {\"Game\": \"RepKiss\", \"Year\": 2017.0, \"Genre\": \"Adventure\", \"Publisher\": \"Entergram\", \"North America\": 0.0, \"Europe\": 0.0, \"Japan\": 0.0, \"Rest of World\": 0.0, \"Global\": 0.0}, {\"Game\": \"War Thunder\", \"Year\": 2017.0, \"Genre\": \"Action\", \"Publisher\": \"DMM Games\", \"North America\": 0.0, \"Europe\": 0.0, \"Japan\": 0.0, \"Rest of World\": 0.0, \"Global\": 0.0}, {\"Game\": \"Tsuihou Senkyo\", \"Year\": 2017.0, \"Genre\": \"Adventure\", \"Publisher\": \"Nippon Ichi Software\", \"North America\": 0.0, \"Europe\": 0.0, \"Japan\": 0.0, \"Rest of World\": 0.0, \"Global\": 0.0}, {\"Game\": \"Hustle Kings VR\", \"Year\": 2016.0, \"Genre\": \"Sports\", \"Publisher\": \"Sony Interactive Entertainment\", \"North America\": 0.0, \"Europe\": 0.0, \"Japan\": 0.0, \"Rest of World\": 0.0, \"Global\": 0.0}, {\"Game\": \"Toki Tori 2+\", \"Year\": 2016.0, \"Genre\": \"Puzzle\", \"Publisher\": \"Two Tribes\", \"North America\": 0.0, \"Europe\": 0.0, \"Japan\": 0.0, \"Rest of World\": 0.0, \"Global\": 0.0}, {\"Game\": \"Deception IV: The Nightmare Princess\", \"Year\": 2015.0, \"Genre\": \"Action\", \"Publisher\": \"Tecmo Koei\", \"North America\": 0.0, \"Europe\": 0.0, \"Japan\": 0.0, \"Rest of World\": 0.0, \"Global\": 0.0}, {\"Game\": \"Kingdom Hearts HD I.5 + II.5 ReMIX\", \"Year\": 2017.0, \"Genre\": \"Action\", \"Publisher\": \"Square Enix\", \"North America\": 0.0, \"Europe\": 0.0, \"Japan\": 0.0, \"Rest of World\": 0.0, \"Global\": 0.0}, {\"Game\": \"Fushigi no Chronicle: Furikaerimasen Katsu Madewa\", \"Year\": 2015.0, \"Genre\": \"Action\", \"Publisher\": \"Spike Chunsoft\", \"North America\": 0.0, \"Europe\": 0.0, \"Japan\": 0.0, \"Rest of World\": 0.0, \"Global\": 0.0}, {\"Game\": \"Agatha Christie: The ABC Murders\", \"Year\": 2016.0, \"Genre\": \"Adventure\", \"Publisher\": \"Microids\", \"North America\": 0.0, \"Europe\": 0.0, \"Japan\": 0.0, \"Rest of World\": 0.0, \"Global\": 0.0}, {\"Game\": \"Ancients of Ooga - The Forgotten Chapters\", \"Year\": 2016.0, \"Genre\": \"Platform\", \"Publisher\": \"Koch Media\", \"North America\": 0.0, \"Europe\": 0.0, \"Japan\": 0.0, \"Rest of World\": 0.0, \"Global\": 0.0}, {\"Game\": \"Blacklight: Retribution\", \"Year\": 2013.0, \"Genre\": \"Misc\", \"Publisher\": \"Perfect World Entertainment\", \"North America\": 0.0, \"Europe\": 0.0, \"Japan\": 0.0, \"Rest of World\": 0.0, \"Global\": 0.0}, {\"Game\": \"Bladestorm: The Hundred Years' War\", \"Year\": 2015.0, \"Genre\": \"Action\", \"Publisher\": \"BioWare\", \"North America\": 0.0, \"Europe\": 0.0, \"Japan\": 0.0, \"Rest of World\": 0.0, \"Global\": 0.0}, {\"Game\": \"Brothers in Arms: Furious 4\", \"Year\": 2019.0, \"Genre\": \"Shooter\", \"Publisher\": \"Ubisoft\", \"North America\": 0.0, \"Europe\": 0.0, \"Japan\": 0.0, \"Rest of World\": 0.0, \"Global\": 0.0}, {\"Game\": \"DC Universe Online\", \"Year\": 2013.0, \"Genre\": \"MMO\", \"Publisher\": \"Sony Online Entertainment\", \"North America\": 0.0, \"Europe\": 0.0, \"Japan\": 0.0, \"Rest of World\": 0.0, \"Global\": 0.0}, {\"Game\": \"Industry Giant II\", \"Year\": 2017.0, \"Genre\": \"Strategy\", \"Publisher\": \"UIG Entertainment\", \"North America\": 0.0, \"Europe\": 0.0, \"Japan\": 0.0, \"Rest of World\": 0.0, \"Global\": 0.0}, {\"Game\": \"Kingdom Under Fire II\", \"Year\": 2014.0, \"Genre\": \"Misc\", \"Publisher\": \"Unknown\", \"North America\": 0.0, \"Europe\": 0.0, \"Japan\": 0.0, \"Rest of World\": 0.0, \"Global\": 0.0}, {\"Game\": \"Mount & Blade: Warband\", \"Year\": 2016.0, \"Genre\": \"Role-Playing\", \"Publisher\": \"Taleworlds\", \"North America\": 0.0, \"Europe\": 0.0, \"Japan\": 0.0, \"Rest of World\": 0.0, \"Global\": 0.0}, {\"Game\": \"Psychonauts\", \"Year\": 2017.0, \"Genre\": \"Action\", \"Publisher\": \"Sony Interactive Entertainment\", \"North America\": 0.0, \"Europe\": 0.0, \"Japan\": 0.0, \"Rest of World\": 0.0, \"Global\": 0.0}, {\"Game\": \"Resident Evil 5\", \"Year\": 2016.0, \"Genre\": \"Action\", \"Publisher\": \"Capcom\", \"North America\": 0.0, \"Europe\": 0.0, \"Japan\": 0.0, \"Rest of World\": 0.0, \"Global\": 0.0}, {\"Game\": \"The Amazing Spider-Man 2\", \"Year\": 2014.0, \"Genre\": \"Misc\", \"Publisher\": \"Activision\", \"North America\": 0.0, \"Europe\": 0.0, \"Japan\": 0.0, \"Rest of World\": 0.0, \"Global\": 0.0}, {\"Game\": \"Ether One\", \"Year\": 2015.0, \"Genre\": \"Adventure\", \"Publisher\": \"Soedesco\", \"North America\": 0.0, \"Europe\": 0.0, \"Japan\": 0.0, \"Rest of World\": 0.0, \"Global\": 0.0}, {\"Game\": \"Uncharted 2: Among Thieves\", \"Year\": 2016.0, \"Genre\": \"Action\", \"Publisher\": \"Sony Interactive Entertainment\", \"North America\": 0.0, \"Europe\": 0.0, \"Japan\": 0.0, \"Rest of World\": 0.0, \"Global\": 0.0}, {\"Game\": \"Uncharted 3: Drake's Deception\", \"Year\": 2016.0, \"Genre\": \"Action\", \"Publisher\": \"Sony Interactive Entertainment\", \"North America\": 0.0, \"Europe\": 0.0, \"Japan\": 0.0, \"Rest of World\": 0.0, \"Global\": 0.0}, {\"Game\": \"Uncharted: Drake's Fortune\", \"Year\": 2016.0, \"Genre\": \"Action\", \"Publisher\": \"Sony Interactive Entertainment\", \"North America\": 0.0, \"Europe\": 0.0, \"Japan\": 0.0, \"Rest of World\": 0.0, \"Global\": 0.0}, {\"Game\": \"Awesomenauts\", \"Year\": 2014.0, \"Genre\": \"Misc\", \"Publisher\": \"DTP Entertainment\", \"North America\": 0.0, \"Europe\": 0.0, \"Japan\": 0.0, \"Rest of World\": 0.0, \"Global\": 0.0}, {\"Game\": \"Broken Age\", \"Year\": 2015.0, \"Genre\": \"Adventure\", \"Publisher\": \"Nordic Games\", \"North America\": 0.0, \"Europe\": 0.0, \"Japan\": 0.0, \"Rest of World\": 0.0, \"Global\": 0.0}, {\"Game\": \"Slender: The Arrival\", \"Year\": 2015.0, \"Genre\": \"Adventure\", \"Publisher\": \"Unknown\", \"North America\": 0.0, \"Europe\": 0.0, \"Japan\": 0.0, \"Rest of World\": 0.0, \"Global\": 0.0}, {\"Game\": \"deep down (Working Title)\", \"Year\": 2020.0, \"Genre\": \"Misc\", \"Publisher\": \"Capcom\", \"North America\": 0.0, \"Europe\": 0.0, \"Japan\": 0.0, \"Rest of World\": 0.0, \"Global\": 0.0}, {\"Game\": \"Human Element\", \"Year\": 2015.0, \"Genre\": \"Misc\", \"Publisher\": \"Unknown\", \"North America\": 0.0, \"Europe\": 0.0, \"Japan\": 0.0, \"Rest of World\": 0.0, \"Global\": 0.0}, {\"Game\": \"Whore of the Orient\", \"Year\": 2020.0, \"Genre\": \"Misc\", \"Publisher\": \"Warner Bros. Interactive Entertainment\", \"North America\": 0.0, \"Europe\": 0.0, \"Japan\": 0.0, \"Rest of World\": 0.0, \"Global\": 0.0}, {\"Game\": \"Cyberpunk 2077\", \"Year\": 2018.0, \"Genre\": \"Action-Adventure\", \"Publisher\": \"CD Projekt Red Studio\", \"North America\": 0.0, \"Europe\": 0.0, \"Japan\": 0.0, \"Rest of World\": 0.0, \"Global\": 0.0}, {\"Game\": \"Final Fantasy (PS4)\", \"Year\": 2020.0, \"Genre\": \"Misc\", \"Publisher\": \"Square Enix\", \"North America\": 0.0, \"Europe\": 0.0, \"Japan\": 0.0, \"Rest of World\": 0.0, \"Global\": 0.0}, {\"Game\": \"Contrast\", \"Year\": 2013.0, \"Genre\": \"Misc\", \"Publisher\": \"Compulsion Games\", \"North America\": 0.0, \"Europe\": 0.0, \"Japan\": 0.0, \"Rest of World\": 0.0, \"Global\": 0.0}, {\"Game\": \"Carmageddon: Reincarnation\", \"Year\": 2015.0, \"Genre\": \"Misc\", \"Publisher\": \"Stainless Games\", \"North America\": 0.0, \"Europe\": 0.0, \"Japan\": 0.0, \"Rest of World\": 0.0, \"Global\": 0.0}, {\"Game\": \"Rocketbirds 2: Evolution\", \"Year\": 2020.0, \"Genre\": \"Misc\", \"Publisher\": \"Unknown\", \"North America\": 0.0, \"Europe\": 0.0, \"Japan\": 0.0, \"Rest of World\": 0.0, \"Global\": 0.0}, {\"Game\": \"Primal Carnage: Genesis\", \"Year\": 2020.0, \"Genre\": \"Misc\", \"Publisher\": \"Unknown\", \"North America\": 0.0, \"Europe\": 0.0, \"Japan\": 0.0, \"Rest of World\": 0.0, \"Global\": 0.0}, {\"Game\": \"Kingdom Hearts III\", \"Year\": 2019.0, \"Genre\": \"Role-Playing\", \"Publisher\": \"Square Enix\", \"North America\": 0.0, \"Europe\": 0.0, \"Japan\": 0.0, \"Rest of World\": 0.0, \"Global\": 0.0}, {\"Game\": \"Yaiba: Ninja Gaiden Z\", \"Year\": 2014.0, \"Genre\": \"Misc\", \"Publisher\": \"Tecmo Koei\", \"North America\": 0.0, \"Europe\": 0.0, \"Japan\": 0.0, \"Rest of World\": 0.0, \"Global\": 0.0}, {\"Game\": \"Pinball Arcade\", \"Year\": 2013.0, \"Genre\": \"Misc\", \"Publisher\": \"FarSight Studios\", \"North America\": 0.0, \"Europe\": 0.0, \"Japan\": 0.0, \"Rest of World\": 0.0, \"Global\": 0.0}, {\"Game\": \"Toukiden: The Age of Demons\", \"Year\": 2014.0, \"Genre\": \"Action\", \"Publisher\": \"Tecmo Koei\", \"North America\": 0.0, \"Europe\": 0.0, \"Japan\": 0.0, \"Rest of World\": 0.0, \"Global\": 0.0}, {\"Game\": \"Reus\", \"Year\": 2016.0, \"Genre\": \"Strategy\", \"Publisher\": \"Soedesco\", \"North America\": 0.0, \"Europe\": 0.0, \"Japan\": 0.0, \"Rest of World\": 0.0, \"Global\": 0.0}, {\"Game\": \"Strider (2014)\", \"Year\": 2014.0, \"Genre\": \"Platform\", \"Publisher\": \"Capcom\", \"North America\": 0.0, \"Europe\": 0.0, \"Japan\": 0.0, \"Rest of World\": 0.0, \"Global\": 0.0}, {\"Game\": \"EverQuest Next\", \"Year\": 2019.0, \"Genre\": \"MMO\", \"Publisher\": \"Sony Online Entertainment\", \"North America\": 0.0, \"Europe\": 0.0, \"Japan\": 0.0, \"Rest of World\": 0.0, \"Global\": 0.0}, {\"Game\": \"Velocity 2X\", \"Year\": 2014.0, \"Genre\": \"Action\", \"Publisher\": \"Futurlab 1\", \"North America\": 0.0, \"Europe\": 0.0, \"Japan\": 0.0, \"Rest of World\": 0.0, \"Global\": 0.0}, {\"Game\": \"Helldivers\", \"Year\": 2015.0, \"Genre\": \"Action\", \"Publisher\": \"Sony Computer Entertainment\", \"North America\": 0.0, \"Europe\": 0.0, \"Japan\": 0.0, \"Rest of World\": 0.0, \"Global\": 0.0}, {\"Game\": \"WonderFlick\", \"Year\": 2014.0, \"Genre\": \"Misc\", \"Publisher\": \"Level 5\", \"North America\": 0.0, \"Europe\": 0.0, \"Japan\": 0.0, \"Rest of World\": 0.0, \"Global\": 0.0}, {\"Game\": \"Monochroma\", \"Year\": 2014.0, \"Genre\": \"Misc\", \"Publisher\": \"Nowhere Studios\", \"North America\": 0.0, \"Europe\": 0.0, \"Japan\": 0.0, \"Rest of World\": 0.0, \"Global\": 0.0}, {\"Game\": \"Lily Bergamo\", \"Year\": 2014.0, \"Genre\": \"Misc\", \"Publisher\": \"GungHo\", \"North America\": 0.0, \"Europe\": 0.0, \"Japan\": 0.0, \"Rest of World\": 0.0, \"Global\": 0.0}, {\"Game\": \"Get Even\", \"Year\": 2015.0, \"Genre\": \"Misc\", \"Publisher\": \"Unknown\", \"North America\": 0.0, \"Europe\": 0.0, \"Japan\": 0.0, \"Rest of World\": 0.0, \"Global\": 0.0}, {\"Game\": \"TowerFall\", \"Year\": 2014.0, \"Genre\": \"Misc\", \"Publisher\": \"Unknown\", \"North America\": 0.0, \"Europe\": 0.0, \"Japan\": 0.0, \"Rest of World\": 0.0, \"Global\": 0.0}, {\"Game\": \"SOMA (2015)\", \"Year\": 2015.0, \"Genre\": \"Misc\", \"Publisher\": \"Frictional Games\", \"North America\": 0.0, \"Europe\": 0.0, \"Japan\": 0.0, \"Rest of World\": 0.0, \"Global\": 0.0}, {\"Game\": \"Cult County\", \"Year\": 2015.0, \"Genre\": \"Misc\", \"Publisher\": \"Renegade Kid\", \"North America\": 0.0, \"Europe\": 0.0, \"Japan\": 0.0, \"Rest of World\": 0.0, \"Global\": 0.0}, {\"Game\": \"R.B.I. Baseball 14\", \"Year\": 2014.0, \"Genre\": \"Misc\", \"Publisher\": \"MLB.com\", \"North America\": 0.0, \"Europe\": 0.0, \"Japan\": 0.0, \"Rest of World\": 0.0, \"Global\": 0.0}, {\"Game\": \"Blue Estate\\u00ca\", \"Year\": 2014.0, \"Genre\": \"Misc\", \"Publisher\": \"Focus Home Interactive\", \"North America\": 0.0, \"Europe\": 0.0, \"Japan\": 0.0, \"Rest of World\": 0.0, \"Global\": 0.0}, {\"Game\": \"Pure Pool\\u00ca\", \"Year\": 2014.0, \"Genre\": \"Misc\", \"Publisher\": \"Triniti Interactive\", \"North America\": 0.0, \"Europe\": 0.0, \"Japan\": 0.0, \"Rest of World\": 0.0, \"Global\": 0.0}, {\"Game\": \"Without Memory\", \"Year\": 2016.0, \"Genre\": \"Misc\", \"Publisher\": \"Unknown\", \"North America\": 0.0, \"Europe\": 0.0, \"Japan\": 0.0, \"Rest of World\": 0.0, \"Global\": 0.0}, {\"Game\": \"Bombshell\", \"Year\": 2014.0, \"Genre\": \"Misc\", \"Publisher\": \"3D Realms\", \"North America\": 0.0, \"Europe\": 0.0, \"Japan\": 0.0, \"Rest of World\": 0.0, \"Global\": 0.0}, {\"Game\": \"The Forest\", \"Year\": 2015.0, \"Genre\": \"Action\", \"Publisher\": \"Endnight Games Ltd\\u00ca\", \"North America\": 0.0, \"Europe\": 0.0, \"Japan\": 0.0, \"Rest of World\": 0.0, \"Global\": 0.0}, {\"Game\": \"Falling Skies: The Game\\u00ca\", \"Year\": 2015.0, \"Genre\": \"Role-Playing\", \"Publisher\": \"Little Orbit\", \"North America\": 0.0, \"Europe\": 0.0, \"Japan\": 0.0, \"Rest of World\": 0.0, \"Global\": 0.0}, {\"Game\": \"EA Sports PGA Tour\", \"Year\": 2015.0, \"Genre\": \"Sports\", \"Publisher\": \"EA Sports\", \"North America\": 0.0, \"Europe\": 0.0, \"Japan\": 0.0, \"Rest of World\": 0.0, \"Global\": 0.0}, {\"Game\": \"Dead Island 2\", \"Year\": 2017.0, \"Genre\": \"Action\", \"Publisher\": \"Deep Silver\", \"North America\": 0.0, \"Europe\": 0.0, \"Japan\": 0.0, \"Rest of World\": 0.0, \"Global\": 0.0}, {\"Game\": \"Tetris Ultimate\\u00ca\", \"Year\": 2014.0, \"Genre\": \"Puzzle\", \"Publisher\": \"Ubisoft\", \"North America\": 0.0, \"Europe\": 0.0, \"Japan\": 0.0, \"Rest of World\": 0.0, \"Global\": 0.0}, {\"Game\": \"Afro Samurai 2\", \"Year\": 2015.0, \"Genre\": \"Action\", \"Publisher\": \"Versus Evil\", \"North America\": 0.0, \"Europe\": 0.0, \"Japan\": 0.0, \"Rest of World\": 0.0, \"Global\": 0.0}, {\"Game\": \"The Legend of Korra (2014)\", \"Year\": 2014.0, \"Genre\": \"Action\", \"Publisher\": \"Activision\", \"North America\": 0.0, \"Europe\": 0.0, \"Japan\": 0.0, \"Rest of World\": 0.0, \"Global\": 0.0}, {\"Game\": \"The Vanishing of Ethan Carter\\u00ca\", \"Year\": 2015.0, \"Genre\": \"Adventure\", \"Publisher\": \"The Astronauts\", \"North America\": 0.0, \"Europe\": 0.0, \"Japan\": 0.0, \"Rest of World\": 0.0, \"Global\": 0.0}, {\"Game\": \"Godzilla (2014)\", \"Year\": 2014.0, \"Genre\": \"Action\", \"Publisher\": \"Namco Bandai Games\", \"North America\": 0.0, \"Europe\": 0.0, \"Japan\": 0.0, \"Rest of World\": 0.0, \"Global\": 0.0}, {\"Game\": \"Gran Turismo 7\", \"Year\": 2020.0, \"Genre\": \"Racing\", \"Publisher\": \"Sony Computer Entertainment\", \"North America\": 0.0, \"Europe\": 0.0, \"Japan\": 0.0, \"Rest of World\": 0.0, \"Global\": 0.0}, {\"Game\": \"Wild\", \"Year\": 2019.0, \"Genre\": \"Adventure\", \"Publisher\": \"Sony Interactive Entertainment\", \"North America\": 0.0, \"Europe\": 0.0, \"Japan\": 0.0, \"Rest of World\": 0.0, \"Global\": 0.0}, {\"Game\": \"Tadeo Jones y el manuscrito perdido\", \"Year\": 2014.0, \"Genre\": \"Adventure\", \"Publisher\": \"Deep Silver\", \"North America\": 0.0, \"Europe\": 0.0, \"Japan\": 0.0, \"Rest of World\": 0.0, \"Global\": 0.0}, {\"Game\": \"OlliOlli 2: Welcome to Olliwood\", \"Year\": 2016.0, \"Genre\": \"Sports\", \"Publisher\": \"PQube\", \"North America\": 0.0, \"Europe\": 0.0, \"Japan\": 0.0, \"Rest of World\": 0.0, \"Global\": 0.0}, {\"Game\": \"Pathologic\", \"Year\": 2015.0, \"Genre\": \"Adventure\", \"Publisher\": \"Ice-pick Lodge\", \"North America\": 0.0, \"Europe\": 0.0, \"Japan\": 0.0, \"Rest of World\": 0.0, \"Global\": 0.0}, {\"Game\": \"Rebel Galaxy\", \"Year\": 2015.0, \"Genre\": \"Role-Playing\", \"Publisher\": \"Double Damage Games\", \"North America\": 0.0, \"Europe\": 0.0, \"Japan\": 0.0, \"Rest of World\": 0.0, \"Global\": 0.0}, {\"Game\": \"Assassin's Creed: Victory\", \"Year\": 2015.0, \"Genre\": \"Action\", \"Publisher\": \"Ubisoft\", \"North America\": 0.0, \"Europe\": 0.0, \"Japan\": 0.0, \"Rest of World\": 0.0, \"Global\": 0.0}, {\"Game\": \"Silent Hills\", \"Year\": 2020.0, \"Genre\": \"Action\", \"Publisher\": \"Konami Digital Entertainment\", \"North America\": 0.0, \"Europe\": 0.0, \"Japan\": 0.0, \"Rest of World\": 0.0, \"Global\": 0.0}, {\"Game\": \"Overlord: Fellowship of Evil\", \"Year\": 2015.0, \"Genre\": \"Action\", \"Publisher\": \"Codemasters\", \"North America\": 0.0, \"Europe\": 0.0, \"Japan\": 0.0, \"Rest of World\": 0.0, \"Global\": 0.0}, {\"Game\": \"R.B.I. Baseball 15\", \"Year\": 2015.0, \"Genre\": \"Sports\", \"Publisher\": \"MLB.com\", \"North America\": 0.0, \"Europe\": 0.0, \"Japan\": 0.0, \"Rest of World\": 0.0, \"Global\": 0.0}, {\"Game\": \"Wander\", \"Year\": 2015.0, \"Genre\": \"Role-Playing\", \"Publisher\": \"Wander MMO\", \"North America\": 0.0, \"Europe\": 0.0, \"Japan\": 0.0, \"Rest of World\": 0.0, \"Global\": 0.0}, {\"Game\": \"Final Fantasy VII Remake\", \"Year\": 2019.0, \"Genre\": \"Role-Playing\", \"Publisher\": \"Square Enix\", \"North America\": 0.0, \"Europe\": 0.0, \"Japan\": 0.0, \"Rest of World\": 0.0, \"Global\": 0.0}, {\"Game\": \"Ikenie to Yuki no Setsuna\", \"Year\": 2016.0, \"Genre\": \"Role-Playing\", \"Publisher\": \"Square Enix\", \"North America\": 0.0, \"Europe\": 0.0, \"Japan\": 0.0, \"Rest of World\": 0.0, \"Global\": 0.0}, {\"Game\": \"Atelier Sophie\", \"Year\": 2020.0, \"Genre\": \"Role-Playing\", \"Publisher\": \"Gust\", \"North America\": 0.0, \"Europe\": 0.0, \"Japan\": 0.0, \"Rest of World\": 0.0, \"Global\": 0.0}, {\"Game\": \"Dengeki Bunko: Fighting Climax Ignition\", \"Year\": 2015.0, \"Genre\": \"Action\", \"Publisher\": \"Sega\", \"North America\": 0.0, \"Europe\": 0.0, \"Japan\": 0.0, \"Rest of World\": 0.0, \"Global\": 0.0}, {\"Game\": \"World Soccer Winning Eleven 2015\", \"Year\": 2015.0, \"Genre\": \"Action\", \"Publisher\": \"Konami Digital Entertainment\", \"North America\": 0.0, \"Europe\": 0.0, \"Japan\": 0.0, \"Rest of World\": 0.0, \"Global\": 0.0}, {\"Game\": \"Cross Reverie\", \"Year\": 2017.0, \"Genre\": \"Role-Playing\", \"Publisher\": \"Sinxsoft\", \"North America\": 0.0, \"Europe\": 0.0, \"Japan\": 0.0, \"Rest of World\": 0.0, \"Global\": 0.0}, {\"Game\": \"Airship Q\", \"Year\": 2019.0, \"Genre\": \"Platform\", \"Publisher\": \"Cygames\", \"North America\": 0.0, \"Europe\": 0.0, \"Japan\": 0.0, \"Rest of World\": 0.0, \"Global\": 0.0}, {\"Game\": \"Killing Bites\", \"Year\": 2016.0, \"Genre\": \"Action\", \"Publisher\": \"Unknown\", \"North America\": 0.0, \"Europe\": 0.0, \"Japan\": 0.0, \"Rest of World\": 0.0, \"Global\": 0.0}, {\"Game\": \"Tiny Troopers Joint Ops\", \"Year\": 2014.0, \"Genre\": \"Action\", \"Publisher\": \"Unknown\", \"North America\": 0.0, \"Europe\": 0.0, \"Japan\": 0.0, \"Rest of World\": 0.0, \"Global\": 0.0}, {\"Game\": \"The London Heist\", \"Year\": 2016.0, \"Genre\": \"Shooter\", \"Publisher\": \"Sony Computer Entertainment\", \"North America\": 0.0, \"Europe\": 0.0, \"Japan\": 0.0, \"Rest of World\": 0.0, \"Global\": 0.0}, {\"Game\": \"Risen 3 Enhanced Edition\", \"Year\": 2015.0, \"Genre\": \"Role-Playing\", \"Publisher\": \"Deep Silver\", \"North America\": 0.0, \"Europe\": 0.0, \"Japan\": 0.0, \"Rest of World\": 0.0, \"Global\": 0.0}, {\"Game\": \"Air Conflicts: Pacific Carriers\", \"Year\": 2015.0, \"Genre\": \"Simulation\", \"Publisher\": \"Kalypso Media\", \"North America\": 0.0, \"Europe\": 0.0, \"Japan\": 0.0, \"Rest of World\": 0.0, \"Global\": 0.0}, {\"Game\": \"God Wars: Beyond Time\", \"Year\": 2016.0, \"Genre\": \"Role-Playing\", \"Publisher\": \"Kadokawa Games\", \"North America\": 0.0, \"Europe\": 0.0, \"Japan\": 0.0, \"Rest of World\": 0.0, \"Global\": 0.0}, {\"Game\": \"Hasbro Family Fun Pack\", \"Year\": 2015.0, \"Genre\": \"Misc\", \"Publisher\": \"Ubisoft\", \"North America\": 0.0, \"Europe\": 0.0, \"Japan\": 0.0, \"Rest of World\": 0.0, \"Global\": 0.0}, {\"Game\": \"Professional Lumberjack 2016\", \"Year\": 2015.0, \"Genre\": \"Simulation\", \"Publisher\": \"Namco Bandai Games\", \"North America\": 0.0, \"Europe\": 0.0, \"Japan\": 0.0, \"Rest of World\": 0.0, \"Global\": 0.0}, {\"Game\": \"Alekhine's Gun\", \"Year\": 2016.0, \"Genre\": \"Action\", \"Publisher\": \"Maximum Games\", \"North America\": 0.0, \"Europe\": 0.0, \"Japan\": 0.0, \"Rest of World\": 0.0, \"Global\": 0.0}, {\"Game\": \"Kung Fu Panda: Showdown of Legendary Legends\", \"Year\": 2015.0, \"Genre\": \"Action\", \"Publisher\": \"Little Orbit\", \"North America\": 0.0, \"Europe\": 0.0, \"Japan\": 0.0, \"Rest of World\": 0.0, \"Global\": 0.0}, {\"Game\": \"Bloodborne: Complete Edition\", \"Year\": 2015.0, \"Genre\": \"Role-Playing\", \"Publisher\": \"Sony Computer Entertainment\", \"North America\": 0.0, \"Europe\": 0.0, \"Japan\": 0.0, \"Rest of World\": 0.0, \"Global\": 0.0}, {\"Game\": \"World to the West\", \"Year\": 2017.0, \"Genre\": \"Action-Adventure\", \"Publisher\": \"Soedesco\", \"North America\": 0.0, \"Europe\": 0.0, \"Japan\": 0.0, \"Rest of World\": 0.0, \"Global\": 0.0}, {\"Game\": \"Days Gone\", \"Year\": 2019.0, \"Genre\": \"Action-Adventure\", \"Publisher\": \"Sony Interactive Entertainment\", \"North America\": 0.0, \"Europe\": 0.0, \"Japan\": 0.0, \"Rest of World\": 0.0, \"Global\": 0.0}, {\"Game\": \"Berserk Musou\", \"Year\": 2016.0, \"Genre\": \"Action\", \"Publisher\": \"Tecmo Koei\", \"North America\": 0.0, \"Europe\": 0.0, \"Japan\": 0.0, \"Rest of World\": 0.0, \"Global\": 0.0}, {\"Game\": \"Ginger: Beyond the Crystal\", \"Year\": 2016.0, \"Genre\": \"Platform\", \"Publisher\": \"PQube\", \"North America\": 0.0, \"Europe\": 0.0, \"Japan\": 0.0, \"Rest of World\": 0.0, \"Global\": 0.0}, {\"Game\": \"The Last of Us: Part II\", \"Year\": 2019.0, \"Genre\": \"Action\", \"Publisher\": \"Sony Interactive Entertainment\", \"North America\": 0.0, \"Europe\": 0.0, \"Japan\": 0.0, \"Rest of World\": 0.0, \"Global\": 0.0}, {\"Game\": \"Don Bradman Cricket 17\", \"Year\": 2016.0, \"Genre\": \"Sports\", \"Publisher\": \"Tru Blu Entertainment\", \"North America\": 0.0, \"Europe\": 0.0, \"Japan\": 0.0, \"Rest of World\": 0.0, \"Global\": 0.0}, {\"Game\": \"Ace Combat 7: Skies Unknown\", \"Year\": 2019.0, \"Genre\": \"Shooter\", \"Publisher\": \"Bandai Namco Games\", \"North America\": 0.0, \"Europe\": 0.0, \"Japan\": 0.0, \"Rest of World\": 0.0, \"Global\": 0.0}, {\"Game\": \"Metro Exodus\", \"Year\": 2019.0, \"Genre\": \"Shooter\", \"Publisher\": \"Deep Silver\", \"North America\": 0.0, \"Europe\": 0.0, \"Japan\": 0.0, \"Rest of World\": 0.0, \"Global\": 0.0}, {\"Game\": \"Anthem\", \"Year\": 2019.0, \"Genre\": \"Role-Playing\", \"Publisher\": \"Electronic Arts\", \"North America\": 0.0, \"Europe\": 0.0, \"Japan\": 0.0, \"Rest of World\": 0.0, \"Global\": 0.0}, {\"Game\": \"Moons Of Madness\", \"Year\": 2017.0, \"Genre\": \"Role-Playing\", \"Publisher\": \"Unknown\", \"North America\": 0.0, \"Europe\": 0.0, \"Japan\": 0.0, \"Rest of World\": 0.0, \"Global\": 0.0}, {\"Game\": \"Iron Harvest\", \"Year\": 2018.0, \"Genre\": \"Strategy\", \"Publisher\": \"Unknown\", \"North America\": 0.0, \"Europe\": 0.0, \"Japan\": 0.0, \"Rest of World\": 0.0, \"Global\": 0.0}, {\"Game\": \"Biomutant\", \"Year\": 2018.0, \"Genre\": \"Action\", \"Publisher\": \"THQ Nordic\", \"North America\": 0.0, \"Europe\": 0.0, \"Japan\": 0.0, \"Rest of World\": 0.0, \"Global\": 0.0}, {\"Game\": \"Biomutant\", \"Year\": 2019.0, \"Genre\": \"Action\", \"Publisher\": \"THQ Nordic\", \"North America\": 0.0, \"Europe\": 0.0, \"Japan\": 0.0, \"Rest of World\": 0.0, \"Global\": 0.0}, {\"Game\": \"de Blob\", \"Year\": 2017.0, \"Genre\": \"Platform\", \"Publisher\": \"THQ Nordic\", \"North America\": 0.0, \"Europe\": 0.0, \"Japan\": 0.0, \"Rest of World\": 0.0, \"Global\": 0.0}, {\"Game\": \"Chaos on Deponia\", \"Year\": 2017.0, \"Genre\": \"Adventure\", \"Publisher\": \"Daedalic Entertainment\", \"North America\": 0.0, \"Europe\": 0.0, \"Japan\": 0.0, \"Rest of World\": 0.0, \"Global\": 0.0}, {\"Game\": \"Code Vein\", \"Year\": 2018.0, \"Genre\": \"Action\", \"Publisher\": \"Bandai Namco Entertainment\", \"North America\": 0.0, \"Europe\": 0.0, \"Japan\": 0.0, \"Rest of World\": 0.0, \"Global\": 0.0}, {\"Game\": \"Radial G Racing Revolved\", \"Year\": 2017.0, \"Genre\": \"Racing\", \"Publisher\": \"Tammeka Games\", \"North America\": 0.0, \"Europe\": 0.0, \"Japan\": 0.0, \"Rest of World\": 0.0, \"Global\": 0.0}]}}, {\"mode\": \"vega-lite\"});\n",
       "</script>"
      ],
      "text/plain": [
       "alt.Chart(...)"
      ]
     },
     "execution_count": 6,
     "metadata": {},
     "output_type": "execute_result"
    }
   ],
   "source": [
    "alt.Chart(df).mark_bar().encode(\n",
    "    x=\"Genre\",\n",
    "    y=\"Global\",\n",
    "    color=alt.Color(\"Genre\", title=\"Genre type\"),\n",
    ").properties(\n",
    "    title=\"Global sales of each genre\",\n",
    "    width=1000,\n",
    "    height=200,\n",
    ")\n"
   ]
  },
  {
   "cell_type": "markdown",
   "metadata": {
    "cell_id": "f2da9878-3235-4dd1-8a2a-d45c778f326b",
    "deepnote_cell_height": 74,
    "deepnote_cell_type": "markdown",
    "tags": []
   },
   "source": [
    "How many games are more welcomed in North America than Europe? (345 games are more welcomed in North America while 480 games are more welcomed in Europe)"
   ]
  },
  {
   "cell_type": "code",
   "execution_count": null,
   "metadata": {
    "cell_id": "aa9b239d-a387-4ff0-9025-cf8f8e7e4f5d",
    "deepnote_cell_height": 156,
    "deepnote_cell_type": "code",
    "deepnote_output_heights": [
     59
    ],
    "deepnote_to_be_reexecuted": false,
    "execution_millis": 10,
    "execution_start": 1647254998217,
    "source_hash": "7d773902",
    "tags": []
   },
   "outputs": [
    {
     "data": {
      "text/plain": [
       "False    480\n",
       "True     345\n",
       "dtype: int64"
      ]
     },
     "execution_count": 7,
     "metadata": {},
     "output_type": "execute_result"
    }
   ],
   "source": [
    "(df.loc[:,\"North America\"] > df.loc[:,\"Europe\"]).value_counts()"
   ]
  },
  {
   "cell_type": "markdown",
   "metadata": {
    "cell_id": "f88b061f-de20-4f31-9b73-7ec27a31d81e",
    "deepnote_cell_height": 52,
    "deepnote_cell_type": "markdown",
    "tags": []
   },
   "source": [
    "Find the most frequent genre of the dataset. The most frequent genre is \"Action\""
   ]
  },
  {
   "cell_type": "code",
   "execution_count": null,
   "metadata": {
    "cell_id": "a1269158-9f8f-41b6-a4cf-448148eac9a4",
    "deepnote_cell_height": 118,
    "deepnote_cell_type": "code",
    "deepnote_output_heights": [
     21
    ],
    "deepnote_to_be_reexecuted": false,
    "execution_millis": 9,
    "execution_start": 1647254998224,
    "source_hash": "c517b8a4",
    "tags": []
   },
   "outputs": [
    {
     "data": {
      "text/plain": [
       "'Action'"
      ]
     },
     "execution_count": 8,
     "metadata": {},
     "output_type": "execute_result"
    }
   ],
   "source": [
    "df['Genre'].value_counts().idxmax()"
   ]
  },
  {
   "cell_type": "markdown",
   "metadata": {
    "cell_id": "c4dd6bbd-1016-4109-8e3b-1f238c6c41f7",
    "deepnote_cell_height": 52,
    "deepnote_cell_type": "markdown",
    "tags": []
   },
   "source": [
    "Global total sales of each genre. (The genre with the most global sales is \"Action\".)"
   ]
  },
  {
   "cell_type": "code",
   "execution_count": null,
   "metadata": {
    "cell_id": "37b4c84d-8ca0-49e5-9e3d-939c3182930e",
    "deepnote_cell_height": 478,
    "deepnote_cell_type": "code",
    "deepnote_output_heights": [
     363
    ],
    "deepnote_table_loading": false,
    "deepnote_table_state": {
     "filters": [],
     "pageIndex": 1,
     "pageSize": 10,
     "sortBy": []
    },
    "deepnote_to_be_reexecuted": false,
    "execution_millis": 11,
    "execution_start": 1647254998244,
    "source_hash": "e06f2481",
    "tags": []
   },
   "outputs": [
    {
     "data": {
      "text/plain": [
       "Genre\n",
       "Action              136.82\n",
       "Action-Adventure     61.86\n",
       "Adventure            15.22\n",
       "Fighting             19.36\n",
       "MMO                   3.52\n",
       "Misc                 12.47\n",
       "Music                 5.03\n",
       "Party                 0.65\n",
       "Platform             17.85\n",
       "Puzzle                0.52\n",
       "Racing               25.29\n",
       "Role-Playing         62.73\n",
       "Shooter             134.99\n",
       "Simulation            4.52\n",
       "Sports               92.85\n",
       "Strategy              1.28\n",
       "Visual Novel          0.46\n",
       "Name: Global, dtype: float64"
      ]
     },
     "execution_count": 9,
     "metadata": {},
     "output_type": "execute_result"
    }
   ],
   "source": [
    "A=df.groupby(['Genre']).sum().Global\n",
    "A"
   ]
  },
  {
   "cell_type": "markdown",
   "metadata": {
    "cell_id": "6bd4ceda-3635-4d15-a0c4-1b3a1343a520",
    "deepnote_cell_height": 52,
    "deepnote_cell_type": "markdown",
    "tags": []
   },
   "source": [
    "Global average sales of each genre. (The genre with highest global average sales is Shooter)"
   ]
  },
  {
   "cell_type": "code",
   "execution_count": null,
   "metadata": {
    "cell_id": "98c71b11-5e2f-4658-bf93-e0da362130fe",
    "deepnote_cell_height": 478,
    "deepnote_cell_type": "code",
    "deepnote_output_heights": [
     363
    ],
    "deepnote_to_be_reexecuted": false,
    "execution_millis": 10,
    "execution_start": 1647254998260,
    "source_hash": "900212c",
    "tags": []
   },
   "outputs": [
    {
     "data": {
      "text/plain": [
       "Genre\n",
       "Action              0.667415\n",
       "Action-Adventure    1.627895\n",
       "Adventure           0.214366\n",
       "Fighting            0.605000\n",
       "MMO                 0.440000\n",
       "Misc                0.226727\n",
       "Music               0.279444\n",
       "Party               0.325000\n",
       "Platform            0.540909\n",
       "Puzzle              0.052000\n",
       "Racing              0.526875\n",
       "Role-Playing        0.586262\n",
       "Shooter             1.799867\n",
       "Simulation          0.215238\n",
       "Sports              1.345652\n",
       "Strategy            0.051200\n",
       "Visual Novel        0.057500\n",
       "Name: Global, dtype: float64"
      ]
     },
     "execution_count": 10,
     "metadata": {},
     "output_type": "execute_result"
    }
   ],
   "source": [
    "B=df.groupby(['Genre']).mean().Global\n",
    "B"
   ]
  },
  {
   "cell_type": "markdown",
   "metadata": {
    "cell_id": "0fae8db3-b86c-471a-9296-f6b682979092",
    "deepnote_cell_height": 110,
    "deepnote_cell_type": "markdown",
    "tags": []
   },
   "source": [
    "## Predict genre  from sales of the game from each region of the world"
   ]
  },
  {
   "cell_type": "markdown",
   "metadata": {
    "cell_id": "0955afc3-b7ef-4617-af38-3f751e2176ca",
    "deepnote_cell_height": 96,
    "deepnote_cell_type": "markdown",
    "tags": []
   },
   "source": [
    "In this case, I am using KNeighborsClassifier to predict genre since it is a classification problem. And the reason that I choose n_neighbors=3 is because I find out that the predcition accuracy will become higher when the value of n_neighbors is a small value."
   ]
  },
  {
   "cell_type": "code",
   "execution_count": null,
   "metadata": {
    "cell_id": "0b65e835-34fe-4cc8-b233-e128e2f9d662",
    "deepnote_cell_height": 226,
    "deepnote_cell_type": "code",
    "deepnote_output_heights": [
     21
    ],
    "deepnote_to_be_reexecuted": false,
    "execution_millis": 369,
    "execution_start": 1647254998279,
    "source_hash": "91460089",
    "tags": []
   },
   "outputs": [
    {
     "data": {
      "text/plain": [
       "KNeighborsClassifier(n_neighbors=3)"
      ]
     },
     "execution_count": 11,
     "metadata": {},
     "output_type": "execute_result"
    }
   ],
   "source": [
    "from sklearn.neighbors import KNeighborsClassifier\n",
    "from sklearn.model_selection import train_test_split\n",
    "clf = KNeighborsClassifier(n_neighbors=3)\n",
    "X=df[['North America','Europe','Japan','Rest of World']].copy()\n",
    "y=df['Genre']\n",
    "clf.fit(X,y)\n"
   ]
  },
  {
   "cell_type": "markdown",
   "metadata": {
    "cell_id": "94b0f354-85e2-4afa-b49c-aae258f969ae",
    "deepnote_cell_height": 52,
    "deepnote_cell_type": "markdown",
    "tags": []
   },
   "source": [
    "On the \"pred\" column, it shows the result of the prediction of the genre using KNeighborsClassifier"
   ]
  },
  {
   "cell_type": "code",
   "execution_count": null,
   "metadata": {
    "cell_id": "3c0c1d80-2cf5-4d6e-81b9-91fb3c326ecc",
    "deepnote_cell_height": 411,
    "deepnote_cell_type": "code",
    "deepnote_to_be_reexecuted": false,
    "execution_millis": 46,
    "execution_start": 1647254998648,
    "source_hash": "df953562",
    "tags": []
   },
   "outputs": [
    {
     "data": {
      "application/vnd.deepnote.dataframe.v3+json": {
       "column_count": 5,
       "columns": [
        {
         "dtype": "float64",
         "name": "North America",
         "stats": {
          "histogram": [
           {
            "bin_end": 1.7610000000000001,
            "bin_start": 1.27,
            "count": 1
           },
           {
            "bin_end": 2.252,
            "bin_start": 1.7610000000000001,
            "count": 0
           },
           {
            "bin_end": 2.743,
            "bin_start": 2.252,
            "count": 0
           },
           {
            "bin_end": 3.234,
            "bin_start": 2.743,
            "count": 0
           },
           {
            "bin_end": 3.725,
            "bin_start": 3.234,
            "count": 0
           },
           {
            "bin_end": 4.215999999999999,
            "bin_start": 3.725,
            "count": 0
           },
           {
            "bin_end": 4.707,
            "bin_start": 4.215999999999999,
            "count": 1
           },
           {
            "bin_end": 5.198,
            "bin_start": 4.707,
            "count": 0
           },
           {
            "bin_end": 5.689,
            "bin_start": 5.198,
            "count": 1
           },
           {
            "bin_end": 6.18,
            "bin_start": 5.689,
            "count": 2
           }
          ],
          "max": "6.18",
          "min": "1.27",
          "nan_count": 0,
          "unique_count": 5
         }
        },
        {
         "dtype": "float64",
         "name": "Europe",
         "stats": {
          "histogram": [
           {
            "bin_end": 6.416,
            "bin_start": 6.05,
            "count": 3
           },
           {
            "bin_end": 6.782,
            "bin_start": 6.416,
            "count": 0
           },
           {
            "bin_end": 7.148,
            "bin_start": 6.782,
            "count": 0
           },
           {
            "bin_end": 7.514,
            "bin_start": 7.148,
            "count": 0
           },
           {
            "bin_end": 7.880000000000001,
            "bin_start": 7.514,
            "count": 0
           },
           {
            "bin_end": 8.246,
            "bin_start": 7.880000000000001,
            "count": 0
           },
           {
            "bin_end": 8.612,
            "bin_start": 8.246,
            "count": 0
           },
           {
            "bin_end": 8.978000000000002,
            "bin_start": 8.612,
            "count": 1
           },
           {
            "bin_end": 9.344000000000001,
            "bin_start": 8.978000000000002,
            "count": 0
           },
           {
            "bin_end": 9.71,
            "bin_start": 9.344000000000001,
            "count": 1
           }
          ],
          "max": "9.71",
          "min": "6.05",
          "nan_count": 0,
          "unique_count": 4
         }
        },
        {
         "dtype": "float64",
         "name": "Japan",
         "stats": {
          "histogram": [
           {
            "bin_end": 0.195,
            "bin_start": 0.15,
            "count": 1
           },
           {
            "bin_end": 0.24,
            "bin_start": 0.195,
            "count": 1
           },
           {
            "bin_end": 0.28500000000000003,
            "bin_start": 0.24,
            "count": 0
           },
           {
            "bin_end": 0.32999999999999996,
            "bin_start": 0.28500000000000003,
            "count": 0
           },
           {
            "bin_end": 0.375,
            "bin_start": 0.32999999999999996,
            "count": 0
           },
           {
            "bin_end": 0.42000000000000004,
            "bin_start": 0.375,
            "count": 2
           },
           {
            "bin_end": 0.46499999999999997,
            "bin_start": 0.42000000000000004,
            "count": 0
           },
           {
            "bin_end": 0.51,
            "bin_start": 0.46499999999999997,
            "count": 0
           },
           {
            "bin_end": 0.5549999999999999,
            "bin_start": 0.51,
            "count": 0
           },
           {
            "bin_end": 0.6,
            "bin_start": 0.5549999999999999,
            "count": 1
           }
          ],
          "max": "0.6",
          "min": "0.15",
          "nan_count": 0,
          "unique_count": 5
         }
        },
        {
         "dtype": "float64",
         "name": "Rest of World",
         "stats": {
          "histogram": [
           {
            "bin_end": 1.859,
            "bin_start": 1.73,
            "count": 1
           },
           {
            "bin_end": 1.988,
            "bin_start": 1.859,
            "count": 0
           },
           {
            "bin_end": 2.117,
            "bin_start": 1.988,
            "count": 0
           },
           {
            "bin_end": 2.246,
            "bin_start": 2.117,
            "count": 1
           },
           {
            "bin_end": 2.375,
            "bin_start": 2.246,
            "count": 1
           },
           {
            "bin_end": 2.504,
            "bin_start": 2.375,
            "count": 1
           },
           {
            "bin_end": 2.633,
            "bin_start": 2.504,
            "count": 0
           },
           {
            "bin_end": 2.762,
            "bin_start": 2.633,
            "count": 0
           },
           {
            "bin_end": 2.891,
            "bin_start": 2.762,
            "count": 0
           },
           {
            "bin_end": 3.02,
            "bin_start": 2.891,
            "count": 1
           }
          ],
          "max": "3.02",
          "min": "1.73",
          "nan_count": 0,
          "unique_count": 5
         }
        },
        {
         "dtype": "object",
         "name": "pred",
         "stats": {
          "categories": [
           {
            "count": 3,
            "name": "Shooter"
           },
           {
            "count": 1,
            "name": "Action"
           },
           {
            "count": 1,
            "name": "Sports"
           }
          ],
          "nan_count": 0,
          "unique_count": 3
         }
        },
        {
         "dtype": "int64",
         "name": "_deepnote_index_column"
        }
       ],
       "row_count": 5,
       "rows": [
        {
         "Europe": 9.71,
         "Japan": 0.6,
         "North America": 6.06,
         "Rest of World": 3.02,
         "_deepnote_index_column": 0,
         "pred": "Action"
        },
        {
         "Europe": 6.05,
         "Japan": 0.41,
         "North America": 6.18,
         "Rest of World": 2.44,
         "_deepnote_index_column": 1,
         "pred": "Shooter"
        },
        {
         "Europe": 6.21,
         "Japan": 0.21,
         "North America": 5.26,
         "Rest of World": 2.26,
         "_deepnote_index_column": 2,
         "pred": "Shooter"
        },
        {
         "Europe": 6.21,
         "Japan": 0.4,
         "North America": 4.67,
         "Rest of World": 2.12,
         "_deepnote_index_column": 3,
         "pred": "Shooter"
        },
        {
         "Europe": 8.64,
         "Japan": 0.15,
         "North America": 1.27,
         "Rest of World": 1.73,
         "_deepnote_index_column": 4,
         "pred": "Sports"
        }
       ]
      },
      "text/html": [
       "<div>\n",
       "<style scoped>\n",
       "    .dataframe tbody tr th:only-of-type {\n",
       "        vertical-align: middle;\n",
       "    }\n",
       "\n",
       "    .dataframe tbody tr th {\n",
       "        vertical-align: top;\n",
       "    }\n",
       "\n",
       "    .dataframe thead th {\n",
       "        text-align: right;\n",
       "    }\n",
       "</style>\n",
       "<table border=\"1\" class=\"dataframe\">\n",
       "  <thead>\n",
       "    <tr style=\"text-align: right;\">\n",
       "      <th></th>\n",
       "      <th>North America</th>\n",
       "      <th>Europe</th>\n",
       "      <th>Japan</th>\n",
       "      <th>Rest of World</th>\n",
       "      <th>pred</th>\n",
       "    </tr>\n",
       "  </thead>\n",
       "  <tbody>\n",
       "    <tr>\n",
       "      <th>0</th>\n",
       "      <td>6.06</td>\n",
       "      <td>9.71</td>\n",
       "      <td>0.60</td>\n",
       "      <td>3.02</td>\n",
       "      <td>Action</td>\n",
       "    </tr>\n",
       "    <tr>\n",
       "      <th>1</th>\n",
       "      <td>6.18</td>\n",
       "      <td>6.05</td>\n",
       "      <td>0.41</td>\n",
       "      <td>2.44</td>\n",
       "      <td>Shooter</td>\n",
       "    </tr>\n",
       "    <tr>\n",
       "      <th>2</th>\n",
       "      <td>5.26</td>\n",
       "      <td>6.21</td>\n",
       "      <td>0.21</td>\n",
       "      <td>2.26</td>\n",
       "      <td>Shooter</td>\n",
       "    </tr>\n",
       "    <tr>\n",
       "      <th>3</th>\n",
       "      <td>4.67</td>\n",
       "      <td>6.21</td>\n",
       "      <td>0.40</td>\n",
       "      <td>2.12</td>\n",
       "      <td>Shooter</td>\n",
       "    </tr>\n",
       "    <tr>\n",
       "      <th>4</th>\n",
       "      <td>1.27</td>\n",
       "      <td>8.64</td>\n",
       "      <td>0.15</td>\n",
       "      <td>1.73</td>\n",
       "      <td>Sports</td>\n",
       "    </tr>\n",
       "  </tbody>\n",
       "</table>\n",
       "</div>"
      ],
      "text/plain": [
       "   North America  Europe  Japan  Rest of World     pred\n",
       "0           6.06    9.71   0.60           3.02   Action\n",
       "1           6.18    6.05   0.41           2.44  Shooter\n",
       "2           5.26    6.21   0.21           2.26  Shooter\n",
       "3           4.67    6.21   0.40           2.12  Shooter\n",
       "4           1.27    8.64   0.15           1.73   Sports"
      ]
     },
     "execution_count": 12,
     "metadata": {},
     "output_type": "execute_result"
    }
   ],
   "source": [
    "X[\"pred\"] = clf.predict(X)\n",
    "X.head()"
   ]
  },
  {
   "cell_type": "markdown",
   "metadata": {
    "cell_id": "cc37e9a2-e036-4926-9ecc-503b1982863b",
    "deepnote_cell_height": 52,
    "deepnote_cell_type": "markdown",
    "tags": []
   },
   "source": [
    "Find the correctness rate of the prediction. However, the result shows that it is not a good estimation."
   ]
  },
  {
   "cell_type": "code",
   "execution_count": null,
   "metadata": {
    "cell_id": "4ac8b7cf-6fac-4edb-85d7-cb167df46c88",
    "deepnote_cell_height": 118,
    "deepnote_cell_type": "code",
    "deepnote_output_heights": [
     21
    ],
    "deepnote_to_be_reexecuted": false,
    "execution_millis": 9,
    "execution_start": 1647254998695,
    "source_hash": "c054c97e",
    "tags": []
   },
   "outputs": [
    {
     "data": {
      "text/plain": [
       "0.42424242424242425"
      ]
     },
     "execution_count": 13,
     "metadata": {},
     "output_type": "execute_result"
    }
   ],
   "source": [
    "np.count_nonzero(X['pred'] == df['Genre'])/825"
   ]
  },
  {
   "cell_type": "markdown",
   "metadata": {
    "cell_id": "704a6170-c252-427f-99f3-7ec2d21a2bd4",
    "deepnote_cell_height": 52,
    "deepnote_cell_type": "markdown",
    "tags": []
   },
   "source": [
    "I want to test in this case, is it over-fitting or under-fitting?"
   ]
  },
  {
   "cell_type": "code",
   "execution_count": null,
   "metadata": {
    "cell_id": "2bdad915-1b9e-406b-97c4-0fad1cec4950",
    "deepnote_cell_height": 99,
    "deepnote_cell_type": "code",
    "deepnote_to_be_reexecuted": false,
    "execution_millis": 0,
    "execution_start": 1647254998703,
    "source_hash": "d57629ba",
    "tags": []
   },
   "outputs": [],
   "source": [
    "del X[\"pred\"]\n",
    "X_train, X_test, y_train, y_test = train_test_split(X,y, test_size=0.2)"
   ]
  },
  {
   "cell_type": "code",
   "execution_count": null,
   "metadata": {
    "cell_id": "869b3d0d-a015-42d8-bc51-fff6b45c7eba",
    "deepnote_cell_height": 118,
    "deepnote_cell_type": "code",
    "deepnote_output_heights": [
     21
    ],
    "deepnote_to_be_reexecuted": false,
    "execution_millis": 18,
    "execution_start": 1647254998714,
    "source_hash": "97f2d225",
    "tags": []
   },
   "outputs": [
    {
     "data": {
      "text/plain": [
       "0.41515151515151516"
      ]
     },
     "execution_count": 15,
     "metadata": {},
     "output_type": "execute_result"
    }
   ],
   "source": [
    "np.count_nonzero(clf.predict(X_train) == y_train)/len(X_train)"
   ]
  },
  {
   "cell_type": "code",
   "execution_count": null,
   "metadata": {
    "cell_id": "72c4f38c-7bbf-4f07-8512-1159ecc2ebec",
    "deepnote_cell_height": 118,
    "deepnote_cell_type": "code",
    "deepnote_output_heights": [
     21
    ],
    "deepnote_to_be_reexecuted": false,
    "execution_millis": 5,
    "execution_start": 1647255023844,
    "source_hash": "f8b2ced4",
    "tags": []
   },
   "outputs": [
    {
     "data": {
      "text/plain": [
       "0.46060606060606063"
      ]
     },
     "execution_count": 20,
     "metadata": {},
     "output_type": "execute_result"
    }
   ],
   "source": [
    "np.count_nonzero(clf.predict(X_test) == y_test)/len(X_test)"
   ]
  },
  {
   "cell_type": "markdown",
   "metadata": {
    "cell_id": "795dfbb9-3e66-4849-8b78-c8ec57624dc9",
    "deepnote_cell_height": 52,
    "deepnote_cell_type": "markdown",
    "tags": []
   },
   "source": [
    "Since test score is 0.46 and train score is 0.41 and test score is higher than train socre, the result is under-fitting."
   ]
  },
  {
   "cell_type": "markdown",
   "metadata": {
    "cell_id": "576e228e-1c2a-432a-9403-aaf676365af0",
    "deepnote_cell_height": 110,
    "deepnote_cell_type": "markdown",
    "tags": []
   },
   "source": [
    "## A new dataframe df2 which contains only genre of Action and Shooter"
   ]
  },
  {
   "cell_type": "code",
   "execution_count": null,
   "metadata": {
    "cell_id": "eb20df20-469f-4637-997f-41f445f5dcfa",
    "deepnote_cell_height": 411,
    "deepnote_cell_type": "code",
    "deepnote_to_be_reexecuted": false,
    "execution_millis": 17,
    "execution_start": 1647254998775,
    "source_hash": "8c34c157",
    "tags": []
   },
   "outputs": [
    {
     "data": {
      "application/vnd.deepnote.dataframe.v3+json": {
       "column_count": 9,
       "columns": [
        {
         "dtype": "object",
         "name": "Game",
         "stats": {
          "categories": [
           {
            "count": 1,
            "name": "Grand Theft Auto V"
           },
           {
            "count": 1,
            "name": "Call of Duty: Black Ops 3"
           },
           {
            "count": 3,
            "name": "3 others"
           }
          ],
          "nan_count": 0,
          "unique_count": 5
         }
        },
        {
         "dtype": "float64",
         "name": "Year",
         "stats": {
          "histogram": [
           {
            "bin_end": 2014.3,
            "bin_start": 2014,
            "count": 1
           },
           {
            "bin_end": 2014.6,
            "bin_start": 2014.3,
            "count": 0
           },
           {
            "bin_end": 2014.9,
            "bin_start": 2014.6,
            "count": 0
           },
           {
            "bin_end": 2015.2,
            "bin_start": 2014.9,
            "count": 1
           },
           {
            "bin_end": 2015.5,
            "bin_start": 2015.2,
            "count": 0
           },
           {
            "bin_end": 2015.8,
            "bin_start": 2015.5,
            "count": 0
           },
           {
            "bin_end": 2016.1,
            "bin_start": 2015.8,
            "count": 2
           },
           {
            "bin_end": 2016.4,
            "bin_start": 2016.1,
            "count": 0
           },
           {
            "bin_end": 2016.7,
            "bin_start": 2016.4,
            "count": 0
           },
           {
            "bin_end": 2017,
            "bin_start": 2016.7,
            "count": 1
           }
          ],
          "max": "2017.0",
          "min": "2014.0",
          "nan_count": 0,
          "unique_count": 4
         }
        },
        {
         "dtype": "object",
         "name": "Genre",
         "stats": {
          "categories": [
           {
            "count": 3,
            "name": "Shooter"
           },
           {
            "count": 2,
            "name": "Action"
           }
          ],
          "nan_count": 0,
          "unique_count": 2
         }
        },
        {
         "dtype": "object",
         "name": "Publisher",
         "stats": {
          "categories": [
           {
            "count": 3,
            "name": "Activision"
           },
           {
            "count": 1,
            "name": "Rockstar Games"
           },
           {
            "count": 1,
            "name": "Sony Interactive Entertainment"
           }
          ],
          "nan_count": 0,
          "unique_count": 3
         }
        },
        {
         "dtype": "float64",
         "name": "North America",
         "stats": {
          "histogram": [
           {
            "bin_end": 3.417,
            "bin_start": 3.11,
            "count": 1
           },
           {
            "bin_end": 3.7239999999999998,
            "bin_start": 3.417,
            "count": 0
           },
           {
            "bin_end": 4.031,
            "bin_start": 3.7239999999999998,
            "count": 0
           },
           {
            "bin_end": 4.338,
            "bin_start": 4.031,
            "count": 0
           },
           {
            "bin_end": 4.645,
            "bin_start": 4.338,
            "count": 1
           },
           {
            "bin_end": 4.952,
            "bin_start": 4.645,
            "count": 1
           },
           {
            "bin_end": 5.259,
            "bin_start": 4.952,
            "count": 0
           },
           {
            "bin_end": 5.566,
            "bin_start": 5.259,
            "count": 0
           },
           {
            "bin_end": 5.872999999999999,
            "bin_start": 5.566,
            "count": 0
           },
           {
            "bin_end": 6.18,
            "bin_start": 5.872999999999999,
            "count": 2
           }
          ],
          "max": "6.18",
          "min": "3.11",
          "nan_count": 0,
          "unique_count": 5
         }
        },
        {
         "dtype": "float64",
         "name": "Europe",
         "stats": {
          "histogram": [
           {
            "bin_end": 4.418,
            "bin_start": 3.83,
            "count": 2
           },
           {
            "bin_end": 5.006,
            "bin_start": 4.418,
            "count": 0
           },
           {
            "bin_end": 5.594,
            "bin_start": 5.006,
            "count": 0
           },
           {
            "bin_end": 6.182,
            "bin_start": 5.594,
            "count": 1
           },
           {
            "bin_end": 6.7700000000000005,
            "bin_start": 6.182,
            "count": 1
           },
           {
            "bin_end": 7.3580000000000005,
            "bin_start": 6.7700000000000005,
            "count": 0
           },
           {
            "bin_end": 7.946000000000001,
            "bin_start": 7.3580000000000005,
            "count": 0
           },
           {
            "bin_end": 8.534,
            "bin_start": 7.946000000000001,
            "count": 0
           },
           {
            "bin_end": 9.122,
            "bin_start": 8.534,
            "count": 0
           },
           {
            "bin_end": 9.71,
            "bin_start": 9.122,
            "count": 1
           }
          ],
          "max": "9.71",
          "min": "3.83",
          "nan_count": 0,
          "unique_count": 5
         }
        },
        {
         "dtype": "float64",
         "name": "Japan",
         "stats": {
          "histogram": [
           {
            "bin_end": 0.23099999999999998,
            "bin_start": 0.19,
            "count": 2
           },
           {
            "bin_end": 0.272,
            "bin_start": 0.23099999999999998,
            "count": 0
           },
           {
            "bin_end": 0.313,
            "bin_start": 0.272,
            "count": 0
           },
           {
            "bin_end": 0.354,
            "bin_start": 0.313,
            "count": 0
           },
           {
            "bin_end": 0.39499999999999996,
            "bin_start": 0.354,
            "count": 0
           },
           {
            "bin_end": 0.43599999999999994,
            "bin_start": 0.39499999999999996,
            "count": 2
           },
           {
            "bin_end": 0.477,
            "bin_start": 0.43599999999999994,
            "count": 0
           },
           {
            "bin_end": 0.518,
            "bin_start": 0.477,
            "count": 0
           },
           {
            "bin_end": 0.5589999999999999,
            "bin_start": 0.518,
            "count": 0
           },
           {
            "bin_end": 0.6,
            "bin_start": 0.5589999999999999,
            "count": 1
           }
          ],
          "max": "0.6",
          "min": "0.19",
          "nan_count": 0,
          "unique_count": 5
         }
        },
        {
         "dtype": "float64",
         "name": "Rest of World",
         "stats": {
          "histogram": [
           {
            "bin_end": 1.526,
            "bin_start": 1.36,
            "count": 1
           },
           {
            "bin_end": 1.6920000000000002,
            "bin_start": 1.526,
            "count": 0
           },
           {
            "bin_end": 1.858,
            "bin_start": 1.6920000000000002,
            "count": 1
           },
           {
            "bin_end": 2.024,
            "bin_start": 1.858,
            "count": 0
           },
           {
            "bin_end": 2.19,
            "bin_start": 2.024,
            "count": 1
           },
           {
            "bin_end": 2.356,
            "bin_start": 2.19,
            "count": 0
           },
           {
            "bin_end": 2.5220000000000002,
            "bin_start": 2.356,
            "count": 1
           },
           {
            "bin_end": 2.6879999999999997,
            "bin_start": 2.5220000000000002,
            "count": 0
           },
           {
            "bin_end": 2.854,
            "bin_start": 2.6879999999999997,
            "count": 0
           },
           {
            "bin_end": 3.02,
            "bin_start": 2.854,
            "count": 1
           }
          ],
          "max": "3.02",
          "min": "1.36",
          "nan_count": 0,
          "unique_count": 5
         }
        },
        {
         "dtype": "float64",
         "name": "Global",
         "stats": {
          "histogram": [
           {
            "bin_end": 9.571,
            "bin_start": 8.48,
            "count": 1
           },
           {
            "bin_end": 10.662,
            "bin_start": 9.571,
            "count": 1
           },
           {
            "bin_end": 11.753,
            "bin_start": 10.662,
            "count": 0
           },
           {
            "bin_end": 12.844000000000001,
            "bin_start": 11.753,
            "count": 0
           },
           {
            "bin_end": 13.935,
            "bin_start": 12.844000000000001,
            "count": 1
           },
           {
            "bin_end": 15.026,
            "bin_start": 13.935,
            "count": 0
           },
           {
            "bin_end": 16.117,
            "bin_start": 15.026,
            "count": 1
           },
           {
            "bin_end": 17.208,
            "bin_start": 16.117,
            "count": 0
           },
           {
            "bin_end": 18.299,
            "bin_start": 17.208,
            "count": 0
           },
           {
            "bin_end": 19.39,
            "bin_start": 18.299,
            "count": 1
           }
          ],
          "max": "19.39",
          "min": "8.48",
          "nan_count": 0,
          "unique_count": 5
         }
        },
        {
         "dtype": "int64",
         "name": "_deepnote_index_column"
        }
       ],
       "row_count": 5,
       "rows": [
        {
         "Europe": 9.71,
         "Game": "Grand Theft Auto V",
         "Genre": "Action",
         "Global": 19.39,
         "Japan": 0.6,
         "North America": 6.06,
         "Publisher": "Rockstar Games",
         "Rest of World": 3.02,
         "Year": 2014,
         "_deepnote_index_column": 0
        },
        {
         "Europe": 6.05,
         "Game": "Call of Duty: Black Ops 3",
         "Genre": "Shooter",
         "Global": 15.09,
         "Japan": 0.41,
         "North America": 6.18,
         "Publisher": "Activision",
         "Rest of World": 2.44,
         "Year": 2015,
         "_deepnote_index_column": 1
        },
        {
         "Europe": 6.21,
         "Game": "Call of Duty: WWII",
         "Genre": "Shooter",
         "Global": 13.4,
         "Japan": 0.4,
         "North America": 4.67,
         "Publisher": "Activision",
         "Rest of World": 2.12,
         "Year": 2017,
         "_deepnote_index_column": 3
        },
        {
         "Europe": 3.93,
         "Game": "Uncharted (PS4)",
         "Genre": "Action",
         "Global": 10.33,
         "Japan": 0.21,
         "North America": 4.49,
         "Publisher": "Sony Interactive Entertainment",
         "Rest of World": 1.7,
         "Year": 2016,
         "_deepnote_index_column": 6
        },
        {
         "Europe": 3.83,
         "Game": "Call of Duty: Infinite Warfare",
         "Genre": "Shooter",
         "Global": 8.48,
         "Japan": 0.19,
         "North America": 3.11,
         "Publisher": "Activision",
         "Rest of World": 1.36,
         "Year": 2016,
         "_deepnote_index_column": 8
        }
       ]
      },
      "text/html": [
       "<div>\n",
       "<style scoped>\n",
       "    .dataframe tbody tr th:only-of-type {\n",
       "        vertical-align: middle;\n",
       "    }\n",
       "\n",
       "    .dataframe tbody tr th {\n",
       "        vertical-align: top;\n",
       "    }\n",
       "\n",
       "    .dataframe thead th {\n",
       "        text-align: right;\n",
       "    }\n",
       "</style>\n",
       "<table border=\"1\" class=\"dataframe\">\n",
       "  <thead>\n",
       "    <tr style=\"text-align: right;\">\n",
       "      <th></th>\n",
       "      <th>Game</th>\n",
       "      <th>Year</th>\n",
       "      <th>Genre</th>\n",
       "      <th>Publisher</th>\n",
       "      <th>North America</th>\n",
       "      <th>Europe</th>\n",
       "      <th>Japan</th>\n",
       "      <th>Rest of World</th>\n",
       "      <th>Global</th>\n",
       "    </tr>\n",
       "  </thead>\n",
       "  <tbody>\n",
       "    <tr>\n",
       "      <th>0</th>\n",
       "      <td>Grand Theft Auto V</td>\n",
       "      <td>2014.0</td>\n",
       "      <td>Action</td>\n",
       "      <td>Rockstar Games</td>\n",
       "      <td>6.06</td>\n",
       "      <td>9.71</td>\n",
       "      <td>0.60</td>\n",
       "      <td>3.02</td>\n",
       "      <td>19.39</td>\n",
       "    </tr>\n",
       "    <tr>\n",
       "      <th>1</th>\n",
       "      <td>Call of Duty: Black Ops 3</td>\n",
       "      <td>2015.0</td>\n",
       "      <td>Shooter</td>\n",
       "      <td>Activision</td>\n",
       "      <td>6.18</td>\n",
       "      <td>6.05</td>\n",
       "      <td>0.41</td>\n",
       "      <td>2.44</td>\n",
       "      <td>15.09</td>\n",
       "    </tr>\n",
       "    <tr>\n",
       "      <th>3</th>\n",
       "      <td>Call of Duty: WWII</td>\n",
       "      <td>2017.0</td>\n",
       "      <td>Shooter</td>\n",
       "      <td>Activision</td>\n",
       "      <td>4.67</td>\n",
       "      <td>6.21</td>\n",
       "      <td>0.40</td>\n",
       "      <td>2.12</td>\n",
       "      <td>13.40</td>\n",
       "    </tr>\n",
       "    <tr>\n",
       "      <th>6</th>\n",
       "      <td>Uncharted (PS4)</td>\n",
       "      <td>2016.0</td>\n",
       "      <td>Action</td>\n",
       "      <td>Sony Interactive Entertainment</td>\n",
       "      <td>4.49</td>\n",
       "      <td>3.93</td>\n",
       "      <td>0.21</td>\n",
       "      <td>1.70</td>\n",
       "      <td>10.33</td>\n",
       "    </tr>\n",
       "    <tr>\n",
       "      <th>8</th>\n",
       "      <td>Call of Duty: Infinite Warfare</td>\n",
       "      <td>2016.0</td>\n",
       "      <td>Shooter</td>\n",
       "      <td>Activision</td>\n",
       "      <td>3.11</td>\n",
       "      <td>3.83</td>\n",
       "      <td>0.19</td>\n",
       "      <td>1.36</td>\n",
       "      <td>8.48</td>\n",
       "    </tr>\n",
       "  </tbody>\n",
       "</table>\n",
       "</div>"
      ],
      "text/plain": [
       "                             Game    Year    Genre  \\\n",
       "0              Grand Theft Auto V  2014.0   Action   \n",
       "1       Call of Duty: Black Ops 3  2015.0  Shooter   \n",
       "3              Call of Duty: WWII  2017.0  Shooter   \n",
       "6                 Uncharted (PS4)  2016.0   Action   \n",
       "8  Call of Duty: Infinite Warfare  2016.0  Shooter   \n",
       "\n",
       "                        Publisher  North America  Europe  Japan  \\\n",
       "0                  Rockstar Games           6.06    9.71   0.60   \n",
       "1                      Activision           6.18    6.05   0.41   \n",
       "3                      Activision           4.67    6.21   0.40   \n",
       "6  Sony Interactive Entertainment           4.49    3.93   0.21   \n",
       "8                      Activision           3.11    3.83   0.19   \n",
       "\n",
       "   Rest of World  Global  \n",
       "0           3.02   19.39  \n",
       "1           2.44   15.09  \n",
       "3           2.12   13.40  \n",
       "6           1.70   10.33  \n",
       "8           1.36    8.48  "
      ]
     },
     "execution_count": 17,
     "metadata": {},
     "output_type": "execute_result"
    }
   ],
   "source": [
    "df2 = df[df[\"Genre\"].isin([\"Action\",\"Shooter\"])]\n",
    "df2.head()"
   ]
  },
  {
   "cell_type": "code",
   "execution_count": null,
   "metadata": {
    "cell_id": "79311d5e-3543-4550-a467-b9b6b8832e60",
    "deepnote_cell_height": 537,
    "deepnote_cell_type": "code",
    "deepnote_output_heights": [
     278
    ],
    "deepnote_to_be_reexecuted": false,
    "execution_millis": 13,
    "execution_start": 1647254998814,
    "source_hash": "2adce36e",
    "tags": []
   },
   "outputs": [
    {
     "data": {
      "text/html": [
       "\n",
       "<div id=\"altair-viz-db120f3e8c3b40e1a835a8a1b9e4c841\"></div>\n",
       "<script type=\"text/javascript\">\n",
       "  (function(spec, embedOpt){\n",
       "    let outputDiv = document.currentScript.previousElementSibling;\n",
       "    if (outputDiv.id !== \"altair-viz-db120f3e8c3b40e1a835a8a1b9e4c841\") {\n",
       "      outputDiv = document.getElementById(\"altair-viz-db120f3e8c3b40e1a835a8a1b9e4c841\");\n",
       "    }\n",
       "    const paths = {\n",
       "      \"vega\": \"https://cdn.jsdelivr.net/npm//vega@5?noext\",\n",
       "      \"vega-lib\": \"https://cdn.jsdelivr.net/npm//vega-lib?noext\",\n",
       "      \"vega-lite\": \"https://cdn.jsdelivr.net/npm//vega-lite@4.8.1?noext\",\n",
       "      \"vega-embed\": \"https://cdn.jsdelivr.net/npm//vega-embed@6?noext\",\n",
       "    };\n",
       "\n",
       "    function loadScript(lib) {\n",
       "      return new Promise(function(resolve, reject) {\n",
       "        var s = document.createElement('script');\n",
       "        s.src = paths[lib];\n",
       "        s.async = true;\n",
       "        s.onload = () => resolve(paths[lib]);\n",
       "        s.onerror = () => reject(`Error loading script: ${paths[lib]}`);\n",
       "        document.getElementsByTagName(\"head\")[0].appendChild(s);\n",
       "      });\n",
       "    }\n",
       "\n",
       "    function showError(err) {\n",
       "      outputDiv.innerHTML = `<div class=\"error\" style=\"color:red;\">${err}</div>`;\n",
       "      throw err;\n",
       "    }\n",
       "\n",
       "    function displayChart(vegaEmbed) {\n",
       "      vegaEmbed(outputDiv, spec, embedOpt)\n",
       "        .catch(err => showError(`Javascript Error: ${err.message}<br>This usually means there's a typo in your chart specification. See the javascript console for the full traceback.`));\n",
       "    }\n",
       "\n",
       "    if(typeof define === \"function\" && define.amd) {\n",
       "      requirejs.config({paths});\n",
       "      require([\"vega-embed\"], displayChart, err => showError(`Error loading script: ${err.message}`));\n",
       "    } else if (typeof vegaEmbed === \"function\") {\n",
       "      displayChart(vegaEmbed);\n",
       "    } else {\n",
       "      loadScript(\"vega\")\n",
       "        .then(() => loadScript(\"vega-lite\"))\n",
       "        .then(() => loadScript(\"vega-embed\"))\n",
       "        .catch(showError)\n",
       "        .then(() => displayChart(vegaEmbed));\n",
       "    }\n",
       "  })({\"config\": {\"view\": {\"continuousWidth\": 400, \"continuousHeight\": 300}}, \"data\": {\"name\": \"data-60ae71ea71641181f9a08267ef422d03\"}, \"mark\": \"circle\", \"encoding\": {\"color\": {\"type\": \"nominal\", \"field\": \"Genre\", \"title\": \"Genre type\"}, \"x\": {\"type\": \"quantitative\", \"field\": \"North America\"}, \"y\": {\"type\": \"quantitative\", \"field\": \"Global\"}}, \"height\": 200, \"title\": \"Sales of Action and shooter from North America and Global\", \"width\": 1000, \"$schema\": \"https://vega.github.io/schema/vega-lite/v4.8.1.json\", \"datasets\": {\"data-60ae71ea71641181f9a08267ef422d03\": [{\"Game\": \"Grand Theft Auto V\", \"Year\": 2014.0, \"Genre\": \"Action\", \"Publisher\": \"Rockstar Games\", \"North America\": 6.06, \"Europe\": 9.71, \"Japan\": 0.6, \"Rest of World\": 3.02, \"Global\": 19.39}, {\"Game\": \"Call of Duty: Black Ops 3\", \"Year\": 2015.0, \"Genre\": \"Shooter\", \"Publisher\": \"Activision\", \"North America\": 6.18, \"Europe\": 6.05, \"Japan\": 0.41, \"Rest of World\": 2.44, \"Global\": 15.09}, {\"Game\": \"Call of Duty: WWII\", \"Year\": 2017.0, \"Genre\": \"Shooter\", \"Publisher\": \"Activision\", \"North America\": 4.67, \"Europe\": 6.21, \"Japan\": 0.4, \"Rest of World\": 2.12, \"Global\": 13.4}, {\"Game\": \"Uncharted (PS4)\", \"Year\": 2016.0, \"Genre\": \"Action\", \"Publisher\": \"Sony Interactive Entertainment\", \"North America\": 4.49, \"Europe\": 3.93, \"Japan\": 0.21, \"Rest of World\": 1.7, \"Global\": 10.33}, {\"Game\": \"Call of Duty: Infinite Warfare\", \"Year\": 2016.0, \"Genre\": \"Shooter\", \"Publisher\": \"Activision\", \"North America\": 3.11, \"Europe\": 3.83, \"Japan\": 0.19, \"Rest of World\": 1.36, \"Global\": 8.48}, {\"Game\": \"Star Wars Battlefront 2015\", \"Year\": 2015.0, \"Genre\": \"Shooter\", \"Publisher\": \"Electronic Arts\", \"North America\": 3.31, \"Europe\": 3.19, \"Japan\": 0.23, \"Rest of World\": 1.3, \"Global\": 8.03}, {\"Game\": \"Call of Duty: Advanced Warfare\", \"Year\": 2014.0, \"Genre\": \"Shooter\", \"Publisher\": \"Activision\", \"North America\": 2.84, \"Europe\": 3.34, \"Japan\": 0.14, \"Rest of World\": 1.22, \"Global\": 7.53}, {\"Game\": \"Battlefield 1\", \"Year\": 2016.0, \"Genre\": \"Shooter\", \"Publisher\": \"Electronic Arts\", \"North America\": 2.2, \"Europe\": 3.65, \"Japan\": 0.29, \"Rest of World\": 1.12, \"Global\": 7.26}, {\"Game\": \"God of War (PS4)\", \"Year\": 2018.0, \"Genre\": \"Action\", \"Publisher\": \"Sony Interactive Entertainment\", \"North America\": 2.83, \"Europe\": 2.17, \"Japan\": 0.13, \"Rest of World\": 1.02, \"Global\": 6.15}, {\"Game\": \"Horizon: Zero Dawn\", \"Year\": 2017.0, \"Genre\": \"Action\", \"Publisher\": \"Sony Interactive Entertainment\", \"North America\": 2.2, \"Europe\": 2.43, \"Japan\": 0.28, \"Rest of World\": 0.92, \"Global\": 5.82}, {\"Game\": \"Destiny\", \"Year\": 2014.0, \"Genre\": \"Shooter\", \"Publisher\": \"Activision\", \"North America\": 2.53, \"Europe\": 2.13, \"Japan\": 0.16, \"Rest of World\": 0.94, \"Global\": 5.76}, {\"Game\": \"Uncharted: The Nathan Drake Collection\", \"Year\": 2015.0, \"Genre\": \"Action\", \"Publisher\": \"Sony Computer Entertainment\", \"North America\": 2.55, \"Europe\": 2.11, \"Japan\": 0.1, \"Rest of World\": 0.94, \"Global\": 5.7}, {\"Game\": \"Monster Hunter: World\", \"Year\": 2018.0, \"Genre\": \"Action\", \"Publisher\": \"Capcom\", \"North America\": 1.03, \"Europe\": 1.06, \"Japan\": 2.17, \"Rest of World\": 0.42, \"Global\": 4.67}, {\"Game\": \"Overwatch\", \"Year\": 2016.0, \"Genre\": \"Shooter\", \"Publisher\": \"Blizzard Entertainment\", \"North America\": 1.84, \"Europe\": 1.8, \"Japan\": 0.17, \"Rest of World\": 0.73, \"Global\": 4.54}, {\"Game\": \"Star Wars Battlefront II (2017)\", \"Year\": 2017.0, \"Genre\": \"Shooter\", \"Publisher\": \"Electronic Arts\", \"North America\": 1.7, \"Europe\": 1.99, \"Japan\": 0.12, \"Rest of World\": 0.73, \"Global\": 4.53}, {\"Game\": \"Tom Clancy's The Division\", \"Year\": 2016.0, \"Genre\": \"Shooter\", \"Publisher\": \"Ubisoft\", \"North America\": 1.49, \"Europe\": 2.04, \"Japan\": 0.16, \"Rest of World\": 0.69, \"Global\": 4.37}, {\"Game\": \"Tom Clancy's Rainbow Six: Siege\", \"Year\": 2015.0, \"Genre\": \"Shooter\", \"Publisher\": \"Ubisoft\", \"North America\": 1.29, \"Europe\": 2.06, \"Japan\": 0.36, \"Rest of World\": 0.64, \"Global\": 4.36}, {\"Game\": \"Call of Duty: Ghosts\", \"Year\": 2013.0, \"Genre\": \"Shooter\", \"Publisher\": \"Activision\", \"North America\": 1.79, \"Europe\": 1.64, \"Japan\": 0.05, \"Rest of World\": 0.69, \"Global\": 4.17}, {\"Game\": \"Assassin's Creed: Unity\", \"Year\": 2014.0, \"Genre\": \"Action\", \"Publisher\": \"Ubisoft\", \"North America\": 1.25, \"Europe\": 2.16, \"Japan\": 0.09, \"Rest of World\": 0.65, \"Global\": 4.14}, {\"Game\": \"Destiny 2\", \"Year\": 2017.0, \"Genre\": \"Shooter\", \"Publisher\": \"Activision\", \"North America\": 1.92, \"Europe\": 1.44, \"Japan\": 0.1, \"Rest of World\": 0.69, \"Global\": 4.14}, {\"Game\": \"Batman: Arkham Knight\", \"Year\": 2015.0, \"Genre\": \"Action\", \"Publisher\": \"Warner Bros. Interactive\", \"North America\": 1.65, \"Europe\": 1.68, \"Japan\": 0.11, \"Rest of World\": 0.66, \"Global\": 4.11}, {\"Game\": \"Assassin's Creed Origins\", \"Year\": 2017.0, \"Genre\": \"Action\", \"Publisher\": \"Ubisoft\", \"North America\": 1.22, \"Europe\": 2.11, \"Japan\": 0.11, \"Rest of World\": 0.63, \"Global\": 4.06}, {\"Game\": \"Far Cry 4\", \"Year\": 2014.0, \"Genre\": \"Shooter\", \"Publisher\": \"Ubisoft\", \"North America\": 1.18, \"Europe\": 2.14, \"Japan\": 0.11, \"Rest of World\": 0.63, \"Global\": 4.06}, {\"Game\": \"Far Cry 5\", \"Year\": 2018.0, \"Genre\": \"Action\", \"Publisher\": \"Ubisoft\", \"North America\": 1.44, \"Europe\": 1.73, \"Japan\": 0.15, \"Rest of World\": 0.62, \"Global\": 3.95}, {\"Game\": \"Battlefield 4\", \"Year\": 2013.0, \"Genre\": \"Shooter\", \"Publisher\": \"Electronic Arts\", \"North America\": 1.4, \"Europe\": 1.74, \"Japan\": 0.19, \"Rest of World\": 0.62, \"Global\": 3.94}, {\"Game\": \"Assassin's Creed Syndicate\", \"Year\": 2015.0, \"Genre\": \"Action\", \"Publisher\": \"Ubisoft\", \"North America\": 0.9, \"Europe\": 2.06, \"Japan\": 0.08, \"Rest of World\": 0.55, \"Global\": 3.6}, {\"Game\": \"Watch Dogs 2\", \"Year\": 2016.0, \"Genre\": \"Action\", \"Publisher\": \"Ubisoft\", \"North America\": 0.98, \"Europe\": 1.74, \"Japan\": 0.12, \"Rest of World\": 0.52, \"Global\": 3.36}, {\"Game\": \"Resident Evil VII: Biohazard\", \"Year\": 2017.0, \"Genre\": \"Action\", \"Publisher\": \"Capcom\", \"North America\": 0.88, \"Europe\": 1.56, \"Japan\": 0.41, \"Rest of World\": 0.46, \"Global\": 3.31}, {\"Game\": \"Middle-Earth: Shadow of Mordor\", \"Year\": 2014.0, \"Genre\": \"Action\", \"Publisher\": \"Warner Bros. Interactive Entertainment\", \"North America\": 1.03, \"Europe\": 1.6, \"Japan\": 0.05, \"Rest of World\": 0.51, \"Global\": 3.19}, {\"Game\": \"Tom Clancy's Ghost Recon Wildlands\", \"Year\": 2017.0, \"Genre\": \"Shooter\", \"Publisher\": \"Ubisoft\", \"North America\": 1.07, \"Europe\": 1.35, \"Japan\": 0.22, \"Rest of World\": 0.47, \"Global\": 3.12}, {\"Game\": \"Metal Gear Solid V: The Phantom Pain\", \"Year\": 2015.0, \"Genre\": \"Action\", \"Publisher\": \"Konami Digital Entertainment\", \"North America\": 0.97, \"Europe\": 1.15, \"Japan\": 0.5, \"Rest of World\": 0.42, \"Global\": 3.04}, {\"Game\": \"Killzone: Shadow Fall\", \"Year\": 2013.0, \"Genre\": \"Shooter\", \"Publisher\": \"Sony Computer Entertainment\", \"North America\": 0.89, \"Europe\": 1.58, \"Japan\": 0.08, \"Rest of World\": 0.47, \"Global\": 3.02}, {\"Game\": \"Doom (2016)\", \"Year\": 2016.0, \"Genre\": \"Shooter\", \"Publisher\": \"Bethesda Softworks\", \"North America\": 0.93, \"Europe\": 1.48, \"Japan\": 0.04, \"Rest of World\": 0.46, \"Global\": 2.92}, {\"Game\": \"Dying Light\", \"Year\": 2015.0, \"Genre\": \"Action\", \"Publisher\": \"Warner Bros. Interactive\", \"North America\": 1.18, \"Europe\": 0.74, \"Japan\": 0.13, \"Rest of World\": 0.4, \"Global\": 2.45}, {\"Game\": \"Uncharted: The Lost Legacy\", \"Year\": 2017.0, \"Genre\": \"Action\", \"Publisher\": \"Sony Interactive Entertainment\", \"North America\": 0.58, \"Europe\": 1.38, \"Japan\": 0.04, \"Rest of World\": 0.36, \"Global\": 2.37}, {\"Game\": \"Destiny: The Taken King\", \"Year\": 2015.0, \"Genre\": \"Shooter\", \"Publisher\": \"Activision\", \"North America\": 0.97, \"Europe\": 0.8, \"Japan\": 0.05, \"Rest of World\": 0.36, \"Global\": 2.18}, {\"Game\": \"Battlefield: Hardline\", \"Year\": 2015.0, \"Genre\": \"Shooter\", \"Publisher\": \"Electronic Arts\", \"North America\": 0.72, \"Europe\": 0.97, \"Japan\": 0.14, \"Rest of World\": 0.33, \"Global\": 2.15}, {\"Game\": \"Middle-Earth: Shadow of War\", \"Year\": 2017.0, \"Genre\": \"Action\", \"Publisher\": \"Warner Bros. Interactive Entertainment\", \"North America\": 0.82, \"Europe\": 0.84, \"Japan\": 0.06, \"Rest of World\": 0.33, \"Global\": 2.04}, {\"Game\": \"Dishonored 2\", \"Year\": 2016.0, \"Genre\": \"Action\", \"Publisher\": \"Bethesda Softworks\", \"North America\": 0.62, \"Europe\": 1.02, \"Japan\": 0.01, \"Rest of World\": 0.31, \"Global\": 1.97}, {\"Game\": \"Lego Marvel Super Heroes\", \"Year\": 2013.0, \"Genre\": \"Action\", \"Publisher\": \"Warner Bros. Interactive Entertainment\", \"North America\": 0.59, \"Europe\": 1.0, \"Japan\": 0.01, \"Rest of World\": 0.3, \"Global\": 1.91}, {\"Game\": \"The Evil Within\", \"Year\": 2014.0, \"Genre\": \"Action\", \"Publisher\": \"Bethesda Softworks\", \"North America\": 0.56, \"Europe\": 0.9, \"Japan\": 0.11, \"Rest of World\": 0.28, \"Global\": 1.86}, {\"Game\": \"For Honor\", \"Year\": 2017.0, \"Genre\": \"Action\", \"Publisher\": \"Ubisoft\", \"North America\": 0.73, \"Europe\": 0.66, \"Japan\": 0.07, \"Rest of World\": 0.28, \"Global\": 1.75}, {\"Game\": \"Titanfall 2\", \"Year\": 2016.0, \"Genre\": \"Shooter\", \"Publisher\": \"Electronic Arts\", \"North America\": 0.75, \"Europe\": 0.62, \"Japan\": 0.06, \"Rest of World\": 0.28, \"Global\": 1.72}, {\"Game\": \"The Order: 1886\", \"Year\": 2015.0, \"Genre\": \"Shooter\", \"Publisher\": \"Sony Computer Entertainment\", \"North America\": 0.44, \"Europe\": 0.86, \"Japan\": 0.07, \"Rest of World\": 0.25, \"Global\": 1.62}, {\"Game\": \"Wolfenstein: The New Order\", \"Year\": 2014.0, \"Genre\": \"Shooter\", \"Publisher\": \"Bethesda Softworks\", \"North America\": 0.48, \"Europe\": 0.84, \"Japan\": 0.03, \"Rest of World\": 0.25, \"Global\": 1.61}, {\"Game\": \"Dragon Ball: Xenoverse 2\", \"Year\": 2016.0, \"Genre\": \"Action\", \"Publisher\": \"Namco Bandai Games\", \"North America\": 0.54, \"Europe\": 0.59, \"Japan\": 0.14, \"Rest of World\": 0.23, \"Global\": 1.5}, {\"Game\": \"Wolfenstein II: The New Colossus\", \"Year\": 2017.0, \"Genre\": \"Shooter\", \"Publisher\": \"Bethesda Softworks\", \"North America\": 0.55, \"Europe\": 0.58, \"Japan\": 0.01, \"Rest of World\": 0.22, \"Global\": 1.36}, {\"Game\": \"Borderlands: The Handsome Collection\", \"Year\": 2015.0, \"Genre\": \"Shooter\", \"Publisher\": \"2K Games\", \"North America\": 0.69, \"Europe\": 0.34, \"Japan\": 0.03, \"Rest of World\": 0.22, \"Global\": 1.28}, {\"Game\": \"Mad Max (2013)\", \"Year\": 2015.0, \"Genre\": \"Action\", \"Publisher\": \"Warner Bros. Interactive Entertainment\", \"North America\": 0.38, \"Europe\": 0.59, \"Japan\": 0.05, \"Rest of World\": 0.19, \"Global\": 1.2}, {\"Game\": \"LEGO Dimensions\", \"Year\": 2015.0, \"Genre\": \"Action\", \"Publisher\": \"Warner Bros. Interactive Entertainment\", \"North America\": 0.48, \"Europe\": 0.5, \"Japan\": 0.0, \"Rest of World\": 0.2, \"Global\": 1.18}, {\"Game\": \"LEGO Jurassic World\", \"Year\": 2015.0, \"Genre\": \"Action\", \"Publisher\": \"Warner Bros. Interactive Entertainment\", \"North America\": 0.41, \"Europe\": 0.56, \"Japan\": 0.02, \"Rest of World\": 0.19, \"Global\": 1.18}, {\"Game\": \"LEGO Marvel Super Heroes 2\", \"Year\": 2017.0, \"Genre\": \"Action\", \"Publisher\": \"Warner Bros. Interactive Entertainment\", \"North America\": 0.33, \"Europe\": 0.6, \"Japan\": 0.0, \"Rest of World\": 0.18, \"Global\": 1.11}, {\"Game\": \"The Evil Within II\", \"Year\": 2017.0, \"Genre\": \"Action\", \"Publisher\": \"Bethesda Softworks\", \"North America\": 0.31, \"Europe\": 0.49, \"Japan\": 0.09, \"Rest of World\": 0.15, \"Global\": 1.05}, {\"Game\": \"Prey (2017)\", \"Year\": 2017.0, \"Genre\": \"Shooter\", \"Publisher\": \"Bethesda Softworks\", \"North America\": 0.25, \"Europe\": 0.62, \"Japan\": 0.02, \"Rest of World\": 0.16, \"Global\": 1.04}, {\"Game\": \"Ni-Oh\", \"Year\": 2017.0, \"Genre\": \"Action\", \"Publisher\": \"Tecmo Koei\", \"North America\": 0.34, \"Europe\": 0.36, \"Japan\": 0.2, \"Rest of World\": 0.14, \"Global\": 1.03}, {\"Game\": \"LEGO Marvel's Avengers\", \"Year\": 2016.0, \"Genre\": \"Action\", \"Publisher\": \"Warner Bros. Interactive Entertainment\", \"North America\": 0.31, \"Europe\": 0.53, \"Japan\": 0.01, \"Rest of World\": 0.16, \"Global\": 1.01}, {\"Game\": \"Evolve\", \"Year\": 2015.0, \"Genre\": \"Shooter\", \"Publisher\": \"2K Games\", \"North America\": 0.38, \"Europe\": 0.41, \"Japan\": 0.05, \"Rest of World\": 0.16, \"Global\": 1.01}, {\"Game\": \"Lego Batman 3: Beyond Gotham\", \"Year\": 2014.0, \"Genre\": \"Action\", \"Publisher\": \"Warner Bros. Interactive Entertainment\", \"North America\": 0.37, \"Europe\": 0.42, \"Japan\": 0.0, \"Rest of World\": 0.16, \"Global\": 0.94}, {\"Game\": \"God of War III\", \"Year\": 2015.0, \"Genre\": \"Action\", \"Publisher\": \"Sony Computer Entertainment\", \"North America\": 0.4, \"Europe\": 0.33, \"Japan\": 0.02, \"Rest of World\": 0.15, \"Global\": 0.89}, {\"Game\": \"Fortnite\", \"Year\": 2017.0, \"Genre\": \"Action\", \"Publisher\": \"Gearbox Software\", \"North America\": 0.42, \"Europe\": 0.32, \"Japan\": 0.0, \"Rest of World\": 0.15, \"Global\": 0.89}, {\"Game\": \"LEGO Harry Potter Collection\", \"Year\": 2016.0, \"Genre\": \"Action\", \"Publisher\": \"Warner Bros. Interactive Entertainment\", \"North America\": 0.07, \"Europe\": 0.68, \"Japan\": 0.0, \"Rest of World\": 0.13, \"Global\": 0.88}, {\"Game\": \"BioShock The Collection\", \"Year\": 2016.0, \"Genre\": \"Shooter\", \"Publisher\": \"2K Games\", \"North America\": 0.41, \"Europe\": 0.28, \"Japan\": 0.03, \"Rest of World\": 0.14, \"Global\": 0.86}, {\"Game\": \"Thief 4\", \"Year\": 2014.0, \"Genre\": \"Action\", \"Publisher\": \"Square Enix\", \"North America\": 0.28, \"Europe\": 0.41, \"Japan\": 0.03, \"Rest of World\": 0.13, \"Global\": 0.85}, {\"Game\": \"Until Dawn: Rush of Blood\", \"Year\": 2016.0, \"Genre\": \"Shooter\", \"Publisher\": \"Sony Interactive Entertainment\", \"North America\": 0.5, \"Europe\": 0.21, \"Japan\": 0.0, \"Rest of World\": 0.15, \"Global\": 0.85}, {\"Game\": \"Disney Infinity 3.0\", \"Year\": 2015.0, \"Genre\": \"Action\", \"Publisher\": \"Disney Interactive Studios\", \"North America\": 0.31, \"Europe\": 0.4, \"Japan\": 0.0, \"Rest of World\": 0.14, \"Global\": 0.85}, {\"Game\": \"ARK: Survival Evolved\", \"Year\": 2017.0, \"Genre\": \"Action\", \"Publisher\": \"Studio Wildcard\", \"North America\": 0.28, \"Europe\": 0.29, \"Japan\": 0.14, \"Rest of World\": 0.11, \"Global\": 0.81}, {\"Game\": \"Dragon Quest Heroes: The World's Tree Woe and the Blight Below\", \"Year\": 2015.0, \"Genre\": \"Action\", \"Publisher\": \"Square Enix\", \"North America\": 0.21, \"Europe\": 0.14, \"Japan\": 0.39, \"Rest of World\": 0.07, \"Global\": 0.81}, {\"Game\": \"Assassin's Creed The Ezio Collection\", \"Year\": 2016.0, \"Genre\": \"Action\", \"Publisher\": \"Ubisoft\", \"North America\": 0.14, \"Europe\": 0.52, \"Japan\": 0.02, \"Rest of World\": 0.12, \"Global\": 0.79}, {\"Game\": \"Destiny: The Collection\", \"Year\": 2016.0, \"Genre\": \"Shooter\", \"Publisher\": \"Activision\", \"North America\": 0.24, \"Europe\": 0.4, \"Japan\": 0.02, \"Rest of World\": 0.12, \"Global\": 0.78}, {\"Game\": \"Hitman (2016)\", \"Year\": 2017.0, \"Genre\": \"Action\", \"Publisher\": \"Square Enix\", \"North America\": 0.24, \"Europe\": 0.36, \"Japan\": 0.06, \"Rest of World\": 0.11, \"Global\": 0.78}, {\"Game\": \"Sniper Elite 3\", \"Year\": 2014.0, \"Genre\": \"Shooter\", \"Publisher\": \"505 Games\", \"North America\": 0.25, \"Europe\": 0.37, \"Japan\": 0.0, \"Rest of World\": 0.12, \"Global\": 0.74}, {\"Game\": \"METRO 2033\", \"Year\": 2014.0, \"Genre\": \"Shooter\", \"Publisher\": \"Deep Silver\", \"North America\": 0.22, \"Europe\": 0.31, \"Japan\": 0.05, \"Rest of World\": 0.1, \"Global\": 0.68}, {\"Game\": \"Plants vs Zombies: Garden Warfare\", \"Year\": 2014.0, \"Genre\": \"Shooter\", \"Publisher\": \"Electronic Arts\", \"North America\": 0.24, \"Europe\": 0.3, \"Japan\": 0.01, \"Rest of World\": 0.11, \"Global\": 0.66}, {\"Game\": \"Batman: Return to Arkham\", \"Year\": 2016.0, \"Genre\": \"Action\", \"Publisher\": \"Warner Bros. Interactive Entertainment\", \"North America\": 0.15, \"Europe\": 0.39, \"Japan\": 0.01, \"Rest of World\": 0.1, \"Global\": 0.64}, {\"Game\": \"Plants vs. Zombies: Garden Warfare 2\", \"Year\": 2016.0, \"Genre\": \"Shooter\", \"Publisher\": \"Electronic Arts\", \"North America\": 0.22, \"Europe\": 0.31, \"Japan\": 0.0, \"Rest of World\": 0.1, \"Global\": 0.63}, {\"Game\": \"Call of Duty: Modern Warfare Remastered\", \"Year\": 2017.0, \"Genre\": \"Shooter\", \"Publisher\": \"Activision\", \"North America\": 0.17, \"Europe\": 0.3, \"Japan\": 0.03, \"Rest of World\": 0.09, \"Global\": 0.58}, {\"Game\": \"The Lego Ninjago Movie Videogame\", \"Year\": 2017.0, \"Genre\": \"Action\", \"Publisher\": \"Warner Bros. Interactive Entertainment\", \"North America\": 0.16, \"Europe\": 0.32, \"Japan\": 0.0, \"Rest of World\": 0.09, \"Global\": 0.57}, {\"Game\": \"Resident Evil: Revelations 2\", \"Year\": 2015.0, \"Genre\": \"Action\", \"Publisher\": \"Capcom\", \"North America\": 0.14, \"Europe\": 0.25, \"Japan\": 0.11, \"Rest of World\": 0.07, \"Global\": 0.57}, {\"Game\": \"DOOM VFR\", \"Year\": 2017.0, \"Genre\": \"Shooter\", \"Publisher\": \"Bethesda Softworks\", \"North America\": 0.22, \"Europe\": 0.25, \"Japan\": 0.0, \"Rest of World\": 0.09, \"Global\": 0.56}, {\"Game\": \"Sniper Elite 4\", \"Year\": 2017.0, \"Genre\": \"Shooter\", \"Publisher\": \"Rebellion Developments\", \"North America\": 0.21, \"Europe\": 0.25, \"Japan\": 0.0, \"Rest of World\": 0.09, \"Global\": 0.55}, {\"Game\": \"One Piece: Pirate Warriors 3\", \"Year\": 2015.0, \"Genre\": \"Action\", \"Publisher\": \"Namco Bandai Games\", \"North America\": 0.11, \"Europe\": 0.22, \"Japan\": 0.11, \"Rest of World\": 0.06, \"Global\": 0.52}, {\"Game\": \"Homefront: The Revolution\", \"Year\": 2016.0, \"Genre\": \"Shooter\", \"Publisher\": \"Deep Silver\", \"North America\": 0.11, \"Europe\": 0.29, \"Japan\": 0.04, \"Rest of World\": 0.07, \"Global\": 0.5}, {\"Game\": \"Attack on Titan (KOEI)\", \"Year\": 2016.0, \"Genre\": \"Action\", \"Publisher\": \"Tecmo Koei\", \"North America\": 0.08, \"Europe\": 0.24, \"Japan\": 0.12, \"Rest of World\": 0.06, \"Global\": 0.5}, {\"Game\": \"Farpoint\", \"Year\": 2017.0, \"Genre\": \"Shooter\", \"Publisher\": \"Sony Interactive Entertainment\", \"North America\": 0.0, \"Europe\": 0.38, \"Japan\": 0.04, \"Rest of World\": 0.06, \"Global\": 0.48}, {\"Game\": \"Battleborn\", \"Year\": 2016.0, \"Genre\": \"Shooter\", \"Publisher\": \"2K Games\", \"North America\": 0.25, \"Europe\": 0.12, \"Japan\": 0.03, \"Rest of World\": 0.08, \"Global\": 0.48}, {\"Game\": \"A Way Out\", \"Year\": 2018.0, \"Genre\": \"Action\", \"Publisher\": \"Electronic Arts\", \"North America\": 0.23, \"Europe\": 0.16, \"Japan\": 0.0, \"Rest of World\": 0.08, \"Global\": 0.48}, {\"Game\": \"Friday the 13th: The Game\", \"Year\": 2017.0, \"Genre\": \"Action\", \"Publisher\": \"Gun Media\", \"North America\": 0.29, \"Europe\": 0.09, \"Japan\": 0.03, \"Rest of World\": 0.08, \"Global\": 0.48}, {\"Game\": \"Wolfenstein: The Old Blood\", \"Year\": 2015.0, \"Genre\": \"Shooter\", \"Publisher\": \"Bethesda Softworks\", \"North America\": 0.13, \"Europe\": 0.25, \"Japan\": 0.02, \"Rest of World\": 0.07, \"Global\": 0.48}, {\"Game\": \"Deadpool\", \"Year\": 2015.0, \"Genre\": \"Action\", \"Publisher\": \"Activision\", \"North America\": 0.26, \"Europe\": 0.13, \"Japan\": 0.0, \"Rest of World\": 0.08, \"Global\": 0.47}, {\"Game\": \"Dragon Quest Heroes II: Twin Kings and the Prophecy's End\", \"Year\": 2016.0, \"Genre\": \"Action\", \"Publisher\": \"Square Enix\", \"North America\": 0.05, \"Europe\": 0.09, \"Japan\": 0.3, \"Rest of World\": 0.03, \"Global\": 0.47}, {\"Game\": \"Sleeping Dogs\", \"Year\": 2014.0, \"Genre\": \"Action\", \"Publisher\": \"Square Enix\", \"North America\": 0.16, \"Europe\": 0.21, \"Japan\": 0.0, \"Rest of World\": 0.07, \"Global\": 0.44}, {\"Game\": \"Saints Row IV\", \"Year\": 2015.0, \"Genre\": \"Action\", \"Publisher\": \"Deep Silver\", \"North America\": 0.15, \"Europe\": 0.18, \"Japan\": 0.03, \"Rest of World\": 0.06, \"Global\": 0.42}, {\"Game\": \"Dishonored\", \"Year\": 2015.0, \"Genre\": \"Action\", \"Publisher\": \"Bethesda Softworks\", \"North America\": 0.12, \"Europe\": 0.21, \"Japan\": 0.02, \"Rest of World\": 0.06, \"Global\": 0.42}, {\"Game\": \"Batman: Arkham VR\", \"Year\": 2016.0, \"Genre\": \"Action\", \"Publisher\": \"Warner Bros. Interactive Entertainment\", \"North America\": 0.32, \"Europe\": 0.0, \"Japan\": 0.0, \"Rest of World\": 0.07, \"Global\": 0.39}, {\"Game\": \"Yakuza Kiwami 2\", \"Year\": 2017.0, \"Genre\": \"Action\", \"Publisher\": \"Sega\", \"North America\": 0.08, \"Europe\": 0.06, \"Japan\": 0.19, \"Rest of World\": 0.03, \"Global\": 0.37}, {\"Game\": \"Okami\", \"Year\": 2017.0, \"Genre\": \"Action\", \"Publisher\": \"Capcom\", \"North America\": 0.16, \"Europe\": 0.12, \"Japan\": 0.03, \"Rest of World\": 0.06, \"Global\": 0.36}, {\"Game\": \"Sniper: Ghost Warrior 3\", \"Year\": 2017.0, \"Genre\": \"Shooter\", \"Publisher\": \"City Interactive\", \"North America\": 0.14, \"Europe\": 0.15, \"Japan\": 0.03, \"Rest of World\": 0.06, \"Global\": 0.36}, {\"Game\": \"Hokuto ga Gotoku\", \"Year\": 2018.0, \"Genre\": \"Action\", \"Publisher\": \"Sega\", \"North America\": 0.09, \"Europe\": 0.05, \"Japan\": 0.18, \"Rest of World\": 0.03, \"Global\": 0.36}, {\"Game\": \"Dishonored: Death of the Outsider\", \"Year\": 2017.0, \"Genre\": \"Action\", \"Publisher\": \"Bethesda Softworks\", \"North America\": 0.1, \"Europe\": 0.18, \"Japan\": 0.0, \"Rest of World\": 0.05, \"Global\": 0.33}, {\"Game\": \"Payday 2\", \"Year\": 2015.0, \"Genre\": \"Shooter\", \"Publisher\": \"505 Games\", \"North America\": 0.12, \"Europe\": 0.14, \"Japan\": 0.0, \"Rest of World\": 0.05, \"Global\": 0.32}, {\"Game\": \"DmC: Devil May Cry\", \"Year\": 2015.0, \"Genre\": \"Action\", \"Publisher\": \"Capcom\", \"North America\": 0.12, \"Europe\": 0.13, \"Japan\": 0.0, \"Rest of World\": 0.05, \"Global\": 0.31}, {\"Game\": \"Naruto to Boruto: Shinobi Striker\", \"Year\": 2018.0, \"Genre\": \"Action\", \"Publisher\": \"Bandai Namco Games\", \"North America\": 0.19, \"Europe\": 0.03, \"Japan\": 0.02, \"Rest of World\": 0.05, \"Global\": 0.29}, {\"Game\": \"Metal Gear Solid V: The Definitive Experience\", \"Year\": 2016.0, \"Genre\": \"Action\", \"Publisher\": \"Konami Digital Entertainment\", \"North America\": 0.13, \"Europe\": 0.08, \"Japan\": 0.03, \"Rest of World\": 0.04, \"Global\": 0.29}, {\"Game\": \"Star Trek Bridge Crew VR\", \"Year\": 2017.0, \"Genre\": \"Action\", \"Publisher\": \"Ubisoft\", \"North America\": 0.11, \"Europe\": 0.12, \"Japan\": 0.0, \"Rest of World\": 0.05, \"Global\": 0.28}, {\"Game\": \"The Heavy Rain and Beyond: Two Souls Collection\", \"Year\": 2016.0, \"Genre\": \"Action\", \"Publisher\": \"Sony Computer Entertainment\", \"North America\": 0.0, \"Europe\": 0.24, \"Japan\": 0.0, \"Rest of World\": 0.04, \"Global\": 0.28}, {\"Game\": \"Onechanbara Z2: Chaos\", \"Year\": 2014.0, \"Genre\": \"Action\", \"Publisher\": \"NIS America\", \"North America\": 0.16, \"Europe\": 0.03, \"Japan\": 0.05, \"Rest of World\": 0.04, \"Global\": 0.28}, {\"Game\": \"Gundam Versus\", \"Year\": 2017.0, \"Genre\": \"Action\", \"Publisher\": \"Namco Bandai Games\", \"North America\": 0.08, \"Europe\": 0.0, \"Japan\": 0.18, \"Rest of World\": 0.02, \"Global\": 0.28}, {\"Game\": \"Bravo Team VR\", \"Year\": 2018.0, \"Genre\": \"Shooter\", \"Publisher\": \"Sony Interactive Entertainment\", \"North America\": 0.12, \"Europe\": 0.09, \"Japan\": 0.02, \"Rest of World\": 0.04, \"Global\": 0.27}, {\"Game\": \"Killing Floor 2\\u00ca\", \"Year\": 2016.0, \"Genre\": \"Shooter\", \"Publisher\": \"Tripwire Interactive\", \"North America\": 0.19, \"Europe\": 0.03, \"Japan\": 0.0, \"Rest of World\": 0.05, \"Global\": 0.27}, {\"Game\": \"Fate/Extella: The Umbral Star\", \"Year\": 2016.0, \"Genre\": \"Action\", \"Publisher\": \"PQube\", \"North America\": 0.12, \"Europe\": 0.0, \"Japan\": 0.12, \"Rest of World\": 0.03, \"Global\": 0.27}, {\"Game\": \"Darksiders III\", \"Year\": 2018.0, \"Genre\": \"Action\", \"Publisher\": \"THQ Nordic\", \"North America\": 0.13, \"Europe\": 0.07, \"Japan\": 0.0, \"Rest of World\": 0.04, \"Global\": 0.25}, {\"Game\": \"The Escapists 2\", \"Year\": 2017.0, \"Genre\": \"Action\", \"Publisher\": \"Sold Out\", \"North America\": 0.04, \"Europe\": 0.16, \"Japan\": 0.0, \"Rest of World\": 0.04, \"Global\": 0.24}, {\"Game\": \"Transformers: Devastation\", \"Year\": 2015.0, \"Genre\": \"Action\", \"Publisher\": \"Activision\", \"North America\": 0.11, \"Europe\": 0.09, \"Japan\": 0.0, \"Rest of World\": 0.04, \"Global\": 0.24}, {\"Game\": \"theHunter: Call of the Wild\", \"Year\": 2017.0, \"Genre\": \"Shooter\", \"Publisher\": \"Astragon\", \"North America\": 0.19, \"Europe\": 0.0, \"Japan\": 0.0, \"Rest of World\": 0.04, \"Global\": 0.24}, {\"Game\": \"RIGS: Mechanized Combat League\", \"Year\": 2016.0, \"Genre\": \"Action\", \"Publisher\": \"Sony Interactive Entertainment\", \"North America\": 0.11, \"Europe\": 0.06, \"Japan\": 0.02, \"Rest of World\": 0.04, \"Global\": 0.23}, {\"Game\": \"Transformer: Rise of the Dark Spark\", \"Year\": 2014.0, \"Genre\": \"Shooter\", \"Publisher\": \"Activision\", \"North America\": 0.08, \"Europe\": 0.11, \"Japan\": 0.01, \"Rest of World\": 0.04, \"Global\": 0.23}, {\"Game\": \"Dead Island Definitive Collection\", \"Year\": 2016.0, \"Genre\": \"Action\", \"Publisher\": \"Deep Silver\", \"North America\": 0.09, \"Europe\": 0.08, \"Japan\": 0.03, \"Rest of World\": 0.03, \"Global\": 0.23}, {\"Game\": \"Metal Gear Survive\", \"Year\": 2018.0, \"Genre\": \"Action\", \"Publisher\": \"Konami Digital Entertainment\", \"North America\": 0.08, \"Europe\": 0.06, \"Japan\": 0.05, \"Rest of World\": 0.03, \"Global\": 0.23}, {\"Game\": \"Dead by Daylight\", \"Year\": 2017.0, \"Genre\": \"Action\", \"Publisher\": \"505 Games\", \"North America\": 0.11, \"Europe\": 0.06, \"Japan\": 0.02, \"Rest of World\": 0.04, \"Global\": 0.22}, {\"Game\": \"Attack on Titan 2\", \"Year\": 2018.0, \"Genre\": \"Action\", \"Publisher\": \"Koei Tecmo\", \"North America\": 0.09, \"Europe\": 0.04, \"Japan\": 0.06, \"Rest of World\": 0.03, \"Global\": 0.22}, {\"Game\": \"Bladestorm: Nightmare\", \"Year\": 2015.0, \"Genre\": \"Action\", \"Publisher\": \"Tecmo Koei\", \"North America\": 0.11, \"Europe\": 0.04, \"Japan\": 0.03, \"Rest of World\": 0.03, \"Global\": 0.22}, {\"Game\": \"Zombie Army Trilogy\", \"Year\": 2015.0, \"Genre\": \"Shooter\", \"Publisher\": \"Rebellion Developments\", \"North America\": 0.06, \"Europe\": 0.13, \"Japan\": 0.0, \"Rest of World\": 0.03, \"Global\": 0.22}, {\"Game\": \"Outlast Trinity\", \"Year\": 2017.0, \"Genre\": \"Action\", \"Publisher\": \"Warner Bros. Interactive Entertainment\", \"North America\": 0.09, \"Europe\": 0.09, \"Japan\": 0.0, \"Rest of World\": 0.04, \"Global\": 0.22}, {\"Game\": \"EVE: Valkyrie\", \"Year\": 2016.0, \"Genre\": \"Shooter\", \"Publisher\": \"Sony Interactive Entertainment\", \"North America\": 0.11, \"Europe\": 0.06, \"Japan\": 0.0, \"Rest of World\": 0.04, \"Global\": 0.21}, {\"Game\": \"Senran Kagura: Peach Beach Splash\", \"Year\": 2017.0, \"Genre\": \"Action\", \"Publisher\": \"PQube\", \"North America\": 0.09, \"Europe\": 0.02, \"Japan\": 0.08, \"Rest of World\": 0.02, \"Global\": 0.21}, {\"Game\": \"Bound By Flame\", \"Year\": 2014.0, \"Genre\": \"Action\", \"Publisher\": \"Focus Home Interactive\", \"North America\": 0.08, \"Europe\": 0.09, \"Japan\": 0.0, \"Rest of World\": 0.04, \"Global\": 0.21}, {\"Game\": \"7 Days to Die\", \"Year\": 2016.0, \"Genre\": \"Action\", \"Publisher\": \"Telltale Games\", \"North America\": 0.09, \"Europe\": 0.08, \"Japan\": 0.0, \"Rest of World\": 0.03, \"Global\": 0.21}, {\"Game\": \"Godzilla (2015)\", \"Year\": 2014.0, \"Genre\": \"Action\", \"Publisher\": \"Namco Bandai Games\", \"North America\": 0.11, \"Europe\": 0.03, \"Japan\": 0.03, \"Rest of World\": 0.03, \"Global\": 0.2}, {\"Game\": \"Agents of Mayhem\", \"Year\": 2017.0, \"Genre\": \"Action\", \"Publisher\": \"Deep Silver\", \"North America\": 0.08, \"Europe\": 0.08, \"Japan\": 0.0, \"Rest of World\": 0.03, \"Global\": 0.2}, {\"Game\": \"Toukiden Kiwami\", \"Year\": 2015.0, \"Genre\": \"Action\", \"Publisher\": \"Tecmo Koei\", \"North America\": 0.06, \"Europe\": 0.07, \"Japan\": 0.03, \"Rest of World\": 0.03, \"Global\": 0.19}, {\"Game\": \"The Surge\", \"Year\": 2017.0, \"Genre\": \"Action\", \"Publisher\": \"Koch Media\", \"North America\": 0.07, \"Europe\": 0.08, \"Japan\": 0.01, \"Rest of World\": 0.03, \"Global\": 0.19}, {\"Game\": \"Resident Evil: Revelations\", \"Year\": 2017.0, \"Genre\": \"Action\", \"Publisher\": \"Capcom\", \"North America\": 0.06, \"Europe\": 0.06, \"Japan\": 0.04, \"Rest of World\": 0.02, \"Global\": 0.18}, {\"Game\": \"Senran Kagura: Estival Versus\", \"Year\": 2015.0, \"Genre\": \"Action\", \"Publisher\": \"Marvelous Interactive\", \"North America\": 0.08, \"Europe\": 0.0, \"Japan\": 0.09, \"Rest of World\": 0.02, \"Global\": 0.18}, {\"Game\": \"Resident Evil 6\", \"Year\": 2016.0, \"Genre\": \"Shooter\", \"Publisher\": \"Capcom\", \"North America\": 0.1, \"Europe\": 0.0, \"Japan\": 0.05, \"Rest of World\": 0.02, \"Global\": 0.17}, {\"Game\": \"Prototype: Biohazard Bundle\", \"Year\": 2016.0, \"Genre\": \"Action\", \"Publisher\": \"Activision\", \"North America\": 0.14, \"Europe\": 0.0, \"Japan\": 0.0, \"Rest of World\": 0.03, \"Global\": 0.17}, {\"Game\": \"Battlezone\", \"Year\": 2016.0, \"Genre\": \"Action\", \"Publisher\": \"Sony Interactive Entertainment\", \"North America\": 0.09, \"Europe\": 0.04, \"Japan\": 0.0, \"Rest of World\": 0.03, \"Global\": 0.16}, {\"Game\": \"Berserk and the Band of the Hawk\", \"Year\": 2016.0, \"Genre\": \"Action\", \"Publisher\": \"Tecmo Koei\", \"North America\": 0.07, \"Europe\": 0.02, \"Japan\": 0.05, \"Rest of World\": 0.02, \"Global\": 0.16}, {\"Game\": \"Warriors Orochi 3\", \"Year\": 2014.0, \"Genre\": \"Action\", \"Publisher\": \"Tecmo Koei\", \"North America\": 0.04, \"Europe\": 0.05, \"Japan\": 0.04, \"Rest of World\": 0.02, \"Global\": 0.15}, {\"Game\": \"Toukiden 2\", \"Year\": 2016.0, \"Genre\": \"Action\", \"Publisher\": \"Tecmo Koei\", \"North America\": 0.04, \"Europe\": 0.0, \"Japan\": 0.1, \"Rest of World\": 0.01, \"Global\": 0.15}, {\"Game\": \"Song of the Deep\", \"Year\": 2016.0, \"Genre\": \"Action\", \"Publisher\": \"Insomniac Games\", \"North America\": 0.12, \"Europe\": 0.0, \"Japan\": 0.0, \"Rest of World\": 0.03, \"Global\": 0.15}, {\"Game\": \"Arslan: The Warriors of Legend\", \"Year\": 2016.0, \"Genre\": \"Action\", \"Publisher\": \"Tecmo Koei\", \"North America\": 0.03, \"Europe\": 0.04, \"Japan\": 0.06, \"Rest of World\": 0.01, \"Global\": 0.14}, {\"Game\": \"Adventure Time: Finn & Jake Investigations\", \"Year\": 2015.0, \"Genre\": \"Action\", \"Publisher\": \"Little Orbit\", \"North America\": 0.07, \"Europe\": 0.05, \"Japan\": 0.0, \"Rest of World\": 0.02, \"Global\": 0.14}, {\"Game\": \"Samurai Warriors 4-II\", \"Year\": 2015.0, \"Genre\": \"Action\", \"Publisher\": \"Tecmo Koei\", \"North America\": 0.04, \"Europe\": 0.02, \"Japan\": 0.07, \"Rest of World\": 0.01, \"Global\": 0.13}, {\"Game\": \"Bulletstorm: Full Clip Edition\", \"Year\": 2017.0, \"Genre\": \"Shooter\", \"Publisher\": \"Gearbox Software\", \"North America\": 0.05, \"Europe\": 0.06, \"Japan\": 0.0, \"Rest of World\": 0.02, \"Global\": 0.13}, {\"Game\": \"Akiba's Trip 2\", \"Year\": 2014.0, \"Genre\": \"Action\", \"Publisher\": \"Acquire\", \"North America\": 0.09, \"Europe\": 0.0, \"Japan\": 0.02, \"Rest of World\": 0.02, \"Global\": 0.13}, {\"Game\": \"The Inpatient\", \"Year\": 2018.0, \"Genre\": \"Action\", \"Publisher\": \"Sony Interactive Entertainment\", \"North America\": 0.06, \"Europe\": 0.05, \"Japan\": 0.0, \"Rest of World\": 0.02, \"Global\": 0.13}, {\"Game\": \"Teenage Mutant Ninja Turtles: Mutants in Manhattan\", \"Year\": 2016.0, \"Genre\": \"Action\", \"Publisher\": \"Activision\", \"North America\": 0.07, \"Europe\": 0.03, \"Japan\": 0.0, \"Rest of World\": 0.02, \"Global\": 0.12}, {\"Game\": \"Samurai Warriors 4: Empires\", \"Year\": 2015.0, \"Genre\": \"Action\", \"Publisher\": \"Tecmo Koei\", \"North America\": 0.03, \"Europe\": 0.01, \"Japan\": 0.07, \"Rest of World\": 0.01, \"Global\": 0.12}, {\"Game\": \"Gundam Breaker 3\", \"Year\": 2016.0, \"Genre\": \"Action\", \"Publisher\": \"Namco Bandai Games\", \"North America\": 0.0, \"Europe\": 0.0, \"Japan\": 0.11, \"Rest of World\": 0.0, \"Global\": 0.11}, {\"Game\": \"Earth Defense Force 2025.1: The Shadow of New Despair\", \"Year\": 2015.0, \"Genre\": \"Shooter\", \"Publisher\": \"D3Publisher\", \"North America\": 0.0, \"Europe\": 0.0, \"Japan\": 0.11, \"Rest of World\": 0.0, \"Global\": 0.11}, {\"Game\": \"Shadow Warrior (2013)\", \"Year\": 2014.0, \"Genre\": \"Shooter\", \"Publisher\": \"Devolver Digital\", \"North America\": 0.0, \"Europe\": 0.09, \"Japan\": 0.0, \"Rest of World\": 0.02, \"Global\": 0.11}, {\"Game\": \"Assassin's Creed Chronicles\", \"Year\": 2016.0, \"Genre\": \"Action\", \"Publisher\": \"Ubisoft\", \"North America\": 0.02, \"Europe\": 0.05, \"Japan\": 0.02, \"Rest of World\": 0.01, \"Global\": 0.11}, {\"Game\": \"Pac-Man Championship Edition 2 + Arcade Game Series\", \"Year\": 2017.0, \"Genre\": \"Action\", \"Publisher\": \"Namco Bandai Games\", \"North America\": 0.08, \"Europe\": 0.0, \"Japan\": 0.0, \"Rest of World\": 0.02, \"Global\": 0.1}, {\"Game\": \"Romance of the Three Kingdoms 13\", \"Year\": 2015.0, \"Genre\": \"Action\", \"Publisher\": \"Tecmo Koei\", \"North America\": 0.03, \"Europe\": 0.0, \"Japan\": 0.06, \"Rest of World\": 0.01, \"Global\": 0.1}, {\"Game\": \"Musou Stars\", \"Year\": 2017.0, \"Genre\": \"Action\", \"Publisher\": \"Tecmo Koei\", \"North America\": 0.03, \"Europe\": 0.0, \"Japan\": 0.06, \"Rest of World\": 0.01, \"Global\": 0.1}, {\"Game\": \"Mega Man Legacy Collection 2\", \"Year\": 2017.0, \"Genre\": \"Action\", \"Publisher\": \"Capcom\", \"North America\": 0.06, \"Europe\": 0.0, \"Japan\": 0.02, \"Rest of World\": 0.01, \"Global\": 0.1}, {\"Game\": \"Devil May Cry 4\", \"Year\": 2015.0, \"Genre\": \"Action\", \"Publisher\": \"Capcom\", \"North America\": 0.01, \"Europe\": 0.0, \"Japan\": 0.09, \"Rest of World\": 0.0, \"Global\": 0.1}, {\"Game\": \"Accel World vs. Sword Art Online: Millennium Twilight\", \"Year\": 2017.0, \"Genre\": \"Action\", \"Publisher\": \"Namco Bandai Games\", \"North America\": 0.0, \"Europe\": 0.03, \"Japan\": 0.06, \"Rest of World\": 0.01, \"Global\": 0.1}, {\"Game\": \"Wolfenstein The Two Pack\", \"Year\": 2017.0, \"Genre\": \"Shooter\", \"Publisher\": \"Bethesda Softworks\", \"North America\": 0.08, \"Europe\": 0.0, \"Japan\": 0.0, \"Rest of World\": 0.02, \"Global\": 0.1}, {\"Game\": \"Nights of Azure 2\", \"Year\": 2017.0, \"Genre\": \"Action\", \"Publisher\": \"Tecmo Koei\", \"North America\": 0.04, \"Europe\": 0.0, \"Japan\": 0.04, \"Rest of World\": 0.01, \"Global\": 0.09}, {\"Game\": \"Nights of Azure\", \"Year\": 2015.0, \"Genre\": \"Action\", \"Publisher\": \"Tecmo Koei\", \"North America\": 0.04, \"Europe\": 0.04, \"Japan\": 0.0, \"Rest of World\": 0.02, \"Global\": 0.09}, {\"Game\": \"Toy Soldiers: War Chest\", \"Year\": 2015.0, \"Genre\": \"Action\", \"Publisher\": \"Ubisoft\", \"North America\": 0.07, \"Europe\": 0.0, \"Japan\": 0.0, \"Rest of World\": 0.02, \"Global\": 0.09}, {\"Game\": \"God Eater Resurrection\", \"Year\": 2015.0, \"Genre\": \"Action\", \"Publisher\": \"Namco Bandai Games\", \"North America\": 0.0, \"Europe\": 0.0, \"Japan\": 0.09, \"Rest of World\": 0.0, \"Global\": 0.09}, {\"Game\": \"Paragon\", \"Year\": 2016.0, \"Genre\": \"Action\", \"Publisher\": \"Sony Interactive Entertainment\", \"North America\": 0.07, \"Europe\": 0.0, \"Japan\": 0.0, \"Rest of World\": 0.02, \"Global\": 0.09}, {\"Game\": \"Duke Nukem 3D: 20th Anniversary World Tour\", \"Year\": 2016.0, \"Genre\": \"Shooter\", \"Publisher\": \"Gearbox Software\", \"North America\": 0.07, \"Europe\": 0.0, \"Japan\": 0.0, \"Rest of World\": 0.02, \"Global\": 0.09}, {\"Game\": \"Lara Croft and the Temple of Osiris\", \"Year\": 2014.0, \"Genre\": \"Action\", \"Publisher\": \"Square Enix\", \"North America\": 0.0, \"Europe\": 0.07, \"Japan\": 0.0, \"Rest of World\": 0.01, \"Global\": 0.09}, {\"Game\": \"Ghostbusters (2016)\", \"Year\": 2016.0, \"Genre\": \"Action\", \"Publisher\": \"Activision\", \"North America\": 0.07, \"Europe\": 0.0, \"Japan\": 0.0, \"Rest of World\": 0.02, \"Global\": 0.08}, {\"Game\": \"Earth Defense Force 4.1: The Shadow of New Despair\", \"Year\": 2015.0, \"Genre\": \"Shooter\", \"Publisher\": \"PQube\", \"North America\": 0.05, \"Europe\": 0.02, \"Japan\": 0.0, \"Rest of World\": 0.01, \"Global\": 0.08}, {\"Game\": \"Legend of Kay\", \"Year\": 2015.0, \"Genre\": \"Action\", \"Publisher\": \"Nordic Games\", \"North America\": 0.03, \"Europe\": 0.03, \"Japan\": 0.0, \"Rest of World\": 0.01, \"Global\": 0.08}, {\"Game\": \"Dead Rising\", \"Year\": 2016.0, \"Genre\": \"Action\", \"Publisher\": \"Capcom\", \"North America\": 0.04, \"Europe\": 0.0, \"Japan\": 0.02, \"Rest of World\": 0.01, \"Global\": 0.08}, {\"Game\": \"Akiba's Beat\", \"Year\": 2016.0, \"Genre\": \"Action\", \"Publisher\": \"PQube\", \"North America\": 0.05, \"Europe\": 0.0, \"Japan\": 0.01, \"Rest of World\": 0.01, \"Global\": 0.08}, {\"Game\": \"Resident Evil 5 HD\", \"Year\": 2016.0, \"Genre\": \"Action\", \"Publisher\": \"Capcom\", \"North America\": 0.05, \"Europe\": 0.0, \"Japan\": 0.01, \"Rest of World\": 0.01, \"Global\": 0.07}, {\"Game\": \"Samurai Warriors: Sanada Maru\", \"Year\": 2016.0, \"Genre\": \"Action\", \"Publisher\": \"Tecmo Koei\", \"North America\": 0.02, \"Europe\": 0.0, \"Japan\": 0.05, \"Rest of World\": 0.01, \"Global\": 0.07}, {\"Game\": \"Has-Been Heroes\", \"Year\": 2017.0, \"Genre\": \"Action\", \"Publisher\": \"GameTrust\", \"North America\": 0.06, \"Europe\": 0.0, \"Japan\": 0.0, \"Rest of World\": 0.01, \"Global\": 0.07}, {\"Game\": \"Styx: Shards of Darknes\", \"Year\": 2017.0, \"Genre\": \"Action\", \"Publisher\": \"Focus Home Interactive\", \"North America\": 0.06, \"Europe\": 0.0, \"Japan\": 0.0, \"Rest of World\": 0.01, \"Global\": 0.07}, {\"Game\": \"Dead Rising 2\", \"Year\": 2016.0, \"Genre\": \"Action\", \"Publisher\": \"Capcom\", \"North America\": 0.04, \"Europe\": 0.0, \"Japan\": 0.02, \"Rest of World\": 0.01, \"Global\": 0.07}, {\"Game\": \"Touhou Genso Rondo: Bullet Ballet\", \"Year\": 2016.0, \"Genre\": \"Shooter\", \"Publisher\": \"NIS America\", \"North America\": 0.06, \"Europe\": 0.0, \"Japan\": 0.0, \"Rest of World\": 0.01, \"Global\": 0.07}, {\"Game\": \"Hunting Simulator\", \"Year\": 2017.0, \"Genre\": \"Shooter\", \"Publisher\": \"Bigben Interactive\", \"North America\": 0.06, \"Europe\": 0.0, \"Japan\": 0.0, \"Rest of World\": 0.01, \"Global\": 0.07}, {\"Game\": \"Kamen Rider: Battride War Genesis\", \"Year\": 2016.0, \"Genre\": \"Action\", \"Publisher\": \"Namco Bandai Games\", \"North America\": 0.0, \"Europe\": 0.0, \"Japan\": 0.07, \"Rest of World\": 0.0, \"Global\": 0.07}, {\"Game\": \"SG/ZH: School Girl/Zombie Hunter\", \"Year\": 2017.0, \"Genre\": \"Action\", \"Publisher\": \"Aksys Games\", \"North America\": 0.04, \"Europe\": 0.0, \"Japan\": 0.02, \"Rest of World\": 0.01, \"Global\": 0.07}, {\"Game\": \"Terraria\", \"Year\": 2014.0, \"Genre\": \"Action\", \"Publisher\": \"505 Games\", \"North America\": 0.0, \"Europe\": 0.05, \"Japan\": 0.01, \"Rest of World\": 0.01, \"Global\": 0.07}, {\"Game\": \"Warhammer: The End Times - Vermintide\", \"Year\": 2016.0, \"Genre\": \"Action\", \"Publisher\": \"Games Workshop\", \"North America\": 0.03, \"Europe\": 0.03, \"Japan\": 0.0, \"Rest of World\": 0.01, \"Global\": 0.07}, {\"Game\": \"Legend of Kay Anniversary\", \"Year\": 2015.0, \"Genre\": \"Action\", \"Publisher\": \"Nordic Games\", \"North America\": 0.0, \"Europe\": 0.06, \"Japan\": 0.0, \"Rest of World\": 0.01, \"Global\": 0.07}, {\"Game\": \"ZombiU\", \"Year\": 2016.0, \"Genre\": \"Action\", \"Publisher\": \"Ubisoft\", \"North America\": 0.0, \"Europe\": 0.04, \"Japan\": 0.01, \"Rest of World\": 0.01, \"Global\": 0.07}, {\"Game\": \"Deformers\", \"Year\": 2017.0, \"Genre\": \"Action\", \"Publisher\": \"Ready at Dawn\", \"North America\": 0.05, \"Europe\": 0.0, \"Japan\": 0.0, \"Rest of World\": 0.01, \"Global\": 0.06}, {\"Game\": \"Yomawari: Midnight Shadows\", \"Year\": 2017.0, \"Genre\": \"Action\", \"Publisher\": \"NIS America\", \"North America\": 0.02, \"Europe\": 0.0, \"Japan\": 0.04, \"Rest of World\": 0.0, \"Global\": 0.06}, {\"Game\": \"Cartoon Network Battle Crashers\", \"Year\": 2016.0, \"Genre\": \"Action\", \"Publisher\": \"Maximum Games\", \"North America\": 0.05, \"Europe\": 0.0, \"Japan\": 0.0, \"Rest of World\": 0.01, \"Global\": 0.06}, {\"Game\": \"Extinction\", \"Year\": 2018.0, \"Genre\": \"Action\", \"Publisher\": \"Maximum Games\", \"North America\": 0.05, \"Europe\": 0.0, \"Japan\": 0.0, \"Rest of World\": 0.01, \"Global\": 0.06}, {\"Game\": \"Sine Mora\", \"Year\": 2017.0, \"Genre\": \"Action\", \"Publisher\": \"THQ Nordic\", \"North America\": 0.03, \"Europe\": 0.01, \"Japan\": 0.0, \"Rest of World\": 0.01, \"Global\": 0.06}, {\"Game\": \"Touhou Genso Wanderer\", \"Year\": 2017.0, \"Genre\": \"Action\", \"Publisher\": \"NIS America\", \"North America\": 0.04, \"Europe\": 0.0, \"Japan\": 0.0, \"Rest of World\": 0.01, \"Global\": 0.05}, {\"Game\": \"Starblood Arena VR\", \"Year\": 2017.0, \"Genre\": \"Shooter\", \"Publisher\": \"Sony Interactive Entertainment\", \"North America\": 0.04, \"Europe\": 0.0, \"Japan\": 0.0, \"Rest of World\": 0.01, \"Global\": 0.05}, {\"Game\": \"Saints Row: Gat out of Hell\", \"Year\": 2015.0, \"Genre\": \"Action\", \"Publisher\": \"Deep Silver\", \"North America\": 0.0, \"Europe\": 0.04, \"Japan\": 0.0, \"Rest of World\": 0.01, \"Global\": 0.05}, {\"Game\": \"Sengoku Basara: Sanada Yukimura-Den\", \"Year\": 2016.0, \"Genre\": \"Action\", \"Publisher\": \"Capcom\", \"North America\": 0.0, \"Europe\": 0.0, \"Japan\": 0.05, \"Rest of World\": 0.0, \"Global\": 0.05}, {\"Game\": \"Sengoku Basara 4: Sumeragi\", \"Year\": 2015.0, \"Genre\": \"Action\", \"Publisher\": \"Capcom\", \"North America\": 0.0, \"Europe\": 0.0, \"Japan\": 0.05, \"Rest of World\": 0.0, \"Global\": 0.05}, {\"Game\": \"Assault Suit Leynos\", \"Year\": 2016.0, \"Genre\": \"Shooter\", \"Publisher\": \"Rising Star Games\", \"North America\": 0.04, \"Europe\": 0.0, \"Japan\": 0.0, \"Rest of World\": 0.01, \"Global\": 0.05}, {\"Game\": \"Overcooked\", \"Year\": 2016.0, \"Genre\": \"Action\", \"Publisher\": \"Sold Out\", \"North America\": 0.04, \"Europe\": 0.0, \"Japan\": 0.0, \"Rest of World\": 0.01, \"Global\": 0.05}, {\"Game\": \"Ben 10 (2017)\", \"Year\": 2017.0, \"Genre\": \"Action\", \"Publisher\": \"Outright Games\", \"North America\": 0.04, \"Europe\": 0.0, \"Japan\": 0.0, \"Rest of World\": 0.01, \"Global\": 0.05}, {\"Game\": \"Dead Alliance\", \"Year\": 2017.0, \"Genre\": \"Shooter\", \"Publisher\": \"Maximum Games\", \"North America\": 0.04, \"Europe\": 0.0, \"Japan\": 0.0, \"Rest of World\": 0.01, \"Global\": 0.04}, {\"Game\": \"Deer Hunter Reloaded\", \"Year\": 2017.0, \"Genre\": \"Shooter\", \"Publisher\": \"Maximum Games\", \"North America\": 0.04, \"Europe\": 0.0, \"Japan\": 0.0, \"Rest of World\": 0.01, \"Global\": 0.04}, {\"Game\": \"Raid: World War II\", \"Year\": 2017.0, \"Genre\": \"Shooter\", \"Publisher\": \"505 Games\", \"North America\": 0.04, \"Europe\": 0.0, \"Japan\": 0.0, \"Rest of World\": 0.01, \"Global\": 0.04}, {\"Game\": \"Vikings: Wolves of Midgard\", \"Year\": 2017.0, \"Genre\": \"Action\", \"Publisher\": \"Kalypso Media\", \"North America\": 0.03, \"Europe\": 0.01, \"Japan\": 0.0, \"Rest of World\": 0.01, \"Global\": 0.04}, {\"Game\": \"Anima - Gate of Memories\", \"Year\": 2016.0, \"Genre\": \"Action\", \"Publisher\": \"Avanquest\", \"North America\": 0.01, \"Europe\": 0.02, \"Japan\": 0.0, \"Rest of World\": 0.01, \"Global\": 0.04}, {\"Game\": \"Axiom Verge\", \"Year\": 2017.0, \"Genre\": \"Action\", \"Publisher\": \"Badland Studio\", \"North America\": 0.03, \"Europe\": 0.0, \"Japan\": 0.0, \"Rest of World\": 0.01, \"Global\": 0.04}, {\"Game\": \"Unbox: Newbie's Adventure\", \"Year\": 2017.0, \"Genre\": \"Action\", \"Publisher\": \"Merge Games\", \"North America\": 0.03, \"Europe\": 0.0, \"Japan\": 0.0, \"Rest of World\": 0.01, \"Global\": 0.04}, {\"Game\": \"Aragami\", \"Year\": 2016.0, \"Genre\": \"Action\", \"Publisher\": \"Maximum Games\", \"North America\": 0.03, \"Europe\": 0.0, \"Japan\": 0.0, \"Rest of World\": 0.01, \"Global\": 0.04}, {\"Game\": \"Yonder: The Cloud Catcher Chronicles\", \"Year\": 2017.0, \"Genre\": \"Action\", \"Publisher\": \"CokeM Interactive\", \"North America\": 0.03, \"Europe\": 0.0, \"Japan\": 0.0, \"Rest of World\": 0.01, \"Global\": 0.04}, {\"Game\": \"Danganronpa Another Episode: Ultra Despair Girls\", \"Year\": 2017.0, \"Genre\": \"Shooter\", \"Publisher\": \"NIS America\", \"North America\": 0.03, \"Europe\": 0.0, \"Japan\": 0.01, \"Rest of World\": 0.01, \"Global\": 0.04}, {\"Game\": \"Aegis of Earth: Protonovus Assault\", \"Year\": 2016.0, \"Genre\": \"Action\", \"Publisher\": \"PQube\", \"North America\": 0.03, \"Europe\": 0.01, \"Japan\": 0.0, \"Rest of World\": 0.01, \"Global\": 0.04}, {\"Game\": \"Resident Evil: Umbrella Corps\", \"Year\": 2016.0, \"Genre\": \"Shooter\", \"Publisher\": \"Capcom\", \"North America\": 0.0, \"Europe\": 0.0, \"Japan\": 0.04, \"Rest of World\": 0.0, \"Global\": 0.04}, {\"Game\": \"Infamous: First Light\", \"Year\": 2014.0, \"Genre\": \"Action\", \"Publisher\": \"Sony Computer Entertainment\", \"North America\": 0.0, \"Europe\": 0.03, \"Japan\": 0.0, \"Rest of World\": 0.0, \"Global\": 0.03}, {\"Game\": \"Raiden V\", \"Year\": 2017.0, \"Genre\": \"Action\", \"Publisher\": \"UFO Interactive\", \"North America\": 0.02, \"Europe\": 0.0, \"Japan\": 0.0, \"Rest of World\": 0.01, \"Global\": 0.03}, {\"Game\": \"Dragon's Dogma Online: Season 2\", \"Year\": 2016.0, \"Genre\": \"Action\", \"Publisher\": \"Capcom\", \"North America\": 0.0, \"Europe\": 0.0, \"Japan\": 0.03, \"Rest of World\": 0.0, \"Global\": 0.03}, {\"Game\": \"Coven and Labyrinth of Refrain\", \"Year\": 2017.0, \"Genre\": \"Action\", \"Publisher\": \"Nippon Ichi Software\", \"North America\": 0.01, \"Europe\": 0.0, \"Japan\": 0.01, \"Rest of World\": 0.0, \"Global\": 0.03}, {\"Game\": \"Super Dungeon Bros\", \"Year\": 2016.0, \"Genre\": \"Action\", \"Publisher\": \"Wired Productions\", \"North America\": 0.02, \"Europe\": 0.0, \"Japan\": 0.0, \"Rest of World\": 0.01, \"Global\": 0.03}, {\"Game\": \"Troll and I\", \"Year\": 2017.0, \"Genre\": \"Action\", \"Publisher\": \"Maximum Games\", \"North America\": 0.02, \"Europe\": 0.0, \"Japan\": 0.0, \"Rest of World\": 0.01, \"Global\": 0.03}, {\"Game\": \"The Lost Child\", \"Year\": 2017.0, \"Genre\": \"Action\", \"Publisher\": \"Kadokawa Games\", \"North America\": 0.01, \"Europe\": 0.0, \"Japan\": 0.01, \"Rest of World\": 0.0, \"Global\": 0.03}, {\"Game\": \"Crows: Burning Edge\", \"Year\": 2016.0, \"Genre\": \"Action\", \"Publisher\": \"Namco Bandai Games\", \"North America\": 0.0, \"Europe\": 0.0, \"Japan\": 0.03, \"Rest of World\": 0.0, \"Global\": 0.03}, {\"Game\": \"Geometry Wars 3: Dimensions Evolved\", \"Year\": 2016.0, \"Genre\": \"Action\", \"Publisher\": \"Activision\", \"North America\": 0.02, \"Europe\": 0.0, \"Japan\": 0.0, \"Rest of World\": 0.01, \"Global\": 0.03}, {\"Game\": \"ClaDun Sengoku\", \"Year\": 2017.0, \"Genre\": \"Action\", \"Publisher\": \"NIS America\", \"North America\": 0.02, \"Europe\": 0.0, \"Japan\": 0.0, \"Rest of World\": 0.0, \"Global\": 0.03}, {\"Game\": \"Touhou Kobuto V: Burst Battle\", \"Year\": 2017.0, \"Genre\": \"Shooter\", \"Publisher\": \"NIS America\", \"North America\": 0.02, \"Europe\": 0.0, \"Japan\": 0.0, \"Rest of World\": 0.0, \"Global\": 0.03}, {\"Game\": \"God Eater Off Shot: Soma Shikkuzaru-hen Twin Pack & Animation Vol.4\", \"Year\": 2016.0, \"Genre\": \"Action\", \"Publisher\": \"Namco Bandai Games\", \"North America\": 0.0, \"Europe\": 0.0, \"Japan\": 0.02, \"Rest of World\": 0.0, \"Global\": 0.02}, {\"Game\": \"Super Stardust Ultra VR\", \"Year\": 2016.0, \"Genre\": \"Shooter\", \"Publisher\": \"Sony Interactive Entertainment\", \"North America\": 0.0, \"Europe\": 0.02, \"Japan\": 0.0, \"Rest of World\": 0.0, \"Global\": 0.02}, {\"Game\": \"God Eater Off Shot: Tachibana Sakuya-hen Twin Pack & Animation Vol.7\", \"Year\": 2016.0, \"Genre\": \"Action\", \"Publisher\": \"Namco Bandai Games\", \"North America\": 0.0, \"Europe\": 0.0, \"Japan\": 0.02, \"Rest of World\": 0.0, \"Global\": 0.02}, {\"Game\": \"Earth's Dawn\", \"Year\": 2016.0, \"Genre\": \"Action\", \"Publisher\": \"Rising Star Games\", \"North America\": 0.02, \"Europe\": 0.0, \"Japan\": 0.0, \"Rest of World\": 0.0, \"Global\": 0.02}, {\"Game\": \"Big Buck Hunter Arcade\", \"Year\": 2016.0, \"Genre\": \"Shooter\", \"Publisher\": \"GameMill Entertainment\", \"North America\": 0.02, \"Europe\": 0.0, \"Japan\": 0.0, \"Rest of World\": 0.0, \"Global\": 0.02}, {\"Game\": \"Carmageddon: Max Damage\", \"Year\": 2016.0, \"Genre\": \"Action\", \"Publisher\": \"Stainless Games\", \"North America\": 0.02, \"Europe\": 0.0, \"Japan\": 0.0, \"Rest of World\": 0.0, \"Global\": 0.02}, {\"Game\": \"Shaq-Fu: A Legend Reborn\", \"Year\": 2018.0, \"Genre\": \"Action\", \"Publisher\": \"Wired Productions\", \"North America\": 0.02, \"Europe\": 0.0, \"Japan\": 0.0, \"Rest of World\": 0.0, \"Global\": 0.02}, {\"Game\": \"Monster Hunter Frontier Z: Beginner's Package\", \"Year\": 2016.0, \"Genre\": \"Action\", \"Publisher\": \"Capcom\", \"North America\": 0.0, \"Europe\": 0.0, \"Japan\": 0.02, \"Rest of World\": 0.0, \"Global\": 0.02}, {\"Game\": \"Professional Farmer 2016\", \"Year\": 2015.0, \"Genre\": \"Action\", \"Publisher\": \"Namco Bandai Games\", \"North America\": 0.0, \"Europe\": 0.02, \"Japan\": 0.0, \"Rest of World\": 0.0, \"Global\": 0.02}, {\"Game\": \"Natsuiro High School: Seishun Hakusho\", \"Year\": 2015.0, \"Genre\": \"Action\", \"Publisher\": \"D3Publisher\", \"North America\": 0.0, \"Europe\": 0.0, \"Japan\": 0.02, \"Rest of World\": 0.0, \"Global\": 0.02}, {\"Game\": \"Rogue Trooper: Redux\", \"Year\": 2017.0, \"Genre\": \"Shooter\", \"Publisher\": \"Rebellion\", \"North America\": 0.01, \"Europe\": 0.0, \"Japan\": 0.0, \"Rest of World\": 0.0, \"Global\": 0.02}, {\"Game\": \"Space Hulk: Deathwing\", \"Year\": 2015.0, \"Genre\": \"Shooter\", \"Publisher\": \"Focus Home Interactive\", \"North America\": 0.0, \"Europe\": 0.01, \"Japan\": 0.0, \"Rest of World\": 0.0, \"Global\": 0.02}, {\"Game\": \"Pharaonic\", \"Year\": 2017.0, \"Genre\": \"Action\", \"Publisher\": \"Soedesco\", \"North America\": 0.01, \"Europe\": 0.0, \"Japan\": 0.0, \"Rest of World\": 0.0, \"Global\": 0.02}, {\"Game\": \"White Day\", \"Year\": 2017.0, \"Genre\": \"Action\", \"Publisher\": \"PQube\", \"North America\": 0.0, \"Europe\": 0.01, \"Japan\": 0.01, \"Rest of World\": 0.0, \"Global\": 0.02}, {\"Game\": \"Let It Die\", \"Year\": 2017.0, \"Genre\": \"Action\", \"Publisher\": \"GungHo\", \"North America\": 0.0, \"Europe\": 0.01, \"Japan\": 0.01, \"Rest of World\": 0.0, \"Global\": 0.01}, {\"Game\": \"Zombie Vikings\", \"Year\": 2016.0, \"Genre\": \"Action\", \"Publisher\": \"Rising Star Games\", \"North America\": 0.0, \"Europe\": 0.01, \"Japan\": 0.0, \"Rest of World\": 0.0, \"Global\": 0.01}, {\"Game\": \"Ziggurat\", \"Year\": 2016.0, \"Genre\": \"Shooter\", \"Publisher\": \"Soedesco\", \"North America\": 0.0, \"Europe\": 0.01, \"Japan\": 0.0, \"Rest of World\": 0.0, \"Global\": 0.01}, {\"Game\": \"Gal Gun: Double Peace\", \"Year\": 2015.0, \"Genre\": \"Action\", \"Publisher\": \"PQube\", \"North America\": 0.0, \"Europe\": 0.0, \"Japan\": 0.01, \"Rest of World\": 0.0, \"Global\": 0.01}, {\"Game\": \"Woodcutter Simulator 2016\", \"Year\": 2015.0, \"Genre\": \"Action\", \"Publisher\": \"Namco Bandai Games\", \"North America\": 0.0, \"Europe\": 0.01, \"Japan\": 0.0, \"Rest of World\": 0.0, \"Global\": 0.01}, {\"Game\": \"Deception IV: Blood Ties\", \"Year\": 2015.0, \"Genre\": \"Action\", \"Publisher\": \"Tecmo Koei\", \"North America\": 0.0, \"Europe\": 0.0, \"Japan\": 0.01, \"Rest of World\": 0.0, \"Global\": 0.01}, {\"Game\": \"One Piece: Unlimited World Red\", \"Year\": 2017.0, \"Genre\": \"Action\", \"Publisher\": \"Namco Bandai Games\", \"North America\": 0.0, \"Europe\": 0.0, \"Japan\": 0.01, \"Rest of World\": 0.0, \"Global\": 0.01}, {\"Game\": \"Darius Burst: Chronicle Saviours\", \"Year\": 2017.0, \"Genre\": \"Action\", \"Publisher\": \"Kadokawa Games\", \"North America\": 0.0, \"Europe\": 0.0, \"Japan\": 0.01, \"Rest of World\": 0.0, \"Global\": 0.01}, {\"Game\": \"The Escapists: The Walking Dead\", \"Year\": 2016.0, \"Genre\": \"Action\", \"Publisher\": \"Team17 Software\", \"North America\": 0.0, \"Europe\": 0.0, \"Japan\": 0.0, \"Rest of World\": 0.0, \"Global\": 0.01}, {\"Game\": \"Quantic Dream Collection\", \"Year\": 2015.0, \"Genre\": \"Action\", \"Publisher\": \"Sony Computer Entertainment\", \"North America\": 0.0, \"Europe\": 0.0, \"Japan\": 0.0, \"Rest of World\": 0.0, \"Global\": 0.0}, {\"Game\": \"War Thunder\", \"Year\": 2017.0, \"Genre\": \"Action\", \"Publisher\": \"DMM Games\", \"North America\": 0.0, \"Europe\": 0.0, \"Japan\": 0.0, \"Rest of World\": 0.0, \"Global\": 0.0}, {\"Game\": \"Deception IV: The Nightmare Princess\", \"Year\": 2015.0, \"Genre\": \"Action\", \"Publisher\": \"Tecmo Koei\", \"North America\": 0.0, \"Europe\": 0.0, \"Japan\": 0.0, \"Rest of World\": 0.0, \"Global\": 0.0}, {\"Game\": \"Kingdom Hearts HD I.5 + II.5 ReMIX\", \"Year\": 2017.0, \"Genre\": \"Action\", \"Publisher\": \"Square Enix\", \"North America\": 0.0, \"Europe\": 0.0, \"Japan\": 0.0, \"Rest of World\": 0.0, \"Global\": 0.0}, {\"Game\": \"Fushigi no Chronicle: Furikaerimasen Katsu Madewa\", \"Year\": 2015.0, \"Genre\": \"Action\", \"Publisher\": \"Spike Chunsoft\", \"North America\": 0.0, \"Europe\": 0.0, \"Japan\": 0.0, \"Rest of World\": 0.0, \"Global\": 0.0}, {\"Game\": \"Bladestorm: The Hundred Years' War\", \"Year\": 2015.0, \"Genre\": \"Action\", \"Publisher\": \"BioWare\", \"North America\": 0.0, \"Europe\": 0.0, \"Japan\": 0.0, \"Rest of World\": 0.0, \"Global\": 0.0}, {\"Game\": \"Brothers in Arms: Furious 4\", \"Year\": 2019.0, \"Genre\": \"Shooter\", \"Publisher\": \"Ubisoft\", \"North America\": 0.0, \"Europe\": 0.0, \"Japan\": 0.0, \"Rest of World\": 0.0, \"Global\": 0.0}, {\"Game\": \"Psychonauts\", \"Year\": 2017.0, \"Genre\": \"Action\", \"Publisher\": \"Sony Interactive Entertainment\", \"North America\": 0.0, \"Europe\": 0.0, \"Japan\": 0.0, \"Rest of World\": 0.0, \"Global\": 0.0}, {\"Game\": \"Resident Evil 5\", \"Year\": 2016.0, \"Genre\": \"Action\", \"Publisher\": \"Capcom\", \"North America\": 0.0, \"Europe\": 0.0, \"Japan\": 0.0, \"Rest of World\": 0.0, \"Global\": 0.0}, {\"Game\": \"Uncharted 2: Among Thieves\", \"Year\": 2016.0, \"Genre\": \"Action\", \"Publisher\": \"Sony Interactive Entertainment\", \"North America\": 0.0, \"Europe\": 0.0, \"Japan\": 0.0, \"Rest of World\": 0.0, \"Global\": 0.0}, {\"Game\": \"Uncharted 3: Drake's Deception\", \"Year\": 2016.0, \"Genre\": \"Action\", \"Publisher\": \"Sony Interactive Entertainment\", \"North America\": 0.0, \"Europe\": 0.0, \"Japan\": 0.0, \"Rest of World\": 0.0, \"Global\": 0.0}, {\"Game\": \"Uncharted: Drake's Fortune\", \"Year\": 2016.0, \"Genre\": \"Action\", \"Publisher\": \"Sony Interactive Entertainment\", \"North America\": 0.0, \"Europe\": 0.0, \"Japan\": 0.0, \"Rest of World\": 0.0, \"Global\": 0.0}, {\"Game\": \"Toukiden: The Age of Demons\", \"Year\": 2014.0, \"Genre\": \"Action\", \"Publisher\": \"Tecmo Koei\", \"North America\": 0.0, \"Europe\": 0.0, \"Japan\": 0.0, \"Rest of World\": 0.0, \"Global\": 0.0}, {\"Game\": \"Velocity 2X\", \"Year\": 2014.0, \"Genre\": \"Action\", \"Publisher\": \"Futurlab 1\", \"North America\": 0.0, \"Europe\": 0.0, \"Japan\": 0.0, \"Rest of World\": 0.0, \"Global\": 0.0}, {\"Game\": \"Helldivers\", \"Year\": 2015.0, \"Genre\": \"Action\", \"Publisher\": \"Sony Computer Entertainment\", \"North America\": 0.0, \"Europe\": 0.0, \"Japan\": 0.0, \"Rest of World\": 0.0, \"Global\": 0.0}, {\"Game\": \"The Forest\", \"Year\": 2015.0, \"Genre\": \"Action\", \"Publisher\": \"Endnight Games Ltd\\u00ca\", \"North America\": 0.0, \"Europe\": 0.0, \"Japan\": 0.0, \"Rest of World\": 0.0, \"Global\": 0.0}, {\"Game\": \"Dead Island 2\", \"Year\": 2017.0, \"Genre\": \"Action\", \"Publisher\": \"Deep Silver\", \"North America\": 0.0, \"Europe\": 0.0, \"Japan\": 0.0, \"Rest of World\": 0.0, \"Global\": 0.0}, {\"Game\": \"Afro Samurai 2\", \"Year\": 2015.0, \"Genre\": \"Action\", \"Publisher\": \"Versus Evil\", \"North America\": 0.0, \"Europe\": 0.0, \"Japan\": 0.0, \"Rest of World\": 0.0, \"Global\": 0.0}, {\"Game\": \"The Legend of Korra (2014)\", \"Year\": 2014.0, \"Genre\": \"Action\", \"Publisher\": \"Activision\", \"North America\": 0.0, \"Europe\": 0.0, \"Japan\": 0.0, \"Rest of World\": 0.0, \"Global\": 0.0}, {\"Game\": \"Godzilla (2014)\", \"Year\": 2014.0, \"Genre\": \"Action\", \"Publisher\": \"Namco Bandai Games\", \"North America\": 0.0, \"Europe\": 0.0, \"Japan\": 0.0, \"Rest of World\": 0.0, \"Global\": 0.0}, {\"Game\": \"Assassin's Creed: Victory\", \"Year\": 2015.0, \"Genre\": \"Action\", \"Publisher\": \"Ubisoft\", \"North America\": 0.0, \"Europe\": 0.0, \"Japan\": 0.0, \"Rest of World\": 0.0, \"Global\": 0.0}, {\"Game\": \"Silent Hills\", \"Year\": 2020.0, \"Genre\": \"Action\", \"Publisher\": \"Konami Digital Entertainment\", \"North America\": 0.0, \"Europe\": 0.0, \"Japan\": 0.0, \"Rest of World\": 0.0, \"Global\": 0.0}, {\"Game\": \"Overlord: Fellowship of Evil\", \"Year\": 2015.0, \"Genre\": \"Action\", \"Publisher\": \"Codemasters\", \"North America\": 0.0, \"Europe\": 0.0, \"Japan\": 0.0, \"Rest of World\": 0.0, \"Global\": 0.0}, {\"Game\": \"Dengeki Bunko: Fighting Climax Ignition\", \"Year\": 2015.0, \"Genre\": \"Action\", \"Publisher\": \"Sega\", \"North America\": 0.0, \"Europe\": 0.0, \"Japan\": 0.0, \"Rest of World\": 0.0, \"Global\": 0.0}, {\"Game\": \"World Soccer Winning Eleven 2015\", \"Year\": 2015.0, \"Genre\": \"Action\", \"Publisher\": \"Konami Digital Entertainment\", \"North America\": 0.0, \"Europe\": 0.0, \"Japan\": 0.0, \"Rest of World\": 0.0, \"Global\": 0.0}, {\"Game\": \"Killing Bites\", \"Year\": 2016.0, \"Genre\": \"Action\", \"Publisher\": \"Unknown\", \"North America\": 0.0, \"Europe\": 0.0, \"Japan\": 0.0, \"Rest of World\": 0.0, \"Global\": 0.0}, {\"Game\": \"Tiny Troopers Joint Ops\", \"Year\": 2014.0, \"Genre\": \"Action\", \"Publisher\": \"Unknown\", \"North America\": 0.0, \"Europe\": 0.0, \"Japan\": 0.0, \"Rest of World\": 0.0, \"Global\": 0.0}, {\"Game\": \"The London Heist\", \"Year\": 2016.0, \"Genre\": \"Shooter\", \"Publisher\": \"Sony Computer Entertainment\", \"North America\": 0.0, \"Europe\": 0.0, \"Japan\": 0.0, \"Rest of World\": 0.0, \"Global\": 0.0}, {\"Game\": \"Alekhine's Gun\", \"Year\": 2016.0, \"Genre\": \"Action\", \"Publisher\": \"Maximum Games\", \"North America\": 0.0, \"Europe\": 0.0, \"Japan\": 0.0, \"Rest of World\": 0.0, \"Global\": 0.0}, {\"Game\": \"Kung Fu Panda: Showdown of Legendary Legends\", \"Year\": 2015.0, \"Genre\": \"Action\", \"Publisher\": \"Little Orbit\", \"North America\": 0.0, \"Europe\": 0.0, \"Japan\": 0.0, \"Rest of World\": 0.0, \"Global\": 0.0}, {\"Game\": \"Berserk Musou\", \"Year\": 2016.0, \"Genre\": \"Action\", \"Publisher\": \"Tecmo Koei\", \"North America\": 0.0, \"Europe\": 0.0, \"Japan\": 0.0, \"Rest of World\": 0.0, \"Global\": 0.0}, {\"Game\": \"The Last of Us: Part II\", \"Year\": 2019.0, \"Genre\": \"Action\", \"Publisher\": \"Sony Interactive Entertainment\", \"North America\": 0.0, \"Europe\": 0.0, \"Japan\": 0.0, \"Rest of World\": 0.0, \"Global\": 0.0}, {\"Game\": \"Ace Combat 7: Skies Unknown\", \"Year\": 2019.0, \"Genre\": \"Shooter\", \"Publisher\": \"Bandai Namco Games\", \"North America\": 0.0, \"Europe\": 0.0, \"Japan\": 0.0, \"Rest of World\": 0.0, \"Global\": 0.0}, {\"Game\": \"Metro Exodus\", \"Year\": 2019.0, \"Genre\": \"Shooter\", \"Publisher\": \"Deep Silver\", \"North America\": 0.0, \"Europe\": 0.0, \"Japan\": 0.0, \"Rest of World\": 0.0, \"Global\": 0.0}, {\"Game\": \"Biomutant\", \"Year\": 2018.0, \"Genre\": \"Action\", \"Publisher\": \"THQ Nordic\", \"North America\": 0.0, \"Europe\": 0.0, \"Japan\": 0.0, \"Rest of World\": 0.0, \"Global\": 0.0}, {\"Game\": \"Biomutant\", \"Year\": 2019.0, \"Genre\": \"Action\", \"Publisher\": \"THQ Nordic\", \"North America\": 0.0, \"Europe\": 0.0, \"Japan\": 0.0, \"Rest of World\": 0.0, \"Global\": 0.0}, {\"Game\": \"Code Vein\", \"Year\": 2018.0, \"Genre\": \"Action\", \"Publisher\": \"Bandai Namco Entertainment\", \"North America\": 0.0, \"Europe\": 0.0, \"Japan\": 0.0, \"Rest of World\": 0.0, \"Global\": 0.0}]}}, {\"mode\": \"vega-lite\"});\n",
       "</script>"
      ],
      "text/plain": [
       "alt.Chart(...)"
      ]
     },
     "execution_count": 18,
     "metadata": {},
     "output_type": "execute_result"
    }
   ],
   "source": [
    "c = alt.Chart(df2).mark_circle().encode(\n",
    "    x=\"North America\",\n",
    "    y=\"Global\",\n",
    "    color=alt.Color(\"Genre\", title=\"Genre type\"),\n",
    ").properties(\n",
    "    title=\"Sales of Action and shooter from North America and Global\",\n",
    "    width=1000,\n",
    "    height=200,\n",
    ")\n",
    "c"
   ]
  },
  {
   "cell_type": "markdown",
   "metadata": {
    "cell_id": "9cebd8d4-a9ef-4054-8d46-8bc0ba335ef8",
    "deepnote_cell_height": 74,
    "deepnote_cell_type": "markdown",
    "tags": []
   },
   "source": [
    "Will the prediction becomes more accurate if I include only two genres in the dataset? The result shows that it is still a bad estimation and the accuracy is the same as the original dateset."
   ]
  },
  {
   "cell_type": "code",
   "execution_count": null,
   "metadata": {
    "cell_id": "41d98dab-d420-40c9-a4c1-443bf90a0e1a",
    "deepnote_cell_height": 172,
    "deepnote_cell_type": "code",
    "deepnote_output_heights": [
     21
    ],
    "deepnote_to_be_reexecuted": false,
    "execution_millis": 29,
    "execution_start": 1647254998831,
    "source_hash": "776e8bee",
    "tags": []
   },
   "outputs": [
    {
     "data": {
      "text/plain": [
       "0.42424242424242425"
      ]
     },
     "execution_count": 19,
     "metadata": {},
     "output_type": "execute_result"
    }
   ],
   "source": [
    "X2=df[['North America','Europe','Japan','Rest of World']].copy()\n",
    "y2=df['Genre']\n",
    "clf.fit(X2,y2)\n",
    "clf.score(X2,y2)"
   ]
  },
  {
   "cell_type": "markdown",
   "metadata": {
    "cell_id": "75922aa8-c6e1-46d5-9c85-550df5b37982",
    "deepnote_cell_height": 108,
    "deepnote_cell_type": "markdown",
    "tags": []
   },
   "source": [
    "## Summary\n",
    "\n",
    "Either summarize what you did, or summarize the results.  About 3 sentences."
   ]
  },
  {
   "cell_type": "markdown",
   "metadata": {
    "cell_id": "376450fc-84c6-4116-8213-e914bf8b8af4",
    "deepnote_cell_height": 118,
    "deepnote_cell_type": "markdown",
    "tags": []
   },
   "source": [
    "I import data, and get some basic information about the data: draw a graph to show global sales of each genre and find the most welcome genre. I try to predict genre from knowing its sales from each region but the prediction only has an accuracy of 0.42. I wonder if the accuracy of the prediction will become better if I only include the most popular genre(Action and Shooter), however the prediction doesn't improve and it has the same accuracy as the original dateset.\n"
   ]
  },
  {
   "cell_type": "markdown",
   "metadata": {
    "cell_id": "fc42153e-0b6d-4c37-9e06-ee471cfb0534",
    "deepnote_cell_height": 108,
    "deepnote_cell_type": "markdown",
    "tags": []
   },
   "source": [
    "## References\n",
    "\n",
    "Include references that you found helpful.  Also say where you found the dataset you used."
   ]
  },
  {
   "cell_type": "markdown",
   "metadata": {
    "cell_id": "2576ed19-6018-4a42-b9d6-fa839606bb38",
    "deepnote_cell_height": 110,
    "deepnote_cell_type": "markdown",
    "tags": []
   },
   "source": [
    "The extra thing I use is pandas.DataFrame.groupby.\n",
    "https://pandas.pydata.org/docs/reference/api/pandas.DataFrame.groupby.html\n",
    "\n",
    "I find \"PS4_Games Sales\" from Kaggle."
   ]
  },
  {
   "cell_type": "markdown",
   "metadata": {
    "created_in_deepnote_cell": true,
    "deepnote_cell_type": "markdown",
    "tags": []
   },
   "source": [
    "<a style='text-decoration:none;line-height:16px;display:flex;color:#5B5B62;padding:10px;justify-content:end;' href='https://deepnote.com?utm_source=created-in-deepnote-cell&projectId=23ae12f7-97a0-48d1-bd43-3134ca235d42' target=\"_blank\">\n",
    "<img alt='Created in deepnote.com' style='display:inline;max-height:16px;margin:0px;margin-right:7.5px;' src='data:image/svg+xml;base64,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' > </img>\n",
    "Created in <span style='font-weight:600;margin-left:4px;'>Deepnote</span></a>"
   ]
  }
 ],
 "metadata": {
  "deepnote": {
   "is_reactive": false
  },
  "deepnote_execution_queue": [],
  "deepnote_notebook_id": "97afb67d-06ce-4a63-bb3d-208672377dae",
  "kernelspec": {
   "display_name": "Python 3 (ipykernel)",
   "language": "python",
   "name": "python3"
  },
  "language_info": {
   "codemirror_mode": {
    "name": "ipython",
    "version": 3
   },
   "file_extension": ".py",
   "mimetype": "text/x-python",
   "name": "python",
   "nbconvert_exporter": "python",
   "pygments_lexer": "ipython3",
   "version": "3.8.12"
  }
 },
 "nbformat": 4,
 "nbformat_minor": 4
}