{
 "cells": [
  {
   "cell_type": "markdown",
   "metadata": {
    "cell_id": "00002-e14c800f-6cc5-461c-b71f-b2a69b3bd773",
    "deepnote_cell_height": 156.78125,
    "deepnote_cell_type": "markdown",
    "tags": []
   },
   "source": [
    "# Star Type\n",
    "\n",
    "Author: Yufei Ren\n",
    "\n",
    "Course Project, UC Irvine, Math 10, W22"
   ]
  },
  {
   "cell_type": "markdown",
   "metadata": {
    "cell_id": "00004-b1cd18be-b36a-4d1c-8dff-c1597b259224",
    "deepnote_cell_height": 189.5625,
    "deepnote_cell_type": "markdown",
    "tags": []
   },
   "source": [
    "## Introduction\n",
    "\n",
    "The dataset \"Star dataset to predict star types\" consists several features of planets in 6 category: Brown Dwarf, Red Dwarf, White Dwarf, Main Sequence , SuperGiants, HyperGiants, and they are respectivley assigned with numbers 0, 1, 2, 3, 4, 5. \n",
    ">\n",
    "In this project, the temperature, radius, 'Absolute magnitude(Mv)', and luminorsity are first used to predict the star type. After that, sklearn is used to find the relationship between temperature, radius and luminorsity."
   ]
  },
  {
   "cell_type": "markdown",
   "metadata": {
    "cell_id": "00005-0f908bea-59a1-44ef-87f0-90c33fb9bb2c",
    "deepnote_cell_height": 108.390625,
    "deepnote_cell_type": "markdown",
    "tags": []
   },
   "source": [
    "## Main portion of the project\n",
    "\n",
    "(You can either have all one section or divide into multiple sections)"
   ]
  },
  {
   "cell_type": "code",
   "execution_count": null,
   "metadata": {
    "cell_id": "00006-5ccc299a-04df-4104-a593-9fd218e59428",
    "deepnote_cell_height": 135,
    "deepnote_cell_type": "code",
    "deepnote_to_be_reexecuted": false,
    "execution_millis": 1710,
    "execution_start": 1647306258117,
    "source_hash": "e66a7a5b",
    "tags": []
   },
   "outputs": [],
   "source": [
    "import numpy as np\n",
    "import pandas as pd\n",
    "import seaborn as sns\n",
    "import altair as alt"
   ]
  },
  {
   "cell_type": "code",
   "execution_count": null,
   "metadata": {
    "cell_id": "00007-6ea0bf67-bf58-405e-bc07-b8c5f1637290",
    "deepnote_cell_height": 429,
    "deepnote_cell_type": "code",
    "deepnote_to_be_reexecuted": false,
    "execution_millis": 32,
    "execution_start": 1647306259835,
    "source_hash": "17cc10b",
    "tags": []
   },
   "outputs": [
    {
     "data": {
      "application/vnd.deepnote.dataframe.v3+json": {
       "column_count": 7,
       "columns": [
        {
         "dtype": "int64",
         "name": "Temperature (K)",
         "stats": {
          "histogram": [
           {
            "bin_end": 2051.9,
            "bin_start": 1939,
            "count": 1
           },
           {
            "bin_end": 2164.8,
            "bin_start": 2051.9,
            "count": 0
           },
           {
            "bin_end": 2277.7,
            "bin_start": 2164.8,
            "count": 0
           },
           {
            "bin_end": 2390.6,
            "bin_start": 2277.7,
            "count": 0
           },
           {
            "bin_end": 2503.5,
            "bin_start": 2390.6,
            "count": 0
           },
           {
            "bin_end": 2616.4,
            "bin_start": 2503.5,
            "count": 1
           },
           {
            "bin_end": 2729.3,
            "bin_start": 2616.4,
            "count": 0
           },
           {
            "bin_end": 2842.2,
            "bin_start": 2729.3,
            "count": 1
           },
           {
            "bin_end": 2955.1,
            "bin_start": 2842.2,
            "count": 0
           },
           {
            "bin_end": 3068,
            "bin_start": 2955.1,
            "count": 2
           }
          ],
          "max": "3068",
          "min": "1939",
          "nan_count": 0,
          "unique_count": 5
         }
        },
        {
         "dtype": "float64",
         "name": "Luminosity(L/Lo)",
         "stats": {
          "histogram": [
           {
            "bin_end": 0.00036419999999999996,
            "bin_start": 0.000138,
            "count": 3
           },
           {
            "bin_end": 0.0005903999999999999,
            "bin_start": 0.00036419999999999996,
            "count": 1
           },
           {
            "bin_end": 0.0008165999999999999,
            "bin_start": 0.0005903999999999999,
            "count": 0
           },
           {
            "bin_end": 0.0010428,
            "bin_start": 0.0008165999999999999,
            "count": 0
           },
           {
            "bin_end": 0.0012689999999999997,
            "bin_start": 0.0010428,
            "count": 0
           },
           {
            "bin_end": 0.0014952,
            "bin_start": 0.0012689999999999997,
            "count": 0
           },
           {
            "bin_end": 0.0017213999999999997,
            "bin_start": 0.0014952,
            "count": 0
           },
           {
            "bin_end": 0.0019475999999999999,
            "bin_start": 0.0017213999999999997,
            "count": 0
           },
           {
            "bin_end": 0.0021738,
            "bin_start": 0.0019475999999999999,
            "count": 0
           },
           {
            "bin_end": 0.0024,
            "bin_start": 0.0021738,
            "count": 1
           }
          ],
          "max": "0.0024",
          "min": "0.000138",
          "nan_count": 0,
          "unique_count": 5
         }
        },
        {
         "dtype": "float64",
         "name": "Radius(R/Ro)",
         "stats": {
          "histogram": [
           {
            "bin_end": 0.1088,
            "bin_start": 0.102,
            "count": 2
           },
           {
            "bin_end": 0.1156,
            "bin_start": 0.1088,
            "count": 0
           },
           {
            "bin_end": 0.12240000000000001,
            "bin_start": 0.1156,
            "count": 0
           },
           {
            "bin_end": 0.1292,
            "bin_start": 0.12240000000000001,
            "count": 0
           },
           {
            "bin_end": 0.136,
            "bin_start": 0.1292,
            "count": 0
           },
           {
            "bin_end": 0.1428,
            "bin_start": 0.136,
            "count": 0
           },
           {
            "bin_end": 0.1496,
            "bin_start": 0.1428,
            "count": 0
           },
           {
            "bin_end": 0.1564,
            "bin_start": 0.1496,
            "count": 1
           },
           {
            "bin_end": 0.1632,
            "bin_start": 0.1564,
            "count": 1
           },
           {
            "bin_end": 0.17,
            "bin_start": 0.1632,
            "count": 1
           }
          ],
          "max": "0.17",
          "min": "0.102",
          "nan_count": 0,
          "unique_count": 5
         }
        },
        {
         "dtype": "float64",
         "name": "Absolute magnitude(Mv)",
         "stats": {
          "histogram": [
           {
            "bin_end": 16.514,
            "bin_start": 16.12,
            "count": 1
           },
           {
            "bin_end": 16.908,
            "bin_start": 16.514,
            "count": 2
           },
           {
            "bin_end": 17.302,
            "bin_start": 16.908,
            "count": 0
           },
           {
            "bin_end": 17.696,
            "bin_start": 17.302,
            "count": 0
           },
           {
            "bin_end": 18.09,
            "bin_start": 17.696,
            "count": 0
           },
           {
            "bin_end": 18.484,
            "bin_start": 18.09,
            "count": 0
           },
           {
            "bin_end": 18.878,
            "bin_start": 18.484,
            "count": 1
           },
           {
            "bin_end": 19.272,
            "bin_start": 18.878,
            "count": 0
           },
           {
            "bin_end": 19.666,
            "bin_start": 19.272,
            "count": 0
           },
           {
            "bin_end": 20.06,
            "bin_start": 19.666,
            "count": 1
           }
          ],
          "max": "20.06",
          "min": "16.12",
          "nan_count": 0,
          "unique_count": 5
         }
        },
        {
         "dtype": "int64",
         "name": "Star type",
         "stats": {
          "histogram": [
           {
            "bin_end": -0.4,
            "bin_start": -0.5,
            "count": 0
           },
           {
            "bin_end": -0.3,
            "bin_start": -0.4,
            "count": 0
           },
           {
            "bin_end": -0.19999999999999996,
            "bin_start": -0.3,
            "count": 0
           },
           {
            "bin_end": -0.09999999999999998,
            "bin_start": -0.19999999999999996,
            "count": 0
           },
           {
            "bin_end": 0,
            "bin_start": -0.09999999999999998,
            "count": 0
           },
           {
            "bin_end": 0.10000000000000009,
            "bin_start": 0,
            "count": 5
           },
           {
            "bin_end": 0.20000000000000007,
            "bin_start": 0.10000000000000009,
            "count": 0
           },
           {
            "bin_end": 0.30000000000000004,
            "bin_start": 0.20000000000000007,
            "count": 0
           },
           {
            "bin_end": 0.4,
            "bin_start": 0.30000000000000004,
            "count": 0
           },
           {
            "bin_end": 0.5,
            "bin_start": 0.4,
            "count": 0
           }
          ],
          "max": "0",
          "min": "0",
          "nan_count": 0,
          "unique_count": 1
         }
        },
        {
         "dtype": "object",
         "name": "Star color",
         "stats": {
          "categories": [
           {
            "count": 5,
            "name": "Red"
           }
          ],
          "nan_count": 0,
          "unique_count": 1
         }
        },
        {
         "dtype": "object",
         "name": "Spectral Class",
         "stats": {
          "categories": [
           {
            "count": 5,
            "name": "M"
           }
          ],
          "nan_count": 0,
          "unique_count": 1
         }
        },
        {
         "dtype": "int64",
         "name": "_deepnote_index_column"
        }
       ],
       "row_count": 5,
       "rows": [
        {
         "Absolute magnitude(Mv)": 16.12,
         "Luminosity(L/Lo)": 0.0024,
         "Radius(R/Ro)": 0.17,
         "Spectral Class": "M",
         "Star color": "Red",
         "Star type": 0,
         "Temperature (K)": 3068,
         "_deepnote_index_column": 0
        },
        {
         "Absolute magnitude(Mv)": 16.6,
         "Luminosity(L/Lo)": 0.0005,
         "Radius(R/Ro)": 0.1542,
         "Spectral Class": "M",
         "Star color": "Red",
         "Star type": 0,
         "Temperature (K)": 3042,
         "_deepnote_index_column": 1
        },
        {
         "Absolute magnitude(Mv)": 18.7,
         "Luminosity(L/Lo)": 0.0003,
         "Radius(R/Ro)": 0.102,
         "Spectral Class": "M",
         "Star color": "Red",
         "Star type": 0,
         "Temperature (K)": 2600,
         "_deepnote_index_column": 2
        },
        {
         "Absolute magnitude(Mv)": 16.65,
         "Luminosity(L/Lo)": 0.0002,
         "Radius(R/Ro)": 0.16,
         "Spectral Class": "M",
         "Star color": "Red",
         "Star type": 0,
         "Temperature (K)": 2800,
         "_deepnote_index_column": 3
        },
        {
         "Absolute magnitude(Mv)": 20.06,
         "Luminosity(L/Lo)": 0.000138,
         "Radius(R/Ro)": 0.103,
         "Spectral Class": "M",
         "Star color": "Red",
         "Star type": 0,
         "Temperature (K)": 1939,
         "_deepnote_index_column": 4
        }
       ]
      },
      "text/html": [
       "<div>\n",
       "<style scoped>\n",
       "    .dataframe tbody tr th:only-of-type {\n",
       "        vertical-align: middle;\n",
       "    }\n",
       "\n",
       "    .dataframe tbody tr th {\n",
       "        vertical-align: top;\n",
       "    }\n",
       "\n",
       "    .dataframe thead th {\n",
       "        text-align: right;\n",
       "    }\n",
       "</style>\n",
       "<table border=\"1\" class=\"dataframe\">\n",
       "  <thead>\n",
       "    <tr style=\"text-align: right;\">\n",
       "      <th></th>\n",
       "      <th>Temperature (K)</th>\n",
       "      <th>Luminosity(L/Lo)</th>\n",
       "      <th>Radius(R/Ro)</th>\n",
       "      <th>Absolute magnitude(Mv)</th>\n",
       "      <th>Star type</th>\n",
       "      <th>Star color</th>\n",
       "      <th>Spectral Class</th>\n",
       "    </tr>\n",
       "  </thead>\n",
       "  <tbody>\n",
       "    <tr>\n",
       "      <th>0</th>\n",
       "      <td>3068</td>\n",
       "      <td>0.002400</td>\n",
       "      <td>0.1700</td>\n",
       "      <td>16.12</td>\n",
       "      <td>0</td>\n",
       "      <td>Red</td>\n",
       "      <td>M</td>\n",
       "    </tr>\n",
       "    <tr>\n",
       "      <th>1</th>\n",
       "      <td>3042</td>\n",
       "      <td>0.000500</td>\n",
       "      <td>0.1542</td>\n",
       "      <td>16.60</td>\n",
       "      <td>0</td>\n",
       "      <td>Red</td>\n",
       "      <td>M</td>\n",
       "    </tr>\n",
       "    <tr>\n",
       "      <th>2</th>\n",
       "      <td>2600</td>\n",
       "      <td>0.000300</td>\n",
       "      <td>0.1020</td>\n",
       "      <td>18.70</td>\n",
       "      <td>0</td>\n",
       "      <td>Red</td>\n",
       "      <td>M</td>\n",
       "    </tr>\n",
       "    <tr>\n",
       "      <th>3</th>\n",
       "      <td>2800</td>\n",
       "      <td>0.000200</td>\n",
       "      <td>0.1600</td>\n",
       "      <td>16.65</td>\n",
       "      <td>0</td>\n",
       "      <td>Red</td>\n",
       "      <td>M</td>\n",
       "    </tr>\n",
       "    <tr>\n",
       "      <th>4</th>\n",
       "      <td>1939</td>\n",
       "      <td>0.000138</td>\n",
       "      <td>0.1030</td>\n",
       "      <td>20.06</td>\n",
       "      <td>0</td>\n",
       "      <td>Red</td>\n",
       "      <td>M</td>\n",
       "    </tr>\n",
       "  </tbody>\n",
       "</table>\n",
       "</div>"
      ],
      "text/plain": [
       "   Temperature (K)  Luminosity(L/Lo)  Radius(R/Ro)  Absolute magnitude(Mv)  \\\n",
       "0             3068          0.002400        0.1700                   16.12   \n",
       "1             3042          0.000500        0.1542                   16.60   \n",
       "2             2600          0.000300        0.1020                   18.70   \n",
       "3             2800          0.000200        0.1600                   16.65   \n",
       "4             1939          0.000138        0.1030                   20.06   \n",
       "\n",
       "   Star type Star color Spectral Class  \n",
       "0          0        Red              M  \n",
       "1          0        Red              M  \n",
       "2          0        Red              M  \n",
       "3          0        Red              M  \n",
       "4          0        Red              M  "
      ]
     },
     "execution_count": 2,
     "metadata": {},
     "output_type": "execute_result"
    }
   ],
   "source": [
    "df = pd.read_csv(\"/work/6 class csv.csv\")\n",
    "df = df.dropna(axis=1) # clear the data\n",
    "df.head()"
   ]
  },
  {
   "cell_type": "code",
   "execution_count": null,
   "metadata": {
    "cell_id": "5814d8c5-6d35-4f82-941c-3f3ea41ac355",
    "deepnote_cell_height": 516,
    "deepnote_cell_type": "code",
    "deepnote_to_be_reexecuted": false,
    "execution_millis": 36,
    "execution_start": 1647306259876,
    "source_hash": "f88152d9",
    "tags": []
   },
   "outputs": [
    {
     "data": {
      "application/vnd.deepnote.dataframe.v3+json": {
       "column_count": 5,
       "columns": [
        {
         "dtype": "float64",
         "name": "Temperature (K)",
         "stats": {
          "histogram": [
           {
            "bin_end": 4216,
            "bin_start": 240,
            "count": 3
           },
           {
            "bin_end": 8192,
            "bin_start": 4216,
            "count": 1
           },
           {
            "bin_end": 12168,
            "bin_start": 8192,
            "count": 2
           },
           {
            "bin_end": 16144,
            "bin_start": 12168,
            "count": 1
           },
           {
            "bin_end": 20120,
            "bin_start": 16144,
            "count": 0
           },
           {
            "bin_end": 24096,
            "bin_start": 20120,
            "count": 0
           },
           {
            "bin_end": 28072,
            "bin_start": 24096,
            "count": 0
           },
           {
            "bin_end": 32048,
            "bin_start": 28072,
            "count": 0
           },
           {
            "bin_end": 36024,
            "bin_start": 32048,
            "count": 0
           },
           {
            "bin_end": 40000,
            "bin_start": 36024,
            "count": 1
           }
          ],
          "max": "40000.0",
          "min": "240.0",
          "nan_count": 0,
          "unique_count": 8
         }
        },
        {
         "dtype": "float64",
         "name": "Luminosity(L/Lo)",
         "stats": {
          "histogram": [
           {
            "bin_end": 84942.000072,
            "bin_start": 8e-05,
            "count": 4
           },
           {
            "bin_end": 169884.000064,
            "bin_start": 84942.000072,
            "count": 1
           },
           {
            "bin_end": 254826.000056,
            "bin_start": 169884.000064,
            "count": 2
           },
           {
            "bin_end": 339768.000048,
            "bin_start": 254826.000056,
            "count": 0
           },
           {
            "bin_end": 424710.00004,
            "bin_start": 339768.000048,
            "count": 0
           },
           {
            "bin_end": 509652.000032,
            "bin_start": 424710.00004,
            "count": 0
           },
           {
            "bin_end": 594594.0000240001,
            "bin_start": 509652.000032,
            "count": 0
           },
           {
            "bin_end": 679536.000016,
            "bin_start": 594594.0000240001,
            "count": 0
           },
           {
            "bin_end": 764478.000008,
            "bin_start": 679536.000016,
            "count": 0
           },
           {
            "bin_end": 849420,
            "bin_start": 764478.000008,
            "count": 1
           }
          ],
          "max": "849420.0",
          "min": "8e-05",
          "nan_count": 0,
          "unique_count": 8
         }
        },
        {
         "dtype": "float64",
         "name": "Radius(R/Ro)",
         "stats": {
          "histogram": [
           {
            "bin_end": 194.85756,
            "bin_start": 0.0084,
            "count": 4
           },
           {
            "bin_end": 389.70672,
            "bin_start": 194.85756,
            "count": 2
           },
           {
            "bin_end": 584.5558800000001,
            "bin_start": 389.70672,
            "count": 1
           },
           {
            "bin_end": 779.4050400000001,
            "bin_start": 584.5558800000001,
            "count": 0
           },
           {
            "bin_end": 974.2542000000001,
            "bin_start": 779.4050400000001,
            "count": 0
           },
           {
            "bin_end": 1169.10336,
            "bin_start": 974.2542000000001,
            "count": 0
           },
           {
            "bin_end": 1363.95252,
            "bin_start": 1169.10336,
            "count": 0
           },
           {
            "bin_end": 1558.80168,
            "bin_start": 1363.95252,
            "count": 0
           },
           {
            "bin_end": 1753.65084,
            "bin_start": 1558.80168,
            "count": 0
           },
           {
            "bin_end": 1948.5,
            "bin_start": 1753.65084,
            "count": 1
           }
          ],
          "max": "1948.5",
          "min": "0.0084",
          "nan_count": 0,
          "unique_count": 8
         }
        },
        {
         "dtype": "float64",
         "name": "Absolute magnitude(Mv)",
         "stats": {
          "histogram": [
           {
            "bin_end": 13.272,
            "bin_start": -11.92,
            "count": 5
           },
           {
            "bin_end": 38.464,
            "bin_start": 13.272,
            "count": 2
           },
           {
            "bin_end": 63.65599999999999,
            "bin_start": 38.464,
            "count": 0
           },
           {
            "bin_end": 88.848,
            "bin_start": 63.65599999999999,
            "count": 0
           },
           {
            "bin_end": 114.04,
            "bin_start": 88.848,
            "count": 0
           },
           {
            "bin_end": 139.232,
            "bin_start": 114.04,
            "count": 0
           },
           {
            "bin_end": 164.424,
            "bin_start": 139.232,
            "count": 0
           },
           {
            "bin_end": 189.616,
            "bin_start": 164.424,
            "count": 0
           },
           {
            "bin_end": 214.80800000000002,
            "bin_start": 189.616,
            "count": 0
           },
           {
            "bin_end": 240,
            "bin_start": 214.80800000000002,
            "count": 1
           }
          ],
          "max": "240.0",
          "min": "-11.92",
          "nan_count": 0,
          "unique_count": 8
         }
        },
        {
         "dtype": "float64",
         "name": "Star type",
         "stats": {
          "histogram": [
           {
            "bin_end": 24,
            "bin_start": 0,
            "count": 7
           },
           {
            "bin_end": 48,
            "bin_start": 24,
            "count": 0
           },
           {
            "bin_end": 72,
            "bin_start": 48,
            "count": 0
           },
           {
            "bin_end": 96,
            "bin_start": 72,
            "count": 0
           },
           {
            "bin_end": 120,
            "bin_start": 96,
            "count": 0
           },
           {
            "bin_end": 144,
            "bin_start": 120,
            "count": 0
           },
           {
            "bin_end": 168,
            "bin_start": 144,
            "count": 0
           },
           {
            "bin_end": 192,
            "bin_start": 168,
            "count": 0
           },
           {
            "bin_end": 216,
            "bin_start": 192,
            "count": 0
           },
           {
            "bin_end": 240,
            "bin_start": 216,
            "count": 1
           }
          ],
          "max": "240.0",
          "min": "0.0",
          "nan_count": 0,
          "unique_count": 7
         }
        },
        {
         "dtype": "object",
         "name": "_deepnote_index_column"
        }
       ],
       "row_count": 8,
       "rows": [
        {
         "Absolute magnitude(Mv)": 240,
         "Luminosity(L/Lo)": 240,
         "Radius(R/Ro)": 240,
         "Star type": 240,
         "Temperature (K)": 240,
         "_deepnote_index_column": "count"
        },
        {
         "Absolute magnitude(Mv)": 4.382395833333334,
         "Luminosity(L/Lo)": 107188.36163460833,
         "Radius(R/Ro)": 237.157781375,
         "Star type": 2.5,
         "Temperature (K)": 10497.4625,
         "_deepnote_index_column": "mean"
        },
        {
         "Absolute magnitude(Mv)": 10.53251235061617,
         "Luminosity(L/Lo)": 179432.2449402145,
         "Radius(R/Ro)": 517.1557634028478,
         "Star type": 1.7113942540767833,
         "Temperature (K)": 9552.425037164023,
         "_deepnote_index_column": "std"
        },
        {
         "Absolute magnitude(Mv)": -11.92,
         "Luminosity(L/Lo)": 8e-05,
         "Radius(R/Ro)": 0.0084,
         "Star type": 0,
         "Temperature (K)": 1939,
         "_deepnote_index_column": "min"
        },
        {
         "Absolute magnitude(Mv)": -6.2325,
         "Luminosity(L/Lo)": 0.0008647500000000001,
         "Radius(R/Ro)": 0.10275,
         "Star type": 1,
         "Temperature (K)": 3344.25,
         "_deepnote_index_column": "25%"
        },
        {
         "Absolute magnitude(Mv)": 8.312999999999999,
         "Luminosity(L/Lo)": 0.07050000000000001,
         "Radius(R/Ro)": 0.7625,
         "Star type": 2.5,
         "Temperature (K)": 5776,
         "_deepnote_index_column": "50%"
        },
        {
         "Absolute magnitude(Mv)": 13.6975,
         "Luminosity(L/Lo)": 198050,
         "Radius(R/Ro)": 42.75,
         "Star type": 4,
         "Temperature (K)": 15055.5,
         "_deepnote_index_column": "75%"
        },
        {
         "Absolute magnitude(Mv)": 20.06,
         "Luminosity(L/Lo)": 849420,
         "Radius(R/Ro)": 1948.5,
         "Star type": 5,
         "Temperature (K)": 40000,
         "_deepnote_index_column": "max"
        }
       ]
      },
      "text/html": [
       "<div>\n",
       "<style scoped>\n",
       "    .dataframe tbody tr th:only-of-type {\n",
       "        vertical-align: middle;\n",
       "    }\n",
       "\n",
       "    .dataframe tbody tr th {\n",
       "        vertical-align: top;\n",
       "    }\n",
       "\n",
       "    .dataframe thead th {\n",
       "        text-align: right;\n",
       "    }\n",
       "</style>\n",
       "<table border=\"1\" class=\"dataframe\">\n",
       "  <thead>\n",
       "    <tr style=\"text-align: right;\">\n",
       "      <th></th>\n",
       "      <th>Temperature (K)</th>\n",
       "      <th>Luminosity(L/Lo)</th>\n",
       "      <th>Radius(R/Ro)</th>\n",
       "      <th>Absolute magnitude(Mv)</th>\n",
       "      <th>Star type</th>\n",
       "    </tr>\n",
       "  </thead>\n",
       "  <tbody>\n",
       "    <tr>\n",
       "      <th>count</th>\n",
       "      <td>240.000000</td>\n",
       "      <td>240.000000</td>\n",
       "      <td>240.000000</td>\n",
       "      <td>240.000000</td>\n",
       "      <td>240.000000</td>\n",
       "    </tr>\n",
       "    <tr>\n",
       "      <th>mean</th>\n",
       "      <td>10497.462500</td>\n",
       "      <td>107188.361635</td>\n",
       "      <td>237.157781</td>\n",
       "      <td>4.382396</td>\n",
       "      <td>2.500000</td>\n",
       "    </tr>\n",
       "    <tr>\n",
       "      <th>std</th>\n",
       "      <td>9552.425037</td>\n",
       "      <td>179432.244940</td>\n",
       "      <td>517.155763</td>\n",
       "      <td>10.532512</td>\n",
       "      <td>1.711394</td>\n",
       "    </tr>\n",
       "    <tr>\n",
       "      <th>min</th>\n",
       "      <td>1939.000000</td>\n",
       "      <td>0.000080</td>\n",
       "      <td>0.008400</td>\n",
       "      <td>-11.920000</td>\n",
       "      <td>0.000000</td>\n",
       "    </tr>\n",
       "    <tr>\n",
       "      <th>25%</th>\n",
       "      <td>3344.250000</td>\n",
       "      <td>0.000865</td>\n",
       "      <td>0.102750</td>\n",
       "      <td>-6.232500</td>\n",
       "      <td>1.000000</td>\n",
       "    </tr>\n",
       "    <tr>\n",
       "      <th>50%</th>\n",
       "      <td>5776.000000</td>\n",
       "      <td>0.070500</td>\n",
       "      <td>0.762500</td>\n",
       "      <td>8.313000</td>\n",
       "      <td>2.500000</td>\n",
       "    </tr>\n",
       "    <tr>\n",
       "      <th>75%</th>\n",
       "      <td>15055.500000</td>\n",
       "      <td>198050.000000</td>\n",
       "      <td>42.750000</td>\n",
       "      <td>13.697500</td>\n",
       "      <td>4.000000</td>\n",
       "    </tr>\n",
       "    <tr>\n",
       "      <th>max</th>\n",
       "      <td>40000.000000</td>\n",
       "      <td>849420.000000</td>\n",
       "      <td>1948.500000</td>\n",
       "      <td>20.060000</td>\n",
       "      <td>5.000000</td>\n",
       "    </tr>\n",
       "  </tbody>\n",
       "</table>\n",
       "</div>"
      ],
      "text/plain": [
       "       Temperature (K)  Luminosity(L/Lo)  Radius(R/Ro)  \\\n",
       "count       240.000000        240.000000    240.000000   \n",
       "mean      10497.462500     107188.361635    237.157781   \n",
       "std        9552.425037     179432.244940    517.155763   \n",
       "min        1939.000000          0.000080      0.008400   \n",
       "25%        3344.250000          0.000865      0.102750   \n",
       "50%        5776.000000          0.070500      0.762500   \n",
       "75%       15055.500000     198050.000000     42.750000   \n",
       "max       40000.000000     849420.000000   1948.500000   \n",
       "\n",
       "       Absolute magnitude(Mv)   Star type  \n",
       "count              240.000000  240.000000  \n",
       "mean                 4.382396    2.500000  \n",
       "std                 10.532512    1.711394  \n",
       "min                -11.920000    0.000000  \n",
       "25%                 -6.232500    1.000000  \n",
       "50%                  8.313000    2.500000  \n",
       "75%                 13.697500    4.000000  \n",
       "max                 20.060000    5.000000  "
      ]
     },
     "execution_count": 3,
     "metadata": {},
     "output_type": "execute_result"
    }
   ],
   "source": [
    "df.describe()"
   ]
  },
  {
   "cell_type": "code",
   "execution_count": null,
   "metadata": {
    "cell_id": "a8c5b57f-1cec-428e-a3d6-c4e293053eb3",
    "deepnote_cell_height": 156.5625,
    "deepnote_cell_type": "code",
    "deepnote_output_heights": [
     59.5625
    ],
    "deepnote_to_be_reexecuted": false,
    "execution_millis": 5,
    "execution_start": 1647306259915,
    "source_hash": "25d43fa0",
    "tags": []
   },
   "outputs": [
    {
     "data": {
      "text/plain": [
       "Index(['Temperature (K)', 'Luminosity(L/Lo)', 'Radius(R/Ro)',\n",
       "       'Absolute magnitude(Mv)', 'Star type', 'Star color', 'Spectral Class'],\n",
       "      dtype='object')"
      ]
     },
     "execution_count": 4,
     "metadata": {},
     "output_type": "execute_result"
    }
   ],
   "source": [
    "df.columns"
   ]
  },
  {
   "cell_type": "markdown",
   "metadata": {
    "cell_id": "06cab811-d369-42cc-8351-da4a5b6b7047",
    "deepnote_cell_height": 54,
    "deepnote_cell_type": "markdown",
    "tags": []
   },
   "source": [
    "Atair charts is used to visualize the dataset before predicting."
   ]
  },
  {
   "cell_type": "code",
   "execution_count": null,
   "metadata": {
    "cell_id": "56951fac-8922-4a11-b71b-69751a3d63cd",
    "deepnote_cell_height": 676,
    "deepnote_cell_type": "code",
    "deepnote_output_heights": [
     363
    ],
    "deepnote_to_be_reexecuted": false,
    "execution_millis": 20,
    "execution_start": 1647306259952,
    "source_hash": "9038bdcb",
    "tags": []
   },
   "outputs": [
    {
     "data": {
      "text/html": [
       "\n",
       "<div id=\"altair-viz-4eb62bf7c1314b198fba45ebc2cc3f68\"></div>\n",
       "<script type=\"text/javascript\">\n",
       "  (function(spec, embedOpt){\n",
       "    let outputDiv = document.currentScript.previousElementSibling;\n",
       "    if (outputDiv.id !== \"altair-viz-4eb62bf7c1314b198fba45ebc2cc3f68\") {\n",
       "      outputDiv = document.getElementById(\"altair-viz-4eb62bf7c1314b198fba45ebc2cc3f68\");\n",
       "    }\n",
       "    const paths = {\n",
       "      \"vega\": \"https://cdn.jsdelivr.net/npm//vega@5?noext\",\n",
       "      \"vega-lib\": \"https://cdn.jsdelivr.net/npm//vega-lib?noext\",\n",
       "      \"vega-lite\": \"https://cdn.jsdelivr.net/npm//vega-lite@4.8.1?noext\",\n",
       "      \"vega-embed\": \"https://cdn.jsdelivr.net/npm//vega-embed@6?noext\",\n",
       "    };\n",
       "\n",
       "    function loadScript(lib) {\n",
       "      return new Promise(function(resolve, reject) {\n",
       "        var s = document.createElement('script');\n",
       "        s.src = paths[lib];\n",
       "        s.async = true;\n",
       "        s.onload = () => resolve(paths[lib]);\n",
       "        s.onerror = () => reject(`Error loading script: ${paths[lib]}`);\n",
       "        document.getElementsByTagName(\"head\")[0].appendChild(s);\n",
       "      });\n",
       "    }\n",
       "\n",
       "    function showError(err) {\n",
       "      outputDiv.innerHTML = `<div class=\"error\" style=\"color:red;\">${err}</div>`;\n",
       "      throw err;\n",
       "    }\n",
       "\n",
       "    function displayChart(vegaEmbed) {\n",
       "      vegaEmbed(outputDiv, spec, embedOpt)\n",
       "        .catch(err => showError(`Javascript Error: ${err.message}<br>This usually means there's a typo in your chart specification. See the javascript console for the full traceback.`));\n",
       "    }\n",
       "\n",
       "    if(typeof define === \"function\" && define.amd) {\n",
       "      requirejs.config({paths});\n",
       "      require([\"vega-embed\"], displayChart, err => showError(`Error loading script: ${err.message}`));\n",
       "    } else if (typeof vegaEmbed === \"function\") {\n",
       "      displayChart(vegaEmbed);\n",
       "    } else {\n",
       "      loadScript(\"vega\")\n",
       "        .then(() => loadScript(\"vega-lite\"))\n",
       "        .then(() => loadScript(\"vega-embed\"))\n",
       "        .catch(showError)\n",
       "        .then(() => displayChart(vegaEmbed));\n",
       "    }\n",
       "  })({\"config\": {\"view\": {\"continuousWidth\": 400, \"continuousHeight\": 300}}, \"hconcat\": [{\"mark\": \"point\", \"encoding\": {\"color\": {\"type\": \"nominal\", \"field\": \"Star type\"}, \"x\": {\"type\": \"quantitative\", \"field\": \"Absolute magnitude(Mv)\"}, \"y\": {\"type\": \"quantitative\", \"field\": \"Radius(R/Ro)\"}}, \"selection\": {\"selector001\": {\"type\": \"interval\"}}}, {\"mark\": \"bar\", \"encoding\": {\"x\": {\"type\": \"nominal\", \"field\": \"Star type\"}, \"y\": {\"type\": \"quantitative\", \"field\": \"Absolute magnitude(Mv)\"}}, \"transform\": [{\"filter\": {\"selection\": \"selector001\"}}]}], \"data\": {\"name\": \"data-d4116e481af0db509e2ea7b6f441218f\"}, \"$schema\": \"https://vega.github.io/schema/vega-lite/v4.8.1.json\", \"datasets\": {\"data-d4116e481af0db509e2ea7b6f441218f\": [{\"Temperature (K)\": 3068, \"Luminosity(L/Lo)\": 0.0024, \"Radius(R/Ro)\": 0.17, \"Absolute magnitude(Mv)\": 16.12, \"Star type\": 0, \"Star color\": \"Red\", \"Spectral Class\": \"M\"}, {\"Temperature (K)\": 3042, \"Luminosity(L/Lo)\": 0.0005, \"Radius(R/Ro)\": 0.1542, \"Absolute magnitude(Mv)\": 16.6, \"Star type\": 0, \"Star color\": \"Red\", \"Spectral Class\": \"M\"}, {\"Temperature (K)\": 2600, \"Luminosity(L/Lo)\": 0.0003, \"Radius(R/Ro)\": 0.102, \"Absolute magnitude(Mv)\": 18.7, \"Star type\": 0, \"Star color\": \"Red\", \"Spectral Class\": \"M\"}, {\"Temperature (K)\": 2800, \"Luminosity(L/Lo)\": 0.0002, \"Radius(R/Ro)\": 0.16, \"Absolute magnitude(Mv)\": 16.65, \"Star type\": 0, \"Star color\": \"Red\", \"Spectral Class\": \"M\"}, {\"Temperature (K)\": 1939, \"Luminosity(L/Lo)\": 0.000138, \"Radius(R/Ro)\": 0.103, \"Absolute magnitude(Mv)\": 20.06, \"Star type\": 0, \"Star color\": \"Red\", \"Spectral Class\": \"M\"}, {\"Temperature (K)\": 2840, \"Luminosity(L/Lo)\": 0.00065, \"Radius(R/Ro)\": 0.11, \"Absolute magnitude(Mv)\": 16.98, \"Star type\": 0, \"Star color\": \"Red\", \"Spectral Class\": \"M\"}, {\"Temperature (K)\": 2637, \"Luminosity(L/Lo)\": 0.00073, \"Radius(R/Ro)\": 0.127, \"Absolute magnitude(Mv)\": 17.22, \"Star type\": 0, \"Star color\": \"Red\", \"Spectral Class\": \"M\"}, {\"Temperature (K)\": 2600, \"Luminosity(L/Lo)\": 0.0004, \"Radius(R/Ro)\": 0.096, \"Absolute magnitude(Mv)\": 17.4, \"Star type\": 0, \"Star color\": \"Red\", \"Spectral Class\": \"M\"}, {\"Temperature (K)\": 2650, \"Luminosity(L/Lo)\": 0.00069, \"Radius(R/Ro)\": 0.11, \"Absolute magnitude(Mv)\": 17.45, \"Star type\": 0, \"Star color\": \"Red\", \"Spectral Class\": \"M\"}, {\"Temperature (K)\": 2700, \"Luminosity(L/Lo)\": 0.00018, \"Radius(R/Ro)\": 0.13, \"Absolute magnitude(Mv)\": 16.05, \"Star type\": 0, \"Star color\": \"Red\", \"Spectral Class\": \"M\"}, {\"Temperature (K)\": 3600, \"Luminosity(L/Lo)\": 0.0029, \"Radius(R/Ro)\": 0.51, \"Absolute magnitude(Mv)\": 10.69, \"Star type\": 1, \"Star color\": \"Red\", \"Spectral Class\": \"M\"}, {\"Temperature (K)\": 3129, \"Luminosity(L/Lo)\": 0.0122, \"Radius(R/Ro)\": 0.3761, \"Absolute magnitude(Mv)\": 11.79, \"Star type\": 1, \"Star color\": \"Red\", \"Spectral Class\": \"M\"}, {\"Temperature (K)\": 3134, \"Luminosity(L/Lo)\": 0.0004, \"Radius(R/Ro)\": 0.196, \"Absolute magnitude(Mv)\": 13.21, \"Star type\": 1, \"Star color\": \"Red\", \"Spectral Class\": \"M\"}, {\"Temperature (K)\": 3628, \"Luminosity(L/Lo)\": 0.0055, \"Radius(R/Ro)\": 0.393, \"Absolute magnitude(Mv)\": 10.48, \"Star type\": 1, \"Star color\": \"Red\", \"Spectral Class\": \"M\"}, {\"Temperature (K)\": 2650, \"Luminosity(L/Lo)\": 0.0006, \"Radius(R/Ro)\": 0.14, \"Absolute magnitude(Mv)\": 11.782, \"Star type\": 1, \"Star color\": \"Red\", \"Spectral Class\": \"M\"}, {\"Temperature (K)\": 3340, \"Luminosity(L/Lo)\": 0.0038, \"Radius(R/Ro)\": 0.24, \"Absolute magnitude(Mv)\": 13.07, \"Star type\": 1, \"Star color\": \"Red\", \"Spectral Class\": \"M\"}, {\"Temperature (K)\": 2799, \"Luminosity(L/Lo)\": 0.0018, \"Radius(R/Ro)\": 0.16, \"Absolute magnitude(Mv)\": 14.79, \"Star type\": 1, \"Star color\": \"Red\", \"Spectral Class\": \"M\"}, {\"Temperature (K)\": 3692, \"Luminosity(L/Lo)\": 0.00367, \"Radius(R/Ro)\": 0.47, \"Absolute magnitude(Mv)\": 10.8, \"Star type\": 1, \"Star color\": \"Red\", \"Spectral Class\": \"M\"}, {\"Temperature (K)\": 3192, \"Luminosity(L/Lo)\": 0.00362, \"Radius(R/Ro)\": 0.1967, \"Absolute magnitude(Mv)\": 13.53, \"Star type\": 1, \"Star color\": \"Red\", \"Spectral Class\": \"M\"}, {\"Temperature (K)\": 3441, \"Luminosity(L/Lo)\": 0.039, \"Radius(R/Ro)\": 0.351, \"Absolute magnitude(Mv)\": 11.18, \"Star type\": 1, \"Star color\": \"Red\", \"Spectral Class\": \"M\"}, {\"Temperature (K)\": 25000, \"Luminosity(L/Lo)\": 0.056, \"Radius(R/Ro)\": 0.0084, \"Absolute magnitude(Mv)\": 10.58, \"Star type\": 2, \"Star color\": \"Blue White\", \"Spectral Class\": \"B\"}, {\"Temperature (K)\": 7740, \"Luminosity(L/Lo)\": 0.00049, \"Radius(R/Ro)\": 0.01234, \"Absolute magnitude(Mv)\": 14.02, \"Star type\": 2, \"Star color\": \"White\", \"Spectral Class\": \"A\"}, {\"Temperature (K)\": 7220, \"Luminosity(L/Lo)\": 0.00017, \"Radius(R/Ro)\": 0.011, \"Absolute magnitude(Mv)\": 14.23, \"Star type\": 2, \"Star color\": \"White\", \"Spectral Class\": \"F\"}, {\"Temperature (K)\": 8500, \"Luminosity(L/Lo)\": 0.0005, \"Radius(R/Ro)\": 0.01, \"Absolute magnitude(Mv)\": 14.5, \"Star type\": 2, \"Star color\": \"White\", \"Spectral Class\": \"A\"}, {\"Temperature (K)\": 16500, \"Luminosity(L/Lo)\": 0.013, \"Radius(R/Ro)\": 0.014, \"Absolute magnitude(Mv)\": 11.89, \"Star type\": 2, \"Star color\": \"Blue White\", \"Spectral Class\": \"B\"}, {\"Temperature (K)\": 12990, \"Luminosity(L/Lo)\": 8.5e-05, \"Radius(R/Ro)\": 0.00984, \"Absolute magnitude(Mv)\": 12.23, \"Star type\": 2, \"Star color\": \"Yellowish White\", \"Spectral Class\": \"F\"}, {\"Temperature (K)\": 8570, \"Luminosity(L/Lo)\": 0.00081, \"Radius(R/Ro)\": 0.0097, \"Absolute magnitude(Mv)\": 14.2, \"Star type\": 2, \"Star color\": \"Blue white\", \"Spectral Class\": \"A\"}, {\"Temperature (K)\": 7700, \"Luminosity(L/Lo)\": 0.00011, \"Radius(R/Ro)\": 0.0128, \"Absolute magnitude(Mv)\": 14.47, \"Star type\": 2, \"Star color\": \"Yellowish White\", \"Spectral Class\": \"F\"}, {\"Temperature (K)\": 11790, \"Luminosity(L/Lo)\": 0.00015, \"Radius(R/Ro)\": 0.011, \"Absolute magnitude(Mv)\": 12.59, \"Star type\": 2, \"Star color\": \"Yellowish White\", \"Spectral Class\": \"F\"}, {\"Temperature (K)\": 7230, \"Luminosity(L/Lo)\": 8e-05, \"Radius(R/Ro)\": 0.013, \"Absolute magnitude(Mv)\": 14.08, \"Star type\": 2, \"Star color\": \"Pale yellow orange\", \"Spectral Class\": \"F\"}, {\"Temperature (K)\": 39000, \"Luminosity(L/Lo)\": 204000.0, \"Radius(R/Ro)\": 10.6, \"Absolute magnitude(Mv)\": -4.7, \"Star type\": 3, \"Star color\": \"Blue\", \"Spectral Class\": \"O\"}, {\"Temperature (K)\": 30000, \"Luminosity(L/Lo)\": 28840.0, \"Radius(R/Ro)\": 6.3, \"Absolute magnitude(Mv)\": -4.2, \"Star type\": 3, \"Star color\": \"Blue-white\", \"Spectral Class\": \"B\"}, {\"Temperature (K)\": 15276, \"Luminosity(L/Lo)\": 1136.0, \"Radius(R/Ro)\": 7.2, \"Absolute magnitude(Mv)\": -1.97, \"Star type\": 3, \"Star color\": \"Blue-white\", \"Spectral Class\": \"B\"}, {\"Temperature (K)\": 9700, \"Luminosity(L/Lo)\": 74.0, \"Radius(R/Ro)\": 2.89, \"Absolute magnitude(Mv)\": 0.16, \"Star type\": 3, \"Star color\": \"Whitish\", \"Spectral Class\": \"B\"}, {\"Temperature (K)\": 5800, \"Luminosity(L/Lo)\": 0.81, \"Radius(R/Ro)\": 0.9, \"Absolute magnitude(Mv)\": 5.05, \"Star type\": 3, \"Star color\": \"yellow-white\", \"Spectral Class\": \"F\"}, {\"Temperature (K)\": 8052, \"Luminosity(L/Lo)\": 8.7, \"Radius(R/Ro)\": 1.8, \"Absolute magnitude(Mv)\": 2.42, \"Star type\": 3, \"Star color\": \"Whitish\", \"Spectral Class\": \"A\"}, {\"Temperature (K)\": 6757, \"Luminosity(L/Lo)\": 1.43, \"Radius(R/Ro)\": 1.12, \"Absolute magnitude(Mv)\": 2.41, \"Star type\": 3, \"Star color\": \"yellow-white\", \"Spectral Class\": \"F\"}, {\"Temperature (K)\": 6380, \"Luminosity(L/Lo)\": 1.35, \"Radius(R/Ro)\": 0.98, \"Absolute magnitude(Mv)\": 2.93, \"Star type\": 3, \"Star color\": \"yellow-white\", \"Spectral Class\": \"F\"}, {\"Temperature (K)\": 5936, \"Luminosity(L/Lo)\": 1.357, \"Radius(R/Ro)\": 1.106, \"Absolute magnitude(Mv)\": 4.46, \"Star type\": 3, \"Star color\": \"yellow-white\", \"Spectral Class\": \"F\"}, {\"Temperature (K)\": 5587, \"Luminosity(L/Lo)\": 0.819, \"Radius(R/Ro)\": 0.99, \"Absolute magnitude(Mv)\": 5.03, \"Star type\": 3, \"Star color\": \"yellow-white\", \"Spectral Class\": \"F\"}, {\"Temperature (K)\": 3826, \"Luminosity(L/Lo)\": 200000.0, \"Radius(R/Ro)\": 19.0, \"Absolute magnitude(Mv)\": -6.93, \"Star type\": 4, \"Star color\": \"Red\", \"Spectral Class\": \"M\"}, {\"Temperature (K)\": 3365, \"Luminosity(L/Lo)\": 340000.0, \"Radius(R/Ro)\": 23.0, \"Absolute magnitude(Mv)\": -6.2, \"Star type\": 4, \"Star color\": \"Red\", \"Spectral Class\": \"M\"}, {\"Temperature (K)\": 3270, \"Luminosity(L/Lo)\": 150000.0, \"Radius(R/Ro)\": 88.0, \"Absolute magnitude(Mv)\": -6.02, \"Star type\": 4, \"Star color\": \"Red\", \"Spectral Class\": \"M\"}, {\"Temperature (K)\": 3200, \"Luminosity(L/Lo)\": 195000.0, \"Radius(R/Ro)\": 17.0, \"Absolute magnitude(Mv)\": -7.22, \"Star type\": 4, \"Star color\": \"Red\", \"Spectral Class\": \"M\"}, {\"Temperature (K)\": 3008, \"Luminosity(L/Lo)\": 280000.0, \"Radius(R/Ro)\": 25.0, \"Absolute magnitude(Mv)\": -6.0, \"Star type\": 4, \"Star color\": \"Red\", \"Spectral Class\": \"M\"}, {\"Temperature (K)\": 3600, \"Luminosity(L/Lo)\": 320000.0, \"Radius(R/Ro)\": 29.0, \"Absolute magnitude(Mv)\": -6.6, \"Star type\": 4, \"Star color\": \"Red\", \"Spectral Class\": \"M\"}, {\"Temperature (K)\": 3575, \"Luminosity(L/Lo)\": 123000.0, \"Radius(R/Ro)\": 45.0, \"Absolute magnitude(Mv)\": -6.78, \"Star type\": 4, \"Star color\": \"Red\", \"Spectral Class\": \"M\"}, {\"Temperature (K)\": 3574, \"Luminosity(L/Lo)\": 200000.0, \"Radius(R/Ro)\": 89.0, \"Absolute magnitude(Mv)\": -5.24, \"Star type\": 4, \"Star color\": \"Red\", \"Spectral Class\": \"M\"}, {\"Temperature (K)\": 3625, \"Luminosity(L/Lo)\": 184000.0, \"Radius(R/Ro)\": 84.0, \"Absolute magnitude(Mv)\": -6.74, \"Star type\": 4, \"Star color\": \"Red\", \"Spectral Class\": \"M\"}, {\"Temperature (K)\": 33750, \"Luminosity(L/Lo)\": 220000.0, \"Radius(R/Ro)\": 26.0, \"Absolute magnitude(Mv)\": -6.1, \"Star type\": 4, \"Star color\": \"Blue\", \"Spectral Class\": \"B\"}, {\"Temperature (K)\": 3490, \"Luminosity(L/Lo)\": 270000.0, \"Radius(R/Ro)\": 1520.0, \"Absolute magnitude(Mv)\": -9.4, \"Star type\": 5, \"Star color\": \"Red\", \"Spectral Class\": \"M\"}, {\"Temperature (K)\": 3750, \"Luminosity(L/Lo)\": 283000.0, \"Radius(R/Ro)\": 1260.0, \"Absolute magnitude(Mv)\": -7.63, \"Star type\": 5, \"Star color\": \"Red\", \"Spectral Class\": \"M\"}, {\"Temperature (K)\": 3834, \"Luminosity(L/Lo)\": 272000.0, \"Radius(R/Ro)\": 1183.0, \"Absolute magnitude(Mv)\": -9.2, \"Star type\": 5, \"Star color\": \"Red\", \"Spectral Class\": \"M\"}, {\"Temperature (K)\": 3749, \"Luminosity(L/Lo)\": 550000.0, \"Radius(R/Ro)\": 1648.0, \"Absolute magnitude(Mv)\": -8.05, \"Star type\": 5, \"Star color\": \"Orange\", \"Spectral Class\": \"M\"}, {\"Temperature (K)\": 3650, \"Luminosity(L/Lo)\": 310000.0, \"Radius(R/Ro)\": 1324.0, \"Absolute magnitude(Mv)\": -7.79, \"Star type\": 5, \"Star color\": \"Red\", \"Spectral Class\": \"M\"}, {\"Temperature (K)\": 3450, \"Luminosity(L/Lo)\": 263000.0, \"Radius(R/Ro)\": 1349.0, \"Absolute magnitude(Mv)\": -11.75, \"Star type\": 5, \"Star color\": \"Red\", \"Spectral Class\": \"M\"}, {\"Temperature (K)\": 3660, \"Luminosity(L/Lo)\": 363000.0, \"Radius(R/Ro)\": 1673.0, \"Absolute magnitude(Mv)\": -11.92, \"Star type\": 5, \"Star color\": \"Red\", \"Spectral Class\": \"M\"}, {\"Temperature (K)\": 3450, \"Luminosity(L/Lo)\": 174000.0, \"Radius(R/Ro)\": 1284.0, \"Absolute magnitude(Mv)\": -11.28, \"Star type\": 5, \"Star color\": \"Red\", \"Spectral Class\": \"M\"}, {\"Temperature (K)\": 3752, \"Luminosity(L/Lo)\": 209000.0, \"Radius(R/Ro)\": 955.0, \"Absolute magnitude(Mv)\": -11.24, \"Star type\": 5, \"Star color\": \"Red\", \"Spectral Class\": \"M\"}, {\"Temperature (K)\": 3535, \"Luminosity(L/Lo)\": 195000.0, \"Radius(R/Ro)\": 1546.0, \"Absolute magnitude(Mv)\": -11.36, \"Star type\": 5, \"Star color\": \"Red\", \"Spectral Class\": \"M\"}, {\"Temperature (K)\": 3341, \"Luminosity(L/Lo)\": 0.0056, \"Radius(R/Ro)\": 0.057, \"Absolute magnitude(Mv)\": 16.23, \"Star type\": 0, \"Star color\": \"Red\", \"Spectral Class\": \"M\"}, {\"Temperature (K)\": 3432, \"Luminosity(L/Lo)\": 0.00067, \"Radius(R/Ro)\": 0.19, \"Absolute magnitude(Mv)\": 16.94, \"Star type\": 0, \"Star color\": \"Red\", \"Spectral Class\": \"M\"}, {\"Temperature (K)\": 2983, \"Luminosity(L/Lo)\": 0.00024, \"Radius(R/Ro)\": 0.094, \"Absolute magnitude(Mv)\": 16.09, \"Star type\": 0, \"Star color\": \"Red\", \"Spectral Class\": \"M\"}, {\"Temperature (K)\": 2835, \"Luminosity(L/Lo)\": 0.00034, \"Radius(R/Ro)\": 0.0918, \"Absolute magnitude(Mv)\": 16.96, \"Star type\": 0, \"Star color\": \"Red\", \"Spectral Class\": \"M\"}, {\"Temperature (K)\": 2935, \"Luminosity(L/Lo)\": 0.00014, \"Radius(R/Ro)\": 0.116, \"Absolute magnitude(Mv)\": 18.89, \"Star type\": 0, \"Star color\": \"Red\", \"Spectral Class\": \"M\"}, {\"Temperature (K)\": 3295, \"Luminosity(L/Lo)\": 0.00098, \"Radius(R/Ro)\": 0.132, \"Absolute magnitude(Mv)\": 17.13, \"Star type\": 0, \"Star color\": \"Red\", \"Spectral Class\": \"M\"}, {\"Temperature (K)\": 2945, \"Luminosity(L/Lo)\": 0.00032, \"Radius(R/Ro)\": 0.093, \"Absolute magnitude(Mv)\": 18.34, \"Star type\": 0, \"Star color\": \"Red\", \"Spectral Class\": \"M\"}, {\"Temperature (K)\": 2817, \"Luminosity(L/Lo)\": 0.00098, \"Radius(R/Ro)\": 0.0911, \"Absolute magnitude(Mv)\": 16.45, \"Star type\": 0, \"Star color\": \"Red\", \"Spectral Class\": \"M\"}, {\"Temperature (K)\": 2774, \"Luminosity(L/Lo)\": 0.00036, \"Radius(R/Ro)\": 0.118, \"Absolute magnitude(Mv)\": 17.39, \"Star type\": 0, \"Star color\": \"Red\", \"Spectral Class\": \"M\"}, {\"Temperature (K)\": 2871, \"Luminosity(L/Lo)\": 0.00072, \"Radius(R/Ro)\": 0.12, \"Absolute magnitude(Mv)\": 19.43, \"Star type\": 0, \"Star color\": \"Red\", \"Spectral Class\": \"M\"}, {\"Temperature (K)\": 3345, \"Luminosity(L/Lo)\": 0.021, \"Radius(R/Ro)\": 0.273, \"Absolute magnitude(Mv)\": 12.3, \"Star type\": 1, \"Star color\": \"Red\", \"Spectral Class\": \"M\"}, {\"Temperature (K)\": 3607, \"Luminosity(L/Lo)\": 0.022, \"Radius(R/Ro)\": 0.38, \"Absolute magnitude(Mv)\": 10.12, \"Star type\": 1, \"Star color\": \"Red\", \"Spectral Class\": \"M\"}, {\"Temperature (K)\": 3304, \"Luminosity(L/Lo)\": 0.0085, \"Radius(R/Ro)\": 0.18, \"Absolute magnitude(Mv)\": 13.2, \"Star type\": 1, \"Star color\": \"Red\", \"Spectral Class\": \"M\"}, {\"Temperature (K)\": 3150, \"Luminosity(L/Lo)\": 0.0088, \"Radius(R/Ro)\": 0.35, \"Absolute magnitude(Mv)\": 11.94, \"Star type\": 1, \"Star color\": \"Red\", \"Spectral Class\": \"M\"}, {\"Temperature (K)\": 3550, \"Luminosity(L/Lo)\": 0.004, \"Radius(R/Ro)\": 0.291, \"Absolute magnitude(Mv)\": 10.89, \"Star type\": 1, \"Star color\": \"Red\", \"Spectral Class\": \"M\"}, {\"Temperature (K)\": 3180, \"Luminosity(L/Lo)\": 0.001, \"Radius(R/Ro)\": 0.35, \"Absolute magnitude(Mv)\": 11.76, \"Star type\": 1, \"Star color\": \"Red\", \"Spectral Class\": \"M\"}, {\"Temperature (K)\": 2890, \"Luminosity(L/Lo)\": 0.0034, \"Radius(R/Ro)\": 0.24, \"Absolute magnitude(Mv)\": 13.46, \"Star type\": 1, \"Star color\": \"Red\", \"Spectral Class\": \"M\"}, {\"Temperature (K)\": 3342, \"Luminosity(L/Lo)\": 0.0015, \"Radius(R/Ro)\": 0.307, \"Absolute magnitude(Mv)\": 11.87, \"Star type\": 1, \"Star color\": \"Red\", \"Spectral Class\": \"M\"}, {\"Temperature (K)\": 2621, \"Luminosity(L/Lo)\": 0.0006, \"Radius(R/Ro)\": 0.098, \"Absolute magnitude(Mv)\": 12.81, \"Star type\": 1, \"Star color\": \"Red\", \"Spectral Class\": \"M\"}, {\"Temperature (K)\": 3158, \"Luminosity(L/Lo)\": 0.00135, \"Radius(R/Ro)\": 0.161, \"Absolute magnitude(Mv)\": 13.98, \"Star type\": 1, \"Star color\": \"Red\", \"Spectral Class\": \"M\"}, {\"Temperature (K)\": 7100, \"Luminosity(L/Lo)\": 0.00029, \"Radius(R/Ro)\": 0.012, \"Absolute magnitude(Mv)\": 14.09, \"Star type\": 2, \"Star color\": \"White-Yellow\", \"Spectral Class\": \"F\"}, {\"Temperature (K)\": 10574, \"Luminosity(L/Lo)\": 0.00014, \"Radius(R/Ro)\": 0.0092, \"Absolute magnitude(Mv)\": 12.02, \"Star type\": 2, \"Star color\": \"White\", \"Spectral Class\": \"F\"}, {\"Temperature (K)\": 8930, \"Luminosity(L/Lo)\": 0.00056, \"Radius(R/Ro)\": 0.0095, \"Absolute magnitude(Mv)\": 13.78, \"Star type\": 2, \"Star color\": \"white\", \"Spectral Class\": \"A\"}, {\"Temperature (K)\": 17200, \"Luminosity(L/Lo)\": 0.00098, \"Radius(R/Ro)\": 0.015, \"Absolute magnitude(Mv)\": 12.45, \"Star type\": 2, \"Star color\": \"Blue White\", \"Spectral Class\": \"B\"}, {\"Temperature (K)\": 14100, \"Luminosity(L/Lo)\": 0.00067, \"Radius(R/Ro)\": 0.0089, \"Absolute magnitude(Mv)\": 12.17, \"Star type\": 2, \"Star color\": \"Blue White\", \"Spectral Class\": \"B\"}, {\"Temperature (K)\": 9675, \"Luminosity(L/Lo)\": 0.00045, \"Radius(R/Ro)\": 0.0109, \"Absolute magnitude(Mv)\": 13.98, \"Star type\": 2, \"Star color\": \"Blue White\", \"Spectral Class\": \"A\"}, {\"Temperature (K)\": 12010, \"Luminosity(L/Lo)\": 0.00078, \"Radius(R/Ro)\": 0.0092, \"Absolute magnitude(Mv)\": 12.13, \"Star type\": 2, \"Star color\": \"Blue White\", \"Spectral Class\": \"B\"}, {\"Temperature (K)\": 10980, \"Luminosity(L/Lo)\": 0.00074, \"Radius(R/Ro)\": 0.0087, \"Absolute magnitude(Mv)\": 11.19, \"Star type\": 2, \"Star color\": \"Blue White\", \"Spectral Class\": \"B\"}, {\"Temperature (K)\": 13720, \"Luminosity(L/Lo)\": 0.00018, \"Radius(R/Ro)\": 0.00892, \"Absolute magnitude(Mv)\": 12.97, \"Star type\": 2, \"Star color\": \"white\", \"Spectral Class\": \"F\"}, {\"Temperature (K)\": 19860, \"Luminosity(L/Lo)\": 0.0011, \"Radius(R/Ro)\": 0.0131, \"Absolute magnitude(Mv)\": 11.34, \"Star type\": 2, \"Star color\": \"Blue \", \"Spectral Class\": \"B\"}, {\"Temperature (K)\": 5300, \"Luminosity(L/Lo)\": 0.59, \"Radius(R/Ro)\": 0.91, \"Absolute magnitude(Mv)\": 5.49, \"Star type\": 3, \"Star color\": \"yellow-white\", \"Spectral Class\": \"F\"}, {\"Temperature (K)\": 4526, \"Luminosity(L/Lo)\": 0.153, \"Radius(R/Ro)\": 0.865, \"Absolute magnitude(Mv)\": 6.506, \"Star type\": 3, \"Star color\": \"yellowish\", \"Spectral Class\": \"K\"}, {\"Temperature (K)\": 4077, \"Luminosity(L/Lo)\": 0.085, \"Radius(R/Ro)\": 0.795, \"Absolute magnitude(Mv)\": 6.228, \"Star type\": 3, \"Star color\": \"yellowish\", \"Spectral Class\": \"K\"}, {\"Temperature (K)\": 4980, \"Luminosity(L/Lo)\": 0.357, \"Radius(R/Ro)\": 1.13, \"Absolute magnitude(Mv)\": 4.78, \"Star type\": 3, \"Star color\": \"Yellowish\", \"Spectral Class\": \"K\"}, {\"Temperature (K)\": 9030, \"Luminosity(L/Lo)\": 45.0, \"Radius(R/Ro)\": 2.63, \"Absolute magnitude(Mv)\": 1.45, \"Star type\": 3, \"Star color\": \"Blue-white\", \"Spectral Class\": \"A\"}, {\"Temperature (K)\": 11250, \"Luminosity(L/Lo)\": 672.0, \"Radius(R/Ro)\": 6.98, \"Absolute magnitude(Mv)\": -2.3, \"Star type\": 3, \"Star color\": \"Blue-white\", \"Spectral Class\": \"A\"}, {\"Temperature (K)\": 5112, \"Luminosity(L/Lo)\": 0.63, \"Radius(R/Ro)\": 0.876, \"Absolute magnitude(Mv)\": 4.68, \"Star type\": 3, \"Star color\": \"Orange-Red\", \"Spectral Class\": \"K\"}, {\"Temperature (K)\": 7720, \"Luminosity(L/Lo)\": 7.92, \"Radius(R/Ro)\": 1.34, \"Absolute magnitude(Mv)\": 2.44, \"Star type\": 3, \"Star color\": \"yellow-white\", \"Spectral Class\": \"F\"}, {\"Temperature (K)\": 12098, \"Luminosity(L/Lo)\": 689.0, \"Radius(R/Ro)\": 7.01, \"Absolute magnitude(Mv)\": 0.02, \"Star type\": 3, \"Star color\": \"Blue-white\", \"Spectral Class\": \"A\"}, {\"Temperature (K)\": 36108, \"Luminosity(L/Lo)\": 198000.0, \"Radius(R/Ro)\": 10.2, \"Absolute magnitude(Mv)\": -4.4, \"Star type\": 3, \"Star color\": \"Blue\", \"Spectral Class\": \"O\"}, {\"Temperature (K)\": 33300, \"Luminosity(L/Lo)\": 240000.0, \"Radius(R/Ro)\": 12.0, \"Absolute magnitude(Mv)\": -6.5, \"Star type\": 4, \"Star color\": \"Blue\", \"Spectral Class\": \"B\"}, {\"Temperature (K)\": 40000, \"Luminosity(L/Lo)\": 813000.0, \"Radius(R/Ro)\": 14.0, \"Absolute magnitude(Mv)\": -6.23, \"Star type\": 4, \"Star color\": \"Blue\", \"Spectral Class\": \"O\"}, {\"Temperature (K)\": 23000, \"Luminosity(L/Lo)\": 127000.0, \"Radius(R/Ro)\": 36.0, \"Absolute magnitude(Mv)\": -5.76, \"Star type\": 4, \"Star color\": \"Blue\", \"Spectral Class\": \"O\"}, {\"Temperature (K)\": 17120, \"Luminosity(L/Lo)\": 235000.0, \"Radius(R/Ro)\": 83.0, \"Absolute magnitude(Mv)\": -6.89, \"Star type\": 4, \"Star color\": \"Blue\", \"Spectral Class\": \"O\"}, {\"Temperature (K)\": 11096, \"Luminosity(L/Lo)\": 112000.0, \"Radius(R/Ro)\": 12.0, \"Absolute magnitude(Mv)\": -5.91, \"Star type\": 4, \"Star color\": \"Blue\", \"Spectral Class\": \"O\"}, {\"Temperature (K)\": 14245, \"Luminosity(L/Lo)\": 231000.0, \"Radius(R/Ro)\": 42.0, \"Absolute magnitude(Mv)\": -6.12, \"Star type\": 4, \"Star color\": \"Blue\", \"Spectral Class\": \"O\"}, {\"Temperature (K)\": 24630, \"Luminosity(L/Lo)\": 363000.0, \"Radius(R/Ro)\": 63.0, \"Absolute magnitude(Mv)\": -5.83, \"Star type\": 4, \"Star color\": \"Blue\", \"Spectral Class\": \"O\"}, {\"Temperature (K)\": 12893, \"Luminosity(L/Lo)\": 184000.0, \"Radius(R/Ro)\": 36.0, \"Absolute magnitude(Mv)\": -6.34, \"Star type\": 4, \"Star color\": \"Blue\", \"Spectral Class\": \"O\"}, {\"Temperature (K)\": 24345, \"Luminosity(L/Lo)\": 142000.0, \"Radius(R/Ro)\": 57.0, \"Absolute magnitude(Mv)\": -6.24, \"Star type\": 4, \"Star color\": \"Blue\", \"Spectral Class\": \"O\"}, {\"Temperature (K)\": 33421, \"Luminosity(L/Lo)\": 352000.0, \"Radius(R/Ro)\": 67.0, \"Absolute magnitude(Mv)\": -5.79, \"Star type\": 4, \"Star color\": \"Blue\", \"Spectral Class\": \"O\"}, {\"Temperature (K)\": 3459, \"Luminosity(L/Lo)\": 100000.0, \"Radius(R/Ro)\": 1289.0, \"Absolute magnitude(Mv)\": -10.7, \"Star type\": 5, \"Star color\": \"Red\", \"Spectral Class\": \"M\"}, {\"Temperature (K)\": 3605, \"Luminosity(L/Lo)\": 126000.0, \"Radius(R/Ro)\": 1124.0, \"Absolute magnitude(Mv)\": -10.81, \"Star type\": 5, \"Star color\": \"Red\", \"Spectral Class\": \"M\"}, {\"Temperature (K)\": 3615, \"Luminosity(L/Lo)\": 200000.0, \"Radius(R/Ro)\": 1635.0, \"Absolute magnitude(Mv)\": -11.33, \"Star type\": 5, \"Star color\": \"Red\", \"Spectral Class\": \"M\"}, {\"Temperature (K)\": 3399, \"Luminosity(L/Lo)\": 117000.0, \"Radius(R/Ro)\": 1486.0, \"Absolute magnitude(Mv)\": -10.92, \"Star type\": 5, \"Star color\": \"Red\", \"Spectral Class\": \"M\"}, {\"Temperature (K)\": 3610, \"Luminosity(L/Lo)\": 132000.0, \"Radius(R/Ro)\": 1522.0, \"Absolute magnitude(Mv)\": -10.86, \"Star type\": 5, \"Star color\": \"Red\", \"Spectral Class\": \"M\"}, {\"Temperature (K)\": 3553, \"Luminosity(L/Lo)\": 145000.0, \"Radius(R/Ro)\": 1324.0, \"Absolute magnitude(Mv)\": -11.03, \"Star type\": 5, \"Star color\": \"Red\", \"Spectral Class\": \"M\"}, {\"Temperature (K)\": 4015, \"Luminosity(L/Lo)\": 282000.0, \"Radius(R/Ro)\": 1534.0, \"Absolute magnitude(Mv)\": -11.39, \"Star type\": 5, \"Star color\": \"Red\", \"Spectral Class\": \"K\"}, {\"Temperature (K)\": 3625, \"Luminosity(L/Lo)\": 74000.0, \"Radius(R/Ro)\": 876.0, \"Absolute magnitude(Mv)\": -10.25, \"Star type\": 5, \"Star color\": \"Red\", \"Spectral Class\": \"M\"}, {\"Temperature (K)\": 6850, \"Luminosity(L/Lo)\": 229000.0, \"Radius(R/Ro)\": 1467.0, \"Absolute magnitude(Mv)\": -10.07, \"Star type\": 5, \"Star color\": \"Red\", \"Spectral Class\": \"G\"}, {\"Temperature (K)\": 3780, \"Luminosity(L/Lo)\": 200000.0, \"Radius(R/Ro)\": 1324.0, \"Absolute magnitude(Mv)\": -10.7, \"Star type\": 5, \"Star color\": \"Red\", \"Spectral Class\": \"M\"}, {\"Temperature (K)\": 3323, \"Luminosity(L/Lo)\": 0.00043, \"Radius(R/Ro)\": 0.0912, \"Absolute magnitude(Mv)\": 17.16, \"Star type\": 0, \"Star color\": \"Red\", \"Spectral Class\": \"M\"}, {\"Temperature (K)\": 3531, \"Luminosity(L/Lo)\": 0.00093, \"Radius(R/Ro)\": 0.0976, \"Absolute magnitude(Mv)\": 19.94, \"Star type\": 0, \"Star color\": \"Red\", \"Spectral Class\": \"M\"}, {\"Temperature (K)\": 3218, \"Luminosity(L/Lo)\": 0.00054, \"Radius(R/Ro)\": 0.11, \"Absolute magnitude(Mv)\": 20.02, \"Star type\": 0, \"Star color\": \"Red\", \"Spectral Class\": \"M\"}, {\"Temperature (K)\": 3146, \"Luminosity(L/Lo)\": 0.00015, \"Radius(R/Ro)\": 0.0932, \"Absolute magnitude(Mv)\": 16.92, \"Star type\": 0, \"Star color\": \"Red\", \"Spectral Class\": \"M\"}, {\"Temperature (K)\": 3511, \"Luminosity(L/Lo)\": 0.00064, \"Radius(R/Ro)\": 0.109, \"Absolute magnitude(Mv)\": 17.12, \"Star type\": 0, \"Star color\": \"Red\", \"Spectral Class\": \"M\"}, {\"Temperature (K)\": 3225, \"Luminosity(L/Lo)\": 0.00076, \"Radius(R/Ro)\": 0.121, \"Absolute magnitude(Mv)\": 19.63, \"Star type\": 0, \"Star color\": \"Red\", \"Spectral Class\": \"M\"}, {\"Temperature (K)\": 2935, \"Luminosity(L/Lo)\": 0.00087, \"Radius(R/Ro)\": 0.0932, \"Absolute magnitude(Mv)\": 16.88, \"Star type\": 0, \"Star color\": \"Red\", \"Spectral Class\": \"M\"}, {\"Temperature (K)\": 2861, \"Luminosity(L/Lo)\": 0.00019, \"Radius(R/Ro)\": 0.0899, \"Absolute magnitude(Mv)\": 16.71, \"Star type\": 0, \"Star color\": \"Red\", \"Spectral Class\": \"M\"}, {\"Temperature (K)\": 2856, \"Luminosity(L/Lo)\": 0.000896, \"Radius(R/Ro)\": 0.0782, \"Absolute magnitude(Mv)\": 19.56, \"Star type\": 0, \"Star color\": \"Red\", \"Spectral Class\": \"M\"}, {\"Temperature (K)\": 2731, \"Luminosity(L/Lo)\": 0.000437, \"Radius(R/Ro)\": 0.0856, \"Absolute magnitude(Mv)\": 18.09, \"Star type\": 0, \"Star color\": \"Red\", \"Spectral Class\": \"M\"}, {\"Temperature (K)\": 3095, \"Luminosity(L/Lo)\": 0.00019, \"Radius(R/Ro)\": 0.492, \"Absolute magnitude(Mv)\": 10.87, \"Star type\": 1, \"Star color\": \"Red\", \"Spectral Class\": \"M\"}, {\"Temperature (K)\": 3607, \"Luminosity(L/Lo)\": 0.00023, \"Radius(R/Ro)\": 0.38, \"Absolute magnitude(Mv)\": 10.34, \"Star type\": 1, \"Star color\": \"Red\", \"Spectral Class\": \"M\"}, {\"Temperature (K)\": 3100, \"Luminosity(L/Lo)\": 0.008, \"Radius(R/Ro)\": 0.31, \"Absolute magnitude(Mv)\": 11.17, \"Star type\": 1, \"Star color\": \"Red\", \"Spectral Class\": \"M\"}, {\"Temperature (K)\": 2989, \"Luminosity(L/Lo)\": 0.0087, \"Radius(R/Ro)\": 0.34, \"Absolute magnitude(Mv)\": 13.12, \"Star type\": 1, \"Star color\": \"Red\", \"Spectral Class\": \"M\"}, {\"Temperature (K)\": 3542, \"Luminosity(L/Lo)\": 0.0009, \"Radius(R/Ro)\": 0.62, \"Absolute magnitude(Mv)\": 14.23, \"Star type\": 1, \"Star color\": \"Red\", \"Spectral Class\": \"M\"}, {\"Temperature (K)\": 3243, \"Luminosity(L/Lo)\": 0.0023, \"Radius(R/Ro)\": 0.73, \"Absolute magnitude(Mv)\": 14.75, \"Star type\": 1, \"Star color\": \"Red\", \"Spectral Class\": \"M\"}, {\"Temperature (K)\": 3091, \"Luminosity(L/Lo)\": 0.0081, \"Radius(R/Ro)\": 0.24, \"Absolute magnitude(Mv)\": 11.43, \"Star type\": 1, \"Star color\": \"Red\", \"Spectral Class\": \"M\"}, {\"Temperature (K)\": 3598, \"Luminosity(L/Lo)\": 0.0011, \"Radius(R/Ro)\": 0.56, \"Absolute magnitude(Mv)\": 14.26, \"Star type\": 1, \"Star color\": \"Red\", \"Spectral Class\": \"M\"}, {\"Temperature (K)\": 3324, \"Luminosity(L/Lo)\": 0.0034, \"Radius(R/Ro)\": 0.34, \"Absolute magnitude(Mv)\": 12.23, \"Star type\": 1, \"Star color\": \"Red\", \"Spectral Class\": \"M\"}, {\"Temperature (K)\": 3541, \"Luminosity(L/Lo)\": 0.0013, \"Radius(R/Ro)\": 0.256, \"Absolute magnitude(Mv)\": 14.33, \"Star type\": 1, \"Star color\": \"Red\", \"Spectral Class\": \"M\"}, {\"Temperature (K)\": 13420, \"Luminosity(L/Lo)\": 0.00059, \"Radius(R/Ro)\": 0.00981, \"Absolute magnitude(Mv)\": 13.67, \"Star type\": 2, \"Star color\": \"Blue White\", \"Spectral Class\": \"B\"}, {\"Temperature (K)\": 21020, \"Luminosity(L/Lo)\": 0.0015, \"Radius(R/Ro)\": 0.0112, \"Absolute magnitude(Mv)\": 11.52, \"Star type\": 2, \"Star color\": \"Blue\", \"Spectral Class\": \"B\"}, {\"Temperature (K)\": 18290, \"Luminosity(L/Lo)\": 0.0013, \"Radius(R/Ro)\": 0.00934, \"Absolute magnitude(Mv)\": 12.78, \"Star type\": 2, \"Star color\": \"Blue\", \"Spectral Class\": \"B\"}, {\"Temperature (K)\": 14520, \"Luminosity(L/Lo)\": 0.00082, \"Radius(R/Ro)\": 0.00972, \"Absolute magnitude(Mv)\": 11.92, \"Star type\": 2, \"Star color\": \"Blue White\", \"Spectral Class\": \"B\"}, {\"Temperature (K)\": 11900, \"Luminosity(L/Lo)\": 0.00067, \"Radius(R/Ro)\": 0.00898, \"Absolute magnitude(Mv)\": 11.38, \"Star type\": 2, \"Star color\": \"Blue white \", \"Spectral Class\": \"B\"}, {\"Temperature (K)\": 8924, \"Luminosity(L/Lo)\": 0.00028, \"Radius(R/Ro)\": 0.00879, \"Absolute magnitude(Mv)\": 14.87, \"Star type\": 2, \"Star color\": \"Blue white\", \"Spectral Class\": \"A\"}, {\"Temperature (K)\": 12912, \"Luminosity(L/Lo)\": 0.00071, \"Radius(R/Ro)\": 0.00945, \"Absolute magnitude(Mv)\": 12.83, \"Star type\": 2, \"Star color\": \"Blue white\", \"Spectral Class\": \"B\"}, {\"Temperature (K)\": 14732, \"Luminosity(L/Lo)\": 0.00011, \"Radius(R/Ro)\": 0.00892, \"Absolute magnitude(Mv)\": 12.89, \"Star type\": 2, \"Star color\": \"white\", \"Spectral Class\": \"F\"}, {\"Temperature (K)\": 7723, \"Luminosity(L/Lo)\": 0.00014, \"Radius(R/Ro)\": 0.00878, \"Absolute magnitude(Mv)\": 14.81, \"Star type\": 2, \"Star color\": \"White\", \"Spectral Class\": \"A\"}, {\"Temperature (K)\": 12984, \"Luminosity(L/Lo)\": 0.00088, \"Radius(R/Ro)\": 0.00996, \"Absolute magnitude(Mv)\": 11.23, \"Star type\": 2, \"Star color\": \"Blue White\", \"Spectral Class\": \"B\"}, {\"Temperature (K)\": 29560, \"Luminosity(L/Lo)\": 188000.0, \"Radius(R/Ro)\": 6.02, \"Absolute magnitude(Mv)\": -4.01, \"Star type\": 3, \"Star color\": \"Blue-white\", \"Spectral Class\": \"B\"}, {\"Temperature (K)\": 8945, \"Luminosity(L/Lo)\": 38.0, \"Radius(R/Ro)\": 2.487, \"Absolute magnitude(Mv)\": 0.12, \"Star type\": 3, \"Star color\": \"Blue-White\", \"Spectral Class\": \"A\"}, {\"Temperature (K)\": 14060, \"Luminosity(L/Lo)\": 1092.0, \"Radius(R/Ro)\": 5.745, \"Absolute magnitude(Mv)\": -2.04, \"Star type\": 3, \"Star color\": \"Blue-white\", \"Spectral Class\": \"A\"}, {\"Temperature (K)\": 16390, \"Luminosity(L/Lo)\": 1278.0, \"Radius(R/Ro)\": 5.68, \"Absolute magnitude(Mv)\": -3.32, \"Star type\": 3, \"Star color\": \"Blue-white\", \"Spectral Class\": \"B\"}, {\"Temperature (K)\": 25070, \"Luminosity(L/Lo)\": 14500.0, \"Radius(R/Ro)\": 5.92, \"Absolute magnitude(Mv)\": -3.98, \"Star type\": 3, \"Star color\": \"Blue-white\", \"Spectral Class\": \"B\"}, {\"Temperature (K)\": 28700, \"Luminosity(L/Lo)\": 16790.0, \"Radius(R/Ro)\": 6.4, \"Absolute magnitude(Mv)\": -4.09, \"Star type\": 3, \"Star color\": \"Blue-white\", \"Spectral Class\": \"B\"}, {\"Temperature (K)\": 26140, \"Luminosity(L/Lo)\": 14520.0, \"Radius(R/Ro)\": 5.49, \"Absolute magnitude(Mv)\": -3.8, \"Star type\": 3, \"Star color\": \"Blue-white\", \"Spectral Class\": \"B\"}, {\"Temperature (K)\": 20120, \"Luminosity(L/Lo)\": 4720.0, \"Radius(R/Ro)\": 6.78, \"Absolute magnitude(Mv)\": -3.4, \"Star type\": 3, \"Star color\": \"Blue-white\", \"Spectral Class\": \"B\"}, {\"Temperature (K)\": 13023, \"Luminosity(L/Lo)\": 998.0, \"Radius(R/Ro)\": 6.21, \"Absolute magnitude(Mv)\": -1.38, \"Star type\": 3, \"Star color\": \"Blue-white\", \"Spectral Class\": \"A\"}, {\"Temperature (K)\": 37800, \"Luminosity(L/Lo)\": 202900.0, \"Radius(R/Ro)\": 6.86, \"Absolute magnitude(Mv)\": -4.56, \"Star type\": 3, \"Star color\": \"Blue\", \"Spectral Class\": \"O\"}, {\"Temperature (K)\": 25390, \"Luminosity(L/Lo)\": 223000.0, \"Radius(R/Ro)\": 57.0, \"Absolute magnitude(Mv)\": -5.92, \"Star type\": 4, \"Star color\": \"Blue\", \"Spectral Class\": \"O\"}, {\"Temperature (K)\": 11567, \"Luminosity(L/Lo)\": 251000.0, \"Radius(R/Ro)\": 36.0, \"Absolute magnitude(Mv)\": -6.245, \"Star type\": 4, \"Star color\": \"Blue\", \"Spectral Class\": \"O\"}, {\"Temperature (K)\": 12675, \"Luminosity(L/Lo)\": 452000.0, \"Radius(R/Ro)\": 83.0, \"Absolute magnitude(Mv)\": -5.62, \"Star type\": 4, \"Star color\": \"Blue\", \"Spectral Class\": \"O\"}, {\"Temperature (K)\": 5752, \"Luminosity(L/Lo)\": 245000.0, \"Radius(R/Ro)\": 97.0, \"Absolute magnitude(Mv)\": -6.63, \"Star type\": 4, \"Star color\": \"Blue\", \"Spectral Class\": \"O\"}, {\"Temperature (K)\": 8927, \"Luminosity(L/Lo)\": 239000.0, \"Radius(R/Ro)\": 35.0, \"Absolute magnitude(Mv)\": -7.34, \"Star type\": 4, \"Star color\": \"Blue\", \"Spectral Class\": \"O\"}, {\"Temperature (K)\": 7282, \"Luminosity(L/Lo)\": 131000.0, \"Radius(R/Ro)\": 24.0, \"Absolute magnitude(Mv)\": -7.22, \"Star type\": 4, \"Star color\": \"Blue\", \"Spectral Class\": \"O\"}, {\"Temperature (K)\": 19923, \"Luminosity(L/Lo)\": 152000.0, \"Radius(R/Ro)\": 73.0, \"Absolute magnitude(Mv)\": -5.69, \"Star type\": 4, \"Star color\": \"Blue\", \"Spectral Class\": \"O\"}, {\"Temperature (K)\": 26373, \"Luminosity(L/Lo)\": 198000.0, \"Radius(R/Ro)\": 39.0, \"Absolute magnitude(Mv)\": -5.83, \"Star type\": 4, \"Star color\": \"Blue\", \"Spectral Class\": \"O\"}, {\"Temperature (K)\": 17383, \"Luminosity(L/Lo)\": 342900.0, \"Radius(R/Ro)\": 30.0, \"Absolute magnitude(Mv)\": -6.09, \"Star type\": 4, \"Star color\": \"Blue\", \"Spectral Class\": \"O\"}, {\"Temperature (K)\": 9373, \"Luminosity(L/Lo)\": 424520.0, \"Radius(R/Ro)\": 24.0, \"Absolute magnitude(Mv)\": -5.99, \"Star type\": 4, \"Star color\": \"Blue\", \"Spectral Class\": \"O\"}, {\"Temperature (K)\": 3570, \"Luminosity(L/Lo)\": 320000.0, \"Radius(R/Ro)\": 1480.0, \"Absolute magnitude(Mv)\": -7.58, \"Star type\": 5, \"Star color\": \"Red\", \"Spectral Class\": \"M\"}, {\"Temperature (K)\": 3500, \"Luminosity(L/Lo)\": 138000.0, \"Radius(R/Ro)\": 1420.0, \"Absolute magnitude(Mv)\": -8.18, \"Star type\": 5, \"Star color\": \"Red\", \"Spectral Class\": \"M\"}, {\"Temperature (K)\": 4287, \"Luminosity(L/Lo)\": 630000.0, \"Radius(R/Ro)\": 1315.0, \"Absolute magnitude(Mv)\": -9.2, \"Star type\": 5, \"Star color\": \"Orange\", \"Spectral Class\": \"K\"}, {\"Temperature (K)\": 26000, \"Luminosity(L/Lo)\": 316000.0, \"Radius(R/Ro)\": 1679.0, \"Absolute magnitude(Mv)\": -9.1, \"Star type\": 5, \"Star color\": \"Blue\", \"Spectral Class\": \"B\"}, {\"Temperature (K)\": 3600, \"Luminosity(L/Lo)\": 240000.0, \"Radius(R/Ro)\": 1190.0, \"Absolute magnitude(Mv)\": -7.89, \"Star type\": 5, \"Star color\": \"Red\", \"Spectral Class\": \"M\"}, {\"Temperature (K)\": 3614, \"Luminosity(L/Lo)\": 145000.0, \"Radius(R/Ro)\": 1553.0, \"Absolute magnitude(Mv)\": -7.71, \"Star type\": 5, \"Star color\": \"Red\", \"Spectral Class\": \"M\"}, {\"Temperature (K)\": 18000, \"Luminosity(L/Lo)\": 200000.0, \"Radius(R/Ro)\": 1045.0, \"Absolute magnitude(Mv)\": -8.3, \"Star type\": 5, \"Star color\": \"Blue\", \"Spectral Class\": \"O\"}, {\"Temperature (K)\": 11000, \"Luminosity(L/Lo)\": 170000.0, \"Radius(R/Ro)\": 1779.0, \"Absolute magnitude(Mv)\": -9.9, \"Star type\": 5, \"Star color\": \"Blue-white\", \"Spectral Class\": \"B\"}, {\"Temperature (K)\": 12100, \"Luminosity(L/Lo)\": 120000.0, \"Radius(R/Ro)\": 708.9, \"Absolute magnitude(Mv)\": -7.84, \"Star type\": 5, \"Star color\": \"Blue-white\", \"Spectral Class\": \"B\"}, {\"Temperature (K)\": 24490, \"Luminosity(L/Lo)\": 248490.0, \"Radius(R/Ro)\": 1134.5, \"Absolute magnitude(Mv)\": -8.24, \"Star type\": 5, \"Star color\": \"Blue-white\", \"Spectral Class\": \"B\"}, {\"Temperature (K)\": 2831, \"Luminosity(L/Lo)\": 0.000231, \"Radius(R/Ro)\": 0.0915, \"Absolute magnitude(Mv)\": 16.21, \"Star type\": 0, \"Star color\": \"Red\", \"Spectral Class\": \"M\"}, {\"Temperature (K)\": 2914, \"Luminosity(L/Lo)\": 0.000631, \"Radius(R/Ro)\": 0.116, \"Absolute magnitude(Mv)\": 18.39, \"Star type\": 0, \"Star color\": \"Red\", \"Spectral Class\": \"M\"}, {\"Temperature (K)\": 3419, \"Luminosity(L/Lo)\": 0.000245, \"Radius(R/Ro)\": 0.126, \"Absolute magnitude(Mv)\": 17.56, \"Star type\": 0, \"Star color\": \"Red\", \"Spectral Class\": \"M\"}, {\"Temperature (K)\": 3218, \"Luminosity(L/Lo)\": 0.000452, \"Radius(R/Ro)\": 0.0987, \"Absolute magnitude(Mv)\": 17.34, \"Star type\": 0, \"Star color\": \"Red\", \"Spectral Class\": \"M\"}, {\"Temperature (K)\": 3453, \"Luminosity(L/Lo)\": 0.000621, \"Radius(R/Ro)\": 0.0773, \"Absolute magnitude(Mv)\": 17.08, \"Star type\": 0, \"Star color\": \"Red\", \"Spectral Class\": \"M\"}, {\"Temperature (K)\": 2889, \"Luminosity(L/Lo)\": 0.000352, \"Radius(R/Ro)\": 0.0973, \"Absolute magnitude(Mv)\": 16.93, \"Star type\": 0, \"Star color\": \"Red\", \"Spectral Class\": \"M\"}, {\"Temperature (K)\": 2968, \"Luminosity(L/Lo)\": 0.000461, \"Radius(R/Ro)\": 0.119, \"Absolute magnitude(Mv)\": 17.45, \"Star type\": 0, \"Star color\": \"Red\", \"Spectral Class\": \"M\"}, {\"Temperature (K)\": 3484, \"Luminosity(L/Lo)\": 0.000551, \"Radius(R/Ro)\": 0.0998, \"Absolute magnitude(Mv)\": 16.67, \"Star type\": 0, \"Star color\": \"Red\", \"Spectral Class\": \"M\"}, {\"Temperature (K)\": 2778, \"Luminosity(L/Lo)\": 0.000849, \"Radius(R/Ro)\": 0.112, \"Absolute magnitude(Mv)\": 19.45, \"Star type\": 0, \"Star color\": \"Red\", \"Spectral Class\": \"M\"}, {\"Temperature (K)\": 3523, \"Luminosity(L/Lo)\": 0.000957, \"Radius(R/Ro)\": 0.129, \"Absolute magnitude(Mv)\": 16.35, \"Star type\": 0, \"Star color\": \"Red\", \"Spectral Class\": \"M\"}, {\"Temperature (K)\": 3462, \"Luminosity(L/Lo)\": 0.0053, \"Radius(R/Ro)\": 0.148, \"Absolute magnitude(Mv)\": 11.47, \"Star type\": 1, \"Star color\": \"Red\", \"Spectral Class\": \"M\"}, {\"Temperature (K)\": 3257, \"Luminosity(L/Lo)\": 0.0024, \"Radius(R/Ro)\": 0.46, \"Absolute magnitude(Mv)\": 10.73, \"Star type\": 1, \"Star color\": \"Red\", \"Spectral Class\": \"M\"}, {\"Temperature (K)\": 2994, \"Luminosity(L/Lo)\": 0.0072, \"Radius(R/Ro)\": 0.28, \"Absolute magnitude(Mv)\": 13.45, \"Star type\": 1, \"Star color\": \"Red\", \"Spectral Class\": \"M\"}, {\"Temperature (K)\": 3212, \"Luminosity(L/Lo)\": 0.0016, \"Radius(R/Ro)\": 0.378, \"Absolute magnitude(Mv)\": 12.854, \"Star type\": 1, \"Star color\": \"Red\", \"Spectral Class\": \"M\"}, {\"Temperature (K)\": 3523, \"Luminosity(L/Lo)\": 0.0054, \"Radius(R/Ro)\": 0.319, \"Absolute magnitude(Mv)\": 12.43, \"Star type\": 1, \"Star color\": \"Red\", \"Spectral Class\": \"M\"}, {\"Temperature (K)\": 3598, \"Luminosity(L/Lo)\": 0.0027, \"Radius(R/Ro)\": 0.67, \"Absolute magnitude(Mv)\": 13.667, \"Star type\": 1, \"Star color\": \"Red\", \"Spectral Class\": \"M\"}, {\"Temperature (K)\": 3142, \"Luminosity(L/Lo)\": 0.00132, \"Radius(R/Ro)\": 0.258, \"Absolute magnitude(Mv)\": 14.12, \"Star type\": 1, \"Star color\": \"Red\", \"Spectral Class\": \"M\"}, {\"Temperature (K)\": 3496, \"Luminosity(L/Lo)\": 0.00125, \"Radius(R/Ro)\": 0.336, \"Absolute magnitude(Mv)\": 14.94, \"Star type\": 1, \"Star color\": \"Red\", \"Spectral Class\": \"M\"}, {\"Temperature (K)\": 3324, \"Luminosity(L/Lo)\": 0.0065, \"Radius(R/Ro)\": 0.471, \"Absolute magnitude(Mv)\": 12.78, \"Star type\": 1, \"Star color\": \"Red\", \"Spectral Class\": \"M\"}, {\"Temperature (K)\": 3463, \"Luminosity(L/Lo)\": 0.0027, \"Radius(R/Ro)\": 0.675, \"Absolute magnitude(Mv)\": 14.776, \"Star type\": 1, \"Star color\": \"Red\", \"Spectral Class\": \"M\"}, {\"Temperature (K)\": 16790, \"Luminosity(L/Lo)\": 0.0014, \"Radius(R/Ro)\": 0.0121, \"Absolute magnitude(Mv)\": 12.87, \"Star type\": 2, \"Star color\": \"Blue\", \"Spectral Class\": \"B\"}, {\"Temperature (K)\": 15680, \"Luminosity(L/Lo)\": 0.00122, \"Radius(R/Ro)\": 0.0114, \"Absolute magnitude(Mv)\": 11.92, \"Star type\": 2, \"Star color\": \"Blue\", \"Spectral Class\": \"B\"}, {\"Temperature (K)\": 14982, \"Luminosity(L/Lo)\": 0.00118, \"Radius(R/Ro)\": 0.0113, \"Absolute magnitude(Mv)\": 12.23, \"Star type\": 2, \"Star color\": \"Blue\", \"Spectral Class\": \"B\"}, {\"Temperature (K)\": 13340, \"Luminosity(L/Lo)\": 0.00109, \"Radius(R/Ro)\": 0.0116, \"Absolute magnitude(Mv)\": 12.9, \"Star type\": 2, \"Star color\": \"Blue\", \"Spectral Class\": \"B\"}, {\"Temperature (K)\": 18340, \"Luminosity(L/Lo)\": 0.00134, \"Radius(R/Ro)\": 0.0124, \"Absolute magnitude(Mv)\": 11.22, \"Star type\": 2, \"Star color\": \"Blue\", \"Spectral Class\": \"B\"}, {\"Temperature (K)\": 19920, \"Luminosity(L/Lo)\": 0.00156, \"Radius(R/Ro)\": 0.0142, \"Absolute magnitude(Mv)\": 11.34, \"Star type\": 2, \"Star color\": \"Blue\", \"Spectral Class\": \"B\"}, {\"Temperature (K)\": 24020, \"Luminosity(L/Lo)\": 0.00159, \"Radius(R/Ro)\": 0.0127, \"Absolute magnitude(Mv)\": 10.55, \"Star type\": 2, \"Star color\": \"Blue\", \"Spectral Class\": \"B\"}, {\"Temperature (K)\": 23092, \"Luminosity(L/Lo)\": 0.00132, \"Radius(R/Ro)\": 0.0104, \"Absolute magnitude(Mv)\": 10.18, \"Star type\": 2, \"Star color\": \"Blue\", \"Spectral Class\": \"B\"}, {\"Temperature (K)\": 17920, \"Luminosity(L/Lo)\": 0.00111, \"Radius(R/Ro)\": 0.0106, \"Absolute magnitude(Mv)\": 11.66, \"Star type\": 2, \"Star color\": \"Blue\", \"Spectral Class\": \"B\"}, {\"Temperature (K)\": 19360, \"Luminosity(L/Lo)\": 0.00125, \"Radius(R/Ro)\": 0.00998, \"Absolute magnitude(Mv)\": 11.62, \"Star type\": 2, \"Star color\": \"Blue\", \"Spectral Class\": \"B\"}, {\"Temperature (K)\": 22350, \"Luminosity(L/Lo)\": 12450.0, \"Radius(R/Ro)\": 6.36, \"Absolute magnitude(Mv)\": -3.67, \"Star type\": 3, \"Star color\": \"Blue-white\", \"Spectral Class\": \"B\"}, {\"Temperature (K)\": 10012, \"Luminosity(L/Lo)\": 552.0, \"Radius(R/Ro)\": 5.856, \"Absolute magnitude(Mv)\": 0.013, \"Star type\": 3, \"Star color\": \"Blue-white\", \"Spectral Class\": \"A\"}, {\"Temperature (K)\": 13089, \"Luminosity(L/Lo)\": 788.0, \"Radius(R/Ro)\": 5.992, \"Absolute magnitude(Mv)\": -0.12, \"Star type\": 3, \"Star color\": \"Blue-white\", \"Spectral Class\": \"A\"}, {\"Temperature (K)\": 22012, \"Luminosity(L/Lo)\": 6748.0, \"Radius(R/Ro)\": 6.64, \"Absolute magnitude(Mv)\": -2.55, \"Star type\": 3, \"Star color\": \"Blue-white\", \"Spectral Class\": \"B\"}, {\"Temperature (K)\": 34190, \"Luminosity(L/Lo)\": 198200.0, \"Radius(R/Ro)\": 6.39, \"Absolute magnitude(Mv)\": -4.57, \"Star type\": 3, \"Star color\": \"Blue\", \"Spectral Class\": \"O\"}, {\"Temperature (K)\": 32460, \"Luminosity(L/Lo)\": 173800.0, \"Radius(R/Ro)\": 6.237, \"Absolute magnitude(Mv)\": -4.36, \"Star type\": 3, \"Star color\": \"Blue\", \"Spectral Class\": \"O\"}, {\"Temperature (K)\": 9320, \"Luminosity(L/Lo)\": 29.0, \"Radius(R/Ro)\": 1.91, \"Absolute magnitude(Mv)\": 1.236, \"Star type\": 3, \"Star color\": \"Blue-white\", \"Spectral Class\": \"A\"}, {\"Temperature (K)\": 19400, \"Luminosity(L/Lo)\": 10920.0, \"Radius(R/Ro)\": 6.03, \"Absolute magnitude(Mv)\": -3.08, \"Star type\": 3, \"Star color\": \"Blue-white\", \"Spectral Class\": \"B\"}, {\"Temperature (K)\": 17140, \"Luminosity(L/Lo)\": 883.0, \"Radius(R/Ro)\": 5.653, \"Absolute magnitude(Mv)\": -2.64, \"Star type\": 3, \"Star color\": \"Blue-white\", \"Spectral Class\": \"B\"}, {\"Temperature (K)\": 8250, \"Luminosity(L/Lo)\": 9.25, \"Radius(R/Ro)\": 1.93, \"Absolute magnitude(Mv)\": -0.98, \"Star type\": 3, \"Star color\": \"yellow-white\", \"Spectral Class\": \"F\"}, {\"Temperature (K)\": 23678, \"Luminosity(L/Lo)\": 244290.0, \"Radius(R/Ro)\": 35.0, \"Absolute magnitude(Mv)\": -6.27, \"Star type\": 4, \"Star color\": \"Blue\", \"Spectral Class\": \"O\"}, {\"Temperature (K)\": 12749, \"Luminosity(L/Lo)\": 332520.0, \"Radius(R/Ro)\": 76.0, \"Absolute magnitude(Mv)\": -7.02, \"Star type\": 4, \"Star color\": \"Blue\", \"Spectral Class\": \"O\"}, {\"Temperature (K)\": 9383, \"Luminosity(L/Lo)\": 342940.0, \"Radius(R/Ro)\": 98.0, \"Absolute magnitude(Mv)\": -6.98, \"Star type\": 4, \"Star color\": \"Blue\", \"Spectral Class\": \"O\"}, {\"Temperature (K)\": 23440, \"Luminosity(L/Lo)\": 537430.0, \"Radius(R/Ro)\": 81.0, \"Absolute magnitude(Mv)\": -5.975, \"Star type\": 4, \"Star color\": \"Blue\", \"Spectral Class\": \"O\"}, {\"Temperature (K)\": 16787, \"Luminosity(L/Lo)\": 246730.0, \"Radius(R/Ro)\": 62.0, \"Absolute magnitude(Mv)\": -6.35, \"Star type\": 4, \"Star color\": \"Blue\", \"Spectral Class\": \"O\"}, {\"Temperature (K)\": 18734, \"Luminosity(L/Lo)\": 224780.0, \"Radius(R/Ro)\": 46.0, \"Absolute magnitude(Mv)\": -7.45, \"Star type\": 4, \"Star color\": \"Blue\", \"Spectral Class\": \"O\"}, {\"Temperature (K)\": 9892, \"Luminosity(L/Lo)\": 593900.0, \"Radius(R/Ro)\": 80.0, \"Absolute magnitude(Mv)\": -7.262, \"Star type\": 4, \"Star color\": \"Blue\", \"Spectral Class\": \"O\"}, {\"Temperature (K)\": 10930, \"Luminosity(L/Lo)\": 783930.0, \"Radius(R/Ro)\": 25.0, \"Absolute magnitude(Mv)\": -6.224, \"Star type\": 4, \"Star color\": \"Blue\", \"Spectral Class\": \"O\"}, {\"Temperature (K)\": 23095, \"Luminosity(L/Lo)\": 347820.0, \"Radius(R/Ro)\": 86.0, \"Absolute magnitude(Mv)\": -5.905, \"Star type\": 4, \"Star color\": \"Blue\", \"Spectral Class\": \"O\"}, {\"Temperature (K)\": 21738, \"Luminosity(L/Lo)\": 748890.0, \"Radius(R/Ro)\": 92.0, \"Absolute magnitude(Mv)\": -7.346, \"Star type\": 4, \"Star color\": \"Blue\", \"Spectral Class\": \"O\"}, {\"Temperature (K)\": 24145, \"Luminosity(L/Lo)\": 382993.0, \"Radius(R/Ro)\": 1494.0, \"Absolute magnitude(Mv)\": -8.84, \"Star type\": 5, \"Star color\": \"Blue-white\", \"Spectral Class\": \"B\"}, {\"Temperature (K)\": 38234, \"Luminosity(L/Lo)\": 272830.0, \"Radius(R/Ro)\": 1356.0, \"Absolute magnitude(Mv)\": -9.29, \"Star type\": 5, \"Star color\": \"Blue\", \"Spectral Class\": \"O\"}, {\"Temperature (K)\": 32489, \"Luminosity(L/Lo)\": 648430.0, \"Radius(R/Ro)\": 1948.5, \"Absolute magnitude(Mv)\": -10.84, \"Star type\": 5, \"Star color\": \"Blue\", \"Spectral Class\": \"O\"}, {\"Temperature (K)\": 27739, \"Luminosity(L/Lo)\": 849420.0, \"Radius(R/Ro)\": 1252.0, \"Absolute magnitude(Mv)\": -7.59, \"Star type\": 5, \"Star color\": \"Blue-white\", \"Spectral Class\": \"B\"}, {\"Temperature (K)\": 21904, \"Luminosity(L/Lo)\": 748490.0, \"Radius(R/Ro)\": 1130.0, \"Absolute magnitude(Mv)\": -7.67, \"Star type\": 5, \"Star color\": \"Blue-white\", \"Spectral Class\": \"B\"}, {\"Temperature (K)\": 38940, \"Luminosity(L/Lo)\": 374830.0, \"Radius(R/Ro)\": 1356.0, \"Absolute magnitude(Mv)\": -9.93, \"Star type\": 5, \"Star color\": \"Blue\", \"Spectral Class\": \"O\"}, {\"Temperature (K)\": 30839, \"Luminosity(L/Lo)\": 834042.0, \"Radius(R/Ro)\": 1194.0, \"Absolute magnitude(Mv)\": -10.63, \"Star type\": 5, \"Star color\": \"Blue\", \"Spectral Class\": \"O\"}, {\"Temperature (K)\": 8829, \"Luminosity(L/Lo)\": 537493.0, \"Radius(R/Ro)\": 1423.0, \"Absolute magnitude(Mv)\": -10.73, \"Star type\": 5, \"Star color\": \"White\", \"Spectral Class\": \"A\"}, {\"Temperature (K)\": 9235, \"Luminosity(L/Lo)\": 404940.0, \"Radius(R/Ro)\": 1112.0, \"Absolute magnitude(Mv)\": -11.23, \"Star type\": 5, \"Star color\": \"White\", \"Spectral Class\": \"A\"}, {\"Temperature (K)\": 37882, \"Luminosity(L/Lo)\": 294903.0, \"Radius(R/Ro)\": 1783.0, \"Absolute magnitude(Mv)\": -7.8, \"Star type\": 5, \"Star color\": \"Blue\", \"Spectral Class\": \"O\"}]}}, {\"mode\": \"vega-lite\"});\n",
       "</script>"
      ],
      "text/plain": [
       "alt.HConcatChart(...)"
      ]
     },
     "execution_count": 5,
     "metadata": {},
     "output_type": "execute_result"
    }
   ],
   "source": [
    "brush = alt.selection_interval()\n",
    "c1 = alt.Chart(df).mark_point().encode(\n",
    "    x='Absolute magnitude(Mv)',\n",
    "    y='Radius(R/Ro):Q',\n",
    "    color='Star type:N'\n",
    ").add_selection(brush)\n",
    "\n",
    "c2= alt.Chart(df).mark_bar().encode(\n",
    "    x = 'Star type:N',\n",
    "    y='Absolute magnitude(Mv)'\n",
    ").transform_filter(brush)\n",
    "\n",
    "c1|c2"
   ]
  },
  {
   "cell_type": "markdown",
   "metadata": {
    "cell_id": "aec561f8-0ca3-4912-837b-9db092724bdb",
    "deepnote_cell_height": 110,
    "deepnote_cell_type": "markdown",
    "tags": []
   },
   "source": [
    "## Predict the Star type\n",
    "Firstly, KNeighborsClassifier is used to predict the star type"
   ]
  },
  {
   "cell_type": "code",
   "execution_count": null,
   "metadata": {
    "cell_id": "00008-e3e0100f-c91f-4e76-b214-889703f93bf6",
    "deepnote_cell_height": 153,
    "deepnote_cell_type": "code",
    "deepnote_to_be_reexecuted": false,
    "execution_millis": 178,
    "execution_start": 1647306259974,
    "source_hash": "ee544bab",
    "tags": []
   },
   "outputs": [],
   "source": [
    "from sklearn.neighbors import KNeighborsClassifier\n",
    "from sklearn.preprocessing import StandardScaler\n",
    "from sklearn.metrics import log_loss\n",
    "from sklearn.model_selection import train_test_split\n",
    "from sklearn.metrics import mean_squared_error, mean_absolute_error"
   ]
  },
  {
   "cell_type": "code",
   "execution_count": null,
   "metadata": {
    "cell_id": "856da56e-d57d-442c-ad6b-7f7ed9a499e2",
    "deepnote_cell_height": 99,
    "deepnote_cell_type": "code",
    "deepnote_to_be_reexecuted": false,
    "execution_millis": 2,
    "execution_start": 1647306260155,
    "source_hash": "1b61da4d",
    "tags": []
   },
   "outputs": [],
   "source": [
    "X = df.iloc[:,:4]\n",
    "y = df[\"Star type\"]"
   ]
  },
  {
   "cell_type": "markdown",
   "metadata": {
    "cell_id": "83ded1bd-5cce-49da-9279-edd257c96d73",
    "deepnote_cell_height": 78,
    "deepnote_cell_type": "markdown",
    "tags": []
   },
   "source": [
    "Before using using K-Nearest Neighbors Classifier, a scaler is used to scale the input data to avoid errors."
   ]
  },
  {
   "cell_type": "code",
   "execution_count": null,
   "metadata": {
    "cell_id": "003481c6-ddf0-4087-8bae-c50dc3eecdf3",
    "deepnote_cell_height": 117,
    "deepnote_cell_type": "code",
    "deepnote_to_be_reexecuted": false,
    "execution_millis": 6,
    "execution_start": 1647306260160,
    "source_hash": "3f7881ff",
    "tags": []
   },
   "outputs": [],
   "source": [
    "scaler = StandardScaler()\n",
    "scaler.fit(X)\n",
    "X_scaled = scaler.transform(X)"
   ]
  },
  {
   "cell_type": "code",
   "execution_count": null,
   "metadata": {
    "cell_id": "628b3102-2971-42a3-927e-ee67cc72ef72",
    "deepnote_cell_height": 81,
    "deepnote_cell_type": "code",
    "deepnote_to_be_reexecuted": false,
    "execution_millis": 1,
    "execution_start": 1647306260171,
    "source_hash": "a4362ff3",
    "tags": []
   },
   "outputs": [],
   "source": [
    "X_train, X_test, y_train, y_test = train_test_split(X_scaled, y, test_size=0.2)"
   ]
  },
  {
   "cell_type": "code",
   "execution_count": null,
   "metadata": {
    "cell_id": "b3ef3981-f89c-4343-b001-b47bc37f666b",
    "deepnote_cell_height": 135,
    "deepnote_cell_type": "code",
    "deepnote_to_be_reexecuted": false,
    "execution_millis": 7,
    "execution_start": 1647306260175,
    "source_hash": "91724d2b",
    "tags": []
   },
   "outputs": [],
   "source": [
    "clf = KNeighborsClassifier()\n",
    "clf.fit(X_train, y_train)\n",
    "loss_train = log_loss(y_train, clf.predict_proba(X_train))\n",
    "loss_test = log_loss(y_test, clf.predict_proba(X_test))"
   ]
  },
  {
   "cell_type": "code",
   "execution_count": null,
   "metadata": {
    "cell_id": "461c0281-3993-48be-a3e9-dd80e40d19a9",
    "deepnote_cell_height": 168.375,
    "deepnote_cell_type": "code",
    "deepnote_to_be_reexecuted": false,
    "execution_millis": 241,
    "execution_start": 1647306260186,
    "source_hash": "d8487f81",
    "tags": []
   },
   "outputs": [
    {
     "name": "stdout",
     "output_type": "stream",
     "text": [
      "The log_loss of X_train and y_train is 0.03\n",
      "The log_loss of X_test and y_test is 0.02\n"
     ]
    }
   ],
   "source": [
    "print(f\"The log_loss of X_train and y_train is {loss_train:.2f}\")\n",
    "print(f\"The log_loss of X_test and y_test is {loss_test:.2f}\")\n"
   ]
  },
  {
   "cell_type": "code",
   "execution_count": null,
   "metadata": {
    "cell_id": "65c077d9-104a-4a7c-bc0b-8bba18b09c0f",
    "deepnote_cell_height": 81,
    "deepnote_cell_type": "code",
    "deepnote_to_be_reexecuted": false,
    "execution_millis": 0,
    "execution_start": 1647306260235,
    "source_hash": "bc9f22bf",
    "tags": []
   },
   "outputs": [],
   "source": [
    "df['predict_K'] = clf.predict(X_scaled)"
   ]
  },
  {
   "cell_type": "markdown",
   "metadata": {
    "cell_id": "3348931d-eae7-4c35-b4ea-5beb702013e1",
    "deepnote_cell_height": 78,
    "deepnote_cell_type": "markdown",
    "tags": []
   },
   "source": [
    "The logloss of testing data is not large, so there isn't a sign of overfitting"
   ]
  },
  {
   "cell_type": "code",
   "execution_count": null,
   "metadata": {
    "cell_id": "7c281015-1e48-4df3-9150-3ec760d16c2d",
    "deepnote_cell_height": 156.5625,
    "deepnote_cell_type": "code",
    "deepnote_output_heights": [
     59.5625
    ],
    "deepnote_to_be_reexecuted": false,
    "execution_millis": 193,
    "execution_start": 1647306260236,
    "source_hash": "1b62b4ee",
    "tags": []
   },
   "outputs": [
    {
     "data": {
      "text/plain": [
       "True     237\n",
       "False      3\n",
       "dtype: int64"
      ]
     },
     "execution_count": 13,
     "metadata": {},
     "output_type": "execute_result"
    }
   ],
   "source": [
    "(df[\"Star type\"] == df[\"predict_K\"]).value_counts()"
   ]
  },
  {
   "cell_type": "markdown",
   "metadata": {
    "cell_id": "092f72ad-d100-40d4-958f-16665f9b85e7",
    "deepnote_cell_height": 78,
    "deepnote_cell_type": "markdown",
    "tags": []
   },
   "source": [
    "Here we can see that the predicted data is very close to the real data, and there isn't a sign me over-fitting."
   ]
  },
  {
   "cell_type": "markdown",
   "metadata": {
    "cell_id": "73631f30-8693-462f-975f-352ecef16a88",
    "deepnote_cell_height": 122,
    "deepnote_cell_type": "markdown",
    "tags": []
   },
   "source": [
    "## Predict the Luminosity"
   ]
  },
  {
   "cell_type": "markdown",
   "metadata": {
    "cell_id": "551930c7-51cb-48e9-be86-417aaabed405",
    "deepnote_cell_height": 94,
    "deepnote_cell_type": "markdown",
    "tags": []
   },
   "source": [
    "After using K Neraerst Neighbors to predict the type of a star, I am interested in finding how does radius and temperature are related to the luminorsity of a star. "
   ]
  },
  {
   "cell_type": "markdown",
   "metadata": {
    "cell_id": "84bc8d99-82b6-4404-a5f4-77e19933e1d8",
    "deepnote_cell_height": 54,
    "deepnote_cell_type": "markdown",
    "tags": []
   },
   "source": [
    "I first try the LinearRegressor"
   ]
  },
  {
   "cell_type": "code",
   "execution_count": null,
   "metadata": {
    "cell_id": "b9e71504-e96a-423d-b61c-40778972a6b1",
    "deepnote_cell_height": 370.75,
    "deepnote_cell_type": "code",
    "deepnote_to_be_reexecuted": false,
    "execution_millis": 192,
    "execution_start": 1647306260237,
    "source_hash": "342842ed",
    "tags": []
   },
   "outputs": [
    {
     "name": "stdout",
     "output_type": "stream",
     "text": [
      "the coefficients of reg are [174.63473048   6.78255167]\n",
      "the intersept of reg is -5427.205389764014.\n",
      "The Mean square error is 19010660326.728\n",
      "The Mean absolute error is 87486.680\n"
     ]
    }
   ],
   "source": [
    "from sklearn.linear_model import LinearRegression\n",
    "from sklearn.metrics import mean_squared_error\n",
    "X2 = df[['Radius(R/Ro)','Temperature (K)']]\n",
    "y2 = df['Luminosity(L/Lo)']\n",
    "reg1 = LinearRegression()\n",
    "reg1.fit(X2,y2)\n",
    "MSE1 = mean_squared_error(y2,reg1.predict(X2))\n",
    "MAE1 = mean_absolute_error(y2,reg1.predict(X2))\n",
    "print(f\"the coefficients of reg are {reg1.coef_}\")\n",
    "print(f\"the intersept of reg is {reg1.intercept_}.\")\n",
    "print(f'The Mean square error is {MSE1:.3f}')\n",
    "print(f'The Mean absolute error is {MAE1:.3f}')"
   ]
  },
  {
   "cell_type": "markdown",
   "metadata": {
    "cell_id": "92949d8d-b1b5-4eeb-9cce-c4b41a4b9b6b",
    "deepnote_cell_height": 102,
    "deepnote_cell_type": "markdown",
    "tags": []
   },
   "source": [
    "The MSE is too high at this case, then I choose to try the KneighborRegressor, and again, the input should be scaled first because they are not in the same unit. "
   ]
  },
  {
   "cell_type": "code",
   "execution_count": null,
   "metadata": {
    "cell_id": "bb7be57f-96a6-49c3-89a7-c928a5813fa4",
    "deepnote_cell_height": 153,
    "deepnote_cell_type": "code",
    "deepnote_to_be_reexecuted": false,
    "execution_millis": 2,
    "execution_start": 1647306260242,
    "source_hash": "467034ed",
    "tags": []
   },
   "outputs": [],
   "source": [
    "from sklearn.neighbors import KNeighborsRegressor\n",
    "scaler = StandardScaler()\n",
    "scaler.fit(X2)\n",
    "X2_scaled = scaler.transform(X2)\n",
    "reg2 = KNeighborsRegressor(n_neighbors=4)"
   ]
  },
  {
   "cell_type": "code",
   "execution_count": null,
   "metadata": {
    "cell_id": "370f163e-dede-472c-8137-8b9b0197774e",
    "deepnote_cell_height": 222.375,
    "deepnote_cell_type": "code",
    "deepnote_to_be_reexecuted": false,
    "execution_millis": 156,
    "execution_start": 1647306260274,
    "source_hash": "51419990",
    "tags": []
   },
   "outputs": [
    {
     "name": "stdout",
     "output_type": "stream",
     "text": [
      "The Mean square error is 9605051475.136\n",
      "The Mean absolute error is 47796.629\n"
     ]
    }
   ],
   "source": [
    "reg2.fit(X2_scaled, y2)\n",
    "df['predict_l'] = reg2.predict(X2_scaled)\n",
    "MSE2 = mean_squared_error(reg2.predict(X2_scaled),y2)\n",
    "MAE2 = mean_absolute_error(reg2.predict(X2_scaled),y2)\n",
    "print(f'The Mean square error is {MSE2:.3f}')\n",
    "print(f'The Mean absolute error is {MAE2:.3f}')"
   ]
  },
  {
   "cell_type": "markdown",
   "metadata": {
    "cell_id": "1312fffc-6970-475b-9364-d278097f9be4",
    "deepnote_cell_height": 90.390625,
    "deepnote_cell_type": "markdown",
    "tags": []
   },
   "source": [
    "The number is still large, but smaller than the prediced error in linear regression. The reason for it might be that it is not a linear relationship, but a polynomial relationship.\n",
    "\n",
    "To check if it is a polynomial regression, the polynomialfeatures is used. "
   ]
  },
  {
   "cell_type": "code",
   "execution_count": null,
   "metadata": {
    "cell_id": "ca269d87-ba5e-4df9-b855-26462d94bd8a",
    "deepnote_cell_height": 136.1875,
    "deepnote_cell_type": "code",
    "deepnote_output_heights": [
     21.1875
    ],
    "deepnote_to_be_reexecuted": false,
    "execution_millis": 156,
    "execution_start": 1647306260275,
    "source_hash": "673a7974",
    "tags": []
   },
   "outputs": [
    {
     "data": {
      "text/plain": [
       "Index(['Temperature (K)', 'Luminosity(L/Lo)', 'Radius(R/Ro)'], dtype='object')"
      ]
     },
     "execution_count": 17,
     "metadata": {},
     "output_type": "execute_result"
    }
   ],
   "source": [
    "df3 = df.iloc[:,:3]\n",
    "df3.columns"
   ]
  },
  {
   "cell_type": "code",
   "execution_count": null,
   "metadata": {
    "cell_id": "2ee8e7a9-3cb5-40f8-a31f-678aa9ce7f5d",
    "deepnote_cell_height": 99,
    "deepnote_cell_type": "code",
    "deepnote_to_be_reexecuted": false,
    "execution_millis": 1,
    "execution_start": 1647306260276,
    "source_hash": "7143e928",
    "tags": []
   },
   "outputs": [],
   "source": [
    "y_ply = df['Luminosity(L/Lo)']\n",
    "X_ply = df[['Temperature (K)', 'Radius(R/Ro)']]"
   ]
  },
  {
   "cell_type": "code",
   "execution_count": null,
   "metadata": {
    "cell_id": "747dee6d-937d-492a-9e0e-26350095bf60",
    "deepnote_cell_height": 81,
    "deepnote_cell_type": "code",
    "deepnote_to_be_reexecuted": false,
    "execution_millis": 1,
    "execution_start": 1647306260278,
    "source_hash": "e253d258",
    "tags": []
   },
   "outputs": [],
   "source": [
    "from sklearn.preprocessing import PolynomialFeatures"
   ]
  },
  {
   "cell_type": "markdown",
   "metadata": {
    "cell_id": "49a8c209-72be-4785-8a6b-53a7bdf39e40",
    "deepnote_cell_height": 126,
    "deepnote_cell_type": "markdown",
    "tags": []
   },
   "source": [
    "Here I first created a dataframe that contains all posibilities of combination of temperature and radius within 9 degree."
   ]
  },
  {
   "cell_type": "code",
   "execution_count": null,
   "metadata": {
    "cell_id": "d7dfbde2-aa1c-4613-8cf1-0d095eda05fa",
    "deepnote_cell_height": 117,
    "deepnote_cell_type": "code",
    "deepnote_to_be_reexecuted": false,
    "execution_millis": 4,
    "execution_start": 1647306260282,
    "source_hash": "700988e3",
    "tags": []
   },
   "outputs": [],
   "source": [
    "poly = PolynomialFeatures(degree=9)\n",
    "df_ply = pd.DataFrame(poly.fit_transform(X_ply))\n",
    "df_ply.columns = poly.get_feature_names_out()"
   ]
  },
  {
   "cell_type": "code",
   "execution_count": null,
   "metadata": {
    "cell_id": "886ab361-0a8e-4cc1-9fa3-e4c03e8d056e",
    "deepnote_cell_height": 615,
    "deepnote_cell_type": "code",
    "deepnote_to_be_reexecuted": false,
    "execution_millis": 173,
    "execution_start": 1647306260299,
    "source_hash": "7643eee4",
    "tags": []
   },
   "outputs": [
    {
     "data": {
      "application/vnd.deepnote.dataframe.v3+json": {
       "column_count": 55,
       "columns": [
        {
         "dtype": "float64",
         "name": "1",
         "stats": {
          "histogram": [
           {
            "bin_end": 0.6,
            "bin_start": 0.5,
            "count": 0
           },
           {
            "bin_end": 0.7,
            "bin_start": 0.6,
            "count": 0
           },
           {
            "bin_end": 0.8,
            "bin_start": 0.7,
            "count": 0
           },
           {
            "bin_end": 0.9,
            "bin_start": 0.8,
            "count": 0
           },
           {
            "bin_end": 1,
            "bin_start": 0.9,
            "count": 0
           },
           {
            "bin_end": 1.1,
            "bin_start": 1,
            "count": 240
           },
           {
            "bin_end": 1.2000000000000002,
            "bin_start": 1.1,
            "count": 0
           },
           {
            "bin_end": 1.3,
            "bin_start": 1.2000000000000002,
            "count": 0
           },
           {
            "bin_end": 1.4,
            "bin_start": 1.3,
            "count": 0
           },
           {
            "bin_end": 1.5,
            "bin_start": 1.4,
            "count": 0
           }
          ],
          "max": "1.0",
          "min": "1.0",
          "nan_count": 0,
          "unique_count": 1
         }
        },
        {
         "dtype": "float64",
         "name": "Temperature (K)",
         "stats": {
          "histogram": [
           {
            "bin_end": 5745.1,
            "bin_start": 1939,
            "count": 119
           },
           {
            "bin_end": 9551.2,
            "bin_start": 5745.1,
            "count": 28
           },
           {
            "bin_end": 13357.3,
            "bin_start": 9551.2,
            "count": 25
           },
           {
            "bin_end": 17163.4,
            "bin_start": 13357.3,
            "count": 16
           },
           {
            "bin_end": 20969.5,
            "bin_start": 17163.4,
            "count": 13
           },
           {
            "bin_end": 24775.6,
            "bin_start": 20969.5,
            "count": 15
           },
           {
            "bin_end": 28581.7,
            "bin_start": 24775.6,
            "count": 7
           },
           {
            "bin_end": 32387.8,
            "bin_start": 28581.7,
            "count": 4
           },
           {
            "bin_end": 36193.9,
            "bin_start": 32387.8,
            "count": 7
           },
           {
            "bin_end": 40000,
            "bin_start": 36193.9,
            "count": 6
           }
          ],
          "max": "40000.0",
          "min": "1939.0",
          "nan_count": 0,
          "unique_count": 228
         }
        },
        {
         "dtype": "float64",
         "name": "Radius(R/Ro)",
         "stats": {
          "histogram": [
           {
            "bin_end": 194.85756,
            "bin_start": 0.0084,
            "count": 200
           },
           {
            "bin_end": 389.70672,
            "bin_start": 194.85756,
            "count": 0
           },
           {
            "bin_end": 584.5558800000001,
            "bin_start": 389.70672,
            "count": 0
           },
           {
            "bin_end": 779.4050400000001,
            "bin_start": 584.5558800000001,
            "count": 1
           },
           {
            "bin_end": 974.2542000000001,
            "bin_start": 779.4050400000001,
            "count": 2
           },
           {
            "bin_end": 1169.10336,
            "bin_start": 974.2542000000001,
            "count": 5
           },
           {
            "bin_end": 1363.95252,
            "bin_start": 1169.10336,
            "count": 14
           },
           {
            "bin_end": 1558.80168,
            "bin_start": 1363.95252,
            "count": 11
           },
           {
            "bin_end": 1753.65084,
            "bin_start": 1558.80168,
            "count": 4
           },
           {
            "bin_end": 1948.5,
            "bin_start": 1753.65084,
            "count": 3
           }
          ],
          "max": "1948.5",
          "min": "0.0084",
          "nan_count": 0,
          "unique_count": 216
         }
        },
        {
         "dtype": "float64",
         "name": "Temperature (K)^2",
         "stats": {
          "histogram": [
           {
            "bin_end": 163383748.9,
            "bin_start": 3759721,
            "count": 165
           },
           {
            "bin_end": 323007776.8,
            "bin_start": 163383748.9,
            "count": 26
           },
           {
            "bin_end": 482631804.70000005,
            "bin_start": 323007776.8,
            "count": 13
           },
           {
            "bin_end": 642255832.6,
            "bin_start": 482631804.70000005,
            "count": 14
           },
           {
            "bin_end": 801879860.5,
            "bin_start": 642255832.6,
            "count": 5
           },
           {
            "bin_end": 961503888.4000001,
            "bin_start": 801879860.5,
            "count": 4
           },
           {
            "bin_end": 1121127916.3,
            "bin_start": 961503888.4000001,
            "count": 4
           },
           {
            "bin_end": 1280751944.2,
            "bin_start": 1121127916.3,
            "count": 2
           },
           {
            "bin_end": 1440375972.1000001,
            "bin_start": 1280751944.2,
            "count": 3
           },
           {
            "bin_end": 1600000000,
            "bin_start": 1440375972.1000001,
            "count": 4
           }
          ],
          "max": "1600000000.0",
          "min": "3759721.0",
          "nan_count": 0,
          "unique_count": 228
         }
        },
        {
         "dtype": "float64",
         "name": "Temperature (K) Radius(R/Ro)",
         "stats": {
          "histogram": [
           {
            "bin_end": 6754421.627145999,
            "bin_start": 67.80794,
            "count": 224
           },
           {
            "bin_end": 13508775.446352,
            "bin_start": 6754421.627145999,
            "count": 4
           },
           {
            "bin_end": 20263129.265557997,
            "bin_start": 13508775.446352,
            "count": 2
           },
           {
            "bin_end": 27017483.084763996,
            "bin_start": 20263129.265557997,
            "count": 1
           },
           {
            "bin_end": 33771836.903969996,
            "bin_start": 27017483.084763996,
            "count": 1
           },
           {
            "bin_end": 40526190.723175995,
            "bin_start": 33771836.903969996,
            "count": 3
           },
           {
            "bin_end": 47280544.542381994,
            "bin_start": 40526190.723175995,
            "count": 1
           },
           {
            "bin_end": 54034898.361587994,
            "bin_start": 47280544.542381994,
            "count": 2
           },
           {
            "bin_end": 60789252.18079399,
            "bin_start": 54034898.361587994,
            "count": 0
           },
           {
            "bin_end": 67543606,
            "bin_start": 60789252.18079399,
            "count": 2
           }
          ],
          "max": "67543606.0",
          "min": "67.80794",
          "nan_count": 0,
          "unique_count": 239
         }
        },
        {
         "dtype": "float64",
         "name": "Radius(R/Ro)^2",
         "stats": {
          "histogram": [
           {
            "bin_end": 379665.22506350407,
            "bin_start": 7.055999999999999e-05,
            "count": 200
           },
           {
            "bin_end": 759330.4500564481,
            "bin_start": 379665.22506350407,
            "count": 1
           },
           {
            "bin_end": 1138995.6750493923,
            "bin_start": 759330.4500564481,
            "count": 3
           },
           {
            "bin_end": 1518660.9000423362,
            "bin_start": 1138995.6750493923,
            "count": 7
           },
           {
            "bin_end": 1898326.1250352801,
            "bin_start": 1518660.9000423362,
            "count": 11
           },
           {
            "bin_end": 2277991.3500282243,
            "bin_start": 1898326.1250352801,
            "count": 6
           },
           {
            "bin_end": 2657656.575021168,
            "bin_start": 2277991.3500282243,
            "count": 5
           },
           {
            "bin_end": 3037321.800014112,
            "bin_start": 2657656.575021168,
            "count": 4
           },
           {
            "bin_end": 3416987.025007056,
            "bin_start": 3037321.800014112,
            "count": 2
           },
           {
            "bin_end": 3796652.25,
            "bin_start": 3416987.025007056,
            "count": 1
           }
          ],
          "max": "3796652.25",
          "min": "7.055999999999999e-05",
          "nan_count": 0,
          "unique_count": 216
         }
        },
        {
         "dtype": "float64",
         "name": "Temperature (K)^3",
         "stats": {
          "histogram": [
           {
            "bin_end": 6406561089117.1,
            "bin_start": 7290099019,
            "count": 194
           },
           {
            "bin_end": 12805832079215.2,
            "bin_start": 6406561089117.1,
            "count": 15
           },
           {
            "bin_end": 19205103069313.297,
            "bin_start": 12805832079215.2,
            "count": 13
           },
           {
            "bin_end": 25604374059411.4,
            "bin_start": 19205103069313.297,
            "count": 2
           },
           {
            "bin_end": 32003645049509.5,
            "bin_start": 25604374059411.4,
            "count": 3
           },
           {
            "bin_end": 38402916039607.59,
            "bin_start": 32003645049509.5,
            "count": 4
           },
           {
            "bin_end": 44802187029705.695,
            "bin_start": 38402916039607.59,
            "count": 2
           },
           {
            "bin_end": 51201458019803.8,
            "bin_start": 44802187029705.695,
            "count": 1
           },
           {
            "bin_end": 57600729009901.9,
            "bin_start": 51201458019803.8,
            "count": 3
           },
           {
            "bin_end": 64000000000000,
            "bin_start": 57600729009901.9,
            "count": 3
           }
          ],
          "max": "64000000000000.0",
          "min": "7290099019.0",
          "nan_count": 0,
          "unique_count": 228
         }
        },
        {
         "dtype": "float64",
         "name": "Temperature (K)^2 Radius(R/Ro)",
         "stats": {
          "histogram": [
           {
            "bin_end": 255869036775.33667,
            "bin_start": 387251.263,
            "count": 229
           },
           {
            "bin_end": 511737686299.41034,
            "bin_start": 255869036775.33667,
            "count": 1
           },
           {
            "bin_end": 767606335823.4839,
            "bin_start": 511737686299.41034,
            "count": 2
           },
           {
            "bin_end": 1023474985347.5576,
            "bin_start": 767606335823.4839,
            "count": 2
           },
           {
            "bin_end": 1279343634871.6313,
            "bin_start": 1023474985347.5576,
            "count": 2
           },
           {
            "bin_end": 1535212284395.7048,
            "bin_start": 1279343634871.6313,
            "count": 0
           },
           {
            "bin_end": 1791080933919.7786,
            "bin_start": 1535212284395.7048,
            "count": 0
           },
           {
            "bin_end": 2046949583443.8523,
            "bin_start": 1791080933919.7786,
            "count": 1
           },
           {
            "bin_end": 2302818232967.9263,
            "bin_start": 2046949583443.8523,
            "count": 2
           },
           {
            "bin_end": 2558686882492,
            "bin_start": 2302818232967.9263,
            "count": 1
           }
          ],
          "max": "2558686882492.0",
          "min": "387251.263",
          "nan_count": 0,
          "unique_count": 239
         }
        },
        {
         "dtype": "float64",
         "name": "Temperature (K) Radius(R/Ro)^2",
         "stats": {
          "histogram": [
           {
            "bin_end": 12334943495.56082,
            "bin_start": 0.5953537132,
            "count": 226
           },
           {
            "bin_end": 24669886990.526283,
            "bin_start": 12334943495.56082,
            "count": 3
           },
           {
            "bin_end": 37004830485.491745,
            "bin_start": 24669886990.526283,
            "count": 3
           },
           {
            "bin_end": 49339773980.457214,
            "bin_start": 37004830485.491745,
            "count": 2
           },
           {
            "bin_end": 61674717475.42268,
            "bin_start": 49339773980.457214,
            "count": 1
           },
           {
            "bin_end": 74009660970.38814,
            "bin_start": 61674717475.42268,
            "count": 3
           },
           {
            "bin_end": 86344604465.3536,
            "bin_start": 74009660970.38814,
            "count": 0
           },
           {
            "bin_end": 98679547960.31908,
            "bin_start": 86344604465.3536,
            "count": 0
           },
           {
            "bin_end": 111014491455.28455,
            "bin_start": 98679547960.31908,
            "count": 0
           },
           {
            "bin_end": 123349434950.25,
            "bin_start": 111014491455.28455,
            "count": 2
           }
          ],
          "max": "123349434950.25",
          "min": "0.5953537132",
          "nan_count": 0,
          "unique_count": 239
         }
        },
        {
         "dtype": "float64",
         "name": "Radius(R/Ro)^3",
         "stats": {
          "histogram": [
           {
            "bin_end": 739777690.9125005,
            "bin_start": 5.927039999999999e-07,
            "count": 202
           },
           {
            "bin_end": 1479555381.8250003,
            "bin_start": 739777690.9125005,
            "count": 6
           },
           {
            "bin_end": 2219333072.7375,
            "bin_start": 1479555381.8250003,
            "count": 7
           },
           {
            "bin_end": 2959110763.65,
            "bin_start": 2219333072.7375,
            "count": 9
           },
           {
            "bin_end": 3698888454.5625,
            "bin_start": 2959110763.65,
            "count": 8
           },
           {
            "bin_end": 4438666145.475,
            "bin_start": 3698888454.5625,
            "count": 2
           },
           {
            "bin_end": 5178443836.3875,
            "bin_start": 4438666145.475,
            "count": 3
           },
           {
            "bin_end": 5918221527.3,
            "bin_start": 5178443836.3875,
            "count": 2
           },
           {
            "bin_end": 6657999218.212501,
            "bin_start": 5918221527.3,
            "count": 0
           },
           {
            "bin_end": 7397776909.125,
            "bin_start": 6657999218.212501,
            "count": 1
           }
          ],
          "max": "7397776909.125",
          "min": "5.927039999999999e-07",
          "nan_count": 0,
          "unique_count": 216
         }
        },
        {
         "dtype": "float64",
         "name": "Temperature (K)^4",
         "stats": {
          "histogram": [
           {
            "bin_end": 256012721951798050,
            "bin_start": 14135501997841,
            "count": 206
           },
           {
            "bin_end": 512011308401598200,
            "bin_start": 256012721951798050,
            "count": 16
           },
           {
            "bin_end": 768009894851398400,
            "bin_start": 512011308401598200,
            "count": 3
           },
           {
            "bin_end": 1024008481301198600,
            "bin_start": 768009894851398400,
            "count": 2
           },
           {
            "bin_end": 1280007067750998800,
            "bin_start": 1024008481301198600,
            "count": 4
           },
           {
            "bin_end": 1536005654200799000,
            "bin_start": 1280007067750998800,
            "count": 2
           },
           {
            "bin_end": 1792004240650599200,
            "bin_start": 1536005654200799000,
            "count": 1
           },
           {
            "bin_end": 2048002827100399400,
            "bin_start": 1792004240650599200,
            "count": 1
           },
           {
            "bin_end": 2304001413550199600,
            "bin_start": 2048002827100399400,
            "count": 3
           },
           {
            "bin_end": 2560000000000000000,
            "bin_start": 2304001413550199600,
            "count": 2
           }
          ],
          "max": "2.56e+18",
          "min": "14135501997841.0",
          "nan_count": 0,
          "unique_count": 228
         }
        },
        {
         "dtype": "float64",
         "name": "Temperature (K)^3 Radius(R/Ro)",
         "stats": {
          "histogram": [
           {
            "bin_end": 9692818324048374,
            "bin_start": 750880198.9569999,
            "count": 230
           },
           {
            "bin_end": 19385635897216550,
            "bin_start": 9692818324048374,
            "count": 2
           },
           {
            "bin_end": 29078453470384730,
            "bin_start": 19385635897216550,
            "count": 2
           },
           {
            "bin_end": 38771271043552904,
            "bin_start": 29078453470384730,
            "count": 2
           },
           {
            "bin_end": 48464088616721080,
            "bin_start": 38771271043552904,
            "count": 0
           },
           {
            "bin_end": 58156906189889256,
            "bin_start": 48464088616721080,
            "count": 0
           },
           {
            "bin_end": 67849723763057430,
            "bin_start": 58156906189889256,
            "count": 1
           },
           {
            "bin_end": 77542541336225600,
            "bin_start": 67849723763057430,
            "count": 1
           },
           {
            "bin_end": 87235358909393780,
            "bin_start": 77542541336225600,
            "count": 1
           },
           {
            "bin_end": 96928176482561950,
            "bin_start": 87235358909393780,
            "count": 1
           }
          ],
          "max": "9.692817648256195e+16",
          "min": "750880198.9569999",
          "nan_count": 0,
          "unique_count": 239
         }
        },
        {
         "dtype": "float64",
         "name": "Temperature (K)^2 Radius(R/Ro)^2",
         "stats": {
          "histogram": [
           {
            "bin_end": 456213871152461.75,
            "bin_start": 4597.9167270436,
            "count": 230
           },
           {
            "bin_end": 912427742300325.5,
            "bin_start": 456213871152461.75,
            "count": 2
           },
           {
            "bin_end": 1368641613448189.5,
            "bin_start": 912427742300325.5,
            "count": 3
           },
           {
            "bin_end": 1824855484596053.2,
            "bin_start": 1368641613448189.5,
            "count": 0
           },
           {
            "bin_end": 2281069355743917,
            "bin_start": 1824855484596053.2,
            "count": 1
           },
           {
            "bin_end": 2737283226891781,
            "bin_start": 2281069355743917,
            "count": 1
           },
           {
            "bin_end": 3193497098039644.5,
            "bin_start": 2737283226891781,
            "count": 1
           },
           {
            "bin_end": 3649710969187508.5,
            "bin_start": 3193497098039644.5,
            "count": 0
           },
           {
            "bin_end": 4105924840335372.5,
            "bin_start": 3649710969187508.5,
            "count": 1
           },
           {
            "bin_end": 4562138711483236,
            "bin_start": 4105924840335372.5,
            "count": 1
           }
          ],
          "max": "4562138711483236.0",
          "min": "4597.9167270436",
          "nan_count": 0,
          "unique_count": 239
         }
        },
        {
         "dtype": "float64",
         "name": "Temperature (K) Radius(R/Ro)^3",
         "stats": {
          "histogram": [
           {
            "bin_end": 24034637400056.215,
            "bin_start": 0.005227205601895999,
            "count": 228
           },
           {
            "bin_end": 48069274800112.43,
            "bin_start": 24034637400056.215,
            "count": 3
           },
           {
            "bin_end": 72103912200168.62,
            "bin_start": 48069274800112.43,
            "count": 3
           },
           {
            "bin_end": 96138549600224.84,
            "bin_start": 72103912200168.62,
            "count": 2
           },
           {
            "bin_end": 120173187000281.06,
            "bin_start": 96138549600224.84,
            "count": 1
           },
           {
            "bin_end": 144207824400337.25,
            "bin_start": 120173187000281.06,
            "count": 1
           },
           {
            "bin_end": 168242461800393.47,
            "bin_start": 144207824400337.25,
            "count": 0
           },
           {
            "bin_end": 192277099200449.7,
            "bin_start": 168242461800393.47,
            "count": 0
           },
           {
            "bin_end": 216311736600505.9,
            "bin_start": 192277099200449.7,
            "count": 1
           },
           {
            "bin_end": 240346374000562.12,
            "bin_start": 216311736600505.9,
            "count": 1
           }
          ],
          "max": "240346374000562.12",
          "min": "0.005227205601895999",
          "nan_count": 0,
          "unique_count": 239
         }
        },
        {
         "dtype": "float64",
         "name": "Radius(R/Ro)^4",
         "stats": {
          "histogram": [
           {
            "bin_end": 1441456830743.0063,
            "bin_start": 4.978713599999998e-09,
            "count": 204
           },
           {
            "bin_end": 2882913661486.0127,
            "bin_start": 1441456830743.0063,
            "count": 11
           },
           {
            "bin_end": 4324370492229.019,
            "bin_start": 2882913661486.0127,
            "count": 9
           },
           {
            "bin_end": 5765827322972.025,
            "bin_start": 4324370492229.019,
            "count": 8
           },
           {
            "bin_end": 7207284153715.031,
            "bin_start": 5765827322972.025,
            "count": 2
           },
           {
            "bin_end": 8648740984458.038,
            "bin_start": 7207284153715.031,
            "count": 3
           },
           {
            "bin_end": 10090197815201.045,
            "bin_start": 8648740984458.038,
            "count": 1
           },
           {
            "bin_end": 11531654645944.05,
            "bin_start": 10090197815201.045,
            "count": 1
           },
           {
            "bin_end": 12973111476687.057,
            "bin_start": 11531654645944.05,
            "count": 0
           },
           {
            "bin_end": 14414568307430.062,
            "bin_start": 12973111476687.057,
            "count": 1
           }
          ],
          "max": "14414568307430.062",
          "min": "4.978713599999998e-09",
          "nan_count": 0,
          "unique_count": 216
         }
        },
        {
         "dtype": "float64",
         "name": "Temperature (K)^5",
         "stats": {
          "histogram": [
           {
            "bin_end": 1.0240024667864535e+22,
            "bin_start": 27408738373813700,
            "count": 218
           },
           {
            "bin_end": 2.0480021926990697e+22,
            "bin_start": 1.0240024667864535e+22,
            "count": 6
           },
           {
            "bin_end": 3.072001918611686e+22,
            "bin_start": 2.0480021926990697e+22,
            "count": 3
           },
           {
            "bin_end": 4.096001644524302e+22,
            "bin_start": 3.072001918611686e+22,
            "count": 3
           },
           {
            "bin_end": 5.120001370436918e+22,
            "bin_start": 4.096001644524302e+22,
            "count": 3
           },
           {
            "bin_end": 6.1440010963495344e+22,
            "bin_start": 5.120001370436918e+22,
            "count": 1
           },
           {
            "bin_end": 7.168000822262151e+22,
            "bin_start": 6.1440010963495344e+22,
            "count": 0
           },
           {
            "bin_end": 8.192000548174768e+22,
            "bin_start": 7.168000822262151e+22,
            "count": 3
           },
           {
            "bin_end": 9.216000274087383e+22,
            "bin_start": 8.192000548174768e+22,
            "count": 2
           },
           {
            "bin_end": 1.024e+23,
            "bin_start": 9.216000274087383e+22,
            "count": 1
           }
          ],
          "max": "1.024e+23",
          "min": "2.74087383738137e+16",
          "nan_count": 0,
          "unique_count": 228
         }
        },
        {
         "dtype": "float64",
         "name": "Temperature (K)^4 Radius(R/Ro)",
         "stats": {
          "histogram": [
           {
            "bin_end": 367183319461602200000,
            "bin_start": 1455956705777.6228,
            "count": 231
           },
           {
            "bin_end": 734366637467247700000,
            "bin_start": 367183319461602200000,
            "count": 2
           },
           {
            "bin_end": 1.1015499554728931e+21,
            "bin_start": 734366637467247700000,
            "count": 3
           },
           {
            "bin_end": 1.4687332734785387e+21,
            "bin_start": 1.1015499554728931e+21,
            "count": 0
           },
           {
            "bin_end": 1.8359165914841843e+21,
            "bin_start": 1.4687332734785387e+21,
            "count": 0
           },
           {
            "bin_end": 2.2030999094898296e+21,
            "bin_start": 1.8359165914841843e+21,
            "count": 1
           },
           {
            "bin_end": 2.5702832274954754e+21,
            "bin_start": 2.2030999094898296e+21,
            "count": 0
           },
           {
            "bin_end": 2.937466545501121e+21,
            "bin_start": 2.5702832274954754e+21,
            "count": 1
           },
           {
            "bin_end": 3.304649863506766e+21,
            "bin_start": 2.937466545501121e+21,
            "count": 1
           },
           {
            "bin_end": 3.671833181512412e+21,
            "bin_start": 3.304649863506766e+21,
            "count": 1
           }
          ],
          "max": "3.671833181512412e+21",
          "min": "1455956705777.6228",
          "nan_count": 0,
          "unique_count": 239
         }
        },
        {
         "dtype": "float64",
         "name": "Temperature (K)^3 Radius(R/Ro)^2",
         "stats": {
          "histogram": [
           {
            "bin_end": 17282293866872752000,
            "bin_start": 35509710.88295773,
            "count": 231
           },
           {
            "bin_end": 34564587733709990000,
            "bin_start": 17282293866872752000,
            "count": 3
           },
           {
            "bin_end": 51846881600547230000,
            "bin_start": 34564587733709990000,
            "count": 2
           },
           {
            "bin_end": 69129175467384480000,
            "bin_start": 51846881600547230000,
            "count": 0
           },
           {
            "bin_end": 86411469334221720000,
            "bin_start": 69129175467384480000,
            "count": 0
           },
           {
            "bin_end": 103693763201058950000,
            "bin_start": 86411469334221720000,
            "count": 1
           },
           {
            "bin_end": 120976057067896200000,
            "bin_start": 103693763201058950000,
            "count": 1
           },
           {
            "bin_end": 138258350934733440000,
            "bin_start": 120976057067896200000,
            "count": 1
           },
           {
            "bin_end": 155540644801570700000,
            "bin_start": 138258350934733440000,
            "count": 0
           },
           {
            "bin_end": 172822938668407950000,
            "bin_start": 155540644801570700000,
            "count": 1
           }
          ],
          "max": "1.7282293866840795e+20",
          "min": "35509710.88295773",
          "nan_count": 0,
          "unique_count": 239
         }
        },
        {
         "dtype": "float64",
         "name": "Temperature (K)^2 Radius(R/Ro)^3",
         "stats": {
          "histogram": [
           {
            "bin_end": 813429332257461000,
            "bin_start": 40.369708863442796,
            "count": 231
           },
           {
            "bin_end": 1626858664514922000,
            "bin_start": 813429332257461000,
            "count": 3
           },
           {
            "bin_end": 2440287996772382700,
            "bin_start": 1626858664514922000,
            "count": 1
           },
           {
            "bin_end": 3253717329029844000,
            "bin_start": 2440287996772382700,
            "count": 1
           },
           {
            "bin_end": 4067146661287305000,
            "bin_start": 3253717329029844000,
            "count": 2
           },
           {
            "bin_end": 4880575993544765000,
            "bin_start": 4067146661287305000,
            "count": 0
           },
           {
            "bin_end": 5694005325802227000,
            "bin_start": 4880575993544765000,
            "count": 0
           },
           {
            "bin_end": 6507434658059688000,
            "bin_start": 5694005325802227000,
            "count": 0
           },
           {
            "bin_end": 7320863990317149000,
            "bin_start": 6507434658059688000,
            "count": 0
           },
           {
            "bin_end": 8134293322574609000,
            "bin_start": 7320863990317149000,
            "count": 2
           }
          ],
          "max": "8.134293322574609e+18",
          "min": "40.369708863442796",
          "nan_count": 0,
          "unique_count": 239
         }
        },
        {
         "dtype": "float64",
         "name": "Temperature (K) Radius(R/Ro)^4",
         "stats": {
          "histogram": [
           {
            "bin_end": 46831490974009530,
            "bin_start": 4.5894865184646865e-05,
            "count": 231
           },
           {
            "bin_end": 93662981948019060,
            "bin_start": 46831490974009530,
            "count": 2
           },
           {
            "bin_end": 140494472922028580,
            "bin_start": 93662981948019060,
            "count": 4
           },
           {
            "bin_end": 187325963896038100,
            "bin_start": 140494472922028580,
            "count": 0
           },
           {
            "bin_end": 234157454870047650,
            "bin_start": 187325963896038100,
            "count": 1
           },
           {
            "bin_end": 280988945844057150,
            "bin_start": 234157454870047650,
            "count": 0
           },
           {
            "bin_end": 327820436818066700,
            "bin_start": 280988945844057150,
            "count": 0
           },
           {
            "bin_end": 374651927792076200,
            "bin_start": 327820436818066700,
            "count": 0
           },
           {
            "bin_end": 421483418766085760,
            "bin_start": 374651927792076200,
            "count": 1
           },
           {
            "bin_end": 468314909740095300,
            "bin_start": 421483418766085760,
            "count": 1
           }
          ],
          "max": "4.683149097400953e+17",
          "min": "4.5894865184646865e-05",
          "nan_count": 0,
          "unique_count": 239
         }
        },
        {
         "dtype": "float64",
         "name": "Radius(R/Ro)^5",
         "stats": {
          "histogram": [
           {
            "bin_end": 2808678634702747.5,
            "bin_start": 4.182119423999998e-11,
            "count": 211
           },
           {
            "bin_end": 5617357269405495,
            "bin_start": 2808678634702747.5,
            "count": 11
           },
           {
            "bin_end": 8426035904108242,
            "bin_start": 5617357269405495,
            "count": 8
           },
           {
            "bin_end": 11234714538810990,
            "bin_start": 8426035904108242,
            "count": 3
           },
           {
            "bin_end": 14043393173513738,
            "bin_start": 11234714538810990,
            "count": 4
           },
           {
            "bin_end": 16852071808216484,
            "bin_start": 14043393173513738,
            "count": 0
           },
           {
            "bin_end": 19660750442919230,
            "bin_start": 16852071808216484,
            "count": 2
           },
           {
            "bin_end": 22469429077621980,
            "bin_start": 19660750442919230,
            "count": 0
           },
           {
            "bin_end": 25278107712324730,
            "bin_start": 22469429077621980,
            "count": 0
           },
           {
            "bin_end": 28086786347027476,
            "bin_start": 25278107712324730,
            "count": 1
           }
          ],
          "max": "2.8086786347027476e+16",
          "min": "4.182119423999998e-11",
          "nan_count": 0,
          "unique_count": 216
         }
        },
        {
         "dtype": "float64",
         "name": "Temperature (K)^6",
         "stats": {
          "histogram": [
           {
            "bin_end": 4.0960004783098936e+26,
            "bin_start": 53145543706824760000,
            "count": 222
           },
           {
            "bin_end": 8.19200042516435e+26,
            "bin_start": 4.0960004783098936e+26,
            "count": 4
           },
           {
            "bin_end": 1.2288000372018806e+27,
            "bin_start": 8.19200042516435e+26,
            "count": 3
           },
           {
            "bin_end": 1.6384000318873264e+27,
            "bin_start": 1.2288000372018806e+27,
            "count": 4
           },
           {
            "bin_end": 2.048000026572772e+27,
            "bin_start": 1.6384000318873264e+27,
            "count": 0
           },
           {
            "bin_end": 2.4576000212582176e+27,
            "bin_start": 2.048000026572772e+27,
            "count": 1
           },
           {
            "bin_end": 2.867200015943663e+27,
            "bin_start": 2.4576000212582176e+27,
            "count": 0
           },
           {
            "bin_end": 3.276800010629109e+27,
            "bin_start": 2.867200015943663e+27,
            "count": 3
           },
           {
            "bin_end": 3.6864000053145547e+27,
            "bin_start": 3.276800010629109e+27,
            "count": 2
           },
           {
            "bin_end": 4.096e+27,
            "bin_start": 3.6864000053145547e+27,
            "count": 1
           }
          ],
          "max": "4.096e+27",
          "min": "5.314554370682476e+19",
          "nan_count": 0,
          "unique_count": 228
         }
        },
        {
         "dtype": "float64",
         "name": "Temperature (K)^5 Radius(R/Ro)",
         "stats": {
          "histogram": [
           {
            "bin_end": 1.390963846074611e+25,
            "bin_start": 2823100052502810.5,
            "count": 233
           },
           {
            "bin_end": 2.781927691866912e+25,
            "bin_start": 1.390963846074611e+25,
            "count": 2
           },
           {
            "bin_end": 4.172891537659213e+25,
            "bin_start": 2.781927691866912e+25,
            "count": 1
           },
           {
            "bin_end": 5.563855383451514e+25,
            "bin_start": 4.172891537659213e+25,
            "count": 0
           },
           {
            "bin_end": 6.9548192292438145e+25,
            "bin_start": 5.563855383451514e+25,
            "count": 0
           },
           {
            "bin_end": 8.345783075036117e+25,
            "bin_start": 6.9548192292438145e+25,
            "count": 1
           },
           {
            "bin_end": 9.736746920828417e+25,
            "bin_start": 8.345783075036117e+25,
            "count": 0
           },
           {
            "bin_end": 1.1127710766620718e+26,
            "bin_start": 9.736746920828417e+25,
            "count": 1
           },
           {
            "bin_end": 1.2518674612413018e+26,
            "bin_start": 1.1127710766620718e+26,
            "count": 1
           },
           {
            "bin_end": 1.3909638458205319e+26,
            "bin_start": 1.2518674612413018e+26,
            "count": 1
           }
          ],
          "max": "1.3909638458205319e+26",
          "min": "2823100052502810.5",
          "nan_count": 0,
          "unique_count": 239
         }
        },
        {
         "dtype": "float64",
         "name": "Temperature (K)^4 Radius(R/Ro)^2",
         "stats": {
          "histogram": [
           {
            "bin_end": 6.546878562637978e+23,
            "bin_start": 149963540695.09515,
            "count": 232
           },
           {
            "bin_end": 1.3093757125274458e+24,
            "bin_start": 6.546878562637978e+23,
            "count": 4
           },
           {
            "bin_end": 1.9640635687910936e+24,
            "bin_start": 1.3093757125274458e+24,
            "count": 0
           },
           {
            "bin_end": 2.6187514250547413e+24,
            "bin_start": 1.9640635687910936e+24,
            "count": 0
           },
           {
            "bin_end": 3.2734392813183893e+24,
            "bin_start": 2.6187514250547413e+24,
            "count": 0
           },
           {
            "bin_end": 3.928127137582037e+24,
            "bin_start": 3.2734392813183893e+24,
            "count": 0
           },
           {
            "bin_end": 4.582814993845685e+24,
            "bin_start": 3.928127137582037e+24,
            "count": 3
           },
           {
            "bin_end": 5.237502850109333e+24,
            "bin_start": 4.582814993845685e+24,
            "count": 0
           },
           {
            "bin_end": 5.892190706372981e+24,
            "bin_start": 5.237502850109333e+24,
            "count": 0
           },
           {
            "bin_end": 6.546878562636629e+24,
            "bin_start": 5.892190706372981e+24,
            "count": 1
           }
          ],
          "max": "6.546878562636629e+24",
          "min": "149963540695.09515",
          "nan_count": 0,
          "unique_count": 239
         }
        },
        {
         "dtype": "float64",
         "name": "Temperature (K)^3 Radius(R/Ro)^3",
         "stats": {
          "histogram": [
           {
            "bin_end": 3.0814329964577134e+22,
            "bin_start": 311775.2615523687,
            "count": 232
           },
           {
            "bin_end": 6.162865992915427e+22,
            "bin_start": 3.0814329964577134e+22,
            "count": 3
           },
           {
            "bin_end": 9.24429898937314e+22,
            "bin_start": 6.162865992915427e+22,
            "count": 1
           },
           {
            "bin_end": 1.2325731985830854e+23,
            "bin_start": 9.24429898937314e+22,
            "count": 0
           },
           {
            "bin_end": 1.5407164982288567e+23,
            "bin_start": 1.2325731985830854e+23,
            "count": 2
           },
           {
            "bin_end": 1.848859797874628e+23,
            "bin_start": 1.5407164982288567e+23,
            "count": 0
           },
           {
            "bin_end": 2.1570030975203993e+23,
            "bin_start": 1.848859797874628e+23,
            "count": 0
           },
           {
            "bin_end": 2.4651463971661707e+23,
            "bin_start": 2.1570030975203993e+23,
            "count": 0
           },
           {
            "bin_end": 2.7732896968119422e+23,
            "bin_start": 2.4651463971661707e+23,
            "count": 1
           },
           {
            "bin_end": 3.081432996457713e+23,
            "bin_start": 2.7732896968119422e+23,
            "count": 1
           }
          ],
          "max": "3.081432996457713e+23",
          "min": "311775.2615523687",
          "nan_count": 0,
          "unique_count": 239
         }
        },
        {
         "dtype": "float64",
         "name": "Temperature (K)^2 Radius(R/Ro)^4",
         "stats": {
          "histogram": [
           {
            "bin_end": 1.5215083102545956e+21,
            "bin_start": 0.35444604382102773,
            "count": 232
           },
           {
            "bin_end": 3.043016620509191e+21,
            "bin_start": 1.5215083102545956e+21,
            "count": 3
           },
           {
            "bin_end": 4.564524930763787e+21,
            "bin_start": 3.043016620509191e+21,
            "count": 0
           },
           {
            "bin_end": 6.086033241018382e+21,
            "bin_start": 4.564524930763787e+21,
            "count": 3
           },
           {
            "bin_end": 7.607541551272978e+21,
            "bin_start": 6.086033241018382e+21,
            "count": 0
           },
           {
            "bin_end": 9.129049861527574e+21,
            "bin_start": 7.607541551272978e+21,
            "count": 0
           },
           {
            "bin_end": 1.065055817178217e+22,
            "bin_start": 9.129049861527574e+21,
            "count": 0
           },
           {
            "bin_end": 1.2172066482036765e+22,
            "bin_start": 1.065055817178217e+22,
            "count": 0
           },
           {
            "bin_end": 1.369357479229136e+22,
            "bin_start": 1.2172066482036765e+22,
            "count": 0
           },
           {
            "bin_end": 1.5215083102545956e+22,
            "bin_start": 1.369357479229136e+22,
            "count": 2
           }
          ],
          "max": "1.5215083102545956e+22",
          "min": "0.35444604382102773",
          "nan_count": 0,
          "unique_count": 239
         }
        },
        {
         "dtype": "float64",
         "name": "Temperature (K) Radius(R/Ro)^5",
         "stats": {
          "histogram": [
           {
            "bin_end": 91251160162857570000,
            "bin_start": 4.0295691632119943e-07,
            "count": 233
           },
           {
            "bin_end": 182502320325715130000,
            "bin_start": 91251160162857570000,
            "count": 3
           },
           {
            "bin_end": 273753480488572680000,
            "bin_start": 182502320325715130000,
            "count": 1
           },
           {
            "bin_end": 365004640651430260000,
            "bin_start": 273753480488572680000,
            "count": 1
           },
           {
            "bin_end": 456255800814287850000,
            "bin_start": 365004640651430260000,
            "count": 0
           },
           {
            "bin_end": 547506960977145360000,
            "bin_start": 456255800814287850000,
            "count": 0
           },
           {
            "bin_end": 638758121140003000000,
            "bin_start": 547506960977145360000,
            "count": 0
           },
           {
            "bin_end": 730009281302860500000,
            "bin_start": 638758121140003000000,
            "count": 1
           },
           {
            "bin_end": 821260441465718000000,
            "bin_start": 730009281302860500000,
            "count": 0
           },
           {
            "bin_end": 912511601628575700000,
            "bin_start": 821260441465718000000,
            "count": 1
           }
          ],
          "max": "9.125116016285757e+20",
          "min": "4.0295691632119943e-07",
          "nan_count": 0,
          "unique_count": 239
         }
        },
        {
         "dtype": "float64",
         "name": "Radius(R/Ro)^6",
         "stats": {
          "histogram": [
           {
            "bin_end": 5472710319718304000,
            "bin_start": 3.512980316159998e-13,
            "count": 219
           },
           {
            "bin_end": 10945420639436607000,
            "bin_start": 5472710319718304000,
            "count": 8
           },
           {
            "bin_end": 16418130959154911000,
            "bin_start": 10945420639436607000,
            "count": 6
           },
           {
            "bin_end": 21890841278873215000,
            "bin_start": 16418130959154911000,
            "count": 2
           },
           {
            "bin_end": 27363551598591517000,
            "bin_start": 21890841278873215000,
            "count": 2
           },
           {
            "bin_end": 32836261918309822000,
            "bin_start": 27363551598591517000,
            "count": 2
           },
           {
            "bin_end": 38308972238028130000,
            "bin_start": 32836261918309822000,
            "count": 0
           },
           {
            "bin_end": 43781682557746430000,
            "bin_start": 38308972238028130000,
            "count": 0
           },
           {
            "bin_end": 49254392877464730000,
            "bin_start": 43781682557746430000,
            "count": 0
           },
           {
            "bin_end": 54727103197183030000,
            "bin_start": 49254392877464730000,
            "count": 1
           }
          ],
          "max": "5.472710319718303e+19",
          "min": "3.512980316159998e-13",
          "nan_count": 0,
          "unique_count": 216
         }
        },
        {
         "dtype": "float64",
         "name": "Temperature (K)^7",
         "stats": {
          "histogram": [
           {
            "bin_end": 1.638400009274429e+31,
            "bin_start": 1.0304920924753322e+23,
            "count": 224
           },
           {
            "bin_end": 3.276800008243937e+31,
            "bin_start": 1.638400009274429e+31,
            "count": 3
           },
           {
            "bin_end": 4.915200007213445e+31,
            "bin_start": 3.276800008243937e+31,
            "count": 4
           },
           {
            "bin_end": 6.553600006182952e+31,
            "bin_start": 4.915200007213445e+31,
            "count": 2
           },
           {
            "bin_end": 8.19200000515246e+31,
            "bin_start": 6.553600006182952e+31,
            "count": 1
           },
           {
            "bin_end": 9.83040000412197e+31,
            "bin_start": 8.19200000515246e+31,
            "count": 0
           },
           {
            "bin_end": 1.1468800003091477e+32,
            "bin_start": 9.83040000412197e+31,
            "count": 2
           },
           {
            "bin_end": 1.3107200002060984e+32,
            "bin_start": 1.1468800003091477e+32,
            "count": 1
           },
           {
            "bin_end": 1.4745600001030492e+32,
            "bin_start": 1.3107200002060984e+32,
            "count": 2
           },
           {
            "bin_end": 1.6384e+32,
            "bin_start": 1.4745600001030492e+32,
            "count": 1
           }
          ],
          "max": "1.6384e+32",
          "min": "1.0304920924753322e+23",
          "nan_count": 0,
          "unique_count": 228
         }
        },
        {
         "dtype": "float64",
         "name": "Temperature (K)^6 Radius(R/Ro)",
         "stats": {
          "histogram": [
           {
            "bin_end": 5.269249240786604e+29,
            "bin_start": 5473991001802950000,
            "count": 234
           },
           {
            "bin_end": 1.0538498481518468e+30,
            "bin_start": 5.269249240786604e+29,
            "count": 2
           },
           {
            "bin_end": 1.5807747722250333e+30,
            "bin_start": 1.0538498481518468e+30,
            "count": 0
           },
           {
            "bin_end": 2.1076996962982198e+30,
            "bin_start": 1.5807747722250333e+30,
            "count": 0
           },
           {
            "bin_end": 2.6346246203714063e+30,
            "bin_start": 2.1076996962982198e+30,
            "count": 1
           },
           {
            "bin_end": 3.1615495444445925e+30,
            "bin_start": 2.6346246203714063e+30,
            "count": 0
           },
           {
            "bin_end": 3.688474468517779e+30,
            "bin_start": 3.1615495444445925e+30,
            "count": 0
           },
           {
            "bin_end": 4.2153993925909655e+30,
            "bin_start": 3.688474468517779e+30,
            "count": 0
           },
           {
            "bin_end": 4.7423243166641517e+30,
            "bin_start": 4.2153993925909655e+30,
            "count": 2
           },
           {
            "bin_end": 5.269249240737338e+30,
            "bin_start": 4.7423243166641517e+30,
            "count": 1
           }
          ],
          "max": "5.269249240737338e+30",
          "min": "5.47399100180295e+18",
          "nan_count": 0,
          "unique_count": 239
         }
        },
        {
         "dtype": "float64",
         "name": "Temperature (K)^5 Radius(R/Ro)^2",
         "stats": {
          "histogram": [
           {
            "bin_end": 2.480088537098034e+28,
            "bin_start": 290779305407789.5,
            "count": 233
           },
           {
            "bin_end": 4.960177074196039e+28,
            "bin_start": 2.480088537098034e+28,
            "count": 3
           },
           {
            "bin_end": 7.440265611294044e+28,
            "bin_start": 4.960177074196039e+28,
            "count": 0
           },
           {
            "bin_end": 9.92035414839205e+28,
            "bin_start": 7.440265611294044e+28,
            "count": 0
           },
           {
            "bin_end": 1.2400442685490055e+29,
            "bin_start": 9.92035414839205e+28,
            "count": 0
           },
           {
            "bin_end": 1.488053122258806e+29,
            "bin_start": 1.2400442685490055e+29,
            "count": 1
           },
           {
            "bin_end": 1.7360619759686065e+29,
            "bin_start": 1.488053122258806e+29,
            "count": 2
           },
           {
            "bin_end": 1.984070829678407e+29,
            "bin_start": 1.7360619759686065e+29,
            "count": 0
           },
           {
            "bin_end": 2.2320796833882072e+29,
            "bin_start": 1.984070829678407e+29,
            "count": 0
           },
           {
            "bin_end": 2.480088537098008e+29,
            "bin_start": 2.2320796833882072e+29,
            "count": 1
           }
          ],
          "max": "2.480088537098008e+29",
          "min": "290779305407789.5",
          "nan_count": 0,
          "unique_count": 239
         }
        },
        {
         "dtype": "float64",
         "name": "Temperature (K)^4 Radius(R/Ro)^3",
         "stats": {
          "histogram": [
           {
            "bin_end": 1.1673084477181111e+27,
            "bin_start": 2407840344.9689436,
            "count": 234
           },
           {
            "bin_end": 2.3346168954362222e+27,
            "bin_start": 1.1673084477181111e+27,
            "count": 2
           },
           {
            "bin_end": 3.5019253431543336e+27,
            "bin_start": 2.3346168954362222e+27,
            "count": 0
           },
           {
            "bin_end": 4.6692337908724444e+27,
            "bin_start": 3.5019253431543336e+27,
            "count": 0
           },
           {
            "bin_end": 5.836542238590555e+27,
            "bin_start": 4.6692337908724444e+27,
            "count": 2
           },
           {
            "bin_end": 7.003850686308667e+27,
            "bin_start": 5.836542238590555e+27,
            "count": 0
           },
           {
            "bin_end": 8.171159134026778e+27,
            "bin_start": 7.003850686308667e+27,
            "count": 0
           },
           {
            "bin_end": 9.338467581744889e+27,
            "bin_start": 8.171159134026778e+27,
            "count": 1
           },
           {
            "bin_end": 1.0505776029463e+28,
            "bin_start": 9.338467581744889e+27,
            "count": 0
           },
           {
            "bin_end": 1.167308447718111e+28,
            "bin_start": 1.0505776029463e+28,
            "count": 1
           }
          ],
          "max": "1.167308447718111e+28",
          "min": "2407840344.9689436",
          "nan_count": 0,
          "unique_count": 239
         }
        },
        {
         "dtype": "float64",
         "name": "Temperature (K)^3 Radius(R/Ro)^4",
         "stats": {
          "histogram": [
           {
            "bin_end": 5.494195032684104e+25,
            "bin_start": 2737.3867964297974,
            "count": 233
           },
           {
            "bin_end": 1.0988390065368208e+26,
            "bin_start": 5.494195032684104e+25,
            "count": 2
           },
           {
            "bin_end": 1.6482585098052313e+26,
            "bin_start": 1.0988390065368208e+26,
            "count": 1
           },
           {
            "bin_end": 2.1976780130736416e+26,
            "bin_start": 1.6482585098052313e+26,
            "count": 2
           },
           {
            "bin_end": 2.7470975163420518e+26,
            "bin_start": 2.1976780130736416e+26,
            "count": 0
           },
           {
            "bin_end": 3.296517019610463e+26,
            "bin_start": 2.7470975163420518e+26,
            "count": 0
           },
           {
            "bin_end": 3.845936522878873e+26,
            "bin_start": 3.296517019610463e+26,
            "count": 0
           },
           {
            "bin_end": 4.395356026147283e+26,
            "bin_start": 3.845936522878873e+26,
            "count": 0
           },
           {
            "bin_end": 4.9447755294156934e+26,
            "bin_start": 4.395356026147283e+26,
            "count": 1
           },
           {
            "bin_end": 5.4941950326841036e+26,
            "bin_start": 4.9447755294156934e+26,
            "count": 1
           }
          ],
          "max": "5.4941950326841036e+26",
          "min": "2737.3867964297974",
          "nan_count": 0,
          "unique_count": 239
         }
        },
        {
         "dtype": "float64",
         "name": "Temperature (K)^2 Radius(R/Ro)^5",
         "stats": {
          "histogram": [
           {
            "bin_end": 2.9646589425310796e+24,
            "bin_start": 0.003112036264748623,
            "count": 234
           },
           {
            "bin_end": 5.929317885062159e+24,
            "bin_start": 2.9646589425310796e+24,
            "count": 1
           },
           {
            "bin_end": 8.893976827593239e+24,
            "bin_start": 5.929317885062159e+24,
            "count": 2
           },
           {
            "bin_end": 1.1858635770124318e+25,
            "bin_start": 8.893976827593239e+24,
            "count": 1
           },
           {
            "bin_end": 1.48232947126554e+25,
            "bin_start": 1.1858635770124318e+25,
            "count": 0
           },
           {
            "bin_end": 1.7787953655186478e+25,
            "bin_start": 1.48232947126554e+25,
            "count": 0
           },
           {
            "bin_end": 2.0752612597717556e+25,
            "bin_start": 1.7787953655186478e+25,
            "count": 0
           },
           {
            "bin_end": 2.3717271540248637e+25,
            "bin_start": 2.0752612597717556e+25,
            "count": 0
           },
           {
            "bin_end": 2.6681930482779717e+25,
            "bin_start": 2.3717271540248637e+25,
            "count": 1
           },
           {
            "bin_end": 2.9646589425310794e+25,
            "bin_start": 2.6681930482779717e+25,
            "count": 1
           }
          ],
          "max": "2.9646589425310794e+25",
          "min": "0.003112036264748623",
          "nan_count": 0,
          "unique_count": 239
         }
        },
        {
         "dtype": "float64",
         "name": "Temperature (K) Radius(R/Ro)^6",
         "stats": {
          "histogram": [
           {
            "bin_end": 1.7780288557732796e+23,
            "bin_start": 3.5379617253001307e-09,
            "count": 233
           },
           {
            "bin_end": 3.556057711546559e+23,
            "bin_start": 1.7780288557732796e+23,
            "count": 4
           },
           {
            "bin_end": 5.334086567319839e+23,
            "bin_start": 3.556057711546559e+23,
            "count": 0
           },
           {
            "bin_end": 7.112115423093118e+23,
            "bin_start": 5.334086567319839e+23,
            "count": 1
           },
           {
            "bin_end": 8.890144278866398e+23,
            "bin_start": 7.112115423093118e+23,
            "count": 0
           },
           {
            "bin_end": 1.0668173134639678e+24,
            "bin_start": 8.890144278866398e+23,
            "count": 0
           },
           {
            "bin_end": 1.2446201990412956e+24,
            "bin_start": 1.0668173134639678e+24,
            "count": 1
           },
           {
            "bin_end": 1.4224230846186237e+24,
            "bin_start": 1.2446201990412956e+24,
            "count": 0
           },
           {
            "bin_end": 1.6002259701959517e+24,
            "bin_start": 1.4224230846186237e+24,
            "count": 0
           },
           {
            "bin_end": 1.7780288557732795e+24,
            "bin_start": 1.6002259701959517e+24,
            "count": 1
           }
          ],
          "max": "1.7780288557732795e+24",
          "min": "3.5379617253001307e-09",
          "nan_count": 0,
          "unique_count": 239
         }
        },
        {
         "dtype": "float64",
         "name": "Radius(R/Ro)^7",
         "stats": {
          "histogram": [
           {
            "bin_end": 1.0663576057971114e+22,
            "bin_start": 2.950903465574398e-15,
            "count": 222
           },
           {
            "bin_end": 2.1327152115942227e+22,
            "bin_start": 1.0663576057971114e+22,
            "count": 10
           },
           {
            "bin_end": 3.199072817391334e+22,
            "bin_start": 2.1327152115942227e+22,
            "count": 2
           },
           {
            "bin_end": 4.2654304231884455e+22,
            "bin_start": 3.199072817391334e+22,
            "count": 3
           },
           {
            "bin_end": 5.331788028985557e+22,
            "bin_start": 4.2654304231884455e+22,
            "count": 0
           },
           {
            "bin_end": 6.398145634782668e+22,
            "bin_start": 5.331788028985557e+22,
            "count": 2
           },
           {
            "bin_end": 7.46450324057978e+22,
            "bin_start": 6.398145634782668e+22,
            "count": 0
           },
           {
            "bin_end": 8.530860846376891e+22,
            "bin_start": 7.46450324057978e+22,
            "count": 0
           },
           {
            "bin_end": 9.597218452174002e+22,
            "bin_start": 8.530860846376891e+22,
            "count": 0
           },
           {
            "bin_end": 1.0663576057971114e+23,
            "bin_start": 9.597218452174002e+22,
            "count": 1
           }
          ],
          "max": "1.0663576057971114e+23",
          "min": "2.950903465574398e-15",
          "nan_count": 0,
          "unique_count": 216
         }
        },
        {
         "dtype": "float64",
         "name": "Temperature (K)^8",
         "stats": {
          "histogram": [
           {
            "bin_end": 6.55360000179831e+35,
            "bin_start": 1.998124167309669e+26,
            "count": 225
           },
           {
            "bin_end": 1.3107200001598497e+36,
            "bin_start": 6.55360000179831e+35,
            "count": 4
           },
           {
            "bin_end": 1.9660800001398682e+36,
            "bin_start": 1.3107200001598497e+36,
            "count": 4
           },
           {
            "bin_end": 2.621440000119887e+36,
            "bin_start": 1.9660800001398682e+36,
            "count": 0
           },
           {
            "bin_end": 3.2768000000999054e+36,
            "bin_start": 2.621440000119887e+36,
            "count": 1
           },
           {
            "bin_end": 3.9321600000799235e+36,
            "bin_start": 3.2768000000999054e+36,
            "count": 0
           },
           {
            "bin_end": 4.5875200000599423e+36,
            "bin_start": 3.9321600000799235e+36,
            "count": 3
           },
           {
            "bin_end": 5.242880000039961e+36,
            "bin_start": 4.5875200000599423e+36,
            "count": 0
           },
           {
            "bin_end": 5.89824000001998e+36,
            "bin_start": 5.242880000039961e+36,
            "count": 2
           },
           {
            "bin_end": 6.553599999999999e+36,
            "bin_start": 5.89824000001998e+36,
            "count": 1
           }
          ],
          "max": "6.553599999999999e+36",
          "min": "1.998124167309669e+26",
          "nan_count": 0,
          "unique_count": 228
         }
        },
        {
         "dtype": "float64",
         "name": "Temperature (K)^7 Radius(R/Ro)",
         "stats": {
          "histogram": [
           {
            "bin_end": 1.9960969973770737e+34,
            "bin_start": 1.061406855249592e+22,
            "count": 235
           },
           {
            "bin_end": 3.992193994753086e+34,
            "bin_start": 1.9960969973770737e+34,
            "count": 1
           },
           {
            "bin_end": 5.988290992129098e+34,
            "bin_start": 3.992193994753086e+34,
            "count": 0
           },
           {
            "bin_end": 7.984387989505111e+34,
            "bin_start": 5.988290992129098e+34,
            "count": 1
           },
           {
            "bin_end": 9.980484986881122e+34,
            "bin_start": 7.984387989505111e+34,
            "count": 0
           },
           {
            "bin_end": 1.1976581984257134e+35,
            "bin_start": 9.980484986881122e+34,
            "count": 0
           },
           {
            "bin_end": 1.3972678981633147e+35,
            "bin_start": 1.1976581984257134e+35,
            "count": 0
           },
           {
            "bin_end": 1.5968775979009159e+35,
            "bin_start": 1.3972678981633147e+35,
            "count": 0
           },
           {
            "bin_end": 1.7964872976385174e+35,
            "bin_start": 1.5968775979009159e+35,
            "count": 1
           },
           {
            "bin_end": 1.9960969973761186e+35,
            "bin_start": 1.7964872976385174e+35,
            "count": 2
           }
          ],
          "max": "1.9960969973761186e+35",
          "min": "1.061406855249592e+22",
          "nan_count": 0,
          "unique_count": 239
         }
        },
        {
         "dtype": "float64",
         "name": "Temperature (K)^6 Radius(R/Ro)^2",
         "stats": {
          "histogram": [
           {
            "bin_end": 9.39507139623468e+32,
            "bin_start": 563821073185703900,
            "count": 235
           },
           {
            "bin_end": 1.8790142792469353e+33,
            "bin_start": 9.39507139623468e+32,
            "count": 1
           },
           {
            "bin_end": 2.8185214188704025e+33,
            "bin_start": 1.8790142792469353e+33,
            "count": 0
           },
           {
            "bin_end": 3.75802855849387e+33,
            "bin_start": 2.8185214188704025e+33,
            "count": 0
           },
           {
            "bin_end": 4.6975356981173376e+33,
            "bin_start": 3.75802855849387e+33,
            "count": 1
           },
           {
            "bin_end": 5.637042837740804e+33,
            "bin_start": 4.6975356981173376e+33,
            "count": 0
           },
           {
            "bin_end": 6.576549977364272e+33,
            "bin_start": 5.637042837740804e+33,
            "count": 2
           },
           {
            "bin_end": 7.516057116987739e+33,
            "bin_start": 6.576549977364272e+33,
            "count": 0
           },
           {
            "bin_end": 8.455564256611206e+33,
            "bin_start": 7.516057116987739e+33,
            "count": 0
           },
           {
            "bin_end": 9.395071396234674e+33,
            "bin_start": 8.455564256611206e+33,
            "count": 1
           }
          ],
          "max": "9.395071396234674e+33",
          "min": "5.638210731857039e+17",
          "nan_count": 0,
          "unique_count": 239
         }
        },
        {
         "dtype": "float64",
         "name": "Temperature (K)^5 Radius(R/Ro)^3",
         "stats": {
          "histogram": [
           {
            "bin_end": 4.421997861645748e+31,
            "bin_start": 18595750984195.152,
            "count": 234
           },
           {
            "bin_end": 8.843995723291496e+31,
            "bin_start": 4.421997861645748e+31,
            "count": 2
           },
           {
            "bin_end": 1.3265993584937245e+32,
            "bin_start": 8.843995723291496e+31,
            "count": 0
           },
           {
            "bin_end": 1.7687991446582993e+32,
            "bin_start": 1.3265993584937245e+32,
            "count": 0
           },
           {
            "bin_end": 2.210998930822874e+32,
            "bin_start": 1.7687991446582993e+32,
            "count": 1
           },
           {
            "bin_end": 2.653198716987449e+32,
            "bin_start": 2.210998930822874e+32,
            "count": 1
           },
           {
            "bin_end": 3.0953985031520238e+32,
            "bin_start": 2.653198716987449e+32,
            "count": 1
           },
           {
            "bin_end": 3.5375982893165985e+32,
            "bin_start": 3.0953985031520238e+32,
            "count": 0
           },
           {
            "bin_end": 3.9797980754811736e+32,
            "bin_start": 3.5375982893165985e+32,
            "count": 0
           },
           {
            "bin_end": 4.421997861645748e+32,
            "bin_start": 3.9797980754811736e+32,
            "count": 1
           }
          ],
          "max": "4.421997861645748e+32",
          "min": "18595750984195.152",
          "nan_count": 0,
          "unique_count": 239
         }
        },
        {
         "dtype": "float64",
         "name": "Temperature (K)^4 Radius(R/Ro)^4",
         "stats": {
          "histogram": [
           {
            "bin_end": 2.0813109622813923e+30,
            "bin_start": 21140838.228827324,
            "count": 235
           },
           {
            "bin_end": 4.1626219245627847e+30,
            "bin_start": 2.0813109622813923e+30,
            "count": 1
           },
           {
            "bin_end": 6.243932886844177e+30,
            "bin_start": 4.1626219245627847e+30,
            "count": 0
           },
           {
            "bin_end": 8.325243849125569e+30,
            "bin_start": 6.243932886844177e+30,
            "count": 2
           },
           {
            "bin_end": 1.0406554811406962e+31,
            "bin_start": 8.325243849125569e+30,
            "count": 0
           },
           {
            "bin_end": 1.2487865773688354e+31,
            "bin_start": 1.0406554811406962e+31,
            "count": 0
           },
           {
            "bin_end": 1.4569176735969746e+31,
            "bin_start": 1.2487865773688354e+31,
            "count": 0
           },
           {
            "bin_end": 1.6650487698251139e+31,
            "bin_start": 1.4569176735969746e+31,
            "count": 1
           },
           {
            "bin_end": 1.873179866053253e+31,
            "bin_start": 1.6650487698251139e+31,
            "count": 0
           },
           {
            "bin_end": 2.0813109622813923e+31,
            "bin_start": 1.873179866053253e+31,
            "count": 1
           }
          ],
          "max": "2.0813109622813923e+31",
          "min": "21140838.228827324",
          "nan_count": 0,
          "unique_count": 239
         }
        },
        {
         "dtype": "float64",
         "name": "Temperature (K)^3 Radius(R/Ro)^5",
         "stats": {
          "histogram": [
           {
            "bin_end": 9.796149743275758e+28,
            "bin_start": 24.034256072653616,
            "count": 234
           },
           {
            "bin_end": 1.9592299486551515e+29,
            "bin_start": 9.796149743275758e+28,
            "count": 1
           },
           {
            "bin_end": 2.9388449229827273e+29,
            "bin_start": 1.9592299486551515e+29,
            "count": 3
           },
           {
            "bin_end": 3.918459897310303e+29,
            "bin_start": 2.9388449229827273e+29,
            "count": 0
           },
           {
            "bin_end": 4.898074871637879e+29,
            "bin_start": 3.918459897310303e+29,
            "count": 0
           },
           {
            "bin_end": 5.8776898459654546e+29,
            "bin_start": 4.898074871637879e+29,
            "count": 0
           },
           {
            "bin_end": 6.85730482029303e+29,
            "bin_start": 5.8776898459654546e+29,
            "count": 0
           },
           {
            "bin_end": 7.836919794620606e+29,
            "bin_start": 6.85730482029303e+29,
            "count": 0
           },
           {
            "bin_end": 8.816534768948182e+29,
            "bin_start": 7.836919794620606e+29,
            "count": 0
           },
           {
            "bin_end": 9.796149743275758e+29,
            "bin_start": 8.816534768948182e+29,
            "count": 2
           }
          ],
          "max": "9.796149743275758e+29",
          "min": "24.034256072653616",
          "nan_count": 0,
          "unique_count": 239
         }
        },
        {
         "dtype": "float64",
         "name": "Temperature (K)^2 Radius(R/Ro)^6",
         "stats": {
          "histogram": [
           {
            "bin_end": 5.776637949521808e+27,
            "bin_start": 2.732367840449291e-05,
            "count": 234
           },
           {
            "bin_end": 1.1553275899043615e+28,
            "bin_start": 5.776637949521808e+27,
            "count": 3
           },
           {
            "bin_end": 1.7329913848565423e+28,
            "bin_start": 1.1553275899043615e+28,
            "count": 1
           },
           {
            "bin_end": 2.310655179808723e+28,
            "bin_start": 1.7329913848565423e+28,
            "count": 0
           },
           {
            "bin_end": 2.8883189747609038e+28,
            "bin_start": 2.310655179808723e+28,
            "count": 0
           },
           {
            "bin_end": 3.4659827697130845e+28,
            "bin_start": 2.8883189747609038e+28,
            "count": 0
           },
           {
            "bin_end": 4.043646564665266e+28,
            "bin_start": 3.4659827697130845e+28,
            "count": 0
           },
           {
            "bin_end": 4.621310359617446e+28,
            "bin_start": 4.043646564665266e+28,
            "count": 1
           },
           {
            "bin_end": 5.198974154569626e+28,
            "bin_start": 4.621310359617446e+28,
            "count": 0
           },
           {
            "bin_end": 5.7766379495218075e+28,
            "bin_start": 5.198974154569626e+28,
            "count": 1
           }
          ],
          "max": "5.7766379495218075e+28",
          "min": "2.732367840449291e-05",
          "nan_count": 0,
          "unique_count": 239
         }
        },
        {
         "dtype": "float64",
         "name": "Temperature (K) Radius(R/Ro)^7",
         "stats": {
          "histogram": [
           {
            "bin_end": 3.464489225474235e+26,
            "bin_start": 3.1063303948135144e-11,
            "count": 235
           },
           {
            "bin_end": 6.92897845094847e+26,
            "bin_start": 3.464489225474235e+26,
            "count": 2
           },
           {
            "bin_end": 1.0393467676422705e+27,
            "bin_start": 6.92897845094847e+26,
            "count": 1
           },
           {
            "bin_end": 1.385795690189694e+27,
            "bin_start": 1.0393467676422705e+27,
            "count": 0
           },
           {
            "bin_end": 1.7322446127371175e+27,
            "bin_start": 1.385795690189694e+27,
            "count": 0
           },
           {
            "bin_end": 2.078693535284541e+27,
            "bin_start": 1.7322446127371175e+27,
            "count": 0
           },
           {
            "bin_end": 2.4251424578319645e+27,
            "bin_start": 2.078693535284541e+27,
            "count": 1
           },
           {
            "bin_end": 2.771591380379388e+27,
            "bin_start": 2.4251424578319645e+27,
            "count": 0
           },
           {
            "bin_end": 3.118040302926811e+27,
            "bin_start": 2.771591380379388e+27,
            "count": 0
           },
           {
            "bin_end": 3.464489225474235e+27,
            "bin_start": 3.118040302926811e+27,
            "count": 1
           }
          ],
          "max": "3.464489225474235e+27",
          "min": "3.1063303948135144e-11",
          "nan_count": 0,
          "unique_count": 239
         }
        },
        {
         "dtype": "float64",
         "name": "Radius(R/Ro)^8",
         "stats": {
          "histogram": [
           {
            "bin_end": 2.0777977948956716e+25,
            "bin_start": 2.4787589110824942e-17,
            "count": 224
           },
           {
            "bin_end": 4.155595589791343e+25,
            "bin_start": 2.0777977948956716e+25,
            "count": 9
           },
           {
            "bin_end": 6.233393384687015e+25,
            "bin_start": 4.155595589791343e+25,
            "count": 3
           },
           {
            "bin_end": 8.311191179582686e+25,
            "bin_start": 6.233393384687015e+25,
            "count": 1
           },
           {
            "bin_end": 1.0388988974478359e+26,
            "bin_start": 8.311191179582686e+25,
            "count": 2
           },
           {
            "bin_end": 1.246678676937403e+26,
            "bin_start": 1.0388988974478359e+26,
            "count": 0
           },
           {
            "bin_end": 1.45445845642697e+26,
            "bin_start": 1.246678676937403e+26,
            "count": 0
           },
           {
            "bin_end": 1.6622382359165372e+26,
            "bin_start": 1.45445845642697e+26,
            "count": 0
           },
           {
            "bin_end": 1.8700180154061045e+26,
            "bin_start": 1.6622382359165372e+26,
            "count": 0
           },
           {
            "bin_end": 2.0777977948956714e+26,
            "bin_start": 1.8700180154061045e+26,
            "count": 1
           }
          ],
          "max": "2.0777977948956714e+26",
          "min": "2.4787589110824942e-17",
          "nan_count": 0,
          "unique_count": 216
         }
        },
        {
         "dtype": "float64",
         "name": "Temperature (K)^9",
         "stats": {
          "histogram": [
           {
            "bin_end": 2.621440000034869e+40,
            "bin_start": 3.874362760413449e+29,
            "count": 227
           },
           {
            "bin_end": 5.242880000030995e+40,
            "bin_start": 2.621440000034869e+40,
            "count": 4
           },
           {
            "bin_end": 7.86432000002712e+40,
            "bin_start": 5.242880000030995e+40,
            "count": 2
           },
           {
            "bin_end": 1.0485760000023246e+41,
            "bin_start": 7.86432000002712e+40,
            "count": 1
           },
           {
            "bin_end": 1.3107200000019372e+41,
            "bin_start": 1.0485760000023246e+41,
            "count": 0
           },
           {
            "bin_end": 1.5728640000015497e+41,
            "bin_start": 1.3107200000019372e+41,
            "count": 0
           },
           {
            "bin_end": 1.835008000001162e+41,
            "bin_start": 1.5728640000015497e+41,
            "count": 3
           },
           {
            "bin_end": 2.097152000000775e+41,
            "bin_start": 1.835008000001162e+41,
            "count": 2
           },
           {
            "bin_end": 2.3592960000003875e+41,
            "bin_start": 2.097152000000775e+41,
            "count": 0
           },
           {
            "bin_end": 2.6214399999999997e+41,
            "bin_start": 2.3592960000003875e+41,
            "count": 1
           }
          ],
          "max": "2.6214399999999997e+41",
          "min": "3.874362760413449e+29",
          "nan_count": 0,
          "unique_count": 228
         }
        },
        {
         "dtype": "float64",
         "name": "Temperature (K)^8 Radius(R/Ro)",
         "stats": {
          "histogram": [
           {
            "bin_end": 7.561614645460398e+38,
            "bin_start": 2.058067892328959e+25,
            "count": 235
           },
           {
            "bin_end": 1.512322929092059e+39,
            "bin_start": 7.561614645460398e+38,
            "count": 1
           },
           {
            "bin_end": 2.2684843936380784e+39,
            "bin_start": 1.512322929092059e+39,
            "count": 0
           },
           {
            "bin_end": 3.0246458581840977e+39,
            "bin_start": 2.2684843936380784e+39,
            "count": 1
           },
           {
            "bin_end": 3.780807322730117e+39,
            "bin_start": 3.0246458581840977e+39,
            "count": 0
           },
           {
            "bin_end": 4.536968787276136e+39,
            "bin_start": 3.780807322730117e+39,
            "count": 0
           },
           {
            "bin_end": 5.293130251822155e+39,
            "bin_start": 4.536968787276136e+39,
            "count": 0
           },
           {
            "bin_end": 6.049291716368175e+39,
            "bin_start": 5.293130251822155e+39,
            "count": 0
           },
           {
            "bin_end": 6.805453180914194e+39,
            "bin_start": 6.049291716368175e+39,
            "count": 1
           },
           {
            "bin_end": 7.561614645460213e+39,
            "bin_start": 6.805453180914194e+39,
            "count": 2
           }
          ],
          "max": "7.561614645460213e+39",
          "min": "2.058067892328959e+25",
          "nan_count": 0,
          "unique_count": 239
         }
        },
        {
         "dtype": "float64",
         "name": "Temperature (K)^7 Radius(R/Ro)^2",
         "stats": {
          "histogram": [
           {
            "bin_end": 3.559040946321619e+37,
            "bin_start": 1.0932490609070798e+21,
            "count": 235
           },
           {
            "bin_end": 7.118081892643238e+37,
            "bin_start": 3.559040946321619e+37,
            "count": 1
           },
           {
            "bin_end": 1.0677122838964857e+38,
            "bin_start": 7.118081892643238e+37,
            "count": 0
           },
           {
            "bin_end": 1.4236163785286477e+38,
            "bin_start": 1.0677122838964857e+38,
            "count": 0
           },
           {
            "bin_end": 1.7795204731608097e+38,
            "bin_start": 1.4236163785286477e+38,
            "count": 1
           },
           {
            "bin_end": 2.1354245677929713e+38,
            "bin_start": 1.7795204731608097e+38,
            "count": 0
           },
           {
            "bin_end": 2.4913286624251333e+38,
            "bin_start": 2.1354245677929713e+38,
            "count": 1
           },
           {
            "bin_end": 2.8472327570572953e+38,
            "bin_start": 2.4913286624251333e+38,
            "count": 1
           },
           {
            "bin_end": 3.2031368516894573e+38,
            "bin_start": 2.8472327570572953e+38,
            "count": 0
           },
           {
            "bin_end": 3.559040946321619e+38,
            "bin_start": 3.2031368516894573e+38,
            "count": 1
           }
          ],
          "max": "3.559040946321619e+38",
          "min": "1.0932490609070798e+21",
          "nan_count": 0,
          "unique_count": 239
         }
        },
        {
         "dtype": "float64",
         "name": "Temperature (K)^6 Radius(R/Ro)^3",
         "stats": {
          "histogram": [
           {
            "bin_end": 1.6751412299486421e+36,
            "bin_start": 58073570538127490,
            "count": 236
           },
           {
            "bin_end": 3.3502824598972843e+36,
            "bin_start": 1.6751412299486421e+36,
            "count": 0
           },
           {
            "bin_end": 5.0254236898459264e+36,
            "bin_start": 3.3502824598972843e+36,
            "count": 0
           },
           {
            "bin_end": 6.700564919794569e+36,
            "bin_start": 5.0254236898459264e+36,
            "count": 0
           },
           {
            "bin_end": 8.375706149743211e+36,
            "bin_start": 6.700564919794569e+36,
            "count": 1
           },
           {
            "bin_end": 1.0050847379691853e+37,
            "bin_start": 8.375706149743211e+36,
            "count": 2
           },
           {
            "bin_end": 1.1725988609640495e+37,
            "bin_start": 1.0050847379691853e+37,
            "count": 0
           },
           {
            "bin_end": 1.3401129839589137e+37,
            "bin_start": 1.1725988609640495e+37,
            "count": 0
           },
           {
            "bin_end": 1.507627106953778e+37,
            "bin_start": 1.3401129839589137e+37,
            "count": 0
           },
           {
            "bin_end": 1.6751412299486421e+37,
            "bin_start": 1.507627106953778e+37,
            "count": 1
           }
          ],
          "max": "1.6751412299486421e+37",
          "min": "5.807357053812749e+16",
          "nan_count": 0,
          "unique_count": 239
         }
        },
        {
         "dtype": "float64",
         "name": "Temperature (K)^5 Radius(R/Ro)^4",
         "stats": {
          "histogram": [
           {
            "bin_end": 7.884422187314371e+34,
            "bin_start": 163270693641.23343,
            "count": 235
           },
           {
            "bin_end": 1.5768844374628742e+35,
            "bin_start": 7.884422187314371e+34,
            "count": 1
           },
           {
            "bin_end": 2.3653266561943115e+35,
            "bin_start": 1.5768844374628742e+35,
            "count": 0
           },
           {
            "bin_end": 3.1537688749257485e+35,
            "bin_start": 2.3653266561943115e+35,
            "count": 2
           },
           {
            "bin_end": 3.9422110936571854e+35,
            "bin_start": 3.1537688749257485e+35,
            "count": 0
           },
           {
            "bin_end": 4.730653312388623e+35,
            "bin_start": 3.9422110936571854e+35,
            "count": 0
           },
           {
            "bin_end": 5.51909553112006e+35,
            "bin_start": 4.730653312388623e+35,
            "count": 1
           },
           {
            "bin_end": 6.307537749851497e+35,
            "bin_start": 5.51909553112006e+35,
            "count": 0
           },
           {
            "bin_end": 7.095979968582934e+35,
            "bin_start": 6.307537749851497e+35,
            "count": 0
           },
           {
            "bin_end": 7.884422187314371e+35,
            "bin_start": 7.095979968582934e+35,
            "count": 1
           }
          ],
          "max": "7.884422187314371e+35",
          "min": "163270693641.23343",
          "nan_count": 0,
          "unique_count": 239
         }
        },
        {
         "dtype": "float64",
         "name": "Temperature (K)^4 Radius(R/Ro)^5",
         "stats": {
          "histogram": [
           {
            "bin_end": 3.7109774457477224e+33,
            "bin_start": 185616.55964910387,
            "count": 235
           },
           {
            "bin_end": 7.421954891495445e+33,
            "bin_start": 3.7109774457477224e+33,
            "count": 1
           },
           {
            "bin_end": 1.1132932337243166e+34,
            "bin_start": 7.421954891495445e+33,
            "count": 2
           },
           {
            "bin_end": 1.484390978299089e+34,
            "bin_start": 1.1132932337243166e+34,
            "count": 0
           },
           {
            "bin_end": 1.8554887228738613e+34,
            "bin_start": 1.484390978299089e+34,
            "count": 0
           },
           {
            "bin_end": 2.226586467448633e+34,
            "bin_start": 1.8554887228738613e+34,
            "count": 0
           },
           {
            "bin_end": 2.5976842120234055e+34,
            "bin_start": 2.226586467448633e+34,
            "count": 0
           },
           {
            "bin_end": 2.968781956598178e+34,
            "bin_start": 2.5976842120234055e+34,
            "count": 0
           },
           {
            "bin_end": 3.3398797011729502e+34,
            "bin_start": 2.968781956598178e+34,
            "count": 1
           },
           {
            "bin_end": 3.7109774457477226e+34,
            "bin_start": 3.3398797011729502e+34,
            "count": 1
           }
          ],
          "max": "3.7109774457477226e+34",
          "min": "185616.55964910387",
          "nan_count": 0,
          "unique_count": 239
         }
        },
        {
         "dtype": "float64",
         "name": "Temperature (K)^3 Radius(R/Ro)^6",
         "stats": {
          "histogram": [
           {
            "bin_end": 1.87677190342014e+32,
            "bin_start": 0.21102076831789873,
            "count": 235
           },
           {
            "bin_end": 3.75354380684028e+32,
            "bin_start": 1.87677190342014e+32,
            "count": 2
           },
           {
            "bin_end": 5.63031571026042e+32,
            "bin_start": 3.75354380684028e+32,
            "count": 1
           },
           {
            "bin_end": 7.50708761368056e+32,
            "bin_start": 5.63031571026042e+32,
            "count": 0
           },
           {
            "bin_end": 9.3838595171007e+32,
            "bin_start": 7.50708761368056e+32,
            "count": 0
           },
           {
            "bin_end": 1.126063142052084e+33,
            "bin_start": 9.3838595171007e+32,
            "count": 0
           },
           {
            "bin_end": 1.313740332394098e+33,
            "bin_start": 1.126063142052084e+33,
            "count": 0
           },
           {
            "bin_end": 1.501417522736112e+33,
            "bin_start": 1.313740332394098e+33,
            "count": 0
           },
           {
            "bin_end": 1.689094713078126e+33,
            "bin_start": 1.501417522736112e+33,
            "count": 0
           },
           {
            "bin_end": 1.87677190342014e+33,
            "bin_start": 1.689094713078126e+33,
            "count": 2
           }
          ],
          "max": "1.87677190342014e+33",
          "min": "0.21102076831789873",
          "nan_count": 0,
          "unique_count": 239
         }
        },
        {
         "dtype": "float64",
         "name": "Temperature (K)^2 Radius(R/Ro)^7",
         "stats": {
          "histogram": [
           {
            "bin_end": 1.1255779044643242e+31,
            "bin_start": 2.399018963914477e-07,
            "count": 235
           },
           {
            "bin_end": 2.2511558089286484e+31,
            "bin_start": 1.1255779044643242e+31,
            "count": 2
           },
           {
            "bin_end": 3.3767337133929726e+31,
            "bin_start": 2.2511558089286484e+31,
            "count": 1
           },
           {
            "bin_end": 4.502311617857297e+31,
            "bin_start": 3.3767337133929726e+31,
            "count": 0
           },
           {
            "bin_end": 5.627889522321621e+31,
            "bin_start": 4.502311617857297e+31,
            "count": 0
           },
           {
            "bin_end": 6.753467426785945e+31,
            "bin_start": 5.627889522321621e+31,
            "count": 0
           },
           {
            "bin_end": 7.879045331250269e+31,
            "bin_start": 6.753467426785945e+31,
            "count": 0
           },
           {
            "bin_end": 9.004623235714594e+31,
            "bin_start": 7.879045331250269e+31,
            "count": 1
           },
           {
            "bin_end": 1.0130201140178918e+32,
            "bin_start": 9.004623235714594e+31,
            "count": 0
           },
           {
            "bin_end": 1.1255779044643243e+32,
            "bin_start": 1.0130201140178918e+32,
            "count": 1
           }
          ],
          "max": "1.1255779044643243e+32",
          "min": "2.399018963914477e-07",
          "nan_count": 0,
          "unique_count": 239
         }
        },
        {
         "dtype": "float64",
         "name": "Temperature (K) Radius(R/Ro)^8",
         "stats": {
          "histogram": [
           {
            "bin_end": 6.750557255836546e+29,
            "bin_start": 2.7273580866462655e-13,
            "count": 236
           },
           {
            "bin_end": 1.3501114511673092e+30,
            "bin_start": 6.750557255836546e+29,
            "count": 1
           },
           {
            "bin_end": 2.0251671767509638e+30,
            "bin_start": 1.3501114511673092e+30,
            "count": 1
           },
           {
            "bin_end": 2.7002229023346184e+30,
            "bin_start": 2.0251671767509638e+30,
            "count": 0
           },
           {
            "bin_end": 3.3752786279182733e+30,
            "bin_start": 2.7002229023346184e+30,
            "count": 0
           },
           {
            "bin_end": 4.0503343535019277e+30,
            "bin_start": 3.3752786279182733e+30,
            "count": 1
           },
           {
            "bin_end": 4.725390079085582e+30,
            "bin_start": 4.0503343535019277e+30,
            "count": 0
           },
           {
            "bin_end": 5.400445804669237e+30,
            "bin_start": 4.725390079085582e+30,
            "count": 0
           },
           {
            "bin_end": 6.075501530252892e+30,
            "bin_start": 5.400445804669237e+30,
            "count": 0
           },
           {
            "bin_end": 6.750557255836547e+30,
            "bin_start": 6.075501530252892e+30,
            "count": 1
           }
          ],
          "max": "6.750557255836547e+30",
          "min": "2.7273580866462655e-13",
          "nan_count": 0,
          "unique_count": 239
         }
        },
        {
         "dtype": "float64",
         "name": "Radius(R/Ro)^9",
         "stats": {
          "histogram": [
           {
            "bin_end": 4.048589003354216e+28,
            "bin_start": 2.082157485309295e-19,
            "count": 228
           },
           {
            "bin_end": 8.097178006708431e+28,
            "bin_start": 4.048589003354216e+28,
            "count": 5
           },
           {
            "bin_end": 1.2145767010062646e+29,
            "bin_start": 8.097178006708431e+28,
            "count": 4
           },
           {
            "bin_end": 1.6194356013416863e+29,
            "bin_start": 1.2145767010062646e+29,
            "count": 0
           },
           {
            "bin_end": 2.024294501677108e+29,
            "bin_start": 1.6194356013416863e+29,
            "count": 2
           },
           {
            "bin_end": 2.4291534020125293e+29,
            "bin_start": 2.024294501677108e+29,
            "count": 0
           },
           {
            "bin_end": 2.834012302347951e+29,
            "bin_start": 2.4291534020125293e+29,
            "count": 0
           },
           {
            "bin_end": 3.2388712026833726e+29,
            "bin_start": 2.834012302347951e+29,
            "count": 0
           },
           {
            "bin_end": 3.643730103018794e+29,
            "bin_start": 3.2388712026833726e+29,
            "count": 0
           },
           {
            "bin_end": 4.048589003354216e+29,
            "bin_start": 3.643730103018794e+29,
            "count": 1
           }
          ],
          "max": "4.048589003354216e+29",
          "min": "2.082157485309295e-19",
          "nan_count": 0,
          "unique_count": 216
         }
        },
        {
         "dtype": "int64",
         "name": "_deepnote_index_column"
        }
       ],
       "row_count": 240,
       "rows": [
        {
         "1": 1,
         "Radius(R/Ro)": 0.17,
         "Radius(R/Ro)^2": 0.028900000000000006,
         "Radius(R/Ro)^3": 0.004913000000000002,
         "Radius(R/Ro)^4": 0.0008352100000000003,
         "Radius(R/Ro)^5": 0.00014198570000000007,
         "Radius(R/Ro)^6": 2.4137569000000013e-05,
         "Radius(R/Ro)^7": 4.103386730000003e-06,
         "Radius(R/Ro)^8": 6.975757441000005e-07,
         "Radius(R/Ro)^9": 1.1858787649700009e-07,
         "Temperature (K)": 3068,
         "Temperature (K) Radius(R/Ro)": 521.5600000000001,
         "Temperature (K) Radius(R/Ro)^2": 88.66520000000001,
         "Temperature (K) Radius(R/Ro)^3": 15.073084000000005,
         "Temperature (K) Radius(R/Ro)^4": 2.562424280000001,
         "Temperature (K) Radius(R/Ro)^5": 0.4356121276000002,
         "Temperature (K) Radius(R/Ro)^6": 0.07405406169200004,
         "Temperature (K) Radius(R/Ro)^7": 0.012589190487640008,
         "Temperature (K) Radius(R/Ro)^8": 0.0021401623828988013,
         "Temperature (K)^2": 9412624,
         "Temperature (K)^2 Radius(R/Ro)": 1600146.08,
         "Temperature (K)^2 Radius(R/Ro)^2": 272024.8336,
         "Temperature (K)^2 Radius(R/Ro)^3": 46244.22171200001,
         "Temperature (K)^2 Radius(R/Ro)^4": 7861.517691040003,
         "Temperature (K)^2 Radius(R/Ro)^5": 1336.4580074768005,
         "Temperature (K)^2 Radius(R/Ro)^6": 227.19786127105613,
         "Temperature (K)^2 Radius(R/Ro)^7": 38.62363641607955,
         "Temperature (K)^3": 28877930432,
         "Temperature (K)^3 Radius(R/Ro)": 4909248173.440001,
         "Temperature (K)^3 Radius(R/Ro)^2": 834572189.4848,
         "Temperature (K)^3 Radius(R/Ro)^3": 141877272.21241605,
         "Temperature (K)^3 Radius(R/Ro)^4": 24119136.27611073,
         "Temperature (K)^3 Radius(R/Ro)^5": 4100253.166938824,
         "Temperature (K)^3 Radius(R/Ro)^6": 697043.0383796002,
         "Temperature (K)^4": 88597490565376,
         "Temperature (K)^4 Radius(R/Ro)": 15061573396113.922,
         "Temperature (K)^4 Radius(R/Ro)^2": 2560467477339.366,
         "Temperature (K)^4 Radius(R/Ro)^3": 435279471147.69244,
         "Temperature (K)^4 Radius(R/Ro)^4": 73997510095.10773,
         "Temperature (K)^4 Radius(R/Ro)^5": 12579576716.168312,
         "Temperature (K)^5": 271817101054573570,
         "Temperature (K)^5 Radius(R/Ro)": 46208907179277510,
         "Temperature (K)^5 Radius(R/Ro)^2": 7855514220477176,
         "Temperature (K)^5 Radius(R/Ro)^3": 1335437417481120.5,
         "Temperature (K)^5 Radius(R/Ro)^4": 227024360971790.5,
         "Temperature (K)^6": 833934866035431700000,
         "Temperature (K)^6 Radius(R/Ro)": 141768927226023410000,
         "Temperature (K)^6 Radius(R/Ro)^2": 24100717628423975000,
         "Temperature (K)^6 Radius(R/Ro)^3": 4097121996832078000,
         "Temperature (K)^7": 2.5585121689967044e+24,
         "Temperature (K)^7 Radius(R/Ro)": 4.349470687294398e+23,
         "Temperature (K)^7 Radius(R/Ro)^2": 7.394100168400476e+22,
         "Temperature (K)^8": 7.849515334481889e+27,
         "Temperature (K)^8 Radius(R/Ro)": 1.3344176068619213e+27,
         "Temperature (K)^9": 2.408231304619044e+31,
         "_deepnote_index_column": 0
        },
        {
         "1": 1,
         "Radius(R/Ro)": 0.1542,
         "Radius(R/Ro)^2": 0.023777640000000003,
         "Radius(R/Ro)^3": 0.0036665120880000003,
         "Radius(R/Ro)^4": 0.0005653761639696001,
         "Radius(R/Ro)^5": 8.718100448411233e-05,
         "Radius(R/Ro)^6": 1.3443310891450121e-05,
         "Radius(R/Ro)^7": 2.0729585394616088e-06,
         "Radius(R/Ro)^8": 3.196502067849801e-07,
         "Radius(R/Ro)^9": 4.929006188624393e-08,
         "Temperature (K)": 3042,
         "Temperature (K) Radius(R/Ro)": 469.07640000000004,
         "Temperature (K) Radius(R/Ro)^2": 72.33158088,
         "Temperature (K) Radius(R/Ro)^3": 11.153529771696,
         "Temperature (K) Radius(R/Ro)^4": 1.7198742907955233,
         "Temperature (K) Radius(R/Ro)^5": 0.2652046156406697,
         "Temperature (K) Radius(R/Ro)^6": 0.04089455173179127,
         "Temperature (K) Radius(R/Ro)^7": 0.006305939877042214,
         "Temperature (K) Radius(R/Ro)^8": 0.0009723759290399095,
         "Temperature (K)^2": 9253764,
         "Temperature (K)^2 Radius(R/Ro)": 1426930.4088,
         "Temperature (K)^2 Radius(R/Ro)^2": 220032.66903696003,
         "Temperature (K)^2 Radius(R/Ro)^3": 33929.03756549923,
         "Temperature (K)^2 Radius(R/Ro)^4": 5231.857592599982,
         "Temperature (K)^2 Radius(R/Ro)^5": 806.7524407789173,
         "Temperature (K)^2 Radius(R/Ro)^6": 124.40122636810904,
         "Temperature (K)^2 Radius(R/Ro)^7": 19.182669105962415,
         "Temperature (K)^3": 28149950088,
         "Temperature (K)^3 Radius(R/Ro)": 4340722303.5696,
         "Temperature (K)^3 Radius(R/Ro)^2": 669339379.2104324,
         "Temperature (K)^3 Radius(R/Ro)^3": 103212132.27424866,
         "Temperature (K)^3 Radius(R/Ro)^4": 15915310.796689145,
         "Temperature (K)^3 Radius(R/Ro)^5": 2454140.9248494664,
         "Temperature (K)^3 Radius(R/Ro)^6": 378428.5306117877,
         "Temperature (K)^4": 85632148167696,
         "Temperature (K)^4 Radius(R/Ro)": 13204477247458.723,
         "Temperature (K)^4 Radius(R/Ro)^2": 2036130391558.1355,
         "Temperature (K)^4 Radius(R/Ro)^3": 313971306378.2644,
         "Temperature (K)^4 Radius(R/Ro)^4": 48414375443.52838,
         "Temperature (K)^4 Radius(R/Ro)^5": 7465496693.3920765,
         "Temperature (K)^5": 260492994726131230,
         "Temperature (K)^5 Radius(R/Ro)": 40168019786769430,
         "Temperature (K)^5 Radius(R/Ro)^2": 6193908651119848,
         "Temperature (K)^5 Radius(R/Ro)^3": 955100714002680.4,
         "Temperature (K)^5 Radius(R/Ro)^4": 147276530099213.34,
         "Temperature (K)^6": 792419689956891200000,
         "Temperature (K)^6 Radius(R/Ro)": 122191116191352620000,
         "Temperature (K)^6 Radius(R/Ro)^2": 18841870116706580000,
         "Temperature (K)^6 Radius(R/Ro)^3": 2905416371996154000,
         "Temperature (K)^7": 2.410540696848863e+24,
         "Temperature (K)^7 Radius(R/Ro)": 3.717053754540947e+23,
         "Temperature (K)^7 Radius(R/Ro)^2": 5.731696889502141e+22,
         "Temperature (K)^8": 7.332864799814241e+27,
         "Temperature (K)^8 Radius(R/Ro)": 1.1307277521313561e+27,
         "Temperature (K)^9": 2.230657472103492e+31,
         "_deepnote_index_column": 1
        },
        {
         "1": 1,
         "Radius(R/Ro)": 0.102,
         "Radius(R/Ro)^2": 0.010403999999999998,
         "Radius(R/Ro)^3": 0.0010612079999999997,
         "Radius(R/Ro)^4": 0.00010824321599999996,
         "Radius(R/Ro)^5": 1.1040808031999996e-05,
         "Radius(R/Ro)^6": 1.1261624192639995e-06,
         "Radius(R/Ro)^7": 1.1486856676492793e-07,
         "Radius(R/Ro)^8": 1.171659381002265e-08,
         "Radius(R/Ro)^9": 1.1950925686223101e-09,
         "Temperature (K)": 2600,
         "Temperature (K) Radius(R/Ro)": 265.2,
         "Temperature (K) Radius(R/Ro)^2": 27.050399999999996,
         "Temperature (K) Radius(R/Ro)^3": 2.759140799999999,
         "Temperature (K) Radius(R/Ro)^4": 0.2814323615999999,
         "Temperature (K) Radius(R/Ro)^5": 0.02870610088319999,
         "Temperature (K) Radius(R/Ro)^6": 0.0029280222900863987,
         "Temperature (K) Radius(R/Ro)^7": 0.0002986582735888126,
         "Temperature (K) Radius(R/Ro)^8": 3.046314390605889e-05,
         "Temperature (K)^2": 6760000,
         "Temperature (K)^2 Radius(R/Ro)": 689520,
         "Temperature (K)^2 Radius(R/Ro)^2": 70331.04,
         "Temperature (K)^2 Radius(R/Ro)^3": 7173.766079999998,
         "Temperature (K)^2 Radius(R/Ro)^4": 731.7241401599997,
         "Temperature (K)^2 Radius(R/Ro)^5": 74.63586229631997,
         "Temperature (K)^2 Radius(R/Ro)^6": 7.612857954224636,
         "Temperature (K)^2 Radius(R/Ro)^7": 0.7765115113309128,
         "Temperature (K)^3": 17576000000,
         "Temperature (K)^3 Radius(R/Ro)": 1792752000,
         "Temperature (K)^3 Radius(R/Ro)^2": 182860703.99999997,
         "Temperature (K)^3 Radius(R/Ro)^3": 18651791.807999995,
         "Temperature (K)^3 Radius(R/Ro)^4": 1902482.7644159992,
         "Temperature (K)^3 Radius(R/Ro)^5": 194053.24197043193,
         "Temperature (K)^3 Radius(R/Ro)^6": 19793.430680984053,
         "Temperature (K)^4": 45697600000000,
         "Temperature (K)^4 Radius(R/Ro)": 4661155200000,
         "Temperature (K)^4 Radius(R/Ro)^2": 475437830399.99994,
         "Temperature (K)^4 Radius(R/Ro)^3": 48494658700.79999,
         "Temperature (K)^4 Radius(R/Ro)^4": 4946455187.481598,
         "Temperature (K)^4 Radius(R/Ro)^5": 504538429.12312305,
         "Temperature (K)^5": 118813760000000000,
         "Temperature (K)^5 Radius(R/Ro)": 12119003520000000,
         "Temperature (K)^5 Radius(R/Ro)^2": 1236138359039999.8,
         "Temperature (K)^5 Radius(R/Ro)^3": 126086112622079.97,
         "Temperature (K)^5 Radius(R/Ro)^4": 12860783487452.154,
         "Temperature (K)^6": 308915776000000000000,
         "Temperature (K)^6 Radius(R/Ro)": 31509409152000000000,
         "Temperature (K)^6 Radius(R/Ro)^2": 3213959733503999500,
         "Temperature (K)^6 Radius(R/Ro)^3": 327823892817407940,
         "Temperature (K)^7": 8.031810176e+23,
         "Temperature (K)^7 Radius(R/Ro)": 8.19244637952e+22,
         "Temperature (K)^7 Radius(R/Ro)^2": 8.356295307110398e+21,
         "Temperature (K)^8": 2.08827064576e+27,
         "Temperature (K)^8 Radius(R/Ro)": 2.1300360586752e+26,
         "Temperature (K)^9": 5.429503678976e+30,
         "_deepnote_index_column": 2
        },
        {
         "1": 1,
         "Radius(R/Ro)": 0.16,
         "Radius(R/Ro)^2": 0.0256,
         "Radius(R/Ro)^3": 0.004096000000000001,
         "Radius(R/Ro)^4": 0.0006553600000000001,
         "Radius(R/Ro)^5": 0.00010485760000000002,
         "Radius(R/Ro)^6": 1.6777216000000003e-05,
         "Radius(R/Ro)^7": 2.6843545600000004e-06,
         "Radius(R/Ro)^8": 4.294967296000001e-07,
         "Radius(R/Ro)^9": 6.871947673600002e-08,
         "Temperature (K)": 2800,
         "Temperature (K) Radius(R/Ro)": 448,
         "Temperature (K) Radius(R/Ro)^2": 71.68,
         "Temperature (K) Radius(R/Ro)^3": 11.468800000000002,
         "Temperature (K) Radius(R/Ro)^4": 1.8350080000000004,
         "Temperature (K) Radius(R/Ro)^5": 0.2936012800000001,
         "Temperature (K) Radius(R/Ro)^6": 0.04697620480000001,
         "Temperature (K) Radius(R/Ro)^7": 0.007516192768000001,
         "Temperature (K) Radius(R/Ro)^8": 0.0012025908428800003,
         "Temperature (K)^2": 7840000,
         "Temperature (K)^2 Radius(R/Ro)": 1254400,
         "Temperature (K)^2 Radius(R/Ro)^2": 200704.00000000003,
         "Temperature (K)^2 Radius(R/Ro)^3": 32112.640000000003,
         "Temperature (K)^2 Radius(R/Ro)^4": 5138.022400000001,
         "Temperature (K)^2 Radius(R/Ro)^5": 822.0835840000002,
         "Temperature (K)^2 Radius(R/Ro)^6": 131.53337344000002,
         "Temperature (K)^2 Radius(R/Ro)^7": 21.045339750400004,
         "Temperature (K)^3": 21952000000,
         "Temperature (K)^3 Radius(R/Ro)": 3512320000,
         "Temperature (K)^3 Radius(R/Ro)^2": 561971200.0000001,
         "Temperature (K)^3 Radius(R/Ro)^3": 89915392.00000001,
         "Temperature (K)^3 Radius(R/Ro)^4": 14386462.720000003,
         "Temperature (K)^3 Radius(R/Ro)^5": 2301834.0352000007,
         "Temperature (K)^3 Radius(R/Ro)^6": 368293.44563200005,
         "Temperature (K)^4": 61465600000000,
         "Temperature (K)^4 Radius(R/Ro)": 9834496000000,
         "Temperature (K)^4 Radius(R/Ro)^2": 1573519360000.0002,
         "Temperature (K)^4 Radius(R/Ro)^3": 251763097600.00003,
         "Temperature (K)^4 Radius(R/Ro)^4": 40282095616.00001,
         "Temperature (K)^4 Radius(R/Ro)^5": 6445135298.560002,
         "Temperature (K)^5": 172103680000000000,
         "Temperature (K)^5 Radius(R/Ro)": 27536588800000000,
         "Temperature (K)^5 Radius(R/Ro)^2": 4405854208000000.5,
         "Temperature (K)^5 Radius(R/Ro)^3": 704936673280000.1,
         "Temperature (K)^5 Radius(R/Ro)^4": 112789867724800.02,
         "Temperature (K)^6": 481890304000000000000,
         "Temperature (K)^6 Radius(R/Ro)": 77102448640000000000,
         "Temperature (K)^6 Radius(R/Ro)^2": 12336391782400002000,
         "Temperature (K)^6 Radius(R/Ro)^3": 1973822685184000300,
         "Temperature (K)^7": 1.3492928512e+24,
         "Temperature (K)^7 Radius(R/Ro)": 2.15886856192e+23,
         "Temperature (K)^7 Radius(R/Ro)^2": 3.4541896990720004e+22,
         "Temperature (K)^8": 3.77801998336e+27,
         "Temperature (K)^8 Radius(R/Ro)": 6.044831973376e+26,
         "Temperature (K)^9": 1.0578455953408e+31,
         "_deepnote_index_column": 3
        },
        {
         "1": 1,
         "Radius(R/Ro)": 0.103,
         "Radius(R/Ro)^2": 0.010608999999999999,
         "Radius(R/Ro)^3": 0.0010927269999999997,
         "Radius(R/Ro)^4": 0.00011255088099999996,
         "Radius(R/Ro)^5": 1.1592740742999996e-05,
         "Radius(R/Ro)^6": 1.1940522965289995e-06,
         "Radius(R/Ro)^7": 1.2298738654248695e-07,
         "Radius(R/Ro)^8": 1.2667700813876155e-08,
         "Radius(R/Ro)^9": 1.304773183829244e-09,
         "Temperature (K)": 1939,
         "Temperature (K) Radius(R/Ro)": 199.71699999999998,
         "Temperature (K) Radius(R/Ro)^2": 20.570850999999998,
         "Temperature (K) Radius(R/Ro)^3": 2.1187976529999997,
         "Temperature (K) Radius(R/Ro)^4": 0.21823615825899992,
         "Temperature (K) Radius(R/Ro)^5": 0.02247832430067699,
         "Temperature (K) Radius(R/Ro)^6": 0.00231526740296973,
         "Temperature (K) Radius(R/Ro)^7": 0.0002384725425058822,
         "Temperature (K) Radius(R/Ro)^8": 2.4562671878105865e-05,
         "Temperature (K)^2": 3759721,
         "Temperature (K)^2 Radius(R/Ro)": 387251.263,
         "Temperature (K)^2 Radius(R/Ro)^2": 39886.880089,
         "Temperature (K)^2 Radius(R/Ro)^3": 4108.348649166999,
         "Temperature (K)^2 Radius(R/Ro)^4": 423.15991086420087,
         "Temperature (K)^2 Radius(R/Ro)^5": 43.585470819012684,
         "Temperature (K)^2 Radius(R/Ro)^6": 4.489303494358306,
         "Temperature (K)^2 Radius(R/Ro)^7": 0.4623982599189056,
         "Temperature (K)^3": 7290099019,
         "Temperature (K)^3 Radius(R/Ro)": 750880198.9569999,
         "Temperature (K)^3 Radius(R/Ro)^2": 77340660.492571,
         "Temperature (K)^3 Radius(R/Ro)^3": 7966088.030734811,
         "Temperature (K)^3 Radius(R/Ro)^4": 820507.0671656855,
         "Temperature (K)^3 Radius(R/Ro)^5": 84512.22791806559,
         "Temperature (K)^3 Radius(R/Ro)^6": 8704.759475560755,
         "Temperature (K)^4": 14135501997841,
         "Temperature (K)^4 Radius(R/Ro)": 1455956705777.6228,
         "Temperature (K)^4 Radius(R/Ro)^2": 149963540695.09515,
         "Temperature (K)^4 Radius(R/Ro)^3": 15446244691.594799,
         "Temperature (K)^4 Radius(R/Ro)^4": 1590963203.2342641,
         "Temperature (K)^4 Radius(R/Ro)^5": 163869209.9331292,
         "Temperature (K)^5": 27408738373813700,
         "Temperature (K)^5 Radius(R/Ro)": 2823100052502810.5,
         "Temperature (K)^5 Radius(R/Ro)^2": 290779305407789.5,
         "Temperature (K)^5 Radius(R/Ro)^3": 29950268457002.316,
         "Temperature (K)^5 Radius(R/Ro)^4": 3084877651071.2383,
         "Temperature (K)^6": 53145543706824760000,
         "Temperature (K)^6 Radius(R/Ro)": 5473991001802950000,
         "Temperature (K)^6 Radius(R/Ro)^2": 563821073185703900,
         "Temperature (K)^6 Radius(R/Ro)^3": 58073570538127490,
         "Temperature (K)^7": 1.0304920924753322e+23,
         "Temperature (K)^7 Radius(R/Ro)": 1.061406855249592e+22,
         "Temperature (K)^7 Radius(R/Ro)^2": 1.0932490609070798e+21,
         "Temperature (K)^8": 1.998124167309669e+26,
         "Temperature (K)^8 Radius(R/Ro)": 2.058067892328959e+25,
         "Temperature (K)^9": 3.874362760413449e+29,
         "_deepnote_index_column": 4
        },
        {
         "1": 1,
         "Radius(R/Ro)": 0.11,
         "Radius(R/Ro)^2": 0.0121,
         "Radius(R/Ro)^3": 0.001331,
         "Radius(R/Ro)^4": 0.00014641,
         "Radius(R/Ro)^5": 1.61051e-05,
         "Radius(R/Ro)^6": 1.7715609999999999e-06,
         "Radius(R/Ro)^7": 1.9487170999999998e-07,
         "Radius(R/Ro)^8": 2.1435888099999997e-08,
         "Radius(R/Ro)^9": 2.3579476909999997e-09,
         "Temperature (K)": 2840,
         "Temperature (K) Radius(R/Ro)": 312.4,
         "Temperature (K) Radius(R/Ro)^2": 34.364,
         "Temperature (K) Radius(R/Ro)^3": 3.7800399999999996,
         "Temperature (K) Radius(R/Ro)^4": 0.4158044,
         "Temperature (K) Radius(R/Ro)^5": 0.045738483999999996,
         "Temperature (K) Radius(R/Ro)^6": 0.0050312332399999994,
         "Temperature (K) Radius(R/Ro)^7": 0.0005534356563999999,
         "Temperature (K) Radius(R/Ro)^8": 6.087792220399999e-05,
         "Temperature (K)^2": 8065600,
         "Temperature (K)^2 Radius(R/Ro)": 887215.9999999999,
         "Temperature (K)^2 Radius(R/Ro)^2": 97593.76,
         "Temperature (K)^2 Radius(R/Ro)^3": 10735.3136,
         "Temperature (K)^2 Radius(R/Ro)^4": 1180.8844960000001,
         "Temperature (K)^2 Radius(R/Ro)^5": 129.89729455999998,
         "Temperature (K)^2 Radius(R/Ro)^6": 14.288702401599998,
         "Temperature (K)^2 Radius(R/Ro)^7": 1.5717572641759998,
         "Temperature (K)^3": 22906304000,
         "Temperature (K)^3 Radius(R/Ro)": 2519693439.9999995,
         "Temperature (K)^3 Radius(R/Ro)^2": 277166278.4,
         "Temperature (K)^3 Radius(R/Ro)^3": 30488290.623999998,
         "Temperature (K)^3 Radius(R/Ro)^4": 3353711.9686400006,
         "Temperature (K)^3 Radius(R/Ro)^5": 368908.31655039993,
         "Temperature (K)^3 Radius(R/Ro)^6": 40579.91482054399,
         "Temperature (K)^4": 65053903360000,
         "Temperature (K)^4 Radius(R/Ro)": 7155929369599.999,
         "Temperature (K)^4 Radius(R/Ro)^2": 787152230655.9999,
         "Temperature (K)^4 Radius(R/Ro)^3": 86586745372.15999,
         "Temperature (K)^4 Radius(R/Ro)^4": 9524541990.937601,
         "Temperature (K)^4 Radius(R/Ro)^5": 1047699619.0031358,
         "Temperature (K)^5": 184753085542400000,
         "Temperature (K)^5 Radius(R/Ro)": 20322839409663996,
         "Temperature (K)^5 Radius(R/Ro)^2": 2235512335063039.8,
         "Temperature (K)^5 Radius(R/Ro)^3": 245906356856934.38,
         "Temperature (K)^5 Radius(R/Ro)^4": 27049699254262.785,
         "Temperature (K)^6": 524698762940416000000,
         "Temperature (K)^6 Radius(R/Ro)": 57716863923445750000,
         "Temperature (K)^6 Radius(R/Ro)^2": 6348855031579033000,
         "Temperature (K)^6 Radius(R/Ro)^3": 698374053473693600,
         "Temperature (K)^7": 1.4901444867507813e+24,
         "Temperature (K)^7 Radius(R/Ro)": 1.6391589354258592e+23,
         "Temperature (K)^7 Radius(R/Ro)^2": 1.8030748289684453e+22,
         "Temperature (K)^8": 4.2320103423722193e+27,
         "Temperature (K)^8 Radius(R/Ro)": 4.65521137660944e+26,
         "Temperature (K)^9": 1.2018909372337103e+31,
         "_deepnote_index_column": 5
        },
        {
         "1": 1,
         "Radius(R/Ro)": 0.127,
         "Radius(R/Ro)^2": 0.016129,
         "Radius(R/Ro)^3": 0.002048383,
         "Radius(R/Ro)^4": 0.000260144641,
         "Radius(R/Ro)^5": 3.3038369407e-05,
         "Radius(R/Ro)^6": 4.195872914689e-06,
         "Radius(R/Ro)^7": 5.32875860165503e-07,
         "Radius(R/Ro)^8": 6.767523424101889e-08,
         "Radius(R/Ro)^9": 8.594754748609399e-09,
         "Temperature (K)": 2637,
         "Temperature (K) Radius(R/Ro)": 334.899,
         "Temperature (K) Radius(R/Ro)^2": 42.532173,
         "Temperature (K) Radius(R/Ro)^3": 5.401585971,
         "Temperature (K) Radius(R/Ro)^4": 0.686001418317,
         "Temperature (K) Radius(R/Ro)^5": 0.08712218012625901,
         "Temperature (K) Radius(R/Ro)^6": 0.011064516876034894,
         "Temperature (K) Radius(R/Ro)^7": 0.0014051936432564315,
         "Temperature (K) Radius(R/Ro)^8": 0.0001784595926935668,
         "Temperature (K)^2": 6953769,
         "Temperature (K)^2 Radius(R/Ro)": 883128.6630000001,
         "Temperature (K)^2 Radius(R/Ro)^2": 112157.340201,
         "Temperature (K)^2 Radius(R/Ro)^3": 14243.982205527001,
         "Temperature (K)^2 Radius(R/Ro)^4": 1808.985740101929,
         "Temperature (K)^2 Radius(R/Ro)^5": 229.741188992945,
         "Temperature (K)^2 Radius(R/Ro)^6": 29.177131002104016,
         "Temperature (K)^2 Radius(R/Ro)^7": 3.70549563726721,
         "Temperature (K)^3": 18337088853,
         "Temperature (K)^3 Radius(R/Ro)": 2328810284.3310003,
         "Temperature (K)^3 Radius(R/Ro)^2": 295758906.11003697,
         "Temperature (K)^3 Radius(R/Ro)^3": 37561381.0759747,
         "Temperature (K)^3 Radius(R/Ro)^4": 4770295.396648787,
         "Temperature (K)^3 Radius(R/Ro)^5": 605827.515374396,
         "Temperature (K)^3 Radius(R/Ro)^6": 76940.09445254829,
         "Temperature (K)^4": 48354903305361,
         "Temperature (K)^4 Radius(R/Ro)": 6141072719780.848,
         "Temperature (K)^4 Radius(R/Ro)^2": 779916235412.1675,
         "Temperature (K)^4 Radius(R/Ro)^3": 99049361897.34529,
         "Temperature (K)^4 Radius(R/Ro)^4": 12579268960.96285,
         "Temperature (K)^4 Radius(R/Ro)^5": 1597567158.0422823,
         "Temperature (K)^5": 127511880016236960,
         "Temperature (K)^5 Radius(R/Ro)": 16194008762062096,
         "Temperature (K)^5 Radius(R/Ro)^2": 2056639112781885.8,
         "Temperature (K)^5 Radius(R/Ro)^3": 261193167323299.53,
         "Temperature (K)^5 Radius(R/Ro)^4": 33171532250059.035,
         "Temperature (K)^6": 336248827602816860000,
         "Temperature (K)^6 Radius(R/Ro)": 42703601105557750000,
         "Temperature (K)^6 Radius(R/Ro)^2": 5423357340405833000,
         "Temperature (K)^6 Radius(R/Ro)^3": 688766382231540900,
         "Temperature (K)^7": 8.86688158388628e+23,
         "Temperature (K)^7 Radius(R/Ro)": 1.126093961153558e+23,
         "Temperature (K)^7 Radius(R/Ro)^2": 1.430139330665018e+22,
         "Temperature (K)^8": 2.338196673670812e+27,
         "Temperature (K)^8 Radius(R/Ro)": 2.9695097755619323e+26,
         "Temperature (K)^9": 6.165824628469931e+30,
         "_deepnote_index_column": 6
        },
        {
         "1": 1,
         "Radius(R/Ro)": 0.096,
         "Radius(R/Ro)^2": 0.009216,
         "Radius(R/Ro)^3": 0.000884736,
         "Radius(R/Ro)^4": 8.4934656e-05,
         "Radius(R/Ro)^5": 8.153726976e-06,
         "Radius(R/Ro)^6": 7.827577896960001e-07,
         "Radius(R/Ro)^7": 7.514474781081601e-08,
         "Radius(R/Ro)^8": 7.213895789838338e-09,
         "Radius(R/Ro)^9": 6.925339958244804e-10,
         "Temperature (K)": 2600,
         "Temperature (K) Radius(R/Ro)": 249.6,
         "Temperature (K) Radius(R/Ro)^2": 23.9616,
         "Temperature (K) Radius(R/Ro)^3": 2.3003136,
         "Temperature (K) Radius(R/Ro)^4": 0.22083010560000002,
         "Temperature (K) Radius(R/Ro)^5": 0.0211996901376,
         "Temperature (K) Radius(R/Ro)^6": 0.0020351702532096,
         "Temperature (K) Radius(R/Ro)^7": 0.00019537634430812163,
         "Temperature (K) Radius(R/Ro)^8": 1.8756129053579676e-05,
         "Temperature (K)^2": 6760000,
         "Temperature (K)^2 Radius(R/Ro)": 648960,
         "Temperature (K)^2 Radius(R/Ro)^2": 62300.16,
         "Temperature (K)^2 Radius(R/Ro)^3": 5980.81536,
         "Temperature (K)^2 Radius(R/Ro)^4": 574.1582745600001,
         "Temperature (K)^2 Radius(R/Ro)^5": 55.11919435776,
         "Temperature (K)^2 Radius(R/Ro)^6": 5.291442658344961,
         "Temperature (K)^2 Radius(R/Ro)^7": 0.5079784952011163,
         "Temperature (K)^3": 17576000000,
         "Temperature (K)^3 Radius(R/Ro)": 1687296000,
         "Temperature (K)^3 Radius(R/Ro)^2": 161980416,
         "Temperature (K)^3 Radius(R/Ro)^3": 15550119.935999999,
         "Temperature (K)^3 Radius(R/Ro)^4": 1492811.5138560003,
         "Temperature (K)^3 Radius(R/Ro)^5": 143309.905330176,
         "Temperature (K)^3 Radius(R/Ro)^6": 13757.750911696898,
         "Temperature (K)^4": 45697600000000,
         "Temperature (K)^4 Radius(R/Ro)": 4386969600000,
         "Temperature (K)^4 Radius(R/Ro)^2": 421149081600,
         "Temperature (K)^4 Radius(R/Ro)^3": 40430311833.6,
         "Temperature (K)^4 Radius(R/Ro)^4": 3881309936.025601,
         "Temperature (K)^4 Radius(R/Ro)^5": 372605753.8584576,
         "Temperature (K)^5": 118813760000000000,
         "Temperature (K)^5 Radius(R/Ro)": 11406120960000000,
         "Temperature (K)^5 Radius(R/Ro)^2": 1094987612160000,
         "Temperature (K)^5 Radius(R/Ro)^3": 105118810767360,
         "Temperature (K)^5 Radius(R/Ro)^4": 10091405833666.562,
         "Temperature (K)^6": 308915776000000000000,
         "Temperature (K)^6 Radius(R/Ro)": 29655914496000000000,
         "Temperature (K)^6 Radius(R/Ro)^2": 2846967791616000000,
         "Temperature (K)^6 Radius(R/Ro)^3": 273308907995136000,
         "Temperature (K)^7": 8.031810176e+23,
         "Temperature (K)^7 Radius(R/Ro)": 7.71053776896e+22,
         "Temperature (K)^7 Radius(R/Ro)^2": 7.4021162582016e+21,
         "Temperature (K)^8": 2.08827064576e+27,
         "Temperature (K)^8 Radius(R/Ro)": 2.0047398199296002e+26,
         "Temperature (K)^9": 5.429503678976e+30,
         "_deepnote_index_column": 7
        },
        {
         "1": 1,
         "Radius(R/Ro)": 0.11,
         "Radius(R/Ro)^2": 0.0121,
         "Radius(R/Ro)^3": 0.001331,
         "Radius(R/Ro)^4": 0.00014641,
         "Radius(R/Ro)^5": 1.61051e-05,
         "Radius(R/Ro)^6": 1.7715609999999999e-06,
         "Radius(R/Ro)^7": 1.9487170999999998e-07,
         "Radius(R/Ro)^8": 2.1435888099999997e-08,
         "Radius(R/Ro)^9": 2.3579476909999997e-09,
         "Temperature (K)": 2650,
         "Temperature (K) Radius(R/Ro)": 291.5,
         "Temperature (K) Radius(R/Ro)^2": 32.065,
         "Temperature (K) Radius(R/Ro)^3": 3.52715,
         "Temperature (K) Radius(R/Ro)^4": 0.3879865,
         "Temperature (K) Radius(R/Ro)^5": 0.042678515,
         "Temperature (K) Radius(R/Ro)^6": 0.004694636649999999,
         "Temperature (K) Radius(R/Ro)^7": 0.0005164100314999999,
         "Temperature (K) Radius(R/Ro)^8": 5.680510346499999e-05,
         "Temperature (K)^2": 7022500,
         "Temperature (K)^2 Radius(R/Ro)": 772475,
         "Temperature (K)^2 Radius(R/Ro)^2": 84972.25,
         "Temperature (K)^2 Radius(R/Ro)^3": 9346.9475,
         "Temperature (K)^2 Radius(R/Ro)^4": 1028.164225,
         "Temperature (K)^2 Radius(R/Ro)^5": 113.09806475,
         "Temperature (K)^2 Radius(R/Ro)^6": 12.440787122499998,
         "Temperature (K)^2 Radius(R/Ro)^7": 1.3684865834749997,
         "Temperature (K)^3": 18609625000,
         "Temperature (K)^3 Radius(R/Ro)": 2047058750,
         "Temperature (K)^3 Radius(R/Ro)^2": 225176462.5,
         "Temperature (K)^3 Radius(R/Ro)^3": 24769410.875,
         "Temperature (K)^3 Radius(R/Ro)^4": 2724635.19625,
         "Temperature (K)^3 Radius(R/Ro)^5": 299709.87158750003,
         "Temperature (K)^3 Radius(R/Ro)^6": 32968.085874624994,
         "Temperature (K)^4": 49315506250000,
         "Temperature (K)^4 Radius(R/Ro)": 5424705687500,
         "Temperature (K)^4 Radius(R/Ro)^2": 596717625625,
         "Temperature (K)^4 Radius(R/Ro)^3": 65638938818.75,
         "Temperature (K)^4 Radius(R/Ro)^4": 7220283270.0625,
         "Temperature (K)^4 Radius(R/Ro)^5": 794231159.7068751,
         "Temperature (K)^5": 130686091562500000,
         "Temperature (K)^5 Radius(R/Ro)": 14375470071875000,
         "Temperature (K)^5 Radius(R/Ro)^2": 1581301707906250,
         "Temperature (K)^5 Radius(R/Ro)^3": 173943187869687.5,
         "Temperature (K)^5 Radius(R/Ro)^4": 19133750665665.625,
         "Temperature (K)^6": 346318142640625000000,
         "Temperature (K)^6 Radius(R/Ro)": 38094995690468750000,
         "Temperature (K)^6 Radius(R/Ro)^2": 4190449525951563000,
         "Temperature (K)^6 Radius(R/Ro)^3": 460949447854671900,
         "Temperature (K)^7": 9.177430779976564e+23,
         "Temperature (K)^7 Radius(R/Ro)": 1.009517385797422e+23,
         "Temperature (K)^7 Radius(R/Ro)^2": 1.1104691243771641e+22,
         "Temperature (K)^8": 2.4320191566937895e+27,
         "Temperature (K)^8 Radius(R/Ro)": 2.6752210723631684e+26,
         "Temperature (K)^9": 6.444850765238542e+30,
         "_deepnote_index_column": 8
        },
        {
         "1": 1,
         "Radius(R/Ro)": 0.13,
         "Radius(R/Ro)^2": 0.016900000000000002,
         "Radius(R/Ro)^3": 0.002197,
         "Radius(R/Ro)^4": 0.00028561000000000005,
         "Radius(R/Ro)^5": 3.712930000000001e-05,
         "Radius(R/Ro)^6": 4.826809000000001e-06,
         "Radius(R/Ro)^7": 6.274851700000002e-07,
         "Radius(R/Ro)^8": 8.157307210000003e-08,
         "Radius(R/Ro)^9": 1.0604499373000005e-08,
         "Temperature (K)": 2700,
         "Temperature (K) Radius(R/Ro)": 351,
         "Temperature (K) Radius(R/Ro)^2": 45.63,
         "Temperature (K) Radius(R/Ro)^3": 5.931900000000001,
         "Temperature (K) Radius(R/Ro)^4": 0.7711470000000001,
         "Temperature (K) Radius(R/Ro)^5": 0.10024911000000003,
         "Temperature (K) Radius(R/Ro)^6": 0.013032384300000003,
         "Temperature (K) Radius(R/Ro)^7": 0.0016942099590000006,
         "Temperature (K) Radius(R/Ro)^8": 0.0002202472946700001,
         "Temperature (K)^2": 7290000,
         "Temperature (K)^2 Radius(R/Ro)": 947700,
         "Temperature (K)^2 Radius(R/Ro)^2": 123201,
         "Temperature (K)^2 Radius(R/Ro)^3": 16016.130000000001,
         "Temperature (K)^2 Radius(R/Ro)^4": 2082.0969000000005,
         "Temperature (K)^2 Radius(R/Ro)^5": 270.6725970000001,
         "Temperature (K)^2 Radius(R/Ro)^6": 35.18743761000001,
         "Temperature (K)^2 Radius(R/Ro)^7": 4.574366889300002,
         "Temperature (K)^3": 19683000000,
         "Temperature (K)^3 Radius(R/Ro)": 2558790000,
         "Temperature (K)^3 Radius(R/Ro)^2": 332642700,
         "Temperature (K)^3 Radius(R/Ro)^3": 43243551,
         "Temperature (K)^3 Radius(R/Ro)^4": 5621661.630000001,
         "Temperature (K)^3 Radius(R/Ro)^5": 730816.0119000003,
         "Temperature (K)^3 Radius(R/Ro)^6": 95006.08154700002,
         "Temperature (K)^4": 53144100000000,
         "Temperature (K)^4 Radius(R/Ro)": 6908733000000,
         "Temperature (K)^4 Radius(R/Ro)^2": 898135290000,
         "Temperature (K)^4 Radius(R/Ro)^3": 116757587700,
         "Temperature (K)^4 Radius(R/Ro)^4": 15178486401.000002,
         "Temperature (K)^4 Radius(R/Ro)^5": 1973203232.1300008,
         "Temperature (K)^5": 143489070000000000,
         "Temperature (K)^5 Radius(R/Ro)": 18653579100000000,
         "Temperature (K)^5 Radius(R/Ro)^2": 2424965283000000,
         "Temperature (K)^5 Radius(R/Ro)^3": 315245486790000,
         "Temperature (K)^5 Radius(R/Ro)^4": 40981913282700.01,
         "Temperature (K)^6": 387420489000000000000,
         "Temperature (K)^6 Radius(R/Ro)": 50364663570000000000,
         "Temperature (K)^6 Radius(R/Ro)^2": 6547406264100000000,
         "Temperature (K)^6 Radius(R/Ro)^3": 851162814333000000,
         "Temperature (K)^7": 1.0460353203e+24,
         "Temperature (K)^7 Radius(R/Ro)": 1.3598459163900002e+23,
         "Temperature (K)^7 Radius(R/Ro)^2": 1.767799691307e+22,
         "Temperature (K)^8": 2.82429536481e+27,
         "Temperature (K)^8 Radius(R/Ro)": 3.671583974253e+26,
         "Temperature (K)^9": 7.625597484987e+30,
         "_deepnote_index_column": 9
        }
       ]
      },
      "text/html": [
       "<div>\n",
       "<style scoped>\n",
       "    .dataframe tbody tr th:only-of-type {\n",
       "        vertical-align: middle;\n",
       "    }\n",
       "\n",
       "    .dataframe tbody tr th {\n",
       "        vertical-align: top;\n",
       "    }\n",
       "\n",
       "    .dataframe thead th {\n",
       "        text-align: right;\n",
       "    }\n",
       "</style>\n",
       "<table border=\"1\" class=\"dataframe\">\n",
       "  <thead>\n",
       "    <tr style=\"text-align: right;\">\n",
       "      <th></th>\n",
       "      <th>1</th>\n",
       "      <th>Temperature (K)</th>\n",
       "      <th>Radius(R/Ro)</th>\n",
       "      <th>Temperature (K)^2</th>\n",
       "      <th>Temperature (K) Radius(R/Ro)</th>\n",
       "      <th>Radius(R/Ro)^2</th>\n",
       "      <th>Temperature (K)^3</th>\n",
       "      <th>Temperature (K)^2 Radius(R/Ro)</th>\n",
       "      <th>Temperature (K) Radius(R/Ro)^2</th>\n",
       "      <th>Radius(R/Ro)^3</th>\n",
       "      <th>...</th>\n",
       "      <th>Temperature (K)^9</th>\n",
       "      <th>Temperature (K)^8 Radius(R/Ro)</th>\n",
       "      <th>Temperature (K)^7 Radius(R/Ro)^2</th>\n",
       "      <th>Temperature (K)^6 Radius(R/Ro)^3</th>\n",
       "      <th>Temperature (K)^5 Radius(R/Ro)^4</th>\n",
       "      <th>Temperature (K)^4 Radius(R/Ro)^5</th>\n",
       "      <th>Temperature (K)^3 Radius(R/Ro)^6</th>\n",
       "      <th>Temperature (K)^2 Radius(R/Ro)^7</th>\n",
       "      <th>Temperature (K) Radius(R/Ro)^8</th>\n",
       "      <th>Radius(R/Ro)^9</th>\n",
       "    </tr>\n",
       "  </thead>\n",
       "  <tbody>\n",
       "    <tr>\n",
       "      <th>0</th>\n",
       "      <td>1.0</td>\n",
       "      <td>3068.0</td>\n",
       "      <td>0.1700</td>\n",
       "      <td>9.412624e+06</td>\n",
       "      <td>5.215600e+02</td>\n",
       "      <td>2.890000e-02</td>\n",
       "      <td>2.887793e+10</td>\n",
       "      <td>1.600146e+06</td>\n",
       "      <td>8.866520e+01</td>\n",
       "      <td>4.913000e-03</td>\n",
       "      <td>...</td>\n",
       "      <td>2.408231e+31</td>\n",
       "      <td>1.334418e+27</td>\n",
       "      <td>7.394100e+22</td>\n",
       "      <td>4.097122e+18</td>\n",
       "      <td>2.270244e+14</td>\n",
       "      <td>1.257958e+10</td>\n",
       "      <td>6.970430e+05</td>\n",
       "      <td>3.862364e+01</td>\n",
       "      <td>2.140162e-03</td>\n",
       "      <td>1.185879e-07</td>\n",
       "    </tr>\n",
       "    <tr>\n",
       "      <th>1</th>\n",
       "      <td>1.0</td>\n",
       "      <td>3042.0</td>\n",
       "      <td>0.1542</td>\n",
       "      <td>9.253764e+06</td>\n",
       "      <td>4.690764e+02</td>\n",
       "      <td>2.377764e-02</td>\n",
       "      <td>2.814995e+10</td>\n",
       "      <td>1.426930e+06</td>\n",
       "      <td>7.233158e+01</td>\n",
       "      <td>3.666512e-03</td>\n",
       "      <td>...</td>\n",
       "      <td>2.230657e+31</td>\n",
       "      <td>1.130728e+27</td>\n",
       "      <td>5.731697e+22</td>\n",
       "      <td>2.905416e+18</td>\n",
       "      <td>1.472765e+14</td>\n",
       "      <td>7.465497e+09</td>\n",
       "      <td>3.784285e+05</td>\n",
       "      <td>1.918267e+01</td>\n",
       "      <td>9.723759e-04</td>\n",
       "      <td>4.929006e-08</td>\n",
       "    </tr>\n",
       "    <tr>\n",
       "      <th>2</th>\n",
       "      <td>1.0</td>\n",
       "      <td>2600.0</td>\n",
       "      <td>0.1020</td>\n",
       "      <td>6.760000e+06</td>\n",
       "      <td>2.652000e+02</td>\n",
       "      <td>1.040400e-02</td>\n",
       "      <td>1.757600e+10</td>\n",
       "      <td>6.895200e+05</td>\n",
       "      <td>2.705040e+01</td>\n",
       "      <td>1.061208e-03</td>\n",
       "      <td>...</td>\n",
       "      <td>5.429504e+30</td>\n",
       "      <td>2.130036e+26</td>\n",
       "      <td>8.356295e+21</td>\n",
       "      <td>3.278239e+17</td>\n",
       "      <td>1.286078e+13</td>\n",
       "      <td>5.045384e+08</td>\n",
       "      <td>1.979343e+04</td>\n",
       "      <td>7.765115e-01</td>\n",
       "      <td>3.046314e-05</td>\n",
       "      <td>1.195093e-09</td>\n",
       "    </tr>\n",
       "    <tr>\n",
       "      <th>3</th>\n",
       "      <td>1.0</td>\n",
       "      <td>2800.0</td>\n",
       "      <td>0.1600</td>\n",
       "      <td>7.840000e+06</td>\n",
       "      <td>4.480000e+02</td>\n",
       "      <td>2.560000e-02</td>\n",
       "      <td>2.195200e+10</td>\n",
       "      <td>1.254400e+06</td>\n",
       "      <td>7.168000e+01</td>\n",
       "      <td>4.096000e-03</td>\n",
       "      <td>...</td>\n",
       "      <td>1.057846e+31</td>\n",
       "      <td>6.044832e+26</td>\n",
       "      <td>3.454190e+22</td>\n",
       "      <td>1.973823e+18</td>\n",
       "      <td>1.127899e+14</td>\n",
       "      <td>6.445135e+09</td>\n",
       "      <td>3.682934e+05</td>\n",
       "      <td>2.104534e+01</td>\n",
       "      <td>1.202591e-03</td>\n",
       "      <td>6.871948e-08</td>\n",
       "    </tr>\n",
       "    <tr>\n",
       "      <th>4</th>\n",
       "      <td>1.0</td>\n",
       "      <td>1939.0</td>\n",
       "      <td>0.1030</td>\n",
       "      <td>3.759721e+06</td>\n",
       "      <td>1.997170e+02</td>\n",
       "      <td>1.060900e-02</td>\n",
       "      <td>7.290099e+09</td>\n",
       "      <td>3.872513e+05</td>\n",
       "      <td>2.057085e+01</td>\n",
       "      <td>1.092727e-03</td>\n",
       "      <td>...</td>\n",
       "      <td>3.874363e+29</td>\n",
       "      <td>2.058068e+25</td>\n",
       "      <td>1.093249e+21</td>\n",
       "      <td>5.807357e+16</td>\n",
       "      <td>3.084878e+12</td>\n",
       "      <td>1.638692e+08</td>\n",
       "      <td>8.704759e+03</td>\n",
       "      <td>4.623983e-01</td>\n",
       "      <td>2.456267e-05</td>\n",
       "      <td>1.304773e-09</td>\n",
       "    </tr>\n",
       "    <tr>\n",
       "      <th>...</th>\n",
       "      <td>...</td>\n",
       "      <td>...</td>\n",
       "      <td>...</td>\n",
       "      <td>...</td>\n",
       "      <td>...</td>\n",
       "      <td>...</td>\n",
       "      <td>...</td>\n",
       "      <td>...</td>\n",
       "      <td>...</td>\n",
       "      <td>...</td>\n",
       "      <td>...</td>\n",
       "      <td>...</td>\n",
       "      <td>...</td>\n",
       "      <td>...</td>\n",
       "      <td>...</td>\n",
       "      <td>...</td>\n",
       "      <td>...</td>\n",
       "      <td>...</td>\n",
       "      <td>...</td>\n",
       "      <td>...</td>\n",
       "      <td>...</td>\n",
       "    </tr>\n",
       "    <tr>\n",
       "      <th>235</th>\n",
       "      <td>1.0</td>\n",
       "      <td>38940.0</td>\n",
       "      <td>1356.0000</td>\n",
       "      <td>1.516324e+09</td>\n",
       "      <td>5.280264e+07</td>\n",
       "      <td>1.838736e+06</td>\n",
       "      <td>5.904564e+13</td>\n",
       "      <td>2.056135e+12</td>\n",
       "      <td>7.160038e+10</td>\n",
       "      <td>2.493326e+09</td>\n",
       "      <td>...</td>\n",
       "      <td>2.058560e+41</td>\n",
       "      <td>7.168483e+39</td>\n",
       "      <td>2.496267e+38</td>\n",
       "      <td>8.692701e+36</td>\n",
       "      <td>3.027042e+35</td>\n",
       "      <td>1.054101e+34</td>\n",
       "      <td>3.670675e+32</td>\n",
       "      <td>1.278232e+31</td>\n",
       "      <td>4.451163e+29</td>\n",
       "      <td>1.550020e+28</td>\n",
       "    </tr>\n",
       "    <tr>\n",
       "      <th>236</th>\n",
       "      <td>1.0</td>\n",
       "      <td>30839.0</td>\n",
       "      <td>1194.0000</td>\n",
       "      <td>9.510439e+08</td>\n",
       "      <td>3.682177e+07</td>\n",
       "      <td>1.425636e+06</td>\n",
       "      <td>2.932924e+13</td>\n",
       "      <td>1.135546e+12</td>\n",
       "      <td>4.396519e+10</td>\n",
       "      <td>1.702209e+09</td>\n",
       "      <td>...</td>\n",
       "      <td>2.522915e+40</td>\n",
       "      <td>9.768022e+38</td>\n",
       "      <td>3.781905e+37</td>\n",
       "      <td>1.464248e+36</td>\n",
       "      <td>5.669160e+34</td>\n",
       "      <td>2.194941e+33</td>\n",
       "      <td>8.498198e+31</td>\n",
       "      <td>3.290265e+30</td>\n",
       "      <td>1.273899e+29</td>\n",
       "      <td>4.932180e+27</td>\n",
       "    </tr>\n",
       "    <tr>\n",
       "      <th>237</th>\n",
       "      <td>1.0</td>\n",
       "      <td>8829.0</td>\n",
       "      <td>1423.0000</td>\n",
       "      <td>7.795124e+07</td>\n",
       "      <td>1.256367e+07</td>\n",
       "      <td>2.024929e+06</td>\n",
       "      <td>6.882315e+11</td>\n",
       "      <td>1.109246e+11</td>\n",
       "      <td>1.787810e+10</td>\n",
       "      <td>2.881474e+09</td>\n",
       "      <td>...</td>\n",
       "      <td>3.259895e+35</td>\n",
       "      <td>5.254084e+34</td>\n",
       "      <td>8.468187e+33</td>\n",
       "      <td>1.364846e+33</td>\n",
       "      <td>2.199770e+32</td>\n",
       "      <td>3.545443e+31</td>\n",
       "      <td>5.714312e+30</td>\n",
       "      <td>9.209951e+29</td>\n",
       "      <td>1.484399e+29</td>\n",
       "      <td>2.392457e+28</td>\n",
       "    </tr>\n",
       "    <tr>\n",
       "      <th>238</th>\n",
       "      <td>1.0</td>\n",
       "      <td>9235.0</td>\n",
       "      <td>1112.0000</td>\n",
       "      <td>8.528522e+07</td>\n",
       "      <td>1.026932e+07</td>\n",
       "      <td>1.236544e+06</td>\n",
       "      <td>7.876091e+11</td>\n",
       "      <td>9.483717e+10</td>\n",
       "      <td>1.141948e+10</td>\n",
       "      <td>1.375037e+09</td>\n",
       "      <td>...</td>\n",
       "      <td>4.885760e+35</td>\n",
       "      <td>5.883015e+34</td>\n",
       "      <td>7.083826e+33</td>\n",
       "      <td>8.529739e+32</td>\n",
       "      <td>1.027079e+32</td>\n",
       "      <td>1.236720e+31</td>\n",
       "      <td>1.489153e+30</td>\n",
       "      <td>1.793112e+29</td>\n",
       "      <td>2.159112e+28</td>\n",
       "      <td>2.599819e+27</td>\n",
       "    </tr>\n",
       "    <tr>\n",
       "      <th>239</th>\n",
       "      <td>1.0</td>\n",
       "      <td>37882.0</td>\n",
       "      <td>1783.0000</td>\n",
       "      <td>1.435046e+09</td>\n",
       "      <td>6.754361e+07</td>\n",
       "      <td>3.179089e+06</td>\n",
       "      <td>5.436241e+13</td>\n",
       "      <td>2.558687e+12</td>\n",
       "      <td>1.204302e+11</td>\n",
       "      <td>5.668316e+09</td>\n",
       "      <td>...</td>\n",
       "      <td>1.606557e+41</td>\n",
       "      <td>7.561615e+39</td>\n",
       "      <td>3.559041e+38</td>\n",
       "      <td>1.675141e+37</td>\n",
       "      <td>7.884422e+35</td>\n",
       "      <td>3.710977e+34</td>\n",
       "      <td>1.746653e+33</td>\n",
       "      <td>8.221010e+31</td>\n",
       "      <td>3.869400e+30</td>\n",
       "      <td>1.821219e+29</td>\n",
       "    </tr>\n",
       "  </tbody>\n",
       "</table>\n",
       "<p>240 rows × 55 columns</p>\n",
       "</div>"
      ],
      "text/plain": [
       "       1  Temperature (K)  Radius(R/Ro)  Temperature (K)^2  \\\n",
       "0    1.0           3068.0        0.1700       9.412624e+06   \n",
       "1    1.0           3042.0        0.1542       9.253764e+06   \n",
       "2    1.0           2600.0        0.1020       6.760000e+06   \n",
       "3    1.0           2800.0        0.1600       7.840000e+06   \n",
       "4    1.0           1939.0        0.1030       3.759721e+06   \n",
       "..   ...              ...           ...                ...   \n",
       "235  1.0          38940.0     1356.0000       1.516324e+09   \n",
       "236  1.0          30839.0     1194.0000       9.510439e+08   \n",
       "237  1.0           8829.0     1423.0000       7.795124e+07   \n",
       "238  1.0           9235.0     1112.0000       8.528522e+07   \n",
       "239  1.0          37882.0     1783.0000       1.435046e+09   \n",
       "\n",
       "     Temperature (K) Radius(R/Ro)  Radius(R/Ro)^2  Temperature (K)^3  \\\n",
       "0                    5.215600e+02    2.890000e-02       2.887793e+10   \n",
       "1                    4.690764e+02    2.377764e-02       2.814995e+10   \n",
       "2                    2.652000e+02    1.040400e-02       1.757600e+10   \n",
       "3                    4.480000e+02    2.560000e-02       2.195200e+10   \n",
       "4                    1.997170e+02    1.060900e-02       7.290099e+09   \n",
       "..                            ...             ...                ...   \n",
       "235                  5.280264e+07    1.838736e+06       5.904564e+13   \n",
       "236                  3.682177e+07    1.425636e+06       2.932924e+13   \n",
       "237                  1.256367e+07    2.024929e+06       6.882315e+11   \n",
       "238                  1.026932e+07    1.236544e+06       7.876091e+11   \n",
       "239                  6.754361e+07    3.179089e+06       5.436241e+13   \n",
       "\n",
       "     Temperature (K)^2 Radius(R/Ro)  Temperature (K) Radius(R/Ro)^2  \\\n",
       "0                      1.600146e+06                    8.866520e+01   \n",
       "1                      1.426930e+06                    7.233158e+01   \n",
       "2                      6.895200e+05                    2.705040e+01   \n",
       "3                      1.254400e+06                    7.168000e+01   \n",
       "4                      3.872513e+05                    2.057085e+01   \n",
       "..                              ...                             ...   \n",
       "235                    2.056135e+12                    7.160038e+10   \n",
       "236                    1.135546e+12                    4.396519e+10   \n",
       "237                    1.109246e+11                    1.787810e+10   \n",
       "238                    9.483717e+10                    1.141948e+10   \n",
       "239                    2.558687e+12                    1.204302e+11   \n",
       "\n",
       "     Radius(R/Ro)^3  ...  Temperature (K)^9  Temperature (K)^8 Radius(R/Ro)  \\\n",
       "0      4.913000e-03  ...       2.408231e+31                    1.334418e+27   \n",
       "1      3.666512e-03  ...       2.230657e+31                    1.130728e+27   \n",
       "2      1.061208e-03  ...       5.429504e+30                    2.130036e+26   \n",
       "3      4.096000e-03  ...       1.057846e+31                    6.044832e+26   \n",
       "4      1.092727e-03  ...       3.874363e+29                    2.058068e+25   \n",
       "..              ...  ...                ...                             ...   \n",
       "235    2.493326e+09  ...       2.058560e+41                    7.168483e+39   \n",
       "236    1.702209e+09  ...       2.522915e+40                    9.768022e+38   \n",
       "237    2.881474e+09  ...       3.259895e+35                    5.254084e+34   \n",
       "238    1.375037e+09  ...       4.885760e+35                    5.883015e+34   \n",
       "239    5.668316e+09  ...       1.606557e+41                    7.561615e+39   \n",
       "\n",
       "     Temperature (K)^7 Radius(R/Ro)^2  Temperature (K)^6 Radius(R/Ro)^3  \\\n",
       "0                        7.394100e+22                      4.097122e+18   \n",
       "1                        5.731697e+22                      2.905416e+18   \n",
       "2                        8.356295e+21                      3.278239e+17   \n",
       "3                        3.454190e+22                      1.973823e+18   \n",
       "4                        1.093249e+21                      5.807357e+16   \n",
       "..                                ...                               ...   \n",
       "235                      2.496267e+38                      8.692701e+36   \n",
       "236                      3.781905e+37                      1.464248e+36   \n",
       "237                      8.468187e+33                      1.364846e+33   \n",
       "238                      7.083826e+33                      8.529739e+32   \n",
       "239                      3.559041e+38                      1.675141e+37   \n",
       "\n",
       "     Temperature (K)^5 Radius(R/Ro)^4  Temperature (K)^4 Radius(R/Ro)^5  \\\n",
       "0                        2.270244e+14                      1.257958e+10   \n",
       "1                        1.472765e+14                      7.465497e+09   \n",
       "2                        1.286078e+13                      5.045384e+08   \n",
       "3                        1.127899e+14                      6.445135e+09   \n",
       "4                        3.084878e+12                      1.638692e+08   \n",
       "..                                ...                               ...   \n",
       "235                      3.027042e+35                      1.054101e+34   \n",
       "236                      5.669160e+34                      2.194941e+33   \n",
       "237                      2.199770e+32                      3.545443e+31   \n",
       "238                      1.027079e+32                      1.236720e+31   \n",
       "239                      7.884422e+35                      3.710977e+34   \n",
       "\n",
       "     Temperature (K)^3 Radius(R/Ro)^6  Temperature (K)^2 Radius(R/Ro)^7  \\\n",
       "0                        6.970430e+05                      3.862364e+01   \n",
       "1                        3.784285e+05                      1.918267e+01   \n",
       "2                        1.979343e+04                      7.765115e-01   \n",
       "3                        3.682934e+05                      2.104534e+01   \n",
       "4                        8.704759e+03                      4.623983e-01   \n",
       "..                                ...                               ...   \n",
       "235                      3.670675e+32                      1.278232e+31   \n",
       "236                      8.498198e+31                      3.290265e+30   \n",
       "237                      5.714312e+30                      9.209951e+29   \n",
       "238                      1.489153e+30                      1.793112e+29   \n",
       "239                      1.746653e+33                      8.221010e+31   \n",
       "\n",
       "     Temperature (K) Radius(R/Ro)^8  Radius(R/Ro)^9  \n",
       "0                      2.140162e-03    1.185879e-07  \n",
       "1                      9.723759e-04    4.929006e-08  \n",
       "2                      3.046314e-05    1.195093e-09  \n",
       "3                      1.202591e-03    6.871948e-08  \n",
       "4                      2.456267e-05    1.304773e-09  \n",
       "..                              ...             ...  \n",
       "235                    4.451163e+29    1.550020e+28  \n",
       "236                    1.273899e+29    4.932180e+27  \n",
       "237                    1.484399e+29    2.392457e+28  \n",
       "238                    2.159112e+28    2.599819e+27  \n",
       "239                    3.869400e+30    1.821219e+29  \n",
       "\n",
       "[240 rows x 55 columns]"
      ]
     },
     "execution_count": 21,
     "metadata": {},
     "output_type": "execute_result"
    }
   ],
   "source": [
    "df_ply"
   ]
  },
  {
   "cell_type": "markdown",
   "metadata": {
    "cell_id": "9c955a6b-67bb-4c41-afe2-bc847dd67ffc",
    "deepnote_cell_height": 126,
    "deepnote_cell_type": "markdown",
    "tags": []
   },
   "source": [
    "Then I apply linear regression on luminorsity and each predited polynomial combination, and caculate the error. In the end, I printed out the smallest error and its combination."
   ]
  },
  {
   "cell_type": "code",
   "execution_count": null,
   "metadata": {
    "cell_id": "c8006bed-e860-4936-afc3-9509454daf21",
    "deepnote_cell_height": 220.1875,
    "deepnote_cell_type": "code",
    "deepnote_to_be_reexecuted": false,
    "execution_millis": 155,
    "execution_start": 1647306260529,
    "source_hash": "36a7f3fe",
    "tags": []
   },
   "outputs": [
    {
     "name": "stdout",
     "output_type": "stream",
     "text": [
      "the smallest mean squared error is 23173652154.675903 from column Radius(R/Ro)\n"
     ]
    }
   ],
   "source": [
    "error_dict = {}\n",
    "for column in df_ply:\n",
    "    reg = LinearRegression()\n",
    "    reg.fit(df_ply[[column]], y_ply)\n",
    "    error = mean_squared_error(reg.predict(df_ply[[column]]), y_ply)\n",
    "    error_dict[error] = column\n",
    "print(\"the smallest mean squared error is\", min(error_dict), 'from column', error_dict[min(error_dict)])"
   ]
  },
  {
   "cell_type": "markdown",
   "metadata": {
    "cell_id": "1b750047-5eff-497c-b297-6215813b6541",
    "deepnote_cell_height": 122,
    "deepnote_cell_type": "markdown",
    "tags": []
   },
   "source": [
    "Here we can see the lowest mean squred error is around 2.3 * 10^10, and the linear combinaiton is Radius^1 * Temperature^0\n",
    "\n",
    "The error is very large and a possible reason for that is that all star types are evaluated together and their ranges are in very different scales. As a result, different star types are evaluated separated below."
   ]
  },
  {
   "cell_type": "code",
   "execution_count": null,
   "metadata": {
    "cell_id": "06cf0222-ae63-4c3a-81ff-5e9fe8694253",
    "deepnote_cell_height": 526,
    "deepnote_cell_type": "code",
    "deepnote_output_heights": [
     357
    ],
    "deepnote_to_be_reexecuted": false,
    "execution_millis": 13,
    "execution_start": 1647306260714,
    "source_hash": "8f11c32c",
    "tags": []
   },
   "outputs": [
    {
     "data": {
      "text/html": [
       "\n",
       "<div id=\"altair-viz-85ce7c09482e4a26aad409898243c38f\"></div>\n",
       "<script type=\"text/javascript\">\n",
       "  (function(spec, embedOpt){\n",
       "    let outputDiv = document.currentScript.previousElementSibling;\n",
       "    if (outputDiv.id !== \"altair-viz-85ce7c09482e4a26aad409898243c38f\") {\n",
       "      outputDiv = document.getElementById(\"altair-viz-85ce7c09482e4a26aad409898243c38f\");\n",
       "    }\n",
       "    const paths = {\n",
       "      \"vega\": \"https://cdn.jsdelivr.net/npm//vega@5?noext\",\n",
       "      \"vega-lib\": \"https://cdn.jsdelivr.net/npm//vega-lib?noext\",\n",
       "      \"vega-lite\": \"https://cdn.jsdelivr.net/npm//vega-lite@4.8.1?noext\",\n",
       "      \"vega-embed\": \"https://cdn.jsdelivr.net/npm//vega-embed@6?noext\",\n",
       "    };\n",
       "\n",
       "    function loadScript(lib) {\n",
       "      return new Promise(function(resolve, reject) {\n",
       "        var s = document.createElement('script');\n",
       "        s.src = paths[lib];\n",
       "        s.async = true;\n",
       "        s.onload = () => resolve(paths[lib]);\n",
       "        s.onerror = () => reject(`Error loading script: ${paths[lib]}`);\n",
       "        document.getElementsByTagName(\"head\")[0].appendChild(s);\n",
       "      });\n",
       "    }\n",
       "\n",
       "    function showError(err) {\n",
       "      outputDiv.innerHTML = `<div class=\"error\" style=\"color:red;\">${err}</div>`;\n",
       "      throw err;\n",
       "    }\n",
       "\n",
       "    function displayChart(vegaEmbed) {\n",
       "      vegaEmbed(outputDiv, spec, embedOpt)\n",
       "        .catch(err => showError(`Javascript Error: ${err.message}<br>This usually means there's a typo in your chart specification. See the javascript console for the full traceback.`));\n",
       "    }\n",
       "\n",
       "    if(typeof define === \"function\" && define.amd) {\n",
       "      requirejs.config({paths});\n",
       "      require([\"vega-embed\"], displayChart, err => showError(`Error loading script: ${err.message}`));\n",
       "    } else if (typeof vegaEmbed === \"function\") {\n",
       "      displayChart(vegaEmbed);\n",
       "    } else {\n",
       "      loadScript(\"vega\")\n",
       "        .then(() => loadScript(\"vega-lite\"))\n",
       "        .then(() => loadScript(\"vega-embed\"))\n",
       "        .catch(showError)\n",
       "        .then(() => displayChart(vegaEmbed));\n",
       "    }\n",
       "  })({\"config\": {\"view\": {\"continuousWidth\": 400, \"continuousHeight\": 300}}, \"data\": {\"name\": \"data-0a839de9f964f51f23f9ac7768e8c69b\"}, \"mark\": {\"type\": \"boxplot\", \"extent\": \"min-max\"}, \"encoding\": {\"x\": {\"type\": \"nominal\", \"field\": \"Star type\"}, \"y\": {\"type\": \"quantitative\", \"field\": \"Luminosity(L/Lo)\"}}, \"$schema\": \"https://vega.github.io/schema/vega-lite/v4.8.1.json\", \"datasets\": {\"data-0a839de9f964f51f23f9ac7768e8c69b\": [{\"Temperature (K)\": 3068, \"Luminosity(L/Lo)\": 0.0024, \"Radius(R/Ro)\": 0.17, \"Absolute magnitude(Mv)\": 16.12, \"Star type\": 0, \"Star color\": \"Red\", \"Spectral Class\": \"M\", \"predict_K\": 0, \"predict_l\": 0.0027974999999999996}, {\"Temperature (K)\": 3042, \"Luminosity(L/Lo)\": 0.0005, \"Radius(R/Ro)\": 0.1542, \"Absolute magnitude(Mv)\": 16.6, \"Star type\": 0, \"Star color\": \"Red\", \"Spectral Class\": \"M\", \"predict_K\": 0, \"predict_l\": 0.00455}, {\"Temperature (K)\": 2600, \"Luminosity(L/Lo)\": 0.0003, \"Radius(R/Ro)\": 0.102, \"Absolute magnitude(Mv)\": 18.7, \"Star type\": 0, \"Star color\": \"Red\", \"Spectral Class\": \"M\", \"predict_K\": 0, \"predict_l\": 0.0005074999999999999}, {\"Temperature (K)\": 2800, \"Luminosity(L/Lo)\": 0.0002, \"Radius(R/Ro)\": 0.16, \"Absolute magnitude(Mv)\": 16.65, \"Star type\": 0, \"Star color\": \"Red\", \"Spectral Class\": \"M\", \"predict_K\": 0, \"predict_l\": 0.00095725}, {\"Temperature (K)\": 1939, \"Luminosity(L/Lo)\": 0.000138, \"Radius(R/Ro)\": 0.103, \"Absolute magnitude(Mv)\": 20.06, \"Star type\": 0, \"Star color\": \"Red\", \"Spectral Class\": \"M\", \"predict_K\": 0, \"predict_l\": 0.0003595}, {\"Temperature (K)\": 2840, \"Luminosity(L/Lo)\": 0.00065, \"Radius(R/Ro)\": 0.11, \"Absolute magnitude(Mv)\": 16.98, \"Star type\": 0, \"Star color\": \"Red\", \"Spectral Class\": \"M\", \"predict_K\": 0, \"predict_l\": 0.00052925}, {\"Temperature (K)\": 2637, \"Luminosity(L/Lo)\": 0.00073, \"Radius(R/Ro)\": 0.127, \"Absolute magnitude(Mv)\": 17.22, \"Star type\": 0, \"Star color\": \"Red\", \"Spectral Class\": \"M\", \"predict_K\": 0, \"predict_l\": 0.000655}, {\"Temperature (K)\": 2600, \"Luminosity(L/Lo)\": 0.0004, \"Radius(R/Ro)\": 0.096, \"Absolute magnitude(Mv)\": 17.4, \"Star type\": 0, \"Star color\": \"Red\", \"Spectral Class\": \"M\", \"predict_K\": 0, \"predict_l\": 0.0005074999999999999}, {\"Temperature (K)\": 2650, \"Luminosity(L/Lo)\": 0.00069, \"Radius(R/Ro)\": 0.11, \"Absolute magnitude(Mv)\": 17.45, \"Star type\": 0, \"Star color\": \"Red\", \"Spectral Class\": \"M\", \"predict_K\": 0, \"predict_l\": 0.000655}, {\"Temperature (K)\": 2700, \"Luminosity(L/Lo)\": 0.00018, \"Radius(R/Ro)\": 0.13, \"Absolute magnitude(Mv)\": 16.05, \"Star type\": 0, \"Star color\": \"Red\", \"Spectral Class\": \"M\", \"predict_K\": 0, \"predict_l\": 0.00047674999999999996}, {\"Temperature (K)\": 3600, \"Luminosity(L/Lo)\": 0.0029, \"Radius(R/Ro)\": 0.51, \"Absolute magnitude(Mv)\": 10.69, \"Star type\": 1, \"Star color\": \"Red\", \"Spectral Class\": \"M\", \"predict_K\": 1, \"predict_l\": 0.007175}, {\"Temperature (K)\": 3129, \"Luminosity(L/Lo)\": 0.0122, \"Radius(R/Ro)\": 0.3761, \"Absolute magnitude(Mv)\": 11.79, \"Star type\": 1, \"Star color\": \"Red\", \"Spectral Class\": \"M\", \"predict_K\": 1, \"predict_l\": 0.0035175000000000002}, {\"Temperature (K)\": 3134, \"Luminosity(L/Lo)\": 0.0004, \"Radius(R/Ro)\": 0.196, \"Absolute magnitude(Mv)\": 13.21, \"Star type\": 1, \"Star color\": \"Red\", \"Spectral Class\": \"M\", \"predict_K\": 1, \"predict_l\": 0.0035175000000000002}, {\"Temperature (K)\": 3628, \"Luminosity(L/Lo)\": 0.0055, \"Radius(R/Ro)\": 0.393, \"Absolute magnitude(Mv)\": 10.48, \"Star type\": 1, \"Star color\": \"Red\", \"Spectral Class\": \"M\", \"predict_K\": 1, \"predict_l\": 0.007657499999999999}, {\"Temperature (K)\": 2650, \"Luminosity(L/Lo)\": 0.0006, \"Radius(R/Ro)\": 0.14, \"Absolute magnitude(Mv)\": 11.782, \"Star type\": 1, \"Star color\": \"Red\", \"Spectral Class\": \"M\", \"predict_K\": 1, \"predict_l\": 0.000655}, {\"Temperature (K)\": 3340, \"Luminosity(L/Lo)\": 0.0038, \"Radius(R/Ro)\": 0.24, \"Absolute magnitude(Mv)\": 13.07, \"Star type\": 1, \"Star color\": \"Red\", \"Spectral Class\": \"M\", \"predict_K\": 1, \"predict_l\": 0.007975}, {\"Temperature (K)\": 2799, \"Luminosity(L/Lo)\": 0.0018, \"Radius(R/Ro)\": 0.16, \"Absolute magnitude(Mv)\": 14.79, \"Star type\": 1, \"Star color\": \"Red\", \"Spectral Class\": \"M\", \"predict_K\": 1, \"predict_l\": 0.00095725}, {\"Temperature (K)\": 3692, \"Luminosity(L/Lo)\": 0.00367, \"Radius(R/Ro)\": 0.47, \"Absolute magnitude(Mv)\": 10.8, \"Star type\": 1, \"Star color\": \"Red\", \"Spectral Class\": \"M\", \"predict_K\": 1, \"predict_l\": 0.00785}, {\"Temperature (K)\": 3192, \"Luminosity(L/Lo)\": 0.00362, \"Radius(R/Ro)\": 0.1967, \"Absolute magnitude(Mv)\": 13.53, \"Star type\": 1, \"Star color\": \"Red\", \"Spectral Class\": \"M\", \"predict_K\": 1, \"predict_l\": 0.0016899999999999999}, {\"Temperature (K)\": 3441, \"Luminosity(L/Lo)\": 0.039, \"Radius(R/Ro)\": 0.351, \"Absolute magnitude(Mv)\": 11.18, \"Star type\": 1, \"Star color\": \"Red\", \"Spectral Class\": \"M\", \"predict_K\": 1, \"predict_l\": 0.011397749999999998}, {\"Temperature (K)\": 25000, \"Luminosity(L/Lo)\": 0.056, \"Radius(R/Ro)\": 0.0084, \"Absolute magnitude(Mv)\": 10.58, \"Star type\": 2, \"Star color\": \"Blue White\", \"Spectral Class\": \"B\", \"predict_K\": 2, \"predict_l\": 59375.0143975}, {\"Temperature (K)\": 7740, \"Luminosity(L/Lo)\": 0.00049, \"Radius(R/Ro)\": 0.01234, \"Absolute magnitude(Mv)\": 14.02, \"Star type\": 2, \"Star color\": \"White\", \"Spectral Class\": \"A\", \"predict_K\": 2, \"predict_l\": 1.980185}, {\"Temperature (K)\": 7220, \"Luminosity(L/Lo)\": 0.00017, \"Radius(R/Ro)\": 0.011, \"Absolute magnitude(Mv)\": 14.23, \"Star type\": 2, \"Star color\": \"White\", \"Spectral Class\": \"F\", \"predict_K\": 2, \"predict_l\": 32750.000135}, {\"Temperature (K)\": 8500, \"Luminosity(L/Lo)\": 0.0005, \"Radius(R/Ro)\": 0.01, \"Absolute magnitude(Mv)\": 14.5, \"Star type\": 2, \"Star color\": \"White\", \"Spectral Class\": \"A\", \"predict_K\": 2, \"predict_l\": 2.3128975}, {\"Temperature (K)\": 16500, \"Luminosity(L/Lo)\": 0.013, \"Radius(R/Ro)\": 0.014, \"Absolute magnitude(Mv)\": 11.89, \"Star type\": 2, \"Star color\": \"Blue White\", \"Spectral Class\": \"B\", \"predict_K\": 2, \"predict_l\": 540.2536}, {\"Temperature (K)\": 12990, \"Luminosity(L/Lo)\": 8.5e-05, \"Radius(R/Ro)\": 0.00984, \"Absolute magnitude(Mv)\": 12.23, \"Star type\": 2, \"Star color\": \"Yellowish White\", \"Spectral Class\": \"F\", \"predict_K\": 2, \"predict_l\": 249.50041875}, {\"Temperature (K)\": 8570, \"Luminosity(L/Lo)\": 0.00081, \"Radius(R/Ro)\": 0.0097, \"Absolute magnitude(Mv)\": 14.2, \"Star type\": 2, \"Star color\": \"Blue white\", \"Spectral Class\": \"A\", \"predict_K\": 2, \"predict_l\": 2.3128975}, {\"Temperature (K)\": 7700, \"Luminosity(L/Lo)\": 0.00011, \"Radius(R/Ro)\": 0.0128, \"Absolute magnitude(Mv)\": 14.47, \"Star type\": 2, \"Star color\": \"Yellowish White\", \"Spectral Class\": \"F\", \"predict_K\": 2, \"predict_l\": 1.980185}, {\"Temperature (K)\": 11790, \"Luminosity(L/Lo)\": 0.00015, \"Radius(R/Ro)\": 0.011, \"Absolute magnitude(Mv)\": 12.59, \"Star type\": 2, \"Star color\": \"Yellowish White\", \"Spectral Class\": \"F\", \"predict_K\": 2, \"predict_l\": 172.2504}, {\"Temperature (K)\": 7230, \"Luminosity(L/Lo)\": 8e-05, \"Radius(R/Ro)\": 0.013, \"Absolute magnitude(Mv)\": 14.08, \"Star type\": 2, \"Star color\": \"Pale yellow orange\", \"Spectral Class\": \"F\", \"predict_K\": 2, \"predict_l\": 32750.000135}, {\"Temperature (K)\": 39000, \"Luminosity(L/Lo)\": 204000.0, \"Radius(R/Ro)\": 10.6, \"Absolute magnitude(Mv)\": -4.7, \"Star type\": 3, \"Star color\": \"Blue\", \"Spectral Class\": \"O\", \"predict_K\": 3, \"predict_l\": 354475.0}, {\"Temperature (K)\": 30000, \"Luminosity(L/Lo)\": 28840.0, \"Radius(R/Ro)\": 6.3, \"Absolute magnitude(Mv)\": -4.2, \"Star type\": 3, \"Star color\": \"Blue-white\", \"Spectral Class\": \"B\", \"predict_K\": 3, \"predict_l\": 101857.5}, {\"Temperature (K)\": 15276, \"Luminosity(L/Lo)\": 1136.0, \"Radius(R/Ro)\": 7.2, \"Absolute magnitude(Mv)\": -1.97, \"Star type\": 3, \"Star color\": \"Blue-white\", \"Spectral Class\": \"B\", \"predict_K\": 3, \"predict_l\": 284.0006275}, {\"Temperature (K)\": 9700, \"Luminosity(L/Lo)\": 74.0, \"Radius(R/Ro)\": 2.89, \"Absolute magnitude(Mv)\": 0.16, \"Star type\": 3, \"Star color\": \"Whitish\", \"Spectral Class\": \"B\", \"predict_K\": 3, \"predict_l\": 163.7501125}, {\"Temperature (K)\": 5800, \"Luminosity(L/Lo)\": 0.81, \"Radius(R/Ro)\": 0.9, \"Absolute magnitude(Mv)\": 5.05, \"Star type\": 3, \"Star color\": \"yellow-white\", \"Spectral Class\": \"F\", \"predict_K\": 3, \"predict_l\": 0.8939999999999999}, {\"Temperature (K)\": 8052, \"Luminosity(L/Lo)\": 8.7, \"Radius(R/Ro)\": 1.8, \"Absolute magnitude(Mv)\": 2.42, \"Star type\": 3, \"Star color\": \"Whitish\", \"Spectral Class\": \"A\", \"predict_K\": 3, \"predict_l\": 4.487657499999999}, {\"Temperature (K)\": 6757, \"Luminosity(L/Lo)\": 1.43, \"Radius(R/Ro)\": 1.12, \"Absolute magnitude(Mv)\": 2.41, \"Star type\": 3, \"Star color\": \"yellow-white\", \"Spectral Class\": \"F\", \"predict_K\": 3, \"predict_l\": 0.6951149999999999}, {\"Temperature (K)\": 6380, \"Luminosity(L/Lo)\": 1.35, \"Radius(R/Ro)\": 0.98, \"Absolute magnitude(Mv)\": 2.93, \"Star type\": 3, \"Star color\": \"yellow-white\", \"Spectral Class\": \"F\", \"predict_K\": 3, \"predict_l\": 1.2367500000000002}, {\"Temperature (K)\": 5936, \"Luminosity(L/Lo)\": 1.357, \"Radius(R/Ro)\": 1.106, \"Absolute magnitude(Mv)\": 4.46, \"Star type\": 3, \"Star color\": \"yellow-white\", \"Spectral Class\": \"F\", \"predict_K\": 3, \"predict_l\": 1.084}, {\"Temperature (K)\": 5587, \"Luminosity(L/Lo)\": 0.819, \"Radius(R/Ro)\": 0.99, \"Absolute magnitude(Mv)\": 5.03, \"Star type\": 3, \"Star color\": \"yellow-white\", \"Spectral Class\": \"F\", \"predict_K\": 3, \"predict_l\": 0.8939999999999999}, {\"Temperature (K)\": 3826, \"Luminosity(L/Lo)\": 200000.0, \"Radius(R/Ro)\": 19.0, \"Absolute magnitude(Mv)\": -6.93, \"Star type\": 4, \"Star color\": \"Red\", \"Spectral Class\": \"M\", \"predict_K\": 4, \"predict_l\": 130000.00229250001}, {\"Temperature (K)\": 3365, \"Luminosity(L/Lo)\": 340000.0, \"Radius(R/Ro)\": 23.0, \"Absolute magnitude(Mv)\": -6.2, \"Star type\": 4, \"Star color\": \"Red\", \"Spectral Class\": \"M\", \"predict_K\": 4, \"predict_l\": 283750.0}, {\"Temperature (K)\": 3270, \"Luminosity(L/Lo)\": 150000.0, \"Radius(R/Ro)\": 88.0, \"Absolute magnitude(Mv)\": -6.02, \"Star type\": 4, \"Star color\": \"Red\", \"Spectral Class\": \"M\", \"predict_K\": 4, \"predict_l\": 164250.0}, {\"Temperature (K)\": 3200, \"Luminosity(L/Lo)\": 195000.0, \"Radius(R/Ro)\": 17.0, \"Absolute magnitude(Mv)\": -7.22, \"Star type\": 4, \"Star color\": \"Red\", \"Spectral Class\": \"M\", \"predict_K\": 4, \"predict_l\": 203750.000575}, {\"Temperature (K)\": 3008, \"Luminosity(L/Lo)\": 280000.0, \"Radius(R/Ro)\": 25.0, \"Absolute magnitude(Mv)\": -6.0, \"Star type\": 4, \"Star color\": \"Red\", \"Spectral Class\": \"M\", \"predict_K\": 4, \"predict_l\": 203750.002175}, {\"Temperature (K)\": 3600, \"Luminosity(L/Lo)\": 320000.0, \"Radius(R/Ro)\": 29.0, \"Absolute magnitude(Mv)\": -6.6, \"Star type\": 4, \"Star color\": \"Red\", \"Spectral Class\": \"M\", \"predict_K\": 4, \"predict_l\": 245750.0}, {\"Temperature (K)\": 3575, \"Luminosity(L/Lo)\": 123000.0, \"Radius(R/Ro)\": 45.0, \"Absolute magnitude(Mv)\": -6.78, \"Star type\": 4, \"Star color\": \"Red\", \"Spectral Class\": \"M\", \"predict_K\": 4, \"predict_l\": 245750.0}, {\"Temperature (K)\": 3574, \"Luminosity(L/Lo)\": 200000.0, \"Radius(R/Ro)\": 89.0, \"Absolute magnitude(Mv)\": -5.24, \"Star type\": 4, \"Star color\": \"Red\", \"Spectral Class\": \"M\", \"predict_K\": 4, \"predict_l\": 164250.0}, {\"Temperature (K)\": 3625, \"Luminosity(L/Lo)\": 184000.0, \"Radius(R/Ro)\": 84.0, \"Absolute magnitude(Mv)\": -6.74, \"Star type\": 4, \"Star color\": \"Red\", \"Spectral Class\": \"M\", \"predict_K\": 4, \"predict_l\": 164250.0}, {\"Temperature (K)\": 33750, \"Luminosity(L/Lo)\": 220000.0, \"Radius(R/Ro)\": 26.0, \"Absolute magnitude(Mv)\": -6.1, \"Star type\": 4, \"Star color\": \"Blue\", \"Spectral Class\": \"B\", \"predict_K\": 3, \"predict_l\": 252550.0}, {\"Temperature (K)\": 3490, \"Luminosity(L/Lo)\": 270000.0, \"Radius(R/Ro)\": 1520.0, \"Absolute magnitude(Mv)\": -9.4, \"Star type\": 5, \"Star color\": \"Red\", \"Spectral Class\": \"M\", \"predict_K\": 5, \"predict_l\": 219750.0}, {\"Temperature (K)\": 3750, \"Luminosity(L/Lo)\": 283000.0, \"Radius(R/Ro)\": 1260.0, \"Absolute magnitude(Mv)\": -7.63, \"Star type\": 5, \"Star color\": \"Red\", \"Spectral Class\": \"M\", \"predict_K\": 5, \"predict_l\": 296750.0}, {\"Temperature (K)\": 3834, \"Luminosity(L/Lo)\": 272000.0, \"Radius(R/Ro)\": 1183.0, \"Absolute magnitude(Mv)\": -9.2, \"Star type\": 5, \"Star color\": \"Red\", \"Spectral Class\": \"M\", \"predict_K\": 5, \"predict_l\": 230250.0}, {\"Temperature (K)\": 3749, \"Luminosity(L/Lo)\": 550000.0, \"Radius(R/Ro)\": 1648.0, \"Absolute magnitude(Mv)\": -8.05, \"Star type\": 5, \"Star color\": \"Orange\", \"Spectral Class\": \"M\", \"predict_K\": 5, \"predict_l\": 314500.0}, {\"Temperature (K)\": 3650, \"Luminosity(L/Lo)\": 310000.0, \"Radius(R/Ro)\": 1324.0, \"Absolute magnitude(Mv)\": -7.79, \"Star type\": 5, \"Star color\": \"Red\", \"Spectral Class\": \"M\", \"predict_K\": 5, \"predict_l\": 229500.0}, {\"Temperature (K)\": 3450, \"Luminosity(L/Lo)\": 263000.0, \"Radius(R/Ro)\": 1349.0, \"Absolute magnitude(Mv)\": -11.75, \"Star type\": 5, \"Star color\": \"Red\", \"Spectral Class\": \"M\", \"predict_K\": 5, \"predict_l\": 229500.0}, {\"Temperature (K)\": 3660, \"Luminosity(L/Lo)\": 363000.0, \"Radius(R/Ro)\": 1673.0, \"Absolute magnitude(Mv)\": -11.92, \"Star type\": 5, \"Star color\": \"Red\", \"Spectral Class\": \"M\", \"predict_K\": 5, \"predict_l\": 314500.0}, {\"Temperature (K)\": 3450, \"Luminosity(L/Lo)\": 174000.0, \"Radius(R/Ro)\": 1284.0, \"Absolute magnitude(Mv)\": -11.28, \"Star type\": 5, \"Star color\": \"Red\", \"Spectral Class\": \"M\", \"predict_K\": 5, \"predict_l\": 175500.0}, {\"Temperature (K)\": 3752, \"Luminosity(L/Lo)\": 209000.0, \"Radius(R/Ro)\": 955.0, \"Absolute magnitude(Mv)\": -11.24, \"Star type\": 5, \"Star color\": \"Red\", \"Spectral Class\": \"M\", \"predict_K\": 5, \"predict_l\": 170250.0}, {\"Temperature (K)\": 3535, \"Luminosity(L/Lo)\": 195000.0, \"Radius(R/Ro)\": 1546.0, \"Absolute magnitude(Mv)\": -11.36, \"Star type\": 5, \"Star color\": \"Red\", \"Spectral Class\": \"M\", \"predict_K\": 5, \"predict_l\": 185500.0}, {\"Temperature (K)\": 3341, \"Luminosity(L/Lo)\": 0.0056, \"Radius(R/Ro)\": 0.057, \"Absolute magnitude(Mv)\": 16.23, \"Star type\": 0, \"Star color\": \"Red\", \"Spectral Class\": \"M\", \"predict_K\": 0, \"predict_l\": 0.007975}, {\"Temperature (K)\": 3432, \"Luminosity(L/Lo)\": 0.00067, \"Radius(R/Ro)\": 0.19, \"Absolute magnitude(Mv)\": 16.94, \"Star type\": 0, \"Star color\": \"Red\", \"Spectral Class\": \"M\", \"predict_K\": 0, \"predict_l\": 0.010134}, {\"Temperature (K)\": 2983, \"Luminosity(L/Lo)\": 0.00024, \"Radius(R/Ro)\": 0.094, \"Absolute magnitude(Mv)\": 16.09, \"Star type\": 0, \"Star color\": \"Red\", \"Spectral Class\": \"M\", \"predict_K\": 0, \"predict_l\": 0.00415025}, {\"Temperature (K)\": 2835, \"Luminosity(L/Lo)\": 0.00034, \"Radius(R/Ro)\": 0.0918, \"Absolute magnitude(Mv)\": 16.96, \"Star type\": 0, \"Star color\": \"Red\", \"Spectral Class\": \"M\", \"predict_K\": 0, \"predict_l\": 0.00055025}, {\"Temperature (K)\": 2935, \"Luminosity(L/Lo)\": 0.00014, \"Radius(R/Ro)\": 0.116, \"Absolute magnitude(Mv)\": 18.89, \"Star type\": 0, \"Star color\": \"Red\", \"Spectral Class\": \"M\", \"predict_K\": 0, \"predict_l\": 0.00049025}, {\"Temperature (K)\": 3295, \"Luminosity(L/Lo)\": 0.00098, \"Radius(R/Ro)\": 0.132, \"Absolute magnitude(Mv)\": 17.13, \"Star type\": 0, \"Star color\": \"Red\", \"Spectral Class\": \"M\", \"predict_K\": 0, \"predict_l\": 0.0033275}, {\"Temperature (K)\": 2945, \"Luminosity(L/Lo)\": 0.00032, \"Radius(R/Ro)\": 0.093, \"Absolute magnitude(Mv)\": 18.34, \"Star type\": 0, \"Star color\": \"Red\", \"Spectral Class\": \"M\", \"predict_K\": 0, \"predict_l\": 0.00044775}, {\"Temperature (K)\": 2817, \"Luminosity(L/Lo)\": 0.00098, \"Radius(R/Ro)\": 0.0911, \"Absolute magnitude(Mv)\": 16.45, \"Star type\": 0, \"Star color\": \"Red\", \"Spectral Class\": \"M\", \"predict_K\": 0, \"predict_l\": 0.00043775000000000004}, {\"Temperature (K)\": 2774, \"Luminosity(L/Lo)\": 0.00036, \"Radius(R/Ro)\": 0.118, \"Absolute magnitude(Mv)\": 17.39, \"Star type\": 0, \"Star color\": \"Red\", \"Spectral Class\": \"M\", \"predict_K\": 0, \"predict_l\": 0.00080225}, {\"Temperature (K)\": 2871, \"Luminosity(L/Lo)\": 0.00072, \"Radius(R/Ro)\": 0.12, \"Absolute magnitude(Mv)\": 19.43, \"Star type\": 0, \"Star color\": \"Red\", \"Spectral Class\": \"M\", \"predict_K\": 0, \"predict_l\": 0.0005394999999999999}, {\"Temperature (K)\": 3345, \"Luminosity(L/Lo)\": 0.021, \"Radius(R/Ro)\": 0.273, \"Absolute magnitude(Mv)\": 12.3, \"Star type\": 1, \"Star color\": \"Red\", \"Spectral Class\": \"M\", \"predict_K\": 1, \"predict_l\": 0.007975000000000001}, {\"Temperature (K)\": 3607, \"Luminosity(L/Lo)\": 0.022, \"Radius(R/Ro)\": 0.38, \"Absolute magnitude(Mv)\": 10.12, \"Star type\": 1, \"Star color\": \"Red\", \"Spectral Class\": \"M\", \"predict_K\": 1, \"predict_l\": 0.0065575}, {\"Temperature (K)\": 3304, \"Luminosity(L/Lo)\": 0.0085, \"Radius(R/Ro)\": 0.18, \"Absolute magnitude(Mv)\": 13.2, \"Star type\": 1, \"Star color\": \"Red\", \"Spectral Class\": \"M\", \"predict_K\": 1, \"predict_l\": 0.0033275}, {\"Temperature (K)\": 3150, \"Luminosity(L/Lo)\": 0.0088, \"Radius(R/Ro)\": 0.35, \"Absolute magnitude(Mv)\": 11.94, \"Star type\": 1, \"Star color\": \"Red\", \"Spectral Class\": \"M\", \"predict_K\": 1, \"predict_l\": 0.0029050000000000005}, {\"Temperature (K)\": 3550, \"Luminosity(L/Lo)\": 0.004, \"Radius(R/Ro)\": 0.291, \"Absolute magnitude(Mv)\": 10.89, \"Star type\": 1, \"Star color\": \"Red\", \"Spectral Class\": \"M\", \"predict_K\": 1, \"predict_l\": 0.0017825}, {\"Temperature (K)\": 3180, \"Luminosity(L/Lo)\": 0.001, \"Radius(R/Ro)\": 0.35, \"Absolute magnitude(Mv)\": 11.76, \"Star type\": 1, \"Star color\": \"Red\", \"Spectral Class\": \"M\", \"predict_K\": 1, \"predict_l\": 0.0036925}, {\"Temperature (K)\": 2890, \"Luminosity(L/Lo)\": 0.0034, \"Radius(R/Ro)\": 0.24, \"Absolute magnitude(Mv)\": 13.46, \"Star type\": 1, \"Star color\": \"Red\", \"Spectral Class\": \"M\", \"predict_K\": 1, \"predict_l\": 0.00127575}, {\"Temperature (K)\": 3342, \"Luminosity(L/Lo)\": 0.0015, \"Radius(R/Ro)\": 0.307, \"Absolute magnitude(Mv)\": 11.87, \"Star type\": 1, \"Star color\": \"Red\", \"Spectral Class\": \"M\", \"predict_K\": 1, \"predict_l\": 0.007975}, {\"Temperature (K)\": 2621, \"Luminosity(L/Lo)\": 0.0006, \"Radius(R/Ro)\": 0.098, \"Absolute magnitude(Mv)\": 12.81, \"Star type\": 1, \"Star color\": \"Red\", \"Spectral Class\": \"M\", \"predict_K\": 1, \"predict_l\": 0.0005075}, {\"Temperature (K)\": 3158, \"Luminosity(L/Lo)\": 0.00135, \"Radius(R/Ro)\": 0.161, \"Absolute magnitude(Mv)\": 13.98, \"Star type\": 1, \"Star color\": \"Red\", \"Spectral Class\": \"M\", \"predict_K\": 1, \"predict_l\": 0.0029050000000000005}, {\"Temperature (K)\": 7100, \"Luminosity(L/Lo)\": 0.00029, \"Radius(R/Ro)\": 0.012, \"Absolute magnitude(Mv)\": 14.09, \"Star type\": 2, \"Star color\": \"White-Yellow\", \"Spectral Class\": \"F\", \"predict_K\": 2, \"predict_l\": 0.357635}, {\"Temperature (K)\": 10574, \"Luminosity(L/Lo)\": 0.00014, \"Radius(R/Ro)\": 0.0092, \"Absolute magnitude(Mv)\": 12.02, \"Star type\": 2, \"Star color\": \"White\", \"Spectral Class\": \"F\", \"predict_K\": 2, \"predict_l\": 28138.00022}, {\"Temperature (K)\": 8930, \"Luminosity(L/Lo)\": 0.00056, \"Radius(R/Ro)\": 0.0095, \"Absolute magnitude(Mv)\": 13.78, \"Star type\": 2, \"Star color\": \"white\", \"Spectral Class\": \"A\", \"predict_K\": 2, \"predict_l\": 20.75021}, {\"Temperature (K)\": 17200, \"Luminosity(L/Lo)\": 0.00098, \"Radius(R/Ro)\": 0.015, \"Absolute magnitude(Mv)\": 12.45, \"Star type\": 2, \"Star color\": \"Blue White\", \"Spectral Class\": \"B\", \"predict_K\": 2, \"predict_l\": 85945.750595}, {\"Temperature (K)\": 14100, \"Luminosity(L/Lo)\": 0.00067, \"Radius(R/Ro)\": 0.0089, \"Absolute magnitude(Mv)\": 12.17, \"Star type\": 2, \"Star color\": \"Blue White\", \"Spectral Class\": \"B\", \"predict_K\": 2, \"predict_l\": 273.00041749999997}, {\"Temperature (K)\": 9675, \"Luminosity(L/Lo)\": 0.00045, \"Radius(R/Ro)\": 0.0109, \"Absolute magnitude(Mv)\": 13.98, \"Star type\": 2, \"Star color\": \"Blue White\", \"Spectral Class\": \"A\", \"predict_K\": 2, \"predict_l\": 163.7501125}, {\"Temperature (K)\": 12010, \"Luminosity(L/Lo)\": 0.00078, \"Radius(R/Ro)\": 0.0092, \"Absolute magnitude(Mv)\": 12.13, \"Star type\": 2, \"Star color\": \"Blue White\", \"Spectral Class\": \"B\", \"predict_K\": 2, \"predict_l\": 172.25039999999998}, {\"Temperature (K)\": 10980, \"Luminosity(L/Lo)\": 0.00074, \"Radius(R/Ro)\": 0.0087, \"Absolute magnitude(Mv)\": 11.19, \"Star type\": 2, \"Star color\": \"Blue White\", \"Spectral Class\": \"B\", \"predict_K\": 2, \"predict_l\": 28168.00022}, {\"Temperature (K)\": 13720, \"Luminosity(L/Lo)\": 0.00018, \"Radius(R/Ro)\": 0.00892, \"Absolute magnitude(Mv)\": 12.97, \"Star type\": 2, \"Star color\": \"white\", \"Spectral Class\": \"F\", \"predict_K\": 2, \"predict_l\": 273.00036}, {\"Temperature (K)\": 19860, \"Luminosity(L/Lo)\": 0.0011, \"Radius(R/Ro)\": 0.0131, \"Absolute magnitude(Mv)\": 11.34, \"Star type\": 2, \"Star color\": \"Blue \", \"Spectral Class\": \"B\", \"predict_K\": 2, \"predict_l\": 3910.000665}, {\"Temperature (K)\": 5300, \"Luminosity(L/Lo)\": 0.59, \"Radius(R/Ro)\": 0.91, \"Absolute magnitude(Mv)\": 5.49, \"Star type\": 3, \"Star color\": \"yellow-white\", \"Spectral Class\": \"F\", \"predict_K\": 3, \"predict_l\": 0.599}, {\"Temperature (K)\": 4526, \"Luminosity(L/Lo)\": 0.153, \"Radius(R/Ro)\": 0.865, \"Absolute magnitude(Mv)\": 6.506, \"Star type\": 3, \"Star color\": \"yellowish\", \"Spectral Class\": \"K\", \"predict_K\": 3, \"predict_l\": 0.30625}, {\"Temperature (K)\": 4077, \"Luminosity(L/Lo)\": 0.085, \"Radius(R/Ro)\": 0.795, \"Absolute magnitude(Mv)\": 6.228, \"Star type\": 3, \"Star color\": \"yellowish\", \"Spectral Class\": \"K\", \"predict_K\": 3, \"predict_l\": 50000.0604175}, {\"Temperature (K)\": 4980, \"Luminosity(L/Lo)\": 0.357, \"Radius(R/Ro)\": 1.13, \"Absolute magnitude(Mv)\": 4.78, \"Star type\": 3, \"Star color\": \"Yellowish\", \"Spectral Class\": \"K\", \"predict_K\": 3, \"predict_l\": 0.4325}, {\"Temperature (K)\": 9030, \"Luminosity(L/Lo)\": 45.0, \"Radius(R/Ro)\": 2.63, \"Absolute magnitude(Mv)\": 1.45, \"Star type\": 3, \"Star color\": \"Blue-white\", \"Spectral Class\": \"A\", \"predict_K\": 3, \"predict_l\": 20.75021}, {\"Temperature (K)\": 11250, \"Luminosity(L/Lo)\": 672.0, \"Radius(R/Ro)\": 6.98, \"Absolute magnitude(Mv)\": -2.3, \"Star type\": 3, \"Star color\": \"Blue-white\", \"Spectral Class\": \"A\", \"predict_K\": 3, \"predict_l\": 224150.500185}, {\"Temperature (K)\": 5112, \"Luminosity(L/Lo)\": 0.63, \"Radius(R/Ro)\": 0.876, \"Absolute magnitude(Mv)\": 4.68, \"Star type\": 3, \"Star color\": \"Orange-Red\", \"Spectral Class\": \"K\", \"predict_K\": 3, \"predict_l\": 0.599}, {\"Temperature (K)\": 7720, \"Luminosity(L/Lo)\": 7.92, \"Radius(R/Ro)\": 1.34, \"Absolute magnitude(Mv)\": 2.44, \"Star type\": 3, \"Star color\": \"yellow-white\", \"Spectral Class\": \"F\", \"predict_K\": 3, \"predict_l\": 1.980185}, {\"Temperature (K)\": 12098, \"Luminosity(L/Lo)\": 689.0, \"Radius(R/Ro)\": 7.01, \"Absolute magnitude(Mv)\": 0.02, \"Star type\": 3, \"Star color\": \"Blue-white\", \"Spectral Class\": \"A\", \"predict_K\": 3, \"predict_l\": 172.25039999999998}, {\"Temperature (K)\": 36108, \"Luminosity(L/Lo)\": 198000.0, \"Radius(R/Ro)\": 10.2, \"Absolute magnitude(Mv)\": -4.4, \"Star type\": 3, \"Star color\": \"Blue\", \"Spectral Class\": \"O\", \"predict_K\": 3, \"predict_l\": 204775.0}, {\"Temperature (K)\": 33300, \"Luminosity(L/Lo)\": 240000.0, \"Radius(R/Ro)\": 12.0, \"Absolute magnitude(Mv)\": -6.5, \"Star type\": 4, \"Star color\": \"Blue\", \"Spectral Class\": \"B\", \"predict_K\": 3, \"predict_l\": 208000.0}, {\"Temperature (K)\": 40000, \"Luminosity(L/Lo)\": 813000.0, \"Radius(R/Ro)\": 14.0, \"Absolute magnitude(Mv)\": -6.23, \"Star type\": 4, \"Star color\": \"Blue\", \"Spectral Class\": \"O\", \"predict_K\": 4, \"predict_l\": 354475.0}, {\"Temperature (K)\": 23000, \"Luminosity(L/Lo)\": 127000.0, \"Radius(R/Ro)\": 36.0, \"Absolute magnitude(Mv)\": -5.76, \"Star type\": 4, \"Star color\": \"Blue\", \"Spectral Class\": \"O\", \"predict_K\": 4, \"predict_l\": 95935.00033}, {\"Temperature (K)\": 17120, \"Luminosity(L/Lo)\": 235000.0, \"Radius(R/Ro)\": 83.0, \"Absolute magnitude(Mv)\": -6.89, \"Star type\": 4, \"Star color\": \"Blue\", \"Spectral Class\": \"O\", \"predict_K\": 4, \"predict_l\": 206378.25}, {\"Temperature (K)\": 11096, \"Luminosity(L/Lo)\": 112000.0, \"Radius(R/Ro)\": 12.0, \"Absolute magnitude(Mv)\": -5.91, \"Star type\": 4, \"Star color\": \"Blue\", \"Spectral Class\": \"O\", \"predict_K\": 4, \"predict_l\": 224150.500185}, {\"Temperature (K)\": 14245, \"Luminosity(L/Lo)\": 231000.0, \"Radius(R/Ro)\": 42.0, \"Absolute magnitude(Mv)\": -6.12, \"Star type\": 4, \"Star color\": \"Blue\", \"Spectral Class\": \"O\", \"predict_K\": 4, \"predict_l\": 58023.0003725}, {\"Temperature (K)\": 24630, \"Luminosity(L/Lo)\": 363000.0, \"Radius(R/Ro)\": 63.0, \"Absolute magnitude(Mv)\": -5.83, \"Star type\": 4, \"Star color\": \"Blue\", \"Spectral Class\": \"O\", \"predict_K\": 4, \"predict_l\": 243072.5}, {\"Temperature (K)\": 12893, \"Luminosity(L/Lo)\": 184000.0, \"Radius(R/Ro)\": 36.0, \"Absolute magnitude(Mv)\": -6.34, \"Star type\": 4, \"Star color\": \"Blue\", \"Spectral Class\": \"O\", \"predict_K\": 4, \"predict_l\": 46446.5001775}, {\"Temperature (K)\": 24345, \"Luminosity(L/Lo)\": 142000.0, \"Radius(R/Ro)\": 57.0, \"Absolute magnitude(Mv)\": -6.24, \"Star type\": 4, \"Star color\": \"Blue\", \"Spectral Class\": \"O\", \"predict_K\": 4, \"predict_l\": 321680.0}, {\"Temperature (K)\": 33421, \"Luminosity(L/Lo)\": 352000.0, \"Radius(R/Ro)\": 67.0, \"Absolute magnitude(Mv)\": -5.79, \"Star type\": 4, \"Star color\": \"Blue\", \"Spectral Class\": \"O\", \"predict_K\": 4, \"predict_l\": 252550.0}, {\"Temperature (K)\": 3459, \"Luminosity(L/Lo)\": 100000.0, \"Radius(R/Ro)\": 1289.0, \"Absolute magnitude(Mv)\": -10.7, \"Star type\": 5, \"Star color\": \"Red\", \"Spectral Class\": \"M\", \"predict_K\": 5, \"predict_l\": 175500.0}, {\"Temperature (K)\": 3605, \"Luminosity(L/Lo)\": 126000.0, \"Radius(R/Ro)\": 1124.0, \"Absolute magnitude(Mv)\": -10.81, \"Star type\": 5, \"Star color\": \"Red\", \"Spectral Class\": \"M\", \"predict_K\": 5, \"predict_l\": 230250.0}, {\"Temperature (K)\": 3615, \"Luminosity(L/Lo)\": 200000.0, \"Radius(R/Ro)\": 1635.0, \"Absolute magnitude(Mv)\": -11.33, \"Star type\": 5, \"Star color\": \"Red\", \"Spectral Class\": \"M\", \"predict_K\": 5, \"predict_l\": 314500.0}, {\"Temperature (K)\": 3399, \"Luminosity(L/Lo)\": 117000.0, \"Radius(R/Ro)\": 1486.0, \"Absolute magnitude(Mv)\": -10.92, \"Star type\": 5, \"Star color\": \"Red\", \"Spectral Class\": \"M\", \"predict_K\": 5, \"predict_l\": 209750.0}, {\"Temperature (K)\": 3610, \"Luminosity(L/Lo)\": 132000.0, \"Radius(R/Ro)\": 1522.0, \"Absolute magnitude(Mv)\": -10.86, \"Star type\": 5, \"Star color\": \"Red\", \"Spectral Class\": \"M\", \"predict_K\": 5, \"predict_l\": 219750.0}, {\"Temperature (K)\": 3553, \"Luminosity(L/Lo)\": 145000.0, \"Radius(R/Ro)\": 1324.0, \"Absolute magnitude(Mv)\": -11.03, \"Star type\": 5, \"Star color\": \"Red\", \"Spectral Class\": \"M\", \"predict_K\": 5, \"predict_l\": 229500.0}, {\"Temperature (K)\": 4015, \"Luminosity(L/Lo)\": 282000.0, \"Radius(R/Ro)\": 1534.0, \"Absolute magnitude(Mv)\": -11.39, \"Star type\": 5, \"Star color\": \"Red\", \"Spectral Class\": \"K\", \"predict_K\": 5, \"predict_l\": 188500.0}, {\"Temperature (K)\": 3625, \"Luminosity(L/Lo)\": 74000.0, \"Radius(R/Ro)\": 876.0, \"Absolute magnitude(Mv)\": -10.25, \"Star type\": 5, \"Star color\": \"Red\", \"Spectral Class\": \"M\", \"predict_K\": 5, \"predict_l\": 170250.0}, {\"Temperature (K)\": 6850, \"Luminosity(L/Lo)\": 229000.0, \"Radius(R/Ro)\": 1467.0, \"Absolute magnitude(Mv)\": -10.07, \"Star type\": 5, \"Star color\": \"Red\", \"Spectral Class\": \"G\", \"predict_K\": 5, \"predict_l\": 342123.25}, {\"Temperature (K)\": 3780, \"Luminosity(L/Lo)\": 200000.0, \"Radius(R/Ro)\": 1324.0, \"Absolute magnitude(Mv)\": -10.7, \"Star type\": 5, \"Star color\": \"Red\", \"Spectral Class\": \"M\", \"predict_K\": 5, \"predict_l\": 321250.0}, {\"Temperature (K)\": 3323, \"Luminosity(L/Lo)\": 0.00043, \"Radius(R/Ro)\": 0.0912, \"Absolute magnitude(Mv)\": 17.16, \"Star type\": 0, \"Star color\": \"Red\", \"Spectral Class\": \"M\", \"predict_K\": 0, \"predict_l\": 0.0035324999999999996}, {\"Temperature (K)\": 3531, \"Luminosity(L/Lo)\": 0.00093, \"Radius(R/Ro)\": 0.0976, \"Absolute magnitude(Mv)\": 19.94, \"Star type\": 0, \"Star color\": \"Red\", \"Spectral Class\": \"M\", \"predict_K\": 0, \"predict_l\": 0.0021467500000000002}, {\"Temperature (K)\": 3218, \"Luminosity(L/Lo)\": 0.00054, \"Radius(R/Ro)\": 0.11, \"Absolute magnitude(Mv)\": 20.02, \"Star type\": 0, \"Star color\": \"Red\", \"Spectral Class\": \"M\", \"predict_K\": 0, \"predict_l\": 0.000838}, {\"Temperature (K)\": 3146, \"Luminosity(L/Lo)\": 0.00015, \"Radius(R/Ro)\": 0.0932, \"Absolute magnitude(Mv)\": 16.92, \"Star type\": 0, \"Star color\": \"Red\", \"Spectral Class\": \"M\", \"predict_K\": 0, \"predict_l\": 0.0029050000000000005}, {\"Temperature (K)\": 3511, \"Luminosity(L/Lo)\": 0.00064, \"Radius(R/Ro)\": 0.109, \"Absolute magnitude(Mv)\": 17.12, \"Star type\": 0, \"Star color\": \"Red\", \"Spectral Class\": \"M\", \"predict_K\": 0, \"predict_l\": 0.0020617499999999998}, {\"Temperature (K)\": 3225, \"Luminosity(L/Lo)\": 0.00076, \"Radius(R/Ro)\": 0.121, \"Absolute magnitude(Mv)\": 19.63, \"Star type\": 0, \"Star color\": \"Red\", \"Spectral Class\": \"M\", \"predict_K\": 0, \"predict_l\": 0.000838}, {\"Temperature (K)\": 2935, \"Luminosity(L/Lo)\": 0.00087, \"Radius(R/Ro)\": 0.0932, \"Absolute magnitude(Mv)\": 16.88, \"Star type\": 0, \"Star color\": \"Red\", \"Spectral Class\": \"M\", \"predict_K\": 0, \"predict_l\": 0.00049025}, {\"Temperature (K)\": 2861, \"Luminosity(L/Lo)\": 0.00019, \"Radius(R/Ro)\": 0.0899, \"Absolute magnitude(Mv)\": 16.71, \"Star type\": 0, \"Star color\": \"Red\", \"Spectral Class\": \"M\", \"predict_K\": 0, \"predict_l\": 0.000614}, {\"Temperature (K)\": 2856, \"Luminosity(L/Lo)\": 0.000896, \"Radius(R/Ro)\": 0.0782, \"Absolute magnitude(Mv)\": 19.56, \"Star type\": 0, \"Star color\": \"Red\", \"Spectral Class\": \"M\", \"predict_K\": 0, \"predict_l\": 0.000614}, {\"Temperature (K)\": 2731, \"Luminosity(L/Lo)\": 0.000437, \"Radius(R/Ro)\": 0.0856, \"Absolute magnitude(Mv)\": 18.09, \"Star type\": 0, \"Star color\": \"Red\", \"Spectral Class\": \"M\", \"predict_K\": 0, \"predict_l\": 0.0004565}, {\"Temperature (K)\": 3095, \"Luminosity(L/Lo)\": 0.00019, \"Radius(R/Ro)\": 0.492, \"Absolute magnitude(Mv)\": 10.87, \"Star type\": 1, \"Star color\": \"Red\", \"Spectral Class\": \"M\", \"predict_K\": 1, \"predict_l\": 0.0046725}, {\"Temperature (K)\": 3607, \"Luminosity(L/Lo)\": 0.00023, \"Radius(R/Ro)\": 0.38, \"Absolute magnitude(Mv)\": 10.34, \"Star type\": 1, \"Star color\": \"Red\", \"Spectral Class\": \"M\", \"predict_K\": 1, \"predict_l\": 0.0065575}, {\"Temperature (K)\": 3100, \"Luminosity(L/Lo)\": 0.008, \"Radius(R/Ro)\": 0.31, \"Absolute magnitude(Mv)\": 11.17, \"Star type\": 1, \"Star color\": \"Red\", \"Spectral Class\": \"M\", \"predict_K\": 1, \"predict_l\": 0.0071225}, {\"Temperature (K)\": 2989, \"Luminosity(L/Lo)\": 0.0087, \"Radius(R/Ro)\": 0.34, \"Absolute magnitude(Mv)\": 13.12, \"Star type\": 1, \"Star color\": \"Red\", \"Spectral Class\": \"M\", \"predict_K\": 1, \"predict_l\": 0.004150249999999999}, {\"Temperature (K)\": 3542, \"Luminosity(L/Lo)\": 0.0009, \"Radius(R/Ro)\": 0.62, \"Absolute magnitude(Mv)\": 14.23, \"Star type\": 1, \"Star color\": \"Red\", \"Spectral Class\": \"M\", \"predict_K\": 1, \"predict_l\": 0.0017825}, {\"Temperature (K)\": 3243, \"Luminosity(L/Lo)\": 0.0023, \"Radius(R/Ro)\": 0.73, \"Absolute magnitude(Mv)\": 14.75, \"Star type\": 1, \"Star color\": \"Red\", \"Spectral Class\": \"M\", \"predict_K\": 1, \"predict_l\": 0.0014999999999999998}, {\"Temperature (K)\": 3091, \"Luminosity(L/Lo)\": 0.0081, \"Radius(R/Ro)\": 0.24, \"Absolute magnitude(Mv)\": 11.43, \"Star type\": 1, \"Star color\": \"Red\", \"Spectral Class\": \"M\", \"predict_K\": 1, \"predict_l\": 0.0046725}, {\"Temperature (K)\": 3598, \"Luminosity(L/Lo)\": 0.0011, \"Radius(R/Ro)\": 0.56, \"Absolute magnitude(Mv)\": 14.26, \"Star type\": 1, \"Star color\": \"Red\", \"Spectral Class\": \"M\", \"predict_K\": 1, \"predict_l\": 0.007175}, {\"Temperature (K)\": 3324, \"Luminosity(L/Lo)\": 0.0034, \"Radius(R/Ro)\": 0.34, \"Absolute magnitude(Mv)\": 12.23, \"Star type\": 1, \"Star color\": \"Red\", \"Spectral Class\": \"M\", \"predict_K\": 1, \"predict_l\": 0.0035324999999999996}, {\"Temperature (K)\": 3541, \"Luminosity(L/Lo)\": 0.0013, \"Radius(R/Ro)\": 0.256, \"Absolute magnitude(Mv)\": 14.33, \"Star type\": 1, \"Star color\": \"Red\", \"Spectral Class\": \"M\", \"predict_K\": 1, \"predict_l\": 0.0017825}, {\"Temperature (K)\": 13420, \"Luminosity(L/Lo)\": 0.00059, \"Radius(R/Ro)\": 0.00981, \"Absolute magnitude(Mv)\": 13.67, \"Star type\": 2, \"Star color\": \"Blue White\", \"Spectral Class\": \"B\", \"predict_K\": 2, \"predict_l\": 197.000465}, {\"Temperature (K)\": 21020, \"Luminosity(L/Lo)\": 0.0015, \"Radius(R/Ro)\": 0.0112, \"Absolute magnitude(Mv)\": 11.52, \"Star type\": 2, \"Star color\": \"Blue\", \"Spectral Class\": \"B\", \"predict_K\": 2, \"predict_l\": 2867.0007650000002}, {\"Temperature (K)\": 18290, \"Luminosity(L/Lo)\": 0.0013, \"Radius(R/Ro)\": 0.00934, \"Absolute magnitude(Mv)\": 12.78, \"Star type\": 2, \"Star color\": \"Blue\", \"Spectral Class\": \"B\", \"predict_K\": 2, \"predict_l\": 56195.0009375}, {\"Temperature (K)\": 14520, \"Luminosity(L/Lo)\": 0.00082, \"Radius(R/Ro)\": 0.00972, \"Absolute magnitude(Mv)\": 11.92, \"Star type\": 2, \"Star color\": \"Blue White\", \"Spectral Class\": \"B\", \"predict_K\": 2, \"predict_l\": 0.000695}, {\"Temperature (K)\": 11900, \"Luminosity(L/Lo)\": 0.00067, \"Radius(R/Ro)\": 0.00898, \"Absolute magnitude(Mv)\": 11.38, \"Star type\": 2, \"Star color\": \"Blue white \", \"Spectral Class\": \"B\", \"predict_K\": 2, \"predict_l\": 172.2504}, {\"Temperature (K)\": 8924, \"Luminosity(L/Lo)\": 0.00028, \"Radius(R/Ro)\": 0.00879, \"Absolute magnitude(Mv)\": 14.87, \"Star type\": 2, \"Star color\": \"Blue white\", \"Spectral Class\": \"A\", \"predict_K\": 2, \"predict_l\": 20.75021}, {\"Temperature (K)\": 12912, \"Luminosity(L/Lo)\": 0.00071, \"Radius(R/Ro)\": 0.00945, \"Absolute magnitude(Mv)\": 12.83, \"Star type\": 2, \"Star color\": \"Blue white\", \"Spectral Class\": \"B\", \"predict_K\": 2, \"predict_l\": 249.50041875}, {\"Temperature (K)\": 14732, \"Luminosity(L/Lo)\": 0.00011, \"Radius(R/Ro)\": 0.00892, \"Absolute magnitude(Mv)\": 12.89, \"Star type\": 2, \"Star color\": \"white\", \"Spectral Class\": \"F\", \"predict_K\": 2, \"predict_l\": 284.0005275}, {\"Temperature (K)\": 7723, \"Luminosity(L/Lo)\": 0.00014, \"Radius(R/Ro)\": 0.00878, \"Absolute magnitude(Mv)\": 14.81, \"Star type\": 2, \"Star color\": \"White\", \"Spectral Class\": \"A\", \"predict_K\": 2, \"predict_l\": 1.980185}, {\"Temperature (K)\": 12984, \"Luminosity(L/Lo)\": 0.00088, \"Radius(R/Ro)\": 0.00996, \"Absolute magnitude(Mv)\": 11.23, \"Star type\": 2, \"Star color\": \"Blue White\", \"Spectral Class\": \"B\", \"predict_K\": 2, \"predict_l\": 249.50041875}, {\"Temperature (K)\": 29560, \"Luminosity(L/Lo)\": 188000.0, \"Radius(R/Ro)\": 6.02, \"Absolute magnitude(Mv)\": -4.01, \"Star type\": 3, \"Star color\": \"Blue-white\", \"Spectral Class\": \"B\", \"predict_K\": 4, \"predict_l\": 101857.5}, {\"Temperature (K)\": 8945, \"Luminosity(L/Lo)\": 38.0, \"Radius(R/Ro)\": 2.487, \"Absolute magnitude(Mv)\": 0.12, \"Star type\": 3, \"Star color\": \"Blue-White\", \"Spectral Class\": \"A\", \"predict_K\": 3, \"predict_l\": 20.75021}, {\"Temperature (K)\": 14060, \"Luminosity(L/Lo)\": 1092.0, \"Radius(R/Ro)\": 5.745, \"Absolute magnitude(Mv)\": -2.04, \"Star type\": 3, \"Star color\": \"Blue-white\", \"Spectral Class\": \"A\", \"predict_K\": 3, \"predict_l\": 273.00041749999997}, {\"Temperature (K)\": 16390, \"Luminosity(L/Lo)\": 1278.0, \"Radius(R/Ro)\": 5.68, \"Absolute magnitude(Mv)\": -3.32, \"Star type\": 3, \"Star color\": \"Blue-white\", \"Spectral Class\": \"B\", \"predict_K\": 3, \"predict_l\": 319.50390500000003}, {\"Temperature (K)\": 25070, \"Luminosity(L/Lo)\": 14500.0, \"Radius(R/Ro)\": 5.92, \"Absolute magnitude(Mv)\": -3.98, \"Star type\": 3, \"Star color\": \"Blue-white\", \"Spectral Class\": \"B\", \"predict_K\": 3, \"predict_l\": 59375.0143975}, {\"Temperature (K)\": 28700, \"Luminosity(L/Lo)\": 16790.0, \"Radius(R/Ro)\": 6.4, \"Absolute magnitude(Mv)\": -4.09, \"Star type\": 3, \"Star color\": \"Blue-white\", \"Spectral Class\": \"B\", \"predict_K\": 3, \"predict_l\": 107907.5}, {\"Temperature (K)\": 26140, \"Luminosity(L/Lo)\": 14520.0, \"Radius(R/Ro)\": 5.49, \"Absolute magnitude(Mv)\": -3.8, \"Star type\": 3, \"Star color\": \"Blue-white\", \"Spectral Class\": \"B\", \"predict_K\": 3, \"predict_l\": 56755.014}, {\"Temperature (K)\": 20120, \"Luminosity(L/Lo)\": 4720.0, \"Radius(R/Ro)\": 6.78, \"Absolute magnitude(Mv)\": -3.4, \"Star type\": 3, \"Star color\": \"Blue-white\", \"Spectral Class\": \"B\", \"predict_K\": 3, \"predict_l\": 3910.000665}, {\"Temperature (K)\": 13023, \"Luminosity(L/Lo)\": 998.0, \"Radius(R/Ro)\": 6.21, \"Absolute magnitude(Mv)\": -1.38, \"Star type\": 3, \"Star color\": \"Blue-white\", \"Spectral Class\": \"A\", \"predict_K\": 3, \"predict_l\": 446.50024125}, {\"Temperature (K)\": 37800, \"Luminosity(L/Lo)\": 202900.0, \"Radius(R/Ro)\": 6.86, \"Absolute magnitude(Mv)\": -4.56, \"Star type\": 3, \"Star color\": \"Blue\", \"Spectral Class\": \"O\", \"predict_K\": 3, \"predict_l\": 354475.0}, {\"Temperature (K)\": 25390, \"Luminosity(L/Lo)\": 223000.0, \"Radius(R/Ro)\": 57.0, \"Absolute magnitude(Mv)\": -5.92, \"Star type\": 4, \"Star color\": \"Blue\", \"Spectral Class\": \"O\", \"predict_K\": 4, \"predict_l\": 199625.0}, {\"Temperature (K)\": 11567, \"Luminosity(L/Lo)\": 251000.0, \"Radius(R/Ro)\": 36.0, \"Absolute magnitude(Mv)\": -6.245, \"Star type\": 4, \"Star color\": \"Blue\", \"Spectral Class\": \"O\", \"predict_K\": 4, \"predict_l\": 286900.5}, {\"Temperature (K)\": 12675, \"Luminosity(L/Lo)\": 452000.0, \"Radius(R/Ro)\": 83.0, \"Absolute magnitude(Mv)\": -5.62, \"Star type\": 4, \"Star color\": \"Blue\", \"Spectral Class\": \"O\", \"predict_K\": 4, \"predict_l\": 304880.0}, {\"Temperature (K)\": 5752, \"Luminosity(L/Lo)\": 245000.0, \"Radius(R/Ro)\": 97.0, \"Absolute magnitude(Mv)\": -6.63, \"Star type\": 4, \"Star color\": \"Blue\", \"Spectral Class\": \"O\", \"predict_K\": 4, \"predict_l\": 61250.746499999994}, {\"Temperature (K)\": 8927, \"Luminosity(L/Lo)\": 239000.0, \"Radius(R/Ro)\": 35.0, \"Absolute magnitude(Mv)\": -7.34, \"Star type\": 4, \"Star color\": \"Blue\", \"Spectral Class\": \"O\", \"predict_K\": 4, \"predict_l\": 165900.75}, {\"Temperature (K)\": 7282, \"Luminosity(L/Lo)\": 131000.0, \"Radius(R/Ro)\": 24.0, \"Absolute magnitude(Mv)\": -7.22, \"Star type\": 4, \"Star color\": \"Blue\", \"Spectral Class\": \"O\", \"predict_K\": 4, \"predict_l\": 32750.000135}, {\"Temperature (K)\": 19923, \"Luminosity(L/Lo)\": 152000.0, \"Radius(R/Ro)\": 73.0, \"Absolute magnitude(Mv)\": -5.69, \"Star type\": 4, \"Star color\": \"Blue\", \"Spectral Class\": \"O\", \"predict_K\": 4, \"predict_l\": 98105.0}, {\"Temperature (K)\": 26373, \"Luminosity(L/Lo)\": 198000.0, \"Radius(R/Ro)\": 39.0, \"Absolute magnitude(Mv)\": -5.83, \"Star type\": 4, \"Star color\": \"Blue\", \"Spectral Class\": \"O\", \"predict_K\": 4, \"predict_l\": 112505.0}, {\"Temperature (K)\": 17383, \"Luminosity(L/Lo)\": 342900.0, \"Radius(R/Ro)\": 30.0, \"Absolute magnitude(Mv)\": -6.09, \"Star type\": 4, \"Star color\": \"Blue\", \"Spectral Class\": \"O\", \"predict_K\": 4, \"predict_l\": 85945.7505225}, {\"Temperature (K)\": 9373, \"Luminosity(L/Lo)\": 424520.0, \"Radius(R/Ro)\": 24.0, \"Absolute magnitude(Mv)\": -5.99, \"Star type\": 4, \"Star color\": \"Blue\", \"Spectral Class\": \"O\", \"predict_K\": 4, \"predict_l\": 165905.75}, {\"Temperature (K)\": 3570, \"Luminosity(L/Lo)\": 320000.0, \"Radius(R/Ro)\": 1480.0, \"Absolute magnitude(Mv)\": -7.58, \"Star type\": 5, \"Star color\": \"Red\", \"Spectral Class\": \"M\", \"predict_K\": 5, \"predict_l\": 209750.0}, {\"Temperature (K)\": 3500, \"Luminosity(L/Lo)\": 138000.0, \"Radius(R/Ro)\": 1420.0, \"Absolute magnitude(Mv)\": -8.18, \"Star type\": 5, \"Star color\": \"Red\", \"Spectral Class\": \"M\", \"predict_K\": 5, \"predict_l\": 209500.0}, {\"Temperature (K)\": 4287, \"Luminosity(L/Lo)\": 630000.0, \"Radius(R/Ro)\": 1315.0, \"Absolute magnitude(Mv)\": -9.2, \"Star type\": 5, \"Star color\": \"Orange\", \"Spectral Class\": \"K\", \"predict_K\": 5, \"predict_l\": 321250.0}, {\"Temperature (K)\": 26000, \"Luminosity(L/Lo)\": 316000.0, \"Radius(R/Ro)\": 1679.0, \"Absolute magnitude(Mv)\": -9.1, \"Star type\": 5, \"Star color\": \"Blue\", \"Spectral Class\": \"B\", \"predict_K\": 5, \"predict_l\": 549210.75}, {\"Temperature (K)\": 3600, \"Luminosity(L/Lo)\": 240000.0, \"Radius(R/Ro)\": 1190.0, \"Absolute magnitude(Mv)\": -7.89, \"Star type\": 5, \"Star color\": \"Red\", \"Spectral Class\": \"M\", \"predict_K\": 5, \"predict_l\": 230250.0}, {\"Temperature (K)\": 3614, \"Luminosity(L/Lo)\": 145000.0, \"Radius(R/Ro)\": 1553.0, \"Absolute magnitude(Mv)\": -7.71, \"Star type\": 5, \"Star color\": \"Red\", \"Spectral Class\": \"M\", \"predict_K\": 5, \"predict_l\": 188500.0}, {\"Temperature (K)\": 18000, \"Luminosity(L/Lo)\": 200000.0, \"Radius(R/Ro)\": 1045.0, \"Absolute magnitude(Mv)\": -8.3, \"Star type\": 5, \"Star color\": \"Blue\", \"Spectral Class\": \"O\", \"predict_K\": 5, \"predict_l\": 329245.0}, {\"Temperature (K)\": 11000, \"Luminosity(L/Lo)\": 170000.0, \"Radius(R/Ro)\": 1779.0, \"Absolute magnitude(Mv)\": -9.9, \"Star type\": 5, \"Star color\": \"Blue-white\", \"Spectral Class\": \"B\", \"predict_K\": 5, \"predict_l\": 324873.25}, {\"Temperature (K)\": 12100, \"Luminosity(L/Lo)\": 120000.0, \"Radius(R/Ro)\": 708.9, \"Absolute magnitude(Mv)\": -7.84, \"Star type\": 5, \"Star color\": \"Blue-white\", \"Spectral Class\": \"B\", \"predict_K\": 5, \"predict_l\": 199735.0}, {\"Temperature (K)\": 24490, \"Luminosity(L/Lo)\": 248490.0, \"Radius(R/Ro)\": 1134.5, \"Absolute magnitude(Mv)\": -8.24, \"Star type\": 5, \"Star color\": \"Blue-white\", \"Spectral Class\": \"B\", \"predict_K\": 5, \"predict_l\": 670110.5}, {\"Temperature (K)\": 2831, \"Luminosity(L/Lo)\": 0.000231, \"Radius(R/Ro)\": 0.0915, \"Absolute magnitude(Mv)\": 16.21, \"Star type\": 0, \"Star color\": \"Red\", \"Spectral Class\": \"M\", \"predict_K\": 0, \"predict_l\": 0.00055025}, {\"Temperature (K)\": 2914, \"Luminosity(L/Lo)\": 0.000631, \"Radius(R/Ro)\": 0.116, \"Absolute magnitude(Mv)\": 18.39, \"Star type\": 0, \"Star color\": \"Red\", \"Spectral Class\": \"M\", \"predict_K\": 0, \"predict_l\": 0.00126025}, {\"Temperature (K)\": 3419, \"Luminosity(L/Lo)\": 0.000245, \"Radius(R/Ro)\": 0.126, \"Absolute magnitude(Mv)\": 17.56, \"Star type\": 0, \"Star color\": \"Red\", \"Spectral Class\": \"M\", \"predict_K\": 0, \"predict_l\": 0.010134}, {\"Temperature (K)\": 3218, \"Luminosity(L/Lo)\": 0.000452, \"Radius(R/Ro)\": 0.0987, \"Absolute magnitude(Mv)\": 17.34, \"Star type\": 0, \"Star color\": \"Red\", \"Spectral Class\": \"M\", \"predict_K\": 0, \"predict_l\": 0.000838}, {\"Temperature (K)\": 3453, \"Luminosity(L/Lo)\": 0.000621, \"Radius(R/Ro)\": 0.0773, \"Absolute magnitude(Mv)\": 17.08, \"Star type\": 0, \"Star color\": \"Red\", \"Spectral Class\": \"M\", \"predict_K\": 0, \"predict_l\": 0.011905250000000001}, {\"Temperature (K)\": 2889, \"Luminosity(L/Lo)\": 0.000352, \"Radius(R/Ro)\": 0.0973, \"Absolute magnitude(Mv)\": 16.93, \"Star type\": 0, \"Star color\": \"Red\", \"Spectral Class\": \"M\", \"predict_K\": 0, \"predict_l\": 0.00127575}, {\"Temperature (K)\": 2968, \"Luminosity(L/Lo)\": 0.000461, \"Radius(R/Ro)\": 0.119, \"Absolute magnitude(Mv)\": 17.45, \"Star type\": 0, \"Star color\": \"Red\", \"Spectral Class\": \"M\", \"predict_K\": 0, \"predict_l\": 0.00243025}, {\"Temperature (K)\": 3484, \"Luminosity(L/Lo)\": 0.000551, \"Radius(R/Ro)\": 0.0998, \"Absolute magnitude(Mv)\": 16.67, \"Star type\": 0, \"Star color\": \"Red\", \"Spectral Class\": \"M\", \"predict_K\": 0, \"predict_l\": 0.00245025}, {\"Temperature (K)\": 2778, \"Luminosity(L/Lo)\": 0.000849, \"Radius(R/Ro)\": 0.112, \"Absolute magnitude(Mv)\": 19.45, \"Star type\": 0, \"Star color\": \"Red\", \"Spectral Class\": \"M\", \"predict_K\": 0, \"predict_l\": 0.00080225}, {\"Temperature (K)\": 3523, \"Luminosity(L/Lo)\": 0.000957, \"Radius(R/Ro)\": 0.129, \"Absolute magnitude(Mv)\": 16.35, \"Star type\": 0, \"Star color\": \"Red\", \"Spectral Class\": \"M\", \"predict_K\": 0, \"predict_l\": 0.00198175}, {\"Temperature (K)\": 3462, \"Luminosity(L/Lo)\": 0.0053, \"Radius(R/Ro)\": 0.148, \"Absolute magnitude(Mv)\": 11.47, \"Star type\": 1, \"Star color\": \"Red\", \"Spectral Class\": \"M\", \"predict_K\": 1, \"predict_l\": 0.01190525}, {\"Temperature (K)\": 3257, \"Luminosity(L/Lo)\": 0.0024, \"Radius(R/Ro)\": 0.46, \"Absolute magnitude(Mv)\": 10.73, \"Star type\": 1, \"Star color\": \"Red\", \"Spectral Class\": \"M\", \"predict_K\": 1, \"predict_l\": 0.0016099999999999999}, {\"Temperature (K)\": 2994, \"Luminosity(L/Lo)\": 0.0072, \"Radius(R/Ro)\": 0.28, \"Absolute magnitude(Mv)\": 13.45, \"Star type\": 1, \"Star color\": \"Red\", \"Spectral Class\": \"M\", \"predict_K\": 1, \"predict_l\": 0.004150249999999999}, {\"Temperature (K)\": 3212, \"Luminosity(L/Lo)\": 0.0016, \"Radius(R/Ro)\": 0.378, \"Absolute magnitude(Mv)\": 12.854, \"Star type\": 1, \"Star color\": \"Red\", \"Spectral Class\": \"M\", \"predict_K\": 1, \"predict_l\": 0.000838}, {\"Temperature (K)\": 3523, \"Luminosity(L/Lo)\": 0.0054, \"Radius(R/Ro)\": 0.319, \"Absolute magnitude(Mv)\": 12.43, \"Star type\": 1, \"Star color\": \"Red\", \"Spectral Class\": \"M\", \"predict_K\": 1, \"predict_l\": 0.00198175}, {\"Temperature (K)\": 3598, \"Luminosity(L/Lo)\": 0.0027, \"Radius(R/Ro)\": 0.67, \"Absolute magnitude(Mv)\": 13.667, \"Star type\": 1, \"Star color\": \"Red\", \"Spectral Class\": \"M\", \"predict_K\": 1, \"predict_l\": 0.007175}, {\"Temperature (K)\": 3142, \"Luminosity(L/Lo)\": 0.00132, \"Radius(R/Ro)\": 0.258, \"Absolute magnitude(Mv)\": 14.12, \"Star type\": 1, \"Star color\": \"Red\", \"Spectral Class\": \"M\", \"predict_K\": 1, \"predict_l\": 0.0026675}, {\"Temperature (K)\": 3496, \"Luminosity(L/Lo)\": 0.00125, \"Radius(R/Ro)\": 0.336, \"Absolute magnitude(Mv)\": 14.94, \"Star type\": 1, \"Star color\": \"Red\", \"Spectral Class\": \"M\", \"predict_K\": 1, \"predict_l\": 0.00196025}, {\"Temperature (K)\": 3324, \"Luminosity(L/Lo)\": 0.0065, \"Radius(R/Ro)\": 0.471, \"Absolute magnitude(Mv)\": 12.78, \"Star type\": 1, \"Star color\": \"Red\", \"Spectral Class\": \"M\", \"predict_K\": 1, \"predict_l\": 0.0035324999999999996}, {\"Temperature (K)\": 3463, \"Luminosity(L/Lo)\": 0.0027, \"Radius(R/Ro)\": 0.675, \"Absolute magnitude(Mv)\": 14.776, \"Star type\": 1, \"Star color\": \"Red\", \"Spectral Class\": \"M\", \"predict_K\": 1, \"predict_l\": 0.01190525}, {\"Temperature (K)\": 16790, \"Luminosity(L/Lo)\": 0.0014, \"Radius(R/Ro)\": 0.0121, \"Absolute magnitude(Mv)\": 12.87, \"Star type\": 2, \"Star color\": \"Blue\", \"Spectral Class\": \"B\", \"predict_K\": 2, \"predict_l\": 220.753845}, {\"Temperature (K)\": 15680, \"Luminosity(L/Lo)\": 0.00122, \"Radius(R/Ro)\": 0.0114, \"Absolute magnitude(Mv)\": 11.92, \"Star type\": 2, \"Star color\": \"Blue\", \"Spectral Class\": \"B\", \"predict_K\": 2, \"predict_l\": 603.5006000000001}, {\"Temperature (K)\": 14982, \"Luminosity(L/Lo)\": 0.00118, \"Radius(R/Ro)\": 0.0113, \"Absolute magnitude(Mv)\": 12.23, \"Star type\": 2, \"Star color\": \"Blue\", \"Spectral Class\": \"B\", \"predict_K\": 2, \"predict_l\": 284.0005275}, {\"Temperature (K)\": 13340, \"Luminosity(L/Lo)\": 0.00109, \"Radius(R/Ro)\": 0.0116, \"Absolute magnitude(Mv)\": 12.9, \"Star type\": 2, \"Star color\": \"Blue\", \"Spectral Class\": \"B\", \"predict_K\": 2, \"predict_l\": 446.50041999999996}, {\"Temperature (K)\": 18340, \"Luminosity(L/Lo)\": 0.00134, \"Radius(R/Ro)\": 0.0124, \"Absolute magnitude(Mv)\": 11.22, \"Star type\": 2, \"Star color\": \"Blue\", \"Spectral Class\": \"B\", \"predict_K\": 2, \"predict_l\": 56195.0009375}, {\"Temperature (K)\": 19920, \"Luminosity(L/Lo)\": 0.00156, \"Radius(R/Ro)\": 0.0142, \"Absolute magnitude(Mv)\": 11.34, \"Star type\": 2, \"Star color\": \"Blue\", \"Spectral Class\": \"B\", \"predict_K\": 2, \"predict_l\": 3910.000665}, {\"Temperature (K)\": 24020, \"Luminosity(L/Lo)\": 0.00159, \"Radius(R/Ro)\": 0.0127, \"Absolute magnitude(Mv)\": 10.55, \"Star type\": 2, \"Star color\": \"Blue\", \"Spectral Class\": \"B\", \"predict_K\": 2, \"predict_l\": 61072.514727500005}, {\"Temperature (K)\": 23092, \"Luminosity(L/Lo)\": 0.00132, \"Radius(R/Ro)\": 0.0104, \"Absolute magnitude(Mv)\": 10.18, \"Star type\": 2, \"Star color\": \"Blue\", \"Spectral Class\": \"B\", \"predict_K\": 2, \"predict_l\": 95935.00033}, {\"Temperature (K)\": 17920, \"Luminosity(L/Lo)\": 0.00111, \"Radius(R/Ro)\": 0.0106, \"Absolute magnitude(Mv)\": 11.66, \"Star type\": 2, \"Star color\": \"Blue\", \"Spectral Class\": \"B\", \"predict_K\": 2, \"predict_l\": 0.0011825}, {\"Temperature (K)\": 19360, \"Luminosity(L/Lo)\": 0.00125, \"Radius(R/Ro)\": 0.00998, \"Absolute magnitude(Mv)\": 11.62, \"Star type\": 2, \"Star color\": \"Blue\", \"Spectral Class\": \"B\", \"predict_K\": 2, \"predict_l\": 2730.0009775}, {\"Temperature (K)\": 22350, \"Luminosity(L/Lo)\": 12450.0, \"Radius(R/Ro)\": 6.36, \"Absolute magnitude(Mv)\": -3.67, \"Star type\": 3, \"Star color\": \"Blue-white\", \"Spectral Class\": \"B\", \"predict_K\": 3, \"predict_l\": 36549.50033}, {\"Temperature (K)\": 10012, \"Luminosity(L/Lo)\": 552.0, \"Radius(R/Ro)\": 5.856, \"Absolute magnitude(Mv)\": 0.013, \"Star type\": 3, \"Star color\": \"Blue-white\", \"Spectral Class\": \"A\", \"predict_K\": 3, \"predict_l\": 156.5001475}, {\"Temperature (K)\": 13089, \"Luminosity(L/Lo)\": 788.0, \"Radius(R/Ro)\": 5.992, \"Absolute magnitude(Mv)\": -0.12, \"Star type\": 3, \"Star color\": \"Blue-white\", \"Spectral Class\": \"A\", \"predict_K\": 3, \"predict_l\": 446.50024125}, {\"Temperature (K)\": 22012, \"Luminosity(L/Lo)\": 6748.0, \"Radius(R/Ro)\": 6.64, \"Absolute magnitude(Mv)\": -2.55, \"Star type\": 3, \"Star color\": \"Blue-white\", \"Spectral Class\": \"B\", \"predict_K\": 3, \"predict_l\": 4799.5007049999995}, {\"Temperature (K)\": 34190, \"Luminosity(L/Lo)\": 198200.0, \"Radius(R/Ro)\": 6.39, \"Absolute magnitude(Mv)\": -4.57, \"Star type\": 3, \"Star color\": \"Blue\", \"Spectral Class\": \"O\", \"predict_K\": 3, \"predict_l\": 252550.0}, {\"Temperature (K)\": 32460, \"Luminosity(L/Lo)\": 173800.0, \"Radius(R/Ro)\": 6.237, \"Absolute magnitude(Mv)\": -4.36, \"Star type\": 3, \"Star color\": \"Blue\", \"Spectral Class\": \"O\", \"predict_K\": 3, \"predict_l\": 246450.0}, {\"Temperature (K)\": 9320, \"Luminosity(L/Lo)\": 29.0, \"Radius(R/Ro)\": 1.91, \"Absolute magnitude(Mv)\": 1.236, \"Star type\": 3, \"Star color\": \"Blue-white\", \"Spectral Class\": \"A\", \"predict_K\": 3, \"predict_l\": 28.0001125}, {\"Temperature (K)\": 19400, \"Luminosity(L/Lo)\": 10920.0, \"Radius(R/Ro)\": 6.03, \"Absolute magnitude(Mv)\": -3.08, \"Star type\": 3, \"Star color\": \"Blue-white\", \"Spectral Class\": \"B\", \"predict_K\": 3, \"predict_l\": 2730.0009775}, {\"Temperature (K)\": 17140, \"Luminosity(L/Lo)\": 883.0, \"Radius(R/Ro)\": 5.653, \"Absolute magnitude(Mv)\": -2.64, \"Star type\": 3, \"Star color\": \"Blue-white\", \"Spectral Class\": \"B\", \"predict_K\": 3, \"predict_l\": 85945.750595}, {\"Temperature (K)\": 8250, \"Luminosity(L/Lo)\": 9.25, \"Radius(R/Ro)\": 1.93, \"Absolute magnitude(Mv)\": -0.98, \"Star type\": 3, \"Star color\": \"yellow-white\", \"Spectral Class\": \"F\", \"predict_K\": 3, \"predict_l\": 4.4878275}, {\"Temperature (K)\": 23678, \"Luminosity(L/Lo)\": 244290.0, \"Radius(R/Ro)\": 35.0, \"Absolute magnitude(Mv)\": -6.27, \"Star type\": 4, \"Star color\": \"Blue\", \"Spectral Class\": \"O\", \"predict_K\": 4, \"predict_l\": 128322.5003975}, {\"Temperature (K)\": 12749, \"Luminosity(L/Lo)\": 332520.0, \"Radius(R/Ro)\": 76.0, \"Absolute magnitude(Mv)\": -7.02, \"Star type\": 4, \"Star color\": \"Blue\", \"Spectral Class\": \"O\", \"predict_K\": 4, \"predict_l\": 242379.5}, {\"Temperature (K)\": 9383, \"Luminosity(L/Lo)\": 342940.0, \"Radius(R/Ro)\": 98.0, \"Absolute magnitude(Mv)\": -6.98, \"Star type\": 4, \"Star color\": \"Blue\", \"Spectral Class\": \"O\", \"predict_K\": 4, \"predict_l\": 400090.0}, {\"Temperature (K)\": 23440, \"Luminosity(L/Lo)\": 537430.0, \"Radius(R/Ro)\": 81.0, \"Absolute magnitude(Mv)\": -5.975, \"Star type\": 4, \"Star color\": \"Blue\", \"Spectral Class\": \"O\", \"predict_K\": 4, \"predict_l\": 314135.0}, {\"Temperature (K)\": 16787, \"Luminosity(L/Lo)\": 246730.0, \"Radius(R/Ro)\": 62.0, \"Absolute magnitude(Mv)\": -6.35, \"Star type\": 4, \"Star color\": \"Blue\", \"Spectral Class\": \"O\", \"predict_K\": 4, \"predict_l\": 206378.25}, {\"Temperature (K)\": 18734, \"Luminosity(L/Lo)\": 224780.0, \"Radius(R/Ro)\": 46.0, \"Absolute magnitude(Mv)\": -7.45, \"Star type\": 4, \"Star color\": \"Blue\", \"Spectral Class\": \"O\", \"predict_K\": 4, \"predict_l\": 58925.00066}, {\"Temperature (K)\": 9892, \"Luminosity(L/Lo)\": 593900.0, \"Radius(R/Ro)\": 80.0, \"Absolute magnitude(Mv)\": -7.262, \"Star type\": 4, \"Star color\": \"Blue\", \"Spectral Class\": \"O\", \"predict_K\": 4, \"predict_l\": 400090.0}, {\"Temperature (K)\": 10930, \"Luminosity(L/Lo)\": 783930.0, \"Radius(R/Ro)\": 25.0, \"Absolute magnitude(Mv)\": -6.224, \"Star type\": 4, \"Star color\": \"Blue\", \"Spectral Class\": \"O\", \"predict_K\": 4, \"predict_l\": 224150.500185}, {\"Temperature (K)\": 23095, \"Luminosity(L/Lo)\": 347820.0, \"Radius(R/Ro)\": 86.0, \"Absolute magnitude(Mv)\": -5.905, \"Star type\": 4, \"Star color\": \"Blue\", \"Spectral Class\": \"O\", \"predict_K\": 4, \"predict_l\": 314135.0}, {\"Temperature (K)\": 21738, \"Luminosity(L/Lo)\": 748890.0, \"Radius(R/Ro)\": 92.0, \"Absolute magnitude(Mv)\": -7.346, \"Star type\": 4, \"Star color\": \"Blue\", \"Spectral Class\": \"O\", \"predict_K\": 4, \"predict_l\": 307614.5}, {\"Temperature (K)\": 24145, \"Luminosity(L/Lo)\": 382993.0, \"Radius(R/Ro)\": 1494.0, \"Absolute magnitude(Mv)\": -8.84, \"Star type\": 5, \"Star color\": \"Blue-white\", \"Spectral Class\": \"B\", \"predict_K\": 5, \"predict_l\": 449225.75}, {\"Temperature (K)\": 38234, \"Luminosity(L/Lo)\": 272830.0, \"Radius(R/Ro)\": 1356.0, \"Absolute magnitude(Mv)\": -9.29, \"Star type\": 5, \"Star color\": \"Blue\", \"Spectral Class\": \"O\", \"predict_K\": 5, \"predict_l\": 444151.25}, {\"Temperature (K)\": 32489, \"Luminosity(L/Lo)\": 648430.0, \"Radius(R/Ro)\": 1948.5, \"Absolute magnitude(Mv)\": -10.84, \"Star type\": 5, \"Star color\": \"Blue\", \"Spectral Class\": \"O\", \"predict_K\": 5, \"predict_l\": 410581.5}, {\"Temperature (K)\": 27739, \"Luminosity(L/Lo)\": 849420.0, \"Radius(R/Ro)\": 1252.0, \"Absolute magnitude(Mv)\": -7.59, \"Star type\": 5, \"Star color\": \"Blue-white\", \"Spectral Class\": \"B\", \"predict_K\": 5, \"predict_l\": 578736.25}, {\"Temperature (K)\": 21904, \"Luminosity(L/Lo)\": 748490.0, \"Radius(R/Ro)\": 1130.0, \"Absolute magnitude(Mv)\": -7.67, \"Star type\": 5, \"Star color\": \"Blue-white\", \"Spectral Class\": \"B\", \"predict_K\": 5, \"predict_l\": 511600.0}, {\"Temperature (K)\": 38940, \"Luminosity(L/Lo)\": 374830.0, \"Radius(R/Ro)\": 1356.0, \"Absolute magnitude(Mv)\": -9.93, \"Star type\": 5, \"Star color\": \"Blue\", \"Spectral Class\": \"O\", \"predict_K\": 5, \"predict_l\": 444151.25}, {\"Temperature (K)\": 30839, \"Luminosity(L/Lo)\": 834042.0, \"Radius(R/Ro)\": 1194.0, \"Absolute magnitude(Mv)\": -10.63, \"Star type\": 5, \"Star color\": \"Blue\", \"Spectral Class\": \"O\", \"predict_K\": 5, \"predict_l\": 551195.5}, {\"Temperature (K)\": 8829, \"Luminosity(L/Lo)\": 537493.0, \"Radius(R/Ro)\": 1423.0, \"Absolute magnitude(Mv)\": -10.73, \"Star type\": 5, \"Star color\": \"White\", \"Spectral Class\": \"A\", \"predict_K\": 5, \"predict_l\": 419623.25}, {\"Temperature (K)\": 9235, \"Luminosity(L/Lo)\": 404940.0, \"Radius(R/Ro)\": 1112.0, \"Absolute magnitude(Mv)\": -11.23, \"Star type\": 5, \"Star color\": \"White\", \"Spectral Class\": \"A\", \"predict_K\": 5, \"predict_l\": 335108.25}, {\"Temperature (K)\": 37882, \"Luminosity(L/Lo)\": 294903.0, \"Radius(R/Ro)\": 1783.0, \"Absolute magnitude(Mv)\": -7.8, \"Star type\": 5, \"Star color\": \"Blue\", \"Spectral Class\": \"O\", \"predict_K\": 5, \"predict_l\": 397748.25}]}}, {\"mode\": \"vega-lite\"});\n",
       "</script>"
      ],
      "text/plain": [
       "alt.Chart(...)"
      ]
     },
     "execution_count": 23,
     "metadata": {},
     "output_type": "execute_result"
    }
   ],
   "source": [
    "alt.Chart(df).mark_boxplot(extent='min-max').encode(\n",
    "    x='Star type:N',\n",
    "    y='Luminosity(L/Lo):Q'\n",
    ")\n"
   ]
  },
  {
   "cell_type": "markdown",
   "metadata": {
    "cell_id": "3f0cf953-35c9-4c6a-8a95-9790bfa59a1a",
    "deepnote_cell_height": 54,
    "deepnote_cell_type": "markdown",
    "tags": []
   },
   "source": [
    "In the plotbox above, it is apparent that the ranges of luminosity of different star types are in very different scale "
   ]
  },
  {
   "cell_type": "code",
   "execution_count": null,
   "metadata": {
    "cell_id": "e841c6c1-54bc-4fd3-b463-75034d93ce36",
    "deepnote_cell_height": 315,
    "deepnote_cell_type": "code",
    "deepnote_to_be_reexecuted": false,
    "execution_millis": 1,
    "execution_start": 1647306260733,
    "source_hash": "6c73ebd1",
    "tags": []
   },
   "outputs": [],
   "source": [
    "def find_combination(star_type):\n",
    "    df_star = df[df['Star type'] == star_type].iloc[:,:3]\n",
    "    X = df_star[['Temperature (K)', 'Radius(R/Ro)']]\n",
    "    y = df_star['Luminosity(L/Lo)']\n",
    "    poly = PolynomialFeatures(degree=9)\n",
    "    df_ply = pd.DataFrame(poly.fit_transform(X))\n",
    "    df_ply.columns = poly.get_feature_names_out()\n",
    "    error_dict = {}\n",
    "    for column in df_ply:\n",
    "        reg = LinearRegression()\n",
    "        reg.fit(df_ply[[column]], y)\n",
    "        error = mean_squared_error(reg.predict(df_ply[[column]]), y)\n",
    "        error_dict[error] = column\n",
    "    print(f\"For the star type {star_type}, the smallest error is {min(error_dict)}, which is generagted form {error_dict[min(error_dict)]}\")"
   ]
  },
  {
   "cell_type": "code",
   "execution_count": null,
   "metadata": {
    "cell_id": "4190d9bc-96a0-493a-bdac-bfde9358e759",
    "deepnote_cell_height": 210.9375,
    "deepnote_cell_type": "code",
    "deepnote_to_be_reexecuted": false,
    "execution_millis": 957,
    "execution_start": 1647306260780,
    "source_hash": "30071fc3",
    "tags": []
   },
   "outputs": [
    {
     "name": "stdout",
     "output_type": "stream",
     "text": [
      "For the star type 0, the smallest error is 7.157957086249859e-07, which is generagted form Temperature (K)^2\n",
      "For the star type 1, the smallest error is 5.09406889887359e-05, which is generagted form Temperature (K)^4 Radius(R/Ro)^5\n",
      "For the star type 2, the smallest error is 3.540347414239562e-05, which is generagted form Temperature (K)^9\n",
      "For the star type 3, the smallest error is 714292055.875457, which is generagted form Temperature (K)^4\n",
      "For the star type 4, the smallest error is 24439177145.3056, which is generagted form Temperature (K)^9\n"
     ]
    }
   ],
   "source": [
    "for i in range(5):\n",
    "    find_combination(i)"
   ]
  },
  {
   "cell_type": "markdown",
   "metadata": {
    "cell_id": "835057c3-4c3a-4414-adf6-f1efc5be1a82",
    "deepnote_cell_height": 102,
    "deepnote_cell_type": "markdown",
    "tags": []
   },
   "source": [
    "After applying polynomialfeatures to different star type separated, the mean squared error reduced apparently. However, different star type has lowest error with different polynomial combination. As a result, it is not safe to claim any polynomial combination of temperature and radius is the best to predict the Luminosity.  "
   ]
  },
  {
   "cell_type": "markdown",
   "metadata": {
    "cell_id": "13aaf975-3236-4d58-91de-138adb3df83c",
    "deepnote_cell_height": 130.78125,
    "deepnote_cell_type": "markdown",
    "tags": []
   },
   "source": [
    "## Summary\n",
    "\n",
    "In this project, I am able to predic the star's type by using KneighborClasifier with comparatively high acurracy. However, a best polynomial combination of temperature and radius to predic the luminorsity is not find, because the best structures of different star types differ. As a result, a larger dataset is needed to get a more accurate result."
   ]
  },
  {
   "cell_type": "markdown",
   "metadata": {
    "cell_id": "00001-c489bc07-2c6f-494e-bc56-1f3673c31aee",
    "deepnote_cell_height": 343.515625,
    "deepnote_cell_type": "markdown",
    "tags": []
   },
   "source": [
    "## References\n",
    "The dataset “6 class csv.csv” was adapted from [Star dataset to predict star types](https://www.kaggle.com/deepu1109/star-dataset)\n",
    ">\n",
    "The mthods and application of polynomialfeature was adapted from [sklearn.preprocessing.PolynomialFeatures](https://scikit-learn.org/stable/modules/generated/sklearn.preprocessing.PolynomialFeatures.html)\n",
    ">\n",
    "The idea of polynomialfeature is adapted from [Introduction to Polynomial Regression (with Python Implementation)](https://www.analyticsvidhya.com/blog/2020/03/polynomial-regression-python/)\n",
    ">\n",
    "The code of drawing altair histogram is adapted from [Simple Histogram](https://altair-viz.github.io/gallery/simple_histogram.html)\n",
    ">\n",
    "The code of drawing boxplot is adapted from [Boxplot with Min/Max Whiskers](https://altair-viz.github.io/gallery/boxplot.html#)"
   ]
  },
  {
   "cell_type": "markdown",
   "metadata": {
    "created_in_deepnote_cell": true,
    "deepnote_cell_type": "markdown",
    "tags": []
   },
   "source": [
    "<a style='text-decoration:none;line-height:16px;display:flex;color:#5B5B62;padding:10px;justify-content:end;' href='https://deepnote.com?utm_source=created-in-deepnote-cell&projectId=0fb54ba1-bdfd-468e-b41a-ed6482907af2' target=\"_blank\">\n",
    "<img alt='Created in deepnote.com' style='display:inline;max-height:16px;margin:0px;margin-right:7.5px;' src='data:image/svg+xml;base64,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' > </img>\n",
    "Created in <span style='font-weight:600;margin-left:4px;'>Deepnote</span></a>"
   ]
  }
 ],
 "metadata": {
  "deepnote": {
   "is_reactive": false
  },
  "deepnote_execution_queue": [],
  "deepnote_notebook_id": "7804ad77-5e10-413e-854b-da12428e14a1",
  "kernelspec": {
   "display_name": "Python 3 (ipykernel)",
   "language": "python",
   "name": "python3"
  },
  "language_info": {
   "codemirror_mode": {
    "name": "ipython",
    "version": 3
   },
   "file_extension": ".py",
   "mimetype": "text/x-python",
   "name": "python",
   "nbconvert_exporter": "python",
   "pygments_lexer": "ipython3",
   "version": "3.8.12"
  }
 },
 "nbformat": 4,
 "nbformat_minor": 4
}