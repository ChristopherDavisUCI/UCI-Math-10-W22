{
 "cells": [
  {
   "cell_type": "markdown",
   "metadata": {
    "cell_id": "098969f5-ac0d-4245-bbc2-f824edd4e15f",
    "deepnote_cell_height": 208.78125,
    "deepnote_cell_type": "markdown",
    "tags": []
   },
   "source": [
    "# Examining Free Throw percentages in the NBA Playoffs\n",
    "\n",
    "Author: Joseph Yecco, 61517010\n",
    "\n",
    "Course Project, UC Irvine, Math 10, W22"
   ]
  },
  {
   "cell_type": "markdown",
   "metadata": {
    "cell_id": "1232c27a-f5e2-426a-91e0-f6cfebd8a611",
    "deepnote_cell_height": 175.5625,
    "deepnote_cell_type": "markdown",
    "tags": []
   },
   "source": [
    "## Introduction\n",
    "\n",
    "When a player in the NBA is fouled during a shot attempt, and the shot attempt is unsuccessful, the player is awarded 2 or 3 free throws depending on the spot of the foul; they are awarded 1 free throw if the shot is successful. In this project, I aim to examine whether free throw percentage increases or decreases during the playoffs, and to determine if any of the variables in the data available would allow us to examine where this increase/decrease may stem from."
   ]
  },
  {
   "cell_type": "code",
   "execution_count": null,
   "metadata": {
    "cell_id": "64b52dcc-95c4-4437-98b0-fc3cfc3d880a",
    "deepnote_cell_height": 297,
    "deepnote_cell_type": "code",
    "deepnote_to_be_reexecuted": false,
    "execution_millis": 1141,
    "execution_start": 1647284107000,
    "source_hash": "9e27abca",
    "tags": []
   },
   "outputs": [],
   "source": [
    "import pandas as pd\n",
    "import numpy as np\n",
    "import altair as alt\n",
    "from sklearn.linear_model import LinearRegression\n",
    "from sklearn.linear_model import LogisticRegression, LinearRegression\n",
    "from sklearn.datasets import fetch_openml\n",
    "from sklearn.metrics import mean_absolute_error\n",
    "from sklearn.model_selection import train_test_split\n",
    "from sklearn.neighbors import KNeighborsRegressor, KNeighborsClassifier\n",
    "from sklearn.metrics import log_loss\n",
    "from sklearn.preprocessing import StandardScaler\n",
    "\n"
   ]
  },
  {
   "cell_type": "markdown",
   "metadata": {
    "cell_id": "6d778a07-e698-4157-9389-6af54035c549",
    "deepnote_cell_height": 74.78125,
    "deepnote_cell_type": "markdown",
    "tags": []
   },
   "source": [
    "Below are the two datasets we will use. The first is a dataframe containing records of over 600k free throws attempts between 2006-2016, while the second lists all NBA all-star selections from 2000-2016"
   ]
  },
  {
   "cell_type": "code",
   "execution_count": null,
   "metadata": {
    "cell_id": "ef22f7d2-ca3a-4dc4-ac10-f6fb80509ca0",
    "deepnote_cell_height": 153,
    "deepnote_cell_type": "code",
    "deepnote_table_loading": false,
    "deepnote_table_state": {
     "filters": [],
     "pageIndex": 0,
     "pageSize": 10,
     "sortBy": [
      {
       "id": "playoffs",
       "type": "asc"
      }
     ]
    },
    "deepnote_to_be_reexecuted": false,
    "execution_millis": 869,
    "execution_start": 1647284108146,
    "source_hash": "9abfa4e1",
    "tags": []
   },
   "outputs": [],
   "source": [
    "df0 = pd.read_csv('free_throws.csv')\n",
    "all_stars = pd.read_csv('allstars.csv')\n",
    "\n",
    "\n"
   ]
  },
  {
   "cell_type": "markdown",
   "metadata": {
    "cell_id": "23de7e6d-9a80-4bc0-8729-d0f2f77b8ff4",
    "deepnote_cell_height": 82,
    "deepnote_cell_type": "text-cell-h1",
    "is_collapsed": false,
    "tags": []
   },
   "source": [
    "# Main Portion"
   ]
  },
  {
   "cell_type": "markdown",
   "metadata": {
    "cell_id": "a3347c7c-c528-4da4-bc1e-a6d7dda4f7da",
    "deepnote_cell_height": 162.78125,
    "deepnote_cell_type": "markdown",
    "tags": []
   },
   "source": [
    "Now we move on to the main portion of our project. First, lets only include players in our dataframe who have taken over 100 free throw attempts in the playoffs, so that we can have a sufficient sample size to justify their free throw percentage.(The below cell may take a few minutes to run)"
   ]
  },
  {
   "cell_type": "code",
   "execution_count": null,
   "metadata": {
    "cell_id": "33c2da0e-94a6-4b92-9687-d124b3369396",
    "deepnote_cell_height": 117,
    "deepnote_cell_type": "code",
    "deepnote_to_be_reexecuted": false,
    "execution_millis": 86829,
    "execution_start": 1647284109059,
    "source_hash": "b6b0ff13",
    "tags": []
   },
   "outputs": [],
   "source": [
    "total_player_list = df0.iloc[:,5].value_counts().index #Lists all of the players in our dataframe\n",
    "a = np.where([np.count_nonzero((df0[\"player\"] == (total_player_list[i])) & (df0[\"playoffs\"] == \"playoffs\"))>100 for i in range(len(total_player_list))])\n",
    "#where function is used to find where in the list are players with over 100 playoff free throw attempts"
   ]
  },
  {
   "cell_type": "code",
   "execution_count": null,
   "metadata": {
    "cell_id": "7fbdf9fb-4081-45a2-9131-35ee3be5038c",
    "deepnote_cell_height": 117,
    "deepnote_cell_type": "code",
    "deepnote_to_be_reexecuted": false,
    "execution_millis": 50,
    "execution_start": 1647284195941,
    "source_hash": "92d3df01",
    "tags": []
   },
   "outputs": [],
   "source": [
    "player_list = total_player_list[a] \n",
    "df2 = df0[df0['player'].isin(player_list)] #New dataframe only contains info for players with >100 playoff attempts\n"
   ]
  },
  {
   "cell_type": "code",
   "execution_count": null,
   "metadata": {
    "cell_id": "95c9aad0-859c-48dd-8932-b235a63a503b",
    "deepnote_cell_height": 616,
    "deepnote_cell_type": "code",
    "deepnote_table_loading": false,
    "deepnote_table_state": {
     "filters": [],
     "pageIndex": 0,
     "pageSize": 10,
     "sortBy": []
    },
    "deepnote_to_be_reexecuted": false,
    "execution_millis": 187,
    "execution_start": 1647284196004,
    "source_hash": "fbae0dc8",
    "tags": []
   },
   "outputs": [
    {
     "data": {
      "application/vnd.deepnote.dataframe.v3+json": {
       "column_count": 11,
       "columns": [
        {
         "dtype": "object",
         "name": "end_result"
        },
        {
         "dtype": "object",
         "name": "game"
        },
        {
         "dtype": "float64",
         "name": "game_id"
        },
        {
         "dtype": "float64",
         "name": "period"
        },
        {
         "dtype": "object",
         "name": "play"
        },
        {
         "dtype": "object",
         "name": "player"
        },
        {
         "dtype": "object",
         "name": "playoffs"
        },
        {
         "dtype": "object",
         "name": "score"
        },
        {
         "dtype": "object",
         "name": "season"
        },
        {
         "dtype": "int64",
         "name": "shot_made"
        },
        {
         "dtype": "object",
         "name": "time"
        },
        {
         "dtype": "int64",
         "name": "_deepnote_index_column"
        }
       ],
       "row_count": 261646,
       "rows": [
        {
         "_deepnote_index_column": 0,
         "end_result": "106 - 114",
         "game": "PHX - LAL",
         "game_id": 261031013,
         "period": 1,
         "play": "Andrew Bynum makes free throw 1 of 2",
         "player": "Andrew Bynum",
         "playoffs": "regular",
         "score": "0 - 1",
         "season": "2006 - 2007",
         "shot_made": 1,
         "time": "11:45"
        },
        {
         "_deepnote_index_column": 1,
         "end_result": "106 - 114",
         "game": "PHX - LAL",
         "game_id": 261031013,
         "period": 1,
         "play": "Andrew Bynum makes free throw 2 of 2",
         "player": "Andrew Bynum",
         "playoffs": "regular",
         "score": "0 - 2",
         "season": "2006 - 2007",
         "shot_made": 1,
         "time": "11:45"
        },
        {
         "_deepnote_index_column": 2,
         "end_result": "106 - 114",
         "game": "PHX - LAL",
         "game_id": 261031013,
         "period": 1,
         "play": "Andrew Bynum makes free throw 1 of 2",
         "player": "Andrew Bynum",
         "playoffs": "regular",
         "score": "18 - 12",
         "season": "2006 - 2007",
         "shot_made": 1,
         "time": "7:26"
        },
        {
         "_deepnote_index_column": 3,
         "end_result": "106 - 114",
         "game": "PHX - LAL",
         "game_id": 261031013,
         "period": 1,
         "play": "Andrew Bynum misses free throw 2 of 2",
         "player": "Andrew Bynum",
         "playoffs": "regular",
         "score": "18 - 12",
         "season": "2006 - 2007",
         "shot_made": 0,
         "time": "7:26"
        },
        {
         "_deepnote_index_column": 4,
         "end_result": "106 - 114",
         "game": "PHX - LAL",
         "game_id": 261031013,
         "period": 1,
         "play": "Shawn Marion makes free throw 1 of 1",
         "player": "Shawn Marion",
         "playoffs": "regular",
         "score": "21 - 12",
         "season": "2006 - 2007",
         "shot_made": 1,
         "time": "7:18"
        },
        {
         "_deepnote_index_column": 5,
         "end_result": "106 - 114",
         "game": "PHX - LAL",
         "game_id": 261031013,
         "period": 1,
         "play": "Amare Stoudemire makes free throw 1 of 2",
         "player": "Amare Stoudemire",
         "playoffs": "regular",
         "score": "33 - 20",
         "season": "2006 - 2007",
         "shot_made": 1,
         "time": "3:15"
        },
        {
         "_deepnote_index_column": 6,
         "end_result": "106 - 114",
         "game": "PHX - LAL",
         "game_id": 261031013,
         "period": 1,
         "play": "Amare Stoudemire makes free throw 2 of 2",
         "player": "Amare Stoudemire",
         "playoffs": "regular",
         "score": "34 - 20",
         "season": "2006 - 2007",
         "shot_made": 1,
         "time": "3:15"
        },
        {
         "_deepnote_index_column": 7,
         "end_result": "106 - 114",
         "game": "PHX - LAL",
         "game_id": 261031013,
         "period": 2,
         "play": "Leandro Barbosa misses free throw 1 of 2",
         "player": "Leandro Barbosa",
         "playoffs": "regular",
         "score": "43 - 29",
         "season": "2006 - 2007",
         "shot_made": 0,
         "time": "10:52"
        },
        {
         "_deepnote_index_column": 8,
         "end_result": "106 - 114",
         "game": "PHX - LAL",
         "game_id": 261031013,
         "period": 2,
         "play": "Leandro Barbosa makes free throw 2 of 2",
         "player": "Leandro Barbosa",
         "playoffs": "regular",
         "score": "44 - 29",
         "season": "2006 - 2007",
         "shot_made": 1,
         "time": "10:52"
        },
        {
         "_deepnote_index_column": 9,
         "end_result": "106 - 114",
         "game": "PHX - LAL",
         "game_id": 261031013,
         "period": 2,
         "play": "Lamar Odom makes free throw 1 of 2",
         "player": "Lamar Odom",
         "playoffs": "regular",
         "score": "44 - 30",
         "season": "2006 - 2007",
         "shot_made": 1,
         "time": "10:37"
        }
       ]
      },
      "text/html": [
       "<div>\n",
       "<style scoped>\n",
       "    .dataframe tbody tr th:only-of-type {\n",
       "        vertical-align: middle;\n",
       "    }\n",
       "\n",
       "    .dataframe tbody tr th {\n",
       "        vertical-align: top;\n",
       "    }\n",
       "\n",
       "    .dataframe thead th {\n",
       "        text-align: right;\n",
       "    }\n",
       "</style>\n",
       "<table border=\"1\" class=\"dataframe\">\n",
       "  <thead>\n",
       "    <tr style=\"text-align: right;\">\n",
       "      <th></th>\n",
       "      <th>end_result</th>\n",
       "      <th>game</th>\n",
       "      <th>game_id</th>\n",
       "      <th>period</th>\n",
       "      <th>play</th>\n",
       "      <th>player</th>\n",
       "      <th>playoffs</th>\n",
       "      <th>score</th>\n",
       "      <th>season</th>\n",
       "      <th>shot_made</th>\n",
       "      <th>time</th>\n",
       "    </tr>\n",
       "  </thead>\n",
       "  <tbody>\n",
       "    <tr>\n",
       "      <th>0</th>\n",
       "      <td>106 - 114</td>\n",
       "      <td>PHX - LAL</td>\n",
       "      <td>261031013.0</td>\n",
       "      <td>1.0</td>\n",
       "      <td>Andrew Bynum makes free throw 1 of 2</td>\n",
       "      <td>Andrew Bynum</td>\n",
       "      <td>regular</td>\n",
       "      <td>0 - 1</td>\n",
       "      <td>2006 - 2007</td>\n",
       "      <td>1</td>\n",
       "      <td>11:45</td>\n",
       "    </tr>\n",
       "    <tr>\n",
       "      <th>1</th>\n",
       "      <td>106 - 114</td>\n",
       "      <td>PHX - LAL</td>\n",
       "      <td>261031013.0</td>\n",
       "      <td>1.0</td>\n",
       "      <td>Andrew Bynum makes free throw 2 of 2</td>\n",
       "      <td>Andrew Bynum</td>\n",
       "      <td>regular</td>\n",
       "      <td>0 - 2</td>\n",
       "      <td>2006 - 2007</td>\n",
       "      <td>1</td>\n",
       "      <td>11:45</td>\n",
       "    </tr>\n",
       "    <tr>\n",
       "      <th>2</th>\n",
       "      <td>106 - 114</td>\n",
       "      <td>PHX - LAL</td>\n",
       "      <td>261031013.0</td>\n",
       "      <td>1.0</td>\n",
       "      <td>Andrew Bynum makes free throw 1 of 2</td>\n",
       "      <td>Andrew Bynum</td>\n",
       "      <td>regular</td>\n",
       "      <td>18 - 12</td>\n",
       "      <td>2006 - 2007</td>\n",
       "      <td>1</td>\n",
       "      <td>7:26</td>\n",
       "    </tr>\n",
       "    <tr>\n",
       "      <th>3</th>\n",
       "      <td>106 - 114</td>\n",
       "      <td>PHX - LAL</td>\n",
       "      <td>261031013.0</td>\n",
       "      <td>1.0</td>\n",
       "      <td>Andrew Bynum misses free throw 2 of 2</td>\n",
       "      <td>Andrew Bynum</td>\n",
       "      <td>regular</td>\n",
       "      <td>18 - 12</td>\n",
       "      <td>2006 - 2007</td>\n",
       "      <td>0</td>\n",
       "      <td>7:26</td>\n",
       "    </tr>\n",
       "    <tr>\n",
       "      <th>4</th>\n",
       "      <td>106 - 114</td>\n",
       "      <td>PHX - LAL</td>\n",
       "      <td>261031013.0</td>\n",
       "      <td>1.0</td>\n",
       "      <td>Shawn Marion makes free throw 1 of 1</td>\n",
       "      <td>Shawn Marion</td>\n",
       "      <td>regular</td>\n",
       "      <td>21 - 12</td>\n",
       "      <td>2006 - 2007</td>\n",
       "      <td>1</td>\n",
       "      <td>7:18</td>\n",
       "    </tr>\n",
       "    <tr>\n",
       "      <th>...</th>\n",
       "      <td>...</td>\n",
       "      <td>...</td>\n",
       "      <td>...</td>\n",
       "      <td>...</td>\n",
       "      <td>...</td>\n",
       "      <td>...</td>\n",
       "      <td>...</td>\n",
       "      <td>...</td>\n",
       "      <td>...</td>\n",
       "      <td>...</td>\n",
       "      <td>...</td>\n",
       "    </tr>\n",
       "    <tr>\n",
       "      <th>618010</th>\n",
       "      <td>104 - 118</td>\n",
       "      <td>DAL - OKC</td>\n",
       "      <td>400874368.0</td>\n",
       "      <td>4.0</td>\n",
       "      <td>Russell Westbrook makes free throw 1 of 2</td>\n",
       "      <td>Russell Westbrook</td>\n",
       "      <td>playoffs</td>\n",
       "      <td>98 - 102</td>\n",
       "      <td>2015 - 2016</td>\n",
       "      <td>1</td>\n",
       "      <td>6:56</td>\n",
       "    </tr>\n",
       "    <tr>\n",
       "      <th>618011</th>\n",
       "      <td>104 - 118</td>\n",
       "      <td>DAL - OKC</td>\n",
       "      <td>400874368.0</td>\n",
       "      <td>4.0</td>\n",
       "      <td>Russell Westbrook makes free throw 2 of 2</td>\n",
       "      <td>Russell Westbrook</td>\n",
       "      <td>playoffs</td>\n",
       "      <td>98 - 103</td>\n",
       "      <td>2015 - 2016</td>\n",
       "      <td>1</td>\n",
       "      <td>6:56</td>\n",
       "    </tr>\n",
       "    <tr>\n",
       "      <th>618012</th>\n",
       "      <td>104 - 118</td>\n",
       "      <td>DAL - OKC</td>\n",
       "      <td>400874368.0</td>\n",
       "      <td>4.0</td>\n",
       "      <td>Kevin Durant makes technical free throw</td>\n",
       "      <td>Kevin Durant</td>\n",
       "      <td>playoffs</td>\n",
       "      <td>103 - 112</td>\n",
       "      <td>2015 - 2016</td>\n",
       "      <td>1</td>\n",
       "      <td>2:48</td>\n",
       "    </tr>\n",
       "    <tr>\n",
       "      <th>618013</th>\n",
       "      <td>104 - 118</td>\n",
       "      <td>DAL - OKC</td>\n",
       "      <td>400874368.0</td>\n",
       "      <td>4.0</td>\n",
       "      <td>Kevin Durant makes free throw 1 of 1</td>\n",
       "      <td>Kevin Durant</td>\n",
       "      <td>playoffs</td>\n",
       "      <td>103 - 113</td>\n",
       "      <td>2015 - 2016</td>\n",
       "      <td>1</td>\n",
       "      <td>2:48</td>\n",
       "    </tr>\n",
       "    <tr>\n",
       "      <th>618016</th>\n",
       "      <td>104 - 118</td>\n",
       "      <td>DAL - OKC</td>\n",
       "      <td>400874368.0</td>\n",
       "      <td>4.0</td>\n",
       "      <td>Kevin Durant makes technical free throw</td>\n",
       "      <td>Kevin Durant</td>\n",
       "      <td>playoffs</td>\n",
       "      <td>103 - 118</td>\n",
       "      <td>2015 - 2016</td>\n",
       "      <td>1</td>\n",
       "      <td>0:27</td>\n",
       "    </tr>\n",
       "  </tbody>\n",
       "</table>\n",
       "<p>261646 rows × 11 columns</p>\n",
       "</div>"
      ],
      "text/plain": [
       "       end_result       game      game_id  period  \\\n",
       "0       106 - 114  PHX - LAL  261031013.0     1.0   \n",
       "1       106 - 114  PHX - LAL  261031013.0     1.0   \n",
       "2       106 - 114  PHX - LAL  261031013.0     1.0   \n",
       "3       106 - 114  PHX - LAL  261031013.0     1.0   \n",
       "4       106 - 114  PHX - LAL  261031013.0     1.0   \n",
       "...           ...        ...          ...     ...   \n",
       "618010  104 - 118  DAL - OKC  400874368.0     4.0   \n",
       "618011  104 - 118  DAL - OKC  400874368.0     4.0   \n",
       "618012  104 - 118  DAL - OKC  400874368.0     4.0   \n",
       "618013  104 - 118  DAL - OKC  400874368.0     4.0   \n",
       "618016  104 - 118  DAL - OKC  400874368.0     4.0   \n",
       "\n",
       "                                             play             player  \\\n",
       "0            Andrew Bynum makes free throw 1 of 2       Andrew Bynum   \n",
       "1            Andrew Bynum makes free throw 2 of 2       Andrew Bynum   \n",
       "2            Andrew Bynum makes free throw 1 of 2       Andrew Bynum   \n",
       "3           Andrew Bynum misses free throw 2 of 2       Andrew Bynum   \n",
       "4            Shawn Marion makes free throw 1 of 1       Shawn Marion   \n",
       "...                                           ...                ...   \n",
       "618010  Russell Westbrook makes free throw 1 of 2  Russell Westbrook   \n",
       "618011  Russell Westbrook makes free throw 2 of 2  Russell Westbrook   \n",
       "618012    Kevin Durant makes technical free throw       Kevin Durant   \n",
       "618013       Kevin Durant makes free throw 1 of 1       Kevin Durant   \n",
       "618016    Kevin Durant makes technical free throw       Kevin Durant   \n",
       "\n",
       "        playoffs      score       season  shot_made   time  \n",
       "0        regular      0 - 1  2006 - 2007          1  11:45  \n",
       "1        regular      0 - 2  2006 - 2007          1  11:45  \n",
       "2        regular    18 - 12  2006 - 2007          1   7:26  \n",
       "3        regular    18 - 12  2006 - 2007          0   7:26  \n",
       "4        regular    21 - 12  2006 - 2007          1   7:18  \n",
       "...          ...        ...          ...        ...    ...  \n",
       "618010  playoffs   98 - 102  2015 - 2016          1   6:56  \n",
       "618011  playoffs   98 - 103  2015 - 2016          1   6:56  \n",
       "618012  playoffs  103 - 112  2015 - 2016          1   2:48  \n",
       "618013  playoffs  103 - 113  2015 - 2016          1   2:48  \n",
       "618016  playoffs  103 - 118  2015 - 2016          1   0:27  \n",
       "\n",
       "[261646 rows x 11 columns]"
      ]
     },
     "execution_count": 5,
     "metadata": {},
     "output_type": "execute_result"
    }
   ],
   "source": [
    "df2\n"
   ]
  },
  {
   "cell_type": "markdown",
   "metadata": {
    "cell_id": "653be221-336b-41eb-ad58-f219f17c6dda",
    "deepnote_cell_height": 52.390625,
    "deepnote_cell_type": "markdown",
    "tags": []
   },
   "source": [
    "Below we create the main datatable which we will use for the rest of the project"
   ]
  },
  {
   "cell_type": "code",
   "execution_count": null,
   "metadata": {
    "cell_id": "b5be0277-a22e-4151-9029-b9dd4edf3685",
    "deepnote_cell_height": 778,
    "deepnote_cell_type": "code",
    "deepnote_table_loading": false,
    "deepnote_table_state": {
     "filters": [],
     "pageIndex": 0,
     "pageSize": 10,
     "sortBy": []
    },
    "deepnote_to_be_reexecuted": false,
    "execution_millis": 25946,
    "execution_start": 1647284196212,
    "source_hash": "1cd15990",
    "tags": []
   },
   "outputs": [
    {
     "data": {
      "application/vnd.deepnote.dataframe.v3+json": {
       "column_count": 9,
       "columns": [
        {
         "dtype": "object",
         "name": "Player",
         "stats": {
          "categories": [
           {
            "count": 1,
            "name": "LeBron James"
           },
           {
            "count": 1,
            "name": "Dwight Howard"
           },
           {
            "count": 109,
            "name": "109 others"
           }
          ],
          "nan_count": 0,
          "unique_count": 111
         }
        },
        {
         "dtype": "int64",
         "name": "Regular Season Attempts",
         "stats": {
          "histogram": [
           {
            "bin_end": 1163.6,
            "bin_start": 533,
            "count": 21
           },
           {
            "bin_end": 1794.2,
            "bin_start": 1163.6,
            "count": 39
           },
           {
            "bin_end": 2424.8,
            "bin_start": 1794.2,
            "count": 17
           },
           {
            "bin_end": 3055.4,
            "bin_start": 2424.8,
            "count": 11
           },
           {
            "bin_end": 3686,
            "bin_start": 3055.4,
            "count": 13
           },
           {
            "bin_end": 4316.6,
            "bin_start": 3686,
            "count": 4
           },
           {
            "bin_end": 4947.2,
            "bin_start": 4316.6,
            "count": 3
           },
           {
            "bin_end": 5577.8,
            "bin_start": 4947.2,
            "count": 1
           },
           {
            "bin_end": 6208.400000000001,
            "bin_start": 5577.8,
            "count": 0
           },
           {
            "bin_end": 6839,
            "bin_start": 6208.400000000001,
            "count": 2
           }
          ],
          "max": "6839",
          "min": "533",
          "nan_count": 0,
          "unique_count": 110
         }
        },
        {
         "dtype": "int64",
         "name": "Regular Season Makes",
         "stats": {
          "histogram": [
           {
            "bin_end": 839.6,
            "bin_start": 411,
            "count": 21
           },
           {
            "bin_end": 1268.2,
            "bin_start": 839.6,
            "count": 30
           },
           {
            "bin_end": 1696.8000000000002,
            "bin_start": 1268.2,
            "count": 22
           },
           {
            "bin_end": 2125.4,
            "bin_start": 1696.8000000000002,
            "count": 10
           },
           {
            "bin_end": 2554,
            "bin_start": 2125.4,
            "count": 14
           },
           {
            "bin_end": 2982.6000000000004,
            "bin_start": 2554,
            "count": 2
           },
           {
            "bin_end": 3411.2000000000003,
            "bin_start": 2982.6000000000004,
            "count": 4
           },
           {
            "bin_end": 3839.8,
            "bin_start": 3411.2000000000003,
            "count": 4
           },
           {
            "bin_end": 4268.4,
            "bin_start": 3839.8,
            "count": 2
           },
           {
            "bin_end": 4697,
            "bin_start": 4268.4,
            "count": 2
           }
          ],
          "max": "4697",
          "min": "411",
          "nan_count": 0,
          "unique_count": 111
         }
        },
        {
         "dtype": "float64",
         "name": "Regular Percentage",
         "stats": {
          "histogram": [
           {
            "bin_end": 0.469,
            "bin_start": 0.42,
            "count": 1
           },
           {
            "bin_end": 0.518,
            "bin_start": 0.469,
            "count": 0
           },
           {
            "bin_end": 0.567,
            "bin_start": 0.518,
            "count": 3
           },
           {
            "bin_end": 0.616,
            "bin_start": 0.567,
            "count": 2
           },
           {
            "bin_end": 0.665,
            "bin_start": 0.616,
            "count": 6
           },
           {
            "bin_end": 0.714,
            "bin_start": 0.665,
            "count": 14
           },
           {
            "bin_end": 0.763,
            "bin_start": 0.714,
            "count": 18
           },
           {
            "bin_end": 0.812,
            "bin_start": 0.763,
            "count": 30
           },
           {
            "bin_end": 0.861,
            "bin_start": 0.812,
            "count": 24
           },
           {
            "bin_end": 0.91,
            "bin_start": 0.861,
            "count": 13
           }
          ],
          "max": "0.91",
          "min": "0.42",
          "nan_count": 0,
          "unique_count": 35
         }
        },
        {
         "dtype": "int64",
         "name": "Playoff Attempts",
         "stats": {
          "histogram": [
           {
            "bin_end": 259.2,
            "bin_start": 101,
            "count": 74
           },
           {
            "bin_end": 417.4,
            "bin_start": 259.2,
            "count": 23
           },
           {
            "bin_end": 575.5999999999999,
            "bin_start": 417.4,
            "count": 5
           },
           {
            "bin_end": 733.8,
            "bin_start": 575.5999999999999,
            "count": 5
           },
           {
            "bin_end": 892,
            "bin_start": 733.8,
            "count": 3
           },
           {
            "bin_end": 1050.1999999999998,
            "bin_start": 892,
            "count": 0
           },
           {
            "bin_end": 1208.3999999999999,
            "bin_start": 1050.1999999999998,
            "count": 0
           },
           {
            "bin_end": 1366.6,
            "bin_start": 1208.3999999999999,
            "count": 0
           },
           {
            "bin_end": 1524.8,
            "bin_start": 1366.6,
            "count": 0
           },
           {
            "bin_end": 1683,
            "bin_start": 1524.8,
            "count": 1
           }
          ],
          "max": "1683",
          "min": "101",
          "nan_count": 0,
          "unique_count": 93
         }
        },
        {
         "dtype": "int64",
         "name": "Playoff Makes",
         "stats": {
          "histogram": [
           {
            "bin_end": 186.3,
            "bin_start": 67,
            "count": 71
           },
           {
            "bin_end": 305.6,
            "bin_start": 186.3,
            "count": 23
           },
           {
            "bin_end": 424.9,
            "bin_start": 305.6,
            "count": 5
           },
           {
            "bin_end": 544.2,
            "bin_start": 424.9,
            "count": 8
           },
           {
            "bin_end": 663.5,
            "bin_start": 544.2,
            "count": 2
           },
           {
            "bin_end": 782.8,
            "bin_start": 663.5,
            "count": 1
           },
           {
            "bin_end": 902.1,
            "bin_start": 782.8,
            "count": 0
           },
           {
            "bin_end": 1021.4,
            "bin_start": 902.1,
            "count": 0
           },
           {
            "bin_end": 1140.7,
            "bin_start": 1021.4,
            "count": 0
           },
           {
            "bin_end": 1260,
            "bin_start": 1140.7,
            "count": 1
           }
          ],
          "max": "1260",
          "min": "67",
          "nan_count": 0,
          "unique_count": 93
         }
        },
        {
         "dtype": "float64",
         "name": "Playoff Percentage",
         "stats": {
          "histogram": [
           {
            "bin_end": 0.45999999999999996,
            "bin_start": 0.41,
            "count": 1
           },
           {
            "bin_end": 0.51,
            "bin_start": 0.45999999999999996,
            "count": 0
           },
           {
            "bin_end": 0.56,
            "bin_start": 0.51,
            "count": 2
           },
           {
            "bin_end": 0.61,
            "bin_start": 0.56,
            "count": 5
           },
           {
            "bin_end": 0.6599999999999999,
            "bin_start": 0.61,
            "count": 5
           },
           {
            "bin_end": 0.71,
            "bin_start": 0.6599999999999999,
            "count": 12
           },
           {
            "bin_end": 0.76,
            "bin_start": 0.71,
            "count": 22
           },
           {
            "bin_end": 0.81,
            "bin_start": 0.76,
            "count": 26
           },
           {
            "bin_end": 0.86,
            "bin_start": 0.81,
            "count": 22
           },
           {
            "bin_end": 0.91,
            "bin_start": 0.86,
            "count": 16
           }
          ],
          "max": "0.91",
          "min": "0.41",
          "nan_count": 0,
          "unique_count": 35
         }
        },
        {
         "dtype": "float64",
         "name": "Change",
         "stats": {
          "histogram": [
           {
            "bin_end": -0.09999999999999999,
            "bin_start": -0.12,
            "count": 4
           },
           {
            "bin_end": -0.07999999999999999,
            "bin_start": -0.09999999999999999,
            "count": 1
           },
           {
            "bin_end": -0.06,
            "bin_start": -0.07999999999999999,
            "count": 2
           },
           {
            "bin_end": -0.039999999999999994,
            "bin_start": -0.06,
            "count": 17
           },
           {
            "bin_end": -0.01999999999999999,
            "bin_start": -0.039999999999999994,
            "count": 26
           },
           {
            "bin_end": 0,
            "bin_start": -0.01999999999999999,
            "count": 10
           },
           {
            "bin_end": 0.020000000000000018,
            "bin_start": 0,
            "count": 34
           },
           {
            "bin_end": 0.04000000000000001,
            "bin_start": 0.020000000000000018,
            "count": 11
           },
           {
            "bin_end": 0.06,
            "bin_start": 0.04000000000000001,
            "count": 1
           },
           {
            "bin_end": 0.08,
            "bin_start": 0.06,
            "count": 5
           }
          ],
          "max": "0.08",
          "min": "-0.12",
          "nan_count": 0,
          "unique_count": 18
         }
        },
        {
         "dtype": "bool",
         "name": "All Star",
         "stats": {
          "categories": [
           {
            "count": 67,
            "name": "True"
           },
           {
            "count": 44,
            "name": "False"
           }
          ],
          "nan_count": 0,
          "unique_count": 2
         }
        },
        {
         "dtype": "int64",
         "name": "_deepnote_index_column"
        }
       ],
       "row_count": 111,
       "rows": [
        {
         "All Star": true,
         "Change": 0.01,
         "Player": "LeBron James",
         "Playoff Attempts": 1683,
         "Playoff Makes": 1260,
         "Playoff Percentage": 0.75,
         "Regular Percentage": 0.74,
         "Regular Season Attempts": 6318,
         "Regular Season Makes": 4697,
         "_deepnote_index_column": 0
        },
        {
         "All Star": true,
         "Change": -0.02,
         "Player": "Dwight Howard",
         "Playoff Attempts": 889,
         "Playoff Makes": 481,
         "Playoff Percentage": 0.54,
         "Regular Percentage": 0.56,
         "Regular Season Attempts": 6839,
         "Regular Season Makes": 3821,
         "_deepnote_index_column": 1
        },
        {
         "All Star": true,
         "Change": -0.03,
         "Player": "Kevin Durant",
         "Playoff Attempts": 804,
         "Playoff Makes": 682,
         "Playoff Percentage": 0.85,
         "Regular Percentage": 0.88,
         "Regular Season Attempts": 5226,
         "Regular Season Makes": 4611,
         "_deepnote_index_column": 2
        },
        {
         "All Star": true,
         "Change": 0.01,
         "Player": "Kobe Bryant",
         "Playoff Attempts": 765,
         "Playoff Makes": 647,
         "Playoff Percentage": 0.85,
         "Regular Percentage": 0.84,
         "Regular Season Attempts": 4829,
         "Regular Season Makes": 4055,
         "_deepnote_index_column": 3
        },
        {
         "All Star": true,
         "Change": -0.01,
         "Player": "Dwyane Wade",
         "Playoff Attempts": 709,
         "Playoff Makes": 538,
         "Playoff Percentage": 0.76,
         "Regular Percentage": 0.77,
         "Regular Season Attempts": 4885,
         "Regular Season Makes": 3738,
         "_deepnote_index_column": 4
        },
        {
         "All Star": true,
         "Change": 0.02,
         "Player": "Carmelo Anthony",
         "Playoff Attempts": 431,
         "Playoff Makes": 361,
         "Playoff Percentage": 0.84,
         "Regular Percentage": 0.82,
         "Regular Season Attempts": 4887,
         "Regular Season Makes": 3999,
         "_deepnote_index_column": 5
        },
        {
         "All Star": true,
         "Change": 0.02,
         "Player": "Dirk Nowitzki",
         "Playoff Attempts": 541,
         "Playoff Makes": 490,
         "Playoff Percentage": 0.91,
         "Regular Percentage": 0.89,
         "Regular Season Attempts": 4161,
         "Regular Season Makes": 3718,
         "_deepnote_index_column": 6
        },
        {
         "All Star": true,
         "Change": 0.02,
         "Player": "James Harden",
         "Playoff Attempts": 564,
         "Playoff Makes": 489,
         "Playoff Percentage": 0.87,
         "Regular Percentage": 0.85,
         "Regular Season Attempts": 4068,
         "Regular Season Makes": 3477,
         "_deepnote_index_column": 7
        },
        {
         "All Star": true,
         "Change": 0.03,
         "Player": "Russell Westbrook",
         "Playoff Attempts": 609,
         "Playoff Makes": 515,
         "Playoff Percentage": 0.85,
         "Regular Percentage": 0.82,
         "Regular Season Attempts": 3993,
         "Regular Season Makes": 3261,
         "_deepnote_index_column": 8
        },
        {
         "All Star": true,
         "Change": -0.01,
         "Player": "Chris Bosh",
         "Playoff Attempts": 378,
         "Playoff Makes": 304,
         "Playoff Percentage": 0.8,
         "Regular Percentage": 0.81,
         "Regular Season Attempts": 4178,
         "Regular Season Makes": 3371,
         "_deepnote_index_column": 9
        }
       ]
      },
      "text/html": [
       "<div>\n",
       "<style scoped>\n",
       "    .dataframe tbody tr th:only-of-type {\n",
       "        vertical-align: middle;\n",
       "    }\n",
       "\n",
       "    .dataframe tbody tr th {\n",
       "        vertical-align: top;\n",
       "    }\n",
       "\n",
       "    .dataframe thead th {\n",
       "        text-align: right;\n",
       "    }\n",
       "</style>\n",
       "<table border=\"1\" class=\"dataframe\">\n",
       "  <thead>\n",
       "    <tr style=\"text-align: right;\">\n",
       "      <th></th>\n",
       "      <th>Player</th>\n",
       "      <th>Regular Season Attempts</th>\n",
       "      <th>Regular Season Makes</th>\n",
       "      <th>Regular Percentage</th>\n",
       "      <th>Playoff Attempts</th>\n",
       "      <th>Playoff Makes</th>\n",
       "      <th>Playoff Percentage</th>\n",
       "      <th>Change</th>\n",
       "      <th>All Star</th>\n",
       "    </tr>\n",
       "  </thead>\n",
       "  <tbody>\n",
       "    <tr>\n",
       "      <th>0</th>\n",
       "      <td>LeBron James</td>\n",
       "      <td>6318</td>\n",
       "      <td>4697</td>\n",
       "      <td>0.74</td>\n",
       "      <td>1683</td>\n",
       "      <td>1260</td>\n",
       "      <td>0.75</td>\n",
       "      <td>0.01</td>\n",
       "      <td>True</td>\n",
       "    </tr>\n",
       "    <tr>\n",
       "      <th>1</th>\n",
       "      <td>Dwight Howard</td>\n",
       "      <td>6839</td>\n",
       "      <td>3821</td>\n",
       "      <td>0.56</td>\n",
       "      <td>889</td>\n",
       "      <td>481</td>\n",
       "      <td>0.54</td>\n",
       "      <td>-0.02</td>\n",
       "      <td>True</td>\n",
       "    </tr>\n",
       "    <tr>\n",
       "      <th>2</th>\n",
       "      <td>Kevin Durant</td>\n",
       "      <td>5226</td>\n",
       "      <td>4611</td>\n",
       "      <td>0.88</td>\n",
       "      <td>804</td>\n",
       "      <td>682</td>\n",
       "      <td>0.85</td>\n",
       "      <td>-0.03</td>\n",
       "      <td>True</td>\n",
       "    </tr>\n",
       "    <tr>\n",
       "      <th>3</th>\n",
       "      <td>Kobe Bryant</td>\n",
       "      <td>4829</td>\n",
       "      <td>4055</td>\n",
       "      <td>0.84</td>\n",
       "      <td>765</td>\n",
       "      <td>647</td>\n",
       "      <td>0.85</td>\n",
       "      <td>0.01</td>\n",
       "      <td>True</td>\n",
       "    </tr>\n",
       "    <tr>\n",
       "      <th>4</th>\n",
       "      <td>Dwyane Wade</td>\n",
       "      <td>4885</td>\n",
       "      <td>3738</td>\n",
       "      <td>0.77</td>\n",
       "      <td>709</td>\n",
       "      <td>538</td>\n",
       "      <td>0.76</td>\n",
       "      <td>-0.01</td>\n",
       "      <td>True</td>\n",
       "    </tr>\n",
       "    <tr>\n",
       "      <th>...</th>\n",
       "      <td>...</td>\n",
       "      <td>...</td>\n",
       "      <td>...</td>\n",
       "      <td>...</td>\n",
       "      <td>...</td>\n",
       "      <td>...</td>\n",
       "      <td>...</td>\n",
       "      <td>...</td>\n",
       "      <td>...</td>\n",
       "    </tr>\n",
       "    <tr>\n",
       "      <th>106</th>\n",
       "      <td>Bradley Beal</td>\n",
       "      <td>683</td>\n",
       "      <td>532</td>\n",
       "      <td>0.78</td>\n",
       "      <td>108</td>\n",
       "      <td>88</td>\n",
       "      <td>0.81</td>\n",
       "      <td>0.03</td>\n",
       "      <td>False</td>\n",
       "    </tr>\n",
       "    <tr>\n",
       "      <th>107</th>\n",
       "      <td>Harrison Barnes</td>\n",
       "      <td>656</td>\n",
       "      <td>484</td>\n",
       "      <td>0.74</td>\n",
       "      <td>119</td>\n",
       "      <td>90</td>\n",
       "      <td>0.76</td>\n",
       "      <td>0.02</td>\n",
       "      <td>False</td>\n",
       "    </tr>\n",
       "    <tr>\n",
       "      <th>108</th>\n",
       "      <td>Mickael Pietrus</td>\n",
       "      <td>631</td>\n",
       "      <td>418</td>\n",
       "      <td>0.66</td>\n",
       "      <td>143</td>\n",
       "      <td>97</td>\n",
       "      <td>0.68</td>\n",
       "      <td>0.02</td>\n",
       "      <td>False</td>\n",
       "    </tr>\n",
       "    <tr>\n",
       "      <th>109</th>\n",
       "      <td>Delonte West</td>\n",
       "      <td>623</td>\n",
       "      <td>515</td>\n",
       "      <td>0.83</td>\n",
       "      <td>106</td>\n",
       "      <td>90</td>\n",
       "      <td>0.85</td>\n",
       "      <td>0.02</td>\n",
       "      <td>False</td>\n",
       "    </tr>\n",
       "    <tr>\n",
       "      <th>110</th>\n",
       "      <td>Rasheed Wallace</td>\n",
       "      <td>533</td>\n",
       "      <td>411</td>\n",
       "      <td>0.77</td>\n",
       "      <td>106</td>\n",
       "      <td>85</td>\n",
       "      <td>0.80</td>\n",
       "      <td>0.03</td>\n",
       "      <td>True</td>\n",
       "    </tr>\n",
       "  </tbody>\n",
       "</table>\n",
       "<p>111 rows × 9 columns</p>\n",
       "</div>"
      ],
      "text/plain": [
       "              Player  Regular Season Attempts  Regular Season Makes  \\\n",
       "0       LeBron James                     6318                  4697   \n",
       "1      Dwight Howard                     6839                  3821   \n",
       "2       Kevin Durant                     5226                  4611   \n",
       "3        Kobe Bryant                     4829                  4055   \n",
       "4        Dwyane Wade                     4885                  3738   \n",
       "..               ...                      ...                   ...   \n",
       "106     Bradley Beal                      683                   532   \n",
       "107  Harrison Barnes                      656                   484   \n",
       "108  Mickael Pietrus                      631                   418   \n",
       "109     Delonte West                      623                   515   \n",
       "110  Rasheed Wallace                      533                   411   \n",
       "\n",
       "     Regular Percentage  Playoff Attempts  Playoff Makes  Playoff Percentage  \\\n",
       "0                  0.74              1683           1260                0.75   \n",
       "1                  0.56               889            481                0.54   \n",
       "2                  0.88               804            682                0.85   \n",
       "3                  0.84               765            647                0.85   \n",
       "4                  0.77               709            538                0.76   \n",
       "..                  ...               ...            ...                 ...   \n",
       "106                0.78               108             88                0.81   \n",
       "107                0.74               119             90                0.76   \n",
       "108                0.66               143             97                0.68   \n",
       "109                0.83               106             90                0.85   \n",
       "110                0.77               106             85                0.80   \n",
       "\n",
       "     Change  All Star  \n",
       "0      0.01      True  \n",
       "1     -0.02      True  \n",
       "2     -0.03      True  \n",
       "3      0.01      True  \n",
       "4     -0.01      True  \n",
       "..      ...       ...  \n",
       "106    0.03     False  \n",
       "107    0.02     False  \n",
       "108    0.02     False  \n",
       "109    0.02     False  \n",
       "110    0.03      True  \n",
       "\n",
       "[111 rows x 9 columns]"
      ]
     },
     "execution_count": 6,
     "metadata": {},
     "output_type": "execute_result"
    }
   ],
   "source": [
    "main_df = pd.DataFrame()\n",
    "main_df[\"Player\"] = pd.Series(player_list)\n",
    "main_df[\"Regular Season Attempts\"] = pd.Series([np.count_nonzero((df2[\"player\"] == i) & (df2[\"playoffs\"]=='regular')) for i in player_list])\n",
    "main_df[\"Regular Season Makes\"] = pd.Series([np.count_nonzero((df2[\"player\"] == i) & (df2[\"shot_made\"] == 1) & (df2[\"playoffs\"]=='regular')) for i in player_list])\n",
    "main_df[\"Regular Percentage\"] = (main_df[\"Regular Season Makes\"]/main_df[\"Regular Season Attempts\"]).round(2)\n",
    "main_df[\"Playoff Attempts\"] = pd.Series([np.count_nonzero((df2[\"player\"] == i) & (df2[\"playoffs\"]=='playoffs')) for i in player_list])\n",
    "main_df[\"Playoff Makes\"] = pd.Series([np.count_nonzero((df2[\"player\"] == i) & (df2[\"shot_made\"] == 1) & (df2[\"playoffs\"]=='playoffs')) for i in player_list])\n",
    "main_df[\"Playoff Percentage\"] = (main_df[\"Playoff Makes\"]/main_df[\"Playoff Attempts\"]).round(2)\n",
    "main_df[\"Change\"] =  (main_df[\"Playoff Percentage\"]-main_df[\"Regular Percentage\"]).round(2)\n",
    "main_df[\"All Star\"]= main_df.iloc[:,0].isin(all_stars[\"Player\"])\n",
    "main_df"
   ]
  },
  {
   "cell_type": "markdown",
   "metadata": {
    "cell_id": "780f4d35-dcdd-428c-b0d7-27ff58b17a56",
    "deepnote_cell_height": 74.78125,
    "deepnote_cell_type": "markdown",
    "tags": []
   },
   "source": [
    "Now let's take a look at the difference between regular season and playoff percentage. Note that the last column (\"Change\") represents the change from regular season to the playoffs"
   ]
  },
  {
   "cell_type": "code",
   "execution_count": null,
   "metadata": {
    "cell_id": "834afe0d-f260-4a9c-9a76-270eb989f0de",
    "deepnote_cell_height": 112.1875,
    "deepnote_cell_type": "code",
    "deepnote_output_heights": [
     21.1875
    ],
    "deepnote_to_be_reexecuted": false,
    "execution_millis": 83,
    "execution_start": 1647284222140,
    "source_hash": "d55932cb",
    "tags": []
   },
   "outputs": [
    {
     "name": "stdout",
     "output_type": "stream",
     "text": [
      "The average change in free throw percentage between the regular season and playoffs is -0.928%\n"
     ]
    }
   ],
   "source": [
    "print(f'The average change in free throw percentage between the regular season and playoffs is {100*(main_df[\"Change\"].mean().round(5))}%') #Mean value -.0093"
   ]
  },
  {
   "cell_type": "markdown",
   "metadata": {
    "cell_id": "92b53488-9387-4d4d-83fb-45b4813abb77",
    "deepnote_cell_height": 97.171875,
    "deepnote_cell_type": "markdown",
    "tags": []
   },
   "source": [
    "Now let's look at whether the regular season percentage has a direct impact on that, i.e. does a higher percent yield more stability in the playoffs or not. We will use linear regression to check."
   ]
  },
  {
   "cell_type": "code",
   "execution_count": null,
   "metadata": {
    "cell_id": "48f0920a-1a91-4f31-985e-d3aa252ba154",
    "deepnote_cell_height": 81,
    "deepnote_cell_type": "code",
    "deepnote_to_be_reexecuted": false,
    "execution_millis": 1,
    "execution_start": 1647284222142,
    "source_hash": "cd72858e",
    "tags": []
   },
   "outputs": [],
   "source": [
    "reg = LinearRegression()"
   ]
  },
  {
   "cell_type": "code",
   "execution_count": null,
   "metadata": {
    "cell_id": "5eafa26a-ce92-432a-b7a1-561dc307a85e",
    "deepnote_cell_height": 81,
    "deepnote_cell_type": "code",
    "deepnote_to_be_reexecuted": false,
    "execution_millis": 33,
    "execution_start": 1647284222143,
    "source_hash": "7b7751ff",
    "tags": []
   },
   "outputs": [],
   "source": [
    "X_train, X_test, y_train, y_test = train_test_split(main_df[[\"Regular Percentage\"]],main_df[\"Change\"],test_size=0.2)"
   ]
  },
  {
   "cell_type": "code",
   "execution_count": null,
   "metadata": {
    "cell_id": "214676a1-cc2c-4fca-991b-4f691a99a73e",
    "deepnote_cell_height": 130.1875,
    "deepnote_cell_type": "code",
    "deepnote_to_be_reexecuted": false,
    "execution_millis": 117,
    "execution_start": 1647284222177,
    "source_hash": "e6fc85ff",
    "tags": []
   },
   "outputs": [
    {
     "name": "stdout",
     "output_type": "stream",
     "text": [
      "The coefficient of our line is [-0.0248] and the intercept is 0.0097\n"
     ]
    }
   ],
   "source": [
    "reg.fit(X_train,y_train)\n",
    "print(f\"The coefficient of our line is {reg.coef_.round(4)} and the intercept is {reg.intercept_.round(4)}\")"
   ]
  },
  {
   "cell_type": "markdown",
   "metadata": {
    "cell_id": "8cc6297f-ce23-4e91-993b-6d254732aad4",
    "deepnote_cell_height": 97.171875,
    "deepnote_cell_type": "markdown",
    "tags": []
   },
   "source": [
    "These coefficients suggest a slight higher degree of loss in free throw percentage for players who shoot better in the regular season. We want to check how strong the correlation is betwen regular season free throw percentage and the change that occurs in the playoffs."
   ]
  },
  {
   "cell_type": "code",
   "execution_count": null,
   "metadata": {
    "cell_id": "1e365142-960f-4702-8e0b-ce788fb8623f",
    "deepnote_cell_height": 81,
    "deepnote_cell_type": "code",
    "deepnote_to_be_reexecuted": false,
    "execution_millis": 99,
    "execution_start": 1647284222178,
    "source_hash": "e47079a5",
    "tags": []
   },
   "outputs": [],
   "source": [
    "main_df[\"pred\"] = reg.predict(main_df[[\"Regular Percentage\"]])"
   ]
  },
  {
   "cell_type": "code",
   "execution_count": null,
   "metadata": {
    "cell_id": "5fb4ead0-15a3-4eb5-b8cb-9eb200dc2fb6",
    "deepnote_cell_height": 153,
    "deepnote_cell_type": "code",
    "deepnote_to_be_reexecuted": false,
    "execution_millis": 3,
    "execution_start": 1647284222280,
    "source_hash": "63fe5ae6",
    "tags": []
   },
   "outputs": [],
   "source": [
    "c1 = alt.Chart(main_df).mark_circle().encode(\n",
    "    x = alt.X(\"Regular Percentage\", scale = alt.Scale(domain=(0.35,1.0))),\n",
    "    y = 'Change',\n",
    "    color = \"All Star\"\n",
    ")"
   ]
  },
  {
   "cell_type": "code",
   "execution_count": null,
   "metadata": {
    "cell_id": "52a0c050-b98e-40b2-bcb6-bdedc55d10df",
    "deepnote_cell_height": 135,
    "deepnote_cell_type": "code",
    "deepnote_to_be_reexecuted": false,
    "execution_millis": 4,
    "execution_start": 1647284222285,
    "source_hash": "39c580c0",
    "tags": []
   },
   "outputs": [],
   "source": [
    "c2 = alt.Chart(main_df).mark_line(color ='red').encode(\n",
    "    x = alt.X(\"Regular Percentage\", scale = alt.Scale(domain=(0.35,1.0))),\n",
    "    y = 'pred'\n",
    ")"
   ]
  },
  {
   "cell_type": "code",
   "execution_count": null,
   "metadata": {
    "cell_id": "e5968aee-1ba9-49bc-8453-bb82864eee50",
    "deepnote_cell_height": 529,
    "deepnote_cell_type": "code",
    "deepnote_output_heights": [
     378
    ],
    "deepnote_to_be_reexecuted": false,
    "execution_millis": 205,
    "execution_start": 1647284222291,
    "source_hash": "1f135387",
    "tags": []
   },
   "outputs": [
    {
     "data": {
      "text/html": [
       "\n",
       "<div id=\"altair-viz-a5b7c6d17af848cb9bff0c8fcdb1779e\"></div>\n",
       "<script type=\"text/javascript\">\n",
       "  (function(spec, embedOpt){\n",
       "    let outputDiv = document.currentScript.previousElementSibling;\n",
       "    if (outputDiv.id !== \"altair-viz-a5b7c6d17af848cb9bff0c8fcdb1779e\") {\n",
       "      outputDiv = document.getElementById(\"altair-viz-a5b7c6d17af848cb9bff0c8fcdb1779e\");\n",
       "    }\n",
       "    const paths = {\n",
       "      \"vega\": \"https://cdn.jsdelivr.net/npm//vega@5?noext\",\n",
       "      \"vega-lib\": \"https://cdn.jsdelivr.net/npm//vega-lib?noext\",\n",
       "      \"vega-lite\": \"https://cdn.jsdelivr.net/npm//vega-lite@4.8.1?noext\",\n",
       "      \"vega-embed\": \"https://cdn.jsdelivr.net/npm//vega-embed@6?noext\",\n",
       "    };\n",
       "\n",
       "    function loadScript(lib) {\n",
       "      return new Promise(function(resolve, reject) {\n",
       "        var s = document.createElement('script');\n",
       "        s.src = paths[lib];\n",
       "        s.async = true;\n",
       "        s.onload = () => resolve(paths[lib]);\n",
       "        s.onerror = () => reject(`Error loading script: ${paths[lib]}`);\n",
       "        document.getElementsByTagName(\"head\")[0].appendChild(s);\n",
       "      });\n",
       "    }\n",
       "\n",
       "    function showError(err) {\n",
       "      outputDiv.innerHTML = `<div class=\"error\" style=\"color:red;\">${err}</div>`;\n",
       "      throw err;\n",
       "    }\n",
       "\n",
       "    function displayChart(vegaEmbed) {\n",
       "      vegaEmbed(outputDiv, spec, embedOpt)\n",
       "        .catch(err => showError(`Javascript Error: ${err.message}<br>This usually means there's a typo in your chart specification. See the javascript console for the full traceback.`));\n",
       "    }\n",
       "\n",
       "    if(typeof define === \"function\" && define.amd) {\n",
       "      requirejs.config({paths});\n",
       "      require([\"vega-embed\"], displayChart, err => showError(`Error loading script: ${err.message}`));\n",
       "    } else if (typeof vegaEmbed === \"function\") {\n",
       "      displayChart(vegaEmbed);\n",
       "    } else {\n",
       "      loadScript(\"vega\")\n",
       "        .then(() => loadScript(\"vega-lite\"))\n",
       "        .then(() => loadScript(\"vega-embed\"))\n",
       "        .catch(showError)\n",
       "        .then(() => displayChart(vegaEmbed));\n",
       "    }\n",
       "  })({\"config\": {\"view\": {\"continuousWidth\": 400, \"continuousHeight\": 300}}, \"layer\": [{\"mark\": \"circle\", \"encoding\": {\"color\": {\"type\": \"nominal\", \"field\": \"All Star\"}, \"x\": {\"type\": \"quantitative\", \"field\": \"Regular Percentage\", \"scale\": {\"domain\": [0.35, 1.0]}}, \"y\": {\"type\": \"quantitative\", \"field\": \"Change\"}}}, {\"mark\": {\"type\": \"line\", \"color\": \"red\"}, \"encoding\": {\"x\": {\"type\": \"quantitative\", \"field\": \"Regular Percentage\", \"scale\": {\"domain\": [0.35, 1.0]}}, \"y\": {\"type\": \"quantitative\", \"field\": \"pred\"}}}], \"data\": {\"name\": \"data-315f2cacfac80a9426f65fee0b6655c1\"}, \"title\": \"Change in Percentage by Regular Season Percentage\", \"width\": 600, \"$schema\": \"https://vega.github.io/schema/vega-lite/v4.8.1.json\", \"datasets\": {\"data-315f2cacfac80a9426f65fee0b6655c1\": [{\"Player\": \"LeBron James\", \"Regular Season Attempts\": 6318, \"Regular Season Makes\": 4697, \"Regular Percentage\": 0.74, \"Playoff Attempts\": 1683, \"Playoff Makes\": 1260, \"Playoff Percentage\": 0.75, \"Change\": 0.01, \"All Star\": true, \"pred\": -0.008659087451968547}, {\"Player\": \"Dwight Howard\", \"Regular Season Attempts\": 6839, \"Regular Season Makes\": 3821, \"Regular Percentage\": 0.56, \"Playoff Attempts\": 889, \"Playoff Makes\": 481, \"Playoff Percentage\": 0.54, \"Change\": -0.02, \"All Star\": true, \"pred\": -0.004191914181596928}, {\"Player\": \"Kevin Durant\", \"Regular Season Attempts\": 5226, \"Regular Season Makes\": 4611, \"Regular Percentage\": 0.88, \"Playoff Attempts\": 804, \"Playoff Makes\": 682, \"Playoff Percentage\": 0.85, \"Change\": -0.03, \"All Star\": true, \"pred\": -0.012133555551146475}, {\"Player\": \"Kobe Bryant\", \"Regular Season Attempts\": 4829, \"Regular Season Makes\": 4055, \"Regular Percentage\": 0.84, \"Playoff Attempts\": 765, \"Playoff Makes\": 647, \"Playoff Percentage\": 0.85, \"Change\": 0.01, \"All Star\": true, \"pred\": -0.01114085037995278}, {\"Player\": \"Dwyane Wade\", \"Regular Season Attempts\": 4885, \"Regular Season Makes\": 3738, \"Regular Percentage\": 0.77, \"Playoff Attempts\": 709, \"Playoff Makes\": 538, \"Playoff Percentage\": 0.76, \"Change\": -0.01, \"All Star\": true, \"pred\": -0.009403616330363818}, {\"Player\": \"Carmelo Anthony\", \"Regular Season Attempts\": 4887, \"Regular Season Makes\": 3999, \"Regular Percentage\": 0.82, \"Playoff Attempts\": 431, \"Playoff Makes\": 361, \"Playoff Percentage\": 0.84, \"Change\": 0.02, \"All Star\": true, \"pred\": -0.010644497794355933}, {\"Player\": \"Dirk Nowitzki\", \"Regular Season Attempts\": 4161, \"Regular Season Makes\": 3718, \"Regular Percentage\": 0.89, \"Playoff Attempts\": 541, \"Playoff Makes\": 490, \"Playoff Percentage\": 0.91, \"Change\": 0.02, \"All Star\": true, \"pred\": -0.012381731843944898}, {\"Player\": \"James Harden\", \"Regular Season Attempts\": 4068, \"Regular Season Makes\": 3477, \"Regular Percentage\": 0.85, \"Playoff Attempts\": 564, \"Playoff Makes\": 489, \"Playoff Percentage\": 0.87, \"Change\": 0.02, \"All Star\": true, \"pred\": -0.011389026672751204}, {\"Player\": \"Russell Westbrook\", \"Regular Season Attempts\": 3993, \"Regular Season Makes\": 3261, \"Regular Percentage\": 0.82, \"Playoff Attempts\": 609, \"Playoff Makes\": 515, \"Playoff Percentage\": 0.85, \"Change\": 0.03, \"All Star\": true, \"pred\": -0.010644497794355933}, {\"Player\": \"Chris Bosh\", \"Regular Season Attempts\": 4178, \"Regular Season Makes\": 3371, \"Regular Percentage\": 0.81, \"Playoff Attempts\": 378, \"Playoff Makes\": 304, \"Playoff Percentage\": 0.8, \"Change\": -0.01, \"All Star\": true, \"pred\": -0.010396321501557513}, {\"Player\": \"Paul Pierce\", \"Regular Season Attempts\": 3684, \"Regular Season Makes\": 3047, \"Regular Percentage\": 0.83, \"Playoff Attempts\": 662, \"Playoff Makes\": 553, \"Playoff Percentage\": 0.84, \"Change\": 0.01, \"All Star\": true, \"pred\": -0.010892674087154356}, {\"Player\": \"Tim Duncan\", \"Regular Season Attempts\": 3443, \"Regular Season Makes\": 2454, \"Regular Percentage\": 0.71, \"Playoff Attempts\": 676, \"Playoff Makes\": 451, \"Playoff Percentage\": 0.67, \"Change\": -0.04, \"All Star\": true, \"pred\": -0.007914558573573276}, {\"Player\": \"Pau Gasol\", \"Regular Season Attempts\": 3342, \"Regular Season Makes\": 2616, \"Regular Percentage\": 0.78, \"Playoff Attempts\": 527, \"Playoff Makes\": 388, \"Playoff Percentage\": 0.74, \"Change\": -0.04, \"All Star\": true, \"pred\": -0.009651792623162242}, {\"Player\": \"Chris Paul\", \"Regular Season Attempts\": 3464, \"Regular Season Makes\": 3000, \"Regular Percentage\": 0.87, \"Playoff Attempts\": 352, \"Playoff Makes\": 297, \"Playoff Percentage\": 0.84, \"Change\": -0.03, \"All Star\": true, \"pred\": -0.011885379258348051}, {\"Player\": \"Deron Williams\", \"Regular Season Attempts\": 3247, \"Regular Season Makes\": 2684, \"Regular Percentage\": 0.83, \"Playoff Attempts\": 396, \"Playoff Makes\": 317, \"Playoff Percentage\": 0.8, \"Change\": -0.03, \"All Star\": true, \"pred\": -0.010892674087154356}, {\"Player\": \"Josh Smith\", \"Regular Season Attempts\": 3197, \"Regular Season Makes\": 1985, \"Regular Percentage\": 0.62, \"Playoff Attempts\": 359, \"Playoff Makes\": 225, \"Playoff Percentage\": 0.63, \"Change\": 0.01, \"All Star\": false, \"pred\": -0.005680971938387467}, {\"Player\": \"Amare Stoudemire\", \"Regular Season Attempts\": 3153, \"Regular Season Makes\": 2497, \"Regular Percentage\": 0.79, \"Playoff Attempts\": 306, \"Playoff Makes\": 226, \"Playoff Percentage\": 0.74, \"Change\": -0.05, \"All Star\": false, \"pred\": -0.009899968915960665}, {\"Player\": \"Andre Iguodala\", \"Regular Season Attempts\": 3103, \"Regular Season Makes\": 2198, \"Regular Percentage\": 0.71, \"Playoff Attempts\": 338, \"Playoff Makes\": 201, \"Playoff Percentage\": 0.59, \"Change\": -0.12, \"All Star\": true, \"pred\": -0.007914558573573276}, {\"Player\": \"Paul Millsap\", \"Regular Season Attempts\": 3097, \"Regular Season Makes\": 2269, \"Regular Percentage\": 0.73, \"Playoff Attempts\": 330, \"Playoff Makes\": 230, \"Playoff Percentage\": 0.7, \"Change\": -0.03, \"All Star\": true, \"pred\": -0.008410911159170123}, {\"Player\": \"Zach Randolph\", \"Regular Season Attempts\": 3100, \"Regular Season Makes\": 2382, \"Regular Percentage\": 0.77, \"Playoff Attempts\": 315, \"Playoff Makes\": 231, \"Playoff Percentage\": 0.73, \"Change\": -0.04, \"All Star\": true, \"pred\": -0.009403616330363818}, {\"Player\": \"Tony Parker\", \"Regular Season Attempts\": 2797, \"Regular Season Makes\": 2183, \"Regular Percentage\": 0.78, \"Playoff Attempts\": 610, \"Playoff Makes\": 448, \"Playoff Percentage\": 0.73, \"Change\": -0.05, \"All Star\": true, \"pred\": -0.009651792623162242}, {\"Player\": \"Monta Ellis\", \"Regular Season Attempts\": 3271, \"Regular Season Makes\": 2535, \"Regular Percentage\": 0.77, \"Playoff Attempts\": 105, \"Playoff Makes\": 79, \"Playoff Percentage\": 0.75, \"Change\": -0.02, \"All Star\": false, \"pred\": -0.009403616330363818}, {\"Player\": \"LaMarcus Aldridge\", \"Regular Season Attempts\": 3129, \"Regular Season Makes\": 2511, \"Regular Percentage\": 0.8, \"Playoff Attempts\": 245, \"Playoff Makes\": 199, \"Playoff Percentage\": 0.81, \"Change\": 0.01, \"All Star\": true, \"pred\": -0.010148145208759089}, {\"Player\": \"DeMar DeRozan\", \"Regular Season Attempts\": 3062, \"Regular Season Makes\": 2524, \"Regular Percentage\": 0.82, \"Playoff Attempts\": 219, \"Playoff Makes\": 185, \"Playoff Percentage\": 0.84, \"Change\": 0.02, \"All Star\": true, \"pred\": -0.010644497794355933}, {\"Player\": \"Blake Griffin\", \"Regular Season Attempts\": 2878, \"Regular Season Makes\": 1899, \"Regular Percentage\": 0.66, \"Playoff Attempts\": 319, \"Playoff Makes\": 229, \"Playoff Percentage\": 0.72, \"Change\": 0.06, \"All Star\": true, \"pred\": -0.006673677109581161}, {\"Player\": \"Manu Ginobili\", \"Regular Season Attempts\": 2577, \"Regular Season Makes\": 2182, \"Regular Percentage\": 0.85, \"Playoff Attempts\": 572, \"Playoff Makes\": 476, \"Playoff Percentage\": 0.83, \"Change\": -0.02, \"All Star\": true, \"pred\": -0.011389026672751204}, {\"Player\": \"Jamal Crawford\", \"Regular Season Attempts\": 2870, \"Regular Season Makes\": 2507, \"Regular Percentage\": 0.87, \"Playoff Attempts\": 219, \"Playoff Makes\": 189, \"Playoff Percentage\": 0.86, \"Change\": -0.01, \"All Star\": false, \"pred\": -0.011885379258348051}, {\"Player\": \"Marc Gasol\", \"Regular Season Attempts\": 2604, \"Regular Season Makes\": 1988, \"Regular Percentage\": 0.76, \"Playoff Attempts\": 327, \"Playoff Makes\": 259, \"Playoff Percentage\": 0.79, \"Change\": 0.03, \"All Star\": true, \"pred\": -0.009155440037565394}, {\"Player\": \"David West\", \"Regular Season Attempts\": 2634, \"Regular Season Makes\": 2168, \"Regular Percentage\": 0.82, \"Playoff Attempts\": 292, \"Playoff Makes\": 231, \"Playoff Percentage\": 0.79, \"Change\": -0.03, \"All Star\": true, \"pred\": -0.010644497794355933}, {\"Player\": \"Kyle Lowry\", \"Regular Season Attempts\": 2725, \"Regular Season Makes\": 2172, \"Regular Percentage\": 0.8, \"Playoff Attempts\": 195, \"Playoff Makes\": 152, \"Playoff Percentage\": 0.78, \"Change\": -0.02, \"All Star\": true, \"pred\": -0.010148145208759089}, {\"Player\": \"Luol Deng\", \"Regular Season Attempts\": 2628, \"Regular Season Makes\": 2035, \"Regular Percentage\": 0.77, \"Playoff Attempts\": 200, \"Playoff Makes\": 157, \"Playoff Percentage\": 0.78, \"Change\": 0.01, \"All Star\": true, \"pred\": -0.009403616330363818}, {\"Player\": \"Nene\", \"Regular Season Attempts\": 2594, \"Regular Season Makes\": 1752, \"Regular Percentage\": 0.68, \"Playoff Attempts\": 221, \"Playoff Makes\": 128, \"Playoff Percentage\": 0.58, \"Change\": -0.1, \"All Star\": false, \"pred\": -0.0071700296951780085}, {\"Player\": \"Chauncey Billups\", \"Regular Season Attempts\": 2413, \"Regular Season Makes\": 2191, \"Regular Percentage\": 0.91, \"Playoff Attempts\": 380, \"Playoff Makes\": 327, \"Playoff Percentage\": 0.86, \"Change\": -0.05, \"All Star\": true, \"pred\": -0.012878084429541746}, {\"Player\": \"Vince Carter\", \"Regular Season Attempts\": 2559, \"Regular Season Makes\": 2078, \"Regular Percentage\": 0.81, \"Playoff Attempts\": 196, \"Playoff Makes\": 151, \"Playoff Percentage\": 0.77, \"Change\": -0.04, \"All Star\": true, \"pred\": -0.010396321501557513}, {\"Player\": \"Joe Johnson\", \"Regular Season Attempts\": 2415, \"Regular Season Makes\": 1960, \"Regular Percentage\": 0.81, \"Playoff Attempts\": 285, \"Playoff Makes\": 228, \"Playoff Percentage\": 0.8, \"Change\": -0.01, \"All Star\": true, \"pred\": -0.010396321501557513}, {\"Player\": \"Richard Jefferson\", \"Regular Season Attempts\": 2494, \"Regular Season Makes\": 1901, \"Regular Percentage\": 0.76, \"Playoff Attempts\": 141, \"Playoff Makes\": 115, \"Playoff Percentage\": 0.82, \"Change\": 0.06, \"All Star\": false, \"pred\": -0.009155440037565394}, {\"Player\": \"DeAndre Jordan\", \"Regular Season Attempts\": 2305, \"Regular Season Makes\": 971, \"Regular Percentage\": 0.42, \"Playoff Attempts\": 325, \"Playoff Makes\": 132, \"Playoff Percentage\": 0.41, \"Change\": -0.01, \"All Star\": true, \"pred\": -0.0007174460824189988}, {\"Player\": \"Carlos Boozer\", \"Regular Season Attempts\": 2273, \"Regular Season Makes\": 1623, \"Regular Percentage\": 0.71, \"Playoff Attempts\": 350, \"Playoff Makes\": 254, \"Playoff Percentage\": 0.73, \"Change\": 0.02, \"All Star\": true, \"pred\": -0.007914558573573276}, {\"Player\": \"Andre Miller\", \"Regular Season Attempts\": 2247, \"Regular Season Makes\": 1817, \"Regular Percentage\": 0.81, \"Playoff Attempts\": 173, \"Playoff Makes\": 133, \"Playoff Percentage\": 0.77, \"Change\": -0.04, \"All Star\": false, \"pred\": -0.010396321501557513}, {\"Player\": \"Tyson Chandler\", \"Regular Season Attempts\": 2230, \"Regular Season Makes\": 1469, \"Regular Percentage\": 0.66, \"Playoff Attempts\": 160, \"Playoff Makes\": 102, \"Playoff Percentage\": 0.64, \"Change\": -0.02, \"All Star\": true, \"pred\": -0.006673677109581161}, {\"Player\": \"John Wall\", \"Regular Season Attempts\": 2192, \"Regular Season Makes\": 1730, \"Regular Percentage\": 0.79, \"Playoff Attempts\": 107, \"Playoff Makes\": 85, \"Playoff Percentage\": 0.79, \"Change\": 0.0, \"All Star\": true, \"pred\": -0.009899968915960665}, {\"Player\": \"Jeff Green\", \"Regular Season Attempts\": 2136, \"Regular Season Makes\": 1680, \"Regular Percentage\": 0.79, \"Playoff Attempts\": 134, \"Playoff Makes\": 105, \"Playoff Percentage\": 0.78, \"Change\": -0.01, \"All Star\": false, \"pred\": -0.009899968915960665}, {\"Player\": \"Antawn Jamison\", \"Regular Season Attempts\": 2154, \"Regular Season Makes\": 1556, \"Regular Percentage\": 0.72, \"Playoff Attempts\": 101, \"Playoff Makes\": 69, \"Playoff Percentage\": 0.68, \"Change\": -0.04, \"All Star\": true, \"pred\": -0.0081627348663717}, {\"Player\": \"Kevin Garnett\", \"Regular Season Attempts\": 1900, \"Regular Season Makes\": 1571, \"Regular Percentage\": 0.83, \"Playoff Attempts\": 320, \"Playoff Makes\": 260, \"Playoff Percentage\": 0.81, \"Change\": -0.02, \"All Star\": true, \"pred\": -0.010892674087154356}, {\"Player\": \"Mike Conley\", \"Regular Season Attempts\": 1942, \"Regular Season Makes\": 1566, \"Regular Percentage\": 0.81, \"Playoff Attempts\": 232, \"Playoff Makes\": 182, \"Playoff Percentage\": 0.78, \"Change\": -0.03, \"All Star\": false, \"pred\": -0.010396321501557513}, {\"Player\": \"Stephen Curry\", \"Regular Season Attempts\": 1851, \"Regular Season Makes\": 1667, \"Regular Percentage\": 0.9, \"Playoff Attempts\": 278, \"Playoff Makes\": 244, \"Playoff Percentage\": 0.88, \"Change\": -0.02, \"All Star\": true, \"pred\": -0.012629908136743322}, {\"Player\": \"Stephen Jackson\", \"Regular Season Attempts\": 1944, \"Regular Season Makes\": 1570, \"Regular Percentage\": 0.81, \"Playoff Attempts\": 128, \"Playoff Makes\": 106, \"Playoff Percentage\": 0.83, \"Change\": 0.02, \"All Star\": false, \"pred\": -0.010396321501557513}, {\"Player\": \"Ray Allen\", \"Regular Season Attempts\": 1654, \"Regular Season Makes\": 1502, \"Regular Percentage\": 0.91, \"Playoff Attempts\": 391, \"Playoff Makes\": 345, \"Playoff Percentage\": 0.88, \"Change\": -0.03, \"All Star\": true, \"pred\": -0.012878084429541746}, {\"Player\": \"Zaza Pachulia\", \"Regular Season Attempts\": 1899, \"Regular Season Makes\": 1431, \"Regular Percentage\": 0.75, \"Playoff Attempts\": 139, \"Playoff Makes\": 102, \"Playoff Percentage\": 0.73, \"Change\": -0.02, \"All Star\": false, \"pred\": -0.00890726374476697}, {\"Player\": \"Luis Scola\", \"Regular Season Attempts\": 1916, \"Regular Season Makes\": 1425, \"Regular Percentage\": 0.74, \"Playoff Attempts\": 117, \"Playoff Makes\": 78, \"Playoff Percentage\": 0.67, \"Change\": -0.07, \"All Star\": false, \"pred\": -0.008659087451968547}, {\"Player\": \"Derrick Rose\", \"Regular Season Attempts\": 1780, \"Regular Season Makes\": 1446, \"Regular Percentage\": 0.81, \"Playoff Attempts\": 222, \"Playoff Makes\": 186, \"Playoff Percentage\": 0.84, \"Change\": 0.03, \"All Star\": true, \"pred\": -0.010396321501557513}, {\"Player\": \"Marvin Williams\", \"Regular Season Attempts\": 1869, \"Regular Season Makes\": 1516, \"Regular Percentage\": 0.81, \"Playoff Attempts\": 107, \"Playoff Makes\": 89, \"Playoff Percentage\": 0.83, \"Change\": 0.02, \"All Star\": false, \"pred\": -0.010396321501557513}, {\"Player\": \"Ben Gordon\", \"Regular Season Attempts\": 1848, \"Regular Season Makes\": 1601, \"Regular Percentage\": 0.87, \"Playoff Attempts\": 119, \"Playoff Makes\": 107, \"Playoff Percentage\": 0.9, \"Change\": 0.03, \"All Star\": false, \"pred\": -0.011885379258348051}, {\"Player\": \"Joakim Noah\", \"Regular Season Attempts\": 1777, \"Regular Season Makes\": 1262, \"Regular Percentage\": 0.71, \"Playoff Attempts\": 182, \"Playoff Makes\": 123, \"Playoff Percentage\": 0.68, \"Change\": -0.03, \"All Star\": true, \"pred\": -0.007914558573573276}, {\"Player\": \"Rajon Rondo\", \"Regular Season Attempts\": 1605, \"Regular Season Makes\": 975, \"Regular Percentage\": 0.61, \"Playoff Attempts\": 343, \"Playoff Makes\": 222, \"Playoff Percentage\": 0.65, \"Change\": 0.04, \"All Star\": true, \"pred\": -0.005432795645589043}, {\"Player\": \"Roy Hibbert\", \"Regular Season Attempts\": 1728, \"Regular Season Makes\": 1301, \"Regular Percentage\": 0.75, \"Playoff Attempts\": 213, \"Playoff Makes\": 163, \"Playoff Percentage\": 0.77, \"Change\": 0.02, \"All Star\": true, \"pred\": -0.00890726374476697}, {\"Player\": \"Paul George\", \"Regular Season Attempts\": 1552, \"Regular Season Makes\": 1300, \"Regular Percentage\": 0.84, \"Playoff Attempts\": 356, \"Playoff Makes\": 284, \"Playoff Percentage\": 0.8, \"Change\": -0.04, \"All Star\": true, \"pred\": -0.01114085037995278}, {\"Player\": \"Carl Landry\", \"Regular Season Attempts\": 1729, \"Regular Season Makes\": 1357, \"Regular Percentage\": 0.78, \"Playoff Attempts\": 137, \"Playoff Makes\": 102, \"Playoff Percentage\": 0.74, \"Change\": -0.04, \"All Star\": false, \"pred\": -0.009651792623162242}, {\"Player\": \"J.R. Smith\", \"Regular Season Attempts\": 1638, \"Regular Season Makes\": 1202, \"Regular Percentage\": 0.73, \"Playoff Attempts\": 195, \"Playoff Makes\": 139, \"Playoff Percentage\": 0.71, \"Change\": -0.02, \"All Star\": false, \"pred\": -0.008410911159170123}, {\"Player\": \"Andrei Kirilenko\", \"Regular Season Attempts\": 1683, \"Regular Season Makes\": 1249, \"Regular Percentage\": 0.74, \"Playoff Attempts\": 132, \"Playoff Makes\": 98, \"Playoff Percentage\": 0.74, \"Change\": 0.0, \"All Star\": true, \"pred\": -0.008659087451968547}, {\"Player\": \"Brandon Bass\", \"Regular Season Attempts\": 1631, \"Regular Season Makes\": 1358, \"Regular Percentage\": 0.83, \"Playoff Attempts\": 164, \"Playoff Makes\": 146, \"Playoff Percentage\": 0.89, \"Change\": 0.06, \"All Star\": false, \"pred\": -0.010892674087154356}, {\"Player\": \"Jeff Teague\", \"Regular Season Attempts\": 1561, \"Regular Season Makes\": 1307, \"Regular Percentage\": 0.84, \"Playoff Attempts\": 222, \"Playoff Makes\": 193, \"Playoff Percentage\": 0.87, \"Change\": 0.03, \"All Star\": true, \"pred\": -0.01114085037995278}, {\"Player\": \"Damian Lillard\", \"Regular Season Attempts\": 1606, \"Regular Season Makes\": 1397, \"Regular Percentage\": 0.87, \"Playoff Attempts\": 176, \"Playoff Makes\": 155, \"Playoff Percentage\": 0.88, \"Change\": 0.01, \"All Star\": true, \"pred\": -0.011885379258348051}, {\"Player\": \"Lamar Odom\", \"Regular Season Attempts\": 1454, \"Regular Season Makes\": 970, \"Regular Percentage\": 0.67, \"Playoff Attempts\": 321, \"Playoff Makes\": 203, \"Playoff Percentage\": 0.63, \"Change\": -0.04, \"All Star\": false, \"pred\": -0.006921853402379585}, {\"Player\": \"George Hill\", \"Regular Season Attempts\": 1447, \"Regular Season Makes\": 1159, \"Regular Percentage\": 0.8, \"Playoff Attempts\": 279, \"Playoff Makes\": 227, \"Playoff Percentage\": 0.81, \"Change\": 0.01, \"All Star\": false, \"pred\": -0.010148145208759089}, {\"Player\": \"Hedo Turkoglu\", \"Regular Season Attempts\": 1511, \"Regular Season Makes\": 1175, \"Regular Percentage\": 0.78, \"Playoff Attempts\": 188, \"Playoff Makes\": 148, \"Playoff Percentage\": 0.79, \"Change\": 0.01, \"All Star\": false, \"pred\": -0.009651792623162242}, {\"Player\": \"Jimmy Butler\", \"Regular Season Attempts\": 1550, \"Regular Season Makes\": 1258, \"Regular Percentage\": 0.81, \"Playoff Attempts\": 149, \"Playoff Makes\": 121, \"Playoff Percentage\": 0.81, \"Change\": 0.0, \"All Star\": true, \"pred\": -0.010396321501557513}, {\"Player\": \"Trevor Ariza\", \"Regular Season Attempts\": 1532, \"Regular Season Makes\": 1115, \"Regular Percentage\": 0.73, \"Playoff Attempts\": 167, \"Playoff Makes\": 117, \"Playoff Percentage\": 0.7, \"Change\": -0.03, \"All Star\": false, \"pred\": -0.008410911159170123}, {\"Player\": \"Tony Allen\", \"Regular Season Attempts\": 1471, \"Regular Season Makes\": 1050, \"Regular Percentage\": 0.71, \"Playoff Attempts\": 204, \"Playoff Makes\": 148, \"Playoff Percentage\": 0.73, \"Change\": 0.02, \"All Star\": false, \"pred\": -0.007914558573573276}, {\"Player\": \"Jason Terry\", \"Regular Season Attempts\": 1461, \"Regular Season Makes\": 1245, \"Regular Percentage\": 0.85, \"Playoff Attempts\": 200, \"Playoff Makes\": 163, \"Playoff Percentage\": 0.82, \"Change\": -0.03, \"All Star\": false, \"pred\": -0.011389026672751204}, {\"Player\": \"Al Horford\", \"Regular Season Attempts\": 1466, \"Regular Season Makes\": 1088, \"Regular Percentage\": 0.74, \"Playoff Attempts\": 173, \"Playoff Makes\": 132, \"Playoff Percentage\": 0.76, \"Change\": 0.02, \"All Star\": true, \"pred\": -0.008659087451968547}, {\"Player\": \"Richard Hamilton\", \"Regular Season Attempts\": 1410, \"Regular Season Makes\": 1195, \"Regular Percentage\": 0.85, \"Playoff Attempts\": 226, \"Playoff Makes\": 199, \"Playoff Percentage\": 0.88, \"Change\": 0.03, \"All Star\": true, \"pred\": -0.011389026672751204}, {\"Player\": \"Shaquille O'Neal\", \"Regular Season Attempts\": 1495, \"Regular Season Makes\": 782, \"Regular Percentage\": 0.52, \"Playoff Attempts\": 137, \"Playoff Makes\": 71, \"Playoff Percentage\": 0.52, \"Change\": 0.0, \"All Star\": true, \"pred\": -0.0031992090104032336}, {\"Player\": \"Andrew Bynum\", \"Regular Season Attempts\": 1398, \"Regular Season Makes\": 977, \"Regular Percentage\": 0.7, \"Playoff Attempts\": 214, \"Playoff Makes\": 154, \"Playoff Percentage\": 0.72, \"Change\": 0.02, \"All Star\": true, \"pred\": -0.007666382280774852}, {\"Player\": \"Steve Nash\", \"Regular Season Attempts\": 1458, \"Regular Season Makes\": 1334, \"Regular Percentage\": 0.91, \"Playoff Attempts\": 133, \"Playoff Makes\": 120, \"Playoff Percentage\": 0.9, \"Change\": -0.01, \"All Star\": true, \"pred\": -0.012878084429541746}, {\"Player\": \"Mo Williams\", \"Regular Season Attempts\": 1460, \"Regular Season Makes\": 1281, \"Regular Percentage\": 0.88, \"Playoff Attempts\": 115, \"Playoff Makes\": 93, \"Playoff Percentage\": 0.81, \"Change\": -0.07, \"All Star\": true, \"pred\": -0.012133555551146475}, {\"Player\": \"Wesley Matthews\", \"Regular Season Attempts\": 1427, \"Regular Season Makes\": 1186, \"Regular Percentage\": 0.83, \"Playoff Attempts\": 118, \"Playoff Makes\": 96, \"Playoff Percentage\": 0.81, \"Change\": -0.02, \"All Star\": false, \"pred\": -0.010892674087154356}, {\"Player\": \"J.J. Redick\", \"Regular Season Attempts\": 1398, \"Regular Season Makes\": 1240, \"Regular Percentage\": 0.89, \"Playoff Attempts\": 142, \"Playoff Makes\": 127, \"Playoff Percentage\": 0.89, \"Change\": 0.0, \"All Star\": false, \"pred\": -0.012381731843944898}, {\"Player\": \"Kyrie Irving\", \"Regular Season Attempts\": 1377, \"Regular Season Makes\": 1192, \"Regular Percentage\": 0.87, \"Playoff Attempts\": 157, \"Playoff Makes\": 135, \"Playoff Percentage\": 0.86, \"Change\": -0.01, \"All Star\": true, \"pred\": -0.011885379258348051}, {\"Player\": \"Tayshaun Prince\", \"Regular Season Attempts\": 1361, \"Regular Season Makes\": 1015, \"Regular Percentage\": 0.75, \"Playoff Attempts\": 111, \"Playoff Makes\": 82, \"Playoff Percentage\": 0.74, \"Change\": -0.01, \"All Star\": false, \"pred\": -0.00890726374476697}, {\"Player\": \"Tristan Thompson\", \"Regular Season Attempts\": 1312, \"Regular Season Makes\": 826, \"Regular Percentage\": 0.63, \"Playoff Attempts\": 155, \"Playoff Makes\": 90, \"Playoff Percentage\": 0.58, \"Change\": -0.05, \"All Star\": false, \"pred\": -0.00592914823118589}, {\"Player\": \"Mario Chalmers\", \"Regular Season Attempts\": 1269, \"Regular Season Makes\": 998, \"Regular Percentage\": 0.79, \"Playoff Attempts\": 190, \"Playoff Makes\": 141, \"Playoff Percentage\": 0.74, \"Change\": -0.05, \"All Star\": false, \"pred\": -0.009899968915960665}, {\"Player\": \"Glen Davis\", \"Regular Season Attempts\": 1244, \"Regular Season Makes\": 873, \"Regular Percentage\": 0.7, \"Playoff Attempts\": 208, \"Playoff Makes\": 149, \"Playoff Percentage\": 0.72, \"Change\": 0.02, \"All Star\": false, \"pred\": -0.007666382280774852}, {\"Player\": \"Rashard Lewis\", \"Regular Season Attempts\": 1237, \"Regular Season Makes\": 1016, \"Regular Percentage\": 0.82, \"Playoff Attempts\": 184, \"Playoff Makes\": 145, \"Playoff Percentage\": 0.79, \"Change\": -0.03, \"All Star\": true, \"pred\": -0.010644497794355933}, {\"Player\": \"Yao Ming\", \"Regular Season Attempts\": 1266, \"Regular Season Makes\": 1091, \"Regular Percentage\": 0.86, \"Playoff Attempts\": 126, \"Playoff Makes\": 112, \"Playoff Percentage\": 0.89, \"Change\": 0.03, \"All Star\": true, \"pred\": -0.011637202965549627}, {\"Player\": \"Anderson Varejao\", \"Regular Season Attempts\": 1250, \"Regular Season Makes\": 813, \"Regular Percentage\": 0.65, \"Playoff Attempts\": 141, \"Playoff Makes\": 84, \"Playoff Percentage\": 0.6, \"Change\": -0.05, \"All Star\": false, \"pred\": -0.006425500816782738}, {\"Player\": \"Tracy McGrady\", \"Regular Season Attempts\": 1270, \"Regular Season Makes\": 905, \"Regular Percentage\": 0.71, \"Playoff Attempts\": 116, \"Playoff Makes\": 80, \"Playoff Percentage\": 0.69, \"Change\": -0.02, \"All Star\": true, \"pred\": -0.007914558573573276}, {\"Player\": \"Kendrick Perkins\", \"Regular Season Attempts\": 1154, \"Regular Season Makes\": 680, \"Regular Percentage\": 0.59, \"Playoff Attempts\": 231, \"Playoff Makes\": 154, \"Playoff Percentage\": 0.67, \"Change\": 0.08, \"All Star\": false, \"pred\": -0.004936443059992196}, {\"Player\": \"Taj Gibson\", \"Regular Season Attempts\": 1197, \"Regular Season Makes\": 829, \"Regular Percentage\": 0.69, \"Playoff Attempts\": 136, \"Playoff Makes\": 94, \"Playoff Percentage\": 0.69, \"Change\": 0.0, \"All Star\": false, \"pred\": -0.007418205987976429}, {\"Player\": \"Leandro Barbosa\", \"Regular Season Attempts\": 1188, \"Regular Season Makes\": 987, \"Regular Percentage\": 0.83, \"Playoff Attempts\": 125, \"Playoff Makes\": 91, \"Playoff Percentage\": 0.73, \"Change\": -0.1, \"All Star\": false, \"pred\": -0.010892674087154356}, {\"Player\": \"Josh Howard\", \"Regular Season Attempts\": 1194, \"Regular Season Makes\": 948, \"Regular Percentage\": 0.79, \"Playoff Attempts\": 106, \"Playoff Makes\": 81, \"Playoff Percentage\": 0.76, \"Change\": -0.03, \"All Star\": true, \"pred\": -0.009899968915960665}, {\"Player\": \"Derek Fisher\", \"Regular Season Attempts\": 1031, \"Regular Season Makes\": 877, \"Regular Percentage\": 0.85, \"Playoff Attempts\": 267, \"Playoff Makes\": 229, \"Playoff Percentage\": 0.86, \"Change\": 0.01, \"All Star\": false, \"pred\": -0.011389026672751204}, {\"Player\": \"Jameer Nelson\", \"Regular Season Attempts\": 1119, \"Regular Season Makes\": 932, \"Regular Percentage\": 0.83, \"Playoff Attempts\": 144, \"Playoff Makes\": 114, \"Playoff Percentage\": 0.79, \"Change\": -0.04, \"All Star\": true, \"pred\": -0.010892674087154356}, {\"Player\": \"Shawn Marion\", \"Regular Season Attempts\": 1141, \"Regular Season Makes\": 885, \"Regular Percentage\": 0.78, \"Playoff Attempts\": 106, \"Playoff Makes\": 82, \"Playoff Percentage\": 0.77, \"Change\": -0.01, \"All Star\": true, \"pred\": -0.009651792623162242}, {\"Player\": \"Matt Barnes\", \"Regular Season Attempts\": 1124, \"Regular Season Makes\": 847, \"Regular Percentage\": 0.75, \"Playoff Attempts\": 117, \"Playoff Makes\": 88, \"Playoff Percentage\": 0.75, \"Change\": 0.0, \"All Star\": false, \"pred\": -0.00890726374476697}, {\"Player\": \"Jason Richardson\", \"Regular Season Attempts\": 1130, \"Regular Season Makes\": 817, \"Regular Percentage\": 0.72, \"Playoff Attempts\": 105, \"Playoff Makes\": 76, \"Playoff Percentage\": 0.72, \"Change\": 0.0, \"All Star\": false, \"pred\": -0.0081627348663717}, {\"Player\": \"Chris Andersen\", \"Regular Season Attempts\": 1050, \"Regular Season Makes\": 716, \"Regular Percentage\": 0.68, \"Playoff Attempts\": 167, \"Playoff Makes\": 115, \"Playoff Percentage\": 0.69, \"Change\": 0.01, \"All Star\": false, \"pred\": -0.0071700296951780085}, {\"Player\": \"Serge Ibaka\", \"Regular Season Attempts\": 1015, \"Regular Season Makes\": 756, \"Regular Percentage\": 0.74, \"Playoff Attempts\": 164, \"Playoff Makes\": 126, \"Playoff Percentage\": 0.77, \"Change\": 0.03, \"All Star\": false, \"pred\": -0.008659087451968547}, {\"Player\": \"Kawhi Leonard\", \"Regular Season Attempts\": 919, \"Regular Season Makes\": 760, \"Regular Percentage\": 0.83, \"Playoff Attempts\": 223, \"Playoff Makes\": 166, \"Playoff Percentage\": 0.74, \"Change\": -0.09, \"All Star\": true, \"pred\": -0.010892674087154356}, {\"Player\": \"Boris Diaw\", \"Regular Season Attempts\": 1028, \"Regular Season Makes\": 741, \"Regular Percentage\": 0.72, \"Playoff Attempts\": 110, \"Playoff Makes\": 77, \"Playoff Percentage\": 0.7, \"Change\": -0.02, \"All Star\": false, \"pred\": -0.0081627348663717}, {\"Player\": \"Tiago Splitter\", \"Regular Season Attempts\": 942, \"Regular Season Makes\": 656, \"Regular Percentage\": 0.7, \"Playoff Attempts\": 169, \"Playoff Makes\": 98, \"Playoff Percentage\": 0.58, \"Change\": -0.12, \"All Star\": false, \"pred\": -0.007666382280774852}, {\"Player\": \"Klay Thompson\", \"Regular Season Attempts\": 909, \"Regular Season Makes\": 775, \"Regular Percentage\": 0.85, \"Playoff Attempts\": 171, \"Playoff Makes\": 142, \"Playoff Percentage\": 0.83, \"Change\": -0.02, \"All Star\": true, \"pred\": -0.011389026672751204}, {\"Player\": \"Draymond Green\", \"Regular Season Attempts\": 707, \"Regular Season Makes\": 488, \"Regular Percentage\": 0.69, \"Playoff Attempts\": 235, \"Playoff Makes\": 175, \"Playoff Percentage\": 0.74, \"Change\": 0.05, \"All Star\": true, \"pred\": -0.007418205987976429}, {\"Player\": \"Zydrunas Ilgauskas\", \"Regular Season Attempts\": 756, \"Regular Season Makes\": 600, \"Regular Percentage\": 0.79, \"Playoff Attempts\": 146, \"Playoff Makes\": 112, \"Playoff Percentage\": 0.77, \"Change\": -0.02, \"All Star\": true, \"pred\": -0.009899968915960665}, {\"Player\": \"Kenyon Martin\", \"Regular Season Attempts\": 775, \"Regular Season Makes\": 430, \"Regular Percentage\": 0.55, \"Playoff Attempts\": 108, \"Playoff Makes\": 67, \"Playoff Percentage\": 0.62, \"Change\": 0.07, \"All Star\": true, \"pred\": -0.0039437378887985045}, {\"Player\": \"Jason Kidd\", \"Regular Season Attempts\": 747, \"Regular Season Makes\": 607, \"Regular Percentage\": 0.81, \"Playoff Attempts\": 107, \"Playoff Makes\": 81, \"Playoff Percentage\": 0.76, \"Change\": -0.05, \"All Star\": true, \"pred\": -0.010396321501557513}, {\"Player\": \"Bradley Beal\", \"Regular Season Attempts\": 683, \"Regular Season Makes\": 532, \"Regular Percentage\": 0.78, \"Playoff Attempts\": 108, \"Playoff Makes\": 88, \"Playoff Percentage\": 0.81, \"Change\": 0.03, \"All Star\": false, \"pred\": -0.009651792623162242}, {\"Player\": \"Harrison Barnes\", \"Regular Season Attempts\": 656, \"Regular Season Makes\": 484, \"Regular Percentage\": 0.74, \"Playoff Attempts\": 119, \"Playoff Makes\": 90, \"Playoff Percentage\": 0.76, \"Change\": 0.02, \"All Star\": false, \"pred\": -0.008659087451968547}, {\"Player\": \"Mickael Pietrus\", \"Regular Season Attempts\": 631, \"Regular Season Makes\": 418, \"Regular Percentage\": 0.66, \"Playoff Attempts\": 143, \"Playoff Makes\": 97, \"Playoff Percentage\": 0.68, \"Change\": 0.02, \"All Star\": false, \"pred\": -0.006673677109581161}, {\"Player\": \"Delonte West\", \"Regular Season Attempts\": 623, \"Regular Season Makes\": 515, \"Regular Percentage\": 0.83, \"Playoff Attempts\": 106, \"Playoff Makes\": 90, \"Playoff Percentage\": 0.85, \"Change\": 0.02, \"All Star\": false, \"pred\": -0.010892674087154356}, {\"Player\": \"Rasheed Wallace\", \"Regular Season Attempts\": 533, \"Regular Season Makes\": 411, \"Regular Percentage\": 0.77, \"Playoff Attempts\": 106, \"Playoff Makes\": 85, \"Playoff Percentage\": 0.8, \"Change\": 0.03, \"All Star\": true, \"pred\": -0.009403616330363818}]}}, {\"mode\": \"vega-lite\"});\n",
       "</script>"
      ],
      "text/plain": [
       "alt.LayerChart(...)"
      ]
     },
     "execution_count": 14,
     "metadata": {},
     "output_type": "execute_result"
    }
   ],
   "source": [
    "(c1+c2).properties(\n",
    "    title = \"Change in Percentage by Regular Season Percentage\",\n",
    "    width = 600\n",
    ")"
   ]
  },
  {
   "cell_type": "markdown",
   "metadata": {
    "cell_id": "1ac6da88-2e8e-42c9-8d42-62d74e96f0d6",
    "deepnote_cell_height": 97.171875,
    "deepnote_cell_type": "markdown",
    "tags": []
   },
   "source": [
    "From the above graph, it seems that there is not much of a linear relationship between regular season percentage and the change that occurs in the playoffs. Checking the score below confirms that linear regression is not a great predictor for change in playoff percentage."
   ]
  },
  {
   "cell_type": "code",
   "execution_count": null,
   "metadata": {
    "cell_id": "5715a947-5026-4ef3-a26f-88d39ba9bda2",
    "deepnote_cell_height": 118.1875,
    "deepnote_cell_type": "code",
    "deepnote_output_heights": [
     21.1875
    ],
    "deepnote_to_be_reexecuted": false,
    "execution_millis": 41,
    "execution_start": 1647284222482,
    "source_hash": "6c8579de",
    "tags": []
   },
   "outputs": [
    {
     "data": {
      "text/plain": [
       "0.03622750339721614"
      ]
     },
     "execution_count": 15,
     "metadata": {},
     "output_type": "execute_result"
    }
   ],
   "source": [
    "reg.score(X_test,y_test,sample_weight=None)"
   ]
  },
  {
   "cell_type": "markdown",
   "metadata": {
    "cell_id": "ea352919-f376-4c47-bef2-26809e5bf5ad",
    "deepnote_cell_height": 192.34375,
    "deepnote_cell_type": "markdown",
    "tags": []
   },
   "source": [
    "Thus while there may be some correlation between regular season percentage and the change that occurs in the playoffs, the correlation is not strong enough to suggest a causal relationship. From here, we will then try to answer 2 follow up questions:\n",
    "\n",
    "1.) Are players who were at some point selected as all-stars(and thus are more likely to have their team depend on them to perform well in the playoffs) more or less consistent with their regular season percentage in the playoffs?\n",
    "\n",
    "2.) Can we accurately predict the change that will occur in playoff percentage based on a player's regular season percentage and all-star status?"
   ]
  },
  {
   "cell_type": "code",
   "execution_count": null,
   "metadata": {
    "cell_id": "3e81f998-cff0-4f75-805c-431ef98cc7d5",
    "deepnote_cell_height": 193.75,
    "deepnote_cell_type": "code",
    "deepnote_output_heights": [
     78.75
    ],
    "deepnote_to_be_reexecuted": false,
    "execution_millis": 40,
    "execution_start": 1647284222483,
    "source_hash": "93671a38",
    "tags": []
   },
   "outputs": [
    {
     "data": {
      "text/plain": [
       "All Star\n",
       "False   -0.010227\n",
       "True    -0.008657\n",
       "Name: Change, dtype: float64"
      ]
     },
     "execution_count": 16,
     "metadata": {},
     "output_type": "execute_result"
    }
   ],
   "source": [
    "change_by_starstatus = main_df.groupby('All Star').mean()[\"Change\"] \n",
    "change_by_starstatus #Average change from regular season to playoffs for non-all-stars and all-stars"
   ]
  },
  {
   "cell_type": "markdown",
   "metadata": {
    "cell_id": "f0ad250b-a248-43e6-a55d-72dfa0170289",
    "deepnote_cell_height": 74.78125,
    "deepnote_cell_type": "markdown",
    "tags": []
   },
   "source": [
    "It appears that on average, non-all-stars face a decrease of approximately 1.02% in their playoff free throw percentage, while all-stars decrease about 0.87%."
   ]
  },
  {
   "cell_type": "code",
   "execution_count": null,
   "metadata": {
    "cell_id": "b81e8ed3-fbd9-4609-9262-de4fa1eb4dff",
    "deepnote_cell_height": 134.1875,
    "deepnote_cell_type": "code",
    "deepnote_to_be_reexecuted": false,
    "execution_millis": 39,
    "execution_start": 1647284222484,
    "source_hash": "32650241",
    "tags": []
   },
   "outputs": [
    {
     "name": "stdout",
     "output_type": "stream",
     "text": [
      "The free throw percentage of All-Stars changes 18.14% less than that of non-All-Stars when going from the regular season to the playoffs\n"
     ]
    }
   ],
   "source": [
    "increase = (100*(abs(change_by_starstatus[1]-change_by_starstatus[0]))/abs(change_by_starstatus[1])).round(2)\n",
    "print(f\"The free throw percentage of All-Stars changes {increase}% less than that of non-All-Stars when going from the regular season to the playoffs\")"
   ]
  },
  {
   "cell_type": "markdown",
   "metadata": {
    "cell_id": "87eaeec9-92e0-4738-aed7-4c2c5da7b19e",
    "deepnote_cell_height": 97.171875,
    "deepnote_cell_type": "markdown",
    "tags": []
   },
   "source": [
    "From the above, it appears that all-stars are slightly more stable in terms of maintaining their free throw percentage than non-all-stars, with about 18% less variation. Now let's look at the second question. We will use a K-nearest neighbors regressor to try to predict the change. First, we need to scale the input variables so that one is not considered more severely than the other."
   ]
  },
  {
   "cell_type": "code",
   "execution_count": null,
   "metadata": {
    "cell_id": "dd74622c-c798-4aa6-a93a-718f1c82ec84",
    "deepnote_cell_height": 81,
    "deepnote_cell_type": "code",
    "deepnote_to_be_reexecuted": false,
    "execution_millis": 0,
    "execution_start": 1647284222485,
    "source_hash": "7cca9395",
    "tags": []
   },
   "outputs": [],
   "source": [
    "var_cols = [\"Regular Percentage\", \"All Star\"]"
   ]
  },
  {
   "cell_type": "code",
   "execution_count": null,
   "metadata": {
    "cell_id": "036b6461-c8e7-4192-b4b5-c45ae62fa5d2",
    "deepnote_cell_height": 81,
    "deepnote_cell_type": "code",
    "deepnote_to_be_reexecuted": false,
    "execution_millis": 1,
    "execution_start": 1647284222486,
    "source_hash": "a2b610a6",
    "tags": []
   },
   "outputs": [],
   "source": [
    "scaler = StandardScaler()"
   ]
  },
  {
   "cell_type": "code",
   "execution_count": null,
   "metadata": {
    "cell_id": "84eb9f06-216b-481d-a5df-f17a44f632cc",
    "deepnote_cell_height": 118.1875,
    "deepnote_cell_type": "code",
    "deepnote_output_heights": [
     21.1875
    ],
    "deepnote_to_be_reexecuted": false,
    "execution_millis": 35,
    "execution_start": 1647284222488,
    "source_hash": "14a786ea",
    "tags": []
   },
   "outputs": [
    {
     "data": {
      "text/plain": [
       "StandardScaler()"
      ]
     },
     "execution_count": 20,
     "metadata": {},
     "output_type": "execute_result"
    }
   ],
   "source": [
    "scaler.fit(main_df[var_cols])"
   ]
  },
  {
   "cell_type": "code",
   "execution_count": null,
   "metadata": {
    "cell_id": "54d24c6a-2e5d-4811-ab7f-a9d4379c8333",
    "deepnote_cell_height": 81,
    "deepnote_cell_type": "code",
    "deepnote_to_be_reexecuted": false,
    "execution_millis": 0,
    "execution_start": 1647284222489,
    "source_hash": "d8ae7f42",
    "tags": []
   },
   "outputs": [],
   "source": [
    "X_scaled = scaler.transform(main_df[var_cols])"
   ]
  },
  {
   "cell_type": "markdown",
   "metadata": {
    "cell_id": "0ca60482-89d9-4fca-ae8d-28fb19baddea",
    "deepnote_cell_height": 74.78125,
    "deepnote_cell_type": "markdown",
    "tags": []
   },
   "source": [
    "Below we set up a test, then try to determine the optimal number of neighbors to use to obtain the best possible predictions without overfitting."
   ]
  },
  {
   "cell_type": "code",
   "execution_count": null,
   "metadata": {
    "cell_id": "b6c5cc8d-20f8-47f2-abd7-d94288079c50",
    "deepnote_cell_height": 81,
    "deepnote_cell_type": "code",
    "deepnote_to_be_reexecuted": false,
    "execution_millis": 1,
    "execution_start": 1647284222490,
    "source_hash": "fbead8ea",
    "tags": []
   },
   "outputs": [],
   "source": [
    "X_train, X_test, y_train, y_test = train_test_split(X_scaled, main_df[\"Change\"], test_size = 0.2)"
   ]
  },
  {
   "cell_type": "code",
   "execution_count": null,
   "metadata": {
    "cell_id": "320e16f2-7871-4602-8ba2-bf75c434dc8c",
    "deepnote_cell_height": 171,
    "deepnote_cell_type": "code",
    "deepnote_to_be_reexecuted": false,
    "execution_millis": 1,
    "execution_start": 1647284222492,
    "source_hash": "f03cdf9e",
    "tags": []
   },
   "outputs": [],
   "source": [
    "def get_scores(k):\n",
    "    clf = KNeighborsRegressor(n_neighbors=k)\n",
    "    clf.fit(X_train, y_train)\n",
    "    train_error = mean_absolute_error(clf.predict(X_train), y_train)\n",
    "    test_error = mean_absolute_error(clf.predict(X_test), y_test)\n",
    "    return (train_error, test_error)"
   ]
  },
  {
   "cell_type": "code",
   "execution_count": null,
   "metadata": {
    "cell_id": "e73f46ea-3584-4530-ae80-8af52bf9ec17",
    "deepnote_cell_height": 81,
    "deepnote_cell_type": "code",
    "deepnote_table_loading": false,
    "deepnote_table_state": {
     "filters": [],
     "pageIndex": 0,
     "pageSize": 10,
     "sortBy": []
    },
    "deepnote_to_be_reexecuted": false,
    "execution_millis": 80,
    "execution_start": 1647284222493,
    "source_hash": "289681b4",
    "tags": []
   },
   "outputs": [],
   "source": [
    "error_df = pd.DataFrame({\"K-inverse\":[1/k for k in range(1,20)],\"Training Error\":[get_scores(k)[0] for k in range(1,20)],\"Test Error\":[get_scores(k)[1] for k in range(1,20)]})"
   ]
  },
  {
   "cell_type": "code",
   "execution_count": null,
   "metadata": {
    "cell_id": "0e731c7b-f2de-4c69-b935-91346def472a",
    "deepnote_cell_height": 135,
    "deepnote_cell_type": "code",
    "deepnote_to_be_reexecuted": false,
    "execution_millis": 9,
    "execution_start": 1647284222573,
    "source_hash": "b5a48a9f",
    "tags": []
   },
   "outputs": [],
   "source": [
    "e1 = alt.Chart(error_df).mark_line(color=\"Blue\").encode(\n",
    "    x = \"K-inverse\",\n",
    "    y = \"Training Error\"\n",
    ")"
   ]
  },
  {
   "cell_type": "code",
   "execution_count": null,
   "metadata": {
    "cell_id": "abe8b646-0c3f-4423-b493-ba5ed218cf54",
    "deepnote_cell_height": 135,
    "deepnote_cell_type": "code",
    "deepnote_to_be_reexecuted": false,
    "execution_millis": 34,
    "execution_start": 1647284222582,
    "source_hash": "d300c3",
    "tags": []
   },
   "outputs": [],
   "source": [
    "e2 = alt.Chart(error_df).mark_line(color=\"Orange\").encode(\n",
    "    x = \"K-inverse\",\n",
    "    y = \"Test Error\"\n",
    ")"
   ]
  },
  {
   "cell_type": "code",
   "execution_count": null,
   "metadata": {
    "cell_id": "982a709e-4033-482d-b829-89cee4005924",
    "deepnote_cell_height": 529,
    "deepnote_cell_type": "code",
    "deepnote_output_heights": [
     378
    ],
    "deepnote_to_be_reexecuted": false,
    "execution_millis": 78,
    "execution_start": 1647284222639,
    "source_hash": "db563cc6",
    "tags": []
   },
   "outputs": [
    {
     "data": {
      "text/html": [
       "\n",
       "<div id=\"altair-viz-dbf9c25b34744ff6921dc6c81764ce98\"></div>\n",
       "<script type=\"text/javascript\">\n",
       "  (function(spec, embedOpt){\n",
       "    let outputDiv = document.currentScript.previousElementSibling;\n",
       "    if (outputDiv.id !== \"altair-viz-dbf9c25b34744ff6921dc6c81764ce98\") {\n",
       "      outputDiv = document.getElementById(\"altair-viz-dbf9c25b34744ff6921dc6c81764ce98\");\n",
       "    }\n",
       "    const paths = {\n",
       "      \"vega\": \"https://cdn.jsdelivr.net/npm//vega@5?noext\",\n",
       "      \"vega-lib\": \"https://cdn.jsdelivr.net/npm//vega-lib?noext\",\n",
       "      \"vega-lite\": \"https://cdn.jsdelivr.net/npm//vega-lite@4.8.1?noext\",\n",
       "      \"vega-embed\": \"https://cdn.jsdelivr.net/npm//vega-embed@6?noext\",\n",
       "    };\n",
       "\n",
       "    function loadScript(lib) {\n",
       "      return new Promise(function(resolve, reject) {\n",
       "        var s = document.createElement('script');\n",
       "        s.src = paths[lib];\n",
       "        s.async = true;\n",
       "        s.onload = () => resolve(paths[lib]);\n",
       "        s.onerror = () => reject(`Error loading script: ${paths[lib]}`);\n",
       "        document.getElementsByTagName(\"head\")[0].appendChild(s);\n",
       "      });\n",
       "    }\n",
       "\n",
       "    function showError(err) {\n",
       "      outputDiv.innerHTML = `<div class=\"error\" style=\"color:red;\">${err}</div>`;\n",
       "      throw err;\n",
       "    }\n",
       "\n",
       "    function displayChart(vegaEmbed) {\n",
       "      vegaEmbed(outputDiv, spec, embedOpt)\n",
       "        .catch(err => showError(`Javascript Error: ${err.message}<br>This usually means there's a typo in your chart specification. See the javascript console for the full traceback.`));\n",
       "    }\n",
       "\n",
       "    if(typeof define === \"function\" && define.amd) {\n",
       "      requirejs.config({paths});\n",
       "      require([\"vega-embed\"], displayChart, err => showError(`Error loading script: ${err.message}`));\n",
       "    } else if (typeof vegaEmbed === \"function\") {\n",
       "      displayChart(vegaEmbed);\n",
       "    } else {\n",
       "      loadScript(\"vega\")\n",
       "        .then(() => loadScript(\"vega-lite\"))\n",
       "        .then(() => loadScript(\"vega-embed\"))\n",
       "        .catch(showError)\n",
       "        .then(() => displayChart(vegaEmbed));\n",
       "    }\n",
       "  })({\"config\": {\"view\": {\"continuousWidth\": 400, \"continuousHeight\": 300}}, \"layer\": [{\"mark\": {\"type\": \"line\", \"color\": \"Blue\"}, \"encoding\": {\"x\": {\"type\": \"quantitative\", \"field\": \"K-inverse\"}, \"y\": {\"type\": \"quantitative\", \"field\": \"Training Error\"}}}, {\"mark\": {\"type\": \"line\", \"color\": \"Orange\"}, \"encoding\": {\"x\": {\"type\": \"quantitative\", \"field\": \"K-inverse\"}, \"y\": {\"type\": \"quantitative\", \"field\": \"Test Error\"}}}], \"data\": {\"name\": \"data-c4b7fece0cced120e34fe3782e0c08b9\"}, \"title\": \"Training and test error by number of Neighbors\", \"width\": 500, \"$schema\": \"https://vega.github.io/schema/vega-lite/v4.8.1.json\", \"datasets\": {\"data-c4b7fece0cced120e34fe3782e0c08b9\": [{\"K-inverse\": 1.0, \"Training Error\": 0.020113636363636365, \"Test Error\": 0.04739130434782609}, {\"K-inverse\": 0.5, \"Training Error\": 0.02596590909090909, \"Test Error\": 0.042608695652173914}, {\"K-inverse\": 0.3333333333333333, \"Training Error\": 0.025795454545454545, \"Test Error\": 0.04043478260869565}, {\"K-inverse\": 0.25, \"Training Error\": 0.02690340909090909, \"Test Error\": 0.036521739130434785}, {\"K-inverse\": 0.2, \"Training Error\": 0.02677272727272727, \"Test Error\": 0.03626086956521739}, {\"K-inverse\": 0.16666666666666666, \"Training Error\": 0.02738636363636364, \"Test Error\": 0.0336231884057971}, {\"K-inverse\": 0.14285714285714285, \"Training Error\": 0.026801948051948053, \"Test Error\": 0.03254658385093167}, {\"K-inverse\": 0.125, \"Training Error\": 0.02715909090909091, \"Test Error\": 0.03206521739130434}, {\"K-inverse\": 0.1111111111111111, \"Training Error\": 0.026982323232323233, \"Test Error\": 0.03198067632850241}, {\"K-inverse\": 0.1, \"Training Error\": 0.027704545454545457, \"Test Error\": 0.03191304347826087}, {\"K-inverse\": 0.09090909090909091, \"Training Error\": 0.028037190082644627, \"Test Error\": 0.03098814229249012}, {\"K-inverse\": 0.08333333333333333, \"Training Error\": 0.028626893939393938, \"Test Error\": 0.0316304347826087}, {\"K-inverse\": 0.07692307692307693, \"Training Error\": 0.028889860139860137, \"Test Error\": 0.030535117056856187}, {\"K-inverse\": 0.07142857142857142, \"Training Error\": 0.029253246753246753, \"Test Error\": 0.029689440993788823}, {\"K-inverse\": 0.06666666666666667, \"Training Error\": 0.029068181818181816, \"Test Error\": 0.029217391304347827}, {\"K-inverse\": 0.0625, \"Training Error\": 0.028948863636363634, \"Test Error\": 0.029157608695652176}, {\"K-inverse\": 0.058823529411764705, \"Training Error\": 0.02927139037433155, \"Test Error\": 0.02920716112531969}, {\"K-inverse\": 0.05555555555555555, \"Training Error\": 0.029059343434343434, \"Test Error\": 0.02830917874396135}, {\"K-inverse\": 0.05263157894736842, \"Training Error\": 0.029288277511961724, \"Test Error\": 0.02807780320366133}]}}, {\"mode\": \"vega-lite\"});\n",
       "</script>"
      ],
      "text/plain": [
       "alt.LayerChart(...)"
      ]
     },
     "execution_count": 27,
     "metadata": {},
     "output_type": "execute_result"
    }
   ],
   "source": [
    "(e1+e2).properties(\n",
    "    title = \"Training and test error by number of Neighbors\",\n",
    "    width = 500\n",
    ")"
   ]
  },
  {
   "cell_type": "markdown",
   "metadata": {
    "cell_id": "fd087b2c-40a1-427c-b516-69125ddd0ec6",
    "deepnote_cell_height": 119.5625,
    "deepnote_cell_type": "markdown",
    "tags": []
   },
   "source": [
    "Based on the above, we want to avoid lower k values for our classifer as these tend to cause overfitting. This is seen on the right-hand-side of the graph, where a low k-value will lead to a high value for 1/k. Here, we see that the training error(blue line) is low, while the test error(orange line) is high, suggesting overfitting. Thus we will want a k-value of at least 10(where K-inverse=0.1) to avoid this problem and minimize overfitting."
   ]
  },
  {
   "cell_type": "code",
   "execution_count": null,
   "metadata": {
    "cell_id": "c0ef014a-6b84-4f88-b6ed-840cdf8e656e",
    "deepnote_cell_height": 153,
    "deepnote_cell_type": "code",
    "deepnote_to_be_reexecuted": false,
    "execution_millis": 0,
    "execution_start": 1647284222673,
    "source_hash": "39bab77d",
    "tags": []
   },
   "outputs": [],
   "source": [
    "def score(n):\n",
    "    clf2 = KNeighborsRegressor(n_neighbors=n)\n",
    "    clf2.fit(X_train, y_train)\n",
    "    print(clf2.score(X_scaled,main_df[\"Change\"]))\n"
   ]
  },
  {
   "cell_type": "code",
   "execution_count": null,
   "metadata": {
    "cell_id": "c23b8533-403a-4749-917c-36f0a220c194",
    "deepnote_cell_height": 1070,
    "deepnote_cell_type": "code",
    "deepnote_output_heights": [
     null,
     462.5
    ],
    "deepnote_to_be_reexecuted": false,
    "execution_millis": 106,
    "execution_start": 1647284222718,
    "source_hash": "6dc75e96",
    "tags": []
   },
   "outputs": [
    {
     "name": "stdout",
     "output_type": "stream",
     "text": [
      "-0.291718600191754\n",
      "-0.031479206615532274\n",
      "-0.014573346116970365\n",
      "-0.005247408317353708\n",
      "0.025450862895493698\n",
      "0.01931228028123977\n",
      "0.030959922319838906\n",
      "0.03225034455896425\n",
      "0.0100371524448708\n",
      "-0.00047662991371000274\n",
      "-0.008002484093088347\n",
      "-0.017972994566954448\n",
      "-0.023313425088076656\n",
      "-0.020046116481108545\n",
      "0.0004058005752635152\n",
      "0.011955517250419323\n",
      "-0.007930299044213163\n",
      "0.011344867458541796\n",
      "0.0039943111045007695\n",
      "0.0005227558724834047\n",
      "0.007320751886564891\n",
      "0.0015322288297425768\n",
      "0.002006750829637083\n",
      "-0.00316997368368499\n"
     ]
    },
    {
     "data": {
      "text/plain": [
       "[None,\n",
       " None,\n",
       " None,\n",
       " None,\n",
       " None,\n",
       " None,\n",
       " None,\n",
       " None,\n",
       " None,\n",
       " None,\n",
       " None,\n",
       " None,\n",
       " None,\n",
       " None,\n",
       " None,\n",
       " None,\n",
       " None,\n",
       " None,\n",
       " None,\n",
       " None,\n",
       " None,\n",
       " None,\n",
       " None,\n",
       " None]"
      ]
     },
     "execution_count": 29,
     "metadata": {},
     "output_type": "execute_result"
    }
   ],
   "source": [
    "[score(i) for i in range(1,25)]"
   ]
  },
  {
   "cell_type": "markdown",
   "metadata": {
    "cell_id": "cf40f60a-978d-4922-9bd9-d8549d200e9a",
    "deepnote_cell_height": 119.5625,
    "deepnote_cell_type": "markdown",
    "tags": []
   },
   "source": [
    "Looking at this list, we see that all of the scores for k>9 are less than .2, indicating that either k-nearest neighbors may not be the best predictor for change in free throw percentages due to the playoffs, or that the combination of independent variables used(Regular Percentage and All-Star Status) are not sufficient to make prediction for our dependent variabel(Change in free throw percentage)."
   ]
  },
  {
   "cell_type": "markdown",
   "metadata": {
    "cell_id": "75922aa8-c6e1-46d5-9c85-550df5b37982",
    "deepnote_cell_height": 301.515625,
    "deepnote_cell_type": "markdown",
    "tags": []
   },
   "source": [
    "## Summary\n",
    "\n",
    "The results from this examination of NBA free throw data demonstrated a minor dropoff in free throw percentage during the playoffs. The dropoff was slightly less for All-Star caliber players than for non-all-stars. There did not seem to be any strong linear correlation between regular season free throw percentage and the amount that the player's percentage would drop in the playoffs, although there was a slightly higher dropoff corresponding to players with higher regular season percentages. Finally, we found that k-nearest neighbors could not be successfully used to predict the change that would occur based on whether a player's regular season percentage and their all-star status.\n",
    "\n",
    "While the results of this investigation did not yield any major insights, it did reflect the idea that there are many, many factors affecting a player's performance in game. While the datasets we used were thorough, it would be hard to fully account for any particular variable having a major impact on so many players"
   ]
  },
  {
   "cell_type": "markdown",
   "metadata": {
    "cell_id": "fc42153e-0b6d-4c37-9e06-ee471cfb0534",
    "deepnote_cell_height": 144.78125,
    "deepnote_cell_type": "markdown",
    "tags": []
   },
   "source": [
    "## References\n",
    "\n",
    "Free throw Dataset was found on Kaggle at https://www.kaggle.com/sebastianmantey/nba-free-throws/code\n",
    "\n",
    "All star dataset was found at https://www.kaggle.com/fmejia21/nba-all-star-game-20002016"
   ]
  },
  {
   "cell_type": "markdown",
   "metadata": {
    "created_in_deepnote_cell": true,
    "deepnote_cell_type": "markdown",
    "tags": []
   },
   "source": [
    "<a style='text-decoration:none;line-height:16px;display:flex;color:#5B5B62;padding:10px;justify-content:end;' href='https://deepnote.com?utm_source=created-in-deepnote-cell&projectId=85b93f6f-d194-4f67-a6f1-36edeb0b9a75' target=\"_blank\">\n",
    "<img alt='Created in deepnote.com' style='display:inline;max-height:16px;margin:0px;margin-right:7.5px;' src='data:image/svg+xml;base64,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' > </img>\n",
    "Created in <span style='font-weight:600;margin-left:4px;'>Deepnote</span></a>"
   ]
  }
 ],
 "metadata": {
  "deepnote": {
   "is_reactive": false
  },
  "deepnote_execution_queue": [],
  "deepnote_notebook_id": "97afb67d-06ce-4a63-bb3d-208672377dae",
  "kernelspec": {
   "display_name": "Python 3 (ipykernel)",
   "language": "python",
   "name": "python3"
  },
  "language_info": {
   "codemirror_mode": {
    "name": "ipython",
    "version": 3
   },
   "file_extension": ".py",
   "mimetype": "text/x-python",
   "name": "python",
   "nbconvert_exporter": "python",
   "pygments_lexer": "ipython3",
   "version": "3.8.12"
  }
 },
 "nbformat": 4,
 "nbformat_minor": 4
}