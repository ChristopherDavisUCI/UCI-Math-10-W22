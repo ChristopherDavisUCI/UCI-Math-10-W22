{
 "cells": [
  {
   "cell_type": "markdown",
   "metadata": {
    "cell_id": "098969f5-ac0d-4245-bbc2-f824edd4e15f",
    "deepnote_cell_height": 156.78125,
    "deepnote_cell_type": "markdown",
    "tags": []
   },
   "source": [
    "# Movie's Gross \n",
    "\n",
    "Author: Dana Albakri\n",
    "\n",
    "Course Project, UC Irvine, Math 10, W22"
   ]
  },
  {
   "cell_type": "markdown",
   "metadata": {
    "cell_id": "1232c27a-f5e2-426a-91e0-f6cfebd8a611",
    "deepnote_cell_height": 220.375,
    "deepnote_cell_type": "markdown",
    "tags": []
   },
   "source": [
    "## Introduction\n",
    "The main aspects we are going to explore in the Movies dataset would be the Rotten Tomatoes Ratings in respect to the highest gross. We will be using both the US Gross and the Worldwide Gross to get a better understanding of how popular these movies are in the world. After determining which of the Rotten Tomatoes Ratings movies have the biggest gross we will be able to see if the rating affects the gross for the US vs the World. \n",
    "\n",
    "\n"
   ]
  },
  {
   "cell_type": "markdown",
   "metadata": {
    "cell_id": "5100f2c6-6407-41f2-9bb2-1a62540d8662",
    "deepnote_cell_height": 70,
    "deepnote_cell_type": "markdown",
    "tags": []
   },
   "source": [
    "## Main portion of the project\n",
    "\n"
   ]
  },
  {
   "cell_type": "code",
   "execution_count": null,
   "metadata": {
    "cell_id": "e90964ec-efef-431e-a500-c9a4c3521ddb",
    "deepnote_cell_height": 207,
    "deepnote_cell_type": "code",
    "deepnote_to_be_reexecuted": false,
    "execution_millis": 973,
    "execution_start": 1647315318347,
    "source_hash": "17009630",
    "tags": []
   },
   "outputs": [],
   "source": [
    "import numpy as np\n",
    "import pandas as pd\n",
    "import vega_datasets\n",
    "import altair as alt\n",
    "from sklearn.neighbors import KNeighborsRegressor, KNeighborsClassifier\n",
    "from sklearn.model_selection import train_test_split\n",
    "from sklearn.metrics import mean_squared_error,mean_absolute_error,log_loss\n",
    "from sklearn.preprocessing import StandardScaler"
   ]
  },
  {
   "cell_type": "code",
   "execution_count": null,
   "metadata": {
    "cell_id": "8cd3b7fe-52a7-4fab-99b5-96887d6d1123",
    "deepnote_cell_height": 632.65625,
    "deepnote_cell_type": "code",
    "deepnote_to_be_reexecuted": false,
    "execution_millis": 112,
    "execution_start": 1647315319326,
    "source_hash": "e84efc90",
    "tags": []
   },
   "outputs": [
    {
     "data": {
      "application/vnd.deepnote.dataframe.v3+json": {
       "column_count": 17,
       "columns": [
        {
         "dtype": "int64",
         "name": "Unnamed: 0",
         "stats": {
          "histogram": [
           {
            "bin_end": 320,
            "bin_start": 0,
            "count": 320
           },
           {
            "bin_end": 640,
            "bin_start": 320,
            "count": 320
           },
           {
            "bin_end": 960,
            "bin_start": 640,
            "count": 320
           },
           {
            "bin_end": 1280,
            "bin_start": 960,
            "count": 320
           },
           {
            "bin_end": 1600,
            "bin_start": 1280,
            "count": 320
           },
           {
            "bin_end": 1920,
            "bin_start": 1600,
            "count": 320
           },
           {
            "bin_end": 2240,
            "bin_start": 1920,
            "count": 320
           },
           {
            "bin_end": 2560,
            "bin_start": 2240,
            "count": 320
           },
           {
            "bin_end": 2880,
            "bin_start": 2560,
            "count": 320
           },
           {
            "bin_end": 3200,
            "bin_start": 2880,
            "count": 321
           }
          ],
          "max": "3200",
          "min": "0",
          "nan_count": 0,
          "unique_count": 3201
         }
        },
        {
         "dtype": "object",
         "name": "Title",
         "stats": {
          "categories": [
           {
            "count": 2,
            "name": "20,000 Leagues Under the Sea"
           },
           {
            "count": 3198,
            "name": "3175 others"
           },
           {
            "count": 1,
            "name": "Missing"
           }
          ],
          "nan_count": 1,
          "unique_count": 3176
         }
        },
        {
         "dtype": "float64",
         "name": "US_Gross",
         "stats": {
          "histogram": [
           {
            "bin_end": 76016765,
            "bin_start": 0,
            "count": 2638
           },
           {
            "bin_end": 152033530,
            "bin_start": 76016765,
            "count": 366
           },
           {
            "bin_end": 228050295,
            "bin_start": 152033530,
            "count": 115
           },
           {
            "bin_end": 304067060,
            "bin_start": 228050295,
            "count": 41
           },
           {
            "bin_end": 380083825,
            "bin_start": 304067060,
            "count": 22
           },
           {
            "bin_end": 456100590,
            "bin_start": 380083825,
            "count": 8
           },
           {
            "bin_end": 532117355,
            "bin_start": 456100590,
            "count": 1
           },
           {
            "bin_end": 608134120,
            "bin_start": 532117355,
            "count": 2
           },
           {
            "bin_end": 684150885,
            "bin_start": 608134120,
            "count": 0
           },
           {
            "bin_end": 760167650,
            "bin_start": 684150885,
            "count": 1
           }
          ],
          "max": "760167650.0",
          "min": "0.0",
          "nan_count": 7,
          "unique_count": 3060
         }
        },
        {
         "dtype": "float64",
         "name": "Worldwide_Gross",
         "stats": {
          "histogram": [
           {
            "bin_end": 276789149.9,
            "bin_start": 0,
            "count": 2948
           },
           {
            "bin_end": 553578299.8,
            "bin_start": 276789149.9,
            "count": 183
           },
           {
            "bin_end": 830367449.6999999,
            "bin_start": 553578299.8,
            "count": 40
           },
           {
            "bin_end": 1107156599.6,
            "bin_start": 830367449.6999999,
            "count": 20
           },
           {
            "bin_end": 1383945749.5,
            "bin_start": 1107156599.6,
            "count": 1
           },
           {
            "bin_end": 1660734899.3999999,
            "bin_start": 1383945749.5,
            "count": 0
           },
           {
            "bin_end": 1937524049.2999997,
            "bin_start": 1660734899.3999999,
            "count": 1
           },
           {
            "bin_end": 2214313199.2,
            "bin_start": 1937524049.2999997,
            "count": 0
           },
           {
            "bin_end": 2491102349.1,
            "bin_start": 2214313199.2,
            "count": 0
           },
           {
            "bin_end": 2767891499,
            "bin_start": 2491102349.1,
            "count": 1
           }
          ],
          "max": "2767891499.0",
          "min": "0.0",
          "nan_count": 7,
          "unique_count": 3074
         }
        },
        {
         "dtype": "float64",
         "name": "US_DVD_Sales",
         "stats": {
          "histogram": [
           {
            "bin_end": 35814813.9,
            "bin_start": 618454,
            "count": 414
           },
           {
            "bin_end": 71011173.8,
            "bin_start": 35814813.9,
            "count": 80
           },
           {
            "bin_end": 106207533.69999999,
            "bin_start": 71011173.8,
            "count": 36
           },
           {
            "bin_end": 141403893.6,
            "bin_start": 106207533.69999999,
            "count": 12
           },
           {
            "bin_end": 176600253.5,
            "bin_start": 141403893.6,
            "count": 8
           },
           {
            "bin_end": 211796613.39999998,
            "bin_start": 176600253.5,
            "count": 4
           },
           {
            "bin_end": 246992973.29999998,
            "bin_start": 211796613.39999998,
            "count": 5
           },
           {
            "bin_end": 282189333.2,
            "bin_start": 246992973.29999998,
            "count": 1
           },
           {
            "bin_end": 317385693.09999996,
            "bin_start": 282189333.2,
            "count": 2
           },
           {
            "bin_end": 352582053,
            "bin_start": 317385693.09999996,
            "count": 2
           }
          ],
          "max": "352582053.0",
          "min": "618454.0",
          "nan_count": 2637,
          "unique_count": 564
         }
        },
        {
         "dtype": "float64",
         "name": "Production_Budget",
         "stats": {
          "histogram": [
           {
            "bin_end": 30000196.2,
            "bin_start": 218,
            "count": 2118
           },
           {
            "bin_end": 60000174.4,
            "bin_start": 30000196.2,
            "count": 623
           },
           {
            "bin_end": 90000152.6,
            "bin_start": 60000174.4,
            "count": 272
           },
           {
            "bin_end": 120000130.8,
            "bin_start": 90000152.6,
            "count": 87
           },
           {
            "bin_end": 150000109,
            "bin_start": 120000130.8,
            "count": 53
           },
           {
            "bin_end": 180000087.2,
            "bin_start": 150000109,
            "count": 24
           },
           {
            "bin_end": 210000065.4,
            "bin_start": 180000087.2,
            "count": 15
           },
           {
            "bin_end": 240000043.6,
            "bin_start": 210000065.4,
            "count": 5
           },
           {
            "bin_end": 270000021.8,
            "bin_start": 240000043.6,
            "count": 2
           },
           {
            "bin_end": 300000000,
            "bin_start": 270000021.8,
            "count": 1
           }
          ],
          "max": "300000000.0",
          "min": "218.0",
          "nan_count": 1,
          "unique_count": 381
         }
        },
        {
         "dtype": "object",
         "name": "Release_Date",
         "stats": {
          "categories": [
           {
            "count": 9,
            "name": "Oct 11 2002"
           },
           {
            "count": 8,
            "name": "Sep 16 2005"
           },
           {
            "count": 3184,
            "name": "1598 others"
           }
          ],
          "nan_count": 0,
          "unique_count": 1600
         }
        },
        {
         "dtype": "object",
         "name": "MPAA_Rating",
         "stats": {
          "categories": [
           {
            "count": 1194,
            "name": "R"
           },
           {
            "count": 1402,
            "name": "6 others"
           },
           {
            "count": 605,
            "name": "Missing"
           }
          ],
          "nan_count": 605,
          "unique_count": 7
         }
        },
        {
         "dtype": "float64",
         "name": "Running_Time_min",
         "stats": {
          "histogram": [
           {
            "bin_end": 63.6,
            "bin_start": 46,
            "count": 1
           },
           {
            "bin_end": 81.2,
            "bin_start": 63.6,
            "count": 32
           },
           {
            "bin_end": 98.80000000000001,
            "bin_start": 81.2,
            "count": 361
           },
           {
            "bin_end": 116.4,
            "bin_start": 98.80000000000001,
            "count": 411
           },
           {
            "bin_end": 134,
            "bin_start": 116.4,
            "count": 259
           },
           {
            "bin_end": 151.60000000000002,
            "bin_start": 134,
            "count": 96
           },
           {
            "bin_end": 169.20000000000002,
            "bin_start": 151.60000000000002,
            "count": 35
           },
           {
            "bin_end": 186.8,
            "bin_start": 169.20000000000002,
            "count": 7
           },
           {
            "bin_end": 204.4,
            "bin_start": 186.8,
            "count": 6
           },
           {
            "bin_end": 222,
            "bin_start": 204.4,
            "count": 1
           }
          ],
          "max": "222.0",
          "min": "46.0",
          "nan_count": 1992,
          "unique_count": 109
         }
        },
        {
         "dtype": "object",
         "name": "Distributor",
         "stats": {
          "categories": [
           {
            "count": 318,
            "name": "Warner Bros."
           },
           {
            "count": 2651,
            "name": "173 others"
           },
           {
            "count": 232,
            "name": "Missing"
           }
          ],
          "nan_count": 232,
          "unique_count": 174
         }
        },
        {
         "dtype": "object",
         "name": "Source",
         "stats": {
          "categories": [
           {
            "count": 1536,
            "name": "Original Screenplay"
           },
           {
            "count": 1300,
            "name": "17 others"
           },
           {
            "count": 365,
            "name": "Missing"
           }
          ],
          "nan_count": 365,
          "unique_count": 18
         }
        },
        {
         "dtype": "object",
         "name": "Major_Genre",
         "stats": {
          "categories": [
           {
            "count": 789,
            "name": "Drama"
           },
           {
            "count": 2137,
            "name": "11 others"
           },
           {
            "count": 275,
            "name": "Missing"
           }
          ],
          "nan_count": 275,
          "unique_count": 12
         }
        },
        {
         "dtype": "object",
         "name": "Creative_Type",
         "stats": {
          "categories": [
           {
            "count": 1453,
            "name": "Contemporary Fiction"
           },
           {
            "count": 1302,
            "name": "8 others"
           },
           {
            "count": 446,
            "name": "Missing"
           }
          ],
          "nan_count": 446,
          "unique_count": 9
         }
        },
        {
         "dtype": "object",
         "name": "Director",
         "stats": {
          "categories": [
           {
            "count": 23,
            "name": "Steven Spielberg"
           },
           {
            "count": 1847,
            "name": "549 others"
           },
           {
            "count": 1331,
            "name": "Missing"
           }
          ],
          "nan_count": 1331,
          "unique_count": 550
         }
        },
        {
         "dtype": "float64",
         "name": "Rotten_Tomatoes_Rating",
         "stats": {
          "histogram": [
           {
            "bin_end": 10.9,
            "bin_start": 1,
            "count": 133
           },
           {
            "bin_end": 20.8,
            "bin_start": 10.9,
            "count": 234
           },
           {
            "bin_end": 30.700000000000003,
            "bin_start": 20.8,
            "count": 235
           },
           {
            "bin_end": 40.6,
            "bin_start": 30.700000000000003,
            "count": 226
           },
           {
            "bin_end": 50.5,
            "bin_start": 40.6,
            "count": 224
           },
           {
            "bin_end": 60.400000000000006,
            "bin_start": 50.5,
            "count": 211
           },
           {
            "bin_end": 70.3,
            "bin_start": 60.400000000000006,
            "count": 244
           },
           {
            "bin_end": 80.2,
            "bin_start": 70.3,
            "count": 246
           },
           {
            "bin_end": 90.10000000000001,
            "bin_start": 80.2,
            "count": 309
           },
           {
            "bin_end": 100,
            "bin_start": 90.10000000000001,
            "count": 259
           }
          ],
          "max": "100.0",
          "min": "1.0",
          "nan_count": 880,
          "unique_count": 100
         }
        },
        {
         "dtype": "float64",
         "name": "IMDB_Rating",
         "stats": {
          "histogram": [
           {
            "bin_end": 2.1799999999999997,
            "bin_start": 1.4,
            "count": 9
           },
           {
            "bin_end": 2.96,
            "bin_start": 2.1799999999999997,
            "count": 39
           },
           {
            "bin_end": 3.7399999999999998,
            "bin_start": 2.96,
            "count": 76
           },
           {
            "bin_end": 4.52,
            "bin_start": 3.7399999999999998,
            "count": 133
           },
           {
            "bin_end": 5.299999999999999,
            "bin_start": 4.52,
            "count": 293
           },
           {
            "bin_end": 6.08,
            "bin_start": 5.299999999999999,
            "count": 599
           },
           {
            "bin_end": 6.859999999999999,
            "bin_start": 6.08,
            "count": 784
           },
           {
            "bin_end": 7.639999999999999,
            "bin_start": 6.859999999999999,
            "count": 684
           },
           {
            "bin_end": 8.42,
            "bin_start": 7.639999999999999,
            "count": 323
           },
           {
            "bin_end": 9.2,
            "bin_start": 8.42,
            "count": 48
           }
          ],
          "max": "9.2",
          "min": "1.4",
          "nan_count": 213,
          "unique_count": 77
         }
        },
        {
         "dtype": "float64",
         "name": "IMDB_Votes",
         "stats": {
          "histogram": [
           {
            "bin_end": 51970.3,
            "bin_start": 18,
            "count": 2489
           },
           {
            "bin_end": 103922.6,
            "bin_start": 51970.3,
            "count": 337
           },
           {
            "bin_end": 155874.90000000002,
            "bin_start": 103922.6,
            "count": 88
           },
           {
            "bin_end": 207827.2,
            "bin_start": 155874.90000000002,
            "count": 36
           },
           {
            "bin_end": 259779.5,
            "bin_start": 207827.2,
            "count": 18
           },
           {
            "bin_end": 311731.80000000005,
            "bin_start": 259779.5,
            "count": 11
           },
           {
            "bin_end": 363684.10000000003,
            "bin_start": 311731.80000000005,
            "count": 1
           },
           {
            "bin_end": 415636.4,
            "bin_start": 363684.10000000003,
            "count": 5
           },
           {
            "bin_end": 467588.7,
            "bin_start": 415636.4,
            "count": 2
           },
           {
            "bin_end": 519541,
            "bin_start": 467588.7,
            "count": 1
           }
          ],
          "max": "519541.0",
          "min": "18.0",
          "nan_count": 213,
          "unique_count": 2839
         }
        },
        {
         "dtype": "int64",
         "name": "_deepnote_index_column"
        }
       ],
       "row_count": 3201,
       "rows": [
        {
         "Creative_Type": "nan",
         "Director": "nan",
         "Distributor": "Gramercy",
         "IMDB_Rating": 6.1,
         "IMDB_Votes": 1071,
         "MPAA_Rating": "R",
         "Major_Genre": "nan",
         "Production_Budget": 8000000,
         "Release_Date": "Jun 12 1998",
         "Rotten_Tomatoes_Rating": "nan",
         "Running_Time_min": "nan",
         "Source": "nan",
         "Title": "The Land Girls",
         "US_DVD_Sales": "nan",
         "US_Gross": 146083,
         "Unnamed: 0": 0,
         "Worldwide_Gross": 146083,
         "_deepnote_index_column": 0
        },
        {
         "Creative_Type": "nan",
         "Director": "nan",
         "Distributor": "Strand",
         "IMDB_Rating": 6.9,
         "IMDB_Votes": 207,
         "MPAA_Rating": "R",
         "Major_Genre": "Drama",
         "Production_Budget": 300000,
         "Release_Date": "Aug 07 1998",
         "Rotten_Tomatoes_Rating": "nan",
         "Running_Time_min": "nan",
         "Source": "nan",
         "Title": "First Love, Last Rites",
         "US_DVD_Sales": "nan",
         "US_Gross": 10876,
         "Unnamed: 0": 1,
         "Worldwide_Gross": 10876,
         "_deepnote_index_column": 1
        },
        {
         "Creative_Type": "nan",
         "Director": "nan",
         "Distributor": "Lionsgate",
         "IMDB_Rating": 6.8,
         "IMDB_Votes": 865,
         "MPAA_Rating": "nan",
         "Major_Genre": "Comedy",
         "Production_Budget": 250000,
         "Release_Date": "Aug 28 1998",
         "Rotten_Tomatoes_Rating": "nan",
         "Running_Time_min": "nan",
         "Source": "nan",
         "Title": "I Married a Strange Person",
         "US_DVD_Sales": "nan",
         "US_Gross": 203134,
         "Unnamed: 0": 2,
         "Worldwide_Gross": 203134,
         "_deepnote_index_column": 2
        },
        {
         "Creative_Type": "nan",
         "Director": "nan",
         "Distributor": "Fine Line",
         "IMDB_Rating": "nan",
         "IMDB_Votes": "nan",
         "MPAA_Rating": "nan",
         "Major_Genre": "Comedy",
         "Production_Budget": 300000,
         "Release_Date": "Sep 11 1998",
         "Rotten_Tomatoes_Rating": 13,
         "Running_Time_min": "nan",
         "Source": "nan",
         "Title": "Let's Talk About Sex",
         "US_DVD_Sales": "nan",
         "US_Gross": 373615,
         "Unnamed: 0": 3,
         "Worldwide_Gross": 373615,
         "_deepnote_index_column": 3
        },
        {
         "Creative_Type": "Contemporary Fiction",
         "Director": "nan",
         "Distributor": "Trimark",
         "IMDB_Rating": 3.4,
         "IMDB_Votes": 165,
         "MPAA_Rating": "R",
         "Major_Genre": "Drama",
         "Production_Budget": 1000000,
         "Release_Date": "Oct 09 1998",
         "Rotten_Tomatoes_Rating": 62,
         "Running_Time_min": "nan",
         "Source": "Original Screenplay",
         "Title": "Slam",
         "US_DVD_Sales": "nan",
         "US_Gross": 1009819,
         "Unnamed: 0": 4,
         "Worldwide_Gross": 1087521,
         "_deepnote_index_column": 4
        },
        {
         "Creative_Type": "nan",
         "Director": "nan",
         "Distributor": "MGM",
         "IMDB_Rating": "nan",
         "IMDB_Votes": "nan",
         "MPAA_Rating": "nan",
         "Major_Genre": "nan",
         "Production_Budget": 1600000,
         "Release_Date": "Jan 15 1999",
         "Rotten_Tomatoes_Rating": "nan",
         "Running_Time_min": "nan",
         "Source": "nan",
         "Title": "Mississippi Mermaid",
         "US_DVD_Sales": "nan",
         "US_Gross": 24551,
         "Unnamed: 0": 5,
         "Worldwide_Gross": 2624551,
         "_deepnote_index_column": 5
        },
        {
         "Creative_Type": "nan",
         "Director": "Christopher Nolan",
         "Distributor": "Zeitgeist",
         "IMDB_Rating": 7.7,
         "IMDB_Votes": 15133,
         "MPAA_Rating": "R",
         "Major_Genre": "nan",
         "Production_Budget": 6000,
         "Release_Date": "Apr 04 1999",
         "Rotten_Tomatoes_Rating": "nan",
         "Running_Time_min": "nan",
         "Source": "nan",
         "Title": "Following",
         "US_DVD_Sales": "nan",
         "US_Gross": 44705,
         "Unnamed: 0": 6,
         "Worldwide_Gross": 44705,
         "_deepnote_index_column": 6
        },
        {
         "Creative_Type": "Contemporary Fiction",
         "Director": "nan",
         "Distributor": "Artisan",
         "IMDB_Rating": 3.8,
         "IMDB_Votes": 353,
         "MPAA_Rating": "R",
         "Major_Genre": "Comedy",
         "Production_Budget": 1600000,
         "Release_Date": "Apr 09 1999",
         "Rotten_Tomatoes_Rating": "nan",
         "Running_Time_min": "nan",
         "Source": "Original Screenplay",
         "Title": "Foolish",
         "US_DVD_Sales": "nan",
         "US_Gross": 6026908,
         "Unnamed: 0": 7,
         "Worldwide_Gross": 6026908,
         "_deepnote_index_column": 7
        },
        {
         "Creative_Type": "nan",
         "Director": "Roman Polanski",
         "Distributor": "nan",
         "IMDB_Rating": 5.8,
         "IMDB_Votes": 3275,
         "MPAA_Rating": "R",
         "Major_Genre": "nan",
         "Production_Budget": 40000000,
         "Release_Date": "Jul 01 1986",
         "Rotten_Tomatoes_Rating": 25,
         "Running_Time_min": "nan",
         "Source": "nan",
         "Title": "Pirates",
         "US_DVD_Sales": "nan",
         "US_Gross": 1641825,
         "Unnamed: 0": 8,
         "Worldwide_Gross": 6341825,
         "_deepnote_index_column": 8
        },
        {
         "Creative_Type": "nan",
         "Director": "nan",
         "Distributor": "nan",
         "IMDB_Rating": 7,
         "IMDB_Votes": 2906,
         "MPAA_Rating": "nan",
         "Major_Genre": "nan",
         "Production_Budget": 6000000,
         "Release_Date": "Dec 31 2046",
         "Rotten_Tomatoes_Rating": 86,
         "Running_Time_min": "nan",
         "Source": "nan",
         "Title": "Duel in the Sun",
         "US_DVD_Sales": "nan",
         "US_Gross": 20400000,
         "Unnamed: 0": 9,
         "Worldwide_Gross": 20400000,
         "_deepnote_index_column": 9
        }
       ]
      },
      "text/html": [
       "<div>\n",
       "<style scoped>\n",
       "    .dataframe tbody tr th:only-of-type {\n",
       "        vertical-align: middle;\n",
       "    }\n",
       "\n",
       "    .dataframe tbody tr th {\n",
       "        vertical-align: top;\n",
       "    }\n",
       "\n",
       "    .dataframe thead th {\n",
       "        text-align: right;\n",
       "    }\n",
       "</style>\n",
       "<table border=\"1\" class=\"dataframe\">\n",
       "  <thead>\n",
       "    <tr style=\"text-align: right;\">\n",
       "      <th></th>\n",
       "      <th>Unnamed: 0</th>\n",
       "      <th>Title</th>\n",
       "      <th>US_Gross</th>\n",
       "      <th>Worldwide_Gross</th>\n",
       "      <th>US_DVD_Sales</th>\n",
       "      <th>Production_Budget</th>\n",
       "      <th>Release_Date</th>\n",
       "      <th>MPAA_Rating</th>\n",
       "      <th>Running_Time_min</th>\n",
       "      <th>Distributor</th>\n",
       "      <th>Source</th>\n",
       "      <th>Major_Genre</th>\n",
       "      <th>Creative_Type</th>\n",
       "      <th>Director</th>\n",
       "      <th>Rotten_Tomatoes_Rating</th>\n",
       "      <th>IMDB_Rating</th>\n",
       "      <th>IMDB_Votes</th>\n",
       "    </tr>\n",
       "  </thead>\n",
       "  <tbody>\n",
       "    <tr>\n",
       "      <th>0</th>\n",
       "      <td>0</td>\n",
       "      <td>The Land Girls</td>\n",
       "      <td>146083.0</td>\n",
       "      <td>146083.0</td>\n",
       "      <td>NaN</td>\n",
       "      <td>8000000.0</td>\n",
       "      <td>Jun 12 1998</td>\n",
       "      <td>R</td>\n",
       "      <td>NaN</td>\n",
       "      <td>Gramercy</td>\n",
       "      <td>NaN</td>\n",
       "      <td>NaN</td>\n",
       "      <td>NaN</td>\n",
       "      <td>NaN</td>\n",
       "      <td>NaN</td>\n",
       "      <td>6.1</td>\n",
       "      <td>1071.0</td>\n",
       "    </tr>\n",
       "    <tr>\n",
       "      <th>1</th>\n",
       "      <td>1</td>\n",
       "      <td>First Love, Last Rites</td>\n",
       "      <td>10876.0</td>\n",
       "      <td>10876.0</td>\n",
       "      <td>NaN</td>\n",
       "      <td>300000.0</td>\n",
       "      <td>Aug 07 1998</td>\n",
       "      <td>R</td>\n",
       "      <td>NaN</td>\n",
       "      <td>Strand</td>\n",
       "      <td>NaN</td>\n",
       "      <td>Drama</td>\n",
       "      <td>NaN</td>\n",
       "      <td>NaN</td>\n",
       "      <td>NaN</td>\n",
       "      <td>6.9</td>\n",
       "      <td>207.0</td>\n",
       "    </tr>\n",
       "    <tr>\n",
       "      <th>2</th>\n",
       "      <td>2</td>\n",
       "      <td>I Married a Strange Person</td>\n",
       "      <td>203134.0</td>\n",
       "      <td>203134.0</td>\n",
       "      <td>NaN</td>\n",
       "      <td>250000.0</td>\n",
       "      <td>Aug 28 1998</td>\n",
       "      <td>NaN</td>\n",
       "      <td>NaN</td>\n",
       "      <td>Lionsgate</td>\n",
       "      <td>NaN</td>\n",
       "      <td>Comedy</td>\n",
       "      <td>NaN</td>\n",
       "      <td>NaN</td>\n",
       "      <td>NaN</td>\n",
       "      <td>6.8</td>\n",
       "      <td>865.0</td>\n",
       "    </tr>\n",
       "    <tr>\n",
       "      <th>3</th>\n",
       "      <td>3</td>\n",
       "      <td>Let's Talk About Sex</td>\n",
       "      <td>373615.0</td>\n",
       "      <td>373615.0</td>\n",
       "      <td>NaN</td>\n",
       "      <td>300000.0</td>\n",
       "      <td>Sep 11 1998</td>\n",
       "      <td>NaN</td>\n",
       "      <td>NaN</td>\n",
       "      <td>Fine Line</td>\n",
       "      <td>NaN</td>\n",
       "      <td>Comedy</td>\n",
       "      <td>NaN</td>\n",
       "      <td>NaN</td>\n",
       "      <td>13.0</td>\n",
       "      <td>NaN</td>\n",
       "      <td>NaN</td>\n",
       "    </tr>\n",
       "    <tr>\n",
       "      <th>4</th>\n",
       "      <td>4</td>\n",
       "      <td>Slam</td>\n",
       "      <td>1009819.0</td>\n",
       "      <td>1087521.0</td>\n",
       "      <td>NaN</td>\n",
       "      <td>1000000.0</td>\n",
       "      <td>Oct 09 1998</td>\n",
       "      <td>R</td>\n",
       "      <td>NaN</td>\n",
       "      <td>Trimark</td>\n",
       "      <td>Original Screenplay</td>\n",
       "      <td>Drama</td>\n",
       "      <td>Contemporary Fiction</td>\n",
       "      <td>NaN</td>\n",
       "      <td>62.0</td>\n",
       "      <td>3.4</td>\n",
       "      <td>165.0</td>\n",
       "    </tr>\n",
       "    <tr>\n",
       "      <th>...</th>\n",
       "      <td>...</td>\n",
       "      <td>...</td>\n",
       "      <td>...</td>\n",
       "      <td>...</td>\n",
       "      <td>...</td>\n",
       "      <td>...</td>\n",
       "      <td>...</td>\n",
       "      <td>...</td>\n",
       "      <td>...</td>\n",
       "      <td>...</td>\n",
       "      <td>...</td>\n",
       "      <td>...</td>\n",
       "      <td>...</td>\n",
       "      <td>...</td>\n",
       "      <td>...</td>\n",
       "      <td>...</td>\n",
       "      <td>...</td>\n",
       "    </tr>\n",
       "    <tr>\n",
       "      <th>3196</th>\n",
       "      <td>3196</td>\n",
       "      <td>Zack and Miri Make a Porno</td>\n",
       "      <td>31452765.0</td>\n",
       "      <td>36851125.0</td>\n",
       "      <td>21240321.0</td>\n",
       "      <td>24000000.0</td>\n",
       "      <td>Oct 31 2008</td>\n",
       "      <td>R</td>\n",
       "      <td>101.0</td>\n",
       "      <td>Weinstein Co.</td>\n",
       "      <td>Original Screenplay</td>\n",
       "      <td>Comedy</td>\n",
       "      <td>Contemporary Fiction</td>\n",
       "      <td>Kevin Smith</td>\n",
       "      <td>65.0</td>\n",
       "      <td>7.0</td>\n",
       "      <td>55687.0</td>\n",
       "    </tr>\n",
       "    <tr>\n",
       "      <th>3197</th>\n",
       "      <td>3197</td>\n",
       "      <td>Zodiac</td>\n",
       "      <td>33080084.0</td>\n",
       "      <td>83080084.0</td>\n",
       "      <td>20983030.0</td>\n",
       "      <td>85000000.0</td>\n",
       "      <td>Mar 02 2007</td>\n",
       "      <td>R</td>\n",
       "      <td>157.0</td>\n",
       "      <td>Paramount Pictures</td>\n",
       "      <td>Based on Book/Short Story</td>\n",
       "      <td>Thriller/Suspense</td>\n",
       "      <td>Dramatization</td>\n",
       "      <td>David Fincher</td>\n",
       "      <td>89.0</td>\n",
       "      <td>NaN</td>\n",
       "      <td>NaN</td>\n",
       "    </tr>\n",
       "    <tr>\n",
       "      <th>3198</th>\n",
       "      <td>3198</td>\n",
       "      <td>Zoom</td>\n",
       "      <td>11989328.0</td>\n",
       "      <td>12506188.0</td>\n",
       "      <td>6679409.0</td>\n",
       "      <td>35000000.0</td>\n",
       "      <td>Aug 11 2006</td>\n",
       "      <td>PG</td>\n",
       "      <td>NaN</td>\n",
       "      <td>Sony Pictures</td>\n",
       "      <td>Based on Comic/Graphic Novel</td>\n",
       "      <td>Adventure</td>\n",
       "      <td>Super Hero</td>\n",
       "      <td>Peter Hewitt</td>\n",
       "      <td>3.0</td>\n",
       "      <td>3.4</td>\n",
       "      <td>7424.0</td>\n",
       "    </tr>\n",
       "    <tr>\n",
       "      <th>3199</th>\n",
       "      <td>3199</td>\n",
       "      <td>The Legend of Zorro</td>\n",
       "      <td>45575336.0</td>\n",
       "      <td>141475336.0</td>\n",
       "      <td>NaN</td>\n",
       "      <td>80000000.0</td>\n",
       "      <td>Oct 28 2005</td>\n",
       "      <td>PG</td>\n",
       "      <td>129.0</td>\n",
       "      <td>Sony Pictures</td>\n",
       "      <td>Remake</td>\n",
       "      <td>Adventure</td>\n",
       "      <td>Historical Fiction</td>\n",
       "      <td>Martin Campbell</td>\n",
       "      <td>26.0</td>\n",
       "      <td>5.7</td>\n",
       "      <td>21161.0</td>\n",
       "    </tr>\n",
       "    <tr>\n",
       "      <th>3200</th>\n",
       "      <td>3200</td>\n",
       "      <td>The Mask of Zorro</td>\n",
       "      <td>93828745.0</td>\n",
       "      <td>233700000.0</td>\n",
       "      <td>NaN</td>\n",
       "      <td>65000000.0</td>\n",
       "      <td>Jul 17 1998</td>\n",
       "      <td>PG-13</td>\n",
       "      <td>136.0</td>\n",
       "      <td>Sony Pictures</td>\n",
       "      <td>Remake</td>\n",
       "      <td>Adventure</td>\n",
       "      <td>Historical Fiction</td>\n",
       "      <td>Martin Campbell</td>\n",
       "      <td>82.0</td>\n",
       "      <td>6.7</td>\n",
       "      <td>4789.0</td>\n",
       "    </tr>\n",
       "  </tbody>\n",
       "</table>\n",
       "<p>3201 rows × 17 columns</p>\n",
       "</div>"
      ],
      "text/plain": [
       "      Unnamed: 0                       Title    US_Gross  Worldwide_Gross  \\\n",
       "0              0              The Land Girls    146083.0         146083.0   \n",
       "1              1      First Love, Last Rites     10876.0          10876.0   \n",
       "2              2  I Married a Strange Person    203134.0         203134.0   \n",
       "3              3        Let's Talk About Sex    373615.0         373615.0   \n",
       "4              4                        Slam   1009819.0        1087521.0   \n",
       "...          ...                         ...         ...              ...   \n",
       "3196        3196  Zack and Miri Make a Porno  31452765.0       36851125.0   \n",
       "3197        3197                      Zodiac  33080084.0       83080084.0   \n",
       "3198        3198                        Zoom  11989328.0       12506188.0   \n",
       "3199        3199         The Legend of Zorro  45575336.0      141475336.0   \n",
       "3200        3200           The Mask of Zorro  93828745.0      233700000.0   \n",
       "\n",
       "      US_DVD_Sales  Production_Budget Release_Date MPAA_Rating  \\\n",
       "0              NaN          8000000.0  Jun 12 1998           R   \n",
       "1              NaN           300000.0  Aug 07 1998           R   \n",
       "2              NaN           250000.0  Aug 28 1998         NaN   \n",
       "3              NaN           300000.0  Sep 11 1998         NaN   \n",
       "4              NaN          1000000.0  Oct 09 1998           R   \n",
       "...            ...                ...          ...         ...   \n",
       "3196    21240321.0         24000000.0  Oct 31 2008           R   \n",
       "3197    20983030.0         85000000.0  Mar 02 2007           R   \n",
       "3198     6679409.0         35000000.0  Aug 11 2006          PG   \n",
       "3199           NaN         80000000.0  Oct 28 2005          PG   \n",
       "3200           NaN         65000000.0  Jul 17 1998       PG-13   \n",
       "\n",
       "      Running_Time_min         Distributor                        Source  \\\n",
       "0                  NaN            Gramercy                           NaN   \n",
       "1                  NaN              Strand                           NaN   \n",
       "2                  NaN           Lionsgate                           NaN   \n",
       "3                  NaN           Fine Line                           NaN   \n",
       "4                  NaN             Trimark           Original Screenplay   \n",
       "...                ...                 ...                           ...   \n",
       "3196             101.0       Weinstein Co.           Original Screenplay   \n",
       "3197             157.0  Paramount Pictures     Based on Book/Short Story   \n",
       "3198               NaN       Sony Pictures  Based on Comic/Graphic Novel   \n",
       "3199             129.0       Sony Pictures                        Remake   \n",
       "3200             136.0       Sony Pictures                        Remake   \n",
       "\n",
       "            Major_Genre         Creative_Type         Director  \\\n",
       "0                   NaN                   NaN              NaN   \n",
       "1                 Drama                   NaN              NaN   \n",
       "2                Comedy                   NaN              NaN   \n",
       "3                Comedy                   NaN              NaN   \n",
       "4                 Drama  Contemporary Fiction              NaN   \n",
       "...                 ...                   ...              ...   \n",
       "3196             Comedy  Contemporary Fiction      Kevin Smith   \n",
       "3197  Thriller/Suspense         Dramatization    David Fincher   \n",
       "3198          Adventure            Super Hero     Peter Hewitt   \n",
       "3199          Adventure    Historical Fiction  Martin Campbell   \n",
       "3200          Adventure    Historical Fiction  Martin Campbell   \n",
       "\n",
       "      Rotten_Tomatoes_Rating  IMDB_Rating  IMDB_Votes  \n",
       "0                        NaN          6.1      1071.0  \n",
       "1                        NaN          6.9       207.0  \n",
       "2                        NaN          6.8       865.0  \n",
       "3                       13.0          NaN         NaN  \n",
       "4                       62.0          3.4       165.0  \n",
       "...                      ...          ...         ...  \n",
       "3196                    65.0          7.0     55687.0  \n",
       "3197                    89.0          NaN         NaN  \n",
       "3198                     3.0          3.4      7424.0  \n",
       "3199                    26.0          5.7     21161.0  \n",
       "3200                    82.0          6.7      4789.0  \n",
       "\n",
       "[3201 rows x 17 columns]"
      ]
     },
     "execution_count": 2,
     "metadata": {},
     "output_type": "execute_result"
    }
   ],
   "source": [
    "df = pd.read_csv(\"/work/movies.csv\", na_values=\" \")\n",
    "df"
   ]
  },
  {
   "cell_type": "markdown",
   "metadata": {
    "cell_id": "483b0f9e-83b2-4a75-9fb1-717c21bce6b3",
    "deepnote_cell_height": 54,
    "deepnote_cell_type": "markdown",
    "tags": []
   },
   "source": [
    "Cleaning the Data to get more accurate results:"
   ]
  },
  {
   "cell_type": "code",
   "execution_count": null,
   "metadata": {
    "cell_id": "37e39819-cdee-4fcd-91af-1dcd245359a6",
    "deepnote_cell_height": 404.65625,
    "deepnote_cell_type": "code",
    "deepnote_table_loading": false,
    "deepnote_table_state": {
     "filters": [],
     "pageIndex": 17,
     "pageSize": 10,
     "sortBy": []
    },
    "deepnote_to_be_reexecuted": false,
    "execution_millis": 54,
    "execution_start": 1647315319437,
    "source_hash": "4875c1d8",
    "tags": []
   },
   "outputs": [
    {
     "data": {
      "application/vnd.deepnote.dataframe.v3+json": {
       "column_count": 17,
       "columns": [
        {
         "dtype": "int64",
         "name": "Unnamed: 0",
         "stats": {
          "histogram": [
           {
            "bin_end": 1277.2,
            "bin_start": 1064,
            "count": 16
           },
           {
            "bin_end": 1490.4,
            "bin_start": 1277.2,
            "count": 15
           },
           {
            "bin_end": 1703.6,
            "bin_start": 1490.4,
            "count": 18
           },
           {
            "bin_end": 1916.8,
            "bin_start": 1703.6,
            "count": 17
           },
           {
            "bin_end": 2130,
            "bin_start": 1916.8,
            "count": 21
           },
           {
            "bin_end": 2343.2,
            "bin_start": 2130,
            "count": 15
           },
           {
            "bin_end": 2556.3999999999996,
            "bin_start": 2343.2,
            "count": 19
           },
           {
            "bin_end": 2769.6,
            "bin_start": 2556.3999999999996,
            "count": 21
           },
           {
            "bin_end": 2982.8,
            "bin_start": 2769.6,
            "count": 16
           },
           {
            "bin_end": 3196,
            "bin_start": 2982.8,
            "count": 16
           }
          ],
          "max": "3196",
          "min": "1064",
          "nan_count": 0,
          "unique_count": 174
         }
        },
        {
         "dtype": "object",
         "name": "Title",
         "stats": {
          "categories": [
           {
            "count": 1,
            "name": "12 Rounds"
           },
           {
            "count": 1,
            "name": "2012"
           },
           {
            "count": 172,
            "name": "172 others"
           }
          ],
          "nan_count": 0,
          "unique_count": 174
         }
        },
        {
         "dtype": "float64",
         "name": "US_Gross",
         "stats": {
          "histogram": [
           {
            "bin_end": 55335499.5,
            "bin_start": 2223293,
            "count": 87
           },
           {
            "bin_end": 108447706,
            "bin_start": 55335499.5,
            "count": 29
           },
           {
            "bin_end": 161559912.5,
            "bin_start": 108447706,
            "count": 27
           },
           {
            "bin_end": 214672119,
            "bin_start": 161559912.5,
            "count": 11
           },
           {
            "bin_end": 267784325.5,
            "bin_start": 214672119,
            "count": 6
           },
           {
            "bin_end": 320896532,
            "bin_start": 267784325.5,
            "count": 8
           },
           {
            "bin_end": 374008738.5,
            "bin_start": 320896532,
            "count": 3
           },
           {
            "bin_end": 427120945,
            "bin_start": 374008738.5,
            "count": 2
           },
           {
            "bin_end": 480233151.5,
            "bin_start": 427120945,
            "count": 0
           },
           {
            "bin_end": 533345358,
            "bin_start": 480233151.5,
            "count": 1
           }
          ],
          "max": "533345358.0",
          "min": "2223293.0",
          "nan_count": 0,
          "unique_count": 174
         }
        },
        {
         "dtype": "float64",
         "name": "Worldwide_Gross",
         "stats": {
          "histogram": [
           {
            "bin_end": 112435627.3,
            "bin_start": 6521829,
            "count": 83
           },
           {
            "bin_end": 218349425.6,
            "bin_start": 112435627.3,
            "count": 41
           },
           {
            "bin_end": 324263223.9,
            "bin_start": 218349425.6,
            "count": 14
           },
           {
            "bin_end": 430177022.2,
            "bin_start": 324263223.9,
            "count": 12
           },
           {
            "bin_end": 536090820.5,
            "bin_start": 430177022.2,
            "count": 5
           },
           {
            "bin_end": 642004618.8,
            "bin_start": 536090820.5,
            "count": 7
           },
           {
            "bin_end": 747918417.1,
            "bin_start": 642004618.8,
            "count": 2
           },
           {
            "bin_end": 853832215.4,
            "bin_start": 747918417.1,
            "count": 3
           },
           {
            "bin_end": 959746013.6999999,
            "bin_start": 853832215.4,
            "count": 4
           },
           {
            "bin_end": 1065659812,
            "bin_start": 959746013.6999999,
            "count": 3
           }
          ],
          "max": "1065659812.0",
          "min": "6521829.0",
          "nan_count": 0,
          "unique_count": 174
         }
        },
        {
         "dtype": "float64",
         "name": "US_DVD_Sales",
         "stats": {
          "histogram": [
           {
            "bin_end": 32639701.1,
            "bin_start": 618454,
            "count": 95
           },
           {
            "bin_end": 64660948.2,
            "bin_start": 32639701.1,
            "count": 35
           },
           {
            "bin_end": 96682195.30000001,
            "bin_start": 64660948.2,
            "count": 14
           },
           {
            "bin_end": 128703442.4,
            "bin_start": 96682195.30000001,
            "count": 8
           },
           {
            "bin_end": 160724689.5,
            "bin_start": 128703442.4,
            "count": 8
           },
           {
            "bin_end": 192745936.60000002,
            "bin_start": 160724689.5,
            "count": 4
           },
           {
            "bin_end": 224767183.70000002,
            "bin_start": 192745936.60000002,
            "count": 5
           },
           {
            "bin_end": 256788430.8,
            "bin_start": 224767183.70000002,
            "count": 1
           },
           {
            "bin_end": 288809677.90000004,
            "bin_start": 256788430.8,
            "count": 1
           },
           {
            "bin_end": 320830925,
            "bin_start": 288809677.90000004,
            "count": 3
           }
          ],
          "max": "320830925.0",
          "min": "618454.0",
          "nan_count": 0,
          "unique_count": 174
         }
        },
        {
         "dtype": "float64",
         "name": "Production_Budget",
         "stats": {
          "histogram": [
           {
            "bin_end": 30013500,
            "bin_start": 15000,
            "count": 67
           },
           {
            "bin_end": 60012000,
            "bin_start": 30013500,
            "count": 43
           },
           {
            "bin_end": 90010500,
            "bin_start": 60012000,
            "count": 25
           },
           {
            "bin_end": 120009000,
            "bin_start": 90010500,
            "count": 10
           },
           {
            "bin_end": 150007500,
            "bin_start": 120009000,
            "count": 10
           },
           {
            "bin_end": 180006000,
            "bin_start": 150007500,
            "count": 8
           },
           {
            "bin_end": 210004500,
            "bin_start": 180006000,
            "count": 6
           },
           {
            "bin_end": 240003000,
            "bin_start": 210004500,
            "count": 2
           },
           {
            "bin_end": 270001500,
            "bin_start": 240003000,
            "count": 2
           },
           {
            "bin_end": 300000000,
            "bin_start": 270001500,
            "count": 1
           }
          ],
          "max": "300000000.0",
          "min": "15000.0",
          "nan_count": 0,
          "unique_count": 78
         }
        },
        {
         "dtype": "object",
         "name": "Release_Date",
         "stats": {
          "categories": [
           {
            "count": 3,
            "name": "Dec 14 2007"
           },
           {
            "count": 3,
            "name": "Dec 08 2006"
           },
           {
            "count": 168,
            "name": "126 others"
           }
          ],
          "nan_count": 0,
          "unique_count": 128
         }
        },
        {
         "dtype": "object",
         "name": "MPAA_Rating",
         "stats": {
          "categories": [
           {
            "count": 76,
            "name": "PG-13"
           },
           {
            "count": 69,
            "name": "R"
           },
           {
            "count": 29,
            "name": "2 others"
           }
          ],
          "nan_count": 0,
          "unique_count": 4
         }
        },
        {
         "dtype": "float64",
         "name": "Running_Time_min",
         "stats": {
          "histogram": [
           {
            "bin_end": 88.9,
            "bin_start": 78,
            "count": 10
           },
           {
            "bin_end": 99.8,
            "bin_start": 88.9,
            "count": 34
           },
           {
            "bin_end": 110.7,
            "bin_start": 99.8,
            "count": 40
           },
           {
            "bin_end": 121.6,
            "bin_start": 110.7,
            "count": 33
           },
           {
            "bin_end": 132.5,
            "bin_start": 121.6,
            "count": 28
           },
           {
            "bin_end": 143.4,
            "bin_start": 132.5,
            "count": 11
           },
           {
            "bin_end": 154.3,
            "bin_start": 143.4,
            "count": 11
           },
           {
            "bin_end": 165.2,
            "bin_start": 154.3,
            "count": 4
           },
           {
            "bin_end": 176.10000000000002,
            "bin_start": 165.2,
            "count": 2
           },
           {
            "bin_end": 187,
            "bin_start": 176.10000000000002,
            "count": 1
           }
          ],
          "max": "187.0",
          "min": "78.0",
          "nan_count": 0,
          "unique_count": 68
         }
        },
        {
         "dtype": "object",
         "name": "Distributor",
         "stats": {
          "categories": [
           {
            "count": 24,
            "name": "Universal"
           },
           {
            "count": 23,
            "name": "Warner Bros."
           },
           {
            "count": 127,
            "name": "21 others"
           }
          ],
          "nan_count": 0,
          "unique_count": 23
         }
        },
        {
         "dtype": "object",
         "name": "Source",
         "stats": {
          "categories": [
           {
            "count": 75,
            "name": "Original Screenplay"
           },
           {
            "count": 49,
            "name": "Based on Book/Short Story"
           },
           {
            "count": 50,
            "name": "8 others"
           }
          ],
          "nan_count": 0,
          "unique_count": 10
         }
        },
        {
         "dtype": "object",
         "name": "Major_Genre",
         "stats": {
          "categories": [
           {
            "count": 46,
            "name": "Drama"
           },
           {
            "count": 35,
            "name": "Comedy"
           },
           {
            "count": 93,
            "name": "9 others"
           }
          ],
          "nan_count": 0,
          "unique_count": 11
         }
        },
        {
         "dtype": "object",
         "name": "Creative_Type",
         "stats": {
          "categories": [
           {
            "count": 75,
            "name": "Contemporary Fiction"
           },
           {
            "count": 27,
            "name": "Fantasy"
           },
           {
            "count": 72,
            "name": "6 others"
           }
          ],
          "nan_count": 0,
          "unique_count": 8
         }
        },
        {
         "dtype": "object",
         "name": "Director",
         "stats": {
          "categories": [
           {
            "count": 4,
            "name": "Ridley Scott"
           },
           {
            "count": 3,
            "name": "Sam Raimi"
           },
           {
            "count": 167,
            "name": "145 others"
           }
          ],
          "nan_count": 0,
          "unique_count": 147
         }
        },
        {
         "dtype": "float64",
         "name": "Rotten_Tomatoes_Rating",
         "stats": {
          "histogram": [
           {
            "bin_end": 11.6,
            "bin_start": 2,
            "count": 11
           },
           {
            "bin_end": 21.2,
            "bin_start": 11.6,
            "count": 15
           },
           {
            "bin_end": 30.799999999999997,
            "bin_start": 21.2,
            "count": 18
           },
           {
            "bin_end": 40.4,
            "bin_start": 30.799999999999997,
            "count": 14
           },
           {
            "bin_end": 50,
            "bin_start": 40.4,
            "count": 14
           },
           {
            "bin_end": 59.599999999999994,
            "bin_start": 50,
            "count": 13
           },
           {
            "bin_end": 69.2,
            "bin_start": 59.599999999999994,
            "count": 21
           },
           {
            "bin_end": 78.8,
            "bin_start": 69.2,
            "count": 22
           },
           {
            "bin_end": 88.39999999999999,
            "bin_start": 78.8,
            "count": 20
           },
           {
            "bin_end": 98,
            "bin_start": 88.39999999999999,
            "count": 26
           }
          ],
          "max": "98.0",
          "min": "2.0",
          "nan_count": 0,
          "unique_count": 81
         }
        },
        {
         "dtype": "float64",
         "name": "IMDB_Rating",
         "stats": {
          "histogram": [
           {
            "bin_end": 2.42,
            "bin_start": 1.7000000000000002,
            "count": 2
           },
           {
            "bin_end": 3.14,
            "bin_start": 2.42,
            "count": 0
           },
           {
            "bin_end": 3.8600000000000003,
            "bin_start": 3.14,
            "count": 0
           },
           {
            "bin_end": 4.58,
            "bin_start": 3.8600000000000003,
            "count": 2
           },
           {
            "bin_end": 5.3,
            "bin_start": 4.58,
            "count": 8
           },
           {
            "bin_end": 6.0200000000000005,
            "bin_start": 5.3,
            "count": 29
           },
           {
            "bin_end": 6.74,
            "bin_start": 6.0200000000000005,
            "count": 36
           },
           {
            "bin_end": 7.46,
            "bin_start": 6.74,
            "count": 44
           },
           {
            "bin_end": 8.18,
            "bin_start": 7.46,
            "count": 42
           },
           {
            "bin_end": 8.9,
            "bin_start": 8.18,
            "count": 11
           }
          ],
          "max": "8.9",
          "min": "1.7000000000000002",
          "nan_count": 0,
          "unique_count": 43
         }
        },
        {
         "dtype": "float64",
         "name": "IMDB_Votes",
         "stats": {
          "histogram": [
           {
            "bin_end": 46634.1,
            "bin_start": 149,
            "count": 89
           },
           {
            "bin_end": 93119.2,
            "bin_start": 46634.1,
            "count": 44
           },
           {
            "bin_end": 139604.3,
            "bin_start": 93119.2,
            "count": 23
           },
           {
            "bin_end": 186089.4,
            "bin_start": 139604.3,
            "count": 13
           },
           {
            "bin_end": 232574.5,
            "bin_start": 186089.4,
            "count": 2
           },
           {
            "bin_end": 279059.6,
            "bin_start": 232574.5,
            "count": 2
           },
           {
            "bin_end": 325544.7,
            "bin_start": 279059.6,
            "count": 0
           },
           {
            "bin_end": 372029.8,
            "bin_start": 325544.7,
            "count": 0
           },
           {
            "bin_end": 418514.89999999997,
            "bin_start": 372029.8,
            "count": 0
           },
           {
            "bin_end": 465000,
            "bin_start": 418514.89999999997,
            "count": 1
           }
          ],
          "max": "465000.0",
          "min": "149.0",
          "nan_count": 0,
          "unique_count": 174
         }
        },
        {
         "dtype": "int64",
         "name": "_deepnote_index_column"
        }
       ],
       "row_count": 174,
       "rows": [
        {
         "Creative_Type": "Historical Fiction",
         "Director": "Harold Ramis",
         "Distributor": "Sony Pictures",
         "IMDB_Rating": 5,
         "IMDB_Votes": 23091,
         "MPAA_Rating": "PG-13",
         "Major_Genre": "Comedy",
         "Production_Budget": 60000000,
         "Release_Date": "Jun 19 2009",
         "Rotten_Tomatoes_Rating": 14,
         "Running_Time_min": 97,
         "Source": "Original Screenplay",
         "Title": "Year One",
         "US_DVD_Sales": 14813995,
         "US_Gross": 43337279,
         "Unnamed: 0": 3181,
         "Worldwide_Gross": 57604723,
         "_deepnote_index_column": 3181
        },
        {
         "Creative_Type": "Contemporary Fiction",
         "Director": "Peyton Reed",
         "Distributor": "Warner Bros.",
         "IMDB_Rating": 7,
         "IMDB_Votes": 62150,
         "MPAA_Rating": "PG-13",
         "Major_Genre": "Comedy",
         "Production_Budget": 50000000,
         "Release_Date": "Dec 19 2008",
         "Rotten_Tomatoes_Rating": 43,
         "Running_Time_min": 104,
         "Source": "Based on Book/Short Story",
         "Title": "Yes Man",
         "US_DVD_Sales": 26601131,
         "US_Gross": 97690976,
         "Unnamed: 0": 3183,
         "Worldwide_Gross": 225990976,
         "_deepnote_index_column": 3183
        },
        {
         "Creative_Type": "Fantasy",
         "Director": "Ruben Fleischer",
         "Distributor": "Sony Pictures",
         "IMDB_Rating": 7.8,
         "IMDB_Votes": 81629,
         "MPAA_Rating": "R",
         "Major_Genre": "Comedy",
         "Production_Budget": 23600000,
         "Release_Date": "Oct 02 2009",
         "Rotten_Tomatoes_Rating": 89,
         "Running_Time_min": 87,
         "Source": "Original Screenplay",
         "Title": "Zombieland",
         "US_DVD_Sales": 28281155,
         "US_Gross": 75590286,
         "Unnamed: 0": 3195,
         "Worldwide_Gross": 98690286,
         "_deepnote_index_column": 3195
        },
        {
         "Creative_Type": "Contemporary Fiction",
         "Director": "Kevin Smith",
         "Distributor": "Weinstein Co.",
         "IMDB_Rating": 7,
         "IMDB_Votes": 55687,
         "MPAA_Rating": "R",
         "Major_Genre": "Comedy",
         "Production_Budget": 24000000,
         "Release_Date": "Oct 31 2008",
         "Rotten_Tomatoes_Rating": 65,
         "Running_Time_min": 101,
         "Source": "Original Screenplay",
         "Title": "Zack and Miri Make a Porno",
         "US_DVD_Sales": 21240321,
         "US_Gross": 31452765,
         "Unnamed: 0": 3196,
         "Worldwide_Gross": 36851125,
         "_deepnote_index_column": 3196
        }
       ]
      },
      "text/html": [
       "<div>\n",
       "<style scoped>\n",
       "    .dataframe tbody tr th:only-of-type {\n",
       "        vertical-align: middle;\n",
       "    }\n",
       "\n",
       "    .dataframe tbody tr th {\n",
       "        vertical-align: top;\n",
       "    }\n",
       "\n",
       "    .dataframe thead th {\n",
       "        text-align: right;\n",
       "    }\n",
       "</style>\n",
       "<table border=\"1\" class=\"dataframe\">\n",
       "  <thead>\n",
       "    <tr style=\"text-align: right;\">\n",
       "      <th></th>\n",
       "      <th>Unnamed: 0</th>\n",
       "      <th>Title</th>\n",
       "      <th>US_Gross</th>\n",
       "      <th>Worldwide_Gross</th>\n",
       "      <th>US_DVD_Sales</th>\n",
       "      <th>Production_Budget</th>\n",
       "      <th>Release_Date</th>\n",
       "      <th>MPAA_Rating</th>\n",
       "      <th>Running_Time_min</th>\n",
       "      <th>Distributor</th>\n",
       "      <th>Source</th>\n",
       "      <th>Major_Genre</th>\n",
       "      <th>Creative_Type</th>\n",
       "      <th>Director</th>\n",
       "      <th>Rotten_Tomatoes_Rating</th>\n",
       "      <th>IMDB_Rating</th>\n",
       "      <th>IMDB_Votes</th>\n",
       "    </tr>\n",
       "  </thead>\n",
       "  <tbody>\n",
       "    <tr>\n",
       "      <th>1064</th>\n",
       "      <td>1064</td>\n",
       "      <td>12 Rounds</td>\n",
       "      <td>12234694.0</td>\n",
       "      <td>18184083.0</td>\n",
       "      <td>8283859.0</td>\n",
       "      <td>20000000.0</td>\n",
       "      <td>Mar 27 2009</td>\n",
       "      <td>PG-13</td>\n",
       "      <td>108.0</td>\n",
       "      <td>20th Century Fox</td>\n",
       "      <td>Original Screenplay</td>\n",
       "      <td>Action</td>\n",
       "      <td>Contemporary Fiction</td>\n",
       "      <td>Renny Harlin</td>\n",
       "      <td>28.0</td>\n",
       "      <td>5.4</td>\n",
       "      <td>8914.0</td>\n",
       "    </tr>\n",
       "    <tr>\n",
       "      <th>1074</th>\n",
       "      <td>1074</td>\n",
       "      <td>2012</td>\n",
       "      <td>166112167.0</td>\n",
       "      <td>766812167.0</td>\n",
       "      <td>50736023.0</td>\n",
       "      <td>200000000.0</td>\n",
       "      <td>Nov 13 2009</td>\n",
       "      <td>PG-13</td>\n",
       "      <td>158.0</td>\n",
       "      <td>Sony Pictures</td>\n",
       "      <td>Original Screenplay</td>\n",
       "      <td>Action</td>\n",
       "      <td>Science Fiction</td>\n",
       "      <td>Roland Emmerich</td>\n",
       "      <td>39.0</td>\n",
       "      <td>6.2</td>\n",
       "      <td>396.0</td>\n",
       "    </tr>\n",
       "    <tr>\n",
       "      <th>1090</th>\n",
       "      <td>1090</td>\n",
       "      <td>300</td>\n",
       "      <td>210614939.0</td>\n",
       "      <td>456068181.0</td>\n",
       "      <td>261252400.0</td>\n",
       "      <td>60000000.0</td>\n",
       "      <td>Mar 09 2007</td>\n",
       "      <td>R</td>\n",
       "      <td>117.0</td>\n",
       "      <td>Warner Bros.</td>\n",
       "      <td>Based on Comic/Graphic Novel</td>\n",
       "      <td>Action</td>\n",
       "      <td>Historical Fiction</td>\n",
       "      <td>Zack Snyder</td>\n",
       "      <td>60.0</td>\n",
       "      <td>7.8</td>\n",
       "      <td>235508.0</td>\n",
       "    </tr>\n",
       "    <tr>\n",
       "      <th>1095</th>\n",
       "      <td>1095</td>\n",
       "      <td>3:10 to Yuma</td>\n",
       "      <td>53606916.0</td>\n",
       "      <td>69791889.0</td>\n",
       "      <td>51359371.0</td>\n",
       "      <td>48000000.0</td>\n",
       "      <td>Sep 02 2007</td>\n",
       "      <td>R</td>\n",
       "      <td>117.0</td>\n",
       "      <td>Lionsgate</td>\n",
       "      <td>Remake</td>\n",
       "      <td>Western</td>\n",
       "      <td>Historical Fiction</td>\n",
       "      <td>James Mangold</td>\n",
       "      <td>89.0</td>\n",
       "      <td>7.9</td>\n",
       "      <td>98355.0</td>\n",
       "    </tr>\n",
       "    <tr>\n",
       "      <th>1107</th>\n",
       "      <td>1107</td>\n",
       "      <td>88 Minutes</td>\n",
       "      <td>16930884.0</td>\n",
       "      <td>32955399.0</td>\n",
       "      <td>11385055.0</td>\n",
       "      <td>30000000.0</td>\n",
       "      <td>Apr 18 2008</td>\n",
       "      <td>R</td>\n",
       "      <td>106.0</td>\n",
       "      <td>Sony Pictures</td>\n",
       "      <td>Original Screenplay</td>\n",
       "      <td>Thriller/Suspense</td>\n",
       "      <td>Contemporary Fiction</td>\n",
       "      <td>Jon Avnet</td>\n",
       "      <td>5.0</td>\n",
       "      <td>5.9</td>\n",
       "      <td>31205.0</td>\n",
       "    </tr>\n",
       "    <tr>\n",
       "      <th>...</th>\n",
       "      <td>...</td>\n",
       "      <td>...</td>\n",
       "      <td>...</td>\n",
       "      <td>...</td>\n",
       "      <td>...</td>\n",
       "      <td>...</td>\n",
       "      <td>...</td>\n",
       "      <td>...</td>\n",
       "      <td>...</td>\n",
       "      <td>...</td>\n",
       "      <td>...</td>\n",
       "      <td>...</td>\n",
       "      <td>...</td>\n",
       "      <td>...</td>\n",
       "      <td>...</td>\n",
       "      <td>...</td>\n",
       "      <td>...</td>\n",
       "    </tr>\n",
       "    <tr>\n",
       "      <th>3158</th>\n",
       "      <td>3158</td>\n",
       "      <td>The Wrestler</td>\n",
       "      <td>26236603.0</td>\n",
       "      <td>43236603.0</td>\n",
       "      <td>11912450.0</td>\n",
       "      <td>6000000.0</td>\n",
       "      <td>Dec 17 2008</td>\n",
       "      <td>R</td>\n",
       "      <td>109.0</td>\n",
       "      <td>Fox Searchlight</td>\n",
       "      <td>Original Screenplay</td>\n",
       "      <td>Drama</td>\n",
       "      <td>Contemporary Fiction</td>\n",
       "      <td>Darren Aronofsky</td>\n",
       "      <td>98.0</td>\n",
       "      <td>8.2</td>\n",
       "      <td>93301.0</td>\n",
       "    </tr>\n",
       "    <tr>\n",
       "      <th>3181</th>\n",
       "      <td>3181</td>\n",
       "      <td>Year One</td>\n",
       "      <td>43337279.0</td>\n",
       "      <td>57604723.0</td>\n",
       "      <td>14813995.0</td>\n",
       "      <td>60000000.0</td>\n",
       "      <td>Jun 19 2009</td>\n",
       "      <td>PG-13</td>\n",
       "      <td>97.0</td>\n",
       "      <td>Sony Pictures</td>\n",
       "      <td>Original Screenplay</td>\n",
       "      <td>Comedy</td>\n",
       "      <td>Historical Fiction</td>\n",
       "      <td>Harold Ramis</td>\n",
       "      <td>14.0</td>\n",
       "      <td>5.0</td>\n",
       "      <td>23091.0</td>\n",
       "    </tr>\n",
       "    <tr>\n",
       "      <th>3183</th>\n",
       "      <td>3183</td>\n",
       "      <td>Yes Man</td>\n",
       "      <td>97690976.0</td>\n",
       "      <td>225990976.0</td>\n",
       "      <td>26601131.0</td>\n",
       "      <td>50000000.0</td>\n",
       "      <td>Dec 19 2008</td>\n",
       "      <td>PG-13</td>\n",
       "      <td>104.0</td>\n",
       "      <td>Warner Bros.</td>\n",
       "      <td>Based on Book/Short Story</td>\n",
       "      <td>Comedy</td>\n",
       "      <td>Contemporary Fiction</td>\n",
       "      <td>Peyton Reed</td>\n",
       "      <td>43.0</td>\n",
       "      <td>7.0</td>\n",
       "      <td>62150.0</td>\n",
       "    </tr>\n",
       "    <tr>\n",
       "      <th>3195</th>\n",
       "      <td>3195</td>\n",
       "      <td>Zombieland</td>\n",
       "      <td>75590286.0</td>\n",
       "      <td>98690286.0</td>\n",
       "      <td>28281155.0</td>\n",
       "      <td>23600000.0</td>\n",
       "      <td>Oct 02 2009</td>\n",
       "      <td>R</td>\n",
       "      <td>87.0</td>\n",
       "      <td>Sony Pictures</td>\n",
       "      <td>Original Screenplay</td>\n",
       "      <td>Comedy</td>\n",
       "      <td>Fantasy</td>\n",
       "      <td>Ruben Fleischer</td>\n",
       "      <td>89.0</td>\n",
       "      <td>7.8</td>\n",
       "      <td>81629.0</td>\n",
       "    </tr>\n",
       "    <tr>\n",
       "      <th>3196</th>\n",
       "      <td>3196</td>\n",
       "      <td>Zack and Miri Make a Porno</td>\n",
       "      <td>31452765.0</td>\n",
       "      <td>36851125.0</td>\n",
       "      <td>21240321.0</td>\n",
       "      <td>24000000.0</td>\n",
       "      <td>Oct 31 2008</td>\n",
       "      <td>R</td>\n",
       "      <td>101.0</td>\n",
       "      <td>Weinstein Co.</td>\n",
       "      <td>Original Screenplay</td>\n",
       "      <td>Comedy</td>\n",
       "      <td>Contemporary Fiction</td>\n",
       "      <td>Kevin Smith</td>\n",
       "      <td>65.0</td>\n",
       "      <td>7.0</td>\n",
       "      <td>55687.0</td>\n",
       "    </tr>\n",
       "  </tbody>\n",
       "</table>\n",
       "<p>174 rows × 17 columns</p>\n",
       "</div>"
      ],
      "text/plain": [
       "      Unnamed: 0                       Title     US_Gross  Worldwide_Gross  \\\n",
       "1064        1064                   12 Rounds   12234694.0       18184083.0   \n",
       "1074        1074                        2012  166112167.0      766812167.0   \n",
       "1090        1090                         300  210614939.0      456068181.0   \n",
       "1095        1095                3:10 to Yuma   53606916.0       69791889.0   \n",
       "1107        1107                  88 Minutes   16930884.0       32955399.0   \n",
       "...          ...                         ...          ...              ...   \n",
       "3158        3158                The Wrestler   26236603.0       43236603.0   \n",
       "3181        3181                    Year One   43337279.0       57604723.0   \n",
       "3183        3183                     Yes Man   97690976.0      225990976.0   \n",
       "3195        3195                  Zombieland   75590286.0       98690286.0   \n",
       "3196        3196  Zack and Miri Make a Porno   31452765.0       36851125.0   \n",
       "\n",
       "      US_DVD_Sales  Production_Budget Release_Date MPAA_Rating  \\\n",
       "1064     8283859.0         20000000.0  Mar 27 2009       PG-13   \n",
       "1074    50736023.0        200000000.0  Nov 13 2009       PG-13   \n",
       "1090   261252400.0         60000000.0  Mar 09 2007           R   \n",
       "1095    51359371.0         48000000.0  Sep 02 2007           R   \n",
       "1107    11385055.0         30000000.0  Apr 18 2008           R   \n",
       "...            ...                ...          ...         ...   \n",
       "3158    11912450.0          6000000.0  Dec 17 2008           R   \n",
       "3181    14813995.0         60000000.0  Jun 19 2009       PG-13   \n",
       "3183    26601131.0         50000000.0  Dec 19 2008       PG-13   \n",
       "3195    28281155.0         23600000.0  Oct 02 2009           R   \n",
       "3196    21240321.0         24000000.0  Oct 31 2008           R   \n",
       "\n",
       "      Running_Time_min       Distributor                        Source  \\\n",
       "1064             108.0  20th Century Fox           Original Screenplay   \n",
       "1074             158.0     Sony Pictures           Original Screenplay   \n",
       "1090             117.0      Warner Bros.  Based on Comic/Graphic Novel   \n",
       "1095             117.0         Lionsgate                        Remake   \n",
       "1107             106.0     Sony Pictures           Original Screenplay   \n",
       "...                ...               ...                           ...   \n",
       "3158             109.0   Fox Searchlight           Original Screenplay   \n",
       "3181              97.0     Sony Pictures           Original Screenplay   \n",
       "3183             104.0      Warner Bros.     Based on Book/Short Story   \n",
       "3195              87.0     Sony Pictures           Original Screenplay   \n",
       "3196             101.0     Weinstein Co.           Original Screenplay   \n",
       "\n",
       "            Major_Genre         Creative_Type          Director  \\\n",
       "1064             Action  Contemporary Fiction      Renny Harlin   \n",
       "1074             Action       Science Fiction   Roland Emmerich   \n",
       "1090             Action    Historical Fiction       Zack Snyder   \n",
       "1095            Western    Historical Fiction     James Mangold   \n",
       "1107  Thriller/Suspense  Contemporary Fiction         Jon Avnet   \n",
       "...                 ...                   ...               ...   \n",
       "3158              Drama  Contemporary Fiction  Darren Aronofsky   \n",
       "3181             Comedy    Historical Fiction      Harold Ramis   \n",
       "3183             Comedy  Contemporary Fiction       Peyton Reed   \n",
       "3195             Comedy               Fantasy   Ruben Fleischer   \n",
       "3196             Comedy  Contemporary Fiction       Kevin Smith   \n",
       "\n",
       "      Rotten_Tomatoes_Rating  IMDB_Rating  IMDB_Votes  \n",
       "1064                    28.0          5.4      8914.0  \n",
       "1074                    39.0          6.2       396.0  \n",
       "1090                    60.0          7.8    235508.0  \n",
       "1095                    89.0          7.9     98355.0  \n",
       "1107                     5.0          5.9     31205.0  \n",
       "...                      ...          ...         ...  \n",
       "3158                    98.0          8.2     93301.0  \n",
       "3181                    14.0          5.0     23091.0  \n",
       "3183                    43.0          7.0     62150.0  \n",
       "3195                    89.0          7.8     81629.0  \n",
       "3196                    65.0          7.0     55687.0  \n",
       "\n",
       "[174 rows x 17 columns]"
      ]
     },
     "execution_count": 3,
     "metadata": {},
     "output_type": "execute_result"
    }
   ],
   "source": [
    "df.dropna(inplace=True)\n",
    "df\n"
   ]
  },
  {
   "cell_type": "code",
   "execution_count": null,
   "metadata": {
    "cell_id": "a0779a60-0dbf-4ed3-94d6-12aa2d417a09",
    "deepnote_cell_height": 568.75,
    "deepnote_cell_type": "code",
    "deepnote_to_be_reexecuted": false,
    "execution_millis": 17,
    "execution_start": 1647315319492,
    "source_hash": "de1e323c",
    "tags": []
   },
   "outputs": [
    {
     "name": "stdout",
     "output_type": "stream",
     "text": [
      "<class 'pandas.core.frame.DataFrame'>\n",
      "Int64Index: 174 entries, 1064 to 3196\n",
      "Data columns (total 17 columns):\n",
      " #   Column                  Non-Null Count  Dtype  \n",
      "---  ------                  --------------  -----  \n",
      " 0   Unnamed: 0              174 non-null    int64  \n",
      " 1   Title                   174 non-null    object \n",
      " 2   US_Gross                174 non-null    float64\n",
      " 3   Worldwide_Gross         174 non-null    float64\n",
      " 4   US_DVD_Sales            174 non-null    float64\n",
      " 5   Production_Budget       174 non-null    float64\n",
      " 6   Release_Date            174 non-null    object \n",
      " 7   MPAA_Rating             174 non-null    object \n",
      " 8   Running_Time_min        174 non-null    float64\n",
      " 9   Distributor             174 non-null    object \n",
      " 10  Source                  174 non-null    object \n",
      " 11  Major_Genre             174 non-null    object \n",
      " 12  Creative_Type           174 non-null    object \n",
      " 13  Director                174 non-null    object \n",
      " 14  Rotten_Tomatoes_Rating  174 non-null    float64\n",
      " 15  IMDB_Rating             174 non-null    float64\n",
      " 16  IMDB_Votes              174 non-null    float64\n",
      "dtypes: float64(8), int64(1), object(8)\n",
      "memory usage: 24.5+ KB\n"
     ]
    }
   ],
   "source": [
    "df.info()"
   ]
  },
  {
   "cell_type": "code",
   "execution_count": null,
   "metadata": {
    "cell_id": "c4d8fca2-2f48-40ef-a67d-2621c950ca6b",
    "deepnote_cell_height": 444.5625,
    "deepnote_cell_type": "code",
    "deepnote_to_be_reexecuted": false,
    "execution_millis": 2,
    "execution_start": 1647315319510,
    "source_hash": "52430027",
    "tags": []
   },
   "outputs": [
    {
     "data": {
      "text/plain": [
       "Unnamed: 0                  int64\n",
       "Title                      object\n",
       "US_Gross                  float64\n",
       "Worldwide_Gross           float64\n",
       "US_DVD_Sales              float64\n",
       "Production_Budget         float64\n",
       "Release_Date               object\n",
       "MPAA_Rating                object\n",
       "Running_Time_min          float64\n",
       "Distributor                object\n",
       "Source                     object\n",
       "Major_Genre                object\n",
       "Creative_Type              object\n",
       "Director                   object\n",
       "Rotten_Tomatoes_Rating    float64\n",
       "IMDB_Rating               float64\n",
       "IMDB_Votes                float64\n",
       "dtype: object"
      ]
     },
     "execution_count": 5,
     "metadata": {},
     "output_type": "execute_result"
    }
   ],
   "source": [
    "df.dtypes"
   ]
  },
  {
   "cell_type": "code",
   "execution_count": null,
   "metadata": {
    "cell_id": "fd90fdbb-e940-4add-8b11-6dfb06cd80d9",
    "deepnote_cell_height": 111.859375,
    "deepnote_cell_type": "code",
    "deepnote_to_be_reexecuted": false,
    "execution_millis": 0,
    "execution_start": 1647315319522,
    "source_hash": "e55e72fe",
    "tags": []
   },
   "outputs": [
    {
     "name": "stdout",
     "output_type": "stream",
     "text": [
      "The number of rows in this dataset is 174\n"
     ]
    }
   ],
   "source": [
    "print(f\"The number of rows in this dataset is {df.shape[0]}\")"
   ]
  },
  {
   "cell_type": "markdown",
   "metadata": {
    "cell_id": "313b468c-3fd5-4964-86d7-ac0d9e3cb083",
    "deepnote_cell_height": 78,
    "deepnote_cell_type": "markdown",
    "tags": []
   },
   "source": [
    "Now we will see using groupby to anaylze if for every movie the gross has a rotten Tomato rating."
   ]
  },
  {
   "cell_type": "code",
   "execution_count": null,
   "metadata": {
    "cell_id": "2ee8aae0-d216-46a1-b5e6-ee106a597844",
    "deepnote_cell_height": 348.5625,
    "deepnote_cell_type": "code",
    "deepnote_to_be_reexecuted": false,
    "execution_millis": 12,
    "execution_start": 1647315319526,
    "source_hash": "ca7cc36e",
    "tags": []
   },
   "outputs": [
    {
     "data": {
      "text/plain": [
       "US_Gross     Worldwide_Gross\n",
       "2223293.0    1.321803e+08       1\n",
       "3005605.0    3.502586e+07       1\n",
       "3688560.0    3.203061e+07       1\n",
       "5463019.0    1.476302e+07       1\n",
       "5755286.0    6.521829e+06       1\n",
       "                               ..\n",
       "370782930.0  6.118994e+08       1\n",
       "373524485.0  7.837050e+08       1\n",
       "402111870.0  8.363037e+08       1\n",
       "423315812.0  1.065660e+09       1\n",
       "533345358.0  1.022345e+09       1\n",
       "Name: Rotten_Tomatoes_Rating, Length: 174, dtype: int64"
      ]
     },
     "execution_count": 7,
     "metadata": {},
     "output_type": "execute_result"
    }
   ],
   "source": [
    "df.groupby([\"US_Gross\", \"Worldwide_Gross\"])[\"Rotten_Tomatoes_Rating\"].count()"
   ]
  },
  {
   "cell_type": "markdown",
   "metadata": {
    "cell_id": "365543b7-0b65-4d13-9549-9cc18e93d559",
    "deepnote_cell_type": "markdown",
    "tags": []
   },
   "source": [
    "Making a graph to getting a better understaning on how the Data looks."
   ]
  },
  {
   "cell_type": "code",
   "execution_count": null,
   "metadata": {
    "cell_id": "75df4527-568a-4894-a6ce-0996a10ccec6",
    "deepnote_cell_height": 261,
    "deepnote_cell_type": "code",
    "deepnote_to_be_reexecuted": false,
    "execution_millis": 27,
    "execution_start": 1647315319575,
    "source_hash": "5038427",
    "tags": []
   },
   "outputs": [
    {
     "data": {
      "text/html": [
       "\n",
       "<div id=\"altair-viz-67b6d99d2eb4482e957f1d46a9284e75\"></div>\n",
       "<script type=\"text/javascript\">\n",
       "  (function(spec, embedOpt){\n",
       "    let outputDiv = document.currentScript.previousElementSibling;\n",
       "    if (outputDiv.id !== \"altair-viz-67b6d99d2eb4482e957f1d46a9284e75\") {\n",
       "      outputDiv = document.getElementById(\"altair-viz-67b6d99d2eb4482e957f1d46a9284e75\");\n",
       "    }\n",
       "    const paths = {\n",
       "      \"vega\": \"https://cdn.jsdelivr.net/npm//vega@5?noext\",\n",
       "      \"vega-lib\": \"https://cdn.jsdelivr.net/npm//vega-lib?noext\",\n",
       "      \"vega-lite\": \"https://cdn.jsdelivr.net/npm//vega-lite@4.8.1?noext\",\n",
       "      \"vega-embed\": \"https://cdn.jsdelivr.net/npm//vega-embed@6?noext\",\n",
       "    };\n",
       "\n",
       "    function loadScript(lib) {\n",
       "      return new Promise(function(resolve, reject) {\n",
       "        var s = document.createElement('script');\n",
       "        s.src = paths[lib];\n",
       "        s.async = true;\n",
       "        s.onload = () => resolve(paths[lib]);\n",
       "        s.onerror = () => reject(`Error loading script: ${paths[lib]}`);\n",
       "        document.getElementsByTagName(\"head\")[0].appendChild(s);\n",
       "      });\n",
       "    }\n",
       "\n",
       "    function showError(err) {\n",
       "      outputDiv.innerHTML = `<div class=\"error\" style=\"color:red;\">${err}</div>`;\n",
       "      throw err;\n",
       "    }\n",
       "\n",
       "    function displayChart(vegaEmbed) {\n",
       "      vegaEmbed(outputDiv, spec, embedOpt)\n",
       "        .catch(err => showError(`Javascript Error: ${err.message}<br>This usually means there's a typo in your chart specification. See the javascript console for the full traceback.`));\n",
       "    }\n",
       "\n",
       "    if(typeof define === \"function\" && define.amd) {\n",
       "      requirejs.config({paths});\n",
       "      require([\"vega-embed\"], displayChart, err => showError(`Error loading script: ${err.message}`));\n",
       "    } else if (typeof vegaEmbed === \"function\") {\n",
       "      displayChart(vegaEmbed);\n",
       "    } else {\n",
       "      loadScript(\"vega\")\n",
       "        .then(() => loadScript(\"vega-lite\"))\n",
       "        .then(() => loadScript(\"vega-embed\"))\n",
       "        .catch(showError)\n",
       "        .then(() => displayChart(vegaEmbed));\n",
       "    }\n",
       "  })({\"config\": {\"view\": {\"continuousWidth\": 400, \"continuousHeight\": 300}}, \"data\": {\"name\": \"data-fe6a2b92f6d4c16f90c528bac234d970\"}, \"mark\": \"circle\", \"encoding\": {\"color\": {\"type\": \"quantitative\", \"field\": \"Rotten_Tomatoes_Rating\"}, \"x\": {\"type\": \"quantitative\", \"field\": \"US_Gross\"}, \"y\": {\"type\": \"quantitative\", \"field\": \"Worldwide_Gross\"}}, \"height\": 100, \"title\": \"Gross Depending on Rotten Tomato Rating\", \"width\": 700, \"$schema\": \"https://vega.github.io/schema/vega-lite/v4.8.1.json\", \"datasets\": {\"data-fe6a2b92f6d4c16f90c528bac234d970\": [{\"Unnamed: 0\": 1064, \"Title\": \"12 Rounds\", \"US_Gross\": 12234694.0, \"Worldwide_Gross\": 18184083.0, \"US_DVD_Sales\": 8283859.0, \"Production_Budget\": 20000000.0, \"Release_Date\": \"Mar 27 2009\", \"MPAA_Rating\": \"PG-13\", \"Running_Time_min\": 108.0, \"Distributor\": \"20th Century Fox\", \"Source\": \"Original Screenplay\", \"Major_Genre\": \"Action\", \"Creative_Type\": \"Contemporary Fiction\", \"Director\": \"Renny Harlin\", \"Rotten_Tomatoes_Rating\": 28.0, \"IMDB_Rating\": 5.4, \"IMDB_Votes\": 8914.0}, {\"Unnamed: 0\": 1074, \"Title\": \"2012\", \"US_Gross\": 166112167.0, \"Worldwide_Gross\": 766812167.0, \"US_DVD_Sales\": 50736023.0, \"Production_Budget\": 200000000.0, \"Release_Date\": \"Nov 13 2009\", \"MPAA_Rating\": \"PG-13\", \"Running_Time_min\": 158.0, \"Distributor\": \"Sony Pictures\", \"Source\": \"Original Screenplay\", \"Major_Genre\": \"Action\", \"Creative_Type\": \"Science Fiction\", \"Director\": \"Roland Emmerich\", \"Rotten_Tomatoes_Rating\": 39.0, \"IMDB_Rating\": 6.2, \"IMDB_Votes\": 396.0}, {\"Unnamed: 0\": 1090, \"Title\": \"300\", \"US_Gross\": 210614939.0, \"Worldwide_Gross\": 456068181.0, \"US_DVD_Sales\": 261252400.0, \"Production_Budget\": 60000000.0, \"Release_Date\": \"Mar 09 2007\", \"MPAA_Rating\": \"R\", \"Running_Time_min\": 117.0, \"Distributor\": \"Warner Bros.\", \"Source\": \"Based on Comic/Graphic Novel\", \"Major_Genre\": \"Action\", \"Creative_Type\": \"Historical Fiction\", \"Director\": \"Zack Snyder\", \"Rotten_Tomatoes_Rating\": 60.0, \"IMDB_Rating\": 7.8, \"IMDB_Votes\": 235508.0}, {\"Unnamed: 0\": 1095, \"Title\": \"3:10 to Yuma\", \"US_Gross\": 53606916.0, \"Worldwide_Gross\": 69791889.0, \"US_DVD_Sales\": 51359371.0, \"Production_Budget\": 48000000.0, \"Release_Date\": \"Sep 02 2007\", \"MPAA_Rating\": \"R\", \"Running_Time_min\": 117.0, \"Distributor\": \"Lionsgate\", \"Source\": \"Remake\", \"Major_Genre\": \"Western\", \"Creative_Type\": \"Historical Fiction\", \"Director\": \"James Mangold\", \"Rotten_Tomatoes_Rating\": 89.0, \"IMDB_Rating\": 7.9, \"IMDB_Votes\": 98355.0}, {\"Unnamed: 0\": 1107, \"Title\": \"88 Minutes\", \"US_Gross\": 16930884.0, \"Worldwide_Gross\": 32955399.0, \"US_DVD_Sales\": 11385055.0, \"Production_Budget\": 30000000.0, \"Release_Date\": \"Apr 18 2008\", \"MPAA_Rating\": \"R\", \"Running_Time_min\": 106.0, \"Distributor\": \"Sony Pictures\", \"Source\": \"Original Screenplay\", \"Major_Genre\": \"Thriller/Suspense\", \"Creative_Type\": \"Contemporary Fiction\", \"Director\": \"Jon Avnet\", \"Rotten_Tomatoes_Rating\": 5.0, \"IMDB_Rating\": 5.9, \"IMDB_Votes\": 31205.0}, {\"Unnamed: 0\": 1127, \"Title\": \"A Good Year\", \"US_Gross\": 7459300.0, \"Worldwide_Gross\": 42064105.0, \"US_DVD_Sales\": 7342760.0, \"Production_Budget\": 35000000.0, \"Release_Date\": \"Nov 10 2006\", \"MPAA_Rating\": \"PG-13\", \"Running_Time_min\": 118.0, \"Distributor\": \"20th Century Fox\", \"Source\": \"Based on Book/Short Story\", \"Major_Genre\": \"Drama\", \"Creative_Type\": \"Contemporary Fiction\", \"Director\": \"Ridley Scott\", \"Rotten_Tomatoes_Rating\": 24.0, \"IMDB_Rating\": 6.8, \"IMDB_Votes\": 23149.0}, {\"Unnamed: 0\": 1147, \"Title\": \"Evan Almighty\", \"US_Gross\": 100289690.0, \"Worldwide_Gross\": 173219280.0, \"US_DVD_Sales\": 38038256.0, \"Production_Budget\": 175000000.0, \"Release_Date\": \"Jun 22 2007\", \"MPAA_Rating\": \"PG\", \"Running_Time_min\": 78.0, \"Distributor\": \"Universal\", \"Source\": \"Original Screenplay\", \"Major_Genre\": \"Comedy\", \"Creative_Type\": \"Fantasy\", \"Director\": \"Tom Shadyac\", \"Rotten_Tomatoes_Rating\": 23.0, \"IMDB_Rating\": 5.5, \"IMDB_Votes\": 43164.0}, {\"Unnamed: 0\": 1155, \"Title\": \"Alvin and the Chipmunks\", \"US_Gross\": 217326974.0, \"Worldwide_Gross\": 360578644.0, \"US_DVD_Sales\": 137516182.0, \"Production_Budget\": 55000000.0, \"Release_Date\": \"Dec 14 2007\", \"MPAA_Rating\": \"PG\", \"Running_Time_min\": 92.0, \"Distributor\": \"20th Century Fox\", \"Source\": \"Based on TV\", \"Major_Genre\": \"Comedy\", \"Creative_Type\": \"Kids Fiction\", \"Director\": \"Tim Hill\", \"Rotten_Tomatoes_Rating\": 27.0, \"IMDB_Rating\": 5.5, \"IMDB_Votes\": 19200.0}, {\"Unnamed: 0\": 1165, \"Title\": \"American Gangster\", \"US_Gross\": 130164645.0, \"Worldwide_Gross\": 265697825.0, \"US_DVD_Sales\": 72653959.0, \"Production_Budget\": 100000000.0, \"Release_Date\": \"Nov 02 2007\", \"MPAA_Rating\": \"R\", \"Running_Time_min\": 157.0, \"Distributor\": \"Universal\", \"Source\": \"Based on Real Life Events\", \"Major_Genre\": \"Drama\", \"Creative_Type\": \"Dramatization\", \"Director\": \"Ridley Scott\", \"Rotten_Tomatoes_Rating\": 79.0, \"IMDB_Rating\": 7.9, \"IMDB_Votes\": 114060.0}, {\"Unnamed: 0\": 1196, \"Title\": \"Apocalypto\", \"US_Gross\": 50866635.0, \"Worldwide_Gross\": 117785051.0, \"US_DVD_Sales\": 43318599.0, \"Production_Budget\": 40000000.0, \"Release_Date\": \"Dec 08 2006\", \"MPAA_Rating\": \"R\", \"Running_Time_min\": 136.0, \"Distributor\": \"Walt Disney Pictures\", \"Source\": \"Original Screenplay\", \"Major_Genre\": \"Adventure\", \"Creative_Type\": \"Historical Fiction\", \"Director\": \"Mel Gibson\", \"Rotten_Tomatoes_Rating\": 64.0, \"IMDB_Rating\": 7.9, \"IMDB_Votes\": 82162.0}, {\"Unnamed: 0\": 1225, \"Title\": \"Atonement\", \"US_Gross\": 50980159.0, \"Worldwide_Gross\": 129425746.0, \"US_DVD_Sales\": 15678677.0, \"Production_Budget\": 30000000.0, \"Release_Date\": \"Dec 07 2007\", \"MPAA_Rating\": \"R\", \"Running_Time_min\": 130.0, \"Distributor\": \"Focus Features\", \"Source\": \"Based on Book/Short Story\", \"Major_Genre\": \"Drama\", \"Creative_Type\": \"Contemporary Fiction\", \"Director\": \"Joe Wright\", \"Rotten_Tomatoes_Rating\": 83.0, \"IMDB_Rating\": 7.9, \"IMDB_Votes\": 75491.0}, {\"Unnamed: 0\": 1241, \"Title\": \"Away We Go\", \"US_Gross\": 9451946.0, \"Worldwide_Gross\": 10108016.0, \"US_DVD_Sales\": 3788940.0, \"Production_Budget\": 21000000.0, \"Release_Date\": \"Jun 05 2009\", \"MPAA_Rating\": \"R\", \"Running_Time_min\": 98.0, \"Distributor\": \"Focus Features\", \"Source\": \"Original Screenplay\", \"Major_Genre\": \"Comedy\", \"Creative_Type\": \"Contemporary Fiction\", \"Director\": \"Sam Mendes\", \"Rotten_Tomatoes_Rating\": 66.0, \"IMDB_Rating\": 7.3, \"IMDB_Votes\": 14929.0}, {\"Unnamed: 0\": 1245, \"Title\": \"Babylon A.D.\", \"US_Gross\": 22532572.0, \"Worldwide_Gross\": 70216497.0, \"US_DVD_Sales\": 16787309.0, \"Production_Budget\": 45000000.0, \"Release_Date\": \"Aug 29 2008\", \"MPAA_Rating\": \"PG-13\", \"Running_Time_min\": 100.0, \"Distributor\": \"20th Century Fox\", \"Source\": \"Based on Book/Short Story\", \"Major_Genre\": \"Action\", \"Creative_Type\": \"Science Fiction\", \"Director\": \"Mathieu Kassovitz\", \"Rotten_Tomatoes_Rating\": 7.0, \"IMDB_Rating\": 5.3, \"IMDB_Votes\": 27189.0}, {\"Unnamed: 0\": 1258, \"Title\": \"Bangkok Dangerous\", \"US_Gross\": 15298133.0, \"Worldwide_Gross\": 46598133.0, \"US_DVD_Sales\": 15494886.0, \"Production_Budget\": 45000000.0, \"Release_Date\": \"Sep 05 2008\", \"MPAA_Rating\": \"R\", \"Running_Time_min\": 98.0, \"Distributor\": \"Lionsgate\", \"Source\": \"Remake\", \"Major_Genre\": \"Action\", \"Creative_Type\": \"Contemporary Fiction\", \"Director\": \"Oxide Pang Chun\", \"Rotten_Tomatoes_Rating\": 9.0, \"IMDB_Rating\": 5.4, \"IMDB_Votes\": 20931.0}, {\"Unnamed: 0\": 1266, \"Title\": \"The Dark Knight\", \"US_Gross\": 533345358.0, \"Worldwide_Gross\": 1022345358.0, \"US_DVD_Sales\": 234119058.0, \"Production_Budget\": 185000000.0, \"Release_Date\": \"Jul 18 2008\", \"MPAA_Rating\": \"PG-13\", \"Running_Time_min\": 152.0, \"Distributor\": \"Warner Bros.\", \"Source\": \"Based on Comic/Graphic Novel\", \"Major_Genre\": \"Action\", \"Creative_Type\": \"Super Hero\", \"Director\": \"Christopher Nolan\", \"Rotten_Tomatoes_Rating\": 93.0, \"IMDB_Rating\": 8.9, \"IMDB_Votes\": 465000.0}, {\"Unnamed: 0\": 1270, \"Title\": \"The Curious Case of Benjamin Button\", \"US_Gross\": 127509326.0, \"Worldwide_Gross\": 329809326.0, \"US_DVD_Sales\": 42850598.0, \"Production_Budget\": 160000000.0, \"Release_Date\": \"Dec 25 2008\", \"MPAA_Rating\": \"PG-13\", \"Running_Time_min\": 167.0, \"Distributor\": \"Paramount Pictures\", \"Source\": \"Based on Book/Short Story\", \"Major_Genre\": \"Drama\", \"Creative_Type\": \"Fantasy\", \"Director\": \"David Fincher\", \"Rotten_Tomatoes_Rating\": 72.0, \"IMDB_Rating\": 8.0, \"IMDB_Votes\": 137120.0}, {\"Unnamed: 0\": 1278, \"Title\": \"Body of Lies\", \"US_Gross\": 39394666.0, \"Worldwide_Gross\": 108394666.0, \"US_DVD_Sales\": 22024703.0, \"Production_Budget\": 67500000.0, \"Release_Date\": \"Oct 10 2008\", \"MPAA_Rating\": \"R\", \"Running_Time_min\": 129.0, \"Distributor\": \"Warner Bros.\", \"Source\": \"Based on Book/Short Story\", \"Major_Genre\": \"Thriller/Suspense\", \"Creative_Type\": \"Contemporary Fiction\", \"Director\": \"Ridley Scott\", \"Rotten_Tomatoes_Rating\": 52.0, \"IMDB_Rating\": 7.2, \"IMDB_Votes\": 53921.0}, {\"Unnamed: 0\": 1279, \"Title\": \"Blood Diamond\", \"US_Gross\": 57377916.0, \"Worldwide_Gross\": 171377916.0, \"US_DVD_Sales\": 62588936.0, \"Production_Budget\": 100000000.0, \"Release_Date\": \"Dec 08 2006\", \"MPAA_Rating\": \"R\", \"Running_Time_min\": 143.0, \"Distributor\": \"Warner Bros.\", \"Source\": \"Original Screenplay\", \"Major_Genre\": \"Action\", \"Creative_Type\": \"Historical Fiction\", \"Director\": \"Edward Zwick\", \"Rotten_Tomatoes_Rating\": 62.0, \"IMDB_Rating\": 8.0, \"IMDB_Votes\": 118925.0}, {\"Unnamed: 0\": 1285, \"Title\": \"Bee Movie\", \"US_Gross\": 126631277.0, \"Worldwide_Gross\": 287594577.0, \"US_DVD_Sales\": 79628881.0, \"Production_Budget\": 150000000.0, \"Release_Date\": \"Nov 02 2007\", \"MPAA_Rating\": \"PG\", \"Running_Time_min\": 90.0, \"Distributor\": \"Paramount Pictures\", \"Source\": \"Original Screenplay\", \"Major_Genre\": \"Comedy\", \"Creative_Type\": \"Kids Fiction\", \"Director\": \"Steve Hickner\", \"Rotten_Tomatoes_Rating\": 51.0, \"IMDB_Rating\": 6.3, \"IMDB_Votes\": 30575.0}, {\"Unnamed: 0\": 1295, \"Title\": \"Beowulf\", \"US_Gross\": 82195215.0, \"Worldwide_Gross\": 194995215.0, \"US_DVD_Sales\": 35961910.0, \"Production_Budget\": 150000000.0, \"Release_Date\": \"Nov 16 2007\", \"MPAA_Rating\": \"PG-13\", \"Running_Time_min\": 115.0, \"Distributor\": \"Paramount Pictures\", \"Source\": \"Based on Book/Short Story\", \"Major_Genre\": \"Adventure\", \"Creative_Type\": \"Fantasy\", \"Director\": \"Robert Zemeckis\", \"Rotten_Tomatoes_Rating\": 70.0, \"IMDB_Rating\": 6.6, \"IMDB_Votes\": 62513.0}, {\"Unnamed: 0\": 1306, \"Title\": \"Black Hawk Down\", \"US_Gross\": 108638745.0, \"Worldwide_Gross\": 173638745.0, \"US_DVD_Sales\": 970318.0, \"Production_Budget\": 95000000.0, \"Release_Date\": \"Dec 28 2001\", \"MPAA_Rating\": \"R\", \"Running_Time_min\": 144.0, \"Distributor\": \"Sony Pictures\", \"Source\": \"Based on Book/Short Story\", \"Major_Genre\": \"Action\", \"Creative_Type\": \"Dramatization\", \"Director\": \"Ridley Scott\", \"Rotten_Tomatoes_Rating\": 76.0, \"IMDB_Rating\": 7.7, \"IMDB_Votes\": 98653.0}, {\"Unnamed: 0\": 1343, \"Title\": \"Bobby\", \"US_Gross\": 11242801.0, \"Worldwide_Gross\": 20597806.0, \"US_DVD_Sales\": 12345494.0, \"Production_Budget\": 14000000.0, \"Release_Date\": \"Nov 17 2006\", \"MPAA_Rating\": \"R\", \"Running_Time_min\": 120.0, \"Distributor\": \"MGM\", \"Source\": \"Based on Real Life Events\", \"Major_Genre\": \"Drama\", \"Creative_Type\": \"Dramatization\", \"Director\": \"Emilio Estevez\", \"Rotten_Tomatoes_Rating\": 46.0, \"IMDB_Rating\": 7.1, \"IMDB_Votes\": 23262.0}, {\"Unnamed: 0\": 1355, \"Title\": \"The Bourne Ultimatum\", \"US_Gross\": 227471070.0, \"Worldwide_Gross\": 442161562.0, \"US_DVD_Sales\": 123314592.0, \"Production_Budget\": 130000000.0, \"Release_Date\": \"Aug 03 2007\", \"MPAA_Rating\": \"PG-13\", \"Running_Time_min\": 114.0, \"Distributor\": \"Universal\", \"Source\": \"Based on Book/Short Story\", \"Major_Genre\": \"Action\", \"Creative_Type\": \"Contemporary Fiction\", \"Director\": \"Paul Greengrass\", \"Rotten_Tomatoes_Rating\": 93.0, \"IMDB_Rating\": 8.2, \"IMDB_Votes\": 146025.0}, {\"Unnamed: 0\": 1373, \"Title\": \"Brokeback Mountain\", \"US_Gross\": 83043761.0, \"Worldwide_Gross\": 180343761.0, \"US_DVD_Sales\": 31338042.0, \"Production_Budget\": 13900000.0, \"Release_Date\": \"Dec 09 2005\", \"MPAA_Rating\": \"R\", \"Running_Time_min\": 134.0, \"Distributor\": \"Focus Features\", \"Source\": \"Based on Book/Short Story\", \"Major_Genre\": \"Drama\", \"Creative_Type\": \"Historical Fiction\", \"Director\": \"Ang Lee\", \"Rotten_Tomatoes_Rating\": 87.0, \"IMDB_Rating\": 7.8, \"IMDB_Votes\": 115951.0}, {\"Unnamed: 0\": 1391, \"Title\": \"Inglourious Basterds\", \"US_Gross\": 120831050.0, \"Worldwide_Gross\": 320389438.0, \"US_DVD_Sales\": 58414604.0, \"Production_Budget\": 70000000.0, \"Release_Date\": \"Aug 21 2009\", \"MPAA_Rating\": \"R\", \"Running_Time_min\": 152.0, \"Distributor\": \"Weinstein Co.\", \"Source\": \"Original Screenplay\", \"Major_Genre\": \"Action\", \"Creative_Type\": \"Historical Fiction\", \"Director\": \"Quentin Tarantino\", \"Rotten_Tomatoes_Rating\": 88.0, \"IMDB_Rating\": 8.4, \"IMDB_Votes\": 178742.0}, {\"Unnamed: 0\": 1433, \"Title\": \"City of Ember\", \"US_Gross\": 7871693.0, \"Worldwide_Gross\": 11817059.0, \"US_DVD_Sales\": 6086988.0, \"Production_Budget\": 38000000.0, \"Release_Date\": \"Oct 10 2008\", \"MPAA_Rating\": \"PG\", \"Running_Time_min\": 94.0, \"Distributor\": \"20th Century Fox\", \"Source\": \"Based on Book/Short Story\", \"Major_Genre\": \"Adventure\", \"Creative_Type\": \"Fantasy\", \"Director\": \"Gil Kenan\", \"Rotten_Tomatoes_Rating\": 53.0, \"IMDB_Rating\": 6.4, \"IMDB_Votes\": 14905.0}, {\"Unnamed: 0\": 1440, \"Title\": \"Chicken Little\", \"US_Gross\": 135386665.0, \"Worldwide_Gross\": 314432738.0, \"US_DVD_Sales\": 142108745.0, \"Production_Budget\": 60000000.0, \"Release_Date\": \"Nov 04 2005\", \"MPAA_Rating\": \"G\", \"Running_Time_min\": 80.0, \"Distributor\": \"Walt Disney Pictures\", \"Source\": \"Original Screenplay\", \"Major_Genre\": \"Adventure\", \"Creative_Type\": \"Kids Fiction\", \"Director\": \"Mark Dindal\", \"Rotten_Tomatoes_Rating\": 36.0, \"IMDB_Rating\": 5.8, \"IMDB_Votes\": 17415.0}, {\"Unnamed: 0\": 1443, \"Title\": \"Cheaper by the Dozen 2\", \"US_Gross\": 82571173.0, \"Worldwide_Gross\": 135015330.0, \"US_DVD_Sales\": 26537982.0, \"Production_Budget\": 60000000.0, \"Release_Date\": \"Dec 21 2005\", \"MPAA_Rating\": \"PG\", \"Running_Time_min\": 94.0, \"Distributor\": \"20th Century Fox\", \"Source\": \"Remake\", \"Major_Genre\": \"Comedy\", \"Creative_Type\": \"Contemporary Fiction\", \"Director\": \"Adam Shankman\", \"Rotten_Tomatoes_Rating\": 7.0, \"IMDB_Rating\": 5.2, \"IMDB_Votes\": 11858.0}, {\"Unnamed: 0\": 1448, \"Title\": \"Children of Men\", \"US_Gross\": 35552383.0, \"Worldwide_Gross\": 69450202.0, \"US_DVD_Sales\": 25345271.0, \"Production_Budget\": 76000000.0, \"Release_Date\": \"Dec 25 2006\", \"MPAA_Rating\": \"R\", \"Running_Time_min\": 114.0, \"Distributor\": \"Universal\", \"Source\": \"Based on Book/Short Story\", \"Major_Genre\": \"Thriller/Suspense\", \"Creative_Type\": \"Science Fiction\", \"Director\": \"Alfonso Cuaron\", \"Rotten_Tomatoes_Rating\": 93.0, \"IMDB_Rating\": 8.1, \"IMDB_Votes\": 158125.0}, {\"Unnamed: 0\": 1457, \"Title\": \"Charlotte's Web\", \"US_Gross\": 82985708.0, \"Worldwide_Gross\": 143985708.0, \"US_DVD_Sales\": 83571732.0, \"Production_Budget\": 82500000.0, \"Release_Date\": \"Dec 15 2006\", \"MPAA_Rating\": \"G\", \"Running_Time_min\": 98.0, \"Distributor\": \"Paramount Pictures\", \"Source\": \"Based on Book/Short Story\", \"Major_Genre\": \"Drama\", \"Creative_Type\": \"Fantasy\", \"Director\": \"Gary Winick\", \"Rotten_Tomatoes_Rating\": 78.0, \"IMDB_Rating\": 6.7, \"IMDB_Votes\": 8028.0}, {\"Unnamed: 0\": 1469, \"Title\": \"Code Name: The Cleaner\", \"US_Gross\": 8135024.0, \"Worldwide_Gross\": 8135024.0, \"US_DVD_Sales\": 4492233.0, \"Production_Budget\": 20000000.0, \"Release_Date\": \"Jan 05 2007\", \"MPAA_Rating\": \"PG-13\", \"Running_Time_min\": 91.0, \"Distributor\": \"New Line\", \"Source\": \"Original Screenplay\", \"Major_Genre\": \"Comedy\", \"Creative_Type\": \"Contemporary Fiction\", \"Director\": \"Les Mayfield\", \"Rotten_Tomatoes_Rating\": 4.0, \"IMDB_Rating\": 4.0, \"IMDB_Votes\": 5277.0}, {\"Unnamed: 0\": 1500, \"Title\": \"The Covenant\", \"US_Gross\": 23364784.0, \"Worldwide_Gross\": 38164784.0, \"US_DVD_Sales\": 26360430.0, \"Production_Budget\": 20000000.0, \"Release_Date\": \"Sep 08 2006\", \"MPAA_Rating\": \"PG-13\", \"Running_Time_min\": 95.0, \"Distributor\": \"Sony/Screen Gems\", \"Source\": \"Based on Comic/Graphic Novel\", \"Major_Genre\": \"Thriller/Suspense\", \"Creative_Type\": \"Contemporary Fiction\", \"Director\": \"Renny Harlin\", \"Rotten_Tomatoes_Rating\": 3.0, \"IMDB_Rating\": 4.8, \"IMDB_Votes\": 17736.0}, {\"Unnamed: 0\": 1502, \"Title\": \"Couples Retreat\", \"US_Gross\": 109205660.0, \"Worldwide_Gross\": 172450423.0, \"US_DVD_Sales\": 34715888.0, \"Production_Budget\": 60000000.0, \"Release_Date\": \"Oct 09 2009\", \"MPAA_Rating\": \"PG-13\", \"Running_Time_min\": 113.0, \"Distributor\": \"Universal\", \"Source\": \"Original Screenplay\", \"Major_Genre\": \"Comedy\", \"Creative_Type\": \"Contemporary Fiction\", \"Director\": \"Peter Billingsley\", \"Rotten_Tomatoes_Rating\": 12.0, \"IMDB_Rating\": 5.5, \"IMDB_Votes\": 18332.0}, {\"Unnamed: 0\": 1536, \"Title\": \"Cloudy with a Chance of Meatballs\", \"US_Gross\": 124870275.0, \"Worldwide_Gross\": 139525862.0, \"US_DVD_Sales\": 42574228.0, \"Production_Budget\": 100000000.0, \"Release_Date\": \"Sep 18 2009\", \"MPAA_Rating\": \"PG\", \"Running_Time_min\": 90.0, \"Distributor\": \"Sony Pictures\", \"Source\": \"Based on Book/Short Story\", \"Major_Genre\": \"Comedy\", \"Creative_Type\": \"Kids Fiction\", \"Director\": \"Phil Lord\", \"Rotten_Tomatoes_Rating\": 86.0, \"IMDB_Rating\": 7.2, \"IMDB_Votes\": 19913.0}, {\"Unnamed: 0\": 1541, \"Title\": \"The Black Dahlia\", \"US_Gross\": 22672813.0, \"Worldwide_Gross\": 46672813.0, \"US_DVD_Sales\": 12350794.0, \"Production_Budget\": 60000000.0, \"Release_Date\": \"Sep 15 2006\", \"MPAA_Rating\": \"R\", \"Running_Time_min\": 121.0, \"Distributor\": \"Universal\", \"Source\": \"Based on Book/Short Story\", \"Major_Genre\": \"Thriller/Suspense\", \"Creative_Type\": \"Historical Fiction\", \"Director\": \"Brian De Palma\", \"Rotten_Tomatoes_Rating\": 33.0, \"IMDB_Rating\": 5.6, \"IMDB_Votes\": 35210.0}, {\"Unnamed: 0\": 1556, \"Title\": \"The Great Debaters\", \"US_Gross\": 30226144.0, \"Worldwide_Gross\": 30226144.0, \"US_DVD_Sales\": 24133037.0, \"Production_Budget\": 15000000.0, \"Release_Date\": \"Dec 25 2007\", \"MPAA_Rating\": \"PG-13\", \"Running_Time_min\": 130.0, \"Distributor\": \"Weinstein Co.\", \"Source\": \"Based on Real Life Events\", \"Major_Genre\": \"Drama\", \"Creative_Type\": \"Dramatization\", \"Director\": \"Denzel Washington\", \"Rotten_Tomatoes_Rating\": 79.0, \"IMDB_Rating\": 7.6, \"IMDB_Votes\": 14530.0}, {\"Unnamed: 0\": 1586, \"Title\": \"Live Free or Die Hard\", \"US_Gross\": 134529403.0, \"Worldwide_Gross\": 383531464.0, \"US_DVD_Sales\": 100774964.0, \"Production_Budget\": 110000000.0, \"Release_Date\": \"Jun 27 2007\", \"MPAA_Rating\": \"PG-13\", \"Running_Time_min\": 128.0, \"Distributor\": \"20th Century Fox\", \"Source\": \"Based on Book/Short Story\", \"Major_Genre\": \"Action\", \"Creative_Type\": \"Contemporary Fiction\", \"Director\": \"Len Wiseman\", \"Rotten_Tomatoes_Rating\": 82.0, \"IMDB_Rating\": 7.5, \"IMDB_Votes\": 130559.0}, {\"Unnamed: 0\": 1590, \"Title\": \"Disaster Movie\", \"US_Gross\": 14190901.0, \"Worldwide_Gross\": 34690901.0, \"US_DVD_Sales\": 9859088.0, \"Production_Budget\": 20000000.0, \"Release_Date\": \"Aug 29 2008\", \"MPAA_Rating\": \"PG-13\", \"Running_Time_min\": 88.0, \"Distributor\": \"Lionsgate\", \"Source\": \"Original Screenplay\", \"Major_Genre\": \"Comedy\", \"Creative_Type\": \"Contemporary Fiction\", \"Director\": \"Jason Friedberg\", \"Rotten_Tomatoes_Rating\": 2.0, \"IMDB_Rating\": 1.7000000000000002, \"IMDB_Votes\": 34928.0}, {\"Unnamed: 0\": 1591, \"Title\": \"District 9\", \"US_Gross\": 115646235.0, \"Worldwide_Gross\": 206552113.0, \"US_DVD_Sales\": 30058184.0, \"Production_Budget\": 30000000.0, \"Release_Date\": \"Aug 14 2009\", \"MPAA_Rating\": \"R\", \"Running_Time_min\": 111.0, \"Distributor\": \"Sony Pictures\", \"Source\": \"Original Screenplay\", \"Major_Genre\": \"Thriller/Suspense\", \"Creative_Type\": \"Science Fiction\", \"Director\": \"Neill Blomkamp\", \"Rotten_Tomatoes_Rating\": 91.0, \"IMDB_Rating\": 8.3, \"IMDB_Votes\": 151742.0}, {\"Unnamed: 0\": 1608, \"Title\": \"Domino\", \"US_Gross\": 10169202.0, \"Worldwide_Gross\": 17759202.0, \"US_DVD_Sales\": 15573570.0, \"Production_Budget\": 50000000.0, \"Release_Date\": \"Oct 14 2005\", \"MPAA_Rating\": \"R\", \"Running_Time_min\": 133.0, \"Distributor\": \"New Line\", \"Source\": \"Based on Real Life Events\", \"Major_Genre\": \"Action\", \"Creative_Type\": \"Dramatization\", \"Director\": \"Tony Scott\", \"Rotten_Tomatoes_Rating\": 19.0, \"IMDB_Rating\": 5.9, \"IMDB_Votes\": 32560.0}, {\"Unnamed: 0\": 1616, \"Title\": \"The Departed\", \"US_Gross\": 133311000.0, \"Worldwide_Gross\": 290539042.0, \"US_DVD_Sales\": 140689412.0, \"Production_Budget\": 90000000.0, \"Release_Date\": \"Oct 06 2006\", \"MPAA_Rating\": \"R\", \"Running_Time_min\": 152.0, \"Distributor\": \"Warner Bros.\", \"Source\": \"Remake\", \"Major_Genre\": \"Drama\", \"Creative_Type\": \"Contemporary Fiction\", \"Director\": \"Martin Scorsese\", \"Rotten_Tomatoes_Rating\": 93.0, \"IMDB_Rating\": 8.5, \"IMDB_Votes\": 264148.0}, {\"Unnamed: 0\": 1618, \"Title\": \"Death Race\", \"US_Gross\": 36316032.0, \"Worldwide_Gross\": 72516819.0, \"US_DVD_Sales\": 24667330.0, \"Production_Budget\": 65000000.0, \"Release_Date\": \"Aug 22 2008\", \"MPAA_Rating\": \"R\", \"Running_Time_min\": 105.0, \"Distributor\": \"Universal\", \"Source\": \"Remake\", \"Major_Genre\": \"Action\", \"Creative_Type\": \"Science Fiction\", \"Director\": \"Paul Anderson\", \"Rotten_Tomatoes_Rating\": 41.0, \"IMDB_Rating\": 6.6, \"IMDB_Votes\": 40611.0}, {\"Unnamed: 0\": 1619, \"Title\": \"Drag Me To Hell\", \"US_Gross\": 42100625.0, \"Worldwide_Gross\": 85724728.0, \"US_DVD_Sales\": 13123388.0, \"Production_Budget\": 30000000.0, \"Release_Date\": \"May 29 2009\", \"MPAA_Rating\": \"PG-13\", \"Running_Time_min\": 99.0, \"Distributor\": \"Universal\", \"Source\": \"Original Screenplay\", \"Major_Genre\": \"Horror\", \"Creative_Type\": \"Fantasy\", \"Director\": \"Sam Raimi\", \"Rotten_Tomatoes_Rating\": 92.0, \"IMDB_Rating\": 7.1, \"IMDB_Votes\": 51343.0}, {\"Unnamed: 0\": 1631, \"Title\": \"Dreamgirls\", \"US_Gross\": 103365956.0, \"Worldwide_Gross\": 154965956.0, \"US_DVD_Sales\": 53674555.0, \"Production_Budget\": 75000000.0, \"Release_Date\": \"Dec 15 2006\", \"MPAA_Rating\": \"PG-13\", \"Running_Time_min\": 130.0, \"Distributor\": \"Paramount Pictures\", \"Source\": \"Based on Musical/Opera\", \"Major_Genre\": \"Musical\", \"Creative_Type\": \"Historical Fiction\", \"Director\": \"Bill Condon\", \"Rotten_Tomatoes_Rating\": 78.0, \"IMDB_Rating\": 6.6, \"IMDB_Votes\": 28016.0}, {\"Unnamed: 0\": 1641, \"Title\": \"Disturbia\", \"US_Gross\": 80209692.0, \"Worldwide_Gross\": 117573043.0, \"US_DVD_Sales\": 34508128.0, \"Production_Budget\": 20000000.0, \"Release_Date\": \"Apr 13 2007\", \"MPAA_Rating\": \"PG-13\", \"Running_Time_min\": 104.0, \"Distributor\": \"Paramount Pictures\", \"Source\": \"Original Screenplay\", \"Major_Genre\": \"Thriller/Suspense\", \"Creative_Type\": \"Contemporary Fiction\", \"Director\": \"D.J. Caruso\", \"Rotten_Tomatoes_Rating\": 68.0, \"IMDB_Rating\": 7.0, \"IMDB_Votes\": 72231.0}, {\"Unnamed: 0\": 1669, \"Title\": \"Eagle Eye\", \"US_Gross\": 101440743.0, \"Worldwide_Gross\": 178066569.0, \"US_DVD_Sales\": 38374936.0, \"Production_Budget\": 80000000.0, \"Release_Date\": \"Sep 26 2008\", \"MPAA_Rating\": \"PG-13\", \"Running_Time_min\": 117.0, \"Distributor\": \"Paramount Pictures\", \"Source\": \"Original Screenplay\", \"Major_Genre\": \"Thriller/Suspense\", \"Creative_Type\": \"Contemporary Fiction\", \"Director\": \"D.J. Caruso\", \"Rotten_Tomatoes_Rating\": 27.0, \"IMDB_Rating\": 6.6, \"IMDB_Votes\": 52336.0}, {\"Unnamed: 0\": 1684, \"Title\": \"Enchanted\", \"US_Gross\": 127706877.0, \"Worldwide_Gross\": 340384141.0, \"US_DVD_Sales\": 87698079.0, \"Production_Budget\": 85000000.0, \"Release_Date\": \"Nov 21 2007\", \"MPAA_Rating\": \"PG\", \"Running_Time_min\": 108.0, \"Distributor\": \"Walt Disney Pictures\", \"Source\": \"Original Screenplay\", \"Major_Genre\": \"Romantic Comedy\", \"Creative_Type\": \"Fantasy\", \"Director\": \"Kevin Lima\", \"Rotten_Tomatoes_Rating\": 92.0, \"IMDB_Rating\": 7.5, \"IMDB_Votes\": 55697.0}, {\"Unnamed: 0\": 1693, \"Title\": \"Epic Movie\", \"US_Gross\": 39739367.0, \"Worldwide_Gross\": 86858578.0, \"US_DVD_Sales\": 16839362.0, \"Production_Budget\": 20000000.0, \"Release_Date\": \"Jan 26 2007\", \"MPAA_Rating\": \"PG-13\", \"Running_Time_min\": 86.0, \"Distributor\": \"20th Century Fox\", \"Source\": \"Original Screenplay\", \"Major_Genre\": \"Comedy\", \"Creative_Type\": \"Contemporary Fiction\", \"Director\": \"Jason Friedberg\", \"Rotten_Tomatoes_Rating\": 2.0, \"IMDB_Rating\": 2.2, \"IMDB_Votes\": 48975.0}, {\"Unnamed: 0\": 1696, \"Title\": \"Elizabethtown\", \"US_Gross\": 26850426.0, \"Worldwide_Gross\": 50719373.0, \"US_DVD_Sales\": 15854391.0, \"Production_Budget\": 54000000.0, \"Release_Date\": \"Oct 14 2005\", \"MPAA_Rating\": \"PG-13\", \"Running_Time_min\": 133.0, \"Distributor\": \"Paramount Pictures\", \"Source\": \"Original Screenplay\", \"Major_Genre\": \"Drama\", \"Creative_Type\": \"Contemporary Fiction\", \"Director\": \"Cameron Crowe\", \"Rotten_Tomatoes_Rating\": 28.0, \"IMDB_Rating\": 6.4, \"IMDB_Votes\": 31775.0}, {\"Unnamed: 0\": 1738, \"Title\": \"Fantastic Four\", \"US_Gross\": 154696080.0, \"Worldwide_Gross\": 330579719.0, \"US_DVD_Sales\": 4702358.0, \"Production_Budget\": 87500000.0, \"Release_Date\": \"Jul 08 2005\", \"MPAA_Rating\": \"PG-13\", \"Running_Time_min\": 123.0, \"Distributor\": \"20th Century Fox\", \"Source\": \"Based on Comic/Graphic Novel\", \"Major_Genre\": \"Action\", \"Creative_Type\": \"Super Hero\", \"Director\": \"Tim Story\", \"Rotten_Tomatoes_Rating\": 27.0, \"IMDB_Rating\": 5.7, \"IMDB_Votes\": 71675.0}, {\"Unnamed: 0\": 1763, \"Title\": \"Flushed Away\", \"US_Gross\": 64665672.0, \"Worldwide_Gross\": 177665672.0, \"US_DVD_Sales\": 71025931.0, \"Production_Budget\": 149000000.0, \"Release_Date\": \"Nov 03 2006\", \"MPAA_Rating\": \"PG\", \"Running_Time_min\": 85.0, \"Distributor\": \"Paramount Pictures\", \"Source\": \"Original Screenplay\", \"Major_Genre\": \"Comedy\", \"Creative_Type\": \"Kids Fiction\", \"Director\": \"Sam Fell\", \"Rotten_Tomatoes_Rating\": 72.0, \"IMDB_Rating\": 7.0, \"IMDB_Votes\": 21334.0}, {\"Unnamed: 0\": 1764, \"Title\": \"Flyboys\", \"US_Gross\": 13090630.0, \"Worldwide_Gross\": 14816379.0, \"US_DVD_Sales\": 23631077.0, \"Production_Budget\": 60000000.0, \"Release_Date\": \"Sep 22 2006\", \"MPAA_Rating\": \"PG-13\", \"Running_Time_min\": 139.0, \"Distributor\": \"MGM\", \"Source\": \"Based on Real Life Events\", \"Major_Genre\": \"Drama\", \"Creative_Type\": \"Dramatization\", \"Director\": \"Tony Bill\", \"Rotten_Tomatoes_Rating\": 33.0, \"IMDB_Rating\": 6.5, \"IMDB_Votes\": 13934.0}, {\"Unnamed: 0\": 1773, \"Title\": \"The Fountain\", \"US_Gross\": 10144010.0, \"Worldwide_Gross\": 15461638.0, \"US_DVD_Sales\": 8752844.0, \"Production_Budget\": 35000000.0, \"Release_Date\": \"Nov 22 2006\", \"MPAA_Rating\": \"PG-13\", \"Running_Time_min\": 96.0, \"Distributor\": \"Warner Bros.\", \"Source\": \"Original Screenplay\", \"Major_Genre\": \"Drama\", \"Creative_Type\": \"Science Fiction\", \"Director\": \"Darren Aronofsky\", \"Rotten_Tomatoes_Rating\": 51.0, \"IMDB_Rating\": 7.4, \"IMDB_Votes\": 72562.0}, {\"Unnamed: 0\": 1778, \"Title\": \"The Forbidden Kingdom\", \"US_Gross\": 52075270.0, \"Worldwide_Gross\": 129075270.0, \"US_DVD_Sales\": 23318686.0, \"Production_Budget\": 55000000.0, \"Release_Date\": \"Apr 18 2008\", \"MPAA_Rating\": \"PG-13\", \"Running_Time_min\": 105.0, \"Distributor\": \"Lionsgate\", \"Source\": \"Based on Book/Short Story\", \"Major_Genre\": \"Action\", \"Creative_Type\": \"Fantasy\", \"Director\": \"Rob Minkoff\", \"Rotten_Tomatoes_Rating\": 64.0, \"IMDB_Rating\": 6.7, \"IMDB_Votes\": 36548.0}, {\"Unnamed: 0\": 1779, \"Title\": \"Freedom Writers\", \"US_Gross\": 36605602.0, \"Worldwide_Gross\": 43090741.0, \"US_DVD_Sales\": 20532539.0, \"Production_Budget\": 21000000.0, \"Release_Date\": \"Jan 05 2007\", \"MPAA_Rating\": \"PG-13\", \"Running_Time_min\": 122.0, \"Distributor\": \"Paramount Pictures\", \"Source\": \"Based on Book/Short Story\", \"Major_Genre\": \"Drama\", \"Creative_Type\": \"Dramatization\", \"Director\": \"Richard LaGravenese\", \"Rotten_Tomatoes_Rating\": 69.0, \"IMDB_Rating\": 7.5, \"IMDB_Votes\": 18065.0}, {\"Unnamed: 0\": 1793, \"Title\": \"Fireproof\", \"US_Gross\": 33451479.0, \"Worldwide_Gross\": 33451479.0, \"US_DVD_Sales\": 31898934.0, \"Production_Budget\": 500000.0, \"Release_Date\": \"Sep 26 2008\", \"MPAA_Rating\": \"PG\", \"Running_Time_min\": 122.0, \"Distributor\": \"Samuel Goldwyn Films\", \"Source\": \"Original Screenplay\", \"Major_Genre\": \"Drama\", \"Creative_Type\": \"Contemporary Fiction\", \"Director\": \"Alex Kendrick\", \"Rotten_Tomatoes_Rating\": 40.0, \"IMDB_Rating\": 5.6, \"IMDB_Votes\": 5498.0}, {\"Unnamed: 0\": 1795, \"Title\": \"Frost/Nixon\", \"US_Gross\": 18622031.0, \"Worldwide_Gross\": 28144586.0, \"US_DVD_Sales\": 6677601.0, \"Production_Budget\": 29000000.0, \"Release_Date\": \"Dec 05 2008\", \"MPAA_Rating\": \"R\", \"Running_Time_min\": 122.0, \"Distributor\": \"Universal\", \"Source\": \"Based on Play\", \"Major_Genre\": \"Drama\", \"Creative_Type\": \"Dramatization\", \"Director\": \"Ron Howard\", \"Rotten_Tomatoes_Rating\": 92.0, \"IMDB_Rating\": 7.9, \"IMDB_Votes\": 36366.0}, {\"Unnamed: 0\": 1808, \"Title\": \"Georgia Rule\", \"US_Gross\": 18882880.0, \"Worldwide_Gross\": 20819601.0, \"US_DVD_Sales\": 19382312.0, \"Production_Budget\": 20000000.0, \"Release_Date\": \"May 11 2007\", \"MPAA_Rating\": \"R\", \"Running_Time_min\": 111.0, \"Distributor\": \"Universal\", \"Source\": \"Original Screenplay\", \"Major_Genre\": \"Drama\", \"Creative_Type\": \"Contemporary Fiction\", \"Director\": \"Garry Marshall\", \"Rotten_Tomatoes_Rating\": 17.0, \"IMDB_Rating\": 5.8, \"IMDB_Votes\": 10902.0}, {\"Unnamed: 0\": 1821, \"Title\": \"Gridiron Gang\", \"US_Gross\": 38432823.0, \"Worldwide_Gross\": 41480851.0, \"US_DVD_Sales\": 34066576.0, \"Production_Budget\": 30000000.0, \"Release_Date\": \"Sep 15 2006\", \"MPAA_Rating\": \"PG-13\", \"Running_Time_min\": 126.0, \"Distributor\": \"Sony Pictures\", \"Source\": \"Based on Real Life Events\", \"Major_Genre\": \"Drama\", \"Creative_Type\": \"Dramatization\", \"Director\": \"Phil Joanou\", \"Rotten_Tomatoes_Rating\": 41.0, \"IMDB_Rating\": 6.8, \"IMDB_Votes\": 12400.0}, {\"Unnamed: 0\": 1826, \"Title\": \"Ghost Rider\", \"US_Gross\": 115802596.0, \"Worldwide_Gross\": 237702596.0, \"US_DVD_Sales\": 103730683.0, \"Production_Budget\": 120000000.0, \"Release_Date\": \"Feb 16 2007\", \"MPAA_Rating\": \"PG-13\", \"Running_Time_min\": 110.0, \"Distributor\": \"Sony Pictures\", \"Source\": \"Based on Comic/Graphic Novel\", \"Major_Genre\": \"Action\", \"Creative_Type\": \"Super Hero\", \"Director\": \"Mark Steven Johnson\", \"Rotten_Tomatoes_Rating\": 26.0, \"IMDB_Rating\": 5.2, \"IMDB_Votes\": 63235.0}, {\"Unnamed: 0\": 1827, \"Title\": \"Ghost Town\", \"US_Gross\": 13252641.0, \"Worldwide_Gross\": 26612350.0, \"US_DVD_Sales\": 7574314.0, \"Production_Budget\": 20000000.0, \"Release_Date\": \"Sep 19 2008\", \"MPAA_Rating\": \"PG-13\", \"Running_Time_min\": 102.0, \"Distributor\": \"Paramount Pictures\", \"Source\": \"Original Screenplay\", \"Major_Genre\": \"Romantic Comedy\", \"Creative_Type\": \"Fantasy\", \"Director\": \"David Koepp\", \"Rotten_Tomatoes_Rating\": 85.0, \"IMDB_Rating\": 4.7, \"IMDB_Votes\": 310.0}, {\"Unnamed: 0\": 1855, \"Title\": \"The Game Plan\", \"US_Gross\": 90648202.0, \"Worldwide_Gross\": 147914546.0, \"US_DVD_Sales\": 50113315.0, \"Production_Budget\": 22000000.0, \"Release_Date\": \"Sep 22 2007\", \"MPAA_Rating\": \"PG\", \"Running_Time_min\": 110.0, \"Distributor\": \"Walt Disney Pictures\", \"Source\": \"Original Screenplay\", \"Major_Genre\": \"Comedy\", \"Creative_Type\": \"Contemporary Fiction\", \"Director\": \"Andy Fickman\", \"Rotten_Tomatoes_Rating\": 27.0, \"IMDB_Rating\": 6.3, \"IMDB_Votes\": 14984.0}, {\"Unnamed: 0\": 1872, \"Title\": \"Wallace & Gromit: The Curse of the Were-Rabbit\", \"US_Gross\": 56068547.0, \"Worldwide_Gross\": 185724838.0, \"US_DVD_Sales\": 35069986.0, \"Production_Budget\": 30000000.0, \"Release_Date\": \"Oct 05 2005\", \"MPAA_Rating\": \"G\", \"Running_Time_min\": 85.0, \"Distributor\": \"Dreamworks SKG\", \"Source\": \"Original Screenplay\", \"Major_Genre\": \"Adventure\", \"Creative_Type\": \"Kids Fiction\", \"Director\": \"Nick Park\", \"Rotten_Tomatoes_Rating\": 95.0, \"IMDB_Rating\": 7.9, \"IMDB_Votes\": 38158.0}, {\"Unnamed: 0\": 1887, \"Title\": \"Hairspray\", \"US_Gross\": 118823091.0, \"Worldwide_Gross\": 202823091.0, \"US_DVD_Sales\": 104104829.0, \"Production_Budget\": 75000000.0, \"Release_Date\": \"Jul 20 2007\", \"MPAA_Rating\": \"PG\", \"Running_Time_min\": 117.0, \"Distributor\": \"New Line\", \"Source\": \"Remake\", \"Major_Genre\": \"Musical\", \"Creative_Type\": \"Historical Fiction\", \"Director\": \"Adam Shankman\", \"Rotten_Tomatoes_Rating\": 91.0, \"IMDB_Rating\": 7.2, \"IMDB_Votes\": 41511.0}, {\"Unnamed: 0\": 1894, \"Title\": \"The Happening\", \"US_Gross\": 64506874.0, \"Worldwide_Gross\": 163403799.0, \"US_DVD_Sales\": 21432877.0, \"Production_Budget\": 60000000.0, \"Release_Date\": \"Jun 13 2008\", \"MPAA_Rating\": \"R\", \"Running_Time_min\": 89.0, \"Distributor\": \"20th Century Fox\", \"Source\": \"Original Screenplay\", \"Major_Genre\": \"Thriller/Suspense\", \"Creative_Type\": \"Science Fiction\", \"Director\": \"M. Night Shyamalan\", \"Rotten_Tomatoes_Rating\": 18.0, \"IMDB_Rating\": 5.2, \"IMDB_Votes\": 72259.0}, {\"Unnamed: 0\": 1900, \"Title\": \"The House Bunny\", \"US_Gross\": 48237389.0, \"Worldwide_Gross\": 70237389.0, \"US_DVD_Sales\": 15442818.0, \"Production_Budget\": 25000000.0, \"Release_Date\": \"Aug 22 2008\", \"MPAA_Rating\": \"PG-13\", \"Running_Time_min\": 98.0, \"Distributor\": \"Sony Pictures\", \"Source\": \"Original Screenplay\", \"Major_Genre\": \"Comedy\", \"Creative_Type\": \"Contemporary Fiction\", \"Director\": \"Fred Wolf\", \"Rotten_Tomatoes_Rating\": 39.0, \"IMDB_Rating\": 5.5, \"IMDB_Votes\": 18964.0}, {\"Unnamed: 0\": 1945, \"Title\": \"Hannibal Rising\", \"US_Gross\": 27669725.0, \"Worldwide_Gross\": 80583311.0, \"US_DVD_Sales\": 23365803.0, \"Production_Budget\": 50000000.0, \"Release_Date\": \"Feb 09 2007\", \"MPAA_Rating\": \"R\", \"Running_Time_min\": 121.0, \"Distributor\": \"Weinstein Co.\", \"Source\": \"Based on Book/Short Story\", \"Major_Genre\": \"Thriller/Suspense\", \"Creative_Type\": \"Historical Fiction\", \"Director\": \"Peter Webber\", \"Rotten_Tomatoes_Rating\": 15.0, \"IMDB_Rating\": 6.0, \"IMDB_Votes\": 28690.0}, {\"Unnamed: 0\": 1946, \"Title\": \"The Hangover\", \"US_Gross\": 277322503.0, \"Worldwide_Gross\": 465132119.0, \"US_DVD_Sales\": 165916727.0, \"Production_Budget\": 35000000.0, \"Release_Date\": \"Jun 05 2009\", \"MPAA_Rating\": \"R\", \"Running_Time_min\": 99.0, \"Distributor\": \"Warner Bros.\", \"Source\": \"Original Screenplay\", \"Major_Genre\": \"Comedy\", \"Creative_Type\": \"Contemporary Fiction\", \"Director\": \"Todd Phillips\", \"Rotten_Tomatoes_Rating\": 78.0, \"IMDB_Rating\": 7.9, \"IMDB_Votes\": 127634.0}, {\"Unnamed: 0\": 1950, \"Title\": \"The Holiday\", \"US_Gross\": 63280000.0, \"Worldwide_Gross\": 205190324.0, \"US_DVD_Sales\": 71449071.0, \"Production_Budget\": 85000000.0, \"Release_Date\": \"Dec 08 2006\", \"MPAA_Rating\": \"PG-13\", \"Running_Time_min\": 131.0, \"Distributor\": \"Sony Pictures\", \"Source\": \"Original Screenplay\", \"Major_Genre\": \"Romantic Comedy\", \"Creative_Type\": \"Contemporary Fiction\", \"Director\": \"Nancy Meyers\", \"Rotten_Tomatoes_Rating\": 47.0, \"IMDB_Rating\": 6.9, \"IMDB_Votes\": 48215.0}, {\"Unnamed: 0\": 1972, \"Title\": \"Harry Potter and the Goblet of Fire\", \"US_Gross\": 290013036.0, \"Worldwide_Gross\": 896013036.0, \"US_DVD_Sales\": 215701005.0, \"Production_Budget\": 150000000.0, \"Release_Date\": \"Nov 18 2005\", \"MPAA_Rating\": \"PG-13\", \"Running_Time_min\": 157.0, \"Distributor\": \"Warner Bros.\", \"Source\": \"Based on Book/Short Story\", \"Major_Genre\": \"Adventure\", \"Creative_Type\": \"Fantasy\", \"Director\": \"Mike Newell\", \"Rotten_Tomatoes_Rating\": 88.0, \"IMDB_Rating\": 7.6, \"IMDB_Votes\": 111946.0}, {\"Unnamed: 0\": 1973, \"Title\": \"Harry Potter and the Order of the Phoenix\", \"US_Gross\": 292004738.0, \"Worldwide_Gross\": 938468864.0, \"US_DVD_Sales\": 220867077.0, \"Production_Budget\": 150000000.0, \"Release_Date\": \"Jul 11 2007\", \"MPAA_Rating\": \"PG-13\", \"Running_Time_min\": 138.0, \"Distributor\": \"Warner Bros.\", \"Source\": \"Based on Book/Short Story\", \"Major_Genre\": \"Adventure\", \"Creative_Type\": \"Fantasy\", \"Director\": \"David Yates\", \"Rotten_Tomatoes_Rating\": 78.0, \"IMDB_Rating\": 7.4, \"IMDB_Votes\": 104074.0}, {\"Unnamed: 0\": 1974, \"Title\": \"Harry Potter and the Half-Blood Prince\", \"US_Gross\": 301959197.0, \"Worldwide_Gross\": 937499905.0, \"US_DVD_Sales\": 103574938.0, \"Production_Budget\": 250000000.0, \"Release_Date\": \"Jul 15 2009\", \"MPAA_Rating\": \"PG\", \"Running_Time_min\": 153.0, \"Distributor\": \"Warner Bros.\", \"Source\": \"Based on Book/Short Story\", \"Major_Genre\": \"Adventure\", \"Creative_Type\": \"Fantasy\", \"Director\": \"David Yates\", \"Rotten_Tomatoes_Rating\": 83.0, \"IMDB_Rating\": 7.3, \"IMDB_Votes\": 73720.0}, {\"Unnamed: 0\": 1976, \"Title\": \"Happy Feet\", \"US_Gross\": 198000317.0, \"Worldwide_Gross\": 385000317.0, \"US_DVD_Sales\": 203263968.0, \"Production_Budget\": 85000000.0, \"Release_Date\": \"Nov 17 2006\", \"MPAA_Rating\": \"PG\", \"Running_Time_min\": 108.0, \"Distributor\": \"Warner Bros.\", \"Source\": \"Original Screenplay\", \"Major_Genre\": \"Adventure\", \"Creative_Type\": \"Kids Fiction\", \"Director\": \"George Miller\", \"Rotten_Tomatoes_Rating\": 74.0, \"IMDB_Rating\": 6.7, \"IMDB_Votes\": 42369.0}, {\"Unnamed: 0\": 1987, \"Title\": \"Hot Fuzz\", \"US_Gross\": 23618786.0, \"Worldwide_Gross\": 79197493.0, \"US_DVD_Sales\": 33391776.0, \"Production_Budget\": 16000000.0, \"Release_Date\": \"Apr 20 2007\", \"MPAA_Rating\": \"R\", \"Running_Time_min\": 121.0, \"Distributor\": \"Focus Features\", \"Source\": \"Original Screenplay\", \"Major_Genre\": \"Comedy\", \"Creative_Type\": \"Contemporary Fiction\", \"Director\": \"Edgar Wright\", \"Rotten_Tomatoes_Rating\": 91.0, \"IMDB_Rating\": 8.0, \"IMDB_Votes\": 129779.0}, {\"Unnamed: 0\": 1992, \"Title\": \"The Incredible Hulk\", \"US_Gross\": 134806913.0, \"Worldwide_Gross\": 263349257.0, \"US_DVD_Sales\": 58503066.0, \"Production_Budget\": 137500000.0, \"Release_Date\": \"Jun 13 2008\", \"MPAA_Rating\": \"PG-13\", \"Running_Time_min\": 112.0, \"Distributor\": \"Universal\", \"Source\": \"Based on Comic/Graphic Novel\", \"Major_Genre\": \"Adventure\", \"Creative_Type\": \"Super Hero\", \"Director\": \"Louis Leterrier\", \"Rotten_Tomatoes_Rating\": 66.0, \"IMDB_Rating\": 7.1, \"IMDB_Votes\": 82419.0}, {\"Unnamed: 0\": 2021, \"Title\": \"The Imaginarium of Doctor Parnassus\", \"US_Gross\": 7689458.0, \"Worldwide_Gross\": 58692979.0, \"US_DVD_Sales\": 5387124.0, \"Production_Budget\": 30000000.0, \"Release_Date\": \"Dec 25 2009\", \"MPAA_Rating\": \"PG-13\", \"Running_Time_min\": 122.0, \"Distributor\": \"Sony Pictures Classics\", \"Source\": \"Original Screenplay\", \"Major_Genre\": \"Adventure\", \"Creative_Type\": \"Fantasy\", \"Director\": \"Terry Gilliam\", \"Rotten_Tomatoes_Rating\": 64.0, \"IMDB_Rating\": 7.1, \"IMDB_Votes\": 33374.0}, {\"Unnamed: 0\": 2034, \"Title\": \"Inkheart\", \"US_Gross\": 17303424.0, \"Worldwide_Gross\": 58051454.0, \"US_DVD_Sales\": 8342886.0, \"Production_Budget\": 60000000.0, \"Release_Date\": \"Jan 23 2009\", \"MPAA_Rating\": \"PG\", \"Running_Time_min\": 105.0, \"Distributor\": \"Warner Bros.\", \"Source\": \"Based on Book/Short Story\", \"Major_Genre\": \"Adventure\", \"Creative_Type\": \"Fantasy\", \"Director\": \"Iain Softley\", \"Rotten_Tomatoes_Rating\": 40.0, \"IMDB_Rating\": 6.1, \"IMDB_Votes\": 14157.0}, {\"Unnamed: 0\": 2036, \"Title\": \"I Now Pronounce You Chuck and Larry\", \"US_Gross\": 119725280.0, \"Worldwide_Gross\": 185708462.0, \"US_DVD_Sales\": 69334335.0, \"Production_Budget\": 85000000.0, \"Release_Date\": \"Jul 20 2007\", \"MPAA_Rating\": \"PG-13\", \"Running_Time_min\": 115.0, \"Distributor\": \"Universal\", \"Source\": \"Original Screenplay\", \"Major_Genre\": \"Comedy\", \"Creative_Type\": \"Contemporary Fiction\", \"Director\": \"Dennis Dugan\", \"Rotten_Tomatoes_Rating\": 14.0, \"IMDB_Rating\": 6.1, \"IMDB_Votes\": 46347.0}, {\"Unnamed: 0\": 2047, \"Title\": \"Iron Man\", \"US_Gross\": 318604126.0, \"Worldwide_Gross\": 582604126.0, \"US_DVD_Sales\": 169251757.0, \"Production_Budget\": 186000000.0, \"Release_Date\": \"May 02 2008\", \"MPAA_Rating\": \"PG-13\", \"Running_Time_min\": 126.0, \"Distributor\": \"Paramount Pictures\", \"Source\": \"Based on Comic/Graphic Novel\", \"Major_Genre\": \"Action\", \"Creative_Type\": \"Super Hero\", \"Director\": \"Jon Favreau\", \"Rotten_Tomatoes_Rating\": 94.0, \"IMDB_Rating\": 7.9, \"IMDB_Votes\": 174040.0}, {\"Unnamed: 0\": 2054, \"Title\": \"I Think I Love My Wife\", \"US_Gross\": 12559771.0, \"Worldwide_Gross\": 13205411.0, \"US_DVD_Sales\": 13566229.0, \"Production_Budget\": 14000000.0, \"Release_Date\": \"Mar 16 2007\", \"MPAA_Rating\": \"R\", \"Running_Time_min\": 94.0, \"Distributor\": \"Fox Searchlight\", \"Source\": \"Remake\", \"Major_Genre\": \"Romantic Comedy\", \"Creative_Type\": \"Contemporary Fiction\", \"Director\": \"Chris Rock\", \"Rotten_Tomatoes_Rating\": 19.0, \"IMDB_Rating\": 5.5, \"IMDB_Votes\": 8643.0}, {\"Unnamed: 0\": 2060, \"Title\": \"Jarhead\", \"US_Gross\": 62647540.0, \"Worldwide_Gross\": 96947540.0, \"US_DVD_Sales\": 52209103.0, \"Production_Budget\": 72000000.0, \"Release_Date\": \"Nov 04 2005\", \"MPAA_Rating\": \"R\", \"Running_Time_min\": 115.0, \"Distributor\": \"Universal\", \"Source\": \"Based on Book/Short Story\", \"Major_Genre\": \"Drama\", \"Creative_Type\": \"Dramatization\", \"Director\": \"Sam Mendes\", \"Rotten_Tomatoes_Rating\": 61.0, \"IMDB_Rating\": 7.2, \"IMDB_Votes\": 60650.0}, {\"Unnamed: 0\": 2064, \"Title\": \"Casino Royale\", \"US_Gross\": 167365000.0, \"Worldwide_Gross\": 596365000.0, \"US_DVD_Sales\": 79681613.0, \"Production_Budget\": 102000000.0, \"Release_Date\": \"Nov 17 2006\", \"MPAA_Rating\": \"PG-13\", \"Running_Time_min\": 144.0, \"Distributor\": \"Sony Pictures\", \"Source\": \"Based on Book/Short Story\", \"Major_Genre\": \"Action\", \"Creative_Type\": \"Contemporary Fiction\", \"Director\": \"Martin Campbell\", \"Rotten_Tomatoes_Rating\": 94.0, \"IMDB_Rating\": 8.0, \"IMDB_Votes\": 172936.0}, {\"Unnamed: 0\": 2099, \"Title\": \"Juno\", \"US_Gross\": 143495265.0, \"Worldwide_Gross\": 230327671.0, \"US_DVD_Sales\": 57612374.0, \"Production_Budget\": 7000000.0, \"Release_Date\": \"Dec 05 2007\", \"MPAA_Rating\": \"PG-13\", \"Running_Time_min\": 95.0, \"Distributor\": \"Fox Searchlight\", \"Source\": \"Original Screenplay\", \"Major_Genre\": \"Comedy\", \"Creative_Type\": \"Contemporary Fiction\", \"Director\": \"Jason Reitman\", \"Rotten_Tomatoes_Rating\": 93.0, \"IMDB_Rating\": 7.9, \"IMDB_Votes\": 149855.0}, {\"Unnamed: 0\": 2123, \"Title\": \"King Kong\", \"US_Gross\": 218080025.0, \"Worldwide_Gross\": 550517357.0, \"US_DVD_Sales\": 140752353.0, \"Production_Budget\": 207000000.0, \"Release_Date\": \"Dec 14 2005\", \"MPAA_Rating\": \"PG-13\", \"Running_Time_min\": 187.0, \"Distributor\": \"Universal\", \"Source\": \"Remake\", \"Major_Genre\": \"Adventure\", \"Creative_Type\": \"Fantasy\", \"Director\": \"Peter Jackson\", \"Rotten_Tomatoes_Rating\": 83.0, \"IMDB_Rating\": 7.6, \"IMDB_Votes\": 132720.0}, {\"Unnamed: 0\": 2124, \"Title\": \"Knocked Up\", \"US_Gross\": 148761765.0, \"Worldwide_Gross\": 218994109.0, \"US_DVD_Sales\": 117601397.0, \"Production_Budget\": 27500000.0, \"Release_Date\": \"Jun 01 2007\", \"MPAA_Rating\": \"R\", \"Running_Time_min\": 132.0, \"Distributor\": \"Universal\", \"Source\": \"Original Screenplay\", \"Major_Genre\": \"Romantic Comedy\", \"Creative_Type\": \"Contemporary Fiction\", \"Director\": \"Judd Apatow\", \"Rotten_Tomatoes_Rating\": 90.0, \"IMDB_Rating\": 7.5, \"IMDB_Votes\": 111192.0}, {\"Unnamed: 0\": 2126, \"Title\": \"The Kingdom\", \"US_Gross\": 47467250.0, \"Worldwide_Gross\": 86509602.0, \"US_DVD_Sales\": 34065220.0, \"Production_Budget\": 72500000.0, \"Release_Date\": \"Sep 28 2007\", \"MPAA_Rating\": \"R\", \"Running_Time_min\": 110.0, \"Distributor\": \"Universal\", \"Source\": \"Original Screenplay\", \"Major_Genre\": \"Action\", \"Creative_Type\": \"Contemporary Fiction\", \"Director\": \"Peter Berg\", \"Rotten_Tomatoes_Rating\": 51.0, \"IMDB_Rating\": 7.1, \"IMDB_Votes\": 47200.0}, {\"Unnamed: 0\": 2129, \"Title\": \"Knowing\", \"US_Gross\": 79957634.0, \"Worldwide_Gross\": 187858642.0, \"US_DVD_Sales\": 23450931.0, \"Production_Budget\": 50000000.0, \"Release_Date\": \"Mar 20 2009\", \"MPAA_Rating\": \"PG-13\", \"Running_Time_min\": 121.0, \"Distributor\": \"Summit Entertainment\", \"Source\": \"Based on Book/Short Story\", \"Major_Genre\": \"Thriller/Suspense\", \"Creative_Type\": \"Contemporary Fiction\", \"Director\": \"Alex Proyas\", \"Rotten_Tomatoes_Rating\": 32.0, \"IMDB_Rating\": 6.4, \"IMDB_Votes\": 58138.0}, {\"Unnamed: 0\": 2136, \"Title\": \"The Kite Runner\", \"US_Gross\": 15800078.0, \"Worldwide_Gross\": 73222245.0, \"US_DVD_Sales\": 6563936.0, \"Production_Budget\": 20000000.0, \"Release_Date\": \"Dec 14 2007\", \"MPAA_Rating\": \"PG-13\", \"Running_Time_min\": 122.0, \"Distributor\": \"Paramount Vantage\", \"Source\": \"Based on Book/Short Story\", \"Major_Genre\": \"Drama\", \"Creative_Type\": \"Contemporary Fiction\", \"Director\": \"Marc Forster\", \"Rotten_Tomatoes_Rating\": 66.0, \"IMDB_Rating\": 7.8, \"IMDB_Votes\": 26816.0}, {\"Unnamed: 0\": 2140, \"Title\": \"Law Abiding Citizen\", \"US_Gross\": 73357727.0, \"Worldwide_Gross\": 113190972.0, \"US_DVD_Sales\": 20038881.0, \"Production_Budget\": 53000000.0, \"Release_Date\": \"Oct 16 2009\", \"MPAA_Rating\": \"R\", \"Running_Time_min\": 108.0, \"Distributor\": \"Overture Films\", \"Source\": \"Original Screenplay\", \"Major_Genre\": \"Thriller/Suspense\", \"Creative_Type\": \"Contemporary Fiction\", \"Director\": \"F. Gary Gray\", \"Rotten_Tomatoes_Rating\": 25.0, \"IMDB_Rating\": 7.2, \"IMDB_Votes\": 45577.0}, {\"Unnamed: 0\": 2145, \"Title\": \"Lakeview Terrace\", \"US_Gross\": 39263506.0, \"Worldwide_Gross\": 44263506.0, \"US_DVD_Sales\": 21455006.0, \"Production_Budget\": 20000000.0, \"Release_Date\": \"Sep 19 2008\", \"MPAA_Rating\": \"PG-13\", \"Running_Time_min\": 106.0, \"Distributor\": \"Sony/Screen Gems\", \"Source\": \"Original Screenplay\", \"Major_Genre\": \"Thriller/Suspense\", \"Creative_Type\": \"Contemporary Fiction\", \"Director\": \"Neil LaBute\", \"Rotten_Tomatoes_Rating\": 46.0, \"IMDB_Rating\": 6.3, \"IMDB_Votes\": 18547.0}, {\"Unnamed: 0\": 2147, \"Title\": \"Land of the Lost\", \"US_Gross\": 49438370.0, \"Worldwide_Gross\": 69548641.0, \"US_DVD_Sales\": 18953806.0, \"Production_Budget\": 100000000.0, \"Release_Date\": \"Jun 05 2009\", \"MPAA_Rating\": \"PG-13\", \"Running_Time_min\": 101.0, \"Distributor\": \"Universal\", \"Source\": \"Based on TV\", \"Major_Genre\": \"Comedy\", \"Creative_Type\": \"Fantasy\", \"Director\": \"Brad Silberling\", \"Rotten_Tomatoes_Rating\": 26.0, \"IMDB_Rating\": 5.3, \"IMDB_Votes\": 16830.0}, {\"Unnamed: 0\": 2155, \"Title\": \"Little Children\", \"US_Gross\": 5463019.0, \"Worldwide_Gross\": 14763019.0, \"US_DVD_Sales\": 3657245.0, \"Production_Budget\": 14000000.0, \"Release_Date\": \"Oct 06 2006\", \"MPAA_Rating\": \"R\", \"Running_Time_min\": 136.0, \"Distributor\": \"New Line\", \"Source\": \"Based on Book/Short Story\", \"Major_Genre\": \"Drama\", \"Creative_Type\": \"Contemporary Fiction\", \"Director\": \"Todd Field\", \"Rotten_Tomatoes_Rating\": 79.0, \"IMDB_Rating\": 7.8, \"IMDB_Votes\": 37162.0}, {\"Unnamed: 0\": 2160, \"Title\": \"I am Legend\", \"US_Gross\": 256393010.0, \"Worldwide_Gross\": 585055701.0, \"US_DVD_Sales\": 129742540.0, \"Production_Budget\": 150000000.0, \"Release_Date\": \"Dec 14 2007\", \"MPAA_Rating\": \"PG-13\", \"Running_Time_min\": 100.0, \"Distributor\": \"Warner Bros.\", \"Source\": \"Based on Book/Short Story\", \"Major_Genre\": \"Horror\", \"Creative_Type\": \"Science Fiction\", \"Director\": \"Francis Lawrence\", \"Rotten_Tomatoes_Rating\": 69.0, \"IMDB_Rating\": 7.1, \"IMDB_Votes\": 153631.0}, {\"Unnamed: 0\": 2163, \"Title\": \"Letters from Iwo Jima\", \"US_Gross\": 13756082.0, \"Worldwide_Gross\": 68756082.0, \"US_DVD_Sales\": 13625847.0, \"Production_Budget\": 13000000.0, \"Release_Date\": \"Dec 20 2006\", \"MPAA_Rating\": \"R\", \"Running_Time_min\": 141.0, \"Distributor\": \"Warner Bros.\", \"Source\": \"Based on Real Life Events\", \"Major_Genre\": \"Drama\", \"Creative_Type\": \"Historical Fiction\", \"Director\": \"Clint Eastwood\", \"Rotten_Tomatoes_Rating\": 91.0, \"IMDB_Rating\": 8.1, \"IMDB_Votes\": 56872.0}, {\"Unnamed: 0\": 2183, \"Title\": \"The Last King of Scotland\", \"US_Gross\": 17606684.0, \"Worldwide_Gross\": 48363516.0, \"US_DVD_Sales\": 16836991.0, \"Production_Budget\": 6000000.0, \"Release_Date\": \"Sep 27 2006\", \"MPAA_Rating\": \"R\", \"Running_Time_min\": 121.0, \"Distributor\": \"Fox Searchlight\", \"Source\": \"Based on Book/Short Story\", \"Major_Genre\": \"Drama\", \"Creative_Type\": \"Dramatization\", \"Director\": \"Kevin MacDonald\", \"Rotten_Tomatoes_Rating\": 87.0, \"IMDB_Rating\": 7.8, \"IMDB_Votes\": 54022.0}, {\"Unnamed: 0\": 2188, \"Title\": \"Lions for Lambs\", \"US_Gross\": 14998070.0, \"Worldwide_Gross\": 63211088.0, \"US_DVD_Sales\": 9203604.0, \"Production_Budget\": 35000000.0, \"Release_Date\": \"Nov 09 2007\", \"MPAA_Rating\": \"R\", \"Running_Time_min\": 90.0, \"Distributor\": \"United Artists\", \"Source\": \"Original Screenplay\", \"Major_Genre\": \"Drama\", \"Creative_Type\": \"Contemporary Fiction\", \"Director\": \"Robert Redford\", \"Rotten_Tomatoes_Rating\": 27.0, \"IMDB_Rating\": 6.2, \"IMDB_Votes\": 22264.0}, {\"Unnamed: 0\": 2218, \"Title\": \"License to Wed\", \"US_Gross\": 43799818.0, \"Worldwide_Gross\": 70799818.0, \"US_DVD_Sales\": 22782913.0, \"Production_Budget\": 35000000.0, \"Release_Date\": \"Jul 03 2007\", \"MPAA_Rating\": \"PG\", \"Running_Time_min\": 90.0, \"Distributor\": \"Warner Bros.\", \"Source\": \"Original Screenplay\", \"Major_Genre\": \"Romantic Comedy\", \"Creative_Type\": \"Contemporary Fiction\", \"Director\": \"Ken Kwapis\", \"Rotten_Tomatoes_Rating\": 7.0, \"IMDB_Rating\": 5.1, \"IMDB_Votes\": 15422.0}, {\"Unnamed: 0\": 2224, \"Title\": \"Lucky You\", \"US_Gross\": 5755286.0, \"Worldwide_Gross\": 6521829.0, \"US_DVD_Sales\": 853973.0, \"Production_Budget\": 55000000.0, \"Release_Date\": \"May 04 2007\", \"MPAA_Rating\": \"PG-13\", \"Running_Time_min\": 122.0, \"Distributor\": \"Warner Bros.\", \"Source\": \"Original Screenplay\", \"Major_Genre\": \"Drama\", \"Creative_Type\": \"Historical Fiction\", \"Director\": \"Curtis Hanson\", \"Rotten_Tomatoes_Rating\": 28.0, \"IMDB_Rating\": 5.9, \"IMDB_Votes\": 9870.0}, {\"Unnamed: 0\": 2248, \"Title\": \"Paul Blart: Mall Cop\", \"US_Gross\": 146336178.0, \"Worldwide_Gross\": 180449670.0, \"US_DVD_Sales\": 53105030.0, \"Production_Budget\": 26000000.0, \"Release_Date\": \"Jan 16 2009\", \"MPAA_Rating\": \"PG\", \"Running_Time_min\": 91.0, \"Distributor\": \"Sony Pictures\", \"Source\": \"Original Screenplay\", \"Major_Genre\": \"Comedy\", \"Creative_Type\": \"Contemporary Fiction\", \"Director\": \"Steve Carr\", \"Rotten_Tomatoes_Rating\": 35.0, \"IMDB_Rating\": 5.3, \"IMDB_Votes\": 23753.0}, {\"Unnamed: 0\": 2265, \"Title\": \"My Best Friend's Girl\", \"US_Gross\": 19219250.0, \"Worldwide_Gross\": 34787111.0, \"US_DVD_Sales\": 18449619.0, \"Production_Budget\": 20000000.0, \"Release_Date\": \"Sep 19 2008\", \"MPAA_Rating\": \"R\", \"Running_Time_min\": 103.0, \"Distributor\": \"Lionsgate\", \"Source\": \"Original Screenplay\", \"Major_Genre\": \"Comedy\", \"Creative_Type\": \"Contemporary Fiction\", \"Director\": \"Howard Deutch\", \"Rotten_Tomatoes_Rating\": 15.0, \"IMDB_Rating\": 5.8, \"IMDB_Votes\": 14617.0}, {\"Unnamed: 0\": 2288, \"Title\": \"Memoirs of a Geisha\", \"US_Gross\": 57010853.0, \"Worldwide_Gross\": 161510853.0, \"US_DVD_Sales\": 32837435.0, \"Production_Budget\": 85000000.0, \"Release_Date\": \"Dec 09 2005\", \"MPAA_Rating\": \"PG-13\", \"Running_Time_min\": 145.0, \"Distributor\": \"Sony Pictures\", \"Source\": \"Based on Book/Short Story\", \"Major_Genre\": \"Drama\", \"Creative_Type\": \"Historical Fiction\", \"Director\": \"Rob Marshall\", \"Rotten_Tomatoes_Rating\": 36.0, \"IMDB_Rating\": 7.1, \"IMDB_Votes\": 38695.0}, {\"Unnamed: 0\": 2300, \"Title\": \"The Men Who Stare at Goats\", \"US_Gross\": 32428195.0, \"Worldwide_Gross\": 67348218.0, \"US_DVD_Sales\": 8155901.0, \"Production_Budget\": 24000000.0, \"Release_Date\": \"Nov 06 2009\", \"MPAA_Rating\": \"R\", \"Running_Time_min\": 93.0, \"Distributor\": \"Overture Films\", \"Source\": \"Based on Book/Short Story\", \"Major_Genre\": \"Black Comedy\", \"Creative_Type\": \"Contemporary Fiction\", \"Director\": \"Grant Heslov\", \"Rotten_Tomatoes_Rating\": 53.0, \"IMDB_Rating\": 6.4, \"IMDB_Votes\": 33763.0}, {\"Unnamed: 0\": 2356, \"Title\": \"Miss Potter\", \"US_Gross\": 3005605.0, \"Worldwide_Gross\": 35025861.0, \"US_DVD_Sales\": 7821056.0, \"Production_Budget\": 30000000.0, \"Release_Date\": \"Dec 29 2006\", \"MPAA_Rating\": \"PG\", \"Running_Time_min\": 92.0, \"Distributor\": \"MGM\", \"Source\": \"Based on Real Life Events\", \"Major_Genre\": \"Drama\", \"Creative_Type\": \"Dramatization\", \"Director\": \"Chris Noonan\", \"Rotten_Tomatoes_Rating\": 66.0, \"IMDB_Rating\": 7.1, \"IMDB_Votes\": 10236.0}, {\"Unnamed: 0\": 2362, \"Title\": \"A Mighty Heart\", \"US_Gross\": 9176787.0, \"Worldwide_Gross\": 18932117.0, \"US_DVD_Sales\": 5455645.0, \"Production_Budget\": 15000000.0, \"Release_Date\": \"Jun 22 2007\", \"MPAA_Rating\": \"R\", \"Running_Time_min\": 100.0, \"Distributor\": \"Paramount Vantage\", \"Source\": \"Based on Book/Short Story\", \"Major_Genre\": \"Drama\", \"Creative_Type\": \"Dramatization\", \"Director\": \"Michael Winterbottom\", \"Rotten_Tomatoes_Rating\": 78.0, \"IMDB_Rating\": 6.7, \"IMDB_Votes\": 13881.0}, {\"Unnamed: 0\": 2371, \"Title\": \"The Mummy: Tomb of the Dragon Emperor\", \"US_Gross\": 102491776.0, \"Worldwide_Gross\": 397912118.0, \"US_DVD_Sales\": 43147886.0, \"Production_Budget\": 175000000.0, \"Release_Date\": \"Aug 01 2008\", \"MPAA_Rating\": \"PG-13\", \"Running_Time_min\": 111.0, \"Distributor\": \"Universal\", \"Source\": \"Remake\", \"Major_Genre\": \"Adventure\", \"Creative_Type\": \"Fantasy\", \"Director\": \"Rob Cohen\", \"Rotten_Tomatoes_Rating\": 13.0, \"IMDB_Rating\": 5.1, \"IMDB_Votes\": 41570.0}, {\"Unnamed: 0\": 2376, \"Title\": \"Night at the Museum\", \"US_Gross\": 250863268.0, \"Worldwide_Gross\": 574480841.0, \"US_DVD_Sales\": 153389976.0, \"Production_Budget\": 110000000.0, \"Release_Date\": \"Dec 22 2006\", \"MPAA_Rating\": \"PG\", \"Running_Time_min\": 108.0, \"Distributor\": \"20th Century Fox\", \"Source\": \"Based on Book/Short Story\", \"Major_Genre\": \"Comedy\", \"Creative_Type\": \"Fantasy\", \"Director\": \"Shawn Levy\", \"Rotten_Tomatoes_Rating\": 43.0, \"IMDB_Rating\": 6.4, \"IMDB_Votes\": 67133.0}, {\"Unnamed: 0\": 2380, \"Title\": \"Miami Vice\", \"US_Gross\": 63478838.0, \"Worldwide_Gross\": 163818556.0, \"US_DVD_Sales\": 37652030.0, \"Production_Budget\": 135000000.0, \"Release_Date\": \"Jul 28 2006\", \"MPAA_Rating\": \"R\", \"Running_Time_min\": 132.0, \"Distributor\": \"Universal\", \"Source\": \"Based on TV\", \"Major_Genre\": \"Action\", \"Creative_Type\": \"Contemporary Fiction\", \"Director\": \"Michael Mann\", \"Rotten_Tomatoes_Rating\": 47.0, \"IMDB_Rating\": 6.0, \"IMDB_Votes\": 51921.0}, {\"Unnamed: 0\": 2381, \"Title\": \"Monsters vs. Aliens\", \"US_Gross\": 198351526.0, \"Worldwide_Gross\": 381687380.0, \"US_DVD_Sales\": 83851943.0, \"Production_Budget\": 175000000.0, \"Release_Date\": \"Mar 27 2009\", \"MPAA_Rating\": \"PG\", \"Running_Time_min\": 95.0, \"Distributor\": \"Paramount Pictures\", \"Source\": \"Based on Comic/Graphic Novel\", \"Major_Genre\": \"Adventure\", \"Creative_Type\": \"Fantasy\", \"Director\": \"Rob Letterman\", \"Rotten_Tomatoes_Rating\": 72.0, \"IMDB_Rating\": 6.8, \"IMDB_Votes\": 26582.0}, {\"Unnamed: 0\": 2391, \"Title\": \"My Sister's Keeper\", \"US_Gross\": 49200230.0, \"Worldwide_Gross\": 89053995.0, \"US_DVD_Sales\": 21467223.0, \"Production_Budget\": 27500000.0, \"Release_Date\": \"Jun 26 2009\", \"MPAA_Rating\": \"PG-13\", \"Running_Time_min\": 108.0, \"Distributor\": \"Warner Bros.\", \"Source\": \"Based on Book/Short Story\", \"Major_Genre\": \"Drama\", \"Creative_Type\": \"Contemporary Fiction\", \"Director\": \"Nick Cassavetes\", \"Rotten_Tomatoes_Rating\": 48.0, \"IMDB_Rating\": 7.4, \"IMDB_Votes\": 13839.0}, {\"Unnamed: 0\": 2399, \"Title\": \"The Nativity Story\", \"US_Gross\": 37629831.0, \"Worldwide_Gross\": 46432264.0, \"US_DVD_Sales\": 26142500.0, \"Production_Budget\": 35000000.0, \"Release_Date\": \"Dec 01 2006\", \"MPAA_Rating\": \"PG\", \"Running_Time_min\": 102.0, \"Distributor\": \"New Line\", \"Source\": \"Based on Book/Short Story\", \"Major_Genre\": \"Drama\", \"Creative_Type\": \"Dramatization\", \"Director\": \"Catherine Hardwicke\", \"Rotten_Tomatoes_Rating\": 37.0, \"IMDB_Rating\": 6.6, \"IMDB_Votes\": 4701.0}, {\"Unnamed: 0\": 2422, \"Title\": \"Nick and Norah's Infinite Playlist\", \"US_Gross\": 31487293.0, \"Worldwide_Gross\": 31487293.0, \"US_DVD_Sales\": 10327750.0, \"Production_Budget\": 10000000.0, \"Release_Date\": \"Oct 03 2008\", \"MPAA_Rating\": \"PG-13\", \"Running_Time_min\": 90.0, \"Distributor\": \"Sony Pictures\", \"Source\": \"Based on Book/Short Story\", \"Major_Genre\": \"Drama\", \"Creative_Type\": \"Contemporary Fiction\", \"Director\": \"Peter Sollett\", \"Rotten_Tomatoes_Rating\": 73.0, \"IMDB_Rating\": 6.8, \"IMDB_Votes\": 24021.0}, {\"Unnamed: 0\": 2440, \"Title\": \"The Number 23\", \"US_Gross\": 35193167.0, \"Worldwide_Gross\": 76593167.0, \"US_DVD_Sales\": 27576238.0, \"Production_Budget\": 32000000.0, \"Release_Date\": \"Feb 23 2007\", \"MPAA_Rating\": \"R\", \"Running_Time_min\": 95.0, \"Distributor\": \"New Line\", \"Source\": \"Original Screenplay\", \"Major_Genre\": \"Thriller/Suspense\", \"Creative_Type\": \"Contemporary Fiction\", \"Director\": \"Joel Schumacher\", \"Rotten_Tomatoes_Rating\": 8.0, \"IMDB_Rating\": 6.2, \"IMDB_Votes\": 59174.0}, {\"Unnamed: 0\": 2446, \"Title\": \"Into the Wild\", \"US_Gross\": 18354356.0, \"Worldwide_Gross\": 53813837.0, \"US_DVD_Sales\": 15272435.0, \"Production_Budget\": 20000000.0, \"Release_Date\": \"Sep 21 2007\", \"MPAA_Rating\": \"R\", \"Running_Time_min\": 147.0, \"Distributor\": \"Paramount Vantage\", \"Source\": \"Based on Book/Short Story\", \"Major_Genre\": \"Drama\", \"Creative_Type\": \"Contemporary Fiction\", \"Director\": \"Sean Penn\", \"Rotten_Tomatoes_Rating\": 82.0, \"IMDB_Rating\": 8.2, \"IMDB_Votes\": 99464.0}, {\"Unnamed: 0\": 2454, \"Title\": \"Ocean's Thirteen\", \"US_Gross\": 117144465.0, \"Worldwide_Gross\": 311744465.0, \"US_DVD_Sales\": 48258805.0, \"Production_Budget\": 85000000.0, \"Release_Date\": \"Jun 08 2007\", \"MPAA_Rating\": \"PG-13\", \"Running_Time_min\": 122.0, \"Distributor\": \"Warner Bros.\", \"Source\": \"Remake\", \"Major_Genre\": \"Adventure\", \"Creative_Type\": \"Contemporary Fiction\", \"Director\": \"Steven Soderbergh\", \"Rotten_Tomatoes_Rating\": 70.0, \"IMDB_Rating\": 6.9, \"IMDB_Votes\": 76884.0}, {\"Unnamed: 0\": 2466, \"Title\": \"One Night with the King\", \"US_Gross\": 13395961.0, \"Worldwide_Gross\": 13395961.0, \"US_DVD_Sales\": 20554010.0, \"Production_Budget\": 20000000.0, \"Release_Date\": \"Oct 13 2006\", \"MPAA_Rating\": \"PG\", \"Running_Time_min\": 124.0, \"Distributor\": \"Rocky Mountain Pictures\", \"Source\": \"Based on Book/Short Story\", \"Major_Genre\": \"Drama\", \"Creative_Type\": \"Historical Fiction\", \"Director\": \"Michael O. Sajbel\", \"Rotten_Tomatoes_Rating\": 16.0, \"IMDB_Rating\": 6.0, \"IMDB_Votes\": 2993.0}, {\"Unnamed: 0\": 2488, \"Title\": \"The Passion of the Christ\", \"US_Gross\": 370782930.0, \"Worldwide_Gross\": 611899420.0, \"US_DVD_Sales\": 618454.0, \"Production_Budget\": 25000000.0, \"Release_Date\": \"Feb 25 2004\", \"MPAA_Rating\": \"R\", \"Running_Time_min\": 127.0, \"Distributor\": \"Newmarket Films\", \"Source\": \"Based on Book/Short Story\", \"Major_Genre\": \"Drama\", \"Creative_Type\": \"Dramatization\", \"Director\": \"Mel Gibson\", \"Rotten_Tomatoes_Rating\": 50.0, \"IMDB_Rating\": 7.1, \"IMDB_Votes\": 87326.0}, {\"Unnamed: 0\": 2507, \"Title\": \"Pirates of the Caribbean: Dead Man's Chest\", \"US_Gross\": 423315812.0, \"Worldwide_Gross\": 1065659812.0, \"US_DVD_Sales\": 320830925.0, \"Production_Budget\": 225000000.0, \"Release_Date\": \"Jul 07 2006\", \"MPAA_Rating\": \"PG-13\", \"Running_Time_min\": 151.0, \"Distributor\": \"Walt Disney Pictures\", \"Source\": \"Disney Ride\", \"Major_Genre\": \"Adventure\", \"Creative_Type\": \"Fantasy\", \"Director\": \"Gore Verbinski\", \"Rotten_Tomatoes_Rating\": 54.0, \"IMDB_Rating\": 7.3, \"IMDB_Votes\": 150446.0}, {\"Unnamed: 0\": 2508, \"Title\": \"Pirates of the Caribbean: At World's End\", \"US_Gross\": 309420425.0, \"Worldwide_Gross\": 960996492.0, \"US_DVD_Sales\": 296060575.0, \"Production_Budget\": 300000000.0, \"Release_Date\": \"May 25 2007\", \"MPAA_Rating\": \"PG-13\", \"Running_Time_min\": 167.0, \"Distributor\": \"Walt Disney Pictures\", \"Source\": \"Disney Ride\", \"Major_Genre\": \"Adventure\", \"Creative_Type\": \"Fantasy\", \"Director\": \"Gore Verbinski\", \"Rotten_Tomatoes_Rating\": 45.0, \"IMDB_Rating\": 7.0, \"IMDB_Votes\": 133241.0}, {\"Unnamed: 0\": 2526, \"Title\": \"Paranormal Activity\", \"US_Gross\": 107918810.0, \"Worldwide_Gross\": 193770453.0, \"US_DVD_Sales\": 14051496.0, \"Production_Budget\": 15000.0, \"Release_Date\": \"Sep 25 2009\", \"MPAA_Rating\": \"R\", \"Running_Time_min\": 85.0, \"Distributor\": \"Paramount Pictures\", \"Source\": \"Original Screenplay\", \"Major_Genre\": \"Horror\", \"Creative_Type\": \"Contemporary Fiction\", \"Director\": \"Oren Peli\", \"Rotten_Tomatoes_Rating\": 82.0, \"IMDB_Rating\": 6.7, \"IMDB_Votes\": 53455.0}, {\"Unnamed: 0\": 2552, \"Title\": \"Perfume: The Story of a Murderer\", \"US_Gross\": 2223293.0, \"Worldwide_Gross\": 132180323.0, \"US_DVD_Sales\": 7529604.0, \"Production_Budget\": 63700000.0, \"Release_Date\": \"Dec 27 2006\", \"MPAA_Rating\": \"R\", \"Running_Time_min\": 147.0, \"Distributor\": \"Paramount Pictures\", \"Source\": \"Based on Book/Short Story\", \"Major_Genre\": \"Drama\", \"Creative_Type\": \"Historical Fiction\", \"Director\": \"Tom Tykwer\", \"Rotten_Tomatoes_Rating\": 58.0, \"IMDB_Rating\": 7.5, \"IMDB_Votes\": 51704.0}, {\"Unnamed: 0\": 2555, \"Title\": \"The Pursuit of Happyness\", \"US_Gross\": 162586036.0, \"Worldwide_Gross\": 306086036.0, \"US_DVD_Sales\": 90857430.0, \"Production_Budget\": 55000000.0, \"Release_Date\": \"Dec 15 2006\", \"MPAA_Rating\": \"PG-13\", \"Running_Time_min\": 116.0, \"Distributor\": \"Sony Pictures\", \"Source\": \"Based on Real Life Events\", \"Major_Genre\": \"Drama\", \"Creative_Type\": \"Dramatization\", \"Director\": \"Gabriele Muccino\", \"Rotten_Tomatoes_Rating\": 66.0, \"IMDB_Rating\": 7.8, \"IMDB_Votes\": 77939.0}, {\"Unnamed: 0\": 2564, \"Title\": \"The Proposal\", \"US_Gross\": 163958031.0, \"Worldwide_Gross\": 317358031.0, \"US_DVD_Sales\": 83691948.0, \"Production_Budget\": 40000000.0, \"Release_Date\": \"Jun 19 2009\", \"MPAA_Rating\": \"PG-13\", \"Running_Time_min\": 107.0, \"Distributor\": \"Walt Disney Pictures\", \"Source\": \"Original Screenplay\", \"Major_Genre\": \"Romantic Comedy\", \"Creative_Type\": \"Contemporary Fiction\", \"Director\": \"Anne Fletcher\", \"Rotten_Tomatoes_Rating\": 43.0, \"IMDB_Rating\": 5.4, \"IMDB_Votes\": 397.0}, {\"Unnamed: 0\": 2566, \"Title\": \"The Prestige\", \"US_Gross\": 53089891.0, \"Worldwide_Gross\": 107896006.0, \"US_DVD_Sales\": 45394364.0, \"Production_Budget\": 40000000.0, \"Release_Date\": \"Oct 20 2006\", \"MPAA_Rating\": \"PG-13\", \"Running_Time_min\": 131.0, \"Distributor\": \"Walt Disney Pictures\", \"Source\": \"Based on Book/Short Story\", \"Major_Genre\": \"Thriller/Suspense\", \"Creative_Type\": \"Historical Fiction\", \"Director\": \"Christopher Nolan\", \"Rotten_Tomatoes_Rating\": 75.0, \"IMDB_Rating\": 8.4, \"IMDB_Votes\": 207322.0}, {\"Unnamed: 0\": 2585, \"Title\": \"The Queen\", \"US_Gross\": 56441711.0, \"Worldwide_Gross\": 122840603.0, \"US_DVD_Sales\": 29161789.0, \"Production_Budget\": 15000000.0, \"Release_Date\": \"Sep 30 2006\", \"MPAA_Rating\": \"PG-13\", \"Running_Time_min\": 103.0, \"Distributor\": \"Miramax\", \"Source\": \"Based on Real Life Events\", \"Major_Genre\": \"Drama\", \"Creative_Type\": \"Dramatization\", \"Director\": \"Stephen Frears\", \"Rotten_Tomatoes_Rating\": 97.0, \"IMDB_Rating\": 7.6, \"IMDB_Votes\": 34785.0}, {\"Unnamed: 0\": 2596, \"Title\": \"Ratatouille\", \"US_Gross\": 206445654.0, \"Worldwide_Gross\": 620495432.0, \"US_DVD_Sales\": 189134287.0, \"Production_Budget\": 150000000.0, \"Release_Date\": \"Jun 29 2007\", \"MPAA_Rating\": \"G\", \"Running_Time_min\": 111.0, \"Distributor\": \"Walt Disney Pictures\", \"Source\": \"Original Screenplay\", \"Major_Genre\": \"Comedy\", \"Creative_Type\": \"Fantasy\", \"Director\": \"Brad Bird\", \"Rotten_Tomatoes_Rating\": 96.0, \"IMDB_Rating\": 8.1, \"IMDB_Votes\": 131929.0}, {\"Unnamed: 0\": 2609, \"Title\": \"The Reader\", \"US_Gross\": 34192652.0, \"Worldwide_Gross\": 106107610.0, \"US_DVD_Sales\": 12359754.0, \"Production_Budget\": 33000000.0, \"Release_Date\": \"Dec 10 2008\", \"MPAA_Rating\": \"R\", \"Running_Time_min\": 123.0, \"Distributor\": \"Weinstein Co.\", \"Source\": \"Based on Book/Short Story\", \"Major_Genre\": \"Drama\", \"Creative_Type\": \"Contemporary Fiction\", \"Director\": \"Stephen Daldry\", \"Rotten_Tomatoes_Rating\": 61.0, \"IMDB_Rating\": 7.7, \"IMDB_Votes\": 46984.0}, {\"Unnamed: 0\": 2610, \"Title\": \"The Reaping\", \"US_Gross\": 25126214.0, \"Worldwide_Gross\": 62226214.0, \"US_DVD_Sales\": 19812272.0, \"Production_Budget\": 40000000.0, \"Release_Date\": \"Apr 05 2007\", \"MPAA_Rating\": \"R\", \"Running_Time_min\": 100.0, \"Distributor\": \"Warner Bros.\", \"Source\": \"Original Screenplay\", \"Major_Genre\": \"Horror\", \"Creative_Type\": \"Fantasy\", \"Director\": \"Stephen Hopkins\", \"Rotten_Tomatoes_Rating\": 8.0, \"IMDB_Rating\": 5.6, \"IMDB_Votes\": 19881.0}, {\"Unnamed: 0\": 2615, \"Title\": \"Reign Over Me\", \"US_Gross\": 19661987.0, \"Worldwide_Gross\": 20081987.0, \"US_DVD_Sales\": 16021076.0, \"Production_Budget\": 20000000.0, \"Release_Date\": \"Mar 23 2007\", \"MPAA_Rating\": \"R\", \"Running_Time_min\": 128.0, \"Distributor\": \"Sony Pictures\", \"Source\": \"Original Screenplay\", \"Major_Genre\": \"Drama\", \"Creative_Type\": \"Historical Fiction\", \"Director\": \"Mike Binder\", \"Rotten_Tomatoes_Rating\": 63.0, \"IMDB_Rating\": 7.7, \"IMDB_Votes\": 39234.0}, {\"Unnamed: 0\": 2617, \"Title\": \"Religulous\", \"US_Gross\": 13011160.0, \"Worldwide_Gross\": 13136074.0, \"US_DVD_Sales\": 7486708.0, \"Production_Budget\": 2500000.0, \"Release_Date\": \"Oct 01 2008\", \"MPAA_Rating\": \"R\", \"Running_Time_min\": 101.0, \"Distributor\": \"Lionsgate\", \"Source\": \"Based on Real Life Events\", \"Major_Genre\": \"Documentary\", \"Creative_Type\": \"Factual\", \"Director\": \"Larry Charles\", \"Rotten_Tomatoes_Rating\": 69.0, \"IMDB_Rating\": 7.8, \"IMDB_Votes\": 23094.0}, {\"Unnamed: 0\": 2624, \"Title\": \"Resident Evil: Extinction\", \"US_Gross\": 50648679.0, \"Worldwide_Gross\": 146162920.0, \"US_DVD_Sales\": 34217549.0, \"Production_Budget\": 45000000.0, \"Release_Date\": \"Sep 21 2007\", \"MPAA_Rating\": \"R\", \"Running_Time_min\": 95.0, \"Distributor\": \"Sony/Screen Gems\", \"Source\": \"Based on Game\", \"Major_Genre\": \"Action\", \"Creative_Type\": \"Science Fiction\", \"Director\": \"Russell Mulcahy\", \"Rotten_Tomatoes_Rating\": 22.0, \"IMDB_Rating\": 6.2, \"IMDB_Votes\": 49502.0}, {\"Unnamed: 0\": 2632, \"Title\": \"Rachel Getting Married\", \"US_Gross\": 12796277.0, \"Worldwide_Gross\": 13326280.0, \"US_DVD_Sales\": 6635346.0, \"Production_Budget\": 12000000.0, \"Release_Date\": \"Oct 03 2008\", \"MPAA_Rating\": \"R\", \"Running_Time_min\": 111.0, \"Distributor\": \"Sony Pictures Classics\", \"Source\": \"Original Screenplay\", \"Major_Genre\": \"Drama\", \"Creative_Type\": \"Contemporary Fiction\", \"Director\": \"Jonathan Demme\", \"Rotten_Tomatoes_Rating\": 86.0, \"IMDB_Rating\": 6.9, \"IMDB_Votes\": 20451.0}, {\"Unnamed: 0\": 2645, \"Title\": \"Rendition\", \"US_Gross\": 9736045.0, \"Worldwide_Gross\": 20437142.0, \"US_DVD_Sales\": 6007008.0, \"Production_Budget\": 27500000.0, \"Release_Date\": \"Oct 19 2007\", \"MPAA_Rating\": \"R\", \"Running_Time_min\": 121.0, \"Distributor\": \"New Line\", \"Source\": \"Original Screenplay\", \"Major_Genre\": \"Thriller/Suspense\", \"Creative_Type\": \"Contemporary Fiction\", \"Director\": \"Gavin Hood\", \"Rotten_Tomatoes_Rating\": 46.0, \"IMDB_Rating\": 6.9, \"IMDB_Votes\": 23223.0}, {\"Unnamed: 0\": 2646, \"Title\": \"The Rocker\", \"US_Gross\": 6409528.0, \"Worldwide_Gross\": 8767338.0, \"US_DVD_Sales\": 7970409.0, \"Production_Budget\": 15000000.0, \"Release_Date\": \"Aug 20 2008\", \"MPAA_Rating\": \"PG-13\", \"Running_Time_min\": 102.0, \"Distributor\": \"20th Century Fox\", \"Source\": \"Original Screenplay\", \"Major_Genre\": \"Comedy\", \"Creative_Type\": \"Contemporary Fiction\", \"Director\": \"Peter Cattaneo\", \"Rotten_Tomatoes_Rating\": 40.0, \"IMDB_Rating\": 6.3, \"IMDB_Votes\": 11859.0}, {\"Unnamed: 0\": 2660, \"Title\": \"Righteous Kill\", \"US_Gross\": 40081410.0, \"Worldwide_Gross\": 76781410.0, \"US_DVD_Sales\": 16209689.0, \"Production_Budget\": 60000000.0, \"Release_Date\": \"Sep 12 2008\", \"MPAA_Rating\": \"R\", \"Running_Time_min\": 100.0, \"Distributor\": \"Overture Films\", \"Source\": \"Original Screenplay\", \"Major_Genre\": \"Thriller/Suspense\", \"Creative_Type\": \"Contemporary Fiction\", \"Director\": \"Jon Avnet\", \"Rotten_Tomatoes_Rating\": 20.0, \"IMDB_Rating\": 6.0, \"IMDB_Votes\": 34641.0}, {\"Unnamed: 0\": 2668, \"Title\": \"Rush Hour 3\", \"US_Gross\": 140125968.0, \"Worldwide_Gross\": 253025968.0, \"US_DVD_Sales\": 40854922.0, \"Production_Budget\": 180000000.0, \"Release_Date\": \"Aug 10 2007\", \"MPAA_Rating\": \"PG-13\", \"Running_Time_min\": 91.0, \"Distributor\": \"New Line\", \"Source\": \"Original Screenplay\", \"Major_Genre\": \"Action\", \"Creative_Type\": \"Contemporary Fiction\", \"Director\": \"Brett Ratner\", \"Rotten_Tomatoes_Rating\": 19.0, \"IMDB_Rating\": 6.0, \"IMDB_Votes\": 39312.0}, {\"Unnamed: 0\": 2684, \"Title\": \"Saw II\", \"US_Gross\": 87025093.0, \"Worldwide_Gross\": 152925093.0, \"US_DVD_Sales\": 44699720.0, \"Production_Budget\": 5000000.0, \"Release_Date\": \"Oct 28 2005\", \"MPAA_Rating\": \"R\", \"Running_Time_min\": 91.0, \"Distributor\": \"Lionsgate\", \"Source\": \"Original Screenplay\", \"Major_Genre\": \"Horror\", \"Creative_Type\": \"Contemporary Fiction\", \"Director\": \"Darren Lynn Bousman\", \"Rotten_Tomatoes_Rating\": 36.0, \"IMDB_Rating\": 6.8, \"IMDB_Votes\": 76530.0}, {\"Unnamed: 0\": 2685, \"Title\": \"Saw III\", \"US_Gross\": 80238724.0, \"Worldwide_Gross\": 163876815.0, \"US_DVD_Sales\": 47153811.0, \"Production_Budget\": 10000000.0, \"Release_Date\": \"Oct 27 2006\", \"MPAA_Rating\": \"R\", \"Running_Time_min\": 107.0, \"Distributor\": \"Lionsgate\", \"Source\": \"Original Screenplay\", \"Major_Genre\": \"Horror\", \"Creative_Type\": \"Contemporary Fiction\", \"Director\": \"Darren Lynn Bousman\", \"Rotten_Tomatoes_Rating\": 25.0, \"IMDB_Rating\": 6.3, \"IMDB_Votes\": 60784.0}, {\"Unnamed: 0\": 2688, \"Title\": \"Saw VI\", \"US_Gross\": 27693292.0, \"Worldwide_Gross\": 61259697.0, \"US_DVD_Sales\": 8308717.0, \"Production_Budget\": 11000000.0, \"Release_Date\": \"Oct 23 2009\", \"MPAA_Rating\": \"R\", \"Running_Time_min\": 91.0, \"Distributor\": \"Lionsgate\", \"Source\": \"Original Screenplay\", \"Major_Genre\": \"Horror\", \"Creative_Type\": \"Contemporary Fiction\", \"Director\": \"Kevin Greutert\", \"Rotten_Tomatoes_Rating\": 42.0, \"IMDB_Rating\": 6.2, \"IMDB_Votes\": 18091.0}, {\"Unnamed: 0\": 2701, \"Title\": \"School for Scoundrels\", \"US_Gross\": 17807569.0, \"Worldwide_Gross\": 17807569.0, \"US_DVD_Sales\": 13739501.0, \"Production_Budget\": 20000000.0, \"Release_Date\": \"Sep 29 2006\", \"MPAA_Rating\": \"PG-13\", \"Running_Time_min\": 101.0, \"Distributor\": \"MGM\", \"Source\": \"Remake\", \"Major_Genre\": \"Comedy\", \"Creative_Type\": \"Contemporary Fiction\", \"Director\": \"Todd Phillips\", \"Rotten_Tomatoes_Rating\": 26.0, \"IMDB_Rating\": 6.0, \"IMDB_Votes\": 15536.0}, {\"Unnamed: 0\": 2709, \"Title\": \"Stardust\", \"US_Gross\": 38634938.0, \"Worldwide_Gross\": 135556675.0, \"US_DVD_Sales\": 25129402.0, \"Production_Budget\": 70000000.0, \"Release_Date\": \"Aug 10 2007\", \"MPAA_Rating\": \"PG-13\", \"Running_Time_min\": 128.0, \"Distributor\": \"Paramount Pictures\", \"Source\": \"Based on Book/Short Story\", \"Major_Genre\": \"Adventure\", \"Creative_Type\": \"Fantasy\", \"Director\": \"Matthew Vaughn\", \"Rotten_Tomatoes_Rating\": 76.0, \"IMDB_Rating\": 7.9, \"IMDB_Votes\": 87883.0}, {\"Unnamed: 0\": 2739, \"Title\": \"Shooter\", \"US_Gross\": 47003582.0, \"Worldwide_Gross\": 95203582.0, \"US_DVD_Sales\": 57333255.0, \"Production_Budget\": 60000000.0, \"Release_Date\": \"Mar 23 2007\", \"MPAA_Rating\": \"R\", \"Running_Time_min\": 125.0, \"Distributor\": \"Paramount Pictures\", \"Source\": \"Based on Book/Short Story\", \"Major_Genre\": \"Thriller/Suspense\", \"Creative_Type\": \"Contemporary Fiction\", \"Director\": \"Antoine Fuqua\", \"Rotten_Tomatoes_Rating\": 48.0, \"IMDB_Rating\": 7.2, \"IMDB_Votes\": 149.0}, {\"Unnamed: 0\": 2753, \"Title\": \"The Simpsons Movie\", \"US_Gross\": 183135014.0, \"Worldwide_Gross\": 527071022.0, \"US_DVD_Sales\": 96359085.0, \"Production_Budget\": 72500000.0, \"Release_Date\": \"Jul 27 2007\", \"MPAA_Rating\": \"PG-13\", \"Running_Time_min\": 86.0, \"Distributor\": \"20th Century Fox\", \"Source\": \"Based on TV\", \"Major_Genre\": \"Comedy\", \"Creative_Type\": \"Contemporary Fiction\", \"Director\": \"David Silverman\", \"Rotten_Tomatoes_Rating\": 89.0, \"IMDB_Rating\": 7.6, \"IMDB_Votes\": 117656.0}, {\"Unnamed: 0\": 2774, \"Title\": \"Slumdog Millionaire\", \"US_Gross\": 141319928.0, \"Worldwide_Gross\": 365257315.0, \"US_DVD_Sales\": 31952272.0, \"Production_Budget\": 14000000.0, \"Release_Date\": \"Nov 12 2008\", \"MPAA_Rating\": \"R\", \"Running_Time_min\": 116.0, \"Distributor\": \"Fox Searchlight\", \"Source\": \"Original Screenplay\", \"Major_Genre\": \"Drama\", \"Creative_Type\": \"Contemporary Fiction\", \"Director\": \"Danny Boyle\", \"Rotten_Tomatoes_Rating\": 94.0, \"IMDB_Rating\": 8.3, \"IMDB_Votes\": 176325.0}, {\"Unnamed: 0\": 2778, \"Title\": \"Smokin' Aces\", \"US_Gross\": 35662731.0, \"Worldwide_Gross\": 56047261.0, \"US_DVD_Sales\": 35817034.0, \"Production_Budget\": 17000000.0, \"Release_Date\": \"Jan 26 2007\", \"MPAA_Rating\": \"R\", \"Running_Time_min\": 108.0, \"Distributor\": \"Universal\", \"Source\": \"Original Screenplay\", \"Major_Genre\": \"Comedy\", \"Creative_Type\": \"Contemporary Fiction\", \"Director\": \"Joe Carnahan\", \"Rotten_Tomatoes_Rating\": 28.0, \"IMDB_Rating\": 6.6, \"IMDB_Votes\": 57313.0}, {\"Unnamed: 0\": 2785, \"Title\": \"Snakes on a Plane\", \"US_Gross\": 34020814.0, \"Worldwide_Gross\": 62020814.0, \"US_DVD_Sales\": 23704179.0, \"Production_Budget\": 33000000.0, \"Release_Date\": \"Aug 18 2006\", \"MPAA_Rating\": \"R\", \"Running_Time_min\": 105.0, \"Distributor\": \"New Line\", \"Source\": \"Original Screenplay\", \"Major_Genre\": \"Thriller/Suspense\", \"Creative_Type\": \"Contemporary Fiction\", \"Director\": \"David R. Ellis\", \"Rotten_Tomatoes_Rating\": 68.0, \"IMDB_Rating\": 6.0, \"IMDB_Votes\": 65841.0}, {\"Unnamed: 0\": 2795, \"Title\": \"Sunshine\", \"US_Gross\": 3688560.0, \"Worldwide_Gross\": 32030610.0, \"US_DVD_Sales\": 6342481.0, \"Production_Budget\": 40000000.0, \"Release_Date\": \"Jul 20 2007\", \"MPAA_Rating\": \"R\", \"Running_Time_min\": 108.0, \"Distributor\": \"Fox Searchlight\", \"Source\": \"Original Screenplay\", \"Major_Genre\": \"Thriller/Suspense\", \"Creative_Type\": \"Science Fiction\", \"Director\": \"Danny Boyle\", \"Rotten_Tomatoes_Rating\": 74.0, \"IMDB_Rating\": 7.3, \"IMDB_Votes\": 74535.0}, {\"Unnamed: 0\": 2812, \"Title\": \"Superbad\", \"US_Gross\": 121463226.0, \"Worldwide_Gross\": 169863226.0, \"US_DVD_Sales\": 134555373.0, \"Production_Budget\": 17500000.0, \"Release_Date\": \"Aug 17 2007\", \"MPAA_Rating\": \"R\", \"Running_Time_min\": 112.0, \"Distributor\": \"Sony Pictures\", \"Source\": \"Original Screenplay\", \"Major_Genre\": \"Comedy\", \"Creative_Type\": \"Contemporary Fiction\", \"Director\": \"Greg Mottola\", \"Rotten_Tomatoes_Rating\": 87.0, \"IMDB_Rating\": 7.8, \"IMDB_Votes\": 134212.0}, {\"Unnamed: 0\": 2823, \"Title\": \"Spider-Man 2\", \"US_Gross\": 373524485.0, \"Worldwide_Gross\": 783705001.0, \"US_DVD_Sales\": 4196484.0, \"Production_Budget\": 200000000.0, \"Release_Date\": \"Jun 30 2004\", \"MPAA_Rating\": \"PG-13\", \"Running_Time_min\": 127.0, \"Distributor\": \"Sony Pictures\", \"Source\": \"Based on Comic/Graphic Novel\", \"Major_Genre\": \"Adventure\", \"Creative_Type\": \"Super Hero\", \"Director\": \"Sam Raimi\", \"Rotten_Tomatoes_Rating\": 93.0, \"IMDB_Rating\": 7.7, \"IMDB_Votes\": 141940.0}, {\"Unnamed: 0\": 2824, \"Title\": \"Spider-Man 3\", \"US_Gross\": 336530303.0, \"Worldwide_Gross\": 890871626.0, \"US_DVD_Sales\": 124058348.0, \"Production_Budget\": 258000000.0, \"Release_Date\": \"May 04 2007\", \"MPAA_Rating\": \"PG-13\", \"Running_Time_min\": 139.0, \"Distributor\": \"Sony Pictures\", \"Source\": \"Based on Comic/Graphic Novel\", \"Major_Genre\": \"Adventure\", \"Creative_Type\": \"Super Hero\", \"Director\": \"Sam Raimi\", \"Rotten_Tomatoes_Rating\": 63.0, \"IMDB_Rating\": 6.4, \"IMDB_Votes\": 141513.0}, {\"Unnamed: 0\": 2828, \"Title\": \"Superman Returns\", \"US_Gross\": 200120000.0, \"Worldwide_Gross\": 391120000.0, \"US_DVD_Sales\": 81580739.0, \"Production_Budget\": 232000000.0, \"Release_Date\": \"Jun 28 2006\", \"MPAA_Rating\": \"PG-13\", \"Running_Time_min\": 157.0, \"Distributor\": \"Warner Bros.\", \"Source\": \"Based on Comic/Graphic Novel\", \"Major_Genre\": \"Adventure\", \"Creative_Type\": \"Super Hero\", \"Director\": \"Bryan Singer\", \"Rotten_Tomatoes_Rating\": 76.0, \"IMDB_Rating\": 6.6, \"IMDB_Votes\": 102751.0}, {\"Unnamed: 0\": 2855, \"Title\": \"Stranger Than Fiction\", \"US_Gross\": 40435190.0, \"Worldwide_Gross\": 45235190.0, \"US_DVD_Sales\": 30936711.0, \"Production_Budget\": 30000000.0, \"Release_Date\": \"Nov 10 2006\", \"MPAA_Rating\": \"PG-13\", \"Running_Time_min\": 112.0, \"Distributor\": \"Sony Pictures\", \"Source\": \"Original Screenplay\", \"Major_Genre\": \"Comedy\", \"Creative_Type\": \"Contemporary Fiction\", \"Director\": \"Marc Forster\", \"Rotten_Tomatoes_Rating\": 72.0, \"IMDB_Rating\": 7.8, \"IMDB_Votes\": 74218.0}, {\"Unnamed: 0\": 2871, \"Title\": \"State of Play\", \"US_Gross\": 37017955.0, \"Worldwide_Gross\": 91445389.0, \"US_DVD_Sales\": 13578224.0, \"Production_Budget\": 60000000.0, \"Release_Date\": \"Apr 17 2009\", \"MPAA_Rating\": \"PG-13\", \"Running_Time_min\": 127.0, \"Distributor\": \"Universal\", \"Source\": \"Based on TV\", \"Major_Genre\": \"Thriller/Suspense\", \"Creative_Type\": \"Contemporary Fiction\", \"Director\": \"Kevin MacDonald\", \"Rotten_Tomatoes_Rating\": 84.0, \"IMDB_Rating\": 7.3, \"IMDB_Votes\": 34067.0}, {\"Unnamed: 0\": 2874, \"Title\": \"Step Up\", \"US_Gross\": 65328121.0, \"Worldwide_Gross\": 115328121.0, \"US_DVD_Sales\": 51317604.0, \"Production_Budget\": 12000000.0, \"Release_Date\": \"Aug 11 2006\", \"MPAA_Rating\": \"PG-13\", \"Running_Time_min\": 98.0, \"Distributor\": \"Walt Disney Pictures\", \"Source\": \"Original Screenplay\", \"Major_Genre\": \"Drama\", \"Creative_Type\": \"Contemporary Fiction\", \"Director\": \"Anne Fletcher\", \"Rotten_Tomatoes_Rating\": 19.0, \"IMDB_Rating\": 6.1, \"IMDB_Votes\": 21691.0}, {\"Unnamed: 0\": 2890, \"Title\": \"Surrogates\", \"US_Gross\": 38577772.0, \"Worldwide_Gross\": 119668350.0, \"US_DVD_Sales\": 11099238.0, \"Production_Budget\": 80000000.0, \"Release_Date\": \"Sep 25 2009\", \"MPAA_Rating\": \"PG-13\", \"Running_Time_min\": 104.0, \"Distributor\": \"Walt Disney Pictures\", \"Source\": \"Based on Comic/Graphic Novel\", \"Major_Genre\": \"Action\", \"Creative_Type\": \"Science Fiction\", \"Director\": \"Jonathan Mostow\", \"Rotten_Tomatoes_Rating\": 39.0, \"IMDB_Rating\": 6.3, \"IMDB_Votes\": 36940.0}, {\"Unnamed: 0\": 2930, \"Title\": \"The Tale of Despereaux\", \"US_Gross\": 50877145.0, \"Worldwide_Gross\": 88717945.0, \"US_DVD_Sales\": 26233404.0, \"Production_Budget\": 60000000.0, \"Release_Date\": \"Dec 19 2008\", \"MPAA_Rating\": \"G\", \"Running_Time_min\": 93.0, \"Distributor\": \"Universal\", \"Source\": \"Based on Book/Short Story\", \"Major_Genre\": \"Adventure\", \"Creative_Type\": \"Kids Fiction\", \"Director\": \"Sam Fell\", \"Rotten_Tomatoes_Rating\": 55.0, \"IMDB_Rating\": 6.1, \"IMDB_Votes\": 7460.0}, {\"Unnamed: 0\": 2940, \"Title\": \"Transformers\", \"US_Gross\": 319246193.0, \"Worldwide_Gross\": 708272592.0, \"US_DVD_Sales\": 290787166.0, \"Production_Budget\": 151000000.0, \"Release_Date\": \"Jul 03 2007\", \"MPAA_Rating\": \"PG-13\", \"Running_Time_min\": 140.0, \"Distributor\": \"Paramount Pictures\", \"Source\": \"Based on TV\", \"Major_Genre\": \"Action\", \"Creative_Type\": \"Science Fiction\", \"Director\": \"Michael Bay\", \"Rotten_Tomatoes_Rating\": 57.0, \"IMDB_Rating\": 7.3, \"IMDB_Votes\": 197131.0}, {\"Unnamed: 0\": 2941, \"Title\": \"Transformers: Revenge of the Fallen\", \"US_Gross\": 402111870.0, \"Worldwide_Gross\": 836303693.0, \"US_DVD_Sales\": 217509899.0, \"Production_Budget\": 210000000.0, \"Release_Date\": \"Jun 24 2009\", \"MPAA_Rating\": \"PG-13\", \"Running_Time_min\": 149.0, \"Distributor\": \"Paramount Pictures\", \"Source\": \"Based on TV\", \"Major_Genre\": \"Action\", \"Creative_Type\": \"Science Fiction\", \"Director\": \"Michael Bay\", \"Rotten_Tomatoes_Rating\": 20.0, \"IMDB_Rating\": 6.0, \"IMDB_Votes\": 95786.0}, {\"Unnamed: 0\": 2975, \"Title\": \"The Mist\", \"US_Gross\": 25593755.0, \"Worldwide_Gross\": 54777490.0, \"US_DVD_Sales\": 29059367.0, \"Production_Budget\": 13000000.0, \"Release_Date\": \"Nov 21 2007\", \"MPAA_Rating\": \"R\", \"Running_Time_min\": 127.0, \"Distributor\": \"MGM\", \"Source\": \"Based on Book/Short Story\", \"Major_Genre\": \"Horror\", \"Creative_Type\": \"Science Fiction\", \"Director\": \"Frank Darabont\", \"Rotten_Tomatoes_Rating\": 73.0, \"IMDB_Rating\": 7.4, \"IMDB_Votes\": 76830.0}, {\"Unnamed: 0\": 3003, \"Title\": \"Tropic Thunder\", \"US_Gross\": 110461307.0, \"Worldwide_Gross\": 188163455.0, \"US_DVD_Sales\": 50387300.0, \"Production_Budget\": 90000000.0, \"Release_Date\": \"Aug 13 2008\", \"MPAA_Rating\": \"R\", \"Running_Time_min\": 106.0, \"Distributor\": \"Paramount Pictures\", \"Source\": \"Original Screenplay\", \"Major_Genre\": \"Comedy\", \"Creative_Type\": \"Contemporary Fiction\", \"Director\": \"Ben Stiller\", \"Rotten_Tomatoes_Rating\": 83.0, \"IMDB_Rating\": 7.2, \"IMDB_Votes\": 104839.0}, {\"Unnamed: 0\": 3027, \"Title\": \"Twilight\", \"US_Gross\": 192769854.0, \"Worldwide_Gross\": 396439854.0, \"US_DVD_Sales\": 193591463.0, \"Production_Budget\": 37000000.0, \"Release_Date\": \"Nov 21 2008\", \"MPAA_Rating\": \"PG-13\", \"Running_Time_min\": 120.0, \"Distributor\": \"Summit Entertainment\", \"Source\": \"Based on Book/Short Story\", \"Major_Genre\": \"Drama\", \"Creative_Type\": \"Fantasy\", \"Director\": \"Catherine Hardwicke\", \"Rotten_Tomatoes_Rating\": 50.0, \"IMDB_Rating\": 6.1, \"IMDB_Votes\": 4840.0}, {\"Unnamed: 0\": 3056, \"Title\": \"Up\", \"US_Gross\": 293004164.0, \"Worldwide_Gross\": 731304609.0, \"US_DVD_Sales\": 178459329.0, \"Production_Budget\": 175000000.0, \"Release_Date\": \"May 29 2009\", \"MPAA_Rating\": \"PG\", \"Running_Time_min\": 96.0, \"Distributor\": \"Walt Disney Pictures\", \"Source\": \"Original Screenplay\", \"Major_Genre\": \"Adventure\", \"Creative_Type\": \"Kids Fiction\", \"Director\": \"Pete Docter\", \"Rotten_Tomatoes_Rating\": 98.0, \"IMDB_Rating\": 8.4, \"IMDB_Votes\": 110491.0}, {\"Unnamed: 0\": 3062, \"Title\": \"Valkyrie\", \"US_Gross\": 83077470.0, \"Worldwide_Gross\": 198686497.0, \"US_DVD_Sales\": 26715008.0, \"Production_Budget\": 75000000.0, \"Release_Date\": \"Dec 25 2008\", \"MPAA_Rating\": \"PG-13\", \"Running_Time_min\": 120.0, \"Distributor\": \"United Artists\", \"Source\": \"Based on Real Life Events\", \"Major_Genre\": \"Thriller/Suspense\", \"Creative_Type\": \"Dramatization\", \"Director\": \"Bryan Singer\", \"Rotten_Tomatoes_Rating\": 61.0, \"IMDB_Rating\": 7.3, \"IMDB_Votes\": 54343.0}, {\"Unnamed: 0\": 3068, \"Title\": \"In the Valley of Elah\", \"US_Gross\": 6777741.0, \"Worldwide_Gross\": 24489150.0, \"US_DVD_Sales\": 3182650.0, \"Production_Budget\": 23000000.0, \"Release_Date\": \"Sep 14 2007\", \"MPAA_Rating\": \"R\", \"Running_Time_min\": 120.0, \"Distributor\": \"Warner Bros.\", \"Source\": \"Based on Real Life Events\", \"Major_Genre\": \"Drama\", \"Creative_Type\": \"Dramatization\", \"Director\": \"Paul Haggis\", \"Rotten_Tomatoes_Rating\": 73.0, \"IMDB_Rating\": 7.4, \"IMDB_Votes\": 27529.0}, {\"Unnamed: 0\": 3095, \"Title\": \"WALL-E\", \"US_Gross\": 223808164.0, \"Worldwide_Gross\": 532743103.0, \"US_DVD_Sales\": 142201722.0, \"Production_Budget\": 180000000.0, \"Release_Date\": \"Jun 27 2008\", \"MPAA_Rating\": \"G\", \"Running_Time_min\": 97.0, \"Distributor\": \"Walt Disney Pictures\", \"Source\": \"Original Screenplay\", \"Major_Genre\": \"Comedy\", \"Creative_Type\": \"Kids Fiction\", \"Director\": \"Andrew Stanton\", \"Rotten_Tomatoes_Rating\": 96.0, \"IMDB_Rating\": 8.5, \"IMDB_Votes\": 182257.0}, {\"Unnamed: 0\": 3116, \"Title\": \"We Own the Night\", \"US_Gross\": 28563179.0, \"Worldwide_Gross\": 54700285.0, \"US_DVD_Sales\": 22557036.0, \"Production_Budget\": 28000000.0, \"Release_Date\": \"Oct 12 2007\", \"MPAA_Rating\": \"R\", \"Running_Time_min\": 117.0, \"Distributor\": \"Sony Pictures\", \"Source\": \"Original Screenplay\", \"Major_Genre\": \"Drama\", \"Creative_Type\": \"Contemporary Fiction\", \"Director\": \"James Gray\", \"Rotten_Tomatoes_Rating\": 56.0, \"IMDB_Rating\": 7.0, \"IMDB_Votes\": 38163.0}, {\"Unnamed: 0\": 3126, \"Title\": \"Welcome Home Roscoe Jenkins\", \"US_Gross\": 42436517.0, \"Worldwide_Gross\": 43607627.0, \"US_DVD_Sales\": 17066717.0, \"Production_Budget\": 27500000.0, \"Release_Date\": \"Feb 08 2008\", \"MPAA_Rating\": \"PG-13\", \"Running_Time_min\": 114.0, \"Distributor\": \"Universal\", \"Source\": \"Original Screenplay\", \"Major_Genre\": \"Comedy\", \"Creative_Type\": \"Contemporary Fiction\", \"Director\": \"Malcolm D. Lee\", \"Rotten_Tomatoes_Rating\": 23.0, \"IMDB_Rating\": 4.5, \"IMDB_Votes\": 5700.0}, {\"Unnamed: 0\": 3131, \"Title\": \"Where the Wild Things Are\", \"US_Gross\": 77233467.0, \"Worldwide_Gross\": 99123656.0, \"US_DVD_Sales\": 27984751.0, \"Production_Budget\": 100000000.0, \"Release_Date\": \"Oct 16 2009\", \"MPAA_Rating\": \"PG\", \"Running_Time_min\": 100.0, \"Distributor\": \"Warner Bros.\", \"Source\": \"Based on Book/Short Story\", \"Major_Genre\": \"Adventure\", \"Creative_Type\": \"Fantasy\", \"Director\": \"Spike Jonze\", \"Rotten_Tomatoes_Rating\": 73.0, \"IMDB_Rating\": 7.2, \"IMDB_Votes\": 30669.0}, {\"Unnamed: 0\": 3140, \"Title\": \"Walk the Line\", \"US_Gross\": 119519402.0, \"Worldwide_Gross\": 184319402.0, \"US_DVD_Sales\": 123216687.0, \"Production_Budget\": 29000000.0, \"Release_Date\": \"Nov 18 2005\", \"MPAA_Rating\": \"PG-13\", \"Running_Time_min\": 80.0, \"Distributor\": \"20th Century Fox\", \"Source\": \"Based on Real Life Events\", \"Major_Genre\": \"Drama\", \"Creative_Type\": \"Dramatization\", \"Director\": \"James Mangold\", \"Rotten_Tomatoes_Rating\": 82.0, \"IMDB_Rating\": 7.9, \"IMDB_Votes\": 85235.0}, {\"Unnamed: 0\": 3146, \"Title\": \"Wanted\", \"US_Gross\": 134508551.0, \"Worldwide_Gross\": 340934768.0, \"US_DVD_Sales\": 71092823.0, \"Production_Budget\": 75000000.0, \"Release_Date\": \"Jun 27 2008\", \"MPAA_Rating\": \"R\", \"Running_Time_min\": 110.0, \"Distributor\": \"Universal\", \"Source\": \"Based on Comic/Graphic Novel\", \"Major_Genre\": \"Action\", \"Creative_Type\": \"Science Fiction\", \"Director\": \"Timur Bekmambetov\", \"Rotten_Tomatoes_Rating\": 71.0, \"IMDB_Rating\": 6.4, \"IMDB_Votes\": 1089.0}, {\"Unnamed: 0\": 3158, \"Title\": \"The Wrestler\", \"US_Gross\": 26236603.0, \"Worldwide_Gross\": 43236603.0, \"US_DVD_Sales\": 11912450.0, \"Production_Budget\": 6000000.0, \"Release_Date\": \"Dec 17 2008\", \"MPAA_Rating\": \"R\", \"Running_Time_min\": 109.0, \"Distributor\": \"Fox Searchlight\", \"Source\": \"Original Screenplay\", \"Major_Genre\": \"Drama\", \"Creative_Type\": \"Contemporary Fiction\", \"Director\": \"Darren Aronofsky\", \"Rotten_Tomatoes_Rating\": 98.0, \"IMDB_Rating\": 8.2, \"IMDB_Votes\": 93301.0}, {\"Unnamed: 0\": 3181, \"Title\": \"Year One\", \"US_Gross\": 43337279.0, \"Worldwide_Gross\": 57604723.0, \"US_DVD_Sales\": 14813995.0, \"Production_Budget\": 60000000.0, \"Release_Date\": \"Jun 19 2009\", \"MPAA_Rating\": \"PG-13\", \"Running_Time_min\": 97.0, \"Distributor\": \"Sony Pictures\", \"Source\": \"Original Screenplay\", \"Major_Genre\": \"Comedy\", \"Creative_Type\": \"Historical Fiction\", \"Director\": \"Harold Ramis\", \"Rotten_Tomatoes_Rating\": 14.0, \"IMDB_Rating\": 5.0, \"IMDB_Votes\": 23091.0}, {\"Unnamed: 0\": 3183, \"Title\": \"Yes Man\", \"US_Gross\": 97690976.0, \"Worldwide_Gross\": 225990976.0, \"US_DVD_Sales\": 26601131.0, \"Production_Budget\": 50000000.0, \"Release_Date\": \"Dec 19 2008\", \"MPAA_Rating\": \"PG-13\", \"Running_Time_min\": 104.0, \"Distributor\": \"Warner Bros.\", \"Source\": \"Based on Book/Short Story\", \"Major_Genre\": \"Comedy\", \"Creative_Type\": \"Contemporary Fiction\", \"Director\": \"Peyton Reed\", \"Rotten_Tomatoes_Rating\": 43.0, \"IMDB_Rating\": 7.0, \"IMDB_Votes\": 62150.0}, {\"Unnamed: 0\": 3195, \"Title\": \"Zombieland\", \"US_Gross\": 75590286.0, \"Worldwide_Gross\": 98690286.0, \"US_DVD_Sales\": 28281155.0, \"Production_Budget\": 23600000.0, \"Release_Date\": \"Oct 02 2009\", \"MPAA_Rating\": \"R\", \"Running_Time_min\": 87.0, \"Distributor\": \"Sony Pictures\", \"Source\": \"Original Screenplay\", \"Major_Genre\": \"Comedy\", \"Creative_Type\": \"Fantasy\", \"Director\": \"Ruben Fleischer\", \"Rotten_Tomatoes_Rating\": 89.0, \"IMDB_Rating\": 7.8, \"IMDB_Votes\": 81629.0}, {\"Unnamed: 0\": 3196, \"Title\": \"Zack and Miri Make a Porno\", \"US_Gross\": 31452765.0, \"Worldwide_Gross\": 36851125.0, \"US_DVD_Sales\": 21240321.0, \"Production_Budget\": 24000000.0, \"Release_Date\": \"Oct 31 2008\", \"MPAA_Rating\": \"R\", \"Running_Time_min\": 101.0, \"Distributor\": \"Weinstein Co.\", \"Source\": \"Original Screenplay\", \"Major_Genre\": \"Comedy\", \"Creative_Type\": \"Contemporary Fiction\", \"Director\": \"Kevin Smith\", \"Rotten_Tomatoes_Rating\": 65.0, \"IMDB_Rating\": 7.0, \"IMDB_Votes\": 55687.0}]}}, {\"mode\": \"vega-lite\"});\n",
       "</script>"
      ],
      "text/plain": [
       "alt.Chart(...)"
      ]
     },
     "execution_count": 8,
     "metadata": {},
     "output_type": "execute_result"
    }
   ],
   "source": [
    "c1= alt.Chart(df).mark_circle().encode(\n",
    "    x = \"US_Gross\",\n",
    "    y = \"Worldwide_Gross\",\n",
    "    color=\"Rotten_Tomatoes_Rating\"\n",
    ").properties(\n",
    "    title= \"Gross Depending on Rotten Tomato Rating\",\n",
    "        width=700,\n",
    "        height=100,\n",
    ")\n",
    "c1"
   ]
  },
  {
   "cell_type": "markdown",
   "metadata": {
    "cell_id": "9fd59cf6-9c5e-4265-836c-fc1f194911f4",
    "deepnote_cell_type": "markdown",
    "tags": []
   },
   "source": [
    "The graph above displays as worldwide gross increases then US Gross also increases. Addtionally the Rotten Tomatos rating displays that as the rating gets higher it becomes a darker blue. "
   ]
  },
  {
   "cell_type": "markdown",
   "metadata": {
    "cell_id": "26062949-220d-47b3-b31d-deb6eef309e3",
    "deepnote_cell_type": "markdown",
    "tags": []
   },
   "source": [
    "Now I am going to use K-Nearest Neighbors Regressor, and  K Neighbors Classifier to see which data has the best results."
   ]
  },
  {
   "cell_type": "markdown",
   "metadata": {
    "cell_id": "45f50c5d-834a-4c53-bd6b-869d07252625",
    "deepnote_cell_type": "markdown",
    "tags": []
   },
   "source": [
    "Testing with K-Nearest Neighbors:"
   ]
  },
  {
   "cell_type": "markdown",
   "metadata": {
    "cell_id": "8f5026e8-0d70-4b98-af0a-6a7450302da1",
    "deepnote_cell_type": "markdown",
    "tags": []
   },
   "source": [
    "First I am going to rescale the data:"
   ]
  },
  {
   "cell_type": "code",
   "execution_count": null,
   "metadata": {
    "cell_id": "b595b26c-6250-41c4-910b-0df8f57edf90",
    "deepnote_cell_height": 66,
    "deepnote_cell_type": "code",
    "deepnote_to_be_reexecuted": false,
    "execution_millis": 0,
    "execution_start": 1647315319632,
    "source_hash": "a2b610a6",
    "tags": []
   },
   "outputs": [],
   "source": [
    "scaler = StandardScaler()"
   ]
  },
  {
   "cell_type": "code",
   "execution_count": null,
   "metadata": {
    "cell_id": "d7bb2b2e-4972-4231-b7b7-02ddc3a1a9fd",
    "deepnote_cell_height": 118.1875,
    "deepnote_cell_type": "code",
    "deepnote_to_be_reexecuted": false,
    "execution_millis": 2,
    "execution_start": 1647315319633,
    "source_hash": "f952073d",
    "tags": []
   },
   "outputs": [
    {
     "data": {
      "text/plain": [
       "StandardScaler()"
      ]
     },
     "execution_count": 10,
     "metadata": {},
     "output_type": "execute_result"
    }
   ],
   "source": [
    "scaler.fit(df[[\"US_Gross\",\"Worldwide_Gross\"]])"
   ]
  },
  {
   "cell_type": "code",
   "execution_count": null,
   "metadata": {
    "cell_id": "369cd536-b28a-4911-aae7-e8d736baea7a",
    "deepnote_cell_height": 66,
    "deepnote_cell_type": "code",
    "deepnote_to_be_reexecuted": false,
    "execution_millis": 1,
    "execution_start": 1647315319633,
    "source_hash": "8ae35b0d",
    "tags": []
   },
   "outputs": [],
   "source": [
    "df[[\"US_Gross\",\"Worldwide_Gross\"]]= scaler.transform(df[[\"US_Gross\",\"Worldwide_Gross\"]])"
   ]
  },
  {
   "cell_type": "markdown",
   "metadata": {
    "cell_id": "e6f85044-38e8-4dd7-8347-4bab13d97fe9",
    "deepnote_cell_type": "markdown",
    "tags": []
   },
   "source": [
    "Next I am going to use train_test_split to train the data."
   ]
  },
  {
   "cell_type": "code",
   "execution_count": null,
   "metadata": {
    "cell_id": "e1dd178a-c033-482f-94c2-bfe657129b80",
    "deepnote_cell_height": 66,
    "deepnote_cell_type": "code",
    "deepnote_to_be_reexecuted": false,
    "execution_millis": 3,
    "execution_start": 1647315319634,
    "source_hash": "5fbf1fc1",
    "tags": []
   },
   "outputs": [],
   "source": [
    "X_train, X_test, y_train, y_test = train_test_split(df[[\"US_Gross\",\"Worldwide_Gross\"]],df[\"Rotten_Tomatoes_Rating\"],test_size=0.5)"
   ]
  },
  {
   "cell_type": "code",
   "execution_count": null,
   "metadata": {
    "cell_id": "13b4fe23-dc5b-4add-90d0-99290549521d",
    "deepnote_cell_height": 66,
    "deepnote_cell_type": "code",
    "deepnote_to_be_reexecuted": false,
    "execution_millis": 6,
    "execution_start": 1647315319641,
    "source_hash": "1b20ed26",
    "tags": []
   },
   "outputs": [
    {
     "name": "stdout",
     "output_type": "stream",
     "text": [
      "The number of rows in this dataset is 87\n"
     ]
    }
   ],
   "source": [
    " print(f\"The number of rows in this dataset is {y_train.shape[0]}\")"
   ]
  },
  {
   "cell_type": "code",
   "execution_count": null,
   "metadata": {
    "cell_id": "97d450c0-7fb6-4def-9514-33aaca03fa49",
    "deepnote_cell_height": 66,
    "deepnote_cell_type": "code",
    "deepnote_to_be_reexecuted": false,
    "execution_millis": 1,
    "execution_start": 1647315319649,
    "source_hash": "4d862d92",
    "tags": []
   },
   "outputs": [
    {
     "name": "stdout",
     "output_type": "stream",
     "text": [
      "The shape of this dataset using Train (87, 2)\n"
     ]
    }
   ],
   "source": [
    " print(f\"The shape of this dataset using Train {X_train.shape}\")"
   ]
  },
  {
   "cell_type": "code",
   "execution_count": null,
   "metadata": {
    "cell_id": "1488c6fd-19a6-4f84-94ec-255d458b14fe",
    "deepnote_cell_height": 66,
    "deepnote_cell_type": "code",
    "deepnote_to_be_reexecuted": false,
    "execution_millis": 2,
    "execution_start": 1647315319656,
    "source_hash": "3f98b613",
    "tags": []
   },
   "outputs": [],
   "source": [
    "K_reg = KNeighborsRegressor(n_neighbors=10)"
   ]
  },
  {
   "cell_type": "code",
   "execution_count": null,
   "metadata": {
    "cell_id": "e2ed6b22-58a5-4878-8874-1fe62df3af0c",
    "deepnote_cell_height": 118.1875,
    "deepnote_cell_type": "code",
    "deepnote_to_be_reexecuted": false,
    "execution_millis": 8,
    "execution_start": 1647315319662,
    "source_hash": "4487191",
    "tags": []
   },
   "outputs": [
    {
     "data": {
      "text/plain": [
       "KNeighborsRegressor(n_neighbors=10)"
      ]
     },
     "execution_count": 16,
     "metadata": {},
     "output_type": "execute_result"
    }
   ],
   "source": [
    "K_reg.fit(X_train,y_train)"
   ]
  },
  {
   "cell_type": "code",
   "execution_count": null,
   "metadata": {
    "cell_id": "238bbd50-0332-4776-bf97-3b74752dfc20",
    "deepnote_cell_height": 118.1875,
    "deepnote_cell_type": "code",
    "deepnote_to_be_reexecuted": false,
    "execution_millis": 7,
    "execution_start": 1647315319671,
    "source_hash": "1f8056f1",
    "tags": []
   },
   "outputs": [
    {
     "data": {
      "text/plain": [
       "22.03218390804598"
      ]
     },
     "execution_count": 17,
     "metadata": {},
     "output_type": "execute_result"
    }
   ],
   "source": [
    "mean_absolute_error(K_reg.predict(X_train), y_train)"
   ]
  },
  {
   "cell_type": "code",
   "execution_count": null,
   "metadata": {
    "cell_id": "f6c52749-7487-450e-b600-c7192aa9837a",
    "deepnote_cell_height": 118.1875,
    "deepnote_cell_type": "code",
    "deepnote_to_be_reexecuted": false,
    "execution_millis": 3,
    "execution_start": 1647315319687,
    "source_hash": "8f9e62bf",
    "tags": []
   },
   "outputs": [
    {
     "data": {
      "text/plain": [
       "23.81379310344828"
      ]
     },
     "execution_count": 18,
     "metadata": {},
     "output_type": "execute_result"
    }
   ],
   "source": [
    "mean_absolute_error(K_reg.predict(X_test), y_test)"
   ]
  },
  {
   "cell_type": "markdown",
   "metadata": {
    "cell_id": "51dd8499-9bfa-4c61-a8d3-5703f55fe36c",
    "deepnote_cell_type": "markdown",
    "tags": []
   },
   "source": [
    "Finding the mean absolute error showed us that the data will not be overfitting when we use n_neighbors=10."
   ]
  },
  {
   "cell_type": "markdown",
   "metadata": {
    "cell_id": "5290af16-a133-4675-99db-88da01046907",
    "deepnote_cell_type": "markdown",
    "tags": []
   },
   "source": [
    "Now we will be examining which k values gives us the least test error for K-Nearest Regressor."
   ]
  },
  {
   "cell_type": "code",
   "execution_count": null,
   "metadata": {
    "cell_id": "adb071cb-6c2e-4cf3-bc95-a860fc04ff76",
    "deepnote_cell_height": 156,
    "deepnote_cell_type": "code",
    "deepnote_to_be_reexecuted": false,
    "execution_millis": 1,
    "execution_start": 1647315319695,
    "source_hash": "3b9cb88c",
    "tags": []
   },
   "outputs": [],
   "source": [
    "def get_scores(k):\n",
    "    K_reg = KNeighborsRegressor(n_neighbors=k)\n",
    "    K_reg.fit(X_train, y_train)\n",
    "    train_error = mean_absolute_error(K_reg.predict(X_train), y_train)\n",
    "    test_error = mean_absolute_error(K_reg.predict(X_test), y_test)\n",
    "    return (train_error, test_error)"
   ]
  },
  {
   "cell_type": "code",
   "execution_count": null,
   "metadata": {
    "cell_id": "e3a7db4d-91f4-4627-9de7-817be2f141bb",
    "deepnote_cell_height": 66,
    "deepnote_cell_type": "code",
    "deepnote_to_be_reexecuted": false,
    "execution_millis": 2,
    "execution_start": 1647315319701,
    "source_hash": "da249fd6",
    "tags": []
   },
   "outputs": [],
   "source": [
    "K_reg_scores = pd.DataFrame({\"k\":range(1,88),\"train_error\":np.nan,\"test_error\":np.nan})"
   ]
  },
  {
   "cell_type": "code",
   "execution_count": null,
   "metadata": {
    "cell_id": "f4003f6c-e4e5-4276-8889-e61717740258",
    "deepnote_cell_height": 84,
    "deepnote_cell_type": "code",
    "deepnote_to_be_reexecuted": false,
    "execution_millis": 622,
    "execution_start": 1647315319708,
    "source_hash": "c02cdd7f",
    "tags": []
   },
   "outputs": [],
   "source": [
    "for i in K_reg_scores.index:\n",
    "    K_reg_scores.loc[i,[\"train_error\",\"test_error\"]] = get_scores(K_reg_scores.loc[i,\"k\"])"
   ]
  },
  {
   "cell_type": "code",
   "execution_count": null,
   "metadata": {
    "cell_id": "9c2025ba-8200-448e-961c-c0da19abe18a",
    "deepnote_cell_height": 66,
    "deepnote_cell_type": "code",
    "deepnote_table_loading": false,
    "deepnote_table_state": {
     "filters": [],
     "pageIndex": 0,
     "pageSize": 10,
     "sortBy": []
    },
    "deepnote_to_be_reexecuted": false,
    "execution_millis": 21,
    "execution_start": 1647315320341,
    "source_hash": "cf8851c7",
    "tags": []
   },
   "outputs": [
    {
     "data": {
      "application/vnd.deepnote.dataframe.v3+json": {
       "column_count": 3,
       "columns": [
        {
         "dtype": "int64",
         "name": "k",
         "stats": {
          "histogram": [
           {
            "bin_end": 9.6,
            "bin_start": 1,
            "count": 9
           },
           {
            "bin_end": 18.2,
            "bin_start": 9.6,
            "count": 9
           },
           {
            "bin_end": 26.799999999999997,
            "bin_start": 18.2,
            "count": 8
           },
           {
            "bin_end": 35.4,
            "bin_start": 26.799999999999997,
            "count": 9
           },
           {
            "bin_end": 44,
            "bin_start": 35.4,
            "count": 8
           },
           {
            "bin_end": 52.599999999999994,
            "bin_start": 44,
            "count": 9
           },
           {
            "bin_end": 61.199999999999996,
            "bin_start": 52.599999999999994,
            "count": 9
           },
           {
            "bin_end": 69.8,
            "bin_start": 61.199999999999996,
            "count": 8
           },
           {
            "bin_end": 78.39999999999999,
            "bin_start": 69.8,
            "count": 9
           },
           {
            "bin_end": 87,
            "bin_start": 78.39999999999999,
            "count": 9
           }
          ],
          "max": "87",
          "min": "1",
          "nan_count": 0,
          "unique_count": 87
         }
        },
        {
         "dtype": "float64",
         "name": "train_error",
         "stats": {
          "histogram": [
           {
            "bin_end": 2.512964448008554,
            "bin_start": 0,
            "count": 1
           },
           {
            "bin_end": 5.025928896017108,
            "bin_start": 2.512964448008554,
            "count": 0
           },
           {
            "bin_end": 7.538893344025662,
            "bin_start": 5.025928896017108,
            "count": 0
           },
           {
            "bin_end": 10.051857792034216,
            "bin_start": 7.538893344025662,
            "count": 0
           },
           {
            "bin_end": 12.56482224004277,
            "bin_start": 10.051857792034216,
            "count": 0
           },
           {
            "bin_end": 15.077786688051324,
            "bin_start": 12.56482224004277,
            "count": 0
           },
           {
            "bin_end": 17.59075113605988,
            "bin_start": 15.077786688051324,
            "count": 2
           },
           {
            "bin_end": 20.103715584068432,
            "bin_start": 17.59075113605988,
            "count": 2
           },
           {
            "bin_end": 22.616680032076985,
            "bin_start": 20.103715584068432,
            "count": 16
           },
           {
            "bin_end": 25.12964448008554,
            "bin_start": 22.616680032076985,
            "count": 66
           }
          ],
          "max": "25.12964448008554",
          "min": "0.0",
          "nan_count": 0,
          "unique_count": 87
         }
        },
        {
         "dtype": "float64",
         "name": "test_error",
         "stats": {
          "histogram": [
           {
            "bin_end": 24.006321839080464,
            "bin_start": 23.155172413793107,
            "count": 79
           },
           {
            "bin_end": 24.85747126436782,
            "bin_start": 24.006321839080464,
            "count": 2
           },
           {
            "bin_end": 25.708620689655177,
            "bin_start": 24.85747126436782,
            "count": 1
           },
           {
            "bin_end": 26.55977011494253,
            "bin_start": 25.708620689655177,
            "count": 0
           },
           {
            "bin_end": 27.410919540229887,
            "bin_start": 26.55977011494253,
            "count": 1
           },
           {
            "bin_end": 28.262068965517244,
            "bin_start": 27.410919540229887,
            "count": 2
           },
           {
            "bin_end": 29.1132183908046,
            "bin_start": 28.262068965517244,
            "count": 0
           },
           {
            "bin_end": 29.964367816091958,
            "bin_start": 29.1132183908046,
            "count": 0
           },
           {
            "bin_end": 30.81551724137931,
            "bin_start": 29.964367816091958,
            "count": 1
           },
           {
            "bin_end": 31.666666666666668,
            "bin_start": 30.81551724137931,
            "count": 1
           }
          ],
          "max": "31.666666666666668",
          "min": "23.155172413793107",
          "nan_count": 0,
          "unique_count": 87
         }
        },
        {
         "dtype": "int64",
         "name": "_deepnote_index_column"
        }
       ],
       "row_count": 87,
       "rows": [
        {
         "_deepnote_index_column": 0,
         "k": 1,
         "test_error": 31.666666666666668,
         "train_error": 0
        },
        {
         "_deepnote_index_column": 1,
         "k": 2,
         "test_error": 30.75287356321839,
         "train_error": 15.804597701149426
        },
        {
         "_deepnote_index_column": 2,
         "k": 3,
         "test_error": 27.45593869731801,
         "train_error": 16.762452107279696
        },
        {
         "_deepnote_index_column": 3,
         "k": 4,
         "test_error": 27.92241379310345,
         "train_error": 18.658045977011493
        },
        {
         "_deepnote_index_column": 4,
         "k": 5,
         "test_error": 26.65057471264367,
         "train_error": 19.629885057471267
        },
        {
         "_deepnote_index_column": 5,
         "k": 6,
         "test_error": 25.67049808429119,
         "train_error": 20.595785440613028
        },
        {
         "_deepnote_index_column": 6,
         "k": 7,
         "test_error": 24.504105090311988,
         "train_error": 20.58128078817734
        },
        {
         "_deepnote_index_column": 7,
         "k": 8,
         "test_error": 24.591954022988507,
         "train_error": 21.080459770114942
        },
        {
         "_deepnote_index_column": 8,
         "k": 9,
         "test_error": 23.980842911877396,
         "train_error": 21.54278416347382
        },
        {
         "_deepnote_index_column": 9,
         "k": 10,
         "test_error": 23.81379310344828,
         "train_error": 22.03218390804598
        }
       ]
      },
      "text/html": [
       "<div>\n",
       "<style scoped>\n",
       "    .dataframe tbody tr th:only-of-type {\n",
       "        vertical-align: middle;\n",
       "    }\n",
       "\n",
       "    .dataframe tbody tr th {\n",
       "        vertical-align: top;\n",
       "    }\n",
       "\n",
       "    .dataframe thead th {\n",
       "        text-align: right;\n",
       "    }\n",
       "</style>\n",
       "<table border=\"1\" class=\"dataframe\">\n",
       "  <thead>\n",
       "    <tr style=\"text-align: right;\">\n",
       "      <th></th>\n",
       "      <th>k</th>\n",
       "      <th>train_error</th>\n",
       "      <th>test_error</th>\n",
       "    </tr>\n",
       "  </thead>\n",
       "  <tbody>\n",
       "    <tr>\n",
       "      <th>0</th>\n",
       "      <td>1</td>\n",
       "      <td>0.000000</td>\n",
       "      <td>31.666667</td>\n",
       "    </tr>\n",
       "    <tr>\n",
       "      <th>1</th>\n",
       "      <td>2</td>\n",
       "      <td>15.804598</td>\n",
       "      <td>30.752874</td>\n",
       "    </tr>\n",
       "    <tr>\n",
       "      <th>2</th>\n",
       "      <td>3</td>\n",
       "      <td>16.762452</td>\n",
       "      <td>27.455939</td>\n",
       "    </tr>\n",
       "    <tr>\n",
       "      <th>3</th>\n",
       "      <td>4</td>\n",
       "      <td>18.658046</td>\n",
       "      <td>27.922414</td>\n",
       "    </tr>\n",
       "    <tr>\n",
       "      <th>4</th>\n",
       "      <td>5</td>\n",
       "      <td>19.629885</td>\n",
       "      <td>26.650575</td>\n",
       "    </tr>\n",
       "    <tr>\n",
       "      <th>...</th>\n",
       "      <td>...</td>\n",
       "      <td>...</td>\n",
       "      <td>...</td>\n",
       "    </tr>\n",
       "    <tr>\n",
       "      <th>82</th>\n",
       "      <td>83</td>\n",
       "      <td>25.061903</td>\n",
       "      <td>23.652403</td>\n",
       "    </tr>\n",
       "    <tr>\n",
       "      <th>83</th>\n",
       "      <td>84</td>\n",
       "      <td>25.078955</td>\n",
       "      <td>23.682813</td>\n",
       "    </tr>\n",
       "    <tr>\n",
       "      <th>84</th>\n",
       "      <td>85</td>\n",
       "      <td>25.106288</td>\n",
       "      <td>23.667478</td>\n",
       "    </tr>\n",
       "    <tr>\n",
       "      <th>85</th>\n",
       "      <td>86</td>\n",
       "      <td>25.129644</td>\n",
       "      <td>23.689522</td>\n",
       "    </tr>\n",
       "    <tr>\n",
       "      <th>86</th>\n",
       "      <td>87</td>\n",
       "      <td>25.113489</td>\n",
       "      <td>23.702999</td>\n",
       "    </tr>\n",
       "  </tbody>\n",
       "</table>\n",
       "<p>87 rows × 3 columns</p>\n",
       "</div>"
      ],
      "text/plain": [
       "     k  train_error  test_error\n",
       "0    1     0.000000   31.666667\n",
       "1    2    15.804598   30.752874\n",
       "2    3    16.762452   27.455939\n",
       "3    4    18.658046   27.922414\n",
       "4    5    19.629885   26.650575\n",
       "..  ..          ...         ...\n",
       "82  83    25.061903   23.652403\n",
       "83  84    25.078955   23.682813\n",
       "84  85    25.106288   23.667478\n",
       "85  86    25.129644   23.689522\n",
       "86  87    25.113489   23.702999\n",
       "\n",
       "[87 rows x 3 columns]"
      ]
     },
     "execution_count": 22,
     "metadata": {},
     "output_type": "execute_result"
    }
   ],
   "source": [
    "K_reg_scores"
   ]
  },
  {
   "cell_type": "markdown",
   "metadata": {
    "cell_id": "eef2e2c0-fe05-47fb-a635-7e4ecbc3e289",
    "deepnote_cell_type": "markdown",
    "tags": []
   },
   "source": [
    "Anaylzing for the least test error:"
   ]
  },
  {
   "cell_type": "code",
   "execution_count": null,
   "metadata": {
    "cell_id": "c407bd89-9f50-4e12-ab4b-a78f00582ae3",
    "deepnote_cell_height": 118.1875,
    "deepnote_cell_type": "code",
    "deepnote_to_be_reexecuted": false,
    "execution_millis": 10,
    "execution_start": 1647315320365,
    "source_hash": "9be450c7",
    "tags": []
   },
   "outputs": [
    {
     "data": {
      "text/plain": [
       "23.155172413793107"
      ]
     },
     "execution_count": 23,
     "metadata": {},
     "output_type": "execute_result"
    }
   ],
   "source": [
    "(K_reg_scores[\"test_error\"]).min()"
   ]
  },
  {
   "cell_type": "code",
   "execution_count": null,
   "metadata": {
    "cell_id": "39ccf8eb-1656-4d16-a011-2e3da9e473be",
    "deepnote_cell_height": 118.1875,
    "deepnote_cell_type": "code",
    "deepnote_to_be_reexecuted": false,
    "execution_millis": 9,
    "execution_start": 1647315320376,
    "source_hash": "3777e181",
    "tags": []
   },
   "outputs": [
    {
     "data": {
      "text/plain": [
       "81"
      ]
     },
     "execution_count": 24,
     "metadata": {},
     "output_type": "execute_result"
    }
   ],
   "source": [
    "(K_reg_scores[\"test_error\"]<25).sum()"
   ]
  },
  {
   "cell_type": "markdown",
   "metadata": {
    "cell_id": "6da0f97a-2f07-4c3e-b8f8-9ce33224db21",
    "deepnote_cell_type": "markdown",
    "tags": []
   },
   "source": [
    "This means that choosing k=10 was a good choice because the test error was around 24.8, meaning it is close to the least test error."
   ]
  },
  {
   "cell_type": "markdown",
   "metadata": {
    "cell_id": "9a4dacda-870d-4a6a-a67b-320814744158",
    "deepnote_cell_type": "markdown",
    "tags": []
   },
   "source": [
    "Now we will plot the test error curve to get a better understanding of the flexibilty and variance of K."
   ]
  },
  {
   "cell_type": "code",
   "execution_count": null,
   "metadata": {
    "cell_id": "c5d7d4bb-cb4a-49c6-ba0c-842660b0c296",
    "deepnote_cell_height": 66,
    "deepnote_cell_type": "code",
    "deepnote_to_be_reexecuted": false,
    "execution_millis": 8,
    "execution_start": 1647315320384,
    "source_hash": "4190f206",
    "tags": []
   },
   "outputs": [],
   "source": [
    "K_reg_scores[\"kinv\"] = 1/K_reg_scores.k"
   ]
  },
  {
   "cell_type": "code",
   "execution_count": null,
   "metadata": {
    "cell_id": "83b658af-e1ac-4ffb-a7f2-a98574549edb",
    "deepnote_cell_height": 120,
    "deepnote_cell_type": "code",
    "deepnote_to_be_reexecuted": false,
    "execution_millis": 2,
    "execution_start": 1647315320399,
    "source_hash": "e9a1ea4",
    "tags": []
   },
   "outputs": [],
   "source": [
    "K_regtest = alt.Chart(K_reg_scores).mark_line(color=\"green\").encode(\n",
    "    x = \"kinv\",\n",
    "    y = \"test_error\"\n",
    ")"
   ]
  },
  {
   "cell_type": "code",
   "execution_count": null,
   "metadata": {
    "cell_id": "8c74f5d7-466d-411e-9ad4-9ce8b1fd5cc5",
    "deepnote_cell_height": 156,
    "deepnote_cell_type": "code",
    "deepnote_to_be_reexecuted": false,
    "execution_millis": 1,
    "execution_start": 1647315320414,
    "source_hash": "796379a1",
    "tags": []
   },
   "outputs": [],
   "source": [
    "K_regtrain = alt.Chart(K_reg_scores).mark_line().encode(\n",
    "    x = \"kinv\",\n",
    "    y = \"train_error\"\n",
    "    ).properties( \n",
    "        title= \"Error\"\n",
    ")"
   ]
  },
  {
   "cell_type": "code",
   "execution_count": null,
   "metadata": {
    "cell_id": "6b436477-0d5a-4c04-8dd3-80d04b56c4f1",
    "deepnote_cell_height": 475,
    "deepnote_cell_type": "code",
    "deepnote_to_be_reexecuted": false,
    "execution_millis": 14,
    "execution_start": 1647315320421,
    "source_hash": "b9bc05e6",
    "tags": []
   },
   "outputs": [
    {
     "data": {
      "text/html": [
       "\n",
       "<div id=\"altair-viz-d35429c88e1f4a5a9f1619b5d9b7badd\"></div>\n",
       "<script type=\"text/javascript\">\n",
       "  (function(spec, embedOpt){\n",
       "    let outputDiv = document.currentScript.previousElementSibling;\n",
       "    if (outputDiv.id !== \"altair-viz-d35429c88e1f4a5a9f1619b5d9b7badd\") {\n",
       "      outputDiv = document.getElementById(\"altair-viz-d35429c88e1f4a5a9f1619b5d9b7badd\");\n",
       "    }\n",
       "    const paths = {\n",
       "      \"vega\": \"https://cdn.jsdelivr.net/npm//vega@5?noext\",\n",
       "      \"vega-lib\": \"https://cdn.jsdelivr.net/npm//vega-lib?noext\",\n",
       "      \"vega-lite\": \"https://cdn.jsdelivr.net/npm//vega-lite@4.8.1?noext\",\n",
       "      \"vega-embed\": \"https://cdn.jsdelivr.net/npm//vega-embed@6?noext\",\n",
       "    };\n",
       "\n",
       "    function loadScript(lib) {\n",
       "      return new Promise(function(resolve, reject) {\n",
       "        var s = document.createElement('script');\n",
       "        s.src = paths[lib];\n",
       "        s.async = true;\n",
       "        s.onload = () => resolve(paths[lib]);\n",
       "        s.onerror = () => reject(`Error loading script: ${paths[lib]}`);\n",
       "        document.getElementsByTagName(\"head\")[0].appendChild(s);\n",
       "      });\n",
       "    }\n",
       "\n",
       "    function showError(err) {\n",
       "      outputDiv.innerHTML = `<div class=\"error\" style=\"color:red;\">${err}</div>`;\n",
       "      throw err;\n",
       "    }\n",
       "\n",
       "    function displayChart(vegaEmbed) {\n",
       "      vegaEmbed(outputDiv, spec, embedOpt)\n",
       "        .catch(err => showError(`Javascript Error: ${err.message}<br>This usually means there's a typo in your chart specification. See the javascript console for the full traceback.`));\n",
       "    }\n",
       "\n",
       "    if(typeof define === \"function\" && define.amd) {\n",
       "      requirejs.config({paths});\n",
       "      require([\"vega-embed\"], displayChart, err => showError(`Error loading script: ${err.message}`));\n",
       "    } else if (typeof vegaEmbed === \"function\") {\n",
       "      displayChart(vegaEmbed);\n",
       "    } else {\n",
       "      loadScript(\"vega\")\n",
       "        .then(() => loadScript(\"vega-lite\"))\n",
       "        .then(() => loadScript(\"vega-embed\"))\n",
       "        .catch(showError)\n",
       "        .then(() => displayChart(vegaEmbed));\n",
       "    }\n",
       "  })({\"config\": {\"view\": {\"continuousWidth\": 400, \"continuousHeight\": 300}}, \"layer\": [{\"mark\": {\"type\": \"line\", \"color\": \"green\"}, \"encoding\": {\"x\": {\"type\": \"quantitative\", \"field\": \"kinv\"}, \"y\": {\"type\": \"quantitative\", \"field\": \"test_error\"}}}, {\"mark\": \"line\", \"encoding\": {\"x\": {\"type\": \"quantitative\", \"field\": \"kinv\"}, \"y\": {\"type\": \"quantitative\", \"field\": \"train_error\"}}, \"title\": \"Error\"}], \"data\": {\"name\": \"data-45f6f9d1fcc1403c71931e3bc0487e55\"}, \"$schema\": \"https://vega.github.io/schema/vega-lite/v4.8.1.json\", \"datasets\": {\"data-45f6f9d1fcc1403c71931e3bc0487e55\": [{\"k\": 1, \"train_error\": 0.0, \"test_error\": 31.666666666666668, \"kinv\": 1.0}, {\"k\": 2, \"train_error\": 15.804597701149426, \"test_error\": 30.75287356321839, \"kinv\": 0.5}, {\"k\": 3, \"train_error\": 16.762452107279696, \"test_error\": 27.45593869731801, \"kinv\": 0.3333333333333333}, {\"k\": 4, \"train_error\": 18.658045977011493, \"test_error\": 27.92241379310345, \"kinv\": 0.25}, {\"k\": 5, \"train_error\": 19.629885057471267, \"test_error\": 26.65057471264367, \"kinv\": 0.2}, {\"k\": 6, \"train_error\": 20.595785440613028, \"test_error\": 25.67049808429119, \"kinv\": 0.16666666666666666}, {\"k\": 7, \"train_error\": 20.58128078817734, \"test_error\": 24.504105090311988, \"kinv\": 0.14285714285714285}, {\"k\": 8, \"train_error\": 21.080459770114942, \"test_error\": 24.591954022988507, \"kinv\": 0.125}, {\"k\": 9, \"train_error\": 21.54278416347382, \"test_error\": 23.980842911877396, \"kinv\": 0.1111111111111111}, {\"k\": 10, \"train_error\": 22.03218390804598, \"test_error\": 23.81379310344828, \"kinv\": 0.1}, {\"k\": 11, \"train_error\": 21.895506792058516, \"test_error\": 23.482758620689655, \"kinv\": 0.09090909090909091}, {\"k\": 12, \"train_error\": 22.16475095785441, \"test_error\": 23.155172413793107, \"kinv\": 0.08333333333333333}, {\"k\": 13, \"train_error\": 22.48629531388152, \"test_error\": 23.8028293545535, \"kinv\": 0.07692307692307693}, {\"k\": 14, \"train_error\": 22.152709359605907, \"test_error\": 23.76354679802956, \"kinv\": 0.07142857142857142}, {\"k\": 15, \"train_error\": 22.31494252873563, \"test_error\": 23.449042145593868, \"kinv\": 0.06666666666666667}, {\"k\": 16, \"train_error\": 22.216954022988507, \"test_error\": 23.346264367816094, \"kinv\": 0.0625}, {\"k\": 17, \"train_error\": 22.1920216362407, \"test_error\": 23.25490196078431, \"kinv\": 0.058823529411764705}, {\"k\": 18, \"train_error\": 22.2765006385696, \"test_error\": 23.19540229885057, \"kinv\": 0.05555555555555555}, {\"k\": 19, \"train_error\": 22.545674531155477, \"test_error\": 23.208711433756804, \"kinv\": 0.05263157894736842}, {\"k\": 20, \"train_error\": 22.67183908045977, \"test_error\": 23.2816091954023, \"kinv\": 0.05}, {\"k\": 21, \"train_error\": 22.73563218390805, \"test_error\": 23.274767378215653, \"kinv\": 0.047619047619047616}, {\"k\": 22, \"train_error\": 22.62173458725183, \"test_error\": 23.173981191222573, \"kinv\": 0.045454545454545456}, {\"k\": 23, \"train_error\": 22.77161419290355, \"test_error\": 23.185407296351823, \"kinv\": 0.043478260869565216}, {\"k\": 24, \"train_error\": 22.52250957854406, \"test_error\": 23.405651340996165, \"kinv\": 0.041666666666666664}, {\"k\": 25, \"train_error\": 22.600919540229885, \"test_error\": 23.459310344827585, \"kinv\": 0.04}, {\"k\": 26, \"train_error\": 22.662245800176837, \"test_error\": 23.349248452696727, \"kinv\": 0.038461538461538464}, {\"k\": 27, \"train_error\": 22.679863771817796, \"test_error\": 23.35334184759472, \"kinv\": 0.037037037037037035}, {\"k\": 28, \"train_error\": 22.63711001642036, \"test_error\": 23.241789819376027, \"kinv\": 0.03571428571428571}, {\"k\": 29, \"train_error\": 22.700356718192626, \"test_error\": 23.264764169639317, \"kinv\": 0.034482758620689655}, {\"k\": 30, \"train_error\": 23.07088122605364, \"test_error\": 23.178927203065133, \"kinv\": 0.03333333333333333}, {\"k\": 31, \"train_error\": 22.96662958843159, \"test_error\": 23.32999629217649, \"kinv\": 0.03225806451612903}, {\"k\": 32, \"train_error\": 23.041666666666668, \"test_error\": 23.186781609195403, \"kinv\": 0.03125}, {\"k\": 33, \"train_error\": 23.16022291884361, \"test_error\": 23.26262626262626, \"kinv\": 0.030303030303030304}, {\"k\": 34, \"train_error\": 23.091615956727512, \"test_error\": 23.31237322515213, \"kinv\": 0.029411764705882353}, {\"k\": 35, \"train_error\": 22.996715927750408, \"test_error\": 23.334975369458128, \"kinv\": 0.02857142857142857}, {\"k\": 36, \"train_error\": 22.99457215836526, \"test_error\": 23.32375478927203, \"kinv\": 0.027777777777777776}, {\"k\": 37, \"train_error\": 22.98881640260951, \"test_error\": 23.322771046908976, \"kinv\": 0.02702702702702703}, {\"k\": 38, \"train_error\": 22.920750151240174, \"test_error\": 23.305202661826982, \"kinv\": 0.02631578947368421}, {\"k\": 39, \"train_error\": 22.931623931623935, \"test_error\": 23.340701444149722, \"kinv\": 0.02564102564102564}, {\"k\": 40, \"train_error\": 23.109770114942528, \"test_error\": 23.385057471264368, \"kinv\": 0.025}, {\"k\": 41, \"train_error\": 23.227361928791698, \"test_error\": 23.415755536865714, \"kinv\": 0.024390243902439025}, {\"k\": 42, \"train_error\": 23.339080459770116, \"test_error\": 23.3431855500821, \"kinv\": 0.023809523809523808}, {\"k\": 43, \"train_error\": 23.404971932638333, \"test_error\": 23.317294840951618, \"kinv\": 0.023255813953488372}, {\"k\": 44, \"train_error\": 23.44409613375131, \"test_error\": 23.4362591431557, \"kinv\": 0.022727272727272728}, {\"k\": 45, \"train_error\": 23.473818646232438, \"test_error\": 23.409195402298852, \"kinv\": 0.022222222222222223}, {\"k\": 46, \"train_error\": 23.466016991504247, \"test_error\": 23.355822088955517, \"kinv\": 0.021739130434782608}, {\"k\": 47, \"train_error\": 23.47664465639521, \"test_error\": 23.385668867693813, \"kinv\": 0.02127659574468085}, {\"k\": 48, \"train_error\": 23.40325670498084, \"test_error\": 23.32734674329502, \"kinv\": 0.020833333333333332}, {\"k\": 49, \"train_error\": 23.508796622097115, \"test_error\": 23.436077879427636, \"kinv\": 0.02040816326530612}, {\"k\": 50, \"train_error\": 23.55402298850575, \"test_error\": 23.387816091954022, \"kinv\": 0.02}, {\"k\": 51, \"train_error\": 23.668469686725263, \"test_error\": 23.380662609871532, \"kinv\": 0.0196078431372549}, {\"k\": 52, \"train_error\": 23.75817860300619, \"test_error\": 23.390583554376654, \"kinv\": 0.019230769230769232}, {\"k\": 53, \"train_error\": 23.945564953372365, \"test_error\": 23.47473433094773, \"kinv\": 0.018867924528301886}, {\"k\": 54, \"train_error\": 23.90655598126862, \"test_error\": 23.49404001702852, \"kinv\": 0.018518518518518517}, {\"k\": 55, \"train_error\": 24.026541274817134, \"test_error\": 23.4367816091954, \"kinv\": 0.01818181818181818}, {\"k\": 56, \"train_error\": 24.11966338259442, \"test_error\": 23.419334975369463, \"kinv\": 0.017857142857142856}, {\"k\": 57, \"train_error\": 24.117564025005034, \"test_error\": 23.483766888485576, \"kinv\": 0.017543859649122806}, {\"k\": 58, \"train_error\": 24.08283789139913, \"test_error\": 23.418945699564016, \"kinv\": 0.017241379310344827}, {\"k\": 59, \"train_error\": 24.11202026105591, \"test_error\": 23.398986947204364, \"kinv\": 0.01694915254237288}, {\"k\": 60, \"train_error\": 24.091954022988507, \"test_error\": 23.407471264367818, \"kinv\": 0.016666666666666666}, {\"k\": 61, \"train_error\": 24.193706425475785, \"test_error\": 23.37233842095346, \"kinv\": 0.01639344262295082}, {\"k\": 62, \"train_error\": 24.303670745272527, \"test_error\": 23.376344086021504, \"kinv\": 0.016129032258064516}, {\"k\": 63, \"train_error\": 24.36945812807882, \"test_error\": 23.323116219667945, \"kinv\": 0.015873015873015872}, {\"k\": 64, \"train_error\": 24.38164511494253, \"test_error\": 23.335847701149426, \"kinv\": 0.015625}, {\"k\": 65, \"train_error\": 24.360742705570285, \"test_error\": 23.374358974358973, \"kinv\": 0.015384615384615385}, {\"k\": 66, \"train_error\": 24.407349355625218, \"test_error\": 23.358934169278996, \"kinv\": 0.015151515151515152}, {\"k\": 67, \"train_error\": 24.543146337279115, \"test_error\": 23.345513810259046, \"kinv\": 0.014925373134328358}, {\"k\": 68, \"train_error\": 24.62626774847871, \"test_error\": 23.348884381338745, \"kinv\": 0.014705882352941176}, {\"k\": 69, \"train_error\": 24.716808262535398, \"test_error\": 23.386473429951696, \"kinv\": 0.014492753623188406}, {\"k\": 70, \"train_error\": 24.763875205254518, \"test_error\": 23.38817733990148, \"kinv\": 0.014285714285714285}, {\"k\": 71, \"train_error\": 24.704711024769303, \"test_error\": 23.349846203658736, \"kinv\": 0.014084507042253521}, {\"k\": 72, \"train_error\": 24.719029374201796, \"test_error\": 23.417145593869733, \"kinv\": 0.013888888888888888}, {\"k\": 73, \"train_error\": 24.741143127066607, \"test_error\": 23.37190993544324, \"kinv\": 0.0136986301369863}, {\"k\": 74, \"train_error\": 24.78890959925443, \"test_error\": 23.39173656415036, \"kinv\": 0.013513513513513514}, {\"k\": 75, \"train_error\": 24.823601532567054, \"test_error\": 23.41057471264368, \"kinv\": 0.013333333333333334}, {\"k\": 76, \"train_error\": 24.885662431941924, \"test_error\": 23.446763460375074, \"kinv\": 0.013157894736842105}, {\"k\": 77, \"train_error\": 24.89923869234214, \"test_error\": 23.507986266606956, \"kinv\": 0.012987012987012988}, {\"k\": 78, \"train_error\": 24.969496021220163, \"test_error\": 23.549071618037136, \"kinv\": 0.01282051282051282}, {\"k\": 79, \"train_error\": 25.04103011785247, \"test_error\": 23.553761094136473, \"kinv\": 0.012658227848101266}, {\"k\": 80, \"train_error\": 25.048994252873563, \"test_error\": 23.549712643678163, \"kinv\": 0.0125}, {\"k\": 81, \"train_error\": 25.0469703419895, \"test_error\": 23.593444018731375, \"kinv\": 0.012345679012345678}, {\"k\": 82, \"train_error\": 25.041911970843845, \"test_error\": 23.655452761424165, \"kinv\": 0.012195121951219513}, {\"k\": 83, \"train_error\": 25.061902783547982, \"test_error\": 23.652402714305495, \"kinv\": 0.012048192771084338}, {\"k\": 84, \"train_error\": 25.07895457033388, \"test_error\": 23.68281335522715, \"kinv\": 0.011904761904761904}, {\"k\": 85, \"train_error\": 25.106288032454362, \"test_error\": 23.667478025693036, \"kinv\": 0.011764705882352941}, {\"k\": 86, \"train_error\": 25.12964448008554, \"test_error\": 23.68952151831061, \"kinv\": 0.011627906976744186}, {\"k\": 87, \"train_error\": 25.113489232395295, \"test_error\": 23.702999075175054, \"kinv\": 0.011494252873563218}]}}, {\"mode\": \"vega-lite\"});\n",
       "</script>"
      ],
      "text/plain": [
       "alt.LayerChart(...)"
      ]
     },
     "execution_count": 28,
     "metadata": {},
     "output_type": "execute_result"
    }
   ],
   "source": [
    "K_regtest+K_regtrain"
   ]
  },
  {
   "cell_type": "markdown",
   "metadata": {
    "cell_id": "4ffa1bfb-50de-4ceb-85af-233e3794862f",
    "deepnote_cell_type": "markdown",
    "tags": []
   },
   "source": [
    "Looking at the graph we can see the K values are at a good high flexibility and high variance in the begining and later on all the underfitting where the graph has been seperated meaning that there is lower flexibility."
   ]
  },
  {
   "cell_type": "markdown",
   "metadata": {
    "cell_id": "60d1a4e1-f211-4271-bebd-7bc62f496ec0",
    "deepnote_cell_type": "markdown",
    "tags": []
   },
   "source": [
    "K-Nearest Neighbors Classifier"
   ]
  },
  {
   "cell_type": "code",
   "execution_count": null,
   "metadata": {
    "cell_id": "d1008f43-8384-4587-b92b-ee86318be8b9",
    "deepnote_cell_height": 66,
    "deepnote_cell_type": "code",
    "deepnote_to_be_reexecuted": false,
    "execution_millis": 1,
    "execution_start": 1647315320438,
    "source_hash": "e78396b",
    "tags": []
   },
   "outputs": [],
   "source": [
    "clf = KNeighborsClassifier(n_neighbors=6)"
   ]
  },
  {
   "cell_type": "code",
   "execution_count": null,
   "metadata": {
    "cell_id": "68ddb914-b0ce-43f0-8b7a-478663bdaf92",
    "deepnote_cell_height": 118.1875,
    "deepnote_cell_type": "code",
    "deepnote_to_be_reexecuted": false,
    "execution_millis": 6,
    "execution_start": 1647315320445,
    "source_hash": "e7844c31",
    "tags": []
   },
   "outputs": [
    {
     "data": {
      "text/plain": [
       "KNeighborsClassifier(n_neighbors=6)"
      ]
     },
     "execution_count": 30,
     "metadata": {},
     "output_type": "execute_result"
    }
   ],
   "source": [
    "clf.fit(X_train, y_train)"
   ]
  },
  {
   "cell_type": "code",
   "execution_count": null,
   "metadata": {
    "cell_id": "65f82c26-30da-450b-b0a9-97f6ed59161f",
    "deepnote_cell_height": 118.1875,
    "deepnote_cell_type": "code",
    "deepnote_to_be_reexecuted": false,
    "execution_millis": 6,
    "execution_start": 1647315320457,
    "source_hash": "6fdffc11",
    "tags": []
   },
   "outputs": [
    {
     "data": {
      "text/plain": [
       "32.55172413793103"
      ]
     },
     "execution_count": 31,
     "metadata": {},
     "output_type": "execute_result"
    }
   ],
   "source": [
    "mean_absolute_error(clf.predict(X_train), y_train)"
   ]
  },
  {
   "cell_type": "code",
   "execution_count": null,
   "metadata": {
    "cell_id": "3f731f44-34f5-4910-ad23-c8d21c82d87d",
    "deepnote_cell_height": 118.1875,
    "deepnote_cell_type": "code",
    "deepnote_to_be_reexecuted": false,
    "execution_millis": 11,
    "execution_start": 1647315320465,
    "source_hash": "21549eb2",
    "tags": []
   },
   "outputs": [
    {
     "data": {
      "text/plain": [
       "39.06896551724138"
      ]
     },
     "execution_count": 32,
     "metadata": {},
     "output_type": "execute_result"
    }
   ],
   "source": [
    "mean_absolute_error(clf.predict(X_test), y_test)"
   ]
  },
  {
   "cell_type": "markdown",
   "metadata": {
    "cell_id": "0bdd30ae-779c-42c0-a32e-44c7f6424b30",
    "deepnote_cell_height": 78,
    "deepnote_cell_type": "markdown",
    "tags": []
   },
   "source": [
    "Finding the mean absolute error showed us that the data will not be overfitting when we use n_neighbors=6."
   ]
  },
  {
   "cell_type": "markdown",
   "metadata": {
    "cell_id": "74789fdb-ba08-408e-b499-8e1b2d631e5e",
    "deepnote_cell_height": 78,
    "deepnote_cell_type": "markdown",
    "tags": []
   },
   "source": [
    "Now we will be examining which k values gives us the least test error for K-Nearest Classifier."
   ]
  },
  {
   "cell_type": "code",
   "execution_count": null,
   "metadata": {
    "cell_id": "6525143e-f7e0-4d8c-b089-481c35e77776",
    "deepnote_cell_height": 171,
    "deepnote_cell_type": "code",
    "deepnote_to_be_reexecuted": false,
    "execution_millis": 7,
    "execution_start": 1647315320479,
    "source_hash": "dd5ab16f",
    "tags": []
   },
   "outputs": [],
   "source": [
    "def get_clf_scores(k):\n",
    "    clf = KNeighborsClassifier(n_neighbors=k)\n",
    "    clf.fit(X_train, y_train)\n",
    "    train_error = mean_absolute_error(clf.predict(X_train), y_train)\n",
    "    test_error = mean_absolute_error(clf.predict(X_test), y_test)\n",
    "    return (train_error, test_error)"
   ]
  },
  {
   "cell_type": "code",
   "execution_count": null,
   "metadata": {
    "cell_id": "9ef9939a-307c-4e12-975d-a99434c8baff",
    "deepnote_cell_height": 81,
    "deepnote_cell_type": "code",
    "deepnote_to_be_reexecuted": false,
    "execution_millis": 1,
    "execution_start": 1647315320528,
    "source_hash": "c94c5ef9",
    "tags": []
   },
   "outputs": [],
   "source": [
    "clf_scores = pd.DataFrame({\"k\":range(1,88),\"train_error\":np.nan,\"test_error\":np.nan})"
   ]
  },
  {
   "cell_type": "code",
   "execution_count": null,
   "metadata": {
    "cell_id": "643498c2-b569-408c-8b40-a1891b80ccb3",
    "deepnote_cell_height": 99,
    "deepnote_cell_type": "code",
    "deepnote_to_be_reexecuted": false,
    "execution_millis": 908,
    "execution_start": 1647315320529,
    "source_hash": "bcd22e2b",
    "tags": []
   },
   "outputs": [],
   "source": [
    "for i in clf_scores.index:\n",
    "    clf_scores.loc[i,[\"train_error\",\"test_error\"]] = get_clf_scores(clf_scores.loc[i,\"k\"])"
   ]
  },
  {
   "cell_type": "code",
   "execution_count": null,
   "metadata": {
    "cell_id": "d7bb5f7f-d040-4453-801c-090a5f12445d",
    "deepnote_cell_height": 598,
    "deepnote_cell_type": "code",
    "deepnote_to_be_reexecuted": false,
    "execution_millis": 307,
    "execution_start": 1647315321460,
    "source_hash": "8dbac43",
    "tags": []
   },
   "outputs": [
    {
     "data": {
      "application/vnd.deepnote.dataframe.v3+json": {
       "column_count": 3,
       "columns": [
        {
         "dtype": "int64",
         "name": "k",
         "stats": {
          "histogram": [
           {
            "bin_end": 9.6,
            "bin_start": 1,
            "count": 9
           },
           {
            "bin_end": 18.2,
            "bin_start": 9.6,
            "count": 9
           },
           {
            "bin_end": 26.799999999999997,
            "bin_start": 18.2,
            "count": 8
           },
           {
            "bin_end": 35.4,
            "bin_start": 26.799999999999997,
            "count": 9
           },
           {
            "bin_end": 44,
            "bin_start": 35.4,
            "count": 8
           },
           {
            "bin_end": 52.599999999999994,
            "bin_start": 44,
            "count": 9
           },
           {
            "bin_end": 61.199999999999996,
            "bin_start": 52.599999999999994,
            "count": 9
           },
           {
            "bin_end": 69.8,
            "bin_start": 61.199999999999996,
            "count": 8
           },
           {
            "bin_end": 78.39999999999999,
            "bin_start": 69.8,
            "count": 9
           },
           {
            "bin_end": 87,
            "bin_start": 78.39999999999999,
            "count": 9
           }
          ],
          "max": "87",
          "min": "1",
          "nan_count": 0,
          "unique_count": 87
         }
        },
        {
         "dtype": "float64",
         "name": "train_error",
         "stats": {
          "histogram": [
           {
            "bin_end": 3.4781609195402297,
            "bin_start": 0,
            "count": 1
           },
           {
            "bin_end": 6.956321839080459,
            "bin_start": 3.4781609195402297,
            "count": 0
           },
           {
            "bin_end": 10.434482758620689,
            "bin_start": 6.956321839080459,
            "count": 0
           },
           {
            "bin_end": 13.912643678160919,
            "bin_start": 10.434482758620689,
            "count": 0
           },
           {
            "bin_end": 17.39080459770115,
            "bin_start": 13.912643678160919,
            "count": 1
           },
           {
            "bin_end": 20.868965517241378,
            "bin_start": 17.39080459770115,
            "count": 0
           },
           {
            "bin_end": 24.347126436781608,
            "bin_start": 20.868965517241378,
            "count": 15
           },
           {
            "bin_end": 27.825287356321837,
            "bin_start": 24.347126436781608,
            "count": 18
           },
           {
            "bin_end": 31.303448275862067,
            "bin_start": 27.825287356321837,
            "count": 20
           },
           {
            "bin_end": 34.7816091954023,
            "bin_start": 31.303448275862067,
            "count": 32
           }
          ],
          "max": "34.7816091954023",
          "min": "0.0",
          "nan_count": 0,
          "unique_count": 78
         }
        },
        {
         "dtype": "float64",
         "name": "test_error",
         "stats": {
          "histogram": [
           {
            "bin_end": 28.66896551724138,
            "bin_start": 27.42528735632184,
            "count": 10
           },
           {
            "bin_end": 29.91264367816092,
            "bin_start": 28.66896551724138,
            "count": 16
           },
           {
            "bin_end": 31.15632183908046,
            "bin_start": 29.91264367816092,
            "count": 20
           },
           {
            "bin_end": 32.4,
            "bin_start": 31.15632183908046,
            "count": 13
           },
           {
            "bin_end": 33.643678160919535,
            "bin_start": 32.4,
            "count": 3
           },
           {
            "bin_end": 34.88735632183908,
            "bin_start": 33.643678160919535,
            "count": 12
           },
           {
            "bin_end": 36.13103448275862,
            "bin_start": 34.88735632183908,
            "count": 3
           },
           {
            "bin_end": 37.37471264367816,
            "bin_start": 36.13103448275862,
            "count": 3
           },
           {
            "bin_end": 38.618390804597695,
            "bin_start": 37.37471264367816,
            "count": 3
           },
           {
            "bin_end": 39.86206896551724,
            "bin_start": 38.618390804597695,
            "count": 4
           }
          ],
          "max": "39.86206896551724",
          "min": "27.42528735632184",
          "nan_count": 0,
          "unique_count": 77
         }
        },
        {
         "dtype": "int64",
         "name": "_deepnote_index_column"
        }
       ],
       "row_count": 87,
       "rows": [
        {
         "_deepnote_index_column": 0,
         "k": 1,
         "test_error": 31.666666666666668,
         "train_error": 0
        },
        {
         "_deepnote_index_column": 1,
         "k": 2,
         "test_error": 32.701149425287355,
         "train_error": 15.597701149425287
        },
        {
         "_deepnote_index_column": 2,
         "k": 3,
         "test_error": 35.13793103448276,
         "train_error": 23.471264367816094
        },
        {
         "_deepnote_index_column": 3,
         "k": 4,
         "test_error": 38.52873563218391,
         "train_error": 27.919540229885058
        },
        {
         "_deepnote_index_column": 4,
         "k": 5,
         "test_error": 38.735632183908045,
         "train_error": 30.344827586206897
        },
        {
         "_deepnote_index_column": 5,
         "k": 6,
         "test_error": 39.06896551724138,
         "train_error": 32.55172413793103
        },
        {
         "_deepnote_index_column": 6,
         "k": 7,
         "test_error": 39.86206896551724,
         "train_error": 32.67816091954023
        },
        {
         "_deepnote_index_column": 7,
         "k": 8,
         "test_error": 39.4367816091954,
         "train_error": 33.44827586206897
        },
        {
         "_deepnote_index_column": 8,
         "k": 9,
         "test_error": 37.229885057471265,
         "train_error": 33.42528735632184
        },
        {
         "_deepnote_index_column": 9,
         "k": 10,
         "test_error": 38.18390804597701,
         "train_error": 33.689655172413794
        }
       ]
      },
      "text/html": [
       "<div>\n",
       "<style scoped>\n",
       "    .dataframe tbody tr th:only-of-type {\n",
       "        vertical-align: middle;\n",
       "    }\n",
       "\n",
       "    .dataframe tbody tr th {\n",
       "        vertical-align: top;\n",
       "    }\n",
       "\n",
       "    .dataframe thead th {\n",
       "        text-align: right;\n",
       "    }\n",
       "</style>\n",
       "<table border=\"1\" class=\"dataframe\">\n",
       "  <thead>\n",
       "    <tr style=\"text-align: right;\">\n",
       "      <th></th>\n",
       "      <th>k</th>\n",
       "      <th>train_error</th>\n",
       "      <th>test_error</th>\n",
       "    </tr>\n",
       "  </thead>\n",
       "  <tbody>\n",
       "    <tr>\n",
       "      <th>0</th>\n",
       "      <td>1</td>\n",
       "      <td>0.000000</td>\n",
       "      <td>31.666667</td>\n",
       "    </tr>\n",
       "    <tr>\n",
       "      <th>1</th>\n",
       "      <td>2</td>\n",
       "      <td>15.597701</td>\n",
       "      <td>32.701149</td>\n",
       "    </tr>\n",
       "    <tr>\n",
       "      <th>2</th>\n",
       "      <td>3</td>\n",
       "      <td>23.471264</td>\n",
       "      <td>35.137931</td>\n",
       "    </tr>\n",
       "    <tr>\n",
       "      <th>3</th>\n",
       "      <td>4</td>\n",
       "      <td>27.919540</td>\n",
       "      <td>38.528736</td>\n",
       "    </tr>\n",
       "    <tr>\n",
       "      <th>4</th>\n",
       "      <td>5</td>\n",
       "      <td>30.344828</td>\n",
       "      <td>38.735632</td>\n",
       "    </tr>\n",
       "    <tr>\n",
       "      <th>...</th>\n",
       "      <td>...</td>\n",
       "      <td>...</td>\n",
       "      <td>...</td>\n",
       "    </tr>\n",
       "    <tr>\n",
       "      <th>82</th>\n",
       "      <td>83</td>\n",
       "      <td>33.022989</td>\n",
       "      <td>31.045977</td>\n",
       "    </tr>\n",
       "    <tr>\n",
       "      <th>83</th>\n",
       "      <td>84</td>\n",
       "      <td>32.816092</td>\n",
       "      <td>30.862069</td>\n",
       "    </tr>\n",
       "    <tr>\n",
       "      <th>84</th>\n",
       "      <td>85</td>\n",
       "      <td>32.609195</td>\n",
       "      <td>30.655172</td>\n",
       "    </tr>\n",
       "    <tr>\n",
       "      <th>85</th>\n",
       "      <td>86</td>\n",
       "      <td>32.402299</td>\n",
       "      <td>30.643678</td>\n",
       "    </tr>\n",
       "    <tr>\n",
       "      <th>86</th>\n",
       "      <td>87</td>\n",
       "      <td>34.264368</td>\n",
       "      <td>31.597701</td>\n",
       "    </tr>\n",
       "  </tbody>\n",
       "</table>\n",
       "<p>87 rows × 3 columns</p>\n",
       "</div>"
      ],
      "text/plain": [
       "     k  train_error  test_error\n",
       "0    1     0.000000   31.666667\n",
       "1    2    15.597701   32.701149\n",
       "2    3    23.471264   35.137931\n",
       "3    4    27.919540   38.528736\n",
       "4    5    30.344828   38.735632\n",
       "..  ..          ...         ...\n",
       "82  83    33.022989   31.045977\n",
       "83  84    32.816092   30.862069\n",
       "84  85    32.609195   30.655172\n",
       "85  86    32.402299   30.643678\n",
       "86  87    34.264368   31.597701\n",
       "\n",
       "[87 rows x 3 columns]"
      ]
     },
     "execution_count": 36,
     "metadata": {},
     "output_type": "execute_result"
    }
   ],
   "source": [
    "clf_scores"
   ]
  },
  {
   "cell_type": "markdown",
   "metadata": {
    "cell_id": "b1c6f425-c57a-490f-9494-0d8c38804f98",
    "deepnote_cell_type": "markdown",
    "tags": []
   },
   "source": [
    "Anaylzing for the least test error:"
   ]
  },
  {
   "cell_type": "code",
   "execution_count": null,
   "metadata": {
    "cell_id": "fcb1171b-cef0-4f12-89af-1ed2747442dd",
    "deepnote_cell_height": 118.1875,
    "deepnote_cell_type": "code",
    "deepnote_to_be_reexecuted": false,
    "execution_millis": 303,
    "execution_start": 1647315321467,
    "source_hash": "764de29c",
    "tags": []
   },
   "outputs": [
    {
     "data": {
      "text/plain": [
       "27.42528735632184"
      ]
     },
     "execution_count": 37,
     "metadata": {},
     "output_type": "execute_result"
    }
   ],
   "source": [
    "clf_scores[\"test_error\"].min()"
   ]
  },
  {
   "cell_type": "code",
   "execution_count": null,
   "metadata": {
    "cell_id": "f766134f-5b15-4431-8d05-235f326496a5",
    "deepnote_cell_height": 118.1875,
    "deepnote_cell_type": "code",
    "deepnote_to_be_reexecuted": false,
    "execution_millis": 297,
    "execution_start": 1647315321474,
    "source_hash": "74ab815a",
    "tags": []
   },
   "outputs": [
    {
     "data": {
      "text/plain": [
       "26"
      ]
     },
     "execution_count": 38,
     "metadata": {},
     "output_type": "execute_result"
    }
   ],
   "source": [
    "(clf_scores[\"test_error\"]< 30).sum()"
   ]
  },
  {
   "cell_type": "markdown",
   "metadata": {
    "cell_id": "e9b623ce-1cae-43d4-bfff-863f1b6e89ca",
    "deepnote_cell_type": "markdown",
    "tags": []
   },
   "source": [
    "This means that choosing k=6 was a bad choice because the test error was around 38.8, meaning it is far from the least test error."
   ]
  },
  {
   "cell_type": "markdown",
   "metadata": {
    "cell_id": "eae6fc3d-2fa6-4693-9327-49c66b22c4e2",
    "deepnote_cell_type": "markdown",
    "tags": []
   },
   "source": [
    "Now we will plot the test error curve to get a better understanding of the flexibilty and variance of K."
   ]
  },
  {
   "cell_type": "code",
   "execution_count": null,
   "metadata": {
    "cell_id": "5790ec24-e86e-40dc-915f-3be92010152b",
    "deepnote_cell_height": 81,
    "deepnote_cell_type": "code",
    "deepnote_to_be_reexecuted": false,
    "execution_millis": 1547105,
    "execution_start": 1647315321483,
    "source_hash": "242b68ed",
    "tags": []
   },
   "outputs": [],
   "source": [
    "clf_scores[\"kinv\"] = 1/clf_scores.k"
   ]
  },
  {
   "cell_type": "code",
   "execution_count": null,
   "metadata": {
    "cell_id": "b7d60771-7a09-448e-864a-c89c5d804e9e",
    "deepnote_cell_height": 135,
    "deepnote_cell_type": "code",
    "deepnote_to_be_reexecuted": false,
    "execution_millis": 1,
    "execution_start": 1647315321526,
    "source_hash": "7407eecb",
    "tags": []
   },
   "outputs": [],
   "source": [
    "clftrain = alt.Chart(clf_scores).mark_line().encode(\n",
    "    x = \"kinv\",\n",
    "    y = \"train_error\"\n",
    ")"
   ]
  },
  {
   "cell_type": "code",
   "execution_count": null,
   "metadata": {
    "cell_id": "38d445bf-0cde-47b3-8e99-75181e312f9f",
    "deepnote_cell_height": 207,
    "deepnote_cell_type": "code",
    "deepnote_to_be_reexecuted": false,
    "execution_millis": 0,
    "execution_start": 1647315321528,
    "source_hash": "712348f2",
    "tags": []
   },
   "outputs": [],
   "source": [
    "clftest = alt.Chart(clf_scores).mark_line(color=\"green\").encode(\n",
    "    x = \"kinv\",\n",
    "    y = \"test_error\"\n",
    "  ).properties(\n",
    "      title= \"Error\",\n",
    "       \n",
    "    \n",
    ")"
   ]
  },
  {
   "cell_type": "code",
   "execution_count": null,
   "metadata": {
    "cell_id": "2479e146-0b9e-47b1-9911-efdbb0cf4031",
    "deepnote_cell_height": 99,
    "deepnote_cell_type": "code",
    "deepnote_output_heights": [
     2
    ],
    "deepnote_to_be_reexecuted": false,
    "execution_millis": 243,
    "execution_start": 1647315321529,
    "source_hash": "ad1e4b9d",
    "tags": []
   },
   "outputs": [
    {
     "data": {
      "text/html": [
       "\n",
       "<div id=\"altair-viz-c6f0ea0cdc924a0cb596357de4754da1\"></div>\n",
       "<script type=\"text/javascript\">\n",
       "  (function(spec, embedOpt){\n",
       "    let outputDiv = document.currentScript.previousElementSibling;\n",
       "    if (outputDiv.id !== \"altair-viz-c6f0ea0cdc924a0cb596357de4754da1\") {\n",
       "      outputDiv = document.getElementById(\"altair-viz-c6f0ea0cdc924a0cb596357de4754da1\");\n",
       "    }\n",
       "    const paths = {\n",
       "      \"vega\": \"https://cdn.jsdelivr.net/npm//vega@5?noext\",\n",
       "      \"vega-lib\": \"https://cdn.jsdelivr.net/npm//vega-lib?noext\",\n",
       "      \"vega-lite\": \"https://cdn.jsdelivr.net/npm//vega-lite@4.8.1?noext\",\n",
       "      \"vega-embed\": \"https://cdn.jsdelivr.net/npm//vega-embed@6?noext\",\n",
       "    };\n",
       "\n",
       "    function loadScript(lib) {\n",
       "      return new Promise(function(resolve, reject) {\n",
       "        var s = document.createElement('script');\n",
       "        s.src = paths[lib];\n",
       "        s.async = true;\n",
       "        s.onload = () => resolve(paths[lib]);\n",
       "        s.onerror = () => reject(`Error loading script: ${paths[lib]}`);\n",
       "        document.getElementsByTagName(\"head\")[0].appendChild(s);\n",
       "      });\n",
       "    }\n",
       "\n",
       "    function showError(err) {\n",
       "      outputDiv.innerHTML = `<div class=\"error\" style=\"color:red;\">${err}</div>`;\n",
       "      throw err;\n",
       "    }\n",
       "\n",
       "    function displayChart(vegaEmbed) {\n",
       "      vegaEmbed(outputDiv, spec, embedOpt)\n",
       "        .catch(err => showError(`Javascript Error: ${err.message}<br>This usually means there's a typo in your chart specification. See the javascript console for the full traceback.`));\n",
       "    }\n",
       "\n",
       "    if(typeof define === \"function\" && define.amd) {\n",
       "      requirejs.config({paths});\n",
       "      require([\"vega-embed\"], displayChart, err => showError(`Error loading script: ${err.message}`));\n",
       "    } else if (typeof vegaEmbed === \"function\") {\n",
       "      displayChart(vegaEmbed);\n",
       "    } else {\n",
       "      loadScript(\"vega\")\n",
       "        .then(() => loadScript(\"vega-lite\"))\n",
       "        .then(() => loadScript(\"vega-embed\"))\n",
       "        .catch(showError)\n",
       "        .then(() => displayChart(vegaEmbed));\n",
       "    }\n",
       "  })({\"config\": {\"view\": {\"continuousWidth\": 400, \"continuousHeight\": 300}}, \"layer\": [{\"mark\": \"line\", \"encoding\": {\"x\": {\"type\": \"quantitative\", \"field\": \"kinv\"}, \"y\": {\"type\": \"quantitative\", \"field\": \"train_error\"}}}, {\"mark\": {\"type\": \"line\", \"color\": \"green\"}, \"encoding\": {\"x\": {\"type\": \"quantitative\", \"field\": \"kinv\"}, \"y\": {\"type\": \"quantitative\", \"field\": \"test_error\"}}, \"title\": \"Error\"}], \"data\": {\"name\": \"data-3c6aad457daacf4fea7b1bf0a2f11f72\"}, \"$schema\": \"https://vega.github.io/schema/vega-lite/v4.8.1.json\", \"datasets\": {\"data-3c6aad457daacf4fea7b1bf0a2f11f72\": [{\"k\": 1, \"train_error\": 0.0, \"test_error\": 31.666666666666668, \"kinv\": 1.0}, {\"k\": 2, \"train_error\": 15.597701149425287, \"test_error\": 32.701149425287355, \"kinv\": 0.5}, {\"k\": 3, \"train_error\": 23.471264367816094, \"test_error\": 35.13793103448276, \"kinv\": 0.3333333333333333}, {\"k\": 4, \"train_error\": 27.919540229885058, \"test_error\": 38.52873563218391, \"kinv\": 0.25}, {\"k\": 5, \"train_error\": 30.344827586206897, \"test_error\": 38.735632183908045, \"kinv\": 0.2}, {\"k\": 6, \"train_error\": 32.55172413793103, \"test_error\": 39.06896551724138, \"kinv\": 0.16666666666666666}, {\"k\": 7, \"train_error\": 32.67816091954023, \"test_error\": 39.86206896551724, \"kinv\": 0.14285714285714285}, {\"k\": 8, \"train_error\": 33.44827586206897, \"test_error\": 39.4367816091954, \"kinv\": 0.125}, {\"k\": 9, \"train_error\": 33.42528735632184, \"test_error\": 37.229885057471265, \"kinv\": 0.1111111111111111}, {\"k\": 10, \"train_error\": 33.689655172413794, \"test_error\": 38.18390804597701, \"kinv\": 0.1}, {\"k\": 11, \"train_error\": 33.172413793103445, \"test_error\": 38.0919540229885, \"kinv\": 0.09090909090909091}, {\"k\": 12, \"train_error\": 31.057471264367816, \"test_error\": 37.11494252873563, \"kinv\": 0.08333333333333333}, {\"k\": 13, \"train_error\": 30.482758620689655, \"test_error\": 36.252873563218394, \"kinv\": 0.07692307692307693}, {\"k\": 14, \"train_error\": 28.75862068965517, \"test_error\": 35.195402298850574, \"kinv\": 0.07142857142857142}, {\"k\": 15, \"train_error\": 28.275862068965516, \"test_error\": 34.48275862068966, \"kinv\": 0.06666666666666667}, {\"k\": 16, \"train_error\": 27.977011494252874, \"test_error\": 33.02298850574713, \"kinv\": 0.0625}, {\"k\": 17, \"train_error\": 27.379310344827587, \"test_error\": 31.402298850574713, \"kinv\": 0.058823529411764705}, {\"k\": 18, \"train_error\": 27.344827586206897, \"test_error\": 31.137931034482758, \"kinv\": 0.05555555555555555}, {\"k\": 19, \"train_error\": 25.988505747126435, \"test_error\": 31.839080459770116, \"kinv\": 0.05263157894736842}, {\"k\": 20, \"train_error\": 25.344827586206897, \"test_error\": 31.74712643678161, \"kinv\": 0.05}, {\"k\": 21, \"train_error\": 25.344827586206897, \"test_error\": 32.11494252873563, \"kinv\": 0.047619047619047616}, {\"k\": 22, \"train_error\": 26.06896551724138, \"test_error\": 31.79310344827586, \"kinv\": 0.045454545454545456}, {\"k\": 23, \"train_error\": 27.67816091954023, \"test_error\": 31.436781609195403, \"kinv\": 0.043478260869565216}, {\"k\": 24, \"train_error\": 27.183908045977013, \"test_error\": 31.126436781609197, \"kinv\": 0.041666666666666664}, {\"k\": 25, \"train_error\": 27.724137931034484, \"test_error\": 30.942528735632184, \"kinv\": 0.04}, {\"k\": 26, \"train_error\": 29.528735632183906, \"test_error\": 30.908045977011493, \"kinv\": 0.038461538461538464}, {\"k\": 27, \"train_error\": 28.689655172413794, \"test_error\": 31.06896551724138, \"kinv\": 0.037037037037037035}, {\"k\": 28, \"train_error\": 30.057471264367816, \"test_error\": 30.7816091954023, \"kinv\": 0.03571428571428571}, {\"k\": 29, \"train_error\": 29.919540229885058, \"test_error\": 31.04597701149425, \"kinv\": 0.034482758620689655}, {\"k\": 30, \"train_error\": 31.977011494252874, \"test_error\": 31.49425287356322, \"kinv\": 0.03333333333333333}, {\"k\": 31, \"train_error\": 32.04597701149425, \"test_error\": 32.04597701149425, \"kinv\": 0.03225806451612903}, {\"k\": 32, \"train_error\": 32.04597701149425, \"test_error\": 32.160919540229884, \"kinv\": 0.03125}, {\"k\": 33, \"train_error\": 33.32183908045977, \"test_error\": 34.13793103448276, \"kinv\": 0.030303030303030304}, {\"k\": 34, \"train_error\": 34.01149425287356, \"test_error\": 34.13793103448276, \"kinv\": 0.029411764705882353}, {\"k\": 35, \"train_error\": 33.67816091954023, \"test_error\": 34.0919540229885, \"kinv\": 0.02857142857142857}, {\"k\": 36, \"train_error\": 33.88505747126437, \"test_error\": 34.10344827586207, \"kinv\": 0.027777777777777776}, {\"k\": 37, \"train_error\": 34.7816091954023, \"test_error\": 34.28735632183908, \"kinv\": 0.02702702702702703}, {\"k\": 38, \"train_error\": 34.71264367816092, \"test_error\": 34.55172413793103, \"kinv\": 0.02631578947368421}, {\"k\": 39, \"train_error\": 32.758620689655174, \"test_error\": 33.804597701149426, \"kinv\": 0.02564102564102564}, {\"k\": 40, \"train_error\": 31.95402298850575, \"test_error\": 34.724137931034484, \"kinv\": 0.025}, {\"k\": 41, \"train_error\": 31.735632183908045, \"test_error\": 35.39080459770115, \"kinv\": 0.024390243902439025}, {\"k\": 42, \"train_error\": 30.95402298850575, \"test_error\": 34.701149425287355, \"kinv\": 0.023809523809523808}, {\"k\": 43, \"train_error\": 29.862068965517242, \"test_error\": 34.59770114942529, \"kinv\": 0.023255813953488372}, {\"k\": 44, \"train_error\": 29.402298850574713, \"test_error\": 34.701149425287355, \"kinv\": 0.022727272727272728}, {\"k\": 45, \"train_error\": 27.93103448275862, \"test_error\": 32.91954022988506, \"kinv\": 0.022222222222222223}, {\"k\": 46, \"train_error\": 26.79310344827586, \"test_error\": 32.39080459770115, \"kinv\": 0.021739130434782608}, {\"k\": 47, \"train_error\": 25.71264367816092, \"test_error\": 31.839080459770116, \"kinv\": 0.02127659574468085}, {\"k\": 48, \"train_error\": 24.942528735632184, \"test_error\": 30.666666666666668, \"kinv\": 0.020833333333333332}, {\"k\": 49, \"train_error\": 24.298850574712645, \"test_error\": 29.689655172413794, \"kinv\": 0.02040816326530612}, {\"k\": 50, \"train_error\": 24.04597701149425, \"test_error\": 29.183908045977013, \"kinv\": 0.02}, {\"k\": 51, \"train_error\": 24.04597701149425, \"test_error\": 29.24137931034483, \"kinv\": 0.0196078431372549}, {\"k\": 52, \"train_error\": 24.0, \"test_error\": 29.24137931034483, \"kinv\": 0.019230769230769232}, {\"k\": 53, \"train_error\": 23.908045977011493, \"test_error\": 29.149425287356323, \"kinv\": 0.018867924528301886}, {\"k\": 54, \"train_error\": 23.919540229885058, \"test_error\": 29.298850574712645, \"kinv\": 0.018518518518518517}, {\"k\": 55, \"train_error\": 23.67816091954023, \"test_error\": 29.06896551724138, \"kinv\": 0.01818181818181818}, {\"k\": 56, \"train_error\": 23.7816091954023, \"test_error\": 28.96551724137931, \"kinv\": 0.017857142857142856}, {\"k\": 57, \"train_error\": 23.82758620689655, \"test_error\": 28.517241379310345, \"kinv\": 0.017543859649122806}, {\"k\": 58, \"train_error\": 23.517241379310345, \"test_error\": 28.666666666666668, \"kinv\": 0.017241379310344827}, {\"k\": 59, \"train_error\": 23.620689655172413, \"test_error\": 28.39080459770115, \"kinv\": 0.01694915254237288}, {\"k\": 60, \"train_error\": 24.03448275862069, \"test_error\": 28.24137931034483, \"kinv\": 0.016666666666666666}, {\"k\": 61, \"train_error\": 23.93103448275862, \"test_error\": 27.82758620689655, \"kinv\": 0.01639344262295082}, {\"k\": 62, \"train_error\": 23.93103448275862, \"test_error\": 27.42528735632184, \"kinv\": 0.016129032258064516}, {\"k\": 63, \"train_error\": 24.896551724137932, \"test_error\": 28.42528735632184, \"kinv\": 0.015873015873015872}, {\"k\": 64, \"train_error\": 25.482758620689655, \"test_error\": 28.35632183908046, \"kinv\": 0.015625}, {\"k\": 65, \"train_error\": 25.988505747126435, \"test_error\": 28.35632183908046, \"kinv\": 0.015384615384615385}, {\"k\": 66, \"train_error\": 25.64367816091954, \"test_error\": 28.563218390804597, \"kinv\": 0.015151515151515152}, {\"k\": 67, \"train_error\": 26.517241379310345, \"test_error\": 29.17241379310345, \"kinv\": 0.014925373134328358}, {\"k\": 68, \"train_error\": 27.448275862068964, \"test_error\": 29.25287356321839, \"kinv\": 0.014705882352941176}, {\"k\": 69, \"train_error\": 28.275862068965516, \"test_error\": 29.03448275862069, \"kinv\": 0.014492753623188406}, {\"k\": 70, \"train_error\": 30.32183908045977, \"test_error\": 29.701149425287355, \"kinv\": 0.014285714285714285}, {\"k\": 71, \"train_error\": 30.42528735632184, \"test_error\": 29.160919540229884, \"kinv\": 0.014084507042253521}, {\"k\": 72, \"train_error\": 31.091954022988507, \"test_error\": 29.666666666666668, \"kinv\": 0.013888888888888888}, {\"k\": 73, \"train_error\": 31.0, \"test_error\": 29.482758620689655, \"kinv\": 0.0136986301369863}, {\"k\": 74, \"train_error\": 31.7816091954023, \"test_error\": 29.71264367816092, \"kinv\": 0.013513513513513514}, {\"k\": 75, \"train_error\": 31.75862068965517, \"test_error\": 30.183908045977013, \"kinv\": 0.013333333333333334}, {\"k\": 76, \"train_error\": 33.724137931034484, \"test_error\": 30.735632183908045, \"kinv\": 0.013157894736842105}, {\"k\": 77, \"train_error\": 33.724137931034484, \"test_error\": 30.448275862068964, \"kinv\": 0.012987012987012988}, {\"k\": 78, \"train_error\": 33.724137931034484, \"test_error\": 30.448275862068964, \"kinv\": 0.01282051282051282}, {\"k\": 79, \"train_error\": 33.41379310344828, \"test_error\": 30.632183908045977, \"kinv\": 0.012658227848101266}, {\"k\": 80, \"train_error\": 33.10344827586207, \"test_error\": 30.735632183908045, \"kinv\": 0.0125}, {\"k\": 81, \"train_error\": 32.81609195402299, \"test_error\": 30.942528735632184, \"kinv\": 0.012345679012345678}, {\"k\": 82, \"train_error\": 32.91954022988506, \"test_error\": 31.04597701149425, \"kinv\": 0.012195121951219513}, {\"k\": 83, \"train_error\": 33.02298850574713, \"test_error\": 31.04597701149425, \"kinv\": 0.012048192771084338}, {\"k\": 84, \"train_error\": 32.81609195402299, \"test_error\": 30.862068965517242, \"kinv\": 0.011904761904761904}, {\"k\": 85, \"train_error\": 32.60919540229885, \"test_error\": 30.655172413793103, \"kinv\": 0.011764705882352941}, {\"k\": 86, \"train_error\": 32.40229885057471, \"test_error\": 30.64367816091954, \"kinv\": 0.011627906976744186}, {\"k\": 87, \"train_error\": 34.264367816091955, \"test_error\": 31.597701149425287, \"kinv\": 0.011494252873563218}]}}, {\"mode\": \"vega-lite\"});\n",
       "</script>"
      ],
      "text/plain": [
       "alt.LayerChart(...)"
      ]
     },
     "execution_count": 42,
     "metadata": {},
     "output_type": "execute_result"
    }
   ],
   "source": [
    "clftrain+clftest"
   ]
  },
  {
   "cell_type": "markdown",
   "metadata": {
    "cell_id": "0aa839a0-6023-42c4-9cb5-52e7a20b0dbd",
    "deepnote_cell_height": 74.78125,
    "deepnote_cell_type": "markdown",
    "tags": []
   },
   "source": [
    "Looking at the graph we can see the overfitting in the begining and later on all the underfitting where the graph has been seperated meaning that there is lower flexibility."
   ]
  },
  {
   "cell_type": "markdown",
   "metadata": {
    "cell_id": "722433e5-e97f-4a4c-ae8c-e80751d2c34b",
    "deepnote_cell_height": 102,
    "deepnote_cell_type": "markdown",
    "tags": []
   },
   "source": [
    "The whole reason of why we looked at the test error is analyze whether this Data had any correlation to the previous claim, so to find the best fitting K that will give us the least Test error."
   ]
  },
  {
   "cell_type": "markdown",
   "metadata": {
    "cell_id": "75922aa8-c6e1-46d5-9c85-550df5b37982",
    "deepnote_cell_height": 220.375,
    "deepnote_cell_type": "markdown",
    "tags": []
   },
   "source": [
    "## Summary\n",
    "Throughout our analyzing of the data using K-Nearest Regressers and Classifiers we can see how Regressor would be the better choice for our Data.Overall our Test error displays that we have around 25% error using K-Nearest Regressor, meaning for our US Gross and the Worldwide Gross the rotten tomato rating will have a around 25% error. We can conclude that rotten tomato ratings mostly has some impact on US Gross and Worldwide Gross. "
   ]
  },
  {
   "cell_type": "markdown",
   "metadata": {
    "cell_id": "fc42153e-0b6d-4c37-9e06-ee471cfb0534",
    "deepnote_cell_height": 144.78125,
    "deepnote_cell_type": "markdown",
    "tags": []
   },
   "source": [
    "## References\n",
    "\n",
    "Dataset was found in deepnote from Thursday (Week 8) under the Vega files.\n",
    "\n",
    "[Pandas Groupby Link](https://realpython.com/pandas-groupby/)"
   ]
  },
  {
   "cell_type": "markdown",
   "metadata": {
    "created_in_deepnote_cell": true,
    "deepnote_cell_type": "markdown",
    "tags": []
   },
   "source": [
    "<a style='text-decoration:none;line-height:16px;display:flex;color:#5B5B62;padding:10px;justify-content:end;' href='https://deepnote.com?utm_source=created-in-deepnote-cell&projectId=28e99662-c742-4859-ae49-71229868940a' target=\"_blank\">\n",
    "<img alt='Created in deepnote.com' style='display:inline;max-height:16px;margin:0px;margin-right:7.5px;' src='data:image/svg+xml;base64,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' > </img>\n",
    "Created in <span style='font-weight:600;margin-left:4px;'>Deepnote</span></a>"
   ]
  }
 ],
 "metadata": {
  "deepnote": {
   "is_reactive": false
  },
  "deepnote_execution_queue": [],
  "deepnote_notebook_id": "97afb67d-06ce-4a63-bb3d-208672377dae",
  "kernelspec": {
   "display_name": "Python 3 (ipykernel)",
   "language": "python",
   "name": "python3"
  },
  "language_info": {
   "codemirror_mode": {
    "name": "ipython",
    "version": 3
   },
   "file_extension": ".py",
   "mimetype": "text/x-python",
   "name": "python",
   "nbconvert_exporter": "python",
   "pygments_lexer": "ipython3",
   "version": "3.8.12"
  }
 },
 "nbformat": 4,
 "nbformat_minor": 4
}