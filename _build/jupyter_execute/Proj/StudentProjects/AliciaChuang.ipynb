{
 "cells": [
  {
   "cell_type": "markdown",
   "metadata": {
    "cell_id": "098969f5-ac0d-4245-bbc2-f824edd4e15f",
    "deepnote_cell_height": 193.1875,
    "deepnote_cell_type": "markdown",
    "tags": []
   },
   "source": [
    "# Board Games\n",
    "\n",
    "Author: Alicia Chuang\n",
    "\n",
    "Student ID: 37703653\n",
    "\n",
    "Course Project, UC Irvine, Math 10, W22"
   ]
  },
  {
   "cell_type": "markdown",
   "metadata": {
    "cell_id": "1232c27a-f5e2-426a-91e0-f6cfebd8a611",
    "deepnote_cell_height": 70,
    "deepnote_cell_type": "markdown",
    "tags": []
   },
   "source": [
    "## Introduction\n"
   ]
  },
  {
   "cell_type": "markdown",
   "metadata": {
    "cell_id": "68a97685-dfcb-4eb0-a250-7b40b3827cb7",
    "deepnote_cell_height": 74.796875,
    "deepnote_cell_type": "markdown",
    "tags": []
   },
   "source": [
    "The goal of this project is to explore the correlation between different aspects of board games using regression and neural networks. Aspects explored include year of publication and number of user ratings and the effects of different factors on the board game rating. "
   ]
  },
  {
   "cell_type": "markdown",
   "metadata": {
    "cell_id": "5100f2c6-6407-41f2-9bb2-1a62540d8662",
    "deepnote_cell_height": 70,
    "deepnote_cell_type": "markdown",
    "tags": []
   },
   "source": [
    "## Main portion of the project\n"
   ]
  },
  {
   "cell_type": "markdown",
   "metadata": {
    "cell_id": "1af8252f-7eda-44cc-bb01-f82775a8e3dc",
    "deepnote_cell_height": 52.390625,
    "deepnote_cell_type": "markdown",
    "tags": []
   },
   "source": [
    "**_Importing libraries_**"
   ]
  },
  {
   "cell_type": "code",
   "execution_count": 1,
   "metadata": {
    "cell_id": "0ce1d3d1-685c-4341-a19d-4ad7b7f14682",
    "deepnote_cell_height": 405.890625,
    "deepnote_cell_type": "code",
    "deepnote_to_be_reexecuted": false,
    "execution_millis": 10540,
    "execution_start": 1647620927095,
    "source_hash": "1044a62e",
    "tags": []
   },
   "outputs": [
    {
     "name": "stderr",
     "output_type": "stream",
     "text": [
      "/shared-libs/python3.7/py/lib/python3.7/site-packages/tqdm/auto.py:22: TqdmWarning: IProgress not found. Please update jupyter and ipywidgets. See https://ipywidgets.readthedocs.io/en/stable/user_install.html\n",
      "  from .autonotebook import tqdm as notebook_tqdm\n"
     ]
    }
   ],
   "source": [
    "import pandas as pd\n",
    "import numpy as np\n",
    "import matplotlib.pyplot as plt\n",
    "import altair as alt\n",
    "\n",
    "import torch\n",
    "from torch import nn\n",
    "from torchvision.transforms import ToTensor\n",
    "\n",
    "from sklearn.model_selection import train_test_split\n",
    "from sklearn.neighbors import KNeighborsRegressor\n",
    "from sklearn.linear_model import LinearRegression\n",
    "from sklearn.metrics import log_loss\n",
    "from sklearn.metrics import mean_absolute_error\n",
    "\n",
    "from statistics import mean"
   ]
  },
  {
   "cell_type": "markdown",
   "metadata": {
    "cell_id": "a55b6f1a-56b1-4435-befa-7383da49b5e3",
    "deepnote_cell_height": 52.390625,
    "deepnote_cell_type": "markdown",
    "tags": []
   },
   "source": [
    "**_Loading file_**"
   ]
  },
  {
   "cell_type": "code",
   "execution_count": 2,
   "metadata": {
    "cell_id": "d23fdd20-e861-4350-83dd-bc111b283ed8",
    "deepnote_cell_height": 99,
    "deepnote_cell_type": "code",
    "deepnote_to_be_reexecuted": false,
    "execution_millis": 167,
    "execution_start": 1647620937638,
    "source_hash": "1a5074a1",
    "tags": []
   },
   "outputs": [],
   "source": [
    "df = pd.read_csv(\"/work/bgg_dataset-20220302-203730.csv/bgg_dataset.csv\", delimiter=';')\n",
    "df.dropna(inplace=True)"
   ]
  },
  {
   "cell_type": "markdown",
   "metadata": {
    "cell_id": "4abbb75c-9827-45e5-990c-2e3c65a3258c",
    "deepnote_cell_height": 52.390625,
    "deepnote_cell_type": "markdown",
    "tags": []
   },
   "source": [
    "**_Display format of dataframe_**"
   ]
  },
  {
   "cell_type": "code",
   "execution_count": 3,
   "metadata": {
    "cell_id": "b787b589-885d-48d2-9eb8-a215f98b0a70",
    "deepnote_cell_height": 393,
    "deepnote_cell_type": "code",
    "deepnote_to_be_reexecuted": false,
    "execution_millis": 96,
    "execution_start": 1647620937810,
    "source_hash": "c085b6ba",
    "tags": []
   },
   "outputs": [
    {
     "data": {
      "application/vnd.deepnote.dataframe.v3+json": {
       "column_count": 14,
       "columns": [
        {
         "dtype": "float64",
         "name": "ID",
         "stats": {
          "histogram": [
           {
            "bin_end": 169050.2,
            "bin_start": 161936,
            "count": 2
           },
           {
            "bin_end": 176164.4,
            "bin_start": 169050.2,
            "count": 1
           },
           {
            "bin_end": 183278.6,
            "bin_start": 176164.4,
            "count": 0
           },
           {
            "bin_end": 190392.8,
            "bin_start": 183278.6,
            "count": 0
           },
           {
            "bin_end": 197507,
            "bin_start": 190392.8,
            "count": 0
           },
           {
            "bin_end": 204621.2,
            "bin_start": 197507,
            "count": 0
           },
           {
            "bin_end": 211735.4,
            "bin_start": 204621.2,
            "count": 0
           },
           {
            "bin_end": 218849.6,
            "bin_start": 211735.4,
            "count": 0
           },
           {
            "bin_end": 225963.8,
            "bin_start": 218849.6,
            "count": 1
           },
           {
            "bin_end": 233078,
            "bin_start": 225963.8,
            "count": 1
           }
          ],
          "max": "233078.0",
          "min": "161936.0",
          "nan_count": 0,
          "unique_count": 5
         }
        },
        {
         "dtype": "object",
         "name": "Name",
         "stats": {
          "categories": [
           {
            "count": 1,
            "name": "Gloomhaven"
           },
           {
            "count": 1,
            "name": "Pandemic Legacy: Season 1"
           },
           {
            "count": 3,
            "name": "3 others"
           }
          ],
          "nan_count": 0,
          "unique_count": 5
         }
        },
        {
         "dtype": "float64",
         "name": "Year Published",
         "stats": {
          "histogram": [
           {
            "bin_end": 2015.3,
            "bin_start": 2015,
            "count": 1
           },
           {
            "bin_end": 2015.6,
            "bin_start": 2015.3,
            "count": 0
           },
           {
            "bin_end": 2015.9,
            "bin_start": 2015.6,
            "count": 0
           },
           {
            "bin_end": 2016.2,
            "bin_start": 2015.9,
            "count": 1
           },
           {
            "bin_end": 2016.5,
            "bin_start": 2016.2,
            "count": 0
           },
           {
            "bin_end": 2016.8,
            "bin_start": 2016.5,
            "count": 0
           },
           {
            "bin_end": 2017.1,
            "bin_start": 2016.8,
            "count": 2
           },
           {
            "bin_end": 2017.4,
            "bin_start": 2017.1,
            "count": 0
           },
           {
            "bin_end": 2017.7,
            "bin_start": 2017.4,
            "count": 0
           },
           {
            "bin_end": 2018,
            "bin_start": 2017.7,
            "count": 1
           }
          ],
          "max": "2018.0",
          "min": "2015.0",
          "nan_count": 0,
          "unique_count": 4
         }
        },
        {
         "dtype": "int64",
         "name": "Min Players",
         "stats": {
          "histogram": [
           {
            "bin_end": 1.2,
            "bin_start": 1,
            "count": 2
           },
           {
            "bin_end": 1.4,
            "bin_start": 1.2,
            "count": 0
           },
           {
            "bin_end": 1.6,
            "bin_start": 1.4,
            "count": 0
           },
           {
            "bin_end": 1.8,
            "bin_start": 1.6,
            "count": 0
           },
           {
            "bin_end": 2,
            "bin_start": 1.8,
            "count": 0
           },
           {
            "bin_end": 2.2,
            "bin_start": 2,
            "count": 2
           },
           {
            "bin_end": 2.4000000000000004,
            "bin_start": 2.2,
            "count": 0
           },
           {
            "bin_end": 2.6,
            "bin_start": 2.4000000000000004,
            "count": 0
           },
           {
            "bin_end": 2.8,
            "bin_start": 2.6,
            "count": 0
           },
           {
            "bin_end": 3,
            "bin_start": 2.8,
            "count": 1
           }
          ],
          "max": "3",
          "min": "1",
          "nan_count": 0,
          "unique_count": 3
         }
        },
        {
         "dtype": "int64",
         "name": "Max Players",
         "stats": {
          "histogram": [
           {
            "bin_end": 4.2,
            "bin_start": 4,
            "count": 3
           },
           {
            "bin_end": 4.4,
            "bin_start": 4.2,
            "count": 0
           },
           {
            "bin_end": 4.6,
            "bin_start": 4.4,
            "count": 0
           },
           {
            "bin_end": 4.8,
            "bin_start": 4.6,
            "count": 0
           },
           {
            "bin_end": 5,
            "bin_start": 4.8,
            "count": 0
           },
           {
            "bin_end": 5.2,
            "bin_start": 5,
            "count": 1
           },
           {
            "bin_end": 5.4,
            "bin_start": 5.2,
            "count": 0
           },
           {
            "bin_end": 5.6,
            "bin_start": 5.4,
            "count": 0
           },
           {
            "bin_end": 5.8,
            "bin_start": 5.6,
            "count": 0
           },
           {
            "bin_end": 6,
            "bin_start": 5.8,
            "count": 1
           }
          ],
          "max": "6",
          "min": "4",
          "nan_count": 0,
          "unique_count": 3
         }
        },
        {
         "dtype": "int64",
         "name": "Play Time",
         "stats": {
          "histogram": [
           {
            "bin_end": 102,
            "bin_start": 60,
            "count": 1
           },
           {
            "bin_end": 144,
            "bin_start": 102,
            "count": 3
           },
           {
            "bin_end": 186,
            "bin_start": 144,
            "count": 0
           },
           {
            "bin_end": 228,
            "bin_start": 186,
            "count": 0
           },
           {
            "bin_end": 270,
            "bin_start": 228,
            "count": 0
           },
           {
            "bin_end": 312,
            "bin_start": 270,
            "count": 0
           },
           {
            "bin_end": 354,
            "bin_start": 312,
            "count": 0
           },
           {
            "bin_end": 396,
            "bin_start": 354,
            "count": 0
           },
           {
            "bin_end": 438,
            "bin_start": 396,
            "count": 0
           },
           {
            "bin_end": 480,
            "bin_start": 438,
            "count": 1
           }
          ],
          "max": "480",
          "min": "60",
          "nan_count": 0,
          "unique_count": 3
         }
        },
        {
         "dtype": "int64",
         "name": "Min Age",
         "stats": {
          "histogram": [
           {
            "bin_end": 12.2,
            "bin_start": 12,
            "count": 1
           },
           {
            "bin_end": 12.4,
            "bin_start": 12.2,
            "count": 0
           },
           {
            "bin_end": 12.6,
            "bin_start": 12.4,
            "count": 0
           },
           {
            "bin_end": 12.8,
            "bin_start": 12.6,
            "count": 0
           },
           {
            "bin_end": 13,
            "bin_start": 12.8,
            "count": 0
           },
           {
            "bin_end": 13.2,
            "bin_start": 13,
            "count": 1
           },
           {
            "bin_end": 13.4,
            "bin_start": 13.2,
            "count": 0
           },
           {
            "bin_end": 13.6,
            "bin_start": 13.4,
            "count": 0
           },
           {
            "bin_end": 13.8,
            "bin_start": 13.6,
            "count": 0
           },
           {
            "bin_end": 14,
            "bin_start": 13.8,
            "count": 3
           }
          ],
          "max": "14",
          "min": "12",
          "nan_count": 0,
          "unique_count": 3
         }
        },
        {
         "dtype": "int64",
         "name": "Users Rated",
         "stats": {
          "histogram": [
           {
            "bin_end": 18607.6,
            "bin_start": 13468,
            "count": 1
           },
           {
            "bin_end": 23747.2,
            "bin_start": 18607.6,
            "count": 1
           },
           {
            "bin_end": 28886.800000000003,
            "bin_start": 23747.2,
            "count": 0
           },
           {
            "bin_end": 34026.4,
            "bin_start": 28886.800000000003,
            "count": 0
           },
           {
            "bin_end": 39166,
            "bin_start": 34026.4,
            "count": 0
           },
           {
            "bin_end": 44305.600000000006,
            "bin_start": 39166,
            "count": 2
           },
           {
            "bin_end": 49445.200000000004,
            "bin_start": 44305.600000000006,
            "count": 0
           },
           {
            "bin_end": 54584.8,
            "bin_start": 49445.200000000004,
            "count": 0
           },
           {
            "bin_end": 59724.4,
            "bin_start": 54584.8,
            "count": 0
           },
           {
            "bin_end": 64864,
            "bin_start": 59724.4,
            "count": 1
           }
          ],
          "max": "64864",
          "min": "13468",
          "nan_count": 0,
          "unique_count": 5
         }
        },
        {
         "dtype": "object",
         "name": "Rating Average",
         "stats": {
          "categories": [
           {
            "count": 1,
            "name": "8,79"
           },
           {
            "count": 1,
            "name": "8,61"
           },
           {
            "count": 3,
            "name": "3 others"
           }
          ],
          "nan_count": 0,
          "unique_count": 5
         }
        },
        {
         "dtype": "int64",
         "name": "BGG Rank",
         "stats": {
          "histogram": [
           {
            "bin_end": 1.4,
            "bin_start": 1,
            "count": 1
           },
           {
            "bin_end": 1.8,
            "bin_start": 1.4,
            "count": 0
           },
           {
            "bin_end": 2.2,
            "bin_start": 1.8,
            "count": 1
           },
           {
            "bin_end": 2.6,
            "bin_start": 2.2,
            "count": 0
           },
           {
            "bin_end": 3,
            "bin_start": 2.6,
            "count": 0
           },
           {
            "bin_end": 3.4000000000000004,
            "bin_start": 3,
            "count": 1
           },
           {
            "bin_end": 3.8000000000000003,
            "bin_start": 3.4000000000000004,
            "count": 0
           },
           {
            "bin_end": 4.2,
            "bin_start": 3.8000000000000003,
            "count": 1
           },
           {
            "bin_end": 4.6,
            "bin_start": 4.2,
            "count": 0
           },
           {
            "bin_end": 5,
            "bin_start": 4.6,
            "count": 1
           }
          ],
          "max": "5",
          "min": "1",
          "nan_count": 0,
          "unique_count": 5
         }
        },
        {
         "dtype": "object",
         "name": "Complexity Average",
         "stats": {
          "categories": [
           {
            "count": 1,
            "name": "3,86"
           },
           {
            "count": 1,
            "name": "2,84"
           },
           {
            "count": 3,
            "name": "3 others"
           }
          ],
          "nan_count": 0,
          "unique_count": 5
         }
        },
        {
         "dtype": "float64",
         "name": "Owned Users",
         "stats": {
          "histogram": [
           {
            "bin_end": 23857.8,
            "bin_start": 16831,
            "count": 1
           },
           {
            "bin_end": 30884.6,
            "bin_start": 23857.8,
            "count": 1
           },
           {
            "bin_end": 37911.4,
            "bin_start": 30884.6,
            "count": 0
           },
           {
            "bin_end": 44938.2,
            "bin_start": 37911.4,
            "count": 0
           },
           {
            "bin_end": 51965,
            "bin_start": 44938.2,
            "count": 0
           },
           {
            "bin_end": 58991.8,
            "bin_start": 51965,
            "count": 0
           },
           {
            "bin_end": 66018.6,
            "bin_start": 58991.8,
            "count": 1
           },
           {
            "bin_end": 73045.4,
            "bin_start": 66018.6,
            "count": 1
           },
           {
            "bin_end": 80072.20000000001,
            "bin_start": 73045.4,
            "count": 0
           },
           {
            "bin_end": 87099,
            "bin_start": 80072.20000000001,
            "count": 1
           }
          ],
          "max": "87099.0",
          "min": "16831.0",
          "nan_count": 0,
          "unique_count": 5
         }
        },
        {
         "dtype": "object",
         "name": "Mechanics",
         "stats": {
          "categories": [
           {
            "count": 1,
            "name": "Action Queue, Action Retrieval, Campaign / Battle Card Driven, Card Play Conflict Resolution, Communication Limits, Cooperative Game, Deck Construction, Deck Bag and Pool Building, Grid Movement, Hand Management, Hexagon Grid, Legacy Game, Modular Board, Once-Per-Game Abilities, Scenario / Mission / Campaign Game, Simultaneous Action Selection, Solo / Solitaire Game, Storytelling, Variable Player Powers"
           },
           {
            "count": 1,
            "name": "Action Points, Cooperative Game, Hand Management, Legacy Game, Point to Point Movement, Set Collection, Trading, Variable Player Powers"
           },
           {
            "count": 3,
            "name": "3 others"
           }
          ],
          "nan_count": 0,
          "unique_count": 5
         }
        },
        {
         "dtype": "object",
         "name": "Domains",
         "stats": {
          "categories": [
           {
            "count": 3,
            "name": "Strategy Games, Thematic Games"
           },
           {
            "count": 2,
            "name": "Strategy Games"
           }
          ],
          "nan_count": 0,
          "unique_count": 2
         }
        },
        {
         "dtype": "int64",
         "name": "_deepnote_index_column"
        }
       ],
       "row_count": 5,
       "rows": [
        {
         "BGG Rank": 1,
         "Complexity Average": "3,86",
         "Domains": "Strategy Games, Thematic Games",
         "ID": 174430,
         "Max Players": 4,
         "Mechanics": "Action Queue, Action Retrieval, Campaign / Battle Card Driven, Card Play Conflict Resolution, Commu…",
         "Min Age": 14,
         "Min Players": 1,
         "Name": "Gloomhaven",
         "Owned Users": 68323,
         "Play Time": 120,
         "Rating Average": "8,79",
         "Users Rated": 42055,
         "Year Published": 2017,
         "_deepnote_index_column": 0
        },
        {
         "BGG Rank": 2,
         "Complexity Average": "2,84",
         "Domains": "Strategy Games, Thematic Games",
         "ID": 161936,
         "Max Players": 4,
         "Mechanics": "Action Points, Cooperative Game, Hand Management, Legacy Game, Point to Point Movement, Set Collect…",
         "Min Age": 13,
         "Min Players": 2,
         "Name": "Pandemic Legacy: Season 1",
         "Owned Users": 65294,
         "Play Time": 60,
         "Rating Average": "8,61",
         "Users Rated": 41643,
         "Year Published": 2015,
         "_deepnote_index_column": 1
        },
        {
         "BGG Rank": 3,
         "Complexity Average": "3,91",
         "Domains": "Strategy Games",
         "ID": 224517,
         "Max Players": 4,
         "Mechanics": "Hand Management, Income, Loans, Market, Network and Route Building, Score-and-Reset Game, Tech Tree…",
         "Min Age": 14,
         "Min Players": 2,
         "Name": "Brass: Birmingham",
         "Owned Users": 28785,
         "Play Time": 120,
         "Rating Average": "8,66",
         "Users Rated": 19217,
         "Year Published": 2018,
         "_deepnote_index_column": 2
        },
        {
         "BGG Rank": 4,
         "Complexity Average": "3,24",
         "Domains": "Strategy Games",
         "ID": 167791,
         "Max Players": 5,
         "Mechanics": "Card Drafting, Drafting, End Game Bonuses, Hand Management, Hexagon Grid, Income, Set Collection, S…",
         "Min Age": 12,
         "Min Players": 1,
         "Name": "Terraforming Mars",
         "Owned Users": 87099,
         "Play Time": 120,
         "Rating Average": "8,43",
         "Users Rated": 64864,
         "Year Published": 2016,
         "_deepnote_index_column": 3
        },
        {
         "BGG Rank": 5,
         "Complexity Average": "4,22",
         "Domains": "Strategy Games, Thematic Games",
         "ID": 233078,
         "Max Players": 6,
         "Mechanics": "Action Drafting, Area Majority / Influence, Area-Impulse, Dice Rolling, Follow, Grid Movement, Hexa…",
         "Min Age": 14,
         "Min Players": 3,
         "Name": "Twilight Imperium: Fourth Edition",
         "Owned Users": 16831,
         "Play Time": 480,
         "Rating Average": "8,70",
         "Users Rated": 13468,
         "Year Published": 2017,
         "_deepnote_index_column": 4
        }
       ]
      },
      "text/html": [
       "<div>\n",
       "<style scoped>\n",
       "    .dataframe tbody tr th:only-of-type {\n",
       "        vertical-align: middle;\n",
       "    }\n",
       "\n",
       "    .dataframe tbody tr th {\n",
       "        vertical-align: top;\n",
       "    }\n",
       "\n",
       "    .dataframe thead th {\n",
       "        text-align: right;\n",
       "    }\n",
       "</style>\n",
       "<table border=\"1\" class=\"dataframe\">\n",
       "  <thead>\n",
       "    <tr style=\"text-align: right;\">\n",
       "      <th></th>\n",
       "      <th>ID</th>\n",
       "      <th>Name</th>\n",
       "      <th>Year Published</th>\n",
       "      <th>Min Players</th>\n",
       "      <th>Max Players</th>\n",
       "      <th>Play Time</th>\n",
       "      <th>Min Age</th>\n",
       "      <th>Users Rated</th>\n",
       "      <th>Rating Average</th>\n",
       "      <th>BGG Rank</th>\n",
       "      <th>Complexity Average</th>\n",
       "      <th>Owned Users</th>\n",
       "      <th>Mechanics</th>\n",
       "      <th>Domains</th>\n",
       "    </tr>\n",
       "  </thead>\n",
       "  <tbody>\n",
       "    <tr>\n",
       "      <th>0</th>\n",
       "      <td>174430.0</td>\n",
       "      <td>Gloomhaven</td>\n",
       "      <td>2017.0</td>\n",
       "      <td>1</td>\n",
       "      <td>4</td>\n",
       "      <td>120</td>\n",
       "      <td>14</td>\n",
       "      <td>42055</td>\n",
       "      <td>8,79</td>\n",
       "      <td>1</td>\n",
       "      <td>3,86</td>\n",
       "      <td>68323.0</td>\n",
       "      <td>Action Queue, Action Retrieval, Campaign / Bat...</td>\n",
       "      <td>Strategy Games, Thematic Games</td>\n",
       "    </tr>\n",
       "    <tr>\n",
       "      <th>1</th>\n",
       "      <td>161936.0</td>\n",
       "      <td>Pandemic Legacy: Season 1</td>\n",
       "      <td>2015.0</td>\n",
       "      <td>2</td>\n",
       "      <td>4</td>\n",
       "      <td>60</td>\n",
       "      <td>13</td>\n",
       "      <td>41643</td>\n",
       "      <td>8,61</td>\n",
       "      <td>2</td>\n",
       "      <td>2,84</td>\n",
       "      <td>65294.0</td>\n",
       "      <td>Action Points, Cooperative Game, Hand Manageme...</td>\n",
       "      <td>Strategy Games, Thematic Games</td>\n",
       "    </tr>\n",
       "    <tr>\n",
       "      <th>2</th>\n",
       "      <td>224517.0</td>\n",
       "      <td>Brass: Birmingham</td>\n",
       "      <td>2018.0</td>\n",
       "      <td>2</td>\n",
       "      <td>4</td>\n",
       "      <td>120</td>\n",
       "      <td>14</td>\n",
       "      <td>19217</td>\n",
       "      <td>8,66</td>\n",
       "      <td>3</td>\n",
       "      <td>3,91</td>\n",
       "      <td>28785.0</td>\n",
       "      <td>Hand Management, Income, Loans, Market, Networ...</td>\n",
       "      <td>Strategy Games</td>\n",
       "    </tr>\n",
       "    <tr>\n",
       "      <th>3</th>\n",
       "      <td>167791.0</td>\n",
       "      <td>Terraforming Mars</td>\n",
       "      <td>2016.0</td>\n",
       "      <td>1</td>\n",
       "      <td>5</td>\n",
       "      <td>120</td>\n",
       "      <td>12</td>\n",
       "      <td>64864</td>\n",
       "      <td>8,43</td>\n",
       "      <td>4</td>\n",
       "      <td>3,24</td>\n",
       "      <td>87099.0</td>\n",
       "      <td>Card Drafting, Drafting, End Game Bonuses, Han...</td>\n",
       "      <td>Strategy Games</td>\n",
       "    </tr>\n",
       "    <tr>\n",
       "      <th>4</th>\n",
       "      <td>233078.0</td>\n",
       "      <td>Twilight Imperium: Fourth Edition</td>\n",
       "      <td>2017.0</td>\n",
       "      <td>3</td>\n",
       "      <td>6</td>\n",
       "      <td>480</td>\n",
       "      <td>14</td>\n",
       "      <td>13468</td>\n",
       "      <td>8,70</td>\n",
       "      <td>5</td>\n",
       "      <td>4,22</td>\n",
       "      <td>16831.0</td>\n",
       "      <td>Action Drafting, Area Majority / Influence, Ar...</td>\n",
       "      <td>Strategy Games, Thematic Games</td>\n",
       "    </tr>\n",
       "  </tbody>\n",
       "</table>\n",
       "</div>"
      ],
      "text/plain": [
       "         ID                               Name  Year Published  Min Players  \\\n",
       "0  174430.0                         Gloomhaven          2017.0            1   \n",
       "1  161936.0          Pandemic Legacy: Season 1          2015.0            2   \n",
       "2  224517.0                  Brass: Birmingham          2018.0            2   \n",
       "3  167791.0                  Terraforming Mars          2016.0            1   \n",
       "4  233078.0  Twilight Imperium: Fourth Edition          2017.0            3   \n",
       "\n",
       "   Max Players  Play Time  Min Age  Users Rated Rating Average  BGG Rank  \\\n",
       "0            4        120       14        42055           8,79         1   \n",
       "1            4         60       13        41643           8,61         2   \n",
       "2            4        120       14        19217           8,66         3   \n",
       "3            5        120       12        64864           8,43         4   \n",
       "4            6        480       14        13468           8,70         5   \n",
       "\n",
       "  Complexity Average  Owned Users  \\\n",
       "0               3,86      68323.0   \n",
       "1               2,84      65294.0   \n",
       "2               3,91      28785.0   \n",
       "3               3,24      87099.0   \n",
       "4               4,22      16831.0   \n",
       "\n",
       "                                           Mechanics  \\\n",
       "0  Action Queue, Action Retrieval, Campaign / Bat...   \n",
       "1  Action Points, Cooperative Game, Hand Manageme...   \n",
       "2  Hand Management, Income, Loans, Market, Networ...   \n",
       "3  Card Drafting, Drafting, End Game Bonuses, Han...   \n",
       "4  Action Drafting, Area Majority / Influence, Ar...   \n",
       "\n",
       "                          Domains  \n",
       "0  Strategy Games, Thematic Games  \n",
       "1  Strategy Games, Thematic Games  \n",
       "2                  Strategy Games  \n",
       "3                  Strategy Games  \n",
       "4  Strategy Games, Thematic Games  "
      ]
     },
     "execution_count": 3,
     "metadata": {},
     "output_type": "execute_result"
    }
   ],
   "source": [
    "df.head()"
   ]
  },
  {
   "cell_type": "markdown",
   "metadata": {
    "cell_id": "1df13175-7937-4232-b00f-edf1d409ac95",
    "deepnote_cell_height": 52.390625,
    "deepnote_cell_type": "markdown",
    "tags": []
   },
   "source": [
    "**_Section 1_**"
   ]
  },
  {
   "cell_type": "markdown",
   "metadata": {
    "cell_id": "662a46bd-fea3-4330-82f8-5092b5d026f2",
    "deepnote_cell_height": 125.1875,
    "deepnote_cell_type": "markdown",
    "tags": []
   },
   "source": [
    "**_Goal: Check correlation between users owned, users rated, and year published_**\n",
    "\n",
    "Data Used: Rows that contain years 2010-2022 and owned users between 5000 and 40000\n",
    "\n",
    "Method: K nearest neighbors regressor and linear regression"
   ]
  },
  {
   "cell_type": "code",
   "execution_count": 4,
   "metadata": {
    "cell_id": "233f2ff3-3140-4199-893d-767b07c97ebc",
    "deepnote_cell_height": 81,
    "deepnote_cell_type": "code",
    "deepnote_to_be_reexecuted": false,
    "execution_millis": 21,
    "execution_start": 1647620937910,
    "source_hash": "dc2cb6c9",
    "tags": []
   },
   "outputs": [],
   "source": [
    "df2 = df[(df['Year Published'].isin(range(2010, 2023))) & (df['Owned Users'].isin(range(5000, 40001)))]"
   ]
  },
  {
   "cell_type": "markdown",
   "metadata": {
    "cell_id": "62b67990-8140-48fd-a393-cd5348366dd1",
    "deepnote_cell_height": 52.390625,
    "deepnote_cell_type": "markdown",
    "tags": []
   },
   "source": [
    "**_Splitting and fitting data_**"
   ]
  },
  {
   "cell_type": "code",
   "execution_count": 5,
   "metadata": {
    "cell_id": "dcefa5c5-911f-46de-9d91-bc0ddfa66127",
    "deepnote_cell_height": 117,
    "deepnote_cell_type": "code",
    "deepnote_to_be_reexecuted": false,
    "execution_millis": 13,
    "execution_start": 1647620937937,
    "source_hash": "df4fa47f",
    "tags": []
   },
   "outputs": [],
   "source": [
    "X_train, X_test, y_train, y_test = train_test_split(df2[['Owned Users']], df2['Users Rated'], test_size = 0.2)\n",
    "reg = KNeighborsRegressor(n_neighbors=7)\n",
    "pred = reg.fit(X_train, y_train)"
   ]
  },
  {
   "cell_type": "markdown",
   "metadata": {
    "cell_id": "1098d747-0922-419b-87b0-5d8fafeaf90e",
    "deepnote_cell_height": 52.390625,
    "deepnote_cell_type": "markdown",
    "tags": []
   },
   "source": [
    "**_Plot K Nearest Neighbors Regression_**"
   ]
  },
  {
   "cell_type": "code",
   "execution_count": 6,
   "metadata": {
    "cell_id": "5e07d9e4-d6be-4bc3-8dab-d51719875599",
    "deepnote_cell_height": 401,
    "deepnote_cell_type": "code",
    "deepnote_output_heights": [
     250
    ],
    "deepnote_to_be_reexecuted": false,
    "execution_millis": 413,
    "execution_start": 1647620937957,
    "source_hash": "be762205",
    "tags": []
   },
   "outputs": [
    {
     "data": {
      "image/png": "[encoded data removed]",
      "text/plain": [
       "<Figure size 432x288 with 1 Axes>"
      ]
     },
     "metadata": {
      "filenames": {
       "image/png": "/Users/christopherdavis/Documents/GitHub/UCI-Math-10-W22/_build/jupyter_execute/Proj/StudentProjects/AliciaChuang_16_0.png"
      },
      "image/png": {
       "height": 248,
       "width": 393
      },
      "needs_background": "light"
     },
     "output_type": "display_data"
    }
   ],
   "source": [
    "plt.scatter(X_train, y_train, s=5, color=\"black\", label=\"original\")\n",
    "plt.plot(X_train, reg.predict(X_train), lw=0.5, color=\"green\", label=\"predicted\")\n",
    "plt.legend()\n",
    "plt.show()"
   ]
  },
  {
   "cell_type": "code",
   "execution_count": 7,
   "metadata": {
    "cell_id": "e7a588e6-79b3-4218-acef-0b79d89f578e",
    "deepnote_cell_height": 118.1875,
    "deepnote_cell_type": "code",
    "deepnote_output_heights": [
     21.1875
    ],
    "deepnote_to_be_reexecuted": false,
    "execution_millis": 20,
    "execution_start": 1647620938373,
    "source_hash": "f3019309",
    "tags": []
   },
   "outputs": [
    {
     "data": {
      "text/plain": [
       "1469.2868303571427"
      ]
     },
     "execution_count": 7,
     "metadata": {},
     "output_type": "execute_result"
    }
   ],
   "source": [
    "mean_absolute_error(reg.predict(X_test), y_test)"
   ]
  },
  {
   "cell_type": "code",
   "execution_count": 8,
   "metadata": {
    "cell_id": "1eb71d9e-91b3-4ab0-b98e-78a08bd9bb83",
    "deepnote_cell_height": 118.1875,
    "deepnote_cell_type": "code",
    "deepnote_output_heights": [
     21.1875
    ],
    "deepnote_to_be_reexecuted": false,
    "execution_millis": 9,
    "execution_start": 1647620938401,
    "source_hash": "abbbb7ce",
    "tags": []
   },
   "outputs": [
    {
     "data": {
      "text/plain": [
       "1185.6323323042377"
      ]
     },
     "execution_count": 8,
     "metadata": {},
     "output_type": "execute_result"
    }
   ],
   "source": [
    "mean_absolute_error(reg.predict(X_train), y_train)"
   ]
  },
  {
   "cell_type": "markdown",
   "metadata": {
    "cell_id": "56080e66-53c1-4c23-88da-b52b2972b11d",
    "deepnote_cell_height": 111.1875,
    "deepnote_cell_type": "markdown",
    "tags": []
   },
   "source": [
    "**_Error Analysis_**\n",
    "\n",
    "The mean aboslute error for the training data and the test data are relatively close, so there is no sign of overfitting of the data. While the absolute errors may seem large, because of the large step sizes, the relative errors are acceptable."
   ]
  },
  {
   "cell_type": "code",
   "execution_count": 9,
   "metadata": {
    "cell_id": "11d7a423-dba8-47ff-a605-f9fca7da8cd0",
    "deepnote_cell_height": 147.6875,
    "deepnote_cell_type": "code",
    "deepnote_to_be_reexecuted": false,
    "execution_millis": 30,
    "execution_start": 1647620938415,
    "source_hash": "65b3188",
    "tags": []
   },
   "outputs": [
    {
     "name": "stdout",
     "output_type": "stream",
     "text": [
      "The slope of the linear regression is 0.707883245086142\n"
     ]
    }
   ],
   "source": [
    "reg = LinearRegression()\n",
    "reg.fit(X_train, y_train)\n",
    "print(f\"The slope of the linear regression is {reg.coef_[0]}\")"
   ]
  },
  {
   "cell_type": "markdown",
   "metadata": {
    "cell_id": "dfd251b6-96a6-45b4-a9a6-2f0f99d39141",
    "deepnote_cell_height": 52.390625,
    "deepnote_cell_type": "markdown",
    "tags": []
   },
   "source": [
    "**_Plot Linear Regression_**"
   ]
  },
  {
   "cell_type": "code",
   "execution_count": 10,
   "metadata": {
    "cell_id": "8926ddb2-75ec-4c58-93a6-501cbc40282a",
    "deepnote_cell_height": 583,
    "deepnote_cell_type": "code",
    "deepnote_output_heights": [
     378
    ],
    "deepnote_to_be_reexecuted": false,
    "execution_millis": 278,
    "execution_start": 1647620938450,
    "source_hash": "ac16310c",
    "tags": []
   },
   "outputs": [
    {
     "data": {
      "text/html": [
       "\n",
       "<div id=\"altair-viz-b57c43285f504c08b4264e9be2024368\"></div>\n",
       "<script type=\"text/javascript\">\n",
       "  (function(spec, embedOpt){\n",
       "    let outputDiv = document.currentScript.previousElementSibling;\n",
       "    if (outputDiv.id !== \"altair-viz-b57c43285f504c08b4264e9be2024368\") {\n",
       "      outputDiv = document.getElementById(\"altair-viz-b57c43285f504c08b4264e9be2024368\");\n",
       "    }\n",
       "    const paths = {\n",
       "      \"vega\": \"https://cdn.jsdelivr.net/npm//vega@5?noext\",\n",
       "      \"vega-lib\": \"https://cdn.jsdelivr.net/npm//vega-lib?noext\",\n",
       "      \"vega-lite\": \"https://cdn.jsdelivr.net/npm//vega-lite@4.8.1?noext\",\n",
       "      \"vega-embed\": \"https://cdn.jsdelivr.net/npm//vega-embed@6?noext\",\n",
       "    };\n",
       "\n",
       "    function loadScript(lib) {\n",
       "      return new Promise(function(resolve, reject) {\n",
       "        var s = document.createElement('script');\n",
       "        s.src = paths[lib];\n",
       "        s.async = true;\n",
       "        s.onload = () => resolve(paths[lib]);\n",
       "        s.onerror = () => reject(`Error loading script: ${paths[lib]}`);\n",
       "        document.getElementsByTagName(\"head\")[0].appendChild(s);\n",
       "      });\n",
       "    }\n",
       "\n",
       "    function showError(err) {\n",
       "      outputDiv.innerHTML = `<div class=\"error\" style=\"color:red;\">${err}</div>`;\n",
       "      throw err;\n",
       "    }\n",
       "\n",
       "    function displayChart(vegaEmbed) {\n",
       "      vegaEmbed(outputDiv, spec, embedOpt)\n",
       "        .catch(err => showError(`Javascript Error: ${err.message}<br>This usually means there's a typo in your chart specification. See the javascript console for the full traceback.`));\n",
       "    }\n",
       "\n",
       "    if(typeof define === \"function\" && define.amd) {\n",
       "      requirejs.config({paths});\n",
       "      require([\"vega-embed\"], displayChart, err => showError(`Error loading script: ${err.message}`));\n",
       "    } else if (typeof vegaEmbed === \"function\") {\n",
       "      displayChart(vegaEmbed);\n",
       "    } else {\n",
       "      loadScript(\"vega\")\n",
       "        .then(() => loadScript(\"vega-lite\"))\n",
       "        .then(() => loadScript(\"vega-embed\"))\n",
       "        .catch(showError)\n",
       "        .then(() => displayChart(vegaEmbed));\n",
       "    }\n",
       "  })({\"config\": {\"view\": {\"continuousWidth\": 400, \"continuousHeight\": 300}}, \"data\": {\"name\": \"data-d3f9e6a58740245721b8eb2aafc2c0b9\"}, \"mark\": {\"type\": \"point\", \"opacity\": 0.7}, \"encoding\": {\"color\": {\"type\": \"quantitative\", \"field\": \"Year Published\"}, \"x\": {\"type\": \"quantitative\", \"field\": \"Owned Users\", \"scale\": {\"zero\": false}}, \"y\": {\"type\": \"quantitative\", \"field\": \"Users Rated\", \"scale\": {\"zero\": false}}}, \"selection\": {\"selector001\": {\"type\": \"interval\", \"bind\": \"scales\", \"encodings\": [\"x\", \"y\"]}}, \"title\": \"Owned Users vs Users Rated\", \"$schema\": \"https://vega.github.io/schema/vega-lite/v4.8.1.json\", \"datasets\": {\"data-d3f9e6a58740245721b8eb2aafc2c0b9\": [{\"ID\": 224517.0, \"Name\": \"Brass: Birmingham\", \"Year Published\": 2018.0, \"Min Players\": 2, \"Max Players\": 4, \"Play Time\": 120, \"Min Age\": 14, \"Users Rated\": 19217, \"Rating Average\": \"8,66\", \"BGG Rank\": 3, \"Complexity Average\": \"3,91\", \"Owned Users\": 28785.0, \"Mechanics\": \"Hand Management, Income, Loans, Market, Network and Route Building, Score-and-Reset Game, Tech Trees / Tech Tracks, Turn Order: Stat-Based, Variable Set-up\", \"Domains\": \"Strategy Games\"}, {\"ID\": 233078.0, \"Name\": \"Twilight Imperium: Fourth Edition\", \"Year Published\": 2017.0, \"Min Players\": 3, \"Max Players\": 6, \"Play Time\": 480, \"Min Age\": 14, \"Users Rated\": 13468, \"Rating Average\": \"8,70\", \"BGG Rank\": 5, \"Complexity Average\": \"4,22\", \"Owned Users\": 16831.0, \"Mechanics\": \"Action Drafting, Area Majority / Influence, Area-Impulse, Dice Rolling, Follow, Grid Movement, Hexagon Grid, Modular Board, Trading, Variable Phase Order, Variable Player Powers, Voting\", \"Domains\": \"Strategy Games, Thematic Games\"}, {\"ID\": 291457.0, \"Name\": \"Gloomhaven: Jaws of the Lion\", \"Year Published\": 2020.0, \"Min Players\": 1, \"Max Players\": 4, \"Play Time\": 120, \"Min Age\": 14, \"Users Rated\": 8392, \"Rating Average\": \"8,87\", \"BGG Rank\": 6, \"Complexity Average\": \"3,55\", \"Owned Users\": 21609.0, \"Mechanics\": \"Action Queue, Campaign / Battle Card Driven, Communication Limits, Cooperative Game, Critical Hits and Failures, Deck Construction, Grid Movement, Hand Management, Hexagon Grid, Legacy Game, Line of Sight, Once-Per-Game Abilities, Scenario / Mission / Campaign Game, Simultaneous Action Selection, Solo / Solitaire Game, Variable Player Powers\", \"Domains\": \"Strategy Games, Thematic Games\"}, {\"ID\": 182028.0, \"Name\": \"Through the Ages: A New Story of Civilization\", \"Year Published\": 2015.0, \"Min Players\": 2, \"Max Players\": 4, \"Play Time\": 120, \"Min Age\": 14, \"Users Rated\": 23061, \"Rating Average\": \"8,43\", \"BGG Rank\": 7, \"Complexity Average\": \"4,41\", \"Owned Users\": 26985.0, \"Mechanics\": \"Action Points, Auction/Bidding, Auction: Dutch, Card Drafting, Events, Income, Take That\", \"Domains\": \"Strategy Games\"}, {\"ID\": 220308.0, \"Name\": \"Gaia Project\", \"Year Published\": 2017.0, \"Min Players\": 1, \"Max Players\": 4, \"Play Time\": 150, \"Min Age\": 12, \"Users Rated\": 16352, \"Rating Average\": \"8,49\", \"BGG Rank\": 8, \"Complexity Average\": \"4,35\", \"Owned Users\": 20312.0, \"Mechanics\": \"End Game Bonuses, Hexagon Grid, Income, Modular Board, Network and Route Building, Solo / Solitaire Game, Tech Trees / Tech Tracks, Turn Order: Pass Order, Variable Player Powers, Variable Set-up, Victory Points as a Resource\", \"Domains\": \"Strategy Games\"}, {\"ID\": 187645.0, \"Name\": \"Star Wars: Rebellion\", \"Year Published\": 2016.0, \"Min Players\": 2, \"Max Players\": 4, \"Play Time\": 240, \"Min Age\": 14, \"Users Rated\": 23081, \"Rating Average\": \"8,42\", \"BGG Rank\": 9, \"Complexity Average\": \"3,71\", \"Owned Users\": 34849.0, \"Mechanics\": \"Area Majority / Influence, Area Movement, Area-Impulse, Delayed Purchase, Dice Rolling, Hand Management, Team-Based Game, Variable Player Powers\", \"Domains\": \"Thematic Games\"}, {\"ID\": 193738.0, \"Name\": \"Great Western Trail\", \"Year Published\": 2016.0, \"Min Players\": 2, \"Max Players\": 4, \"Play Time\": 150, \"Min Age\": 12, \"Users Rated\": 29457, \"Rating Average\": \"8,30\", \"BGG Rank\": 11, \"Complexity Average\": \"3,71\", \"Owned Users\": 35804.0, \"Mechanics\": \"Deck Bag and Pool Building, Hand Management, Ownership, Point to Point Movement, Rondel, Set Collection, Track Movement, Variable Set-up\", \"Domains\": \"Strategy Games\"}, {\"ID\": 115746.0, \"Name\": \"War of the Ring: Second Edition\", \"Year Published\": 2012.0, \"Min Players\": 2, \"Max Players\": 4, \"Play Time\": 180, \"Min Age\": 13, \"Users Rated\": 13725, \"Rating Average\": \"8,49\", \"BGG Rank\": 12, \"Complexity Average\": \"4,14\", \"Owned Users\": 22281.0, \"Mechanics\": \"Area Majority / Influence, Area Movement, Campaign / Battle Card Driven, Card Play Conflict Resolution, Deck Bag and Pool Building, Dice Rolling, Hand Management, Hidden Movement, Movement Points, Simulation, Team-Based Game\", \"Domains\": \"Thematic Games, Wargames\"}, {\"ID\": 162886.0, \"Name\": \"Spirit Island\", \"Year Published\": 2017.0, \"Min Players\": 1, \"Max Players\": 4, \"Play Time\": 120, \"Min Age\": 13, \"Users Rated\": 25722, \"Rating Average\": \"8,35\", \"BGG Rank\": 13, \"Complexity Average\": \"4,01\", \"Owned Users\": 38254.0, \"Mechanics\": \"Action Retrieval, Area Majority / Influence, Campaign / Battle Card Driven, Cooperative Game, Events, Hand Management, Modular Board, Set Collection, Simultaneous Action Selection, Solo / Solitaire Game, Variable Player Powers\", \"Domains\": \"Strategy Games\"}, {\"ID\": 124361.0, \"Name\": \"Concordia\", \"Year Published\": 2013.0, \"Min Players\": 2, \"Max Players\": 5, \"Play Time\": 100, \"Min Age\": 13, \"Users Rated\": 28105, \"Rating Average\": \"8,12\", \"BGG Rank\": 18, \"Complexity Average\": \"3,03\", \"Owned Users\": 32014.0, \"Mechanics\": \"Action Retrieval, Advantage Token, Auction: Dutch, Card Drafting, Deck Bag and Pool Building, Hand Management, Movement Points, Point to Point Movement, Set Collection, Variable Set-up\", \"Domains\": \"Strategy Games\"}, {\"ID\": 177736.0, \"Name\": \"A Feast for Odin\", \"Year Published\": 2016.0, \"Min Players\": 1, \"Max Players\": 4, \"Play Time\": 120, \"Min Age\": 12, \"Users Rated\": 17377, \"Rating Average\": \"8,20\", \"BGG Rank\": 21, \"Complexity Average\": \"3,84\", \"Owned Users\": 22794.0, \"Mechanics\": \"Automatic Resource Growth, Dice Rolling, Grid Coverage, Income, Pattern Building, Push Your Luck, Solo / Solitaire Game, Tile Placement, Turn Order: Pass Order, Worker Placement\", \"Domains\": \"Strategy Games\"}, {\"ID\": 183394.0, \"Name\": \"Viticulture Essential Edition\", \"Year Published\": 2015.0, \"Min Players\": 1, \"Max Players\": 6, \"Play Time\": 90, \"Min Age\": 13, \"Users Rated\": 29486, \"Rating Average\": \"8,08\", \"BGG Rank\": 23, \"Complexity Average\": \"2,91\", \"Owned Users\": 39747.0, \"Mechanics\": \"Contracts, Hand Management, Solo / Solitaire Game, Turn Order: Auction, Victory Points as a Resource, Worker Placement, Worker Placement, Different Worker Types\", \"Domains\": \"Strategy Games\"}, {\"ID\": 167355.0, \"Name\": \"Nemesis\", \"Year Published\": 2018.0, \"Min Players\": 1, \"Max Players\": 5, \"Play Time\": 180, \"Min Age\": 12, \"Users Rated\": 12290, \"Rating Average\": \"8,40\", \"BGG Rank\": 24, \"Complexity Average\": \"3,35\", \"Owned Users\": 17574.0, \"Mechanics\": \"Campaign / Battle Card Driven, Cooperative Game, Dice Rolling, Hidden Roles, Modular Board, Player Elimination, Semi-Cooperative Game, Solo / Solitaire Game, Team-Based Game, Traitor Game, Variable Player Powers\", \"Domains\": \"Thematic Games\"}, {\"ID\": 164928.0, \"Name\": \"Orl\\u00e9ans\", \"Year Published\": 2014.0, \"Min Players\": 2, \"Max Players\": 4, \"Play Time\": 90, \"Min Age\": 12, \"Users Rated\": 22244, \"Rating Average\": \"8,09\", \"BGG Rank\": 25, \"Complexity Average\": \"3,05\", \"Owned Users\": 27093.0, \"Mechanics\": \"Deck Bag and Pool Building, Point to Point Movement, Turn Order: Progressive\", \"Domains\": \"Strategy Games\"}, {\"ID\": 96848.0, \"Name\": \"Mage Knight Board Game\", \"Year Published\": 2011.0, \"Min Players\": 1, \"Max Players\": 4, \"Play Time\": 240, \"Min Age\": 14, \"Users Rated\": 27850, \"Rating Average\": \"8,10\", \"BGG Rank\": 26, \"Complexity Average\": \"4,31\", \"Owned Users\": 39421.0, \"Mechanics\": \"Card Drafting, Cooperative Game, Deck Bag and Pool Building, Dice Rolling, Grid Movement, Hand Management, Hexagon Grid, Modular Board, Role Playing, Solo / Solitaire Game, Variable Player Powers\", \"Domains\": \"Strategy Games, Thematic Games\"}, {\"ID\": 237182.0, \"Name\": \"Root\", \"Year Published\": 2018.0, \"Min Players\": 2, \"Max Players\": 4, \"Play Time\": 90, \"Min Age\": 10, \"Users Rated\": 24412, \"Rating Average\": \"8,10\", \"BGG Rank\": 27, \"Complexity Average\": \"3,67\", \"Owned Users\": 37715.0, \"Mechanics\": \"Action Queue, Action Retrieval, Area Majority / Influence, Area Movement, Dice Rolling, Hand Management, Point to Point Movement, Race, Variable Player Powers\", \"Domains\": \"Strategy Games, Wargames\"}, {\"ID\": 175914.0, \"Name\": \"Food Chain Magnate\", \"Year Published\": 2015.0, \"Min Players\": 2, \"Max Players\": 5, \"Play Time\": 240, \"Min Age\": 14, \"Users Rated\": 13863, \"Rating Average\": \"8,14\", \"BGG Rank\": 29, \"Complexity Average\": \"4,20\", \"Owned Users\": 16413.0, \"Mechanics\": \"Card Drafting, Delayed Purchase, Income, Market, Modular Board, Network and Route Building, Simultaneous Action Selection\", \"Domains\": \"Strategy Games\"}, {\"ID\": 102794.0, \"Name\": \"Caverna: The Cave Farmers\", \"Year Published\": 2013.0, \"Min Players\": 1, \"Max Players\": 7, \"Play Time\": 210, \"Min Age\": 12, \"Users Rated\": 28123, \"Rating Average\": \"8,02\", \"BGG Rank\": 30, \"Complexity Average\": \"3,79\", \"Owned Users\": 35475.0, \"Mechanics\": \"Automatic Resource Growth, Increase Value of Unchosen Resources, Solo / Solitaire Game, Tile Placement, Turn Order: Claim Action, Worker Placement\", \"Domains\": \"Strategy Games\"}, {\"ID\": 205059.0, \"Name\": \"Mansions of Madness: Second Edition\", \"Year Published\": 2016.0, \"Min Players\": 1, \"Max Players\": 5, \"Play Time\": 180, \"Min Age\": 14, \"Users Rated\": 25116, \"Rating Average\": \"8,06\", \"BGG Rank\": 33, \"Complexity Average\": \"2,69\", \"Owned Users\": 39007.0, \"Mechanics\": \"Area Movement, Cooperative Game, Dice Rolling, Hand Management, Modular Board, Role Playing, Scenario / Mission / Campaign Game, Solo / Solitaire Game, Team-Based Game, Traitor Game, Variable Player Powers\", \"Domains\": \"Thematic Games\"}, {\"ID\": 180263.0, \"Name\": \"The 7th Continent\", \"Year Published\": 2017.0, \"Min Players\": 1, \"Max Players\": 4, \"Play Time\": 1000, \"Min Age\": 14, \"Users Rated\": 16868, \"Rating Average\": \"8,15\", \"BGG Rank\": 34, \"Complexity Average\": \"2,87\", \"Owned Users\": 30488.0, \"Mechanics\": \"Cooperative Game, Grid Movement, Hand Management, Map Addition, Modular Board, Scenario / Mission / Campaign Game, Solo / Solitaire Game, Storytelling, Variable Player Powers\", \"Domains\": \"Thematic Games\"}, {\"ID\": 221107.0, \"Name\": \"Pandemic Legacy: Season 2\", \"Year Published\": 2017.0, \"Min Players\": 2, \"Max Players\": 4, \"Play Time\": 60, \"Min Age\": 14, \"Users Rated\": 12100, \"Rating Average\": \"8,15\", \"BGG Rank\": 35, \"Complexity Average\": \"3,25\", \"Owned Users\": 24373.0, \"Mechanics\": \"Cooperative Game, Hand Management, Legacy Game, Pick-up and Deliver, Point to Point Movement, Set Collection, Trading, Variable Player Powers\", \"Domains\": \"Strategy Games, Thematic Games\"}, {\"ID\": 199792.0, \"Name\": \"Everdell\", \"Year Published\": 2018.0, \"Min Players\": 1, \"Max Players\": 4, \"Play Time\": 80, \"Min Age\": 13, \"Users Rated\": 19552, \"Rating Average\": \"8,08\", \"BGG Rank\": 36, \"Complexity Average\": \"2,81\", \"Owned Users\": 29225.0, \"Mechanics\": \"Card Drafting, End Game Bonuses, Hand Management, Income, Solo / Solitaire Game, Variable Set-up, Worker Placement\", \"Domains\": \"Family Games, Strategy Games\"}, {\"ID\": 276025.0, \"Name\": \"Maracaibo\", \"Year Published\": 2019.0, \"Min Players\": 1, \"Max Players\": 4, \"Play Time\": 120, \"Min Age\": 12, \"Users Rated\": 7645, \"Rating Average\": \"8,29\", \"BGG Rank\": 37, \"Complexity Average\": \"3,87\", \"Owned Users\": 12042.0, \"Mechanics\": \"Contracts, End Game Bonuses, Events, Hand Management, Income, Movement Points, Narrative Choice / Paragraph, Point to Point Movement, Race, Rondel, Scenario / Mission / Campaign Game, Set Collection, Solo / Solitaire Game, Stock Holding, Sudden Death Ending, Tech Trees / Tech Tracks, Track Movement, Variable Set-up\", \"Domains\": \"Strategy Games\"}, {\"ID\": 55690.0, \"Name\": \"Kingdom Death: Monster\", \"Year Published\": 2015.0, \"Min Players\": 1, \"Max Players\": 4, \"Play Time\": 180, \"Min Age\": 17, \"Users Rated\": 7553, \"Rating Average\": \"8,66\", \"BGG Rank\": 38, \"Complexity Average\": \"4,25\", \"Owned Users\": 10047.0, \"Mechanics\": \"Cooperative Game, Dice Rolling, Grid Movement, Role Playing, Solo / Solitaire Game, Storytelling\", \"Domains\": \"Thematic Games\"}, {\"ID\": 126163.0, \"Name\": \"Tzolk'in: The Mayan Calendar\", \"Year Published\": 2012.0, \"Min Players\": 2, \"Max Players\": 4, \"Play Time\": 90, \"Min Age\": 13, \"Users Rated\": 30790, \"Rating Average\": \"7,90\", \"BGG Rank\": 40, \"Complexity Average\": \"3,67\", \"Owned Users\": 35520.0, \"Mechanics\": \"Bias, End Game Bonuses, Turn Order: Claim Action, Worker Placement\", \"Domains\": \"Strategy Games\"}, {\"ID\": 284083.0, \"Name\": \"The Crew: The Quest for Planet Nine\", \"Year Published\": 2019.0, \"Min Players\": 2, \"Max Players\": 5, \"Play Time\": 20, \"Min Age\": 10, \"Users Rated\": 15027, \"Rating Average\": \"8,02\", \"BGG Rank\": 41, \"Complexity Average\": \"1,99\", \"Owned Users\": 31356.0, \"Mechanics\": \"Communication Limits, Cooperative Game, Hand Management, Scenario / Mission / Campaign Game, Trick-taking\", \"Domains\": \"Family Games, Strategy Games\"}, {\"ID\": 209010.0, \"Name\": \"Mechs vs. Minions\", \"Year Published\": 2016.0, \"Min Players\": 2, \"Max Players\": 4, \"Play Time\": 120, \"Min Age\": 14, \"Users Rated\": 14056, \"Rating Average\": \"8,05\", \"BGG Rank\": 42, \"Complexity Average\": \"2,41\", \"Owned Users\": 20196.0, \"Mechanics\": \"Action Queue, Bias, Card Drafting, Cooperative Game, Dice Rolling, Modular Board, Programmed Movement, Role Playing, Variable Player Powers\", \"Domains\": \"Strategy Games, Thematic Games\"}, {\"ID\": 247763.0, \"Name\": \"Underwater Cities\", \"Year Published\": 2018.0, \"Min Players\": 1, \"Max Players\": 4, \"Play Time\": 150, \"Min Age\": 12, \"Users Rated\": 9979, \"Rating Average\": \"8,13\", \"BGG Rank\": 43, \"Complexity Average\": \"3,58\", \"Owned Users\": 13474.0, \"Mechanics\": \"End Game Bonuses, Hand Management, Income, Network and Route Building, Solo / Solitaire Game, Turn Order: Stat-Based, Worker Placement\", \"Domains\": \"Strategy Games\"}, {\"ID\": 164153.0, \"Name\": \"Star Wars: Imperial Assault\", \"Year Published\": 2014.0, \"Min Players\": 1, \"Max Players\": 5, \"Play Time\": 120, \"Min Age\": 14, \"Users Rated\": 20512, \"Rating Average\": \"8,02\", \"BGG Rank\": 44, \"Complexity Average\": \"3,30\", \"Owned Users\": 35018.0, \"Mechanics\": \"Dice Rolling, Die Icon Resolution, Grid Movement, Line of Sight, Modular Board, Role Playing, Scenario / Mission / Campaign Game, Team-Based Game, Variable Player Powers\", \"Domains\": \"Thematic Games\"}, {\"ID\": 216132.0, \"Name\": \"Clans of Caledonia\", \"Year Published\": 2017.0, \"Min Players\": 1, \"Max Players\": 4, \"Play Time\": 120, \"Min Age\": 12, \"Users Rated\": 14835, \"Rating Average\": \"8,01\", \"BGG Rank\": 45, \"Complexity Average\": \"3,46\", \"Owned Users\": 17634.0, \"Mechanics\": \"Commodity Speculation, Contracts, Market, Modular Board, Network and Route Building, Solo / Solitaire Game, Turn Order: Pass Order, Variable Player Powers, Variable Set-up\", \"Domains\": \"Strategy Games\"}, {\"ID\": 185343.0, \"Name\": \"Anachrony\", \"Year Published\": 2017.0, \"Min Players\": 1, \"Max Players\": 4, \"Play Time\": 120, \"Min Age\": 15, \"Users Rated\": 11585, \"Rating Average\": \"8,10\", \"BGG Rank\": 46, \"Complexity Average\": \"4,00\", \"Owned Users\": 15513.0, \"Mechanics\": \"Dice Rolling, Solo / Solitaire Game, Tug of War, Turn Order: Claim Action, Variable Player Powers, Worker Placement, Worker Placement, Different Worker Types\", \"Domains\": \"Strategy Games\"}, {\"ID\": 192135.0, \"Name\": \"Too Many Bones\", \"Year Published\": 2017.0, \"Min Players\": 1, \"Max Players\": 4, \"Play Time\": 120, \"Min Age\": 12, \"Users Rated\": 6055, \"Rating Average\": \"8,45\", \"BGG Rank\": 48, \"Complexity Average\": \"3,85\", \"Owned Users\": 9087.0, \"Mechanics\": \"Cooperative Game, Deck Bag and Pool Building, Dice Rolling, Die Icon Resolution, Hand Management, Resource to Move, Role Playing, Roles with Asymmetric Information, Solo / Solitaire Game, Stat Check Resolution, Turn Order: Role Order, Variable Player Powers\", \"Domains\": \"Strategy Games, Thematic Games\"}, {\"ID\": 285774.0, \"Name\": \"Marvel Champions: The Card Game\", \"Year Published\": 2019.0, \"Min Players\": 1, \"Max Players\": 4, \"Play Time\": 90, \"Min Age\": 14, \"Users Rated\": 9616, \"Rating Average\": \"8,20\", \"BGG Rank\": 51, \"Complexity Average\": \"2,80\", \"Owned Users\": 16713.0, \"Mechanics\": \"Cooperative Game, Deck Construction, Hand Management, Scenario / Mission / Campaign Game, Solo / Solitaire Game, Variable Player Powers, Variable Set-up\", \"Domains\": \"Customizable Games\"}, {\"ID\": 72125.0, \"Name\": \"Eclipse\", \"Year Published\": 2011.0, \"Min Players\": 2, \"Max Players\": 6, \"Play Time\": 180, \"Min Age\": 14, \"Users Rated\": 26165, \"Rating Average\": \"7,89\", \"BGG Rank\": 52, \"Complexity Average\": \"3,70\", \"Owned Users\": 26710.0, \"Mechanics\": \"Area Majority / Influence, Dice Rolling, Grid Movement, Hexagon Grid, Map Addition, Modular Board, Player Elimination, Tile Placement, Variable Phase Order, Variable Player Powers\", \"Domains\": \"Strategy Games\"}, {\"ID\": 266507.0, \"Name\": \"Clank! Legacy: Acquisitions Incorporated\", \"Year Published\": 2019.0, \"Min Players\": 2, \"Max Players\": 4, \"Play Time\": 120, \"Min Age\": 13, \"Users Rated\": 3295, \"Rating Average\": \"8,79\", \"BGG Rank\": 53, \"Complexity Average\": \"2,70\", \"Owned Users\": 7209.0, \"Mechanics\": \"Card Drafting, Deck Bag and Pool Building, Legacy Game, Once-Per-Game Abilities, Point to Point Movement, Push Your Luck\", \"Domains\": \"Thematic Games\"}, {\"ID\": 171623.0, \"Name\": \"The Voyages of Marco Polo\", \"Year Published\": 2015.0, \"Min Players\": 2, \"Max Players\": 4, \"Play Time\": 100, \"Min Age\": 12, \"Users Rated\": 20240, \"Rating Average\": \"7,87\", \"BGG Rank\": 56, \"Complexity Average\": \"3,19\", \"Owned Users\": 22601.0, \"Mechanics\": \"Contracts, Dice Rolling, Income, Point to Point Movement, Resource to Move, Set Collection, Turn Order: Claim Action, Variable Player Powers, Variable Set-up, Worker Placement with Dice Workers\", \"Domains\": \"Strategy Games\"}, {\"ID\": 125153.0, \"Name\": \"The Gallerist\", \"Year Published\": 2015.0, \"Min Players\": 1, \"Max Players\": 4, \"Play Time\": 150, \"Min Age\": 13, \"Users Rated\": 9705, \"Rating Average\": \"8,04\", \"BGG Rank\": 57, \"Complexity Average\": \"4,28\", \"Owned Users\": 13057.0, \"Mechanics\": \"Commodity Speculation, Investment, Set Collection, Solo / Solitaire Game, Worker Placement\", \"Domains\": \"Strategy Games\"}, {\"ID\": 251247.0, \"Name\": \"Barrage\", \"Year Published\": 2019.0, \"Min Players\": 1, \"Max Players\": 4, \"Play Time\": 120, \"Min Age\": 14, \"Users Rated\": 6500, \"Rating Average\": \"8,22\", \"BGG Rank\": 58, \"Complexity Average\": \"4,02\", \"Owned Users\": 8963.0, \"Mechanics\": \"Action Drafting, Contracts, End Game Bonuses, Income, Network and Route Building, Solo / Solitaire Game, Turn Order: Stat-Based, Variable Player Powers, Variable Set-up, Worker Placement\", \"Domains\": \"Strategy Games\"}, {\"ID\": 159675.0, \"Name\": \"Fields of Arle\", \"Year Published\": 2014.0, \"Min Players\": 1, \"Max Players\": 2, \"Play Time\": 120, \"Min Age\": 13, \"Users Rated\": 8111, \"Rating Average\": \"8,09\", \"BGG Rank\": 60, \"Complexity Average\": \"3,88\", \"Owned Users\": 12561.0, \"Mechanics\": \"Automatic Resource Growth, Highest-Lowest Scoring, Income, Solo / Solitaire Game, Worker Placement\", \"Domains\": \"Strategy Games\"}, {\"ID\": 229853.0, \"Name\": \"Teotihuacan: City of Gods\", \"Year Published\": 2018.0, \"Min Players\": 1, \"Max Players\": 4, \"Play Time\": 120, \"Min Age\": 14, \"Users Rated\": 12970, \"Rating Average\": \"7,95\", \"BGG Rank\": 62, \"Complexity Average\": \"3,77\", \"Owned Users\": 18082.0, \"Mechanics\": \"Area Movement, Rondel, Set Collection, Solo / Solitaire Game, Tile Placement, Track Movement, Variable Set-up, Worker Placement, Worker Placement with Dice Workers\", \"Domains\": \"Strategy Games\"}, {\"ID\": 201808.0, \"Name\": \"Clank!: A Deck-Building Adventure\", \"Year Published\": 2016.0, \"Min Players\": 2, \"Max Players\": 4, \"Play Time\": 60, \"Min Age\": 12, \"Users Rated\": 27893, \"Rating Average\": \"7,81\", \"BGG Rank\": 63, \"Complexity Average\": \"2,21\", \"Owned Users\": 36265.0, \"Mechanics\": \"Card Drafting, Deck Bag and Pool Building, Drafting, End Game Bonuses, Pick-up and Deliver, Player Elimination, Point to Point Movement, Push Your Luck, Variable Set-up\", \"Domains\": \"Family Games, Strategy Games\"}, {\"ID\": 244521.0, \"Name\": \"The Quacks of Quedlinburg\", \"Year Published\": 2018.0, \"Min Players\": 2, \"Max Players\": 4, \"Play Time\": 45, \"Min Age\": 10, \"Users Rated\": 22327, \"Rating Average\": \"7,82\", \"BGG Rank\": 64, \"Complexity Average\": \"1,94\", \"Owned Users\": 34053.0, \"Mechanics\": \"Catch the Leader, Deck Bag and Pool Building, Dice Rolling, Push Your Luck, Variable Set-up\", \"Domains\": \"Family Games\"}, {\"ID\": 62219.0, \"Name\": \"Dominant Species\", \"Year Published\": 2010.0, \"Min Players\": 2, \"Max Players\": 6, \"Play Time\": 240, \"Min Age\": 14, \"Users Rated\": 18018, \"Rating Average\": \"7,85\", \"BGG Rank\": 67, \"Complexity Average\": \"4,04\", \"Owned Users\": 19494.0, \"Mechanics\": \"Area Majority / Influence, Card Drafting, Grid Movement, Hexagon Grid, Map Addition, Modular Board, Take That, Tile Placement, Variable Player Powers, Worker Placement\", \"Domains\": \"Strategy Games\"}, {\"ID\": 184267.0, \"Name\": \"On Mars\", \"Year Published\": 2020.0, \"Min Players\": 1, \"Max Players\": 4, \"Play Time\": 150, \"Min Age\": 14, \"Users Rated\": 5781, \"Rating Average\": \"8,30\", \"BGG Rank\": 68, \"Complexity Average\": \"4,63\", \"Owned Users\": 10719.0, \"Mechanics\": \"Area Majority / Influence, Contracts, Delayed Purchase, Drafting, End Game Bonuses, Hand Management, Hexagon Grid, Income, Movement Points, Moving Multiple Units, Point to Point Movement, Set Collection, Solo / Solitaire Game, Tech Trees / Tech Tracks, Tile Placement, Variable Phase Order, Worker Placement\", \"Domains\": \"Strategy Games\"}, {\"ID\": 161533.0, \"Name\": \"Lisboa\", \"Year Published\": 2017.0, \"Min Players\": 1, \"Max Players\": 4, \"Play Time\": 120, \"Min Age\": 12, \"Users Rated\": 6693, \"Rating Average\": \"8,18\", \"BGG Rank\": 69, \"Complexity Average\": \"4,57\", \"Owned Users\": 10212.0, \"Mechanics\": \"Area Majority / Influence, Card Drafting, Hand Management, Solo / Solitaire Game, Tile Placement\", \"Domains\": \"Strategy Games\"}, {\"ID\": 191189.0, \"Name\": \"Aeon's End\", \"Year Published\": 2016.0, \"Min Players\": 1, \"Max Players\": 4, \"Play Time\": 60, \"Min Age\": 14, \"Users Rated\": 10899, \"Rating Average\": \"8,02\", \"BGG Rank\": 70, \"Complexity Average\": \"2,76\", \"Owned Users\": 16345.0, \"Mechanics\": \"Card Drafting, Cooperative Game, Deck Bag and Pool Building, Delayed Purchase, Hand Management, Solo / Solitaire Game, Variable Phase Order, Variable Player Powers, Variable Set-up\", \"Domains\": \"Strategy Games\"}, {\"ID\": 266810.0, \"Name\": \"Paladins of the West Kingdom\", \"Year Published\": 2019.0, \"Min Players\": 1, \"Max Players\": 4, \"Play Time\": 120, \"Min Age\": 12, \"Users Rated\": 8248, \"Rating Average\": \"8,07\", \"BGG Rank\": 72, \"Complexity Average\": \"3,67\", \"Owned Users\": 15192.0, \"Mechanics\": \"Card Drafting, Market, Solo / Solitaire Game, Worker Placement, Worker Placement, Different Worker Types\", \"Domains\": \"Strategy Games\"}, {\"ID\": 122515.0, \"Name\": \"Keyflower\", \"Year Published\": 2012.0, \"Min Players\": 2, \"Max Players\": 6, \"Play Time\": 120, \"Min Age\": 12, \"Users Rated\": 19003, \"Rating Average\": \"7,80\", \"BGG Rank\": 73, \"Complexity Average\": \"3,35\", \"Owned Users\": 22067.0, \"Mechanics\": \"Auction/Bidding, Auction: Fixed Placement, Constrained Bidding, End Game Bonuses, Hexagon Grid, Memory, Modular Board, Multiple-Lot Auction, Network and Route Building, Ownership, Set Collection, Tile Placement, Turn Order: Auction, Worker Placement, Worker Placement, Different Worker Types\", \"Domains\": \"Strategy Games\"}, {\"ID\": 200680.0, \"Name\": \"Agricola (Revised Edition)\", \"Year Published\": 2016.0, \"Min Players\": 1, \"Max Players\": 4, \"Play Time\": 120, \"Min Age\": 12, \"Users Rated\": 9491, \"Rating Average\": \"8,04\", \"BGG Rank\": 74, \"Complexity Average\": \"3,50\", \"Owned Users\": 13144.0, \"Mechanics\": \"Card Drafting, Enclosure, Hand Management, Worker Placement, Advantage Token, Automatic Resource Growth, Increase Value of Unchosen Resources, Solo / Solitaire Game, Team-Based Game, Turn Order: Claim Action, Variable Player Powers\", \"Domains\": \"Strategy Games\"}, {\"ID\": 256960.0, \"Name\": \"Pax Pamir: Second Edition\", \"Year Published\": 2019.0, \"Min Players\": 1, \"Max Players\": 5, \"Play Time\": 120, \"Min Age\": 13, \"Users Rated\": 4373, \"Rating Average\": \"8,43\", \"BGG Rank\": 75, \"Complexity Average\": \"3,75\", \"Owned Users\": 8538.0, \"Mechanics\": \"Action Points, Area Majority / Influence, Area Movement, Card Drafting, Hand Management, Increase Value of Unchosen Resources, Score-and-Reset Game, Simulation, Solo / Solitaire Game\", \"Domains\": \"Strategy Games\"}, {\"ID\": 264220.0, \"Name\": \"Tainted Grail: The Fall of Avalon\", \"Year Published\": 2019.0, \"Min Players\": 1, \"Max Players\": 4, \"Play Time\": 120, \"Min Age\": 14, \"Users Rated\": 6134, \"Rating Average\": \"8,41\", \"BGG Rank\": 76, \"Complexity Average\": \"3,28\", \"Owned Users\": 12918.0, \"Mechanics\": \"Area Movement, Campaign / Battle Card Driven, Cooperative Game, Deck Bag and Pool Building, Dice Rolling, Hand Management, Map Addition, Modular Board, Narrative Choice / Paragraph, Push Your Luck, Role Playing, Solo / Solitaire Game, Storytelling, Variable Player Powers\", \"Domains\": \"Thematic Games\"}, {\"ID\": 236457.0, \"Name\": \"Architects of the West Kingdom\", \"Year Published\": 2018.0, \"Min Players\": 1, \"Max Players\": 5, \"Play Time\": 80, \"Min Age\": 12, \"Users Rated\": 16886, \"Rating Average\": \"7,83\", \"BGG Rank\": 78, \"Complexity Average\": \"2,77\", \"Owned Users\": 24145.0, \"Mechanics\": \"Drafting, Solo / Solitaire Game, Variable Player Powers, Worker Placement\", \"Domains\": \"Strategy Games\"}, {\"ID\": 73439.0, \"Name\": \"Troyes\", \"Year Published\": 2010.0, \"Min Players\": 2, \"Max Players\": 4, \"Play Time\": 90, \"Min Age\": 12, \"Users Rated\": 18930, \"Rating Average\": \"7,76\", \"BGG Rank\": 83, \"Complexity Average\": \"3,46\", \"Owned Users\": 21299.0, \"Mechanics\": \"Area Majority / Influence, Dice Rolling, End Game Bonuses, Hidden Victory Points, Lose a Turn, Ownership, Set Collection, Solo / Solitaire Game, Turn Order: Progressive, Worker Placement, Worker Placement with Dice Workers, Worker Placement, Different Worker Types\", \"Domains\": \"Strategy Games\"}, {\"ID\": 205896.0, \"Name\": \"Rising Sun\", \"Year Published\": 2018.0, \"Min Players\": 3, \"Max Players\": 5, \"Play Time\": 120, \"Min Age\": 14, \"Users Rated\": 15767, \"Rating Average\": \"7,88\", \"BGG Rank\": 84, \"Complexity Average\": \"3,28\", \"Owned Users\": 20763.0, \"Mechanics\": \"Action Drafting, Alliances, Area Majority / Influence, Area Movement, Auction: Sealed Bid, Betting and Bluffing, Drafting, End Game Bonuses, Follow, Force Commitment, Negotiation, Set Collection, Simultaneous Action Selection, Take That, Variable Phase Order, Variable Player Powers, Variable Set-up\", \"Domains\": \"Strategy Games\"}, {\"ID\": 172386.0, \"Name\": \"Mombasa\", \"Year Published\": 2015.0, \"Min Players\": 2, \"Max Players\": 4, \"Play Time\": 150, \"Min Age\": 12, \"Users Rated\": 10954, \"Rating Average\": \"7,88\", \"BGG Rank\": 86, \"Complexity Average\": \"3,90\", \"Owned Users\": 13057.0, \"Mechanics\": \"Action Queue, Area Majority / Influence, Card Drafting, Deck Bag and Pool Building, Hand Management, Investment, Simultaneous Action Selection, Stock Holding, Variable Player Powers, Worker Placement\", \"Domains\": \"Strategy Games\"}, {\"ID\": 182874.0, \"Name\": \"Grand Austria Hotel\", \"Year Published\": 2015.0, \"Min Players\": 2, \"Max Players\": 4, \"Play Time\": 120, \"Min Age\": 12, \"Users Rated\": 12604, \"Rating Average\": \"7,85\", \"BGG Rank\": 87, \"Complexity Average\": \"3,22\", \"Owned Users\": 15014.0, \"Mechanics\": \"Action Drafting, Contracts, Dice Rolling, End Game Bonuses, Hand Management, Once-Per-Game Abilities, Set Collection, Variable Player Powers, Variable Set-up\", \"Domains\": \"Strategy Games\"}, {\"ID\": 269385.0, \"Name\": \"The Lord of the Rings: Journeys in Middle-Earth\", \"Year Published\": 2019.0, \"Min Players\": 1, \"Max Players\": 5, \"Play Time\": 120, \"Min Age\": 14, \"Users Rated\": 8822, \"Rating Average\": \"8,08\", \"BGG Rank\": 88, \"Complexity Average\": \"2,57\", \"Owned Users\": 15716.0, \"Mechanics\": \"Cooperative Game, Deck Bag and Pool Building, Modular Board, Role Playing, Scenario / Mission / Campaign Game, Solo / Solitaire Game, Variable Player Powers\", \"Domains\": \"Thematic Games\"}, {\"ID\": 170042.0, \"Name\": \"Raiders of the North Sea\", \"Year Published\": 2015.0, \"Min Players\": 2, \"Max Players\": 4, \"Play Time\": 80, \"Min Age\": 12, \"Users Rated\": 15990, \"Rating Average\": \"7,79\", \"BGG Rank\": 90, \"Complexity Average\": \"2,53\", \"Owned Users\": 21145.0, \"Mechanics\": \"Dice Rolling, Hand Management, Set Collection, Worker Placement, Worker Placement, Different Worker Types\", \"Domains\": \"Strategy Games\"}, {\"ID\": 144733.0, \"Name\": \"Russian Railroads\", \"Year Published\": 2013.0, \"Min Players\": 2, \"Max Players\": 4, \"Play Time\": 120, \"Min Age\": 12, \"Users Rated\": 14845, \"Rating Average\": \"7,77\", \"BGG Rank\": 91, \"Complexity Average\": \"3,41\", \"Owned Users\": 14737.0, \"Mechanics\": \"End Game Bonuses, Worker Placement\", \"Domains\": \"Strategy Games\"}, {\"ID\": 132531.0, \"Name\": \"Roll for the Galaxy\", \"Year Published\": 2014.0, \"Min Players\": 2, \"Max Players\": 5, \"Play Time\": 45, \"Min Age\": 13, \"Users Rated\": 26421, \"Rating Average\": \"7,67\", \"BGG Rank\": 94, \"Complexity Average\": \"2,77\", \"Owned Users\": 32192.0, \"Mechanics\": \"Action Retrieval, Contracts, Dice Rolling, Follow, Simultaneous Action Selection, Variable Phase Order, Variable Player Powers\", \"Domains\": \"Strategy Games\"}, {\"ID\": 102680.0, \"Name\": \"Trajan\", \"Year Published\": 2011.0, \"Min Players\": 2, \"Max Players\": 4, \"Play Time\": 120, \"Min Age\": 12, \"Users Rated\": 14728, \"Rating Average\": \"7,76\", \"BGG Rank\": 95, \"Complexity Average\": \"3,65\", \"Owned Users\": 17181.0, \"Mechanics\": \"Area Movement, Card Drafting, Hand Management, Mancala, Rondel, Set Collection\", \"Domains\": \"Strategy Games\"}, {\"ID\": 203993.0, \"Name\": \"Lorenzo il Magnifico\", \"Year Published\": 2016.0, \"Min Players\": 2, \"Max Players\": 4, \"Play Time\": 120, \"Min Age\": 12, \"Users Rated\": 9140, \"Rating Average\": \"7,89\", \"BGG Rank\": 96, \"Complexity Average\": \"3,28\", \"Owned Users\": 11494.0, \"Mechanics\": \"Card Drafting, Dice Rolling, Variable Player Powers, Worker Placement, Worker Placement with Dice Workers\", \"Domains\": \"Strategy Games\"}, {\"ID\": 198928.0, \"Name\": \"Pandemic: Iberia\", \"Year Published\": 2016.0, \"Min Players\": 2, \"Max Players\": 5, \"Play Time\": 45, \"Min Age\": 8, \"Users Rated\": 8359, \"Rating Average\": \"7,92\", \"BGG Rank\": 100, \"Complexity Average\": \"2,58\", \"Owned Users\": 14808.0, \"Mechanics\": \"Action Points, Cooperative Game, Hand Management, Point to Point Movement, Set Collection, Solo / Solitaire Game, Trading, Variable Player Powers\", \"Domains\": \"Strategy Games\"}, {\"ID\": 172287.0, \"Name\": \"Champions of Midgard\", \"Year Published\": 2015.0, \"Min Players\": 2, \"Max Players\": 4, \"Play Time\": 90, \"Min Age\": 10, \"Users Rated\": 13345, \"Rating Average\": \"7,77\", \"BGG Rank\": 101, \"Complexity Average\": \"2,59\", \"Owned Users\": 19380.0, \"Mechanics\": \"Dice Rolling, Set Collection, Variable Player Powers, Worker Placement\", \"Domains\": \"Strategy Games\"}, {\"ID\": 225694.0, \"Name\": \"Decrypto\", \"Year Published\": 2018.0, \"Min Players\": 3, \"Max Players\": 8, \"Play Time\": 45, \"Min Age\": 12, \"Users Rated\": 11690, \"Rating Average\": \"7,79\", \"BGG Rank\": 102, \"Complexity Average\": \"1,83\", \"Owned Users\": 18890.0, \"Mechanics\": \"Communication Limits, Targeted Clues, Team-Based Game\", \"Domains\": \"Party Games\"}, {\"ID\": 127023.0, \"Name\": \"Kemet\", \"Year Published\": 2012.0, \"Min Players\": 2, \"Max Players\": 5, \"Play Time\": 120, \"Min Age\": 13, \"Users Rated\": 16277, \"Rating Average\": \"7,72\", \"BGG Rank\": 103, \"Complexity Average\": \"3,01\", \"Owned Users\": 18747.0, \"Mechanics\": \"Action Points, Area Majority / Influence, Area Movement, Card Drafting, Card Play Conflict Resolution, Hand Management\", \"Domains\": \"Strategy Games\"}, {\"ID\": 196340.0, \"Name\": \"Yokohama\", \"Year Published\": 2016.0, \"Min Players\": 2, \"Max Players\": 4, \"Play Time\": 90, \"Min Age\": 14, \"Users Rated\": 8865, \"Rating Average\": \"7,85\", \"BGG Rank\": 104, \"Complexity Average\": \"3,27\", \"Owned Users\": 12088.0, \"Mechanics\": \"Contracts, End Game Bonuses, Grid Movement, Modular Board, Network and Route Building, Set Collection, Variable Set-up, Worker Placement, Worker Placement, Different Worker Types\", \"Domains\": \"Strategy Games\"}, {\"ID\": 233371.0, \"Name\": \"Clank! In! Space!: A Deck-Building Adventure\", \"Year Published\": 2017.0, \"Min Players\": 2, \"Max Players\": 4, \"Play Time\": 90, \"Min Age\": 12, \"Users Rated\": 9188, \"Rating Average\": \"7,86\", \"BGG Rank\": 105, \"Complexity Average\": \"2,54\", \"Owned Users\": 13715.0, \"Mechanics\": \"Card Drafting, Deck Bag and Pool Building, Modular Board, Pick-up and Deliver, Player Elimination, Point to Point Movement, Push Your Luck\", \"Domains\": \"Strategy Games\"}, {\"ID\": 175155.0, \"Name\": \"Forbidden Stars\", \"Year Published\": 2015.0, \"Min Players\": 2, \"Max Players\": 4, \"Play Time\": 180, \"Min Age\": 14, \"Users Rated\": 7516, \"Rating Average\": \"7,97\", \"BGG Rank\": 106, \"Complexity Average\": \"3,83\", \"Owned Users\": 11900.0, \"Mechanics\": \"Area Majority / Influence, Area Movement, Card Play Conflict Resolution, Dice Rolling, Hand Management, Modular Board, Order Counters, Variable Player Powers\", \"Domains\": \"Strategy Games\"}, {\"ID\": 155821.0, \"Name\": \"Inis\", \"Year Published\": 2016.0, \"Min Players\": 2, \"Max Players\": 4, \"Play Time\": 90, \"Min Age\": 14, \"Users Rated\": 12665, \"Rating Average\": \"7,80\", \"BGG Rank\": 107, \"Complexity Average\": \"2,88\", \"Owned Users\": 16477.0, \"Mechanics\": \"Action Drafting, Area Majority / Influence, Area Movement, Campaign / Battle Card Driven, Card Drafting, Hand Management, King of the Hill, Map Addition, Modular Board, Variable Phase Order, Variable Set-up\", \"Domains\": \"Strategy Games\"}, {\"ID\": 281259.0, \"Name\": \"The Isle of Cats\", \"Year Published\": 2019.0, \"Min Players\": 1, \"Max Players\": 4, \"Play Time\": 90, \"Min Age\": 8, \"Users Rated\": 6450, \"Rating Average\": \"8,04\", \"BGG Rank\": 108, \"Complexity Average\": \"2,32\", \"Owned Users\": 12360.0, \"Mechanics\": \"Card Drafting, Drafting, Grid Coverage, Hidden Victory Points, Income, Pattern Building, Set Collection, Solo / Solitaire Game, Square Grid, Tile Placement, Turn Order: Stat-Based\", \"Domains\": \"Family Games, Strategy Games\"}, {\"ID\": 103885.0, \"Name\": \"Star Wars: X-Wing Miniatures Game\", \"Year Published\": 2012.0, \"Min Players\": 2, \"Max Players\": 2, \"Play Time\": 45, \"Min Age\": 14, \"Users Rated\": 23061, \"Rating Average\": \"7,69\", \"BGG Rank\": 109, \"Complexity Average\": \"2,49\", \"Owned Users\": 38018.0, \"Mechanics\": \"Action Queue, Critical Hits and Failures, Dice Rolling, Movement Template, Player Elimination, Simulation, Simultaneous Action Selection, Variable Player Powers\", \"Domains\": \"Customizable Games, Wargames\"}, {\"ID\": 161970.0, \"Name\": \"Alchemists\", \"Year Published\": 2014.0, \"Min Players\": 2, \"Max Players\": 4, \"Play Time\": 120, \"Min Age\": 13, \"Users Rated\": 18250, \"Rating Average\": \"7,67\", \"BGG Rank\": 110, \"Complexity Average\": \"3,90\", \"Owned Users\": 23577.0, \"Mechanics\": \"Action Drafting, Card Drafting, Constrained Bidding, End Game Bonuses, Events, Hand Management, Turn Order: Progressive\", \"Domains\": \"Strategy Games\"}, {\"ID\": 146652.0, \"Name\": \"Legendary Encounters: An Alien Deck Building Game\", \"Year Published\": 2014.0, \"Min Players\": 1, \"Max Players\": 5, \"Play Time\": 60, \"Min Age\": 17, \"Users Rated\": 11251, \"Rating Average\": \"7,79\", \"BGG Rank\": 112, \"Complexity Average\": \"2,70\", \"Owned Users\": 16119.0, \"Mechanics\": \"Card Drafting, Cooperative Game, Deck Bag and Pool Building, Events, Hidden Roles, Player Elimination, Solo / Solitaire Game, Team-Based Game, Variable Player Powers\", \"Domains\": \"Thematic Games\"}, {\"ID\": 175640.0, \"Name\": \"Vinhos Deluxe Edition\", \"Year Published\": 2016.0, \"Min Players\": 1, \"Max Players\": 4, \"Play Time\": 135, \"Min Age\": 14, \"Users Rated\": 4245, \"Rating Average\": \"8,21\", \"BGG Rank\": 113, \"Complexity Average\": \"4,05\", \"Owned Users\": 7957.0, \"Mechanics\": \"Area Majority / Influence, Variable Phase Order, Worker Placement\", \"Domains\": \"Strategy Games\"}, {\"ID\": 233398.0, \"Name\": \"Endeavor: Age of Sail\", \"Year Published\": 2018.0, \"Min Players\": 2, \"Max Players\": 5, \"Play Time\": 90, \"Min Age\": 13, \"Users Rated\": 6265, \"Rating Average\": \"8,02\", \"BGG Rank\": 114, \"Complexity Average\": \"2,80\", \"Owned Users\": 8879.0, \"Mechanics\": \"Area Majority / Influence, Card Drafting, Point to Point Movement, Set Collection, Tech Trees / Tech Tracks\", \"Domains\": \"Strategy Games\"}, {\"ID\": 104162.0, \"Name\": \"Descent: Journeys in the Dark (Second Edition)\", \"Year Published\": 2012.0, \"Min Players\": 1, \"Max Players\": 5, \"Play Time\": 120, \"Min Age\": 14, \"Users Rated\": 22715, \"Rating Average\": \"7,69\", \"BGG Rank\": 116, \"Complexity Average\": \"3,20\", \"Owned Users\": 35659.0, \"Mechanics\": \"Action Points, Cooperative Game, Dice Rolling, Grid Movement, Hand Management, Line of Sight, Modular Board, Movement Points, Multiple Maps, Scenario / Mission / Campaign Game, Team-Based Game, Variable Player Powers\", \"Domains\": \"Thematic Games\"}, {\"ID\": 263918.0, \"Name\": \"Cartographers\", \"Year Published\": 2019.0, \"Min Players\": 1, \"Max Players\": 100, \"Play Time\": 45, \"Min Age\": 10, \"Users Rated\": 10754, \"Rating Average\": \"7,76\", \"BGG Rank\": 117, \"Complexity Average\": \"1,91\", \"Owned Users\": 19320.0, \"Mechanics\": \"Bingo, Grid Coverage, Line Drawing, Paper-and-Pencil, Solo / Solitaire Game\", \"Domains\": \"Family Games\"}, {\"ID\": 262712.0, \"Name\": \"Res Arcana\", \"Year Published\": 2019.0, \"Min Players\": 2, \"Max Players\": 4, \"Play Time\": 60, \"Min Age\": 12, \"Users Rated\": 9719, \"Rating Average\": \"7,80\", \"BGG Rank\": 118, \"Complexity Average\": \"2,59\", \"Owned Users\": 13790.0, \"Mechanics\": \"Card Drafting, Hand Management, Race, Take That, Turn Order: Pass Order, Variable Player Powers\", \"Domains\": \"Strategy Games\"}, {\"ID\": 148949.0, \"Name\": \"Istanbul\", \"Year Published\": 2014.0, \"Min Players\": 2, \"Max Players\": 5, \"Play Time\": 60, \"Min Age\": 10, \"Users Rated\": 25234, \"Rating Average\": \"7,58\", \"BGG Rank\": 120, \"Complexity Average\": \"2,58\", \"Owned Users\": 30353.0, \"Mechanics\": \"Contracts, Dice Rolling, Grid Movement, Modular Board, Network and Route Building, Pick-up and Deliver, Race, Variable Set-up, Worker Placement\", \"Domains\": \"Strategy Games\"}, {\"ID\": 118048.0, \"Name\": \"Targi\", \"Year Published\": 2012.0, \"Min Players\": 2, \"Max Players\": 2, \"Play Time\": 60, \"Min Age\": 12, \"Users Rated\": 14592, \"Rating Average\": \"7,64\", \"BGG Rank\": 123, \"Complexity Average\": \"2,35\", \"Owned Users\": 22524.0, \"Mechanics\": \"End Game Bonuses, Modular Board, Set Collection, Turn Order: Progressive, Worker Placement\", \"Domains\": \"Strategy Games\"}, {\"ID\": 233867.0, \"Name\": \"Welcome To...\", \"Year Published\": 2018.0, \"Min Players\": 1, \"Max Players\": 100, \"Play Time\": 25, \"Min Age\": 10, \"Users Rated\": 17370, \"Rating Average\": \"7,61\", \"BGG Rank\": 126, \"Complexity Average\": \"1,82\", \"Owned Users\": 27392.0, \"Mechanics\": \"Bingo, Paper-and-Pencil, Pattern Building, Solo / Solitaire Game\", \"Domains\": \"Family Games\"}, {\"ID\": 244522.0, \"Name\": \"That's Pretty Clever!\", \"Year Published\": 2018.0, \"Min Players\": 1, \"Max Players\": 4, \"Play Time\": 30, \"Min Age\": 8, \"Users Rated\": 14352, \"Rating Average\": \"7,64\", \"BGG Rank\": 127, \"Complexity Average\": \"1,89\", \"Owned Users\": 21684.0, \"Mechanics\": \"Dice Rolling, Drafting, Highest-Lowest Scoring, Paper-and-Pencil, Re-rolling and Locking, Solo / Solitaire Game\", \"Domains\": \"Family Games\"}, {\"ID\": 163068.0, \"Name\": \"Trickerion: Legends of Illusion\", \"Year Published\": 2015.0, \"Min Players\": 2, \"Max Players\": 4, \"Play Time\": 180, \"Min Age\": 14, \"Users Rated\": 6665, \"Rating Average\": \"7,89\", \"BGG Rank\": 128, \"Complexity Average\": \"4,20\", \"Owned Users\": 9928.0, \"Mechanics\": \"Action Points, Action Queue, Catch the Leader, Dice Rolling, Simultaneous Action Selection, Tile Placement, Turn Order: Stat-Based, Worker Placement\", \"Domains\": \"Strategy Games\"}, {\"ID\": 77423.0, \"Name\": \"The Lord of the Rings: The Card Game\", \"Year Published\": 2011.0, \"Min Players\": 1, \"Max Players\": 2, \"Play Time\": 60, \"Min Age\": 13, \"Users Rated\": 20805, \"Rating Average\": \"7,65\", \"BGG Rank\": 129, \"Complexity Average\": \"3,17\", \"Owned Users\": 32244.0, \"Mechanics\": \"Cooperative Game, Deck Construction, Events, Hand Management, Scenario / Mission / Campaign Game, Solo / Solitaire Game, Variable Set-up\", \"Domains\": \"Customizable Games\"}, {\"ID\": 128882.0, \"Name\": \"The Resistance: Avalon\", \"Year Published\": 2012.0, \"Min Players\": 5, \"Max Players\": 10, \"Play Time\": 30, \"Min Age\": 13, \"Users Rated\": 27134, \"Rating Average\": \"7,58\", \"BGG Rank\": 131, \"Complexity Average\": \"1,77\", \"Owned Users\": 38202.0, \"Mechanics\": \"Hidden Roles, Roles with Asymmetric Information, Simultaneous Action Selection, Team-Based Game, Traitor Game, Variable Player Powers, Voting\", \"Domains\": \"Party Games\"}, {\"ID\": 218417.0, \"Name\": \"Aeon's End: War Eternal\", \"Year Published\": 2017.0, \"Min Players\": 1, \"Max Players\": 4, \"Play Time\": 60, \"Min Age\": 14, \"Users Rated\": 3191, \"Rating Average\": \"8,41\", \"BGG Rank\": 132, \"Complexity Average\": \"2,91\", \"Owned Users\": 7541.0, \"Mechanics\": \"Card Drafting, Cooperative Game, Deck Bag and Pool Building, Hand Management, Variable Phase Order, Variable Player Powers\", \"Domains\": \"Strategy Games\"}, {\"ID\": 221194.0, \"Name\": \"Dinosaur Island\", \"Year Published\": 2017.0, \"Min Players\": 1, \"Max Players\": 4, \"Play Time\": 120, \"Min Age\": 8, \"Users Rated\": 11559, \"Rating Average\": \"7,72\", \"BGG Rank\": 133, \"Complexity Average\": \"3,04\", \"Owned Users\": 19263.0, \"Mechanics\": \"Action Points, Dice Rolling, Income, Set Collection, Tile Placement, Worker Placement\", \"Domains\": \"Strategy Games\"}, {\"ID\": 266524.0, \"Name\": \"PARKS\", \"Year Published\": 2019.0, \"Min Players\": 1, \"Max Players\": 5, \"Play Time\": 60, \"Min Age\": 10, \"Users Rated\": 7275, \"Rating Average\": \"7,89\", \"BGG Rank\": 134, \"Complexity Average\": \"2,17\", \"Owned Users\": 14285.0, \"Mechanics\": \"Card Drafting, Contracts, Modular Board, Set Collection, Solo / Solitaire Game, Track Movement, Turn Order: Claim Action, Worker Placement\", \"Domains\": \"Family Games\"}, {\"ID\": 103343.0, \"Name\": \"A Game of Thrones: The Board Game (Second Edition)\", \"Year Published\": 2011.0, \"Min Players\": 3, \"Max Players\": 6, \"Play Time\": 240, \"Min Age\": 14, \"Users Rated\": 28650, \"Rating Average\": \"7,60\", \"BGG Rank\": 135, \"Complexity Average\": \"3,72\", \"Owned Users\": 38623.0, \"Mechanics\": \"Area Majority / Influence, Area Movement, Auction/Bidding, Auction: Sealed Bid, Card Play Conflict Resolution, Hand Management, Order Counters, Player Elimination, Prisoner's Dilemma, Simultaneous Action Selection, Variable Player Powers\", \"Domains\": \"Strategy Games\"}, {\"ID\": 155426.0, \"Name\": \"Castles of Mad King Ludwig\", \"Year Published\": 2014.0, \"Min Players\": 1, \"Max Players\": 4, \"Play Time\": 90, \"Min Age\": 13, \"Users Rated\": 22125, \"Rating Average\": \"7,56\", \"BGG Rank\": 136, \"Complexity Average\": \"2,66\", \"Owned Users\": 28039.0, \"Mechanics\": \"Card Drafting, End Game Bonuses, I Cut You Choose, Increase Value of Unchosen Resources, Pattern Building, Set Collection, Tile Placement, Turn Order: Progressive\", \"Domains\": \"Strategy Games\"}, {\"ID\": 246900.0, \"Name\": \"Eclipse: Second Dawn for the Galaxy\", \"Year Published\": 2020.0, \"Min Players\": 2, \"Max Players\": 6, \"Play Time\": 200, \"Min Age\": 14, \"Users Rated\": 2556, \"Rating Average\": \"8,80\", \"BGG Rank\": 137, \"Complexity Average\": \"3,48\", \"Owned Users\": 5256.0, \"Mechanics\": \"Alliances, Area Majority / Influence, Area Movement, Area-Impulse, Critical Hits and Failures, Dice Rolling, Grid Movement, Income, Kill Steal, Modular Board, Passed Action Token, Player Elimination, Tile Placement, Variable Player Powers\", \"Domains\": \"Strategy Games\"}, {\"ID\": 70149.0, \"Name\": \"Ora et Labora\", \"Year Published\": 2011.0, \"Min Players\": 1, \"Max Players\": 4, \"Play Time\": 180, \"Min Age\": 13, \"Users Rated\": 9770, \"Rating Average\": \"7,71\", \"BGG Rank\": 141, \"Complexity Average\": \"3,90\", \"Owned Users\": 12289.0, \"Mechanics\": \"Increase Value of Unchosen Resources, Modular Board, Network and Route Building, Worker Placement, Worker Placement, Different Worker Types\", \"Domains\": \"Strategy Games\"}, {\"ID\": 239188.0, \"Name\": \"Chronicles of Crime\", \"Year Published\": 2018.0, \"Min Players\": 1, \"Max Players\": 4, \"Play Time\": 90, \"Min Age\": 14, \"Users Rated\": 14251, \"Rating Average\": \"7,80\", \"BGG Rank\": 142, \"Complexity Average\": \"2,11\", \"Owned Users\": 23966.0, \"Mechanics\": \"Cooperative Game, Scenario / Mission / Campaign Game, Storytelling\", \"Domains\": \"Thematic Games\"}, {\"ID\": 146508.0, \"Name\": \"T.I.M.E Stories\", \"Year Published\": 2015.0, \"Min Players\": 2, \"Max Players\": 4, \"Play Time\": 90, \"Min Age\": 12, \"Users Rated\": 23729, \"Rating Average\": \"7,55\", \"BGG Rank\": 145, \"Complexity Average\": \"2,61\", \"Owned Users\": 35093.0, \"Mechanics\": \"Cooperative Game, Dice Rolling, Move Through Deck, Narrative Choice / Paragraph, Storytelling, Variable Player Powers\", \"Domains\": \"Thematic Games\"}, {\"ID\": 82222.0, \"Name\": \"Xia: Legends of a Drift System\", \"Year Published\": 2014.0, \"Min Players\": 3, \"Max Players\": 5, \"Play Time\": 180, \"Min Age\": 12, \"Users Rated\": 7357, \"Rating Average\": \"7,86\", \"BGG Rank\": 147, \"Complexity Average\": \"3,17\", \"Owned Users\": 11630.0, \"Mechanics\": \"Action Points, Dice Rolling, Grid Movement, Map Addition, Modular Board, Pick-up and Deliver, Roll / Spin and Move, Tile Placement, Variable Player Powers\", \"Domains\": \"Strategy Games, Thematic Games\"}, {\"ID\": 123260.0, \"Name\": \"Suburbia\", \"Year Published\": 2012.0, \"Min Players\": 1, \"Max Players\": 4, \"Play Time\": 90, \"Min Age\": 8, \"Users Rated\": 21584, \"Rating Average\": \"7,52\", \"BGG Rank\": 148, \"Complexity Average\": \"2,78\", \"Owned Users\": 24714.0, \"Mechanics\": \"Auction: Dutch, Card Drafting, Catch the Leader, Hexagon Grid, Set Collection, Tile Placement\", \"Domains\": \"Strategy Games\"}, {\"ID\": 188920.0, \"Name\": \"This War of Mine: The Board Game\", \"Year Published\": 2017.0, \"Min Players\": 1, \"Max Players\": 6, \"Play Time\": 120, \"Min Age\": 18, \"Users Rated\": 8550, \"Rating Average\": \"7,83\", \"BGG Rank\": 149, \"Complexity Average\": \"3,25\", \"Owned Users\": 16050.0, \"Mechanics\": \"Action Points, Cooperative Game, Dice Rolling, Grid Movement, Push Your Luck, Role Playing, Simulation, Solo / Solitaire Game, Storytelling, Variable Player Powers, Worker Placement\", \"Domains\": \"Thematic Games\"}, {\"ID\": 287954.0, \"Name\": \"Azul: Summer Pavilion\", \"Year Published\": 2019.0, \"Min Players\": 2, \"Max Players\": 4, \"Play Time\": 45, \"Min Age\": 8, \"Users Rated\": 7039, \"Rating Average\": \"7,83\", \"BGG Rank\": 150, \"Complexity Average\": \"2,05\", \"Owned Users\": 12321.0, \"Mechanics\": \"Drafting, Pattern Building, Set Collection\", \"Domains\": \"Abstract Games, Family Games\"}, {\"ID\": 126042.0, \"Name\": \"Nations\", \"Year Published\": 2013.0, \"Min Players\": 1, \"Max Players\": 5, \"Play Time\": 200, \"Min Age\": 14, \"Users Rated\": 11146, \"Rating Average\": \"7,64\", \"BGG Rank\": 151, \"Complexity Average\": \"3,54\", \"Owned Users\": 12085.0, \"Mechanics\": \"Card Drafting, Events, Turn Order: Pass Order, Variable Player Powers, Worker Placement\", \"Domains\": \"Strategy Games\"}, {\"ID\": 223321.0, \"Name\": \"Detective: A Modern Crime Board Game\", \"Year Published\": 2018.0, \"Min Players\": 1, \"Max Players\": 5, \"Play Time\": 180, \"Min Age\": 16, \"Users Rated\": 7042, \"Rating Average\": \"7,89\", \"BGG Rank\": 152, \"Complexity Average\": \"2,72\", \"Owned Users\": 15633.0, \"Mechanics\": \"Cooperative Game, Solo / Solitaire Game, Storytelling\", \"Domains\": \"Thematic Games\"}, {\"ID\": 195421.0, \"Name\": \"Near and Far\", \"Year Published\": 2017.0, \"Min Players\": 2, \"Max Players\": 4, \"Play Time\": 120, \"Min Age\": 13, \"Users Rated\": 7245, \"Rating Average\": \"7,81\", \"BGG Rank\": 153, \"Complexity Average\": \"2,82\", \"Owned Users\": 15697.0, \"Mechanics\": \"Card Drafting, Dice Rolling, Narrative Choice / Paragraph, Network and Route Building, Scenario / Mission / Campaign Game, Set Collection, Storytelling, Variable Player Powers, Worker Placement\", \"Domains\": \"Thematic Games\"}, {\"ID\": 104006.0, \"Name\": \"Village\", \"Year Published\": 2011.0, \"Min Players\": 2, \"Max Players\": 4, \"Play Time\": 90, \"Min Age\": 12, \"Users Rated\": 20255, \"Rating Average\": \"7,53\", \"BGG Rank\": 155, \"Complexity Average\": \"3,07\", \"Owned Users\": 26348.0, \"Mechanics\": \"Action Drafting, Area Majority / Influence, Contracts, Set Collection, Turn Order: Claim Action, Worker Placement, Worker Placement, Different Worker Types\", \"Domains\": \"Strategy Games\"}, {\"ID\": 171131.0, \"Name\": \"Captain Sonar\", \"Year Published\": 2016.0, \"Min Players\": 2, \"Max Players\": 8, \"Play Time\": 60, \"Min Age\": 14, \"Users Rated\": 16007, \"Rating Average\": \"7,57\", \"BGG Rank\": 159, \"Complexity Average\": \"2,15\", \"Owned Users\": 21870.0, \"Mechanics\": \"Grid Movement, Hidden Movement, Line Drawing, Real-Time, Role Playing, Secret Unit Deployment, Simulation, Team-Based Game\", \"Domains\": \"Party Games, Thematic Games\"}, {\"ID\": 220877.0, \"Name\": \"Rajas of the Ganges\", \"Year Published\": 2017.0, \"Min Players\": 2, \"Max Players\": 4, \"Play Time\": 75, \"Min Age\": 12, \"Users Rated\": 8826, \"Rating Average\": \"7,70\", \"BGG Rank\": 160, \"Complexity Average\": \"2,86\", \"Owned Users\": 11403.0, \"Mechanics\": \"Connections, Dice Rolling, Network and Route Building, Race, Tile Placement, Worker Placement\", \"Domains\": \"Strategy Games\"}, {\"ID\": 224037.0, \"Name\": \"Codenames: Duet\", \"Year Published\": 2017.0, \"Min Players\": 2, \"Max Players\": 99, \"Play Time\": 30, \"Min Age\": 11, \"Users Rated\": 13985, \"Rating Average\": \"7,57\", \"BGG Rank\": 161, \"Complexity Average\": \"1,34\", \"Owned Users\": 27538.0, \"Mechanics\": \"Communication Limits, Cooperative Game, Push Your Luck, Team-Based Game\", \"Domains\": \"Family Games\"}, {\"ID\": 25021.0, \"Name\": \"Sekigahara: The Unification of Japan\", \"Year Published\": 2011.0, \"Min Players\": 2, \"Max Players\": 2, \"Play Time\": 180, \"Min Age\": 14, \"Users Rated\": 4380, \"Rating Average\": \"8,04\", \"BGG Rank\": 162, \"Complexity Average\": \"2,77\", \"Owned Users\": 7464.0, \"Mechanics\": \"Action Points, Card Play Conflict Resolution, Force Commitment, Hand Management, Point to Point Movement, Secret Unit Deployment, Turn Order: Auction\", \"Domains\": \"Wargames\"}, {\"ID\": 254640.0, \"Name\": \"Just One\", \"Year Published\": 2018.0, \"Min Players\": 3, \"Max Players\": 7, \"Play Time\": 20, \"Min Age\": 8, \"Users Rated\": 11775, \"Rating Average\": \"7,60\", \"BGG Rank\": 163, \"Complexity Average\": \"1,05\", \"Owned Users\": 19170.0, \"Mechanics\": \"Communication Limits, Cooperative Game\", \"Domains\": \"Party Games\"}, {\"ID\": 217372.0, \"Name\": \"The Quest for El Dorado\", \"Year Published\": 2017.0, \"Min Players\": 2, \"Max Players\": 4, \"Play Time\": 60, \"Min Age\": 10, \"Users Rated\": 12131, \"Rating Average\": \"7,61\", \"BGG Rank\": 164, \"Complexity Average\": \"1,93\", \"Owned Users\": 19173.0, \"Mechanics\": \"Card Drafting, Deck Bag and Pool Building, Grid Movement, Hand Management, Hexagon Grid, Modular Board, Race\", \"Domains\": \"Family Games\"}, {\"ID\": 182631.0, \"Name\": \"Star Realms: Colony Wars\", \"Year Published\": 2015.0, \"Min Players\": 2, \"Max Players\": 2, \"Play Time\": 20, \"Min Age\": 12, \"Users Rated\": 6075, \"Rating Average\": \"7,87\", \"BGG Rank\": 165, \"Complexity Average\": \"1,90\", \"Owned Users\": 14005.0, \"Mechanics\": \"Card Drafting, Deck Bag and Pool Building, Hand Management, Take That\", \"Domains\": \"Strategy Games\"}, {\"ID\": 146886.0, \"Name\": \"La Granja\", \"Year Published\": 2014.0, \"Min Players\": 1, \"Max Players\": 4, \"Play Time\": 120, \"Min Age\": 12, \"Users Rated\": 8756, \"Rating Average\": \"7,67\", \"BGG Rank\": 168, \"Complexity Average\": \"3,58\", \"Owned Users\": 11163.0, \"Mechanics\": \"Area Majority / Influence, Automatic Resource Growth, Dice Rolling, Drafting, Hand Management, Income, Simultaneous Action Selection, Variable Player Powers\", \"Domains\": \"Strategy Games\"}, {\"ID\": 271324.0, \"Name\": \"It's a Wonderful World\", \"Year Published\": 2019.0, \"Min Players\": 1, \"Max Players\": 5, \"Play Time\": 60, \"Min Age\": 14, \"Users Rated\": 6061, \"Rating Average\": \"7,88\", \"BGG Rank\": 169, \"Complexity Average\": \"2,27\", \"Owned Users\": 9371.0, \"Mechanics\": \"Card Drafting, Drafting, End Game Bonuses, Hand Management, Set Collection, Simultaneous Action Selection, Variable Player Powers\", \"Domains\": \"Strategy Games\"}, {\"ID\": 245638.0, \"Name\": \"Coimbra\", \"Year Published\": 2018.0, \"Min Players\": 2, \"Max Players\": 4, \"Play Time\": 90, \"Min Age\": 14, \"Users Rated\": 8494, \"Rating Average\": \"7,69\", \"BGG Rank\": 170, \"Complexity Average\": \"3,28\", \"Owned Users\": 11634.0, \"Mechanics\": \"Card Drafting, Dice Rolling, End Game Bonuses, Set Collection, Variable Set-up, Worker Placement with Dice Workers\", \"Domains\": \"Strategy Games\"}, {\"ID\": 274364.0, \"Name\": \"Watergate\", \"Year Published\": 2019.0, \"Min Players\": 2, \"Max Players\": 2, \"Play Time\": 60, \"Min Age\": 12, \"Users Rated\": 4438, \"Rating Average\": \"8,00\", \"BGG Rank\": 171, \"Complexity Average\": \"2,25\", \"Owned Users\": 8892.0, \"Mechanics\": \"Action/Event, Connections, Hand Management, Tug of War\", \"Domains\": \"Strategy Games\"}, {\"ID\": 316554.0, \"Name\": \"Dune: Imperium\", \"Year Published\": 2020.0, \"Min Players\": 1, \"Max Players\": 4, \"Play Time\": 120, \"Min Age\": 14, \"Users Rated\": 2860, \"Rating Average\": \"8,45\", \"BGG Rank\": 175, \"Complexity Average\": \"2,88\", \"Owned Users\": 5682.0, \"Mechanics\": \"Card Play Conflict Resolution, Deck Bag and Pool Building, Variable Player Powers, Worker Placement\", \"Domains\": \"Strategy Games, Thematic Games\"}, {\"ID\": 129437.0, \"Name\": \"Legendary: A Marvel Deck Building Game\", \"Year Published\": 2012.0, \"Min Players\": 1, \"Max Players\": 5, \"Play Time\": 60, \"Min Age\": 14, \"Users Rated\": 19785, \"Rating Average\": \"7,57\", \"BGG Rank\": 176, \"Complexity Average\": \"2,44\", \"Owned Users\": 30186.0, \"Mechanics\": \"Deck Bag and Pool Building, Events, Semi-Cooperative Game, Solo / Solitaire Game, Variable Set-up\", \"Domains\": \"Thematic Games\"}, {\"ID\": 176189.0, \"Name\": \"Zombicide: Black Plague\", \"Year Published\": 2015.0, \"Min Players\": 1, \"Max Players\": 6, \"Play Time\": 180, \"Min Age\": 14, \"Users Rated\": 12651, \"Rating Average\": \"7,68\", \"BGG Rank\": 179, \"Complexity Average\": \"2,51\", \"Owned Users\": 21612.0, \"Mechanics\": \"Cooperative Game, Dice Rolling, Modular Board, Scenario / Mission / Campaign Game, Turn Order: Progressive, Variable Player Powers\", \"Domains\": \"Thematic Games\"}, {\"ID\": 109276.0, \"Name\": \"Kanban: Driver's Edition\", \"Year Published\": 2014.0, \"Min Players\": 2, \"Max Players\": 4, \"Play Time\": 120, \"Min Age\": 12, \"Users Rated\": 5727, \"Rating Average\": \"7,84\", \"BGG Rank\": 180, \"Complexity Average\": \"4,35\", \"Owned Users\": 7923.0, \"Mechanics\": \"Action Points, Commodity Speculation, Variable Phase Order, Worker Placement\", \"Domains\": \"Strategy Games\"}, {\"ID\": 155068.0, \"Name\": \"Arcadia Quest\", \"Year Published\": 2014.0, \"Min Players\": 2, \"Max Players\": 4, \"Play Time\": 60, \"Min Age\": 13, \"Users Rated\": 9152, \"Rating Average\": \"7,71\", \"BGG Rank\": 181, \"Complexity Average\": \"2,53\", \"Owned Users\": 14420.0, \"Mechanics\": \"Dice Rolling, Grid Movement, Modular Board, Scenario / Mission / Campaign Game, Take That, Variable Player Powers\", \"Domains\": \"Thematic Games\"}, {\"ID\": 282524.0, \"Name\": \"Horrified\", \"Year Published\": 2019.0, \"Min Players\": 1, \"Max Players\": 5, \"Play Time\": 60, \"Min Age\": 10, \"Users Rated\": 6442, \"Rating Average\": \"7,84\", \"BGG Rank\": 183, \"Complexity Average\": \"2,05\", \"Owned Users\": 13549.0, \"Mechanics\": \"Action Points, Cooperative Game, Dice Rolling, Pick-up and Deliver, Point to Point Movement, Solo / Solitaire Game, Variable Player Powers, Variable Set-up\", \"Domains\": \"Thematic Games\"}, {\"ID\": 188834.0, \"Name\": \"Secret Hitler\", \"Year Published\": 2016.0, \"Min Players\": 5, \"Max Players\": 10, \"Play Time\": 45, \"Min Age\": 13, \"Users Rated\": 18198, \"Rating Average\": \"7,57\", \"BGG Rank\": 186, \"Complexity Average\": \"1,69\", \"Owned Users\": 24770.0, \"Mechanics\": \"Hidden Roles, Player Elimination, Team-Based Game, Traitor Game, Voting\", \"Domains\": \"Party Games\"}, {\"ID\": 253344.0, \"Name\": \"Cthulhu: Death May Die\", \"Year Published\": 2019.0, \"Min Players\": 1, \"Max Players\": 5, \"Play Time\": 120, \"Min Age\": 14, \"Users Rated\": 3990, \"Rating Average\": \"8,16\", \"BGG Rank\": 187, \"Complexity Average\": \"2,42\", \"Owned Users\": 7733.0, \"Mechanics\": \"Action Points, Cooperative Game, Dice Rolling, Variable Player Powers\", \"Domains\": \"Thematic Games\"}, {\"ID\": 192291.0, \"Name\": \"Sushi Go Party!\", \"Year Published\": 2016.0, \"Min Players\": 2, \"Max Players\": 8, \"Play Time\": 20, \"Min Age\": 8, \"Users Rated\": 22327, \"Rating Average\": \"7,46\", \"BGG Rank\": 188, \"Complexity Average\": \"1,32\", \"Owned Users\": 39966.0, \"Mechanics\": \"Card Drafting, Drafting, End Game Bonuses, Hand Management, Set Collection, Simultaneous Action Selection\", \"Domains\": \"Family Games\"}, {\"ID\": 128621.0, \"Name\": \"Viticulture\", \"Year Published\": 2013.0, \"Min Players\": 2, \"Max Players\": 6, \"Play Time\": 90, \"Min Age\": 13, \"Users Rated\": 10189, \"Rating Average\": \"7,59\", \"BGG Rank\": 191, \"Complexity Average\": \"2,93\", \"Owned Users\": 8909.0, \"Mechanics\": \"Hand Management, Turn Order: Progressive, Worker Placement\", \"Domains\": \"Strategy Games\"}, {\"ID\": 156129.0, \"Name\": \"Deception: Murder in Hong Kong\", \"Year Published\": 2014.0, \"Min Players\": 4, \"Max Players\": 12, \"Play Time\": 20, \"Min Age\": 14, \"Users Rated\": 16001, \"Rating Average\": \"7,50\", \"BGG Rank\": 193, \"Complexity Average\": \"1,60\", \"Owned Users\": 23769.0, \"Mechanics\": \"Deduction, Events, Hidden Roles, Storytelling, Team-Based Game, Traitor Game\", \"Domains\": \"Party Games\"}, {\"ID\": 189932.0, \"Name\": \"Tyrants of the Underdark\", \"Year Published\": 2016.0, \"Min Players\": 2, \"Max Players\": 4, \"Play Time\": 60, \"Min Age\": 14, \"Users Rated\": 5083, \"Rating Average\": \"7,89\", \"BGG Rank\": 194, \"Complexity Average\": \"2,57\", \"Owned Users\": 6670.0, \"Mechanics\": \"Area Majority / Influence, Deck Bag and Pool Building\", \"Domains\": \"Strategy Games\"}, {\"ID\": 169426.0, \"Name\": \"Roll Player\", \"Year Published\": 2016.0, \"Min Players\": 1, \"Max Players\": 4, \"Play Time\": 90, \"Min Age\": 10, \"Users Rated\": 13286, \"Rating Average\": \"7,53\", \"BGG Rank\": 195, \"Complexity Average\": \"2,38\", \"Owned Users\": 20000.0, \"Mechanics\": \"Card Drafting, Dice Rolling, Drafting, Role Playing, Set Collection, Variable Player Powers\", \"Domains\": \"Strategy Games\"}, {\"ID\": 176494.0, \"Name\": \"Isle of Skye: From Chieftain to King\", \"Year Published\": 2015.0, \"Min Players\": 2, \"Max Players\": 5, \"Play Time\": 50, \"Min Age\": 8, \"Users Rated\": 20425, \"Rating Average\": \"7,44\", \"BGG Rank\": 197, \"Complexity Average\": \"2,25\", \"Owned Users\": 26632.0, \"Mechanics\": \"Auction/Bidding, Catch the Leader, Set Collection, Tile Placement, Turn Order: Progressive\", \"Domains\": \"Family Games, Strategy Games\"}, {\"ID\": 199478.0, \"Name\": \"Flamme Rouge\", \"Year Published\": 2016.0, \"Min Players\": 2, \"Max Players\": 4, \"Play Time\": 45, \"Min Age\": 8, \"Users Rated\": 12139, \"Rating Average\": \"7,56\", \"BGG Rank\": 199, \"Complexity Average\": \"1,67\", \"Owned Users\": 15704.0, \"Mechanics\": \"Catch the Leader, Hand Management, Modular Board, Race, Simulation, Simultaneous Action Selection\", \"Domains\": \"Family Games\"}, {\"ID\": 232832.0, \"Name\": \"Century: Golem Edition\", \"Year Published\": 2017.0, \"Min Players\": 2, \"Max Players\": 5, \"Play Time\": 45, \"Min Age\": 8, \"Users Rated\": 6991, \"Rating Average\": \"7,71\", \"BGG Rank\": 200, \"Complexity Average\": \"1,65\", \"Owned Users\": 11050.0, \"Mechanics\": \"Action Retrieval, Card Drafting, Contracts, Deck Bag and Pool Building, Hand Management, Increase Value of Unchosen Resources, Set Collection\", \"Domains\": \"Family Games, Strategy Games\"}, {\"ID\": 198994.0, \"Name\": \"Hero Realms\", \"Year Published\": 2016.0, \"Min Players\": 2, \"Max Players\": 4, \"Play Time\": 30, \"Min Age\": 12, \"Users Rated\": 12203, \"Rating Average\": \"7,60\", \"BGG Rank\": 201, \"Complexity Average\": \"1,90\", \"Owned Users\": 21315.0, \"Mechanics\": \"Card Drafting, Deck Bag and Pool Building, Hand Management, Take That\", \"Domains\": \"Customizable Games, Strategy Games\"}, {\"ID\": 140620.0, \"Name\": \"Lewis & Clark: The Expedition\", \"Year Published\": 2013.0, \"Min Players\": 1, \"Max Players\": 5, \"Play Time\": 120, \"Min Age\": 14, \"Users Rated\": 12926, \"Rating Average\": \"7,49\", \"BGG Rank\": 203, \"Complexity Average\": \"3,34\", \"Owned Users\": 15424.0, \"Mechanics\": \"Action Retrieval, Card Drafting, Hand Management, Race, Resource to Move, Solo / Solitaire Game, Track Movement, Worker Placement\", \"Domains\": \"Strategy Games\"}, {\"ID\": 155873.0, \"Name\": \"Power Grid Deluxe: Europe/North America\", \"Year Published\": 2014.0, \"Min Players\": 2, \"Max Players\": 6, \"Play Time\": 120, \"Min Age\": 12, \"Users Rated\": 3768, \"Rating Average\": \"8,01\", \"BGG Rank\": 205, \"Complexity Average\": \"3,19\", \"Owned Users\": 6449.0, \"Mechanics\": \"Auction: Turn Order Until Pass, Income, Market, Network and Route Building\", \"Domains\": \"Strategy Games\"}, {\"ID\": 158600.0, \"Name\": \"Hanamikoji\", \"Year Published\": 2013.0, \"Min Players\": 2, \"Max Players\": 2, \"Play Time\": 15, \"Min Age\": 10, \"Users Rated\": 11047, \"Rating Average\": \"7,54\", \"BGG Rank\": 206, \"Complexity Average\": \"1,71\", \"Owned Users\": 18073.0, \"Mechanics\": \"Area Majority / Influence, Card Drafting, Force Commitment, Hand Management, I Cut You Choose\", \"Domains\": \"Family Games\"}, {\"ID\": 127060.0, \"Name\": \"Bora Bora\", \"Year Published\": 2013.0, \"Min Players\": 2, \"Max Players\": 4, \"Play Time\": 120, \"Min Age\": 12, \"Users Rated\": 9107, \"Rating Average\": \"7,56\", \"BGG Rank\": 207, \"Complexity Average\": \"3,74\", \"Owned Users\": 11914.0, \"Mechanics\": \"Dice Rolling, Set Collection, Worker Placement, Worker Placement with Dice Workers\", \"Domains\": \"Strategy Games\"}, {\"ID\": 97207.0, \"Name\": \"Dungeon Petz\", \"Year Published\": 2011.0, \"Min Players\": 2, \"Max Players\": 4, \"Play Time\": 90, \"Min Age\": 13, \"Users Rated\": 12707, \"Rating Average\": \"7,47\", \"BGG Rank\": 209, \"Complexity Average\": \"3,60\", \"Owned Users\": 16675.0, \"Mechanics\": \"Auction/Bidding, Hand Management, Simultaneous Action Selection, Worker Placement\", \"Domains\": \"Strategy Games, Thematic Games\"}, {\"ID\": 242302.0, \"Name\": \"Space Base\", \"Year Published\": 2018.0, \"Min Players\": 2, \"Max Players\": 5, \"Play Time\": 60, \"Min Age\": 14, \"Users Rated\": 8388, \"Rating Average\": \"7,59\", \"BGG Rank\": 211, \"Complexity Average\": \"2,13\", \"Owned Users\": 13129.0, \"Mechanics\": \"Card Drafting, Dice Rolling, Random Production\", \"Domains\": \"Family Games\"}, {\"ID\": 108745.0, \"Name\": \"Seasons\", \"Year Published\": 2012.0, \"Min Players\": 2, \"Max Players\": 4, \"Play Time\": 60, \"Min Age\": 14, \"Users Rated\": 20812, \"Rating Average\": \"7,41\", \"BGG Rank\": 212, \"Complexity Average\": \"2,77\", \"Owned Users\": 24484.0, \"Mechanics\": \"Card Drafting, Dice Rolling, Drafting, Hand Management, Take That, Victory Points as a Resource\", \"Domains\": \"Strategy Games\"}, {\"ID\": 154203.0, \"Name\": \"Imperial Settlers\", \"Year Published\": 2014.0, \"Min Players\": 1, \"Max Players\": 4, \"Play Time\": 90, \"Min Age\": 10, \"Users Rated\": 21089, \"Rating Average\": \"7,41\", \"BGG Rank\": 213, \"Complexity Average\": \"2,77\", \"Owned Users\": 28363.0, \"Mechanics\": \"Card Drafting, Contracts, Drafting, Hand Management, Take That, Variable Player Powers\", \"Domains\": \"Strategy Games\"}, {\"ID\": 228341.0, \"Name\": \"Pulsar 2849\", \"Year Published\": 2017.0, \"Min Players\": 2, \"Max Players\": 4, \"Play Time\": 90, \"Min Age\": 14, \"Users Rated\": 6080, \"Rating Average\": \"7,73\", \"BGG Rank\": 214, \"Complexity Average\": \"3,34\", \"Owned Users\": 8295.0, \"Mechanics\": \"Dice Rolling, Drafting, Point to Point Movement, Variable Player Powers, Worker Placement with Dice Workers\", \"Domains\": \"Strategy Games\"}, {\"ID\": 92828.0, \"Name\": \"Dixit: Odyssey\", \"Year Published\": 2011.0, \"Min Players\": 3, \"Max Players\": 12, \"Play Time\": 30, \"Min Age\": 8, \"Users Rated\": 16717, \"Rating Average\": \"7,45\", \"BGG Rank\": 215, \"Complexity Average\": \"1,19\", \"Owned Users\": 23123.0, \"Mechanics\": \"Storytelling, Targeted Clues, Voting\", \"Domains\": \"Party Games\"}, {\"ID\": 222509.0, \"Name\": \"Lords of Hellas\", \"Year Published\": 2018.0, \"Min Players\": 1, \"Max Players\": 4, \"Play Time\": 90, \"Min Age\": 14, \"Users Rated\": 5507, \"Rating Average\": \"7,85\", \"BGG Rank\": 219, \"Complexity Average\": \"3,32\", \"Owned Users\": 9373.0, \"Mechanics\": \"Area Majority / Influence, Area Movement, Card Drafting, Card Play Conflict Resolution, Hand Management, Solo / Solitaire Game, Variable Player Powers, Worker Placement\", \"Domains\": \"Strategy Games\"}, {\"ID\": 181279.0, \"Name\": \"Fury of Dracula (Third/Fourth Edition)\", \"Year Published\": 2015.0, \"Min Players\": 2, \"Max Players\": 5, \"Play Time\": 180, \"Min Age\": 14, \"Users Rated\": 11489, \"Rating Average\": \"7,51\", \"BGG Rank\": 222, \"Complexity Average\": \"3,22\", \"Owned Users\": 21229.0, \"Mechanics\": \"Hidden Movement, Point to Point Movement, Resource to Move, Secret Unit Deployment, Team-Based Game, Variable Player Powers\", \"Domains\": \"Thematic Games\"}, {\"ID\": 265188.0, \"Name\": \"Glen More II: Chronicles\", \"Year Published\": 2019.0, \"Min Players\": 2, \"Max Players\": 4, \"Play Time\": 120, \"Min Age\": 12, \"Users Rated\": 3491, \"Rating Average\": \"8,02\", \"BGG Rank\": 223, \"Complexity Average\": \"3,05\", \"Owned Users\": 6591.0, \"Mechanics\": \"Commodity Speculation, Dice Rolling, Grid Movement, Market, Rondel, Set Collection, Tile Placement, Time Track\", \"Domains\": \"Strategy Games\"}, {\"ID\": 193037.0, \"Name\": \"Dead of Winter: The Long Night\", \"Year Published\": 2016.0, \"Min Players\": 2, \"Max Players\": 5, \"Play Time\": 120, \"Min Age\": 14, \"Users Rated\": 7881, \"Rating Average\": \"7,65\", \"BGG Rank\": 224, \"Complexity Average\": \"3,42\", \"Owned Users\": 17767.0, \"Mechanics\": \"Action Points, Area Movement, Cooperative Game, Dice Rolling, Hand Management, Push Your Luck, Storytelling, Traitor Game, Variable Player Powers, Voting\", \"Domains\": \"Thematic Games\"}, {\"ID\": 93260.0, \"Name\": \"Summoner Wars: Master Set\", \"Year Published\": 2011.0, \"Min Players\": 2, \"Max Players\": 4, \"Play Time\": 60, \"Min Age\": 9, \"Users Rated\": 10358, \"Rating Average\": \"7,52\", \"BGG Rank\": 226, \"Complexity Average\": \"2,51\", \"Owned Users\": 12969.0, \"Mechanics\": \"Deck Construction, Dice Rolling, Grid Movement, Hand Management, Stat Check Resolution, Variable Player Powers\", \"Domains\": \"Customizable Games, Strategy Games\"}, {\"ID\": 144344.0, \"Name\": \"Rococo\", \"Year Published\": 2013.0, \"Min Players\": 2, \"Max Players\": 5, \"Play Time\": 120, \"Min Age\": 12, \"Users Rated\": 7517, \"Rating Average\": \"7,58\", \"BGG Rank\": 227, \"Complexity Average\": \"3,09\", \"Owned Users\": 8254.0, \"Mechanics\": \"Action Retrieval, Area Majority / Influence, Card Drafting, Deck Bag and Pool Building, Hand Management, Set Collection\", \"Domains\": \"Strategy Games\"}, {\"ID\": 203420.0, \"Name\": \"Exit: The Game - The Abandoned Cabin\", \"Year Published\": 2016.0, \"Min Players\": 1, \"Max Players\": 6, \"Play Time\": 120, \"Min Age\": 12, \"Users Rated\": 8821, \"Rating Average\": \"7,53\", \"BGG Rank\": 228, \"Complexity Average\": \"2,54\", \"Owned Users\": 12774.0, \"Mechanics\": \"Cooperative Game\", \"Domains\": \"Family Games, Thematic Games\"}, {\"ID\": 209418.0, \"Name\": \"Dominion (Second Edition)\", \"Year Published\": 2016.0, \"Min Players\": 2, \"Max Players\": 4, \"Play Time\": 30, \"Min Age\": 14, \"Users Rated\": 4275, \"Rating Average\": \"7,93\", \"BGG Rank\": 229, \"Complexity Average\": \"2,18\", \"Owned Users\": 6945.0, \"Mechanics\": \"Card Drafting, Deck Bag and Pool Building, Hand Management\", \"Domains\": \"Strategy Games\"}, {\"ID\": 66589.0, \"Name\": \"Navegador\", \"Year Published\": 2010.0, \"Min Players\": 2, \"Max Players\": 5, \"Play Time\": 90, \"Min Age\": 12, \"Users Rated\": 8022, \"Rating Average\": \"7,55\", \"BGG Rank\": 230, \"Complexity Average\": \"3,09\", \"Owned Users\": 7663.0, \"Mechanics\": \"Advantage Token, Area Movement, Rondel\", \"Domains\": \"Strategy Games\"}, {\"ID\": 59294.0, \"Name\": \"Runewars\", \"Year Published\": 2010.0, \"Min Players\": 2, \"Max Players\": 4, \"Play Time\": 240, \"Min Age\": 14, \"Users Rated\": 7763, \"Rating Average\": \"7,63\", \"BGG Rank\": 231, \"Complexity Average\": \"3,78\", \"Owned Users\": 10095.0, \"Mechanics\": \"Area Majority / Influence, Auction/Bidding, Grid Movement, Modular Board, Simultaneous Action Selection, Variable Player Powers\", \"Domains\": \"Strategy Games, Thematic Games\"}, {\"ID\": 176734.0, \"Name\": \"The Manhattan Project: Energy Empire\", \"Year Published\": 2016.0, \"Min Players\": 1, \"Max Players\": 5, \"Play Time\": 120, \"Min Age\": 13, \"Users Rated\": 4771, \"Rating Average\": \"7,79\", \"BGG Rank\": 232, \"Complexity Average\": \"3,03\", \"Owned Users\": 6694.0, \"Mechanics\": \"Dice Rolling, Worker Placement, Worker Placement, Different Worker Types\", \"Domains\": \"Strategy Games\"}, {\"ID\": 286096.0, \"Name\": \"Tapestry\", \"Year Published\": 2019.0, \"Min Players\": 1, \"Max Players\": 5, \"Play Time\": 120, \"Min Age\": 12, \"Users Rated\": 11583, \"Rating Average\": \"7,49\", \"BGG Rank\": 233, \"Complexity Average\": \"2,88\", \"Owned Users\": 16369.0, \"Mechanics\": \"Card Drafting, Chaining, Dice Rolling, Grid Coverage, Hand Management, Hexagon Grid, Income, Map Addition, Solo / Solitaire Game, Square Grid, Tech Trees / Tech Tracks, Tile Placement, Track Movement, Variable Player Powers\", \"Domains\": \"Strategy Games\"}, {\"ID\": 48726.0, \"Name\": \"Alien Frontiers\", \"Year Published\": 2010.0, \"Min Players\": 2, \"Max Players\": 4, \"Play Time\": 90, \"Min Age\": 13, \"Users Rated\": 14150, \"Rating Average\": \"7,41\", \"BGG Rank\": 234, \"Complexity Average\": \"2,57\", \"Owned Users\": 14615.0, \"Mechanics\": \"Area Majority / Influence, Card Drafting, Dice Rolling, Worker Placement with Dice Workers\", \"Domains\": \"Strategy Games\"}, {\"ID\": 268864.0, \"Name\": \"Undaunted: Normandy\", \"Year Published\": 2019.0, \"Min Players\": 2, \"Max Players\": 2, \"Play Time\": 60, \"Min Age\": 14, \"Users Rated\": 4296, \"Rating Average\": \"7,90\", \"BGG Rank\": 237, \"Complexity Average\": \"2,25\", \"Owned Users\": 9475.0, \"Mechanics\": \"Card Drafting, Deck Bag and Pool Building, Dice Rolling, Modular Board, Simulation\", \"Domains\": \"Thematic Games, Wargames\"}, {\"ID\": 172081.0, \"Name\": \"Burgle Bros.\", \"Year Published\": 2015.0, \"Min Players\": 1, \"Max Players\": 4, \"Play Time\": 90, \"Min Age\": 12, \"Users Rated\": 8409, \"Rating Average\": \"7,54\", \"BGG Rank\": 238, \"Complexity Average\": \"2,31\", \"Owned Users\": 13865.0, \"Mechanics\": \"Action Points, Cooperative Game, Dice Rolling, Grid Movement, Map Addition, Modular Board, Multiple Maps, Solo / Solitaire Game, Square Grid, Three Dimensional Movement, Variable Player Powers\", \"Domains\": \"Family Games, Thematic Games\"}, {\"ID\": 146439.0, \"Name\": \"BattleLore (Second Edition)\", \"Year Published\": 2013.0, \"Min Players\": 2, \"Max Players\": 2, \"Play Time\": 90, \"Min Age\": 14, \"Users Rated\": 5645, \"Rating Average\": \"7,74\", \"BGG Rank\": 241, \"Complexity Average\": \"2,70\", \"Owned Users\": 9235.0, \"Mechanics\": \"Campaign / Battle Card Driven, Command Cards, Dice Rolling, Grid Movement, Modular Board, Variable Player Powers\", \"Domains\": \"Wargames\"}, {\"ID\": 224783.0, \"Name\": \"Vindication\", \"Year Published\": 2018.0, \"Min Players\": 2, \"Max Players\": 5, \"Play Time\": 150, \"Min Age\": 14, \"Users Rated\": 4583, \"Rating Average\": \"7,88\", \"BGG Rank\": 242, \"Complexity Average\": \"3,07\", \"Owned Users\": 7425.0, \"Mechanics\": \"Area Majority / Influence, Dice Rolling, Hexagon Grid, Map Addition, Modular Board, Variable Phase Order\", \"Domains\": \"Strategy Games\"}, {\"ID\": 312484.0, \"Name\": \"Lost Ruins of Arnak\", \"Year Published\": 2020.0, \"Min Players\": 1, \"Max Players\": 4, \"Play Time\": 120, \"Min Age\": 12, \"Users Rated\": 2819, \"Rating Average\": \"8,25\", \"BGG Rank\": 244, \"Complexity Average\": \"2,76\", \"Owned Users\": 5281.0, \"Mechanics\": \"Chaining, Deck Bag and Pool Building, Drafting, Move Through Deck, Once-Per-Game Abilities, Resource to Move, Tile Placement, Turn Order: Progressive, Worker Placement\", \"Domains\": \"Strategy Games\"}, {\"ID\": 232405.0, \"Name\": \"Western Legends\", \"Year Published\": 2018.0, \"Min Players\": 2, \"Max Players\": 6, \"Play Time\": 90, \"Min Age\": 14, \"Users Rated\": 6615, \"Rating Average\": \"7,66\", \"BGG Rank\": 245, \"Complexity Average\": \"2,78\", \"Owned Users\": 11185.0, \"Mechanics\": \"Action Points, Area Movement, Betting and Bluffing, Dice Rolling, End Game Bonuses, Hand Management, Pick-up and Deliver, Take That, Variable Player Powers\", \"Domains\": \"Thematic Games\"}, {\"ID\": 139976.0, \"Name\": \"Cthulhu Wars\", \"Year Published\": 2015.0, \"Min Players\": 2, \"Max Players\": 4, \"Play Time\": 120, \"Min Age\": 14, \"Users Rated\": 4585, \"Rating Average\": \"7,92\", \"BGG Rank\": 246, \"Complexity Average\": \"3,14\", \"Owned Users\": 5729.0, \"Mechanics\": \"Action Points, Area Majority / Influence, Area Movement, Dice Rolling, Variable Player Powers\", \"Domains\": \"Strategy Games, Thematic Games\"}, {\"ID\": 160477.0, \"Name\": \"Onitama\", \"Year Published\": 2014.0, \"Min Players\": 2, \"Max Players\": 2, \"Play Time\": 20, \"Min Age\": 8, \"Users Rated\": 15161, \"Rating Average\": \"7,40\", \"BGG Rank\": 248, \"Complexity Average\": \"1,71\", \"Owned Users\": 22904.0, \"Mechanics\": \"Grid Movement, Hand Management, Pattern Movement, Static Capture\", \"Domains\": \"Abstract Games\"}, {\"ID\": 206718.0, \"Name\": \"Ethnos\", \"Year Published\": 2017.0, \"Min Players\": 2, \"Max Players\": 6, \"Play Time\": 60, \"Min Age\": 14, \"Users Rated\": 9741, \"Rating Average\": \"7,48\", \"BGG Rank\": 249, \"Complexity Average\": \"2,03\", \"Owned Users\": 12131.0, \"Mechanics\": \"Area Majority / Influence, Card Drafting, Hand Management, Set Collection\", \"Domains\": \"Strategy Games\"}, {\"ID\": 101721.0, \"Name\": \"Mage Wars Arena\", \"Year Published\": 2012.0, \"Min Players\": 2, \"Max Players\": 2, \"Play Time\": 90, \"Min Age\": 13, \"Users Rated\": 7379, \"Rating Average\": \"7,64\", \"BGG Rank\": 250, \"Complexity Average\": \"3,67\", \"Owned Users\": 12922.0, \"Mechanics\": \"Deck Construction, Dice Rolling, Grid Movement, Line of Sight, Simultaneous Action Selection, Turn Order: Progressive, Variable Player Powers\", \"Domains\": \"Customizable Games\"}, {\"ID\": 209685.0, \"Name\": \"Century: Spice Road\", \"Year Published\": 2017.0, \"Min Players\": 2, \"Max Players\": 5, \"Play Time\": 45, \"Min Age\": 8, \"Users Rated\": 18546, \"Rating Average\": \"7,37\", \"BGG Rank\": 251, \"Complexity Average\": \"1,77\", \"Owned Users\": 24002.0, \"Mechanics\": \"Action Retrieval, Card Drafting, Contracts, Deck Bag and Pool Building, Hand Management, Increase Value of Unchosen Resources, Set Collection\", \"Domains\": \"Family Games, Strategy Games\"}, {\"ID\": 241451.0, \"Name\": \"Aeon's End: Legacy\", \"Year Published\": 2019.0, \"Min Players\": 1, \"Max Players\": 4, \"Play Time\": 90, \"Min Age\": 14, \"Users Rated\": 2758, \"Rating Average\": \"8,22\", \"BGG Rank\": 252, \"Complexity Average\": \"2,84\", \"Owned Users\": 5942.0, \"Mechanics\": \"Card Drafting, Cooperative Game, Deck Bag and Pool Building, Hand Management, Legacy Game, Solo / Solitaire Game, Variable Phase Order, Variable Player Powers\", \"Domains\": \"Strategy Games, Thematic Games\"}, {\"ID\": 172818.0, \"Name\": \"Above and Below\", \"Year Published\": 2015.0, \"Min Players\": 2, \"Max Players\": 4, \"Play Time\": 90, \"Min Age\": 13, \"Users Rated\": 12875, \"Rating Average\": \"7,43\", \"BGG Rank\": 253, \"Complexity Average\": \"2,53\", \"Owned Users\": 19729.0, \"Mechanics\": \"Action Points, Dice Rolling, Narrative Choice / Paragraph, Set Collection, Storytelling, Trading\", \"Domains\": \"Thematic Games\"}, {\"ID\": 187617.0, \"Name\": \"Nemo's War (Second Edition)\", \"Year Published\": 2017.0, \"Min Players\": 1, \"Max Players\": 4, \"Play Time\": 120, \"Min Age\": 13, \"Users Rated\": 3425, \"Rating Average\": \"7,99\", \"BGG Rank\": 254, \"Complexity Average\": \"3,15\", \"Owned Users\": 8838.0, \"Mechanics\": \"Action Points, Area Majority / Influence, Area Movement, Cooperative Game, Dice Rolling, Push Your Luck, Simulation, Solo / Solitaire Game, Time Track\", \"Domains\": \"Thematic Games\"}, {\"ID\": 140934.0, \"Name\": \"Arboretum\", \"Year Published\": 2015.0, \"Min Players\": 2, \"Max Players\": 4, \"Play Time\": 30, \"Min Age\": 8, \"Users Rated\": 13125, \"Rating Average\": \"7,39\", \"BGG Rank\": 256, \"Complexity Average\": \"2,16\", \"Owned Users\": 22499.0, \"Mechanics\": \"Hand Management, Pattern Building, Rock-Paper-Scissors, Set Collection, Tile Placement\", \"Domains\": \"Family Games\"}, {\"ID\": 249259.0, \"Name\": \"War Chest\", \"Year Published\": 2018.0, \"Min Players\": 2, \"Max Players\": 4, \"Play Time\": 30, \"Min Age\": 14, \"Users Rated\": 3869, \"Rating Average\": \"7,95\", \"BGG Rank\": 259, \"Complexity Average\": \"2,29\", \"Owned Users\": 6228.0, \"Mechanics\": \"Area Majority / Influence, Deck Bag and Pool Building, Grid Movement, Hand Management, Team-Based Game, Variable Player Powers\", \"Domains\": \"Abstract Games\"}, {\"ID\": 269207.0, \"Name\": \"The Taverns of Tiefenthal\", \"Year Published\": 2019.0, \"Min Players\": 2, \"Max Players\": 4, \"Play Time\": 60, \"Min Age\": 12, \"Users Rated\": 6323, \"Rating Average\": \"7,63\", \"BGG Rank\": 260, \"Complexity Average\": \"2,66\", \"Owned Users\": 11068.0, \"Mechanics\": \"Deck Bag and Pool Building, Dice Rolling, Drafting, Worker Placement, Worker Placement with Dice Workers\", \"Domains\": \"Strategy Games\"}, {\"ID\": 165722.0, \"Name\": \"KLASK\", \"Year Published\": 2014.0, \"Min Players\": 2, \"Max Players\": 2, \"Play Time\": 10, \"Min Age\": 8, \"Users Rated\": 5667, \"Rating Average\": \"7,65\", \"BGG Rank\": 261, \"Complexity Average\": \"1,05\", \"Owned Users\": 7992.0, \"Mechanics\": \"Real-Time\", \"Domains\": \"Family Games, Party Games\"}, {\"ID\": 136888.0, \"Name\": \"Bruges\", \"Year Published\": 2013.0, \"Min Players\": 2, \"Max Players\": 4, \"Play Time\": 60, \"Min Age\": 10, \"Users Rated\": 10275, \"Rating Average\": \"7,43\", \"BGG Rank\": 263, \"Complexity Average\": \"2,75\", \"Owned Users\": 11033.0, \"Mechanics\": \"Dice Rolling, Hand Management\", \"Domains\": \"Strategy Games\"}, {\"ID\": 77130.0, \"Name\": \"Sid Meier's Civilization: The Board Game\", \"Year Published\": 2010.0, \"Min Players\": 2, \"Max Players\": 4, \"Play Time\": 240, \"Min Age\": 13, \"Users Rated\": 14425, \"Rating Average\": \"7,41\", \"BGG Rank\": 264, \"Complexity Average\": \"3,89\", \"Owned Users\": 19353.0, \"Mechanics\": \"Card Drafting, Deck Bag and Pool Building, Grid Movement, Hand Management, Modular Board, Rock-Paper-Scissors, Trading, Variable Player Powers\", \"Domains\": \"Strategy Games\"}, {\"ID\": 271896.0, \"Name\": \"Star Wars: Outer Rim\", \"Year Published\": 2019.0, \"Min Players\": 1, \"Max Players\": 4, \"Play Time\": 180, \"Min Age\": 14, \"Users Rated\": 5686, \"Rating Average\": \"7,74\", \"BGG Rank\": 265, \"Complexity Average\": \"2,47\", \"Owned Users\": 10696.0, \"Mechanics\": \"Dice Rolling, Modular Board, Pick-up and Deliver, Trading, Variable Player Powers\", \"Domains\": \"Thematic Games\"}, {\"ID\": 59959.0, \"Name\": \"Letters from Whitechapel\", \"Year Published\": 2011.0, \"Min Players\": 2, \"Max Players\": 6, \"Play Time\": 60, \"Min Age\": 14, \"Users Rated\": 13721, \"Rating Average\": \"7,40\", \"BGG Rank\": 266, \"Complexity Average\": \"2,66\", \"Owned Users\": 19087.0, \"Mechanics\": \"Hidden Movement, Memory, Point to Point Movement, Secret Unit Deployment, Team-Based Game\", \"Domains\": \"Strategy Games, Thematic Games\"}, {\"ID\": 227789.0, \"Name\": \"Heaven & Ale\", \"Year Published\": 2017.0, \"Min Players\": 2, \"Max Players\": 4, \"Play Time\": 90, \"Min Age\": 12, \"Users Rated\": 6424, \"Rating Average\": \"7,58\", \"BGG Rank\": 268, \"Complexity Average\": \"3,24\", \"Owned Users\": 8873.0, \"Mechanics\": \"Grid Coverage, Highest-Lowest Scoring, Once-Per-Game Abilities, Rondel, Tile Placement, Track Movement, Turn Order: Claim Action, Turn Order: Pass Order\", \"Domains\": \"Strategy Games\"}, {\"ID\": 163967.0, \"Name\": \"Tiny Epic Galaxies\", \"Year Published\": 2015.0, \"Min Players\": 1, \"Max Players\": 5, \"Play Time\": 45, \"Min Age\": 14, \"Users Rated\": 15720, \"Rating Average\": \"7,37\", \"BGG Rank\": 269, \"Complexity Average\": \"2,16\", \"Owned Users\": 27784.0, \"Mechanics\": \"Area Majority / Influence, Card Drafting, Dice Rolling, End Game Bonuses, Follow, Race, Re-rolling and Locking, Solo / Solitaire Game, Track Movement, Variable Phase Order, Variable Player Powers\", \"Domains\": \"Strategy Games\"}, {\"ID\": 25292.0, \"Name\": \"Merchants & Marauders\", \"Year Published\": 2010.0, \"Min Players\": 2, \"Max Players\": 4, \"Play Time\": 180, \"Min Age\": 13, \"Users Rated\": 12724, \"Rating Average\": \"7,41\", \"BGG Rank\": 270, \"Complexity Average\": \"3,24\", \"Owned Users\": 17407.0, \"Mechanics\": \"Action Points, Area Movement, Bias, Dice Rolling, Pick-up and Deliver, Race, Variable Player Powers, Variable Set-up\", \"Domains\": \"Thematic Games\"}, {\"ID\": 246784.0, \"Name\": \"Cryptid\", \"Year Published\": 2018.0, \"Min Players\": 3, \"Max Players\": 5, \"Play Time\": 50, \"Min Age\": 10, \"Users Rated\": 7503, \"Rating Average\": \"7,52\", \"BGG Rank\": 271, \"Complexity Average\": \"2,21\", \"Owned Users\": 10285.0, \"Mechanics\": \"Deduction, Hexagon Grid, Modular Board, Pattern Recognition\", \"Domains\": \"Family Games, Strategy Games\"}, {\"ID\": 143693.0, \"Name\": \"Glass Road\", \"Year Published\": 2013.0, \"Min Players\": 1, \"Max Players\": 4, \"Play Time\": 80, \"Min Age\": 13, \"Users Rated\": 9027, \"Rating Average\": \"7,45\", \"BGG Rank\": 273, \"Complexity Average\": \"2,97\", \"Owned Users\": 10946.0, \"Mechanics\": \"Card Drafting, Set Collection, Simultaneous Action Selection, Tile Placement, Variable Phase Order\", \"Domains\": \"Strategy Games\"}, {\"ID\": 176920.0, \"Name\": \"Mission: Red Planet (Second Edition)\", \"Year Published\": 2015.0, \"Min Players\": 2, \"Max Players\": 6, \"Play Time\": 90, \"Min Age\": 14, \"Users Rated\": 8893, \"Rating Average\": \"7,46\", \"BGG Rank\": 274, \"Complexity Average\": \"2,20\", \"Owned Users\": 11725.0, \"Mechanics\": \"Action Retrieval, Area Majority / Influence, Area Movement, Hand Management, Simultaneous Action Selection, Take That, Turn Order: Role Order\", \"Domains\": \"Strategy Games\"}, {\"ID\": 163745.0, \"Name\": \"Star Wars: Armada\", \"Year Published\": 2015.0, \"Min Players\": 2, \"Max Players\": 2, \"Play Time\": 120, \"Min Age\": 14, \"Users Rated\": 4589, \"Rating Average\": \"7,85\", \"BGG Rank\": 277, \"Complexity Average\": \"3,16\", \"Owned Users\": 9300.0, \"Mechanics\": \"Action Queue, Critical Hits and Failures, Dice Rolling, Movement Template, Simulation, Variable Player Powers\", \"Domains\": \"Thematic Games, Wargames\"}, {\"ID\": 296151.0, \"Name\": \"Viscounts of the West Kingdom\", \"Year Published\": 2020.0, \"Min Players\": 1, \"Max Players\": 4, \"Play Time\": 90, \"Min Age\": 12, \"Users Rated\": 2757, \"Rating Average\": \"8,16\", \"BGG Rank\": 279, \"Complexity Average\": \"3,50\", \"Owned Users\": 7744.0, \"Mechanics\": \"Deck Bag and Pool Building, Hand Management, Modular Board, Rondel, Set Collection, Solo / Solitaire Game, Variable Player Powers, Worker Placement\", \"Domains\": \"Strategy Games\"}, {\"ID\": 119890.0, \"Name\": \"Agricola: All Creatures Big and Small\", \"Year Published\": 2012.0, \"Min Players\": 2, \"Max Players\": 2, \"Play Time\": 30, \"Min Age\": 13, \"Users Rated\": 12323, \"Rating Average\": \"7,38\", \"BGG Rank\": 280, \"Complexity Average\": \"2,35\", \"Owned Users\": 17885.0, \"Mechanics\": \"Automatic Resource Growth, Enclosure, Increase Value of Unchosen Resources, Tile Placement, Worker Placement\", \"Domains\": \"Strategy Games\"}, {\"ID\": 283355.0, \"Name\": \"Dune\", \"Year Published\": 2019.0, \"Min Players\": 2, \"Max Players\": 6, \"Play Time\": 120, \"Min Age\": 14, \"Users Rated\": 3181, \"Rating Average\": \"8,16\", \"BGG Rank\": 285, \"Complexity Average\": \"3,89\", \"Owned Users\": 9178.0, \"Mechanics\": \"Alliances, Area Majority / Influence, Area Movement, Auction/Bidding, Bribery, Force Commitment, Map Deformation, Predictive Bid, Take That, Variable Player Powers\", \"Domains\": \"Strategy Games, Thematic Games\"}, {\"ID\": 182134.0, \"Name\": \"Evolution: Climate\", \"Year Published\": 2016.0, \"Min Players\": 2, \"Max Players\": 6, \"Play Time\": 60, \"Min Age\": 12, \"Users Rated\": 6082, \"Rating Average\": \"7,62\", \"BGG Rank\": 286, \"Complexity Average\": \"2,78\", \"Owned Users\": 10856.0, \"Mechanics\": \"Action Points, Events, Hand Management, Push Your Luck, Secret Unit Deployment, Simulation, Take That, Turn Order: Progressive\", \"Domains\": \"Strategy Games, Thematic Games\"}, {\"ID\": 234487.0, \"Name\": \"Altiplano\", \"Year Published\": 2017.0, \"Min Players\": 2, \"Max Players\": 5, \"Play Time\": 120, \"Min Age\": 12, \"Users Rated\": 6908, \"Rating Average\": \"7,54\", \"BGG Rank\": 288, \"Complexity Average\": \"3,33\", \"Owned Users\": 9511.0, \"Mechanics\": \"Action Points, Contracts, Deck Bag and Pool Building, Variable Player Powers\", \"Domains\": \"Strategy Games\"}, {\"ID\": 199042.0, \"Name\": \"Harry Potter: Hogwarts Battle\", \"Year Published\": 2016.0, \"Min Players\": 2, \"Max Players\": 4, \"Play Time\": 60, \"Min Age\": 11, \"Users Rated\": 11960, \"Rating Average\": \"7,46\", \"BGG Rank\": 290, \"Complexity Average\": \"2,08\", \"Owned Users\": 24045.0, \"Mechanics\": \"Cooperative Game, Deck Bag and Pool Building, Variable Player Powers\", \"Domains\": \"Strategy Games, Thematic Games\"}, {\"ID\": 219513.0, \"Name\": \"B\\u00e4renpark\", \"Year Published\": 2017.0, \"Min Players\": 2, \"Max Players\": 4, \"Play Time\": 45, \"Min Age\": 8, \"Users Rated\": 12028, \"Rating Average\": \"7,36\", \"BGG Rank\": 291, \"Complexity Average\": \"1,64\", \"Owned Users\": 16525.0, \"Mechanics\": \"Card Drafting, Grid Coverage, Set Collection, Tile Placement\", \"Domains\": \"Family Games\"}, {\"ID\": 192458.0, \"Name\": \"51st State: Master Set\", \"Year Published\": 2016.0, \"Min Players\": 1, \"Max Players\": 4, \"Play Time\": 90, \"Min Age\": 14, \"Users Rated\": 5156, \"Rating Average\": \"7,66\", \"BGG Rank\": 294, \"Complexity Average\": \"2,92\", \"Owned Users\": 7757.0, \"Mechanics\": \"Card Drafting, Hand Management, Variable Phase Order, Variable Player Powers, Worker Placement\", \"Domains\": \"Strategy Games\"}, {\"ID\": 204305.0, \"Name\": \"Sherlock Holmes Consulting Detective: Jack the Ripper & West End Adventures\", \"Year Published\": 2016.0, \"Min Players\": 1, \"Max Players\": 8, \"Play Time\": 120, \"Min Age\": 10, \"Users Rated\": 4138, \"Rating Average\": \"7,78\", \"BGG Rank\": 299, \"Complexity Average\": \"2,16\", \"Owned Users\": 12027.0, \"Mechanics\": \"Cooperative Game, Solo / Solitaire Game, Storytelling\", \"Domains\": \"Thematic Games\"}, {\"ID\": 144592.0, \"Name\": \"Bruxelles 1893\", \"Year Published\": 2013.0, \"Min Players\": 2, \"Max Players\": 5, \"Play Time\": 125, \"Min Age\": 13, \"Users Rated\": 4723, \"Rating Average\": \"7,65\", \"BGG Rank\": 301, \"Complexity Average\": \"3,59\", \"Owned Users\": 5615.0, \"Mechanics\": \"Area Majority / Influence, Auction/Bidding, Card Drafting, Modular Board, Worker Placement\", \"Domains\": \"Strategy Games\"}, {\"ID\": 90137.0, \"Name\": \"Blood Bowl: Team Manager - The Card Game\", \"Year Published\": 2011.0, \"Min Players\": 2, \"Max Players\": 4, \"Play Time\": 120, \"Min Age\": 14, \"Users Rated\": 10336, \"Rating Average\": \"7,38\", \"BGG Rank\": 304, \"Complexity Average\": \"2,33\", \"Owned Users\": 13609.0, \"Mechanics\": \"Area Majority / Influence, Card Drafting, Deck Bag and Pool Building, Dice Rolling, Hand Management\", \"Domains\": \"Thematic Games\"}, {\"ID\": 40765.0, \"Name\": \"Clash of Cultures\", \"Year Published\": 2012.0, \"Min Players\": 2, \"Max Players\": 4, \"Play Time\": 240, \"Min Age\": 14, \"Users Rated\": 5185, \"Rating Average\": \"7,62\", \"BGG Rank\": 305, \"Complexity Average\": \"3,59\", \"Owned Users\": 6107.0, \"Mechanics\": \"Action Points, Area Majority / Influence, Dice Rolling, Grid Movement, Hand Management, Modular Board, Tech Trees / Tech Tracks, Trading\", \"Domains\": \"Strategy Games\"}, {\"ID\": 256226.0, \"Name\": \"Azul: Stained Glass of Sintra\", \"Year Published\": 2018.0, \"Min Players\": 2, \"Max Players\": 4, \"Play Time\": 45, \"Min Age\": 8, \"Users Rated\": 8824, \"Rating Average\": \"7,42\", \"BGG Rank\": 306, \"Complexity Average\": \"1,98\", \"Owned Users\": 13520.0, \"Mechanics\": \"Drafting, End Game Bonuses, Modular Board, Pattern Building, Set Collection, Tile Placement, Turn Order: Claim Action\", \"Domains\": \"Family Games\"}, {\"ID\": 184921.0, \"Name\": \"Bunny Kingdom\", \"Year Published\": 2017.0, \"Min Players\": 2, \"Max Players\": 4, \"Play Time\": 60, \"Min Age\": 12, \"Users Rated\": 7627, \"Rating Average\": \"7,46\", \"BGG Rank\": 307, \"Complexity Average\": \"2,27\", \"Owned Users\": 10923.0, \"Mechanics\": \"Area Majority / Influence, Card Drafting, Drafting, End Game Bonuses\", \"Domains\": \"Family Games\"}, {\"ID\": 197376.0, \"Name\": \"Charterstone\", \"Year Published\": 2017.0, \"Min Players\": 1, \"Max Players\": 6, \"Play Time\": 75, \"Min Age\": 14, \"Users Rated\": 11747, \"Rating Average\": \"7,38\", \"BGG Rank\": 308, \"Complexity Average\": \"2,82\", \"Owned Users\": 22122.0, \"Mechanics\": \"Card Drafting, Catch the Leader, Hand Management, Legacy Game, Scenario / Mission / Campaign Game, Solo / Solitaire Game, Worker Placement\", \"Domains\": \"Strategy Games\"}, {\"ID\": 257499.0, \"Name\": \"Arkham Horror (Third Edition)\", \"Year Published\": 2018.0, \"Min Players\": 1, \"Max Players\": 6, \"Play Time\": 180, \"Min Age\": 14, \"Users Rated\": 4896, \"Rating Average\": \"7,78\", \"BGG Rank\": 313, \"Complexity Average\": \"3,27\", \"Owned Users\": 9371.0, \"Mechanics\": \"Cooperative Game, Dice Rolling, Modular Board, Stat Check Resolution, Variable Player Powers\", \"Domains\": \"Thematic Games\"}, {\"ID\": 250458.0, \"Name\": \"G\\u00f9g\\u014dng\", \"Year Published\": 2018.0, \"Min Players\": 1, \"Max Players\": 5, \"Play Time\": 90, \"Min Age\": 12, \"Users Rated\": 6130, \"Rating Average\": \"7,53\", \"BGG Rank\": 315, \"Complexity Average\": \"3,06\", \"Owned Users\": 9008.0, \"Mechanics\": \"Hand Management, Set Collection, Worker Placement\", \"Domains\": \"Strategy Games\"}, {\"ID\": 186751.0, \"Name\": \"Mythic Battles: Pantheon\", \"Year Published\": 2017.0, \"Min Players\": 2, \"Max Players\": 4, \"Play Time\": 90, \"Min Age\": 14, \"Users Rated\": 2543, \"Rating Average\": \"8,46\", \"BGG Rank\": 316, \"Complexity Average\": \"3,01\", \"Owned Users\": 5234.0, \"Mechanics\": \"Area Movement, Campaign / Battle Card Driven, Card Drafting, Dice Rolling, Hand Management, Player Elimination, Simulation, Variable Player Powers\", \"Domains\": \"Strategy Games\"}, {\"ID\": 265736.0, \"Name\": \"Tiny Towns\", \"Year Published\": 2019.0, \"Min Players\": 1, \"Max Players\": 6, \"Play Time\": 60, \"Min Age\": 14, \"Users Rated\": 10174, \"Rating Average\": \"7,36\", \"BGG Rank\": 318, \"Complexity Average\": \"2,08\", \"Owned Users\": 16047.0, \"Mechanics\": \"Bingo, End Game Bonuses, Follow, Grid Coverage, Pattern Building, Solo / Solitaire Game, Turn Order: Progressive, Variable Phase Order, Variable Player Powers, Variable Set-up\", \"Domains\": \"Family Games\"}, {\"ID\": 166669.0, \"Name\": \"San Juan (Second Edition)\", \"Year Published\": 2014.0, \"Min Players\": 2, \"Max Players\": 4, \"Play Time\": 60, \"Min Age\": 10, \"Users Rated\": 5841, \"Rating Average\": \"7,52\", \"BGG Rank\": 319, \"Complexity Average\": \"2,07\", \"Owned Users\": 9109.0, \"Mechanics\": \"Follow, Hand Management, Set Collection, Variable Phase Order\", \"Domains\": \"Strategy Games\"}, {\"ID\": 246192.0, \"Name\": \"Gizmos\", \"Year Published\": 2018.0, \"Min Players\": 2, \"Max Players\": 4, \"Play Time\": 50, \"Min Age\": 14, \"Users Rated\": 7386, \"Rating Average\": \"7,45\", \"BGG Rank\": 320, \"Complexity Average\": \"2,02\", \"Owned Users\": 10236.0, \"Mechanics\": \"Card Drafting, Contracts\", \"Domains\": \"Family Games\"}, {\"ID\": 198773.0, \"Name\": \"Codenames: Pictures\", \"Year Published\": 2016.0, \"Min Players\": 2, \"Max Players\": 8, \"Play Time\": 15, \"Min Age\": 10, \"Users Rated\": 17032, \"Rating Average\": \"7,26\", \"BGG Rank\": 321, \"Complexity Average\": \"1,27\", \"Owned Users\": 29502.0, \"Mechanics\": \"Communication Limits, Memory, Push Your Luck, Team-Based Game\", \"Domains\": \"Party Games\"}, {\"ID\": 283155.0, \"Name\": \"Calico\", \"Year Published\": 2020.0, \"Min Players\": 1, \"Max Players\": 4, \"Play Time\": 45, \"Min Age\": 13, \"Users Rated\": 2986, \"Rating Average\": \"8,00\", \"BGG Rank\": 324, \"Complexity Average\": \"2,19\", \"Owned Users\": 5978.0, \"Mechanics\": \"Hexagon Grid, Pattern Building, Scenario / Mission / Campaign Game, Set Collection, Solo / Solitaire Game, Tile Placement\", \"Domains\": \"Abstract Games, Family Games\"}, {\"ID\": 124708.0, \"Name\": \"Mice and Mystics\", \"Year Published\": 2012.0, \"Min Players\": 1, \"Max Players\": 4, \"Play Time\": 90, \"Min Age\": 7, \"Users Rated\": 16743, \"Rating Average\": \"7,30\", \"BGG Rank\": 325, \"Complexity Average\": \"2,71\", \"Owned Users\": 32616.0, \"Mechanics\": \"Area Movement, Cooperative Game, Dice Rolling, Role Playing, Storytelling, Variable Player Powers\", \"Domains\": \"Thematic Games\"}, {\"ID\": 170771.0, \"Name\": \"Sword & Sorcery\", \"Year Published\": 2017.0, \"Min Players\": 1, \"Max Players\": 5, \"Play Time\": 90, \"Min Age\": 12, \"Users Rated\": 3632, \"Rating Average\": \"8,04\", \"BGG Rank\": 326, \"Complexity Average\": \"4,03\", \"Owned Users\": 7907.0, \"Mechanics\": \"Action Points, Area Movement, Cooperative Game, Dice Rolling, Modular Board, Role Playing, Solo / Solitaire Game, Variable Player Powers\", \"Domains\": \"Thematic Games\"}, {\"ID\": 314040.0, \"Name\": \"Pandemic Legacy: Season 0\", \"Year Published\": 2020.0, \"Min Players\": 2, \"Max Players\": 4, \"Play Time\": 60, \"Min Age\": 14, \"Users Rated\": 1536, \"Rating Average\": \"8,80\", \"BGG Rank\": 328, \"Complexity Average\": \"3,13\", \"Owned Users\": 5197.0, \"Mechanics\": \"Action Points, Cooperative Game, Hand Management, Legacy Game, Point to Point Movement, Set Collection, Variable Player Powers\", \"Domains\": \"Strategy Games, Thematic Games\"}, {\"ID\": 63628.0, \"Name\": \"The Manhattan Project\", \"Year Published\": 2012.0, \"Min Players\": 2, \"Max Players\": 5, \"Play Time\": 120, \"Min Age\": 13, \"Users Rated\": 9105, \"Rating Average\": \"7,36\", \"BGG Rank\": 329, \"Complexity Average\": \"2,96\", \"Owned Users\": 11631.0, \"Mechanics\": \"Drafting, Race, Take That, Worker Placement, Worker Placement, Different Worker Types\", \"Domains\": \"Strategy Games\"}, {\"ID\": 66188.0, \"Name\": \"Fresco\", \"Year Published\": 2010.0, \"Min Players\": 2, \"Max Players\": 4, \"Play Time\": 60, \"Min Age\": 10, \"Users Rated\": 11842, \"Rating Average\": \"7,29\", \"BGG Rank\": 331, \"Complexity Average\": \"2,64\", \"Owned Users\": 14361.0, \"Mechanics\": \"Action Queue, Grid Movement, Set Collection, Simultaneous Action Selection\", \"Domains\": \"Family Games, Strategy Games\"}, {\"ID\": 63888.0, \"Name\": \"Innovation\", \"Year Published\": 2010.0, \"Min Players\": 2, \"Max Players\": 4, \"Play Time\": 60, \"Min Age\": 12, \"Users Rated\": 14865, \"Rating Average\": \"7,25\", \"BGG Rank\": 334, \"Complexity Average\": \"2,74\", \"Owned Users\": 18817.0, \"Mechanics\": \"Advantage Token, Hand Management, Layering, Melding and Splaying, Tech Trees / Tech Tracks, Variable Phase Order\", \"Domains\": \"Strategy Games\"}, {\"ID\": 195539.0, \"Name\": \"The Godfather: Corleone's Empire\", \"Year Published\": 2017.0, \"Min Players\": 2, \"Max Players\": 5, \"Play Time\": 90, \"Min Age\": 14, \"Users Rated\": 5727, \"Rating Average\": \"7,55\", \"BGG Rank\": 335, \"Complexity Average\": \"2,60\", \"Owned Users\": 8895.0, \"Mechanics\": \"Area Majority / Influence, Auction/Bidding, Card Drafting, Hand Management, Memory, Take That, Variable Player Powers, Worker Placement, Worker Placement, Different Worker Types\", \"Domains\": \"Strategy Games, Thematic Games\"}, {\"ID\": 194594.0, \"Name\": \"Dice Forge\", \"Year Published\": 2017.0, \"Min Players\": 2, \"Max Players\": 4, \"Play Time\": 45, \"Min Age\": 10, \"Users Rated\": 14853, \"Rating Average\": \"7,29\", \"BGG Rank\": 336, \"Complexity Average\": \"1,97\", \"Owned Users\": 22404.0, \"Mechanics\": \"Card Drafting, Deck Bag and Pool Building, Dice Rolling, Random Production\", \"Domains\": \"Family Games\"}, {\"ID\": 236191.0, \"Name\": \"London (Second Edition)\", \"Year Published\": 2017.0, \"Min Players\": 2, \"Max Players\": 4, \"Play Time\": 90, \"Min Age\": 14, \"Users Rated\": 4458, \"Rating Average\": \"7,61\", \"BGG Rank\": 338, \"Complexity Average\": \"2,69\", \"Owned Users\": 6990.0, \"Mechanics\": \"Action Queue, Card Drafting, Hand Management, Loans\", \"Domains\": \"Strategy Games\"}, {\"ID\": 229220.0, \"Name\": \"Santa Maria\", \"Year Published\": 2017.0, \"Min Players\": 1, \"Max Players\": 4, \"Play Time\": 90, \"Min Age\": 12, \"Users Rated\": 5220, \"Rating Average\": \"7,55\", \"BGG Rank\": 339, \"Complexity Average\": \"3,06\", \"Owned Users\": 7106.0, \"Mechanics\": \"Card Drafting, Dice Rolling, Network and Route Building, Set Collection, Tile Placement, Variable Player Powers\", \"Domains\": \"Strategy Games\"}, {\"ID\": 79828.0, \"Name\": \"A Few Acres of Snow\", \"Year Published\": 2011.0, \"Min Players\": 2, \"Max Players\": 2, \"Play Time\": 120, \"Min Age\": 14, \"Users Rated\": 7427, \"Rating Average\": \"7,40\", \"BGG Rank\": 340, \"Complexity Average\": \"3,04\", \"Owned Users\": 8921.0, \"Mechanics\": \"Area Majority / Influence, Card Drafting, Deck Bag and Pool Building, Hand Management, Point to Point Movement\", \"Domains\": \"Strategy Games, Wargames\"}, {\"ID\": 161614.0, \"Name\": \"Stockpile\", \"Year Published\": 2015.0, \"Min Players\": 2, \"Max Players\": 5, \"Play Time\": 45, \"Min Age\": 13, \"Users Rated\": 5525, \"Rating Average\": \"7,52\", \"BGG Rank\": 341, \"Complexity Average\": \"2,11\", \"Owned Users\": 6640.0, \"Mechanics\": \"Auction/Bidding, Auction: Fixed Placement, Card Drafting, Commodity Speculation, Constrained Bidding, Investment, Market, Stock Holding, Victory Points as a Resource\", \"Domains\": \"Family Games, Strategy Games\"}, {\"ID\": 155987.0, \"Name\": \"Abyss\", \"Year Published\": 2014.0, \"Min Players\": 2, \"Max Players\": 4, \"Play Time\": 60, \"Min Age\": 14, \"Users Rated\": 10215, \"Rating Average\": \"7,33\", \"BGG Rank\": 342, \"Complexity Average\": \"2,32\", \"Owned Users\": 12929.0, \"Mechanics\": \"Auction/Bidding, Card Drafting, Hand Management, Memory, Push Your Luck, Set Collection\", \"Domains\": \"Strategy Games\"}, {\"ID\": 156546.0, \"Name\": \"Monikers\", \"Year Published\": 2015.0, \"Min Players\": 4, \"Max Players\": 16, \"Play Time\": 60, \"Min Age\": 17, \"Users Rated\": 3491, \"Rating Average\": \"7,79\", \"BGG Rank\": 343, \"Complexity Average\": \"1,06\", \"Owned Users\": 6612.0, \"Mechanics\": \"Acting, Card Drafting, Role Playing, Singing\", \"Domains\": \"Party Games\"}, {\"ID\": 138161.0, \"Name\": \"Firefly: The Game\", \"Year Published\": 2013.0, \"Min Players\": 1, \"Max Players\": 4, \"Play Time\": 240, \"Min Age\": 13, \"Users Rated\": 10524, \"Rating Average\": \"7,39\", \"BGG Rank\": 344, \"Complexity Average\": \"2,96\", \"Owned Users\": 19170.0, \"Mechanics\": \"Area Movement, Card Drafting, Dice Rolling, Pick-up and Deliver, Solo / Solitaire Game, Take That, Trading, Variable Player Powers\", \"Domains\": \"Thematic Games\"}, {\"ID\": 100901.0, \"Name\": \"Flash Point: Fire Rescue\", \"Year Published\": 2011.0, \"Min Players\": 2, \"Max Players\": 6, \"Play Time\": 45, \"Min Age\": 10, \"Users Rated\": 20947, \"Rating Average\": \"7,20\", \"BGG Rank\": 345, \"Complexity Average\": \"2,21\", \"Owned Users\": 32892.0, \"Mechanics\": \"Action Points, Cooperative Game, Dice Rolling, Grid Movement, Pick-up and Deliver, Simulation, Solo / Solitaire Game, Square Grid, Variable Player Powers\", \"Domains\": \"Family Games, Thematic Games\"}, {\"ID\": 215341.0, \"Name\": \"Thunderstone Quest\", \"Year Published\": 2018.0, \"Min Players\": 2, \"Max Players\": 4, \"Play Time\": 90, \"Min Age\": 14, \"Users Rated\": 3159, \"Rating Average\": \"7,91\", \"BGG Rank\": 346, \"Complexity Average\": \"2,80\", \"Owned Users\": 6810.0, \"Mechanics\": \"Deck Bag and Pool Building\", \"Domains\": \"Strategy Games\"}, {\"ID\": 96913.0, \"Name\": \"Lancaster\", \"Year Published\": 2011.0, \"Min Players\": 2, \"Max Players\": 5, \"Play Time\": 60, \"Min Age\": 10, \"Users Rated\": 6675, \"Rating Average\": \"7,42\", \"BGG Rank\": 347, \"Complexity Average\": \"2,99\", \"Owned Users\": 7593.0, \"Mechanics\": \"Area Majority / Influence, Auction/Bidding, Voting, Worker Placement, Worker Placement, Different Worker Types\", \"Domains\": \"Strategy Games\"}, {\"ID\": 66362.0, \"Name\": \"Glen More\", \"Year Published\": 2010.0, \"Min Players\": 2, \"Max Players\": 5, \"Play Time\": 70, \"Min Age\": 10, \"Users Rated\": 8686, \"Rating Average\": \"7,32\", \"BGG Rank\": 348, \"Complexity Average\": \"2,67\", \"Owned Users\": 8092.0, \"Mechanics\": \"Commodity Speculation, Dice Rolling, Rondel, Set Collection, Tile Placement, Time Track, Track Movement\", \"Domains\": \"Strategy Games\"}, {\"ID\": 244711.0, \"Name\": \"Newton\", \"Year Published\": 2018.0, \"Min Players\": 1, \"Max Players\": 4, \"Play Time\": 90, \"Min Age\": 14, \"Users Rated\": 4335, \"Rating Average\": \"7,62\", \"BGG Rank\": 349, \"Complexity Average\": \"3,40\", \"Owned Users\": 5982.0, \"Mechanics\": \"Card Drafting, Deck Bag and Pool Building, Drafting, End Game Bonuses, Hand Management, Income, Point to Point Movement, Solo / Solitaire Game, Tech Trees / Tech Tracks, Tile Placement, Turn Order: Progressive, Variable Set-up\", \"Domains\": \"Strategy Games\"}, {\"ID\": 176396.0, \"Name\": \"Quadropolis\", \"Year Published\": 2016.0, \"Min Players\": 2, \"Max Players\": 4, \"Play Time\": 60, \"Min Age\": 8, \"Users Rated\": 11050, \"Rating Average\": \"7,29\", \"BGG Rank\": 350, \"Complexity Average\": \"2,21\", \"Owned Users\": 15563.0, \"Mechanics\": \"Hand Management, Pattern Building, Set Collection, Tile Placement\", \"Domains\": \"Family Games\"}, {\"ID\": 105134.0, \"Name\": \"Risk Legacy\", \"Year Published\": 2011.0, \"Min Players\": 3, \"Max Players\": 5, \"Play Time\": 60, \"Min Age\": 13, \"Users Rated\": 7555, \"Rating Average\": \"7,42\", \"BGG Rank\": 351, \"Complexity Average\": \"2,59\", \"Owned Users\": 13217.0, \"Mechanics\": \"Area Movement, Card Drafting, Dice Rolling, Legacy Game, Player Elimination, Variable Player Powers\", \"Domains\": \"Strategy Games\"}, {\"ID\": 260428.0, \"Name\": \"Pandemic: Fall of Rome\", \"Year Published\": 2018.0, \"Min Players\": 1, \"Max Players\": 5, \"Play Time\": 60, \"Min Age\": 8, \"Users Rated\": 3858, \"Rating Average\": \"7,71\", \"BGG Rank\": 353, \"Complexity Average\": \"2,45\", \"Owned Users\": 7133.0, \"Mechanics\": \"Action Points, Cooperative Game, Dice Rolling, Hand Management, Point to Point Movement, Set Collection, Solo / Solitaire Game, Variable Player Powers\", \"Domains\": \"Strategy Games\"}, {\"ID\": 151347.0, \"Name\": \"Millennium Blades\", \"Year Published\": 2016.0, \"Min Players\": 2, \"Max Players\": 5, \"Play Time\": 120, \"Min Age\": 12, \"Users Rated\": 3895, \"Rating Average\": \"7,72\", \"BGG Rank\": 354, \"Complexity Average\": \"3,68\", \"Owned Users\": 6213.0, \"Mechanics\": \"Card Drafting, Commodity Speculation, Hand Management, Set Collection, Simulation, Trading\", \"Domains\": \"Thematic Games\"}, {\"ID\": 245934.0, \"Name\": \"Carpe Diem\", \"Year Published\": 2018.0, \"Min Players\": 2, \"Max Players\": 4, \"Play Time\": 75, \"Min Age\": 10, \"Users Rated\": 4687, \"Rating Average\": \"7,58\", \"BGG Rank\": 357, \"Complexity Average\": \"2,52\", \"Owned Users\": 6568.0, \"Mechanics\": \"Card Drafting, Tile Placement\", \"Domains\": \"Strategy Games\"}, {\"ID\": 215311.0, \"Name\": \"Downforce\", \"Year Published\": 2017.0, \"Min Players\": 2, \"Max Players\": 6, \"Play Time\": 40, \"Min Age\": 10, \"Users Rated\": 7914, \"Rating Average\": \"7,36\", \"BGG Rank\": 358, \"Complexity Average\": \"1,74\", \"Owned Users\": 10509.0, \"Mechanics\": \"Auction/Bidding, Betting and Bluffing, Hand Management, Moving Multiple Units, Race, Track Movement, Variable Player Powers\", \"Domains\": \"Family Games\"}, {\"ID\": 230253.0, \"Name\": \"Star Realms: Frontiers\", \"Year Published\": 2018.0, \"Min Players\": 1, \"Max Players\": 4, \"Play Time\": 45, \"Min Age\": 12, \"Users Rated\": 2643, \"Rating Average\": \"8,02\", \"BGG Rank\": 359, \"Complexity Average\": \"1,88\", \"Owned Users\": 7605.0, \"Mechanics\": \"Card Drafting, Cooperative Game, Deck Bag and Pool Building, Player Elimination, Solo / Solitaire Game, Take That\", \"Domains\": \"Strategy Games\"}, {\"ID\": 150658.0, \"Name\": \"Pandemic: The Cure\", \"Year Published\": 2014.0, \"Min Players\": 2, \"Max Players\": 5, \"Play Time\": 30, \"Min Age\": 8, \"Users Rated\": 9398, \"Rating Average\": \"7,30\", \"BGG Rank\": 360, \"Complexity Average\": \"2,06\", \"Owned Users\": 14711.0, \"Mechanics\": \"Cooperative Game, Dice Rolling, Hand Management, Point to Point Movement, Push Your Luck, Set Collection, Solo / Solitaire Game, Variable Player Powers\", \"Domains\": \"Family Games, Strategy Games\"}, {\"ID\": 137408.0, \"Name\": \"Amerigo\", \"Year Published\": 2013.0, \"Min Players\": 2, \"Max Players\": 4, \"Play Time\": 90, \"Min Age\": 10, \"Users Rated\": 5501, \"Rating Average\": \"7,47\", \"BGG Rank\": 362, \"Complexity Average\": \"2,99\", \"Owned Users\": 7241.0, \"Mechanics\": \"Action Points, Cube Tower, Grid Movement, Modular Board, Tile Placement\", \"Domains\": \"Strategy Games\"}, {\"ID\": 234277.0, \"Name\": \"Nusfjord\", \"Year Published\": 2017.0, \"Min Players\": 1, \"Max Players\": 5, \"Play Time\": 100, \"Min Age\": 12, \"Users Rated\": 4124, \"Rating Average\": \"7,62\", \"BGG Rank\": 364, \"Complexity Average\": \"2,86\", \"Owned Users\": 6581.0, \"Mechanics\": \"Worker Placement\", \"Domains\": \"Strategy Games\"}, {\"ID\": 128671.0, \"Name\": \"Spartacus: A Game of Blood and Treachery\", \"Year Published\": 2012.0, \"Min Players\": 3, \"Max Players\": 4, \"Play Time\": 180, \"Min Age\": 17, \"Users Rated\": 7172, \"Rating Average\": \"7,46\", \"BGG Rank\": 365, \"Complexity Average\": \"2,71\", \"Owned Users\": 9373.0, \"Mechanics\": \"Auction/Bidding, Betting and Bluffing, Bribery, Dice Rolling, Grid Movement, Hand Management, Movement Points, Sudden Death Ending, Trading, Variable Player Powers\", \"Domains\": \"Thematic Games\"}, {\"ID\": 269210.0, \"Name\": \"Twice as Clever!\", \"Year Published\": 2019.0, \"Min Players\": 1, \"Max Players\": 4, \"Play Time\": 30, \"Min Age\": 10, \"Users Rated\": 4915, \"Rating Average\": \"7,53\", \"BGG Rank\": 371, \"Complexity Average\": \"2,36\", \"Owned Users\": 8628.0, \"Mechanics\": \"Dice Rolling, Drafting, Paper-and-Pencil, Re-rolling and Locking\", \"Domains\": \"Family Games\"}, {\"ID\": 188866.0, \"Name\": \"Awkward Guests\", \"Year Published\": 2016.0, \"Min Players\": 1, \"Max Players\": 8, \"Play Time\": 75, \"Min Age\": 12, \"Users Rated\": 3648, \"Rating Average\": \"7,73\", \"BGG Rank\": 372, \"Complexity Average\": \"2,36\", \"Owned Users\": 6701.0, \"Mechanics\": \"Card Drafting, Hand Management, Trading\", \"Domains\": \"Family Games\"}, {\"ID\": 192153.0, \"Name\": \"Pandemic: Reign of Cthulhu\", \"Year Published\": 2016.0, \"Min Players\": 2, \"Max Players\": 4, \"Play Time\": 40, \"Min Age\": 14, \"Users Rated\": 7890, \"Rating Average\": \"7,40\", \"BGG Rank\": 374, \"Complexity Average\": \"2,18\", \"Owned Users\": 14296.0, \"Mechanics\": \"Action Points, Cooperative Game, Hand Management, Point to Point Movement, Set Collection, Trading, Variable Player Powers\", \"Domains\": \"Strategy Games, Thematic Games\"}, {\"ID\": 128996.0, \"Name\": \"1775: Rebellion\", \"Year Published\": 2013.0, \"Min Players\": 2, \"Max Players\": 4, \"Play Time\": 120, \"Min Age\": 10, \"Users Rated\": 3712, \"Rating Average\": \"7,67\", \"BGG Rank\": 375, \"Complexity Average\": \"2,24\", \"Owned Users\": 5129.0, \"Mechanics\": \"Area Majority / Influence, Area Movement, Campaign / Battle Card Driven, Command Cards, Dice Rolling, Die Icon Resolution, Team-Based Game, Turn Order: Random, Variable Player Powers\", \"Domains\": \"Wargames\"}, {\"ID\": 92415.0, \"Name\": \"Skull\", \"Year Published\": 2011.0, \"Min Players\": 3, \"Max Players\": 6, \"Play Time\": 45, \"Min Age\": 10, \"Users Rated\": 14213, \"Rating Average\": \"7,21\", \"BGG Rank\": 376, \"Complexity Average\": \"1,14\", \"Owned Users\": 20841.0, \"Mechanics\": \"Auction/Bidding, Hand Management, Player Elimination\", \"Domains\": \"Party Games\"}, {\"ID\": 146791.0, \"Name\": \"Shadows of Brimstone: City of the Ancients\", \"Year Published\": 2014.0, \"Min Players\": 1, \"Max Players\": 4, \"Play Time\": 120, \"Min Age\": 12, \"Users Rated\": 3401, \"Rating Average\": \"7,97\", \"BGG Rank\": 379, \"Complexity Average\": \"3,34\", \"Owned Users\": 6653.0, \"Mechanics\": \"Cooperative Game, Dice Rolling, Grid Movement, Modular Board, Role Playing, Variable Player Powers\", \"Domains\": \"Thematic Games\"}, {\"ID\": 177639.0, \"Name\": \"Raptor\", \"Year Published\": 2015.0, \"Min Players\": 2, \"Max Players\": 2, \"Play Time\": 30, \"Min Age\": 9, \"Users Rated\": 7897, \"Rating Average\": \"7,33\", \"BGG Rank\": 381, \"Complexity Average\": \"2,06\", \"Owned Users\": 11869.0, \"Mechanics\": \"Action Points, Action Retrieval, Action/Event, Grid Movement, Hand Management, Modular Board, Simultaneous Action Selection, Take That, Variable Player Powers\", \"Domains\": \"Family Games, Strategy Games\"}, {\"ID\": 274960.0, \"Name\": \"Point Salad\", \"Year Published\": 2019.0, \"Min Players\": 2, \"Max Players\": 6, \"Play Time\": 30, \"Min Age\": 8, \"Users Rated\": 8042, \"Rating Average\": \"7,33\", \"BGG Rank\": 382, \"Complexity Average\": \"1,15\", \"Owned Users\": 14054.0, \"Mechanics\": \"Card Drafting, Set Collection\", \"Domains\": \"Family Games\"}, {\"ID\": 83330.0, \"Name\": \"Mansions of Madness\", \"Year Published\": 2011.0, \"Min Players\": 2, \"Max Players\": 5, \"Play Time\": 180, \"Min Age\": 13, \"Users Rated\": 12747, \"Rating Average\": \"7,29\", \"BGG Rank\": 383, \"Complexity Average\": \"3,24\", \"Owned Users\": 18478.0, \"Mechanics\": \"Area Movement, Dice Rolling, Hand Management, Modular Board, Pick-up and Deliver, Role Playing, Scenario / Mission / Campaign Game, Team-Based Game, Variable Player Powers\", \"Domains\": \"Thematic Games\"}, {\"ID\": 95527.0, \"Name\": \"Madeira\", \"Year Published\": 2013.0, \"Min Players\": 2, \"Max Players\": 4, \"Play Time\": 150, \"Min Age\": 12, \"Users Rated\": 3910, \"Rating Average\": \"7,62\", \"BGG Rank\": 384, \"Complexity Average\": \"4,29\", \"Owned Users\": 5126.0, \"Mechanics\": \"Area Majority / Influence, Dice Rolling, Turn Order: Pass Order, Turn Order: Stat-Based, Worker Placement, Worker Placement with Dice Workers\", \"Domains\": \"Strategy Games\"}, {\"ID\": 62227.0, \"Name\": \"Labyrinth: The War on Terror, 2001 - ?\", \"Year Published\": 2010.0, \"Min Players\": 1, \"Max Players\": 2, \"Play Time\": 180, \"Min Age\": 12, \"Users Rated\": 4315, \"Rating Average\": \"7,59\", \"BGG Rank\": 385, \"Complexity Average\": \"3,63\", \"Owned Users\": 8633.0, \"Mechanics\": \"Action Points, Action/Event, Area Majority / Influence, Campaign / Battle Card Driven, Command Cards, Dice Rolling, Events, Hand Management, Moving Multiple Units, Point to Point Movement, Scenario / Mission / Campaign Game, Simulation, Solo / Solitaire Game, Stat Check Resolution, Sudden Death Ending, Tug of War, Variable Player Powers\", \"Domains\": \"Strategy Games, Wargames\"}, {\"ID\": 194607.0, \"Name\": \"Mystic Vale\", \"Year Published\": 2016.0, \"Min Players\": 2, \"Max Players\": 4, \"Play Time\": 45, \"Min Age\": 14, \"Users Rated\": 8975, \"Rating Average\": \"7,30\", \"BGG Rank\": 386, \"Complexity Average\": \"2,25\", \"Owned Users\": 13372.0, \"Mechanics\": \"Deck Bag and Pool Building, Layering, Push Your Luck\", \"Domains\": \"Strategy Games\"}, {\"ID\": 162082.0, \"Name\": \"Deus\", \"Year Published\": 2014.0, \"Min Players\": 2, \"Max Players\": 4, \"Play Time\": 90, \"Min Age\": 14, \"Users Rated\": 7293, \"Rating Average\": \"7,32\", \"BGG Rank\": 388, \"Complexity Average\": \"2,85\", \"Owned Users\": 8826.0, \"Mechanics\": \"Area Majority / Influence, Grid Movement, Hand Management, Hexagon Grid, Kill Steal, Modular Board, Network and Route Building, Victory Points as a Resource\", \"Domains\": \"Strategy Games\"}, {\"ID\": 260605.0, \"Name\": \"Camel Up (Second Edition)\", \"Year Published\": 2018.0, \"Min Players\": 3, \"Max Players\": 8, \"Play Time\": 45, \"Min Age\": 8, \"Users Rated\": 3744, \"Rating Average\": \"7,67\", \"BGG Rank\": 389, \"Complexity Average\": \"1,51\", \"Owned Users\": 6626.0, \"Mechanics\": \"Betting and Bluffing, Dice Rolling, Roll / Spin and Move, Track Movement\", \"Domains\": \"Family Games, Party Games\"}, {\"ID\": 65781.0, \"Name\": \"London\", \"Year Published\": 2010.0, \"Min Players\": 2, \"Max Players\": 4, \"Play Time\": 90, \"Min Age\": 13, \"Users Rated\": 6281, \"Rating Average\": \"7,36\", \"BGG Rank\": 390, \"Complexity Average\": \"2,88\", \"Owned Users\": 5776.0, \"Mechanics\": \"Card Drafting, Hand Management\", \"Domains\": \"Strategy Games\"}, {\"ID\": 158899.0, \"Name\": \"Colt Express\", \"Year Published\": 2014.0, \"Min Players\": 2, \"Max Players\": 6, \"Play Time\": 40, \"Min Age\": 10, \"Users Rated\": 24739, \"Rating Average\": \"7,12\", \"BGG Rank\": 391, \"Complexity Average\": \"1,82\", \"Owned Users\": 34522.0, \"Mechanics\": \"Action Queue, Hand Management, Memory, Programmed Movement, Take That, Variable Player Powers\", \"Domains\": \"Family Games\"}, {\"ID\": 105551.0, \"Name\": \"Archipelago\", \"Year Published\": 2012.0, \"Min Players\": 2, \"Max Players\": 5, \"Play Time\": 240, \"Min Age\": 14, \"Users Rated\": 7373, \"Rating Average\": \"7,34\", \"BGG Rank\": 392, \"Complexity Average\": \"3,73\", \"Owned Users\": 9903.0, \"Mechanics\": \"Area Majority / Influence, Auction/Bidding, Commodity Speculation, Grid Movement, Hexagon Grid, Map Addition, Modular Board, Semi-Cooperative Game, Tile Placement, Trading, Traitor Game, Worker Placement\", \"Domains\": \"Strategy Games\"}, {\"ID\": 127398.0, \"Name\": \"Legends of Andor\", \"Year Published\": 2012.0, \"Min Players\": 2, \"Max Players\": 4, \"Play Time\": 90, \"Min Age\": 10, \"Users Rated\": 15017, \"Rating Average\": \"7,21\", \"BGG Rank\": 396, \"Complexity Average\": \"2,77\", \"Owned Users\": 25407.0, \"Mechanics\": \"Area Movement, Cooperative Game, Dice Rolling, Scenario / Mission / Campaign Game, Variable Player Powers\", \"Domains\": \"Thematic Games\"}, {\"ID\": 206941.0, \"Name\": \"First Class: All Aboard the Orient Express!\", \"Year Published\": 2016.0, \"Min Players\": 2, \"Max Players\": 4, \"Play Time\": 80, \"Min Age\": 10, \"Users Rated\": 4843, \"Rating Average\": \"7,47\", \"BGG Rank\": 397, \"Complexity Average\": \"2,78\", \"Owned Users\": 6457.0, \"Mechanics\": \"Card Drafting, Set Collection, Variable Set-up\", \"Domains\": \"Strategy Games\"}, {\"ID\": 102652.0, \"Name\": \"Sentinels of the Multiverse\", \"Year Published\": 2011.0, \"Min Players\": 2, \"Max Players\": 5, \"Play Time\": 60, \"Min Age\": 8, \"Users Rated\": 14766, \"Rating Average\": \"7,22\", \"BGG Rank\": 399, \"Complexity Average\": \"2,50\", \"Owned Users\": 21057.0, \"Mechanics\": \"Cooperative Game, Hand Management, Solo / Solitaire Game, Variable Player Powers\", \"Domains\": \"Thematic Games\"}, {\"ID\": 119506.0, \"Name\": \"Freedom: The Underground Railroad\", \"Year Published\": 2012.0, \"Min Players\": 1, \"Max Players\": 4, \"Play Time\": 120, \"Min Age\": 13, \"Users Rated\": 3875, \"Rating Average\": \"7,59\", \"BGG Rank\": 400, \"Complexity Average\": \"2,91\", \"Owned Users\": 6137.0, \"Mechanics\": \"Cooperative Game, Pick-up and Deliver, Point to Point Movement, Push Your Luck, Solo / Solitaire Game, Variable Player Powers\", \"Domains\": \"Strategy Games, Thematic Games\"}, {\"ID\": 97786.0, \"Name\": \"Small World Underground\", \"Year Published\": 2011.0, \"Min Players\": 2, \"Max Players\": 5, \"Play Time\": 90, \"Min Age\": 8, \"Users Rated\": 9799, \"Rating Average\": \"7,27\", \"BGG Rank\": 402, \"Complexity Average\": \"2,59\", \"Owned Users\": 16217.0, \"Mechanics\": \"Area Majority / Influence, Area Movement, Dice Rolling, King of the Hill, Variable Player Powers\", \"Domains\": \"Strategy Games\"}, {\"ID\": 171668.0, \"Name\": \"The Grizzled\", \"Year Published\": 2015.0, \"Min Players\": 2, \"Max Players\": 5, \"Play Time\": 30, \"Min Age\": 14, \"Users Rated\": 12228, \"Rating Average\": \"7,20\", \"BGG Rank\": 404, \"Complexity Average\": \"1,94\", \"Owned Users\": 19917.0, \"Mechanics\": \"Communication Limits, Cooperative Game, Hand Management, Move Through Deck, Push Your Luck, Variable Player Powers\", \"Domains\": \"Thematic Games\"}, {\"ID\": 133848.0, \"Name\": \"Euphoria: Build a Better Dystopia\", \"Year Published\": 2013.0, \"Min Players\": 2, \"Max Players\": 6, \"Play Time\": 60, \"Min Age\": 13, \"Users Rated\": 9358, \"Rating Average\": \"7,25\", \"BGG Rank\": 406, \"Complexity Average\": \"3,11\", \"Owned Users\": 12505.0, \"Mechanics\": \"Dice Rolling, Hand Management, Race, Set Collection, Variable Player Powers, Worker Placement, Worker Placement with Dice Workers\", \"Domains\": \"Strategy Games\"}, {\"ID\": 191862.0, \"Name\": \"Imhotep\", \"Year Published\": 2016.0, \"Min Players\": 2, \"Max Players\": 4, \"Play Time\": 40, \"Min Age\": 10, \"Users Rated\": 11784, \"Rating Average\": \"7,20\", \"BGG Rank\": 408, \"Complexity Average\": \"2,01\", \"Owned Users\": 16907.0, \"Mechanics\": \"Area Majority / Influence, End Game Bonuses, Modular Board, Set Collection, Worker Placement\", \"Domains\": \"Family Games\"}, {\"ID\": 20437.0, \"Name\": \"Lords of Vegas\", \"Year Published\": 2010.0, \"Min Players\": 2, \"Max Players\": 4, \"Play Time\": 90, \"Min Age\": 12, \"Users Rated\": 6546, \"Rating Average\": \"7,34\", \"BGG Rank\": 409, \"Complexity Average\": \"2,36\", \"Owned Users\": 8663.0, \"Mechanics\": \"Area Majority / Influence, Catch the Leader, Dice Rolling, Random Production, Tile Placement, Trading\", \"Domains\": \"Strategy Games, Thematic Games\"}, {\"ID\": 43570.0, \"Name\": \"Friday\", \"Year Published\": 2011.0, \"Min Players\": 1, \"Max Players\": 1, \"Play Time\": 25, \"Min Age\": 13, \"Users Rated\": 16501, \"Rating Average\": \"7,14\", \"BGG Rank\": 411, \"Complexity Average\": \"2,14\", \"Owned Users\": 28513.0, \"Mechanics\": \"Deck Bag and Pool Building, Hand Management, Push Your Luck, Solo / Solitaire Game\", \"Domains\": \"Strategy Games\"}, {\"ID\": 147949.0, \"Name\": \"One Night Ultimate Werewolf\", \"Year Published\": 2014.0, \"Min Players\": 3, \"Max Players\": 10, \"Play Time\": 10, \"Min Age\": 8, \"Users Rated\": 21482, \"Rating Average\": \"7,14\", \"BGG Rank\": 412, \"Complexity Average\": \"1,39\", \"Owned Users\": 36819.0, \"Mechanics\": \"Hidden Roles, Role Playing, Roles with Asymmetric Information, Traitor Game, Variable Player Powers, Voting\", \"Domains\": \"Party Games\"}, {\"ID\": 193042.0, \"Name\": \"Junk Art\", \"Year Published\": 2016.0, \"Min Players\": 2, \"Max Players\": 6, \"Play Time\": 30, \"Min Age\": 8, \"Users Rated\": 5449, \"Rating Average\": \"7,43\", \"BGG Rank\": 413, \"Complexity Average\": \"1,22\", \"Owned Users\": 8198.0, \"Mechanics\": \"Hand Management, Player Elimination, Stacking and Balancing\", \"Domains\": \"Family Games, Party Games\"}, {\"ID\": 144189.0, \"Name\": \"Fire in the Lake\", \"Year Published\": 2014.0, \"Min Players\": 1, \"Max Players\": 4, \"Play Time\": 180, \"Min Age\": 0, \"Users Rated\": 2258, \"Rating Average\": \"8,07\", \"BGG Rank\": 415, \"Complexity Average\": \"4,06\", \"Owned Users\": 5520.0, \"Mechanics\": \"Area Majority / Influence, Dice Rolling, Simulation, Solo / Solitaire Game, Variable Phase Order, Variable Player Powers\", \"Domains\": \"Wargames\"}, {\"ID\": 270844.0, \"Name\": \"Imperial Settlers: Empires of the North\", \"Year Published\": 2019.0, \"Min Players\": 1, \"Max Players\": 4, \"Play Time\": 90, \"Min Age\": 10, \"Users Rated\": 3885, \"Rating Average\": \"7,61\", \"BGG Rank\": 416, \"Complexity Average\": \"2,77\", \"Owned Users\": 7311.0, \"Mechanics\": \"Hand Management, Take That, Variable Player Powers, Worker Placement\", \"Domains\": \"Strategy Games\"}, {\"ID\": 221965.0, \"Name\": \"The Fox in the Forest\", \"Year Published\": 2017.0, \"Min Players\": 2, \"Max Players\": 2, \"Play Time\": 30, \"Min Age\": 10, \"Users Rated\": 8895, \"Rating Average\": \"7,25\", \"BGG Rank\": 417, \"Complexity Average\": \"1,59\", \"Owned Users\": 17832.0, \"Mechanics\": \"Hand Management, Trick-taking\", \"Domains\": \"Family Games\"}, {\"ID\": 240196.0, \"Name\": \"Betrayal Legacy\", \"Year Published\": 2018.0, \"Min Players\": 3, \"Max Players\": 5, \"Play Time\": 90, \"Min Age\": 12, \"Users Rated\": 3180, \"Rating Average\": \"7,83\", \"BGG Rank\": 418, \"Complexity Average\": \"2,83\", \"Owned Users\": 7713.0, \"Mechanics\": \"Cooperative Game, Dice Rolling, Grid Movement, Legacy Game, Modular Board, Player Elimination, Role Playing, Storytelling, Tile Placement, Traitor Game\", \"Domains\": \"Thematic Games\"}, {\"ID\": 125618.0, \"Name\": \"Libertalia\", \"Year Published\": 2012.0, \"Min Players\": 2, \"Max Players\": 6, \"Play Time\": 60, \"Min Age\": 14, \"Users Rated\": 12435, \"Rating Average\": \"7,16\", \"BGG Rank\": 419, \"Complexity Average\": \"2,24\", \"Owned Users\": 13747.0, \"Mechanics\": \"Action Queue, Hand Management, Set Collection, Simultaneous Action Selection, Variable Phase Order\", \"Domains\": \"Strategy Games\"}, {\"ID\": 233312.0, \"Name\": \"Stuffed Fables\", \"Year Published\": 2018.0, \"Min Players\": 2, \"Max Players\": 4, \"Play Time\": 90, \"Min Age\": 7, \"Users Rated\": 4451, \"Rating Average\": \"7,57\", \"BGG Rank\": 420, \"Complexity Average\": \"2,41\", \"Owned Users\": 12306.0, \"Mechanics\": \"Cooperative Game, Dice Rolling, Role Playing, Storytelling, Variable Player Powers\", \"Domains\": \"Thematic Games\"}, {\"ID\": 90419.0, \"Name\": \"Airlines Europe\", \"Year Published\": 2011.0, \"Min Players\": 2, \"Max Players\": 5, \"Play Time\": 75, \"Min Age\": 10, \"Users Rated\": 6825, \"Rating Average\": \"7,31\", \"BGG Rank\": 421, \"Complexity Average\": \"2,44\", \"Owned Users\": 7721.0, \"Mechanics\": \"Card Drafting, Investment, Network and Route Building, Set Collection, Stock Holding\", \"Domains\": \"Family Games, Strategy Games\"}, {\"ID\": 163968.0, \"Name\": \"Elysium\", \"Year Published\": 2015.0, \"Min Players\": 2, \"Max Players\": 4, \"Play Time\": 60, \"Min Age\": 14, \"Users Rated\": 8502, \"Rating Average\": \"7,23\", \"BGG Rank\": 424, \"Complexity Average\": \"2,76\", \"Owned Users\": 12201.0, \"Mechanics\": \"Card Drafting, Set Collection, Take That\", \"Domains\": \"Strategy Games\"}, {\"ID\": 257501.0, \"Name\": \"KeyForge: Call of the Archons\", \"Year Published\": 2018.0, \"Min Players\": 2, \"Max Players\": 2, \"Play Time\": 45, \"Min Age\": 14, \"Users Rated\": 9343, \"Rating Average\": \"7,28\", \"BGG Rank\": 427, \"Complexity Average\": \"2,46\", \"Owned Users\": 14271.0, \"Mechanics\": \"Hand Management, Take That\", \"Domains\": \"Customizable Games\"}, {\"ID\": 192836.0, \"Name\": \"The Colonists\", \"Year Published\": 2016.0, \"Min Players\": 1, \"Max Players\": 4, \"Play Time\": 360, \"Min Age\": 12, \"Users Rated\": 3406, \"Rating Average\": \"7,65\", \"BGG Rank\": 429, \"Complexity Average\": \"4,09\", \"Owned Users\": 6658.0, \"Mechanics\": \"Area Movement, Card Drafting, Hand Management, Modular Board, Tile Placement, Worker Placement\", \"Domains\": \"Strategy Games\"}, {\"ID\": 218603.0, \"Name\": \"Photosynthesis\", \"Year Published\": 2017.0, \"Min Players\": 2, \"Max Players\": 4, \"Play Time\": 60, \"Min Age\": 10, \"Users Rated\": 16757, \"Rating Average\": \"7,13\", \"BGG Rank\": 431, \"Complexity Average\": \"2,28\", \"Owned Users\": 27416.0, \"Mechanics\": \"Action Points, Area Majority / Influence, Bias, End Game Bonuses, Hexagon Grid, Income, Turn Order: Progressive\", \"Domains\": \"Abstract Games, Family Games\"}, {\"ID\": 232043.0, \"Name\": \"Queendomino\", \"Year Published\": 2017.0, \"Min Players\": 2, \"Max Players\": 4, \"Play Time\": 25, \"Min Age\": 8, \"Users Rated\": 8016, \"Rating Average\": \"7,26\", \"BGG Rank\": 434, \"Complexity Average\": \"2,09\", \"Owned Users\": 16189.0, \"Mechanics\": \"Card Drafting, Enclosure, Tile Placement, Variable Phase Order\", \"Domains\": \"Family Games\"}, {\"ID\": 226522.0, \"Name\": \"Exit: The Game - Dead Man on the Orient Express\", \"Year Published\": 2017.0, \"Min Players\": 1, \"Max Players\": 4, \"Play Time\": 90, \"Min Age\": 12, \"Users Rated\": 3024, \"Rating Average\": \"7,71\", \"BGG Rank\": 437, \"Complexity Average\": \"2,74\", \"Owned Users\": 6336.0, \"Mechanics\": \"Cooperative Game\", \"Domains\": \"Family Games\"}, {\"ID\": 180974.0, \"Name\": \"Potion Explosion\", \"Year Published\": 2015.0, \"Min Players\": 2, \"Max Players\": 4, \"Play Time\": 45, \"Min Age\": 8, \"Users Rated\": 13444, \"Rating Average\": \"7,15\", \"BGG Rank\": 438, \"Complexity Average\": \"1,75\", \"Owned Users\": 19594.0, \"Mechanics\": \"Pattern Recognition, Set Collection, Take That, Variable Set-up\", \"Domains\": \"Family Games\"}, {\"ID\": 133038.0, \"Name\": \"Pathfinder Adventure Card Game: Rise of the Runelords - Base Set\", \"Year Published\": 2013.0, \"Min Players\": 1, \"Max Players\": 4, \"Play Time\": 90, \"Min Age\": 13, \"Users Rated\": 12022, \"Rating Average\": \"7,20\", \"BGG Rank\": 439, \"Complexity Average\": \"2,71\", \"Owned Users\": 18203.0, \"Mechanics\": \"Cooperative Game, Deck Bag and Pool Building, Dice Rolling, Hand Management, Role Playing, Scenario / Mission / Campaign Game, Solo / Solitaire Game, Variable Player Powers\", \"Domains\": \"Thematic Games\"}, {\"ID\": 97842.0, \"Name\": \"Last Will\", \"Year Published\": 2011.0, \"Min Players\": 2, \"Max Players\": 5, \"Play Time\": 75, \"Min Age\": 14, \"Users Rated\": 9043, \"Rating Average\": \"7,19\", \"BGG Rank\": 442, \"Complexity Average\": \"2,71\", \"Owned Users\": 10498.0, \"Mechanics\": \"Action Points, Hand Management, Worker Placement\", \"Domains\": \"Strategy Games\"}, {\"ID\": 142379.0, \"Name\": \"Escape Plan\", \"Year Published\": 2019.0, \"Min Players\": 1, \"Max Players\": 5, \"Play Time\": 120, \"Min Age\": 12, \"Users Rated\": 3522, \"Rating Average\": \"7,62\", \"BGG Rank\": 443, \"Complexity Average\": \"3,68\", \"Owned Users\": 6415.0, \"Mechanics\": \"Area Movement, Card Drafting, Enclosure, Hexagon Grid, Modular Board, Tile Placement\", \"Domains\": \"Strategy Games, Thematic Games\"}, {\"ID\": 181530.0, \"Name\": \"Runebound (Third Edition)\", \"Year Published\": 2015.0, \"Min Players\": 2, \"Max Players\": 4, \"Play Time\": 180, \"Min Age\": 14, \"Users Rated\": 4988, \"Rating Average\": \"7,51\", \"BGG Rank\": 445, \"Complexity Average\": \"2,66\", \"Owned Users\": 8825.0, \"Mechanics\": \"Action Points, Area Movement, Deck Bag and Pool Building, Dice Rolling, Die Icon Resolution, Roll / Spin and Move, Stat Check Resolution, Variable Player Powers, Variable Set-up\", \"Domains\": \"Thematic Games\"}, {\"ID\": 183562.0, \"Name\": \"Star Wars: X-Wing Miniatures Game - The Force Awakens Core Set\", \"Year Published\": 2015.0, \"Min Players\": 2, \"Max Players\": 2, \"Play Time\": 45, \"Min Age\": 14, \"Users Rated\": 2814, \"Rating Average\": \"7,81\", \"BGG Rank\": 446, \"Complexity Average\": \"2,83\", \"Owned Users\": 7795.0, \"Mechanics\": \"Action Queue, Critical Hits and Failures, Dice Rolling, Movement Template, Variable Player Powers\", \"Domains\": \"Customizable Games\"}, {\"ID\": 156858.0, \"Name\": \"Black Orchestra\", \"Year Published\": 2016.0, \"Min Players\": 1, \"Max Players\": 5, \"Play Time\": 90, \"Min Age\": 14, \"Users Rated\": 4263, \"Rating Average\": \"7,52\", \"BGG Rank\": 449, \"Complexity Average\": \"2,41\", \"Owned Users\": 7262.0, \"Mechanics\": \"Action Points, Cooperative Game, Dice Rolling, Die Icon Resolution, Hand Management, Pick-up and Deliver, Point to Point Movement, Push Your Luck, Set Collection, Solo / Solitaire Game, Tech Trees / Tech Tracks, Variable Player Powers\", \"Domains\": \"Thematic Games\"}, {\"ID\": 205398.0, \"Name\": \"Citadels\", \"Year Published\": 2016.0, \"Min Players\": 2, \"Max Players\": 8, \"Play Time\": 60, \"Min Age\": 10, \"Users Rated\": 7632, \"Rating Average\": \"7,31\", \"BGG Rank\": 453, \"Complexity Average\": \"2\", \"Owned Users\": 14219.0, \"Mechanics\": \"Action Drafting, Card Drafting, Income, Lose a Turn, Set Collection, Turn Order: Role Order, Variable Player Powers\", \"Domains\": \"Family Games\"}, {\"ID\": 156009.0, \"Name\": \"Port Royal\", \"Year Published\": 2014.0, \"Min Players\": 2, \"Max Players\": 5, \"Play Time\": 50, \"Min Age\": 8, \"Users Rated\": 12971, \"Rating Average\": \"7,14\", \"BGG Rank\": 455, \"Complexity Average\": \"1,63\", \"Owned Users\": 19547.0, \"Mechanics\": \"Card Drafting, Contracts, Push Your Luck, Set Collection\", \"Domains\": \"Family Games\"}, {\"ID\": 141572.0, \"Name\": \"Paperback\", \"Year Published\": 2014.0, \"Min Players\": 2, \"Max Players\": 5, \"Play Time\": 45, \"Min Age\": 8, \"Users Rated\": 8942, \"Rating Average\": \"7,18\", \"BGG Rank\": 458, \"Complexity Average\": \"1,99\", \"Owned Users\": 13740.0, \"Mechanics\": \"Card Drafting, Cooperative Game, Deck Bag and Pool Building, Delayed Purchase\", \"Domains\": \"Family Games, Strategy Games\"}, {\"ID\": 183251.0, \"Name\": \"Karuba\", \"Year Published\": 2015.0, \"Min Players\": 2, \"Max Players\": 4, \"Play Time\": 40, \"Min Age\": 8, \"Users Rated\": 8690, \"Rating Average\": \"7,21\", \"BGG Rank\": 459, \"Complexity Average\": \"1,46\", \"Owned Users\": 12154.0, \"Mechanics\": \"Bingo, Connections, Grid Movement, Network and Route Building, Simultaneous Action Selection, Tile Placement\", \"Domains\": \"Family Games\"}, {\"ID\": 91312.0, \"Name\": \"Discworld: Ankh-Morpork\", \"Year Published\": 2011.0, \"Min Players\": 2, \"Max Players\": 4, \"Play Time\": 60, \"Min Age\": 11, \"Users Rated\": 9247, \"Rating Average\": \"7,23\", \"BGG Rank\": 461, \"Complexity Average\": \"2,21\", \"Owned Users\": 10988.0, \"Mechanics\": \"Area Majority / Influence, Dice Rolling, Events, Hand Management, Hidden Roles, Interrupts, Roles with Asymmetric Information, Take That\", \"Domains\": \"Thematic Games\"}, {\"ID\": 155703.0, \"Name\": \"Evolution\", \"Year Published\": 2014.0, \"Min Players\": 2, \"Max Players\": 6, \"Play Time\": 60, \"Min Age\": 12, \"Users Rated\": 13614, \"Rating Average\": \"7,13\", \"BGG Rank\": 462, \"Complexity Average\": \"2,43\", \"Owned Users\": 18555.0, \"Mechanics\": \"Action Points, Hand Management, Push Your Luck, Secret Unit Deployment, Simulation, Simultaneous Action Selection, Take That\", \"Domains\": \"Strategy Games\"}, {\"ID\": 160010.0, \"Name\": \"Conan\", \"Year Published\": 2016.0, \"Min Players\": 2, \"Max Players\": 5, \"Play Time\": 90, \"Min Age\": 14, \"Users Rated\": 3959, \"Rating Average\": \"7,71\", \"BGG Rank\": 464, \"Complexity Average\": \"2,76\", \"Owned Users\": 7956.0, \"Mechanics\": \"Action Points, Area Movement, Dice Rolling, Player Elimination, Team-Based Game, Variable Phase Order, Variable Player Powers\", \"Domains\": \"Thematic Games\"}, {\"ID\": 223040.0, \"Name\": \"Fantasy Realms\", \"Year Published\": 2017.0, \"Min Players\": 3, \"Max Players\": 6, \"Play Time\": 20, \"Min Age\": 14, \"Users Rated\": 4396, \"Rating Average\": \"7,45\", \"BGG Rank\": 467, \"Complexity Average\": \"1,73\", \"Owned Users\": 6795.0, \"Mechanics\": \"Card Drafting, Set Collection\", \"Domains\": \"Family Games\"}, {\"ID\": 128780.0, \"Name\": \"Pax Porfiriana\", \"Year Published\": 2012.0, \"Min Players\": 1, \"Max Players\": 6, \"Play Time\": 120, \"Min Age\": 12, \"Users Rated\": 2994, \"Rating Average\": \"7,68\", \"BGG Rank\": 469, \"Complexity Average\": \"3,57\", \"Owned Users\": 5181.0, \"Mechanics\": \"Card Drafting, Hand Management, Simulation\", \"Domains\": \"Strategy Games\"}, {\"ID\": 140603.0, \"Name\": \"Francis Drake\", \"Year Published\": 2013.0, \"Min Players\": 3, \"Max Players\": 5, \"Play Time\": 120, \"Min Age\": 14, \"Users Rated\": 4517, \"Rating Average\": \"7,42\", \"BGG Rank\": 470, \"Complexity Average\": \"2,93\", \"Owned Users\": 6077.0, \"Mechanics\": \"Dice Rolling, Push Your Luck, Secret Unit Deployment, Set Collection, Time Track, Worker Placement\", \"Domains\": \"Strategy Games\"}, {\"ID\": 159508.0, \"Name\": \"AquaSphere\", \"Year Published\": 2014.0, \"Min Players\": 2, \"Max Players\": 4, \"Play Time\": 100, \"Min Age\": 12, \"Users Rated\": 6472, \"Rating Average\": \"7,28\", \"BGG Rank\": 472, \"Complexity Average\": \"3,69\", \"Owned Users\": 10007.0, \"Mechanics\": \"Area Majority / Influence, Area Movement, Modular Board\", \"Domains\": \"Strategy Games\"}, {\"ID\": 205359.0, \"Name\": \"Star Wars: Destiny\", \"Year Published\": 2016.0, \"Min Players\": 2, \"Max Players\": 2, \"Play Time\": 30, \"Min Age\": 10, \"Users Rated\": 4591, \"Rating Average\": \"7,53\", \"BGG Rank\": 475, \"Complexity Average\": \"2,28\", \"Owned Users\": 7416.0, \"Mechanics\": \"Dice Rolling, Hand Management, Variable Player Powers\", \"Domains\": \"Customizable Games\"}, {\"ID\": 251658.0, \"Name\": \"Sprawlopolis\", \"Year Published\": 2018.0, \"Min Players\": 1, \"Max Players\": 4, \"Play Time\": 20, \"Min Age\": 8, \"Users Rated\": 4117, \"Rating Average\": \"7,48\", \"BGG Rank\": 476, \"Complexity Average\": \"1,85\", \"Owned Users\": 9267.0, \"Mechanics\": \"Card Drafting, Cooperative Game, Layering, Solo / Solitaire Game, Tile Placement\", \"Domains\": \"Family Games\"}, {\"ID\": 153938.0, \"Name\": \"Camel Up\", \"Year Published\": 2014.0, \"Min Players\": 2, \"Max Players\": 8, \"Play Time\": 30, \"Min Age\": 8, \"Users Rated\": 22805, \"Rating Average\": \"7,05\", \"BGG Rank\": 477, \"Complexity Average\": \"1,48\", \"Owned Users\": 28988.0, \"Mechanics\": \"Betting and Bluffing, Dice Rolling, End Game Bonuses, Roll / Spin and Move, Track Movement, Variable Set-up\", \"Domains\": \"Family Games\"}, {\"ID\": 169255.0, \"Name\": \"A Game of Thrones: The Card Game (Second Edition)\", \"Year Published\": 2015.0, \"Min Players\": 2, \"Max Players\": 4, \"Play Time\": 120, \"Min Age\": 14, \"Users Rated\": 4211, \"Rating Average\": \"7,56\", \"BGG Rank\": 478, \"Complexity Average\": \"3,53\", \"Owned Users\": 7947.0, \"Mechanics\": \"Alliances, Card Drafting, Hand Management, Simultaneous Action Selection, Variable Player Powers\", \"Domains\": \"Customizable Games\"}, {\"ID\": 73171.0, \"Name\": \"Earth Reborn\", \"Year Published\": 2010.0, \"Min Players\": 2, \"Max Players\": 4, \"Play Time\": 180, \"Min Age\": 13, \"Users Rated\": 3241, \"Rating Average\": \"7,66\", \"BGG Rank\": 480, \"Complexity Average\": \"3,89\", \"Owned Users\": 6102.0, \"Mechanics\": \"Action Points, Card Drafting, Dice Rolling, Grid Movement, Hand Management, Modular Board, Scenario / Mission / Campaign Game, Secret Unit Deployment\", \"Domains\": \"Thematic Games\"}, {\"ID\": 113924.0, \"Name\": \"Zombicide\", \"Year Published\": 2012.0, \"Min Players\": 1, \"Max Players\": 6, \"Play Time\": 60, \"Min Age\": 14, \"Users Rated\": 16553, \"Rating Average\": \"7,16\", \"BGG Rank\": 481, \"Complexity Average\": \"2,54\", \"Owned Users\": 23560.0, \"Mechanics\": \"Action Points, Cooperative Game, Dice Rolling, Grid Movement, Hand Management, Modular Board, Player Elimination, Scenario / Mission / Campaign Game, Variable Player Powers\", \"Domains\": \"Thematic Games\"}, {\"ID\": 262215.0, \"Name\": \"Blackout: Hong Kong\", \"Year Published\": 2018.0, \"Min Players\": 1, \"Max Players\": 4, \"Play Time\": 150, \"Min Age\": 14, \"Users Rated\": 3738, \"Rating Average\": \"7,51\", \"BGG Rank\": 482, \"Complexity Average\": \"3,46\", \"Owned Users\": 6214.0, \"Mechanics\": \"Area Majority / Influence, Card Drafting, Deck Bag and Pool Building, Dice Rolling, Hand Management, Network and Route Building\", \"Domains\": \"Strategy Games\"}, {\"ID\": 42776.0, \"Name\": \"Gears of War: The Board Game\", \"Year Published\": 2011.0, \"Min Players\": 1, \"Max Players\": 4, \"Play Time\": 180, \"Min Age\": 14, \"Users Rated\": 4696, \"Rating Average\": \"7,46\", \"BGG Rank\": 483, \"Complexity Average\": \"2,89\", \"Owned Users\": 7326.0, \"Mechanics\": \"Area Movement, Campaign / Battle Card Driven, Cooperative Game, Dice Rolling, Hand Management, Modular Board, Solo / Solitaire Game, Variable Player Powers\", \"Domains\": \"Thematic Games\"}, {\"ID\": 245654.0, \"Name\": \"Railroad Ink: Deep Blue Edition\", \"Year Published\": 2018.0, \"Min Players\": 1, \"Max Players\": 6, \"Play Time\": 30, \"Min Age\": 8, \"Users Rated\": 6520, \"Rating Average\": \"7,28\", \"BGG Rank\": 484, \"Complexity Average\": \"1,52\", \"Owned Users\": 11056.0, \"Mechanics\": \"Bingo, Connections, Dice Rolling, Line Drawing, Network and Route Building, Paper-and-Pencil, Solo / Solitaire Game\", \"Domains\": \"Family Games\"}, {\"ID\": 196326.0, \"Name\": \"Love Letter Premium\", \"Year Published\": 2016.0, \"Min Players\": 2, \"Max Players\": 8, \"Play Time\": 30, \"Min Age\": 8, \"Users Rated\": 4322, \"Rating Average\": \"7,46\", \"BGG Rank\": 485, \"Complexity Average\": \"1,30\", \"Owned Users\": 7866.0, \"Mechanics\": \"Hand Management, Player Elimination\", \"Domains\": \"Family Games, Party Games\"}, {\"ID\": 172308.0, \"Name\": \"Broom Service\", \"Year Published\": 2015.0, \"Min Players\": 2, \"Max Players\": 5, \"Play Time\": 75, \"Min Age\": 10, \"Users Rated\": 8094, \"Rating Average\": \"7,19\", \"BGG Rank\": 486, \"Complexity Average\": \"2,40\", \"Owned Users\": 13139.0, \"Mechanics\": \"Area Movement, Follow, Hand Management, Pick-up and Deliver, Set Collection, Simultaneous Action Selection, Variable Phase Order\", \"Domains\": \"Family Games, Strategy Games\"}, {\"ID\": 262543.0, \"Name\": \"Wavelength\", \"Year Published\": 2019.0, \"Min Players\": 2, \"Max Players\": 12, \"Play Time\": 45, \"Min Age\": 14, \"Users Rated\": 3747, \"Rating Average\": \"7,52\", \"BGG Rank\": 488, \"Complexity Average\": \"1,10\", \"Owned Users\": 6960.0, \"Mechanics\": \"Betting and Bluffing, Race, Targeted Clues, Team-Based Game\", \"Domains\": \"Party Games\"}, {\"ID\": 143519.0, \"Name\": \"Quantum\", \"Year Published\": 2013.0, \"Min Players\": 2, \"Max Players\": 4, \"Play Time\": 60, \"Min Age\": 13, \"Users Rated\": 6543, \"Rating Average\": \"7,28\", \"BGG Rank\": 489, \"Complexity Average\": \"2,46\", \"Owned Users\": 7611.0, \"Mechanics\": \"Area Majority / Influence, Dice Rolling, Grid Movement, Modular Board, Square Grid\", \"Domains\": \"Strategy Games\"}, {\"ID\": 84419.0, \"Name\": \"Space Empires: 4X\", \"Year Published\": 2011.0, \"Min Players\": 1, \"Max Players\": 4, \"Play Time\": 180, \"Min Age\": 12, \"Users Rated\": 3038, \"Rating Average\": \"7,68\", \"BGG Rank\": 494, \"Complexity Average\": \"3,35\", \"Owned Users\": 6267.0, \"Mechanics\": \"Auction/Bidding, Dice Rolling, Grid Movement, Hexagon Grid, Income, Movement Points, Paper-and-Pencil, Secret Unit Deployment, Simulation, Tech Trees / Tech Tracks\", \"Domains\": \"Wargames\"}, {\"ID\": 174785.0, \"Name\": \"Mare Nostrum: Empires\", \"Year Published\": 2016.0, \"Min Players\": 3, \"Max Players\": 5, \"Play Time\": 120, \"Min Age\": 14, \"Users Rated\": 3453, \"Rating Average\": \"7,57\", \"BGG Rank\": 498, \"Complexity Average\": \"3,03\", \"Owned Users\": 5550.0, \"Mechanics\": \"Area Movement, Dice Rolling, Set Collection, Trading, Variable Player Powers\", \"Domains\": \"Strategy Games\"}, {\"ID\": 209778.0, \"Name\": \"Magic Maze\", \"Year Published\": 2017.0, \"Min Players\": 1, \"Max Players\": 8, \"Play Time\": 15, \"Min Age\": 8, \"Users Rated\": 15632, \"Rating Average\": \"7,05\", \"BGG Rank\": 499, \"Complexity Average\": \"1,75\", \"Owned Users\": 23884.0, \"Mechanics\": \"Communication Limits, Cooperative Game, Elapsed Real Time Ending, Grid Movement, Map Addition, Modular Board, Real-Time, Solo / Solitaire Game, Variable Player Powers\", \"Domains\": \"Family Games\"}, {\"ID\": 117959.0, \"Name\": \"Las Vegas\", \"Year Published\": 2012.0, \"Min Players\": 2, \"Max Players\": 5, \"Play Time\": 30, \"Min Age\": 8, \"Users Rated\": 9242, \"Rating Average\": \"7,13\", \"BGG Rank\": 504, \"Complexity Average\": \"1,19\", \"Owned Users\": 11610.0, \"Mechanics\": \"Area Majority / Influence, Dice Rolling\", \"Domains\": \"Family Games\"}, {\"ID\": 163166.0, \"Name\": \"One Night Ultimate Werewolf Daybreak\", \"Year Published\": 2015.0, \"Min Players\": 3, \"Max Players\": 7, \"Play Time\": 10, \"Min Age\": 8, \"Users Rated\": 4874, \"Rating Average\": \"7,38\", \"BGG Rank\": 506, \"Complexity Average\": \"1,43\", \"Owned Users\": 12067.0, \"Mechanics\": \"Hidden Roles, Role Playing, Traitor Game, Variable Player Powers, Voting\", \"Domains\": \"Party Games\"}, {\"ID\": 121408.0, \"Name\": \"Trains\", \"Year Published\": 2012.0, \"Min Players\": 2, \"Max Players\": 4, \"Play Time\": 45, \"Min Age\": 12, \"Users Rated\": 7667, \"Rating Average\": \"7,17\", \"BGG Rank\": 507, \"Complexity Average\": \"2,39\", \"Owned Users\": 9906.0, \"Mechanics\": \"Deck Bag and Pool Building, Hand Management, Network and Route Building\", \"Domains\": \"Strategy Games\"}, {\"ID\": 170561.0, \"Name\": \"Valeria: Card Kingdoms\", \"Year Published\": 2016.0, \"Min Players\": 1, \"Max Players\": 5, \"Play Time\": 45, \"Min Age\": 13, \"Users Rated\": 4124, \"Rating Average\": \"7,45\", \"BGG Rank\": 508, \"Complexity Average\": \"2\", \"Owned Users\": 6559.0, \"Mechanics\": \"Card Drafting, Dice Rolling, Random Production, Variable Set-up\", \"Domains\": \"Family Games, Strategy Games\"}, {\"ID\": 116998.0, \"Name\": \"Thunderstone Advance: Towers of Ruin\", \"Year Published\": 2012.0, \"Min Players\": 1, \"Max Players\": 5, \"Play Time\": 45, \"Min Age\": 12, \"Users Rated\": 4595, \"Rating Average\": \"7,37\", \"BGG Rank\": 510, \"Complexity Average\": \"2,74\", \"Owned Users\": 6842.0, \"Mechanics\": \"Card Drafting, Deck Bag and Pool Building, Hand Management\", \"Domains\": \"Strategy Games\"}, {\"ID\": 150997.0, \"Name\": \"Shadows of Brimstone: Swamps of Death\", \"Year Published\": 2014.0, \"Min Players\": 1, \"Max Players\": 4, \"Play Time\": 180, \"Min Age\": 12, \"Users Rated\": 2193, \"Rating Average\": \"8,04\", \"BGG Rank\": 513, \"Complexity Average\": \"3,38\", \"Owned Users\": 5206.0, \"Mechanics\": \"Cooperative Game, Dice Rolling, Grid Movement, Modular Board, Role Playing, Variable Player Powers\", \"Domains\": \"Thematic Games\"}, {\"ID\": 180511.0, \"Name\": \"Shakespeare\", \"Year Published\": 2015.0, \"Min Players\": 1, \"Max Players\": 4, \"Play Time\": 90, \"Min Age\": 13, \"Users Rated\": 3831, \"Rating Average\": \"7,44\", \"BGG Rank\": 514, \"Complexity Average\": \"3\", \"Owned Users\": 5248.0, \"Mechanics\": \"Action Points, Auction/Bidding, Card Drafting, Solo / Solitaire Game\", \"Domains\": \"Strategy Games\"}, {\"ID\": 50750.0, \"Name\": \"Belfort\", \"Year Published\": 2011.0, \"Min Players\": 2, \"Max Players\": 5, \"Play Time\": 120, \"Min Age\": 12, \"Users Rated\": 5954, \"Rating Average\": \"7,24\", \"BGG Rank\": 515, \"Complexity Average\": \"3,04\", \"Owned Users\": 7090.0, \"Mechanics\": \"Area Majority / Influence, Card Drafting, Hand Management, Ownership, Worker Placement, Worker Placement, Different Worker Types\", \"Domains\": \"Strategy Games\"}, {\"ID\": 121288.0, \"Name\": \"Dixit: Journey\", \"Year Published\": 2012.0, \"Min Players\": 3, \"Max Players\": 6, \"Play Time\": 30, \"Min Age\": 8, \"Users Rated\": 4197, \"Rating Average\": \"7,42\", \"BGG Rank\": 516, \"Complexity Average\": \"1,26\", \"Owned Users\": 7710.0, \"Mechanics\": \"Acting, Simultaneous Action Selection, Storytelling, Targeted Clues, Voting\", \"Domains\": \"Party Games\"}, {\"ID\": 135219.0, \"Name\": \"The Battle of Five Armies\", \"Year Published\": 2014.0, \"Min Players\": 2, \"Max Players\": 2, \"Play Time\": 240, \"Min Age\": 13, \"Users Rated\": 2271, \"Rating Average\": \"7,87\", \"BGG Rank\": 517, \"Complexity Average\": \"3,56\", \"Owned Users\": 5004.0, \"Mechanics\": \"Area Majority / Influence, Area Movement, Dice Rolling, Hand Management\", \"Domains\": \"Thematic Games, Wargames\"}, {\"ID\": 216734.0, \"Name\": \"Dice Throne: Season One\", \"Year Published\": 2018.0, \"Min Players\": 2, \"Max Players\": 6, \"Play Time\": 40, \"Min Age\": 8, \"Users Rated\": 3802, \"Rating Average\": \"7,65\", \"BGG Rank\": 522, \"Complexity Average\": \"2,05\", \"Owned Users\": 5985.0, \"Mechanics\": \"Dice Rolling, Take That, Team-Based Game, Variable Player Powers\", \"Domains\": \"Family Games\"}, {\"ID\": 134726.0, \"Name\": \"Smash Up: Awesome Level 9000\", \"Year Published\": 2013.0, \"Min Players\": 2, \"Max Players\": 2, \"Play Time\": 45, \"Min Age\": 12, \"Users Rated\": 6499, \"Rating Average\": \"7,25\", \"BGG Rank\": 524, \"Complexity Average\": \"2,13\", \"Owned Users\": 17313.0, \"Mechanics\": \"Area Majority / Influence, Hand Management, Take That, Variable Player Powers\", \"Domains\": \"Family Games, Strategy Games\"}, {\"ID\": 70512.0, \"Name\": \"Luna\", \"Year Published\": 2010.0, \"Min Players\": 1, \"Max Players\": 4, \"Play Time\": 100, \"Min Age\": 12, \"Users Rated\": 4487, \"Rating Average\": \"7,33\", \"BGG Rank\": 525, \"Complexity Average\": \"3,33\", \"Owned Users\": 5867.0, \"Mechanics\": \"Area Majority / Influence, Modular Board, Point to Point Movement, Solo / Solitaire Game, Tile Placement, Worker Placement\", \"Domains\": \"Strategy Games\"}, {\"ID\": 65532.0, \"Name\": \"Defenders of the Realm\", \"Year Published\": 2010.0, \"Min Players\": 1, \"Max Players\": 4, \"Play Time\": 90, \"Min Age\": 13, \"Users Rated\": 5217, \"Rating Average\": \"7,30\", \"BGG Rank\": 526, \"Complexity Average\": \"2,71\", \"Owned Users\": 6691.0, \"Mechanics\": \"Action Points, Cooperative Game, Dice Rolling, Hand Management, Point to Point Movement, Variable Player Powers\", \"Domains\": \"Thematic Games\"}, {\"ID\": 111799.0, \"Name\": \"Cuba Libre\", \"Year Published\": 2013.0, \"Min Players\": 1, \"Max Players\": 4, \"Play Time\": 180, \"Min Age\": 14, \"Users Rated\": 2542, \"Rating Average\": \"7,70\", \"BGG Rank\": 527, \"Complexity Average\": \"3,54\", \"Owned Users\": 5265.0, \"Mechanics\": \"Area Majority / Influence, Area Movement, Dice Rolling, Solo / Solitaire Game, Variable Player Powers\", \"Domains\": \"Wargames\"}, {\"ID\": 224710.0, \"Name\": \"Zombicide: Green Horde\", \"Year Published\": 2018.0, \"Min Players\": 1, \"Max Players\": 6, \"Play Time\": 60, \"Min Age\": 14, \"Users Rated\": 2889, \"Rating Average\": \"7,82\", \"BGG Rank\": 529, \"Complexity Average\": \"2,52\", \"Owned Users\": 8378.0, \"Mechanics\": \"Cooperative Game, Dice Rolling, Modular Board, Scenario / Mission / Campaign Game, Variable Player Powers\", \"Domains\": \"Thematic Games\"}, {\"ID\": 126792.0, \"Name\": \"Myrmes\", \"Year Published\": 2012.0, \"Min Players\": 2, \"Max Players\": 4, \"Play Time\": 120, \"Min Age\": 13, \"Users Rated\": 5058, \"Rating Average\": \"7,28\", \"BGG Rank\": 532, \"Complexity Average\": \"3,45\", \"Owned Users\": 6429.0, \"Mechanics\": \"Grid Coverage, Grid Movement, Hexagon Grid, Network and Route Building, Worker Placement\", \"Domains\": \"Strategy Games\"}, {\"ID\": 232414.0, \"Name\": \"Oceans\", \"Year Published\": 2020.0, \"Min Players\": 2, \"Max Players\": 4, \"Play Time\": 90, \"Min Age\": 12, \"Users Rated\": 2782, \"Rating Average\": \"7,70\", \"BGG Rank\": 535, \"Complexity Average\": \"2,82\", \"Owned Users\": 6264.0, \"Mechanics\": \"Card Drafting, Hand Management, Hidden Victory Points, Take That\", \"Domains\": \"Strategy Games\"}, {\"ID\": 181521.0, \"Name\": \"Warhammer Quest: The Adventure Card Game\", \"Year Published\": 2015.0, \"Min Players\": 1, \"Max Players\": 4, \"Play Time\": 60, \"Min Age\": 14, \"Users Rated\": 4910, \"Rating Average\": \"7,37\", \"BGG Rank\": 537, \"Complexity Average\": \"2,71\", \"Owned Users\": 9662.0, \"Mechanics\": \"Action Retrieval, Cooperative Game, Dice Rolling, Role Playing, Solo / Solitaire Game, Variable Player Powers\", \"Domains\": \"Thematic Games\"}, {\"ID\": 193949.0, \"Name\": \"Star Trek: Ascendancy\", \"Year Published\": 2016.0, \"Min Players\": 3, \"Max Players\": 3, \"Play Time\": 180, \"Min Age\": 14, \"Users Rated\": 2622, \"Rating Average\": \"7,80\", \"BGG Rank\": 538, \"Complexity Average\": \"3,15\", \"Owned Users\": 5239.0, \"Mechanics\": \"Action Points, Dice Rolling, Events, Modular Board, Point to Point Movement, Simulation, Trading, Variable Player Powers\", \"Domains\": \"Thematic Games\"}, {\"ID\": 150145.0, \"Name\": \"Skull King\", \"Year Published\": 2013.0, \"Min Players\": 2, \"Max Players\": 6, \"Play Time\": 30, \"Min Age\": 8, \"Users Rated\": 4115, \"Rating Average\": \"7,39\", \"BGG Rank\": 540, \"Complexity Average\": \"1,76\", \"Owned Users\": 8026.0, \"Mechanics\": \"Predictive Bid, Trick-taking\", \"Domains\": \"Family Games\"}, {\"ID\": 203416.0, \"Name\": \"Exit: The Game - The Pharaoh's Tomb\", \"Year Published\": 2016.0, \"Min Players\": 1, \"Max Players\": 6, \"Play Time\": 90, \"Min Age\": 12, \"Users Rated\": 5329, \"Rating Average\": \"7,22\", \"BGG Rank\": 542, \"Complexity Average\": \"2,81\", \"Owned Users\": 9661.0, \"Mechanics\": \"Cooperative Game\", \"Domains\": \"Family Games, Strategy Games\"}, {\"ID\": 155624.0, \"Name\": \"Specter Ops\", \"Year Published\": 2015.0, \"Min Players\": 2, \"Max Players\": 5, \"Play Time\": 120, \"Min Age\": 13, \"Users Rated\": 5631, \"Rating Average\": \"7,23\", \"BGG Rank\": 543, \"Complexity Average\": \"2,40\", \"Owned Users\": 8842.0, \"Mechanics\": \"Dice Rolling, Grid Movement, Hidden Movement, Once-Per-Game Abilities, Secret Unit Deployment, Square Grid, Team-Based Game, Variable Player Powers\", \"Domains\": \"Strategy Games, Thematic Games\"}, {\"ID\": 113294.0, \"Name\": \"Escape: The Curse of the Temple\", \"Year Published\": 2012.0, \"Min Players\": 1, \"Max Players\": 5, \"Play Time\": 10, \"Min Age\": 8, \"Users Rated\": 15482, \"Rating Average\": \"6,99\", \"BGG Rank\": 547, \"Complexity Average\": \"1,48\", \"Owned Users\": 19452.0, \"Mechanics\": \"Cooperative Game, Dice Rolling, Elapsed Real Time Ending, Grid Movement, Modular Board, Push Your Luck, Re-rolling and Locking, Real-Time, Roll / Spin and Move, Solo / Solitaire Game, Tile Placement\", \"Domains\": \"Family Games\"}, {\"ID\": 107529.0, \"Name\": \"Kingdom Builder\", \"Year Published\": 2011.0, \"Min Players\": 2, \"Max Players\": 4, \"Play Time\": 45, \"Min Age\": 8, \"Users Rated\": 19682, \"Rating Average\": \"6,96\", \"BGG Rank\": 548, \"Complexity Average\": \"2,07\", \"Owned Users\": 24675.0, \"Mechanics\": \"Area Majority / Influence, Chaining, Enclosure, Hexagon Grid, Modular Board, Variable Set-up\", \"Domains\": \"Family Games, Strategy Games\"}, {\"ID\": 123540.0, \"Name\": \"Tokaido\", \"Year Published\": 2012.0, \"Min Players\": 2, \"Max Players\": 5, \"Play Time\": 45, \"Min Age\": 8, \"Users Rated\": 20663, \"Rating Average\": \"6,99\", \"BGG Rank\": 549, \"Complexity Average\": \"1,75\", \"Owned Users\": 30148.0, \"Mechanics\": \"End Game Bonuses, Set Collection, Time Track, Track Movement, Variable Player Powers\", \"Domains\": \"Family Games\"}, {\"ID\": 100423.0, \"Name\": \"Elder Sign\", \"Year Published\": 2011.0, \"Min Players\": 1, \"Max Players\": 8, \"Play Time\": 90, \"Min Age\": 13, \"Users Rated\": 22154, \"Rating Average\": \"6,98\", \"BGG Rank\": 550, \"Complexity Average\": \"2,35\", \"Owned Users\": 35621.0, \"Mechanics\": \"Cooperative Game, Dice Rolling, Die Icon Resolution, Modular Board, Re-rolling and Locking, Solo / Solitaire Game, Variable Player Powers\", \"Domains\": \"Thematic Games\"}, {\"ID\": 162007.0, \"Name\": \"Steampunk Rally\", \"Year Published\": 2015.0, \"Min Players\": 2, \"Max Players\": 8, \"Play Time\": 60, \"Min Age\": 14, \"Users Rated\": 5743, \"Rating Average\": \"7,22\", \"BGG Rank\": 551, \"Complexity Average\": \"2,58\", \"Owned Users\": 8545.0, \"Mechanics\": \"Card Drafting, Dice Rolling, Modular Board, Race, Simultaneous Action Selection, Variable Player Powers\", \"Domains\": \"Family Games, Strategy Games\"}, {\"ID\": 171499.0, \"Name\": \"Cacao\", \"Year Published\": 2015.0, \"Min Players\": 2, \"Max Players\": 4, \"Play Time\": 45, \"Min Age\": 8, \"Users Rated\": 8315, \"Rating Average\": \"7,10\", \"BGG Rank\": 554, \"Complexity Average\": \"1,82\", \"Owned Users\": 10422.0, \"Mechanics\": \"Area Majority / Influence, Hand Management, Map Addition, Tile Placement\", \"Domains\": \"Family Games\"}, {\"ID\": 213893.0, \"Name\": \"Yamata\\u00ef\", \"Year Published\": 2017.0, \"Min Players\": 2, \"Max Players\": 4, \"Play Time\": 80, \"Min Age\": 13, \"Users Rated\": 5451, \"Rating Average\": \"7,22\", \"BGG Rank\": 557, \"Complexity Average\": \"2,95\", \"Owned Users\": 8242.0, \"Mechanics\": \"Modular Board, Network and Route Building\", \"Domains\": \"Strategy Games\"}, {\"ID\": 68425.0, \"Name\": \"Eminent Domain\", \"Year Published\": 2011.0, \"Min Players\": 2, \"Max Players\": 4, \"Play Time\": 45, \"Min Age\": 10, \"Users Rated\": 9520, \"Rating Average\": \"7,05\", \"BGG Rank\": 558, \"Complexity Average\": \"2,50\", \"Owned Users\": 12563.0, \"Mechanics\": \"Card Drafting, Deck Bag and Pool Building, Follow, Hand Management, Variable Phase Order\", \"Domains\": \"Strategy Games\"}, {\"ID\": 72321.0, \"Name\": \"The Networks\", \"Year Published\": 2016.0, \"Min Players\": 1, \"Max Players\": 5, \"Play Time\": 90, \"Min Age\": 13, \"Users Rated\": 5269, \"Rating Average\": \"7,22\", \"BGG Rank\": 560, \"Complexity Average\": \"2,58\", \"Owned Users\": 8601.0, \"Mechanics\": \"Drafting, End Game Bonuses, Income, Set Collection, Solo / Solitaire Game, Turn Order: Stat-Based\", \"Domains\": \"Strategy Games\"}, {\"ID\": 36235.0, \"Name\": \"The Duke\", \"Year Published\": 2013.0, \"Min Players\": 2, \"Max Players\": 2, \"Play Time\": 30, \"Min Age\": 13, \"Users Rated\": 3782, \"Rating Average\": \"7,38\", \"BGG Rank\": 562, \"Complexity Average\": \"2,50\", \"Owned Users\": 6180.0, \"Mechanics\": \"Grid Movement, Pattern Movement, Tile Placement\", \"Domains\": \"Abstract Games\"}, {\"ID\": 146278.0, \"Name\": \"Tash-Kalar: Arena of Legends\", \"Year Published\": 2013.0, \"Min Players\": 2, \"Max Players\": 4, \"Play Time\": 60, \"Min Age\": 13, \"Users Rated\": 6071, \"Rating Average\": \"7,18\", \"BGG Rank\": 563, \"Complexity Average\": \"2,85\", \"Owned Users\": 7929.0, \"Mechanics\": \"Area Majority / Influence, Catch the Leader, Grid Movement, Hand Management, Highest-Lowest Scoring, Pattern Building, Team-Based Game, Tile Placement, Variable Player Powers\", \"Domains\": \"Abstract Games, Strategy Games\"}, {\"ID\": 179803.0, \"Name\": \"Arcadia Quest: Inferno\", \"Year Published\": 2017.0, \"Min Players\": 2, \"Max Players\": 4, \"Play Time\": 120, \"Min Age\": 13, \"Users Rated\": 1932, \"Rating Average\": \"8,02\", \"BGG Rank\": 566, \"Complexity Average\": \"2,41\", \"Owned Users\": 6381.0, \"Mechanics\": \"Dice Rolling, Grid Movement, Modular Board, Scenario / Mission / Campaign Game, Variable Player Powers\", \"Domains\": \"Thematic Games\"}, {\"ID\": 168584.0, \"Name\": \"Love Letter: Batman\", \"Year Published\": 2015.0, \"Min Players\": 2, \"Max Players\": 4, \"Play Time\": 20, \"Min Age\": 10, \"Users Rated\": 5032, \"Rating Average\": \"7,27\", \"BGG Rank\": 567, \"Complexity Average\": \"1,20\", \"Owned Users\": 9121.0, \"Mechanics\": \"Hand Management, Player Elimination\", \"Domains\": \"Family Games\"}, {\"ID\": 143741.0, \"Name\": \"BANG! The Dice Game\", \"Year Published\": 2013.0, \"Min Players\": 3, \"Max Players\": 8, \"Play Time\": 15, \"Min Age\": 8, \"Users Rated\": 19826, \"Rating Average\": \"6,95\", \"BGG Rank\": 568, \"Complexity Average\": \"1,27\", \"Owned Users\": 31020.0, \"Mechanics\": \"Dice Rolling, Hidden Roles, Player Elimination, Push Your Luck, Re-rolling and Locking, Team-Based Game, Variable Player Powers\", \"Domains\": \"Party Games\"}, {\"ID\": 73761.0, \"Name\": \"K2\", \"Year Published\": 2010.0, \"Min Players\": 1, \"Max Players\": 5, \"Play Time\": 60, \"Min Age\": 8, \"Users Rated\": 9076, \"Rating Average\": \"7,06\", \"BGG Rank\": 570, \"Complexity Average\": \"2,26\", \"Owned Users\": 9740.0, \"Mechanics\": \"Hand Management, Player Elimination, Point to Point Movement, Simultaneous Action Selection, Solo / Solitaire Game\", \"Domains\": \"Family Games, Thematic Games\"}, {\"ID\": 193558.0, \"Name\": \"The Oracle of Delphi\", \"Year Published\": 2016.0, \"Min Players\": 2, \"Max Players\": 4, \"Play Time\": 100, \"Min Age\": 12, \"Users Rated\": 4206, \"Rating Average\": \"7,30\", \"BGG Rank\": 572, \"Complexity Average\": \"3\", \"Owned Users\": 5846.0, \"Mechanics\": \"Action Points, Dice Rolling, Grid Movement, Modular Board, Pick-up and Deliver, Push Your Luck, Race, Variable Player Powers\", \"Domains\": \"Strategy Games\"}, {\"ID\": 192457.0, \"Name\": \"Cry Havoc\", \"Year Published\": 2016.0, \"Min Players\": 2, \"Max Players\": 4, \"Play Time\": 120, \"Min Age\": 10, \"Users Rated\": 5901, \"Rating Average\": \"7,21\", \"BGG Rank\": 573, \"Complexity Average\": \"3,28\", \"Owned Users\": 9504.0, \"Mechanics\": \"Area Majority / Influence, Area Movement, Auction/Bidding, Deck Bag and Pool Building, Events, Hand Management, Point to Point Movement, Variable Player Powers, Victory Points as a Resource\", \"Domains\": \"Strategy Games\"}, {\"ID\": 232219.0, \"Name\": \"Dragon Castle\", \"Year Published\": 2017.0, \"Min Players\": 2, \"Max Players\": 4, \"Play Time\": 45, \"Min Age\": 8, \"Users Rated\": 5628, \"Rating Average\": \"7,21\", \"BGG Rank\": 576, \"Complexity Average\": \"1,97\", \"Owned Users\": 8459.0, \"Mechanics\": \"Card Drafting, Pattern Building, Pattern Recognition, Tile Placement\", \"Domains\": \"Abstract Games, Family Games\"}, {\"ID\": 242574.0, \"Name\": \"Century: Eastern Wonders\", \"Year Published\": 2018.0, \"Min Players\": 2, \"Max Players\": 4, \"Play Time\": 45, \"Min Age\": 8, \"Users Rated\": 5556, \"Rating Average\": \"7,22\", \"BGG Rank\": 578, \"Complexity Average\": \"2,09\", \"Owned Users\": 10623.0, \"Mechanics\": \"Action Retrieval, Contracts, Grid Movement, Modular Board, Pick-up and Deliver, Set Collection, Tile Placement\", \"Domains\": \"Family Games, Strategy Games\"}, {\"ID\": 258036.0, \"Name\": \"Between Two Castles of Mad King Ludwig\", \"Year Published\": 2018.0, \"Min Players\": 2, \"Max Players\": 7, \"Play Time\": 60, \"Min Age\": 10, \"Users Rated\": 3947, \"Rating Average\": \"7,33\", \"BGG Rank\": 581, \"Complexity Average\": \"2,17\", \"Owned Users\": 6677.0, \"Mechanics\": \"Card Drafting, Highest-Lowest Scoring, Set Collection, Simultaneous Action Selection, Team-Based Game, Tile Placement\", \"Domains\": \"Family Games\"}, {\"ID\": 156336.0, \"Name\": \"Onirim (Second Edition)\", \"Year Published\": 2014.0, \"Min Players\": 1, \"Max Players\": 2, \"Play Time\": 15, \"Min Age\": 10, \"Users Rated\": 8119, \"Rating Average\": \"7,09\", \"BGG Rank\": 582, \"Complexity Average\": \"1,57\", \"Owned Users\": 11586.0, \"Mechanics\": \"Card Drafting, Cooperative Game, Hand Management, Move Through Deck, Set Collection, Solo / Solitaire Game\", \"Domains\": \"Family Games, Strategy Games\"}, {\"ID\": 270673.0, \"Name\": \"Silver & Gold\", \"Year Published\": 2019.0, \"Min Players\": 2, \"Max Players\": 4, \"Play Time\": 20, \"Min Age\": 8, \"Users Rated\": 3692, \"Rating Average\": \"7,36\", \"BGG Rank\": 584, \"Complexity Average\": \"1,16\", \"Owned Users\": 7096.0, \"Mechanics\": \"Bingo, End Game Bonuses, Grid Coverage, Paper-and-Pencil, Set Collection\", \"Domains\": \"Family Games\"}, {\"ID\": 137988.0, \"Name\": \"Zombicide Season 2: Prison Outbreak\", \"Year Published\": 2013.0, \"Min Players\": 1, \"Max Players\": 6, \"Play Time\": 60, \"Min Age\": 13, \"Users Rated\": 4257, \"Rating Average\": \"7,39\", \"BGG Rank\": 585, \"Complexity Average\": \"2,68\", \"Owned Users\": 10368.0, \"Mechanics\": \"Action Points, Cooperative Game, Dice Rolling, Hand Management, Modular Board, Variable Player Powers\", \"Domains\": \"Thematic Games\"}, {\"ID\": 143515.0, \"Name\": \"Coal Baron\", \"Year Published\": 2013.0, \"Min Players\": 2, \"Max Players\": 4, \"Play Time\": 75, \"Min Age\": 10, \"Users Rated\": 4305, \"Rating Average\": \"7,29\", \"BGG Rank\": 587, \"Complexity Average\": \"2,55\", \"Owned Users\": 5117.0, \"Mechanics\": \"Action Points, Pick-up and Deliver, Set Collection, Tile Placement, Worker Placement\", \"Domains\": \"Strategy Games\"}, {\"ID\": 167400.0, \"Name\": \"Ashes Reborn: Rise of the Phoenixborn\", \"Year Published\": 2015.0, \"Min Players\": 2, \"Max Players\": 4, \"Play Time\": 120, \"Min Age\": 14, \"Users Rated\": 5123, \"Rating Average\": \"7,29\", \"BGG Rank\": 589, \"Complexity Average\": \"2,93\", \"Owned Users\": 9158.0, \"Mechanics\": \"Dice Rolling, Hand Management, Variable Player Powers\", \"Domains\": \"Customizable Games\"}, {\"ID\": 168435.0, \"Name\": \"Between Two Cities\", \"Year Published\": 2015.0, \"Min Players\": 1, \"Max Players\": 7, \"Play Time\": 25, \"Min Age\": 8, \"Users Rated\": 9486, \"Rating Average\": \"7,03\", \"BGG Rank\": 590, \"Complexity Average\": \"1,82\", \"Owned Users\": 11840.0, \"Mechanics\": \"Card Drafting, Highest-Lowest Scoring, Set Collection, Simultaneous Action Selection, Solo / Solitaire Game, Tile Placement\", \"Domains\": \"Family Games\"}, {\"ID\": 79127.0, \"Name\": \"Star Trek: Fleet Captains\", \"Year Published\": 2011.0, \"Min Players\": 2, \"Max Players\": 4, \"Play Time\": 120, \"Min Age\": 14, \"Users Rated\": 3153, \"Rating Average\": \"7,51\", \"BGG Rank\": 592, \"Complexity Average\": \"3,05\", \"Owned Users\": 5015.0, \"Mechanics\": \"Action Points, Dice Rolling, Hexagon Grid, Modular Board, Tile Placement\", \"Domains\": \"Strategy Games, Thematic Games\"}, {\"ID\": 69789.0, \"Name\": \"Ascension: Deckbuilding Game\", \"Year Published\": 2010.0, \"Min Players\": 1, \"Max Players\": 4, \"Play Time\": 30, \"Min Age\": 13, \"Users Rated\": 11811, \"Rating Average\": \"7,03\", \"BGG Rank\": 595, \"Complexity Average\": \"2,15\", \"Owned Users\": 12786.0, \"Mechanics\": \"Card Drafting, Deck Bag and Pool Building, Hand Management\", \"Domains\": \"Strategy Games\"}, {\"ID\": 163839.0, \"Name\": \"Feudum\", \"Year Published\": 2017.0, \"Min Players\": 2, \"Max Players\": 5, \"Play Time\": 180, \"Min Age\": 12, \"Users Rated\": 2726, \"Rating Average\": \"7,67\", \"BGG Rank\": 603, \"Complexity Average\": \"4,58\", \"Owned Users\": 5155.0, \"Mechanics\": \"Action Queue, Area Majority / Influence, Hand Management, Simultaneous Action Selection\", \"Domains\": \"Strategy Games\"}, {\"ID\": 226320.0, \"Name\": \"My Little Scythe\", \"Year Published\": 2017.0, \"Min Players\": 1, \"Max Players\": 6, \"Play Time\": 60, \"Min Age\": 8, \"Users Rated\": 3801, \"Rating Average\": \"7,37\", \"BGG Rank\": 604, \"Complexity Average\": \"2,01\", \"Owned Users\": 8830.0, \"Mechanics\": \"Area Majority / Influence, Dice Rolling, Force Commitment, Grid Movement, Pick-up and Deliver, Solo / Solitaire Game, Take That\", \"Domains\": \"Family Games\"}, {\"ID\": 244228.0, \"Name\": \"Reef\", \"Year Published\": 2018.0, \"Min Players\": 2, \"Max Players\": 4, \"Play Time\": 45, \"Min Age\": 8, \"Users Rated\": 6821, \"Rating Average\": \"7,10\", \"BGG Rank\": 606, \"Complexity Average\": \"1,83\", \"Owned Users\": 9899.0, \"Mechanics\": \"Hand Management, Pattern Building\", \"Domains\": \"Abstract Games, Family Games\"}, {\"ID\": 220520.0, \"Name\": \"Caverna: Cave vs Cave\", \"Year Published\": 2017.0, \"Min Players\": 1, \"Max Players\": 2, \"Play Time\": 40, \"Min Age\": 10, \"Users Rated\": 5067, \"Rating Average\": \"7,19\", \"BGG Rank\": 607, \"Complexity Average\": \"2,58\", \"Owned Users\": 10419.0, \"Mechanics\": \"Tile Placement, Worker Placement\", \"Domains\": \"Strategy Games\"}, {\"ID\": 110277.0, \"Name\": \"Among the Stars\", \"Year Published\": 2012.0, \"Min Players\": 2, \"Max Players\": 4, \"Play Time\": 30, \"Min Age\": 12, \"Users Rated\": 6677, \"Rating Average\": \"7,08\", \"BGG Rank\": 608, \"Complexity Average\": \"2,23\", \"Owned Users\": 9175.0, \"Mechanics\": \"Card Drafting, Drafting, Simultaneous Action Selection, Tile Placement, Variable Player Powers\", \"Domains\": \"Strategy Games\"}, {\"ID\": 201825.0, \"Name\": \"Ex Libris\", \"Year Published\": 2017.0, \"Min Players\": 1, \"Max Players\": 4, \"Play Time\": 45, \"Min Age\": 10, \"Users Rated\": 5014, \"Rating Average\": \"7,21\", \"BGG Rank\": 609, \"Complexity Average\": \"2,56\", \"Owned Users\": 8214.0, \"Mechanics\": \"Card Drafting, Hand Management, Set Collection, Solo / Solitaire Game, Tile Placement, Variable Player Powers, Worker Placement\", \"Domains\": \"Family Games, Strategy Games\"}, {\"ID\": 87890.0, \"Name\": \"Pr\\u00eat-\\u00e0-Porter\", \"Year Published\": 2010.0, \"Min Players\": 2, \"Max Players\": 4, \"Play Time\": 90, \"Min Age\": 10, \"Users Rated\": 3362, \"Rating Average\": \"7,41\", \"BGG Rank\": 610, \"Complexity Average\": \"3,61\", \"Owned Users\": 6693.0, \"Mechanics\": \"Card Drafting, Loans, Set Collection, Worker Placement\", \"Domains\": \"Strategy Games\"}, {\"ID\": 71721.0, \"Name\": \"Space Hulk: Death Angel - The Card Game\", \"Year Published\": 2010.0, \"Min Players\": 1, \"Max Players\": 6, \"Play Time\": 60, \"Min Age\": 13, \"Users Rated\": 12222, \"Rating Average\": \"6,99\", \"BGG Rank\": 613, \"Complexity Average\": \"2,42\", \"Owned Users\": 21379.0, \"Mechanics\": \"Action Queue, Cooperative Game, Dice Rolling, Hand Management, Move Through Deck, Solo / Solitaire Game, Variable Player Powers\", \"Domains\": \"Thematic Games\"}, {\"ID\": 160499.0, \"Name\": \"King of New York\", \"Year Published\": 2014.0, \"Min Players\": 2, \"Max Players\": 6, \"Play Time\": 40, \"Min Age\": 10, \"Users Rated\": 14174, \"Rating Average\": \"6,96\", \"BGG Rank\": 616, \"Complexity Average\": \"1,87\", \"Owned Users\": 21868.0, \"Mechanics\": \"Area Movement, Card Drafting, Dice Rolling, Die Icon Resolution, King of the Hill, Player Elimination, Push Your Luck, Re-rolling and Locking, Take That\", \"Domains\": \"Family Games\"}, {\"ID\": 241724.0, \"Name\": \"Villagers\", \"Year Published\": 2019.0, \"Min Players\": 1, \"Max Players\": 5, \"Play Time\": 60, \"Min Age\": 10, \"Users Rated\": 4182, \"Rating Average\": \"7,35\", \"BGG Rank\": 617, \"Complexity Average\": \"2,22\", \"Owned Users\": 8686.0, \"Mechanics\": \"Card Drafting, Set Collection, Solo / Solitaire Game\", \"Domains\": \"Family Games, Strategy Games\"}, {\"ID\": 170416.0, \"Name\": \"Vast: The Crystal Caverns\", \"Year Published\": 2016.0, \"Min Players\": 1, \"Max Players\": 5, \"Play Time\": 75, \"Min Age\": 10, \"Users Rated\": 5833, \"Rating Average\": \"7,17\", \"BGG Rank\": 618, \"Complexity Average\": \"3,60\", \"Owned Users\": 11663.0, \"Mechanics\": \"Action Points, Dice Rolling, Grid Movement, Hand Management, Modular Board, Role Playing, Secret Unit Deployment, Tile Placement, Variable Player Powers\", \"Domains\": \"Strategy Games, Thematic Games\"}, {\"ID\": 169654.0, \"Name\": \"Deep Sea Adventure\", \"Year Published\": 2014.0, \"Min Players\": 2, \"Max Players\": 6, \"Play Time\": 30, \"Min Age\": 8, \"Users Rated\": 10755, \"Rating Average\": \"6,99\", \"BGG Rank\": 620, \"Complexity Average\": \"1,18\", \"Owned Users\": 16822.0, \"Mechanics\": \"Pick-up and Deliver, Push Your Luck, Roll / Spin and Move\", \"Domains\": \"Family Games\"}, {\"ID\": 244992.0, \"Name\": \"The Mind\", \"Year Published\": 2018.0, \"Min Players\": 2, \"Max Players\": 4, \"Play Time\": 15, \"Min Age\": 8, \"Users Rated\": 19317, \"Rating Average\": \"6,91\", \"BGG Rank\": 622, \"Complexity Average\": \"1,08\", \"Owned Users\": 32157.0, \"Mechanics\": \"Communication Limits, Cooperative Game\", \"Domains\": \"Family Games, Party Games\"}, {\"ID\": 200147.0, \"Name\": \"Kanagawa\", \"Year Published\": 2016.0, \"Min Players\": 2, \"Max Players\": 4, \"Play Time\": 45, \"Min Age\": 10, \"Users Rated\": 7036, \"Rating Average\": \"7,10\", \"BGG Rank\": 623, \"Complexity Average\": \"2,03\", \"Owned Users\": 10888.0, \"Mechanics\": \"Card Drafting, Hand Management, Pattern Building, Push Your Luck, Set Collection\", \"Domains\": \"Family Games\"}, {\"ID\": 131287.0, \"Name\": \"Panamax\", \"Year Published\": 2014.0, \"Min Players\": 2, \"Max Players\": 4, \"Play Time\": 100, \"Min Age\": 12, \"Users Rated\": 3574, \"Rating Average\": \"7,33\", \"BGG Rank\": 626, \"Complexity Average\": \"3,76\", \"Owned Users\": 5009.0, \"Mechanics\": \"Area Majority / Influence, Dice Rolling, Moving Multiple Units, Pick-up and Deliver, Point to Point Movement, Slide/Push, Stock Holding, Worker Placement\", \"Domains\": \"Strategy Games\"}, {\"ID\": 203417.0, \"Name\": \"Exit: The Game - The Secret Lab\", \"Year Published\": 2016.0, \"Min Players\": 1, \"Max Players\": 6, \"Play Time\": 150, \"Min Age\": 12, \"Users Rated\": 5581, \"Rating Average\": \"7,13\", \"BGG Rank\": 627, \"Complexity Average\": \"2,58\", \"Owned Users\": 9722.0, \"Mechanics\": \"Cooperative Game\", \"Domains\": \"Family Games, Thematic Games\"}, {\"ID\": 183840.0, \"Name\": \"Oh My Goods!\", \"Year Published\": 2015.0, \"Min Players\": 2, \"Max Players\": 4, \"Play Time\": 30, \"Min Age\": 10, \"Users Rated\": 9383, \"Rating Average\": \"7,01\", \"BGG Rank\": 628, \"Complexity Average\": \"2,30\", \"Owned Users\": 17577.0, \"Mechanics\": \"Action Queue, Hand Management, Push Your Luck, Set Collection\", \"Domains\": \"Strategy Games\"}, {\"ID\": 177590.0, \"Name\": \"13 Days: The Cuban Missile Crisis\", \"Year Published\": 2016.0, \"Min Players\": 2, \"Max Players\": 2, \"Play Time\": 45, \"Min Age\": 10, \"Users Rated\": 3758, \"Rating Average\": \"7,31\", \"BGG Rank\": 629, \"Complexity Average\": \"2,35\", \"Owned Users\": 6422.0, \"Mechanics\": \"Action/Event, Advantage Token, Area Majority / Influence, Campaign / Battle Card Driven, End Game Bonuses, Hand Management, Tug of War\", \"Domains\": \"Strategy Games, Wargames\"}, {\"ID\": 91872.0, \"Name\": \"Dungeons & Dragons: The Legend of Drizzt Board Game\", \"Year Published\": 2011.0, \"Min Players\": 1, \"Max Players\": 5, \"Play Time\": 60, \"Min Age\": 12, \"Users Rated\": 5572, \"Rating Average\": \"7,25\", \"BGG Rank\": 630, \"Complexity Average\": \"2,59\", \"Owned Users\": 11712.0, \"Mechanics\": \"Cooperative Game, Dice Rolling, Grid Movement, Modular Board, Role Playing, Solo / Solitaire Game, Variable Player Powers\", \"Domains\": \"Thematic Games\"}, {\"ID\": 256382.0, \"Name\": \"Disney Villainous\", \"Year Published\": 2018.0, \"Min Players\": 2, \"Max Players\": 6, \"Play Time\": 50, \"Min Age\": 10, \"Users Rated\": 9955, \"Rating Average\": \"7,06\", \"BGG Rank\": 635, \"Complexity Average\": \"2,41\", \"Owned Users\": 21925.0, \"Mechanics\": \"Hand Management, Take That, Variable Player Powers\", \"Domains\": \"Family Games\"}, {\"ID\": 179275.0, \"Name\": \"One Deck Dungeon\", \"Year Published\": 2016.0, \"Min Players\": 1, \"Max Players\": 2, \"Play Time\": 45, \"Min Age\": 14, \"Users Rated\": 8027, \"Rating Average\": \"7,07\", \"BGG Rank\": 636, \"Complexity Average\": \"2,05\", \"Owned Users\": 16522.0, \"Mechanics\": \"Cooperative Game, Deck Bag and Pool Building, Dice Rolling, Melding and Splaying, Move Through Deck, Solo / Solitaire Game, Stat Check Resolution, Variable Player Powers\", \"Domains\": \"Thematic Games\"}, {\"ID\": 148575.0, \"Name\": \"Marvel Dice Masters: Avengers vs. X-Men\", \"Year Published\": 2014.0, \"Min Players\": 2, \"Max Players\": 2, \"Play Time\": 60, \"Min Age\": 14, \"Users Rated\": 5534, \"Rating Average\": \"7,16\", \"BGG Rank\": 638, \"Complexity Average\": \"2,30\", \"Owned Users\": 9731.0, \"Mechanics\": \"Deck Bag and Pool Building, Dice Rolling, Variable Player Powers\", \"Domains\": \"Customizable Games\"}, {\"ID\": 163602.0, \"Name\": \"XCOM: The Board Game\", \"Year Published\": 2015.0, \"Min Players\": 1, \"Max Players\": 4, \"Play Time\": 120, \"Min Age\": 14, \"Users Rated\": 7891, \"Rating Average\": \"7,06\", \"BGG Rank\": 640, \"Complexity Average\": \"2,90\", \"Owned Users\": 12375.0, \"Mechanics\": \"Cooperative Game, Dice Rolling, Hand Management, Push Your Luck, Variable Player Powers\", \"Domains\": \"Thematic Games\"}, {\"ID\": 166384.0, \"Name\": \"Spyfall\", \"Year Published\": 2014.0, \"Min Players\": 3, \"Max Players\": 8, \"Play Time\": 15, \"Min Age\": 13, \"Users Rated\": 18226, \"Rating Average\": \"6,88\", \"BGG Rank\": 641, \"Complexity Average\": \"1,24\", \"Owned Users\": 25451.0, \"Mechanics\": \"Acting, Memory, Role Playing, Roles with Asymmetric Information, Targeted Clues, Traitor Game, Voting\", \"Domains\": \"Party Games\"}, {\"ID\": 171273.0, \"Name\": \"FUSE\", \"Year Published\": 2015.0, \"Min Players\": 1, \"Max Players\": 5, \"Play Time\": 10, \"Min Age\": 10, \"Users Rated\": 7036, \"Rating Average\": \"7,06\", \"BGG Rank\": 643, \"Complexity Average\": \"1,67\", \"Owned Users\": 10645.0, \"Mechanics\": \"Card Drafting, Cooperative Game, Dice Rolling, Drafting, Elapsed Real Time Ending, Pattern Building, Real-Time, Solo / Solitaire Game\", \"Domains\": \"Family Games\"}, {\"ID\": 156566.0, \"Name\": \"Lords of Xidit\", \"Year Published\": 2014.0, \"Min Players\": 3, \"Max Players\": 5, \"Play Time\": 90, \"Min Age\": 14, \"Users Rated\": 5261, \"Rating Average\": \"7,14\", \"BGG Rank\": 648, \"Complexity Average\": \"2,62\", \"Owned Users\": 8477.0, \"Mechanics\": \"Action Queue, Area Majority / Influence, Pick-up and Deliver, Point to Point Movement, Programmed Movement, Simultaneous Action Selection\", \"Domains\": \"Strategy Games\"}, {\"ID\": 270970.0, \"Name\": \"Century: A New World\", \"Year Published\": 2019.0, \"Min Players\": 2, \"Max Players\": 4, \"Play Time\": 45, \"Min Age\": 8, \"Users Rated\": 2880, \"Rating Average\": \"7,48\", \"BGG Rank\": 649, \"Complexity Average\": \"2,13\", \"Owned Users\": 6810.0, \"Mechanics\": \"Action Retrieval, Contracts, Increase Value of Unchosen Resources, Set Collection, Tile Placement, Worker Placement\", \"Domains\": \"Family Games, Strategy Games\"}, {\"ID\": 233247.0, \"Name\": \"Civilization: A New Dawn\", \"Year Published\": 2017.0, \"Min Players\": 2, \"Max Players\": 4, \"Play Time\": 120, \"Min Age\": 14, \"Users Rated\": 4283, \"Rating Average\": \"7,31\", \"BGG Rank\": 650, \"Complexity Average\": \"3,07\", \"Owned Users\": 7742.0, \"Mechanics\": \"Area Majority / Influence, Modular Board, Variable Player Powers\", \"Domains\": \"Strategy Games\"}, {\"ID\": 181687.0, \"Name\": \"The Pursuit of Happiness\", \"Year Published\": 2015.0, \"Min Players\": 1, \"Max Players\": 4, \"Play Time\": 90, \"Min Age\": 12, \"Users Rated\": 4107, \"Rating Average\": \"7,24\", \"BGG Rank\": 652, \"Complexity Average\": \"2,49\", \"Owned Users\": 6888.0, \"Mechanics\": \"Drafting, End Game Bonuses, Income, Simulation, Worker Placement\", \"Domains\": \"Family Games\"}, {\"ID\": 135779.0, \"Name\": \"A Fake Artist Goes to New York\", \"Year Published\": 2012.0, \"Min Players\": 5, \"Max Players\": 10, \"Play Time\": 20, \"Min Age\": 8, \"Users Rated\": 4790, \"Rating Average\": \"7,17\", \"BGG Rank\": 656, \"Complexity Average\": \"1,16\", \"Owned Users\": 8302.0, \"Mechanics\": \"Line Drawing, Role Playing, Targeted Clues\", \"Domains\": \"Party Games\"}, {\"ID\": 145659.0, \"Name\": \"Scoville\", \"Year Published\": 2014.0, \"Min Players\": 2, \"Max Players\": 6, \"Play Time\": 90, \"Min Age\": 13, \"Users Rated\": 4769, \"Rating Average\": \"7,17\", \"BGG Rank\": 658, \"Complexity Average\": \"2,78\", \"Owned Users\": 7026.0, \"Mechanics\": \"Auction/Bidding, Grid Movement, Once-Per-Game Abilities, Set Collection, Turn Order: Auction\", \"Domains\": \"Strategy Games\"}, {\"ID\": 264055.0, \"Name\": \"Draftosaurus\", \"Year Published\": 2019.0, \"Min Players\": 2, \"Max Players\": 5, \"Play Time\": 15, \"Min Age\": 8, \"Users Rated\": 4703, \"Rating Average\": \"7,19\", \"BGG Rank\": 659, \"Complexity Average\": \"1,22\", \"Owned Users\": 7873.0, \"Mechanics\": \"Card Drafting, Dice Rolling, Drafting, Set Collection, Simultaneous Action Selection\", \"Domains\": \"Family Games\"}, {\"ID\": 242639.0, \"Name\": \"Treasure Island\", \"Year Published\": 2018.0, \"Min Players\": 2, \"Max Players\": 5, \"Play Time\": 45, \"Min Age\": 10, \"Users Rated\": 3747, \"Rating Average\": \"7,30\", \"BGG Rank\": 662, \"Complexity Average\": \"2,27\", \"Owned Users\": 6811.0, \"Mechanics\": \"Hand Management, Line Drawing, Measurement Movement, Secret Unit Deployment, Storytelling, Team-Based Game, Variable Player Powers\", \"Domains\": \"Family Games, Thematic Games\"}, {\"ID\": 161417.0, \"Name\": \"Red7\", \"Year Published\": 2014.0, \"Min Players\": 2, \"Max Players\": 4, \"Play Time\": 30, \"Min Age\": 9, \"Users Rated\": 12692, \"Rating Average\": \"6,92\", \"BGG Rank\": 663, \"Complexity Average\": \"1,70\", \"Owned Users\": 18434.0, \"Mechanics\": \"Hand Management, Player Elimination, Set Collection, Variable Set-up\", \"Domains\": \"Family Games\"}, {\"ID\": 230244.0, \"Name\": \"Black Angel\", \"Year Published\": 2019.0, \"Min Players\": 1, \"Max Players\": 4, \"Play Time\": 120, \"Min Age\": 12, \"Users Rated\": 3027, \"Rating Average\": \"7,42\", \"BGG Rank\": 665, \"Complexity Average\": \"3,82\", \"Owned Users\": 5198.0, \"Mechanics\": \"Bias, Dice Rolling, Hand Management, Slide/Push, Solo / Solitaire Game, Tile Placement, Variable Set-up, Worker Placement with Dice Workers\", \"Domains\": \"Strategy Games\"}, {\"ID\": 103886.0, \"Name\": \"Star Wars: The Card Game\", \"Year Published\": 2012.0, \"Min Players\": 2, \"Max Players\": 2, \"Play Time\": 60, \"Min Age\": 10, \"Users Rated\": 5328, \"Rating Average\": \"7,19\", \"BGG Rank\": 666, \"Complexity Average\": \"2,96\", \"Owned Users\": 10028.0, \"Mechanics\": \"Hand Management, Variable Player Powers\", \"Domains\": \"Customizable Games\"}, {\"ID\": 137269.0, \"Name\": \"Spyrium\", \"Year Published\": 2013.0, \"Min Players\": 2, \"Max Players\": 5, \"Play Time\": 75, \"Min Age\": 12, \"Users Rated\": 5776, \"Rating Average\": \"7,08\", \"BGG Rank\": 667, \"Complexity Average\": \"2,90\", \"Owned Users\": 7056.0, \"Mechanics\": \"Auction: Dutch Priority, Events, Income, Worker Placement\", \"Domains\": \"Strategy Games\"}, {\"ID\": 231581.0, \"Name\": \"AuZtralia\", \"Year Published\": 2018.0, \"Min Players\": 1, \"Max Players\": 4, \"Play Time\": 120, \"Min Age\": 13, \"Users Rated\": 3093, \"Rating Average\": \"7,40\", \"BGG Rank\": 669, \"Complexity Average\": \"2,93\", \"Owned Users\": 5239.0, \"Mechanics\": \"Action Retrieval, Cooperative Game, Hexagon Grid, Network and Route Building, Solo / Solitaire Game, Sudden Death Ending, Time Track\", \"Domains\": \"Strategy Games\"}, {\"ID\": 191051.0, \"Name\": \"Outlive\", \"Year Published\": 2017.0, \"Min Players\": 2, \"Max Players\": 4, \"Play Time\": 110, \"Min Age\": 14, \"Users Rated\": 3581, \"Rating Average\": \"7,37\", \"BGG Rank\": 671, \"Complexity Average\": \"3,02\", \"Owned Users\": 6064.0, \"Mechanics\": \"Area Movement, Set Collection, Variable Player Powers, Worker Placement\", \"Domains\": \"Strategy Games\"}, {\"ID\": 156689.0, \"Name\": \"Legendary: A Marvel Deck Building Game - Villains\", \"Year Published\": 2014.0, \"Min Players\": 1, \"Max Players\": 5, \"Play Time\": 45, \"Min Age\": 14, \"Users Rated\": 2544, \"Rating Average\": \"7,60\", \"BGG Rank\": 679, \"Complexity Average\": \"2,71\", \"Owned Users\": 5746.0, \"Mechanics\": \"Cooperative Game, Deck Bag and Pool Building\", \"Domains\": \"Customizable Games, Thematic Games\"}, {\"ID\": 119788.0, \"Name\": \"Hyperborea\", \"Year Published\": 2014.0, \"Min Players\": 2, \"Max Players\": 6, \"Play Time\": 150, \"Min Age\": 14, \"Users Rated\": 4393, \"Rating Average\": \"7,21\", \"BGG Rank\": 680, \"Complexity Average\": \"3,18\", \"Owned Users\": 6379.0, \"Mechanics\": \"Area Majority / Influence, Deck Bag and Pool Building, Grid Movement, Hexagon Grid, Modular Board, Movement Points, Variable Player Powers\", \"Domains\": \"Strategy Games\"}, {\"ID\": 194879.0, \"Name\": \"Not Alone\", \"Year Published\": 2016.0, \"Min Players\": 2, \"Max Players\": 7, \"Play Time\": 45, \"Min Age\": 10, \"Users Rated\": 7959, \"Rating Average\": \"7,02\", \"BGG Rank\": 684, \"Complexity Average\": \"1,96\", \"Owned Users\": 12277.0, \"Mechanics\": \"Deck Bag and Pool Building, Hand Management, Simultaneous Action Selection, Team-Based Game\", \"Domains\": \"Strategy Games\"}, {\"ID\": 197443.0, \"Name\": \"Fugitive\", \"Year Published\": 2017.0, \"Min Players\": 2, \"Max Players\": 2, \"Play Time\": 20, \"Min Age\": 10, \"Users Rated\": 3922, \"Rating Average\": \"7,22\", \"BGG Rank\": 689, \"Complexity Average\": \"1,68\", \"Owned Users\": 7726.0, \"Mechanics\": \"Hand Management, Memory, Secret Unit Deployment\", \"Domains\": \"Family Games\"}, {\"ID\": 155362.0, \"Name\": \"Ca$h 'n Guns (Second Edition)\", \"Year Published\": 2014.0, \"Min Players\": 4, \"Max Players\": 8, \"Play Time\": 30, \"Min Age\": 10, \"Users Rated\": 12627, \"Rating Average\": \"6,89\", \"BGG Rank\": 690, \"Complexity Average\": \"1,26\", \"Owned Users\": 18401.0, \"Mechanics\": \"Card Drafting, Player Elimination, Simultaneous Action Selection, Take That, Variable Player Powers\", \"Domains\": \"Party Games\"}, {\"ID\": 175117.0, \"Name\": \"Celestia\", \"Year Published\": 2015.0, \"Min Players\": 2, \"Max Players\": 6, \"Play Time\": 30, \"Min Age\": 8, \"Users Rated\": 8395, \"Rating Average\": \"6,98\", \"BGG Rank\": 692, \"Complexity Average\": \"1,33\", \"Owned Users\": 11169.0, \"Mechanics\": \"Betting and Bluffing, Dice Rolling, Hidden Victory Points, Push Your Luck\", \"Domains\": \"Family Games\"}, {\"ID\": 151004.0, \"Name\": \"Smash Up: Science Fiction Double Feature\", \"Year Published\": 2014.0, \"Min Players\": 2, \"Max Players\": 2, \"Play Time\": 45, \"Min Age\": 12, \"Users Rated\": 3677, \"Rating Average\": \"7,30\", \"BGG Rank\": 698, \"Complexity Average\": \"2,30\", \"Owned Users\": 11691.0, \"Mechanics\": \"Area Majority / Influence, Hand Management, Take That, Variable Player Powers\", \"Domains\": \"Strategy Games, Thematic Games\"}, {\"ID\": 122298.0, \"Name\": \"Morels\", \"Year Published\": 2012.0, \"Min Players\": 2, \"Max Players\": 2, \"Play Time\": 30, \"Min Age\": 10, \"Users Rated\": 7289, \"Rating Average\": \"7,00\", \"BGG Rank\": 705, \"Complexity Average\": \"1,74\", \"Owned Users\": 12502.0, \"Mechanics\": \"Card Drafting, Hand Management, Set Collection\", \"Domains\": \"Family Games\"}, {\"ID\": 154458.0, \"Name\": \"Akrotiri\", \"Year Published\": 2014.0, \"Min Players\": 2, \"Max Players\": 2, \"Play Time\": 45, \"Min Age\": 13, \"Users Rated\": 3632, \"Rating Average\": \"7,25\", \"BGG Rank\": 706, \"Complexity Average\": \"2,66\", \"Owned Users\": 6036.0, \"Mechanics\": \"Action Points, Hand Management, Pick-up and Deliver, Tile Placement\", \"Domains\": \"Strategy Games\"}, {\"ID\": 218333.0, \"Name\": \"Rhino Hero: Super Battle\", \"Year Published\": 2017.0, \"Min Players\": 2, \"Max Players\": 4, \"Play Time\": 20, \"Min Age\": 5, \"Users Rated\": 3467, \"Rating Average\": \"7,28\", \"BGG Rank\": 708, \"Complexity Average\": \"1,12\", \"Owned Users\": 6685.0, \"Mechanics\": \"Dice Rolling, Single Loser Game, Stacking and Balancing\", \"Domains\": \"Children's Games, Family Games\"}, {\"ID\": 148319.0, \"Name\": \"Tragedy Looper\", \"Year Published\": 2011.0, \"Min Players\": 2, \"Max Players\": 4, \"Play Time\": 120, \"Min Age\": 13, \"Users Rated\": 3974, \"Rating Average\": \"7,22\", \"BGG Rank\": 709, \"Complexity Average\": \"3,51\", \"Owned Users\": 8090.0, \"Mechanics\": \"Communication Limits, Deduction, Grid Movement, Hand Management, Memory, Team-Based Game\", \"Domains\": \"Strategy Games, Thematic Games\"}, {\"ID\": 108784.0, \"Name\": \"Ascension: Storm of Souls\", \"Year Published\": 2011.0, \"Min Players\": 1, \"Max Players\": 4, \"Play Time\": 30, \"Min Age\": 13, \"Users Rated\": 3379, \"Rating Average\": \"7,31\", \"BGG Rank\": 713, \"Complexity Average\": \"2,34\", \"Owned Users\": 5273.0, \"Mechanics\": \"Card Drafting, Deck Bag and Pool Building, Hand Management\", \"Domains\": \"Strategy Games\"}, {\"ID\": 214887.0, \"Name\": \"CO\\u2082: Second Chance\", \"Year Published\": 2018.0, \"Min Players\": 1, \"Max Players\": 4, \"Play Time\": 120, \"Min Age\": 12, \"Users Rated\": 2125, \"Rating Average\": \"7,66\", \"BGG Rank\": 718, \"Complexity Average\": \"4,04\", \"Owned Users\": 5209.0, \"Mechanics\": \"Area Majority / Influence, Card Drafting, Cooperative Game, Semi-Cooperative Game, Solo / Solitaire Game, Tile Placement, Worker Placement\", \"Domains\": \"Strategy Games\"}, {\"ID\": 191977.0, \"Name\": \"The Castles of Burgundy: The Card Game\", \"Year Published\": 2016.0, \"Min Players\": 1, \"Max Players\": 4, \"Play Time\": 60, \"Min Age\": 12, \"Users Rated\": 5804, \"Rating Average\": \"7,04\", \"BGG Rank\": 723, \"Complexity Average\": \"2,54\", \"Owned Users\": 11923.0, \"Mechanics\": \"Card Drafting, Hand Management, Set Collection\", \"Domains\": \"Strategy Games\"}, {\"ID\": 91514.0, \"Name\": \"Rhino Hero\", \"Year Published\": 2011.0, \"Min Players\": 2, \"Max Players\": 5, \"Play Time\": 15, \"Min Age\": 5, \"Users Rated\": 8368, \"Rating Average\": \"6,95\", \"BGG Rank\": 725, \"Complexity Average\": \"1,03\", \"Owned Users\": 14378.0, \"Mechanics\": \"Hand Management, Stacking and Balancing\", \"Domains\": \"Children's Games, Family Games\"}, {\"ID\": 179172.0, \"Name\": \"Unfair\", \"Year Published\": 2017.0, \"Min Players\": 2, \"Max Players\": 5, \"Play Time\": 125, \"Min Age\": 14, \"Users Rated\": 3613, \"Rating Average\": \"7,35\", \"BGG Rank\": 730, \"Complexity Average\": \"2,70\", \"Owned Users\": 6320.0, \"Mechanics\": \"Card Drafting, Hand Management, Loans, Set Collection, Take That\", \"Domains\": \"Strategy Games, Thematic Games\"}, {\"ID\": 202408.0, \"Name\": \"Adrenaline\", \"Year Published\": 2016.0, \"Min Players\": 3, \"Max Players\": 5, \"Play Time\": 60, \"Min Age\": 12, \"Users Rated\": 5541, \"Rating Average\": \"7,06\", \"BGG Rank\": 733, \"Complexity Average\": \"2,34\", \"Owned Users\": 7380.0, \"Mechanics\": \"Action Points, Area Majority / Influence, Card Drafting, Grid Movement, Hand Management, Kill Steal\", \"Domains\": \"Strategy Games, Thematic Games\"}, {\"ID\": 66356.0, \"Name\": \"Dungeons & Dragons: Wrath of Ashardalon Board Game\", \"Year Published\": 2011.0, \"Min Players\": 1, \"Max Players\": 5, \"Play Time\": 60, \"Min Age\": 12, \"Users Rated\": 5858, \"Rating Average\": \"7,14\", \"BGG Rank\": 734, \"Complexity Average\": \"2,62\", \"Owned Users\": 11963.0, \"Mechanics\": \"Cooperative Game, Dice Rolling, Grid Movement, Modular Board, Role Playing, Solo / Solitaire Game, Variable Player Powers\", \"Domains\": \"Thematic Games\"}, {\"ID\": 201921.0, \"Name\": \"Tiny Epic Quest\", \"Year Published\": 2017.0, \"Min Players\": 1, \"Max Players\": 4, \"Play Time\": 60, \"Min Age\": 14, \"Users Rated\": 6102, \"Rating Average\": \"7,06\", \"BGG Rank\": 735, \"Complexity Average\": \"2,66\", \"Owned Users\": 16135.0, \"Mechanics\": \"Area Movement, Dice Rolling, Modular Board, Push Your Luck\", \"Domains\": \"Strategy Games\"}, {\"ID\": 52461.0, \"Name\": \"Legacy: The Testament of Duke de Crecy\", \"Year Published\": 2013.0, \"Min Players\": 1, \"Max Players\": 4, \"Play Time\": 60, \"Min Age\": 8, \"Users Rated\": 4010, \"Rating Average\": \"7,17\", \"BGG Rank\": 736, \"Complexity Average\": \"2,71\", \"Owned Users\": 5103.0, \"Mechanics\": \"Card Drafting, End Game Bonuses, Hand Management, Set Collection, Solo / Solitaire Game, Turn Order: Progressive, Worker Placement, Worker Placement, Different Worker Types\", \"Domains\": \"Strategy Games, Thematic Games\"}, {\"ID\": 172047.0, \"Name\": \"The Others\", \"Year Published\": 2016.0, \"Min Players\": 2, \"Max Players\": 5, \"Play Time\": 90, \"Min Age\": 14, \"Users Rated\": 3328, \"Rating Average\": \"7,39\", \"BGG Rank\": 740, \"Complexity Average\": \"3,04\", \"Owned Users\": 7209.0, \"Mechanics\": \"Area Majority / Influence, Area Movement, Dice Rolling, Interrupts, Modular Board, Team-Based Game, Variable Player Powers\", \"Domains\": \"Thematic Games\"}, {\"ID\": 160851.0, \"Name\": \"Lanterns: The Harvest Festival\", \"Year Published\": 2015.0, \"Min Players\": 2, \"Max Players\": 4, \"Play Time\": 30, \"Min Age\": 8, \"Users Rated\": 9610, \"Rating Average\": \"6,92\", \"BGG Rank\": 741, \"Complexity Average\": \"1,57\", \"Owned Users\": 16186.0, \"Mechanics\": \"Hand Management, Pattern Building, Set Collection, Tile Placement\", \"Domains\": \"Family Games\"}, {\"ID\": 176165.0, \"Name\": \"Dale of Merchants\", \"Year Published\": 2015.0, \"Min Players\": 2, \"Max Players\": 4, \"Play Time\": 30, \"Min Age\": 10, \"Users Rated\": 3804, \"Rating Average\": \"7,22\", \"BGG Rank\": 744, \"Complexity Average\": \"2,09\", \"Owned Users\": 6439.0, \"Mechanics\": \"Card Drafting, Deck Bag and Pool Building, Dice Rolling, Hand Management, Race, Set Collection, Take That\", \"Domains\": \"Family Games, Strategy Games\"}, {\"ID\": 169124.0, \"Name\": \"Flick 'em Up!\", \"Year Published\": 2015.0, \"Min Players\": 2, \"Max Players\": 10, \"Play Time\": 45, \"Min Age\": 7, \"Users Rated\": 7703, \"Rating Average\": \"6,95\", \"BGG Rank\": 746, \"Complexity Average\": \"1,33\", \"Owned Users\": 14282.0, \"Mechanics\": \"Flicking, Pick-up and Deliver, Team-Based Game\", \"Domains\": \"Family Games, Thematic Games\"}, {\"ID\": 195560.0, \"Name\": \"Wasteland Express Delivery Service\", \"Year Published\": 2017.0, \"Min Players\": 2, \"Max Players\": 5, \"Play Time\": 120, \"Min Age\": 13, \"Users Rated\": 2710, \"Rating Average\": \"7,43\", \"BGG Rank\": 747, \"Complexity Average\": \"2,91\", \"Owned Users\": 6052.0, \"Mechanics\": \"Action Points, Dice Rolling, Market, Modular Board, Pick-up and Deliver, Variable Player Powers\", \"Domains\": \"Strategy Games, Thematic Games\"}, {\"ID\": 251678.0, \"Name\": \"Railroad Ink: Blazing Red Edition\", \"Year Published\": 2018.0, \"Min Players\": 1, \"Max Players\": 6, \"Play Time\": 30, \"Min Age\": 8, \"Users Rated\": 3782, \"Rating Average\": \"7,19\", \"BGG Rank\": 750, \"Complexity Average\": \"1,44\", \"Owned Users\": 7614.0, \"Mechanics\": \"Bingo, Connections, Dice Rolling, Line Drawing, Network and Route Building, Paper-and-Pencil\", \"Domains\": \"Family Games\"}, {\"ID\": 202670.0, \"Name\": \"Ticket to Ride: Rails & Sails\", \"Year Published\": 2016.0, \"Min Players\": 2, \"Max Players\": 5, \"Play Time\": 120, \"Min Age\": 10, \"Users Rated\": 2967, \"Rating Average\": \"7,41\", \"BGG Rank\": 752, \"Complexity Average\": \"2,56\", \"Owned Users\": 6439.0, \"Mechanics\": \"Card Drafting, Hand Management, Network and Route Building, Set Collection\", \"Domains\": \"Family Games\"}, {\"ID\": 207830.0, \"Name\": \"5-Minute Dungeon\", \"Year Published\": 2017.0, \"Min Players\": 2, \"Max Players\": 5, \"Play Time\": 30, \"Min Age\": 8, \"Users Rated\": 6644, \"Rating Average\": \"7,05\", \"BGG Rank\": 753, \"Complexity Average\": \"1,12\", \"Owned Users\": 12480.0, \"Mechanics\": \"Cooperative Game, Hand Management, Move Through Deck, Real-Time, Variable Player Powers\", \"Domains\": \"Family Games\"}, {\"ID\": 239464.0, \"Name\": \"Palm Island\", \"Year Published\": 2018.0, \"Min Players\": 1, \"Max Players\": 2, \"Play Time\": 15, \"Min Age\": 10, \"Users Rated\": 3475, \"Rating Average\": \"7,26\", \"BGG Rank\": 754, \"Complexity Average\": \"1,76\", \"Owned Users\": 7907.0, \"Mechanics\": \"Cooperative Game, Deck Bag and Pool Building, Hand Management, Memory, Simultaneous Action Selection, Solo / Solitaire Game\", \"Domains\": \"Family Games\"}, {\"ID\": 296912.0, \"Name\": \"Fort\", \"Year Published\": 2020.0, \"Min Players\": 2, \"Max Players\": 4, \"Play Time\": 40, \"Min Age\": 10, \"Users Rated\": 2722, \"Rating Average\": \"7,40\", \"BGG Rank\": 755, \"Complexity Average\": \"2,41\", \"Owned Users\": 6407.0, \"Mechanics\": \"Deck Bag and Pool Building, Follow, Hand Management\", \"Domains\": \"Strategy Games\"}, {\"ID\": 147151.0, \"Name\": \"Concept\", \"Year Published\": 2013.0, \"Min Players\": 4, \"Max Players\": 12, \"Play Time\": 40, \"Min Age\": 10, \"Users Rated\": 15427, \"Rating Average\": \"6,82\", \"BGG Rank\": 760, \"Complexity Average\": \"1,40\", \"Owned Users\": 23995.0, \"Mechanics\": \"Communication Limits, Team-Based Game\", \"Domains\": \"Party Games\"}, {\"ID\": 95064.0, \"Name\": \"Ascension: Return of the Fallen\", \"Year Published\": 2011.0, \"Min Players\": 1, \"Max Players\": 2, \"Play Time\": 30, \"Min Age\": 13, \"Users Rated\": 3150, \"Rating Average\": \"7,30\", \"BGG Rank\": 761, \"Complexity Average\": \"2,18\", \"Owned Users\": 5071.0, \"Mechanics\": \"Card Drafting, Deck Bag and Pool Building, Hand Management\", \"Domains\": \"Strategy Games\"}, {\"ID\": 131260.0, \"Name\": \"Qwixx\", \"Year Published\": 2012.0, \"Min Players\": 2, \"Max Players\": 5, \"Play Time\": 15, \"Min Age\": 8, \"Users Rated\": 9507, \"Rating Average\": \"6,88\", \"BGG Rank\": 764, \"Complexity Average\": \"1,12\", \"Owned Users\": 17019.0, \"Mechanics\": \"Bingo, Dice Rolling, Paper-and-Pencil\", \"Domains\": \"Family Games\"}, {\"ID\": 171669.0, \"Name\": \"Discoveries: The Journals of Lewis and Clark\", \"Year Published\": 2015.0, \"Min Players\": 2, \"Max Players\": 4, \"Play Time\": 60, \"Min Age\": 14, \"Users Rated\": 4430, \"Rating Average\": \"7,08\", \"BGG Rank\": 765, \"Complexity Average\": \"2,35\", \"Owned Users\": 6570.0, \"Mechanics\": \"Contracts, Deck Bag and Pool Building, Dice Rolling, Set Collection, Worker Placement, Worker Placement with Dice Workers\", \"Domains\": \"Strategy Games\"}, {\"ID\": 158275.0, \"Name\": \"Marvel Dice Masters: Uncanny X-Men\", \"Year Published\": 2014.0, \"Min Players\": 2, \"Max Players\": 2, \"Play Time\": 60, \"Min Age\": 14, \"Users Rated\": 3694, \"Rating Average\": \"7,20\", \"BGG Rank\": 767, \"Complexity Average\": \"2,37\", \"Owned Users\": 7945.0, \"Mechanics\": \"Deck Bag and Pool Building, Dice Rolling\", \"Domains\": \"Customizable Games\"}, {\"ID\": 59946.0, \"Name\": \"Dungeons & Dragons: Castle Ravenloft Board Game\", \"Year Published\": 2010.0, \"Min Players\": 1, \"Max Players\": 5, \"Play Time\": 60, \"Min Age\": 12, \"Users Rated\": 8445, \"Rating Average\": \"6,98\", \"BGG Rank\": 769, \"Complexity Average\": \"2,51\", \"Owned Users\": 14791.0, \"Mechanics\": \"Cooperative Game, Dice Rolling, Grid Movement, Modular Board, Role Playing, Solo / Solitaire Game, Variable Player Powers\", \"Domains\": \"Thematic Games\"}, {\"ID\": 203427.0, \"Name\": \"Fabled Fruit\", \"Year Published\": 2016.0, \"Min Players\": 2, \"Max Players\": 5, \"Play Time\": 30, \"Min Age\": 8, \"Users Rated\": 5058, \"Rating Average\": \"7,03\", \"BGG Rank\": 770, \"Complexity Average\": \"1,59\", \"Owned Users\": 7552.0, \"Mechanics\": \"Set Collection, Worker Placement\", \"Domains\": \"Family Games\"}, {\"ID\": 174570.0, \"Name\": \"Legendary Encounters: A Predator Deck Building Game\", \"Year Published\": 2015.0, \"Min Players\": 1, \"Max Players\": 5, \"Play Time\": 45, \"Min Age\": 17, \"Users Rated\": 2428, \"Rating Average\": \"7,46\", \"BGG Rank\": 772, \"Complexity Average\": \"2,70\", \"Owned Users\": 5279.0, \"Mechanics\": \"Card Drafting, Cooperative Game, Deck Bag and Pool Building, Player Elimination\", \"Domains\": \"Thematic Games\"}, {\"ID\": 252153.0, \"Name\": \"Tang Garden\", \"Year Published\": 2020.0, \"Min Players\": 1, \"Max Players\": 4, \"Play Time\": 60, \"Min Age\": 14, \"Users Rated\": 2112, \"Rating Average\": \"7,63\", \"BGG Rank\": 773, \"Complexity Average\": \"2,59\", \"Owned Users\": 5226.0, \"Mechanics\": \"Card Drafting, Set Collection, Tile Placement, Variable Player Powers\", \"Domains\": \"Family Games\"}, {\"ID\": 180593.0, \"Name\": \"The Bloody Inn\", \"Year Published\": 2015.0, \"Min Players\": 1, \"Max Players\": 4, \"Play Time\": 60, \"Min Age\": 14, \"Users Rated\": 6186, \"Rating Average\": \"6,98\", \"BGG Rank\": 774, \"Complexity Average\": \"2,39\", \"Owned Users\": 8883.0, \"Mechanics\": \"Card Drafting, End Game Bonuses, Hand Management, Income, Ownership, Simulation, Solo / Solitaire Game\", \"Domains\": \"Strategy Games\"}, {\"ID\": 125678.0, \"Name\": \"DC Comics Deck-Building Game\", \"Year Published\": 2012.0, \"Min Players\": 2, \"Max Players\": 5, \"Play Time\": 45, \"Min Age\": 15, \"Users Rated\": 6313, \"Rating Average\": \"7,05\", \"BGG Rank\": 777, \"Complexity Average\": \"2,00\", \"Owned Users\": 10043.0, \"Mechanics\": \"Card Drafting, Deck Bag and Pool Building\", \"Domains\": \"Thematic Games\"}, {\"ID\": 216459.0, \"Name\": \"The Lost Expedition\", \"Year Published\": 2017.0, \"Min Players\": 1, \"Max Players\": 5, \"Play Time\": 50, \"Min Age\": 14, \"Users Rated\": 4833, \"Rating Average\": \"7,07\", \"BGG Rank\": 779, \"Complexity Average\": \"1,86\", \"Owned Users\": 8767.0, \"Mechanics\": \"Cooperative Game, Hand Management, Solo / Solitaire Game\", \"Domains\": \"Thematic Games\"}, {\"ID\": 193214.0, \"Name\": \"Meeple Circus\", \"Year Published\": 2017.0, \"Min Players\": 2, \"Max Players\": 5, \"Play Time\": 45, \"Min Age\": 8, \"Users Rated\": 4191, \"Rating Average\": \"7,12\", \"BGG Rank\": 780, \"Complexity Average\": \"1,44\", \"Owned Users\": 6672.0, \"Mechanics\": \"Card Drafting, Pattern Building, Push Your Luck, Stacking and Balancing\", \"Domains\": \"Family Games, Party Games\"}, {\"ID\": 161866.0, \"Name\": \"Zombicide Season 3: Rue Morgue\", \"Year Published\": 2015.0, \"Min Players\": 1, \"Max Players\": 12, \"Play Time\": 60, \"Min Age\": 14, \"Users Rated\": 2448, \"Rating Average\": \"7,55\", \"BGG Rank\": 781, \"Complexity Average\": \"2,48\", \"Owned Users\": 6760.0, \"Mechanics\": \"Action Points, Cooperative Game, Dice Rolling, Hand Management, Modular Board, Team-Based Game, Variable Player Powers\", \"Domains\": \"Thematic Games\"}, {\"ID\": 131646.0, \"Name\": \"Merchant of Venus (Second Edition)\", \"Year Published\": 2012.0, \"Min Players\": 1, \"Max Players\": 4, \"Play Time\": 240, \"Min Age\": 14, \"Users Rated\": 3592, \"Rating Average\": \"7,18\", \"BGG Rank\": 782, \"Complexity Average\": \"3,02\", \"Owned Users\": 6543.0, \"Mechanics\": \"Commodity Speculation, Dice Rolling, Pick-up and Deliver, Point to Point Movement, Roll / Spin and Move\", \"Domains\": \"Strategy Games, Thematic Games\"}, {\"ID\": 219215.0, \"Name\": \"Werewords\", \"Year Published\": 2017.0, \"Min Players\": 4, \"Max Players\": 10, \"Play Time\": 10, \"Min Age\": 8, \"Users Rated\": 3500, \"Rating Average\": \"7,18\", \"BGG Rank\": 786, \"Complexity Average\": \"1,19\", \"Owned Users\": 6136.0, \"Mechanics\": \"Hidden Roles, Roles with Asymmetric Information, Traitor Game, Variable Player Powers, Voting\", \"Domains\": \"Party Games\"}, {\"ID\": 168917.0, \"Name\": \"Smash Up: Pretty Pretty Smash Up\", \"Year Published\": 2015.0, \"Min Players\": 2, \"Max Players\": 2, \"Play Time\": 45, \"Min Age\": 14, \"Users Rated\": 3192, \"Rating Average\": \"7,28\", \"BGG Rank\": 788, \"Complexity Average\": \"2,15\", \"Owned Users\": 10782.0, \"Mechanics\": \"Area Majority / Influence, Hand Management, Variable Player Powers\", \"Domains\": \"Strategy Games\"}, {\"ID\": 72287.0, \"Name\": \"Mr. Jack Pocket\", \"Year Published\": 2010.0, \"Min Players\": 2, \"Max Players\": 2, \"Play Time\": 15, \"Min Age\": 14, \"Users Rated\": 7575, \"Rating Average\": \"6,90\", \"BGG Rank\": 796, \"Complexity Average\": \"1,82\", \"Owned Users\": 12549.0, \"Mechanics\": \"Map Deformation, Modular Board\", \"Domains\": \"Strategy Games\"}, {\"ID\": 212402.0, \"Name\": \"The Grimm Forest\", \"Year Published\": 2018.0, \"Min Players\": 2, \"Max Players\": 4, \"Play Time\": 60, \"Min Age\": 14, \"Users Rated\": 4393, \"Rating Average\": \"7,14\", \"BGG Rank\": 799, \"Complexity Average\": \"1,86\", \"Owned Users\": 8656.0, \"Mechanics\": \"Rock-Paper-Scissors, Set Collection, Simultaneous Action Selection, Take That\", \"Domains\": \"Family Games\"}, {\"ID\": 271518.0, \"Name\": \"Disney Villainous: Wicked to the Core\", \"Year Published\": 2019.0, \"Min Players\": 2, \"Max Players\": 3, \"Play Time\": 60, \"Min Age\": 10, \"Users Rated\": 2022, \"Rating Average\": \"7,68\", \"BGG Rank\": 800, \"Complexity Average\": \"2,33\", \"Owned Users\": 8322.0, \"Mechanics\": \"Hand Management, Take That, Variable Player Powers\", \"Domains\": \"Family Games\"}, {\"ID\": 200077.0, \"Name\": \"Mint Works\", \"Year Published\": 2017.0, \"Min Players\": 1, \"Max Players\": 4, \"Play Time\": 20, \"Min Age\": 13, \"Users Rated\": 4926, \"Rating Average\": \"7,03\", \"BGG Rank\": 802, \"Complexity Average\": \"1,65\", \"Owned Users\": 10053.0, \"Mechanics\": \"Card Drafting, Worker Placement\", \"Domains\": \"Strategy Games\"}, {\"ID\": 104363.0, \"Name\": \"Rex: Final Days of an Empire\", \"Year Published\": 2012.0, \"Min Players\": 3, \"Max Players\": 6, \"Play Time\": 180, \"Min Age\": 14, \"Users Rated\": 4226, \"Rating Average\": \"7,10\", \"BGG Rank\": 804, \"Complexity Average\": \"3,27\", \"Owned Users\": 7269.0, \"Mechanics\": \"Alliances, Area Majority / Influence, Auction/Bidding, Force Commitment, Hand Management, Point to Point Movement, Team-Based Game, Variable Player Powers\", \"Domains\": \"Strategy Games, Thematic Games\"}, {\"ID\": 150999.0, \"Name\": \"Valley of the Kings\", \"Year Published\": 2014.0, \"Min Players\": 2, \"Max Players\": 4, \"Play Time\": 45, \"Min Age\": 14, \"Users Rated\": 4239, \"Rating Average\": \"7,05\", \"BGG Rank\": 806, \"Complexity Average\": \"2,19\", \"Owned Users\": 6725.0, \"Mechanics\": \"Card Drafting, Deck Bag and Pool Building, Hand Management, Set Collection\", \"Domains\": \"Strategy Games\"}, {\"ID\": 156776.0, \"Name\": \"Warhammer 40,000: Conquest\", \"Year Published\": 2014.0, \"Min Players\": 2, \"Max Players\": 2, \"Play Time\": 60, \"Min Age\": 14, \"Users Rated\": 2853, \"Rating Average\": \"7,37\", \"BGG Rank\": 807, \"Complexity Average\": \"3,04\", \"Owned Users\": 5373.0, \"Mechanics\": \"Area Majority / Influence, Area-Impulse, Hand Management\", \"Domains\": \"Customizable Games\"}, {\"ID\": 222514.0, \"Name\": \"Batman: Gotham City Chronicles\", \"Year Published\": 2019.0, \"Min Players\": 2, \"Max Players\": 4, \"Play Time\": 90, \"Min Age\": 14, \"Users Rated\": 2126, \"Rating Average\": \"7,79\", \"BGG Rank\": 811, \"Complexity Average\": \"3,68\", \"Owned Users\": 5350.0, \"Mechanics\": \"Action Points, Action Queue, Area Movement, Dice Rolling, Team-Based Game, Variable Phase Order, Variable Player Powers\", \"Domains\": \"Thematic Games\"}, {\"ID\": 104710.0, \"Name\": \"Wiz-War (Eighth Edition)\", \"Year Published\": 2012.0, \"Min Players\": 2, \"Max Players\": 4, \"Play Time\": 60, \"Min Age\": 14, \"Users Rated\": 4645, \"Rating Average\": \"7,06\", \"BGG Rank\": 812, \"Complexity Average\": \"2,32\", \"Owned Users\": 6880.0, \"Mechanics\": \"Grid Movement, Hand Management, Line of Sight, Map Deformation, Modular Board, Player Elimination, Take That, Variable Set-up\", \"Domains\": \"Thematic Games\"}, {\"ID\": 204027.0, \"Name\": \"Cottage Garden\", \"Year Published\": 2016.0, \"Min Players\": 1, \"Max Players\": 4, \"Play Time\": 60, \"Min Age\": 8, \"Users Rated\": 6992, \"Rating Average\": \"6,91\", \"BGG Rank\": 813, \"Complexity Average\": \"1,90\", \"Owned Users\": 10739.0, \"Mechanics\": \"Card Drafting, Grid Coverage, Pattern Building, Tile Placement\", \"Domains\": \"Family Games\"}, {\"ID\": 160018.0, \"Name\": \"Smash Up: Monster Smash\", \"Year Published\": 2014.0, \"Min Players\": 2, \"Max Players\": 2, \"Play Time\": 45, \"Min Age\": 12, \"Users Rated\": 2890, \"Rating Average\": \"7,31\", \"BGG Rank\": 814, \"Complexity Average\": \"2,29\", \"Owned Users\": 9539.0, \"Mechanics\": \"Area Majority / Influence, Hand Management, Take That, Variable Player Powers\", \"Domains\": \"Family Games, Strategy Games\"}, {\"ID\": 157403.0, \"Name\": \"Black Fleet\", \"Year Published\": 2014.0, \"Min Players\": 3, \"Max Players\": 4, \"Play Time\": 60, \"Min Age\": 14, \"Users Rated\": 4929, \"Rating Average\": \"7,02\", \"BGG Rank\": 817, \"Complexity Average\": \"1,95\", \"Owned Users\": 7769.0, \"Mechanics\": \"Area Movement, Grid Movement, Hand Management, Pick-up and Deliver, Take That, Variable Player Powers\", \"Domains\": \"Family Games\"}, {\"ID\": 200954.0, \"Name\": \"Fields of Green\", \"Year Published\": 2016.0, \"Min Players\": 2, \"Max Players\": 4, \"Play Time\": 45, \"Min Age\": 12, \"Users Rated\": 3190, \"Rating Average\": \"7,19\", \"BGG Rank\": 821, \"Complexity Average\": \"2,63\", \"Owned Users\": 5486.0, \"Mechanics\": \"Card Drafting, Simultaneous Action Selection, Tile Placement, Variable Phase Order\", \"Domains\": \"Strategy Games\"}, {\"ID\": 178336.0, \"Name\": \"World's Fair 1893\", \"Year Published\": 2016.0, \"Min Players\": 2, \"Max Players\": 4, \"Play Time\": 45, \"Min Age\": 10, \"Users Rated\": 3182, \"Rating Average\": \"7,20\", \"BGG Rank\": 822, \"Complexity Average\": \"1,99\", \"Owned Users\": 5222.0, \"Mechanics\": \"Area Majority / Influence, Card Drafting, Set Collection\", \"Domains\": \"Family Games, Strategy Games\"}, {\"ID\": 230080.0, \"Name\": \"Majesty: For the Realm\", \"Year Published\": 2017.0, \"Min Players\": 2, \"Max Players\": 4, \"Play Time\": 40, \"Min Age\": 7, \"Users Rated\": 5088, \"Rating Average\": \"6,99\", \"BGG Rank\": 824, \"Complexity Average\": \"1,73\", \"Owned Users\": 6494.0, \"Mechanics\": \"Card Drafting, Set Collection, Victory Points as a Resource\", \"Domains\": \"Family Games\"}, {\"ID\": 272738.0, \"Name\": \"Jaws\", \"Year Published\": 2019.0, \"Min Players\": 2, \"Max Players\": 4, \"Play Time\": 60, \"Min Age\": 12, \"Users Rated\": 2892, \"Rating Average\": \"7,32\", \"BGG Rank\": 826, \"Complexity Average\": \"2,16\", \"Owned Users\": 7936.0, \"Mechanics\": \"Area Movement, Card Play Conflict Resolution, Hidden Movement, Map Reduction, Modular Board, Player Elimination, Secret Unit Deployment, Team-Based Game, Variable Player Powers\", \"Domains\": \"Thematic Games\"}, {\"ID\": 66056.0, \"Name\": \"Rivals for Catan\", \"Year Published\": 2010.0, \"Min Players\": 2, \"Max Players\": 2, \"Play Time\": 120, \"Min Age\": 10, \"Users Rated\": 5882, \"Rating Average\": \"6,98\", \"BGG Rank\": 828, \"Complexity Average\": \"2,33\", \"Owned Users\": 12706.0, \"Mechanics\": \"Card Drafting, Dice Rolling, Hand Management\", \"Domains\": \"Strategy Games\"}, {\"ID\": 185589.0, \"Name\": \"Islebound\", \"Year Published\": 2016.0, \"Min Players\": 2, \"Max Players\": 4, \"Play Time\": 120, \"Min Age\": 13, \"Users Rated\": 3112, \"Rating Average\": \"7,19\", \"BGG Rank\": 829, \"Complexity Average\": \"2,73\", \"Owned Users\": 6016.0, \"Mechanics\": \"Area Majority / Influence, Area Movement, Dice Rolling, Drafting, End Game Bonuses, Increase Value of Unchosen Resources, Modular Board, Pick-up and Deliver, Push Your Luck, Worker Placement\", \"Domains\": \"Strategy Games\"}, {\"ID\": 157809.0, \"Name\": \"Nations: The Dice Game\", \"Year Published\": 2014.0, \"Min Players\": 1, \"Max Players\": 4, \"Play Time\": 40, \"Min Age\": 14, \"Users Rated\": 4905, \"Rating Average\": \"6,97\", \"BGG Rank\": 839, \"Complexity Average\": \"2,01\", \"Owned Users\": 5332.0, \"Mechanics\": \"Dice Rolling, Events, Push Your Luck, Re-rolling and Locking, Turn Order: Stat-Based, Variable Set-up\", \"Domains\": \"Family Games, Strategy Games\"}, {\"ID\": 218121.0, \"Name\": \"Dice Hospital\", \"Year Published\": 2018.0, \"Min Players\": 1, \"Max Players\": 4, \"Play Time\": 90, \"Min Age\": 10, \"Users Rated\": 3095, \"Rating Average\": \"7,21\", \"BGG Rank\": 840, \"Complexity Average\": \"2,29\", \"Owned Users\": 5496.0, \"Mechanics\": \"Action Points, Dice Rolling, Drafting, Hexagon Grid, Modular Board, Solo / Solitaire Game, Variable Phase Order, Worker Placement\", \"Domains\": \"Family Games, Strategy Games\"}, {\"ID\": 238992.0, \"Name\": \"Call to Adventure\", \"Year Published\": 2019.0, \"Min Players\": 1, \"Max Players\": 4, \"Play Time\": 60, \"Min Age\": 9, \"Users Rated\": 3281, \"Rating Average\": \"7,26\", \"BGG Rank\": 842, \"Complexity Average\": \"2,01\", \"Owned Users\": 6725.0, \"Mechanics\": \"Deck Bag and Pool Building, Dice Rolling, Set Collection, Solo / Solitaire Game, Storytelling\", \"Domains\": \"Thematic Games\"}, {\"ID\": 171233.0, \"Name\": \"The Big Book of Madness\", \"Year Published\": 2015.0, \"Min Players\": 2, \"Max Players\": 5, \"Play Time\": 90, \"Min Age\": 12, \"Users Rated\": 5646, \"Rating Average\": \"6,96\", \"BGG Rank\": 843, \"Complexity Average\": \"2,70\", \"Owned Users\": 9773.0, \"Mechanics\": \"Cooperative Game, Deck Bag and Pool Building, Hand Management, Player Elimination, Variable Player Powers\", \"Domains\": \"Strategy Games\"}, {\"ID\": 198740.0, \"Name\": \"Lovecraft Letter\", \"Year Published\": 2017.0, \"Min Players\": 2, \"Max Players\": 6, \"Play Time\": 15, \"Min Age\": 10, \"Users Rated\": 2974, \"Rating Average\": \"7,23\", \"BGG Rank\": 844, \"Complexity Average\": \"1,47\", \"Owned Users\": 5613.0, \"Mechanics\": \"Hand Management, Player Elimination\", \"Domains\": \"Party Games\"}, {\"ID\": 198454.0, \"Name\": \"When I Dream\", \"Year Published\": 2016.0, \"Min Players\": 4, \"Max Players\": 10, \"Play Time\": 40, \"Min Age\": 8, \"Users Rated\": 4035, \"Rating Average\": \"7,07\", \"BGG Rank\": 846, \"Complexity Average\": \"1,15\", \"Owned Users\": 7096.0, \"Mechanics\": \"Communication Limits, Memory, Role Playing, Storytelling, Team-Based Game\", \"Domains\": \"Party Games\"}, {\"ID\": 191231.0, \"Name\": \"Via Nebula\", \"Year Published\": 2016.0, \"Min Players\": 2, \"Max Players\": 4, \"Play Time\": 60, \"Min Age\": 12, \"Users Rated\": 3841, \"Rating Average\": \"7,06\", \"BGG Rank\": 848, \"Complexity Average\": \"2,24\", \"Owned Users\": 5356.0, \"Mechanics\": \"Action Points, Network and Route Building, Pick-up and Deliver\", \"Domains\": \"Family Games, Strategy Games\"}, {\"ID\": 136991.0, \"Name\": \"Loony Quest\", \"Year Published\": 2015.0, \"Min Players\": 2, \"Max Players\": 5, \"Play Time\": 30, \"Min Age\": 8, \"Users Rated\": 5503, \"Rating Average\": \"6,94\", \"BGG Rank\": 849, \"Complexity Average\": \"1,19\", \"Owned Users\": 8681.0, \"Mechanics\": \"Line Drawing\", \"Domains\": \"Family Games\"}, {\"ID\": 130176.0, \"Name\": \"Tales & Games: The Hare & the Tortoise\", \"Year Published\": 2011.0, \"Min Players\": 2, \"Max Players\": 5, \"Play Time\": 20, \"Min Age\": 7, \"Users Rated\": 3646, \"Rating Average\": \"7,09\", \"BGG Rank\": 855, \"Complexity Average\": \"1,38\", \"Owned Users\": 6205.0, \"Mechanics\": \"Betting and Bluffing, Hand Management\", \"Domains\": \"Family Games\"}, {\"ID\": 253284.0, \"Name\": \"Ticket to Ride: New York\", \"Year Published\": 2018.0, \"Min Players\": 2, \"Max Players\": 4, \"Play Time\": 15, \"Min Age\": 8, \"Users Rated\": 4523, \"Rating Average\": \"7,01\", \"BGG Rank\": 857, \"Complexity Average\": \"1,28\", \"Owned Users\": 9834.0, \"Mechanics\": \"Card Drafting, Hand Management, Network and Route Building, Set Collection\", \"Domains\": \"Family Games\"}, {\"ID\": 67492.0, \"Name\": \"Battles of Westeros\", \"Year Published\": 2010.0, \"Min Players\": 2, \"Max Players\": 2, \"Play Time\": 120, \"Min Age\": 12, \"Users Rated\": 2802, \"Rating Average\": \"7,27\", \"BGG Rank\": 858, \"Complexity Average\": \"3,21\", \"Owned Users\": 5079.0, \"Mechanics\": \"Campaign / Battle Card Driven, Dice Rolling, Hand Management, Modular Board, Once-Per-Game Abilities, Variable Player Powers\", \"Domains\": \"Thematic Games, Wargames\"}, {\"ID\": 97903.0, \"Name\": \"Terror in Meeple City\", \"Year Published\": 2013.0, \"Min Players\": 2, \"Max Players\": 4, \"Play Time\": 45, \"Min Age\": 8, \"Users Rated\": 7130, \"Rating Average\": \"6,86\", \"BGG Rank\": 861, \"Complexity Average\": \"1,48\", \"Owned Users\": 11146.0, \"Mechanics\": \"Area Movement, Flicking, Set Collection, Variable Player Powers\", \"Domains\": \"Family Games\"}, {\"ID\": 135382.0, \"Name\": \"Shadowrun: Crossfire\", \"Year Published\": 2014.0, \"Min Players\": 1, \"Max Players\": 4, \"Play Time\": 60, \"Min Age\": 13, \"Users Rated\": 3374, \"Rating Average\": \"7,17\", \"BGG Rank\": 865, \"Complexity Average\": \"2,82\", \"Owned Users\": 5450.0, \"Mechanics\": \"Cooperative Game, Deck Bag and Pool Building, Legacy Game, Variable Player Powers\", \"Domains\": \"Thematic Games\"}, {\"ID\": 177524.0, \"Name\": \"ICECOOL\", \"Year Published\": 2016.0, \"Min Players\": 2, \"Max Players\": 4, \"Play Time\": 30, \"Min Age\": 6, \"Users Rated\": 8195, \"Rating Average\": \"6,83\", \"BGG Rank\": 867, \"Complexity Average\": \"1,02\", \"Owned Users\": 13686.0, \"Mechanics\": \"Area Movement, Flicking, Take That\", \"Domains\": \"Children's Games, Family Games\"}, {\"ID\": 122522.0, \"Name\": \"Smash Up\", \"Year Published\": 2012.0, \"Min Players\": 2, \"Max Players\": 4, \"Play Time\": 45, \"Min Age\": 12, \"Users Rated\": 23609, \"Rating Average\": \"6,75\", \"BGG Rank\": 868, \"Complexity Average\": \"2,06\", \"Owned Users\": 38752.0, \"Mechanics\": \"Area Majority / Influence, Deck Construction, Hand Management, Take That, Variable Player Powers, Variable Set-up\", \"Domains\": \"Strategy Games\"}, {\"ID\": 217449.0, \"Name\": \"NMBR 9\", \"Year Published\": 2017.0, \"Min Players\": 1, \"Max Players\": 4, \"Play Time\": 20, \"Min Age\": 8, \"Users Rated\": 5704, \"Rating Average\": \"6,91\", \"BGG Rank\": 871, \"Complexity Average\": \"1,22\", \"Owned Users\": 7490.0, \"Mechanics\": \"Bingo, Pattern Building, Simultaneous Action Selection, Tile Placement\", \"Domains\": \"Abstract Games, Family Games\"}, {\"ID\": 197070.0, \"Name\": \"Massive Darkness\", \"Year Published\": 2017.0, \"Min Players\": 1, \"Max Players\": 6, \"Play Time\": 120, \"Min Age\": 14, \"Users Rated\": 3998, \"Rating Average\": \"7,24\", \"BGG Rank\": 873, \"Complexity Average\": \"2,55\", \"Owned Users\": 9003.0, \"Mechanics\": \"Action Points, Cooperative Game, Dice Rolling, Hand Management, Modular Board, Variable Player Powers\", \"Domains\": \"Thematic Games\"}, {\"ID\": 175324.0, \"Name\": \"Fog of Love\", \"Year Published\": 2017.0, \"Min Players\": 2, \"Max Players\": 2, \"Play Time\": 120, \"Min Age\": 17, \"Users Rated\": 5343, \"Rating Average\": \"6,95\", \"BGG Rank\": 880, \"Complexity Average\": \"2,25\", \"Owned Users\": 11943.0, \"Mechanics\": \"Communication Limits, Hand Management, Role Playing, Semi-Cooperative Game, Simulation, Simultaneous Action Selection, Storytelling\", \"Domains\": \"Thematic Games\"}, {\"ID\": 142326.0, \"Name\": \"Eight-Minute Empire: Legends\", \"Year Published\": 2013.0, \"Min Players\": 2, \"Max Players\": 4, \"Play Time\": 32, \"Min Age\": 13, \"Users Rated\": 4547, \"Rating Average\": \"6,97\", \"BGG Rank\": 884, \"Complexity Average\": \"1,98\", \"Owned Users\": 7366.0, \"Mechanics\": \"Area Majority / Influence, Area Movement, Campaign / Battle Card Driven, Card Drafting, Modular Board, Set Collection, Variable Player Powers\", \"Domains\": \"Family Games, Strategy Games\"}, {\"ID\": 91536.0, \"Name\": \"Quarriors!\", \"Year Published\": 2011.0, \"Min Players\": 2, \"Max Players\": 4, \"Play Time\": 30, \"Min Age\": 14, \"Users Rated\": 13151, \"Rating Average\": \"6,76\", \"BGG Rank\": 886, \"Complexity Average\": \"1,97\", \"Owned Users\": 17126.0, \"Mechanics\": \"Card Drafting, Deck Bag and Pool Building, Dice Rolling\", \"Domains\": \"Strategy Games\"}, {\"ID\": 207336.0, \"Name\": \"Honsh\\u016b\", \"Year Published\": 2016.0, \"Min Players\": 2, \"Max Players\": 5, \"Play Time\": 30, \"Min Age\": 8, \"Users Rated\": 4317, \"Rating Average\": \"6,99\", \"BGG Rank\": 892, \"Complexity Average\": \"1,95\", \"Owned Users\": 6972.0, \"Mechanics\": \"Auction/Bidding, Hand Management, Melding and Splaying\", \"Domains\": \"Family Games\"}, {\"ID\": 153065.0, \"Name\": \"Linko!\", \"Year Published\": 2014.0, \"Min Players\": 2, \"Max Players\": 5, \"Play Time\": 20, \"Min Age\": 10, \"Users Rated\": 4116, \"Rating Average\": \"7,00\", \"BGG Rank\": 893, \"Complexity Average\": \"1,40\", \"Owned Users\": 6403.0, \"Mechanics\": \"Card Drafting, Hand Management, Set Collection\", \"Domains\": \"Family Games\"}, {\"ID\": 152162.0, \"Name\": \"Diamonds: Second Edition\", \"Year Published\": 2014.0, \"Min Players\": 2, \"Max Players\": 6, \"Play Time\": 30, \"Min Age\": 8, \"Users Rated\": 4896, \"Rating Average\": \"6,93\", \"BGG Rank\": 894, \"Complexity Average\": \"1,55\", \"Owned Users\": 7389.0, \"Mechanics\": \"Hand Management, Trick-taking\", \"Domains\": \"Family Games\"}, {\"ID\": 134352.0, \"Name\": \"Two Rooms and a Boom\", \"Year Published\": 2013.0, \"Min Players\": 6, \"Max Players\": 30, \"Play Time\": 20, \"Min Age\": 8, \"Users Rated\": 4297, \"Rating Average\": \"7,01\", \"BGG Rank\": 904, \"Complexity Average\": \"1,43\", \"Owned Users\": 7152.0, \"Mechanics\": \"Acting, Elapsed Real Time Ending, Team-Based Game, Variable Player Powers, Voting\", \"Domains\": \"Party Games\"}, {\"ID\": 194880.0, \"Name\": \"Dream Home\", \"Year Published\": 2016.0, \"Min Players\": 2, \"Max Players\": 4, \"Play Time\": 30, \"Min Age\": 7, \"Users Rated\": 5534, \"Rating Average\": \"6,92\", \"BGG Rank\": 906, \"Complexity Average\": \"1,67\", \"Owned Users\": 8312.0, \"Mechanics\": \"Card Drafting, Memory, Pattern Building, Set Collection, Variable Phase Order\", \"Domains\": \"Family Games\"}, {\"ID\": 156091.0, \"Name\": \"Sons of Anarchy: Men of Mayhem\", \"Year Published\": 2014.0, \"Min Players\": 3, \"Max Players\": 4, \"Play Time\": 90, \"Min Age\": 13, \"Users Rated\": 2567, \"Rating Average\": \"7,29\", \"BGG Rank\": 909, \"Complexity Average\": \"2,53\", \"Owned Users\": 5584.0, \"Mechanics\": \"Action Points, Area Majority / Influence, Dice Rolling, Events, Force Commitment, Modular Board, Take That, Trading, Turn Order: Claim Action, Variable Player Powers, Variable Set-up\", \"Domains\": \"Thematic Games\"}, {\"ID\": 184151.0, \"Name\": \"Legend of the Five Rings: The Card Game\", \"Year Published\": 2017.0, \"Min Players\": 2, \"Max Players\": 2, \"Play Time\": 90, \"Min Age\": 14, \"Users Rated\": 2199, \"Rating Average\": \"7,49\", \"BGG Rank\": 911, \"Complexity Average\": \"3,99\", \"Owned Users\": 5109.0, \"Mechanics\": \"Action Points, Hand Management, Secret Unit Deployment, Variable Player Powers\", \"Domains\": \"Customizable Games\"}, {\"ID\": 183571.0, \"Name\": \"Deep Space D-6\", \"Year Published\": 2015.0, \"Min Players\": 1, \"Max Players\": 1, \"Play Time\": 30, \"Min Age\": 10, \"Users Rated\": 2596, \"Rating Average\": \"7,29\", \"BGG Rank\": 913, \"Complexity Average\": \"1,66\", \"Owned Users\": 5882.0, \"Mechanics\": \"Dice Rolling, Solo / Solitaire Game, Worker Placement, Worker Placement with Dice Workers\", \"Domains\": \"Thematic Games\"}, {\"ID\": 284760.0, \"Name\": \"Disney Villainous: Evil Comes Prepared\", \"Year Published\": 2019.0, \"Min Players\": 2, \"Max Players\": 3, \"Play Time\": 60, \"Min Age\": 10, \"Users Rated\": 1666, \"Rating Average\": \"7,73\", \"BGG Rank\": 915, \"Complexity Average\": \"2,22\", \"Owned Users\": 7312.0, \"Mechanics\": \"Hand Management, Take That, Variable Player Powers\", \"Domains\": \"Family Games\"}, {\"ID\": 223750.0, \"Name\": \"Hardback\", \"Year Published\": 2018.0, \"Min Players\": 1, \"Max Players\": 5, \"Play Time\": 90, \"Min Age\": 10, \"Users Rated\": 2224, \"Rating Average\": \"7,33\", \"BGG Rank\": 921, \"Complexity Average\": \"2,11\", \"Owned Users\": 5267.0, \"Mechanics\": \"Cooperative Game, Deck Bag and Pool Building, Delayed Purchase, Push Your Luck\", \"Domains\": \"Family Games, Strategy Games\"}, {\"ID\": 121410.0, \"Name\": \"Steam Park\", \"Year Published\": 2013.0, \"Min Players\": 2, \"Max Players\": 4, \"Play Time\": 60, \"Min Age\": 10, \"Users Rated\": 5506, \"Rating Average\": \"6,88\", \"BGG Rank\": 922, \"Complexity Average\": \"2,12\", \"Owned Users\": 8483.0, \"Mechanics\": \"Card Drafting, Dice Rolling, Memory, Modular Board\", \"Domains\": \"Family Games\"}, {\"ID\": 187377.0, \"Name\": \"Vikings Gone Wild\", \"Year Published\": 2017.0, \"Min Players\": 2, \"Max Players\": 4, \"Play Time\": 90, \"Min Age\": 10, \"Users Rated\": 3075, \"Rating Average\": \"7,22\", \"BGG Rank\": 923, \"Complexity Average\": \"2,22\", \"Owned Users\": 5490.0, \"Mechanics\": \"Deck Bag and Pool Building, Hand Management\", \"Domains\": \"Strategy Games\"}, {\"ID\": 217861.0, \"Name\": \"Paper Tales\", \"Year Published\": 2017.0, \"Min Players\": 2, \"Max Players\": 5, \"Play Time\": 30, \"Min Age\": 12, \"Users Rated\": 3362, \"Rating Average\": \"7,07\", \"BGG Rank\": 925, \"Complexity Average\": \"2,12\", \"Owned Users\": 5166.0, \"Mechanics\": \"Card Drafting, Card Play Conflict Resolution, Drafting, End Game Bonuses, Hand Management, Secret Unit Deployment, Simultaneous Action Selection, Tech Trees / Tech Tracks\", \"Domains\": \"Strategy Games\"}, {\"ID\": 183880.0, \"Name\": \"Risk: Star Wars Edition\", \"Year Published\": 2015.0, \"Min Players\": 2, \"Max Players\": 4, \"Play Time\": 45, \"Min Age\": 10, \"Users Rated\": 3700, \"Rating Average\": \"7,04\", \"BGG Rank\": 930, \"Complexity Average\": \"1,85\", \"Owned Users\": 8710.0, \"Mechanics\": \"Area Majority / Influence, Area Movement, Campaign / Battle Card Driven, Dice Rolling, Hand Management, Variable Player Powers\", \"Domains\": \"Thematic Games\"}, {\"ID\": 95103.0, \"Name\": \"Fortune and Glory: The Cliffhanger Game\", \"Year Published\": 2011.0, \"Min Players\": 1, \"Max Players\": 8, \"Play Time\": 240, \"Min Age\": 12, \"Users Rated\": 3533, \"Rating Average\": \"7,10\", \"BGG Rank\": 934, \"Complexity Average\": \"2,88\", \"Owned Users\": 6077.0, \"Mechanics\": \"Area Movement, Cooperative Game, Dice Rolling, Pick-up and Deliver, Push Your Luck, Roll / Spin and Move, Variable Player Powers\", \"Domains\": \"Thematic Games\"}, {\"ID\": 37628.0, \"Name\": \"Haggis\", \"Year Published\": 2010.0, \"Min Players\": 2, \"Max Players\": 3, \"Play Time\": 45, \"Min Age\": 13, \"Users Rated\": 3917, \"Rating Average\": \"6,97\", \"BGG Rank\": 936, \"Complexity Average\": \"2,12\", \"Owned Users\": 5838.0, \"Mechanics\": \"Betting and Bluffing, Hand Management, Ladder Climbing, Trick-taking\", \"Domains\": \"Strategy Games\"}, {\"ID\": 195314.0, \"Name\": \"Herbaceous\", \"Year Published\": 2017.0, \"Min Players\": 1, \"Max Players\": 4, \"Play Time\": 20, \"Min Age\": 8, \"Users Rated\": 3396, \"Rating Average\": \"7,10\", \"BGG Rank\": 937, \"Complexity Average\": \"1,19\", \"Owned Users\": 6191.0, \"Mechanics\": \"Push Your Luck, Set Collection, Solo / Solitaire Game\", \"Domains\": \"Family Games\"}, {\"ID\": 175199.0, \"Name\": \"Mottainai\", \"Year Published\": 2015.0, \"Min Players\": 2, \"Max Players\": 5, \"Play Time\": 30, \"Min Age\": 13, \"Users Rated\": 3491, \"Rating Average\": \"7,03\", \"BGG Rank\": 938, \"Complexity Average\": \"3,09\", \"Owned Users\": 6673.0, \"Mechanics\": \"Card Drafting, Follow, Hand Management, Set Collection, Team-Based Game, Variable Phase Order\", \"Domains\": \"Strategy Games\"}, {\"ID\": 247236.0, \"Name\": \"Duelosaur Island\", \"Year Published\": 2018.0, \"Min Players\": 1, \"Max Players\": 2, \"Play Time\": 45, \"Min Age\": 10, \"Users Rated\": 2583, \"Rating Average\": \"7,22\", \"BGG Rank\": 939, \"Complexity Average\": \"2,35\", \"Owned Users\": 6881.0, \"Mechanics\": \"Card Drafting, Dice Rolling, Hand Management, Income, Set Collection\", \"Domains\": \"Strategy Games\"}, {\"ID\": 145639.0, \"Name\": \"Coconuts\", \"Year Published\": 2013.0, \"Min Players\": 2, \"Max Players\": 4, \"Play Time\": 20, \"Min Age\": 6, \"Users Rated\": 3712, \"Rating Average\": \"7,03\", \"BGG Rank\": 941, \"Complexity Average\": \"1,04\", \"Owned Users\": 5760.0, \"Mechanics\": \"Push Your Luck, Take That\", \"Domains\": \"Children's Games, Family Games\"}, {\"ID\": 228504.0, \"Name\": \"Cat Lady\", \"Year Published\": 2017.0, \"Min Players\": 2, \"Max Players\": 4, \"Play Time\": 30, \"Min Age\": 8, \"Users Rated\": 3455, \"Rating Average\": \"7,08\", \"BGG Rank\": 942, \"Complexity Average\": \"1,48\", \"Owned Users\": 5737.0, \"Mechanics\": \"Card Drafting, Set Collection\", \"Domains\": \"Family Games\"}, {\"ID\": 151007.0, \"Name\": \"Pathfinder Adventure Card Game: Skull & Shackles - Base Set\", \"Year Published\": 2014.0, \"Min Players\": 1, \"Max Players\": 4, \"Play Time\": 90, \"Min Age\": 13, \"Users Rated\": 2413, \"Rating Average\": \"7,31\", \"BGG Rank\": 943, \"Complexity Average\": \"2,95\", \"Owned Users\": 6307.0, \"Mechanics\": \"Cooperative Game, Deck Bag and Pool Building, Dice Rolling, Role Playing, Scenario / Mission / Campaign Game, Variable Player Powers\", \"Domains\": \"Customizable Games, Thematic Games\"}, {\"ID\": 146312.0, \"Name\": \"Ghost Fightin' Treasure Hunters\", \"Year Published\": 2013.0, \"Min Players\": 2, \"Max Players\": 4, \"Play Time\": 30, \"Min Age\": 8, \"Users Rated\": 2849, \"Rating Average\": \"7,17\", \"BGG Rank\": 946, \"Complexity Average\": \"1,65\", \"Owned Users\": 6434.0, \"Mechanics\": \"Cooperative Game, Dice Rolling, Pick-up and Deliver, Roll / Spin and Move\", \"Domains\": \"Children's Games, Family Games\"}, {\"ID\": 121297.0, \"Name\": \"Fleet\", \"Year Published\": 2012.0, \"Min Players\": 2, \"Max Players\": 4, \"Play Time\": 45, \"Min Age\": 10, \"Users Rated\": 4575, \"Rating Average\": \"6,92\", \"BGG Rank\": 948, \"Complexity Average\": \"2,24\", \"Owned Users\": 6428.0, \"Mechanics\": \"Auction/Bidding, Hand Management\", \"Domains\": \"Strategy Games\"}, {\"ID\": 140933.0, \"Name\": \"Blueprints\", \"Year Published\": 2013.0, \"Min Players\": 2, \"Max Players\": 4, \"Play Time\": 30, \"Min Age\": 14, \"Users Rated\": 6137, \"Rating Average\": \"6,83\", \"BGG Rank\": 950, \"Complexity Average\": \"1,69\", \"Owned Users\": 8103.0, \"Mechanics\": \"Dice Rolling, Pattern Building, Set Collection\", \"Domains\": \"Family Games\"}, {\"ID\": 154246.0, \"Name\": \"La Isla\", \"Year Published\": 2014.0, \"Min Players\": 2, \"Max Players\": 4, \"Play Time\": 60, \"Min Age\": 10, \"Users Rated\": 4957, \"Rating Average\": \"6,89\", \"BGG Rank\": 951, \"Complexity Average\": \"2,25\", \"Owned Users\": 7964.0, \"Mechanics\": \"Action Queue, Enclosure, Hand Management, Modular Board, Set Collection, Simultaneous Action Selection\", \"Domains\": \"Family Games, Strategy Games\"}, {\"ID\": 204836.0, \"Name\": \"Escape Room: The Game\", \"Year Published\": 2016.0, \"Min Players\": 3, \"Max Players\": 5, \"Play Time\": 60, \"Min Age\": 16, \"Users Rated\": 3236, \"Rating Average\": \"7,06\", \"BGG Rank\": 954, \"Complexity Average\": \"2,26\", \"Owned Users\": 6962.0, \"Mechanics\": \"Cooperative Game\", \"Domains\": \"Family Games\"}, {\"ID\": 234669.0, \"Name\": \"Legacy of Dragonholt\", \"Year Published\": 2017.0, \"Min Players\": 1, \"Max Players\": 6, \"Play Time\": 999, \"Min Age\": 14, \"Users Rated\": 2278, \"Rating Average\": \"7,29\", \"BGG Rank\": 972, \"Complexity Average\": \"1,21\", \"Owned Users\": 5319.0, \"Mechanics\": \"Cooperative Game, Narrative Choice / Paragraph, Role Playing, Storytelling\", \"Domains\": \"Thematic Games\"}, {\"ID\": 141423.0, \"Name\": \"Dead Men Tell No Tales\", \"Year Published\": 2015.0, \"Min Players\": 2, \"Max Players\": 5, \"Play Time\": 75, \"Min Age\": 13, \"Users Rated\": 2986, \"Rating Average\": \"7,13\", \"BGG Rank\": 973, \"Complexity Average\": \"2,52\", \"Owned Users\": 5851.0, \"Mechanics\": \"Action Points, Cooperative Game, Dice Rolling, Grid Movement, Modular Board, Pick-up and Deliver, Variable Player Powers\", \"Domains\": \"Strategy Games, Thematic Games\"}, {\"ID\": 137297.0, \"Name\": \"Rise of Augustus\", \"Year Published\": 2013.0, \"Min Players\": 2, \"Max Players\": 6, \"Play Time\": 30, \"Min Age\": 8, \"Users Rated\": 7575, \"Rating Average\": \"6,74\", \"BGG Rank\": 980, \"Complexity Average\": \"1,63\", \"Owned Users\": 9486.0, \"Mechanics\": \"Bingo, Card Drafting, Push Your Luck, Set Collection\", \"Domains\": \"Family Games\"}, {\"ID\": 174660.0, \"Name\": \"New York 1901\", \"Year Published\": 2015.0, \"Min Players\": 2, \"Max Players\": 4, \"Play Time\": 60, \"Min Age\": 8, \"Users Rated\": 5450, \"Rating Average\": \"6,83\", \"BGG Rank\": 989, \"Complexity Average\": \"2,05\", \"Owned Users\": 9156.0, \"Mechanics\": \"Area Majority / Influence, Card Drafting, Once-Per-Game Abilities, Tile Placement\", \"Domains\": \"Family Games\"}, {\"ID\": 205597.0, \"Name\": \"Jump Drive\", \"Year Published\": 2017.0, \"Min Players\": 2, \"Max Players\": 4, \"Play Time\": 30, \"Min Age\": 13, \"Users Rated\": 3221, \"Rating Average\": \"7,02\", \"BGG Rank\": 1003, \"Complexity Average\": \"2,05\", \"Owned Users\": 5000.0, \"Mechanics\": \"Hand Management, Simultaneous Action Selection\", \"Domains\": \"Family Games, Strategy Games\"}, {\"ID\": 206931.0, \"Name\": \"Encore!\", \"Year Published\": 2016.0, \"Min Players\": 1, \"Max Players\": 6, \"Play Time\": 20, \"Min Age\": 8, \"Users Rated\": 3256, \"Rating Average\": \"7,02\", \"BGG Rank\": 1014, \"Complexity Average\": \"1,15\", \"Owned Users\": 5924.0, \"Mechanics\": \"Dice Rolling, Paper-and-Pencil, Solo / Solitaire Game\", \"Domains\": \"Family Games\"}, {\"ID\": 173090.0, \"Name\": \"The Game\", \"Year Published\": 2015.0, \"Min Players\": 1, \"Max Players\": 5, \"Play Time\": 20, \"Min Age\": 8, \"Users Rated\": 8490, \"Rating Average\": \"6,71\", \"BGG Rank\": 1015, \"Complexity Average\": \"1,26\", \"Owned Users\": 13372.0, \"Mechanics\": \"Communication Limits, Cooperative Game, Hand Management, Solo / Solitaire Game\", \"Domains\": \"Family Games\"}, {\"ID\": 154386.0, \"Name\": \"Medieval Academy\", \"Year Published\": 2014.0, \"Min Players\": 2, \"Max Players\": 5, \"Play Time\": 30, \"Min Age\": 8, \"Users Rated\": 3545, \"Rating Average\": \"6,95\", \"BGG Rank\": 1016, \"Complexity Average\": \"1,81\", \"Owned Users\": 5281.0, \"Mechanics\": \"Area Majority / Influence, Card Drafting, Hand Management, Modular Board, Simultaneous Action Selection, Variable Set-up\", \"Domains\": \"Family Games\"}, {\"ID\": 157526.0, \"Name\": \"Viceroy\", \"Year Published\": 2014.0, \"Min Players\": 1, \"Max Players\": 4, \"Play Time\": 60, \"Min Age\": 13, \"Users Rated\": 5074, \"Rating Average\": \"6,83\", \"BGG Rank\": 1019, \"Complexity Average\": \"2,65\", \"Owned Users\": 9015.0, \"Mechanics\": \"Auction: Sealed Bid, Card Drafting, Hand Management, Memory, Set Collection, Tile Placement\", \"Domains\": \"Strategy Games\"}, {\"ID\": 102548.0, \"Name\": \"Dungeon Fighter\", \"Year Published\": 2011.0, \"Min Players\": 1, \"Max Players\": 6, \"Play Time\": 60, \"Min Age\": 14, \"Users Rated\": 5853, \"Rating Average\": \"6,82\", \"BGG Rank\": 1021, \"Complexity Average\": \"1,75\", \"Owned Users\": 8115.0, \"Mechanics\": \"Card Drafting, Cooperative Game, Dice Rolling, Drafting, Modular Board, Point to Point Movement, Turn Order: Progressive, Variable Player Powers, Variable Set-up\", \"Domains\": \"Party Games\"}, {\"ID\": 42452.0, \"Name\": \"Rattus\", \"Year Published\": 2010.0, \"Min Players\": 2, \"Max Players\": 4, \"Play Time\": 45, \"Min Age\": 10, \"Users Rated\": 5676, \"Rating Average\": \"6,79\", \"BGG Rank\": 1023, \"Complexity Average\": \"2,06\", \"Owned Users\": 5846.0, \"Mechanics\": \"Area Majority / Influence, Area Movement, Variable Player Powers\", \"Domains\": \"Family Games, Strategy Games\"}, {\"ID\": 82168.0, \"Name\": \"Escape from the Aliens in Outer Space\", \"Year Published\": 2010.0, \"Min Players\": 2, \"Max Players\": 8, \"Play Time\": 45, \"Min Age\": 12, \"Users Rated\": 3878, \"Rating Average\": \"6,93\", \"BGG Rank\": 1025, \"Complexity Average\": \"1,87\", \"Owned Users\": 6838.0, \"Mechanics\": \"Grid Movement, Hexagon Grid, Hidden Movement, Hidden Roles, Paper-and-Pencil, Secret Unit Deployment, Team-Based Game, Variable Player Powers\", \"Domains\": \"Thematic Games\"}, {\"ID\": 244536.0, \"Name\": \"Tiny Epic Zombies\", \"Year Published\": 2018.0, \"Min Players\": 1, \"Max Players\": 5, \"Play Time\": 45, \"Min Age\": 14, \"Users Rated\": 3705, \"Rating Average\": \"7,03\", \"BGG Rank\": 1028, \"Complexity Average\": \"2,43\", \"Owned Users\": 11355.0, \"Mechanics\": \"Area Majority / Influence, Cooperative Game, Dice Rolling, Modular Board, Pick-up and Deliver, Push Your Luck, Team-Based Game, Variable Player Powers\", \"Domains\": \"Thematic Games\"}, {\"ID\": 134253.0, \"Name\": \"Hostage Negotiator\", \"Year Published\": 2015.0, \"Min Players\": 1, \"Max Players\": 1, \"Play Time\": 20, \"Min Age\": 13, \"Users Rated\": 4205, \"Rating Average\": \"6,90\", \"BGG Rank\": 1034, \"Complexity Average\": \"1,99\", \"Owned Users\": 8152.0, \"Mechanics\": \"Card Drafting, Dice Rolling, Hand Management, Solo / Solitaire Game\", \"Domains\": \"Thematic Games\"}, {\"ID\": 232918.0, \"Name\": \"Fallout\", \"Year Published\": 2017.0, \"Min Players\": 1, \"Max Players\": 4, \"Play Time\": 180, \"Min Age\": 14, \"Users Rated\": 5435, \"Rating Average\": \"6,94\", \"BGG Rank\": 1045, \"Complexity Average\": \"2,99\", \"Owned Users\": 11828.0, \"Mechanics\": \"Action Points, Area Movement, Dice Rolling, Hand Management, Modular Board, Role Playing, Storytelling, Variable Player Powers\", \"Domains\": \"Thematic Games\"}, {\"ID\": 143405.0, \"Name\": \"Sylvion\", \"Year Published\": 2015.0, \"Min Players\": 1, \"Max Players\": 2, \"Play Time\": 30, \"Min Age\": 10, \"Users Rated\": 2575, \"Rating Average\": \"7,11\", \"BGG Rank\": 1047, \"Complexity Average\": \"2,05\", \"Owned Users\": 6114.0, \"Mechanics\": \"Card Drafting, Card Play Conflict Resolution, Cooperative Game, Events, Grid Movement, Hand Management, Interrupts, Solo / Solitaire Game\", \"Domains\": \"Strategy Games\"}, {\"ID\": 233020.0, \"Name\": \"Fireball Island: The Curse of Vul-Kar\", \"Year Published\": 2018.0, \"Min Players\": 2, \"Max Players\": 4, \"Play Time\": 60, \"Min Age\": 7, \"Users Rated\": 4175, \"Rating Average\": \"6,93\", \"BGG Rank\": 1049, \"Complexity Average\": \"1,52\", \"Owned Users\": 9598.0, \"Mechanics\": \"Action Points, Action Queue, Area Movement, Pick-up and Deliver, Push Your Luck, Set Collection, Take That\", \"Domains\": \"Family Games\"}, {\"ID\": 276894.0, \"Name\": \"Ticket to Ride: London\", \"Year Published\": 2019.0, \"Min Players\": 2, \"Max Players\": 4, \"Play Time\": 15, \"Min Age\": 8, \"Users Rated\": 2067, \"Rating Average\": \"7,24\", \"BGG Rank\": 1064, \"Complexity Average\": \"1,20\", \"Owned Users\": 5407.0, \"Mechanics\": \"Card Drafting, Hand Management, Network and Route Building, Set Collection\", \"Domains\": \"Family Games\"}, {\"ID\": 180040.0, \"Name\": \"Villages of Valeria\", \"Year Published\": 2017.0, \"Min Players\": 1, \"Max Players\": 5, \"Play Time\": 60, \"Min Age\": 14, \"Users Rated\": 2767, \"Rating Average\": \"7,07\", \"BGG Rank\": 1066, \"Complexity Average\": \"2,36\", \"Owned Users\": 5284.0, \"Mechanics\": \"Follow, Hand Management, Variable Player Powers\", \"Domains\": \"Strategy Games\"}, {\"ID\": 159109.0, \"Name\": \"XenoShyft: Onslaught\", \"Year Published\": 2015.0, \"Min Players\": 1, \"Max Players\": 4, \"Play Time\": 60, \"Min Age\": 13, \"Users Rated\": 3336, \"Rating Average\": \"6,96\", \"BGG Rank\": 1068, \"Complexity Average\": \"2,66\", \"Owned Users\": 5697.0, \"Mechanics\": \"Card Drafting, Cooperative Game, Deck Bag and Pool Building, Variable Player Powers\", \"Domains\": \"Strategy Games, Thematic Games\"}, {\"ID\": 228660.0, \"Name\": \"Betrayal at Baldur's Gate\", \"Year Published\": 2017.0, \"Min Players\": 3, \"Max Players\": 6, \"Play Time\": 60, \"Min Age\": 12, \"Users Rated\": 2797, \"Rating Average\": \"7,15\", \"BGG Rank\": 1071, \"Complexity Average\": \"2,55\", \"Owned Users\": 6759.0, \"Mechanics\": \"Cooperative Game, Dice Rolling, Modular Board, Role Playing, Storytelling, Team-Based Game, Traitor Game, Variable Player Powers\", \"Domains\": \"Thematic Games\"}, {\"ID\": 117985.0, \"Name\": \"Star Trek: Catan\", \"Year Published\": 2012.0, \"Min Players\": 3, \"Max Players\": 4, \"Play Time\": 75, \"Min Age\": 10, \"Users Rated\": 3257, \"Rating Average\": \"7,00\", \"BGG Rank\": 1088, \"Complexity Average\": \"2,37\", \"Owned Users\": 8359.0, \"Mechanics\": \"Dice Rolling, Hand Management, Modular Board, Network and Route Building, Trading\", \"Domains\": \"Family Games, Strategy Games\"}, {\"ID\": 150312.0, \"Name\": \"Welcome to the Dungeon\", \"Year Published\": 2013.0, \"Min Players\": 2, \"Max Players\": 4, \"Play Time\": 30, \"Min Age\": 10, \"Users Rated\": 11728, \"Rating Average\": \"6,60\", \"BGG Rank\": 1092, \"Complexity Average\": \"1,23\", \"Owned Users\": 20598.0, \"Mechanics\": \"Betting and Bluffing, Memory, Player Elimination, Push Your Luck\", \"Domains\": \"Family Games, Party Games\"}, {\"ID\": 149155.0, \"Name\": \"Dead Man's Draw\", \"Year Published\": 2015.0, \"Min Players\": 2, \"Max Players\": 4, \"Play Time\": 15, \"Min Age\": 13, \"Users Rated\": 4464, \"Rating Average\": \"6,85\", \"BGG Rank\": 1095, \"Complexity Average\": \"1,35\", \"Owned Users\": 7517.0, \"Mechanics\": \"Push Your Luck, Set Collection, Take That, Variable Player Powers\", \"Domains\": \"Family Games\"}, {\"ID\": 83195.0, \"Name\": \"Ghost Blitz\", \"Year Published\": 2010.0, \"Min Players\": 2, \"Max Players\": 8, \"Play Time\": 20, \"Min Age\": 8, \"Users Rated\": 6882, \"Rating Average\": \"6,71\", \"BGG Rank\": 1105, \"Complexity Average\": \"1,15\", \"Owned Users\": 10519.0, \"Mechanics\": \"Pattern Recognition, Speed Matching\", \"Domains\": \"Family Games\"}, {\"ID\": 127024.0, \"Name\": \"Room 25\", \"Year Published\": 2013.0, \"Min Players\": 1, \"Max Players\": 6, \"Play Time\": 30, \"Min Age\": 13, \"Users Rated\": 5854, \"Rating Average\": \"6,74\", \"BGG Rank\": 1106, \"Complexity Average\": \"1,93\", \"Owned Users\": 7406.0, \"Mechanics\": \"Action Queue, Cooperative Game, Grid Movement, Memory, Modular Board, Player Elimination, Programmed Movement, Simultaneous Action Selection, Team-Based Game, Traitor Game\", \"Domains\": \"Thematic Games\"}, {\"ID\": 215842.0, \"Name\": \"Exit: The Game - The Polar Station\", \"Year Published\": 2017.0, \"Min Players\": 1, \"Max Players\": 4, \"Play Time\": 90, \"Min Age\": 12, \"Users Rated\": 2848, \"Rating Average\": \"6,95\", \"BGG Rank\": 1129, \"Complexity Average\": \"2,78\", \"Owned Users\": 5553.0, \"Mechanics\": \"Cooperative Game\", \"Domains\": \"Family Games\"}, {\"ID\": 179572.0, \"Name\": \"Dice City\", \"Year Published\": 2015.0, \"Min Players\": 1, \"Max Players\": 4, \"Play Time\": 60, \"Min Age\": 14, \"Users Rated\": 4556, \"Rating Average\": \"6,77\", \"BGG Rank\": 1132, \"Complexity Average\": \"2,03\", \"Owned Users\": 7772.0, \"Mechanics\": \"Dice Rolling, Take That\", \"Domains\": \"Family Games, Strategy Games\"}, {\"ID\": 217085.0, \"Name\": \"Unearth\", \"Year Published\": 2017.0, \"Min Players\": 2, \"Max Players\": 4, \"Play Time\": 60, \"Min Age\": 8, \"Users Rated\": 3727, \"Rating Average\": \"6,90\", \"BGG Rank\": 1134, \"Complexity Average\": \"1,97\", \"Owned Users\": 7130.0, \"Mechanics\": \"Dice Rolling, Set Collection, Tile Placement, Worker Placement\", \"Domains\": \"Family Games, Strategy Games\"}, {\"ID\": 176229.0, \"Name\": \"Tides of Time\", \"Year Published\": 2015.0, \"Min Players\": 2, \"Max Players\": 2, \"Play Time\": 20, \"Min Age\": 8, \"Users Rated\": 6690, \"Rating Average\": \"6,66\", \"BGG Rank\": 1136, \"Complexity Average\": \"1,58\", \"Owned Users\": 10537.0, \"Mechanics\": \"Card Drafting, Set Collection\", \"Domains\": \"Strategy Games\"}, {\"ID\": 129051.0, \"Name\": \"Le Havre: The Inland Port\", \"Year Published\": 2012.0, \"Min Players\": 2, \"Max Players\": 2, \"Play Time\": 30, \"Min Age\": 10, \"Users Rated\": 3355, \"Rating Average\": \"6,85\", \"BGG Rank\": 1137, \"Complexity Average\": \"2,50\", \"Owned Users\": 5352.0, \"Mechanics\": \"Action Points\", \"Domains\": \"Strategy Games\"}, {\"ID\": 232988.0, \"Name\": \"The Castles of Burgundy: The Dice Game\", \"Year Published\": 2017.0, \"Min Players\": 1, \"Max Players\": 5, \"Play Time\": 30, \"Min Age\": 10, \"Users Rated\": 2985, \"Rating Average\": \"6,93\", \"BGG Rank\": 1139, \"Complexity Average\": \"1,82\", \"Owned Users\": 5804.0, \"Mechanics\": \"Dice Rolling, Hexagon Grid, Paper-and-Pencil\", \"Domains\": \"Family Games\"}, {\"ID\": 139030.0, \"Name\": \"Mascarade\", \"Year Published\": 2013.0, \"Min Players\": 2, \"Max Players\": 13, \"Play Time\": 30, \"Min Age\": 10, \"Users Rated\": 9222, \"Rating Average\": \"6,62\", \"BGG Rank\": 1152, \"Complexity Average\": \"1,53\", \"Owned Users\": 14216.0, \"Mechanics\": \"Hidden Roles, Memory, Variable Player Powers\", \"Domains\": \"Party Games\"}, {\"ID\": 224821.0, \"Name\": \"One Deck Dungeon: Forest of Shadows\", \"Year Published\": 2017.0, \"Min Players\": 1, \"Max Players\": 2, \"Play Time\": 45, \"Min Age\": 14, \"Users Rated\": 1972, \"Rating Average\": \"7,23\", \"BGG Rank\": 1160, \"Complexity Average\": \"2,36\", \"Owned Users\": 6733.0, \"Mechanics\": \"Cooperative Game, Deck Bag and Pool Building, Dice Rolling, Move Through Deck, Solo / Solitaire Game\", \"Domains\": \"Family Games, Thematic Games\"}, {\"ID\": 181810.0, \"Name\": \"Kodama: The Tree Spirits\", \"Year Published\": 2016.0, \"Min Players\": 2, \"Max Players\": 5, \"Play Time\": 30, \"Min Age\": 14, \"Users Rated\": 4906, \"Rating Average\": \"6,75\", \"BGG Rank\": 1168, \"Complexity Average\": \"1,67\", \"Owned Users\": 9842.0, \"Mechanics\": \"Layering, Set Collection, Tile Placement\", \"Domains\": \"Family Games\"}, {\"ID\": 94362.0, \"Name\": \"Rune Age\", \"Year Published\": 2011.0, \"Min Players\": 2, \"Max Players\": 4, \"Play Time\": 60, \"Min Age\": 13, \"Users Rated\": 4194, \"Rating Average\": \"6,80\", \"BGG Rank\": 1171, \"Complexity Average\": \"2,29\", \"Owned Users\": 6197.0, \"Mechanics\": \"Cooperative Game, Deck Bag and Pool Building, Dice Rolling, Hand Management, Variable Player Powers\", \"Domains\": \"Strategy Games, Thematic Games\"}, {\"ID\": 101785.0, \"Name\": \"D-Day Dice\", \"Year Published\": 2012.0, \"Min Players\": 1, \"Max Players\": 4, \"Play Time\": 45, \"Min Age\": 14, \"Users Rated\": 3431, \"Rating Average\": \"6,83\", \"BGG Rank\": 1189, \"Complexity Average\": \"2,05\", \"Owned Users\": 5129.0, \"Mechanics\": \"Cooperative Game, Dice Rolling, Push Your Luck, Simultaneous Action Selection\", \"Domains\": \"Thematic Games, Wargames\"}, {\"ID\": 71836.0, \"Name\": \"Onirim\", \"Year Published\": 2010.0, \"Min Players\": 1, \"Max Players\": 2, \"Play Time\": 15, \"Min Age\": 8, \"Users Rated\": 5787, \"Rating Average\": \"6,67\", \"BGG Rank\": 1190, \"Complexity Average\": \"1,65\", \"Owned Users\": 8214.0, \"Mechanics\": \"Cooperative Game, Hand Management, Set Collection, Solo / Solitaire Game\", \"Domains\": \"Family Games, Thematic Games\"}, {\"ID\": 148943.0, \"Name\": \"Coup: Rebellion G54\", \"Year Published\": 2014.0, \"Min Players\": 3, \"Max Players\": 6, \"Play Time\": 15, \"Min Age\": 14, \"Users Rated\": 2459, \"Rating Average\": \"7,03\", \"BGG Rank\": 1200, \"Complexity Average\": \"1,93\", \"Owned Users\": 6228.0, \"Mechanics\": \"Memory, Player Elimination, Take That, Variable Player Powers\", \"Domains\": \"Party Games\"}, {\"ID\": 156714.0, \"Name\": \"Doomtown: Reloaded\", \"Year Published\": 2014.0, \"Min Players\": 2, \"Max Players\": 4, \"Play Time\": 30, \"Min Age\": 12, \"Users Rated\": 2165, \"Rating Average\": \"7,16\", \"BGG Rank\": 1210, \"Complexity Average\": \"3,59\", \"Owned Users\": 5787.0, \"Mechanics\": \"Area Majority / Influence, Betting and Bluffing, Hand Management, Variable Player Powers\", \"Domains\": \"Customizable Games\"}, {\"ID\": 195544.0, \"Name\": \"Tides of Madness\", \"Year Published\": 2016.0, \"Min Players\": 2, \"Max Players\": 2, \"Play Time\": 20, \"Min Age\": 10, \"Users Rated\": 3336, \"Rating Average\": \"6,83\", \"BGG Rank\": 1213, \"Complexity Average\": \"1,54\", \"Owned Users\": 7262.0, \"Mechanics\": \"Card Drafting, Set Collection\", \"Domains\": \"Strategy Games\"}, {\"ID\": 125548.0, \"Name\": \"Pixel Tactics\", \"Year Published\": 2012.0, \"Min Players\": 2, \"Max Players\": 2, \"Play Time\": 30, \"Min Age\": 12, \"Users Rated\": 2983, \"Rating Average\": \"6,91\", \"BGG Rank\": 1220, \"Complexity Average\": \"2,63\", \"Owned Users\": 6231.0, \"Mechanics\": \"Card Drafting, Hand Management, Variable Player Powers\", \"Domains\": \"Strategy Games\"}, {\"ID\": 191894.0, \"Name\": \"Imagine\", \"Year Published\": 2015.0, \"Min Players\": 3, \"Max Players\": 8, \"Play Time\": 30, \"Min Age\": 12, \"Users Rated\": 2912, \"Rating Average\": \"6,93\", \"BGG Rank\": 1222, \"Complexity Average\": \"1,07\", \"Owned Users\": 5059.0, \"Mechanics\": \"Acting, Team-Based Game\", \"Domains\": \"Party Games\"}, {\"ID\": 194626.0, \"Name\": \"Happy Salmon\", \"Year Published\": 2016.0, \"Min Players\": 3, \"Max Players\": 6, \"Play Time\": 2, \"Min Age\": 6, \"Users Rated\": 4043, \"Rating Average\": \"6,75\", \"BGG Rank\": 1232, \"Complexity Average\": \"1,10\", \"Owned Users\": 7740.0, \"Mechanics\": \"Simultaneous Action Selection\", \"Domains\": \"Family Games, Party Games\"}, {\"ID\": 131366.0, \"Name\": \"Eight-Minute Empire\", \"Year Published\": 2012.0, \"Min Players\": 2, \"Max Players\": 5, \"Play Time\": 20, \"Min Age\": 13, \"Users Rated\": 7576, \"Rating Average\": \"6,58\", \"BGG Rank\": 1242, \"Complexity Average\": \"1,63\", \"Owned Users\": 9248.0, \"Mechanics\": \"Area Majority / Influence, Area Movement, Card Drafting, Set Collection\", \"Domains\": \"Family Games, Strategy Games\"}, {\"ID\": 143986.0, \"Name\": \"CV\", \"Year Published\": 2013.0, \"Min Players\": 2, \"Max Players\": 4, \"Play Time\": 60, \"Min Age\": 10, \"Users Rated\": 5838, \"Rating Average\": \"6,63\", \"BGG Rank\": 1247, \"Complexity Average\": \"1,86\", \"Owned Users\": 7650.0, \"Mechanics\": \"Card Drafting, Dice Rolling, Hand Management, Push Your Luck, Set Collection, Simulation\", \"Domains\": \"Family Games\"}, {\"ID\": 181524.0, \"Name\": \"Masmorra: Dungeons of Arcadia\", \"Year Published\": 2017.0, \"Min Players\": 1, \"Max Players\": 5, \"Play Time\": 90, \"Min Age\": 14, \"Users Rated\": 2411, \"Rating Average\": \"7,07\", \"BGG Rank\": 1248, \"Complexity Average\": \"2,24\", \"Owned Users\": 5956.0, \"Mechanics\": \"Cooperative Game, Dice Rolling, Modular Board, Take That, Variable Player Powers\", \"Domains\": \"Family Games, Thematic Games\"}, {\"ID\": 148951.0, \"Name\": \"Tiny Epic Kingdoms\", \"Year Published\": 2014.0, \"Min Players\": 2, \"Max Players\": 5, \"Play Time\": 45, \"Min Age\": 13, \"Users Rated\": 7048, \"Rating Average\": \"6,60\", \"BGG Rank\": 1278, \"Complexity Average\": \"2,09\", \"Owned Users\": 17033.0, \"Mechanics\": \"Area Majority / Influence, Area Movement, Auction/Bidding, Follow, Take That, Variable Phase Order, Variable Player Powers, Worker Placement\", \"Domains\": \"Strategy Games\"}, {\"ID\": 193308.0, \"Name\": \"Spyfall 2\", \"Year Published\": 2016.0, \"Min Players\": 3, \"Max Players\": 12, \"Play Time\": 15, \"Min Age\": 13, \"Users Rated\": 2268, \"Rating Average\": \"6,99\", \"BGG Rank\": 1279, \"Complexity Average\": \"1,33\", \"Owned Users\": 5293.0, \"Mechanics\": \"Acting, Memory, Role Playing, Voting\", \"Domains\": \"Party Games\"}, {\"ID\": 233961.0, \"Name\": \"Claim\", \"Year Published\": 2017.0, \"Min Players\": 2, \"Max Players\": 2, \"Play Time\": 25, \"Min Age\": 10, \"Users Rated\": 2221, \"Rating Average\": \"7,00\", \"BGG Rank\": 1285, \"Complexity Average\": \"1,71\", \"Owned Users\": 5307.0, \"Mechanics\": \"Trick-taking\", \"Domains\": \"Family Games\"}, {\"ID\": 215840.0, \"Name\": \"Exit: The Game - The Forbidden Castle\", \"Year Published\": 2017.0, \"Min Players\": 1, \"Max Players\": 4, \"Play Time\": 90, \"Min Age\": 12, \"Users Rated\": 2466, \"Rating Average\": \"6,89\", \"BGG Rank\": 1302, \"Complexity Average\": \"3,29\", \"Owned Users\": 5456.0, \"Mechanics\": \"Cooperative Game\", \"Domains\": \"Thematic Games\"}, {\"ID\": 195043.0, \"Name\": \"Welcome Back to the Dungeon\", \"Year Published\": 2016.0, \"Min Players\": 2, \"Max Players\": 4, \"Play Time\": 30, \"Min Age\": 10, \"Users Rated\": 3260, \"Rating Average\": \"6,79\", \"BGG Rank\": 1303, \"Complexity Average\": \"1,36\", \"Owned Users\": 7368.0, \"Mechanics\": \"Memory, Player Elimination, Push Your Luck\", \"Domains\": \"Family Games, Party Games\"}, {\"ID\": 168609.0, \"Name\": \"Artifacts, Inc.\", \"Year Published\": 2014.0, \"Min Players\": 2, \"Max Players\": 4, \"Play Time\": 60, \"Min Age\": 13, \"Users Rated\": 2986, \"Rating Average\": \"6,79\", \"BGG Rank\": 1308, \"Complexity Average\": \"2,18\", \"Owned Users\": 5044.0, \"Mechanics\": \"Action Points, Area Majority / Influence, Card Drafting, Dice Rolling, Set Collection, Worker Placement, Worker Placement with Dice Workers\", \"Domains\": \"Family Games, Strategy Games\"}, {\"ID\": 233678.0, \"Name\": \"Indian Summer\", \"Year Published\": 2017.0, \"Min Players\": 1, \"Max Players\": 4, \"Play Time\": 60, \"Min Age\": 10, \"Users Rated\": 3021, \"Rating Average\": \"6,81\", \"BGG Rank\": 1312, \"Complexity Average\": \"2,15\", \"Owned Users\": 5176.0, \"Mechanics\": \"Grid Coverage, Pattern Building, Tile Placement\", \"Domains\": \"Family Games\"}, {\"ID\": 195856.0, \"Name\": \"Bloodborne: The Card Game\", \"Year Published\": 2016.0, \"Min Players\": 3, \"Max Players\": 5, \"Play Time\": 45, \"Min Age\": 14, \"Users Rated\": 2899, \"Rating Average\": \"6,93\", \"BGG Rank\": 1325, \"Complexity Average\": \"2,07\", \"Owned Users\": 5203.0, \"Mechanics\": \"Card Drafting, Dice Rolling, Hand Management, Push Your Luck, Set Collection, Simultaneous Action Selection, Variable Player Powers\", \"Domains\": \"Thematic Games\"}, {\"ID\": 158900.0, \"Name\": \"Samurai Spirit\", \"Year Published\": 2014.0, \"Min Players\": 1, \"Max Players\": 7, \"Play Time\": 30, \"Min Age\": 9, \"Users Rated\": 4361, \"Rating Average\": \"6,67\", \"BGG Rank\": 1326, \"Complexity Average\": \"2,15\", \"Owned Users\": 7548.0, \"Mechanics\": \"Cooperative Game, Push Your Luck, Variable Player Powers\", \"Domains\": \"Strategy Games\"}, {\"ID\": 176083.0, \"Name\": \"Hit Z Road\", \"Year Published\": 2016.0, \"Min Players\": 1, \"Max Players\": 4, \"Play Time\": 60, \"Min Age\": 12, \"Users Rated\": 3424, \"Rating Average\": \"6,75\", \"BGG Rank\": 1348, \"Complexity Average\": \"1,85\", \"Owned Users\": 6133.0, \"Mechanics\": \"Auction/Bidding, Dice Rolling, Die Icon Resolution, End Game Bonuses, Player Elimination, Push Your Luck, Selection Order Bid, Solo / Solitaire Game\", \"Domains\": \"Thematic Games\"}, {\"ID\": 112138.0, \"Name\": \"Krosmaster: Arena\", \"Year Published\": 2012.0, \"Min Players\": 2, \"Max Players\": 4, \"Play Time\": 60, \"Min Age\": 14, \"Users Rated\": 3445, \"Rating Average\": \"6,78\", \"BGG Rank\": 1349, \"Complexity Average\": \"2,67\", \"Owned Users\": 7088.0, \"Mechanics\": \"Action Points, Card Drafting, Dice Rolling, Grid Movement, Variable Player Powers\", \"Domains\": \"Customizable Games\"}, {\"ID\": 252929.0, \"Name\": \"Planet\", \"Year Published\": 2018.0, \"Min Players\": 2, \"Max Players\": 4, \"Play Time\": 45, \"Min Age\": 8, \"Users Rated\": 3298, \"Rating Average\": \"6,76\", \"BGG Rank\": 1351, \"Complexity Average\": \"1,63\", \"Owned Users\": 5578.0, \"Mechanics\": \"Drafting, Tile Placement, Turn Order: Progressive\", \"Domains\": \"Family Games\"}, {\"ID\": 218530.0, \"Name\": \"Tortuga 1667\", \"Year Published\": 2017.0, \"Min Players\": 2, \"Max Players\": 9, \"Play Time\": 40, \"Min Age\": 12, \"Users Rated\": 2426, \"Rating Average\": \"6,97\", \"BGG Rank\": 1356, \"Complexity Average\": \"1,98\", \"Owned Users\": 6928.0, \"Mechanics\": \"Area Movement, Hand Management, Team-Based Game, Voting\", \"Domains\": \"Party Games\"}, {\"ID\": 143185.0, \"Name\": \"Smash Up: The Obligatory Cthulhu Set\", \"Year Published\": 2013.0, \"Min Players\": 2, \"Max Players\": 2, \"Play Time\": 45, \"Min Age\": 12, \"Users Rated\": 3266, \"Rating Average\": \"6,76\", \"BGG Rank\": 1375, \"Complexity Average\": \"2,20\", \"Owned Users\": 10416.0, \"Mechanics\": \"Area Majority / Influence, Hand Management, Take That, Variable Player Powers\", \"Domains\": \"Strategy Games\"}, {\"ID\": 180852.0, \"Name\": \"Tiny Epic Western\", \"Year Published\": 2016.0, \"Min Players\": 1, \"Max Players\": 4, \"Play Time\": 45, \"Min Age\": 14, \"Users Rated\": 3637, \"Rating Average\": \"6,68\", \"BGG Rank\": 1458, \"Complexity Average\": \"2,87\", \"Owned Users\": 10706.0, \"Mechanics\": \"Area Majority / Influence, Commodity Speculation, Dice Rolling, Set Collection, Variable Player Powers, Worker Placement\", \"Domains\": \"Strategy Games\"}, {\"ID\": 205610.0, \"Name\": \"A Game of Thrones: Hand of the King\", \"Year Published\": 2016.0, \"Min Players\": 2, \"Max Players\": 4, \"Play Time\": 30, \"Min Age\": 14, \"Users Rated\": 3384, \"Rating Average\": \"6,68\", \"BGG Rank\": 1462, \"Complexity Average\": \"1,17\", \"Owned Users\": 6457.0, \"Mechanics\": \"Card Drafting, Grid Movement, Set Collection\", \"Domains\": \"Family Games\"}, {\"ID\": 124172.0, \"Name\": \"Tsuro of the Seas\", \"Year Published\": 2012.0, \"Min Players\": 2, \"Max Players\": 8, \"Play Time\": 40, \"Min Age\": 8, \"Users Rated\": 5730, \"Rating Average\": \"6,55\", \"BGG Rank\": 1470, \"Complexity Average\": \"1,42\", \"Owned Users\": 10480.0, \"Mechanics\": \"Dice Rolling, Hand Management, Network and Route Building, Player Elimination, Tile Placement\", \"Domains\": \"Abstract Games, Family Games\"}, {\"ID\": 118174.0, \"Name\": \"Compounded\", \"Year Published\": 2013.0, \"Min Players\": 2, \"Max Players\": 5, \"Play Time\": 90, \"Min Age\": 13, \"Users Rated\": 2559, \"Rating Average\": \"6,75\", \"BGG Rank\": 1527, \"Complexity Average\": \"2,44\", \"Owned Users\": 5529.0, \"Mechanics\": \"Set Collection, Trading\", \"Domains\": \"Strategy Games\"}, {\"ID\": 155969.0, \"Name\": \"Harbour\", \"Year Published\": 2015.0, \"Min Players\": 1, \"Max Players\": 4, \"Play Time\": 60, \"Min Age\": 10, \"Users Rated\": 4574, \"Rating Average\": \"6,55\", \"BGG Rank\": 1534, \"Complexity Average\": \"2,09\", \"Owned Users\": 9494.0, \"Mechanics\": \"Set Collection, Variable Player Powers, Worker Placement\", \"Domains\": \"Family Games, Strategy Games\"}, {\"ID\": 128442.0, \"Name\": \"Relic\", \"Year Published\": 2013.0, \"Min Players\": 2, \"Max Players\": 4, \"Play Time\": 180, \"Min Age\": 14, \"Users Rated\": 2991, \"Rating Average\": \"6,78\", \"BGG Rank\": 1542, \"Complexity Average\": \"2,49\", \"Owned Users\": 5790.0, \"Mechanics\": \"Dice Rolling, Roll / Spin and Move, Variable Player Powers\", \"Domains\": \"Thematic Games\"}, {\"ID\": 128667.0, \"Name\": \"Samurai Sword\", \"Year Published\": 2012.0, \"Min Players\": 3, \"Max Players\": 7, \"Play Time\": 40, \"Min Age\": 8, \"Users Rated\": 3281, \"Rating Average\": \"6,68\", \"BGG Rank\": 1557, \"Complexity Average\": \"1,77\", \"Owned Users\": 5617.0, \"Mechanics\": \"Hand Management, Team-Based Game, Variable Player Powers\", \"Domains\": \"Family Games\"}, {\"ID\": 181345.0, \"Name\": \"Dr. Eureka\", \"Year Published\": 2015.0, \"Min Players\": 2, \"Max Players\": 4, \"Play Time\": 15, \"Min Age\": 8, \"Users Rated\": 3182, \"Rating Average\": \"6,62\", \"BGG Rank\": 1580, \"Complexity Average\": \"1,07\", \"Owned Users\": 5732.0, \"Mechanics\": \"Pattern Building\", \"Domains\": \"Family Games\"}, {\"ID\": 176558.0, \"Name\": \"Mafia de Cuba\", \"Year Published\": 2015.0, \"Min Players\": 6, \"Max Players\": 12, \"Play Time\": 20, \"Min Age\": 10, \"Users Rated\": 3578, \"Rating Average\": \"6,57\", \"BGG Rank\": 1603, \"Complexity Average\": \"1,50\", \"Owned Users\": 6530.0, \"Mechanics\": \"Role Playing, Team-Based Game, Variable Player Powers\", \"Domains\": \"Party Games\"}, {\"ID\": 123096.0, \"Name\": \"Space Cadets\", \"Year Published\": 2012.0, \"Min Players\": 3, \"Max Players\": 6, \"Play Time\": 120, \"Min Age\": 8, \"Users Rated\": 3221, \"Rating Average\": \"6,59\", \"BGG Rank\": 1608, \"Complexity Average\": \"2,74\", \"Owned Users\": 5775.0, \"Mechanics\": \"Cooperative Game, Dice Rolling, Flicking, Grid Movement, Memory, Modular Board, Pattern Building, Pattern Recognition, Programmed Movement, Push Your Luck, Re-rolling and Locking, Real-Time, Scenario / Mission / Campaign Game, Set Collection\", \"Domains\": \"Thematic Games\"}, {\"ID\": 92190.0, \"Name\": \"Super Dungeon Explore\", \"Year Published\": 2011.0, \"Min Players\": 2, \"Max Players\": 6, \"Play Time\": 120, \"Min Age\": 10, \"Users Rated\": 2548, \"Rating Average\": \"6,80\", \"BGG Rank\": 1609, \"Complexity Average\": \"2,75\", \"Owned Users\": 5709.0, \"Mechanics\": \"Action Points, Dice Rolling, Modular Board, Team-Based Game, Variable Phase Order, Variable Player Powers\", \"Domains\": \"Strategy Games\"}, {\"ID\": 172933.0, \"Name\": \"Dragonwood\", \"Year Published\": 2015.0, \"Min Players\": 2, \"Max Players\": 4, \"Play Time\": 20, \"Min Age\": 8, \"Users Rated\": 2931, \"Rating Average\": \"6,72\", \"BGG Rank\": 1616, \"Complexity Average\": \"1,42\", \"Owned Users\": 7315.0, \"Mechanics\": \"Dice Rolling, Hand Management, Set Collection\", \"Domains\": \"Family Games\"}, {\"ID\": 214032.0, \"Name\": \"Founders of Gloomhaven\", \"Year Published\": 2018.0, \"Min Players\": 1, \"Max Players\": 4, \"Play Time\": 120, \"Min Age\": 12, \"Users Rated\": 2510, \"Rating Average\": \"6,73\", \"BGG Rank\": 1637, \"Complexity Average\": \"4,11\", \"Owned Users\": 7458.0, \"Mechanics\": \"Action Retrieval, Auction/Bidding, Deck Bag and Pool Building, Hand Management, Network and Route Building, Solo / Solitaire Game, Tile Placement, Variable Player Powers, Voting, Worker Placement\", \"Domains\": \"Strategy Games\"}, {\"ID\": 155695.0, \"Name\": \"Age of War\", \"Year Published\": 2014.0, \"Min Players\": 2, \"Max Players\": 6, \"Play Time\": 30, \"Min Age\": 14, \"Users Rated\": 6477, \"Rating Average\": \"6,45\", \"BGG Rank\": 1640, \"Complexity Average\": \"1,10\", \"Owned Users\": 9723.0, \"Mechanics\": \"Dice Rolling, Push Your Luck, Set Collection, Take That\", \"Domains\": \"Family Games\"}, {\"ID\": 180020.0, \"Name\": \"Virus!\", \"Year Published\": 2015.0, \"Min Players\": 2, \"Max Players\": 6, \"Play Time\": 20, \"Min Age\": 8, \"Users Rated\": 3160, \"Rating Average\": \"6,76\", \"BGG Rank\": 1659, \"Complexity Average\": \"1,03\", \"Owned Users\": 5366.0, \"Mechanics\": \"Card Drafting, Set Collection, Take That\", \"Domains\": \"Family Games, Party Games\"}, {\"ID\": 112686.0, \"Name\": \"Epic Spell Wars of the Battle Wizards: Duel at Mt. Skullzfyre\", \"Year Published\": 2012.0, \"Min Players\": 2, \"Max Players\": 6, \"Play Time\": 30, \"Min Age\": 15, \"Users Rated\": 5550, \"Rating Average\": \"6,52\", \"BGG Rank\": 1679, \"Complexity Average\": \"1,57\", \"Owned Users\": 10285.0, \"Mechanics\": \"Dice Rolling, Hand Management, Take That\", \"Domains\": \"Party Games\"}, {\"ID\": 65515.0, \"Name\": \"Nuns on the Run\", \"Year Published\": 2010.0, \"Min Players\": 2, \"Max Players\": 8, \"Play Time\": 45, \"Min Age\": 10, \"Users Rated\": 3796, \"Rating Average\": \"6,51\", \"BGG Rank\": 1700, \"Complexity Average\": \"2,08\", \"Owned Users\": 5231.0, \"Mechanics\": \"Dice Rolling, Hidden Movement, Paper-and-Pencil, Pick-up and Deliver, Point to Point Movement, Secret Unit Deployment, Team-Based Game, Variable Player Powers\", \"Domains\": \"Family Games\"}, {\"ID\": 144553.0, \"Name\": \"The Builders: Middle Ages\", \"Year Published\": 2013.0, \"Min Players\": 2, \"Max Players\": 4, \"Play Time\": 30, \"Min Age\": 10, \"Users Rated\": 3945, \"Rating Average\": \"6,50\", \"BGG Rank\": 1704, \"Complexity Average\": \"1,80\", \"Owned Users\": 6008.0, \"Mechanics\": \"Action Points, Card Drafting, Set Collection\", \"Domains\": \"Family Games\"}, {\"ID\": 266083.0, \"Name\": \"L.L.A.M.A.\", \"Year Published\": 2019.0, \"Min Players\": 2, \"Max Players\": 6, \"Play Time\": 20, \"Min Age\": 8, \"Users Rated\": 3797, \"Rating Average\": \"6,51\", \"BGG Rank\": 1730, \"Complexity Average\": \"1,05\", \"Owned Users\": 6490.0, \"Mechanics\": \"Hand Management, Matching\", \"Domains\": \"Family Games\"}, {\"ID\": 205158.0, \"Name\": \"Codenames: Deep Undercover\", \"Year Published\": 2016.0, \"Min Players\": 4, \"Max Players\": 8, \"Play Time\": 15, \"Min Age\": 18, \"Users Rated\": 2732, \"Rating Average\": \"6,62\", \"BGG Rank\": 1741, \"Complexity Average\": \"1,32\", \"Owned Users\": 6771.0, \"Mechanics\": \"Communication Limits, Memory, Push Your Luck, Team-Based Game\", \"Domains\": \"Party Games\"}, {\"ID\": 88408.0, \"Name\": \"Nightfall\", \"Year Published\": 2011.0, \"Min Players\": 2, \"Max Players\": 5, \"Play Time\": 45, \"Min Age\": 12, \"Users Rated\": 3806, \"Rating Average\": \"6,50\", \"BGG Rank\": 1742, \"Complexity Average\": \"2,64\", \"Owned Users\": 5301.0, \"Mechanics\": \"Card Drafting, Deck Bag and Pool Building, Hand Management, Pattern Building, Take That, Variable Player Powers\", \"Domains\": \"Strategy Games\"}, {\"ID\": 67877.0, \"Name\": \"Anomia\", \"Year Published\": 2010.0, \"Min Players\": 3, \"Max Players\": 6, \"Play Time\": 30, \"Min Age\": 10, \"Users Rated\": 2984, \"Rating Average\": \"6,61\", \"BGG Rank\": 1757, \"Complexity Average\": \"1,06\", \"Owned Users\": 5240.0, \"Mechanics\": \"Pattern Recognition, Speed Matching\", \"Domains\": \"Party Games\"}, {\"ID\": 250442.0, \"Name\": \"Crypt\", \"Year Published\": 2018.0, \"Min Players\": 1, \"Max Players\": 4, \"Play Time\": 35, \"Min Age\": 14, \"Users Rated\": 2160, \"Rating Average\": \"6,79\", \"BGG Rank\": 1781, \"Complexity Average\": \"1,52\", \"Owned Users\": 5364.0, \"Mechanics\": \"Auction/Bidding, Dice Rolling, Set Collection, Solo / Solitaire Game, Worker Placement with Dice Workers\", \"Domains\": \"Strategy Games\"}, {\"ID\": 125921.0, \"Name\": \"Catan: Junior\", \"Year Published\": 2011.0, \"Min Players\": 2, \"Max Players\": 4, \"Play Time\": 30, \"Min Age\": 6, \"Users Rated\": 2561, \"Rating Average\": \"6,64\", \"BGG Rank\": 1800, \"Complexity Average\": \"1,52\", \"Owned Users\": 6066.0, \"Mechanics\": \"Dice Rolling, Network and Route Building\", \"Domains\": \"Children's Games, Family Games\"}, {\"ID\": 257283.0, \"Name\": \"Tiny Epic Mechs\", \"Year Published\": 2019.0, \"Min Players\": 1, \"Max Players\": 4, \"Play Time\": 60, \"Min Age\": 14, \"Users Rated\": 1583, \"Rating Average\": \"6,94\", \"BGG Rank\": 1831, \"Complexity Average\": \"2,41\", \"Owned Users\": 6948.0, \"Mechanics\": \"Action Queue, Area Majority / Influence, Grid Movement, Modular Board, Programmed Movement, Rock-Paper-Scissors, Solo / Solitaire Game, Take That, Variable Player Powers\", \"Domains\": \"Strategy Games\"}, {\"ID\": 205494.0, \"Name\": \"Machi Koro: Bright Lights, Big City\", \"Year Published\": 2016.0, \"Min Players\": 2, \"Max Players\": 5, \"Play Time\": 30, \"Min Age\": 10, \"Users Rated\": 2239, \"Rating Average\": \"6,68\", \"BGG Rank\": 1872, \"Complexity Average\": \"1,89\", \"Owned Users\": 5790.0, \"Mechanics\": \"Card Drafting, Dice Rolling\", \"Domains\": \"Family Games\"}, {\"ID\": 175621.0, \"Name\": \"Epic Card Game\", \"Year Published\": 2015.0, \"Min Players\": 2, \"Max Players\": 4, \"Play Time\": 40, \"Min Age\": 13, \"Users Rated\": 4304, \"Rating Average\": \"6,47\", \"BGG Rank\": 1912, \"Complexity Average\": \"2,52\", \"Owned Users\": 10315.0, \"Mechanics\": \"Card Drafting, Hand Management, Take That\", \"Domains\": \"Customizable Games\"}, {\"ID\": 180956.0, \"Name\": \"One Night Ultimate Vampire\", \"Year Published\": 2015.0, \"Min Players\": 3, \"Max Players\": 10, \"Play Time\": 10, \"Min Age\": 8, \"Users Rated\": 1768, \"Rating Average\": \"6,72\", \"BGG Rank\": 1954, \"Complexity Average\": \"1,60\", \"Owned Users\": 5893.0, \"Mechanics\": \"Hidden Roles, Role Playing, Traitor Game, Variable Player Powers, Voting\", \"Domains\": \"Party Games\"}, {\"ID\": 220775.0, \"Name\": \"Codenames: Disney Family Edition\", \"Year Published\": 2017.0, \"Min Players\": 2, \"Max Players\": 8, \"Play Time\": 15, \"Min Age\": 8, \"Users Rated\": 1755, \"Rating Average\": \"6,70\", \"BGG Rank\": 1963, \"Complexity Average\": \"1,28\", \"Owned Users\": 5127.0, \"Mechanics\": \"Communication Limits, Memory, Pattern Recognition, Push Your Luck, Team-Based Game\", \"Domains\": \"Family Games, Party Games\"}, {\"ID\": 245271.0, \"Name\": \"Forbidden Sky\", \"Year Published\": 2018.0, \"Min Players\": 2, \"Max Players\": 5, \"Play Time\": 60, \"Min Age\": 10, \"Users Rated\": 2234, \"Rating Average\": \"6,58\", \"BGG Rank\": 1977, \"Complexity Average\": \"2,60\", \"Owned Users\": 7109.0, \"Mechanics\": \"Action Points, Cooperative Game, Modular Board, Tile Placement, Variable Player Powers\", \"Domains\": \"Family Games, Strategy Games\"}, {\"ID\": 131835.0, \"Name\": \"Boss Monster: The Dungeon Building Card Game\", \"Year Published\": 2013.0, \"Min Players\": 2, \"Max Players\": 4, \"Play Time\": 30, \"Min Age\": 13, \"Users Rated\": 13850, \"Rating Average\": \"6,29\", \"BGG Rank\": 1984, \"Complexity Average\": \"1,84\", \"Owned Users\": 27731.0, \"Mechanics\": \"Hand Management, Player Elimination, Take That, Variable Player Powers\", \"Domains\": \"Family Games\"}, {\"ID\": 157789.0, \"Name\": \"Pandemic: Contagion\", \"Year Published\": 2014.0, \"Min Players\": 2, \"Max Players\": 5, \"Play Time\": 30, \"Min Age\": 14, \"Users Rated\": 3098, \"Rating Average\": \"6,44\", \"BGG Rank\": 1998, \"Complexity Average\": \"1,89\", \"Owned Users\": 7019.0, \"Mechanics\": \"Area Majority / Influence, Hand Management\", \"Domains\": \"Family Games\"}, {\"ID\": 192455.0, \"Name\": \"First Martians: Adventures on the Red Planet\", \"Year Published\": 2017.0, \"Min Players\": 1, \"Max Players\": 4, \"Play Time\": 90, \"Min Age\": 10, \"Users Rated\": 2902, \"Rating Average\": \"6,54\", \"BGG Rank\": 2020, \"Complexity Average\": \"4,17\", \"Owned Users\": 9309.0, \"Mechanics\": \"Cooperative Game, Dice Rolling, Modular Board, Scenario / Mission / Campaign Game, Storytelling, Variable Player Powers, Worker Placement\", \"Domains\": \"Thematic Games\"}, {\"ID\": 193621.0, \"Name\": \"Joking Hazard\", \"Year Published\": 2016.0, \"Min Players\": 3, \"Max Players\": 10, \"Play Time\": 90, \"Min Age\": 18, \"Users Rated\": 4388, \"Rating Average\": \"6,41\", \"BGG Rank\": 2064, \"Complexity Average\": \"1,04\", \"Owned Users\": 10339.0, \"Mechanics\": \"Hand Management, Player Judge, Simultaneous Action Selection\", \"Domains\": \"Party Games\"}, {\"ID\": 62871.0, \"Name\": \"Zombie Dice\", \"Year Published\": 2010.0, \"Min Players\": 2, \"Max Players\": 99, \"Play Time\": 20, \"Min Age\": 10, \"Users Rated\": 16180, \"Rating Average\": \"6,21\", \"BGG Rank\": 2094, \"Complexity Average\": \"1,10\", \"Owned Users\": 30632.0, \"Mechanics\": \"Dice Rolling, Push Your Luck, Re-rolling and Locking\", \"Domains\": \"Party Games\"}, {\"ID\": 173200.0, \"Name\": \"Epic Spell Wars of the Battle Wizards: Rumble at Castle Tentakill\", \"Year Published\": 2015.0, \"Min Players\": 2, \"Max Players\": 6, \"Play Time\": 45, \"Min Age\": 15, \"Users Rated\": 1905, \"Rating Average\": \"6,68\", \"BGG Rank\": 2100, \"Complexity Average\": \"1,58\", \"Owned Users\": 5073.0, \"Mechanics\": \"Dice Rolling, Hand Management, Take That\", \"Domains\": \"Party Games\"}, {\"ID\": 102104.0, \"Name\": \"Star Fluxx\", \"Year Published\": 2011.0, \"Min Players\": 2, \"Max Players\": 6, \"Play Time\": 40, \"Min Age\": 8, \"Users Rated\": 4946, \"Rating Average\": \"6,36\", \"BGG Rank\": 2150, \"Complexity Average\": \"1,44\", \"Owned Users\": 11472.0, \"Mechanics\": \"Hand Management, Set Collection\", \"Domains\": \"Family Games, Party Games\"}, {\"ID\": 168679.0, \"Name\": \"Flip City\", \"Year Published\": 2014.0, \"Min Players\": 1, \"Max Players\": 4, \"Play Time\": 50, \"Min Age\": 8, \"Users Rated\": 3639, \"Rating Average\": \"6,33\", \"BGG Rank\": 2159, \"Complexity Average\": \"1,74\", \"Owned Users\": 6612.0, \"Mechanics\": \"Deck Bag and Pool Building, Push Your Luck, Sudden Death Ending\", \"Domains\": \"Family Games, Strategy Games\"}, {\"ID\": 105593.0, \"Name\": \"Cheating Moth\", \"Year Published\": 2011.0, \"Min Players\": 3, \"Max Players\": 5, \"Play Time\": 30, \"Min Age\": 7, \"Users Rated\": 2853, \"Rating Average\": \"6,43\", \"BGG Rank\": 2178, \"Complexity Average\": \"1,15\", \"Owned Users\": 5974.0, \"Mechanics\": \"Hand Management\", \"Domains\": \"Party Games\"}, {\"ID\": 197831.0, \"Name\": \"Dark Souls: The Board Game\", \"Year Published\": 2017.0, \"Min Players\": 1, \"Max Players\": 4, \"Play Time\": 120, \"Min Age\": 14, \"Users Rated\": 3333, \"Rating Average\": \"6,57\", \"BGG Rank\": 2285, \"Complexity Average\": \"3,12\", \"Owned Users\": 7317.0, \"Mechanics\": \"Cooperative Game, Deck Bag and Pool Building, Dice Rolling, Grid Movement, Modular Board, Role Playing, Variable Player Powers\", \"Domains\": \"Strategy Games, Thematic Games\"}, {\"ID\": 251420.0, \"Name\": \"Choose Your Own Adventure: House of Danger\", \"Year Published\": 2018.0, \"Min Players\": 1, \"Max Players\": 99, \"Play Time\": 60, \"Min Age\": 10, \"Users Rated\": 2146, \"Rating Average\": \"6,44\", \"BGG Rank\": 2379, \"Complexity Average\": \"1,08\", \"Owned Users\": 6052.0, \"Mechanics\": \"Cooperative Game, Dice Rolling, Hand Management, Narrative Choice / Paragraph, Solo / Solitaire Game, Storytelling\", \"Domains\": \"Thematic Games\"}, {\"ID\": 99875.0, \"Name\": \"Martian Dice\", \"Year Published\": 2011.0, \"Min Players\": 2, \"Max Players\": 99, \"Play Time\": 10, \"Min Age\": 8, \"Users Rated\": 3195, \"Rating Average\": \"6,24\", \"BGG Rank\": 2542, \"Complexity Average\": \"1,07\", \"Owned Users\": 5027.0, \"Mechanics\": \"Dice Rolling, Push Your Luck, Re-rolling and Locking, Set Collection\", \"Domains\": \"Family Games\"}, {\"ID\": 155708.0, \"Name\": \"Tiny Epic Defenders\", \"Year Published\": 2015.0, \"Min Players\": 1, \"Max Players\": 4, \"Play Time\": 30, \"Min Age\": 13, \"Users Rated\": 2532, \"Rating Average\": \"6,29\", \"BGG Rank\": 2549, \"Complexity Average\": \"1,81\", \"Owned Users\": 6413.0, \"Mechanics\": \"Action Points, Area Majority / Influence, Campaign / Battle Card Driven, Cooperative Game, Solo / Solitaire Game, Variable Player Powers\", \"Domains\": \"Strategy Games\"}, {\"ID\": 148261.0, \"Name\": \"SeaFall\", \"Year Published\": 2016.0, \"Min Players\": 3, \"Max Players\": 5, \"Play Time\": 180, \"Min Age\": 14, \"Users Rated\": 3126, \"Rating Average\": \"6,29\", \"BGG Rank\": 2554, \"Complexity Average\": \"3,76\", \"Owned Users\": 8611.0, \"Mechanics\": \"Campaign / Battle Card Driven, Grid Movement, Hand Management, Legacy Game, Trading, Variable Player Powers\", \"Domains\": \"Strategy Games, Thematic Games\"}, {\"ID\": 162559.0, \"Name\": \"Smash Up: Munchkin\", \"Year Published\": 2015.0, \"Min Players\": 2, \"Max Players\": 4, \"Play Time\": 45, \"Min Age\": 12, \"Users Rated\": 1335, \"Rating Average\": \"6,62\", \"BGG Rank\": 2555, \"Complexity Average\": \"2,18\", \"Owned Users\": 5052.0, \"Mechanics\": \"Area Majority / Influence, Hand Management, Take That, Variable Player Powers\", \"Domains\": \"Strategy Games\"}, {\"ID\": 138788.0, \"Name\": \"Dungeon Roll\", \"Year Published\": 2013.0, \"Min Players\": 1, \"Max Players\": 4, \"Play Time\": 15, \"Min Age\": 8, \"Users Rated\": 7595, \"Rating Average\": \"6,12\", \"BGG Rank\": 2581, \"Complexity Average\": \"1,33\", \"Owned Users\": 14510.0, \"Mechanics\": \"Dice Rolling, Hand Management, Push Your Luck, Variable Player Powers\", \"Domains\": \"Family Games\"}, {\"ID\": 152237.0, \"Name\": \"Pairs\", \"Year Published\": 2014.0, \"Min Players\": 2, \"Max Players\": 8, \"Play Time\": 15, \"Min Age\": 0, \"Users Rated\": 2072, \"Rating Average\": \"6,36\", \"BGG Rank\": 2591, \"Complexity Average\": \"1,15\", \"Owned Users\": 5304.0, \"Mechanics\": \"Push Your Luck\", \"Domains\": \"Family Games\"}, {\"ID\": 172242.0, \"Name\": \"Exploding Kittens: NSFW Deck\", \"Year Published\": 2015.0, \"Min Players\": 2, \"Max Players\": 5, \"Play Time\": 20, \"Min Age\": 18, \"Users Rated\": 7717, \"Rating Average\": \"6,22\", \"BGG Rank\": 2616, \"Complexity Average\": \"1,07\", \"Owned Users\": 20857.0, \"Mechanics\": \"Hand Management, Player Elimination, Push Your Luck, Set Collection, Take That\", \"Domains\": \"Party Games\"}, {\"ID\": 167698.0, \"Name\": \"Magic: The Gathering - Arena of the Planeswalkers\", \"Year Published\": 2015.0, \"Min Players\": 2, \"Max Players\": 5, \"Play Time\": 60, \"Min Age\": 10, \"Users Rated\": 2898, \"Rating Average\": \"6,27\", \"BGG Rank\": 2731, \"Complexity Average\": \"2,34\", \"Owned Users\": 9974.0, \"Mechanics\": \"Dice Rolling, Grid Movement, Hand Management, Hexagon Grid, Modular Board, Team-Based Game\", \"Domains\": \"Thematic Games\"}, {\"ID\": 234190.0, \"Name\": \"Unstable Unicorns\", \"Year Published\": 2017.0, \"Min Players\": 2, \"Max Players\": 8, \"Play Time\": 45, \"Min Age\": 14, \"Users Rated\": 4149, \"Rating Average\": \"6,31\", \"BGG Rank\": 2751, \"Complexity Average\": \"1,56\", \"Owned Users\": 11087.0, \"Mechanics\": \"Hand Management, Set Collection, Take That\", \"Domains\": \"Party Games\"}, {\"ID\": 86955.0, \"Name\": \"Munchkin Zombies\", \"Year Published\": 2011.0, \"Min Players\": 3, \"Max Players\": 6, \"Play Time\": 90, \"Min Age\": 10, \"Users Rated\": 3143, \"Rating Average\": \"6,22\", \"BGG Rank\": 2977, \"Complexity Average\": \"1,94\", \"Owned Users\": 8890.0, \"Mechanics\": \"Dice Rolling, Hand Management, Variable Player Powers\", \"Domains\": \"Thematic Games\"}, {\"ID\": 230251.0, \"Name\": \"Mint Delivery\", \"Year Published\": 2017.0, \"Min Players\": 1, \"Max Players\": 5, \"Play Time\": 30, \"Min Age\": 13, \"Users Rated\": 1714, \"Rating Average\": \"6,27\", \"BGG Rank\": 3062, \"Complexity Average\": \"1,49\", \"Owned Users\": 6008.0, \"Mechanics\": \"Action Points, Contracts, Increase Value of Unchosen Resources, Pick-up and Deliver, Point to Point Movement\", \"Domains\": \"Family Games, Strategy Games\"}, {\"ID\": 91534.0, \"Name\": \"Struggle for Catan\", \"Year Published\": 2011.0, \"Min Players\": 2, \"Max Players\": 4, \"Play Time\": 30, \"Min Age\": 10, \"Users Rated\": 2404, \"Rating Average\": \"6,16\", \"BGG Rank\": 3101, \"Complexity Average\": \"1,67\", \"Owned Users\": 5867.0, \"Mechanics\": \"Hand Management, Trading\", \"Domains\": \"Family Games\"}, {\"ID\": 73538.0, \"Name\": \"Pirate Fluxx\", \"Year Published\": 2011.0, \"Min Players\": 2, \"Max Players\": 6, \"Play Time\": 40, \"Min Age\": 8, \"Users Rated\": 2472, \"Rating Average\": \"6,17\", \"BGG Rank\": 3227, \"Complexity Average\": \"1,42\", \"Owned Users\": 6154.0, \"Mechanics\": \"Hand Management, Set Collection, Take That\", \"Domains\": \"Family Games, Party Games\"}, {\"ID\": 129090.0, \"Name\": \"Roll For It!\", \"Year Published\": 2011.0, \"Min Players\": 2, \"Max Players\": 4, \"Play Time\": 30, \"Min Age\": 8, \"Users Rated\": 2626, \"Rating Average\": \"6,12\", \"BGG Rank\": 3236, \"Complexity Average\": \"1,04\", \"Owned Users\": 5493.0, \"Mechanics\": \"Dice Rolling\", \"Domains\": \"Family Games\"}, {\"ID\": 122159.0, \"Name\": \"Cthulhu Fluxx\", \"Year Published\": 2012.0, \"Min Players\": 2, \"Max Players\": 6, \"Play Time\": 30, \"Min Age\": 8, \"Users Rated\": 2927, \"Rating Average\": \"6,10\", \"BGG Rank\": 3394, \"Complexity Average\": \"1,49\", \"Owned Users\": 7179.0, \"Mechanics\": \"Hand Management, Set Collection\", \"Domains\": \"Party Games\"}, {\"ID\": 194232.0, \"Name\": \"Rick and Morty: Total Rickall Card Game\", \"Year Published\": 2016.0, \"Min Players\": 2, \"Max Players\": 5, \"Play Time\": 30, \"Min Age\": 15, \"Users Rated\": 1678, \"Rating Average\": \"6,20\", \"BGG Rank\": 3669, \"Complexity Average\": \"1,57\", \"Owned Users\": 5100.0, \"Mechanics\": \"Cooperative Game, Hand Management, Memory\", \"Domains\": \"Party Games\"}, {\"ID\": 139443.0, \"Name\": \"Superfight\", \"Year Published\": 2013.0, \"Min Players\": 3, \"Max Players\": 10, \"Play Time\": 30, \"Min Age\": 5, \"Users Rated\": 2113, \"Rating Average\": \"5,94\", \"BGG Rank\": 5257, \"Complexity Average\": \"1,21\", \"Owned Users\": 5565.0, \"Mechanics\": \"Voting\", \"Domains\": \"Party Games\"}, {\"ID\": 211534.0, \"Name\": \"Bears vs Babies\", \"Year Published\": 2017.0, \"Min Players\": 2, \"Max Players\": 5, \"Play Time\": 20, \"Min Age\": 7, \"Users Rated\": 3326, \"Rating Average\": \"5,52\", \"BGG Rank\": 19935, \"Complexity Average\": \"1,26\", \"Owned Users\": 9221.0, \"Mechanics\": \"Action Points, Hand Management, Player Elimination, Set Collection, Take That\", \"Domains\": \"Party Games\"}, {\"ID\": 65611.0, \"Name\": \"Cthulhu Dice\", \"Year Published\": 2010.0, \"Min Players\": 2, \"Max Players\": 6, \"Play Time\": 5, \"Min Age\": 10, \"Users Rated\": 2683, \"Rating Average\": \"5,21\", \"BGG Rank\": 20257, \"Complexity Average\": \"1,12\", \"Owned Users\": 6061.0, \"Mechanics\": \"Dice Rolling, Player Elimination\", \"Domains\": \"Party Games\"}, {\"ID\": 205322.0, \"Name\": \"The Oregon Trail Card Game\", \"Year Published\": 2016.0, \"Min Players\": 2, \"Max Players\": 6, \"Play Time\": 45, \"Min Age\": 12, \"Users Rated\": 2654, \"Rating Average\": \"4,27\", \"BGG Rank\": 20327, \"Complexity Average\": \"1,18\", \"Owned Users\": 7183.0, \"Mechanics\": \"Communication Limits, Connections, Cooperative Game, Dice Rolling, Hand Management, Lose a Turn, Move Through Deck, Player Elimination, Simulation, Solo / Solitaire Game\", \"Domains\": \"Family Games\"}]}}, {\"mode\": \"vega-lite\"});\n",
       "</script>"
      ],
      "text/plain": [
       "alt.Chart(...)"
      ]
     },
     "execution_count": 10,
     "metadata": {},
     "output_type": "execute_result"
    }
   ],
   "source": [
    "alt.Chart(df2).mark_point(opacity=0.7).encode(\n",
    "    x = alt.X(\"Owned Users\",scale = alt.Scale(zero=False)),\n",
    "    y = alt.Y(\"Users Rated\", scale = alt.Scale(zero=False)),\n",
    "    color = \"Year Published\"\n",
    ").properties(\n",
    "    title = \"Owned Users vs Users Rated\"\n",
    ").interactive()"
   ]
  },
  {
   "cell_type": "markdown",
   "metadata": {
    "cell_id": "5c25eb0d-ba3a-4875-8467-ebffa6d09eab",
    "deepnote_cell_height": 133.59375,
    "deepnote_cell_type": "markdown",
    "tags": []
   },
   "source": [
    "**_Analysis_**\n",
    "\n",
    "The number of owned users is positively correlated with the number of users rated by a factor of 0.69. As the number of people who own the game increases, the number of people who rate the game also increases, and as a general trend, if the game is published earlier, the percentage of the people who rate the game is higher than for the games published later."
   ]
  },
  {
   "cell_type": "markdown",
   "metadata": {
    "cell_id": "899421e4-93b0-48f8-affd-d56e37d00408",
    "deepnote_cell_height": 52.390625,
    "deepnote_cell_type": "markdown",
    "tags": []
   },
   "source": [
    "**_Section 2_**"
   ]
  },
  {
   "cell_type": "markdown",
   "metadata": {
    "cell_id": "accf8458-40ba-45d9-bdfb-85994f5c5e57",
    "deepnote_cell_height": 125.1875,
    "deepnote_cell_type": "markdown",
    "tags": []
   },
   "source": [
    "**_Goal: Predict the rating of a game based on the features of the game_**\n",
    "\n",
    "Data Used: The original dataframe with rows containing na values dropped\n",
    "\n",
    "Method: Neural networks"
   ]
  },
  {
   "cell_type": "markdown",
   "metadata": {
    "cell_id": "dd071b4e-3ade-4da0-8c6b-32685af17a0f",
    "deepnote_cell_height": 52.390625,
    "deepnote_cell_type": "markdown",
    "tags": []
   },
   "source": [
    "**_Converting data types_**"
   ]
  },
  {
   "cell_type": "code",
   "execution_count": 11,
   "metadata": {
    "cell_id": "9cfd9812-a094-43e7-97be-55e88fd93b8e",
    "deepnote_cell_height": 135,
    "deepnote_cell_type": "code",
    "deepnote_to_be_reexecuted": false,
    "execution_millis": 159,
    "execution_start": 1647620938698,
    "source_hash": "c7e2870e",
    "tags": []
   },
   "outputs": [],
   "source": [
    "df['Rating Average'] = df['Rating Average'].apply(lambda x: np.char.replace(x, ',', '.'))\n",
    "df['Complexity Average'] = df['Complexity Average'].apply(lambda x: np.char.replace(x, ',', '.'))\n",
    "df['Rating Average'] = pd.to_numeric(df['Rating Average']).astype(int)\n",
    "df['Complexity Average'] = pd.to_numeric(df['Complexity Average'])"
   ]
  },
  {
   "cell_type": "markdown",
   "metadata": {
    "cell_id": "1dcdcf59-f779-4da2-ab54-540782506cea",
    "deepnote_cell_height": 52.390625,
    "deepnote_cell_type": "markdown",
    "tags": []
   },
   "source": [
    "**_Reformating data for input_**"
   ]
  },
  {
   "cell_type": "code",
   "execution_count": 12,
   "metadata": {
    "cell_id": "d7f27fa0-4c2f-4fe7-837b-b89c657d6232",
    "deepnote_cell_height": 117,
    "deepnote_cell_type": "code",
    "deepnote_to_be_reexecuted": false,
    "execution_millis": 69265,
    "execution_start": 1647620938857,
    "source_hash": "ca5df1ae",
    "tags": []
   },
   "outputs": [],
   "source": [
    "X_train, X_test, y_train, y_test = train_test_split(df[['Year Published', 'Min Players', 'Max Players', 'Play Time', 'Min Age', 'Complexity Average']], df['Rating Average'], test_size = 0.2)\n",
    "X_train = [[list(X_train['Year Published'])[i], list(X_train['Min Players'])[i], list(X_train['Max Players'])[i], list(X_train['Play Time'])[i], list(X_train['Min Age'])[i],list(X_train['Complexity Average'])[i]] for i in range(len(X_train))]\n",
    "X_test = [[list(X_test['Year Published'])[i], list(X_test['Min Players'])[i], list(X_test['Max Players'])[i], list(X_test['Play Time'])[i], list(X_test['Min Age'])[i],list(X_test['Complexity Average'])[i]] for i in range(len(X_test))]"
   ]
  },
  {
   "cell_type": "markdown",
   "metadata": {
    "cell_id": "96616b21-aead-42ab-9097-f7d344048e3c",
    "deepnote_cell_height": 52.390625,
    "deepnote_cell_type": "markdown",
    "tags": []
   },
   "source": [
    "**_Creating neural network_**"
   ]
  },
  {
   "cell_type": "code",
   "execution_count": 13,
   "metadata": {
    "cell_id": "3c9349a4-ac0b-4708-ba1f-0f72867fe393",
    "deepnote_cell_height": 351,
    "deepnote_cell_type": "code",
    "deepnote_to_be_reexecuted": false,
    "execution_millis": 10,
    "execution_start": 1647621008127,
    "source_hash": "736f9e98",
    "tags": []
   },
   "outputs": [],
   "source": [
    "class Boardgames(nn.Module):\n",
    "    def __init__(self):\n",
    "        super().__init__()\n",
    "        self.layers = nn.Sequential(\n",
    "            nn.Linear(6,5),\n",
    "            nn.Sigmoid(),\n",
    "            nn.Linear(5,3),\n",
    "            nn.ReLU(),\n",
    "            nn.Linear(3,10),\n",
    "            nn.LogSoftmax(dim=1)\n",
    "        )\n",
    "\n",
    "    def forward(self,x):\n",
    "        x = x\n",
    "        z = self.layers(x)\n",
    "        return z"
   ]
  },
  {
   "cell_type": "code",
   "execution_count": 14,
   "metadata": {
    "cell_id": "31ff8a87-3710-4061-8e4f-1f0dbee6ee46",
    "deepnote_cell_height": 81,
    "deepnote_cell_type": "code",
    "deepnote_to_be_reexecuted": false,
    "execution_millis": 54,
    "execution_start": 1647621008142,
    "source_hash": "33072ac3",
    "tags": []
   },
   "outputs": [],
   "source": [
    "obj = Boardgames()"
   ]
  },
  {
   "cell_type": "markdown",
   "metadata": {
    "cell_id": "9b77bc7b-2d5d-4305-bc46-66f3696e86fd",
    "deepnote_cell_height": 52.390625,
    "deepnote_cell_type": "markdown",
    "tags": []
   },
   "source": [
    "**_Training neural network_**"
   ]
  },
  {
   "cell_type": "code",
   "execution_count": 15,
   "metadata": {
    "cell_id": "0e1cd7b2-9d96-446e-9d48-2be8987bbf7e",
    "deepnote_cell_height": 1043,
    "deepnote_cell_type": "code",
    "deepnote_to_be_reexecuted": false,
    "execution_millis": 502,
    "execution_start": 1647621008202,
    "source_hash": "687a732f",
    "tags": []
   },
   "outputs": [
    {
     "name": "stdout",
     "output_type": "stream",
     "text": [
      "Training loss:\n",
      "tensor(2.2025, grad_fn=<NllLossBackward0>)\n",
      "Test loss:\n",
      "tensor(1.5589, grad_fn=<NllLossBackward0>)\n",
      "\n",
      "\n",
      "Training loss:\n",
      "tensor(1.5504, grad_fn=<NllLossBackward0>)\n",
      "Test loss:\n",
      "tensor(1.7944, grad_fn=<NllLossBackward0>)\n",
      "\n",
      "\n",
      "Training loss:\n",
      "tensor(1.8064, grad_fn=<NllLossBackward0>)\n",
      "Test loss:\n",
      "tensor(1.6090, grad_fn=<NllLossBackward0>)\n",
      "\n",
      "\n",
      "Training loss:\n",
      "tensor(1.5947, grad_fn=<NllLossBackward0>)\n",
      "Test loss:\n",
      "tensor(1.4651, grad_fn=<NllLossBackward0>)\n",
      "\n",
      "\n",
      "Training loss:\n",
      "tensor(1.4591, grad_fn=<NllLossBackward0>)\n",
      "Test loss:\n",
      "tensor(1.4147, grad_fn=<NllLossBackward0>)\n",
      "\n",
      "\n",
      "Training loss:\n",
      "tensor(1.4118, grad_fn=<NllLossBackward0>)\n",
      "Test loss:\n",
      "tensor(1.3923, grad_fn=<NllLossBackward0>)\n",
      "\n",
      "\n",
      "Training loss:\n",
      "tensor(1.3902, grad_fn=<NllLossBackward0>)\n",
      "Test loss:\n",
      "tensor(1.3788, grad_fn=<NllLossBackward0>)\n",
      "\n",
      "\n",
      "Training loss:\n",
      "tensor(1.3771, grad_fn=<NllLossBackward0>)\n",
      "Test loss:\n",
      "tensor(1.3697, grad_fn=<NllLossBackward0>)\n",
      "\n",
      "\n",
      "Training loss:\n",
      "tensor(1.3682, grad_fn=<NllLossBackward0>)\n",
      "Test loss:\n",
      "tensor(1.3630, grad_fn=<NllLossBackward0>)\n",
      "\n",
      "\n",
      "Training loss:\n",
      "tensor(1.3616, grad_fn=<NllLossBackward0>)\n",
      "Test loss:\n",
      "tensor(1.3577, grad_fn=<NllLossBackward0>)\n",
      "\n",
      "\n"
     ]
    }
   ],
   "source": [
    "loss_fn = nn.NLLLoss()\n",
    "optimizer = torch.optim.SGD(obj.parameters(), lr=4)\n",
    "epochs = 10\n",
    "\n",
    "for i in range(epochs):\n",
    "    y_true = torch.tensor(list(y_train)) - 1\n",
    "    y_pred = obj(torch.tensor(X_train))\n",
    "    loss = loss_fn(y_pred, y_true)\n",
    "    optimizer.zero_grad()\n",
    "    loss.backward()\n",
    "    optimizer.step()\n",
    "    print(\"Training loss:\")\n",
    "    print(loss)\n",
    "\n",
    "    y_pred = obj(torch.tensor(X_test))\n",
    "    y_true = torch.tensor(list(y_test)) - 1\n",
    "    loss = loss_fn(y_pred, y_true)\n",
    "    print(\"Test loss:\")\n",
    "    print(loss)\n",
    "    print('\\n')"
   ]
  },
  {
   "cell_type": "markdown",
   "metadata": {
    "cell_id": "5114fad7-1027-4416-aa93-535ca724b758",
    "deepnote_cell_height": 111.1875,
    "deepnote_cell_type": "markdown",
    "tags": []
   },
   "source": [
    "**_Analysis_**\n",
    "\n",
    "The loss for the training data and the test data are both decreasing, so the neural network is working, and the training and test losses are very close, so there is no sign of overfitting."
   ]
  },
  {
   "cell_type": "markdown",
   "metadata": {
    "cell_id": "b504a081-2eaf-47c6-a566-c3e29708ce22",
    "deepnote_cell_height": 52.390625,
    "deepnote_cell_type": "markdown",
    "tags": []
   },
   "source": [
    "**_Section 3_**"
   ]
  },
  {
   "cell_type": "markdown",
   "metadata": {
    "cell_id": "77267fdd-eb3d-4ae8-aad9-f73b18bd51c7",
    "deepnote_cell_height": 88.796875,
    "deepnote_cell_type": "markdown",
    "tags": []
   },
   "source": [
    "**_Goal: Visualize the data to put things into context_**\n",
    "\n",
    "Data Used: Year published (1600-2022) and owned users"
   ]
  },
  {
   "cell_type": "code",
   "execution_count": 16,
   "metadata": {
    "cell_id": "d0e7623a-3f82-4f82-a42f-b2f01613a331",
    "deepnote_cell_height": 429,
    "deepnote_cell_type": "code",
    "deepnote_table_loading": false,
    "deepnote_table_state": {
     "filters": [],
     "pageIndex": 0,
     "pageSize": 25,
     "sortBy": []
    },
    "deepnote_to_be_reexecuted": false,
    "execution_millis": 29,
    "execution_start": 1647621008703,
    "source_hash": "d054746f",
    "tags": []
   },
   "outputs": [
    {
     "data": {
      "application/vnd.deepnote.dataframe.v3+json": {
       "column_count": 2,
       "columns": [
        {
         "dtype": "float64",
         "name": "Year Published",
         "stats": {
          "histogram": [
           {
            "bin_end": 19.6,
            "bin_start": 19.5,
            "count": 0
           },
           {
            "bin_end": 19.7,
            "bin_start": 19.6,
            "count": 0
           },
           {
            "bin_end": 19.8,
            "bin_start": 19.7,
            "count": 0
           },
           {
            "bin_end": 19.9,
            "bin_start": 19.8,
            "count": 0
           },
           {
            "bin_end": 20,
            "bin_start": 19.9,
            "count": 0
           },
           {
            "bin_end": 20.1,
            "bin_start": 20,
            "count": 5
           },
           {
            "bin_end": 20.2,
            "bin_start": 20.1,
            "count": 0
           },
           {
            "bin_end": 20.3,
            "bin_start": 20.2,
            "count": 0
           },
           {
            "bin_end": 20.4,
            "bin_start": 20.3,
            "count": 0
           },
           {
            "bin_end": 20.5,
            "bin_start": 20.4,
            "count": 0
           }
          ],
          "max": "20.0",
          "min": "20.0",
          "nan_count": 0,
          "unique_count": 1
         }
        },
        {
         "dtype": "float64",
         "name": "Owned Users",
         "stats": {
          "histogram": [
           {
            "bin_end": 23857.8,
            "bin_start": 16831,
            "count": 1
           },
           {
            "bin_end": 30884.6,
            "bin_start": 23857.8,
            "count": 1
           },
           {
            "bin_end": 37911.4,
            "bin_start": 30884.6,
            "count": 0
           },
           {
            "bin_end": 44938.2,
            "bin_start": 37911.4,
            "count": 0
           },
           {
            "bin_end": 51965,
            "bin_start": 44938.2,
            "count": 0
           },
           {
            "bin_end": 58991.8,
            "bin_start": 51965,
            "count": 0
           },
           {
            "bin_end": 66018.6,
            "bin_start": 58991.8,
            "count": 1
           },
           {
            "bin_end": 73045.4,
            "bin_start": 66018.6,
            "count": 1
           },
           {
            "bin_end": 80072.20000000001,
            "bin_start": 73045.4,
            "count": 0
           },
           {
            "bin_end": 87099,
            "bin_start": 80072.20000000001,
            "count": 1
           }
          ],
          "max": "87099.0",
          "min": "16831.0",
          "nan_count": 0,
          "unique_count": 5
         }
        },
        {
         "dtype": "int64",
         "name": "_deepnote_index_column"
        }
       ],
       "row_count": 5,
       "rows": [
        {
         "Owned Users": 68323,
         "Year Published": 20,
         "_deepnote_index_column": 0
        },
        {
         "Owned Users": 65294,
         "Year Published": 20,
         "_deepnote_index_column": 1
        },
        {
         "Owned Users": 28785,
         "Year Published": 20,
         "_deepnote_index_column": 2
        },
        {
         "Owned Users": 87099,
         "Year Published": 20,
         "_deepnote_index_column": 3
        },
        {
         "Owned Users": 16831,
         "Year Published": 20,
         "_deepnote_index_column": 4
        }
       ]
      },
      "text/html": [
       "<div>\n",
       "<style scoped>\n",
       "    .dataframe tbody tr th:only-of-type {\n",
       "        vertical-align: middle;\n",
       "    }\n",
       "\n",
       "    .dataframe tbody tr th {\n",
       "        vertical-align: top;\n",
       "    }\n",
       "\n",
       "    .dataframe thead th {\n",
       "        text-align: right;\n",
       "    }\n",
       "</style>\n",
       "<table border=\"1\" class=\"dataframe\">\n",
       "  <thead>\n",
       "    <tr style=\"text-align: right;\">\n",
       "      <th></th>\n",
       "      <th>Year Published</th>\n",
       "      <th>Owned Users</th>\n",
       "    </tr>\n",
       "  </thead>\n",
       "  <tbody>\n",
       "    <tr>\n",
       "      <th>0</th>\n",
       "      <td>20.0</td>\n",
       "      <td>68323.0</td>\n",
       "    </tr>\n",
       "    <tr>\n",
       "      <th>1</th>\n",
       "      <td>20.0</td>\n",
       "      <td>65294.0</td>\n",
       "    </tr>\n",
       "    <tr>\n",
       "      <th>2</th>\n",
       "      <td>20.0</td>\n",
       "      <td>28785.0</td>\n",
       "    </tr>\n",
       "    <tr>\n",
       "      <th>3</th>\n",
       "      <td>20.0</td>\n",
       "      <td>87099.0</td>\n",
       "    </tr>\n",
       "    <tr>\n",
       "      <th>4</th>\n",
       "      <td>20.0</td>\n",
       "      <td>16831.0</td>\n",
       "    </tr>\n",
       "  </tbody>\n",
       "</table>\n",
       "</div>"
      ],
      "text/plain": [
       "   Year Published  Owned Users\n",
       "0            20.0      68323.0\n",
       "1            20.0      65294.0\n",
       "2            20.0      28785.0\n",
       "3            20.0      87099.0\n",
       "4            20.0      16831.0"
      ]
     },
     "execution_count": 16,
     "metadata": {},
     "output_type": "execute_result"
    }
   ],
   "source": [
    "df3 = df[df['Year Published'].isin(range(1600, 2023))][['Year Published', 'Owned Users']]\n",
    "df3['Year Published'] = df3['Year Published'] // 100\n",
    "df3.head()"
   ]
  },
  {
   "cell_type": "code",
   "execution_count": 17,
   "metadata": {
    "cell_id": "83a21447-d6a1-42c5-9860-f4ce20be32a8",
    "deepnote_cell_height": 208.1875,
    "deepnote_cell_type": "code",
    "deepnote_output_heights": [
     21.1875
    ],
    "deepnote_to_be_reexecuted": false,
    "execution_millis": 25,
    "execution_start": 1647621008737,
    "source_hash": "ee9ec593",
    "tags": []
   },
   "outputs": [
    {
     "data": {
      "text/plain": [
       "{16.0: 6, 17.0: 11, 18.0: 27, 19.0: 2835, 20.0: 6753}"
      ]
     },
     "execution_count": 17,
     "metadata": {},
     "output_type": "execute_result"
    }
   ],
   "source": [
    "pub_vals = {}\n",
    "size = 0\n",
    "for i in set(df3['Year Published']):\n",
    "    pub_vals[i] = sum(df3['Year Published'] == i)\n",
    "    size += pub_vals[i]\n",
    "pub_vals"
   ]
  },
  {
   "cell_type": "code",
   "execution_count": 18,
   "metadata": {
    "cell_id": "cb2d41a2-b911-40d9-9c1b-6f0dc50c1fac",
    "deepnote_cell_height": 248.96875,
    "deepnote_cell_type": "code",
    "deepnote_output_heights": [
     97.96875
    ],
    "deepnote_to_be_reexecuted": false,
    "execution_millis": 34,
    "execution_start": 1647621008768,
    "source_hash": "8bc19f25",
    "tags": []
   },
   "outputs": [
    {
     "data": {
      "text/plain": [
       "{1600.0: 2701.5,\n",
       " 1700.0: 684.8181818181819,\n",
       " 1800.0: 2881.5925925925926,\n",
       " 1900.0: 1349.7961199294532,\n",
       " 2000.0: 3105.626388271879}"
      ]
     },
     "execution_count": 18,
     "metadata": {},
     "output_type": "execute_result"
    }
   ],
   "source": [
    "avg_vals = {}\n",
    "for i in set(df3['Year Published']):\n",
    "    avg_vals[i*100] = mean(df3[df3['Year Published']==i]['Owned Users'])\n",
    "avg_vals"
   ]
  },
  {
   "cell_type": "markdown",
   "metadata": {
    "cell_id": "9748c9d9-5ed9-4fd2-bb28-9ee4eec05a93",
    "deepnote_cell_height": 52.390625,
    "deepnote_cell_type": "markdown",
    "tags": []
   },
   "source": [
    "**_Plot Bar Chart_**"
   ]
  },
  {
   "cell_type": "code",
   "execution_count": 19,
   "metadata": {
    "cell_id": "db8f1684-214a-4e42-aae2-224bbfca03be",
    "deepnote_cell_height": 596,
    "deepnote_cell_type": "code",
    "deepnote_output_heights": [
     337
    ],
    "deepnote_to_be_reexecuted": false,
    "execution_millis": 290,
    "execution_start": 1647621008811,
    "source_hash": "eb2a9c62",
    "tags": []
   },
   "outputs": [
    {
     "data": {
      "image/png": "[encoded data removed]",
      "text/plain": [
       "<Figure size 432x288 with 1 Axes>"
      ]
     },
     "metadata": {
      "filenames": {
       "image/png": "/Users/christopherdavis/Documents/GitHub/UCI-Math-10-W22/_build/jupyter_execute/Proj/StudentProjects/AliciaChuang_42_0.png"
      },
      "image/png": {
       "height": 335,
       "width": 478
      },
      "needs_background": "light"
     },
     "output_type": "display_data"
    }
   ],
   "source": [
    "fig = plt.figure()\n",
    "ax = fig.add_axes([0,0,1,1])\n",
    "labels = []\n",
    "sizes = []\n",
    "for key, val in pub_vals.items():\n",
    "    labels.append(key*100)\n",
    "    sizes.append(val)\n",
    "ax.bar(labels,sizes, 80)\n",
    "plt.title(\"Number of Ranked Board Games from 1600-2022\")\n",
    "plt.show()"
   ]
  },
  {
   "cell_type": "markdown",
   "metadata": {
    "cell_id": "a24366f4-a6b2-499b-8c18-282c1e5aa4fb",
    "deepnote_cell_height": 52.390625,
    "deepnote_cell_type": "markdown",
    "tags": []
   },
   "source": [
    "**_Plot Pie Chart_**"
   ]
  },
  {
   "cell_type": "code",
   "execution_count": 20,
   "metadata": {
    "cell_id": "35026ae1-c940-4666-a57a-d2f32350858f",
    "deepnote_cell_height": 544,
    "deepnote_cell_type": "code",
    "deepnote_output_heights": [
     249
    ],
    "deepnote_to_be_reexecuted": false,
    "execution_millis": 299,
    "execution_start": 1647621009100,
    "source_hash": "f9aa83e7",
    "tags": []
   },
   "outputs": [
    {
     "data": {
      "image/png": "[encoded data removed]",
      "text/plain": [
       "<Figure size 432x288 with 1 Axes>"
      ]
     },
     "metadata": {
      "filenames": {
       "image/png": "/Users/christopherdavis/Documents/GitHub/UCI-Math-10-W22/_build/jupyter_execute/Proj/StudentProjects/AliciaChuang_44_0.png"
      },
      "image/png": {
       "height": 247,
       "width": 349
      }
     },
     "output_type": "display_data"
    }
   ],
   "source": [
    "labels = []\n",
    "sizes = []\n",
    "for key, val in avg_vals.items():\n",
    "    labels.append(key)\n",
    "    sizes.append(val/size)\n",
    "\n",
    "fig1, ax1 = plt.subplots()\n",
    "ax1.pie(sizes, labels=labels, autopct='%1.1f%%', shadow=True, startangle=90)\n",
    "ax1.axis('equal') \n",
    "plt.title(\"Owned Users of Board Games published 1600-2022\")\n",
    "\n",
    "plt.show()"
   ]
  },
  {
   "cell_type": "markdown",
   "metadata": {
    "cell_id": "5da60efc-bd33-45ea-b8ae-f2217535db87",
    "deepnote_cell_height": 133.59375,
    "deepnote_cell_type": "markdown",
    "tags": []
   },
   "source": [
    "**_Analysis_**\n",
    "\n",
    "Although there has only been 22 years in the 2000s so far, the number of boardgames published outnumber any of the other centuries by a significant amount. However, the average number of users for board games published in different years number roughly the same with 1700 being about 1/4 of the other centuries and 1900 about 1/2.\n"
   ]
  },
  {
   "cell_type": "markdown",
   "metadata": {
    "cell_id": "75922aa8-c6e1-46d5-9c85-550df5b37982",
    "deepnote_cell_height": 153.1875,
    "deepnote_cell_type": "markdown",
    "tags": []
   },
   "source": [
    "## Summary\n",
    "\n",
    "The project is split into 3 sections. The first analyzes the correlation between users owned, users rated, and the year published using regression. The second is a neural network that predicts the rating of a board game given six aspects of the game. The third gives a visualization of the dataset in terms of boardgames published and users owned in each century."
   ]
  },
  {
   "cell_type": "markdown",
   "metadata": {
    "cell_id": "fc42153e-0b6d-4c37-9e06-ee471cfb0534",
    "deepnote_cell_height": 70,
    "deepnote_cell_type": "markdown",
    "tags": []
   },
   "source": [
    "## References"
   ]
  },
  {
   "cell_type": "markdown",
   "metadata": {
    "cell_id": "7f192c17-db16-429c-8c4f-cdaa4d317389",
    "deepnote_cell_height": 307.1875,
    "deepnote_cell_type": "markdown",
    "tags": []
   },
   "source": [
    "Import statements: https://christopherdavisuci.github.io/UCI-Math-10-W22/Week7/Week7-Monday.html\n",
    "\n",
    "Dataset: https://www.kaggle.com/andrewmvd/board-games\n",
    "\n",
    "Convert string to ints: https://stackoverflow.com/questions/21291259/convert-floats-to-ints-in-pandas\n",
    "\n",
    "Plotting K nearest neighbors: https://www.datatechnotes.com/2019/04/regression-example-with-k-nearest.html\n",
    "\n",
    "Customizing altair charts: https://altair-viz.github.io/user_guide/customization.html\n",
    "\n",
    "Matplotlib bar chart: https://www.tutorialspoint.com/matplotlib/matplotlib_bar_plot.htm\n",
    "\n",
    "Matplotlib pie chart: https://matplotlib.org/stable/gallery/pie_and_polar_charts/pie_features.html\n",
    "\n",
    "Mean function: https://www.geeksforgeeks.org/python-statistics-mean-function/"
   ]
  },
  {
   "cell_type": "markdown",
   "metadata": {
    "cell_id": "946b09c2-6030-44fb-be4d-02d574ffda45",
    "deepnote_cell_height": 46,
    "deepnote_cell_type": "markdown",
    "tags": []
   },
   "source": []
  },
  {
   "cell_type": "markdown",
   "metadata": {
    "created_in_deepnote_cell": true,
    "deepnote_cell_type": "markdown",
    "tags": []
   },
   "source": [
    "<a style='text-decoration:none;line-height:16px;display:flex;color:#5B5B62;padding:10px;justify-content:end;' href='https://deepnote.com?utm_source=created-in-deepnote-cell&projectId=5a3c711c-de92-4ae4-b61d-d6a8182ff089' target=\"_blank\">\n",
    "<img alt='Created in deepnote.com' style='display:inline;max-height:16px;margin:0px;margin-right:7.5px;' src='data:image/svg+xml;base64,PD94bWwgdmVyc2lvbj0iMS4wIiBlbmNvZGluZz0iVVRGLTgiPz4KPHN2ZyB3aWR0aD0iODBweCIgaGVpZ2h0PSI4MHB4IiB2aWV3Qm94PSIwIDAgODAgODAiIHZlcnNpb249IjEuMSIgeG1sbnM9Imh0dHA6Ly93d3cudzMub3JnLzIwMDAvc3ZnIiB4bWxuczp4bGluaz0iaHR0cDovL3d3dy53My5vcmcvMTk5OS94bGluayI+CiAgICA8IS0tIEdlbmVyYXRvcjogU2tldGNoIDU0LjEgKDc2NDkwKSAtIGh0dHBzOi8vc2tldGNoYXBwLmNvbSAtLT4KICAgIDx0aXRsZT5Hcm91cCAzPC90aXRsZT4KICAgIDxkZXNjPkNyZWF0ZWQgd2l0aCBTa2V0Y2guPC9kZXNjPgogICAgPGcgaWQ9IkxhbmRpbmciIHN0cm9rZT0ibm9uZSIgc3Ryb2tlLXdpZHRoPSIxIiBmaWxsPSJub25lIiBmaWxsLXJ1bGU9ImV2ZW5vZGQiPgogICAgICAgIDxnIGlkPSJBcnRib2FyZCIgdHJhbnNmb3JtPSJ0cmFuc2xhdGUoLTEyMzUuMDAwMDAwLCAtNzkuMDAwMDAwKSI+CiAgICAgICAgICAgIDxnIGlkPSJHcm91cC0zIiB0cmFuc2Zvcm09InRyYW5zbGF0ZSgxMjM1LjAwMDAwMCwgNzkuMDAwMDAwKSI+CiAgICAgICAgICAgICAgICA8cG9seWdvbiBpZD0iUGF0aC0yMCIgZmlsbD0iIzAyNjVCNCIgcG9pbnRzPSIyLjM3NjIzNzYyIDgwIDM4LjA0NzY2NjcgODAgNTcuODIxNzgyMiA3My44MDU3NTkyIDU3LjgyMTc4MjIgMzIuNzU5MjczOSAzOS4xNDAyMjc4IDMxLjY4MzE2ODMiPjwvcG9seWdvbj4KICAgICAgICAgICAgICAgIDxwYXRoIGQ9Ik0zNS4wMDc3MTgsODAgQzQyLjkwNjIwMDcsNzYuNDU0OTM1OCA0Ny41NjQ5MTY3LDcxLjU0MjI2NzEgNDguOTgzODY2LDY1LjI2MTk5MzkgQzUxLjExMjI4OTksNTUuODQxNTg0MiA0MS42NzcxNzk1LDQ5LjIxMjIyODQgMjUuNjIzOTg0Niw0OS4yMTIyMjg0IEMyNS40ODQ5Mjg5LDQ5LjEyNjg0NDggMjkuODI2MTI5Niw0My4yODM4MjQ4IDM4LjY0NzU4NjksMzEuNjgzMTY4MyBMNzIuODcxMjg3MSwzMi41NTQ0MjUgTDY1LjI4MDk3Myw2Ny42NzYzNDIxIEw1MS4xMTIyODk5LDc3LjM3NjE0NCBMMzUuMDA3NzE4LDgwIFoiIGlkPSJQYXRoLTIyIiBmaWxsPSIjMDAyODY4Ij48L3BhdGg+CiAgICAgICAgICAgICAgICA8cGF0aCBkPSJNMCwzNy43MzA0NDA1IEwyNy4xMTQ1MzcsMC4yNTcxMTE0MzYgQzYyLjM3MTUxMjMsLTEuOTkwNzE3MDEgODAsMTAuNTAwMzkyNyA4MCwzNy43MzA0NDA1IEM4MCw2NC45NjA0ODgyIDY0Ljc3NjUwMzgsNzkuMDUwMzQxNCAzNC4zMjk1MTEzLDgwIEM0Ny4wNTUzNDg5LDc3LjU2NzA4MDggNTMuNDE4MjY3Nyw3MC4zMTM2MTAzIDUzLjQxODI2NzcsNTguMjM5NTg4NSBDNTMuNDE4MjY3Nyw0MC4xMjg1NTU3IDM2LjMwMzk1NDQsMzcuNzMwNDQwNSAyNS4yMjc0MTcsMzcuNzMwNDQwNSBDMTcuODQzMDU4NiwzNy43MzA0NDA1IDkuNDMzOTE5NjYsMzcuNzMwNDQwNSAwLDM3LjczMDQ0MDUgWiIgaWQ9IlBhdGgtMTkiIGZpbGw9IiMzNzkzRUYiPjwvcGF0aD4KICAgICAgICAgICAgPC9nPgogICAgICAgIDwvZz4KICAgIDwvZz4KPC9zdmc+' > </img>\n",
    "Created in <span style='font-weight:600;margin-left:4px;'>Deepnote</span></a>"
   ]
  }
 ],
 "metadata": {
  "deepnote": {
   "is_reactive": false
  },
  "deepnote_execution_queue": [],
  "deepnote_notebook_id": "97afb67d-06ce-4a63-bb3d-208672377dae",
  "kernelspec": {
   "display_name": "Python 3 (ipykernel)",
   "language": "python",
   "name": "python3"
  },
  "language_info": {
   "codemirror_mode": {
    "name": "ipython",
    "version": 3
   },
   "file_extension": ".py",
   "mimetype": "text/x-python",
   "name": "python",
   "nbconvert_exporter": "python",
   "pygments_lexer": "ipython3",
   "version": "3.8.12"
  }
 },
 "nbformat": 4,
 "nbformat_minor": 4
}