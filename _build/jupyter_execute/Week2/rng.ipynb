{
 "cells": [
  {
   "cell_type": "markdown",
   "id": "3bdedaf2",
   "metadata": {},
   "source": [
    "# Random numbers in NumPy"
   ]
  },
  {
   "cell_type": "markdown",
   "id": "3efa36a6",
   "metadata": {},
   "source": [
    "## Random integers\n",
    "\n",
    "Here is the recommended way to make random integers in NumPy.  We first instantiate a \"random number generator\" that we call `rng`."
   ]
  },
  {
   "cell_type": "code",
   "execution_count": 1,
   "id": "fb2a1ada",
   "metadata": {},
   "outputs": [],
   "source": [
    "import numpy as np\n",
    "rng = np.random.default_rng()"
   ]
  },
  {
   "cell_type": "code",
   "execution_count": 2,
   "id": "e5d41429",
   "metadata": {},
   "outputs": [
    {
     "name": "stdout",
     "output_type": "stream",
     "text": [
      "Help on built-in function integers:\n",
      "\n",
      "integers(...) method of numpy.random._generator.Generator instance\n",
      "    integers(low, high=None, size=None, dtype=np.int64, endpoint=False)\n",
      "    \n",
      "    Return random integers from `low` (inclusive) to `high` (exclusive), or\n",
      "    if endpoint=True, `low` (inclusive) to `high` (inclusive). Replaces\n",
      "    `RandomState.randint` (with endpoint=False) and\n",
      "    `RandomState.random_integers` (with endpoint=True)\n",
      "    \n",
      "    Return random integers from the \"discrete uniform\" distribution of\n",
      "    the specified dtype. If `high` is None (the default), then results are\n",
      "    from 0 to `low`.\n",
      "    \n",
      "    Parameters\n",
      "    ----------\n",
      "    low : int or array-like of ints\n",
      "        Lowest (signed) integers to be drawn from the distribution (unless\n",
      "        ``high=None``, in which case this parameter is 0 and this value is\n",
      "        used for `high`).\n",
      "    high : int or array-like of ints, optional\n",
      "        If provided, one above the largest (signed) integer to be drawn\n",
      "        from the distribution (see above for behavior if ``high=None``).\n",
      "        If array-like, must contain integer values\n",
      "    size : int or tuple of ints, optional\n",
      "        Output shape.  If the given shape is, e.g., ``(m, n, k)``, then\n",
      "        ``m * n * k`` samples are drawn.  Default is None, in which case a\n",
      "        single value is returned.\n",
      "    dtype : dtype, optional\n",
      "        Desired dtype of the result. Byteorder must be native.\n",
      "        The default value is np.int64.\n",
      "    endpoint : bool, optional\n",
      "        If true, sample from the interval [low, high] instead of the\n",
      "        default [low, high)\n",
      "        Defaults to False\n",
      "    \n",
      "    Returns\n",
      "    -------\n",
      "    out : int or ndarray of ints\n",
      "        `size`-shaped array of random integers from the appropriate\n",
      "        distribution, or a single such random int if `size` not provided.\n",
      "    \n",
      "    Notes\n",
      "    -----\n",
      "    When using broadcasting with uint64 dtypes, the maximum value (2**64)\n",
      "    cannot be represented as a standard integer type. The high array (or\n",
      "    low if high is None) must have object dtype, e.g., array([2**64]).\n",
      "    \n",
      "    Examples\n",
      "    --------\n",
      "    >>> rng = np.random.default_rng()\n",
      "    >>> rng.integers(2, size=10)\n",
      "    array([1, 0, 0, 0, 1, 1, 0, 0, 1, 0])  # random\n",
      "    >>> rng.integers(1, size=10)\n",
      "    array([0, 0, 0, 0, 0, 0, 0, 0, 0, 0])\n",
      "    \n",
      "    Generate a 2 x 4 array of ints between 0 and 4, inclusive:\n",
      "    \n",
      "    >>> rng.integers(5, size=(2, 4))\n",
      "    array([[4, 0, 2, 1],\n",
      "           [3, 2, 2, 0]])  # random\n",
      "    \n",
      "    Generate a 1 x 3 array with 3 different upper bounds\n",
      "    \n",
      "    >>> rng.integers(1, [3, 5, 10])\n",
      "    array([2, 2, 9])  # random\n",
      "    \n",
      "    Generate a 1 by 3 array with 3 different lower bounds\n",
      "    \n",
      "    >>> rng.integers([1, 5, 7], 10)\n",
      "    array([9, 8, 7])  # random\n",
      "    \n",
      "    Generate a 2 by 4 array using broadcasting with dtype of uint8\n",
      "    \n",
      "    >>> rng.integers([1, 3, 5, 7], [[10], [20]], dtype=np.uint8)\n",
      "    array([[ 8,  6,  9,  7],\n",
      "           [ 1, 16,  9, 12]], dtype=uint8)  # random\n",
      "    \n",
      "    References\n",
      "    ----------\n",
      "    .. [1] Daniel Lemire., \"Fast Random Integer Generation in an Interval\",\n",
      "           ACM Transactions on Modeling and Computer Simulation 29 (1), 2019,\n",
      "           http://arxiv.org/abs/1805.10941.\n",
      "\n"
     ]
    }
   ],
   "source": [
    "help(rng.integers)"
   ]
  },
  {
   "cell_type": "markdown",
   "id": "b932fa0a",
   "metadata": {},
   "source": [
    "Making a 10x2 NumPy array of random integers between 1 (inclusive) and 5 (exclusive)."
   ]
  },
  {
   "cell_type": "code",
   "execution_count": 3,
   "id": "7fffd062",
   "metadata": {},
   "outputs": [
    {
     "data": {
      "text/plain": [
       "array([[1, 4],\n",
       "       [4, 2],\n",
       "       [2, 1],\n",
       "       [2, 4],\n",
       "       [3, 1],\n",
       "       [2, 2],\n",
       "       [1, 2],\n",
       "       [4, 1],\n",
       "       [4, 4],\n",
       "       [4, 1]])"
      ]
     },
     "execution_count": 3,
     "metadata": {},
     "output_type": "execute_result"
    }
   ],
   "source": [
    "rng.integers(1,5,size=(10,2))"
   ]
  },
  {
   "cell_type": "markdown",
   "id": "9adf7d2e",
   "metadata": {},
   "source": [
    "Here are two ways to include 5."
   ]
  },
  {
   "cell_type": "code",
   "execution_count": 4,
   "id": "affe3a4a",
   "metadata": {},
   "outputs": [
    {
     "data": {
      "text/plain": [
       "array([[1, 5],\n",
       "       [2, 3],\n",
       "       [2, 4],\n",
       "       [5, 5],\n",
       "       [2, 2],\n",
       "       [4, 2],\n",
       "       [1, 4],\n",
       "       [4, 2],\n",
       "       [1, 1],\n",
       "       [4, 2]])"
      ]
     },
     "execution_count": 4,
     "metadata": {},
     "output_type": "execute_result"
    }
   ],
   "source": [
    "rng.integers(1,6,size=(10,2))"
   ]
  },
  {
   "cell_type": "code",
   "execution_count": 5,
   "id": "ae8a361d",
   "metadata": {},
   "outputs": [
    {
     "data": {
      "text/plain": [
       "array([[4, 2],\n",
       "       [4, 5],\n",
       "       [1, 4],\n",
       "       [5, 3],\n",
       "       [3, 4],\n",
       "       [2, 2],\n",
       "       [2, 2],\n",
       "       [4, 5],\n",
       "       [4, 4],\n",
       "       [2, 2]])"
      ]
     },
     "execution_count": 5,
     "metadata": {},
     "output_type": "execute_result"
    }
   ],
   "source": [
    "rng.integers(1,5,size=(10,2),endpoint=True)"
   ]
  },
  {
   "cell_type": "markdown",
   "id": "352929f0",
   "metadata": {},
   "source": [
    "## Random real numbers\n",
    "\n",
    "If making random real numbers, the range is always between 0 and 1; there is no way to specify the upper and lower bounds as inputs to the function.  So to increase the range of outputs, you multiply, and to shift the range of outputs, you add."
   ]
  },
  {
   "cell_type": "code",
   "execution_count": 6,
   "id": "27c23623",
   "metadata": {},
   "outputs": [
    {
     "data": {
      "text/plain": [
       "array([[0.80134458, 0.99640117],\n",
       "       [0.85749254, 0.2708051 ],\n",
       "       [0.89570258, 0.07247259],\n",
       "       [0.57586932, 0.02725423],\n",
       "       [0.72336617, 0.14831277],\n",
       "       [0.97474321, 0.33677344],\n",
       "       [0.02454157, 0.75908029],\n",
       "       [0.19539268, 0.57847429],\n",
       "       [0.4489261 , 0.54827182],\n",
       "       [0.86845109, 0.18691298]])"
      ]
     },
     "execution_count": 6,
     "metadata": {},
     "output_type": "execute_result"
    }
   ],
   "source": [
    "rng.random(size=(10,2))"
   ]
  },
  {
   "cell_type": "markdown",
   "id": "c42a3162",
   "metadata": {},
   "source": [
    "Random real numbers between 0 and 30:"
   ]
  },
  {
   "cell_type": "code",
   "execution_count": 7,
   "id": "b33501c3",
   "metadata": {},
   "outputs": [
    {
     "data": {
      "text/plain": [
       "array([[ 2.76976422,  5.69854339],\n",
       "       [ 3.98745051,  9.12122506],\n",
       "       [ 6.33166223,  9.34835658],\n",
       "       [16.75918019, 12.0920213 ],\n",
       "       [21.61374081, 14.18795008],\n",
       "       [28.99225637,  9.01313128],\n",
       "       [27.99941972, 27.98573676],\n",
       "       [ 4.70563762,  8.0592845 ],\n",
       "       [24.46489305, 27.16596474],\n",
       "       [22.64248123, 11.61230701]])"
      ]
     },
     "execution_count": 7,
     "metadata": {},
     "output_type": "execute_result"
    }
   ],
   "source": [
    "30*rng.random(size=(10,2))"
   ]
  },
  {
   "cell_type": "markdown",
   "id": "5e9221d6",
   "metadata": {},
   "source": [
    "Random real numbers between 5 and 35:"
   ]
  },
  {
   "cell_type": "code",
   "execution_count": 8,
   "id": "653f8b47",
   "metadata": {},
   "outputs": [
    {
     "data": {
      "text/plain": [
       "array([[14.47396729, 26.44411472],\n",
       "       [ 9.10239787,  7.25839204],\n",
       "       [31.24764063, 32.6178989 ],\n",
       "       [16.06201993, 19.05997337],\n",
       "       [14.98403114, 20.70614716],\n",
       "       [28.93956636, 29.7784064 ],\n",
       "       [26.16701256,  9.34524409],\n",
       "       [14.33832551, 15.19518886],\n",
       "       [19.14548091, 20.43675888],\n",
       "       [13.47944194,  5.48535503]])"
      ]
     },
     "execution_count": 8,
     "metadata": {},
     "output_type": "execute_result"
    }
   ],
   "source": [
    "5 + 30*rng.random(size=(10,2))"
   ]
  }
 ],
 "metadata": {
  "kernelspec": {
   "display_name": "Python 3 (ipykernel)",
   "language": "python",
   "name": "python3"
  },
  "language_info": {
   "codemirror_mode": {
    "name": "ipython",
    "version": 3
   },
   "file_extension": ".py",
   "mimetype": "text/x-python",
   "name": "python",
   "nbconvert_exporter": "python",
   "pygments_lexer": "ipython3",
   "version": "3.9.9"
  }
 },
 "nbformat": 4,
 "nbformat_minor": 5
}