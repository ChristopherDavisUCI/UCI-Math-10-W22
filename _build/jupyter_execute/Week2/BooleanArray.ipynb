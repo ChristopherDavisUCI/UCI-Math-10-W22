{
 "cells": [
  {
   "cell_type": "markdown",
   "id": "c486743b",
   "metadata": {},
   "source": [
    "# Boolean arrays in NumPy\n",
    "\n",
    "A Boolean array by itself is not very interesting; it's just a NumPy array whose entries are either `True` or `False`."
   ]
  },
  {
   "cell_type": "code",
   "execution_count": 1,
   "id": "6942deb0",
   "metadata": {},
   "outputs": [],
   "source": [
    "import numpy as np"
   ]
  },
  {
   "cell_type": "code",
   "execution_count": 2,
   "id": "4f51231f",
   "metadata": {},
   "outputs": [
    {
     "data": {
      "text/plain": [
       "array([ True,  True, False,  True])"
      ]
     },
     "execution_count": 2,
     "metadata": {},
     "output_type": "execute_result"
    }
   ],
   "source": [
    "bool_arr = np.array([True,True,False,True])\n",
    "bool_arr"
   ]
  },
  {
   "cell_type": "markdown",
   "id": "d4d65692",
   "metadata": {},
   "source": [
    "The reason Boolean arrays are important is that they are often produced by other operations."
   ]
  },
  {
   "cell_type": "code",
   "execution_count": 3,
   "id": "5b714da1",
   "metadata": {},
   "outputs": [
    {
     "data": {
      "text/plain": [
       "array([ True,  True, False,  True])"
      ]
     },
     "execution_count": 3,
     "metadata": {},
     "output_type": "execute_result"
    }
   ],
   "source": [
    "arr = np.array([3,1,4,1])\n",
    "arr < 3.5"
   ]
  },
  {
   "cell_type": "markdown",
   "id": "370205f5",
   "metadata": {},
   "source": [
    "The number of `True`s in a Boolean array can be counted very efficiently using `np.count_nonzero`.  Reminders:\n",
    "* s means seconds;\n",
    "* ms means milliseconds, $10^{-3}$;\n",
    "* µs means microseconds, $10^{-6}$;\n",
    "* ns means nanoseconds, $10^{-9}$."
   ]
  },
  {
   "cell_type": "markdown",
   "id": "eb19f33b",
   "metadata": {},
   "source": [
    "From a small example, it might seem like the NumPy method is slower:"
   ]
  },
  {
   "cell_type": "code",
   "execution_count": 4,
   "id": "f8952ec1",
   "metadata": {},
   "outputs": [],
   "source": [
    "my_list = [3,1,4,3,5]\n",
    "my_array = np.array(my_list)"
   ]
  },
  {
   "cell_type": "code",
   "execution_count": 5,
   "id": "f82ef39b",
   "metadata": {},
   "outputs": [
    {
     "data": {
      "text/plain": [
       "2"
      ]
     },
     "execution_count": 5,
     "metadata": {},
     "output_type": "execute_result"
    }
   ],
   "source": [
    "my_list.count(3)"
   ]
  },
  {
   "cell_type": "code",
   "execution_count": 6,
   "id": "018ced4f",
   "metadata": {},
   "outputs": [
    {
     "name": "stdout",
     "output_type": "stream",
     "text": [
      "75.9 ns ± 0.305 ns per loop (mean ± std. dev. of 7 runs, 10000000 loops each)\n"
     ]
    }
   ],
   "source": [
    "%%timeit\n",
    "my_list.count(3)"
   ]
  },
  {
   "cell_type": "code",
   "execution_count": 7,
   "id": "09ca28ae",
   "metadata": {},
   "outputs": [
    {
     "data": {
      "text/plain": [
       "2"
      ]
     },
     "execution_count": 7,
     "metadata": {},
     "output_type": "execute_result"
    }
   ],
   "source": [
    "np.count_nonzero(my_array==3)"
   ]
  },
  {
   "cell_type": "code",
   "execution_count": 8,
   "id": "6ea12804",
   "metadata": {},
   "outputs": [
    {
     "name": "stdout",
     "output_type": "stream",
     "text": [
      "1.55 µs ± 7.77 ns per loop (mean ± std. dev. of 7 runs, 1000000 loops each)\n"
     ]
    }
   ],
   "source": [
    "%%timeit\n",
    "np.count_nonzero(my_array==3)"
   ]
  },
  {
   "cell_type": "markdown",
   "id": "8add0a01",
   "metadata": {},
   "source": [
    "But for a longer example, it will be clear that the NumPy method is faster.  In this example, our array and list have length ten million."
   ]
  },
  {
   "cell_type": "code",
   "execution_count": 9,
   "id": "53eb62b6",
   "metadata": {},
   "outputs": [],
   "source": [
    "rng = np.random.default_rng()\n",
    "my_array = rng.integers(1,6,size=10**7)\n",
    "my_list = list(my_array)"
   ]
  },
  {
   "cell_type": "code",
   "execution_count": 10,
   "id": "b05777a0",
   "metadata": {},
   "outputs": [
    {
     "data": {
      "text/plain": [
       "2000793"
      ]
     },
     "execution_count": 10,
     "metadata": {},
     "output_type": "execute_result"
    }
   ],
   "source": [
    "my_list.count(3)"
   ]
  },
  {
   "cell_type": "code",
   "execution_count": 11,
   "id": "8ff14ca2",
   "metadata": {},
   "outputs": [
    {
     "data": {
      "text/plain": [
       "2000793"
      ]
     },
     "execution_count": 11,
     "metadata": {},
     "output_type": "execute_result"
    }
   ],
   "source": [
    "np.count_nonzero(my_array==3)"
   ]
  },
  {
   "cell_type": "code",
   "execution_count": 12,
   "id": "07a7db48",
   "metadata": {},
   "outputs": [
    {
     "name": "stdout",
     "output_type": "stream",
     "text": [
      "985 ms ± 5.81 ms per loop (mean ± std. dev. of 7 runs, 1 loop each)\n"
     ]
    }
   ],
   "source": [
    "%%timeit\n",
    "my_list.count(3)"
   ]
  },
  {
   "cell_type": "code",
   "execution_count": 13,
   "id": "1c724074",
   "metadata": {},
   "outputs": [
    {
     "name": "stdout",
     "output_type": "stream",
     "text": [
      "3.04 ms ± 9.1 µs per loop (mean ± std. dev. of 7 runs, 100 loops each)\n"
     ]
    }
   ],
   "source": [
    "%%timeit\n",
    "np.count_nonzero(my_array==3)"
   ]
  }
 ],
 "metadata": {
  "kernelspec": {
   "display_name": "Python 3 (ipykernel)",
   "language": "python",
   "name": "python3"
  },
  "language_info": {
   "codemirror_mode": {
    "name": "ipython",
    "version": 3
   },
   "file_extension": ".py",
   "mimetype": "text/x-python",
   "name": "python",
   "nbconvert_exporter": "python",
   "pygments_lexer": "ipython3",
   "version": "3.9.9"
  }
 },
 "nbformat": 4,
 "nbformat_minor": 5
}