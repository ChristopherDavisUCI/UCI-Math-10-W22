{
 "cells": [
  {
   "cell_type": "markdown",
   "metadata": {
    "cell_id": "00000-f6ab52f0-8f5f-4f75-9f8f-40ca9fa2c7ba",
    "deepnote_cell_type": "markdown",
    "tags": []
   },
   "source": [
    "# Quiz 1 Practice Exercises\n",
    "\n",
    "These questions relate to the [learning objectives](https://canvas.eee.uci.edu/courses/42645/pages/learning-objectives?module_item_id=1612181) for the Quiz 1 (which is scheduled for Thursday of Week 2).\n",
    "\n",
    "For each of these topics, we state the learning objective and then give one or more practice exercises."
   ]
  },
  {
   "cell_type": "markdown",
   "metadata": {
    "cell_id": "00001-57f91924-e7ee-4b83-84d9-907cda1c02ed",
    "deepnote_cell_type": "markdown",
    "tags": []
   },
   "source": [
    "## Documentation\n",
    "\n",
    "* Extract basic information from Python documentation (such as the result of using help)."
   ]
  },
  {
   "cell_type": "markdown",
   "metadata": {
    "cell_id": "00002-a7657f3c-c648-4a1b-861e-dc3477c08bff",
    "deepnote_cell_type": "markdown",
    "tags": []
   },
   "source": [
    "### Exercise: \n",
    "Use NumPy's `arange` (look it up using `help`) function to create the NumPy array\n",
    "```\n",
    "array([3. , 3.5, 4. , 4.5, 5. , 5.5, 6. , 6.5, 7. , 7.5])\n",
    "```\n",
    "\n",
    "What goes wrong if you try to make the list version using Python's built-in `range` function?"
   ]
  },
  {
   "cell_type": "markdown",
   "metadata": {
    "cell_id": "00002-b8e0593f-a310-4fe0-851d-216f38aa1c4e",
    "deepnote_cell_type": "markdown",
    "tags": []
   },
   "source": [
    "## Errors\n",
    "\n",
    "* Extract basic information from a Python error message."
   ]
  },
  {
   "cell_type": "markdown",
   "metadata": {
    "cell_id": "00002-12163206-bfd5-4d55-87ab-a68bc7fa7fa5",
    "deepnote_cell_type": "markdown",
    "tags": []
   },
   "source": [
    "### Exercise:\n",
    "\n",
    "There is a function called `zeros` built into NumPy.  The documentation for this function shows the following:\n",
    "```\n",
    "Help on built-in function zeros in module numpy:\n",
    "\n",
    "zeros(...)\n",
    "    zeros(shape, dtype=float, order='C')\n",
    "    \n",
    "    Return a new array of given shape and type, filled with zeros.\n",
    "    \n",
    "    Parameters\n",
    "    ----------\n",
    "    shape : int or tuple of ints\n",
    "        Shape of the new array, e.g., ``(2, 3)`` or ``2``.\n",
    "    dtype : data-type, optional\n",
    "        The desired data-type for the array, e.g., `numpy.int8`.  Default is\n",
    "        `numpy.float64`.\n",
    "    order : {'C', 'F'}, optional, default: 'C'\n",
    "        Whether to store multi-dimensional data in row-major\n",
    "        (C-style) or column-major (Fortran-style) order in\n",
    "        memory.\n",
    "```"
   ]
  },
  {
   "cell_type": "markdown",
   "metadata": {
    "cell_id": "00003-19167fd7-d584-4f15-9074-8ac09a1d6f5b",
    "deepnote_cell_type": "markdown",
    "tags": []
   },
   "source": [
    "If we evaluate `np.zeros(3,5)`, we get the following error:\n",
    "```\n",
    "---------------------------------------------------------------------------\n",
    "TypeError                                 Traceback (most recent call last)\n",
    "<ipython-input-3-25c3f14ba1b8> in <module>\n",
    "----> 1 np.zeros(3,5)\n",
    "\n",
    "TypeError: Cannot interpret '5' as a data type\n",
    "```"
   ]
  },
  {
   "cell_type": "markdown",
   "metadata": {
    "cell_id": "00004-bd5f1144-9cae-4048-9e21-b2744a0f3f1d",
    "deepnote_cell_type": "markdown",
    "deepnote_to_be_reexecuted": false,
    "execution_start": 1641661369211,
    "source_hash": "cd13a36c",
    "tags": []
   },
   "source": [
    "* The user was trying to make a 3-by-5 array of zeros.  Do you see what the user did wrong?\n",
    "* How should the code be corrected?"
   ]
  },
  {
   "cell_type": "markdown",
   "metadata": {
    "cell_id": "00003-6fe98602-f2f9-45fb-bab7-0db7e70e7ed3",
    "deepnote_cell_type": "markdown",
    "tags": []
   },
   "source": [
    "## Data types\n",
    "\n",
    "* Choose from among list, tuple, range, set, NumPy array, depending on which is an appropriate data type for a particular task."
   ]
  },
  {
   "cell_type": "markdown",
   "metadata": {
    "cell_id": "00008-ef142692-c165-46ed-bfb3-70186c68e20f",
    "deepnote_cell_type": "markdown",
    "tags": []
   },
   "source": [
    "### Exercise:\n",
    "\n",
    "For each pair of data types, give an advantage/disadvantage between them."
   ]
  },
  {
   "cell_type": "markdown",
   "metadata": {
    "cell_id": "00004-a8a56034-f290-43d4-bbb1-933686b40199",
    "deepnote_cell_type": "markdown",
    "tags": []
   },
   "source": [
    "## Convert\n",
    "\n",
    "* Convert between different data-types using syntax like `np.array(my_tuple)`."
   ]
  },
  {
   "cell_type": "markdown",
   "metadata": {
    "cell_id": "00010-ee22ca67-998d-4351-a8ed-08a6ab78da71",
    "deepnote_cell_type": "markdown",
    "tags": []
   },
   "source": [
    "### Exercise:\n",
    "\n",
    "What is the difference between the following?  Give a specific example, and explain how the results are different. `str(list(x))` vs `list(str(x))`.  Is it possible for these two to produce the same output?"
   ]
  },
  {
   "cell_type": "markdown",
   "metadata": {
    "cell_id": "00005-f9c0a509-c557-432f-90ec-2a122dc02a54",
    "deepnote_cell_type": "markdown",
    "tags": []
   },
   "source": [
    "## Replace for loops\n",
    "\n",
    "* Replace code written with a for-loop with code using list comprehension."
   ]
  },
  {
   "cell_type": "markdown",
   "metadata": {
    "cell_id": "00012-76f8b981-edbc-4297-ac14-af278b76656d",
    "deepnote_cell_type": "markdown",
    "tags": []
   },
   "source": [
    "### Exercise:\n",
    "\n",
    "Rewrite the following using list comprehension.  (What is an example of a value of `my_list` for which this code makes sense?)"
   ]
  },
  {
   "cell_type": "code",
   "execution_count": null,
   "metadata": {
    "cell_id": "00013-58241b84-786a-4e27-91c5-5f4720db7711",
    "deepnote_cell_type": "code",
    "deepnote_to_be_reexecuted": false,
    "execution_millis": 2,
    "execution_start": 1641663014979,
    "output_cleared": true,
    "source_hash": "103f0b16",
    "tags": []
   },
   "outputs": [],
   "source": [
    "new_list = []\n",
    "for x in my_list:\n",
    "    if len(x) > 2:\n",
    "        new_list.append(x)"
   ]
  },
  {
   "cell_type": "markdown",
   "metadata": {
    "cell_id": "00014-2e9c796b-13b5-4957-9fc8-f8090a557992",
    "deepnote_cell_type": "markdown",
    "tags": []
   },
   "source": [
    "Do the same thing for the following."
   ]
  },
  {
   "cell_type": "code",
   "execution_count": null,
   "metadata": {
    "cell_id": "00013-ca5a4cf1-e7ed-4bb0-9bbf-60700612fcad",
    "deepnote_cell_type": "code",
    "tags": []
   },
   "outputs": [],
   "source": [
    "new_list = []\n",
    "for x in my_list:\n",
    "    if len(x) > 2:\n",
    "        new_list.append(x)\n",
    "    else:\n",
    "        new_list.append(0)"
   ]
  },
  {
   "cell_type": "markdown",
   "metadata": {
    "cell_id": "00016-36685078-8eec-417b-9285-cb942cc9cc89",
    "deepnote_cell_type": "markdown",
    "tags": []
   },
   "source": [
    "Do the same for the following.  Use `my_list[:5]` to refer to the first 5 elements in `my_list`."
   ]
  },
  {
   "cell_type": "code",
   "execution_count": null,
   "metadata": {
    "cell_id": "00017-a2155c9b-c4ab-4869-866d-f90e294ec03d",
    "deepnote_cell_type": "code",
    "deepnote_to_be_reexecuted": false,
    "execution_millis": 4,
    "execution_start": 1641663466841,
    "output_cleared": true,
    "source_hash": "920b45ed",
    "tags": []
   },
   "outputs": [],
   "source": [
    "new_list = []\n",
    "for i in range(5):\n",
    "    new_list.append(my_list[i]**2)"
   ]
  },
  {
   "cell_type": "markdown",
   "metadata": {
    "cell_id": "00006-a578eaac-8851-48f3-9232-9728cbfe380d",
    "deepnote_cell_type": "markdown",
    "tags": []
   },
   "source": [
    "## Random\n",
    "\n",
    "* Generate random numbers (real numbers or integers) in NumPy using `default_rng()`.\n",
    "\n",
    "[Relevant section in the course notes](https://christopherdavisuci.github.io/UCI-Math-10-W22/Week2/rng.html)"
   ]
  },
  {
   "cell_type": "markdown",
   "metadata": {
    "cell_id": "00017-417c46cb-edcd-4b23-8a12-36b2bb0c330b",
    "deepnote_cell_type": "markdown",
    "tags": []
   },
   "source": [
    "### Exercise:\n",
    "\n",
    "Using NumPy's `default_rng()` and the method `random`, make a length 10 NumPy array of random real numbers (not integers) uniformly distributed between 1 and 4.  (To get full credit, you must use these items, and you must make the array in an efficient manner, not for example using a for loop or even a list comprehension.)"
   ]
  },
  {
   "cell_type": "markdown",
   "metadata": {
    "cell_id": "00007-f05b3487-2646-4cc9-868e-4cccfd17d351",
    "deepnote_cell_type": "markdown",
    "tags": []
   },
   "source": [
    "## list comprehension sublist\n",
    "\n",
    "* Find elements in a list or NumPy array which satisfy a given condition using list comprehension.\t\n"
   ]
  },
  {
   "cell_type": "markdown",
   "metadata": {
    "cell_id": "00019-7db2978e-16cb-47e6-b5c2-5696be67091d",
    "deepnote_cell_type": "markdown",
    "tags": []
   },
   "source": [
    "### Exercise:\n",
    "\n",
    "For your random array made above, using list comprehension, get the sublist of elements which `round` to 3.  (There is probably a better way to do this using NumPy methods, but the point of this is to practice with list comprehension.  We haven't discussed the `round` function which is a built-in function Python.  You can look up its documentation or just try it out!)"
   ]
  },
  {
   "cell_type": "markdown",
   "metadata": {
    "cell_id": "00008-60dcaca3-31f0-4f78-8ef8-6db87a633b47",
    "deepnote_cell_type": "markdown",
    "tags": []
   },
   "source": [
    "## Defining a function\n",
    "\n",
    "* Write code defining a function"
   ]
  },
  {
   "cell_type": "markdown",
   "metadata": {
    "cell_id": "00023-4c173e03-97ba-4235-8cb5-a482ee2387e6",
    "deepnote_cell_type": "markdown",
    "tags": []
   },
   "source": [
    "### Exercise:\n",
    "\n",
    "Write code which takes as input a list `my_list` and as output returns:\n",
    "* the word *yes* if the length of `my_list` is strictly bigger than 3;\n",
    "* the word *no* if the length of `my_list` is less than or equal to 3;\n",
    "* the phrase *not a list* if `my_list` is not a list.\n",
    "**Hints**.  Make sure that you are returning values, not printing values.  Use `isinstance` to check if `my_list` is a list, like from discussion section on Thursday."
   ]
  },
  {
   "cell_type": "markdown",
   "metadata": {
    "cell_id": "00009-ed5e6d08-e06b-4754-8686-7b0f7a49212d",
    "deepnote_cell_type": "markdown",
    "tags": []
   },
   "source": [
    "## Counting in a NumPy array\n",
    "\n",
    "* Count elements in a NumPy array satisfying a given condition using a Boolean array and `np.count_nonzero`.\n",
    "\n",
    "[Relevant section in the course notes](https://christopherdavisuci.github.io/UCI-Math-10-W22/Week2/BooleanArray.html)"
   ]
  },
  {
   "cell_type": "markdown",
   "metadata": {
    "cell_id": "00025-5ac427ae-b082-468f-8dd1-e3797b3f4d57",
    "deepnote_cell_type": "markdown",
    "tags": []
   },
   "source": [
    "### Exercise:\n",
    "\n",
    "For the random NumPy array you made above, count how many of its elements are strictly bigger than 3.  Use the following strategy: first convert into a Boolean array which is `True` where the elements are strictly bigger than 3, and then use `np.count_nonzero`."
   ]
  },
  {
   "cell_type": "markdown",
   "metadata": {
    "cell_id": "00010-a527e0ed-3639-42a9-84dc-be4be311e053",
    "deepnote_cell_type": "markdown",
    "tags": []
   },
   "source": [
    "## Random simulation\n",
    "\n",
    "* Estimate a probability using a random simulation and the formula successes/experiments."
   ]
  },
  {
   "cell_type": "markdown",
   "metadata": {
    "cell_id": "00027-ae9fb2c6-320f-4aec-9a89-9d77a1f9b30d",
    "deepnote_cell_type": "markdown",
    "tags": []
   },
   "source": [
    "### Exercise:\n",
    "\n",
    "Using a random simulation and NumPy, estimate the following: if you choose a random real number between 1 and 4, what is the probability that the number is strictly bigger than 3?  (Of course we could instead find this probability exactly.  Use enough \"experiments\" that your probability estimate is accurate to at least 3 digits.)"
   ]
  },
  {
   "cell_type": "markdown",
   "metadata": {
    "created_in_deepnote_cell": true,
    "deepnote_cell_type": "markdown",
    "tags": []
   },
   "source": [
    "<a style='text-decoration:none;line-height:16px;display:flex;color:#5B5B62;padding:10px;justify-content:end;' href='https://deepnote.com?utm_source=created-in-deepnote-cell&projectId=a56b40ff-804d-4506-baf3-b9c9f18df909' target=\"_blank\">\n",
    "<img alt='Created in deepnote.com' style='display:inline;max-height:16px;margin:0px;margin-right:7.5px;' src='data:image/svg+xml;base64,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' > </img>\n",
    "Created in <span style='font-weight:600;margin-left:4px;'>Deepnote</span></a>"
   ]
  }
 ],
 "metadata": {
  "deepnote": {
   "is_reactive": false
  },
  "deepnote_execution_queue": [],
  "deepnote_notebook_id": "71e6c78f-55fe-45c0-a75c-2c5c93b8c82e",
  "kernelspec": {
   "display_name": "Python 3 (ipykernel)",
   "language": "python",
   "name": "python3"
  },
  "language_info": {
   "codemirror_mode": {
    "name": "ipython",
    "version": 3
   },
   "file_extension": ".py",
   "mimetype": "text/x-python",
   "name": "python",
   "nbconvert_exporter": "python",
   "pygments_lexer": "ipython3",
   "version": "3.9.9"
  }
 },
 "nbformat": 4,
 "nbformat_minor": 4
}