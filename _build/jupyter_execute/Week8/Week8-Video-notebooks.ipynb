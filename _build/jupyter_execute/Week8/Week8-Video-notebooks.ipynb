{
 "cells": [
  {
   "cell_type": "markdown",
   "metadata": {
    "cell_id": "5c855f28-ce38-4df2-b4cb-58e24c6bcc8b",
    "deepnote_cell_type": "markdown",
    "tags": []
   },
   "source": [
    "# Week 8 Video notebooks"
   ]
  },
  {
   "cell_type": "code",
   "execution_count": null,
   "metadata": {
    "cell_id": "74bf1174-6047-4a8a-9ca4-bb128b14839c",
    "deepnote_cell_type": "code",
    "deepnote_to_be_reexecuted": false,
    "execution_millis": 4,
    "execution_start": 1644968158257,
    "source_hash": "aaa7822b",
    "tags": []
   },
   "outputs": [],
   "source": [
    "import numpy as np\n",
    "import torch\n",
    "from torch import nn\n",
    "from torchvision.transforms import ToTensor"
   ]
  },
  {
   "cell_type": "markdown",
   "metadata": {
    "cell_id": "c4c9b9b7-9fdd-4af7-a90a-e65b99680c44",
    "deepnote_cell_type": "markdown",
    "tags": []
   },
   "source": [
    "## A little neural network\n",
    "\n",
    "![Screenshare1](../images/Week8-ipad1.jpg)"
   ]
  },
  {
   "cell_type": "markdown",
   "metadata": {
    "cell_id": "2d85b966-b29b-4e00-b5a0-392115b5e749",
    "deepnote_cell_type": "markdown",
    "tags": []
   },
   "source": [
    "## Neural network for logical or"
   ]
  },
  {
   "cell_type": "code",
   "execution_count": null,
   "metadata": {
    "cell_id": "8b1be2b3-3cb0-435d-a3a6-69158258cc2f",
    "deepnote_cell_type": "code",
    "deepnote_to_be_reexecuted": false,
    "execution_millis": 0,
    "execution_start": 1644969299973,
    "source_hash": "9d191a80",
    "tags": []
   },
   "outputs": [],
   "source": [
    "X = torch.tensor([[0,0],[0,1],[1,0],[1,1]]).to(torch.float)\n",
    "y = torch.tensor([0,1,1,1]).to(torch.float).reshape(-1,1)"
   ]
  },
  {
   "cell_type": "code",
   "execution_count": null,
   "metadata": {
    "cell_id": "01c1249a-b7f8-4ec8-9f9f-7ef69807061a",
    "deepnote_cell_type": "code",
    "deepnote_to_be_reexecuted": false,
    "execution_millis": 0,
    "execution_start": 1644968630637,
    "source_hash": "33d863b7",
    "tags": []
   },
   "outputs": [],
   "source": [
    "class LogicOr(nn.Module):\n",
    "    def __init__(self):\n",
    "        super().__init__()\n",
    "        self.layers = nn.Sequential(\n",
    "            nn.Linear(2,1),\n",
    "            nn.Sigmoid()\n",
    "        )\n",
    "\n",
    "    def forward(self,x):\n",
    "        return self.layers(x)\n",
    "    "
   ]
  },
  {
   "cell_type": "code",
   "execution_count": null,
   "metadata": {
    "cell_id": "21cd842b-41be-4809-b7f6-783d7637a2fe",
    "deepnote_cell_type": "code",
    "deepnote_to_be_reexecuted": false,
    "execution_millis": 3,
    "execution_start": 1644968634355,
    "source_hash": "2b0613f4",
    "tags": []
   },
   "outputs": [],
   "source": [
    "model = LogicOr()"
   ]
  },
  {
   "cell_type": "code",
   "execution_count": null,
   "metadata": {
    "cell_id": "c3e6768e-941b-41d2-9c2a-8be1da673844",
    "deepnote_cell_type": "code",
    "deepnote_output_heights": [
     78.78125
    ],
    "deepnote_to_be_reexecuted": false,
    "execution_millis": 168,
    "execution_start": 1644968645304,
    "source_hash": "c38c1e75",
    "tags": []
   },
   "outputs": [
    {
     "data": {
      "text/plain": [
       "tensor([[0.4466],\n",
       "        [0.4217],\n",
       "        [0.5070],\n",
       "        [0.4816]], grad_fn=<SigmoidBackward0>)"
      ]
     },
     "execution_count": 33,
     "metadata": {},
     "output_type": "execute_result"
    }
   ],
   "source": [
    "model(X)"
   ]
  },
  {
   "cell_type": "code",
   "execution_count": null,
   "metadata": {
    "cell_id": "834405d7-2af3-400e-9691-84765e07adc4",
    "deepnote_cell_type": "code",
    "deepnote_to_be_reexecuted": false,
    "execution_millis": 6,
    "execution_start": 1644968671208,
    "source_hash": "37e1d2f6",
    "tags": []
   },
   "outputs": [
    {
     "name": "stdout",
     "output_type": "stream",
     "text": [
      "Parameter containing:\n",
      "tensor([[ 0.2424, -0.1016]], requires_grad=True)\n",
      "Parameter containing:\n",
      "tensor([-0.2143], requires_grad=True)\n"
     ]
    }
   ],
   "source": [
    "for p in model.parameters():\n",
    "    print(p)"
   ]
  },
  {
   "cell_type": "markdown",
   "metadata": {
    "cell_id": "8fad4e7d-eb32-463f-8e1e-ceac0c6d9cf5",
    "deepnote_cell_type": "markdown",
    "tags": []
   },
   "source": [
    "## Evaluating our neural network"
   ]
  },
  {
   "cell_type": "code",
   "execution_count": null,
   "metadata": {
    "cell_id": "2f44c910-21a9-4e99-940f-b9c5ef70ab28",
    "deepnote_cell_type": "code",
    "deepnote_to_be_reexecuted": false,
    "execution_millis": 2,
    "execution_start": 1644969222213,
    "source_hash": "7d63c4c4",
    "tags": []
   },
   "outputs": [],
   "source": [
    "loss_fn = nn.BCELoss()"
   ]
  },
  {
   "cell_type": "code",
   "execution_count": null,
   "metadata": {
    "cell_id": "25ae4952-6448-4d0b-bb79-51f49010f66e",
    "deepnote_cell_type": "code",
    "deepnote_output_heights": [
     21.1875
    ],
    "deepnote_to_be_reexecuted": false,
    "execution_millis": 7,
    "execution_start": 1644969306452,
    "source_hash": "57b8ea20",
    "tags": []
   },
   "outputs": [
    {
     "data": {
      "text/plain": [
       "torch.Size([4, 1])"
      ]
     },
     "execution_count": 42,
     "metadata": {},
     "output_type": "execute_result"
    }
   ],
   "source": [
    "y.shape"
   ]
  },
  {
   "cell_type": "code",
   "execution_count": null,
   "metadata": {
    "cell_id": "f7c83d83-0c62-4b4e-a2c9-daea1fd79a91",
    "deepnote_cell_type": "code",
    "deepnote_output_heights": [
     21.1875
    ],
    "deepnote_to_be_reexecuted": false,
    "execution_millis": 10,
    "execution_start": 1644969312995,
    "source_hash": "792aba57",
    "tags": []
   },
   "outputs": [
    {
     "data": {
      "text/plain": [
       "tensor(0.7162, grad_fn=<BinaryCrossEntropyBackward0>)"
      ]
     },
     "execution_count": 43,
     "metadata": {},
     "output_type": "execute_result"
    }
   ],
   "source": [
    "loss_fn(model(X),y)"
   ]
  },
  {
   "cell_type": "markdown",
   "metadata": {
    "cell_id": "17d4d716-4a9d-4767-8b74-4e0999d06733",
    "deepnote_cell_type": "markdown",
    "tags": []
   },
   "source": [
    "## Optimizer"
   ]
  },
  {
   "cell_type": "code",
   "execution_count": null,
   "metadata": {
    "cell_id": "ba0f4523-e302-411a-8959-01aa3e373d6f",
    "deepnote_cell_type": "code",
    "deepnote_output_heights": [
     155.59375
    ],
    "deepnote_to_be_reexecuted": false,
    "execution_millis": 13,
    "execution_start": 1644969554983,
    "source_hash": "c2972089",
    "tags": []
   },
   "outputs": [],
   "source": [
    "optimizer = torch.optim.SGD(model.parameters(), lr=0.1)"
   ]
  },
  {
   "cell_type": "code",
   "execution_count": null,
   "metadata": {
    "cell_id": "6e81db50-f5ad-4d3c-9a75-a0037b9ada01",
    "deepnote_cell_type": "code",
    "deepnote_to_be_reexecuted": false,
    "execution_millis": 10,
    "execution_start": 1644969583063,
    "source_hash": "418181e6",
    "tags": []
   },
   "outputs": [
    {
     "name": "stdout",
     "output_type": "stream",
     "text": [
      "Parameter containing:\n",
      "tensor([[ 0.2424, -0.1016]], requires_grad=True)\n",
      "None\n",
      "\n",
      "Parameter containing:\n",
      "tensor([-0.2143], requires_grad=True)\n",
      "None\n",
      "\n"
     ]
    }
   ],
   "source": [
    "for p in model.parameters():\n",
    "    print(p)\n",
    "    print(p.grad)\n",
    "    print(\"\")"
   ]
  },
  {
   "cell_type": "code",
   "execution_count": null,
   "metadata": {
    "cell_id": "828bc4ae-650f-4889-be15-290644099100",
    "deepnote_cell_type": "code",
    "deepnote_to_be_reexecuted": false,
    "execution_millis": 1,
    "execution_start": 1644969626940,
    "source_hash": "2997554f",
    "tags": []
   },
   "outputs": [],
   "source": [
    "loss = loss_fn(model(X),y)"
   ]
  },
  {
   "cell_type": "code",
   "execution_count": null,
   "metadata": {
    "cell_id": "1bf4d5cf-6ea5-4297-b57f-438a75d2a21b",
    "deepnote_cell_type": "code",
    "deepnote_to_be_reexecuted": false,
    "execution_millis": 8,
    "execution_start": 1644969663962,
    "source_hash": "ff19e473",
    "tags": []
   },
   "outputs": [],
   "source": [
    "optimizer.zero_grad()\n",
    "loss.backward()"
   ]
  },
  {
   "cell_type": "code",
   "execution_count": null,
   "metadata": {
    "cell_id": "2a0b48e3-94c0-45bf-bf0d-8b55b8751649",
    "deepnote_cell_type": "code",
    "deepnote_to_be_reexecuted": false,
    "execution_millis": 3,
    "execution_start": 1644969685145,
    "source_hash": "418181e6",
    "tags": []
   },
   "outputs": [
    {
     "name": "stdout",
     "output_type": "stream",
     "text": [
      "Parameter containing:\n",
      "tensor([[ 0.2424, -0.1016]], requires_grad=True)\n",
      "tensor([[-0.2528, -0.2742]])\n",
      "\n",
      "Parameter containing:\n",
      "tensor([-0.2143], requires_grad=True)\n",
      "tensor([-0.2857])\n",
      "\n"
     ]
    }
   ],
   "source": [
    "for p in model.parameters():\n",
    "    print(p)\n",
    "    print(p.grad)\n",
    "    print(\"\")"
   ]
  },
  {
   "cell_type": "code",
   "execution_count": null,
   "metadata": {
    "cell_id": "4fded704-ec98-41bb-a2f3-eb077e72739f",
    "deepnote_cell_type": "code",
    "deepnote_to_be_reexecuted": false,
    "execution_millis": 1989,
    "execution_start": 1644969702952,
    "source_hash": "8a03d43",
    "tags": []
   },
   "outputs": [],
   "source": [
    "optimizer.step()"
   ]
  },
  {
   "cell_type": "code",
   "execution_count": null,
   "metadata": {
    "cell_id": "ea1846c7-dc01-40ee-bedd-471642333466",
    "deepnote_cell_type": "code",
    "deepnote_to_be_reexecuted": false,
    "execution_millis": 8,
    "execution_start": 1644969722307,
    "source_hash": "418181e6",
    "tags": []
   },
   "outputs": [
    {
     "name": "stdout",
     "output_type": "stream",
     "text": [
      "Parameter containing:\n",
      "tensor([[ 0.2677, -0.0741]], requires_grad=True)\n",
      "tensor([[-0.2528, -0.2742]])\n",
      "\n",
      "Parameter containing:\n",
      "tensor([-0.1857], requires_grad=True)\n",
      "tensor([-0.2857])\n",
      "\n"
     ]
    }
   ],
   "source": [
    "for p in model.parameters():\n",
    "    print(p)\n",
    "    print(p.grad)\n",
    "    print(\"\")"
   ]
  },
  {
   "cell_type": "markdown",
   "metadata": {
    "cell_id": "97109ce9-fb42-4727-a93c-35a758afdb7f",
    "deepnote_cell_type": "markdown",
    "tags": []
   },
   "source": [
    "## Training the model"
   ]
  },
  {
   "cell_type": "code",
   "execution_count": null,
   "metadata": {
    "cell_id": "44217d4b-eb23-4f34-9892-0130a2b4258f",
    "deepnote_cell_type": "code",
    "deepnote_output_heights": [
     21.1875
    ],
    "deepnote_to_be_reexecuted": false,
    "execution_millis": 5,
    "execution_start": 1644970100898,
    "source_hash": "fabc3f51",
    "tags": []
   },
   "outputs": [
    {
     "data": {
      "text/plain": [
       "0"
      ]
     },
     "execution_count": 54,
     "metadata": {},
     "output_type": "execute_result"
    }
   ],
   "source": [
    "100%50"
   ]
  },
  {
   "cell_type": "code",
   "execution_count": null,
   "metadata": {
    "cell_id": "e5f463da-f27a-43dd-ac45-8207611667cb",
    "deepnote_cell_type": "code",
    "deepnote_to_be_reexecuted": false,
    "execution_millis": 266,
    "execution_start": 1644970111352,
    "source_hash": "3bb4db40",
    "tags": []
   },
   "outputs": [
    {
     "name": "stdout",
     "output_type": "stream",
     "text": [
      "tensor(0.6946, grad_fn=<BinaryCrossEntropyBackward0>)\n",
      "tensor(0.3871, grad_fn=<BinaryCrossEntropyBackward0>)\n",
      "tensor(0.3277, grad_fn=<BinaryCrossEntropyBackward0>)\n",
      "tensor(0.2883, grad_fn=<BinaryCrossEntropyBackward0>)\n",
      "tensor(0.2573, grad_fn=<BinaryCrossEntropyBackward0>)\n",
      "tensor(0.2318, grad_fn=<BinaryCrossEntropyBackward0>)\n",
      "tensor(0.2107, grad_fn=<BinaryCrossEntropyBackward0>)\n",
      "tensor(0.1929, grad_fn=<BinaryCrossEntropyBackward0>)\n",
      "tensor(0.1777, grad_fn=<BinaryCrossEntropyBackward0>)\n",
      "tensor(0.1645, grad_fn=<BinaryCrossEntropyBackward0>)\n",
      "tensor(0.1531, grad_fn=<BinaryCrossEntropyBackward0>)\n",
      "tensor(0.1431, grad_fn=<BinaryCrossEntropyBackward0>)\n",
      "tensor(0.1342, grad_fn=<BinaryCrossEntropyBackward0>)\n",
      "tensor(0.1263, grad_fn=<BinaryCrossEntropyBackward0>)\n",
      "tensor(0.1192, grad_fn=<BinaryCrossEntropyBackward0>)\n",
      "tensor(0.1128, grad_fn=<BinaryCrossEntropyBackward0>)\n",
      "tensor(0.1071, grad_fn=<BinaryCrossEntropyBackward0>)\n",
      "tensor(0.1018, grad_fn=<BinaryCrossEntropyBackward0>)\n",
      "tensor(0.0971, grad_fn=<BinaryCrossEntropyBackward0>)\n",
      "tensor(0.0927, grad_fn=<BinaryCrossEntropyBackward0>)\n"
     ]
    }
   ],
   "source": [
    "epochs = 1000\n",
    "\n",
    "for i in range(epochs):\n",
    "    loss = loss_fn(model(X),y)\n",
    "    optimizer.zero_grad()\n",
    "    loss.backward()\n",
    "    optimizer.step()\n",
    "\n",
    "    if i%50 == 0:\n",
    "        print(loss)"
   ]
  },
  {
   "cell_type": "code",
   "execution_count": null,
   "metadata": {
    "cell_id": "9a2d4c47-a751-4d07-a897-b49ea9ceca53",
    "deepnote_cell_type": "code",
    "tags": []
   },
   "outputs": [],
   "source": [
    "epochs = 1000\n",
    "\n",
    "for i in range(epochs):\n",
    "    loss = loss_fn(model(X),y)\n",
    "    optimizer.zero_grad()\n",
    "    loss.backward()\n",
    "    optimizer.step()\n",
    "\n",
    "    if i%100 == 0:\n",
    "        print(loss)"
   ]
  },
  {
   "cell_type": "code",
   "execution_count": null,
   "metadata": {
    "cell_id": "860500ee-facb-4d95-a92a-301b2d3b8343",
    "deepnote_cell_type": "code",
    "deepnote_to_be_reexecuted": false,
    "execution_millis": 289,
    "execution_start": 1644970238417,
    "source_hash": "7a2c19a9",
    "tags": []
   },
   "outputs": [
    {
     "name": "stdout",
     "output_type": "stream",
     "text": [
      "tensor(0.0468, grad_fn=<BinaryCrossEntropyBackward0>)\n",
      "tensor(0.0446, grad_fn=<BinaryCrossEntropyBackward0>)\n",
      "tensor(0.0426, grad_fn=<BinaryCrossEntropyBackward0>)\n",
      "tensor(0.0408, grad_fn=<BinaryCrossEntropyBackward0>)\n",
      "tensor(0.0392, grad_fn=<BinaryCrossEntropyBackward0>)\n",
      "tensor(0.0376, grad_fn=<BinaryCrossEntropyBackward0>)\n",
      "tensor(0.0362, grad_fn=<BinaryCrossEntropyBackward0>)\n",
      "tensor(0.0349, grad_fn=<BinaryCrossEntropyBackward0>)\n",
      "tensor(0.0336, grad_fn=<BinaryCrossEntropyBackward0>)\n",
      "tensor(0.0325, grad_fn=<BinaryCrossEntropyBackward0>)\n"
     ]
    }
   ],
   "source": [
    "epochs = 1000\n",
    "\n",
    "for i in range(epochs):\n",
    "    loss = loss_fn(model(X),y)\n",
    "    optimizer.zero_grad()\n",
    "    loss.backward()\n",
    "    optimizer.step()\n",
    "\n",
    "    if i%100 == 0:\n",
    "        print(loss)"
   ]
  },
  {
   "cell_type": "code",
   "execution_count": null,
   "metadata": {
    "cell_id": "7b30549a-3a16-4fbf-9c64-850d9e3cfd92",
    "deepnote_cell_type": "code",
    "deepnote_to_be_reexecuted": false,
    "execution_millis": 190,
    "execution_start": 1644970242128,
    "source_hash": "418181e6",
    "tags": []
   },
   "outputs": [
    {
     "name": "stdout",
     "output_type": "stream",
     "text": [
      "Parameter containing:\n",
      "tensor([[6.1978, 6.1949]], requires_grad=True)\n",
      "tensor([[-0.0068, -0.0068]])\n",
      "\n",
      "Parameter containing:\n",
      "tensor([-2.6152], requires_grad=True)\n",
      "tensor([0.0035])\n",
      "\n"
     ]
    }
   ],
   "source": [
    "for p in model.parameters():\n",
    "    print(p)\n",
    "    print(p.grad)\n",
    "    print(\"\")"
   ]
  },
  {
   "cell_type": "code",
   "execution_count": null,
   "metadata": {
    "cell_id": "748c3ffe-af9a-431f-8dc9-cc6d87633c27",
    "deepnote_cell_type": "code",
    "deepnote_output_heights": [
     78.78125
    ],
    "deepnote_to_be_reexecuted": false,
    "execution_millis": 2,
    "execution_start": 1644970260113,
    "source_hash": "c38c1e75",
    "tags": []
   },
   "outputs": [
    {
     "data": {
      "text/plain": [
       "tensor([[0.0682],\n",
       "        [0.9729],\n",
       "        [0.9729],\n",
       "        [0.9999]], grad_fn=<SigmoidBackward0>)"
      ]
     },
     "execution_count": 61,
     "metadata": {},
     "output_type": "execute_result"
    }
   ],
   "source": [
    "model(X)"
   ]
  },
  {
   "cell_type": "markdown",
   "metadata": {
    "cell_id": "b336dc8b-d766-4eb7-99b4-3feeb3307a0b",
    "deepnote_cell_type": "markdown",
    "tags": []
   },
   "source": [
    "## A little neural network: results\n",
    "\n",
    "![screenshare2](../images/Week8-ipad2.jpg)"
   ]
  }
 ],
 "metadata": {
  "deepnote": {
   "is_reactive": false
  },
  "deepnote_execution_queue": [],
  "deepnote_notebook_id": "60865410-0011-4656-a09c-0230a1964f47",
  "kernelspec": {
   "display_name": "Python 3 (ipykernel)",
   "language": "python",
   "name": "python3"
  },
  "language_info": {
   "codemirror_mode": {
    "name": "ipython",
    "version": 3
   },
   "file_extension": ".py",
   "mimetype": "text/x-python",
   "name": "python",
   "nbconvert_exporter": "python",
   "pygments_lexer": "ipython3",
   "version": "3.9.9"
  }
 },
 "nbformat": 4,
 "nbformat_minor": 4
}