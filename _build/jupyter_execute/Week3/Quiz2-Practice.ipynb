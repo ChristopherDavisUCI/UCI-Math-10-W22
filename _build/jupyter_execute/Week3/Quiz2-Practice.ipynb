{
 "cells": [
  {
   "cell_type": "markdown",
   "metadata": {
    "cell_id": "00000-f6ab52f0-8f5f-4f75-9f8f-40ca9fa2c7ba",
    "deepnote_cell_type": "markdown",
    "tags": []
   },
   "source": [
    "# Quiz 2 Practice Exercises\n",
    "\n",
    "These questions relate to the [learning objectives](https://canvas.eee.uci.edu/courses/42645/pages/learning-objectives?module_item_id=1612181) for Quiz 2.\n",
    "\n",
    "For each of these topics, we state the learning objective and then give one or more practice exercises."
   ]
  },
  {
   "cell_type": "markdown",
   "metadata": {
    "cell_id": "00001-57f91924-e7ee-4b83-84d9-907cda1c02ed",
    "deepnote_cell_type": "markdown",
    "tags": []
   },
   "source": [
    "## loc and iloc\n",
    "\n",
    "* Access entries (and assign values to entries) within pandas using loc, iloc."
   ]
  },
  {
   "cell_type": "markdown",
   "metadata": {
    "cell_id": "00002-a7657f3c-c648-4a1b-861e-dc3477c08bff",
    "deepnote_cell_type": "markdown",
    "tags": []
   },
   "source": [
    "### Exercise: \n",
    "\n",
    "Define a DataFrame `df` using the following code.  (Make sure to put all of these commands in the same cell.)\n",
    "\n",
    "```\n",
    "import numpy as np\n",
    "import pandas as pd\n",
    "rng = np.random.default_rng(seed=30)\n",
    "A = rng.integers(-1,10,size=(10,5))\n",
    "df = pd.DataFrame(A,columns=list(\"abcde\"))\n",
    "```"
   ]
  },
  {
   "cell_type": "markdown",
   "execution_count": null,
   "metadata": {
    "cell_id": "493670ff-47c2-480c-96be-22b6d54d151c",
    "deepnote_cell_type": "markdown",
    "tags": []
   },
   "outputs": [],
   "source": [
    "Write code to replace all the even-indexed (like 0, 2, 4, ...) entries in the `b` column with NumPy's *not a number*, `nan`."
   ]
  },
  {
   "cell_type": "markdown",
   "metadata": {
    "cell_id": "a90f6063-e07b-44a6-838e-4a9d61de22bc",
    "deepnote_cell_type": "markdown",
    "tags": []
   },
   "source": [
    "## Distribution of data\n",
    "\n",
    "* Use the describe, info, and value_counts functions in pandas to learn about the distribution of data within a DataFrame or Series."
   ]
  },
  {
   "cell_type": "markdown",
   "execution_count": 9,
   "metadata": {
    "cell_id": "d663ac96-b7c3-4137-a0cb-45299dda1c9a",
    "deepnote_cell_type": "markdown",
    "deepnote_output_heights": [
     155.5
    ],
    "deepnote_to_be_reexecuted": false,
    "execution_millis": 37,
    "execution_start": 1642358601995,
    "source_hash": "f88152d9",
    "tags": []
   },
   "outputs": [],
   "source": [
    "### Exercise\n",
    "\n",
    "Which column in the above DataFrame has the smallest mean value?  (Can you answer this question two different ways, first using one of the methods `describe`, `info`, or `value_counts`, and second using the `mean` method together with an `axis` argument?)"
   ]
  },
  {
   "cell_type": "markdown",
   "execution_count": null,
   "metadata": {
    "cell_id": "1632442c-c0b2-4057-ae97-2fb4210ef5a8",
    "deepnote_cell_type": "markdown",
    "tags": []
   },
   "outputs": [],
   "source": [
    "## Count occurrences\n",
    "\n",
    "* Count occurrences in rows or columns in a NumPy array or pandas DataFrame using sum and axis."
   ]
  },
  {
   "cell_type": "markdown",
   "execution_count": null,
   "metadata": {
    "cell_id": "ecb13960-b37e-442c-a012-df7b543884e2",
    "deepnote_cell_type": "markdown",
    "tags": []
   },
   "outputs": [],
   "source": [
    "### Exercise\n",
    "\n",
    "How often does 5 occur in each row?"
   ]
  },
  {
   "cell_type": "markdown",
   "execution_count": null,
   "metadata": {
    "cell_id": "2bb9ec7b-3d28-45cd-a9bb-521a1cb1d685",
    "deepnote_cell_type": "markdown",
    "tags": []
   },
   "outputs": [],
   "source": [
    "## Select rows\n",
    "\n",
    "* Select the rows in a pandas DataFrame where a certain condition is True, possibly using some combination of any, all, and axis."
   ]
  },
  {
   "cell_type": "markdown",
   "metadata": {
    "cell_id": "42f63296-5fb6-456c-8766-c4f90d7597c8",
    "deepnote_cell_type": "markdown",
    "tags": []
   },
   "source": [
    "### Exercise\n",
    "\n",
    "Create a new pandas DataFrame using the below code.  (Be sure to run all of this code, especially the `rng` part, even if you already created a random number generator above.)\n",
    "\n",
    "```\n",
    "import numpy as np\n",
    "import pandas as pd\n",
    "rng = np.random.default_rng(seed=10)\n",
    "A = 10*rng.random(size=(10**4,3))\n",
    "df = pd.DataFrame(A,columns=[\"x\",\"y\",\"z\"])\n",
    "```"
   ]
  },
  {
   "cell_type": "markdown",
   "execution_count": null,
   "metadata": {
    "cell_id": "210e8e38-468f-468b-a607-a6251fa7f223",
    "deepnote_cell_type": "markdown",
    "tags": []
   },
   "outputs": [],
   "source": [
    "Create a new DataFrame `df2` consisting of only the rows of `df` where the `x`-value is strictly greater than the `y`-value.  What is the maximum in the `y` column of `df2`?  Enter your answer correct to two decimal places."
   ]
  },
  {
   "cell_type": "markdown",
   "execution_count": null,
   "metadata": {
    "cell_id": "ebd9976b-e10a-4d28-b4c0-27350b028bb9",
    "deepnote_cell_type": "markdown",
    "tags": []
   },
   "outputs": [],
   "source": [
    "## Count rows\n",
    "\n",
    "* Count the number of rows in a pandas DataFrame satisfying a condition."
   ]
  },
  {
   "cell_type": "markdown",
   "metadata": {
    "cell_id": "45cfc6c5-79a2-4ba4-966f-b98197657256",
    "deepnote_cell_type": "markdown",
    "tags": []
   },
   "source": [
    "### Exercise\n",
    "\n",
    "For the DataFrame `df2` that you created above, in how many rows is the `y`-value strictly greater than the `z`-value?  If you pick a random row from `df2`, what is the probability that its `y`-value is strictly greater than its `z`-value?"
   ]
  },
  {
   "cell_type": "markdown",
   "metadata": {
    "cell_id": "6b2166bf-398e-4770-9288-188ffd649014",
    "deepnote_cell_type": "markdown",
    "tags": []
   },
   "source": [
    "## Missing values\n",
    "\n",
    "* Locate the missing values within a pandas DataFrame."
   ]
  },
  {
   "cell_type": "markdown",
   "metadata": {
    "cell_id": "e03bfe59-7cba-4545-9420-f0dd22f0b1d8",
    "deepnote_cell_type": "markdown",
    "tags": []
   },
   "source": [
    "### Exercise\n",
    "\n",
    "Write a function which takes as input a pandas DataFrame, and as output returns the sub-DataFrame with all rows removed which contained a null value.  Possible approach: use the `isna` method and logical negation."
   ]
  },
  {
   "cell_type": "markdown",
   "metadata": {
    "cell_id": "389fec4e-e485-4111-9c9d-a42bd7459763",
    "deepnote_cell_type": "markdown",
    "tags": []
   },
   "source": [
    "## Data types\n",
    "\n",
    "* Identify the different data types present within a pandas DataFrame."
   ]
  },
  {
   "cell_type": "markdown",
   "metadata": {
    "cell_id": "f694ccc5-5269-4e4f-8056-c36f3e35ee4c",
    "deepnote_cell_type": "markdown",
    "tags": []
   },
   "source": [
    "### Exercise\n",
    "\n",
    "Read in the cars dataset using `read_csv`.  What are the different datatypes present?  What does `object` represent?  If you look at the `Horsepower` column, all the values seem to be integers, yet pandas represents the data type as `float64`.  Do you have a guess why that is?  (Hint.  It's not that there is secretly some fractional horsepower somewhere in it.  It relates to the previous learning objective.)"
   ]
  },
  {
   "cell_type": "markdown",
   "execution_count": null,
   "metadata": {
    "cell_id": "0d5acf29-70f0-408d-98cf-3497b9f279e1",
    "deepnote_cell_type": "markdown",
    "tags": []
   },
   "outputs": [],
   "source": [
    "## Logic\n",
    "\n",
    "* Find content satisfying conditions using logical statements (`not`, `and`, `or`) in Python and in pandas/NumPy (`~`, `&`, `|`)."
   ]
  },
  {
   "cell_type": "markdown",
   "metadata": {
    "cell_id": "2a0ed58f-a9f3-4856-bc60-78a4bf09c8da",
    "deepnote_cell_type": "markdown",
    "tags": []
   },
   "source": [
    "### Exercise\n",
    "\n",
    "What is the average weight of cars in the dataset that are from Europe or Japan?  (Your answer should be a single number.)"
   ]
  },
  {
   "cell_type": "markdown",
   "metadata": {
    "created_in_deepnote_cell": true,
    "deepnote_cell_type": "markdown",
    "tags": []
   },
   "source": [
    "<a style='text-decoration:none;line-height:16px;display:flex;color:#5B5B62;padding:10px;justify-content:end;' href='https://deepnote.com?utm_source=created-in-deepnote-cell&projectId=49f11f28-f304-47f3-a40b-e0d3be20bd63' target=\"_blank\">\n",
    "<img alt='Created in deepnote.com' style='display:inline;max-height:16px;margin:0px;margin-right:7.5px;' src='data:image/svg+xml;base64,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' > </img>\n",
    "Created in <span style='font-weight:600;margin-left:4px;'>Deepnote</span></a>"
   ]
  }
 ],
 "metadata": {
  "deepnote": {
   "is_reactive": false
  },
  "deepnote_execution_queue": [],
  "deepnote_notebook_id": "71e6c78f-55fe-45c0-a75c-2c5c93b8c82e",
  "language_info": {
   "codemirror_mode": {
    "name": "ipython",
    "version": 3
   },
   "file_extension": ".py",
   "mimetype": "text/x-python",
   "name": "python",
   "nbconvert_exporter": "python",
   "pygments_lexer": "ipython3",
   "version": "3.9.9"
  }
 },
 "nbformat": 4,
 "nbformat_minor": 2
}