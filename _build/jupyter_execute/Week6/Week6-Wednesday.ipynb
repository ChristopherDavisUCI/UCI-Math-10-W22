{
 "cells": [
  {
   "cell_type": "markdown",
   "metadata": {
    "cell_id": "bd95d068-8e9e-43f6-a533-5bd926ce2ead",
    "deepnote_cell_type": "markdown",
    "tags": []
   },
   "source": [
    "# K-Nearest Neighbors Regressor\n",
    "\n",
    "[YuJa recording](https://uci.yuja.com/V/Video?v=4348961&node=14654381&a=1301700135&autoplay=1)\n",
    "\n",
    "Before the recording, we introduced the K-Nearest Neighbors Classifier and the K-Nearest Neighbors Regressor.  We mentioned that larger K corresponds to smaller variance (so over-fitting is more likely to occur with smaller values of K).  We also discussed the training error curve and test error curve, like from the figures in Chapter 2 of *Introduction to Statistical Learning*."
   ]
  },
  {
   "cell_type": "code",
   "execution_count": 1,
   "metadata": {
    "cell_id": "54dd3d8a-8ded-4b22-a611-e0511993607e",
    "deepnote_cell_type": "code",
    "deepnote_to_be_reexecuted": false,
    "execution_millis": 25547,
    "execution_start": 1644423889409,
    "source_hash": "970b70e1",
    "tags": []
   },
   "outputs": [],
   "source": [
    "import numpy as np\n",
    "import pandas as pd\n",
    "import seaborn as sns\n",
    "import altair as alt\n",
    "from sklearn.neighbors import KNeighborsRegressor, KNeighborsClassifier\n",
    "from sklearn.model_selection import train_test_split\n",
    "from sklearn.metrics import mean_squared_error, mean_absolute_error"
   ]
  },
  {
   "cell_type": "code",
   "execution_count": 2,
   "metadata": {
    "cell_id": "ec6f2c94-53bd-4d2f-a0e4-a9fac9dce1ee",
    "deepnote_cell_type": "code",
    "deepnote_to_be_reexecuted": false,
    "execution_millis": 10,
    "execution_start": 1644424021388,
    "source_hash": "fd5e24a9",
    "tags": []
   },
   "outputs": [],
   "source": [
    "df = sns.load_dataset(\"penguins\")\n",
    "#df = df.dropna()\n",
    "df.dropna(inplace=True)"
   ]
  },
  {
   "cell_type": "code",
   "execution_count": 3,
   "metadata": {
    "cell_id": "e729e857-e300-4a1d-bd23-5289e46f27f1",
    "deepnote_cell_type": "code",
    "deepnote_to_be_reexecuted": false,
    "execution_millis": 19,
    "execution_start": 1644424063026,
    "source_hash": "de1e323c",
    "tags": []
   },
   "outputs": [
    {
     "name": "stdout",
     "output_type": "stream",
     "text": [
      "<class 'pandas.core.frame.DataFrame'>\n",
      "Int64Index: 333 entries, 0 to 343\n",
      "Data columns (total 7 columns):\n",
      " #   Column             Non-Null Count  Dtype  \n",
      "---  ------             --------------  -----  \n",
      " 0   species            333 non-null    object \n",
      " 1   island             333 non-null    object \n",
      " 2   bill_length_mm     333 non-null    float64\n",
      " 3   bill_depth_mm      333 non-null    float64\n",
      " 4   flipper_length_mm  333 non-null    float64\n",
      " 5   body_mass_g        333 non-null    float64\n",
      " 6   sex                333 non-null    object \n",
      "dtypes: float64(4), object(3)\n",
      "memory usage: 20.8+ KB\n"
     ]
    }
   ],
   "source": [
    "df.info()"
   ]
  },
  {
   "cell_type": "markdown",
   "metadata": {},
   "source": [
    "It would be better to rescale the data first (i.e., to normalize the data).  We'll talk about that soon but we're skipping it for now."
   ]
  },
  {
   "cell_type": "code",
   "execution_count": 4,
   "metadata": {
    "cell_id": "611d6deb-9246-4d29-857a-7ff9a36dfd9f",
    "deepnote_cell_type": "code",
    "deepnote_to_be_reexecuted": false,
    "execution_millis": 662,
    "execution_start": 1644424368678,
    "source_hash": "5e951575",
    "tags": []
   },
   "outputs": [],
   "source": [
    "X_train, X_test, y_train, y_test = train_test_split(\n",
    "    df[[\"bill_length_mm\",\"bill_depth_mm\",\"flipper_length_mm\"]], df[\"body_mass_g\"], test_size = 0.5)"
   ]
  },
  {
   "cell_type": "code",
   "execution_count": 5,
   "metadata": {
    "cell_id": "073a7115-f335-4c18-99b9-79b5f6566ccd",
    "deepnote_cell_type": "code",
    "deepnote_output_heights": [
     21
    ],
    "deepnote_to_be_reexecuted": false,
    "execution_millis": 24,
    "execution_start": 1644424383662,
    "source_hash": "38f368cd",
    "tags": []
   },
   "outputs": [
    {
     "data": {
      "text/plain": [
       "(166, 3)"
      ]
     },
     "execution_count": 5,
     "metadata": {},
     "output_type": "execute_result"
    }
   ],
   "source": [
    "X_train.shape"
   ]
  },
  {
   "cell_type": "markdown",
   "metadata": {},
   "source": [
    "The syntax for performing K-Nearest Neighbors regression using scikit-learn is essentially the same as the syntax for performing linear regression."
   ]
  },
  {
   "cell_type": "code",
   "execution_count": 6,
   "metadata": {
    "cell_id": "b9c258a2-8b0b-4916-87cb-0e3a4f7e2eb3",
    "deepnote_cell_type": "code",
    "deepnote_to_be_reexecuted": false,
    "execution_millis": 1,
    "execution_start": 1644424128499,
    "source_hash": "ba1bc8eb",
    "tags": []
   },
   "outputs": [],
   "source": [
    "reg = KNeighborsRegressor(n_neighbors=10)"
   ]
  },
  {
   "cell_type": "code",
   "execution_count": 7,
   "metadata": {
    "cell_id": "082659a7-df06-44da-a424-5f92eb865076",
    "deepnote_cell_type": "code",
    "deepnote_output_heights": [
     21
    ],
    "deepnote_to_be_reexecuted": false,
    "execution_millis": 16,
    "execution_start": 1644424523994,
    "source_hash": "d18187b5",
    "tags": []
   },
   "outputs": [
    {
     "data": {
      "text/plain": [
       "KNeighborsRegressor(n_neighbors=10)"
      ]
     },
     "execution_count": 7,
     "metadata": {},
     "output_type": "execute_result"
    }
   ],
   "source": [
    "reg.fit(X_train, y_train)"
   ]
  },
  {
   "cell_type": "code",
   "execution_count": 8,
   "metadata": {
    "cell_id": "1b7292c2-7421-42ce-b97c-de9dbf38da86",
    "deepnote_cell_type": "code",
    "deepnote_output_heights": [
     405
    ],
    "deepnote_to_be_reexecuted": false,
    "execution_millis": 2,
    "execution_start": 1644424524017,
    "source_hash": "6a021837",
    "tags": []
   },
   "outputs": [
    {
     "data": {
      "text/plain": [
       "array([4980. , 3792.5, 3600. , 5062.5, 3592.5, 4027.5, 4980. , 4012.5,\n",
       "       3792.5, 5522.5, 3607.5, 3380. , 5162.5, 3892.5, 5477.5, 5585. ,\n",
       "       5022.5, 5562.5, 3557.5, 3912.5, 3265. , 3462.5, 5067.5, 5422.5,\n",
       "       5092.5, 5585. , 3467.5, 4052.5, 3952.5, 3697.5, 3755. , 3647.5,\n",
       "       5492.5, 3395. , 5457.5, 4075. , 3590. , 3422.5, 3655. , 4520. ,\n",
       "       4935. , 4030. , 3222.5, 4490. , 3575. , 3455. , 3562.5, 5472.5,\n",
       "       4130. , 3825. , 5107.5, 4692.5, 3367.5, 5052.5, 4027.5, 3500. ,\n",
       "       3842.5, 4760. , 5585. , 4115. , 5512.5, 3522.5, 3667.5, 4052.5,\n",
       "       5625. , 4755. , 4062.5, 4030. , 4570. , 5207.5, 3225. , 3460. ,\n",
       "       3267.5, 3630. , 3305. , 3842.5, 5585. , 3515. , 4490. , 3447.5,\n",
       "       3600. , 5562.5, 3612.5, 3787.5, 4017.5, 3525. , 3727.5, 3630. ,\n",
       "       4705. , 4130. , 4112.5, 3480. , 4012.5, 3485. , 4992.5, 4057.5,\n",
       "       4857.5, 3232.5, 3675. , 3870. , 4042.5, 3635. , 3670. , 4957.5,\n",
       "       5427.5, 3912.5, 5235. , 4677.5, 4595. , 3780. , 5000. , 4130. ,\n",
       "       3725. , 3357.5, 3442.5, 5000. , 3705. , 4012.5, 3607.5, 3440. ,\n",
       "       5397.5, 3805. , 3467.5, 4080. , 3655. , 3367.5, 3625. , 3730. ,\n",
       "       4550. , 3652.5, 3812.5, 5017.5, 4115. , 4705. , 3582.5, 3710. ,\n",
       "       5557.5, 5305. , 5585. , 3522.5, 3607.5, 4010. , 4755. , 5585. ,\n",
       "       3892.5, 3575. , 3982.5, 5555. , 4475. , 3467.5, 3750. , 3562.5,\n",
       "       3862.5, 3892.5, 5147.5, 3707.5, 3675. , 4475. , 3672.5, 3720. ,\n",
       "       5625. , 5537.5, 3390. , 3655. , 3585. , 5297.5, 3805. ])"
      ]
     },
     "execution_count": 8,
     "metadata": {},
     "output_type": "execute_result"
    }
   ],
   "source": [
    "reg.predict(X_test)"
   ]
  },
  {
   "cell_type": "code",
   "execution_count": 9,
   "metadata": {
    "cell_id": "2af0b63d-fe4f-45fb-8104-38cd0d961721",
    "deepnote_cell_type": "code",
    "deepnote_output_heights": [
     21
    ],
    "deepnote_to_be_reexecuted": false,
    "execution_millis": 16,
    "execution_start": 1644424648802,
    "source_hash": "251bcee5",
    "tags": []
   },
   "outputs": [
    {
     "data": {
      "text/plain": [
       "(167, 3)"
      ]
     },
     "execution_count": 9,
     "metadata": {},
     "output_type": "execute_result"
    }
   ],
   "source": [
    "X_test.shape"
   ]
  },
  {
   "cell_type": "code",
   "execution_count": 10,
   "metadata": {
    "cell_id": "7a5c2c55-846e-423a-a473-16c57106ddb1",
    "deepnote_cell_type": "code",
    "deepnote_output_heights": [
     21
    ],
    "deepnote_to_be_reexecuted": false,
    "execution_millis": 30,
    "execution_start": 1644424658097,
    "source_hash": "f3019309",
    "tags": []
   },
   "outputs": [
    {
     "data": {
      "text/plain": [
       "282.6646706586826"
      ]
     },
     "execution_count": 10,
     "metadata": {},
     "output_type": "execute_result"
    }
   ],
   "source": [
    "mean_absolute_error(reg.predict(X_test), y_test)"
   ]
  },
  {
   "cell_type": "code",
   "execution_count": 11,
   "metadata": {
    "cell_id": "c3451935-f192-4e4e-ba38-0b6edac8e390",
    "deepnote_cell_type": "code",
    "deepnote_output_heights": [
     21
    ],
    "deepnote_to_be_reexecuted": false,
    "execution_millis": 271,
    "execution_start": 1644424707335,
    "source_hash": "abbbb7ce",
    "tags": []
   },
   "outputs": [
    {
     "data": {
      "text/plain": [
       "254.23192771084337"
      ]
     },
     "execution_count": 11,
     "metadata": {},
     "output_type": "execute_result"
    }
   ],
   "source": [
    "mean_absolute_error(reg.predict(X_train), y_train)"
   ]
  },
  {
   "cell_type": "markdown",
   "metadata": {},
   "source": [
    "The above numbers are similar, with `reg` performing just slightly better on the training data.  That suggests that for this training set, we are not overfitting the data when using K=10."
   ]
  },
  {
   "cell_type": "code",
   "execution_count": 12,
   "metadata": {
    "cell_id": "bb229005-cc38-471d-9bc0-97623b44cd40",
    "deepnote_cell_type": "code",
    "deepnote_to_be_reexecuted": false,
    "execution_millis": 1,
    "execution_start": 1644424905451,
    "source_hash": "1cf46215",
    "tags": []
   },
   "outputs": [],
   "source": [
    "def get_scores(k):\n",
    "    reg = KNeighborsRegressor(n_neighbors=k)\n",
    "    reg.fit(X_train, y_train)\n",
    "    train_error = mean_absolute_error(reg.predict(X_train), y_train)\n",
    "    test_error = mean_absolute_error(reg.predict(X_test), y_test)\n",
    "    return (train_error, test_error)"
   ]
  },
  {
   "cell_type": "code",
   "execution_count": 13,
   "metadata": {
    "cell_id": "1c52e947-f88f-4047-bf88-31774e92b34d",
    "deepnote_cell_type": "code",
    "deepnote_output_heights": [
     21
    ],
    "deepnote_to_be_reexecuted": false,
    "execution_millis": 26,
    "execution_start": 1644424906679,
    "source_hash": "99708d02",
    "tags": []
   },
   "outputs": [
    {
     "data": {
      "text/plain": [
       "(254.23192771084337, 282.6646706586826)"
      ]
     },
     "execution_count": 13,
     "metadata": {},
     "output_type": "execute_result"
    }
   ],
   "source": [
    "get_scores(10)"
   ]
  },
  {
   "cell_type": "code",
   "execution_count": 14,
   "metadata": {
    "cell_id": "859f4f49-bd56-4926-905b-b6967961f514",
    "deepnote_cell_type": "code",
    "deepnote_output_heights": [
     21
    ],
    "deepnote_to_be_reexecuted": false,
    "execution_millis": 21,
    "execution_start": 1644424907592,
    "source_hash": "698e82f2",
    "tags": []
   },
   "outputs": [
    {
     "data": {
      "text/plain": [
       "(0.0, 338.92215568862275)"
      ]
     },
     "execution_count": 14,
     "metadata": {},
     "output_type": "execute_result"
    }
   ],
   "source": [
    "get_scores(1)"
   ]
  },
  {
   "cell_type": "code",
   "execution_count": 15,
   "metadata": {
    "cell_id": "587af0d7-b8cd-4382-9705-bf6dc91d3ab0",
    "deepnote_cell_type": "code",
    "deepnote_to_be_reexecuted": false,
    "execution_millis": 5,
    "execution_start": 1644425035093,
    "source_hash": "95d406bb",
    "tags": []
   },
   "outputs": [],
   "source": [
    "df_scores = pd.DataFrame({\"k\":range(1,150),\"train_error\":np.nan,\"test_error\":np.nan})"
   ]
  },
  {
   "cell_type": "code",
   "execution_count": 16,
   "metadata": {
    "cell_id": "1e5056f2-bc69-4b56-9ebd-6b929d0c6914",
    "deepnote_cell_type": "code",
    "deepnote_to_be_reexecuted": false,
    "execution_millis": 43,
    "execution_start": 1644425036512,
    "source_hash": "7ddb3e1e",
    "tags": []
   },
   "outputs": [
    {
     "data": {
      "text/html": [
       "<div>\n",
       "<style scoped>\n",
       "    .dataframe tbody tr th:only-of-type {\n",
       "        vertical-align: middle;\n",
       "    }\n",
       "\n",
       "    .dataframe tbody tr th {\n",
       "        vertical-align: top;\n",
       "    }\n",
       "\n",
       "    .dataframe thead th {\n",
       "        text-align: right;\n",
       "    }\n",
       "</style>\n",
       "<table border=\"1\" class=\"dataframe\">\n",
       "  <thead>\n",
       "    <tr style=\"text-align: right;\">\n",
       "      <th></th>\n",
       "      <th>k</th>\n",
       "      <th>train_error</th>\n",
       "      <th>test_error</th>\n",
       "    </tr>\n",
       "  </thead>\n",
       "  <tbody>\n",
       "    <tr>\n",
       "      <th>0</th>\n",
       "      <td>1</td>\n",
       "      <td>NaN</td>\n",
       "      <td>NaN</td>\n",
       "    </tr>\n",
       "    <tr>\n",
       "      <th>1</th>\n",
       "      <td>2</td>\n",
       "      <td>NaN</td>\n",
       "      <td>NaN</td>\n",
       "    </tr>\n",
       "    <tr>\n",
       "      <th>2</th>\n",
       "      <td>3</td>\n",
       "      <td>NaN</td>\n",
       "      <td>NaN</td>\n",
       "    </tr>\n",
       "    <tr>\n",
       "      <th>3</th>\n",
       "      <td>4</td>\n",
       "      <td>NaN</td>\n",
       "      <td>NaN</td>\n",
       "    </tr>\n",
       "    <tr>\n",
       "      <th>4</th>\n",
       "      <td>5</td>\n",
       "      <td>NaN</td>\n",
       "      <td>NaN</td>\n",
       "    </tr>\n",
       "    <tr>\n",
       "      <th>...</th>\n",
       "      <td>...</td>\n",
       "      <td>...</td>\n",
       "      <td>...</td>\n",
       "    </tr>\n",
       "    <tr>\n",
       "      <th>144</th>\n",
       "      <td>145</td>\n",
       "      <td>NaN</td>\n",
       "      <td>NaN</td>\n",
       "    </tr>\n",
       "    <tr>\n",
       "      <th>145</th>\n",
       "      <td>146</td>\n",
       "      <td>NaN</td>\n",
       "      <td>NaN</td>\n",
       "    </tr>\n",
       "    <tr>\n",
       "      <th>146</th>\n",
       "      <td>147</td>\n",
       "      <td>NaN</td>\n",
       "      <td>NaN</td>\n",
       "    </tr>\n",
       "    <tr>\n",
       "      <th>147</th>\n",
       "      <td>148</td>\n",
       "      <td>NaN</td>\n",
       "      <td>NaN</td>\n",
       "    </tr>\n",
       "    <tr>\n",
       "      <th>148</th>\n",
       "      <td>149</td>\n",
       "      <td>NaN</td>\n",
       "      <td>NaN</td>\n",
       "    </tr>\n",
       "  </tbody>\n",
       "</table>\n",
       "<p>149 rows × 3 columns</p>\n",
       "</div>"
      ],
      "text/plain": [
       "       k  train_error  test_error\n",
       "0      1          NaN         NaN\n",
       "1      2          NaN         NaN\n",
       "2      3          NaN         NaN\n",
       "3      4          NaN         NaN\n",
       "4      5          NaN         NaN\n",
       "..   ...          ...         ...\n",
       "144  145          NaN         NaN\n",
       "145  146          NaN         NaN\n",
       "146  147          NaN         NaN\n",
       "147  148          NaN         NaN\n",
       "148  149          NaN         NaN\n",
       "\n",
       "[149 rows x 3 columns]"
      ]
     },
     "execution_count": 16,
     "metadata": {},
     "output_type": "execute_result"
    }
   ],
   "source": [
    "df_scores"
   ]
  },
  {
   "cell_type": "code",
   "execution_count": 17,
   "metadata": {
    "cell_id": "09f31539-efb7-46f2-bc13-c00c6bfd8c6b",
    "deepnote_cell_type": "code",
    "deepnote_output_heights": [
     59.59375
    ],
    "deepnote_to_be_reexecuted": false,
    "execution_millis": 1,
    "execution_start": 1644425131876,
    "source_hash": "9bc8bb19",
    "tags": []
   },
   "outputs": [],
   "source": [
    "df_scores.loc[0,[\"train_error\",\"test_error\"]] = get_scores(1)"
   ]
  },
  {
   "cell_type": "code",
   "execution_count": 18,
   "metadata": {
    "cell_id": "3edfa3a2-f925-4703-b9f9-3a5cb6afaf95",
    "deepnote_cell_type": "code",
    "deepnote_to_be_reexecuted": false,
    "execution_millis": 11,
    "execution_start": 1644425139276,
    "source_hash": "f9244eee",
    "tags": []
   },
   "outputs": [
    {
     "data": {
      "text/html": [
       "<div>\n",
       "<style scoped>\n",
       "    .dataframe tbody tr th:only-of-type {\n",
       "        vertical-align: middle;\n",
       "    }\n",
       "\n",
       "    .dataframe tbody tr th {\n",
       "        vertical-align: top;\n",
       "    }\n",
       "\n",
       "    .dataframe thead th {\n",
       "        text-align: right;\n",
       "    }\n",
       "</style>\n",
       "<table border=\"1\" class=\"dataframe\">\n",
       "  <thead>\n",
       "    <tr style=\"text-align: right;\">\n",
       "      <th></th>\n",
       "      <th>k</th>\n",
       "      <th>train_error</th>\n",
       "      <th>test_error</th>\n",
       "    </tr>\n",
       "  </thead>\n",
       "  <tbody>\n",
       "    <tr>\n",
       "      <th>0</th>\n",
       "      <td>1</td>\n",
       "      <td>0.0</td>\n",
       "      <td>338.922156</td>\n",
       "    </tr>\n",
       "    <tr>\n",
       "      <th>1</th>\n",
       "      <td>2</td>\n",
       "      <td>NaN</td>\n",
       "      <td>NaN</td>\n",
       "    </tr>\n",
       "    <tr>\n",
       "      <th>2</th>\n",
       "      <td>3</td>\n",
       "      <td>NaN</td>\n",
       "      <td>NaN</td>\n",
       "    </tr>\n",
       "    <tr>\n",
       "      <th>3</th>\n",
       "      <td>4</td>\n",
       "      <td>NaN</td>\n",
       "      <td>NaN</td>\n",
       "    </tr>\n",
       "    <tr>\n",
       "      <th>4</th>\n",
       "      <td>5</td>\n",
       "      <td>NaN</td>\n",
       "      <td>NaN</td>\n",
       "    </tr>\n",
       "  </tbody>\n",
       "</table>\n",
       "</div>"
      ],
      "text/plain": [
       "   k  train_error  test_error\n",
       "0  1          0.0  338.922156\n",
       "1  2          NaN         NaN\n",
       "2  3          NaN         NaN\n",
       "3  4          NaN         NaN\n",
       "4  5          NaN         NaN"
      ]
     },
     "execution_count": 18,
     "metadata": {},
     "output_type": "execute_result"
    }
   ],
   "source": [
    "df_scores.head()"
   ]
  },
  {
   "cell_type": "markdown",
   "metadata": {},
   "source": [
    "We often avoid using `for` loops in Math 10, but I couldn't find a better way to fill in this data.  Let me know if you see a more Pythonic approach!"
   ]
  },
  {
   "cell_type": "code",
   "execution_count": 19,
   "metadata": {
    "cell_id": "37e4efbb-e3e5-45b1-991d-2e7895513e30",
    "deepnote_cell_type": "code",
    "deepnote_to_be_reexecuted": false,
    "execution_millis": 25986,
    "execution_start": 1644425221029,
    "source_hash": "1ea9f290",
    "tags": []
   },
   "outputs": [],
   "source": [
    "for i in df_scores.index:\n",
    "    df_scores.loc[i,[\"train_error\",\"test_error\"]] = get_scores(df_scores.loc[i,\"k\"])"
   ]
  },
  {
   "cell_type": "code",
   "execution_count": 20,
   "metadata": {
    "cell_id": "de0c7969-550b-45f3-b20a-2c8300920046",
    "deepnote_cell_type": "code",
    "deepnote_to_be_reexecuted": false,
    "execution_millis": 51,
    "execution_start": 1644425256254,
    "source_hash": "7ddb3e1e",
    "tags": []
   },
   "outputs": [
    {
     "data": {
      "text/html": [
       "<div>\n",
       "<style scoped>\n",
       "    .dataframe tbody tr th:only-of-type {\n",
       "        vertical-align: middle;\n",
       "    }\n",
       "\n",
       "    .dataframe tbody tr th {\n",
       "        vertical-align: top;\n",
       "    }\n",
       "\n",
       "    .dataframe thead th {\n",
       "        text-align: right;\n",
       "    }\n",
       "</style>\n",
       "<table border=\"1\" class=\"dataframe\">\n",
       "  <thead>\n",
       "    <tr style=\"text-align: right;\">\n",
       "      <th></th>\n",
       "      <th>k</th>\n",
       "      <th>train_error</th>\n",
       "      <th>test_error</th>\n",
       "    </tr>\n",
       "  </thead>\n",
       "  <tbody>\n",
       "    <tr>\n",
       "      <th>0</th>\n",
       "      <td>1</td>\n",
       "      <td>0.000000</td>\n",
       "      <td>338.922156</td>\n",
       "    </tr>\n",
       "    <tr>\n",
       "      <th>1</th>\n",
       "      <td>2</td>\n",
       "      <td>189.533133</td>\n",
       "      <td>290.943114</td>\n",
       "    </tr>\n",
       "    <tr>\n",
       "      <th>2</th>\n",
       "      <td>3</td>\n",
       "      <td>209.236948</td>\n",
       "      <td>284.780439</td>\n",
       "    </tr>\n",
       "    <tr>\n",
       "      <th>3</th>\n",
       "      <td>4</td>\n",
       "      <td>225.828313</td>\n",
       "      <td>280.688623</td>\n",
       "    </tr>\n",
       "    <tr>\n",
       "      <th>4</th>\n",
       "      <td>5</td>\n",
       "      <td>240.993976</td>\n",
       "      <td>281.976048</td>\n",
       "    </tr>\n",
       "    <tr>\n",
       "      <th>...</th>\n",
       "      <td>...</td>\n",
       "      <td>...</td>\n",
       "      <td>...</td>\n",
       "    </tr>\n",
       "    <tr>\n",
       "      <th>144</th>\n",
       "      <td>145</td>\n",
       "      <td>599.882634</td>\n",
       "      <td>547.684287</td>\n",
       "    </tr>\n",
       "    <tr>\n",
       "      <th>145</th>\n",
       "      <td>146</td>\n",
       "      <td>605.592920</td>\n",
       "      <td>552.209622</td>\n",
       "    </tr>\n",
       "    <tr>\n",
       "      <th>146</th>\n",
       "      <td>147</td>\n",
       "      <td>609.482829</td>\n",
       "      <td>556.251782</td>\n",
       "    </tr>\n",
       "    <tr>\n",
       "      <th>147</th>\n",
       "      <td>148</td>\n",
       "      <td>613.268276</td>\n",
       "      <td>559.163093</td>\n",
       "    </tr>\n",
       "    <tr>\n",
       "      <th>148</th>\n",
       "      <td>149</td>\n",
       "      <td>616.836136</td>\n",
       "      <td>562.464333</td>\n",
       "    </tr>\n",
       "  </tbody>\n",
       "</table>\n",
       "<p>149 rows × 3 columns</p>\n",
       "</div>"
      ],
      "text/plain": [
       "       k  train_error  test_error\n",
       "0      1     0.000000  338.922156\n",
       "1      2   189.533133  290.943114\n",
       "2      3   209.236948  284.780439\n",
       "3      4   225.828313  280.688623\n",
       "4      5   240.993976  281.976048\n",
       "..   ...          ...         ...\n",
       "144  145   599.882634  547.684287\n",
       "145  146   605.592920  552.209622\n",
       "146  147   609.482829  556.251782\n",
       "147  148   613.268276  559.163093\n",
       "148  149   616.836136  562.464333\n",
       "\n",
       "[149 rows x 3 columns]"
      ]
     },
     "execution_count": 20,
     "metadata": {},
     "output_type": "execute_result"
    }
   ],
   "source": [
    "df_scores"
   ]
  },
  {
   "cell_type": "markdown",
   "metadata": {},
   "source": [
    "Usually when we plot a test error curve, we want higher flexibility (= higher variance) on the right.  Since higher values of K correspond to lower flexibility, we are going to add a column to the DataFrame containing the reciprocals of the K values."
   ]
  },
  {
   "cell_type": "code",
   "execution_count": 21,
   "metadata": {
    "cell_id": "9e01f214-81fd-47a9-a4ed-fd737b7ad566",
    "deepnote_cell_type": "code",
    "deepnote_to_be_reexecuted": false,
    "execution_millis": 10,
    "execution_start": 1644425294964,
    "source_hash": "6d7b0128",
    "tags": []
   },
   "outputs": [],
   "source": [
    "df_scores[\"kinv\"] = 1/df_scores.k"
   ]
  },
  {
   "cell_type": "code",
   "execution_count": 22,
   "metadata": {
    "cell_id": "4afe0ca2-5dbf-4b87-a99e-0fa1730884b6",
    "deepnote_cell_type": "code",
    "deepnote_output_heights": [
     356
    ],
    "deepnote_to_be_reexecuted": false,
    "execution_millis": 13,
    "execution_start": 1644425338598,
    "source_hash": "f9178bd6",
    "tags": []
   },
   "outputs": [],
   "source": [
    "ctrain = alt.Chart(df_scores).mark_line().encode(\n",
    "    x = \"kinv\",\n",
    "    y = \"train_error\"\n",
    ")"
   ]
  },
  {
   "cell_type": "code",
   "execution_count": 23,
   "metadata": {
    "cell_id": "214ee1b2-2bcc-40c7-8e53-0c66bdcb3ba8",
    "deepnote_cell_type": "code",
    "deepnote_to_be_reexecuted": false,
    "execution_millis": 6,
    "execution_start": 1644425359637,
    "source_hash": "ceab4c59",
    "tags": []
   },
   "outputs": [],
   "source": [
    "ctest = alt.Chart(df_scores).mark_line(color=\"orange\").encode(\n",
    "    x = \"kinv\",\n",
    "    y = \"test_error\"\n",
    ")"
   ]
  },
  {
   "cell_type": "markdown",
   "metadata": {},
   "source": [
    "The blue curve is the training error, while the orange curve is the test error.  Notice how underfitting occurs for very high values of K and notice how overfitting occurs for smaller values of K."
   ]
  },
  {
   "cell_type": "code",
   "execution_count": 24,
   "metadata": {
    "cell_id": "e35ccb04-769f-412e-aa37-324b4cfa5ecb",
    "deepnote_cell_type": "code",
    "deepnote_output_heights": [
     356
    ],
    "deepnote_to_be_reexecuted": false,
    "execution_millis": 63,
    "execution_start": 1644425372305,
    "source_hash": "1e9aad1a",
    "tags": []
   },
   "outputs": [
    {
     "data": {
      "text/html": [
       "\n",
       "<div id=\"altair-viz-9914d5ee743e4583a730a601123ef040\"></div>\n",
       "<script type=\"text/javascript\">\n",
       "  var VEGA_DEBUG = (typeof VEGA_DEBUG == \"undefined\") ? {} : VEGA_DEBUG;\n",
       "  (function(spec, embedOpt){\n",
       "    let outputDiv = document.currentScript.previousElementSibling;\n",
       "    if (outputDiv.id !== \"altair-viz-9914d5ee743e4583a730a601123ef040\") {\n",
       "      outputDiv = document.getElementById(\"altair-viz-9914d5ee743e4583a730a601123ef040\");\n",
       "    }\n",
       "    const paths = {\n",
       "      \"vega\": \"https://cdn.jsdelivr.net/npm//vega@5?noext\",\n",
       "      \"vega-lib\": \"https://cdn.jsdelivr.net/npm//vega-lib?noext\",\n",
       "      \"vega-lite\": \"https://cdn.jsdelivr.net/npm//vega-lite@4.17.0?noext\",\n",
       "      \"vega-embed\": \"https://cdn.jsdelivr.net/npm//vega-embed@6?noext\",\n",
       "    };\n",
       "\n",
       "    function maybeLoadScript(lib, version) {\n",
       "      var key = `${lib.replace(\"-\", \"\")}_version`;\n",
       "      return (VEGA_DEBUG[key] == version) ?\n",
       "        Promise.resolve(paths[lib]) :\n",
       "        new Promise(function(resolve, reject) {\n",
       "          var s = document.createElement('script');\n",
       "          document.getElementsByTagName(\"head\")[0].appendChild(s);\n",
       "          s.async = true;\n",
       "          s.onload = () => {\n",
       "            VEGA_DEBUG[key] = version;\n",
       "            return resolve(paths[lib]);\n",
       "          };\n",
       "          s.onerror = () => reject(`Error loading script: ${paths[lib]}`);\n",
       "          s.src = paths[lib];\n",
       "        });\n",
       "    }\n",
       "\n",
       "    function showError(err) {\n",
       "      outputDiv.innerHTML = `<div class=\"error\" style=\"color:red;\">${err}</div>`;\n",
       "      throw err;\n",
       "    }\n",
       "\n",
       "    function displayChart(vegaEmbed) {\n",
       "      vegaEmbed(outputDiv, spec, embedOpt)\n",
       "        .catch(err => showError(`Javascript Error: ${err.message}<br>This usually means there's a typo in your chart specification. See the javascript console for the full traceback.`));\n",
       "    }\n",
       "\n",
       "    if(typeof define === \"function\" && define.amd) {\n",
       "      requirejs.config({paths});\n",
       "      require([\"vega-embed\"], displayChart, err => showError(`Error loading script: ${err.message}`));\n",
       "    } else {\n",
       "      maybeLoadScript(\"vega\", \"5\")\n",
       "        .then(() => maybeLoadScript(\"vega-lite\", \"4.17.0\"))\n",
       "        .then(() => maybeLoadScript(\"vega-embed\", \"6\"))\n",
       "        .catch(showError)\n",
       "        .then(() => displayChart(vegaEmbed));\n",
       "    }\n",
       "  })({\"config\": {\"view\": {\"continuousWidth\": 400, \"continuousHeight\": 300}}, \"layer\": [{\"mark\": \"line\", \"encoding\": {\"x\": {\"field\": \"kinv\", \"type\": \"quantitative\"}, \"y\": {\"field\": \"train_error\", \"type\": \"quantitative\"}}}, {\"mark\": {\"type\": \"line\", \"color\": \"orange\"}, \"encoding\": {\"x\": {\"field\": \"kinv\", \"type\": \"quantitative\"}, \"y\": {\"field\": \"test_error\", \"type\": \"quantitative\"}}}], \"data\": {\"name\": \"data-d17110c5266ab954539043500915ba6d\"}, \"$schema\": \"https://vega.github.io/schema/vega-lite/v4.17.0.json\", \"datasets\": {\"data-d17110c5266ab954539043500915ba6d\": [{\"k\": 1, \"train_error\": 0.0, \"test_error\": 338.92215568862275, \"kinv\": 1.0}, {\"k\": 2, \"train_error\": 189.53313253012047, \"test_error\": 290.9431137724551, \"kinv\": 0.5}, {\"k\": 3, \"train_error\": 209.23694779116468, \"test_error\": 284.78043912175656, \"kinv\": 0.3333333333333333}, {\"k\": 4, \"train_error\": 225.82831325301206, \"test_error\": 280.688622754491, \"kinv\": 0.25}, {\"k\": 5, \"train_error\": 240.99397590361446, \"test_error\": 281.9760479041916, \"kinv\": 0.2}, {\"k\": 6, \"train_error\": 238.83032128514057, \"test_error\": 276.1976047904192, \"kinv\": 0.16666666666666666}, {\"k\": 7, \"train_error\": 240.64113597246129, \"test_error\": 275.49187339606505, \"kinv\": 0.14285714285714285}, {\"k\": 8, \"train_error\": 246.7620481927711, \"test_error\": 278.66766467065867, \"kinv\": 0.125}, {\"k\": 9, \"train_error\": 247.8246318607764, \"test_error\": 279.1749833666001, \"kinv\": 0.1111111111111111}, {\"k\": 10, \"train_error\": 254.23192771084337, \"test_error\": 282.6646706586826, \"kinv\": 0.1}, {\"k\": 11, \"train_error\": 261.78806133625415, \"test_error\": 285.8600979858465, \"kinv\": 0.09090909090909091}, {\"k\": 12, \"train_error\": 261.5085341365462, \"test_error\": 285.75349301397205, \"kinv\": 0.08333333333333333}, {\"k\": 13, \"train_error\": 262.58109360519006, \"test_error\": 289.61308152924914, \"kinv\": 0.07692307692307693}, {\"k\": 14, \"train_error\": 266.6092943201377, \"test_error\": 289.57442258340467, \"kinv\": 0.07142857142857142}, {\"k\": 15, \"train_error\": 269.82931726907634, \"test_error\": 293.562874251497, \"kinv\": 0.06666666666666667}, {\"k\": 16, \"train_error\": 266.6792168674699, \"test_error\": 294.7043413173653, \"kinv\": 0.0625}, {\"k\": 17, \"train_error\": 267.1420978029766, \"test_error\": 296.69778090877065, \"kinv\": 0.058823529411764705}, {\"k\": 18, \"train_error\": 270.78313253012044, \"test_error\": 297.9291417165668, \"kinv\": 0.05555555555555555}, {\"k\": 19, \"train_error\": 270.5532656943564, \"test_error\": 298.29814056098326, \"kinv\": 0.05263157894736842}, {\"k\": 20, \"train_error\": 268.3659638554217, \"test_error\": 297.5149700598802, \"kinv\": 0.05}, {\"k\": 21, \"train_error\": 273.0206540447504, \"test_error\": 300.42058739663526, \"kinv\": 0.047619047619047616}, {\"k\": 22, \"train_error\": 275.1779846659365, \"test_error\": 301.62629286880787, \"kinv\": 0.045454545454545456}, {\"k\": 23, \"train_error\": 276.3423258250393, \"test_error\": 301.4579536579016, \"kinv\": 0.043478260869565216}, {\"k\": 24, \"train_error\": 278.2756024096385, \"test_error\": 302.16442115768467, \"kinv\": 0.041666666666666664}, {\"k\": 25, \"train_error\": 280.9277108433735, \"test_error\": 303.78443113772454, \"kinv\": 0.04}, {\"k\": 26, \"train_error\": 284.7254402224282, \"test_error\": 305.95923537540307, \"kinv\": 0.038461538461538464}, {\"k\": 27, \"train_error\": 284.4991075412762, \"test_error\": 307.4074074074074, \"kinv\": 0.037037037037037035}, {\"k\": 28, \"train_error\": 286.5641135972461, \"test_error\": 310.40953806672366, \"kinv\": 0.03571428571428571}, {\"k\": 29, \"train_error\": 288.2218529289572, \"test_error\": 311.26884162709064, \"kinv\": 0.034482758620689655}, {\"k\": 30, \"train_error\": 290.90361445783134, \"test_error\": 314.5808383233533, \"kinv\": 0.03333333333333333}, {\"k\": 31, \"train_error\": 292.98970073843765, \"test_error\": 314.3567703303071, \"kinv\": 0.03225806451612903}, {\"k\": 32, \"train_error\": 294.67243975903614, \"test_error\": 315.44723053892216, \"kinv\": 0.03125}, {\"k\": 33, \"train_error\": 295.9930631617379, \"test_error\": 317.04772273634546, \"kinv\": 0.030303030303030304}, {\"k\": 34, \"train_error\": 296.6335931963146, \"test_error\": 315.08453680873544, \"kinv\": 0.029411764705882353}, {\"k\": 35, \"train_error\": 297.7280550774526, \"test_error\": 315.17108639863125, \"kinv\": 0.02857142857142857}, {\"k\": 36, \"train_error\": 298.2011378848728, \"test_error\": 315.95974717232207, \"kinv\": 0.027777777777777776}, {\"k\": 37, \"train_error\": 299.9023119505047, \"test_error\": 317.4300048551546, \"kinv\": 0.02702702702702703}, {\"k\": 38, \"train_error\": 299.8216550412175, \"test_error\": 318.8819728963127, \"kinv\": 0.02631578947368421}, {\"k\": 39, \"train_error\": 299.62156317578, \"test_error\": 318.4515584216183, \"kinv\": 0.02564102564102564}, {\"k\": 40, \"train_error\": 300.8094879518072, \"test_error\": 319.9887724550898, \"kinv\": 0.025}, {\"k\": 41, \"train_error\": 302.87613870114603, \"test_error\": 320.83394187235285, \"kinv\": 0.024390243902439025}, {\"k\": 42, \"train_error\": 303.24512335054504, \"test_error\": 320.7442258340462, \"kinv\": 0.023809523809523808}, {\"k\": 43, \"train_error\": 305.2605771924909, \"test_error\": 321.14956134243135, \"kinv\": 0.023255813953488372}, {\"k\": 44, \"train_error\": 305.4627601314348, \"test_error\": 321.5126565051715, \"kinv\": 0.022727272727272728}, {\"k\": 45, \"train_error\": 306.2684069611781, \"test_error\": 323.3799068529608, \"kinv\": 0.022222222222222223}, {\"k\": 46, \"train_error\": 306.0830277632268, \"test_error\": 325.65087216870603, \"kinv\": 0.021739130434782608}, {\"k\": 47, \"train_error\": 306.71622660856184, \"test_error\": 326.30589884061663, \"kinv\": 0.02127659574468085}, {\"k\": 48, \"train_error\": 306.7676957831326, \"test_error\": 326.78705089820363, \"kinv\": 0.020833333333333332}, {\"k\": 49, \"train_error\": 306.38062453897226, \"test_error\": 327.3371624098741, \"kinv\": 0.02040816326530612}, {\"k\": 50, \"train_error\": 308.3313253012048, \"test_error\": 328.8502994011976, \"kinv\": 0.02}, {\"k\": 51, \"train_error\": 309.7123789274747, \"test_error\": 329.37067042385814, \"kinv\": 0.0196078431372549}, {\"k\": 52, \"train_error\": 311.9757877664504, \"test_error\": 330.23952095808386, \"kinv\": 0.019230769230769232}, {\"k\": 53, \"train_error\": 313.4064560127302, \"test_error\": 331.12925093209805, \"kinv\": 0.018867924528301886}, {\"k\": 54, \"train_error\": 314.4885095939313, \"test_error\": 333.58006209802625, \"kinv\": 0.018518518518518517}, {\"k\": 55, \"train_error\": 316.83461117196055, \"test_error\": 333.1545998911268, \"kinv\": 0.01818181818181818}, {\"k\": 56, \"train_error\": 317.3623063683304, \"test_error\": 334.17183490162535, \"kinv\": 0.017857142857142856}, {\"k\": 57, \"train_error\": 318.5240963855422, \"test_error\": 335.8756171866793, \"kinv\": 0.017543859649122806}, {\"k\": 58, \"train_error\": 320.5312629829663, \"test_error\": 337.38385298368786, \"kinv\": 0.017241379310344827}, {\"k\": 59, \"train_error\": 320.76015928119256, \"test_error\": 337.529178930275, \"kinv\": 0.01694915254237288}, {\"k\": 60, \"train_error\": 322.3694779116466, \"test_error\": 337.74950099800407, \"kinv\": 0.016666666666666666}, {\"k\": 61, \"train_error\": 323.82233853446576, \"test_error\": 337.9724158240896, \"kinv\": 0.01639344262295082}, {\"k\": 62, \"train_error\": 324.8979790128255, \"test_error\": 339.2939926598416, \"kinv\": 0.016129032258064516}, {\"k\": 63, \"train_error\": 324.88525530694204, \"test_error\": 339.3237334854101, \"kinv\": 0.015873015873015872}, {\"k\": 64, \"train_error\": 326.7248682228916, \"test_error\": 340.18759356287427, \"kinv\": 0.015625}, {\"k\": 65, \"train_error\": 328.33873957367933, \"test_error\": 341.9207738369416, \"kinv\": 0.015384615384615385}, {\"k\": 66, \"train_error\": 329.98585250091276, \"test_error\": 343.48802395209583, \"kinv\": 0.015151515151515152}, {\"k\": 67, \"train_error\": 333.3213450818198, \"test_error\": 345.1470193940477, \"kinv\": 0.014925373134328358}, {\"k\": 68, \"train_error\": 336.4192062367116, \"test_error\": 346.24867911236356, \"kinv\": 0.014705882352941176}, {\"k\": 69, \"train_error\": 337.1224026540946, \"test_error\": 347.6308253059099, \"kinv\": 0.014492753623188406}, {\"k\": 70, \"train_error\": 338.88769363166944, \"test_error\": 348.98845166809235, \"kinv\": 0.014285714285714285}, {\"k\": 71, \"train_error\": 340.1853894451044, \"test_error\": 349.4771021337607, \"kinv\": 0.014084507042253521}, {\"k\": 72, \"train_error\": 341.52443105756356, \"test_error\": 351.04582501663344, \"kinv\": 0.013888888888888888}, {\"k\": 73, \"train_error\": 343.49727677834625, \"test_error\": 352.02198343039953, \"kinv\": 0.0136986301369863}, {\"k\": 74, \"train_error\": 345.11966786063175, \"test_error\": 353.5422398446351, \"kinv\": 0.013513513513513514}, {\"k\": 75, \"train_error\": 347.75702811244975, \"test_error\": 355.89021956087817, \"kinv\": 0.013333333333333334}, {\"k\": 76, \"train_error\": 350.6717660114141, \"test_error\": 359.0174913331233, \"kinv\": 0.013157894736842105}, {\"k\": 77, \"train_error\": 351.9441401971523, \"test_error\": 360.3273971537445, \"kinv\": 0.012987012987012988}, {\"k\": 78, \"train_error\": 354.8366543095459, \"test_error\": 362.47888837709195, \"kinv\": 0.01282051282051282}, {\"k\": 79, \"train_error\": 357.12597224340396, \"test_error\": 364.0870158417343, \"kinv\": 0.012658227848101266}, {\"k\": 80, \"train_error\": 358.4902108433735, \"test_error\": 366.375374251497, \"kinv\": 0.0125}, {\"k\": 81, \"train_error\": 360.51613862858846, \"test_error\": 370.26502550454654, \"kinv\": 0.012345679012345678}, {\"k\": 82, \"train_error\": 361.9324860417279, \"test_error\": 373.21272089966413, \"kinv\": 0.012195121951219513}, {\"k\": 83, \"train_error\": 363.3473653650748, \"test_error\": 375.7485029940119, \"kinv\": 0.012048192771084338}, {\"k\": 84, \"train_error\": 366.35470453241544, \"test_error\": 377.6571856287425, \"kinv\": 0.011904761904761904}, {\"k\": 85, \"train_error\": 369.0326009922041, \"test_error\": 380.0968650933428, \"kinv\": 0.011764705882352941}, {\"k\": 86, \"train_error\": 370.6868170355843, \"test_error\": 381.7643782203037, \"kinv\": 0.011627906976744186}, {\"k\": 87, \"train_error\": 372.20952776623744, \"test_error\": 382.99607681189343, \"kinv\": 0.011494252873563218}, {\"k\": 88, \"train_error\": 373.4991100766704, \"test_error\": 384.0602885138814, \"kinv\": 0.011363636363636364}, {\"k\": 89, \"train_error\": 374.637877352105, \"test_error\": 385.8860929825742, \"kinv\": 0.011235955056179775}, {\"k\": 90, \"train_error\": 377.0448460508701, \"test_error\": 387.5232867598137, \"kinv\": 0.011111111111111112}, {\"k\": 91, \"train_error\": 379.1870779822587, \"test_error\": 389.6048562216227, \"kinv\": 0.01098901098901099}, {\"k\": 92, \"train_error\": 381.31220534311154, \"test_error\": 390.7185628742515, \"kinv\": 0.010869565217391304}, {\"k\": 93, \"train_error\": 383.17625340069964, \"test_error\": 392.31054020990274, \"kinv\": 0.010752688172043012}, {\"k\": 94, \"train_error\": 384.1242630094846, \"test_error\": 393.19977067142304, \"kinv\": 0.010638297872340425}, {\"k\": 95, \"train_error\": 386.14616360177564, \"test_error\": 394.7289631263789, \"kinv\": 0.010526315789473684}, {\"k\": 96, \"train_error\": 388.46322791164664, \"test_error\": 396.0953093812375, \"kinv\": 0.010416666666666666}, {\"k\": 97, \"train_error\": 391.3985840268289, \"test_error\": 397.0106179393789, \"kinv\": 0.010309278350515464}, {\"k\": 98, \"train_error\": 394.7258421440865, \"test_error\": 398.2417817426372, \"kinv\": 0.01020408163265306}, {\"k\": 99, \"train_error\": 397.06553486673965, \"test_error\": 399.0019960079841, \"kinv\": 0.010101010101010102}, {\"k\": 100, \"train_error\": 400.7153614457831, \"test_error\": 400.86077844311376, \"kinv\": 0.01}, {\"k\": 101, \"train_error\": 404.7298103304306, \"test_error\": 403.1985533882731, \"kinv\": 0.009900990099009901}, {\"k\": 102, \"train_error\": 408.8619182612805, \"test_error\": 406.01297405189615, \"kinv\": 0.00980392156862745}, {\"k\": 103, \"train_error\": 412.57895660311135, \"test_error\": 407.1434800302307, \"kinv\": 0.009708737864077669}, {\"k\": 104, \"train_error\": 416.75596617238193, \"test_error\": 409.08567480423767, \"kinv\": 0.009615384615384616}, {\"k\": 105, \"train_error\": 422.12277682157196, \"test_error\": 410.98802395209583, \"kinv\": 0.009523809523809525}, {\"k\": 106, \"train_error\": 426.86406001363935, \"test_error\": 413.7908145972206, \"kinv\": 0.009433962264150943}, {\"k\": 107, \"train_error\": 431.3773786735729, \"test_error\": 416.6797246628239, \"kinv\": 0.009345794392523364}, {\"k\": 108, \"train_error\": 436.1041387773316, \"test_error\": 419.1436571301842, \"kinv\": 0.009259259259259259}, {\"k\": 109, \"train_error\": 440.3047971703327, \"test_error\": 422.3644454210844, \"kinv\": 0.009174311926605505}, {\"k\": 110, \"train_error\": 444.8439211391019, \"test_error\": 425.3211758301578, \"kinv\": 0.00909090909090909}, {\"k\": 111, \"train_error\": 448.83452729838274, \"test_error\": 427.5341209472946, \"kinv\": 0.009009009009009009}, {\"k\": 112, \"train_error\": 452.5965469018933, \"test_error\": 430.19541274593666, \"kinv\": 0.008928571428571428}, {\"k\": 113, \"train_error\": 456.05874826740586, \"test_error\": 432.7433628318584, \"kinv\": 0.008849557522123894}, {\"k\": 114, \"train_error\": 460.6914500105686, \"test_error\": 436.5466435549953, \"kinv\": 0.008771929824561403}, {\"k\": 115, \"train_error\": 464.5010476689367, \"test_error\": 439.3361103879198, \"kinv\": 0.008695652173913044}, {\"k\": 116, \"train_error\": 466.9635438304944, \"test_error\": 440.7688932479868, \"kinv\": 0.008620689655172414}, {\"k\": 117, \"train_error\": 471.47307177427655, \"test_error\": 443.18414453144993, \"kinv\": 0.008547008547008548}, {\"k\": 118, \"train_error\": 476.1614253624669, \"test_error\": 446.74845224804625, \"kinv\": 0.00847457627118644}, {\"k\": 119, \"train_error\": 479.3915156424016, \"test_error\": 449.3584260051325, \"kinv\": 0.008403361344537815}, {\"k\": 120, \"train_error\": 483.0660140562248, \"test_error\": 451.6217564870259, \"kinv\": 0.008333333333333333}, {\"k\": 121, \"train_error\": 486.0736333764811, \"test_error\": 453.58415400603747, \"kinv\": 0.008264462809917356}, {\"k\": 122, \"train_error\": 490.4836559352163, \"test_error\": 456.9169038971237, \"kinv\": 0.00819672131147541}, {\"k\": 123, \"train_error\": 494.09344695856606, \"test_error\": 460.58979601772063, \"kinv\": 0.008130081300813009}, {\"k\": 124, \"train_error\": 497.6292265837543, \"test_error\": 463.5599768205524, \"kinv\": 0.008064516129032258}, {\"k\": 125, \"train_error\": 502.22650602409624, \"test_error\": 467.06706586826346, \"kinv\": 0.008}, {\"k\": 126, \"train_error\": 507.01855039204435, \"test_error\": 470.8570953331432, \"kinv\": 0.007936507936507936}, {\"k\": 127, \"train_error\": 512.0920690636563, \"test_error\": 475.07190343722004, \"kinv\": 0.007874015748031496}, {\"k\": 128, \"train_error\": 516.2379988704819, \"test_error\": 479.0313903443114, \"kinv\": 0.0078125}, {\"k\": 129, \"train_error\": 521.8466890819091, \"test_error\": 483.3136053474447, \"kinv\": 0.007751937984496124}, {\"k\": 130, \"train_error\": 526.8257645968488, \"test_error\": 487.32266236757243, \"kinv\": 0.007692307692307693}, {\"k\": 131, \"train_error\": 532.7646463717466, \"test_error\": 491.7973213877589, \"kinv\": 0.007633587786259542}, {\"k\": 132, \"train_error\": 538.3032128514055, \"test_error\": 495.99891126837224, \"kinv\": 0.007575757575757576}, {\"k\": 133, \"train_error\": 543.236479753601, \"test_error\": 500.0281392103014, \"kinv\": 0.007518796992481203}, {\"k\": 134, \"train_error\": 547.4251483546126, \"test_error\": 503.90227008669234, \"kinv\": 0.007462686567164179}, {\"k\": 135, \"train_error\": 553.3054439982151, \"test_error\": 508.22687957418486, \"kinv\": 0.007407407407407408}, {\"k\": 136, \"train_error\": 557.0085489014883, \"test_error\": 510.35796054948923, \"kinv\": 0.007352941176470588}, {\"k\": 137, \"train_error\": 561.2336206138422, \"test_error\": 514.1243061322609, \"kinv\": 0.0072992700729927005}, {\"k\": 138, \"train_error\": 565.3701763576045, \"test_error\": 517.4759177297578, \"kinv\": 0.007246376811594203}, {\"k\": 139, \"train_error\": 569.6032330761897, \"test_error\": 521.0593202085038, \"kinv\": 0.007194244604316547}, {\"k\": 140, \"train_error\": 574.088855421687, \"test_error\": 524.7433704020531, \"kinv\": 0.007142857142857143}, {\"k\": 141, \"train_error\": 579.2051183457235, \"test_error\": 529.8955280927509, \"kinv\": 0.0070921985815602835}, {\"k\": 142, \"train_error\": 585.1762684540981, \"test_error\": 534.4248123471368, \"kinv\": 0.007042253521126761}, {\"k\": 143, \"train_error\": 590.0212739068162, \"test_error\": 538.6070516310037, \"kinv\": 0.006993006993006993}, {\"k\": 144, \"train_error\": 594.9527275769746, \"test_error\": 542.9432801064538, \"kinv\": 0.006944444444444444}, {\"k\": 145, \"train_error\": 599.8826339842128, \"test_error\": 547.6842865992155, \"kinv\": 0.006896551724137931}, {\"k\": 146, \"train_error\": 605.5929196237004, \"test_error\": 552.209621852186, \"kinv\": 0.00684931506849315}, {\"k\": 147, \"train_error\": 609.482829276289, \"test_error\": 556.2517821499858, \"kinv\": 0.006802721088435374}, {\"k\": 148, \"train_error\": 613.2682758059266, \"test_error\": 559.1630927334521, \"kinv\": 0.006756756756756757}, {\"k\": 149, \"train_error\": 616.8361364922779, \"test_error\": 562.4643330788089, \"kinv\": 0.006711409395973154}]}}, {\"mode\": \"vega-lite\"});\n",
       "</script>"
      ],
      "text/plain": [
       "alt.LayerChart(...)"
      ]
     },
     "execution_count": 24,
     "metadata": {},
     "output_type": "execute_result"
    }
   ],
   "source": [
    "ctrain+ctest"
   ]
  }
 ],
 "metadata": {
  "deepnote": {
   "is_reactive": false
  },
  "deepnote_execution_queue": [],
  "deepnote_notebook_id": "15bd562b-cce7-415c-aeb7-d990d0bec701",
  "kernelspec": {
   "display_name": "Python 3 (ipykernel)",
   "language": "python",
   "name": "python3"
  },
  "language_info": {
   "codemirror_mode": {
    "name": "ipython",
    "version": 3
   },
   "file_extension": ".py",
   "mimetype": "text/x-python",
   "name": "python",
   "nbconvert_exporter": "python",
   "pygments_lexer": "ipython3",
   "version": "3.9.9"
  }
 },
 "nbformat": 4,
 "nbformat_minor": 4
}