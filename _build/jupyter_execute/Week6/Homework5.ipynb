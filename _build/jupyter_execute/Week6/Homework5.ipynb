{
 "cells": [
  {
   "cell_type": "markdown",
   "metadata": {
    "cell_id": "095ccaa8-b4c4-474a-89b0-004149cc4ce3",
    "deepnote_cell_type": "markdown",
    "tags": []
   },
   "source": [
    "# Homework 5\n",
    "\n",
    "List your name and the names of any collaborators at the top of this notebook.\n",
    "\n",
    "(Reminder: It’s encouraged to work together; you can even submit the exact same homework as another student or two students, but you must list each other’s names at the top.)\n",
    "\n",
    "This homework is divided into two parts (please submit both together).  In the first part, you will practice with scikit-learn and the MNIST dataset.  In the second part, you will be introduced to some of the most famous concepts in machine learning (over-fitting and the bias-variance tradeoff)."
   ]
  },
  {
   "cell_type": "markdown",
   "metadata": {
    "cell_id": "0655d16c-8ba9-4d8b-a93d-d7e39a0c24f2",
    "deepnote_cell_type": "markdown",
    "tags": []
   },
   "source": [
    "## Part 1: scikit-learn and MNIST\n",
    "\n",
    "### Question 1\n",
    "\n",
    "In the language of the Altair [data encoding types](https://altair-viz.github.io/user_guide/encoding.html#encoding-data-types), why should the labels (0,1,...,9) from the MNIST handwritten digit dataset be considered as a *nominal* data type, rather than a *quantitative* or an *ordinal* data type?  (This should seem counter-intuitive at first, since the labels do have a clear ordering.)"
   ]
  },
  {
   "cell_type": "markdown",
   "metadata": {
    "cell_id": "00002-e5eda320-1fed-431c-adbf-1f5826452ff5",
    "deepnote_cell_type": "markdown"
   },
   "source": [
    "### Question 2\n",
    "\n",
    "Lost the MNIST data and many useful scikit-learn functions by evaluating the cell below.  It will probably take about one minute to execute. (**Warning**.  I tried loading this  twice, and I ran out of memory.  So try to only evaluate this cell once per session.)"
   ]
  },
  {
   "cell_type": "code",
   "execution_count": null,
   "metadata": {
    "cell_id": "00003-c9fa9bef-0068-4c75-94b6-1367aedc493a",
    "deepnote_cell_type": "code"
   },
   "outputs": [],
   "source": [
    "import numpy as np\n",
    "import pandas as pd\n",
    "from sklearn.linear_model import LogisticRegression, LinearRegression\n",
    "from sklearn.datasets import fetch_openml\n",
    "from sklearn.metrics import mean_absolute_error\n",
    "from sklearn.model_selection import train_test_split\n",
    "\n",
    "mnist = fetch_openml('mnist_784', version = 1)"
   ]
  },
  {
   "cell_type": "markdown",
   "metadata": {
    "cell_id": "00004-9383e949-0d5d-46f5-872f-91c751f74f56",
    "deepnote_cell_type": "markdown"
   },
   "source": [
    "Get the image data from `mnist` and call it `X`, also get the label data and call it `y`."
   ]
  },
  {
   "cell_type": "markdown",
   "metadata": {
    "cell_id": "00005-5c960b35-0751-48dd-a732-e49415415344",
    "deepnote_cell_type": "markdown",
    "tags": []
   },
   "source": [
    "### Question 3\n",
    "\n",
    "Replace `y` with a numeric Series using `pd.to_numeric`.  Also call this new Series `y`.  (Check.  If you look at `y`, it should be a length 70000 pandas Series with dtype `int64`.)"
   ]
  },
  {
   "cell_type": "markdown",
   "metadata": {
    "cell_id": "00006-ff6ea12d-92c6-44cd-9727-315131894932",
    "deepnote_cell_type": "markdown"
   },
   "source": [
    "### Question 4"
   ]
  },
  {
   "cell_type": "markdown",
   "metadata": {
    "cell_id": "00007-37fbaad4-87aa-4d47-a8d6-035f9740dc02",
    "deepnote_cell_type": "markdown"
   },
   "source": [
    "Create `X_train, X_test, y_train, y_test` using `train_test_split` with a test size of `0.9`.  (This is a larger than usual test size.  Something like `0.2` is more common.)"
   ]
  },
  {
   "cell_type": "markdown",
   "metadata": {
    "cell_id": "00008-4605466b-1245-4cc5-aee1-b0560a1f2ad1",
    "deepnote_cell_type": "markdown",
    "tags": []
   },
   "source": [
    "### Question 5\n",
    "\n",
    "How many data points are in the training set?  (There are two ways to answer this, either mathematically using the fact that the test size is `0.9` and the full data set contains 70000 samples, or by evaluating the length of `X_train` or `y_train`.)"
   ]
  },
  {
   "cell_type": "markdown",
   "metadata": {
    "cell_id": "00009-c0d7b0e5-791e-4430-bf3f-f500eccbf02d",
    "deepnote_cell_type": "markdown"
   },
   "source": [
    "### Question 6\n",
    "\n",
    "Fit a LogisticRegression classifier using `X_train` and `y_train`.  (A warning shows up, the same as in the video.  We are just ignoring this warning for now.)"
   ]
  },
  {
   "cell_type": "markdown",
   "metadata": {
    "cell_id": "00010-71e6af2a-b544-45f3-ae8f-3eedc9e10fcd",
    "deepnote_cell_type": "markdown"
   },
   "source": [
    "### Question 7\n",
    "\n",
    "Use the `score` method of the classifier to evaluate the performance on `X_train` and `y_train`.  You can read about the score method in the [scikit-learn documentation](https://scikit-learn.org/stable/modules/generated/sklearn.linear_model.LogisticRegression.html#sklearn.linear_model.LogisticRegression.score)."
   ]
  },
  {
   "cell_type": "markdown",
   "metadata": {
    "cell_id": "00011-a657eca1-b43c-4aeb-a188-b2844b7232ac",
    "deepnote_cell_type": "markdown"
   },
   "source": [
    "### Question 8\n",
    "\n",
    "That score value should be the same as the proportion of correct predictions by your classifier.  Verify that they are the same.  (Use the `predict` method, then create a Boolean array by comparing the result to `y_train`, then use `np.count_nonzero` and divide by the length.)"
   ]
  },
  {
   "cell_type": "markdown",
   "metadata": {
    "cell_id": "00012-04ed27ab-6332-432b-8774-7d7db9d0f887",
    "deepnote_cell_type": "markdown"
   },
   "source": [
    "### Question 9\n",
    "\n",
    "What is the score for the test set?"
   ]
  },
  {
   "cell_type": "markdown",
   "metadata": {
    "cell_id": "00013-7da95c1f-6c85-42e5-906a-572e864f0d7e",
    "deepnote_cell_type": "markdown"
   },
   "source": [
    "### Question 10\n",
    "\n",
    "Do the results suggest over-fitting?  Why or why not?"
   ]
  },
  {
   "cell_type": "markdown",
   "metadata": {
    "cell_id": "00014-9c13f774-f6ae-43e4-8e41-ee1cce7aba7d",
    "deepnote_cell_type": "markdown"
   },
   "source": [
    "### Question 11\n",
    "\n",
    "We are now going to do the same thing using Linear Regression instead of Logistic Regression.  Why is that a bad idea on the MNIST dataset?"
   ]
  },
  {
   "cell_type": "markdown",
   "metadata": {
    "cell_id": "00015-388bfad1-6cb0-4e38-bcef-7518952118b2",
    "deepnote_cell_type": "markdown"
   },
   "source": [
    "### Question 12\n",
    "\n",
    "Fit a Linear Regression object using the same `X_train` and `y_train` as above."
   ]
  },
  {
   "cell_type": "markdown",
   "metadata": {
    "cell_id": "00016-12378806-e8ae-4644-8c98-de5820481a23",
    "deepnote_cell_type": "markdown"
   },
   "source": [
    "### Question 13\n",
    "\n",
    "What is the `mean_absolute_error` between the predicted value on `X_train` (use `predict`) and `y_train` (don't use predict)?"
   ]
  },
  {
   "cell_type": "markdown",
   "metadata": {
    "cell_id": "00017-45bd7420-b6f3-4a77-81eb-616fc8b0678f",
    "deepnote_cell_type": "markdown"
   },
   "source": [
    "### Question 14\n",
    "\n",
    "What is the `mean_absolute_error` between the predicted value on `X_test` and `y_test`?"
   ]
  },
  {
   "cell_type": "markdown",
   "metadata": {
    "cell_id": "00018-eca7d9be-1935-46ed-8f18-dcb0a8e5248e",
    "deepnote_cell_type": "markdown"
   },
   "source": [
    "### Question 15\n",
    "\n",
    "Do the results suggest over-fitting? Why or why not?"
   ]
  },
  {
   "cell_type": "markdown",
   "metadata": {
    "cell_id": "5bb06006-4b4e-48a2-a86a-e9b510e04fdd",
    "deepnote_cell_type": "markdown",
    "deepnote_output_heights": [
     21.1875
    ],
    "deepnote_to_be_reexecuted": false,
    "execution_millis": 7,
    "execution_start": 1643656707121,
    "source_hash": "471234a4",
    "tags": []
   },
   "source": [
    "## Part 2: Reading questions\n",
    "\n",
    "This portion of the homework is based on Chapter 2 (Statistical Learning) of *Introduction to Statistical Learning*.  You can download this chapter from on campus using [SpringerLink](https://link.springer.com/book/10.1007/978-1-4614-7138-7) or you can find a download link in the [Week 6 checklist](https://canvas.eee.uci.edu/courses/42645/pages/week-6-checklist?module_item_id=1550957) on Canvas.\n",
    "\n",
    "1.  In the *income* formula from page 22, what is the significance of $\\beta_1$ and $\\beta_2$ being positive or negative?\n",
    "\n",
    "1.  Which of the curves in Figure 2.9 is *underfitting* the data?  Which is *overfitting* the data?\n",
    "\n",
    "1.  What is meant by the two green dots in the right-hand panel of Figure 2.9?\n",
    "\n",
    "1.  Describe in your own words what is meant by the *Bias-Variance Tradeoff* (section 2.2.2). \n",
    "\n",
    "1.  Why is Equation (2.5) on page 29 not reasonable to use for a classification problem?"
   ]
  },
  {
   "cell_type": "markdown",
   "metadata": {
    "cell_id": "fdaf174e-1494-4129-a476-956fdd80ed98",
    "deepnote_cell_type": "markdown",
    "tags": []
   },
   "source": [
    "## Submission\n",
    "Download the .ipynb file for this notebook (click on the folder icon to the left, then the … next to the file name) and upload the file on Canvas."
   ]
  }
 ],
 "metadata": {
  "deepnote": {
   "is_reactive": false
  },
  "deepnote_execution_queue": [],
  "deepnote_notebook_id": "a6cbccfa-4974-4dcb-ad5b-8a4ca29945be",
  "kernelspec": {
   "display_name": "Python 3 (ipykernel)",
   "language": "python",
   "name": "python3"
  },
  "language_info": {
   "codemirror_mode": {
    "name": "ipython",
    "version": 3
   },
   "file_extension": ".py",
   "mimetype": "text/x-python",
   "name": "python",
   "nbconvert_exporter": "python",
   "pygments_lexer": "ipython3",
   "version": "3.9.9"
  }
 },
 "nbformat": 4,
 "nbformat_minor": 4
}