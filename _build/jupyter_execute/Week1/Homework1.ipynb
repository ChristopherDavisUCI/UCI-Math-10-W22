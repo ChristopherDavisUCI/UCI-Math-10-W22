{
 "cells": [
  {
   "cell_type": "markdown",
   "metadata": {
    "cell_id": "00000-26c2f050-3efc-4bcb-9cd2-12bc7710909c",
    "deepnote_cell_type": "markdown",
    "tags": []
   },
   "source": [
    "# Homework 1\n",
    "\n",
    "**Update** 1/3/22: I was wrong in class when I said you should duplicate this into the team space.  I think you need to duplicate it into your personal workspace.  You can then share with collaborators at the top right (give them *edit* access if you want them to be able to edit the code).\n",
    "\n",
    "Due: 5pm Friday, Week 1, uploaded on Canvas.\n",
    "\n",
    "Here are the main goals of this homework:\n",
    "* Become familiar with the basic functionality of Deepnote notebooks (which are very similar to Jupyter notebooks).\n",
    "* Learn about some places where you can get more information about Python functions.\n",
    "* Think about what type of material you would want to be covered in a course called, *Introduction to Programming for Data Science*.\n",
    "\n",
    "Click the *Duplicate* button at the top right to get a version of this project that you can edit."
   ]
  },
  {
   "cell_type": "markdown",
   "metadata": {
    "cell_id": "00001-57455bbc-e43b-49eb-8a50-f99842d0e29b",
    "deepnote_cell_type": "markdown",
    "tags": []
   },
   "source": [
    "## Exercise 1\n",
    "\n",
    "Make a markdown cell underneath this cell, and put your name and student ID in it."
   ]
  },
  {
   "cell_type": "markdown",
   "metadata": {
    "cell_id": "00002-b1543ae8-1ec5-4e71-a769-6992f6095d7b",
    "deepnote_cell_type": "markdown",
    "tags": []
   },
   "source": [
    "## Exercise 2\n",
    "\n",
    "Make a code cell underneath this cell, and using Python's `print` statement, display your name and student ID.  Execute this cell by hitting `shift+enter`."
   ]
  },
  {
   "cell_type": "markdown",
   "metadata": {
    "cell_id": "00004-b254bb2d-b79d-4436-8467-602111ee4fb6",
    "deepnote_cell_type": "markdown",
    "tags": []
   },
   "source": [
    "## Exercise 3\n",
    "\n",
    "Read Subsection 8.1 and Subsection 8.2 of the attached article, *50 Years of Data Science*.  (To access this article, click the Folder icon on the left, and then you should see this pdf file listed.)  These sections describe six proposed divisions of \"Greater Data Science\".  If you were to rank these six divisions, from \"Most important to study in Math 10\" to \"Least important to study in Math 10\", how would you rank them?\n",
    "\n",
    "Give your personal ranking, from most important to least important, and then give a few sentences of description of why you chose that ranking.  (Two total sentences is plenty.  For example, you could say why you think the top two are the most important, or why the bottom two are least important.  You should not try to mention all six divisions in these sentences, just whatever you feel you have something to say about.)"
   ]
  },
  {
   "cell_type": "markdown",
   "metadata": {
    "cell_id": "00005-b69df30e-ccca-4b79-838b-ca7912cc421c",
    "deepnote_cell_type": "markdown",
    "tags": []
   },
   "source": [
    "## Exercise 4\n",
    "\n",
    "My favorite website for Python tutorials is *Real Python*.  Read some of this Real Python article titled [Python's Counter: The Pythonic Way to Count Objects](https://realpython.com/python-counter/) and then answer the following questions.\n",
    "\n",
    "1.  What is the task/goal that article is addressing?  (Answer in about one sentence.)\n",
    "1.  What is something from that article that you feel like you understand pretty well?\n",
    "1.  What is something from that article that you feel like you don't yet understand?"
   ]
  },
  {
   "cell_type": "markdown",
   "metadata": {
    "cell_id": "00007-5aef0bcd-58bc-427c-9312-f1cd72146b94",
    "deepnote_cell_type": "markdown",
    "tags": []
   },
   "source": [
    "## Exercise 5\n",
    "\n",
    "Here is another way to count objects, that is specific to the Python library pandas.  Go to the *Files* section on Canvas, then to the *data* folder, and download the csv file called `spotify_dataset.csv`.  Upload that file here in Deepnote, by clicking on the folder icon on the leeft side, and then the plus icon, and then *upload file*.  After the file is uploaded, run the following cell.  It should display the top 5 rows of the dataset."
   ]
  },
  {
   "cell_type": "code",
   "execution_count": null,
   "metadata": {
    "cell_id": "00009-00aba6dc-ac94-4c95-828e-424148fd7f7b",
    "deepnote_cell_type": "code",
    "deepnote_to_be_reexecuted": false,
    "execution_millis": 75,
    "execution_start": 1640807703109,
    "output_cleared": true,
    "source_hash": "e75fff45",
    "tags": []
   },
   "outputs": [],
   "source": [
    "import pandas as pd\n",
    "df = pd.read_csv(\"spotify_dataset.csv\")\n",
    "df.head()"
   ]
  },
  {
   "cell_type": "markdown",
   "metadata": {
    "cell_id": "00010-8eee6a27-89e1-4dc9-8b4a-74e19628c1ad",
    "deepnote_cell_type": "markdown",
    "deepnote_to_be_reexecuted": false,
    "execution_millis": 22,
    "execution_start": 1640807263576,
    "source_hash": "3f39c031",
    "tags": []
   },
   "source": [
    "Once the data is loaded and stored with the variable name `df`, run the following command: `df[\"Artist\"].value_counts()`.  If you want to read more about this function, here is the [pandas documentation](https://pandas.pydata.org/docs/reference/api/pandas.Series.value_counts.html) for `value_counts`.\n",
    "\n",
    "Answer the following question in a markdown cell: which Artist appears most often in this dataset?"
   ]
  },
  {
   "cell_type": "markdown",
   "metadata": {
    "cell_id": "00003-e8f2069f-0333-4774-8fa7-62102f1188ab",
    "deepnote_cell_type": "markdown",
    "tags": []
   },
   "source": [
    "## Exercise 6\n",
    "\n",
    "Search for something related to Python on [Stack Overflow](https://stackoverflow.com/) and then do the following.\n",
    "\n",
    "1.  Make a new markdown cell below this cell.\n",
    "1.  Put a heading in that cell using `##` and writing a descriptive heading.  (The heading should be a brief description of the topic you searched for.)\n",
    "1.  Give a hyperlink to a useful post you found on Stack Overflow.  The syntax for making a hyperlink in markdown is `[text here](url here)`.\n",
    "1.  Write a sentence saying what you learned from the linked page.\n"
   ]
  },
  {
   "cell_type": "markdown",
   "metadata": {
    "cell_id": "00009-4689d420-a6cf-40a1-bb4f-fdc43b7d5041",
    "deepnote_cell_type": "markdown",
    "tags": []
   },
   "source": [
    "## How to submit this homework\n",
    "\n",
    "Go to the Files section on the left, click on the ... next to Homework1.ipynb, and choose *export as .ipynb*.  That IPython notebook is what you should upload on Canvas."
   ]
  }
 ],
 "metadata": {
  "deepnote": {
   "is_reactive": false
  },
  "deepnote_execution_queue": [],
  "deepnote_notebook_id": "3e8cf514-d35d-4e6b-95da-fa0b12a58341",
  "kernelspec": {
   "display_name": "Python 3 (ipykernel)",
   "language": "python",
   "name": "python3"
  },
  "language_info": {
   "codemirror_mode": {
    "name": "ipython",
    "version": 3
   },
   "file_extension": ".py",
   "mimetype": "text/x-python",
   "name": "python",
   "nbconvert_exporter": "python",
   "pygments_lexer": "ipython3",
   "version": "3.9.9"
  }
 },
 "nbformat": 4,
 "nbformat_minor": 4
}