{
 "cells": [
  {
   "cell_type": "code",
   "execution_count": 1,
   "metadata": {
    "cell_id": "964feea1-8bf9-4fa4-b092-4951967f9510",
    "deepnote_cell_type": "code",
    "deepnote_to_be_reexecuted": false,
    "execution_millis": 4828,
    "execution_start": 1645026895419,
    "source_hash": "777e8eaa",
    "tags": []
   },
   "outputs": [],
   "source": [
    "from tqdm.std import tqdm, trange\n",
    "from tqdm import notebook\n",
    "notebook.tqdm = tqdm\n",
    "notebook.trange = trange\n",
    "\n",
    "import pandas as pd\n",
    "import numpy as np\n",
    "import matplotlib.pyplot as plt\n",
    "\n",
    "import torch\n",
    "from torch import nn\n",
    "from torchvision import datasets\n",
    "from torchvision.transforms import ToTensor\n",
    "from torch.utils.data import DataLoader"
   ]
  },
  {
   "cell_type": "code",
   "execution_count": 2,
   "metadata": {
    "cell_id": "b25be2e0-06dd-49e3-b182-b01fe6d6ce0d",
    "deepnote_cell_type": "code",
    "deepnote_to_be_reexecuted": false,
    "execution_millis": 131,
    "execution_start": 1645026944896,
    "source_hash": "3470a599",
    "tags": []
   },
   "outputs": [],
   "source": [
    "# Load the data\n",
    "training_data = datasets.MNIST(\n",
    "    root=\"data\",\n",
    "    train=True,\n",
    "    download=True,\n",
    "    transform=ToTensor(),\n",
    ")\n",
    "\n",
    "test_data = datasets.MNIST(\n",
    "    root=\"data\",\n",
    "    train=False,\n",
    "    download=True,\n",
    "    transform=ToTensor(),\n",
    ")"
   ]
  },
  {
   "cell_type": "code",
   "execution_count": 3,
   "metadata": {
    "cell_id": "f7517bcf-4088-44f0-b6b5-1f5b0d307456",
    "deepnote_cell_type": "code",
    "tags": []
   },
   "outputs": [],
   "source": [
    "class ThreeBlue(nn.Module):\n",
    "    def __init__(self):\n",
    "        super().__init__()\n",
    "        self.flatten = nn.Flatten()\n",
    "        self.layers = nn.Sequential(\n",
    "            nn.Linear(784,10)\n",
    "        )\n",
    "\n",
    "    def forward(self,x):\n",
    "        y = self.flatten(x)\n",
    "        z = self.layers(y)\n",
    "        return z"
   ]
  },
  {
   "cell_type": "code",
   "execution_count": 4,
   "metadata": {},
   "outputs": [],
   "source": [
    "wed = ThreeBlue()"
   ]
  },
  {
   "cell_type": "code",
   "execution_count": 5,
   "metadata": {
    "cell_id": "678d0308-be4d-4ea6-b6d5-66be4bb2c5b0",
    "deepnote_cell_type": "code",
    "deepnote_to_be_reexecuted": false,
    "execution_millis": 2,
    "execution_start": 1645028827880,
    "source_hash": "b42fb0e0",
    "tags": []
   },
   "outputs": [],
   "source": [
    "class ThreeBlue(nn.Module):\n",
    "    def __init__(self):\n",
    "        super().__init__()\n",
    "        self.flatten = nn.Flatten()\n",
    "        self.layers = nn.Sequential(\n",
    "            nn.Linear(784,16),\n",
    "            nn.Sigmoid(),\n",
    "            nn.Linear(16,16),\n",
    "            nn.Sigmoid(),\n",
    "            nn.Linear(16,10),\n",
    "            nn.Sigmoid()\n",
    "        )\n",
    "\n",
    "    def forward(self,x):\n",
    "        x = x/255\n",
    "        y = self.flatten(x)\n",
    "        z = self.layers(y)\n",
    "        return z"
   ]
  },
  {
   "cell_type": "code",
   "execution_count": 6,
   "metadata": {
    "cell_id": "86981e7a-5bb3-49a3-b930-953f3c2cd80a",
    "deepnote_cell_type": "code",
    "deepnote_to_be_reexecuted": false,
    "execution_millis": 4,
    "execution_start": 1645028828820,
    "source_hash": "353affe8",
    "tags": []
   },
   "outputs": [],
   "source": [
    "wed = ThreeBlue()"
   ]
  },
  {
   "cell_type": "code",
   "execution_count": 7,
   "metadata": {
    "cell_id": "acd5ae18-5457-44af-8ea4-4dded559f2db",
    "deepnote_cell_type": "code",
    "deepnote_to_be_reexecuted": false,
    "execution_millis": 5,
    "execution_start": 1645028862219,
    "source_hash": "800e8d26",
    "tags": []
   },
   "outputs": [
    {
     "name": "stdout",
     "output_type": "stream",
     "text": [
      "torch.Size([16, 784])\n",
      "torch.Size([16])\n",
      "torch.Size([16, 16])\n",
      "torch.Size([16])\n",
      "torch.Size([10, 16])\n",
      "torch.Size([10])\n"
     ]
    }
   ],
   "source": [
    "for p in wed.parameters():\n",
    "    print(p.shape)"
   ]
  },
  {
   "cell_type": "code",
   "execution_count": 8,
   "metadata": {
    "cell_id": "73cf88fe-de77-4cfd-8a8d-97fd4147a639",
    "deepnote_cell_type": "code",
    "deepnote_to_be_reexecuted": false,
    "execution_millis": 6,
    "execution_start": 1645028896330,
    "source_hash": "ff029ba8",
    "tags": []
   },
   "outputs": [
    {
     "name": "stdout",
     "output_type": "stream",
     "text": [
      "12544\n",
      "16\n",
      "256\n",
      "16\n",
      "160\n",
      "10\n"
     ]
    }
   ],
   "source": [
    "for p in wed.parameters():\n",
    "    print(p.numel())"
   ]
  },
  {
   "cell_type": "code",
   "execution_count": 9,
   "metadata": {
    "cell_id": "1ce93201-db9c-4051-bfb5-90cdaac3ca0f",
    "deepnote_cell_type": "code",
    "deepnote_output_heights": [
     21.1875
    ],
    "deepnote_to_be_reexecuted": false,
    "execution_millis": 5,
    "execution_start": 1645028977475,
    "source_hash": "91e4ea66",
    "tags": []
   },
   "outputs": [
    {
     "data": {
      "text/plain": [
       "13002"
      ]
     },
     "execution_count": 9,
     "metadata": {},
     "output_type": "execute_result"
    }
   ],
   "source": [
    "sum([p.numel() for p in wed.parameters()])"
   ]
  },
  {
   "cell_type": "code",
   "execution_count": 10,
   "metadata": {
    "cell_id": "11b9e7c3-a1c0-4f0c-8232-86dc461e5c4a",
    "deepnote_cell_type": "code",
    "deepnote_output_heights": [
     21.1875
    ],
    "deepnote_to_be_reexecuted": false,
    "execution_millis": 6,
    "execution_start": 1645028989266,
    "source_hash": "90a4ed9f",
    "tags": []
   },
   "outputs": [
    {
     "data": {
      "text/plain": [
       "13002"
      ]
     },
     "execution_count": 10,
     "metadata": {},
     "output_type": "execute_result"
    }
   ],
   "source": [
    "sum(p.numel() for p in wed.parameters())"
   ]
  },
  {
   "cell_type": "code",
   "execution_count": 11,
   "metadata": {
    "cell_id": "06d805f3-f56f-408f-b4d2-a399cded3f07",
    "deepnote_cell_type": "code",
    "deepnote_output_heights": [
     174.796875
    ],
    "deepnote_to_be_reexecuted": false,
    "execution_millis": 5,
    "execution_start": 1645028248017,
    "source_hash": "eea77758",
    "tags": []
   },
   "outputs": [
    {
     "data": {
      "text/plain": [
       "ThreeBlue(\n",
       "  (flatten): Flatten(start_dim=1, end_dim=-1)\n",
       "  (layers): Sequential(\n",
       "    (0): Linear(in_features=784, out_features=16, bias=True)\n",
       "    (1): Sigmoid()\n",
       "    (2): Linear(in_features=16, out_features=16, bias=True)\n",
       "    (3): Sigmoid()\n",
       "    (4): Linear(in_features=16, out_features=10, bias=True)\n",
       "    (5): Sigmoid()\n",
       "  )\n",
       ")"
      ]
     },
     "execution_count": 11,
     "metadata": {},
     "output_type": "execute_result"
    }
   ],
   "source": [
    "wed"
   ]
  },
  {
   "cell_type": "code",
   "execution_count": 12,
   "metadata": {
    "cell_id": "89d03220-71ca-47c4-94b0-041174781561",
    "deepnote_cell_type": "code",
    "deepnote_output_heights": [
     117.1875
    ],
    "deepnote_to_be_reexecuted": false,
    "execution_millis": 159,
    "execution_start": 1645028307383,
    "source_hash": "6b75489a",
    "tags": []
   },
   "outputs": [
    {
     "data": {
      "text/plain": [
       "Sequential(\n",
       "  (0): Linear(in_features=784, out_features=16, bias=True)\n",
       "  (1): Sigmoid()\n",
       "  (2): Linear(in_features=16, out_features=16, bias=True)\n",
       "  (3): Sigmoid()\n",
       "  (4): Linear(in_features=16, out_features=10, bias=True)\n",
       "  (5): Sigmoid()\n",
       ")"
      ]
     },
     "execution_count": 12,
     "metadata": {},
     "output_type": "execute_result"
    }
   ],
   "source": [
    "wed.layers"
   ]
  },
  {
   "cell_type": "code",
   "execution_count": 13,
   "metadata": {},
   "outputs": [
    {
     "data": {
      "text/plain": [
       "Linear(in_features=16, out_features=16, bias=True)"
      ]
     },
     "execution_count": 13,
     "metadata": {},
     "output_type": "execute_result"
    }
   ],
   "source": [
    "wed.layers[2]"
   ]
  },
  {
   "cell_type": "code",
   "execution_count": 14,
   "metadata": {
    "cell_id": "84421baa-a9a5-441b-9517-58d8edbe606d",
    "deepnote_cell_type": "code",
    "deepnote_output_heights": [
     21.1875
    ],
    "deepnote_to_be_reexecuted": false,
    "execution_millis": 7,
    "execution_start": 1645028364513,
    "source_hash": "a4dc0b78",
    "tags": []
   },
   "outputs": [
    {
     "data": {
      "text/plain": [
       "torch.Size([16, 16])"
      ]
     },
     "execution_count": 14,
     "metadata": {},
     "output_type": "execute_result"
    }
   ],
   "source": [
    "wed.layers[2].weight.shape"
   ]
  },
  {
   "cell_type": "code",
   "execution_count": 15,
   "metadata": {
    "cell_id": "b640a578-5d22-42b6-b5c4-435c69c6ee43",
    "deepnote_cell_type": "code",
    "deepnote_output_heights": [
     21.1875
    ],
    "deepnote_to_be_reexecuted": false,
    "execution_millis": 6,
    "execution_start": 1645028453399,
    "source_hash": "6c33b1b9",
    "tags": []
   },
   "outputs": [
    {
     "data": {
      "text/plain": [
       "torch.Size([16])"
      ]
     },
     "execution_count": 15,
     "metadata": {},
     "output_type": "execute_result"
    }
   ],
   "source": [
    "wed.layers[2].bias.shape"
   ]
  },
  {
   "cell_type": "code",
   "execution_count": 16,
   "metadata": {
    "cell_id": "7397d13f-6f13-4913-9a66-34b8bb39cbbd",
    "deepnote_cell_type": "code",
    "deepnote_output_heights": [
     117.1875
    ],
    "deepnote_to_be_reexecuted": false,
    "execution_millis": 235,
    "execution_start": 1645027925083,
    "source_hash": "5cbda2e8",
    "tags": []
   },
   "outputs": [
    {
     "data": {
      "text/plain": [
       "tensor([[0.5944, 0.4146, 0.3592, 0.4494, 0.4882, 0.4373, 0.4342, 0.6071, 0.4790,\n",
       "         0.4979],\n",
       "        [0.5941, 0.4140, 0.3608, 0.4500, 0.4895, 0.4370, 0.4352, 0.6085, 0.4780,\n",
       "         0.4987],\n",
       "        [0.5956, 0.4160, 0.3602, 0.4501, 0.4876, 0.4370, 0.4341, 0.6052, 0.4817,\n",
       "         0.4979]], grad_fn=<SliceBackward0>)"
      ]
     },
     "execution_count": 16,
     "metadata": {},
     "output_type": "execute_result"
    }
   ],
   "source": [
    "wed(training_data.data)[:3]"
   ]
  },
  {
   "cell_type": "code",
   "execution_count": 17,
   "metadata": {
    "cell_id": "f457b2b2-490b-46e6-8819-3a943ddbaf83",
    "deepnote_cell_type": "code",
    "deepnote_output_heights": [
     21.1875
    ],
    "deepnote_to_be_reexecuted": false,
    "execution_millis": 164,
    "execution_start": 1645029149996,
    "source_hash": "c38d27bb",
    "tags": []
   },
   "outputs": [],
   "source": [
    "y_pred = wed(training_data.data)"
   ]
  },
  {
   "cell_type": "code",
   "execution_count": 18,
   "metadata": {
    "cell_id": "5acedcbd-af6a-43d3-95ae-b587d0952dfd",
    "deepnote_cell_type": "code",
    "deepnote_output_heights": [
     21.1875
    ],
    "deepnote_to_be_reexecuted": false,
    "execution_millis": 5,
    "execution_start": 1645029167259,
    "source_hash": "ca1e04e0",
    "tags": []
   },
   "outputs": [
    {
     "data": {
      "text/plain": [
       "tensor([5, 0, 4])"
      ]
     },
     "execution_count": 18,
     "metadata": {},
     "output_type": "execute_result"
    }
   ],
   "source": [
    "training_data.targets[:3]"
   ]
  },
  {
   "cell_type": "code",
   "execution_count": 19,
   "metadata": {
    "cell_id": "30e21834-b9b3-4561-af67-e921fb851af0",
    "deepnote_cell_type": "code",
    "deepnote_to_be_reexecuted": false,
    "execution_millis": 1,
    "execution_start": 1645029265458,
    "source_hash": "e6242156",
    "tags": []
   },
   "outputs": [],
   "source": [
    "from torch.nn.functional import one_hot"
   ]
  },
  {
   "cell_type": "code",
   "execution_count": 20,
   "metadata": {
    "cell_id": "8c76ecb0-767f-4e24-a4b0-d977e0cf9bae",
    "deepnote_cell_type": "code",
    "deepnote_output_heights": [
     59.59375
    ],
    "deepnote_to_be_reexecuted": false,
    "execution_millis": 9,
    "execution_start": 1645029344266,
    "source_hash": "4c1e3560",
    "tags": []
   },
   "outputs": [
    {
     "data": {
      "text/plain": [
       "tensor([[0., 0., 0., 0., 0., 1., 0., 0., 0., 0.],\n",
       "        [1., 0., 0., 0., 0., 0., 0., 0., 0., 0.],\n",
       "        [0., 0., 0., 0., 1., 0., 0., 0., 0., 0.]])"
      ]
     },
     "execution_count": 20,
     "metadata": {},
     "output_type": "execute_result"
    }
   ],
   "source": [
    "one_hot(training_data.targets[:3], num_classes=10).to(torch.float)"
   ]
  },
  {
   "cell_type": "code",
   "execution_count": 21,
   "metadata": {
    "cell_id": "bcb7a5fd-a94a-4d25-84bb-5a07be31f106",
    "deepnote_cell_type": "code",
    "deepnote_to_be_reexecuted": false,
    "execution_millis": 5,
    "execution_start": 1645029381597,
    "source_hash": "3fa7e55c",
    "tags": []
   },
   "outputs": [],
   "source": [
    "y_true = one_hot(training_data.targets, num_classes=10).to(torch.float)"
   ]
  },
  {
   "cell_type": "code",
   "execution_count": 22,
   "metadata": {
    "cell_id": "75d36399-5a32-4560-8671-eece891794ce",
    "deepnote_cell_type": "code",
    "deepnote_output_heights": [
     21.1875
    ],
    "deepnote_to_be_reexecuted": false,
    "execution_millis": 6,
    "execution_start": 1645029390714,
    "source_hash": "b96addef",
    "tags": []
   },
   "outputs": [
    {
     "data": {
      "text/plain": [
       "torch.Size([60000, 10])"
      ]
     },
     "execution_count": 22,
     "metadata": {},
     "output_type": "execute_result"
    }
   ],
   "source": [
    "y_true.shape"
   ]
  },
  {
   "cell_type": "code",
   "execution_count": 23,
   "metadata": {
    "cell_id": "8ded52b8-edf4-4a6f-8749-3c8807984893",
    "deepnote_cell_type": "code",
    "deepnote_to_be_reexecuted": false,
    "execution_millis": 0,
    "execution_start": 1645029444008,
    "source_hash": "851002be",
    "tags": []
   },
   "outputs": [],
   "source": [
    "loss_fn = nn.MSELoss()"
   ]
  },
  {
   "cell_type": "code",
   "execution_count": 24,
   "metadata": {
    "cell_id": "fe8a6f9f-2de1-41d6-9f76-811c5f674b23",
    "deepnote_cell_type": "code",
    "deepnote_output_heights": [
     21.1875
    ],
    "deepnote_to_be_reexecuted": false,
    "execution_millis": 10,
    "execution_start": 1645029463916,
    "source_hash": "1c9066c3",
    "tags": []
   },
   "outputs": [
    {
     "data": {
      "text/plain": [
       "tensor(0.2370, grad_fn=<MseLossBackward0>)"
      ]
     },
     "execution_count": 24,
     "metadata": {},
     "output_type": "execute_result"
    }
   ],
   "source": [
    "loss_fn(y_pred, y_true)"
   ]
  },
  {
   "cell_type": "code",
   "execution_count": 25,
   "metadata": {
    "cell_id": "f954185a-d8a1-457b-b2f1-f70c0782edde",
    "deepnote_cell_type": "code",
    "deepnote_to_be_reexecuted": false,
    "execution_millis": 1,
    "execution_start": 1645029699412,
    "source_hash": "7b1ac3d0",
    "tags": []
   },
   "outputs": [],
   "source": [
    "optimizer = torch.optim.SGD(wed.parameters(), lr=0.1)"
   ]
  },
  {
   "cell_type": "code",
   "execution_count": 26,
   "metadata": {
    "cell_id": "a192dcdc-c9c0-44a6-984e-807e07bd6509",
    "deepnote_cell_type": "code",
    "deepnote_to_be_reexecuted": false,
    "execution_millis": 5,
    "execution_start": 1645029736991,
    "source_hash": "840e062f",
    "tags": []
   },
   "outputs": [
    {
     "name": "stdout",
     "output_type": "stream",
     "text": [
      "None\n",
      "None\n",
      "None\n",
      "None\n",
      "None\n",
      "None\n"
     ]
    }
   ],
   "source": [
    "for p in wed.parameters():\n",
    "    print(p.grad)"
   ]
  },
  {
   "cell_type": "code",
   "execution_count": 27,
   "metadata": {
    "cell_id": "e3a2b290-245c-4868-8a9c-ba91f6ba4ef0",
    "deepnote_cell_type": "code",
    "deepnote_to_be_reexecuted": false,
    "execution_millis": 3,
    "execution_start": 1645029757551,
    "source_hash": "2a393a20",
    "tags": []
   },
   "outputs": [],
   "source": [
    "loss = loss_fn(y_pred, y_true)"
   ]
  },
  {
   "cell_type": "code",
   "execution_count": 28,
   "metadata": {
    "cell_id": "8880f57f-09a3-4a6c-9444-0488e5f88b0e",
    "deepnote_cell_type": "code",
    "deepnote_to_be_reexecuted": false,
    "execution_millis": 5,
    "execution_start": 1645029772049,
    "source_hash": "840e062f",
    "tags": []
   },
   "outputs": [
    {
     "name": "stdout",
     "output_type": "stream",
     "text": [
      "None\n",
      "None\n",
      "None\n",
      "None\n",
      "None\n",
      "None\n"
     ]
    }
   ],
   "source": [
    "for p in wed.parameters():\n",
    "    print(p.grad)"
   ]
  },
  {
   "cell_type": "code",
   "execution_count": 29,
   "metadata": {
    "cell_id": "de1c5ec9-6e6d-46e1-9615-006557c7a833",
    "deepnote_cell_type": "code",
    "deepnote_to_be_reexecuted": false,
    "execution_millis": 73,
    "execution_start": 1645029802373,
    "source_hash": "f4c34168",
    "tags": []
   },
   "outputs": [],
   "source": [
    "loss.backward()"
   ]
  },
  {
   "cell_type": "code",
   "execution_count": 30,
   "metadata": {
    "cell_id": "fb71589f-b590-400e-871f-6c1400561388",
    "deepnote_cell_type": "code",
    "deepnote_to_be_reexecuted": false,
    "execution_millis": 10,
    "execution_start": 1645029828879,
    "source_hash": "840e062f",
    "tags": []
   },
   "outputs": [
    {
     "name": "stdout",
     "output_type": "stream",
     "text": [
      "tensor([[0., 0., 0.,  ..., 0., 0., 0.],\n",
      "        [0., 0., 0.,  ..., 0., 0., 0.],\n",
      "        [0., 0., 0.,  ..., 0., 0., 0.],\n",
      "        ...,\n",
      "        [0., 0., 0.,  ..., 0., 0., 0.],\n",
      "        [0., 0., 0.,  ..., 0., 0., 0.],\n",
      "        [0., 0., 0.,  ..., 0., 0., 0.]])\n",
      "tensor([ 1.9265e-04,  3.3771e-04, -2.6521e-04, -4.0215e-04,  3.1495e-04,\n",
      "        -5.7406e-05,  5.0352e-04, -3.9258e-04, -7.1039e-05,  3.1419e-05,\n",
      "         4.4699e-05,  3.7495e-05, -1.6951e-04, -3.8638e-04,  4.2303e-04,\n",
      "         2.2844e-04])\n",
      "tensor([[ 0.0002,  0.0002,  0.0002,  0.0002,  0.0002,  0.0002,  0.0002,  0.0002,\n",
      "          0.0002,  0.0002,  0.0002,  0.0002,  0.0002,  0.0002,  0.0002,  0.0002],\n",
      "        [ 0.0011,  0.0014,  0.0011,  0.0011,  0.0011,  0.0012,  0.0012,  0.0011,\n",
      "          0.0012,  0.0011,  0.0012,  0.0011,  0.0012,  0.0012,  0.0011,  0.0012],\n",
      "        [ 0.0003,  0.0003,  0.0003,  0.0003,  0.0003,  0.0003,  0.0003,  0.0003,\n",
      "          0.0003,  0.0003,  0.0003,  0.0003,  0.0003,  0.0003,  0.0003,  0.0003],\n",
      "        [-0.0004, -0.0005, -0.0004, -0.0003, -0.0004, -0.0004, -0.0004, -0.0003,\n",
      "         -0.0004, -0.0004, -0.0004, -0.0004, -0.0004, -0.0004, -0.0004, -0.0004],\n",
      "        [ 0.0005,  0.0006,  0.0005,  0.0005,  0.0005,  0.0006,  0.0006,  0.0005,\n",
      "          0.0006,  0.0005,  0.0005,  0.0005,  0.0006,  0.0005,  0.0005,  0.0005],\n",
      "        [ 0.0005,  0.0006,  0.0005,  0.0005,  0.0005,  0.0006,  0.0005,  0.0005,\n",
      "          0.0005,  0.0005,  0.0005,  0.0005,  0.0006,  0.0005,  0.0005,  0.0005],\n",
      "        [-0.0003, -0.0003, -0.0003, -0.0002, -0.0002, -0.0003, -0.0003, -0.0003,\n",
      "         -0.0003, -0.0003, -0.0003, -0.0003, -0.0003, -0.0003, -0.0002, -0.0003],\n",
      "        [-0.0017, -0.0020, -0.0017, -0.0016, -0.0017, -0.0018, -0.0017, -0.0016,\n",
      "         -0.0018, -0.0016, -0.0017, -0.0016, -0.0018, -0.0017, -0.0016, -0.0018],\n",
      "        [-0.0012, -0.0015, -0.0012, -0.0012, -0.0013, -0.0013, -0.0013, -0.0012,\n",
      "         -0.0013, -0.0012, -0.0013, -0.0012, -0.0013, -0.0013, -0.0012, -0.0013],\n",
      "        [-0.0012, -0.0015, -0.0013, -0.0012, -0.0013, -0.0013, -0.0013, -0.0012,\n",
      "         -0.0013, -0.0012, -0.0013, -0.0012, -0.0013, -0.0013, -0.0012, -0.0013],\n",
      "        [ 0.0020,  0.0023,  0.0020,  0.0019,  0.0020,  0.0021,  0.0020,  0.0019,\n",
      "          0.0021,  0.0019,  0.0020,  0.0019,  0.0021,  0.0020,  0.0019,  0.0021],\n",
      "        [ 0.0001,  0.0001,  0.0001,  0.0001,  0.0001,  0.0001,  0.0001,  0.0001,\n",
      "          0.0001,  0.0001,  0.0001,  0.0001,  0.0001,  0.0001,  0.0001,  0.0001],\n",
      "        [-0.0014, -0.0016, -0.0014, -0.0013, -0.0014, -0.0015, -0.0014, -0.0013,\n",
      "         -0.0014, -0.0013, -0.0014, -0.0014, -0.0015, -0.0014, -0.0013, -0.0014],\n",
      "        [ 0.0011,  0.0013,  0.0011,  0.0011,  0.0011,  0.0012,  0.0012,  0.0011,\n",
      "          0.0012,  0.0011,  0.0011,  0.0011,  0.0012,  0.0012,  0.0011,  0.0012],\n",
      "        [-0.0015, -0.0018, -0.0015, -0.0014, -0.0016, -0.0016, -0.0016, -0.0015,\n",
      "         -0.0016, -0.0015, -0.0016, -0.0015, -0.0016, -0.0016, -0.0015, -0.0016],\n",
      "        [ 0.0009,  0.0011,  0.0009,  0.0009,  0.0010,  0.0010,  0.0010,  0.0009,\n",
      "          0.0010,  0.0009,  0.0010,  0.0009,  0.0010,  0.0010,  0.0009,  0.0010]])\n",
      "tensor([ 0.0004,  0.0023,  0.0006, -0.0008,  0.0011,  0.0011, -0.0005, -0.0034,\n",
      "        -0.0025, -0.0025,  0.0040,  0.0002, -0.0028,  0.0023, -0.0031,  0.0019])\n",
      "tensor([[0.0129, 0.0102, 0.0149, 0.0118, 0.0121, 0.0107, 0.0138, 0.0104, 0.0142,\n",
      "         0.0105, 0.0120, 0.0158, 0.0084, 0.0159, 0.0135, 0.0107],\n",
      "        [0.0079, 0.0062, 0.0092, 0.0072, 0.0074, 0.0066, 0.0085, 0.0063, 0.0086,\n",
      "         0.0064, 0.0073, 0.0097, 0.0051, 0.0097, 0.0083, 0.0065],\n",
      "        [0.0065, 0.0051, 0.0075, 0.0059, 0.0061, 0.0054, 0.0069, 0.0052, 0.0071,\n",
      "         0.0053, 0.0060, 0.0080, 0.0042, 0.0080, 0.0068, 0.0053],\n",
      "        [0.0093, 0.0073, 0.0108, 0.0085, 0.0087, 0.0077, 0.0099, 0.0075, 0.0102,\n",
      "         0.0076, 0.0086, 0.0114, 0.0060, 0.0114, 0.0098, 0.0077],\n",
      "        [0.0105, 0.0083, 0.0122, 0.0096, 0.0099, 0.0087, 0.0112, 0.0084, 0.0115,\n",
      "         0.0086, 0.0097, 0.0129, 0.0068, 0.0130, 0.0110, 0.0087],\n",
      "        [0.0092, 0.0073, 0.0107, 0.0084, 0.0086, 0.0077, 0.0098, 0.0074, 0.0101,\n",
      "         0.0075, 0.0085, 0.0113, 0.0060, 0.0113, 0.0097, 0.0076],\n",
      "        [0.0089, 0.0070, 0.0103, 0.0081, 0.0083, 0.0074, 0.0095, 0.0071, 0.0098,\n",
      "         0.0073, 0.0082, 0.0109, 0.0058, 0.0110, 0.0093, 0.0073],\n",
      "        [0.0129, 0.0102, 0.0150, 0.0118, 0.0122, 0.0107, 0.0138, 0.0104, 0.0142,\n",
      "         0.0105, 0.0120, 0.0158, 0.0084, 0.0159, 0.0136, 0.0107],\n",
      "        [0.0103, 0.0081, 0.0119, 0.0094, 0.0096, 0.0085, 0.0110, 0.0083, 0.0112,\n",
      "         0.0084, 0.0095, 0.0126, 0.0067, 0.0127, 0.0108, 0.0085],\n",
      "        [0.0107, 0.0085, 0.0124, 0.0098, 0.0101, 0.0089, 0.0115, 0.0086, 0.0117,\n",
      "         0.0087, 0.0099, 0.0131, 0.0070, 0.0132, 0.0113, 0.0088]])\n",
      "tensor([0.0239, 0.0147, 0.0120, 0.0173, 0.0195, 0.0171, 0.0165, 0.0240, 0.0191,\n",
      "        0.0199])\n"
     ]
    }
   ],
   "source": [
    "for p in wed.parameters():\n",
    "    print(p.grad)"
   ]
  },
  {
   "cell_type": "code",
   "execution_count": 31,
   "metadata": {
    "cell_id": "95a66aff-99bf-4402-aa55-352b0a024662",
    "deepnote_cell_type": "code",
    "deepnote_to_be_reexecuted": false,
    "execution_millis": 3,
    "execution_start": 1645029864947,
    "source_hash": "8a03d43",
    "tags": []
   },
   "outputs": [],
   "source": [
    "optimizer.step()"
   ]
  },
  {
   "cell_type": "code",
   "execution_count": 32,
   "metadata": {
    "cell_id": "0c118ca0-a98b-4c2a-bd7c-2ddf9070aace",
    "deepnote_cell_type": "code",
    "deepnote_output_heights": [
     117.171875
    ],
    "deepnote_to_be_reexecuted": false,
    "execution_millis": 290,
    "execution_start": 1645029904666,
    "source_hash": "5cbda2e8",
    "tags": []
   },
   "outputs": [
    {
     "data": {
      "text/plain": [
       "tensor([[0.5912, 0.4126, 0.3577, 0.4470, 0.4855, 0.4350, 0.4320, 0.6040, 0.4763,\n",
       "         0.4952],\n",
       "        [0.5909, 0.4120, 0.3594, 0.4476, 0.4868, 0.4348, 0.4330, 0.6054, 0.4754,\n",
       "         0.4960],\n",
       "        [0.5924, 0.4140, 0.3587, 0.4477, 0.4849, 0.4347, 0.4319, 0.6020, 0.4791,\n",
       "         0.4952]], grad_fn=<SliceBackward0>)"
      ]
     },
     "execution_count": 32,
     "metadata": {},
     "output_type": "execute_result"
    }
   ],
   "source": [
    "wed(training_data.data)[:3]"
   ]
  },
  {
   "cell_type": "code",
   "execution_count": 33,
   "metadata": {
    "cell_id": "9f20bf91-15c8-4920-92f7-64d8efb869f0",
    "deepnote_cell_type": "code",
    "deepnote_to_be_reexecuted": false,
    "execution_millis": 2676,
    "execution_start": 1645030099505,
    "source_hash": "45454d0c",
    "tags": []
   },
   "outputs": [
    {
     "name": "stdout",
     "output_type": "stream",
     "text": [
      "tensor(0.2351, grad_fn=<MseLossBackward0>)\n",
      "tensor(0.2332, grad_fn=<MseLossBackward0>)\n"
     ]
    },
    {
     "name": "stdout",
     "output_type": "stream",
     "text": [
      "tensor(0.2313, grad_fn=<MseLossBackward0>)\n",
      "tensor(0.2294, grad_fn=<MseLossBackward0>)\n"
     ]
    },
    {
     "name": "stdout",
     "output_type": "stream",
     "text": [
      "tensor(0.2276, grad_fn=<MseLossBackward0>)\n",
      "tensor(0.2258, grad_fn=<MseLossBackward0>)\n"
     ]
    },
    {
     "name": "stdout",
     "output_type": "stream",
     "text": [
      "tensor(0.2240, grad_fn=<MseLossBackward0>)\n",
      "tensor(0.2222, grad_fn=<MseLossBackward0>)\n"
     ]
    },
    {
     "name": "stdout",
     "output_type": "stream",
     "text": [
      "tensor(0.2205, grad_fn=<MseLossBackward0>)\n",
      "tensor(0.2188, grad_fn=<MseLossBackward0>)\n"
     ]
    }
   ],
   "source": [
    "epochs = 10\n",
    "\n",
    "for i in range(epochs):\n",
    "    y_true = one_hot(training_data.targets, num_classes=10).to(torch.float)\n",
    "    y_pred = wed(training_data.data)\n",
    "    loss = loss_fn(y_true,y_pred)\n",
    "    optimizer.zero_grad()\n",
    "    loss.backward()\n",
    "    optimizer.step()\n",
    "    print(loss)"
   ]
  },
  {
   "cell_type": "code",
   "execution_count": 34,
   "metadata": {
    "cell_id": "e0d737f6-37a8-4e6b-8d40-2aae30106986",
    "deepnote_cell_type": "code",
    "deepnote_to_be_reexecuted": false,
    "execution_millis": 25992,
    "execution_start": 1645030307420,
    "source_hash": "c2edfe7a",
    "tags": [
     "output_scroll"
    ]
   },
   "outputs": [
    {
     "name": "stdout",
     "output_type": "stream",
     "text": [
      "tensor(0.2171, grad_fn=<MseLossBackward0>)\n"
     ]
    },
    {
     "name": "stdout",
     "output_type": "stream",
     "text": [
      "tensor(0.2138, grad_fn=<MseLossBackward0>)\n"
     ]
    },
    {
     "name": "stdout",
     "output_type": "stream",
     "text": [
      "tensor(0.2105, grad_fn=<MseLossBackward0>)\n"
     ]
    },
    {
     "name": "stdout",
     "output_type": "stream",
     "text": [
      "tensor(0.2074, grad_fn=<MseLossBackward0>)\n"
     ]
    },
    {
     "name": "stdout",
     "output_type": "stream",
     "text": [
      "tensor(0.2043, grad_fn=<MseLossBackward0>)\n"
     ]
    },
    {
     "name": "stdout",
     "output_type": "stream",
     "text": [
      "tensor(0.2013, grad_fn=<MseLossBackward0>)\n"
     ]
    },
    {
     "name": "stdout",
     "output_type": "stream",
     "text": [
      "tensor(0.1984, grad_fn=<MseLossBackward0>)\n"
     ]
    },
    {
     "name": "stdout",
     "output_type": "stream",
     "text": [
      "tensor(0.1956, grad_fn=<MseLossBackward0>)\n"
     ]
    },
    {
     "name": "stdout",
     "output_type": "stream",
     "text": [
      "tensor(0.1929, grad_fn=<MseLossBackward0>)\n"
     ]
    },
    {
     "name": "stdout",
     "output_type": "stream",
     "text": [
      "tensor(0.1902, grad_fn=<MseLossBackward0>)\n"
     ]
    },
    {
     "name": "stdout",
     "output_type": "stream",
     "text": [
      "tensor(0.1876, grad_fn=<MseLossBackward0>)\n"
     ]
    },
    {
     "name": "stdout",
     "output_type": "stream",
     "text": [
      "tensor(0.1851, grad_fn=<MseLossBackward0>)\n"
     ]
    },
    {
     "name": "stdout",
     "output_type": "stream",
     "text": [
      "tensor(0.1826, grad_fn=<MseLossBackward0>)\n"
     ]
    },
    {
     "name": "stdout",
     "output_type": "stream",
     "text": [
      "tensor(0.1803, grad_fn=<MseLossBackward0>)\n"
     ]
    },
    {
     "name": "stdout",
     "output_type": "stream",
     "text": [
      "tensor(0.1780, grad_fn=<MseLossBackward0>)\n"
     ]
    },
    {
     "name": "stdout",
     "output_type": "stream",
     "text": [
      "tensor(0.1757, grad_fn=<MseLossBackward0>)\n"
     ]
    },
    {
     "name": "stdout",
     "output_type": "stream",
     "text": [
      "tensor(0.1735, grad_fn=<MseLossBackward0>)\n"
     ]
    },
    {
     "name": "stdout",
     "output_type": "stream",
     "text": [
      "tensor(0.1714, grad_fn=<MseLossBackward0>)\n"
     ]
    },
    {
     "name": "stdout",
     "output_type": "stream",
     "text": [
      "tensor(0.1694, grad_fn=<MseLossBackward0>)\n"
     ]
    },
    {
     "name": "stdout",
     "output_type": "stream",
     "text": [
      "tensor(0.1674, grad_fn=<MseLossBackward0>)\n"
     ]
    },
    {
     "name": "stdout",
     "output_type": "stream",
     "text": [
      "tensor(0.1654, grad_fn=<MseLossBackward0>)\n"
     ]
    },
    {
     "name": "stdout",
     "output_type": "stream",
     "text": [
      "tensor(0.1635, grad_fn=<MseLossBackward0>)\n"
     ]
    },
    {
     "name": "stdout",
     "output_type": "stream",
     "text": [
      "tensor(0.1617, grad_fn=<MseLossBackward0>)\n"
     ]
    },
    {
     "name": "stdout",
     "output_type": "stream",
     "text": [
      "tensor(0.1599, grad_fn=<MseLossBackward0>)\n"
     ]
    },
    {
     "name": "stdout",
     "output_type": "stream",
     "text": [
      "tensor(0.1582, grad_fn=<MseLossBackward0>)\n"
     ]
    },
    {
     "name": "stdout",
     "output_type": "stream",
     "text": [
      "tensor(0.1565, grad_fn=<MseLossBackward0>)\n"
     ]
    },
    {
     "name": "stdout",
     "output_type": "stream",
     "text": [
      "tensor(0.1549, grad_fn=<MseLossBackward0>)\n"
     ]
    },
    {
     "name": "stdout",
     "output_type": "stream",
     "text": [
      "tensor(0.1533, grad_fn=<MseLossBackward0>)\n"
     ]
    },
    {
     "name": "stdout",
     "output_type": "stream",
     "text": [
      "tensor(0.1518, grad_fn=<MseLossBackward0>)\n"
     ]
    },
    {
     "name": "stdout",
     "output_type": "stream",
     "text": [
      "tensor(0.1503, grad_fn=<MseLossBackward0>)\n"
     ]
    },
    {
     "name": "stdout",
     "output_type": "stream",
     "text": [
      "tensor(0.1489, grad_fn=<MseLossBackward0>)\n"
     ]
    },
    {
     "name": "stdout",
     "output_type": "stream",
     "text": [
      "tensor(0.1475, grad_fn=<MseLossBackward0>)\n"
     ]
    },
    {
     "name": "stdout",
     "output_type": "stream",
     "text": [
      "tensor(0.1461, grad_fn=<MseLossBackward0>)\n"
     ]
    },
    {
     "name": "stdout",
     "output_type": "stream",
     "text": [
      "tensor(0.1448, grad_fn=<MseLossBackward0>)\n"
     ]
    },
    {
     "name": "stdout",
     "output_type": "stream",
     "text": [
      "tensor(0.1435, grad_fn=<MseLossBackward0>)\n"
     ]
    },
    {
     "name": "stdout",
     "output_type": "stream",
     "text": [
      "tensor(0.1423, grad_fn=<MseLossBackward0>)\n"
     ]
    },
    {
     "name": "stdout",
     "output_type": "stream",
     "text": [
      "tensor(0.1410, grad_fn=<MseLossBackward0>)\n"
     ]
    },
    {
     "name": "stdout",
     "output_type": "stream",
     "text": [
      "tensor(0.1399, grad_fn=<MseLossBackward0>)\n"
     ]
    },
    {
     "name": "stdout",
     "output_type": "stream",
     "text": [
      "tensor(0.1387, grad_fn=<MseLossBackward0>)\n"
     ]
    },
    {
     "name": "stdout",
     "output_type": "stream",
     "text": [
      "tensor(0.1376, grad_fn=<MseLossBackward0>)\n"
     ]
    },
    {
     "name": "stdout",
     "output_type": "stream",
     "text": [
      "tensor(0.1365, grad_fn=<MseLossBackward0>)\n"
     ]
    },
    {
     "name": "stdout",
     "output_type": "stream",
     "text": [
      "tensor(0.1355, grad_fn=<MseLossBackward0>)\n"
     ]
    },
    {
     "name": "stdout",
     "output_type": "stream",
     "text": [
      "tensor(0.1345, grad_fn=<MseLossBackward0>)\n"
     ]
    },
    {
     "name": "stdout",
     "output_type": "stream",
     "text": [
      "tensor(0.1335, grad_fn=<MseLossBackward0>)\n"
     ]
    },
    {
     "name": "stdout",
     "output_type": "stream",
     "text": [
      "tensor(0.1325, grad_fn=<MseLossBackward0>)\n"
     ]
    },
    {
     "name": "stdout",
     "output_type": "stream",
     "text": [
      "tensor(0.1316, grad_fn=<MseLossBackward0>)\n"
     ]
    },
    {
     "name": "stdout",
     "output_type": "stream",
     "text": [
      "tensor(0.1306, grad_fn=<MseLossBackward0>)\n"
     ]
    },
    {
     "name": "stdout",
     "output_type": "stream",
     "text": [
      "tensor(0.1298, grad_fn=<MseLossBackward0>)\n"
     ]
    },
    {
     "name": "stdout",
     "output_type": "stream",
     "text": [
      "tensor(0.1289, grad_fn=<MseLossBackward0>)\n"
     ]
    },
    {
     "name": "stdout",
     "output_type": "stream",
     "text": [
      "tensor(0.1281, grad_fn=<MseLossBackward0>)\n"
     ]
    }
   ],
   "source": [
    "epochs = 100\n",
    "\n",
    "for i in range(epochs):\n",
    "    y_true = one_hot(training_data.targets, num_classes=10).to(torch.float)\n",
    "    y_pred = wed(training_data.data)\n",
    "    loss = loss_fn(y_true,y_pred)\n",
    "    optimizer.zero_grad()\n",
    "    loss.backward()\n",
    "    optimizer.step()\n",
    "    if i%2 == 0:\n",
    "        print(loss)"
   ]
  },
  {
   "cell_type": "code",
   "execution_count": 35,
   "metadata": {
    "cell_id": "b38d8a40-f353-463e-9bb4-836e81bed260",
    "deepnote_cell_type": "code",
    "deepnote_to_be_reexecuted": false,
    "execution_millis": 0,
    "execution_start": 1645030387319,
    "source_hash": "353affe8",
    "tags": []
   },
   "outputs": [],
   "source": [
    "wed = ThreeBlue()"
   ]
  },
  {
   "cell_type": "code",
   "execution_count": 36,
   "metadata": {
    "cell_id": "fd82a166-4759-4e0c-b899-dbe0cdfb0e9d",
    "deepnote_cell_type": "code",
    "deepnote_to_be_reexecuted": false,
    "execution_millis": 3,
    "execution_start": 1645030352499,
    "source_hash": "85e60caf",
    "tags": []
   },
   "outputs": [],
   "source": [
    "optimizer = torch.optim.SGD(wed.parameters(), lr=500)"
   ]
  },
  {
   "cell_type": "code",
   "execution_count": 37,
   "metadata": {
    "cell_id": "06157912-575a-4d05-86ea-c2c6302bb125",
    "deepnote_cell_type": "code",
    "deepnote_to_be_reexecuted": false,
    "execution_millis": 27074,
    "execution_start": 1645030389949,
    "source_hash": "c2edfe7a",
    "tags": []
   },
   "outputs": [
    {
     "name": "stdout",
     "output_type": "stream",
     "text": [
      "tensor(0.2423, grad_fn=<MseLossBackward0>)\n",
      "tensor(0.1000, grad_fn=<MseLossBackward0>)\n"
     ]
    },
    {
     "name": "stdout",
     "output_type": "stream",
     "text": [
      "tensor(0.1000, grad_fn=<MseLossBackward0>)\n",
      "tensor(0.1000, grad_fn=<MseLossBackward0>)\n"
     ]
    },
    {
     "name": "stdout",
     "output_type": "stream",
     "text": [
      "tensor(0.1000, grad_fn=<MseLossBackward0>)\n",
      "tensor(0.1000, grad_fn=<MseLossBackward0>)\n"
     ]
    },
    {
     "name": "stdout",
     "output_type": "stream",
     "text": [
      "tensor(0.1000, grad_fn=<MseLossBackward0>)\n",
      "tensor(0.1000, grad_fn=<MseLossBackward0>)\n"
     ]
    },
    {
     "name": "stdout",
     "output_type": "stream",
     "text": [
      "tensor(0.1000, grad_fn=<MseLossBackward0>)\n",
      "tensor(0.1000, grad_fn=<MseLossBackward0>)\n"
     ]
    }
   ],
   "source": [
    "epochs = 10\n",
    "\n",
    "for i in range(epochs):\n",
    "    y_true = one_hot(training_data.targets, num_classes=10).to(torch.float)\n",
    "    y_pred = wed(training_data.data)\n",
    "    loss = loss_fn(y_true,y_pred)\n",
    "    optimizer.zero_grad()\n",
    "    loss.backward()\n",
    "    optimizer.step()\n",
    "    print(loss)"
   ]
  }
 ],
 "metadata": {
  "deepnote": {
   "is_reactive": false
  },
  "deepnote_execution_queue": [],
  "deepnote_notebook_id": "f0dba5ce-bbc0-4257-b9ae-422593313087",
  "kernelspec": {
   "display_name": "Python 3 (ipykernel)",
   "language": "python",
   "name": "python3"
  },
  "language_info": {
   "codemirror_mode": {
    "name": "ipython",
    "version": 3
   },
   "file_extension": ".py",
   "mimetype": "text/x-python",
   "name": "python",
   "nbconvert_exporter": "python",
   "pygments_lexer": "ipython3",
   "version": "3.8.12"
  }
 },
 "nbformat": 4,
 "nbformat_minor": 4
}