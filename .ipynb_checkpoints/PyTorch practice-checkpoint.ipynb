{
 "cells": [
  {
   "cell_type": "code",
   "execution_count": null,
   "id": "03384ad3",
   "metadata": {},
   "outputs": [],
   "source": [
    "import torch\n",
    "import torch.nn as nn\n",
    "import torch.optim as optim"
   ]
  },
  {
   "cell_type": "code",
   "execution_count": null,
   "id": "5d7c569c",
   "metadata": {},
   "outputs": [],
   "source": [
    "net = nn.Linear(1, 1)  # 1. Build a computation graph (a line!)\n",
    "optimizer = optim.SGD(net.parameters(), lr=0.1)  # 2. Setup optimizers\n",
    "criterion = nn.MSELoss()  # 3. Setup criterion\n",
    "x, target = torch.randn((1,)), torch.tensor([0.])  # 4. Setup data"
   ]
  }
 ],
 "metadata": {
  "kernelspec": {
   "display_name": "Python (math10)",
   "language": "python",
   "name": "math10"
  },
  "language_info": {
   "codemirror_mode": {
    "name": "ipython",
    "version": 3
   },
   "file_extension": ".py",
   "mimetype": "text/x-python",
   "name": "python",
   "nbconvert_exporter": "python",
   "pygments_lexer": "ipython3",
   "version": "3.9.7"
  }
 },
 "nbformat": 4,
 "nbformat_minor": 5
}
